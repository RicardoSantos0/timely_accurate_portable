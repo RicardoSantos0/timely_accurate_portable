{
 "cells": [
  {
   "cell_type": "markdown",
   "id": "84eda90e",
   "metadata": {},
   "source": [
    "### Thesis notebook 4.3. - NOVA IMS\n",
    "\n",
    "#### LSTM - Temporal data representation\n",
    "\n",
    "In this notebook, we will finally start our application of temporal representation using LSTMs and bi-directional LSTMs.\n",
    "The argument for the usage of Deep Learning stems from the fact that sequences themselves encode information that can be extracted using Recurrent Neural Networks and, more specifically, Long Short Term Memory Units.\n",
    "\n",
    "#### First Step: Setup a PyTorch environment that enables the use of GPU for training. \n",
    "\n",
    "The following cell wll confirm that the GPU will be the default device to use."
   ]
  },
  {
   "cell_type": "code",
   "execution_count": 14,
   "id": "4f27844c",
   "metadata": {},
   "outputs": [],
   "source": [
    "import torch\n",
    "import pycuda.driver as cuda\n",
    "\n",
    "cuda.init()\n",
    "## Get Id of default device\n",
    "torch.cuda.current_device()\n",
    "# 0\n",
    "cuda.Device(0).name() # '0' is the id of your GPU\n",
    "\n",
    "#set all tensors to gpu\n",
    "torch.set_default_tensor_type('torch.cuda.FloatTensor')"
   ]
  },
  {
   "cell_type": "markdown",
   "id": "0d95429e",
   "metadata": {},
   "source": [
    "#### Second Step: Import the relevant packages and declare global variables"
   ]
  },
  {
   "cell_type": "code",
   "execution_count": 15,
   "id": "e6c2d97f",
   "metadata": {},
   "outputs": [],
   "source": [
    "#import necessary modules/libraries\n",
    "import numpy as np\n",
    "import scipy\n",
    "import pandas as pd\n",
    "import datetime as dt\n",
    "import warnings\n",
    "import time\n",
    "\n",
    "#tqdm to monitor progress\n",
    "from tqdm.notebook import tqdm, trange\n",
    "tqdm.pandas(desc=\"Progress\")\n",
    "\n",
    "#time related features\n",
    "from datetime import timedelta\n",
    "from copy import copy, deepcopy\n",
    "\n",
    "#vizualization\n",
    "import matplotlib.pyplot as plt\n",
    "import seaborn as sns\n",
    "\n",
    "#imblearn, scalers, kfold and metrics\n",
    "from imblearn.over_sampling import SMOTE\n",
    "from sklearn.preprocessing import MinMaxScaler, StandardScaler, RobustScaler, QuantileTransformer,PowerTransformer\n",
    "from sklearn.model_selection import train_test_split, KFold, StratifiedKFold, cross_val_score, GridSearchCV\n",
    "from sklearn.metrics import confusion_matrix, accuracy_score, precision_score, recall_score, f1_score, roc_auc_score, roc_curve, recall_score, classification_report, average_precision_score, precision_recall_curve\n",
    "\n",
    "#import torch related\n",
    "import torch.nn as nn\n",
    "from torch.nn import functional as F\n",
    "from torch.autograd import Variable \n",
    "from torch.utils.data import TensorDataset, DataLoader\n",
    "from torch.utils.data.sampler import SubsetRandomSampler\n",
    "\n",
    "\n",
    "#and optimizer of learning rate\n",
    "from torch.optim.lr_scheduler import ReduceLROnPlateau\n",
    "\n",
    "#import pytorch modules\n",
    "warnings.filterwarnings('ignore')"
   ]
  },
  {
   "cell_type": "code",
   "execution_count": 16,
   "id": "c6c3f1fb",
   "metadata": {},
   "outputs": [],
   "source": [
    "#global variables that may come in handy\n",
    "#course threshold sets the % duration that will be considered (1 = 100%)\n",
    "duration_threshold = [0.1, 0.25, 0.33, 0.5, 1]\n",
    "\n",
    "#colors for vizualizations\n",
    "nova_ims_colors = ['#BFD72F', '#5C666C']\n",
    "\n",
    "#standard color for student aggregates\n",
    "student_color = '#474838'\n",
    "\n",
    "#standard color for course aggragates\n",
    "course_color = '#1B3D2F'\n",
    "\n",
    "#standard continuous colormap\n",
    "standard_cmap = 'viridis_r'\n",
    "\n",
    "#Function designed to deal with multiindex and flatten it\n",
    "def flattenHierarchicalCol(col,sep = '_'):\n",
    "    '''converts multiindex columns into single index columns while retaining the hierarchical components'''\n",
    "    if not type(col) is tuple:\n",
    "        return col\n",
    "    else:\n",
    "        new_col = ''\n",
    "        for leveli,level in enumerate(col):\n",
    "            if not level == '':\n",
    "                if not leveli == 0:\n",
    "                    new_col += sep\n",
    "                new_col += level\n",
    "        return new_col\n",
    "    \n",
    "#number of replicas - number of repeats of stratified k fold - in this case 10\n",
    "replicas = 1\n",
    "\n",
    "#names to display on result figures\n",
    "date_names = {\n",
    "             'Date_threshold_10': '10% of Course Duration',   \n",
    "             'Date_threshold_25': '25% of Course Duration', \n",
    "             'Date_threshold_33': '33% of Course Duration', \n",
    "             'Date_threshold_50': '50% of Course Duration', \n",
    "             'Date_threshold_100':'100% of Course Duration', \n",
    "            }\n",
    "\n",
    "target_names = {\n",
    "                'exam_fail' : 'At risk - Exam Grade',\n",
    "                'final_fail' : 'At risk - Final Grade', \n",
    "                'exam_gifted' : 'High performer - Exam Grade', \n",
    "                'final_gifted': 'High performer - Final Grade'\n",
    "                }\n",
    "\n",
    "#targets\n",
    "targets = ['exam_fail' , 'final_fail' , 'exam_gifted' , 'final_gifted']\n",
    "temporal_columns = ['0 to 4%', '4 to 8%', '8 to 12%', '12 to 16%', '16 to 20%', '20 to 24%',\n",
    "       '24 to 28%', '28 to 32%', '32 to 36%', '36 to 40%', '40 to 44%',\n",
    "       '44 to 48%', '48 to 52%', '52 to 56%', '56 to 60%', '60 to 64%',\n",
    "       '64 to 68%', '68 to 72%', '72 to 76%', '76 to 80%', '80 to 84%',\n",
    "       '84 to 88%', '88 to 92%', '92 to 96%', '96 to 100%']"
   ]
  },
  {
   "cell_type": "markdown",
   "id": "60c5ddb6",
   "metadata": {},
   "source": [
    "#### Step 3: Import data and take a preliminary look at it "
   ]
  },
  {
   "cell_type": "code",
   "execution_count": 17,
   "id": "d8a23ea6",
   "metadata": {},
   "outputs": [],
   "source": [
    "#imports dataframes\n",
    "course_programs = pd.read_excel(\"../Data/Modeling Stage/Nova_IMS_Temporal_Datasets_25_splits.xlsx\", \n",
    "                                dtype = {\n",
    "                                    'course_encoding' : int,\n",
    "                                    'userid' : int},\n",
    "                               sheet_name = None)\n",
    "\n",
    "#save tables \n",
    "student_list = pd.read_csv('../Data/Modeling Stage/Nova_IMS_Filtered_targets.csv', \n",
    "                         dtype = {\n",
    "                                   'course_encoding': int,\n",
    "                                   'userid' : int,\n",
    "                                   })\n",
    "\n",
    "#drop unnamed 0 column\n",
    "for i in course_programs:\n",
    "        \n",
    "    #merge with the targets we calculated on the other \n",
    "    course_programs[i] = course_programs[i].merge(student_list, on = ['course_encoding', 'userid'], how = 'inner')\n",
    "    course_programs[i].drop(['Unnamed: 0', 'exam_mark', 'final_mark'], axis = 1, inplace = True)\n",
    "    \n",
    "    #convert results to object\n",
    "    course_programs[i]['course_encoding'], course_programs[i]['userid'] = course_programs[i]['course_encoding'].astype(object), course_programs[i]['userid'].astype(object)"
   ]
  },
  {
   "cell_type": "code",
   "execution_count": 18,
   "id": "7bc3c84f",
   "metadata": {},
   "outputs": [
    {
     "name": "stdout",
     "output_type": "stream",
     "text": [
      "<class 'pandas.core.frame.DataFrame'>\n",
      "Int64Index: 9296 entries, 0 to 9295\n",
      "Data columns (total 31 columns):\n",
      " #   Column           Non-Null Count  Dtype \n",
      "---  ------           --------------  ----- \n",
      " 0   course_encoding  9296 non-null   object\n",
      " 1   userid           9296 non-null   object\n",
      " 2   0 to 4%          9296 non-null   int64 \n",
      " 3   4 to 8%          9296 non-null   int64 \n",
      " 4   8 to 12%         9296 non-null   int64 \n",
      " 5   12 to 16%        9296 non-null   int64 \n",
      " 6   16 to 20%        9296 non-null   int64 \n",
      " 7   20 to 24%        9296 non-null   int64 \n",
      " 8   24 to 28%        9296 non-null   int64 \n",
      " 9   28 to 32%        9296 non-null   int64 \n",
      " 10  32 to 36%        9296 non-null   int64 \n",
      " 11  36 to 40%        9296 non-null   int64 \n",
      " 12  40 to 44%        9296 non-null   int64 \n",
      " 13  44 to 48%        9296 non-null   int64 \n",
      " 14  48 to 52%        9296 non-null   int64 \n",
      " 15  52 to 56%        9296 non-null   int64 \n",
      " 16  56 to 60%        9296 non-null   int64 \n",
      " 17  60 to 64%        9296 non-null   int64 \n",
      " 18  64 to 68%        9296 non-null   int64 \n",
      " 19  68 to 72%        9296 non-null   int64 \n",
      " 20  72 to 76%        9296 non-null   int64 \n",
      " 21  76 to 80%        9296 non-null   int64 \n",
      " 22  80 to 84%        9296 non-null   int64 \n",
      " 23  84 to 88%        9296 non-null   int64 \n",
      " 24  88 to 92%        9296 non-null   int64 \n",
      " 25  92 to 96%        9296 non-null   int64 \n",
      " 26  96 to 100%       9296 non-null   int64 \n",
      " 27  exam_fail        9296 non-null   int64 \n",
      " 28  final_fail       9296 non-null   int64 \n",
      " 29  exam_gifted      9296 non-null   int64 \n",
      " 30  final_gifted     9296 non-null   int64 \n",
      "dtypes: int64(29), object(2)\n",
      "memory usage: 2.3+ MB\n"
     ]
    }
   ],
   "source": [
    "course_programs['Date_threshold_100'].info()"
   ]
  },
  {
   "cell_type": "code",
   "execution_count": 19,
   "id": "c4a751ef",
   "metadata": {},
   "outputs": [
    {
     "data": {
      "text/html": [
       "<div>\n",
       "<style scoped>\n",
       "    .dataframe tbody tr th:only-of-type {\n",
       "        vertical-align: middle;\n",
       "    }\n",
       "\n",
       "    .dataframe tbody tr th {\n",
       "        vertical-align: top;\n",
       "    }\n",
       "\n",
       "    .dataframe thead th {\n",
       "        text-align: right;\n",
       "    }\n",
       "</style>\n",
       "<table border=\"1\" class=\"dataframe\">\n",
       "  <thead>\n",
       "    <tr style=\"text-align: right;\">\n",
       "      <th></th>\n",
       "      <th>course_encoding</th>\n",
       "      <th>userid</th>\n",
       "      <th>0 to 4%</th>\n",
       "      <th>4 to 8%</th>\n",
       "      <th>8 to 12%</th>\n",
       "      <th>12 to 16%</th>\n",
       "      <th>16 to 20%</th>\n",
       "      <th>20 to 24%</th>\n",
       "      <th>24 to 28%</th>\n",
       "      <th>28 to 32%</th>\n",
       "      <th>...</th>\n",
       "      <th>76 to 80%</th>\n",
       "      <th>80 to 84%</th>\n",
       "      <th>84 to 88%</th>\n",
       "      <th>88 to 92%</th>\n",
       "      <th>92 to 96%</th>\n",
       "      <th>96 to 100%</th>\n",
       "      <th>exam_fail</th>\n",
       "      <th>final_fail</th>\n",
       "      <th>exam_gifted</th>\n",
       "      <th>final_gifted</th>\n",
       "    </tr>\n",
       "  </thead>\n",
       "  <tbody>\n",
       "    <tr>\n",
       "      <th>count</th>\n",
       "      <td>9296.0</td>\n",
       "      <td>9296.0</td>\n",
       "      <td>9296.000000</td>\n",
       "      <td>9296.000000</td>\n",
       "      <td>9296.000000</td>\n",
       "      <td>9296.000000</td>\n",
       "      <td>9296.000000</td>\n",
       "      <td>9296.000000</td>\n",
       "      <td>9296.000000</td>\n",
       "      <td>9296.000000</td>\n",
       "      <td>...</td>\n",
       "      <td>9296.000000</td>\n",
       "      <td>9296.000000</td>\n",
       "      <td>9296.000000</td>\n",
       "      <td>9296.000000</td>\n",
       "      <td>9296.000000</td>\n",
       "      <td>9296.0</td>\n",
       "      <td>9296.000000</td>\n",
       "      <td>9296.000000</td>\n",
       "      <td>9296.000000</td>\n",
       "      <td>9296.000000</td>\n",
       "    </tr>\n",
       "    <tr>\n",
       "      <th>unique</th>\n",
       "      <td>138.0</td>\n",
       "      <td>1590.0</td>\n",
       "      <td>NaN</td>\n",
       "      <td>NaN</td>\n",
       "      <td>NaN</td>\n",
       "      <td>NaN</td>\n",
       "      <td>NaN</td>\n",
       "      <td>NaN</td>\n",
       "      <td>NaN</td>\n",
       "      <td>NaN</td>\n",
       "      <td>...</td>\n",
       "      <td>NaN</td>\n",
       "      <td>NaN</td>\n",
       "      <td>NaN</td>\n",
       "      <td>NaN</td>\n",
       "      <td>NaN</td>\n",
       "      <td>NaN</td>\n",
       "      <td>NaN</td>\n",
       "      <td>NaN</td>\n",
       "      <td>NaN</td>\n",
       "      <td>NaN</td>\n",
       "    </tr>\n",
       "    <tr>\n",
       "      <th>top</th>\n",
       "      <td>150.0</td>\n",
       "      <td>3178.0</td>\n",
       "      <td>NaN</td>\n",
       "      <td>NaN</td>\n",
       "      <td>NaN</td>\n",
       "      <td>NaN</td>\n",
       "      <td>NaN</td>\n",
       "      <td>NaN</td>\n",
       "      <td>NaN</td>\n",
       "      <td>NaN</td>\n",
       "      <td>...</td>\n",
       "      <td>NaN</td>\n",
       "      <td>NaN</td>\n",
       "      <td>NaN</td>\n",
       "      <td>NaN</td>\n",
       "      <td>NaN</td>\n",
       "      <td>NaN</td>\n",
       "      <td>NaN</td>\n",
       "      <td>NaN</td>\n",
       "      <td>NaN</td>\n",
       "      <td>NaN</td>\n",
       "    </tr>\n",
       "    <tr>\n",
       "      <th>freq</th>\n",
       "      <td>178.0</td>\n",
       "      <td>14.0</td>\n",
       "      <td>NaN</td>\n",
       "      <td>NaN</td>\n",
       "      <td>NaN</td>\n",
       "      <td>NaN</td>\n",
       "      <td>NaN</td>\n",
       "      <td>NaN</td>\n",
       "      <td>NaN</td>\n",
       "      <td>NaN</td>\n",
       "      <td>...</td>\n",
       "      <td>NaN</td>\n",
       "      <td>NaN</td>\n",
       "      <td>NaN</td>\n",
       "      <td>NaN</td>\n",
       "      <td>NaN</td>\n",
       "      <td>NaN</td>\n",
       "      <td>NaN</td>\n",
       "      <td>NaN</td>\n",
       "      <td>NaN</td>\n",
       "      <td>NaN</td>\n",
       "    </tr>\n",
       "    <tr>\n",
       "      <th>mean</th>\n",
       "      <td>NaN</td>\n",
       "      <td>NaN</td>\n",
       "      <td>1.081863</td>\n",
       "      <td>8.307874</td>\n",
       "      <td>10.752797</td>\n",
       "      <td>11.193739</td>\n",
       "      <td>10.127797</td>\n",
       "      <td>8.966652</td>\n",
       "      <td>10.545396</td>\n",
       "      <td>11.445245</td>\n",
       "      <td>...</td>\n",
       "      <td>11.718051</td>\n",
       "      <td>13.136403</td>\n",
       "      <td>22.827883</td>\n",
       "      <td>27.341007</td>\n",
       "      <td>12.599613</td>\n",
       "      <td>0.0</td>\n",
       "      <td>0.201377</td>\n",
       "      <td>0.149957</td>\n",
       "      <td>0.276893</td>\n",
       "      <td>0.308090</td>\n",
       "    </tr>\n",
       "    <tr>\n",
       "      <th>std</th>\n",
       "      <td>NaN</td>\n",
       "      <td>NaN</td>\n",
       "      <td>3.526351</td>\n",
       "      <td>13.580025</td>\n",
       "      <td>13.626754</td>\n",
       "      <td>16.400023</td>\n",
       "      <td>14.291254</td>\n",
       "      <td>12.180177</td>\n",
       "      <td>13.507892</td>\n",
       "      <td>15.932226</td>\n",
       "      <td>...</td>\n",
       "      <td>28.186874</td>\n",
       "      <td>36.690068</td>\n",
       "      <td>47.158607</td>\n",
       "      <td>54.963959</td>\n",
       "      <td>35.194597</td>\n",
       "      <td>0.0</td>\n",
       "      <td>0.401051</td>\n",
       "      <td>0.357048</td>\n",
       "      <td>0.447487</td>\n",
       "      <td>0.461729</td>\n",
       "    </tr>\n",
       "    <tr>\n",
       "      <th>min</th>\n",
       "      <td>NaN</td>\n",
       "      <td>NaN</td>\n",
       "      <td>0.000000</td>\n",
       "      <td>0.000000</td>\n",
       "      <td>0.000000</td>\n",
       "      <td>0.000000</td>\n",
       "      <td>0.000000</td>\n",
       "      <td>0.000000</td>\n",
       "      <td>0.000000</td>\n",
       "      <td>0.000000</td>\n",
       "      <td>...</td>\n",
       "      <td>0.000000</td>\n",
       "      <td>0.000000</td>\n",
       "      <td>0.000000</td>\n",
       "      <td>0.000000</td>\n",
       "      <td>0.000000</td>\n",
       "      <td>0.0</td>\n",
       "      <td>0.000000</td>\n",
       "      <td>0.000000</td>\n",
       "      <td>0.000000</td>\n",
       "      <td>0.000000</td>\n",
       "    </tr>\n",
       "    <tr>\n",
       "      <th>25%</th>\n",
       "      <td>NaN</td>\n",
       "      <td>NaN</td>\n",
       "      <td>0.000000</td>\n",
       "      <td>0.000000</td>\n",
       "      <td>1.000000</td>\n",
       "      <td>2.000000</td>\n",
       "      <td>2.000000</td>\n",
       "      <td>1.000000</td>\n",
       "      <td>2.000000</td>\n",
       "      <td>3.000000</td>\n",
       "      <td>...</td>\n",
       "      <td>0.000000</td>\n",
       "      <td>0.000000</td>\n",
       "      <td>0.000000</td>\n",
       "      <td>0.000000</td>\n",
       "      <td>0.000000</td>\n",
       "      <td>0.0</td>\n",
       "      <td>0.000000</td>\n",
       "      <td>0.000000</td>\n",
       "      <td>0.000000</td>\n",
       "      <td>0.000000</td>\n",
       "    </tr>\n",
       "    <tr>\n",
       "      <th>50%</th>\n",
       "      <td>NaN</td>\n",
       "      <td>NaN</td>\n",
       "      <td>0.000000</td>\n",
       "      <td>2.000000</td>\n",
       "      <td>7.000000</td>\n",
       "      <td>7.000000</td>\n",
       "      <td>6.000000</td>\n",
       "      <td>5.000000</td>\n",
       "      <td>7.000000</td>\n",
       "      <td>7.000000</td>\n",
       "      <td>...</td>\n",
       "      <td>2.000000</td>\n",
       "      <td>2.000000</td>\n",
       "      <td>4.000000</td>\n",
       "      <td>2.000000</td>\n",
       "      <td>0.000000</td>\n",
       "      <td>0.0</td>\n",
       "      <td>0.000000</td>\n",
       "      <td>0.000000</td>\n",
       "      <td>0.000000</td>\n",
       "      <td>0.000000</td>\n",
       "    </tr>\n",
       "    <tr>\n",
       "      <th>75%</th>\n",
       "      <td>NaN</td>\n",
       "      <td>NaN</td>\n",
       "      <td>1.000000</td>\n",
       "      <td>12.000000</td>\n",
       "      <td>15.000000</td>\n",
       "      <td>15.000000</td>\n",
       "      <td>13.000000</td>\n",
       "      <td>13.000000</td>\n",
       "      <td>14.000000</td>\n",
       "      <td>14.000000</td>\n",
       "      <td>...</td>\n",
       "      <td>10.000000</td>\n",
       "      <td>10.000000</td>\n",
       "      <td>23.000000</td>\n",
       "      <td>27.000000</td>\n",
       "      <td>5.000000</td>\n",
       "      <td>0.0</td>\n",
       "      <td>0.000000</td>\n",
       "      <td>0.000000</td>\n",
       "      <td>1.000000</td>\n",
       "      <td>1.000000</td>\n",
       "    </tr>\n",
       "    <tr>\n",
       "      <th>max</th>\n",
       "      <td>NaN</td>\n",
       "      <td>NaN</td>\n",
       "      <td>66.000000</td>\n",
       "      <td>269.000000</td>\n",
       "      <td>360.000000</td>\n",
       "      <td>619.000000</td>\n",
       "      <td>315.000000</td>\n",
       "      <td>248.000000</td>\n",
       "      <td>268.000000</td>\n",
       "      <td>237.000000</td>\n",
       "      <td>...</td>\n",
       "      <td>614.000000</td>\n",
       "      <td>1091.000000</td>\n",
       "      <td>604.000000</td>\n",
       "      <td>747.000000</td>\n",
       "      <td>407.000000</td>\n",
       "      <td>0.0</td>\n",
       "      <td>1.000000</td>\n",
       "      <td>1.000000</td>\n",
       "      <td>1.000000</td>\n",
       "      <td>1.000000</td>\n",
       "    </tr>\n",
       "  </tbody>\n",
       "</table>\n",
       "<p>11 rows × 31 columns</p>\n",
       "</div>"
      ],
      "text/plain": [
       "        course_encoding  userid      0 to 4%      4 to 8%     8 to 12%  \\\n",
       "count            9296.0  9296.0  9296.000000  9296.000000  9296.000000   \n",
       "unique            138.0  1590.0          NaN          NaN          NaN   \n",
       "top               150.0  3178.0          NaN          NaN          NaN   \n",
       "freq              178.0    14.0          NaN          NaN          NaN   \n",
       "mean                NaN     NaN     1.081863     8.307874    10.752797   \n",
       "std                 NaN     NaN     3.526351    13.580025    13.626754   \n",
       "min                 NaN     NaN     0.000000     0.000000     0.000000   \n",
       "25%                 NaN     NaN     0.000000     0.000000     1.000000   \n",
       "50%                 NaN     NaN     0.000000     2.000000     7.000000   \n",
       "75%                 NaN     NaN     1.000000    12.000000    15.000000   \n",
       "max                 NaN     NaN    66.000000   269.000000   360.000000   \n",
       "\n",
       "          12 to 16%    16 to 20%    20 to 24%    24 to 28%    28 to 32%  ...  \\\n",
       "count   9296.000000  9296.000000  9296.000000  9296.000000  9296.000000  ...   \n",
       "unique          NaN          NaN          NaN          NaN          NaN  ...   \n",
       "top             NaN          NaN          NaN          NaN          NaN  ...   \n",
       "freq            NaN          NaN          NaN          NaN          NaN  ...   \n",
       "mean      11.193739    10.127797     8.966652    10.545396    11.445245  ...   \n",
       "std       16.400023    14.291254    12.180177    13.507892    15.932226  ...   \n",
       "min        0.000000     0.000000     0.000000     0.000000     0.000000  ...   \n",
       "25%        2.000000     2.000000     1.000000     2.000000     3.000000  ...   \n",
       "50%        7.000000     6.000000     5.000000     7.000000     7.000000  ...   \n",
       "75%       15.000000    13.000000    13.000000    14.000000    14.000000  ...   \n",
       "max      619.000000   315.000000   248.000000   268.000000   237.000000  ...   \n",
       "\n",
       "          76 to 80%    80 to 84%    84 to 88%    88 to 92%    92 to 96%  \\\n",
       "count   9296.000000  9296.000000  9296.000000  9296.000000  9296.000000   \n",
       "unique          NaN          NaN          NaN          NaN          NaN   \n",
       "top             NaN          NaN          NaN          NaN          NaN   \n",
       "freq            NaN          NaN          NaN          NaN          NaN   \n",
       "mean      11.718051    13.136403    22.827883    27.341007    12.599613   \n",
       "std       28.186874    36.690068    47.158607    54.963959    35.194597   \n",
       "min        0.000000     0.000000     0.000000     0.000000     0.000000   \n",
       "25%        0.000000     0.000000     0.000000     0.000000     0.000000   \n",
       "50%        2.000000     2.000000     4.000000     2.000000     0.000000   \n",
       "75%       10.000000    10.000000    23.000000    27.000000     5.000000   \n",
       "max      614.000000  1091.000000   604.000000   747.000000   407.000000   \n",
       "\n",
       "        96 to 100%    exam_fail   final_fail  exam_gifted  final_gifted  \n",
       "count       9296.0  9296.000000  9296.000000  9296.000000   9296.000000  \n",
       "unique         NaN          NaN          NaN          NaN           NaN  \n",
       "top            NaN          NaN          NaN          NaN           NaN  \n",
       "freq           NaN          NaN          NaN          NaN           NaN  \n",
       "mean           0.0     0.201377     0.149957     0.276893      0.308090  \n",
       "std            0.0     0.401051     0.357048     0.447487      0.461729  \n",
       "min            0.0     0.000000     0.000000     0.000000      0.000000  \n",
       "25%            0.0     0.000000     0.000000     0.000000      0.000000  \n",
       "50%            0.0     0.000000     0.000000     0.000000      0.000000  \n",
       "75%            0.0     0.000000     0.000000     1.000000      1.000000  \n",
       "max            0.0     1.000000     1.000000     1.000000      1.000000  \n",
       "\n",
       "[11 rows x 31 columns]"
      ]
     },
     "execution_count": 19,
     "metadata": {},
     "output_type": "execute_result"
    }
   ],
   "source": [
    "course_programs['Date_threshold_100'].describe(include = 'all')"
   ]
  },
  {
   "cell_type": "markdown",
   "id": "c3291817",
   "metadata": {},
   "source": [
    "In our first attempt, we will use the absolute number of clicks made by each student - scaled using standard scaler. \n",
    "Therefore, we can start by immediately placing our course encoding/userid pairings into the index."
   ]
  },
  {
   "cell_type": "code",
   "execution_count": 20,
   "id": "be722ea9",
   "metadata": {},
   "outputs": [],
   "source": [
    "#function for scalers\n",
    "def normalize(dataset,scaler):\n",
    "    \n",
    "    if scaler == 'MinMax':\n",
    "        pt = MinMaxScaler()\n",
    "    elif scaler == 'Standard':\n",
    "        pt = StandardScaler()\n",
    "    elif scaler == 'Robust':\n",
    "        pt = RobustScaler()\n",
    "    elif scaler == 'Quantile':\n",
    "        pt = QuantileTransformer()\n",
    "    else:\n",
    "        pt = PowerTransformer(method='yeo-johnson')\n",
    "    \n",
    "    data = pt.fit_transform(dataset)\n",
    "    \n",
    "    # convert the array back to a dataframe\n",
    "    normalized_df = pd.DataFrame(data,columns=dataset.columns)\n",
    "    return normalized_df  "
   ]
  },
  {
   "cell_type": "code",
   "execution_count": 21,
   "id": "7ea7510e",
   "metadata": {},
   "outputs": [
    {
     "data": {
      "application/vnd.jupyter.widget-view+json": {
       "model_id": "22096ca6618a4e6ab57721c009cd914e",
       "version_major": 2,
       "version_minor": 0
      },
      "text/plain": [
       "  0%|          | 0/5 [00:00<?, ?it/s]"
      ]
     },
     "metadata": {},
     "output_type": "display_data"
    }
   ],
   "source": [
    "#create backup\n",
    "normalized_data = deepcopy(course_programs)\n",
    "\n",
    "#convert index\n",
    "for i in tqdm(normalized_data):\n",
    "    normalized_data[i].set_index(['course_encoding', 'userid'], drop = True, inplace = True)\n",
    "    normalized_data[i].fillna(0, inplace = True)\n",
    "    #Then, apply normalize function to rescale the train columns\n",
    "    normalized_data[i] = normalize(normalized_data[i].filter(temporal_columns),'Standard')\n",
    "    \n",
    "    #and remerge target columns\n",
    "    normalized_data[i][targets] =  deepcopy(course_programs[i][targets])"
   ]
  },
  {
   "cell_type": "markdown",
   "id": "8e4d5475",
   "metadata": {},
   "source": [
    "#### Implementing Cross-Validation with Deep Learning Model\n",
    "\n",
    "1. Start with creating the Train-test Split and make the necessary conversions to torch tensor.\n",
    "\n",
    "In this instance, we will follow-up with on the approach used in Chen & Cui - CrossEntropyLoss with applied over a softmax layer."
   ]
  },
  {
   "cell_type": "code",
   "execution_count": 22,
   "id": "1f6dea21",
   "metadata": {},
   "outputs": [
    {
     "name": "stdout",
     "output_type": "stream",
     "text": [
      "Before reshaping:\n",
      "Training Shape torch.Size([7436, 25]) torch.Size([7436])\n",
      "Testing Shape torch.Size([1860, 25]) torch.Size([1860])\n",
      "\n",
      "After reshaping:\n",
      "Training Shape torch.Size([7436, 25, 1]) torch.Size([7436])\n",
      "Testing Shape torch.Size([1860, 25, 1]) torch.Size([1860])\n"
     ]
    }
   ],
   "source": [
    "test = deepcopy(normalized_data['Date_threshold_100'])\n",
    "\n",
    "#set X and Y columns\n",
    "X = test[test.columns[:25]] #different timesteps\n",
    "y = test[test.columns[-4:]] #the 4 different putative targets\n",
    "\n",
    "\n",
    "#Start with train test split\n",
    "X_train_val, X_test, y_train_val, y_test, = train_test_split(\n",
    "                                    X,\n",
    "                                   y['exam_fail'], #replace when going for multi-target \n",
    "                                   test_size = 0.20,\n",
    "                                   random_state = 15,\n",
    "                                   shuffle=True,\n",
    "                                   stratify = y['exam_fail'] #replace when going for multi-target\n",
    "                                    )\n",
    "\n",
    "# ##second, convert everything to pytorch tensor - we will convert to tensor dataset and \n",
    "X_train_tensors = Variable(torch.Tensor(X_train_val.values))\n",
    "X_test_tensors = Variable(torch.Tensor(X_test.values))\n",
    "\n",
    "y_train_tensors = Variable(torch.Tensor(y_train_val.values))\n",
    "y_test_tensors = Variable(torch.Tensor(y_test.values)) \n",
    "\n",
    "#now, we have a dataset with features\n",
    "print('Before reshaping:')\n",
    "print(\"Training Shape\", X_train_tensors.shape, y_train_tensors.shape)\n",
    "print(\"Testing Shape\", X_test_tensors.shape, y_test_tensors.shape)\n",
    "\n",
    "#reshaping to rows, timestamps, features \n",
    "X_train_tensors = torch.reshape(X_train_tensors,   (X_train_tensors.shape[0], X_train_tensors.shape[1], 1))\n",
    "X_test_tensors = torch.reshape(X_test_tensors,  (X_test_tensors.shape[0], X_test_tensors.shape[1], 1))\n",
    "\n",
    "# y_train_tensors = y_train_tensors[:, None]\n",
    "# y_test_tensors = y_test_tensors[:, None]\n",
    "\n",
    "#repeat for y\n",
    "y_train_tensors = y_train_tensors.type(torch.cuda.LongTensor)\n",
    "y_test_tensors = y_test_tensors.type(torch.cuda.LongTensor)\n",
    "\n",
    "print('\\nAfter reshaping:')\n",
    "print(\"Training Shape\", X_train_tensors.shape, y_train_tensors.shape)\n",
    "print(\"Testing Shape\", X_test_tensors.shape, y_test_tensors.shape)\n",
    "\n",
    "#create dataset\n",
    "dataset = TensorDataset(X_train_tensors, y_train_tensors)"
   ]
  },
  {
   "cell_type": "markdown",
   "id": "25899632",
   "metadata": {},
   "source": [
    "**2. Create the Deep Learning Model**"
   ]
  },
  {
   "cell_type": "code",
   "execution_count": 23,
   "id": "2a16bd5f",
   "metadata": {},
   "outputs": [],
   "source": [
    "class LSTM_Uni(nn.Module):\n",
    "    def __init__(self, num_classes, input_size, hidden_size, num_layers, seq_length):\n",
    "        super(LSTM_Uni, self).__init__()\n",
    "        self.num_classes = num_classes #number of classes\n",
    "        self.num_layers = num_layers #number of layers\n",
    "        self.input_size = input_size #input size\n",
    "        self.hidden_size = hidden_size #hidden state\n",
    "        self.seq_length = seq_length #sequence length\n",
    "\n",
    "        self.lstm = nn.LSTM(input_size=input_size, hidden_size=hidden_size,\n",
    "                          num_layers=num_layers, batch_first = True) #lstm\n",
    "        \n",
    "        self.dropout = nn.Dropout(p = 0.5)\n",
    "    \n",
    "        self.fc = nn.Linear(self.hidden_size, num_classes) #fully connected last layer\n",
    "\n",
    "    def forward(self,x):\n",
    "        h_0 = Variable(torch.zeros(self.num_layers, x.size(0), self.hidden_size)) #hidden state\n",
    "        c_0 = Variable(torch.zeros(self.num_layers, x.size(0), self.hidden_size)) #internal state\n",
    "        \n",
    "        # Propagate input through LSTM\n",
    "        lstm_out, (hn, cn) = self.lstm(x, (h_0, c_0)) #lstm with input, hidden, and internal state\n",
    "\n",
    "        last_output = lstm_out[:, -1]\n",
    "        #we are interested in only keeping the last output\n",
    "        drop_out = self.dropout(last_output)\n",
    "        pre_softmax = self.fc(drop_out) #Final Output - dense\n",
    "        return pre_softmax"
   ]
  },
  {
   "cell_type": "markdown",
   "id": "17c356bd",
   "metadata": {},
   "source": [
    "**3. Define the train and validation Functions**"
   ]
  },
  {
   "cell_type": "code",
   "execution_count": 24,
   "id": "25b29a1d",
   "metadata": {},
   "outputs": [],
   "source": [
    "def train_epoch(model,dataloader,loss_fn,optimizer):\n",
    "    \n",
    "    train_loss,train_correct=0.0,0 \n",
    "    model.train()\n",
    "    for X, labels in dataloader:\n",
    "\n",
    "        optimizer.zero_grad()\n",
    "        output = model(X)\n",
    "        loss = loss_fn(output,labels)\n",
    "        loss.backward()\n",
    "        optimizer.step()\n",
    "        train_loss += loss.item() * X.size(0)\n",
    "        scores, predictions = torch.max(F.log_softmax(output.data), 1)\n",
    "        train_correct += (predictions == labels).sum().item()\n",
    "        \n",
    "    return train_loss,train_correct\n",
    "  \n",
    "def valid_epoch(model,dataloader,loss_fn):\n",
    "    valid_loss, val_correct = 0.0, 0\n",
    "    model.eval()\n",
    "    for X, labels in dataloader:\n",
    "\n",
    "        output = model(X)\n",
    "        loss=loss_fn(output,labels)\n",
    "        valid_loss+=loss.item()*X.size(0)\n",
    "        scores, predictions = torch.max(F.log_softmax(output.data), 1)\n",
    "        val_correct+=(predictions == labels).sum().item()\n",
    "\n",
    "    return valid_loss,val_correct "
   ]
  },
  {
   "cell_type": "markdown",
   "id": "d4543fb3",
   "metadata": {},
   "source": [
    "**4. Define main hyperparameters of the model, including splits**"
   ]
  },
  {
   "cell_type": "code",
   "execution_count": 25,
   "id": "fcbbef20",
   "metadata": {},
   "outputs": [],
   "source": [
    "#Model\n",
    "num_epochs = 50 #100 epochs\n",
    "learning_rate = 0.002 #0.002 lr\n",
    "input_size = 1 #number of features\n",
    "hidden_size = 64 #number of features in hidden state\n",
    "num_layers = 1 #number of stacked lstm layers\n",
    "\n",
    "#Shape of Output as required for SoftMax Classifier\n",
    "num_classes = 2 #output shape\n",
    "\n",
    "batch_size = 2\n",
    "\n",
    "k=10\n",
    "splits= KFold(n_splits=k,shuffle=True,random_state=15)\n",
    "foldperf={}\n",
    "criterion = nn.CrossEntropyLoss()    # cross-entropy for classification"
   ]
  },
  {
   "cell_type": "markdown",
   "id": "28def628",
   "metadata": {},
   "source": [
    "**5. Initialize Model and Train with Cross-Validation**"
   ]
  },
  {
   "cell_type": "code",
   "execution_count": 26,
   "id": "0546f272",
   "metadata": {},
   "outputs": [
    {
     "data": {
      "application/vnd.jupyter.widget-view+json": {
       "model_id": "e7f2455b13c74e38810383944afc1acc",
       "version_major": 2,
       "version_minor": 0
      },
      "text/plain": [
       "0it [00:00, ?it/s]"
      ]
     },
     "metadata": {},
     "output_type": "display_data"
    },
    {
     "name": "stdout",
     "output_type": "stream",
     "text": [
      "Fold 1\n"
     ]
    },
    {
     "data": {
      "application/vnd.jupyter.widget-view+json": {
       "model_id": "625f3115bb724df6af0aa86f99c336ef",
       "version_major": 2,
       "version_minor": 0
      },
      "text/plain": [
       "  0%|          | 0/50 [00:00<?, ?it/s]"
      ]
     },
     "metadata": {},
     "output_type": "display_data"
    },
    {
     "name": "stdout",
     "output_type": "stream",
     "text": [
      "New Best Accuracy found: 81.45%\n",
      "Epoch: 0\n",
      "New Best Accuracy found: 81.72%\n",
      "Epoch: 5\n",
      "New Best Accuracy found: 82.66%\n",
      "Epoch: 6\n",
      "Epoch:10/50 AVG Training Loss:0.464 AVG Validation Loss:0.448 AVG Training Acc 79.98 % AVG Validation Acc 82.39 %\n",
      "New Best Accuracy found: 82.93%\n",
      "Epoch: 11\n",
      "Epoch:20/50 AVG Training Loss:0.432 AVG Validation Loss:0.457 AVG Training Acc 80.95 % AVG Validation Acc 82.12 %\n",
      "Epoch    28: reducing learning rate of group 0 to 2.0000e-04.\n",
      "Epoch:30/50 AVG Training Loss:0.361 AVG Validation Loss:0.547 AVG Training Acc 84.16 % AVG Validation Acc 80.65 %\n",
      "Epoch:40/50 AVG Training Loss:0.316 AVG Validation Loss:0.621 AVG Training Acc 85.83 % AVG Validation Acc 80.24 %\n",
      "Epoch    49: reducing learning rate of group 0 to 2.0000e-05.\n",
      "Epoch:50/50 AVG Training Loss:0.273 AVG Validation Loss:0.696 AVG Training Acc 88.03 % AVG Validation Acc 79.03 %\n",
      "Fold 2\n"
     ]
    },
    {
     "data": {
      "application/vnd.jupyter.widget-view+json": {
       "model_id": "d33cbbf3d5b541b5b4c74e284368e5d0",
       "version_major": 2,
       "version_minor": 0
      },
      "text/plain": [
       "  0%|          | 0/50 [00:00<?, ?it/s]"
      ]
     },
     "metadata": {},
     "output_type": "display_data"
    },
    {
     "name": "stdout",
     "output_type": "stream",
     "text": [
      "Epoch:10/50 AVG Training Loss:0.466 AVG Validation Loss:0.454 AVG Training Acc 80.11 % AVG Validation Acc 80.91 %\n",
      "Epoch:20/50 AVG Training Loss:0.430 AVG Validation Loss:0.454 AVG Training Acc 81.07 % AVG Validation Acc 80.24 %\n",
      "Epoch:30/50 AVG Training Loss:0.392 AVG Validation Loss:0.471 AVG Training Acc 82.83 % AVG Validation Acc 80.11 %\n",
      "Epoch    30: reducing learning rate of group 0 to 2.0000e-04.\n",
      "Epoch:40/50 AVG Training Loss:0.306 AVG Validation Loss:0.562 AVG Training Acc 87.15 % AVG Validation Acc 76.88 %\n",
      "Epoch:50/50 AVG Training Loss:0.272 AVG Validation Loss:0.661 AVG Training Acc 88.61 % AVG Validation Acc 77.28 %\n",
      "Fold 3\n"
     ]
    },
    {
     "data": {
      "application/vnd.jupyter.widget-view+json": {
       "model_id": "e6c87593c91a4de2bb317a06842a6587",
       "version_major": 2,
       "version_minor": 0
      },
      "text/plain": [
       "  0%|          | 0/50 [00:00<?, ?it/s]"
      ]
     },
     "metadata": {},
     "output_type": "display_data"
    },
    {
     "name": "stdout",
     "output_type": "stream",
     "text": [
      "Epoch:10/50 AVG Training Loss:0.461 AVG Validation Loss:0.462 AVG Training Acc 80.32 % AVG Validation Acc 79.70 %\n",
      "Epoch:20/50 AVG Training Loss:0.431 AVG Validation Loss:0.471 AVG Training Acc 81.01 % AVG Validation Acc 79.70 %\n",
      "Epoch    21: reducing learning rate of group 0 to 2.0000e-04.\n",
      "Epoch:30/50 AVG Training Loss:0.374 AVG Validation Loss:0.530 AVG Training Acc 83.41 % AVG Validation Acc 79.17 %\n",
      "Epoch:40/50 AVG Training Loss:0.346 AVG Validation Loss:0.564 AVG Training Acc 84.80 % AVG Validation Acc 78.09 %\n",
      "Epoch    42: reducing learning rate of group 0 to 2.0000e-05.\n",
      "Epoch:50/50 AVG Training Loss:0.330 AVG Validation Loss:0.585 AVG Training Acc 85.76 % AVG Validation Acc 78.09 %\n",
      "Fold 4\n"
     ]
    },
    {
     "data": {
      "application/vnd.jupyter.widget-view+json": {
       "model_id": "b7b97bc038284cbc88e29ffdaf4fddc4",
       "version_major": 2,
       "version_minor": 0
      },
      "text/plain": [
       "  0%|          | 0/50 [00:00<?, ?it/s]"
      ]
     },
     "metadata": {},
     "output_type": "display_data"
    },
    {
     "name": "stdout",
     "output_type": "stream",
     "text": [
      "Epoch:10/50 AVG Training Loss:0.459 AVG Validation Loss:0.492 AVG Training Acc 80.30 % AVG Validation Acc 78.36 %\n",
      "Epoch:20/50 AVG Training Loss:0.424 AVG Validation Loss:0.463 AVG Training Acc 81.56 % AVG Validation Acc 80.24 %\n",
      "Epoch:30/50 AVG Training Loss:0.397 AVG Validation Loss:0.495 AVG Training Acc 82.73 % AVG Validation Acc 78.23 %\n",
      "Epoch    31: reducing learning rate of group 0 to 2.0000e-04.\n",
      "Epoch:40/50 AVG Training Loss:0.298 AVG Validation Loss:0.604 AVG Training Acc 87.46 % AVG Validation Acc 77.02 %\n",
      "Epoch:50/50 AVG Training Loss:0.265 AVG Validation Loss:0.686 AVG Training Acc 89.09 % AVG Validation Acc 77.02 %\n",
      "Fold 5\n"
     ]
    },
    {
     "data": {
      "application/vnd.jupyter.widget-view+json": {
       "model_id": "ea9c898361894237b863f40432068e34",
       "version_major": 2,
       "version_minor": 0
      },
      "text/plain": [
       "  0%|          | 0/50 [00:00<?, ?it/s]"
      ]
     },
     "metadata": {},
     "output_type": "display_data"
    },
    {
     "name": "stdout",
     "output_type": "stream",
     "text": [
      "Epoch:10/50 AVG Training Loss:0.469 AVG Validation Loss:0.471 AVG Training Acc 80.08 % AVG Validation Acc 79.70 %\n",
      "Epoch:20/50 AVG Training Loss:0.441 AVG Validation Loss:0.462 AVG Training Acc 81.11 % AVG Validation Acc 79.97 %\n",
      "Epoch:30/50 AVG Training Loss:0.395 AVG Validation Loss:0.494 AVG Training Acc 82.93 % AVG Validation Acc 78.76 %\n",
      "Epoch    33: reducing learning rate of group 0 to 2.0000e-04.\n",
      "Epoch:40/50 AVG Training Loss:0.296 AVG Validation Loss:0.572 AVG Training Acc 87.61 % AVG Validation Acc 78.23 %\n",
      "Epoch:50/50 AVG Training Loss:0.252 AVG Validation Loss:0.687 AVG Training Acc 89.73 % AVG Validation Acc 76.21 %\n",
      "Fold 6\n"
     ]
    },
    {
     "data": {
      "application/vnd.jupyter.widget-view+json": {
       "model_id": "6f40d8b37c774b6b9cc560fd85a2f801",
       "version_major": 2,
       "version_minor": 0
      },
      "text/plain": [
       "  0%|          | 0/50 [00:00<?, ?it/s]"
      ]
     },
     "metadata": {},
     "output_type": "display_data"
    },
    {
     "name": "stdout",
     "output_type": "stream",
     "text": [
      "New Best Accuracy found: 83.06%\n",
      "Epoch: 6\n",
      "New Best Accuracy found: 83.20%\n",
      "Epoch: 7\n",
      "New Best Accuracy found: 83.33%\n",
      "Epoch: 8\n",
      "Epoch:10/50 AVG Training Loss:0.464 AVG Validation Loss:0.430 AVG Training Acc 79.72 % AVG Validation Acc 82.26 %\n",
      "New Best Accuracy found: 83.47%\n",
      "Epoch: 13\n",
      "Epoch    17: reducing learning rate of group 0 to 2.0000e-04.\n",
      "Epoch:20/50 AVG Training Loss:0.421 AVG Validation Loss:0.453 AVG Training Acc 82.01 % AVG Validation Acc 82.26 %\n",
      "Epoch:30/50 AVG Training Loss:0.402 AVG Validation Loss:0.471 AVG Training Acc 82.93 % AVG Validation Acc 81.85 %\n",
      "Epoch    38: reducing learning rate of group 0 to 2.0000e-05.\n",
      "Epoch:40/50 AVG Training Loss:0.381 AVG Validation Loss:0.501 AVG Training Acc 83.88 % AVG Validation Acc 80.51 %\n",
      "Epoch:50/50 AVG Training Loss:0.377 AVG Validation Loss:0.499 AVG Training Acc 84.52 % AVG Validation Acc 80.38 %\n",
      "Fold 7\n"
     ]
    },
    {
     "data": {
      "application/vnd.jupyter.widget-view+json": {
       "model_id": "1932197121b540dea16a78946a5575ab",
       "version_major": 2,
       "version_minor": 0
      },
      "text/plain": [
       "  0%|          | 0/50 [00:00<?, ?it/s]"
      ]
     },
     "metadata": {},
     "output_type": "display_data"
    },
    {
     "name": "stdout",
     "output_type": "stream",
     "text": [
      "Epoch:10/50 AVG Training Loss:0.463 AVG Validation Loss:0.482 AVG Training Acc 80.32 % AVG Validation Acc 81.02 %\n",
      "Epoch:20/50 AVG Training Loss:0.433 AVG Validation Loss:0.469 AVG Training Acc 81.08 % AVG Validation Acc 82.50 %\n",
      "Epoch:30/50 AVG Training Loss:0.397 AVG Validation Loss:0.467 AVG Training Acc 82.52 % AVG Validation Acc 81.16 %\n",
      "Epoch    30: reducing learning rate of group 0 to 2.0000e-04.\n",
      "Epoch:40/50 AVG Training Loss:0.328 AVG Validation Loss:0.535 AVG Training Acc 85.90 % AVG Validation Acc 81.70 %\n",
      "Epoch:50/50 AVG Training Loss:0.298 AVG Validation Loss:0.606 AVG Training Acc 88.00 % AVG Validation Acc 78.73 %\n",
      "Fold 8\n"
     ]
    },
    {
     "data": {
      "application/vnd.jupyter.widget-view+json": {
       "model_id": "7b7c0d386f5d407395149060c747e1f3",
       "version_major": 2,
       "version_minor": 0
      },
      "text/plain": [
       "  0%|          | 0/50 [00:00<?, ?it/s]"
      ]
     },
     "metadata": {},
     "output_type": "display_data"
    },
    {
     "name": "stdout",
     "output_type": "stream",
     "text": [
      "Epoch:10/50 AVG Training Loss:0.464 AVG Validation Loss:0.458 AVG Training Acc 80.29 % AVG Validation Acc 81.02 %\n",
      "Epoch:20/50 AVG Training Loss:0.445 AVG Validation Loss:0.450 AVG Training Acc 80.91 % AVG Validation Acc 81.16 %\n",
      "Epoch    28: reducing learning rate of group 0 to 2.0000e-04.\n",
      "Epoch:30/50 AVG Training Loss:0.397 AVG Validation Loss:0.478 AVG Training Acc 82.85 % AVG Validation Acc 79.95 %\n",
      "Epoch:40/50 AVG Training Loss:0.362 AVG Validation Loss:0.504 AVG Training Acc 84.43 % AVG Validation Acc 79.41 %\n",
      "Epoch    49: reducing learning rate of group 0 to 2.0000e-05.\n",
      "Epoch:50/50 AVG Training Loss:0.337 AVG Validation Loss:0.548 AVG Training Acc 86.05 % AVG Validation Acc 79.14 %\n",
      "Fold 9\n"
     ]
    },
    {
     "data": {
      "application/vnd.jupyter.widget-view+json": {
       "model_id": "5d7d3302ef5049aa9ca748939d3a559f",
       "version_major": 2,
       "version_minor": 0
      },
      "text/plain": [
       "  0%|          | 0/50 [00:00<?, ?it/s]"
      ]
     },
     "metadata": {},
     "output_type": "display_data"
    },
    {
     "name": "stdout",
     "output_type": "stream",
     "text": [
      "Epoch:10/50 AVG Training Loss:0.462 AVG Validation Loss:0.473 AVG Training Acc 80.26 % AVG Validation Acc 79.41 %\n",
      "Epoch:20/50 AVG Training Loss:0.437 AVG Validation Loss:0.460 AVG Training Acc 81.34 % AVG Validation Acc 79.27 %\n",
      "Epoch    27: reducing learning rate of group 0 to 2.0000e-04.\n",
      "Epoch:30/50 AVG Training Loss:0.375 AVG Validation Loss:0.504 AVG Training Acc 84.67 % AVG Validation Acc 79.54 %\n",
      "Epoch:40/50 AVG Training Loss:0.343 AVG Validation Loss:0.575 AVG Training Acc 85.96 % AVG Validation Acc 79.41 %\n",
      "Epoch    48: reducing learning rate of group 0 to 2.0000e-05.\n",
      "Epoch:50/50 AVG Training Loss:0.314 AVG Validation Loss:0.642 AVG Training Acc 86.97 % AVG Validation Acc 77.93 %\n",
      "Fold 10\n"
     ]
    },
    {
     "data": {
      "application/vnd.jupyter.widget-view+json": {
       "model_id": "aef0cd392aac4c24afcfda29fcef3f4f",
       "version_major": 2,
       "version_minor": 0
      },
      "text/plain": [
       "  0%|          | 0/50 [00:00<?, ?it/s]"
      ]
     },
     "metadata": {},
     "output_type": "display_data"
    },
    {
     "name": "stdout",
     "output_type": "stream",
     "text": [
      "Epoch:10/50 AVG Training Loss:0.458 AVG Validation Loss:0.512 AVG Training Acc 80.74 % AVG Validation Acc 77.66 %\n",
      "Epoch:20/50 AVG Training Loss:0.422 AVG Validation Loss:0.513 AVG Training Acc 81.65 % AVG Validation Acc 78.73 %\n",
      "Epoch    21: reducing learning rate of group 0 to 2.0000e-04.\n",
      "Epoch:30/50 AVG Training Loss:0.360 AVG Validation Loss:0.598 AVG Training Acc 84.73 % AVG Validation Acc 77.52 %\n",
      "Epoch:40/50 AVG Training Loss:0.329 AVG Validation Loss:0.660 AVG Training Acc 86.00 % AVG Validation Acc 77.12 %\n",
      "Epoch    42: reducing learning rate of group 0 to 2.0000e-05.\n",
      "Epoch:50/50 AVG Training Loss:0.312 AVG Validation Loss:0.679 AVG Training Acc 86.96 % AVG Validation Acc 76.45 %\n"
     ]
    }
   ],
   "source": [
    "best_accuracy = 0\n",
    "for fold, (train_idx,val_idx) in tqdm(enumerate(splits.split(np.arange(len(dataset))))):\n",
    "\n",
    "    print('Fold {}'.format(fold + 1))\n",
    "\n",
    "    train_sampler = SubsetRandomSampler(train_idx)\n",
    "    val_sampler = SubsetRandomSampler(val_idx)\n",
    "    train_loader = DataLoader(dataset, batch_size=batch_size, sampler=train_sampler)\n",
    "    val_loader = DataLoader(dataset, batch_size=batch_size, sampler=val_sampler)\n",
    "    \n",
    "    #creates new model for each \n",
    "    model = LSTM_Uni(num_classes, input_size, hidden_size, num_layers, X_train_tensors.shape[1]).to('cuda') #our lstm class\n",
    "    optimizer = torch.optim.Adam(model.parameters(), lr=learning_rate) \n",
    "    scheduler = ReduceLROnPlateau(optimizer, \n",
    "                                  'min', \n",
    "                                  patience = 10,\n",
    "                                  cooldown = 10,\n",
    "                                 verbose = True)\n",
    "    \n",
    "    history = {'train_loss': [], 'val_loss': [],'train_acc':[],'val_acc':[]}\n",
    "\n",
    "    for epoch in tqdm(range(num_epochs)):\n",
    "        train_loss, train_correct=train_epoch(model,train_loader,criterion,optimizer)\n",
    "        val_loss, val_correct=valid_epoch(model,val_loader,criterion)\n",
    "\n",
    "        train_loss = train_loss / len(train_loader.sampler)\n",
    "        train_acc = train_correct / len(train_loader.sampler) * 100\n",
    "        val_loss = val_loss / len(val_loader.sampler)\n",
    "        val_acc = val_correct / len(val_loader.sampler) * 100\n",
    "        \n",
    "        \n",
    "        if (epoch+1) % 10 == 0: \n",
    "            print(\"Epoch:{}/{} AVG Training Loss:{:.3f} AVG Validation Loss:{:.3f} AVG Training Acc {:.2f} % AVG Validation Acc {:.2f} %\".format(epoch + 1,\n",
    "                                                                                                             num_epochs,\n",
    "                                                                                                             train_loss,\n",
    "                                                                                                             val_loss,\n",
    "                                                                                                             train_acc,\n",
    "                                                                                                             val_acc))\n",
    "        history['train_loss'].append(train_loss)\n",
    "        history['val_loss'].append(val_loss)\n",
    "        history['train_acc'].append(train_acc)\n",
    "        history['val_acc'].append(val_acc)\n",
    "        scheduler.step(val_loss)\n",
    "    \n",
    "        if val_acc > best_accuracy:\n",
    "            \n",
    "            #replace best accuracy and save best model\n",
    "            print(f'New Best Accuracy found: {val_acc:.2f}%\\nEpoch: {epoch + 1}')\n",
    "            best_accuracy = val_acc\n",
    "            best = deepcopy(model)\n",
    "    \n",
    "    foldperf['fold{}'.format(fold+1)] = history  \n",
    "\n",
    "#torch.save(model,f\"../Models/{i}/Nova_IMS_best_{epochs}_epochs_{k}.h\")"
   ]
  },
  {
   "cell_type": "code",
   "execution_count": 32,
   "id": "8bb9c75f",
   "metadata": {},
   "outputs": [
    {
     "name": "stdout",
     "output_type": "stream",
     "text": [
      "Performance of 10 fold cross validation\n",
      "Average Training Loss: 0.400 \t Average Validation Loss: 0.516 \t Average Training Acc: 82.96 \t Average Validation Acc: 79.58\n"
     ]
    }
   ],
   "source": [
    "val_f,tl_f,vala_f,ta_f=[],[],[],[]\n",
    "k=10\n",
    "for f in range(1,k+1):\n",
    "\n",
    "    tl_f.append(np.mean(foldperf['fold{}'.format(f)]['train_loss']))\n",
    "    val_f.append(np.mean(foldperf['fold{}'.format(f)]['val_loss']))\n",
    "\n",
    "    ta_f.append(np.mean(foldperf['fold{}'.format(f)]['train_acc']))\n",
    "    vala_f.append(np.mean(foldperf['fold{}'.format(f)]['val_acc']))\n",
    "\n",
    "print('Performance of {} fold cross validation'.format(k))\n",
    "print(\"Average Training Loss: {:.3f} \\t Average Validation Loss: {:.3f} \\t Average Training Acc: {:.2f} \\t Average Validation Acc: {:.2f}\".format(np.mean(tl_f),np.mean(val_f),np.mean(ta_f),np.mean(vala_f)))  "
   ]
  },
  {
   "cell_type": "markdown",
   "id": "cccff8a6",
   "metadata": {},
   "source": [
    "#### Defining the LSTM Model:"
   ]
  },
  {
   "cell_type": "code",
   "execution_count": 33,
   "id": "1b35fbc0",
   "metadata": {},
   "outputs": [],
   "source": [
    "diz_ep = {'train_loss_ep':[],'val_loss_ep':[],'train_acc_ep':[],'val_acc_ep':[]}\n",
    "\n",
    "for i in range(num_epochs):\n",
    "    diz_ep['train_loss_ep'].append(np.mean([foldperf['fold{}'.format(f+1)]['train_loss'][i] for f in range(k)]))\n",
    "    diz_ep['val_loss_ep'].append(np.mean([foldperf['fold{}'.format(f+1)]['val_loss'][i] for f in range(k)]))\n",
    "    diz_ep['train_acc_ep'].append(np.mean([foldperf['fold{}'.format(f+1)]['train_acc'][i] for f in range(k)]))\n",
    "    diz_ep['val_acc_ep'].append(np.mean([foldperf['fold{}'.format(f+1)]['val_acc'][i] for f in range(k)]))"
   ]
  },
  {
   "cell_type": "code",
   "execution_count": 34,
   "id": "9c5979a0",
   "metadata": {},
   "outputs": [
    {
     "data": {
      "image/png": "[encoded data removed]",
      "text/plain": [
       "<Figure size 1152x720 with 1 Axes>"
      ]
     },
     "metadata": {},
     "output_type": "display_data"
    }
   ],
   "source": [
    "# Plot losses\n",
    "sns.set_theme(context='paper', style='whitegrid', rc={\"figure.figsize\":(16, 10)}, font='Calibri', font_scale=2)\n",
    "plt.semilogy(diz_ep['train_loss_ep'], label='Train')\n",
    "plt.semilogy(diz_ep['val_loss_ep'], label='Validation')\n",
    "plt.xlabel('Epoch')\n",
    "plt.ylabel('Loss')\n",
    "#plt.grid()\n",
    "plt.legend()\n",
    "plt.title(f'Average loss\\n {k} Folds', fontweight = 'bold')\n",
    "plt.show()"
   ]
  },
  {
   "cell_type": "code",
   "execution_count": 37,
   "id": "ee7a05ae",
   "metadata": {},
   "outputs": [
    {
     "data": {
      "image/png": "[encoded data removed]",
      "text/plain": [
       "<Figure size 1152x720 with 1 Axes>"
      ]
     },
     "metadata": {},
     "output_type": "display_data"
    }
   ],
   "source": [
    "# Plot accuracies\n",
    "sns.set_theme(context='paper', style='whitegrid', rc={\"figure.figsize\":(16, 10)}, font='Calibri', font_scale=2)\n",
    "plt.figure()\n",
    "plt.semilogy(diz_ep['train_acc_ep'], label='Train')\n",
    "plt.semilogy(diz_ep['val_acc_ep'], label='Validation')\n",
    "plt.xlabel('Epoch')\n",
    "plt.ylabel('Accuracy (%)')\n",
    "#plt.grid()\n",
    "plt.legend()\n",
    "plt.title(f'Accuracy on Validation Data\\n{k} Folds', fontweight = 'bold')\n",
    "plt.show()"
   ]
  },
  {
   "cell_type": "markdown",
   "id": "840de46f",
   "metadata": {},
   "source": [
    "#### Obtaining results on test data:"
   ]
  },
  {
   "cell_type": "code",
   "execution_count": 38,
   "id": "ba896505",
   "metadata": {},
   "outputs": [
    {
     "name": "stdout",
     "output_type": "stream",
     "text": [
      "              precision    recall  f1-score   support\n",
      "\n",
      "           0       0.82      0.97      0.89      1485\n",
      "           1       0.53      0.14      0.23       375\n",
      "\n",
      "    accuracy                           0.80      1860\n",
      "   macro avg       0.67      0.56      0.56      1860\n",
      "weighted avg       0.76      0.80      0.75      1860\n",
      "\n",
      "[[1437   48]\n",
      " [ 321   54]]\n"
     ]
    }
   ],
   "source": [
    "_, data_predict = torch.max(F.log_softmax(best(X_test_tensors)), 1) #forward pass with calculation of correct class\n",
    "\n",
    "data_predict = data_predict.data.cpu().numpy()\n",
    "dataY_plot = y_test_tensors.data.cpu().numpy()\n",
    "\n",
    "print(classification_report(dataY_plot, data_predict))\n",
    "print(confusion_matrix(dataY_plot, data_predict))"
   ]
  },
  {
   "cell_type": "code",
   "execution_count": null,
   "id": "82ca7e18",
   "metadata": {},
   "outputs": [],
   "source": [
    "history['val_acc']"
   ]
  },
  {
   "cell_type": "code",
   "execution_count": null,
   "id": "990b2c67",
   "metadata": {},
   "outputs": [],
   "source": []
  },
  {
   "cell_type": "code",
   "execution_count": null,
   "id": "73ae20b2",
   "metadata": {},
   "outputs": [],
   "source": []
  },
  {
   "cell_type": "code",
   "execution_count": null,
   "id": "df896c02",
   "metadata": {
    "scrolled": true
   },
   "outputs": [],
   "source": [
    "# Loop over epochs\n",
    "for epoch in tqdm(range(num_epochs)):\n",
    "    print(f\"Epoch {epoch + 1}\\n-------------------------------\")\n",
    "\n",
    "    # Loop over batches in an epoch using DataLoader\n",
    "    for id_batch, (x_batch, y_batch) in enumerate(dataloader):\n",
    "        \n",
    "        y_batch_pred = lstm_uni(x_batch)\n",
    "\n",
    "        loss = criterion(y_batch_pred, y_batch)\n",
    "\n",
    "        optimizer.zero_grad()\n",
    "        loss.backward()\n",
    "        optimizer.step()  \n",
    "    \n",
    "    # Every 100 epochs, print the loss for this batch\n",
    "        # as well as the number of examples processed so far \n",
    "#         if id_batch % 100 == 0:\n",
    "#             loss, current = loss.item(), (id_batch + 1)* len(x_batch)\n",
    "#             print(f\"loss: {loss:>7f}  [{current:>5d}/{dataset_size:>5d}]\")\n",
    "\n"
   ]
  },
  {
   "cell_type": "markdown",
   "id": "0ffd6f2e",
   "metadata": {},
   "source": [
    "The following cells can be treated as training cells, to be used to understand the pytorch arquitecture."
   ]
  },
  {
   "cell_type": "code",
   "execution_count": null,
   "id": "9371f456",
   "metadata": {},
   "outputs": [],
   "source": [
    "data_predict"
   ]
  },
  {
   "cell_type": "code",
   "execution_count": null,
   "id": "b8fe02d2",
   "metadata": {},
   "outputs": [],
   "source": [
    "F.softmax(lstm_uni(X_test_tensors))"
   ]
  },
  {
   "cell_type": "code",
   "execution_count": null,
   "id": "fe79425c",
   "metadata": {},
   "outputs": [],
   "source": [
    "lstm_uni(X_test_tensors)"
   ]
  },
  {
   "cell_type": "code",
   "execution_count": null,
   "id": "884971e8",
   "metadata": {},
   "outputs": [],
   "source": [
    "data_predict"
   ]
  },
  {
   "cell_type": "code",
   "execution_count": null,
   "id": "bab6873a",
   "metadata": {},
   "outputs": [],
   "source": []
  },
  {
   "cell_type": "code",
   "execution_count": null,
   "id": "5b2d0eb3",
   "metadata": {},
   "outputs": [],
   "source": []
  },
  {
   "cell_type": "markdown",
   "id": "71566be2",
   "metadata": {},
   "source": [
    "#### Step 4: Define functions: \n",
    "\n",
    "1. Data Scaling,\n",
    "2. Data training\n",
    "3. Obtention of Results and Figures"
   ]
  },
  {
   "cell_type": "code",
   "execution_count": null,
   "id": "c558aee1",
   "metadata": {},
   "outputs": [],
   "source": [
    "rnn = nn.RNN(input_size=i_size, hidden_size=h_size, num_layers = 1, batch_first=True)"
   ]
  },
  {
   "cell_type": "code",
   "execution_count": null,
   "id": "294c031d",
   "metadata": {},
   "outputs": [],
   "source": [
    "#run desired model\n",
    "def run_model(model_name, X, y):\n",
    "    \n",
    "    ###STANDALONE MODELS\n",
    "        ###Baseline Classifier - most frequent class\n",
    "    if model_name == 'Baseline - Majority Class':\n",
    "        model = DummyClassifier(strategy=\"most_frequent\").fit(X, y)\n",
    "    if model_name == 'LSTM':\n",
    "        '''insert code for LSTM classifier'''\n",
    "    if model_name == 'Bi-directional LSTM':\n",
    "        '''insert code for Bi directional - LSTM classifier'''\n",
    "    return model"
   ]
  },
  {
   "cell_type": "code",
   "execution_count": null,
   "id": "4ef67328",
   "metadata": {},
   "outputs": [],
   "source": [
    "#averages scores of each run (for the present model) in each iteration of Repeated 10-fold CV that has been called\n",
    "def avg_score(method,X,y, model_name):\n",
    "    \n",
    "    f1micro_train = []\n",
    "    f1micro_val = []\n",
    "    precision_train = []\n",
    "    precision_val = []\n",
    "    recall_train = []\n",
    "    recall_val = []\n",
    "    timer = []\n",
    "    cm_holder = []\n",
    "    test_holder = []\n",
    "    averaged_confusion_matrix=None\n",
    "    \n",
    "    for train_index, val_index in method.split(X,y):\n",
    "        X_train, X_val = X.iloc[train_index], X.iloc[val_index]\n",
    "        y_train, y_val = y.iloc[train_index], y.iloc[val_index]\n",
    "        \n",
    "        begin = time.perf_counter()\n",
    "        model = run_model(model_name, X_train, y_train)\n",
    "        end = time.perf_counter()\n",
    "        \n",
    "        labels_train = model.predict(X_train)\n",
    "        labels_val = model.predict(X_val)\n",
    "        \n",
    "        f1micro_train.append(f1_score(y_train, labels_train, average='micro'))\n",
    "        f1micro_val.append(f1_score(y_val, labels_val, average='micro'))\n",
    "        \n",
    "        precision_train.append(precision_score(y_train, labels_train))\n",
    "        precision_val.append(precision_score(y_val, labels_val))\n",
    "        \n",
    "        recall_train.append(recall_score(y_train, labels_train))\n",
    "        recall_val.append(recall_score(y_val, labels_val))\n",
    "        \n",
    "        timer.append(end-begin)\n",
    "        \n",
    "        cm_holder.append(confusion_matrix(y_val, labels_val))\n",
    "        \n",
    "    model = run_model(model_name, X,y)\n",
    "    labels_test = model.predict(X_test)\n",
    "    \n",
    "    f1micro_test = f1_score(y_test, labels_test, average='micro')\n",
    "    precision_test = precision_score(y_test, labels_test)\n",
    "    recall_test = recall_score(y_test, labels_test)\n",
    "    print(f'Classification Report for {model_name}:\\nTest Data\\n{classification_report(y_test, labels_test)}\\n\\n')\n",
    "    \n",
    "    # calculate the average and the std for each measure (accuracy, time and number of iterations)\n",
    "    avg_time = round(np.mean(timer),3)\n",
    "    avg_f1_train = round(np.mean(f1micro_train),3)\n",
    "    avg_f1_val = round(np.mean(f1micro_val),3)\n",
    "    avg_f1_test = round(np.mean(f1micro_test),3)\n",
    "    avg_precision_train = round(np.mean(precision_train),3)\n",
    "    avg_precision_val = round(np.mean(precision_val),3)\n",
    "    avg_precision_test = round(precision_test,3)\n",
    "    avg_recall_train = round(np.mean(recall_train),3)\n",
    "    avg_recall_val = round(np.mean(recall_val),3)\n",
    "    avg_recall_test = round(recall_test,3)\n",
    "    \n",
    "    std_time = round(np.std(timer),3)\n",
    "    std_f1_train = round(np.std(f1micro_train),3)\n",
    "    std_f1_val = round(np.std(f1micro_test),3)\n",
    "    std_precision_train = round(np.std(precision_train),3)\n",
    "    std_precision_val = round(np.std(precision_val),3)\n",
    "    std_recall_train = round(np.std(recall_train),3)\n",
    "    std_recall_val = round(np.std(recall_val),3)\n",
    "    \n",
    "    averaged_confusion_matrix = np.mean(cm_holder, axis = 0).round(2)\n",
    "    \n",
    "    #from sklearn.metrics import cohen_kappa_score\n",
    "    \n",
    "    return str(avg_time) + '+/-' + str(std_time), str(avg_f1_train) + '+/-' + str(std_f1_train), str(avg_f1_val) + '+/-' + str(std_f1_val), str(avg_f1_test), str(avg_precision_train) + '+/-' + str(std_precision_train), str(avg_precision_val) + '+/-' + str(std_precision_val), str(avg_precision_test), str(avg_recall_train) + '+/-' + str(std_recall_train), str(avg_recall_val) + '+/-' + str(std_recall_val), str(avg_recall_test), averaged_confusion_matrix"
   ]
  },
  {
   "cell_type": "code",
   "execution_count": null,
   "id": "26a4b94e",
   "metadata": {},
   "outputs": [],
   "source": [
    "def plt_bar(models, f1micro_train, f1micro_val, f1micro_test, path, date, target):\n",
    "    \n",
    "    sns.set_theme(context='paper', style='whitegrid', font='Calibri', font_scale=2)\n",
    "    \n",
    "    #Creates a figure and a set of subplots\n",
    "    fig, ax = plt.subplots(figsize = (20, 12))\n",
    "\n",
    "    #set width of bar\n",
    "    barwidth = 0.3\n",
    "\n",
    "    #set position of bar on X axis\n",
    "    pos_train = np.arange(len(f1micro_test))\n",
    "    pos_val = np.arange(len(f1micro_test))+0.3\n",
    "    pos_test = np.arange(len(f1micro_test))+0.6\n",
    "    \n",
    "    #convert to number\n",
    "    f1micro_train = [float(i.split('+')[0]) for i in f1micro_train]\n",
    "    f1micro_val = [float(i.split('+')[0]) for i in f1micro_val]\n",
    "    f1micro_test = [float(i.split('+')[0]) for i in f1micro_test]\n",
    "    \n",
    "    #makes the plot\n",
    "    plt.bar(pos_train, f1micro_train, color= nova_ims_colors[0], width=barwidth, edgecolor='white', label='Train')\n",
    "    plt.bar(pos_val, f1micro_val, color=course_color, width=barwidth, edgecolor='white', label='Validation')\n",
    "    plt.bar(pos_test, f1micro_test, color=student_color, width=barwidth, edgecolor='white', label='Test')\n",
    "    \n",
    "    #sets x, y labels\n",
    "    ax.set(xlabel = 'Model', ylabel = 'Accuracy')\n",
    "\n",
    "    #sets x ticks locations and designation\n",
    "    ax.set_xticks((pos_train+pos_val+pos_test)/3)\n",
    "    ax.set_xticklabels(models, rotation='vertical')\n",
    "    \n",
    "    #ads title to the plot\n",
    "    plt.title(f'10-fold Repeated Cross-Validation Results\\nData: {date}, Target:{target}', fontweight=\"bold\")\n",
    "    plt.ylim([0.0, 1.05])\n",
    "    #removes box to make the plot prettier\n",
    "    plt.box(on=None)\n",
    "\n",
    "    #Creates (pretty) legend\n",
    "    plt.legend(frameon=False)\n",
    "    \n",
    "    plt.savefig(path, transparent=True, dpi=300)\n",
    "    plt.close(\"all\")"
   ]
  },
  {
   "cell_type": "code",
   "execution_count": null,
   "id": "1fc3ad74",
   "metadata": {},
   "outputs": [],
   "source": [
    "def plot_roc_pr(models, X, y, path_roc, path_pr, date, target):  \n",
    "    \n",
    "    sns.set_theme(context='paper', style='whitegrid', font='Calibri', font_scale=2)\n",
    "    # Below for loop iterates through your models list\n",
    "    for m in models:\n",
    "        model = m['model']\n",
    "        y_pred=model.predict(X) # predict the test data\n",
    "    #Compute False postive rate, and True positive rate\n",
    "        fpr, tpr, _ = roc_curve(y, model.predict_proba(X)[:,1])\n",
    "    #Calculate AUC\n",
    "        auc = roc_auc_score(y,model.predict_proba(X)[:,1])\n",
    "    #Plot\n",
    "        plt.plot(fpr, tpr, label='%s ROC (area = %0.4f)' % (m['label'], auc))\n",
    "    #Makes it pretty!\n",
    "    #plt.plot([0, 1], [0, 1],'r--')\n",
    "    plt.xlim([0.0, 1.0])\n",
    "    plt.ylim([0.0, 1.05])\n",
    "    plt.xlabel('Specificity (False Positive Rate)', fontweight = 'bold')\n",
    "    plt.ylabel('Sensitivity (True Positive Rate)', fontweight = 'bold')\n",
    "    plt.title(f'ROC Curve Test\\nData: {date}, Target:{target}', fontweight = 'bold')\n",
    "    plt.legend(loc=\"lower right\", frameon=False)\n",
    "    #save fig\n",
    "    plt.savefig(path_roc, transparent=True, dpi=300)\n",
    "    plt.close(\"all\")\n",
    "\n",
    "    \n",
    "    # Below for loop iterates through your models list\n",
    "    for m in models:\n",
    "        model = m['model']\n",
    "        y_pred=model.predict(X) # predict the test data\n",
    "    #Compute Precision and Recall\n",
    "        precision, recall, _ = precision_recall_curve(y, model.predict_proba(X)[:,1])\n",
    "    #Calculate AP\n",
    "        ap = average_precision_score(y, model.predict_proba(X)[:,1])\n",
    "    #Plot\n",
    "        plt.plot(recall, precision, label='%s AP (area = %0.4f)' % (m['label'], ap))\n",
    "    #Makes it pretty!\n",
    "    plt.xlim([-0.05, 1.05])\n",
    "    plt.ylim([0.0, 1.05])\n",
    "    plt.xlabel('Recall (Positive Predictive Value)', fontweight=\"bold\")\n",
    "    plt.ylabel('Precision (True Positive Rate)', fontweight=\"bold\")\n",
    "    plt.title(f'Precision-Recall Curve Test\\nData: {date}, Target:{target}', fontweight=\"bold\")\n",
    "    plt.legend(loc=\"lower left\", frameon=False)\n",
    "    \n",
    "    #save fig\n",
    "    plt.savefig(path_pr, transparent=True, dpi=300)\n",
    "    plt.close(\"all\")"
   ]
  },
  {
   "cell_type": "code",
   "execution_count": null,
   "id": "e70423ba",
   "metadata": {},
   "outputs": [],
   "source": []
  }
 ],
 "metadata": {
  "kernelspec": {
   "display_name": "Python 3 (ipykernel)",
   "language": "python",
   "name": "python3"
  },
  "language_info": {
   "codemirror_mode": {
    "name": "ipython",
    "version": 3
   },
   "file_extension": ".py",
   "mimetype": "text/x-python",
   "name": "python",
   "nbconvert_exporter": "python",
   "pygments_lexer": "ipython3",
   "version": "3.8.11"
  }
 },
 "nbformat": 4,
 "nbformat_minor": 5
}
