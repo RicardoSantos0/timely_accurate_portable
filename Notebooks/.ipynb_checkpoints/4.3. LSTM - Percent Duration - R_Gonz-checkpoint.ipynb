{
 "cells": [
  {
   "cell_type": "markdown",
   "id": "84eda90e",
   "metadata": {},
   "source": [
    "### Thesis notebook 4.3. - R_Gonz\n",
    "\n",
    "#### LSTM - Temporal data representation\n",
    "\n",
    "In this notebook, we will finally start our application of temporal representation using LSTMs and bi-directional LSTMs.\n",
    "The argument for the usage of Deep Learning stems from the fact that sequences themselves encode information that can be extracted using Recurrent Neural Networks and, more specifically, Long Short Term Memory Units.\n",
    "\n",
    "#### First Step: Setup a PyTorch environment that enables the use of GPU for training. \n",
    "\n",
    "The following cell wll confirm that the GPU will be the default device to use."
   ]
  },
  {
   "cell_type": "code",
   "execution_count": 1,
   "id": "4f27844c",
   "metadata": {},
   "outputs": [],
   "source": [
    "import torch\n",
    "import pycuda.driver as cuda\n",
    "\n",
    "cuda.init()\n",
    "## Get Id of default device\n",
    "torch.cuda.current_device()\n",
    "# 0\n",
    "cuda.Device(0).name() # '0' is the id of your GPU\n",
    "\n",
    "#set all tensors to gpu\n",
    "torch.set_default_tensor_type('torch.cuda.FloatTensor')"
   ]
  },
  {
   "cell_type": "markdown",
   "id": "0d95429e",
   "metadata": {},
   "source": [
    "#### Second Step: Import the relevant packages and declare global variables"
   ]
  },
  {
   "cell_type": "code",
   "execution_count": 2,
   "id": "e6c2d97f",
   "metadata": {},
   "outputs": [],
   "source": [
    "#import necessary modules/libraries\n",
    "import numpy as np\n",
    "import scipy\n",
    "import pandas as pd\n",
    "import datetime as dt\n",
    "import warnings\n",
    "import time\n",
    "\n",
    "#tqdm to monitor progress\n",
    "from tqdm.notebook import tqdm, trange\n",
    "tqdm.pandas(desc=\"Progress\")\n",
    "\n",
    "#time related features\n",
    "from datetime import timedelta\n",
    "from copy import copy, deepcopy\n",
    "\n",
    "#vizualization\n",
    "import matplotlib.pyplot as plt\n",
    "import seaborn as sns\n",
    "\n",
    "#imblearn, scalers, kfold and metrics\n",
    "from imblearn.over_sampling import SMOTE\n",
    "from sklearn.preprocessing import MinMaxScaler, StandardScaler, RobustScaler, QuantileTransformer,PowerTransformer\n",
    "from sklearn.model_selection import train_test_split, RepeatedKFold, RepeatedStratifiedKFold, cross_val_score, GridSearchCV\n",
    "from sklearn.metrics import confusion_matrix, accuracy_score, precision_score, recall_score, f1_score, roc_auc_score, roc_curve, recall_score, classification_report, average_precision_score, precision_recall_curve\n",
    "\n",
    "#import torch related\n",
    "import torch.nn as nn\n",
    "from torch.nn import functional as F\n",
    "from torch.autograd import Variable \n",
    "from torch.utils.data import TensorDataset, DataLoader\n",
    "from torch.utils.data.sampler import SubsetRandomSampler\n",
    "\n",
    "\n",
    "#and optimizer of learning rate\n",
    "from torch.optim.lr_scheduler import ReduceLROnPlateau\n",
    "\n",
    "#import pytorch modules\n",
    "warnings.filterwarnings('ignore')"
   ]
  },
  {
   "cell_type": "code",
   "execution_count": 3,
   "id": "c6c3f1fb",
   "metadata": {},
   "outputs": [],
   "source": [
    "#global variables that may come in handy\n",
    "#course threshold sets the % duration that will be considered (1 = 100%)\n",
    "duration_threshold = [0.1, 0.25, 0.33, 0.5, 1]\n",
    "\n",
    "#colors for vizualizations\n",
    "nova_ims_colors = ['#BFD72F', '#5C666C']\n",
    "\n",
    "#standard color for student aggregates\n",
    "student_color = '#474838'\n",
    "\n",
    "#standard color for course aggragates\n",
    "course_color = '#1B3D2F'\n",
    "\n",
    "#standard continuous colormap\n",
    "standard_cmap = 'viridis_r'\n",
    "\n",
    "#Function designed to deal with multiindex and flatten it\n",
    "def flattenHierarchicalCol(col,sep = '_'):\n",
    "    '''converts multiindex columns into single index columns while retaining the hierarchical components'''\n",
    "    if not type(col) is tuple:\n",
    "        return col\n",
    "    else:\n",
    "        new_col = ''\n",
    "        for leveli,level in enumerate(col):\n",
    "            if not level == '':\n",
    "                if not leveli == 0:\n",
    "                    new_col += sep\n",
    "                new_col += level\n",
    "        return new_col\n",
    "    \n",
    "#number of replicas - number of repeats of stratified k fold - in this case 10\n",
    "replicas = 30\n",
    "\n",
    "#names to display on result figures\n",
    "date_names = {\n",
    "             'Date_threshold_10': '10% of Course Duration',   \n",
    "             'Date_threshold_25': '25% of Course Duration', \n",
    "             'Date_threshold_33': '33% of Course Duration', \n",
    "             'Date_threshold_50': '50% of Course Duration', \n",
    "             'Date_threshold_100':'100% of Course Duration', \n",
    "            }\n",
    "\n",
    "target_names = {\n",
    "                'exam_fail' : 'At risk - Exam Grade',\n",
    "                'final_fail' : 'At risk - Final Grade', \n",
    "                'exam_gifted' : 'High performer - Exam Grade', \n",
    "                'final_gifted': 'High performer - Final Grade'\n",
    "                }\n",
    "\n",
    "#targets\n",
    "targets = ['final_fail' ,'final_gifted']\n",
    "temporal_columns = ['0 to 4%', '4 to 8%', '8 to 12%', '12 to 16%', '16 to 20%', '20 to 24%',\n",
    "       '24 to 28%', '28 to 32%', '32 to 36%', '36 to 40%', '40 to 44%',\n",
    "       '44 to 48%', '48 to 52%', '52 to 56%', '56 to 60%', '60 to 64%',\n",
    "       '64 to 68%', '68 to 72%', '72 to 76%', '76 to 80%', '80 to 84%',\n",
    "       '84 to 88%', '88 to 92%', '92 to 96%', '96 to 100%']"
   ]
  },
  {
   "cell_type": "markdown",
   "id": "60c5ddb6",
   "metadata": {},
   "source": [
    "#### Step 3: Import data and take a preliminary look at it "
   ]
  },
  {
   "cell_type": "code",
   "execution_count": 4,
   "id": "d8a23ea6",
   "metadata": {},
   "outputs": [],
   "source": [
    "#imports dataframes\n",
    "course_programs = pd.read_excel(\"../Data/Modeling Stage/R_Gonz_Temporal_Datasets_25_splits.xlsx\", \n",
    "                                dtype = {\n",
    "                                    'course_encoding' : int,\n",
    "                                    'userid' : int},\n",
    "                               sheet_name = None)\n",
    "\n",
    "#save tables \n",
    "student_list = pd.read_csv('../Data/Modeling Stage/R_Gonz_Filtered_targets.csv', \n",
    "                         dtype = {\n",
    "                                   'course_encoding': int,\n",
    "                                   'userid' : int,\n",
    "                                   })\n",
    "\n",
    "#drop unnamed 0 column\n",
    "for i in course_programs:\n",
    "        \n",
    "    #merge with the targets we calculated on the other \n",
    "    course_programs[i] = course_programs[i].merge(student_list, on = ['course', 'userid'], how = 'inner')\n",
    "    course_programs[i].drop(['Unnamed: 0', 'final_mark'], axis = 1, inplace = True)\n",
    "    \n",
    "    #convert results to object\n",
    "    course_programs[i]['course'], course_programs[i]['userid'] = course_programs[i]['course'].astype(object), course_programs[i]['userid'].astype(object)"
   ]
  },
  {
   "cell_type": "code",
   "execution_count": 5,
   "id": "7bc3c84f",
   "metadata": {},
   "outputs": [
    {
     "name": "stdout",
     "output_type": "stream",
     "text": [
      "<class 'pandas.core.frame.DataFrame'>\n",
      "Int64Index: 13857 entries, 0 to 13856\n",
      "Data columns (total 29 columns):\n",
      " #   Column        Non-Null Count  Dtype \n",
      "---  ------        --------------  ----- \n",
      " 0   course        13857 non-null  object\n",
      " 1   userid        13857 non-null  object\n",
      " 2   1             13857 non-null  int64 \n",
      " 3   2             13857 non-null  int64 \n",
      " 4   3             13857 non-null  int64 \n",
      " 5   4             13857 non-null  int64 \n",
      " 6   5             13857 non-null  int64 \n",
      " 7   6             13857 non-null  int64 \n",
      " 8   7             13857 non-null  int64 \n",
      " 9   8             13857 non-null  int64 \n",
      " 10  9             13857 non-null  int64 \n",
      " 11  10            13857 non-null  int64 \n",
      " 12  11            13857 non-null  int64 \n",
      " 13  12            13857 non-null  int64 \n",
      " 14  13            13857 non-null  int64 \n",
      " 15  14            13857 non-null  int64 \n",
      " 16  15            13857 non-null  int64 \n",
      " 17  16            13857 non-null  int64 \n",
      " 18  17            13857 non-null  int64 \n",
      " 19  18            13857 non-null  int64 \n",
      " 20  19            13857 non-null  int64 \n",
      " 21  20            13857 non-null  int64 \n",
      " 22  21            13857 non-null  int64 \n",
      " 23  22            13857 non-null  int64 \n",
      " 24  23            13857 non-null  int64 \n",
      " 25  24            13857 non-null  int64 \n",
      " 26  25            13857 non-null  int64 \n",
      " 27  final_fail    13857 non-null  int64 \n",
      " 28  final_gifted  13857 non-null  int64 \n",
      "dtypes: int64(27), object(2)\n",
      "memory usage: 3.2+ MB\n"
     ]
    }
   ],
   "source": [
    "course_programs['Date_threshold_100'].info()"
   ]
  },
  {
   "cell_type": "code",
   "execution_count": 6,
   "id": "c4a751ef",
   "metadata": {},
   "outputs": [
    {
     "data": {
      "text/html": [
       "<div>\n",
       "<style scoped>\n",
       "    .dataframe tbody tr th:only-of-type {\n",
       "        vertical-align: middle;\n",
       "    }\n",
       "\n",
       "    .dataframe tbody tr th {\n",
       "        vertical-align: top;\n",
       "    }\n",
       "\n",
       "    .dataframe thead th {\n",
       "        text-align: right;\n",
       "    }\n",
       "</style>\n",
       "<table border=\"1\" class=\"dataframe\">\n",
       "  <thead>\n",
       "    <tr style=\"text-align: right;\">\n",
       "      <th></th>\n",
       "      <th>course</th>\n",
       "      <th>userid</th>\n",
       "      <th>1</th>\n",
       "      <th>2</th>\n",
       "      <th>3</th>\n",
       "      <th>4</th>\n",
       "      <th>5</th>\n",
       "      <th>6</th>\n",
       "      <th>7</th>\n",
       "      <th>8</th>\n",
       "      <th>...</th>\n",
       "      <th>18</th>\n",
       "      <th>19</th>\n",
       "      <th>20</th>\n",
       "      <th>21</th>\n",
       "      <th>22</th>\n",
       "      <th>23</th>\n",
       "      <th>24</th>\n",
       "      <th>25</th>\n",
       "      <th>final_fail</th>\n",
       "      <th>final_gifted</th>\n",
       "    </tr>\n",
       "  </thead>\n",
       "  <tbody>\n",
       "    <tr>\n",
       "      <th>count</th>\n",
       "      <td>13857.0</td>\n",
       "      <td>13857.0</td>\n",
       "      <td>13857.000000</td>\n",
       "      <td>13857.000000</td>\n",
       "      <td>13857.000000</td>\n",
       "      <td>13857.000000</td>\n",
       "      <td>13857.000000</td>\n",
       "      <td>13857.000000</td>\n",
       "      <td>13857.000000</td>\n",
       "      <td>13857.000000</td>\n",
       "      <td>...</td>\n",
       "      <td>13857.000000</td>\n",
       "      <td>13857.000000</td>\n",
       "      <td>13857.000000</td>\n",
       "      <td>13857.000000</td>\n",
       "      <td>13857.000000</td>\n",
       "      <td>13857.000000</td>\n",
       "      <td>13857.000000</td>\n",
       "      <td>13857.000000</td>\n",
       "      <td>13857.000000</td>\n",
       "      <td>13857.000000</td>\n",
       "    </tr>\n",
       "    <tr>\n",
       "      <th>unique</th>\n",
       "      <td>174.0</td>\n",
       "      <td>8544.0</td>\n",
       "      <td>NaN</td>\n",
       "      <td>NaN</td>\n",
       "      <td>NaN</td>\n",
       "      <td>NaN</td>\n",
       "      <td>NaN</td>\n",
       "      <td>NaN</td>\n",
       "      <td>NaN</td>\n",
       "      <td>NaN</td>\n",
       "      <td>...</td>\n",
       "      <td>NaN</td>\n",
       "      <td>NaN</td>\n",
       "      <td>NaN</td>\n",
       "      <td>NaN</td>\n",
       "      <td>NaN</td>\n",
       "      <td>NaN</td>\n",
       "      <td>NaN</td>\n",
       "      <td>NaN</td>\n",
       "      <td>NaN</td>\n",
       "      <td>NaN</td>\n",
       "    </tr>\n",
       "    <tr>\n",
       "      <th>top</th>\n",
       "      <td>2059.0</td>\n",
       "      <td>68888.0</td>\n",
       "      <td>NaN</td>\n",
       "      <td>NaN</td>\n",
       "      <td>NaN</td>\n",
       "      <td>NaN</td>\n",
       "      <td>NaN</td>\n",
       "      <td>NaN</td>\n",
       "      <td>NaN</td>\n",
       "      <td>NaN</td>\n",
       "      <td>...</td>\n",
       "      <td>NaN</td>\n",
       "      <td>NaN</td>\n",
       "      <td>NaN</td>\n",
       "      <td>NaN</td>\n",
       "      <td>NaN</td>\n",
       "      <td>NaN</td>\n",
       "      <td>NaN</td>\n",
       "      <td>NaN</td>\n",
       "      <td>NaN</td>\n",
       "      <td>NaN</td>\n",
       "    </tr>\n",
       "    <tr>\n",
       "      <th>freq</th>\n",
       "      <td>507.0</td>\n",
       "      <td>7.0</td>\n",
       "      <td>NaN</td>\n",
       "      <td>NaN</td>\n",
       "      <td>NaN</td>\n",
       "      <td>NaN</td>\n",
       "      <td>NaN</td>\n",
       "      <td>NaN</td>\n",
       "      <td>NaN</td>\n",
       "      <td>NaN</td>\n",
       "      <td>...</td>\n",
       "      <td>NaN</td>\n",
       "      <td>NaN</td>\n",
       "      <td>NaN</td>\n",
       "      <td>NaN</td>\n",
       "      <td>NaN</td>\n",
       "      <td>NaN</td>\n",
       "      <td>NaN</td>\n",
       "      <td>NaN</td>\n",
       "      <td>NaN</td>\n",
       "      <td>NaN</td>\n",
       "    </tr>\n",
       "    <tr>\n",
       "      <th>mean</th>\n",
       "      <td>NaN</td>\n",
       "      <td>NaN</td>\n",
       "      <td>1.601140</td>\n",
       "      <td>4.616584</td>\n",
       "      <td>7.876092</td>\n",
       "      <td>8.510067</td>\n",
       "      <td>9.804792</td>\n",
       "      <td>10.839431</td>\n",
       "      <td>11.184167</td>\n",
       "      <td>12.273147</td>\n",
       "      <td>...</td>\n",
       "      <td>11.521036</td>\n",
       "      <td>11.677997</td>\n",
       "      <td>8.524067</td>\n",
       "      <td>10.015155</td>\n",
       "      <td>8.560583</td>\n",
       "      <td>7.720935</td>\n",
       "      <td>3.454355</td>\n",
       "      <td>0.082413</td>\n",
       "      <td>0.381035</td>\n",
       "      <td>0.198528</td>\n",
       "    </tr>\n",
       "    <tr>\n",
       "      <th>std</th>\n",
       "      <td>NaN</td>\n",
       "      <td>NaN</td>\n",
       "      <td>6.581259</td>\n",
       "      <td>12.238187</td>\n",
       "      <td>15.785656</td>\n",
       "      <td>14.600375</td>\n",
       "      <td>16.021089</td>\n",
       "      <td>16.473371</td>\n",
       "      <td>20.043011</td>\n",
       "      <td>20.126765</td>\n",
       "      <td>...</td>\n",
       "      <td>22.043869</td>\n",
       "      <td>27.925613</td>\n",
       "      <td>18.816024</td>\n",
       "      <td>29.534244</td>\n",
       "      <td>20.248598</td>\n",
       "      <td>20.105366</td>\n",
       "      <td>14.589819</td>\n",
       "      <td>1.264520</td>\n",
       "      <td>0.485659</td>\n",
       "      <td>0.398906</td>\n",
       "    </tr>\n",
       "    <tr>\n",
       "      <th>min</th>\n",
       "      <td>NaN</td>\n",
       "      <td>NaN</td>\n",
       "      <td>0.000000</td>\n",
       "      <td>0.000000</td>\n",
       "      <td>0.000000</td>\n",
       "      <td>0.000000</td>\n",
       "      <td>0.000000</td>\n",
       "      <td>0.000000</td>\n",
       "      <td>0.000000</td>\n",
       "      <td>0.000000</td>\n",
       "      <td>...</td>\n",
       "      <td>0.000000</td>\n",
       "      <td>0.000000</td>\n",
       "      <td>0.000000</td>\n",
       "      <td>0.000000</td>\n",
       "      <td>0.000000</td>\n",
       "      <td>0.000000</td>\n",
       "      <td>0.000000</td>\n",
       "      <td>0.000000</td>\n",
       "      <td>0.000000</td>\n",
       "      <td>0.000000</td>\n",
       "    </tr>\n",
       "    <tr>\n",
       "      <th>25%</th>\n",
       "      <td>NaN</td>\n",
       "      <td>NaN</td>\n",
       "      <td>0.000000</td>\n",
       "      <td>0.000000</td>\n",
       "      <td>0.000000</td>\n",
       "      <td>0.000000</td>\n",
       "      <td>0.000000</td>\n",
       "      <td>0.000000</td>\n",
       "      <td>0.000000</td>\n",
       "      <td>0.000000</td>\n",
       "      <td>...</td>\n",
       "      <td>0.000000</td>\n",
       "      <td>0.000000</td>\n",
       "      <td>0.000000</td>\n",
       "      <td>0.000000</td>\n",
       "      <td>0.000000</td>\n",
       "      <td>0.000000</td>\n",
       "      <td>0.000000</td>\n",
       "      <td>0.000000</td>\n",
       "      <td>0.000000</td>\n",
       "      <td>0.000000</td>\n",
       "    </tr>\n",
       "    <tr>\n",
       "      <th>50%</th>\n",
       "      <td>NaN</td>\n",
       "      <td>NaN</td>\n",
       "      <td>0.000000</td>\n",
       "      <td>0.000000</td>\n",
       "      <td>1.000000</td>\n",
       "      <td>3.000000</td>\n",
       "      <td>4.000000</td>\n",
       "      <td>4.000000</td>\n",
       "      <td>5.000000</td>\n",
       "      <td>5.000000</td>\n",
       "      <td>...</td>\n",
       "      <td>4.000000</td>\n",
       "      <td>3.000000</td>\n",
       "      <td>1.000000</td>\n",
       "      <td>1.000000</td>\n",
       "      <td>1.000000</td>\n",
       "      <td>0.000000</td>\n",
       "      <td>0.000000</td>\n",
       "      <td>0.000000</td>\n",
       "      <td>0.000000</td>\n",
       "      <td>0.000000</td>\n",
       "    </tr>\n",
       "    <tr>\n",
       "      <th>75%</th>\n",
       "      <td>NaN</td>\n",
       "      <td>NaN</td>\n",
       "      <td>0.000000</td>\n",
       "      <td>4.000000</td>\n",
       "      <td>10.000000</td>\n",
       "      <td>11.000000</td>\n",
       "      <td>13.000000</td>\n",
       "      <td>15.000000</td>\n",
       "      <td>15.000000</td>\n",
       "      <td>17.000000</td>\n",
       "      <td>...</td>\n",
       "      <td>15.000000</td>\n",
       "      <td>13.000000</td>\n",
       "      <td>10.000000</td>\n",
       "      <td>11.000000</td>\n",
       "      <td>9.000000</td>\n",
       "      <td>7.000000</td>\n",
       "      <td>1.000000</td>\n",
       "      <td>0.000000</td>\n",
       "      <td>1.000000</td>\n",
       "      <td>0.000000</td>\n",
       "    </tr>\n",
       "    <tr>\n",
       "      <th>max</th>\n",
       "      <td>NaN</td>\n",
       "      <td>NaN</td>\n",
       "      <td>178.000000</td>\n",
       "      <td>236.000000</td>\n",
       "      <td>292.000000</td>\n",
       "      <td>239.000000</td>\n",
       "      <td>255.000000</td>\n",
       "      <td>219.000000</td>\n",
       "      <td>880.000000</td>\n",
       "      <td>602.000000</td>\n",
       "      <td>...</td>\n",
       "      <td>557.000000</td>\n",
       "      <td>729.000000</td>\n",
       "      <td>678.000000</td>\n",
       "      <td>1316.000000</td>\n",
       "      <td>407.000000</td>\n",
       "      <td>422.000000</td>\n",
       "      <td>523.000000</td>\n",
       "      <td>74.000000</td>\n",
       "      <td>1.000000</td>\n",
       "      <td>1.000000</td>\n",
       "    </tr>\n",
       "  </tbody>\n",
       "</table>\n",
       "<p>11 rows × 29 columns</p>\n",
       "</div>"
      ],
      "text/plain": [
       "         course   userid             1             2             3  \\\n",
       "count   13857.0  13857.0  13857.000000  13857.000000  13857.000000   \n",
       "unique    174.0   8544.0           NaN           NaN           NaN   \n",
       "top      2059.0  68888.0           NaN           NaN           NaN   \n",
       "freq      507.0      7.0           NaN           NaN           NaN   \n",
       "mean        NaN      NaN      1.601140      4.616584      7.876092   \n",
       "std         NaN      NaN      6.581259     12.238187     15.785656   \n",
       "min         NaN      NaN      0.000000      0.000000      0.000000   \n",
       "25%         NaN      NaN      0.000000      0.000000      0.000000   \n",
       "50%         NaN      NaN      0.000000      0.000000      1.000000   \n",
       "75%         NaN      NaN      0.000000      4.000000     10.000000   \n",
       "max         NaN      NaN    178.000000    236.000000    292.000000   \n",
       "\n",
       "                   4             5             6             7             8  \\\n",
       "count   13857.000000  13857.000000  13857.000000  13857.000000  13857.000000   \n",
       "unique           NaN           NaN           NaN           NaN           NaN   \n",
       "top              NaN           NaN           NaN           NaN           NaN   \n",
       "freq             NaN           NaN           NaN           NaN           NaN   \n",
       "mean        8.510067      9.804792     10.839431     11.184167     12.273147   \n",
       "std        14.600375     16.021089     16.473371     20.043011     20.126765   \n",
       "min         0.000000      0.000000      0.000000      0.000000      0.000000   \n",
       "25%         0.000000      0.000000      0.000000      0.000000      0.000000   \n",
       "50%         3.000000      4.000000      4.000000      5.000000      5.000000   \n",
       "75%        11.000000     13.000000     15.000000     15.000000     17.000000   \n",
       "max       239.000000    255.000000    219.000000    880.000000    602.000000   \n",
       "\n",
       "        ...            18            19            20            21  \\\n",
       "count   ...  13857.000000  13857.000000  13857.000000  13857.000000   \n",
       "unique  ...           NaN           NaN           NaN           NaN   \n",
       "top     ...           NaN           NaN           NaN           NaN   \n",
       "freq    ...           NaN           NaN           NaN           NaN   \n",
       "mean    ...     11.521036     11.677997      8.524067     10.015155   \n",
       "std     ...     22.043869     27.925613     18.816024     29.534244   \n",
       "min     ...      0.000000      0.000000      0.000000      0.000000   \n",
       "25%     ...      0.000000      0.000000      0.000000      0.000000   \n",
       "50%     ...      4.000000      3.000000      1.000000      1.000000   \n",
       "75%     ...     15.000000     13.000000     10.000000     11.000000   \n",
       "max     ...    557.000000    729.000000    678.000000   1316.000000   \n",
       "\n",
       "                  22            23            24            25    final_fail  \\\n",
       "count   13857.000000  13857.000000  13857.000000  13857.000000  13857.000000   \n",
       "unique           NaN           NaN           NaN           NaN           NaN   \n",
       "top              NaN           NaN           NaN           NaN           NaN   \n",
       "freq             NaN           NaN           NaN           NaN           NaN   \n",
       "mean        8.560583      7.720935      3.454355      0.082413      0.381035   \n",
       "std        20.248598     20.105366     14.589819      1.264520      0.485659   \n",
       "min         0.000000      0.000000      0.000000      0.000000      0.000000   \n",
       "25%         0.000000      0.000000      0.000000      0.000000      0.000000   \n",
       "50%         1.000000      0.000000      0.000000      0.000000      0.000000   \n",
       "75%         9.000000      7.000000      1.000000      0.000000      1.000000   \n",
       "max       407.000000    422.000000    523.000000     74.000000      1.000000   \n",
       "\n",
       "        final_gifted  \n",
       "count   13857.000000  \n",
       "unique           NaN  \n",
       "top              NaN  \n",
       "freq             NaN  \n",
       "mean        0.198528  \n",
       "std         0.398906  \n",
       "min         0.000000  \n",
       "25%         0.000000  \n",
       "50%         0.000000  \n",
       "75%         0.000000  \n",
       "max         1.000000  \n",
       "\n",
       "[11 rows x 29 columns]"
      ]
     },
     "execution_count": 6,
     "metadata": {},
     "output_type": "execute_result"
    }
   ],
   "source": [
    "course_programs['Date_threshold_100'].describe(include = 'all')"
   ]
  },
  {
   "cell_type": "markdown",
   "id": "c3291817",
   "metadata": {},
   "source": [
    "In our first attempt, we will use the absolute number of clicks made by each student - scaled using standard scaler. \n",
    "Therefore, we can start by immediately placing our course encoding/userid pairings into the index."
   ]
  },
  {
   "cell_type": "code",
   "execution_count": 7,
   "id": "be722ea9",
   "metadata": {},
   "outputs": [],
   "source": [
    "def normalize(train, test, scaler):\n",
    "    \n",
    "    if scaler == 'MinMax':\n",
    "        pt = MinMaxScaler()\n",
    "    elif scaler == 'Standard':\n",
    "        pt = StandardScaler()\n",
    "    elif scaler == 'Robust':\n",
    "        pt = RobustScaler()\n",
    "    elif scaler == 'Quantile':\n",
    "        pt = QuantileTransformer()\n",
    "    else:\n",
    "        pt = PowerTransformer(method='yeo-johnson')\n",
    "    \n",
    "    data_train = pt.fit_transform(train)\n",
    "    data_test = pt.transform(test)\n",
    "    # convert the array back to a dataframe\n",
    "    normalized_train = pd.DataFrame(data_train,columns=train.columns)\n",
    "    normalized_test = pd.DataFrame(data_test,columns=test.columns)\n",
    "        \n",
    "    return normalized_train, normalized_test "
   ]
  },
  {
   "cell_type": "markdown",
   "id": "8e4d5475",
   "metadata": {},
   "source": [
    "#### Implementing Cross-Validation with Deep Learning Model\n",
    "\n",
    "**1. Create the Deep Learning Model**\n",
    "\n",
    "In this instance, we will follow-up with on the approach used in Chen & Cui - CrossEntropyLoss with applied over a softmax layer."
   ]
  },
  {
   "cell_type": "code",
   "execution_count": 8,
   "id": "2a16bd5f",
   "metadata": {},
   "outputs": [],
   "source": [
    "class LSTM_Uni(nn.Module):\n",
    "    def __init__(self, num_classes, input_size, hidden_size, num_layers, seq_length):\n",
    "        super(LSTM_Uni, self).__init__()\n",
    "        self.num_classes = num_classes #number of classes\n",
    "        self.num_layers = num_layers #number of layers\n",
    "        self.input_size = input_size #input size\n",
    "        self.hidden_size = hidden_size #hidden state\n",
    "        self.seq_length = seq_length #sequence length\n",
    "\n",
    "        self.lstm = nn.LSTM(input_size=input_size, hidden_size=hidden_size,\n",
    "                          num_layers=num_layers, batch_first = True) #lstm\n",
    "        \n",
    "        self.dropout = nn.Dropout(p = 0.5)\n",
    "    \n",
    "        self.fc = nn.Linear(self.hidden_size, num_classes) #fully connected last layer\n",
    "\n",
    "    def forward(self,x):\n",
    "        h_0 = Variable(torch.zeros(self.num_layers, x.size(0), self.hidden_size)) #hidden state\n",
    "        c_0 = Variable(torch.zeros(self.num_layers, x.size(0), self.hidden_size)) #internal state\n",
    "        \n",
    "        #Xavier_init for both H_0 and C_0\n",
    "        torch.nn.init.xavier_normal_(h_0)\n",
    "        torch.nn.init.xavier_normal_(c_0)\n",
    "        \n",
    "        # Propagate input through LSTM\n",
    "        lstm_out, (hn, cn) = self.lstm(x, (h_0, c_0)) #lstm with input, hidden, and internal state\n",
    "        last_output = hn.view(-1, self.hidden_size) #reshaping the data for Dense layer next\n",
    "        \n",
    "        #we are interested in only keeping the last output\n",
    "        drop_out = self.dropout(last_output)\n",
    "        pre_softmax = self.fc(drop_out) #Final Output - dense\n",
    "        return pre_softmax"
   ]
  },
  {
   "cell_type": "markdown",
   "id": "17c356bd",
   "metadata": {},
   "source": [
    "**2. Define the train and validation Functions**"
   ]
  },
  {
   "cell_type": "code",
   "execution_count": 9,
   "id": "25b29a1d",
   "metadata": {},
   "outputs": [],
   "source": [
    "def train_epoch(model,dataloader,loss_fn,optimizer):\n",
    "    \n",
    "    train_loss,train_correct=0.0,0 \n",
    "    model.train()\n",
    "    for X, labels in dataloader:\n",
    "\n",
    "        optimizer.zero_grad()\n",
    "        output = model(X)\n",
    "        loss = loss_fn(output,labels)\n",
    "        loss.backward()\n",
    "        optimizer.step()\n",
    "        train_loss += loss.item() * X.size(0)\n",
    "        scores, predictions = torch.max(F.log_softmax(output.data), 1)\n",
    "        train_correct += (predictions == labels).sum().item()\n",
    "        \n",
    "    return train_loss,train_correct\n",
    "  \n",
    "def valid_epoch(model,dataloader,loss_fn):\n",
    "    valid_loss, val_correct = 0.0, 0\n",
    "    targets = []\n",
    "    y_pred = []\n",
    "    probability_1 = []\n",
    "    \n",
    "    model.eval()\n",
    "    for X, labels in dataloader:\n",
    "\n",
    "        output = model(X)\n",
    "        loss=loss_fn(output,labels)\n",
    "        valid_loss+=loss.item()*X.size(0)\n",
    "        probability_1.append(F.softmax(output.data)[:,1])\n",
    "        predictions = torch.argmax(output, dim=1)\n",
    "        val_correct+=(predictions == labels).sum().item()\n",
    "        targets.append(labels)\n",
    "        y_pred.append(predictions)\n",
    "    \n",
    "    #concat all results\n",
    "    targets = torch.cat(targets).data.cpu().numpy()\n",
    "    y_pred = torch.cat(y_pred).data.cpu().numpy()\n",
    "    probability_1 = torch.cat(probability_1).data.cpu().numpy()\n",
    "    \n",
    "    #calculate precision, recall and AUC score\n",
    "    \n",
    "    precision = precision_score(targets, y_pred)\n",
    "    recall = recall_score(targets, y_pred)\n",
    "    auroc = roc_auc_score(targets, probability_1)\n",
    "    \n",
    "    #return all\n",
    "    return valid_loss,val_correct, precision, recall, auroc"
   ]
  },
  {
   "cell_type": "markdown",
   "id": "d4543fb3",
   "metadata": {},
   "source": [
    "**3. Define main hyperparameters of the model, including splits**"
   ]
  },
  {
   "cell_type": "code",
   "execution_count": 10,
   "id": "fcbbef20",
   "metadata": {},
   "outputs": [],
   "source": [
    "#Model\n",
    "num_epochs = 200 #50 epochs\n",
    "learning_rate = 0.01 #0.001 lr\n",
    "input_size = 1 #number of features\n",
    "hidden_size = 40 #number of features in hidden state\n",
    "num_layers = 1 #number of stacked lstm layers\n",
    "\n",
    "#Shape of Output as required for SoftMax Classifier\n",
    "num_classes = 2 #output shape\n",
    "\n",
    "batch_size = 32\n",
    "\n",
    "k=10\n",
    "splits= RepeatedStratifiedKFold(n_splits=k, n_repeats=replicas, random_state=15) #kfold of 10 with 30 replicas\n",
    "criterion = nn.CrossEntropyLoss()    # cross-entropy for classification"
   ]
  },
  {
   "cell_type": "markdown",
   "id": "a20713d9",
   "metadata": {},
   "source": [
    "**4. Make the splits and Start Training**"
   ]
  },
  {
   "cell_type": "code",
   "execution_count": null,
   "id": "1d9af744",
   "metadata": {
    "scrolled": true
   },
   "outputs": [
    {
     "data": {
      "application/vnd.jupyter.widget-view+json": {
       "model_id": "7e7ee209ac54474fbbb21ffda0bae13d",
       "version_major": 2,
       "version_minor": 0
      },
      "text/plain": [
       "  0%|          | 0/5 [00:00<?, ?it/s]"
      ]
     },
     "metadata": {},
     "output_type": "display_data"
    },
    {
     "name": "stdout",
     "output_type": "stream",
     "text": [
      "Date_threshold_10\n"
     ]
    },
    {
     "data": {
      "application/vnd.jupyter.widget-view+json": {
       "model_id": "7bd98fa1e18a4794878b8ce4278f16e5",
       "version_major": 2,
       "version_minor": 0
      },
      "text/plain": [
       "  0%|          | 0/2 [00:00<?, ?it/s]"
      ]
     },
     "metadata": {},
     "output_type": "display_data"
    },
    {
     "name": "stdout",
     "output_type": "stream",
     "text": [
      "final_fail\n"
     ]
    },
    {
     "data": {
      "application/vnd.jupyter.widget-view+json": {
       "model_id": "be5f9b955bb24cc3b87e173079396586",
       "version_major": 2,
       "version_minor": 0
      },
      "text/plain": [
       "0it [00:00, ?it/s]"
      ]
     },
     "metadata": {},
     "output_type": "display_data"
    },
    {
     "name": "stdout",
     "output_type": "stream",
     "text": [
      "Split 1\n"
     ]
    },
    {
     "data": {
      "application/vnd.jupyter.widget-view+json": {
       "model_id": "ebe8ce20a2ef4f2b98260617e02291b7",
       "version_major": 2,
       "version_minor": 0
      },
      "text/plain": [
       "  0%|          | 0/200 [00:00<?, ?it/s]"
      ]
     },
     "metadata": {},
     "output_type": "display_data"
    },
    {
     "name": "stdout",
     "output_type": "stream",
     "text": [
      "New Best Accuracy found: 61.95%\n",
      "Epoch: 1\n",
      "Epoch:10/200 AVG Training Loss:0.662 AVG Validation Loss:0.669 AVG Training Acc 61.88 % AVG Validation Acc 61.95 %\n",
      "New Best Accuracy found: 62.13%\n",
      "Epoch: 15\n",
      "Epoch    18: reducing learning rate of group 0 to 1.0000e-03.\n",
      "Epoch:20/200 AVG Training Loss:0.658 AVG Validation Loss:0.668 AVG Training Acc 61.93 % AVG Validation Acc 62.04 %\n",
      "Epoch:30/200 AVG Training Loss:0.655 AVG Validation Loss:0.670 AVG Training Acc 61.89 % AVG Validation Acc 62.04 %\n",
      "Epoch:40/200 AVG Training Loss:0.653 AVG Validation Loss:0.676 AVG Training Acc 62.02 % AVG Validation Acc 62.04 %\n",
      "Epoch    49: reducing learning rate of group 0 to 1.0000e-04.\n",
      "Epoch:50/200 AVG Training Loss:0.650 AVG Validation Loss:0.679 AVG Training Acc 62.13 % AVG Validation Acc 62.13 %\n",
      "New Best Accuracy found: 62.22%\n",
      "Epoch: 59\n",
      "Epoch:60/200 AVG Training Loss:0.648 AVG Validation Loss:0.682 AVG Training Acc 62.02 % AVG Validation Acc 62.22 %\n",
      "Epoch:70/200 AVG Training Loss:0.648 AVG Validation Loss:0.684 AVG Training Acc 62.04 % AVG Validation Acc 62.22 %\n",
      "Epoch:80/200 AVG Training Loss:0.649 AVG Validation Loss:0.684 AVG Training Acc 62.06 % AVG Validation Acc 62.22 %\n",
      "Epoch    80: reducing learning rate of group 0 to 1.0000e-05.\n",
      "Epoch:90/200 AVG Training Loss:0.648 AVG Validation Loss:0.685 AVG Training Acc 62.01 % AVG Validation Acc 62.22 %\n",
      "Epoch:100/200 AVG Training Loss:0.647 AVG Validation Loss:0.685 AVG Training Acc 62.21 % AVG Validation Acc 62.22 %\n",
      "Epoch:110/200 AVG Training Loss:0.649 AVG Validation Loss:0.685 AVG Training Acc 62.07 % AVG Validation Acc 62.22 %\n",
      "Epoch   111: reducing learning rate of group 0 to 1.0000e-06.\n",
      "Epoch:120/200 AVG Training Loss:0.648 AVG Validation Loss:0.685 AVG Training Acc 62.05 % AVG Validation Acc 62.22 %\n",
      "Epoch:130/200 AVG Training Loss:0.648 AVG Validation Loss:0.685 AVG Training Acc 62.06 % AVG Validation Acc 62.22 %\n",
      "Epoch:140/200 AVG Training Loss:0.648 AVG Validation Loss:0.685 AVG Training Acc 62.12 % AVG Validation Acc 62.22 %\n",
      "Epoch   142: reducing learning rate of group 0 to 1.0000e-07.\n",
      "Epoch:150/200 AVG Training Loss:0.648 AVG Validation Loss:0.686 AVG Training Acc 62.13 % AVG Validation Acc 62.22 %\n",
      "Epoch:160/200 AVG Training Loss:0.647 AVG Validation Loss:0.685 AVG Training Acc 62.09 % AVG Validation Acc 62.22 %\n",
      "Epoch:170/200 AVG Training Loss:0.648 AVG Validation Loss:0.685 AVG Training Acc 62.12 % AVG Validation Acc 62.22 %\n",
      "Epoch   173: reducing learning rate of group 0 to 1.0000e-08.\n",
      "Epoch:180/200 AVG Training Loss:0.647 AVG Validation Loss:0.685 AVG Training Acc 62.19 % AVG Validation Acc 62.22 %\n",
      "Epoch:190/200 AVG Training Loss:0.648 AVG Validation Loss:0.685 AVG Training Acc 62.06 % AVG Validation Acc 62.22 %\n",
      "Epoch:200/200 AVG Training Loss:0.647 AVG Validation Loss:0.686 AVG Training Acc 62.11 % AVG Validation Acc 62.22 %\n",
      "Split 2\n"
     ]
    },
    {
     "data": {
      "application/vnd.jupyter.widget-view+json": {
       "model_id": "a344aaf5c6264034b80e6828df67a326",
       "version_major": 2,
       "version_minor": 0
      },
      "text/plain": [
       "  0%|          | 0/200 [00:00<?, ?it/s]"
      ]
     },
     "metadata": {},
     "output_type": "display_data"
    },
    {
     "name": "stdout",
     "output_type": "stream",
     "text": [
      "Epoch:10/200 AVG Training Loss:0.664 AVG Validation Loss:0.665 AVG Training Acc 61.89 % AVG Validation Acc 61.86 %\n",
      "Epoch:20/200 AVG Training Loss:0.662 AVG Validation Loss:0.658 AVG Training Acc 61.94 % AVG Validation Acc 61.86 %\n",
      "Epoch:30/200 AVG Training Loss:0.659 AVG Validation Loss:0.653 AVG Training Acc 61.92 % AVG Validation Acc 61.86 %\n",
      "Epoch:40/200 AVG Training Loss:0.658 AVG Validation Loss:0.655 AVG Training Acc 61.95 % AVG Validation Acc 61.68 %\n",
      "Epoch    46: reducing learning rate of group 0 to 1.0000e-03.\n",
      "Epoch:50/200 AVG Training Loss:0.654 AVG Validation Loss:0.652 AVG Training Acc 62.11 % AVG Validation Acc 61.77 %\n",
      "Epoch:60/200 AVG Training Loss:0.651 AVG Validation Loss:0.652 AVG Training Acc 62.15 % AVG Validation Acc 61.86 %\n",
      "Epoch:70/200 AVG Training Loss:0.650 AVG Validation Loss:0.655 AVG Training Acc 62.32 % AVG Validation Acc 61.41 %\n",
      "Epoch    77: reducing learning rate of group 0 to 1.0000e-04.\n",
      "Epoch:80/200 AVG Training Loss:0.649 AVG Validation Loss:0.652 AVG Training Acc 62.35 % AVG Validation Acc 61.68 %\n",
      "Epoch:90/200 AVG Training Loss:0.647 AVG Validation Loss:0.655 AVG Training Acc 62.37 % AVG Validation Acc 61.77 %\n",
      "Epoch:100/200 AVG Training Loss:0.648 AVG Validation Loss:0.653 AVG Training Acc 62.39 % AVG Validation Acc 61.77 %\n",
      "Epoch   108: reducing learning rate of group 0 to 1.0000e-05.\n",
      "Epoch:110/200 AVG Training Loss:0.649 AVG Validation Loss:0.653 AVG Training Acc 62.31 % AVG Validation Acc 61.77 %\n",
      "Epoch:120/200 AVG Training Loss:0.648 AVG Validation Loss:0.654 AVG Training Acc 62.28 % AVG Validation Acc 61.68 %\n",
      "Epoch:130/200 AVG Training Loss:0.647 AVG Validation Loss:0.653 AVG Training Acc 62.30 % AVG Validation Acc 61.68 %\n",
      "Epoch   139: reducing learning rate of group 0 to 1.0000e-06.\n",
      "Epoch:140/200 AVG Training Loss:0.647 AVG Validation Loss:0.653 AVG Training Acc 62.34 % AVG Validation Acc 61.68 %\n",
      "Epoch:150/200 AVG Training Loss:0.648 AVG Validation Loss:0.654 AVG Training Acc 62.38 % AVG Validation Acc 61.59 %\n",
      "Epoch:160/200 AVG Training Loss:0.649 AVG Validation Loss:0.654 AVG Training Acc 62.25 % AVG Validation Acc 61.68 %\n",
      "Epoch:170/200 AVG Training Loss:0.647 AVG Validation Loss:0.653 AVG Training Acc 62.40 % AVG Validation Acc 61.68 %\n",
      "Epoch   170: reducing learning rate of group 0 to 1.0000e-07.\n",
      "Epoch:180/200 AVG Training Loss:0.649 AVG Validation Loss:0.654 AVG Training Acc 62.26 % AVG Validation Acc 61.59 %\n",
      "Epoch:190/200 AVG Training Loss:0.648 AVG Validation Loss:0.654 AVG Training Acc 62.25 % AVG Validation Acc 61.68 %\n",
      "Epoch:200/200 AVG Training Loss:0.647 AVG Validation Loss:0.654 AVG Training Acc 62.34 % AVG Validation Acc 61.68 %\n",
      "Split 3\n"
     ]
    },
    {
     "data": {
      "application/vnd.jupyter.widget-view+json": {
       "model_id": "dc77bd1f99fe4f18affeb552bdcba093",
       "version_major": 2,
       "version_minor": 0
      },
      "text/plain": [
       "  0%|          | 0/200 [00:00<?, ?it/s]"
      ]
     },
     "metadata": {},
     "output_type": "display_data"
    },
    {
     "name": "stdout",
     "output_type": "stream",
     "text": [
      "Epoch:10/200 AVG Training Loss:0.664 AVG Validation Loss:0.664 AVG Training Acc 61.90 % AVG Validation Acc 61.86 %\n",
      "Epoch:20/200 AVG Training Loss:0.660 AVG Validation Loss:0.661 AVG Training Acc 61.91 % AVG Validation Acc 61.86 %\n",
      "Epoch:30/200 AVG Training Loss:0.659 AVG Validation Loss:0.662 AVG Training Acc 61.94 % AVG Validation Acc 61.86 %\n",
      "Epoch    34: reducing learning rate of group 0 to 1.0000e-03.\n",
      "Epoch:40/200 AVG Training Loss:0.655 AVG Validation Loss:0.661 AVG Training Acc 62.00 % AVG Validation Acc 62.22 %\n",
      "Epoch:50/200 AVG Training Loss:0.655 AVG Validation Loss:0.661 AVG Training Acc 62.01 % AVG Validation Acc 62.22 %\n",
      "Epoch:60/200 AVG Training Loss:0.653 AVG Validation Loss:0.661 AVG Training Acc 62.10 % AVG Validation Acc 62.13 %\n",
      "Epoch    65: reducing learning rate of group 0 to 1.0000e-04.\n",
      "Epoch:70/200 AVG Training Loss:0.652 AVG Validation Loss:0.661 AVG Training Acc 62.13 % AVG Validation Acc 62.13 %\n",
      "Epoch:80/200 AVG Training Loss:0.651 AVG Validation Loss:0.661 AVG Training Acc 62.16 % AVG Validation Acc 62.13 %\n",
      "Epoch:90/200 AVG Training Loss:0.650 AVG Validation Loss:0.662 AVG Training Acc 62.12 % AVG Validation Acc 62.13 %\n",
      "Epoch    96: reducing learning rate of group 0 to 1.0000e-05.\n",
      "Epoch:100/200 AVG Training Loss:0.651 AVG Validation Loss:0.661 AVG Training Acc 62.15 % AVG Validation Acc 62.13 %\n",
      "Epoch:110/200 AVG Training Loss:0.650 AVG Validation Loss:0.662 AVG Training Acc 62.23 % AVG Validation Acc 62.13 %\n",
      "Epoch:120/200 AVG Training Loss:0.652 AVG Validation Loss:0.662 AVG Training Acc 62.14 % AVG Validation Acc 62.13 %\n",
      "Epoch   127: reducing learning rate of group 0 to 1.0000e-06.\n",
      "Epoch:130/200 AVG Training Loss:0.651 AVG Validation Loss:0.662 AVG Training Acc 62.11 % AVG Validation Acc 62.13 %\n",
      "Epoch:140/200 AVG Training Loss:0.651 AVG Validation Loss:0.661 AVG Training Acc 62.07 % AVG Validation Acc 62.13 %\n",
      "Epoch:150/200 AVG Training Loss:0.652 AVG Validation Loss:0.662 AVG Training Acc 62.09 % AVG Validation Acc 62.13 %\n",
      "Epoch   158: reducing learning rate of group 0 to 1.0000e-07.\n",
      "Epoch:160/200 AVG Training Loss:0.652 AVG Validation Loss:0.662 AVG Training Acc 62.04 % AVG Validation Acc 62.13 %\n",
      "Epoch:170/200 AVG Training Loss:0.650 AVG Validation Loss:0.662 AVG Training Acc 62.18 % AVG Validation Acc 61.95 %\n",
      "Epoch:180/200 AVG Training Loss:0.652 AVG Validation Loss:0.661 AVG Training Acc 62.06 % AVG Validation Acc 62.13 %\n",
      "Epoch   189: reducing learning rate of group 0 to 1.0000e-08.\n",
      "Epoch:190/200 AVG Training Loss:0.651 AVG Validation Loss:0.662 AVG Training Acc 62.15 % AVG Validation Acc 62.13 %\n",
      "Epoch:200/200 AVG Training Loss:0.650 AVG Validation Loss:0.662 AVG Training Acc 62.19 % AVG Validation Acc 62.13 %\n",
      "Split 4\n"
     ]
    },
    {
     "data": {
      "application/vnd.jupyter.widget-view+json": {
       "model_id": "8aae0fd63a4541ea9a7aba4e0b4e0150",
       "version_major": 2,
       "version_minor": 0
      },
      "text/plain": [
       "  0%|          | 0/200 [00:00<?, ?it/s]"
      ]
     },
     "metadata": {},
     "output_type": "display_data"
    },
    {
     "name": "stdout",
     "output_type": "stream",
     "text": [
      "Epoch:10/200 AVG Training Loss:0.664 AVG Validation Loss:0.666 AVG Training Acc 61.88 % AVG Validation Acc 61.95 %\n",
      "Epoch:20/200 AVG Training Loss:0.661 AVG Validation Loss:0.662 AVG Training Acc 61.90 % AVG Validation Acc 61.86 %\n",
      "Epoch:30/200 AVG Training Loss:0.660 AVG Validation Loss:0.662 AVG Training Acc 61.93 % AVG Validation Acc 61.86 %\n",
      "Epoch    38: reducing learning rate of group 0 to 1.0000e-03.\n",
      "Epoch:40/200 AVG Training Loss:0.657 AVG Validation Loss:0.664 AVG Training Acc 62.01 % AVG Validation Acc 61.68 %\n",
      "Epoch:50/200 AVG Training Loss:0.655 AVG Validation Loss:0.666 AVG Training Acc 62.16 % AVG Validation Acc 61.68 %\n",
      "Epoch:60/200 AVG Training Loss:0.653 AVG Validation Loss:0.670 AVG Training Acc 62.19 % AVG Validation Acc 61.86 %\n",
      "Epoch    69: reducing learning rate of group 0 to 1.0000e-04.\n",
      "Epoch:70/200 AVG Training Loss:0.651 AVG Validation Loss:0.672 AVG Training Acc 62.30 % AVG Validation Acc 61.77 %\n",
      "Epoch:80/200 AVG Training Loss:0.652 AVG Validation Loss:0.673 AVG Training Acc 62.29 % AVG Validation Acc 61.68 %\n",
      "Epoch:90/200 AVG Training Loss:0.651 AVG Validation Loss:0.673 AVG Training Acc 62.32 % AVG Validation Acc 61.77 %\n",
      "Epoch:100/200 AVG Training Loss:0.651 AVG Validation Loss:0.673 AVG Training Acc 62.28 % AVG Validation Acc 61.68 %\n",
      "Epoch   100: reducing learning rate of group 0 to 1.0000e-05.\n",
      "Epoch:110/200 AVG Training Loss:0.651 AVG Validation Loss:0.673 AVG Training Acc 62.30 % AVG Validation Acc 61.77 %\n",
      "Epoch:120/200 AVG Training Loss:0.650 AVG Validation Loss:0.674 AVG Training Acc 62.26 % AVG Validation Acc 61.68 %\n",
      "Epoch:130/200 AVG Training Loss:0.651 AVG Validation Loss:0.674 AVG Training Acc 62.27 % AVG Validation Acc 61.59 %\n",
      "Epoch   131: reducing learning rate of group 0 to 1.0000e-06.\n",
      "Epoch:140/200 AVG Training Loss:0.651 AVG Validation Loss:0.673 AVG Training Acc 62.32 % AVG Validation Acc 61.77 %\n",
      "Epoch:150/200 AVG Training Loss:0.651 AVG Validation Loss:0.674 AVG Training Acc 62.34 % AVG Validation Acc 61.77 %\n",
      "Epoch:160/200 AVG Training Loss:0.651 AVG Validation Loss:0.673 AVG Training Acc 62.33 % AVG Validation Acc 61.68 %\n",
      "Epoch   162: reducing learning rate of group 0 to 1.0000e-07.\n",
      "Epoch:170/200 AVG Training Loss:0.651 AVG Validation Loss:0.673 AVG Training Acc 62.30 % AVG Validation Acc 61.86 %\n",
      "Epoch:180/200 AVG Training Loss:0.650 AVG Validation Loss:0.673 AVG Training Acc 62.30 % AVG Validation Acc 61.77 %\n",
      "Epoch:190/200 AVG Training Loss:0.651 AVG Validation Loss:0.673 AVG Training Acc 62.30 % AVG Validation Acc 61.68 %\n",
      "Epoch   193: reducing learning rate of group 0 to 1.0000e-08.\n",
      "Epoch:200/200 AVG Training Loss:0.651 AVG Validation Loss:0.674 AVG Training Acc 62.25 % AVG Validation Acc 61.77 %\n",
      "Split 5\n"
     ]
    },
    {
     "data": {
      "application/vnd.jupyter.widget-view+json": {
       "model_id": "4a7c797f954048e3b58d2a1e9003ce54",
       "version_major": 2,
       "version_minor": 0
      },
      "text/plain": [
       "  0%|          | 0/200 [00:00<?, ?it/s]"
      ]
     },
     "metadata": {},
     "output_type": "display_data"
    },
    {
     "name": "stdout",
     "output_type": "stream",
     "text": [
      "Epoch:10/200 AVG Training Loss:0.664 AVG Validation Loss:0.665 AVG Training Acc 61.89 % AVG Validation Acc 61.86 %\n",
      "Epoch:20/200 AVG Training Loss:0.661 AVG Validation Loss:0.663 AVG Training Acc 61.89 % AVG Validation Acc 61.59 %\n",
      "Epoch:30/200 AVG Training Loss:0.658 AVG Validation Loss:0.664 AVG Training Acc 61.96 % AVG Validation Acc 61.68 %\n",
      "Epoch    38: reducing learning rate of group 0 to 1.0000e-03.\n",
      "Epoch:40/200 AVG Training Loss:0.654 AVG Validation Loss:0.666 AVG Training Acc 62.12 % AVG Validation Acc 61.41 %\n",
      "Epoch:50/200 AVG Training Loss:0.651 AVG Validation Loss:0.668 AVG Training Acc 62.24 % AVG Validation Acc 61.41 %\n",
      "Epoch:60/200 AVG Training Loss:0.650 AVG Validation Loss:0.671 AVG Training Acc 62.20 % AVG Validation Acc 61.41 %\n",
      "Epoch    69: reducing learning rate of group 0 to 1.0000e-04.\n",
      "Epoch:70/200 AVG Training Loss:0.647 AVG Validation Loss:0.669 AVG Training Acc 62.30 % AVG Validation Acc 61.50 %\n",
      "Epoch:80/200 AVG Training Loss:0.648 AVG Validation Loss:0.670 AVG Training Acc 62.30 % AVG Validation Acc 61.41 %\n",
      "Epoch:90/200 AVG Training Loss:0.648 AVG Validation Loss:0.669 AVG Training Acc 62.33 % AVG Validation Acc 61.41 %\n",
      "Epoch:100/200 AVG Training Loss:0.648 AVG Validation Loss:0.671 AVG Training Acc 62.16 % AVG Validation Acc 61.50 %\n",
      "Epoch   100: reducing learning rate of group 0 to 1.0000e-05.\n",
      "Epoch:110/200 AVG Training Loss:0.647 AVG Validation Loss:0.670 AVG Training Acc 62.28 % AVG Validation Acc 61.50 %\n",
      "Epoch:120/200 AVG Training Loss:0.647 AVG Validation Loss:0.671 AVG Training Acc 62.39 % AVG Validation Acc 61.41 %\n",
      "Epoch:130/200 AVG Training Loss:0.647 AVG Validation Loss:0.672 AVG Training Acc 62.36 % AVG Validation Acc 61.50 %\n",
      "Epoch   131: reducing learning rate of group 0 to 1.0000e-06.\n",
      "Epoch:140/200 AVG Training Loss:0.647 AVG Validation Loss:0.670 AVG Training Acc 62.30 % AVG Validation Acc 61.41 %\n",
      "Epoch:150/200 AVG Training Loss:0.647 AVG Validation Loss:0.670 AVG Training Acc 62.32 % AVG Validation Acc 61.41 %\n",
      "Epoch:160/200 AVG Training Loss:0.648 AVG Validation Loss:0.671 AVG Training Acc 62.36 % AVG Validation Acc 61.59 %\n",
      "Epoch   162: reducing learning rate of group 0 to 1.0000e-07.\n",
      "Epoch:170/200 AVG Training Loss:0.647 AVG Validation Loss:0.670 AVG Training Acc 62.32 % AVG Validation Acc 61.50 %\n",
      "Epoch:180/200 AVG Training Loss:0.648 AVG Validation Loss:0.671 AVG Training Acc 62.21 % AVG Validation Acc 61.50 %\n",
      "Epoch:190/200 AVG Training Loss:0.646 AVG Validation Loss:0.670 AVG Training Acc 62.31 % AVG Validation Acc 61.41 %\n",
      "Epoch   193: reducing learning rate of group 0 to 1.0000e-08.\n",
      "Epoch:200/200 AVG Training Loss:0.646 AVG Validation Loss:0.671 AVG Training Acc 62.40 % AVG Validation Acc 61.41 %\n",
      "Split 6\n"
     ]
    },
    {
     "data": {
      "application/vnd.jupyter.widget-view+json": {
       "model_id": "b830197975fd4ff8afc3f853337708cf",
       "version_major": 2,
       "version_minor": 0
      },
      "text/plain": [
       "  0%|          | 0/200 [00:00<?, ?it/s]"
      ]
     },
     "metadata": {},
     "output_type": "display_data"
    },
    {
     "name": "stdout",
     "output_type": "stream",
     "text": [
      "Epoch:10/200 AVG Training Loss:0.662 AVG Validation Loss:0.663 AVG Training Acc 61.85 % AVG Validation Acc 61.91 %\n",
      "Epoch:20/200 AVG Training Loss:0.660 AVG Validation Loss:0.663 AVG Training Acc 61.82 % AVG Validation Acc 61.91 %\n",
      "Epoch    29: reducing learning rate of group 0 to 1.0000e-03.\n",
      "Epoch:30/200 AVG Training Loss:0.656 AVG Validation Loss:0.662 AVG Training Acc 61.95 % AVG Validation Acc 62.00 %\n",
      "New Best Accuracy found: 62.36%\n",
      "Epoch: 34\n",
      "New Best Accuracy found: 62.55%\n",
      "Epoch: 35\n",
      "New Best Accuracy found: 62.82%\n",
      "Epoch: 36\n",
      "New Best Accuracy found: 63.09%\n",
      "Epoch: 38\n",
      "Epoch:40/200 AVG Training Loss:0.651 AVG Validation Loss:0.663 AVG Training Acc 62.48 % AVG Validation Acc 62.82 %\n",
      "Epoch:50/200 AVG Training Loss:0.649 AVG Validation Loss:0.666 AVG Training Acc 62.55 % AVG Validation Acc 62.73 %\n",
      "Epoch:60/200 AVG Training Loss:0.648 AVG Validation Loss:0.671 AVG Training Acc 62.66 % AVG Validation Acc 62.09 %\n",
      "Epoch    60: reducing learning rate of group 0 to 1.0000e-04.\n",
      "Epoch:70/200 AVG Training Loss:0.645 AVG Validation Loss:0.671 AVG Training Acc 62.96 % AVG Validation Acc 62.18 %\n",
      "Epoch:80/200 AVG Training Loss:0.645 AVG Validation Loss:0.671 AVG Training Acc 62.96 % AVG Validation Acc 62.09 %\n",
      "Epoch:90/200 AVG Training Loss:0.645 AVG Validation Loss:0.671 AVG Training Acc 62.95 % AVG Validation Acc 62.00 %\n",
      "Epoch    91: reducing learning rate of group 0 to 1.0000e-05.\n",
      "Epoch:100/200 AVG Training Loss:0.644 AVG Validation Loss:0.670 AVG Training Acc 62.97 % AVG Validation Acc 62.09 %\n",
      "Epoch:110/200 AVG Training Loss:0.644 AVG Validation Loss:0.670 AVG Training Acc 62.98 % AVG Validation Acc 62.36 %\n",
      "Epoch:120/200 AVG Training Loss:0.644 AVG Validation Loss:0.672 AVG Training Acc 63.03 % AVG Validation Acc 61.82 %\n",
      "Epoch   122: reducing learning rate of group 0 to 1.0000e-06.\n",
      "Epoch:130/200 AVG Training Loss:0.645 AVG Validation Loss:0.671 AVG Training Acc 62.95 % AVG Validation Acc 61.73 %\n",
      "Epoch:140/200 AVG Training Loss:0.643 AVG Validation Loss:0.669 AVG Training Acc 62.99 % AVG Validation Acc 62.45 %\n",
      "Epoch:150/200 AVG Training Loss:0.644 AVG Validation Loss:0.671 AVG Training Acc 62.99 % AVG Validation Acc 62.18 %\n",
      "Epoch   153: reducing learning rate of group 0 to 1.0000e-07.\n",
      "Epoch:160/200 AVG Training Loss:0.647 AVG Validation Loss:0.671 AVG Training Acc 62.62 % AVG Validation Acc 62.27 %\n",
      "Epoch:170/200 AVG Training Loss:0.646 AVG Validation Loss:0.670 AVG Training Acc 63.08 % AVG Validation Acc 61.82 %\n",
      "Epoch:180/200 AVG Training Loss:0.644 AVG Validation Loss:0.669 AVG Training Acc 62.91 % AVG Validation Acc 62.18 %\n",
      "Epoch   184: reducing learning rate of group 0 to 1.0000e-08.\n",
      "Epoch:190/200 AVG Training Loss:0.644 AVG Validation Loss:0.670 AVG Training Acc 63.01 % AVG Validation Acc 62.73 %\n",
      "Epoch:200/200 AVG Training Loss:0.645 AVG Validation Loss:0.671 AVG Training Acc 62.91 % AVG Validation Acc 62.27 %\n",
      "Split 7\n"
     ]
    },
    {
     "data": {
      "application/vnd.jupyter.widget-view+json": {
       "model_id": "f4e98bf9c4264529aa160575c9d45f98",
       "version_major": 2,
       "version_minor": 0
      },
      "text/plain": [
       "  0%|          | 0/200 [00:00<?, ?it/s]"
      ]
     },
     "metadata": {},
     "output_type": "display_data"
    },
    {
     "name": "stdout",
     "output_type": "stream",
     "text": [
      "Epoch:10/200 AVG Training Loss:0.664 AVG Validation Loss:0.661 AVG Training Acc 61.88 % AVG Validation Acc 61.91 %\n",
      "Epoch:20/200 AVG Training Loss:0.662 AVG Validation Loss:0.658 AVG Training Acc 61.91 % AVG Validation Acc 61.91 %\n",
      "Epoch    28: reducing learning rate of group 0 to 1.0000e-03.\n",
      "Epoch:30/200 AVG Training Loss:0.659 AVG Validation Loss:0.653 AVG Training Acc 61.96 % AVG Validation Acc 61.91 %\n",
      "Epoch:40/200 AVG Training Loss:0.658 AVG Validation Loss:0.653 AVG Training Acc 61.93 % AVG Validation Acc 62.09 %\n",
      "Epoch:50/200 AVG Training Loss:0.657 AVG Validation Loss:0.653 AVG Training Acc 61.93 % AVG Validation Acc 62.09 %\n",
      "Epoch    59: reducing learning rate of group 0 to 1.0000e-04.\n",
      "Epoch:60/200 AVG Training Loss:0.656 AVG Validation Loss:0.652 AVG Training Acc 61.99 % AVG Validation Acc 62.09 %\n",
      "Epoch:70/200 AVG Training Loss:0.655 AVG Validation Loss:0.652 AVG Training Acc 62.01 % AVG Validation Acc 62.09 %\n",
      "Epoch:80/200 AVG Training Loss:0.656 AVG Validation Loss:0.652 AVG Training Acc 62.00 % AVG Validation Acc 62.09 %\n",
      "Epoch:90/200 AVG Training Loss:0.654 AVG Validation Loss:0.653 AVG Training Acc 62.01 % AVG Validation Acc 62.00 %\n",
      "Epoch    90: reducing learning rate of group 0 to 1.0000e-05.\n",
      "Epoch:100/200 AVG Training Loss:0.655 AVG Validation Loss:0.652 AVG Training Acc 62.05 % AVG Validation Acc 62.00 %\n",
      "Epoch:110/200 AVG Training Loss:0.655 AVG Validation Loss:0.652 AVG Training Acc 62.01 % AVG Validation Acc 62.00 %\n",
      "Epoch:120/200 AVG Training Loss:0.656 AVG Validation Loss:0.652 AVG Training Acc 61.99 % AVG Validation Acc 62.00 %\n",
      "Epoch   121: reducing learning rate of group 0 to 1.0000e-06.\n",
      "Epoch:130/200 AVG Training Loss:0.655 AVG Validation Loss:0.652 AVG Training Acc 62.02 % AVG Validation Acc 62.09 %\n",
      "Epoch:140/200 AVG Training Loss:0.655 AVG Validation Loss:0.653 AVG Training Acc 61.99 % AVG Validation Acc 62.00 %\n",
      "Epoch:150/200 AVG Training Loss:0.655 AVG Validation Loss:0.653 AVG Training Acc 62.02 % AVG Validation Acc 62.00 %\n",
      "Epoch   152: reducing learning rate of group 0 to 1.0000e-07.\n",
      "Epoch:160/200 AVG Training Loss:0.655 AVG Validation Loss:0.652 AVG Training Acc 61.97 % AVG Validation Acc 62.00 %\n",
      "Epoch:170/200 AVG Training Loss:0.655 AVG Validation Loss:0.653 AVG Training Acc 61.99 % AVG Validation Acc 62.09 %\n",
      "Epoch:180/200 AVG Training Loss:0.655 AVG Validation Loss:0.652 AVG Training Acc 61.99 % AVG Validation Acc 62.00 %\n",
      "Epoch   183: reducing learning rate of group 0 to 1.0000e-08.\n",
      "Epoch:190/200 AVG Training Loss:0.655 AVG Validation Loss:0.652 AVG Training Acc 62.00 % AVG Validation Acc 62.00 %\n",
      "Epoch:200/200 AVG Training Loss:0.655 AVG Validation Loss:0.652 AVG Training Acc 62.04 % AVG Validation Acc 62.00 %\n",
      "Split 8\n"
     ]
    },
    {
     "data": {
      "application/vnd.jupyter.widget-view+json": {
       "model_id": "76d7208e725f47ac842d682d1ed0a468",
       "version_major": 2,
       "version_minor": 0
      },
      "text/plain": [
       "  0%|          | 0/200 [00:00<?, ?it/s]"
      ]
     },
     "metadata": {},
     "output_type": "display_data"
    },
    {
     "name": "stdout",
     "output_type": "stream",
     "text": [
      "Epoch:10/200 AVG Training Loss:0.663 AVG Validation Loss:0.661 AVG Training Acc 61.87 % AVG Validation Acc 61.91 %\n",
      "Epoch:20/200 AVG Training Loss:0.662 AVG Validation Loss:0.657 AVG Training Acc 61.90 % AVG Validation Acc 62.00 %\n",
      "Epoch:30/200 AVG Training Loss:0.659 AVG Validation Loss:0.657 AVG Training Acc 61.99 % AVG Validation Acc 61.91 %\n",
      "Epoch    31: reducing learning rate of group 0 to 1.0000e-03.\n",
      "Epoch:40/200 AVG Training Loss:0.654 AVG Validation Loss:0.659 AVG Training Acc 62.05 % AVG Validation Acc 62.18 %\n",
      "Epoch:50/200 AVG Training Loss:0.651 AVG Validation Loss:0.663 AVG Training Acc 62.26 % AVG Validation Acc 62.18 %\n",
      "Epoch:60/200 AVG Training Loss:0.649 AVG Validation Loss:0.672 AVG Training Acc 62.33 % AVG Validation Acc 61.91 %\n",
      "Epoch    62: reducing learning rate of group 0 to 1.0000e-04.\n",
      "Epoch:70/200 AVG Training Loss:0.648 AVG Validation Loss:0.674 AVG Training Acc 62.27 % AVG Validation Acc 62.09 %\n",
      "Epoch:80/200 AVG Training Loss:0.647 AVG Validation Loss:0.677 AVG Training Acc 62.49 % AVG Validation Acc 62.09 %\n",
      "Epoch:90/200 AVG Training Loss:0.647 AVG Validation Loss:0.680 AVG Training Acc 62.46 % AVG Validation Acc 62.18 %\n",
      "Epoch    93: reducing learning rate of group 0 to 1.0000e-05.\n",
      "Epoch:100/200 AVG Training Loss:0.645 AVG Validation Loss:0.678 AVG Training Acc 62.47 % AVG Validation Acc 62.18 %\n",
      "Epoch:110/200 AVG Training Loss:0.648 AVG Validation Loss:0.677 AVG Training Acc 62.45 % AVG Validation Acc 62.18 %\n",
      "Epoch:120/200 AVG Training Loss:0.646 AVG Validation Loss:0.676 AVG Training Acc 62.55 % AVG Validation Acc 62.18 %\n",
      "Epoch   124: reducing learning rate of group 0 to 1.0000e-06.\n",
      "Epoch:130/200 AVG Training Loss:0.647 AVG Validation Loss:0.678 AVG Training Acc 62.50 % AVG Validation Acc 62.18 %\n",
      "Epoch:140/200 AVG Training Loss:0.646 AVG Validation Loss:0.677 AVG Training Acc 62.38 % AVG Validation Acc 62.09 %\n",
      "Epoch:150/200 AVG Training Loss:0.646 AVG Validation Loss:0.677 AVG Training Acc 62.51 % AVG Validation Acc 62.18 %\n",
      "Epoch   155: reducing learning rate of group 0 to 1.0000e-07.\n",
      "Epoch:160/200 AVG Training Loss:0.646 AVG Validation Loss:0.679 AVG Training Acc 62.55 % AVG Validation Acc 62.18 %\n",
      "Epoch:170/200 AVG Training Loss:0.646 AVG Validation Loss:0.678 AVG Training Acc 62.48 % AVG Validation Acc 62.09 %\n",
      "Epoch:180/200 AVG Training Loss:0.646 AVG Validation Loss:0.677 AVG Training Acc 62.49 % AVG Validation Acc 62.18 %\n",
      "Epoch   186: reducing learning rate of group 0 to 1.0000e-08.\n",
      "Epoch:190/200 AVG Training Loss:0.647 AVG Validation Loss:0.678 AVG Training Acc 62.68 % AVG Validation Acc 62.18 %\n",
      "Epoch:200/200 AVG Training Loss:0.646 AVG Validation Loss:0.678 AVG Training Acc 62.47 % AVG Validation Acc 62.00 %\n",
      "Split 9\n"
     ]
    },
    {
     "data": {
      "application/vnd.jupyter.widget-view+json": {
       "model_id": "a6de2e44910440919ce37078225e8878",
       "version_major": 2,
       "version_minor": 0
      },
      "text/plain": [
       "  0%|          | 0/200 [00:00<?, ?it/s]"
      ]
     },
     "metadata": {},
     "output_type": "display_data"
    },
    {
     "name": "stdout",
     "output_type": "stream",
     "text": [
      "Epoch:10/200 AVG Training Loss:0.665 AVG Validation Loss:0.661 AVG Training Acc 61.90 % AVG Validation Acc 61.91 %\n",
      "Epoch:20/200 AVG Training Loss:0.661 AVG Validation Loss:0.661 AVG Training Acc 61.90 % AVG Validation Acc 61.91 %\n",
      "Epoch    24: reducing learning rate of group 0 to 1.0000e-03.\n",
      "Epoch:30/200 AVG Training Loss:0.658 AVG Validation Loss:0.659 AVG Training Acc 61.98 % AVG Validation Acc 62.00 %\n",
      "Epoch:40/200 AVG Training Loss:0.656 AVG Validation Loss:0.659 AVG Training Acc 62.11 % AVG Validation Acc 62.00 %\n",
      "Epoch:50/200 AVG Training Loss:0.653 AVG Validation Loss:0.661 AVG Training Acc 62.17 % AVG Validation Acc 62.00 %\n",
      "Epoch    55: reducing learning rate of group 0 to 1.0000e-04.\n",
      "Epoch:60/200 AVG Training Loss:0.650 AVG Validation Loss:0.665 AVG Training Acc 62.07 % AVG Validation Acc 61.55 %\n",
      "Epoch:70/200 AVG Training Loss:0.652 AVG Validation Loss:0.664 AVG Training Acc 62.12 % AVG Validation Acc 61.64 %\n",
      "Epoch:80/200 AVG Training Loss:0.650 AVG Validation Loss:0.665 AVG Training Acc 62.15 % AVG Validation Acc 61.55 %\n",
      "Epoch    86: reducing learning rate of group 0 to 1.0000e-05.\n",
      "Epoch:90/200 AVG Training Loss:0.650 AVG Validation Loss:0.665 AVG Training Acc 62.12 % AVG Validation Acc 61.73 %\n",
      "Epoch:100/200 AVG Training Loss:0.649 AVG Validation Loss:0.665 AVG Training Acc 62.26 % AVG Validation Acc 61.64 %\n",
      "Epoch:110/200 AVG Training Loss:0.649 AVG Validation Loss:0.665 AVG Training Acc 62.20 % AVG Validation Acc 61.73 %\n",
      "Epoch   117: reducing learning rate of group 0 to 1.0000e-06.\n",
      "Epoch:120/200 AVG Training Loss:0.649 AVG Validation Loss:0.666 AVG Training Acc 62.21 % AVG Validation Acc 61.46 %\n",
      "Epoch:130/200 AVG Training Loss:0.649 AVG Validation Loss:0.666 AVG Training Acc 62.18 % AVG Validation Acc 61.64 %\n",
      "Epoch:140/200 AVG Training Loss:0.649 AVG Validation Loss:0.665 AVG Training Acc 62.29 % AVG Validation Acc 61.55 %\n",
      "Epoch   148: reducing learning rate of group 0 to 1.0000e-07.\n",
      "Epoch:150/200 AVG Training Loss:0.650 AVG Validation Loss:0.667 AVG Training Acc 62.16 % AVG Validation Acc 61.64 %\n",
      "Epoch:160/200 AVG Training Loss:0.650 AVG Validation Loss:0.666 AVG Training Acc 62.16 % AVG Validation Acc 61.73 %\n",
      "Epoch:170/200 AVG Training Loss:0.649 AVG Validation Loss:0.666 AVG Training Acc 62.30 % AVG Validation Acc 61.64 %\n",
      "Epoch   179: reducing learning rate of group 0 to 1.0000e-08.\n",
      "Epoch:180/200 AVG Training Loss:0.648 AVG Validation Loss:0.666 AVG Training Acc 62.23 % AVG Validation Acc 61.64 %\n",
      "Epoch:190/200 AVG Training Loss:0.649 AVG Validation Loss:0.665 AVG Training Acc 62.11 % AVG Validation Acc 61.55 %\n",
      "Epoch:200/200 AVG Training Loss:0.649 AVG Validation Loss:0.666 AVG Training Acc 62.22 % AVG Validation Acc 61.73 %\n",
      "Split 10\n"
     ]
    },
    {
     "data": {
      "application/vnd.jupyter.widget-view+json": {
       "model_id": "3b4e8626295747a0b79ff24902112c7d",
       "version_major": 2,
       "version_minor": 0
      },
      "text/plain": [
       "  0%|          | 0/200 [00:00<?, ?it/s]"
      ]
     },
     "metadata": {},
     "output_type": "display_data"
    },
    {
     "name": "stdout",
     "output_type": "stream",
     "text": [
      "Epoch:10/200 AVG Training Loss:0.660 AVG Validation Loss:0.664 AVG Training Acc 61.89 % AVG Validation Acc 61.91 %\n",
      "Epoch:20/200 AVG Training Loss:0.659 AVG Validation Loss:0.663 AVG Training Acc 61.85 % AVG Validation Acc 61.91 %\n",
      "Epoch:30/200 AVG Training Loss:0.659 AVG Validation Loss:0.664 AVG Training Acc 61.91 % AVG Validation Acc 61.91 %\n",
      "Epoch    31: reducing learning rate of group 0 to 1.0000e-03.\n",
      "Epoch:40/200 AVG Training Loss:0.654 AVG Validation Loss:0.664 AVG Training Acc 61.95 % AVG Validation Acc 62.00 %\n",
      "Epoch:50/200 AVG Training Loss:0.651 AVG Validation Loss:0.662 AVG Training Acc 62.07 % AVG Validation Acc 61.82 %\n",
      "Epoch:60/200 AVG Training Loss:0.650 AVG Validation Loss:0.664 AVG Training Acc 61.95 % AVG Validation Acc 61.91 %\n",
      "Epoch    62: reducing learning rate of group 0 to 1.0000e-04.\n",
      "Epoch:70/200 AVG Training Loss:0.649 AVG Validation Loss:0.662 AVG Training Acc 62.06 % AVG Validation Acc 61.82 %\n",
      "Epoch:80/200 AVG Training Loss:0.648 AVG Validation Loss:0.663 AVG Training Acc 62.05 % AVG Validation Acc 61.82 %\n",
      "Epoch:90/200 AVG Training Loss:0.648 AVG Validation Loss:0.662 AVG Training Acc 62.08 % AVG Validation Acc 61.82 %\n",
      "Epoch:100/200 AVG Training Loss:0.648 AVG Validation Loss:0.663 AVG Training Acc 62.12 % AVG Validation Acc 61.82 %\n",
      "Epoch   103: reducing learning rate of group 0 to 1.0000e-05.\n",
      "Epoch:110/200 AVG Training Loss:0.647 AVG Validation Loss:0.662 AVG Training Acc 62.13 % AVG Validation Acc 61.82 %\n",
      "Epoch:120/200 AVG Training Loss:0.647 AVG Validation Loss:0.662 AVG Training Acc 62.16 % AVG Validation Acc 61.82 %\n",
      "Epoch:130/200 AVG Training Loss:0.648 AVG Validation Loss:0.662 AVG Training Acc 62.09 % AVG Validation Acc 61.82 %\n",
      "Epoch   134: reducing learning rate of group 0 to 1.0000e-06.\n",
      "Epoch:140/200 AVG Training Loss:0.648 AVG Validation Loss:0.663 AVG Training Acc 62.02 % AVG Validation Acc 61.82 %\n",
      "Epoch:150/200 AVG Training Loss:0.647 AVG Validation Loss:0.663 AVG Training Acc 62.18 % AVG Validation Acc 61.82 %\n",
      "Epoch:160/200 AVG Training Loss:0.647 AVG Validation Loss:0.662 AVG Training Acc 62.05 % AVG Validation Acc 61.82 %\n",
      "Epoch   165: reducing learning rate of group 0 to 1.0000e-07.\n",
      "Epoch:170/200 AVG Training Loss:0.648 AVG Validation Loss:0.663 AVG Training Acc 62.10 % AVG Validation Acc 61.82 %\n",
      "Epoch:180/200 AVG Training Loss:0.647 AVG Validation Loss:0.663 AVG Training Acc 62.15 % AVG Validation Acc 61.82 %\n",
      "Epoch:190/200 AVG Training Loss:0.648 AVG Validation Loss:0.662 AVG Training Acc 62.10 % AVG Validation Acc 61.82 %\n",
      "Epoch   196: reducing learning rate of group 0 to 1.0000e-08.\n",
      "Epoch:200/200 AVG Training Loss:0.648 AVG Validation Loss:0.662 AVG Training Acc 62.04 % AVG Validation Acc 61.82 %\n",
      "Split 11\n"
     ]
    },
    {
     "data": {
      "application/vnd.jupyter.widget-view+json": {
       "model_id": "e16a190ddaff4d0a9d4f6a8803e016bc",
       "version_major": 2,
       "version_minor": 0
      },
      "text/plain": [
       "  0%|          | 0/200 [00:00<?, ?it/s]"
      ]
     },
     "metadata": {},
     "output_type": "display_data"
    },
    {
     "name": "stdout",
     "output_type": "stream",
     "text": [
      "Epoch:10/200 AVG Training Loss:0.664 AVG Validation Loss:0.664 AVG Training Acc 61.89 % AVG Validation Acc 61.95 %\n",
      "Epoch:20/200 AVG Training Loss:0.663 AVG Validation Loss:0.660 AVG Training Acc 61.89 % AVG Validation Acc 61.95 %\n",
      "Epoch:30/200 AVG Training Loss:0.659 AVG Validation Loss:0.661 AVG Training Acc 61.93 % AVG Validation Acc 61.95 %\n",
      "Epoch    31: reducing learning rate of group 0 to 1.0000e-03.\n",
      "Epoch:40/200 AVG Training Loss:0.657 AVG Validation Loss:0.664 AVG Training Acc 61.96 % AVG Validation Acc 61.77 %\n",
      "Epoch:50/200 AVG Training Loss:0.656 AVG Validation Loss:0.665 AVG Training Acc 61.99 % AVG Validation Acc 61.77 %\n",
      "Epoch:60/200 AVG Training Loss:0.654 AVG Validation Loss:0.665 AVG Training Acc 62.06 % AVG Validation Acc 61.77 %\n",
      "Epoch    62: reducing learning rate of group 0 to 1.0000e-04.\n",
      "Epoch:70/200 AVG Training Loss:0.654 AVG Validation Loss:0.665 AVG Training Acc 62.02 % AVG Validation Acc 61.77 %\n",
      "Epoch:80/200 AVG Training Loss:0.653 AVG Validation Loss:0.664 AVG Training Acc 62.00 % AVG Validation Acc 61.77 %\n",
      "Epoch:90/200 AVG Training Loss:0.654 AVG Validation Loss:0.664 AVG Training Acc 62.13 % AVG Validation Acc 61.77 %\n",
      "Epoch    93: reducing learning rate of group 0 to 1.0000e-05.\n",
      "Epoch:100/200 AVG Training Loss:0.654 AVG Validation Loss:0.665 AVG Training Acc 61.97 % AVG Validation Acc 61.77 %\n",
      "Epoch:110/200 AVG Training Loss:0.654 AVG Validation Loss:0.664 AVG Training Acc 62.03 % AVG Validation Acc 61.77 %\n",
      "Epoch:120/200 AVG Training Loss:0.654 AVG Validation Loss:0.665 AVG Training Acc 61.92 % AVG Validation Acc 61.77 %\n",
      "Epoch   124: reducing learning rate of group 0 to 1.0000e-06.\n",
      "Epoch:130/200 AVG Training Loss:0.654 AVG Validation Loss:0.664 AVG Training Acc 62.07 % AVG Validation Acc 61.77 %\n",
      "Epoch:140/200 AVG Training Loss:0.654 AVG Validation Loss:0.664 AVG Training Acc 62.04 % AVG Validation Acc 61.77 %\n",
      "Epoch:150/200 AVG Training Loss:0.654 AVG Validation Loss:0.665 AVG Training Acc 62.00 % AVG Validation Acc 61.77 %\n",
      "Epoch   155: reducing learning rate of group 0 to 1.0000e-07.\n",
      "Epoch:160/200 AVG Training Loss:0.654 AVG Validation Loss:0.664 AVG Training Acc 62.02 % AVG Validation Acc 61.77 %\n",
      "Epoch:170/200 AVG Training Loss:0.654 AVG Validation Loss:0.665 AVG Training Acc 62.14 % AVG Validation Acc 61.77 %\n",
      "Epoch:180/200 AVG Training Loss:0.654 AVG Validation Loss:0.665 AVG Training Acc 61.99 % AVG Validation Acc 61.77 %\n",
      "Epoch   186: reducing learning rate of group 0 to 1.0000e-08.\n",
      "Epoch:190/200 AVG Training Loss:0.654 AVG Validation Loss:0.664 AVG Training Acc 62.05 % AVG Validation Acc 61.77 %\n",
      "Epoch:200/200 AVG Training Loss:0.654 AVG Validation Loss:0.664 AVG Training Acc 62.03 % AVG Validation Acc 61.77 %\n",
      "Split 12\n"
     ]
    },
    {
     "data": {
      "application/vnd.jupyter.widget-view+json": {
       "model_id": "312d29cf486d49519fc01e55cac8a545",
       "version_major": 2,
       "version_minor": 0
      },
      "text/plain": [
       "  0%|          | 0/200 [00:00<?, ?it/s]"
      ]
     },
     "metadata": {},
     "output_type": "display_data"
    },
    {
     "name": "stdout",
     "output_type": "stream",
     "text": [
      "Epoch:10/200 AVG Training Loss:0.661 AVG Validation Loss:0.664 AVG Training Acc 61.98 % AVG Validation Acc 61.86 %\n",
      "Epoch:20/200 AVG Training Loss:0.660 AVG Validation Loss:0.662 AVG Training Acc 61.89 % AVG Validation Acc 61.86 %\n",
      "Epoch    27: reducing learning rate of group 0 to 1.0000e-03.\n",
      "Epoch:30/200 AVG Training Loss:0.654 AVG Validation Loss:0.663 AVG Training Acc 62.10 % AVG Validation Acc 61.77 %\n",
      "Epoch:40/200 AVG Training Loss:0.651 AVG Validation Loss:0.663 AVG Training Acc 62.32 % AVG Validation Acc 62.67 %\n",
      "Epoch:50/200 AVG Training Loss:0.649 AVG Validation Loss:0.664 AVG Training Acc 62.70 % AVG Validation Acc 62.22 %\n",
      "Epoch    58: reducing learning rate of group 0 to 1.0000e-04.\n",
      "Epoch:60/200 AVG Training Loss:0.645 AVG Validation Loss:0.667 AVG Training Acc 62.92 % AVG Validation Acc 62.31 %\n",
      "Epoch:70/200 AVG Training Loss:0.643 AVG Validation Loss:0.667 AVG Training Acc 62.84 % AVG Validation Acc 61.77 %\n",
      "Epoch:80/200 AVG Training Loss:0.644 AVG Validation Loss:0.664 AVG Training Acc 63.08 % AVG Validation Acc 62.13 %\n",
      "Epoch    89: reducing learning rate of group 0 to 1.0000e-05.\n",
      "Epoch:90/200 AVG Training Loss:0.645 AVG Validation Loss:0.664 AVG Training Acc 62.78 % AVG Validation Acc 61.59 %\n",
      "Epoch:100/200 AVG Training Loss:0.643 AVG Validation Loss:0.663 AVG Training Acc 62.98 % AVG Validation Acc 61.86 %\n",
      "Epoch:110/200 AVG Training Loss:0.642 AVG Validation Loss:0.664 AVG Training Acc 63.13 % AVG Validation Acc 62.31 %\n",
      "Epoch:120/200 AVG Training Loss:0.643 AVG Validation Loss:0.664 AVG Training Acc 62.96 % AVG Validation Acc 61.59 %\n",
      "Epoch   120: reducing learning rate of group 0 to 1.0000e-06.\n",
      "Epoch:130/200 AVG Training Loss:0.643 AVG Validation Loss:0.667 AVG Training Acc 63.05 % AVG Validation Acc 61.68 %\n",
      "Epoch:140/200 AVG Training Loss:0.643 AVG Validation Loss:0.666 AVG Training Acc 62.94 % AVG Validation Acc 61.86 %\n",
      "Epoch:150/200 AVG Training Loss:0.641 AVG Validation Loss:0.663 AVG Training Acc 63.13 % AVG Validation Acc 61.86 %\n",
      "Epoch   151: reducing learning rate of group 0 to 1.0000e-07.\n",
      "Epoch:160/200 AVG Training Loss:0.643 AVG Validation Loss:0.664 AVG Training Acc 63.07 % AVG Validation Acc 62.04 %\n",
      "Epoch:170/200 AVG Training Loss:0.642 AVG Validation Loss:0.663 AVG Training Acc 62.98 % AVG Validation Acc 61.86 %\n",
      "Epoch:180/200 AVG Training Loss:0.643 AVG Validation Loss:0.665 AVG Training Acc 63.05 % AVG Validation Acc 61.68 %\n",
      "Epoch   182: reducing learning rate of group 0 to 1.0000e-08.\n",
      "Epoch:190/200 AVG Training Loss:0.644 AVG Validation Loss:0.663 AVG Training Acc 62.95 % AVG Validation Acc 61.86 %\n",
      "Epoch:200/200 AVG Training Loss:0.643 AVG Validation Loss:0.665 AVG Training Acc 63.12 % AVG Validation Acc 61.77 %\n",
      "Split 13\n"
     ]
    },
    {
     "data": {
      "application/vnd.jupyter.widget-view+json": {
       "model_id": "c282b73d787c4dcb8f89763423991283",
       "version_major": 2,
       "version_minor": 0
      },
      "text/plain": [
       "  0%|          | 0/200 [00:00<?, ?it/s]"
      ]
     },
     "metadata": {},
     "output_type": "display_data"
    },
    {
     "name": "stdout",
     "output_type": "stream",
     "text": [
      "Epoch:10/200 AVG Training Loss:0.664 AVG Validation Loss:0.664 AVG Training Acc 61.90 % AVG Validation Acc 61.86 %\n",
      "Epoch    13: reducing learning rate of group 0 to 1.0000e-03.\n",
      "Epoch:20/200 AVG Training Loss:0.661 AVG Validation Loss:0.662 AVG Training Acc 61.93 % AVG Validation Acc 61.95 %\n",
      "Epoch:30/200 AVG Training Loss:0.661 AVG Validation Loss:0.660 AVG Training Acc 61.94 % AVG Validation Acc 61.77 %\n",
      "Epoch:40/200 AVG Training Loss:0.659 AVG Validation Loss:0.656 AVG Training Acc 61.98 % AVG Validation Acc 61.86 %\n",
      "Epoch:50/200 AVG Training Loss:0.658 AVG Validation Loss:0.656 AVG Training Acc 62.00 % AVG Validation Acc 61.95 %\n",
      "Epoch    50: reducing learning rate of group 0 to 1.0000e-04.\n",
      "Epoch:60/200 AVG Training Loss:0.657 AVG Validation Loss:0.655 AVG Training Acc 62.04 % AVG Validation Acc 61.68 %\n",
      "Epoch:70/200 AVG Training Loss:0.657 AVG Validation Loss:0.656 AVG Training Acc 62.09 % AVG Validation Acc 61.68 %\n",
      "Epoch:80/200 AVG Training Loss:0.657 AVG Validation Loss:0.657 AVG Training Acc 62.04 % AVG Validation Acc 61.77 %\n",
      "Epoch    81: reducing learning rate of group 0 to 1.0000e-05.\n",
      "Epoch:90/200 AVG Training Loss:0.656 AVG Validation Loss:0.657 AVG Training Acc 62.05 % AVG Validation Acc 61.86 %\n",
      "Epoch:100/200 AVG Training Loss:0.656 AVG Validation Loss:0.657 AVG Training Acc 62.07 % AVG Validation Acc 61.77 %\n",
      "Epoch:110/200 AVG Training Loss:0.656 AVG Validation Loss:0.657 AVG Training Acc 62.07 % AVG Validation Acc 61.77 %\n",
      "Epoch   112: reducing learning rate of group 0 to 1.0000e-06.\n",
      "Epoch:120/200 AVG Training Loss:0.657 AVG Validation Loss:0.657 AVG Training Acc 62.04 % AVG Validation Acc 61.86 %\n",
      "Epoch:130/200 AVG Training Loss:0.656 AVG Validation Loss:0.657 AVG Training Acc 62.08 % AVG Validation Acc 61.77 %\n",
      "Epoch:140/200 AVG Training Loss:0.656 AVG Validation Loss:0.657 AVG Training Acc 62.04 % AVG Validation Acc 61.86 %\n",
      "Epoch   143: reducing learning rate of group 0 to 1.0000e-07.\n",
      "Epoch:150/200 AVG Training Loss:0.656 AVG Validation Loss:0.657 AVG Training Acc 62.02 % AVG Validation Acc 61.77 %\n",
      "Epoch:160/200 AVG Training Loss:0.657 AVG Validation Loss:0.657 AVG Training Acc 62.06 % AVG Validation Acc 61.86 %\n",
      "Epoch:170/200 AVG Training Loss:0.656 AVG Validation Loss:0.657 AVG Training Acc 62.03 % AVG Validation Acc 61.77 %\n",
      "Epoch   174: reducing learning rate of group 0 to 1.0000e-08.\n",
      "Epoch:180/200 AVG Training Loss:0.656 AVG Validation Loss:0.657 AVG Training Acc 62.07 % AVG Validation Acc 61.86 %\n",
      "Epoch:190/200 AVG Training Loss:0.657 AVG Validation Loss:0.657 AVG Training Acc 62.05 % AVG Validation Acc 61.86 %\n",
      "Epoch:200/200 AVG Training Loss:0.656 AVG Validation Loss:0.657 AVG Training Acc 62.09 % AVG Validation Acc 61.86 %\n",
      "Split 14\n"
     ]
    },
    {
     "data": {
      "application/vnd.jupyter.widget-view+json": {
       "model_id": "75f2009925644bc798d4cfb161e3f99f",
       "version_major": 2,
       "version_minor": 0
      },
      "text/plain": [
       "  0%|          | 0/200 [00:00<?, ?it/s]"
      ]
     },
     "metadata": {},
     "output_type": "display_data"
    },
    {
     "name": "stdout",
     "output_type": "stream",
     "text": [
      "Epoch:10/200 AVG Training Loss:0.664 AVG Validation Loss:0.663 AVG Training Acc 61.89 % AVG Validation Acc 61.86 %\n",
      "Epoch:20/200 AVG Training Loss:0.660 AVG Validation Loss:0.659 AVG Training Acc 62.00 % AVG Validation Acc 61.77 %\n",
      "Epoch:30/200 AVG Training Loss:0.656 AVG Validation Loss:0.664 AVG Training Acc 61.98 % AVG Validation Acc 61.41 %\n",
      "Epoch    30: reducing learning rate of group 0 to 1.0000e-03.\n",
      "Epoch:40/200 AVG Training Loss:0.649 AVG Validation Loss:0.671 AVG Training Acc 62.46 % AVG Validation Acc 61.41 %\n",
      "Epoch:50/200 AVG Training Loss:0.648 AVG Validation Loss:0.679 AVG Training Acc 62.29 % AVG Validation Acc 61.41 %\n",
      "Epoch:60/200 AVG Training Loss:0.642 AVG Validation Loss:0.694 AVG Training Acc 62.59 % AVG Validation Acc 61.23 %\n",
      "Epoch    61: reducing learning rate of group 0 to 1.0000e-04.\n",
      "Epoch:70/200 AVG Training Loss:0.642 AVG Validation Loss:0.699 AVG Training Acc 62.64 % AVG Validation Acc 61.14 %\n",
      "Epoch:80/200 AVG Training Loss:0.641 AVG Validation Loss:0.702 AVG Training Acc 62.53 % AVG Validation Acc 61.14 %\n",
      "Epoch:90/200 AVG Training Loss:0.640 AVG Validation Loss:0.703 AVG Training Acc 62.64 % AVG Validation Acc 61.23 %\n",
      "Epoch    92: reducing learning rate of group 0 to 1.0000e-05.\n",
      "Epoch:100/200 AVG Training Loss:0.641 AVG Validation Loss:0.706 AVG Training Acc 62.35 % AVG Validation Acc 61.14 %\n",
      "Epoch:110/200 AVG Training Loss:0.643 AVG Validation Loss:0.703 AVG Training Acc 62.45 % AVG Validation Acc 61.14 %\n",
      "Epoch:120/200 AVG Training Loss:0.640 AVG Validation Loss:0.703 AVG Training Acc 62.46 % AVG Validation Acc 61.23 %\n",
      "Epoch   123: reducing learning rate of group 0 to 1.0000e-06.\n",
      "Epoch:130/200 AVG Training Loss:0.641 AVG Validation Loss:0.703 AVG Training Acc 62.57 % AVG Validation Acc 61.14 %\n",
      "Epoch:140/200 AVG Training Loss:0.640 AVG Validation Loss:0.702 AVG Training Acc 62.61 % AVG Validation Acc 61.14 %\n",
      "Epoch:150/200 AVG Training Loss:0.642 AVG Validation Loss:0.702 AVG Training Acc 62.60 % AVG Validation Acc 61.23 %\n",
      "Epoch   154: reducing learning rate of group 0 to 1.0000e-07.\n",
      "Epoch:160/200 AVG Training Loss:0.641 AVG Validation Loss:0.702 AVG Training Acc 62.61 % AVG Validation Acc 61.23 %\n",
      "Epoch:170/200 AVG Training Loss:0.641 AVG Validation Loss:0.707 AVG Training Acc 62.45 % AVG Validation Acc 61.14 %\n",
      "Epoch:180/200 AVG Training Loss:0.641 AVG Validation Loss:0.704 AVG Training Acc 62.60 % AVG Validation Acc 61.14 %\n",
      "Epoch   185: reducing learning rate of group 0 to 1.0000e-08.\n",
      "Epoch:190/200 AVG Training Loss:0.642 AVG Validation Loss:0.706 AVG Training Acc 62.49 % AVG Validation Acc 61.14 %\n",
      "Epoch:200/200 AVG Training Loss:0.641 AVG Validation Loss:0.705 AVG Training Acc 62.56 % AVG Validation Acc 61.14 %\n",
      "Split 15\n"
     ]
    },
    {
     "data": {
      "application/vnd.jupyter.widget-view+json": {
       "model_id": "0c9f9ab3fd014563ae02d8e7ce6e7150",
       "version_major": 2,
       "version_minor": 0
      },
      "text/plain": [
       "  0%|          | 0/200 [00:00<?, ?it/s]"
      ]
     },
     "metadata": {},
     "output_type": "display_data"
    },
    {
     "name": "stdout",
     "output_type": "stream",
     "text": [
      "Epoch:10/200 AVG Training Loss:0.662 AVG Validation Loss:0.669 AVG Training Acc 61.80 % AVG Validation Acc 61.86 %\n",
      "Epoch:20/200 AVG Training Loss:0.659 AVG Validation Loss:0.661 AVG Training Acc 61.90 % AVG Validation Acc 61.86 %\n",
      "Epoch:30/200 AVG Training Loss:0.658 AVG Validation Loss:0.661 AVG Training Acc 62.00 % AVG Validation Acc 62.31 %\n",
      "Epoch    39: reducing learning rate of group 0 to 1.0000e-03.\n",
      "Epoch:40/200 AVG Training Loss:0.654 AVG Validation Loss:0.660 AVG Training Acc 62.05 % AVG Validation Acc 62.13 %\n",
      "Epoch:50/200 AVG Training Loss:0.653 AVG Validation Loss:0.660 AVG Training Acc 61.98 % AVG Validation Acc 62.40 %\n",
      "Epoch:60/200 AVG Training Loss:0.652 AVG Validation Loss:0.661 AVG Training Acc 62.17 % AVG Validation Acc 62.40 %\n",
      "Epoch:70/200 AVG Training Loss:0.649 AVG Validation Loss:0.661 AVG Training Acc 62.29 % AVG Validation Acc 62.49 %\n",
      "Epoch    70: reducing learning rate of group 0 to 1.0000e-04.\n",
      "Epoch:80/200 AVG Training Loss:0.648 AVG Validation Loss:0.661 AVG Training Acc 62.18 % AVG Validation Acc 62.40 %\n",
      "Epoch:90/200 AVG Training Loss:0.648 AVG Validation Loss:0.661 AVG Training Acc 62.28 % AVG Validation Acc 62.49 %\n",
      "Epoch:100/200 AVG Training Loss:0.648 AVG Validation Loss:0.661 AVG Training Acc 62.20 % AVG Validation Acc 62.40 %\n",
      "Epoch   101: reducing learning rate of group 0 to 1.0000e-05.\n",
      "Epoch:110/200 AVG Training Loss:0.649 AVG Validation Loss:0.661 AVG Training Acc 62.23 % AVG Validation Acc 62.40 %\n",
      "Epoch:120/200 AVG Training Loss:0.648 AVG Validation Loss:0.661 AVG Training Acc 62.21 % AVG Validation Acc 62.40 %\n",
      "Epoch:130/200 AVG Training Loss:0.648 AVG Validation Loss:0.661 AVG Training Acc 62.28 % AVG Validation Acc 62.40 %\n",
      "Epoch   132: reducing learning rate of group 0 to 1.0000e-06.\n",
      "Epoch:140/200 AVG Training Loss:0.647 AVG Validation Loss:0.662 AVG Training Acc 62.17 % AVG Validation Acc 62.40 %\n",
      "Epoch:150/200 AVG Training Loss:0.649 AVG Validation Loss:0.661 AVG Training Acc 62.26 % AVG Validation Acc 62.40 %\n",
      "Epoch:160/200 AVG Training Loss:0.647 AVG Validation Loss:0.661 AVG Training Acc 62.34 % AVG Validation Acc 62.40 %\n",
      "Epoch   163: reducing learning rate of group 0 to 1.0000e-07.\n",
      "Epoch:170/200 AVG Training Loss:0.648 AVG Validation Loss:0.662 AVG Training Acc 62.11 % AVG Validation Acc 62.40 %\n",
      "Epoch:180/200 AVG Training Loss:0.649 AVG Validation Loss:0.661 AVG Training Acc 62.19 % AVG Validation Acc 62.40 %\n",
      "Epoch:190/200 AVG Training Loss:0.648 AVG Validation Loss:0.661 AVG Training Acc 62.18 % AVG Validation Acc 62.40 %\n",
      "Epoch   194: reducing learning rate of group 0 to 1.0000e-08.\n",
      "Epoch:200/200 AVG Training Loss:0.648 AVG Validation Loss:0.661 AVG Training Acc 62.19 % AVG Validation Acc 62.40 %\n",
      "Split 16\n"
     ]
    },
    {
     "data": {
      "application/vnd.jupyter.widget-view+json": {
       "model_id": "15d69c87bf2541709e2341c336510e5e",
       "version_major": 2,
       "version_minor": 0
      },
      "text/plain": [
       "  0%|          | 0/200 [00:00<?, ?it/s]"
      ]
     },
     "metadata": {},
     "output_type": "display_data"
    },
    {
     "name": "stdout",
     "output_type": "stream",
     "text": [
      "Epoch:10/200 AVG Training Loss:0.662 AVG Validation Loss:0.664 AVG Training Acc 61.76 % AVG Validation Acc 61.91 %\n",
      "Epoch:20/200 AVG Training Loss:0.660 AVG Validation Loss:0.662 AVG Training Acc 61.91 % AVG Validation Acc 62.09 %\n",
      "Epoch    23: reducing learning rate of group 0 to 1.0000e-03.\n",
      "Epoch:30/200 AVG Training Loss:0.657 AVG Validation Loss:0.663 AVG Training Acc 61.93 % AVG Validation Acc 62.09 %\n",
      "Epoch:40/200 AVG Training Loss:0.656 AVG Validation Loss:0.664 AVG Training Acc 61.95 % AVG Validation Acc 62.09 %\n",
      "Epoch:50/200 AVG Training Loss:0.656 AVG Validation Loss:0.665 AVG Training Acc 61.97 % AVG Validation Acc 62.09 %\n",
      "Epoch    54: reducing learning rate of group 0 to 1.0000e-04.\n",
      "Epoch:60/200 AVG Training Loss:0.655 AVG Validation Loss:0.666 AVG Training Acc 61.99 % AVG Validation Acc 62.09 %\n",
      "Epoch:70/200 AVG Training Loss:0.655 AVG Validation Loss:0.666 AVG Training Acc 62.02 % AVG Validation Acc 62.09 %\n",
      "Epoch:80/200 AVG Training Loss:0.655 AVG Validation Loss:0.666 AVG Training Acc 61.98 % AVG Validation Acc 62.09 %\n",
      "Epoch    85: reducing learning rate of group 0 to 1.0000e-05.\n",
      "Epoch:90/200 AVG Training Loss:0.655 AVG Validation Loss:0.666 AVG Training Acc 62.00 % AVG Validation Acc 61.91 %\n",
      "Epoch:100/200 AVG Training Loss:0.655 AVG Validation Loss:0.666 AVG Training Acc 61.96 % AVG Validation Acc 62.00 %\n",
      "Epoch:110/200 AVG Training Loss:0.655 AVG Validation Loss:0.666 AVG Training Acc 62.00 % AVG Validation Acc 62.00 %\n",
      "Epoch   116: reducing learning rate of group 0 to 1.0000e-06.\n",
      "Epoch:120/200 AVG Training Loss:0.654 AVG Validation Loss:0.666 AVG Training Acc 62.04 % AVG Validation Acc 62.00 %\n",
      "Epoch:130/200 AVG Training Loss:0.654 AVG Validation Loss:0.666 AVG Training Acc 61.94 % AVG Validation Acc 62.00 %\n",
      "Epoch:140/200 AVG Training Loss:0.655 AVG Validation Loss:0.666 AVG Training Acc 62.01 % AVG Validation Acc 62.00 %\n",
      "Epoch   147: reducing learning rate of group 0 to 1.0000e-07.\n",
      "Epoch:150/200 AVG Training Loss:0.655 AVG Validation Loss:0.666 AVG Training Acc 62.00 % AVG Validation Acc 62.00 %\n",
      "Epoch:160/200 AVG Training Loss:0.655 AVG Validation Loss:0.666 AVG Training Acc 61.98 % AVG Validation Acc 62.00 %\n",
      "Epoch:170/200 AVG Training Loss:0.654 AVG Validation Loss:0.666 AVG Training Acc 61.95 % AVG Validation Acc 62.00 %\n",
      "Epoch   178: reducing learning rate of group 0 to 1.0000e-08.\n",
      "Epoch:180/200 AVG Training Loss:0.655 AVG Validation Loss:0.666 AVG Training Acc 61.99 % AVG Validation Acc 61.91 %\n",
      "Epoch:190/200 AVG Training Loss:0.655 AVG Validation Loss:0.666 AVG Training Acc 62.02 % AVG Validation Acc 62.00 %\n",
      "Epoch:200/200 AVG Training Loss:0.654 AVG Validation Loss:0.666 AVG Training Acc 61.97 % AVG Validation Acc 62.00 %\n",
      "Split 17\n"
     ]
    },
    {
     "data": {
      "application/vnd.jupyter.widget-view+json": {
       "model_id": "311ef55de1bf4f5bbef969a9d3e114d9",
       "version_major": 2,
       "version_minor": 0
      },
      "text/plain": [
       "  0%|          | 0/200 [00:00<?, ?it/s]"
      ]
     },
     "metadata": {},
     "output_type": "display_data"
    },
    {
     "name": "stdout",
     "output_type": "stream",
     "text": [
      "Epoch:10/200 AVG Training Loss:0.663 AVG Validation Loss:0.661 AVG Training Acc 61.75 % AVG Validation Acc 61.91 %\n",
      "Epoch:20/200 AVG Training Loss:0.660 AVG Validation Loss:0.660 AVG Training Acc 61.97 % AVG Validation Acc 61.91 %\n",
      "Epoch    24: reducing learning rate of group 0 to 1.0000e-03.\n",
      "Epoch:30/200 AVG Training Loss:0.658 AVG Validation Loss:0.659 AVG Training Acc 61.97 % AVG Validation Acc 61.91 %\n",
      "Epoch:40/200 AVG Training Loss:0.657 AVG Validation Loss:0.659 AVG Training Acc 61.96 % AVG Validation Acc 61.91 %\n",
      "Epoch:50/200 AVG Training Loss:0.656 AVG Validation Loss:0.662 AVG Training Acc 61.98 % AVG Validation Acc 61.91 %\n",
      "Epoch    55: reducing learning rate of group 0 to 1.0000e-04.\n",
      "Epoch:60/200 AVG Training Loss:0.655 AVG Validation Loss:0.659 AVG Training Acc 61.94 % AVG Validation Acc 61.91 %\n",
      "Epoch:70/200 AVG Training Loss:0.655 AVG Validation Loss:0.661 AVG Training Acc 61.97 % AVG Validation Acc 61.91 %\n",
      "Epoch:80/200 AVG Training Loss:0.655 AVG Validation Loss:0.661 AVG Training Acc 62.00 % AVG Validation Acc 61.91 %\n",
      "Epoch    86: reducing learning rate of group 0 to 1.0000e-05.\n",
      "Epoch:90/200 AVG Training Loss:0.655 AVG Validation Loss:0.660 AVG Training Acc 61.99 % AVG Validation Acc 61.91 %\n",
      "Epoch:100/200 AVG Training Loss:0.655 AVG Validation Loss:0.660 AVG Training Acc 62.00 % AVG Validation Acc 62.00 %\n",
      "Epoch:110/200 AVG Training Loss:0.655 AVG Validation Loss:0.660 AVG Training Acc 62.01 % AVG Validation Acc 62.00 %\n",
      "Epoch   117: reducing learning rate of group 0 to 1.0000e-06.\n",
      "Epoch:120/200 AVG Training Loss:0.654 AVG Validation Loss:0.660 AVG Training Acc 62.01 % AVG Validation Acc 62.00 %\n",
      "Epoch:130/200 AVG Training Loss:0.655 AVG Validation Loss:0.661 AVG Training Acc 61.98 % AVG Validation Acc 61.91 %\n",
      "Epoch:140/200 AVG Training Loss:0.655 AVG Validation Loss:0.661 AVG Training Acc 61.97 % AVG Validation Acc 62.00 %\n",
      "Epoch   148: reducing learning rate of group 0 to 1.0000e-07.\n",
      "Epoch:150/200 AVG Training Loss:0.654 AVG Validation Loss:0.660 AVG Training Acc 62.01 % AVG Validation Acc 61.91 %\n",
      "Epoch:160/200 AVG Training Loss:0.655 AVG Validation Loss:0.660 AVG Training Acc 61.98 % AVG Validation Acc 62.00 %\n",
      "Epoch:170/200 AVG Training Loss:0.655 AVG Validation Loss:0.660 AVG Training Acc 61.98 % AVG Validation Acc 62.00 %\n",
      "Epoch   179: reducing learning rate of group 0 to 1.0000e-08.\n",
      "Epoch:180/200 AVG Training Loss:0.655 AVG Validation Loss:0.660 AVG Training Acc 62.01 % AVG Validation Acc 62.00 %\n",
      "Epoch:190/200 AVG Training Loss:0.655 AVG Validation Loss:0.660 AVG Training Acc 61.98 % AVG Validation Acc 62.00 %\n",
      "Epoch:200/200 AVG Training Loss:0.655 AVG Validation Loss:0.660 AVG Training Acc 61.97 % AVG Validation Acc 61.91 %\n",
      "Split 18\n"
     ]
    },
    {
     "data": {
      "application/vnd.jupyter.widget-view+json": {
       "model_id": "3b23d7a0fd244cbf89062e091313ec2e",
       "version_major": 2,
       "version_minor": 0
      },
      "text/plain": [
       "  0%|          | 0/200 [00:00<?, ?it/s]"
      ]
     },
     "metadata": {},
     "output_type": "display_data"
    },
    {
     "name": "stdout",
     "output_type": "stream",
     "text": [
      "Epoch:10/200 AVG Training Loss:0.664 AVG Validation Loss:0.666 AVG Training Acc 61.90 % AVG Validation Acc 61.91 %\n",
      "Epoch:20/200 AVG Training Loss:0.660 AVG Validation Loss:0.665 AVG Training Acc 61.94 % AVG Validation Acc 61.91 %\n",
      "Epoch    29: reducing learning rate of group 0 to 1.0000e-03.\n",
      "Epoch:30/200 AVG Training Loss:0.657 AVG Validation Loss:0.664 AVG Training Acc 61.90 % AVG Validation Acc 61.91 %\n",
      "Epoch:40/200 AVG Training Loss:0.654 AVG Validation Loss:0.668 AVG Training Acc 61.93 % AVG Validation Acc 61.82 %\n",
      "Epoch:50/200 AVG Training Loss:0.653 AVG Validation Loss:0.669 AVG Training Acc 62.03 % AVG Validation Acc 61.82 %\n",
      "Epoch:60/200 AVG Training Loss:0.649 AVG Validation Loss:0.673 AVG Training Acc 62.13 % AVG Validation Acc 61.73 %\n",
      "Epoch    60: reducing learning rate of group 0 to 1.0000e-04.\n",
      "Epoch:70/200 AVG Training Loss:0.648 AVG Validation Loss:0.672 AVG Training Acc 62.10 % AVG Validation Acc 61.82 %\n",
      "Epoch:80/200 AVG Training Loss:0.649 AVG Validation Loss:0.673 AVG Training Acc 62.10 % AVG Validation Acc 61.82 %\n",
      "Epoch:90/200 AVG Training Loss:0.649 AVG Validation Loss:0.672 AVG Training Acc 62.07 % AVG Validation Acc 61.82 %\n",
      "Epoch    91: reducing learning rate of group 0 to 1.0000e-05.\n",
      "Epoch:100/200 AVG Training Loss:0.648 AVG Validation Loss:0.671 AVG Training Acc 62.17 % AVG Validation Acc 61.82 %\n",
      "Epoch:110/200 AVG Training Loss:0.650 AVG Validation Loss:0.674 AVG Training Acc 62.10 % AVG Validation Acc 61.82 %\n",
      "Epoch:120/200 AVG Training Loss:0.648 AVG Validation Loss:0.675 AVG Training Acc 62.07 % AVG Validation Acc 61.82 %\n",
      "Epoch   122: reducing learning rate of group 0 to 1.0000e-06.\n",
      "Epoch:130/200 AVG Training Loss:0.648 AVG Validation Loss:0.673 AVG Training Acc 62.11 % AVG Validation Acc 61.82 %\n",
      "Epoch:140/200 AVG Training Loss:0.648 AVG Validation Loss:0.673 AVG Training Acc 62.04 % AVG Validation Acc 61.82 %\n",
      "Epoch:150/200 AVG Training Loss:0.649 AVG Validation Loss:0.674 AVG Training Acc 62.17 % AVG Validation Acc 61.82 %\n",
      "Epoch   153: reducing learning rate of group 0 to 1.0000e-07.\n",
      "Epoch:160/200 AVG Training Loss:0.647 AVG Validation Loss:0.673 AVG Training Acc 62.10 % AVG Validation Acc 61.82 %\n",
      "Epoch:170/200 AVG Training Loss:0.648 AVG Validation Loss:0.673 AVG Training Acc 61.95 % AVG Validation Acc 61.82 %\n",
      "Epoch:180/200 AVG Training Loss:0.649 AVG Validation Loss:0.673 AVG Training Acc 62.04 % AVG Validation Acc 61.82 %\n",
      "Epoch   184: reducing learning rate of group 0 to 1.0000e-08.\n",
      "Epoch:190/200 AVG Training Loss:0.648 AVG Validation Loss:0.672 AVG Training Acc 62.12 % AVG Validation Acc 61.82 %\n",
      "Epoch:200/200 AVG Training Loss:0.648 AVG Validation Loss:0.675 AVG Training Acc 62.17 % AVG Validation Acc 61.82 %\n",
      "Split 19\n"
     ]
    },
    {
     "data": {
      "application/vnd.jupyter.widget-view+json": {
       "model_id": "8b90d291786f4b5fac8103824ed04d13",
       "version_major": 2,
       "version_minor": 0
      },
      "text/plain": [
       "  0%|          | 0/200 [00:00<?, ?it/s]"
      ]
     },
     "metadata": {},
     "output_type": "display_data"
    },
    {
     "name": "stdout",
     "output_type": "stream",
     "text": [
      "Epoch:10/200 AVG Training Loss:0.664 AVG Validation Loss:0.663 AVG Training Acc 61.91 % AVG Validation Acc 61.91 %\n",
      "Epoch:20/200 AVG Training Loss:0.662 AVG Validation Loss:0.658 AVG Training Acc 61.88 % AVG Validation Acc 61.91 %\n",
      "Epoch:30/200 AVG Training Loss:0.659 AVG Validation Loss:0.656 AVG Training Acc 62.00 % AVG Validation Acc 61.91 %\n",
      "Epoch    39: reducing learning rate of group 0 to 1.0000e-03.\n",
      "Epoch:40/200 AVG Training Loss:0.660 AVG Validation Loss:0.663 AVG Training Acc 61.96 % AVG Validation Acc 61.91 %\n",
      "Epoch:50/200 AVG Training Loss:0.652 AVG Validation Loss:0.660 AVG Training Acc 62.02 % AVG Validation Acc 61.73 %\n",
      "Epoch:60/200 AVG Training Loss:0.650 AVG Validation Loss:0.664 AVG Training Acc 62.04 % AVG Validation Acc 61.73 %\n",
      "Epoch:70/200 AVG Training Loss:0.648 AVG Validation Loss:0.669 AVG Training Acc 62.21 % AVG Validation Acc 61.82 %\n",
      "Epoch    70: reducing learning rate of group 0 to 1.0000e-04.\n",
      "Epoch:80/200 AVG Training Loss:0.647 AVG Validation Loss:0.671 AVG Training Acc 62.20 % AVG Validation Acc 61.73 %\n",
      "Epoch:90/200 AVG Training Loss:0.647 AVG Validation Loss:0.670 AVG Training Acc 62.14 % AVG Validation Acc 61.73 %\n",
      "Epoch:100/200 AVG Training Loss:0.647 AVG Validation Loss:0.672 AVG Training Acc 62.25 % AVG Validation Acc 61.73 %\n",
      "Epoch   101: reducing learning rate of group 0 to 1.0000e-05.\n",
      "Epoch:110/200 AVG Training Loss:0.647 AVG Validation Loss:0.673 AVG Training Acc 62.21 % AVG Validation Acc 61.73 %\n",
      "Epoch:120/200 AVG Training Loss:0.646 AVG Validation Loss:0.669 AVG Training Acc 62.22 % AVG Validation Acc 61.73 %\n",
      "Epoch:130/200 AVG Training Loss:0.647 AVG Validation Loss:0.674 AVG Training Acc 62.13 % AVG Validation Acc 61.73 %\n",
      "Epoch   132: reducing learning rate of group 0 to 1.0000e-06.\n",
      "Epoch:140/200 AVG Training Loss:0.646 AVG Validation Loss:0.673 AVG Training Acc 62.24 % AVG Validation Acc 61.73 %\n",
      "Epoch:150/200 AVG Training Loss:0.647 AVG Validation Loss:0.669 AVG Training Acc 62.08 % AVG Validation Acc 61.73 %\n",
      "Epoch:160/200 AVG Training Loss:0.645 AVG Validation Loss:0.670 AVG Training Acc 62.12 % AVG Validation Acc 61.73 %\n",
      "Epoch   163: reducing learning rate of group 0 to 1.0000e-07.\n",
      "Epoch:170/200 AVG Training Loss:0.647 AVG Validation Loss:0.670 AVG Training Acc 62.17 % AVG Validation Acc 61.73 %\n",
      "Epoch:180/200 AVG Training Loss:0.646 AVG Validation Loss:0.671 AVG Training Acc 62.16 % AVG Validation Acc 61.73 %\n",
      "Epoch:190/200 AVG Training Loss:0.647 AVG Validation Loss:0.672 AVG Training Acc 62.13 % AVG Validation Acc 61.73 %\n",
      "Epoch   194: reducing learning rate of group 0 to 1.0000e-08.\n",
      "Epoch:200/200 AVG Training Loss:0.646 AVG Validation Loss:0.670 AVG Training Acc 62.23 % AVG Validation Acc 61.73 %\n",
      "Split 20\n"
     ]
    },
    {
     "data": {
      "application/vnd.jupyter.widget-view+json": {
       "model_id": "ecf2713f54494e13bc3bf3d676a12732",
       "version_major": 2,
       "version_minor": 0
      },
      "text/plain": [
       "  0%|          | 0/200 [00:00<?, ?it/s]"
      ]
     },
     "metadata": {},
     "output_type": "display_data"
    },
    {
     "name": "stdout",
     "output_type": "stream",
     "text": [
      "Epoch:10/200 AVG Training Loss:0.664 AVG Validation Loss:0.665 AVG Training Acc 61.89 % AVG Validation Acc 61.91 %\n",
      "Epoch:20/200 AVG Training Loss:0.660 AVG Validation Loss:0.659 AVG Training Acc 61.90 % AVG Validation Acc 61.91 %\n",
      "Epoch:30/200 AVG Training Loss:0.659 AVG Validation Loss:0.661 AVG Training Acc 61.95 % AVG Validation Acc 61.82 %\n",
      "Epoch:40/200 AVG Training Loss:0.659 AVG Validation Loss:0.659 AVG Training Acc 61.89 % AVG Validation Acc 61.91 %\n",
      "Epoch    48: reducing learning rate of group 0 to 1.0000e-03.\n",
      "Epoch:50/200 AVG Training Loss:0.653 AVG Validation Loss:0.663 AVG Training Acc 61.99 % AVG Validation Acc 61.82 %\n",
      "Epoch:60/200 AVG Training Loss:0.649 AVG Validation Loss:0.666 AVG Training Acc 62.25 % AVG Validation Acc 61.91 %\n",
      "Epoch:70/200 AVG Training Loss:0.647 AVG Validation Loss:0.666 AVG Training Acc 62.38 % AVG Validation Acc 62.00 %\n",
      "Epoch    79: reducing learning rate of group 0 to 1.0000e-04.\n",
      "Epoch:80/200 AVG Training Loss:0.646 AVG Validation Loss:0.666 AVG Training Acc 62.35 % AVG Validation Acc 61.91 %\n",
      "Epoch:90/200 AVG Training Loss:0.645 AVG Validation Loss:0.665 AVG Training Acc 62.34 % AVG Validation Acc 61.82 %\n",
      "Epoch:100/200 AVG Training Loss:0.646 AVG Validation Loss:0.665 AVG Training Acc 62.37 % AVG Validation Acc 61.82 %\n",
      "Epoch:110/200 AVG Training Loss:0.643 AVG Validation Loss:0.665 AVG Training Acc 62.35 % AVG Validation Acc 61.73 %\n",
      "Epoch   110: reducing learning rate of group 0 to 1.0000e-05.\n",
      "Epoch:120/200 AVG Training Loss:0.644 AVG Validation Loss:0.666 AVG Training Acc 62.48 % AVG Validation Acc 61.73 %\n",
      "Epoch:130/200 AVG Training Loss:0.643 AVG Validation Loss:0.666 AVG Training Acc 62.56 % AVG Validation Acc 61.73 %\n",
      "Epoch:140/200 AVG Training Loss:0.645 AVG Validation Loss:0.667 AVG Training Acc 62.48 % AVG Validation Acc 61.73 %\n",
      "Epoch   141: reducing learning rate of group 0 to 1.0000e-06.\n",
      "Epoch:150/200 AVG Training Loss:0.644 AVG Validation Loss:0.665 AVG Training Acc 62.48 % AVG Validation Acc 61.73 %\n",
      "Epoch:160/200 AVG Training Loss:0.644 AVG Validation Loss:0.666 AVG Training Acc 62.47 % AVG Validation Acc 61.82 %\n",
      "Epoch:170/200 AVG Training Loss:0.644 AVG Validation Loss:0.665 AVG Training Acc 62.37 % AVG Validation Acc 61.82 %\n",
      "Epoch   172: reducing learning rate of group 0 to 1.0000e-07.\n",
      "Epoch:180/200 AVG Training Loss:0.644 AVG Validation Loss:0.666 AVG Training Acc 62.40 % AVG Validation Acc 61.82 %\n",
      "Epoch:190/200 AVG Training Loss:0.645 AVG Validation Loss:0.665 AVG Training Acc 62.46 % AVG Validation Acc 61.82 %\n",
      "Epoch:200/200 AVG Training Loss:0.645 AVG Validation Loss:0.667 AVG Training Acc 62.45 % AVG Validation Acc 61.82 %\n",
      "Split 21\n"
     ]
    },
    {
     "data": {
      "application/vnd.jupyter.widget-view+json": {
       "model_id": "84cd05f88f2f4daa96dc50c676a01d12",
       "version_major": 2,
       "version_minor": 0
      },
      "text/plain": [
       "  0%|          | 0/200 [00:00<?, ?it/s]"
      ]
     },
     "metadata": {},
     "output_type": "display_data"
    },
    {
     "name": "stdout",
     "output_type": "stream",
     "text": [
      "Epoch:10/200 AVG Training Loss:0.664 AVG Validation Loss:0.663 AVG Training Acc 61.89 % AVG Validation Acc 61.95 %\n",
      "Epoch:20/200 AVG Training Loss:0.662 AVG Validation Loss:0.660 AVG Training Acc 61.79 % AVG Validation Acc 61.95 %\n",
      "Epoch:30/200 AVG Training Loss:0.659 AVG Validation Loss:0.659 AVG Training Acc 61.94 % AVG Validation Acc 61.95 %\n",
      "Epoch:40/200 AVG Training Loss:0.659 AVG Validation Loss:0.660 AVG Training Acc 61.82 % AVG Validation Acc 61.95 %\n",
      "Epoch    40: reducing learning rate of group 0 to 1.0000e-03.\n",
      "Epoch:50/200 AVG Training Loss:0.654 AVG Validation Loss:0.660 AVG Training Acc 61.91 % AVG Validation Acc 61.95 %\n",
      "Epoch:60/200 AVG Training Loss:0.651 AVG Validation Loss:0.661 AVG Training Acc 61.95 % AVG Validation Acc 61.95 %\n",
      "Epoch:70/200 AVG Training Loss:0.650 AVG Validation Loss:0.659 AVG Training Acc 61.99 % AVG Validation Acc 61.95 %\n",
      "Epoch    79: reducing learning rate of group 0 to 1.0000e-04.\n",
      "Epoch:80/200 AVG Training Loss:0.649 AVG Validation Loss:0.661 AVG Training Acc 62.10 % AVG Validation Acc 62.13 %\n",
      "Epoch:90/200 AVG Training Loss:0.647 AVG Validation Loss:0.660 AVG Training Acc 62.01 % AVG Validation Acc 62.22 %\n",
      "Epoch:100/200 AVG Training Loss:0.647 AVG Validation Loss:0.660 AVG Training Acc 62.16 % AVG Validation Acc 62.22 %\n",
      "Epoch:110/200 AVG Training Loss:0.646 AVG Validation Loss:0.661 AVG Training Acc 62.09 % AVG Validation Acc 62.22 %\n",
      "Epoch   110: reducing learning rate of group 0 to 1.0000e-05.\n",
      "Epoch:120/200 AVG Training Loss:0.647 AVG Validation Loss:0.661 AVG Training Acc 62.05 % AVG Validation Acc 62.22 %\n",
      "Epoch:130/200 AVG Training Loss:0.646 AVG Validation Loss:0.660 AVG Training Acc 62.13 % AVG Validation Acc 62.22 %\n",
      "Epoch:140/200 AVG Training Loss:0.646 AVG Validation Loss:0.660 AVG Training Acc 62.14 % AVG Validation Acc 62.22 %\n",
      "Epoch   141: reducing learning rate of group 0 to 1.0000e-06.\n",
      "Epoch:150/200 AVG Training Loss:0.646 AVG Validation Loss:0.661 AVG Training Acc 62.24 % AVG Validation Acc 62.22 %\n",
      "Epoch:160/200 AVG Training Loss:0.647 AVG Validation Loss:0.662 AVG Training Acc 62.14 % AVG Validation Acc 62.22 %\n",
      "Epoch:170/200 AVG Training Loss:0.647 AVG Validation Loss:0.660 AVG Training Acc 62.18 % AVG Validation Acc 62.22 %\n",
      "Epoch   172: reducing learning rate of group 0 to 1.0000e-07.\n",
      "Epoch:180/200 AVG Training Loss:0.646 AVG Validation Loss:0.659 AVG Training Acc 62.13 % AVG Validation Acc 62.22 %\n",
      "Epoch:190/200 AVG Training Loss:0.646 AVG Validation Loss:0.662 AVG Training Acc 62.18 % AVG Validation Acc 62.22 %\n",
      "Epoch:200/200 AVG Training Loss:0.647 AVG Validation Loss:0.661 AVG Training Acc 62.04 % AVG Validation Acc 62.22 %\n",
      "Split 22\n"
     ]
    },
    {
     "data": {
      "application/vnd.jupyter.widget-view+json": {
       "model_id": "a7641f6f6b0f460387c79be6fd44cf10",
       "version_major": 2,
       "version_minor": 0
      },
      "text/plain": [
       "  0%|          | 0/200 [00:00<?, ?it/s]"
      ]
     },
     "metadata": {},
     "output_type": "display_data"
    },
    {
     "name": "stdout",
     "output_type": "stream",
     "text": [
      "Epoch:10/200 AVG Training Loss:0.664 AVG Validation Loss:0.664 AVG Training Acc 61.90 % AVG Validation Acc 61.86 %\n",
      "Epoch:20/200 AVG Training Loss:0.661 AVG Validation Loss:0.665 AVG Training Acc 61.93 % AVG Validation Acc 61.86 %\n",
      "Epoch    24: reducing learning rate of group 0 to 1.0000e-03.\n",
      "Epoch:30/200 AVG Training Loss:0.657 AVG Validation Loss:0.663 AVG Training Acc 62.05 % AVG Validation Acc 61.95 %\n",
      "Epoch:40/200 AVG Training Loss:0.655 AVG Validation Loss:0.664 AVG Training Acc 62.02 % AVG Validation Acc 61.95 %\n",
      "Epoch:50/200 AVG Training Loss:0.654 AVG Validation Loss:0.666 AVG Training Acc 62.06 % AVG Validation Acc 61.95 %\n",
      "Epoch    55: reducing learning rate of group 0 to 1.0000e-04.\n",
      "Epoch:60/200 AVG Training Loss:0.654 AVG Validation Loss:0.665 AVG Training Acc 62.10 % AVG Validation Acc 61.86 %\n",
      "Epoch:70/200 AVG Training Loss:0.653 AVG Validation Loss:0.666 AVG Training Acc 62.14 % AVG Validation Acc 61.86 %\n",
      "Epoch:80/200 AVG Training Loss:0.653 AVG Validation Loss:0.666 AVG Training Acc 62.20 % AVG Validation Acc 61.86 %\n",
      "Epoch    86: reducing learning rate of group 0 to 1.0000e-05.\n",
      "Epoch:90/200 AVG Training Loss:0.653 AVG Validation Loss:0.667 AVG Training Acc 62.11 % AVG Validation Acc 61.86 %\n",
      "Epoch:100/200 AVG Training Loss:0.653 AVG Validation Loss:0.666 AVG Training Acc 62.11 % AVG Validation Acc 61.86 %\n",
      "Epoch:110/200 AVG Training Loss:0.654 AVG Validation Loss:0.666 AVG Training Acc 62.04 % AVG Validation Acc 61.86 %\n",
      "Epoch   117: reducing learning rate of group 0 to 1.0000e-06.\n",
      "Epoch:120/200 AVG Training Loss:0.653 AVG Validation Loss:0.667 AVG Training Acc 62.06 % AVG Validation Acc 61.86 %\n",
      "Epoch:130/200 AVG Training Loss:0.653 AVG Validation Loss:0.667 AVG Training Acc 62.20 % AVG Validation Acc 61.86 %\n",
      "Epoch:140/200 AVG Training Loss:0.652 AVG Validation Loss:0.667 AVG Training Acc 62.20 % AVG Validation Acc 61.86 %\n",
      "Epoch   148: reducing learning rate of group 0 to 1.0000e-07.\n",
      "Epoch:150/200 AVG Training Loss:0.653 AVG Validation Loss:0.666 AVG Training Acc 62.09 % AVG Validation Acc 61.86 %\n",
      "Epoch:160/200 AVG Training Loss:0.653 AVG Validation Loss:0.667 AVG Training Acc 62.12 % AVG Validation Acc 61.86 %\n",
      "Epoch:170/200 AVG Training Loss:0.652 AVG Validation Loss:0.667 AVG Training Acc 62.14 % AVG Validation Acc 61.86 %\n",
      "Epoch   179: reducing learning rate of group 0 to 1.0000e-08.\n",
      "Epoch:180/200 AVG Training Loss:0.653 AVG Validation Loss:0.666 AVG Training Acc 62.07 % AVG Validation Acc 61.86 %\n",
      "Epoch:190/200 AVG Training Loss:0.652 AVG Validation Loss:0.667 AVG Training Acc 62.11 % AVG Validation Acc 61.86 %\n",
      "Epoch:200/200 AVG Training Loss:0.653 AVG Validation Loss:0.666 AVG Training Acc 62.22 % AVG Validation Acc 61.86 %\n",
      "Split 23\n"
     ]
    },
    {
     "data": {
      "application/vnd.jupyter.widget-view+json": {
       "model_id": "0c4918c9ea514537a19b3f441988bd18",
       "version_major": 2,
       "version_minor": 0
      },
      "text/plain": [
       "  0%|          | 0/200 [00:00<?, ?it/s]"
      ]
     },
     "metadata": {},
     "output_type": "display_data"
    },
    {
     "name": "stdout",
     "output_type": "stream",
     "text": [
      "Epoch:10/200 AVG Training Loss:0.664 AVG Validation Loss:0.663 AVG Training Acc 61.90 % AVG Validation Acc 61.86 %\n",
      "Epoch:20/200 AVG Training Loss:0.660 AVG Validation Loss:0.659 AVG Training Acc 61.99 % AVG Validation Acc 61.86 %\n",
      "Epoch:30/200 AVG Training Loss:0.660 AVG Validation Loss:0.657 AVG Training Acc 61.88 % AVG Validation Acc 61.86 %\n",
      "Epoch    37: reducing learning rate of group 0 to 1.0000e-03.\n",
      "Epoch:40/200 AVG Training Loss:0.656 AVG Validation Loss:0.656 AVG Training Acc 62.03 % AVG Validation Acc 62.04 %\n",
      "Epoch:50/200 AVG Training Loss:0.655 AVG Validation Loss:0.656 AVG Training Acc 61.99 % AVG Validation Acc 62.13 %\n",
      "Epoch:60/200 AVG Training Loss:0.655 AVG Validation Loss:0.656 AVG Training Acc 61.99 % AVG Validation Acc 62.04 %\n",
      "Epoch    68: reducing learning rate of group 0 to 1.0000e-04.\n",
      "Epoch:70/200 AVG Training Loss:0.654 AVG Validation Loss:0.657 AVG Training Acc 62.07 % AVG Validation Acc 62.04 %\n",
      "Epoch:80/200 AVG Training Loss:0.652 AVG Validation Loss:0.657 AVG Training Acc 62.01 % AVG Validation Acc 62.04 %\n",
      "Epoch:90/200 AVG Training Loss:0.652 AVG Validation Loss:0.657 AVG Training Acc 62.04 % AVG Validation Acc 62.04 %\n",
      "Epoch    99: reducing learning rate of group 0 to 1.0000e-05.\n",
      "Epoch:100/200 AVG Training Loss:0.653 AVG Validation Loss:0.657 AVG Training Acc 62.00 % AVG Validation Acc 62.04 %\n",
      "Epoch:110/200 AVG Training Loss:0.653 AVG Validation Loss:0.657 AVG Training Acc 62.11 % AVG Validation Acc 62.04 %\n",
      "Epoch:120/200 AVG Training Loss:0.653 AVG Validation Loss:0.657 AVG Training Acc 62.00 % AVG Validation Acc 62.04 %\n",
      "Epoch:130/200 AVG Training Loss:0.653 AVG Validation Loss:0.657 AVG Training Acc 62.05 % AVG Validation Acc 62.04 %\n",
      "Epoch   130: reducing learning rate of group 0 to 1.0000e-06.\n",
      "Epoch:140/200 AVG Training Loss:0.652 AVG Validation Loss:0.656 AVG Training Acc 62.11 % AVG Validation Acc 62.13 %\n",
      "Epoch:150/200 AVG Training Loss:0.653 AVG Validation Loss:0.657 AVG Training Acc 62.00 % AVG Validation Acc 62.04 %\n",
      "Epoch:160/200 AVG Training Loss:0.652 AVG Validation Loss:0.657 AVG Training Acc 61.98 % AVG Validation Acc 62.04 %\n",
      "Epoch   161: reducing learning rate of group 0 to 1.0000e-07.\n",
      "Epoch:170/200 AVG Training Loss:0.652 AVG Validation Loss:0.657 AVG Training Acc 62.07 % AVG Validation Acc 62.13 %\n",
      "Epoch:180/200 AVG Training Loss:0.652 AVG Validation Loss:0.657 AVG Training Acc 62.12 % AVG Validation Acc 62.04 %\n",
      "Epoch:190/200 AVG Training Loss:0.652 AVG Validation Loss:0.657 AVG Training Acc 62.12 % AVG Validation Acc 62.04 %\n",
      "Epoch   192: reducing learning rate of group 0 to 1.0000e-08.\n",
      "Epoch:200/200 AVG Training Loss:0.652 AVG Validation Loss:0.657 AVG Training Acc 62.06 % AVG Validation Acc 62.04 %\n",
      "Split 24\n"
     ]
    },
    {
     "data": {
      "application/vnd.jupyter.widget-view+json": {
       "model_id": "0b4e2bc7ea99471cbea9d0d9217b5715",
       "version_major": 2,
       "version_minor": 0
      },
      "text/plain": [
       "  0%|          | 0/200 [00:00<?, ?it/s]"
      ]
     },
     "metadata": {},
     "output_type": "display_data"
    },
    {
     "name": "stdout",
     "output_type": "stream",
     "text": [
      "Epoch:10/200 AVG Training Loss:0.663 AVG Validation Loss:0.666 AVG Training Acc 61.92 % AVG Validation Acc 61.86 %\n",
      "Epoch:20/200 AVG Training Loss:0.660 AVG Validation Loss:0.661 AVG Training Acc 61.90 % AVG Validation Acc 61.86 %\n",
      "Epoch:30/200 AVG Training Loss:0.660 AVG Validation Loss:0.660 AVG Training Acc 61.92 % AVG Validation Acc 61.86 %\n",
      "Epoch:40/200 AVG Training Loss:0.656 AVG Validation Loss:0.662 AVG Training Acc 61.79 % AVG Validation Acc 62.49 %\n",
      "Epoch    45: reducing learning rate of group 0 to 1.0000e-03.\n",
      "Epoch:50/200 AVG Training Loss:0.651 AVG Validation Loss:0.662 AVG Training Acc 62.77 % AVG Validation Acc 62.31 %\n",
      "Epoch:60/200 AVG Training Loss:0.649 AVG Validation Loss:0.663 AVG Training Acc 62.70 % AVG Validation Acc 62.22 %\n",
      "Epoch:70/200 AVG Training Loss:0.647 AVG Validation Loss:0.666 AVG Training Acc 62.84 % AVG Validation Acc 61.68 %\n",
      "Epoch    76: reducing learning rate of group 0 to 1.0000e-04.\n",
      "Epoch:80/200 AVG Training Loss:0.644 AVG Validation Loss:0.668 AVG Training Acc 63.13 % AVG Validation Acc 62.04 %\n",
      "Epoch:90/200 AVG Training Loss:0.644 AVG Validation Loss:0.669 AVG Training Acc 63.03 % AVG Validation Acc 62.22 %\n",
      "Epoch:100/200 AVG Training Loss:0.644 AVG Validation Loss:0.670 AVG Training Acc 62.98 % AVG Validation Acc 62.04 %\n",
      "Epoch   107: reducing learning rate of group 0 to 1.0000e-05.\n",
      "Epoch:110/200 AVG Training Loss:0.644 AVG Validation Loss:0.670 AVG Training Acc 63.22 % AVG Validation Acc 62.13 %\n",
      "Epoch:120/200 AVG Training Loss:0.644 AVG Validation Loss:0.669 AVG Training Acc 62.94 % AVG Validation Acc 62.49 %\n",
      "Epoch:130/200 AVG Training Loss:0.644 AVG Validation Loss:0.670 AVG Training Acc 63.03 % AVG Validation Acc 62.13 %\n",
      "Epoch   138: reducing learning rate of group 0 to 1.0000e-06.\n",
      "Epoch:140/200 AVG Training Loss:0.644 AVG Validation Loss:0.669 AVG Training Acc 63.08 % AVG Validation Acc 62.04 %\n",
      "Epoch:150/200 AVG Training Loss:0.643 AVG Validation Loss:0.669 AVG Training Acc 63.10 % AVG Validation Acc 62.22 %\n",
      "Epoch:160/200 AVG Training Loss:0.644 AVG Validation Loss:0.669 AVG Training Acc 63.25 % AVG Validation Acc 62.04 %\n",
      "Epoch   169: reducing learning rate of group 0 to 1.0000e-07.\n",
      "Epoch:170/200 AVG Training Loss:0.643 AVG Validation Loss:0.669 AVG Training Acc 63.34 % AVG Validation Acc 61.95 %\n",
      "Epoch:180/200 AVG Training Loss:0.643 AVG Validation Loss:0.670 AVG Training Acc 62.93 % AVG Validation Acc 62.22 %\n",
      "Epoch:190/200 AVG Training Loss:0.644 AVG Validation Loss:0.670 AVG Training Acc 63.14 % AVG Validation Acc 61.77 %\n",
      "Epoch:200/200 AVG Training Loss:0.644 AVG Validation Loss:0.669 AVG Training Acc 63.18 % AVG Validation Acc 62.40 %\n",
      "Epoch   200: reducing learning rate of group 0 to 1.0000e-08.\n",
      "Split 25\n"
     ]
    },
    {
     "data": {
      "application/vnd.jupyter.widget-view+json": {
       "model_id": "3450291bc4ae4ade9ecf2c8ea1be9d10",
       "version_major": 2,
       "version_minor": 0
      },
      "text/plain": [
       "  0%|          | 0/200 [00:00<?, ?it/s]"
      ]
     },
     "metadata": {},
     "output_type": "display_data"
    },
    {
     "name": "stdout",
     "output_type": "stream",
     "text": [
      "Epoch:10/200 AVG Training Loss:0.665 AVG Validation Loss:0.662 AVG Training Acc 61.88 % AVG Validation Acc 61.86 %\n",
      "Epoch    15: reducing learning rate of group 0 to 1.0000e-03.\n",
      "Epoch:20/200 AVG Training Loss:0.664 AVG Validation Loss:0.660 AVG Training Acc 61.91 % AVG Validation Acc 61.95 %\n",
      "Epoch:30/200 AVG Training Loss:0.663 AVG Validation Loss:0.659 AVG Training Acc 61.99 % AVG Validation Acc 61.95 %\n",
      "Epoch:40/200 AVG Training Loss:0.661 AVG Validation Loss:0.658 AVG Training Acc 61.99 % AVG Validation Acc 61.95 %\n",
      "Epoch:50/200 AVG Training Loss:0.658 AVG Validation Loss:0.658 AVG Training Acc 62.00 % AVG Validation Acc 61.86 %\n",
      "Epoch    53: reducing learning rate of group 0 to 1.0000e-04.\n",
      "Epoch:60/200 AVG Training Loss:0.658 AVG Validation Loss:0.660 AVG Training Acc 62.00 % AVG Validation Acc 61.95 %\n",
      "Epoch:70/200 AVG Training Loss:0.657 AVG Validation Loss:0.661 AVG Training Acc 62.01 % AVG Validation Acc 61.77 %\n",
      "Epoch:80/200 AVG Training Loss:0.657 AVG Validation Loss:0.660 AVG Training Acc 62.07 % AVG Validation Acc 61.77 %\n",
      "Epoch    84: reducing learning rate of group 0 to 1.0000e-05.\n",
      "Epoch:90/200 AVG Training Loss:0.657 AVG Validation Loss:0.661 AVG Training Acc 62.03 % AVG Validation Acc 61.68 %\n",
      "Epoch:100/200 AVG Training Loss:0.657 AVG Validation Loss:0.662 AVG Training Acc 62.03 % AVG Validation Acc 61.68 %\n",
      "Epoch:110/200 AVG Training Loss:0.656 AVG Validation Loss:0.663 AVG Training Acc 62.07 % AVG Validation Acc 61.68 %\n",
      "Epoch   115: reducing learning rate of group 0 to 1.0000e-06.\n",
      "Epoch:120/200 AVG Training Loss:0.656 AVG Validation Loss:0.662 AVG Training Acc 62.10 % AVG Validation Acc 61.68 %\n",
      "Epoch:130/200 AVG Training Loss:0.656 AVG Validation Loss:0.663 AVG Training Acc 62.05 % AVG Validation Acc 61.68 %\n",
      "Epoch:140/200 AVG Training Loss:0.656 AVG Validation Loss:0.663 AVG Training Acc 62.07 % AVG Validation Acc 61.68 %\n",
      "Epoch   146: reducing learning rate of group 0 to 1.0000e-07.\n",
      "Epoch:150/200 AVG Training Loss:0.656 AVG Validation Loss:0.662 AVG Training Acc 62.04 % AVG Validation Acc 61.68 %\n",
      "Epoch:160/200 AVG Training Loss:0.657 AVG Validation Loss:0.663 AVG Training Acc 62.09 % AVG Validation Acc 61.68 %\n",
      "Epoch:170/200 AVG Training Loss:0.656 AVG Validation Loss:0.662 AVG Training Acc 62.01 % AVG Validation Acc 61.68 %\n",
      "Epoch   177: reducing learning rate of group 0 to 1.0000e-08.\n",
      "Epoch:180/200 AVG Training Loss:0.656 AVG Validation Loss:0.662 AVG Training Acc 62.09 % AVG Validation Acc 61.68 %\n",
      "Epoch:190/200 AVG Training Loss:0.657 AVG Validation Loss:0.662 AVG Training Acc 62.05 % AVG Validation Acc 61.68 %\n",
      "Epoch:200/200 AVG Training Loss:0.656 AVG Validation Loss:0.663 AVG Training Acc 62.08 % AVG Validation Acc 61.68 %\n",
      "Split 26\n"
     ]
    },
    {
     "data": {
      "application/vnd.jupyter.widget-view+json": {
       "model_id": "96f86408a4ff406db087f97f084ac830",
       "version_major": 2,
       "version_minor": 0
      },
      "text/plain": [
       "  0%|          | 0/200 [00:00<?, ?it/s]"
      ]
     },
     "metadata": {},
     "output_type": "display_data"
    },
    {
     "name": "stdout",
     "output_type": "stream",
     "text": [
      "Epoch:10/200 AVG Training Loss:0.664 AVG Validation Loss:0.668 AVG Training Acc 61.89 % AVG Validation Acc 61.91 %\n",
      "Epoch:20/200 AVG Training Loss:0.661 AVG Validation Loss:0.663 AVG Training Acc 61.96 % AVG Validation Acc 61.91 %\n",
      "Epoch:30/200 AVG Training Loss:0.661 AVG Validation Loss:0.666 AVG Training Acc 61.84 % AVG Validation Acc 61.82 %\n",
      "Epoch    38: reducing learning rate of group 0 to 1.0000e-03.\n",
      "Epoch:40/200 AVG Training Loss:0.658 AVG Validation Loss:0.664 AVG Training Acc 61.94 % AVG Validation Acc 61.91 %\n",
      "Epoch:50/200 AVG Training Loss:0.656 AVG Validation Loss:0.668 AVG Training Acc 61.92 % AVG Validation Acc 61.91 %\n",
      "Epoch:60/200 AVG Training Loss:0.654 AVG Validation Loss:0.669 AVG Training Acc 62.02 % AVG Validation Acc 61.82 %\n",
      "Epoch    69: reducing learning rate of group 0 to 1.0000e-04.\n",
      "Epoch:70/200 AVG Training Loss:0.653 AVG Validation Loss:0.669 AVG Training Acc 62.03 % AVG Validation Acc 61.64 %\n",
      "Epoch:80/200 AVG Training Loss:0.653 AVG Validation Loss:0.670 AVG Training Acc 62.05 % AVG Validation Acc 61.46 %\n",
      "Epoch:90/200 AVG Training Loss:0.652 AVG Validation Loss:0.670 AVG Training Acc 62.07 % AVG Validation Acc 61.46 %\n",
      "Epoch:100/200 AVG Training Loss:0.652 AVG Validation Loss:0.671 AVG Training Acc 62.04 % AVG Validation Acc 61.46 %\n",
      "Epoch   100: reducing learning rate of group 0 to 1.0000e-05.\n",
      "Epoch:110/200 AVG Training Loss:0.653 AVG Validation Loss:0.671 AVG Training Acc 62.09 % AVG Validation Acc 61.46 %\n",
      "Epoch:120/200 AVG Training Loss:0.653 AVG Validation Loss:0.670 AVG Training Acc 62.09 % AVG Validation Acc 61.55 %\n",
      "Epoch:130/200 AVG Training Loss:0.653 AVG Validation Loss:0.671 AVG Training Acc 62.12 % AVG Validation Acc 61.46 %\n",
      "Epoch   131: reducing learning rate of group 0 to 1.0000e-06.\n",
      "Epoch:140/200 AVG Training Loss:0.652 AVG Validation Loss:0.671 AVG Training Acc 62.06 % AVG Validation Acc 61.55 %\n",
      "Epoch:150/200 AVG Training Loss:0.652 AVG Validation Loss:0.671 AVG Training Acc 62.08 % AVG Validation Acc 61.55 %\n",
      "Epoch:160/200 AVG Training Loss:0.652 AVG Validation Loss:0.671 AVG Training Acc 62.05 % AVG Validation Acc 61.46 %\n",
      "Epoch   162: reducing learning rate of group 0 to 1.0000e-07.\n",
      "Epoch:170/200 AVG Training Loss:0.652 AVG Validation Loss:0.671 AVG Training Acc 62.00 % AVG Validation Acc 61.46 %\n",
      "Epoch:180/200 AVG Training Loss:0.652 AVG Validation Loss:0.671 AVG Training Acc 62.07 % AVG Validation Acc 61.46 %\n",
      "Epoch:190/200 AVG Training Loss:0.653 AVG Validation Loss:0.671 AVG Training Acc 62.09 % AVG Validation Acc 61.55 %\n",
      "Epoch   193: reducing learning rate of group 0 to 1.0000e-08.\n",
      "Epoch:200/200 AVG Training Loss:0.653 AVG Validation Loss:0.670 AVG Training Acc 62.11 % AVG Validation Acc 61.55 %\n",
      "Split 27\n"
     ]
    },
    {
     "data": {
      "application/vnd.jupyter.widget-view+json": {
       "model_id": "08fcbba8ad9443a1bb3f87b5977d75d2",
       "version_major": 2,
       "version_minor": 0
      },
      "text/plain": [
       "  0%|          | 0/200 [00:00<?, ?it/s]"
      ]
     },
     "metadata": {},
     "output_type": "display_data"
    },
    {
     "name": "stdout",
     "output_type": "stream",
     "text": [
      "Epoch:10/200 AVG Training Loss:0.664 AVG Validation Loss:0.665 AVG Training Acc 61.89 % AVG Validation Acc 61.91 %\n",
      "Epoch:20/200 AVG Training Loss:0.660 AVG Validation Loss:0.663 AVG Training Acc 61.94 % AVG Validation Acc 61.91 %\n",
      "Epoch:30/200 AVG Training Loss:0.658 AVG Validation Loss:0.662 AVG Training Acc 61.99 % AVG Validation Acc 61.91 %\n",
      "Epoch:40/200 AVG Training Loss:0.659 AVG Validation Loss:0.664 AVG Training Acc 62.01 % AVG Validation Acc 61.82 %\n",
      "Epoch    48: reducing learning rate of group 0 to 1.0000e-03.\n",
      "Epoch:50/200 AVG Training Loss:0.652 AVG Validation Loss:0.666 AVG Training Acc 62.11 % AVG Validation Acc 61.64 %\n",
      "Epoch:60/200 AVG Training Loss:0.649 AVG Validation Loss:0.671 AVG Training Acc 62.02 % AVG Validation Acc 61.55 %\n",
      "Epoch:70/200 AVG Training Loss:0.645 AVG Validation Loss:0.675 AVG Training Acc 62.16 % AVG Validation Acc 61.37 %\n",
      "Epoch    79: reducing learning rate of group 0 to 1.0000e-04.\n",
      "Epoch:80/200 AVG Training Loss:0.643 AVG Validation Loss:0.675 AVG Training Acc 62.15 % AVG Validation Acc 61.28 %\n",
      "Epoch:90/200 AVG Training Loss:0.643 AVG Validation Loss:0.677 AVG Training Acc 62.27 % AVG Validation Acc 61.46 %\n",
      "Epoch:100/200 AVG Training Loss:0.642 AVG Validation Loss:0.676 AVG Training Acc 62.33 % AVG Validation Acc 61.37 %\n",
      "Epoch:110/200 AVG Training Loss:0.641 AVG Validation Loss:0.679 AVG Training Acc 62.25 % AVG Validation Acc 61.37 %\n",
      "Epoch   110: reducing learning rate of group 0 to 1.0000e-05.\n",
      "Epoch:120/200 AVG Training Loss:0.642 AVG Validation Loss:0.678 AVG Training Acc 62.18 % AVG Validation Acc 61.46 %\n",
      "Epoch:130/200 AVG Training Loss:0.642 AVG Validation Loss:0.678 AVG Training Acc 62.32 % AVG Validation Acc 61.37 %\n",
      "Epoch:140/200 AVG Training Loss:0.642 AVG Validation Loss:0.677 AVG Training Acc 62.23 % AVG Validation Acc 61.46 %\n",
      "Epoch   141: reducing learning rate of group 0 to 1.0000e-06.\n",
      "Epoch:150/200 AVG Training Loss:0.641 AVG Validation Loss:0.678 AVG Training Acc 62.32 % AVG Validation Acc 61.46 %\n",
      "Epoch:160/200 AVG Training Loss:0.643 AVG Validation Loss:0.678 AVG Training Acc 62.18 % AVG Validation Acc 61.37 %\n",
      "Epoch:170/200 AVG Training Loss:0.641 AVG Validation Loss:0.677 AVG Training Acc 62.25 % AVG Validation Acc 61.37 %\n",
      "Epoch   172: reducing learning rate of group 0 to 1.0000e-07.\n",
      "Epoch:180/200 AVG Training Loss:0.642 AVG Validation Loss:0.676 AVG Training Acc 62.24 % AVG Validation Acc 61.46 %\n",
      "Epoch:190/200 AVG Training Loss:0.642 AVG Validation Loss:0.678 AVG Training Acc 62.21 % AVG Validation Acc 61.46 %\n",
      "Epoch:200/200 AVG Training Loss:0.642 AVG Validation Loss:0.678 AVG Training Acc 62.15 % AVG Validation Acc 61.46 %\n",
      "Split 28\n"
     ]
    },
    {
     "data": {
      "application/vnd.jupyter.widget-view+json": {
       "model_id": "2c05cbbd4bef4bf7a7ffc6e666f79390",
       "version_major": 2,
       "version_minor": 0
      },
      "text/plain": [
       "  0%|          | 0/200 [00:00<?, ?it/s]"
      ]
     },
     "metadata": {},
     "output_type": "display_data"
    },
    {
     "name": "stdout",
     "output_type": "stream",
     "text": [
      "Epoch:10/200 AVG Training Loss:0.664 AVG Validation Loss:0.662 AVG Training Acc 61.89 % AVG Validation Acc 61.91 %\n",
      "Epoch:20/200 AVG Training Loss:0.663 AVG Validation Loss:0.659 AVG Training Acc 61.88 % AVG Validation Acc 61.91 %\n",
      "Epoch:30/200 AVG Training Loss:0.659 AVG Validation Loss:0.658 AVG Training Acc 61.98 % AVG Validation Acc 61.82 %\n",
      "Epoch:40/200 AVG Training Loss:0.658 AVG Validation Loss:0.661 AVG Training Acc 61.99 % AVG Validation Acc 61.73 %\n",
      "Epoch    44: reducing learning rate of group 0 to 1.0000e-03.\n",
      "Epoch:50/200 AVG Training Loss:0.652 AVG Validation Loss:0.661 AVG Training Acc 62.19 % AVG Validation Acc 61.46 %\n",
      "Epoch:60/200 AVG Training Loss:0.651 AVG Validation Loss:0.661 AVG Training Acc 62.15 % AVG Validation Acc 61.46 %\n",
      "Epoch:70/200 AVG Training Loss:0.649 AVG Validation Loss:0.659 AVG Training Acc 62.28 % AVG Validation Acc 61.55 %\n",
      "Epoch    75: reducing learning rate of group 0 to 1.0000e-04.\n",
      "Epoch:80/200 AVG Training Loss:0.648 AVG Validation Loss:0.660 AVG Training Acc 62.37 % AVG Validation Acc 61.55 %\n",
      "Epoch:90/200 AVG Training Loss:0.646 AVG Validation Loss:0.660 AVG Training Acc 62.37 % AVG Validation Acc 61.55 %\n",
      "Epoch:100/200 AVG Training Loss:0.649 AVG Validation Loss:0.660 AVG Training Acc 62.36 % AVG Validation Acc 61.46 %\n",
      "Epoch   106: reducing learning rate of group 0 to 1.0000e-05.\n",
      "Epoch:110/200 AVG Training Loss:0.647 AVG Validation Loss:0.661 AVG Training Acc 62.36 % AVG Validation Acc 61.46 %\n",
      "Epoch:120/200 AVG Training Loss:0.647 AVG Validation Loss:0.661 AVG Training Acc 62.33 % AVG Validation Acc 61.55 %\n",
      "Epoch:130/200 AVG Training Loss:0.647 AVG Validation Loss:0.660 AVG Training Acc 62.32 % AVG Validation Acc 61.46 %\n",
      "Epoch   137: reducing learning rate of group 0 to 1.0000e-06.\n",
      "Epoch:140/200 AVG Training Loss:0.646 AVG Validation Loss:0.661 AVG Training Acc 62.34 % AVG Validation Acc 61.46 %\n",
      "Epoch:150/200 AVG Training Loss:0.648 AVG Validation Loss:0.661 AVG Training Acc 62.28 % AVG Validation Acc 61.37 %\n",
      "Epoch:160/200 AVG Training Loss:0.647 AVG Validation Loss:0.661 AVG Training Acc 62.31 % AVG Validation Acc 61.46 %\n",
      "Epoch   168: reducing learning rate of group 0 to 1.0000e-07.\n",
      "Epoch:170/200 AVG Training Loss:0.646 AVG Validation Loss:0.660 AVG Training Acc 62.33 % AVG Validation Acc 61.46 %\n",
      "Epoch:180/200 AVG Training Loss:0.647 AVG Validation Loss:0.661 AVG Training Acc 62.39 % AVG Validation Acc 61.46 %\n",
      "Epoch:190/200 AVG Training Loss:0.648 AVG Validation Loss:0.660 AVG Training Acc 62.37 % AVG Validation Acc 61.64 %\n",
      "Epoch   199: reducing learning rate of group 0 to 1.0000e-08.\n",
      "Epoch:200/200 AVG Training Loss:0.647 AVG Validation Loss:0.660 AVG Training Acc 62.38 % AVG Validation Acc 61.46 %\n",
      "Split 29\n"
     ]
    },
    {
     "data": {
      "application/vnd.jupyter.widget-view+json": {
       "model_id": "0495416c41ba440684e0960022e20302",
       "version_major": 2,
       "version_minor": 0
      },
      "text/plain": [
       "  0%|          | 0/200 [00:00<?, ?it/s]"
      ]
     },
     "metadata": {},
     "output_type": "display_data"
    },
    {
     "name": "stdout",
     "output_type": "stream",
     "text": [
      "Epoch:10/200 AVG Training Loss:0.662 AVG Validation Loss:0.666 AVG Training Acc 61.82 % AVG Validation Acc 61.91 %\n",
      "Epoch:20/200 AVG Training Loss:0.660 AVG Validation Loss:0.667 AVG Training Acc 61.85 % AVG Validation Acc 61.91 %\n",
      "Epoch    24: reducing learning rate of group 0 to 1.0000e-03.\n",
      "Epoch:30/200 AVG Training Loss:0.653 AVG Validation Loss:0.678 AVG Training Acc 62.03 % AVG Validation Acc 61.73 %\n",
      "Epoch:40/200 AVG Training Loss:0.651 AVG Validation Loss:0.682 AVG Training Acc 62.24 % AVG Validation Acc 61.55 %\n",
      "Epoch:50/200 AVG Training Loss:0.650 AVG Validation Loss:0.683 AVG Training Acc 62.21 % AVG Validation Acc 61.55 %\n",
      "Epoch    55: reducing learning rate of group 0 to 1.0000e-04.\n",
      "Epoch:60/200 AVG Training Loss:0.648 AVG Validation Loss:0.692 AVG Training Acc 62.33 % AVG Validation Acc 61.19 %\n",
      "Epoch:70/200 AVG Training Loss:0.646 AVG Validation Loss:0.695 AVG Training Acc 62.41 % AVG Validation Acc 61.10 %\n",
      "Epoch:80/200 AVG Training Loss:0.647 AVG Validation Loss:0.696 AVG Training Acc 62.36 % AVG Validation Acc 61.28 %\n",
      "Epoch    86: reducing learning rate of group 0 to 1.0000e-05.\n",
      "Epoch:90/200 AVG Training Loss:0.648 AVG Validation Loss:0.698 AVG Training Acc 62.31 % AVG Validation Acc 61.19 %\n",
      "Epoch:100/200 AVG Training Loss:0.646 AVG Validation Loss:0.700 AVG Training Acc 62.42 % AVG Validation Acc 61.19 %\n",
      "Epoch:110/200 AVG Training Loss:0.646 AVG Validation Loss:0.699 AVG Training Acc 62.34 % AVG Validation Acc 61.28 %\n",
      "Epoch   117: reducing learning rate of group 0 to 1.0000e-06.\n",
      "Epoch:120/200 AVG Training Loss:0.647 AVG Validation Loss:0.700 AVG Training Acc 62.38 % AVG Validation Acc 61.19 %\n",
      "Epoch:130/200 AVG Training Loss:0.646 AVG Validation Loss:0.698 AVG Training Acc 62.41 % AVG Validation Acc 61.19 %\n",
      "Epoch:140/200 AVG Training Loss:0.646 AVG Validation Loss:0.699 AVG Training Acc 62.28 % AVG Validation Acc 61.19 %\n",
      "Epoch   148: reducing learning rate of group 0 to 1.0000e-07.\n",
      "Epoch:150/200 AVG Training Loss:0.647 AVG Validation Loss:0.699 AVG Training Acc 62.37 % AVG Validation Acc 61.19 %\n",
      "Epoch:160/200 AVG Training Loss:0.646 AVG Validation Loss:0.699 AVG Training Acc 62.35 % AVG Validation Acc 61.19 %\n",
      "Epoch:170/200 AVG Training Loss:0.647 AVG Validation Loss:0.700 AVG Training Acc 62.33 % AVG Validation Acc 61.28 %\n",
      "Epoch   179: reducing learning rate of group 0 to 1.0000e-08.\n",
      "Epoch:180/200 AVG Training Loss:0.646 AVG Validation Loss:0.700 AVG Training Acc 62.35 % AVG Validation Acc 61.19 %\n",
      "Epoch:190/200 AVG Training Loss:0.646 AVG Validation Loss:0.699 AVG Training Acc 62.42 % AVG Validation Acc 61.28 %\n",
      "Epoch:200/200 AVG Training Loss:0.646 AVG Validation Loss:0.700 AVG Training Acc 62.48 % AVG Validation Acc 61.19 %\n",
      "Split 30\n"
     ]
    },
    {
     "data": {
      "application/vnd.jupyter.widget-view+json": {
       "model_id": "41ee14253f3d45b7aad5296c1b49790d",
       "version_major": 2,
       "version_minor": 0
      },
      "text/plain": [
       "  0%|          | 0/200 [00:00<?, ?it/s]"
      ]
     },
     "metadata": {},
     "output_type": "display_data"
    },
    {
     "name": "stdout",
     "output_type": "stream",
     "text": [
      "Epoch:10/200 AVG Training Loss:0.665 AVG Validation Loss:0.661 AVG Training Acc 61.89 % AVG Validation Acc 61.91 %\n",
      "Epoch:20/200 AVG Training Loss:0.662 AVG Validation Loss:0.654 AVG Training Acc 61.90 % AVG Validation Acc 61.91 %\n",
      "Epoch:30/200 AVG Training Loss:0.660 AVG Validation Loss:0.653 AVG Training Acc 61.97 % AVG Validation Acc 61.91 %\n",
      "Epoch    34: reducing learning rate of group 0 to 1.0000e-03.\n",
      "Epoch:40/200 AVG Training Loss:0.656 AVG Validation Loss:0.656 AVG Training Acc 62.03 % AVG Validation Acc 62.09 %\n",
      "Epoch:50/200 AVG Training Loss:0.655 AVG Validation Loss:0.658 AVG Training Acc 62.01 % AVG Validation Acc 62.09 %\n",
      "Epoch:60/200 AVG Training Loss:0.655 AVG Validation Loss:0.659 AVG Training Acc 62.05 % AVG Validation Acc 62.00 %\n",
      "Epoch    65: reducing learning rate of group 0 to 1.0000e-04.\n",
      "Epoch:70/200 AVG Training Loss:0.653 AVG Validation Loss:0.663 AVG Training Acc 62.11 % AVG Validation Acc 61.91 %\n",
      "Epoch:80/200 AVG Training Loss:0.653 AVG Validation Loss:0.664 AVG Training Acc 62.17 % AVG Validation Acc 61.91 %\n",
      "Epoch:90/200 AVG Training Loss:0.653 AVG Validation Loss:0.663 AVG Training Acc 62.11 % AVG Validation Acc 61.91 %\n",
      "Epoch    96: reducing learning rate of group 0 to 1.0000e-05.\n",
      "Epoch:100/200 AVG Training Loss:0.653 AVG Validation Loss:0.662 AVG Training Acc 62.11 % AVG Validation Acc 61.91 %\n",
      "Epoch:110/200 AVG Training Loss:0.653 AVG Validation Loss:0.662 AVG Training Acc 62.22 % AVG Validation Acc 61.91 %\n",
      "Epoch:120/200 AVG Training Loss:0.652 AVG Validation Loss:0.664 AVG Training Acc 62.23 % AVG Validation Acc 61.91 %\n",
      "Epoch   127: reducing learning rate of group 0 to 1.0000e-06.\n",
      "Epoch:130/200 AVG Training Loss:0.653 AVG Validation Loss:0.662 AVG Training Acc 62.19 % AVG Validation Acc 61.91 %\n",
      "Epoch:140/200 AVG Training Loss:0.653 AVG Validation Loss:0.663 AVG Training Acc 62.07 % AVG Validation Acc 61.91 %\n",
      "Epoch:150/200 AVG Training Loss:0.653 AVG Validation Loss:0.662 AVG Training Acc 62.06 % AVG Validation Acc 61.91 %\n",
      "Epoch   158: reducing learning rate of group 0 to 1.0000e-07.\n",
      "Epoch:160/200 AVG Training Loss:0.653 AVG Validation Loss:0.663 AVG Training Acc 62.18 % AVG Validation Acc 61.91 %\n",
      "Epoch:170/200 AVG Training Loss:0.652 AVG Validation Loss:0.663 AVG Training Acc 62.25 % AVG Validation Acc 61.91 %\n",
      "Epoch:180/200 AVG Training Loss:0.653 AVG Validation Loss:0.663 AVG Training Acc 62.17 % AVG Validation Acc 61.91 %\n",
      "Epoch   189: reducing learning rate of group 0 to 1.0000e-08.\n",
      "Epoch:190/200 AVG Training Loss:0.653 AVG Validation Loss:0.663 AVG Training Acc 62.15 % AVG Validation Acc 61.91 %\n",
      "Epoch:200/200 AVG Training Loss:0.653 AVG Validation Loss:0.662 AVG Training Acc 62.08 % AVG Validation Acc 61.91 %\n",
      "Split 31\n"
     ]
    },
    {
     "data": {
      "application/vnd.jupyter.widget-view+json": {
       "model_id": "bf7f67214978432898b67b7219cdd243",
       "version_major": 2,
       "version_minor": 0
      },
      "text/plain": [
       "  0%|          | 0/200 [00:00<?, ?it/s]"
      ]
     },
     "metadata": {},
     "output_type": "display_data"
    },
    {
     "name": "stdout",
     "output_type": "stream",
     "text": [
      "Epoch:10/200 AVG Training Loss:0.664 AVG Validation Loss:0.665 AVG Training Acc 61.90 % AVG Validation Acc 61.95 %\n",
      "Epoch:20/200 AVG Training Loss:0.659 AVG Validation Loss:0.664 AVG Training Acc 61.82 % AVG Validation Acc 61.95 %\n",
      "Epoch:30/200 AVG Training Loss:0.658 AVG Validation Loss:0.662 AVG Training Acc 61.81 % AVG Validation Acc 61.95 %\n",
      "Epoch    37: reducing learning rate of group 0 to 1.0000e-03.\n",
      "Epoch:40/200 AVG Training Loss:0.661 AVG Validation Loss:0.666 AVG Training Acc 61.82 % AVG Validation Acc 61.86 %\n",
      "Epoch:50/200 AVG Training Loss:0.658 AVG Validation Loss:0.666 AVG Training Acc 61.86 % AVG Validation Acc 61.86 %\n",
      "Epoch:60/200 AVG Training Loss:0.657 AVG Validation Loss:0.666 AVG Training Acc 61.92 % AVG Validation Acc 61.86 %\n",
      "Epoch    68: reducing learning rate of group 0 to 1.0000e-04.\n",
      "Epoch:70/200 AVG Training Loss:0.655 AVG Validation Loss:0.669 AVG Training Acc 61.93 % AVG Validation Acc 61.77 %\n",
      "Epoch:80/200 AVG Training Loss:0.654 AVG Validation Loss:0.669 AVG Training Acc 61.99 % AVG Validation Acc 61.77 %\n",
      "Epoch:90/200 AVG Training Loss:0.652 AVG Validation Loss:0.670 AVG Training Acc 61.93 % AVG Validation Acc 61.77 %\n",
      "Epoch    99: reducing learning rate of group 0 to 1.0000e-05.\n",
      "Epoch:100/200 AVG Training Loss:0.653 AVG Validation Loss:0.670 AVG Training Acc 62.08 % AVG Validation Acc 61.77 %\n",
      "Epoch:110/200 AVG Training Loss:0.653 AVG Validation Loss:0.670 AVG Training Acc 62.01 % AVG Validation Acc 61.77 %\n",
      "Epoch:120/200 AVG Training Loss:0.652 AVG Validation Loss:0.670 AVG Training Acc 62.09 % AVG Validation Acc 61.77 %\n",
      "Epoch:130/200 AVG Training Loss:0.653 AVG Validation Loss:0.670 AVG Training Acc 62.19 % AVG Validation Acc 61.77 %\n",
      "Epoch   130: reducing learning rate of group 0 to 1.0000e-06.\n",
      "Epoch:140/200 AVG Training Loss:0.653 AVG Validation Loss:0.669 AVG Training Acc 62.15 % AVG Validation Acc 61.77 %\n",
      "Epoch:150/200 AVG Training Loss:0.653 AVG Validation Loss:0.671 AVG Training Acc 62.04 % AVG Validation Acc 61.77 %\n",
      "Epoch:160/200 AVG Training Loss:0.653 AVG Validation Loss:0.670 AVG Training Acc 62.01 % AVG Validation Acc 61.77 %\n",
      "Epoch   161: reducing learning rate of group 0 to 1.0000e-07.\n",
      "Epoch:170/200 AVG Training Loss:0.652 AVG Validation Loss:0.670 AVG Training Acc 62.10 % AVG Validation Acc 61.77 %\n",
      "Epoch:180/200 AVG Training Loss:0.653 AVG Validation Loss:0.671 AVG Training Acc 61.96 % AVG Validation Acc 61.77 %\n",
      "Epoch:190/200 AVG Training Loss:0.651 AVG Validation Loss:0.670 AVG Training Acc 62.07 % AVG Validation Acc 61.77 %\n",
      "Epoch   192: reducing learning rate of group 0 to 1.0000e-08.\n",
      "Epoch:200/200 AVG Training Loss:0.651 AVG Validation Loss:0.670 AVG Training Acc 62.09 % AVG Validation Acc 61.77 %\n",
      "Split 32\n"
     ]
    },
    {
     "data": {
      "application/vnd.jupyter.widget-view+json": {
       "model_id": "e9e0a5cd5a9948f3ab052b9238d66777",
       "version_major": 2,
       "version_minor": 0
      },
      "text/plain": [
       "  0%|          | 0/200 [00:00<?, ?it/s]"
      ]
     },
     "metadata": {},
     "output_type": "display_data"
    },
    {
     "name": "stdout",
     "output_type": "stream",
     "text": [
      "Epoch:10/200 AVG Training Loss:0.664 AVG Validation Loss:0.662 AVG Training Acc 61.91 % AVG Validation Acc 61.86 %\n",
      "Epoch:20/200 AVG Training Loss:0.660 AVG Validation Loss:0.659 AVG Training Acc 61.95 % AVG Validation Acc 61.86 %\n",
      "Epoch:30/200 AVG Training Loss:0.659 AVG Validation Loss:0.661 AVG Training Acc 61.94 % AVG Validation Acc 61.68 %\n",
      "Epoch    35: reducing learning rate of group 0 to 1.0000e-03.\n",
      "Epoch:40/200 AVG Training Loss:0.654 AVG Validation Loss:0.660 AVG Training Acc 62.01 % AVG Validation Acc 61.95 %\n",
      "Epoch:50/200 AVG Training Loss:0.652 AVG Validation Loss:0.662 AVG Training Acc 62.07 % AVG Validation Acc 62.04 %\n",
      "Epoch:60/200 AVG Training Loss:0.651 AVG Validation Loss:0.664 AVG Training Acc 62.10 % AVG Validation Acc 61.95 %\n",
      "Epoch    66: reducing learning rate of group 0 to 1.0000e-04.\n",
      "Epoch:70/200 AVG Training Loss:0.647 AVG Validation Loss:0.664 AVG Training Acc 62.29 % AVG Validation Acc 61.95 %\n",
      "Epoch:80/200 AVG Training Loss:0.647 AVG Validation Loss:0.664 AVG Training Acc 62.35 % AVG Validation Acc 61.95 %\n",
      "Epoch:90/200 AVG Training Loss:0.646 AVG Validation Loss:0.665 AVG Training Acc 62.35 % AVG Validation Acc 61.95 %\n",
      "Epoch    97: reducing learning rate of group 0 to 1.0000e-05.\n",
      "Epoch:100/200 AVG Training Loss:0.646 AVG Validation Loss:0.665 AVG Training Acc 62.18 % AVG Validation Acc 62.04 %\n",
      "Epoch:110/200 AVG Training Loss:0.646 AVG Validation Loss:0.664 AVG Training Acc 62.38 % AVG Validation Acc 61.95 %\n",
      "Epoch:120/200 AVG Training Loss:0.646 AVG Validation Loss:0.665 AVG Training Acc 62.43 % AVG Validation Acc 61.95 %\n",
      "Epoch   128: reducing learning rate of group 0 to 1.0000e-06.\n",
      "Epoch:130/200 AVG Training Loss:0.647 AVG Validation Loss:0.665 AVG Training Acc 62.40 % AVG Validation Acc 62.04 %\n",
      "Epoch:140/200 AVG Training Loss:0.647 AVG Validation Loss:0.666 AVG Training Acc 62.20 % AVG Validation Acc 61.95 %\n",
      "Epoch:150/200 AVG Training Loss:0.647 AVG Validation Loss:0.665 AVG Training Acc 62.29 % AVG Validation Acc 62.04 %\n",
      "Epoch   159: reducing learning rate of group 0 to 1.0000e-07.\n",
      "Epoch:160/200 AVG Training Loss:0.646 AVG Validation Loss:0.665 AVG Training Acc 62.28 % AVG Validation Acc 62.04 %\n",
      "Epoch:170/200 AVG Training Loss:0.645 AVG Validation Loss:0.665 AVG Training Acc 62.34 % AVG Validation Acc 61.95 %\n",
      "Epoch:180/200 AVG Training Loss:0.646 AVG Validation Loss:0.665 AVG Training Acc 62.26 % AVG Validation Acc 62.04 %\n",
      "Epoch:190/200 AVG Training Loss:0.647 AVG Validation Loss:0.665 AVG Training Acc 62.33 % AVG Validation Acc 62.04 %\n",
      "Epoch   190: reducing learning rate of group 0 to 1.0000e-08.\n",
      "Epoch:200/200 AVG Training Loss:0.646 AVG Validation Loss:0.666 AVG Training Acc 62.24 % AVG Validation Acc 62.04 %\n",
      "Split 33\n"
     ]
    },
    {
     "data": {
      "application/vnd.jupyter.widget-view+json": {
       "model_id": "9e549d747ca241df9c52e90b488d961e",
       "version_major": 2,
       "version_minor": 0
      },
      "text/plain": [
       "  0%|          | 0/200 [00:00<?, ?it/s]"
      ]
     },
     "metadata": {},
     "output_type": "display_data"
    },
    {
     "name": "stdout",
     "output_type": "stream",
     "text": [
      "Epoch:10/200 AVG Training Loss:0.664 AVG Validation Loss:0.662 AVG Training Acc 61.94 % AVG Validation Acc 61.86 %\n",
      "Epoch:20/200 AVG Training Loss:0.660 AVG Validation Loss:0.660 AVG Training Acc 61.90 % AVG Validation Acc 61.86 %\n",
      "Epoch:30/200 AVG Training Loss:0.659 AVG Validation Loss:0.659 AVG Training Acc 61.98 % AVG Validation Acc 61.86 %\n",
      "Epoch:40/200 AVG Training Loss:0.658 AVG Validation Loss:0.658 AVG Training Acc 62.03 % AVG Validation Acc 61.86 %\n",
      "Epoch    48: reducing learning rate of group 0 to 1.0000e-03.\n",
      "Epoch:50/200 AVG Training Loss:0.653 AVG Validation Loss:0.655 AVG Training Acc 62.13 % AVG Validation Acc 61.59 %\n",
      "Epoch:60/200 AVG Training Loss:0.649 AVG Validation Loss:0.657 AVG Training Acc 62.27 % AVG Validation Acc 61.68 %\n",
      "Epoch:70/200 AVG Training Loss:0.647 AVG Validation Loss:0.656 AVG Training Acc 62.18 % AVG Validation Acc 61.32 %\n",
      "Epoch    79: reducing learning rate of group 0 to 1.0000e-04.\n",
      "Epoch:80/200 AVG Training Loss:0.644 AVG Validation Loss:0.655 AVG Training Acc 62.55 % AVG Validation Acc 61.32 %\n",
      "Epoch:90/200 AVG Training Loss:0.644 AVG Validation Loss:0.656 AVG Training Acc 62.29 % AVG Validation Acc 61.32 %\n",
      "Epoch:100/200 AVG Training Loss:0.643 AVG Validation Loss:0.657 AVG Training Acc 62.51 % AVG Validation Acc 61.23 %\n",
      "Epoch:110/200 AVG Training Loss:0.642 AVG Validation Loss:0.657 AVG Training Acc 62.47 % AVG Validation Acc 61.23 %\n",
      "Epoch   110: reducing learning rate of group 0 to 1.0000e-05.\n",
      "Epoch:120/200 AVG Training Loss:0.642 AVG Validation Loss:0.657 AVG Training Acc 62.48 % AVG Validation Acc 61.23 %\n",
      "Epoch:130/200 AVG Training Loss:0.642 AVG Validation Loss:0.657 AVG Training Acc 62.50 % AVG Validation Acc 61.23 %\n",
      "Epoch:140/200 AVG Training Loss:0.642 AVG Validation Loss:0.657 AVG Training Acc 62.46 % AVG Validation Acc 61.23 %\n",
      "Epoch   141: reducing learning rate of group 0 to 1.0000e-06.\n",
      "Epoch:150/200 AVG Training Loss:0.643 AVG Validation Loss:0.657 AVG Training Acc 62.34 % AVG Validation Acc 61.23 %\n",
      "Epoch:160/200 AVG Training Loss:0.645 AVG Validation Loss:0.657 AVG Training Acc 62.41 % AVG Validation Acc 61.23 %\n",
      "Epoch:170/200 AVG Training Loss:0.643 AVG Validation Loss:0.656 AVG Training Acc 62.40 % AVG Validation Acc 61.23 %\n",
      "Epoch   172: reducing learning rate of group 0 to 1.0000e-07.\n",
      "Epoch:180/200 AVG Training Loss:0.643 AVG Validation Loss:0.657 AVG Training Acc 62.36 % AVG Validation Acc 61.23 %\n",
      "Epoch:190/200 AVG Training Loss:0.642 AVG Validation Loss:0.657 AVG Training Acc 62.53 % AVG Validation Acc 61.23 %\n",
      "Epoch:200/200 AVG Training Loss:0.643 AVG Validation Loss:0.657 AVG Training Acc 62.45 % AVG Validation Acc 61.23 %\n",
      "Split 34\n"
     ]
    },
    {
     "data": {
      "application/vnd.jupyter.widget-view+json": {
       "model_id": "14ea60422cac49c7a5066ce05ae87a40",
       "version_major": 2,
       "version_minor": 0
      },
      "text/plain": [
       "  0%|          | 0/200 [00:00<?, ?it/s]"
      ]
     },
     "metadata": {},
     "output_type": "display_data"
    },
    {
     "name": "stdout",
     "output_type": "stream",
     "text": [
      "Epoch:10/200 AVG Training Loss:0.664 AVG Validation Loss:0.666 AVG Training Acc 61.93 % AVG Validation Acc 61.86 %\n",
      "Epoch    13: reducing learning rate of group 0 to 1.0000e-03.\n",
      "Epoch:20/200 AVG Training Loss:0.663 AVG Validation Loss:0.666 AVG Training Acc 62.01 % AVG Validation Acc 61.68 %\n",
      "Epoch:30/200 AVG Training Loss:0.662 AVG Validation Loss:0.666 AVG Training Acc 61.91 % AVG Validation Acc 61.68 %\n",
      "Epoch:40/200 AVG Training Loss:0.661 AVG Validation Loss:0.668 AVG Training Acc 61.92 % AVG Validation Acc 61.68 %\n",
      "Epoch:50/200 AVG Training Loss:0.657 AVG Validation Loss:0.666 AVG Training Acc 62.01 % AVG Validation Acc 61.32 %\n",
      "Epoch    53: reducing learning rate of group 0 to 1.0000e-04.\n",
      "Epoch:60/200 AVG Training Loss:0.655 AVG Validation Loss:0.667 AVG Training Acc 62.09 % AVG Validation Acc 61.32 %\n",
      "Epoch:70/200 AVG Training Loss:0.655 AVG Validation Loss:0.667 AVG Training Acc 62.08 % AVG Validation Acc 61.41 %\n",
      "Epoch:80/200 AVG Training Loss:0.655 AVG Validation Loss:0.668 AVG Training Acc 62.16 % AVG Validation Acc 61.41 %\n",
      "Epoch    84: reducing learning rate of group 0 to 1.0000e-05.\n",
      "Epoch:90/200 AVG Training Loss:0.654 AVG Validation Loss:0.668 AVG Training Acc 62.08 % AVG Validation Acc 61.41 %\n",
      "Epoch:100/200 AVG Training Loss:0.654 AVG Validation Loss:0.668 AVG Training Acc 61.98 % AVG Validation Acc 61.41 %\n",
      "Epoch:110/200 AVG Training Loss:0.654 AVG Validation Loss:0.668 AVG Training Acc 62.02 % AVG Validation Acc 61.41 %\n",
      "Epoch   115: reducing learning rate of group 0 to 1.0000e-06.\n",
      "Epoch:120/200 AVG Training Loss:0.653 AVG Validation Loss:0.668 AVG Training Acc 62.06 % AVG Validation Acc 61.41 %\n",
      "Epoch:130/200 AVG Training Loss:0.654 AVG Validation Loss:0.668 AVG Training Acc 62.06 % AVG Validation Acc 61.41 %\n",
      "Epoch:140/200 AVG Training Loss:0.654 AVG Validation Loss:0.668 AVG Training Acc 62.04 % AVG Validation Acc 61.41 %\n",
      "Epoch   146: reducing learning rate of group 0 to 1.0000e-07.\n",
      "Epoch:150/200 AVG Training Loss:0.654 AVG Validation Loss:0.668 AVG Training Acc 62.04 % AVG Validation Acc 61.41 %\n",
      "Epoch:160/200 AVG Training Loss:0.654 AVG Validation Loss:0.668 AVG Training Acc 62.06 % AVG Validation Acc 61.41 %\n",
      "Epoch:170/200 AVG Training Loss:0.654 AVG Validation Loss:0.668 AVG Training Acc 61.99 % AVG Validation Acc 61.41 %\n",
      "Epoch   177: reducing learning rate of group 0 to 1.0000e-08.\n",
      "Epoch:180/200 AVG Training Loss:0.653 AVG Validation Loss:0.668 AVG Training Acc 62.07 % AVG Validation Acc 61.41 %\n",
      "Epoch:190/200 AVG Training Loss:0.653 AVG Validation Loss:0.668 AVG Training Acc 62.19 % AVG Validation Acc 61.41 %\n",
      "Epoch:200/200 AVG Training Loss:0.654 AVG Validation Loss:0.668 AVG Training Acc 62.00 % AVG Validation Acc 61.41 %\n",
      "Split 35\n"
     ]
    },
    {
     "data": {
      "application/vnd.jupyter.widget-view+json": {
       "model_id": "766881f494994e94a423d61cee007cce",
       "version_major": 2,
       "version_minor": 0
      },
      "text/plain": [
       "  0%|          | 0/200 [00:00<?, ?it/s]"
      ]
     },
     "metadata": {},
     "output_type": "display_data"
    },
    {
     "name": "stdout",
     "output_type": "stream",
     "text": [
      "Epoch:10/200 AVG Training Loss:0.662 AVG Validation Loss:0.662 AVG Training Acc 61.90 % AVG Validation Acc 61.86 %\n",
      "Epoch:20/200 AVG Training Loss:0.660 AVG Validation Loss:0.661 AVG Training Acc 61.89 % AVG Validation Acc 61.86 %\n",
      "Epoch:30/200 AVG Training Loss:0.658 AVG Validation Loss:0.659 AVG Training Acc 61.91 % AVG Validation Acc 61.86 %\n",
      "Epoch:40/200 AVG Training Loss:0.659 AVG Validation Loss:0.660 AVG Training Acc 61.86 % AVG Validation Acc 61.77 %\n",
      "Epoch    45: reducing learning rate of group 0 to 1.0000e-03.\n",
      "Epoch:50/200 AVG Training Loss:0.652 AVG Validation Loss:0.662 AVG Training Acc 62.00 % AVG Validation Acc 61.77 %\n",
      "Epoch:60/200 AVG Training Loss:0.647 AVG Validation Loss:0.664 AVG Training Acc 62.10 % AVG Validation Acc 61.68 %\n",
      "Epoch:70/200 AVG Training Loss:0.646 AVG Validation Loss:0.667 AVG Training Acc 62.31 % AVG Validation Acc 61.95 %\n",
      "Epoch    76: reducing learning rate of group 0 to 1.0000e-04.\n",
      "Epoch:80/200 AVG Training Loss:0.642 AVG Validation Loss:0.677 AVG Training Acc 62.61 % AVG Validation Acc 61.41 %\n",
      "Epoch:90/200 AVG Training Loss:0.643 AVG Validation Loss:0.679 AVG Training Acc 62.60 % AVG Validation Acc 61.41 %\n",
      "Epoch:100/200 AVG Training Loss:0.642 AVG Validation Loss:0.676 AVG Training Acc 62.63 % AVG Validation Acc 61.59 %\n",
      "Epoch   107: reducing learning rate of group 0 to 1.0000e-05.\n",
      "Epoch:110/200 AVG Training Loss:0.641 AVG Validation Loss:0.677 AVG Training Acc 62.77 % AVG Validation Acc 61.50 %\n",
      "Epoch:120/200 AVG Training Loss:0.640 AVG Validation Loss:0.677 AVG Training Acc 62.74 % AVG Validation Acc 61.41 %\n",
      "Epoch:130/200 AVG Training Loss:0.641 AVG Validation Loss:0.677 AVG Training Acc 62.89 % AVG Validation Acc 61.50 %\n",
      "Epoch   138: reducing learning rate of group 0 to 1.0000e-06.\n",
      "Epoch:140/200 AVG Training Loss:0.642 AVG Validation Loss:0.677 AVG Training Acc 62.72 % AVG Validation Acc 61.41 %\n",
      "Epoch:150/200 AVG Training Loss:0.640 AVG Validation Loss:0.677 AVG Training Acc 62.48 % AVG Validation Acc 61.50 %\n",
      "Epoch:160/200 AVG Training Loss:0.640 AVG Validation Loss:0.678 AVG Training Acc 62.74 % AVG Validation Acc 61.50 %\n",
      "Epoch   169: reducing learning rate of group 0 to 1.0000e-07.\n",
      "Epoch:170/200 AVG Training Loss:0.641 AVG Validation Loss:0.680 AVG Training Acc 62.77 % AVG Validation Acc 61.41 %\n",
      "Epoch:180/200 AVG Training Loss:0.638 AVG Validation Loss:0.675 AVG Training Acc 62.88 % AVG Validation Acc 61.50 %\n",
      "Epoch:190/200 AVG Training Loss:0.640 AVG Validation Loss:0.675 AVG Training Acc 62.71 % AVG Validation Acc 61.68 %\n",
      "Epoch:200/200 AVG Training Loss:0.639 AVG Validation Loss:0.677 AVG Training Acc 62.73 % AVG Validation Acc 61.59 %\n",
      "Epoch   200: reducing learning rate of group 0 to 1.0000e-08.\n",
      "Split 36\n"
     ]
    },
    {
     "data": {
      "application/vnd.jupyter.widget-view+json": {
       "model_id": "e1a54da629cf4d27a0abde6e9cff79a2",
       "version_major": 2,
       "version_minor": 0
      },
      "text/plain": [
       "  0%|          | 0/200 [00:00<?, ?it/s]"
      ]
     },
     "metadata": {},
     "output_type": "display_data"
    },
    {
     "name": "stdout",
     "output_type": "stream",
     "text": [
      "Epoch:10/200 AVG Training Loss:0.664 AVG Validation Loss:0.663 AVG Training Acc 61.89 % AVG Validation Acc 61.91 %\n",
      "Epoch:20/200 AVG Training Loss:0.662 AVG Validation Loss:0.659 AVG Training Acc 61.93 % AVG Validation Acc 61.91 %\n",
      "Epoch:30/200 AVG Training Loss:0.661 AVG Validation Loss:0.658 AVG Training Acc 61.97 % AVG Validation Acc 61.91 %\n",
      "Epoch:40/200 AVG Training Loss:0.659 AVG Validation Loss:0.658 AVG Training Acc 61.92 % AVG Validation Acc 62.00 %\n",
      "Epoch    46: reducing learning rate of group 0 to 1.0000e-03.\n",
      "Epoch:50/200 AVG Training Loss:0.655 AVG Validation Loss:0.666 AVG Training Acc 62.01 % AVG Validation Acc 61.73 %\n",
      "Epoch:60/200 AVG Training Loss:0.654 AVG Validation Loss:0.668 AVG Training Acc 62.03 % AVG Validation Acc 61.64 %\n",
      "Epoch:70/200 AVG Training Loss:0.651 AVG Validation Loss:0.672 AVG Training Acc 62.04 % AVG Validation Acc 61.73 %\n",
      "Epoch    77: reducing learning rate of group 0 to 1.0000e-04.\n",
      "Epoch:80/200 AVG Training Loss:0.650 AVG Validation Loss:0.678 AVG Training Acc 62.13 % AVG Validation Acc 61.64 %\n",
      "Epoch:90/200 AVG Training Loss:0.650 AVG Validation Loss:0.678 AVG Training Acc 62.12 % AVG Validation Acc 61.64 %\n",
      "Epoch:100/200 AVG Training Loss:0.650 AVG Validation Loss:0.682 AVG Training Acc 62.15 % AVG Validation Acc 61.64 %\n",
      "Epoch   108: reducing learning rate of group 0 to 1.0000e-05.\n",
      "Epoch:110/200 AVG Training Loss:0.649 AVG Validation Loss:0.685 AVG Training Acc 62.09 % AVG Validation Acc 61.64 %\n",
      "Epoch:120/200 AVG Training Loss:0.648 AVG Validation Loss:0.682 AVG Training Acc 62.15 % AVG Validation Acc 61.64 %\n",
      "Epoch:130/200 AVG Training Loss:0.648 AVG Validation Loss:0.682 AVG Training Acc 62.13 % AVG Validation Acc 61.64 %\n",
      "Epoch   139: reducing learning rate of group 0 to 1.0000e-06.\n",
      "Epoch:140/200 AVG Training Loss:0.649 AVG Validation Loss:0.683 AVG Training Acc 62.07 % AVG Validation Acc 61.64 %\n",
      "Epoch:150/200 AVG Training Loss:0.648 AVG Validation Loss:0.683 AVG Training Acc 62.19 % AVG Validation Acc 61.55 %\n",
      "Epoch:160/200 AVG Training Loss:0.648 AVG Validation Loss:0.683 AVG Training Acc 62.22 % AVG Validation Acc 61.64 %\n",
      "Epoch:170/200 AVG Training Loss:0.648 AVG Validation Loss:0.684 AVG Training Acc 62.12 % AVG Validation Acc 61.64 %\n",
      "Epoch   170: reducing learning rate of group 0 to 1.0000e-07.\n",
      "Epoch:180/200 AVG Training Loss:0.648 AVG Validation Loss:0.682 AVG Training Acc 62.12 % AVG Validation Acc 61.64 %\n",
      "Epoch:190/200 AVG Training Loss:0.649 AVG Validation Loss:0.683 AVG Training Acc 62.13 % AVG Validation Acc 61.64 %\n",
      "Epoch:200/200 AVG Training Loss:0.649 AVG Validation Loss:0.682 AVG Training Acc 62.09 % AVG Validation Acc 61.55 %\n",
      "Split 37\n"
     ]
    },
    {
     "data": {
      "application/vnd.jupyter.widget-view+json": {
       "model_id": "3cca3a6cdd4348419715bcde3fd9dc3a",
       "version_major": 2,
       "version_minor": 0
      },
      "text/plain": [
       "  0%|          | 0/200 [00:00<?, ?it/s]"
      ]
     },
     "metadata": {},
     "output_type": "display_data"
    },
    {
     "name": "stdout",
     "output_type": "stream",
     "text": [
      "Epoch:10/200 AVG Training Loss:0.665 AVG Validation Loss:0.665 AVG Training Acc 61.87 % AVG Validation Acc 61.91 %\n",
      "Epoch:20/200 AVG Training Loss:0.661 AVG Validation Loss:0.666 AVG Training Acc 61.83 % AVG Validation Acc 61.91 %\n",
      "Epoch    22: reducing learning rate of group 0 to 1.0000e-03.\n",
      "Epoch:30/200 AVG Training Loss:0.656 AVG Validation Loss:0.667 AVG Training Acc 61.96 % AVG Validation Acc 61.82 %\n",
      "Epoch:40/200 AVG Training Loss:0.657 AVG Validation Loss:0.667 AVG Training Acc 61.97 % AVG Validation Acc 61.82 %\n",
      "Epoch:50/200 AVG Training Loss:0.655 AVG Validation Loss:0.668 AVG Training Acc 61.96 % AVG Validation Acc 62.00 %\n",
      "Epoch    53: reducing learning rate of group 0 to 1.0000e-04.\n",
      "Epoch:60/200 AVG Training Loss:0.654 AVG Validation Loss:0.668 AVG Training Acc 61.97 % AVG Validation Acc 61.91 %\n",
      "Epoch:70/200 AVG Training Loss:0.654 AVG Validation Loss:0.669 AVG Training Acc 62.04 % AVG Validation Acc 61.91 %\n",
      "Epoch:80/200 AVG Training Loss:0.653 AVG Validation Loss:0.669 AVG Training Acc 62.05 % AVG Validation Acc 61.91 %\n",
      "Epoch    84: reducing learning rate of group 0 to 1.0000e-05.\n",
      "Epoch:90/200 AVG Training Loss:0.654 AVG Validation Loss:0.669 AVG Training Acc 61.98 % AVG Validation Acc 61.91 %\n",
      "Epoch:100/200 AVG Training Loss:0.653 AVG Validation Loss:0.669 AVG Training Acc 62.02 % AVG Validation Acc 61.91 %\n",
      "Epoch:110/200 AVG Training Loss:0.653 AVG Validation Loss:0.669 AVG Training Acc 62.06 % AVG Validation Acc 61.91 %\n",
      "Epoch   115: reducing learning rate of group 0 to 1.0000e-06.\n",
      "Epoch:120/200 AVG Training Loss:0.653 AVG Validation Loss:0.669 AVG Training Acc 62.03 % AVG Validation Acc 61.91 %\n",
      "Epoch:130/200 AVG Training Loss:0.653 AVG Validation Loss:0.669 AVG Training Acc 62.04 % AVG Validation Acc 61.91 %\n",
      "Epoch:140/200 AVG Training Loss:0.653 AVG Validation Loss:0.669 AVG Training Acc 62.01 % AVG Validation Acc 61.91 %\n",
      "Epoch   146: reducing learning rate of group 0 to 1.0000e-07.\n",
      "Epoch:150/200 AVG Training Loss:0.652 AVG Validation Loss:0.669 AVG Training Acc 62.01 % AVG Validation Acc 61.91 %\n",
      "Epoch:160/200 AVG Training Loss:0.652 AVG Validation Loss:0.669 AVG Training Acc 62.00 % AVG Validation Acc 61.91 %\n",
      "Epoch:170/200 AVG Training Loss:0.654 AVG Validation Loss:0.669 AVG Training Acc 62.05 % AVG Validation Acc 61.91 %\n",
      "Epoch   177: reducing learning rate of group 0 to 1.0000e-08.\n",
      "Epoch:180/200 AVG Training Loss:0.653 AVG Validation Loss:0.669 AVG Training Acc 62.01 % AVG Validation Acc 61.91 %\n",
      "Epoch:190/200 AVG Training Loss:0.652 AVG Validation Loss:0.669 AVG Training Acc 61.98 % AVG Validation Acc 61.91 %\n",
      "Epoch:200/200 AVG Training Loss:0.653 AVG Validation Loss:0.669 AVG Training Acc 61.99 % AVG Validation Acc 61.91 %\n",
      "Split 38\n"
     ]
    },
    {
     "data": {
      "application/vnd.jupyter.widget-view+json": {
       "model_id": "cea3772fe3554555819e771b304dbe6d",
       "version_major": 2,
       "version_minor": 0
      },
      "text/plain": [
       "  0%|          | 0/200 [00:00<?, ?it/s]"
      ]
     },
     "metadata": {},
     "output_type": "display_data"
    },
    {
     "name": "stdout",
     "output_type": "stream",
     "text": [
      "Epoch:10/200 AVG Training Loss:0.662 AVG Validation Loss:0.663 AVG Training Acc 61.93 % AVG Validation Acc 61.91 %\n",
      "Epoch:20/200 AVG Training Loss:0.659 AVG Validation Loss:0.662 AVG Training Acc 61.93 % AVG Validation Acc 61.91 %\n",
      "Epoch:30/200 AVG Training Loss:0.658 AVG Validation Loss:0.661 AVG Training Acc 61.98 % AVG Validation Acc 62.00 %\n",
      "Epoch    32: reducing learning rate of group 0 to 1.0000e-03.\n",
      "Epoch:40/200 AVG Training Loss:0.653 AVG Validation Loss:0.663 AVG Training Acc 62.09 % AVG Validation Acc 61.91 %\n",
      "Epoch:50/200 AVG Training Loss:0.652 AVG Validation Loss:0.665 AVG Training Acc 62.17 % AVG Validation Acc 61.91 %\n",
      "Epoch:60/200 AVG Training Loss:0.651 AVG Validation Loss:0.665 AVG Training Acc 62.13 % AVG Validation Acc 62.00 %\n",
      "Epoch    63: reducing learning rate of group 0 to 1.0000e-04.\n",
      "Epoch:70/200 AVG Training Loss:0.649 AVG Validation Loss:0.669 AVG Training Acc 62.17 % AVG Validation Acc 62.00 %\n",
      "Epoch:80/200 AVG Training Loss:0.648 AVG Validation Loss:0.669 AVG Training Acc 62.17 % AVG Validation Acc 62.00 %\n",
      "Epoch:90/200 AVG Training Loss:0.648 AVG Validation Loss:0.666 AVG Training Acc 62.28 % AVG Validation Acc 62.00 %\n",
      "Epoch    94: reducing learning rate of group 0 to 1.0000e-05.\n",
      "Epoch:100/200 AVG Training Loss:0.648 AVG Validation Loss:0.666 AVG Training Acc 62.11 % AVG Validation Acc 62.00 %\n",
      "Epoch:110/200 AVG Training Loss:0.647 AVG Validation Loss:0.666 AVG Training Acc 62.23 % AVG Validation Acc 62.00 %\n",
      "Epoch:120/200 AVG Training Loss:0.647 AVG Validation Loss:0.668 AVG Training Acc 62.17 % AVG Validation Acc 62.00 %\n",
      "Epoch   125: reducing learning rate of group 0 to 1.0000e-06.\n",
      "Epoch:130/200 AVG Training Loss:0.647 AVG Validation Loss:0.669 AVG Training Acc 62.22 % AVG Validation Acc 62.00 %\n",
      "Epoch:140/200 AVG Training Loss:0.647 AVG Validation Loss:0.667 AVG Training Acc 62.28 % AVG Validation Acc 62.00 %\n",
      "Epoch:150/200 AVG Training Loss:0.646 AVG Validation Loss:0.667 AVG Training Acc 62.23 % AVG Validation Acc 62.00 %\n",
      "Epoch   156: reducing learning rate of group 0 to 1.0000e-07.\n",
      "Epoch:160/200 AVG Training Loss:0.646 AVG Validation Loss:0.667 AVG Training Acc 62.25 % AVG Validation Acc 62.00 %\n",
      "Epoch:170/200 AVG Training Loss:0.648 AVG Validation Loss:0.666 AVG Training Acc 62.18 % AVG Validation Acc 62.00 %\n",
      "Epoch:180/200 AVG Training Loss:0.647 AVG Validation Loss:0.667 AVG Training Acc 62.08 % AVG Validation Acc 62.00 %\n",
      "Epoch   187: reducing learning rate of group 0 to 1.0000e-08.\n",
      "Epoch:190/200 AVG Training Loss:0.647 AVG Validation Loss:0.667 AVG Training Acc 62.20 % AVG Validation Acc 62.00 %\n",
      "Epoch:200/200 AVG Training Loss:0.647 AVG Validation Loss:0.668 AVG Training Acc 62.23 % AVG Validation Acc 62.00 %\n",
      "Split 39\n"
     ]
    },
    {
     "data": {
      "application/vnd.jupyter.widget-view+json": {
       "model_id": "83e3167b431f48d5802ec236074ff216",
       "version_major": 2,
       "version_minor": 0
      },
      "text/plain": [
       "  0%|          | 0/200 [00:00<?, ?it/s]"
      ]
     },
     "metadata": {},
     "output_type": "display_data"
    },
    {
     "name": "stdout",
     "output_type": "stream",
     "text": [
      "Epoch:10/200 AVG Training Loss:0.664 AVG Validation Loss:0.666 AVG Training Acc 61.87 % AVG Validation Acc 61.91 %\n",
      "Epoch    12: reducing learning rate of group 0 to 1.0000e-03.\n",
      "Epoch:20/200 AVG Training Loss:0.663 AVG Validation Loss:0.665 AVG Training Acc 61.89 % AVG Validation Acc 61.91 %\n",
      "Epoch:30/200 AVG Training Loss:0.661 AVG Validation Loss:0.662 AVG Training Acc 61.92 % AVG Validation Acc 61.91 %\n",
      "Epoch:40/200 AVG Training Loss:0.660 AVG Validation Loss:0.659 AVG Training Acc 61.92 % AVG Validation Acc 62.00 %\n",
      "Epoch:50/200 AVG Training Loss:0.658 AVG Validation Loss:0.659 AVG Training Acc 61.88 % AVG Validation Acc 62.09 %\n",
      "Epoch    59: reducing learning rate of group 0 to 1.0000e-04.\n",
      "Epoch:60/200 AVG Training Loss:0.657 AVG Validation Loss:0.660 AVG Training Acc 61.93 % AVG Validation Acc 62.09 %\n",
      "Epoch:70/200 AVG Training Loss:0.657 AVG Validation Loss:0.660 AVG Training Acc 61.87 % AVG Validation Acc 62.09 %\n",
      "Epoch:80/200 AVG Training Loss:0.657 AVG Validation Loss:0.660 AVG Training Acc 61.92 % AVG Validation Acc 62.09 %\n",
      "Epoch:90/200 AVG Training Loss:0.658 AVG Validation Loss:0.660 AVG Training Acc 61.88 % AVG Validation Acc 62.09 %\n",
      "Epoch    90: reducing learning rate of group 0 to 1.0000e-05.\n",
      "Epoch:100/200 AVG Training Loss:0.656 AVG Validation Loss:0.660 AVG Training Acc 61.87 % AVG Validation Acc 62.00 %\n",
      "Epoch:110/200 AVG Training Loss:0.656 AVG Validation Loss:0.659 AVG Training Acc 61.88 % AVG Validation Acc 62.00 %\n",
      "Epoch:120/200 AVG Training Loss:0.657 AVG Validation Loss:0.660 AVG Training Acc 61.93 % AVG Validation Acc 62.00 %\n",
      "Epoch   121: reducing learning rate of group 0 to 1.0000e-06.\n",
      "Epoch:130/200 AVG Training Loss:0.656 AVG Validation Loss:0.660 AVG Training Acc 61.94 % AVG Validation Acc 62.00 %\n",
      "Epoch:140/200 AVG Training Loss:0.656 AVG Validation Loss:0.659 AVG Training Acc 61.88 % AVG Validation Acc 62.00 %\n",
      "Epoch:150/200 AVG Training Loss:0.657 AVG Validation Loss:0.660 AVG Training Acc 61.92 % AVG Validation Acc 62.00 %\n",
      "Epoch   152: reducing learning rate of group 0 to 1.0000e-07.\n",
      "Epoch:160/200 AVG Training Loss:0.656 AVG Validation Loss:0.659 AVG Training Acc 61.88 % AVG Validation Acc 62.00 %\n",
      "Epoch:170/200 AVG Training Loss:0.657 AVG Validation Loss:0.659 AVG Training Acc 61.93 % AVG Validation Acc 62.00 %\n",
      "Epoch:180/200 AVG Training Loss:0.657 AVG Validation Loss:0.660 AVG Training Acc 61.86 % AVG Validation Acc 62.00 %\n",
      "Epoch   183: reducing learning rate of group 0 to 1.0000e-08.\n",
      "Epoch:190/200 AVG Training Loss:0.656 AVG Validation Loss:0.660 AVG Training Acc 61.91 % AVG Validation Acc 62.00 %\n",
      "Epoch:200/200 AVG Training Loss:0.657 AVG Validation Loss:0.660 AVG Training Acc 61.95 % AVG Validation Acc 62.00 %\n",
      "Split 40\n"
     ]
    },
    {
     "data": {
      "application/vnd.jupyter.widget-view+json": {
       "model_id": "c60f17abd5d6491fb721537ab81388ce",
       "version_major": 2,
       "version_minor": 0
      },
      "text/plain": [
       "  0%|          | 0/200 [00:00<?, ?it/s]"
      ]
     },
     "metadata": {},
     "output_type": "display_data"
    },
    {
     "name": "stdout",
     "output_type": "stream",
     "text": [
      "Epoch:10/200 AVG Training Loss:0.664 AVG Validation Loss:0.665 AVG Training Acc 61.87 % AVG Validation Acc 61.91 %\n",
      "Epoch:20/200 AVG Training Loss:0.662 AVG Validation Loss:0.659 AVG Training Acc 61.91 % AVG Validation Acc 61.91 %\n",
      "Epoch    29: reducing learning rate of group 0 to 1.0000e-03.\n",
      "Epoch:30/200 AVG Training Loss:0.658 AVG Validation Loss:0.658 AVG Training Acc 61.92 % AVG Validation Acc 62.09 %\n",
      "Epoch:40/200 AVG Training Loss:0.657 AVG Validation Loss:0.658 AVG Training Acc 61.99 % AVG Validation Acc 62.18 %\n",
      "Epoch:50/200 AVG Training Loss:0.656 AVG Validation Loss:0.658 AVG Training Acc 61.96 % AVG Validation Acc 62.18 %\n",
      "Epoch:60/200 AVG Training Loss:0.655 AVG Validation Loss:0.658 AVG Training Acc 61.98 % AVG Validation Acc 62.18 %\n",
      "Epoch    69: reducing learning rate of group 0 to 1.0000e-04.\n",
      "Epoch:70/200 AVG Training Loss:0.656 AVG Validation Loss:0.660 AVG Training Acc 61.97 % AVG Validation Acc 62.09 %\n",
      "Epoch:80/200 AVG Training Loss:0.657 AVG Validation Loss:0.660 AVG Training Acc 61.96 % AVG Validation Acc 62.09 %\n",
      "Epoch:90/200 AVG Training Loss:0.656 AVG Validation Loss:0.659 AVG Training Acc 61.98 % AVG Validation Acc 62.09 %\n",
      "Epoch:100/200 AVG Training Loss:0.655 AVG Validation Loss:0.659 AVG Training Acc 62.06 % AVG Validation Acc 62.09 %\n",
      "Epoch   100: reducing learning rate of group 0 to 1.0000e-05.\n",
      "Epoch:110/200 AVG Training Loss:0.657 AVG Validation Loss:0.658 AVG Training Acc 62.01 % AVG Validation Acc 62.09 %\n",
      "Epoch:120/200 AVG Training Loss:0.655 AVG Validation Loss:0.658 AVG Training Acc 62.00 % AVG Validation Acc 62.09 %\n",
      "Epoch:130/200 AVG Training Loss:0.655 AVG Validation Loss:0.658 AVG Training Acc 61.97 % AVG Validation Acc 62.09 %\n",
      "Epoch   131: reducing learning rate of group 0 to 1.0000e-06.\n",
      "Epoch:140/200 AVG Training Loss:0.656 AVG Validation Loss:0.658 AVG Training Acc 62.05 % AVG Validation Acc 62.09 %\n",
      "Epoch:150/200 AVG Training Loss:0.655 AVG Validation Loss:0.658 AVG Training Acc 62.02 % AVG Validation Acc 62.09 %\n",
      "Epoch:160/200 AVG Training Loss:0.656 AVG Validation Loss:0.658 AVG Training Acc 61.96 % AVG Validation Acc 62.09 %\n",
      "Epoch   162: reducing learning rate of group 0 to 1.0000e-07.\n",
      "Epoch:170/200 AVG Training Loss:0.656 AVG Validation Loss:0.658 AVG Training Acc 61.97 % AVG Validation Acc 62.09 %\n",
      "Epoch:180/200 AVG Training Loss:0.656 AVG Validation Loss:0.658 AVG Training Acc 62.02 % AVG Validation Acc 62.09 %\n",
      "Epoch:190/200 AVG Training Loss:0.656 AVG Validation Loss:0.658 AVG Training Acc 62.00 % AVG Validation Acc 62.09 %\n",
      "Epoch   193: reducing learning rate of group 0 to 1.0000e-08.\n",
      "Epoch:200/200 AVG Training Loss:0.655 AVG Validation Loss:0.658 AVG Training Acc 62.05 % AVG Validation Acc 62.09 %\n",
      "Split 41\n"
     ]
    },
    {
     "data": {
      "application/vnd.jupyter.widget-view+json": {
       "model_id": "55b1daa092654feda2a62f0b5d94ffc9",
       "version_major": 2,
       "version_minor": 0
      },
      "text/plain": [
       "  0%|          | 0/200 [00:00<?, ?it/s]"
      ]
     },
     "metadata": {},
     "output_type": "display_data"
    },
    {
     "name": "stdout",
     "output_type": "stream",
     "text": [
      "Epoch:10/200 AVG Training Loss:0.664 AVG Validation Loss:0.662 AVG Training Acc 61.87 % AVG Validation Acc 61.95 %\n",
      "Epoch:20/200 AVG Training Loss:0.660 AVG Validation Loss:0.660 AVG Training Acc 61.97 % AVG Validation Acc 61.95 %\n",
      "Epoch:30/200 AVG Training Loss:0.659 AVG Validation Loss:0.660 AVG Training Acc 61.97 % AVG Validation Acc 61.95 %\n",
      "Epoch    35: reducing learning rate of group 0 to 1.0000e-03.\n",
      "Epoch:40/200 AVG Training Loss:0.657 AVG Validation Loss:0.659 AVG Training Acc 61.96 % AVG Validation Acc 61.86 %\n",
      "Epoch:50/200 AVG Training Loss:0.656 AVG Validation Loss:0.659 AVG Training Acc 62.06 % AVG Validation Acc 61.86 %\n",
      "Epoch:60/200 AVG Training Loss:0.655 AVG Validation Loss:0.659 AVG Training Acc 62.04 % AVG Validation Acc 61.86 %\n",
      "Epoch:70/200 AVG Training Loss:0.652 AVG Validation Loss:0.659 AVG Training Acc 62.03 % AVG Validation Acc 61.86 %\n",
      "Epoch    75: reducing learning rate of group 0 to 1.0000e-04.\n",
      "Epoch:80/200 AVG Training Loss:0.652 AVG Validation Loss:0.660 AVG Training Acc 62.07 % AVG Validation Acc 61.86 %\n",
      "Epoch:90/200 AVG Training Loss:0.653 AVG Validation Loss:0.660 AVG Training Acc 62.09 % AVG Validation Acc 61.86 %\n",
      "Epoch:100/200 AVG Training Loss:0.652 AVG Validation Loss:0.660 AVG Training Acc 62.08 % AVG Validation Acc 61.86 %\n",
      "Epoch   106: reducing learning rate of group 0 to 1.0000e-05.\n",
      "Epoch:110/200 AVG Training Loss:0.652 AVG Validation Loss:0.660 AVG Training Acc 62.12 % AVG Validation Acc 61.86 %\n",
      "Epoch:120/200 AVG Training Loss:0.652 AVG Validation Loss:0.660 AVG Training Acc 62.06 % AVG Validation Acc 61.86 %\n",
      "Epoch:130/200 AVG Training Loss:0.652 AVG Validation Loss:0.660 AVG Training Acc 62.14 % AVG Validation Acc 61.86 %\n",
      "Epoch   137: reducing learning rate of group 0 to 1.0000e-06.\n",
      "Epoch:140/200 AVG Training Loss:0.653 AVG Validation Loss:0.660 AVG Training Acc 62.08 % AVG Validation Acc 61.86 %\n",
      "Epoch:150/200 AVG Training Loss:0.652 AVG Validation Loss:0.660 AVG Training Acc 62.03 % AVG Validation Acc 61.86 %\n",
      "Epoch:160/200 AVG Training Loss:0.652 AVG Validation Loss:0.660 AVG Training Acc 62.06 % AVG Validation Acc 61.86 %\n",
      "Epoch   168: reducing learning rate of group 0 to 1.0000e-07.\n",
      "Epoch:170/200 AVG Training Loss:0.652 AVG Validation Loss:0.660 AVG Training Acc 62.06 % AVG Validation Acc 61.86 %\n",
      "Epoch:180/200 AVG Training Loss:0.652 AVG Validation Loss:0.660 AVG Training Acc 62.04 % AVG Validation Acc 61.86 %\n",
      "Epoch:190/200 AVG Training Loss:0.652 AVG Validation Loss:0.660 AVG Training Acc 62.06 % AVG Validation Acc 61.86 %\n",
      "Epoch   199: reducing learning rate of group 0 to 1.0000e-08.\n",
      "Epoch:200/200 AVG Training Loss:0.652 AVG Validation Loss:0.660 AVG Training Acc 62.04 % AVG Validation Acc 61.86 %\n",
      "Split 42\n"
     ]
    },
    {
     "data": {
      "application/vnd.jupyter.widget-view+json": {
       "model_id": "96f923be41054302adaedc60c2794cbf",
       "version_major": 2,
       "version_minor": 0
      },
      "text/plain": [
       "  0%|          | 0/200 [00:00<?, ?it/s]"
      ]
     },
     "metadata": {},
     "output_type": "display_data"
    },
    {
     "name": "stdout",
     "output_type": "stream",
     "text": [
      "Epoch:10/200 AVG Training Loss:0.664 AVG Validation Loss:0.665 AVG Training Acc 61.90 % AVG Validation Acc 61.86 %\n",
      "Epoch:20/200 AVG Training Loss:0.664 AVG Validation Loss:0.664 AVG Training Acc 61.83 % AVG Validation Acc 61.86 %\n",
      "Epoch:30/200 AVG Training Loss:0.659 AVG Validation Loss:0.661 AVG Training Acc 61.87 % AVG Validation Acc 61.95 %\n",
      "Epoch    35: reducing learning rate of group 0 to 1.0000e-03.\n",
      "Epoch:40/200 AVG Training Loss:0.656 AVG Validation Loss:0.663 AVG Training Acc 61.96 % AVG Validation Acc 61.95 %\n",
      "Epoch:50/200 AVG Training Loss:0.654 AVG Validation Loss:0.665 AVG Training Acc 62.04 % AVG Validation Acc 61.95 %\n",
      "Epoch:60/200 AVG Training Loss:0.653 AVG Validation Loss:0.666 AVG Training Acc 62.05 % AVG Validation Acc 61.95 %\n",
      "Epoch    66: reducing learning rate of group 0 to 1.0000e-04.\n",
      "Epoch:70/200 AVG Training Loss:0.650 AVG Validation Loss:0.667 AVG Training Acc 62.24 % AVG Validation Acc 61.95 %\n",
      "Epoch:80/200 AVG Training Loss:0.649 AVG Validation Loss:0.667 AVG Training Acc 62.19 % AVG Validation Acc 62.22 %\n",
      "Epoch:90/200 AVG Training Loss:0.649 AVG Validation Loss:0.667 AVG Training Acc 62.16 % AVG Validation Acc 62.13 %\n",
      "Epoch    97: reducing learning rate of group 0 to 1.0000e-05.\n",
      "Epoch:100/200 AVG Training Loss:0.649 AVG Validation Loss:0.668 AVG Training Acc 62.17 % AVG Validation Acc 62.04 %\n",
      "Epoch:110/200 AVG Training Loss:0.649 AVG Validation Loss:0.667 AVG Training Acc 62.08 % AVG Validation Acc 62.13 %\n",
      "Epoch:120/200 AVG Training Loss:0.648 AVG Validation Loss:0.669 AVG Training Acc 62.26 % AVG Validation Acc 62.13 %\n",
      "Epoch   128: reducing learning rate of group 0 to 1.0000e-06.\n",
      "Epoch:130/200 AVG Training Loss:0.648 AVG Validation Loss:0.668 AVG Training Acc 62.20 % AVG Validation Acc 62.13 %\n",
      "Epoch:140/200 AVG Training Loss:0.649 AVG Validation Loss:0.668 AVG Training Acc 62.13 % AVG Validation Acc 62.22 %\n",
      "Epoch:150/200 AVG Training Loss:0.648 AVG Validation Loss:0.668 AVG Training Acc 62.14 % AVG Validation Acc 62.13 %\n",
      "Epoch   159: reducing learning rate of group 0 to 1.0000e-07.\n",
      "Epoch:160/200 AVG Training Loss:0.649 AVG Validation Loss:0.667 AVG Training Acc 62.12 % AVG Validation Acc 62.13 %\n",
      "Epoch:170/200 AVG Training Loss:0.648 AVG Validation Loss:0.667 AVG Training Acc 62.21 % AVG Validation Acc 62.13 %\n",
      "Epoch:180/200 AVG Training Loss:0.649 AVG Validation Loss:0.668 AVG Training Acc 62.21 % AVG Validation Acc 62.13 %\n",
      "Epoch:190/200 AVG Training Loss:0.649 AVG Validation Loss:0.667 AVG Training Acc 62.18 % AVG Validation Acc 62.13 %\n",
      "Epoch   190: reducing learning rate of group 0 to 1.0000e-08.\n",
      "Epoch:200/200 AVG Training Loss:0.648 AVG Validation Loss:0.668 AVG Training Acc 62.25 % AVG Validation Acc 62.13 %\n",
      "Split 43\n"
     ]
    },
    {
     "data": {
      "application/vnd.jupyter.widget-view+json": {
       "model_id": "cfdf5ad239b844e4a0a13286dfdb2fae",
       "version_major": 2,
       "version_minor": 0
      },
      "text/plain": [
       "  0%|          | 0/200 [00:00<?, ?it/s]"
      ]
     },
     "metadata": {},
     "output_type": "display_data"
    },
    {
     "name": "stdout",
     "output_type": "stream",
     "text": [
      "Epoch:10/200 AVG Training Loss:0.664 AVG Validation Loss:0.664 AVG Training Acc 61.90 % AVG Validation Acc 61.86 %\n",
      "Epoch:20/200 AVG Training Loss:0.661 AVG Validation Loss:0.658 AVG Training Acc 61.82 % AVG Validation Acc 61.86 %\n",
      "Epoch:30/200 AVG Training Loss:0.659 AVG Validation Loss:0.658 AVG Training Acc 61.92 % AVG Validation Acc 61.86 %\n",
      "Epoch    35: reducing learning rate of group 0 to 1.0000e-03.\n",
      "Epoch:40/200 AVG Training Loss:0.656 AVG Validation Loss:0.662 AVG Training Acc 62.03 % AVG Validation Acc 61.68 %\n",
      "Epoch:50/200 AVG Training Loss:0.655 AVG Validation Loss:0.664 AVG Training Acc 61.99 % AVG Validation Acc 61.68 %\n",
      "Epoch:60/200 AVG Training Loss:0.653 AVG Validation Loss:0.665 AVG Training Acc 61.98 % AVG Validation Acc 61.41 %\n",
      "Epoch    66: reducing learning rate of group 0 to 1.0000e-04.\n",
      "Epoch:70/200 AVG Training Loss:0.653 AVG Validation Loss:0.665 AVG Training Acc 62.00 % AVG Validation Acc 61.50 %\n",
      "Epoch:80/200 AVG Training Loss:0.651 AVG Validation Loss:0.666 AVG Training Acc 62.04 % AVG Validation Acc 61.41 %\n",
      "Epoch:90/200 AVG Training Loss:0.650 AVG Validation Loss:0.667 AVG Training Acc 62.18 % AVG Validation Acc 61.50 %\n",
      "Epoch    97: reducing learning rate of group 0 to 1.0000e-05.\n",
      "Epoch:100/200 AVG Training Loss:0.650 AVG Validation Loss:0.667 AVG Training Acc 62.24 % AVG Validation Acc 61.50 %\n",
      "Epoch:110/200 AVG Training Loss:0.650 AVG Validation Loss:0.667 AVG Training Acc 62.18 % AVG Validation Acc 61.50 %\n",
      "Epoch:120/200 AVG Training Loss:0.650 AVG Validation Loss:0.667 AVG Training Acc 62.18 % AVG Validation Acc 61.50 %\n",
      "Epoch   128: reducing learning rate of group 0 to 1.0000e-06.\n",
      "Epoch:130/200 AVG Training Loss:0.651 AVG Validation Loss:0.667 AVG Training Acc 62.10 % AVG Validation Acc 61.50 %\n",
      "Epoch:140/200 AVG Training Loss:0.650 AVG Validation Loss:0.667 AVG Training Acc 62.18 % AVG Validation Acc 61.50 %\n",
      "Epoch:150/200 AVG Training Loss:0.651 AVG Validation Loss:0.667 AVG Training Acc 62.07 % AVG Validation Acc 61.50 %\n",
      "Epoch   159: reducing learning rate of group 0 to 1.0000e-07.\n",
      "Epoch:160/200 AVG Training Loss:0.651 AVG Validation Loss:0.667 AVG Training Acc 62.21 % AVG Validation Acc 61.50 %\n",
      "Epoch:170/200 AVG Training Loss:0.651 AVG Validation Loss:0.667 AVG Training Acc 62.18 % AVG Validation Acc 61.50 %\n",
      "Epoch:180/200 AVG Training Loss:0.650 AVG Validation Loss:0.667 AVG Training Acc 62.24 % AVG Validation Acc 61.50 %\n",
      "Epoch:190/200 AVG Training Loss:0.651 AVG Validation Loss:0.667 AVG Training Acc 62.14 % AVG Validation Acc 61.50 %\n",
      "Epoch   190: reducing learning rate of group 0 to 1.0000e-08.\n",
      "Epoch:200/200 AVG Training Loss:0.650 AVG Validation Loss:0.667 AVG Training Acc 62.19 % AVG Validation Acc 61.50 %\n",
      "Split 44\n"
     ]
    },
    {
     "data": {
      "application/vnd.jupyter.widget-view+json": {
       "model_id": "b0f7cb6c74e34b29b2be3c9a46099af0",
       "version_major": 2,
       "version_minor": 0
      },
      "text/plain": [
       "  0%|          | 0/200 [00:00<?, ?it/s]"
      ]
     },
     "metadata": {},
     "output_type": "display_data"
    },
    {
     "name": "stdout",
     "output_type": "stream",
     "text": [
      "Epoch:10/200 AVG Training Loss:0.664 AVG Validation Loss:0.664 AVG Training Acc 61.83 % AVG Validation Acc 61.86 %\n",
      "Epoch    12: reducing learning rate of group 0 to 1.0000e-03.\n",
      "Epoch:20/200 AVG Training Loss:0.663 AVG Validation Loss:0.664 AVG Training Acc 61.90 % AVG Validation Acc 61.86 %\n",
      "Epoch:30/200 AVG Training Loss:0.662 AVG Validation Loss:0.662 AVG Training Acc 61.90 % AVG Validation Acc 61.86 %\n",
      "Epoch:40/200 AVG Training Loss:0.660 AVG Validation Loss:0.659 AVG Training Acc 61.90 % AVG Validation Acc 61.86 %\n",
      "Epoch:50/200 AVG Training Loss:0.658 AVG Validation Loss:0.658 AVG Training Acc 61.90 % AVG Validation Acc 61.95 %\n",
      "Epoch    58: reducing learning rate of group 0 to 1.0000e-04.\n",
      "Epoch:60/200 AVG Training Loss:0.657 AVG Validation Loss:0.658 AVG Training Acc 61.99 % AVG Validation Acc 61.95 %\n",
      "Epoch:70/200 AVG Training Loss:0.656 AVG Validation Loss:0.658 AVG Training Acc 61.88 % AVG Validation Acc 61.95 %\n",
      "Epoch:80/200 AVG Training Loss:0.656 AVG Validation Loss:0.658 AVG Training Acc 61.94 % AVG Validation Acc 62.04 %\n",
      "Epoch    89: reducing learning rate of group 0 to 1.0000e-05.\n",
      "Epoch:90/200 AVG Training Loss:0.657 AVG Validation Loss:0.659 AVG Training Acc 61.84 % AVG Validation Acc 62.04 %\n",
      "Epoch:100/200 AVG Training Loss:0.655 AVG Validation Loss:0.659 AVG Training Acc 61.94 % AVG Validation Acc 62.04 %\n",
      "Epoch:110/200 AVG Training Loss:0.655 AVG Validation Loss:0.658 AVG Training Acc 61.95 % AVG Validation Acc 62.04 %\n",
      "Epoch:120/200 AVG Training Loss:0.656 AVG Validation Loss:0.659 AVG Training Acc 61.94 % AVG Validation Acc 62.04 %\n",
      "Epoch   120: reducing learning rate of group 0 to 1.0000e-06.\n",
      "Epoch:130/200 AVG Training Loss:0.656 AVG Validation Loss:0.659 AVG Training Acc 61.97 % AVG Validation Acc 62.04 %\n",
      "Epoch:140/200 AVG Training Loss:0.656 AVG Validation Loss:0.659 AVG Training Acc 61.97 % AVG Validation Acc 62.04 %\n",
      "Epoch:150/200 AVG Training Loss:0.656 AVG Validation Loss:0.659 AVG Training Acc 62.03 % AVG Validation Acc 62.04 %\n",
      "Epoch   151: reducing learning rate of group 0 to 1.0000e-07.\n",
      "Epoch:160/200 AVG Training Loss:0.655 AVG Validation Loss:0.659 AVG Training Acc 61.99 % AVG Validation Acc 62.04 %\n",
      "Epoch:170/200 AVG Training Loss:0.655 AVG Validation Loss:0.659 AVG Training Acc 61.96 % AVG Validation Acc 62.04 %\n",
      "Epoch:180/200 AVG Training Loss:0.656 AVG Validation Loss:0.659 AVG Training Acc 61.92 % AVG Validation Acc 62.04 %\n",
      "Epoch   182: reducing learning rate of group 0 to 1.0000e-08.\n",
      "Epoch:190/200 AVG Training Loss:0.656 AVG Validation Loss:0.659 AVG Training Acc 61.92 % AVG Validation Acc 62.04 %\n",
      "Epoch:200/200 AVG Training Loss:0.656 AVG Validation Loss:0.659 AVG Training Acc 61.95 % AVG Validation Acc 62.04 %\n",
      "Split 45\n"
     ]
    },
    {
     "data": {
      "application/vnd.jupyter.widget-view+json": {
       "model_id": "1fd63eaf0a83479f82c42bb338603814",
       "version_major": 2,
       "version_minor": 0
      },
      "text/plain": [
       "  0%|          | 0/200 [00:00<?, ?it/s]"
      ]
     },
     "metadata": {},
     "output_type": "display_data"
    },
    {
     "name": "stdout",
     "output_type": "stream",
     "text": [
      "Epoch:10/200 AVG Training Loss:0.664 AVG Validation Loss:0.663 AVG Training Acc 61.87 % AVG Validation Acc 61.86 %\n",
      "Epoch:20/200 AVG Training Loss:0.661 AVG Validation Loss:0.658 AVG Training Acc 61.93 % AVG Validation Acc 61.86 %\n",
      "Epoch:30/200 AVG Training Loss:0.661 AVG Validation Loss:0.657 AVG Training Acc 61.90 % AVG Validation Acc 61.86 %\n",
      "Epoch:40/200 AVG Training Loss:0.660 AVG Validation Loss:0.658 AVG Training Acc 61.95 % AVG Validation Acc 61.77 %\n",
      "Epoch    46: reducing learning rate of group 0 to 1.0000e-03.\n",
      "Epoch:50/200 AVG Training Loss:0.656 AVG Validation Loss:0.657 AVG Training Acc 61.99 % AVG Validation Acc 61.59 %\n",
      "Epoch:60/200 AVG Training Loss:0.656 AVG Validation Loss:0.658 AVG Training Acc 61.99 % AVG Validation Acc 61.50 %\n",
      "Epoch:70/200 AVG Training Loss:0.655 AVG Validation Loss:0.659 AVG Training Acc 62.11 % AVG Validation Acc 61.50 %\n",
      "Epoch    77: reducing learning rate of group 0 to 1.0000e-04.\n",
      "Epoch:80/200 AVG Training Loss:0.654 AVG Validation Loss:0.660 AVG Training Acc 62.14 % AVG Validation Acc 61.50 %\n",
      "Epoch:90/200 AVG Training Loss:0.654 AVG Validation Loss:0.660 AVG Training Acc 62.18 % AVG Validation Acc 61.50 %\n",
      "Epoch:100/200 AVG Training Loss:0.652 AVG Validation Loss:0.661 AVG Training Acc 62.15 % AVG Validation Acc 61.32 %\n",
      "Epoch   108: reducing learning rate of group 0 to 1.0000e-05.\n",
      "Epoch:110/200 AVG Training Loss:0.653 AVG Validation Loss:0.661 AVG Training Acc 62.17 % AVG Validation Acc 61.41 %\n",
      "Epoch:120/200 AVG Training Loss:0.653 AVG Validation Loss:0.662 AVG Training Acc 62.16 % AVG Validation Acc 61.41 %\n",
      "Epoch:130/200 AVG Training Loss:0.652 AVG Validation Loss:0.662 AVG Training Acc 62.25 % AVG Validation Acc 61.41 %\n",
      "Epoch   139: reducing learning rate of group 0 to 1.0000e-06.\n",
      "Epoch:140/200 AVG Training Loss:0.653 AVG Validation Loss:0.661 AVG Training Acc 62.17 % AVG Validation Acc 61.41 %\n",
      "Epoch:150/200 AVG Training Loss:0.652 AVG Validation Loss:0.663 AVG Training Acc 62.21 % AVG Validation Acc 61.41 %\n",
      "Epoch:160/200 AVG Training Loss:0.653 AVG Validation Loss:0.661 AVG Training Acc 62.03 % AVG Validation Acc 61.41 %\n",
      "Epoch:170/200 AVG Training Loss:0.653 AVG Validation Loss:0.663 AVG Training Acc 62.09 % AVG Validation Acc 61.32 %\n",
      "Epoch   170: reducing learning rate of group 0 to 1.0000e-07.\n",
      "Epoch:180/200 AVG Training Loss:0.653 AVG Validation Loss:0.663 AVG Training Acc 62.16 % AVG Validation Acc 61.41 %\n",
      "Epoch:190/200 AVG Training Loss:0.652 AVG Validation Loss:0.663 AVG Training Acc 62.18 % AVG Validation Acc 61.41 %\n",
      "Epoch:200/200 AVG Training Loss:0.653 AVG Validation Loss:0.663 AVG Training Acc 62.16 % AVG Validation Acc 61.41 %\n",
      "Split 46\n"
     ]
    },
    {
     "data": {
      "application/vnd.jupyter.widget-view+json": {
       "model_id": "ad068cccebd8435cbae50a693634c7d5",
       "version_major": 2,
       "version_minor": 0
      },
      "text/plain": [
       "  0%|          | 0/200 [00:00<?, ?it/s]"
      ]
     },
     "metadata": {},
     "output_type": "display_data"
    },
    {
     "name": "stdout",
     "output_type": "stream",
     "text": [
      "Epoch:10/200 AVG Training Loss:0.665 AVG Validation Loss:0.660 AVG Training Acc 61.89 % AVG Validation Acc 61.91 %\n",
      "Epoch:20/200 AVG Training Loss:0.661 AVG Validation Loss:0.663 AVG Training Acc 61.90 % AVG Validation Acc 61.91 %\n",
      "Epoch    27: reducing learning rate of group 0 to 1.0000e-03.\n",
      "Epoch:30/200 AVG Training Loss:0.655 AVG Validation Loss:0.665 AVG Training Acc 61.98 % AVG Validation Acc 61.64 %\n",
      "Epoch:40/200 AVG Training Loss:0.652 AVG Validation Loss:0.669 AVG Training Acc 62.02 % AVG Validation Acc 61.64 %\n",
      "Epoch:50/200 AVG Training Loss:0.649 AVG Validation Loss:0.671 AVG Training Acc 62.07 % AVG Validation Acc 61.46 %\n",
      "Epoch    58: reducing learning rate of group 0 to 1.0000e-04.\n",
      "Epoch:60/200 AVG Training Loss:0.648 AVG Validation Loss:0.689 AVG Training Acc 62.16 % AVG Validation Acc 61.46 %\n",
      "Epoch:70/200 AVG Training Loss:0.647 AVG Validation Loss:0.689 AVG Training Acc 62.19 % AVG Validation Acc 61.46 %\n",
      "Epoch:80/200 AVG Training Loss:0.647 AVG Validation Loss:0.689 AVG Training Acc 62.05 % AVG Validation Acc 61.46 %\n",
      "Epoch    89: reducing learning rate of group 0 to 1.0000e-05.\n",
      "Epoch:90/200 AVG Training Loss:0.646 AVG Validation Loss:0.688 AVG Training Acc 62.28 % AVG Validation Acc 61.46 %\n",
      "Epoch:100/200 AVG Training Loss:0.646 AVG Validation Loss:0.689 AVG Training Acc 62.27 % AVG Validation Acc 61.37 %\n",
      "Epoch:110/200 AVG Training Loss:0.647 AVG Validation Loss:0.689 AVG Training Acc 62.21 % AVG Validation Acc 61.37 %\n",
      "Epoch:120/200 AVG Training Loss:0.647 AVG Validation Loss:0.689 AVG Training Acc 62.18 % AVG Validation Acc 61.55 %\n",
      "Epoch   120: reducing learning rate of group 0 to 1.0000e-06.\n",
      "Epoch:130/200 AVG Training Loss:0.647 AVG Validation Loss:0.689 AVG Training Acc 62.15 % AVG Validation Acc 61.46 %\n",
      "Epoch:140/200 AVG Training Loss:0.646 AVG Validation Loss:0.688 AVG Training Acc 62.22 % AVG Validation Acc 61.55 %\n",
      "Epoch:150/200 AVG Training Loss:0.646 AVG Validation Loss:0.688 AVG Training Acc 62.29 % AVG Validation Acc 61.55 %\n",
      "Epoch   151: reducing learning rate of group 0 to 1.0000e-07.\n",
      "Epoch:160/200 AVG Training Loss:0.646 AVG Validation Loss:0.690 AVG Training Acc 62.31 % AVG Validation Acc 61.46 %\n",
      "Epoch:170/200 AVG Training Loss:0.645 AVG Validation Loss:0.687 AVG Training Acc 62.29 % AVG Validation Acc 61.55 %\n",
      "Epoch:180/200 AVG Training Loss:0.645 AVG Validation Loss:0.689 AVG Training Acc 62.26 % AVG Validation Acc 61.46 %\n",
      "Epoch   182: reducing learning rate of group 0 to 1.0000e-08.\n",
      "Epoch:190/200 AVG Training Loss:0.646 AVG Validation Loss:0.689 AVG Training Acc 62.15 % AVG Validation Acc 61.46 %\n",
      "Epoch:200/200 AVG Training Loss:0.646 AVG Validation Loss:0.692 AVG Training Acc 62.24 % AVG Validation Acc 61.55 %\n",
      "Split 47\n"
     ]
    },
    {
     "data": {
      "application/vnd.jupyter.widget-view+json": {
       "model_id": "a10e85afeddb4f31b68db611af254b9b",
       "version_major": 2,
       "version_minor": 0
      },
      "text/plain": [
       "  0%|          | 0/200 [00:00<?, ?it/s]"
      ]
     },
     "metadata": {},
     "output_type": "display_data"
    },
    {
     "name": "stdout",
     "output_type": "stream",
     "text": [
      "Epoch:10/200 AVG Training Loss:0.664 AVG Validation Loss:0.658 AVG Training Acc 61.90 % AVG Validation Acc 61.91 %\n",
      "Epoch:20/200 AVG Training Loss:0.660 AVG Validation Loss:0.658 AVG Training Acc 61.90 % AVG Validation Acc 61.91 %\n",
      "Epoch    23: reducing learning rate of group 0 to 1.0000e-03.\n",
      "Epoch:30/200 AVG Training Loss:0.659 AVG Validation Loss:0.656 AVG Training Acc 61.90 % AVG Validation Acc 61.91 %\n",
      "Epoch:40/200 AVG Training Loss:0.658 AVG Validation Loss:0.655 AVG Training Acc 61.91 % AVG Validation Acc 61.91 %\n",
      "Epoch:50/200 AVG Training Loss:0.658 AVG Validation Loss:0.655 AVG Training Acc 61.95 % AVG Validation Acc 61.91 %\n",
      "Epoch:60/200 AVG Training Loss:0.656 AVG Validation Loss:0.656 AVG Training Acc 61.97 % AVG Validation Acc 62.00 %\n",
      "Epoch    60: reducing learning rate of group 0 to 1.0000e-04.\n",
      "Epoch:70/200 AVG Training Loss:0.656 AVG Validation Loss:0.656 AVG Training Acc 62.06 % AVG Validation Acc 62.00 %\n",
      "Epoch:80/200 AVG Training Loss:0.657 AVG Validation Loss:0.656 AVG Training Acc 62.02 % AVG Validation Acc 62.00 %\n",
      "Epoch:90/200 AVG Training Loss:0.656 AVG Validation Loss:0.655 AVG Training Acc 61.97 % AVG Validation Acc 62.00 %\n",
      "Epoch    91: reducing learning rate of group 0 to 1.0000e-05.\n",
      "Epoch:100/200 AVG Training Loss:0.656 AVG Validation Loss:0.656 AVG Training Acc 61.98 % AVG Validation Acc 62.00 %\n",
      "Epoch:110/200 AVG Training Loss:0.656 AVG Validation Loss:0.655 AVG Training Acc 62.04 % AVG Validation Acc 62.00 %\n",
      "Epoch:120/200 AVG Training Loss:0.656 AVG Validation Loss:0.655 AVG Training Acc 62.05 % AVG Validation Acc 62.00 %\n",
      "Epoch   122: reducing learning rate of group 0 to 1.0000e-06.\n",
      "Epoch:130/200 AVG Training Loss:0.656 AVG Validation Loss:0.656 AVG Training Acc 62.04 % AVG Validation Acc 62.00 %\n",
      "Epoch:140/200 AVG Training Loss:0.656 AVG Validation Loss:0.655 AVG Training Acc 62.01 % AVG Validation Acc 62.00 %\n",
      "Epoch:150/200 AVG Training Loss:0.656 AVG Validation Loss:0.655 AVG Training Acc 61.97 % AVG Validation Acc 62.00 %\n",
      "Epoch   153: reducing learning rate of group 0 to 1.0000e-07.\n",
      "Epoch:160/200 AVG Training Loss:0.656 AVG Validation Loss:0.656 AVG Training Acc 62.03 % AVG Validation Acc 62.00 %\n",
      "Epoch:170/200 AVG Training Loss:0.656 AVG Validation Loss:0.656 AVG Training Acc 61.96 % AVG Validation Acc 62.00 %\n",
      "Epoch:180/200 AVG Training Loss:0.656 AVG Validation Loss:0.656 AVG Training Acc 61.96 % AVG Validation Acc 62.00 %\n",
      "Epoch   184: reducing learning rate of group 0 to 1.0000e-08.\n",
      "Epoch:190/200 AVG Training Loss:0.656 AVG Validation Loss:0.655 AVG Training Acc 62.01 % AVG Validation Acc 62.00 %\n",
      "Epoch:200/200 AVG Training Loss:0.656 AVG Validation Loss:0.655 AVG Training Acc 61.99 % AVG Validation Acc 62.00 %\n",
      "Split 48\n"
     ]
    },
    {
     "data": {
      "application/vnd.jupyter.widget-view+json": {
       "model_id": "cf351d35a247465dbf0c428e0fb4d23f",
       "version_major": 2,
       "version_minor": 0
      },
      "text/plain": [
       "  0%|          | 0/200 [00:00<?, ?it/s]"
      ]
     },
     "metadata": {},
     "output_type": "display_data"
    },
    {
     "name": "stdout",
     "output_type": "stream",
     "text": [
      "Epoch:10/200 AVG Training Loss:0.664 AVG Validation Loss:0.664 AVG Training Acc 61.88 % AVG Validation Acc 61.91 %\n",
      "Epoch:20/200 AVG Training Loss:0.660 AVG Validation Loss:0.663 AVG Training Acc 61.87 % AVG Validation Acc 61.91 %\n",
      "Epoch:30/200 AVG Training Loss:0.659 AVG Validation Loss:0.663 AVG Training Acc 61.99 % AVG Validation Acc 62.00 %\n",
      "Epoch    39: reducing learning rate of group 0 to 1.0000e-03.\n",
      "Epoch:40/200 AVG Training Loss:0.656 AVG Validation Loss:0.667 AVG Training Acc 61.98 % AVG Validation Acc 61.91 %\n",
      "Epoch:50/200 AVG Training Loss:0.654 AVG Validation Loss:0.669 AVG Training Acc 62.09 % AVG Validation Acc 61.82 %\n",
      "Epoch:60/200 AVG Training Loss:0.652 AVG Validation Loss:0.676 AVG Training Acc 62.15 % AVG Validation Acc 62.00 %\n",
      "Epoch:70/200 AVG Training Loss:0.652 AVG Validation Loss:0.678 AVG Training Acc 62.14 % AVG Validation Acc 61.91 %\n",
      "Epoch    70: reducing learning rate of group 0 to 1.0000e-04.\n",
      "Epoch:80/200 AVG Training Loss:0.651 AVG Validation Loss:0.677 AVG Training Acc 62.10 % AVG Validation Acc 61.91 %\n",
      "Epoch:90/200 AVG Training Loss:0.650 AVG Validation Loss:0.678 AVG Training Acc 62.18 % AVG Validation Acc 62.00 %\n",
      "Epoch:100/200 AVG Training Loss:0.651 AVG Validation Loss:0.679 AVG Training Acc 62.12 % AVG Validation Acc 62.00 %\n",
      "Epoch   101: reducing learning rate of group 0 to 1.0000e-05.\n",
      "Epoch:110/200 AVG Training Loss:0.650 AVG Validation Loss:0.679 AVG Training Acc 62.07 % AVG Validation Acc 62.00 %\n",
      "Epoch:120/200 AVG Training Loss:0.650 AVG Validation Loss:0.679 AVG Training Acc 62.22 % AVG Validation Acc 62.00 %\n",
      "Epoch:130/200 AVG Training Loss:0.650 AVG Validation Loss:0.679 AVG Training Acc 62.19 % AVG Validation Acc 62.00 %\n",
      "Epoch   132: reducing learning rate of group 0 to 1.0000e-06.\n",
      "Epoch:140/200 AVG Training Loss:0.651 AVG Validation Loss:0.679 AVG Training Acc 62.13 % AVG Validation Acc 62.00 %\n",
      "Epoch:150/200 AVG Training Loss:0.650 AVG Validation Loss:0.679 AVG Training Acc 62.24 % AVG Validation Acc 61.91 %\n",
      "Epoch:160/200 AVG Training Loss:0.650 AVG Validation Loss:0.679 AVG Training Acc 62.12 % AVG Validation Acc 61.91 %\n",
      "Epoch   163: reducing learning rate of group 0 to 1.0000e-07.\n",
      "Epoch:170/200 AVG Training Loss:0.650 AVG Validation Loss:0.679 AVG Training Acc 62.10 % AVG Validation Acc 61.91 %\n",
      "Epoch:180/200 AVG Training Loss:0.650 AVG Validation Loss:0.679 AVG Training Acc 62.18 % AVG Validation Acc 62.00 %\n",
      "Epoch:190/200 AVG Training Loss:0.651 AVG Validation Loss:0.679 AVG Training Acc 62.19 % AVG Validation Acc 61.82 %\n",
      "Epoch   194: reducing learning rate of group 0 to 1.0000e-08.\n",
      "Epoch:200/200 AVG Training Loss:0.650 AVG Validation Loss:0.679 AVG Training Acc 62.25 % AVG Validation Acc 61.91 %\n",
      "Split 49\n"
     ]
    },
    {
     "data": {
      "application/vnd.jupyter.widget-view+json": {
       "model_id": "9e0ae54a6b5d442f97dc60e26c35c4d7",
       "version_major": 2,
       "version_minor": 0
      },
      "text/plain": [
       "  0%|          | 0/200 [00:00<?, ?it/s]"
      ]
     },
     "metadata": {},
     "output_type": "display_data"
    },
    {
     "name": "stdout",
     "output_type": "stream",
     "text": [
      "Epoch:10/200 AVG Training Loss:0.662 AVG Validation Loss:0.667 AVG Training Acc 61.78 % AVG Validation Acc 61.91 %\n",
      "Epoch    16: reducing learning rate of group 0 to 1.0000e-03.\n",
      "Epoch:20/200 AVG Training Loss:0.657 AVG Validation Loss:0.669 AVG Training Acc 61.95 % AVG Validation Acc 61.91 %\n",
      "Epoch:30/200 AVG Training Loss:0.657 AVG Validation Loss:0.670 AVG Training Acc 61.95 % AVG Validation Acc 62.00 %\n",
      "Epoch:40/200 AVG Training Loss:0.657 AVG Validation Loss:0.670 AVG Training Acc 61.94 % AVG Validation Acc 62.00 %\n",
      "Epoch    47: reducing learning rate of group 0 to 1.0000e-04.\n",
      "Epoch:50/200 AVG Training Loss:0.655 AVG Validation Loss:0.670 AVG Training Acc 61.98 % AVG Validation Acc 62.00 %\n",
      "Epoch:60/200 AVG Training Loss:0.655 AVG Validation Loss:0.670 AVG Training Acc 62.02 % AVG Validation Acc 62.18 %\n",
      "Epoch:70/200 AVG Training Loss:0.654 AVG Validation Loss:0.670 AVG Training Acc 62.02 % AVG Validation Acc 62.09 %\n",
      "Epoch    78: reducing learning rate of group 0 to 1.0000e-05.\n",
      "Epoch:80/200 AVG Training Loss:0.654 AVG Validation Loss:0.671 AVG Training Acc 61.96 % AVG Validation Acc 62.09 %\n",
      "Epoch:90/200 AVG Training Loss:0.655 AVG Validation Loss:0.671 AVG Training Acc 61.98 % AVG Validation Acc 62.09 %\n",
      "Epoch:100/200 AVG Training Loss:0.655 AVG Validation Loss:0.671 AVG Training Acc 61.95 % AVG Validation Acc 62.09 %\n",
      "Epoch   109: reducing learning rate of group 0 to 1.0000e-06.\n",
      "Epoch:110/200 AVG Training Loss:0.655 AVG Validation Loss:0.672 AVG Training Acc 62.02 % AVG Validation Acc 62.18 %\n",
      "Epoch:120/200 AVG Training Loss:0.655 AVG Validation Loss:0.671 AVG Training Acc 62.06 % AVG Validation Acc 62.09 %\n",
      "Epoch:130/200 AVG Training Loss:0.654 AVG Validation Loss:0.671 AVG Training Acc 62.03 % AVG Validation Acc 62.09 %\n",
      "Epoch:140/200 AVG Training Loss:0.654 AVG Validation Loss:0.671 AVG Training Acc 62.00 % AVG Validation Acc 62.09 %\n",
      "Epoch   140: reducing learning rate of group 0 to 1.0000e-07.\n",
      "Epoch:150/200 AVG Training Loss:0.655 AVG Validation Loss:0.671 AVG Training Acc 62.05 % AVG Validation Acc 62.18 %\n",
      "Epoch:160/200 AVG Training Loss:0.655 AVG Validation Loss:0.671 AVG Training Acc 62.02 % AVG Validation Acc 62.18 %\n",
      "Epoch:170/200 AVG Training Loss:0.655 AVG Validation Loss:0.671 AVG Training Acc 62.01 % AVG Validation Acc 62.09 %\n",
      "Epoch   171: reducing learning rate of group 0 to 1.0000e-08.\n",
      "Epoch:180/200 AVG Training Loss:0.654 AVG Validation Loss:0.671 AVG Training Acc 62.00 % AVG Validation Acc 62.18 %\n",
      "Epoch:190/200 AVG Training Loss:0.655 AVG Validation Loss:0.672 AVG Training Acc 62.03 % AVG Validation Acc 62.09 %\n",
      "Epoch:200/200 AVG Training Loss:0.655 AVG Validation Loss:0.671 AVG Training Acc 62.04 % AVG Validation Acc 62.09 %\n",
      "Split 50\n"
     ]
    },
    {
     "data": {
      "application/vnd.jupyter.widget-view+json": {
       "model_id": "4ae4b1b9d932454e8459efc88c9679fe",
       "version_major": 2,
       "version_minor": 0
      },
      "text/plain": [
       "  0%|          | 0/200 [00:00<?, ?it/s]"
      ]
     },
     "metadata": {},
     "output_type": "display_data"
    },
    {
     "name": "stdout",
     "output_type": "stream",
     "text": [
      "Epoch:10/200 AVG Training Loss:0.661 AVG Validation Loss:0.662 AVG Training Acc 61.77 % AVG Validation Acc 62.00 %\n",
      "Epoch:20/200 AVG Training Loss:0.660 AVG Validation Loss:0.660 AVG Training Acc 61.92 % AVG Validation Acc 62.00 %\n",
      "Epoch:30/200 AVG Training Loss:0.657 AVG Validation Loss:0.664 AVG Training Acc 61.87 % AVG Validation Acc 61.91 %\n",
      "Epoch    31: reducing learning rate of group 0 to 1.0000e-03.\n",
      "Epoch:40/200 AVG Training Loss:0.650 AVG Validation Loss:0.667 AVG Training Acc 62.41 % AVG Validation Acc 61.91 %\n",
      "Epoch:50/200 AVG Training Loss:0.645 AVG Validation Loss:0.671 AVG Training Acc 62.85 % AVG Validation Acc 61.55 %\n",
      "Epoch:60/200 AVG Training Loss:0.644 AVG Validation Loss:0.673 AVG Training Acc 63.18 % AVG Validation Acc 62.45 %\n",
      "Epoch    62: reducing learning rate of group 0 to 1.0000e-04.\n",
      "Epoch:70/200 AVG Training Loss:0.642 AVG Validation Loss:0.676 AVG Training Acc 63.01 % AVG Validation Acc 62.09 %\n",
      "Epoch:80/200 AVG Training Loss:0.641 AVG Validation Loss:0.678 AVG Training Acc 62.93 % AVG Validation Acc 62.18 %\n",
      "Epoch:90/200 AVG Training Loss:0.640 AVG Validation Loss:0.675 AVG Training Acc 62.89 % AVG Validation Acc 62.00 %\n",
      "Epoch    93: reducing learning rate of group 0 to 1.0000e-05.\n",
      "Epoch:100/200 AVG Training Loss:0.639 AVG Validation Loss:0.675 AVG Training Acc 63.17 % AVG Validation Acc 62.00 %\n",
      "Epoch:110/200 AVG Training Loss:0.639 AVG Validation Loss:0.675 AVG Training Acc 63.30 % AVG Validation Acc 62.18 %\n",
      "Epoch:120/200 AVG Training Loss:0.639 AVG Validation Loss:0.676 AVG Training Acc 63.18 % AVG Validation Acc 62.00 %\n",
      "Epoch   124: reducing learning rate of group 0 to 1.0000e-06.\n",
      "Epoch:130/200 AVG Training Loss:0.640 AVG Validation Loss:0.675 AVG Training Acc 62.88 % AVG Validation Acc 62.27 %\n",
      "Epoch:140/200 AVG Training Loss:0.640 AVG Validation Loss:0.675 AVG Training Acc 63.05 % AVG Validation Acc 62.36 %\n",
      "Epoch:150/200 AVG Training Loss:0.639 AVG Validation Loss:0.674 AVG Training Acc 62.99 % AVG Validation Acc 62.36 %\n",
      "Epoch   155: reducing learning rate of group 0 to 1.0000e-07.\n",
      "Epoch:160/200 AVG Training Loss:0.639 AVG Validation Loss:0.676 AVG Training Acc 63.26 % AVG Validation Acc 62.09 %\n",
      "Epoch:170/200 AVG Training Loss:0.640 AVG Validation Loss:0.673 AVG Training Acc 62.99 % AVG Validation Acc 62.18 %\n",
      "Epoch:180/200 AVG Training Loss:0.638 AVG Validation Loss:0.676 AVG Training Acc 63.16 % AVG Validation Acc 62.27 %\n",
      "Epoch   186: reducing learning rate of group 0 to 1.0000e-08.\n",
      "Epoch:190/200 AVG Training Loss:0.639 AVG Validation Loss:0.677 AVG Training Acc 63.20 % AVG Validation Acc 61.91 %\n",
      "Epoch:200/200 AVG Training Loss:0.640 AVG Validation Loss:0.677 AVG Training Acc 63.18 % AVG Validation Acc 62.09 %\n",
      "Split 51\n"
     ]
    },
    {
     "data": {
      "application/vnd.jupyter.widget-view+json": {
       "model_id": "ed7b48e4e8974455b93d1fdfa79d94ce",
       "version_major": 2,
       "version_minor": 0
      },
      "text/plain": [
       "  0%|          | 0/200 [00:00<?, ?it/s]"
      ]
     },
     "metadata": {},
     "output_type": "display_data"
    },
    {
     "name": "stdout",
     "output_type": "stream",
     "text": [
      "Epoch:10/200 AVG Training Loss:0.665 AVG Validation Loss:0.662 AVG Training Acc 61.83 % AVG Validation Acc 61.95 %\n",
      "Epoch:20/200 AVG Training Loss:0.660 AVG Validation Loss:0.661 AVG Training Acc 61.90 % AVG Validation Acc 61.95 %\n",
      "Epoch    25: reducing learning rate of group 0 to 1.0000e-03.\n",
      "Epoch:30/200 AVG Training Loss:0.657 AVG Validation Loss:0.660 AVG Training Acc 61.89 % AVG Validation Acc 62.13 %\n",
      "Epoch:40/200 AVG Training Loss:0.656 AVG Validation Loss:0.661 AVG Training Acc 62.04 % AVG Validation Acc 62.13 %\n",
      "Epoch:50/200 AVG Training Loss:0.654 AVG Validation Loss:0.660 AVG Training Acc 62.06 % AVG Validation Acc 62.13 %\n",
      "Epoch:60/200 AVG Training Loss:0.653 AVG Validation Loss:0.661 AVG Training Acc 62.10 % AVG Validation Acc 62.04 %\n",
      "Epoch    62: reducing learning rate of group 0 to 1.0000e-04.\n",
      "Epoch:70/200 AVG Training Loss:0.650 AVG Validation Loss:0.663 AVG Training Acc 62.21 % AVG Validation Acc 61.86 %\n",
      "Epoch:80/200 AVG Training Loss:0.651 AVG Validation Loss:0.664 AVG Training Acc 62.12 % AVG Validation Acc 61.86 %\n",
      "Epoch:90/200 AVG Training Loss:0.650 AVG Validation Loss:0.664 AVG Training Acc 62.08 % AVG Validation Acc 61.86 %\n",
      "Epoch    93: reducing learning rate of group 0 to 1.0000e-05.\n",
      "Epoch:100/200 AVG Training Loss:0.650 AVG Validation Loss:0.664 AVG Training Acc 62.25 % AVG Validation Acc 61.86 %\n",
      "Epoch:110/200 AVG Training Loss:0.651 AVG Validation Loss:0.664 AVG Training Acc 62.19 % AVG Validation Acc 61.86 %\n",
      "Epoch:120/200 AVG Training Loss:0.651 AVG Validation Loss:0.664 AVG Training Acc 62.18 % AVG Validation Acc 61.86 %\n",
      "Epoch   124: reducing learning rate of group 0 to 1.0000e-06.\n",
      "Epoch:130/200 AVG Training Loss:0.650 AVG Validation Loss:0.662 AVG Training Acc 62.16 % AVG Validation Acc 61.95 %\n",
      "Epoch:140/200 AVG Training Loss:0.651 AVG Validation Loss:0.664 AVG Training Acc 62.10 % AVG Validation Acc 61.86 %\n",
      "Epoch:150/200 AVG Training Loss:0.650 AVG Validation Loss:0.664 AVG Training Acc 62.22 % AVG Validation Acc 61.86 %\n",
      "Epoch   155: reducing learning rate of group 0 to 1.0000e-07.\n",
      "Epoch:160/200 AVG Training Loss:0.650 AVG Validation Loss:0.664 AVG Training Acc 62.23 % AVG Validation Acc 61.86 %\n",
      "Epoch:170/200 AVG Training Loss:0.651 AVG Validation Loss:0.664 AVG Training Acc 62.15 % AVG Validation Acc 61.86 %\n",
      "Epoch:180/200 AVG Training Loss:0.650 AVG Validation Loss:0.664 AVG Training Acc 62.18 % AVG Validation Acc 61.86 %\n",
      "Epoch   186: reducing learning rate of group 0 to 1.0000e-08.\n",
      "Epoch:190/200 AVG Training Loss:0.650 AVG Validation Loss:0.664 AVG Training Acc 62.23 % AVG Validation Acc 61.95 %\n",
      "Epoch:200/200 AVG Training Loss:0.650 AVG Validation Loss:0.664 AVG Training Acc 62.24 % AVG Validation Acc 61.86 %\n",
      "Split 52\n"
     ]
    },
    {
     "data": {
      "application/vnd.jupyter.widget-view+json": {
       "model_id": "ad9fa228c2e04e1f863b11aeb02b6300",
       "version_major": 2,
       "version_minor": 0
      },
      "text/plain": [
       "  0%|          | 0/200 [00:00<?, ?it/s]"
      ]
     },
     "metadata": {},
     "output_type": "display_data"
    },
    {
     "name": "stdout",
     "output_type": "stream",
     "text": [
      "Epoch:10/200 AVG Training Loss:0.664 AVG Validation Loss:0.666 AVG Training Acc 61.94 % AVG Validation Acc 61.86 %\n",
      "Epoch:20/200 AVG Training Loss:0.663 AVG Validation Loss:0.664 AVG Training Acc 61.91 % AVG Validation Acc 61.86 %\n",
      "Epoch:30/200 AVG Training Loss:0.661 AVG Validation Loss:0.659 AVG Training Acc 61.92 % AVG Validation Acc 61.86 %\n",
      "Epoch    39: reducing learning rate of group 0 to 1.0000e-03.\n",
      "Epoch:40/200 AVG Training Loss:0.659 AVG Validation Loss:0.662 AVG Training Acc 61.89 % AVG Validation Acc 61.86 %\n",
      "Epoch:50/200 AVG Training Loss:0.657 AVG Validation Loss:0.660 AVG Training Acc 61.98 % AVG Validation Acc 61.86 %\n",
      "Epoch:60/200 AVG Training Loss:0.657 AVG Validation Loss:0.662 AVG Training Acc 61.94 % AVG Validation Acc 61.95 %\n",
      "Epoch:70/200 AVG Training Loss:0.655 AVG Validation Loss:0.663 AVG Training Acc 61.96 % AVG Validation Acc 61.95 %\n",
      "Epoch    70: reducing learning rate of group 0 to 1.0000e-04.\n",
      "Epoch:80/200 AVG Training Loss:0.655 AVG Validation Loss:0.664 AVG Training Acc 62.06 % AVG Validation Acc 61.95 %\n",
      "Epoch:90/200 AVG Training Loss:0.655 AVG Validation Loss:0.665 AVG Training Acc 62.07 % AVG Validation Acc 61.95 %\n",
      "Epoch:100/200 AVG Training Loss:0.653 AVG Validation Loss:0.666 AVG Training Acc 61.97 % AVG Validation Acc 61.95 %\n",
      "Epoch   101: reducing learning rate of group 0 to 1.0000e-05.\n",
      "Epoch:110/200 AVG Training Loss:0.653 AVG Validation Loss:0.663 AVG Training Acc 62.09 % AVG Validation Acc 61.95 %\n",
      "Epoch:120/200 AVG Training Loss:0.653 AVG Validation Loss:0.666 AVG Training Acc 61.98 % AVG Validation Acc 61.95 %\n",
      "Epoch:130/200 AVG Training Loss:0.654 AVG Validation Loss:0.666 AVG Training Acc 61.98 % AVG Validation Acc 61.95 %\n",
      "Epoch   132: reducing learning rate of group 0 to 1.0000e-06.\n",
      "Epoch:140/200 AVG Training Loss:0.654 AVG Validation Loss:0.666 AVG Training Acc 62.03 % AVG Validation Acc 61.95 %\n",
      "Epoch:150/200 AVG Training Loss:0.653 AVG Validation Loss:0.665 AVG Training Acc 62.09 % AVG Validation Acc 61.95 %\n",
      "Epoch:160/200 AVG Training Loss:0.654 AVG Validation Loss:0.665 AVG Training Acc 62.05 % AVG Validation Acc 61.95 %\n",
      "Epoch   163: reducing learning rate of group 0 to 1.0000e-07.\n",
      "Epoch:170/200 AVG Training Loss:0.654 AVG Validation Loss:0.666 AVG Training Acc 62.00 % AVG Validation Acc 61.95 %\n",
      "Epoch:180/200 AVG Training Loss:0.654 AVG Validation Loss:0.664 AVG Training Acc 62.02 % AVG Validation Acc 61.95 %\n",
      "Epoch:190/200 AVG Training Loss:0.653 AVG Validation Loss:0.666 AVG Training Acc 62.08 % AVG Validation Acc 61.95 %\n",
      "Epoch   194: reducing learning rate of group 0 to 1.0000e-08.\n",
      "Epoch:200/200 AVG Training Loss:0.654 AVG Validation Loss:0.666 AVG Training Acc 62.08 % AVG Validation Acc 61.95 %\n",
      "Split 53\n"
     ]
    },
    {
     "data": {
      "application/vnd.jupyter.widget-view+json": {
       "model_id": "e2bc4cb63ec549809868228b26f2ee41",
       "version_major": 2,
       "version_minor": 0
      },
      "text/plain": [
       "  0%|          | 0/200 [00:00<?, ?it/s]"
      ]
     },
     "metadata": {},
     "output_type": "display_data"
    },
    {
     "name": "stdout",
     "output_type": "stream",
     "text": [
      "Epoch:10/200 AVG Training Loss:0.664 AVG Validation Loss:0.664 AVG Training Acc 61.84 % AVG Validation Acc 61.95 %\n",
      "Epoch    18: reducing learning rate of group 0 to 1.0000e-03.\n",
      "Epoch:20/200 AVG Training Loss:0.662 AVG Validation Loss:0.664 AVG Training Acc 61.92 % AVG Validation Acc 61.86 %\n",
      "Epoch:30/200 AVG Training Loss:0.660 AVG Validation Loss:0.663 AVG Training Acc 61.93 % AVG Validation Acc 61.77 %\n",
      "Epoch:40/200 AVG Training Loss:0.658 AVG Validation Loss:0.660 AVG Training Acc 61.92 % AVG Validation Acc 61.77 %\n",
      "Epoch:50/200 AVG Training Loss:0.656 AVG Validation Loss:0.659 AVG Training Acc 61.98 % AVG Validation Acc 61.86 %\n",
      "Epoch    58: reducing learning rate of group 0 to 1.0000e-04.\n",
      "Epoch:60/200 AVG Training Loss:0.654 AVG Validation Loss:0.662 AVG Training Acc 62.10 % AVG Validation Acc 62.04 %\n",
      "Epoch:70/200 AVG Training Loss:0.653 AVG Validation Loss:0.663 AVG Training Acc 62.10 % AVG Validation Acc 61.95 %\n",
      "Epoch:80/200 AVG Training Loss:0.653 AVG Validation Loss:0.664 AVG Training Acc 62.02 % AVG Validation Acc 61.95 %\n",
      "Epoch    89: reducing learning rate of group 0 to 1.0000e-05.\n",
      "Epoch:90/200 AVG Training Loss:0.652 AVG Validation Loss:0.665 AVG Training Acc 62.13 % AVG Validation Acc 61.86 %\n",
      "Epoch:100/200 AVG Training Loss:0.653 AVG Validation Loss:0.665 AVG Training Acc 62.02 % AVG Validation Acc 61.86 %\n",
      "Epoch:110/200 AVG Training Loss:0.652 AVG Validation Loss:0.664 AVG Training Acc 62.07 % AVG Validation Acc 61.86 %\n",
      "Epoch:120/200 AVG Training Loss:0.652 AVG Validation Loss:0.664 AVG Training Acc 62.13 % AVG Validation Acc 61.86 %\n",
      "Epoch   120: reducing learning rate of group 0 to 1.0000e-06.\n",
      "Epoch:130/200 AVG Training Loss:0.653 AVG Validation Loss:0.665 AVG Training Acc 62.12 % AVG Validation Acc 61.86 %\n",
      "Epoch:140/200 AVG Training Loss:0.653 AVG Validation Loss:0.664 AVG Training Acc 62.16 % AVG Validation Acc 61.86 %\n",
      "Epoch:150/200 AVG Training Loss:0.652 AVG Validation Loss:0.664 AVG Training Acc 62.10 % AVG Validation Acc 61.86 %\n",
      "Epoch   151: reducing learning rate of group 0 to 1.0000e-07.\n",
      "Epoch:160/200 AVG Training Loss:0.652 AVG Validation Loss:0.664 AVG Training Acc 62.12 % AVG Validation Acc 61.86 %\n",
      "Epoch:170/200 AVG Training Loss:0.652 AVG Validation Loss:0.664 AVG Training Acc 62.13 % AVG Validation Acc 61.86 %\n",
      "Epoch:180/200 AVG Training Loss:0.651 AVG Validation Loss:0.665 AVG Training Acc 62.15 % AVG Validation Acc 61.86 %\n",
      "Epoch   182: reducing learning rate of group 0 to 1.0000e-08.\n",
      "Epoch:190/200 AVG Training Loss:0.652 AVG Validation Loss:0.664 AVG Training Acc 62.11 % AVG Validation Acc 61.86 %\n",
      "Epoch:200/200 AVG Training Loss:0.653 AVG Validation Loss:0.664 AVG Training Acc 62.05 % AVG Validation Acc 61.86 %\n",
      "Split 54\n"
     ]
    },
    {
     "data": {
      "application/vnd.jupyter.widget-view+json": {
       "model_id": "5383007360e64e709b159046d6ef2c59",
       "version_major": 2,
       "version_minor": 0
      },
      "text/plain": [
       "  0%|          | 0/200 [00:00<?, ?it/s]"
      ]
     },
     "metadata": {},
     "output_type": "display_data"
    },
    {
     "name": "stdout",
     "output_type": "stream",
     "text": [
      "Epoch:10/200 AVG Training Loss:0.664 AVG Validation Loss:0.666 AVG Training Acc 61.73 % AVG Validation Acc 61.86 %\n",
      "Epoch:20/200 AVG Training Loss:0.664 AVG Validation Loss:0.666 AVG Training Acc 61.90 % AVG Validation Acc 61.86 %\n",
      "Epoch:30/200 AVG Training Loss:0.663 AVG Validation Loss:0.664 AVG Training Acc 61.93 % AVG Validation Acc 61.86 %\n",
      "Epoch:40/200 AVG Training Loss:0.661 AVG Validation Loss:0.662 AVG Training Acc 61.93 % AVG Validation Acc 61.95 %\n",
      "Epoch:50/200 AVG Training Loss:0.658 AVG Validation Loss:0.661 AVG Training Acc 61.82 % AVG Validation Acc 62.04 %\n",
      "Epoch    50: reducing learning rate of group 0 to 1.0000e-03.\n",
      "Epoch:60/200 AVG Training Loss:0.656 AVG Validation Loss:0.661 AVG Training Acc 62.02 % AVG Validation Acc 61.95 %\n",
      "Epoch:70/200 AVG Training Loss:0.653 AVG Validation Loss:0.663 AVG Training Acc 62.16 % AVG Validation Acc 62.04 %\n",
      "Epoch:80/200 AVG Training Loss:0.655 AVG Validation Loss:0.666 AVG Training Acc 61.99 % AVG Validation Acc 61.86 %\n",
      "Epoch    81: reducing learning rate of group 0 to 1.0000e-04.\n",
      "Epoch:90/200 AVG Training Loss:0.652 AVG Validation Loss:0.664 AVG Training Acc 62.12 % AVG Validation Acc 61.95 %\n",
      "Epoch:100/200 AVG Training Loss:0.653 AVG Validation Loss:0.664 AVG Training Acc 62.10 % AVG Validation Acc 61.95 %\n",
      "Epoch:110/200 AVG Training Loss:0.652 AVG Validation Loss:0.664 AVG Training Acc 62.13 % AVG Validation Acc 61.95 %\n",
      "Epoch   112: reducing learning rate of group 0 to 1.0000e-05.\n",
      "Epoch:120/200 AVG Training Loss:0.652 AVG Validation Loss:0.665 AVG Training Acc 62.13 % AVG Validation Acc 62.04 %\n",
      "Epoch:130/200 AVG Training Loss:0.653 AVG Validation Loss:0.665 AVG Training Acc 62.11 % AVG Validation Acc 61.95 %\n",
      "Epoch:140/200 AVG Training Loss:0.652 AVG Validation Loss:0.665 AVG Training Acc 62.11 % AVG Validation Acc 62.04 %\n",
      "Epoch   143: reducing learning rate of group 0 to 1.0000e-06.\n",
      "Epoch:150/200 AVG Training Loss:0.652 AVG Validation Loss:0.664 AVG Training Acc 62.09 % AVG Validation Acc 61.95 %\n",
      "Epoch:160/200 AVG Training Loss:0.653 AVG Validation Loss:0.664 AVG Training Acc 62.04 % AVG Validation Acc 62.04 %\n",
      "Epoch:170/200 AVG Training Loss:0.652 AVG Validation Loss:0.664 AVG Training Acc 62.10 % AVG Validation Acc 61.95 %\n",
      "Epoch   174: reducing learning rate of group 0 to 1.0000e-07.\n",
      "Epoch:180/200 AVG Training Loss:0.653 AVG Validation Loss:0.664 AVG Training Acc 62.06 % AVG Validation Acc 61.95 %\n",
      "Epoch:190/200 AVG Training Loss:0.652 AVG Validation Loss:0.664 AVG Training Acc 62.09 % AVG Validation Acc 62.13 %\n",
      "Epoch:200/200 AVG Training Loss:0.652 AVG Validation Loss:0.665 AVG Training Acc 62.08 % AVG Validation Acc 61.86 %\n",
      "Split 55\n"
     ]
    },
    {
     "data": {
      "application/vnd.jupyter.widget-view+json": {
       "model_id": "1b5156f1da2e4b9382452ade0d0b986b",
       "version_major": 2,
       "version_minor": 0
      },
      "text/plain": [
       "  0%|          | 0/200 [00:00<?, ?it/s]"
      ]
     },
     "metadata": {},
     "output_type": "display_data"
    },
    {
     "name": "stdout",
     "output_type": "stream",
     "text": [
      "Epoch:10/200 AVG Training Loss:0.663 AVG Validation Loss:0.661 AVG Training Acc 61.91 % AVG Validation Acc 61.86 %\n",
      "Epoch:20/200 AVG Training Loss:0.659 AVG Validation Loss:0.661 AVG Training Acc 61.97 % AVG Validation Acc 61.86 %\n",
      "Epoch:30/200 AVG Training Loss:0.657 AVG Validation Loss:0.663 AVG Training Acc 61.98 % AVG Validation Acc 61.86 %\n",
      "Epoch    33: reducing learning rate of group 0 to 1.0000e-03.\n",
      "Epoch:40/200 AVG Training Loss:0.651 AVG Validation Loss:0.665 AVG Training Acc 62.30 % AVG Validation Acc 61.86 %\n",
      "Epoch:50/200 AVG Training Loss:0.648 AVG Validation Loss:0.667 AVG Training Acc 62.08 % AVG Validation Acc 61.77 %\n",
      "Epoch:60/200 AVG Training Loss:0.646 AVG Validation Loss:0.672 AVG Training Acc 62.25 % AVG Validation Acc 61.77 %\n",
      "Epoch    64: reducing learning rate of group 0 to 1.0000e-04.\n",
      "Epoch:70/200 AVG Training Loss:0.643 AVG Validation Loss:0.672 AVG Training Acc 62.23 % AVG Validation Acc 61.77 %\n",
      "Epoch:80/200 AVG Training Loss:0.643 AVG Validation Loss:0.673 AVG Training Acc 62.41 % AVG Validation Acc 61.86 %\n",
      "Epoch:90/200 AVG Training Loss:0.642 AVG Validation Loss:0.674 AVG Training Acc 62.46 % AVG Validation Acc 61.86 %\n",
      "Epoch    95: reducing learning rate of group 0 to 1.0000e-05.\n",
      "Epoch:100/200 AVG Training Loss:0.642 AVG Validation Loss:0.673 AVG Training Acc 62.43 % AVG Validation Acc 61.86 %\n",
      "Epoch:110/200 AVG Training Loss:0.643 AVG Validation Loss:0.673 AVG Training Acc 62.42 % AVG Validation Acc 61.86 %\n",
      "Epoch:120/200 AVG Training Loss:0.642 AVG Validation Loss:0.673 AVG Training Acc 62.47 % AVG Validation Acc 61.86 %\n",
      "Epoch   126: reducing learning rate of group 0 to 1.0000e-06.\n",
      "Epoch:130/200 AVG Training Loss:0.642 AVG Validation Loss:0.674 AVG Training Acc 62.34 % AVG Validation Acc 61.86 %\n",
      "Epoch:140/200 AVG Training Loss:0.642 AVG Validation Loss:0.674 AVG Training Acc 62.39 % AVG Validation Acc 61.86 %\n",
      "Epoch:150/200 AVG Training Loss:0.642 AVG Validation Loss:0.674 AVG Training Acc 62.30 % AVG Validation Acc 61.86 %\n",
      "Epoch   157: reducing learning rate of group 0 to 1.0000e-07.\n",
      "Epoch:160/200 AVG Training Loss:0.643 AVG Validation Loss:0.674 AVG Training Acc 62.28 % AVG Validation Acc 61.86 %\n",
      "Epoch:170/200 AVG Training Loss:0.641 AVG Validation Loss:0.674 AVG Training Acc 62.51 % AVG Validation Acc 61.86 %\n",
      "Epoch:180/200 AVG Training Loss:0.641 AVG Validation Loss:0.674 AVG Training Acc 62.33 % AVG Validation Acc 61.86 %\n",
      "Epoch   188: reducing learning rate of group 0 to 1.0000e-08.\n",
      "Epoch:190/200 AVG Training Loss:0.642 AVG Validation Loss:0.674 AVG Training Acc 62.37 % AVG Validation Acc 61.86 %\n",
      "Epoch:200/200 AVG Training Loss:0.643 AVG Validation Loss:0.674 AVG Training Acc 62.35 % AVG Validation Acc 61.86 %\n",
      "Split 56\n"
     ]
    },
    {
     "data": {
      "application/vnd.jupyter.widget-view+json": {
       "model_id": "09d048c11df946ce8a8d5f16b26935f6",
       "version_major": 2,
       "version_minor": 0
      },
      "text/plain": [
       "  0%|          | 0/200 [00:00<?, ?it/s]"
      ]
     },
     "metadata": {},
     "output_type": "display_data"
    },
    {
     "name": "stdout",
     "output_type": "stream",
     "text": [
      "Epoch:10/200 AVG Training Loss:0.662 AVG Validation Loss:0.662 AVG Training Acc 61.91 % AVG Validation Acc 61.91 %\n",
      "Epoch:20/200 AVG Training Loss:0.660 AVG Validation Loss:0.660 AVG Training Acc 61.86 % AVG Validation Acc 61.91 %\n",
      "Epoch:30/200 AVG Training Loss:0.659 AVG Validation Loss:0.662 AVG Training Acc 61.88 % AVG Validation Acc 62.00 %\n",
      "Epoch    35: reducing learning rate of group 0 to 1.0000e-03.\n",
      "Epoch:40/200 AVG Training Loss:0.653 AVG Validation Loss:0.665 AVG Training Acc 62.06 % AVG Validation Acc 62.00 %\n",
      "Epoch:50/200 AVG Training Loss:0.651 AVG Validation Loss:0.669 AVG Training Acc 62.14 % AVG Validation Acc 62.00 %\n",
      "Epoch:60/200 AVG Training Loss:0.648 AVG Validation Loss:0.673 AVG Training Acc 62.20 % AVG Validation Acc 61.82 %\n",
      "Epoch    66: reducing learning rate of group 0 to 1.0000e-04.\n",
      "Epoch:70/200 AVG Training Loss:0.645 AVG Validation Loss:0.675 AVG Training Acc 62.32 % AVG Validation Acc 61.73 %\n",
      "Epoch:80/200 AVG Training Loss:0.645 AVG Validation Loss:0.679 AVG Training Acc 62.22 % AVG Validation Acc 62.00 %\n",
      "Epoch:90/200 AVG Training Loss:0.645 AVG Validation Loss:0.676 AVG Training Acc 62.24 % AVG Validation Acc 62.00 %\n",
      "Epoch    97: reducing learning rate of group 0 to 1.0000e-05.\n",
      "Epoch:100/200 AVG Training Loss:0.644 AVG Validation Loss:0.679 AVG Training Acc 62.26 % AVG Validation Acc 61.91 %\n",
      "Epoch:110/200 AVG Training Loss:0.644 AVG Validation Loss:0.678 AVG Training Acc 62.28 % AVG Validation Acc 62.00 %\n",
      "Epoch:120/200 AVG Training Loss:0.643 AVG Validation Loss:0.679 AVG Training Acc 62.37 % AVG Validation Acc 61.91 %\n",
      "Epoch   128: reducing learning rate of group 0 to 1.0000e-06.\n",
      "Epoch:130/200 AVG Training Loss:0.645 AVG Validation Loss:0.682 AVG Training Acc 62.18 % AVG Validation Acc 61.91 %\n",
      "Epoch:140/200 AVG Training Loss:0.643 AVG Validation Loss:0.678 AVG Training Acc 62.33 % AVG Validation Acc 61.91 %\n",
      "Epoch:150/200 AVG Training Loss:0.644 AVG Validation Loss:0.681 AVG Training Acc 62.32 % AVG Validation Acc 61.91 %\n",
      "Epoch   159: reducing learning rate of group 0 to 1.0000e-07.\n",
      "Epoch:160/200 AVG Training Loss:0.643 AVG Validation Loss:0.677 AVG Training Acc 62.42 % AVG Validation Acc 61.91 %\n",
      "Epoch:170/200 AVG Training Loss:0.644 AVG Validation Loss:0.678 AVG Training Acc 62.29 % AVG Validation Acc 61.82 %\n",
      "Epoch:180/200 AVG Training Loss:0.645 AVG Validation Loss:0.678 AVG Training Acc 62.36 % AVG Validation Acc 61.82 %\n",
      "Epoch:190/200 AVG Training Loss:0.643 AVG Validation Loss:0.678 AVG Training Acc 62.19 % AVG Validation Acc 62.18 %\n",
      "Epoch   190: reducing learning rate of group 0 to 1.0000e-08.\n",
      "Epoch:200/200 AVG Training Loss:0.645 AVG Validation Loss:0.678 AVG Training Acc 62.30 % AVG Validation Acc 61.82 %\n",
      "Split 57\n"
     ]
    },
    {
     "data": {
      "application/vnd.jupyter.widget-view+json": {
       "model_id": "81f67ea12066424e881d6c0b8032e8d8",
       "version_major": 2,
       "version_minor": 0
      },
      "text/plain": [
       "  0%|          | 0/200 [00:00<?, ?it/s]"
      ]
     },
     "metadata": {},
     "output_type": "display_data"
    },
    {
     "name": "stdout",
     "output_type": "stream",
     "text": [
      "Epoch:10/200 AVG Training Loss:0.663 AVG Validation Loss:0.662 AVG Training Acc 61.92 % AVG Validation Acc 61.91 %\n",
      "Epoch:20/200 AVG Training Loss:0.660 AVG Validation Loss:0.661 AVG Training Acc 61.94 % AVG Validation Acc 61.91 %\n",
      "Epoch:30/200 AVG Training Loss:0.658 AVG Validation Loss:0.662 AVG Training Acc 61.92 % AVG Validation Acc 61.91 %\n",
      "Epoch    35: reducing learning rate of group 0 to 1.0000e-03.\n",
      "Epoch:40/200 AVG Training Loss:0.654 AVG Validation Loss:0.663 AVG Training Acc 62.00 % AVG Validation Acc 61.73 %\n",
      "Epoch:50/200 AVG Training Loss:0.650 AVG Validation Loss:0.666 AVG Training Acc 62.16 % AVG Validation Acc 61.55 %\n",
      "Epoch:60/200 AVG Training Loss:0.648 AVG Validation Loss:0.668 AVG Training Acc 62.21 % AVG Validation Acc 61.46 %\n",
      "Epoch    66: reducing learning rate of group 0 to 1.0000e-04.\n",
      "Epoch:70/200 AVG Training Loss:0.647 AVG Validation Loss:0.671 AVG Training Acc 62.29 % AVG Validation Acc 61.64 %\n",
      "Epoch:80/200 AVG Training Loss:0.646 AVG Validation Loss:0.669 AVG Training Acc 62.34 % AVG Validation Acc 61.64 %\n",
      "Epoch:90/200 AVG Training Loss:0.645 AVG Validation Loss:0.669 AVG Training Acc 62.49 % AVG Validation Acc 61.64 %\n",
      "Epoch    97: reducing learning rate of group 0 to 1.0000e-05.\n",
      "Epoch:100/200 AVG Training Loss:0.645 AVG Validation Loss:0.669 AVG Training Acc 62.45 % AVG Validation Acc 61.55 %\n",
      "Epoch:110/200 AVG Training Loss:0.645 AVG Validation Loss:0.669 AVG Training Acc 62.42 % AVG Validation Acc 61.64 %\n",
      "Epoch:120/200 AVG Training Loss:0.645 AVG Validation Loss:0.670 AVG Training Acc 62.38 % AVG Validation Acc 61.64 %\n",
      "Epoch   128: reducing learning rate of group 0 to 1.0000e-06.\n",
      "Epoch:130/200 AVG Training Loss:0.645 AVG Validation Loss:0.670 AVG Training Acc 62.40 % AVG Validation Acc 61.64 %\n",
      "Epoch:140/200 AVG Training Loss:0.646 AVG Validation Loss:0.669 AVG Training Acc 62.45 % AVG Validation Acc 61.55 %\n",
      "Epoch:150/200 AVG Training Loss:0.645 AVG Validation Loss:0.670 AVG Training Acc 62.47 % AVG Validation Acc 61.64 %\n",
      "Epoch   159: reducing learning rate of group 0 to 1.0000e-07.\n",
      "Epoch:160/200 AVG Training Loss:0.644 AVG Validation Loss:0.670 AVG Training Acc 62.44 % AVG Validation Acc 61.55 %\n",
      "Epoch:170/200 AVG Training Loss:0.645 AVG Validation Loss:0.669 AVG Training Acc 62.38 % AVG Validation Acc 61.64 %\n",
      "Epoch:180/200 AVG Training Loss:0.645 AVG Validation Loss:0.668 AVG Training Acc 62.51 % AVG Validation Acc 61.55 %\n",
      "Epoch:190/200 AVG Training Loss:0.645 AVG Validation Loss:0.670 AVG Training Acc 62.41 % AVG Validation Acc 61.73 %\n",
      "Epoch   190: reducing learning rate of group 0 to 1.0000e-08.\n",
      "Epoch:200/200 AVG Training Loss:0.646 AVG Validation Loss:0.668 AVG Training Acc 62.29 % AVG Validation Acc 61.55 %\n",
      "Split 58\n"
     ]
    },
    {
     "data": {
      "application/vnd.jupyter.widget-view+json": {
       "model_id": "feea98ac0ec449448946fe4d392e0fe4",
       "version_major": 2,
       "version_minor": 0
      },
      "text/plain": [
       "  0%|          | 0/200 [00:00<?, ?it/s]"
      ]
     },
     "metadata": {},
     "output_type": "display_data"
    },
    {
     "name": "stdout",
     "output_type": "stream",
     "text": [
      "Epoch:10/200 AVG Training Loss:0.664 AVG Validation Loss:0.665 AVG Training Acc 61.89 % AVG Validation Acc 61.91 %\n",
      "Epoch    12: reducing learning rate of group 0 to 1.0000e-03.\n",
      "Epoch:20/200 AVG Training Loss:0.663 AVG Validation Loss:0.665 AVG Training Acc 61.89 % AVG Validation Acc 61.91 %\n",
      "Epoch:30/200 AVG Training Loss:0.663 AVG Validation Loss:0.664 AVG Training Acc 61.89 % AVG Validation Acc 61.91 %\n",
      "Epoch:40/200 AVG Training Loss:0.659 AVG Validation Loss:0.659 AVG Training Acc 61.86 % AVG Validation Acc 61.91 %\n",
      "Epoch:50/200 AVG Training Loss:0.658 AVG Validation Loss:0.659 AVG Training Acc 62.01 % AVG Validation Acc 61.73 %\n",
      "Epoch    50: reducing learning rate of group 0 to 1.0000e-04.\n",
      "Epoch:60/200 AVG Training Loss:0.657 AVG Validation Loss:0.659 AVG Training Acc 61.92 % AVG Validation Acc 61.73 %\n",
      "Epoch:70/200 AVG Training Loss:0.657 AVG Validation Loss:0.659 AVG Training Acc 62.00 % AVG Validation Acc 61.73 %\n",
      "Epoch:80/200 AVG Training Loss:0.657 AVG Validation Loss:0.659 AVG Training Acc 62.02 % AVG Validation Acc 61.73 %\n",
      "Epoch    81: reducing learning rate of group 0 to 1.0000e-05.\n",
      "Epoch:90/200 AVG Training Loss:0.656 AVG Validation Loss:0.659 AVG Training Acc 62.01 % AVG Validation Acc 61.73 %\n",
      "Epoch:100/200 AVG Training Loss:0.657 AVG Validation Loss:0.659 AVG Training Acc 61.96 % AVG Validation Acc 61.73 %\n",
      "Epoch:110/200 AVG Training Loss:0.657 AVG Validation Loss:0.659 AVG Training Acc 61.93 % AVG Validation Acc 61.73 %\n",
      "Epoch   112: reducing learning rate of group 0 to 1.0000e-06.\n",
      "Epoch:120/200 AVG Training Loss:0.657 AVG Validation Loss:0.659 AVG Training Acc 61.94 % AVG Validation Acc 61.73 %\n",
      "Epoch:130/200 AVG Training Loss:0.656 AVG Validation Loss:0.659 AVG Training Acc 62.00 % AVG Validation Acc 61.73 %\n",
      "Epoch:140/200 AVG Training Loss:0.656 AVG Validation Loss:0.659 AVG Training Acc 61.97 % AVG Validation Acc 61.73 %\n",
      "Epoch   143: reducing learning rate of group 0 to 1.0000e-07.\n",
      "Epoch:150/200 AVG Training Loss:0.657 AVG Validation Loss:0.659 AVG Training Acc 61.98 % AVG Validation Acc 61.73 %\n",
      "Epoch:160/200 AVG Training Loss:0.657 AVG Validation Loss:0.659 AVG Training Acc 61.99 % AVG Validation Acc 61.73 %\n",
      "Epoch:170/200 AVG Training Loss:0.657 AVG Validation Loss:0.659 AVG Training Acc 61.99 % AVG Validation Acc 61.73 %\n",
      "Epoch   174: reducing learning rate of group 0 to 1.0000e-08.\n",
      "Epoch:180/200 AVG Training Loss:0.657 AVG Validation Loss:0.659 AVG Training Acc 61.94 % AVG Validation Acc 61.73 %\n",
      "Epoch:190/200 AVG Training Loss:0.657 AVG Validation Loss:0.659 AVG Training Acc 61.93 % AVG Validation Acc 61.73 %\n",
      "Epoch:200/200 AVG Training Loss:0.656 AVG Validation Loss:0.659 AVG Training Acc 61.96 % AVG Validation Acc 61.73 %\n",
      "Split 59\n"
     ]
    },
    {
     "data": {
      "application/vnd.jupyter.widget-view+json": {
       "model_id": "bf160a9e3b67425986a625bfaf997b39",
       "version_major": 2,
       "version_minor": 0
      },
      "text/plain": [
       "  0%|          | 0/200 [00:00<?, ?it/s]"
      ]
     },
     "metadata": {},
     "output_type": "display_data"
    },
    {
     "name": "stdout",
     "output_type": "stream",
     "text": [
      "Epoch:10/200 AVG Training Loss:0.661 AVG Validation Loss:0.661 AVG Training Acc 61.80 % AVG Validation Acc 61.91 %\n",
      "Epoch:20/200 AVG Training Loss:0.659 AVG Validation Loss:0.661 AVG Training Acc 61.96 % AVG Validation Acc 61.91 %\n",
      "Epoch    29: reducing learning rate of group 0 to 1.0000e-03.\n",
      "Epoch:30/200 AVG Training Loss:0.657 AVG Validation Loss:0.660 AVG Training Acc 61.90 % AVG Validation Acc 61.82 %\n",
      "Epoch:40/200 AVG Training Loss:0.654 AVG Validation Loss:0.662 AVG Training Acc 62.07 % AVG Validation Acc 61.82 %\n",
      "Epoch:50/200 AVG Training Loss:0.653 AVG Validation Loss:0.661 AVG Training Acc 62.13 % AVG Validation Acc 61.73 %\n",
      "Epoch:60/200 AVG Training Loss:0.652 AVG Validation Loss:0.661 AVG Training Acc 62.07 % AVG Validation Acc 61.73 %\n",
      "Epoch    60: reducing learning rate of group 0 to 1.0000e-04.\n",
      "Epoch:70/200 AVG Training Loss:0.651 AVG Validation Loss:0.662 AVG Training Acc 62.19 % AVG Validation Acc 61.73 %\n",
      "Epoch:80/200 AVG Training Loss:0.649 AVG Validation Loss:0.661 AVG Training Acc 62.18 % AVG Validation Acc 61.73 %\n",
      "Epoch:90/200 AVG Training Loss:0.651 AVG Validation Loss:0.662 AVG Training Acc 62.08 % AVG Validation Acc 61.73 %\n",
      "Epoch    91: reducing learning rate of group 0 to 1.0000e-05.\n",
      "Epoch:100/200 AVG Training Loss:0.650 AVG Validation Loss:0.661 AVG Training Acc 62.18 % AVG Validation Acc 61.73 %\n",
      "Epoch:110/200 AVG Training Loss:0.650 AVG Validation Loss:0.661 AVG Training Acc 62.13 % AVG Validation Acc 61.73 %\n",
      "Epoch:120/200 AVG Training Loss:0.649 AVG Validation Loss:0.662 AVG Training Acc 62.18 % AVG Validation Acc 61.73 %\n",
      "Epoch   122: reducing learning rate of group 0 to 1.0000e-06.\n",
      "Epoch:130/200 AVG Training Loss:0.650 AVG Validation Loss:0.662 AVG Training Acc 62.20 % AVG Validation Acc 61.73 %\n",
      "Epoch:140/200 AVG Training Loss:0.651 AVG Validation Loss:0.662 AVG Training Acc 62.19 % AVG Validation Acc 61.73 %\n",
      "Epoch:150/200 AVG Training Loss:0.651 AVG Validation Loss:0.662 AVG Training Acc 62.21 % AVG Validation Acc 61.73 %\n",
      "Epoch   153: reducing learning rate of group 0 to 1.0000e-07.\n",
      "Epoch:160/200 AVG Training Loss:0.650 AVG Validation Loss:0.662 AVG Training Acc 62.16 % AVG Validation Acc 61.73 %\n",
      "Epoch:170/200 AVG Training Loss:0.650 AVG Validation Loss:0.662 AVG Training Acc 62.07 % AVG Validation Acc 61.73 %\n",
      "Epoch:180/200 AVG Training Loss:0.650 AVG Validation Loss:0.661 AVG Training Acc 62.20 % AVG Validation Acc 61.73 %\n",
      "Epoch   184: reducing learning rate of group 0 to 1.0000e-08.\n",
      "Epoch:190/200 AVG Training Loss:0.650 AVG Validation Loss:0.661 AVG Training Acc 62.08 % AVG Validation Acc 61.73 %\n",
      "Epoch:200/200 AVG Training Loss:0.650 AVG Validation Loss:0.661 AVG Training Acc 62.15 % AVG Validation Acc 61.73 %\n",
      "Split 60\n"
     ]
    },
    {
     "data": {
      "application/vnd.jupyter.widget-view+json": {
       "model_id": "3070bd9c7a024e019e976ec44b853855",
       "version_major": 2,
       "version_minor": 0
      },
      "text/plain": [
       "  0%|          | 0/200 [00:00<?, ?it/s]"
      ]
     },
     "metadata": {},
     "output_type": "display_data"
    },
    {
     "name": "stdout",
     "output_type": "stream",
     "text": [
      "Epoch:10/200 AVG Training Loss:0.664 AVG Validation Loss:0.664 AVG Training Acc 61.93 % AVG Validation Acc 61.91 %\n",
      "Epoch:20/200 AVG Training Loss:0.660 AVG Validation Loss:0.661 AVG Training Acc 61.88 % AVG Validation Acc 61.91 %\n",
      "Epoch    25: reducing learning rate of group 0 to 1.0000e-03.\n",
      "Epoch:30/200 AVG Training Loss:0.657 AVG Validation Loss:0.661 AVG Training Acc 61.98 % AVG Validation Acc 62.00 %\n",
      "Epoch:40/200 AVG Training Loss:0.655 AVG Validation Loss:0.663 AVG Training Acc 61.97 % AVG Validation Acc 61.91 %\n",
      "Epoch:50/200 AVG Training Loss:0.656 AVG Validation Loss:0.661 AVG Training Acc 61.99 % AVG Validation Acc 61.91 %\n",
      "Epoch    56: reducing learning rate of group 0 to 1.0000e-04.\n",
      "Epoch:60/200 AVG Training Loss:0.654 AVG Validation Loss:0.663 AVG Training Acc 62.04 % AVG Validation Acc 61.91 %\n",
      "Epoch:70/200 AVG Training Loss:0.655 AVG Validation Loss:0.662 AVG Training Acc 62.00 % AVG Validation Acc 61.91 %\n",
      "Epoch:80/200 AVG Training Loss:0.654 AVG Validation Loss:0.662 AVG Training Acc 62.00 % AVG Validation Acc 61.91 %\n",
      "Epoch    87: reducing learning rate of group 0 to 1.0000e-05.\n",
      "Epoch:90/200 AVG Training Loss:0.654 AVG Validation Loss:0.662 AVG Training Acc 62.03 % AVG Validation Acc 61.82 %\n",
      "Epoch:100/200 AVG Training Loss:0.654 AVG Validation Loss:0.663 AVG Training Acc 62.05 % AVG Validation Acc 61.91 %\n",
      "Epoch:110/200 AVG Training Loss:0.655 AVG Validation Loss:0.662 AVG Training Acc 62.01 % AVG Validation Acc 61.82 %\n",
      "Epoch   118: reducing learning rate of group 0 to 1.0000e-06.\n",
      "Epoch:120/200 AVG Training Loss:0.653 AVG Validation Loss:0.662 AVG Training Acc 62.04 % AVG Validation Acc 61.91 %\n",
      "Epoch:130/200 AVG Training Loss:0.654 AVG Validation Loss:0.662 AVG Training Acc 62.01 % AVG Validation Acc 61.91 %\n",
      "Epoch:140/200 AVG Training Loss:0.653 AVG Validation Loss:0.662 AVG Training Acc 62.07 % AVG Validation Acc 61.82 %\n",
      "Epoch   149: reducing learning rate of group 0 to 1.0000e-07.\n",
      "Epoch:150/200 AVG Training Loss:0.653 AVG Validation Loss:0.662 AVG Training Acc 62.04 % AVG Validation Acc 61.91 %\n",
      "Epoch:160/200 AVG Training Loss:0.654 AVG Validation Loss:0.663 AVG Training Acc 62.02 % AVG Validation Acc 61.91 %\n",
      "Epoch:170/200 AVG Training Loss:0.653 AVG Validation Loss:0.662 AVG Training Acc 62.10 % AVG Validation Acc 61.91 %\n",
      "Epoch:180/200 AVG Training Loss:0.653 AVG Validation Loss:0.662 AVG Training Acc 62.05 % AVG Validation Acc 61.91 %\n",
      "Epoch   180: reducing learning rate of group 0 to 1.0000e-08.\n",
      "Epoch:190/200 AVG Training Loss:0.653 AVG Validation Loss:0.662 AVG Training Acc 62.04 % AVG Validation Acc 61.91 %\n",
      "Epoch:200/200 AVG Training Loss:0.654 AVG Validation Loss:0.662 AVG Training Acc 62.01 % AVG Validation Acc 61.91 %\n",
      "Split 61\n"
     ]
    },
    {
     "data": {
      "application/vnd.jupyter.widget-view+json": {
       "model_id": "6b53a22005b04126af90f5a9d32e90d1",
       "version_major": 2,
       "version_minor": 0
      },
      "text/plain": [
       "  0%|          | 0/200 [00:00<?, ?it/s]"
      ]
     },
     "metadata": {},
     "output_type": "display_data"
    },
    {
     "name": "stdout",
     "output_type": "stream",
     "text": [
      "Epoch:10/200 AVG Training Loss:0.664 AVG Validation Loss:0.661 AVG Training Acc 61.89 % AVG Validation Acc 61.95 %\n",
      "Epoch:20/200 AVG Training Loss:0.661 AVG Validation Loss:0.660 AVG Training Acc 61.89 % AVG Validation Acc 61.95 %\n",
      "Epoch    29: reducing learning rate of group 0 to 1.0000e-03.\n",
      "Epoch:30/200 AVG Training Loss:0.659 AVG Validation Loss:0.661 AVG Training Acc 61.92 % AVG Validation Acc 61.86 %\n",
      "Epoch:40/200 AVG Training Loss:0.656 AVG Validation Loss:0.660 AVG Training Acc 62.03 % AVG Validation Acc 61.86 %\n",
      "Epoch:50/200 AVG Training Loss:0.654 AVG Validation Loss:0.663 AVG Training Acc 62.13 % AVG Validation Acc 62.13 %\n",
      "Epoch:60/200 AVG Training Loss:0.653 AVG Validation Loss:0.665 AVG Training Acc 62.12 % AVG Validation Acc 62.04 %\n",
      "Epoch    60: reducing learning rate of group 0 to 1.0000e-04.\n",
      "Epoch:70/200 AVG Training Loss:0.652 AVG Validation Loss:0.663 AVG Training Acc 62.13 % AVG Validation Acc 61.95 %\n",
      "Epoch:80/200 AVG Training Loss:0.650 AVG Validation Loss:0.663 AVG Training Acc 62.26 % AVG Validation Acc 61.95 %\n",
      "Epoch:90/200 AVG Training Loss:0.651 AVG Validation Loss:0.664 AVG Training Acc 62.20 % AVG Validation Acc 61.95 %\n",
      "Epoch    91: reducing learning rate of group 0 to 1.0000e-05.\n",
      "Epoch:100/200 AVG Training Loss:0.650 AVG Validation Loss:0.665 AVG Training Acc 62.23 % AVG Validation Acc 61.95 %\n",
      "Epoch:110/200 AVG Training Loss:0.649 AVG Validation Loss:0.664 AVG Training Acc 62.28 % AVG Validation Acc 61.95 %\n",
      "Epoch:120/200 AVG Training Loss:0.650 AVG Validation Loss:0.664 AVG Training Acc 62.18 % AVG Validation Acc 61.95 %\n",
      "Epoch   122: reducing learning rate of group 0 to 1.0000e-06.\n",
      "Epoch:130/200 AVG Training Loss:0.649 AVG Validation Loss:0.664 AVG Training Acc 62.25 % AVG Validation Acc 61.95 %\n",
      "Epoch:140/200 AVG Training Loss:0.650 AVG Validation Loss:0.664 AVG Training Acc 62.21 % AVG Validation Acc 61.95 %\n",
      "Epoch:150/200 AVG Training Loss:0.650 AVG Validation Loss:0.664 AVG Training Acc 62.20 % AVG Validation Acc 61.95 %\n",
      "Epoch   153: reducing learning rate of group 0 to 1.0000e-07.\n",
      "Epoch:160/200 AVG Training Loss:0.649 AVG Validation Loss:0.664 AVG Training Acc 62.19 % AVG Validation Acc 61.95 %\n",
      "Epoch:170/200 AVG Training Loss:0.649 AVG Validation Loss:0.664 AVG Training Acc 62.21 % AVG Validation Acc 61.95 %\n",
      "Epoch:180/200 AVG Training Loss:0.650 AVG Validation Loss:0.665 AVG Training Acc 62.14 % AVG Validation Acc 61.95 %\n",
      "Epoch   184: reducing learning rate of group 0 to 1.0000e-08.\n",
      "Epoch:190/200 AVG Training Loss:0.650 AVG Validation Loss:0.665 AVG Training Acc 62.26 % AVG Validation Acc 61.95 %\n",
      "Epoch:200/200 AVG Training Loss:0.650 AVG Validation Loss:0.665 AVG Training Acc 62.21 % AVG Validation Acc 61.95 %\n",
      "Split 62\n"
     ]
    },
    {
     "data": {
      "application/vnd.jupyter.widget-view+json": {
       "model_id": "06e786936c024cc4a2fe05fd71777c1e",
       "version_major": 2,
       "version_minor": 0
      },
      "text/plain": [
       "  0%|          | 0/200 [00:00<?, ?it/s]"
      ]
     },
     "metadata": {},
     "output_type": "display_data"
    },
    {
     "name": "stdout",
     "output_type": "stream",
     "text": [
      "Epoch:10/200 AVG Training Loss:0.664 AVG Validation Loss:0.666 AVG Training Acc 61.82 % AVG Validation Acc 61.86 %\n",
      "Epoch    12: reducing learning rate of group 0 to 1.0000e-03.\n",
      "Epoch:20/200 AVG Training Loss:0.661 AVG Validation Loss:0.664 AVG Training Acc 61.95 % AVG Validation Acc 61.86 %\n",
      "Epoch:30/200 AVG Training Loss:0.658 AVG Validation Loss:0.661 AVG Training Acc 61.92 % AVG Validation Acc 61.86 %\n",
      "Epoch:40/200 AVG Training Loss:0.658 AVG Validation Loss:0.659 AVG Training Acc 61.94 % AVG Validation Acc 61.86 %\n",
      "Epoch:50/200 AVG Training Loss:0.655 AVG Validation Loss:0.658 AVG Training Acc 61.94 % AVG Validation Acc 61.77 %\n",
      "Epoch:60/200 AVG Training Loss:0.653 AVG Validation Loss:0.658 AVG Training Acc 62.07 % AVG Validation Acc 61.77 %\n",
      "Epoch    62: reducing learning rate of group 0 to 1.0000e-04.\n",
      "Epoch:70/200 AVG Training Loss:0.650 AVG Validation Loss:0.659 AVG Training Acc 62.14 % AVG Validation Acc 61.59 %\n",
      "Epoch:80/200 AVG Training Loss:0.650 AVG Validation Loss:0.660 AVG Training Acc 62.27 % AVG Validation Acc 61.59 %\n",
      "Epoch:90/200 AVG Training Loss:0.649 AVG Validation Loss:0.661 AVG Training Acc 62.23 % AVG Validation Acc 61.50 %\n",
      "Epoch    93: reducing learning rate of group 0 to 1.0000e-05.\n",
      "Epoch:100/200 AVG Training Loss:0.648 AVG Validation Loss:0.662 AVG Training Acc 62.25 % AVG Validation Acc 61.50 %\n",
      "Epoch:110/200 AVG Training Loss:0.649 AVG Validation Loss:0.663 AVG Training Acc 62.24 % AVG Validation Acc 61.59 %\n",
      "Epoch:120/200 AVG Training Loss:0.648 AVG Validation Loss:0.662 AVG Training Acc 62.17 % AVG Validation Acc 61.50 %\n",
      "Epoch   124: reducing learning rate of group 0 to 1.0000e-06.\n",
      "Epoch:130/200 AVG Training Loss:0.648 AVG Validation Loss:0.662 AVG Training Acc 62.28 % AVG Validation Acc 61.50 %\n",
      "Epoch:140/200 AVG Training Loss:0.649 AVG Validation Loss:0.662 AVG Training Acc 62.31 % AVG Validation Acc 61.50 %\n",
      "Epoch:150/200 AVG Training Loss:0.648 AVG Validation Loss:0.661 AVG Training Acc 62.21 % AVG Validation Acc 61.50 %\n",
      "Epoch   155: reducing learning rate of group 0 to 1.0000e-07.\n",
      "Epoch:160/200 AVG Training Loss:0.649 AVG Validation Loss:0.662 AVG Training Acc 62.33 % AVG Validation Acc 61.50 %\n",
      "Epoch:170/200 AVG Training Loss:0.648 AVG Validation Loss:0.661 AVG Training Acc 62.23 % AVG Validation Acc 61.68 %\n",
      "Epoch:180/200 AVG Training Loss:0.647 AVG Validation Loss:0.662 AVG Training Acc 62.29 % AVG Validation Acc 61.59 %\n",
      "Epoch   186: reducing learning rate of group 0 to 1.0000e-08.\n",
      "Epoch:190/200 AVG Training Loss:0.647 AVG Validation Loss:0.662 AVG Training Acc 62.21 % AVG Validation Acc 61.50 %\n",
      "Epoch:200/200 AVG Training Loss:0.648 AVG Validation Loss:0.662 AVG Training Acc 62.24 % AVG Validation Acc 61.50 %\n",
      "Split 63\n"
     ]
    },
    {
     "data": {
      "application/vnd.jupyter.widget-view+json": {
       "model_id": "66a81beb62944dd39043ec0b66ee69e9",
       "version_major": 2,
       "version_minor": 0
      },
      "text/plain": [
       "  0%|          | 0/200 [00:00<?, ?it/s]"
      ]
     },
     "metadata": {},
     "output_type": "display_data"
    },
    {
     "name": "stdout",
     "output_type": "stream",
     "text": [
      "Epoch:10/200 AVG Training Loss:0.661 AVG Validation Loss:0.666 AVG Training Acc 61.96 % AVG Validation Acc 61.86 %\n",
      "Epoch    18: reducing learning rate of group 0 to 1.0000e-03.\n",
      "Epoch:20/200 AVG Training Loss:0.657 AVG Validation Loss:0.665 AVG Training Acc 61.95 % AVG Validation Acc 61.86 %\n",
      "Epoch:30/200 AVG Training Loss:0.656 AVG Validation Loss:0.667 AVG Training Acc 61.99 % AVG Validation Acc 61.86 %\n",
      "Epoch:40/200 AVG Training Loss:0.655 AVG Validation Loss:0.669 AVG Training Acc 62.05 % AVG Validation Acc 61.77 %\n",
      "Epoch    49: reducing learning rate of group 0 to 1.0000e-04.\n",
      "Epoch:50/200 AVG Training Loss:0.654 AVG Validation Loss:0.670 AVG Training Acc 62.11 % AVG Validation Acc 61.77 %\n",
      "Epoch:60/200 AVG Training Loss:0.654 AVG Validation Loss:0.671 AVG Training Acc 62.06 % AVG Validation Acc 61.77 %\n",
      "Epoch:70/200 AVG Training Loss:0.654 AVG Validation Loss:0.672 AVG Training Acc 62.09 % AVG Validation Acc 61.77 %\n",
      "Epoch:80/200 AVG Training Loss:0.654 AVG Validation Loss:0.671 AVG Training Acc 62.15 % AVG Validation Acc 61.77 %\n",
      "Epoch    80: reducing learning rate of group 0 to 1.0000e-05.\n",
      "Epoch:90/200 AVG Training Loss:0.653 AVG Validation Loss:0.671 AVG Training Acc 62.09 % AVG Validation Acc 61.77 %\n",
      "Epoch:100/200 AVG Training Loss:0.653 AVG Validation Loss:0.672 AVG Training Acc 62.10 % AVG Validation Acc 61.77 %\n",
      "Epoch:110/200 AVG Training Loss:0.653 AVG Validation Loss:0.672 AVG Training Acc 62.08 % AVG Validation Acc 61.77 %\n",
      "Epoch   111: reducing learning rate of group 0 to 1.0000e-06.\n",
      "Epoch:120/200 AVG Training Loss:0.653 AVG Validation Loss:0.672 AVG Training Acc 62.14 % AVG Validation Acc 61.77 %\n",
      "Epoch:130/200 AVG Training Loss:0.654 AVG Validation Loss:0.672 AVG Training Acc 62.10 % AVG Validation Acc 61.77 %\n",
      "Epoch:140/200 AVG Training Loss:0.654 AVG Validation Loss:0.672 AVG Training Acc 62.05 % AVG Validation Acc 61.77 %\n",
      "Epoch   142: reducing learning rate of group 0 to 1.0000e-07.\n",
      "Epoch:150/200 AVG Training Loss:0.653 AVG Validation Loss:0.672 AVG Training Acc 62.07 % AVG Validation Acc 61.77 %\n",
      "Epoch:160/200 AVG Training Loss:0.654 AVG Validation Loss:0.672 AVG Training Acc 62.06 % AVG Validation Acc 61.77 %\n",
      "Epoch:170/200 AVG Training Loss:0.654 AVG Validation Loss:0.672 AVG Training Acc 62.03 % AVG Validation Acc 61.77 %\n",
      "Epoch   173: reducing learning rate of group 0 to 1.0000e-08.\n",
      "Epoch:180/200 AVG Training Loss:0.653 AVG Validation Loss:0.672 AVG Training Acc 62.08 % AVG Validation Acc 61.77 %\n",
      "Epoch:190/200 AVG Training Loss:0.654 AVG Validation Loss:0.672 AVG Training Acc 62.10 % AVG Validation Acc 61.77 %\n",
      "Epoch:200/200 AVG Training Loss:0.653 AVG Validation Loss:0.672 AVG Training Acc 62.08 % AVG Validation Acc 61.77 %\n",
      "Split 64\n"
     ]
    },
    {
     "data": {
      "application/vnd.jupyter.widget-view+json": {
       "model_id": "3da0cb4458a345cfb8eebb103cda5189",
       "version_major": 2,
       "version_minor": 0
      },
      "text/plain": [
       "  0%|          | 0/200 [00:00<?, ?it/s]"
      ]
     },
     "metadata": {},
     "output_type": "display_data"
    },
    {
     "name": "stdout",
     "output_type": "stream",
     "text": [
      "Epoch:10/200 AVG Training Loss:0.664 AVG Validation Loss:0.661 AVG Training Acc 61.90 % AVG Validation Acc 61.86 %\n",
      "Epoch:20/200 AVG Training Loss:0.661 AVG Validation Loss:0.655 AVG Training Acc 61.88 % AVG Validation Acc 61.95 %\n",
      "Epoch:30/200 AVG Training Loss:0.659 AVG Validation Loss:0.663 AVG Training Acc 61.95 % AVG Validation Acc 61.68 %\n",
      "Epoch    36: reducing learning rate of group 0 to 1.0000e-03.\n",
      "Epoch:40/200 AVG Training Loss:0.656 AVG Validation Loss:0.657 AVG Training Acc 62.02 % AVG Validation Acc 61.86 %\n",
      "Epoch:50/200 AVG Training Loss:0.653 AVG Validation Loss:0.658 AVG Training Acc 62.07 % AVG Validation Acc 61.41 %\n",
      "Epoch:60/200 AVG Training Loss:0.651 AVG Validation Loss:0.660 AVG Training Acc 62.12 % AVG Validation Acc 61.32 %\n",
      "Epoch    67: reducing learning rate of group 0 to 1.0000e-04.\n",
      "Epoch:70/200 AVG Training Loss:0.651 AVG Validation Loss:0.661 AVG Training Acc 62.09 % AVG Validation Acc 61.59 %\n",
      "Epoch:80/200 AVG Training Loss:0.648 AVG Validation Loss:0.663 AVG Training Acc 62.27 % AVG Validation Acc 61.23 %\n",
      "Epoch:90/200 AVG Training Loss:0.648 AVG Validation Loss:0.665 AVG Training Acc 62.20 % AVG Validation Acc 61.14 %\n",
      "Epoch    98: reducing learning rate of group 0 to 1.0000e-05.\n",
      "Epoch:100/200 AVG Training Loss:0.649 AVG Validation Loss:0.664 AVG Training Acc 62.07 % AVG Validation Acc 61.14 %\n",
      "Epoch:110/200 AVG Training Loss:0.648 AVG Validation Loss:0.663 AVG Training Acc 62.10 % AVG Validation Acc 61.23 %\n",
      "Epoch:120/200 AVG Training Loss:0.648 AVG Validation Loss:0.663 AVG Training Acc 62.13 % AVG Validation Acc 61.14 %\n",
      "Epoch   129: reducing learning rate of group 0 to 1.0000e-06.\n",
      "Epoch:130/200 AVG Training Loss:0.649 AVG Validation Loss:0.664 AVG Training Acc 62.12 % AVG Validation Acc 61.14 %\n",
      "Epoch:140/200 AVG Training Loss:0.647 AVG Validation Loss:0.663 AVG Training Acc 62.26 % AVG Validation Acc 61.23 %\n",
      "Epoch:150/200 AVG Training Loss:0.648 AVG Validation Loss:0.664 AVG Training Acc 62.23 % AVG Validation Acc 61.23 %\n",
      "Epoch:160/200 AVG Training Loss:0.648 AVG Validation Loss:0.664 AVG Training Acc 62.11 % AVG Validation Acc 61.05 %\n",
      "Epoch   160: reducing learning rate of group 0 to 1.0000e-07.\n",
      "Epoch:170/200 AVG Training Loss:0.648 AVG Validation Loss:0.663 AVG Training Acc 62.11 % AVG Validation Acc 61.23 %\n",
      "Epoch:180/200 AVG Training Loss:0.648 AVG Validation Loss:0.663 AVG Training Acc 62.13 % AVG Validation Acc 61.14 %\n",
      "Epoch:190/200 AVG Training Loss:0.648 AVG Validation Loss:0.664 AVG Training Acc 62.04 % AVG Validation Acc 61.23 %\n",
      "Epoch   191: reducing learning rate of group 0 to 1.0000e-08.\n",
      "Epoch:200/200 AVG Training Loss:0.649 AVG Validation Loss:0.664 AVG Training Acc 62.14 % AVG Validation Acc 61.14 %\n",
      "Split 65\n"
     ]
    },
    {
     "data": {
      "application/vnd.jupyter.widget-view+json": {
       "model_id": "c8ced389060e4d56a93374cb2ed4dfbe",
       "version_major": 2,
       "version_minor": 0
      },
      "text/plain": [
       "  0%|          | 0/200 [00:00<?, ?it/s]"
      ]
     },
     "metadata": {},
     "output_type": "display_data"
    },
    {
     "name": "stdout",
     "output_type": "stream",
     "text": [
      "Epoch:10/200 AVG Training Loss:0.664 AVG Validation Loss:0.663 AVG Training Acc 61.89 % AVG Validation Acc 61.86 %\n",
      "Epoch:20/200 AVG Training Loss:0.663 AVG Validation Loss:0.657 AVG Training Acc 61.87 % AVG Validation Acc 61.86 %\n",
      "Epoch:30/200 AVG Training Loss:0.662 AVG Validation Loss:0.657 AVG Training Acc 61.94 % AVG Validation Acc 61.86 %\n",
      "Epoch:40/200 AVG Training Loss:0.660 AVG Validation Loss:0.656 AVG Training Acc 62.05 % AVG Validation Acc 61.86 %\n",
      "Epoch:50/200 AVG Training Loss:0.659 AVG Validation Loss:0.654 AVG Training Acc 62.05 % AVG Validation Acc 61.86 %\n",
      "Epoch    52: reducing learning rate of group 0 to 1.0000e-03.\n",
      "Epoch:60/200 AVG Training Loss:0.654 AVG Validation Loss:0.656 AVG Training Acc 62.11 % AVG Validation Acc 61.59 %\n",
      "Epoch:70/200 AVG Training Loss:0.651 AVG Validation Loss:0.657 AVG Training Acc 62.07 % AVG Validation Acc 61.14 %\n",
      "Epoch:80/200 AVG Training Loss:0.649 AVG Validation Loss:0.659 AVG Training Acc 62.27 % AVG Validation Acc 61.23 %\n",
      "Epoch    83: reducing learning rate of group 0 to 1.0000e-04.\n",
      "Epoch:90/200 AVG Training Loss:0.649 AVG Validation Loss:0.658 AVG Training Acc 62.17 % AVG Validation Acc 61.05 %\n",
      "Epoch:100/200 AVG Training Loss:0.649 AVG Validation Loss:0.660 AVG Training Acc 62.33 % AVG Validation Acc 60.96 %\n",
      "Epoch:110/200 AVG Training Loss:0.647 AVG Validation Loss:0.662 AVG Training Acc 62.42 % AVG Validation Acc 61.23 %\n",
      "Epoch   114: reducing learning rate of group 0 to 1.0000e-05.\n",
      "Epoch:120/200 AVG Training Loss:0.648 AVG Validation Loss:0.662 AVG Training Acc 62.23 % AVG Validation Acc 61.23 %\n",
      "Epoch:130/200 AVG Training Loss:0.648 AVG Validation Loss:0.662 AVG Training Acc 62.29 % AVG Validation Acc 61.23 %\n",
      "Epoch:140/200 AVG Training Loss:0.647 AVG Validation Loss:0.660 AVG Training Acc 62.27 % AVG Validation Acc 61.14 %\n",
      "Epoch   145: reducing learning rate of group 0 to 1.0000e-06.\n",
      "Epoch:150/200 AVG Training Loss:0.648 AVG Validation Loss:0.661 AVG Training Acc 62.35 % AVG Validation Acc 61.14 %\n",
      "Epoch:160/200 AVG Training Loss:0.648 AVG Validation Loss:0.661 AVG Training Acc 62.35 % AVG Validation Acc 61.14 %\n",
      "Epoch:170/200 AVG Training Loss:0.648 AVG Validation Loss:0.661 AVG Training Acc 62.27 % AVG Validation Acc 61.05 %\n",
      "Epoch   176: reducing learning rate of group 0 to 1.0000e-07.\n",
      "Epoch:180/200 AVG Training Loss:0.648 AVG Validation Loss:0.662 AVG Training Acc 62.28 % AVG Validation Acc 61.05 %\n",
      "Epoch:190/200 AVG Training Loss:0.648 AVG Validation Loss:0.661 AVG Training Acc 62.33 % AVG Validation Acc 61.05 %\n",
      "Epoch:200/200 AVG Training Loss:0.649 AVG Validation Loss:0.660 AVG Training Acc 62.19 % AVG Validation Acc 61.14 %\n",
      "Split 66\n"
     ]
    },
    {
     "data": {
      "application/vnd.jupyter.widget-view+json": {
       "model_id": "e66026a8b64b4ccdb873fa4014504e50",
       "version_major": 2,
       "version_minor": 0
      },
      "text/plain": [
       "  0%|          | 0/200 [00:00<?, ?it/s]"
      ]
     },
     "metadata": {},
     "output_type": "display_data"
    },
    {
     "name": "stdout",
     "output_type": "stream",
     "text": [
      "Epoch:10/200 AVG Training Loss:0.661 AVG Validation Loss:0.665 AVG Training Acc 61.88 % AVG Validation Acc 61.91 %\n",
      "Epoch    16: reducing learning rate of group 0 to 1.0000e-03.\n",
      "Epoch:20/200 AVG Training Loss:0.657 AVG Validation Loss:0.664 AVG Training Acc 61.88 % AVG Validation Acc 62.00 %\n",
      "Epoch:30/200 AVG Training Loss:0.656 AVG Validation Loss:0.665 AVG Training Acc 61.94 % AVG Validation Acc 62.00 %\n",
      "Epoch:40/200 AVG Training Loss:0.655 AVG Validation Loss:0.665 AVG Training Acc 61.92 % AVG Validation Acc 62.00 %\n",
      "Epoch    47: reducing learning rate of group 0 to 1.0000e-04.\n",
      "Epoch:50/200 AVG Training Loss:0.653 AVG Validation Loss:0.665 AVG Training Acc 61.91 % AVG Validation Acc 62.00 %\n",
      "Epoch:60/200 AVG Training Loss:0.654 AVG Validation Loss:0.666 AVG Training Acc 61.96 % AVG Validation Acc 62.00 %\n",
      "Epoch:70/200 AVG Training Loss:0.654 AVG Validation Loss:0.664 AVG Training Acc 61.97 % AVG Validation Acc 62.00 %\n",
      "Epoch    78: reducing learning rate of group 0 to 1.0000e-05.\n",
      "Epoch:80/200 AVG Training Loss:0.653 AVG Validation Loss:0.664 AVG Training Acc 61.97 % AVG Validation Acc 62.00 %\n",
      "Epoch:90/200 AVG Training Loss:0.653 AVG Validation Loss:0.664 AVG Training Acc 61.99 % AVG Validation Acc 62.00 %\n",
      "Epoch:100/200 AVG Training Loss:0.653 AVG Validation Loss:0.664 AVG Training Acc 61.97 % AVG Validation Acc 62.00 %\n",
      "Epoch   109: reducing learning rate of group 0 to 1.0000e-06.\n",
      "Epoch:110/200 AVG Training Loss:0.652 AVG Validation Loss:0.664 AVG Training Acc 62.00 % AVG Validation Acc 62.00 %\n",
      "Epoch:120/200 AVG Training Loss:0.653 AVG Validation Loss:0.664 AVG Training Acc 61.94 % AVG Validation Acc 62.00 %\n",
      "Epoch:130/200 AVG Training Loss:0.653 AVG Validation Loss:0.664 AVG Training Acc 61.99 % AVG Validation Acc 62.00 %\n",
      "Epoch:140/200 AVG Training Loss:0.653 AVG Validation Loss:0.664 AVG Training Acc 61.98 % AVG Validation Acc 62.00 %\n",
      "Epoch   140: reducing learning rate of group 0 to 1.0000e-07.\n",
      "Epoch:150/200 AVG Training Loss:0.653 AVG Validation Loss:0.664 AVG Training Acc 62.00 % AVG Validation Acc 62.00 %\n",
      "Epoch:160/200 AVG Training Loss:0.653 AVG Validation Loss:0.664 AVG Training Acc 61.91 % AVG Validation Acc 62.00 %\n",
      "Epoch:170/200 AVG Training Loss:0.652 AVG Validation Loss:0.664 AVG Training Acc 62.04 % AVG Validation Acc 62.00 %\n",
      "Epoch   171: reducing learning rate of group 0 to 1.0000e-08.\n",
      "Epoch:180/200 AVG Training Loss:0.653 AVG Validation Loss:0.664 AVG Training Acc 61.96 % AVG Validation Acc 62.00 %\n",
      "Epoch:190/200 AVG Training Loss:0.652 AVG Validation Loss:0.664 AVG Training Acc 62.02 % AVG Validation Acc 62.00 %\n",
      "Epoch:200/200 AVG Training Loss:0.653 AVG Validation Loss:0.664 AVG Training Acc 61.96 % AVG Validation Acc 62.00 %\n",
      "Split 67\n"
     ]
    },
    {
     "data": {
      "application/vnd.jupyter.widget-view+json": {
       "model_id": "fa396aa87221415bb51e734fcb44239f",
       "version_major": 2,
       "version_minor": 0
      },
      "text/plain": [
       "  0%|          | 0/200 [00:00<?, ?it/s]"
      ]
     },
     "metadata": {},
     "output_type": "display_data"
    },
    {
     "name": "stdout",
     "output_type": "stream",
     "text": [
      "Epoch:10/200 AVG Training Loss:0.664 AVG Validation Loss:0.666 AVG Training Acc 61.88 % AVG Validation Acc 61.91 %\n",
      "Epoch:20/200 AVG Training Loss:0.661 AVG Validation Loss:0.661 AVG Training Acc 61.89 % AVG Validation Acc 61.91 %\n",
      "Epoch:30/200 AVG Training Loss:0.659 AVG Validation Loss:0.665 AVG Training Acc 61.96 % AVG Validation Acc 61.91 %\n",
      "Epoch    32: reducing learning rate of group 0 to 1.0000e-03.\n",
      "Epoch:40/200 AVG Training Loss:0.654 AVG Validation Loss:0.664 AVG Training Acc 62.05 % AVG Validation Acc 61.82 %\n",
      "Epoch:50/200 AVG Training Loss:0.651 AVG Validation Loss:0.665 AVG Training Acc 62.04 % AVG Validation Acc 61.73 %\n",
      "Epoch:60/200 AVG Training Loss:0.648 AVG Validation Loss:0.669 AVG Training Acc 62.29 % AVG Validation Acc 61.73 %\n",
      "Epoch    63: reducing learning rate of group 0 to 1.0000e-04.\n",
      "Epoch:70/200 AVG Training Loss:0.648 AVG Validation Loss:0.671 AVG Training Acc 62.21 % AVG Validation Acc 61.55 %\n",
      "Epoch:80/200 AVG Training Loss:0.647 AVG Validation Loss:0.673 AVG Training Acc 62.31 % AVG Validation Acc 61.46 %\n",
      "Epoch:90/200 AVG Training Loss:0.648 AVG Validation Loss:0.673 AVG Training Acc 62.25 % AVG Validation Acc 61.46 %\n",
      "Epoch    94: reducing learning rate of group 0 to 1.0000e-05.\n",
      "Epoch:100/200 AVG Training Loss:0.647 AVG Validation Loss:0.674 AVG Training Acc 62.25 % AVG Validation Acc 61.46 %\n",
      "Epoch:110/200 AVG Training Loss:0.647 AVG Validation Loss:0.673 AVG Training Acc 62.37 % AVG Validation Acc 61.55 %\n",
      "Epoch:120/200 AVG Training Loss:0.648 AVG Validation Loss:0.673 AVG Training Acc 62.37 % AVG Validation Acc 61.55 %\n",
      "Epoch   125: reducing learning rate of group 0 to 1.0000e-06.\n",
      "Epoch:130/200 AVG Training Loss:0.647 AVG Validation Loss:0.673 AVG Training Acc 62.30 % AVG Validation Acc 61.55 %\n",
      "Epoch:140/200 AVG Training Loss:0.648 AVG Validation Loss:0.674 AVG Training Acc 62.25 % AVG Validation Acc 61.55 %\n",
      "Epoch:150/200 AVG Training Loss:0.648 AVG Validation Loss:0.673 AVG Training Acc 62.31 % AVG Validation Acc 61.64 %\n",
      "Epoch   156: reducing learning rate of group 0 to 1.0000e-07.\n",
      "Epoch:160/200 AVG Training Loss:0.647 AVG Validation Loss:0.673 AVG Training Acc 62.19 % AVG Validation Acc 61.55 %\n",
      "Epoch:170/200 AVG Training Loss:0.648 AVG Validation Loss:0.674 AVG Training Acc 62.17 % AVG Validation Acc 61.55 %\n",
      "Epoch:180/200 AVG Training Loss:0.647 AVG Validation Loss:0.672 AVG Training Acc 62.37 % AVG Validation Acc 61.55 %\n",
      "Epoch   187: reducing learning rate of group 0 to 1.0000e-08.\n",
      "Epoch:190/200 AVG Training Loss:0.646 AVG Validation Loss:0.672 AVG Training Acc 62.37 % AVG Validation Acc 61.55 %\n",
      "Epoch:200/200 AVG Training Loss:0.647 AVG Validation Loss:0.677 AVG Training Acc 62.28 % AVG Validation Acc 61.55 %\n",
      "Split 68\n"
     ]
    },
    {
     "data": {
      "application/vnd.jupyter.widget-view+json": {
       "model_id": "0e371ecd319f458caefad716077843d4",
       "version_major": 2,
       "version_minor": 0
      },
      "text/plain": [
       "  0%|          | 0/200 [00:00<?, ?it/s]"
      ]
     },
     "metadata": {},
     "output_type": "display_data"
    },
    {
     "name": "stdout",
     "output_type": "stream",
     "text": [
      "Epoch:10/200 AVG Training Loss:0.664 AVG Validation Loss:0.664 AVG Training Acc 61.89 % AVG Validation Acc 61.91 %\n",
      "Epoch:20/200 AVG Training Loss:0.659 AVG Validation Loss:0.663 AVG Training Acc 61.85 % AVG Validation Acc 61.91 %\n",
      "Epoch:30/200 AVG Training Loss:0.661 AVG Validation Loss:0.664 AVG Training Acc 61.88 % AVG Validation Acc 61.91 %\n",
      "Epoch:40/200 AVG Training Loss:0.657 AVG Validation Loss:0.662 AVG Training Acc 61.96 % AVG Validation Acc 61.91 %\n",
      "Epoch    40: reducing learning rate of group 0 to 1.0000e-03.\n",
      "Epoch:50/200 AVG Training Loss:0.651 AVG Validation Loss:0.667 AVG Training Acc 62.03 % AVG Validation Acc 61.91 %\n",
      "Epoch:60/200 AVG Training Loss:0.648 AVG Validation Loss:0.671 AVG Training Acc 62.25 % AVG Validation Acc 62.00 %\n",
      "Epoch:70/200 AVG Training Loss:0.644 AVG Validation Loss:0.678 AVG Training Acc 62.36 % AVG Validation Acc 61.91 %\n",
      "Epoch    71: reducing learning rate of group 0 to 1.0000e-04.\n",
      "Epoch:80/200 AVG Training Loss:0.645 AVG Validation Loss:0.677 AVG Training Acc 62.24 % AVG Validation Acc 61.82 %\n",
      "Epoch:90/200 AVG Training Loss:0.645 AVG Validation Loss:0.680 AVG Training Acc 62.27 % AVG Validation Acc 61.73 %\n",
      "Epoch:100/200 AVG Training Loss:0.644 AVG Validation Loss:0.679 AVG Training Acc 62.22 % AVG Validation Acc 61.82 %\n",
      "Epoch   102: reducing learning rate of group 0 to 1.0000e-05.\n",
      "Epoch:110/200 AVG Training Loss:0.645 AVG Validation Loss:0.678 AVG Training Acc 62.28 % AVG Validation Acc 61.82 %\n",
      "Epoch:120/200 AVG Training Loss:0.644 AVG Validation Loss:0.679 AVG Training Acc 62.30 % AVG Validation Acc 61.82 %\n",
      "Epoch:130/200 AVG Training Loss:0.645 AVG Validation Loss:0.679 AVG Training Acc 62.24 % AVG Validation Acc 61.82 %\n",
      "Epoch   133: reducing learning rate of group 0 to 1.0000e-06.\n",
      "Epoch:140/200 AVG Training Loss:0.644 AVG Validation Loss:0.679 AVG Training Acc 62.42 % AVG Validation Acc 61.82 %\n",
      "Epoch:150/200 AVG Training Loss:0.643 AVG Validation Loss:0.680 AVG Training Acc 62.30 % AVG Validation Acc 61.82 %\n",
      "Epoch:160/200 AVG Training Loss:0.644 AVG Validation Loss:0.680 AVG Training Acc 62.20 % AVG Validation Acc 61.82 %\n",
      "Epoch   164: reducing learning rate of group 0 to 1.0000e-07.\n",
      "Epoch:170/200 AVG Training Loss:0.644 AVG Validation Loss:0.680 AVG Training Acc 62.22 % AVG Validation Acc 61.82 %\n",
      "Epoch:180/200 AVG Training Loss:0.644 AVG Validation Loss:0.679 AVG Training Acc 62.21 % AVG Validation Acc 61.82 %\n",
      "Epoch:190/200 AVG Training Loss:0.644 AVG Validation Loss:0.680 AVG Training Acc 62.27 % AVG Validation Acc 61.82 %\n",
      "Epoch   195: reducing learning rate of group 0 to 1.0000e-08.\n",
      "Epoch:200/200 AVG Training Loss:0.645 AVG Validation Loss:0.680 AVG Training Acc 62.30 % AVG Validation Acc 61.82 %\n",
      "Split 69\n"
     ]
    },
    {
     "data": {
      "application/vnd.jupyter.widget-view+json": {
       "model_id": "56bfb1dcb8484731bd5ceda7866eb1fe",
       "version_major": 2,
       "version_minor": 0
      },
      "text/plain": [
       "  0%|          | 0/200 [00:00<?, ?it/s]"
      ]
     },
     "metadata": {},
     "output_type": "display_data"
    },
    {
     "name": "stdout",
     "output_type": "stream",
     "text": [
      "Epoch:10/200 AVG Training Loss:0.664 AVG Validation Loss:0.663 AVG Training Acc 61.89 % AVG Validation Acc 61.91 %\n",
      "Epoch:20/200 AVG Training Loss:0.661 AVG Validation Loss:0.659 AVG Training Acc 61.89 % AVG Validation Acc 61.91 %\n",
      "Epoch:30/200 AVG Training Loss:0.659 AVG Validation Loss:0.660 AVG Training Acc 61.94 % AVG Validation Acc 61.82 %\n",
      "Epoch    37: reducing learning rate of group 0 to 1.0000e-03.\n",
      "Epoch:40/200 AVG Training Loss:0.655 AVG Validation Loss:0.659 AVG Training Acc 62.10 % AVG Validation Acc 61.91 %\n",
      "Epoch:50/200 AVG Training Loss:0.654 AVG Validation Loss:0.661 AVG Training Acc 62.09 % AVG Validation Acc 61.82 %\n",
      "Epoch:60/200 AVG Training Loss:0.651 AVG Validation Loss:0.664 AVG Training Acc 62.17 % AVG Validation Acc 61.73 %\n",
      "Epoch    68: reducing learning rate of group 0 to 1.0000e-04.\n",
      "Epoch:70/200 AVG Training Loss:0.650 AVG Validation Loss:0.665 AVG Training Acc 62.25 % AVG Validation Acc 61.73 %\n",
      "Epoch:80/200 AVG Training Loss:0.652 AVG Validation Loss:0.665 AVG Training Acc 62.10 % AVG Validation Acc 61.73 %\n",
      "Epoch:90/200 AVG Training Loss:0.650 AVG Validation Loss:0.665 AVG Training Acc 62.17 % AVG Validation Acc 61.64 %\n",
      "Epoch    99: reducing learning rate of group 0 to 1.0000e-05.\n",
      "Epoch:100/200 AVG Training Loss:0.651 AVG Validation Loss:0.665 AVG Training Acc 62.14 % AVG Validation Acc 61.82 %\n",
      "Epoch:110/200 AVG Training Loss:0.650 AVG Validation Loss:0.666 AVG Training Acc 62.14 % AVG Validation Acc 61.64 %\n",
      "Epoch:120/200 AVG Training Loss:0.650 AVG Validation Loss:0.665 AVG Training Acc 62.09 % AVG Validation Acc 61.73 %\n",
      "Epoch:130/200 AVG Training Loss:0.651 AVG Validation Loss:0.666 AVG Training Acc 62.17 % AVG Validation Acc 61.64 %\n",
      "Epoch   130: reducing learning rate of group 0 to 1.0000e-06.\n",
      "Epoch:140/200 AVG Training Loss:0.650 AVG Validation Loss:0.665 AVG Training Acc 62.11 % AVG Validation Acc 61.73 %\n",
      "Epoch:150/200 AVG Training Loss:0.651 AVG Validation Loss:0.666 AVG Training Acc 62.15 % AVG Validation Acc 61.64 %\n",
      "Epoch:160/200 AVG Training Loss:0.651 AVG Validation Loss:0.665 AVG Training Acc 62.15 % AVG Validation Acc 61.73 %\n",
      "Epoch   161: reducing learning rate of group 0 to 1.0000e-07.\n",
      "Epoch:170/200 AVG Training Loss:0.650 AVG Validation Loss:0.665 AVG Training Acc 62.16 % AVG Validation Acc 61.73 %\n",
      "Epoch:180/200 AVG Training Loss:0.650 AVG Validation Loss:0.666 AVG Training Acc 62.23 % AVG Validation Acc 61.73 %\n",
      "Epoch:190/200 AVG Training Loss:0.650 AVG Validation Loss:0.666 AVG Training Acc 62.22 % AVG Validation Acc 61.73 %\n",
      "Epoch   192: reducing learning rate of group 0 to 1.0000e-08.\n",
      "Epoch:200/200 AVG Training Loss:0.650 AVG Validation Loss:0.665 AVG Training Acc 62.08 % AVG Validation Acc 61.73 %\n",
      "Split 70\n"
     ]
    },
    {
     "data": {
      "application/vnd.jupyter.widget-view+json": {
       "model_id": "00da8ae47c0a4167b3c983ceadeddeb7",
       "version_major": 2,
       "version_minor": 0
      },
      "text/plain": [
       "  0%|          | 0/200 [00:00<?, ?it/s]"
      ]
     },
     "metadata": {},
     "output_type": "display_data"
    },
    {
     "name": "stdout",
     "output_type": "stream",
     "text": [
      "Epoch:10/200 AVG Training Loss:0.664 AVG Validation Loss:0.663 AVG Training Acc 61.89 % AVG Validation Acc 61.91 %\n",
      "Epoch:20/200 AVG Training Loss:0.661 AVG Validation Loss:0.658 AVG Training Acc 61.89 % AVG Validation Acc 62.00 %\n",
      "Epoch:30/200 AVG Training Loss:0.661 AVG Validation Loss:0.660 AVG Training Acc 61.87 % AVG Validation Acc 62.18 %\n",
      "Epoch    33: reducing learning rate of group 0 to 1.0000e-03.\n",
      "Epoch:40/200 AVG Training Loss:0.657 AVG Validation Loss:0.656 AVG Training Acc 61.94 % AVG Validation Acc 62.00 %\n",
      "Epoch:50/200 AVG Training Loss:0.655 AVG Validation Loss:0.657 AVG Training Acc 62.01 % AVG Validation Acc 62.09 %\n",
      "Epoch:60/200 AVG Training Loss:0.654 AVG Validation Loss:0.657 AVG Training Acc 61.98 % AVG Validation Acc 62.18 %\n",
      "Epoch    64: reducing learning rate of group 0 to 1.0000e-04.\n",
      "Epoch:70/200 AVG Training Loss:0.652 AVG Validation Loss:0.657 AVG Training Acc 62.10 % AVG Validation Acc 62.09 %\n",
      "Epoch:80/200 AVG Training Loss:0.651 AVG Validation Loss:0.657 AVG Training Acc 62.01 % AVG Validation Acc 62.09 %\n",
      "Epoch:90/200 AVG Training Loss:0.651 AVG Validation Loss:0.657 AVG Training Acc 62.00 % AVG Validation Acc 62.09 %\n",
      "Epoch    95: reducing learning rate of group 0 to 1.0000e-05.\n",
      "Epoch:100/200 AVG Training Loss:0.651 AVG Validation Loss:0.657 AVG Training Acc 62.14 % AVG Validation Acc 62.09 %\n",
      "Epoch:110/200 AVG Training Loss:0.651 AVG Validation Loss:0.657 AVG Training Acc 62.06 % AVG Validation Acc 62.09 %\n",
      "Epoch:120/200 AVG Training Loss:0.650 AVG Validation Loss:0.657 AVG Training Acc 62.03 % AVG Validation Acc 62.09 %\n",
      "Epoch   126: reducing learning rate of group 0 to 1.0000e-06.\n",
      "Epoch:130/200 AVG Training Loss:0.651 AVG Validation Loss:0.657 AVG Training Acc 62.02 % AVG Validation Acc 62.18 %\n",
      "Epoch:140/200 AVG Training Loss:0.651 AVG Validation Loss:0.657 AVG Training Acc 62.03 % AVG Validation Acc 62.18 %\n",
      "Epoch:150/200 AVG Training Loss:0.651 AVG Validation Loss:0.657 AVG Training Acc 62.12 % AVG Validation Acc 62.18 %\n",
      "Epoch   157: reducing learning rate of group 0 to 1.0000e-07.\n",
      "Epoch:160/200 AVG Training Loss:0.651 AVG Validation Loss:0.657 AVG Training Acc 62.04 % AVG Validation Acc 62.18 %\n",
      "Epoch:170/200 AVG Training Loss:0.651 AVG Validation Loss:0.657 AVG Training Acc 62.09 % AVG Validation Acc 62.09 %\n",
      "Epoch:180/200 AVG Training Loss:0.650 AVG Validation Loss:0.657 AVG Training Acc 62.08 % AVG Validation Acc 62.09 %\n",
      "Epoch   188: reducing learning rate of group 0 to 1.0000e-08.\n",
      "Epoch:190/200 AVG Training Loss:0.651 AVG Validation Loss:0.657 AVG Training Acc 61.96 % AVG Validation Acc 62.18 %\n",
      "Epoch:200/200 AVG Training Loss:0.651 AVG Validation Loss:0.657 AVG Training Acc 62.06 % AVG Validation Acc 62.18 %\n",
      "Split 71\n"
     ]
    },
    {
     "data": {
      "application/vnd.jupyter.widget-view+json": {
       "model_id": "e4f4d34c82bb4856a6d7c3743f795da4",
       "version_major": 2,
       "version_minor": 0
      },
      "text/plain": [
       "  0%|          | 0/200 [00:00<?, ?it/s]"
      ]
     },
     "metadata": {},
     "output_type": "display_data"
    },
    {
     "name": "stdout",
     "output_type": "stream",
     "text": [
      "Epoch:10/200 AVG Training Loss:0.664 AVG Validation Loss:0.663 AVG Training Acc 61.89 % AVG Validation Acc 61.95 %\n",
      "Epoch:20/200 AVG Training Loss:0.660 AVG Validation Loss:0.660 AVG Training Acc 61.84 % AVG Validation Acc 61.95 %\n",
      "Epoch:30/200 AVG Training Loss:0.659 AVG Validation Loss:0.660 AVG Training Acc 61.89 % AVG Validation Acc 61.95 %\n",
      "Epoch    33: reducing learning rate of group 0 to 1.0000e-03.\n",
      "Epoch:40/200 AVG Training Loss:0.655 AVG Validation Loss:0.661 AVG Training Acc 61.93 % AVG Validation Acc 61.86 %\n",
      "Epoch:50/200 AVG Training Loss:0.653 AVG Validation Loss:0.662 AVG Training Acc 62.05 % AVG Validation Acc 61.77 %\n",
      "Epoch:60/200 AVG Training Loss:0.651 AVG Validation Loss:0.663 AVG Training Acc 62.24 % AVG Validation Acc 61.68 %\n",
      "Epoch    64: reducing learning rate of group 0 to 1.0000e-04.\n",
      "Epoch:70/200 AVG Training Loss:0.650 AVG Validation Loss:0.663 AVG Training Acc 62.21 % AVG Validation Acc 61.86 %\n",
      "Epoch:80/200 AVG Training Loss:0.650 AVG Validation Loss:0.664 AVG Training Acc 62.37 % AVG Validation Acc 61.77 %\n",
      "Epoch:90/200 AVG Training Loss:0.649 AVG Validation Loss:0.665 AVG Training Acc 62.27 % AVG Validation Acc 61.68 %\n",
      "Epoch    95: reducing learning rate of group 0 to 1.0000e-05.\n",
      "Epoch:100/200 AVG Training Loss:0.649 AVG Validation Loss:0.664 AVG Training Acc 62.28 % AVG Validation Acc 61.68 %\n",
      "Epoch:110/200 AVG Training Loss:0.648 AVG Validation Loss:0.665 AVG Training Acc 62.30 % AVG Validation Acc 61.68 %\n",
      "Epoch:120/200 AVG Training Loss:0.649 AVG Validation Loss:0.664 AVG Training Acc 62.28 % AVG Validation Acc 61.68 %\n",
      "Epoch   126: reducing learning rate of group 0 to 1.0000e-06.\n",
      "Epoch:130/200 AVG Training Loss:0.649 AVG Validation Loss:0.664 AVG Training Acc 62.37 % AVG Validation Acc 61.68 %\n",
      "Epoch:140/200 AVG Training Loss:0.650 AVG Validation Loss:0.665 AVG Training Acc 62.18 % AVG Validation Acc 61.68 %\n",
      "Epoch:150/200 AVG Training Loss:0.650 AVG Validation Loss:0.665 AVG Training Acc 62.25 % AVG Validation Acc 61.68 %\n",
      "Epoch   157: reducing learning rate of group 0 to 1.0000e-07.\n",
      "Epoch:160/200 AVG Training Loss:0.649 AVG Validation Loss:0.665 AVG Training Acc 62.32 % AVG Validation Acc 61.68 %\n",
      "Epoch:170/200 AVG Training Loss:0.649 AVG Validation Loss:0.665 AVG Training Acc 62.16 % AVG Validation Acc 61.68 %\n",
      "Epoch:180/200 AVG Training Loss:0.649 AVG Validation Loss:0.665 AVG Training Acc 62.25 % AVG Validation Acc 61.68 %\n",
      "Epoch   188: reducing learning rate of group 0 to 1.0000e-08.\n",
      "Epoch:190/200 AVG Training Loss:0.649 AVG Validation Loss:0.665 AVG Training Acc 62.11 % AVG Validation Acc 61.68 %\n",
      "Epoch:200/200 AVG Training Loss:0.648 AVG Validation Loss:0.665 AVG Training Acc 62.21 % AVG Validation Acc 61.68 %\n",
      "Split 72\n"
     ]
    },
    {
     "data": {
      "application/vnd.jupyter.widget-view+json": {
       "model_id": "4b17e4ebba064f398630a21383227ca1",
       "version_major": 2,
       "version_minor": 0
      },
      "text/plain": [
       "  0%|          | 0/200 [00:00<?, ?it/s]"
      ]
     },
     "metadata": {},
     "output_type": "display_data"
    },
    {
     "name": "stdout",
     "output_type": "stream",
     "text": [
      "Epoch:10/200 AVG Training Loss:0.664 AVG Validation Loss:0.662 AVG Training Acc 61.90 % AVG Validation Acc 61.86 %\n",
      "Epoch:20/200 AVG Training Loss:0.660 AVG Validation Loss:0.660 AVG Training Acc 61.90 % AVG Validation Acc 61.86 %\n",
      "Epoch:30/200 AVG Training Loss:0.660 AVG Validation Loss:0.660 AVG Training Acc 61.88 % AVG Validation Acc 61.95 %\n",
      "Epoch:40/200 AVG Training Loss:0.658 AVG Validation Loss:0.659 AVG Training Acc 62.05 % AVG Validation Acc 62.04 %\n",
      "Epoch:50/200 AVG Training Loss:0.658 AVG Validation Loss:0.659 AVG Training Acc 61.92 % AVG Validation Acc 61.86 %\n",
      "Epoch    55: reducing learning rate of group 0 to 1.0000e-03.\n",
      "Epoch:60/200 AVG Training Loss:0.663 AVG Validation Loss:0.660 AVG Training Acc 61.81 % AVG Validation Acc 61.59 %\n",
      "Epoch:70/200 AVG Training Loss:0.661 AVG Validation Loss:0.660 AVG Training Acc 61.99 % AVG Validation Acc 61.86 %\n",
      "Epoch:80/200 AVG Training Loss:0.660 AVG Validation Loss:0.661 AVG Training Acc 61.94 % AVG Validation Acc 61.77 %\n",
      "Epoch    86: reducing learning rate of group 0 to 1.0000e-04.\n",
      "Epoch:90/200 AVG Training Loss:0.659 AVG Validation Loss:0.660 AVG Training Acc 61.95 % AVG Validation Acc 61.68 %\n",
      "Epoch:100/200 AVG Training Loss:0.658 AVG Validation Loss:0.661 AVG Training Acc 61.97 % AVG Validation Acc 61.77 %\n",
      "Epoch:110/200 AVG Training Loss:0.658 AVG Validation Loss:0.661 AVG Training Acc 61.97 % AVG Validation Acc 61.77 %\n",
      "Epoch   117: reducing learning rate of group 0 to 1.0000e-05.\n",
      "Epoch:120/200 AVG Training Loss:0.658 AVG Validation Loss:0.660 AVG Training Acc 61.99 % AVG Validation Acc 61.86 %\n",
      "Epoch:130/200 AVG Training Loss:0.658 AVG Validation Loss:0.660 AVG Training Acc 62.04 % AVG Validation Acc 61.77 %\n",
      "Epoch:140/200 AVG Training Loss:0.658 AVG Validation Loss:0.661 AVG Training Acc 62.02 % AVG Validation Acc 61.77 %\n",
      "Epoch   148: reducing learning rate of group 0 to 1.0000e-06.\n",
      "Epoch:150/200 AVG Training Loss:0.658 AVG Validation Loss:0.661 AVG Training Acc 62.03 % AVG Validation Acc 61.68 %\n",
      "Epoch:160/200 AVG Training Loss:0.657 AVG Validation Loss:0.660 AVG Training Acc 62.04 % AVG Validation Acc 61.77 %\n",
      "Epoch:170/200 AVG Training Loss:0.658 AVG Validation Loss:0.661 AVG Training Acc 62.11 % AVG Validation Acc 61.77 %\n",
      "Epoch   179: reducing learning rate of group 0 to 1.0000e-07.\n",
      "Epoch:180/200 AVG Training Loss:0.657 AVG Validation Loss:0.661 AVG Training Acc 62.09 % AVG Validation Acc 61.68 %\n",
      "Epoch:190/200 AVG Training Loss:0.659 AVG Validation Loss:0.661 AVG Training Acc 61.97 % AVG Validation Acc 61.68 %\n",
      "Epoch:200/200 AVG Training Loss:0.659 AVG Validation Loss:0.660 AVG Training Acc 61.95 % AVG Validation Acc 61.77 %\n",
      "Split 73\n"
     ]
    },
    {
     "data": {
      "application/vnd.jupyter.widget-view+json": {
       "model_id": "4307bc097d9748ce9bd6ccc239aeabb0",
       "version_major": 2,
       "version_minor": 0
      },
      "text/plain": [
       "  0%|          | 0/200 [00:00<?, ?it/s]"
      ]
     },
     "metadata": {},
     "output_type": "display_data"
    },
    {
     "name": "stdout",
     "output_type": "stream",
     "text": [
      "Epoch:10/200 AVG Training Loss:0.664 AVG Validation Loss:0.667 AVG Training Acc 61.90 % AVG Validation Acc 61.86 %\n",
      "Epoch    12: reducing learning rate of group 0 to 1.0000e-03.\n",
      "Epoch:20/200 AVG Training Loss:0.662 AVG Validation Loss:0.667 AVG Training Acc 61.91 % AVG Validation Acc 61.86 %\n",
      "Epoch:30/200 AVG Training Loss:0.661 AVG Validation Loss:0.667 AVG Training Acc 61.87 % AVG Validation Acc 61.86 %\n",
      "Epoch:40/200 AVG Training Loss:0.658 AVG Validation Loss:0.665 AVG Training Acc 61.91 % AVG Validation Acc 61.68 %\n",
      "Epoch    43: reducing learning rate of group 0 to 1.0000e-04.\n",
      "Epoch:50/200 AVG Training Loss:0.656 AVG Validation Loss:0.669 AVG Training Acc 61.91 % AVG Validation Acc 61.68 %\n",
      "Epoch:60/200 AVG Training Loss:0.655 AVG Validation Loss:0.669 AVG Training Acc 62.03 % AVG Validation Acc 61.68 %\n",
      "Epoch:70/200 AVG Training Loss:0.655 AVG Validation Loss:0.670 AVG Training Acc 62.08 % AVG Validation Acc 61.50 %\n",
      "Epoch    74: reducing learning rate of group 0 to 1.0000e-05.\n",
      "Epoch:80/200 AVG Training Loss:0.655 AVG Validation Loss:0.670 AVG Training Acc 61.89 % AVG Validation Acc 61.59 %\n",
      "Epoch:90/200 AVG Training Loss:0.654 AVG Validation Loss:0.670 AVG Training Acc 61.89 % AVG Validation Acc 61.50 %\n",
      "Epoch:100/200 AVG Training Loss:0.655 AVG Validation Loss:0.670 AVG Training Acc 62.09 % AVG Validation Acc 61.50 %\n",
      "Epoch   105: reducing learning rate of group 0 to 1.0000e-06.\n",
      "Epoch:110/200 AVG Training Loss:0.655 AVG Validation Loss:0.670 AVG Training Acc 61.96 % AVG Validation Acc 61.50 %\n",
      "Epoch:120/200 AVG Training Loss:0.655 AVG Validation Loss:0.670 AVG Training Acc 61.92 % AVG Validation Acc 61.50 %\n",
      "Epoch:130/200 AVG Training Loss:0.654 AVG Validation Loss:0.670 AVG Training Acc 61.98 % AVG Validation Acc 61.50 %\n",
      "Epoch   136: reducing learning rate of group 0 to 1.0000e-07.\n",
      "Epoch:140/200 AVG Training Loss:0.655 AVG Validation Loss:0.670 AVG Training Acc 62.02 % AVG Validation Acc 61.50 %\n",
      "Epoch:150/200 AVG Training Loss:0.655 AVG Validation Loss:0.670 AVG Training Acc 61.98 % AVG Validation Acc 61.50 %\n",
      "Epoch:160/200 AVG Training Loss:0.655 AVG Validation Loss:0.670 AVG Training Acc 61.92 % AVG Validation Acc 61.50 %\n",
      "Epoch   167: reducing learning rate of group 0 to 1.0000e-08.\n",
      "Epoch:170/200 AVG Training Loss:0.654 AVG Validation Loss:0.670 AVG Training Acc 61.93 % AVG Validation Acc 61.50 %\n",
      "Epoch:180/200 AVG Training Loss:0.655 AVG Validation Loss:0.670 AVG Training Acc 61.97 % AVG Validation Acc 61.50 %\n",
      "Epoch:190/200 AVG Training Loss:0.655 AVG Validation Loss:0.670 AVG Training Acc 61.99 % AVG Validation Acc 61.50 %\n",
      "Epoch:200/200 AVG Training Loss:0.655 AVG Validation Loss:0.670 AVG Training Acc 61.99 % AVG Validation Acc 61.50 %\n",
      "Split 74\n"
     ]
    },
    {
     "data": {
      "application/vnd.jupyter.widget-view+json": {
       "model_id": "fd0671eddd424d618cd42cb9ddb1b450",
       "version_major": 2,
       "version_minor": 0
      },
      "text/plain": [
       "  0%|          | 0/200 [00:00<?, ?it/s]"
      ]
     },
     "metadata": {},
     "output_type": "display_data"
    },
    {
     "name": "stdout",
     "output_type": "stream",
     "text": [
      "Epoch:10/200 AVG Training Loss:0.664 AVG Validation Loss:0.663 AVG Training Acc 61.84 % AVG Validation Acc 61.86 %\n",
      "Epoch:20/200 AVG Training Loss:0.661 AVG Validation Loss:0.658 AVG Training Acc 61.69 % AVG Validation Acc 61.86 %\n",
      "Epoch:30/200 AVG Training Loss:0.659 AVG Validation Loss:0.658 AVG Training Acc 61.86 % AVG Validation Acc 61.77 %\n",
      "Epoch    39: reducing learning rate of group 0 to 1.0000e-03.\n",
      "Epoch:40/200 AVG Training Loss:0.653 AVG Validation Loss:0.660 AVG Training Acc 62.11 % AVG Validation Acc 61.32 %\n",
      "Epoch:50/200 AVG Training Loss:0.646 AVG Validation Loss:0.662 AVG Training Acc 62.36 % AVG Validation Acc 61.41 %\n",
      "Epoch:60/200 AVG Training Loss:0.644 AVG Validation Loss:0.666 AVG Training Acc 62.63 % AVG Validation Acc 61.59 %\n",
      "Epoch:70/200 AVG Training Loss:0.642 AVG Validation Loss:0.667 AVG Training Acc 62.56 % AVG Validation Acc 61.41 %\n",
      "Epoch    70: reducing learning rate of group 0 to 1.0000e-04.\n",
      "Epoch:80/200 AVG Training Loss:0.640 AVG Validation Loss:0.668 AVG Training Acc 62.66 % AVG Validation Acc 61.77 %\n",
      "Epoch:90/200 AVG Training Loss:0.640 AVG Validation Loss:0.674 AVG Training Acc 62.52 % AVG Validation Acc 61.59 %\n",
      "Epoch:100/200 AVG Training Loss:0.641 AVG Validation Loss:0.669 AVG Training Acc 62.58 % AVG Validation Acc 61.68 %\n",
      "Epoch   101: reducing learning rate of group 0 to 1.0000e-05.\n",
      "Epoch:110/200 AVG Training Loss:0.640 AVG Validation Loss:0.669 AVG Training Acc 62.61 % AVG Validation Acc 61.68 %\n",
      "Epoch:120/200 AVG Training Loss:0.638 AVG Validation Loss:0.669 AVG Training Acc 62.68 % AVG Validation Acc 61.68 %\n",
      "Epoch:130/200 AVG Training Loss:0.639 AVG Validation Loss:0.668 AVG Training Acc 62.68 % AVG Validation Acc 61.59 %\n",
      "Epoch   132: reducing learning rate of group 0 to 1.0000e-06.\n",
      "Epoch:140/200 AVG Training Loss:0.641 AVG Validation Loss:0.669 AVG Training Acc 62.64 % AVG Validation Acc 61.68 %\n",
      "Epoch:150/200 AVG Training Loss:0.639 AVG Validation Loss:0.670 AVG Training Acc 62.72 % AVG Validation Acc 61.59 %\n",
      "Epoch:160/200 AVG Training Loss:0.639 AVG Validation Loss:0.671 AVG Training Acc 62.69 % AVG Validation Acc 61.59 %\n",
      "Epoch   163: reducing learning rate of group 0 to 1.0000e-07.\n",
      "Epoch:170/200 AVG Training Loss:0.640 AVG Validation Loss:0.668 AVG Training Acc 62.62 % AVG Validation Acc 61.59 %\n",
      "Epoch:180/200 AVG Training Loss:0.638 AVG Validation Loss:0.669 AVG Training Acc 62.59 % AVG Validation Acc 61.59 %\n",
      "Epoch:190/200 AVG Training Loss:0.639 AVG Validation Loss:0.668 AVG Training Acc 62.68 % AVG Validation Acc 61.68 %\n",
      "Epoch   194: reducing learning rate of group 0 to 1.0000e-08.\n",
      "Epoch:200/200 AVG Training Loss:0.640 AVG Validation Loss:0.673 AVG Training Acc 62.68 % AVG Validation Acc 61.59 %\n",
      "Split 75\n"
     ]
    },
    {
     "data": {
      "application/vnd.jupyter.widget-view+json": {
       "model_id": "508573efda5448c88d6c1529c7c83e7e",
       "version_major": 2,
       "version_minor": 0
      },
      "text/plain": [
       "  0%|          | 0/200 [00:00<?, ?it/s]"
      ]
     },
     "metadata": {},
     "output_type": "display_data"
    },
    {
     "name": "stdout",
     "output_type": "stream",
     "text": [
      "Epoch:10/200 AVG Training Loss:0.663 AVG Validation Loss:0.660 AVG Training Acc 61.90 % AVG Validation Acc 61.86 %\n",
      "Epoch:20/200 AVG Training Loss:0.660 AVG Validation Loss:0.659 AVG Training Acc 61.90 % AVG Validation Acc 61.86 %\n",
      "Epoch:30/200 AVG Training Loss:0.659 AVG Validation Loss:0.658 AVG Training Acc 61.91 % AVG Validation Acc 61.86 %\n",
      "Epoch:40/200 AVG Training Loss:0.658 AVG Validation Loss:0.657 AVG Training Acc 62.05 % AVG Validation Acc 62.22 %\n",
      "Epoch:50/200 AVG Training Loss:0.657 AVG Validation Loss:0.662 AVG Training Acc 61.99 % AVG Validation Acc 61.77 %\n",
      "Epoch    55: reducing learning rate of group 0 to 1.0000e-03.\n",
      "Epoch:60/200 AVG Training Loss:0.664 AVG Validation Loss:0.663 AVG Training Acc 61.89 % AVG Validation Acc 61.86 %\n",
      "Epoch:70/200 AVG Training Loss:0.664 AVG Validation Loss:0.662 AVG Training Acc 61.89 % AVG Validation Acc 61.86 %\n",
      "Epoch:80/200 AVG Training Loss:0.662 AVG Validation Loss:0.660 AVG Training Acc 61.90 % AVG Validation Acc 61.77 %\n",
      "Epoch    86: reducing learning rate of group 0 to 1.0000e-04.\n",
      "Epoch:90/200 AVG Training Loss:0.660 AVG Validation Loss:0.662 AVG Training Acc 61.94 % AVG Validation Acc 61.77 %\n",
      "Epoch:100/200 AVG Training Loss:0.659 AVG Validation Loss:0.663 AVG Training Acc 61.99 % AVG Validation Acc 61.77 %\n",
      "Epoch:110/200 AVG Training Loss:0.659 AVG Validation Loss:0.663 AVG Training Acc 61.98 % AVG Validation Acc 61.77 %\n",
      "Epoch   117: reducing learning rate of group 0 to 1.0000e-05.\n",
      "Epoch:120/200 AVG Training Loss:0.659 AVG Validation Loss:0.663 AVG Training Acc 61.95 % AVG Validation Acc 61.77 %\n",
      "Epoch:130/200 AVG Training Loss:0.659 AVG Validation Loss:0.663 AVG Training Acc 61.96 % AVG Validation Acc 61.77 %\n",
      "Epoch:140/200 AVG Training Loss:0.659 AVG Validation Loss:0.663 AVG Training Acc 61.96 % AVG Validation Acc 61.77 %\n",
      "Epoch   148: reducing learning rate of group 0 to 1.0000e-06.\n",
      "Epoch:150/200 AVG Training Loss:0.659 AVG Validation Loss:0.663 AVG Training Acc 61.94 % AVG Validation Acc 61.77 %\n",
      "Epoch:160/200 AVG Training Loss:0.660 AVG Validation Loss:0.662 AVG Training Acc 61.93 % AVG Validation Acc 61.77 %\n",
      "Epoch:170/200 AVG Training Loss:0.658 AVG Validation Loss:0.662 AVG Training Acc 61.96 % AVG Validation Acc 61.77 %\n",
      "Epoch   179: reducing learning rate of group 0 to 1.0000e-07.\n",
      "Epoch:180/200 AVG Training Loss:0.659 AVG Validation Loss:0.662 AVG Training Acc 61.99 % AVG Validation Acc 61.77 %\n",
      "Epoch:190/200 AVG Training Loss:0.659 AVG Validation Loss:0.663 AVG Training Acc 61.93 % AVG Validation Acc 61.77 %\n",
      "Epoch:200/200 AVG Training Loss:0.658 AVG Validation Loss:0.662 AVG Training Acc 61.94 % AVG Validation Acc 61.77 %\n",
      "Split 76\n"
     ]
    },
    {
     "data": {
      "application/vnd.jupyter.widget-view+json": {
       "model_id": "2cd9a70797b74f90b21d1e4351fb05e0",
       "version_major": 2,
       "version_minor": 0
      },
      "text/plain": [
       "  0%|          | 0/200 [00:00<?, ?it/s]"
      ]
     },
     "metadata": {},
     "output_type": "display_data"
    },
    {
     "name": "stdout",
     "output_type": "stream",
     "text": [
      "Epoch:10/200 AVG Training Loss:0.665 AVG Validation Loss:0.663 AVG Training Acc 61.83 % AVG Validation Acc 61.91 %\n",
      "Epoch:20/200 AVG Training Loss:0.661 AVG Validation Loss:0.662 AVG Training Acc 61.86 % AVG Validation Acc 61.91 %\n",
      "Epoch:30/200 AVG Training Loss:0.659 AVG Validation Loss:0.659 AVG Training Acc 61.92 % AVG Validation Acc 61.91 %\n",
      "Epoch:40/200 AVG Training Loss:0.658 AVG Validation Loss:0.657 AVG Training Acc 61.88 % AVG Validation Acc 62.00 %\n",
      "Epoch:50/200 AVG Training Loss:0.656 AVG Validation Loss:0.659 AVG Training Acc 62.01 % AVG Validation Acc 62.00 %\n",
      "Epoch    51: reducing learning rate of group 0 to 1.0000e-03.\n",
      "Epoch:60/200 AVG Training Loss:0.645 AVG Validation Loss:0.665 AVG Training Acc 62.08 % AVG Validation Acc 62.00 %\n",
      "Epoch:70/200 AVG Training Loss:0.642 AVG Validation Loss:0.668 AVG Training Acc 62.19 % AVG Validation Acc 62.00 %\n",
      "Epoch:80/200 AVG Training Loss:0.639 AVG Validation Loss:0.671 AVG Training Acc 62.41 % AVG Validation Acc 62.00 %\n",
      "Epoch    82: reducing learning rate of group 0 to 1.0000e-04.\n",
      "Epoch:90/200 AVG Training Loss:0.638 AVG Validation Loss:0.672 AVG Training Acc 62.46 % AVG Validation Acc 62.00 %\n",
      "Epoch:100/200 AVG Training Loss:0.638 AVG Validation Loss:0.672 AVG Training Acc 62.40 % AVG Validation Acc 61.91 %\n",
      "Epoch:110/200 AVG Training Loss:0.637 AVG Validation Loss:0.673 AVG Training Acc 62.43 % AVG Validation Acc 61.91 %\n",
      "Epoch   113: reducing learning rate of group 0 to 1.0000e-05.\n",
      "Epoch:120/200 AVG Training Loss:0.637 AVG Validation Loss:0.673 AVG Training Acc 62.47 % AVG Validation Acc 61.91 %\n",
      "Epoch:130/200 AVG Training Loss:0.637 AVG Validation Loss:0.672 AVG Training Acc 62.35 % AVG Validation Acc 62.18 %\n",
      "Epoch:140/200 AVG Training Loss:0.637 AVG Validation Loss:0.672 AVG Training Acc 62.56 % AVG Validation Acc 62.00 %\n",
      "Epoch   144: reducing learning rate of group 0 to 1.0000e-06.\n",
      "Epoch:150/200 AVG Training Loss:0.637 AVG Validation Loss:0.673 AVG Training Acc 62.54 % AVG Validation Acc 62.09 %\n",
      "Epoch:160/200 AVG Training Loss:0.635 AVG Validation Loss:0.672 AVG Training Acc 62.49 % AVG Validation Acc 62.09 %\n",
      "Epoch:170/200 AVG Training Loss:0.637 AVG Validation Loss:0.672 AVG Training Acc 62.48 % AVG Validation Acc 61.91 %\n",
      "Epoch   175: reducing learning rate of group 0 to 1.0000e-07.\n",
      "Epoch:180/200 AVG Training Loss:0.635 AVG Validation Loss:0.673 AVG Training Acc 62.69 % AVG Validation Acc 62.09 %\n",
      "Epoch:190/200 AVG Training Loss:0.637 AVG Validation Loss:0.674 AVG Training Acc 62.48 % AVG Validation Acc 62.18 %\n",
      "Epoch:200/200 AVG Training Loss:0.637 AVG Validation Loss:0.673 AVG Training Acc 62.49 % AVG Validation Acc 62.00 %\n",
      "Split 77\n"
     ]
    },
    {
     "data": {
      "application/vnd.jupyter.widget-view+json": {
       "model_id": "65c2dfa7e0844786828222912474c6f1",
       "version_major": 2,
       "version_minor": 0
      },
      "text/plain": [
       "  0%|          | 0/200 [00:00<?, ?it/s]"
      ]
     },
     "metadata": {},
     "output_type": "display_data"
    },
    {
     "name": "stdout",
     "output_type": "stream",
     "text": [
      "Epoch:10/200 AVG Training Loss:0.663 AVG Validation Loss:0.662 AVG Training Acc 61.84 % AVG Validation Acc 61.91 %\n",
      "Epoch:20/200 AVG Training Loss:0.660 AVG Validation Loss:0.660 AVG Training Acc 61.96 % AVG Validation Acc 61.91 %\n",
      "Epoch:30/200 AVG Training Loss:0.660 AVG Validation Loss:0.660 AVG Training Acc 61.90 % AVG Validation Acc 61.82 %\n",
      "Epoch    39: reducing learning rate of group 0 to 1.0000e-03.\n",
      "Epoch:40/200 AVG Training Loss:0.657 AVG Validation Loss:0.659 AVG Training Acc 62.02 % AVG Validation Acc 61.82 %\n",
      "Epoch:50/200 AVG Training Loss:0.652 AVG Validation Loss:0.659 AVG Training Acc 62.18 % AVG Validation Acc 61.82 %\n",
      "Epoch:60/200 AVG Training Loss:0.651 AVG Validation Loss:0.664 AVG Training Acc 62.22 % AVG Validation Acc 61.82 %\n",
      "Epoch:70/200 AVG Training Loss:0.648 AVG Validation Loss:0.670 AVG Training Acc 62.23 % AVG Validation Acc 61.91 %\n",
      "Epoch    70: reducing learning rate of group 0 to 1.0000e-04.\n",
      "Epoch:80/200 AVG Training Loss:0.649 AVG Validation Loss:0.668 AVG Training Acc 62.23 % AVG Validation Acc 61.91 %\n",
      "Epoch:90/200 AVG Training Loss:0.647 AVG Validation Loss:0.671 AVG Training Acc 62.35 % AVG Validation Acc 62.09 %\n",
      "Epoch:100/200 AVG Training Loss:0.647 AVG Validation Loss:0.670 AVG Training Acc 62.29 % AVG Validation Acc 62.00 %\n",
      "Epoch   101: reducing learning rate of group 0 to 1.0000e-05.\n",
      "Epoch:110/200 AVG Training Loss:0.648 AVG Validation Loss:0.671 AVG Training Acc 62.29 % AVG Validation Acc 62.09 %\n",
      "Epoch:120/200 AVG Training Loss:0.647 AVG Validation Loss:0.671 AVG Training Acc 62.30 % AVG Validation Acc 62.09 %\n",
      "Epoch:130/200 AVG Training Loss:0.647 AVG Validation Loss:0.671 AVG Training Acc 62.20 % AVG Validation Acc 62.00 %\n",
      "Epoch   132: reducing learning rate of group 0 to 1.0000e-06.\n",
      "Epoch:140/200 AVG Training Loss:0.647 AVG Validation Loss:0.671 AVG Training Acc 62.24 % AVG Validation Acc 62.00 %\n",
      "Epoch:150/200 AVG Training Loss:0.647 AVG Validation Loss:0.670 AVG Training Acc 62.29 % AVG Validation Acc 62.00 %\n",
      "Epoch:160/200 AVG Training Loss:0.647 AVG Validation Loss:0.671 AVG Training Acc 62.30 % AVG Validation Acc 62.00 %\n",
      "Epoch   163: reducing learning rate of group 0 to 1.0000e-07.\n",
      "Epoch:170/200 AVG Training Loss:0.647 AVG Validation Loss:0.671 AVG Training Acc 62.28 % AVG Validation Acc 62.00 %\n",
      "Epoch:180/200 AVG Training Loss:0.647 AVG Validation Loss:0.671 AVG Training Acc 62.12 % AVG Validation Acc 62.00 %\n",
      "Epoch:190/200 AVG Training Loss:0.648 AVG Validation Loss:0.671 AVG Training Acc 62.23 % AVG Validation Acc 62.00 %\n",
      "Epoch   194: reducing learning rate of group 0 to 1.0000e-08.\n",
      "Epoch:200/200 AVG Training Loss:0.647 AVG Validation Loss:0.670 AVG Training Acc 62.21 % AVG Validation Acc 62.00 %\n",
      "Split 78\n"
     ]
    },
    {
     "data": {
      "application/vnd.jupyter.widget-view+json": {
       "model_id": "4b17aabc2b244200a15c0fead06336f0",
       "version_major": 2,
       "version_minor": 0
      },
      "text/plain": [
       "  0%|          | 0/200 [00:00<?, ?it/s]"
      ]
     },
     "metadata": {},
     "output_type": "display_data"
    },
    {
     "name": "stdout",
     "output_type": "stream",
     "text": [
      "Epoch:10/200 AVG Training Loss:0.664 AVG Validation Loss:0.664 AVG Training Acc 61.90 % AVG Validation Acc 61.91 %\n",
      "Epoch:20/200 AVG Training Loss:0.662 AVG Validation Loss:0.661 AVG Training Acc 61.95 % AVG Validation Acc 61.91 %\n",
      "Epoch:30/200 AVG Training Loss:0.659 AVG Validation Loss:0.659 AVG Training Acc 61.89 % AVG Validation Acc 61.82 %\n",
      "Epoch    37: reducing learning rate of group 0 to 1.0000e-03.\n",
      "Epoch:40/200 AVG Training Loss:0.659 AVG Validation Loss:0.659 AVG Training Acc 61.95 % AVG Validation Acc 61.82 %\n",
      "Epoch:50/200 AVG Training Loss:0.658 AVG Validation Loss:0.660 AVG Training Acc 61.96 % AVG Validation Acc 61.82 %\n",
      "Epoch:60/200 AVG Training Loss:0.657 AVG Validation Loss:0.660 AVG Training Acc 62.00 % AVG Validation Acc 61.82 %\n",
      "Epoch    68: reducing learning rate of group 0 to 1.0000e-04.\n",
      "Epoch:70/200 AVG Training Loss:0.656 AVG Validation Loss:0.661 AVG Training Acc 62.00 % AVG Validation Acc 61.82 %\n",
      "Epoch:80/200 AVG Training Loss:0.656 AVG Validation Loss:0.660 AVG Training Acc 61.98 % AVG Validation Acc 61.91 %\n",
      "Epoch:90/200 AVG Training Loss:0.657 AVG Validation Loss:0.660 AVG Training Acc 62.00 % AVG Validation Acc 61.82 %\n",
      "Epoch    99: reducing learning rate of group 0 to 1.0000e-05.\n",
      "Epoch:100/200 AVG Training Loss:0.656 AVG Validation Loss:0.663 AVG Training Acc 62.01 % AVG Validation Acc 61.82 %\n",
      "Epoch:110/200 AVG Training Loss:0.658 AVG Validation Loss:0.663 AVG Training Acc 62.03 % AVG Validation Acc 61.82 %\n",
      "Epoch:120/200 AVG Training Loss:0.657 AVG Validation Loss:0.663 AVG Training Acc 62.01 % AVG Validation Acc 61.82 %\n",
      "Epoch:130/200 AVG Training Loss:0.657 AVG Validation Loss:0.663 AVG Training Acc 62.01 % AVG Validation Acc 61.82 %\n",
      "Epoch   130: reducing learning rate of group 0 to 1.0000e-06.\n",
      "Epoch:140/200 AVG Training Loss:0.656 AVG Validation Loss:0.663 AVG Training Acc 62.01 % AVG Validation Acc 61.82 %\n",
      "Epoch:150/200 AVG Training Loss:0.657 AVG Validation Loss:0.664 AVG Training Acc 62.01 % AVG Validation Acc 61.82 %\n",
      "Epoch:160/200 AVG Training Loss:0.656 AVG Validation Loss:0.664 AVG Training Acc 62.01 % AVG Validation Acc 61.82 %\n",
      "Epoch   161: reducing learning rate of group 0 to 1.0000e-07.\n",
      "Epoch:170/200 AVG Training Loss:0.656 AVG Validation Loss:0.663 AVG Training Acc 62.00 % AVG Validation Acc 61.82 %\n",
      "Epoch:180/200 AVG Training Loss:0.656 AVG Validation Loss:0.663 AVG Training Acc 62.01 % AVG Validation Acc 61.82 %\n",
      "Epoch:190/200 AVG Training Loss:0.657 AVG Validation Loss:0.663 AVG Training Acc 62.00 % AVG Validation Acc 61.82 %\n",
      "Epoch   192: reducing learning rate of group 0 to 1.0000e-08.\n",
      "Epoch:200/200 AVG Training Loss:0.656 AVG Validation Loss:0.663 AVG Training Acc 61.99 % AVG Validation Acc 61.82 %\n",
      "Split 79\n"
     ]
    },
    {
     "data": {
      "application/vnd.jupyter.widget-view+json": {
       "model_id": "6effc9fe30fc4a72b8a904ccd4a6f7c5",
       "version_major": 2,
       "version_minor": 0
      },
      "text/plain": [
       "  0%|          | 0/200 [00:00<?, ?it/s]"
      ]
     },
     "metadata": {},
     "output_type": "display_data"
    },
    {
     "name": "stdout",
     "output_type": "stream",
     "text": [
      "Epoch:10/200 AVG Training Loss:0.665 AVG Validation Loss:0.664 AVG Training Acc 61.89 % AVG Validation Acc 61.91 %\n",
      "Epoch:20/200 AVG Training Loss:0.661 AVG Validation Loss:0.660 AVG Training Acc 61.91 % AVG Validation Acc 61.91 %\n",
      "Epoch:30/200 AVG Training Loss:0.660 AVG Validation Loss:0.661 AVG Training Acc 61.96 % AVG Validation Acc 61.82 %\n",
      "Epoch    32: reducing learning rate of group 0 to 1.0000e-03.\n",
      "Epoch:40/200 AVG Training Loss:0.654 AVG Validation Loss:0.663 AVG Training Acc 62.05 % AVG Validation Acc 61.64 %\n",
      "Epoch:50/200 AVG Training Loss:0.653 AVG Validation Loss:0.665 AVG Training Acc 62.00 % AVG Validation Acc 61.46 %\n",
      "Epoch:60/200 AVG Training Loss:0.651 AVG Validation Loss:0.668 AVG Training Acc 62.16 % AVG Validation Acc 61.55 %\n",
      "Epoch    63: reducing learning rate of group 0 to 1.0000e-04.\n",
      "Epoch:70/200 AVG Training Loss:0.649 AVG Validation Loss:0.669 AVG Training Acc 62.22 % AVG Validation Acc 61.46 %\n",
      "Epoch:80/200 AVG Training Loss:0.649 AVG Validation Loss:0.670 AVG Training Acc 62.23 % AVG Validation Acc 61.46 %\n",
      "Epoch:90/200 AVG Training Loss:0.649 AVG Validation Loss:0.671 AVG Training Acc 62.24 % AVG Validation Acc 61.46 %\n",
      "Epoch    94: reducing learning rate of group 0 to 1.0000e-05.\n",
      "Epoch:100/200 AVG Training Loss:0.650 AVG Validation Loss:0.672 AVG Training Acc 62.21 % AVG Validation Acc 61.46 %\n",
      "Epoch:110/200 AVG Training Loss:0.650 AVG Validation Loss:0.672 AVG Training Acc 62.21 % AVG Validation Acc 61.46 %\n",
      "Epoch:120/200 AVG Training Loss:0.648 AVG Validation Loss:0.672 AVG Training Acc 62.23 % AVG Validation Acc 61.46 %\n",
      "Epoch   125: reducing learning rate of group 0 to 1.0000e-06.\n",
      "Epoch:130/200 AVG Training Loss:0.649 AVG Validation Loss:0.671 AVG Training Acc 62.15 % AVG Validation Acc 61.46 %\n",
      "Epoch:140/200 AVG Training Loss:0.649 AVG Validation Loss:0.672 AVG Training Acc 62.20 % AVG Validation Acc 61.46 %\n",
      "Epoch:150/200 AVG Training Loss:0.649 AVG Validation Loss:0.672 AVG Training Acc 62.15 % AVG Validation Acc 61.46 %\n",
      "Epoch   156: reducing learning rate of group 0 to 1.0000e-07.\n",
      "Epoch:160/200 AVG Training Loss:0.649 AVG Validation Loss:0.672 AVG Training Acc 62.18 % AVG Validation Acc 61.46 %\n",
      "Epoch:170/200 AVG Training Loss:0.649 AVG Validation Loss:0.672 AVG Training Acc 62.19 % AVG Validation Acc 61.46 %\n",
      "Epoch:180/200 AVG Training Loss:0.649 AVG Validation Loss:0.671 AVG Training Acc 62.18 % AVG Validation Acc 61.46 %\n",
      "Epoch   187: reducing learning rate of group 0 to 1.0000e-08.\n",
      "Epoch:190/200 AVG Training Loss:0.648 AVG Validation Loss:0.672 AVG Training Acc 62.23 % AVG Validation Acc 61.46 %\n",
      "Epoch:200/200 AVG Training Loss:0.648 AVG Validation Loss:0.672 AVG Training Acc 62.19 % AVG Validation Acc 61.46 %\n",
      "Split 80\n"
     ]
    },
    {
     "data": {
      "application/vnd.jupyter.widget-view+json": {
       "model_id": "8ba38d24d33a4395b1e668146a00983b",
       "version_major": 2,
       "version_minor": 0
      },
      "text/plain": [
       "  0%|          | 0/200 [00:00<?, ?it/s]"
      ]
     },
     "metadata": {},
     "output_type": "display_data"
    },
    {
     "name": "stdout",
     "output_type": "stream",
     "text": [
      "Epoch:10/200 AVG Training Loss:0.660 AVG Validation Loss:0.664 AVG Training Acc 61.86 % AVG Validation Acc 61.82 %\n",
      "Epoch    17: reducing learning rate of group 0 to 1.0000e-03.\n",
      "Epoch:20/200 AVG Training Loss:0.657 AVG Validation Loss:0.669 AVG Training Acc 61.99 % AVG Validation Acc 61.82 %\n",
      "Epoch:30/200 AVG Training Loss:0.655 AVG Validation Loss:0.670 AVG Training Acc 62.10 % AVG Validation Acc 61.82 %\n",
      "Epoch:40/200 AVG Training Loss:0.653 AVG Validation Loss:0.671 AVG Training Acc 62.05 % AVG Validation Acc 61.82 %\n",
      "Epoch    48: reducing learning rate of group 0 to 1.0000e-04.\n",
      "Epoch:50/200 AVG Training Loss:0.651 AVG Validation Loss:0.674 AVG Training Acc 62.09 % AVG Validation Acc 61.82 %\n",
      "Epoch:60/200 AVG Training Loss:0.650 AVG Validation Loss:0.676 AVG Training Acc 62.14 % AVG Validation Acc 61.82 %\n",
      "Epoch:70/200 AVG Training Loss:0.650 AVG Validation Loss:0.676 AVG Training Acc 62.08 % AVG Validation Acc 61.82 %\n",
      "Epoch    79: reducing learning rate of group 0 to 1.0000e-05.\n",
      "Epoch:80/200 AVG Training Loss:0.651 AVG Validation Loss:0.676 AVG Training Acc 62.10 % AVG Validation Acc 61.91 %\n",
      "Epoch:90/200 AVG Training Loss:0.650 AVG Validation Loss:0.676 AVG Training Acc 62.15 % AVG Validation Acc 61.91 %\n",
      "Epoch:100/200 AVG Training Loss:0.650 AVG Validation Loss:0.676 AVG Training Acc 62.10 % AVG Validation Acc 61.82 %\n",
      "Epoch:110/200 AVG Training Loss:0.651 AVG Validation Loss:0.676 AVG Training Acc 62.09 % AVG Validation Acc 61.82 %\n",
      "Epoch   110: reducing learning rate of group 0 to 1.0000e-06.\n",
      "Epoch:120/200 AVG Training Loss:0.649 AVG Validation Loss:0.676 AVG Training Acc 62.16 % AVG Validation Acc 61.82 %\n",
      "Epoch:130/200 AVG Training Loss:0.650 AVG Validation Loss:0.676 AVG Training Acc 62.13 % AVG Validation Acc 61.82 %\n",
      "Epoch:140/200 AVG Training Loss:0.650 AVG Validation Loss:0.676 AVG Training Acc 62.19 % AVG Validation Acc 61.82 %\n",
      "Epoch   141: reducing learning rate of group 0 to 1.0000e-07.\n",
      "Epoch:150/200 AVG Training Loss:0.650 AVG Validation Loss:0.677 AVG Training Acc 62.20 % AVG Validation Acc 61.82 %\n",
      "Epoch:160/200 AVG Training Loss:0.650 AVG Validation Loss:0.677 AVG Training Acc 62.13 % AVG Validation Acc 61.82 %\n",
      "Epoch:170/200 AVG Training Loss:0.650 AVG Validation Loss:0.677 AVG Training Acc 62.15 % AVG Validation Acc 61.82 %\n",
      "Epoch   172: reducing learning rate of group 0 to 1.0000e-08.\n",
      "Epoch:180/200 AVG Training Loss:0.649 AVG Validation Loss:0.677 AVG Training Acc 62.16 % AVG Validation Acc 61.82 %\n",
      "Epoch:190/200 AVG Training Loss:0.649 AVG Validation Loss:0.677 AVG Training Acc 62.15 % AVG Validation Acc 61.82 %\n",
      "Epoch:200/200 AVG Training Loss:0.650 AVG Validation Loss:0.676 AVG Training Acc 62.14 % AVG Validation Acc 61.82 %\n",
      "Split 81\n"
     ]
    },
    {
     "data": {
      "application/vnd.jupyter.widget-view+json": {
       "model_id": "0b74550558f14c2f9b33197b4b38c98e",
       "version_major": 2,
       "version_minor": 0
      },
      "text/plain": [
       "  0%|          | 0/200 [00:00<?, ?it/s]"
      ]
     },
     "metadata": {},
     "output_type": "display_data"
    },
    {
     "name": "stdout",
     "output_type": "stream",
     "text": [
      "Epoch:10/200 AVG Training Loss:0.665 AVG Validation Loss:0.664 AVG Training Acc 61.92 % AVG Validation Acc 61.95 %\n",
      "Epoch    16: reducing learning rate of group 0 to 1.0000e-03.\n",
      "Epoch:20/200 AVG Training Loss:0.663 AVG Validation Loss:0.663 AVG Training Acc 61.93 % AVG Validation Acc 61.86 %\n",
      "Epoch:30/200 AVG Training Loss:0.662 AVG Validation Loss:0.663 AVG Training Acc 61.91 % AVG Validation Acc 61.86 %\n",
      "Epoch:40/200 AVG Training Loss:0.661 AVG Validation Loss:0.663 AVG Training Acc 61.93 % AVG Validation Acc 61.77 %\n",
      "Epoch:50/200 AVG Training Loss:0.660 AVG Validation Loss:0.662 AVG Training Acc 61.95 % AVG Validation Acc 61.77 %\n",
      "Epoch:60/200 AVG Training Loss:0.659 AVG Validation Loss:0.663 AVG Training Acc 62.02 % AVG Validation Acc 61.68 %\n",
      "Epoch    68: reducing learning rate of group 0 to 1.0000e-04.\n",
      "Epoch:70/200 AVG Training Loss:0.656 AVG Validation Loss:0.665 AVG Training Acc 62.16 % AVG Validation Acc 61.68 %\n",
      "Epoch:80/200 AVG Training Loss:0.654 AVG Validation Loss:0.666 AVG Training Acc 62.16 % AVG Validation Acc 61.77 %\n",
      "Epoch:90/200 AVG Training Loss:0.655 AVG Validation Loss:0.666 AVG Training Acc 62.18 % AVG Validation Acc 61.77 %\n",
      "Epoch    99: reducing learning rate of group 0 to 1.0000e-05.\n",
      "Epoch:100/200 AVG Training Loss:0.654 AVG Validation Loss:0.666 AVG Training Acc 62.16 % AVG Validation Acc 61.77 %\n",
      "Epoch:110/200 AVG Training Loss:0.654 AVG Validation Loss:0.666 AVG Training Acc 62.21 % AVG Validation Acc 61.77 %\n",
      "Epoch:120/200 AVG Training Loss:0.654 AVG Validation Loss:0.666 AVG Training Acc 62.26 % AVG Validation Acc 61.77 %\n",
      "Epoch:130/200 AVG Training Loss:0.654 AVG Validation Loss:0.666 AVG Training Acc 62.18 % AVG Validation Acc 61.77 %\n",
      "Epoch   130: reducing learning rate of group 0 to 1.0000e-06.\n",
      "Epoch:140/200 AVG Training Loss:0.654 AVG Validation Loss:0.666 AVG Training Acc 62.22 % AVG Validation Acc 61.77 %\n",
      "Epoch:150/200 AVG Training Loss:0.654 AVG Validation Loss:0.666 AVG Training Acc 62.18 % AVG Validation Acc 61.77 %\n",
      "Epoch:160/200 AVG Training Loss:0.654 AVG Validation Loss:0.666 AVG Training Acc 62.24 % AVG Validation Acc 61.77 %\n",
      "Epoch   161: reducing learning rate of group 0 to 1.0000e-07.\n",
      "Epoch:170/200 AVG Training Loss:0.654 AVG Validation Loss:0.666 AVG Training Acc 62.21 % AVG Validation Acc 61.77 %\n",
      "Epoch:180/200 AVG Training Loss:0.653 AVG Validation Loss:0.666 AVG Training Acc 62.19 % AVG Validation Acc 61.77 %\n",
      "Epoch:190/200 AVG Training Loss:0.654 AVG Validation Loss:0.666 AVG Training Acc 62.16 % AVG Validation Acc 61.77 %\n",
      "Epoch   192: reducing learning rate of group 0 to 1.0000e-08.\n",
      "Epoch:200/200 AVG Training Loss:0.653 AVG Validation Loss:0.666 AVG Training Acc 62.22 % AVG Validation Acc 61.77 %\n",
      "Split 82\n"
     ]
    },
    {
     "data": {
      "application/vnd.jupyter.widget-view+json": {
       "model_id": "846af9c163084f46b4eca84ab26849b4",
       "version_major": 2,
       "version_minor": 0
      },
      "text/plain": [
       "  0%|          | 0/200 [00:00<?, ?it/s]"
      ]
     },
     "metadata": {},
     "output_type": "display_data"
    },
    {
     "name": "stdout",
     "output_type": "stream",
     "text": [
      "Epoch:10/200 AVG Training Loss:0.661 AVG Validation Loss:0.661 AVG Training Acc 61.84 % AVG Validation Acc 61.86 %\n",
      "Epoch:20/200 AVG Training Loss:0.660 AVG Validation Loss:0.663 AVG Training Acc 61.91 % AVG Validation Acc 61.77 %\n",
      "Epoch    21: reducing learning rate of group 0 to 1.0000e-03.\n",
      "Epoch:30/200 AVG Training Loss:0.653 AVG Validation Loss:0.669 AVG Training Acc 61.99 % AVG Validation Acc 61.77 %\n",
      "Epoch:40/200 AVG Training Loss:0.652 AVG Validation Loss:0.675 AVG Training Acc 62.15 % AVG Validation Acc 61.77 %\n",
      "Epoch:50/200 AVG Training Loss:0.650 AVG Validation Loss:0.680 AVG Training Acc 62.16 % AVG Validation Acc 61.68 %\n",
      "Epoch    52: reducing learning rate of group 0 to 1.0000e-04.\n",
      "Epoch:60/200 AVG Training Loss:0.648 AVG Validation Loss:0.681 AVG Training Acc 62.23 % AVG Validation Acc 61.50 %\n",
      "Epoch:70/200 AVG Training Loss:0.647 AVG Validation Loss:0.680 AVG Training Acc 62.35 % AVG Validation Acc 61.41 %\n",
      "Epoch:80/200 AVG Training Loss:0.646 AVG Validation Loss:0.682 AVG Training Acc 62.30 % AVG Validation Acc 61.41 %\n",
      "Epoch    83: reducing learning rate of group 0 to 1.0000e-05.\n",
      "Epoch:90/200 AVG Training Loss:0.647 AVG Validation Loss:0.683 AVG Training Acc 62.27 % AVG Validation Acc 61.41 %\n",
      "Epoch:100/200 AVG Training Loss:0.645 AVG Validation Loss:0.685 AVG Training Acc 62.36 % AVG Validation Acc 61.41 %\n",
      "Epoch:110/200 AVG Training Loss:0.646 AVG Validation Loss:0.685 AVG Training Acc 62.32 % AVG Validation Acc 61.41 %\n",
      "Epoch   114: reducing learning rate of group 0 to 1.0000e-06.\n",
      "Epoch:120/200 AVG Training Loss:0.647 AVG Validation Loss:0.683 AVG Training Acc 62.29 % AVG Validation Acc 61.41 %\n",
      "Epoch:130/200 AVG Training Loss:0.646 AVG Validation Loss:0.682 AVG Training Acc 62.27 % AVG Validation Acc 61.41 %\n",
      "Epoch:140/200 AVG Training Loss:0.646 AVG Validation Loss:0.682 AVG Training Acc 62.24 % AVG Validation Acc 61.41 %\n",
      "Epoch   145: reducing learning rate of group 0 to 1.0000e-07.\n",
      "Epoch:150/200 AVG Training Loss:0.646 AVG Validation Loss:0.683 AVG Training Acc 62.31 % AVG Validation Acc 61.41 %\n",
      "Epoch:160/200 AVG Training Loss:0.646 AVG Validation Loss:0.685 AVG Training Acc 62.31 % AVG Validation Acc 61.41 %\n",
      "Epoch:170/200 AVG Training Loss:0.646 AVG Validation Loss:0.682 AVG Training Acc 62.36 % AVG Validation Acc 61.41 %\n",
      "Epoch   176: reducing learning rate of group 0 to 1.0000e-08.\n",
      "Epoch:180/200 AVG Training Loss:0.646 AVG Validation Loss:0.685 AVG Training Acc 62.29 % AVG Validation Acc 61.41 %\n",
      "Epoch:190/200 AVG Training Loss:0.645 AVG Validation Loss:0.687 AVG Training Acc 62.34 % AVG Validation Acc 61.41 %\n",
      "Epoch:200/200 AVG Training Loss:0.646 AVG Validation Loss:0.685 AVG Training Acc 62.29 % AVG Validation Acc 61.41 %\n",
      "Split 83\n"
     ]
    },
    {
     "data": {
      "application/vnd.jupyter.widget-view+json": {
       "model_id": "23ac6da909094592b69da7ec3c9aa42d",
       "version_major": 2,
       "version_minor": 0
      },
      "text/plain": [
       "  0%|          | 0/200 [00:00<?, ?it/s]"
      ]
     },
     "metadata": {},
     "output_type": "display_data"
    },
    {
     "name": "stdout",
     "output_type": "stream",
     "text": [
      "Epoch:10/200 AVG Training Loss:0.664 AVG Validation Loss:0.665 AVG Training Acc 61.94 % AVG Validation Acc 61.86 %\n",
      "Epoch    12: reducing learning rate of group 0 to 1.0000e-03.\n",
      "Epoch:20/200 AVG Training Loss:0.663 AVG Validation Loss:0.665 AVG Training Acc 61.96 % AVG Validation Acc 61.50 %\n",
      "Epoch:30/200 AVG Training Loss:0.662 AVG Validation Loss:0.665 AVG Training Acc 61.97 % AVG Validation Acc 61.50 %\n",
      "Epoch:40/200 AVG Training Loss:0.661 AVG Validation Loss:0.662 AVG Training Acc 62.02 % AVG Validation Acc 61.59 %\n",
      "Epoch:50/200 AVG Training Loss:0.659 AVG Validation Loss:0.657 AVG Training Acc 62.01 % AVG Validation Acc 61.68 %\n",
      "Epoch:60/200 AVG Training Loss:0.657 AVG Validation Loss:0.657 AVG Training Acc 62.00 % AVG Validation Acc 61.68 %\n",
      "Epoch    67: reducing learning rate of group 0 to 1.0000e-04.\n",
      "Epoch:70/200 AVG Training Loss:0.655 AVG Validation Loss:0.658 AVG Training Acc 62.11 % AVG Validation Acc 61.68 %\n",
      "Epoch:80/200 AVG Training Loss:0.655 AVG Validation Loss:0.658 AVG Training Acc 62.11 % AVG Validation Acc 61.59 %\n",
      "Epoch:90/200 AVG Training Loss:0.654 AVG Validation Loss:0.658 AVG Training Acc 62.14 % AVG Validation Acc 61.59 %\n",
      "Epoch    98: reducing learning rate of group 0 to 1.0000e-05.\n",
      "Epoch:100/200 AVG Training Loss:0.654 AVG Validation Loss:0.657 AVG Training Acc 62.15 % AVG Validation Acc 61.59 %\n",
      "Epoch:110/200 AVG Training Loss:0.654 AVG Validation Loss:0.658 AVG Training Acc 62.08 % AVG Validation Acc 61.59 %\n",
      "Epoch:120/200 AVG Training Loss:0.654 AVG Validation Loss:0.658 AVG Training Acc 62.15 % AVG Validation Acc 61.59 %\n",
      "Epoch   129: reducing learning rate of group 0 to 1.0000e-06.\n",
      "Epoch:130/200 AVG Training Loss:0.654 AVG Validation Loss:0.658 AVG Training Acc 62.14 % AVG Validation Acc 61.59 %\n",
      "Epoch:140/200 AVG Training Loss:0.654 AVG Validation Loss:0.658 AVG Training Acc 62.08 % AVG Validation Acc 61.59 %\n",
      "Epoch:150/200 AVG Training Loss:0.653 AVG Validation Loss:0.657 AVG Training Acc 62.11 % AVG Validation Acc 61.59 %\n",
      "Epoch:160/200 AVG Training Loss:0.653 AVG Validation Loss:0.658 AVG Training Acc 62.12 % AVG Validation Acc 61.59 %\n",
      "Epoch   160: reducing learning rate of group 0 to 1.0000e-07.\n",
      "Epoch:170/200 AVG Training Loss:0.654 AVG Validation Loss:0.658 AVG Training Acc 62.08 % AVG Validation Acc 61.59 %\n",
      "Epoch:180/200 AVG Training Loss:0.654 AVG Validation Loss:0.658 AVG Training Acc 62.10 % AVG Validation Acc 61.59 %\n",
      "Epoch:190/200 AVG Training Loss:0.654 AVG Validation Loss:0.658 AVG Training Acc 62.07 % AVG Validation Acc 61.59 %\n",
      "Epoch   191: reducing learning rate of group 0 to 1.0000e-08.\n",
      "Epoch:200/200 AVG Training Loss:0.653 AVG Validation Loss:0.658 AVG Training Acc 62.13 % AVG Validation Acc 61.59 %\n",
      "Split 84\n"
     ]
    },
    {
     "data": {
      "application/vnd.jupyter.widget-view+json": {
       "model_id": "c9faf30e2e054f08b6e5c58daaf2cac8",
       "version_major": 2,
       "version_minor": 0
      },
      "text/plain": [
       "  0%|          | 0/200 [00:00<?, ?it/s]"
      ]
     },
     "metadata": {},
     "output_type": "display_data"
    },
    {
     "name": "stdout",
     "output_type": "stream",
     "text": [
      "Epoch:10/200 AVG Training Loss:0.664 AVG Validation Loss:0.664 AVG Training Acc 61.90 % AVG Validation Acc 61.86 %\n",
      "Epoch:20/200 AVG Training Loss:0.659 AVG Validation Loss:0.664 AVG Training Acc 61.93 % AVG Validation Acc 61.86 %\n",
      "Epoch    27: reducing learning rate of group 0 to 1.0000e-03.\n",
      "Epoch:30/200 AVG Training Loss:0.656 AVG Validation Loss:0.667 AVG Training Acc 62.09 % AVG Validation Acc 61.68 %\n",
      "Epoch:40/200 AVG Training Loss:0.653 AVG Validation Loss:0.669 AVG Training Acc 62.16 % AVG Validation Acc 61.50 %\n",
      "Epoch:50/200 AVG Training Loss:0.651 AVG Validation Loss:0.675 AVG Training Acc 62.10 % AVG Validation Acc 61.41 %\n",
      "Epoch    58: reducing learning rate of group 0 to 1.0000e-04.\n",
      "Epoch:60/200 AVG Training Loss:0.650 AVG Validation Loss:0.675 AVG Training Acc 62.14 % AVG Validation Acc 61.50 %\n",
      "Epoch:70/200 AVG Training Loss:0.649 AVG Validation Loss:0.677 AVG Training Acc 62.23 % AVG Validation Acc 61.50 %\n",
      "Epoch:80/200 AVG Training Loss:0.649 AVG Validation Loss:0.677 AVG Training Acc 62.21 % AVG Validation Acc 61.50 %\n",
      "Epoch    89: reducing learning rate of group 0 to 1.0000e-05.\n",
      "Epoch:90/200 AVG Training Loss:0.649 AVG Validation Loss:0.678 AVG Training Acc 62.14 % AVG Validation Acc 61.50 %\n",
      "Epoch:100/200 AVG Training Loss:0.648 AVG Validation Loss:0.680 AVG Training Acc 62.24 % AVG Validation Acc 61.50 %\n",
      "Epoch:110/200 AVG Training Loss:0.648 AVG Validation Loss:0.679 AVG Training Acc 62.29 % AVG Validation Acc 61.50 %\n",
      "Epoch:120/200 AVG Training Loss:0.648 AVG Validation Loss:0.679 AVG Training Acc 62.27 % AVG Validation Acc 61.50 %\n",
      "Epoch   120: reducing learning rate of group 0 to 1.0000e-06.\n",
      "Epoch:130/200 AVG Training Loss:0.649 AVG Validation Loss:0.679 AVG Training Acc 62.13 % AVG Validation Acc 61.50 %\n",
      "Epoch:140/200 AVG Training Loss:0.648 AVG Validation Loss:0.679 AVG Training Acc 62.25 % AVG Validation Acc 61.50 %\n",
      "Epoch:150/200 AVG Training Loss:0.647 AVG Validation Loss:0.679 AVG Training Acc 62.30 % AVG Validation Acc 61.50 %\n",
      "Epoch   151: reducing learning rate of group 0 to 1.0000e-07.\n",
      "Epoch:160/200 AVG Training Loss:0.648 AVG Validation Loss:0.679 AVG Training Acc 62.22 % AVG Validation Acc 61.50 %\n",
      "Epoch:170/200 AVG Training Loss:0.648 AVG Validation Loss:0.679 AVG Training Acc 62.21 % AVG Validation Acc 61.50 %\n",
      "Epoch:180/200 AVG Training Loss:0.648 AVG Validation Loss:0.680 AVG Training Acc 62.32 % AVG Validation Acc 61.50 %\n",
      "Epoch   182: reducing learning rate of group 0 to 1.0000e-08.\n",
      "Epoch:190/200 AVG Training Loss:0.648 AVG Validation Loss:0.680 AVG Training Acc 62.15 % AVG Validation Acc 61.50 %\n",
      "Epoch:200/200 AVG Training Loss:0.648 AVG Validation Loss:0.679 AVG Training Acc 62.22 % AVG Validation Acc 61.50 %\n",
      "Split 85\n"
     ]
    },
    {
     "data": {
      "application/vnd.jupyter.widget-view+json": {
       "model_id": "47890bbc328b40cda50ce288c54238d4",
       "version_major": 2,
       "version_minor": 0
      },
      "text/plain": [
       "  0%|          | 0/200 [00:00<?, ?it/s]"
      ]
     },
     "metadata": {},
     "output_type": "display_data"
    },
    {
     "name": "stdout",
     "output_type": "stream",
     "text": [
      "Epoch:10/200 AVG Training Loss:0.664 AVG Validation Loss:0.663 AVG Training Acc 61.87 % AVG Validation Acc 61.86 %\n",
      "Epoch    17: reducing learning rate of group 0 to 1.0000e-03.\n",
      "Epoch:20/200 AVG Training Loss:0.663 AVG Validation Loss:0.662 AVG Training Acc 61.91 % AVG Validation Acc 61.86 %\n",
      "Epoch:30/200 AVG Training Loss:0.662 AVG Validation Loss:0.661 AVG Training Acc 61.95 % AVG Validation Acc 61.86 %\n",
      "Epoch:40/200 AVG Training Loss:0.660 AVG Validation Loss:0.659 AVG Training Acc 61.97 % AVG Validation Acc 61.95 %\n",
      "Epoch:50/200 AVG Training Loss:0.659 AVG Validation Loss:0.659 AVG Training Acc 61.92 % AVG Validation Acc 61.86 %\n",
      "Epoch:60/200 AVG Training Loss:0.658 AVG Validation Loss:0.660 AVG Training Acc 61.96 % AVG Validation Acc 61.95 %\n",
      "Epoch    60: reducing learning rate of group 0 to 1.0000e-04.\n",
      "Epoch:70/200 AVG Training Loss:0.656 AVG Validation Loss:0.660 AVG Training Acc 61.98 % AVG Validation Acc 62.04 %\n",
      "Epoch:80/200 AVG Training Loss:0.657 AVG Validation Loss:0.660 AVG Training Acc 61.99 % AVG Validation Acc 62.04 %\n",
      "Epoch:90/200 AVG Training Loss:0.657 AVG Validation Loss:0.660 AVG Training Acc 61.98 % AVG Validation Acc 62.04 %\n",
      "Epoch    91: reducing learning rate of group 0 to 1.0000e-05.\n",
      "Epoch:100/200 AVG Training Loss:0.657 AVG Validation Loss:0.660 AVG Training Acc 61.98 % AVG Validation Acc 62.04 %\n",
      "Epoch:110/200 AVG Training Loss:0.657 AVG Validation Loss:0.661 AVG Training Acc 61.97 % AVG Validation Acc 62.04 %\n",
      "Epoch:120/200 AVG Training Loss:0.657 AVG Validation Loss:0.661 AVG Training Acc 61.99 % AVG Validation Acc 62.04 %\n",
      "Epoch   122: reducing learning rate of group 0 to 1.0000e-06.\n",
      "Epoch:130/200 AVG Training Loss:0.657 AVG Validation Loss:0.661 AVG Training Acc 62.00 % AVG Validation Acc 62.04 %\n",
      "Epoch:140/200 AVG Training Loss:0.656 AVG Validation Loss:0.660 AVG Training Acc 61.96 % AVG Validation Acc 62.04 %\n",
      "Epoch:150/200 AVG Training Loss:0.657 AVG Validation Loss:0.661 AVG Training Acc 61.98 % AVG Validation Acc 62.04 %\n",
      "Epoch   153: reducing learning rate of group 0 to 1.0000e-07.\n",
      "Epoch:160/200 AVG Training Loss:0.657 AVG Validation Loss:0.661 AVG Training Acc 61.98 % AVG Validation Acc 62.04 %\n",
      "Epoch:170/200 AVG Training Loss:0.657 AVG Validation Loss:0.661 AVG Training Acc 61.98 % AVG Validation Acc 62.04 %\n",
      "Epoch:180/200 AVG Training Loss:0.656 AVG Validation Loss:0.661 AVG Training Acc 62.02 % AVG Validation Acc 62.04 %\n",
      "Epoch   184: reducing learning rate of group 0 to 1.0000e-08.\n",
      "Epoch:190/200 AVG Training Loss:0.657 AVG Validation Loss:0.661 AVG Training Acc 61.95 % AVG Validation Acc 62.04 %\n",
      "Epoch:200/200 AVG Training Loss:0.657 AVG Validation Loss:0.661 AVG Training Acc 61.99 % AVG Validation Acc 62.04 %\n",
      "Split 86\n"
     ]
    },
    {
     "data": {
      "application/vnd.jupyter.widget-view+json": {
       "model_id": "d8db68975fa14a9d801fdfadd33799c4",
       "version_major": 2,
       "version_minor": 0
      },
      "text/plain": [
       "  0%|          | 0/200 [00:00<?, ?it/s]"
      ]
     },
     "metadata": {},
     "output_type": "display_data"
    },
    {
     "name": "stdout",
     "output_type": "stream",
     "text": [
      "Epoch:10/200 AVG Training Loss:0.661 AVG Validation Loss:0.662 AVG Training Acc 61.83 % AVG Validation Acc 61.91 %\n",
      "Epoch:20/200 AVG Training Loss:0.659 AVG Validation Loss:0.659 AVG Training Acc 62.02 % AVG Validation Acc 61.91 %\n",
      "Epoch:30/200 AVG Training Loss:0.655 AVG Validation Loss:0.661 AVG Training Acc 61.91 % AVG Validation Acc 61.82 %\n",
      "Epoch    34: reducing learning rate of group 0 to 1.0000e-03.\n",
      "Epoch:40/200 AVG Training Loss:0.647 AVG Validation Loss:0.665 AVG Training Acc 62.09 % AVG Validation Acc 61.55 %\n",
      "Epoch:50/200 AVG Training Loss:0.643 AVG Validation Loss:0.668 AVG Training Acc 62.39 % AVG Validation Acc 60.83 %\n",
      "Epoch:60/200 AVG Training Loss:0.637 AVG Validation Loss:0.670 AVG Training Acc 63.06 % AVG Validation Acc 61.64 %\n",
      "Epoch    65: reducing learning rate of group 0 to 1.0000e-04.\n",
      "Epoch:70/200 AVG Training Loss:0.633 AVG Validation Loss:0.664 AVG Training Acc 63.03 % AVG Validation Acc 61.91 %\n",
      "Epoch:80/200 AVG Training Loss:0.633 AVG Validation Loss:0.669 AVG Training Acc 63.36 % AVG Validation Acc 62.00 %\n",
      "Epoch:90/200 AVG Training Loss:0.635 AVG Validation Loss:0.666 AVG Training Acc 63.14 % AVG Validation Acc 62.27 %\n",
      "Epoch    96: reducing learning rate of group 0 to 1.0000e-05.\n",
      "Epoch:100/200 AVG Training Loss:0.631 AVG Validation Loss:0.668 AVG Training Acc 63.25 % AVG Validation Acc 61.82 %\n",
      "Epoch:110/200 AVG Training Loss:0.632 AVG Validation Loss:0.668 AVG Training Acc 63.22 % AVG Validation Acc 61.82 %\n",
      "Epoch:120/200 AVG Training Loss:0.631 AVG Validation Loss:0.668 AVG Training Acc 63.42 % AVG Validation Acc 62.45 %\n",
      "Epoch   127: reducing learning rate of group 0 to 1.0000e-06.\n",
      "Epoch:130/200 AVG Training Loss:0.634 AVG Validation Loss:0.672 AVG Training Acc 62.87 % AVG Validation Acc 62.09 %\n",
      "Epoch:140/200 AVG Training Loss:0.632 AVG Validation Loss:0.671 AVG Training Acc 63.17 % AVG Validation Acc 62.27 %\n",
      "Epoch:150/200 AVG Training Loss:0.632 AVG Validation Loss:0.669 AVG Training Acc 63.34 % AVG Validation Acc 62.00 %\n",
      "Epoch   158: reducing learning rate of group 0 to 1.0000e-07.\n",
      "Epoch:160/200 AVG Training Loss:0.632 AVG Validation Loss:0.669 AVG Training Acc 63.25 % AVG Validation Acc 61.91 %\n",
      "Epoch:170/200 AVG Training Loss:0.630 AVG Validation Loss:0.668 AVG Training Acc 63.41 % AVG Validation Acc 62.18 %\n",
      "Epoch:180/200 AVG Training Loss:0.632 AVG Validation Loss:0.669 AVG Training Acc 62.91 % AVG Validation Acc 61.64 %\n",
      "Epoch   189: reducing learning rate of group 0 to 1.0000e-08.\n",
      "Epoch:190/200 AVG Training Loss:0.631 AVG Validation Loss:0.670 AVG Training Acc 63.41 % AVG Validation Acc 62.00 %\n",
      "Epoch:200/200 AVG Training Loss:0.631 AVG Validation Loss:0.669 AVG Training Acc 63.46 % AVG Validation Acc 62.09 %\n",
      "Split 87\n"
     ]
    },
    {
     "data": {
      "application/vnd.jupyter.widget-view+json": {
       "model_id": "306cd2a967e5435db780b672af455bf4",
       "version_major": 2,
       "version_minor": 0
      },
      "text/plain": [
       "  0%|          | 0/200 [00:00<?, ?it/s]"
      ]
     },
     "metadata": {},
     "output_type": "display_data"
    },
    {
     "name": "stdout",
     "output_type": "stream",
     "text": [
      "Epoch:10/200 AVG Training Loss:0.664 AVG Validation Loss:0.665 AVG Training Acc 61.88 % AVG Validation Acc 61.91 %\n",
      "Epoch:20/200 AVG Training Loss:0.661 AVG Validation Loss:0.662 AVG Training Acc 61.87 % AVG Validation Acc 62.00 %\n",
      "Epoch:30/200 AVG Training Loss:0.660 AVG Validation Loss:0.659 AVG Training Acc 61.87 % AVG Validation Acc 62.00 %\n",
      "Epoch:40/200 AVG Training Loss:0.657 AVG Validation Loss:0.665 AVG Training Acc 62.00 % AVG Validation Acc 62.00 %\n",
      "Epoch    41: reducing learning rate of group 0 to 1.0000e-03.\n",
      "Epoch:50/200 AVG Training Loss:0.652 AVG Validation Loss:0.668 AVG Training Acc 62.09 % AVG Validation Acc 62.00 %\n",
      "Epoch:60/200 AVG Training Loss:0.650 AVG Validation Loss:0.671 AVG Training Acc 62.12 % AVG Validation Acc 62.09 %\n",
      "Epoch:70/200 AVG Training Loss:0.647 AVG Validation Loss:0.677 AVG Training Acc 62.20 % AVG Validation Acc 61.91 %\n",
      "Epoch    72: reducing learning rate of group 0 to 1.0000e-04.\n",
      "Epoch:80/200 AVG Training Loss:0.644 AVG Validation Loss:0.680 AVG Training Acc 62.37 % AVG Validation Acc 61.73 %\n",
      "Epoch:90/200 AVG Training Loss:0.643 AVG Validation Loss:0.682 AVG Training Acc 62.42 % AVG Validation Acc 61.73 %\n",
      "Epoch:100/200 AVG Training Loss:0.644 AVG Validation Loss:0.681 AVG Training Acc 62.41 % AVG Validation Acc 61.73 %\n",
      "Epoch   103: reducing learning rate of group 0 to 1.0000e-05.\n",
      "Epoch:110/200 AVG Training Loss:0.643 AVG Validation Loss:0.682 AVG Training Acc 62.38 % AVG Validation Acc 61.73 %\n",
      "Epoch:120/200 AVG Training Loss:0.644 AVG Validation Loss:0.681 AVG Training Acc 62.37 % AVG Validation Acc 61.73 %\n",
      "Epoch:130/200 AVG Training Loss:0.644 AVG Validation Loss:0.683 AVG Training Acc 62.52 % AVG Validation Acc 61.73 %\n",
      "Epoch   134: reducing learning rate of group 0 to 1.0000e-06.\n",
      "Epoch:140/200 AVG Training Loss:0.643 AVG Validation Loss:0.682 AVG Training Acc 62.35 % AVG Validation Acc 61.73 %\n",
      "Epoch:150/200 AVG Training Loss:0.643 AVG Validation Loss:0.683 AVG Training Acc 62.48 % AVG Validation Acc 61.82 %\n",
      "Epoch:160/200 AVG Training Loss:0.642 AVG Validation Loss:0.680 AVG Training Acc 62.40 % AVG Validation Acc 61.82 %\n",
      "Epoch   165: reducing learning rate of group 0 to 1.0000e-07.\n",
      "Epoch:170/200 AVG Training Loss:0.643 AVG Validation Loss:0.683 AVG Training Acc 62.26 % AVG Validation Acc 61.73 %\n",
      "Epoch:180/200 AVG Training Loss:0.643 AVG Validation Loss:0.683 AVG Training Acc 62.38 % AVG Validation Acc 61.73 %\n",
      "Epoch:190/200 AVG Training Loss:0.643 AVG Validation Loss:0.682 AVG Training Acc 62.28 % AVG Validation Acc 61.64 %\n",
      "Epoch   196: reducing learning rate of group 0 to 1.0000e-08.\n",
      "Epoch:200/200 AVG Training Loss:0.642 AVG Validation Loss:0.682 AVG Training Acc 62.44 % AVG Validation Acc 61.73 %\n",
      "Split 88\n"
     ]
    },
    {
     "data": {
      "application/vnd.jupyter.widget-view+json": {
       "model_id": "757c52294dfd40039a004cf6a1816e04",
       "version_major": 2,
       "version_minor": 0
      },
      "text/plain": [
       "  0%|          | 0/200 [00:00<?, ?it/s]"
      ]
     },
     "metadata": {},
     "output_type": "display_data"
    },
    {
     "name": "stdout",
     "output_type": "stream",
     "text": [
      "Epoch:10/200 AVG Training Loss:0.663 AVG Validation Loss:0.662 AVG Training Acc 61.83 % AVG Validation Acc 61.91 %\n",
      "Epoch:20/200 AVG Training Loss:0.660 AVG Validation Loss:0.659 AVG Training Acc 61.92 % AVG Validation Acc 62.00 %\n",
      "Epoch:30/200 AVG Training Loss:0.660 AVG Validation Loss:0.665 AVG Training Acc 61.87 % AVG Validation Acc 62.00 %\n",
      "Epoch:40/200 AVG Training Loss:0.658 AVG Validation Loss:0.657 AVG Training Acc 62.08 % AVG Validation Acc 62.18 %\n",
      "Epoch    47: reducing learning rate of group 0 to 1.0000e-03.\n",
      "Epoch:50/200 AVG Training Loss:0.655 AVG Validation Loss:0.659 AVG Training Acc 62.10 % AVG Validation Acc 62.00 %\n",
      "Epoch:60/200 AVG Training Loss:0.652 AVG Validation Loss:0.661 AVG Training Acc 62.15 % AVG Validation Acc 62.00 %\n",
      "Epoch:70/200 AVG Training Loss:0.650 AVG Validation Loss:0.663 AVG Training Acc 62.23 % AVG Validation Acc 62.09 %\n",
      "Epoch    78: reducing learning rate of group 0 to 1.0000e-04.\n",
      "Epoch:80/200 AVG Training Loss:0.650 AVG Validation Loss:0.666 AVG Training Acc 62.17 % AVG Validation Acc 62.09 %\n",
      "Epoch:90/200 AVG Training Loss:0.648 AVG Validation Loss:0.666 AVG Training Acc 62.28 % AVG Validation Acc 62.18 %\n",
      "Epoch:100/200 AVG Training Loss:0.648 AVG Validation Loss:0.667 AVG Training Acc 62.41 % AVG Validation Acc 62.09 %\n",
      "Epoch   109: reducing learning rate of group 0 to 1.0000e-05.\n",
      "Epoch:110/200 AVG Training Loss:0.649 AVG Validation Loss:0.668 AVG Training Acc 62.18 % AVG Validation Acc 62.09 %\n",
      "Epoch:120/200 AVG Training Loss:0.649 AVG Validation Loss:0.669 AVG Training Acc 62.31 % AVG Validation Acc 62.09 %\n",
      "Epoch:130/200 AVG Training Loss:0.648 AVG Validation Loss:0.666 AVG Training Acc 62.28 % AVG Validation Acc 62.09 %\n",
      "Epoch:140/200 AVG Training Loss:0.647 AVG Validation Loss:0.668 AVG Training Acc 62.26 % AVG Validation Acc 62.18 %\n",
      "Epoch   140: reducing learning rate of group 0 to 1.0000e-06.\n",
      "Epoch:150/200 AVG Training Loss:0.647 AVG Validation Loss:0.667 AVG Training Acc 62.32 % AVG Validation Acc 62.09 %\n",
      "Epoch:160/200 AVG Training Loss:0.648 AVG Validation Loss:0.668 AVG Training Acc 62.19 % AVG Validation Acc 62.09 %\n",
      "Epoch:170/200 AVG Training Loss:0.648 AVG Validation Loss:0.668 AVG Training Acc 62.33 % AVG Validation Acc 62.18 %\n",
      "Epoch   171: reducing learning rate of group 0 to 1.0000e-07.\n",
      "Epoch:180/200 AVG Training Loss:0.647 AVG Validation Loss:0.666 AVG Training Acc 62.29 % AVG Validation Acc 62.18 %\n",
      "Epoch:190/200 AVG Training Loss:0.648 AVG Validation Loss:0.665 AVG Training Acc 62.25 % AVG Validation Acc 62.09 %\n",
      "Epoch:200/200 AVG Training Loss:0.647 AVG Validation Loss:0.667 AVG Training Acc 62.28 % AVG Validation Acc 62.18 %\n",
      "Split 89\n"
     ]
    },
    {
     "data": {
      "application/vnd.jupyter.widget-view+json": {
       "model_id": "5a80956de9b7407eb6f1f36d228df167",
       "version_major": 2,
       "version_minor": 0
      },
      "text/plain": [
       "  0%|          | 0/200 [00:00<?, ?it/s]"
      ]
     },
     "metadata": {},
     "output_type": "display_data"
    },
    {
     "name": "stdout",
     "output_type": "stream",
     "text": [
      "Epoch:10/200 AVG Training Loss:0.664 AVG Validation Loss:0.666 AVG Training Acc 61.88 % AVG Validation Acc 61.91 %\n",
      "Epoch:20/200 AVG Training Loss:0.661 AVG Validation Loss:0.658 AVG Training Acc 61.88 % AVG Validation Acc 61.91 %\n",
      "Epoch:30/200 AVG Training Loss:0.660 AVG Validation Loss:0.657 AVG Training Acc 61.88 % AVG Validation Acc 62.00 %\n",
      "Epoch    36: reducing learning rate of group 0 to 1.0000e-03.\n",
      "Epoch:40/200 AVG Training Loss:0.656 AVG Validation Loss:0.657 AVG Training Acc 61.99 % AVG Validation Acc 62.18 %\n",
      "Epoch:50/200 AVG Training Loss:0.654 AVG Validation Loss:0.657 AVG Training Acc 62.05 % AVG Validation Acc 62.00 %\n",
      "Epoch:60/200 AVG Training Loss:0.652 AVG Validation Loss:0.657 AVG Training Acc 62.07 % AVG Validation Acc 62.00 %\n",
      "Epoch    67: reducing learning rate of group 0 to 1.0000e-04.\n",
      "Epoch:70/200 AVG Training Loss:0.651 AVG Validation Loss:0.658 AVG Training Acc 62.24 % AVG Validation Acc 61.82 %\n",
      "Epoch:80/200 AVG Training Loss:0.652 AVG Validation Loss:0.659 AVG Training Acc 62.16 % AVG Validation Acc 61.91 %\n",
      "Epoch:90/200 AVG Training Loss:0.650 AVG Validation Loss:0.660 AVG Training Acc 62.13 % AVG Validation Acc 61.91 %\n",
      "Epoch    98: reducing learning rate of group 0 to 1.0000e-05.\n",
      "Epoch:100/200 AVG Training Loss:0.650 AVG Validation Loss:0.660 AVG Training Acc 62.03 % AVG Validation Acc 61.91 %\n",
      "Epoch:110/200 AVG Training Loss:0.650 AVG Validation Loss:0.660 AVG Training Acc 62.19 % AVG Validation Acc 61.91 %\n",
      "Epoch:120/200 AVG Training Loss:0.650 AVG Validation Loss:0.660 AVG Training Acc 62.15 % AVG Validation Acc 61.91 %\n",
      "Epoch   129: reducing learning rate of group 0 to 1.0000e-06.\n",
      "Epoch:130/200 AVG Training Loss:0.648 AVG Validation Loss:0.660 AVG Training Acc 62.16 % AVG Validation Acc 61.91 %\n",
      "Epoch:140/200 AVG Training Loss:0.650 AVG Validation Loss:0.660 AVG Training Acc 62.21 % AVG Validation Acc 61.91 %\n",
      "Epoch:150/200 AVG Training Loss:0.650 AVG Validation Loss:0.660 AVG Training Acc 62.17 % AVG Validation Acc 61.91 %\n",
      "Epoch:160/200 AVG Training Loss:0.651 AVG Validation Loss:0.660 AVG Training Acc 62.20 % AVG Validation Acc 61.91 %\n",
      "Epoch   160: reducing learning rate of group 0 to 1.0000e-07.\n",
      "Epoch:170/200 AVG Training Loss:0.650 AVG Validation Loss:0.660 AVG Training Acc 62.11 % AVG Validation Acc 61.91 %\n",
      "Epoch:180/200 AVG Training Loss:0.649 AVG Validation Loss:0.660 AVG Training Acc 62.10 % AVG Validation Acc 61.91 %\n",
      "Epoch:190/200 AVG Training Loss:0.650 AVG Validation Loss:0.660 AVG Training Acc 62.18 % AVG Validation Acc 61.91 %\n",
      "Epoch   191: reducing learning rate of group 0 to 1.0000e-08.\n",
      "Epoch:200/200 AVG Training Loss:0.649 AVG Validation Loss:0.661 AVG Training Acc 62.12 % AVG Validation Acc 61.82 %\n",
      "Split 90\n"
     ]
    },
    {
     "data": {
      "application/vnd.jupyter.widget-view+json": {
       "model_id": "961f31f5a5434885a2436e9b3c0ac8dc",
       "version_major": 2,
       "version_minor": 0
      },
      "text/plain": [
       "  0%|          | 0/200 [00:00<?, ?it/s]"
      ]
     },
     "metadata": {},
     "output_type": "display_data"
    },
    {
     "name": "stdout",
     "output_type": "stream",
     "text": [
      "Epoch:10/200 AVG Training Loss:0.664 AVG Validation Loss:0.661 AVG Training Acc 61.89 % AVG Validation Acc 61.91 %\n",
      "Epoch:20/200 AVG Training Loss:0.660 AVG Validation Loss:0.662 AVG Training Acc 61.92 % AVG Validation Acc 61.91 %\n",
      "Epoch    22: reducing learning rate of group 0 to 1.0000e-03.\n",
      "Epoch:30/200 AVG Training Loss:0.658 AVG Validation Loss:0.660 AVG Training Acc 61.91 % AVG Validation Acc 61.91 %\n",
      "Epoch:40/200 AVG Training Loss:0.657 AVG Validation Loss:0.661 AVG Training Acc 61.99 % AVG Validation Acc 61.91 %\n",
      "Epoch:50/200 AVG Training Loss:0.656 AVG Validation Loss:0.660 AVG Training Acc 62.01 % AVG Validation Acc 61.91 %\n",
      "Epoch    58: reducing learning rate of group 0 to 1.0000e-04.\n",
      "Epoch:60/200 AVG Training Loss:0.654 AVG Validation Loss:0.661 AVG Training Acc 62.01 % AVG Validation Acc 61.91 %\n",
      "Epoch:70/200 AVG Training Loss:0.654 AVG Validation Loss:0.661 AVG Training Acc 62.05 % AVG Validation Acc 61.91 %\n",
      "Epoch:80/200 AVG Training Loss:0.654 AVG Validation Loss:0.661 AVG Training Acc 62.04 % AVG Validation Acc 61.91 %\n",
      "Epoch    89: reducing learning rate of group 0 to 1.0000e-05.\n",
      "Epoch:90/200 AVG Training Loss:0.654 AVG Validation Loss:0.661 AVG Training Acc 62.04 % AVG Validation Acc 61.91 %\n",
      "Epoch:100/200 AVG Training Loss:0.653 AVG Validation Loss:0.661 AVG Training Acc 62.06 % AVG Validation Acc 61.91 %\n",
      "Epoch:110/200 AVG Training Loss:0.653 AVG Validation Loss:0.661 AVG Training Acc 62.07 % AVG Validation Acc 61.91 %\n",
      "Epoch:120/200 AVG Training Loss:0.654 AVG Validation Loss:0.661 AVG Training Acc 62.00 % AVG Validation Acc 61.91 %\n",
      "Epoch   120: reducing learning rate of group 0 to 1.0000e-06.\n",
      "Epoch:130/200 AVG Training Loss:0.654 AVG Validation Loss:0.661 AVG Training Acc 62.08 % AVG Validation Acc 61.91 %\n",
      "Epoch:140/200 AVG Training Loss:0.653 AVG Validation Loss:0.661 AVG Training Acc 62.02 % AVG Validation Acc 61.91 %\n",
      "Epoch:150/200 AVG Training Loss:0.652 AVG Validation Loss:0.661 AVG Training Acc 62.15 % AVG Validation Acc 61.91 %\n",
      "Epoch   151: reducing learning rate of group 0 to 1.0000e-07.\n",
      "Epoch:160/200 AVG Training Loss:0.653 AVG Validation Loss:0.661 AVG Training Acc 62.05 % AVG Validation Acc 61.91 %\n",
      "Epoch:170/200 AVG Training Loss:0.654 AVG Validation Loss:0.661 AVG Training Acc 62.06 % AVG Validation Acc 61.91 %\n",
      "Epoch:180/200 AVG Training Loss:0.654 AVG Validation Loss:0.660 AVG Training Acc 62.05 % AVG Validation Acc 61.91 %\n",
      "Epoch   182: reducing learning rate of group 0 to 1.0000e-08.\n",
      "Epoch:190/200 AVG Training Loss:0.653 AVG Validation Loss:0.661 AVG Training Acc 62.03 % AVG Validation Acc 61.91 %\n",
      "Epoch:200/200 AVG Training Loss:0.653 AVG Validation Loss:0.661 AVG Training Acc 62.06 % AVG Validation Acc 61.91 %\n",
      "Split 91\n"
     ]
    },
    {
     "data": {
      "application/vnd.jupyter.widget-view+json": {
       "model_id": "3aca0c8fc7e949bfa65da3916fc0e736",
       "version_major": 2,
       "version_minor": 0
      },
      "text/plain": [
       "  0%|          | 0/200 [00:00<?, ?it/s]"
      ]
     },
     "metadata": {},
     "output_type": "display_data"
    },
    {
     "name": "stdout",
     "output_type": "stream",
     "text": [
      "Epoch:10/200 AVG Training Loss:0.664 AVG Validation Loss:0.661 AVG Training Acc 61.89 % AVG Validation Acc 61.95 %\n",
      "Epoch:20/200 AVG Training Loss:0.660 AVG Validation Loss:0.657 AVG Training Acc 61.88 % AVG Validation Acc 61.95 %\n",
      "Epoch    24: reducing learning rate of group 0 to 1.0000e-03.\n",
      "Epoch:30/200 AVG Training Loss:0.656 AVG Validation Loss:0.660 AVG Training Acc 62.01 % AVG Validation Acc 61.68 %\n",
      "Epoch:40/200 AVG Training Loss:0.654 AVG Validation Loss:0.661 AVG Training Acc 62.08 % AVG Validation Acc 61.68 %\n",
      "Epoch:50/200 AVG Training Loss:0.654 AVG Validation Loss:0.662 AVG Training Acc 62.04 % AVG Validation Acc 61.68 %\n",
      "Epoch    55: reducing learning rate of group 0 to 1.0000e-04.\n",
      "Epoch:60/200 AVG Training Loss:0.654 AVG Validation Loss:0.663 AVG Training Acc 62.13 % AVG Validation Acc 61.77 %\n",
      "Epoch:70/200 AVG Training Loss:0.652 AVG Validation Loss:0.663 AVG Training Acc 62.24 % AVG Validation Acc 61.77 %\n",
      "Epoch:80/200 AVG Training Loss:0.653 AVG Validation Loss:0.664 AVG Training Acc 62.11 % AVG Validation Acc 61.77 %\n",
      "Epoch    86: reducing learning rate of group 0 to 1.0000e-05.\n",
      "Epoch:90/200 AVG Training Loss:0.652 AVG Validation Loss:0.663 AVG Training Acc 62.14 % AVG Validation Acc 61.68 %\n",
      "Epoch:100/200 AVG Training Loss:0.652 AVG Validation Loss:0.663 AVG Training Acc 62.18 % AVG Validation Acc 61.68 %\n",
      "Epoch:110/200 AVG Training Loss:0.652 AVG Validation Loss:0.663 AVG Training Acc 62.19 % AVG Validation Acc 61.68 %\n",
      "Epoch   117: reducing learning rate of group 0 to 1.0000e-06.\n",
      "Epoch:120/200 AVG Training Loss:0.652 AVG Validation Loss:0.664 AVG Training Acc 62.12 % AVG Validation Acc 61.68 %\n",
      "Epoch:130/200 AVG Training Loss:0.653 AVG Validation Loss:0.664 AVG Training Acc 62.17 % AVG Validation Acc 61.68 %\n",
      "Epoch:140/200 AVG Training Loss:0.652 AVG Validation Loss:0.663 AVG Training Acc 62.16 % AVG Validation Acc 61.68 %\n",
      "Epoch   148: reducing learning rate of group 0 to 1.0000e-07.\n",
      "Epoch:150/200 AVG Training Loss:0.653 AVG Validation Loss:0.663 AVG Training Acc 62.19 % AVG Validation Acc 61.68 %\n",
      "Epoch:160/200 AVG Training Loss:0.652 AVG Validation Loss:0.663 AVG Training Acc 62.23 % AVG Validation Acc 61.68 %\n",
      "Epoch:170/200 AVG Training Loss:0.652 AVG Validation Loss:0.664 AVG Training Acc 62.21 % AVG Validation Acc 61.68 %\n",
      "Epoch   179: reducing learning rate of group 0 to 1.0000e-08.\n",
      "Epoch:180/200 AVG Training Loss:0.652 AVG Validation Loss:0.664 AVG Training Acc 62.21 % AVG Validation Acc 61.68 %\n",
      "Epoch:190/200 AVG Training Loss:0.653 AVG Validation Loss:0.664 AVG Training Acc 62.14 % AVG Validation Acc 61.68 %\n",
      "Epoch:200/200 AVG Training Loss:0.652 AVG Validation Loss:0.664 AVG Training Acc 62.14 % AVG Validation Acc 61.68 %\n",
      "Split 92\n"
     ]
    },
    {
     "data": {
      "application/vnd.jupyter.widget-view+json": {
       "model_id": "a326d9c417164eb096c252d02ba8951b",
       "version_major": 2,
       "version_minor": 0
      },
      "text/plain": [
       "  0%|          | 0/200 [00:00<?, ?it/s]"
      ]
     },
     "metadata": {},
     "output_type": "display_data"
    },
    {
     "name": "stdout",
     "output_type": "stream",
     "text": [
      "Epoch:10/200 AVG Training Loss:0.664 AVG Validation Loss:0.662 AVG Training Acc 61.89 % AVG Validation Acc 61.86 %\n",
      "Epoch:20/200 AVG Training Loss:0.660 AVG Validation Loss:0.662 AVG Training Acc 61.97 % AVG Validation Acc 61.86 %\n",
      "Epoch    22: reducing learning rate of group 0 to 1.0000e-03.\n",
      "Epoch:30/200 AVG Training Loss:0.656 AVG Validation Loss:0.662 AVG Training Acc 61.96 % AVG Validation Acc 61.95 %\n",
      "Epoch:40/200 AVG Training Loss:0.654 AVG Validation Loss:0.663 AVG Training Acc 62.00 % AVG Validation Acc 61.59 %\n",
      "Epoch:50/200 AVG Training Loss:0.652 AVG Validation Loss:0.665 AVG Training Acc 62.15 % AVG Validation Acc 61.77 %\n",
      "Epoch    53: reducing learning rate of group 0 to 1.0000e-04.\n",
      "Epoch:60/200 AVG Training Loss:0.649 AVG Validation Loss:0.670 AVG Training Acc 62.38 % AVG Validation Acc 61.86 %\n",
      "Epoch:70/200 AVG Training Loss:0.650 AVG Validation Loss:0.671 AVG Training Acc 62.18 % AVG Validation Acc 62.04 %\n",
      "Epoch:80/200 AVG Training Loss:0.650 AVG Validation Loss:0.672 AVG Training Acc 62.23 % AVG Validation Acc 61.86 %\n",
      "Epoch    84: reducing learning rate of group 0 to 1.0000e-05.\n",
      "Epoch:90/200 AVG Training Loss:0.649 AVG Validation Loss:0.673 AVG Training Acc 62.24 % AVG Validation Acc 61.95 %\n",
      "Epoch:100/200 AVG Training Loss:0.648 AVG Validation Loss:0.673 AVG Training Acc 62.31 % AVG Validation Acc 61.95 %\n",
      "Epoch:110/200 AVG Training Loss:0.648 AVG Validation Loss:0.673 AVG Training Acc 62.23 % AVG Validation Acc 61.86 %\n",
      "Epoch   115: reducing learning rate of group 0 to 1.0000e-06.\n",
      "Epoch:120/200 AVG Training Loss:0.648 AVG Validation Loss:0.673 AVG Training Acc 62.25 % AVG Validation Acc 61.95 %\n",
      "Epoch:130/200 AVG Training Loss:0.649 AVG Validation Loss:0.672 AVG Training Acc 62.34 % AVG Validation Acc 61.95 %\n",
      "Epoch:140/200 AVG Training Loss:0.649 AVG Validation Loss:0.673 AVG Training Acc 62.19 % AVG Validation Acc 61.95 %\n",
      "Epoch   146: reducing learning rate of group 0 to 1.0000e-07.\n",
      "Epoch:150/200 AVG Training Loss:0.648 AVG Validation Loss:0.672 AVG Training Acc 62.21 % AVG Validation Acc 61.95 %\n",
      "Epoch:160/200 AVG Training Loss:0.649 AVG Validation Loss:0.673 AVG Training Acc 62.27 % AVG Validation Acc 61.86 %\n",
      "Epoch:170/200 AVG Training Loss:0.649 AVG Validation Loss:0.672 AVG Training Acc 62.31 % AVG Validation Acc 61.95 %\n",
      "Epoch   177: reducing learning rate of group 0 to 1.0000e-08.\n",
      "Epoch:180/200 AVG Training Loss:0.648 AVG Validation Loss:0.672 AVG Training Acc 62.28 % AVG Validation Acc 61.77 %\n",
      "Epoch:190/200 AVG Training Loss:0.649 AVG Validation Loss:0.673 AVG Training Acc 62.16 % AVG Validation Acc 61.86 %\n",
      "Epoch:200/200 AVG Training Loss:0.649 AVG Validation Loss:0.673 AVG Training Acc 62.25 % AVG Validation Acc 61.95 %\n",
      "Split 93\n"
     ]
    },
    {
     "data": {
      "application/vnd.jupyter.widget-view+json": {
       "model_id": "51553b72635947a39fa60e35a085d6d9",
       "version_major": 2,
       "version_minor": 0
      },
      "text/plain": [
       "  0%|          | 0/200 [00:00<?, ?it/s]"
      ]
     },
     "metadata": {},
     "output_type": "display_data"
    },
    {
     "name": "stdout",
     "output_type": "stream",
     "text": [
      "Epoch:10/200 AVG Training Loss:0.664 AVG Validation Loss:0.663 AVG Training Acc 61.93 % AVG Validation Acc 61.86 %\n",
      "Epoch:20/200 AVG Training Loss:0.660 AVG Validation Loss:0.661 AVG Training Acc 61.89 % AVG Validation Acc 61.77 %\n",
      "Epoch:30/200 AVG Training Loss:0.658 AVG Validation Loss:0.665 AVG Training Acc 62.00 % AVG Validation Acc 61.86 %\n",
      "Epoch    31: reducing learning rate of group 0 to 1.0000e-03.\n",
      "Epoch:40/200 AVG Training Loss:0.657 AVG Validation Loss:0.664 AVG Training Acc 61.95 % AVG Validation Acc 61.86 %\n",
      "Epoch:50/200 AVG Training Loss:0.655 AVG Validation Loss:0.667 AVG Training Acc 62.05 % AVG Validation Acc 61.41 %\n",
      "Epoch:60/200 AVG Training Loss:0.652 AVG Validation Loss:0.673 AVG Training Acc 62.16 % AVG Validation Acc 61.59 %\n",
      "Epoch    62: reducing learning rate of group 0 to 1.0000e-04.\n",
      "Epoch:70/200 AVG Training Loss:0.651 AVG Validation Loss:0.674 AVG Training Acc 62.22 % AVG Validation Acc 61.50 %\n",
      "Epoch:80/200 AVG Training Loss:0.650 AVG Validation Loss:0.674 AVG Training Acc 62.24 % AVG Validation Acc 61.59 %\n",
      "Epoch:90/200 AVG Training Loss:0.651 AVG Validation Loss:0.675 AVG Training Acc 62.32 % AVG Validation Acc 61.50 %\n",
      "Epoch    93: reducing learning rate of group 0 to 1.0000e-05.\n",
      "Epoch:100/200 AVG Training Loss:0.651 AVG Validation Loss:0.674 AVG Training Acc 62.26 % AVG Validation Acc 61.59 %\n",
      "Epoch:110/200 AVG Training Loss:0.650 AVG Validation Loss:0.674 AVG Training Acc 62.18 % AVG Validation Acc 61.59 %\n",
      "Epoch:120/200 AVG Training Loss:0.650 AVG Validation Loss:0.674 AVG Training Acc 62.24 % AVG Validation Acc 61.50 %\n",
      "Epoch   124: reducing learning rate of group 0 to 1.0000e-06.\n",
      "Epoch:130/200 AVG Training Loss:0.650 AVG Validation Loss:0.674 AVG Training Acc 62.32 % AVG Validation Acc 61.59 %\n",
      "Epoch:140/200 AVG Training Loss:0.650 AVG Validation Loss:0.676 AVG Training Acc 62.24 % AVG Validation Acc 61.50 %\n",
      "Epoch:150/200 AVG Training Loss:0.650 AVG Validation Loss:0.674 AVG Training Acc 62.38 % AVG Validation Acc 61.59 %\n",
      "Epoch   155: reducing learning rate of group 0 to 1.0000e-07.\n",
      "Epoch:160/200 AVG Training Loss:0.650 AVG Validation Loss:0.674 AVG Training Acc 62.19 % AVG Validation Acc 61.50 %\n",
      "Epoch:170/200 AVG Training Loss:0.650 AVG Validation Loss:0.674 AVG Training Acc 62.29 % AVG Validation Acc 61.59 %\n",
      "Epoch:180/200 AVG Training Loss:0.649 AVG Validation Loss:0.674 AVG Training Acc 62.35 % AVG Validation Acc 61.59 %\n",
      "Epoch   186: reducing learning rate of group 0 to 1.0000e-08.\n",
      "Epoch:190/200 AVG Training Loss:0.649 AVG Validation Loss:0.674 AVG Training Acc 62.32 % AVG Validation Acc 61.59 %\n",
      "Epoch:200/200 AVG Training Loss:0.650 AVG Validation Loss:0.674 AVG Training Acc 62.24 % AVG Validation Acc 61.59 %\n",
      "Split 94\n"
     ]
    },
    {
     "data": {
      "application/vnd.jupyter.widget-view+json": {
       "model_id": "1d2d1db1df2b45fa9fe89a5f1c92bc22",
       "version_major": 2,
       "version_minor": 0
      },
      "text/plain": [
       "  0%|          | 0/200 [00:00<?, ?it/s]"
      ]
     },
     "metadata": {},
     "output_type": "display_data"
    },
    {
     "name": "stdout",
     "output_type": "stream",
     "text": [
      "Epoch:10/200 AVG Training Loss:0.664 AVG Validation Loss:0.665 AVG Training Acc 61.89 % AVG Validation Acc 61.86 %\n",
      "Epoch:20/200 AVG Training Loss:0.662 AVG Validation Loss:0.661 AVG Training Acc 61.90 % AVG Validation Acc 61.86 %\n",
      "Epoch:30/200 AVG Training Loss:0.660 AVG Validation Loss:0.658 AVG Training Acc 61.95 % AVG Validation Acc 61.95 %\n",
      "Epoch:40/200 AVG Training Loss:0.658 AVG Validation Loss:0.658 AVG Training Acc 61.95 % AVG Validation Acc 61.95 %\n",
      "Epoch    47: reducing learning rate of group 0 to 1.0000e-03.\n",
      "Epoch:50/200 AVG Training Loss:0.655 AVG Validation Loss:0.660 AVG Training Acc 62.01 % AVG Validation Acc 61.95 %\n",
      "Epoch:60/200 AVG Training Loss:0.652 AVG Validation Loss:0.664 AVG Training Acc 62.05 % AVG Validation Acc 61.95 %\n",
      "Epoch:70/200 AVG Training Loss:0.650 AVG Validation Loss:0.663 AVG Training Acc 62.17 % AVG Validation Acc 62.13 %\n",
      "Epoch    78: reducing learning rate of group 0 to 1.0000e-04.\n",
      "Epoch:80/200 AVG Training Loss:0.647 AVG Validation Loss:0.664 AVG Training Acc 62.15 % AVG Validation Acc 61.95 %\n",
      "Epoch:90/200 AVG Training Loss:0.648 AVG Validation Loss:0.666 AVG Training Acc 62.09 % AVG Validation Acc 62.13 %\n",
      "Epoch:100/200 AVG Training Loss:0.647 AVG Validation Loss:0.666 AVG Training Acc 62.19 % AVG Validation Acc 62.04 %\n",
      "Epoch   109: reducing learning rate of group 0 to 1.0000e-05.\n",
      "Epoch:110/200 AVG Training Loss:0.647 AVG Validation Loss:0.670 AVG Training Acc 62.07 % AVG Validation Acc 62.13 %\n",
      "Epoch:120/200 AVG Training Loss:0.647 AVG Validation Loss:0.666 AVG Training Acc 62.11 % AVG Validation Acc 62.13 %\n",
      "Epoch:130/200 AVG Training Loss:0.648 AVG Validation Loss:0.665 AVG Training Acc 62.17 % AVG Validation Acc 62.04 %\n",
      "Epoch:140/200 AVG Training Loss:0.646 AVG Validation Loss:0.666 AVG Training Acc 62.20 % AVG Validation Acc 62.13 %\n",
      "Epoch   140: reducing learning rate of group 0 to 1.0000e-06.\n",
      "Epoch:150/200 AVG Training Loss:0.646 AVG Validation Loss:0.666 AVG Training Acc 62.27 % AVG Validation Acc 62.04 %\n",
      "Epoch:160/200 AVG Training Loss:0.646 AVG Validation Loss:0.666 AVG Training Acc 62.22 % AVG Validation Acc 62.04 %\n",
      "Epoch:170/200 AVG Training Loss:0.647 AVG Validation Loss:0.667 AVG Training Acc 62.17 % AVG Validation Acc 62.04 %\n",
      "Epoch   171: reducing learning rate of group 0 to 1.0000e-07.\n",
      "Epoch:180/200 AVG Training Loss:0.647 AVG Validation Loss:0.665 AVG Training Acc 62.28 % AVG Validation Acc 62.13 %\n",
      "Epoch:190/200 AVG Training Loss:0.646 AVG Validation Loss:0.665 AVG Training Acc 62.11 % AVG Validation Acc 62.13 %\n",
      "Epoch:200/200 AVG Training Loss:0.648 AVG Validation Loss:0.668 AVG Training Acc 62.07 % AVG Validation Acc 62.13 %\n",
      "Split 95\n"
     ]
    },
    {
     "data": {
      "application/vnd.jupyter.widget-view+json": {
       "model_id": "4cc28067e19c48068c7ae1b5200579a2",
       "version_major": 2,
       "version_minor": 0
      },
      "text/plain": [
       "  0%|          | 0/200 [00:00<?, ?it/s]"
      ]
     },
     "metadata": {},
     "output_type": "display_data"
    },
    {
     "name": "stdout",
     "output_type": "stream",
     "text": [
      "Epoch:10/200 AVG Training Loss:0.660 AVG Validation Loss:0.667 AVG Training Acc 61.90 % AVG Validation Acc 61.86 %\n",
      "Epoch:20/200 AVG Training Loss:0.659 AVG Validation Loss:0.664 AVG Training Acc 61.90 % AVG Validation Acc 61.77 %\n",
      "Epoch:30/200 AVG Training Loss:0.655 AVG Validation Loss:0.676 AVG Training Acc 62.05 % AVG Validation Acc 61.77 %\n",
      "Epoch    31: reducing learning rate of group 0 to 1.0000e-03.\n",
      "Epoch:40/200 AVG Training Loss:0.650 AVG Validation Loss:0.673 AVG Training Acc 62.09 % AVG Validation Acc 61.86 %\n",
      "Epoch:50/200 AVG Training Loss:0.646 AVG Validation Loss:0.681 AVG Training Acc 62.22 % AVG Validation Acc 61.95 %\n",
      "Epoch:60/200 AVG Training Loss:0.643 AVG Validation Loss:0.686 AVG Training Acc 62.33 % AVG Validation Acc 61.77 %\n",
      "Epoch    62: reducing learning rate of group 0 to 1.0000e-04.\n",
      "Epoch:70/200 AVG Training Loss:0.641 AVG Validation Loss:0.687 AVG Training Acc 62.30 % AVG Validation Acc 61.77 %\n",
      "Epoch:80/200 AVG Training Loss:0.642 AVG Validation Loss:0.687 AVG Training Acc 62.31 % AVG Validation Acc 61.77 %\n",
      "Epoch:90/200 AVG Training Loss:0.641 AVG Validation Loss:0.689 AVG Training Acc 62.57 % AVG Validation Acc 61.77 %\n",
      "Epoch    93: reducing learning rate of group 0 to 1.0000e-05.\n",
      "Epoch:100/200 AVG Training Loss:0.640 AVG Validation Loss:0.691 AVG Training Acc 62.45 % AVG Validation Acc 61.86 %\n",
      "Epoch:110/200 AVG Training Loss:0.641 AVG Validation Loss:0.689 AVG Training Acc 62.49 % AVG Validation Acc 61.68 %\n",
      "Epoch:120/200 AVG Training Loss:0.642 AVG Validation Loss:0.689 AVG Training Acc 62.24 % AVG Validation Acc 61.77 %\n",
      "Epoch   124: reducing learning rate of group 0 to 1.0000e-06.\n",
      "Epoch:130/200 AVG Training Loss:0.640 AVG Validation Loss:0.688 AVG Training Acc 62.34 % AVG Validation Acc 61.77 %\n",
      "Epoch:140/200 AVG Training Loss:0.639 AVG Validation Loss:0.689 AVG Training Acc 62.41 % AVG Validation Acc 61.86 %\n",
      "Epoch:150/200 AVG Training Loss:0.641 AVG Validation Loss:0.689 AVG Training Acc 62.39 % AVG Validation Acc 61.77 %\n",
      "Epoch   155: reducing learning rate of group 0 to 1.0000e-07.\n",
      "Epoch:160/200 AVG Training Loss:0.640 AVG Validation Loss:0.689 AVG Training Acc 62.43 % AVG Validation Acc 61.77 %\n",
      "Epoch:170/200 AVG Training Loss:0.641 AVG Validation Loss:0.690 AVG Training Acc 62.31 % AVG Validation Acc 61.77 %\n",
      "Epoch:180/200 AVG Training Loss:0.640 AVG Validation Loss:0.690 AVG Training Acc 62.29 % AVG Validation Acc 61.77 %\n",
      "Epoch   186: reducing learning rate of group 0 to 1.0000e-08.\n",
      "Epoch:190/200 AVG Training Loss:0.641 AVG Validation Loss:0.691 AVG Training Acc 62.45 % AVG Validation Acc 61.86 %\n",
      "Epoch:200/200 AVG Training Loss:0.640 AVG Validation Loss:0.689 AVG Training Acc 62.45 % AVG Validation Acc 61.77 %\n",
      "Split 96\n"
     ]
    },
    {
     "data": {
      "application/vnd.jupyter.widget-view+json": {
       "model_id": "7382b533e2c34e30aa6bf0f5d5a60119",
       "version_major": 2,
       "version_minor": 0
      },
      "text/plain": [
       "  0%|          | 0/200 [00:00<?, ?it/s]"
      ]
     },
     "metadata": {},
     "output_type": "display_data"
    },
    {
     "name": "stdout",
     "output_type": "stream",
     "text": [
      "Epoch:10/200 AVG Training Loss:0.665 AVG Validation Loss:0.663 AVG Training Acc 61.89 % AVG Validation Acc 61.91 %\n",
      "Epoch:20/200 AVG Training Loss:0.661 AVG Validation Loss:0.660 AVG Training Acc 61.89 % AVG Validation Acc 61.91 %\n",
      "Epoch:30/200 AVG Training Loss:0.660 AVG Validation Loss:0.657 AVG Training Acc 61.92 % AVG Validation Acc 62.09 %\n",
      "Epoch    37: reducing learning rate of group 0 to 1.0000e-03.\n",
      "Epoch:40/200 AVG Training Loss:0.657 AVG Validation Loss:0.657 AVG Training Acc 62.02 % AVG Validation Acc 62.00 %\n",
      "Epoch:50/200 AVG Training Loss:0.656 AVG Validation Loss:0.657 AVG Training Acc 62.00 % AVG Validation Acc 62.09 %\n",
      "Epoch:60/200 AVG Training Loss:0.654 AVG Validation Loss:0.657 AVG Training Acc 62.05 % AVG Validation Acc 62.18 %\n",
      "Epoch    68: reducing learning rate of group 0 to 1.0000e-04.\n",
      "Epoch:70/200 AVG Training Loss:0.653 AVG Validation Loss:0.658 AVG Training Acc 62.08 % AVG Validation Acc 62.18 %\n",
      "Epoch:80/200 AVG Training Loss:0.653 AVG Validation Loss:0.657 AVG Training Acc 62.11 % AVG Validation Acc 62.09 %\n",
      "Epoch:90/200 AVG Training Loss:0.653 AVG Validation Loss:0.657 AVG Training Acc 61.96 % AVG Validation Acc 62.09 %\n",
      "Epoch    99: reducing learning rate of group 0 to 1.0000e-05.\n",
      "Epoch:100/200 AVG Training Loss:0.653 AVG Validation Loss:0.658 AVG Training Acc 62.10 % AVG Validation Acc 62.00 %\n",
      "Epoch:110/200 AVG Training Loss:0.653 AVG Validation Loss:0.657 AVG Training Acc 62.11 % AVG Validation Acc 62.00 %\n",
      "Epoch:120/200 AVG Training Loss:0.653 AVG Validation Loss:0.658 AVG Training Acc 62.16 % AVG Validation Acc 62.00 %\n",
      "Epoch:130/200 AVG Training Loss:0.653 AVG Validation Loss:0.658 AVG Training Acc 62.04 % AVG Validation Acc 62.00 %\n",
      "Epoch   130: reducing learning rate of group 0 to 1.0000e-06.\n",
      "Epoch:140/200 AVG Training Loss:0.653 AVG Validation Loss:0.658 AVG Training Acc 62.04 % AVG Validation Acc 62.00 %\n",
      "Epoch:150/200 AVG Training Loss:0.654 AVG Validation Loss:0.658 AVG Training Acc 62.04 % AVG Validation Acc 62.00 %\n",
      "Epoch:160/200 AVG Training Loss:0.653 AVG Validation Loss:0.658 AVG Training Acc 62.06 % AVG Validation Acc 62.00 %\n",
      "Epoch   161: reducing learning rate of group 0 to 1.0000e-07.\n",
      "Epoch:170/200 AVG Training Loss:0.653 AVG Validation Loss:0.658 AVG Training Acc 62.07 % AVG Validation Acc 62.00 %\n",
      "Epoch:180/200 AVG Training Loss:0.653 AVG Validation Loss:0.658 AVG Training Acc 61.97 % AVG Validation Acc 62.00 %\n",
      "Epoch:190/200 AVG Training Loss:0.652 AVG Validation Loss:0.657 AVG Training Acc 62.08 % AVG Validation Acc 62.00 %\n",
      "Epoch   192: reducing learning rate of group 0 to 1.0000e-08.\n",
      "Epoch:200/200 AVG Training Loss:0.653 AVG Validation Loss:0.657 AVG Training Acc 61.97 % AVG Validation Acc 62.00 %\n",
      "Split 97\n"
     ]
    },
    {
     "data": {
      "application/vnd.jupyter.widget-view+json": {
       "model_id": "b304965e38f74ce3b02b20e262169859",
       "version_major": 2,
       "version_minor": 0
      },
      "text/plain": [
       "  0%|          | 0/200 [00:00<?, ?it/s]"
      ]
     },
     "metadata": {},
     "output_type": "display_data"
    },
    {
     "name": "stdout",
     "output_type": "stream",
     "text": [
      "Epoch:10/200 AVG Training Loss:0.662 AVG Validation Loss:0.660 AVG Training Acc 61.84 % AVG Validation Acc 61.91 %\n",
      "Epoch:20/200 AVG Training Loss:0.659 AVG Validation Loss:0.661 AVG Training Acc 61.82 % AVG Validation Acc 61.91 %\n",
      "Epoch:30/200 AVG Training Loss:0.659 AVG Validation Loss:0.661 AVG Training Acc 61.96 % AVG Validation Acc 61.91 %\n",
      "Epoch:40/200 AVG Training Loss:0.655 AVG Validation Loss:0.658 AVG Training Acc 61.97 % AVG Validation Acc 61.82 %\n",
      "Epoch    42: reducing learning rate of group 0 to 1.0000e-03.\n",
      "Epoch:50/200 AVG Training Loss:0.649 AVG Validation Loss:0.659 AVG Training Acc 62.05 % AVG Validation Acc 61.82 %\n",
      "Epoch:60/200 AVG Training Loss:0.645 AVG Validation Loss:0.662 AVG Training Acc 62.17 % AVG Validation Acc 61.82 %\n",
      "Epoch:70/200 AVG Training Loss:0.644 AVG Validation Loss:0.666 AVG Training Acc 62.23 % AVG Validation Acc 61.91 %\n",
      "Epoch    73: reducing learning rate of group 0 to 1.0000e-04.\n",
      "Epoch:80/200 AVG Training Loss:0.641 AVG Validation Loss:0.671 AVG Training Acc 62.31 % AVG Validation Acc 62.09 %\n",
      "Epoch:90/200 AVG Training Loss:0.642 AVG Validation Loss:0.672 AVG Training Acc 62.24 % AVG Validation Acc 62.09 %\n",
      "Epoch:100/200 AVG Training Loss:0.641 AVG Validation Loss:0.673 AVG Training Acc 62.31 % AVG Validation Acc 62.09 %\n",
      "Epoch   104: reducing learning rate of group 0 to 1.0000e-05.\n",
      "Epoch:110/200 AVG Training Loss:0.640 AVG Validation Loss:0.674 AVG Training Acc 62.35 % AVG Validation Acc 62.00 %\n",
      "Epoch:120/200 AVG Training Loss:0.640 AVG Validation Loss:0.673 AVG Training Acc 62.28 % AVG Validation Acc 62.00 %\n",
      "Epoch:130/200 AVG Training Loss:0.639 AVG Validation Loss:0.674 AVG Training Acc 62.37 % AVG Validation Acc 62.00 %\n",
      "Epoch   135: reducing learning rate of group 0 to 1.0000e-06.\n",
      "Epoch:140/200 AVG Training Loss:0.639 AVG Validation Loss:0.676 AVG Training Acc 62.43 % AVG Validation Acc 62.18 %\n",
      "Epoch:150/200 AVG Training Loss:0.639 AVG Validation Loss:0.674 AVG Training Acc 62.46 % AVG Validation Acc 62.18 %\n",
      "Epoch:160/200 AVG Training Loss:0.640 AVG Validation Loss:0.672 AVG Training Acc 62.35 % AVG Validation Acc 62.00 %\n",
      "Epoch   166: reducing learning rate of group 0 to 1.0000e-07.\n",
      "Epoch:170/200 AVG Training Loss:0.640 AVG Validation Loss:0.676 AVG Training Acc 62.38 % AVG Validation Acc 62.09 %\n",
      "Epoch:180/200 AVG Training Loss:0.641 AVG Validation Loss:0.673 AVG Training Acc 62.18 % AVG Validation Acc 62.18 %\n",
      "Epoch:190/200 AVG Training Loss:0.640 AVG Validation Loss:0.675 AVG Training Acc 62.40 % AVG Validation Acc 62.09 %\n",
      "Epoch   197: reducing learning rate of group 0 to 1.0000e-08.\n",
      "Epoch:200/200 AVG Training Loss:0.641 AVG Validation Loss:0.675 AVG Training Acc 62.19 % AVG Validation Acc 62.09 %\n",
      "Split 98\n"
     ]
    },
    {
     "data": {
      "application/vnd.jupyter.widget-view+json": {
       "model_id": "b42d1c9542a64fef8f990f72de2b8cd7",
       "version_major": 2,
       "version_minor": 0
      },
      "text/plain": [
       "  0%|          | 0/200 [00:00<?, ?it/s]"
      ]
     },
     "metadata": {},
     "output_type": "display_data"
    },
    {
     "name": "stdout",
     "output_type": "stream",
     "text": [
      "Epoch:10/200 AVG Training Loss:0.664 AVG Validation Loss:0.664 AVG Training Acc 61.89 % AVG Validation Acc 61.91 %\n",
      "Epoch:20/200 AVG Training Loss:0.662 AVG Validation Loss:0.659 AVG Training Acc 61.74 % AVG Validation Acc 61.91 %\n",
      "Epoch:30/200 AVG Training Loss:0.660 AVG Validation Loss:0.655 AVG Training Acc 61.99 % AVG Validation Acc 61.91 %\n",
      "Epoch:40/200 AVG Training Loss:0.663 AVG Validation Loss:0.658 AVG Training Acc 61.83 % AVG Validation Acc 61.91 %\n",
      "Epoch    44: reducing learning rate of group 0 to 1.0000e-03.\n",
      "Epoch:50/200 AVG Training Loss:0.657 AVG Validation Loss:0.656 AVG Training Acc 61.78 % AVG Validation Acc 61.91 %\n",
      "Epoch:60/200 AVG Training Loss:0.655 AVG Validation Loss:0.656 AVG Training Acc 61.96 % AVG Validation Acc 61.82 %\n",
      "Epoch:70/200 AVG Training Loss:0.653 AVG Validation Loss:0.655 AVG Training Acc 61.97 % AVG Validation Acc 61.82 %\n",
      "Epoch:80/200 AVG Training Loss:0.650 AVG Validation Loss:0.655 AVG Training Acc 62.03 % AVG Validation Acc 61.82 %\n",
      "Epoch:90/200 AVG Training Loss:0.648 AVG Validation Loss:0.654 AVG Training Acc 62.15 % AVG Validation Acc 61.82 %\n",
      "Epoch    98: reducing learning rate of group 0 to 1.0000e-04.\n",
      "Epoch:100/200 AVG Training Loss:0.646 AVG Validation Loss:0.655 AVG Training Acc 62.24 % AVG Validation Acc 61.82 %\n",
      "Epoch:110/200 AVG Training Loss:0.644 AVG Validation Loss:0.654 AVG Training Acc 62.24 % AVG Validation Acc 61.73 %\n",
      "Epoch:120/200 AVG Training Loss:0.646 AVG Validation Loss:0.656 AVG Training Acc 62.12 % AVG Validation Acc 61.82 %\n",
      "Epoch   129: reducing learning rate of group 0 to 1.0000e-05.\n",
      "Epoch:130/200 AVG Training Loss:0.645 AVG Validation Loss:0.654 AVG Training Acc 62.14 % AVG Validation Acc 61.82 %\n",
      "Epoch:140/200 AVG Training Loss:0.645 AVG Validation Loss:0.655 AVG Training Acc 62.13 % AVG Validation Acc 61.64 %\n",
      "Epoch:150/200 AVG Training Loss:0.644 AVG Validation Loss:0.655 AVG Training Acc 62.34 % AVG Validation Acc 61.82 %\n",
      "Epoch:160/200 AVG Training Loss:0.644 AVG Validation Loss:0.656 AVG Training Acc 62.16 % AVG Validation Acc 61.64 %\n",
      "Epoch   160: reducing learning rate of group 0 to 1.0000e-06.\n",
      "Epoch:170/200 AVG Training Loss:0.645 AVG Validation Loss:0.655 AVG Training Acc 62.13 % AVG Validation Acc 61.64 %\n",
      "Epoch:180/200 AVG Training Loss:0.644 AVG Validation Loss:0.656 AVG Training Acc 62.19 % AVG Validation Acc 61.73 %\n",
      "Epoch:190/200 AVG Training Loss:0.644 AVG Validation Loss:0.655 AVG Training Acc 62.16 % AVG Validation Acc 61.82 %\n",
      "Epoch   191: reducing learning rate of group 0 to 1.0000e-07.\n",
      "Epoch:200/200 AVG Training Loss:0.646 AVG Validation Loss:0.655 AVG Training Acc 62.17 % AVG Validation Acc 61.73 %\n",
      "Split 99\n"
     ]
    },
    {
     "data": {
      "application/vnd.jupyter.widget-view+json": {
       "model_id": "38304bfdf4c64874b7ad538d07942ac7",
       "version_major": 2,
       "version_minor": 0
      },
      "text/plain": [
       "  0%|          | 0/200 [00:00<?, ?it/s]"
      ]
     },
     "metadata": {},
     "output_type": "display_data"
    },
    {
     "name": "stdout",
     "output_type": "stream",
     "text": [
      "Epoch:10/200 AVG Training Loss:0.661 AVG Validation Loss:0.657 AVG Training Acc 61.89 % AVG Validation Acc 61.91 %\n",
      "Epoch:20/200 AVG Training Loss:0.661 AVG Validation Loss:0.656 AVG Training Acc 61.92 % AVG Validation Acc 61.91 %\n",
      "Epoch:30/200 AVG Training Loss:0.659 AVG Validation Loss:0.656 AVG Training Acc 61.83 % AVG Validation Acc 61.91 %\n",
      "Epoch    34: reducing learning rate of group 0 to 1.0000e-03.\n",
      "Epoch:40/200 AVG Training Loss:0.654 AVG Validation Loss:0.657 AVG Training Acc 62.12 % AVG Validation Acc 61.91 %\n",
      "Epoch:50/200 AVG Training Loss:0.651 AVG Validation Loss:0.659 AVG Training Acc 62.23 % AVG Validation Acc 61.82 %\n",
      "Epoch:60/200 AVG Training Loss:0.649 AVG Validation Loss:0.664 AVG Training Acc 62.30 % AVG Validation Acc 62.00 %\n",
      "Epoch    65: reducing learning rate of group 0 to 1.0000e-04.\n",
      "Epoch:70/200 AVG Training Loss:0.649 AVG Validation Loss:0.664 AVG Training Acc 62.23 % AVG Validation Acc 62.00 %\n",
      "Epoch:80/200 AVG Training Loss:0.649 AVG Validation Loss:0.662 AVG Training Acc 62.25 % AVG Validation Acc 62.00 %\n",
      "Epoch:90/200 AVG Training Loss:0.649 AVG Validation Loss:0.665 AVG Training Acc 62.26 % AVG Validation Acc 62.00 %\n",
      "Epoch    96: reducing learning rate of group 0 to 1.0000e-05.\n",
      "Epoch:100/200 AVG Training Loss:0.647 AVG Validation Loss:0.665 AVG Training Acc 62.26 % AVG Validation Acc 61.91 %\n",
      "Epoch:110/200 AVG Training Loss:0.648 AVG Validation Loss:0.666 AVG Training Acc 62.22 % AVG Validation Acc 61.91 %\n",
      "Epoch:120/200 AVG Training Loss:0.648 AVG Validation Loss:0.666 AVG Training Acc 62.33 % AVG Validation Acc 62.00 %\n",
      "Epoch   127: reducing learning rate of group 0 to 1.0000e-06.\n",
      "Epoch:130/200 AVG Training Loss:0.648 AVG Validation Loss:0.669 AVG Training Acc 62.34 % AVG Validation Acc 62.00 %\n",
      "Epoch:140/200 AVG Training Loss:0.647 AVG Validation Loss:0.665 AVG Training Acc 62.26 % AVG Validation Acc 62.00 %\n",
      "Epoch:150/200 AVG Training Loss:0.647 AVG Validation Loss:0.664 AVG Training Acc 62.29 % AVG Validation Acc 62.00 %\n",
      "Epoch   158: reducing learning rate of group 0 to 1.0000e-07.\n",
      "Epoch:160/200 AVG Training Loss:0.648 AVG Validation Loss:0.666 AVG Training Acc 62.19 % AVG Validation Acc 62.00 %\n",
      "Epoch:170/200 AVG Training Loss:0.648 AVG Validation Loss:0.664 AVG Training Acc 62.20 % AVG Validation Acc 62.00 %\n",
      "Epoch:180/200 AVG Training Loss:0.648 AVG Validation Loss:0.668 AVG Training Acc 62.28 % AVG Validation Acc 62.00 %\n",
      "Epoch   189: reducing learning rate of group 0 to 1.0000e-08.\n",
      "Epoch:190/200 AVG Training Loss:0.648 AVG Validation Loss:0.667 AVG Training Acc 62.27 % AVG Validation Acc 61.91 %\n",
      "Epoch:200/200 AVG Training Loss:0.648 AVG Validation Loss:0.667 AVG Training Acc 62.26 % AVG Validation Acc 62.00 %\n",
      "Split 100\n"
     ]
    },
    {
     "data": {
      "application/vnd.jupyter.widget-view+json": {
       "model_id": "0a38537acad24e768d407ec2064ea3b3",
       "version_major": 2,
       "version_minor": 0
      },
      "text/plain": [
       "  0%|          | 0/200 [00:00<?, ?it/s]"
      ]
     },
     "metadata": {},
     "output_type": "display_data"
    },
    {
     "name": "stdout",
     "output_type": "stream",
     "text": [
      "Epoch:10/200 AVG Training Loss:0.664 AVG Validation Loss:0.665 AVG Training Acc 61.90 % AVG Validation Acc 61.91 %\n",
      "Epoch:20/200 AVG Training Loss:0.661 AVG Validation Loss:0.662 AVG Training Acc 61.93 % AVG Validation Acc 61.91 %\n",
      "Epoch:30/200 AVG Training Loss:0.659 AVG Validation Loss:0.662 AVG Training Acc 61.92 % AVG Validation Acc 61.91 %\n",
      "Epoch    34: reducing learning rate of group 0 to 1.0000e-03.\n",
      "Epoch:40/200 AVG Training Loss:0.656 AVG Validation Loss:0.661 AVG Training Acc 61.93 % AVG Validation Acc 62.00 %\n",
      "Epoch:50/200 AVG Training Loss:0.654 AVG Validation Loss:0.664 AVG Training Acc 61.99 % AVG Validation Acc 61.91 %\n",
      "Epoch:60/200 AVG Training Loss:0.651 AVG Validation Loss:0.664 AVG Training Acc 62.04 % AVG Validation Acc 62.00 %\n",
      "Epoch    65: reducing learning rate of group 0 to 1.0000e-04.\n",
      "Epoch:70/200 AVG Training Loss:0.651 AVG Validation Loss:0.664 AVG Training Acc 62.06 % AVG Validation Acc 62.09 %\n",
      "Epoch:80/200 AVG Training Loss:0.650 AVG Validation Loss:0.665 AVG Training Acc 62.01 % AVG Validation Acc 62.00 %\n",
      "Epoch:90/200 AVG Training Loss:0.650 AVG Validation Loss:0.665 AVG Training Acc 62.11 % AVG Validation Acc 62.09 %\n",
      "Epoch    96: reducing learning rate of group 0 to 1.0000e-05.\n",
      "Epoch:100/200 AVG Training Loss:0.648 AVG Validation Loss:0.665 AVG Training Acc 62.10 % AVG Validation Acc 62.09 %\n",
      "Epoch:110/200 AVG Training Loss:0.648 AVG Validation Loss:0.665 AVG Training Acc 62.14 % AVG Validation Acc 62.09 %\n",
      "Epoch:120/200 AVG Training Loss:0.648 AVG Validation Loss:0.664 AVG Training Acc 62.13 % AVG Validation Acc 62.09 %\n",
      "Epoch   127: reducing learning rate of group 0 to 1.0000e-06.\n",
      "Epoch:130/200 AVG Training Loss:0.648 AVG Validation Loss:0.664 AVG Training Acc 62.07 % AVG Validation Acc 62.09 %\n",
      "Epoch:140/200 AVG Training Loss:0.649 AVG Validation Loss:0.665 AVG Training Acc 62.06 % AVG Validation Acc 62.09 %\n",
      "Epoch:150/200 AVG Training Loss:0.649 AVG Validation Loss:0.665 AVG Training Acc 62.09 % AVG Validation Acc 62.09 %\n",
      "Epoch   158: reducing learning rate of group 0 to 1.0000e-07.\n",
      "Epoch:160/200 AVG Training Loss:0.649 AVG Validation Loss:0.665 AVG Training Acc 62.06 % AVG Validation Acc 62.09 %\n",
      "Epoch:170/200 AVG Training Loss:0.649 AVG Validation Loss:0.665 AVG Training Acc 62.09 % AVG Validation Acc 62.09 %\n",
      "Epoch:180/200 AVG Training Loss:0.649 AVG Validation Loss:0.664 AVG Training Acc 62.13 % AVG Validation Acc 62.09 %\n",
      "Epoch   189: reducing learning rate of group 0 to 1.0000e-08.\n",
      "Epoch:190/200 AVG Training Loss:0.649 AVG Validation Loss:0.664 AVG Training Acc 62.15 % AVG Validation Acc 62.09 %\n",
      "Epoch:200/200 AVG Training Loss:0.649 AVG Validation Loss:0.664 AVG Training Acc 62.11 % AVG Validation Acc 62.09 %\n",
      "Split 101\n"
     ]
    },
    {
     "data": {
      "application/vnd.jupyter.widget-view+json": {
       "model_id": "cfeb8f6ec557445b97e770c320cd4088",
       "version_major": 2,
       "version_minor": 0
      },
      "text/plain": [
       "  0%|          | 0/200 [00:00<?, ?it/s]"
      ]
     },
     "metadata": {},
     "output_type": "display_data"
    },
    {
     "name": "stdout",
     "output_type": "stream",
     "text": [
      "Epoch:10/200 AVG Training Loss:0.664 AVG Validation Loss:0.665 AVG Training Acc 61.83 % AVG Validation Acc 61.95 %\n",
      "Epoch:20/200 AVG Training Loss:0.662 AVG Validation Loss:0.661 AVG Training Acc 61.74 % AVG Validation Acc 61.95 %\n",
      "Epoch:30/200 AVG Training Loss:0.660 AVG Validation Loss:0.660 AVG Training Acc 61.87 % AVG Validation Acc 61.95 %\n",
      "Epoch:40/200 AVG Training Loss:0.658 AVG Validation Loss:0.658 AVG Training Acc 61.96 % AVG Validation Acc 62.04 %\n",
      "Epoch:50/200 AVG Training Loss:0.658 AVG Validation Loss:0.658 AVG Training Acc 61.93 % AVG Validation Acc 62.04 %\n",
      "Epoch    53: reducing learning rate of group 0 to 1.0000e-03.\n",
      "Epoch:60/200 AVG Training Loss:0.652 AVG Validation Loss:0.660 AVG Training Acc 62.06 % AVG Validation Acc 62.04 %\n",
      "Epoch:70/200 AVG Training Loss:0.649 AVG Validation Loss:0.664 AVG Training Acc 62.14 % AVG Validation Acc 62.13 %\n",
      "Epoch:80/200 AVG Training Loss:0.646 AVG Validation Loss:0.667 AVG Training Acc 62.26 % AVG Validation Acc 62.13 %\n",
      "Epoch    84: reducing learning rate of group 0 to 1.0000e-04.\n",
      "Epoch:90/200 AVG Training Loss:0.644 AVG Validation Loss:0.675 AVG Training Acc 62.14 % AVG Validation Acc 62.13 %\n",
      "Epoch:100/200 AVG Training Loss:0.643 AVG Validation Loss:0.672 AVG Training Acc 62.29 % AVG Validation Acc 62.13 %\n",
      "Epoch:110/200 AVG Training Loss:0.644 AVG Validation Loss:0.673 AVG Training Acc 62.22 % AVG Validation Acc 62.13 %\n",
      "Epoch   115: reducing learning rate of group 0 to 1.0000e-05.\n",
      "Epoch:120/200 AVG Training Loss:0.645 AVG Validation Loss:0.673 AVG Training Acc 62.20 % AVG Validation Acc 62.13 %\n",
      "Epoch:130/200 AVG Training Loss:0.642 AVG Validation Loss:0.675 AVG Training Acc 62.35 % AVG Validation Acc 62.13 %\n",
      "Epoch:140/200 AVG Training Loss:0.642 AVG Validation Loss:0.673 AVG Training Acc 62.37 % AVG Validation Acc 62.13 %\n",
      "Epoch   146: reducing learning rate of group 0 to 1.0000e-06.\n",
      "Epoch:150/200 AVG Training Loss:0.643 AVG Validation Loss:0.670 AVG Training Acc 62.24 % AVG Validation Acc 62.13 %\n",
      "Epoch:160/200 AVG Training Loss:0.643 AVG Validation Loss:0.672 AVG Training Acc 62.29 % AVG Validation Acc 62.13 %\n",
      "Epoch:170/200 AVG Training Loss:0.642 AVG Validation Loss:0.671 AVG Training Acc 62.35 % AVG Validation Acc 62.13 %\n",
      "Epoch   177: reducing learning rate of group 0 to 1.0000e-07.\n",
      "Epoch:180/200 AVG Training Loss:0.642 AVG Validation Loss:0.670 AVG Training Acc 62.34 % AVG Validation Acc 62.13 %\n",
      "Epoch:190/200 AVG Training Loss:0.643 AVG Validation Loss:0.673 AVG Training Acc 62.27 % AVG Validation Acc 62.13 %\n",
      "Epoch:200/200 AVG Training Loss:0.643 AVG Validation Loss:0.672 AVG Training Acc 62.31 % AVG Validation Acc 62.13 %\n",
      "Split 102\n"
     ]
    },
    {
     "data": {
      "application/vnd.jupyter.widget-view+json": {
       "model_id": "ad07d1d20a624adfb49f1c846aeac9fa",
       "version_major": 2,
       "version_minor": 0
      },
      "text/plain": [
       "  0%|          | 0/200 [00:00<?, ?it/s]"
      ]
     },
     "metadata": {},
     "output_type": "display_data"
    },
    {
     "name": "stdout",
     "output_type": "stream",
     "text": [
      "Epoch:10/200 AVG Training Loss:0.664 AVG Validation Loss:0.665 AVG Training Acc 61.90 % AVG Validation Acc 61.86 %\n",
      "Epoch:20/200 AVG Training Loss:0.664 AVG Validation Loss:0.664 AVG Training Acc 61.91 % AVG Validation Acc 61.86 %\n",
      "Epoch    23: reducing learning rate of group 0 to 1.0000e-03.\n",
      "Epoch:30/200 AVG Training Loss:0.663 AVG Validation Loss:0.661 AVG Training Acc 61.98 % AVG Validation Acc 61.86 %\n",
      "Epoch:40/200 AVG Training Loss:0.663 AVG Validation Loss:0.661 AVG Training Acc 61.98 % AVG Validation Acc 61.86 %\n",
      "Epoch:50/200 AVG Training Loss:0.661 AVG Validation Loss:0.661 AVG Training Acc 61.98 % AVG Validation Acc 61.86 %\n",
      "Epoch:60/200 AVG Training Loss:0.659 AVG Validation Loss:0.659 AVG Training Acc 61.99 % AVG Validation Acc 61.77 %\n",
      "Epoch:70/200 AVG Training Loss:0.657 AVG Validation Loss:0.659 AVG Training Acc 62.01 % AVG Validation Acc 61.68 %\n",
      "Epoch    76: reducing learning rate of group 0 to 1.0000e-04.\n",
      "Epoch:80/200 AVG Training Loss:0.657 AVG Validation Loss:0.661 AVG Training Acc 61.98 % AVG Validation Acc 61.68 %\n",
      "Epoch:90/200 AVG Training Loss:0.657 AVG Validation Loss:0.663 AVG Training Acc 62.00 % AVG Validation Acc 61.68 %\n",
      "Epoch:100/200 AVG Training Loss:0.656 AVG Validation Loss:0.663 AVG Training Acc 62.00 % AVG Validation Acc 61.68 %\n",
      "Epoch   107: reducing learning rate of group 0 to 1.0000e-05.\n",
      "Epoch:110/200 AVG Training Loss:0.656 AVG Validation Loss:0.662 AVG Training Acc 62.00 % AVG Validation Acc 61.68 %\n",
      "Epoch:120/200 AVG Training Loss:0.656 AVG Validation Loss:0.661 AVG Training Acc 62.01 % AVG Validation Acc 61.68 %\n",
      "Epoch:130/200 AVG Training Loss:0.656 AVG Validation Loss:0.661 AVG Training Acc 62.01 % AVG Validation Acc 61.68 %\n",
      "Epoch   138: reducing learning rate of group 0 to 1.0000e-06.\n",
      "Epoch:140/200 AVG Training Loss:0.656 AVG Validation Loss:0.661 AVG Training Acc 62.00 % AVG Validation Acc 61.68 %\n",
      "Epoch:150/200 AVG Training Loss:0.657 AVG Validation Loss:0.661 AVG Training Acc 62.03 % AVG Validation Acc 61.68 %\n",
      "Epoch:160/200 AVG Training Loss:0.656 AVG Validation Loss:0.661 AVG Training Acc 62.02 % AVG Validation Acc 61.68 %\n",
      "Epoch   169: reducing learning rate of group 0 to 1.0000e-07.\n",
      "Epoch:170/200 AVG Training Loss:0.656 AVG Validation Loss:0.661 AVG Training Acc 62.02 % AVG Validation Acc 61.68 %\n",
      "Epoch:180/200 AVG Training Loss:0.657 AVG Validation Loss:0.661 AVG Training Acc 62.00 % AVG Validation Acc 61.68 %\n",
      "Epoch:190/200 AVG Training Loss:0.656 AVG Validation Loss:0.661 AVG Training Acc 62.02 % AVG Validation Acc 61.68 %\n",
      "Epoch:200/200 AVG Training Loss:0.657 AVG Validation Loss:0.661 AVG Training Acc 61.98 % AVG Validation Acc 61.68 %\n",
      "Epoch   200: reducing learning rate of group 0 to 1.0000e-08.\n",
      "Split 103\n"
     ]
    },
    {
     "data": {
      "application/vnd.jupyter.widget-view+json": {
       "model_id": "47b3811cc93546b38768b53502c7c07e",
       "version_major": 2,
       "version_minor": 0
      },
      "text/plain": [
       "  0%|          | 0/200 [00:00<?, ?it/s]"
      ]
     },
     "metadata": {},
     "output_type": "display_data"
    },
    {
     "name": "stdout",
     "output_type": "stream",
     "text": [
      "Epoch:10/200 AVG Training Loss:0.661 AVG Validation Loss:0.659 AVG Training Acc 61.92 % AVG Validation Acc 61.86 %\n",
      "Epoch:20/200 AVG Training Loss:0.660 AVG Validation Loss:0.659 AVG Training Acc 61.93 % AVG Validation Acc 61.86 %\n",
      "Epoch    27: reducing learning rate of group 0 to 1.0000e-03.\n",
      "Epoch:30/200 AVG Training Loss:0.655 AVG Validation Loss:0.661 AVG Training Acc 62.10 % AVG Validation Acc 61.77 %\n",
      "Epoch:40/200 AVG Training Loss:0.653 AVG Validation Loss:0.663 AVG Training Acc 62.13 % AVG Validation Acc 61.41 %\n",
      "Epoch:50/200 AVG Training Loss:0.651 AVG Validation Loss:0.661 AVG Training Acc 62.23 % AVG Validation Acc 61.50 %\n",
      "Epoch    58: reducing learning rate of group 0 to 1.0000e-04.\n",
      "Epoch:60/200 AVG Training Loss:0.648 AVG Validation Loss:0.663 AVG Training Acc 62.30 % AVG Validation Acc 61.50 %\n",
      "Epoch:70/200 AVG Training Loss:0.648 AVG Validation Loss:0.662 AVG Training Acc 62.36 % AVG Validation Acc 61.50 %\n",
      "Epoch:80/200 AVG Training Loss:0.647 AVG Validation Loss:0.662 AVG Training Acc 62.32 % AVG Validation Acc 61.41 %\n",
      "Epoch    89: reducing learning rate of group 0 to 1.0000e-05.\n",
      "Epoch:90/200 AVG Training Loss:0.647 AVG Validation Loss:0.663 AVG Training Acc 62.44 % AVG Validation Acc 61.41 %\n",
      "Epoch:100/200 AVG Training Loss:0.648 AVG Validation Loss:0.663 AVG Training Acc 62.33 % AVG Validation Acc 61.32 %\n",
      "Epoch:110/200 AVG Training Loss:0.648 AVG Validation Loss:0.663 AVG Training Acc 62.43 % AVG Validation Acc 61.32 %\n",
      "Epoch:120/200 AVG Training Loss:0.649 AVG Validation Loss:0.663 AVG Training Acc 62.21 % AVG Validation Acc 61.32 %\n",
      "Epoch   120: reducing learning rate of group 0 to 1.0000e-06.\n",
      "Epoch:130/200 AVG Training Loss:0.648 AVG Validation Loss:0.663 AVG Training Acc 62.31 % AVG Validation Acc 61.41 %\n",
      "Epoch:140/200 AVG Training Loss:0.648 AVG Validation Loss:0.663 AVG Training Acc 62.32 % AVG Validation Acc 61.41 %\n",
      "Epoch:150/200 AVG Training Loss:0.648 AVG Validation Loss:0.663 AVG Training Acc 62.39 % AVG Validation Acc 61.41 %\n",
      "Epoch   151: reducing learning rate of group 0 to 1.0000e-07.\n",
      "Epoch:160/200 AVG Training Loss:0.647 AVG Validation Loss:0.663 AVG Training Acc 62.39 % AVG Validation Acc 61.41 %\n",
      "Epoch:170/200 AVG Training Loss:0.648 AVG Validation Loss:0.662 AVG Training Acc 62.47 % AVG Validation Acc 61.50 %\n",
      "Epoch:180/200 AVG Training Loss:0.647 AVG Validation Loss:0.663 AVG Training Acc 62.35 % AVG Validation Acc 61.41 %\n",
      "Epoch   182: reducing learning rate of group 0 to 1.0000e-08.\n",
      "Epoch:190/200 AVG Training Loss:0.647 AVG Validation Loss:0.663 AVG Training Acc 62.33 % AVG Validation Acc 61.32 %\n",
      "Epoch:200/200 AVG Training Loss:0.647 AVG Validation Loss:0.663 AVG Training Acc 62.36 % AVG Validation Acc 61.41 %\n",
      "Split 104\n"
     ]
    },
    {
     "data": {
      "application/vnd.jupyter.widget-view+json": {
       "model_id": "7e402e078f11461a8e5af3e77cab03b4",
       "version_major": 2,
       "version_minor": 0
      },
      "text/plain": [
       "  0%|          | 0/200 [00:00<?, ?it/s]"
      ]
     },
     "metadata": {},
     "output_type": "display_data"
    },
    {
     "name": "stdout",
     "output_type": "stream",
     "text": [
      "Epoch:10/200 AVG Training Loss:0.664 AVG Validation Loss:0.661 AVG Training Acc 61.76 % AVG Validation Acc 61.86 %\n",
      "Epoch:20/200 AVG Training Loss:0.660 AVG Validation Loss:0.660 AVG Training Acc 61.95 % AVG Validation Acc 61.95 %\n",
      "Epoch    22: reducing learning rate of group 0 to 1.0000e-03.\n",
      "Epoch:30/200 AVG Training Loss:0.657 AVG Validation Loss:0.662 AVG Training Acc 61.98 % AVG Validation Acc 62.04 %\n",
      "Epoch:40/200 AVG Training Loss:0.656 AVG Validation Loss:0.663 AVG Training Acc 61.94 % AVG Validation Acc 61.86 %\n",
      "Epoch:50/200 AVG Training Loss:0.654 AVG Validation Loss:0.665 AVG Training Acc 62.05 % AVG Validation Acc 61.86 %\n",
      "Epoch    53: reducing learning rate of group 0 to 1.0000e-04.\n",
      "Epoch:60/200 AVG Training Loss:0.651 AVG Validation Loss:0.665 AVG Training Acc 62.14 % AVG Validation Acc 61.95 %\n",
      "Epoch:70/200 AVG Training Loss:0.651 AVG Validation Loss:0.665 AVG Training Acc 62.07 % AVG Validation Acc 61.86 %\n",
      "Epoch:80/200 AVG Training Loss:0.651 AVG Validation Loss:0.665 AVG Training Acc 62.06 % AVG Validation Acc 61.86 %\n",
      "Epoch    84: reducing learning rate of group 0 to 1.0000e-05.\n",
      "Epoch:90/200 AVG Training Loss:0.650 AVG Validation Loss:0.666 AVG Training Acc 62.11 % AVG Validation Acc 61.77 %\n",
      "Epoch:100/200 AVG Training Loss:0.650 AVG Validation Loss:0.666 AVG Training Acc 62.01 % AVG Validation Acc 61.77 %\n",
      "Epoch:110/200 AVG Training Loss:0.650 AVG Validation Loss:0.666 AVG Training Acc 62.12 % AVG Validation Acc 61.77 %\n",
      "Epoch   115: reducing learning rate of group 0 to 1.0000e-06.\n",
      "Epoch:120/200 AVG Training Loss:0.651 AVG Validation Loss:0.666 AVG Training Acc 62.03 % AVG Validation Acc 61.77 %\n",
      "Epoch:130/200 AVG Training Loss:0.650 AVG Validation Loss:0.666 AVG Training Acc 62.12 % AVG Validation Acc 61.77 %\n",
      "Epoch:140/200 AVG Training Loss:0.650 AVG Validation Loss:0.666 AVG Training Acc 62.06 % AVG Validation Acc 61.77 %\n",
      "Epoch   146: reducing learning rate of group 0 to 1.0000e-07.\n",
      "Epoch:150/200 AVG Training Loss:0.650 AVG Validation Loss:0.666 AVG Training Acc 62.16 % AVG Validation Acc 61.77 %\n",
      "Epoch:160/200 AVG Training Loss:0.651 AVG Validation Loss:0.666 AVG Training Acc 61.99 % AVG Validation Acc 61.77 %\n",
      "Epoch:170/200 AVG Training Loss:0.649 AVG Validation Loss:0.666 AVG Training Acc 62.20 % AVG Validation Acc 61.77 %\n",
      "Epoch   177: reducing learning rate of group 0 to 1.0000e-08.\n",
      "Epoch:180/200 AVG Training Loss:0.650 AVG Validation Loss:0.666 AVG Training Acc 62.11 % AVG Validation Acc 61.77 %\n",
      "Epoch:190/200 AVG Training Loss:0.650 AVG Validation Loss:0.666 AVG Training Acc 62.08 % AVG Validation Acc 61.77 %\n",
      "Epoch:200/200 AVG Training Loss:0.650 AVG Validation Loss:0.666 AVG Training Acc 62.06 % AVG Validation Acc 61.77 %\n",
      "Split 105\n"
     ]
    },
    {
     "data": {
      "application/vnd.jupyter.widget-view+json": {
       "model_id": "16456ba1a03f4fe59ffe5fb6603ff481",
       "version_major": 2,
       "version_minor": 0
      },
      "text/plain": [
       "  0%|          | 0/200 [00:00<?, ?it/s]"
      ]
     },
     "metadata": {},
     "output_type": "display_data"
    },
    {
     "name": "stdout",
     "output_type": "stream",
     "text": [
      "Epoch:10/200 AVG Training Loss:0.664 AVG Validation Loss:0.663 AVG Training Acc 61.90 % AVG Validation Acc 61.86 %\n",
      "Epoch:20/200 AVG Training Loss:0.660 AVG Validation Loss:0.658 AVG Training Acc 61.89 % AVG Validation Acc 61.86 %\n",
      "Epoch:30/200 AVG Training Loss:0.661 AVG Validation Loss:0.657 AVG Training Acc 61.87 % AVG Validation Acc 61.86 %\n",
      "Epoch    34: reducing learning rate of group 0 to 1.0000e-03.\n",
      "Epoch:40/200 AVG Training Loss:0.658 AVG Validation Loss:0.656 AVG Training Acc 61.91 % AVG Validation Acc 61.77 %\n",
      "Epoch:50/200 AVG Training Loss:0.656 AVG Validation Loss:0.657 AVG Training Acc 61.95 % AVG Validation Acc 61.68 %\n",
      "Epoch:60/200 AVG Training Loss:0.654 AVG Validation Loss:0.658 AVG Training Acc 62.03 % AVG Validation Acc 61.68 %\n",
      "Epoch    65: reducing learning rate of group 0 to 1.0000e-04.\n",
      "Epoch:70/200 AVG Training Loss:0.653 AVG Validation Loss:0.659 AVG Training Acc 62.02 % AVG Validation Acc 61.68 %\n",
      "Epoch:80/200 AVG Training Loss:0.651 AVG Validation Loss:0.659 AVG Training Acc 62.01 % AVG Validation Acc 61.59 %\n",
      "Epoch:90/200 AVG Training Loss:0.652 AVG Validation Loss:0.659 AVG Training Acc 62.06 % AVG Validation Acc 61.59 %\n",
      "Epoch    96: reducing learning rate of group 0 to 1.0000e-05.\n",
      "Epoch:100/200 AVG Training Loss:0.651 AVG Validation Loss:0.659 AVG Training Acc 61.99 % AVG Validation Acc 61.59 %\n",
      "Epoch:110/200 AVG Training Loss:0.651 AVG Validation Loss:0.659 AVG Training Acc 62.02 % AVG Validation Acc 61.59 %\n",
      "Epoch:120/200 AVG Training Loss:0.650 AVG Validation Loss:0.659 AVG Training Acc 62.12 % AVG Validation Acc 61.59 %\n",
      "Epoch   127: reducing learning rate of group 0 to 1.0000e-06.\n",
      "Epoch:130/200 AVG Training Loss:0.651 AVG Validation Loss:0.659 AVG Training Acc 62.04 % AVG Validation Acc 61.50 %\n",
      "Epoch:140/200 AVG Training Loss:0.651 AVG Validation Loss:0.659 AVG Training Acc 61.98 % AVG Validation Acc 61.50 %\n",
      "Epoch:150/200 AVG Training Loss:0.651 AVG Validation Loss:0.659 AVG Training Acc 62.03 % AVG Validation Acc 61.50 %\n",
      "Epoch   158: reducing learning rate of group 0 to 1.0000e-07.\n",
      "Epoch:160/200 AVG Training Loss:0.652 AVG Validation Loss:0.659 AVG Training Acc 62.02 % AVG Validation Acc 61.50 %\n",
      "Epoch:170/200 AVG Training Loss:0.652 AVG Validation Loss:0.659 AVG Training Acc 62.09 % AVG Validation Acc 61.50 %\n",
      "Epoch:180/200 AVG Training Loss:0.651 AVG Validation Loss:0.659 AVG Training Acc 62.08 % AVG Validation Acc 61.50 %\n",
      "Epoch   189: reducing learning rate of group 0 to 1.0000e-08.\n",
      "Epoch:190/200 AVG Training Loss:0.651 AVG Validation Loss:0.659 AVG Training Acc 62.01 % AVG Validation Acc 61.50 %\n",
      "Epoch:200/200 AVG Training Loss:0.651 AVG Validation Loss:0.659 AVG Training Acc 62.22 % AVG Validation Acc 61.50 %\n",
      "Split 106\n"
     ]
    },
    {
     "data": {
      "application/vnd.jupyter.widget-view+json": {
       "model_id": "3caea928d1174b009a4eb20390f67003",
       "version_major": 2,
       "version_minor": 0
      },
      "text/plain": [
       "  0%|          | 0/200 [00:00<?, ?it/s]"
      ]
     },
     "metadata": {},
     "output_type": "display_data"
    },
    {
     "name": "stdout",
     "output_type": "stream",
     "text": [
      "Epoch:10/200 AVG Training Loss:0.664 AVG Validation Loss:0.663 AVG Training Acc 61.93 % AVG Validation Acc 61.91 %\n",
      "Epoch:20/200 AVG Training Loss:0.661 AVG Validation Loss:0.660 AVG Training Acc 61.91 % AVG Validation Acc 61.91 %\n",
      "Epoch:30/200 AVG Training Loss:0.659 AVG Validation Loss:0.660 AVG Training Acc 61.95 % AVG Validation Acc 61.91 %\n",
      "Epoch    37: reducing learning rate of group 0 to 1.0000e-03.\n",
      "Epoch:40/200 AVG Training Loss:0.656 AVG Validation Loss:0.659 AVG Training Acc 61.93 % AVG Validation Acc 62.00 %\n",
      "Epoch:50/200 AVG Training Loss:0.653 AVG Validation Loss:0.660 AVG Training Acc 62.14 % AVG Validation Acc 61.91 %\n",
      "Epoch:60/200 AVG Training Loss:0.651 AVG Validation Loss:0.660 AVG Training Acc 62.25 % AVG Validation Acc 61.91 %\n",
      "Epoch    68: reducing learning rate of group 0 to 1.0000e-04.\n",
      "Epoch:70/200 AVG Training Loss:0.647 AVG Validation Loss:0.659 AVG Training Acc 62.42 % AVG Validation Acc 61.82 %\n",
      "Epoch:80/200 AVG Training Loss:0.648 AVG Validation Loss:0.658 AVG Training Acc 62.30 % AVG Validation Acc 61.91 %\n",
      "Epoch:90/200 AVG Training Loss:0.647 AVG Validation Loss:0.659 AVG Training Acc 62.37 % AVG Validation Acc 61.82 %\n",
      "Epoch    99: reducing learning rate of group 0 to 1.0000e-05.\n",
      "Epoch:100/200 AVG Training Loss:0.648 AVG Validation Loss:0.659 AVG Training Acc 62.39 % AVG Validation Acc 61.91 %\n",
      "Epoch:110/200 AVG Training Loss:0.647 AVG Validation Loss:0.659 AVG Training Acc 62.50 % AVG Validation Acc 61.82 %\n",
      "Epoch:120/200 AVG Training Loss:0.646 AVG Validation Loss:0.659 AVG Training Acc 62.43 % AVG Validation Acc 61.91 %\n",
      "Epoch:130/200 AVG Training Loss:0.648 AVG Validation Loss:0.659 AVG Training Acc 62.42 % AVG Validation Acc 61.82 %\n",
      "Epoch   130: reducing learning rate of group 0 to 1.0000e-06.\n",
      "Epoch:140/200 AVG Training Loss:0.647 AVG Validation Loss:0.659 AVG Training Acc 62.30 % AVG Validation Acc 61.73 %\n",
      "Epoch:150/200 AVG Training Loss:0.645 AVG Validation Loss:0.659 AVG Training Acc 62.57 % AVG Validation Acc 61.82 %\n",
      "Epoch:160/200 AVG Training Loss:0.646 AVG Validation Loss:0.659 AVG Training Acc 62.46 % AVG Validation Acc 61.82 %\n",
      "Epoch   161: reducing learning rate of group 0 to 1.0000e-07.\n",
      "Epoch:170/200 AVG Training Loss:0.647 AVG Validation Loss:0.659 AVG Training Acc 62.39 % AVG Validation Acc 61.82 %\n",
      "Epoch:180/200 AVG Training Loss:0.646 AVG Validation Loss:0.659 AVG Training Acc 62.44 % AVG Validation Acc 61.82 %\n",
      "Epoch:190/200 AVG Training Loss:0.647 AVG Validation Loss:0.659 AVG Training Acc 62.45 % AVG Validation Acc 61.82 %\n",
      "Epoch   192: reducing learning rate of group 0 to 1.0000e-08.\n",
      "Epoch:200/200 AVG Training Loss:0.648 AVG Validation Loss:0.659 AVG Training Acc 62.41 % AVG Validation Acc 61.82 %\n",
      "Split 107\n"
     ]
    },
    {
     "data": {
      "application/vnd.jupyter.widget-view+json": {
       "model_id": "a96f5f71af344ff882d74141875e1a18",
       "version_major": 2,
       "version_minor": 0
      },
      "text/plain": [
       "  0%|          | 0/200 [00:00<?, ?it/s]"
      ]
     },
     "metadata": {},
     "output_type": "display_data"
    },
    {
     "name": "stdout",
     "output_type": "stream",
     "text": [
      "Epoch:10/200 AVG Training Loss:0.662 AVG Validation Loss:0.660 AVG Training Acc 61.88 % AVG Validation Acc 61.91 %\n",
      "Epoch:20/200 AVG Training Loss:0.660 AVG Validation Loss:0.663 AVG Training Acc 61.95 % AVG Validation Acc 61.91 %\n",
      "Epoch    21: reducing learning rate of group 0 to 1.0000e-03.\n",
      "Epoch:30/200 AVG Training Loss:0.657 AVG Validation Loss:0.664 AVG Training Acc 61.95 % AVG Validation Acc 61.91 %\n",
      "Epoch:40/200 AVG Training Loss:0.657 AVG Validation Loss:0.662 AVG Training Acc 61.96 % AVG Validation Acc 61.91 %\n",
      "Epoch:50/200 AVG Training Loss:0.657 AVG Validation Loss:0.663 AVG Training Acc 61.99 % AVG Validation Acc 61.91 %\n",
      "Epoch    52: reducing learning rate of group 0 to 1.0000e-04.\n",
      "Epoch:60/200 AVG Training Loss:0.657 AVG Validation Loss:0.663 AVG Training Acc 61.99 % AVG Validation Acc 61.91 %\n",
      "Epoch:70/200 AVG Training Loss:0.656 AVG Validation Loss:0.664 AVG Training Acc 62.02 % AVG Validation Acc 61.91 %\n",
      "Epoch:80/200 AVG Training Loss:0.656 AVG Validation Loss:0.664 AVG Training Acc 61.97 % AVG Validation Acc 61.91 %\n",
      "Epoch    83: reducing learning rate of group 0 to 1.0000e-05.\n",
      "Epoch:90/200 AVG Training Loss:0.656 AVG Validation Loss:0.664 AVG Training Acc 62.02 % AVG Validation Acc 61.91 %\n",
      "Epoch:100/200 AVG Training Loss:0.656 AVG Validation Loss:0.664 AVG Training Acc 62.00 % AVG Validation Acc 61.91 %\n",
      "Epoch:110/200 AVG Training Loss:0.656 AVG Validation Loss:0.664 AVG Training Acc 61.97 % AVG Validation Acc 61.91 %\n",
      "Epoch   114: reducing learning rate of group 0 to 1.0000e-06.\n",
      "Epoch:120/200 AVG Training Loss:0.656 AVG Validation Loss:0.664 AVG Training Acc 61.97 % AVG Validation Acc 61.91 %\n",
      "Epoch:130/200 AVG Training Loss:0.657 AVG Validation Loss:0.664 AVG Training Acc 62.01 % AVG Validation Acc 61.91 %\n",
      "Epoch:140/200 AVG Training Loss:0.656 AVG Validation Loss:0.664 AVG Training Acc 61.98 % AVG Validation Acc 61.91 %\n",
      "Epoch   145: reducing learning rate of group 0 to 1.0000e-07.\n",
      "Epoch:150/200 AVG Training Loss:0.656 AVG Validation Loss:0.664 AVG Training Acc 62.00 % AVG Validation Acc 61.91 %\n",
      "Epoch:160/200 AVG Training Loss:0.656 AVG Validation Loss:0.664 AVG Training Acc 62.02 % AVG Validation Acc 61.91 %\n",
      "Epoch:170/200 AVG Training Loss:0.656 AVG Validation Loss:0.664 AVG Training Acc 62.06 % AVG Validation Acc 61.91 %\n",
      "Epoch   176: reducing learning rate of group 0 to 1.0000e-08.\n",
      "Epoch:180/200 AVG Training Loss:0.656 AVG Validation Loss:0.664 AVG Training Acc 62.07 % AVG Validation Acc 61.91 %\n",
      "Epoch:190/200 AVG Training Loss:0.656 AVG Validation Loss:0.664 AVG Training Acc 62.04 % AVG Validation Acc 61.91 %\n",
      "Epoch:200/200 AVG Training Loss:0.656 AVG Validation Loss:0.664 AVG Training Acc 62.04 % AVG Validation Acc 61.91 %\n",
      "Split 108\n"
     ]
    },
    {
     "data": {
      "application/vnd.jupyter.widget-view+json": {
       "model_id": "c015a94c8358406ab50811c86ea9e7a4",
       "version_major": 2,
       "version_minor": 0
      },
      "text/plain": [
       "  0%|          | 0/200 [00:00<?, ?it/s]"
      ]
     },
     "metadata": {},
     "output_type": "display_data"
    },
    {
     "name": "stdout",
     "output_type": "stream",
     "text": [
      "Epoch:10/200 AVG Training Loss:0.664 AVG Validation Loss:0.665 AVG Training Acc 61.92 % AVG Validation Acc 61.91 %\n",
      "Epoch    12: reducing learning rate of group 0 to 1.0000e-03.\n",
      "Epoch:20/200 AVG Training Loss:0.662 AVG Validation Loss:0.666 AVG Training Acc 61.91 % AVG Validation Acc 61.73 %\n",
      "Epoch:30/200 AVG Training Loss:0.661 AVG Validation Loss:0.667 AVG Training Acc 61.97 % AVG Validation Acc 61.73 %\n",
      "Epoch:40/200 AVG Training Loss:0.659 AVG Validation Loss:0.670 AVG Training Acc 62.04 % AVG Validation Acc 61.19 %\n",
      "Epoch    43: reducing learning rate of group 0 to 1.0000e-04.\n",
      "Epoch:50/200 AVG Training Loss:0.657 AVG Validation Loss:0.668 AVG Training Acc 62.11 % AVG Validation Acc 61.19 %\n",
      "Epoch:60/200 AVG Training Loss:0.657 AVG Validation Loss:0.669 AVG Training Acc 62.20 % AVG Validation Acc 61.19 %\n",
      "Epoch:70/200 AVG Training Loss:0.655 AVG Validation Loss:0.669 AVG Training Acc 62.13 % AVG Validation Acc 61.10 %\n",
      "Epoch    74: reducing learning rate of group 0 to 1.0000e-05.\n",
      "Epoch:80/200 AVG Training Loss:0.655 AVG Validation Loss:0.668 AVG Training Acc 62.20 % AVG Validation Acc 61.10 %\n",
      "Epoch:90/200 AVG Training Loss:0.655 AVG Validation Loss:0.668 AVG Training Acc 62.20 % AVG Validation Acc 61.10 %\n",
      "Epoch:100/200 AVG Training Loss:0.655 AVG Validation Loss:0.668 AVG Training Acc 62.20 % AVG Validation Acc 61.10 %\n",
      "Epoch   105: reducing learning rate of group 0 to 1.0000e-06.\n",
      "Epoch:110/200 AVG Training Loss:0.655 AVG Validation Loss:0.668 AVG Training Acc 62.17 % AVG Validation Acc 61.10 %\n",
      "Epoch:120/200 AVG Training Loss:0.654 AVG Validation Loss:0.668 AVG Training Acc 62.21 % AVG Validation Acc 61.10 %\n",
      "Epoch:130/200 AVG Training Loss:0.655 AVG Validation Loss:0.668 AVG Training Acc 62.06 % AVG Validation Acc 61.10 %\n",
      "Epoch   136: reducing learning rate of group 0 to 1.0000e-07.\n",
      "Epoch:140/200 AVG Training Loss:0.655 AVG Validation Loss:0.668 AVG Training Acc 62.12 % AVG Validation Acc 61.10 %\n",
      "Epoch:150/200 AVG Training Loss:0.655 AVG Validation Loss:0.668 AVG Training Acc 62.15 % AVG Validation Acc 61.10 %\n",
      "Epoch:160/200 AVG Training Loss:0.656 AVG Validation Loss:0.668 AVG Training Acc 62.09 % AVG Validation Acc 61.10 %\n",
      "Epoch   167: reducing learning rate of group 0 to 1.0000e-08.\n",
      "Epoch:170/200 AVG Training Loss:0.655 AVG Validation Loss:0.668 AVG Training Acc 62.07 % AVG Validation Acc 61.10 %\n",
      "Epoch:180/200 AVG Training Loss:0.655 AVG Validation Loss:0.668 AVG Training Acc 62.15 % AVG Validation Acc 61.10 %\n",
      "Epoch:190/200 AVG Training Loss:0.655 AVG Validation Loss:0.668 AVG Training Acc 62.10 % AVG Validation Acc 61.10 %\n",
      "Epoch:200/200 AVG Training Loss:0.655 AVG Validation Loss:0.668 AVG Training Acc 62.09 % AVG Validation Acc 61.10 %\n",
      "Split 109\n"
     ]
    },
    {
     "data": {
      "application/vnd.jupyter.widget-view+json": {
       "model_id": "6f2440dee158469c9b8b42727d091a48",
       "version_major": 2,
       "version_minor": 0
      },
      "text/plain": [
       "  0%|          | 0/200 [00:00<?, ?it/s]"
      ]
     },
     "metadata": {},
     "output_type": "display_data"
    },
    {
     "name": "stdout",
     "output_type": "stream",
     "text": [
      "Epoch:10/200 AVG Training Loss:0.663 AVG Validation Loss:0.665 AVG Training Acc 61.82 % AVG Validation Acc 61.91 %\n",
      "Epoch    18: reducing learning rate of group 0 to 1.0000e-03.\n",
      "Epoch:20/200 AVG Training Loss:0.658 AVG Validation Loss:0.666 AVG Training Acc 61.91 % AVG Validation Acc 61.91 %\n",
      "Epoch:30/200 AVG Training Loss:0.657 AVG Validation Loss:0.666 AVG Training Acc 61.97 % AVG Validation Acc 61.91 %\n",
      "Epoch:40/200 AVG Training Loss:0.656 AVG Validation Loss:0.667 AVG Training Acc 62.01 % AVG Validation Acc 61.82 %\n",
      "Epoch    49: reducing learning rate of group 0 to 1.0000e-04.\n",
      "Epoch:50/200 AVG Training Loss:0.655 AVG Validation Loss:0.667 AVG Training Acc 61.97 % AVG Validation Acc 62.00 %\n",
      "Epoch:60/200 AVG Training Loss:0.654 AVG Validation Loss:0.666 AVG Training Acc 61.93 % AVG Validation Acc 62.00 %\n",
      "Epoch:70/200 AVG Training Loss:0.653 AVG Validation Loss:0.667 AVG Training Acc 62.08 % AVG Validation Acc 62.00 %\n",
      "Epoch:80/200 AVG Training Loss:0.653 AVG Validation Loss:0.667 AVG Training Acc 62.06 % AVG Validation Acc 62.00 %\n",
      "Epoch    80: reducing learning rate of group 0 to 1.0000e-05.\n",
      "Epoch:90/200 AVG Training Loss:0.653 AVG Validation Loss:0.667 AVG Training Acc 62.08 % AVG Validation Acc 62.00 %\n",
      "Epoch:100/200 AVG Training Loss:0.654 AVG Validation Loss:0.667 AVG Training Acc 62.05 % AVG Validation Acc 62.00 %\n",
      "Epoch:110/200 AVG Training Loss:0.653 AVG Validation Loss:0.667 AVG Training Acc 62.03 % AVG Validation Acc 62.00 %\n",
      "Epoch   111: reducing learning rate of group 0 to 1.0000e-06.\n",
      "Epoch:120/200 AVG Training Loss:0.654 AVG Validation Loss:0.667 AVG Training Acc 62.06 % AVG Validation Acc 62.00 %\n",
      "Epoch:130/200 AVG Training Loss:0.653 AVG Validation Loss:0.666 AVG Training Acc 62.06 % AVG Validation Acc 62.00 %\n",
      "Epoch:140/200 AVG Training Loss:0.652 AVG Validation Loss:0.667 AVG Training Acc 62.09 % AVG Validation Acc 62.00 %\n",
      "Epoch   142: reducing learning rate of group 0 to 1.0000e-07.\n",
      "Epoch:150/200 AVG Training Loss:0.654 AVG Validation Loss:0.667 AVG Training Acc 61.99 % AVG Validation Acc 62.00 %\n",
      "Epoch:160/200 AVG Training Loss:0.654 AVG Validation Loss:0.666 AVG Training Acc 62.02 % AVG Validation Acc 62.00 %\n",
      "Epoch:170/200 AVG Training Loss:0.653 AVG Validation Loss:0.666 AVG Training Acc 62.14 % AVG Validation Acc 62.00 %\n",
      "Epoch   173: reducing learning rate of group 0 to 1.0000e-08.\n",
      "Epoch:180/200 AVG Training Loss:0.653 AVG Validation Loss:0.667 AVG Training Acc 62.06 % AVG Validation Acc 62.00 %\n",
      "Epoch:190/200 AVG Training Loss:0.653 AVG Validation Loss:0.667 AVG Training Acc 62.20 % AVG Validation Acc 62.00 %\n",
      "Epoch:200/200 AVG Training Loss:0.653 AVG Validation Loss:0.667 AVG Training Acc 62.13 % AVG Validation Acc 62.00 %\n",
      "Split 110\n"
     ]
    },
    {
     "data": {
      "application/vnd.jupyter.widget-view+json": {
       "model_id": "129102952ce94a24905bb7e0cd9a1714",
       "version_major": 2,
       "version_minor": 0
      },
      "text/plain": [
       "  0%|          | 0/200 [00:00<?, ?it/s]"
      ]
     },
     "metadata": {},
     "output_type": "display_data"
    },
    {
     "name": "stdout",
     "output_type": "stream",
     "text": [
      "Epoch:10/200 AVG Training Loss:0.664 AVG Validation Loss:0.665 AVG Training Acc 61.88 % AVG Validation Acc 61.91 %\n",
      "Epoch:20/200 AVG Training Loss:0.661 AVG Validation Loss:0.660 AVG Training Acc 61.90 % AVG Validation Acc 62.00 %\n",
      "Epoch:30/200 AVG Training Loss:0.660 AVG Validation Loss:0.660 AVG Training Acc 61.98 % AVG Validation Acc 62.00 %\n",
      "Epoch:40/200 AVG Training Loss:0.660 AVG Validation Loss:0.661 AVG Training Acc 61.91 % AVG Validation Acc 62.00 %\n",
      "Epoch    43: reducing learning rate of group 0 to 1.0000e-03.\n",
      "Epoch:50/200 AVG Training Loss:0.654 AVG Validation Loss:0.662 AVG Training Acc 62.07 % AVG Validation Acc 62.00 %\n",
      "Epoch:60/200 AVG Training Loss:0.654 AVG Validation Loss:0.669 AVG Training Acc 62.01 % AVG Validation Acc 62.00 %\n",
      "Epoch:70/200 AVG Training Loss:0.654 AVG Validation Loss:0.672 AVG Training Acc 62.02 % AVG Validation Acc 62.00 %\n",
      "Epoch    74: reducing learning rate of group 0 to 1.0000e-04.\n",
      "Epoch:80/200 AVG Training Loss:0.652 AVG Validation Loss:0.677 AVG Training Acc 62.14 % AVG Validation Acc 62.00 %\n",
      "Epoch:90/200 AVG Training Loss:0.651 AVG Validation Loss:0.678 AVG Training Acc 62.22 % AVG Validation Acc 62.00 %\n",
      "Epoch:100/200 AVG Training Loss:0.652 AVG Validation Loss:0.678 AVG Training Acc 62.07 % AVG Validation Acc 62.00 %\n",
      "Epoch   105: reducing learning rate of group 0 to 1.0000e-05.\n",
      "Epoch:110/200 AVG Training Loss:0.652 AVG Validation Loss:0.678 AVG Training Acc 62.08 % AVG Validation Acc 62.00 %\n",
      "Epoch:120/200 AVG Training Loss:0.652 AVG Validation Loss:0.678 AVG Training Acc 62.16 % AVG Validation Acc 62.00 %\n",
      "Epoch:130/200 AVG Training Loss:0.653 AVG Validation Loss:0.678 AVG Training Acc 62.13 % AVG Validation Acc 62.00 %\n",
      "Epoch   136: reducing learning rate of group 0 to 1.0000e-06.\n",
      "Epoch:140/200 AVG Training Loss:0.651 AVG Validation Loss:0.678 AVG Training Acc 62.07 % AVG Validation Acc 62.00 %\n",
      "Epoch:150/200 AVG Training Loss:0.651 AVG Validation Loss:0.678 AVG Training Acc 62.17 % AVG Validation Acc 62.00 %\n",
      "Epoch:160/200 AVG Training Loss:0.652 AVG Validation Loss:0.678 AVG Training Acc 62.12 % AVG Validation Acc 62.00 %\n",
      "Epoch   167: reducing learning rate of group 0 to 1.0000e-07.\n",
      "Epoch:170/200 AVG Training Loss:0.652 AVG Validation Loss:0.679 AVG Training Acc 62.13 % AVG Validation Acc 62.00 %\n",
      "Epoch:180/200 AVG Training Loss:0.652 AVG Validation Loss:0.678 AVG Training Acc 62.18 % AVG Validation Acc 62.00 %\n",
      "Epoch:190/200 AVG Training Loss:0.652 AVG Validation Loss:0.679 AVG Training Acc 62.18 % AVG Validation Acc 62.00 %\n",
      "Epoch   198: reducing learning rate of group 0 to 1.0000e-08.\n",
      "Epoch:200/200 AVG Training Loss:0.651 AVG Validation Loss:0.678 AVG Training Acc 62.12 % AVG Validation Acc 62.00 %\n",
      "Split 111\n"
     ]
    },
    {
     "data": {
      "application/vnd.jupyter.widget-view+json": {
       "model_id": "6a2e11d0a1894bdd91c3fed2891f9b25",
       "version_major": 2,
       "version_minor": 0
      },
      "text/plain": [
       "  0%|          | 0/200 [00:00<?, ?it/s]"
      ]
     },
     "metadata": {},
     "output_type": "display_data"
    },
    {
     "name": "stdout",
     "output_type": "stream",
     "text": [
      "Epoch:10/200 AVG Training Loss:0.664 AVG Validation Loss:0.664 AVG Training Acc 61.89 % AVG Validation Acc 61.95 %\n",
      "Epoch:20/200 AVG Training Loss:0.660 AVG Validation Loss:0.669 AVG Training Acc 61.87 % AVG Validation Acc 61.95 %\n",
      "Epoch    23: reducing learning rate of group 0 to 1.0000e-03.\n",
      "Epoch:30/200 AVG Training Loss:0.656 AVG Validation Loss:0.667 AVG Training Acc 61.97 % AVG Validation Acc 61.86 %\n",
      "Epoch:40/200 AVG Training Loss:0.656 AVG Validation Loss:0.667 AVG Training Acc 62.04 % AVG Validation Acc 61.95 %\n",
      "Epoch:50/200 AVG Training Loss:0.656 AVG Validation Loss:0.667 AVG Training Acc 62.00 % AVG Validation Acc 61.95 %\n",
      "Epoch    54: reducing learning rate of group 0 to 1.0000e-04.\n",
      "Epoch:60/200 AVG Training Loss:0.654 AVG Validation Loss:0.668 AVG Training Acc 62.10 % AVG Validation Acc 61.86 %\n",
      "Epoch:70/200 AVG Training Loss:0.653 AVG Validation Loss:0.668 AVG Training Acc 62.04 % AVG Validation Acc 61.86 %\n",
      "Epoch:80/200 AVG Training Loss:0.654 AVG Validation Loss:0.668 AVG Training Acc 62.02 % AVG Validation Acc 61.95 %\n",
      "Epoch    85: reducing learning rate of group 0 to 1.0000e-05.\n",
      "Epoch:90/200 AVG Training Loss:0.653 AVG Validation Loss:0.668 AVG Training Acc 62.10 % AVG Validation Acc 61.95 %\n",
      "Epoch:100/200 AVG Training Loss:0.654 AVG Validation Loss:0.668 AVG Training Acc 62.03 % AVG Validation Acc 61.95 %\n",
      "Epoch:110/200 AVG Training Loss:0.654 AVG Validation Loss:0.668 AVG Training Acc 62.09 % AVG Validation Acc 61.95 %\n",
      "Epoch   116: reducing learning rate of group 0 to 1.0000e-06.\n",
      "Epoch:120/200 AVG Training Loss:0.654 AVG Validation Loss:0.668 AVG Training Acc 62.06 % AVG Validation Acc 61.95 %\n",
      "Epoch:130/200 AVG Training Loss:0.654 AVG Validation Loss:0.668 AVG Training Acc 62.09 % AVG Validation Acc 61.95 %\n",
      "Epoch:140/200 AVG Training Loss:0.654 AVG Validation Loss:0.668 AVG Training Acc 62.04 % AVG Validation Acc 61.95 %\n",
      "Epoch   147: reducing learning rate of group 0 to 1.0000e-07.\n",
      "Epoch:150/200 AVG Training Loss:0.653 AVG Validation Loss:0.668 AVG Training Acc 62.08 % AVG Validation Acc 61.95 %\n",
      "Epoch:160/200 AVG Training Loss:0.654 AVG Validation Loss:0.668 AVG Training Acc 62.07 % AVG Validation Acc 61.95 %\n",
      "Epoch:170/200 AVG Training Loss:0.654 AVG Validation Loss:0.668 AVG Training Acc 62.05 % AVG Validation Acc 61.95 %\n",
      "Epoch   178: reducing learning rate of group 0 to 1.0000e-08.\n",
      "Epoch:180/200 AVG Training Loss:0.654 AVG Validation Loss:0.668 AVG Training Acc 62.07 % AVG Validation Acc 61.95 %\n",
      "Epoch:190/200 AVG Training Loss:0.654 AVG Validation Loss:0.668 AVG Training Acc 62.02 % AVG Validation Acc 61.95 %\n",
      "Epoch:200/200 AVG Training Loss:0.654 AVG Validation Loss:0.668 AVG Training Acc 62.00 % AVG Validation Acc 61.95 %\n",
      "Split 112\n"
     ]
    },
    {
     "data": {
      "application/vnd.jupyter.widget-view+json": {
       "model_id": "c38f38346c0b49fd914ff04e51827030",
       "version_major": 2,
       "version_minor": 0
      },
      "text/plain": [
       "  0%|          | 0/200 [00:00<?, ?it/s]"
      ]
     },
     "metadata": {},
     "output_type": "display_data"
    },
    {
     "name": "stdout",
     "output_type": "stream",
     "text": [
      "Epoch:10/200 AVG Training Loss:0.664 AVG Validation Loss:0.666 AVG Training Acc 61.94 % AVG Validation Acc 61.86 %\n",
      "Epoch:20/200 AVG Training Loss:0.662 AVG Validation Loss:0.662 AVG Training Acc 61.94 % AVG Validation Acc 61.86 %\n",
      "Epoch:30/200 AVG Training Loss:0.659 AVG Validation Loss:0.661 AVG Training Acc 61.92 % AVG Validation Acc 61.86 %\n",
      "Epoch:40/200 AVG Training Loss:0.658 AVG Validation Loss:0.665 AVG Training Acc 61.99 % AVG Validation Acc 61.77 %\n",
      "Epoch:50/200 AVG Training Loss:0.658 AVG Validation Loss:0.660 AVG Training Acc 61.95 % AVG Validation Acc 61.77 %\n",
      "Epoch    59: reducing learning rate of group 0 to 1.0000e-03.\n",
      "Epoch:60/200 AVG Training Loss:0.653 AVG Validation Loss:0.668 AVG Training Acc 62.09 % AVG Validation Acc 61.77 %\n",
      "Epoch:70/200 AVG Training Loss:0.648 AVG Validation Loss:0.683 AVG Training Acc 62.16 % AVG Validation Acc 61.77 %\n",
      "Epoch:80/200 AVG Training Loss:0.646 AVG Validation Loss:0.697 AVG Training Acc 62.22 % AVG Validation Acc 61.68 %\n",
      "Epoch:90/200 AVG Training Loss:0.644 AVG Validation Loss:0.703 AVG Training Acc 62.08 % AVG Validation Acc 61.59 %\n",
      "Epoch    90: reducing learning rate of group 0 to 1.0000e-04.\n",
      "Epoch:100/200 AVG Training Loss:0.643 AVG Validation Loss:0.704 AVG Training Acc 62.26 % AVG Validation Acc 61.59 %\n",
      "Epoch:110/200 AVG Training Loss:0.643 AVG Validation Loss:0.705 AVG Training Acc 62.34 % AVG Validation Acc 61.59 %\n",
      "Epoch:120/200 AVG Training Loss:0.643 AVG Validation Loss:0.704 AVG Training Acc 62.26 % AVG Validation Acc 61.59 %\n",
      "Epoch   121: reducing learning rate of group 0 to 1.0000e-05.\n",
      "Epoch:130/200 AVG Training Loss:0.641 AVG Validation Loss:0.705 AVG Training Acc 62.33 % AVG Validation Acc 61.59 %\n",
      "Epoch:140/200 AVG Training Loss:0.642 AVG Validation Loss:0.704 AVG Training Acc 62.28 % AVG Validation Acc 61.59 %\n",
      "Epoch:150/200 AVG Training Loss:0.643 AVG Validation Loss:0.705 AVG Training Acc 62.32 % AVG Validation Acc 61.59 %\n",
      "Epoch   152: reducing learning rate of group 0 to 1.0000e-06.\n",
      "Epoch:160/200 AVG Training Loss:0.642 AVG Validation Loss:0.704 AVG Training Acc 62.19 % AVG Validation Acc 61.59 %\n",
      "Epoch:170/200 AVG Training Loss:0.642 AVG Validation Loss:0.705 AVG Training Acc 62.28 % AVG Validation Acc 61.59 %\n",
      "Epoch:180/200 AVG Training Loss:0.643 AVG Validation Loss:0.704 AVG Training Acc 62.29 % AVG Validation Acc 61.50 %\n",
      "Epoch   183: reducing learning rate of group 0 to 1.0000e-07.\n",
      "Epoch:190/200 AVG Training Loss:0.642 AVG Validation Loss:0.706 AVG Training Acc 62.28 % AVG Validation Acc 61.59 %\n",
      "Epoch:200/200 AVG Training Loss:0.643 AVG Validation Loss:0.704 AVG Training Acc 62.20 % AVG Validation Acc 61.50 %\n",
      "Split 113\n"
     ]
    },
    {
     "data": {
      "application/vnd.jupyter.widget-view+json": {
       "model_id": "f10c9c321a414a5384fa87bc5890436d",
       "version_major": 2,
       "version_minor": 0
      },
      "text/plain": [
       "  0%|          | 0/200 [00:00<?, ?it/s]"
      ]
     },
     "metadata": {},
     "output_type": "display_data"
    },
    {
     "name": "stdout",
     "output_type": "stream",
     "text": [
      "Epoch:10/200 AVG Training Loss:0.661 AVG Validation Loss:0.660 AVG Training Acc 61.92 % AVG Validation Acc 61.86 %\n",
      "Epoch:20/200 AVG Training Loss:0.659 AVG Validation Loss:0.660 AVG Training Acc 61.92 % AVG Validation Acc 61.86 %\n",
      "Epoch    21: reducing learning rate of group 0 to 1.0000e-03.\n",
      "Epoch:30/200 AVG Training Loss:0.656 AVG Validation Loss:0.661 AVG Training Acc 62.01 % AVG Validation Acc 61.95 %\n",
      "Epoch:40/200 AVG Training Loss:0.653 AVG Validation Loss:0.663 AVG Training Acc 62.05 % AVG Validation Acc 61.86 %\n",
      "Epoch:50/200 AVG Training Loss:0.653 AVG Validation Loss:0.663 AVG Training Acc 62.03 % AVG Validation Acc 61.95 %\n",
      "Epoch    52: reducing learning rate of group 0 to 1.0000e-04.\n",
      "Epoch:60/200 AVG Training Loss:0.651 AVG Validation Loss:0.661 AVG Training Acc 62.05 % AVG Validation Acc 61.95 %\n",
      "Epoch:70/200 AVG Training Loss:0.649 AVG Validation Loss:0.660 AVG Training Acc 62.25 % AVG Validation Acc 62.67 %\n",
      "Epoch:80/200 AVG Training Loss:0.649 AVG Validation Loss:0.661 AVG Training Acc 62.45 % AVG Validation Acc 62.49 %\n",
      "Epoch    83: reducing learning rate of group 0 to 1.0000e-05.\n",
      "Epoch:90/200 AVG Training Loss:0.649 AVG Validation Loss:0.661 AVG Training Acc 62.17 % AVG Validation Acc 62.13 %\n",
      "Epoch:100/200 AVG Training Loss:0.648 AVG Validation Loss:0.661 AVG Training Acc 62.47 % AVG Validation Acc 61.95 %\n",
      "Epoch:110/200 AVG Training Loss:0.648 AVG Validation Loss:0.662 AVG Training Acc 62.39 % AVG Validation Acc 62.31 %\n",
      "Epoch   114: reducing learning rate of group 0 to 1.0000e-06.\n",
      "Epoch:120/200 AVG Training Loss:0.649 AVG Validation Loss:0.661 AVG Training Acc 62.54 % AVG Validation Acc 62.22 %\n",
      "Epoch:130/200 AVG Training Loss:0.648 AVG Validation Loss:0.661 AVG Training Acc 62.85 % AVG Validation Acc 62.22 %\n",
      "Epoch:140/200 AVG Training Loss:0.648 AVG Validation Loss:0.659 AVG Training Acc 62.44 % AVG Validation Acc 62.67 %\n",
      "Epoch   145: reducing learning rate of group 0 to 1.0000e-07.\n",
      "Epoch:150/200 AVG Training Loss:0.648 AVG Validation Loss:0.661 AVG Training Acc 62.61 % AVG Validation Acc 62.40 %\n",
      "Epoch:160/200 AVG Training Loss:0.648 AVG Validation Loss:0.661 AVG Training Acc 62.51 % AVG Validation Acc 62.13 %\n",
      "Epoch:170/200 AVG Training Loss:0.649 AVG Validation Loss:0.659 AVG Training Acc 62.53 % AVG Validation Acc 62.04 %\n",
      "Epoch   176: reducing learning rate of group 0 to 1.0000e-08.\n",
      "Epoch:180/200 AVG Training Loss:0.648 AVG Validation Loss:0.661 AVG Training Acc 62.60 % AVG Validation Acc 62.04 %\n",
      "Epoch:190/200 AVG Training Loss:0.649 AVG Validation Loss:0.661 AVG Training Acc 62.47 % AVG Validation Acc 62.22 %\n",
      "Epoch:200/200 AVG Training Loss:0.648 AVG Validation Loss:0.662 AVG Training Acc 62.67 % AVG Validation Acc 62.22 %\n",
      "Split 114\n"
     ]
    },
    {
     "data": {
      "application/vnd.jupyter.widget-view+json": {
       "model_id": "36ad97b9e3564f6d97bacb0f48a2030c",
       "version_major": 2,
       "version_minor": 0
      },
      "text/plain": [
       "  0%|          | 0/200 [00:00<?, ?it/s]"
      ]
     },
     "metadata": {},
     "output_type": "display_data"
    },
    {
     "name": "stdout",
     "output_type": "stream",
     "text": [
      "Epoch:10/200 AVG Training Loss:0.665 AVG Validation Loss:0.663 AVG Training Acc 61.87 % AVG Validation Acc 61.95 %\n",
      "Epoch:20/200 AVG Training Loss:0.661 AVG Validation Loss:0.657 AVG Training Acc 61.80 % AVG Validation Acc 61.86 %\n",
      "Epoch:30/200 AVG Training Loss:0.659 AVG Validation Loss:0.657 AVG Training Acc 61.93 % AVG Validation Acc 61.95 %\n",
      "Epoch    34: reducing learning rate of group 0 to 1.0000e-03.\n",
      "Epoch:40/200 AVG Training Loss:0.655 AVG Validation Loss:0.659 AVG Training Acc 62.00 % AVG Validation Acc 61.95 %\n",
      "Epoch:50/200 AVG Training Loss:0.653 AVG Validation Loss:0.660 AVG Training Acc 62.14 % AVG Validation Acc 61.86 %\n",
      "Epoch:60/200 AVG Training Loss:0.649 AVG Validation Loss:0.663 AVG Training Acc 62.06 % AVG Validation Acc 61.95 %\n",
      "Epoch    65: reducing learning rate of group 0 to 1.0000e-04.\n",
      "Epoch:70/200 AVG Training Loss:0.646 AVG Validation Loss:0.664 AVG Training Acc 62.23 % AVG Validation Acc 61.86 %\n",
      "Epoch:80/200 AVG Training Loss:0.647 AVG Validation Loss:0.665 AVG Training Acc 62.20 % AVG Validation Acc 61.77 %\n",
      "Epoch:90/200 AVG Training Loss:0.646 AVG Validation Loss:0.662 AVG Training Acc 62.29 % AVG Validation Acc 61.77 %\n",
      "Epoch    96: reducing learning rate of group 0 to 1.0000e-05.\n",
      "Epoch:100/200 AVG Training Loss:0.646 AVG Validation Loss:0.661 AVG Training Acc 62.17 % AVG Validation Acc 61.77 %\n",
      "Epoch:110/200 AVG Training Loss:0.645 AVG Validation Loss:0.662 AVG Training Acc 62.30 % AVG Validation Acc 61.77 %\n",
      "Epoch:120/200 AVG Training Loss:0.645 AVG Validation Loss:0.662 AVG Training Acc 62.25 % AVG Validation Acc 61.86 %\n",
      "Epoch   127: reducing learning rate of group 0 to 1.0000e-06.\n",
      "Epoch:130/200 AVG Training Loss:0.645 AVG Validation Loss:0.662 AVG Training Acc 62.38 % AVG Validation Acc 61.77 %\n",
      "Epoch:140/200 AVG Training Loss:0.646 AVG Validation Loss:0.662 AVG Training Acc 62.22 % AVG Validation Acc 61.77 %\n",
      "Epoch:150/200 AVG Training Loss:0.646 AVG Validation Loss:0.663 AVG Training Acc 62.21 % AVG Validation Acc 61.77 %\n",
      "Epoch   158: reducing learning rate of group 0 to 1.0000e-07.\n",
      "Epoch:160/200 AVG Training Loss:0.645 AVG Validation Loss:0.661 AVG Training Acc 62.17 % AVG Validation Acc 61.77 %\n",
      "Epoch:170/200 AVG Training Loss:0.646 AVG Validation Loss:0.661 AVG Training Acc 62.17 % AVG Validation Acc 61.77 %\n",
      "Epoch:180/200 AVG Training Loss:0.645 AVG Validation Loss:0.662 AVG Training Acc 62.26 % AVG Validation Acc 61.77 %\n",
      "Epoch   189: reducing learning rate of group 0 to 1.0000e-08.\n",
      "Epoch:190/200 AVG Training Loss:0.644 AVG Validation Loss:0.662 AVG Training Acc 62.30 % AVG Validation Acc 61.77 %\n",
      "Epoch:200/200 AVG Training Loss:0.645 AVG Validation Loss:0.662 AVG Training Acc 62.22 % AVG Validation Acc 61.77 %\n",
      "Split 115\n"
     ]
    },
    {
     "data": {
      "application/vnd.jupyter.widget-view+json": {
       "model_id": "f23a3ddd61c5462386dff04d2e3e502f",
       "version_major": 2,
       "version_minor": 0
      },
      "text/plain": [
       "  0%|          | 0/200 [00:00<?, ?it/s]"
      ]
     },
     "metadata": {},
     "output_type": "display_data"
    },
    {
     "name": "stdout",
     "output_type": "stream",
     "text": [
      "Epoch:10/200 AVG Training Loss:0.664 AVG Validation Loss:0.663 AVG Training Acc 61.88 % AVG Validation Acc 61.86 %\n",
      "Epoch:20/200 AVG Training Loss:0.661 AVG Validation Loss:0.656 AVG Training Acc 61.88 % AVG Validation Acc 61.95 %\n",
      "Epoch:30/200 AVG Training Loss:0.659 AVG Validation Loss:0.657 AVG Training Acc 61.92 % AVG Validation Acc 61.95 %\n",
      "Epoch:40/200 AVG Training Loss:0.657 AVG Validation Loss:0.657 AVG Training Acc 61.92 % AVG Validation Acc 61.95 %\n",
      "Epoch    48: reducing learning rate of group 0 to 1.0000e-03.\n",
      "Epoch:50/200 AVG Training Loss:0.657 AVG Validation Loss:0.657 AVG Training Acc 61.89 % AVG Validation Acc 61.95 %\n",
      "Epoch:60/200 AVG Training Loss:0.653 AVG Validation Loss:0.659 AVG Training Acc 62.08 % AVG Validation Acc 61.95 %\n",
      "Epoch:70/200 AVG Training Loss:0.650 AVG Validation Loss:0.660 AVG Training Acc 62.10 % AVG Validation Acc 61.86 %\n",
      "Epoch    79: reducing learning rate of group 0 to 1.0000e-04.\n",
      "Epoch:80/200 AVG Training Loss:0.649 AVG Validation Loss:0.660 AVG Training Acc 62.14 % AVG Validation Acc 61.86 %\n",
      "Epoch:90/200 AVG Training Loss:0.648 AVG Validation Loss:0.660 AVG Training Acc 62.14 % AVG Validation Acc 61.86 %\n",
      "Epoch:100/200 AVG Training Loss:0.648 AVG Validation Loss:0.661 AVG Training Acc 62.25 % AVG Validation Acc 61.95 %\n",
      "Epoch:110/200 AVG Training Loss:0.646 AVG Validation Loss:0.661 AVG Training Acc 62.31 % AVG Validation Acc 61.86 %\n",
      "Epoch   110: reducing learning rate of group 0 to 1.0000e-05.\n",
      "Epoch:120/200 AVG Training Loss:0.646 AVG Validation Loss:0.661 AVG Training Acc 62.22 % AVG Validation Acc 61.95 %\n",
      "Epoch:130/200 AVG Training Loss:0.647 AVG Validation Loss:0.661 AVG Training Acc 62.24 % AVG Validation Acc 61.95 %\n",
      "Epoch:140/200 AVG Training Loss:0.646 AVG Validation Loss:0.661 AVG Training Acc 62.28 % AVG Validation Acc 61.86 %\n",
      "Epoch   141: reducing learning rate of group 0 to 1.0000e-06.\n",
      "Epoch:150/200 AVG Training Loss:0.647 AVG Validation Loss:0.661 AVG Training Acc 62.29 % AVG Validation Acc 61.86 %\n",
      "Epoch:160/200 AVG Training Loss:0.647 AVG Validation Loss:0.661 AVG Training Acc 62.25 % AVG Validation Acc 61.95 %\n",
      "Epoch:170/200 AVG Training Loss:0.646 AVG Validation Loss:0.661 AVG Training Acc 62.24 % AVG Validation Acc 61.86 %\n",
      "Epoch   172: reducing learning rate of group 0 to 1.0000e-07.\n",
      "Epoch:180/200 AVG Training Loss:0.647 AVG Validation Loss:0.661 AVG Training Acc 62.20 % AVG Validation Acc 61.86 %\n",
      "Epoch:190/200 AVG Training Loss:0.646 AVG Validation Loss:0.662 AVG Training Acc 62.23 % AVG Validation Acc 61.86 %\n",
      "Epoch:200/200 AVG Training Loss:0.647 AVG Validation Loss:0.662 AVG Training Acc 62.19 % AVG Validation Acc 61.95 %\n",
      "Split 116\n"
     ]
    },
    {
     "data": {
      "application/vnd.jupyter.widget-view+json": {
       "model_id": "ac10739354214ea2b257c5fb49d09026",
       "version_major": 2,
       "version_minor": 0
      },
      "text/plain": [
       "  0%|          | 0/200 [00:00<?, ?it/s]"
      ]
     },
     "metadata": {},
     "output_type": "display_data"
    },
    {
     "name": "stdout",
     "output_type": "stream",
     "text": [
      "Epoch:10/200 AVG Training Loss:0.662 AVG Validation Loss:0.664 AVG Training Acc 61.86 % AVG Validation Acc 61.91 %\n",
      "Epoch:20/200 AVG Training Loss:0.660 AVG Validation Loss:0.663 AVG Training Acc 61.93 % AVG Validation Acc 61.91 %\n",
      "Epoch:30/200 AVG Training Loss:0.657 AVG Validation Loss:0.665 AVG Training Acc 61.93 % AVG Validation Acc 61.91 %\n",
      "Epoch    32: reducing learning rate of group 0 to 1.0000e-03.\n",
      "Epoch:40/200 AVG Training Loss:0.653 AVG Validation Loss:0.667 AVG Training Acc 62.42 % AVG Validation Acc 61.46 %\n",
      "Epoch:50/200 AVG Training Loss:0.651 AVG Validation Loss:0.668 AVG Training Acc 62.58 % AVG Validation Acc 61.46 %\n",
      "Epoch:60/200 AVG Training Loss:0.648 AVG Validation Loss:0.671 AVG Training Acc 62.69 % AVG Validation Acc 61.37 %\n",
      "Epoch    63: reducing learning rate of group 0 to 1.0000e-04.\n",
      "Epoch:70/200 AVG Training Loss:0.646 AVG Validation Loss:0.674 AVG Training Acc 62.85 % AVG Validation Acc 61.46 %\n",
      "Epoch:80/200 AVG Training Loss:0.644 AVG Validation Loss:0.674 AVG Training Acc 62.96 % AVG Validation Acc 61.01 %\n",
      "Epoch:90/200 AVG Training Loss:0.645 AVG Validation Loss:0.675 AVG Training Acc 62.97 % AVG Validation Acc 60.65 %\n",
      "Epoch    94: reducing learning rate of group 0 to 1.0000e-05.\n",
      "Epoch:100/200 AVG Training Loss:0.644 AVG Validation Loss:0.675 AVG Training Acc 62.85 % AVG Validation Acc 61.28 %\n",
      "Epoch:110/200 AVG Training Loss:0.645 AVG Validation Loss:0.675 AVG Training Acc 62.83 % AVG Validation Acc 60.83 %\n",
      "Epoch:120/200 AVG Training Loss:0.646 AVG Validation Loss:0.674 AVG Training Acc 62.70 % AVG Validation Acc 60.92 %\n",
      "Epoch   125: reducing learning rate of group 0 to 1.0000e-06.\n",
      "Epoch:130/200 AVG Training Loss:0.645 AVG Validation Loss:0.675 AVG Training Acc 63.01 % AVG Validation Acc 60.83 %\n",
      "Epoch:140/200 AVG Training Loss:0.645 AVG Validation Loss:0.674 AVG Training Acc 62.70 % AVG Validation Acc 61.10 %\n",
      "Epoch:150/200 AVG Training Loss:0.644 AVG Validation Loss:0.674 AVG Training Acc 62.94 % AVG Validation Acc 60.83 %\n",
      "Epoch   156: reducing learning rate of group 0 to 1.0000e-07.\n",
      "Epoch:160/200 AVG Training Loss:0.645 AVG Validation Loss:0.675 AVG Training Acc 62.93 % AVG Validation Acc 61.10 %\n",
      "Epoch:170/200 AVG Training Loss:0.646 AVG Validation Loss:0.675 AVG Training Acc 63.05 % AVG Validation Acc 60.83 %\n",
      "Epoch:180/200 AVG Training Loss:0.645 AVG Validation Loss:0.674 AVG Training Acc 62.86 % AVG Validation Acc 61.01 %\n",
      "Epoch   187: reducing learning rate of group 0 to 1.0000e-08.\n",
      "Epoch:190/200 AVG Training Loss:0.645 AVG Validation Loss:0.675 AVG Training Acc 62.79 % AVG Validation Acc 61.10 %\n",
      "Epoch:200/200 AVG Training Loss:0.644 AVG Validation Loss:0.675 AVG Training Acc 62.85 % AVG Validation Acc 60.56 %\n",
      "Split 117\n"
     ]
    },
    {
     "data": {
      "application/vnd.jupyter.widget-view+json": {
       "model_id": "166b45c0a4644e108510b32095ea8fd4",
       "version_major": 2,
       "version_minor": 0
      },
      "text/plain": [
       "  0%|          | 0/200 [00:00<?, ?it/s]"
      ]
     },
     "metadata": {},
     "output_type": "display_data"
    },
    {
     "name": "stdout",
     "output_type": "stream",
     "text": [
      "Epoch:10/200 AVG Training Loss:0.664 AVG Validation Loss:0.662 AVG Training Acc 61.84 % AVG Validation Acc 61.91 %\n",
      "Epoch:20/200 AVG Training Loss:0.660 AVG Validation Loss:0.659 AVG Training Acc 61.95 % AVG Validation Acc 61.91 %\n",
      "Epoch    28: reducing learning rate of group 0 to 1.0000e-03.\n",
      "Epoch:30/200 AVG Training Loss:0.655 AVG Validation Loss:0.659 AVG Training Acc 62.14 % AVG Validation Acc 61.91 %\n",
      "Epoch:40/200 AVG Training Loss:0.654 AVG Validation Loss:0.659 AVG Training Acc 62.09 % AVG Validation Acc 62.00 %\n",
      "Epoch:50/200 AVG Training Loss:0.652 AVG Validation Loss:0.666 AVG Training Acc 62.21 % AVG Validation Acc 61.91 %\n",
      "Epoch    59: reducing learning rate of group 0 to 1.0000e-04.\n",
      "Epoch:60/200 AVG Training Loss:0.650 AVG Validation Loss:0.671 AVG Training Acc 62.24 % AVG Validation Acc 61.82 %\n",
      "Epoch:70/200 AVG Training Loss:0.650 AVG Validation Loss:0.672 AVG Training Acc 62.24 % AVG Validation Acc 61.82 %\n",
      "Epoch:80/200 AVG Training Loss:0.649 AVG Validation Loss:0.670 AVG Training Acc 62.35 % AVG Validation Acc 61.91 %\n",
      "Epoch:90/200 AVG Training Loss:0.650 AVG Validation Loss:0.669 AVG Training Acc 62.27 % AVG Validation Acc 61.73 %\n",
      "Epoch    90: reducing learning rate of group 0 to 1.0000e-05.\n",
      "Epoch:100/200 AVG Training Loss:0.648 AVG Validation Loss:0.669 AVG Training Acc 62.46 % AVG Validation Acc 61.73 %\n",
      "Epoch:110/200 AVG Training Loss:0.649 AVG Validation Loss:0.669 AVG Training Acc 62.31 % AVG Validation Acc 61.73 %\n",
      "Epoch:120/200 AVG Training Loss:0.648 AVG Validation Loss:0.669 AVG Training Acc 62.42 % AVG Validation Acc 61.73 %\n",
      "Epoch   121: reducing learning rate of group 0 to 1.0000e-06.\n",
      "Epoch:130/200 AVG Training Loss:0.648 AVG Validation Loss:0.670 AVG Training Acc 62.39 % AVG Validation Acc 61.82 %\n",
      "Epoch:140/200 AVG Training Loss:0.649 AVG Validation Loss:0.670 AVG Training Acc 62.41 % AVG Validation Acc 61.82 %\n",
      "Epoch:150/200 AVG Training Loss:0.649 AVG Validation Loss:0.670 AVG Training Acc 62.33 % AVG Validation Acc 61.73 %\n",
      "Epoch   152: reducing learning rate of group 0 to 1.0000e-07.\n",
      "Epoch:160/200 AVG Training Loss:0.649 AVG Validation Loss:0.670 AVG Training Acc 62.36 % AVG Validation Acc 61.73 %\n",
      "Epoch:170/200 AVG Training Loss:0.649 AVG Validation Loss:0.670 AVG Training Acc 62.47 % AVG Validation Acc 61.73 %\n",
      "Epoch:180/200 AVG Training Loss:0.649 AVG Validation Loss:0.670 AVG Training Acc 62.31 % AVG Validation Acc 61.91 %\n",
      "Epoch   183: reducing learning rate of group 0 to 1.0000e-08.\n",
      "Epoch:190/200 AVG Training Loss:0.649 AVG Validation Loss:0.670 AVG Training Acc 62.40 % AVG Validation Acc 61.82 %\n",
      "Epoch:200/200 AVG Training Loss:0.649 AVG Validation Loss:0.670 AVG Training Acc 62.39 % AVG Validation Acc 61.91 %\n",
      "Split 118\n"
     ]
    },
    {
     "data": {
      "application/vnd.jupyter.widget-view+json": {
       "model_id": "9e823bd1284c4fc78545b0e1caf629c5",
       "version_major": 2,
       "version_minor": 0
      },
      "text/plain": [
       "  0%|          | 0/200 [00:00<?, ?it/s]"
      ]
     },
     "metadata": {},
     "output_type": "display_data"
    },
    {
     "name": "stdout",
     "output_type": "stream",
     "text": [
      "Epoch:10/200 AVG Training Loss:0.664 AVG Validation Loss:0.663 AVG Training Acc 61.89 % AVG Validation Acc 61.91 %\n",
      "Epoch:20/200 AVG Training Loss:0.660 AVG Validation Loss:0.661 AVG Training Acc 61.90 % AVG Validation Acc 61.91 %\n",
      "Epoch:30/200 AVG Training Loss:0.657 AVG Validation Loss:0.660 AVG Training Acc 61.89 % AVG Validation Acc 61.82 %\n",
      "Epoch    37: reducing learning rate of group 0 to 1.0000e-03.\n",
      "Epoch:40/200 AVG Training Loss:0.650 AVG Validation Loss:0.665 AVG Training Acc 62.14 % AVG Validation Acc 62.00 %\n",
      "Epoch:50/200 AVG Training Loss:0.644 AVG Validation Loss:0.671 AVG Training Acc 62.19 % AVG Validation Acc 62.00 %\n",
      "Epoch:60/200 AVG Training Loss:0.641 AVG Validation Loss:0.678 AVG Training Acc 62.34 % AVG Validation Acc 61.73 %\n",
      "Epoch    68: reducing learning rate of group 0 to 1.0000e-04.\n",
      "Epoch:70/200 AVG Training Loss:0.637 AVG Validation Loss:0.683 AVG Training Acc 62.34 % AVG Validation Acc 61.64 %\n",
      "Epoch:80/200 AVG Training Loss:0.637 AVG Validation Loss:0.684 AVG Training Acc 62.34 % AVG Validation Acc 61.64 %\n",
      "Epoch:90/200 AVG Training Loss:0.636 AVG Validation Loss:0.686 AVG Training Acc 62.53 % AVG Validation Acc 61.64 %\n",
      "Epoch    99: reducing learning rate of group 0 to 1.0000e-05.\n",
      "Epoch:100/200 AVG Training Loss:0.637 AVG Validation Loss:0.686 AVG Training Acc 62.36 % AVG Validation Acc 61.64 %\n",
      "Epoch:110/200 AVG Training Loss:0.637 AVG Validation Loss:0.687 AVG Training Acc 62.33 % AVG Validation Acc 61.64 %\n",
      "Epoch:120/200 AVG Training Loss:0.635 AVG Validation Loss:0.687 AVG Training Acc 62.48 % AVG Validation Acc 61.64 %\n",
      "Epoch:130/200 AVG Training Loss:0.637 AVG Validation Loss:0.687 AVG Training Acc 62.35 % AVG Validation Acc 61.64 %\n",
      "Epoch   130: reducing learning rate of group 0 to 1.0000e-06.\n",
      "Epoch:140/200 AVG Training Loss:0.636 AVG Validation Loss:0.687 AVG Training Acc 62.41 % AVG Validation Acc 61.64 %\n",
      "Epoch:150/200 AVG Training Loss:0.635 AVG Validation Loss:0.687 AVG Training Acc 62.50 % AVG Validation Acc 61.64 %\n",
      "Epoch:160/200 AVG Training Loss:0.635 AVG Validation Loss:0.686 AVG Training Acc 62.36 % AVG Validation Acc 61.64 %\n",
      "Epoch   161: reducing learning rate of group 0 to 1.0000e-07.\n",
      "Epoch:170/200 AVG Training Loss:0.635 AVG Validation Loss:0.687 AVG Training Acc 62.54 % AVG Validation Acc 61.64 %\n",
      "Epoch:180/200 AVG Training Loss:0.636 AVG Validation Loss:0.687 AVG Training Acc 62.33 % AVG Validation Acc 61.64 %\n",
      "Epoch:190/200 AVG Training Loss:0.636 AVG Validation Loss:0.686 AVG Training Acc 62.47 % AVG Validation Acc 61.64 %\n",
      "Epoch   192: reducing learning rate of group 0 to 1.0000e-08.\n",
      "Epoch:200/200 AVG Training Loss:0.636 AVG Validation Loss:0.687 AVG Training Acc 62.46 % AVG Validation Acc 61.64 %\n",
      "Split 119\n"
     ]
    },
    {
     "data": {
      "application/vnd.jupyter.widget-view+json": {
       "model_id": "a309d4f70d5747e1b57ada5deacc2cfc",
       "version_major": 2,
       "version_minor": 0
      },
      "text/plain": [
       "  0%|          | 0/200 [00:00<?, ?it/s]"
      ]
     },
     "metadata": {},
     "output_type": "display_data"
    },
    {
     "name": "stdout",
     "output_type": "stream",
     "text": [
      "Epoch:10/200 AVG Training Loss:0.665 AVG Validation Loss:0.663 AVG Training Acc 61.89 % AVG Validation Acc 61.91 %\n",
      "Epoch:20/200 AVG Training Loss:0.662 AVG Validation Loss:0.660 AVG Training Acc 61.90 % AVG Validation Acc 61.91 %\n",
      "Epoch:30/200 AVG Training Loss:0.664 AVG Validation Loss:0.663 AVG Training Acc 61.94 % AVG Validation Acc 61.91 %\n",
      "Epoch    33: reducing learning rate of group 0 to 1.0000e-03.\n",
      "Epoch:40/200 AVG Training Loss:0.658 AVG Validation Loss:0.660 AVG Training Acc 61.96 % AVG Validation Acc 61.91 %\n",
      "Epoch:50/200 AVG Training Loss:0.656 AVG Validation Loss:0.659 AVG Training Acc 62.02 % AVG Validation Acc 61.82 %\n",
      "Epoch:60/200 AVG Training Loss:0.654 AVG Validation Loss:0.661 AVG Training Acc 62.04 % AVG Validation Acc 61.82 %\n",
      "Epoch    64: reducing learning rate of group 0 to 1.0000e-04.\n",
      "Epoch:70/200 AVG Training Loss:0.653 AVG Validation Loss:0.661 AVG Training Acc 62.07 % AVG Validation Acc 61.73 %\n",
      "Epoch:80/200 AVG Training Loss:0.652 AVG Validation Loss:0.661 AVG Training Acc 62.06 % AVG Validation Acc 61.73 %\n",
      "Epoch:90/200 AVG Training Loss:0.652 AVG Validation Loss:0.661 AVG Training Acc 62.08 % AVG Validation Acc 61.64 %\n",
      "Epoch    95: reducing learning rate of group 0 to 1.0000e-05.\n",
      "Epoch:100/200 AVG Training Loss:0.651 AVG Validation Loss:0.661 AVG Training Acc 62.07 % AVG Validation Acc 61.64 %\n",
      "Epoch:110/200 AVG Training Loss:0.652 AVG Validation Loss:0.661 AVG Training Acc 62.08 % AVG Validation Acc 61.64 %\n",
      "Epoch:120/200 AVG Training Loss:0.652 AVG Validation Loss:0.661 AVG Training Acc 62.03 % AVG Validation Acc 61.64 %\n",
      "Epoch   126: reducing learning rate of group 0 to 1.0000e-06.\n",
      "Epoch:130/200 AVG Training Loss:0.651 AVG Validation Loss:0.661 AVG Training Acc 62.12 % AVG Validation Acc 61.64 %\n",
      "Epoch:140/200 AVG Training Loss:0.651 AVG Validation Loss:0.661 AVG Training Acc 62.09 % AVG Validation Acc 61.64 %\n",
      "Epoch:150/200 AVG Training Loss:0.651 AVG Validation Loss:0.661 AVG Training Acc 62.09 % AVG Validation Acc 61.64 %\n",
      "Epoch   157: reducing learning rate of group 0 to 1.0000e-07.\n",
      "Epoch:160/200 AVG Training Loss:0.652 AVG Validation Loss:0.661 AVG Training Acc 62.15 % AVG Validation Acc 61.64 %\n",
      "Epoch:170/200 AVG Training Loss:0.651 AVG Validation Loss:0.661 AVG Training Acc 62.07 % AVG Validation Acc 61.64 %\n",
      "Epoch:180/200 AVG Training Loss:0.652 AVG Validation Loss:0.661 AVG Training Acc 62.10 % AVG Validation Acc 61.64 %\n",
      "Epoch   188: reducing learning rate of group 0 to 1.0000e-08.\n",
      "Epoch:190/200 AVG Training Loss:0.652 AVG Validation Loss:0.661 AVG Training Acc 61.99 % AVG Validation Acc 61.64 %\n",
      "Epoch:200/200 AVG Training Loss:0.651 AVG Validation Loss:0.661 AVG Training Acc 62.05 % AVG Validation Acc 61.64 %\n",
      "Split 120\n"
     ]
    },
    {
     "data": {
      "application/vnd.jupyter.widget-view+json": {
       "model_id": "07f1300f94d94d3f8e072270840231cb",
       "version_major": 2,
       "version_minor": 0
      },
      "text/plain": [
       "  0%|          | 0/200 [00:00<?, ?it/s]"
      ]
     },
     "metadata": {},
     "output_type": "display_data"
    },
    {
     "name": "stdout",
     "output_type": "stream",
     "text": [
      "Epoch:10/200 AVG Training Loss:0.665 AVG Validation Loss:0.663 AVG Training Acc 61.85 % AVG Validation Acc 61.91 %\n",
      "Epoch    15: reducing learning rate of group 0 to 1.0000e-03.\n",
      "Epoch:20/200 AVG Training Loss:0.663 AVG Validation Loss:0.663 AVG Training Acc 61.85 % AVG Validation Acc 61.91 %\n",
      "Epoch:30/200 AVG Training Loss:0.661 AVG Validation Loss:0.664 AVG Training Acc 61.97 % AVG Validation Acc 62.09 %\n",
      "Epoch:40/200 AVG Training Loss:0.660 AVG Validation Loss:0.664 AVG Training Acc 62.04 % AVG Validation Acc 61.55 %\n",
      "Epoch    46: reducing learning rate of group 0 to 1.0000e-04.\n",
      "Epoch:50/200 AVG Training Loss:0.658 AVG Validation Loss:0.665 AVG Training Acc 62.15 % AVG Validation Acc 61.73 %\n",
      "Epoch:60/200 AVG Training Loss:0.657 AVG Validation Loss:0.664 AVG Training Acc 62.21 % AVG Validation Acc 61.73 %\n",
      "Epoch:70/200 AVG Training Loss:0.656 AVG Validation Loss:0.665 AVG Training Acc 62.26 % AVG Validation Acc 61.64 %\n",
      "Epoch    77: reducing learning rate of group 0 to 1.0000e-05.\n",
      "Epoch:80/200 AVG Training Loss:0.655 AVG Validation Loss:0.667 AVG Training Acc 62.30 % AVG Validation Acc 61.73 %\n",
      "Epoch:90/200 AVG Training Loss:0.655 AVG Validation Loss:0.666 AVG Training Acc 62.26 % AVG Validation Acc 61.73 %\n",
      "Epoch:100/200 AVG Training Loss:0.654 AVG Validation Loss:0.667 AVG Training Acc 62.27 % AVG Validation Acc 61.64 %\n",
      "Epoch   108: reducing learning rate of group 0 to 1.0000e-06.\n",
      "Epoch:110/200 AVG Training Loss:0.654 AVG Validation Loss:0.666 AVG Training Acc 62.41 % AVG Validation Acc 61.64 %\n",
      "Epoch:120/200 AVG Training Loss:0.655 AVG Validation Loss:0.666 AVG Training Acc 62.18 % AVG Validation Acc 61.64 %\n",
      "Epoch:130/200 AVG Training Loss:0.655 AVG Validation Loss:0.667 AVG Training Acc 62.34 % AVG Validation Acc 61.64 %\n",
      "Epoch   139: reducing learning rate of group 0 to 1.0000e-07.\n",
      "Epoch:140/200 AVG Training Loss:0.655 AVG Validation Loss:0.666 AVG Training Acc 62.24 % AVG Validation Acc 61.64 %\n",
      "Epoch:150/200 AVG Training Loss:0.654 AVG Validation Loss:0.666 AVG Training Acc 62.34 % AVG Validation Acc 61.64 %\n",
      "Epoch:160/200 AVG Training Loss:0.655 AVG Validation Loss:0.666 AVG Training Acc 62.28 % AVG Validation Acc 61.64 %\n",
      "Epoch:170/200 AVG Training Loss:0.656 AVG Validation Loss:0.666 AVG Training Acc 62.25 % AVG Validation Acc 61.64 %\n",
      "Epoch   170: reducing learning rate of group 0 to 1.0000e-08.\n",
      "Epoch:180/200 AVG Training Loss:0.656 AVG Validation Loss:0.666 AVG Training Acc 62.23 % AVG Validation Acc 61.64 %\n",
      "Epoch:190/200 AVG Training Loss:0.655 AVG Validation Loss:0.666 AVG Training Acc 62.33 % AVG Validation Acc 61.64 %\n",
      "Epoch:200/200 AVG Training Loss:0.656 AVG Validation Loss:0.667 AVG Training Acc 62.16 % AVG Validation Acc 61.64 %\n",
      "Split 121\n"
     ]
    },
    {
     "data": {
      "application/vnd.jupyter.widget-view+json": {
       "model_id": "253cc6020cb641488afad3e95bb23e7c",
       "version_major": 2,
       "version_minor": 0
      },
      "text/plain": [
       "  0%|          | 0/200 [00:00<?, ?it/s]"
      ]
     },
     "metadata": {},
     "output_type": "display_data"
    },
    {
     "name": "stdout",
     "output_type": "stream",
     "text": [
      "Epoch:10/200 AVG Training Loss:0.663 AVG Validation Loss:0.662 AVG Training Acc 61.88 % AVG Validation Acc 61.95 %\n",
      "Epoch:20/200 AVG Training Loss:0.659 AVG Validation Loss:0.661 AVG Training Acc 61.94 % AVG Validation Acc 62.04 %\n",
      "Epoch    25: reducing learning rate of group 0 to 1.0000e-03.\n",
      "Epoch:30/200 AVG Training Loss:0.655 AVG Validation Loss:0.660 AVG Training Acc 62.09 % AVG Validation Acc 61.86 %\n",
      "Epoch:40/200 AVG Training Loss:0.654 AVG Validation Loss:0.661 AVG Training Acc 62.10 % AVG Validation Acc 61.95 %\n",
      "Epoch:50/200 AVG Training Loss:0.651 AVG Validation Loss:0.666 AVG Training Acc 62.24 % AVG Validation Acc 61.86 %\n",
      "Epoch    56: reducing learning rate of group 0 to 1.0000e-04.\n",
      "Epoch:60/200 AVG Training Loss:0.651 AVG Validation Loss:0.666 AVG Training Acc 62.26 % AVG Validation Acc 61.77 %\n",
      "Epoch:70/200 AVG Training Loss:0.649 AVG Validation Loss:0.670 AVG Training Acc 62.19 % AVG Validation Acc 61.86 %\n",
      "Epoch:80/200 AVG Training Loss:0.650 AVG Validation Loss:0.670 AVG Training Acc 62.27 % AVG Validation Acc 61.86 %\n",
      "Epoch    87: reducing learning rate of group 0 to 1.0000e-05.\n",
      "Epoch:90/200 AVG Training Loss:0.648 AVG Validation Loss:0.672 AVG Training Acc 62.18 % AVG Validation Acc 61.86 %\n",
      "Epoch:100/200 AVG Training Loss:0.649 AVG Validation Loss:0.672 AVG Training Acc 62.20 % AVG Validation Acc 61.77 %\n",
      "Epoch:110/200 AVG Training Loss:0.650 AVG Validation Loss:0.672 AVG Training Acc 62.23 % AVG Validation Acc 61.86 %\n",
      "Epoch   118: reducing learning rate of group 0 to 1.0000e-06.\n",
      "Epoch:120/200 AVG Training Loss:0.649 AVG Validation Loss:0.672 AVG Training Acc 62.22 % AVG Validation Acc 61.86 %\n",
      "Epoch:130/200 AVG Training Loss:0.648 AVG Validation Loss:0.672 AVG Training Acc 62.37 % AVG Validation Acc 61.86 %\n",
      "Epoch:140/200 AVG Training Loss:0.648 AVG Validation Loss:0.673 AVG Training Acc 62.22 % AVG Validation Acc 61.95 %\n",
      "Epoch   149: reducing learning rate of group 0 to 1.0000e-07.\n",
      "Epoch:150/200 AVG Training Loss:0.647 AVG Validation Loss:0.672 AVG Training Acc 62.36 % AVG Validation Acc 61.86 %\n",
      "Epoch:160/200 AVG Training Loss:0.649 AVG Validation Loss:0.672 AVG Training Acc 62.26 % AVG Validation Acc 61.86 %\n",
      "Epoch:170/200 AVG Training Loss:0.649 AVG Validation Loss:0.673 AVG Training Acc 62.29 % AVG Validation Acc 61.86 %\n",
      "Epoch:180/200 AVG Training Loss:0.649 AVG Validation Loss:0.672 AVG Training Acc 62.25 % AVG Validation Acc 61.86 %\n",
      "Epoch   180: reducing learning rate of group 0 to 1.0000e-08.\n",
      "Epoch:190/200 AVG Training Loss:0.649 AVG Validation Loss:0.673 AVG Training Acc 62.25 % AVG Validation Acc 61.95 %\n",
      "Epoch:200/200 AVG Training Loss:0.647 AVG Validation Loss:0.673 AVG Training Acc 62.41 % AVG Validation Acc 61.86 %\n",
      "Split 122\n"
     ]
    },
    {
     "data": {
      "application/vnd.jupyter.widget-view+json": {
       "model_id": "4e6ff800d8974a0ba70b47f57ba12570",
       "version_major": 2,
       "version_minor": 0
      },
      "text/plain": [
       "  0%|          | 0/200 [00:00<?, ?it/s]"
      ]
     },
     "metadata": {},
     "output_type": "display_data"
    },
    {
     "name": "stdout",
     "output_type": "stream",
     "text": [
      "Epoch:10/200 AVG Training Loss:0.664 AVG Validation Loss:0.666 AVG Training Acc 61.86 % AVG Validation Acc 61.86 %\n",
      "Epoch:20/200 AVG Training Loss:0.660 AVG Validation Loss:0.658 AVG Training Acc 61.80 % AVG Validation Acc 61.86 %\n",
      "Epoch:30/200 AVG Training Loss:0.660 AVG Validation Loss:0.656 AVG Training Acc 61.87 % AVG Validation Acc 61.86 %\n",
      "Epoch:40/200 AVG Training Loss:0.659 AVG Validation Loss:0.656 AVG Training Acc 62.00 % AVG Validation Acc 61.86 %\n",
      "Epoch:50/200 AVG Training Loss:0.657 AVG Validation Loss:0.657 AVG Training Acc 62.00 % AVG Validation Acc 61.86 %\n",
      "Epoch:60/200 AVG Training Loss:0.658 AVG Validation Loss:0.653 AVG Training Acc 61.93 % AVG Validation Acc 61.95 %\n",
      "Epoch:70/200 AVG Training Loss:0.657 AVG Validation Loss:0.655 AVG Training Acc 61.71 % AVG Validation Acc 61.86 %\n",
      "Epoch    75: reducing learning rate of group 0 to 1.0000e-03.\n",
      "Epoch:80/200 AVG Training Loss:0.654 AVG Validation Loss:0.656 AVG Training Acc 61.97 % AVG Validation Acc 61.77 %\n",
      "Epoch:90/200 AVG Training Loss:0.653 AVG Validation Loss:0.656 AVG Training Acc 62.07 % AVG Validation Acc 61.59 %\n",
      "Epoch:100/200 AVG Training Loss:0.651 AVG Validation Loss:0.657 AVG Training Acc 62.01 % AVG Validation Acc 61.77 %\n",
      "Epoch   106: reducing learning rate of group 0 to 1.0000e-04.\n",
      "Epoch:110/200 AVG Training Loss:0.648 AVG Validation Loss:0.657 AVG Training Acc 62.20 % AVG Validation Acc 61.68 %\n",
      "Epoch:120/200 AVG Training Loss:0.649 AVG Validation Loss:0.659 AVG Training Acc 62.12 % AVG Validation Acc 61.77 %\n",
      "Epoch:130/200 AVG Training Loss:0.648 AVG Validation Loss:0.659 AVG Training Acc 62.03 % AVG Validation Acc 61.50 %\n",
      "Epoch   137: reducing learning rate of group 0 to 1.0000e-05.\n",
      "Epoch:140/200 AVG Training Loss:0.648 AVG Validation Loss:0.659 AVG Training Acc 62.09 % AVG Validation Acc 61.59 %\n",
      "Epoch:150/200 AVG Training Loss:0.647 AVG Validation Loss:0.658 AVG Training Acc 62.21 % AVG Validation Acc 61.41 %\n",
      "Epoch:160/200 AVG Training Loss:0.648 AVG Validation Loss:0.659 AVG Training Acc 62.09 % AVG Validation Acc 61.50 %\n",
      "Epoch   168: reducing learning rate of group 0 to 1.0000e-06.\n",
      "Epoch:170/200 AVG Training Loss:0.648 AVG Validation Loss:0.659 AVG Training Acc 62.15 % AVG Validation Acc 61.68 %\n",
      "Epoch:180/200 AVG Training Loss:0.647 AVG Validation Loss:0.659 AVG Training Acc 62.14 % AVG Validation Acc 61.59 %\n",
      "Epoch:190/200 AVG Training Loss:0.648 AVG Validation Loss:0.658 AVG Training Acc 62.08 % AVG Validation Acc 61.59 %\n",
      "Epoch   199: reducing learning rate of group 0 to 1.0000e-07.\n",
      "Epoch:200/200 AVG Training Loss:0.648 AVG Validation Loss:0.658 AVG Training Acc 62.15 % AVG Validation Acc 61.68 %\n",
      "Split 123\n"
     ]
    },
    {
     "data": {
      "application/vnd.jupyter.widget-view+json": {
       "model_id": "e4bb641b7ebc42cd9cd3bbd929f95785",
       "version_major": 2,
       "version_minor": 0
      },
      "text/plain": [
       "  0%|          | 0/200 [00:00<?, ?it/s]"
      ]
     },
     "metadata": {},
     "output_type": "display_data"
    },
    {
     "name": "stdout",
     "output_type": "stream",
     "text": [
      "Epoch:10/200 AVG Training Loss:0.664 AVG Validation Loss:0.664 AVG Training Acc 61.88 % AVG Validation Acc 61.86 %\n",
      "Epoch:20/200 AVG Training Loss:0.660 AVG Validation Loss:0.662 AVG Training Acc 61.90 % AVG Validation Acc 61.86 %\n",
      "Epoch:30/200 AVG Training Loss:0.659 AVG Validation Loss:0.664 AVG Training Acc 61.86 % AVG Validation Acc 61.86 %\n",
      "Epoch    30: reducing learning rate of group 0 to 1.0000e-03.\n",
      "Epoch:40/200 AVG Training Loss:0.655 AVG Validation Loss:0.664 AVG Training Acc 61.97 % AVG Validation Acc 61.86 %\n",
      "Epoch:50/200 AVG Training Loss:0.655 AVG Validation Loss:0.666 AVG Training Acc 61.99 % AVG Validation Acc 61.86 %\n",
      "Epoch:60/200 AVG Training Loss:0.654 AVG Validation Loss:0.667 AVG Training Acc 62.08 % AVG Validation Acc 61.86 %\n",
      "Epoch    61: reducing learning rate of group 0 to 1.0000e-04.\n",
      "Epoch:70/200 AVG Training Loss:0.652 AVG Validation Loss:0.671 AVG Training Acc 62.12 % AVG Validation Acc 61.86 %\n",
      "Epoch:80/200 AVG Training Loss:0.653 AVG Validation Loss:0.672 AVG Training Acc 62.07 % AVG Validation Acc 61.86 %\n",
      "Epoch:90/200 AVG Training Loss:0.652 AVG Validation Loss:0.675 AVG Training Acc 61.91 % AVG Validation Acc 61.86 %\n",
      "Epoch    92: reducing learning rate of group 0 to 1.0000e-05.\n",
      "Epoch:100/200 AVG Training Loss:0.652 AVG Validation Loss:0.675 AVG Training Acc 62.07 % AVG Validation Acc 61.77 %\n",
      "Epoch:110/200 AVG Training Loss:0.651 AVG Validation Loss:0.676 AVG Training Acc 62.07 % AVG Validation Acc 61.77 %\n",
      "Epoch:120/200 AVG Training Loss:0.652 AVG Validation Loss:0.678 AVG Training Acc 62.05 % AVG Validation Acc 61.86 %\n",
      "Epoch   123: reducing learning rate of group 0 to 1.0000e-06.\n",
      "Epoch:130/200 AVG Training Loss:0.652 AVG Validation Loss:0.678 AVG Training Acc 62.01 % AVG Validation Acc 61.86 %\n",
      "Epoch:140/200 AVG Training Loss:0.652 AVG Validation Loss:0.677 AVG Training Acc 62.11 % AVG Validation Acc 61.86 %\n",
      "Epoch:150/200 AVG Training Loss:0.652 AVG Validation Loss:0.677 AVG Training Acc 62.08 % AVG Validation Acc 61.86 %\n",
      "Epoch   154: reducing learning rate of group 0 to 1.0000e-07.\n",
      "Epoch:160/200 AVG Training Loss:0.652 AVG Validation Loss:0.677 AVG Training Acc 62.15 % AVG Validation Acc 61.86 %\n",
      "Epoch:170/200 AVG Training Loss:0.652 AVG Validation Loss:0.677 AVG Training Acc 62.05 % AVG Validation Acc 61.86 %\n",
      "Epoch:180/200 AVG Training Loss:0.652 AVG Validation Loss:0.677 AVG Training Acc 62.04 % AVG Validation Acc 61.86 %\n",
      "Epoch   185: reducing learning rate of group 0 to 1.0000e-08.\n",
      "Epoch:190/200 AVG Training Loss:0.651 AVG Validation Loss:0.678 AVG Training Acc 62.20 % AVG Validation Acc 61.86 %\n",
      "Epoch:200/200 AVG Training Loss:0.651 AVG Validation Loss:0.676 AVG Training Acc 62.09 % AVG Validation Acc 61.86 %\n",
      "Split 124\n"
     ]
    },
    {
     "data": {
      "application/vnd.jupyter.widget-view+json": {
       "model_id": "7e58e6cfc9a9448cb3d61cdb68f4ff6d",
       "version_major": 2,
       "version_minor": 0
      },
      "text/plain": [
       "  0%|          | 0/200 [00:00<?, ?it/s]"
      ]
     },
     "metadata": {},
     "output_type": "display_data"
    },
    {
     "name": "stdout",
     "output_type": "stream",
     "text": [
      "Epoch:10/200 AVG Training Loss:0.664 AVG Validation Loss:0.663 AVG Training Acc 61.90 % AVG Validation Acc 61.86 %\n",
      "Epoch:20/200 AVG Training Loss:0.662 AVG Validation Loss:0.660 AVG Training Acc 61.92 % AVG Validation Acc 61.86 %\n",
      "Epoch:30/200 AVG Training Loss:0.660 AVG Validation Loss:0.657 AVG Training Acc 62.01 % AVG Validation Acc 61.86 %\n",
      "Epoch:40/200 AVG Training Loss:0.659 AVG Validation Loss:0.659 AVG Training Acc 62.00 % AVG Validation Acc 61.95 %\n",
      "Epoch:50/200 AVG Training Loss:0.658 AVG Validation Loss:0.657 AVG Training Acc 61.99 % AVG Validation Acc 61.95 %\n",
      "Epoch:60/200 AVG Training Loss:0.656 AVG Validation Loss:0.660 AVG Training Acc 61.96 % AVG Validation Acc 61.68 %\n",
      "Epoch    63: reducing learning rate of group 0 to 1.0000e-03.\n",
      "Epoch:70/200 AVG Training Loss:0.650 AVG Validation Loss:0.658 AVG Training Acc 62.30 % AVG Validation Acc 61.68 %\n",
      "Epoch:80/200 AVG Training Loss:0.648 AVG Validation Loss:0.660 AVG Training Acc 62.31 % AVG Validation Acc 61.68 %\n",
      "Epoch:90/200 AVG Training Loss:0.646 AVG Validation Loss:0.661 AVG Training Acc 62.29 % AVG Validation Acc 61.68 %\n",
      "Epoch    94: reducing learning rate of group 0 to 1.0000e-04.\n",
      "Epoch:100/200 AVG Training Loss:0.645 AVG Validation Loss:0.662 AVG Training Acc 62.32 % AVG Validation Acc 61.68 %\n",
      "Epoch:110/200 AVG Training Loss:0.644 AVG Validation Loss:0.663 AVG Training Acc 62.30 % AVG Validation Acc 61.77 %\n",
      "Epoch:120/200 AVG Training Loss:0.644 AVG Validation Loss:0.662 AVG Training Acc 62.41 % AVG Validation Acc 61.86 %\n",
      "Epoch   125: reducing learning rate of group 0 to 1.0000e-05.\n",
      "Epoch:130/200 AVG Training Loss:0.643 AVG Validation Loss:0.662 AVG Training Acc 62.29 % AVG Validation Acc 61.77 %\n",
      "Epoch:140/200 AVG Training Loss:0.643 AVG Validation Loss:0.662 AVG Training Acc 62.44 % AVG Validation Acc 61.77 %\n",
      "Epoch:150/200 AVG Training Loss:0.642 AVG Validation Loss:0.663 AVG Training Acc 62.47 % AVG Validation Acc 61.77 %\n",
      "Epoch   156: reducing learning rate of group 0 to 1.0000e-06.\n",
      "Epoch:160/200 AVG Training Loss:0.642 AVG Validation Loss:0.661 AVG Training Acc 62.52 % AVG Validation Acc 61.77 %\n",
      "Epoch:170/200 AVG Training Loss:0.644 AVG Validation Loss:0.661 AVG Training Acc 62.40 % AVG Validation Acc 61.77 %\n",
      "Epoch:180/200 AVG Training Loss:0.642 AVG Validation Loss:0.664 AVG Training Acc 62.34 % AVG Validation Acc 61.77 %\n",
      "Epoch   187: reducing learning rate of group 0 to 1.0000e-07.\n",
      "Epoch:190/200 AVG Training Loss:0.644 AVG Validation Loss:0.662 AVG Training Acc 62.33 % AVG Validation Acc 61.86 %\n",
      "Epoch:200/200 AVG Training Loss:0.641 AVG Validation Loss:0.663 AVG Training Acc 62.42 % AVG Validation Acc 61.77 %\n",
      "Split 125\n"
     ]
    },
    {
     "data": {
      "application/vnd.jupyter.widget-view+json": {
       "model_id": "c28a626b820f42f09f96a1af0510d126",
       "version_major": 2,
       "version_minor": 0
      },
      "text/plain": [
       "  0%|          | 0/200 [00:00<?, ?it/s]"
      ]
     },
     "metadata": {},
     "output_type": "display_data"
    },
    {
     "name": "stdout",
     "output_type": "stream",
     "text": [
      "Epoch:10/200 AVG Training Loss:0.664 AVG Validation Loss:0.664 AVG Training Acc 61.89 % AVG Validation Acc 61.86 %\n",
      "Epoch:20/200 AVG Training Loss:0.660 AVG Validation Loss:0.661 AVG Training Acc 61.87 % AVG Validation Acc 61.86 %\n",
      "Epoch:30/200 AVG Training Loss:0.660 AVG Validation Loss:0.660 AVG Training Acc 62.01 % AVG Validation Acc 61.86 %\n",
      "Epoch:40/200 AVG Training Loss:0.658 AVG Validation Loss:0.659 AVG Training Acc 61.87 % AVG Validation Acc 61.95 %\n",
      "Epoch:50/200 AVG Training Loss:0.656 AVG Validation Loss:0.672 AVG Training Acc 61.91 % AVG Validation Acc 61.86 %\n",
      "Epoch    56: reducing learning rate of group 0 to 1.0000e-03.\n",
      "Epoch:60/200 AVG Training Loss:0.651 AVG Validation Loss:0.663 AVG Training Acc 62.11 % AVG Validation Acc 62.22 %\n",
      "Epoch:70/200 AVG Training Loss:0.649 AVG Validation Loss:0.665 AVG Training Acc 62.13 % AVG Validation Acc 62.04 %\n",
      "Epoch:80/200 AVG Training Loss:0.648 AVG Validation Loss:0.668 AVG Training Acc 62.13 % AVG Validation Acc 62.04 %\n",
      "Epoch    87: reducing learning rate of group 0 to 1.0000e-04.\n",
      "Epoch:90/200 AVG Training Loss:0.647 AVG Validation Loss:0.670 AVG Training Acc 62.23 % AVG Validation Acc 61.86 %\n",
      "Epoch:100/200 AVG Training Loss:0.646 AVG Validation Loss:0.669 AVG Training Acc 62.26 % AVG Validation Acc 61.86 %\n",
      "Epoch:110/200 AVG Training Loss:0.646 AVG Validation Loss:0.669 AVG Training Acc 62.18 % AVG Validation Acc 61.86 %\n",
      "Epoch   118: reducing learning rate of group 0 to 1.0000e-05.\n",
      "Epoch:120/200 AVG Training Loss:0.646 AVG Validation Loss:0.669 AVG Training Acc 62.24 % AVG Validation Acc 61.86 %\n",
      "Epoch:130/200 AVG Training Loss:0.645 AVG Validation Loss:0.669 AVG Training Acc 62.26 % AVG Validation Acc 61.86 %\n",
      "Epoch:140/200 AVG Training Loss:0.645 AVG Validation Loss:0.672 AVG Training Acc 62.23 % AVG Validation Acc 61.86 %\n",
      "Epoch   149: reducing learning rate of group 0 to 1.0000e-06.\n",
      "Epoch:150/200 AVG Training Loss:0.645 AVG Validation Loss:0.669 AVG Training Acc 62.32 % AVG Validation Acc 61.95 %\n",
      "Epoch:160/200 AVG Training Loss:0.645 AVG Validation Loss:0.670 AVG Training Acc 62.26 % AVG Validation Acc 61.86 %\n",
      "Epoch:170/200 AVG Training Loss:0.645 AVG Validation Loss:0.669 AVG Training Acc 62.32 % AVG Validation Acc 61.86 %\n",
      "Epoch:180/200 AVG Training Loss:0.646 AVG Validation Loss:0.670 AVG Training Acc 62.21 % AVG Validation Acc 61.86 %\n",
      "Epoch   180: reducing learning rate of group 0 to 1.0000e-07.\n",
      "Epoch:190/200 AVG Training Loss:0.646 AVG Validation Loss:0.669 AVG Training Acc 62.26 % AVG Validation Acc 61.86 %\n",
      "Epoch:200/200 AVG Training Loss:0.645 AVG Validation Loss:0.672 AVG Training Acc 62.20 % AVG Validation Acc 61.86 %\n",
      "Split 126\n"
     ]
    },
    {
     "data": {
      "application/vnd.jupyter.widget-view+json": {
       "model_id": "08b07bcf7309403ca9c1d969d7fde549",
       "version_major": 2,
       "version_minor": 0
      },
      "text/plain": [
       "  0%|          | 0/200 [00:00<?, ?it/s]"
      ]
     },
     "metadata": {},
     "output_type": "display_data"
    },
    {
     "name": "stdout",
     "output_type": "stream",
     "text": [
      "Epoch:10/200 AVG Training Loss:0.664 AVG Validation Loss:0.656 AVG Training Acc 61.90 % AVG Validation Acc 61.91 %\n",
      "Epoch:20/200 AVG Training Loss:0.661 AVG Validation Loss:0.658 AVG Training Acc 61.90 % AVG Validation Acc 61.91 %\n",
      "Epoch    21: reducing learning rate of group 0 to 1.0000e-03.\n",
      "Epoch:30/200 AVG Training Loss:0.657 AVG Validation Loss:0.659 AVG Training Acc 61.97 % AVG Validation Acc 61.73 %\n",
      "Epoch:40/200 AVG Training Loss:0.655 AVG Validation Loss:0.660 AVG Training Acc 61.95 % AVG Validation Acc 61.73 %\n",
      "Epoch:50/200 AVG Training Loss:0.656 AVG Validation Loss:0.661 AVG Training Acc 62.01 % AVG Validation Acc 61.73 %\n",
      "Epoch    52: reducing learning rate of group 0 to 1.0000e-04.\n",
      "Epoch:60/200 AVG Training Loss:0.655 AVG Validation Loss:0.661 AVG Training Acc 62.03 % AVG Validation Acc 61.82 %\n",
      "Epoch:70/200 AVG Training Loss:0.654 AVG Validation Loss:0.661 AVG Training Acc 62.11 % AVG Validation Acc 61.73 %\n",
      "Epoch:80/200 AVG Training Loss:0.655 AVG Validation Loss:0.661 AVG Training Acc 61.93 % AVG Validation Acc 61.73 %\n",
      "Epoch    83: reducing learning rate of group 0 to 1.0000e-05.\n",
      "Epoch:90/200 AVG Training Loss:0.654 AVG Validation Loss:0.662 AVG Training Acc 62.03 % AVG Validation Acc 61.64 %\n",
      "Epoch:100/200 AVG Training Loss:0.654 AVG Validation Loss:0.661 AVG Training Acc 62.00 % AVG Validation Acc 61.73 %\n",
      "Epoch:110/200 AVG Training Loss:0.655 AVG Validation Loss:0.661 AVG Training Acc 62.06 % AVG Validation Acc 61.73 %\n",
      "Epoch   114: reducing learning rate of group 0 to 1.0000e-06.\n",
      "Epoch:120/200 AVG Training Loss:0.653 AVG Validation Loss:0.661 AVG Training Acc 62.08 % AVG Validation Acc 61.73 %\n",
      "Epoch:130/200 AVG Training Loss:0.654 AVG Validation Loss:0.661 AVG Training Acc 62.11 % AVG Validation Acc 61.73 %\n",
      "Epoch:140/200 AVG Training Loss:0.653 AVG Validation Loss:0.661 AVG Training Acc 62.11 % AVG Validation Acc 61.64 %\n",
      "Epoch   145: reducing learning rate of group 0 to 1.0000e-07.\n",
      "Epoch:150/200 AVG Training Loss:0.653 AVG Validation Loss:0.661 AVG Training Acc 62.14 % AVG Validation Acc 61.73 %\n",
      "Epoch:160/200 AVG Training Loss:0.654 AVG Validation Loss:0.661 AVG Training Acc 62.14 % AVG Validation Acc 61.73 %\n",
      "Epoch:170/200 AVG Training Loss:0.653 AVG Validation Loss:0.661 AVG Training Acc 62.00 % AVG Validation Acc 61.73 %\n",
      "Epoch   176: reducing learning rate of group 0 to 1.0000e-08.\n",
      "Epoch:180/200 AVG Training Loss:0.654 AVG Validation Loss:0.661 AVG Training Acc 62.09 % AVG Validation Acc 61.73 %\n",
      "Epoch:190/200 AVG Training Loss:0.654 AVG Validation Loss:0.661 AVG Training Acc 62.10 % AVG Validation Acc 61.64 %\n",
      "Epoch:200/200 AVG Training Loss:0.654 AVG Validation Loss:0.661 AVG Training Acc 62.11 % AVG Validation Acc 61.64 %\n",
      "Split 127\n"
     ]
    },
    {
     "data": {
      "application/vnd.jupyter.widget-view+json": {
       "model_id": "55ebc6cd80d9498da05f7b731aafe745",
       "version_major": 2,
       "version_minor": 0
      },
      "text/plain": [
       "  0%|          | 0/200 [00:00<?, ?it/s]"
      ]
     },
     "metadata": {},
     "output_type": "display_data"
    },
    {
     "name": "stdout",
     "output_type": "stream",
     "text": [
      "Epoch:10/200 AVG Training Loss:0.664 AVG Validation Loss:0.664 AVG Training Acc 61.82 % AVG Validation Acc 61.91 %\n",
      "Epoch:20/200 AVG Training Loss:0.664 AVG Validation Loss:0.664 AVG Training Acc 61.87 % AVG Validation Acc 61.91 %\n",
      "Epoch:30/200 AVG Training Loss:0.661 AVG Validation Loss:0.662 AVG Training Acc 61.87 % AVG Validation Acc 61.91 %\n",
      "Epoch:40/200 AVG Training Loss:0.679 AVG Validation Loss:0.677 AVG Training Acc 59.82 % AVG Validation Acc 61.91 %\n",
      "Epoch    40: reducing learning rate of group 0 to 1.0000e-03.\n",
      "Epoch:50/200 AVG Training Loss:0.663 AVG Validation Loss:0.663 AVG Training Acc 61.91 % AVG Validation Acc 61.91 %\n",
      "Epoch:60/200 AVG Training Loss:0.660 AVG Validation Loss:0.663 AVG Training Acc 61.93 % AVG Validation Acc 61.91 %\n",
      "Epoch:70/200 AVG Training Loss:0.661 AVG Validation Loss:0.663 AVG Training Acc 61.89 % AVG Validation Acc 61.91 %\n",
      "Epoch    71: reducing learning rate of group 0 to 1.0000e-04.\n",
      "Epoch:80/200 AVG Training Loss:0.660 AVG Validation Loss:0.662 AVG Training Acc 61.91 % AVG Validation Acc 62.00 %\n",
      "Epoch:90/200 AVG Training Loss:0.661 AVG Validation Loss:0.662 AVG Training Acc 61.91 % AVG Validation Acc 62.00 %\n",
      "Epoch:100/200 AVG Training Loss:0.660 AVG Validation Loss:0.661 AVG Training Acc 61.94 % AVG Validation Acc 61.91 %\n",
      "Epoch   104: reducing learning rate of group 0 to 1.0000e-05.\n",
      "Epoch:110/200 AVG Training Loss:0.660 AVG Validation Loss:0.661 AVG Training Acc 61.94 % AVG Validation Acc 61.91 %\n",
      "Epoch:120/200 AVG Training Loss:0.661 AVG Validation Loss:0.661 AVG Training Acc 61.91 % AVG Validation Acc 61.91 %\n",
      "Epoch:130/200 AVG Training Loss:0.659 AVG Validation Loss:0.661 AVG Training Acc 61.95 % AVG Validation Acc 61.82 %\n",
      "Epoch   139: reducing learning rate of group 0 to 1.0000e-06.\n",
      "Epoch:140/200 AVG Training Loss:0.660 AVG Validation Loss:0.661 AVG Training Acc 61.94 % AVG Validation Acc 61.82 %\n",
      "Epoch:150/200 AVG Training Loss:0.659 AVG Validation Loss:0.661 AVG Training Acc 61.96 % AVG Validation Acc 61.91 %\n",
      "Epoch:160/200 AVG Training Loss:0.660 AVG Validation Loss:0.661 AVG Training Acc 61.90 % AVG Validation Acc 61.82 %\n",
      "Epoch:170/200 AVG Training Loss:0.659 AVG Validation Loss:0.662 AVG Training Acc 61.91 % AVG Validation Acc 61.82 %\n",
      "Epoch   170: reducing learning rate of group 0 to 1.0000e-07.\n",
      "Epoch:180/200 AVG Training Loss:0.660 AVG Validation Loss:0.661 AVG Training Acc 61.94 % AVG Validation Acc 61.82 %\n",
      "Epoch:190/200 AVG Training Loss:0.659 AVG Validation Loss:0.661 AVG Training Acc 61.93 % AVG Validation Acc 61.91 %\n",
      "Epoch:200/200 AVG Training Loss:0.660 AVG Validation Loss:0.661 AVG Training Acc 61.94 % AVG Validation Acc 61.91 %\n",
      "Split 128\n"
     ]
    },
    {
     "data": {
      "application/vnd.jupyter.widget-view+json": {
       "model_id": "13fb1764284044b393d29477e7420db7",
       "version_major": 2,
       "version_minor": 0
      },
      "text/plain": [
       "  0%|          | 0/200 [00:00<?, ?it/s]"
      ]
     },
     "metadata": {},
     "output_type": "display_data"
    },
    {
     "name": "stdout",
     "output_type": "stream",
     "text": [
      "Epoch:10/200 AVG Training Loss:0.664 AVG Validation Loss:0.663 AVG Training Acc 61.89 % AVG Validation Acc 61.91 %\n",
      "Epoch:20/200 AVG Training Loss:0.661 AVG Validation Loss:0.659 AVG Training Acc 61.76 % AVG Validation Acc 61.91 %\n",
      "Epoch:30/200 AVG Training Loss:0.660 AVG Validation Loss:0.660 AVG Training Acc 61.94 % AVG Validation Acc 61.91 %\n",
      "Epoch    31: reducing learning rate of group 0 to 1.0000e-03.\n",
      "Epoch:40/200 AVG Training Loss:0.657 AVG Validation Loss:0.661 AVG Training Acc 62.00 % AVG Validation Acc 62.09 %\n",
      "Epoch:50/200 AVG Training Loss:0.656 AVG Validation Loss:0.660 AVG Training Acc 61.96 % AVG Validation Acc 62.00 %\n",
      "Epoch:60/200 AVG Training Loss:0.654 AVG Validation Loss:0.662 AVG Training Acc 62.14 % AVG Validation Acc 62.09 %\n",
      "Epoch    62: reducing learning rate of group 0 to 1.0000e-04.\n",
      "Epoch:70/200 AVG Training Loss:0.653 AVG Validation Loss:0.662 AVG Training Acc 62.03 % AVG Validation Acc 61.91 %\n",
      "Epoch:80/200 AVG Training Loss:0.653 AVG Validation Loss:0.662 AVG Training Acc 62.11 % AVG Validation Acc 61.91 %\n",
      "Epoch:90/200 AVG Training Loss:0.653 AVG Validation Loss:0.662 AVG Training Acc 62.14 % AVG Validation Acc 61.91 %\n",
      "Epoch    93: reducing learning rate of group 0 to 1.0000e-05.\n",
      "Epoch:100/200 AVG Training Loss:0.653 AVG Validation Loss:0.662 AVG Training Acc 62.08 % AVG Validation Acc 61.91 %\n",
      "Epoch:110/200 AVG Training Loss:0.653 AVG Validation Loss:0.662 AVG Training Acc 62.11 % AVG Validation Acc 61.91 %\n",
      "Epoch:120/200 AVG Training Loss:0.653 AVG Validation Loss:0.662 AVG Training Acc 62.13 % AVG Validation Acc 61.91 %\n",
      "Epoch   124: reducing learning rate of group 0 to 1.0000e-06.\n",
      "Epoch:130/200 AVG Training Loss:0.652 AVG Validation Loss:0.662 AVG Training Acc 62.19 % AVG Validation Acc 61.91 %\n",
      "Epoch:140/200 AVG Training Loss:0.653 AVG Validation Loss:0.662 AVG Training Acc 62.11 % AVG Validation Acc 61.91 %\n",
      "Epoch:150/200 AVG Training Loss:0.652 AVG Validation Loss:0.662 AVG Training Acc 62.26 % AVG Validation Acc 61.91 %\n",
      "Epoch   155: reducing learning rate of group 0 to 1.0000e-07.\n",
      "Epoch:160/200 AVG Training Loss:0.652 AVG Validation Loss:0.662 AVG Training Acc 62.18 % AVG Validation Acc 61.91 %\n",
      "Epoch:170/200 AVG Training Loss:0.652 AVG Validation Loss:0.662 AVG Training Acc 62.17 % AVG Validation Acc 61.91 %\n",
      "Epoch:180/200 AVG Training Loss:0.652 AVG Validation Loss:0.662 AVG Training Acc 62.15 % AVG Validation Acc 61.91 %\n",
      "Epoch   186: reducing learning rate of group 0 to 1.0000e-08.\n",
      "Epoch:190/200 AVG Training Loss:0.653 AVG Validation Loss:0.662 AVG Training Acc 62.17 % AVG Validation Acc 61.91 %\n",
      "Epoch:200/200 AVG Training Loss:0.652 AVG Validation Loss:0.662 AVG Training Acc 62.19 % AVG Validation Acc 61.91 %\n",
      "Split 129\n"
     ]
    },
    {
     "data": {
      "application/vnd.jupyter.widget-view+json": {
       "model_id": "b4e5ebec8ddf45ceabbb84262609613e",
       "version_major": 2,
       "version_minor": 0
      },
      "text/plain": [
       "  0%|          | 0/200 [00:00<?, ?it/s]"
      ]
     },
     "metadata": {},
     "output_type": "display_data"
    },
    {
     "name": "stdout",
     "output_type": "stream",
     "text": [
      "Epoch:10/200 AVG Training Loss:0.661 AVG Validation Loss:0.666 AVG Training Acc 61.94 % AVG Validation Acc 62.00 %\n",
      "Epoch:20/200 AVG Training Loss:0.659 AVG Validation Loss:0.666 AVG Training Acc 61.88 % AVG Validation Acc 61.91 %\n",
      "Epoch    22: reducing learning rate of group 0 to 1.0000e-03.\n",
      "Epoch:30/200 AVG Training Loss:0.653 AVG Validation Loss:0.668 AVG Training Acc 62.00 % AVG Validation Acc 61.91 %\n",
      "Epoch:40/200 AVG Training Loss:0.652 AVG Validation Loss:0.669 AVG Training Acc 62.13 % AVG Validation Acc 62.00 %\n",
      "Epoch:50/200 AVG Training Loss:0.648 AVG Validation Loss:0.669 AVG Training Acc 62.16 % AVG Validation Acc 62.18 %\n",
      "Epoch    53: reducing learning rate of group 0 to 1.0000e-04.\n",
      "Epoch:60/200 AVG Training Loss:0.645 AVG Validation Loss:0.672 AVG Training Acc 62.35 % AVG Validation Acc 62.18 %\n",
      "Epoch:70/200 AVG Training Loss:0.644 AVG Validation Loss:0.673 AVG Training Acc 62.37 % AVG Validation Acc 62.09 %\n",
      "Epoch:80/200 AVG Training Loss:0.644 AVG Validation Loss:0.674 AVG Training Acc 62.43 % AVG Validation Acc 62.00 %\n",
      "Epoch    84: reducing learning rate of group 0 to 1.0000e-05.\n",
      "Epoch:90/200 AVG Training Loss:0.646 AVG Validation Loss:0.674 AVG Training Acc 62.32 % AVG Validation Acc 62.00 %\n",
      "Epoch:100/200 AVG Training Loss:0.645 AVG Validation Loss:0.674 AVG Training Acc 62.37 % AVG Validation Acc 62.00 %\n",
      "Epoch:110/200 AVG Training Loss:0.643 AVG Validation Loss:0.674 AVG Training Acc 62.49 % AVG Validation Acc 62.00 %\n",
      "Epoch   115: reducing learning rate of group 0 to 1.0000e-06.\n",
      "Epoch:120/200 AVG Training Loss:0.643 AVG Validation Loss:0.675 AVG Training Acc 62.43 % AVG Validation Acc 62.00 %\n",
      "Epoch:130/200 AVG Training Loss:0.643 AVG Validation Loss:0.674 AVG Training Acc 62.41 % AVG Validation Acc 62.09 %\n",
      "Epoch:140/200 AVG Training Loss:0.643 AVG Validation Loss:0.673 AVG Training Acc 62.51 % AVG Validation Acc 62.00 %\n",
      "Epoch   146: reducing learning rate of group 0 to 1.0000e-07.\n",
      "Epoch:150/200 AVG Training Loss:0.644 AVG Validation Loss:0.673 AVG Training Acc 62.47 % AVG Validation Acc 62.00 %\n",
      "Epoch:160/200 AVG Training Loss:0.643 AVG Validation Loss:0.675 AVG Training Acc 62.40 % AVG Validation Acc 61.91 %\n",
      "Epoch:170/200 AVG Training Loss:0.644 AVG Validation Loss:0.673 AVG Training Acc 62.40 % AVG Validation Acc 62.00 %\n",
      "Epoch   177: reducing learning rate of group 0 to 1.0000e-08.\n",
      "Epoch:180/200 AVG Training Loss:0.643 AVG Validation Loss:0.674 AVG Training Acc 62.51 % AVG Validation Acc 61.91 %\n",
      "Epoch:190/200 AVG Training Loss:0.644 AVG Validation Loss:0.674 AVG Training Acc 62.41 % AVG Validation Acc 62.00 %\n",
      "Epoch:200/200 AVG Training Loss:0.644 AVG Validation Loss:0.676 AVG Training Acc 62.44 % AVG Validation Acc 61.91 %\n",
      "Split 130\n"
     ]
    },
    {
     "data": {
      "application/vnd.jupyter.widget-view+json": {
       "model_id": "ae2137a3688445b4b8625b44b0b8ceab",
       "version_major": 2,
       "version_minor": 0
      },
      "text/plain": [
       "  0%|          | 0/200 [00:00<?, ?it/s]"
      ]
     },
     "metadata": {},
     "output_type": "display_data"
    },
    {
     "name": "stdout",
     "output_type": "stream",
     "text": [
      "Epoch:10/200 AVG Training Loss:0.665 AVG Validation Loss:0.666 AVG Training Acc 61.88 % AVG Validation Acc 61.91 %\n",
      "Epoch    14: reducing learning rate of group 0 to 1.0000e-03.\n",
      "Epoch:20/200 AVG Training Loss:0.662 AVG Validation Loss:0.666 AVG Training Acc 61.89 % AVG Validation Acc 61.91 %\n",
      "Epoch:30/200 AVG Training Loss:0.661 AVG Validation Loss:0.665 AVG Training Acc 61.88 % AVG Validation Acc 61.91 %\n",
      "Epoch:40/200 AVG Training Loss:0.659 AVG Validation Loss:0.663 AVG Training Acc 61.95 % AVG Validation Acc 62.00 %\n",
      "Epoch:50/200 AVG Training Loss:0.656 AVG Validation Loss:0.664 AVG Training Acc 61.96 % AVG Validation Acc 61.91 %\n",
      "Epoch    55: reducing learning rate of group 0 to 1.0000e-04.\n",
      "Epoch:60/200 AVG Training Loss:0.654 AVG Validation Loss:0.664 AVG Training Acc 62.03 % AVG Validation Acc 62.09 %\n",
      "Epoch:70/200 AVG Training Loss:0.653 AVG Validation Loss:0.668 AVG Training Acc 62.09 % AVG Validation Acc 62.09 %\n",
      "Epoch:80/200 AVG Training Loss:0.653 AVG Validation Loss:0.671 AVG Training Acc 62.10 % AVG Validation Acc 62.09 %\n",
      "Epoch    86: reducing learning rate of group 0 to 1.0000e-05.\n",
      "Epoch:90/200 AVG Training Loss:0.652 AVG Validation Loss:0.670 AVG Training Acc 62.06 % AVG Validation Acc 62.00 %\n",
      "Epoch:100/200 AVG Training Loss:0.652 AVG Validation Loss:0.670 AVG Training Acc 62.08 % AVG Validation Acc 62.00 %\n",
      "Epoch:110/200 AVG Training Loss:0.651 AVG Validation Loss:0.670 AVG Training Acc 62.00 % AVG Validation Acc 62.00 %\n",
      "Epoch   117: reducing learning rate of group 0 to 1.0000e-06.\n",
      "Epoch:120/200 AVG Training Loss:0.652 AVG Validation Loss:0.670 AVG Training Acc 62.02 % AVG Validation Acc 62.00 %\n",
      "Epoch:130/200 AVG Training Loss:0.651 AVG Validation Loss:0.670 AVG Training Acc 62.17 % AVG Validation Acc 62.00 %\n",
      "Epoch:140/200 AVG Training Loss:0.652 AVG Validation Loss:0.670 AVG Training Acc 62.07 % AVG Validation Acc 62.00 %\n",
      "Epoch   148: reducing learning rate of group 0 to 1.0000e-07.\n",
      "Epoch:150/200 AVG Training Loss:0.651 AVG Validation Loss:0.670 AVG Training Acc 62.00 % AVG Validation Acc 62.00 %\n",
      "Epoch:160/200 AVG Training Loss:0.651 AVG Validation Loss:0.670 AVG Training Acc 62.05 % AVG Validation Acc 62.00 %\n",
      "Epoch:170/200 AVG Training Loss:0.651 AVG Validation Loss:0.670 AVG Training Acc 62.08 % AVG Validation Acc 62.00 %\n",
      "Epoch   179: reducing learning rate of group 0 to 1.0000e-08.\n",
      "Epoch:180/200 AVG Training Loss:0.651 AVG Validation Loss:0.670 AVG Training Acc 62.02 % AVG Validation Acc 62.00 %\n",
      "Epoch:190/200 AVG Training Loss:0.651 AVG Validation Loss:0.670 AVG Training Acc 62.08 % AVG Validation Acc 62.00 %\n",
      "Epoch:200/200 AVG Training Loss:0.651 AVG Validation Loss:0.670 AVG Training Acc 62.04 % AVG Validation Acc 62.00 %\n",
      "Split 131\n"
     ]
    },
    {
     "data": {
      "application/vnd.jupyter.widget-view+json": {
       "model_id": "5bf350138f5a455eb420c3b54d7924bf",
       "version_major": 2,
       "version_minor": 0
      },
      "text/plain": [
       "  0%|          | 0/200 [00:00<?, ?it/s]"
      ]
     },
     "metadata": {},
     "output_type": "display_data"
    },
    {
     "name": "stdout",
     "output_type": "stream",
     "text": [
      "Epoch:10/200 AVG Training Loss:0.664 AVG Validation Loss:0.662 AVG Training Acc 61.89 % AVG Validation Acc 61.95 %\n",
      "Epoch:20/200 AVG Training Loss:0.663 AVG Validation Loss:0.661 AVG Training Acc 61.86 % AVG Validation Acc 61.95 %\n",
      "Epoch:30/200 AVG Training Loss:0.659 AVG Validation Loss:0.656 AVG Training Acc 61.83 % AVG Validation Acc 61.95 %\n",
      "Epoch:40/200 AVG Training Loss:0.658 AVG Validation Loss:0.662 AVG Training Acc 61.94 % AVG Validation Acc 61.95 %\n",
      "Epoch    44: reducing learning rate of group 0 to 1.0000e-03.\n",
      "Epoch:50/200 AVG Training Loss:0.653 AVG Validation Loss:0.662 AVG Training Acc 62.11 % AVG Validation Acc 61.95 %\n",
      "Epoch:60/200 AVG Training Loss:0.649 AVG Validation Loss:0.664 AVG Training Acc 62.50 % AVG Validation Acc 61.59 %\n",
      "Epoch:70/200 AVG Training Loss:0.647 AVG Validation Loss:0.668 AVG Training Acc 62.24 % AVG Validation Acc 62.67 %\n",
      "Epoch    75: reducing learning rate of group 0 to 1.0000e-04.\n",
      "Epoch:80/200 AVG Training Loss:0.644 AVG Validation Loss:0.670 AVG Training Acc 62.52 % AVG Validation Acc 61.95 %\n",
      "Epoch:90/200 AVG Training Loss:0.644 AVG Validation Loss:0.671 AVG Training Acc 62.70 % AVG Validation Acc 62.22 %\n",
      "Epoch:100/200 AVG Training Loss:0.643 AVG Validation Loss:0.669 AVG Training Acc 62.67 % AVG Validation Acc 62.58 %\n",
      "Epoch   106: reducing learning rate of group 0 to 1.0000e-05.\n",
      "Epoch:110/200 AVG Training Loss:0.643 AVG Validation Loss:0.669 AVG Training Acc 62.35 % AVG Validation Acc 62.67 %\n",
      "Epoch:120/200 AVG Training Loss:0.641 AVG Validation Loss:0.670 AVG Training Acc 62.73 % AVG Validation Acc 62.49 %\n",
      "Epoch:130/200 AVG Training Loss:0.643 AVG Validation Loss:0.671 AVG Training Acc 62.87 % AVG Validation Acc 62.31 %\n",
      "Epoch   137: reducing learning rate of group 0 to 1.0000e-06.\n",
      "Epoch:140/200 AVG Training Loss:0.642 AVG Validation Loss:0.670 AVG Training Acc 62.67 % AVG Validation Acc 62.94 %\n",
      "Epoch:150/200 AVG Training Loss:0.642 AVG Validation Loss:0.672 AVG Training Acc 62.56 % AVG Validation Acc 62.58 %\n",
      "Epoch:160/200 AVG Training Loss:0.642 AVG Validation Loss:0.672 AVG Training Acc 62.71 % AVG Validation Acc 62.40 %\n",
      "New Best Accuracy found: 63.12%\n",
      "Epoch: 167\n",
      "Epoch   168: reducing learning rate of group 0 to 1.0000e-07.\n",
      "Epoch:170/200 AVG Training Loss:0.642 AVG Validation Loss:0.670 AVG Training Acc 62.51 % AVG Validation Acc 62.40 %\n",
      "Epoch:180/200 AVG Training Loss:0.643 AVG Validation Loss:0.672 AVG Training Acc 62.49 % AVG Validation Acc 62.58 %\n",
      "Epoch:190/200 AVG Training Loss:0.642 AVG Validation Loss:0.671 AVG Training Acc 62.58 % AVG Validation Acc 62.13 %\n",
      "Epoch   199: reducing learning rate of group 0 to 1.0000e-08.\n",
      "Epoch:200/200 AVG Training Loss:0.642 AVG Validation Loss:0.670 AVG Training Acc 62.76 % AVG Validation Acc 62.67 %\n",
      "Split 132\n"
     ]
    },
    {
     "data": {
      "application/vnd.jupyter.widget-view+json": {
       "model_id": "05e3d040c8d14668bb0c8bcdec578712",
       "version_major": 2,
       "version_minor": 0
      },
      "text/plain": [
       "  0%|          | 0/200 [00:00<?, ?it/s]"
      ]
     },
     "metadata": {},
     "output_type": "display_data"
    },
    {
     "name": "stdout",
     "output_type": "stream",
     "text": [
      "Epoch:10/200 AVG Training Loss:0.664 AVG Validation Loss:0.665 AVG Training Acc 61.93 % AVG Validation Acc 61.86 %\n",
      "Epoch:20/200 AVG Training Loss:0.664 AVG Validation Loss:0.664 AVG Training Acc 61.90 % AVG Validation Acc 61.86 %\n",
      "Epoch    20: reducing learning rate of group 0 to 1.0000e-03.\n",
      "Epoch:30/200 AVG Training Loss:0.663 AVG Validation Loss:0.664 AVG Training Acc 61.90 % AVG Validation Acc 61.86 %\n",
      "Epoch:40/200 AVG Training Loss:0.662 AVG Validation Loss:0.664 AVG Training Acc 61.97 % AVG Validation Acc 61.68 %\n",
      "Epoch:50/200 AVG Training Loss:0.663 AVG Validation Loss:0.663 AVG Training Acc 61.96 % AVG Validation Acc 61.77 %\n",
      "Epoch:60/200 AVG Training Loss:0.661 AVG Validation Loss:0.664 AVG Training Acc 62.03 % AVG Validation Acc 61.68 %\n",
      "Epoch    68: reducing learning rate of group 0 to 1.0000e-04.\n",
      "Epoch:70/200 AVG Training Loss:0.660 AVG Validation Loss:0.663 AVG Training Acc 62.04 % AVG Validation Acc 61.86 %\n",
      "Epoch:80/200 AVG Training Loss:0.659 AVG Validation Loss:0.663 AVG Training Acc 62.01 % AVG Validation Acc 61.86 %\n",
      "Epoch:90/200 AVG Training Loss:0.659 AVG Validation Loss:0.663 AVG Training Acc 62.06 % AVG Validation Acc 61.86 %\n",
      "Epoch    99: reducing learning rate of group 0 to 1.0000e-05.\n",
      "Epoch:100/200 AVG Training Loss:0.659 AVG Validation Loss:0.663 AVG Training Acc 62.10 % AVG Validation Acc 61.86 %\n",
      "Epoch:110/200 AVG Training Loss:0.660 AVG Validation Loss:0.663 AVG Training Acc 62.09 % AVG Validation Acc 61.86 %\n",
      "Epoch:120/200 AVG Training Loss:0.660 AVG Validation Loss:0.663 AVG Training Acc 62.00 % AVG Validation Acc 61.86 %\n",
      "Epoch:130/200 AVG Training Loss:0.659 AVG Validation Loss:0.663 AVG Training Acc 62.10 % AVG Validation Acc 61.86 %\n",
      "Epoch   130: reducing learning rate of group 0 to 1.0000e-06.\n",
      "Epoch:140/200 AVG Training Loss:0.659 AVG Validation Loss:0.663 AVG Training Acc 62.05 % AVG Validation Acc 61.86 %\n",
      "Epoch:150/200 AVG Training Loss:0.659 AVG Validation Loss:0.663 AVG Training Acc 62.05 % AVG Validation Acc 61.86 %\n",
      "Epoch:160/200 AVG Training Loss:0.659 AVG Validation Loss:0.663 AVG Training Acc 62.06 % AVG Validation Acc 61.86 %\n",
      "Epoch   161: reducing learning rate of group 0 to 1.0000e-07.\n",
      "Epoch:170/200 AVG Training Loss:0.659 AVG Validation Loss:0.663 AVG Training Acc 62.06 % AVG Validation Acc 61.86 %\n",
      "Epoch:180/200 AVG Training Loss:0.659 AVG Validation Loss:0.663 AVG Training Acc 62.04 % AVG Validation Acc 61.86 %\n",
      "Epoch:190/200 AVG Training Loss:0.659 AVG Validation Loss:0.663 AVG Training Acc 62.13 % AVG Validation Acc 61.86 %\n",
      "Epoch   192: reducing learning rate of group 0 to 1.0000e-08.\n",
      "Epoch:200/200 AVG Training Loss:0.659 AVG Validation Loss:0.663 AVG Training Acc 62.10 % AVG Validation Acc 61.86 %\n",
      "Split 133\n"
     ]
    },
    {
     "data": {
      "application/vnd.jupyter.widget-view+json": {
       "model_id": "fa4fd3eec6b24addac261c46f283a1da",
       "version_major": 2,
       "version_minor": 0
      },
      "text/plain": [
       "  0%|          | 0/200 [00:00<?, ?it/s]"
      ]
     },
     "metadata": {},
     "output_type": "display_data"
    },
    {
     "name": "stdout",
     "output_type": "stream",
     "text": [
      "Epoch:10/200 AVG Training Loss:0.664 AVG Validation Loss:0.666 AVG Training Acc 61.90 % AVG Validation Acc 61.86 %\n",
      "Epoch:20/200 AVG Training Loss:0.660 AVG Validation Loss:0.663 AVG Training Acc 61.85 % AVG Validation Acc 61.86 %\n",
      "Epoch:30/200 AVG Training Loss:0.659 AVG Validation Loss:0.662 AVG Training Acc 61.97 % AVG Validation Acc 61.86 %\n",
      "Epoch:40/200 AVG Training Loss:0.659 AVG Validation Loss:0.662 AVG Training Acc 61.91 % AVG Validation Acc 61.86 %\n",
      "Epoch:50/200 AVG Training Loss:0.656 AVG Validation Loss:0.663 AVG Training Acc 61.98 % AVG Validation Acc 61.86 %\n",
      "Epoch    57: reducing learning rate of group 0 to 1.0000e-03.\n",
      "Epoch:60/200 AVG Training Loss:0.653 AVG Validation Loss:0.661 AVG Training Acc 62.05 % AVG Validation Acc 61.86 %\n",
      "Epoch:70/200 AVG Training Loss:0.649 AVG Validation Loss:0.661 AVG Training Acc 62.29 % AVG Validation Acc 61.95 %\n",
      "Epoch:80/200 AVG Training Loss:0.647 AVG Validation Loss:0.663 AVG Training Acc 62.38 % AVG Validation Acc 61.86 %\n",
      "Epoch    88: reducing learning rate of group 0 to 1.0000e-04.\n",
      "Epoch:90/200 AVG Training Loss:0.643 AVG Validation Loss:0.666 AVG Training Acc 62.54 % AVG Validation Acc 61.59 %\n",
      "Epoch:100/200 AVG Training Loss:0.643 AVG Validation Loss:0.666 AVG Training Acc 62.58 % AVG Validation Acc 61.77 %\n",
      "Epoch:110/200 AVG Training Loss:0.644 AVG Validation Loss:0.665 AVG Training Acc 62.43 % AVG Validation Acc 61.77 %\n",
      "Epoch   119: reducing learning rate of group 0 to 1.0000e-05.\n",
      "Epoch:120/200 AVG Training Loss:0.643 AVG Validation Loss:0.666 AVG Training Acc 62.47 % AVG Validation Acc 61.77 %\n",
      "Epoch:130/200 AVG Training Loss:0.645 AVG Validation Loss:0.666 AVG Training Acc 62.57 % AVG Validation Acc 61.77 %\n",
      "Epoch:140/200 AVG Training Loss:0.644 AVG Validation Loss:0.665 AVG Training Acc 62.39 % AVG Validation Acc 61.68 %\n",
      "Epoch:150/200 AVG Training Loss:0.644 AVG Validation Loss:0.666 AVG Training Acc 62.53 % AVG Validation Acc 61.77 %\n",
      "Epoch   150: reducing learning rate of group 0 to 1.0000e-06.\n",
      "Epoch:160/200 AVG Training Loss:0.644 AVG Validation Loss:0.666 AVG Training Acc 62.38 % AVG Validation Acc 61.68 %\n",
      "Epoch:170/200 AVG Training Loss:0.644 AVG Validation Loss:0.665 AVG Training Acc 62.47 % AVG Validation Acc 61.86 %\n",
      "Epoch:180/200 AVG Training Loss:0.644 AVG Validation Loss:0.667 AVG Training Acc 62.37 % AVG Validation Acc 61.77 %\n",
      "Epoch   181: reducing learning rate of group 0 to 1.0000e-07.\n",
      "Epoch:190/200 AVG Training Loss:0.643 AVG Validation Loss:0.665 AVG Training Acc 62.53 % AVG Validation Acc 61.77 %\n",
      "Epoch:200/200 AVG Training Loss:0.644 AVG Validation Loss:0.668 AVG Training Acc 62.43 % AVG Validation Acc 61.68 %\n",
      "Split 134\n"
     ]
    },
    {
     "data": {
      "application/vnd.jupyter.widget-view+json": {
       "model_id": "31490710657f44428304d52c42495f6c",
       "version_major": 2,
       "version_minor": 0
      },
      "text/plain": [
       "  0%|          | 0/200 [00:00<?, ?it/s]"
      ]
     },
     "metadata": {},
     "output_type": "display_data"
    },
    {
     "name": "stdout",
     "output_type": "stream",
     "text": [
      "Epoch:10/200 AVG Training Loss:0.663 AVG Validation Loss:0.661 AVG Training Acc 61.89 % AVG Validation Acc 61.86 %\n",
      "Epoch:20/200 AVG Training Loss:0.660 AVG Validation Loss:0.660 AVG Training Acc 61.86 % AVG Validation Acc 61.77 %\n",
      "Epoch    26: reducing learning rate of group 0 to 1.0000e-03.\n",
      "Epoch:30/200 AVG Training Loss:0.654 AVG Validation Loss:0.662 AVG Training Acc 62.04 % AVG Validation Acc 61.77 %\n",
      "Epoch:40/200 AVG Training Loss:0.651 AVG Validation Loss:0.668 AVG Training Acc 62.12 % AVG Validation Acc 61.68 %\n",
      "Epoch:50/200 AVG Training Loss:0.649 AVG Validation Loss:0.669 AVG Training Acc 62.17 % AVG Validation Acc 61.68 %\n",
      "Epoch    57: reducing learning rate of group 0 to 1.0000e-04.\n",
      "Epoch:60/200 AVG Training Loss:0.646 AVG Validation Loss:0.675 AVG Training Acc 62.20 % AVG Validation Acc 61.68 %\n",
      "Epoch:70/200 AVG Training Loss:0.646 AVG Validation Loss:0.675 AVG Training Acc 62.20 % AVG Validation Acc 61.77 %\n",
      "Epoch:80/200 AVG Training Loss:0.646 AVG Validation Loss:0.676 AVG Training Acc 62.30 % AVG Validation Acc 61.77 %\n",
      "Epoch    88: reducing learning rate of group 0 to 1.0000e-05.\n",
      "Epoch:90/200 AVG Training Loss:0.646 AVG Validation Loss:0.675 AVG Training Acc 62.20 % AVG Validation Acc 61.77 %\n",
      "Epoch:100/200 AVG Training Loss:0.646 AVG Validation Loss:0.676 AVG Training Acc 62.18 % AVG Validation Acc 61.77 %\n",
      "Epoch:110/200 AVG Training Loss:0.645 AVG Validation Loss:0.674 AVG Training Acc 62.18 % AVG Validation Acc 61.77 %\n",
      "Epoch   119: reducing learning rate of group 0 to 1.0000e-06.\n",
      "Epoch:120/200 AVG Training Loss:0.645 AVG Validation Loss:0.677 AVG Training Acc 62.17 % AVG Validation Acc 61.77 %\n",
      "Epoch:130/200 AVG Training Loss:0.646 AVG Validation Loss:0.676 AVG Training Acc 62.22 % AVG Validation Acc 61.77 %\n",
      "Epoch:140/200 AVG Training Loss:0.646 AVG Validation Loss:0.676 AVG Training Acc 62.21 % AVG Validation Acc 61.77 %\n",
      "Epoch:150/200 AVG Training Loss:0.646 AVG Validation Loss:0.675 AVG Training Acc 62.19 % AVG Validation Acc 61.77 %\n",
      "Epoch   150: reducing learning rate of group 0 to 1.0000e-07.\n",
      "Epoch:160/200 AVG Training Loss:0.646 AVG Validation Loss:0.675 AVG Training Acc 62.25 % AVG Validation Acc 61.77 %\n",
      "Epoch:170/200 AVG Training Loss:0.646 AVG Validation Loss:0.676 AVG Training Acc 62.18 % AVG Validation Acc 61.77 %\n",
      "Epoch:180/200 AVG Training Loss:0.646 AVG Validation Loss:0.677 AVG Training Acc 62.20 % AVG Validation Acc 61.77 %\n",
      "Epoch   181: reducing learning rate of group 0 to 1.0000e-08.\n",
      "Epoch:190/200 AVG Training Loss:0.645 AVG Validation Loss:0.676 AVG Training Acc 62.25 % AVG Validation Acc 61.77 %\n",
      "Epoch:200/200 AVG Training Loss:0.645 AVG Validation Loss:0.676 AVG Training Acc 62.20 % AVG Validation Acc 61.77 %\n",
      "Split 135\n"
     ]
    },
    {
     "data": {
      "application/vnd.jupyter.widget-view+json": {
       "model_id": "b0850918a26c479e8eacbbbec87610bd",
       "version_major": 2,
       "version_minor": 0
      },
      "text/plain": [
       "  0%|          | 0/200 [00:00<?, ?it/s]"
      ]
     },
     "metadata": {},
     "output_type": "display_data"
    },
    {
     "name": "stdout",
     "output_type": "stream",
     "text": [
      "Epoch:10/200 AVG Training Loss:0.664 AVG Validation Loss:0.664 AVG Training Acc 61.89 % AVG Validation Acc 61.86 %\n",
      "Epoch:20/200 AVG Training Loss:0.661 AVG Validation Loss:0.663 AVG Training Acc 61.91 % AVG Validation Acc 61.86 %\n",
      "Epoch:30/200 AVG Training Loss:0.658 AVG Validation Loss:0.661 AVG Training Acc 61.98 % AVG Validation Acc 61.86 %\n",
      "Epoch:40/200 AVG Training Loss:0.657 AVG Validation Loss:0.665 AVG Training Acc 61.88 % AVG Validation Acc 61.86 %\n",
      "Epoch    41: reducing learning rate of group 0 to 1.0000e-03.\n",
      "Epoch:50/200 AVG Training Loss:0.653 AVG Validation Loss:0.666 AVG Training Acc 62.09 % AVG Validation Acc 61.86 %\n",
      "Epoch:60/200 AVG Training Loss:0.651 AVG Validation Loss:0.669 AVG Training Acc 62.18 % AVG Validation Acc 61.77 %\n",
      "Epoch:70/200 AVG Training Loss:0.649 AVG Validation Loss:0.672 AVG Training Acc 62.14 % AVG Validation Acc 61.77 %\n",
      "Epoch    72: reducing learning rate of group 0 to 1.0000e-04.\n",
      "Epoch:80/200 AVG Training Loss:0.648 AVG Validation Loss:0.671 AVG Training Acc 62.22 % AVG Validation Acc 61.77 %\n",
      "Epoch:90/200 AVG Training Loss:0.649 AVG Validation Loss:0.671 AVG Training Acc 62.14 % AVG Validation Acc 61.68 %\n",
      "Epoch:100/200 AVG Training Loss:0.648 AVG Validation Loss:0.672 AVG Training Acc 62.12 % AVG Validation Acc 61.68 %\n",
      "Epoch   103: reducing learning rate of group 0 to 1.0000e-05.\n",
      "Epoch:110/200 AVG Training Loss:0.646 AVG Validation Loss:0.674 AVG Training Acc 62.23 % AVG Validation Acc 61.68 %\n",
      "Epoch:120/200 AVG Training Loss:0.647 AVG Validation Loss:0.674 AVG Training Acc 62.24 % AVG Validation Acc 61.68 %\n",
      "Epoch:130/200 AVG Training Loss:0.646 AVG Validation Loss:0.674 AVG Training Acc 62.21 % AVG Validation Acc 61.68 %\n",
      "Epoch   134: reducing learning rate of group 0 to 1.0000e-06.\n",
      "Epoch:140/200 AVG Training Loss:0.647 AVG Validation Loss:0.673 AVG Training Acc 62.23 % AVG Validation Acc 61.68 %\n",
      "Epoch:150/200 AVG Training Loss:0.649 AVG Validation Loss:0.674 AVG Training Acc 62.26 % AVG Validation Acc 61.68 %\n",
      "Epoch:160/200 AVG Training Loss:0.648 AVG Validation Loss:0.674 AVG Training Acc 62.11 % AVG Validation Acc 61.77 %\n",
      "Epoch   165: reducing learning rate of group 0 to 1.0000e-07.\n",
      "Epoch:170/200 AVG Training Loss:0.647 AVG Validation Loss:0.674 AVG Training Acc 62.27 % AVG Validation Acc 61.68 %\n",
      "Epoch:180/200 AVG Training Loss:0.647 AVG Validation Loss:0.674 AVG Training Acc 62.16 % AVG Validation Acc 61.68 %\n",
      "Epoch:190/200 AVG Training Loss:0.648 AVG Validation Loss:0.673 AVG Training Acc 62.22 % AVG Validation Acc 61.68 %\n",
      "Epoch   196: reducing learning rate of group 0 to 1.0000e-08.\n",
      "Epoch:200/200 AVG Training Loss:0.647 AVG Validation Loss:0.674 AVG Training Acc 62.19 % AVG Validation Acc 61.68 %\n",
      "Split 136\n"
     ]
    },
    {
     "data": {
      "application/vnd.jupyter.widget-view+json": {
       "model_id": "234ae2270abb4f8583648c31b6345c2c",
       "version_major": 2,
       "version_minor": 0
      },
      "text/plain": [
       "  0%|          | 0/200 [00:00<?, ?it/s]"
      ]
     },
     "metadata": {},
     "output_type": "display_data"
    },
    {
     "name": "stdout",
     "output_type": "stream",
     "text": [
      "Epoch:10/200 AVG Training Loss:0.662 AVG Validation Loss:0.664 AVG Training Acc 61.84 % AVG Validation Acc 61.91 %\n",
      "Epoch:20/200 AVG Training Loss:0.659 AVG Validation Loss:0.664 AVG Training Acc 61.88 % AVG Validation Acc 62.00 %\n",
      "Epoch    29: reducing learning rate of group 0 to 1.0000e-03.\n",
      "Epoch:30/200 AVG Training Loss:0.657 AVG Validation Loss:0.664 AVG Training Acc 62.01 % AVG Validation Acc 61.82 %\n",
      "Epoch:40/200 AVG Training Loss:0.652 AVG Validation Loss:0.668 AVG Training Acc 62.15 % AVG Validation Acc 62.00 %\n",
      "Epoch:50/200 AVG Training Loss:0.650 AVG Validation Loss:0.675 AVG Training Acc 62.19 % AVG Validation Acc 61.82 %\n",
      "Epoch:60/200 AVG Training Loss:0.648 AVG Validation Loss:0.679 AVG Training Acc 62.34 % AVG Validation Acc 61.82 %\n",
      "Epoch    60: reducing learning rate of group 0 to 1.0000e-04.\n",
      "Epoch:70/200 AVG Training Loss:0.647 AVG Validation Loss:0.678 AVG Training Acc 62.26 % AVG Validation Acc 61.82 %\n",
      "Epoch:80/200 AVG Training Loss:0.646 AVG Validation Loss:0.680 AVG Training Acc 62.36 % AVG Validation Acc 61.82 %\n",
      "Epoch:90/200 AVG Training Loss:0.646 AVG Validation Loss:0.680 AVG Training Acc 62.44 % AVG Validation Acc 61.91 %\n",
      "Epoch    91: reducing learning rate of group 0 to 1.0000e-05.\n",
      "Epoch:100/200 AVG Training Loss:0.647 AVG Validation Loss:0.679 AVG Training Acc 62.33 % AVG Validation Acc 61.91 %\n",
      "Epoch:110/200 AVG Training Loss:0.645 AVG Validation Loss:0.681 AVG Training Acc 62.44 % AVG Validation Acc 61.82 %\n",
      "Epoch:120/200 AVG Training Loss:0.645 AVG Validation Loss:0.680 AVG Training Acc 62.45 % AVG Validation Acc 61.91 %\n",
      "Epoch   122: reducing learning rate of group 0 to 1.0000e-06.\n",
      "Epoch:130/200 AVG Training Loss:0.645 AVG Validation Loss:0.680 AVG Training Acc 62.43 % AVG Validation Acc 62.00 %\n",
      "Epoch:140/200 AVG Training Loss:0.647 AVG Validation Loss:0.682 AVG Training Acc 62.35 % AVG Validation Acc 61.82 %\n",
      "Epoch:150/200 AVG Training Loss:0.645 AVG Validation Loss:0.680 AVG Training Acc 62.33 % AVG Validation Acc 62.00 %\n",
      "Epoch   153: reducing learning rate of group 0 to 1.0000e-07.\n",
      "Epoch:160/200 AVG Training Loss:0.646 AVG Validation Loss:0.681 AVG Training Acc 62.36 % AVG Validation Acc 61.82 %\n",
      "Epoch:170/200 AVG Training Loss:0.645 AVG Validation Loss:0.679 AVG Training Acc 62.39 % AVG Validation Acc 61.91 %\n",
      "Epoch:180/200 AVG Training Loss:0.645 AVG Validation Loss:0.680 AVG Training Acc 62.36 % AVG Validation Acc 61.91 %\n",
      "Epoch   184: reducing learning rate of group 0 to 1.0000e-08.\n",
      "Epoch:190/200 AVG Training Loss:0.646 AVG Validation Loss:0.679 AVG Training Acc 62.33 % AVG Validation Acc 61.91 %\n",
      "Epoch:200/200 AVG Training Loss:0.644 AVG Validation Loss:0.680 AVG Training Acc 62.40 % AVG Validation Acc 61.82 %\n",
      "Split 137\n"
     ]
    },
    {
     "data": {
      "application/vnd.jupyter.widget-view+json": {
       "model_id": "463c062962034499852e316ce7431d7f",
       "version_major": 2,
       "version_minor": 0
      },
      "text/plain": [
       "  0%|          | 0/200 [00:00<?, ?it/s]"
      ]
     },
     "metadata": {},
     "output_type": "display_data"
    },
    {
     "name": "stdout",
     "output_type": "stream",
     "text": [
      "Epoch:10/200 AVG Training Loss:0.663 AVG Validation Loss:0.665 AVG Training Acc 61.91 % AVG Validation Acc 61.91 %\n",
      "Epoch:20/200 AVG Training Loss:0.659 AVG Validation Loss:0.663 AVG Training Acc 61.89 % AVG Validation Acc 61.91 %\n",
      "Epoch    28: reducing learning rate of group 0 to 1.0000e-03.\n",
      "Epoch:30/200 AVG Training Loss:0.655 AVG Validation Loss:0.662 AVG Training Acc 61.97 % AVG Validation Acc 61.82 %\n",
      "Epoch:40/200 AVG Training Loss:0.653 AVG Validation Loss:0.664 AVG Training Acc 62.10 % AVG Validation Acc 61.82 %\n",
      "Epoch:50/200 AVG Training Loss:0.649 AVG Validation Loss:0.665 AVG Training Acc 62.09 % AVG Validation Acc 61.55 %\n",
      "Epoch    59: reducing learning rate of group 0 to 1.0000e-04.\n",
      "Epoch:60/200 AVG Training Loss:0.647 AVG Validation Loss:0.667 AVG Training Acc 62.32 % AVG Validation Acc 61.55 %\n",
      "Epoch:70/200 AVG Training Loss:0.645 AVG Validation Loss:0.668 AVG Training Acc 62.17 % AVG Validation Acc 61.64 %\n",
      "Epoch:80/200 AVG Training Loss:0.644 AVG Validation Loss:0.666 AVG Training Acc 62.30 % AVG Validation Acc 61.64 %\n",
      "Epoch:90/200 AVG Training Loss:0.644 AVG Validation Loss:0.666 AVG Training Acc 62.25 % AVG Validation Acc 61.55 %\n",
      "Epoch    90: reducing learning rate of group 0 to 1.0000e-05.\n",
      "Epoch:100/200 AVG Training Loss:0.643 AVG Validation Loss:0.665 AVG Training Acc 62.44 % AVG Validation Acc 61.64 %\n",
      "Epoch:110/200 AVG Training Loss:0.644 AVG Validation Loss:0.666 AVG Training Acc 62.36 % AVG Validation Acc 61.64 %\n",
      "Epoch:120/200 AVG Training Loss:0.644 AVG Validation Loss:0.667 AVG Training Acc 62.33 % AVG Validation Acc 61.64 %\n",
      "Epoch   121: reducing learning rate of group 0 to 1.0000e-06.\n",
      "Epoch:130/200 AVG Training Loss:0.644 AVG Validation Loss:0.667 AVG Training Acc 62.41 % AVG Validation Acc 61.46 %\n",
      "Epoch:140/200 AVG Training Loss:0.644 AVG Validation Loss:0.666 AVG Training Acc 62.35 % AVG Validation Acc 61.64 %\n",
      "Epoch:150/200 AVG Training Loss:0.643 AVG Validation Loss:0.666 AVG Training Acc 62.47 % AVG Validation Acc 61.55 %\n",
      "Epoch   152: reducing learning rate of group 0 to 1.0000e-07.\n",
      "Epoch:160/200 AVG Training Loss:0.645 AVG Validation Loss:0.666 AVG Training Acc 62.28 % AVG Validation Acc 61.64 %\n",
      "Epoch:170/200 AVG Training Loss:0.645 AVG Validation Loss:0.665 AVG Training Acc 62.17 % AVG Validation Acc 61.64 %\n",
      "Epoch:180/200 AVG Training Loss:0.644 AVG Validation Loss:0.667 AVG Training Acc 62.28 % AVG Validation Acc 61.55 %\n",
      "Epoch   183: reducing learning rate of group 0 to 1.0000e-08.\n",
      "Epoch:190/200 AVG Training Loss:0.644 AVG Validation Loss:0.666 AVG Training Acc 62.34 % AVG Validation Acc 61.55 %\n",
      "Epoch:200/200 AVG Training Loss:0.645 AVG Validation Loss:0.666 AVG Training Acc 62.25 % AVG Validation Acc 61.55 %\n",
      "Split 138\n"
     ]
    },
    {
     "data": {
      "application/vnd.jupyter.widget-view+json": {
       "model_id": "5ae73952adc64ef490d87643a92fb6f5",
       "version_major": 2,
       "version_minor": 0
      },
      "text/plain": [
       "  0%|          | 0/200 [00:00<?, ?it/s]"
      ]
     },
     "metadata": {},
     "output_type": "display_data"
    },
    {
     "name": "stdout",
     "output_type": "stream",
     "text": [
      "Epoch:10/200 AVG Training Loss:0.662 AVG Validation Loss:0.660 AVG Training Acc 61.76 % AVG Validation Acc 61.91 %\n",
      "Epoch:20/200 AVG Training Loss:0.661 AVG Validation Loss:0.658 AVG Training Acc 61.92 % AVG Validation Acc 61.91 %\n",
      "Epoch:30/200 AVG Training Loss:0.660 AVG Validation Loss:0.658 AVG Training Acc 61.92 % AVG Validation Acc 61.91 %\n",
      "Epoch    32: reducing learning rate of group 0 to 1.0000e-03.\n",
      "Epoch:40/200 AVG Training Loss:0.657 AVG Validation Loss:0.657 AVG Training Acc 61.98 % AVG Validation Acc 61.91 %\n",
      "Epoch:50/200 AVG Training Loss:0.656 AVG Validation Loss:0.656 AVG Training Acc 61.98 % AVG Validation Acc 61.91 %\n",
      "Epoch:60/200 AVG Training Loss:0.656 AVG Validation Loss:0.656 AVG Training Acc 61.99 % AVG Validation Acc 61.91 %\n",
      "Epoch:70/200 AVG Training Loss:0.655 AVG Validation Loss:0.656 AVG Training Acc 61.99 % AVG Validation Acc 61.82 %\n",
      "Epoch    76: reducing learning rate of group 0 to 1.0000e-04.\n",
      "Epoch:80/200 AVG Training Loss:0.654 AVG Validation Loss:0.656 AVG Training Acc 62.04 % AVG Validation Acc 61.82 %\n",
      "Epoch:90/200 AVG Training Loss:0.654 AVG Validation Loss:0.656 AVG Training Acc 62.03 % AVG Validation Acc 61.82 %\n",
      "Epoch:100/200 AVG Training Loss:0.654 AVG Validation Loss:0.655 AVG Training Acc 62.02 % AVG Validation Acc 61.82 %\n",
      "Epoch   107: reducing learning rate of group 0 to 1.0000e-05.\n",
      "Epoch:110/200 AVG Training Loss:0.654 AVG Validation Loss:0.656 AVG Training Acc 62.00 % AVG Validation Acc 61.82 %\n",
      "Epoch:120/200 AVG Training Loss:0.653 AVG Validation Loss:0.655 AVG Training Acc 62.01 % AVG Validation Acc 61.82 %\n",
      "Epoch:130/200 AVG Training Loss:0.653 AVG Validation Loss:0.655 AVG Training Acc 62.05 % AVG Validation Acc 61.82 %\n",
      "Epoch   138: reducing learning rate of group 0 to 1.0000e-06.\n",
      "Epoch:140/200 AVG Training Loss:0.654 AVG Validation Loss:0.655 AVG Training Acc 62.07 % AVG Validation Acc 61.82 %\n",
      "Epoch:150/200 AVG Training Loss:0.653 AVG Validation Loss:0.655 AVG Training Acc 62.09 % AVG Validation Acc 61.82 %\n",
      "Epoch:160/200 AVG Training Loss:0.654 AVG Validation Loss:0.655 AVG Training Acc 61.98 % AVG Validation Acc 61.82 %\n",
      "Epoch   169: reducing learning rate of group 0 to 1.0000e-07.\n",
      "Epoch:170/200 AVG Training Loss:0.654 AVG Validation Loss:0.656 AVG Training Acc 62.04 % AVG Validation Acc 61.82 %\n",
      "Epoch:180/200 AVG Training Loss:0.654 AVG Validation Loss:0.655 AVG Training Acc 62.05 % AVG Validation Acc 61.82 %\n",
      "Epoch:190/200 AVG Training Loss:0.654 AVG Validation Loss:0.656 AVG Training Acc 62.02 % AVG Validation Acc 61.82 %\n",
      "Epoch:200/200 AVG Training Loss:0.653 AVG Validation Loss:0.655 AVG Training Acc 62.07 % AVG Validation Acc 61.82 %\n",
      "Epoch   200: reducing learning rate of group 0 to 1.0000e-08.\n",
      "Split 139\n"
     ]
    },
    {
     "data": {
      "application/vnd.jupyter.widget-view+json": {
       "model_id": "92e1906edde243929223cdf9be2d33a0",
       "version_major": 2,
       "version_minor": 0
      },
      "text/plain": [
       "  0%|          | 0/200 [00:00<?, ?it/s]"
      ]
     },
     "metadata": {},
     "output_type": "display_data"
    },
    {
     "name": "stdout",
     "output_type": "stream",
     "text": [
      "Epoch:10/200 AVG Training Loss:0.664 AVG Validation Loss:0.665 AVG Training Acc 61.89 % AVG Validation Acc 61.91 %\n",
      "Epoch:20/200 AVG Training Loss:0.661 AVG Validation Loss:0.656 AVG Training Acc 61.88 % AVG Validation Acc 61.91 %\n",
      "Epoch:30/200 AVG Training Loss:0.659 AVG Validation Loss:0.659 AVG Training Acc 62.02 % AVG Validation Acc 61.91 %\n",
      "Epoch    31: reducing learning rate of group 0 to 1.0000e-03.\n",
      "Epoch:40/200 AVG Training Loss:0.653 AVG Validation Loss:0.661 AVG Training Acc 62.09 % AVG Validation Acc 62.36 %\n",
      "Epoch:50/200 AVG Training Loss:0.651 AVG Validation Loss:0.663 AVG Training Acc 62.27 % AVG Validation Acc 62.00 %\n",
      "Epoch:60/200 AVG Training Loss:0.648 AVG Validation Loss:0.668 AVG Training Acc 62.21 % AVG Validation Acc 62.00 %\n",
      "Epoch    62: reducing learning rate of group 0 to 1.0000e-04.\n",
      "Epoch:70/200 AVG Training Loss:0.645 AVG Validation Loss:0.672 AVG Training Acc 62.17 % AVG Validation Acc 62.09 %\n",
      "Epoch:80/200 AVG Training Loss:0.645 AVG Validation Loss:0.672 AVG Training Acc 62.35 % AVG Validation Acc 62.00 %\n",
      "Epoch:90/200 AVG Training Loss:0.646 AVG Validation Loss:0.674 AVG Training Acc 62.28 % AVG Validation Acc 62.09 %\n",
      "Epoch    93: reducing learning rate of group 0 to 1.0000e-05.\n",
      "Epoch:100/200 AVG Training Loss:0.645 AVG Validation Loss:0.674 AVG Training Acc 62.34 % AVG Validation Acc 62.09 %\n",
      "Epoch:110/200 AVG Training Loss:0.645 AVG Validation Loss:0.674 AVG Training Acc 62.34 % AVG Validation Acc 62.09 %\n",
      "Epoch:120/200 AVG Training Loss:0.645 AVG Validation Loss:0.674 AVG Training Acc 62.39 % AVG Validation Acc 62.09 %\n",
      "Epoch   124: reducing learning rate of group 0 to 1.0000e-06.\n",
      "Epoch:130/200 AVG Training Loss:0.645 AVG Validation Loss:0.675 AVG Training Acc 62.34 % AVG Validation Acc 62.09 %\n",
      "Epoch:140/200 AVG Training Loss:0.644 AVG Validation Loss:0.675 AVG Training Acc 62.50 % AVG Validation Acc 62.09 %\n",
      "Epoch:150/200 AVG Training Loss:0.645 AVG Validation Loss:0.674 AVG Training Acc 62.25 % AVG Validation Acc 62.09 %\n",
      "Epoch   155: reducing learning rate of group 0 to 1.0000e-07.\n",
      "Epoch:160/200 AVG Training Loss:0.644 AVG Validation Loss:0.674 AVG Training Acc 62.40 % AVG Validation Acc 62.09 %\n",
      "Epoch:170/200 AVG Training Loss:0.644 AVG Validation Loss:0.675 AVG Training Acc 62.41 % AVG Validation Acc 62.09 %\n",
      "Epoch:180/200 AVG Training Loss:0.645 AVG Validation Loss:0.674 AVG Training Acc 62.35 % AVG Validation Acc 62.09 %\n",
      "Epoch   186: reducing learning rate of group 0 to 1.0000e-08.\n",
      "Epoch:190/200 AVG Training Loss:0.644 AVG Validation Loss:0.675 AVG Training Acc 62.24 % AVG Validation Acc 62.09 %\n",
      "Epoch:200/200 AVG Training Loss:0.645 AVG Validation Loss:0.674 AVG Training Acc 62.23 % AVG Validation Acc 62.09 %\n",
      "Split 140\n"
     ]
    },
    {
     "data": {
      "application/vnd.jupyter.widget-view+json": {
       "model_id": "2b28eac293544558bf7f7f6065be49d9",
       "version_major": 2,
       "version_minor": 0
      },
      "text/plain": [
       "  0%|          | 0/200 [00:00<?, ?it/s]"
      ]
     },
     "metadata": {},
     "output_type": "display_data"
    },
    {
     "name": "stdout",
     "output_type": "stream",
     "text": [
      "Epoch:10/200 AVG Training Loss:0.664 AVG Validation Loss:0.663 AVG Training Acc 61.89 % AVG Validation Acc 61.91 %\n",
      "Epoch:20/200 AVG Training Loss:0.660 AVG Validation Loss:0.661 AVG Training Acc 61.66 % AVG Validation Acc 61.91 %\n",
      "Epoch    28: reducing learning rate of group 0 to 1.0000e-03.\n",
      "Epoch:30/200 AVG Training Loss:0.658 AVG Validation Loss:0.662 AVG Training Acc 61.90 % AVG Validation Acc 62.00 %\n",
      "Epoch:40/200 AVG Training Loss:0.656 AVG Validation Loss:0.667 AVG Training Acc 62.05 % AVG Validation Acc 61.91 %\n",
      "Epoch:50/200 AVG Training Loss:0.654 AVG Validation Loss:0.670 AVG Training Acc 61.98 % AVG Validation Acc 62.09 %\n",
      "Epoch    59: reducing learning rate of group 0 to 1.0000e-04.\n",
      "Epoch:60/200 AVG Training Loss:0.653 AVG Validation Loss:0.675 AVG Training Acc 62.06 % AVG Validation Acc 62.18 %\n",
      "Epoch:70/200 AVG Training Loss:0.653 AVG Validation Loss:0.675 AVG Training Acc 62.09 % AVG Validation Acc 62.18 %\n",
      "Epoch:80/200 AVG Training Loss:0.652 AVG Validation Loss:0.675 AVG Training Acc 62.13 % AVG Validation Acc 62.18 %\n",
      "Epoch:90/200 AVG Training Loss:0.652 AVG Validation Loss:0.676 AVG Training Acc 62.03 % AVG Validation Acc 62.18 %\n",
      "Epoch    90: reducing learning rate of group 0 to 1.0000e-05.\n",
      "Epoch:100/200 AVG Training Loss:0.652 AVG Validation Loss:0.677 AVG Training Acc 62.09 % AVG Validation Acc 62.18 %\n",
      "Epoch:110/200 AVG Training Loss:0.651 AVG Validation Loss:0.677 AVG Training Acc 62.16 % AVG Validation Acc 62.18 %\n",
      "Epoch:120/200 AVG Training Loss:0.652 AVG Validation Loss:0.677 AVG Training Acc 62.18 % AVG Validation Acc 62.18 %\n",
      "Epoch   121: reducing learning rate of group 0 to 1.0000e-06.\n",
      "Epoch:130/200 AVG Training Loss:0.653 AVG Validation Loss:0.677 AVG Training Acc 62.15 % AVG Validation Acc 62.18 %\n",
      "Epoch:140/200 AVG Training Loss:0.652 AVG Validation Loss:0.677 AVG Training Acc 62.10 % AVG Validation Acc 62.18 %\n",
      "Epoch:150/200 AVG Training Loss:0.651 AVG Validation Loss:0.677 AVG Training Acc 62.12 % AVG Validation Acc 62.18 %\n",
      "Epoch   152: reducing learning rate of group 0 to 1.0000e-07.\n",
      "Epoch:160/200 AVG Training Loss:0.652 AVG Validation Loss:0.677 AVG Training Acc 62.13 % AVG Validation Acc 62.18 %\n",
      "Epoch:170/200 AVG Training Loss:0.652 AVG Validation Loss:0.677 AVG Training Acc 62.09 % AVG Validation Acc 62.09 %\n",
      "Epoch:180/200 AVG Training Loss:0.652 AVG Validation Loss:0.677 AVG Training Acc 62.12 % AVG Validation Acc 62.09 %\n",
      "Epoch   183: reducing learning rate of group 0 to 1.0000e-08.\n",
      "Epoch:190/200 AVG Training Loss:0.652 AVG Validation Loss:0.677 AVG Training Acc 62.12 % AVG Validation Acc 62.18 %\n",
      "Epoch:200/200 AVG Training Loss:0.652 AVG Validation Loss:0.677 AVG Training Acc 62.05 % AVG Validation Acc 62.18 %\n",
      "Split 141\n"
     ]
    },
    {
     "data": {
      "application/vnd.jupyter.widget-view+json": {
       "model_id": "a99c5e91d942484da62f54047f5bfd71",
       "version_major": 2,
       "version_minor": 0
      },
      "text/plain": [
       "  0%|          | 0/200 [00:00<?, ?it/s]"
      ]
     },
     "metadata": {},
     "output_type": "display_data"
    },
    {
     "name": "stdout",
     "output_type": "stream",
     "text": [
      "Epoch:10/200 AVG Training Loss:0.664 AVG Validation Loss:0.661 AVG Training Acc 61.91 % AVG Validation Acc 61.95 %\n",
      "Epoch:20/200 AVG Training Loss:0.660 AVG Validation Loss:0.657 AVG Training Acc 61.87 % AVG Validation Acc 61.95 %\n",
      "Epoch:30/200 AVG Training Loss:0.660 AVG Validation Loss:0.656 AVG Training Acc 61.89 % AVG Validation Acc 61.95 %\n",
      "Epoch    38: reducing learning rate of group 0 to 1.0000e-03.\n",
      "Epoch:40/200 AVG Training Loss:0.657 AVG Validation Loss:0.657 AVG Training Acc 62.02 % AVG Validation Acc 62.04 %\n",
      "Epoch:50/200 AVG Training Loss:0.655 AVG Validation Loss:0.657 AVG Training Acc 62.09 % AVG Validation Acc 62.13 %\n",
      "Epoch:60/200 AVG Training Loss:0.653 AVG Validation Loss:0.658 AVG Training Acc 62.18 % AVG Validation Acc 61.95 %\n",
      "Epoch    69: reducing learning rate of group 0 to 1.0000e-04.\n",
      "Epoch:70/200 AVG Training Loss:0.651 AVG Validation Loss:0.659 AVG Training Acc 62.32 % AVG Validation Acc 62.04 %\n",
      "Epoch:80/200 AVG Training Loss:0.651 AVG Validation Loss:0.659 AVG Training Acc 62.33 % AVG Validation Acc 62.04 %\n",
      "Epoch:90/200 AVG Training Loss:0.650 AVG Validation Loss:0.659 AVG Training Acc 62.27 % AVG Validation Acc 62.04 %\n",
      "Epoch:100/200 AVG Training Loss:0.650 AVG Validation Loss:0.661 AVG Training Acc 62.24 % AVG Validation Acc 62.04 %\n",
      "Epoch   100: reducing learning rate of group 0 to 1.0000e-05.\n",
      "Epoch:110/200 AVG Training Loss:0.651 AVG Validation Loss:0.659 AVG Training Acc 62.23 % AVG Validation Acc 62.04 %\n",
      "Epoch:120/200 AVG Training Loss:0.650 AVG Validation Loss:0.660 AVG Training Acc 62.24 % AVG Validation Acc 62.04 %\n",
      "Epoch:130/200 AVG Training Loss:0.651 AVG Validation Loss:0.660 AVG Training Acc 62.20 % AVG Validation Acc 62.04 %\n",
      "Epoch   131: reducing learning rate of group 0 to 1.0000e-06.\n",
      "Epoch:140/200 AVG Training Loss:0.650 AVG Validation Loss:0.660 AVG Training Acc 62.21 % AVG Validation Acc 62.04 %\n",
      "Epoch:150/200 AVG Training Loss:0.650 AVG Validation Loss:0.660 AVG Training Acc 62.15 % AVG Validation Acc 62.04 %\n",
      "Epoch:160/200 AVG Training Loss:0.650 AVG Validation Loss:0.660 AVG Training Acc 62.29 % AVG Validation Acc 62.04 %\n",
      "Epoch   162: reducing learning rate of group 0 to 1.0000e-07.\n",
      "Epoch:170/200 AVG Training Loss:0.650 AVG Validation Loss:0.659 AVG Training Acc 62.20 % AVG Validation Acc 62.04 %\n",
      "Epoch:180/200 AVG Training Loss:0.650 AVG Validation Loss:0.660 AVG Training Acc 62.22 % AVG Validation Acc 62.04 %\n",
      "Epoch:190/200 AVG Training Loss:0.650 AVG Validation Loss:0.660 AVG Training Acc 62.16 % AVG Validation Acc 62.04 %\n",
      "Epoch   193: reducing learning rate of group 0 to 1.0000e-08.\n",
      "Epoch:200/200 AVG Training Loss:0.650 AVG Validation Loss:0.659 AVG Training Acc 62.14 % AVG Validation Acc 62.04 %\n",
      "Split 142\n"
     ]
    },
    {
     "data": {
      "application/vnd.jupyter.widget-view+json": {
       "model_id": "e65ad24963214a00bf0ce5078c57c1e8",
       "version_major": 2,
       "version_minor": 0
      },
      "text/plain": [
       "  0%|          | 0/200 [00:00<?, ?it/s]"
      ]
     },
     "metadata": {},
     "output_type": "display_data"
    },
    {
     "name": "stdout",
     "output_type": "stream",
     "text": [
      "Epoch:10/200 AVG Training Loss:0.663 AVG Validation Loss:0.666 AVG Training Acc 61.88 % AVG Validation Acc 61.86 %\n",
      "Epoch:20/200 AVG Training Loss:0.659 AVG Validation Loss:0.677 AVG Training Acc 61.91 % AVG Validation Acc 61.86 %\n",
      "Epoch    24: reducing learning rate of group 0 to 1.0000e-03.\n",
      "Epoch:30/200 AVG Training Loss:0.657 AVG Validation Loss:0.664 AVG Training Acc 61.96 % AVG Validation Acc 61.86 %\n",
      "Epoch:40/200 AVG Training Loss:0.655 AVG Validation Loss:0.664 AVG Training Acc 62.03 % AVG Validation Acc 61.86 %\n",
      "Epoch:50/200 AVG Training Loss:0.655 AVG Validation Loss:0.665 AVG Training Acc 61.98 % AVG Validation Acc 61.95 %\n",
      "Epoch    55: reducing learning rate of group 0 to 1.0000e-04.\n",
      "Epoch:60/200 AVG Training Loss:0.652 AVG Validation Loss:0.667 AVG Training Acc 62.04 % AVG Validation Acc 61.95 %\n",
      "Epoch:70/200 AVG Training Loss:0.652 AVG Validation Loss:0.668 AVG Training Acc 62.03 % AVG Validation Acc 61.95 %\n",
      "Epoch:80/200 AVG Training Loss:0.651 AVG Validation Loss:0.668 AVG Training Acc 62.03 % AVG Validation Acc 61.86 %\n",
      "Epoch    86: reducing learning rate of group 0 to 1.0000e-05.\n",
      "Epoch:90/200 AVG Training Loss:0.651 AVG Validation Loss:0.668 AVG Training Acc 62.10 % AVG Validation Acc 61.86 %\n",
      "Epoch:100/200 AVG Training Loss:0.651 AVG Validation Loss:0.668 AVG Training Acc 62.05 % AVG Validation Acc 61.86 %\n",
      "Epoch:110/200 AVG Training Loss:0.651 AVG Validation Loss:0.668 AVG Training Acc 62.07 % AVG Validation Acc 61.86 %\n",
      "Epoch   117: reducing learning rate of group 0 to 1.0000e-06.\n",
      "Epoch:120/200 AVG Training Loss:0.652 AVG Validation Loss:0.668 AVG Training Acc 62.14 % AVG Validation Acc 61.86 %\n",
      "Epoch:130/200 AVG Training Loss:0.651 AVG Validation Loss:0.668 AVG Training Acc 62.02 % AVG Validation Acc 61.86 %\n",
      "Epoch:140/200 AVG Training Loss:0.651 AVG Validation Loss:0.668 AVG Training Acc 62.12 % AVG Validation Acc 61.86 %\n",
      "Epoch   148: reducing learning rate of group 0 to 1.0000e-07.\n",
      "Epoch:150/200 AVG Training Loss:0.651 AVG Validation Loss:0.668 AVG Training Acc 62.12 % AVG Validation Acc 61.86 %\n",
      "Epoch:160/200 AVG Training Loss:0.651 AVG Validation Loss:0.668 AVG Training Acc 62.05 % AVG Validation Acc 61.86 %\n",
      "Epoch:170/200 AVG Training Loss:0.651 AVG Validation Loss:0.668 AVG Training Acc 62.13 % AVG Validation Acc 61.86 %\n",
      "Epoch   179: reducing learning rate of group 0 to 1.0000e-08.\n",
      "Epoch:180/200 AVG Training Loss:0.650 AVG Validation Loss:0.668 AVG Training Acc 62.08 % AVG Validation Acc 61.86 %\n",
      "Epoch:190/200 AVG Training Loss:0.651 AVG Validation Loss:0.668 AVG Training Acc 62.10 % AVG Validation Acc 61.86 %\n",
      "Epoch:200/200 AVG Training Loss:0.651 AVG Validation Loss:0.668 AVG Training Acc 62.22 % AVG Validation Acc 61.86 %\n",
      "Split 143\n"
     ]
    },
    {
     "data": {
      "application/vnd.jupyter.widget-view+json": {
       "model_id": "7360f919151647c9b4c537a45f43b38b",
       "version_major": 2,
       "version_minor": 0
      },
      "text/plain": [
       "  0%|          | 0/200 [00:00<?, ?it/s]"
      ]
     },
     "metadata": {},
     "output_type": "display_data"
    },
    {
     "name": "stdout",
     "output_type": "stream",
     "text": [
      "Epoch:10/200 AVG Training Loss:0.664 AVG Validation Loss:0.663 AVG Training Acc 61.90 % AVG Validation Acc 61.86 %\n",
      "Epoch:20/200 AVG Training Loss:0.660 AVG Validation Loss:0.661 AVG Training Acc 61.90 % AVG Validation Acc 61.86 %\n",
      "Epoch:30/200 AVG Training Loss:0.658 AVG Validation Loss:0.661 AVG Training Acc 61.91 % AVG Validation Acc 61.86 %\n",
      "Epoch    34: reducing learning rate of group 0 to 1.0000e-03.\n",
      "Epoch:40/200 AVG Training Loss:0.656 AVG Validation Loss:0.662 AVG Training Acc 62.03 % AVG Validation Acc 62.13 %\n",
      "Epoch:50/200 AVG Training Loss:0.655 AVG Validation Loss:0.663 AVG Training Acc 62.04 % AVG Validation Acc 62.13 %\n",
      "Epoch:60/200 AVG Training Loss:0.653 AVG Validation Loss:0.664 AVG Training Acc 62.09 % AVG Validation Acc 61.86 %\n",
      "Epoch    65: reducing learning rate of group 0 to 1.0000e-04.\n",
      "Epoch:70/200 AVG Training Loss:0.651 AVG Validation Loss:0.663 AVG Training Acc 62.13 % AVG Validation Acc 61.86 %\n",
      "Epoch:80/200 AVG Training Loss:0.650 AVG Validation Loss:0.663 AVG Training Acc 62.27 % AVG Validation Acc 61.95 %\n",
      "Epoch:90/200 AVG Training Loss:0.649 AVG Validation Loss:0.663 AVG Training Acc 62.21 % AVG Validation Acc 61.95 %\n",
      "Epoch    96: reducing learning rate of group 0 to 1.0000e-05.\n",
      "Epoch:100/200 AVG Training Loss:0.649 AVG Validation Loss:0.664 AVG Training Acc 62.46 % AVG Validation Acc 61.95 %\n",
      "Epoch:110/200 AVG Training Loss:0.650 AVG Validation Loss:0.664 AVG Training Acc 62.27 % AVG Validation Acc 62.04 %\n",
      "Epoch:120/200 AVG Training Loss:0.649 AVG Validation Loss:0.665 AVG Training Acc 62.19 % AVG Validation Acc 62.04 %\n",
      "Epoch   127: reducing learning rate of group 0 to 1.0000e-06.\n",
      "Epoch:130/200 AVG Training Loss:0.649 AVG Validation Loss:0.664 AVG Training Acc 62.24 % AVG Validation Acc 62.04 %\n",
      "Epoch:140/200 AVG Training Loss:0.649 AVG Validation Loss:0.666 AVG Training Acc 62.30 % AVG Validation Acc 62.04 %\n",
      "Epoch:150/200 AVG Training Loss:0.649 AVG Validation Loss:0.664 AVG Training Acc 62.30 % AVG Validation Acc 62.04 %\n",
      "Epoch   158: reducing learning rate of group 0 to 1.0000e-07.\n",
      "Epoch:160/200 AVG Training Loss:0.650 AVG Validation Loss:0.665 AVG Training Acc 62.17 % AVG Validation Acc 62.04 %\n",
      "Epoch:170/200 AVG Training Loss:0.649 AVG Validation Loss:0.664 AVG Training Acc 62.20 % AVG Validation Acc 62.04 %\n",
      "Epoch:180/200 AVG Training Loss:0.649 AVG Validation Loss:0.664 AVG Training Acc 62.21 % AVG Validation Acc 62.04 %\n",
      "Epoch   189: reducing learning rate of group 0 to 1.0000e-08.\n",
      "Epoch:190/200 AVG Training Loss:0.649 AVG Validation Loss:0.664 AVG Training Acc 62.29 % AVG Validation Acc 62.04 %\n",
      "Epoch:200/200 AVG Training Loss:0.650 AVG Validation Loss:0.664 AVG Training Acc 62.18 % AVG Validation Acc 62.04 %\n",
      "Split 144\n"
     ]
    },
    {
     "data": {
      "application/vnd.jupyter.widget-view+json": {
       "model_id": "d90623bcb7934433bdec9532b7ebdb6c",
       "version_major": 2,
       "version_minor": 0
      },
      "text/plain": [
       "  0%|          | 0/200 [00:00<?, ?it/s]"
      ]
     },
     "metadata": {},
     "output_type": "display_data"
    },
    {
     "name": "stdout",
     "output_type": "stream",
     "text": [
      "Epoch:10/200 AVG Training Loss:0.664 AVG Validation Loss:0.662 AVG Training Acc 61.89 % AVG Validation Acc 61.86 %\n",
      "Epoch:20/200 AVG Training Loss:0.660 AVG Validation Loss:0.660 AVG Training Acc 61.95 % AVG Validation Acc 61.95 %\n",
      "Epoch    26: reducing learning rate of group 0 to 1.0000e-03.\n",
      "Epoch:30/200 AVG Training Loss:0.657 AVG Validation Loss:0.659 AVG Training Acc 62.01 % AVG Validation Acc 61.86 %\n",
      "Epoch:40/200 AVG Training Loss:0.657 AVG Validation Loss:0.658 AVG Training Acc 61.96 % AVG Validation Acc 61.86 %\n",
      "Epoch:50/200 AVG Training Loss:0.656 AVG Validation Loss:0.658 AVG Training Acc 62.03 % AVG Validation Acc 61.86 %\n",
      "Epoch    57: reducing learning rate of group 0 to 1.0000e-04.\n",
      "Epoch:60/200 AVG Training Loss:0.655 AVG Validation Loss:0.658 AVG Training Acc 62.06 % AVG Validation Acc 61.86 %\n",
      "Epoch:70/200 AVG Training Loss:0.654 AVG Validation Loss:0.658 AVG Training Acc 62.07 % AVG Validation Acc 61.95 %\n",
      "Epoch:80/200 AVG Training Loss:0.653 AVG Validation Loss:0.658 AVG Training Acc 62.05 % AVG Validation Acc 61.95 %\n",
      "Epoch    88: reducing learning rate of group 0 to 1.0000e-05.\n",
      "Epoch:90/200 AVG Training Loss:0.654 AVG Validation Loss:0.658 AVG Training Acc 62.04 % AVG Validation Acc 61.95 %\n",
      "Epoch:100/200 AVG Training Loss:0.653 AVG Validation Loss:0.658 AVG Training Acc 62.08 % AVG Validation Acc 61.95 %\n",
      "Epoch:110/200 AVG Training Loss:0.653 AVG Validation Loss:0.657 AVG Training Acc 62.08 % AVG Validation Acc 61.95 %\n",
      "Epoch   119: reducing learning rate of group 0 to 1.0000e-06.\n",
      "Epoch:120/200 AVG Training Loss:0.654 AVG Validation Loss:0.658 AVG Training Acc 62.08 % AVG Validation Acc 61.95 %\n",
      "Epoch:130/200 AVG Training Loss:0.654 AVG Validation Loss:0.658 AVG Training Acc 62.05 % AVG Validation Acc 61.95 %\n",
      "Epoch:140/200 AVG Training Loss:0.654 AVG Validation Loss:0.657 AVG Training Acc 62.07 % AVG Validation Acc 61.95 %\n",
      "Epoch:150/200 AVG Training Loss:0.653 AVG Validation Loss:0.657 AVG Training Acc 62.09 % AVG Validation Acc 61.95 %\n",
      "Epoch   150: reducing learning rate of group 0 to 1.0000e-07.\n",
      "Epoch:160/200 AVG Training Loss:0.653 AVG Validation Loss:0.658 AVG Training Acc 62.07 % AVG Validation Acc 61.95 %\n",
      "Epoch:170/200 AVG Training Loss:0.653 AVG Validation Loss:0.657 AVG Training Acc 62.03 % AVG Validation Acc 61.95 %\n",
      "Epoch:180/200 AVG Training Loss:0.654 AVG Validation Loss:0.657 AVG Training Acc 62.06 % AVG Validation Acc 61.95 %\n",
      "Epoch   181: reducing learning rate of group 0 to 1.0000e-08.\n",
      "Epoch:190/200 AVG Training Loss:0.653 AVG Validation Loss:0.657 AVG Training Acc 62.04 % AVG Validation Acc 61.95 %\n",
      "Epoch:200/200 AVG Training Loss:0.653 AVG Validation Loss:0.657 AVG Training Acc 62.08 % AVG Validation Acc 61.95 %\n",
      "Split 145\n"
     ]
    },
    {
     "data": {
      "application/vnd.jupyter.widget-view+json": {
       "model_id": "ac61b65616d24255b7f0509ae3641e76",
       "version_major": 2,
       "version_minor": 0
      },
      "text/plain": [
       "  0%|          | 0/200 [00:00<?, ?it/s]"
      ]
     },
     "metadata": {},
     "output_type": "display_data"
    },
    {
     "name": "stdout",
     "output_type": "stream",
     "text": [
      "Epoch:10/200 AVG Training Loss:0.664 AVG Validation Loss:0.664 AVG Training Acc 61.89 % AVG Validation Acc 61.86 %\n",
      "Epoch:20/200 AVG Training Loss:0.662 AVG Validation Loss:0.661 AVG Training Acc 61.87 % AVG Validation Acc 61.86 %\n",
      "Epoch:30/200 AVG Training Loss:0.660 AVG Validation Loss:0.656 AVG Training Acc 61.93 % AVG Validation Acc 61.68 %\n",
      "Epoch:40/200 AVG Training Loss:0.660 AVG Validation Loss:0.658 AVG Training Acc 61.94 % AVG Validation Acc 61.86 %\n",
      "Epoch:50/200 AVG Training Loss:0.657 AVG Validation Loss:0.666 AVG Training Acc 61.99 % AVG Validation Acc 61.86 %\n",
      "Epoch    55: reducing learning rate of group 0 to 1.0000e-03.\n",
      "Epoch:60/200 AVG Training Loss:0.660 AVG Validation Loss:0.660 AVG Training Acc 61.88 % AVG Validation Acc 61.68 %\n",
      "Epoch:70/200 AVG Training Loss:0.657 AVG Validation Loss:0.660 AVG Training Acc 61.84 % AVG Validation Acc 61.68 %\n",
      "Epoch:80/200 AVG Training Loss:0.658 AVG Validation Loss:0.658 AVG Training Acc 61.94 % AVG Validation Acc 61.68 %\n",
      "Epoch    86: reducing learning rate of group 0 to 1.0000e-04.\n",
      "Epoch:90/200 AVG Training Loss:0.657 AVG Validation Loss:0.658 AVG Training Acc 61.98 % AVG Validation Acc 61.68 %\n",
      "Epoch:100/200 AVG Training Loss:0.658 AVG Validation Loss:0.658 AVG Training Acc 61.94 % AVG Validation Acc 61.68 %\n",
      "Epoch:110/200 AVG Training Loss:0.658 AVG Validation Loss:0.657 AVG Training Acc 61.97 % AVG Validation Acc 61.68 %\n",
      "Epoch   117: reducing learning rate of group 0 to 1.0000e-05.\n",
      "Epoch:120/200 AVG Training Loss:0.657 AVG Validation Loss:0.658 AVG Training Acc 62.03 % AVG Validation Acc 61.68 %\n",
      "Epoch:130/200 AVG Training Loss:0.657 AVG Validation Loss:0.658 AVG Training Acc 62.02 % AVG Validation Acc 61.68 %\n",
      "Epoch:140/200 AVG Training Loss:0.657 AVG Validation Loss:0.657 AVG Training Acc 61.90 % AVG Validation Acc 61.68 %\n",
      "Epoch   148: reducing learning rate of group 0 to 1.0000e-06.\n",
      "Epoch:150/200 AVG Training Loss:0.657 AVG Validation Loss:0.657 AVG Training Acc 62.01 % AVG Validation Acc 61.68 %\n",
      "Epoch:160/200 AVG Training Loss:0.658 AVG Validation Loss:0.657 AVG Training Acc 61.94 % AVG Validation Acc 61.68 %\n",
      "Epoch:170/200 AVG Training Loss:0.657 AVG Validation Loss:0.657 AVG Training Acc 61.98 % AVG Validation Acc 61.68 %\n",
      "Epoch   179: reducing learning rate of group 0 to 1.0000e-07.\n",
      "Epoch:180/200 AVG Training Loss:0.656 AVG Validation Loss:0.657 AVG Training Acc 61.94 % AVG Validation Acc 61.68 %\n",
      "Epoch:190/200 AVG Training Loss:0.658 AVG Validation Loss:0.657 AVG Training Acc 61.97 % AVG Validation Acc 61.68 %\n",
      "Epoch:200/200 AVG Training Loss:0.658 AVG Validation Loss:0.657 AVG Training Acc 61.94 % AVG Validation Acc 61.68 %\n",
      "Split 146\n"
     ]
    },
    {
     "data": {
      "application/vnd.jupyter.widget-view+json": {
       "model_id": "b93593c714b84649b572606f61b69c24",
       "version_major": 2,
       "version_minor": 0
      },
      "text/plain": [
       "  0%|          | 0/200 [00:00<?, ?it/s]"
      ]
     },
     "metadata": {},
     "output_type": "display_data"
    },
    {
     "name": "stdout",
     "output_type": "stream",
     "text": [
      "Epoch:10/200 AVG Training Loss:0.664 AVG Validation Loss:0.664 AVG Training Acc 61.89 % AVG Validation Acc 61.91 %\n",
      "Epoch:20/200 AVG Training Loss:0.662 AVG Validation Loss:0.659 AVG Training Acc 61.89 % AVG Validation Acc 61.91 %\n",
      "Epoch:30/200 AVG Training Loss:0.659 AVG Validation Loss:0.658 AVG Training Acc 61.97 % AVG Validation Acc 61.91 %\n",
      "Epoch    35: reducing learning rate of group 0 to 1.0000e-03.\n",
      "Epoch:40/200 AVG Training Loss:0.657 AVG Validation Loss:0.658 AVG Training Acc 62.07 % AVG Validation Acc 61.82 %\n",
      "Epoch:50/200 AVG Training Loss:0.655 AVG Validation Loss:0.659 AVG Training Acc 62.10 % AVG Validation Acc 61.91 %\n",
      "Epoch:60/200 AVG Training Loss:0.654 AVG Validation Loss:0.662 AVG Training Acc 62.07 % AVG Validation Acc 61.82 %\n",
      "Epoch    66: reducing learning rate of group 0 to 1.0000e-04.\n",
      "Epoch:70/200 AVG Training Loss:0.653 AVG Validation Loss:0.663 AVG Training Acc 62.10 % AVG Validation Acc 62.00 %\n",
      "Epoch:80/200 AVG Training Loss:0.652 AVG Validation Loss:0.664 AVG Training Acc 62.15 % AVG Validation Acc 62.00 %\n",
      "Epoch:90/200 AVG Training Loss:0.653 AVG Validation Loss:0.664 AVG Training Acc 62.06 % AVG Validation Acc 62.00 %\n",
      "Epoch    97: reducing learning rate of group 0 to 1.0000e-05.\n",
      "Epoch:100/200 AVG Training Loss:0.651 AVG Validation Loss:0.664 AVG Training Acc 62.21 % AVG Validation Acc 62.00 %\n",
      "Epoch:110/200 AVG Training Loss:0.652 AVG Validation Loss:0.664 AVG Training Acc 62.10 % AVG Validation Acc 62.00 %\n",
      "Epoch:120/200 AVG Training Loss:0.652 AVG Validation Loss:0.664 AVG Training Acc 62.13 % AVG Validation Acc 62.00 %\n",
      "Epoch   128: reducing learning rate of group 0 to 1.0000e-06.\n",
      "Epoch:130/200 AVG Training Loss:0.652 AVG Validation Loss:0.664 AVG Training Acc 62.21 % AVG Validation Acc 62.00 %\n",
      "Epoch:140/200 AVG Training Loss:0.651 AVG Validation Loss:0.664 AVG Training Acc 62.22 % AVG Validation Acc 62.00 %\n",
      "Epoch:150/200 AVG Training Loss:0.651 AVG Validation Loss:0.665 AVG Training Acc 62.17 % AVG Validation Acc 61.91 %\n",
      "Epoch   159: reducing learning rate of group 0 to 1.0000e-07.\n",
      "Epoch:160/200 AVG Training Loss:0.651 AVG Validation Loss:0.665 AVG Training Acc 62.15 % AVG Validation Acc 62.00 %\n",
      "Epoch:170/200 AVG Training Loss:0.651 AVG Validation Loss:0.665 AVG Training Acc 62.14 % AVG Validation Acc 62.00 %\n",
      "Epoch:180/200 AVG Training Loss:0.652 AVG Validation Loss:0.664 AVG Training Acc 62.06 % AVG Validation Acc 61.91 %\n",
      "Epoch:190/200 AVG Training Loss:0.651 AVG Validation Loss:0.663 AVG Training Acc 62.20 % AVG Validation Acc 62.00 %\n",
      "Epoch   190: reducing learning rate of group 0 to 1.0000e-08.\n",
      "Epoch:200/200 AVG Training Loss:0.652 AVG Validation Loss:0.664 AVG Training Acc 62.21 % AVG Validation Acc 62.00 %\n",
      "Split 147\n"
     ]
    },
    {
     "data": {
      "application/vnd.jupyter.widget-view+json": {
       "model_id": "745de818c6c0461ea4a1a82de74b84c9",
       "version_major": 2,
       "version_minor": 0
      },
      "text/plain": [
       "  0%|          | 0/200 [00:00<?, ?it/s]"
      ]
     },
     "metadata": {},
     "output_type": "display_data"
    },
    {
     "name": "stdout",
     "output_type": "stream",
     "text": [
      "Epoch:10/200 AVG Training Loss:0.664 AVG Validation Loss:0.664 AVG Training Acc 61.88 % AVG Validation Acc 61.91 %\n",
      "Epoch:20/200 AVG Training Loss:0.661 AVG Validation Loss:0.658 AVG Training Acc 61.90 % AVG Validation Acc 61.91 %\n",
      "Epoch:30/200 AVG Training Loss:0.661 AVG Validation Loss:0.656 AVG Training Acc 61.97 % AVG Validation Acc 61.91 %\n",
      "Epoch:40/200 AVG Training Loss:0.660 AVG Validation Loss:0.660 AVG Training Acc 61.85 % AVG Validation Acc 62.09 %\n",
      "Epoch    44: reducing learning rate of group 0 to 1.0000e-03.\n",
      "Epoch:50/200 AVG Training Loss:0.656 AVG Validation Loss:0.658 AVG Training Acc 61.90 % AVG Validation Acc 62.00 %\n",
      "Epoch:60/200 AVG Training Loss:0.653 AVG Validation Loss:0.657 AVG Training Acc 61.97 % AVG Validation Acc 62.09 %\n",
      "Epoch:70/200 AVG Training Loss:0.650 AVG Validation Loss:0.662 AVG Training Acc 62.08 % AVG Validation Acc 62.27 %\n",
      "Epoch    75: reducing learning rate of group 0 to 1.0000e-04.\n",
      "Epoch:80/200 AVG Training Loss:0.648 AVG Validation Loss:0.664 AVG Training Acc 62.07 % AVG Validation Acc 62.18 %\n",
      "Epoch:90/200 AVG Training Loss:0.647 AVG Validation Loss:0.667 AVG Training Acc 62.09 % AVG Validation Acc 62.18 %\n",
      "Epoch:100/200 AVG Training Loss:0.647 AVG Validation Loss:0.667 AVG Training Acc 62.03 % AVG Validation Acc 62.27 %\n",
      "Epoch   106: reducing learning rate of group 0 to 1.0000e-05.\n",
      "Epoch:110/200 AVG Training Loss:0.648 AVG Validation Loss:0.665 AVG Training Acc 61.99 % AVG Validation Acc 62.36 %\n",
      "Epoch:120/200 AVG Training Loss:0.648 AVG Validation Loss:0.669 AVG Training Acc 62.18 % AVG Validation Acc 62.36 %\n",
      "Epoch:130/200 AVG Training Loss:0.648 AVG Validation Loss:0.668 AVG Training Acc 62.12 % AVG Validation Acc 62.36 %\n",
      "Epoch   137: reducing learning rate of group 0 to 1.0000e-06.\n",
      "Epoch:140/200 AVG Training Loss:0.647 AVG Validation Loss:0.671 AVG Training Acc 62.11 % AVG Validation Acc 62.36 %\n",
      "Epoch:150/200 AVG Training Loss:0.648 AVG Validation Loss:0.666 AVG Training Acc 62.12 % AVG Validation Acc 62.36 %\n",
      "Epoch:160/200 AVG Training Loss:0.647 AVG Validation Loss:0.666 AVG Training Acc 62.08 % AVG Validation Acc 62.36 %\n",
      "Epoch   168: reducing learning rate of group 0 to 1.0000e-07.\n",
      "Epoch:170/200 AVG Training Loss:0.647 AVG Validation Loss:0.668 AVG Training Acc 62.02 % AVG Validation Acc 62.36 %\n",
      "Epoch:180/200 AVG Training Loss:0.648 AVG Validation Loss:0.671 AVG Training Acc 62.13 % AVG Validation Acc 62.36 %\n",
      "Epoch:190/200 AVG Training Loss:0.647 AVG Validation Loss:0.664 AVG Training Acc 62.02 % AVG Validation Acc 62.36 %\n",
      "Epoch   199: reducing learning rate of group 0 to 1.0000e-08.\n",
      "Epoch:200/200 AVG Training Loss:0.647 AVG Validation Loss:0.665 AVG Training Acc 62.06 % AVG Validation Acc 62.36 %\n",
      "Split 148\n"
     ]
    },
    {
     "data": {
      "application/vnd.jupyter.widget-view+json": {
       "model_id": "59d46846d2d24e4ea0d60f56830b6618",
       "version_major": 2,
       "version_minor": 0
      },
      "text/plain": [
       "  0%|          | 0/200 [00:00<?, ?it/s]"
      ]
     },
     "metadata": {},
     "output_type": "display_data"
    },
    {
     "name": "stdout",
     "output_type": "stream",
     "text": [
      "Epoch:10/200 AVG Training Loss:0.663 AVG Validation Loss:0.670 AVG Training Acc 61.82 % AVG Validation Acc 61.91 %\n",
      "Epoch    12: reducing learning rate of group 0 to 1.0000e-03.\n",
      "Epoch:20/200 AVG Training Loss:0.658 AVG Validation Loss:0.669 AVG Training Acc 61.93 % AVG Validation Acc 61.91 %\n",
      "Epoch:30/200 AVG Training Loss:0.656 AVG Validation Loss:0.673 AVG Training Acc 61.88 % AVG Validation Acc 61.91 %\n",
      "Epoch:40/200 AVG Training Loss:0.656 AVG Validation Loss:0.675 AVG Training Acc 61.98 % AVG Validation Acc 61.91 %\n",
      "Epoch    43: reducing learning rate of group 0 to 1.0000e-04.\n",
      "Epoch:50/200 AVG Training Loss:0.655 AVG Validation Loss:0.670 AVG Training Acc 62.02 % AVG Validation Acc 62.09 %\n",
      "Epoch:60/200 AVG Training Loss:0.654 AVG Validation Loss:0.672 AVG Training Acc 62.03 % AVG Validation Acc 62.09 %\n",
      "Epoch:70/200 AVG Training Loss:0.654 AVG Validation Loss:0.670 AVG Training Acc 62.00 % AVG Validation Acc 62.09 %\n",
      "Epoch    74: reducing learning rate of group 0 to 1.0000e-05.\n",
      "Epoch:80/200 AVG Training Loss:0.654 AVG Validation Loss:0.671 AVG Training Acc 62.00 % AVG Validation Acc 62.00 %\n",
      "Epoch:90/200 AVG Training Loss:0.654 AVG Validation Loss:0.671 AVG Training Acc 62.02 % AVG Validation Acc 62.00 %\n",
      "Epoch:100/200 AVG Training Loss:0.654 AVG Validation Loss:0.672 AVG Training Acc 62.03 % AVG Validation Acc 62.00 %\n",
      "Epoch   105: reducing learning rate of group 0 to 1.0000e-06.\n",
      "Epoch:110/200 AVG Training Loss:0.653 AVG Validation Loss:0.671 AVG Training Acc 62.01 % AVG Validation Acc 62.00 %\n",
      "Epoch:120/200 AVG Training Loss:0.654 AVG Validation Loss:0.671 AVG Training Acc 61.92 % AVG Validation Acc 62.00 %\n",
      "Epoch:130/200 AVG Training Loss:0.654 AVG Validation Loss:0.671 AVG Training Acc 61.98 % AVG Validation Acc 62.00 %\n",
      "Epoch   136: reducing learning rate of group 0 to 1.0000e-07.\n",
      "Epoch:140/200 AVG Training Loss:0.654 AVG Validation Loss:0.673 AVG Training Acc 62.00 % AVG Validation Acc 62.00 %\n",
      "Epoch:150/200 AVG Training Loss:0.655 AVG Validation Loss:0.671 AVG Training Acc 61.97 % AVG Validation Acc 62.00 %\n",
      "Epoch:160/200 AVG Training Loss:0.653 AVG Validation Loss:0.673 AVG Training Acc 62.03 % AVG Validation Acc 62.00 %\n",
      "Epoch   167: reducing learning rate of group 0 to 1.0000e-08.\n",
      "Epoch:170/200 AVG Training Loss:0.655 AVG Validation Loss:0.671 AVG Training Acc 61.98 % AVG Validation Acc 62.00 %\n",
      "Epoch:180/200 AVG Training Loss:0.653 AVG Validation Loss:0.670 AVG Training Acc 62.01 % AVG Validation Acc 62.00 %\n",
      "Epoch:190/200 AVG Training Loss:0.654 AVG Validation Loss:0.671 AVG Training Acc 62.03 % AVG Validation Acc 62.00 %\n",
      "Epoch:200/200 AVG Training Loss:0.654 AVG Validation Loss:0.671 AVG Training Acc 61.98 % AVG Validation Acc 62.00 %\n",
      "Split 149\n"
     ]
    },
    {
     "data": {
      "application/vnd.jupyter.widget-view+json": {
       "model_id": "292ed60e87ff42019a4c4f58aec8bd80",
       "version_major": 2,
       "version_minor": 0
      },
      "text/plain": [
       "  0%|          | 0/200 [00:00<?, ?it/s]"
      ]
     },
     "metadata": {},
     "output_type": "display_data"
    },
    {
     "name": "stdout",
     "output_type": "stream",
     "text": [
      "Epoch:10/200 AVG Training Loss:0.664 AVG Validation Loss:0.665 AVG Training Acc 61.91 % AVG Validation Acc 61.91 %\n",
      "Epoch:20/200 AVG Training Loss:0.663 AVG Validation Loss:0.664 AVG Training Acc 61.89 % AVG Validation Acc 61.91 %\n",
      "Epoch:30/200 AVG Training Loss:0.659 AVG Validation Loss:0.666 AVG Training Acc 62.01 % AVG Validation Acc 61.73 %\n",
      "Epoch    32: reducing learning rate of group 0 to 1.0000e-03.\n",
      "Epoch:40/200 AVG Training Loss:0.656 AVG Validation Loss:0.668 AVG Training Acc 62.11 % AVG Validation Acc 61.46 %\n",
      "Epoch:50/200 AVG Training Loss:0.654 AVG Validation Loss:0.669 AVG Training Acc 62.09 % AVG Validation Acc 61.37 %\n",
      "Epoch:60/200 AVG Training Loss:0.653 AVG Validation Loss:0.677 AVG Training Acc 62.20 % AVG Validation Acc 61.37 %\n",
      "Epoch    63: reducing learning rate of group 0 to 1.0000e-04.\n",
      "Epoch:70/200 AVG Training Loss:0.653 AVG Validation Loss:0.678 AVG Training Acc 62.19 % AVG Validation Acc 61.55 %\n",
      "Epoch:80/200 AVG Training Loss:0.652 AVG Validation Loss:0.679 AVG Training Acc 62.24 % AVG Validation Acc 61.46 %\n",
      "Epoch:90/200 AVG Training Loss:0.653 AVG Validation Loss:0.681 AVG Training Acc 62.10 % AVG Validation Acc 61.46 %\n",
      "Epoch    94: reducing learning rate of group 0 to 1.0000e-05.\n",
      "Epoch:100/200 AVG Training Loss:0.652 AVG Validation Loss:0.681 AVG Training Acc 62.30 % AVG Validation Acc 61.46 %\n",
      "Epoch:110/200 AVG Training Loss:0.652 AVG Validation Loss:0.681 AVG Training Acc 62.19 % AVG Validation Acc 61.46 %\n",
      "Epoch:120/200 AVG Training Loss:0.653 AVG Validation Loss:0.681 AVG Training Acc 62.19 % AVG Validation Acc 61.46 %\n",
      "Epoch   125: reducing learning rate of group 0 to 1.0000e-06.\n",
      "Epoch:130/200 AVG Training Loss:0.653 AVG Validation Loss:0.681 AVG Training Acc 62.17 % AVG Validation Acc 61.46 %\n",
      "Epoch:140/200 AVG Training Loss:0.652 AVG Validation Loss:0.681 AVG Training Acc 62.27 % AVG Validation Acc 61.37 %\n",
      "Epoch:150/200 AVG Training Loss:0.653 AVG Validation Loss:0.681 AVG Training Acc 62.16 % AVG Validation Acc 61.46 %\n",
      "Epoch   156: reducing learning rate of group 0 to 1.0000e-07.\n",
      "Epoch:160/200 AVG Training Loss:0.653 AVG Validation Loss:0.682 AVG Training Acc 62.15 % AVG Validation Acc 61.46 %\n",
      "Epoch:170/200 AVG Training Loss:0.652 AVG Validation Loss:0.681 AVG Training Acc 62.19 % AVG Validation Acc 61.46 %\n",
      "Epoch:180/200 AVG Training Loss:0.652 AVG Validation Loss:0.681 AVG Training Acc 62.20 % AVG Validation Acc 61.37 %\n",
      "Epoch   187: reducing learning rate of group 0 to 1.0000e-08.\n",
      "Epoch:190/200 AVG Training Loss:0.652 AVG Validation Loss:0.682 AVG Training Acc 62.19 % AVG Validation Acc 61.46 %\n",
      "Epoch:200/200 AVG Training Loss:0.652 AVG Validation Loss:0.681 AVG Training Acc 62.28 % AVG Validation Acc 61.46 %\n",
      "Split 150\n"
     ]
    },
    {
     "data": {
      "application/vnd.jupyter.widget-view+json": {
       "model_id": "c516d190a3e046019aed6c9f1a86fbe8",
       "version_major": 2,
       "version_minor": 0
      },
      "text/plain": [
       "  0%|          | 0/200 [00:00<?, ?it/s]"
      ]
     },
     "metadata": {},
     "output_type": "display_data"
    },
    {
     "name": "stdout",
     "output_type": "stream",
     "text": [
      "Epoch:10/200 AVG Training Loss:0.663 AVG Validation Loss:0.661 AVG Training Acc 61.89 % AVG Validation Acc 61.91 %\n",
      "Epoch:20/200 AVG Training Loss:0.660 AVG Validation Loss:0.659 AVG Training Acc 61.88 % AVG Validation Acc 61.91 %\n",
      "Epoch    22: reducing learning rate of group 0 to 1.0000e-03.\n",
      "Epoch:30/200 AVG Training Loss:0.655 AVG Validation Loss:0.664 AVG Training Acc 62.50 % AVG Validation Acc 61.01 %\n",
      "Epoch:40/200 AVG Training Loss:0.652 AVG Validation Loss:0.664 AVG Training Acc 62.65 % AVG Validation Acc 61.37 %\n",
      "Epoch:50/200 AVG Training Loss:0.651 AVG Validation Loss:0.665 AVG Training Acc 62.89 % AVG Validation Acc 61.91 %\n",
      "Epoch    53: reducing learning rate of group 0 to 1.0000e-04.\n",
      "Epoch:60/200 AVG Training Loss:0.649 AVG Validation Loss:0.665 AVG Training Acc 63.10 % AVG Validation Acc 61.19 %\n",
      "Epoch:70/200 AVG Training Loss:0.650 AVG Validation Loss:0.666 AVG Training Acc 62.95 % AVG Validation Acc 61.10 %\n",
      "Epoch:80/200 AVG Training Loss:0.648 AVG Validation Loss:0.665 AVG Training Acc 62.99 % AVG Validation Acc 61.01 %\n",
      "Epoch    84: reducing learning rate of group 0 to 1.0000e-05.\n",
      "Epoch:90/200 AVG Training Loss:0.648 AVG Validation Loss:0.666 AVG Training Acc 62.96 % AVG Validation Acc 60.74 %\n",
      "Epoch:100/200 AVG Training Loss:0.647 AVG Validation Loss:0.665 AVG Training Acc 63.34 % AVG Validation Acc 61.01 %\n",
      "Epoch:110/200 AVG Training Loss:0.648 AVG Validation Loss:0.666 AVG Training Acc 63.14 % AVG Validation Acc 61.19 %\n",
      "Epoch   115: reducing learning rate of group 0 to 1.0000e-06.\n",
      "Epoch:120/200 AVG Training Loss:0.647 AVG Validation Loss:0.665 AVG Training Acc 63.17 % AVG Validation Acc 61.10 %\n",
      "Epoch:130/200 AVG Training Loss:0.647 AVG Validation Loss:0.664 AVG Training Acc 63.15 % AVG Validation Acc 61.46 %\n",
      "Epoch:140/200 AVG Training Loss:0.648 AVG Validation Loss:0.665 AVG Training Acc 63.10 % AVG Validation Acc 61.01 %\n",
      "Epoch   146: reducing learning rate of group 0 to 1.0000e-07.\n",
      "Epoch:150/200 AVG Training Loss:0.647 AVG Validation Loss:0.666 AVG Training Acc 63.31 % AVG Validation Acc 61.19 %\n",
      "Epoch:160/200 AVG Training Loss:0.648 AVG Validation Loss:0.665 AVG Training Acc 63.17 % AVG Validation Acc 61.37 %\n",
      "Epoch:170/200 AVG Training Loss:0.648 AVG Validation Loss:0.665 AVG Training Acc 63.10 % AVG Validation Acc 61.19 %\n",
      "Epoch   177: reducing learning rate of group 0 to 1.0000e-08.\n",
      "Epoch:180/200 AVG Training Loss:0.647 AVG Validation Loss:0.666 AVG Training Acc 63.29 % AVG Validation Acc 61.19 %\n",
      "Epoch:190/200 AVG Training Loss:0.648 AVG Validation Loss:0.665 AVG Training Acc 63.02 % AVG Validation Acc 61.46 %\n",
      "Epoch:200/200 AVG Training Loss:0.647 AVG Validation Loss:0.665 AVG Training Acc 63.23 % AVG Validation Acc 61.19 %\n",
      "Split 151\n"
     ]
    },
    {
     "data": {
      "application/vnd.jupyter.widget-view+json": {
       "model_id": "171a1f02cdf545118cea510069fd0353",
       "version_major": 2,
       "version_minor": 0
      },
      "text/plain": [
       "  0%|          | 0/200 [00:00<?, ?it/s]"
      ]
     },
     "metadata": {},
     "output_type": "display_data"
    },
    {
     "name": "stdout",
     "output_type": "stream",
     "text": [
      "Epoch:10/200 AVG Training Loss:0.664 AVG Validation Loss:0.662 AVG Training Acc 61.84 % AVG Validation Acc 61.95 %\n",
      "Epoch:20/200 AVG Training Loss:0.660 AVG Validation Loss:0.668 AVG Training Acc 61.93 % AVG Validation Acc 62.04 %\n",
      "Epoch:30/200 AVG Training Loss:0.660 AVG Validation Loss:0.659 AVG Training Acc 61.95 % AVG Validation Acc 62.04 %\n",
      "Epoch:40/200 AVG Training Loss:0.661 AVG Validation Loss:0.661 AVG Training Acc 61.91 % AVG Validation Acc 62.04 %\n",
      "Epoch    42: reducing learning rate of group 0 to 1.0000e-03.\n",
      "Epoch:50/200 AVG Training Loss:0.654 AVG Validation Loss:0.659 AVG Training Acc 61.98 % AVG Validation Acc 62.22 %\n",
      "Epoch:60/200 AVG Training Loss:0.652 AVG Validation Loss:0.659 AVG Training Acc 62.05 % AVG Validation Acc 62.22 %\n",
      "Epoch:70/200 AVG Training Loss:0.651 AVG Validation Loss:0.659 AVG Training Acc 62.08 % AVG Validation Acc 62.22 %\n",
      "Epoch    73: reducing learning rate of group 0 to 1.0000e-04.\n",
      "Epoch:80/200 AVG Training Loss:0.651 AVG Validation Loss:0.660 AVG Training Acc 62.06 % AVG Validation Acc 62.22 %\n",
      "Epoch:90/200 AVG Training Loss:0.650 AVG Validation Loss:0.659 AVG Training Acc 62.10 % AVG Validation Acc 62.13 %\n",
      "Epoch:100/200 AVG Training Loss:0.650 AVG Validation Loss:0.659 AVG Training Acc 62.02 % AVG Validation Acc 62.22 %\n",
      "Epoch   104: reducing learning rate of group 0 to 1.0000e-05.\n",
      "Epoch:110/200 AVG Training Loss:0.649 AVG Validation Loss:0.659 AVG Training Acc 62.07 % AVG Validation Acc 62.22 %\n",
      "Epoch:120/200 AVG Training Loss:0.649 AVG Validation Loss:0.660 AVG Training Acc 62.02 % AVG Validation Acc 62.22 %\n",
      "Epoch:130/200 AVG Training Loss:0.649 AVG Validation Loss:0.660 AVG Training Acc 62.06 % AVG Validation Acc 62.22 %\n",
      "Epoch   135: reducing learning rate of group 0 to 1.0000e-06.\n",
      "Epoch:140/200 AVG Training Loss:0.649 AVG Validation Loss:0.660 AVG Training Acc 62.07 % AVG Validation Acc 62.22 %\n",
      "Epoch:150/200 AVG Training Loss:0.649 AVG Validation Loss:0.661 AVG Training Acc 62.06 % AVG Validation Acc 62.22 %\n",
      "Epoch:160/200 AVG Training Loss:0.649 AVG Validation Loss:0.660 AVG Training Acc 62.08 % AVG Validation Acc 62.13 %\n",
      "Epoch   166: reducing learning rate of group 0 to 1.0000e-07.\n",
      "Epoch:170/200 AVG Training Loss:0.650 AVG Validation Loss:0.661 AVG Training Acc 62.11 % AVG Validation Acc 62.22 %\n",
      "Epoch:180/200 AVG Training Loss:0.649 AVG Validation Loss:0.662 AVG Training Acc 62.09 % AVG Validation Acc 62.22 %\n",
      "Epoch:190/200 AVG Training Loss:0.650 AVG Validation Loss:0.661 AVG Training Acc 62.06 % AVG Validation Acc 62.31 %\n",
      "Epoch   197: reducing learning rate of group 0 to 1.0000e-08.\n",
      "Epoch:200/200 AVG Training Loss:0.648 AVG Validation Loss:0.660 AVG Training Acc 62.11 % AVG Validation Acc 62.22 %\n",
      "Split 152\n"
     ]
    },
    {
     "data": {
      "application/vnd.jupyter.widget-view+json": {
       "model_id": "cb6d45ffdf684f12a3e5eed4f9cea0ca",
       "version_major": 2,
       "version_minor": 0
      },
      "text/plain": [
       "  0%|          | 0/200 [00:00<?, ?it/s]"
      ]
     },
     "metadata": {},
     "output_type": "display_data"
    },
    {
     "name": "stdout",
     "output_type": "stream",
     "text": [
      "Epoch:10/200 AVG Training Loss:0.662 AVG Validation Loss:0.662 AVG Training Acc 61.91 % AVG Validation Acc 61.86 %\n",
      "Epoch:20/200 AVG Training Loss:0.660 AVG Validation Loss:0.661 AVG Training Acc 61.92 % AVG Validation Acc 61.95 %\n",
      "Epoch    29: reducing learning rate of group 0 to 1.0000e-03.\n",
      "Epoch:30/200 AVG Training Loss:0.658 AVG Validation Loss:0.661 AVG Training Acc 61.92 % AVG Validation Acc 61.86 %\n",
      "Epoch:40/200 AVG Training Loss:0.656 AVG Validation Loss:0.662 AVG Training Acc 61.99 % AVG Validation Acc 62.04 %\n",
      "Epoch:50/200 AVG Training Loss:0.655 AVG Validation Loss:0.663 AVG Training Acc 62.01 % AVG Validation Acc 61.77 %\n",
      "Epoch:60/200 AVG Training Loss:0.653 AVG Validation Loss:0.664 AVG Training Acc 62.03 % AVG Validation Acc 61.86 %\n",
      "Epoch    60: reducing learning rate of group 0 to 1.0000e-04.\n",
      "Epoch:70/200 AVG Training Loss:0.653 AVG Validation Loss:0.666 AVG Training Acc 62.09 % AVG Validation Acc 61.86 %\n",
      "Epoch:80/200 AVG Training Loss:0.652 AVG Validation Loss:0.668 AVG Training Acc 62.03 % AVG Validation Acc 61.86 %\n",
      "Epoch:90/200 AVG Training Loss:0.653 AVG Validation Loss:0.668 AVG Training Acc 62.05 % AVG Validation Acc 61.86 %\n",
      "Epoch    91: reducing learning rate of group 0 to 1.0000e-05.\n",
      "Epoch:100/200 AVG Training Loss:0.651 AVG Validation Loss:0.669 AVG Training Acc 62.04 % AVG Validation Acc 61.86 %\n",
      "Epoch:110/200 AVG Training Loss:0.652 AVG Validation Loss:0.670 AVG Training Acc 62.14 % AVG Validation Acc 61.86 %\n",
      "Epoch:120/200 AVG Training Loss:0.652 AVG Validation Loss:0.668 AVG Training Acc 62.10 % AVG Validation Acc 61.86 %\n",
      "Epoch   122: reducing learning rate of group 0 to 1.0000e-06.\n",
      "Epoch:130/200 AVG Training Loss:0.652 AVG Validation Loss:0.669 AVG Training Acc 62.05 % AVG Validation Acc 61.86 %\n",
      "Epoch:140/200 AVG Training Loss:0.652 AVG Validation Loss:0.668 AVG Training Acc 62.06 % AVG Validation Acc 61.86 %\n",
      "Epoch:150/200 AVG Training Loss:0.652 AVG Validation Loss:0.667 AVG Training Acc 62.14 % AVG Validation Acc 61.86 %\n",
      "Epoch   153: reducing learning rate of group 0 to 1.0000e-07.\n",
      "Epoch:160/200 AVG Training Loss:0.652 AVG Validation Loss:0.669 AVG Training Acc 62.12 % AVG Validation Acc 61.86 %\n",
      "Epoch:170/200 AVG Training Loss:0.651 AVG Validation Loss:0.670 AVG Training Acc 62.15 % AVG Validation Acc 61.86 %\n",
      "Epoch:180/200 AVG Training Loss:0.652 AVG Validation Loss:0.669 AVG Training Acc 62.08 % AVG Validation Acc 61.77 %\n",
      "Epoch   184: reducing learning rate of group 0 to 1.0000e-08.\n",
      "Epoch:190/200 AVG Training Loss:0.652 AVG Validation Loss:0.668 AVG Training Acc 62.13 % AVG Validation Acc 61.86 %\n",
      "Epoch:200/200 AVG Training Loss:0.651 AVG Validation Loss:0.668 AVG Training Acc 62.18 % AVG Validation Acc 61.86 %\n",
      "Split 153\n"
     ]
    },
    {
     "data": {
      "application/vnd.jupyter.widget-view+json": {
       "model_id": "7d4b7451bad640f4942fcdcb08b659f3",
       "version_major": 2,
       "version_minor": 0
      },
      "text/plain": [
       "  0%|          | 0/200 [00:00<?, ?it/s]"
      ]
     },
     "metadata": {},
     "output_type": "display_data"
    },
    {
     "name": "stdout",
     "output_type": "stream",
     "text": [
      "Epoch:10/200 AVG Training Loss:0.660 AVG Validation Loss:0.664 AVG Training Acc 61.82 % AVG Validation Acc 61.86 %\n",
      "Epoch:20/200 AVG Training Loss:0.660 AVG Validation Loss:0.663 AVG Training Acc 62.00 % AVG Validation Acc 61.86 %\n",
      "Epoch:30/200 AVG Training Loss:0.658 AVG Validation Loss:0.663 AVG Training Acc 61.95 % AVG Validation Acc 61.86 %\n",
      "Epoch    35: reducing learning rate of group 0 to 1.0000e-03.\n",
      "Epoch:40/200 AVG Training Loss:0.654 AVG Validation Loss:0.664 AVG Training Acc 62.08 % AVG Validation Acc 61.95 %\n",
      "Epoch:50/200 AVG Training Loss:0.651 AVG Validation Loss:0.664 AVG Training Acc 62.11 % AVG Validation Acc 62.13 %\n",
      "Epoch:60/200 AVG Training Loss:0.649 AVG Validation Loss:0.667 AVG Training Acc 62.11 % AVG Validation Acc 62.04 %\n",
      "Epoch    66: reducing learning rate of group 0 to 1.0000e-04.\n",
      "Epoch:70/200 AVG Training Loss:0.646 AVG Validation Loss:0.666 AVG Training Acc 62.49 % AVG Validation Acc 61.59 %\n",
      "Epoch:80/200 AVG Training Loss:0.645 AVG Validation Loss:0.666 AVG Training Acc 62.53 % AVG Validation Acc 62.22 %\n",
      "Epoch:90/200 AVG Training Loss:0.645 AVG Validation Loss:0.667 AVG Training Acc 62.47 % AVG Validation Acc 62.40 %\n",
      "Epoch    97: reducing learning rate of group 0 to 1.0000e-05.\n",
      "Epoch:100/200 AVG Training Loss:0.644 AVG Validation Loss:0.666 AVG Training Acc 62.72 % AVG Validation Acc 62.49 %\n",
      "Epoch:110/200 AVG Training Loss:0.645 AVG Validation Loss:0.668 AVG Training Acc 62.60 % AVG Validation Acc 61.86 %\n",
      "Epoch:120/200 AVG Training Loss:0.646 AVG Validation Loss:0.668 AVG Training Acc 62.57 % AVG Validation Acc 61.77 %\n",
      "Epoch   128: reducing learning rate of group 0 to 1.0000e-06.\n",
      "Epoch:130/200 AVG Training Loss:0.644 AVG Validation Loss:0.669 AVG Training Acc 62.61 % AVG Validation Acc 61.68 %\n",
      "Epoch:140/200 AVG Training Loss:0.644 AVG Validation Loss:0.667 AVG Training Acc 62.69 % AVG Validation Acc 62.22 %\n",
      "Epoch:150/200 AVG Training Loss:0.644 AVG Validation Loss:0.667 AVG Training Acc 62.37 % AVG Validation Acc 62.40 %\n",
      "Epoch   159: reducing learning rate of group 0 to 1.0000e-07.\n",
      "Epoch:160/200 AVG Training Loss:0.645 AVG Validation Loss:0.668 AVG Training Acc 62.55 % AVG Validation Acc 62.76 %\n",
      "Epoch:170/200 AVG Training Loss:0.645 AVG Validation Loss:0.668 AVG Training Acc 62.62 % AVG Validation Acc 62.31 %\n",
      "Epoch:180/200 AVG Training Loss:0.646 AVG Validation Loss:0.668 AVG Training Acc 62.51 % AVG Validation Acc 62.31 %\n",
      "Epoch:190/200 AVG Training Loss:0.645 AVG Validation Loss:0.668 AVG Training Acc 62.49 % AVG Validation Acc 62.13 %\n",
      "Epoch   190: reducing learning rate of group 0 to 1.0000e-08.\n",
      "Epoch:200/200 AVG Training Loss:0.644 AVG Validation Loss:0.666 AVG Training Acc 62.59 % AVG Validation Acc 62.13 %\n",
      "Split 154\n"
     ]
    },
    {
     "data": {
      "application/vnd.jupyter.widget-view+json": {
       "model_id": "64c6c64f527b415ba82277224306f5c9",
       "version_major": 2,
       "version_minor": 0
      },
      "text/plain": [
       "  0%|          | 0/200 [00:00<?, ?it/s]"
      ]
     },
     "metadata": {},
     "output_type": "display_data"
    },
    {
     "name": "stdout",
     "output_type": "stream",
     "text": [
      "Epoch:10/200 AVG Training Loss:0.661 AVG Validation Loss:0.665 AVG Training Acc 61.85 % AVG Validation Acc 61.86 %\n",
      "Epoch    16: reducing learning rate of group 0 to 1.0000e-03.\n",
      "Epoch:20/200 AVG Training Loss:0.657 AVG Validation Loss:0.667 AVG Training Acc 61.93 % AVG Validation Acc 61.86 %\n",
      "Epoch:30/200 AVG Training Loss:0.656 AVG Validation Loss:0.669 AVG Training Acc 62.07 % AVG Validation Acc 61.86 %\n",
      "Epoch:40/200 AVG Training Loss:0.654 AVG Validation Loss:0.672 AVG Training Acc 62.09 % AVG Validation Acc 61.86 %\n",
      "Epoch    47: reducing learning rate of group 0 to 1.0000e-04.\n",
      "Epoch:50/200 AVG Training Loss:0.653 AVG Validation Loss:0.673 AVG Training Acc 62.10 % AVG Validation Acc 61.77 %\n",
      "Epoch:60/200 AVG Training Loss:0.651 AVG Validation Loss:0.675 AVG Training Acc 62.14 % AVG Validation Acc 61.68 %\n",
      "Epoch:70/200 AVG Training Loss:0.650 AVG Validation Loss:0.674 AVG Training Acc 62.18 % AVG Validation Acc 61.77 %\n",
      "Epoch    78: reducing learning rate of group 0 to 1.0000e-05.\n",
      "Epoch:80/200 AVG Training Loss:0.651 AVG Validation Loss:0.673 AVG Training Acc 62.10 % AVG Validation Acc 61.77 %\n",
      "Epoch:90/200 AVG Training Loss:0.651 AVG Validation Loss:0.672 AVG Training Acc 62.11 % AVG Validation Acc 61.77 %\n",
      "Epoch:100/200 AVG Training Loss:0.651 AVG Validation Loss:0.672 AVG Training Acc 62.02 % AVG Validation Acc 61.86 %\n",
      "Epoch   109: reducing learning rate of group 0 to 1.0000e-06.\n",
      "Epoch:110/200 AVG Training Loss:0.651 AVG Validation Loss:0.672 AVG Training Acc 62.07 % AVG Validation Acc 61.86 %\n",
      "Epoch:120/200 AVG Training Loss:0.650 AVG Validation Loss:0.672 AVG Training Acc 62.17 % AVG Validation Acc 61.86 %\n",
      "Epoch:130/200 AVG Training Loss:0.651 AVG Validation Loss:0.672 AVG Training Acc 62.12 % AVG Validation Acc 61.86 %\n",
      "Epoch:140/200 AVG Training Loss:0.650 AVG Validation Loss:0.672 AVG Training Acc 62.21 % AVG Validation Acc 61.86 %\n",
      "Epoch   140: reducing learning rate of group 0 to 1.0000e-07.\n",
      "Epoch:150/200 AVG Training Loss:0.651 AVG Validation Loss:0.672 AVG Training Acc 62.06 % AVG Validation Acc 61.86 %\n",
      "Epoch:160/200 AVG Training Loss:0.651 AVG Validation Loss:0.672 AVG Training Acc 62.12 % AVG Validation Acc 61.86 %\n",
      "Epoch:170/200 AVG Training Loss:0.650 AVG Validation Loss:0.672 AVG Training Acc 62.14 % AVG Validation Acc 61.86 %\n",
      "Epoch   171: reducing learning rate of group 0 to 1.0000e-08.\n",
      "Epoch:180/200 AVG Training Loss:0.650 AVG Validation Loss:0.672 AVG Training Acc 62.13 % AVG Validation Acc 61.86 %\n",
      "Epoch:190/200 AVG Training Loss:0.650 AVG Validation Loss:0.672 AVG Training Acc 62.11 % AVG Validation Acc 61.86 %\n",
      "Epoch:200/200 AVG Training Loss:0.651 AVG Validation Loss:0.672 AVG Training Acc 62.03 % AVG Validation Acc 61.86 %\n",
      "Split 155\n"
     ]
    },
    {
     "data": {
      "application/vnd.jupyter.widget-view+json": {
       "model_id": "ebfbb9cccbdb4a94a0c001712120558d",
       "version_major": 2,
       "version_minor": 0
      },
      "text/plain": [
       "  0%|          | 0/200 [00:00<?, ?it/s]"
      ]
     },
     "metadata": {},
     "output_type": "display_data"
    },
    {
     "name": "stdout",
     "output_type": "stream",
     "text": [
      "Epoch:10/200 AVG Training Loss:0.664 AVG Validation Loss:0.667 AVG Training Acc 61.91 % AVG Validation Acc 61.86 %\n",
      "Epoch    12: reducing learning rate of group 0 to 1.0000e-03.\n",
      "Epoch:20/200 AVG Training Loss:0.662 AVG Validation Loss:0.664 AVG Training Acc 61.91 % AVG Validation Acc 61.86 %\n",
      "Epoch:30/200 AVG Training Loss:0.659 AVG Validation Loss:0.662 AVG Training Acc 61.95 % AVG Validation Acc 61.86 %\n",
      "Epoch:40/200 AVG Training Loss:0.657 AVG Validation Loss:0.663 AVG Training Acc 62.00 % AVG Validation Acc 61.86 %\n",
      "Epoch:50/200 AVG Training Loss:0.657 AVG Validation Loss:0.659 AVG Training Acc 61.90 % AVG Validation Acc 61.86 %\n",
      "Epoch:60/200 AVG Training Loss:0.653 AVG Validation Loss:0.658 AVG Training Acc 61.95 % AVG Validation Acc 61.86 %\n",
      "Epoch:70/200 AVG Training Loss:0.651 AVG Validation Loss:0.658 AVG Training Acc 62.17 % AVG Validation Acc 61.77 %\n",
      "Epoch    75: reducing learning rate of group 0 to 1.0000e-04.\n",
      "Epoch:80/200 AVG Training Loss:0.649 AVG Validation Loss:0.662 AVG Training Acc 62.80 % AVG Validation Acc 62.04 %\n",
      "Epoch:90/200 AVG Training Loss:0.648 AVG Validation Loss:0.660 AVG Training Acc 62.67 % AVG Validation Acc 61.95 %\n",
      "Epoch:100/200 AVG Training Loss:0.647 AVG Validation Loss:0.667 AVG Training Acc 62.66 % AVG Validation Acc 61.68 %\n",
      "Epoch   106: reducing learning rate of group 0 to 1.0000e-05.\n",
      "Epoch:110/200 AVG Training Loss:0.647 AVG Validation Loss:0.666 AVG Training Acc 62.51 % AVG Validation Acc 61.68 %\n",
      "Epoch:120/200 AVG Training Loss:0.646 AVG Validation Loss:0.667 AVG Training Acc 62.61 % AVG Validation Acc 61.77 %\n",
      "Epoch:130/200 AVG Training Loss:0.647 AVG Validation Loss:0.666 AVG Training Acc 62.79 % AVG Validation Acc 61.86 %\n",
      "Epoch   137: reducing learning rate of group 0 to 1.0000e-06.\n",
      "Epoch:140/200 AVG Training Loss:0.646 AVG Validation Loss:0.666 AVG Training Acc 62.98 % AVG Validation Acc 61.77 %\n",
      "Epoch:150/200 AVG Training Loss:0.647 AVG Validation Loss:0.667 AVG Training Acc 62.65 % AVG Validation Acc 61.77 %\n",
      "Epoch:160/200 AVG Training Loss:0.647 AVG Validation Loss:0.666 AVG Training Acc 62.73 % AVG Validation Acc 61.59 %\n",
      "Epoch   168: reducing learning rate of group 0 to 1.0000e-07.\n",
      "Epoch:170/200 AVG Training Loss:0.646 AVG Validation Loss:0.666 AVG Training Acc 62.78 % AVG Validation Acc 61.95 %\n",
      "Epoch:180/200 AVG Training Loss:0.646 AVG Validation Loss:0.667 AVG Training Acc 62.89 % AVG Validation Acc 61.59 %\n",
      "Epoch:190/200 AVG Training Loss:0.647 AVG Validation Loss:0.666 AVG Training Acc 62.80 % AVG Validation Acc 61.86 %\n",
      "Epoch   199: reducing learning rate of group 0 to 1.0000e-08.\n",
      "Epoch:200/200 AVG Training Loss:0.646 AVG Validation Loss:0.668 AVG Training Acc 62.79 % AVG Validation Acc 61.77 %\n",
      "Split 156\n"
     ]
    },
    {
     "data": {
      "application/vnd.jupyter.widget-view+json": {
       "model_id": "18b4801f79b34d1ab0d9a343d951bf70",
       "version_major": 2,
       "version_minor": 0
      },
      "text/plain": [
       "  0%|          | 0/200 [00:00<?, ?it/s]"
      ]
     },
     "metadata": {},
     "output_type": "display_data"
    },
    {
     "name": "stdout",
     "output_type": "stream",
     "text": [
      "Epoch:10/200 AVG Training Loss:0.664 AVG Validation Loss:0.663 AVG Training Acc 61.86 % AVG Validation Acc 61.91 %\n",
      "Epoch:20/200 AVG Training Loss:0.660 AVG Validation Loss:0.661 AVG Training Acc 61.98 % AVG Validation Acc 61.91 %\n",
      "Epoch:30/200 AVG Training Loss:0.660 AVG Validation Loss:0.662 AVG Training Acc 61.93 % AVG Validation Acc 61.91 %\n",
      "Epoch    35: reducing learning rate of group 0 to 1.0000e-03.\n",
      "Epoch:40/200 AVG Training Loss:0.656 AVG Validation Loss:0.661 AVG Training Acc 62.01 % AVG Validation Acc 62.00 %\n",
      "Epoch:50/200 AVG Training Loss:0.656 AVG Validation Loss:0.664 AVG Training Acc 61.99 % AVG Validation Acc 62.00 %\n",
      "Epoch:60/200 AVG Training Loss:0.654 AVG Validation Loss:0.664 AVG Training Acc 62.04 % AVG Validation Acc 62.00 %\n",
      "Epoch    66: reducing learning rate of group 0 to 1.0000e-04.\n",
      "Epoch:70/200 AVG Training Loss:0.653 AVG Validation Loss:0.666 AVG Training Acc 61.98 % AVG Validation Acc 62.00 %\n",
      "Epoch:80/200 AVG Training Loss:0.651 AVG Validation Loss:0.667 AVG Training Acc 62.06 % AVG Validation Acc 62.00 %\n",
      "Epoch:90/200 AVG Training Loss:0.652 AVG Validation Loss:0.668 AVG Training Acc 62.19 % AVG Validation Acc 62.00 %\n",
      "Epoch    97: reducing learning rate of group 0 to 1.0000e-05.\n",
      "Epoch:100/200 AVG Training Loss:0.652 AVG Validation Loss:0.668 AVG Training Acc 62.09 % AVG Validation Acc 62.00 %\n",
      "Epoch:110/200 AVG Training Loss:0.653 AVG Validation Loss:0.668 AVG Training Acc 62.05 % AVG Validation Acc 62.00 %\n",
      "Epoch:120/200 AVG Training Loss:0.652 AVG Validation Loss:0.668 AVG Training Acc 62.15 % AVG Validation Acc 62.00 %\n",
      "Epoch   128: reducing learning rate of group 0 to 1.0000e-06.\n",
      "Epoch:130/200 AVG Training Loss:0.652 AVG Validation Loss:0.669 AVG Training Acc 62.08 % AVG Validation Acc 62.00 %\n",
      "Epoch:140/200 AVG Training Loss:0.651 AVG Validation Loss:0.669 AVG Training Acc 62.10 % AVG Validation Acc 62.00 %\n",
      "Epoch:150/200 AVG Training Loss:0.652 AVG Validation Loss:0.669 AVG Training Acc 62.09 % AVG Validation Acc 62.00 %\n",
      "Epoch   159: reducing learning rate of group 0 to 1.0000e-07.\n",
      "Epoch:160/200 AVG Training Loss:0.651 AVG Validation Loss:0.668 AVG Training Acc 62.13 % AVG Validation Acc 62.00 %\n",
      "Epoch:170/200 AVG Training Loss:0.652 AVG Validation Loss:0.668 AVG Training Acc 62.10 % AVG Validation Acc 62.00 %\n",
      "Epoch:180/200 AVG Training Loss:0.651 AVG Validation Loss:0.669 AVG Training Acc 62.12 % AVG Validation Acc 62.00 %\n",
      "Epoch:190/200 AVG Training Loss:0.652 AVG Validation Loss:0.669 AVG Training Acc 62.09 % AVG Validation Acc 62.00 %\n",
      "Epoch   190: reducing learning rate of group 0 to 1.0000e-08.\n",
      "Epoch:200/200 AVG Training Loss:0.652 AVG Validation Loss:0.668 AVG Training Acc 62.03 % AVG Validation Acc 62.00 %\n",
      "Split 157\n"
     ]
    },
    {
     "data": {
      "application/vnd.jupyter.widget-view+json": {
       "model_id": "243784e9d80f4ac7beb192b2354989ea",
       "version_major": 2,
       "version_minor": 0
      },
      "text/plain": [
       "  0%|          | 0/200 [00:00<?, ?it/s]"
      ]
     },
     "metadata": {},
     "output_type": "display_data"
    },
    {
     "name": "stdout",
     "output_type": "stream",
     "text": [
      "Epoch:10/200 AVG Training Loss:0.663 AVG Validation Loss:0.664 AVG Training Acc 61.89 % AVG Validation Acc 61.91 %\n",
      "Epoch:20/200 AVG Training Loss:0.661 AVG Validation Loss:0.662 AVG Training Acc 61.91 % AVG Validation Acc 61.91 %\n",
      "Epoch:30/200 AVG Training Loss:0.660 AVG Validation Loss:0.659 AVG Training Acc 61.98 % AVG Validation Acc 62.00 %\n",
      "Epoch:40/200 AVG Training Loss:0.660 AVG Validation Loss:0.661 AVG Training Acc 61.89 % AVG Validation Acc 61.91 %\n",
      "Epoch    41: reducing learning rate of group 0 to 1.0000e-03.\n",
      "Epoch:50/200 AVG Training Loss:0.656 AVG Validation Loss:0.661 AVG Training Acc 61.98 % AVG Validation Acc 62.09 %\n",
      "Epoch:60/200 AVG Training Loss:0.655 AVG Validation Loss:0.662 AVG Training Acc 61.95 % AVG Validation Acc 62.00 %\n",
      "Epoch:70/200 AVG Training Loss:0.653 AVG Validation Loss:0.664 AVG Training Acc 61.87 % AVG Validation Acc 62.09 %\n",
      "Epoch    72: reducing learning rate of group 0 to 1.0000e-04.\n",
      "Epoch:80/200 AVG Training Loss:0.653 AVG Validation Loss:0.664 AVG Training Acc 61.97 % AVG Validation Acc 62.09 %\n",
      "Epoch:90/200 AVG Training Loss:0.653 AVG Validation Loss:0.665 AVG Training Acc 61.99 % AVG Validation Acc 62.09 %\n",
      "Epoch:100/200 AVG Training Loss:0.652 AVG Validation Loss:0.666 AVG Training Acc 61.95 % AVG Validation Acc 62.09 %\n",
      "Epoch   103: reducing learning rate of group 0 to 1.0000e-05.\n",
      "Epoch:110/200 AVG Training Loss:0.653 AVG Validation Loss:0.666 AVG Training Acc 61.92 % AVG Validation Acc 62.09 %\n",
      "Epoch:120/200 AVG Training Loss:0.652 AVG Validation Loss:0.666 AVG Training Acc 61.91 % AVG Validation Acc 62.09 %\n",
      "Epoch:130/200 AVG Training Loss:0.652 AVG Validation Loss:0.667 AVG Training Acc 62.00 % AVG Validation Acc 62.09 %\n",
      "Epoch   134: reducing learning rate of group 0 to 1.0000e-06.\n",
      "Epoch:140/200 AVG Training Loss:0.652 AVG Validation Loss:0.666 AVG Training Acc 62.02 % AVG Validation Acc 62.09 %\n",
      "Epoch:150/200 AVG Training Loss:0.653 AVG Validation Loss:0.666 AVG Training Acc 61.99 % AVG Validation Acc 62.09 %\n",
      "Epoch:160/200 AVG Training Loss:0.652 AVG Validation Loss:0.666 AVG Training Acc 62.03 % AVG Validation Acc 62.09 %\n",
      "Epoch   165: reducing learning rate of group 0 to 1.0000e-07.\n",
      "Epoch:170/200 AVG Training Loss:0.652 AVG Validation Loss:0.666 AVG Training Acc 61.88 % AVG Validation Acc 62.09 %\n",
      "Epoch:180/200 AVG Training Loss:0.653 AVG Validation Loss:0.665 AVG Training Acc 61.97 % AVG Validation Acc 62.09 %\n",
      "Epoch:190/200 AVG Training Loss:0.653 AVG Validation Loss:0.666 AVG Training Acc 61.93 % AVG Validation Acc 62.09 %\n",
      "Epoch   196: reducing learning rate of group 0 to 1.0000e-08.\n",
      "Epoch:200/200 AVG Training Loss:0.652 AVG Validation Loss:0.666 AVG Training Acc 62.04 % AVG Validation Acc 62.09 %\n",
      "Split 158\n"
     ]
    },
    {
     "data": {
      "application/vnd.jupyter.widget-view+json": {
       "model_id": "a2cca8917a2d4fbebe206a46395c9a6a",
       "version_major": 2,
       "version_minor": 0
      },
      "text/plain": [
       "  0%|          | 0/200 [00:00<?, ?it/s]"
      ]
     },
     "metadata": {},
     "output_type": "display_data"
    },
    {
     "name": "stdout",
     "output_type": "stream",
     "text": [
      "Epoch:10/200 AVG Training Loss:0.664 AVG Validation Loss:0.661 AVG Training Acc 61.83 % AVG Validation Acc 61.91 %\n",
      "Epoch:20/200 AVG Training Loss:0.661 AVG Validation Loss:0.656 AVG Training Acc 61.91 % AVG Validation Acc 61.91 %\n",
      "Epoch:30/200 AVG Training Loss:0.659 AVG Validation Loss:0.655 AVG Training Acc 61.95 % AVG Validation Acc 61.91 %\n",
      "Epoch    36: reducing learning rate of group 0 to 1.0000e-03.\n",
      "Epoch:40/200 AVG Training Loss:0.657 AVG Validation Loss:0.654 AVG Training Acc 61.92 % AVG Validation Acc 61.82 %\n",
      "Epoch:50/200 AVG Training Loss:0.657 AVG Validation Loss:0.656 AVG Training Acc 61.93 % AVG Validation Acc 61.64 %\n",
      "Epoch:60/200 AVG Training Loss:0.654 AVG Validation Loss:0.659 AVG Training Acc 62.09 % AVG Validation Acc 61.46 %\n",
      "Epoch    67: reducing learning rate of group 0 to 1.0000e-04.\n",
      "Epoch:70/200 AVG Training Loss:0.653 AVG Validation Loss:0.658 AVG Training Acc 62.03 % AVG Validation Acc 61.55 %\n",
      "Epoch:80/200 AVG Training Loss:0.654 AVG Validation Loss:0.659 AVG Training Acc 62.01 % AVG Validation Acc 61.55 %\n",
      "Epoch:90/200 AVG Training Loss:0.653 AVG Validation Loss:0.658 AVG Training Acc 61.91 % AVG Validation Acc 61.55 %\n",
      "Epoch    98: reducing learning rate of group 0 to 1.0000e-05.\n",
      "Epoch:100/200 AVG Training Loss:0.653 AVG Validation Loss:0.659 AVG Training Acc 62.07 % AVG Validation Acc 61.55 %\n",
      "Epoch:110/200 AVG Training Loss:0.653 AVG Validation Loss:0.659 AVG Training Acc 61.97 % AVG Validation Acc 61.55 %\n",
      "Epoch:120/200 AVG Training Loss:0.653 AVG Validation Loss:0.659 AVG Training Acc 61.99 % AVG Validation Acc 61.55 %\n",
      "Epoch   129: reducing learning rate of group 0 to 1.0000e-06.\n",
      "Epoch:130/200 AVG Training Loss:0.653 AVG Validation Loss:0.659 AVG Training Acc 61.94 % AVG Validation Acc 61.55 %\n",
      "Epoch:140/200 AVG Training Loss:0.653 AVG Validation Loss:0.658 AVG Training Acc 62.07 % AVG Validation Acc 61.55 %\n",
      "Epoch:150/200 AVG Training Loss:0.653 AVG Validation Loss:0.659 AVG Training Acc 62.08 % AVG Validation Acc 61.55 %\n",
      "Epoch:160/200 AVG Training Loss:0.652 AVG Validation Loss:0.658 AVG Training Acc 61.99 % AVG Validation Acc 61.55 %\n",
      "Epoch   160: reducing learning rate of group 0 to 1.0000e-07.\n",
      "Epoch:170/200 AVG Training Loss:0.653 AVG Validation Loss:0.659 AVG Training Acc 62.09 % AVG Validation Acc 61.55 %\n",
      "Epoch:180/200 AVG Training Loss:0.653 AVG Validation Loss:0.658 AVG Training Acc 61.97 % AVG Validation Acc 61.55 %\n",
      "Epoch:190/200 AVG Training Loss:0.653 AVG Validation Loss:0.660 AVG Training Acc 62.05 % AVG Validation Acc 61.55 %\n",
      "Epoch   191: reducing learning rate of group 0 to 1.0000e-08.\n",
      "Epoch:200/200 AVG Training Loss:0.653 AVG Validation Loss:0.659 AVG Training Acc 62.03 % AVG Validation Acc 61.55 %\n",
      "Split 159\n"
     ]
    },
    {
     "data": {
      "application/vnd.jupyter.widget-view+json": {
       "model_id": "53d7e4f1a678446b87ae86b8cdef93b1",
       "version_major": 2,
       "version_minor": 0
      },
      "text/plain": [
       "  0%|          | 0/200 [00:00<?, ?it/s]"
      ]
     },
     "metadata": {},
     "output_type": "display_data"
    },
    {
     "name": "stdout",
     "output_type": "stream",
     "text": [
      "Epoch:10/200 AVG Training Loss:0.663 AVG Validation Loss:0.663 AVG Training Acc 61.86 % AVG Validation Acc 62.00 %\n",
      "Epoch:20/200 AVG Training Loss:0.660 AVG Validation Loss:0.658 AVG Training Acc 61.88 % AVG Validation Acc 61.91 %\n",
      "Epoch:30/200 AVG Training Loss:0.659 AVG Validation Loss:0.664 AVG Training Acc 61.89 % AVG Validation Acc 62.00 %\n",
      "Epoch:40/200 AVG Training Loss:0.657 AVG Validation Loss:0.657 AVG Training Acc 62.02 % AVG Validation Acc 61.55 %\n",
      "Epoch:50/200 AVG Training Loss:0.654 AVG Validation Loss:0.658 AVG Training Acc 62.36 % AVG Validation Acc 62.00 %\n",
      "Epoch    57: reducing learning rate of group 0 to 1.0000e-03.\n",
      "Epoch:60/200 AVG Training Loss:0.648 AVG Validation Loss:0.656 AVG Training Acc 62.93 % AVG Validation Acc 61.91 %\n",
      "Epoch:70/200 AVG Training Loss:0.644 AVG Validation Loss:0.660 AVG Training Acc 62.81 % AVG Validation Acc 61.91 %\n",
      "Epoch:80/200 AVG Training Loss:0.645 AVG Validation Loss:0.659 AVG Training Acc 63.00 % AVG Validation Acc 62.18 %\n",
      "Epoch    88: reducing learning rate of group 0 to 1.0000e-04.\n",
      "Epoch:90/200 AVG Training Loss:0.642 AVG Validation Loss:0.660 AVG Training Acc 63.11 % AVG Validation Acc 61.91 %\n",
      "Epoch:100/200 AVG Training Loss:0.640 AVG Validation Loss:0.659 AVG Training Acc 63.49 % AVG Validation Acc 62.18 %\n",
      "Epoch:110/200 AVG Training Loss:0.639 AVG Validation Loss:0.661 AVG Training Acc 63.30 % AVG Validation Acc 62.09 %\n",
      "Epoch   119: reducing learning rate of group 0 to 1.0000e-05.\n",
      "Epoch:120/200 AVG Training Loss:0.640 AVG Validation Loss:0.662 AVG Training Acc 63.50 % AVG Validation Acc 62.36 %\n",
      "Epoch:130/200 AVG Training Loss:0.641 AVG Validation Loss:0.661 AVG Training Acc 63.18 % AVG Validation Acc 61.91 %\n",
      "Epoch:140/200 AVG Training Loss:0.640 AVG Validation Loss:0.661 AVG Training Acc 63.06 % AVG Validation Acc 62.09 %\n",
      "Epoch:150/200 AVG Training Loss:0.639 AVG Validation Loss:0.660 AVG Training Acc 63.39 % AVG Validation Acc 62.36 %\n",
      "Epoch   150: reducing learning rate of group 0 to 1.0000e-06.\n",
      "Epoch:160/200 AVG Training Loss:0.640 AVG Validation Loss:0.659 AVG Training Acc 63.32 % AVG Validation Acc 62.64 %\n",
      "Epoch:170/200 AVG Training Loss:0.640 AVG Validation Loss:0.660 AVG Training Acc 63.10 % AVG Validation Acc 62.27 %\n",
      "Epoch:180/200 AVG Training Loss:0.639 AVG Validation Loss:0.660 AVG Training Acc 63.21 % AVG Validation Acc 62.18 %\n",
      "Epoch   181: reducing learning rate of group 0 to 1.0000e-07.\n",
      "Epoch:190/200 AVG Training Loss:0.641 AVG Validation Loss:0.660 AVG Training Acc 63.22 % AVG Validation Acc 62.27 %\n",
      "New Best Accuracy found: 63.18%\n",
      "Epoch: 198\n",
      "Epoch:200/200 AVG Training Loss:0.640 AVG Validation Loss:0.660 AVG Training Acc 63.28 % AVG Validation Acc 62.55 %\n",
      "Split 160\n"
     ]
    },
    {
     "data": {
      "application/vnd.jupyter.widget-view+json": {
       "model_id": "56a1fab2bdd9415facf95f0c7eeabe6b",
       "version_major": 2,
       "version_minor": 0
      },
      "text/plain": [
       "  0%|          | 0/200 [00:00<?, ?it/s]"
      ]
     },
     "metadata": {},
     "output_type": "display_data"
    },
    {
     "name": "stdout",
     "output_type": "stream",
     "text": [
      "Epoch:10/200 AVG Training Loss:0.665 AVG Validation Loss:0.662 AVG Training Acc 61.90 % AVG Validation Acc 61.91 %\n",
      "Epoch:20/200 AVG Training Loss:0.661 AVG Validation Loss:0.658 AVG Training Acc 61.82 % AVG Validation Acc 61.55 %\n",
      "Epoch:30/200 AVG Training Loss:0.659 AVG Validation Loss:0.657 AVG Training Acc 61.98 % AVG Validation Acc 61.73 %\n",
      "Epoch    32: reducing learning rate of group 0 to 1.0000e-03.\n",
      "Epoch:40/200 AVG Training Loss:0.654 AVG Validation Loss:0.655 AVG Training Acc 62.24 % AVG Validation Acc 61.73 %\n",
      "Epoch:50/200 AVG Training Loss:0.653 AVG Validation Loss:0.657 AVG Training Acc 62.32 % AVG Validation Acc 61.55 %\n",
      "Epoch:60/200 AVG Training Loss:0.649 AVG Validation Loss:0.659 AVG Training Acc 62.47 % AVG Validation Acc 61.28 %\n",
      "Epoch    63: reducing learning rate of group 0 to 1.0000e-04.\n",
      "Epoch:70/200 AVG Training Loss:0.648 AVG Validation Loss:0.660 AVG Training Acc 62.31 % AVG Validation Acc 61.19 %\n",
      "Epoch:80/200 AVG Training Loss:0.648 AVG Validation Loss:0.660 AVG Training Acc 62.46 % AVG Validation Acc 61.19 %\n",
      "Epoch:90/200 AVG Training Loss:0.648 AVG Validation Loss:0.660 AVG Training Acc 62.55 % AVG Validation Acc 61.19 %\n",
      "Epoch    94: reducing learning rate of group 0 to 1.0000e-05.\n",
      "Epoch:100/200 AVG Training Loss:0.647 AVG Validation Loss:0.660 AVG Training Acc 62.54 % AVG Validation Acc 61.19 %\n",
      "Epoch:110/200 AVG Training Loss:0.649 AVG Validation Loss:0.661 AVG Training Acc 62.51 % AVG Validation Acc 61.28 %\n",
      "Epoch:120/200 AVG Training Loss:0.648 AVG Validation Loss:0.661 AVG Training Acc 62.50 % AVG Validation Acc 61.19 %\n",
      "Epoch   125: reducing learning rate of group 0 to 1.0000e-06.\n",
      "Epoch:130/200 AVG Training Loss:0.648 AVG Validation Loss:0.661 AVG Training Acc 62.48 % AVG Validation Acc 61.19 %\n",
      "Epoch:140/200 AVG Training Loss:0.648 AVG Validation Loss:0.660 AVG Training Acc 62.42 % AVG Validation Acc 61.10 %\n",
      "Epoch:150/200 AVG Training Loss:0.647 AVG Validation Loss:0.661 AVG Training Acc 62.59 % AVG Validation Acc 61.10 %\n",
      "Epoch   156: reducing learning rate of group 0 to 1.0000e-07.\n",
      "Epoch:160/200 AVG Training Loss:0.648 AVG Validation Loss:0.660 AVG Training Acc 62.37 % AVG Validation Acc 61.19 %\n",
      "Epoch:170/200 AVG Training Loss:0.649 AVG Validation Loss:0.660 AVG Training Acc 62.45 % AVG Validation Acc 61.19 %\n",
      "Epoch:180/200 AVG Training Loss:0.648 AVG Validation Loss:0.660 AVG Training Acc 62.52 % AVG Validation Acc 61.19 %\n",
      "Epoch   187: reducing learning rate of group 0 to 1.0000e-08.\n",
      "Epoch:190/200 AVG Training Loss:0.648 AVG Validation Loss:0.661 AVG Training Acc 62.51 % AVG Validation Acc 61.19 %\n",
      "Epoch:200/200 AVG Training Loss:0.649 AVG Validation Loss:0.660 AVG Training Acc 62.48 % AVG Validation Acc 61.19 %\n",
      "Split 161\n"
     ]
    },
    {
     "data": {
      "application/vnd.jupyter.widget-view+json": {
       "model_id": "d1e370a9d34f42278acd5f04d42104c9",
       "version_major": 2,
       "version_minor": 0
      },
      "text/plain": [
       "  0%|          | 0/200 [00:00<?, ?it/s]"
      ]
     },
     "metadata": {},
     "output_type": "display_data"
    },
    {
     "name": "stdout",
     "output_type": "stream",
     "text": [
      "Epoch:10/200 AVG Training Loss:0.664 AVG Validation Loss:0.664 AVG Training Acc 61.88 % AVG Validation Acc 61.95 %\n",
      "Epoch:20/200 AVG Training Loss:0.663 AVG Validation Loss:0.662 AVG Training Acc 61.89 % AVG Validation Acc 62.04 %\n",
      "Epoch:30/200 AVG Training Loss:0.659 AVG Validation Loss:0.661 AVG Training Acc 61.96 % AVG Validation Acc 62.13 %\n",
      "Epoch:40/200 AVG Training Loss:0.658 AVG Validation Loss:0.663 AVG Training Acc 62.04 % AVG Validation Acc 62.04 %\n",
      "Epoch:50/200 AVG Training Loss:0.655 AVG Validation Loss:0.669 AVG Training Acc 62.01 % AVG Validation Acc 61.86 %\n",
      "Epoch    50: reducing learning rate of group 0 to 1.0000e-03.\n",
      "Epoch:60/200 AVG Training Loss:0.649 AVG Validation Loss:0.689 AVG Training Acc 62.24 % AVG Validation Acc 61.41 %\n",
      "Epoch:70/200 AVG Training Loss:0.647 AVG Validation Loss:0.698 AVG Training Acc 62.32 % AVG Validation Acc 61.32 %\n",
      "Epoch:80/200 AVG Training Loss:0.644 AVG Validation Loss:0.704 AVG Training Acc 62.48 % AVG Validation Acc 61.14 %\n",
      "Epoch    81: reducing learning rate of group 0 to 1.0000e-04.\n",
      "Epoch:90/200 AVG Training Loss:0.643 AVG Validation Loss:0.704 AVG Training Acc 62.40 % AVG Validation Acc 61.05 %\n",
      "Epoch:100/200 AVG Training Loss:0.642 AVG Validation Loss:0.707 AVG Training Acc 62.35 % AVG Validation Acc 61.05 %\n",
      "Epoch:110/200 AVG Training Loss:0.643 AVG Validation Loss:0.708 AVG Training Acc 62.42 % AVG Validation Acc 61.05 %\n",
      "Epoch   112: reducing learning rate of group 0 to 1.0000e-05.\n",
      "Epoch:120/200 AVG Training Loss:0.641 AVG Validation Loss:0.709 AVG Training Acc 62.46 % AVG Validation Acc 61.05 %\n",
      "Epoch:130/200 AVG Training Loss:0.641 AVG Validation Loss:0.711 AVG Training Acc 62.54 % AVG Validation Acc 61.05 %\n",
      "Epoch:140/200 AVG Training Loss:0.642 AVG Validation Loss:0.709 AVG Training Acc 62.49 % AVG Validation Acc 61.05 %\n",
      "Epoch   143: reducing learning rate of group 0 to 1.0000e-06.\n",
      "Epoch:150/200 AVG Training Loss:0.643 AVG Validation Loss:0.709 AVG Training Acc 62.46 % AVG Validation Acc 61.05 %\n",
      "Epoch:160/200 AVG Training Loss:0.641 AVG Validation Loss:0.709 AVG Training Acc 62.49 % AVG Validation Acc 61.05 %\n",
      "Epoch:170/200 AVG Training Loss:0.641 AVG Validation Loss:0.710 AVG Training Acc 62.48 % AVG Validation Acc 61.05 %\n",
      "Epoch   174: reducing learning rate of group 0 to 1.0000e-07.\n",
      "Epoch:180/200 AVG Training Loss:0.642 AVG Validation Loss:0.711 AVG Training Acc 62.39 % AVG Validation Acc 61.05 %\n",
      "Epoch:190/200 AVG Training Loss:0.643 AVG Validation Loss:0.711 AVG Training Acc 62.41 % AVG Validation Acc 61.05 %\n",
      "Epoch:200/200 AVG Training Loss:0.643 AVG Validation Loss:0.712 AVG Training Acc 62.38 % AVG Validation Acc 61.05 %\n",
      "Split 162\n"
     ]
    },
    {
     "data": {
      "application/vnd.jupyter.widget-view+json": {
       "model_id": "bc43fca1a120476d9cb55343f429e299",
       "version_major": 2,
       "version_minor": 0
      },
      "text/plain": [
       "  0%|          | 0/200 [00:00<?, ?it/s]"
      ]
     },
     "metadata": {},
     "output_type": "display_data"
    },
    {
     "name": "stdout",
     "output_type": "stream",
     "text": [
      "Epoch:10/200 AVG Training Loss:0.664 AVG Validation Loss:0.666 AVG Training Acc 61.91 % AVG Validation Acc 61.86 %\n",
      "Epoch:20/200 AVG Training Loss:0.661 AVG Validation Loss:0.663 AVG Training Acc 61.99 % AVG Validation Acc 61.86 %\n",
      "Epoch:30/200 AVG Training Loss:0.659 AVG Validation Loss:0.664 AVG Training Acc 61.91 % AVG Validation Acc 61.86 %\n",
      "Epoch    33: reducing learning rate of group 0 to 1.0000e-03.\n",
      "Epoch:40/200 AVG Training Loss:0.656 AVG Validation Loss:0.665 AVG Training Acc 61.97 % AVG Validation Acc 61.86 %\n",
      "Epoch:50/200 AVG Training Loss:0.655 AVG Validation Loss:0.666 AVG Training Acc 62.05 % AVG Validation Acc 61.77 %\n",
      "Epoch:60/200 AVG Training Loss:0.654 AVG Validation Loss:0.667 AVG Training Acc 62.02 % AVG Validation Acc 61.77 %\n",
      "Epoch    64: reducing learning rate of group 0 to 1.0000e-04.\n",
      "Epoch:70/200 AVG Training Loss:0.652 AVG Validation Loss:0.667 AVG Training Acc 62.02 % AVG Validation Acc 61.68 %\n",
      "Epoch:80/200 AVG Training Loss:0.650 AVG Validation Loss:0.668 AVG Training Acc 62.15 % AVG Validation Acc 61.68 %\n",
      "Epoch:90/200 AVG Training Loss:0.651 AVG Validation Loss:0.669 AVG Training Acc 62.14 % AVG Validation Acc 61.68 %\n",
      "Epoch    95: reducing learning rate of group 0 to 1.0000e-05.\n",
      "Epoch:100/200 AVG Training Loss:0.651 AVG Validation Loss:0.668 AVG Training Acc 62.05 % AVG Validation Acc 61.68 %\n",
      "Epoch:110/200 AVG Training Loss:0.651 AVG Validation Loss:0.669 AVG Training Acc 62.09 % AVG Validation Acc 61.68 %\n",
      "Epoch:120/200 AVG Training Loss:0.650 AVG Validation Loss:0.669 AVG Training Acc 62.02 % AVG Validation Acc 61.68 %\n",
      "Epoch   126: reducing learning rate of group 0 to 1.0000e-06.\n",
      "Epoch:130/200 AVG Training Loss:0.651 AVG Validation Loss:0.669 AVG Training Acc 62.04 % AVG Validation Acc 61.68 %\n",
      "Epoch:140/200 AVG Training Loss:0.651 AVG Validation Loss:0.669 AVG Training Acc 62.06 % AVG Validation Acc 61.68 %\n",
      "Epoch:150/200 AVG Training Loss:0.651 AVG Validation Loss:0.669 AVG Training Acc 62.09 % AVG Validation Acc 61.68 %\n",
      "Epoch   157: reducing learning rate of group 0 to 1.0000e-07.\n",
      "Epoch:160/200 AVG Training Loss:0.650 AVG Validation Loss:0.669 AVG Training Acc 62.08 % AVG Validation Acc 61.68 %\n",
      "Epoch:170/200 AVG Training Loss:0.650 AVG Validation Loss:0.669 AVG Training Acc 62.05 % AVG Validation Acc 61.68 %\n",
      "Epoch:180/200 AVG Training Loss:0.650 AVG Validation Loss:0.669 AVG Training Acc 62.05 % AVG Validation Acc 61.68 %\n",
      "Epoch   188: reducing learning rate of group 0 to 1.0000e-08.\n",
      "Epoch:190/200 AVG Training Loss:0.651 AVG Validation Loss:0.669 AVG Training Acc 62.05 % AVG Validation Acc 61.68 %\n",
      "Epoch:200/200 AVG Training Loss:0.650 AVG Validation Loss:0.669 AVG Training Acc 62.06 % AVG Validation Acc 61.68 %\n",
      "Split 163\n"
     ]
    },
    {
     "data": {
      "application/vnd.jupyter.widget-view+json": {
       "model_id": "a2a6ed00485042d69bdbf4326266b919",
       "version_major": 2,
       "version_minor": 0
      },
      "text/plain": [
       "  0%|          | 0/200 [00:00<?, ?it/s]"
      ]
     },
     "metadata": {},
     "output_type": "display_data"
    },
    {
     "name": "stdout",
     "output_type": "stream",
     "text": [
      "Epoch:10/200 AVG Training Loss:0.664 AVG Validation Loss:0.664 AVG Training Acc 61.89 % AVG Validation Acc 61.86 %\n",
      "Epoch:20/200 AVG Training Loss:0.660 AVG Validation Loss:0.661 AVG Training Acc 61.89 % AVG Validation Acc 61.86 %\n",
      "Epoch:30/200 AVG Training Loss:0.658 AVG Validation Loss:0.661 AVG Training Acc 61.89 % AVG Validation Acc 61.86 %\n",
      "Epoch    32: reducing learning rate of group 0 to 1.0000e-03.\n",
      "Epoch:40/200 AVG Training Loss:0.653 AVG Validation Loss:0.661 AVG Training Acc 62.03 % AVG Validation Acc 62.13 %\n",
      "New Best Accuracy found: 63.30%\n",
      "Epoch: 44\n",
      "Epoch:50/200 AVG Training Loss:0.650 AVG Validation Loss:0.662 AVG Training Acc 62.52 % AVG Validation Acc 63.03 %\n",
      "New Best Accuracy found: 63.39%\n",
      "Epoch: 57\n",
      "Epoch:60/200 AVG Training Loss:0.649 AVG Validation Loss:0.662 AVG Training Acc 62.73 % AVG Validation Acc 62.76 %\n",
      "Epoch    63: reducing learning rate of group 0 to 1.0000e-04.\n",
      "Epoch:70/200 AVG Training Loss:0.646 AVG Validation Loss:0.661 AVG Training Acc 62.89 % AVG Validation Acc 63.39 %\n",
      "Epoch:80/200 AVG Training Loss:0.646 AVG Validation Loss:0.660 AVG Training Acc 62.99 % AVG Validation Acc 63.30 %\n",
      "Epoch:90/200 AVG Training Loss:0.646 AVG Validation Loss:0.660 AVG Training Acc 62.88 % AVG Validation Acc 62.67 %\n",
      "Epoch    94: reducing learning rate of group 0 to 1.0000e-05.\n",
      "Epoch:100/200 AVG Training Loss:0.646 AVG Validation Loss:0.662 AVG Training Acc 62.95 % AVG Validation Acc 63.12 %\n",
      "Epoch:110/200 AVG Training Loss:0.646 AVG Validation Loss:0.661 AVG Training Acc 62.64 % AVG Validation Acc 62.76 %\n",
      "Epoch:120/200 AVG Training Loss:0.646 AVG Validation Loss:0.663 AVG Training Acc 62.67 % AVG Validation Acc 62.76 %\n",
      "Epoch   125: reducing learning rate of group 0 to 1.0000e-06.\n",
      "Epoch:130/200 AVG Training Loss:0.647 AVG Validation Loss:0.661 AVG Training Acc 62.79 % AVG Validation Acc 62.85 %\n",
      "Epoch:140/200 AVG Training Loss:0.646 AVG Validation Loss:0.662 AVG Training Acc 62.83 % AVG Validation Acc 62.76 %\n",
      "Epoch:150/200 AVG Training Loss:0.647 AVG Validation Loss:0.660 AVG Training Acc 62.74 % AVG Validation Acc 63.12 %\n",
      "Epoch   156: reducing learning rate of group 0 to 1.0000e-07.\n",
      "Epoch:160/200 AVG Training Loss:0.647 AVG Validation Loss:0.662 AVG Training Acc 62.94 % AVG Validation Acc 63.12 %\n",
      "Epoch:170/200 AVG Training Loss:0.646 AVG Validation Loss:0.663 AVG Training Acc 63.00 % AVG Validation Acc 62.49 %\n",
      "New Best Accuracy found: 63.48%\n",
      "Epoch: 175\n",
      "Epoch:180/200 AVG Training Loss:0.646 AVG Validation Loss:0.662 AVG Training Acc 62.78 % AVG Validation Acc 62.40 %\n",
      "Epoch   187: reducing learning rate of group 0 to 1.0000e-08.\n",
      "Epoch:190/200 AVG Training Loss:0.645 AVG Validation Loss:0.662 AVG Training Acc 62.95 % AVG Validation Acc 62.67 %\n",
      "Epoch:200/200 AVG Training Loss:0.646 AVG Validation Loss:0.661 AVG Training Acc 63.00 % AVG Validation Acc 62.85 %\n",
      "Split 164\n"
     ]
    },
    {
     "data": {
      "application/vnd.jupyter.widget-view+json": {
       "model_id": "58bffc245fc6432da26509a41c830701",
       "version_major": 2,
       "version_minor": 0
      },
      "text/plain": [
       "  0%|          | 0/200 [00:00<?, ?it/s]"
      ]
     },
     "metadata": {},
     "output_type": "display_data"
    },
    {
     "name": "stdout",
     "output_type": "stream",
     "text": [
      "Epoch:10/200 AVG Training Loss:0.664 AVG Validation Loss:0.665 AVG Training Acc 61.88 % AVG Validation Acc 61.86 %\n",
      "Epoch:20/200 AVG Training Loss:0.663 AVG Validation Loss:0.663 AVG Training Acc 61.89 % AVG Validation Acc 61.86 %\n",
      "Epoch:30/200 AVG Training Loss:0.660 AVG Validation Loss:0.662 AVG Training Acc 61.96 % AVG Validation Acc 61.86 %\n",
      "Epoch:40/200 AVG Training Loss:0.656 AVG Validation Loss:0.665 AVG Training Acc 62.01 % AVG Validation Acc 61.77 %\n",
      "Epoch:50/200 AVG Training Loss:0.656 AVG Validation Loss:0.661 AVG Training Acc 61.82 % AVG Validation Acc 61.86 %\n",
      "Epoch:60/200 AVG Training Loss:0.655 AVG Validation Loss:0.661 AVG Training Acc 62.03 % AVG Validation Acc 61.68 %\n",
      "Epoch    67: reducing learning rate of group 0 to 1.0000e-03.\n",
      "Epoch:70/200 AVG Training Loss:0.656 AVG Validation Loss:0.664 AVG Training Acc 61.83 % AVG Validation Acc 62.04 %\n",
      "Epoch:80/200 AVG Training Loss:0.649 AVG Validation Loss:0.666 AVG Training Acc 61.99 % AVG Validation Acc 61.86 %\n",
      "Epoch:90/200 AVG Training Loss:0.644 AVG Validation Loss:0.670 AVG Training Acc 62.55 % AVG Validation Acc 61.50 %\n",
      "Epoch    98: reducing learning rate of group 0 to 1.0000e-04.\n",
      "Epoch:100/200 AVG Training Loss:0.642 AVG Validation Loss:0.672 AVG Training Acc 62.59 % AVG Validation Acc 61.77 %\n",
      "Epoch:110/200 AVG Training Loss:0.641 AVG Validation Loss:0.674 AVG Training Acc 62.93 % AVG Validation Acc 62.31 %\n",
      "Epoch:120/200 AVG Training Loss:0.641 AVG Validation Loss:0.674 AVG Training Acc 62.87 % AVG Validation Acc 61.77 %\n",
      "Epoch   129: reducing learning rate of group 0 to 1.0000e-05.\n",
      "Epoch:130/200 AVG Training Loss:0.641 AVG Validation Loss:0.674 AVG Training Acc 63.05 % AVG Validation Acc 62.22 %\n",
      "Epoch:140/200 AVG Training Loss:0.640 AVG Validation Loss:0.673 AVG Training Acc 62.80 % AVG Validation Acc 61.68 %\n",
      "Epoch:150/200 AVG Training Loss:0.640 AVG Validation Loss:0.674 AVG Training Acc 62.71 % AVG Validation Acc 61.68 %\n",
      "Epoch:160/200 AVG Training Loss:0.639 AVG Validation Loss:0.674 AVG Training Acc 62.87 % AVG Validation Acc 62.04 %\n",
      "Epoch   160: reducing learning rate of group 0 to 1.0000e-06.\n",
      "Epoch:170/200 AVG Training Loss:0.640 AVG Validation Loss:0.678 AVG Training Acc 62.95 % AVG Validation Acc 62.13 %\n",
      "Epoch:180/200 AVG Training Loss:0.640 AVG Validation Loss:0.675 AVG Training Acc 62.93 % AVG Validation Acc 61.86 %\n",
      "Epoch:190/200 AVG Training Loss:0.640 AVG Validation Loss:0.678 AVG Training Acc 62.82 % AVG Validation Acc 61.68 %\n",
      "Epoch   191: reducing learning rate of group 0 to 1.0000e-07.\n",
      "Epoch:200/200 AVG Training Loss:0.641 AVG Validation Loss:0.675 AVG Training Acc 63.09 % AVG Validation Acc 62.04 %\n",
      "Split 165\n"
     ]
    },
    {
     "data": {
      "application/vnd.jupyter.widget-view+json": {
       "model_id": "def1a444aeee4e6ab710c352b909d79f",
       "version_major": 2,
       "version_minor": 0
      },
      "text/plain": [
       "  0%|          | 0/200 [00:00<?, ?it/s]"
      ]
     },
     "metadata": {},
     "output_type": "display_data"
    },
    {
     "name": "stdout",
     "output_type": "stream",
     "text": [
      "Epoch:10/200 AVG Training Loss:0.664 AVG Validation Loss:0.665 AVG Training Acc 61.89 % AVG Validation Acc 61.86 %\n",
      "Epoch:20/200 AVG Training Loss:0.661 AVG Validation Loss:0.658 AVG Training Acc 61.90 % AVG Validation Acc 61.95 %\n",
      "Epoch:30/200 AVG Training Loss:0.660 AVG Validation Loss:0.657 AVG Training Acc 61.94 % AVG Validation Acc 61.86 %\n",
      "Epoch:40/200 AVG Training Loss:0.661 AVG Validation Loss:0.659 AVG Training Acc 61.84 % AVG Validation Acc 61.86 %\n",
      "Epoch    45: reducing learning rate of group 0 to 1.0000e-03.\n",
      "Epoch:50/200 AVG Training Loss:0.656 AVG Validation Loss:0.660 AVG Training Acc 61.97 % AVG Validation Acc 61.95 %\n",
      "Epoch:60/200 AVG Training Loss:0.654 AVG Validation Loss:0.665 AVG Training Acc 61.98 % AVG Validation Acc 61.95 %\n",
      "Epoch:70/200 AVG Training Loss:0.652 AVG Validation Loss:0.668 AVG Training Acc 62.00 % AVG Validation Acc 61.95 %\n",
      "Epoch    76: reducing learning rate of group 0 to 1.0000e-04.\n",
      "Epoch:80/200 AVG Training Loss:0.650 AVG Validation Loss:0.669 AVG Training Acc 62.18 % AVG Validation Acc 61.95 %\n",
      "Epoch:90/200 AVG Training Loss:0.651 AVG Validation Loss:0.668 AVG Training Acc 61.98 % AVG Validation Acc 61.95 %\n",
      "Epoch:100/200 AVG Training Loss:0.650 AVG Validation Loss:0.674 AVG Training Acc 62.09 % AVG Validation Acc 61.95 %\n",
      "Epoch   107: reducing learning rate of group 0 to 1.0000e-05.\n",
      "Epoch:110/200 AVG Training Loss:0.649 AVG Validation Loss:0.673 AVG Training Acc 62.10 % AVG Validation Acc 61.95 %\n",
      "Epoch:120/200 AVG Training Loss:0.649 AVG Validation Loss:0.674 AVG Training Acc 62.10 % AVG Validation Acc 61.95 %\n",
      "Epoch:130/200 AVG Training Loss:0.649 AVG Validation Loss:0.675 AVG Training Acc 62.11 % AVG Validation Acc 61.95 %\n",
      "Epoch   138: reducing learning rate of group 0 to 1.0000e-06.\n",
      "Epoch:140/200 AVG Training Loss:0.649 AVG Validation Loss:0.674 AVG Training Acc 62.02 % AVG Validation Acc 61.95 %\n",
      "Epoch:150/200 AVG Training Loss:0.649 AVG Validation Loss:0.674 AVG Training Acc 62.08 % AVG Validation Acc 61.95 %\n",
      "Epoch:160/200 AVG Training Loss:0.649 AVG Validation Loss:0.675 AVG Training Acc 62.05 % AVG Validation Acc 61.95 %\n",
      "Epoch   169: reducing learning rate of group 0 to 1.0000e-07.\n",
      "Epoch:170/200 AVG Training Loss:0.649 AVG Validation Loss:0.675 AVG Training Acc 62.03 % AVG Validation Acc 61.95 %\n",
      "Epoch:180/200 AVG Training Loss:0.650 AVG Validation Loss:0.675 AVG Training Acc 62.00 % AVG Validation Acc 61.95 %\n",
      "Epoch:190/200 AVG Training Loss:0.650 AVG Validation Loss:0.675 AVG Training Acc 62.03 % AVG Validation Acc 61.95 %\n",
      "Epoch:200/200 AVG Training Loss:0.649 AVG Validation Loss:0.674 AVG Training Acc 62.08 % AVG Validation Acc 61.95 %\n",
      "Epoch   200: reducing learning rate of group 0 to 1.0000e-08.\n",
      "Split 166\n"
     ]
    },
    {
     "data": {
      "application/vnd.jupyter.widget-view+json": {
       "model_id": "7ff7d1da62cf44b0a5d1dfa76081178f",
       "version_major": 2,
       "version_minor": 0
      },
      "text/plain": [
       "  0%|          | 0/200 [00:00<?, ?it/s]"
      ]
     },
     "metadata": {},
     "output_type": "display_data"
    },
    {
     "name": "stdout",
     "output_type": "stream",
     "text": [
      "Epoch:10/200 AVG Training Loss:0.665 AVG Validation Loss:0.662 AVG Training Acc 61.89 % AVG Validation Acc 61.91 %\n",
      "Epoch:20/200 AVG Training Loss:0.661 AVG Validation Loss:0.659 AVG Training Acc 61.92 % AVG Validation Acc 61.91 %\n",
      "Epoch:30/200 AVG Training Loss:0.660 AVG Validation Loss:0.659 AVG Training Acc 61.92 % AVG Validation Acc 61.91 %\n",
      "Epoch    36: reducing learning rate of group 0 to 1.0000e-03.\n",
      "Epoch:40/200 AVG Training Loss:0.658 AVG Validation Loss:0.657 AVG Training Acc 61.98 % AVG Validation Acc 62.00 %\n",
      "Epoch:50/200 AVG Training Loss:0.658 AVG Validation Loss:0.656 AVG Training Acc 61.97 % AVG Validation Acc 62.00 %\n",
      "Epoch:60/200 AVG Training Loss:0.656 AVG Validation Loss:0.657 AVG Training Acc 62.06 % AVG Validation Acc 62.00 %\n",
      "Epoch    67: reducing learning rate of group 0 to 1.0000e-04.\n",
      "Epoch:70/200 AVG Training Loss:0.655 AVG Validation Loss:0.658 AVG Training Acc 62.00 % AVG Validation Acc 62.00 %\n",
      "Epoch:80/200 AVG Training Loss:0.655 AVG Validation Loss:0.659 AVG Training Acc 62.04 % AVG Validation Acc 62.00 %\n",
      "Epoch:90/200 AVG Training Loss:0.655 AVG Validation Loss:0.658 AVG Training Acc 62.02 % AVG Validation Acc 62.00 %\n",
      "Epoch    98: reducing learning rate of group 0 to 1.0000e-05.\n",
      "Epoch:100/200 AVG Training Loss:0.654 AVG Validation Loss:0.659 AVG Training Acc 62.05 % AVG Validation Acc 62.09 %\n",
      "Epoch:110/200 AVG Training Loss:0.655 AVG Validation Loss:0.659 AVG Training Acc 62.04 % AVG Validation Acc 62.00 %\n",
      "Epoch:120/200 AVG Training Loss:0.655 AVG Validation Loss:0.659 AVG Training Acc 62.02 % AVG Validation Acc 62.09 %\n",
      "Epoch   129: reducing learning rate of group 0 to 1.0000e-06.\n",
      "Epoch:130/200 AVG Training Loss:0.655 AVG Validation Loss:0.659 AVG Training Acc 62.08 % AVG Validation Acc 62.09 %\n",
      "Epoch:140/200 AVG Training Loss:0.655 AVG Validation Loss:0.658 AVG Training Acc 62.04 % AVG Validation Acc 62.09 %\n",
      "Epoch:150/200 AVG Training Loss:0.654 AVG Validation Loss:0.659 AVG Training Acc 62.14 % AVG Validation Acc 62.09 %\n",
      "Epoch:160/200 AVG Training Loss:0.654 AVG Validation Loss:0.659 AVG Training Acc 62.08 % AVG Validation Acc 62.09 %\n",
      "Epoch   160: reducing learning rate of group 0 to 1.0000e-07.\n",
      "Epoch:170/200 AVG Training Loss:0.654 AVG Validation Loss:0.658 AVG Training Acc 62.15 % AVG Validation Acc 62.09 %\n",
      "Epoch:180/200 AVG Training Loss:0.654 AVG Validation Loss:0.660 AVG Training Acc 62.13 % AVG Validation Acc 62.09 %\n",
      "Epoch:190/200 AVG Training Loss:0.654 AVG Validation Loss:0.658 AVG Training Acc 62.10 % AVG Validation Acc 62.09 %\n",
      "Epoch   191: reducing learning rate of group 0 to 1.0000e-08.\n",
      "Epoch:200/200 AVG Training Loss:0.655 AVG Validation Loss:0.659 AVG Training Acc 62.04 % AVG Validation Acc 62.09 %\n",
      "Split 167\n"
     ]
    },
    {
     "data": {
      "application/vnd.jupyter.widget-view+json": {
       "model_id": "a50014346f944f84ad74f96c77f206a5",
       "version_major": 2,
       "version_minor": 0
      },
      "text/plain": [
       "  0%|          | 0/200 [00:00<?, ?it/s]"
      ]
     },
     "metadata": {},
     "output_type": "display_data"
    },
    {
     "name": "stdout",
     "output_type": "stream",
     "text": [
      "Epoch:10/200 AVG Training Loss:0.661 AVG Validation Loss:0.663 AVG Training Acc 61.81 % AVG Validation Acc 61.91 %\n",
      "Epoch:20/200 AVG Training Loss:0.660 AVG Validation Loss:0.660 AVG Training Acc 61.94 % AVG Validation Acc 62.00 %\n",
      "Epoch:30/200 AVG Training Loss:0.659 AVG Validation Loss:0.662 AVG Training Acc 61.86 % AVG Validation Acc 61.91 %\n",
      "Epoch    31: reducing learning rate of group 0 to 1.0000e-03.\n",
      "Epoch:40/200 AVG Training Loss:0.654 AVG Validation Loss:0.663 AVG Training Acc 61.88 % AVG Validation Acc 61.82 %\n",
      "Epoch:50/200 AVG Training Loss:0.652 AVG Validation Loss:0.665 AVG Training Acc 61.92 % AVG Validation Acc 62.00 %\n",
      "Epoch:60/200 AVG Training Loss:0.651 AVG Validation Loss:0.667 AVG Training Acc 62.08 % AVG Validation Acc 62.09 %\n",
      "Epoch    62: reducing learning rate of group 0 to 1.0000e-04.\n",
      "Epoch:70/200 AVG Training Loss:0.649 AVG Validation Loss:0.669 AVG Training Acc 62.04 % AVG Validation Acc 62.09 %\n",
      "Epoch:80/200 AVG Training Loss:0.649 AVG Validation Loss:0.667 AVG Training Acc 62.00 % AVG Validation Acc 62.09 %\n",
      "Epoch:90/200 AVG Training Loss:0.648 AVG Validation Loss:0.669 AVG Training Acc 62.05 % AVG Validation Acc 62.09 %\n",
      "Epoch    93: reducing learning rate of group 0 to 1.0000e-05.\n",
      "Epoch:100/200 AVG Training Loss:0.648 AVG Validation Loss:0.668 AVG Training Acc 62.00 % AVG Validation Acc 62.09 %\n",
      "Epoch:110/200 AVG Training Loss:0.648 AVG Validation Loss:0.669 AVG Training Acc 62.01 % AVG Validation Acc 62.09 %\n",
      "Epoch:120/200 AVG Training Loss:0.648 AVG Validation Loss:0.669 AVG Training Acc 61.99 % AVG Validation Acc 62.09 %\n",
      "Epoch   124: reducing learning rate of group 0 to 1.0000e-06.\n",
      "Epoch:130/200 AVG Training Loss:0.648 AVG Validation Loss:0.668 AVG Training Acc 61.98 % AVG Validation Acc 62.09 %\n",
      "Epoch:140/200 AVG Training Loss:0.647 AVG Validation Loss:0.669 AVG Training Acc 62.09 % AVG Validation Acc 62.09 %\n",
      "Epoch:150/200 AVG Training Loss:0.647 AVG Validation Loss:0.669 AVG Training Acc 62.01 % AVG Validation Acc 62.09 %\n",
      "Epoch   155: reducing learning rate of group 0 to 1.0000e-07.\n",
      "Epoch:160/200 AVG Training Loss:0.648 AVG Validation Loss:0.670 AVG Training Acc 62.05 % AVG Validation Acc 62.09 %\n",
      "Epoch:170/200 AVG Training Loss:0.648 AVG Validation Loss:0.669 AVG Training Acc 62.09 % AVG Validation Acc 62.09 %\n",
      "Epoch:180/200 AVG Training Loss:0.647 AVG Validation Loss:0.669 AVG Training Acc 62.07 % AVG Validation Acc 62.09 %\n",
      "Epoch   186: reducing learning rate of group 0 to 1.0000e-08.\n",
      "Epoch:190/200 AVG Training Loss:0.647 AVG Validation Loss:0.669 AVG Training Acc 62.04 % AVG Validation Acc 62.09 %\n",
      "Epoch:200/200 AVG Training Loss:0.648 AVG Validation Loss:0.669 AVG Training Acc 62.06 % AVG Validation Acc 62.09 %\n",
      "Split 168\n"
     ]
    },
    {
     "data": {
      "application/vnd.jupyter.widget-view+json": {
       "model_id": "49151237d1de43e086a122855f9277b0",
       "version_major": 2,
       "version_minor": 0
      },
      "text/plain": [
       "  0%|          | 0/200 [00:00<?, ?it/s]"
      ]
     },
     "metadata": {},
     "output_type": "display_data"
    },
    {
     "name": "stdout",
     "output_type": "stream",
     "text": [
      "Epoch:10/200 AVG Training Loss:0.665 AVG Validation Loss:0.665 AVG Training Acc 61.86 % AVG Validation Acc 61.91 %\n",
      "Epoch:20/200 AVG Training Loss:0.661 AVG Validation Loss:0.659 AVG Training Acc 61.91 % AVG Validation Acc 61.91 %\n",
      "Epoch:30/200 AVG Training Loss:0.660 AVG Validation Loss:0.658 AVG Training Acc 61.93 % AVG Validation Acc 62.00 %\n",
      "Epoch    35: reducing learning rate of group 0 to 1.0000e-03.\n",
      "Epoch:40/200 AVG Training Loss:0.655 AVG Validation Loss:0.659 AVG Training Acc 61.96 % AVG Validation Acc 61.91 %\n",
      "Epoch:50/200 AVG Training Loss:0.653 AVG Validation Loss:0.660 AVG Training Acc 62.16 % AVG Validation Acc 61.91 %\n",
      "Epoch:60/200 AVG Training Loss:0.651 AVG Validation Loss:0.662 AVG Training Acc 62.24 % AVG Validation Acc 61.91 %\n",
      "Epoch    66: reducing learning rate of group 0 to 1.0000e-04.\n",
      "Epoch:70/200 AVG Training Loss:0.649 AVG Validation Loss:0.665 AVG Training Acc 62.26 % AVG Validation Acc 61.73 %\n",
      "Epoch:80/200 AVG Training Loss:0.648 AVG Validation Loss:0.665 AVG Training Acc 62.27 % AVG Validation Acc 61.82 %\n",
      "Epoch:90/200 AVG Training Loss:0.649 AVG Validation Loss:0.665 AVG Training Acc 62.23 % AVG Validation Acc 61.82 %\n",
      "Epoch    97: reducing learning rate of group 0 to 1.0000e-05.\n",
      "Epoch:100/200 AVG Training Loss:0.647 AVG Validation Loss:0.666 AVG Training Acc 62.31 % AVG Validation Acc 61.82 %\n",
      "Epoch:110/200 AVG Training Loss:0.647 AVG Validation Loss:0.666 AVG Training Acc 62.26 % AVG Validation Acc 61.82 %\n",
      "Epoch:120/200 AVG Training Loss:0.649 AVG Validation Loss:0.666 AVG Training Acc 62.29 % AVG Validation Acc 61.82 %\n",
      "Epoch   128: reducing learning rate of group 0 to 1.0000e-06.\n",
      "Epoch:130/200 AVG Training Loss:0.647 AVG Validation Loss:0.667 AVG Training Acc 62.31 % AVG Validation Acc 61.82 %\n",
      "Epoch:140/200 AVG Training Loss:0.647 AVG Validation Loss:0.667 AVG Training Acc 62.37 % AVG Validation Acc 61.82 %\n",
      "Epoch:150/200 AVG Training Loss:0.646 AVG Validation Loss:0.666 AVG Training Acc 62.36 % AVG Validation Acc 61.82 %\n",
      "Epoch   159: reducing learning rate of group 0 to 1.0000e-07.\n",
      "Epoch:160/200 AVG Training Loss:0.647 AVG Validation Loss:0.667 AVG Training Acc 62.33 % AVG Validation Acc 61.82 %\n",
      "Epoch:170/200 AVG Training Loss:0.647 AVG Validation Loss:0.667 AVG Training Acc 62.35 % AVG Validation Acc 61.82 %\n",
      "Epoch:180/200 AVG Training Loss:0.648 AVG Validation Loss:0.667 AVG Training Acc 62.36 % AVG Validation Acc 61.82 %\n",
      "Epoch:190/200 AVG Training Loss:0.648 AVG Validation Loss:0.667 AVG Training Acc 62.31 % AVG Validation Acc 61.82 %\n",
      "Epoch   190: reducing learning rate of group 0 to 1.0000e-08.\n",
      "Epoch:200/200 AVG Training Loss:0.647 AVG Validation Loss:0.667 AVG Training Acc 62.30 % AVG Validation Acc 61.82 %\n",
      "Split 169\n"
     ]
    },
    {
     "data": {
      "application/vnd.jupyter.widget-view+json": {
       "model_id": "1398c7612bfa444c85b67cf6b3cc107c",
       "version_major": 2,
       "version_minor": 0
      },
      "text/plain": [
       "  0%|          | 0/200 [00:00<?, ?it/s]"
      ]
     },
     "metadata": {},
     "output_type": "display_data"
    },
    {
     "name": "stdout",
     "output_type": "stream",
     "text": [
      "Epoch:10/200 AVG Training Loss:0.661 AVG Validation Loss:0.660 AVG Training Acc 61.89 % AVG Validation Acc 61.91 %\n",
      "Epoch    18: reducing learning rate of group 0 to 1.0000e-03.\n",
      "Epoch:20/200 AVG Training Loss:0.658 AVG Validation Loss:0.658 AVG Training Acc 61.93 % AVG Validation Acc 61.91 %\n",
      "Epoch:30/200 AVG Training Loss:0.657 AVG Validation Loss:0.661 AVG Training Acc 62.05 % AVG Validation Acc 61.82 %\n",
      "Epoch:40/200 AVG Training Loss:0.655 AVG Validation Loss:0.661 AVG Training Acc 62.07 % AVG Validation Acc 61.82 %\n",
      "Epoch    49: reducing learning rate of group 0 to 1.0000e-04.\n",
      "Epoch:50/200 AVG Training Loss:0.654 AVG Validation Loss:0.661 AVG Training Acc 62.08 % AVG Validation Acc 61.73 %\n",
      "Epoch:60/200 AVG Training Loss:0.653 AVG Validation Loss:0.661 AVG Training Acc 62.14 % AVG Validation Acc 61.64 %\n",
      "Epoch:70/200 AVG Training Loss:0.653 AVG Validation Loss:0.662 AVG Training Acc 62.14 % AVG Validation Acc 61.64 %\n",
      "Epoch:80/200 AVG Training Loss:0.652 AVG Validation Loss:0.661 AVG Training Acc 62.11 % AVG Validation Acc 61.64 %\n",
      "Epoch    80: reducing learning rate of group 0 to 1.0000e-05.\n",
      "Epoch:90/200 AVG Training Loss:0.653 AVG Validation Loss:0.661 AVG Training Acc 62.12 % AVG Validation Acc 61.73 %\n",
      "Epoch:100/200 AVG Training Loss:0.652 AVG Validation Loss:0.661 AVG Training Acc 62.12 % AVG Validation Acc 61.64 %\n",
      "Epoch:110/200 AVG Training Loss:0.652 AVG Validation Loss:0.661 AVG Training Acc 62.15 % AVG Validation Acc 61.64 %\n",
      "Epoch   111: reducing learning rate of group 0 to 1.0000e-06.\n",
      "Epoch:120/200 AVG Training Loss:0.652 AVG Validation Loss:0.661 AVG Training Acc 62.14 % AVG Validation Acc 61.64 %\n",
      "Epoch:130/200 AVG Training Loss:0.652 AVG Validation Loss:0.661 AVG Training Acc 62.13 % AVG Validation Acc 61.64 %\n",
      "Epoch:140/200 AVG Training Loss:0.653 AVG Validation Loss:0.661 AVG Training Acc 62.18 % AVG Validation Acc 61.64 %\n",
      "Epoch   142: reducing learning rate of group 0 to 1.0000e-07.\n",
      "Epoch:150/200 AVG Training Loss:0.653 AVG Validation Loss:0.661 AVG Training Acc 62.11 % AVG Validation Acc 61.64 %\n",
      "Epoch:160/200 AVG Training Loss:0.652 AVG Validation Loss:0.661 AVG Training Acc 62.21 % AVG Validation Acc 61.64 %\n",
      "Epoch:170/200 AVG Training Loss:0.653 AVG Validation Loss:0.661 AVG Training Acc 62.08 % AVG Validation Acc 61.64 %\n",
      "Epoch   173: reducing learning rate of group 0 to 1.0000e-08.\n",
      "Epoch:180/200 AVG Training Loss:0.652 AVG Validation Loss:0.661 AVG Training Acc 62.13 % AVG Validation Acc 61.73 %\n",
      "Epoch:190/200 AVG Training Loss:0.652 AVG Validation Loss:0.661 AVG Training Acc 62.19 % AVG Validation Acc 61.64 %\n",
      "Epoch:200/200 AVG Training Loss:0.653 AVG Validation Loss:0.661 AVG Training Acc 62.11 % AVG Validation Acc 61.64 %\n",
      "Split 170\n"
     ]
    },
    {
     "data": {
      "application/vnd.jupyter.widget-view+json": {
       "model_id": "8affa40b1bc14d2ab57a3b48209dbcfe",
       "version_major": 2,
       "version_minor": 0
      },
      "text/plain": [
       "  0%|          | 0/200 [00:00<?, ?it/s]"
      ]
     },
     "metadata": {},
     "output_type": "display_data"
    },
    {
     "name": "stdout",
     "output_type": "stream",
     "text": [
      "Epoch:10/200 AVG Training Loss:0.664 AVG Validation Loss:0.663 AVG Training Acc 61.91 % AVG Validation Acc 61.91 %\n",
      "Epoch:20/200 AVG Training Loss:0.662 AVG Validation Loss:0.660 AVG Training Acc 61.87 % AVG Validation Acc 61.91 %\n",
      "Epoch:30/200 AVG Training Loss:0.660 AVG Validation Loss:0.658 AVG Training Acc 61.89 % AVG Validation Acc 61.91 %\n",
      "Epoch:40/200 AVG Training Loss:0.656 AVG Validation Loss:0.658 AVG Training Acc 62.05 % AVG Validation Acc 61.82 %\n",
      "Epoch:50/200 AVG Training Loss:0.658 AVG Validation Loss:0.654 AVG Training Acc 61.97 % AVG Validation Acc 62.00 %\n",
      "Epoch:60/200 AVG Training Loss:0.652 AVG Validation Loss:0.657 AVG Training Acc 62.02 % AVG Validation Acc 61.91 %\n",
      "Epoch    67: reducing learning rate of group 0 to 1.0000e-03.\n",
      "Epoch:70/200 AVG Training Loss:0.651 AVG Validation Loss:0.657 AVG Training Acc 62.18 % AVG Validation Acc 61.91 %\n",
      "Epoch:80/200 AVG Training Loss:0.647 AVG Validation Loss:0.658 AVG Training Acc 62.16 % AVG Validation Acc 61.82 %\n",
      "Epoch:90/200 AVG Training Loss:0.643 AVG Validation Loss:0.661 AVG Training Acc 62.45 % AVG Validation Acc 61.73 %\n",
      "Epoch    98: reducing learning rate of group 0 to 1.0000e-04.\n",
      "Epoch:100/200 AVG Training Loss:0.641 AVG Validation Loss:0.660 AVG Training Acc 62.46 % AVG Validation Acc 61.91 %\n",
      "Epoch:110/200 AVG Training Loss:0.641 AVG Validation Loss:0.663 AVG Training Acc 62.51 % AVG Validation Acc 61.91 %\n",
      "Epoch:120/200 AVG Training Loss:0.642 AVG Validation Loss:0.663 AVG Training Acc 62.35 % AVG Validation Acc 61.91 %\n",
      "Epoch   129: reducing learning rate of group 0 to 1.0000e-05.\n",
      "Epoch:130/200 AVG Training Loss:0.640 AVG Validation Loss:0.661 AVG Training Acc 62.63 % AVG Validation Acc 62.09 %\n",
      "Epoch:140/200 AVG Training Loss:0.640 AVG Validation Loss:0.661 AVG Training Acc 62.51 % AVG Validation Acc 62.00 %\n",
      "Epoch:150/200 AVG Training Loss:0.640 AVG Validation Loss:0.662 AVG Training Acc 62.49 % AVG Validation Acc 61.82 %\n",
      "Epoch:160/200 AVG Training Loss:0.640 AVG Validation Loss:0.661 AVG Training Acc 62.54 % AVG Validation Acc 61.91 %\n",
      "Epoch   160: reducing learning rate of group 0 to 1.0000e-06.\n",
      "Epoch:170/200 AVG Training Loss:0.639 AVG Validation Loss:0.663 AVG Training Acc 62.61 % AVG Validation Acc 61.73 %\n",
      "Epoch:180/200 AVG Training Loss:0.641 AVG Validation Loss:0.661 AVG Training Acc 62.44 % AVG Validation Acc 62.09 %\n",
      "Epoch:190/200 AVG Training Loss:0.641 AVG Validation Loss:0.662 AVG Training Acc 62.43 % AVG Validation Acc 61.82 %\n",
      "Epoch   191: reducing learning rate of group 0 to 1.0000e-07.\n",
      "Epoch:200/200 AVG Training Loss:0.642 AVG Validation Loss:0.660 AVG Training Acc 62.52 % AVG Validation Acc 62.00 %\n",
      "Split 171\n"
     ]
    },
    {
     "data": {
      "application/vnd.jupyter.widget-view+json": {
       "model_id": "aab7718ccae548b1a203991eaab6f930",
       "version_major": 2,
       "version_minor": 0
      },
      "text/plain": [
       "  0%|          | 0/200 [00:00<?, ?it/s]"
      ]
     },
     "metadata": {},
     "output_type": "display_data"
    },
    {
     "name": "stdout",
     "output_type": "stream",
     "text": [
      "Epoch:10/200 AVG Training Loss:0.664 AVG Validation Loss:0.665 AVG Training Acc 61.89 % AVG Validation Acc 61.95 %\n",
      "Epoch:20/200 AVG Training Loss:0.661 AVG Validation Loss:0.663 AVG Training Acc 61.83 % AVG Validation Acc 62.04 %\n",
      "Epoch    28: reducing learning rate of group 0 to 1.0000e-03.\n",
      "Epoch:30/200 AVG Training Loss:0.657 AVG Validation Loss:0.666 AVG Training Acc 61.92 % AVG Validation Acc 61.95 %\n",
      "Epoch:40/200 AVG Training Loss:0.653 AVG Validation Loss:0.670 AVG Training Acc 62.01 % AVG Validation Acc 61.86 %\n",
      "Epoch:50/200 AVG Training Loss:0.650 AVG Validation Loss:0.675 AVG Training Acc 62.13 % AVG Validation Acc 61.59 %\n",
      "Epoch    59: reducing learning rate of group 0 to 1.0000e-04.\n",
      "Epoch:60/200 AVG Training Loss:0.646 AVG Validation Loss:0.685 AVG Training Acc 62.22 % AVG Validation Acc 61.50 %\n",
      "Epoch:70/200 AVG Training Loss:0.646 AVG Validation Loss:0.687 AVG Training Acc 62.36 % AVG Validation Acc 61.32 %\n",
      "Epoch:80/200 AVG Training Loss:0.645 AVG Validation Loss:0.687 AVG Training Acc 62.34 % AVG Validation Acc 61.41 %\n",
      "Epoch:90/200 AVG Training Loss:0.645 AVG Validation Loss:0.688 AVG Training Acc 62.38 % AVG Validation Acc 61.41 %\n",
      "Epoch    90: reducing learning rate of group 0 to 1.0000e-05.\n",
      "Epoch:100/200 AVG Training Loss:0.645 AVG Validation Loss:0.689 AVG Training Acc 62.38 % AVG Validation Acc 61.32 %\n",
      "Epoch:110/200 AVG Training Loss:0.643 AVG Validation Loss:0.689 AVG Training Acc 62.33 % AVG Validation Acc 61.32 %\n",
      "Epoch:120/200 AVG Training Loss:0.644 AVG Validation Loss:0.689 AVG Training Acc 62.32 % AVG Validation Acc 61.41 %\n",
      "Epoch   121: reducing learning rate of group 0 to 1.0000e-06.\n",
      "Epoch:130/200 AVG Training Loss:0.644 AVG Validation Loss:0.690 AVG Training Acc 62.22 % AVG Validation Acc 61.32 %\n",
      "Epoch:140/200 AVG Training Loss:0.644 AVG Validation Loss:0.689 AVG Training Acc 62.35 % AVG Validation Acc 61.41 %\n",
      "Epoch:150/200 AVG Training Loss:0.644 AVG Validation Loss:0.689 AVG Training Acc 62.32 % AVG Validation Acc 61.32 %\n",
      "Epoch   152: reducing learning rate of group 0 to 1.0000e-07.\n",
      "Epoch:160/200 AVG Training Loss:0.644 AVG Validation Loss:0.690 AVG Training Acc 62.35 % AVG Validation Acc 61.41 %\n",
      "Epoch:170/200 AVG Training Loss:0.645 AVG Validation Loss:0.689 AVG Training Acc 62.24 % AVG Validation Acc 61.32 %\n",
      "Epoch:180/200 AVG Training Loss:0.644 AVG Validation Loss:0.689 AVG Training Acc 62.37 % AVG Validation Acc 61.41 %\n",
      "Epoch   183: reducing learning rate of group 0 to 1.0000e-08.\n",
      "Epoch:190/200 AVG Training Loss:0.644 AVG Validation Loss:0.689 AVG Training Acc 62.34 % AVG Validation Acc 61.41 %\n",
      "Epoch:200/200 AVG Training Loss:0.644 AVG Validation Loss:0.689 AVG Training Acc 62.31 % AVG Validation Acc 61.41 %\n",
      "Split 172\n"
     ]
    },
    {
     "data": {
      "application/vnd.jupyter.widget-view+json": {
       "model_id": "4ccca27da85e4eb0837bc82ec4657721",
       "version_major": 2,
       "version_minor": 0
      },
      "text/plain": [
       "  0%|          | 0/200 [00:00<?, ?it/s]"
      ]
     },
     "metadata": {},
     "output_type": "display_data"
    },
    {
     "name": "stdout",
     "output_type": "stream",
     "text": [
      "Epoch:10/200 AVG Training Loss:0.663 AVG Validation Loss:0.657 AVG Training Acc 61.90 % AVG Validation Acc 61.86 %\n",
      "Epoch:20/200 AVG Training Loss:0.660 AVG Validation Loss:0.657 AVG Training Acc 61.84 % AVG Validation Acc 61.86 %\n",
      "Epoch:30/200 AVG Training Loss:0.660 AVG Validation Loss:0.655 AVG Training Acc 61.98 % AVG Validation Acc 61.95 %\n",
      "Epoch    34: reducing learning rate of group 0 to 1.0000e-03.\n",
      "Epoch:40/200 AVG Training Loss:0.652 AVG Validation Loss:0.657 AVG Training Acc 62.24 % AVG Validation Acc 61.95 %\n",
      "Epoch:50/200 AVG Training Loss:0.649 AVG Validation Loss:0.658 AVG Training Acc 62.19 % AVG Validation Acc 62.22 %\n",
      "Epoch:60/200 AVG Training Loss:0.644 AVG Validation Loss:0.663 AVG Training Acc 62.44 % AVG Validation Acc 61.95 %\n",
      "Epoch    65: reducing learning rate of group 0 to 1.0000e-04.\n",
      "Epoch:70/200 AVG Training Loss:0.640 AVG Validation Loss:0.663 AVG Training Acc 62.50 % AVG Validation Acc 61.86 %\n",
      "Epoch:80/200 AVG Training Loss:0.641 AVG Validation Loss:0.664 AVG Training Acc 62.45 % AVG Validation Acc 61.95 %\n",
      "Epoch:90/200 AVG Training Loss:0.640 AVG Validation Loss:0.662 AVG Training Acc 62.61 % AVG Validation Acc 61.86 %\n",
      "Epoch    96: reducing learning rate of group 0 to 1.0000e-05.\n",
      "Epoch:100/200 AVG Training Loss:0.638 AVG Validation Loss:0.663 AVG Training Acc 62.54 % AVG Validation Acc 61.95 %\n",
      "Epoch:110/200 AVG Training Loss:0.639 AVG Validation Loss:0.664 AVG Training Acc 62.54 % AVG Validation Acc 61.95 %\n",
      "Epoch:120/200 AVG Training Loss:0.638 AVG Validation Loss:0.667 AVG Training Acc 62.53 % AVG Validation Acc 61.95 %\n",
      "Epoch   127: reducing learning rate of group 0 to 1.0000e-06.\n",
      "Epoch:130/200 AVG Training Loss:0.639 AVG Validation Loss:0.668 AVG Training Acc 62.46 % AVG Validation Acc 61.95 %\n",
      "Epoch:140/200 AVG Training Loss:0.638 AVG Validation Loss:0.668 AVG Training Acc 62.73 % AVG Validation Acc 62.04 %\n",
      "Epoch:150/200 AVG Training Loss:0.639 AVG Validation Loss:0.668 AVG Training Acc 62.50 % AVG Validation Acc 61.95 %\n",
      "Epoch   158: reducing learning rate of group 0 to 1.0000e-07.\n",
      "Epoch:160/200 AVG Training Loss:0.639 AVG Validation Loss:0.666 AVG Training Acc 62.42 % AVG Validation Acc 61.77 %\n",
      "Epoch:170/200 AVG Training Loss:0.639 AVG Validation Loss:0.666 AVG Training Acc 62.48 % AVG Validation Acc 61.86 %\n",
      "Epoch:180/200 AVG Training Loss:0.639 AVG Validation Loss:0.670 AVG Training Acc 62.57 % AVG Validation Acc 61.86 %\n",
      "Epoch   189: reducing learning rate of group 0 to 1.0000e-08.\n",
      "Epoch:190/200 AVG Training Loss:0.638 AVG Validation Loss:0.664 AVG Training Acc 62.49 % AVG Validation Acc 61.77 %\n",
      "Epoch:200/200 AVG Training Loss:0.639 AVG Validation Loss:0.668 AVG Training Acc 62.43 % AVG Validation Acc 61.77 %\n",
      "Split 173\n"
     ]
    },
    {
     "data": {
      "application/vnd.jupyter.widget-view+json": {
       "model_id": "c545c5f32e0543418c1d4fe333d8609d",
       "version_major": 2,
       "version_minor": 0
      },
      "text/plain": [
       "  0%|          | 0/200 [00:00<?, ?it/s]"
      ]
     },
     "metadata": {},
     "output_type": "display_data"
    },
    {
     "name": "stdout",
     "output_type": "stream",
     "text": [
      "Epoch:10/200 AVG Training Loss:0.664 AVG Validation Loss:0.665 AVG Training Acc 61.89 % AVG Validation Acc 61.86 %\n",
      "Epoch:20/200 AVG Training Loss:0.660 AVG Validation Loss:0.663 AVG Training Acc 61.93 % AVG Validation Acc 61.86 %\n",
      "Epoch    27: reducing learning rate of group 0 to 1.0000e-03.\n",
      "Epoch:30/200 AVG Training Loss:0.656 AVG Validation Loss:0.665 AVG Training Acc 61.93 % AVG Validation Acc 61.86 %\n",
      "Epoch:40/200 AVG Training Loss:0.655 AVG Validation Loss:0.669 AVG Training Acc 61.91 % AVG Validation Acc 61.86 %\n",
      "Epoch:50/200 AVG Training Loss:0.651 AVG Validation Loss:0.675 AVG Training Acc 62.09 % AVG Validation Acc 61.77 %\n",
      "Epoch    58: reducing learning rate of group 0 to 1.0000e-04.\n",
      "Epoch:60/200 AVG Training Loss:0.649 AVG Validation Loss:0.681 AVG Training Acc 62.14 % AVG Validation Acc 61.86 %\n",
      "Epoch:70/200 AVG Training Loss:0.649 AVG Validation Loss:0.681 AVG Training Acc 62.08 % AVG Validation Acc 61.86 %\n",
      "Epoch:80/200 AVG Training Loss:0.648 AVG Validation Loss:0.682 AVG Training Acc 62.14 % AVG Validation Acc 61.86 %\n",
      "Epoch    89: reducing learning rate of group 0 to 1.0000e-05.\n",
      "Epoch:90/200 AVG Training Loss:0.648 AVG Validation Loss:0.683 AVG Training Acc 62.08 % AVG Validation Acc 61.86 %\n",
      "Epoch:100/200 AVG Training Loss:0.647 AVG Validation Loss:0.682 AVG Training Acc 62.22 % AVG Validation Acc 61.86 %\n",
      "Epoch:110/200 AVG Training Loss:0.648 AVG Validation Loss:0.684 AVG Training Acc 62.13 % AVG Validation Acc 61.86 %\n",
      "Epoch:120/200 AVG Training Loss:0.648 AVG Validation Loss:0.682 AVG Training Acc 62.04 % AVG Validation Acc 61.86 %\n",
      "Epoch   120: reducing learning rate of group 0 to 1.0000e-06.\n",
      "Epoch:130/200 AVG Training Loss:0.648 AVG Validation Loss:0.684 AVG Training Acc 62.09 % AVG Validation Acc 61.86 %\n",
      "Epoch:140/200 AVG Training Loss:0.648 AVG Validation Loss:0.682 AVG Training Acc 62.16 % AVG Validation Acc 61.86 %\n",
      "Epoch:150/200 AVG Training Loss:0.648 AVG Validation Loss:0.682 AVG Training Acc 62.12 % AVG Validation Acc 61.86 %\n",
      "Epoch   151: reducing learning rate of group 0 to 1.0000e-07.\n",
      "Epoch:160/200 AVG Training Loss:0.648 AVG Validation Loss:0.683 AVG Training Acc 62.11 % AVG Validation Acc 61.86 %\n",
      "Epoch:170/200 AVG Training Loss:0.648 AVG Validation Loss:0.682 AVG Training Acc 62.10 % AVG Validation Acc 61.86 %\n",
      "Epoch:180/200 AVG Training Loss:0.649 AVG Validation Loss:0.683 AVG Training Acc 62.07 % AVG Validation Acc 61.86 %\n",
      "Epoch   182: reducing learning rate of group 0 to 1.0000e-08.\n",
      "Epoch:190/200 AVG Training Loss:0.648 AVG Validation Loss:0.683 AVG Training Acc 62.15 % AVG Validation Acc 61.86 %\n",
      "Epoch:200/200 AVG Training Loss:0.648 AVG Validation Loss:0.681 AVG Training Acc 62.11 % AVG Validation Acc 61.86 %\n",
      "Split 174\n"
     ]
    },
    {
     "data": {
      "application/vnd.jupyter.widget-view+json": {
       "model_id": "1291d3eff9ce4566909f745b3cafe927",
       "version_major": 2,
       "version_minor": 0
      },
      "text/plain": [
       "  0%|          | 0/200 [00:00<?, ?it/s]"
      ]
     },
     "metadata": {},
     "output_type": "display_data"
    },
    {
     "name": "stdout",
     "output_type": "stream",
     "text": [
      "Epoch:10/200 AVG Training Loss:0.661 AVG Validation Loss:0.664 AVG Training Acc 61.84 % AVG Validation Acc 61.86 %\n",
      "Epoch:20/200 AVG Training Loss:0.659 AVG Validation Loss:0.663 AVG Training Acc 61.91 % AVG Validation Acc 61.86 %\n",
      "Epoch:30/200 AVG Training Loss:0.659 AVG Validation Loss:0.664 AVG Training Acc 61.91 % AVG Validation Acc 61.86 %\n",
      "Epoch    37: reducing learning rate of group 0 to 1.0000e-03.\n",
      "Epoch:40/200 AVG Training Loss:0.656 AVG Validation Loss:0.662 AVG Training Acc 61.96 % AVG Validation Acc 61.86 %\n",
      "Epoch:50/200 AVG Training Loss:0.653 AVG Validation Loss:0.664 AVG Training Acc 62.02 % AVG Validation Acc 61.68 %\n",
      "Epoch:60/200 AVG Training Loss:0.652 AVG Validation Loss:0.666 AVG Training Acc 62.06 % AVG Validation Acc 61.86 %\n",
      "Epoch    68: reducing learning rate of group 0 to 1.0000e-04.\n",
      "Epoch:70/200 AVG Training Loss:0.651 AVG Validation Loss:0.666 AVG Training Acc 62.00 % AVG Validation Acc 61.86 %\n",
      "Epoch:80/200 AVG Training Loss:0.650 AVG Validation Loss:0.665 AVG Training Acc 62.08 % AVG Validation Acc 62.04 %\n",
      "Epoch:90/200 AVG Training Loss:0.650 AVG Validation Loss:0.666 AVG Training Acc 62.05 % AVG Validation Acc 62.04 %\n",
      "Epoch    99: reducing learning rate of group 0 to 1.0000e-05.\n",
      "Epoch:100/200 AVG Training Loss:0.650 AVG Validation Loss:0.666 AVG Training Acc 62.05 % AVG Validation Acc 62.04 %\n",
      "Epoch:110/200 AVG Training Loss:0.649 AVG Validation Loss:0.666 AVG Training Acc 62.13 % AVG Validation Acc 62.04 %\n",
      "Epoch:120/200 AVG Training Loss:0.650 AVG Validation Loss:0.666 AVG Training Acc 62.16 % AVG Validation Acc 62.04 %\n",
      "Epoch:130/200 AVG Training Loss:0.649 AVG Validation Loss:0.666 AVG Training Acc 62.13 % AVG Validation Acc 62.04 %\n",
      "Epoch   130: reducing learning rate of group 0 to 1.0000e-06.\n",
      "Epoch:140/200 AVG Training Loss:0.650 AVG Validation Loss:0.665 AVG Training Acc 62.20 % AVG Validation Acc 62.04 %\n",
      "Epoch:150/200 AVG Training Loss:0.649 AVG Validation Loss:0.666 AVG Training Acc 62.09 % AVG Validation Acc 62.04 %\n",
      "Epoch:160/200 AVG Training Loss:0.650 AVG Validation Loss:0.666 AVG Training Acc 62.14 % AVG Validation Acc 62.04 %\n",
      "Epoch   161: reducing learning rate of group 0 to 1.0000e-07.\n",
      "Epoch:170/200 AVG Training Loss:0.649 AVG Validation Loss:0.666 AVG Training Acc 62.25 % AVG Validation Acc 62.04 %\n",
      "Epoch:180/200 AVG Training Loss:0.650 AVG Validation Loss:0.666 AVG Training Acc 62.06 % AVG Validation Acc 62.04 %\n",
      "Epoch:190/200 AVG Training Loss:0.650 AVG Validation Loss:0.666 AVG Training Acc 62.17 % AVG Validation Acc 62.04 %\n",
      "Epoch   192: reducing learning rate of group 0 to 1.0000e-08.\n",
      "Epoch:200/200 AVG Training Loss:0.649 AVG Validation Loss:0.666 AVG Training Acc 62.08 % AVG Validation Acc 62.04 %\n",
      "Split 175\n"
     ]
    },
    {
     "data": {
      "application/vnd.jupyter.widget-view+json": {
       "model_id": "46fa714b5aa24cd79e875111777cd8de",
       "version_major": 2,
       "version_minor": 0
      },
      "text/plain": [
       "  0%|          | 0/200 [00:00<?, ?it/s]"
      ]
     },
     "metadata": {},
     "output_type": "display_data"
    },
    {
     "name": "stdout",
     "output_type": "stream",
     "text": [
      "Epoch:10/200 AVG Training Loss:0.665 AVG Validation Loss:0.663 AVG Training Acc 61.91 % AVG Validation Acc 61.86 %\n",
      "Epoch:20/200 AVG Training Loss:0.662 AVG Validation Loss:0.662 AVG Training Acc 61.97 % AVG Validation Acc 61.86 %\n",
      "Epoch:30/200 AVG Training Loss:0.659 AVG Validation Loss:0.660 AVG Training Acc 61.93 % AVG Validation Acc 61.86 %\n",
      "Epoch:40/200 AVG Training Loss:0.656 AVG Validation Loss:0.662 AVG Training Acc 61.99 % AVG Validation Acc 61.50 %\n",
      "Epoch    46: reducing learning rate of group 0 to 1.0000e-03.\n",
      "Epoch:50/200 AVG Training Loss:0.650 AVG Validation Loss:0.662 AVG Training Acc 62.25 % AVG Validation Acc 61.50 %\n",
      "Epoch:60/200 AVG Training Loss:0.647 AVG Validation Loss:0.665 AVG Training Acc 62.28 % AVG Validation Acc 62.13 %\n",
      "Epoch:70/200 AVG Training Loss:0.643 AVG Validation Loss:0.666 AVG Training Acc 62.28 % AVG Validation Acc 61.95 %\n",
      "Epoch    77: reducing learning rate of group 0 to 1.0000e-04.\n",
      "Epoch:80/200 AVG Training Loss:0.640 AVG Validation Loss:0.670 AVG Training Acc 62.46 % AVG Validation Acc 62.04 %\n",
      "Epoch:90/200 AVG Training Loss:0.640 AVG Validation Loss:0.670 AVG Training Acc 62.52 % AVG Validation Acc 61.95 %\n",
      "Epoch:100/200 AVG Training Loss:0.640 AVG Validation Loss:0.671 AVG Training Acc 62.44 % AVG Validation Acc 61.95 %\n",
      "Epoch   108: reducing learning rate of group 0 to 1.0000e-05.\n",
      "Epoch:110/200 AVG Training Loss:0.638 AVG Validation Loss:0.671 AVG Training Acc 62.63 % AVG Validation Acc 61.77 %\n",
      "Epoch:120/200 AVG Training Loss:0.640 AVG Validation Loss:0.671 AVG Training Acc 62.45 % AVG Validation Acc 61.68 %\n",
      "Epoch:130/200 AVG Training Loss:0.639 AVG Validation Loss:0.671 AVG Training Acc 62.52 % AVG Validation Acc 61.68 %\n",
      "Epoch   139: reducing learning rate of group 0 to 1.0000e-06.\n",
      "Epoch:140/200 AVG Training Loss:0.640 AVG Validation Loss:0.671 AVG Training Acc 62.55 % AVG Validation Acc 61.68 %\n",
      "Epoch:150/200 AVG Training Loss:0.638 AVG Validation Loss:0.671 AVG Training Acc 62.64 % AVG Validation Acc 61.68 %\n",
      "Epoch:160/200 AVG Training Loss:0.640 AVG Validation Loss:0.671 AVG Training Acc 62.52 % AVG Validation Acc 61.68 %\n",
      "Epoch:170/200 AVG Training Loss:0.639 AVG Validation Loss:0.671 AVG Training Acc 62.58 % AVG Validation Acc 61.68 %\n",
      "Epoch   170: reducing learning rate of group 0 to 1.0000e-07.\n",
      "Epoch:180/200 AVG Training Loss:0.639 AVG Validation Loss:0.671 AVG Training Acc 62.36 % AVG Validation Acc 61.68 %\n",
      "Epoch:190/200 AVG Training Loss:0.639 AVG Validation Loss:0.670 AVG Training Acc 62.51 % AVG Validation Acc 61.68 %\n",
      "Epoch:200/200 AVG Training Loss:0.641 AVG Validation Loss:0.672 AVG Training Acc 62.37 % AVG Validation Acc 61.68 %\n",
      "Split 176\n"
     ]
    },
    {
     "data": {
      "application/vnd.jupyter.widget-view+json": {
       "model_id": "a12783217a93475f91b3bcf28c4a4299",
       "version_major": 2,
       "version_minor": 0
      },
      "text/plain": [
       "  0%|          | 0/200 [00:00<?, ?it/s]"
      ]
     },
     "metadata": {},
     "output_type": "display_data"
    },
    {
     "name": "stdout",
     "output_type": "stream",
     "text": [
      "Epoch:10/200 AVG Training Loss:0.661 AVG Validation Loss:0.659 AVG Training Acc 61.89 % AVG Validation Acc 61.91 %\n",
      "Epoch:20/200 AVG Training Loss:0.659 AVG Validation Loss:0.659 AVG Training Acc 61.88 % AVG Validation Acc 61.91 %\n",
      "Epoch    26: reducing learning rate of group 0 to 1.0000e-03.\n",
      "Epoch:30/200 AVG Training Loss:0.656 AVG Validation Loss:0.658 AVG Training Acc 61.96 % AVG Validation Acc 61.91 %\n",
      "Epoch:40/200 AVG Training Loss:0.652 AVG Validation Loss:0.659 AVG Training Acc 61.99 % AVG Validation Acc 61.91 %\n",
      "Epoch:50/200 AVG Training Loss:0.649 AVG Validation Loss:0.662 AVG Training Acc 62.14 % AVG Validation Acc 61.82 %\n",
      "Epoch    57: reducing learning rate of group 0 to 1.0000e-04.\n",
      "Epoch:60/200 AVG Training Loss:0.647 AVG Validation Loss:0.667 AVG Training Acc 62.13 % AVG Validation Acc 61.55 %\n",
      "Epoch:70/200 AVG Training Loss:0.645 AVG Validation Loss:0.668 AVG Training Acc 62.31 % AVG Validation Acc 61.46 %\n",
      "Epoch:80/200 AVG Training Loss:0.644 AVG Validation Loss:0.668 AVG Training Acc 62.20 % AVG Validation Acc 61.28 %\n",
      "Epoch    88: reducing learning rate of group 0 to 1.0000e-05.\n",
      "Epoch:90/200 AVG Training Loss:0.643 AVG Validation Loss:0.669 AVG Training Acc 62.44 % AVG Validation Acc 61.37 %\n",
      "Epoch:100/200 AVG Training Loss:0.645 AVG Validation Loss:0.669 AVG Training Acc 62.19 % AVG Validation Acc 61.28 %\n",
      "Epoch:110/200 AVG Training Loss:0.643 AVG Validation Loss:0.671 AVG Training Acc 62.20 % AVG Validation Acc 61.19 %\n",
      "Epoch   119: reducing learning rate of group 0 to 1.0000e-06.\n",
      "Epoch:120/200 AVG Training Loss:0.643 AVG Validation Loss:0.669 AVG Training Acc 62.36 % AVG Validation Acc 61.28 %\n",
      "Epoch:130/200 AVG Training Loss:0.642 AVG Validation Loss:0.670 AVG Training Acc 62.42 % AVG Validation Acc 61.19 %\n",
      "Epoch:140/200 AVG Training Loss:0.643 AVG Validation Loss:0.668 AVG Training Acc 62.34 % AVG Validation Acc 61.37 %\n",
      "Epoch:150/200 AVG Training Loss:0.643 AVG Validation Loss:0.669 AVG Training Acc 62.45 % AVG Validation Acc 61.46 %\n",
      "Epoch   150: reducing learning rate of group 0 to 1.0000e-07.\n",
      "Epoch:160/200 AVG Training Loss:0.645 AVG Validation Loss:0.668 AVG Training Acc 62.31 % AVG Validation Acc 61.19 %\n",
      "Epoch:170/200 AVG Training Loss:0.643 AVG Validation Loss:0.670 AVG Training Acc 62.35 % AVG Validation Acc 61.28 %\n",
      "Epoch:180/200 AVG Training Loss:0.643 AVG Validation Loss:0.668 AVG Training Acc 62.36 % AVG Validation Acc 61.28 %\n",
      "Epoch   181: reducing learning rate of group 0 to 1.0000e-08.\n",
      "Epoch:190/200 AVG Training Loss:0.643 AVG Validation Loss:0.669 AVG Training Acc 62.39 % AVG Validation Acc 61.19 %\n",
      "Epoch:200/200 AVG Training Loss:0.643 AVG Validation Loss:0.669 AVG Training Acc 62.36 % AVG Validation Acc 61.37 %\n",
      "Split 177\n"
     ]
    },
    {
     "data": {
      "application/vnd.jupyter.widget-view+json": {
       "model_id": "0d3b3f88527d481b8edd91170ff613ea",
       "version_major": 2,
       "version_minor": 0
      },
      "text/plain": [
       "  0%|          | 0/200 [00:00<?, ?it/s]"
      ]
     },
     "metadata": {},
     "output_type": "display_data"
    },
    {
     "name": "stdout",
     "output_type": "stream",
     "text": [
      "Epoch:10/200 AVG Training Loss:0.664 AVG Validation Loss:0.663 AVG Training Acc 61.89 % AVG Validation Acc 61.91 %\n",
      "Epoch:20/200 AVG Training Loss:0.661 AVG Validation Loss:0.667 AVG Training Acc 61.75 % AVG Validation Acc 61.91 %\n",
      "Epoch:30/200 AVG Training Loss:0.661 AVG Validation Loss:0.661 AVG Training Acc 61.92 % AVG Validation Acc 61.91 %\n",
      "Epoch:40/200 AVG Training Loss:0.660 AVG Validation Loss:0.660 AVG Training Acc 61.91 % AVG Validation Acc 61.82 %\n",
      "Epoch    43: reducing learning rate of group 0 to 1.0000e-03.\n",
      "Epoch:50/200 AVG Training Loss:0.654 AVG Validation Loss:0.667 AVG Training Acc 62.04 % AVG Validation Acc 61.82 %\n",
      "Epoch:60/200 AVG Training Loss:0.654 AVG Validation Loss:0.668 AVG Training Acc 62.14 % AVG Validation Acc 61.82 %\n",
      "Epoch:70/200 AVG Training Loss:0.651 AVG Validation Loss:0.670 AVG Training Acc 62.13 % AVG Validation Acc 61.73 %\n",
      "Epoch    74: reducing learning rate of group 0 to 1.0000e-04.\n",
      "Epoch:80/200 AVG Training Loss:0.649 AVG Validation Loss:0.671 AVG Training Acc 62.24 % AVG Validation Acc 61.73 %\n",
      "Epoch:90/200 AVG Training Loss:0.649 AVG Validation Loss:0.672 AVG Training Acc 62.22 % AVG Validation Acc 61.73 %\n",
      "Epoch:100/200 AVG Training Loss:0.648 AVG Validation Loss:0.669 AVG Training Acc 62.30 % AVG Validation Acc 61.73 %\n",
      "Epoch   105: reducing learning rate of group 0 to 1.0000e-05.\n",
      "Epoch:110/200 AVG Training Loss:0.649 AVG Validation Loss:0.671 AVG Training Acc 62.21 % AVG Validation Acc 61.73 %\n",
      "Epoch:120/200 AVG Training Loss:0.649 AVG Validation Loss:0.670 AVG Training Acc 62.24 % AVG Validation Acc 61.73 %\n",
      "Epoch:130/200 AVG Training Loss:0.648 AVG Validation Loss:0.671 AVG Training Acc 62.17 % AVG Validation Acc 61.73 %\n",
      "Epoch   136: reducing learning rate of group 0 to 1.0000e-06.\n",
      "Epoch:140/200 AVG Training Loss:0.649 AVG Validation Loss:0.671 AVG Training Acc 62.25 % AVG Validation Acc 61.73 %\n",
      "Epoch:150/200 AVG Training Loss:0.648 AVG Validation Loss:0.671 AVG Training Acc 62.37 % AVG Validation Acc 61.73 %\n",
      "Epoch:160/200 AVG Training Loss:0.649 AVG Validation Loss:0.671 AVG Training Acc 62.30 % AVG Validation Acc 61.73 %\n",
      "Epoch   167: reducing learning rate of group 0 to 1.0000e-07.\n",
      "Epoch:170/200 AVG Training Loss:0.648 AVG Validation Loss:0.671 AVG Training Acc 62.20 % AVG Validation Acc 61.73 %\n",
      "Epoch:180/200 AVG Training Loss:0.648 AVG Validation Loss:0.671 AVG Training Acc 62.23 % AVG Validation Acc 61.73 %\n",
      "Epoch:190/200 AVG Training Loss:0.648 AVG Validation Loss:0.672 AVG Training Acc 62.29 % AVG Validation Acc 61.73 %\n",
      "Epoch   198: reducing learning rate of group 0 to 1.0000e-08.\n",
      "Epoch:200/200 AVG Training Loss:0.647 AVG Validation Loss:0.671 AVG Training Acc 62.35 % AVG Validation Acc 61.73 %\n",
      "Split 178\n"
     ]
    },
    {
     "data": {
      "application/vnd.jupyter.widget-view+json": {
       "model_id": "85a6c97ffc9f412a84607674d189abb7",
       "version_major": 2,
       "version_minor": 0
      },
      "text/plain": [
       "  0%|          | 0/200 [00:00<?, ?it/s]"
      ]
     },
     "metadata": {},
     "output_type": "display_data"
    },
    {
     "name": "stdout",
     "output_type": "stream",
     "text": [
      "Epoch:10/200 AVG Training Loss:0.664 AVG Validation Loss:0.665 AVG Training Acc 61.91 % AVG Validation Acc 61.91 %\n",
      "Epoch:20/200 AVG Training Loss:0.661 AVG Validation Loss:0.664 AVG Training Acc 62.02 % AVG Validation Acc 61.91 %\n",
      "Epoch:30/200 AVG Training Loss:0.657 AVG Validation Loss:0.667 AVG Training Acc 61.97 % AVG Validation Acc 61.91 %\n",
      "Epoch    32: reducing learning rate of group 0 to 1.0000e-03.\n",
      "Epoch:40/200 AVG Training Loss:0.655 AVG Validation Loss:0.663 AVG Training Acc 62.06 % AVG Validation Acc 61.73 %\n",
      "Epoch:50/200 AVG Training Loss:0.652 AVG Validation Loss:0.666 AVG Training Acc 62.09 % AVG Validation Acc 61.46 %\n",
      "Epoch:60/200 AVG Training Loss:0.651 AVG Validation Loss:0.668 AVG Training Acc 62.30 % AVG Validation Acc 61.46 %\n",
      "Epoch    63: reducing learning rate of group 0 to 1.0000e-04.\n",
      "Epoch:70/200 AVG Training Loss:0.649 AVG Validation Loss:0.668 AVG Training Acc 62.27 % AVG Validation Acc 61.46 %\n",
      "Epoch:80/200 AVG Training Loss:0.649 AVG Validation Loss:0.669 AVG Training Acc 62.33 % AVG Validation Acc 61.55 %\n",
      "Epoch:90/200 AVG Training Loss:0.648 AVG Validation Loss:0.669 AVG Training Acc 62.31 % AVG Validation Acc 61.46 %\n",
      "Epoch    94: reducing learning rate of group 0 to 1.0000e-05.\n",
      "Epoch:100/200 AVG Training Loss:0.648 AVG Validation Loss:0.669 AVG Training Acc 62.29 % AVG Validation Acc 61.46 %\n",
      "Epoch:110/200 AVG Training Loss:0.649 AVG Validation Loss:0.669 AVG Training Acc 62.25 % AVG Validation Acc 61.55 %\n",
      "Epoch:120/200 AVG Training Loss:0.649 AVG Validation Loss:0.669 AVG Training Acc 62.28 % AVG Validation Acc 61.37 %\n",
      "Epoch   125: reducing learning rate of group 0 to 1.0000e-06.\n",
      "Epoch:130/200 AVG Training Loss:0.648 AVG Validation Loss:0.670 AVG Training Acc 62.20 % AVG Validation Acc 61.37 %\n",
      "Epoch:140/200 AVG Training Loss:0.649 AVG Validation Loss:0.669 AVG Training Acc 62.24 % AVG Validation Acc 61.55 %\n",
      "Epoch:150/200 AVG Training Loss:0.649 AVG Validation Loss:0.669 AVG Training Acc 62.24 % AVG Validation Acc 61.46 %\n",
      "Epoch   156: reducing learning rate of group 0 to 1.0000e-07.\n",
      "Epoch:160/200 AVG Training Loss:0.649 AVG Validation Loss:0.668 AVG Training Acc 62.26 % AVG Validation Acc 61.46 %\n",
      "Epoch:170/200 AVG Training Loss:0.649 AVG Validation Loss:0.669 AVG Training Acc 62.29 % AVG Validation Acc 61.46 %\n",
      "Epoch:180/200 AVG Training Loss:0.648 AVG Validation Loss:0.669 AVG Training Acc 62.32 % AVG Validation Acc 61.37 %\n",
      "Epoch   187: reducing learning rate of group 0 to 1.0000e-08.\n",
      "Epoch:190/200 AVG Training Loss:0.650 AVG Validation Loss:0.670 AVG Training Acc 62.25 % AVG Validation Acc 61.46 %\n",
      "Epoch:200/200 AVG Training Loss:0.649 AVG Validation Loss:0.669 AVG Training Acc 62.21 % AVG Validation Acc 61.37 %\n",
      "Split 179\n"
     ]
    },
    {
     "data": {
      "application/vnd.jupyter.widget-view+json": {
       "model_id": "831faa882ffa4d1f8dcba6a116f31f55",
       "version_major": 2,
       "version_minor": 0
      },
      "text/plain": [
       "  0%|          | 0/200 [00:00<?, ?it/s]"
      ]
     },
     "metadata": {},
     "output_type": "display_data"
    },
    {
     "name": "stdout",
     "output_type": "stream",
     "text": [
      "Epoch:10/200 AVG Training Loss:0.664 AVG Validation Loss:0.662 AVG Training Acc 61.90 % AVG Validation Acc 61.91 %\n",
      "Epoch:20/200 AVG Training Loss:0.660 AVG Validation Loss:0.663 AVG Training Acc 61.92 % AVG Validation Acc 61.91 %\n",
      "Epoch    29: reducing learning rate of group 0 to 1.0000e-03.\n",
      "Epoch:30/200 AVG Training Loss:0.657 AVG Validation Loss:0.661 AVG Training Acc 61.92 % AVG Validation Acc 61.91 %\n",
      "Epoch:40/200 AVG Training Loss:0.653 AVG Validation Loss:0.661 AVG Training Acc 62.01 % AVG Validation Acc 62.09 %\n",
      "Epoch:50/200 AVG Training Loss:0.652 AVG Validation Loss:0.662 AVG Training Acc 62.03 % AVG Validation Acc 62.09 %\n",
      "Epoch:60/200 AVG Training Loss:0.651 AVG Validation Loss:0.663 AVG Training Acc 61.96 % AVG Validation Acc 62.09 %\n",
      "Epoch    60: reducing learning rate of group 0 to 1.0000e-04.\n",
      "Epoch:70/200 AVG Training Loss:0.650 AVG Validation Loss:0.664 AVG Training Acc 62.02 % AVG Validation Acc 62.18 %\n",
      "Epoch:80/200 AVG Training Loss:0.650 AVG Validation Loss:0.664 AVG Training Acc 62.00 % AVG Validation Acc 62.27 %\n",
      "Epoch:90/200 AVG Training Loss:0.650 AVG Validation Loss:0.664 AVG Training Acc 62.06 % AVG Validation Acc 62.18 %\n",
      "Epoch    91: reducing learning rate of group 0 to 1.0000e-05.\n",
      "Epoch:100/200 AVG Training Loss:0.649 AVG Validation Loss:0.664 AVG Training Acc 62.01 % AVG Validation Acc 62.09 %\n",
      "Epoch:110/200 AVG Training Loss:0.649 AVG Validation Loss:0.664 AVG Training Acc 62.00 % AVG Validation Acc 62.09 %\n",
      "Epoch:120/200 AVG Training Loss:0.651 AVG Validation Loss:0.664 AVG Training Acc 61.99 % AVG Validation Acc 62.18 %\n",
      "Epoch   122: reducing learning rate of group 0 to 1.0000e-06.\n",
      "Epoch:130/200 AVG Training Loss:0.649 AVG Validation Loss:0.664 AVG Training Acc 62.12 % AVG Validation Acc 62.18 %\n",
      "Epoch:140/200 AVG Training Loss:0.651 AVG Validation Loss:0.664 AVG Training Acc 62.07 % AVG Validation Acc 62.27 %\n",
      "Epoch:150/200 AVG Training Loss:0.649 AVG Validation Loss:0.663 AVG Training Acc 62.07 % AVG Validation Acc 62.18 %\n",
      "Epoch   153: reducing learning rate of group 0 to 1.0000e-07.\n",
      "Epoch:160/200 AVG Training Loss:0.650 AVG Validation Loss:0.664 AVG Training Acc 62.03 % AVG Validation Acc 62.27 %\n",
      "Epoch:170/200 AVG Training Loss:0.650 AVG Validation Loss:0.664 AVG Training Acc 61.98 % AVG Validation Acc 62.18 %\n",
      "Epoch:180/200 AVG Training Loss:0.651 AVG Validation Loss:0.664 AVG Training Acc 61.96 % AVG Validation Acc 62.18 %\n",
      "Epoch   184: reducing learning rate of group 0 to 1.0000e-08.\n",
      "Epoch:190/200 AVG Training Loss:0.650 AVG Validation Loss:0.664 AVG Training Acc 62.01 % AVG Validation Acc 62.27 %\n",
      "Epoch:200/200 AVG Training Loss:0.650 AVG Validation Loss:0.664 AVG Training Acc 62.06 % AVG Validation Acc 62.27 %\n",
      "Split 180\n"
     ]
    },
    {
     "data": {
      "application/vnd.jupyter.widget-view+json": {
       "model_id": "e7da396b34774e34bbd8586eab58e322",
       "version_major": 2,
       "version_minor": 0
      },
      "text/plain": [
       "  0%|          | 0/200 [00:00<?, ?it/s]"
      ]
     },
     "metadata": {},
     "output_type": "display_data"
    },
    {
     "name": "stdout",
     "output_type": "stream",
     "text": [
      "Epoch:10/200 AVG Training Loss:0.663 AVG Validation Loss:0.660 AVG Training Acc 61.75 % AVG Validation Acc 61.91 %\n",
      "Epoch:20/200 AVG Training Loss:0.660 AVG Validation Loss:0.658 AVG Training Acc 61.94 % AVG Validation Acc 61.91 %\n",
      "Epoch    23: reducing learning rate of group 0 to 1.0000e-03.\n",
      "Epoch:30/200 AVG Training Loss:0.656 AVG Validation Loss:0.659 AVG Training Acc 62.15 % AVG Validation Acc 61.91 %\n",
      "Epoch:40/200 AVG Training Loss:0.655 AVG Validation Loss:0.661 AVG Training Acc 62.12 % AVG Validation Acc 61.73 %\n",
      "Epoch:50/200 AVG Training Loss:0.652 AVG Validation Loss:0.666 AVG Training Acc 62.19 % AVG Validation Acc 61.37 %\n",
      "Epoch    54: reducing learning rate of group 0 to 1.0000e-04.\n",
      "Epoch:60/200 AVG Training Loss:0.650 AVG Validation Loss:0.669 AVG Training Acc 62.30 % AVG Validation Acc 61.19 %\n",
      "Epoch:70/200 AVG Training Loss:0.649 AVG Validation Loss:0.669 AVG Training Acc 62.29 % AVG Validation Acc 60.92 %\n",
      "Epoch:80/200 AVG Training Loss:0.649 AVG Validation Loss:0.670 AVG Training Acc 62.25 % AVG Validation Acc 60.92 %\n",
      "Epoch    85: reducing learning rate of group 0 to 1.0000e-05.\n",
      "Epoch:90/200 AVG Training Loss:0.649 AVG Validation Loss:0.670 AVG Training Acc 62.29 % AVG Validation Acc 60.92 %\n",
      "Epoch:100/200 AVG Training Loss:0.648 AVG Validation Loss:0.670 AVG Training Acc 62.28 % AVG Validation Acc 60.92 %\n",
      "Epoch:110/200 AVG Training Loss:0.648 AVG Validation Loss:0.671 AVG Training Acc 62.27 % AVG Validation Acc 60.92 %\n",
      "Epoch   116: reducing learning rate of group 0 to 1.0000e-06.\n",
      "Epoch:120/200 AVG Training Loss:0.649 AVG Validation Loss:0.670 AVG Training Acc 62.17 % AVG Validation Acc 60.92 %\n",
      "Epoch:130/200 AVG Training Loss:0.649 AVG Validation Loss:0.671 AVG Training Acc 62.26 % AVG Validation Acc 60.92 %\n",
      "Epoch:140/200 AVG Training Loss:0.648 AVG Validation Loss:0.670 AVG Training Acc 62.27 % AVG Validation Acc 60.92 %\n",
      "Epoch   147: reducing learning rate of group 0 to 1.0000e-07.\n",
      "Epoch:150/200 AVG Training Loss:0.649 AVG Validation Loss:0.671 AVG Training Acc 62.35 % AVG Validation Acc 60.92 %\n",
      "Epoch:160/200 AVG Training Loss:0.648 AVG Validation Loss:0.671 AVG Training Acc 62.29 % AVG Validation Acc 60.83 %\n",
      "Epoch:170/200 AVG Training Loss:0.648 AVG Validation Loss:0.671 AVG Training Acc 62.31 % AVG Validation Acc 60.83 %\n",
      "Epoch   178: reducing learning rate of group 0 to 1.0000e-08.\n",
      "Epoch:180/200 AVG Training Loss:0.648 AVG Validation Loss:0.671 AVG Training Acc 62.34 % AVG Validation Acc 60.92 %\n",
      "Epoch:190/200 AVG Training Loss:0.648 AVG Validation Loss:0.670 AVG Training Acc 62.30 % AVG Validation Acc 60.92 %\n",
      "Epoch:200/200 AVG Training Loss:0.648 AVG Validation Loss:0.671 AVG Training Acc 62.32 % AVG Validation Acc 60.92 %\n",
      "Split 181\n"
     ]
    },
    {
     "data": {
      "application/vnd.jupyter.widget-view+json": {
       "model_id": "c68e0e44cc02487aaa575eca19d5c5c5",
       "version_major": 2,
       "version_minor": 0
      },
      "text/plain": [
       "  0%|          | 0/200 [00:00<?, ?it/s]"
      ]
     },
     "metadata": {},
     "output_type": "display_data"
    },
    {
     "name": "stdout",
     "output_type": "stream",
     "text": [
      "Epoch:10/200 AVG Training Loss:0.663 AVG Validation Loss:0.662 AVG Training Acc 61.94 % AVG Validation Acc 61.95 %\n",
      "Epoch:20/200 AVG Training Loss:0.660 AVG Validation Loss:0.662 AVG Training Acc 61.94 % AVG Validation Acc 61.95 %\n",
      "Epoch    22: reducing learning rate of group 0 to 1.0000e-03.\n",
      "Epoch:30/200 AVG Training Loss:0.657 AVG Validation Loss:0.666 AVG Training Acc 61.96 % AVG Validation Acc 61.86 %\n",
      "Epoch:40/200 AVG Training Loss:0.654 AVG Validation Loss:0.667 AVG Training Acc 62.10 % AVG Validation Acc 61.77 %\n",
      "Epoch:50/200 AVG Training Loss:0.652 AVG Validation Loss:0.670 AVG Training Acc 62.22 % AVG Validation Acc 61.68 %\n",
      "Epoch    53: reducing learning rate of group 0 to 1.0000e-04.\n",
      "Epoch:60/200 AVG Training Loss:0.652 AVG Validation Loss:0.667 AVG Training Acc 62.14 % AVG Validation Acc 61.68 %\n",
      "Epoch:70/200 AVG Training Loss:0.652 AVG Validation Loss:0.668 AVG Training Acc 62.16 % AVG Validation Acc 61.68 %\n",
      "Epoch:80/200 AVG Training Loss:0.652 AVG Validation Loss:0.669 AVG Training Acc 62.18 % AVG Validation Acc 61.68 %\n",
      "Epoch    84: reducing learning rate of group 0 to 1.0000e-05.\n",
      "Epoch:90/200 AVG Training Loss:0.651 AVG Validation Loss:0.670 AVG Training Acc 62.18 % AVG Validation Acc 61.68 %\n",
      "Epoch:100/200 AVG Training Loss:0.652 AVG Validation Loss:0.670 AVG Training Acc 62.11 % AVG Validation Acc 61.68 %\n",
      "Epoch:110/200 AVG Training Loss:0.652 AVG Validation Loss:0.671 AVG Training Acc 62.13 % AVG Validation Acc 61.68 %\n",
      "Epoch   115: reducing learning rate of group 0 to 1.0000e-06.\n",
      "Epoch:120/200 AVG Training Loss:0.651 AVG Validation Loss:0.671 AVG Training Acc 62.17 % AVG Validation Acc 61.68 %\n",
      "Epoch:130/200 AVG Training Loss:0.652 AVG Validation Loss:0.671 AVG Training Acc 62.13 % AVG Validation Acc 61.68 %\n",
      "Epoch:140/200 AVG Training Loss:0.652 AVG Validation Loss:0.671 AVG Training Acc 62.18 % AVG Validation Acc 61.68 %\n",
      "Epoch   146: reducing learning rate of group 0 to 1.0000e-07.\n",
      "Epoch:150/200 AVG Training Loss:0.652 AVG Validation Loss:0.672 AVG Training Acc 62.27 % AVG Validation Acc 61.68 %\n",
      "Epoch:160/200 AVG Training Loss:0.651 AVG Validation Loss:0.670 AVG Training Acc 62.14 % AVG Validation Acc 61.68 %\n",
      "Epoch:170/200 AVG Training Loss:0.651 AVG Validation Loss:0.672 AVG Training Acc 62.21 % AVG Validation Acc 61.68 %\n",
      "Epoch   177: reducing learning rate of group 0 to 1.0000e-08.\n",
      "Epoch:180/200 AVG Training Loss:0.651 AVG Validation Loss:0.671 AVG Training Acc 62.19 % AVG Validation Acc 61.68 %\n",
      "Epoch:190/200 AVG Training Loss:0.652 AVG Validation Loss:0.673 AVG Training Acc 62.15 % AVG Validation Acc 61.68 %\n",
      "Epoch:200/200 AVG Training Loss:0.651 AVG Validation Loss:0.671 AVG Training Acc 62.15 % AVG Validation Acc 61.68 %\n",
      "Split 182\n"
     ]
    },
    {
     "data": {
      "application/vnd.jupyter.widget-view+json": {
       "model_id": "6784dbf27950450cbbea3d2ff2876b69",
       "version_major": 2,
       "version_minor": 0
      },
      "text/plain": [
       "  0%|          | 0/200 [00:00<?, ?it/s]"
      ]
     },
     "metadata": {},
     "output_type": "display_data"
    },
    {
     "name": "stdout",
     "output_type": "stream",
     "text": [
      "Epoch:10/200 AVG Training Loss:0.664 AVG Validation Loss:0.663 AVG Training Acc 61.91 % AVG Validation Acc 61.86 %\n",
      "Epoch:20/200 AVG Training Loss:0.662 AVG Validation Loss:0.658 AVG Training Acc 61.84 % AVG Validation Acc 61.86 %\n",
      "Epoch:30/200 AVG Training Loss:0.660 AVG Validation Loss:0.658 AVG Training Acc 61.98 % AVG Validation Acc 61.86 %\n",
      "Epoch    35: reducing learning rate of group 0 to 1.0000e-03.\n",
      "Epoch:40/200 AVG Training Loss:0.656 AVG Validation Loss:0.657 AVG Training Acc 62.11 % AVG Validation Acc 61.50 %\n",
      "Epoch:50/200 AVG Training Loss:0.654 AVG Validation Loss:0.657 AVG Training Acc 62.04 % AVG Validation Acc 61.50 %\n",
      "Epoch:60/200 AVG Training Loss:0.652 AVG Validation Loss:0.659 AVG Training Acc 62.15 % AVG Validation Acc 61.50 %\n",
      "Epoch    66: reducing learning rate of group 0 to 1.0000e-04.\n",
      "Epoch:70/200 AVG Training Loss:0.651 AVG Validation Loss:0.660 AVG Training Acc 62.12 % AVG Validation Acc 61.50 %\n",
      "Epoch:80/200 AVG Training Loss:0.651 AVG Validation Loss:0.662 AVG Training Acc 62.21 % AVG Validation Acc 61.50 %\n",
      "Epoch:90/200 AVG Training Loss:0.651 AVG Validation Loss:0.662 AVG Training Acc 62.09 % AVG Validation Acc 61.50 %\n",
      "Epoch    97: reducing learning rate of group 0 to 1.0000e-05.\n",
      "Epoch:100/200 AVG Training Loss:0.650 AVG Validation Loss:0.662 AVG Training Acc 62.22 % AVG Validation Acc 61.50 %\n",
      "Epoch:110/200 AVG Training Loss:0.650 AVG Validation Loss:0.662 AVG Training Acc 62.21 % AVG Validation Acc 61.50 %\n",
      "Epoch:120/200 AVG Training Loss:0.650 AVG Validation Loss:0.662 AVG Training Acc 62.15 % AVG Validation Acc 61.50 %\n",
      "Epoch   128: reducing learning rate of group 0 to 1.0000e-06.\n",
      "Epoch:130/200 AVG Training Loss:0.651 AVG Validation Loss:0.662 AVG Training Acc 62.20 % AVG Validation Acc 61.50 %\n",
      "Epoch:140/200 AVG Training Loss:0.651 AVG Validation Loss:0.662 AVG Training Acc 62.11 % AVG Validation Acc 61.50 %\n",
      "Epoch:150/200 AVG Training Loss:0.650 AVG Validation Loss:0.662 AVG Training Acc 62.12 % AVG Validation Acc 61.50 %\n",
      "Epoch   159: reducing learning rate of group 0 to 1.0000e-07.\n",
      "Epoch:160/200 AVG Training Loss:0.650 AVG Validation Loss:0.664 AVG Training Acc 62.25 % AVG Validation Acc 61.50 %\n",
      "Epoch:170/200 AVG Training Loss:0.650 AVG Validation Loss:0.662 AVG Training Acc 62.11 % AVG Validation Acc 61.50 %\n",
      "Epoch:180/200 AVG Training Loss:0.650 AVG Validation Loss:0.662 AVG Training Acc 62.16 % AVG Validation Acc 61.50 %\n",
      "Epoch:190/200 AVG Training Loss:0.651 AVG Validation Loss:0.662 AVG Training Acc 62.08 % AVG Validation Acc 61.50 %\n",
      "Epoch   190: reducing learning rate of group 0 to 1.0000e-08.\n",
      "Epoch:200/200 AVG Training Loss:0.651 AVG Validation Loss:0.663 AVG Training Acc 62.14 % AVG Validation Acc 61.50 %\n",
      "Split 183\n"
     ]
    },
    {
     "data": {
      "application/vnd.jupyter.widget-view+json": {
       "model_id": "af0146b87ba14285b37e71520b423b0e",
       "version_major": 2,
       "version_minor": 0
      },
      "text/plain": [
       "  0%|          | 0/200 [00:00<?, ?it/s]"
      ]
     },
     "metadata": {},
     "output_type": "display_data"
    },
    {
     "name": "stdout",
     "output_type": "stream",
     "text": [
      "Epoch:10/200 AVG Training Loss:0.664 AVG Validation Loss:0.662 AVG Training Acc 61.91 % AVG Validation Acc 61.86 %\n",
      "Epoch:20/200 AVG Training Loss:0.660 AVG Validation Loss:0.658 AVG Training Acc 61.91 % AVG Validation Acc 61.86 %\n",
      "Epoch:30/200 AVG Training Loss:0.667 AVG Validation Loss:0.664 AVG Training Acc 61.90 % AVG Validation Acc 61.86 %\n",
      "Epoch    34: reducing learning rate of group 0 to 1.0000e-03.\n",
      "Epoch:40/200 AVG Training Loss:0.663 AVG Validation Loss:0.664 AVG Training Acc 61.90 % AVG Validation Acc 61.86 %\n",
      "Epoch:50/200 AVG Training Loss:0.664 AVG Validation Loss:0.664 AVG Training Acc 61.90 % AVG Validation Acc 61.86 %\n",
      "Epoch:60/200 AVG Training Loss:0.663 AVG Validation Loss:0.664 AVG Training Acc 61.90 % AVG Validation Acc 61.86 %\n",
      "Epoch    65: reducing learning rate of group 0 to 1.0000e-04.\n",
      "Epoch:70/200 AVG Training Loss:0.663 AVG Validation Loss:0.663 AVG Training Acc 61.89 % AVG Validation Acc 61.86 %\n",
      "Epoch:80/200 AVG Training Loss:0.662 AVG Validation Loss:0.663 AVG Training Acc 61.89 % AVG Validation Acc 61.86 %\n",
      "Epoch:90/200 AVG Training Loss:0.662 AVG Validation Loss:0.663 AVG Training Acc 61.90 % AVG Validation Acc 61.86 %\n",
      "Epoch    96: reducing learning rate of group 0 to 1.0000e-05.\n",
      "Epoch:100/200 AVG Training Loss:0.661 AVG Validation Loss:0.664 AVG Training Acc 61.94 % AVG Validation Acc 61.86 %\n",
      "Epoch:110/200 AVG Training Loss:0.662 AVG Validation Loss:0.664 AVG Training Acc 61.93 % AVG Validation Acc 61.86 %\n",
      "Epoch:120/200 AVG Training Loss:0.662 AVG Validation Loss:0.664 AVG Training Acc 61.94 % AVG Validation Acc 61.86 %\n",
      "Epoch   127: reducing learning rate of group 0 to 1.0000e-06.\n",
      "Epoch:130/200 AVG Training Loss:0.662 AVG Validation Loss:0.663 AVG Training Acc 61.92 % AVG Validation Acc 61.86 %\n",
      "Epoch:140/200 AVG Training Loss:0.661 AVG Validation Loss:0.663 AVG Training Acc 61.93 % AVG Validation Acc 61.86 %\n",
      "Epoch:150/200 AVG Training Loss:0.661 AVG Validation Loss:0.664 AVG Training Acc 61.90 % AVG Validation Acc 61.86 %\n",
      "Epoch   158: reducing learning rate of group 0 to 1.0000e-07.\n",
      "Epoch:160/200 AVG Training Loss:0.662 AVG Validation Loss:0.664 AVG Training Acc 61.93 % AVG Validation Acc 61.86 %\n",
      "Epoch:170/200 AVG Training Loss:0.662 AVG Validation Loss:0.663 AVG Training Acc 61.89 % AVG Validation Acc 61.86 %\n",
      "Epoch:180/200 AVG Training Loss:0.662 AVG Validation Loss:0.663 AVG Training Acc 61.91 % AVG Validation Acc 61.86 %\n",
      "Epoch   189: reducing learning rate of group 0 to 1.0000e-08.\n",
      "Epoch:190/200 AVG Training Loss:0.662 AVG Validation Loss:0.664 AVG Training Acc 61.90 % AVG Validation Acc 61.86 %\n",
      "Epoch:200/200 AVG Training Loss:0.662 AVG Validation Loss:0.663 AVG Training Acc 61.91 % AVG Validation Acc 61.86 %\n",
      "Split 184\n"
     ]
    },
    {
     "data": {
      "application/vnd.jupyter.widget-view+json": {
       "model_id": "ccee10c39f3e4cb4b41fa3ea2baa21bd",
       "version_major": 2,
       "version_minor": 0
      },
      "text/plain": [
       "  0%|          | 0/200 [00:00<?, ?it/s]"
      ]
     },
     "metadata": {},
     "output_type": "display_data"
    },
    {
     "name": "stdout",
     "output_type": "stream",
     "text": [
      "Epoch:10/200 AVG Training Loss:0.665 AVG Validation Loss:0.662 AVG Training Acc 61.90 % AVG Validation Acc 61.86 %\n",
      "Epoch    18: reducing learning rate of group 0 to 1.0000e-03.\n",
      "Epoch:20/200 AVG Training Loss:0.664 AVG Validation Loss:0.662 AVG Training Acc 61.90 % AVG Validation Acc 61.86 %\n",
      "Epoch:30/200 AVG Training Loss:0.663 AVG Validation Loss:0.661 AVG Training Acc 61.90 % AVG Validation Acc 61.86 %\n",
      "Epoch:40/200 AVG Training Loss:0.662 AVG Validation Loss:0.661 AVG Training Acc 61.91 % AVG Validation Acc 61.86 %\n",
      "Epoch:50/200 AVG Training Loss:0.661 AVG Validation Loss:0.659 AVG Training Acc 61.89 % AVG Validation Acc 61.86 %\n",
      "Epoch:60/200 AVG Training Loss:0.659 AVG Validation Loss:0.658 AVG Training Acc 61.87 % AVG Validation Acc 61.86 %\n",
      "Epoch:70/200 AVG Training Loss:0.658 AVG Validation Loss:0.657 AVG Training Acc 61.94 % AVG Validation Acc 61.68 %\n",
      "Epoch:80/200 AVG Training Loss:0.657 AVG Validation Loss:0.657 AVG Training Acc 61.99 % AVG Validation Acc 61.77 %\n",
      "Epoch:90/200 AVG Training Loss:0.657 AVG Validation Loss:0.658 AVG Training Acc 61.89 % AVG Validation Acc 61.77 %\n",
      "Epoch    92: reducing learning rate of group 0 to 1.0000e-04.\n",
      "Epoch:100/200 AVG Training Loss:0.656 AVG Validation Loss:0.658 AVG Training Acc 61.95 % AVG Validation Acc 61.59 %\n",
      "Epoch:110/200 AVG Training Loss:0.655 AVG Validation Loss:0.658 AVG Training Acc 62.02 % AVG Validation Acc 61.59 %\n",
      "Epoch:120/200 AVG Training Loss:0.654 AVG Validation Loss:0.657 AVG Training Acc 61.95 % AVG Validation Acc 61.59 %\n",
      "Epoch   123: reducing learning rate of group 0 to 1.0000e-05.\n",
      "Epoch:130/200 AVG Training Loss:0.655 AVG Validation Loss:0.658 AVG Training Acc 62.03 % AVG Validation Acc 61.59 %\n",
      "Epoch:140/200 AVG Training Loss:0.655 AVG Validation Loss:0.658 AVG Training Acc 62.04 % AVG Validation Acc 61.59 %\n",
      "Epoch:150/200 AVG Training Loss:0.654 AVG Validation Loss:0.657 AVG Training Acc 62.04 % AVG Validation Acc 61.59 %\n",
      "Epoch   154: reducing learning rate of group 0 to 1.0000e-06.\n",
      "Epoch:160/200 AVG Training Loss:0.654 AVG Validation Loss:0.657 AVG Training Acc 61.97 % AVG Validation Acc 61.59 %\n",
      "Epoch:170/200 AVG Training Loss:0.655 AVG Validation Loss:0.657 AVG Training Acc 61.96 % AVG Validation Acc 61.59 %\n",
      "Epoch:180/200 AVG Training Loss:0.655 AVG Validation Loss:0.657 AVG Training Acc 62.00 % AVG Validation Acc 61.59 %\n",
      "Epoch   185: reducing learning rate of group 0 to 1.0000e-07.\n",
      "Epoch:190/200 AVG Training Loss:0.654 AVG Validation Loss:0.658 AVG Training Acc 61.95 % AVG Validation Acc 61.59 %\n",
      "Epoch:200/200 AVG Training Loss:0.654 AVG Validation Loss:0.658 AVG Training Acc 62.03 % AVG Validation Acc 61.59 %\n",
      "Split 185\n"
     ]
    },
    {
     "data": {
      "application/vnd.jupyter.widget-view+json": {
       "model_id": "79995ca61e4b4ff489f6a09d96e341f6",
       "version_major": 2,
       "version_minor": 0
      },
      "text/plain": [
       "  0%|          | 0/200 [00:00<?, ?it/s]"
      ]
     },
     "metadata": {},
     "output_type": "display_data"
    },
    {
     "name": "stdout",
     "output_type": "stream",
     "text": [
      "Epoch:10/200 AVG Training Loss:0.662 AVG Validation Loss:0.663 AVG Training Acc 61.87 % AVG Validation Acc 61.86 %\n",
      "Epoch:20/200 AVG Training Loss:0.661 AVG Validation Loss:0.662 AVG Training Acc 61.93 % AVG Validation Acc 61.95 %\n",
      "Epoch:30/200 AVG Training Loss:0.659 AVG Validation Loss:0.661 AVG Training Acc 61.95 % AVG Validation Acc 61.95 %\n",
      "Epoch    37: reducing learning rate of group 0 to 1.0000e-03.\n",
      "Epoch:40/200 AVG Training Loss:0.653 AVG Validation Loss:0.662 AVG Training Acc 62.05 % AVG Validation Acc 61.86 %\n",
      "Epoch:50/200 AVG Training Loss:0.651 AVG Validation Loss:0.661 AVG Training Acc 62.06 % AVG Validation Acc 61.86 %\n",
      "Epoch:60/200 AVG Training Loss:0.648 AVG Validation Loss:0.665 AVG Training Acc 62.11 % AVG Validation Acc 61.86 %\n",
      "Epoch    68: reducing learning rate of group 0 to 1.0000e-04.\n",
      "Epoch:70/200 AVG Training Loss:0.646 AVG Validation Loss:0.666 AVG Training Acc 62.14 % AVG Validation Acc 61.86 %\n",
      "Epoch:80/200 AVG Training Loss:0.646 AVG Validation Loss:0.666 AVG Training Acc 62.08 % AVG Validation Acc 61.86 %\n",
      "Epoch:90/200 AVG Training Loss:0.645 AVG Validation Loss:0.665 AVG Training Acc 62.11 % AVG Validation Acc 61.86 %\n",
      "Epoch    99: reducing learning rate of group 0 to 1.0000e-05.\n",
      "Epoch:100/200 AVG Training Loss:0.645 AVG Validation Loss:0.665 AVG Training Acc 62.09 % AVG Validation Acc 61.86 %\n",
      "Epoch:110/200 AVG Training Loss:0.645 AVG Validation Loss:0.666 AVG Training Acc 62.15 % AVG Validation Acc 61.95 %\n",
      "Epoch:120/200 AVG Training Loss:0.645 AVG Validation Loss:0.665 AVG Training Acc 62.07 % AVG Validation Acc 61.86 %\n",
      "Epoch:130/200 AVG Training Loss:0.645 AVG Validation Loss:0.666 AVG Training Acc 62.12 % AVG Validation Acc 61.86 %\n",
      "Epoch   130: reducing learning rate of group 0 to 1.0000e-06.\n",
      "Epoch:140/200 AVG Training Loss:0.645 AVG Validation Loss:0.666 AVG Training Acc 62.14 % AVG Validation Acc 61.86 %\n",
      "Epoch:150/200 AVG Training Loss:0.646 AVG Validation Loss:0.665 AVG Training Acc 62.12 % AVG Validation Acc 61.86 %\n",
      "Epoch:160/200 AVG Training Loss:0.646 AVG Validation Loss:0.664 AVG Training Acc 62.12 % AVG Validation Acc 61.86 %\n",
      "Epoch   161: reducing learning rate of group 0 to 1.0000e-07.\n",
      "Epoch:170/200 AVG Training Loss:0.646 AVG Validation Loss:0.668 AVG Training Acc 62.12 % AVG Validation Acc 61.86 %\n",
      "Epoch:180/200 AVG Training Loss:0.646 AVG Validation Loss:0.666 AVG Training Acc 62.18 % AVG Validation Acc 61.86 %\n",
      "Epoch:190/200 AVG Training Loss:0.645 AVG Validation Loss:0.668 AVG Training Acc 62.17 % AVG Validation Acc 61.86 %\n",
      "Epoch   192: reducing learning rate of group 0 to 1.0000e-08.\n",
      "Epoch:200/200 AVG Training Loss:0.646 AVG Validation Loss:0.665 AVG Training Acc 62.15 % AVG Validation Acc 61.86 %\n",
      "Split 186\n"
     ]
    },
    {
     "data": {
      "application/vnd.jupyter.widget-view+json": {
       "model_id": "8314e7a59ff749b98eb3e50877f59142",
       "version_major": 2,
       "version_minor": 0
      },
      "text/plain": [
       "  0%|          | 0/200 [00:00<?, ?it/s]"
      ]
     },
     "metadata": {},
     "output_type": "display_data"
    },
    {
     "name": "stdout",
     "output_type": "stream",
     "text": [
      "Epoch:10/200 AVG Training Loss:0.664 AVG Validation Loss:0.664 AVG Training Acc 61.89 % AVG Validation Acc 61.91 %\n",
      "Epoch:20/200 AVG Training Loss:0.660 AVG Validation Loss:0.663 AVG Training Acc 61.92 % AVG Validation Acc 61.91 %\n",
      "Epoch:30/200 AVG Training Loss:0.660 AVG Validation Loss:0.662 AVG Training Acc 61.87 % AVG Validation Acc 62.00 %\n",
      "Epoch    34: reducing learning rate of group 0 to 1.0000e-03.\n",
      "Epoch:40/200 AVG Training Loss:0.659 AVG Validation Loss:0.664 AVG Training Acc 61.78 % AVG Validation Acc 61.91 %\n",
      "Epoch:50/200 AVG Training Loss:0.657 AVG Validation Loss:0.664 AVG Training Acc 61.96 % AVG Validation Acc 62.00 %\n",
      "Epoch:60/200 AVG Training Loss:0.654 AVG Validation Loss:0.664 AVG Training Acc 62.04 % AVG Validation Acc 62.09 %\n",
      "Epoch    65: reducing learning rate of group 0 to 1.0000e-04.\n",
      "Epoch:70/200 AVG Training Loss:0.652 AVG Validation Loss:0.666 AVG Training Acc 61.98 % AVG Validation Acc 62.09 %\n",
      "Epoch:80/200 AVG Training Loss:0.650 AVG Validation Loss:0.666 AVG Training Acc 62.08 % AVG Validation Acc 62.09 %\n",
      "Epoch:90/200 AVG Training Loss:0.650 AVG Validation Loss:0.666 AVG Training Acc 62.13 % AVG Validation Acc 61.91 %\n",
      "Epoch    96: reducing learning rate of group 0 to 1.0000e-05.\n",
      "Epoch:100/200 AVG Training Loss:0.652 AVG Validation Loss:0.666 AVG Training Acc 62.00 % AVG Validation Acc 61.91 %\n",
      "Epoch:110/200 AVG Training Loss:0.650 AVG Validation Loss:0.666 AVG Training Acc 62.05 % AVG Validation Acc 62.09 %\n",
      "Epoch:120/200 AVG Training Loss:0.651 AVG Validation Loss:0.666 AVG Training Acc 62.12 % AVG Validation Acc 61.91 %\n",
      "Epoch   127: reducing learning rate of group 0 to 1.0000e-06.\n",
      "Epoch:130/200 AVG Training Loss:0.651 AVG Validation Loss:0.668 AVG Training Acc 62.15 % AVG Validation Acc 62.00 %\n",
      "Epoch:140/200 AVG Training Loss:0.650 AVG Validation Loss:0.666 AVG Training Acc 62.07 % AVG Validation Acc 62.00 %\n",
      "Epoch:150/200 AVG Training Loss:0.650 AVG Validation Loss:0.668 AVG Training Acc 62.04 % AVG Validation Acc 61.91 %\n",
      "Epoch   158: reducing learning rate of group 0 to 1.0000e-07.\n",
      "Epoch:160/200 AVG Training Loss:0.651 AVG Validation Loss:0.667 AVG Training Acc 62.15 % AVG Validation Acc 62.00 %\n",
      "Epoch:170/200 AVG Training Loss:0.650 AVG Validation Loss:0.667 AVG Training Acc 62.12 % AVG Validation Acc 62.00 %\n",
      "Epoch:180/200 AVG Training Loss:0.649 AVG Validation Loss:0.667 AVG Training Acc 62.08 % AVG Validation Acc 61.91 %\n",
      "Epoch   189: reducing learning rate of group 0 to 1.0000e-08.\n",
      "Epoch:190/200 AVG Training Loss:0.651 AVG Validation Loss:0.667 AVG Training Acc 62.09 % AVG Validation Acc 61.91 %\n",
      "Epoch:200/200 AVG Training Loss:0.650 AVG Validation Loss:0.666 AVG Training Acc 62.03 % AVG Validation Acc 62.00 %\n",
      "Split 187\n"
     ]
    },
    {
     "data": {
      "application/vnd.jupyter.widget-view+json": {
       "model_id": "22c15f4682aa4a178c20ac8fcc824334",
       "version_major": 2,
       "version_minor": 0
      },
      "text/plain": [
       "  0%|          | 0/200 [00:00<?, ?it/s]"
      ]
     },
     "metadata": {},
     "output_type": "display_data"
    },
    {
     "name": "stdout",
     "output_type": "stream",
     "text": [
      "Epoch:10/200 AVG Training Loss:0.664 AVG Validation Loss:0.665 AVG Training Acc 61.87 % AVG Validation Acc 61.91 %\n",
      "Epoch:20/200 AVG Training Loss:0.660 AVG Validation Loss:0.657 AVG Training Acc 61.89 % AVG Validation Acc 62.00 %\n",
      "Epoch:30/200 AVG Training Loss:0.662 AVG Validation Loss:0.665 AVG Training Acc 62.01 % AVG Validation Acc 61.91 %\n",
      "Epoch    34: reducing learning rate of group 0 to 1.0000e-03.\n",
      "Epoch:40/200 AVG Training Loss:0.657 AVG Validation Loss:0.658 AVG Training Acc 61.92 % AVG Validation Acc 61.64 %\n",
      "Epoch:50/200 AVG Training Loss:0.651 AVG Validation Loss:0.659 AVG Training Acc 62.09 % AVG Validation Acc 61.55 %\n",
      "Epoch:60/200 AVG Training Loss:0.650 AVG Validation Loss:0.663 AVG Training Acc 62.12 % AVG Validation Acc 61.73 %\n",
      "Epoch    65: reducing learning rate of group 0 to 1.0000e-04.\n",
      "Epoch:70/200 AVG Training Loss:0.648 AVG Validation Loss:0.665 AVG Training Acc 62.17 % AVG Validation Acc 61.82 %\n",
      "Epoch:80/200 AVG Training Loss:0.648 AVG Validation Loss:0.667 AVG Training Acc 62.19 % AVG Validation Acc 61.82 %\n",
      "Epoch:90/200 AVG Training Loss:0.648 AVG Validation Loss:0.664 AVG Training Acc 62.28 % AVG Validation Acc 61.73 %\n",
      "Epoch    96: reducing learning rate of group 0 to 1.0000e-05.\n",
      "Epoch:100/200 AVG Training Loss:0.648 AVG Validation Loss:0.664 AVG Training Acc 62.22 % AVG Validation Acc 61.73 %\n",
      "Epoch:110/200 AVG Training Loss:0.647 AVG Validation Loss:0.665 AVG Training Acc 62.32 % AVG Validation Acc 61.73 %\n",
      "Epoch:120/200 AVG Training Loss:0.647 AVG Validation Loss:0.665 AVG Training Acc 62.28 % AVG Validation Acc 61.64 %\n",
      "Epoch   127: reducing learning rate of group 0 to 1.0000e-06.\n",
      "Epoch:130/200 AVG Training Loss:0.648 AVG Validation Loss:0.665 AVG Training Acc 62.21 % AVG Validation Acc 61.64 %\n",
      "Epoch:140/200 AVG Training Loss:0.647 AVG Validation Loss:0.664 AVG Training Acc 62.21 % AVG Validation Acc 61.73 %\n",
      "Epoch:150/200 AVG Training Loss:0.649 AVG Validation Loss:0.665 AVG Training Acc 62.12 % AVG Validation Acc 61.64 %\n",
      "Epoch   158: reducing learning rate of group 0 to 1.0000e-07.\n",
      "Epoch:160/200 AVG Training Loss:0.648 AVG Validation Loss:0.665 AVG Training Acc 62.22 % AVG Validation Acc 61.82 %\n",
      "Epoch:170/200 AVG Training Loss:0.647 AVG Validation Loss:0.665 AVG Training Acc 62.20 % AVG Validation Acc 61.82 %\n",
      "Epoch:180/200 AVG Training Loss:0.648 AVG Validation Loss:0.665 AVG Training Acc 62.14 % AVG Validation Acc 61.64 %\n",
      "Epoch   189: reducing learning rate of group 0 to 1.0000e-08.\n",
      "Epoch:190/200 AVG Training Loss:0.647 AVG Validation Loss:0.665 AVG Training Acc 62.32 % AVG Validation Acc 61.64 %\n",
      "Epoch:200/200 AVG Training Loss:0.648 AVG Validation Loss:0.664 AVG Training Acc 62.29 % AVG Validation Acc 61.64 %\n",
      "Split 188\n"
     ]
    },
    {
     "data": {
      "application/vnd.jupyter.widget-view+json": {
       "model_id": "acbec28eeec545b4a9ffd6721d5e58cb",
       "version_major": 2,
       "version_minor": 0
      },
      "text/plain": [
       "  0%|          | 0/200 [00:00<?, ?it/s]"
      ]
     },
     "metadata": {},
     "output_type": "display_data"
    },
    {
     "name": "stdout",
     "output_type": "stream",
     "text": [
      "Epoch:10/200 AVG Training Loss:0.663 AVG Validation Loss:0.664 AVG Training Acc 61.89 % AVG Validation Acc 61.91 %\n",
      "Epoch:20/200 AVG Training Loss:0.659 AVG Validation Loss:0.665 AVG Training Acc 61.98 % AVG Validation Acc 61.91 %\n",
      "Epoch    22: reducing learning rate of group 0 to 1.0000e-03.\n",
      "Epoch:30/200 AVG Training Loss:0.656 AVG Validation Loss:0.666 AVG Training Acc 62.03 % AVG Validation Acc 61.82 %\n",
      "Epoch:40/200 AVG Training Loss:0.656 AVG Validation Loss:0.667 AVG Training Acc 62.03 % AVG Validation Acc 61.73 %\n",
      "Epoch:50/200 AVG Training Loss:0.655 AVG Validation Loss:0.670 AVG Training Acc 62.03 % AVG Validation Acc 61.82 %\n",
      "Epoch    53: reducing learning rate of group 0 to 1.0000e-04.\n",
      "Epoch:60/200 AVG Training Loss:0.653 AVG Validation Loss:0.671 AVG Training Acc 62.19 % AVG Validation Acc 61.64 %\n",
      "Epoch:70/200 AVG Training Loss:0.654 AVG Validation Loss:0.671 AVG Training Acc 62.09 % AVG Validation Acc 61.55 %\n",
      "Epoch:80/200 AVG Training Loss:0.653 AVG Validation Loss:0.670 AVG Training Acc 62.14 % AVG Validation Acc 61.46 %\n",
      "Epoch    84: reducing learning rate of group 0 to 1.0000e-05.\n",
      "Epoch:90/200 AVG Training Loss:0.652 AVG Validation Loss:0.671 AVG Training Acc 62.09 % AVG Validation Acc 61.55 %\n",
      "Epoch:100/200 AVG Training Loss:0.653 AVG Validation Loss:0.671 AVG Training Acc 62.05 % AVG Validation Acc 61.46 %\n",
      "Epoch:110/200 AVG Training Loss:0.653 AVG Validation Loss:0.671 AVG Training Acc 62.16 % AVG Validation Acc 61.46 %\n",
      "Epoch   115: reducing learning rate of group 0 to 1.0000e-06.\n",
      "Epoch:120/200 AVG Training Loss:0.652 AVG Validation Loss:0.671 AVG Training Acc 62.12 % AVG Validation Acc 61.46 %\n",
      "Epoch:130/200 AVG Training Loss:0.652 AVG Validation Loss:0.671 AVG Training Acc 62.08 % AVG Validation Acc 61.46 %\n",
      "Epoch:140/200 AVG Training Loss:0.653 AVG Validation Loss:0.671 AVG Training Acc 62.14 % AVG Validation Acc 61.46 %\n",
      "Epoch   146: reducing learning rate of group 0 to 1.0000e-07.\n",
      "Epoch:150/200 AVG Training Loss:0.653 AVG Validation Loss:0.671 AVG Training Acc 62.07 % AVG Validation Acc 61.46 %\n",
      "Epoch:160/200 AVG Training Loss:0.653 AVG Validation Loss:0.671 AVG Training Acc 62.09 % AVG Validation Acc 61.46 %\n",
      "Epoch:170/200 AVG Training Loss:0.652 AVG Validation Loss:0.671 AVG Training Acc 62.12 % AVG Validation Acc 61.46 %\n",
      "Epoch   177: reducing learning rate of group 0 to 1.0000e-08.\n",
      "Epoch:180/200 AVG Training Loss:0.652 AVG Validation Loss:0.671 AVG Training Acc 62.11 % AVG Validation Acc 61.46 %\n",
      "Epoch:190/200 AVG Training Loss:0.654 AVG Validation Loss:0.671 AVG Training Acc 62.04 % AVG Validation Acc 61.46 %\n",
      "Epoch:200/200 AVG Training Loss:0.652 AVG Validation Loss:0.671 AVG Training Acc 62.18 % AVG Validation Acc 61.37 %\n",
      "Split 189\n"
     ]
    },
    {
     "data": {
      "application/vnd.jupyter.widget-view+json": {
       "model_id": "2c46f14344524ec28f2ca3542e28ae87",
       "version_major": 2,
       "version_minor": 0
      },
      "text/plain": [
       "  0%|          | 0/200 [00:00<?, ?it/s]"
      ]
     },
     "metadata": {},
     "output_type": "display_data"
    },
    {
     "name": "stdout",
     "output_type": "stream",
     "text": [
      "Epoch:10/200 AVG Training Loss:0.662 AVG Validation Loss:0.665 AVG Training Acc 61.86 % AVG Validation Acc 61.91 %\n",
      "Epoch:20/200 AVG Training Loss:0.660 AVG Validation Loss:0.664 AVG Training Acc 61.96 % AVG Validation Acc 61.91 %\n",
      "Epoch    27: reducing learning rate of group 0 to 1.0000e-03.\n",
      "Epoch:30/200 AVG Training Loss:0.657 AVG Validation Loss:0.664 AVG Training Acc 61.89 % AVG Validation Acc 61.91 %\n",
      "Epoch:40/200 AVG Training Loss:0.656 AVG Validation Loss:0.666 AVG Training Acc 61.89 % AVG Validation Acc 62.00 %\n",
      "Epoch:50/200 AVG Training Loss:0.656 AVG Validation Loss:0.667 AVG Training Acc 61.91 % AVG Validation Acc 62.09 %\n",
      "Epoch    58: reducing learning rate of group 0 to 1.0000e-04.\n",
      "Epoch:60/200 AVG Training Loss:0.654 AVG Validation Loss:0.669 AVG Training Acc 61.92 % AVG Validation Acc 62.00 %\n",
      "Epoch:70/200 AVG Training Loss:0.654 AVG Validation Loss:0.669 AVG Training Acc 61.93 % AVG Validation Acc 62.09 %\n",
      "Epoch:80/200 AVG Training Loss:0.653 AVG Validation Loss:0.669 AVG Training Acc 61.97 % AVG Validation Acc 62.09 %\n",
      "Epoch    89: reducing learning rate of group 0 to 1.0000e-05.\n",
      "Epoch:90/200 AVG Training Loss:0.653 AVG Validation Loss:0.668 AVG Training Acc 61.88 % AVG Validation Acc 62.09 %\n",
      "Epoch:100/200 AVG Training Loss:0.653 AVG Validation Loss:0.668 AVG Training Acc 61.96 % AVG Validation Acc 62.09 %\n",
      "Epoch:110/200 AVG Training Loss:0.653 AVG Validation Loss:0.668 AVG Training Acc 61.86 % AVG Validation Acc 62.09 %\n",
      "Epoch:120/200 AVG Training Loss:0.654 AVG Validation Loss:0.669 AVG Training Acc 61.89 % AVG Validation Acc 62.09 %\n",
      "Epoch   120: reducing learning rate of group 0 to 1.0000e-06.\n",
      "Epoch:130/200 AVG Training Loss:0.653 AVG Validation Loss:0.668 AVG Training Acc 61.91 % AVG Validation Acc 62.09 %\n",
      "Epoch:140/200 AVG Training Loss:0.654 AVG Validation Loss:0.668 AVG Training Acc 61.90 % AVG Validation Acc 62.09 %\n",
      "Epoch:150/200 AVG Training Loss:0.654 AVG Validation Loss:0.669 AVG Training Acc 61.97 % AVG Validation Acc 62.09 %\n",
      "Epoch   151: reducing learning rate of group 0 to 1.0000e-07.\n",
      "Epoch:160/200 AVG Training Loss:0.654 AVG Validation Loss:0.668 AVG Training Acc 61.93 % AVG Validation Acc 62.09 %\n",
      "Epoch:170/200 AVG Training Loss:0.653 AVG Validation Loss:0.668 AVG Training Acc 61.92 % AVG Validation Acc 62.09 %\n",
      "Epoch:180/200 AVG Training Loss:0.653 AVG Validation Loss:0.669 AVG Training Acc 61.98 % AVG Validation Acc 62.09 %\n",
      "Epoch   182: reducing learning rate of group 0 to 1.0000e-08.\n",
      "Epoch:190/200 AVG Training Loss:0.653 AVG Validation Loss:0.669 AVG Training Acc 61.88 % AVG Validation Acc 62.09 %\n",
      "Epoch:200/200 AVG Training Loss:0.653 AVG Validation Loss:0.669 AVG Training Acc 61.95 % AVG Validation Acc 62.09 %\n",
      "Split 190\n"
     ]
    },
    {
     "data": {
      "application/vnd.jupyter.widget-view+json": {
       "model_id": "00a351fb392d4384ab2b49a50336878a",
       "version_major": 2,
       "version_minor": 0
      },
      "text/plain": [
       "  0%|          | 0/200 [00:00<?, ?it/s]"
      ]
     },
     "metadata": {},
     "output_type": "display_data"
    },
    {
     "name": "stdout",
     "output_type": "stream",
     "text": [
      "Epoch:10/200 AVG Training Loss:0.664 AVG Validation Loss:0.663 AVG Training Acc 61.82 % AVG Validation Acc 61.91 %\n",
      "Epoch:20/200 AVG Training Loss:0.661 AVG Validation Loss:0.658 AVG Training Acc 61.87 % AVG Validation Acc 61.91 %\n",
      "Epoch:30/200 AVG Training Loss:0.658 AVG Validation Loss:0.658 AVG Training Acc 61.97 % AVG Validation Acc 61.91 %\n",
      "Epoch:40/200 AVG Training Loss:0.657 AVG Validation Loss:0.657 AVG Training Acc 62.02 % AVG Validation Acc 61.82 %\n",
      "Epoch    47: reducing learning rate of group 0 to 1.0000e-03.\n",
      "Epoch:50/200 AVG Training Loss:0.654 AVG Validation Loss:0.661 AVG Training Acc 62.07 % AVG Validation Acc 61.73 %\n",
      "Epoch:60/200 AVG Training Loss:0.650 AVG Validation Loss:0.666 AVG Training Acc 62.09 % AVG Validation Acc 61.73 %\n",
      "Epoch:70/200 AVG Training Loss:0.648 AVG Validation Loss:0.672 AVG Training Acc 62.30 % AVG Validation Acc 61.55 %\n",
      "Epoch    78: reducing learning rate of group 0 to 1.0000e-04.\n",
      "Epoch:80/200 AVG Training Loss:0.646 AVG Validation Loss:0.677 AVG Training Acc 62.34 % AVG Validation Acc 61.46 %\n",
      "Epoch:90/200 AVG Training Loss:0.645 AVG Validation Loss:0.678 AVG Training Acc 62.35 % AVG Validation Acc 61.55 %\n",
      "Epoch:100/200 AVG Training Loss:0.644 AVG Validation Loss:0.674 AVG Training Acc 62.39 % AVG Validation Acc 61.46 %\n",
      "Epoch   109: reducing learning rate of group 0 to 1.0000e-05.\n",
      "Epoch:110/200 AVG Training Loss:0.645 AVG Validation Loss:0.678 AVG Training Acc 62.29 % AVG Validation Acc 61.37 %\n",
      "Epoch:120/200 AVG Training Loss:0.644 AVG Validation Loss:0.680 AVG Training Acc 62.31 % AVG Validation Acc 61.46 %\n",
      "Epoch:130/200 AVG Training Loss:0.644 AVG Validation Loss:0.681 AVG Training Acc 62.43 % AVG Validation Acc 61.28 %\n",
      "Epoch:140/200 AVG Training Loss:0.643 AVG Validation Loss:0.676 AVG Training Acc 62.40 % AVG Validation Acc 61.37 %\n",
      "Epoch   140: reducing learning rate of group 0 to 1.0000e-06.\n",
      "Epoch:150/200 AVG Training Loss:0.644 AVG Validation Loss:0.676 AVG Training Acc 62.38 % AVG Validation Acc 61.28 %\n",
      "Epoch:160/200 AVG Training Loss:0.645 AVG Validation Loss:0.676 AVG Training Acc 62.21 % AVG Validation Acc 61.37 %\n",
      "Epoch:170/200 AVG Training Loss:0.644 AVG Validation Loss:0.678 AVG Training Acc 62.36 % AVG Validation Acc 61.37 %\n",
      "Epoch   171: reducing learning rate of group 0 to 1.0000e-07.\n",
      "Epoch:180/200 AVG Training Loss:0.645 AVG Validation Loss:0.680 AVG Training Acc 62.33 % AVG Validation Acc 61.37 %\n",
      "Epoch:190/200 AVG Training Loss:0.644 AVG Validation Loss:0.675 AVG Training Acc 62.44 % AVG Validation Acc 61.37 %\n",
      "Epoch:200/200 AVG Training Loss:0.644 AVG Validation Loss:0.676 AVG Training Acc 62.34 % AVG Validation Acc 61.28 %\n",
      "Split 191\n"
     ]
    },
    {
     "data": {
      "application/vnd.jupyter.widget-view+json": {
       "model_id": "ea1d815ac14940159668dc796a323924",
       "version_major": 2,
       "version_minor": 0
      },
      "text/plain": [
       "  0%|          | 0/200 [00:00<?, ?it/s]"
      ]
     },
     "metadata": {},
     "output_type": "display_data"
    },
    {
     "name": "stdout",
     "output_type": "stream",
     "text": [
      "Epoch:10/200 AVG Training Loss:0.662 AVG Validation Loss:0.661 AVG Training Acc 61.83 % AVG Validation Acc 61.95 %\n",
      "Epoch:20/200 AVG Training Loss:0.660 AVG Validation Loss:0.658 AVG Training Acc 61.86 % AVG Validation Acc 61.95 %\n",
      "Epoch:30/200 AVG Training Loss:0.659 AVG Validation Loss:0.660 AVG Training Acc 61.87 % AVG Validation Acc 61.95 %\n",
      "Epoch    30: reducing learning rate of group 0 to 1.0000e-03.\n",
      "Epoch:40/200 AVG Training Loss:0.658 AVG Validation Loss:0.658 AVG Training Acc 61.90 % AVG Validation Acc 61.95 %\n",
      "Epoch:50/200 AVG Training Loss:0.656 AVG Validation Loss:0.659 AVG Training Acc 62.07 % AVG Validation Acc 62.04 %\n",
      "Epoch:60/200 AVG Training Loss:0.655 AVG Validation Loss:0.660 AVG Training Acc 61.99 % AVG Validation Acc 61.95 %\n",
      "Epoch    61: reducing learning rate of group 0 to 1.0000e-04.\n",
      "Epoch:70/200 AVG Training Loss:0.655 AVG Validation Loss:0.660 AVG Training Acc 62.00 % AVG Validation Acc 61.95 %\n",
      "Epoch:80/200 AVG Training Loss:0.655 AVG Validation Loss:0.660 AVG Training Acc 62.04 % AVG Validation Acc 62.04 %\n",
      "Epoch:90/200 AVG Training Loss:0.654 AVG Validation Loss:0.660 AVG Training Acc 62.09 % AVG Validation Acc 62.04 %\n",
      "Epoch    92: reducing learning rate of group 0 to 1.0000e-05.\n",
      "Epoch:100/200 AVG Training Loss:0.654 AVG Validation Loss:0.660 AVG Training Acc 62.08 % AVG Validation Acc 62.04 %\n",
      "Epoch:110/200 AVG Training Loss:0.653 AVG Validation Loss:0.660 AVG Training Acc 62.09 % AVG Validation Acc 62.04 %\n",
      "Epoch:120/200 AVG Training Loss:0.654 AVG Validation Loss:0.661 AVG Training Acc 61.96 % AVG Validation Acc 62.04 %\n",
      "Epoch   123: reducing learning rate of group 0 to 1.0000e-06.\n",
      "Epoch:130/200 AVG Training Loss:0.654 AVG Validation Loss:0.661 AVG Training Acc 62.08 % AVG Validation Acc 62.04 %\n",
      "Epoch:140/200 AVG Training Loss:0.653 AVG Validation Loss:0.660 AVG Training Acc 62.05 % AVG Validation Acc 62.04 %\n",
      "Epoch:150/200 AVG Training Loss:0.654 AVG Validation Loss:0.661 AVG Training Acc 62.08 % AVG Validation Acc 62.04 %\n",
      "Epoch   154: reducing learning rate of group 0 to 1.0000e-07.\n",
      "Epoch:160/200 AVG Training Loss:0.654 AVG Validation Loss:0.661 AVG Training Acc 62.05 % AVG Validation Acc 62.04 %\n",
      "Epoch:170/200 AVG Training Loss:0.654 AVG Validation Loss:0.660 AVG Training Acc 62.11 % AVG Validation Acc 62.04 %\n",
      "Epoch:180/200 AVG Training Loss:0.654 AVG Validation Loss:0.660 AVG Training Acc 62.07 % AVG Validation Acc 61.95 %\n",
      "Epoch   185: reducing learning rate of group 0 to 1.0000e-08.\n",
      "Epoch:190/200 AVG Training Loss:0.654 AVG Validation Loss:0.661 AVG Training Acc 62.01 % AVG Validation Acc 62.04 %\n",
      "Epoch:200/200 AVG Training Loss:0.653 AVG Validation Loss:0.661 AVG Training Acc 62.03 % AVG Validation Acc 61.95 %\n",
      "Split 192\n"
     ]
    },
    {
     "data": {
      "application/vnd.jupyter.widget-view+json": {
       "model_id": "8d40f4b729ea43cfac637738675f05a7",
       "version_major": 2,
       "version_minor": 0
      },
      "text/plain": [
       "  0%|          | 0/200 [00:00<?, ?it/s]"
      ]
     },
     "metadata": {},
     "output_type": "display_data"
    },
    {
     "name": "stdout",
     "output_type": "stream",
     "text": [
      "Epoch:10/200 AVG Training Loss:0.664 AVG Validation Loss:0.664 AVG Training Acc 61.90 % AVG Validation Acc 61.86 %\n",
      "Epoch:20/200 AVG Training Loss:0.660 AVG Validation Loss:0.664 AVG Training Acc 61.90 % AVG Validation Acc 61.86 %\n",
      "Epoch:30/200 AVG Training Loss:0.660 AVG Validation Loss:0.665 AVG Training Acc 61.87 % AVG Validation Acc 61.86 %\n",
      "Epoch    31: reducing learning rate of group 0 to 1.0000e-03.\n",
      "Epoch:40/200 AVG Training Loss:0.658 AVG Validation Loss:0.664 AVG Training Acc 61.93 % AVG Validation Acc 61.86 %\n",
      "Epoch:50/200 AVG Training Loss:0.656 AVG Validation Loss:0.663 AVG Training Acc 62.03 % AVG Validation Acc 61.86 %\n",
      "Epoch:60/200 AVG Training Loss:0.654 AVG Validation Loss:0.664 AVG Training Acc 61.99 % AVG Validation Acc 61.77 %\n",
      "Epoch    62: reducing learning rate of group 0 to 1.0000e-04.\n",
      "Epoch:70/200 AVG Training Loss:0.654 AVG Validation Loss:0.664 AVG Training Acc 61.98 % AVG Validation Acc 61.86 %\n",
      "Epoch:80/200 AVG Training Loss:0.654 AVG Validation Loss:0.664 AVG Training Acc 62.06 % AVG Validation Acc 61.86 %\n",
      "Epoch:90/200 AVG Training Loss:0.653 AVG Validation Loss:0.664 AVG Training Acc 62.06 % AVG Validation Acc 61.86 %\n",
      "Epoch    93: reducing learning rate of group 0 to 1.0000e-05.\n",
      "Epoch:100/200 AVG Training Loss:0.653 AVG Validation Loss:0.664 AVG Training Acc 62.07 % AVG Validation Acc 61.86 %\n",
      "Epoch:110/200 AVG Training Loss:0.654 AVG Validation Loss:0.665 AVG Training Acc 61.99 % AVG Validation Acc 61.86 %\n",
      "Epoch:120/200 AVG Training Loss:0.653 AVG Validation Loss:0.664 AVG Training Acc 61.99 % AVG Validation Acc 61.86 %\n",
      "Epoch   124: reducing learning rate of group 0 to 1.0000e-06.\n",
      "Epoch:130/200 AVG Training Loss:0.654 AVG Validation Loss:0.664 AVG Training Acc 61.95 % AVG Validation Acc 61.86 %\n",
      "Epoch:140/200 AVG Training Loss:0.654 AVG Validation Loss:0.664 AVG Training Acc 61.98 % AVG Validation Acc 61.86 %\n",
      "Epoch:150/200 AVG Training Loss:0.654 AVG Validation Loss:0.665 AVG Training Acc 61.99 % AVG Validation Acc 61.86 %\n",
      "Epoch   155: reducing learning rate of group 0 to 1.0000e-07.\n",
      "Epoch:160/200 AVG Training Loss:0.654 AVG Validation Loss:0.664 AVG Training Acc 61.99 % AVG Validation Acc 61.86 %\n",
      "Epoch:170/200 AVG Training Loss:0.654 AVG Validation Loss:0.664 AVG Training Acc 62.08 % AVG Validation Acc 61.86 %\n",
      "Epoch:180/200 AVG Training Loss:0.653 AVG Validation Loss:0.664 AVG Training Acc 62.02 % AVG Validation Acc 61.86 %\n",
      "Epoch   186: reducing learning rate of group 0 to 1.0000e-08.\n",
      "Epoch:190/200 AVG Training Loss:0.654 AVG Validation Loss:0.665 AVG Training Acc 61.97 % AVG Validation Acc 61.86 %\n",
      "Epoch:200/200 AVG Training Loss:0.654 AVG Validation Loss:0.664 AVG Training Acc 61.95 % AVG Validation Acc 61.86 %\n",
      "Split 193\n"
     ]
    },
    {
     "data": {
      "application/vnd.jupyter.widget-view+json": {
       "model_id": "8528c0715f854aa491f0df8b379f7de2",
       "version_major": 2,
       "version_minor": 0
      },
      "text/plain": [
       "  0%|          | 0/200 [00:00<?, ?it/s]"
      ]
     },
     "metadata": {},
     "output_type": "display_data"
    },
    {
     "name": "stdout",
     "output_type": "stream",
     "text": [
      "Epoch:10/200 AVG Training Loss:0.664 AVG Validation Loss:0.662 AVG Training Acc 61.88 % AVG Validation Acc 61.86 %\n",
      "Epoch:20/200 AVG Training Loss:0.660 AVG Validation Loss:0.660 AVG Training Acc 61.95 % AVG Validation Acc 61.86 %\n",
      "Epoch:30/200 AVG Training Loss:0.659 AVG Validation Loss:0.663 AVG Training Acc 62.05 % AVG Validation Acc 61.68 %\n",
      "Epoch    30: reducing learning rate of group 0 to 1.0000e-03.\n",
      "Epoch:40/200 AVG Training Loss:0.655 AVG Validation Loss:0.664 AVG Training Acc 62.06 % AVG Validation Acc 61.86 %\n",
      "Epoch:50/200 AVG Training Loss:0.653 AVG Validation Loss:0.667 AVG Training Acc 62.12 % AVG Validation Acc 61.68 %\n",
      "Epoch:60/200 AVG Training Loss:0.652 AVG Validation Loss:0.668 AVG Training Acc 62.07 % AVG Validation Acc 61.59 %\n",
      "Epoch    61: reducing learning rate of group 0 to 1.0000e-04.\n",
      "Epoch:70/200 AVG Training Loss:0.651 AVG Validation Loss:0.668 AVG Training Acc 62.07 % AVG Validation Acc 61.59 %\n",
      "Epoch:80/200 AVG Training Loss:0.651 AVG Validation Loss:0.668 AVG Training Acc 62.15 % AVG Validation Acc 61.68 %\n",
      "Epoch:90/200 AVG Training Loss:0.650 AVG Validation Loss:0.668 AVG Training Acc 62.06 % AVG Validation Acc 61.59 %\n",
      "Epoch    92: reducing learning rate of group 0 to 1.0000e-05.\n",
      "Epoch:100/200 AVG Training Loss:0.650 AVG Validation Loss:0.668 AVG Training Acc 62.14 % AVG Validation Acc 61.68 %\n",
      "Epoch:110/200 AVG Training Loss:0.650 AVG Validation Loss:0.668 AVG Training Acc 62.16 % AVG Validation Acc 61.68 %\n",
      "Epoch:120/200 AVG Training Loss:0.651 AVG Validation Loss:0.668 AVG Training Acc 62.14 % AVG Validation Acc 61.68 %\n",
      "Epoch   123: reducing learning rate of group 0 to 1.0000e-06.\n",
      "Epoch:130/200 AVG Training Loss:0.651 AVG Validation Loss:0.668 AVG Training Acc 62.03 % AVG Validation Acc 61.68 %\n",
      "Epoch:140/200 AVG Training Loss:0.650 AVG Validation Loss:0.667 AVG Training Acc 62.21 % AVG Validation Acc 61.68 %\n",
      "Epoch:150/200 AVG Training Loss:0.650 AVG Validation Loss:0.668 AVG Training Acc 62.17 % AVG Validation Acc 61.68 %\n",
      "Epoch   154: reducing learning rate of group 0 to 1.0000e-07.\n",
      "Epoch:160/200 AVG Training Loss:0.650 AVG Validation Loss:0.668 AVG Training Acc 62.22 % AVG Validation Acc 61.68 %\n",
      "Epoch:170/200 AVG Training Loss:0.649 AVG Validation Loss:0.668 AVG Training Acc 62.21 % AVG Validation Acc 61.59 %\n",
      "Epoch:180/200 AVG Training Loss:0.650 AVG Validation Loss:0.668 AVG Training Acc 62.14 % AVG Validation Acc 61.68 %\n",
      "Epoch   185: reducing learning rate of group 0 to 1.0000e-08.\n",
      "Epoch:190/200 AVG Training Loss:0.650 AVG Validation Loss:0.667 AVG Training Acc 62.15 % AVG Validation Acc 61.68 %\n",
      "Epoch:200/200 AVG Training Loss:0.651 AVG Validation Loss:0.668 AVG Training Acc 62.12 % AVG Validation Acc 61.59 %\n",
      "Split 194\n"
     ]
    },
    {
     "data": {
      "application/vnd.jupyter.widget-view+json": {
       "model_id": "d010f1ed30da4ab7afd9e4668852a425",
       "version_major": 2,
       "version_minor": 0
      },
      "text/plain": [
       "  0%|          | 0/200 [00:00<?, ?it/s]"
      ]
     },
     "metadata": {},
     "output_type": "display_data"
    },
    {
     "name": "stdout",
     "output_type": "stream",
     "text": [
      "Epoch:10/200 AVG Training Loss:0.664 AVG Validation Loss:0.669 AVG Training Acc 61.91 % AVG Validation Acc 61.86 %\n",
      "Epoch:20/200 AVG Training Loss:0.661 AVG Validation Loss:0.660 AVG Training Acc 61.93 % AVG Validation Acc 61.86 %\n",
      "Epoch:30/200 AVG Training Loss:0.660 AVG Validation Loss:0.657 AVG Training Acc 61.88 % AVG Validation Acc 61.86 %\n",
      "Epoch    39: reducing learning rate of group 0 to 1.0000e-03.\n",
      "Epoch:40/200 AVG Training Loss:0.657 AVG Validation Loss:0.656 AVG Training Acc 61.95 % AVG Validation Acc 61.95 %\n",
      "Epoch:50/200 AVG Training Loss:0.654 AVG Validation Loss:0.655 AVG Training Acc 62.10 % AVG Validation Acc 61.95 %\n",
      "Epoch:60/200 AVG Training Loss:0.652 AVG Validation Loss:0.655 AVG Training Acc 62.32 % AVG Validation Acc 61.77 %\n",
      "Epoch:70/200 AVG Training Loss:0.651 AVG Validation Loss:0.656 AVG Training Acc 62.27 % AVG Validation Acc 61.68 %\n",
      "Epoch    70: reducing learning rate of group 0 to 1.0000e-04.\n",
      "Epoch:80/200 AVG Training Loss:0.649 AVG Validation Loss:0.656 AVG Training Acc 62.24 % AVG Validation Acc 61.68 %\n",
      "Epoch:90/200 AVG Training Loss:0.650 AVG Validation Loss:0.656 AVG Training Acc 62.27 % AVG Validation Acc 61.68 %\n",
      "Epoch:100/200 AVG Training Loss:0.649 AVG Validation Loss:0.657 AVG Training Acc 62.31 % AVG Validation Acc 61.68 %\n",
      "Epoch   101: reducing learning rate of group 0 to 1.0000e-05.\n",
      "Epoch:110/200 AVG Training Loss:0.648 AVG Validation Loss:0.657 AVG Training Acc 62.33 % AVG Validation Acc 61.68 %\n",
      "Epoch:120/200 AVG Training Loss:0.649 AVG Validation Loss:0.657 AVG Training Acc 62.24 % AVG Validation Acc 61.68 %\n",
      "Epoch:130/200 AVG Training Loss:0.649 AVG Validation Loss:0.657 AVG Training Acc 62.30 % AVG Validation Acc 61.68 %\n",
      "Epoch   132: reducing learning rate of group 0 to 1.0000e-06.\n",
      "Epoch:140/200 AVG Training Loss:0.649 AVG Validation Loss:0.657 AVG Training Acc 62.23 % AVG Validation Acc 61.68 %\n",
      "Epoch:150/200 AVG Training Loss:0.649 AVG Validation Loss:0.657 AVG Training Acc 62.27 % AVG Validation Acc 61.68 %\n",
      "Epoch:160/200 AVG Training Loss:0.649 AVG Validation Loss:0.657 AVG Training Acc 62.24 % AVG Validation Acc 61.68 %\n",
      "Epoch   163: reducing learning rate of group 0 to 1.0000e-07.\n",
      "Epoch:170/200 AVG Training Loss:0.649 AVG Validation Loss:0.657 AVG Training Acc 62.26 % AVG Validation Acc 61.68 %\n",
      "Epoch:180/200 AVG Training Loss:0.650 AVG Validation Loss:0.657 AVG Training Acc 62.25 % AVG Validation Acc 61.68 %\n",
      "Epoch:190/200 AVG Training Loss:0.649 AVG Validation Loss:0.657 AVG Training Acc 62.34 % AVG Validation Acc 61.68 %\n",
      "Epoch   194: reducing learning rate of group 0 to 1.0000e-08.\n",
      "Epoch:200/200 AVG Training Loss:0.649 AVG Validation Loss:0.657 AVG Training Acc 62.35 % AVG Validation Acc 61.68 %\n",
      "Split 195\n"
     ]
    },
    {
     "data": {
      "application/vnd.jupyter.widget-view+json": {
       "model_id": "8a1e98cfedf94a1193fe0d46ce576580",
       "version_major": 2,
       "version_minor": 0
      },
      "text/plain": [
       "  0%|          | 0/200 [00:00<?, ?it/s]"
      ]
     },
     "metadata": {},
     "output_type": "display_data"
    },
    {
     "name": "stdout",
     "output_type": "stream",
     "text": [
      "Epoch:10/200 AVG Training Loss:0.663 AVG Validation Loss:0.662 AVG Training Acc 61.89 % AVG Validation Acc 61.86 %\n",
      "Epoch:20/200 AVG Training Loss:0.660 AVG Validation Loss:0.659 AVG Training Acc 61.94 % AVG Validation Acc 61.86 %\n",
      "Epoch:30/200 AVG Training Loss:0.661 AVG Validation Loss:0.660 AVG Training Acc 61.87 % AVG Validation Acc 61.86 %\n",
      "Epoch:40/200 AVG Training Loss:0.660 AVG Validation Loss:0.659 AVG Training Acc 61.92 % AVG Validation Acc 61.86 %\n",
      "Epoch    40: reducing learning rate of group 0 to 1.0000e-03.\n",
      "Epoch:50/200 AVG Training Loss:0.658 AVG Validation Loss:0.657 AVG Training Acc 62.01 % AVG Validation Acc 61.77 %\n",
      "Epoch:60/200 AVG Training Loss:0.657 AVG Validation Loss:0.657 AVG Training Acc 62.05 % AVG Validation Acc 61.95 %\n",
      "Epoch:70/200 AVG Training Loss:0.656 AVG Validation Loss:0.657 AVG Training Acc 62.03 % AVG Validation Acc 62.04 %\n",
      "Epoch    71: reducing learning rate of group 0 to 1.0000e-04.\n",
      "Epoch:80/200 AVG Training Loss:0.656 AVG Validation Loss:0.657 AVG Training Acc 62.09 % AVG Validation Acc 62.04 %\n",
      "Epoch:90/200 AVG Training Loss:0.656 AVG Validation Loss:0.657 AVG Training Acc 62.01 % AVG Validation Acc 62.04 %\n",
      "Epoch:100/200 AVG Training Loss:0.656 AVG Validation Loss:0.658 AVG Training Acc 62.05 % AVG Validation Acc 62.04 %\n",
      "Epoch   102: reducing learning rate of group 0 to 1.0000e-05.\n",
      "Epoch:110/200 AVG Training Loss:0.656 AVG Validation Loss:0.658 AVG Training Acc 62.14 % AVG Validation Acc 62.04 %\n",
      "Epoch:120/200 AVG Training Loss:0.656 AVG Validation Loss:0.657 AVG Training Acc 62.13 % AVG Validation Acc 62.04 %\n",
      "Epoch:130/200 AVG Training Loss:0.656 AVG Validation Loss:0.657 AVG Training Acc 62.03 % AVG Validation Acc 62.04 %\n",
      "Epoch   133: reducing learning rate of group 0 to 1.0000e-06.\n",
      "Epoch:140/200 AVG Training Loss:0.656 AVG Validation Loss:0.657 AVG Training Acc 62.04 % AVG Validation Acc 62.04 %\n",
      "Epoch:150/200 AVG Training Loss:0.655 AVG Validation Loss:0.658 AVG Training Acc 62.04 % AVG Validation Acc 62.04 %\n",
      "Epoch:160/200 AVG Training Loss:0.655 AVG Validation Loss:0.658 AVG Training Acc 62.04 % AVG Validation Acc 62.04 %\n",
      "Epoch   164: reducing learning rate of group 0 to 1.0000e-07.\n",
      "Epoch:170/200 AVG Training Loss:0.655 AVG Validation Loss:0.657 AVG Training Acc 62.04 % AVG Validation Acc 61.95 %\n",
      "Epoch:180/200 AVG Training Loss:0.655 AVG Validation Loss:0.658 AVG Training Acc 62.11 % AVG Validation Acc 62.04 %\n",
      "Epoch:190/200 AVG Training Loss:0.655 AVG Validation Loss:0.658 AVG Training Acc 62.11 % AVG Validation Acc 62.04 %\n",
      "Epoch   195: reducing learning rate of group 0 to 1.0000e-08.\n",
      "Epoch:200/200 AVG Training Loss:0.655 AVG Validation Loss:0.657 AVG Training Acc 62.06 % AVG Validation Acc 62.04 %\n",
      "Split 196\n"
     ]
    },
    {
     "data": {
      "application/vnd.jupyter.widget-view+json": {
       "model_id": "0ef980197e1149c2b42ffe1c1993803e",
       "version_major": 2,
       "version_minor": 0
      },
      "text/plain": [
       "  0%|          | 0/200 [00:00<?, ?it/s]"
      ]
     },
     "metadata": {},
     "output_type": "display_data"
    },
    {
     "name": "stdout",
     "output_type": "stream",
     "text": [
      "Epoch:10/200 AVG Training Loss:0.662 AVG Validation Loss:0.663 AVG Training Acc 61.90 % AVG Validation Acc 61.91 %\n",
      "Epoch:20/200 AVG Training Loss:0.660 AVG Validation Loss:0.661 AVG Training Acc 61.90 % AVG Validation Acc 61.91 %\n",
      "Epoch:30/200 AVG Training Loss:0.660 AVG Validation Loss:0.660 AVG Training Acc 61.94 % AVG Validation Acc 61.91 %\n",
      "Epoch:40/200 AVG Training Loss:0.659 AVG Validation Loss:0.661 AVG Training Acc 61.71 % AVG Validation Acc 61.91 %\n",
      "Epoch    42: reducing learning rate of group 0 to 1.0000e-03.\n",
      "Epoch:50/200 AVG Training Loss:0.653 AVG Validation Loss:0.664 AVG Training Acc 61.93 % AVG Validation Acc 61.91 %\n",
      "Epoch:60/200 AVG Training Loss:0.651 AVG Validation Loss:0.667 AVG Training Acc 61.97 % AVG Validation Acc 61.91 %\n",
      "Epoch:70/200 AVG Training Loss:0.650 AVG Validation Loss:0.666 AVG Training Acc 61.96 % AVG Validation Acc 62.09 %\n",
      "Epoch    73: reducing learning rate of group 0 to 1.0000e-04.\n",
      "Epoch:80/200 AVG Training Loss:0.647 AVG Validation Loss:0.669 AVG Training Acc 62.09 % AVG Validation Acc 62.09 %\n",
      "Epoch:90/200 AVG Training Loss:0.646 AVG Validation Loss:0.670 AVG Training Acc 62.09 % AVG Validation Acc 62.09 %\n",
      "Epoch:100/200 AVG Training Loss:0.645 AVG Validation Loss:0.669 AVG Training Acc 62.01 % AVG Validation Acc 62.09 %\n",
      "Epoch   104: reducing learning rate of group 0 to 1.0000e-05.\n",
      "Epoch:110/200 AVG Training Loss:0.647 AVG Validation Loss:0.670 AVG Training Acc 62.05 % AVG Validation Acc 62.00 %\n",
      "Epoch:120/200 AVG Training Loss:0.646 AVG Validation Loss:0.670 AVG Training Acc 62.10 % AVG Validation Acc 62.09 %\n",
      "Epoch:130/200 AVG Training Loss:0.647 AVG Validation Loss:0.669 AVG Training Acc 62.13 % AVG Validation Acc 62.09 %\n",
      "Epoch   135: reducing learning rate of group 0 to 1.0000e-06.\n",
      "Epoch:140/200 AVG Training Loss:0.647 AVG Validation Loss:0.671 AVG Training Acc 62.04 % AVG Validation Acc 62.09 %\n",
      "Epoch:150/200 AVG Training Loss:0.646 AVG Validation Loss:0.670 AVG Training Acc 62.11 % AVG Validation Acc 62.09 %\n",
      "Epoch:160/200 AVG Training Loss:0.646 AVG Validation Loss:0.671 AVG Training Acc 61.98 % AVG Validation Acc 62.09 %\n",
      "Epoch   166: reducing learning rate of group 0 to 1.0000e-07.\n",
      "Epoch:170/200 AVG Training Loss:0.647 AVG Validation Loss:0.671 AVG Training Acc 62.08 % AVG Validation Acc 62.09 %\n",
      "Epoch:180/200 AVG Training Loss:0.645 AVG Validation Loss:0.669 AVG Training Acc 62.10 % AVG Validation Acc 62.09 %\n",
      "Epoch:190/200 AVG Training Loss:0.646 AVG Validation Loss:0.670 AVG Training Acc 62.07 % AVG Validation Acc 62.00 %\n",
      "Epoch   197: reducing learning rate of group 0 to 1.0000e-08.\n",
      "Epoch:200/200 AVG Training Loss:0.647 AVG Validation Loss:0.671 AVG Training Acc 62.03 % AVG Validation Acc 62.09 %\n",
      "Split 197\n"
     ]
    },
    {
     "data": {
      "application/vnd.jupyter.widget-view+json": {
       "model_id": "b8610ceaeb3b4cd48dd23377d323e902",
       "version_major": 2,
       "version_minor": 0
      },
      "text/plain": [
       "  0%|          | 0/200 [00:00<?, ?it/s]"
      ]
     },
     "metadata": {},
     "output_type": "display_data"
    },
    {
     "name": "stdout",
     "output_type": "stream",
     "text": [
      "Epoch:10/200 AVG Training Loss:0.664 AVG Validation Loss:0.665 AVG Training Acc 61.83 % AVG Validation Acc 61.91 %\n",
      "Epoch:20/200 AVG Training Loss:0.660 AVG Validation Loss:0.664 AVG Training Acc 61.90 % AVG Validation Acc 61.91 %\n",
      "Epoch    27: reducing learning rate of group 0 to 1.0000e-03.\n",
      "Epoch:30/200 AVG Training Loss:0.658 AVG Validation Loss:0.665 AVG Training Acc 61.92 % AVG Validation Acc 61.91 %\n",
      "Epoch:40/200 AVG Training Loss:0.656 AVG Validation Loss:0.669 AVG Training Acc 61.91 % AVG Validation Acc 62.18 %\n",
      "Epoch:50/200 AVG Training Loss:0.655 AVG Validation Loss:0.670 AVG Training Acc 61.97 % AVG Validation Acc 62.18 %\n",
      "Epoch    58: reducing learning rate of group 0 to 1.0000e-04.\n",
      "Epoch:60/200 AVG Training Loss:0.654 AVG Validation Loss:0.671 AVG Training Acc 61.97 % AVG Validation Acc 62.09 %\n",
      "Epoch:70/200 AVG Training Loss:0.654 AVG Validation Loss:0.673 AVG Training Acc 61.94 % AVG Validation Acc 62.00 %\n",
      "Epoch:80/200 AVG Training Loss:0.654 AVG Validation Loss:0.673 AVG Training Acc 61.94 % AVG Validation Acc 62.00 %\n",
      "Epoch    89: reducing learning rate of group 0 to 1.0000e-05.\n",
      "Epoch:90/200 AVG Training Loss:0.653 AVG Validation Loss:0.673 AVG Training Acc 62.00 % AVG Validation Acc 62.18 %\n",
      "Epoch:100/200 AVG Training Loss:0.653 AVG Validation Loss:0.673 AVG Training Acc 61.98 % AVG Validation Acc 62.18 %\n",
      "Epoch:110/200 AVG Training Loss:0.654 AVG Validation Loss:0.673 AVG Training Acc 61.96 % AVG Validation Acc 62.18 %\n",
      "Epoch:120/200 AVG Training Loss:0.654 AVG Validation Loss:0.672 AVG Training Acc 62.02 % AVG Validation Acc 62.18 %\n",
      "Epoch   120: reducing learning rate of group 0 to 1.0000e-06.\n",
      "Epoch:130/200 AVG Training Loss:0.653 AVG Validation Loss:0.672 AVG Training Acc 61.96 % AVG Validation Acc 62.18 %\n",
      "Epoch:140/200 AVG Training Loss:0.653 AVG Validation Loss:0.672 AVG Training Acc 61.94 % AVG Validation Acc 62.18 %\n",
      "Epoch:150/200 AVG Training Loss:0.654 AVG Validation Loss:0.672 AVG Training Acc 62.00 % AVG Validation Acc 62.18 %\n",
      "Epoch   151: reducing learning rate of group 0 to 1.0000e-07.\n",
      "Epoch:160/200 AVG Training Loss:0.653 AVG Validation Loss:0.672 AVG Training Acc 62.02 % AVG Validation Acc 62.18 %\n",
      "Epoch:170/200 AVG Training Loss:0.653 AVG Validation Loss:0.673 AVG Training Acc 61.98 % AVG Validation Acc 62.18 %\n",
      "Epoch:180/200 AVG Training Loss:0.653 AVG Validation Loss:0.672 AVG Training Acc 61.93 % AVG Validation Acc 62.18 %\n",
      "Epoch   182: reducing learning rate of group 0 to 1.0000e-08.\n",
      "Epoch:190/200 AVG Training Loss:0.653 AVG Validation Loss:0.673 AVG Training Acc 61.99 % AVG Validation Acc 62.18 %\n",
      "Epoch:200/200 AVG Training Loss:0.654 AVG Validation Loss:0.672 AVG Training Acc 61.98 % AVG Validation Acc 62.18 %\n",
      "Split 198\n"
     ]
    },
    {
     "data": {
      "application/vnd.jupyter.widget-view+json": {
       "model_id": "b3b261ee276640258d1f91a357405716",
       "version_major": 2,
       "version_minor": 0
      },
      "text/plain": [
       "  0%|          | 0/200 [00:00<?, ?it/s]"
      ]
     },
     "metadata": {},
     "output_type": "display_data"
    },
    {
     "name": "stdout",
     "output_type": "stream",
     "text": [
      "Epoch:10/200 AVG Training Loss:0.665 AVG Validation Loss:0.659 AVG Training Acc 61.89 % AVG Validation Acc 61.91 %\n",
      "Epoch:20/200 AVG Training Loss:0.662 AVG Validation Loss:0.656 AVG Training Acc 61.88 % AVG Validation Acc 62.00 %\n",
      "Epoch    29: reducing learning rate of group 0 to 1.0000e-03.\n",
      "Epoch:30/200 AVG Training Loss:0.659 AVG Validation Loss:0.657 AVG Training Acc 61.83 % AVG Validation Acc 62.18 %\n",
      "Epoch:40/200 AVG Training Loss:0.656 AVG Validation Loss:0.659 AVG Training Acc 61.95 % AVG Validation Acc 62.00 %\n",
      "Epoch:50/200 AVG Training Loss:0.656 AVG Validation Loss:0.658 AVG Training Acc 61.93 % AVG Validation Acc 62.00 %\n",
      "Epoch:60/200 AVG Training Loss:0.654 AVG Validation Loss:0.665 AVG Training Acc 62.02 % AVG Validation Acc 62.18 %\n",
      "Epoch    60: reducing learning rate of group 0 to 1.0000e-04.\n",
      "Epoch:70/200 AVG Training Loss:0.653 AVG Validation Loss:0.661 AVG Training Acc 62.12 % AVG Validation Acc 62.18 %\n",
      "Epoch:80/200 AVG Training Loss:0.653 AVG Validation Loss:0.660 AVG Training Acc 62.15 % AVG Validation Acc 62.09 %\n",
      "Epoch:90/200 AVG Training Loss:0.651 AVG Validation Loss:0.661 AVG Training Acc 62.16 % AVG Validation Acc 62.09 %\n",
      "Epoch    91: reducing learning rate of group 0 to 1.0000e-05.\n",
      "Epoch:100/200 AVG Training Loss:0.653 AVG Validation Loss:0.661 AVG Training Acc 62.07 % AVG Validation Acc 62.09 %\n",
      "Epoch:110/200 AVG Training Loss:0.653 AVG Validation Loss:0.662 AVG Training Acc 62.12 % AVG Validation Acc 62.09 %\n",
      "Epoch:120/200 AVG Training Loss:0.652 AVG Validation Loss:0.662 AVG Training Acc 62.08 % AVG Validation Acc 62.09 %\n",
      "Epoch   122: reducing learning rate of group 0 to 1.0000e-06.\n",
      "Epoch:130/200 AVG Training Loss:0.653 AVG Validation Loss:0.661 AVG Training Acc 62.05 % AVG Validation Acc 62.09 %\n",
      "Epoch:140/200 AVG Training Loss:0.652 AVG Validation Loss:0.661 AVG Training Acc 62.11 % AVG Validation Acc 62.09 %\n",
      "Epoch:150/200 AVG Training Loss:0.652 AVG Validation Loss:0.662 AVG Training Acc 62.13 % AVG Validation Acc 62.09 %\n",
      "Epoch   153: reducing learning rate of group 0 to 1.0000e-07.\n",
      "Epoch:160/200 AVG Training Loss:0.653 AVG Validation Loss:0.661 AVG Training Acc 62.07 % AVG Validation Acc 62.09 %\n",
      "Epoch:170/200 AVG Training Loss:0.653 AVG Validation Loss:0.663 AVG Training Acc 62.15 % AVG Validation Acc 62.09 %\n",
      "Epoch:180/200 AVG Training Loss:0.652 AVG Validation Loss:0.662 AVG Training Acc 62.05 % AVG Validation Acc 62.09 %\n",
      "Epoch   184: reducing learning rate of group 0 to 1.0000e-08.\n",
      "Epoch:190/200 AVG Training Loss:0.653 AVG Validation Loss:0.662 AVG Training Acc 62.18 % AVG Validation Acc 62.09 %\n",
      "Epoch:200/200 AVG Training Loss:0.652 AVG Validation Loss:0.662 AVG Training Acc 62.06 % AVG Validation Acc 62.09 %\n",
      "Split 199\n"
     ]
    },
    {
     "data": {
      "application/vnd.jupyter.widget-view+json": {
       "model_id": "07430e720f14412c9b67a9b6db6d29e4",
       "version_major": 2,
       "version_minor": 0
      },
      "text/plain": [
       "  0%|          | 0/200 [00:00<?, ?it/s]"
      ]
     },
     "metadata": {},
     "output_type": "display_data"
    },
    {
     "name": "stdout",
     "output_type": "stream",
     "text": [
      "Epoch:10/200 AVG Training Loss:0.664 AVG Validation Loss:0.665 AVG Training Acc 61.89 % AVG Validation Acc 61.91 %\n",
      "Epoch:20/200 AVG Training Loss:0.663 AVG Validation Loss:0.662 AVG Training Acc 61.90 % AVG Validation Acc 61.91 %\n",
      "Epoch:30/200 AVG Training Loss:0.658 AVG Validation Loss:0.661 AVG Training Acc 62.01 % AVG Validation Acc 61.82 %\n",
      "Epoch:40/200 AVG Training Loss:0.658 AVG Validation Loss:0.660 AVG Training Acc 62.04 % AVG Validation Acc 62.09 %\n",
      "Epoch    46: reducing learning rate of group 0 to 1.0000e-03.\n",
      "Epoch:50/200 AVG Training Loss:0.655 AVG Validation Loss:0.663 AVG Training Acc 62.08 % AVG Validation Acc 61.64 %\n",
      "Epoch:60/200 AVG Training Loss:0.652 AVG Validation Loss:0.665 AVG Training Acc 62.21 % AVG Validation Acc 61.55 %\n",
      "Epoch:70/200 AVG Training Loss:0.651 AVG Validation Loss:0.667 AVG Training Acc 62.17 % AVG Validation Acc 61.55 %\n",
      "Epoch    77: reducing learning rate of group 0 to 1.0000e-04.\n",
      "Epoch:80/200 AVG Training Loss:0.649 AVG Validation Loss:0.669 AVG Training Acc 62.22 % AVG Validation Acc 61.55 %\n",
      "Epoch:90/200 AVG Training Loss:0.648 AVG Validation Loss:0.668 AVG Training Acc 62.38 % AVG Validation Acc 61.55 %\n",
      "Epoch:100/200 AVG Training Loss:0.648 AVG Validation Loss:0.668 AVG Training Acc 62.35 % AVG Validation Acc 61.64 %\n",
      "Epoch   108: reducing learning rate of group 0 to 1.0000e-05.\n",
      "Epoch:110/200 AVG Training Loss:0.648 AVG Validation Loss:0.668 AVG Training Acc 62.32 % AVG Validation Acc 61.64 %\n",
      "Epoch:120/200 AVG Training Loss:0.647 AVG Validation Loss:0.668 AVG Training Acc 62.35 % AVG Validation Acc 61.64 %\n",
      "Epoch:130/200 AVG Training Loss:0.647 AVG Validation Loss:0.667 AVG Training Acc 62.48 % AVG Validation Acc 61.64 %\n",
      "Epoch   139: reducing learning rate of group 0 to 1.0000e-06.\n",
      "Epoch:140/200 AVG Training Loss:0.648 AVG Validation Loss:0.667 AVG Training Acc 62.46 % AVG Validation Acc 61.64 %\n",
      "Epoch:150/200 AVG Training Loss:0.648 AVG Validation Loss:0.668 AVG Training Acc 62.36 % AVG Validation Acc 61.64 %\n",
      "Epoch:160/200 AVG Training Loss:0.649 AVG Validation Loss:0.667 AVG Training Acc 62.38 % AVG Validation Acc 61.55 %\n",
      "Epoch:170/200 AVG Training Loss:0.648 AVG Validation Loss:0.668 AVG Training Acc 62.35 % AVG Validation Acc 61.64 %\n",
      "Epoch   170: reducing learning rate of group 0 to 1.0000e-07.\n",
      "Epoch:180/200 AVG Training Loss:0.647 AVG Validation Loss:0.668 AVG Training Acc 62.41 % AVG Validation Acc 61.64 %\n",
      "Epoch:190/200 AVG Training Loss:0.648 AVG Validation Loss:0.668 AVG Training Acc 62.38 % AVG Validation Acc 61.55 %\n",
      "Epoch:200/200 AVG Training Loss:0.648 AVG Validation Loss:0.667 AVG Training Acc 62.44 % AVG Validation Acc 61.73 %\n",
      "Split 200\n"
     ]
    },
    {
     "data": {
      "application/vnd.jupyter.widget-view+json": {
       "model_id": "c89848e3caf94437b34196cd6b202b11",
       "version_major": 2,
       "version_minor": 0
      },
      "text/plain": [
       "  0%|          | 0/200 [00:00<?, ?it/s]"
      ]
     },
     "metadata": {},
     "output_type": "display_data"
    },
    {
     "name": "stdout",
     "output_type": "stream",
     "text": [
      "Epoch:10/200 AVG Training Loss:0.663 AVG Validation Loss:0.664 AVG Training Acc 61.88 % AVG Validation Acc 61.91 %\n",
      "Epoch:20/200 AVG Training Loss:0.660 AVG Validation Loss:0.661 AVG Training Acc 61.86 % AVG Validation Acc 61.91 %\n",
      "Epoch    27: reducing learning rate of group 0 to 1.0000e-03.\n",
      "Epoch:30/200 AVG Training Loss:0.656 AVG Validation Loss:0.661 AVG Training Acc 61.93 % AVG Validation Acc 62.09 %\n",
      "Epoch:40/200 AVG Training Loss:0.654 AVG Validation Loss:0.661 AVG Training Acc 62.13 % AVG Validation Acc 62.18 %\n",
      "Epoch:50/200 AVG Training Loss:0.651 AVG Validation Loss:0.663 AVG Training Acc 62.11 % AVG Validation Acc 62.09 %\n",
      "Epoch    58: reducing learning rate of group 0 to 1.0000e-04.\n",
      "Epoch:60/200 AVG Training Loss:0.648 AVG Validation Loss:0.662 AVG Training Acc 62.20 % AVG Validation Acc 62.09 %\n",
      "Epoch:70/200 AVG Training Loss:0.648 AVG Validation Loss:0.661 AVG Training Acc 62.24 % AVG Validation Acc 62.09 %\n",
      "Epoch:80/200 AVG Training Loss:0.648 AVG Validation Loss:0.662 AVG Training Acc 62.30 % AVG Validation Acc 62.09 %\n",
      "Epoch    89: reducing learning rate of group 0 to 1.0000e-05.\n",
      "Epoch:90/200 AVG Training Loss:0.646 AVG Validation Loss:0.662 AVG Training Acc 62.30 % AVG Validation Acc 61.91 %\n",
      "Epoch:100/200 AVG Training Loss:0.646 AVG Validation Loss:0.662 AVG Training Acc 62.26 % AVG Validation Acc 62.00 %\n",
      "Epoch:110/200 AVG Training Loss:0.647 AVG Validation Loss:0.662 AVG Training Acc 62.27 % AVG Validation Acc 62.00 %\n",
      "Epoch:120/200 AVG Training Loss:0.647 AVG Validation Loss:0.662 AVG Training Acc 62.27 % AVG Validation Acc 62.00 %\n",
      "Epoch   120: reducing learning rate of group 0 to 1.0000e-06.\n",
      "Epoch:130/200 AVG Training Loss:0.648 AVG Validation Loss:0.662 AVG Training Acc 62.15 % AVG Validation Acc 61.91 %\n",
      "Epoch:140/200 AVG Training Loss:0.646 AVG Validation Loss:0.663 AVG Training Acc 62.23 % AVG Validation Acc 62.00 %\n",
      "Epoch:150/200 AVG Training Loss:0.647 AVG Validation Loss:0.663 AVG Training Acc 62.25 % AVG Validation Acc 62.00 %\n",
      "Epoch   151: reducing learning rate of group 0 to 1.0000e-07.\n",
      "Epoch:160/200 AVG Training Loss:0.646 AVG Validation Loss:0.662 AVG Training Acc 62.31 % AVG Validation Acc 62.00 %\n",
      "Epoch:170/200 AVG Training Loss:0.647 AVG Validation Loss:0.663 AVG Training Acc 62.34 % AVG Validation Acc 62.00 %\n",
      "Epoch:180/200 AVG Training Loss:0.646 AVG Validation Loss:0.662 AVG Training Acc 62.38 % AVG Validation Acc 62.00 %\n",
      "Epoch   182: reducing learning rate of group 0 to 1.0000e-08.\n",
      "Epoch:190/200 AVG Training Loss:0.646 AVG Validation Loss:0.663 AVG Training Acc 62.33 % AVG Validation Acc 62.00 %\n",
      "Epoch:200/200 AVG Training Loss:0.646 AVG Validation Loss:0.662 AVG Training Acc 62.26 % AVG Validation Acc 61.91 %\n",
      "Split 201\n"
     ]
    },
    {
     "data": {
      "application/vnd.jupyter.widget-view+json": {
       "model_id": "fcc40b89bdb047b7b622d0b0e2f1e71e",
       "version_major": 2,
       "version_minor": 0
      },
      "text/plain": [
       "  0%|          | 0/200 [00:00<?, ?it/s]"
      ]
     },
     "metadata": {},
     "output_type": "display_data"
    },
    {
     "name": "stdout",
     "output_type": "stream",
     "text": [
      "Epoch:10/200 AVG Training Loss:0.664 AVG Validation Loss:0.659 AVG Training Acc 61.78 % AVG Validation Acc 61.95 %\n",
      "Epoch:20/200 AVG Training Loss:0.668 AVG Validation Loss:0.663 AVG Training Acc 61.85 % AVG Validation Acc 61.95 %\n",
      "Epoch    21: reducing learning rate of group 0 to 1.0000e-03.\n",
      "Epoch:30/200 AVG Training Loss:0.662 AVG Validation Loss:0.660 AVG Training Acc 61.89 % AVG Validation Acc 61.95 %\n",
      "Epoch:40/200 AVG Training Loss:0.662 AVG Validation Loss:0.660 AVG Training Acc 61.89 % AVG Validation Acc 61.95 %\n",
      "Epoch:50/200 AVG Training Loss:0.662 AVG Validation Loss:0.659 AVG Training Acc 61.91 % AVG Validation Acc 61.95 %\n",
      "Epoch:60/200 AVG Training Loss:0.660 AVG Validation Loss:0.659 AVG Training Acc 61.92 % AVG Validation Acc 61.95 %\n",
      "Epoch:70/200 AVG Training Loss:0.660 AVG Validation Loss:0.658 AVG Training Acc 61.95 % AVG Validation Acc 61.95 %\n",
      "Epoch    79: reducing learning rate of group 0 to 1.0000e-04.\n",
      "Epoch:80/200 AVG Training Loss:0.658 AVG Validation Loss:0.659 AVG Training Acc 62.05 % AVG Validation Acc 61.95 %\n",
      "Epoch:90/200 AVG Training Loss:0.657 AVG Validation Loss:0.659 AVG Training Acc 62.06 % AVG Validation Acc 61.95 %\n",
      "Epoch:100/200 AVG Training Loss:0.656 AVG Validation Loss:0.659 AVG Training Acc 62.10 % AVG Validation Acc 61.95 %\n",
      "Epoch:110/200 AVG Training Loss:0.657 AVG Validation Loss:0.659 AVG Training Acc 61.98 % AVG Validation Acc 61.95 %\n",
      "Epoch   110: reducing learning rate of group 0 to 1.0000e-05.\n",
      "Epoch:120/200 AVG Training Loss:0.656 AVG Validation Loss:0.659 AVG Training Acc 62.17 % AVG Validation Acc 61.95 %\n",
      "Epoch:130/200 AVG Training Loss:0.657 AVG Validation Loss:0.659 AVG Training Acc 61.97 % AVG Validation Acc 61.86 %\n",
      "Epoch:140/200 AVG Training Loss:0.656 AVG Validation Loss:0.659 AVG Training Acc 61.99 % AVG Validation Acc 62.22 %\n",
      "Epoch   141: reducing learning rate of group 0 to 1.0000e-06.\n",
      "Epoch:150/200 AVG Training Loss:0.656 AVG Validation Loss:0.659 AVG Training Acc 62.03 % AVG Validation Acc 61.95 %\n",
      "Epoch:160/200 AVG Training Loss:0.656 AVG Validation Loss:0.658 AVG Training Acc 62.22 % AVG Validation Acc 62.13 %\n",
      "Epoch:170/200 AVG Training Loss:0.657 AVG Validation Loss:0.659 AVG Training Acc 62.20 % AVG Validation Acc 61.95 %\n",
      "Epoch   172: reducing learning rate of group 0 to 1.0000e-07.\n",
      "Epoch:180/200 AVG Training Loss:0.656 AVG Validation Loss:0.658 AVG Training Acc 62.07 % AVG Validation Acc 62.04 %\n",
      "Epoch:190/200 AVG Training Loss:0.656 AVG Validation Loss:0.658 AVG Training Acc 61.99 % AVG Validation Acc 62.22 %\n",
      "Epoch:200/200 AVG Training Loss:0.656 AVG Validation Loss:0.659 AVG Training Acc 62.16 % AVG Validation Acc 62.04 %\n",
      "Split 202\n"
     ]
    },
    {
     "data": {
      "application/vnd.jupyter.widget-view+json": {
       "model_id": "f1a6831eac1e4100a1cb22f4be1701b9",
       "version_major": 2,
       "version_minor": 0
      },
      "text/plain": [
       "  0%|          | 0/200 [00:00<?, ?it/s]"
      ]
     },
     "metadata": {},
     "output_type": "display_data"
    },
    {
     "name": "stdout",
     "output_type": "stream",
     "text": [
      "Epoch:10/200 AVG Training Loss:0.665 AVG Validation Loss:0.664 AVG Training Acc 61.90 % AVG Validation Acc 61.86 %\n",
      "Epoch:20/200 AVG Training Loss:0.660 AVG Validation Loss:0.662 AVG Training Acc 61.90 % AVG Validation Acc 61.86 %\n",
      "Epoch:30/200 AVG Training Loss:0.659 AVG Validation Loss:0.662 AVG Training Acc 61.96 % AVG Validation Acc 61.86 %\n",
      "Epoch:40/200 AVG Training Loss:0.660 AVG Validation Loss:0.660 AVG Training Acc 61.90 % AVG Validation Acc 61.86 %\n",
      "Epoch    46: reducing learning rate of group 0 to 1.0000e-03.\n",
      "Epoch:50/200 AVG Training Loss:0.656 AVG Validation Loss:0.662 AVG Training Acc 62.06 % AVG Validation Acc 61.86 %\n",
      "Epoch:60/200 AVG Training Loss:0.654 AVG Validation Loss:0.664 AVG Training Acc 62.22 % AVG Validation Acc 61.77 %\n",
      "Epoch:70/200 AVG Training Loss:0.653 AVG Validation Loss:0.665 AVG Training Acc 62.13 % AVG Validation Acc 61.77 %\n",
      "Epoch    77: reducing learning rate of group 0 to 1.0000e-04.\n",
      "Epoch:80/200 AVG Training Loss:0.653 AVG Validation Loss:0.664 AVG Training Acc 62.17 % AVG Validation Acc 61.59 %\n",
      "Epoch:90/200 AVG Training Loss:0.651 AVG Validation Loss:0.664 AVG Training Acc 62.29 % AVG Validation Acc 61.59 %\n",
      "Epoch:100/200 AVG Training Loss:0.652 AVG Validation Loss:0.664 AVG Training Acc 62.27 % AVG Validation Acc 61.59 %\n",
      "Epoch   108: reducing learning rate of group 0 to 1.0000e-05.\n",
      "Epoch:110/200 AVG Training Loss:0.650 AVG Validation Loss:0.665 AVG Training Acc 62.28 % AVG Validation Acc 61.59 %\n",
      "Epoch:120/200 AVG Training Loss:0.651 AVG Validation Loss:0.665 AVG Training Acc 62.23 % AVG Validation Acc 61.59 %\n",
      "Epoch:130/200 AVG Training Loss:0.652 AVG Validation Loss:0.665 AVG Training Acc 62.12 % AVG Validation Acc 61.59 %\n",
      "Epoch   139: reducing learning rate of group 0 to 1.0000e-06.\n",
      "Epoch:140/200 AVG Training Loss:0.650 AVG Validation Loss:0.665 AVG Training Acc 62.31 % AVG Validation Acc 61.59 %\n",
      "Epoch:150/200 AVG Training Loss:0.651 AVG Validation Loss:0.664 AVG Training Acc 62.18 % AVG Validation Acc 61.59 %\n",
      "Epoch:160/200 AVG Training Loss:0.651 AVG Validation Loss:0.664 AVG Training Acc 62.17 % AVG Validation Acc 61.59 %\n",
      "Epoch:170/200 AVG Training Loss:0.651 AVG Validation Loss:0.665 AVG Training Acc 62.25 % AVG Validation Acc 61.59 %\n",
      "Epoch   170: reducing learning rate of group 0 to 1.0000e-07.\n",
      "Epoch:180/200 AVG Training Loss:0.650 AVG Validation Loss:0.665 AVG Training Acc 62.23 % AVG Validation Acc 61.59 %\n",
      "Epoch:190/200 AVG Training Loss:0.650 AVG Validation Loss:0.665 AVG Training Acc 62.30 % AVG Validation Acc 61.59 %\n",
      "Epoch:200/200 AVG Training Loss:0.651 AVG Validation Loss:0.665 AVG Training Acc 62.19 % AVG Validation Acc 61.59 %\n",
      "Split 203\n"
     ]
    },
    {
     "data": {
      "application/vnd.jupyter.widget-view+json": {
       "model_id": "8d8e3c82040047b9995fb0a50d73e71a",
       "version_major": 2,
       "version_minor": 0
      },
      "text/plain": [
       "  0%|          | 0/200 [00:00<?, ?it/s]"
      ]
     },
     "metadata": {},
     "output_type": "display_data"
    },
    {
     "name": "stdout",
     "output_type": "stream",
     "text": [
      "Epoch:10/200 AVG Training Loss:0.664 AVG Validation Loss:0.665 AVG Training Acc 61.92 % AVG Validation Acc 61.86 %\n",
      "Epoch    12: reducing learning rate of group 0 to 1.0000e-03.\n",
      "Epoch:20/200 AVG Training Loss:0.662 AVG Validation Loss:0.664 AVG Training Acc 61.92 % AVG Validation Acc 61.86 %\n",
      "Epoch:30/200 AVG Training Loss:0.661 AVG Validation Loss:0.658 AVG Training Acc 61.94 % AVG Validation Acc 61.86 %\n",
      "Epoch:40/200 AVG Training Loss:0.659 AVG Validation Loss:0.657 AVG Training Acc 61.98 % AVG Validation Acc 61.95 %\n",
      "Epoch:50/200 AVG Training Loss:0.658 AVG Validation Loss:0.659 AVG Training Acc 61.95 % AVG Validation Acc 61.86 %\n",
      "Epoch:60/200 AVG Training Loss:0.658 AVG Validation Loss:0.661 AVG Training Acc 61.95 % AVG Validation Acc 61.86 %\n",
      "Epoch    60: reducing learning rate of group 0 to 1.0000e-04.\n",
      "Epoch:70/200 AVG Training Loss:0.656 AVG Validation Loss:0.662 AVG Training Acc 61.98 % AVG Validation Acc 61.86 %\n",
      "Epoch:80/200 AVG Training Loss:0.656 AVG Validation Loss:0.664 AVG Training Acc 61.98 % AVG Validation Acc 61.86 %\n",
      "Epoch:90/200 AVG Training Loss:0.655 AVG Validation Loss:0.663 AVG Training Acc 62.00 % AVG Validation Acc 61.77 %\n",
      "Epoch    91: reducing learning rate of group 0 to 1.0000e-05.\n",
      "Epoch:100/200 AVG Training Loss:0.656 AVG Validation Loss:0.663 AVG Training Acc 61.97 % AVG Validation Acc 61.77 %\n",
      "Epoch:110/200 AVG Training Loss:0.655 AVG Validation Loss:0.663 AVG Training Acc 61.99 % AVG Validation Acc 61.77 %\n",
      "Epoch:120/200 AVG Training Loss:0.655 AVG Validation Loss:0.663 AVG Training Acc 61.96 % AVG Validation Acc 61.77 %\n",
      "Epoch   122: reducing learning rate of group 0 to 1.0000e-06.\n",
      "Epoch:130/200 AVG Training Loss:0.656 AVG Validation Loss:0.663 AVG Training Acc 61.96 % AVG Validation Acc 61.77 %\n",
      "Epoch:140/200 AVG Training Loss:0.655 AVG Validation Loss:0.663 AVG Training Acc 61.99 % AVG Validation Acc 61.77 %\n",
      "Epoch:150/200 AVG Training Loss:0.656 AVG Validation Loss:0.663 AVG Training Acc 61.99 % AVG Validation Acc 61.77 %\n",
      "Epoch   153: reducing learning rate of group 0 to 1.0000e-07.\n",
      "Epoch:160/200 AVG Training Loss:0.656 AVG Validation Loss:0.663 AVG Training Acc 61.95 % AVG Validation Acc 61.77 %\n",
      "Epoch:170/200 AVG Training Loss:0.655 AVG Validation Loss:0.663 AVG Training Acc 61.97 % AVG Validation Acc 61.77 %\n",
      "Epoch:180/200 AVG Training Loss:0.656 AVG Validation Loss:0.663 AVG Training Acc 62.01 % AVG Validation Acc 61.77 %\n",
      "Epoch   184: reducing learning rate of group 0 to 1.0000e-08.\n",
      "Epoch:190/200 AVG Training Loss:0.656 AVG Validation Loss:0.663 AVG Training Acc 61.98 % AVG Validation Acc 61.77 %\n",
      "Epoch:200/200 AVG Training Loss:0.656 AVG Validation Loss:0.663 AVG Training Acc 61.99 % AVG Validation Acc 61.77 %\n",
      "Split 204\n"
     ]
    },
    {
     "data": {
      "application/vnd.jupyter.widget-view+json": {
       "model_id": "77e54603f2de4e828ed1a9ad11183f0b",
       "version_major": 2,
       "version_minor": 0
      },
      "text/plain": [
       "  0%|          | 0/200 [00:00<?, ?it/s]"
      ]
     },
     "metadata": {},
     "output_type": "display_data"
    },
    {
     "name": "stdout",
     "output_type": "stream",
     "text": [
      "Epoch:10/200 AVG Training Loss:0.663 AVG Validation Loss:0.662 AVG Training Acc 61.80 % AVG Validation Acc 61.86 %\n",
      "Epoch:20/200 AVG Training Loss:0.660 AVG Validation Loss:0.664 AVG Training Acc 61.90 % AVG Validation Acc 61.86 %\n",
      "Epoch    21: reducing learning rate of group 0 to 1.0000e-03.\n",
      "Epoch:30/200 AVG Training Loss:0.657 AVG Validation Loss:0.663 AVG Training Acc 61.95 % AVG Validation Acc 62.04 %\n",
      "Epoch:40/200 AVG Training Loss:0.656 AVG Validation Loss:0.663 AVG Training Acc 62.00 % AVG Validation Acc 61.95 %\n",
      "Epoch:50/200 AVG Training Loss:0.655 AVG Validation Loss:0.664 AVG Training Acc 61.97 % AVG Validation Acc 61.95 %\n",
      "Epoch    52: reducing learning rate of group 0 to 1.0000e-04.\n",
      "Epoch:60/200 AVG Training Loss:0.655 AVG Validation Loss:0.663 AVG Training Acc 61.98 % AVG Validation Acc 61.95 %\n",
      "Epoch:70/200 AVG Training Loss:0.655 AVG Validation Loss:0.663 AVG Training Acc 61.99 % AVG Validation Acc 62.04 %\n",
      "Epoch:80/200 AVG Training Loss:0.655 AVG Validation Loss:0.663 AVG Training Acc 61.99 % AVG Validation Acc 62.04 %\n",
      "Epoch    83: reducing learning rate of group 0 to 1.0000e-05.\n",
      "Epoch:90/200 AVG Training Loss:0.655 AVG Validation Loss:0.663 AVG Training Acc 62.00 % AVG Validation Acc 62.04 %\n",
      "Epoch:100/200 AVG Training Loss:0.655 AVG Validation Loss:0.662 AVG Training Acc 61.98 % AVG Validation Acc 62.04 %\n",
      "Epoch:110/200 AVG Training Loss:0.654 AVG Validation Loss:0.663 AVG Training Acc 62.03 % AVG Validation Acc 62.04 %\n",
      "Epoch   114: reducing learning rate of group 0 to 1.0000e-06.\n",
      "Epoch:120/200 AVG Training Loss:0.655 AVG Validation Loss:0.663 AVG Training Acc 62.00 % AVG Validation Acc 62.04 %\n",
      "Epoch:130/200 AVG Training Loss:0.654 AVG Validation Loss:0.663 AVG Training Acc 61.99 % AVG Validation Acc 62.04 %\n",
      "Epoch:140/200 AVG Training Loss:0.654 AVG Validation Loss:0.663 AVG Training Acc 62.03 % AVG Validation Acc 62.04 %\n",
      "Epoch   145: reducing learning rate of group 0 to 1.0000e-07.\n"
     ]
    }
   ],
   "source": [
    "for i in tqdm(list(course_programs.keys())):\n",
    "    \n",
    "    print(i)\n",
    "    threshold_dict = {} #dict to store information in for each threshold\n",
    "    data = deepcopy(course_programs[i])\n",
    "    \n",
    "    data.set_index(['course', 'userid'], drop = True, inplace = True)\n",
    "    data.fillna(0, inplace = True)\n",
    "    \n",
    "    #set X and Y columns\n",
    "    X = data[data.columns[:25]] #different timesteps\n",
    "    y = data[data.columns[-2:]] #the 4 different putative targets\n",
    "    \n",
    "    for k in tqdm(targets):\n",
    "        print(k)\n",
    "        \n",
    "        #Start with train test split\n",
    "        X_train_val, X_test, y_train_val, y_test, = train_test_split(\n",
    "                                    X,\n",
    "                                   y[k], #replace when going for multi-target \n",
    "                                   test_size = 0.20,\n",
    "                                   random_state = 15,\n",
    "                                   shuffle=True,\n",
    "                                   stratify = y[k] #replace when going for multi-target\n",
    "                                    )\n",
    "        \n",
    "        #create dict to store fold performance\n",
    "        foldperf={}\n",
    "        \n",
    "        #reset \"best accuracy for treshold i and target k\"\n",
    "        best_accuracy = 0\n",
    "\n",
    "        #make train_val split\n",
    "        for fold, (train_idx,val_idx) in tqdm(enumerate(splits.split(X_train_val, y_train_val))):\n",
    "\n",
    "            print('Split {}'.format(fold + 1))\n",
    "            \n",
    "            #make split between train and Val\n",
    "            X_train, y_train = X_train_val.iloc[train_idx], y_train_val.iloc[train_idx]\n",
    "            X_val, y_val = X_train_val.iloc[val_idx], y_train_val.iloc[val_idx]\n",
    "            \n",
    "            #apply scaling after \n",
    "            X_train, X_val = normalize(X_train, X_val, 'Standard')\n",
    "            \n",
    "            #second, convert everything to pytorch tensor - we will convert to tensor dataset and \n",
    "            X_train_tensors = Variable(torch.Tensor(X_train.values))\n",
    "            X_val_tensors = Variable(torch.Tensor(X_val.values))\n",
    "\n",
    "            y_train_tensors = Variable(torch.Tensor(y_train.values))\n",
    "            y_val_tensors = Variable(torch.Tensor(y_val.values)) \n",
    "\n",
    "            #reshaping to rows, timestamps, features \n",
    "            X_train_tensors = torch.reshape(X_train_tensors,   (X_train_tensors.shape[0], X_train_tensors.shape[1], 1))\n",
    "            X_val_tensors = torch.reshape(X_val_tensors,  (X_val_tensors.shape[0], X_val_tensors.shape[1], 1))\n",
    "        \n",
    "            #convert y tensors to format longtensor\n",
    "            y_train_tensors = y_train_tensors.type(torch.cuda.LongTensor)\n",
    "            y_val_tensors = y_val_tensors.type(torch.cuda.LongTensor)\n",
    "            \n",
    "            #create Tensor Datasets and dataloaders for both Train and Val\n",
    "            train_dataset = TensorDataset(X_train_tensors, y_train_tensors)\n",
    "            val_dataset = TensorDataset(X_val_tensors, y_val_tensors)\n",
    "            train_loader = DataLoader(train_dataset, batch_size=batch_size)\n",
    "            val_loader = DataLoader(val_dataset, batch_size=batch_size)\n",
    "    \n",
    "            #creates new model for each \n",
    "            model = LSTM_Uni(num_classes, input_size, hidden_size, num_layers, X_train_tensors.shape[1]).to('cuda') #our lstm class\n",
    "            optimizer = torch.optim.Adam(model.parameters(), lr=learning_rate) \n",
    "            scheduler = ReduceLROnPlateau(optimizer, \n",
    "                                  'min', \n",
    "                                  patience = 10,\n",
    "                                  cooldown = 20,\n",
    "                                 verbose = True)\n",
    "    \n",
    "            history = {'train_loss': [], 'val_loss': [],'train_acc':[],'val_acc':[], 'precision': [],\n",
    "                      'recall' : [], 'auroc': []}\n",
    "\n",
    "            for epoch in tqdm(range(num_epochs)):\n",
    "                train_loss, train_correct=train_epoch(model,train_loader,criterion,optimizer)\n",
    "                val_loss, val_correct, precision, recall, auroc = valid_epoch(model,val_loader,criterion)\n",
    "\n",
    "                train_loss = train_loss / len(train_loader.sampler)\n",
    "                train_acc = train_correct / len(train_loader.sampler) * 100\n",
    "                val_loss = val_loss / len(val_loader.sampler)\n",
    "                val_acc = val_correct / len(val_loader.sampler) * 100\n",
    "        \n",
    "        \n",
    "                if (epoch+1) % 10 == 0: \n",
    "                    print(\"Epoch:{}/{} AVG Training Loss:{:.3f} AVG Validation Loss:{:.3f} AVG Training Acc {:.2f} % AVG Validation Acc {:.2f} %\".format(epoch + 1,\n",
    "                                                                                                             num_epochs,\n",
    "                                                                                                             train_loss,\n",
    "                                                                                                             val_loss,\n",
    "                                                                                                             train_acc,\n",
    "                                                                                                             val_acc))\n",
    "                history['train_loss'].append(train_loss)\n",
    "                history['val_loss'].append(val_loss)\n",
    "                history['train_acc'].append(train_acc)\n",
    "                history['val_acc'].append(val_acc)\n",
    "                history['precision'].append(precision)\n",
    "                history['recall'].append(recall)\n",
    "                history['auroc'].append(auroc)\n",
    "                scheduler.step(val_loss)\n",
    "    \n",
    "                if val_acc > best_accuracy:\n",
    "            \n",
    "                #replace best accuracy and save best model\n",
    "                    print(f'New Best Accuracy found: {val_acc:.2f}%\\nEpoch: {epoch + 1}')\n",
    "                    best_accuracy = val_acc\n",
    "                    best = deepcopy(model)\n",
    "                    curr_epoch = epoch + 1\n",
    "                    \n",
    "            #store fold performance\n",
    "            foldperf['fold{}'.format(fold+1)] = history\n",
    "        \n",
    "        #saves fold performance for target \n",
    "        threshold_dict[k] = pd.DataFrame.from_dict(foldperf, orient='index') # convert dict to dataframe\n",
    "        \n",
    "        #explode to get eacxh epoch as a row\n",
    "        threshold_dict[k] = threshold_dict[k].explode(list(threshold_dict[k].columns))\n",
    "        torch.save(best,f\"../Models/{i}/R_Gonz_best_{k}_{curr_epoch}_epochs.h\")\n",
    "        \n",
    "    # from pandas.io.parsers import ExcelWriter\n",
    "    with pd.ExcelWriter(f\"../Data/Modeling Stage/Results/R_Gonz/Clicks per % duration/25_splits_{i}_{replicas}_replicas.xlsx\") as writer:  \n",
    "        for sheet in targets:\n",
    "                threshold_dict[sheet].to_excel(writer, sheet_name=str(sheet))"
   ]
  }
 ],
 "metadata": {
  "kernelspec": {
   "display_name": "Python 3 (ipykernel)",
   "language": "python",
   "name": "python3"
  },
  "language_info": {
   "codemirror_mode": {
    "name": "ipython",
    "version": 3
   },
   "file_extension": ".py",
   "mimetype": "text/x-python",
   "name": "python",
   "nbconvert_exporter": "python",
   "pygments_lexer": "ipython3",
   "version": "3.8.11"
  }
 },
 "nbformat": 4,
 "nbformat_minor": 5
}
