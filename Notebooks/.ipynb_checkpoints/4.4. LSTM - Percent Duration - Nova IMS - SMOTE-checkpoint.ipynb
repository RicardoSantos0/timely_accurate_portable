{
 "cells": [
  {
   "cell_type": "markdown",
   "id": "84eda90e",
   "metadata": {},
   "source": [
    "### Thesis notebook 4.4. - NOVA IMS\n",
    "\n",
    "#### LSTM - Temporal data representation\n",
    "\n",
    "In this notebook, we will finally start our application of temporal representation using LSTMs and bi-directional LSTMs.\n",
    "The argument for the usage of Deep Learning stems from the fact that sequences themselves encode information that can be extracted using Recurrent Neural Networks and, more specifically, Long Short Term Memory Units.\n",
    "\n",
    "#### First Step: Setup a PyTorch environment that enables the use of GPU for training. \n",
    "\n",
    "The following cell wll confirm that the GPU will be the default device to use."
   ]
  },
  {
   "cell_type": "code",
   "execution_count": 1,
   "id": "4f27844c",
   "metadata": {},
   "outputs": [],
   "source": [
    "import torch\n",
    "import pycuda.driver as cuda\n",
    "\n",
    "cuda.init()\n",
    "## Get Id of default device\n",
    "torch.cuda.current_device()\n",
    "# 0\n",
    "cuda.Device(0).name() # '0' is the id of your GPU\n",
    "\n",
    "#set all tensors to gpu\n",
    "torch.set_default_tensor_type('torch.cuda.FloatTensor')"
   ]
  },
  {
   "cell_type": "markdown",
   "id": "0d95429e",
   "metadata": {},
   "source": [
    "#### Second Step: Import the relevant packages and declare global variables"
   ]
  },
  {
   "cell_type": "code",
   "execution_count": 2,
   "id": "e6c2d97f",
   "metadata": {},
   "outputs": [],
   "source": [
    "#import necessary modules/libraries\n",
    "import numpy as np\n",
    "import scipy\n",
    "import pandas as pd\n",
    "import datetime as dt\n",
    "import warnings\n",
    "import time\n",
    "\n",
    "#tqdm to monitor progress\n",
    "from tqdm.notebook import tqdm, trange\n",
    "tqdm.pandas(desc=\"Progress\")\n",
    "\n",
    "#time related features\n",
    "from datetime import timedelta\n",
    "from copy import copy, deepcopy\n",
    "\n",
    "#vizualization\n",
    "import matplotlib.pyplot as plt\n",
    "import seaborn as sns\n",
    "\n",
    "#imblearn, scalers, kfold and metrics\n",
    "from imblearn.over_sampling import SMOTE\n",
    "from sklearn.preprocessing import MinMaxScaler, StandardScaler, RobustScaler, QuantileTransformer,PowerTransformer\n",
    "from sklearn.model_selection import train_test_split, RepeatedKFold, RepeatedStratifiedKFold, cross_val_score, GridSearchCV\n",
    "from sklearn.metrics import confusion_matrix, accuracy_score, precision_score, recall_score, f1_score, roc_auc_score, roc_curve, recall_score, classification_report, average_precision_score, precision_recall_curve\n",
    "\n",
    "#import torch related\n",
    "import torch.nn as nn\n",
    "from torch.nn import functional as F\n",
    "from torch.autograd import Variable \n",
    "from torch.utils.data import TensorDataset, DataLoader\n",
    "from torch.utils.data.sampler import SubsetRandomSampler\n",
    "\n",
    "\n",
    "#and optimizer of learning rate\n",
    "from torch.optim.lr_scheduler import ReduceLROnPlateau\n",
    "\n",
    "#import pytorch modules\n",
    "warnings.filterwarnings('ignore')"
   ]
  },
  {
   "cell_type": "code",
   "execution_count": 3,
   "id": "c6c3f1fb",
   "metadata": {},
   "outputs": [],
   "source": [
    "#global variables that may come in handy\n",
    "#course threshold sets the % duration that will be considered (1 = 100%)\n",
    "duration_threshold = [0.1, 0.25, 0.33, 0.5, 1]\n",
    "\n",
    "#colors for vizualizations\n",
    "nova_ims_colors = ['#BFD72F', '#5C666C']\n",
    "\n",
    "#standard color for student aggregates\n",
    "student_color = '#474838'\n",
    "\n",
    "#standard color for course aggragates\n",
    "course_color = '#1B3D2F'\n",
    "\n",
    "#standard continuous colormap\n",
    "standard_cmap = 'viridis_r'\n",
    "\n",
    "#Function designed to deal with multiindex and flatten it\n",
    "def flattenHierarchicalCol(col,sep = '_'):\n",
    "    '''converts multiindex columns into single index columns while retaining the hierarchical components'''\n",
    "    if not type(col) is tuple:\n",
    "        return col\n",
    "    else:\n",
    "        new_col = ''\n",
    "        for leveli,level in enumerate(col):\n",
    "            if not level == '':\n",
    "                if not leveli == 0:\n",
    "                    new_col += sep\n",
    "                new_col += level\n",
    "        return new_col\n",
    "    \n",
    "#number of replicas - number of repeats of stratified k fold - in this case 10\n",
    "replicas = 30\n",
    "\n",
    "#names to display on result figures\n",
    "date_names = {\n",
    "             'Date_threshold_10': '10% of Course Duration',   \n",
    "             'Date_threshold_25': '25% of Course Duration', \n",
    "             'Date_threshold_33': '33% of Course Duration', \n",
    "             'Date_threshold_50': '50% of Course Duration', \n",
    "             'Date_threshold_100':'100% of Course Duration', \n",
    "            }\n",
    "\n",
    "target_names = {\n",
    "                'exam_fail' : 'At risk - Exam Grade',\n",
    "                'final_fail' : 'At risk - Final Grade', \n",
    "                'exam_gifted' : 'High performer - Exam Grade', \n",
    "                'final_gifted': 'High performer - Final Grade'\n",
    "                }\n",
    "\n",
    "#targets\n",
    "targets = ['exam_fail' , 'final_fail' , 'exam_gifted' , 'final_gifted']\n",
    "temporal_columns = ['0 to 4%', '4 to 8%', '8 to 12%', '12 to 16%', '16 to 20%', '20 to 24%',\n",
    "       '24 to 28%', '28 to 32%', '32 to 36%', '36 to 40%', '40 to 44%',\n",
    "       '44 to 48%', '48 to 52%', '52 to 56%', '56 to 60%', '60 to 64%',\n",
    "       '64 to 68%', '68 to 72%', '72 to 76%', '76 to 80%', '80 to 84%',\n",
    "       '84 to 88%', '88 to 92%', '92 to 96%', '96 to 100%']"
   ]
  },
  {
   "cell_type": "markdown",
   "id": "60c5ddb6",
   "metadata": {},
   "source": [
    "#### Step 3: Import data and take a preliminary look at it "
   ]
  },
  {
   "cell_type": "code",
   "execution_count": 4,
   "id": "d8a23ea6",
   "metadata": {},
   "outputs": [],
   "source": [
    "#imports dataframes\n",
    "course_programs = pd.read_excel(\"../Data/Modeling Stage/Nova_IMS_Temporal_Datasets_25_splits.xlsx\", \n",
    "                                dtype = {\n",
    "                                    'course_encoding' : int,\n",
    "                                    'userid' : int},\n",
    "                               sheet_name = None)\n",
    "\n",
    "#save tables \n",
    "student_list = pd.read_csv('../Data/Modeling Stage/Nova_IMS_Filtered_targets.csv', \n",
    "                         dtype = {\n",
    "                                   'course_encoding': int,\n",
    "                                   'userid' : int,\n",
    "                                   })\n",
    "\n",
    "#drop unnamed 0 column\n",
    "for i in course_programs:\n",
    "        \n",
    "    #merge with the targets we calculated on the other \n",
    "    course_programs[i] = course_programs[i].merge(student_list, on = ['course_encoding', 'userid'], how = 'inner')\n",
    "    course_programs[i].drop(['Unnamed: 0', 'exam_mark', 'final_mark'], axis = 1, inplace = True)\n",
    "    \n",
    "    #convert results to object\n",
    "    course_programs[i]['course_encoding'], course_programs[i]['userid'] = course_programs[i]['course_encoding'].astype(object), course_programs[i]['userid'].astype(object)"
   ]
  },
  {
   "cell_type": "code",
   "execution_count": 5,
   "id": "7bc3c84f",
   "metadata": {},
   "outputs": [
    {
     "name": "stdout",
     "output_type": "stream",
     "text": [
      "<class 'pandas.core.frame.DataFrame'>\n",
      "Int64Index: 9296 entries, 0 to 9295\n",
      "Data columns (total 31 columns):\n",
      " #   Column           Non-Null Count  Dtype \n",
      "---  ------           --------------  ----- \n",
      " 0   course_encoding  9296 non-null   object\n",
      " 1   userid           9296 non-null   object\n",
      " 2   0 to 4%          9296 non-null   int64 \n",
      " 3   4 to 8%          9296 non-null   int64 \n",
      " 4   8 to 12%         9296 non-null   int64 \n",
      " 5   12 to 16%        9296 non-null   int64 \n",
      " 6   16 to 20%        9296 non-null   int64 \n",
      " 7   20 to 24%        9296 non-null   int64 \n",
      " 8   24 to 28%        9296 non-null   int64 \n",
      " 9   28 to 32%        9296 non-null   int64 \n",
      " 10  32 to 36%        9296 non-null   int64 \n",
      " 11  36 to 40%        9296 non-null   int64 \n",
      " 12  40 to 44%        9296 non-null   int64 \n",
      " 13  44 to 48%        9296 non-null   int64 \n",
      " 14  48 to 52%        9296 non-null   int64 \n",
      " 15  52 to 56%        9296 non-null   int64 \n",
      " 16  56 to 60%        9296 non-null   int64 \n",
      " 17  60 to 64%        9296 non-null   int64 \n",
      " 18  64 to 68%        9296 non-null   int64 \n",
      " 19  68 to 72%        9296 non-null   int64 \n",
      " 20  72 to 76%        9296 non-null   int64 \n",
      " 21  76 to 80%        9296 non-null   int64 \n",
      " 22  80 to 84%        9296 non-null   int64 \n",
      " 23  84 to 88%        9296 non-null   int64 \n",
      " 24  88 to 92%        9296 non-null   int64 \n",
      " 25  92 to 96%        9296 non-null   int64 \n",
      " 26  96 to 100%       9296 non-null   int64 \n",
      " 27  exam_fail        9296 non-null   int64 \n",
      " 28  final_fail       9296 non-null   int64 \n",
      " 29  exam_gifted      9296 non-null   int64 \n",
      " 30  final_gifted     9296 non-null   int64 \n",
      "dtypes: int64(29), object(2)\n",
      "memory usage: 2.3+ MB\n"
     ]
    }
   ],
   "source": [
    "course_programs['Date_threshold_100'].info()"
   ]
  },
  {
   "cell_type": "code",
   "execution_count": 6,
   "id": "c4a751ef",
   "metadata": {},
   "outputs": [
    {
     "data": {
      "text/html": [
       "<div>\n",
       "<style scoped>\n",
       "    .dataframe tbody tr th:only-of-type {\n",
       "        vertical-align: middle;\n",
       "    }\n",
       "\n",
       "    .dataframe tbody tr th {\n",
       "        vertical-align: top;\n",
       "    }\n",
       "\n",
       "    .dataframe thead th {\n",
       "        text-align: right;\n",
       "    }\n",
       "</style>\n",
       "<table border=\"1\" class=\"dataframe\">\n",
       "  <thead>\n",
       "    <tr style=\"text-align: right;\">\n",
       "      <th></th>\n",
       "      <th>course_encoding</th>\n",
       "      <th>userid</th>\n",
       "      <th>0 to 4%</th>\n",
       "      <th>4 to 8%</th>\n",
       "      <th>8 to 12%</th>\n",
       "      <th>12 to 16%</th>\n",
       "      <th>16 to 20%</th>\n",
       "      <th>20 to 24%</th>\n",
       "      <th>24 to 28%</th>\n",
       "      <th>28 to 32%</th>\n",
       "      <th>...</th>\n",
       "      <th>76 to 80%</th>\n",
       "      <th>80 to 84%</th>\n",
       "      <th>84 to 88%</th>\n",
       "      <th>88 to 92%</th>\n",
       "      <th>92 to 96%</th>\n",
       "      <th>96 to 100%</th>\n",
       "      <th>exam_fail</th>\n",
       "      <th>final_fail</th>\n",
       "      <th>exam_gifted</th>\n",
       "      <th>final_gifted</th>\n",
       "    </tr>\n",
       "  </thead>\n",
       "  <tbody>\n",
       "    <tr>\n",
       "      <th>count</th>\n",
       "      <td>9296.0</td>\n",
       "      <td>9296.0</td>\n",
       "      <td>9296.000000</td>\n",
       "      <td>9296.000000</td>\n",
       "      <td>9296.000000</td>\n",
       "      <td>9296.000000</td>\n",
       "      <td>9296.000000</td>\n",
       "      <td>9296.000000</td>\n",
       "      <td>9296.000000</td>\n",
       "      <td>9296.000000</td>\n",
       "      <td>...</td>\n",
       "      <td>9296.000000</td>\n",
       "      <td>9296.000000</td>\n",
       "      <td>9296.000000</td>\n",
       "      <td>9296.000000</td>\n",
       "      <td>9296.000000</td>\n",
       "      <td>9296.0</td>\n",
       "      <td>9296.000000</td>\n",
       "      <td>9296.000000</td>\n",
       "      <td>9296.000000</td>\n",
       "      <td>9296.000000</td>\n",
       "    </tr>\n",
       "    <tr>\n",
       "      <th>unique</th>\n",
       "      <td>138.0</td>\n",
       "      <td>1590.0</td>\n",
       "      <td>NaN</td>\n",
       "      <td>NaN</td>\n",
       "      <td>NaN</td>\n",
       "      <td>NaN</td>\n",
       "      <td>NaN</td>\n",
       "      <td>NaN</td>\n",
       "      <td>NaN</td>\n",
       "      <td>NaN</td>\n",
       "      <td>...</td>\n",
       "      <td>NaN</td>\n",
       "      <td>NaN</td>\n",
       "      <td>NaN</td>\n",
       "      <td>NaN</td>\n",
       "      <td>NaN</td>\n",
       "      <td>NaN</td>\n",
       "      <td>NaN</td>\n",
       "      <td>NaN</td>\n",
       "      <td>NaN</td>\n",
       "      <td>NaN</td>\n",
       "    </tr>\n",
       "    <tr>\n",
       "      <th>top</th>\n",
       "      <td>150.0</td>\n",
       "      <td>3178.0</td>\n",
       "      <td>NaN</td>\n",
       "      <td>NaN</td>\n",
       "      <td>NaN</td>\n",
       "      <td>NaN</td>\n",
       "      <td>NaN</td>\n",
       "      <td>NaN</td>\n",
       "      <td>NaN</td>\n",
       "      <td>NaN</td>\n",
       "      <td>...</td>\n",
       "      <td>NaN</td>\n",
       "      <td>NaN</td>\n",
       "      <td>NaN</td>\n",
       "      <td>NaN</td>\n",
       "      <td>NaN</td>\n",
       "      <td>NaN</td>\n",
       "      <td>NaN</td>\n",
       "      <td>NaN</td>\n",
       "      <td>NaN</td>\n",
       "      <td>NaN</td>\n",
       "    </tr>\n",
       "    <tr>\n",
       "      <th>freq</th>\n",
       "      <td>178.0</td>\n",
       "      <td>14.0</td>\n",
       "      <td>NaN</td>\n",
       "      <td>NaN</td>\n",
       "      <td>NaN</td>\n",
       "      <td>NaN</td>\n",
       "      <td>NaN</td>\n",
       "      <td>NaN</td>\n",
       "      <td>NaN</td>\n",
       "      <td>NaN</td>\n",
       "      <td>...</td>\n",
       "      <td>NaN</td>\n",
       "      <td>NaN</td>\n",
       "      <td>NaN</td>\n",
       "      <td>NaN</td>\n",
       "      <td>NaN</td>\n",
       "      <td>NaN</td>\n",
       "      <td>NaN</td>\n",
       "      <td>NaN</td>\n",
       "      <td>NaN</td>\n",
       "      <td>NaN</td>\n",
       "    </tr>\n",
       "    <tr>\n",
       "      <th>mean</th>\n",
       "      <td>NaN</td>\n",
       "      <td>NaN</td>\n",
       "      <td>1.081863</td>\n",
       "      <td>8.307874</td>\n",
       "      <td>10.752797</td>\n",
       "      <td>11.193739</td>\n",
       "      <td>10.127797</td>\n",
       "      <td>8.966652</td>\n",
       "      <td>10.545396</td>\n",
       "      <td>11.445245</td>\n",
       "      <td>...</td>\n",
       "      <td>11.718051</td>\n",
       "      <td>13.136403</td>\n",
       "      <td>22.827883</td>\n",
       "      <td>27.341007</td>\n",
       "      <td>12.599613</td>\n",
       "      <td>0.0</td>\n",
       "      <td>0.201377</td>\n",
       "      <td>0.149957</td>\n",
       "      <td>0.276893</td>\n",
       "      <td>0.308090</td>\n",
       "    </tr>\n",
       "    <tr>\n",
       "      <th>std</th>\n",
       "      <td>NaN</td>\n",
       "      <td>NaN</td>\n",
       "      <td>3.526351</td>\n",
       "      <td>13.580025</td>\n",
       "      <td>13.626754</td>\n",
       "      <td>16.400023</td>\n",
       "      <td>14.291254</td>\n",
       "      <td>12.180177</td>\n",
       "      <td>13.507892</td>\n",
       "      <td>15.932226</td>\n",
       "      <td>...</td>\n",
       "      <td>28.186874</td>\n",
       "      <td>36.690068</td>\n",
       "      <td>47.158607</td>\n",
       "      <td>54.963959</td>\n",
       "      <td>35.194597</td>\n",
       "      <td>0.0</td>\n",
       "      <td>0.401051</td>\n",
       "      <td>0.357048</td>\n",
       "      <td>0.447487</td>\n",
       "      <td>0.461729</td>\n",
       "    </tr>\n",
       "    <tr>\n",
       "      <th>min</th>\n",
       "      <td>NaN</td>\n",
       "      <td>NaN</td>\n",
       "      <td>0.000000</td>\n",
       "      <td>0.000000</td>\n",
       "      <td>0.000000</td>\n",
       "      <td>0.000000</td>\n",
       "      <td>0.000000</td>\n",
       "      <td>0.000000</td>\n",
       "      <td>0.000000</td>\n",
       "      <td>0.000000</td>\n",
       "      <td>...</td>\n",
       "      <td>0.000000</td>\n",
       "      <td>0.000000</td>\n",
       "      <td>0.000000</td>\n",
       "      <td>0.000000</td>\n",
       "      <td>0.000000</td>\n",
       "      <td>0.0</td>\n",
       "      <td>0.000000</td>\n",
       "      <td>0.000000</td>\n",
       "      <td>0.000000</td>\n",
       "      <td>0.000000</td>\n",
       "    </tr>\n",
       "    <tr>\n",
       "      <th>25%</th>\n",
       "      <td>NaN</td>\n",
       "      <td>NaN</td>\n",
       "      <td>0.000000</td>\n",
       "      <td>0.000000</td>\n",
       "      <td>1.000000</td>\n",
       "      <td>2.000000</td>\n",
       "      <td>2.000000</td>\n",
       "      <td>1.000000</td>\n",
       "      <td>2.000000</td>\n",
       "      <td>3.000000</td>\n",
       "      <td>...</td>\n",
       "      <td>0.000000</td>\n",
       "      <td>0.000000</td>\n",
       "      <td>0.000000</td>\n",
       "      <td>0.000000</td>\n",
       "      <td>0.000000</td>\n",
       "      <td>0.0</td>\n",
       "      <td>0.000000</td>\n",
       "      <td>0.000000</td>\n",
       "      <td>0.000000</td>\n",
       "      <td>0.000000</td>\n",
       "    </tr>\n",
       "    <tr>\n",
       "      <th>50%</th>\n",
       "      <td>NaN</td>\n",
       "      <td>NaN</td>\n",
       "      <td>0.000000</td>\n",
       "      <td>2.000000</td>\n",
       "      <td>7.000000</td>\n",
       "      <td>7.000000</td>\n",
       "      <td>6.000000</td>\n",
       "      <td>5.000000</td>\n",
       "      <td>7.000000</td>\n",
       "      <td>7.000000</td>\n",
       "      <td>...</td>\n",
       "      <td>2.000000</td>\n",
       "      <td>2.000000</td>\n",
       "      <td>4.000000</td>\n",
       "      <td>2.000000</td>\n",
       "      <td>0.000000</td>\n",
       "      <td>0.0</td>\n",
       "      <td>0.000000</td>\n",
       "      <td>0.000000</td>\n",
       "      <td>0.000000</td>\n",
       "      <td>0.000000</td>\n",
       "    </tr>\n",
       "    <tr>\n",
       "      <th>75%</th>\n",
       "      <td>NaN</td>\n",
       "      <td>NaN</td>\n",
       "      <td>1.000000</td>\n",
       "      <td>12.000000</td>\n",
       "      <td>15.000000</td>\n",
       "      <td>15.000000</td>\n",
       "      <td>13.000000</td>\n",
       "      <td>13.000000</td>\n",
       "      <td>14.000000</td>\n",
       "      <td>14.000000</td>\n",
       "      <td>...</td>\n",
       "      <td>10.000000</td>\n",
       "      <td>10.000000</td>\n",
       "      <td>23.000000</td>\n",
       "      <td>27.000000</td>\n",
       "      <td>5.000000</td>\n",
       "      <td>0.0</td>\n",
       "      <td>0.000000</td>\n",
       "      <td>0.000000</td>\n",
       "      <td>1.000000</td>\n",
       "      <td>1.000000</td>\n",
       "    </tr>\n",
       "    <tr>\n",
       "      <th>max</th>\n",
       "      <td>NaN</td>\n",
       "      <td>NaN</td>\n",
       "      <td>66.000000</td>\n",
       "      <td>269.000000</td>\n",
       "      <td>360.000000</td>\n",
       "      <td>619.000000</td>\n",
       "      <td>315.000000</td>\n",
       "      <td>248.000000</td>\n",
       "      <td>268.000000</td>\n",
       "      <td>237.000000</td>\n",
       "      <td>...</td>\n",
       "      <td>614.000000</td>\n",
       "      <td>1091.000000</td>\n",
       "      <td>604.000000</td>\n",
       "      <td>747.000000</td>\n",
       "      <td>407.000000</td>\n",
       "      <td>0.0</td>\n",
       "      <td>1.000000</td>\n",
       "      <td>1.000000</td>\n",
       "      <td>1.000000</td>\n",
       "      <td>1.000000</td>\n",
       "    </tr>\n",
       "  </tbody>\n",
       "</table>\n",
       "<p>11 rows × 31 columns</p>\n",
       "</div>"
      ],
      "text/plain": [
       "        course_encoding  userid      0 to 4%      4 to 8%     8 to 12%  \\\n",
       "count            9296.0  9296.0  9296.000000  9296.000000  9296.000000   \n",
       "unique            138.0  1590.0          NaN          NaN          NaN   \n",
       "top               150.0  3178.0          NaN          NaN          NaN   \n",
       "freq              178.0    14.0          NaN          NaN          NaN   \n",
       "mean                NaN     NaN     1.081863     8.307874    10.752797   \n",
       "std                 NaN     NaN     3.526351    13.580025    13.626754   \n",
       "min                 NaN     NaN     0.000000     0.000000     0.000000   \n",
       "25%                 NaN     NaN     0.000000     0.000000     1.000000   \n",
       "50%                 NaN     NaN     0.000000     2.000000     7.000000   \n",
       "75%                 NaN     NaN     1.000000    12.000000    15.000000   \n",
       "max                 NaN     NaN    66.000000   269.000000   360.000000   \n",
       "\n",
       "          12 to 16%    16 to 20%    20 to 24%    24 to 28%    28 to 32%  ...  \\\n",
       "count   9296.000000  9296.000000  9296.000000  9296.000000  9296.000000  ...   \n",
       "unique          NaN          NaN          NaN          NaN          NaN  ...   \n",
       "top             NaN          NaN          NaN          NaN          NaN  ...   \n",
       "freq            NaN          NaN          NaN          NaN          NaN  ...   \n",
       "mean      11.193739    10.127797     8.966652    10.545396    11.445245  ...   \n",
       "std       16.400023    14.291254    12.180177    13.507892    15.932226  ...   \n",
       "min        0.000000     0.000000     0.000000     0.000000     0.000000  ...   \n",
       "25%        2.000000     2.000000     1.000000     2.000000     3.000000  ...   \n",
       "50%        7.000000     6.000000     5.000000     7.000000     7.000000  ...   \n",
       "75%       15.000000    13.000000    13.000000    14.000000    14.000000  ...   \n",
       "max      619.000000   315.000000   248.000000   268.000000   237.000000  ...   \n",
       "\n",
       "          76 to 80%    80 to 84%    84 to 88%    88 to 92%    92 to 96%  \\\n",
       "count   9296.000000  9296.000000  9296.000000  9296.000000  9296.000000   \n",
       "unique          NaN          NaN          NaN          NaN          NaN   \n",
       "top             NaN          NaN          NaN          NaN          NaN   \n",
       "freq            NaN          NaN          NaN          NaN          NaN   \n",
       "mean      11.718051    13.136403    22.827883    27.341007    12.599613   \n",
       "std       28.186874    36.690068    47.158607    54.963959    35.194597   \n",
       "min        0.000000     0.000000     0.000000     0.000000     0.000000   \n",
       "25%        0.000000     0.000000     0.000000     0.000000     0.000000   \n",
       "50%        2.000000     2.000000     4.000000     2.000000     0.000000   \n",
       "75%       10.000000    10.000000    23.000000    27.000000     5.000000   \n",
       "max      614.000000  1091.000000   604.000000   747.000000   407.000000   \n",
       "\n",
       "        96 to 100%    exam_fail   final_fail  exam_gifted  final_gifted  \n",
       "count       9296.0  9296.000000  9296.000000  9296.000000   9296.000000  \n",
       "unique         NaN          NaN          NaN          NaN           NaN  \n",
       "top            NaN          NaN          NaN          NaN           NaN  \n",
       "freq           NaN          NaN          NaN          NaN           NaN  \n",
       "mean           0.0     0.201377     0.149957     0.276893      0.308090  \n",
       "std            0.0     0.401051     0.357048     0.447487      0.461729  \n",
       "min            0.0     0.000000     0.000000     0.000000      0.000000  \n",
       "25%            0.0     0.000000     0.000000     0.000000      0.000000  \n",
       "50%            0.0     0.000000     0.000000     0.000000      0.000000  \n",
       "75%            0.0     0.000000     0.000000     1.000000      1.000000  \n",
       "max            0.0     1.000000     1.000000     1.000000      1.000000  \n",
       "\n",
       "[11 rows x 31 columns]"
      ]
     },
     "execution_count": 6,
     "metadata": {},
     "output_type": "execute_result"
    }
   ],
   "source": [
    "course_programs['Date_threshold_100'].describe(include = 'all')"
   ]
  },
  {
   "cell_type": "markdown",
   "id": "c3291817",
   "metadata": {},
   "source": [
    "In our first attempt, we will use the absolute number of clicks made by each student - scaled using standard scaler. \n",
    "Therefore, we can start by immediately placing our course encoding/userid pairings into the index."
   ]
  },
  {
   "cell_type": "code",
   "execution_count": 7,
   "id": "be722ea9",
   "metadata": {},
   "outputs": [],
   "source": [
    "def normalize(train, test, scaler):\n",
    "    \n",
    "    if scaler == 'MinMax':\n",
    "        pt = MinMaxScaler()\n",
    "    elif scaler == 'Standard':\n",
    "        pt = StandardScaler()\n",
    "    elif scaler == 'Robust':\n",
    "        pt = RobustScaler()\n",
    "    elif scaler == 'Quantile':\n",
    "        pt = QuantileTransformer()\n",
    "    else:\n",
    "        pt = PowerTransformer(method='yeo-johnson')\n",
    "    \n",
    "    data_train = pt.fit_transform(train)\n",
    "    data_test = pt.transform(test)\n",
    "    # convert the array back to a dataframe\n",
    "    normalized_train = pd.DataFrame(data_train,columns=train.columns)\n",
    "    normalized_test = pd.DataFrame(data_test,columns=test.columns)\n",
    "        \n",
    "    return normalized_train, normalized_test"
   ]
  },
  {
   "cell_type": "markdown",
   "id": "8e4d5475",
   "metadata": {},
   "source": [
    "#### Implementing Cross-Validation with Deep Learning Model\n",
    "\n",
    "**1. Create the Deep Learning Model**\n",
    "\n",
    "In this instance, we will follow-up with on the approach used in Chen & Cui - CrossEntropyLoss with applied over a softmax layer."
   ]
  },
  {
   "cell_type": "code",
   "execution_count": 8,
   "id": "2a16bd5f",
   "metadata": {},
   "outputs": [],
   "source": [
    "class LSTM_Uni(nn.Module):\n",
    "    def __init__(self, num_classes, input_size, hidden_size, num_layers, seq_length):\n",
    "        super(LSTM_Uni, self).__init__()\n",
    "        self.num_classes = num_classes #number of classes\n",
    "        self.num_layers = num_layers #number of layers\n",
    "        self.input_size = input_size #input size\n",
    "        self.hidden_size = hidden_size #hidden state\n",
    "        self.seq_length = seq_length #sequence length\n",
    "\n",
    "        self.lstm = nn.LSTM(input_size=input_size, hidden_size=hidden_size,\n",
    "                          num_layers=num_layers, batch_first = True) #lstm\n",
    "        \n",
    "        self.dropout = nn.Dropout(p = 0.5)\n",
    "    \n",
    "        self.fc = nn.Linear(self.hidden_size, num_classes) #fully connected last layer\n",
    "\n",
    "    def forward(self,x):\n",
    "        h_0 = Variable(torch.zeros(self.num_layers, x.size(0), self.hidden_size)) #hidden state\n",
    "        c_0 = Variable(torch.zeros(self.num_layers, x.size(0), self.hidden_size)) #internal state\n",
    "        \n",
    "        #Xavier_init for both H_0 and C_0\n",
    "        torch.nn.init.xavier_normal_(h_0)\n",
    "        torch.nn.init.xavier_normal_(c_0)\n",
    "        \n",
    "        # Propagate input through LSTM\n",
    "        lstm_out, (hn, cn) = self.lstm(x, (h_0, c_0)) #lstm with input, hidden, and internal state\n",
    "        last_output = hn.view(-1, self.hidden_size) #reshaping the data for Dense layer next\n",
    "        \n",
    "        drop_out = self.dropout(last_output)\n",
    "        pre_softmax = self.fc(drop_out) #Final Output - dense\n",
    "        return pre_softmax"
   ]
  },
  {
   "cell_type": "markdown",
   "id": "17c356bd",
   "metadata": {},
   "source": [
    "**2. Define the train and validation Functions**"
   ]
  },
  {
   "cell_type": "code",
   "execution_count": 9,
   "id": "25b29a1d",
   "metadata": {},
   "outputs": [],
   "source": [
    "def train_epoch(model,dataloader,loss_fn,optimizer):\n",
    "    \n",
    "    train_loss,train_correct=0.0,0 \n",
    "    model.train()\n",
    "    for X, labels in dataloader:\n",
    "\n",
    "        optimizer.zero_grad()\n",
    "        output = model(X)\n",
    "        loss = loss_fn(output,labels)\n",
    "        loss.backward()\n",
    "        optimizer.step()\n",
    "        train_loss += loss.item() * X.size(0)\n",
    "        scores, predictions = torch.max(F.log_softmax(output.data), 1)\n",
    "        train_correct += (predictions == labels).sum().item()\n",
    "        \n",
    "    return train_loss,train_correct\n",
    "  \n",
    "def valid_epoch(model,dataloader,loss_fn):\n",
    "    valid_loss, val_correct = 0.0, 0\n",
    "    targets = []\n",
    "    y_pred = []\n",
    "    probability_1 = []\n",
    "    \n",
    "    model.eval()\n",
    "    for X, labels in dataloader:\n",
    "\n",
    "        output = model(X)\n",
    "        loss=loss_fn(output,labels)\n",
    "        valid_loss+=loss.item()*X.size(0)\n",
    "        probability_1.append(F.softmax(output.data)[:,1])\n",
    "        predictions = torch.argmax(output, dim=1)\n",
    "        val_correct+=(predictions == labels).sum().item()\n",
    "        targets.append(labels)\n",
    "        y_pred.append(predictions)\n",
    "    \n",
    "    #concat all results\n",
    "    targets = torch.cat(targets).data.cpu().numpy()\n",
    "    y_pred = torch.cat(y_pred).data.cpu().numpy()\n",
    "    probability_1 = torch.cat(probability_1).data.cpu().numpy()\n",
    "    \n",
    "    #calculate precision, recall and AUC score\n",
    "    \n",
    "    precision = precision_score(targets, y_pred)\n",
    "    recall = recall_score(targets, y_pred)\n",
    "    auroc = roc_auc_score(targets, probability_1)\n",
    "    \n",
    "    #return all\n",
    "    return valid_loss,val_correct, precision, recall, auroc"
   ]
  },
  {
   "cell_type": "markdown",
   "id": "d4543fb3",
   "metadata": {},
   "source": [
    "**3. Define main hyperparameters of the model, including splits**"
   ]
  },
  {
   "cell_type": "code",
   "execution_count": 10,
   "id": "fcbbef20",
   "metadata": {},
   "outputs": [],
   "source": [
    "#Model\n",
    "num_epochs = 200 #50 epochs\n",
    "learning_rate = 0.01 #0.001 lr\n",
    "input_size = 1 #number of features\n",
    "hidden_size = 40 #number of features in hidden state\n",
    "num_layers = 1 #number of stacked lstm layers\n",
    "\n",
    "#Shape of Output as required for SoftMax Classifier\n",
    "num_classes = 2 #output shape\n",
    "\n",
    "batch_size = 32\n",
    "\n",
    "k=10\n",
    "splits= RepeatedStratifiedKFold(n_splits=k, n_repeats=replicas, random_state=15) #kfold of 10 with 30 replicas\n",
    "criterion = nn.CrossEntropyLoss()    # cross-entropy for classification"
   ]
  },
  {
   "cell_type": "markdown",
   "id": "a20713d9",
   "metadata": {},
   "source": [
    "**4. Make the splits and Start Training**\n",
    "\n",
    "In a privous training session, we managed to complete the 10% threshold. This translates into not needing to perform training all over again in the case of a shutdown / restart."
   ]
  },
  {
   "cell_type": "code",
   "execution_count": null,
   "id": "45544589",
   "metadata": {
    "scrolled": true
   },
   "outputs": [
    {
     "data": {
      "application/vnd.jupyter.widget-view+json": {
       "model_id": "36f7079bcc7649708fbb1700751a840b",
       "version_major": 2,
       "version_minor": 0
      },
      "text/plain": [
       "  0%|          | 0/4 [00:00<?, ?it/s]"
      ]
     },
     "metadata": {},
     "output_type": "display_data"
    },
    {
     "name": "stdout",
     "output_type": "stream",
     "text": [
      "Date_threshold_25\n"
     ]
    },
    {
     "data": {
      "application/vnd.jupyter.widget-view+json": {
       "model_id": "6fdf51673b804da5b429a0fabd146b2f",
       "version_major": 2,
       "version_minor": 0
      },
      "text/plain": [
       "  0%|          | 0/4 [00:00<?, ?it/s]"
      ]
     },
     "metadata": {},
     "output_type": "display_data"
    },
    {
     "name": "stdout",
     "output_type": "stream",
     "text": [
      "exam_fail\n"
     ]
    },
    {
     "data": {
      "application/vnd.jupyter.widget-view+json": {
       "model_id": "5c17eb7dcad641669caa9e37339796e5",
       "version_major": 2,
       "version_minor": 0
      },
      "text/plain": [
       "0it [00:00, ?it/s]"
      ]
     },
     "metadata": {},
     "output_type": "display_data"
    },
    {
     "name": "stdout",
     "output_type": "stream",
     "text": [
      "Split 1\n"
     ]
    },
    {
     "data": {
      "application/vnd.jupyter.widget-view+json": {
       "model_id": "61a1b0b48866431497f12e45e5bf9e65",
       "version_major": 2,
       "version_minor": 0
      },
      "text/plain": [
       "  0%|          | 0/200 [00:00<?, ?it/s]"
      ]
     },
     "metadata": {},
     "output_type": "display_data"
    },
    {
     "name": "stdout",
     "output_type": "stream",
     "text": [
      "New Best Accuracy found: 20.16%\n",
      "Epoch: 1\n",
      "Epoch:10/200 AVG Training Loss:0.538 AVG Validation Loss:2.967 AVG Training Acc 79.00 % AVG Validation Acc 20.16 %\n",
      "Epoch:20/200 AVG Training Loss:0.574 AVG Validation Loss:3.732 AVG Training Acc 78.06 % AVG Validation Acc 20.16 %\n",
      "Epoch    28: reducing learning rate of group 0 to 1.0000e-03.\n",
      "New Best Accuracy found: 20.43%\n",
      "Epoch: 29\n",
      "Epoch:30/200 AVG Training Loss:0.708 AVG Validation Loss:2.037 AVG Training Acc 72.88 % AVG Validation Acc 20.43 %\n",
      "Epoch:40/200 AVG Training Loss:0.643 AVG Validation Loss:1.235 AVG Training Acc 65.71 % AVG Validation Acc 20.30 %\n",
      "New Best Accuracy found: 20.97%\n",
      "Epoch: 49\n",
      "Epoch:50/200 AVG Training Loss:0.651 AVG Validation Loss:1.095 AVG Training Acc 63.27 % AVG Validation Acc 20.70 %\n",
      "New Best Accuracy found: 21.24%\n",
      "Epoch: 53\n",
      "New Best Accuracy found: 21.37%\n",
      "Epoch: 55\n",
      "Epoch:60/200 AVG Training Loss:0.622 AVG Validation Loss:1.212 AVG Training Acc 66.73 % AVG Validation Acc 20.70 %\n",
      "Epoch    64: reducing learning rate of group 0 to 1.0000e-04.\n",
      "New Best Accuracy found: 22.04%\n",
      "Epoch: 65\n",
      "New Best Accuracy found: 25.54%\n",
      "Epoch: 66\n",
      "New Best Accuracy found: 29.17%\n",
      "Epoch: 67\n",
      "New Best Accuracy found: 34.68%\n",
      "Epoch: 68\n",
      "New Best Accuracy found: 38.04%\n",
      "Epoch: 69\n",
      "Epoch:70/200 AVG Training Loss:0.671 AVG Validation Loss:0.738 AVG Training Acc 58.49 % AVG Validation Acc 41.80 %\n",
      "New Best Accuracy found: 41.80%\n",
      "Epoch: 70\n",
      "New Best Accuracy found: 43.68%\n",
      "Epoch: 71\n",
      "New Best Accuracy found: 44.62%\n",
      "Epoch: 72\n",
      "New Best Accuracy found: 45.56%\n",
      "Epoch: 73\n",
      "New Best Accuracy found: 45.70%\n",
      "Epoch: 74\n",
      "New Best Accuracy found: 46.77%\n",
      "Epoch: 75\n",
      "New Best Accuracy found: 47.31%\n",
      "Epoch: 76\n",
      "New Best Accuracy found: 47.85%\n",
      "Epoch: 77\n",
      "New Best Accuracy found: 48.12%\n",
      "Epoch: 78\n",
      "Epoch:80/200 AVG Training Loss:0.657 AVG Validation Loss:0.717 AVG Training Acc 60.63 % AVG Validation Acc 47.72 %\n",
      "New Best Accuracy found: 48.25%\n",
      "Epoch: 82\n",
      "New Best Accuracy found: 48.39%\n",
      "Epoch: 83\n",
      "New Best Accuracy found: 48.52%\n",
      "Epoch: 84\n",
      "New Best Accuracy found: 48.66%\n",
      "Epoch: 85\n",
      "New Best Accuracy found: 48.79%\n",
      "Epoch: 87\n",
      "Epoch:90/200 AVG Training Loss:0.655 AVG Validation Loss:0.708 AVG Training Acc 61.16 % AVG Validation Acc 49.33 %\n",
      "New Best Accuracy found: 49.33%\n",
      "Epoch: 90\n",
      "New Best Accuracy found: 49.87%\n",
      "Epoch: 95\n",
      "Epoch:100/200 AVG Training Loss:0.651 AVG Validation Loss:0.710 AVG Training Acc 61.38 % AVG Validation Acc 49.19 %\n",
      "Epoch:110/200 AVG Training Loss:0.651 AVG Validation Loss:0.706 AVG Training Acc 61.76 % AVG Validation Acc 49.33 %\n",
      "New Best Accuracy found: 50.00%\n",
      "Epoch: 117\n",
      "Epoch:120/200 AVG Training Loss:0.647 AVG Validation Loss:0.704 AVG Training Acc 61.96 % AVG Validation Acc 50.54 %\n",
      "New Best Accuracy found: 50.54%\n",
      "Epoch: 120\n",
      "New Best Accuracy found: 50.81%\n",
      "Epoch: 127\n",
      "New Best Accuracy found: 50.94%\n",
      "Epoch: 128\n",
      "Epoch:130/200 AVG Training Loss:0.647 AVG Validation Loss:0.705 AVG Training Acc 62.48 % AVG Validation Acc 49.73 %\n",
      "New Best Accuracy found: 51.08%\n",
      "Epoch: 131\n",
      "New Best Accuracy found: 51.21%\n",
      "Epoch: 136\n",
      "New Best Accuracy found: 51.48%\n",
      "Epoch: 138\n",
      "Epoch:140/200 AVG Training Loss:0.642 AVG Validation Loss:0.703 AVG Training Acc 62.59 % AVG Validation Acc 49.46 %\n",
      "Epoch   149: reducing learning rate of group 0 to 1.0000e-05.\n",
      "Epoch:150/200 AVG Training Loss:0.646 AVG Validation Loss:0.698 AVG Training Acc 61.90 % AVG Validation Acc 51.34 %\n",
      "New Best Accuracy found: 52.28%\n",
      "Epoch: 152\n",
      "New Best Accuracy found: 52.69%\n",
      "Epoch: 153\n",
      "New Best Accuracy found: 52.96%\n",
      "Epoch: 154\n",
      "New Best Accuracy found: 53.63%\n",
      "Epoch: 155\n",
      "New Best Accuracy found: 54.84%\n",
      "Epoch: 156\n",
      "New Best Accuracy found: 55.24%\n",
      "Epoch: 158\n",
      "New Best Accuracy found: 55.65%\n",
      "Epoch: 159\n",
      "Epoch:160/200 AVG Training Loss:0.636 AVG Validation Loss:0.666 AVG Training Acc 63.15 % AVG Validation Acc 55.78 %\n",
      "New Best Accuracy found: 55.78%\n",
      "Epoch: 160\n",
      "New Best Accuracy found: 56.45%\n",
      "Epoch: 162\n",
      "New Best Accuracy found: 56.59%\n",
      "Epoch: 164\n",
      "New Best Accuracy found: 56.99%\n",
      "Epoch: 166\n",
      "Epoch:170/200 AVG Training Loss:0.638 AVG Validation Loss:0.656 AVG Training Acc 63.54 % AVG Validation Acc 57.12 %\n",
      "New Best Accuracy found: 57.12%\n",
      "Epoch: 170\n",
      "New Best Accuracy found: 57.26%\n",
      "Epoch: 177\n",
      "New Best Accuracy found: 57.53%\n",
      "Epoch: 178\n",
      "Epoch:180/200 AVG Training Loss:0.636 AVG Validation Loss:0.653 AVG Training Acc 64.01 % AVG Validation Acc 56.72 %\n",
      "New Best Accuracy found: 58.06%\n",
      "Epoch: 185\n",
      "Epoch:190/200 AVG Training Loss:0.637 AVG Validation Loss:0.649 AVG Training Acc 63.64 % AVG Validation Acc 57.39 %\n",
      "Epoch:200/200 AVG Training Loss:0.637 AVG Validation Loss:0.647 AVG Training Acc 63.83 % AVG Validation Acc 57.80 %\n",
      "Split 2\n"
     ]
    },
    {
     "data": {
      "application/vnd.jupyter.widget-view+json": {
       "model_id": "71e3ac33918946b897d30ba695a3ea04",
       "version_major": 2,
       "version_minor": 0
      },
      "text/plain": [
       "  0%|          | 0/200 [00:00<?, ?it/s]"
      ]
     },
     "metadata": {},
     "output_type": "display_data"
    },
    {
     "name": "stdout",
     "output_type": "stream",
     "text": [
      "Epoch:10/200 AVG Training Loss:0.530 AVG Validation Loss:3.689 AVG Training Acc 76.93 % AVG Validation Acc 20.16 %\n",
      "Epoch:20/200 AVG Training Loss:0.470 AVG Validation Loss:4.454 AVG Training Acc 79.58 % AVG Validation Acc 20.16 %\n",
      "Epoch:30/200 AVG Training Loss:0.616 AVG Validation Loss:1.798 AVG Training Acc 69.45 % AVG Validation Acc 20.16 %\n",
      "Epoch:40/200 AVG Training Loss:0.622 AVG Validation Loss:1.791 AVG Training Acc 69.06 % AVG Validation Acc 20.16 %\n",
      "Epoch:50/200 AVG Training Loss:0.583 AVG Validation Loss:7.133 AVG Training Acc 81.61 % AVG Validation Acc 20.16 %\n",
      "Epoch    56: reducing learning rate of group 0 to 1.0000e-03.\n",
      "Epoch:60/200 AVG Training Loss:0.693 AVG Validation Loss:0.977 AVG Training Acc 56.85 % AVG Validation Acc 23.39 %\n",
      "Epoch:70/200 AVG Training Loss:0.679 AVG Validation Loss:0.926 AVG Training Acc 58.79 % AVG Validation Acc 28.76 %\n",
      "Epoch:80/200 AVG Training Loss:0.664 AVG Validation Loss:0.936 AVG Training Acc 61.31 % AVG Validation Acc 35.08 %\n",
      "Epoch    87: reducing learning rate of group 0 to 1.0000e-04.\n",
      "Epoch:90/200 AVG Training Loss:0.673 AVG Validation Loss:0.771 AVG Training Acc 59.90 % AVG Validation Acc 49.33 %\n",
      "New Best Accuracy found: 58.20%\n",
      "Epoch: 95\n",
      "New Best Accuracy found: 58.74%\n",
      "Epoch: 96\n",
      "New Best Accuracy found: 59.41%\n",
      "Epoch: 97\n",
      "New Best Accuracy found: 60.22%\n",
      "Epoch: 98\n",
      "Epoch:100/200 AVG Training Loss:0.650 AVG Validation Loss:0.685 AVG Training Acc 62.12 % AVG Validation Acc 61.56 %\n",
      "New Best Accuracy found: 61.56%\n",
      "Epoch: 100\n",
      "New Best Accuracy found: 61.83%\n",
      "Epoch: 101\n",
      "Epoch:110/200 AVG Training Loss:0.645 AVG Validation Loss:0.674 AVG Training Acc 62.74 % AVG Validation Acc 60.75 %\n",
      "New Best Accuracy found: 61.96%\n",
      "Epoch: 113\n",
      "Epoch:120/200 AVG Training Loss:0.647 AVG Validation Loss:0.671 AVG Training Acc 62.56 % AVG Validation Acc 61.56 %\n",
      "New Best Accuracy found: 62.10%\n",
      "Epoch: 127\n",
      "Epoch:130/200 AVG Training Loss:0.644 AVG Validation Loss:0.670 AVG Training Acc 63.02 % AVG Validation Acc 61.83 %\n",
      "Epoch:140/200 AVG Training Loss:0.645 AVG Validation Loss:0.670 AVG Training Acc 62.78 % AVG Validation Acc 61.56 %\n",
      "Epoch:150/200 AVG Training Loss:0.640 AVG Validation Loss:0.669 AVG Training Acc 63.42 % AVG Validation Acc 61.83 %\n",
      "New Best Accuracy found: 62.23%\n",
      "Epoch: 152\n",
      "Epoch   156: reducing learning rate of group 0 to 1.0000e-05.\n",
      "New Best Accuracy found: 62.37%\n",
      "Epoch: 156\n",
      "Epoch:160/200 AVG Training Loss:0.640 AVG Validation Loss:0.666 AVG Training Acc 63.56 % AVG Validation Acc 62.63 %\n",
      "New Best Accuracy found: 62.63%\n",
      "Epoch: 160\n",
      "Epoch:170/200 AVG Training Loss:0.638 AVG Validation Loss:0.663 AVG Training Acc 63.74 % AVG Validation Acc 62.50 %\n",
      "New Best Accuracy found: 62.77%\n",
      "Epoch: 171\n",
      "New Best Accuracy found: 63.17%\n",
      "Epoch: 177\n",
      "Epoch:180/200 AVG Training Loss:0.639 AVG Validation Loss:0.661 AVG Training Acc 63.88 % AVG Validation Acc 62.10 %\n",
      "Epoch:190/200 AVG Training Loss:0.638 AVG Validation Loss:0.659 AVG Training Acc 63.74 % AVG Validation Acc 63.17 %\n",
      "New Best Accuracy found: 63.31%\n",
      "Epoch: 194\n",
      "New Best Accuracy found: 63.44%\n",
      "Epoch: 199\n",
      "Epoch:200/200 AVG Training Loss:0.638 AVG Validation Loss:0.658 AVG Training Acc 63.46 % AVG Validation Acc 63.17 %\n",
      "Split 3\n"
     ]
    },
    {
     "data": {
      "application/vnd.jupyter.widget-view+json": {
       "model_id": "eccac6e7f35e4a0f9fc2403240dabdbd",
       "version_major": 2,
       "version_minor": 0
      },
      "text/plain": [
       "  0%|          | 0/200 [00:00<?, ?it/s]"
      ]
     },
     "metadata": {},
     "output_type": "display_data"
    },
    {
     "name": "stdout",
     "output_type": "stream",
     "text": [
      "Epoch:10/200 AVG Training Loss:0.546 AVG Validation Loss:3.848 AVG Training Acc 79.79 % AVG Validation Acc 20.16 %\n",
      "Epoch:20/200 AVG Training Loss:0.561 AVG Validation Loss:3.854 AVG Training Acc 81.72 % AVG Validation Acc 20.16 %\n",
      "Epoch    23: reducing learning rate of group 0 to 1.0000e-03.\n",
      "Epoch:30/200 AVG Training Loss:0.694 AVG Validation Loss:0.814 AVG Training Acc 53.22 % AVG Validation Acc 24.33 %\n",
      "Epoch:40/200 AVG Training Loss:0.679 AVG Validation Loss:0.861 AVG Training Acc 56.71 % AVG Validation Acc 25.00 %\n",
      "Epoch:50/200 AVG Training Loss:0.668 AVG Validation Loss:0.826 AVG Training Acc 59.22 % AVG Validation Acc 29.97 %\n",
      "Epoch    54: reducing learning rate of group 0 to 1.0000e-04.\n",
      "Epoch:60/200 AVG Training Loss:0.665 AVG Validation Loss:0.724 AVG Training Acc 59.30 % AVG Validation Acc 47.85 %\n",
      "Epoch:70/200 AVG Training Loss:0.659 AVG Validation Loss:0.685 AVG Training Acc 60.17 % AVG Validation Acc 57.66 %\n",
      "Epoch:80/200 AVG Training Loss:0.657 AVG Validation Loss:0.676 AVG Training Acc 60.16 % AVG Validation Acc 61.02 %\n",
      "Epoch:90/200 AVG Training Loss:0.657 AVG Validation Loss:0.674 AVG Training Acc 60.27 % AVG Validation Acc 61.69 %\n",
      "Epoch:100/200 AVG Training Loss:0.654 AVG Validation Loss:0.674 AVG Training Acc 60.41 % AVG Validation Acc 61.96 %\n",
      "Epoch:110/200 AVG Training Loss:0.653 AVG Validation Loss:0.673 AVG Training Acc 60.53 % AVG Validation Acc 62.23 %\n",
      "Epoch:120/200 AVG Training Loss:0.655 AVG Validation Loss:0.673 AVG Training Acc 60.29 % AVG Validation Acc 62.23 %\n",
      "Epoch   124: reducing learning rate of group 0 to 1.0000e-05.\n",
      "Epoch:130/200 AVG Training Loss:0.650 AVG Validation Loss:0.672 AVG Training Acc 60.76 % AVG Validation Acc 62.90 %\n",
      "Epoch:140/200 AVG Training Loss:0.651 AVG Validation Loss:0.670 AVG Training Acc 61.30 % AVG Validation Acc 63.04 %\n",
      "New Best Accuracy found: 63.58%\n",
      "Epoch: 142\n",
      "New Best Accuracy found: 63.71%\n",
      "Epoch: 145\n",
      "New Best Accuracy found: 63.84%\n",
      "Epoch: 149\n",
      "Epoch:150/200 AVG Training Loss:0.651 AVG Validation Loss:0.669 AVG Training Acc 60.73 % AVG Validation Acc 63.84 %\n",
      "Epoch:160/200 AVG Training Loss:0.649 AVG Validation Loss:0.668 AVG Training Acc 61.50 % AVG Validation Acc 63.71 %\n",
      "New Best Accuracy found: 63.98%\n",
      "Epoch: 166\n",
      "Epoch:170/200 AVG Training Loss:0.649 AVG Validation Loss:0.667 AVG Training Acc 61.47 % AVG Validation Acc 63.98 %\n",
      "New Best Accuracy found: 64.11%\n",
      "Epoch: 174\n",
      "Epoch:180/200 AVG Training Loss:0.650 AVG Validation Loss:0.666 AVG Training Acc 61.26 % AVG Validation Acc 64.11 %\n",
      "Epoch:190/200 AVG Training Loss:0.647 AVG Validation Loss:0.666 AVG Training Acc 61.27 % AVG Validation Acc 64.11 %\n",
      "New Best Accuracy found: 64.25%\n",
      "Epoch: 191\n",
      "Epoch:200/200 AVG Training Loss:0.649 AVG Validation Loss:0.665 AVG Training Acc 61.51 % AVG Validation Acc 64.11 %\n",
      "Split 4\n"
     ]
    },
    {
     "data": {
      "application/vnd.jupyter.widget-view+json": {
       "model_id": "ec1d700d65d348cc8d04d3f5139f8e51",
       "version_major": 2,
       "version_minor": 0
      },
      "text/plain": [
       "  0%|          | 0/200 [00:00<?, ?it/s]"
      ]
     },
     "metadata": {},
     "output_type": "display_data"
    },
    {
     "name": "stdout",
     "output_type": "stream",
     "text": [
      "Epoch:10/200 AVG Training Loss:0.554 AVG Validation Loss:3.869 AVG Training Acc 77.78 % AVG Validation Acc 20.16 %\n",
      "Epoch:20/200 AVG Training Loss:0.509 AVG Validation Loss:4.751 AVG Training Acc 80.07 % AVG Validation Acc 20.16 %\n",
      "Epoch    25: reducing learning rate of group 0 to 1.0000e-03.\n",
      "Epoch:30/200 AVG Training Loss:0.697 AVG Validation Loss:0.818 AVG Training Acc 52.36 % AVG Validation Acc 26.61 %\n",
      "Epoch:40/200 AVG Training Loss:0.681 AVG Validation Loss:0.844 AVG Training Acc 56.94 % AVG Validation Acc 29.70 %\n",
      "Epoch:50/200 AVG Training Loss:0.675 AVG Validation Loss:0.858 AVG Training Acc 58.19 % AVG Validation Acc 30.51 %\n",
      "Epoch    56: reducing learning rate of group 0 to 1.0000e-04.\n",
      "Epoch:60/200 AVG Training Loss:0.677 AVG Validation Loss:0.761 AVG Training Acc 58.28 % AVG Validation Acc 42.61 %\n",
      "Epoch:70/200 AVG Training Loss:0.664 AVG Validation Loss:0.699 AVG Training Acc 60.43 % AVG Validation Acc 51.75 %\n",
      "Epoch:80/200 AVG Training Loss:0.663 AVG Validation Loss:0.688 AVG Training Acc 61.10 % AVG Validation Acc 53.49 %\n",
      "Epoch:90/200 AVG Training Loss:0.663 AVG Validation Loss:0.686 AVG Training Acc 61.12 % AVG Validation Acc 54.57 %\n",
      "Epoch:100/200 AVG Training Loss:0.659 AVG Validation Loss:0.684 AVG Training Acc 61.58 % AVG Validation Acc 56.05 %\n",
      "Epoch:110/200 AVG Training Loss:0.658 AVG Validation Loss:0.683 AVG Training Acc 61.17 % AVG Validation Acc 56.18 %\n",
      "Epoch:120/200 AVG Training Loss:0.656 AVG Validation Loss:0.682 AVG Training Acc 61.53 % AVG Validation Acc 56.32 %\n",
      "Epoch:130/200 AVG Training Loss:0.657 AVG Validation Loss:0.681 AVG Training Acc 61.71 % AVG Validation Acc 56.72 %\n",
      "Epoch:140/200 AVG Training Loss:0.655 AVG Validation Loss:0.680 AVG Training Acc 62.00 % AVG Validation Acc 56.99 %\n",
      "Epoch:150/200 AVG Training Loss:0.653 AVG Validation Loss:0.681 AVG Training Acc 62.44 % AVG Validation Acc 56.59 %\n",
      "Epoch   157: reducing learning rate of group 0 to 1.0000e-05.\n",
      "Epoch:160/200 AVG Training Loss:0.651 AVG Validation Loss:0.678 AVG Training Acc 62.21 % AVG Validation Acc 56.72 %\n",
      "Epoch:170/200 AVG Training Loss:0.651 AVG Validation Loss:0.675 AVG Training Acc 62.24 % AVG Validation Acc 56.99 %\n",
      "Epoch:180/200 AVG Training Loss:0.651 AVG Validation Loss:0.673 AVG Training Acc 62.04 % AVG Validation Acc 57.39 %\n",
      "Epoch:190/200 AVG Training Loss:0.649 AVG Validation Loss:0.671 AVG Training Acc 62.40 % AVG Validation Acc 57.39 %\n",
      "Epoch:200/200 AVG Training Loss:0.649 AVG Validation Loss:0.670 AVG Training Acc 62.28 % AVG Validation Acc 57.80 %\n",
      "Split 5\n"
     ]
    },
    {
     "data": {
      "application/vnd.jupyter.widget-view+json": {
       "model_id": "372a16be87ea4f8ca298076ba6ee6992",
       "version_major": 2,
       "version_minor": 0
      },
      "text/plain": [
       "  0%|          | 0/200 [00:00<?, ?it/s]"
      ]
     },
     "metadata": {},
     "output_type": "display_data"
    },
    {
     "name": "stdout",
     "output_type": "stream",
     "text": [
      "Epoch:10/200 AVG Training Loss:0.530 AVG Validation Loss:5.106 AVG Training Acc 80.36 % AVG Validation Acc 20.16 %\n",
      "Epoch:20/200 AVG Training Loss:0.519 AVG Validation Loss:4.101 AVG Training Acc 83.05 % AVG Validation Acc 20.16 %\n",
      "Epoch    28: reducing learning rate of group 0 to 1.0000e-03.\n",
      "Epoch:30/200 AVG Training Loss:0.791 AVG Validation Loss:0.980 AVG Training Acc 49.64 % AVG Validation Acc 20.30 %\n",
      "Epoch:40/200 AVG Training Loss:0.686 AVG Validation Loss:0.836 AVG Training Acc 55.96 % AVG Validation Acc 34.81 %\n",
      "Epoch:50/200 AVG Training Loss:0.675 AVG Validation Loss:0.820 AVG Training Acc 57.40 % AVG Validation Acc 35.48 %\n",
      "Epoch:60/200 AVG Training Loss:0.669 AVG Validation Loss:0.830 AVG Training Acc 59.69 % AVG Validation Acc 38.44 %\n",
      "Epoch    64: reducing learning rate of group 0 to 1.0000e-04.\n",
      "Epoch:70/200 AVG Training Loss:0.661 AVG Validation Loss:0.736 AVG Training Acc 60.27 % AVG Validation Acc 48.12 %\n",
      "Epoch:80/200 AVG Training Loss:0.655 AVG Validation Loss:0.694 AVG Training Acc 60.52 % AVG Validation Acc 55.91 %\n",
      "Epoch:90/200 AVG Training Loss:0.655 AVG Validation Loss:0.686 AVG Training Acc 61.18 % AVG Validation Acc 56.32 %\n",
      "Epoch:100/200 AVG Training Loss:0.653 AVG Validation Loss:0.685 AVG Training Acc 61.28 % AVG Validation Acc 57.39 %\n",
      "Epoch:110/200 AVG Training Loss:0.650 AVG Validation Loss:0.685 AVG Training Acc 61.13 % AVG Validation Acc 57.53 %\n",
      "Epoch   119: reducing learning rate of group 0 to 1.0000e-05.\n",
      "Epoch:120/200 AVG Training Loss:0.651 AVG Validation Loss:0.685 AVG Training Acc 61.22 % AVG Validation Acc 57.53 %\n",
      "Epoch:130/200 AVG Training Loss:0.650 AVG Validation Loss:0.682 AVG Training Acc 61.43 % AVG Validation Acc 57.53 %\n",
      "Epoch:140/200 AVG Training Loss:0.651 AVG Validation Loss:0.681 AVG Training Acc 61.70 % AVG Validation Acc 57.80 %\n",
      "Epoch:150/200 AVG Training Loss:0.649 AVG Validation Loss:0.679 AVG Training Acc 61.43 % AVG Validation Acc 58.47 %\n",
      "Epoch:160/200 AVG Training Loss:0.650 AVG Validation Loss:0.678 AVG Training Acc 61.46 % AVG Validation Acc 58.60 %\n",
      "Epoch:170/200 AVG Training Loss:0.649 AVG Validation Loss:0.678 AVG Training Acc 61.67 % AVG Validation Acc 58.87 %\n",
      "Epoch:180/200 AVG Training Loss:0.648 AVG Validation Loss:0.676 AVG Training Acc 61.76 % AVG Validation Acc 59.14 %\n",
      "Epoch:190/200 AVG Training Loss:0.649 AVG Validation Loss:0.676 AVG Training Acc 61.67 % AVG Validation Acc 59.01 %\n",
      "Epoch:200/200 AVG Training Loss:0.650 AVG Validation Loss:0.675 AVG Training Acc 61.49 % AVG Validation Acc 59.14 %\n",
      "Split 6\n"
     ]
    },
    {
     "data": {
      "application/vnd.jupyter.widget-view+json": {
       "model_id": "033cb65623cf4b67b65c89968539b442",
       "version_major": 2,
       "version_minor": 0
      },
      "text/plain": [
       "  0%|          | 0/200 [00:00<?, ?it/s]"
      ]
     },
     "metadata": {},
     "output_type": "display_data"
    },
    {
     "name": "stdout",
     "output_type": "stream",
     "text": [
      "Epoch:10/200 AVG Training Loss:0.559 AVG Validation Loss:4.379 AVG Training Acc 77.15 % AVG Validation Acc 20.16 %\n",
      "Epoch:20/200 AVG Training Loss:0.648 AVG Validation Loss:1.598 AVG Training Acc 65.93 % AVG Validation Acc 20.16 %\n",
      "Epoch:30/200 AVG Training Loss:0.485 AVG Validation Loss:5.460 AVG Training Acc 82.61 % AVG Validation Acc 20.16 %\n",
      "Epoch    31: reducing learning rate of group 0 to 1.0000e-03.\n",
      "Epoch:40/200 AVG Training Loss:0.696 AVG Validation Loss:0.814 AVG Training Acc 52.12 % AVG Validation Acc 24.19 %\n",
      "Epoch:50/200 AVG Training Loss:0.690 AVG Validation Loss:0.807 AVG Training Acc 53.94 % AVG Validation Acc 26.48 %\n",
      "Epoch:60/200 AVG Training Loss:0.676 AVG Validation Loss:0.814 AVG Training Acc 58.47 % AVG Validation Acc 30.91 %\n",
      "Epoch    62: reducing learning rate of group 0 to 1.0000e-04.\n",
      "Epoch:70/200 AVG Training Loss:0.672 AVG Validation Loss:0.723 AVG Training Acc 57.70 % AVG Validation Acc 47.45 %\n",
      "Epoch:80/200 AVG Training Loss:0.665 AVG Validation Loss:0.689 AVG Training Acc 59.74 % AVG Validation Acc 51.75 %\n",
      "Epoch:90/200 AVG Training Loss:0.664 AVG Validation Loss:0.684 AVG Training Acc 59.64 % AVG Validation Acc 52.42 %\n",
      "Epoch:100/200 AVG Training Loss:0.663 AVG Validation Loss:0.683 AVG Training Acc 60.22 % AVG Validation Acc 52.96 %\n",
      "Epoch:110/200 AVG Training Loss:0.665 AVG Validation Loss:0.683 AVG Training Acc 60.03 % AVG Validation Acc 52.96 %\n",
      "Epoch   114: reducing learning rate of group 0 to 1.0000e-05.\n",
      "Epoch:120/200 AVG Training Loss:0.662 AVG Validation Loss:0.681 AVG Training Acc 59.93 % AVG Validation Acc 53.76 %\n",
      "Epoch:130/200 AVG Training Loss:0.662 AVG Validation Loss:0.679 AVG Training Acc 60.05 % AVG Validation Acc 54.03 %\n",
      "Epoch:140/200 AVG Training Loss:0.662 AVG Validation Loss:0.677 AVG Training Acc 60.35 % AVG Validation Acc 54.03 %\n",
      "Epoch:150/200 AVG Training Loss:0.662 AVG Validation Loss:0.676 AVG Training Acc 60.35 % AVG Validation Acc 53.90 %\n",
      "Epoch:160/200 AVG Training Loss:0.663 AVG Validation Loss:0.674 AVG Training Acc 60.08 % AVG Validation Acc 54.17 %\n",
      "Epoch:170/200 AVG Training Loss:0.661 AVG Validation Loss:0.673 AVG Training Acc 60.41 % AVG Validation Acc 54.57 %\n",
      "Epoch:180/200 AVG Training Loss:0.658 AVG Validation Loss:0.672 AVG Training Acc 60.89 % AVG Validation Acc 54.57 %\n",
      "Epoch:190/200 AVG Training Loss:0.660 AVG Validation Loss:0.671 AVG Training Acc 60.71 % AVG Validation Acc 54.44 %\n",
      "Epoch:200/200 AVG Training Loss:0.661 AVG Validation Loss:0.671 AVG Training Acc 60.11 % AVG Validation Acc 55.11 %\n",
      "Split 7\n"
     ]
    },
    {
     "data": {
      "application/vnd.jupyter.widget-view+json": {
       "model_id": "e2245280fb0f4ddeb8e9915b018e1b24",
       "version_major": 2,
       "version_minor": 0
      },
      "text/plain": [
       "  0%|          | 0/200 [00:00<?, ?it/s]"
      ]
     },
     "metadata": {},
     "output_type": "display_data"
    },
    {
     "name": "stdout",
     "output_type": "stream",
     "text": [
      "Epoch:10/200 AVG Training Loss:0.548 AVG Validation Loss:3.534 AVG Training Acc 78.27 % AVG Validation Acc 20.05 %\n",
      "Epoch:20/200 AVG Training Loss:0.584 AVG Validation Loss:2.533 AVG Training Acc 75.14 % AVG Validation Acc 20.05 %\n",
      "Epoch:30/200 AVG Training Loss:0.631 AVG Validation Loss:1.820 AVG Training Acc 67.57 % AVG Validation Acc 20.05 %\n",
      "Epoch:40/200 AVG Training Loss:0.634 AVG Validation Loss:1.685 AVG Training Acc 68.78 % AVG Validation Acc 20.05 %\n",
      "Epoch:50/200 AVG Training Loss:0.641 AVG Validation Loss:1.614 AVG Training Acc 66.16 % AVG Validation Acc 20.05 %\n",
      "Epoch    57: reducing learning rate of group 0 to 1.0000e-03.\n",
      "Epoch:60/200 AVG Training Loss:0.728 AVG Validation Loss:0.869 AVG Training Acc 51.86 % AVG Validation Acc 23.55 %\n",
      "Epoch:70/200 AVG Training Loss:0.672 AVG Validation Loss:0.776 AVG Training Acc 59.18 % AVG Validation Acc 38.76 %\n",
      "Epoch:80/200 AVG Training Loss:0.663 AVG Validation Loss:0.772 AVG Training Acc 60.00 % AVG Validation Acc 45.09 %\n",
      "Epoch:90/200 AVG Training Loss:0.659 AVG Validation Loss:0.768 AVG Training Acc 60.54 % AVG Validation Acc 45.22 %\n",
      "Epoch:100/200 AVG Training Loss:0.657 AVG Validation Loss:0.761 AVG Training Acc 60.88 % AVG Validation Acc 45.90 %\n",
      "Epoch:110/200 AVG Training Loss:0.653 AVG Validation Loss:0.754 AVG Training Acc 60.99 % AVG Validation Acc 45.76 %\n",
      "Epoch:120/200 AVG Training Loss:0.652 AVG Validation Loss:0.757 AVG Training Acc 60.95 % AVG Validation Acc 44.95 %\n",
      "Epoch   122: reducing learning rate of group 0 to 1.0000e-04.\n",
      "Epoch:130/200 AVG Training Loss:0.645 AVG Validation Loss:0.706 AVG Training Acc 61.81 % AVG Validation Acc 51.14 %\n",
      "Epoch:140/200 AVG Training Loss:0.644 AVG Validation Loss:0.683 AVG Training Acc 62.50 % AVG Validation Acc 53.57 %\n",
      "Epoch:150/200 AVG Training Loss:0.642 AVG Validation Loss:0.677 AVG Training Acc 62.56 % AVG Validation Acc 54.64 %\n",
      "Epoch:160/200 AVG Training Loss:0.639 AVG Validation Loss:0.674 AVG Training Acc 62.78 % AVG Validation Acc 55.45 %\n",
      "Epoch:170/200 AVG Training Loss:0.641 AVG Validation Loss:0.674 AVG Training Acc 62.58 % AVG Validation Acc 55.72 %\n",
      "Epoch:180/200 AVG Training Loss:0.640 AVG Validation Loss:0.674 AVG Training Acc 63.06 % AVG Validation Acc 55.85 %\n",
      "Epoch   182: reducing learning rate of group 0 to 1.0000e-05.\n",
      "Epoch:190/200 AVG Training Loss:0.640 AVG Validation Loss:0.672 AVG Training Acc 63.03 % AVG Validation Acc 55.59 %\n",
      "Epoch:200/200 AVG Training Loss:0.638 AVG Validation Loss:0.671 AVG Training Acc 62.68 % AVG Validation Acc 56.26 %\n",
      "Split 8\n"
     ]
    },
    {
     "data": {
      "application/vnd.jupyter.widget-view+json": {
       "model_id": "36809af622ec41cd9bb7884f7f4a2d28",
       "version_major": 2,
       "version_minor": 0
      },
      "text/plain": [
       "  0%|          | 0/200 [00:00<?, ?it/s]"
      ]
     },
     "metadata": {},
     "output_type": "display_data"
    },
    {
     "name": "stdout",
     "output_type": "stream",
     "text": [
      "Epoch:10/200 AVG Training Loss:0.517 AVG Validation Loss:4.331 AVG Training Acc 80.93 % AVG Validation Acc 20.05 %\n",
      "Epoch:20/200 AVG Training Loss:0.559 AVG Validation Loss:7.378 AVG Training Acc 77.54 % AVG Validation Acc 20.05 %\n",
      "Epoch    22: reducing learning rate of group 0 to 1.0000e-03.\n",
      "Epoch:30/200 AVG Training Loss:0.690 AVG Validation Loss:0.781 AVG Training Acc 54.71 % AVG Validation Acc 32.03 %\n",
      "Epoch:40/200 AVG Training Loss:0.678 AVG Validation Loss:0.795 AVG Training Acc 57.76 % AVG Validation Acc 30.55 %\n",
      "Epoch:50/200 AVG Training Loss:0.669 AVG Validation Loss:0.803 AVG Training Acc 59.11 % AVG Validation Acc 32.17 %\n",
      "Epoch    53: reducing learning rate of group 0 to 1.0000e-04.\n",
      "Epoch:60/200 AVG Training Loss:0.665 AVG Validation Loss:0.707 AVG Training Acc 59.19 % AVG Validation Acc 51.28 %\n",
      "Epoch:70/200 AVG Training Loss:0.658 AVG Validation Loss:0.672 AVG Training Acc 60.94 % AVG Validation Acc 59.35 %\n",
      "Epoch:80/200 AVG Training Loss:0.660 AVG Validation Loss:0.666 AVG Training Acc 60.59 % AVG Validation Acc 60.57 %\n",
      "Epoch:90/200 AVG Training Loss:0.658 AVG Validation Loss:0.664 AVG Training Acc 61.22 % AVG Validation Acc 60.70 %\n",
      "Epoch:100/200 AVG Training Loss:0.657 AVG Validation Loss:0.663 AVG Training Acc 60.72 % AVG Validation Acc 60.57 %\n",
      "Epoch:110/200 AVG Training Loss:0.657 AVG Validation Loss:0.663 AVG Training Acc 61.18 % AVG Validation Acc 60.16 %\n",
      "Epoch   115: reducing learning rate of group 0 to 1.0000e-05.\n",
      "Epoch:120/200 AVG Training Loss:0.653 AVG Validation Loss:0.661 AVG Training Acc 61.58 % AVG Validation Acc 60.16 %\n",
      "Epoch:130/200 AVG Training Loss:0.652 AVG Validation Loss:0.659 AVG Training Acc 61.79 % AVG Validation Acc 60.97 %\n",
      "Epoch:140/200 AVG Training Loss:0.654 AVG Validation Loss:0.657 AVG Training Acc 61.43 % AVG Validation Acc 61.78 %\n",
      "Epoch:150/200 AVG Training Loss:0.654 AVG Validation Loss:0.656 AVG Training Acc 61.88 % AVG Validation Acc 62.18 %\n",
      "Epoch:160/200 AVG Training Loss:0.653 AVG Validation Loss:0.655 AVG Training Acc 61.44 % AVG Validation Acc 62.18 %\n",
      "Epoch:170/200 AVG Training Loss:0.652 AVG Validation Loss:0.653 AVG Training Acc 62.23 % AVG Validation Acc 62.45 %\n",
      "Epoch:180/200 AVG Training Loss:0.654 AVG Validation Loss:0.653 AVG Training Acc 61.85 % AVG Validation Acc 62.45 %\n",
      "Epoch:190/200 AVG Training Loss:0.652 AVG Validation Loss:0.652 AVG Training Acc 61.49 % AVG Validation Acc 62.58 %\n",
      "Epoch:200/200 AVG Training Loss:0.652 AVG Validation Loss:0.651 AVG Training Acc 61.52 % AVG Validation Acc 62.05 %\n",
      "Split 9\n"
     ]
    },
    {
     "data": {
      "application/vnd.jupyter.widget-view+json": {
       "model_id": "45f57487e19543d5b79837cb7c2c97be",
       "version_major": 2,
       "version_minor": 0
      },
      "text/plain": [
       "  0%|          | 0/200 [00:00<?, ?it/s]"
      ]
     },
     "metadata": {},
     "output_type": "display_data"
    },
    {
     "name": "stdout",
     "output_type": "stream",
     "text": [
      "Epoch:10/200 AVG Training Loss:0.515 AVG Validation Loss:6.271 AVG Training Acc 80.58 % AVG Validation Acc 20.05 %\n",
      "Epoch:20/200 AVG Training Loss:0.541 AVG Validation Loss:5.918 AVG Training Acc 78.62 % AVG Validation Acc 20.05 %\n",
      "Epoch:30/200 AVG Training Loss:0.533 AVG Validation Loss:8.971 AVG Training Acc 80.44 % AVG Validation Acc 20.05 %\n",
      "Epoch    34: reducing learning rate of group 0 to 1.0000e-03.\n",
      "Epoch:40/200 AVG Training Loss:0.699 AVG Validation Loss:0.780 AVG Training Acc 51.01 % AVG Validation Acc 26.78 %\n",
      "Epoch:50/200 AVG Training Loss:0.676 AVG Validation Loss:0.827 AVG Training Acc 57.96 % AVG Validation Acc 37.15 %\n",
      "Epoch:60/200 AVG Training Loss:0.666 AVG Validation Loss:0.817 AVG Training Acc 60.30 % AVG Validation Acc 42.26 %\n",
      "Epoch    65: reducing learning rate of group 0 to 1.0000e-04.\n",
      "Epoch:70/200 AVG Training Loss:0.663 AVG Validation Loss:0.723 AVG Training Acc 60.40 % AVG Validation Acc 52.49 %\n",
      "Epoch:80/200 AVG Training Loss:0.654 AVG Validation Loss:0.677 AVG Training Acc 61.38 % AVG Validation Acc 57.47 %\n",
      "Epoch:90/200 AVG Training Loss:0.652 AVG Validation Loss:0.668 AVG Training Acc 61.99 % AVG Validation Acc 58.41 %\n",
      "Epoch:100/200 AVG Training Loss:0.651 AVG Validation Loss:0.663 AVG Training Acc 62.06 % AVG Validation Acc 58.41 %\n",
      "Epoch:110/200 AVG Training Loss:0.652 AVG Validation Loss:0.664 AVG Training Acc 62.24 % AVG Validation Acc 59.22 %\n",
      "Epoch:120/200 AVG Training Loss:0.648 AVG Validation Loss:0.664 AVG Training Acc 62.27 % AVG Validation Acc 58.68 %\n",
      "Epoch   128: reducing learning rate of group 0 to 1.0000e-05.\n",
      "Epoch:130/200 AVG Training Loss:0.647 AVG Validation Loss:0.662 AVG Training Acc 62.38 % AVG Validation Acc 58.95 %\n",
      "Epoch:140/200 AVG Training Loss:0.647 AVG Validation Loss:0.660 AVG Training Acc 62.53 % AVG Validation Acc 59.76 %\n",
      "Epoch:150/200 AVG Training Loss:0.649 AVG Validation Loss:0.658 AVG Training Acc 62.53 % AVG Validation Acc 59.76 %\n",
      "Epoch:160/200 AVG Training Loss:0.646 AVG Validation Loss:0.657 AVG Training Acc 62.79 % AVG Validation Acc 60.03 %\n",
      "Epoch:170/200 AVG Training Loss:0.647 AVG Validation Loss:0.656 AVG Training Acc 62.72 % AVG Validation Acc 60.43 %\n",
      "Epoch:180/200 AVG Training Loss:0.647 AVG Validation Loss:0.655 AVG Training Acc 62.54 % AVG Validation Acc 60.03 %\n",
      "Epoch:190/200 AVG Training Loss:0.649 AVG Validation Loss:0.654 AVG Training Acc 62.35 % AVG Validation Acc 60.57 %\n",
      "Epoch:200/200 AVG Training Loss:0.647 AVG Validation Loss:0.654 AVG Training Acc 62.76 % AVG Validation Acc 60.57 %\n",
      "Split 10\n"
     ]
    },
    {
     "data": {
      "application/vnd.jupyter.widget-view+json": {
       "model_id": "f88292c1de7e4238aefd3db7e4ebfa61",
       "version_major": 2,
       "version_minor": 0
      },
      "text/plain": [
       "  0%|          | 0/200 [00:00<?, ?it/s]"
      ]
     },
     "metadata": {},
     "output_type": "display_data"
    },
    {
     "name": "stdout",
     "output_type": "stream",
     "text": [
      "Epoch:10/200 AVG Training Loss:0.537 AVG Validation Loss:3.023 AVG Training Acc 77.54 % AVG Validation Acc 20.19 %\n",
      "Epoch:20/200 AVG Training Loss:0.543 AVG Validation Loss:3.323 AVG Training Acc 80.78 % AVG Validation Acc 20.19 %\n",
      "Epoch:30/200 AVG Training Loss:0.585 AVG Validation Loss:2.303 AVG Training Acc 74.90 % AVG Validation Acc 20.19 %\n",
      "Epoch    34: reducing learning rate of group 0 to 1.0000e-03.\n",
      "Epoch:40/200 AVG Training Loss:0.696 AVG Validation Loss:0.800 AVG Training Acc 52.16 % AVG Validation Acc 26.11 %\n",
      "Epoch:50/200 AVG Training Loss:0.676 AVG Validation Loss:0.811 AVG Training Acc 57.77 % AVG Validation Acc 34.72 %\n",
      "Epoch:60/200 AVG Training Loss:0.668 AVG Validation Loss:0.821 AVG Training Acc 59.08 % AVG Validation Acc 38.09 %\n",
      "Epoch    65: reducing learning rate of group 0 to 1.0000e-04.\n",
      "Epoch:70/200 AVG Training Loss:0.665 AVG Validation Loss:0.745 AVG Training Acc 59.29 % AVG Validation Acc 51.14 %\n",
      "Epoch:80/200 AVG Training Loss:0.655 AVG Validation Loss:0.702 AVG Training Acc 61.03 % AVG Validation Acc 59.89 %\n",
      "Epoch:90/200 AVG Training Loss:0.654 AVG Validation Loss:0.693 AVG Training Acc 61.36 % AVG Validation Acc 62.18 %\n",
      "Epoch:100/200 AVG Training Loss:0.656 AVG Validation Loss:0.691 AVG Training Acc 61.04 % AVG Validation Acc 62.85 %\n",
      "Epoch:110/200 AVG Training Loss:0.650 AVG Validation Loss:0.691 AVG Training Acc 61.97 % AVG Validation Acc 62.72 %\n",
      "Epoch:120/200 AVG Training Loss:0.650 AVG Validation Loss:0.692 AVG Training Acc 62.03 % AVG Validation Acc 62.99 %\n",
      "Epoch   126: reducing learning rate of group 0 to 1.0000e-05.\n",
      "Epoch:130/200 AVG Training Loss:0.650 AVG Validation Loss:0.690 AVG Training Acc 61.73 % AVG Validation Acc 62.99 %\n",
      "Epoch:140/200 AVG Training Loss:0.650 AVG Validation Loss:0.688 AVG Training Acc 62.09 % AVG Validation Acc 63.66 %\n",
      "Epoch:150/200 AVG Training Loss:0.649 AVG Validation Loss:0.687 AVG Training Acc 62.45 % AVG Validation Acc 63.66 %\n",
      "Epoch:160/200 AVG Training Loss:0.650 AVG Validation Loss:0.686 AVG Training Acc 61.62 % AVG Validation Acc 64.06 %\n",
      "Epoch:170/200 AVG Training Loss:0.651 AVG Validation Loss:0.685 AVG Training Acc 61.86 % AVG Validation Acc 63.80 %\n",
      "Epoch:180/200 AVG Training Loss:0.649 AVG Validation Loss:0.684 AVG Training Acc 62.18 % AVG Validation Acc 63.80 %\n",
      "Epoch:190/200 AVG Training Loss:0.650 AVG Validation Loss:0.684 AVG Training Acc 61.83 % AVG Validation Acc 63.93 %\n",
      "Epoch:200/200 AVG Training Loss:0.649 AVG Validation Loss:0.683 AVG Training Acc 62.41 % AVG Validation Acc 63.80 %\n",
      "Split 11\n"
     ]
    },
    {
     "data": {
      "application/vnd.jupyter.widget-view+json": {
       "model_id": "9262f94b926b42c5a1e0bb3ce4a15968",
       "version_major": 2,
       "version_minor": 0
      },
      "text/plain": [
       "  0%|          | 0/200 [00:00<?, ?it/s]"
      ]
     },
     "metadata": {},
     "output_type": "display_data"
    },
    {
     "name": "stdout",
     "output_type": "stream",
     "text": [
      "Epoch:10/200 AVG Training Loss:0.485 AVG Validation Loss:6.890 AVG Training Acc 81.72 % AVG Validation Acc 20.16 %\n",
      "Epoch:20/200 AVG Training Loss:0.529 AVG Validation Loss:8.631 AVG Training Acc 78.66 % AVG Validation Acc 20.16 %\n",
      "Epoch    26: reducing learning rate of group 0 to 1.0000e-03.\n",
      "Epoch:30/200 AVG Training Loss:0.700 AVG Validation Loss:0.797 AVG Training Acc 51.99 % AVG Validation Acc 24.60 %\n",
      "Epoch:40/200 AVG Training Loss:0.690 AVG Validation Loss:0.781 AVG Training Acc 53.93 % AVG Validation Acc 25.40 %\n",
      "Epoch:50/200 AVG Training Loss:0.680 AVG Validation Loss:0.794 AVG Training Acc 56.71 % AVG Validation Acc 29.03 %\n",
      "Epoch    57: reducing learning rate of group 0 to 1.0000e-04.\n",
      "Epoch:60/200 AVG Training Loss:0.681 AVG Validation Loss:0.750 AVG Training Acc 55.71 % AVG Validation Acc 38.98 %\n",
      "Epoch:70/200 AVG Training Loss:0.667 AVG Validation Loss:0.684 AVG Training Acc 59.30 % AVG Validation Acc 51.08 %\n",
      "Epoch:80/200 AVG Training Loss:0.666 AVG Validation Loss:0.671 AVG Training Acc 59.58 % AVG Validation Acc 55.65 %\n",
      "Epoch:90/200 AVG Training Loss:0.663 AVG Validation Loss:0.668 AVG Training Acc 59.64 % AVG Validation Acc 55.78 %\n",
      "Epoch:100/200 AVG Training Loss:0.662 AVG Validation Loss:0.667 AVG Training Acc 59.88 % AVG Validation Acc 56.59 %\n",
      "Epoch:110/200 AVG Training Loss:0.662 AVG Validation Loss:0.667 AVG Training Acc 59.83 % AVG Validation Acc 56.72 %\n",
      "Epoch:120/200 AVG Training Loss:0.660 AVG Validation Loss:0.666 AVG Training Acc 60.84 % AVG Validation Acc 56.05 %\n",
      "Epoch:130/200 AVG Training Loss:0.660 AVG Validation Loss:0.666 AVG Training Acc 59.97 % AVG Validation Acc 56.05 %\n",
      "Epoch:140/200 AVG Training Loss:0.657 AVG Validation Loss:0.665 AVG Training Acc 60.63 % AVG Validation Acc 56.59 %\n",
      "Epoch   149: reducing learning rate of group 0 to 1.0000e-05.\n",
      "Epoch:150/200 AVG Training Loss:0.657 AVG Validation Loss:0.664 AVG Training Acc 60.76 % AVG Validation Acc 56.45 %\n",
      "Epoch:160/200 AVG Training Loss:0.654 AVG Validation Loss:0.661 AVG Training Acc 61.14 % AVG Validation Acc 56.59 %\n",
      "Epoch:170/200 AVG Training Loss:0.653 AVG Validation Loss:0.658 AVG Training Acc 61.10 % AVG Validation Acc 56.99 %\n",
      "Epoch:180/200 AVG Training Loss:0.656 AVG Validation Loss:0.656 AVG Training Acc 60.64 % AVG Validation Acc 57.26 %\n",
      "Epoch:190/200 AVG Training Loss:0.652 AVG Validation Loss:0.654 AVG Training Acc 61.33 % AVG Validation Acc 57.53 %\n",
      "Epoch:200/200 AVG Training Loss:0.656 AVG Validation Loss:0.653 AVG Training Acc 61.00 % AVG Validation Acc 56.99 %\n",
      "Split 12\n"
     ]
    },
    {
     "data": {
      "application/vnd.jupyter.widget-view+json": {
       "model_id": "3956a346fc724f4fae2b2acee0929bb0",
       "version_major": 2,
       "version_minor": 0
      },
      "text/plain": [
       "  0%|          | 0/200 [00:00<?, ?it/s]"
      ]
     },
     "metadata": {},
     "output_type": "display_data"
    },
    {
     "name": "stdout",
     "output_type": "stream",
     "text": [
      "Epoch:10/200 AVG Training Loss:0.530 AVG Validation Loss:2.383 AVG Training Acc 80.80 % AVG Validation Acc 20.16 %\n",
      "Epoch:20/200 AVG Training Loss:0.575 AVG Validation Loss:4.073 AVG Training Acc 71.24 % AVG Validation Acc 20.16 %\n",
      "Epoch    28: reducing learning rate of group 0 to 1.0000e-03.\n",
      "Epoch:30/200 AVG Training Loss:0.844 AVG Validation Loss:1.015 AVG Training Acc 50.04 % AVG Validation Acc 20.83 %\n",
      "Epoch:40/200 AVG Training Loss:0.681 AVG Validation Loss:0.789 AVG Training Acc 56.93 % AVG Validation Acc 29.30 %\n",
      "Epoch:50/200 AVG Training Loss:0.676 AVG Validation Loss:0.789 AVG Training Acc 57.89 % AVG Validation Acc 30.11 %\n",
      "Epoch    59: reducing learning rate of group 0 to 1.0000e-04.\n",
      "Epoch:60/200 AVG Training Loss:0.681 AVG Validation Loss:0.781 AVG Training Acc 55.71 % AVG Validation Acc 34.81 %\n",
      "Epoch:70/200 AVG Training Loss:0.663 AVG Validation Loss:0.720 AVG Training Acc 59.67 % AVG Validation Acc 49.33 %\n",
      "Epoch:80/200 AVG Training Loss:0.662 AVG Validation Loss:0.702 AVG Training Acc 59.96 % AVG Validation Acc 53.76 %\n",
      "Epoch:90/200 AVG Training Loss:0.660 AVG Validation Loss:0.696 AVG Training Acc 60.14 % AVG Validation Acc 54.17 %\n",
      "Epoch:100/200 AVG Training Loss:0.660 AVG Validation Loss:0.695 AVG Training Acc 60.05 % AVG Validation Acc 55.11 %\n",
      "Epoch:110/200 AVG Training Loss:0.658 AVG Validation Loss:0.695 AVG Training Acc 59.97 % AVG Validation Acc 55.38 %\n",
      "Epoch   110: reducing learning rate of group 0 to 1.0000e-05.\n",
      "Epoch:120/200 AVG Training Loss:0.658 AVG Validation Loss:0.694 AVG Training Acc 60.31 % AVG Validation Acc 56.05 %\n",
      "Epoch:130/200 AVG Training Loss:0.657 AVG Validation Loss:0.693 AVG Training Acc 60.57 % AVG Validation Acc 56.32 %\n",
      "Epoch:140/200 AVG Training Loss:0.656 AVG Validation Loss:0.692 AVG Training Acc 60.74 % AVG Validation Acc 56.32 %\n",
      "Epoch:150/200 AVG Training Loss:0.655 AVG Validation Loss:0.691 AVG Training Acc 60.72 % AVG Validation Acc 56.45 %\n",
      "Epoch:160/200 AVG Training Loss:0.655 AVG Validation Loss:0.690 AVG Training Acc 61.02 % AVG Validation Acc 56.18 %\n",
      "Epoch:170/200 AVG Training Loss:0.656 AVG Validation Loss:0.690 AVG Training Acc 60.84 % AVG Validation Acc 56.18 %\n",
      "Epoch:180/200 AVG Training Loss:0.657 AVG Validation Loss:0.689 AVG Training Acc 60.32 % AVG Validation Acc 56.59 %\n",
      "Epoch:190/200 AVG Training Loss:0.656 AVG Validation Loss:0.688 AVG Training Acc 60.88 % AVG Validation Acc 56.72 %\n",
      "Epoch:200/200 AVG Training Loss:0.655 AVG Validation Loss:0.688 AVG Training Acc 60.71 % AVG Validation Acc 56.85 %\n",
      "Split 13\n"
     ]
    },
    {
     "data": {
      "application/vnd.jupyter.widget-view+json": {
       "model_id": "9fafaafc975b4cf5b74af4df18a5db8c",
       "version_major": 2,
       "version_minor": 0
      },
      "text/plain": [
       "  0%|          | 0/200 [00:00<?, ?it/s]"
      ]
     },
     "metadata": {},
     "output_type": "display_data"
    },
    {
     "name": "stdout",
     "output_type": "stream",
     "text": [
      "Epoch:10/200 AVG Training Loss:0.496 AVG Validation Loss:4.803 AVG Training Acc 82.05 % AVG Validation Acc 20.16 %\n",
      "Epoch:20/200 AVG Training Loss:0.603 AVG Validation Loss:4.003 AVG Training Acc 69.39 % AVG Validation Acc 20.16 %\n",
      "Epoch    29: reducing learning rate of group 0 to 1.0000e-03.\n",
      "Epoch:30/200 AVG Training Loss:2.286 AVG Validation Loss:1.545 AVG Training Acc 46.03 % AVG Validation Acc 20.16 %\n",
      "Epoch:40/200 AVG Training Loss:0.682 AVG Validation Loss:0.834 AVG Training Acc 55.69 % AVG Validation Acc 25.00 %\n",
      "Epoch:50/200 AVG Training Loss:0.672 AVG Validation Loss:0.877 AVG Training Acc 58.62 % AVG Validation Acc 28.49 %\n",
      "Epoch:60/200 AVG Training Loss:0.663 AVG Validation Loss:0.866 AVG Training Acc 59.93 % AVG Validation Acc 33.06 %\n",
      "Epoch    60: reducing learning rate of group 0 to 1.0000e-04.\n",
      "Epoch:70/200 AVG Training Loss:0.656 AVG Validation Loss:0.702 AVG Training Acc 60.39 % AVG Validation Acc 54.03 %\n",
      "Epoch:80/200 AVG Training Loss:0.651 AVG Validation Loss:0.685 AVG Training Acc 61.20 % AVG Validation Acc 57.80 %\n",
      "Epoch:90/200 AVG Training Loss:0.654 AVG Validation Loss:0.683 AVG Training Acc 60.58 % AVG Validation Acc 58.47 %\n",
      "Epoch:100/200 AVG Training Loss:0.647 AVG Validation Loss:0.684 AVG Training Acc 61.50 % AVG Validation Acc 58.06 %\n",
      "Epoch   101: reducing learning rate of group 0 to 1.0000e-05.\n",
      "Epoch:110/200 AVG Training Loss:0.646 AVG Validation Loss:0.681 AVG Training Acc 61.74 % AVG Validation Acc 58.60 %\n",
      "Epoch:120/200 AVG Training Loss:0.646 AVG Validation Loss:0.679 AVG Training Acc 61.66 % AVG Validation Acc 58.87 %\n",
      "Epoch:130/200 AVG Training Loss:0.647 AVG Validation Loss:0.677 AVG Training Acc 61.80 % AVG Validation Acc 59.01 %\n",
      "Epoch:140/200 AVG Training Loss:0.646 AVG Validation Loss:0.675 AVG Training Acc 61.88 % AVG Validation Acc 59.81 %\n",
      "Epoch:150/200 AVG Training Loss:0.647 AVG Validation Loss:0.674 AVG Training Acc 61.96 % AVG Validation Acc 59.95 %\n",
      "Epoch:160/200 AVG Training Loss:0.647 AVG Validation Loss:0.673 AVG Training Acc 61.84 % AVG Validation Acc 59.54 %\n",
      "Epoch:170/200 AVG Training Loss:0.648 AVG Validation Loss:0.673 AVG Training Acc 61.79 % AVG Validation Acc 59.95 %\n",
      "Epoch:180/200 AVG Training Loss:0.648 AVG Validation Loss:0.672 AVG Training Acc 61.89 % AVG Validation Acc 60.22 %\n",
      "Epoch:190/200 AVG Training Loss:0.647 AVG Validation Loss:0.671 AVG Training Acc 61.94 % AVG Validation Acc 60.48 %\n",
      "Epoch:200/200 AVG Training Loss:0.646 AVG Validation Loss:0.671 AVG Training Acc 62.39 % AVG Validation Acc 60.35 %\n",
      "Split 14\n"
     ]
    },
    {
     "data": {
      "application/vnd.jupyter.widget-view+json": {
       "model_id": "6ae422ad2fd04c9abd13d0aae442cc31",
       "version_major": 2,
       "version_minor": 0
      },
      "text/plain": [
       "  0%|          | 0/200 [00:00<?, ?it/s]"
      ]
     },
     "metadata": {},
     "output_type": "display_data"
    },
    {
     "name": "stdout",
     "output_type": "stream",
     "text": [
      "Epoch:10/200 AVG Training Loss:0.528 AVG Validation Loss:3.422 AVG Training Acc 79.22 % AVG Validation Acc 20.16 %\n",
      "Epoch:20/200 AVG Training Loss:0.635 AVG Validation Loss:1.756 AVG Training Acc 68.48 % AVG Validation Acc 20.16 %\n",
      "Epoch:30/200 AVG Training Loss:0.550 AVG Validation Loss:3.909 AVG Training Acc 80.87 % AVG Validation Acc 20.03 %\n",
      "Epoch    34: reducing learning rate of group 0 to 1.0000e-03.\n",
      "Epoch:40/200 AVG Training Loss:0.692 AVG Validation Loss:0.811 AVG Training Acc 53.92 % AVG Validation Acc 22.31 %\n",
      "Epoch:50/200 AVG Training Loss:0.681 AVG Validation Loss:0.806 AVG Training Acc 56.75 % AVG Validation Acc 25.67 %\n",
      "Epoch:60/200 AVG Training Loss:0.675 AVG Validation Loss:0.814 AVG Training Acc 57.49 % AVG Validation Acc 25.67 %\n",
      "Epoch    67: reducing learning rate of group 0 to 1.0000e-04.\n",
      "Epoch:70/200 AVG Training Loss:0.675 AVG Validation Loss:0.775 AVG Training Acc 56.67 % AVG Validation Acc 36.56 %\n",
      "Epoch:80/200 AVG Training Loss:0.658 AVG Validation Loss:0.710 AVG Training Acc 60.56 % AVG Validation Acc 50.54 %\n",
      "Epoch:90/200 AVG Training Loss:0.656 AVG Validation Loss:0.697 AVG Training Acc 60.60 % AVG Validation Acc 54.70 %\n",
      "Epoch:100/200 AVG Training Loss:0.653 AVG Validation Loss:0.697 AVG Training Acc 60.80 % AVG Validation Acc 55.65 %\n",
      "Epoch   108: reducing learning rate of group 0 to 1.0000e-05.\n",
      "Epoch:110/200 AVG Training Loss:0.655 AVG Validation Loss:0.696 AVG Training Acc 60.94 % AVG Validation Acc 56.05 %\n",
      "Epoch:120/200 AVG Training Loss:0.650 AVG Validation Loss:0.693 AVG Training Acc 61.91 % AVG Validation Acc 56.72 %\n",
      "Epoch:130/200 AVG Training Loss:0.649 AVG Validation Loss:0.691 AVG Training Acc 61.44 % AVG Validation Acc 56.99 %\n",
      "Epoch:140/200 AVG Training Loss:0.651 AVG Validation Loss:0.690 AVG Training Acc 61.01 % AVG Validation Acc 57.26 %\n",
      "Epoch:150/200 AVG Training Loss:0.651 AVG Validation Loss:0.689 AVG Training Acc 60.56 % AVG Validation Acc 57.53 %\n",
      "Epoch:160/200 AVG Training Loss:0.651 AVG Validation Loss:0.688 AVG Training Acc 60.96 % AVG Validation Acc 57.80 %\n",
      "Epoch:170/200 AVG Training Loss:0.653 AVG Validation Loss:0.688 AVG Training Acc 60.76 % AVG Validation Acc 57.53 %\n",
      "Epoch:180/200 AVG Training Loss:0.653 AVG Validation Loss:0.687 AVG Training Acc 60.64 % AVG Validation Acc 57.66 %\n",
      "Epoch:190/200 AVG Training Loss:0.651 AVG Validation Loss:0.687 AVG Training Acc 61.36 % AVG Validation Acc 57.80 %\n",
      "Epoch:200/200 AVG Training Loss:0.650 AVG Validation Loss:0.687 AVG Training Acc 61.16 % AVG Validation Acc 57.93 %\n",
      "Split 15\n"
     ]
    },
    {
     "data": {
      "application/vnd.jupyter.widget-view+json": {
       "model_id": "4e0825bc403f405ca6e0485fe68c002d",
       "version_major": 2,
       "version_minor": 0
      },
      "text/plain": [
       "  0%|          | 0/200 [00:00<?, ?it/s]"
      ]
     },
     "metadata": {},
     "output_type": "display_data"
    },
    {
     "name": "stdout",
     "output_type": "stream",
     "text": [
      "Epoch:10/200 AVG Training Loss:0.539 AVG Validation Loss:3.271 AVG Training Acc 78.42 % AVG Validation Acc 20.16 %\n",
      "Epoch:20/200 AVG Training Loss:0.557 AVG Validation Loss:8.708 AVG Training Acc 79.29 % AVG Validation Acc 20.16 %\n",
      "Epoch    21: reducing learning rate of group 0 to 1.0000e-03.\n",
      "Epoch:30/200 AVG Training Loss:0.693 AVG Validation Loss:0.942 AVG Training Acc 55.51 % AVG Validation Acc 21.64 %\n",
      "Epoch:40/200 AVG Training Loss:0.668 AVG Validation Loss:1.100 AVG Training Acc 60.13 % AVG Validation Acc 21.91 %\n",
      "Epoch:50/200 AVG Training Loss:0.652 AVG Validation Loss:0.974 AVG Training Acc 63.65 % AVG Validation Acc 22.31 %\n",
      "Epoch    52: reducing learning rate of group 0 to 1.0000e-04.\n",
      "Epoch:60/200 AVG Training Loss:0.655 AVG Validation Loss:0.712 AVG Training Acc 61.57 % AVG Validation Acc 52.82 %\n",
      "Epoch:70/200 AVG Training Loss:0.652 AVG Validation Loss:0.693 AVG Training Acc 62.41 % AVG Validation Acc 57.12 %\n",
      "Epoch:80/200 AVG Training Loss:0.649 AVG Validation Loss:0.693 AVG Training Acc 62.78 % AVG Validation Acc 56.45 %\n",
      "Epoch:90/200 AVG Training Loss:0.649 AVG Validation Loss:0.695 AVG Training Acc 62.53 % AVG Validation Acc 56.59 %\n",
      "Epoch    93: reducing learning rate of group 0 to 1.0000e-05.\n",
      "Epoch:100/200 AVG Training Loss:0.646 AVG Validation Loss:0.685 AVG Training Acc 62.72 % AVG Validation Acc 57.12 %\n",
      "Epoch:110/200 AVG Training Loss:0.644 AVG Validation Loss:0.675 AVG Training Acc 63.02 % AVG Validation Acc 59.14 %\n",
      "Epoch:120/200 AVG Training Loss:0.643 AVG Validation Loss:0.674 AVG Training Acc 63.34 % AVG Validation Acc 58.87 %\n",
      "Epoch:130/200 AVG Training Loss:0.644 AVG Validation Loss:0.671 AVG Training Acc 63.02 % AVG Validation Acc 60.75 %\n",
      "Epoch:140/200 AVG Training Loss:0.643 AVG Validation Loss:0.669 AVG Training Acc 63.35 % AVG Validation Acc 59.81 %\n",
      "Epoch:150/200 AVG Training Loss:0.645 AVG Validation Loss:0.668 AVG Training Acc 63.34 % AVG Validation Acc 60.35 %\n",
      "Epoch:160/200 AVG Training Loss:0.642 AVG Validation Loss:0.668 AVG Training Acc 63.26 % AVG Validation Acc 60.62 %\n",
      "Epoch:170/200 AVG Training Loss:0.641 AVG Validation Loss:0.666 AVG Training Acc 63.87 % AVG Validation Acc 60.75 %\n",
      "Epoch   172: reducing learning rate of group 0 to 1.0000e-06.\n",
      "Epoch:180/200 AVG Training Loss:0.642 AVG Validation Loss:0.668 AVG Training Acc 63.41 % AVG Validation Acc 61.42 %\n",
      "Epoch:190/200 AVG Training Loss:0.643 AVG Validation Loss:0.667 AVG Training Acc 63.66 % AVG Validation Acc 60.62 %\n",
      "Epoch:200/200 AVG Training Loss:0.643 AVG Validation Loss:0.665 AVG Training Acc 63.29 % AVG Validation Acc 60.62 %\n",
      "Split 16\n"
     ]
    },
    {
     "data": {
      "application/vnd.jupyter.widget-view+json": {
       "model_id": "4fff8b99997447a59bfeda2ab717aed9",
       "version_major": 2,
       "version_minor": 0
      },
      "text/plain": [
       "  0%|          | 0/200 [00:00<?, ?it/s]"
      ]
     },
     "metadata": {},
     "output_type": "display_data"
    },
    {
     "name": "stdout",
     "output_type": "stream",
     "text": [
      "Epoch:10/200 AVG Training Loss:0.541 AVG Validation Loss:5.882 AVG Training Acc 79.11 % AVG Validation Acc 20.16 %\n",
      "Epoch:20/200 AVG Training Loss:0.575 AVG Validation Loss:4.841 AVG Training Acc 73.84 % AVG Validation Acc 20.16 %\n",
      "Epoch    29: reducing learning rate of group 0 to 1.0000e-03.\n",
      "Epoch:30/200 AVG Training Loss:1.546 AVG Validation Loss:1.261 AVG Training Acc 50.05 % AVG Validation Acc 20.16 %\n",
      "Epoch:40/200 AVG Training Loss:0.681 AVG Validation Loss:0.775 AVG Training Acc 57.20 % AVG Validation Acc 30.11 %\n",
      "Epoch:50/200 AVG Training Loss:0.673 AVG Validation Loss:0.777 AVG Training Acc 58.82 % AVG Validation Acc 34.68 %\n",
      "Epoch:60/200 AVG Training Loss:0.662 AVG Validation Loss:0.773 AVG Training Acc 60.36 % AVG Validation Acc 37.63 %\n",
      "Epoch    67: reducing learning rate of group 0 to 1.0000e-04.\n",
      "Epoch:70/200 AVG Training Loss:0.660 AVG Validation Loss:0.730 AVG Training Acc 59.55 % AVG Validation Acc 46.37 %\n",
      "Epoch:80/200 AVG Training Loss:0.646 AVG Validation Loss:0.671 AVG Training Acc 62.86 % AVG Validation Acc 56.45 %\n",
      "Epoch:90/200 AVG Training Loss:0.643 AVG Validation Loss:0.662 AVG Training Acc 63.30 % AVG Validation Acc 58.20 %\n",
      "Epoch:100/200 AVG Training Loss:0.643 AVG Validation Loss:0.658 AVG Training Acc 62.75 % AVG Validation Acc 58.60 %\n",
      "Epoch:110/200 AVG Training Loss:0.642 AVG Validation Loss:0.657 AVG Training Acc 62.86 % AVG Validation Acc 58.87 %\n",
      "Epoch:120/200 AVG Training Loss:0.641 AVG Validation Loss:0.657 AVG Training Acc 63.18 % AVG Validation Acc 58.60 %\n",
      "Epoch   122: reducing learning rate of group 0 to 1.0000e-05.\n",
      "Epoch:130/200 AVG Training Loss:0.638 AVG Validation Loss:0.654 AVG Training Acc 63.44 % AVG Validation Acc 59.27 %\n",
      "Epoch:140/200 AVG Training Loss:0.639 AVG Validation Loss:0.652 AVG Training Acc 63.26 % AVG Validation Acc 59.95 %\n",
      "Epoch:150/200 AVG Training Loss:0.638 AVG Validation Loss:0.651 AVG Training Acc 63.13 % AVG Validation Acc 59.41 %\n",
      "Epoch:160/200 AVG Training Loss:0.637 AVG Validation Loss:0.649 AVG Training Acc 63.56 % AVG Validation Acc 59.54 %\n",
      "Epoch:170/200 AVG Training Loss:0.637 AVG Validation Loss:0.649 AVG Training Acc 63.60 % AVG Validation Acc 59.54 %\n",
      "Epoch:180/200 AVG Training Loss:0.637 AVG Validation Loss:0.648 AVG Training Acc 63.29 % AVG Validation Acc 59.81 %\n",
      "Epoch   189: reducing learning rate of group 0 to 1.0000e-06.\n",
      "Epoch:190/200 AVG Training Loss:0.637 AVG Validation Loss:0.648 AVG Training Acc 63.67 % AVG Validation Acc 59.81 %\n",
      "Epoch:200/200 AVG Training Loss:0.636 AVG Validation Loss:0.648 AVG Training Acc 63.48 % AVG Validation Acc 59.68 %\n",
      "Split 17\n"
     ]
    },
    {
     "data": {
      "application/vnd.jupyter.widget-view+json": {
       "model_id": "b4806612fa01484a9dae263d7fd900a6",
       "version_major": 2,
       "version_minor": 0
      },
      "text/plain": [
       "  0%|          | 0/200 [00:00<?, ?it/s]"
      ]
     },
     "metadata": {},
     "output_type": "display_data"
    },
    {
     "name": "stdout",
     "output_type": "stream",
     "text": [
      "Epoch:10/200 AVG Training Loss:0.531 AVG Validation Loss:3.961 AVG Training Acc 77.62 % AVG Validation Acc 20.05 %\n",
      "Epoch:20/200 AVG Training Loss:0.544 AVG Validation Loss:4.556 AVG Training Acc 82.72 % AVG Validation Acc 20.05 %\n",
      "Epoch    24: reducing learning rate of group 0 to 1.0000e-03.\n",
      "Epoch:30/200 AVG Training Loss:0.701 AVG Validation Loss:0.807 AVG Training Acc 51.96 % AVG Validation Acc 27.05 %\n",
      "Epoch:40/200 AVG Training Loss:0.675 AVG Validation Loss:0.963 AVG Training Acc 55.94 % AVG Validation Acc 29.88 %\n",
      "Epoch:50/200 AVG Training Loss:0.673 AVG Validation Loss:0.861 AVG Training Acc 59.63 % AVG Validation Acc 38.36 %\n",
      "Epoch    55: reducing learning rate of group 0 to 1.0000e-04.\n",
      "Epoch:60/200 AVG Training Loss:0.668 AVG Validation Loss:0.727 AVG Training Acc 59.78 % AVG Validation Acc 51.41 %\n",
      "Epoch:70/200 AVG Training Loss:0.657 AVG Validation Loss:0.671 AVG Training Acc 60.91 % AVG Validation Acc 60.16 %\n",
      "Epoch:80/200 AVG Training Loss:0.652 AVG Validation Loss:0.665 AVG Training Acc 61.84 % AVG Validation Acc 62.18 %\n",
      "Epoch:90/200 AVG Training Loss:0.654 AVG Validation Loss:0.664 AVG Training Acc 61.30 % AVG Validation Acc 62.58 %\n",
      "Epoch    98: reducing learning rate of group 0 to 1.0000e-05.\n",
      "Epoch:100/200 AVG Training Loss:0.649 AVG Validation Loss:0.663 AVG Training Acc 62.18 % AVG Validation Acc 62.72 %\n",
      "Epoch:110/200 AVG Training Loss:0.649 AVG Validation Loss:0.657 AVG Training Acc 61.70 % AVG Validation Acc 62.99 %\n",
      "Epoch:120/200 AVG Training Loss:0.648 AVG Validation Loss:0.655 AVG Training Acc 62.28 % AVG Validation Acc 63.53 %\n",
      "Epoch:130/200 AVG Training Loss:0.648 AVG Validation Loss:0.653 AVG Training Acc 62.14 % AVG Validation Acc 63.26 %\n",
      "Epoch:140/200 AVG Training Loss:0.650 AVG Validation Loss:0.651 AVG Training Acc 62.09 % AVG Validation Acc 63.26 %\n",
      "Epoch:150/200 AVG Training Loss:0.649 AVG Validation Loss:0.650 AVG Training Acc 62.06 % AVG Validation Acc 63.93 %\n",
      "New Best Accuracy found: 64.33%\n",
      "Epoch: 154\n",
      "Epoch:160/200 AVG Training Loss:0.647 AVG Validation Loss:0.649 AVG Training Acc 62.20 % AVG Validation Acc 64.20 %\n",
      "New Best Accuracy found: 64.47%\n",
      "Epoch: 164\n",
      "Epoch:170/200 AVG Training Loss:0.649 AVG Validation Loss:0.649 AVG Training Acc 61.67 % AVG Validation Acc 63.93 %\n",
      "Epoch:180/200 AVG Training Loss:0.647 AVG Validation Loss:0.648 AVG Training Acc 62.94 % AVG Validation Acc 64.33 %\n",
      "New Best Accuracy found: 64.60%\n",
      "Epoch: 189\n",
      "Epoch:190/200 AVG Training Loss:0.647 AVG Validation Loss:0.648 AVG Training Acc 62.11 % AVG Validation Acc 64.33 %\n",
      "Epoch:200/200 AVG Training Loss:0.645 AVG Validation Loss:0.648 AVG Training Acc 62.13 % AVG Validation Acc 64.47 %\n",
      "Split 18\n"
     ]
    },
    {
     "data": {
      "application/vnd.jupyter.widget-view+json": {
       "model_id": "c27b55a692294d7abd4a65e78d717cec",
       "version_major": 2,
       "version_minor": 0
      },
      "text/plain": [
       "  0%|          | 0/200 [00:00<?, ?it/s]"
      ]
     },
     "metadata": {},
     "output_type": "display_data"
    },
    {
     "name": "stdout",
     "output_type": "stream",
     "text": [
      "Epoch:10/200 AVG Training Loss:0.521 AVG Validation Loss:3.067 AVG Training Acc 78.82 % AVG Validation Acc 20.05 %\n",
      "Epoch:20/200 AVG Training Loss:0.552 AVG Validation Loss:5.115 AVG Training Acc 74.36 % AVG Validation Acc 20.05 %\n",
      "Epoch:30/200 AVG Training Loss:0.643 AVG Validation Loss:1.686 AVG Training Acc 66.77 % AVG Validation Acc 20.05 %\n",
      "Epoch:40/200 AVG Training Loss:0.669 AVG Validation Loss:2.463 AVG Training Acc 67.82 % AVG Validation Acc 20.05 %\n",
      "Epoch:50/200 AVG Training Loss:0.508 AVG Validation Loss:4.717 AVG Training Acc 82.07 % AVG Validation Acc 20.05 %\n",
      "Epoch    52: reducing learning rate of group 0 to 1.0000e-03.\n",
      "Epoch:60/200 AVG Training Loss:0.684 AVG Validation Loss:1.158 AVG Training Acc 60.22 % AVG Validation Acc 20.46 %\n",
      "Epoch:70/200 AVG Training Loss:0.667 AVG Validation Loss:1.178 AVG Training Acc 62.05 % AVG Validation Acc 21.67 %\n",
      "Epoch:80/200 AVG Training Loss:0.659 AVG Validation Loss:1.163 AVG Training Acc 62.32 % AVG Validation Acc 23.69 %\n",
      "Epoch:90/200 AVG Training Loss:0.658 AVG Validation Loss:1.125 AVG Training Acc 62.93 % AVG Validation Acc 23.55 %\n",
      "Epoch    98: reducing learning rate of group 0 to 1.0000e-04.\n",
      "Epoch:100/200 AVG Training Loss:0.721 AVG Validation Loss:0.883 AVG Training Acc 56.19 % AVG Validation Acc 36.20 %\n",
      "Epoch:110/200 AVG Training Loss:0.658 AVG Validation Loss:0.698 AVG Training Acc 60.14 % AVG Validation Acc 53.43 %\n",
      "Epoch:120/200 AVG Training Loss:0.657 AVG Validation Loss:0.692 AVG Training Acc 60.73 % AVG Validation Acc 54.24 %\n",
      "Epoch:130/200 AVG Training Loss:0.654 AVG Validation Loss:0.689 AVG Training Acc 61.20 % AVG Validation Acc 55.05 %\n",
      "Epoch:140/200 AVG Training Loss:0.657 AVG Validation Loss:0.690 AVG Training Acc 60.50 % AVG Validation Acc 55.45 %\n",
      "Epoch   140: reducing learning rate of group 0 to 1.0000e-05.\n",
      "Epoch:150/200 AVG Training Loss:0.652 AVG Validation Loss:0.682 AVG Training Acc 61.74 % AVG Validation Acc 57.34 %\n",
      "Epoch:160/200 AVG Training Loss:0.652 AVG Validation Loss:0.675 AVG Training Acc 61.50 % AVG Validation Acc 58.95 %\n",
      "Epoch:170/200 AVG Training Loss:0.652 AVG Validation Loss:0.671 AVG Training Acc 61.64 % AVG Validation Acc 59.89 %\n",
      "Epoch:180/200 AVG Training Loss:0.650 AVG Validation Loss:0.669 AVG Training Acc 61.74 % AVG Validation Acc 60.43 %\n",
      "Epoch:190/200 AVG Training Loss:0.650 AVG Validation Loss:0.666 AVG Training Acc 61.70 % AVG Validation Acc 61.24 %\n",
      "Epoch:200/200 AVG Training Loss:0.651 AVG Validation Loss:0.665 AVG Training Acc 61.87 % AVG Validation Acc 61.24 %\n",
      "Split 19\n"
     ]
    },
    {
     "data": {
      "application/vnd.jupyter.widget-view+json": {
       "model_id": "d357a7c6d242459692a7beee3877ba98",
       "version_major": 2,
       "version_minor": 0
      },
      "text/plain": [
       "  0%|          | 0/200 [00:00<?, ?it/s]"
      ]
     },
     "metadata": {},
     "output_type": "display_data"
    },
    {
     "name": "stdout",
     "output_type": "stream",
     "text": [
      "Epoch:10/200 AVG Training Loss:0.555 AVG Validation Loss:4.059 AVG Training Acc 80.31 % AVG Validation Acc 20.05 %\n",
      "Epoch:20/200 AVG Training Loss:0.627 AVG Validation Loss:2.101 AVG Training Acc 69.25 % AVG Validation Acc 20.05 %\n",
      "Epoch:30/200 AVG Training Loss:0.637 AVG Validation Loss:1.745 AVG Training Acc 67.90 % AVG Validation Acc 20.05 %\n",
      "Epoch:40/200 AVG Training Loss:0.641 AVG Validation Loss:1.573 AVG Training Acc 66.10 % AVG Validation Acc 20.05 %\n",
      "Epoch:50/200 AVG Training Loss:0.613 AVG Validation Loss:8.488 AVG Training Acc 81.43 % AVG Validation Acc 20.05 %\n",
      "Epoch    52: reducing learning rate of group 0 to 1.0000e-03.\n",
      "Epoch:60/200 AVG Training Loss:0.692 AVG Validation Loss:0.796 AVG Training Acc 54.03 % AVG Validation Acc 30.42 %\n",
      "Epoch:70/200 AVG Training Loss:0.678 AVG Validation Loss:0.850 AVG Training Acc 57.94 % AVG Validation Acc 35.80 %\n",
      "Epoch:80/200 AVG Training Loss:0.673 AVG Validation Loss:0.844 AVG Training Acc 58.93 % AVG Validation Acc 40.38 %\n",
      "Epoch    83: reducing learning rate of group 0 to 1.0000e-04.\n",
      "Epoch:90/200 AVG Training Loss:0.668 AVG Validation Loss:0.726 AVG Training Acc 59.11 % AVG Validation Acc 52.09 %\n",
      "Epoch:100/200 AVG Training Loss:0.660 AVG Validation Loss:0.693 AVG Training Acc 60.08 % AVG Validation Acc 57.87 %\n",
      "Epoch:110/200 AVG Training Loss:0.661 AVG Validation Loss:0.688 AVG Training Acc 60.29 % AVG Validation Acc 59.49 %\n",
      "Epoch:120/200 AVG Training Loss:0.660 AVG Validation Loss:0.684 AVG Training Acc 60.15 % AVG Validation Acc 60.43 %\n",
      "Epoch:130/200 AVG Training Loss:0.660 AVG Validation Loss:0.684 AVG Training Acc 60.32 % AVG Validation Acc 61.10 %\n",
      "Epoch:140/200 AVG Training Loss:0.660 AVG Validation Loss:0.684 AVG Training Acc 60.22 % AVG Validation Acc 61.37 %\n",
      "Epoch   145: reducing learning rate of group 0 to 1.0000e-05.\n",
      "Epoch:150/200 AVG Training Loss:0.657 AVG Validation Loss:0.684 AVG Training Acc 60.56 % AVG Validation Acc 61.51 %\n",
      "Epoch:160/200 AVG Training Loss:0.656 AVG Validation Loss:0.681 AVG Training Acc 61.00 % AVG Validation Acc 62.05 %\n",
      "Epoch:170/200 AVG Training Loss:0.657 AVG Validation Loss:0.679 AVG Training Acc 60.63 % AVG Validation Acc 62.58 %\n",
      "Epoch:180/200 AVG Training Loss:0.657 AVG Validation Loss:0.678 AVG Training Acc 60.79 % AVG Validation Acc 62.72 %\n",
      "Epoch:190/200 AVG Training Loss:0.655 AVG Validation Loss:0.677 AVG Training Acc 61.02 % AVG Validation Acc 62.72 %\n",
      "Epoch:200/200 AVG Training Loss:0.657 AVG Validation Loss:0.676 AVG Training Acc 60.87 % AVG Validation Acc 62.85 %\n",
      "Split 20\n"
     ]
    },
    {
     "data": {
      "application/vnd.jupyter.widget-view+json": {
       "model_id": "d62bb9616f77470f9339ef6b969a2dac",
       "version_major": 2,
       "version_minor": 0
      },
      "text/plain": [
       "  0%|          | 0/200 [00:00<?, ?it/s]"
      ]
     },
     "metadata": {},
     "output_type": "display_data"
    },
    {
     "name": "stdout",
     "output_type": "stream",
     "text": [
      "Epoch:10/200 AVG Training Loss:0.575 AVG Validation Loss:2.547 AVG Training Acc 74.81 % AVG Validation Acc 20.19 %\n",
      "Epoch:20/200 AVG Training Loss:0.532 AVG Validation Loss:6.157 AVG Training Acc 82.78 % AVG Validation Acc 20.19 %\n",
      "Epoch:30/200 AVG Training Loss:0.640 AVG Validation Loss:1.563 AVG Training Acc 65.99 % AVG Validation Acc 20.19 %\n",
      "Epoch:40/200 AVG Training Loss:0.642 AVG Validation Loss:1.601 AVG Training Acc 66.25 % AVG Validation Acc 20.19 %\n",
      "Epoch    42: reducing learning rate of group 0 to 1.0000e-03.\n",
      "Epoch:50/200 AVG Training Loss:0.685 AVG Validation Loss:0.794 AVG Training Acc 55.57 % AVG Validation Acc 30.42 %\n",
      "Epoch:60/200 AVG Training Loss:0.679 AVG Validation Loss:0.787 AVG Training Acc 56.79 % AVG Validation Acc 33.11 %\n",
      "Epoch:70/200 AVG Training Loss:0.673 AVG Validation Loss:0.776 AVG Training Acc 58.38 % AVG Validation Acc 43.20 %\n",
      "Epoch:80/200 AVG Training Loss:0.669 AVG Validation Loss:0.786 AVG Training Acc 59.50 % AVG Validation Acc 45.36 %\n",
      "Epoch    81: reducing learning rate of group 0 to 1.0000e-04.\n",
      "Epoch:90/200 AVG Training Loss:0.662 AVG Validation Loss:0.717 AVG Training Acc 60.57 % AVG Validation Acc 54.37 %\n",
      "Epoch:100/200 AVG Training Loss:0.659 AVG Validation Loss:0.694 AVG Training Acc 60.82 % AVG Validation Acc 57.47 %\n",
      "Epoch:110/200 AVG Training Loss:0.658 AVG Validation Loss:0.685 AVG Training Acc 60.79 % AVG Validation Acc 59.76 %\n",
      "Epoch:120/200 AVG Training Loss:0.655 AVG Validation Loss:0.682 AVG Training Acc 61.30 % AVG Validation Acc 60.16 %\n",
      "Epoch:130/200 AVG Training Loss:0.657 AVG Validation Loss:0.682 AVG Training Acc 60.96 % AVG Validation Acc 60.03 %\n",
      "Epoch:140/200 AVG Training Loss:0.655 AVG Validation Loss:0.682 AVG Training Acc 60.91 % AVG Validation Acc 59.89 %\n",
      "Epoch   148: reducing learning rate of group 0 to 1.0000e-05.\n",
      "Epoch:150/200 AVG Training Loss:0.653 AVG Validation Loss:0.681 AVG Training Acc 61.86 % AVG Validation Acc 59.62 %\n",
      "Epoch:160/200 AVG Training Loss:0.653 AVG Validation Loss:0.680 AVG Training Acc 61.79 % AVG Validation Acc 59.76 %\n",
      "Epoch:170/200 AVG Training Loss:0.655 AVG Validation Loss:0.678 AVG Training Acc 61.47 % AVG Validation Acc 59.76 %\n",
      "Epoch:180/200 AVG Training Loss:0.653 AVG Validation Loss:0.678 AVG Training Acc 61.25 % AVG Validation Acc 60.03 %\n",
      "Epoch:190/200 AVG Training Loss:0.654 AVG Validation Loss:0.677 AVG Training Acc 61.03 % AVG Validation Acc 59.76 %\n",
      "Epoch:200/200 AVG Training Loss:0.652 AVG Validation Loss:0.676 AVG Training Acc 61.70 % AVG Validation Acc 60.16 %\n",
      "Split 21\n"
     ]
    },
    {
     "data": {
      "application/vnd.jupyter.widget-view+json": {
       "model_id": "95c7ddc9813e491d888ddfcd7616c2b0",
       "version_major": 2,
       "version_minor": 0
      },
      "text/plain": [
       "  0%|          | 0/200 [00:00<?, ?it/s]"
      ]
     },
     "metadata": {},
     "output_type": "display_data"
    },
    {
     "name": "stdout",
     "output_type": "stream",
     "text": [
      "Epoch:10/200 AVG Training Loss:0.536 AVG Validation Loss:9.165 AVG Training Acc 76.72 % AVG Validation Acc 20.16 %\n",
      "Epoch:20/200 AVG Training Loss:0.559 AVG Validation Loss:3.620 AVG Training Acc 77.61 % AVG Validation Acc 20.16 %\n",
      "Epoch    26: reducing learning rate of group 0 to 1.0000e-03.\n",
      "Epoch:30/200 AVG Training Loss:0.701 AVG Validation Loss:0.834 AVG Training Acc 52.28 % AVG Validation Acc 22.98 %\n",
      "Epoch:40/200 AVG Training Loss:0.682 AVG Validation Loss:0.843 AVG Training Acc 56.35 % AVG Validation Acc 23.79 %\n",
      "Epoch:50/200 AVG Training Loss:0.672 AVG Validation Loss:0.898 AVG Training Acc 58.44 % AVG Validation Acc 25.40 %\n",
      "Epoch    57: reducing learning rate of group 0 to 1.0000e-04.\n",
      "Epoch:60/200 AVG Training Loss:0.678 AVG Validation Loss:0.807 AVG Training Acc 57.73 % AVG Validation Acc 39.11 %\n",
      "Epoch:70/200 AVG Training Loss:0.657 AVG Validation Loss:0.721 AVG Training Acc 60.85 % AVG Validation Acc 53.63 %\n",
      "Epoch:80/200 AVG Training Loss:0.655 AVG Validation Loss:0.709 AVG Training Acc 60.95 % AVG Validation Acc 56.72 %\n",
      "Epoch:90/200 AVG Training Loss:0.654 AVG Validation Loss:0.706 AVG Training Acc 61.38 % AVG Validation Acc 58.20 %\n",
      "Epoch:100/200 AVG Training Loss:0.652 AVG Validation Loss:0.704 AVG Training Acc 60.85 % AVG Validation Acc 58.87 %\n",
      "Epoch:110/200 AVG Training Loss:0.651 AVG Validation Loss:0.704 AVG Training Acc 61.43 % AVG Validation Acc 59.27 %\n",
      "Epoch:120/200 AVG Training Loss:0.651 AVG Validation Loss:0.704 AVG Training Acc 61.56 % AVG Validation Acc 59.14 %\n",
      "Epoch:130/200 AVG Training Loss:0.647 AVG Validation Loss:0.703 AVG Training Acc 61.97 % AVG Validation Acc 59.27 %\n",
      "Epoch:140/200 AVG Training Loss:0.650 AVG Validation Loss:0.703 AVG Training Acc 61.25 % AVG Validation Acc 59.01 %\n",
      "Epoch   148: reducing learning rate of group 0 to 1.0000e-05.\n",
      "Epoch:150/200 AVG Training Loss:0.647 AVG Validation Loss:0.703 AVG Training Acc 61.79 % AVG Validation Acc 58.87 %\n",
      "Epoch:160/200 AVG Training Loss:0.646 AVG Validation Loss:0.699 AVG Training Acc 61.96 % AVG Validation Acc 59.41 %\n",
      "Epoch:170/200 AVG Training Loss:0.645 AVG Validation Loss:0.696 AVG Training Acc 61.59 % AVG Validation Acc 59.95 %\n",
      "Epoch:180/200 AVG Training Loss:0.644 AVG Validation Loss:0.694 AVG Training Acc 61.95 % AVG Validation Acc 60.22 %\n",
      "Epoch:190/200 AVG Training Loss:0.646 AVG Validation Loss:0.692 AVG Training Acc 62.06 % AVG Validation Acc 60.22 %\n",
      "Epoch:200/200 AVG Training Loss:0.643 AVG Validation Loss:0.690 AVG Training Acc 62.07 % AVG Validation Acc 60.48 %\n",
      "Split 22\n"
     ]
    },
    {
     "data": {
      "application/vnd.jupyter.widget-view+json": {
       "model_id": "e984a422132847e28be98687b0d66086",
       "version_major": 2,
       "version_minor": 0
      },
      "text/plain": [
       "  0%|          | 0/200 [00:00<?, ?it/s]"
      ]
     },
     "metadata": {},
     "output_type": "display_data"
    },
    {
     "name": "stdout",
     "output_type": "stream",
     "text": [
      "Epoch:10/200 AVG Training Loss:0.495 AVG Validation Loss:6.156 AVG Training Acc 80.95 % AVG Validation Acc 20.16 %\n",
      "Epoch:20/200 AVG Training Loss:0.557 AVG Validation Loss:3.039 AVG Training Acc 75.90 % AVG Validation Acc 20.16 %\n",
      "Epoch    24: reducing learning rate of group 0 to 1.0000e-03.\n",
      "Epoch:30/200 AVG Training Loss:0.693 AVG Validation Loss:0.827 AVG Training Acc 55.00 % AVG Validation Acc 22.85 %\n",
      "Epoch:40/200 AVG Training Loss:0.683 AVG Validation Loss:0.809 AVG Training Acc 56.46 % AVG Validation Acc 26.75 %\n",
      "Epoch:50/200 AVG Training Loss:0.674 AVG Validation Loss:0.817 AVG Training Acc 57.80 % AVG Validation Acc 29.44 %\n",
      "Epoch    55: reducing learning rate of group 0 to 1.0000e-04.\n",
      "Epoch:60/200 AVG Training Loss:0.672 AVG Validation Loss:0.731 AVG Training Acc 57.82 % AVG Validation Acc 46.10 %\n",
      "Epoch:70/200 AVG Training Loss:0.660 AVG Validation Loss:0.676 AVG Training Acc 60.17 % AVG Validation Acc 57.26 %\n",
      "Epoch:80/200 AVG Training Loss:0.658 AVG Validation Loss:0.667 AVG Training Acc 60.25 % AVG Validation Acc 60.35 %\n",
      "Epoch:90/200 AVG Training Loss:0.655 AVG Validation Loss:0.664 AVG Training Acc 60.51 % AVG Validation Acc 60.08 %\n",
      "Epoch:100/200 AVG Training Loss:0.655 AVG Validation Loss:0.663 AVG Training Acc 60.60 % AVG Validation Acc 60.62 %\n",
      "Epoch:110/200 AVG Training Loss:0.654 AVG Validation Loss:0.662 AVG Training Acc 60.61 % AVG Validation Acc 60.08 %\n",
      "Epoch:120/200 AVG Training Loss:0.654 AVG Validation Loss:0.662 AVG Training Acc 60.74 % AVG Validation Acc 59.81 %\n",
      "Epoch:130/200 AVG Training Loss:0.651 AVG Validation Loss:0.659 AVG Training Acc 60.97 % AVG Validation Acc 60.35 %\n",
      "Epoch:140/200 AVG Training Loss:0.651 AVG Validation Loss:0.659 AVG Training Acc 60.86 % AVG Validation Acc 59.41 %\n",
      "Epoch   140: reducing learning rate of group 0 to 1.0000e-05.\n",
      "Epoch:150/200 AVG Training Loss:0.649 AVG Validation Loss:0.653 AVG Training Acc 61.19 % AVG Validation Acc 60.48 %\n",
      "Epoch:160/200 AVG Training Loss:0.649 AVG Validation Loss:0.649 AVG Training Acc 61.21 % AVG Validation Acc 61.02 %\n",
      "Epoch:170/200 AVG Training Loss:0.647 AVG Validation Loss:0.647 AVG Training Acc 61.89 % AVG Validation Acc 61.56 %\n",
      "Epoch:180/200 AVG Training Loss:0.649 AVG Validation Loss:0.645 AVG Training Acc 61.59 % AVG Validation Acc 62.77 %\n",
      "Epoch:190/200 AVG Training Loss:0.649 AVG Validation Loss:0.644 AVG Training Acc 61.44 % AVG Validation Acc 62.50 %\n",
      "Epoch:200/200 AVG Training Loss:0.647 AVG Validation Loss:0.642 AVG Training Acc 61.10 % AVG Validation Acc 63.17 %\n",
      "Split 23\n"
     ]
    },
    {
     "data": {
      "application/vnd.jupyter.widget-view+json": {
       "model_id": "77d30e759b124c5c9a31ef2a5ed7c93a",
       "version_major": 2,
       "version_minor": 0
      },
      "text/plain": [
       "  0%|          | 0/200 [00:00<?, ?it/s]"
      ]
     },
     "metadata": {},
     "output_type": "display_data"
    },
    {
     "name": "stdout",
     "output_type": "stream",
     "text": [
      "Epoch:10/200 AVG Training Loss:0.463 AVG Validation Loss:5.848 AVG Training Acc 82.94 % AVG Validation Acc 20.16 %\n",
      "Epoch:20/200 AVG Training Loss:0.465 AVG Validation Loss:6.057 AVG Training Acc 81.06 % AVG Validation Acc 20.16 %\n",
      "Epoch:30/200 AVG Training Loss:0.595 AVG Validation Loss:9.494 AVG Training Acc 77.04 % AVG Validation Acc 20.16 %\n",
      "Epoch    39: reducing learning rate of group 0 to 1.0000e-03.\n",
      "Epoch:40/200 AVG Training Loss:0.973 AVG Validation Loss:1.202 AVG Training Acc 50.00 % AVG Validation Acc 20.16 %\n",
      "Epoch:50/200 AVG Training Loss:0.683 AVG Validation Loss:0.751 AVG Training Acc 56.20 % AVG Validation Acc 34.27 %\n",
      "Epoch:60/200 AVG Training Loss:0.674 AVG Validation Loss:0.751 AVG Training Acc 58.31 % AVG Validation Acc 40.99 %\n",
      "Epoch:70/200 AVG Training Loss:0.666 AVG Validation Loss:0.749 AVG Training Acc 59.37 % AVG Validation Acc 43.82 %\n",
      "Epoch    74: reducing learning rate of group 0 to 1.0000e-04.\n",
      "Epoch:80/200 AVG Training Loss:0.661 AVG Validation Loss:0.704 AVG Training Acc 60.37 % AVG Validation Acc 53.23 %\n",
      "Epoch:90/200 AVG Training Loss:0.655 AVG Validation Loss:0.671 AVG Training Acc 61.24 % AVG Validation Acc 60.48 %\n",
      "Epoch:100/200 AVG Training Loss:0.654 AVG Validation Loss:0.662 AVG Training Acc 60.87 % AVG Validation Acc 62.77 %\n",
      "Epoch:110/200 AVG Training Loss:0.653 AVG Validation Loss:0.661 AVG Training Acc 60.86 % AVG Validation Acc 63.04 %\n",
      "Epoch:120/200 AVG Training Loss:0.653 AVG Validation Loss:0.661 AVG Training Acc 60.75 % AVG Validation Acc 63.31 %\n",
      "Epoch   125: reducing learning rate of group 0 to 1.0000e-05.\n",
      "Epoch:130/200 AVG Training Loss:0.652 AVG Validation Loss:0.659 AVG Training Acc 61.75 % AVG Validation Acc 63.44 %\n",
      "Epoch:140/200 AVG Training Loss:0.651 AVG Validation Loss:0.658 AVG Training Acc 61.95 % AVG Validation Acc 63.58 %\n",
      "Epoch:150/200 AVG Training Loss:0.651 AVG Validation Loss:0.657 AVG Training Acc 61.56 % AVG Validation Acc 63.84 %\n",
      "Epoch:160/200 AVG Training Loss:0.650 AVG Validation Loss:0.656 AVG Training Acc 61.34 % AVG Validation Acc 64.25 %\n",
      "Epoch:170/200 AVG Training Loss:0.650 AVG Validation Loss:0.655 AVG Training Acc 61.79 % AVG Validation Acc 64.38 %\n",
      "Epoch:180/200 AVG Training Loss:0.651 AVG Validation Loss:0.654 AVG Training Acc 61.66 % AVG Validation Acc 64.38 %\n",
      "Epoch:190/200 AVG Training Loss:0.650 AVG Validation Loss:0.654 AVG Training Acc 62.21 % AVG Validation Acc 64.52 %\n",
      "New Best Accuracy found: 64.65%\n",
      "Epoch: 195\n",
      "Epoch:200/200 AVG Training Loss:0.650 AVG Validation Loss:0.653 AVG Training Acc 61.32 % AVG Validation Acc 64.38 %\n",
      "Split 24\n"
     ]
    },
    {
     "data": {
      "application/vnd.jupyter.widget-view+json": {
       "model_id": "cdc1b10391db4d69b5b5a6fd3f2a6da4",
       "version_major": 2,
       "version_minor": 0
      },
      "text/plain": [
       "  0%|          | 0/200 [00:00<?, ?it/s]"
      ]
     },
     "metadata": {},
     "output_type": "display_data"
    },
    {
     "name": "stdout",
     "output_type": "stream",
     "text": [
      "Epoch:10/200 AVG Training Loss:0.576 AVG Validation Loss:6.876 AVG Training Acc 74.34 % AVG Validation Acc 20.16 %\n",
      "Epoch:20/200 AVG Training Loss:0.623 AVG Validation Loss:4.029 AVG Training Acc 66.67 % AVG Validation Acc 20.16 %\n",
      "Epoch    28: reducing learning rate of group 0 to 1.0000e-03.\n",
      "Epoch:30/200 AVG Training Loss:0.780 AVG Validation Loss:0.894 AVG Training Acc 47.70 % AVG Validation Acc 20.70 %\n",
      "Epoch:40/200 AVG Training Loss:0.683 AVG Validation Loss:0.878 AVG Training Acc 56.78 % AVG Validation Acc 32.53 %\n",
      "Epoch:50/200 AVG Training Loss:0.675 AVG Validation Loss:0.872 AVG Training Acc 59.33 % AVG Validation Acc 40.32 %\n",
      "Epoch    59: reducing learning rate of group 0 to 1.0000e-04.\n",
      "Epoch:60/200 AVG Training Loss:0.693 AVG Validation Loss:0.817 AVG Training Acc 58.91 % AVG Validation Acc 43.28 %\n",
      "Epoch:70/200 AVG Training Loss:0.662 AVG Validation Loss:0.702 AVG Training Acc 60.46 % AVG Validation Acc 54.17 %\n",
      "Epoch:80/200 AVG Training Loss:0.658 AVG Validation Loss:0.683 AVG Training Acc 60.69 % AVG Validation Acc 56.99 %\n",
      "Epoch:90/200 AVG Training Loss:0.658 AVG Validation Loss:0.681 AVG Training Acc 60.80 % AVG Validation Acc 57.39 %\n",
      "Epoch    99: reducing learning rate of group 0 to 1.0000e-05.\n",
      "Epoch:100/200 AVG Training Loss:0.655 AVG Validation Loss:0.682 AVG Training Acc 61.23 % AVG Validation Acc 57.12 %\n",
      "Epoch:110/200 AVG Training Loss:0.655 AVG Validation Loss:0.678 AVG Training Acc 61.18 % AVG Validation Acc 57.80 %\n",
      "Epoch:120/200 AVG Training Loss:0.652 AVG Validation Loss:0.676 AVG Training Acc 61.62 % AVG Validation Acc 58.33 %\n",
      "Epoch:130/200 AVG Training Loss:0.653 AVG Validation Loss:0.674 AVG Training Acc 61.25 % AVG Validation Acc 58.47 %\n",
      "Epoch:140/200 AVG Training Loss:0.654 AVG Validation Loss:0.673 AVG Training Acc 60.82 % AVG Validation Acc 58.60 %\n",
      "Epoch:150/200 AVG Training Loss:0.653 AVG Validation Loss:0.672 AVG Training Acc 61.09 % AVG Validation Acc 58.87 %\n",
      "Epoch:160/200 AVG Training Loss:0.653 AVG Validation Loss:0.672 AVG Training Acc 61.35 % AVG Validation Acc 58.60 %\n",
      "Epoch:170/200 AVG Training Loss:0.655 AVG Validation Loss:0.671 AVG Training Acc 60.98 % AVG Validation Acc 59.01 %\n",
      "Epoch:180/200 AVG Training Loss:0.655 AVG Validation Loss:0.670 AVG Training Acc 61.06 % AVG Validation Acc 58.87 %\n",
      "Epoch:190/200 AVG Training Loss:0.655 AVG Validation Loss:0.670 AVG Training Acc 61.49 % AVG Validation Acc 59.01 %\n",
      "Epoch   192: reducing learning rate of group 0 to 1.0000e-06.\n",
      "Epoch:200/200 AVG Training Loss:0.654 AVG Validation Loss:0.670 AVG Training Acc 61.21 % AVG Validation Acc 58.87 %\n",
      "Split 25\n"
     ]
    },
    {
     "data": {
      "application/vnd.jupyter.widget-view+json": {
       "model_id": "679a3ee6bbaf44a4ba1361c178187bd4",
       "version_major": 2,
       "version_minor": 0
      },
      "text/plain": [
       "  0%|          | 0/200 [00:00<?, ?it/s]"
      ]
     },
     "metadata": {},
     "output_type": "display_data"
    },
    {
     "name": "stdout",
     "output_type": "stream",
     "text": [
      "Epoch:10/200 AVG Training Loss:0.539 AVG Validation Loss:4.081 AVG Training Acc 79.58 % AVG Validation Acc 20.16 %\n",
      "Epoch:20/200 AVG Training Loss:0.543 AVG Validation Loss:3.807 AVG Training Acc 80.59 % AVG Validation Acc 20.16 %\n",
      "Epoch:30/200 AVG Training Loss:0.527 AVG Validation Loss:3.709 AVG Training Acc 80.54 % AVG Validation Acc 20.16 %\n",
      "Epoch:40/200 AVG Training Loss:0.518 AVG Validation Loss:4.903 AVG Training Acc 81.81 % AVG Validation Acc 20.16 %\n",
      "Epoch    47: reducing learning rate of group 0 to 1.0000e-03.\n",
      "Epoch:50/200 AVG Training Loss:0.742 AVG Validation Loss:0.875 AVG Training Acc 50.99 % AVG Validation Acc 24.33 %\n",
      "Epoch:60/200 AVG Training Loss:0.683 AVG Validation Loss:0.788 AVG Training Acc 54.90 % AVG Validation Acc 34.14 %\n",
      "Epoch:70/200 AVG Training Loss:0.678 AVG Validation Loss:0.770 AVG Training Acc 56.71 % AVG Validation Acc 38.84 %\n",
      "Epoch:80/200 AVG Training Loss:0.668 AVG Validation Loss:0.792 AVG Training Acc 58.93 % AVG Validation Acc 41.53 %\n",
      "Epoch    81: reducing learning rate of group 0 to 1.0000e-04.\n",
      "Epoch:90/200 AVG Training Loss:0.662 AVG Validation Loss:0.702 AVG Training Acc 60.30 % AVG Validation Acc 55.11 %\n",
      "Epoch:100/200 AVG Training Loss:0.661 AVG Validation Loss:0.678 AVG Training Acc 60.51 % AVG Validation Acc 59.14 %\n",
      "Epoch:110/200 AVG Training Loss:0.659 AVG Validation Loss:0.674 AVG Training Acc 60.62 % AVG Validation Acc 59.95 %\n",
      "Epoch:120/200 AVG Training Loss:0.658 AVG Validation Loss:0.672 AVG Training Acc 61.14 % AVG Validation Acc 59.81 %\n",
      "Epoch:130/200 AVG Training Loss:0.657 AVG Validation Loss:0.672 AVG Training Acc 60.80 % AVG Validation Acc 59.41 %\n",
      "Epoch:140/200 AVG Training Loss:0.655 AVG Validation Loss:0.673 AVG Training Acc 60.81 % AVG Validation Acc 59.14 %\n",
      "Epoch   142: reducing learning rate of group 0 to 1.0000e-05.\n",
      "Epoch:150/200 AVG Training Loss:0.654 AVG Validation Loss:0.671 AVG Training Acc 61.47 % AVG Validation Acc 59.01 %\n",
      "Epoch:160/200 AVG Training Loss:0.652 AVG Validation Loss:0.670 AVG Training Acc 61.34 % AVG Validation Acc 59.54 %\n",
      "Epoch:170/200 AVG Training Loss:0.654 AVG Validation Loss:0.668 AVG Training Acc 61.56 % AVG Validation Acc 59.27 %\n",
      "Epoch:180/200 AVG Training Loss:0.654 AVG Validation Loss:0.668 AVG Training Acc 60.98 % AVG Validation Acc 59.41 %\n",
      "Epoch:190/200 AVG Training Loss:0.656 AVG Validation Loss:0.667 AVG Training Acc 61.07 % AVG Validation Acc 59.27 %\n",
      "Epoch:200/200 AVG Training Loss:0.654 AVG Validation Loss:0.666 AVG Training Acc 61.54 % AVG Validation Acc 59.54 %\n",
      "Split 26\n"
     ]
    },
    {
     "data": {
      "application/vnd.jupyter.widget-view+json": {
       "model_id": "b1b00d8b51f448368469a526e75868ce",
       "version_major": 2,
       "version_minor": 0
      },
      "text/plain": [
       "  0%|          | 0/200 [00:00<?, ?it/s]"
      ]
     },
     "metadata": {},
     "output_type": "display_data"
    },
    {
     "name": "stdout",
     "output_type": "stream",
     "text": [
      "Epoch:10/200 AVG Training Loss:0.442 AVG Validation Loss:4.465 AVG Training Acc 82.23 % AVG Validation Acc 20.16 %\n",
      "Epoch:20/200 AVG Training Loss:0.587 AVG Validation Loss:3.615 AVG Training Acc 76.46 % AVG Validation Acc 20.70 %\n",
      "Epoch    29: reducing learning rate of group 0 to 1.0000e-03.\n",
      "Epoch:30/200 AVG Training Loss:1.103 AVG Validation Loss:1.618 AVG Training Acc 51.20 % AVG Validation Acc 20.30 %\n",
      "Epoch:40/200 AVG Training Loss:0.688 AVG Validation Loss:0.804 AVG Training Acc 54.93 % AVG Validation Acc 31.85 %\n",
      "Epoch:50/200 AVG Training Loss:0.683 AVG Validation Loss:0.812 AVG Training Acc 56.19 % AVG Validation Acc 32.12 %\n",
      "Epoch:60/200 AVG Training Loss:0.677 AVG Validation Loss:0.815 AVG Training Acc 57.52 % AVG Validation Acc 33.87 %\n",
      "Epoch    60: reducing learning rate of group 0 to 1.0000e-04.\n",
      "Epoch:70/200 AVG Training Loss:0.671 AVG Validation Loss:0.717 AVG Training Acc 58.66 % AVG Validation Acc 47.18 %\n",
      "Epoch:80/200 AVG Training Loss:0.670 AVG Validation Loss:0.693 AVG Training Acc 58.58 % AVG Validation Acc 50.40 %\n",
      "Epoch:90/200 AVG Training Loss:0.667 AVG Validation Loss:0.686 AVG Training Acc 59.20 % AVG Validation Acc 51.75 %\n",
      "Epoch:100/200 AVG Training Loss:0.666 AVG Validation Loss:0.689 AVG Training Acc 59.41 % AVG Validation Acc 51.48 %\n",
      "Epoch   101: reducing learning rate of group 0 to 1.0000e-05.\n",
      "Epoch:110/200 AVG Training Loss:0.664 AVG Validation Loss:0.685 AVG Training Acc 59.49 % AVG Validation Acc 52.42 %\n",
      "Epoch:120/200 AVG Training Loss:0.666 AVG Validation Loss:0.684 AVG Training Acc 59.73 % AVG Validation Acc 52.42 %\n",
      "Epoch:130/200 AVG Training Loss:0.664 AVG Validation Loss:0.683 AVG Training Acc 59.87 % AVG Validation Acc 52.96 %\n",
      "Epoch   132: reducing learning rate of group 0 to 1.0000e-06.\n",
      "Epoch:140/200 AVG Training Loss:0.665 AVG Validation Loss:0.685 AVG Training Acc 59.55 % AVG Validation Acc 52.15 %\n",
      "Epoch:150/200 AVG Training Loss:0.664 AVG Validation Loss:0.682 AVG Training Acc 59.68 % AVG Validation Acc 52.82 %\n",
      "Epoch:160/200 AVG Training Loss:0.665 AVG Validation Loss:0.681 AVG Training Acc 59.28 % AVG Validation Acc 52.82 %\n",
      "Epoch   163: reducing learning rate of group 0 to 1.0000e-07.\n",
      "Epoch:170/200 AVG Training Loss:0.664 AVG Validation Loss:0.682 AVG Training Acc 59.66 % AVG Validation Acc 52.28 %\n",
      "Epoch:180/200 AVG Training Loss:0.665 AVG Validation Loss:0.682 AVG Training Acc 59.97 % AVG Validation Acc 52.42 %\n",
      "Epoch:190/200 AVG Training Loss:0.664 AVG Validation Loss:0.682 AVG Training Acc 59.64 % AVG Validation Acc 52.42 %\n",
      "Epoch   194: reducing learning rate of group 0 to 1.0000e-08.\n",
      "Epoch:200/200 AVG Training Loss:0.664 AVG Validation Loss:0.681 AVG Training Acc 59.55 % AVG Validation Acc 52.55 %\n",
      "Split 27\n"
     ]
    },
    {
     "data": {
      "application/vnd.jupyter.widget-view+json": {
       "model_id": "a831214e68e44d189d7789b75604df19",
       "version_major": 2,
       "version_minor": 0
      },
      "text/plain": [
       "  0%|          | 0/200 [00:00<?, ?it/s]"
      ]
     },
     "metadata": {},
     "output_type": "display_data"
    },
    {
     "name": "stdout",
     "output_type": "stream",
     "text": [
      "Epoch:10/200 AVG Training Loss:0.447 AVG Validation Loss:6.638 AVG Training Acc 84.19 % AVG Validation Acc 20.05 %\n",
      "Epoch:20/200 AVG Training Loss:0.582 AVG Validation Loss:2.593 AVG Training Acc 75.96 % AVG Validation Acc 20.05 %\n",
      "Epoch:30/200 AVG Training Loss:0.593 AVG Validation Loss:6.267 AVG Training Acc 70.05 % AVG Validation Acc 20.05 %\n",
      "Epoch    37: reducing learning rate of group 0 to 1.0000e-03.\n",
      "Epoch:40/200 AVG Training Loss:0.718 AVG Validation Loss:0.850 AVG Training Acc 52.22 % AVG Validation Acc 26.65 %\n",
      "Epoch:50/200 AVG Training Loss:0.688 AVG Validation Loss:0.812 AVG Training Acc 54.86 % AVG Validation Acc 25.44 %\n",
      "Epoch:60/200 AVG Training Loss:0.677 AVG Validation Loss:0.826 AVG Training Acc 58.52 % AVG Validation Acc 24.63 %\n",
      "Epoch    68: reducing learning rate of group 0 to 1.0000e-04.\n",
      "Epoch:70/200 AVG Training Loss:0.688 AVG Validation Loss:0.793 AVG Training Acc 55.80 % AVG Validation Acc 32.44 %\n",
      "Epoch:80/200 AVG Training Loss:0.666 AVG Validation Loss:0.710 AVG Training Acc 59.23 % AVG Validation Acc 47.78 %\n",
      "Epoch:90/200 AVG Training Loss:0.663 AVG Validation Loss:0.697 AVG Training Acc 60.05 % AVG Validation Acc 50.20 %\n",
      "Epoch:100/200 AVG Training Loss:0.662 AVG Validation Loss:0.695 AVG Training Acc 59.87 % AVG Validation Acc 51.28 %\n",
      "Epoch:110/200 AVG Training Loss:0.660 AVG Validation Loss:0.693 AVG Training Acc 60.62 % AVG Validation Acc 51.28 %\n",
      "Epoch:120/200 AVG Training Loss:0.659 AVG Validation Loss:0.693 AVG Training Acc 60.89 % AVG Validation Acc 51.14 %\n",
      "Epoch   127: reducing learning rate of group 0 to 1.0000e-05.\n",
      "Epoch:130/200 AVG Training Loss:0.658 AVG Validation Loss:0.692 AVG Training Acc 60.98 % AVG Validation Acc 51.55 %\n",
      "Epoch:140/200 AVG Training Loss:0.659 AVG Validation Loss:0.690 AVG Training Acc 60.79 % AVG Validation Acc 51.82 %\n",
      "Epoch:150/200 AVG Training Loss:0.657 AVG Validation Loss:0.688 AVG Training Acc 61.28 % AVG Validation Acc 52.89 %\n",
      "Epoch:160/200 AVG Training Loss:0.658 AVG Validation Loss:0.686 AVG Training Acc 60.73 % AVG Validation Acc 53.30 %\n",
      "Epoch:170/200 AVG Training Loss:0.658 AVG Validation Loss:0.684 AVG Training Acc 60.91 % AVG Validation Acc 53.43 %\n",
      "Epoch:180/200 AVG Training Loss:0.658 AVG Validation Loss:0.684 AVG Training Acc 61.18 % AVG Validation Acc 53.43 %\n",
      "Epoch:190/200 AVG Training Loss:0.657 AVG Validation Loss:0.683 AVG Training Acc 60.65 % AVG Validation Acc 53.30 %\n",
      "Epoch:200/200 AVG Training Loss:0.658 AVG Validation Loss:0.682 AVG Training Acc 60.93 % AVG Validation Acc 53.30 %\n",
      "Split 28\n"
     ]
    },
    {
     "data": {
      "application/vnd.jupyter.widget-view+json": {
       "model_id": "4e78ae0993f842b487a3470487008d90",
       "version_major": 2,
       "version_minor": 0
      },
      "text/plain": [
       "  0%|          | 0/200 [00:00<?, ?it/s]"
      ]
     },
     "metadata": {},
     "output_type": "display_data"
    },
    {
     "name": "stdout",
     "output_type": "stream",
     "text": [
      "Epoch:10/200 AVG Training Loss:0.526 AVG Validation Loss:7.363 AVG Training Acc 80.05 % AVG Validation Acc 20.05 %\n",
      "Epoch:20/200 AVG Training Loss:0.571 AVG Validation Loss:10.464 AVG Training Acc 80.26 % AVG Validation Acc 20.05 %\n",
      "Epoch    23: reducing learning rate of group 0 to 1.0000e-03.\n",
      "Epoch:30/200 AVG Training Loss:0.695 AVG Validation Loss:0.943 AVG Training Acc 55.42 % AVG Validation Acc 21.80 %\n",
      "Epoch:40/200 AVG Training Loss:0.676 AVG Validation Loss:0.935 AVG Training Acc 58.48 % AVG Validation Acc 21.40 %\n",
      "Epoch:50/200 AVG Training Loss:0.667 AVG Validation Loss:0.915 AVG Training Acc 59.82 % AVG Validation Acc 22.88 %\n",
      "Epoch:60/200 AVG Training Loss:0.658 AVG Validation Loss:0.906 AVG Training Acc 60.80 % AVG Validation Acc 24.63 %\n",
      "Epoch:70/200 AVG Training Loss:0.651 AVG Validation Loss:0.914 AVG Training Acc 61.03 % AVG Validation Acc 24.63 %\n",
      "Epoch:80/200 AVG Training Loss:0.639 AVG Validation Loss:0.910 AVG Training Acc 62.86 % AVG Validation Acc 25.30 %\n",
      "Epoch    89: reducing learning rate of group 0 to 1.0000e-04.\n",
      "Epoch:90/200 AVG Training Loss:0.698 AVG Validation Loss:0.851 AVG Training Acc 55.76 % AVG Validation Acc 30.42 %\n",
      "Epoch:100/200 AVG Training Loss:0.631 AVG Validation Loss:0.706 AVG Training Acc 63.17 % AVG Validation Acc 51.01 %\n",
      "Epoch:110/200 AVG Training Loss:0.625 AVG Validation Loss:0.695 AVG Training Acc 63.55 % AVG Validation Acc 51.95 %\n",
      "Epoch:120/200 AVG Training Loss:0.627 AVG Validation Loss:0.695 AVG Training Acc 63.48 % AVG Validation Acc 52.09 %\n",
      "Epoch:130/200 AVG Training Loss:0.620 AVG Validation Loss:0.692 AVG Training Acc 64.42 % AVG Validation Acc 53.03 %\n",
      "Epoch   130: reducing learning rate of group 0 to 1.0000e-05.\n",
      "Epoch:140/200 AVG Training Loss:0.623 AVG Validation Loss:0.690 AVG Training Acc 63.95 % AVG Validation Acc 53.30 %\n",
      "Epoch:150/200 AVG Training Loss:0.618 AVG Validation Loss:0.687 AVG Training Acc 64.36 % AVG Validation Acc 54.37 %\n",
      "Epoch:160/200 AVG Training Loss:0.621 AVG Validation Loss:0.687 AVG Training Acc 64.13 % AVG Validation Acc 54.10 %\n",
      "Epoch:170/200 AVG Training Loss:0.620 AVG Validation Loss:0.685 AVG Training Acc 64.32 % AVG Validation Acc 54.51 %\n",
      "Epoch:180/200 AVG Training Loss:0.619 AVG Validation Loss:0.685 AVG Training Acc 64.46 % AVG Validation Acc 54.51 %\n",
      "Epoch:190/200 AVG Training Loss:0.621 AVG Validation Loss:0.684 AVG Training Acc 64.54 % AVG Validation Acc 54.91 %\n",
      "Epoch:200/200 AVG Training Loss:0.620 AVG Validation Loss:0.683 AVG Training Acc 64.13 % AVG Validation Acc 54.51 %\n",
      "Split 29\n"
     ]
    },
    {
     "data": {
      "application/vnd.jupyter.widget-view+json": {
       "model_id": "fe58c4982010410aab9ec6706c5245de",
       "version_major": 2,
       "version_minor": 0
      },
      "text/plain": [
       "  0%|          | 0/200 [00:00<?, ?it/s]"
      ]
     },
     "metadata": {},
     "output_type": "display_data"
    },
    {
     "name": "stdout",
     "output_type": "stream",
     "text": [
      "Epoch:10/200 AVG Training Loss:0.516 AVG Validation Loss:5.318 AVG Training Acc 80.45 % AVG Validation Acc 20.05 %\n",
      "Epoch:20/200 AVG Training Loss:0.537 AVG Validation Loss:3.288 AVG Training Acc 78.99 % AVG Validation Acc 20.05 %\n",
      "Epoch:30/200 AVG Training Loss:0.514 AVG Validation Loss:6.709 AVG Training Acc 83.20 % AVG Validation Acc 20.05 %\n",
      "Epoch:40/200 AVG Training Loss:0.634 AVG Validation Loss:1.644 AVG Training Acc 67.12 % AVG Validation Acc 20.05 %\n",
      "Epoch:50/200 AVG Training Loss:0.565 AVG Validation Loss:2.740 AVG Training Acc 76.30 % AVG Validation Acc 20.05 %\n",
      "Epoch    51: reducing learning rate of group 0 to 1.0000e-03.\n",
      "Epoch:60/200 AVG Training Loss:0.688 AVG Validation Loss:0.804 AVG Training Acc 54.49 % AVG Validation Acc 28.13 %\n",
      "Epoch:70/200 AVG Training Loss:0.682 AVG Validation Loss:0.823 AVG Training Acc 57.11 % AVG Validation Acc 31.22 %\n",
      "Epoch:80/200 AVG Training Loss:0.674 AVG Validation Loss:0.837 AVG Training Acc 58.62 % AVG Validation Acc 34.59 %\n",
      "Epoch    82: reducing learning rate of group 0 to 1.0000e-04.\n",
      "Epoch:90/200 AVG Training Loss:0.670 AVG Validation Loss:0.711 AVG Training Acc 58.49 % AVG Validation Acc 51.28 %\n",
      "Epoch:100/200 AVG Training Loss:0.664 AVG Validation Loss:0.680 AVG Training Acc 59.45 % AVG Validation Acc 56.53 %\n",
      "Epoch:110/200 AVG Training Loss:0.664 AVG Validation Loss:0.673 AVG Training Acc 59.71 % AVG Validation Acc 57.47 %\n",
      "Epoch:120/200 AVG Training Loss:0.662 AVG Validation Loss:0.673 AVG Training Acc 59.95 % AVG Validation Acc 57.47 %\n",
      "Epoch   124: reducing learning rate of group 0 to 1.0000e-05.\n",
      "Epoch:130/200 AVG Training Loss:0.657 AVG Validation Loss:0.670 AVG Training Acc 60.22 % AVG Validation Acc 58.01 %\n",
      "Epoch:140/200 AVG Training Loss:0.656 AVG Validation Loss:0.667 AVG Training Acc 60.19 % AVG Validation Acc 58.41 %\n",
      "Epoch:150/200 AVG Training Loss:0.657 AVG Validation Loss:0.665 AVG Training Acc 60.52 % AVG Validation Acc 59.49 %\n",
      "Epoch:160/200 AVG Training Loss:0.658 AVG Validation Loss:0.663 AVG Training Acc 60.01 % AVG Validation Acc 59.89 %\n",
      "Epoch:170/200 AVG Training Loss:0.657 AVG Validation Loss:0.661 AVG Training Acc 60.22 % AVG Validation Acc 59.89 %\n",
      "Epoch:180/200 AVG Training Loss:0.657 AVG Validation Loss:0.660 AVG Training Acc 60.39 % AVG Validation Acc 60.30 %\n",
      "Epoch:190/200 AVG Training Loss:0.657 AVG Validation Loss:0.660 AVG Training Acc 60.25 % AVG Validation Acc 60.43 %\n",
      "Epoch:200/200 AVG Training Loss:0.655 AVG Validation Loss:0.659 AVG Training Acc 60.20 % AVG Validation Acc 60.43 %\n",
      "Split 30\n"
     ]
    },
    {
     "data": {
      "application/vnd.jupyter.widget-view+json": {
       "model_id": "7e51bb8753804f61970dbea93af430f8",
       "version_major": 2,
       "version_minor": 0
      },
      "text/plain": [
       "  0%|          | 0/200 [00:00<?, ?it/s]"
      ]
     },
     "metadata": {},
     "output_type": "display_data"
    },
    {
     "name": "stdout",
     "output_type": "stream",
     "text": [
      "Epoch:10/200 AVG Training Loss:0.553 AVG Validation Loss:3.036 AVG Training Acc 79.39 % AVG Validation Acc 20.19 %\n",
      "Epoch:20/200 AVG Training Loss:0.512 AVG Validation Loss:4.284 AVG Training Acc 80.08 % AVG Validation Acc 20.19 %\n",
      "Epoch    23: reducing learning rate of group 0 to 1.0000e-03.\n",
      "Epoch:30/200 AVG Training Loss:0.670 AVG Validation Loss:1.353 AVG Training Acc 61.91 % AVG Validation Acc 20.19 %\n",
      "Epoch:40/200 AVG Training Loss:0.683 AVG Validation Loss:1.064 AVG Training Acc 60.03 % AVG Validation Acc 20.19 %\n",
      "Epoch:50/200 AVG Training Loss:0.655 AVG Validation Loss:1.011 AVG Training Acc 62.12 % AVG Validation Acc 20.86 %\n",
      "Epoch    54: reducing learning rate of group 0 to 1.0000e-04.\n",
      "Epoch:60/200 AVG Training Loss:0.677 AVG Validation Loss:0.731 AVG Training Acc 57.17 % AVG Validation Acc 44.01 %\n",
      "Epoch:70/200 AVG Training Loss:0.669 AVG Validation Loss:0.691 AVG Training Acc 58.42 % AVG Validation Acc 50.87 %\n",
      "Epoch:80/200 AVG Training Loss:0.668 AVG Validation Loss:0.694 AVG Training Acc 58.70 % AVG Validation Acc 52.09 %\n",
      "Epoch    87: reducing learning rate of group 0 to 1.0000e-05.\n",
      "Epoch:90/200 AVG Training Loss:0.665 AVG Validation Loss:0.683 AVG Training Acc 59.60 % AVG Validation Acc 54.24 %\n",
      "Epoch:100/200 AVG Training Loss:0.661 AVG Validation Loss:0.672 AVG Training Acc 59.91 % AVG Validation Acc 55.85 %\n",
      "Epoch:110/200 AVG Training Loss:0.663 AVG Validation Loss:0.667 AVG Training Acc 59.81 % AVG Validation Acc 56.12 %\n",
      "Epoch:120/200 AVG Training Loss:0.662 AVG Validation Loss:0.662 AVG Training Acc 59.85 % AVG Validation Acc 56.66 %\n",
      "Epoch:130/200 AVG Training Loss:0.660 AVG Validation Loss:0.658 AVG Training Acc 60.29 % AVG Validation Acc 57.60 %\n",
      "Epoch:140/200 AVG Training Loss:0.661 AVG Validation Loss:0.657 AVG Training Acc 60.13 % AVG Validation Acc 57.34 %\n",
      "Epoch:150/200 AVG Training Loss:0.661 AVG Validation Loss:0.655 AVG Training Acc 59.98 % AVG Validation Acc 57.34 %\n",
      "Epoch:160/200 AVG Training Loss:0.660 AVG Validation Loss:0.655 AVG Training Acc 60.04 % AVG Validation Acc 57.87 %\n",
      "Epoch:170/200 AVG Training Loss:0.658 AVG Validation Loss:0.654 AVG Training Acc 60.51 % AVG Validation Acc 58.01 %\n",
      "Epoch:180/200 AVG Training Loss:0.660 AVG Validation Loss:0.655 AVG Training Acc 60.09 % AVG Validation Acc 58.28 %\n",
      "Epoch   181: reducing learning rate of group 0 to 1.0000e-06.\n",
      "Epoch:190/200 AVG Training Loss:0.659 AVG Validation Loss:0.657 AVG Training Acc 60.60 % AVG Validation Acc 57.47 %\n",
      "Epoch:200/200 AVG Training Loss:0.659 AVG Validation Loss:0.655 AVG Training Acc 60.11 % AVG Validation Acc 58.28 %\n",
      "Split 31\n"
     ]
    },
    {
     "data": {
      "application/vnd.jupyter.widget-view+json": {
       "model_id": "f2b95637c5ae40898f20606ae71b5d68",
       "version_major": 2,
       "version_minor": 0
      },
      "text/plain": [
       "  0%|          | 0/200 [00:00<?, ?it/s]"
      ]
     },
     "metadata": {},
     "output_type": "display_data"
    },
    {
     "name": "stdout",
     "output_type": "stream",
     "text": [
      "Epoch:10/200 AVG Training Loss:0.544 AVG Validation Loss:7.839 AVG Training Acc 79.45 % AVG Validation Acc 20.16 %\n",
      "Epoch:20/200 AVG Training Loss:0.636 AVG Validation Loss:1.694 AVG Training Acc 67.52 % AVG Validation Acc 20.16 %\n",
      "Epoch:30/200 AVG Training Loss:0.572 AVG Validation Loss:7.521 AVG Training Acc 78.51 % AVG Validation Acc 20.16 %\n",
      "Epoch    34: reducing learning rate of group 0 to 1.0000e-03.\n",
      "Epoch:40/200 AVG Training Loss:0.683 AVG Validation Loss:0.971 AVG Training Acc 57.51 % AVG Validation Acc 21.37 %\n",
      "Epoch:50/200 AVG Training Loss:0.670 AVG Validation Loss:1.042 AVG Training Acc 59.87 % AVG Validation Acc 20.97 %\n",
      "Epoch:60/200 AVG Training Loss:0.655 AVG Validation Loss:1.046 AVG Training Acc 61.86 % AVG Validation Acc 23.66 %\n",
      "Epoch    65: reducing learning rate of group 0 to 1.0000e-04.\n",
      "Epoch:70/200 AVG Training Loss:0.663 AVG Validation Loss:0.754 AVG Training Acc 59.94 % AVG Validation Acc 45.70 %\n",
      "Epoch:80/200 AVG Training Loss:0.649 AVG Validation Loss:0.693 AVG Training Acc 61.89 % AVG Validation Acc 53.36 %\n",
      "Epoch:90/200 AVG Training Loss:0.648 AVG Validation Loss:0.689 AVG Training Acc 61.79 % AVG Validation Acc 53.76 %\n",
      "Epoch:100/200 AVG Training Loss:0.648 AVG Validation Loss:0.689 AVG Training Acc 62.17 % AVG Validation Acc 53.23 %\n",
      "Epoch   104: reducing learning rate of group 0 to 1.0000e-05.\n",
      "Epoch:110/200 AVG Training Loss:0.645 AVG Validation Loss:0.684 AVG Training Acc 62.43 % AVG Validation Acc 53.63 %\n",
      "Epoch:120/200 AVG Training Loss:0.646 AVG Validation Loss:0.677 AVG Training Acc 62.83 % AVG Validation Acc 54.97 %\n",
      "Epoch:130/200 AVG Training Loss:0.641 AVG Validation Loss:0.672 AVG Training Acc 62.97 % AVG Validation Acc 54.97 %\n",
      "Epoch:140/200 AVG Training Loss:0.643 AVG Validation Loss:0.670 AVG Training Acc 62.39 % AVG Validation Acc 55.11 %\n",
      "Epoch:150/200 AVG Training Loss:0.643 AVG Validation Loss:0.668 AVG Training Acc 62.67 % AVG Validation Acc 55.51 %\n",
      "Epoch:160/200 AVG Training Loss:0.643 AVG Validation Loss:0.666 AVG Training Acc 62.56 % AVG Validation Acc 55.65 %\n",
      "Epoch:170/200 AVG Training Loss:0.645 AVG Validation Loss:0.665 AVG Training Acc 62.40 % AVG Validation Acc 56.05 %\n",
      "Epoch:180/200 AVG Training Loss:0.642 AVG Validation Loss:0.664 AVG Training Acc 62.80 % AVG Validation Acc 56.18 %\n",
      "Epoch:190/200 AVG Training Loss:0.643 AVG Validation Loss:0.664 AVG Training Acc 63.29 % AVG Validation Acc 56.32 %\n",
      "Epoch:200/200 AVG Training Loss:0.643 AVG Validation Loss:0.663 AVG Training Acc 62.86 % AVG Validation Acc 56.32 %\n",
      "Split 32\n"
     ]
    },
    {
     "data": {
      "application/vnd.jupyter.widget-view+json": {
       "model_id": "627fa2e6c41843b58e233687b1228482",
       "version_major": 2,
       "version_minor": 0
      },
      "text/plain": [
       "  0%|          | 0/200 [00:00<?, ?it/s]"
      ]
     },
     "metadata": {},
     "output_type": "display_data"
    },
    {
     "name": "stdout",
     "output_type": "stream",
     "text": [
      "Epoch:10/200 AVG Training Loss:0.566 AVG Validation Loss:5.642 AVG Training Acc 78.46 % AVG Validation Acc 20.16 %\n",
      "Epoch:20/200 AVG Training Loss:0.584 AVG Validation Loss:3.695 AVG Training Acc 73.67 % AVG Validation Acc 20.16 %\n",
      "Epoch    27: reducing learning rate of group 0 to 1.0000e-03.\n",
      "Epoch:30/200 AVG Training Loss:0.746 AVG Validation Loss:0.866 AVG Training Acc 49.84 % AVG Validation Acc 24.06 %\n",
      "Epoch:40/200 AVG Training Loss:0.688 AVG Validation Loss:0.789 AVG Training Acc 54.52 % AVG Validation Acc 26.48 %\n"
     ]
    }
   ],
   "source": [
    "for i in tqdm(list(course_programs.keys())[1:]):\n",
    "    \n",
    "    print(i)\n",
    "    threshold_dict = {} #dict to store information in for each threshold\n",
    "    data = deepcopy(course_programs[i])\n",
    "    \n",
    "    data.set_index(['course_encoding', 'userid'], drop = True, inplace = True)\n",
    "    data.fillna(0, inplace = True)\n",
    "    \n",
    "    #set X and Y columns\n",
    "    X = data[data.columns[:25]] #different timesteps\n",
    "    y = data[data.columns[-4:]] #the 4 different putative targets\n",
    "    \n",
    "    for k in tqdm(targets):\n",
    "        print(k)\n",
    "        \n",
    "        #Start with train test split\n",
    "        X_train_val, X_test, y_train_val, y_test, = train_test_split(\n",
    "                                    X,\n",
    "                                   y[k], #replace when going for multi-target \n",
    "                                   test_size = 0.20,\n",
    "                                   random_state = 15,\n",
    "                                   shuffle=True,\n",
    "                                   stratify = y[k] #replace when going for multi-target\n",
    "                                    )\n",
    "        \n",
    "        #create dict to store fold performance\n",
    "        foldperf={}\n",
    "        \n",
    "        #reset \"best accuracy for treshold i and target k\"\n",
    "        best_accuracy = 0\n",
    "\n",
    "        #make train_val split\n",
    "        for fold, (train_idx,val_idx) in tqdm(enumerate(splits.split(X_train_val, y_train_val))):\n",
    "\n",
    "            print('Split {}'.format(fold + 1))\n",
    "            \n",
    "            #make split between train and Val\n",
    "            X_train, y_train = X_train_val.iloc[train_idx], y_train_val.iloc[train_idx]\n",
    "            X_val, y_val = X_train_val.iloc[val_idx], y_train_val.iloc[val_idx]\n",
    "            \n",
    "            #apply SMOTE to training split\n",
    "            over = SMOTE()\n",
    "            X_train, y_train = over.fit_resample(X_train, y_train)\n",
    "            \n",
    "            #apply scaling after \n",
    "            X_train, X_val = normalize(X_train, X_val, 'Standard')\n",
    "            \n",
    "            #second, convert everything to pytorch tensor - we will convert to tensor dataset and \n",
    "            X_train_tensors = Variable(torch.Tensor(X_train.values))\n",
    "            X_val_tensors = Variable(torch.Tensor(X_val.values))\n",
    "\n",
    "            y_train_tensors = Variable(torch.Tensor(y_train.values))\n",
    "            y_val_tensors = Variable(torch.Tensor(y_val.values)) \n",
    "\n",
    "            #reshaping to rows, timestamps, features \n",
    "            X_train_tensors = torch.reshape(X_train_tensors,   (X_train_tensors.shape[0], X_train_tensors.shape[1], 1))\n",
    "            X_val_tensors = torch.reshape(X_val_tensors,  (X_val_tensors.shape[0], X_val_tensors.shape[1], 1))\n",
    "        \n",
    "            #convert y tensors to format longtensor\n",
    "            y_train_tensors = y_train_tensors.type(torch.cuda.LongTensor)\n",
    "            y_val_tensors = y_val_tensors.type(torch.cuda.LongTensor)\n",
    "            \n",
    "            #create Tensor Datasets and dataloaders for both Train and Val\n",
    "            train_dataset = TensorDataset(X_train_tensors, y_train_tensors)\n",
    "            val_dataset = TensorDataset(X_val_tensors, y_val_tensors)\n",
    "            train_loader = DataLoader(train_dataset, batch_size=batch_size)\n",
    "            val_loader = DataLoader(val_dataset, batch_size=batch_size)\n",
    "    \n",
    "            #creates new model for each \n",
    "            model = LSTM_Uni(num_classes, input_size, hidden_size, num_layers, X_train_tensors.shape[1]).to('cuda') #our lstm class\n",
    "            optimizer = torch.optim.Adam(model.parameters(), lr=learning_rate) \n",
    "            scheduler = ReduceLROnPlateau(optimizer, \n",
    "                                  'min', \n",
    "                                  patience = 10,\n",
    "                                  cooldown = 20,\n",
    "                                 verbose = True)\n",
    "    \n",
    "            history = {'train_loss': [], 'val_loss': [],'train_acc':[],'val_acc':[], 'precision': [],\n",
    "                      'recall' : [], 'auroc': []}\n",
    "\n",
    "            for epoch in tqdm(range(num_epochs)):\n",
    "                train_loss, train_correct=train_epoch(model,train_loader,criterion,optimizer)\n",
    "                val_loss, val_correct, precision, recall, auroc = valid_epoch(model,val_loader,criterion)\n",
    "\n",
    "                train_loss = train_loss / len(train_loader.sampler)\n",
    "                train_acc = train_correct / len(train_loader.sampler) * 100\n",
    "                val_loss = val_loss / len(val_loader.sampler)\n",
    "                val_acc = val_correct / len(val_loader.sampler) * 100\n",
    "        \n",
    "        \n",
    "                if (epoch+1) % 10 == 0: \n",
    "                    print(\"Epoch:{}/{} AVG Training Loss:{:.3f} AVG Validation Loss:{:.3f} AVG Training Acc {:.2f} % AVG Validation Acc {:.2f} %\".format(epoch + 1,\n",
    "                                                                                                             num_epochs,\n",
    "                                                                                                             train_loss,\n",
    "                                                                                                             val_loss,\n",
    "                                                                                                             train_acc,\n",
    "                                                                                                             val_acc))\n",
    "                history['train_loss'].append(train_loss)\n",
    "                history['val_loss'].append(val_loss)\n",
    "                history['train_acc'].append(train_acc)\n",
    "                history['val_acc'].append(val_acc)\n",
    "                history['precision'].append(precision)\n",
    "                history['recall'].append(recall)\n",
    "                history['auroc'].append(auroc)\n",
    "                scheduler.step(val_loss)\n",
    "    \n",
    "                if val_acc > best_accuracy:\n",
    "            \n",
    "                #replace best accuracy and save best model\n",
    "                    print(f'New Best Accuracy found: {val_acc:.2f}%\\nEpoch: {epoch + 1}')\n",
    "                    best_accuracy = val_acc\n",
    "                    best = deepcopy(model)\n",
    "                    curr_epoch = epoch + 1\n",
    "                    \n",
    "            #store fold performance\n",
    "            foldperf['fold{}'.format(fold+1)] = history\n",
    "        \n",
    "        #saves fold performance for target \n",
    "        threshold_dict[k] = pd.DataFrame.from_dict(foldperf, orient='index') # convert dict to dataframe\n",
    "        \n",
    "        #explode to get eacxh epoch as a row\n",
    "        threshold_dict[k] = threshold_dict[k].explode(list(threshold_dict[k].columns))\n",
    "        torch.save(best,f\"../Models/{i}/SMOTE_Nova_IMS_best_{k}_{curr_epoch}_epochs.h\")\n",
    "        \n",
    "    # from pandas.io.parsers import ExcelWriter\n",
    "    with pd.ExcelWriter(f\"../Data/Modeling Stage/Results/IMS/Clicks per % duration/SMOTE_25_splits_{i}_{replicas}_replicas.xlsx\") as writer:  \n",
    "        for sheet in targets:\n",
    "                threshold_dict[sheet].to_excel(writer, sheet_name=str(sheet))"
   ]
  }
 ],
 "metadata": {
  "kernelspec": {
   "display_name": "Python 3 (ipykernel)",
   "language": "python",
   "name": "python3"
  },
  "language_info": {
   "codemirror_mode": {
    "name": "ipython",
    "version": 3
   },
   "file_extension": ".py",
   "mimetype": "text/x-python",
   "name": "python",
   "nbconvert_exporter": "python",
   "pygments_lexer": "ipython3",
   "version": "3.8.11"
  }
 },
 "nbformat": 4,
 "nbformat_minor": 5
}
