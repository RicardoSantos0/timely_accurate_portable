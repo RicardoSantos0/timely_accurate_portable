{
 "cells": [
  {
   "cell_type": "markdown",
   "id": "84eda90e",
   "metadata": {},
   "source": [
    "### Thesis notebook 4.3. - NOVA IMS\n",
    "\n",
    "#### LSTM - Temporal data representation\n",
    "\n",
    "In this notebook, we will finally start our application of temporal representation using LSTMs.\n",
    "The argument for the usage of Deep Learning stems from the fact that sequences themselves encode information that can be extracted using Recurrent Neural Networks and, more specifically, Long Short Term Memory Units.\n",
    "\n",
    "#### First Step: Setup a PyTorch environment that enables the use of GPU for training. \n",
    "\n",
    "The following cell wll confirm that the GPU will be the default device to use."
   ]
  },
  {
   "cell_type": "code",
   "execution_count": 1,
   "id": "4f27844c",
   "metadata": {},
   "outputs": [],
   "source": [
    "import torch\n",
    "import pycuda.driver as cuda\n",
    "\n",
    "cuda.init()\n",
    "## Get Id of default device\n",
    "torch.cuda.current_device()\n",
    "# 0\n",
    "cuda.Device(0).name() # '0' is the id of your GPU\n",
    "\n",
    "#set all tensors to gpu\n",
    "torch.set_default_tensor_type('torch.cuda.FloatTensor')"
   ]
  },
  {
   "cell_type": "markdown",
   "id": "0d95429e",
   "metadata": {},
   "source": [
    "#### Second Step: Import the relevant packages and declare global variables"
   ]
  },
  {
   "cell_type": "code",
   "execution_count": 2,
   "id": "e6c2d97f",
   "metadata": {},
   "outputs": [],
   "source": [
    "#import necessary modules/libraries\n",
    "import numpy as np\n",
    "import scipy as sc\n",
    "import pandas as pd\n",
    "import datetime as dt\n",
    "import warnings\n",
    "import time\n",
    "\n",
    "\n",
    "#tqdm to monitor progress\n",
    "from tqdm.notebook import tqdm, trange\n",
    "tqdm.pandas(desc=\"Progress\")\n",
    "\n",
    "#time related features\n",
    "from datetime import timedelta\n",
    "from copy import copy, deepcopy\n",
    "\n",
    "#vizualization\n",
    "import matplotlib.pyplot as plt\n",
    "import seaborn as sns\n",
    "\n",
    "#imblearn, scalers, kfold and metrics \n",
    "from sklearn.pipeline import Pipeline\n",
    "from imblearn.over_sampling import SMOTE\n",
    "from sklearn.preprocessing import MinMaxScaler, StandardScaler, RobustScaler, QuantileTransformer,PowerTransformer\n",
    "from sklearn.model_selection import train_test_split, RepeatedKFold, StratifiedKFold, cross_val_score, GridSearchCV, RandomizedSearchCV\n",
    "from sklearn.metrics import confusion_matrix, accuracy_score, precision_score, recall_score, f1_score, roc_auc_score, roc_curve, recall_score, classification_report, average_precision_score, precision_recall_curve\n",
    "from sklearn.pipeline import Pipeline\n",
    "\n",
    "#import torch related\n",
    "import torch.nn as nn\n",
    "from torch.nn import functional as F\n",
    "from torch.autograd import Variable \n",
    "from torch.utils.data import TensorDataset, DataLoader\n",
    "from torch.utils.data.sampler import SubsetRandomSampler\n",
    "from skorch import NeuralNetClassifier\n",
    "\n",
    "#and optimizer of learning rate\n",
    "from torch.optim.lr_scheduler import ReduceLROnPlateau\n",
    "\n",
    "#import pytorch modules\n",
    "warnings.filterwarnings('ignore')"
   ]
  },
  {
   "cell_type": "code",
   "execution_count": 3,
   "id": "c6c3f1fb",
   "metadata": {},
   "outputs": [],
   "source": [
    "#global variables that may come in handy\n",
    "\n",
    "\n",
    "#colors for vizualizations\n",
    "nova_ims_colors = ['#BFD72F', '#5C666C']\n",
    "\n",
    "#standard color for student aggregates\n",
    "student_color = '#474838'\n",
    "\n",
    "#standard color for course aggragates\n",
    "course_color = '#1B3D2F'\n",
    "\n",
    "#standard continuous colormap\n",
    "standard_cmap = 'viridis_r'\n",
    "\n",
    "#Function designed to deal with multiindex and flatten it\n",
    "def flattenHierarchicalCol(col,sep = '_'):\n",
    "    '''converts multiindex columns into single index columns while retaining the hierarchical components'''\n",
    "    if not type(col) is tuple:\n",
    "        return col\n",
    "    else:\n",
    "        new_col = ''\n",
    "        for leveli,level in enumerate(col):\n",
    "            if not level == '':\n",
    "                if not leveli == 0:\n",
    "                    new_col += sep\n",
    "                new_col += level\n",
    "        return new_col\n",
    "    \n",
    "#number of replicas - number of repeats of stratified k fold - in this case 10\n",
    "replicas = 30\n",
    "\n",
    "#names to display on result figures\n",
    "date_names = {\n",
    "             'Date_threshold_10': '10% of Course Duration',   \n",
    "             'Date_threshold_25': '25% of Course Duration', \n",
    "             'Date_threshold_33': '33% of Course Duration', \n",
    "             'Date_threshold_50': '50% of Course Duration', \n",
    "             'Date_threshold_100':'100% of Course Duration', \n",
    "            }\n",
    "\n",
    "target_names = {\n",
    "                'exam_fail' : 'At risk - Exam Grade',\n",
    "                'final_fail' : 'At risk - Final Grade', \n",
    "                'exam_gifted' : 'High performer - Exam Grade', \n",
    "                'final_gifted': 'High performer - Final Grade'\n",
    "                }\n",
    "\n",
    "#targets\n",
    "targets = ['exam_fail', 'exam_gifted']\n",
    "\n",
    "#set the indexes to use for later\n",
    "index = [\"course_encoding\", \"cd_curso\", \"semestre\", \"courseid\", \"userid\", 'exam_gifted', 'exam_fail']\n",
    "\n",
    "#categories of objecctables\n",
    "objects = [\"course\", \"resource\", \"forum\", \"url\", \"folder\", \"quiz\", \"grade_grades\", \n",
    "           \"assignments\", \"groups\", \"user\", \"turnitintooltwo\", \"page\", \"choice\", \"other\"]          "
   ]
  },
  {
   "cell_type": "markdown",
   "id": "60c5ddb6",
   "metadata": {},
   "source": [
    "#### Step 3: Import data and take a preliminary look at it "
   ]
  },
  {
   "cell_type": "code",
   "execution_count": 4,
   "id": "d8a23ea6",
   "metadata": {},
   "outputs": [],
   "source": [
    "#imports dataframes\n",
    "course_programs = pd.read_excel(\"../Data/Modeling Stage/Nova_IMS_Temporal_Datasets_daily_clicks.xlsx\", \n",
    "                                dtype = {\n",
    "                                    'course_encoding' : int,\n",
    "                                    'userid' : int},\n",
    "                               sheet_name = 'Date_threshold_100')\n",
    "\n",
    "#save tables \n",
    "student_list = pd.read_csv('../Data/Modeling Stage/Nova_IMS_Filtered_targets.csv', \n",
    "                         dtype = {\n",
    "                                   'course_encoding': int,\n",
    "                                   'userid' : int,\n",
    "                                   })\n",
    "\n",
    "#drop unnamed 0 column\n",
    "#merge with the targets we calculated on the other \n",
    "course_programs = course_programs.merge(student_list, on = ['course_encoding', 'userid'], how = 'inner')\n",
    "course_programs.drop(['Unnamed: 0', 'exam_mark', 'final_mark'], axis = 1, inplace = True)\n",
    "    \n",
    "#convert results to object and need to convert column names to string\n",
    "course_programs['course_encoding'], course_programs['userid'] = course_programs['course_encoding'].astype(object), course_programs['userid'].astype(object)\n",
    "course_programs.columns = course_programs.columns.astype(str)"
   ]
  },
  {
   "cell_type": "code",
   "execution_count": 5,
   "id": "7bc3c84f",
   "metadata": {},
   "outputs": [
    {
     "name": "stdout",
     "output_type": "stream",
     "text": [
      "<class 'pandas.core.frame.DataFrame'>\n",
      "Int64Index: 63171 entries, 0 to 63170\n",
      "Columns: 149 entries, course_encoding to exam_gifted\n",
      "dtypes: float64(95), int64(50), object(4)\n",
      "memory usage: 72.3+ MB\n"
     ]
    }
   ],
   "source": [
    "course_programs.info()"
   ]
  },
  {
   "cell_type": "code",
   "execution_count": 6,
   "id": "c4a751ef",
   "metadata": {},
   "outputs": [
    {
     "data": {
      "text/html": [
       "<div>\n",
       "<style scoped>\n",
       "    .dataframe tbody tr th:only-of-type {\n",
       "        vertical-align: middle;\n",
       "    }\n",
       "\n",
       "    .dataframe tbody tr th {\n",
       "        vertical-align: top;\n",
       "    }\n",
       "\n",
       "    .dataframe thead th {\n",
       "        text-align: right;\n",
       "    }\n",
       "</style>\n",
       "<table border=\"1\" class=\"dataframe\">\n",
       "  <thead>\n",
       "    <tr style=\"text-align: right;\">\n",
       "      <th></th>\n",
       "      <th>course_encoding</th>\n",
       "      <th>cd_curso</th>\n",
       "      <th>semestre</th>\n",
       "      <th>courseid</th>\n",
       "      <th>userid</th>\n",
       "      <th>objecttable</th>\n",
       "      <th>1</th>\n",
       "      <th>2</th>\n",
       "      <th>3</th>\n",
       "      <th>4</th>\n",
       "      <th>...</th>\n",
       "      <th>134</th>\n",
       "      <th>135</th>\n",
       "      <th>136</th>\n",
       "      <th>137</th>\n",
       "      <th>138</th>\n",
       "      <th>139</th>\n",
       "      <th>140</th>\n",
       "      <th>141</th>\n",
       "      <th>exam_fail</th>\n",
       "      <th>exam_gifted</th>\n",
       "    </tr>\n",
       "  </thead>\n",
       "  <tbody>\n",
       "    <tr>\n",
       "      <th>count</th>\n",
       "      <td>63171.0</td>\n",
       "      <td>63171.000000</td>\n",
       "      <td>63171</td>\n",
       "      <td>63171.000000</td>\n",
       "      <td>63171.0</td>\n",
       "      <td>63171</td>\n",
       "      <td>63171.000000</td>\n",
       "      <td>63171.000000</td>\n",
       "      <td>63171.000000</td>\n",
       "      <td>63171.000000</td>\n",
       "      <td>...</td>\n",
       "      <td>41654.000000</td>\n",
       "      <td>39423.000000</td>\n",
       "      <td>37318.000000</td>\n",
       "      <td>34876.000000</td>\n",
       "      <td>32366.000000</td>\n",
       "      <td>27005.000000</td>\n",
       "      <td>19821.000000</td>\n",
       "      <td>1054.000000</td>\n",
       "      <td>63171.000000</td>\n",
       "      <td>63171.000000</td>\n",
       "    </tr>\n",
       "    <tr>\n",
       "      <th>unique</th>\n",
       "      <td>138.0</td>\n",
       "      <td>NaN</td>\n",
       "      <td>6</td>\n",
       "      <td>NaN</td>\n",
       "      <td>1590.0</td>\n",
       "      <td>14</td>\n",
       "      <td>NaN</td>\n",
       "      <td>NaN</td>\n",
       "      <td>NaN</td>\n",
       "      <td>NaN</td>\n",
       "      <td>...</td>\n",
       "      <td>NaN</td>\n",
       "      <td>NaN</td>\n",
       "      <td>NaN</td>\n",
       "      <td>NaN</td>\n",
       "      <td>NaN</td>\n",
       "      <td>NaN</td>\n",
       "      <td>NaN</td>\n",
       "      <td>NaN</td>\n",
       "      <td>NaN</td>\n",
       "      <td>NaN</td>\n",
       "    </tr>\n",
       "    <tr>\n",
       "      <th>top</th>\n",
       "      <td>150.0</td>\n",
       "      <td>NaN</td>\n",
       "      <td>S1</td>\n",
       "      <td>NaN</td>\n",
       "      <td>6826.0</td>\n",
       "      <td>course</td>\n",
       "      <td>NaN</td>\n",
       "      <td>NaN</td>\n",
       "      <td>NaN</td>\n",
       "      <td>NaN</td>\n",
       "      <td>...</td>\n",
       "      <td>NaN</td>\n",
       "      <td>NaN</td>\n",
       "      <td>NaN</td>\n",
       "      <td>NaN</td>\n",
       "      <td>NaN</td>\n",
       "      <td>NaN</td>\n",
       "      <td>NaN</td>\n",
       "      <td>NaN</td>\n",
       "      <td>NaN</td>\n",
       "      <td>NaN</td>\n",
       "    </tr>\n",
       "    <tr>\n",
       "      <th>freq</th>\n",
       "      <td>1821.0</td>\n",
       "      <td>NaN</td>\n",
       "      <td>28407</td>\n",
       "      <td>NaN</td>\n",
       "      <td>93.0</td>\n",
       "      <td>9295</td>\n",
       "      <td>NaN</td>\n",
       "      <td>NaN</td>\n",
       "      <td>NaN</td>\n",
       "      <td>NaN</td>\n",
       "      <td>...</td>\n",
       "      <td>NaN</td>\n",
       "      <td>NaN</td>\n",
       "      <td>NaN</td>\n",
       "      <td>NaN</td>\n",
       "      <td>NaN</td>\n",
       "      <td>NaN</td>\n",
       "      <td>NaN</td>\n",
       "      <td>NaN</td>\n",
       "      <td>NaN</td>\n",
       "      <td>NaN</td>\n",
       "    </tr>\n",
       "    <tr>\n",
       "      <th>mean</th>\n",
       "      <td>NaN</td>\n",
       "      <td>7906.809375</td>\n",
       "      <td>NaN</td>\n",
       "      <td>185361.922290</td>\n",
       "      <td>NaN</td>\n",
       "      <td>NaN</td>\n",
       "      <td>0.019803</td>\n",
       "      <td>0.028716</td>\n",
       "      <td>0.045638</td>\n",
       "      <td>0.052113</td>\n",
       "      <td>...</td>\n",
       "      <td>0.522903</td>\n",
       "      <td>0.293027</td>\n",
       "      <td>0.235329</td>\n",
       "      <td>0.867387</td>\n",
       "      <td>0.250695</td>\n",
       "      <td>0.844844</td>\n",
       "      <td>0.339690</td>\n",
       "      <td>0.001898</td>\n",
       "      <td>0.190784</td>\n",
       "      <td>0.287331</td>\n",
       "    </tr>\n",
       "    <tr>\n",
       "      <th>std</th>\n",
       "      <td>NaN</td>\n",
       "      <td>1986.226115</td>\n",
       "      <td>NaN</td>\n",
       "      <td>80819.428212</td>\n",
       "      <td>NaN</td>\n",
       "      <td>NaN</td>\n",
       "      <td>0.276235</td>\n",
       "      <td>0.308394</td>\n",
       "      <td>0.458564</td>\n",
       "      <td>0.550856</td>\n",
       "      <td>...</td>\n",
       "      <td>4.502103</td>\n",
       "      <td>2.288393</td>\n",
       "      <td>1.885921</td>\n",
       "      <td>9.354308</td>\n",
       "      <td>1.631869</td>\n",
       "      <td>8.256497</td>\n",
       "      <td>3.054003</td>\n",
       "      <td>0.043540</td>\n",
       "      <td>0.392922</td>\n",
       "      <td>0.452521</td>\n",
       "    </tr>\n",
       "    <tr>\n",
       "      <th>min</th>\n",
       "      <td>NaN</td>\n",
       "      <td>859.000000</td>\n",
       "      <td>NaN</td>\n",
       "      <td>100001.000000</td>\n",
       "      <td>NaN</td>\n",
       "      <td>NaN</td>\n",
       "      <td>0.000000</td>\n",
       "      <td>0.000000</td>\n",
       "      <td>0.000000</td>\n",
       "      <td>0.000000</td>\n",
       "      <td>...</td>\n",
       "      <td>0.000000</td>\n",
       "      <td>0.000000</td>\n",
       "      <td>0.000000</td>\n",
       "      <td>0.000000</td>\n",
       "      <td>0.000000</td>\n",
       "      <td>0.000000</td>\n",
       "      <td>0.000000</td>\n",
       "      <td>0.000000</td>\n",
       "      <td>0.000000</td>\n",
       "      <td>0.000000</td>\n",
       "    </tr>\n",
       "    <tr>\n",
       "      <th>25%</th>\n",
       "      <td>NaN</td>\n",
       "      <td>7512.000000</td>\n",
       "      <td>NaN</td>\n",
       "      <td>100091.000000</td>\n",
       "      <td>NaN</td>\n",
       "      <td>NaN</td>\n",
       "      <td>0.000000</td>\n",
       "      <td>0.000000</td>\n",
       "      <td>0.000000</td>\n",
       "      <td>0.000000</td>\n",
       "      <td>...</td>\n",
       "      <td>0.000000</td>\n",
       "      <td>0.000000</td>\n",
       "      <td>0.000000</td>\n",
       "      <td>0.000000</td>\n",
       "      <td>0.000000</td>\n",
       "      <td>0.000000</td>\n",
       "      <td>0.000000</td>\n",
       "      <td>0.000000</td>\n",
       "      <td>0.000000</td>\n",
       "      <td>0.000000</td>\n",
       "    </tr>\n",
       "    <tr>\n",
       "      <th>50%</th>\n",
       "      <td>NaN</td>\n",
       "      <td>9155.000000</td>\n",
       "      <td>NaN</td>\n",
       "      <td>200165.000000</td>\n",
       "      <td>NaN</td>\n",
       "      <td>NaN</td>\n",
       "      <td>0.000000</td>\n",
       "      <td>0.000000</td>\n",
       "      <td>0.000000</td>\n",
       "      <td>0.000000</td>\n",
       "      <td>...</td>\n",
       "      <td>0.000000</td>\n",
       "      <td>0.000000</td>\n",
       "      <td>0.000000</td>\n",
       "      <td>0.000000</td>\n",
       "      <td>0.000000</td>\n",
       "      <td>0.000000</td>\n",
       "      <td>0.000000</td>\n",
       "      <td>0.000000</td>\n",
       "      <td>0.000000</td>\n",
       "      <td>0.000000</td>\n",
       "    </tr>\n",
       "    <tr>\n",
       "      <th>75%</th>\n",
       "      <td>NaN</td>\n",
       "      <td>9434.000000</td>\n",
       "      <td>NaN</td>\n",
       "      <td>200193.000000</td>\n",
       "      <td>NaN</td>\n",
       "      <td>NaN</td>\n",
       "      <td>0.000000</td>\n",
       "      <td>0.000000</td>\n",
       "      <td>0.000000</td>\n",
       "      <td>0.000000</td>\n",
       "      <td>...</td>\n",
       "      <td>0.000000</td>\n",
       "      <td>0.000000</td>\n",
       "      <td>0.000000</td>\n",
       "      <td>0.000000</td>\n",
       "      <td>0.000000</td>\n",
       "      <td>0.000000</td>\n",
       "      <td>0.000000</td>\n",
       "      <td>0.000000</td>\n",
       "      <td>0.000000</td>\n",
       "      <td>1.000000</td>\n",
       "    </tr>\n",
       "    <tr>\n",
       "      <th>max</th>\n",
       "      <td>NaN</td>\n",
       "      <td>9435.000000</td>\n",
       "      <td>NaN</td>\n",
       "      <td>400131.000000</td>\n",
       "      <td>NaN</td>\n",
       "      <td>NaN</td>\n",
       "      <td>19.000000</td>\n",
       "      <td>17.000000</td>\n",
       "      <td>20.000000</td>\n",
       "      <td>30.000000</td>\n",
       "      <td>...</td>\n",
       "      <td>214.000000</td>\n",
       "      <td>118.000000</td>\n",
       "      <td>169.000000</td>\n",
       "      <td>376.000000</td>\n",
       "      <td>58.000000</td>\n",
       "      <td>230.000000</td>\n",
       "      <td>96.000000</td>\n",
       "      <td>1.000000</td>\n",
       "      <td>1.000000</td>\n",
       "      <td>1.000000</td>\n",
       "    </tr>\n",
       "  </tbody>\n",
       "</table>\n",
       "<p>11 rows × 149 columns</p>\n",
       "</div>"
      ],
      "text/plain": [
       "        course_encoding      cd_curso semestre       courseid   userid  \\\n",
       "count           63171.0  63171.000000    63171   63171.000000  63171.0   \n",
       "unique            138.0           NaN        6            NaN   1590.0   \n",
       "top               150.0           NaN       S1            NaN   6826.0   \n",
       "freq             1821.0           NaN    28407            NaN     93.0   \n",
       "mean                NaN   7906.809375      NaN  185361.922290      NaN   \n",
       "std                 NaN   1986.226115      NaN   80819.428212      NaN   \n",
       "min                 NaN    859.000000      NaN  100001.000000      NaN   \n",
       "25%                 NaN   7512.000000      NaN  100091.000000      NaN   \n",
       "50%                 NaN   9155.000000      NaN  200165.000000      NaN   \n",
       "75%                 NaN   9434.000000      NaN  200193.000000      NaN   \n",
       "max                 NaN   9435.000000      NaN  400131.000000      NaN   \n",
       "\n",
       "       objecttable             1             2             3             4  \\\n",
       "count        63171  63171.000000  63171.000000  63171.000000  63171.000000   \n",
       "unique          14           NaN           NaN           NaN           NaN   \n",
       "top         course           NaN           NaN           NaN           NaN   \n",
       "freq          9295           NaN           NaN           NaN           NaN   \n",
       "mean           NaN      0.019803      0.028716      0.045638      0.052113   \n",
       "std            NaN      0.276235      0.308394      0.458564      0.550856   \n",
       "min            NaN      0.000000      0.000000      0.000000      0.000000   \n",
       "25%            NaN      0.000000      0.000000      0.000000      0.000000   \n",
       "50%            NaN      0.000000      0.000000      0.000000      0.000000   \n",
       "75%            NaN      0.000000      0.000000      0.000000      0.000000   \n",
       "max            NaN     19.000000     17.000000     20.000000     30.000000   \n",
       "\n",
       "        ...           134           135           136           137  \\\n",
       "count   ...  41654.000000  39423.000000  37318.000000  34876.000000   \n",
       "unique  ...           NaN           NaN           NaN           NaN   \n",
       "top     ...           NaN           NaN           NaN           NaN   \n",
       "freq    ...           NaN           NaN           NaN           NaN   \n",
       "mean    ...      0.522903      0.293027      0.235329      0.867387   \n",
       "std     ...      4.502103      2.288393      1.885921      9.354308   \n",
       "min     ...      0.000000      0.000000      0.000000      0.000000   \n",
       "25%     ...      0.000000      0.000000      0.000000      0.000000   \n",
       "50%     ...      0.000000      0.000000      0.000000      0.000000   \n",
       "75%     ...      0.000000      0.000000      0.000000      0.000000   \n",
       "max     ...    214.000000    118.000000    169.000000    376.000000   \n",
       "\n",
       "                 138           139           140          141     exam_fail  \\\n",
       "count   32366.000000  27005.000000  19821.000000  1054.000000  63171.000000   \n",
       "unique           NaN           NaN           NaN          NaN           NaN   \n",
       "top              NaN           NaN           NaN          NaN           NaN   \n",
       "freq             NaN           NaN           NaN          NaN           NaN   \n",
       "mean        0.250695      0.844844      0.339690     0.001898      0.190784   \n",
       "std         1.631869      8.256497      3.054003     0.043540      0.392922   \n",
       "min         0.000000      0.000000      0.000000     0.000000      0.000000   \n",
       "25%         0.000000      0.000000      0.000000     0.000000      0.000000   \n",
       "50%         0.000000      0.000000      0.000000     0.000000      0.000000   \n",
       "75%         0.000000      0.000000      0.000000     0.000000      0.000000   \n",
       "max        58.000000    230.000000     96.000000     1.000000      1.000000   \n",
       "\n",
       "         exam_gifted  \n",
       "count   63171.000000  \n",
       "unique           NaN  \n",
       "top              NaN  \n",
       "freq             NaN  \n",
       "mean        0.287331  \n",
       "std         0.452521  \n",
       "min         0.000000  \n",
       "25%         0.000000  \n",
       "50%         0.000000  \n",
       "75%         1.000000  \n",
       "max         1.000000  \n",
       "\n",
       "[11 rows x 149 columns]"
      ]
     },
     "execution_count": 6,
     "metadata": {},
     "output_type": "execute_result"
    }
   ],
   "source": [
    "course_programs.describe(include = 'all')"
   ]
  },
  {
   "cell_type": "markdown",
   "id": "c3291817",
   "metadata": {},
   "source": [
    "In our first attempt, we will use the absolute number of clicks made by each student - scaled using standard scaler. \n",
    "Therefore, we can start by immediately placing our course encoding/userid pairings into the index."
   ]
  },
  {
   "cell_type": "code",
   "execution_count": 7,
   "id": "be722ea9",
   "metadata": {},
   "outputs": [],
   "source": [
    "def normalize(train, test, scaler):\n",
    "    \n",
    "    if scaler == 'MinMax':\n",
    "        pt = MinMaxScaler()\n",
    "    elif scaler == 'Standard':\n",
    "        pt = StandardScaler()\n",
    "    elif scaler == 'Robust':\n",
    "        pt = RobustScaler()\n",
    "    elif scaler == 'Quantile':\n",
    "        pt = QuantileTransformer()\n",
    "    else:\n",
    "        pt = PowerTransformer(method='yeo-johnson')\n",
    "    \n",
    "    data_train = pt.fit_transform(train)\n",
    "    data_test = pt.transform(test)\n",
    "    # convert the array back to a dataframe\n",
    "    normalized_train = pd.DataFrame(data_train,columns=train.columns)\n",
    "    normalized_test = pd.DataFrame(data_test,columns=test.columns)\n",
    "        \n",
    "    return normalized_train, normalized_test "
   ]
  },
  {
   "cell_type": "code",
   "execution_count": 8,
   "id": "85843427",
   "metadata": {},
   "outputs": [
    {
     "data": {
      "text/plain": [
       "course             9295\n",
       "resource           8757\n",
       "forum              7005\n",
       "url                6769\n",
       "folder             5758\n",
       "quiz               4870\n",
       "grade_grades       4670\n",
       "assignments        3858\n",
       "groups             3525\n",
       "user               2344\n",
       "turnitintooltwo    1998\n",
       "page               1728\n",
       "choice             1373\n",
       "other              1221\n",
       "Name: objecttable, dtype: int64"
      ]
     },
     "execution_count": 8,
     "metadata": {},
     "output_type": "execute_result"
    }
   ],
   "source": [
    "course_programs.objecttable.value_counts()"
   ]
  },
  {
   "cell_type": "code",
   "execution_count": 9,
   "id": "e92abd70",
   "metadata": {},
   "outputs": [],
   "source": [
    "test = course_programs.copy()\n",
    "\n",
    "#The first 6 columns are index - column 141 is fully empty\n",
    "columns = test.drop(targets, axis = 1).columns[6:146]"
   ]
  },
  {
   "cell_type": "code",
   "execution_count": 10,
   "id": "f99ddf21",
   "metadata": {},
   "outputs": [],
   "source": [
    "#create first pivot\n",
    "placeholder_pivot = pd.pivot_table(test, index = index, values = columns, columns = \"objecttable\",\n",
    "                  aggfunc = 'first')\n",
    "\n",
    "\n",
    "#applies the function that removes multiindex\n",
    "placeholder_pivot.columns = placeholder_pivot.columns.map(flattenHierarchicalCol)\n",
    "\n",
    "#also saving index for reindexing of the remaining stuff\n",
    "save_index = placeholder_pivot.index.copy()\n",
    "\n",
    "#we will need to create the multidimensional tensors\n",
    "placeholder_dict = {}\n",
    "\n",
    "#create dataset for targets\n",
    "df_targets = placeholder_pivot.reset_index().copy()[index]\n",
    "df_targets.set_index([\"course_encoding\", \"cd_curso\", \"semestre\", \"courseid\", \"userid\"], inplace = True)\n",
    "\n",
    "#initialize empty 3d array\n",
    "nd_array_100 = np.zeros((\n",
    "                               len(objects), #nbr of dimensions\n",
    "                               len(placeholder_pivot), #nbr of rows\n",
    "                               len(columns), #nbr of columns \n",
    "                              ))\n",
    "\n",
    "#likely inefficient, but should do the trick\n",
    "counter = 0\n",
    "\n",
    "#create multiple dataframes based on regex - this will create ndarray for the 100 duration\n",
    "for i in objects:\n",
    "    #create the objects\n",
    "    placeholder_dict[f'{i}'] = placeholder_pivot.filter(regex=f'_{i}')\n",
    "    \n",
    "    #remove text, convert column name back to numbers and sort numbers to ensure sequence\n",
    "    placeholder_dict[f'{i}'].columns = placeholder_dict[f'{i}'].columns.str.replace(r\"\\D+\", \"\", regex=True) \n",
    "    placeholder_dict[f'{i}'].columns = placeholder_dict[f'{i}'].columns.astype(int)\n",
    "    placeholder_dict[f'{i}'] = placeholder_dict[f'{i}'][sorted(placeholder_dict[f'{i}'].columns)].fillna(0)\n",
    "    \n",
    "    #converting df to nd array\n",
    "    nd_array_100[counter] = placeholder_dict[f'{i}'].values\n",
    "    counter += 1\n",
    "\n",
    "    #reshape to samples, rows, columns\n",
    "\n",
    "#switching to rows, columns, features\n",
    "nd_array_100 = nd_array_100.transpose(1,2,0)"
   ]
  },
  {
   "cell_type": "code",
   "execution_count": 11,
   "id": "01e3c9ea",
   "metadata": {},
   "outputs": [
    {
     "data": {
      "text/plain": [
       "(9296, 140, 14)"
      ]
     },
     "execution_count": 11,
     "metadata": {},
     "output_type": "execute_result"
    }
   ],
   "source": [
    "nd_array_100.shape"
   ]
  },
  {
   "cell_type": "markdown",
   "id": "8e4d5475",
   "metadata": {},
   "source": [
    "#### Implementing Cross-Validation with Deep Learning Model\n",
    "\n",
    "**1. Create the Deep Learning Model**\n",
    "\n",
    "In this instance, we will follow-up with on the approach used in Chen & Cui - CrossEntropyLoss with applied over a softmax layer."
   ]
  },
  {
   "cell_type": "code",
   "execution_count": 12,
   "id": "2a16bd5f",
   "metadata": {},
   "outputs": [],
   "source": [
    "class LSTM_Uni(nn.Module):\n",
    "    def __init__(self, num_classes, input_size, hidden_size, num_layers, seq_length, dropout):\n",
    "        super(LSTM_Uni, self).__init__()\n",
    "        self.num_classes = num_classes #number of classes\n",
    "        self.num_layers = num_layers #number of layers\n",
    "        self.input_size = input_size #input size\n",
    "        self.hidden_size = hidden_size #hidden state\n",
    "        self.seq_length = seq_length #sequence length\n",
    "\n",
    "        self.lstm = nn.LSTM(input_size=input_size, hidden_size=hidden_size,\n",
    "                          num_layers=num_layers, batch_first = True) #lstm\n",
    "        \n",
    "        self.dropout = nn.Dropout(p = dropout)\n",
    "    \n",
    "        self.fc = nn.Linear(self.hidden_size, num_classes) #fully connected last layer\n",
    "\n",
    "    def forward(self,x):\n",
    "        h_0 = Variable(torch.zeros(self.num_layers, x.size(0), self.hidden_size)) #hidden state\n",
    "        c_0 = Variable(torch.zeros(self.num_layers, x.size(0), self.hidden_size)) #internal state\n",
    "        \n",
    "        #Xavier_init for both H_0 and C_0\n",
    "        torch.nn.init.xavier_normal_(h_0)\n",
    "        torch.nn.init.xavier_normal_(c_0)\n",
    "        \n",
    "        # Propagate input through LSTM\n",
    "        lstm_out, (hn, cn) = self.lstm(x, (h_0, c_0)) #lstm with input, hidden, and internal state\n",
    "        last_output = hn.view(-1, self.hidden_size) #reshaping the data for Dense layer next\n",
    "        \n",
    "        #we are interested in only keeping the last output\n",
    "        drop_out = self.dropout(last_output)\n",
    "        pre_bce = self.fc(drop_out) #Final Output - dense\n",
    "        return pre_bce"
   ]
  },
  {
   "cell_type": "markdown",
   "id": "17c356bd",
   "metadata": {},
   "source": [
    "**2. Define the train and validation Functions**"
   ]
  },
  {
   "cell_type": "code",
   "execution_count": 13,
   "id": "25b29a1d",
   "metadata": {},
   "outputs": [],
   "source": [
    "def train_epoch(model,dataloader,loss_fn,optimizer):\n",
    "    \n",
    "    train_loss,train_correct=0.0,0 \n",
    "    model.train()\n",
    "    for X, labels in dataloader:\n",
    "\n",
    "        optimizer.zero_grad()\n",
    "        output = model(X)\n",
    "        loss = loss_fn(output,labels.unsqueeze(1))\n",
    "        loss.backward()\n",
    "        optimizer.step()\n",
    "        train_loss += loss.item() * X.size(0)\n",
    "        scores = F.sigmoid(output)\n",
    "        predictions = torch.round(scores)\n",
    "        #calculate % correct\n",
    "        train_correct += (predictions == labels.unsqueeze(1)).sum().item()\n",
    "        \n",
    "    return train_loss,train_correct\n",
    "  \n",
    "def valid_epoch(model,dataloader,loss_fn):\n",
    "    valid_loss, val_correct = 0.0, 0\n",
    "    targets = []\n",
    "    y_pred = []\n",
    "    probability_1 = []\n",
    "    \n",
    "    model.eval()\n",
    "    for X, labels in dataloader:\n",
    "\n",
    "        output = model(X)\n",
    "        loss=loss_fn(output,labels.unsqueeze(1))\n",
    "        valid_loss+=loss.item()*X.size(0)\n",
    "        scores = F.sigmoid(output)\n",
    "        predictions = torch.round(scores)\n",
    "        val_correct+=(predictions == labels.unsqueeze(1)).sum().item()\n",
    "        targets.append(labels.unsqueeze(1))\n",
    "        y_pred.append(predictions)\n",
    "        probability_1.append(scores)\n",
    "        \n",
    "    #concat all results\n",
    "    targets = torch.cat(targets).data.cpu().numpy()\n",
    "    y_pred = torch.cat(y_pred).data.cpu().numpy()\n",
    "    probability_1 = torch.cat(probability_1).data.cpu().numpy()\n",
    "    \n",
    "    #calculate precision, recall and AUC score\n",
    "    \n",
    "    precision = precision_score(targets, y_pred)\n",
    "    recall = recall_score(targets, y_pred)\n",
    "    f1 = f1_score(targets, y_pred)\n",
    "    auroc = roc_auc_score(targets, probability_1)\n",
    "    \n",
    "    #return all\n",
    "    return valid_loss,val_correct, precision, recall, auroc, f1"
   ]
  },
  {
   "cell_type": "markdown",
   "id": "d4543fb3",
   "metadata": {},
   "source": [
    "**3. Define main hyperparameters of the model, including splits**"
   ]
  },
  {
   "cell_type": "code",
   "execution_count": 14,
   "id": "fcbbef20",
   "metadata": {},
   "outputs": [],
   "source": [
    "#Default params\n",
    "params = {\n",
    "    'learning_rate': [0.001, 0.01, 0.005, 0.0005],\n",
    "    'num_epochs' : [30, 40, 50, 60, 70, 80, 90, 100],\n",
    "    'hidden_size': [32, 64, 128, 256],\n",
    "    'batch_size': [32, 64, 128, 256, 512],\n",
    "    'num_layers': [1, 2, 3],\n",
    "    'dropout': [0.2, 0.5, 0.7]\n",
    "    }\n",
    "\n",
    "#initial configuation - the default\n",
    "num_epochs = 100 #100 epochs\n",
    "learning_rate = 0.001 #0.001 lr\n",
    "input_size = 14 #number of features\n",
    "hidden_size = 128 #number of features in hidden state\n",
    "num_layers = 1 #number of stacked lstm layers\n",
    "batch_size = 128\n",
    "dropout = 0.5\n",
    "\n",
    "\n",
    "#Shape of Output as required for Sigmoid Classifier\n",
    "num_classes = 1 #output shape\n",
    "\n",
    "k=10\n",
    "splits= StratifiedKFold(n_splits=k, random_state=15, shuffle = True) #kfold of 10 with 30 replicas\n",
    "criterion = nn.BCEWithLogitsLoss()    # cross-entropy for classification"
   ]
  },
  {
   "cell_type": "markdown",
   "id": "89de5180",
   "metadata": {},
   "source": [
    "### Test on data - starting with the first 25 days"
   ]
  },
  {
   "cell_type": "code",
   "execution_count": null,
   "id": "2f0588de",
   "metadata": {
    "scrolled": true
   },
   "outputs": [
    {
     "data": {
      "application/vnd.jupyter.widget-view+json": {
       "model_id": "09955d5435054d79ba7f5e9c3e998db9",
       "version_major": 2,
       "version_minor": 0
      },
      "text/plain": [
       "  0%|          | 0/2 [00:00<?, ?it/s]"
      ]
     },
     "metadata": {},
     "output_type": "display_data"
    },
    {
     "name": "stdout",
     "output_type": "stream",
     "text": [
      "exam_fail\n",
      "Replica 1\n"
     ]
    },
    {
     "data": {
      "application/vnd.jupyter.widget-view+json": {
       "model_id": "56f1bf5357824e57998aad91581150a3",
       "version_major": 2,
       "version_minor": 0
      },
      "text/plain": [
       "0it [00:00, ?it/s]"
      ]
     },
     "metadata": {},
     "output_type": "display_data"
    },
    {
     "name": "stdout",
     "output_type": "stream",
     "text": [
      "Split 1\n"
     ]
    },
    {
     "data": {
      "application/vnd.jupyter.widget-view+json": {
       "model_id": "0f001a71d5014e6ba6ae479e0068091b",
       "version_major": 2,
       "version_minor": 0
      },
      "text/plain": [
       "  0%|          | 0/100 [00:00<?, ?it/s]"
      ]
     },
     "metadata": {},
     "output_type": "display_data"
    },
    {
     "name": "stdout",
     "output_type": "stream",
     "text": [
      "New Best F1_score found: 33.56%\n",
      "Epoch: 1\n",
      " Accuracy: 20.16\n",
      "AUC: 39.95\n",
      "New Best F1_score found: 34.08%\n",
      "Epoch: 2\n",
      " Accuracy: 28.76\n",
      "AUC: 59.09\n",
      "New Best F1_score found: 34.76%\n",
      "Epoch: 7\n",
      " Accuracy: 40.46\n",
      "AUC: 60.87\n",
      "New Best F1_score found: 35.68%\n",
      "Epoch: 8\n",
      " Accuracy: 44.76\n",
      "AUC: 61.08\n",
      "New Best F1_score found: 35.94%\n",
      "Epoch: 9\n",
      " Accuracy: 44.89\n",
      "AUC: 60.83\n",
      "Epoch:10/100 AVG Training Loss:0.586 AVG Validation Loss:3.074 AVG Training Acc 68.33 % AVG Validation Acc 22.98 %\n",
      "New Best F1_score found: 37.11%\n",
      "Epoch: 15\n",
      " Accuracy: 59.01\n",
      "AUC: 60.40\n",
      "Epoch:20/100 AVG Training Loss:0.526 AVG Validation Loss:0.715 AVG Training Acc 77.71 % AVG Validation Acc 58.60 %\n",
      "New Best F1_score found: 37.33%\n",
      "Epoch: 22\n",
      " Accuracy: 55.78\n",
      "AUC: 61.88\n",
      "New Best F1_score found: 37.36%\n",
      "Epoch: 24\n",
      " Accuracy: 55.38\n",
      "AUC: 61.21\n",
      "Epoch:30/100 AVG Training Loss:0.389 AVG Validation Loss:0.689 AVG Training Acc 82.71 % AVG Validation Acc 72.58 %\n",
      "Epoch    30: reducing learning rate of group 0 to 3.3000e-04.\n",
      "Epoch:40/100 AVG Training Loss:0.331 AVG Validation Loss:0.520 AVG Training Acc 85.12 % AVG Validation Acc 78.09 %\n",
      "Epoch:50/100 AVG Training Loss:0.308 AVG Validation Loss:0.530 AVG Training Acc 85.86 % AVG Validation Acc 77.42 %\n",
      "Epoch:60/100 AVG Training Loss:0.285 AVG Validation Loss:0.543 AVG Training Acc 86.71 % AVG Validation Acc 76.88 %\n",
      "Epoch    66: reducing learning rate of group 0 to 1.0890e-04.\n",
      "Epoch:70/100 AVG Training Loss:0.260 AVG Validation Loss:0.542 AVG Training Acc 87.52 % AVG Validation Acc 77.42 %\n",
      "Epoch:80/100 AVG Training Loss:0.246 AVG Validation Loss:0.580 AVG Training Acc 88.43 % AVG Validation Acc 75.81 %\n",
      "Epoch:90/100 AVG Training Loss:0.237 AVG Validation Loss:0.603 AVG Training Acc 88.71 % AVG Validation Acc 75.94 %\n",
      "Epoch:100/100 AVG Training Loss:0.226 AVG Validation Loss:0.630 AVG Training Acc 89.14 % AVG Validation Acc 75.54 %\n",
      "Split 2\n"
     ]
    },
    {
     "data": {
      "application/vnd.jupyter.widget-view+json": {
       "model_id": "034908eb435f42139bda95130906db28",
       "version_major": 2,
       "version_minor": 0
      },
      "text/plain": [
       "  0%|          | 0/100 [00:00<?, ?it/s]"
      ]
     },
     "metadata": {},
     "output_type": "display_data"
    },
    {
     "name": "stdout",
     "output_type": "stream",
     "text": [
      "Epoch:10/100 AVG Training Loss:0.756 AVG Validation Loss:0.698 AVG Training Acc 46.74 % AVG Validation Acc 38.71 %\n",
      "Epoch:20/100 AVG Training Loss:0.508 AVG Validation Loss:1.093 AVG Training Acc 78.27 % AVG Validation Acc 46.64 %\n",
      "New Best F1_score found: 37.47%\n",
      "Epoch: 21\n",
      " Accuracy: 65.46\n",
      "AUC: 61.83\n",
      "Epoch:30/100 AVG Training Loss:0.367 AVG Validation Loss:0.847 AVG Training Acc 84.24 % AVG Validation Acc 71.37 %\n",
      "Epoch:40/100 AVG Training Loss:0.328 AVG Validation Loss:0.563 AVG Training Acc 85.52 % AVG Validation Acc 75.67 %\n",
      "Epoch    49: reducing learning rate of group 0 to 3.3000e-04.\n",
      "Epoch:50/100 AVG Training Loss:0.292 AVG Validation Loss:0.530 AVG Training Acc 86.49 % AVG Validation Acc 76.21 %\n",
      "Epoch:60/100 AVG Training Loss:0.244 AVG Validation Loss:0.568 AVG Training Acc 88.57 % AVG Validation Acc 75.67 %\n",
      "Epoch:70/100 AVG Training Loss:0.212 AVG Validation Loss:0.662 AVG Training Acc 90.26 % AVG Validation Acc 75.13 %\n",
      "New Best F1_score found: 37.70%\n",
      "Epoch: 75\n",
      " Accuracy: 73.79\n",
      "AUC: 66.00\n",
      "Epoch:80/100 AVG Training Loss:0.193 AVG Validation Loss:0.649 AVG Training Acc 91.13 % AVG Validation Acc 73.12 %\n",
      "Epoch    85: reducing learning rate of group 0 to 1.0890e-04.\n",
      "Epoch:90/100 AVG Training Loss:0.166 AVG Validation Loss:0.864 AVG Training Acc 92.16 % AVG Validation Acc 73.52 %\n",
      "Epoch:100/100 AVG Training Loss:0.154 AVG Validation Loss:0.890 AVG Training Acc 92.85 % AVG Validation Acc 73.79 %\n",
      "Split 3\n"
     ]
    },
    {
     "data": {
      "application/vnd.jupyter.widget-view+json": {
       "model_id": "5b074455e7554fcf87213fb29b6f20a6",
       "version_major": 2,
       "version_minor": 0
      },
      "text/plain": [
       "  0%|          | 0/100 [00:00<?, ?it/s]"
      ]
     },
     "metadata": {},
     "output_type": "display_data"
    },
    {
     "name": "stdout",
     "output_type": "stream",
     "text": [
      "Epoch:10/100 AVG Training Loss:0.670 AVG Validation Loss:0.678 AVG Training Acc 57.83 % AVG Validation Acc 43.41 %\n",
      "Epoch:20/100 AVG Training Loss:0.469 AVG Validation Loss:0.759 AVG Training Acc 79.67 % AVG Validation Acc 63.98 %\n",
      "Epoch:30/100 AVG Training Loss:0.359 AVG Validation Loss:0.699 AVG Training Acc 83.99 % AVG Validation Acc 73.52 %\n",
      "Epoch    32: reducing learning rate of group 0 to 3.3000e-04.\n",
      "Epoch:40/100 AVG Training Loss:0.327 AVG Validation Loss:0.516 AVG Training Acc 85.29 % AVG Validation Acc 77.42 %\n",
      "Epoch:50/100 AVG Training Loss:0.309 AVG Validation Loss:0.509 AVG Training Acc 85.96 % AVG Validation Acc 78.49 %\n",
      "Epoch:60/100 AVG Training Loss:0.293 AVG Validation Loss:0.511 AVG Training Acc 86.41 % AVG Validation Acc 77.55 %\n",
      "Epoch:70/100 AVG Training Loss:0.270 AVG Validation Loss:0.553 AVG Training Acc 86.99 % AVG Validation Acc 75.81 %\n",
      "Epoch    71: reducing learning rate of group 0 to 1.0890e-04.\n",
      "Epoch:80/100 AVG Training Loss:0.253 AVG Validation Loss:0.556 AVG Training Acc 87.81 % AVG Validation Acc 76.08 %\n",
      "Epoch:90/100 AVG Training Loss:0.244 AVG Validation Loss:0.575 AVG Training Acc 88.31 % AVG Validation Acc 75.27 %\n",
      "Epoch:100/100 AVG Training Loss:0.234 AVG Validation Loss:0.590 AVG Training Acc 88.63 % AVG Validation Acc 75.40 %\n",
      "Split 4\n"
     ]
    },
    {
     "data": {
      "application/vnd.jupyter.widget-view+json": {
       "model_id": "c7359071088e40ffb84ba1357444b7eb",
       "version_major": 2,
       "version_minor": 0
      },
      "text/plain": [
       "  0%|          | 0/100 [00:00<?, ?it/s]"
      ]
     },
     "metadata": {},
     "output_type": "display_data"
    },
    {
     "name": "stdout",
     "output_type": "stream",
     "text": [
      "Epoch:10/100 AVG Training Loss:0.647 AVG Validation Loss:0.700 AVG Training Acc 64.13 % AVG Validation Acc 40.46 %\n",
      "Epoch:20/100 AVG Training Loss:0.504 AVG Validation Loss:0.953 AVG Training Acc 75.54 % AVG Validation Acc 52.42 %\n",
      "Epoch    25: reducing learning rate of group 0 to 3.3000e-04.\n",
      "Epoch:30/100 AVG Training Loss:0.469 AVG Validation Loss:0.648 AVG Training Acc 79.96 % AVG Validation Acc 69.49 %\n",
      "Epoch:40/100 AVG Training Loss:0.393 AVG Validation Loss:0.631 AVG Training Acc 82.77 % AVG Validation Acc 71.24 %\n",
      "Epoch:50/100 AVG Training Loss:0.355 AVG Validation Loss:0.596 AVG Training Acc 83.98 % AVG Validation Acc 74.19 %\n",
      "Epoch:60/100 AVG Training Loss:0.335 AVG Validation Loss:0.582 AVG Training Acc 85.17 % AVG Validation Acc 75.27 %\n",
      "Epoch:70/100 AVG Training Loss:0.321 AVG Validation Loss:0.567 AVG Training Acc 85.82 % AVG Validation Acc 75.54 %\n",
      "Epoch:80/100 AVG Training Loss:0.308 AVG Validation Loss:0.568 AVG Training Acc 86.57 % AVG Validation Acc 76.08 %\n",
      "Epoch    89: reducing learning rate of group 0 to 1.0890e-04.\n",
      "Epoch:90/100 AVG Training Loss:0.296 AVG Validation Loss:0.528 AVG Training Acc 86.74 % AVG Validation Acc 78.63 %\n",
      "Epoch:100/100 AVG Training Loss:0.280 AVG Validation Loss:0.553 AVG Training Acc 87.52 % AVG Validation Acc 78.63 %\n",
      "Split 5\n"
     ]
    },
    {
     "data": {
      "application/vnd.jupyter.widget-view+json": {
       "model_id": "5273e99a5d484ef8a2c22e6ce8692430",
       "version_major": 2,
       "version_minor": 0
      },
      "text/plain": [
       "  0%|          | 0/100 [00:00<?, ?it/s]"
      ]
     },
     "metadata": {},
     "output_type": "display_data"
    },
    {
     "name": "stdout",
     "output_type": "stream",
     "text": [
      "Epoch:10/100 AVG Training Loss:0.683 AVG Validation Loss:0.706 AVG Training Acc 55.84 % AVG Validation Acc 35.22 %\n",
      "Epoch:20/100 AVG Training Loss:0.553 AVG Validation Loss:0.821 AVG Training Acc 78.49 % AVG Validation Acc 51.48 %\n",
      "Epoch:30/100 AVG Training Loss:0.376 AVG Validation Loss:0.629 AVG Training Acc 83.56 % AVG Validation Acc 74.60 %\n",
      "Epoch:40/100 AVG Training Loss:0.331 AVG Validation Loss:1.113 AVG Training Acc 85.60 % AVG Validation Acc 68.55 %\n",
      "Epoch:50/100 AVG Training Loss:0.301 AVG Validation Loss:0.584 AVG Training Acc 86.23 % AVG Validation Acc 74.33 %\n",
      "Epoch:60/100 AVG Training Loss:0.267 AVG Validation Loss:0.604 AVG Training Acc 87.11 % AVG Validation Acc 71.10 %\n",
      "Epoch    60: reducing learning rate of group 0 to 3.3000e-04.\n",
      "Epoch:70/100 AVG Training Loss:0.220 AVG Validation Loss:0.637 AVG Training Acc 89.06 % AVG Validation Acc 73.12 %\n",
      "Epoch:80/100 AVG Training Loss:0.186 AVG Validation Loss:0.755 AVG Training Acc 91.14 % AVG Validation Acc 71.77 %\n",
      "Epoch:90/100 AVG Training Loss:0.162 AVG Validation Loss:0.959 AVG Training Acc 92.19 % AVG Validation Acc 70.70 %\n",
      "Epoch    96: reducing learning rate of group 0 to 1.0890e-04.\n",
      "Epoch:100/100 AVG Training Loss:0.138 AVG Validation Loss:1.100 AVG Training Acc 93.33 % AVG Validation Acc 70.56 %\n",
      "Split 6\n"
     ]
    },
    {
     "data": {
      "application/vnd.jupyter.widget-view+json": {
       "model_id": "1d62fa76fa6447a782e4b0ecaf77a6e0",
       "version_major": 2,
       "version_minor": 0
      },
      "text/plain": [
       "  0%|          | 0/100 [00:00<?, ?it/s]"
      ]
     },
     "metadata": {},
     "output_type": "display_data"
    },
    {
     "name": "stdout",
     "output_type": "stream",
     "text": [
      "Epoch:10/100 AVG Training Loss:0.489 AVG Validation Loss:4.174 AVG Training Acc 65.84 % AVG Validation Acc 20.16 %\n",
      "Epoch:20/100 AVG Training Loss:0.547 AVG Validation Loss:0.623 AVG Training Acc 77.44 % AVG Validation Acc 65.73 %\n",
      "Epoch:30/100 AVG Training Loss:0.384 AVG Validation Loss:0.639 AVG Training Acc 83.80 % AVG Validation Acc 71.24 %\n",
      "Epoch    36: reducing learning rate of group 0 to 3.3000e-04.\n",
      "Epoch:40/100 AVG Training Loss:0.327 AVG Validation Loss:0.528 AVG Training Acc 85.58 % AVG Validation Acc 76.88 %\n",
      "Epoch:50/100 AVG Training Loss:0.308 AVG Validation Loss:0.537 AVG Training Acc 86.26 % AVG Validation Acc 76.88 %\n",
      "Epoch:60/100 AVG Training Loss:0.285 AVG Validation Loss:0.559 AVG Training Acc 86.96 % AVG Validation Acc 76.34 %\n",
      "Epoch:70/100 AVG Training Loss:0.260 AVG Validation Loss:0.607 AVG Training Acc 87.73 % AVG Validation Acc 73.52 %\n",
      "Epoch    72: reducing learning rate of group 0 to 1.0890e-04.\n",
      "Epoch:80/100 AVG Training Loss:0.244 AVG Validation Loss:0.595 AVG Training Acc 88.41 % AVG Validation Acc 76.48 %\n",
      "Epoch:90/100 AVG Training Loss:0.233 AVG Validation Loss:0.622 AVG Training Acc 88.95 % AVG Validation Acc 76.08 %\n",
      "Epoch:100/100 AVG Training Loss:0.225 AVG Validation Loss:0.640 AVG Training Acc 89.35 % AVG Validation Acc 76.08 %\n",
      "Split 7\n"
     ]
    },
    {
     "data": {
      "application/vnd.jupyter.widget-view+json": {
       "model_id": "45f2007d0cfc420b85de9e57735771de",
       "version_major": 2,
       "version_minor": 0
      },
      "text/plain": [
       "  0%|          | 0/100 [00:00<?, ?it/s]"
      ]
     },
     "metadata": {},
     "output_type": "display_data"
    },
    {
     "name": "stdout",
     "output_type": "stream",
     "text": [
      "Epoch:10/100 AVG Training Loss:0.654 AVG Validation Loss:0.665 AVG Training Acc 60.42 % AVG Validation Acc 51.95 %\n",
      "Epoch:20/100 AVG Training Loss:0.493 AVG Validation Loss:1.326 AVG Training Acc 78.64 % AVG Validation Acc 42.66 %\n",
      "Epoch:30/100 AVG Training Loss:0.383 AVG Validation Loss:0.607 AVG Training Acc 83.24 % AVG Validation Acc 73.76 %\n",
      "Epoch    31: reducing learning rate of group 0 to 3.3000e-04.\n",
      "Epoch:40/100 AVG Training Loss:0.333 AVG Validation Loss:0.541 AVG Training Acc 85.24 % AVG Validation Acc 76.58 %\n",
      "Epoch:50/100 AVG Training Loss:0.309 AVG Validation Loss:0.553 AVG Training Acc 86.08 % AVG Validation Acc 75.77 %\n",
      "Epoch:60/100 AVG Training Loss:0.282 AVG Validation Loss:0.573 AVG Training Acc 86.74 % AVG Validation Acc 76.04 %\n",
      "Epoch    67: reducing learning rate of group 0 to 1.0890e-04.\n",
      "Epoch:70/100 AVG Training Loss:0.257 AVG Validation Loss:0.566 AVG Training Acc 87.73 % AVG Validation Acc 75.77 %\n",
      "Epoch:80/100 AVG Training Loss:0.244 AVG Validation Loss:0.597 AVG Training Acc 88.19 % AVG Validation Acc 74.29 %\n",
      "Epoch:90/100 AVG Training Loss:0.232 AVG Validation Loss:0.637 AVG Training Acc 88.82 % AVG Validation Acc 73.89 %\n",
      "Epoch:100/100 AVG Training Loss:0.223 AVG Validation Loss:0.707 AVG Training Acc 89.35 % AVG Validation Acc 73.22 %\n",
      "Split 8\n"
     ]
    },
    {
     "data": {
      "application/vnd.jupyter.widget-view+json": {
       "model_id": "4499660eab074acdb261fc8cbe6c0668",
       "version_major": 2,
       "version_minor": 0
      },
      "text/plain": [
       "  0%|          | 0/100 [00:00<?, ?it/s]"
      ]
     },
     "metadata": {},
     "output_type": "display_data"
    },
    {
     "name": "stdout",
     "output_type": "stream",
     "text": [
      "Epoch:10/100 AVG Training Loss:0.609 AVG Validation Loss:2.629 AVG Training Acc 64.70 % AVG Validation Acc 20.05 %\n",
      "New Best F1_score found: 38.17%\n",
      "Epoch: 17\n",
      " Accuracy: 54.64\n",
      "AUC: 64.60\n",
      "New Best F1_score found: 38.93%\n",
      "Epoch: 18\n",
      " Accuracy: 59.89\n",
      "AUC: 64.68\n",
      "New Best F1_score found: 40.23%\n",
      "Epoch: 19\n",
      " Accuracy: 58.82\n",
      "AUC: 65.52\n",
      "Epoch:20/100 AVG Training Loss:0.580 AVG Validation Loss:0.636 AVG Training Acc 73.63 % AVG Validation Acc 61.24 %\n",
      "New Best F1_score found: 40.50%\n",
      "Epoch: 20\n",
      " Accuracy: 61.24\n",
      "AUC: 65.62\n",
      "Epoch:30/100 AVG Training Loss:0.390 AVG Validation Loss:0.791 AVG Training Acc 83.03 % AVG Validation Acc 71.47 %\n",
      "Epoch:40/100 AVG Training Loss:0.340 AVG Validation Loss:0.570 AVG Training Acc 85.35 % AVG Validation Acc 75.10 %\n",
      "Epoch:50/100 AVG Training Loss:0.312 AVG Validation Loss:0.610 AVG Training Acc 86.59 % AVG Validation Acc 73.89 %\n",
      "Epoch:60/100 AVG Training Loss:0.270 AVG Validation Loss:0.621 AVG Training Acc 87.35 % AVG Validation Acc 73.08 %\n",
      "Epoch    61: reducing learning rate of group 0 to 3.3000e-04.\n",
      "Epoch:70/100 AVG Training Loss:0.229 AVG Validation Loss:0.593 AVG Training Acc 89.37 % AVG Validation Acc 74.02 %\n",
      "Epoch:80/100 AVG Training Loss:0.197 AVG Validation Loss:0.704 AVG Training Acc 90.63 % AVG Validation Acc 71.20 %\n",
      "Epoch:90/100 AVG Training Loss:0.171 AVG Validation Loss:0.803 AVG Training Acc 91.70 % AVG Validation Acc 72.14 %\n",
      "Epoch    97: reducing learning rate of group 0 to 1.0890e-04.\n",
      "Epoch:100/100 AVG Training Loss:0.158 AVG Validation Loss:0.894 AVG Training Acc 92.47 % AVG Validation Acc 72.95 %\n",
      "Split 9\n"
     ]
    },
    {
     "data": {
      "application/vnd.jupyter.widget-view+json": {
       "model_id": "3d767e955bab4f1bb1dd16578ca3cc1a",
       "version_major": 2,
       "version_minor": 0
      },
      "text/plain": [
       "  0%|          | 0/100 [00:00<?, ?it/s]"
      ]
     },
     "metadata": {},
     "output_type": "display_data"
    },
    {
     "name": "stdout",
     "output_type": "stream",
     "text": [
      "Epoch:10/100 AVG Training Loss:0.847 AVG Validation Loss:1.750 AVG Training Acc 62.39 % AVG Validation Acc 20.05 %\n",
      "Epoch:20/100 AVG Training Loss:0.549 AVG Validation Loss:0.682 AVG Training Acc 75.70 % AVG Validation Acc 60.83 %\n",
      "Epoch:30/100 AVG Training Loss:0.385 AVG Validation Loss:0.666 AVG Training Acc 83.70 % AVG Validation Acc 70.26 %\n",
      "Epoch:40/100 AVG Training Loss:0.338 AVG Validation Loss:0.521 AVG Training Acc 85.05 % AVG Validation Acc 78.60 %\n",
      "Epoch:50/100 AVG Training Loss:0.297 AVG Validation Loss:0.529 AVG Training Acc 86.51 % AVG Validation Acc 77.66 %\n",
      "Epoch    59: reducing learning rate of group 0 to 3.3000e-04.\n",
      "Epoch:60/100 AVG Training Loss:0.265 AVG Validation Loss:0.545 AVG Training Acc 87.83 % AVG Validation Acc 77.93 %\n",
      "Epoch:70/100 AVG Training Loss:0.204 AVG Validation Loss:0.597 AVG Training Acc 90.45 % AVG Validation Acc 77.39 %\n",
      "Epoch:80/100 AVG Training Loss:0.170 AVG Validation Loss:0.680 AVG Training Acc 92.25 % AVG Validation Acc 75.91 %\n",
      "Epoch:90/100 AVG Training Loss:0.148 AVG Validation Loss:0.774 AVG Training Acc 93.31 % AVG Validation Acc 74.02 %\n",
      "Epoch    95: reducing learning rate of group 0 to 1.0890e-04.\n",
      "Epoch:100/100 AVG Training Loss:0.133 AVG Validation Loss:0.994 AVG Training Acc 94.03 % AVG Validation Acc 74.02 %\n",
      "Split 10\n"
     ]
    },
    {
     "data": {
      "application/vnd.jupyter.widget-view+json": {
       "model_id": "9b1f4296f1e64e619436b17200d290af",
       "version_major": 2,
       "version_minor": 0
      },
      "text/plain": [
       "  0%|          | 0/100 [00:00<?, ?it/s]"
      ]
     },
     "metadata": {},
     "output_type": "display_data"
    },
    {
     "name": "stdout",
     "output_type": "stream",
     "text": [
      "Epoch:10/100 AVG Training Loss:0.662 AVG Validation Loss:0.676 AVG Training Acc 59.43 % AVG Validation Acc 44.55 %\n",
      "Epoch:20/100 AVG Training Loss:0.529 AVG Validation Loss:0.685 AVG Training Acc 77.59 % AVG Validation Acc 60.16 %\n",
      "Epoch:30/100 AVG Training Loss:0.417 AVG Validation Loss:0.698 AVG Training Acc 81.95 % AVG Validation Acc 69.45 %\n",
      "Epoch:40/100 AVG Training Loss:0.340 AVG Validation Loss:0.564 AVG Training Acc 85.08 % AVG Validation Acc 76.58 %\n",
      "Epoch:50/100 AVG Training Loss:0.306 AVG Validation Loss:0.569 AVG Training Acc 86.01 % AVG Validation Acc 75.77 %\n",
      "Epoch:60/100 AVG Training Loss:0.271 AVG Validation Loss:0.604 AVG Training Acc 87.05 % AVG Validation Acc 72.27 %\n",
      "Epoch    62: reducing learning rate of group 0 to 3.3000e-04.\n",
      "Epoch:70/100 AVG Training Loss:0.233 AVG Validation Loss:0.700 AVG Training Acc 89.09 % AVG Validation Acc 73.49 %\n",
      "Epoch:80/100 AVG Training Loss:0.208 AVG Validation Loss:0.807 AVG Training Acc 89.99 % AVG Validation Acc 72.68 %\n",
      "Epoch:90/100 AVG Training Loss:0.199 AVG Validation Loss:0.856 AVG Training Acc 90.55 % AVG Validation Acc 72.14 %\n",
      "Epoch    98: reducing learning rate of group 0 to 1.0890e-04.\n",
      "Epoch:100/100 AVG Training Loss:0.176 AVG Validation Loss:0.970 AVG Training Acc 91.26 % AVG Validation Acc 73.08 %\n",
      "Replica 2\n"
     ]
    },
    {
     "data": {
      "application/vnd.jupyter.widget-view+json": {
       "model_id": "a2c1e2ae4c60499e9b17c676b12802b0",
       "version_major": 2,
       "version_minor": 0
      },
      "text/plain": [
       "0it [00:00, ?it/s]"
      ]
     },
     "metadata": {},
     "output_type": "display_data"
    },
    {
     "name": "stdout",
     "output_type": "stream",
     "text": [
      "Split 1\n"
     ]
    },
    {
     "data": {
      "application/vnd.jupyter.widget-view+json": {
       "model_id": "0528bc159e054042a232f1c0a8e5b78b",
       "version_major": 2,
       "version_minor": 0
      },
      "text/plain": [
       "  0%|          | 0/100 [00:00<?, ?it/s]"
      ]
     },
     "metadata": {},
     "output_type": "display_data"
    },
    {
     "name": "stdout",
     "output_type": "stream",
     "text": [
      "Epoch:10/100 AVG Training Loss:0.646 AVG Validation Loss:0.704 AVG Training Acc 66.07 % AVG Validation Acc 42.34 %\n",
      "Epoch:20/100 AVG Training Loss:0.770 AVG Validation Loss:0.854 AVG Training Acc 61.74 % AVG Validation Acc 31.32 %\n",
      "Epoch:30/100 AVG Training Loss:0.518 AVG Validation Loss:0.777 AVG Training Acc 77.36 % AVG Validation Acc 63.17 %\n",
      "Epoch:40/100 AVG Training Loss:0.411 AVG Validation Loss:0.637 AVG Training Acc 82.52 % AVG Validation Acc 73.92 %\n",
      "Epoch:50/100 AVG Training Loss:0.349 AVG Validation Loss:0.559 AVG Training Acc 84.54 % AVG Validation Acc 77.96 %\n",
      "Epoch:60/100 AVG Training Loss:0.327 AVG Validation Loss:0.543 AVG Training Acc 85.42 % AVG Validation Acc 77.69 %\n",
      "Epoch:70/100 AVG Training Loss:0.305 AVG Validation Loss:0.538 AVG Training Acc 86.15 % AVG Validation Acc 78.23 %\n",
      "Epoch:80/100 AVG Training Loss:0.284 AVG Validation Loss:0.564 AVG Training Acc 86.50 % AVG Validation Acc 76.34 %\n",
      "Epoch:90/100 AVG Training Loss:0.256 AVG Validation Loss:0.811 AVG Training Acc 87.72 % AVG Validation Acc 76.88 %\n",
      "Epoch    95: reducing learning rate of group 0 to 3.3000e-04.\n",
      "Epoch:100/100 AVG Training Loss:0.231 AVG Validation Loss:0.565 AVG Training Acc 88.52 % AVG Validation Acc 76.88 %\n",
      "Split 2\n"
     ]
    },
    {
     "data": {
      "application/vnd.jupyter.widget-view+json": {
       "model_id": "abebd392464a41beb150d82d96a67e70",
       "version_major": 2,
       "version_minor": 0
      },
      "text/plain": [
       "  0%|          | 0/100 [00:00<?, ?it/s]"
      ]
     },
     "metadata": {},
     "output_type": "display_data"
    },
    {
     "name": "stdout",
     "output_type": "stream",
     "text": [
      "Epoch:10/100 AVG Training Loss:0.484 AVG Validation Loss:4.500 AVG Training Acc 64.72 % AVG Validation Acc 20.16 %\n",
      "Epoch:20/100 AVG Training Loss:0.637 AVG Validation Loss:0.645 AVG Training Acc 66.70 % AVG Validation Acc 54.30 %\n",
      "Epoch:30/100 AVG Training Loss:0.474 AVG Validation Loss:0.850 AVG Training Acc 79.97 % AVG Validation Acc 63.84 %\n",
      "Epoch:40/100 AVG Training Loss:0.344 AVG Validation Loss:0.560 AVG Training Acc 84.91 % AVG Validation Acc 75.94 %\n",
      "Epoch:50/100 AVG Training Loss:0.315 AVG Validation Loss:0.561 AVG Training Acc 86.02 % AVG Validation Acc 76.08 %\n",
      "Epoch:60/100 AVG Training Loss:0.278 AVG Validation Loss:0.578 AVG Training Acc 87.14 % AVG Validation Acc 76.21 %\n",
      "Epoch    67: reducing learning rate of group 0 to 3.3000e-04.\n",
      "Epoch:70/100 AVG Training Loss:0.234 AVG Validation Loss:0.596 AVG Training Acc 88.98 % AVG Validation Acc 77.96 %\n",
      "Epoch:80/100 AVG Training Loss:0.198 AVG Validation Loss:0.709 AVG Training Acc 90.65 % AVG Validation Acc 76.08 %\n",
      "Epoch:90/100 AVG Training Loss:0.161 AVG Validation Loss:0.796 AVG Training Acc 92.40 % AVG Validation Acc 76.34 %\n",
      "Epoch:100/100 AVG Training Loss:0.138 AVG Validation Loss:0.893 AVG Training Acc 93.55 % AVG Validation Acc 73.66 %\n",
      "Split 3\n"
     ]
    },
    {
     "data": {
      "application/vnd.jupyter.widget-view+json": {
       "model_id": "3fc28fa6a4ba47e88ed43bc4a239754e",
       "version_major": 2,
       "version_minor": 0
      },
      "text/plain": [
       "  0%|          | 0/100 [00:00<?, ?it/s]"
      ]
     },
     "metadata": {},
     "output_type": "display_data"
    },
    {
     "name": "stdout",
     "output_type": "stream",
     "text": [
      "Epoch:10/100 AVG Training Loss:0.826 AVG Validation Loss:0.871 AVG Training Acc 40.36 % AVG Validation Acc 20.16 %\n",
      "Epoch:20/100 AVG Training Loss:0.625 AVG Validation Loss:0.666 AVG Training Acc 68.02 % AVG Validation Acc 54.97 %\n",
      "Epoch:30/100 AVG Training Loss:0.443 AVG Validation Loss:0.678 AVG Training Acc 80.42 % AVG Validation Acc 71.64 %\n",
      "Epoch:40/100 AVG Training Loss:0.363 AVG Validation Loss:0.585 AVG Training Acc 84.16 % AVG Validation Acc 75.00 %\n",
      "Epoch:50/100 AVG Training Loss:0.334 AVG Validation Loss:0.572 AVG Training Acc 85.24 % AVG Validation Acc 75.27 %\n",
      "Epoch:60/100 AVG Training Loss:0.310 AVG Validation Loss:0.582 AVG Training Acc 85.93 % AVG Validation Acc 76.34 %\n",
      "Epoch    65: reducing learning rate of group 0 to 3.3000e-04.\n",
      "Epoch:70/100 AVG Training Loss:0.272 AVG Validation Loss:0.564 AVG Training Acc 86.87 % AVG Validation Acc 77.82 %\n",
      "Epoch:80/100 AVG Training Loss:0.249 AVG Validation Loss:0.602 AVG Training Acc 87.80 % AVG Validation Acc 77.02 %\n",
      "Epoch:90/100 AVG Training Loss:0.228 AVG Validation Loss:0.676 AVG Training Acc 88.89 % AVG Validation Acc 76.48 %\n",
      "Epoch:100/100 AVG Training Loss:0.204 AVG Validation Loss:0.721 AVG Training Acc 90.00 % AVG Validation Acc 75.13 %\n",
      "Split 4\n"
     ]
    },
    {
     "data": {
      "application/vnd.jupyter.widget-view+json": {
       "model_id": "889763aa3a3247818036ff0f68a52462",
       "version_major": 2,
       "version_minor": 0
      },
      "text/plain": [
       "  0%|          | 0/100 [00:00<?, ?it/s]"
      ]
     },
     "metadata": {},
     "output_type": "display_data"
    },
    {
     "name": "stdout",
     "output_type": "stream",
     "text": [
      "Epoch:10/100 AVG Training Loss:0.881 AVG Validation Loss:0.882 AVG Training Acc 46.90 % AVG Validation Acc 20.16 %\n",
      "Epoch:20/100 AVG Training Loss:0.551 AVG Validation Loss:0.706 AVG Training Acc 76.74 % AVG Validation Acc 58.33 %\n",
      "Epoch:30/100 AVG Training Loss:0.390 AVG Validation Loss:1.060 AVG Training Acc 83.35 % AVG Validation Acc 63.71 %\n",
      "Epoch:40/100 AVG Training Loss:0.336 AVG Validation Loss:0.580 AVG Training Acc 85.12 % AVG Validation Acc 75.81 %\n",
      "Epoch:50/100 AVG Training Loss:0.297 AVG Validation Loss:0.572 AVG Training Acc 86.46 % AVG Validation Acc 75.40 %\n",
      "Epoch:60/100 AVG Training Loss:0.267 AVG Validation Loss:0.572 AVG Training Acc 87.29 % AVG Validation Acc 75.13 %\n",
      "Epoch    63: reducing learning rate of group 0 to 3.3000e-04.\n",
      "Epoch:70/100 AVG Training Loss:0.227 AVG Validation Loss:0.656 AVG Training Acc 89.01 % AVG Validation Acc 75.13 %\n",
      "Epoch:80/100 AVG Training Loss:0.193 AVG Validation Loss:0.755 AVG Training Acc 90.88 % AVG Validation Acc 75.27 %\n",
      "Epoch:90/100 AVG Training Loss:0.176 AVG Validation Loss:0.883 AVG Training Acc 91.26 % AVG Validation Acc 74.33 %\n",
      "Epoch    99: reducing learning rate of group 0 to 1.0890e-04.\n",
      "Epoch:100/100 AVG Training Loss:0.160 AVG Validation Loss:0.908 AVG Training Acc 92.46 % AVG Validation Acc 74.06 %\n",
      "Split 5\n"
     ]
    },
    {
     "data": {
      "application/vnd.jupyter.widget-view+json": {
       "model_id": "1e5565963a7846a79035d9515bc99536",
       "version_major": 2,
       "version_minor": 0
      },
      "text/plain": [
       "  0%|          | 0/100 [00:00<?, ?it/s]"
      ]
     },
     "metadata": {},
     "output_type": "display_data"
    },
    {
     "name": "stdout",
     "output_type": "stream",
     "text": [
      "Epoch:10/100 AVG Training Loss:0.501 AVG Validation Loss:4.320 AVG Training Acc 62.67 % AVG Validation Acc 20.16 %\n",
      "Epoch:20/100 AVG Training Loss:0.614 AVG Validation Loss:0.655 AVG Training Acc 70.17 % AVG Validation Acc 54.84 %\n",
      "Epoch:30/100 AVG Training Loss:0.449 AVG Validation Loss:0.955 AVG Training Acc 79.82 % AVG Validation Acc 62.37 %\n",
      "Epoch:40/100 AVG Training Loss:0.379 AVG Validation Loss:0.609 AVG Training Acc 83.18 % AVG Validation Acc 73.66 %\n",
      "Epoch:50/100 AVG Training Loss:0.339 AVG Validation Loss:0.592 AVG Training Acc 84.89 % AVG Validation Acc 75.94 %\n",
      "Epoch:60/100 AVG Training Loss:0.315 AVG Validation Loss:0.575 AVG Training Acc 85.81 % AVG Validation Acc 75.81 %\n",
      "Epoch    65: reducing learning rate of group 0 to 3.3000e-04.\n",
      "Epoch:70/100 AVG Training Loss:0.289 AVG Validation Loss:0.545 AVG Training Acc 86.67 % AVG Validation Acc 76.61 %\n",
      "Epoch:80/100 AVG Training Loss:0.262 AVG Validation Loss:0.587 AVG Training Acc 87.72 % AVG Validation Acc 76.08 %\n",
      "Epoch:90/100 AVG Training Loss:0.240 AVG Validation Loss:0.661 AVG Training Acc 88.60 % AVG Validation Acc 74.46 %\n",
      "Epoch:100/100 AVG Training Loss:0.221 AVG Validation Loss:0.709 AVG Training Acc 89.40 % AVG Validation Acc 75.13 %\n",
      "Split 6\n"
     ]
    },
    {
     "data": {
      "application/vnd.jupyter.widget-view+json": {
       "model_id": "c87181c32234449186e80e4e2cde414f",
       "version_major": 2,
       "version_minor": 0
      },
      "text/plain": [
       "  0%|          | 0/100 [00:00<?, ?it/s]"
      ]
     },
     "metadata": {},
     "output_type": "display_data"
    },
    {
     "name": "stdout",
     "output_type": "stream",
     "text": [
      "Epoch:10/100 AVG Training Loss:0.709 AVG Validation Loss:0.725 AVG Training Acc 43.79 % AVG Validation Acc 31.99 %\n",
      "Epoch:20/100 AVG Training Loss:0.573 AVG Validation Loss:0.652 AVG Training Acc 74.28 % AVG Validation Acc 61.29 %\n",
      "Epoch:30/100 AVG Training Loss:0.563 AVG Validation Loss:0.701 AVG Training Acc 76.16 % AVG Validation Acc 61.56 %\n",
      "Epoch:40/100 AVG Training Loss:0.384 AVG Validation Loss:0.559 AVG Training Acc 83.05 % AVG Validation Acc 74.60 %\n",
      "Epoch:50/100 AVG Training Loss:0.345 AVG Validation Loss:0.610 AVG Training Acc 84.80 % AVG Validation Acc 73.66 %\n",
      "Epoch:60/100 AVG Training Loss:0.319 AVG Validation Loss:0.604 AVG Training Acc 85.89 % AVG Validation Acc 75.27 %\n",
      "Epoch    68: reducing learning rate of group 0 to 3.3000e-04.\n",
      "Epoch:70/100 AVG Training Loss:0.294 AVG Validation Loss:0.530 AVG Training Acc 86.45 % AVG Validation Acc 77.96 %\n",
      "Epoch:80/100 AVG Training Loss:0.277 AVG Validation Loss:0.546 AVG Training Acc 86.91 % AVG Validation Acc 77.42 %\n",
      "Epoch:90/100 AVG Training Loss:0.252 AVG Validation Loss:0.580 AVG Training Acc 87.58 % AVG Validation Acc 77.55 %\n",
      "Epoch:100/100 AVG Training Loss:0.231 AVG Validation Loss:0.629 AVG Training Acc 88.13 % AVG Validation Acc 77.02 %\n",
      "Split 7\n"
     ]
    },
    {
     "data": {
      "application/vnd.jupyter.widget-view+json": {
       "model_id": "25d3bb8593a849fe93ab65d6dd17b442",
       "version_major": 2,
       "version_minor": 0
      },
      "text/plain": [
       "  0%|          | 0/100 [00:00<?, ?it/s]"
      ]
     },
     "metadata": {},
     "output_type": "display_data"
    },
    {
     "name": "stdout",
     "output_type": "stream",
     "text": [
      "Epoch:10/100 AVG Training Loss:0.882 AVG Validation Loss:1.451 AVG Training Acc 58.25 % AVG Validation Acc 20.05 %\n",
      "Epoch:20/100 AVG Training Loss:0.687 AVG Validation Loss:1.844 AVG Training Acc 70.31 % AVG Validation Acc 23.96 %\n",
      "Epoch:30/100 AVG Training Loss:0.521 AVG Validation Loss:0.694 AVG Training Acc 78.89 % AVG Validation Acc 63.39 %\n",
      "Epoch:40/100 AVG Training Loss:0.356 AVG Validation Loss:0.572 AVG Training Acc 84.65 % AVG Validation Acc 74.56 %\n",
      "Epoch:50/100 AVG Training Loss:0.322 AVG Validation Loss:0.553 AVG Training Acc 85.66 % AVG Validation Acc 74.70 %\n",
      "Epoch:60/100 AVG Training Loss:0.302 AVG Validation Loss:0.668 AVG Training Acc 86.49 % AVG Validation Acc 69.31 %\n",
      "Epoch    65: reducing learning rate of group 0 to 3.3000e-04.\n",
      "Epoch:70/100 AVG Training Loss:0.261 AVG Validation Loss:0.535 AVG Training Acc 88.23 % AVG Validation Acc 77.12 %\n",
      "Epoch:80/100 AVG Training Loss:0.231 AVG Validation Loss:0.576 AVG Training Acc 89.19 % AVG Validation Acc 74.16 %\n",
      "Epoch:90/100 AVG Training Loss:0.206 AVG Validation Loss:0.654 AVG Training Acc 90.47 % AVG Validation Acc 73.08 %\n",
      "Epoch:100/100 AVG Training Loss:0.189 AVG Validation Loss:0.699 AVG Training Acc 91.54 % AVG Validation Acc 74.29 %\n",
      "Split 8\n"
     ]
    },
    {
     "data": {
      "application/vnd.jupyter.widget-view+json": {
       "model_id": "3ddba61b3688445286b80ca6bd1c2067",
       "version_major": 2,
       "version_minor": 0
      },
      "text/plain": [
       "  0%|          | 0/100 [00:00<?, ?it/s]"
      ]
     },
     "metadata": {},
     "output_type": "display_data"
    },
    {
     "name": "stdout",
     "output_type": "stream",
     "text": [
      "Epoch:10/100 AVG Training Loss:0.665 AVG Validation Loss:0.690 AVG Training Acc 61.10 % AVG Validation Acc 41.86 %\n",
      "Epoch:20/100 AVG Training Loss:0.635 AVG Validation Loss:0.618 AVG Training Acc 69.17 % AVG Validation Acc 60.57 %\n",
      "Epoch:30/100 AVG Training Loss:0.461 AVG Validation Loss:0.841 AVG Training Acc 80.45 % AVG Validation Acc 62.99 %\n",
      "Epoch    39: reducing learning rate of group 0 to 3.3000e-04.\n",
      "Epoch:40/100 AVG Training Loss:0.367 AVG Validation Loss:0.499 AVG Training Acc 84.05 % AVG Validation Acc 77.93 %\n",
      "Epoch:50/100 AVG Training Loss:0.317 AVG Validation Loss:0.516 AVG Training Acc 85.83 % AVG Validation Acc 77.39 %\n",
      "Epoch:60/100 AVG Training Loss:0.295 AVG Validation Loss:0.519 AVG Training Acc 86.88 % AVG Validation Acc 77.25 %\n",
      "Epoch:70/100 AVG Training Loss:0.278 AVG Validation Loss:0.531 AVG Training Acc 87.33 % AVG Validation Acc 76.04 %\n",
      "Epoch    75: reducing learning rate of group 0 to 1.0890e-04.\n",
      "Epoch:80/100 AVG Training Loss:0.247 AVG Validation Loss:0.546 AVG Training Acc 88.52 % AVG Validation Acc 74.43 %\n",
      "Epoch:90/100 AVG Training Loss:0.238 AVG Validation Loss:0.562 AVG Training Acc 89.12 % AVG Validation Acc 74.16 %\n",
      "Epoch:100/100 AVG Training Loss:0.226 AVG Validation Loss:0.582 AVG Training Acc 89.37 % AVG Validation Acc 74.56 %\n",
      "Split 9\n"
     ]
    },
    {
     "data": {
      "application/vnd.jupyter.widget-view+json": {
       "model_id": "031a02e276bd4c69870ed4a2d15dc37c",
       "version_major": 2,
       "version_minor": 0
      },
      "text/plain": [
       "  0%|          | 0/100 [00:00<?, ?it/s]"
      ]
     },
     "metadata": {},
     "output_type": "display_data"
    },
    {
     "name": "stdout",
     "output_type": "stream",
     "text": [
      "Epoch:10/100 AVG Training Loss:0.864 AVG Validation Loss:0.847 AVG Training Acc 41.14 % AVG Validation Acc 20.05 %\n",
      "Epoch:20/100 AVG Training Loss:0.611 AVG Validation Loss:0.651 AVG Training Acc 69.64 % AVG Validation Acc 56.66 %\n",
      "Epoch:30/100 AVG Training Loss:0.497 AVG Validation Loss:0.570 AVG Training Acc 80.29 % AVG Validation Acc 73.49 %\n",
      "Epoch:40/100 AVG Training Loss:0.351 AVG Validation Loss:0.536 AVG Training Acc 84.42 % AVG Validation Acc 77.39 %\n",
      "Epoch:50/100 AVG Training Loss:0.323 AVG Validation Loss:0.534 AVG Training Acc 85.74 % AVG Validation Acc 77.66 %\n",
      "Epoch    52: reducing learning rate of group 0 to 3.3000e-04.\n",
      "Epoch:60/100 AVG Training Loss:0.292 AVG Validation Loss:0.496 AVG Training Acc 86.77 % AVG Validation Acc 78.87 %\n",
      "Epoch:70/100 AVG Training Loss:0.268 AVG Validation Loss:0.502 AVG Training Acc 87.60 % AVG Validation Acc 78.60 %\n",
      "Epoch:80/100 AVG Training Loss:0.239 AVG Validation Loss:0.530 AVG Training Acc 88.54 % AVG Validation Acc 76.45 %\n",
      "Epoch    88: reducing learning rate of group 0 to 1.0890e-04.\n",
      "Epoch:90/100 AVG Training Loss:0.209 AVG Validation Loss:0.593 AVG Training Acc 90.10 % AVG Validation Acc 75.64 %\n",
      "Epoch:100/100 AVG Training Loss:0.191 AVG Validation Loss:0.618 AVG Training Acc 91.16 % AVG Validation Acc 75.50 %\n",
      "Split 10\n"
     ]
    },
    {
     "data": {
      "application/vnd.jupyter.widget-view+json": {
       "model_id": "39a916bc31be493f8b908f33e68d446c",
       "version_major": 2,
       "version_minor": 0
      },
      "text/plain": [
       "  0%|          | 0/100 [00:00<?, ?it/s]"
      ]
     },
     "metadata": {},
     "output_type": "display_data"
    },
    {
     "name": "stdout",
     "output_type": "stream",
     "text": [
      "Epoch:10/100 AVG Training Loss:0.715 AVG Validation Loss:0.730 AVG Training Acc 41.35 % AVG Validation Acc 30.55 %\n",
      "Epoch:20/100 AVG Training Loss:0.546 AVG Validation Loss:0.678 AVG Training Acc 76.55 % AVG Validation Acc 59.89 %\n",
      "Epoch:30/100 AVG Training Loss:0.428 AVG Validation Loss:0.616 AVG Training Acc 81.56 % AVG Validation Acc 71.60 %\n",
      "Epoch:40/100 AVG Training Loss:0.367 AVG Validation Loss:0.596 AVG Training Acc 83.77 % AVG Validation Acc 74.43 %\n",
      "Epoch:50/100 AVG Training Loss:0.344 AVG Validation Loss:0.553 AVG Training Acc 84.98 % AVG Validation Acc 75.64 %\n",
      "Epoch:60/100 AVG Training Loss:0.307 AVG Validation Loss:0.572 AVG Training Acc 86.05 % AVG Validation Acc 74.83 %\n",
      "Epoch    66: reducing learning rate of group 0 to 3.3000e-04.\n",
      "Epoch:70/100 AVG Training Loss:0.260 AVG Validation Loss:0.542 AVG Training Acc 87.41 % AVG Validation Acc 76.04 %\n",
      "Epoch:80/100 AVG Training Loss:0.228 AVG Validation Loss:0.600 AVG Training Acc 88.81 % AVG Validation Acc 74.02 %\n",
      "Epoch:90/100 AVG Training Loss:0.205 AVG Validation Loss:0.705 AVG Training Acc 90.12 % AVG Validation Acc 72.81 %\n",
      "Epoch:100/100 AVG Training Loss:0.185 AVG Validation Loss:0.740 AVG Training Acc 90.82 % AVG Validation Acc 73.62 %\n",
      "Replica 3\n"
     ]
    },
    {
     "data": {
      "application/vnd.jupyter.widget-view+json": {
       "model_id": "c5609bf5689d436dbdc79ac845f538ed",
       "version_major": 2,
       "version_minor": 0
      },
      "text/plain": [
       "0it [00:00, ?it/s]"
      ]
     },
     "metadata": {},
     "output_type": "display_data"
    },
    {
     "name": "stdout",
     "output_type": "stream",
     "text": [
      "Split 1\n"
     ]
    },
    {
     "data": {
      "application/vnd.jupyter.widget-view+json": {
       "model_id": "6956b0edf6f741ec97f530cd3ac04af5",
       "version_major": 2,
       "version_minor": 0
      },
      "text/plain": [
       "  0%|          | 0/100 [00:00<?, ?it/s]"
      ]
     },
     "metadata": {},
     "output_type": "display_data"
    },
    {
     "name": "stdout",
     "output_type": "stream",
     "text": [
      "Epoch:10/100 AVG Training Loss:0.722 AVG Validation Loss:0.727 AVG Training Acc 40.33 % AVG Validation Acc 27.82 %\n",
      "Epoch:20/100 AVG Training Loss:0.539 AVG Validation Loss:0.631 AVG Training Acc 77.44 % AVG Validation Acc 65.05 %\n",
      "Epoch:30/100 AVG Training Loss:0.378 AVG Validation Loss:0.599 AVG Training Acc 83.64 % AVG Validation Acc 74.60 %\n",
      "Epoch:40/100 AVG Training Loss:0.333 AVG Validation Loss:0.558 AVG Training Acc 85.35 % AVG Validation Acc 77.69 %\n",
      "Epoch:50/100 AVG Training Loss:0.304 AVG Validation Loss:0.555 AVG Training Acc 86.10 % AVG Validation Acc 77.55 %\n",
      "Epoch    54: reducing learning rate of group 0 to 3.3000e-04.\n",
      "Epoch:60/100 AVG Training Loss:0.276 AVG Validation Loss:0.551 AVG Training Acc 86.93 % AVG Validation Acc 77.55 %\n",
      "Epoch:70/100 AVG Training Loss:0.244 AVG Validation Loss:0.614 AVG Training Acc 87.99 % AVG Validation Acc 76.61 %\n",
      "Epoch:80/100 AVG Training Loss:0.215 AVG Validation Loss:0.676 AVG Training Acc 89.48 % AVG Validation Acc 76.75 %\n",
      "Epoch:90/100 AVG Training Loss:0.187 AVG Validation Loss:0.780 AVG Training Acc 91.16 % AVG Validation Acc 75.00 %\n",
      "Epoch    90: reducing learning rate of group 0 to 1.0890e-04.\n",
      "Epoch:100/100 AVG Training Loss:0.169 AVG Validation Loss:0.836 AVG Training Acc 91.88 % AVG Validation Acc 73.39 %\n",
      "Split 2\n"
     ]
    },
    {
     "data": {
      "application/vnd.jupyter.widget-view+json": {
       "model_id": "aace0459652345c8ab396147b16f8441",
       "version_major": 2,
       "version_minor": 0
      },
      "text/plain": [
       "  0%|          | 0/100 [00:00<?, ?it/s]"
      ]
     },
     "metadata": {},
     "output_type": "display_data"
    },
    {
     "name": "stdout",
     "output_type": "stream",
     "text": [
      "Epoch:10/100 AVG Training Loss:0.689 AVG Validation Loss:0.703 AVG Training Acc 56.34 % AVG Validation Acc 34.27 %\n",
      "Epoch:20/100 AVG Training Loss:0.541 AVG Validation Loss:0.583 AVG Training Acc 78.37 % AVG Validation Acc 67.34 %\n",
      "Epoch:30/100 AVG Training Loss:0.404 AVG Validation Loss:0.615 AVG Training Acc 83.61 % AVG Validation Acc 72.04 %\n",
      "Epoch:40/100 AVG Training Loss:0.331 AVG Validation Loss:0.551 AVG Training Acc 86.00 % AVG Validation Acc 77.15 %\n",
      "Epoch:50/100 AVG Training Loss:0.296 AVG Validation Loss:0.586 AVG Training Acc 86.75 % AVG Validation Acc 75.40 %\n",
      "Epoch    55: reducing learning rate of group 0 to 3.3000e-04.\n",
      "Epoch:60/100 AVG Training Loss:0.257 AVG Validation Loss:0.558 AVG Training Acc 88.15 % AVG Validation Acc 75.67 %\n",
      "Epoch:70/100 AVG Training Loss:0.217 AVG Validation Loss:0.683 AVG Training Acc 90.04 % AVG Validation Acc 71.91 %\n",
      "Epoch:80/100 AVG Training Loss:0.191 AVG Validation Loss:0.817 AVG Training Acc 91.35 % AVG Validation Acc 72.98 %\n",
      "Epoch:90/100 AVG Training Loss:0.170 AVG Validation Loss:0.907 AVG Training Acc 92.32 % AVG Validation Acc 73.39 %\n",
      "Epoch    91: reducing learning rate of group 0 to 1.0890e-04.\n",
      "Epoch:100/100 AVG Training Loss:0.157 AVG Validation Loss:0.897 AVG Training Acc 92.83 % AVG Validation Acc 73.79 %\n",
      "Split 3\n"
     ]
    },
    {
     "data": {
      "application/vnd.jupyter.widget-view+json": {
       "model_id": "683d74b0fb144e18b213dcfaf1385e4c",
       "version_major": 2,
       "version_minor": 0
      },
      "text/plain": [
       "  0%|          | 0/100 [00:00<?, ?it/s]"
      ]
     },
     "metadata": {},
     "output_type": "display_data"
    },
    {
     "name": "stdout",
     "output_type": "stream",
     "text": [
      "Epoch:10/100 AVG Training Loss:0.588 AVG Validation Loss:3.443 AVG Training Acc 61.67 % AVG Validation Acc 20.16 %\n",
      "Epoch:20/100 AVG Training Loss:0.576 AVG Validation Loss:0.586 AVG Training Acc 75.51 % AVG Validation Acc 67.20 %\n",
      "Epoch:30/100 AVG Training Loss:0.402 AVG Validation Loss:0.669 AVG Training Acc 82.93 % AVG Validation Acc 71.91 %\n",
      "Epoch:40/100 AVG Training Loss:0.336 AVG Validation Loss:0.568 AVG Training Acc 85.37 % AVG Validation Acc 77.02 %\n",
      "Epoch:50/100 AVG Training Loss:0.309 AVG Validation Loss:0.595 AVG Training Acc 86.30 % AVG Validation Acc 76.61 %\n",
      "Epoch:60/100 AVG Training Loss:0.262 AVG Validation Loss:0.632 AVG Training Acc 87.59 % AVG Validation Acc 72.85 %\n",
      "Epoch    68: reducing learning rate of group 0 to 3.3000e-04.\n",
      "Epoch:70/100 AVG Training Loss:0.220 AVG Validation Loss:0.605 AVG Training Acc 89.35 % AVG Validation Acc 74.87 %\n",
      "Epoch:80/100 AVG Training Loss:0.174 AVG Validation Loss:0.764 AVG Training Acc 91.51 % AVG Validation Acc 72.85 %\n",
      "Epoch:90/100 AVG Training Loss:0.155 AVG Validation Loss:0.921 AVG Training Acc 92.61 % AVG Validation Acc 74.06 %\n",
      "Epoch:100/100 AVG Training Loss:0.122 AVG Validation Loss:1.079 AVG Training Acc 94.17 % AVG Validation Acc 72.18 %\n",
      "Split 4\n"
     ]
    },
    {
     "data": {
      "application/vnd.jupyter.widget-view+json": {
       "model_id": "1b6ec0da7ef24b94a2d4fe01f9794deb",
       "version_major": 2,
       "version_minor": 0
      },
      "text/plain": [
       "  0%|          | 0/100 [00:00<?, ?it/s]"
      ]
     },
     "metadata": {},
     "output_type": "display_data"
    },
    {
     "name": "stdout",
     "output_type": "stream",
     "text": [
      "Epoch:10/100 AVG Training Loss:0.674 AVG Validation Loss:0.706 AVG Training Acc 60.94 % AVG Validation Acc 37.37 %\n",
      "Epoch:20/100 AVG Training Loss:0.437 AVG Validation Loss:1.284 AVG Training Acc 81.06 % AVG Validation Acc 51.21 %\n",
      "Epoch:30/100 AVG Training Loss:0.361 AVG Validation Loss:0.568 AVG Training Acc 84.02 % AVG Validation Acc 75.13 %\n",
      "Epoch:40/100 AVG Training Loss:0.326 AVG Validation Loss:0.581 AVG Training Acc 84.94 % AVG Validation Acc 74.73 %\n",
      "Epoch:50/100 AVG Training Loss:0.286 AVG Validation Loss:0.593 AVG Training Acc 86.74 % AVG Validation Acc 73.12 %\n",
      "Epoch    55: reducing learning rate of group 0 to 3.3000e-04.\n",
      "Epoch:60/100 AVG Training Loss:0.239 AVG Validation Loss:0.600 AVG Training Acc 88.74 % AVG Validation Acc 76.48 %\n",
      "Epoch:70/100 AVG Training Loss:0.199 AVG Validation Loss:0.685 AVG Training Acc 90.66 % AVG Validation Acc 75.27 %\n",
      "Epoch:80/100 AVG Training Loss:0.172 AVG Validation Loss:0.731 AVG Training Acc 91.93 % AVG Validation Acc 74.60 %\n",
      "Epoch:90/100 AVG Training Loss:0.158 AVG Validation Loss:0.873 AVG Training Acc 92.59 % AVG Validation Acc 73.79 %\n",
      "Epoch    91: reducing learning rate of group 0 to 1.0890e-04.\n",
      "Epoch:100/100 AVG Training Loss:0.143 AVG Validation Loss:0.888 AVG Training Acc 93.29 % AVG Validation Acc 74.19 %\n",
      "Split 5\n"
     ]
    },
    {
     "data": {
      "application/vnd.jupyter.widget-view+json": {
       "model_id": "1247a7bc08704e94bacf25aae870cdf7",
       "version_major": 2,
       "version_minor": 0
      },
      "text/plain": [
       "  0%|          | 0/100 [00:00<?, ?it/s]"
      ]
     },
     "metadata": {},
     "output_type": "display_data"
    },
    {
     "name": "stdout",
     "output_type": "stream",
     "text": [
      "Epoch:10/100 AVG Training Loss:0.462 AVG Validation Loss:4.459 AVG Training Acc 66.60 % AVG Validation Acc 20.16 %\n",
      "Epoch:20/100 AVG Training Loss:0.636 AVG Validation Loss:0.678 AVG Training Acc 66.77 % AVG Validation Acc 46.91 %\n",
      "Epoch:30/100 AVG Training Loss:0.442 AVG Validation Loss:0.698 AVG Training Acc 81.46 % AVG Validation Acc 65.86 %\n",
      "Epoch:40/100 AVG Training Loss:0.356 AVG Validation Loss:0.583 AVG Training Acc 84.57 % AVG Validation Acc 76.21 %\n",
      "Epoch:50/100 AVG Training Loss:0.327 AVG Validation Loss:0.571 AVG Training Acc 85.62 % AVG Validation Acc 75.00 %\n",
      "Epoch:60/100 AVG Training Loss:0.290 AVG Validation Loss:0.602 AVG Training Acc 86.37 % AVG Validation Acc 74.06 %\n",
      "Epoch    61: reducing learning rate of group 0 to 3.3000e-04.\n",
      "Epoch:70/100 AVG Training Loss:0.251 AVG Validation Loss:0.567 AVG Training Acc 88.26 % AVG Validation Acc 75.40 %\n",
      "Epoch:80/100 AVG Training Loss:0.229 AVG Validation Loss:0.629 AVG Training Acc 88.76 % AVG Validation Acc 75.54 %\n",
      "Epoch:90/100 AVG Training Loss:0.209 AVG Validation Loss:0.676 AVG Training Acc 89.69 % AVG Validation Acc 74.06 %\n",
      "Epoch    97: reducing learning rate of group 0 to 1.0890e-04.\n",
      "Epoch:100/100 AVG Training Loss:0.192 AVG Validation Loss:0.769 AVG Training Acc 90.48 % AVG Validation Acc 72.98 %\n",
      "Split 6\n"
     ]
    },
    {
     "data": {
      "application/vnd.jupyter.widget-view+json": {
       "model_id": "df15bae60f55400eaca73459f50bf496",
       "version_major": 2,
       "version_minor": 0
      },
      "text/plain": [
       "  0%|          | 0/100 [00:00<?, ?it/s]"
      ]
     },
     "metadata": {},
     "output_type": "display_data"
    },
    {
     "name": "stdout",
     "output_type": "stream",
     "text": [
      "Epoch:10/100 AVG Training Loss:0.658 AVG Validation Loss:0.687 AVG Training Acc 61.27 % AVG Validation Acc 45.03 %\n",
      "Epoch:20/100 AVG Training Loss:0.531 AVG Validation Loss:1.027 AVG Training Acc 74.57 % AVG Validation Acc 60.35 %\n",
      "Epoch:30/100 AVG Training Loss:0.445 AVG Validation Loss:0.667 AVG Training Acc 80.82 % AVG Validation Acc 69.09 %\n",
      "Epoch:40/100 AVG Training Loss:0.354 AVG Validation Loss:0.650 AVG Training Acc 84.33 % AVG Validation Acc 73.25 %\n",
      "Epoch    41: reducing learning rate of group 0 to 3.3000e-04.\n",
      "Epoch:50/100 AVG Training Loss:0.327 AVG Validation Loss:0.543 AVG Training Acc 85.68 % AVG Validation Acc 76.48 %\n",
      "Epoch:60/100 AVG Training Loss:0.318 AVG Validation Loss:0.556 AVG Training Acc 86.09 % AVG Validation Acc 76.08 %\n",
      "Epoch:70/100 AVG Training Loss:0.309 AVG Validation Loss:0.564 AVG Training Acc 86.34 % AVG Validation Acc 76.08 %\n",
      "Epoch    77: reducing learning rate of group 0 to 1.0890e-04.\n",
      "Epoch:80/100 AVG Training Loss:0.299 AVG Validation Loss:0.529 AVG Training Acc 86.37 % AVG Validation Acc 77.15 %\n",
      "Epoch:90/100 AVG Training Loss:0.296 AVG Validation Loss:0.538 AVG Training Acc 86.81 % AVG Validation Acc 76.88 %\n",
      "Epoch:100/100 AVG Training Loss:0.291 AVG Validation Loss:0.542 AVG Training Acc 86.99 % AVG Validation Acc 77.02 %\n",
      "Split 7\n"
     ]
    },
    {
     "data": {
      "application/vnd.jupyter.widget-view+json": {
       "model_id": "e35ee3da8c76483cad00277f88632e84",
       "version_major": 2,
       "version_minor": 0
      },
      "text/plain": [
       "  0%|          | 0/100 [00:00<?, ?it/s]"
      ]
     },
     "metadata": {},
     "output_type": "display_data"
    },
    {
     "name": "stdout",
     "output_type": "stream",
     "text": [
      "Epoch:10/100 AVG Training Loss:0.598 AVG Validation Loss:2.779 AVG Training Acc 64.35 % AVG Validation Acc 20.05 %\n",
      "Epoch:20/100 AVG Training Loss:0.583 AVG Validation Loss:0.615 AVG Training Acc 73.64 % AVG Validation Acc 63.26 %\n",
      "Epoch:30/100 AVG Training Loss:0.447 AVG Validation Loss:0.619 AVG Training Acc 80.80 % AVG Validation Acc 71.06 %\n",
      "Epoch:40/100 AVG Training Loss:0.338 AVG Validation Loss:0.575 AVG Training Acc 85.20 % AVG Validation Acc 75.37 %\n",
      "Epoch:50/100 AVG Training Loss:0.311 AVG Validation Loss:0.568 AVG Training Acc 86.09 % AVG Validation Acc 75.91 %\n",
      "Epoch    55: reducing learning rate of group 0 to 3.3000e-04.\n",
      "Epoch:60/100 AVG Training Loss:0.275 AVG Validation Loss:0.511 AVG Training Acc 87.32 % AVG Validation Acc 77.39 %\n",
      "Epoch:70/100 AVG Training Loss:0.246 AVG Validation Loss:0.543 AVG Training Acc 88.63 % AVG Validation Acc 76.04 %\n",
      "Epoch:80/100 AVG Training Loss:0.220 AVG Validation Loss:0.619 AVG Training Acc 89.73 % AVG Validation Acc 74.43 %\n",
      "Epoch:90/100 AVG Training Loss:0.194 AVG Validation Loss:0.729 AVG Training Acc 90.74 % AVG Validation Acc 73.62 %\n",
      "Epoch    91: reducing learning rate of group 0 to 1.0890e-04.\n",
      "Epoch:100/100 AVG Training Loss:0.174 AVG Validation Loss:0.795 AVG Training Acc 91.62 % AVG Validation Acc 73.08 %\n",
      "Split 8\n"
     ]
    },
    {
     "data": {
      "application/vnd.jupyter.widget-view+json": {
       "model_id": "4d9c6f49c37d4e74aad0ae1c0c5f3686",
       "version_major": 2,
       "version_minor": 0
      },
      "text/plain": [
       "  0%|          | 0/100 [00:00<?, ?it/s]"
      ]
     },
     "metadata": {},
     "output_type": "display_data"
    },
    {
     "name": "stdout",
     "output_type": "stream",
     "text": [
      "Epoch:10/100 AVG Training Loss:0.615 AVG Validation Loss:2.544 AVG Training Acc 59.61 % AVG Validation Acc 20.19 %\n",
      "Epoch:20/100 AVG Training Loss:0.593 AVG Validation Loss:0.591 AVG Training Acc 73.20 % AVG Validation Acc 62.58 %\n",
      "Epoch:30/100 AVG Training Loss:0.484 AVG Validation Loss:0.654 AVG Training Acc 79.43 % AVG Validation Acc 66.89 %\n",
      "Epoch    38: reducing learning rate of group 0 to 3.3000e-04.\n",
      "Epoch:40/100 AVG Training Loss:0.374 AVG Validation Loss:0.513 AVG Training Acc 83.26 % AVG Validation Acc 76.85 %\n",
      "Epoch:50/100 AVG Training Loss:0.351 AVG Validation Loss:0.525 AVG Training Acc 84.66 % AVG Validation Acc 77.39 %\n",
      "Epoch:60/100 AVG Training Loss:0.335 AVG Validation Loss:0.522 AVG Training Acc 85.31 % AVG Validation Acc 77.12 %\n",
      "Epoch:70/100 AVG Training Loss:0.323 AVG Validation Loss:0.523 AVG Training Acc 85.75 % AVG Validation Acc 77.52 %\n",
      "Epoch    74: reducing learning rate of group 0 to 1.0890e-04.\n",
      "Epoch:80/100 AVG Training Loss:0.309 AVG Validation Loss:0.492 AVG Training Acc 86.03 % AVG Validation Acc 78.20 %\n",
      "Epoch:90/100 AVG Training Loss:0.305 AVG Validation Loss:0.493 AVG Training Acc 86.29 % AVG Validation Acc 78.20 %\n",
      "Epoch:100/100 AVG Training Loss:0.297 AVG Validation Loss:0.497 AVG Training Acc 86.79 % AVG Validation Acc 77.66 %\n",
      "Split 9\n"
     ]
    },
    {
     "data": {
      "application/vnd.jupyter.widget-view+json": {
       "model_id": "7b6e37cd9e5a4093a8f221eb1107c05c",
       "version_major": 2,
       "version_minor": 0
      },
      "text/plain": [
       "  0%|          | 0/100 [00:00<?, ?it/s]"
      ]
     },
     "metadata": {},
     "output_type": "display_data"
    },
    {
     "name": "stdout",
     "output_type": "stream",
     "text": [
      "Epoch:10/100 AVG Training Loss:0.683 AVG Validation Loss:0.682 AVG Training Acc 55.14 % AVG Validation Acc 43.20 %\n",
      "Epoch:20/100 AVG Training Loss:0.474 AVG Validation Loss:0.862 AVG Training Acc 79.94 % AVG Validation Acc 57.87 %\n",
      "Epoch:30/100 AVG Training Loss:0.355 AVG Validation Loss:0.571 AVG Training Acc 84.49 % AVG Validation Acc 76.18 %\n",
      "Epoch:40/100 AVG Training Loss:0.308 AVG Validation Loss:0.672 AVG Training Acc 86.35 % AVG Validation Acc 73.08 %\n",
      "Epoch:50/100 AVG Training Loss:0.265 AVG Validation Loss:0.620 AVG Training Acc 87.78 % AVG Validation Acc 71.33 %\n",
      "Epoch    53: reducing learning rate of group 0 to 3.3000e-04.\n",
      "Epoch:60/100 AVG Training Loss:0.215 AVG Validation Loss:0.611 AVG Training Acc 89.92 % AVG Validation Acc 76.45 %\n",
      "Epoch:70/100 AVG Training Loss:0.185 AVG Validation Loss:0.689 AVG Training Acc 91.36 % AVG Validation Acc 73.89 %\n",
      "Epoch:80/100 AVG Training Loss:0.165 AVG Validation Loss:0.812 AVG Training Acc 92.48 % AVG Validation Acc 74.83 %\n",
      "Epoch    89: reducing learning rate of group 0 to 1.0890e-04.\n",
      "Epoch:90/100 AVG Training Loss:0.140 AVG Validation Loss:0.900 AVG Training Acc 93.36 % AVG Validation Acc 73.08 %\n",
      "Epoch:100/100 AVG Training Loss:0.129 AVG Validation Loss:0.939 AVG Training Acc 93.87 % AVG Validation Acc 73.35 %\n",
      "Split 10\n"
     ]
    },
    {
     "data": {
      "application/vnd.jupyter.widget-view+json": {
       "model_id": "d3bffff848874d31a46b32beb6b324d3",
       "version_major": 2,
       "version_minor": 0
      },
      "text/plain": [
       "  0%|          | 0/100 [00:00<?, ?it/s]"
      ]
     },
     "metadata": {},
     "output_type": "display_data"
    },
    {
     "name": "stdout",
     "output_type": "stream",
     "text": [
      "Epoch:10/100 AVG Training Loss:0.663 AVG Validation Loss:0.706 AVG Training Acc 60.56 % AVG Validation Acc 42.40 %\n",
      "Epoch:20/100 AVG Training Loss:0.539 AVG Validation Loss:0.728 AVG Training Acc 76.15 % AVG Validation Acc 60.57 %\n",
      "Epoch:30/100 AVG Training Loss:0.437 AVG Validation Loss:0.894 AVG Training Acc 81.18 % AVG Validation Acc 62.99 %\n",
      "Epoch:40/100 AVG Training Loss:0.348 AVG Validation Loss:0.577 AVG Training Acc 84.51 % AVG Validation Acc 74.16 %\n",
      "Epoch:50/100 AVG Training Loss:0.310 AVG Validation Loss:0.552 AVG Training Acc 86.06 % AVG Validation Acc 75.77 %\n",
      "Epoch:60/100 AVG Training Loss:0.280 AVG Validation Loss:0.573 AVG Training Acc 87.19 % AVG Validation Acc 76.18 %\n",
      "Epoch    66: reducing learning rate of group 0 to 3.3000e-04.\n",
      "Epoch:70/100 AVG Training Loss:0.246 AVG Validation Loss:0.580 AVG Training Acc 87.99 % AVG Validation Acc 77.25 %\n",
      "Epoch:80/100 AVG Training Loss:0.210 AVG Validation Loss:0.642 AVG Training Acc 89.66 % AVG Validation Acc 74.29 %\n",
      "Epoch:90/100 AVG Training Loss:0.179 AVG Validation Loss:0.756 AVG Training Acc 91.32 % AVG Validation Acc 71.60 %\n",
      "Epoch:100/100 AVG Training Loss:0.159 AVG Validation Loss:0.923 AVG Training Acc 92.30 % AVG Validation Acc 70.93 %\n",
      "Replica 4\n"
     ]
    },
    {
     "data": {
      "application/vnd.jupyter.widget-view+json": {
       "model_id": "ec60b8811d474ad1b00d6767949b26d5",
       "version_major": 2,
       "version_minor": 0
      },
      "text/plain": [
       "0it [00:00, ?it/s]"
      ]
     },
     "metadata": {},
     "output_type": "display_data"
    },
    {
     "name": "stdout",
     "output_type": "stream",
     "text": [
      "Split 1\n"
     ]
    },
    {
     "data": {
      "application/vnd.jupyter.widget-view+json": {
       "model_id": "47626a554f244da5a652639c82f8f749",
       "version_major": 2,
       "version_minor": 0
      },
      "text/plain": [
       "  0%|          | 0/100 [00:00<?, ?it/s]"
      ]
     },
     "metadata": {},
     "output_type": "display_data"
    },
    {
     "name": "stdout",
     "output_type": "stream",
     "text": [
      "Epoch:10/100 AVG Training Loss:0.665 AVG Validation Loss:0.689 AVG Training Acc 60.24 % AVG Validation Acc 40.73 %\n",
      "Epoch:20/100 AVG Training Loss:0.588 AVG Validation Loss:0.700 AVG Training Acc 74.52 % AVG Validation Acc 59.41 %\n",
      "Epoch:30/100 AVG Training Loss:0.353 AVG Validation Loss:0.572 AVG Training Acc 84.44 % AVG Validation Acc 76.21 %\n",
      "Epoch:40/100 AVG Training Loss:0.324 AVG Validation Loss:0.576 AVG Training Acc 85.55 % AVG Validation Acc 75.00 %\n",
      "Epoch:50/100 AVG Training Loss:0.273 AVG Validation Loss:0.597 AVG Training Acc 87.00 % AVG Validation Acc 73.66 %\n",
      "Epoch    52: reducing learning rate of group 0 to 3.3000e-04.\n",
      "Epoch:60/100 AVG Training Loss:0.225 AVG Validation Loss:0.623 AVG Training Acc 89.21 % AVG Validation Acc 75.54 %\n",
      "Epoch:70/100 AVG Training Loss:0.196 AVG Validation Loss:0.715 AVG Training Acc 90.58 % AVG Validation Acc 73.92 %\n",
      "Epoch:80/100 AVG Training Loss:0.171 AVG Validation Loss:0.792 AVG Training Acc 91.84 % AVG Validation Acc 76.08 %\n",
      "Epoch    88: reducing learning rate of group 0 to 1.0890e-04.\n",
      "Epoch:90/100 AVG Training Loss:0.146 AVG Validation Loss:0.911 AVG Training Acc 93.03 % AVG Validation Acc 74.87 %\n",
      "Epoch:100/100 AVG Training Loss:0.134 AVG Validation Loss:0.952 AVG Training Acc 93.39 % AVG Validation Acc 74.46 %\n",
      "Split 2\n"
     ]
    },
    {
     "data": {
      "application/vnd.jupyter.widget-view+json": {
       "model_id": "5bf34e283dea46308d3c755ce312da1a",
       "version_major": 2,
       "version_minor": 0
      },
      "text/plain": [
       "  0%|          | 0/100 [00:00<?, ?it/s]"
      ]
     },
     "metadata": {},
     "output_type": "display_data"
    },
    {
     "name": "stdout",
     "output_type": "stream",
     "text": [
      "Epoch:10/100 AVG Training Loss:0.559 AVG Validation Loss:3.999 AVG Training Acc 61.23 % AVG Validation Acc 20.16 %\n",
      "Epoch:20/100 AVG Training Loss:0.569 AVG Validation Loss:0.676 AVG Training Acc 74.21 % AVG Validation Acc 59.41 %\n",
      "Epoch:30/100 AVG Training Loss:0.385 AVG Validation Loss:0.599 AVG Training Acc 83.17 % AVG Validation Acc 72.85 %\n",
      "Epoch:40/100 AVG Training Loss:0.348 AVG Validation Loss:0.559 AVG Training Acc 84.72 % AVG Validation Acc 75.00 %\n",
      "Epoch:50/100 AVG Training Loss:0.345 AVG Validation Loss:1.288 AVG Training Acc 86.03 % AVG Validation Acc 62.23 %\n",
      "Epoch    53: reducing learning rate of group 0 to 3.3000e-04.\n",
      "Epoch:60/100 AVG Training Loss:0.307 AVG Validation Loss:0.513 AVG Training Acc 86.08 % AVG Validation Acc 78.09 %\n",
      "Epoch:70/100 AVG Training Loss:0.292 AVG Validation Loss:0.536 AVG Training Acc 86.70 % AVG Validation Acc 78.09 %\n",
      "Epoch:80/100 AVG Training Loss:0.275 AVG Validation Loss:0.567 AVG Training Acc 87.45 % AVG Validation Acc 77.96 %\n",
      "Epoch    89: reducing learning rate of group 0 to 1.0890e-04.\n",
      "Epoch:90/100 AVG Training Loss:0.258 AVG Validation Loss:0.592 AVG Training Acc 87.72 % AVG Validation Acc 77.82 %\n",
      "Epoch:100/100 AVG Training Loss:0.246 AVG Validation Loss:0.611 AVG Training Acc 88.33 % AVG Validation Acc 78.23 %\n",
      "Split 3\n"
     ]
    },
    {
     "data": {
      "application/vnd.jupyter.widget-view+json": {
       "model_id": "5f8583599e2f4d1da7d90c26bb68d56c",
       "version_major": 2,
       "version_minor": 0
      },
      "text/plain": [
       "  0%|          | 0/100 [00:00<?, ?it/s]"
      ]
     },
     "metadata": {},
     "output_type": "display_data"
    },
    {
     "name": "stdout",
     "output_type": "stream",
     "text": [
      "Epoch:10/100 AVG Training Loss:0.643 AVG Validation Loss:0.717 AVG Training Acc 63.33 % AVG Validation Acc 43.95 %\n",
      "Epoch:20/100 AVG Training Loss:0.480 AVG Validation Loss:1.019 AVG Training Acc 79.90 % AVG Validation Acc 56.45 %\n",
      "Epoch:30/100 AVG Training Loss:0.362 AVG Validation Loss:0.617 AVG Training Acc 84.07 % AVG Validation Acc 72.45 %\n",
      "Epoch    32: reducing learning rate of group 0 to 3.3000e-04.\n",
      "Epoch:40/100 AVG Training Loss:0.320 AVG Validation Loss:0.529 AVG Training Acc 85.58 % AVG Validation Acc 78.49 %\n",
      "Epoch:50/100 AVG Training Loss:0.305 AVG Validation Loss:0.550 AVG Training Acc 86.05 % AVG Validation Acc 77.42 %\n",
      "Epoch:60/100 AVG Training Loss:0.283 AVG Validation Loss:0.572 AVG Training Acc 86.83 % AVG Validation Acc 77.42 %\n",
      "Epoch    68: reducing learning rate of group 0 to 1.0890e-04.\n",
      "Epoch:70/100 AVG Training Loss:0.266 AVG Validation Loss:0.574 AVG Training Acc 87.49 % AVG Validation Acc 77.42 %\n",
      "Epoch:80/100 AVG Training Loss:0.252 AVG Validation Loss:0.598 AVG Training Acc 88.43 % AVG Validation Acc 76.75 %\n",
      "Epoch:90/100 AVG Training Loss:0.242 AVG Validation Loss:0.621 AVG Training Acc 88.82 % AVG Validation Acc 75.94 %\n",
      "Epoch:100/100 AVG Training Loss:0.234 AVG Validation Loss:0.634 AVG Training Acc 89.12 % AVG Validation Acc 76.34 %\n",
      "Split 4\n"
     ]
    },
    {
     "data": {
      "application/vnd.jupyter.widget-view+json": {
       "model_id": "2d0e0eb5a40e481b88fff623a41ede2d",
       "version_major": 2,
       "version_minor": 0
      },
      "text/plain": [
       "  0%|          | 0/100 [00:00<?, ?it/s]"
      ]
     },
     "metadata": {},
     "output_type": "display_data"
    },
    {
     "name": "stdout",
     "output_type": "stream",
     "text": [
      "Epoch:10/100 AVG Training Loss:0.748 AVG Validation Loss:2.271 AVG Training Acc 61.92 % AVG Validation Acc 20.16 %\n",
      "Epoch:20/100 AVG Training Loss:0.549 AVG Validation Loss:0.682 AVG Training Acc 76.68 % AVG Validation Acc 58.74 %\n",
      "Epoch:30/100 AVG Training Loss:0.382 AVG Validation Loss:0.630 AVG Training Acc 83.45 % AVG Validation Acc 72.58 %\n",
      "Epoch:40/100 AVG Training Loss:0.343 AVG Validation Loss:0.586 AVG Training Acc 85.33 % AVG Validation Acc 75.13 %\n",
      "Epoch:50/100 AVG Training Loss:0.312 AVG Validation Loss:0.577 AVG Training Acc 86.18 % AVG Validation Acc 75.67 %\n",
      "Epoch:60/100 AVG Training Loss:0.272 AVG Validation Loss:0.617 AVG Training Acc 87.22 % AVG Validation Acc 71.77 %\n",
      "Epoch    64: reducing learning rate of group 0 to 3.3000e-04.\n",
      "Epoch:70/100 AVG Training Loss:0.222 AVG Validation Loss:0.633 AVG Training Acc 89.10 % AVG Validation Acc 74.06 %\n",
      "Epoch:80/100 AVG Training Loss:0.192 AVG Validation Loss:0.741 AVG Training Acc 90.47 % AVG Validation Acc 74.60 %\n",
      "Epoch:90/100 AVG Training Loss:0.172 AVG Validation Loss:0.802 AVG Training Acc 91.70 % AVG Validation Acc 72.45 %\n",
      "Epoch:100/100 AVG Training Loss:0.160 AVG Validation Loss:1.001 AVG Training Acc 92.33 % AVG Validation Acc 72.98 %\n",
      "Epoch   100: reducing learning rate of group 0 to 1.0890e-04.\n",
      "Split 5\n"
     ]
    },
    {
     "data": {
      "application/vnd.jupyter.widget-view+json": {
       "model_id": "6ea4de167e4a4f7aa8872808d2942d41",
       "version_major": 2,
       "version_minor": 0
      },
      "text/plain": [
       "  0%|          | 0/100 [00:00<?, ?it/s]"
      ]
     },
     "metadata": {},
     "output_type": "display_data"
    },
    {
     "name": "stdout",
     "output_type": "stream",
     "text": [
      "Epoch:10/100 AVG Training Loss:0.667 AVG Validation Loss:0.684 AVG Training Acc 57.87 % AVG Validation Acc 42.61 %\n",
      "Epoch:20/100 AVG Training Loss:0.564 AVG Validation Loss:0.667 AVG Training Acc 75.58 % AVG Validation Acc 59.81 %\n",
      "Epoch:30/100 AVG Training Loss:0.399 AVG Validation Loss:0.649 AVG Training Acc 83.23 % AVG Validation Acc 69.76 %\n",
      "Epoch:40/100 AVG Training Loss:0.334 AVG Validation Loss:0.600 AVG Training Acc 85.30 % AVG Validation Acc 75.67 %\n",
      "Epoch:50/100 AVG Training Loss:0.293 AVG Validation Loss:0.608 AVG Training Acc 86.64 % AVG Validation Acc 74.60 %\n",
      "Epoch    53: reducing learning rate of group 0 to 3.3000e-04.\n",
      "Epoch:60/100 AVG Training Loss:0.260 AVG Validation Loss:0.525 AVG Training Acc 87.36 % AVG Validation Acc 77.82 %\n",
      "Epoch:70/100 AVG Training Loss:0.230 AVG Validation Loss:0.573 AVG Training Acc 88.88 % AVG Validation Acc 73.25 %\n",
      "Epoch:80/100 AVG Training Loss:0.205 AVG Validation Loss:0.622 AVG Training Acc 89.97 % AVG Validation Acc 72.31 %\n",
      "Epoch    89: reducing learning rate of group 0 to 1.0890e-04.\n",
      "Epoch:90/100 AVG Training Loss:0.196 AVG Validation Loss:0.670 AVG Training Acc 90.21 % AVG Validation Acc 73.92 %\n",
      "Epoch:100/100 AVG Training Loss:0.170 AVG Validation Loss:0.680 AVG Training Acc 91.69 % AVG Validation Acc 73.39 %\n",
      "Split 6\n"
     ]
    },
    {
     "data": {
      "application/vnd.jupyter.widget-view+json": {
       "model_id": "387bc6d3f78e44449086514c4de36966",
       "version_major": 2,
       "version_minor": 0
      },
      "text/plain": [
       "  0%|          | 0/100 [00:00<?, ?it/s]"
      ]
     },
     "metadata": {},
     "output_type": "display_data"
    },
    {
     "name": "stdout",
     "output_type": "stream",
     "text": [
      "Epoch:10/100 AVG Training Loss:0.649 AVG Validation Loss:0.857 AVG Training Acc 65.56 % AVG Validation Acc 20.56 %\n",
      "Epoch:20/100 AVG Training Loss:0.493 AVG Validation Loss:0.648 AVG Training Acc 79.22 % AVG Validation Acc 66.94 %\n",
      "Epoch:30/100 AVG Training Loss:0.365 AVG Validation Loss:0.638 AVG Training Acc 83.71 % AVG Validation Acc 73.92 %\n",
      "Epoch:40/100 AVG Training Loss:0.320 AVG Validation Loss:0.581 AVG Training Acc 86.01 % AVG Validation Acc 75.13 %\n",
      "Epoch:50/100 AVG Training Loss:0.284 AVG Validation Loss:0.617 AVG Training Acc 87.05 % AVG Validation Acc 72.58 %\n",
      "Epoch    57: reducing learning rate of group 0 to 3.3000e-04.\n",
      "Epoch:60/100 AVG Training Loss:0.245 AVG Validation Loss:0.563 AVG Training Acc 88.03 % AVG Validation Acc 76.21 %\n",
      "Epoch:70/100 AVG Training Loss:0.202 AVG Validation Loss:0.640 AVG Training Acc 90.45 % AVG Validation Acc 74.33 %\n",
      "Epoch:80/100 AVG Training Loss:0.182 AVG Validation Loss:0.779 AVG Training Acc 90.93 % AVG Validation Acc 73.66 %\n",
      "Epoch:90/100 AVG Training Loss:0.163 AVG Validation Loss:0.797 AVG Training Acc 91.99 % AVG Validation Acc 73.52 %\n",
      "Epoch    93: reducing learning rate of group 0 to 1.0890e-04.\n",
      "Epoch:100/100 AVG Training Loss:0.136 AVG Validation Loss:1.002 AVG Training Acc 93.50 % AVG Validation Acc 72.58 %\n",
      "Split 7\n"
     ]
    },
    {
     "data": {
      "application/vnd.jupyter.widget-view+json": {
       "model_id": "bfa8b5ae4b3342b6874a19d924c8aa22",
       "version_major": 2,
       "version_minor": 0
      },
      "text/plain": [
       "  0%|          | 0/100 [00:00<?, ?it/s]"
      ]
     },
     "metadata": {},
     "output_type": "display_data"
    },
    {
     "name": "stdout",
     "output_type": "stream",
     "text": [
      "Epoch:10/100 AVG Training Loss:0.660 AVG Validation Loss:0.669 AVG Training Acc 60.07 % AVG Validation Acc 49.66 %\n",
      "Epoch:20/100 AVG Training Loss:0.479 AVG Validation Loss:0.830 AVG Training Acc 79.57 % AVG Validation Acc 61.51 %\n",
      "Epoch:30/100 AVG Training Loss:0.356 AVG Validation Loss:0.623 AVG Training Acc 84.21 % AVG Validation Acc 74.02 %\n",
      "Epoch:40/100 AVG Training Loss:0.324 AVG Validation Loss:0.593 AVG Training Acc 85.29 % AVG Validation Acc 75.50 %\n",
      "Epoch:50/100 AVG Training Loss:0.276 AVG Validation Loss:0.711 AVG Training Acc 87.41 % AVG Validation Acc 64.87 %\n",
      "Epoch    53: reducing learning rate of group 0 to 3.3000e-04.\n",
      "Epoch:60/100 AVG Training Loss:0.230 AVG Validation Loss:0.683 AVG Training Acc 89.11 % AVG Validation Acc 73.35 %\n",
      "Epoch:70/100 AVG Training Loss:0.189 AVG Validation Loss:0.778 AVG Training Acc 91.31 % AVG Validation Acc 70.26 %\n",
      "Epoch:80/100 AVG Training Loss:0.157 AVG Validation Loss:0.923 AVG Training Acc 92.72 % AVG Validation Acc 70.12 %\n",
      "Epoch    89: reducing learning rate of group 0 to 1.0890e-04.\n",
      "Epoch:90/100 AVG Training Loss:0.142 AVG Validation Loss:0.889 AVG Training Acc 93.25 % AVG Validation Acc 72.01 %\n",
      "Epoch:100/100 AVG Training Loss:0.119 AVG Validation Loss:1.050 AVG Training Acc 94.53 % AVG Validation Acc 72.68 %\n",
      "Split 8\n"
     ]
    },
    {
     "data": {
      "application/vnd.jupyter.widget-view+json": {
       "model_id": "5e1db66dda0a4f7380a7bbc526912103",
       "version_major": 2,
       "version_minor": 0
      },
      "text/plain": [
       "  0%|          | 0/100 [00:00<?, ?it/s]"
      ]
     },
     "metadata": {},
     "output_type": "display_data"
    },
    {
     "name": "stdout",
     "output_type": "stream",
     "text": [
      "Epoch:10/100 AVG Training Loss:0.671 AVG Validation Loss:0.705 AVG Training Acc 57.93 % AVG Validation Acc 38.76 %\n",
      "New Best F1_score found: 40.70%\n",
      "Epoch: 14\n",
      " Accuracy: 58.82\n",
      "AUC: 64.19\n",
      "New Best F1_score found: 40.73%\n",
      "Epoch: 17\n",
      " Accuracy: 60.43\n",
      "AUC: 62.58\n",
      "Epoch:20/100 AVG Training Loss:0.522 AVG Validation Loss:0.650 AVG Training Acc 77.58 % AVG Validation Acc 66.62 %\n",
      "Epoch:30/100 AVG Training Loss:0.372 AVG Validation Loss:0.652 AVG Training Acc 83.38 % AVG Validation Acc 71.33 %\n",
      "Epoch    34: reducing learning rate of group 0 to 3.3000e-04.\n",
      "Epoch:40/100 AVG Training Loss:0.312 AVG Validation Loss:0.532 AVG Training Acc 86.18 % AVG Validation Acc 74.83 %\n",
      "Epoch:50/100 AVG Training Loss:0.278 AVG Validation Loss:0.560 AVG Training Acc 87.84 % AVG Validation Acc 74.43 %\n",
      "Epoch:60/100 AVG Training Loss:0.251 AVG Validation Loss:0.604 AVG Training Acc 89.11 % AVG Validation Acc 72.14 %\n",
      "Epoch:70/100 AVG Training Loss:0.220 AVG Validation Loss:0.696 AVG Training Acc 90.52 % AVG Validation Acc 70.52 %\n",
      "Epoch    70: reducing learning rate of group 0 to 1.0890e-04.\n",
      "Epoch:80/100 AVG Training Loss:0.203 AVG Validation Loss:0.678 AVG Training Acc 91.30 % AVG Validation Acc 72.54 %\n",
      "Epoch:90/100 AVG Training Loss:0.193 AVG Validation Loss:0.721 AVG Training Acc 91.52 % AVG Validation Acc 71.60 %\n",
      "Epoch:100/100 AVG Training Loss:0.184 AVG Validation Loss:0.775 AVG Training Acc 91.86 % AVG Validation Acc 70.93 %\n",
      "Split 9\n"
     ]
    },
    {
     "data": {
      "application/vnd.jupyter.widget-view+json": {
       "model_id": "404d47f539f64634a0a0bebc0de14f4b",
       "version_major": 2,
       "version_minor": 0
      },
      "text/plain": [
       "  0%|          | 0/100 [00:00<?, ?it/s]"
      ]
     },
     "metadata": {},
     "output_type": "display_data"
    },
    {
     "name": "stdout",
     "output_type": "stream",
     "text": [
      "Epoch:10/100 AVG Training Loss:0.815 AVG Validation Loss:1.956 AVG Training Acc 61.28 % AVG Validation Acc 20.05 %\n",
      "Epoch:20/100 AVG Training Loss:0.545 AVG Validation Loss:0.757 AVG Training Acc 76.01 % AVG Validation Acc 58.41 %\n",
      "Epoch:30/100 AVG Training Loss:0.378 AVG Validation Loss:0.678 AVG Training Acc 83.85 % AVG Validation Acc 72.27 %\n",
      "Epoch:40/100 AVG Training Loss:0.335 AVG Validation Loss:0.547 AVG Training Acc 85.05 % AVG Validation Acc 77.12 %\n",
      "Epoch:50/100 AVG Training Loss:0.300 AVG Validation Loss:0.555 AVG Training Acc 86.00 % AVG Validation Acc 75.64 %\n",
      "Epoch:60/100 AVG Training Loss:0.281 AVG Validation Loss:0.595 AVG Training Acc 86.81 % AVG Validation Acc 71.06 %\n",
      "Epoch    67: reducing learning rate of group 0 to 3.3000e-04.\n",
      "Epoch:70/100 AVG Training Loss:0.239 AVG Validation Loss:0.613 AVG Training Acc 88.52 % AVG Validation Acc 78.06 %\n",
      "Epoch:80/100 AVG Training Loss:0.192 AVG Validation Loss:0.693 AVG Training Acc 91.00 % AVG Validation Acc 76.99 %\n",
      "Epoch:90/100 AVG Training Loss:0.163 AVG Validation Loss:0.814 AVG Training Acc 91.90 % AVG Validation Acc 75.64 %\n",
      "Epoch:100/100 AVG Training Loss:0.142 AVG Validation Loss:0.903 AVG Training Acc 93.04 % AVG Validation Acc 75.64 %\n",
      "Split 10\n"
     ]
    },
    {
     "data": {
      "application/vnd.jupyter.widget-view+json": {
       "model_id": "095422d6e6fa443ca4f0a65509c34839",
       "version_major": 2,
       "version_minor": 0
      },
      "text/plain": [
       "  0%|          | 0/100 [00:00<?, ?it/s]"
      ]
     },
     "metadata": {},
     "output_type": "display_data"
    },
    {
     "name": "stdout",
     "output_type": "stream",
     "text": [
      "Epoch:10/100 AVG Training Loss:0.997 AVG Validation Loss:2.277 AVG Training Acc 58.83 % AVG Validation Acc 20.19 %\n",
      "Epoch:20/100 AVG Training Loss:0.624 AVG Validation Loss:0.611 AVG Training Acc 70.50 % AVG Validation Acc 60.03 %\n",
      "Epoch:30/100 AVG Training Loss:0.436 AVG Validation Loss:1.008 AVG Training Acc 81.90 % AVG Validation Acc 61.91 %\n",
      "Epoch:40/100 AVG Training Loss:0.339 AVG Validation Loss:0.568 AVG Training Acc 85.44 % AVG Validation Acc 75.77 %\n",
      "Epoch:50/100 AVG Training Loss:0.313 AVG Validation Loss:0.556 AVG Training Acc 86.49 % AVG Validation Acc 76.58 %\n",
      "Epoch:60/100 AVG Training Loss:0.279 AVG Validation Loss:0.576 AVG Training Acc 87.51 % AVG Validation Acc 75.24 %\n",
      "Epoch    63: reducing learning rate of group 0 to 3.3000e-04.\n",
      "Epoch:70/100 AVG Training Loss:0.230 AVG Validation Loss:0.580 AVG Training Acc 89.00 % AVG Validation Acc 76.99 %\n",
      "Epoch:80/100 AVG Training Loss:0.197 AVG Validation Loss:0.664 AVG Training Acc 90.57 % AVG Validation Acc 73.76 %\n",
      "Epoch:90/100 AVG Training Loss:0.165 AVG Validation Loss:0.795 AVG Training Acc 92.49 % AVG Validation Acc 75.24 %\n",
      "Epoch    99: reducing learning rate of group 0 to 1.0890e-04.\n",
      "Epoch:100/100 AVG Training Loss:0.155 AVG Validation Loss:0.835 AVG Training Acc 92.88 % AVG Validation Acc 74.16 %\n",
      "Replica 5\n"
     ]
    },
    {
     "data": {
      "application/vnd.jupyter.widget-view+json": {
       "model_id": "a3850f077acc405a808a6a59dc595a69",
       "version_major": 2,
       "version_minor": 0
      },
      "text/plain": [
       "0it [00:00, ?it/s]"
      ]
     },
     "metadata": {},
     "output_type": "display_data"
    },
    {
     "name": "stdout",
     "output_type": "stream",
     "text": [
      "Split 1\n"
     ]
    },
    {
     "data": {
      "application/vnd.jupyter.widget-view+json": {
       "model_id": "f594fe43066e48fcb6cdd829a621770f",
       "version_major": 2,
       "version_minor": 0
      },
      "text/plain": [
       "  0%|          | 0/100 [00:00<?, ?it/s]"
      ]
     },
     "metadata": {},
     "output_type": "display_data"
    },
    {
     "name": "stdout",
     "output_type": "stream",
     "text": [
      "Epoch:10/100 AVG Training Loss:0.950 AVG Validation Loss:0.697 AVG Training Acc 33.90 % AVG Validation Acc 36.02 %\n",
      "Epoch:20/100 AVG Training Loss:0.683 AVG Validation Loss:0.691 AVG Training Acc 55.51 % AVG Validation Acc 47.98 %\n",
      "Epoch:30/100 AVG Training Loss:0.471 AVG Validation Loss:0.660 AVG Training Acc 79.63 % AVG Validation Acc 69.62 %\n",
      "Epoch:40/100 AVG Training Loss:0.374 AVG Validation Loss:0.631 AVG Training Acc 83.22 % AVG Validation Acc 75.00 %\n",
      "Epoch:50/100 AVG Training Loss:0.329 AVG Validation Loss:0.557 AVG Training Acc 84.93 % AVG Validation Acc 76.48 %\n",
      "Epoch:60/100 AVG Training Loss:0.296 AVG Validation Loss:0.557 AVG Training Acc 86.01 % AVG Validation Acc 76.75 %\n",
      "Epoch:70/100 AVG Training Loss:0.270 AVG Validation Loss:0.581 AVG Training Acc 87.08 % AVG Validation Acc 76.48 %\n",
      "Epoch    72: reducing learning rate of group 0 to 3.3000e-04.\n",
      "Epoch:80/100 AVG Training Loss:0.216 AVG Validation Loss:0.675 AVG Training Acc 89.36 % AVG Validation Acc 75.94 %\n",
      "Epoch:90/100 AVG Training Loss:0.187 AVG Validation Loss:0.744 AVG Training Acc 90.51 % AVG Validation Acc 75.27 %\n",
      "Epoch:100/100 AVG Training Loss:0.166 AVG Validation Loss:0.826 AVG Training Acc 91.91 % AVG Validation Acc 74.19 %\n",
      "Split 2\n"
     ]
    },
    {
     "data": {
      "application/vnd.jupyter.widget-view+json": {
       "model_id": "34abd0b1d2f3480db5bc39485d6439a4",
       "version_major": 2,
       "version_minor": 0
      },
      "text/plain": [
       "  0%|          | 0/100 [00:00<?, ?it/s]"
      ]
     },
     "metadata": {},
     "output_type": "display_data"
    },
    {
     "name": "stdout",
     "output_type": "stream",
     "text": [
      "Epoch:10/100 AVG Training Loss:0.683 AVG Validation Loss:0.692 AVG Training Acc 54.24 % AVG Validation Acc 42.20 %\n",
      "Epoch:20/100 AVG Training Loss:0.506 AVG Validation Loss:0.666 AVG Training Acc 77.74 % AVG Validation Acc 66.67 %\n",
      "Epoch:30/100 AVG Training Loss:0.384 AVG Validation Loss:0.642 AVG Training Acc 82.87 % AVG Validation Acc 71.51 %\n",
      "Epoch:40/100 AVG Training Loss:0.342 AVG Validation Loss:0.589 AVG Training Acc 84.96 % AVG Validation Acc 75.00 %\n",
      "Epoch:50/100 AVG Training Loss:0.306 AVG Validation Loss:0.595 AVG Training Acc 86.40 % AVG Validation Acc 74.60 %\n",
      "Epoch:60/100 AVG Training Loss:0.267 AVG Validation Loss:0.643 AVG Training Acc 87.75 % AVG Validation Acc 74.06 %\n",
      "Epoch:70/100 AVG Training Loss:0.225 AVG Validation Loss:0.616 AVG Training Acc 89.29 % AVG Validation Acc 75.67 %\n",
      "Epoch    74: reducing learning rate of group 0 to 3.3000e-04.\n",
      "Epoch:80/100 AVG Training Loss:0.185 AVG Validation Loss:0.751 AVG Training Acc 91.42 % AVG Validation Acc 76.21 %\n",
      "Epoch:90/100 AVG Training Loss:0.158 AVG Validation Loss:0.886 AVG Training Acc 92.65 % AVG Validation Acc 74.73 %\n",
      "Epoch:100/100 AVG Training Loss:0.145 AVG Validation Loss:1.063 AVG Training Acc 93.29 % AVG Validation Acc 74.87 %\n",
      "Split 3\n"
     ]
    },
    {
     "data": {
      "application/vnd.jupyter.widget-view+json": {
       "model_id": "28b6754d3fe1401886f9aee3782ee51a",
       "version_major": 2,
       "version_minor": 0
      },
      "text/plain": [
       "  0%|          | 0/100 [00:00<?, ?it/s]"
      ]
     },
     "metadata": {},
     "output_type": "display_data"
    },
    {
     "name": "stdout",
     "output_type": "stream",
     "text": [
      "Epoch:10/100 AVG Training Loss:0.659 AVG Validation Loss:0.699 AVG Training Acc 61.03 % AVG Validation Acc 36.56 %\n",
      "Epoch:20/100 AVG Training Loss:0.512 AVG Validation Loss:0.739 AVG Training Acc 78.31 % AVG Validation Acc 64.65 %\n",
      "Epoch:30/100 AVG Training Loss:0.370 AVG Validation Loss:0.674 AVG Training Acc 83.50 % AVG Validation Acc 72.18 %\n",
      "Epoch    31: reducing learning rate of group 0 to 3.3000e-04.\n",
      "Epoch:40/100 AVG Training Loss:0.322 AVG Validation Loss:0.515 AVG Training Acc 85.67 % AVG Validation Acc 77.02 %\n",
      "Epoch:50/100 AVG Training Loss:0.294 AVG Validation Loss:0.526 AVG Training Acc 86.70 % AVG Validation Acc 77.55 %\n",
      "Epoch:60/100 AVG Training Loss:0.268 AVG Validation Loss:0.541 AVG Training Acc 87.77 % AVG Validation Acc 75.54 %\n",
      "Epoch    67: reducing learning rate of group 0 to 1.0890e-04.\n",
      "Epoch:70/100 AVG Training Loss:0.240 AVG Validation Loss:0.569 AVG Training Acc 89.08 % AVG Validation Acc 77.02 %\n",
      "Epoch:80/100 AVG Training Loss:0.226 AVG Validation Loss:0.620 AVG Training Acc 89.77 % AVG Validation Acc 76.75 %\n",
      "Epoch:90/100 AVG Training Loss:0.213 AVG Validation Loss:0.663 AVG Training Acc 90.36 % AVG Validation Acc 75.94 %\n",
      "Epoch:100/100 AVG Training Loss:0.201 AVG Validation Loss:0.683 AVG Training Acc 90.97 % AVG Validation Acc 74.87 %\n",
      "Split 4\n"
     ]
    },
    {
     "data": {
      "application/vnd.jupyter.widget-view+json": {
       "model_id": "efb595a5e5824cfe80c19badc584b23a",
       "version_major": 2,
       "version_minor": 0
      },
      "text/plain": [
       "  0%|          | 0/100 [00:00<?, ?it/s]"
      ]
     },
     "metadata": {},
     "output_type": "display_data"
    },
    {
     "name": "stdout",
     "output_type": "stream",
     "text": [
      "Epoch:10/100 AVG Training Loss:0.703 AVG Validation Loss:0.693 AVG Training Acc 39.94 % AVG Validation Acc 37.77 %\n",
      "Epoch:20/100 AVG Training Loss:0.561 AVG Validation Loss:1.087 AVG Training Acc 76.06 % AVG Validation Acc 45.70 %\n",
      "Epoch:30/100 AVG Training Loss:0.425 AVG Validation Loss:0.712 AVG Training Acc 82.06 % AVG Validation Acc 68.68 %\n",
      "Epoch    37: reducing learning rate of group 0 to 3.3000e-04.\n",
      "Epoch:40/100 AVG Training Loss:0.328 AVG Validation Loss:0.502 AVG Training Acc 85.61 % AVG Validation Acc 78.23 %\n",
      "Epoch:50/100 AVG Training Loss:0.310 AVG Validation Loss:0.510 AVG Training Acc 86.01 % AVG Validation Acc 77.15 %\n",
      "Epoch:60/100 AVG Training Loss:0.291 AVG Validation Loss:0.544 AVG Training Acc 86.48 % AVG Validation Acc 76.75 %\n",
      "Epoch:70/100 AVG Training Loss:0.269 AVG Validation Loss:0.597 AVG Training Acc 87.31 % AVG Validation Acc 74.33 %\n",
      "Epoch    73: reducing learning rate of group 0 to 1.0890e-04.\n",
      "Epoch:80/100 AVG Training Loss:0.250 AVG Validation Loss:0.589 AVG Training Acc 88.00 % AVG Validation Acc 76.34 %\n",
      "Epoch:90/100 AVG Training Loss:0.238 AVG Validation Loss:0.622 AVG Training Acc 88.59 % AVG Validation Acc 75.94 %\n",
      "Epoch:100/100 AVG Training Loss:0.229 AVG Validation Loss:0.668 AVG Training Acc 88.87 % AVG Validation Acc 75.00 %\n",
      "Split 5\n"
     ]
    },
    {
     "data": {
      "application/vnd.jupyter.widget-view+json": {
       "model_id": "2c0c81dd7f8f47d38ceaded18a809017",
       "version_major": 2,
       "version_minor": 0
      },
      "text/plain": [
       "  0%|          | 0/100 [00:00<?, ?it/s]"
      ]
     },
     "metadata": {},
     "output_type": "display_data"
    },
    {
     "name": "stdout",
     "output_type": "stream",
     "text": [
      "Epoch:10/100 AVG Training Loss:0.675 AVG Validation Loss:0.747 AVG Training Acc 56.67 % AVG Validation Acc 39.25 %\n",
      "Epoch:20/100 AVG Training Loss:0.757 AVG Validation Loss:0.692 AVG Training Acc 65.41 % AVG Validation Acc 50.67 %\n",
      "Epoch:30/100 AVG Training Loss:0.446 AVG Validation Loss:0.808 AVG Training Acc 81.29 % AVG Validation Acc 62.50 %\n",
      "Epoch:40/100 AVG Training Loss:0.360 AVG Validation Loss:0.581 AVG Training Acc 84.29 % AVG Validation Acc 74.33 %\n",
      "Epoch:50/100 AVG Training Loss:0.333 AVG Validation Loss:0.566 AVG Training Acc 85.61 % AVG Validation Acc 74.87 %\n",
      "Epoch:60/100 AVG Training Loss:0.305 AVG Validation Loss:0.565 AVG Training Acc 86.35 % AVG Validation Acc 75.40 %\n",
      "Epoch:70/100 AVG Training Loss:0.272 AVG Validation Loss:0.680 AVG Training Acc 87.89 % AVG Validation Acc 70.16 %\n",
      "Epoch    72: reducing learning rate of group 0 to 3.3000e-04.\n",
      "Epoch:80/100 AVG Training Loss:0.229 AVG Validation Loss:0.587 AVG Training Acc 89.33 % AVG Validation Acc 74.73 %\n",
      "Epoch:90/100 AVG Training Loss:0.198 AVG Validation Loss:0.659 AVG Training Acc 90.50 % AVG Validation Acc 73.39 %\n",
      "Epoch:100/100 AVG Training Loss:0.173 AVG Validation Loss:0.729 AVG Training Acc 92.05 % AVG Validation Acc 70.70 %\n",
      "Split 6\n"
     ]
    },
    {
     "data": {
      "application/vnd.jupyter.widget-view+json": {
       "model_id": "752bc430f344453498ead769fe2f9429",
       "version_major": 2,
       "version_minor": 0
      },
      "text/plain": [
       "  0%|          | 0/100 [00:00<?, ?it/s]"
      ]
     },
     "metadata": {},
     "output_type": "display_data"
    },
    {
     "name": "stdout",
     "output_type": "stream",
     "text": [
      "Epoch:10/100 AVG Training Loss:0.654 AVG Validation Loss:0.732 AVG Training Acc 63.17 % AVG Validation Acc 31.05 %\n",
      "Epoch:20/100 AVG Training Loss:0.475 AVG Validation Loss:0.801 AVG Training Acc 79.39 % AVG Validation Acc 62.23 %\n",
      "Epoch:30/100 AVG Training Loss:0.366 AVG Validation Loss:0.644 AVG Training Acc 84.13 % AVG Validation Acc 73.25 %\n",
      "Epoch:40/100 AVG Training Loss:0.315 AVG Validation Loss:0.636 AVG Training Acc 85.70 % AVG Validation Acc 70.30 %\n",
      "Epoch:50/100 AVG Training Loss:0.269 AVG Validation Loss:0.631 AVG Training Acc 87.42 % AVG Validation Acc 68.28 %\n",
      "Epoch    50: reducing learning rate of group 0 to 3.3000e-04.\n",
      "Epoch:60/100 AVG Training Loss:0.236 AVG Validation Loss:0.617 AVG Training Acc 88.84 % AVG Validation Acc 73.25 %\n",
      "Epoch:70/100 AVG Training Loss:0.205 AVG Validation Loss:0.650 AVG Training Acc 90.40 % AVG Validation Acc 73.25 %\n",
      "Epoch:80/100 AVG Training Loss:0.178 AVG Validation Loss:0.831 AVG Training Acc 91.43 % AVG Validation Acc 71.91 %\n",
      "Epoch    86: reducing learning rate of group 0 to 1.0890e-04.\n",
      "Epoch:90/100 AVG Training Loss:0.157 AVG Validation Loss:0.831 AVG Training Acc 92.25 % AVG Validation Acc 73.92 %\n",
      "Epoch:100/100 AVG Training Loss:0.144 AVG Validation Loss:0.918 AVG Training Acc 93.09 % AVG Validation Acc 73.12 %\n",
      "Split 7\n"
     ]
    },
    {
     "data": {
      "application/vnd.jupyter.widget-view+json": {
       "model_id": "82c8615782164ede8e46f5f605939990",
       "version_major": 2,
       "version_minor": 0
      },
      "text/plain": [
       "  0%|          | 0/100 [00:00<?, ?it/s]"
      ]
     },
     "metadata": {},
     "output_type": "display_data"
    },
    {
     "name": "stdout",
     "output_type": "stream",
     "text": [
      "Epoch:10/100 AVG Training Loss:0.774 AVG Validation Loss:0.770 AVG Training Acc 36.39 % AVG Validation Acc 21.67 %\n",
      "Epoch:20/100 AVG Training Loss:0.543 AVG Validation Loss:0.938 AVG Training Acc 76.58 % AVG Validation Acc 43.07 %\n",
      "Epoch:30/100 AVG Training Loss:0.425 AVG Validation Loss:0.664 AVG Training Acc 81.89 % AVG Validation Acc 68.91 %\n",
      "Epoch    35: reducing learning rate of group 0 to 3.3000e-04.\n",
      "Epoch:40/100 AVG Training Loss:0.333 AVG Validation Loss:0.535 AVG Training Acc 85.05 % AVG Validation Acc 76.18 %\n",
      "Epoch:50/100 AVG Training Loss:0.309 AVG Validation Loss:0.552 AVG Training Acc 85.67 % AVG Validation Acc 76.18 %\n",
      "Epoch:60/100 AVG Training Loss:0.281 AVG Validation Loss:0.590 AVG Training Acc 86.91 % AVG Validation Acc 74.16 %\n",
      "Epoch:70/100 AVG Training Loss:0.257 AVG Validation Loss:0.587 AVG Training Acc 88.19 % AVG Validation Acc 75.24 %\n",
      "Epoch    71: reducing learning rate of group 0 to 1.0890e-04.\n",
      "Epoch:80/100 AVG Training Loss:0.237 AVG Validation Loss:0.638 AVG Training Acc 88.95 % AVG Validation Acc 75.10 %\n",
      "Epoch:90/100 AVG Training Loss:0.226 AVG Validation Loss:0.683 AVG Training Acc 89.52 % AVG Validation Acc 73.62 %\n",
      "Epoch:100/100 AVG Training Loss:0.215 AVG Validation Loss:0.747 AVG Training Acc 89.98 % AVG Validation Acc 73.62 %\n",
      "Split 8\n"
     ]
    },
    {
     "data": {
      "application/vnd.jupyter.widget-view+json": {
       "model_id": "ff40397ea44948b99ac45cce567e7bdc",
       "version_major": 2,
       "version_minor": 0
      },
      "text/plain": [
       "  0%|          | 0/100 [00:00<?, ?it/s]"
      ]
     },
     "metadata": {},
     "output_type": "display_data"
    },
    {
     "name": "stdout",
     "output_type": "stream",
     "text": [
      "Epoch:10/100 AVG Training Loss:0.659 AVG Validation Loss:0.669 AVG Training Acc 60.36 % AVG Validation Acc 48.32 %\n",
      "New Best F1_score found: 40.75%\n",
      "Epoch: 14\n",
      " Accuracy: 65.95\n",
      "AUC: 65.60\n",
      "Epoch:20/100 AVG Training Loss:0.519 AVG Validation Loss:0.656 AVG Training Acc 78.37 % AVG Validation Acc 65.68 %\n",
      "Epoch:30/100 AVG Training Loss:0.380 AVG Validation Loss:0.575 AVG Training Acc 83.00 % AVG Validation Acc 75.10 %\n",
      "Epoch:40/100 AVG Training Loss:0.334 AVG Validation Loss:0.556 AVG Training Acc 85.37 % AVG Validation Acc 76.58 %\n",
      "Epoch:50/100 AVG Training Loss:0.298 AVG Validation Loss:0.572 AVG Training Acc 86.79 % AVG Validation Acc 73.76 %\n",
      "Epoch:60/100 AVG Training Loss:0.273 AVG Validation Loss:0.591 AVG Training Acc 87.38 % AVG Validation Acc 72.27 %\n",
      "Epoch    60: reducing learning rate of group 0 to 3.3000e-04.\n",
      "Epoch:70/100 AVG Training Loss:0.206 AVG Validation Loss:0.616 AVG Training Acc 90.79 % AVG Validation Acc 71.87 %\n",
      "Epoch:80/100 AVG Training Loss:0.170 AVG Validation Loss:0.692 AVG Training Acc 92.48 % AVG Validation Acc 70.79 %\n",
      "Epoch:90/100 AVG Training Loss:0.146 AVG Validation Loss:0.791 AVG Training Acc 93.29 % AVG Validation Acc 70.66 %\n",
      "Epoch    96: reducing learning rate of group 0 to 1.0890e-04.\n",
      "Epoch:100/100 AVG Training Loss:0.135 AVG Validation Loss:0.841 AVG Training Acc 93.78 % AVG Validation Acc 71.60 %\n",
      "Split 9\n"
     ]
    },
    {
     "data": {
      "application/vnd.jupyter.widget-view+json": {
       "model_id": "5c087bd17c5445ecb5180909b19d38e5",
       "version_major": 2,
       "version_minor": 0
      },
      "text/plain": [
       "  0%|          | 0/100 [00:00<?, ?it/s]"
      ]
     },
     "metadata": {},
     "output_type": "display_data"
    },
    {
     "name": "stdout",
     "output_type": "stream",
     "text": [
      "Epoch:10/100 AVG Training Loss:0.651 AVG Validation Loss:1.953 AVG Training Acc 61.19 % AVG Validation Acc 20.05 %\n",
      "Epoch:20/100 AVG Training Loss:0.768 AVG Validation Loss:0.712 AVG Training Acc 53.90 % AVG Validation Acc 47.38 %\n",
      "Epoch:30/100 AVG Training Loss:0.439 AVG Validation Loss:0.723 AVG Training Acc 80.69 % AVG Validation Acc 68.37 %\n",
      "Epoch:40/100 AVG Training Loss:0.367 AVG Validation Loss:0.549 AVG Training Acc 84.06 % AVG Validation Acc 75.77 %\n",
      "Epoch:50/100 AVG Training Loss:0.345 AVG Validation Loss:0.536 AVG Training Acc 85.24 % AVG Validation Acc 77.12 %\n",
      "Epoch:60/100 AVG Training Loss:0.327 AVG Validation Loss:0.544 AVG Training Acc 85.76 % AVG Validation Acc 77.79 %\n",
      "Epoch    65: reducing learning rate of group 0 to 3.3000e-04.\n",
      "Epoch:70/100 AVG Training Loss:0.305 AVG Validation Loss:0.499 AVG Training Acc 86.54 % AVG Validation Acc 79.00 %\n",
      "Epoch:80/100 AVG Training Loss:0.288 AVG Validation Loss:0.510 AVG Training Acc 87.04 % AVG Validation Acc 79.54 %\n",
      "Epoch:90/100 AVG Training Loss:0.269 AVG Validation Loss:0.532 AVG Training Acc 87.62 % AVG Validation Acc 78.20 %\n",
      "Epoch:100/100 AVG Training Loss:0.250 AVG Validation Loss:0.548 AVG Training Acc 88.39 % AVG Validation Acc 77.93 %\n",
      "Split 10\n"
     ]
    },
    {
     "data": {
      "application/vnd.jupyter.widget-view+json": {
       "model_id": "fa3addf4bbe54dd3b193e3e596c2ec38",
       "version_major": 2,
       "version_minor": 0
      },
      "text/plain": [
       "  0%|          | 0/100 [00:00<?, ?it/s]"
      ]
     },
     "metadata": {},
     "output_type": "display_data"
    },
    {
     "name": "stdout",
     "output_type": "stream",
     "text": [
      "Epoch:10/100 AVG Training Loss:0.653 AVG Validation Loss:0.740 AVG Training Acc 62.42 % AVG Validation Acc 22.48 %\n",
      "Epoch:20/100 AVG Training Loss:0.491 AVG Validation Loss:0.712 AVG Training Acc 79.62 % AVG Validation Acc 60.03 %\n",
      "Epoch:30/100 AVG Training Loss:0.370 AVG Validation Loss:0.656 AVG Training Acc 83.83 % AVG Validation Acc 71.60 %\n",
      "Epoch    31: reducing learning rate of group 0 to 3.3000e-04.\n",
      "Epoch:40/100 AVG Training Loss:0.329 AVG Validation Loss:0.541 AVG Training Acc 85.30 % AVG Validation Acc 76.45 %\n",
      "Epoch:50/100 AVG Training Loss:0.304 AVG Validation Loss:0.552 AVG Training Acc 86.00 % AVG Validation Acc 77.52 %\n",
      "Epoch:60/100 AVG Training Loss:0.273 AVG Validation Loss:0.566 AVG Training Acc 87.25 % AVG Validation Acc 76.31 %\n",
      "Epoch    67: reducing learning rate of group 0 to 1.0890e-04.\n",
      "Epoch:70/100 AVG Training Loss:0.251 AVG Validation Loss:0.571 AVG Training Acc 88.43 % AVG Validation Acc 77.12 %\n",
      "Epoch:80/100 AVG Training Loss:0.236 AVG Validation Loss:0.605 AVG Training Acc 89.09 % AVG Validation Acc 76.04 %\n",
      "Epoch:90/100 AVG Training Loss:0.221 AVG Validation Loss:0.638 AVG Training Acc 89.80 % AVG Validation Acc 75.77 %\n",
      "Epoch:100/100 AVG Training Loss:0.207 AVG Validation Loss:0.677 AVG Training Acc 90.72 % AVG Validation Acc 74.83 %\n",
      "Replica 6\n"
     ]
    },
    {
     "data": {
      "application/vnd.jupyter.widget-view+json": {
       "model_id": "bc6dc5c61e184096a6218169335e44f2",
       "version_major": 2,
       "version_minor": 0
      },
      "text/plain": [
       "0it [00:00, ?it/s]"
      ]
     },
     "metadata": {},
     "output_type": "display_data"
    },
    {
     "name": "stdout",
     "output_type": "stream",
     "text": [
      "Split 1\n"
     ]
    },
    {
     "data": {
      "application/vnd.jupyter.widget-view+json": {
       "model_id": "c57d9493f96d4af0883f4931d462025f",
       "version_major": 2,
       "version_minor": 0
      },
      "text/plain": [
       "  0%|          | 0/100 [00:00<?, ?it/s]"
      ]
     },
     "metadata": {},
     "output_type": "display_data"
    },
    {
     "name": "stdout",
     "output_type": "stream",
     "text": [
      "Epoch:10/100 AVG Training Loss:0.936 AVG Validation Loss:0.897 AVG Training Acc 43.62 % AVG Validation Acc 20.03 %\n",
      "Epoch:20/100 AVG Training Loss:0.572 AVG Validation Loss:0.618 AVG Training Acc 75.40 % AVG Validation Acc 62.23 %\n",
      "Epoch:30/100 AVG Training Loss:0.418 AVG Validation Loss:0.666 AVG Training Acc 81.95 % AVG Validation Acc 70.56 %\n",
      "Epoch:40/100 AVG Training Loss:0.355 AVG Validation Loss:0.553 AVG Training Acc 84.92 % AVG Validation Acc 77.02 %\n",
      "Epoch:50/100 AVG Training Loss:0.319 AVG Validation Loss:0.555 AVG Training Acc 85.83 % AVG Validation Acc 77.82 %\n",
      "Epoch    51: reducing learning rate of group 0 to 3.3000e-04.\n",
      "Epoch:60/100 AVG Training Loss:0.300 AVG Validation Loss:0.519 AVG Training Acc 86.67 % AVG Validation Acc 79.17 %\n",
      "Epoch:70/100 AVG Training Loss:0.286 AVG Validation Loss:0.533 AVG Training Acc 86.90 % AVG Validation Acc 79.03 %\n",
      "Epoch:80/100 AVG Training Loss:0.267 AVG Validation Loss:0.555 AVG Training Acc 87.67 % AVG Validation Acc 78.76 %\n",
      "Epoch    87: reducing learning rate of group 0 to 1.0890e-04.\n",
      "Epoch:90/100 AVG Training Loss:0.252 AVG Validation Loss:0.542 AVG Training Acc 88.05 % AVG Validation Acc 78.76 %\n",
      "Epoch:100/100 AVG Training Loss:0.241 AVG Validation Loss:0.557 AVG Training Acc 88.57 % AVG Validation Acc 78.63 %\n",
      "Split 2\n"
     ]
    },
    {
     "data": {
      "application/vnd.jupyter.widget-view+json": {
       "model_id": "c8cb2ba7368542418884bf75dec3d950",
       "version_major": 2,
       "version_minor": 0
      },
      "text/plain": [
       "  0%|          | 0/100 [00:00<?, ?it/s]"
      ]
     },
     "metadata": {},
     "output_type": "display_data"
    },
    {
     "name": "stdout",
     "output_type": "stream",
     "text": [
      "Epoch:10/100 AVG Training Loss:0.551 AVG Validation Loss:3.630 AVG Training Acc 64.96 % AVG Validation Acc 20.16 %\n",
      "Epoch:20/100 AVG Training Loss:0.570 AVG Validation Loss:0.610 AVG Training Acc 75.98 % AVG Validation Acc 64.25 %\n",
      "Epoch:30/100 AVG Training Loss:0.454 AVG Validation Loss:0.656 AVG Training Acc 80.51 % AVG Validation Acc 68.15 %\n",
      "Epoch:40/100 AVG Training Loss:0.360 AVG Validation Loss:0.586 AVG Training Acc 84.38 % AVG Validation Acc 75.13 %\n",
      "Epoch:50/100 AVG Training Loss:0.337 AVG Validation Loss:0.552 AVG Training Acc 85.36 % AVG Validation Acc 75.67 %\n",
      "Epoch:60/100 AVG Training Loss:0.313 AVG Validation Loss:0.555 AVG Training Acc 86.19 % AVG Validation Acc 76.75 %\n",
      "Epoch    67: reducing learning rate of group 0 to 3.3000e-04.\n",
      "Epoch:70/100 AVG Training Loss:0.274 AVG Validation Loss:0.510 AVG Training Acc 87.06 % AVG Validation Acc 78.63 %\n",
      "Epoch:80/100 AVG Training Loss:0.247 AVG Validation Loss:0.570 AVG Training Acc 88.07 % AVG Validation Acc 76.61 %\n",
      "Epoch:90/100 AVG Training Loss:0.223 AVG Validation Loss:0.678 AVG Training Acc 88.84 % AVG Validation Acc 76.88 %\n",
      "Epoch:100/100 AVG Training Loss:0.198 AVG Validation Loss:0.781 AVG Training Acc 90.48 % AVG Validation Acc 74.60 %\n",
      "Split 3\n"
     ]
    },
    {
     "data": {
      "application/vnd.jupyter.widget-view+json": {
       "model_id": "6af84df2a8d646898281046628f12e96",
       "version_major": 2,
       "version_minor": 0
      },
      "text/plain": [
       "  0%|          | 0/100 [00:00<?, ?it/s]"
      ]
     },
     "metadata": {},
     "output_type": "display_data"
    },
    {
     "name": "stdout",
     "output_type": "stream",
     "text": [
      "Epoch:10/100 AVG Training Loss:0.943 AVG Validation Loss:1.060 AVG Training Acc 47.28 % AVG Validation Acc 20.16 %\n",
      "Epoch:20/100 AVG Training Loss:0.567 AVG Validation Loss:0.631 AVG Training Acc 75.33 % AVG Validation Acc 62.90 %\n",
      "Epoch:30/100 AVG Training Loss:0.413 AVG Validation Loss:0.766 AVG Training Acc 82.47 % AVG Validation Acc 70.03 %\n",
      "Epoch:40/100 AVG Training Loss:0.344 AVG Validation Loss:0.604 AVG Training Acc 84.88 % AVG Validation Acc 74.73 %\n",
      "Epoch:50/100 AVG Training Loss:0.315 AVG Validation Loss:0.595 AVG Training Acc 86.12 % AVG Validation Acc 74.73 %\n",
      "Epoch:60/100 AVG Training Loss:0.272 AVG Validation Loss:0.607 AVG Training Acc 87.14 % AVG Validation Acc 73.12 %\n",
      "Epoch:70/100 AVG Training Loss:0.236 AVG Validation Loss:0.676 AVG Training Acc 89.18 % AVG Validation Acc 72.98 %\n",
      "Epoch    71: reducing learning rate of group 0 to 3.3000e-04.\n",
      "Epoch:80/100 AVG Training Loss:0.195 AVG Validation Loss:0.668 AVG Training Acc 90.83 % AVG Validation Acc 74.73 %\n",
      "Epoch:90/100 AVG Training Loss:0.167 AVG Validation Loss:0.803 AVG Training Acc 92.36 % AVG Validation Acc 73.12 %\n",
      "Epoch:100/100 AVG Training Loss:0.159 AVG Validation Loss:0.864 AVG Training Acc 92.86 % AVG Validation Acc 71.37 %\n",
      "Split 4\n"
     ]
    },
    {
     "data": {
      "application/vnd.jupyter.widget-view+json": {
       "model_id": "34b2d38da55e4369897f7d9b52096a68",
       "version_major": 2,
       "version_minor": 0
      },
      "text/plain": [
       "  0%|          | 0/100 [00:00<?, ?it/s]"
      ]
     },
     "metadata": {},
     "output_type": "display_data"
    },
    {
     "name": "stdout",
     "output_type": "stream",
     "text": [
      "Epoch:10/100 AVG Training Loss:0.663 AVG Validation Loss:0.670 AVG Training Acc 58.82 % AVG Validation Acc 45.56 %\n",
      "Epoch:20/100 AVG Training Loss:0.527 AVG Validation Loss:1.434 AVG Training Acc 78.71 % AVG Validation Acc 46.77 %\n",
      "Epoch:30/100 AVG Training Loss:0.362 AVG Validation Loss:0.614 AVG Training Acc 84.12 % AVG Validation Acc 70.56 %\n",
      "Epoch:40/100 AVG Training Loss:0.310 AVG Validation Loss:0.612 AVG Training Acc 85.57 % AVG Validation Acc 72.04 %\n",
      "Epoch:50/100 AVG Training Loss:0.265 AVG Validation Loss:0.723 AVG Training Acc 87.36 % AVG Validation Acc 63.58 %\n",
      "Epoch    54: reducing learning rate of group 0 to 3.3000e-04.\n",
      "Epoch:60/100 AVG Training Loss:0.223 AVG Validation Loss:0.663 AVG Training Acc 89.48 % AVG Validation Acc 73.92 %\n",
      "Epoch:70/100 AVG Training Loss:0.182 AVG Validation Loss:0.805 AVG Training Acc 91.21 % AVG Validation Acc 72.18 %\n",
      "Epoch:80/100 AVG Training Loss:0.154 AVG Validation Loss:1.001 AVG Training Acc 92.67 % AVG Validation Acc 71.91 %\n",
      "Epoch:90/100 AVG Training Loss:0.136 AVG Validation Loss:1.176 AVG Training Acc 93.44 % AVG Validation Acc 71.24 %\n",
      "Epoch    90: reducing learning rate of group 0 to 1.0890e-04.\n",
      "Epoch:100/100 AVG Training Loss:0.121 AVG Validation Loss:1.201 AVG Training Acc 94.21 % AVG Validation Acc 73.25 %\n",
      "Split 5\n"
     ]
    },
    {
     "data": {
      "application/vnd.jupyter.widget-view+json": {
       "model_id": "e9896e0b0969463e8d73f5f9fe1f3f7f",
       "version_major": 2,
       "version_minor": 0
      },
      "text/plain": [
       "  0%|          | 0/100 [00:00<?, ?it/s]"
      ]
     },
     "metadata": {},
     "output_type": "display_data"
    },
    {
     "name": "stdout",
     "output_type": "stream",
     "text": [
      "Epoch:10/100 AVG Training Loss:0.675 AVG Validation Loss:0.708 AVG Training Acc 61.35 % AVG Validation Acc 41.53 %\n",
      "Epoch:20/100 AVG Training Loss:0.484 AVG Validation Loss:0.978 AVG Training Acc 79.83 % AVG Validation Acc 56.18 %\n",
      "Epoch:30/100 AVG Training Loss:0.355 AVG Validation Loss:0.605 AVG Training Acc 84.34 % AVG Validation Acc 75.13 %\n",
      "Epoch:40/100 AVG Training Loss:0.307 AVG Validation Loss:0.586 AVG Training Acc 86.17 % AVG Validation Acc 74.60 %\n",
      "Epoch:50/100 AVG Training Loss:0.277 AVG Validation Loss:0.670 AVG Training Acc 87.35 % AVG Validation Acc 67.61 %\n",
      "Epoch    50: reducing learning rate of group 0 to 3.3000e-04.\n",
      "Epoch:60/100 AVG Training Loss:0.246 AVG Validation Loss:0.634 AVG Training Acc 88.66 % AVG Validation Acc 74.06 %\n",
      "Epoch:70/100 AVG Training Loss:0.221 AVG Validation Loss:0.691 AVG Training Acc 89.85 % AVG Validation Acc 72.58 %\n",
      "Epoch:80/100 AVG Training Loss:0.201 AVG Validation Loss:0.747 AVG Training Acc 90.73 % AVG Validation Acc 74.33 %\n",
      "Epoch    86: reducing learning rate of group 0 to 1.0890e-04.\n",
      "Epoch:90/100 AVG Training Loss:0.183 AVG Validation Loss:0.892 AVG Training Acc 91.63 % AVG Validation Acc 72.98 %\n",
      "Epoch:100/100 AVG Training Loss:0.171 AVG Validation Loss:0.932 AVG Training Acc 92.10 % AVG Validation Acc 73.25 %\n",
      "Split 6\n"
     ]
    },
    {
     "data": {
      "application/vnd.jupyter.widget-view+json": {
       "model_id": "eebb677886a14615901b83ca183229bc",
       "version_major": 2,
       "version_minor": 0
      },
      "text/plain": [
       "  0%|          | 0/100 [00:00<?, ?it/s]"
      ]
     },
     "metadata": {},
     "output_type": "display_data"
    },
    {
     "name": "stdout",
     "output_type": "stream",
     "text": [
      "Epoch:10/100 AVG Training Loss:0.675 AVG Validation Loss:0.693 AVG Training Acc 55.88 % AVG Validation Acc 43.28 %\n",
      "Epoch:20/100 AVG Training Loss:0.509 AVG Validation Loss:0.695 AVG Training Acc 78.37 % AVG Validation Acc 63.17 %\n",
      "Epoch:30/100 AVG Training Loss:0.374 AVG Validation Loss:0.860 AVG Training Acc 83.41 % AVG Validation Acc 69.09 %\n",
      "Epoch    33: reducing learning rate of group 0 to 3.3000e-04.\n",
      "Epoch:40/100 AVG Training Loss:0.317 AVG Validation Loss:0.517 AVG Training Acc 85.60 % AVG Validation Acc 76.75 %\n",
      "Epoch:50/100 AVG Training Loss:0.285 AVG Validation Loss:0.540 AVG Training Acc 86.86 % AVG Validation Acc 74.60 %\n",
      "Epoch:60/100 AVG Training Loss:0.257 AVG Validation Loss:0.581 AVG Training Acc 88.29 % AVG Validation Acc 73.12 %\n",
      "Epoch    69: reducing learning rate of group 0 to 1.0890e-04.\n",
      "Epoch:70/100 AVG Training Loss:0.234 AVG Validation Loss:0.567 AVG Training Acc 89.33 % AVG Validation Acc 76.61 %\n",
      "Epoch:80/100 AVG Training Loss:0.220 AVG Validation Loss:0.639 AVG Training Acc 89.93 % AVG Validation Acc 75.81 %\n",
      "Epoch:90/100 AVG Training Loss:0.206 AVG Validation Loss:0.689 AVG Training Acc 90.38 % AVG Validation Acc 75.00 %\n",
      "Epoch:100/100 AVG Training Loss:0.192 AVG Validation Loss:0.725 AVG Training Acc 91.04 % AVG Validation Acc 75.27 %\n",
      "Split 7\n"
     ]
    },
    {
     "data": {
      "application/vnd.jupyter.widget-view+json": {
       "model_id": "550b5bd8aa3d44fdb31e244ef5bccc0c",
       "version_major": 2,
       "version_minor": 0
      },
      "text/plain": [
       "  0%|          | 0/100 [00:00<?, ?it/s]"
      ]
     },
     "metadata": {},
     "output_type": "display_data"
    },
    {
     "name": "stdout",
     "output_type": "stream",
     "text": [
      "Epoch:10/100 AVG Training Loss:0.652 AVG Validation Loss:0.828 AVG Training Acc 65.03 % AVG Validation Acc 20.05 %\n",
      "Epoch:20/100 AVG Training Loss:0.497 AVG Validation Loss:0.754 AVG Training Acc 79.06 % AVG Validation Acc 62.18 %\n",
      "Epoch:30/100 AVG Training Loss:0.369 AVG Validation Loss:0.677 AVG Training Acc 83.96 % AVG Validation Acc 72.01 %\n",
      "Epoch:40/100 AVG Training Loss:0.326 AVG Validation Loss:0.597 AVG Training Acc 85.56 % AVG Validation Acc 74.56 %\n",
      "Epoch:50/100 AVG Training Loss:0.310 AVG Validation Loss:1.411 AVG Training Acc 86.08 % AVG Validation Acc 64.74 %\n",
      "Epoch:60/100 AVG Training Loss:0.242 AVG Validation Loss:0.653 AVG Training Acc 88.12 % AVG Validation Acc 71.74 %\n",
      "Epoch    63: reducing learning rate of group 0 to 3.3000e-04.\n",
      "Epoch:70/100 AVG Training Loss:0.183 AVG Validation Loss:0.667 AVG Training Acc 90.95 % AVG Validation Acc 75.24 %\n",
      "Epoch:80/100 AVG Training Loss:0.143 AVG Validation Loss:0.769 AVG Training Acc 93.03 % AVG Validation Acc 73.49 %\n",
      "Epoch:90/100 AVG Training Loss:0.120 AVG Validation Loss:0.891 AVG Training Acc 94.03 % AVG Validation Acc 72.68 %\n",
      "Epoch    99: reducing learning rate of group 0 to 1.0890e-04.\n",
      "Epoch:100/100 AVG Training Loss:0.115 AVG Validation Loss:1.059 AVG Training Acc 94.60 % AVG Validation Acc 74.16 %\n",
      "Split 8\n"
     ]
    },
    {
     "data": {
      "application/vnd.jupyter.widget-view+json": {
       "model_id": "91d55a9e97cd452b8547490d0ad0770d",
       "version_major": 2,
       "version_minor": 0
      },
      "text/plain": [
       "  0%|          | 0/100 [00:00<?, ?it/s]"
      ]
     },
     "metadata": {},
     "output_type": "display_data"
    },
    {
     "name": "stdout",
     "output_type": "stream",
     "text": [
      "Epoch:10/100 AVG Training Loss:0.794 AVG Validation Loss:2.627 AVG Training Acc 65.84 % AVG Validation Acc 20.05 %\n",
      "New Best F1_score found: 42.40%\n",
      "Epoch: 19\n",
      " Accuracy: 63.80\n",
      "AUC: 65.39\n",
      "Epoch:20/100 AVG Training Loss:0.553 AVG Validation Loss:1.312 AVG Training Acc 75.17 % AVG Validation Acc 33.51 %\n",
      "Epoch:30/100 AVG Training Loss:0.530 AVG Validation Loss:0.633 AVG Training Acc 77.41 % AVG Validation Acc 65.81 %\n",
      "Epoch:40/100 AVG Training Loss:0.389 AVG Validation Loss:0.547 AVG Training Acc 83.46 % AVG Validation Acc 75.50 %\n",
      "Epoch:50/100 AVG Training Loss:0.337 AVG Validation Loss:0.664 AVG Training Acc 85.38 % AVG Validation Acc 74.56 %\n",
      "Epoch:60/100 AVG Training Loss:0.306 AVG Validation Loss:0.538 AVG Training Acc 86.48 % AVG Validation Acc 74.97 %\n",
      "Epoch    69: reducing learning rate of group 0 to 3.3000e-04.\n",
      "Epoch:70/100 AVG Training Loss:0.284 AVG Validation Loss:0.516 AVG Training Acc 86.88 % AVG Validation Acc 75.10 %\n",
      "Epoch:80/100 AVG Training Loss:0.228 AVG Validation Loss:0.561 AVG Training Acc 88.99 % AVG Validation Acc 74.83 %\n",
      "Epoch:90/100 AVG Training Loss:0.197 AVG Validation Loss:0.650 AVG Training Acc 90.73 % AVG Validation Acc 72.14 %\n",
      "Epoch:100/100 AVG Training Loss:0.177 AVG Validation Loss:0.701 AVG Training Acc 91.51 % AVG Validation Acc 73.22 %\n",
      "Split 9\n"
     ]
    },
    {
     "data": {
      "application/vnd.jupyter.widget-view+json": {
       "model_id": "a789d5a34c5b4849b6ece054e311ae71",
       "version_major": 2,
       "version_minor": 0
      },
      "text/plain": [
       "  0%|          | 0/100 [00:00<?, ?it/s]"
      ]
     },
     "metadata": {},
     "output_type": "display_data"
    },
    {
     "name": "stdout",
     "output_type": "stream",
     "text": [
      "Epoch:10/100 AVG Training Loss:0.667 AVG Validation Loss:3.248 AVG Training Acc 70.09 % AVG Validation Acc 20.19 %\n",
      "Epoch:20/100 AVG Training Loss:0.624 AVG Validation Loss:0.701 AVG Training Acc 68.10 % AVG Validation Acc 50.61 %\n",
      "Epoch    22: reducing learning rate of group 0 to 3.3000e-04.\n",
      "Epoch:30/100 AVG Training Loss:0.482 AVG Validation Loss:0.617 AVG Training Acc 79.18 % AVG Validation Acc 68.64 %\n",
      "Epoch:40/100 AVG Training Loss:0.397 AVG Validation Loss:0.619 AVG Training Acc 82.56 % AVG Validation Acc 75.64 %\n",
      "Epoch:50/100 AVG Training Loss:0.372 AVG Validation Loss:0.533 AVG Training Acc 83.94 % AVG Validation Acc 76.31 %\n",
      "Epoch:60/100 AVG Training Loss:0.353 AVG Validation Loss:0.525 AVG Training Acc 84.76 % AVG Validation Acc 77.25 %\n",
      "Epoch:70/100 AVG Training Loss:0.339 AVG Validation Loss:0.533 AVG Training Acc 85.03 % AVG Validation Acc 77.93 %\n",
      "Epoch:80/100 AVG Training Loss:0.327 AVG Validation Loss:0.518 AVG Training Acc 85.69 % AVG Validation Acc 78.20 %\n",
      "Epoch:90/100 AVG Training Loss:0.312 AVG Validation Loss:0.520 AVG Training Acc 86.16 % AVG Validation Acc 78.06 %\n",
      "Epoch:100/100 AVG Training Loss:0.301 AVG Validation Loss:0.525 AVG Training Acc 86.71 % AVG Validation Acc 79.14 %\n",
      "Split 10\n"
     ]
    },
    {
     "data": {
      "application/vnd.jupyter.widget-view+json": {
       "model_id": "3f117a80bb6548f2a2ab5de0a40f6a96",
       "version_major": 2,
       "version_minor": 0
      },
      "text/plain": [
       "  0%|          | 0/100 [00:00<?, ?it/s]"
      ]
     },
     "metadata": {},
     "output_type": "display_data"
    },
    {
     "name": "stdout",
     "output_type": "stream",
     "text": [
      "Epoch:10/100 AVG Training Loss:0.669 AVG Validation Loss:0.677 AVG Training Acc 57.78 % AVG Validation Acc 45.49 %\n",
      "Epoch:20/100 AVG Training Loss:0.601 AVG Validation Loss:0.667 AVG Training Acc 75.00 % AVG Validation Acc 58.68 %\n",
      "Epoch:30/100 AVG Training Loss:0.380 AVG Validation Loss:0.906 AVG Training Acc 83.09 % AVG Validation Acc 66.76 %\n",
      "Epoch:40/100 AVG Training Loss:0.332 AVG Validation Loss:0.579 AVG Training Acc 85.23 % AVG Validation Acc 74.16 %\n",
      "Epoch:50/100 AVG Training Loss:0.302 AVG Validation Loss:0.568 AVG Training Acc 86.08 % AVG Validation Acc 76.85 %\n",
      "Epoch:60/100 AVG Training Loss:0.257 AVG Validation Loss:0.581 AVG Training Acc 87.48 % AVG Validation Acc 75.10 %\n",
      "Epoch    69: reducing learning rate of group 0 to 3.3000e-04.\n",
      "Epoch:70/100 AVG Training Loss:0.226 AVG Validation Loss:0.628 AVG Training Acc 89.19 % AVG Validation Acc 75.24 %\n",
      "Epoch:80/100 AVG Training Loss:0.170 AVG Validation Loss:0.756 AVG Training Acc 91.90 % AVG Validation Acc 74.56 %\n",
      "Epoch:90/100 AVG Training Loss:0.136 AVG Validation Loss:0.852 AVG Training Acc 93.74 % AVG Validation Acc 74.83 %\n",
      "Epoch:100/100 AVG Training Loss:0.110 AVG Validation Loss:1.054 AVG Training Acc 94.81 % AVG Validation Acc 74.56 %\n",
      "Replica 7\n"
     ]
    },
    {
     "data": {
      "application/vnd.jupyter.widget-view+json": {
       "model_id": "c8934029db784611920e9eb4c9fd9ce1",
       "version_major": 2,
       "version_minor": 0
      },
      "text/plain": [
       "0it [00:00, ?it/s]"
      ]
     },
     "metadata": {},
     "output_type": "display_data"
    },
    {
     "name": "stdout",
     "output_type": "stream",
     "text": [
      "Split 1\n"
     ]
    },
    {
     "data": {
      "application/vnd.jupyter.widget-view+json": {
       "model_id": "1b95d33dfaa845b2a525d5fdb88b622f",
       "version_major": 2,
       "version_minor": 0
      },
      "text/plain": [
       "  0%|          | 0/100 [00:00<?, ?it/s]"
      ]
     },
     "metadata": {},
     "output_type": "display_data"
    },
    {
     "name": "stdout",
     "output_type": "stream",
     "text": [
      "Epoch:10/100 AVG Training Loss:0.655 AVG Validation Loss:0.756 AVG Training Acc 64.18 % AVG Validation Acc 22.45 %\n",
      "Epoch:20/100 AVG Training Loss:0.473 AVG Validation Loss:2.165 AVG Training Acc 79.74 % AVG Validation Acc 39.25 %\n",
      "Epoch:30/100 AVG Training Loss:0.371 AVG Validation Loss:0.635 AVG Training Acc 83.63 % AVG Validation Acc 74.60 %\n",
      "Epoch:40/100 AVG Training Loss:0.324 AVG Validation Loss:0.605 AVG Training Acc 85.72 % AVG Validation Acc 75.13 %\n",
      "Epoch:50/100 AVG Training Loss:0.280 AVG Validation Loss:0.606 AVG Training Acc 87.09 % AVG Validation Acc 74.06 %\n",
      "Epoch    50: reducing learning rate of group 0 to 3.3000e-04.\n",
      "Epoch:60/100 AVG Training Loss:0.245 AVG Validation Loss:0.573 AVG Training Acc 88.61 % AVG Validation Acc 76.88 %\n",
      "Epoch:70/100 AVG Training Loss:0.215 AVG Validation Loss:0.625 AVG Training Acc 90.06 % AVG Validation Acc 75.13 %\n",
      "Epoch:80/100 AVG Training Loss:0.197 AVG Validation Loss:0.674 AVG Training Acc 90.79 % AVG Validation Acc 74.19 %\n",
      "Epoch    86: reducing learning rate of group 0 to 1.0890e-04.\n",
      "Epoch:90/100 AVG Training Loss:0.179 AVG Validation Loss:0.841 AVG Training Acc 91.77 % AVG Validation Acc 72.58 %\n",
      "Epoch:100/100 AVG Training Loss:0.162 AVG Validation Loss:0.860 AVG Training Acc 92.44 % AVG Validation Acc 71.37 %\n",
      "Split 2\n"
     ]
    },
    {
     "data": {
      "application/vnd.jupyter.widget-view+json": {
       "model_id": "cf0125adde754a21ac679ff3a850f059",
       "version_major": 2,
       "version_minor": 0
      },
      "text/plain": [
       "  0%|          | 0/100 [00:00<?, ?it/s]"
      ]
     },
     "metadata": {},
     "output_type": "display_data"
    },
    {
     "name": "stdout",
     "output_type": "stream",
     "text": [
      "Epoch:10/100 AVG Training Loss:0.672 AVG Validation Loss:0.693 AVG Training Acc 57.05 % AVG Validation Acc 42.20 %\n",
      "Epoch:20/100 AVG Training Loss:0.483 AVG Validation Loss:1.072 AVG Training Acc 77.43 % AVG Validation Acc 54.97 %\n",
      "Epoch:30/100 AVG Training Loss:0.423 AVG Validation Loss:0.607 AVG Training Acc 82.64 % AVG Validation Acc 71.51 %\n",
      "Epoch:40/100 AVG Training Loss:0.343 AVG Validation Loss:0.560 AVG Training Acc 84.67 % AVG Validation Acc 74.33 %\n",
      "Epoch:50/100 AVG Training Loss:0.316 AVG Validation Loss:0.572 AVG Training Acc 85.69 % AVG Validation Acc 76.34 %\n",
      "Epoch:60/100 AVG Training Loss:0.285 AVG Validation Loss:0.608 AVG Training Acc 86.27 % AVG Validation Acc 75.00 %\n",
      "Epoch    61: reducing learning rate of group 0 to 3.3000e-04.\n",
      "Epoch:70/100 AVG Training Loss:0.241 AVG Validation Loss:0.601 AVG Training Acc 88.92 % AVG Validation Acc 76.88 %\n",
      "Epoch:80/100 AVG Training Loss:0.216 AVG Validation Loss:0.704 AVG Training Acc 90.06 % AVG Validation Acc 75.81 %\n",
      "Epoch:90/100 AVG Training Loss:0.195 AVG Validation Loss:0.817 AVG Training Acc 90.78 % AVG Validation Acc 76.88 %\n",
      "Epoch    97: reducing learning rate of group 0 to 1.0890e-04.\n",
      "Epoch:100/100 AVG Training Loss:0.177 AVG Validation Loss:0.768 AVG Training Acc 91.67 % AVG Validation Acc 75.81 %\n",
      "Split 3\n"
     ]
    },
    {
     "data": {
      "application/vnd.jupyter.widget-view+json": {
       "model_id": "fbc40f6141f34e118968ef54f1da265c",
       "version_major": 2,
       "version_minor": 0
      },
      "text/plain": [
       "  0%|          | 0/100 [00:00<?, ?it/s]"
      ]
     },
     "metadata": {},
     "output_type": "display_data"
    },
    {
     "name": "stdout",
     "output_type": "stream",
     "text": [
      "Epoch:10/100 AVG Training Loss:0.656 AVG Validation Loss:1.451 AVG Training Acc 56.25 % AVG Validation Acc 20.30 %\n",
      "Epoch:20/100 AVG Training Loss:0.544 AVG Validation Loss:0.810 AVG Training Acc 76.30 % AVG Validation Acc 56.45 %\n",
      "Epoch:30/100 AVG Training Loss:0.449 AVG Validation Loss:0.668 AVG Training Acc 81.71 % AVG Validation Acc 70.03 %\n",
      "Epoch:40/100 AVG Training Loss:0.331 AVG Validation Loss:0.567 AVG Training Acc 85.54 % AVG Validation Acc 76.88 %\n",
      "Epoch:50/100 AVG Training Loss:0.302 AVG Validation Loss:0.585 AVG Training Acc 86.53 % AVG Validation Acc 76.08 %\n",
      "Epoch:60/100 AVG Training Loss:0.258 AVG Validation Loss:0.612 AVG Training Acc 88.03 % AVG Validation Acc 74.19 %\n",
      "Epoch    65: reducing learning rate of group 0 to 3.3000e-04.\n",
      "Epoch:70/100 AVG Training Loss:0.222 AVG Validation Loss:0.606 AVG Training Acc 89.15 % AVG Validation Acc 76.21 %\n",
      "Epoch:80/100 AVG Training Loss:0.185 AVG Validation Loss:0.721 AVG Training Acc 91.12 % AVG Validation Acc 73.92 %\n",
      "Epoch:90/100 AVG Training Loss:0.161 AVG Validation Loss:0.815 AVG Training Acc 92.60 % AVG Validation Acc 72.04 %\n",
      "Epoch:100/100 AVG Training Loss:0.130 AVG Validation Loss:0.954 AVG Training Acc 93.87 % AVG Validation Acc 72.18 %\n",
      "Split 4\n"
     ]
    },
    {
     "data": {
      "application/vnd.jupyter.widget-view+json": {
       "model_id": "a94c180f4397449ca02d3a081ec71889",
       "version_major": 2,
       "version_minor": 0
      },
      "text/plain": [
       "  0%|          | 0/100 [00:00<?, ?it/s]"
      ]
     },
     "metadata": {},
     "output_type": "display_data"
    },
    {
     "name": "stdout",
     "output_type": "stream",
     "text": [
      "Epoch:10/100 AVG Training Loss:0.656 AVG Validation Loss:0.689 AVG Training Acc 60.74 % AVG Validation Acc 43.82 %\n",
      "Epoch:20/100 AVG Training Loss:0.588 AVG Validation Loss:0.735 AVG Training Acc 68.04 % AVG Validation Acc 58.74 %\n",
      "Epoch    26: reducing learning rate of group 0 to 3.3000e-04.\n",
      "Epoch:30/100 AVG Training Loss:0.465 AVG Validation Loss:0.624 AVG Training Acc 79.54 % AVG Validation Acc 70.83 %\n",
      "Epoch:40/100 AVG Training Loss:0.384 AVG Validation Loss:0.560 AVG Training Acc 82.68 % AVG Validation Acc 74.19 %\n",
      "Epoch:50/100 AVG Training Loss:0.350 AVG Validation Loss:0.554 AVG Training Acc 84.39 % AVG Validation Acc 75.54 %\n",
      "Epoch:60/100 AVG Training Loss:0.332 AVG Validation Loss:0.535 AVG Training Acc 85.12 % AVG Validation Acc 75.81 %\n",
      "Epoch:70/100 AVG Training Loss:0.315 AVG Validation Loss:0.558 AVG Training Acc 85.89 % AVG Validation Acc 76.21 %\n",
      "Epoch    74: reducing learning rate of group 0 to 1.0890e-04.\n",
      "Epoch:80/100 AVG Training Loss:0.302 AVG Validation Loss:0.522 AVG Training Acc 86.22 % AVG Validation Acc 77.15 %\n",
      "Epoch:90/100 AVG Training Loss:0.294 AVG Validation Loss:0.535 AVG Training Acc 86.55 % AVG Validation Acc 77.55 %\n",
      "Epoch:100/100 AVG Training Loss:0.285 AVG Validation Loss:0.545 AVG Training Acc 86.89 % AVG Validation Acc 77.15 %\n",
      "Split 5\n"
     ]
    },
    {
     "data": {
      "application/vnd.jupyter.widget-view+json": {
       "model_id": "273d760787f64b49b2c9c54a9e30bdd7",
       "version_major": 2,
       "version_minor": 0
      },
      "text/plain": [
       "  0%|          | 0/100 [00:00<?, ?it/s]"
      ]
     },
     "metadata": {},
     "output_type": "display_data"
    },
    {
     "name": "stdout",
     "output_type": "stream",
     "text": [
      "Epoch:10/100 AVG Training Loss:0.695 AVG Validation Loss:0.703 AVG Training Acc 46.10 % AVG Validation Acc 31.32 %\n",
      "Epoch:20/100 AVG Training Loss:0.687 AVG Validation Loss:0.735 AVG Training Acc 51.17 % AVG Validation Acc 32.53 %\n",
      "Epoch:30/100 AVG Training Loss:0.492 AVG Validation Loss:0.686 AVG Training Acc 79.64 % AVG Validation Acc 63.84 %\n",
      "Epoch:40/100 AVG Training Loss:0.387 AVG Validation Loss:0.577 AVG Training Acc 82.99 % AVG Validation Acc 75.40 %\n",
      "Epoch:50/100 AVG Training Loss:0.344 AVG Validation Loss:0.559 AVG Training Acc 84.80 % AVG Validation Acc 76.75 %\n",
      "Epoch:60/100 AVG Training Loss:0.305 AVG Validation Loss:0.565 AVG Training Acc 86.48 % AVG Validation Acc 76.75 %\n",
      "Epoch    65: reducing learning rate of group 0 to 3.3000e-04.\n",
      "Epoch:70/100 AVG Training Loss:0.268 AVG Validation Loss:0.585 AVG Training Acc 87.63 % AVG Validation Acc 75.54 %\n",
      "Epoch:80/100 AVG Training Loss:0.241 AVG Validation Loss:0.664 AVG Training Acc 88.66 % AVG Validation Acc 73.92 %\n",
      "Epoch:90/100 AVG Training Loss:0.224 AVG Validation Loss:0.759 AVG Training Acc 89.65 % AVG Validation Acc 73.25 %\n",
      "Epoch:100/100 AVG Training Loss:0.199 AVG Validation Loss:0.808 AVG Training Acc 90.55 % AVG Validation Acc 72.58 %\n",
      "Split 6\n"
     ]
    },
    {
     "data": {
      "application/vnd.jupyter.widget-view+json": {
       "model_id": "0e97ce6977e14031a02c24bd763e4607",
       "version_major": 2,
       "version_minor": 0
      },
      "text/plain": [
       "  0%|          | 0/100 [00:00<?, ?it/s]"
      ]
     },
     "metadata": {},
     "output_type": "display_data"
    },
    {
     "name": "stdout",
     "output_type": "stream",
     "text": [
      "Epoch:10/100 AVG Training Loss:0.508 AVG Validation Loss:4.462 AVG Training Acc 63.77 % AVG Validation Acc 20.16 %\n",
      "Epoch:20/100 AVG Training Loss:0.589 AVG Validation Loss:0.667 AVG Training Acc 73.70 % AVG Validation Acc 54.97 %\n",
      "Epoch:30/100 AVG Training Loss:0.448 AVG Validation Loss:0.691 AVG Training Acc 81.75 % AVG Validation Acc 67.88 %\n",
      "Epoch:40/100 AVG Training Loss:0.353 AVG Validation Loss:0.598 AVG Training Acc 84.77 % AVG Validation Acc 74.46 %\n",
      "Epoch:50/100 AVG Training Loss:0.322 AVG Validation Loss:0.541 AVG Training Acc 86.16 % AVG Validation Acc 76.88 %\n",
      "Epoch:60/100 AVG Training Loss:0.291 AVG Validation Loss:0.566 AVG Training Acc 86.80 % AVG Validation Acc 76.88 %\n",
      "Epoch    66: reducing learning rate of group 0 to 3.3000e-04.\n",
      "Epoch:70/100 AVG Training Loss:0.256 AVG Validation Loss:0.564 AVG Training Acc 87.78 % AVG Validation Acc 78.23 %\n",
      "Epoch:80/100 AVG Training Loss:0.222 AVG Validation Loss:0.608 AVG Training Acc 89.16 % AVG Validation Acc 75.81 %\n",
      "Epoch:90/100 AVG Training Loss:0.192 AVG Validation Loss:0.711 AVG Training Acc 90.64 % AVG Validation Acc 73.79 %\n",
      "Epoch:100/100 AVG Training Loss:0.165 AVG Validation Loss:0.845 AVG Training Acc 91.70 % AVG Validation Acc 71.37 %\n",
      "Split 7\n"
     ]
    },
    {
     "data": {
      "application/vnd.jupyter.widget-view+json": {
       "model_id": "6aa1b52f3e0b48dcbac106a385bbee3f",
       "version_major": 2,
       "version_minor": 0
      },
      "text/plain": [
       "  0%|          | 0/100 [00:00<?, ?it/s]"
      ]
     },
     "metadata": {},
     "output_type": "display_data"
    },
    {
     "name": "stdout",
     "output_type": "stream",
     "text": [
      "Epoch:10/100 AVG Training Loss:0.656 AVG Validation Loss:0.677 AVG Training Acc 60.31 % AVG Validation Acc 46.70 %\n",
      "Epoch:20/100 AVG Training Loss:0.478 AVG Validation Loss:0.707 AVG Training Acc 79.66 % AVG Validation Acc 65.95 %\n",
      "Epoch:30/100 AVG Training Loss:0.364 AVG Validation Loss:0.634 AVG Training Acc 83.86 % AVG Validation Acc 72.54 %\n",
      "Epoch    30: reducing learning rate of group 0 to 3.3000e-04.\n",
      "Epoch:40/100 AVG Training Loss:0.318 AVG Validation Loss:0.555 AVG Training Acc 85.55 % AVG Validation Acc 76.72 %\n",
      "Epoch:50/100 AVG Training Loss:0.293 AVG Validation Loss:0.559 AVG Training Acc 86.47 % AVG Validation Acc 76.45 %\n",
      "Epoch:60/100 AVG Training Loss:0.268 AVG Validation Loss:0.579 AVG Training Acc 87.68 % AVG Validation Acc 76.18 %\n",
      "Epoch    66: reducing learning rate of group 0 to 1.0890e-04.\n",
      "Epoch:70/100 AVG Training Loss:0.241 AVG Validation Loss:0.610 AVG Training Acc 89.02 % AVG Validation Acc 77.93 %\n",
      "Epoch:80/100 AVG Training Loss:0.231 AVG Validation Loss:0.626 AVG Training Acc 89.42 % AVG Validation Acc 78.06 %\n",
      "Epoch:90/100 AVG Training Loss:0.219 AVG Validation Loss:0.657 AVG Training Acc 90.23 % AVG Validation Acc 77.93 %\n",
      "Epoch:100/100 AVG Training Loss:0.207 AVG Validation Loss:0.681 AVG Training Acc 90.74 % AVG Validation Acc 76.72 %\n",
      "Split 8\n"
     ]
    },
    {
     "data": {
      "application/vnd.jupyter.widget-view+json": {
       "model_id": "e1484b90628d4424980dcda90e435eee",
       "version_major": 2,
       "version_minor": 0
      },
      "text/plain": [
       "  0%|          | 0/100 [00:00<?, ?it/s]"
      ]
     },
     "metadata": {},
     "output_type": "display_data"
    },
    {
     "name": "stdout",
     "output_type": "stream",
     "text": [
      "Epoch:10/100 AVG Training Loss:0.646 AVG Validation Loss:0.837 AVG Training Acc 65.04 % AVG Validation Acc 21.27 %\n",
      "Epoch:20/100 AVG Training Loss:0.528 AVG Validation Loss:0.731 AVG Training Acc 76.54 % AVG Validation Acc 59.76 %\n",
      "Epoch:30/100 AVG Training Loss:0.443 AVG Validation Loss:0.751 AVG Training Acc 82.12 % AVG Validation Acc 69.04 %\n",
      "Epoch    31: reducing learning rate of group 0 to 3.3000e-04.\n",
      "Epoch:40/100 AVG Training Loss:0.339 AVG Validation Loss:0.555 AVG Training Acc 85.03 % AVG Validation Acc 76.58 %\n",
      "Epoch:50/100 AVG Training Loss:0.315 AVG Validation Loss:0.568 AVG Training Acc 86.04 % AVG Validation Acc 75.37 %\n",
      "Epoch:60/100 AVG Training Loss:0.289 AVG Validation Loss:0.580 AVG Training Acc 87.02 % AVG Validation Acc 74.70 %\n",
      "Epoch    67: reducing learning rate of group 0 to 1.0890e-04.\n",
      "Epoch:70/100 AVG Training Loss:0.261 AVG Validation Loss:0.544 AVG Training Acc 88.24 % AVG Validation Acc 74.56 %\n",
      "Epoch:80/100 AVG Training Loss:0.249 AVG Validation Loss:0.564 AVG Training Acc 88.96 % AVG Validation Acc 73.62 %\n",
      "Epoch:90/100 AVG Training Loss:0.237 AVG Validation Loss:0.583 AVG Training Acc 89.41 % AVG Validation Acc 73.76 %\n",
      "Epoch:100/100 AVG Training Loss:0.225 AVG Validation Loss:0.612 AVG Training Acc 89.88 % AVG Validation Acc 74.43 %\n",
      "Split 9\n"
     ]
    },
    {
     "data": {
      "application/vnd.jupyter.widget-view+json": {
       "model_id": "9bcfe199323147ca88fd47e0ffea5e72",
       "version_major": 2,
       "version_minor": 0
      },
      "text/plain": [
       "  0%|          | 0/100 [00:00<?, ?it/s]"
      ]
     },
     "metadata": {},
     "output_type": "display_data"
    },
    {
     "name": "stdout",
     "output_type": "stream",
     "text": [
      "Epoch:10/100 AVG Training Loss:0.663 AVG Validation Loss:0.692 AVG Training Acc 60.34 % AVG Validation Acc 44.01 %\n",
      "Epoch:20/100 AVG Training Loss:0.448 AVG Validation Loss:1.300 AVG Training Acc 80.64 % AVG Validation Acc 50.87 %\n",
      "Epoch:30/100 AVG Training Loss:0.347 AVG Validation Loss:0.557 AVG Training Acc 84.72 % AVG Validation Acc 76.85 %\n",
      "Epoch:40/100 AVG Training Loss:0.305 AVG Validation Loss:0.546 AVG Training Acc 85.87 % AVG Validation Acc 75.10 %\n",
      "Epoch:50/100 AVG Training Loss:0.275 AVG Validation Loss:0.565 AVG Training Acc 87.48 % AVG Validation Acc 75.37 %\n",
      "Epoch    58: reducing learning rate of group 0 to 3.3000e-04.\n",
      "Epoch:60/100 AVG Training Loss:0.222 AVG Validation Loss:0.526 AVG Training Acc 89.79 % AVG Validation Acc 78.06 %\n",
      "Epoch:70/100 AVG Training Loss:0.179 AVG Validation Loss:0.682 AVG Training Acc 91.54 % AVG Validation Acc 76.72 %\n",
      "Epoch:80/100 AVG Training Loss:0.151 AVG Validation Loss:0.895 AVG Training Acc 92.71 % AVG Validation Acc 74.02 %\n",
      "Epoch:90/100 AVG Training Loss:0.135 AVG Validation Loss:0.947 AVG Training Acc 93.45 % AVG Validation Acc 74.29 %\n",
      "Epoch    94: reducing learning rate of group 0 to 1.0890e-04.\n",
      "Epoch:100/100 AVG Training Loss:0.118 AVG Validation Loss:1.021 AVG Training Acc 94.28 % AVG Validation Acc 73.89 %\n",
      "Split 10\n"
     ]
    },
    {
     "data": {
      "application/vnd.jupyter.widget-view+json": {
       "model_id": "e2b560e56eba409c9e9a8beec73a56ca",
       "version_major": 2,
       "version_minor": 0
      },
      "text/plain": [
       "  0%|          | 0/100 [00:00<?, ?it/s]"
      ]
     },
     "metadata": {},
     "output_type": "display_data"
    },
    {
     "name": "stdout",
     "output_type": "stream",
     "text": [
      "Epoch:10/100 AVG Training Loss:0.917 AVG Validation Loss:0.877 AVG Training Acc 42.93 % AVG Validation Acc 20.19 %\n",
      "Epoch:20/100 AVG Training Loss:0.570 AVG Validation Loss:0.627 AVG Training Acc 75.64 % AVG Validation Acc 63.80 %\n",
      "Epoch:30/100 AVG Training Loss:0.389 AVG Validation Loss:0.611 AVG Training Acc 83.25 % AVG Validation Acc 72.27 %\n",
      "Epoch:40/100 AVG Training Loss:0.338 AVG Validation Loss:0.566 AVG Training Acc 85.06 % AVG Validation Acc 76.31 %\n",
      "Epoch:50/100 AVG Training Loss:0.313 AVG Validation Loss:0.558 AVG Training Acc 85.78 % AVG Validation Acc 76.31 %\n",
      "Epoch:60/100 AVG Training Loss:0.269 AVG Validation Loss:0.635 AVG Training Acc 87.71 % AVG Validation Acc 67.97 %\n",
      "Epoch    62: reducing learning rate of group 0 to 3.3000e-04.\n",
      "Epoch:70/100 AVG Training Loss:0.225 AVG Validation Loss:0.660 AVG Training Acc 89.31 % AVG Validation Acc 74.29 %\n",
      "Epoch:80/100 AVG Training Loss:0.189 AVG Validation Loss:0.767 AVG Training Acc 90.87 % AVG Validation Acc 73.22 %\n",
      "Epoch:90/100 AVG Training Loss:0.162 AVG Validation Loss:0.852 AVG Training Acc 92.47 % AVG Validation Acc 74.56 %\n",
      "Epoch    98: reducing learning rate of group 0 to 1.0890e-04.\n",
      "Epoch:100/100 AVG Training Loss:0.157 AVG Validation Loss:0.914 AVG Training Acc 92.76 % AVG Validation Acc 75.10 %\n",
      "Replica 8\n"
     ]
    },
    {
     "data": {
      "application/vnd.jupyter.widget-view+json": {
       "model_id": "721bca069dcd451aad1634b96ce1ae3f",
       "version_major": 2,
       "version_minor": 0
      },
      "text/plain": [
       "0it [00:00, ?it/s]"
      ]
     },
     "metadata": {},
     "output_type": "display_data"
    },
    {
     "name": "stdout",
     "output_type": "stream",
     "text": [
      "Split 1\n"
     ]
    },
    {
     "data": {
      "application/vnd.jupyter.widget-view+json": {
       "model_id": "aaebb1a555f4457784f8ad4648c45876",
       "version_major": 2,
       "version_minor": 0
      },
      "text/plain": [
       "  0%|          | 0/100 [00:00<?, ?it/s]"
      ]
     },
     "metadata": {},
     "output_type": "display_data"
    },
    {
     "name": "stdout",
     "output_type": "stream",
     "text": [
      "Epoch:10/100 AVG Training Loss:0.665 AVG Validation Loss:0.701 AVG Training Acc 61.30 % AVG Validation Acc 40.99 %\n",
      "Epoch:20/100 AVG Training Loss:0.473 AVG Validation Loss:0.839 AVG Training Acc 79.93 % AVG Validation Acc 63.17 %\n",
      "Epoch:30/100 AVG Training Loss:0.342 AVG Validation Loss:0.584 AVG Training Acc 84.87 % AVG Validation Acc 77.82 %\n",
      "Epoch:40/100 AVG Training Loss:0.294 AVG Validation Loss:0.599 AVG Training Acc 86.17 % AVG Validation Acc 71.91 %\n",
      "Epoch:50/100 AVG Training Loss:0.253 AVG Validation Loss:0.589 AVG Training Acc 88.18 % AVG Validation Acc 71.51 %\n",
      "Epoch    59: reducing learning rate of group 0 to 3.3000e-04.\n",
      "Epoch:60/100 AVG Training Loss:0.228 AVG Validation Loss:0.615 AVG Training Acc 89.02 % AVG Validation Acc 77.55 %\n",
      "Epoch:70/100 AVG Training Loss:0.165 AVG Validation Loss:0.735 AVG Training Acc 92.54 % AVG Validation Acc 75.27 %\n",
      "Epoch:80/100 AVG Training Loss:0.135 AVG Validation Loss:0.891 AVG Training Acc 93.55 % AVG Validation Acc 74.19 %\n",
      "Epoch:90/100 AVG Training Loss:0.114 AVG Validation Loss:0.952 AVG Training Acc 94.81 % AVG Validation Acc 73.39 %\n",
      "Epoch    95: reducing learning rate of group 0 to 1.0890e-04.\n",
      "Epoch:100/100 AVG Training Loss:0.102 AVG Validation Loss:1.125 AVG Training Acc 95.23 % AVG Validation Acc 72.45 %\n",
      "Split 2\n"
     ]
    },
    {
     "data": {
      "application/vnd.jupyter.widget-view+json": {
       "model_id": "5235714afd654162a6b253e7d43a28fe",
       "version_major": 2,
       "version_minor": 0
      },
      "text/plain": [
       "  0%|          | 0/100 [00:00<?, ?it/s]"
      ]
     },
     "metadata": {},
     "output_type": "display_data"
    },
    {
     "name": "stdout",
     "output_type": "stream",
     "text": [
      "Epoch:10/100 AVG Training Loss:0.819 AVG Validation Loss:2.644 AVG Training Acc 69.90 % AVG Validation Acc 20.16 %\n",
      "Epoch:20/100 AVG Training Loss:0.680 AVG Validation Loss:0.772 AVG Training Acc 68.20 % AVG Validation Acc 38.44 %\n",
      "Epoch:30/100 AVG Training Loss:0.499 AVG Validation Loss:0.643 AVG Training Acc 79.25 % AVG Validation Acc 70.83 %\n",
      "Epoch:40/100 AVG Training Loss:0.350 AVG Validation Loss:0.573 AVG Training Acc 84.71 % AVG Validation Acc 76.34 %\n",
      "Epoch:50/100 AVG Training Loss:0.321 AVG Validation Loss:0.553 AVG Training Acc 86.33 % AVG Validation Acc 75.40 %\n",
      "Epoch:60/100 AVG Training Loss:0.287 AVG Validation Loss:0.574 AVG Training Acc 86.87 % AVG Validation Acc 75.94 %\n",
      "Epoch    61: reducing learning rate of group 0 to 3.3000e-04.\n",
      "Epoch:70/100 AVG Training Loss:0.240 AVG Validation Loss:0.541 AVG Training Acc 88.45 % AVG Validation Acc 77.55 %\n",
      "Epoch:80/100 AVG Training Loss:0.211 AVG Validation Loss:0.606 AVG Training Acc 89.91 % AVG Validation Acc 75.81 %\n",
      "Epoch:90/100 AVG Training Loss:0.184 AVG Validation Loss:0.692 AVG Training Acc 91.15 % AVG Validation Acc 73.25 %\n",
      "Epoch    97: reducing learning rate of group 0 to 1.0890e-04.\n",
      "Epoch:100/100 AVG Training Loss:0.165 AVG Validation Loss:0.745 AVG Training Acc 92.16 % AVG Validation Acc 74.46 %\n",
      "Split 3\n"
     ]
    },
    {
     "data": {
      "application/vnd.jupyter.widget-view+json": {
       "model_id": "10069992eee14491a0ee925f4012125d",
       "version_major": 2,
       "version_minor": 0
      },
      "text/plain": [
       "  0%|          | 0/100 [00:00<?, ?it/s]"
      ]
     },
     "metadata": {},
     "output_type": "display_data"
    },
    {
     "name": "stdout",
     "output_type": "stream",
     "text": [
      "Epoch:10/100 AVG Training Loss:0.921 AVG Validation Loss:0.896 AVG Training Acc 47.46 % AVG Validation Acc 20.16 %\n",
      "Epoch:20/100 AVG Training Loss:0.586 AVG Validation Loss:0.666 AVG Training Acc 73.46 % AVG Validation Acc 56.85 %\n",
      "Epoch:30/100 AVG Training Loss:0.435 AVG Validation Loss:0.618 AVG Training Acc 81.79 % AVG Validation Acc 72.04 %\n",
      "Epoch:40/100 AVG Training Loss:0.363 AVG Validation Loss:0.652 AVG Training Acc 84.60 % AVG Validation Acc 72.72 %\n",
      "Epoch:50/100 AVG Training Loss:0.325 AVG Validation Loss:0.582 AVG Training Acc 85.73 % AVG Validation Acc 76.08 %\n",
      "Epoch    58: reducing learning rate of group 0 to 3.3000e-04.\n",
      "Epoch:60/100 AVG Training Loss:0.302 AVG Validation Loss:0.499 AVG Training Acc 86.56 % AVG Validation Acc 77.42 %\n",
      "Epoch:70/100 AVG Training Loss:0.276 AVG Validation Loss:0.524 AVG Training Acc 87.26 % AVG Validation Acc 77.28 %\n",
      "Epoch:80/100 AVG Training Loss:0.252 AVG Validation Loss:0.574 AVG Training Acc 88.05 % AVG Validation Acc 77.42 %\n",
      "Epoch:90/100 AVG Training Loss:0.225 AVG Validation Loss:0.601 AVG Training Acc 89.13 % AVG Validation Acc 77.55 %\n",
      "Epoch    94: reducing learning rate of group 0 to 1.0890e-04.\n",
      "Epoch:100/100 AVG Training Loss:0.206 AVG Validation Loss:0.661 AVG Training Acc 89.82 % AVG Validation Acc 77.28 %\n",
      "Split 4\n"
     ]
    },
    {
     "data": {
      "application/vnd.jupyter.widget-view+json": {
       "model_id": "86249d5a8b6647a4917cc0ce89b50ead",
       "version_major": 2,
       "version_minor": 0
      },
      "text/plain": [
       "  0%|          | 0/100 [00:00<?, ?it/s]"
      ]
     },
     "metadata": {},
     "output_type": "display_data"
    },
    {
     "name": "stdout",
     "output_type": "stream",
     "text": [
      "Epoch:10/100 AVG Training Loss:0.769 AVG Validation Loss:2.192 AVG Training Acc 67.21 % AVG Validation Acc 20.16 %\n",
      "Epoch:20/100 AVG Training Loss:0.701 AVG Validation Loss:0.729 AVG Training Acc 46.16 % AVG Validation Acc 32.80 %\n",
      "Epoch    23: reducing learning rate of group 0 to 3.3000e-04.\n",
      "Epoch:30/100 AVG Training Loss:0.544 AVG Validation Loss:0.619 AVG Training Acc 75.73 % AVG Validation Acc 65.05 %\n",
      "Epoch:40/100 AVG Training Loss:0.490 AVG Validation Loss:0.632 AVG Training Acc 78.53 % AVG Validation Acc 67.74 %\n",
      "Epoch:50/100 AVG Training Loss:0.396 AVG Validation Loss:0.629 AVG Training Acc 82.13 % AVG Validation Acc 71.10 %\n",
      "Epoch:60/100 AVG Training Loss:0.359 AVG Validation Loss:0.584 AVG Training Acc 83.81 % AVG Validation Acc 74.73 %\n",
      "Epoch:70/100 AVG Training Loss:0.336 AVG Validation Loss:0.561 AVG Training Acc 85.07 % AVG Validation Acc 75.94 %\n",
      "Epoch:80/100 AVG Training Loss:0.322 AVG Validation Loss:0.562 AVG Training Acc 85.51 % AVG Validation Acc 76.61 %\n",
      "Epoch    88: reducing learning rate of group 0 to 1.0890e-04.\n",
      "Epoch:90/100 AVG Training Loss:0.306 AVG Validation Loss:0.509 AVG Training Acc 85.89 % AVG Validation Acc 78.49 %\n",
      "Epoch:100/100 AVG Training Loss:0.296 AVG Validation Loss:0.518 AVG Training Acc 86.07 % AVG Validation Acc 78.09 %\n",
      "Split 5\n"
     ]
    },
    {
     "data": {
      "application/vnd.jupyter.widget-view+json": {
       "model_id": "24a811953db04b8e99fcdf6df86fb5aa",
       "version_major": 2,
       "version_minor": 0
      },
      "text/plain": [
       "  0%|          | 0/100 [00:00<?, ?it/s]"
      ]
     },
     "metadata": {},
     "output_type": "display_data"
    },
    {
     "name": "stdout",
     "output_type": "stream",
     "text": [
      "Epoch:10/100 AVG Training Loss:0.907 AVG Validation Loss:0.959 AVG Training Acc 52.54 % AVG Validation Acc 20.16 %\n",
      "Epoch:20/100 AVG Training Loss:0.594 AVG Validation Loss:0.661 AVG Training Acc 72.96 % AVG Validation Acc 54.30 %\n",
      "Epoch:30/100 AVG Training Loss:0.482 AVG Validation Loss:0.667 AVG Training Acc 79.62 % AVG Validation Acc 66.13 %\n",
      "Epoch:40/100 AVG Training Loss:0.366 AVG Validation Loss:0.603 AVG Training Acc 83.85 % AVG Validation Acc 75.13 %\n",
      "Epoch:50/100 AVG Training Loss:0.327 AVG Validation Loss:0.568 AVG Training Acc 85.54 % AVG Validation Acc 76.08 %\n",
      "Epoch:60/100 AVG Training Loss:0.289 AVG Validation Loss:0.589 AVG Training Acc 86.74 % AVG Validation Acc 74.73 %\n",
      "Epoch    67: reducing learning rate of group 0 to 3.3000e-04.\n",
      "Epoch:70/100 AVG Training Loss:0.243 AVG Validation Loss:0.579 AVG Training Acc 88.69 % AVG Validation Acc 74.87 %\n",
      "Epoch:80/100 AVG Training Loss:0.206 AVG Validation Loss:0.696 AVG Training Acc 90.08 % AVG Validation Acc 73.12 %\n",
      "Epoch:90/100 AVG Training Loss:0.186 AVG Validation Loss:0.775 AVG Training Acc 91.37 % AVG Validation Acc 71.91 %\n",
      "Epoch:100/100 AVG Training Loss:0.145 AVG Validation Loss:0.883 AVG Training Acc 93.41 % AVG Validation Acc 71.10 %\n",
      "Split 6\n"
     ]
    },
    {
     "data": {
      "application/vnd.jupyter.widget-view+json": {
       "model_id": "3c9eaa284ade4fa6817bd287782bf18a",
       "version_major": 2,
       "version_minor": 0
      },
      "text/plain": [
       "  0%|          | 0/100 [00:00<?, ?it/s]"
      ]
     },
     "metadata": {},
     "output_type": "display_data"
    },
    {
     "name": "stdout",
     "output_type": "stream",
     "text": [
      "Epoch:10/100 AVG Training Loss:0.687 AVG Validation Loss:0.698 AVG Training Acc 50.95 % AVG Validation Acc 34.68 %\n",
      "Epoch:20/100 AVG Training Loss:0.528 AVG Validation Loss:2.367 AVG Training Acc 76.37 % AVG Validation Acc 24.33 %\n",
      "Epoch:30/100 AVG Training Loss:0.537 AVG Validation Loss:0.669 AVG Training Acc 77.77 % AVG Validation Acc 63.58 %\n",
      "Epoch    31: reducing learning rate of group 0 to 3.3000e-04.\n",
      "Epoch:40/100 AVG Training Loss:0.442 AVG Validation Loss:0.674 AVG Training Acc 81.62 % AVG Validation Acc 68.55 %\n",
      "Epoch:50/100 AVG Training Loss:0.371 AVG Validation Loss:0.576 AVG Training Acc 83.99 % AVG Validation Acc 74.73 %\n",
      "Epoch:60/100 AVG Training Loss:0.339 AVG Validation Loss:0.583 AVG Training Acc 85.15 % AVG Validation Acc 75.27 %\n",
      "Epoch    67: reducing learning rate of group 0 to 1.0890e-04.\n",
      "Epoch:70/100 AVG Training Loss:0.317 AVG Validation Loss:0.525 AVG Training Acc 85.78 % AVG Validation Acc 77.82 %\n",
      "Epoch:80/100 AVG Training Loss:0.309 AVG Validation Loss:0.531 AVG Training Acc 85.98 % AVG Validation Acc 77.42 %\n",
      "Epoch:90/100 AVG Training Loss:0.298 AVG Validation Loss:0.534 AVG Training Acc 86.50 % AVG Validation Acc 76.34 %\n",
      "Epoch:100/100 AVG Training Loss:0.292 AVG Validation Loss:0.540 AVG Training Acc 86.78 % AVG Validation Acc 76.61 %\n",
      "Split 7\n"
     ]
    },
    {
     "data": {
      "application/vnd.jupyter.widget-view+json": {
       "model_id": "f89cd8e4b4c44a5ab479d72324202fae",
       "version_major": 2,
       "version_minor": 0
      },
      "text/plain": [
       "  0%|          | 0/100 [00:00<?, ?it/s]"
      ]
     },
     "metadata": {},
     "output_type": "display_data"
    },
    {
     "name": "stdout",
     "output_type": "stream",
     "text": [
      "Epoch:10/100 AVG Training Loss:0.858 AVG Validation Loss:0.936 AVG Training Acc 51.22 % AVG Validation Acc 20.05 %\n",
      "Epoch:20/100 AVG Training Loss:0.575 AVG Validation Loss:0.606 AVG Training Acc 75.16 % AVG Validation Acc 64.20 %\n",
      "Epoch:30/100 AVG Training Loss:0.399 AVG Validation Loss:0.609 AVG Training Acc 82.63 % AVG Validation Acc 72.27 %\n",
      "Epoch:40/100 AVG Training Loss:0.353 AVG Validation Loss:0.563 AVG Training Acc 84.32 % AVG Validation Acc 74.97 %\n",
      "Epoch:50/100 AVG Training Loss:0.325 AVG Validation Loss:0.579 AVG Training Acc 85.46 % AVG Validation Acc 77.12 %\n",
      "Epoch    54: reducing learning rate of group 0 to 3.3000e-04.\n",
      "Epoch:60/100 AVG Training Loss:0.295 AVG Validation Loss:0.559 AVG Training Acc 86.69 % AVG Validation Acc 77.79 %\n",
      "Epoch:70/100 AVG Training Loss:0.270 AVG Validation Loss:0.597 AVG Training Acc 87.57 % AVG Validation Acc 77.39 %\n",
      "Epoch:80/100 AVG Training Loss:0.241 AVG Validation Loss:0.659 AVG Training Acc 88.84 % AVG Validation Acc 74.29 %\n",
      "Epoch:90/100 AVG Training Loss:0.220 AVG Validation Loss:0.745 AVG Training Acc 89.55 % AVG Validation Acc 72.14 %\n",
      "Epoch    90: reducing learning rate of group 0 to 1.0890e-04.\n",
      "Epoch:100/100 AVG Training Loss:0.206 AVG Validation Loss:0.771 AVG Training Acc 90.14 % AVG Validation Acc 74.02 %\n",
      "Split 8\n"
     ]
    },
    {
     "data": {
      "application/vnd.jupyter.widget-view+json": {
       "model_id": "a07e01fa06fe477d955d8398d54ed99e",
       "version_major": 2,
       "version_minor": 0
      },
      "text/plain": [
       "  0%|          | 0/100 [00:00<?, ?it/s]"
      ]
     },
     "metadata": {},
     "output_type": "display_data"
    },
    {
     "name": "stdout",
     "output_type": "stream",
     "text": [
      "Epoch:10/100 AVG Training Loss:0.769 AVG Validation Loss:0.790 AVG Training Acc 53.53 % AVG Validation Acc 20.32 %\n",
      "Epoch:20/100 AVG Training Loss:0.578 AVG Validation Loss:1.021 AVG Training Acc 76.76 % AVG Validation Acc 51.28 %\n",
      "Epoch:30/100 AVG Training Loss:0.405 AVG Validation Loss:0.697 AVG Training Acc 82.94 % AVG Validation Acc 73.08 %\n",
      "Epoch:40/100 AVG Training Loss:0.327 AVG Validation Loss:0.591 AVG Training Acc 85.53 % AVG Validation Acc 73.35 %\n",
      "Epoch    49: reducing learning rate of group 0 to 3.3000e-04.\n",
      "Epoch:50/100 AVG Training Loss:0.290 AVG Validation Loss:0.536 AVG Training Acc 86.81 % AVG Validation Acc 76.04 %\n",
      "Epoch:60/100 AVG Training Loss:0.242 AVG Validation Loss:0.578 AVG Training Acc 88.52 % AVG Validation Acc 73.62 %\n",
      "Epoch:70/100 AVG Training Loss:0.213 AVG Validation Loss:0.615 AVG Training Acc 89.80 % AVG Validation Acc 73.62 %\n",
      "Epoch:80/100 AVG Training Loss:0.192 AVG Validation Loss:0.686 AVG Training Acc 90.88 % AVG Validation Acc 72.41 %\n",
      "Epoch    85: reducing learning rate of group 0 to 1.0890e-04.\n",
      "Epoch:90/100 AVG Training Loss:0.168 AVG Validation Loss:0.791 AVG Training Acc 92.31 % AVG Validation Acc 72.95 %\n",
      "Epoch:100/100 AVG Training Loss:0.154 AVG Validation Loss:0.830 AVG Training Acc 92.76 % AVG Validation Acc 71.47 %\n",
      "Split 9\n"
     ]
    },
    {
     "data": {
      "application/vnd.jupyter.widget-view+json": {
       "model_id": "015f39e39e1e498d85aa003aafab5b17",
       "version_major": 2,
       "version_minor": 0
      },
      "text/plain": [
       "  0%|          | 0/100 [00:00<?, ?it/s]"
      ]
     },
     "metadata": {},
     "output_type": "display_data"
    },
    {
     "name": "stdout",
     "output_type": "stream",
     "text": [
      "Epoch:10/100 AVG Training Loss:0.670 AVG Validation Loss:0.752 AVG Training Acc 61.17 % AVG Validation Acc 21.80 %\n",
      "Epoch:20/100 AVG Training Loss:0.685 AVG Validation Loss:0.737 AVG Training Acc 61.78 % AVG Validation Acc 36.61 %\n",
      "Epoch    25: reducing learning rate of group 0 to 3.3000e-04.\n",
      "Epoch:30/100 AVG Training Loss:0.479 AVG Validation Loss:0.644 AVG Training Acc 79.43 % AVG Validation Acc 71.33 %\n",
      "Epoch:40/100 AVG Training Loss:0.399 AVG Validation Loss:0.613 AVG Training Acc 81.98 % AVG Validation Acc 72.68 %\n",
      "Epoch:50/100 AVG Training Loss:0.374 AVG Validation Loss:0.564 AVG Training Acc 83.60 % AVG Validation Acc 74.83 %\n",
      "Epoch:60/100 AVG Training Loss:0.352 AVG Validation Loss:0.560 AVG Training Acc 84.42 % AVG Validation Acc 76.45 %\n",
      "Epoch    61: reducing learning rate of group 0 to 1.0890e-04.\n",
      "Epoch:70/100 AVG Training Loss:0.339 AVG Validation Loss:0.516 AVG Training Acc 85.14 % AVG Validation Acc 78.47 %\n",
      "Epoch:80/100 AVG Training Loss:0.333 AVG Validation Loss:0.516 AVG Training Acc 85.42 % AVG Validation Acc 78.33 %\n",
      "Epoch:90/100 AVG Training Loss:0.328 AVG Validation Loss:0.517 AVG Training Acc 85.49 % AVG Validation Acc 78.33 %\n",
      "Epoch    97: reducing learning rate of group 0 to 3.5937e-05.\n",
      "Epoch:100/100 AVG Training Loss:0.321 AVG Validation Loss:0.504 AVG Training Acc 85.89 % AVG Validation Acc 79.41 %\n",
      "Split 10\n"
     ]
    },
    {
     "data": {
      "application/vnd.jupyter.widget-view+json": {
       "model_id": "17ca4375a05142099e95cc81ea3bd253",
       "version_major": 2,
       "version_minor": 0
      },
      "text/plain": [
       "  0%|          | 0/100 [00:00<?, ?it/s]"
      ]
     },
     "metadata": {},
     "output_type": "display_data"
    },
    {
     "name": "stdout",
     "output_type": "stream",
     "text": [
      "Epoch:10/100 AVG Training Loss:0.717 AVG Validation Loss:0.681 AVG Training Acc 48.26 % AVG Validation Acc 46.70 %\n",
      "Epoch:20/100 AVG Training Loss:0.580 AVG Validation Loss:1.382 AVG Training Acc 76.81 % AVG Validation Acc 39.97 %\n",
      "Epoch:30/100 AVG Training Loss:0.363 AVG Validation Loss:0.572 AVG Training Acc 84.18 % AVG Validation Acc 75.37 %\n",
      "Epoch:40/100 AVG Training Loss:0.328 AVG Validation Loss:0.545 AVG Training Acc 85.57 % AVG Validation Acc 77.25 %\n",
      "Epoch:50/100 AVG Training Loss:0.290 AVG Validation Loss:0.557 AVG Training Acc 86.80 % AVG Validation Acc 76.45 %\n",
      "Epoch    55: reducing learning rate of group 0 to 3.3000e-04.\n",
      "Epoch:60/100 AVG Training Loss:0.245 AVG Validation Loss:0.562 AVG Training Acc 88.32 % AVG Validation Acc 76.99 %\n",
      "Epoch:70/100 AVG Training Loss:0.212 AVG Validation Loss:0.636 AVG Training Acc 89.96 % AVG Validation Acc 73.89 %\n",
      "Epoch:80/100 AVG Training Loss:0.178 AVG Validation Loss:0.745 AVG Training Acc 91.80 % AVG Validation Acc 73.76 %\n",
      "Epoch:90/100 AVG Training Loss:0.167 AVG Validation Loss:0.839 AVG Training Acc 92.32 % AVG Validation Acc 69.04 %\n",
      "Epoch    91: reducing learning rate of group 0 to 1.0890e-04.\n",
      "Epoch:100/100 AVG Training Loss:0.144 AVG Validation Loss:0.901 AVG Training Acc 93.24 % AVG Validation Acc 73.76 %\n",
      "Replica 9\n"
     ]
    },
    {
     "data": {
      "application/vnd.jupyter.widget-view+json": {
       "model_id": "cbb4f68dde21485c9be93085688978a2",
       "version_major": 2,
       "version_minor": 0
      },
      "text/plain": [
       "0it [00:00, ?it/s]"
      ]
     },
     "metadata": {},
     "output_type": "display_data"
    },
    {
     "name": "stdout",
     "output_type": "stream",
     "text": [
      "Split 1\n"
     ]
    },
    {
     "data": {
      "application/vnd.jupyter.widget-view+json": {
       "model_id": "9b7b205d64f7430ba3986024bc8bd9b5",
       "version_major": 2,
       "version_minor": 0
      },
      "text/plain": [
       "  0%|          | 0/100 [00:00<?, ?it/s]"
      ]
     },
     "metadata": {},
     "output_type": "display_data"
    },
    {
     "name": "stdout",
     "output_type": "stream",
     "text": [
      "Epoch:10/100 AVG Training Loss:0.628 AVG Validation Loss:0.659 AVG Training Acc 67.14 % AVG Validation Acc 54.03 %\n",
      "Epoch:20/100 AVG Training Loss:0.557 AVG Validation Loss:0.968 AVG Training Acc 71.56 % AVG Validation Acc 53.76 %\n",
      "Epoch    26: reducing learning rate of group 0 to 3.3000e-04.\n",
      "Epoch:30/100 AVG Training Loss:0.474 AVG Validation Loss:0.564 AVG Training Acc 80.65 % AVG Validation Acc 74.06 %\n",
      "Epoch:40/100 AVG Training Loss:0.397 AVG Validation Loss:0.560 AVG Training Acc 82.46 % AVG Validation Acc 75.67 %\n",
      "Epoch:50/100 AVG Training Loss:0.367 AVG Validation Loss:0.545 AVG Training Acc 83.66 % AVG Validation Acc 76.88 %\n",
      "Epoch:60/100 AVG Training Loss:0.345 AVG Validation Loss:0.538 AVG Training Acc 84.42 % AVG Validation Acc 76.88 %\n",
      "Epoch:70/100 AVG Training Loss:0.332 AVG Validation Loss:0.538 AVG Training Acc 84.95 % AVG Validation Acc 77.42 %\n",
      "Epoch:80/100 AVG Training Loss:0.320 AVG Validation Loss:0.539 AVG Training Acc 85.69 % AVG Validation Acc 77.42 %\n",
      "Epoch    81: reducing learning rate of group 0 to 1.0890e-04.\n",
      "Epoch:90/100 AVG Training Loss:0.307 AVG Validation Loss:0.518 AVG Training Acc 85.92 % AVG Validation Acc 77.96 %\n",
      "Epoch:100/100 AVG Training Loss:0.300 AVG Validation Loss:0.529 AVG Training Acc 86.22 % AVG Validation Acc 78.09 %\n",
      "Split 2\n"
     ]
    },
    {
     "data": {
      "application/vnd.jupyter.widget-view+json": {
       "model_id": "f9708f68d75a4c9bb06486ecca9e02f4",
       "version_major": 2,
       "version_minor": 0
      },
      "text/plain": [
       "  0%|          | 0/100 [00:00<?, ?it/s]"
      ]
     },
     "metadata": {},
     "output_type": "display_data"
    },
    {
     "name": "stdout",
     "output_type": "stream",
     "text": [
      "Epoch:10/100 AVG Training Loss:0.727 AVG Validation Loss:3.256 AVG Training Acc 70.29 % AVG Validation Acc 21.24 %\n",
      "Epoch:20/100 AVG Training Loss:0.578 AVG Validation Loss:0.691 AVG Training Acc 73.72 % AVG Validation Acc 59.68 %\n",
      "Epoch:30/100 AVG Training Loss:0.459 AVG Validation Loss:0.685 AVG Training Acc 79.90 % AVG Validation Acc 67.20 %\n",
      "Epoch:40/100 AVG Training Loss:0.374 AVG Validation Loss:0.569 AVG Training Acc 83.75 % AVG Validation Acc 74.06 %\n",
      "Epoch:50/100 AVG Training Loss:0.339 AVG Validation Loss:0.579 AVG Training Acc 85.29 % AVG Validation Acc 76.08 %\n",
      "Epoch:60/100 AVG Training Loss:0.311 AVG Validation Loss:0.564 AVG Training Acc 86.04 % AVG Validation Acc 76.75 %\n",
      "Epoch:70/100 AVG Training Loss:0.286 AVG Validation Loss:0.542 AVG Training Acc 86.83 % AVG Validation Acc 75.94 %\n",
      "Epoch    70: reducing learning rate of group 0 to 3.3000e-04.\n",
      "Epoch:80/100 AVG Training Loss:0.238 AVG Validation Loss:0.538 AVG Training Acc 89.00 % AVG Validation Acc 75.27 %\n",
      "Epoch:90/100 AVG Training Loss:0.212 AVG Validation Loss:0.609 AVG Training Acc 89.88 % AVG Validation Acc 74.06 %\n",
      "Epoch:100/100 AVG Training Loss:0.187 AVG Validation Loss:0.661 AVG Training Acc 91.33 % AVG Validation Acc 73.66 %\n",
      "Split 3\n"
     ]
    },
    {
     "data": {
      "application/vnd.jupyter.widget-view+json": {
       "model_id": "344ff6dff9ab4736bc5761b7cdbed9d6",
       "version_major": 2,
       "version_minor": 0
      },
      "text/plain": [
       "  0%|          | 0/100 [00:00<?, ?it/s]"
      ]
     },
     "metadata": {},
     "output_type": "display_data"
    },
    {
     "name": "stdout",
     "output_type": "stream",
     "text": [
      "Epoch:10/100 AVG Training Loss:0.666 AVG Validation Loss:0.689 AVG Training Acc 59.65 % AVG Validation Acc 40.73 %\n",
      "Epoch:20/100 AVG Training Loss:0.505 AVG Validation Loss:0.725 AVG Training Acc 78.71 % AVG Validation Acc 61.83 %\n",
      "Epoch:30/100 AVG Training Loss:0.364 AVG Validation Loss:0.747 AVG Training Acc 83.38 % AVG Validation Acc 69.62 %\n",
      "Epoch    30: reducing learning rate of group 0 to 3.3000e-04.\n",
      "Epoch:40/100 AVG Training Loss:0.312 AVG Validation Loss:0.527 AVG Training Acc 85.52 % AVG Validation Acc 75.94 %\n",
      "Epoch:50/100 AVG Training Loss:0.282 AVG Validation Loss:0.544 AVG Training Acc 86.82 % AVG Validation Acc 76.48 %\n",
      "Epoch:60/100 AVG Training Loss:0.259 AVG Validation Loss:0.586 AVG Training Acc 87.98 % AVG Validation Acc 73.39 %\n",
      "Epoch    66: reducing learning rate of group 0 to 1.0890e-04.\n",
      "Epoch:70/100 AVG Training Loss:0.250 AVG Validation Loss:0.554 AVG Training Acc 88.22 % AVG Validation Acc 77.15 %\n",
      "Epoch:80/100 AVG Training Loss:0.235 AVG Validation Loss:0.565 AVG Training Acc 88.87 % AVG Validation Acc 77.02 %\n",
      "Epoch:90/100 AVG Training Loss:0.228 AVG Validation Loss:0.584 AVG Training Acc 89.52 % AVG Validation Acc 76.21 %\n",
      "Epoch:100/100 AVG Training Loss:0.218 AVG Validation Loss:0.620 AVG Training Acc 89.65 % AVG Validation Acc 75.13 %\n",
      "Split 4\n"
     ]
    },
    {
     "data": {
      "application/vnd.jupyter.widget-view+json": {
       "model_id": "af72fba27ad7442bae99c850c277700a",
       "version_major": 2,
       "version_minor": 0
      },
      "text/plain": [
       "  0%|          | 0/100 [00:00<?, ?it/s]"
      ]
     },
     "metadata": {},
     "output_type": "display_data"
    },
    {
     "name": "stdout",
     "output_type": "stream",
     "text": [
      "Epoch:10/100 AVG Training Loss:0.661 AVG Validation Loss:0.695 AVG Training Acc 59.16 % AVG Validation Acc 40.32 %\n",
      "Epoch:20/100 AVG Training Loss:0.601 AVG Validation Loss:0.702 AVG Training Acc 71.59 % AVG Validation Acc 50.67 %\n",
      "Epoch:30/100 AVG Training Loss:0.437 AVG Validation Loss:0.701 AVG Training Acc 80.72 % AVG Validation Acc 68.01 %\n",
      "Epoch:40/100 AVG Training Loss:0.361 AVG Validation Loss:0.595 AVG Training Acc 83.97 % AVG Validation Acc 74.73 %\n",
      "Epoch:50/100 AVG Training Loss:0.331 AVG Validation Loss:0.555 AVG Training Acc 85.01 % AVG Validation Acc 76.61 %\n",
      "Epoch:60/100 AVG Training Loss:0.299 AVG Validation Loss:0.863 AVG Training Acc 86.06 % AVG Validation Acc 71.77 %\n",
      "Epoch    64: reducing learning rate of group 0 to 3.3000e-04.\n",
      "Epoch:70/100 AVG Training Loss:0.266 AVG Validation Loss:0.538 AVG Training Acc 87.43 % AVG Validation Acc 77.02 %\n",
      "Epoch:80/100 AVG Training Loss:0.243 AVG Validation Loss:0.634 AVG Training Acc 88.00 % AVG Validation Acc 74.06 %\n",
      "Epoch:90/100 AVG Training Loss:0.218 AVG Validation Loss:0.749 AVG Training Acc 89.17 % AVG Validation Acc 72.58 %\n",
      "Epoch:100/100 AVG Training Loss:0.201 AVG Validation Loss:0.787 AVG Training Acc 90.22 % AVG Validation Acc 70.97 %\n",
      "Epoch   100: reducing learning rate of group 0 to 1.0890e-04.\n",
      "Split 5\n"
     ]
    },
    {
     "data": {
      "application/vnd.jupyter.widget-view+json": {
       "model_id": "db909ba33e0841fc839d3471a7287783",
       "version_major": 2,
       "version_minor": 0
      },
      "text/plain": [
       "  0%|          | 0/100 [00:00<?, ?it/s]"
      ]
     },
     "metadata": {},
     "output_type": "display_data"
    },
    {
     "name": "stdout",
     "output_type": "stream",
     "text": [
      "Epoch:10/100 AVG Training Loss:0.531 AVG Validation Loss:4.204 AVG Training Acc 62.43 % AVG Validation Acc 20.16 %\n",
      "Epoch:20/100 AVG Training Loss:0.554 AVG Validation Loss:0.704 AVG Training Acc 75.50 % AVG Validation Acc 57.26 %\n",
      "Epoch:30/100 AVG Training Loss:0.430 AVG Validation Loss:0.598 AVG Training Acc 81.01 % AVG Validation Acc 72.31 %\n",
      "Epoch:40/100 AVG Training Loss:0.353 AVG Validation Loss:0.583 AVG Training Acc 84.39 % AVG Validation Acc 72.85 %\n",
      "Epoch:50/100 AVG Training Loss:0.312 AVG Validation Loss:0.568 AVG Training Acc 85.88 % AVG Validation Acc 73.39 %\n",
      "Epoch    53: reducing learning rate of group 0 to 3.3000e-04.\n",
      "Epoch:60/100 AVG Training Loss:0.276 AVG Validation Loss:0.538 AVG Training Acc 87.18 % AVG Validation Acc 75.27 %\n",
      "Epoch:70/100 AVG Training Loss:0.251 AVG Validation Loss:0.558 AVG Training Acc 88.37 % AVG Validation Acc 75.67 %\n",
      "Epoch:80/100 AVG Training Loss:0.227 AVG Validation Loss:0.613 AVG Training Acc 89.54 % AVG Validation Acc 74.60 %\n",
      "Epoch    89: reducing learning rate of group 0 to 1.0890e-04.\n",
      "Epoch:90/100 AVG Training Loss:0.226 AVG Validation Loss:0.721 AVG Training Acc 89.86 % AVG Validation Acc 74.73 %\n",
      "Epoch:100/100 AVG Training Loss:0.207 AVG Validation Loss:0.732 AVG Training Acc 90.49 % AVG Validation Acc 74.87 %\n",
      "Split 6\n"
     ]
    },
    {
     "data": {
      "application/vnd.jupyter.widget-view+json": {
       "model_id": "ef470ae1cd93412caaa22b50263551d0",
       "version_major": 2,
       "version_minor": 0
      },
      "text/plain": [
       "  0%|          | 0/100 [00:00<?, ?it/s]"
      ]
     },
     "metadata": {},
     "output_type": "display_data"
    },
    {
     "name": "stdout",
     "output_type": "stream",
     "text": [
      "Epoch:10/100 AVG Training Loss:0.669 AVG Validation Loss:0.698 AVG Training Acc 62.47 % AVG Validation Acc 39.52 %\n",
      "Epoch:20/100 AVG Training Loss:0.724 AVG Validation Loss:0.713 AVG Training Acc 39.03 % AVG Validation Acc 30.65 %\n",
      "Epoch:30/100 AVG Training Loss:0.631 AVG Validation Loss:0.676 AVG Training Acc 72.60 % AVG Validation Acc 60.62 %\n",
      "Epoch:40/100 AVG Training Loss:0.417 AVG Validation Loss:0.674 AVG Training Acc 83.11 % AVG Validation Acc 69.62 %\n",
      "Epoch    43: reducing learning rate of group 0 to 3.3000e-04.\n",
      "Epoch:50/100 AVG Training Loss:0.336 AVG Validation Loss:0.526 AVG Training Acc 85.40 % AVG Validation Acc 75.94 %\n",
      "Epoch:60/100 AVG Training Loss:0.320 AVG Validation Loss:0.530 AVG Training Acc 86.09 % AVG Validation Acc 76.21 %\n",
      "Epoch:70/100 AVG Training Loss:0.307 AVG Validation Loss:0.531 AVG Training Acc 86.24 % AVG Validation Acc 76.21 %\n",
      "Epoch:80/100 AVG Training Loss:0.292 AVG Validation Loss:0.542 AVG Training Acc 86.83 % AVG Validation Acc 76.61 %\n",
      "Epoch    83: reducing learning rate of group 0 to 1.0890e-04.\n",
      "Epoch:90/100 AVG Training Loss:0.278 AVG Validation Loss:0.514 AVG Training Acc 87.39 % AVG Validation Acc 77.82 %\n",
      "Epoch:100/100 AVG Training Loss:0.269 AVG Validation Loss:0.520 AVG Training Acc 87.54 % AVG Validation Acc 77.15 %\n",
      "Split 7\n"
     ]
    },
    {
     "data": {
      "application/vnd.jupyter.widget-view+json": {
       "model_id": "569491846ac74ec6906ec9c5017a2778",
       "version_major": 2,
       "version_minor": 0
      },
      "text/plain": [
       "  0%|          | 0/100 [00:00<?, ?it/s]"
      ]
     },
     "metadata": {},
     "output_type": "display_data"
    },
    {
     "name": "stdout",
     "output_type": "stream",
     "text": [
      "Epoch:10/100 AVG Training Loss:0.861 AVG Validation Loss:1.032 AVG Training Acc 56.10 % AVG Validation Acc 20.05 %\n",
      "Epoch:20/100 AVG Training Loss:0.658 AVG Validation Loss:0.672 AVG Training Acc 58.14 % AVG Validation Acc 57.60 %\n",
      "Epoch:30/100 AVG Training Loss:0.550 AVG Validation Loss:0.620 AVG Training Acc 79.06 % AVG Validation Acc 68.64 %\n",
      "Epoch:40/100 AVG Training Loss:0.355 AVG Validation Loss:0.572 AVG Training Acc 84.58 % AVG Validation Acc 74.16 %\n",
      "Epoch:50/100 AVG Training Loss:0.327 AVG Validation Loss:0.572 AVG Training Acc 85.82 % AVG Validation Acc 75.64 %\n",
      "Epoch:60/100 AVG Training Loss:0.305 AVG Validation Loss:0.604 AVG Training Acc 86.22 % AVG Validation Acc 74.02 %\n",
      "Epoch:70/100 AVG Training Loss:0.281 AVG Validation Loss:0.598 AVG Training Acc 87.17 % AVG Validation Acc 72.95 %\n",
      "Epoch    73: reducing learning rate of group 0 to 3.3000e-04.\n",
      "Epoch:80/100 AVG Training Loss:0.238 AVG Validation Loss:0.641 AVG Training Acc 88.92 % AVG Validation Acc 77.12 %\n",
      "Epoch:90/100 AVG Training Loss:0.213 AVG Validation Loss:0.728 AVG Training Acc 89.64 % AVG Validation Acc 77.66 %\n",
      "Epoch:100/100 AVG Training Loss:0.191 AVG Validation Loss:0.786 AVG Training Acc 90.78 % AVG Validation Acc 75.64 %\n",
      "Split 8\n"
     ]
    },
    {
     "data": {
      "application/vnd.jupyter.widget-view+json": {
       "model_id": "65fe1110011c40fe8bf1d70a4195cc3d",
       "version_major": 2,
       "version_minor": 0
      },
      "text/plain": [
       "  0%|          | 0/100 [00:00<?, ?it/s]"
      ]
     },
     "metadata": {},
     "output_type": "display_data"
    },
    {
     "name": "stdout",
     "output_type": "stream",
     "text": [
      "Epoch:10/100 AVG Training Loss:0.895 AVG Validation Loss:0.763 AVG Training Acc 38.13 % AVG Validation Acc 24.36 %\n",
      "Epoch:20/100 AVG Training Loss:0.569 AVG Validation Loss:0.651 AVG Training Acc 74.64 % AVG Validation Acc 62.99 %\n",
      "Epoch:30/100 AVG Training Loss:0.412 AVG Validation Loss:0.622 AVG Training Acc 82.46 % AVG Validation Acc 73.49 %\n",
      "Epoch:40/100 AVG Training Loss:0.344 AVG Validation Loss:0.546 AVG Training Acc 85.27 % AVG Validation Acc 76.72 %\n",
      "Epoch:50/100 AVG Training Loss:0.320 AVG Validation Loss:0.552 AVG Training Acc 86.21 % AVG Validation Acc 76.99 %\n",
      "Epoch    56: reducing learning rate of group 0 to 3.3000e-04.\n",
      "Epoch:60/100 AVG Training Loss:0.281 AVG Validation Loss:0.507 AVG Training Acc 87.20 % AVG Validation Acc 76.99 %\n",
      "Epoch:70/100 AVG Training Loss:0.247 AVG Validation Loss:0.538 AVG Training Acc 87.97 % AVG Validation Acc 73.76 %\n",
      "Epoch:80/100 AVG Training Loss:0.225 AVG Validation Loss:0.595 AVG Training Acc 89.15 % AVG Validation Acc 72.68 %\n",
      "Epoch:90/100 AVG Training Loss:0.187 AVG Validation Loss:0.694 AVG Training Acc 91.10 % AVG Validation Acc 72.95 %\n",
      "Epoch    92: reducing learning rate of group 0 to 1.0890e-04.\n",
      "Epoch:100/100 AVG Training Loss:0.175 AVG Validation Loss:0.699 AVG Training Acc 91.63 % AVG Validation Acc 73.22 %\n",
      "Split 9\n"
     ]
    },
    {
     "data": {
      "application/vnd.jupyter.widget-view+json": {
       "model_id": "702ac5d5e56c44f7adb1a6630101e7bf",
       "version_major": 2,
       "version_minor": 0
      },
      "text/plain": [
       "  0%|          | 0/100 [00:00<?, ?it/s]"
      ]
     },
     "metadata": {},
     "output_type": "display_data"
    },
    {
     "name": "stdout",
     "output_type": "stream",
     "text": [
      "Epoch:10/100 AVG Training Loss:0.694 AVG Validation Loss:0.690 AVG Training Acc 46.16 % AVG Validation Acc 41.05 %\n",
      "Epoch:20/100 AVG Training Loss:0.472 AVG Validation Loss:2.447 AVG Training Acc 79.20 % AVG Validation Acc 28.80 %\n",
      "Epoch:30/100 AVG Training Loss:0.503 AVG Validation Loss:0.686 AVG Training Acc 78.06 % AVG Validation Acc 66.22 %\n",
      "Epoch:40/100 AVG Training Loss:0.373 AVG Validation Loss:0.587 AVG Training Acc 83.86 % AVG Validation Acc 74.02 %\n",
      "Epoch:50/100 AVG Training Loss:0.341 AVG Validation Loss:0.577 AVG Training Acc 85.43 % AVG Validation Acc 76.58 %\n",
      "Epoch:60/100 AVG Training Loss:0.324 AVG Validation Loss:0.542 AVG Training Acc 85.90 % AVG Validation Acc 76.99 %\n",
      "Epoch:70/100 AVG Training Loss:0.302 AVG Validation Loss:0.555 AVG Training Acc 86.63 % AVG Validation Acc 77.25 %\n",
      "Epoch:80/100 AVG Training Loss:0.286 AVG Validation Loss:0.583 AVG Training Acc 86.94 % AVG Validation Acc 75.91 %\n",
      "Epoch    81: reducing learning rate of group 0 to 3.3000e-04.\n",
      "Epoch:90/100 AVG Training Loss:0.249 AVG Validation Loss:0.576 AVG Training Acc 88.22 % AVG Validation Acc 78.47 %\n",
      "Epoch:100/100 AVG Training Loss:0.224 AVG Validation Loss:0.632 AVG Training Acc 88.99 % AVG Validation Acc 75.24 %\n",
      "Split 10\n"
     ]
    },
    {
     "data": {
      "application/vnd.jupyter.widget-view+json": {
       "model_id": "68b0028bea4841f9bb9d566e5c9684f7",
       "version_major": 2,
       "version_minor": 0
      },
      "text/plain": [
       "  0%|          | 0/100 [00:00<?, ?it/s]"
      ]
     },
     "metadata": {},
     "output_type": "display_data"
    },
    {
     "name": "stdout",
     "output_type": "stream",
     "text": [
      "Epoch:10/100 AVG Training Loss:0.700 AVG Validation Loss:0.671 AVG Training Acc 52.62 % AVG Validation Acc 49.66 %\n",
      "Epoch:20/100 AVG Training Loss:0.599 AVG Validation Loss:0.630 AVG Training Acc 72.40 % AVG Validation Acc 65.14 %\n",
      "Epoch:30/100 AVG Training Loss:0.392 AVG Validation Loss:0.691 AVG Training Acc 82.91 % AVG Validation Acc 70.93 %\n",
      "Epoch:40/100 AVG Training Loss:0.341 AVG Validation Loss:0.612 AVG Training Acc 84.87 % AVG Validation Acc 72.68 %\n",
      "Epoch:50/100 AVG Training Loss:0.303 AVG Validation Loss:0.620 AVG Training Acc 86.44 % AVG Validation Acc 73.35 %\n",
      "Epoch    59: reducing learning rate of group 0 to 3.3000e-04.\n",
      "Epoch:60/100 AVG Training Loss:0.283 AVG Validation Loss:0.554 AVG Training Acc 86.74 % AVG Validation Acc 76.72 %\n",
      "Epoch:70/100 AVG Training Loss:0.232 AVG Validation Loss:0.614 AVG Training Acc 89.03 % AVG Validation Acc 74.16 %\n",
      "Epoch:80/100 AVG Training Loss:0.208 AVG Validation Loss:0.689 AVG Training Acc 90.25 % AVG Validation Acc 72.95 %\n",
      "Epoch:90/100 AVG Training Loss:0.187 AVG Validation Loss:0.747 AVG Training Acc 91.13 % AVG Validation Acc 71.33 %\n",
      "Epoch    95: reducing learning rate of group 0 to 1.0890e-04.\n",
      "Epoch:100/100 AVG Training Loss:0.182 AVG Validation Loss:0.871 AVG Training Acc 91.28 % AVG Validation Acc 73.76 %\n",
      "Replica 10\n"
     ]
    },
    {
     "data": {
      "application/vnd.jupyter.widget-view+json": {
       "model_id": "4aa6ca6d0e2e4cf595c444985ea5bb9b",
       "version_major": 2,
       "version_minor": 0
      },
      "text/plain": [
       "0it [00:00, ?it/s]"
      ]
     },
     "metadata": {},
     "output_type": "display_data"
    },
    {
     "name": "stdout",
     "output_type": "stream",
     "text": [
      "Split 1\n"
     ]
    },
    {
     "data": {
      "application/vnd.jupyter.widget-view+json": {
       "model_id": "059cd538708649cb86e9adcc51721493",
       "version_major": 2,
       "version_minor": 0
      },
      "text/plain": [
       "  0%|          | 0/100 [00:00<?, ?it/s]"
      ]
     },
     "metadata": {},
     "output_type": "display_data"
    },
    {
     "name": "stdout",
     "output_type": "stream",
     "text": [
      "Epoch:10/100 AVG Training Loss:0.645 AVG Validation Loss:0.685 AVG Training Acc 64.49 % AVG Validation Acc 46.51 %\n",
      "Epoch:20/100 AVG Training Loss:0.529 AVG Validation Loss:0.832 AVG Training Acc 76.57 % AVG Validation Acc 54.70 %\n",
      "Epoch:30/100 AVG Training Loss:0.466 AVG Validation Loss:1.189 AVG Training Acc 79.54 % AVG Validation Acc 59.68 %\n",
      "Epoch:40/100 AVG Training Loss:0.362 AVG Validation Loss:0.566 AVG Training Acc 84.57 % AVG Validation Acc 76.34 %\n",
      "Epoch:50/100 AVG Training Loss:0.328 AVG Validation Loss:0.561 AVG Training Acc 85.44 % AVG Validation Acc 77.28 %\n",
      "Epoch:60/100 AVG Training Loss:0.301 AVG Validation Loss:0.577 AVG Training Acc 86.64 % AVG Validation Acc 75.81 %\n",
      "Epoch    63: reducing learning rate of group 0 to 3.3000e-04.\n",
      "Epoch:70/100 AVG Training Loss:0.269 AVG Validation Loss:0.539 AVG Training Acc 87.09 % AVG Validation Acc 77.82 %\n",
      "Epoch:80/100 AVG Training Loss:0.244 AVG Validation Loss:0.578 AVG Training Acc 87.79 % AVG Validation Acc 77.28 %\n",
      "Epoch:90/100 AVG Training Loss:0.220 AVG Validation Loss:0.615 AVG Training Acc 88.86 % AVG Validation Acc 75.54 %\n",
      "Epoch    99: reducing learning rate of group 0 to 1.0890e-04.\n",
      "Epoch:100/100 AVG Training Loss:0.207 AVG Validation Loss:0.754 AVG Training Acc 89.91 % AVG Validation Acc 75.54 %\n",
      "Split 2\n"
     ]
    },
    {
     "data": {
      "application/vnd.jupyter.widget-view+json": {
       "model_id": "503ca9e48bd044fe84fb232fa2a05ed4",
       "version_major": 2,
       "version_minor": 0
      },
      "text/plain": [
       "  0%|          | 0/100 [00:00<?, ?it/s]"
      ]
     },
     "metadata": {},
     "output_type": "display_data"
    },
    {
     "name": "stdout",
     "output_type": "stream",
     "text": [
      "Epoch:10/100 AVG Training Loss:0.649 AVG Validation Loss:0.739 AVG Training Acc 62.68 % AVG Validation Acc 39.38 %\n",
      "Epoch:20/100 AVG Training Loss:0.534 AVG Validation Loss:0.762 AVG Training Acc 77.72 % AVG Validation Acc 66.13 %\n",
      "Epoch:30/100 AVG Training Loss:0.371 AVG Validation Loss:0.716 AVG Training Acc 83.86 % AVG Validation Acc 70.43 %\n",
      "Epoch:40/100 AVG Training Loss:0.310 AVG Validation Loss:0.587 AVG Training Acc 86.41 % AVG Validation Acc 72.85 %\n",
      "Epoch:50/100 AVG Training Loss:0.271 AVG Validation Loss:0.713 AVG Training Acc 87.48 % AVG Validation Acc 68.82 %\n",
      "Epoch    52: reducing learning rate of group 0 to 3.3000e-04.\n",
      "Epoch:60/100 AVG Training Loss:0.228 AVG Validation Loss:0.682 AVG Training Acc 89.07 % AVG Validation Acc 75.13 %\n",
      "Epoch:70/100 AVG Training Loss:0.200 AVG Validation Loss:0.735 AVG Training Acc 90.29 % AVG Validation Acc 75.27 %\n",
      "Epoch:80/100 AVG Training Loss:0.177 AVG Validation Loss:0.755 AVG Training Acc 91.14 % AVG Validation Acc 76.08 %\n",
      "Epoch    88: reducing learning rate of group 0 to 1.0890e-04.\n",
      "Epoch:90/100 AVG Training Loss:0.168 AVG Validation Loss:0.802 AVG Training Acc 91.67 % AVG Validation Acc 76.88 %\n",
      "Epoch:100/100 AVG Training Loss:0.152 AVG Validation Loss:0.864 AVG Training Acc 92.30 % AVG Validation Acc 76.61 %\n",
      "Split 3\n"
     ]
    },
    {
     "data": {
      "application/vnd.jupyter.widget-view+json": {
       "model_id": "daf53875bf4b4c8f95a17ad700e57ddd",
       "version_major": 2,
       "version_minor": 0
      },
      "text/plain": [
       "  0%|          | 0/100 [00:00<?, ?it/s]"
      ]
     },
     "metadata": {},
     "output_type": "display_data"
    },
    {
     "name": "stdout",
     "output_type": "stream",
     "text": [
      "Epoch:10/100 AVG Training Loss:0.690 AVG Validation Loss:0.682 AVG Training Acc 47.63 % AVG Validation Acc 43.01 %\n",
      "Epoch:20/100 AVG Training Loss:0.592 AVG Validation Loss:0.664 AVG Training Acc 73.33 % AVG Validation Acc 54.03 %\n",
      "Epoch:30/100 AVG Training Loss:0.436 AVG Validation Loss:0.683 AVG Training Acc 81.62 % AVG Validation Acc 67.34 %\n",
      "Epoch    37: reducing learning rate of group 0 to 3.3000e-04.\n",
      "Epoch:40/100 AVG Training Loss:0.344 AVG Validation Loss:0.524 AVG Training Acc 84.62 % AVG Validation Acc 77.69 %\n",
      "Epoch:50/100 AVG Training Loss:0.327 AVG Validation Loss:0.529 AVG Training Acc 85.45 % AVG Validation Acc 77.69 %\n",
      "Epoch:60/100 AVG Training Loss:0.305 AVG Validation Loss:0.538 AVG Training Acc 86.19 % AVG Validation Acc 75.94 %\n",
      "Epoch:70/100 AVG Training Loss:0.282 AVG Validation Loss:0.570 AVG Training Acc 87.16 % AVG Validation Acc 74.87 %\n",
      "Epoch    73: reducing learning rate of group 0 to 1.0890e-04.\n",
      "Epoch:80/100 AVG Training Loss:0.265 AVG Validation Loss:0.572 AVG Training Acc 87.99 % AVG Validation Acc 75.67 %\n",
      "Epoch:90/100 AVG Training Loss:0.253 AVG Validation Loss:0.589 AVG Training Acc 88.57 % AVG Validation Acc 76.08 %\n",
      "Epoch:100/100 AVG Training Loss:0.241 AVG Validation Loss:0.617 AVG Training Acc 88.79 % AVG Validation Acc 75.67 %\n",
      "Split 4\n"
     ]
    },
    {
     "data": {
      "application/vnd.jupyter.widget-view+json": {
       "model_id": "d55357c09ed34473a001b17bfb4d06d6",
       "version_major": 2,
       "version_minor": 0
      },
      "text/plain": [
       "  0%|          | 0/100 [00:00<?, ?it/s]"
      ]
     },
     "metadata": {},
     "output_type": "display_data"
    },
    {
     "name": "stdout",
     "output_type": "stream",
     "text": [
      "Epoch:10/100 AVG Training Loss:0.963 AVG Validation Loss:1.083 AVG Training Acc 51.00 % AVG Validation Acc 20.16 %\n",
      "Epoch:20/100 AVG Training Loss:0.574 AVG Validation Loss:0.686 AVG Training Acc 74.42 % AVG Validation Acc 56.72 %\n",
      "Epoch:30/100 AVG Training Loss:0.405 AVG Validation Loss:0.568 AVG Training Acc 82.12 % AVG Validation Acc 74.60 %\n",
      "Epoch:40/100 AVG Training Loss:0.344 AVG Validation Loss:0.580 AVG Training Acc 84.79 % AVG Validation Acc 75.94 %\n",
      "Epoch    46: reducing learning rate of group 0 to 3.3000e-04.\n",
      "Epoch:50/100 AVG Training Loss:0.328 AVG Validation Loss:0.518 AVG Training Acc 85.44 % AVG Validation Acc 79.03 %\n",
      "Epoch:60/100 AVG Training Loss:0.302 AVG Validation Loss:0.532 AVG Training Acc 86.28 % AVG Validation Acc 78.63 %\n",
      "Epoch:70/100 AVG Training Loss:0.281 AVG Validation Loss:0.557 AVG Training Acc 86.60 % AVG Validation Acc 77.42 %\n",
      "Epoch:80/100 AVG Training Loss:0.256 AVG Validation Loss:0.589 AVG Training Acc 87.87 % AVG Validation Acc 76.88 %\n",
      "Epoch    82: reducing learning rate of group 0 to 1.0890e-04.\n",
      "Epoch:90/100 AVG Training Loss:0.249 AVG Validation Loss:0.637 AVG Training Acc 88.30 % AVG Validation Acc 78.09 %\n",
      "Epoch:100/100 AVG Training Loss:0.238 AVG Validation Loss:0.654 AVG Training Acc 88.87 % AVG Validation Acc 76.88 %\n",
      "Split 5\n"
     ]
    },
    {
     "data": {
      "application/vnd.jupyter.widget-view+json": {
       "model_id": "987acd1c1d6948a096a5b38aae8dbed4",
       "version_major": 2,
       "version_minor": 0
      },
      "text/plain": [
       "  0%|          | 0/100 [00:00<?, ?it/s]"
      ]
     },
     "metadata": {},
     "output_type": "display_data"
    },
    {
     "name": "stdout",
     "output_type": "stream",
     "text": [
      "Epoch:10/100 AVG Training Loss:0.663 AVG Validation Loss:0.704 AVG Training Acc 61.08 % AVG Validation Acc 38.98 %\n",
      "Epoch:20/100 AVG Training Loss:0.553 AVG Validation Loss:0.691 AVG Training Acc 76.22 % AVG Validation Acc 57.53 %\n",
      "Epoch:30/100 AVG Training Loss:0.427 AVG Validation Loss:0.906 AVG Training Acc 82.10 % AVG Validation Acc 65.32 %\n",
      "Epoch:40/100 AVG Training Loss:0.333 AVG Validation Loss:0.583 AVG Training Acc 85.48 % AVG Validation Acc 74.19 %\n",
      "Epoch:50/100 AVG Training Loss:0.302 AVG Validation Loss:0.587 AVG Training Acc 86.27 % AVG Validation Acc 74.60 %\n",
      "Epoch:60/100 AVG Training Loss:0.264 AVG Validation Loss:0.611 AVG Training Acc 87.91 % AVG Validation Acc 70.43 %\n",
      "Epoch    67: reducing learning rate of group 0 to 3.3000e-04.\n",
      "Epoch:70/100 AVG Training Loss:0.213 AVG Validation Loss:0.634 AVG Training Acc 89.82 % AVG Validation Acc 69.35 %\n",
      "Epoch:80/100 AVG Training Loss:0.174 AVG Validation Loss:0.848 AVG Training Acc 91.94 % AVG Validation Acc 69.35 %\n",
      "Epoch:90/100 AVG Training Loss:0.143 AVG Validation Loss:1.067 AVG Training Acc 93.60 % AVG Validation Acc 70.03 %\n",
      "Epoch:100/100 AVG Training Loss:0.128 AVG Validation Loss:1.160 AVG Training Acc 94.36 % AVG Validation Acc 69.76 %\n",
      "Split 6\n"
     ]
    },
    {
     "data": {
      "application/vnd.jupyter.widget-view+json": {
       "model_id": "2b9719ce9f904eb38b76ab2d6289646f",
       "version_major": 2,
       "version_minor": 0
      },
      "text/plain": [
       "  0%|          | 0/100 [00:00<?, ?it/s]"
      ]
     },
     "metadata": {},
     "output_type": "display_data"
    },
    {
     "name": "stdout",
     "output_type": "stream",
     "text": [
      "Epoch:10/100 AVG Training Loss:0.666 AVG Validation Loss:0.678 AVG Training Acc 57.72 % AVG Validation Acc 43.55 %\n",
      "Epoch:20/100 AVG Training Loss:0.508 AVG Validation Loss:1.598 AVG Training Acc 77.67 % AVG Validation Acc 34.68 %\n",
      "Epoch:30/100 AVG Training Loss:0.391 AVG Validation Loss:0.655 AVG Training Acc 83.08 % AVG Validation Acc 71.24 %\n",
      "Epoch    35: reducing learning rate of group 0 to 3.3000e-04.\n",
      "Epoch:40/100 AVG Training Loss:0.331 AVG Validation Loss:0.532 AVG Training Acc 84.93 % AVG Validation Acc 76.34 %\n",
      "Epoch:50/100 AVG Training Loss:0.309 AVG Validation Loss:0.547 AVG Training Acc 85.89 % AVG Validation Acc 75.67 %\n",
      "Epoch:60/100 AVG Training Loss:0.287 AVG Validation Loss:0.571 AVG Training Acc 86.86 % AVG Validation Acc 74.46 %\n",
      "Epoch:70/100 AVG Training Loss:0.258 AVG Validation Loss:0.586 AVG Training Acc 87.75 % AVG Validation Acc 74.73 %\n",
      "Epoch    71: reducing learning rate of group 0 to 1.0890e-04.\n",
      "Epoch:80/100 AVG Training Loss:0.243 AVG Validation Loss:0.561 AVG Training Acc 88.49 % AVG Validation Acc 76.61 %\n",
      "Epoch:90/100 AVG Training Loss:0.232 AVG Validation Loss:0.573 AVG Training Acc 89.06 % AVG Validation Acc 76.08 %\n",
      "Epoch:100/100 AVG Training Loss:0.224 AVG Validation Loss:0.581 AVG Training Acc 89.44 % AVG Validation Acc 76.08 %\n",
      "Split 7\n"
     ]
    },
    {
     "data": {
      "application/vnd.jupyter.widget-view+json": {
       "model_id": "f05d23cb18304a94b378fdeebb92991b",
       "version_major": 2,
       "version_minor": 0
      },
      "text/plain": [
       "  0%|          | 0/100 [00:00<?, ?it/s]"
      ]
     },
     "metadata": {},
     "output_type": "display_data"
    },
    {
     "name": "stdout",
     "output_type": "stream",
     "text": [
      "Epoch:10/100 AVG Training Loss:0.860 AVG Validation Loss:0.799 AVG Training Acc 41.56 % AVG Validation Acc 20.05 %\n",
      "Epoch:20/100 AVG Training Loss:0.615 AVG Validation Loss:0.625 AVG Training Acc 69.36 % AVG Validation Acc 59.76 %\n",
      "Epoch:30/100 AVG Training Loss:0.490 AVG Validation Loss:0.716 AVG Training Acc 79.57 % AVG Validation Acc 64.47 %\n",
      "Epoch:40/100 AVG Training Loss:0.358 AVG Validation Loss:0.579 AVG Training Acc 84.27 % AVG Validation Acc 75.37 %\n",
      "Epoch:50/100 AVG Training Loss:0.329 AVG Validation Loss:0.583 AVG Training Acc 85.26 % AVG Validation Acc 76.58 %\n",
      "Epoch    55: reducing learning rate of group 0 to 3.3000e-04.\n",
      "Epoch:60/100 AVG Training Loss:0.299 AVG Validation Loss:0.534 AVG Training Acc 86.55 % AVG Validation Acc 78.60 %\n",
      "Epoch:70/100 AVG Training Loss:0.279 AVG Validation Loss:0.561 AVG Training Acc 87.09 % AVG Validation Acc 77.52 %\n",
      "Epoch:80/100 AVG Training Loss:0.257 AVG Validation Loss:0.593 AVG Training Acc 88.04 % AVG Validation Acc 77.12 %\n",
      "Epoch:90/100 AVG Training Loss:0.233 AVG Validation Loss:0.644 AVG Training Acc 88.83 % AVG Validation Acc 75.37 %\n",
      "Epoch    91: reducing learning rate of group 0 to 1.0890e-04.\n",
      "Epoch:100/100 AVG Training Loss:0.217 AVG Validation Loss:0.674 AVG Training Acc 89.53 % AVG Validation Acc 75.24 %\n",
      "Split 8\n"
     ]
    },
    {
     "data": {
      "application/vnd.jupyter.widget-view+json": {
       "model_id": "890ddf3c56c34005902edf6cb91f32f1",
       "version_major": 2,
       "version_minor": 0
      },
      "text/plain": [
       "  0%|          | 0/100 [00:00<?, ?it/s]"
      ]
     },
     "metadata": {},
     "output_type": "display_data"
    },
    {
     "name": "stdout",
     "output_type": "stream",
     "text": [
      "Epoch:10/100 AVG Training Loss:0.665 AVG Validation Loss:0.664 AVG Training Acc 58.33 % AVG Validation Acc 49.93 %\n",
      "Epoch:20/100 AVG Training Loss:0.472 AVG Validation Loss:1.962 AVG Training Acc 78.98 % AVG Validation Acc 43.88 %\n",
      "Epoch:30/100 AVG Training Loss:0.355 AVG Validation Loss:0.591 AVG Training Acc 84.21 % AVG Validation Acc 74.02 %\n",
      "Epoch    38: reducing learning rate of group 0 to 3.3000e-04.\n",
      "Epoch:40/100 AVG Training Loss:0.295 AVG Validation Loss:0.550 AVG Training Acc 86.67 % AVG Validation Acc 74.97 %\n",
      "Epoch:50/100 AVG Training Loss:0.264 AVG Validation Loss:0.593 AVG Training Acc 87.79 % AVG Validation Acc 74.29 %\n",
      "Epoch:60/100 AVG Training Loss:0.238 AVG Validation Loss:0.639 AVG Training Acc 89.08 % AVG Validation Acc 73.89 %\n",
      "Epoch:70/100 AVG Training Loss:0.227 AVG Validation Loss:0.657 AVG Training Acc 89.22 % AVG Validation Acc 73.89 %\n",
      "Epoch    74: reducing learning rate of group 0 to 1.0890e-04.\n",
      "Epoch:80/100 AVG Training Loss:0.205 AVG Validation Loss:0.674 AVG Training Acc 90.55 % AVG Validation Acc 73.35 %\n",
      "Epoch:90/100 AVG Training Loss:0.193 AVG Validation Loss:0.713 AVG Training Acc 91.21 % AVG Validation Acc 72.14 %\n",
      "Epoch:100/100 AVG Training Loss:0.183 AVG Validation Loss:0.759 AVG Training Acc 91.58 % AVG Validation Acc 71.60 %\n",
      "Split 9\n"
     ]
    },
    {
     "data": {
      "application/vnd.jupyter.widget-view+json": {
       "model_id": "2e6bf5f80cd44bd990c8dbb45bb5ddf6",
       "version_major": 2,
       "version_minor": 0
      },
      "text/plain": [
       "  0%|          | 0/100 [00:00<?, ?it/s]"
      ]
     },
     "metadata": {},
     "output_type": "display_data"
    },
    {
     "name": "stdout",
     "output_type": "stream",
     "text": [
      "Epoch:10/100 AVG Training Loss:0.971 AVG Validation Loss:1.686 AVG Training Acc 57.41 % AVG Validation Acc 20.05 %\n",
      "Epoch:20/100 AVG Training Loss:0.585 AVG Validation Loss:0.634 AVG Training Acc 74.00 % AVG Validation Acc 59.76 %\n",
      "Epoch:30/100 AVG Training Loss:0.437 AVG Validation Loss:0.773 AVG Training Acc 81.83 % AVG Validation Acc 65.95 %\n",
      "Epoch:40/100 AVG Training Loss:0.360 AVG Validation Loss:0.650 AVG Training Acc 83.96 % AVG Validation Acc 74.70 %\n",
      "Epoch:50/100 AVG Training Loss:0.333 AVG Validation Loss:0.542 AVG Training Acc 85.20 % AVG Validation Acc 77.39 %\n",
      "Epoch:60/100 AVG Training Loss:0.309 AVG Validation Loss:0.555 AVG Training Acc 85.96 % AVG Validation Acc 76.85 %\n",
      "Epoch    63: reducing learning rate of group 0 to 3.3000e-04.\n",
      "Epoch:70/100 AVG Training Loss:0.282 AVG Validation Loss:0.504 AVG Training Acc 86.96 % AVG Validation Acc 78.60 %\n",
      "Epoch:80/100 AVG Training Loss:0.259 AVG Validation Loss:0.540 AVG Training Acc 87.59 % AVG Validation Acc 77.39 %\n",
      "Epoch:90/100 AVG Training Loss:0.242 AVG Validation Loss:0.546 AVG Training Acc 88.16 % AVG Validation Acc 76.85 %\n",
      "Epoch    99: reducing learning rate of group 0 to 1.0890e-04.\n",
      "Epoch:100/100 AVG Training Loss:0.219 AVG Validation Loss:0.585 AVG Training Acc 89.27 % AVG Validation Acc 77.52 %\n",
      "Split 10\n"
     ]
    },
    {
     "data": {
      "application/vnd.jupyter.widget-view+json": {
       "model_id": "9412742c42cb423588b13ba2ddc02047",
       "version_major": 2,
       "version_minor": 0
      },
      "text/plain": [
       "  0%|          | 0/100 [00:00<?, ?it/s]"
      ]
     },
     "metadata": {},
     "output_type": "display_data"
    },
    {
     "name": "stdout",
     "output_type": "stream",
     "text": [
      "Epoch:10/100 AVG Training Loss:1.081 AVG Validation Loss:1.413 AVG Training Acc 55.33 % AVG Validation Acc 20.19 %\n",
      "Epoch:20/100 AVG Training Loss:0.538 AVG Validation Loss:0.756 AVG Training Acc 77.05 % AVG Validation Acc 55.45 %\n",
      "Epoch:30/100 AVG Training Loss:0.394 AVG Validation Loss:0.680 AVG Training Acc 82.76 % AVG Validation Acc 71.87 %\n",
      "Epoch:40/100 AVG Training Loss:0.357 AVG Validation Loss:0.575 AVG Training Acc 84.12 % AVG Validation Acc 74.29 %\n",
      "Epoch:50/100 AVG Training Loss:0.328 AVG Validation Loss:0.560 AVG Training Acc 85.29 % AVG Validation Acc 75.64 %\n",
      "Epoch:60/100 AVG Training Loss:0.299 AVG Validation Loss:0.634 AVG Training Acc 86.38 % AVG Validation Acc 71.60 %\n",
      "Epoch:70/100 AVG Training Loss:0.258 AVG Validation Loss:0.665 AVG Training Acc 88.02 % AVG Validation Acc 67.43 %\n",
      "Epoch    79: reducing learning rate of group 0 to 3.3000e-04.\n",
      "Epoch:80/100 AVG Training Loss:0.235 AVG Validation Loss:0.682 AVG Training Acc 89.08 % AVG Validation Acc 74.83 %\n",
      "Epoch:90/100 AVG Training Loss:0.182 AVG Validation Loss:0.884 AVG Training Acc 91.58 % AVG Validation Acc 72.68 %\n",
      "Epoch:100/100 AVG Training Loss:0.166 AVG Validation Loss:1.027 AVG Training Acc 92.33 % AVG Validation Acc 72.95 %\n",
      "Replica 11\n"
     ]
    },
    {
     "data": {
      "application/vnd.jupyter.widget-view+json": {
       "model_id": "cb095667c2524be2ad81264a8b92dd39",
       "version_major": 2,
       "version_minor": 0
      },
      "text/plain": [
       "0it [00:00, ?it/s]"
      ]
     },
     "metadata": {},
     "output_type": "display_data"
    },
    {
     "name": "stdout",
     "output_type": "stream",
     "text": [
      "Split 1\n"
     ]
    },
    {
     "data": {
      "application/vnd.jupyter.widget-view+json": {
       "model_id": "f2b037a6c3d14297a1cb84582591b661",
       "version_major": 2,
       "version_minor": 0
      },
      "text/plain": [
       "  0%|          | 0/100 [00:00<?, ?it/s]"
      ]
     },
     "metadata": {},
     "output_type": "display_data"
    },
    {
     "name": "stdout",
     "output_type": "stream",
     "text": [
      "Epoch:10/100 AVG Training Loss:0.684 AVG Validation Loss:0.699 AVG Training Acc 54.22 % AVG Validation Acc 35.08 %\n",
      "Epoch:20/100 AVG Training Loss:0.531 AVG Validation Loss:0.626 AVG Training Acc 78.73 % AVG Validation Acc 64.25 %\n",
      "Epoch:30/100 AVG Training Loss:0.380 AVG Validation Loss:0.575 AVG Training Acc 83.59 % AVG Validation Acc 76.48 %\n",
      "Epoch:40/100 AVG Training Loss:0.334 AVG Validation Loss:0.556 AVG Training Acc 85.32 % AVG Validation Acc 77.42 %\n",
      "Epoch:50/100 AVG Training Loss:0.305 AVG Validation Loss:0.562 AVG Training Acc 86.33 % AVG Validation Acc 77.96 %\n",
      "Epoch:60/100 AVG Training Loss:0.275 AVG Validation Loss:0.566 AVG Training Acc 87.20 % AVG Validation Acc 77.28 %\n",
      "Epoch    60: reducing learning rate of group 0 to 3.3000e-04.\n",
      "Epoch:70/100 AVG Training Loss:0.231 AVG Validation Loss:0.613 AVG Training Acc 88.95 % AVG Validation Acc 77.15 %\n",
      "Epoch:80/100 AVG Training Loss:0.207 AVG Validation Loss:0.758 AVG Training Acc 90.13 % AVG Validation Acc 74.87 %\n",
      "Epoch:90/100 AVG Training Loss:0.171 AVG Validation Loss:0.912 AVG Training Acc 91.72 % AVG Validation Acc 72.31 %\n",
      "Epoch    96: reducing learning rate of group 0 to 1.0890e-04.\n",
      "Epoch:100/100 AVG Training Loss:0.148 AVG Validation Loss:0.914 AVG Training Acc 92.83 % AVG Validation Acc 74.46 %\n",
      "Split 2\n"
     ]
    },
    {
     "data": {
      "application/vnd.jupyter.widget-view+json": {
       "model_id": "f1e2ef676ad3422982636421e45401dd",
       "version_major": 2,
       "version_minor": 0
      },
      "text/plain": [
       "  0%|          | 0/100 [00:00<?, ?it/s]"
      ]
     },
     "metadata": {},
     "output_type": "display_data"
    },
    {
     "name": "stdout",
     "output_type": "stream",
     "text": [
      "Epoch:10/100 AVG Training Loss:0.817 AVG Validation Loss:2.088 AVG Training Acc 63.36 % AVG Validation Acc 20.16 %\n",
      "Epoch:20/100 AVG Training Loss:0.468 AVG Validation Loss:0.683 AVG Training Acc 79.68 % AVG Validation Acc 67.34 %\n",
      "Epoch:30/100 AVG Training Loss:0.414 AVG Validation Loss:0.597 AVG Training Acc 82.21 % AVG Validation Acc 73.79 %\n",
      "Epoch:40/100 AVG Training Loss:0.362 AVG Validation Loss:0.579 AVG Training Acc 84.19 % AVG Validation Acc 74.87 %\n",
      "Epoch    40: reducing learning rate of group 0 to 3.3000e-04.\n",
      "Epoch:50/100 AVG Training Loss:0.336 AVG Validation Loss:0.516 AVG Training Acc 85.36 % AVG Validation Acc 77.15 %\n",
      "Epoch:60/100 AVG Training Loss:0.324 AVG Validation Loss:0.523 AVG Training Acc 85.80 % AVG Validation Acc 77.96 %\n",
      "Epoch:70/100 AVG Training Loss:0.311 AVG Validation Loss:0.534 AVG Training Acc 86.30 % AVG Validation Acc 77.69 %\n",
      "Epoch    76: reducing learning rate of group 0 to 1.0890e-04.\n",
      "Epoch:80/100 AVG Training Loss:0.300 AVG Validation Loss:0.498 AVG Training Acc 86.67 % AVG Validation Acc 78.09 %\n",
      "Epoch:90/100 AVG Training Loss:0.293 AVG Validation Loss:0.506 AVG Training Acc 86.73 % AVG Validation Acc 77.28 %\n",
      "Epoch:100/100 AVG Training Loss:0.287 AVG Validation Loss:0.507 AVG Training Acc 86.82 % AVG Validation Acc 77.55 %\n",
      "Split 3\n"
     ]
    },
    {
     "data": {
      "application/vnd.jupyter.widget-view+json": {
       "model_id": "3f4ce7a8972746dfa7f959af374c9b02",
       "version_major": 2,
       "version_minor": 0
      },
      "text/plain": [
       "  0%|          | 0/100 [00:00<?, ?it/s]"
      ]
     },
     "metadata": {},
     "output_type": "display_data"
    },
    {
     "name": "stdout",
     "output_type": "stream",
     "text": [
      "Epoch:10/100 AVG Training Loss:1.047 AVG Validation Loss:1.825 AVG Training Acc 58.72 % AVG Validation Acc 20.16 %\n",
      "Epoch:20/100 AVG Training Loss:0.431 AVG Validation Loss:2.669 AVG Training Acc 80.90 % AVG Validation Acc 34.54 %\n",
      "Epoch:30/100 AVG Training Loss:0.397 AVG Validation Loss:0.613 AVG Training Acc 82.33 % AVG Validation Acc 73.39 %\n",
      "Epoch:40/100 AVG Training Loss:0.375 AVG Validation Loss:0.651 AVG Training Acc 83.93 % AVG Validation Acc 74.06 %\n",
      "Epoch:50/100 AVG Training Loss:0.336 AVG Validation Loss:0.563 AVG Training Acc 85.40 % AVG Validation Acc 75.94 %\n",
      "Epoch    59: reducing learning rate of group 0 to 3.3000e-04.\n",
      "Epoch:60/100 AVG Training Loss:0.325 AVG Validation Loss:0.499 AVG Training Acc 85.52 % AVG Validation Acc 78.90 %\n",
      "Epoch:70/100 AVG Training Loss:0.292 AVG Validation Loss:0.524 AVG Training Acc 86.65 % AVG Validation Acc 77.82 %\n",
      "Epoch:80/100 AVG Training Loss:0.272 AVG Validation Loss:0.563 AVG Training Acc 87.32 % AVG Validation Acc 77.02 %\n",
      "Epoch:90/100 AVG Training Loss:0.255 AVG Validation Loss:0.621 AVG Training Acc 87.90 % AVG Validation Acc 75.54 %\n",
      "Epoch    95: reducing learning rate of group 0 to 1.0890e-04.\n",
      "Epoch:100/100 AVG Training Loss:0.235 AVG Validation Loss:0.660 AVG Training Acc 88.78 % AVG Validation Acc 76.21 %\n",
      "Split 4\n"
     ]
    },
    {
     "data": {
      "application/vnd.jupyter.widget-view+json": {
       "model_id": "86461ac0368b4b79b0cbb512224b37d9",
       "version_major": 2,
       "version_minor": 0
      },
      "text/plain": [
       "  0%|          | 0/100 [00:00<?, ?it/s]"
      ]
     },
     "metadata": {},
     "output_type": "display_data"
    },
    {
     "name": "stdout",
     "output_type": "stream",
     "text": [
      "Epoch:10/100 AVG Training Loss:0.768 AVG Validation Loss:2.621 AVG Training Acc 63.81 % AVG Validation Acc 20.16 %\n",
      "Epoch:20/100 AVG Training Loss:0.533 AVG Validation Loss:1.426 AVG Training Acc 75.85 % AVG Validation Acc 31.32 %\n",
      "Epoch:30/100 AVG Training Loss:0.559 AVG Validation Loss:0.698 AVG Training Acc 75.60 % AVG Validation Acc 59.01 %\n",
      "Epoch    34: reducing learning rate of group 0 to 3.3000e-04.\n",
      "Epoch:40/100 AVG Training Loss:0.440 AVG Validation Loss:0.593 AVG Training Acc 80.93 % AVG Validation Acc 70.83 %\n",
      "Epoch:50/100 AVG Training Loss:0.386 AVG Validation Loss:0.571 AVG Training Acc 82.57 % AVG Validation Acc 73.25 %\n",
      "Epoch:60/100 AVG Training Loss:0.358 AVG Validation Loss:0.561 AVG Training Acc 83.86 % AVG Validation Acc 74.19 %\n",
      "Epoch:70/100 AVG Training Loss:0.335 AVG Validation Loss:0.554 AVG Training Acc 84.91 % AVG Validation Acc 74.87 %\n",
      "Epoch:80/100 AVG Training Loss:0.320 AVG Validation Loss:0.539 AVG Training Acc 85.58 % AVG Validation Acc 75.27 %\n",
      "Epoch:90/100 AVG Training Loss:0.301 AVG Validation Loss:0.536 AVG Training Acc 86.17 % AVG Validation Acc 76.34 %\n",
      "Epoch:100/100 AVG Training Loss:0.294 AVG Validation Loss:0.543 AVG Training Acc 86.30 % AVG Validation Acc 76.61 %\n",
      "Split 5\n"
     ]
    },
    {
     "data": {
      "application/vnd.jupyter.widget-view+json": {
       "model_id": "f514b64b9c0347399cde14d58ec08458",
       "version_major": 2,
       "version_minor": 0
      },
      "text/plain": [
       "  0%|          | 0/100 [00:00<?, ?it/s]"
      ]
     },
     "metadata": {},
     "output_type": "display_data"
    },
    {
     "name": "stdout",
     "output_type": "stream",
     "text": [
      "Epoch:10/100 AVG Training Loss:0.648 AVG Validation Loss:0.682 AVG Training Acc 63.37 % AVG Validation Acc 45.16 %\n",
      "Epoch:20/100 AVG Training Loss:0.484 AVG Validation Loss:1.178 AVG Training Acc 79.63 % AVG Validation Acc 43.68 %\n",
      "Epoch:30/100 AVG Training Loss:0.367 AVG Validation Loss:0.602 AVG Training Acc 83.99 % AVG Validation Acc 73.52 %\n",
      "Epoch:40/100 AVG Training Loss:0.326 AVG Validation Loss:0.588 AVG Training Acc 85.63 % AVG Validation Acc 74.46 %\n",
      "Epoch:50/100 AVG Training Loss:0.289 AVG Validation Loss:0.636 AVG Training Acc 86.93 % AVG Validation Acc 72.31 %\n",
      "Epoch    57: reducing learning rate of group 0 to 3.3000e-04.\n",
      "Epoch:60/100 AVG Training Loss:0.254 AVG Validation Loss:0.584 AVG Training Acc 88.42 % AVG Validation Acc 75.13 %\n",
      "Epoch:70/100 AVG Training Loss:0.212 AVG Validation Loss:0.686 AVG Training Acc 90.06 % AVG Validation Acc 72.85 %\n",
      "Epoch:80/100 AVG Training Loss:0.187 AVG Validation Loss:0.756 AVG Training Acc 90.91 % AVG Validation Acc 72.98 %\n",
      "Epoch:90/100 AVG Training Loss:0.163 AVG Validation Loss:0.839 AVG Training Acc 92.34 % AVG Validation Acc 72.18 %\n",
      "Epoch    93: reducing learning rate of group 0 to 1.0890e-04.\n",
      "Epoch:100/100 AVG Training Loss:0.145 AVG Validation Loss:0.870 AVG Training Acc 93.13 % AVG Validation Acc 73.66 %\n",
      "Split 6\n"
     ]
    },
    {
     "data": {
      "application/vnd.jupyter.widget-view+json": {
       "model_id": "c5453fa719d24ebd90c48b9379eac799",
       "version_major": 2,
       "version_minor": 0
      },
      "text/plain": [
       "  0%|          | 0/100 [00:00<?, ?it/s]"
      ]
     },
     "metadata": {},
     "output_type": "display_data"
    },
    {
     "name": "stdout",
     "output_type": "stream",
     "text": [
      "Epoch:10/100 AVG Training Loss:0.666 AVG Validation Loss:0.708 AVG Training Acc 59.26 % AVG Validation Acc 36.83 %\n",
      "Epoch:20/100 AVG Training Loss:0.502 AVG Validation Loss:0.801 AVG Training Acc 76.35 % AVG Validation Acc 61.56 %\n",
      "Epoch:30/100 AVG Training Loss:0.423 AVG Validation Loss:0.825 AVG Training Acc 81.82 % AVG Validation Acc 67.20 %\n",
      "Epoch:40/100 AVG Training Loss:0.346 AVG Validation Loss:0.617 AVG Training Acc 84.59 % AVG Validation Acc 74.33 %\n",
      "Epoch:50/100 AVG Training Loss:0.311 AVG Validation Loss:0.611 AVG Training Acc 85.67 % AVG Validation Acc 73.79 %\n",
      "Epoch:60/100 AVG Training Loss:0.273 AVG Validation Loss:0.646 AVG Training Acc 87.29 % AVG Validation Acc 69.76 %\n",
      "Epoch    68: reducing learning rate of group 0 to 3.3000e-04.\n",
      "Epoch:70/100 AVG Training Loss:0.236 AVG Validation Loss:0.632 AVG Training Acc 89.06 % AVG Validation Acc 73.12 %\n",
      "Epoch:80/100 AVG Training Loss:0.196 AVG Validation Loss:0.747 AVG Training Acc 90.67 % AVG Validation Acc 71.24 %\n",
      "Epoch:90/100 AVG Training Loss:0.166 AVG Validation Loss:0.815 AVG Training Acc 91.81 % AVG Validation Acc 71.51 %\n",
      "Epoch:100/100 AVG Training Loss:0.142 AVG Validation Loss:0.873 AVG Training Acc 93.19 % AVG Validation Acc 70.56 %\n",
      "Split 7\n"
     ]
    },
    {
     "data": {
      "application/vnd.jupyter.widget-view+json": {
       "model_id": "094acd9bda4f40e6a1a703e84421da8b",
       "version_major": 2,
       "version_minor": 0
      },
      "text/plain": [
       "  0%|          | 0/100 [00:00<?, ?it/s]"
      ]
     },
     "metadata": {},
     "output_type": "display_data"
    },
    {
     "name": "stdout",
     "output_type": "stream",
     "text": [
      "Epoch:10/100 AVG Training Loss:0.670 AVG Validation Loss:0.668 AVG Training Acc 56.84 % AVG Validation Acc 48.45 %\n",
      "Epoch:20/100 AVG Training Loss:0.515 AVG Validation Loss:0.656 AVG Training Acc 78.19 % AVG Validation Acc 66.22 %\n",
      "Epoch:30/100 AVG Training Loss:0.352 AVG Validation Loss:0.592 AVG Training Acc 84.28 % AVG Validation Acc 74.97 %\n",
      "Epoch:40/100 AVG Training Loss:0.304 AVG Validation Loss:0.617 AVG Training Acc 86.16 % AVG Validation Acc 73.35 %\n",
      "Epoch    41: reducing learning rate of group 0 to 3.3000e-04.\n",
      "Epoch:50/100 AVG Training Loss:0.259 AVG Validation Loss:0.584 AVG Training Acc 87.94 % AVG Validation Acc 75.91 %\n",
      "Epoch:60/100 AVG Training Loss:0.226 AVG Validation Loss:0.711 AVG Training Acc 88.87 % AVG Validation Acc 74.16 %\n",
      "Epoch:70/100 AVG Training Loss:0.204 AVG Validation Loss:0.835 AVG Training Acc 90.27 % AVG Validation Acc 71.20 %\n",
      "Epoch    77: reducing learning rate of group 0 to 1.0890e-04.\n",
      "Epoch:80/100 AVG Training Loss:0.179 AVG Validation Loss:0.738 AVG Training Acc 91.95 % AVG Validation Acc 75.91 %\n",
      "Epoch:90/100 AVG Training Loss:0.163 AVG Validation Loss:0.774 AVG Training Acc 92.53 % AVG Validation Acc 75.37 %\n",
      "Epoch:100/100 AVG Training Loss:0.149 AVG Validation Loss:0.825 AVG Training Acc 93.09 % AVG Validation Acc 74.97 %\n",
      "Split 8\n"
     ]
    },
    {
     "data": {
      "application/vnd.jupyter.widget-view+json": {
       "model_id": "e098e17ce3e64192bbcca4f26cd0dd2f",
       "version_major": 2,
       "version_minor": 0
      },
      "text/plain": [
       "  0%|          | 0/100 [00:00<?, ?it/s]"
      ]
     },
     "metadata": {},
     "output_type": "display_data"
    },
    {
     "name": "stdout",
     "output_type": "stream",
     "text": [
      "Epoch:10/100 AVG Training Loss:0.600 AVG Validation Loss:2.460 AVG Training Acc 60.51 % AVG Validation Acc 25.30 %\n",
      "Epoch:20/100 AVG Training Loss:0.625 AVG Validation Loss:0.638 AVG Training Acc 69.37 % AVG Validation Acc 60.57 %\n",
      "Epoch:30/100 AVG Training Loss:0.478 AVG Validation Loss:0.722 AVG Training Acc 79.25 % AVG Validation Acc 66.35 %\n",
      "Epoch    38: reducing learning rate of group 0 to 3.3000e-04.\n",
      "Epoch:40/100 AVG Training Loss:0.352 AVG Validation Loss:0.505 AVG Training Acc 84.49 % AVG Validation Acc 76.58 %\n",
      "Epoch:50/100 AVG Training Loss:0.335 AVG Validation Loss:0.512 AVG Training Acc 85.27 % AVG Validation Acc 76.72 %\n",
      "Epoch:60/100 AVG Training Loss:0.326 AVG Validation Loss:0.518 AVG Training Acc 85.76 % AVG Validation Acc 76.99 %\n",
      "Epoch:70/100 AVG Training Loss:0.318 AVG Validation Loss:0.521 AVG Training Acc 85.99 % AVG Validation Acc 77.39 %\n",
      "Epoch    74: reducing learning rate of group 0 to 1.0890e-04.\n",
      "Epoch:80/100 AVG Training Loss:0.305 AVG Validation Loss:0.495 AVG Training Acc 86.55 % AVG Validation Acc 78.20 %\n",
      "Epoch:90/100 AVG Training Loss:0.302 AVG Validation Loss:0.501 AVG Training Acc 86.71 % AVG Validation Acc 78.20 %\n",
      "Epoch:100/100 AVG Training Loss:0.297 AVG Validation Loss:0.505 AVG Training Acc 86.79 % AVG Validation Acc 78.06 %\n",
      "Split 9\n"
     ]
    },
    {
     "data": {
      "application/vnd.jupyter.widget-view+json": {
       "model_id": "6becb8e1e00b4804b1b2d0f0d608b044",
       "version_major": 2,
       "version_minor": 0
      },
      "text/plain": [
       "  0%|          | 0/100 [00:00<?, ?it/s]"
      ]
     },
     "metadata": {},
     "output_type": "display_data"
    },
    {
     "name": "stdout",
     "output_type": "stream",
     "text": [
      "Epoch:10/100 AVG Training Loss:0.687 AVG Validation Loss:0.693 AVG Training Acc 52.76 % AVG Validation Acc 39.97 %\n",
      "Epoch:20/100 AVG Training Loss:0.595 AVG Validation Loss:0.629 AVG Training Acc 73.07 % AVG Validation Acc 59.76 %\n",
      "Epoch:30/100 AVG Training Loss:0.435 AVG Validation Loss:0.750 AVG Training Acc 80.54 % AVG Validation Acc 71.74 %\n",
      "Epoch:40/100 AVG Training Loss:0.369 AVG Validation Loss:0.547 AVG Training Acc 83.89 % AVG Validation Acc 76.58 %\n",
      "Epoch:50/100 AVG Training Loss:0.340 AVG Validation Loss:0.571 AVG Training Acc 84.96 % AVG Validation Acc 77.12 %\n",
      "Epoch:60/100 AVG Training Loss:0.312 AVG Validation Loss:0.544 AVG Training Acc 85.89 % AVG Validation Acc 77.52 %\n",
      "Epoch:70/100 AVG Training Loss:0.288 AVG Validation Loss:0.610 AVG Training Acc 86.71 % AVG Validation Acc 71.60 %\n",
      "Epoch    70: reducing learning rate of group 0 to 3.3000e-04.\n",
      "Epoch:80/100 AVG Training Loss:0.249 AVG Validation Loss:0.597 AVG Training Acc 88.19 % AVG Validation Acc 77.39 %\n",
      "Epoch:90/100 AVG Training Loss:0.212 AVG Validation Loss:0.691 AVG Training Acc 89.78 % AVG Validation Acc 74.70 %\n",
      "Epoch:100/100 AVG Training Loss:0.186 AVG Validation Loss:0.770 AVG Training Acc 91.24 % AVG Validation Acc 75.64 %\n",
      "Split 10\n"
     ]
    },
    {
     "data": {
      "application/vnd.jupyter.widget-view+json": {
       "model_id": "9410605d34e643bf96455c23e1203e60",
       "version_major": 2,
       "version_minor": 0
      },
      "text/plain": [
       "  0%|          | 0/100 [00:00<?, ?it/s]"
      ]
     },
     "metadata": {},
     "output_type": "display_data"
    },
    {
     "name": "stdout",
     "output_type": "stream",
     "text": [
      "Epoch:10/100 AVG Training Loss:0.727 AVG Validation Loss:0.694 AVG Training Acc 36.59 % AVG Validation Acc 39.84 %\n",
      "Epoch:20/100 AVG Training Loss:0.574 AVG Validation Loss:0.669 AVG Training Acc 75.42 % AVG Validation Acc 57.74 %\n",
      "Epoch:30/100 AVG Training Loss:0.459 AVG Validation Loss:0.712 AVG Training Acc 82.51 % AVG Validation Acc 69.45 %\n",
      "Epoch:40/100 AVG Training Loss:0.333 AVG Validation Loss:0.558 AVG Training Acc 85.39 % AVG Validation Acc 76.45 %\n",
      "Epoch:50/100 AVG Training Loss:0.302 AVG Validation Loss:0.574 AVG Training Acc 86.54 % AVG Validation Acc 75.64 %\n",
      "Epoch    57: reducing learning rate of group 0 to 3.3000e-04.\n",
      "Epoch:60/100 AVG Training Loss:0.259 AVG Validation Loss:0.549 AVG Training Acc 87.79 % AVG Validation Acc 75.91 %\n",
      "Epoch:70/100 AVG Training Loss:0.215 AVG Validation Loss:0.663 AVG Training Acc 89.87 % AVG Validation Acc 72.95 %\n",
      "Epoch:80/100 AVG Training Loss:0.174 AVG Validation Loss:0.745 AVG Training Acc 91.67 % AVG Validation Acc 73.22 %\n",
      "Epoch:90/100 AVG Training Loss:0.151 AVG Validation Loss:0.852 AVG Training Acc 92.79 % AVG Validation Acc 72.27 %\n",
      "Epoch    93: reducing learning rate of group 0 to 1.0890e-04.\n",
      "Epoch:100/100 AVG Training Loss:0.132 AVG Validation Loss:0.970 AVG Training Acc 93.79 % AVG Validation Acc 73.89 %\n",
      "Replica 12\n"
     ]
    },
    {
     "data": {
      "application/vnd.jupyter.widget-view+json": {
       "model_id": "f0bb1e80b14541e9afb3216145f51c75",
       "version_major": 2,
       "version_minor": 0
      },
      "text/plain": [
       "0it [00:00, ?it/s]"
      ]
     },
     "metadata": {},
     "output_type": "display_data"
    },
    {
     "name": "stdout",
     "output_type": "stream",
     "text": [
      "Split 1\n"
     ]
    },
    {
     "data": {
      "application/vnd.jupyter.widget-view+json": {
       "model_id": "ef4ce49dca7047f389ef2c166eaa00a4",
       "version_major": 2,
       "version_minor": 0
      },
      "text/plain": [
       "  0%|          | 0/100 [00:00<?, ?it/s]"
      ]
     },
     "metadata": {},
     "output_type": "display_data"
    },
    {
     "name": "stdout",
     "output_type": "stream",
     "text": [
      "Epoch:10/100 AVG Training Loss:0.647 AVG Validation Loss:0.703 AVG Training Acc 64.45 % AVG Validation Acc 41.53 %\n",
      "Epoch:20/100 AVG Training Loss:0.554 AVG Validation Loss:0.569 AVG Training Acc 77.57 % AVG Validation Acc 69.62 %\n",
      "Epoch:30/100 AVG Training Loss:0.378 AVG Validation Loss:0.592 AVG Training Acc 83.16 % AVG Validation Acc 74.87 %\n",
      "Epoch    36: reducing learning rate of group 0 to 3.3000e-04.\n",
      "Epoch:40/100 AVG Training Loss:0.332 AVG Validation Loss:0.503 AVG Training Acc 85.38 % AVG Validation Acc 79.17 %\n",
      "Epoch:50/100 AVG Training Loss:0.314 AVG Validation Loss:0.514 AVG Training Acc 86.09 % AVG Validation Acc 78.49 %\n",
      "Epoch:60/100 AVG Training Loss:0.295 AVG Validation Loss:0.537 AVG Training Acc 86.90 % AVG Validation Acc 77.69 %\n",
      "Epoch:70/100 AVG Training Loss:0.269 AVG Validation Loss:0.547 AVG Training Acc 87.90 % AVG Validation Acc 77.55 %\n",
      "Epoch    72: reducing learning rate of group 0 to 1.0890e-04.\n",
      "Epoch:80/100 AVG Training Loss:0.252 AVG Validation Loss:0.554 AVG Training Acc 88.35 % AVG Validation Acc 78.09 %\n",
      "Epoch:90/100 AVG Training Loss:0.241 AVG Validation Loss:0.578 AVG Training Acc 88.70 % AVG Validation Acc 77.28 %\n",
      "Epoch:100/100 AVG Training Loss:0.229 AVG Validation Loss:0.611 AVG Training Acc 89.02 % AVG Validation Acc 76.61 %\n",
      "Split 2\n"
     ]
    },
    {
     "data": {
      "application/vnd.jupyter.widget-view+json": {
       "model_id": "6ed832cbe1cb431686c6293f2479c80a",
       "version_major": 2,
       "version_minor": 0
      },
      "text/plain": [
       "  0%|          | 0/100 [00:00<?, ?it/s]"
      ]
     },
     "metadata": {},
     "output_type": "display_data"
    },
    {
     "name": "stdout",
     "output_type": "stream",
     "text": [
      "Epoch:10/100 AVG Training Loss:0.690 AVG Validation Loss:0.702 AVG Training Acc 50.03 % AVG Validation Acc 35.08 %\n",
      "Epoch:20/100 AVG Training Loss:0.564 AVG Validation Loss:0.985 AVG Training Acc 75.05 % AVG Validation Acc 46.37 %\n",
      "Epoch:30/100 AVG Training Loss:0.470 AVG Validation Loss:1.447 AVG Training Acc 81.61 % AVG Validation Acc 48.66 %\n",
      "Epoch    37: reducing learning rate of group 0 to 3.3000e-04.\n",
      "Epoch:40/100 AVG Training Loss:0.355 AVG Validation Loss:0.519 AVG Training Acc 84.46 % AVG Validation Acc 76.08 %\n",
      "Epoch:50/100 AVG Training Loss:0.339 AVG Validation Loss:0.520 AVG Training Acc 85.01 % AVG Validation Acc 76.34 %\n",
      "Epoch:60/100 AVG Training Loss:0.328 AVG Validation Loss:0.519 AVG Training Acc 85.45 % AVG Validation Acc 76.88 %\n",
      "Epoch:70/100 AVG Training Loss:0.316 AVG Validation Loss:0.526 AVG Training Acc 85.65 % AVG Validation Acc 77.55 %\n",
      "Epoch    73: reducing learning rate of group 0 to 1.0890e-04.\n",
      "Epoch:80/100 AVG Training Loss:0.303 AVG Validation Loss:0.505 AVG Training Acc 86.28 % AVG Validation Acc 77.42 %\n",
      "Epoch:90/100 AVG Training Loss:0.298 AVG Validation Loss:0.517 AVG Training Acc 86.49 % AVG Validation Acc 77.42 %\n",
      "Epoch:100/100 AVG Training Loss:0.290 AVG Validation Loss:0.526 AVG Training Acc 86.79 % AVG Validation Acc 77.55 %\n",
      "Split 3\n"
     ]
    },
    {
     "data": {
      "application/vnd.jupyter.widget-view+json": {
       "model_id": "0ba116e4bcf8449d88551d310bac5035",
       "version_major": 2,
       "version_minor": 0
      },
      "text/plain": [
       "  0%|          | 0/100 [00:00<?, ?it/s]"
      ]
     },
     "metadata": {},
     "output_type": "display_data"
    },
    {
     "name": "stdout",
     "output_type": "stream",
     "text": [
      "Epoch:10/100 AVG Training Loss:0.849 AVG Validation Loss:0.852 AVG Training Acc 48.99 % AVG Validation Acc 20.16 %\n",
      "Epoch:20/100 AVG Training Loss:0.560 AVG Validation Loss:0.632 AVG Training Acc 76.03 % AVG Validation Acc 63.58 %\n",
      "Epoch:30/100 AVG Training Loss:0.420 AVG Validation Loss:0.643 AVG Training Acc 82.01 % AVG Validation Acc 72.04 %\n",
      "Epoch:40/100 AVG Training Loss:0.363 AVG Validation Loss:0.626 AVG Training Acc 84.62 % AVG Validation Acc 73.66 %\n",
      "Epoch:50/100 AVG Training Loss:0.323 AVG Validation Loss:0.557 AVG Training Acc 85.72 % AVG Validation Acc 75.40 %\n",
      "Epoch:60/100 AVG Training Loss:0.292 AVG Validation Loss:0.593 AVG Training Acc 86.48 % AVG Validation Acc 75.27 %\n",
      "Epoch    66: reducing learning rate of group 0 to 3.3000e-04.\n",
      "Epoch:70/100 AVG Training Loss:0.247 AVG Validation Loss:0.558 AVG Training Acc 88.06 % AVG Validation Acc 78.76 %\n",
      "Epoch:80/100 AVG Training Loss:0.217 AVG Validation Loss:0.637 AVG Training Acc 89.27 % AVG Validation Acc 75.40 %\n",
      "Epoch:90/100 AVG Training Loss:0.194 AVG Validation Loss:0.705 AVG Training Acc 90.46 % AVG Validation Acc 75.67 %\n",
      "Epoch:100/100 AVG Training Loss:0.175 AVG Validation Loss:0.779 AVG Training Acc 91.82 % AVG Validation Acc 75.27 %\n",
      "Split 4\n"
     ]
    },
    {
     "data": {
      "application/vnd.jupyter.widget-view+json": {
       "model_id": "76653cd335564687b0bd0e86905de4f8",
       "version_major": 2,
       "version_minor": 0
      },
      "text/plain": [
       "  0%|          | 0/100 [00:00<?, ?it/s]"
      ]
     },
     "metadata": {},
     "output_type": "display_data"
    },
    {
     "name": "stdout",
     "output_type": "stream",
     "text": [
      "Epoch:10/100 AVG Training Loss:0.547 AVG Validation Loss:3.908 AVG Training Acc 64.42 % AVG Validation Acc 20.16 %\n",
      "Epoch:20/100 AVG Training Loss:0.580 AVG Validation Loss:0.636 AVG Training Acc 74.50 % AVG Validation Acc 59.54 %\n",
      "Epoch:30/100 AVG Training Loss:0.477 AVG Validation Loss:0.650 AVG Training Acc 80.60 % AVG Validation Acc 67.74 %\n",
      "Epoch:40/100 AVG Training Loss:0.346 AVG Validation Loss:0.581 AVG Training Acc 84.81 % AVG Validation Acc 74.87 %\n",
      "Epoch:50/100 AVG Training Loss:0.297 AVG Validation Loss:0.557 AVG Training Acc 86.19 % AVG Validation Acc 77.28 %\n",
      "Epoch:60/100 AVG Training Loss:0.261 AVG Validation Loss:0.607 AVG Training Acc 87.32 % AVG Validation Acc 71.77 %\n",
      "Epoch    67: reducing learning rate of group 0 to 3.3000e-04.\n",
      "Epoch:70/100 AVG Training Loss:0.229 AVG Validation Loss:0.618 AVG Training Acc 88.91 % AVG Validation Acc 75.27 %\n",
      "Epoch:80/100 AVG Training Loss:0.185 AVG Validation Loss:0.803 AVG Training Acc 91.07 % AVG Validation Acc 73.39 %\n",
      "Epoch:90/100 AVG Training Loss:0.152 AVG Validation Loss:0.884 AVG Training Acc 92.98 % AVG Validation Acc 73.12 %\n",
      "Epoch:100/100 AVG Training Loss:0.126 AVG Validation Loss:1.037 AVG Training Acc 94.03 % AVG Validation Acc 72.45 %\n",
      "Split 5\n"
     ]
    },
    {
     "data": {
      "application/vnd.jupyter.widget-view+json": {
       "model_id": "c7864ae1c7b44b039b004ed701f51990",
       "version_major": 2,
       "version_minor": 0
      },
      "text/plain": [
       "  0%|          | 0/100 [00:00<?, ?it/s]"
      ]
     },
     "metadata": {},
     "output_type": "display_data"
    },
    {
     "name": "stdout",
     "output_type": "stream",
     "text": [
      "Epoch:10/100 AVG Training Loss:0.655 AVG Validation Loss:0.695 AVG Training Acc 62.87 % AVG Validation Acc 40.99 %\n",
      "Epoch:20/100 AVG Training Loss:0.507 AVG Validation Loss:0.690 AVG Training Acc 78.77 % AVG Validation Acc 61.16 %\n",
      "Epoch:30/100 AVG Training Loss:0.370 AVG Validation Loss:0.620 AVG Training Acc 83.66 % AVG Validation Acc 74.19 %\n",
      "Epoch:40/100 AVG Training Loss:0.322 AVG Validation Loss:0.586 AVG Training Acc 85.75 % AVG Validation Acc 75.27 %\n",
      "Epoch:50/100 AVG Training Loss:0.278 AVG Validation Loss:0.611 AVG Training Acc 87.07 % AVG Validation Acc 70.70 %\n",
      "Epoch    53: reducing learning rate of group 0 to 3.3000e-04.\n",
      "Epoch:60/100 AVG Training Loss:0.234 AVG Validation Loss:0.637 AVG Training Acc 89.08 % AVG Validation Acc 71.51 %\n",
      "Epoch:70/100 AVG Training Loss:0.210 AVG Validation Loss:0.781 AVG Training Acc 90.15 % AVG Validation Acc 69.49 %\n",
      "Epoch:80/100 AVG Training Loss:0.194 AVG Validation Loss:0.913 AVG Training Acc 90.84 % AVG Validation Acc 70.03 %\n",
      "Epoch    89: reducing learning rate of group 0 to 1.0890e-04.\n",
      "Epoch:90/100 AVG Training Loss:0.178 AVG Validation Loss:0.868 AVG Training Acc 91.39 % AVG Validation Acc 71.51 %\n",
      "Epoch:100/100 AVG Training Loss:0.154 AVG Validation Loss:0.982 AVG Training Acc 92.58 % AVG Validation Acc 70.30 %\n",
      "Split 6\n"
     ]
    },
    {
     "data": {
      "application/vnd.jupyter.widget-view+json": {
       "model_id": "92dc716bc8de4714b837cbebecc94d07",
       "version_major": 2,
       "version_minor": 0
      },
      "text/plain": [
       "  0%|          | 0/100 [00:00<?, ?it/s]"
      ]
     },
     "metadata": {},
     "output_type": "display_data"
    },
    {
     "name": "stdout",
     "output_type": "stream",
     "text": [
      "Epoch:10/100 AVG Training Loss:0.665 AVG Validation Loss:0.678 AVG Training Acc 59.28 % AVG Validation Acc 45.03 %\n",
      "Epoch:20/100 AVG Training Loss:0.490 AVG Validation Loss:1.458 AVG Training Acc 79.36 % AVG Validation Acc 48.39 %\n",
      "Epoch:30/100 AVG Training Loss:0.354 AVG Validation Loss:0.747 AVG Training Acc 84.65 % AVG Validation Acc 70.43 %\n",
      "Epoch    32: reducing learning rate of group 0 to 3.3000e-04.\n",
      "Epoch:40/100 AVG Training Loss:0.306 AVG Validation Loss:0.572 AVG Training Acc 86.23 % AVG Validation Acc 75.00 %\n",
      "Epoch:50/100 AVG Training Loss:0.284 AVG Validation Loss:0.588 AVG Training Acc 87.07 % AVG Validation Acc 72.45 %\n",
      "Epoch:60/100 AVG Training Loss:0.263 AVG Validation Loss:0.628 AVG Training Acc 88.13 % AVG Validation Acc 72.04 %\n",
      "Epoch    68: reducing learning rate of group 0 to 1.0890e-04.\n",
      "Epoch:70/100 AVG Training Loss:0.252 AVG Validation Loss:0.630 AVG Training Acc 88.63 % AVG Validation Acc 73.52 %\n",
      "Epoch:80/100 AVG Training Loss:0.231 AVG Validation Loss:0.652 AVG Training Acc 89.74 % AVG Validation Acc 73.25 %\n",
      "Epoch:90/100 AVG Training Loss:0.220 AVG Validation Loss:0.683 AVG Training Acc 90.22 % AVG Validation Acc 72.98 %\n",
      "Epoch:100/100 AVG Training Loss:0.207 AVG Validation Loss:0.724 AVG Training Acc 90.71 % AVG Validation Acc 72.58 %\n",
      "Split 7\n"
     ]
    },
    {
     "data": {
      "application/vnd.jupyter.widget-view+json": {
       "model_id": "8659d4c6f343466a9ba5e8059b07ee13",
       "version_major": 2,
       "version_minor": 0
      },
      "text/plain": [
       "  0%|          | 0/100 [00:00<?, ?it/s]"
      ]
     },
     "metadata": {},
     "output_type": "display_data"
    },
    {
     "name": "stdout",
     "output_type": "stream",
     "text": [
      "Epoch:10/100 AVG Training Loss:0.671 AVG Validation Loss:0.678 AVG Training Acc 56.73 % AVG Validation Acc 47.64 %\n",
      "Epoch:20/100 AVG Training Loss:0.533 AVG Validation Loss:0.667 AVG Training Acc 78.16 % AVG Validation Acc 64.33 %\n",
      "Epoch:30/100 AVG Training Loss:0.370 AVG Validation Loss:0.594 AVG Training Acc 83.63 % AVG Validation Acc 75.10 %\n",
      "Epoch:40/100 AVG Training Loss:0.320 AVG Validation Loss:0.613 AVG Training Acc 86.00 % AVG Validation Acc 73.08 %\n",
      "Epoch:50/100 AVG Training Loss:0.279 AVG Validation Loss:0.646 AVG Training Acc 86.93 % AVG Validation Acc 73.08 %\n",
      "Epoch    52: reducing learning rate of group 0 to 3.3000e-04.\n",
      "Epoch:60/100 AVG Training Loss:0.232 AVG Validation Loss:0.590 AVG Training Acc 89.18 % AVG Validation Acc 73.89 %\n",
      "Epoch:70/100 AVG Training Loss:0.188 AVG Validation Loss:0.653 AVG Training Acc 91.22 % AVG Validation Acc 73.35 %\n",
      "Epoch:80/100 AVG Training Loss:0.160 AVG Validation Loss:0.723 AVG Training Acc 92.64 % AVG Validation Acc 74.43 %\n",
      "Epoch    88: reducing learning rate of group 0 to 1.0890e-04.\n",
      "Epoch:90/100 AVG Training Loss:0.162 AVG Validation Loss:0.873 AVG Training Acc 92.32 % AVG Validation Acc 76.04 %\n",
      "Epoch:100/100 AVG Training Loss:0.127 AVG Validation Loss:0.860 AVG Training Acc 94.26 % AVG Validation Acc 75.64 %\n",
      "Split 8\n"
     ]
    },
    {
     "data": {
      "application/vnd.jupyter.widget-view+json": {
       "model_id": "7c10e86860e34457910cd0c89621e675",
       "version_major": 2,
       "version_minor": 0
      },
      "text/plain": [
       "  0%|          | 0/100 [00:00<?, ?it/s]"
      ]
     },
     "metadata": {},
     "output_type": "display_data"
    },
    {
     "name": "stdout",
     "output_type": "stream",
     "text": [
      "Epoch:10/100 AVG Training Loss:0.672 AVG Validation Loss:1.875 AVG Training Acc 55.70 % AVG Validation Acc 20.05 %\n",
      "Epoch:20/100 AVG Training Loss:0.550 AVG Validation Loss:2.268 AVG Training Acc 73.70 % AVG Validation Acc 25.84 %\n",
      "Epoch:30/100 AVG Training Loss:0.477 AVG Validation Loss:0.728 AVG Training Acc 80.06 % AVG Validation Acc 65.01 %\n",
      "Epoch:40/100 AVG Training Loss:0.358 AVG Validation Loss:0.595 AVG Training Acc 84.18 % AVG Validation Acc 75.64 %\n",
      "Epoch:50/100 AVG Training Loss:0.331 AVG Validation Loss:0.543 AVG Training Acc 85.39 % AVG Validation Acc 77.93 %\n",
      "Epoch:60/100 AVG Training Loss:0.298 AVG Validation Loss:0.540 AVG Training Acc 86.28 % AVG Validation Acc 77.12 %\n",
      "Epoch    68: reducing learning rate of group 0 to 3.3000e-04.\n",
      "Epoch:70/100 AVG Training Loss:0.261 AVG Validation Loss:0.525 AVG Training Acc 87.70 % AVG Validation Acc 76.31 %\n",
      "Epoch:80/100 AVG Training Loss:0.222 AVG Validation Loss:0.558 AVG Training Acc 89.20 % AVG Validation Acc 75.24 %\n",
      "Epoch:90/100 AVG Training Loss:0.194 AVG Validation Loss:0.671 AVG Training Acc 90.57 % AVG Validation Acc 72.27 %\n",
      "Epoch:100/100 AVG Training Loss:0.168 AVG Validation Loss:0.831 AVG Training Acc 91.93 % AVG Validation Acc 71.47 %\n",
      "Split 9\n"
     ]
    },
    {
     "data": {
      "application/vnd.jupyter.widget-view+json": {
       "model_id": "19fef6b291e74d8dac6de062a637f368",
       "version_major": 2,
       "version_minor": 0
      },
      "text/plain": [
       "  0%|          | 0/100 [00:00<?, ?it/s]"
      ]
     },
     "metadata": {},
     "output_type": "display_data"
    },
    {
     "name": "stdout",
     "output_type": "stream",
     "text": [
      "Epoch:10/100 AVG Training Loss:0.671 AVG Validation Loss:0.674 AVG Training Acc 57.02 % AVG Validation Acc 46.43 %\n",
      "Epoch:20/100 AVG Training Loss:0.705 AVG Validation Loss:0.619 AVG Training Acc 69.12 % AVG Validation Acc 59.49 %\n",
      "Epoch:30/100 AVG Training Loss:0.397 AVG Validation Loss:0.953 AVG Training Acc 83.12 % AVG Validation Acc 63.93 %\n",
      "Epoch:40/100 AVG Training Loss:0.342 AVG Validation Loss:0.545 AVG Training Acc 85.00 % AVG Validation Acc 77.66 %\n",
      "Epoch:50/100 AVG Training Loss:0.308 AVG Validation Loss:0.576 AVG Training Acc 85.91 % AVG Validation Acc 76.72 %\n",
      "Epoch    58: reducing learning rate of group 0 to 3.3000e-04.\n",
      "Epoch:60/100 AVG Training Loss:0.272 AVG Validation Loss:0.511 AVG Training Acc 87.05 % AVG Validation Acc 78.06 %\n",
      "Epoch:70/100 AVG Training Loss:0.243 AVG Validation Loss:0.541 AVG Training Acc 88.13 % AVG Validation Acc 77.25 %\n",
      "Epoch:80/100 AVG Training Loss:0.216 AVG Validation Loss:0.597 AVG Training Acc 89.73 % AVG Validation Acc 76.58 %\n",
      "Epoch:90/100 AVG Training Loss:0.204 AVG Validation Loss:0.658 AVG Training Acc 90.30 % AVG Validation Acc 73.89 %\n",
      "Epoch    94: reducing learning rate of group 0 to 1.0890e-04.\n",
      "Epoch:100/100 AVG Training Loss:0.196 AVG Validation Loss:0.665 AVG Training Acc 90.31 % AVG Validation Acc 74.56 %\n",
      "Split 10\n"
     ]
    },
    {
     "data": {
      "application/vnd.jupyter.widget-view+json": {
       "model_id": "14c9aa600450420392266608ec83185e",
       "version_major": 2,
       "version_minor": 0
      },
      "text/plain": [
       "  0%|          | 0/100 [00:00<?, ?it/s]"
      ]
     },
     "metadata": {},
     "output_type": "display_data"
    },
    {
     "name": "stdout",
     "output_type": "stream",
     "text": [
      "Epoch:10/100 AVG Training Loss:0.656 AVG Validation Loss:0.690 AVG Training Acc 64.00 % AVG Validation Acc 42.80 %\n",
      "Epoch:20/100 AVG Training Loss:0.592 AVG Validation Loss:0.668 AVG Training Acc 71.53 % AVG Validation Acc 55.99 %\n",
      "Epoch:30/100 AVG Training Loss:0.466 AVG Validation Loss:0.712 AVG Training Acc 80.12 % AVG Validation Acc 64.06 %\n",
      "Epoch    35: reducing learning rate of group 0 to 3.3000e-04.\n",
      "Epoch:40/100 AVG Training Loss:0.373 AVG Validation Loss:0.556 AVG Training Acc 83.60 % AVG Validation Acc 75.37 %\n",
      "Epoch:50/100 AVG Training Loss:0.347 AVG Validation Loss:0.548 AVG Training Acc 84.59 % AVG Validation Acc 75.50 %\n",
      "Epoch:60/100 AVG Training Loss:0.327 AVG Validation Loss:0.538 AVG Training Acc 85.32 % AVG Validation Acc 76.31 %\n",
      "Epoch:70/100 AVG Training Loss:0.320 AVG Validation Loss:0.522 AVG Training Acc 85.67 % AVG Validation Acc 77.25 %\n",
      "Epoch:80/100 AVG Training Loss:0.299 AVG Validation Loss:0.521 AVG Training Acc 86.31 % AVG Validation Acc 77.79 %\n",
      "Epoch:90/100 AVG Training Loss:0.282 AVG Validation Loss:0.518 AVG Training Acc 87.02 % AVG Validation Acc 77.79 %\n",
      "Epoch    98: reducing learning rate of group 0 to 1.0890e-04.\n",
      "Epoch:100/100 AVG Training Loss:0.271 AVG Validation Loss:0.521 AVG Training Acc 87.23 % AVG Validation Acc 79.27 %\n",
      "Replica 13\n"
     ]
    },
    {
     "data": {
      "application/vnd.jupyter.widget-view+json": {
       "model_id": "cfbab18eb43f40fba9e322c36426e6e0",
       "version_major": 2,
       "version_minor": 0
      },
      "text/plain": [
       "0it [00:00, ?it/s]"
      ]
     },
     "metadata": {},
     "output_type": "display_data"
    },
    {
     "name": "stdout",
     "output_type": "stream",
     "text": [
      "Split 1\n"
     ]
    },
    {
     "data": {
      "application/vnd.jupyter.widget-view+json": {
       "model_id": "a6b35407246c4f45bc28b395ed686171",
       "version_major": 2,
       "version_minor": 0
      },
      "text/plain": [
       "  0%|          | 0/100 [00:00<?, ?it/s]"
      ]
     },
     "metadata": {},
     "output_type": "display_data"
    },
    {
     "name": "stdout",
     "output_type": "stream",
     "text": [
      "Epoch:10/100 AVG Training Loss:0.735 AVG Validation Loss:0.704 AVG Training Acc 33.10 % AVG Validation Acc 29.57 %\n",
      "Epoch:20/100 AVG Training Loss:0.609 AVG Validation Loss:0.634 AVG Training Acc 70.36 % AVG Validation Acc 58.20 %\n",
      "Epoch:30/100 AVG Training Loss:0.427 AVG Validation Loss:0.568 AVG Training Acc 82.09 % AVG Validation Acc 73.66 %\n",
      "Epoch:40/100 AVG Training Loss:0.340 AVG Validation Loss:0.548 AVG Training Acc 85.45 % AVG Validation Acc 77.28 %\n",
      "Epoch:50/100 AVG Training Loss:0.322 AVG Validation Loss:0.541 AVG Training Acc 85.95 % AVG Validation Acc 77.02 %\n",
      "Epoch:60/100 AVG Training Loss:0.287 AVG Validation Loss:0.561 AVG Training Acc 86.91 % AVG Validation Acc 77.02 %\n",
      "Epoch    65: reducing learning rate of group 0 to 3.3000e-04.\n",
      "Epoch:70/100 AVG Training Loss:0.245 AVG Validation Loss:0.564 AVG Training Acc 88.33 % AVG Validation Acc 78.49 %\n",
      "Epoch:80/100 AVG Training Loss:0.203 AVG Validation Loss:0.665 AVG Training Acc 90.36 % AVG Validation Acc 76.75 %\n",
      "Epoch:90/100 AVG Training Loss:0.181 AVG Validation Loss:0.760 AVG Training Acc 91.40 % AVG Validation Acc 73.79 %\n",
      "Epoch:100/100 AVG Training Loss:0.161 AVG Validation Loss:0.816 AVG Training Acc 92.64 % AVG Validation Acc 72.04 %\n",
      "Split 2\n"
     ]
    },
    {
     "data": {
      "application/vnd.jupyter.widget-view+json": {
       "model_id": "e1cde38070f946709df020becd4b5729",
       "version_major": 2,
       "version_minor": 0
      },
      "text/plain": [
       "  0%|          | 0/100 [00:00<?, ?it/s]"
      ]
     },
     "metadata": {},
     "output_type": "display_data"
    },
    {
     "name": "stdout",
     "output_type": "stream",
     "text": [
      "Epoch:10/100 AVG Training Loss:1.001 AVG Validation Loss:1.320 AVG Training Acc 55.58 % AVG Validation Acc 20.16 %\n",
      "Epoch    18: reducing learning rate of group 0 to 3.3000e-04.\n",
      "Epoch:20/100 AVG Training Loss:0.560 AVG Validation Loss:0.596 AVG Training Acc 75.11 % AVG Validation Acc 67.47 %\n",
      "Epoch:30/100 AVG Training Loss:0.437 AVG Validation Loss:0.696 AVG Training Acc 80.94 % AVG Validation Acc 70.16 %\n",
      "Epoch:40/100 AVG Training Loss:0.379 AVG Validation Loss:0.553 AVG Training Acc 83.28 % AVG Validation Acc 73.92 %\n",
      "Epoch:50/100 AVG Training Loss:0.350 AVG Validation Loss:0.534 AVG Training Acc 84.77 % AVG Validation Acc 74.87 %\n",
      "Epoch:60/100 AVG Training Loss:0.331 AVG Validation Loss:0.537 AVG Training Acc 85.41 % AVG Validation Acc 76.48 %\n",
      "Epoch    64: reducing learning rate of group 0 to 1.0890e-04.\n",
      "Epoch:70/100 AVG Training Loss:0.320 AVG Validation Loss:0.495 AVG Training Acc 85.91 % AVG Validation Acc 77.42 %\n",
      "Epoch:80/100 AVG Training Loss:0.311 AVG Validation Loss:0.494 AVG Training Acc 86.26 % AVG Validation Acc 77.55 %\n",
      "Epoch:90/100 AVG Training Loss:0.305 AVG Validation Loss:0.494 AVG Training Acc 86.31 % AVG Validation Acc 77.42 %\n",
      "Epoch:100/100 AVG Training Loss:0.303 AVG Validation Loss:0.503 AVG Training Acc 86.41 % AVG Validation Acc 77.69 %\n",
      "Epoch   100: reducing learning rate of group 0 to 3.5937e-05.\n",
      "Split 3\n"
     ]
    },
    {
     "data": {
      "application/vnd.jupyter.widget-view+json": {
       "model_id": "d5ab08791bf0400f9451391e6514915e",
       "version_major": 2,
       "version_minor": 0
      },
      "text/plain": [
       "  0%|          | 0/100 [00:00<?, ?it/s]"
      ]
     },
     "metadata": {},
     "output_type": "display_data"
    },
    {
     "name": "stdout",
     "output_type": "stream",
     "text": [
      "Epoch:10/100 AVG Training Loss:0.751 AVG Validation Loss:0.760 AVG Training Acc 39.12 % AVG Validation Acc 23.25 %\n",
      "Epoch:20/100 AVG Training Loss:0.544 AVG Validation Loss:0.744 AVG Training Acc 76.52 % AVG Validation Acc 56.85 %\n",
      "Epoch:30/100 AVG Training Loss:0.448 AVG Validation Loss:0.679 AVG Training Acc 80.20 % AVG Validation Acc 68.28 %\n",
      "Epoch:40/100 AVG Training Loss:0.359 AVG Validation Loss:0.658 AVG Training Acc 84.36 % AVG Validation Acc 72.45 %\n",
      "Epoch    45: reducing learning rate of group 0 to 3.3000e-04.\n",
      "Epoch:50/100 AVG Training Loss:0.325 AVG Validation Loss:0.516 AVG Training Acc 85.63 % AVG Validation Acc 77.42 %\n",
      "Epoch:60/100 AVG Training Loss:0.313 AVG Validation Loss:0.531 AVG Training Acc 86.50 % AVG Validation Acc 77.02 %\n",
      "Epoch:70/100 AVG Training Loss:0.296 AVG Validation Loss:0.551 AVG Training Acc 87.05 % AVG Validation Acc 76.48 %\n",
      "Epoch:80/100 AVG Training Loss:0.279 AVG Validation Loss:0.555 AVG Training Acc 87.62 % AVG Validation Acc 77.55 %\n",
      "Epoch    81: reducing learning rate of group 0 to 1.0890e-04.\n",
      "Epoch:90/100 AVG Training Loss:0.266 AVG Validation Loss:0.550 AVG Training Acc 87.85 % AVG Validation Acc 77.82 %\n",
      "Epoch:100/100 AVG Training Loss:0.256 AVG Validation Loss:0.578 AVG Training Acc 88.08 % AVG Validation Acc 77.28 %\n",
      "Split 4\n"
     ]
    },
    {
     "data": {
      "application/vnd.jupyter.widget-view+json": {
       "model_id": "ce33b15ef89b4eeba87e9fa71eb5fab1",
       "version_major": 2,
       "version_minor": 0
      },
      "text/plain": [
       "  0%|          | 0/100 [00:00<?, ?it/s]"
      ]
     },
     "metadata": {},
     "output_type": "display_data"
    },
    {
     "name": "stdout",
     "output_type": "stream",
     "text": [
      "Epoch:10/100 AVG Training Loss:0.925 AVG Validation Loss:1.009 AVG Training Acc 49.83 % AVG Validation Acc 22.18 %\n",
      "Epoch:20/100 AVG Training Loss:0.703 AVG Validation Loss:0.688 AVG Training Acc 48.86 % AVG Validation Acc 41.13 %\n",
      "Epoch:30/100 AVG Training Loss:0.682 AVG Validation Loss:1.344 AVG Training Acc 60.97 % AVG Validation Acc 21.24 %\n",
      "Epoch    35: reducing learning rate of group 0 to 3.3000e-04.\n",
      "Epoch:40/100 AVG Training Loss:0.628 AVG Validation Loss:0.682 AVG Training Acc 67.30 % AVG Validation Acc 53.23 %\n",
      "Epoch:50/100 AVG Training Loss:0.499 AVG Validation Loss:0.630 AVG Training Acc 77.89 % AVG Validation Acc 65.99 %\n",
      "Epoch:60/100 AVG Training Loss:0.443 AVG Validation Loss:0.626 AVG Training Acc 80.69 % AVG Validation Acc 69.09 %\n",
      "Epoch:70/100 AVG Training Loss:0.406 AVG Validation Loss:0.630 AVG Training Acc 82.20 % AVG Validation Acc 70.56 %\n",
      "Epoch    71: reducing learning rate of group 0 to 1.0890e-04.\n",
      "Epoch:80/100 AVG Training Loss:0.374 AVG Validation Loss:0.546 AVG Training Acc 83.62 % AVG Validation Acc 74.33 %\n",
      "Epoch:90/100 AVG Training Loss:0.356 AVG Validation Loss:0.556 AVG Training Acc 84.54 % AVG Validation Acc 73.25 %\n",
      "Epoch:100/100 AVG Training Loss:0.348 AVG Validation Loss:0.557 AVG Training Acc 84.66 % AVG Validation Acc 74.33 %\n",
      "Split 5\n"
     ]
    },
    {
     "data": {
      "application/vnd.jupyter.widget-view+json": {
       "model_id": "42b3f5f76b9f41b7b8572eee6114ac6e",
       "version_major": 2,
       "version_minor": 0
      },
      "text/plain": [
       "  0%|          | 0/100 [00:00<?, ?it/s]"
      ]
     },
     "metadata": {},
     "output_type": "display_data"
    },
    {
     "name": "stdout",
     "output_type": "stream",
     "text": [
      "Epoch:10/100 AVG Training Loss:0.528 AVG Validation Loss:3.657 AVG Training Acc 68.31 % AVG Validation Acc 20.16 %\n",
      "Epoch:20/100 AVG Training Loss:0.483 AVG Validation Loss:0.723 AVG Training Acc 79.20 % AVG Validation Acc 64.92 %\n",
      "Epoch:30/100 AVG Training Loss:0.367 AVG Validation Loss:0.564 AVG Training Acc 83.87 % AVG Validation Acc 74.46 %\n",
      "Epoch:40/100 AVG Training Loss:0.325 AVG Validation Loss:0.566 AVG Training Acc 85.47 % AVG Validation Acc 75.94 %\n",
      "Epoch    48: reducing learning rate of group 0 to 3.3000e-04.\n",
      "Epoch:50/100 AVG Training Loss:0.295 AVG Validation Loss:0.523 AVG Training Acc 86.38 % AVG Validation Acc 77.96 %\n",
      "Epoch:60/100 AVG Training Loss:0.262 AVG Validation Loss:0.558 AVG Training Acc 87.64 % AVG Validation Acc 76.75 %\n",
      "Epoch:70/100 AVG Training Loss:0.237 AVG Validation Loss:0.627 AVG Training Acc 88.73 % AVG Validation Acc 75.27 %\n",
      "Epoch:80/100 AVG Training Loss:0.225 AVG Validation Loss:0.686 AVG Training Acc 89.11 % AVG Validation Acc 73.66 %\n",
      "Epoch    84: reducing learning rate of group 0 to 1.0890e-04.\n",
      "Epoch:90/100 AVG Training Loss:0.209 AVG Validation Loss:0.706 AVG Training Acc 89.93 % AVG Validation Acc 74.33 %\n",
      "Epoch:100/100 AVG Training Loss:0.194 AVG Validation Loss:0.765 AVG Training Acc 90.59 % AVG Validation Acc 72.98 %\n",
      "Split 6\n"
     ]
    },
    {
     "data": {
      "application/vnd.jupyter.widget-view+json": {
       "model_id": "747fd40c2e7b4931a031f361ade0024b",
       "version_major": 2,
       "version_minor": 0
      },
      "text/plain": [
       "  0%|          | 0/100 [00:00<?, ?it/s]"
      ]
     },
     "metadata": {},
     "output_type": "display_data"
    },
    {
     "name": "stdout",
     "output_type": "stream",
     "text": [
      "Epoch:10/100 AVG Training Loss:1.058 AVG Validation Loss:1.255 AVG Training Acc 55.79 % AVG Validation Acc 20.16 %\n",
      "Epoch:20/100 AVG Training Loss:0.662 AVG Validation Loss:0.640 AVG Training Acc 62.81 % AVG Validation Acc 54.70 %\n",
      "Epoch:30/100 AVG Training Loss:0.518 AVG Validation Loss:0.777 AVG Training Acc 77.67 % AVG Validation Acc 61.69 %\n",
      "Epoch    38: reducing learning rate of group 0 to 3.3000e-04.\n",
      "Epoch:40/100 AVG Training Loss:0.400 AVG Validation Loss:0.551 AVG Training Acc 82.75 % AVG Validation Acc 74.33 %\n",
      "Epoch:50/100 AVG Training Loss:0.351 AVG Validation Loss:0.551 AVG Training Acc 84.56 % AVG Validation Acc 76.08 %\n",
      "Epoch:60/100 AVG Training Loss:0.333 AVG Validation Loss:0.540 AVG Training Acc 85.03 % AVG Validation Acc 76.88 %\n",
      "Epoch:70/100 AVG Training Loss:0.315 AVG Validation Loss:0.529 AVG Training Acc 85.50 % AVG Validation Acc 77.02 %\n",
      "Epoch:80/100 AVG Training Loss:0.298 AVG Validation Loss:0.531 AVG Training Acc 85.92 % AVG Validation Acc 77.02 %\n",
      "Epoch:90/100 AVG Training Loss:0.282 AVG Validation Loss:0.533 AVG Training Acc 86.51 % AVG Validation Acc 76.34 %\n",
      "Epoch:100/100 AVG Training Loss:0.263 AVG Validation Loss:0.563 AVG Training Acc 87.10 % AVG Validation Acc 76.08 %\n",
      "Split 7\n"
     ]
    },
    {
     "data": {
      "application/vnd.jupyter.widget-view+json": {
       "model_id": "db49c5d87fee4563905e8b5148afeaea",
       "version_major": 2,
       "version_minor": 0
      },
      "text/plain": [
       "  0%|          | 0/100 [00:00<?, ?it/s]"
      ]
     },
     "metadata": {},
     "output_type": "display_data"
    },
    {
     "name": "stdout",
     "output_type": "stream",
     "text": [
      "Epoch:10/100 AVG Training Loss:0.854 AVG Validation Loss:0.969 AVG Training Acc 51.14 % AVG Validation Acc 19.92 %\n",
      "Epoch:20/100 AVG Training Loss:0.579 AVG Validation Loss:0.669 AVG Training Acc 74.63 % AVG Validation Acc 55.99 %\n",
      "Epoch:30/100 AVG Training Loss:0.408 AVG Validation Loss:0.647 AVG Training Acc 82.35 % AVG Validation Acc 71.47 %\n",
      "Epoch:40/100 AVG Training Loss:0.339 AVG Validation Loss:0.591 AVG Training Acc 85.08 % AVG Validation Acc 74.43 %\n",
      "Epoch:50/100 AVG Training Loss:0.295 AVG Validation Loss:0.579 AVG Training Acc 86.84 % AVG Validation Acc 76.04 %\n",
      "Epoch:60/100 AVG Training Loss:0.253 AVG Validation Loss:0.626 AVG Training Acc 88.48 % AVG Validation Acc 72.95 %\n",
      "Epoch    61: reducing learning rate of group 0 to 3.3000e-04.\n",
      "Epoch:70/100 AVG Training Loss:0.215 AVG Validation Loss:0.639 AVG Training Acc 90.63 % AVG Validation Acc 75.50 %\n",
      "Epoch:80/100 AVG Training Loss:0.191 AVG Validation Loss:0.761 AVG Training Acc 91.56 % AVG Validation Acc 73.89 %\n",
      "Epoch:90/100 AVG Training Loss:0.165 AVG Validation Loss:0.975 AVG Training Acc 92.56 % AVG Validation Acc 73.89 %\n",
      "Epoch    97: reducing learning rate of group 0 to 1.0890e-04.\n",
      "Epoch:100/100 AVG Training Loss:0.150 AVG Validation Loss:0.880 AVG Training Acc 92.99 % AVG Validation Acc 74.29 %\n",
      "Split 8\n"
     ]
    },
    {
     "data": {
      "application/vnd.jupyter.widget-view+json": {
       "model_id": "7bb608608c884caea993cafb046ca89b",
       "version_major": 2,
       "version_minor": 0
      },
      "text/plain": [
       "  0%|          | 0/100 [00:00<?, ?it/s]"
      ]
     },
     "metadata": {},
     "output_type": "display_data"
    },
    {
     "name": "stdout",
     "output_type": "stream",
     "text": [
      "Epoch:10/100 AVG Training Loss:0.658 AVG Validation Loss:0.669 AVG Training Acc 60.59 % AVG Validation Acc 47.11 %\n",
      "Epoch:20/100 AVG Training Loss:0.540 AVG Validation Loss:1.546 AVG Training Acc 75.19 % AVG Validation Acc 34.59 %\n",
      "Epoch:30/100 AVG Training Loss:0.391 AVG Validation Loss:0.619 AVG Training Acc 83.37 % AVG Validation Acc 73.62 %\n",
      "Epoch:40/100 AVG Training Loss:0.348 AVG Validation Loss:0.550 AVG Training Acc 84.77 % AVG Validation Acc 76.45 %\n",
      "Epoch:50/100 AVG Training Loss:0.320 AVG Validation Loss:0.566 AVG Training Acc 86.16 % AVG Validation Acc 74.97 %\n",
      "Epoch:60/100 AVG Training Loss:0.300 AVG Validation Loss:0.579 AVG Training Acc 86.50 % AVG Validation Acc 74.83 %\n",
      "Epoch    62: reducing learning rate of group 0 to 3.3000e-04.\n",
      "Epoch:70/100 AVG Training Loss:0.275 AVG Validation Loss:0.509 AVG Training Acc 87.26 % AVG Validation Acc 75.64 %\n",
      "Epoch:80/100 AVG Training Loss:0.250 AVG Validation Loss:0.536 AVG Training Acc 88.04 % AVG Validation Acc 73.89 %\n",
      "Epoch:90/100 AVG Training Loss:0.222 AVG Validation Loss:0.587 AVG Training Acc 89.33 % AVG Validation Acc 72.95 %\n",
      "Epoch    98: reducing learning rate of group 0 to 1.0890e-04.\n",
      "Epoch:100/100 AVG Training Loss:0.210 AVG Validation Loss:0.674 AVG Training Acc 90.42 % AVG Validation Acc 72.54 %\n",
      "Split 9\n"
     ]
    },
    {
     "data": {
      "application/vnd.jupyter.widget-view+json": {
       "model_id": "f45e2ded22ac47c49de7ad5ad8c04568",
       "version_major": 2,
       "version_minor": 0
      },
      "text/plain": [
       "  0%|          | 0/100 [00:00<?, ?it/s]"
      ]
     },
     "metadata": {},
     "output_type": "display_data"
    },
    {
     "name": "stdout",
     "output_type": "stream",
     "text": [
      "Epoch:10/100 AVG Training Loss:0.658 AVG Validation Loss:0.736 AVG Training Acc 63.44 % AVG Validation Acc 27.59 %\n",
      "Epoch:20/100 AVG Training Loss:0.481 AVG Validation Loss:1.657 AVG Training Acc 78.27 % AVG Validation Acc 48.59 %\n",
      "Epoch:30/100 AVG Training Loss:0.360 AVG Validation Loss:0.667 AVG Training Acc 83.95 % AVG Validation Acc 75.10 %\n",
      "Epoch:40/100 AVG Training Loss:0.315 AVG Validation Loss:0.581 AVG Training Acc 85.72 % AVG Validation Acc 75.50 %\n",
      "Epoch:50/100 AVG Training Loss:0.275 AVG Validation Loss:0.624 AVG Training Acc 86.97 % AVG Validation Acc 69.58 %\n",
      "Epoch:60/100 AVG Training Loss:0.245 AVG Validation Loss:0.658 AVG Training Acc 88.30 % AVG Validation Acc 69.18 %\n",
      "Epoch    62: reducing learning rate of group 0 to 3.3000e-04.\n",
      "Epoch:70/100 AVG Training Loss:0.187 AVG Validation Loss:0.621 AVG Training Acc 91.32 % AVG Validation Acc 76.85 %\n",
      "Epoch:80/100 AVG Training Loss:0.155 AVG Validation Loss:0.773 AVG Training Acc 92.88 % AVG Validation Acc 73.76 %\n",
      "Epoch:90/100 AVG Training Loss:0.139 AVG Validation Loss:0.811 AVG Training Acc 93.64 % AVG Validation Acc 73.62 %\n",
      "Epoch    98: reducing learning rate of group 0 to 1.0890e-04.\n",
      "Epoch:100/100 AVG Training Loss:0.115 AVG Validation Loss:0.958 AVG Training Acc 94.73 % AVG Validation Acc 73.49 %\n",
      "Split 10\n"
     ]
    },
    {
     "data": {
      "application/vnd.jupyter.widget-view+json": {
       "model_id": "e5cd2d86238c451081046a8772606faa",
       "version_major": 2,
       "version_minor": 0
      },
      "text/plain": [
       "  0%|          | 0/100 [00:00<?, ?it/s]"
      ]
     },
     "metadata": {},
     "output_type": "display_data"
    },
    {
     "name": "stdout",
     "output_type": "stream",
     "text": [
      "Epoch:10/100 AVG Training Loss:0.692 AVG Validation Loss:0.701 AVG Training Acc 50.22 % AVG Validation Acc 33.92 %\n",
      "Epoch:20/100 AVG Training Loss:0.563 AVG Validation Loss:0.622 AVG Training Acc 76.48 % AVG Validation Acc 62.18 %\n",
      "Epoch:30/100 AVG Training Loss:0.450 AVG Validation Loss:0.732 AVG Training Acc 82.87 % AVG Validation Acc 65.01 %\n",
      "Epoch:40/100 AVG Training Loss:0.330 AVG Validation Loss:0.549 AVG Training Acc 85.17 % AVG Validation Acc 76.58 %\n",
      "Epoch:50/100 AVG Training Loss:0.288 AVG Validation Loss:0.576 AVG Training Acc 86.02 % AVG Validation Acc 72.54 %\n",
      "Epoch    56: reducing learning rate of group 0 to 3.3000e-04.\n",
      "Epoch:60/100 AVG Training Loss:0.236 AVG Validation Loss:0.579 AVG Training Acc 88.85 % AVG Validation Acc 75.10 %\n",
      "Epoch:70/100 AVG Training Loss:0.197 AVG Validation Loss:0.728 AVG Training Acc 90.72 % AVG Validation Acc 72.41 %\n",
      "Epoch:80/100 AVG Training Loss:0.170 AVG Validation Loss:0.898 AVG Training Acc 92.00 % AVG Validation Acc 72.41 %\n",
      "Epoch:90/100 AVG Training Loss:0.157 AVG Validation Loss:0.995 AVG Training Acc 92.70 % AVG Validation Acc 72.27 %\n",
      "Epoch    92: reducing learning rate of group 0 to 1.0890e-04.\n",
      "Epoch:100/100 AVG Training Loss:0.130 AVG Validation Loss:1.069 AVG Training Acc 93.74 % AVG Validation Acc 72.01 %\n",
      "Replica 14\n"
     ]
    },
    {
     "data": {
      "application/vnd.jupyter.widget-view+json": {
       "model_id": "a9a9926795f34412a49590cc65a833a4",
       "version_major": 2,
       "version_minor": 0
      },
      "text/plain": [
       "0it [00:00, ?it/s]"
      ]
     },
     "metadata": {},
     "output_type": "display_data"
    },
    {
     "name": "stdout",
     "output_type": "stream",
     "text": [
      "Split 1\n"
     ]
    },
    {
     "data": {
      "application/vnd.jupyter.widget-view+json": {
       "model_id": "ceb2e0dea83641b8947fb460489b09c4",
       "version_major": 2,
       "version_minor": 0
      },
      "text/plain": [
       "  0%|          | 0/100 [00:00<?, ?it/s]"
      ]
     },
     "metadata": {},
     "output_type": "display_data"
    },
    {
     "name": "stdout",
     "output_type": "stream",
     "text": [
      "Epoch:10/100 AVG Training Loss:0.662 AVG Validation Loss:0.681 AVG Training Acc 58.40 % AVG Validation Acc 44.22 %\n",
      "Epoch:20/100 AVG Training Loss:0.473 AVG Validation Loss:1.608 AVG Training Acc 79.10 % AVG Validation Acc 51.08 %\n",
      "Epoch:30/100 AVG Training Loss:0.363 AVG Validation Loss:0.597 AVG Training Acc 83.49 % AVG Validation Acc 75.40 %\n",
      "Epoch:40/100 AVG Training Loss:0.313 AVG Validation Loss:0.601 AVG Training Acc 85.46 % AVG Validation Acc 72.58 %\n",
      "Epoch    49: reducing learning rate of group 0 to 3.3000e-04.\n",
      "Epoch:50/100 AVG Training Loss:0.273 AVG Validation Loss:0.530 AVG Training Acc 87.10 % AVG Validation Acc 77.28 %\n",
      "Epoch:60/100 AVG Training Loss:0.221 AVG Validation Loss:0.610 AVG Training Acc 89.59 % AVG Validation Acc 76.21 %\n",
      "Epoch:70/100 AVG Training Loss:0.190 AVG Validation Loss:0.716 AVG Training Acc 91.07 % AVG Validation Acc 75.81 %\n",
      "Epoch:80/100 AVG Training Loss:0.156 AVG Validation Loss:0.874 AVG Training Acc 92.78 % AVG Validation Acc 72.18 %\n",
      "Epoch    85: reducing learning rate of group 0 to 1.0890e-04.\n",
      "Epoch:90/100 AVG Training Loss:0.137 AVG Validation Loss:1.086 AVG Training Acc 93.62 % AVG Validation Acc 72.31 %\n",
      "Epoch:100/100 AVG Training Loss:0.124 AVG Validation Loss:1.187 AVG Training Acc 94.30 % AVG Validation Acc 72.98 %\n",
      "Split 2\n"
     ]
    },
    {
     "data": {
      "application/vnd.jupyter.widget-view+json": {
       "model_id": "91e497d9c862420baf52c27220663b9e",
       "version_major": 2,
       "version_minor": 0
      },
      "text/plain": [
       "  0%|          | 0/100 [00:00<?, ?it/s]"
      ]
     },
     "metadata": {},
     "output_type": "display_data"
    },
    {
     "name": "stdout",
     "output_type": "stream",
     "text": [
      "Epoch:10/100 AVG Training Loss:0.653 AVG Validation Loss:0.678 AVG Training Acc 62.83 % AVG Validation Acc 45.97 %\n",
      "Epoch:20/100 AVG Training Loss:0.503 AVG Validation Loss:0.820 AVG Training Acc 78.81 % AVG Validation Acc 58.33 %\n",
      "Epoch:30/100 AVG Training Loss:0.376 AVG Validation Loss:0.587 AVG Training Acc 83.87 % AVG Validation Acc 72.98 %\n",
      "Epoch:40/100 AVG Training Loss:0.324 AVG Validation Loss:0.551 AVG Training Acc 85.64 % AVG Validation Acc 76.08 %\n",
      "Epoch:50/100 AVG Training Loss:0.291 AVG Validation Loss:0.567 AVG Training Acc 86.51 % AVG Validation Acc 75.00 %\n",
      "Epoch    54: reducing learning rate of group 0 to 3.3000e-04.\n",
      "Epoch:60/100 AVG Training Loss:0.255 AVG Validation Loss:0.571 AVG Training Acc 88.22 % AVG Validation Acc 76.61 %\n",
      "Epoch:70/100 AVG Training Loss:0.223 AVG Validation Loss:0.652 AVG Training Acc 89.60 % AVG Validation Acc 74.60 %\n",
      "Epoch:80/100 AVG Training Loss:0.192 AVG Validation Loss:0.763 AVG Training Acc 91.05 % AVG Validation Acc 74.06 %\n",
      "Epoch:90/100 AVG Training Loss:0.175 AVG Validation Loss:0.827 AVG Training Acc 91.70 % AVG Validation Acc 71.24 %\n",
      "Epoch    90: reducing learning rate of group 0 to 1.0890e-04.\n",
      "Epoch:100/100 AVG Training Loss:0.155 AVG Validation Loss:0.887 AVG Training Acc 92.68 % AVG Validation Acc 73.39 %\n",
      "Split 3\n"
     ]
    },
    {
     "data": {
      "application/vnd.jupyter.widget-view+json": {
       "model_id": "e034d6321edc4379a1ba7455c01a33ae",
       "version_major": 2,
       "version_minor": 0
      },
      "text/plain": [
       "  0%|          | 0/100 [00:00<?, ?it/s]"
      ]
     },
     "metadata": {},
     "output_type": "display_data"
    },
    {
     "name": "stdout",
     "output_type": "stream",
     "text": [
      "Epoch:10/100 AVG Training Loss:0.639 AVG Validation Loss:3.383 AVG Training Acc 66.82 % AVG Validation Acc 20.16 %\n",
      "Epoch:20/100 AVG Training Loss:0.577 AVG Validation Loss:0.717 AVG Training Acc 74.55 % AVG Validation Acc 52.96 %\n",
      "Epoch:30/100 AVG Training Loss:0.427 AVG Validation Loss:0.741 AVG Training Acc 81.26 % AVG Validation Acc 70.03 %\n",
      "Epoch:40/100 AVG Training Loss:0.343 AVG Validation Loss:0.554 AVG Training Acc 85.14 % AVG Validation Acc 76.48 %\n",
      "Epoch:50/100 AVG Training Loss:0.317 AVG Validation Loss:0.541 AVG Training Acc 85.77 % AVG Validation Acc 76.61 %\n",
      "Epoch:60/100 AVG Training Loss:0.272 AVG Validation Loss:0.563 AVG Training Acc 87.57 % AVG Validation Acc 75.13 %\n",
      "Epoch    67: reducing learning rate of group 0 to 3.3000e-04.\n",
      "Epoch:70/100 AVG Training Loss:0.219 AVG Validation Loss:0.559 AVG Training Acc 89.93 % AVG Validation Acc 74.60 %\n",
      "Epoch:80/100 AVG Training Loss:0.186 AVG Validation Loss:0.692 AVG Training Acc 91.60 % AVG Validation Acc 75.13 %\n",
      "Epoch:90/100 AVG Training Loss:0.147 AVG Validation Loss:0.804 AVG Training Acc 93.24 % AVG Validation Acc 73.92 %\n",
      "Epoch:100/100 AVG Training Loss:0.128 AVG Validation Loss:0.875 AVG Training Acc 94.13 % AVG Validation Acc 73.25 %\n",
      "Split 4\n"
     ]
    },
    {
     "data": {
      "application/vnd.jupyter.widget-view+json": {
       "model_id": "a3210cecf3b341e89a18d230bea4f0f6",
       "version_major": 2,
       "version_minor": 0
      },
      "text/plain": [
       "  0%|          | 0/100 [00:00<?, ?it/s]"
      ]
     },
     "metadata": {},
     "output_type": "display_data"
    },
    {
     "name": "stdout",
     "output_type": "stream",
     "text": [
      "Epoch:10/100 AVG Training Loss:0.691 AVG Validation Loss:0.693 AVG Training Acc 47.11 % AVG Validation Acc 38.58 %\n",
      "Epoch:20/100 AVG Training Loss:0.554 AVG Validation Loss:2.237 AVG Training Acc 76.41 % AVG Validation Acc 31.72 %\n",
      "Epoch:30/100 AVG Training Loss:0.467 AVG Validation Loss:0.755 AVG Training Acc 78.91 % AVG Validation Acc 65.99 %\n",
      "Epoch    32: reducing learning rate of group 0 to 3.3000e-04.\n",
      "Epoch:40/100 AVG Training Loss:0.397 AVG Validation Loss:0.601 AVG Training Acc 82.44 % AVG Validation Acc 72.45 %\n",
      "Epoch:50/100 AVG Training Loss:0.364 AVG Validation Loss:0.570 AVG Training Acc 83.98 % AVG Validation Acc 74.73 %\n",
      "Epoch:60/100 AVG Training Loss:0.344 AVG Validation Loss:0.542 AVG Training Acc 85.00 % AVG Validation Acc 75.00 %\n",
      "Epoch:70/100 AVG Training Loss:0.327 AVG Validation Loss:0.531 AVG Training Acc 85.35 % AVG Validation Acc 75.54 %\n",
      "Epoch:80/100 AVG Training Loss:0.313 AVG Validation Loss:0.525 AVG Training Acc 86.01 % AVG Validation Acc 76.08 %\n",
      "Epoch:90/100 AVG Training Loss:0.299 AVG Validation Loss:0.526 AVG Training Acc 86.28 % AVG Validation Acc 77.15 %\n",
      "Epoch:100/100 AVG Training Loss:0.287 AVG Validation Loss:0.550 AVG Training Acc 86.81 % AVG Validation Acc 75.94 %\n",
      "Split 5\n"
     ]
    },
    {
     "data": {
      "application/vnd.jupyter.widget-view+json": {
       "model_id": "e50d0755c6b046bf968c1393dcfa3655",
       "version_major": 2,
       "version_minor": 0
      },
      "text/plain": [
       "  0%|          | 0/100 [00:00<?, ?it/s]"
      ]
     },
     "metadata": {},
     "output_type": "display_data"
    },
    {
     "name": "stdout",
     "output_type": "stream",
     "text": [
      "Epoch:10/100 AVG Training Loss:0.700 AVG Validation Loss:0.703 AVG Training Acc 40.18 % AVG Validation Acc 30.24 %\n",
      "Epoch:20/100 AVG Training Loss:0.560 AVG Validation Loss:0.869 AVG Training Acc 76.61 % AVG Validation Acc 49.19 %\n",
      "Epoch:30/100 AVG Training Loss:0.421 AVG Validation Loss:0.658 AVG Training Acc 82.54 % AVG Validation Acc 71.37 %\n",
      "Epoch:40/100 AVG Training Loss:0.332 AVG Validation Loss:0.578 AVG Training Acc 85.43 % AVG Validation Acc 75.54 %\n",
      "Epoch:50/100 AVG Training Loss:0.293 AVG Validation Loss:0.617 AVG Training Acc 86.70 % AVG Validation Acc 72.98 %\n",
      "Epoch:60/100 AVG Training Loss:0.256 AVG Validation Loss:0.643 AVG Training Acc 87.90 % AVG Validation Acc 69.76 %\n",
      "Epoch    61: reducing learning rate of group 0 to 3.3000e-04.\n",
      "Epoch:70/100 AVG Training Loss:0.212 AVG Validation Loss:0.681 AVG Training Acc 90.04 % AVG Validation Acc 72.85 %\n",
      "Epoch:80/100 AVG Training Loss:0.179 AVG Validation Loss:0.808 AVG Training Acc 91.50 % AVG Validation Acc 71.51 %\n",
      "Epoch:90/100 AVG Training Loss:0.156 AVG Validation Loss:0.990 AVG Training Acc 92.72 % AVG Validation Acc 70.03 %\n",
      "Epoch    97: reducing learning rate of group 0 to 1.0890e-04.\n",
      "Epoch:100/100 AVG Training Loss:0.134 AVG Validation Loss:1.154 AVG Training Acc 93.75 % AVG Validation Acc 70.83 %\n",
      "Split 6\n"
     ]
    },
    {
     "data": {
      "application/vnd.jupyter.widget-view+json": {
       "model_id": "616615d3f1214c9697f89eba0ceda10f",
       "version_major": 2,
       "version_minor": 0
      },
      "text/plain": [
       "  0%|          | 0/100 [00:00<?, ?it/s]"
      ]
     },
     "metadata": {},
     "output_type": "display_data"
    },
    {
     "name": "stdout",
     "output_type": "stream",
     "text": [
      "Epoch:10/100 AVG Training Loss:0.653 AVG Validation Loss:0.694 AVG Training Acc 63.60 % AVG Validation Acc 42.20 %\n",
      "Epoch:20/100 AVG Training Loss:0.537 AVG Validation Loss:0.659 AVG Training Acc 76.66 % AVG Validation Acc 61.69 %\n",
      "Epoch:30/100 AVG Training Loss:0.397 AVG Validation Loss:0.682 AVG Training Acc 82.61 % AVG Validation Acc 70.56 %\n",
      "Epoch    31: reducing learning rate of group 0 to 3.3000e-04.\n",
      "Epoch:40/100 AVG Training Loss:0.339 AVG Validation Loss:0.563 AVG Training Acc 85.06 % AVG Validation Acc 75.54 %\n",
      "Epoch:50/100 AVG Training Loss:0.315 AVG Validation Loss:0.587 AVG Training Acc 85.89 % AVG Validation Acc 75.13 %\n",
      "Epoch:60/100 AVG Training Loss:0.299 AVG Validation Loss:0.583 AVG Training Acc 86.21 % AVG Validation Acc 75.27 %\n",
      "Epoch    67: reducing learning rate of group 0 to 1.0890e-04.\n",
      "Epoch:70/100 AVG Training Loss:0.276 AVG Validation Loss:0.572 AVG Training Acc 86.99 % AVG Validation Acc 76.48 %\n",
      "Epoch:80/100 AVG Training Loss:0.263 AVG Validation Loss:0.589 AVG Training Acc 87.77 % AVG Validation Acc 75.27 %\n",
      "Epoch:90/100 AVG Training Loss:0.254 AVG Validation Loss:0.608 AVG Training Acc 88.04 % AVG Validation Acc 74.73 %\n",
      "Epoch:100/100 AVG Training Loss:0.244 AVG Validation Loss:0.620 AVG Training Acc 88.62 % AVG Validation Acc 74.33 %\n",
      "Split 7\n"
     ]
    },
    {
     "data": {
      "application/vnd.jupyter.widget-view+json": {
       "model_id": "a433e231c1fd47ddaf7485a36c6b32ff",
       "version_major": 2,
       "version_minor": 0
      },
      "text/plain": [
       "  0%|          | 0/100 [00:00<?, ?it/s]"
      ]
     },
     "metadata": {},
     "output_type": "display_data"
    },
    {
     "name": "stdout",
     "output_type": "stream",
     "text": [
      "Epoch:10/100 AVG Training Loss:0.653 AVG Validation Loss:0.668 AVG Training Acc 61.09 % AVG Validation Acc 48.32 %\n",
      "Epoch:20/100 AVG Training Loss:0.502 AVG Validation Loss:0.919 AVG Training Acc 78.93 % AVG Validation Acc 59.89 %\n",
      "Epoch:30/100 AVG Training Loss:0.374 AVG Validation Loss:0.932 AVG Training Acc 83.99 % AVG Validation Acc 68.91 %\n",
      "Epoch    30: reducing learning rate of group 0 to 3.3000e-04.\n",
      "Epoch:40/100 AVG Training Loss:0.335 AVG Validation Loss:0.547 AVG Training Acc 85.27 % AVG Validation Acc 76.99 %\n",
      "Epoch:50/100 AVG Training Loss:0.316 AVG Validation Loss:0.559 AVG Training Acc 85.81 % AVG Validation Acc 75.77 %\n",
      "Epoch:60/100 AVG Training Loss:0.296 AVG Validation Loss:0.563 AVG Training Acc 86.72 % AVG Validation Acc 77.12 %\n",
      "Epoch    66: reducing learning rate of group 0 to 1.0890e-04.\n",
      "Epoch:70/100 AVG Training Loss:0.276 AVG Validation Loss:0.547 AVG Training Acc 87.48 % AVG Validation Acc 78.33 %\n",
      "Epoch:80/100 AVG Training Loss:0.262 AVG Validation Loss:0.565 AVG Training Acc 88.19 % AVG Validation Acc 77.79 %\n",
      "Epoch:90/100 AVG Training Loss:0.248 AVG Validation Loss:0.588 AVG Training Acc 88.50 % AVG Validation Acc 76.72 %\n",
      "Epoch:100/100 AVG Training Loss:0.235 AVG Validation Loss:0.615 AVG Training Acc 89.31 % AVG Validation Acc 76.18 %\n",
      "Split 8\n"
     ]
    },
    {
     "data": {
      "application/vnd.jupyter.widget-view+json": {
       "model_id": "e7311181b3ad495ca59e6b9ffea4489a",
       "version_major": 2,
       "version_minor": 0
      },
      "text/plain": [
       "  0%|          | 0/100 [00:00<?, ?it/s]"
      ]
     },
     "metadata": {},
     "output_type": "display_data"
    },
    {
     "name": "stdout",
     "output_type": "stream",
     "text": [
      "Epoch:10/100 AVG Training Loss:0.609 AVG Validation Loss:2.864 AVG Training Acc 64.04 % AVG Validation Acc 20.05 %\n",
      "Epoch:20/100 AVG Training Loss:0.541 AVG Validation Loss:1.212 AVG Training Acc 75.81 % AVG Validation Acc 37.42 %\n",
      "Epoch:30/100 AVG Training Loss:0.464 AVG Validation Loss:0.638 AVG Training Acc 80.68 % AVG Validation Acc 73.08 %\n",
      "Epoch:40/100 AVG Training Loss:0.350 AVG Validation Loss:0.550 AVG Training Acc 84.47 % AVG Validation Acc 76.72 %\n",
      "Epoch:50/100 AVG Training Loss:0.315 AVG Validation Loss:0.536 AVG Training Acc 85.83 % AVG Validation Acc 76.85 %\n",
      "Epoch:60/100 AVG Training Loss:0.309 AVG Validation Loss:0.537 AVG Training Acc 85.90 % AVG Validation Acc 75.64 %\n",
      "Epoch:70/100 AVG Training Loss:0.248 AVG Validation Loss:0.526 AVG Training Acc 87.81 % AVG Validation Acc 76.04 %\n",
      "Epoch:80/100 AVG Training Loss:0.215 AVG Validation Loss:0.660 AVG Training Acc 89.66 % AVG Validation Acc 71.74 %\n",
      "Epoch    85: reducing learning rate of group 0 to 3.3000e-04.\n",
      "Epoch:90/100 AVG Training Loss:0.170 AVG Validation Loss:0.716 AVG Training Acc 91.82 % AVG Validation Acc 74.56 %\n",
      "Epoch:100/100 AVG Training Loss:0.133 AVG Validation Loss:0.868 AVG Training Acc 93.60 % AVG Validation Acc 72.68 %\n",
      "Split 9\n"
     ]
    },
    {
     "data": {
      "application/vnd.jupyter.widget-view+json": {
       "model_id": "b231255ab2794bd19209809a493a0f38",
       "version_major": 2,
       "version_minor": 0
      },
      "text/plain": [
       "  0%|          | 0/100 [00:00<?, ?it/s]"
      ]
     },
     "metadata": {},
     "output_type": "display_data"
    },
    {
     "name": "stdout",
     "output_type": "stream",
     "text": [
      "Epoch:10/100 AVG Training Loss:0.671 AVG Validation Loss:0.699 AVG Training Acc 59.19 % AVG Validation Acc 40.78 %\n",
      "Epoch:20/100 AVG Training Loss:0.788 AVG Validation Loss:0.764 AVG Training Acc 47.78 % AVG Validation Acc 38.76 %\n",
      "Epoch    23: reducing learning rate of group 0 to 3.3000e-04.\n",
      "Epoch:30/100 AVG Training Loss:0.516 AVG Validation Loss:0.574 AVG Training Acc 77.59 % AVG Validation Acc 70.39 %\n",
      "Epoch:40/100 AVG Training Loss:0.438 AVG Validation Loss:0.768 AVG Training Acc 81.18 % AVG Validation Acc 66.35 %\n",
      "Epoch:50/100 AVG Training Loss:0.395 AVG Validation Loss:0.557 AVG Training Acc 82.73 % AVG Validation Acc 75.37 %\n",
      "Epoch:60/100 AVG Training Loss:0.353 AVG Validation Loss:0.535 AVG Training Acc 84.57 % AVG Validation Acc 77.93 %\n",
      "Epoch:70/100 AVG Training Loss:0.334 AVG Validation Loss:0.531 AVG Training Acc 85.40 % AVG Validation Acc 78.47 %\n",
      "Epoch:80/100 AVG Training Loss:0.322 AVG Validation Loss:0.521 AVG Training Acc 86.06 % AVG Validation Acc 78.33 %\n",
      "Epoch:90/100 AVG Training Loss:0.312 AVG Validation Loss:0.514 AVG Training Acc 86.27 % AVG Validation Acc 78.20 %\n",
      "Epoch:100/100 AVG Training Loss:0.294 AVG Validation Loss:0.524 AVG Training Acc 86.59 % AVG Validation Acc 78.20 %\n",
      "Split 10\n"
     ]
    },
    {
     "data": {
      "application/vnd.jupyter.widget-view+json": {
       "model_id": "5c17c9f82ca24d2baa045b5e7567fcd9",
       "version_major": 2,
       "version_minor": 0
      },
      "text/plain": [
       "  0%|          | 0/100 [00:00<?, ?it/s]"
      ]
     },
     "metadata": {},
     "output_type": "display_data"
    },
    {
     "name": "stdout",
     "output_type": "stream",
     "text": [
      "Epoch:10/100 AVG Training Loss:0.492 AVG Validation Loss:4.386 AVG Training Acc 63.32 % AVG Validation Acc 20.19 %\n",
      "Epoch:20/100 AVG Training Loss:0.565 AVG Validation Loss:0.651 AVG Training Acc 76.18 % AVG Validation Acc 56.53 %\n",
      "Epoch:30/100 AVG Training Loss:0.435 AVG Validation Loss:0.618 AVG Training Acc 81.90 % AVG Validation Acc 70.12 %\n",
      "Epoch    35: reducing learning rate of group 0 to 3.3000e-04.\n",
      "Epoch:40/100 AVG Training Loss:0.344 AVG Validation Loss:0.518 AVG Training Acc 84.77 % AVG Validation Acc 76.99 %\n",
      "Epoch:50/100 AVG Training Loss:0.330 AVG Validation Loss:0.520 AVG Training Acc 85.31 % AVG Validation Acc 77.12 %\n",
      "Epoch:60/100 AVG Training Loss:0.319 AVG Validation Loss:0.521 AVG Training Acc 85.84 % AVG Validation Acc 77.12 %\n",
      "Epoch:70/100 AVG Training Loss:0.303 AVG Validation Loss:0.550 AVG Training Acc 86.22 % AVG Validation Acc 76.72 %\n",
      "Epoch    71: reducing learning rate of group 0 to 1.0890e-04.\n",
      "Epoch:80/100 AVG Training Loss:0.290 AVG Validation Loss:0.531 AVG Training Acc 86.90 % AVG Validation Acc 77.39 %\n",
      "Epoch:90/100 AVG Training Loss:0.281 AVG Validation Loss:0.546 AVG Training Acc 87.29 % AVG Validation Acc 77.12 %\n",
      "Epoch:100/100 AVG Training Loss:0.272 AVG Validation Loss:0.557 AVG Training Acc 87.68 % AVG Validation Acc 78.06 %\n",
      "Replica 15\n"
     ]
    },
    {
     "data": {
      "application/vnd.jupyter.widget-view+json": {
       "model_id": "c53cc9ab47cc44c9ba88f777d279e8b7",
       "version_major": 2,
       "version_minor": 0
      },
      "text/plain": [
       "0it [00:00, ?it/s]"
      ]
     },
     "metadata": {},
     "output_type": "display_data"
    },
    {
     "name": "stdout",
     "output_type": "stream",
     "text": [
      "Split 1\n"
     ]
    },
    {
     "data": {
      "application/vnd.jupyter.widget-view+json": {
       "model_id": "7f823c117c3f421898feb7d70d0cfd27",
       "version_major": 2,
       "version_minor": 0
      },
      "text/plain": [
       "  0%|          | 0/100 [00:00<?, ?it/s]"
      ]
     },
     "metadata": {},
     "output_type": "display_data"
    },
    {
     "name": "stdout",
     "output_type": "stream",
     "text": [
      "Epoch:10/100 AVG Training Loss:0.648 AVG Validation Loss:0.726 AVG Training Acc 62.43 % AVG Validation Acc 31.99 %\n",
      "Epoch:20/100 AVG Training Loss:0.483 AVG Validation Loss:0.703 AVG Training Acc 79.87 % AVG Validation Acc 63.58 %\n",
      "Epoch:30/100 AVG Training Loss:0.372 AVG Validation Loss:0.605 AVG Training Acc 84.13 % AVG Validation Acc 75.40 %\n",
      "Epoch:40/100 AVG Training Loss:0.319 AVG Validation Loss:0.585 AVG Training Acc 85.72 % AVG Validation Acc 74.73 %\n",
      "Epoch:50/100 AVG Training Loss:0.275 AVG Validation Loss:0.571 AVG Training Acc 87.17 % AVG Validation Acc 75.40 %\n",
      "Epoch:60/100 AVG Training Loss:0.251 AVG Validation Loss:0.620 AVG Training Acc 88.56 % AVG Validation Acc 73.92 %\n",
      "Epoch    63: reducing learning rate of group 0 to 3.3000e-04.\n",
      "Epoch:70/100 AVG Training Loss:0.193 AVG Validation Loss:0.635 AVG Training Acc 90.93 % AVG Validation Acc 76.48 %\n",
      "Epoch:80/100 AVG Training Loss:0.167 AVG Validation Loss:0.735 AVG Training Acc 92.33 % AVG Validation Acc 74.06 %\n",
      "Epoch:90/100 AVG Training Loss:0.143 AVG Validation Loss:0.778 AVG Training Acc 93.26 % AVG Validation Acc 74.06 %\n",
      "Epoch    99: reducing learning rate of group 0 to 1.0890e-04.\n",
      "Epoch:100/100 AVG Training Loss:0.128 AVG Validation Loss:1.011 AVG Training Acc 94.23 % AVG Validation Acc 73.92 %\n",
      "Split 2\n"
     ]
    },
    {
     "data": {
      "application/vnd.jupyter.widget-view+json": {
       "model_id": "0ceb85f6ce2547fabe91288cb807f443",
       "version_major": 2,
       "version_minor": 0
      },
      "text/plain": [
       "  0%|          | 0/100 [00:00<?, ?it/s]"
      ]
     },
     "metadata": {},
     "output_type": "display_data"
    },
    {
     "name": "stdout",
     "output_type": "stream",
     "text": [
      "Epoch:10/100 AVG Training Loss:0.693 AVG Validation Loss:0.699 AVG Training Acc 46.74 % AVG Validation Acc 34.01 %\n",
      "Epoch:20/100 AVG Training Loss:0.673 AVG Validation Loss:0.697 AVG Training Acc 58.54 % AVG Validation Acc 39.38 %\n",
      "Epoch:30/100 AVG Training Loss:0.458 AVG Validation Loss:0.624 AVG Training Acc 80.67 % AVG Validation Acc 70.83 %\n",
      "Epoch:40/100 AVG Training Loss:0.370 AVG Validation Loss:0.580 AVG Training Acc 84.05 % AVG Validation Acc 73.92 %\n",
      "Epoch    48: reducing learning rate of group 0 to 3.3000e-04.\n",
      "Epoch:50/100 AVG Training Loss:0.325 AVG Validation Loss:0.511 AVG Training Acc 85.74 % AVG Validation Acc 77.02 %\n",
      "Epoch:60/100 AVG Training Loss:0.313 AVG Validation Loss:0.521 AVG Training Acc 86.29 % AVG Validation Acc 77.28 %\n",
      "Epoch:70/100 AVG Training Loss:0.299 AVG Validation Loss:0.522 AVG Training Acc 86.48 % AVG Validation Acc 77.55 %\n",
      "Epoch:80/100 AVG Training Loss:0.282 AVG Validation Loss:0.556 AVG Training Acc 86.97 % AVG Validation Acc 77.96 %\n",
      "Epoch    84: reducing learning rate of group 0 to 1.0890e-04.\n",
      "Epoch:90/100 AVG Training Loss:0.269 AVG Validation Loss:0.610 AVG Training Acc 87.59 % AVG Validation Acc 77.55 %\n",
      "Epoch:100/100 AVG Training Loss:0.259 AVG Validation Loss:0.632 AVG Training Acc 88.04 % AVG Validation Acc 77.55 %\n",
      "Split 3\n"
     ]
    },
    {
     "data": {
      "application/vnd.jupyter.widget-view+json": {
       "model_id": "82e0f5d4685c4046931924f2a0cce676",
       "version_major": 2,
       "version_minor": 0
      },
      "text/plain": [
       "  0%|          | 0/100 [00:00<?, ?it/s]"
      ]
     },
     "metadata": {},
     "output_type": "display_data"
    },
    {
     "name": "stdout",
     "output_type": "stream",
     "text": [
      "Epoch:10/100 AVG Training Loss:0.644 AVG Validation Loss:0.713 AVG Training Acc 65.10 % AVG Validation Acc 42.47 %\n",
      "Epoch:20/100 AVG Training Loss:0.511 AVG Validation Loss:1.001 AVG Training Acc 75.17 % AVG Validation Acc 54.17 %\n",
      "Epoch:30/100 AVG Training Loss:0.478 AVG Validation Loss:0.571 AVG Training Acc 80.64 % AVG Validation Acc 73.52 %\n",
      "Epoch:40/100 AVG Training Loss:0.359 AVG Validation Loss:0.586 AVG Training Acc 84.24 % AVG Validation Acc 73.92 %\n",
      "Epoch    46: reducing learning rate of group 0 to 3.3000e-04.\n",
      "Epoch:50/100 AVG Training Loss:0.331 AVG Validation Loss:0.514 AVG Training Acc 85.58 % AVG Validation Acc 78.36 %\n",
      "Epoch:60/100 AVG Training Loss:0.320 AVG Validation Loss:0.520 AVG Training Acc 85.89 % AVG Validation Acc 78.09 %\n",
      "Epoch:70/100 AVG Training Loss:0.310 AVG Validation Loss:0.521 AVG Training Acc 86.15 % AVG Validation Acc 78.23 %\n",
      "Epoch:80/100 AVG Training Loss:0.297 AVG Validation Loss:0.537 AVG Training Acc 86.59 % AVG Validation Acc 78.09 %\n",
      "Epoch    82: reducing learning rate of group 0 to 1.0890e-04.\n",
      "Epoch:90/100 AVG Training Loss:0.288 AVG Validation Loss:0.513 AVG Training Acc 86.86 % AVG Validation Acc 77.96 %\n",
      "Epoch:100/100 AVG Training Loss:0.281 AVG Validation Loss:0.523 AVG Training Acc 87.00 % AVG Validation Acc 77.82 %\n",
      "Split 4\n"
     ]
    },
    {
     "data": {
      "application/vnd.jupyter.widget-view+json": {
       "model_id": "fd896dd895ef4075a44502406d1ede31",
       "version_major": 2,
       "version_minor": 0
      },
      "text/plain": [
       "  0%|          | 0/100 [00:00<?, ?it/s]"
      ]
     },
     "metadata": {},
     "output_type": "display_data"
    },
    {
     "name": "stdout",
     "output_type": "stream",
     "text": [
      "Epoch:10/100 AVG Training Loss:0.806 AVG Validation Loss:0.750 AVG Training Acc 36.97 % AVG Validation Acc 23.92 %\n",
      "Epoch:20/100 AVG Training Loss:0.569 AVG Validation Loss:0.654 AVG Training Acc 74.27 % AVG Validation Acc 60.48 %\n",
      "Epoch:30/100 AVG Training Loss:0.393 AVG Validation Loss:0.606 AVG Training Acc 82.49 % AVG Validation Acc 73.66 %\n",
      "Epoch:40/100 AVG Training Loss:0.348 AVG Validation Loss:0.582 AVG Training Acc 84.34 % AVG Validation Acc 76.08 %\n",
      "Epoch:50/100 AVG Training Loss:0.311 AVG Validation Loss:0.679 AVG Training Acc 85.65 % AVG Validation Acc 74.73 %\n",
      "Epoch:60/100 AVG Training Loss:0.269 AVG Validation Loss:0.634 AVG Training Acc 87.40 % AVG Validation Acc 72.04 %\n",
      "Epoch    69: reducing learning rate of group 0 to 3.3000e-04.\n",
      "Epoch:70/100 AVG Training Loss:0.227 AVG Validation Loss:0.686 AVG Training Acc 89.35 % AVG Validation Acc 75.27 %\n",
      "Epoch:80/100 AVG Training Loss:0.172 AVG Validation Loss:0.832 AVG Training Acc 92.26 % AVG Validation Acc 74.46 %\n",
      "Epoch:90/100 AVG Training Loss:0.140 AVG Validation Loss:0.942 AVG Training Acc 93.54 % AVG Validation Acc 73.39 %\n",
      "Epoch:100/100 AVG Training Loss:0.138 AVG Validation Loss:0.960 AVG Training Acc 93.71 % AVG Validation Acc 72.85 %\n",
      "Split 5\n"
     ]
    },
    {
     "data": {
      "application/vnd.jupyter.widget-view+json": {
       "model_id": "df84080146ce4f368a1f98dbbef4730d",
       "version_major": 2,
       "version_minor": 0
      },
      "text/plain": [
       "  0%|          | 0/100 [00:00<?, ?it/s]"
      ]
     },
     "metadata": {},
     "output_type": "display_data"
    },
    {
     "name": "stdout",
     "output_type": "stream",
     "text": [
      "Epoch:10/100 AVG Training Loss:0.655 AVG Validation Loss:0.691 AVG Training Acc 61.02 % AVG Validation Acc 43.95 %\n",
      "Epoch:20/100 AVG Training Loss:0.574 AVG Validation Loss:1.225 AVG Training Acc 75.20 % AVG Validation Acc 41.67 %\n",
      "Epoch:30/100 AVG Training Loss:0.398 AVG Validation Loss:0.641 AVG Training Acc 82.60 % AVG Validation Acc 72.58 %\n",
      "Epoch    30: reducing learning rate of group 0 to 3.3000e-04.\n",
      "Epoch:40/100 AVG Training Loss:0.341 AVG Validation Loss:0.538 AVG Training Acc 85.33 % AVG Validation Acc 76.88 %\n",
      "Epoch:50/100 AVG Training Loss:0.327 AVG Validation Loss:0.546 AVG Training Acc 85.70 % AVG Validation Acc 77.15 %\n",
      "Epoch:60/100 AVG Training Loss:0.312 AVG Validation Loss:0.542 AVG Training Acc 86.22 % AVG Validation Acc 76.88 %\n",
      "Epoch    66: reducing learning rate of group 0 to 1.0890e-04.\n",
      "Epoch:70/100 AVG Training Loss:0.297 AVG Validation Loss:0.512 AVG Training Acc 86.75 % AVG Validation Acc 78.09 %\n",
      "Epoch:80/100 AVG Training Loss:0.288 AVG Validation Loss:0.522 AVG Training Acc 87.01 % AVG Validation Acc 76.88 %\n",
      "Epoch:90/100 AVG Training Loss:0.280 AVG Validation Loss:0.526 AVG Training Acc 87.49 % AVG Validation Acc 77.69 %\n",
      "Epoch:100/100 AVG Training Loss:0.272 AVG Validation Loss:0.530 AVG Training Acc 87.67 % AVG Validation Acc 77.96 %\n",
      "Split 6\n"
     ]
    },
    {
     "data": {
      "application/vnd.jupyter.widget-view+json": {
       "model_id": "3b4347153fc9415cb4c31c1ce35db187",
       "version_major": 2,
       "version_minor": 0
      },
      "text/plain": [
       "  0%|          | 0/100 [00:00<?, ?it/s]"
      ]
     },
     "metadata": {},
     "output_type": "display_data"
    },
    {
     "name": "stdout",
     "output_type": "stream",
     "text": [
      "Epoch:10/100 AVG Training Loss:0.767 AVG Validation Loss:0.771 AVG Training Acc 36.21 % AVG Validation Acc 21.24 %\n",
      "Epoch:20/100 AVG Training Loss:0.697 AVG Validation Loss:0.776 AVG Training Acc 61.70 % AVG Validation Acc 43.41 %\n",
      "Epoch:30/100 AVG Training Loss:0.480 AVG Validation Loss:0.720 AVG Training Acc 79.21 % AVG Validation Acc 65.86 %\n",
      "Epoch:40/100 AVG Training Loss:0.371 AVG Validation Loss:0.607 AVG Training Acc 83.48 % AVG Validation Acc 72.98 %\n",
      "Epoch:50/100 AVG Training Loss:0.337 AVG Validation Loss:0.586 AVG Training Acc 84.87 % AVG Validation Acc 75.81 %\n",
      "Epoch:60/100 AVG Training Loss:0.305 AVG Validation Loss:0.596 AVG Training Acc 86.12 % AVG Validation Acc 74.19 %\n",
      "Epoch:70/100 AVG Training Loss:0.263 AVG Validation Loss:0.605 AVG Training Acc 87.90 % AVG Validation Acc 71.24 %\n",
      "Epoch:80/100 AVG Training Loss:0.220 AVG Validation Loss:0.617 AVG Training Acc 89.78 % AVG Validation Acc 73.66 %\n",
      "Epoch    80: reducing learning rate of group 0 to 3.3000e-04.\n",
      "Epoch:90/100 AVG Training Loss:0.174 AVG Validation Loss:0.708 AVG Training Acc 91.86 % AVG Validation Acc 72.98 %\n",
      "Epoch:100/100 AVG Training Loss:0.151 AVG Validation Loss:0.825 AVG Training Acc 93.05 % AVG Validation Acc 73.12 %\n",
      "Split 7\n"
     ]
    },
    {
     "data": {
      "application/vnd.jupyter.widget-view+json": {
       "model_id": "b61dc6a1f0284090a665d19196a7d2e5",
       "version_major": 2,
       "version_minor": 0
      },
      "text/plain": [
       "  0%|          | 0/100 [00:00<?, ?it/s]"
      ]
     },
     "metadata": {},
     "output_type": "display_data"
    },
    {
     "name": "stdout",
     "output_type": "stream",
     "text": [
      "Epoch:10/100 AVG Training Loss:0.650 AVG Validation Loss:0.652 AVG Training Acc 63.96 % AVG Validation Acc 54.64 %\n",
      "Epoch:20/100 AVG Training Loss:0.530 AVG Validation Loss:0.656 AVG Training Acc 78.14 % AVG Validation Acc 61.37 %\n",
      "Epoch:30/100 AVG Training Loss:0.377 AVG Validation Loss:0.588 AVG Training Acc 83.54 % AVG Validation Acc 73.89 %\n",
      "Epoch    32: reducing learning rate of group 0 to 3.3000e-04.\n",
      "Epoch:40/100 AVG Training Loss:0.334 AVG Validation Loss:0.543 AVG Training Acc 85.20 % AVG Validation Acc 76.45 %\n",
      "Epoch:50/100 AVG Training Loss:0.319 AVG Validation Loss:0.550 AVG Training Acc 86.17 % AVG Validation Acc 77.52 %\n",
      "Epoch:60/100 AVG Training Loss:0.306 AVG Validation Loss:0.556 AVG Training Acc 86.58 % AVG Validation Acc 76.72 %\n",
      "Epoch    68: reducing learning rate of group 0 to 1.0890e-04.\n",
      "Epoch:70/100 AVG Training Loss:0.289 AVG Validation Loss:0.541 AVG Training Acc 87.03 % AVG Validation Acc 77.25 %\n",
      "Epoch:80/100 AVG Training Loss:0.277 AVG Validation Loss:0.549 AVG Training Acc 87.72 % AVG Validation Acc 76.85 %\n",
      "Epoch:90/100 AVG Training Loss:0.268 AVG Validation Loss:0.560 AVG Training Acc 87.80 % AVG Validation Acc 76.18 %\n",
      "Epoch:100/100 AVG Training Loss:0.256 AVG Validation Loss:0.575 AVG Training Acc 88.44 % AVG Validation Acc 76.45 %\n",
      "Split 8\n"
     ]
    },
    {
     "data": {
      "application/vnd.jupyter.widget-view+json": {
       "model_id": "6584b2ebd2664ebdb84ddb2dba32c032",
       "version_major": 2,
       "version_minor": 0
      },
      "text/plain": [
       "  0%|          | 0/100 [00:00<?, ?it/s]"
      ]
     },
     "metadata": {},
     "output_type": "display_data"
    },
    {
     "name": "stdout",
     "output_type": "stream",
     "text": [
      "Epoch:10/100 AVG Training Loss:0.689 AVG Validation Loss:0.685 AVG Training Acc 48.22 % AVG Validation Acc 43.07 %\n",
      "Epoch:20/100 AVG Training Loss:0.561 AVG Validation Loss:0.606 AVG Training Acc 76.21 % AVG Validation Acc 66.49 %\n",
      "Epoch:30/100 AVG Training Loss:0.414 AVG Validation Loss:0.856 AVG Training Acc 81.33 % AVG Validation Acc 67.16 %\n",
      "Epoch:40/100 AVG Training Loss:0.338 AVG Validation Loss:0.573 AVG Training Acc 85.57 % AVG Validation Acc 76.99 %\n",
      "Epoch:50/100 AVG Training Loss:0.309 AVG Validation Loss:0.566 AVG Training Acc 86.39 % AVG Validation Acc 74.97 %\n",
      "Epoch:60/100 AVG Training Loss:0.261 AVG Validation Loss:0.624 AVG Training Acc 87.78 % AVG Validation Acc 67.70 %\n",
      "Epoch    61: reducing learning rate of group 0 to 3.3000e-04.\n",
      "Epoch:70/100 AVG Training Loss:0.220 AVG Validation Loss:0.640 AVG Training Acc 89.35 % AVG Validation Acc 72.81 %\n",
      "Epoch:80/100 AVG Training Loss:0.189 AVG Validation Loss:0.758 AVG Training Acc 90.88 % AVG Validation Acc 72.68 %\n",
      "Epoch:90/100 AVG Training Loss:0.161 AVG Validation Loss:0.855 AVG Training Acc 92.31 % AVG Validation Acc 72.68 %\n",
      "Epoch    97: reducing learning rate of group 0 to 1.0890e-04.\n",
      "Epoch:100/100 AVG Training Loss:0.142 AVG Validation Loss:0.927 AVG Training Acc 92.98 % AVG Validation Acc 71.20 %\n",
      "Split 9\n"
     ]
    },
    {
     "data": {
      "application/vnd.jupyter.widget-view+json": {
       "model_id": "408603f1a51e43c9b4b00dd386510271",
       "version_major": 2,
       "version_minor": 0
      },
      "text/plain": [
       "  0%|          | 0/100 [00:00<?, ?it/s]"
      ]
     },
     "metadata": {},
     "output_type": "display_data"
    },
    {
     "name": "stdout",
     "output_type": "stream",
     "text": [
      "Epoch:10/100 AVG Training Loss:0.860 AVG Validation Loss:0.993 AVG Training Acc 53.07 % AVG Validation Acc 20.05 %\n",
      "Epoch:20/100 AVG Training Loss:0.534 AVG Validation Loss:0.736 AVG Training Acc 77.02 % AVG Validation Acc 58.55 %\n",
      "Epoch:30/100 AVG Training Loss:0.399 AVG Validation Loss:0.612 AVG Training Acc 82.52 % AVG Validation Acc 73.62 %\n",
      "Epoch:40/100 AVG Training Loss:0.336 AVG Validation Loss:0.563 AVG Training Acc 85.47 % AVG Validation Acc 77.66 %\n",
      "Epoch:50/100 AVG Training Loss:0.309 AVG Validation Loss:0.559 AVG Training Acc 85.98 % AVG Validation Acc 76.58 %\n",
      "Epoch:60/100 AVG Training Loss:0.271 AVG Validation Loss:0.555 AVG Training Acc 87.44 % AVG Validation Acc 74.16 %\n",
      "New Best F1_score found: 42.44%\n",
      "Epoch: 62\n",
      " Accuracy: 75.91\n",
      "AUC: 69.07\n",
      "Epoch    68: reducing learning rate of group 0 to 3.3000e-04.\n",
      "Epoch:70/100 AVG Training Loss:0.229 AVG Validation Loss:0.580 AVG Training Acc 88.91 % AVG Validation Acc 78.20 %\n",
      "Epoch:80/100 AVG Training Loss:0.179 AVG Validation Loss:0.692 AVG Training Acc 91.17 % AVG Validation Acc 75.50 %\n",
      "Epoch:90/100 AVG Training Loss:0.150 AVG Validation Loss:0.827 AVG Training Acc 92.79 % AVG Validation Acc 74.56 %\n",
      "Epoch:100/100 AVG Training Loss:0.124 AVG Validation Loss:0.930 AVG Training Acc 94.29 % AVG Validation Acc 73.89 %\n",
      "Split 10\n"
     ]
    },
    {
     "data": {
      "application/vnd.jupyter.widget-view+json": {
       "model_id": "a669f188816646dea9bf240cb9291134",
       "version_major": 2,
       "version_minor": 0
      },
      "text/plain": [
       "  0%|          | 0/100 [00:00<?, ?it/s]"
      ]
     },
     "metadata": {},
     "output_type": "display_data"
    },
    {
     "name": "stdout",
     "output_type": "stream",
     "text": [
      "Epoch:10/100 AVG Training Loss:0.914 AVG Validation Loss:0.777 AVG Training Acc 40.28 % AVG Validation Acc 20.32 %\n",
      "Epoch:20/100 AVG Training Loss:0.553 AVG Validation Loss:0.630 AVG Training Acc 76.81 % AVG Validation Acc 63.39 %\n",
      "Epoch:30/100 AVG Training Loss:0.382 AVG Validation Loss:0.615 AVG Training Acc 83.79 % AVG Validation Acc 73.35 %\n",
      "Epoch:40/100 AVG Training Loss:0.318 AVG Validation Loss:0.558 AVG Training Acc 85.36 % AVG Validation Acc 75.64 %\n",
      "Epoch:50/100 AVG Training Loss:0.273 AVG Validation Loss:0.585 AVG Training Acc 87.73 % AVG Validation Acc 73.76 %\n",
      "Epoch    58: reducing learning rate of group 0 to 3.3000e-04.\n",
      "Epoch:60/100 AVG Training Loss:0.231 AVG Validation Loss:0.626 AVG Training Acc 89.39 % AVG Validation Acc 74.56 %\n",
      "Epoch:70/100 AVG Training Loss:0.184 AVG Validation Loss:0.707 AVG Training Acc 91.13 % AVG Validation Acc 74.83 %\n",
      "Epoch:80/100 AVG Training Loss:0.158 AVG Validation Loss:0.867 AVG Training Acc 92.36 % AVG Validation Acc 75.24 %\n",
      "Epoch:90/100 AVG Training Loss:0.143 AVG Validation Loss:0.997 AVG Training Acc 93.04 % AVG Validation Acc 75.24 %\n",
      "Epoch    94: reducing learning rate of group 0 to 1.0890e-04.\n",
      "Epoch:100/100 AVG Training Loss:0.121 AVG Validation Loss:1.050 AVG Training Acc 94.19 % AVG Validation Acc 74.56 %\n",
      "Replica 16\n"
     ]
    },
    {
     "data": {
      "application/vnd.jupyter.widget-view+json": {
       "model_id": "a664c3ebc5b042dbbed5f1cf4989e6a6",
       "version_major": 2,
       "version_minor": 0
      },
      "text/plain": [
       "0it [00:00, ?it/s]"
      ]
     },
     "metadata": {},
     "output_type": "display_data"
    },
    {
     "name": "stdout",
     "output_type": "stream",
     "text": [
      "Split 1\n"
     ]
    },
    {
     "data": {
      "application/vnd.jupyter.widget-view+json": {
       "model_id": "3b9174f53dfb4846b76167ef469a23da",
       "version_major": 2,
       "version_minor": 0
      },
      "text/plain": [
       "  0%|          | 0/100 [00:00<?, ?it/s]"
      ]
     },
     "metadata": {},
     "output_type": "display_data"
    },
    {
     "name": "stdout",
     "output_type": "stream",
     "text": [
      "Epoch:10/100 AVG Training Loss:0.646 AVG Validation Loss:1.052 AVG Training Acc 64.17 % AVG Validation Acc 32.93 %\n",
      "Epoch:20/100 AVG Training Loss:0.478 AVG Validation Loss:1.025 AVG Training Acc 79.24 % AVG Validation Acc 59.27 %\n",
      "Epoch:30/100 AVG Training Loss:0.364 AVG Validation Loss:0.594 AVG Training Acc 83.96 % AVG Validation Acc 75.27 %\n",
      "Epoch:40/100 AVG Training Loss:0.322 AVG Validation Loss:0.623 AVG Training Acc 85.90 % AVG Validation Acc 75.54 %\n",
      "Epoch:50/100 AVG Training Loss:0.282 AVG Validation Loss:0.599 AVG Training Acc 87.51 % AVG Validation Acc 75.40 %\n",
      "Epoch:60/100 AVG Training Loss:0.238 AVG Validation Loss:0.635 AVG Training Acc 89.11 % AVG Validation Acc 74.87 %\n",
      "Epoch    64: reducing learning rate of group 0 to 3.3000e-04.\n",
      "Epoch:70/100 AVG Training Loss:0.196 AVG Validation Loss:0.635 AVG Training Acc 91.07 % AVG Validation Acc 74.60 %\n",
      "Epoch:80/100 AVG Training Loss:0.157 AVG Validation Loss:0.780 AVG Training Acc 92.71 % AVG Validation Acc 72.31 %\n",
      "Epoch:90/100 AVG Training Loss:0.123 AVG Validation Loss:0.952 AVG Training Acc 94.73 % AVG Validation Acc 73.92 %\n",
      "Epoch:100/100 AVG Training Loss:0.096 AVG Validation Loss:1.082 AVG Training Acc 95.77 % AVG Validation Acc 73.92 %\n",
      "Epoch   100: reducing learning rate of group 0 to 1.0890e-04.\n",
      "Split 2\n"
     ]
    },
    {
     "data": {
      "application/vnd.jupyter.widget-view+json": {
       "model_id": "4b4f483c0cbe4e7081ea91bef1ae1f61",
       "version_major": 2,
       "version_minor": 0
      },
      "text/plain": [
       "  0%|          | 0/100 [00:00<?, ?it/s]"
      ]
     },
     "metadata": {},
     "output_type": "display_data"
    },
    {
     "name": "stdout",
     "output_type": "stream",
     "text": [
      "Epoch:10/100 AVG Training Loss:0.687 AVG Validation Loss:0.718 AVG Training Acc 52.97 % AVG Validation Acc 29.84 %\n",
      "Epoch:20/100 AVG Training Loss:0.593 AVG Validation Loss:0.620 AVG Training Acc 73.19 % AVG Validation Acc 61.16 %\n",
      "Epoch:30/100 AVG Training Loss:0.459 AVG Validation Loss:0.723 AVG Training Acc 82.21 % AVG Validation Acc 64.92 %\n",
      "Epoch:40/100 AVG Training Loss:0.348 AVG Validation Loss:0.556 AVG Training Acc 84.87 % AVG Validation Acc 75.00 %\n",
      "Epoch:50/100 AVG Training Loss:0.317 AVG Validation Loss:0.538 AVG Training Acc 85.86 % AVG Validation Acc 76.88 %\n",
      "Epoch:60/100 AVG Training Loss:0.288 AVG Validation Loss:0.519 AVG Training Acc 86.88 % AVG Validation Acc 76.61 %\n",
      "Epoch:70/100 AVG Training Loss:0.258 AVG Validation Loss:0.580 AVG Training Acc 87.94 % AVG Validation Acc 71.64 %\n",
      "Epoch    75: reducing learning rate of group 0 to 3.3000e-04.\n",
      "Epoch:80/100 AVG Training Loss:0.201 AVG Validation Loss:0.662 AVG Training Acc 90.38 % AVG Validation Acc 77.15 %\n",
      "Epoch:90/100 AVG Training Loss:0.163 AVG Validation Loss:0.804 AVG Training Acc 92.36 % AVG Validation Acc 74.46 %\n",
      "Epoch:100/100 AVG Training Loss:0.141 AVG Validation Loss:0.924 AVG Training Acc 93.32 % AVG Validation Acc 75.13 %\n",
      "Split 3\n"
     ]
    },
    {
     "data": {
      "application/vnd.jupyter.widget-view+json": {
       "model_id": "3237406ed9f24c97a32953f47e21dc26",
       "version_major": 2,
       "version_minor": 0
      },
      "text/plain": [
       "  0%|          | 0/100 [00:00<?, ?it/s]"
      ]
     },
     "metadata": {},
     "output_type": "display_data"
    },
    {
     "name": "stdout",
     "output_type": "stream",
     "text": [
      "Epoch:10/100 AVG Training Loss:0.671 AVG Validation Loss:0.684 AVG Training Acc 59.70 % AVG Validation Acc 45.16 %\n",
      "Epoch:20/100 AVG Training Loss:0.772 AVG Validation Loss:1.238 AVG Training Acc 61.67 % AVG Validation Acc 20.16 %\n",
      "Epoch:30/100 AVG Training Loss:0.490 AVG Validation Loss:0.644 AVG Training Acc 78.84 % AVG Validation Acc 68.41 %\n",
      "Epoch:40/100 AVG Training Loss:0.397 AVG Validation Loss:0.630 AVG Training Acc 82.72 % AVG Validation Acc 73.25 %\n",
      "Epoch:50/100 AVG Training Loss:0.368 AVG Validation Loss:0.610 AVG Training Acc 83.00 % AVG Validation Acc 74.73 %\n",
      "Epoch:60/100 AVG Training Loss:0.332 AVG Validation Loss:0.585 AVG Training Acc 85.20 % AVG Validation Acc 74.87 %\n",
      "Epoch:70/100 AVG Training Loss:0.307 AVG Validation Loss:0.576 AVG Training Acc 86.12 % AVG Validation Acc 76.08 %\n",
      "Epoch:80/100 AVG Training Loss:0.283 AVG Validation Loss:0.563 AVG Training Acc 86.82 % AVG Validation Acc 76.08 %\n",
      "Epoch:90/100 AVG Training Loss:0.245 AVG Validation Loss:0.605 AVG Training Acc 88.55 % AVG Validation Acc 74.33 %\n",
      "Epoch    96: reducing learning rate of group 0 to 3.3000e-04.\n",
      "Epoch:100/100 AVG Training Loss:0.205 AVG Validation Loss:0.611 AVG Training Acc 90.16 % AVG Validation Acc 76.08 %\n",
      "Split 4\n"
     ]
    },
    {
     "data": {
      "application/vnd.jupyter.widget-view+json": {
       "model_id": "cfd206a3d8b3497685c4298541844d30",
       "version_major": 2,
       "version_minor": 0
      },
      "text/plain": [
       "  0%|          | 0/100 [00:00<?, ?it/s]"
      ]
     },
     "metadata": {},
     "output_type": "display_data"
    },
    {
     "name": "stdout",
     "output_type": "stream",
     "text": [
      "Epoch:10/100 AVG Training Loss:0.807 AVG Validation Loss:0.793 AVG Training Acc 42.21 % AVG Validation Acc 21.51 %\n",
      "Epoch:20/100 AVG Training Loss:0.680 AVG Validation Loss:0.696 AVG Training Acc 57.71 % AVG Validation Acc 41.80 %\n",
      "Epoch:30/100 AVG Training Loss:0.484 AVG Validation Loss:0.666 AVG Training Acc 79.92 % AVG Validation Acc 66.53 %\n",
      "Epoch:40/100 AVG Training Loss:0.359 AVG Validation Loss:0.563 AVG Training Acc 84.21 % AVG Validation Acc 74.19 %\n",
      "Epoch:50/100 AVG Training Loss:0.329 AVG Validation Loss:0.561 AVG Training Acc 85.60 % AVG Validation Acc 75.27 %\n",
      "Epoch:60/100 AVG Training Loss:0.302 AVG Validation Loss:0.565 AVG Training Acc 86.46 % AVG Validation Acc 76.08 %\n",
      "Epoch    65: reducing learning rate of group 0 to 3.3000e-04.\n",
      "Epoch:70/100 AVG Training Loss:0.269 AVG Validation Loss:0.530 AVG Training Acc 87.62 % AVG Validation Acc 77.82 %\n",
      "Epoch:80/100 AVG Training Loss:0.246 AVG Validation Loss:0.606 AVG Training Acc 88.30 % AVG Validation Acc 75.67 %\n",
      "Epoch:90/100 AVG Training Loss:0.219 AVG Validation Loss:0.680 AVG Training Acc 89.25 % AVG Validation Acc 74.60 %\n",
      "Epoch:100/100 AVG Training Loss:0.202 AVG Validation Loss:0.768 AVG Training Acc 89.97 % AVG Validation Acc 75.27 %\n",
      "Split 5\n"
     ]
    },
    {
     "data": {
      "application/vnd.jupyter.widget-view+json": {
       "model_id": "e92a45cd8e47457d8c5d8b1df3783e38",
       "version_major": 2,
       "version_minor": 0
      },
      "text/plain": [
       "  0%|          | 0/100 [00:00<?, ?it/s]"
      ]
     },
     "metadata": {},
     "output_type": "display_data"
    },
    {
     "name": "stdout",
     "output_type": "stream",
     "text": [
      "Epoch:10/100 AVG Training Loss:0.688 AVG Validation Loss:0.699 AVG Training Acc 50.18 % AVG Validation Acc 37.90 %\n",
      "Epoch:20/100 AVG Training Loss:0.536 AVG Validation Loss:0.729 AVG Training Acc 77.25 % AVG Validation Acc 58.20 %\n",
      "Epoch:30/100 AVG Training Loss:0.403 AVG Validation Loss:3.342 AVG Training Acc 82.95 % AVG Validation Acc 37.77 %\n",
      "Epoch:40/100 AVG Training Loss:0.330 AVG Validation Loss:0.575 AVG Training Acc 85.85 % AVG Validation Acc 75.54 %\n",
      "Epoch:50/100 AVG Training Loss:0.294 AVG Validation Loss:0.676 AVG Training Acc 86.35 % AVG Validation Acc 73.39 %\n",
      "Epoch    54: reducing learning rate of group 0 to 3.3000e-04.\n",
      "Epoch:60/100 AVG Training Loss:0.250 AVG Validation Loss:0.556 AVG Training Acc 88.34 % AVG Validation Acc 75.54 %\n",
      "Epoch:70/100 AVG Training Loss:0.213 AVG Validation Loss:0.638 AVG Training Acc 90.14 % AVG Validation Acc 71.64 %\n",
      "Epoch:80/100 AVG Training Loss:0.189 AVG Validation Loss:0.688 AVG Training Acc 91.39 % AVG Validation Acc 72.04 %\n",
      "Epoch:90/100 AVG Training Loss:0.168 AVG Validation Loss:0.856 AVG Training Acc 92.13 % AVG Validation Acc 72.31 %\n",
      "Epoch    90: reducing learning rate of group 0 to 1.0890e-04.\n",
      "Epoch:100/100 AVG Training Loss:0.150 AVG Validation Loss:0.891 AVG Training Acc 92.97 % AVG Validation Acc 70.97 %\n",
      "Split 6\n"
     ]
    },
    {
     "data": {
      "application/vnd.jupyter.widget-view+json": {
       "model_id": "c6668b88170945a59df14d774ba7599a",
       "version_major": 2,
       "version_minor": 0
      },
      "text/plain": [
       "  0%|          | 0/100 [00:00<?, ?it/s]"
      ]
     },
     "metadata": {},
     "output_type": "display_data"
    },
    {
     "name": "stdout",
     "output_type": "stream",
     "text": [
      "Epoch:10/100 AVG Training Loss:0.765 AVG Validation Loss:0.807 AVG Training Acc 44.51 % AVG Validation Acc 20.97 %\n",
      "Epoch:20/100 AVG Training Loss:0.536 AVG Validation Loss:1.031 AVG Training Acc 76.98 % AVG Validation Acc 48.12 %\n",
      "Epoch:30/100 AVG Training Loss:0.418 AVG Validation Loss:0.663 AVG Training Acc 82.46 % AVG Validation Acc 69.35 %\n",
      "Epoch:40/100 AVG Training Loss:0.348 AVG Validation Loss:0.600 AVG Training Acc 84.87 % AVG Validation Acc 73.39 %\n",
      "Epoch:50/100 AVG Training Loss:0.323 AVG Validation Loss:0.614 AVG Training Acc 85.71 % AVG Validation Acc 73.39 %\n",
      "Epoch:60/100 AVG Training Loss:0.291 AVG Validation Loss:0.592 AVG Training Acc 86.46 % AVG Validation Acc 74.06 %\n",
      "Epoch:70/100 AVG Training Loss:0.243 AVG Validation Loss:0.667 AVG Training Acc 88.44 % AVG Validation Acc 72.18 %\n",
      "Epoch    70: reducing learning rate of group 0 to 3.3000e-04.\n",
      "Epoch:80/100 AVG Training Loss:0.204 AVG Validation Loss:0.645 AVG Training Acc 90.18 % AVG Validation Acc 75.00 %\n",
      "Epoch:90/100 AVG Training Loss:0.172 AVG Validation Loss:0.788 AVG Training Acc 91.67 % AVG Validation Acc 73.52 %\n",
      "Epoch:100/100 AVG Training Loss:0.146 AVG Validation Loss:0.888 AVG Training Acc 93.23 % AVG Validation Acc 73.92 %\n",
      "Split 7\n"
     ]
    },
    {
     "data": {
      "application/vnd.jupyter.widget-view+json": {
       "model_id": "75be82a2df244517882824b56696eda3",
       "version_major": 2,
       "version_minor": 0
      },
      "text/plain": [
       "  0%|          | 0/100 [00:00<?, ?it/s]"
      ]
     },
     "metadata": {},
     "output_type": "display_data"
    },
    {
     "name": "stdout",
     "output_type": "stream",
     "text": [
      "Epoch:10/100 AVG Training Loss:0.693 AVG Validation Loss:0.693 AVG Training Acc 44.98 % AVG Validation Acc 37.95 %\n",
      "Epoch:20/100 AVG Training Loss:0.572 AVG Validation Loss:0.582 AVG Training Acc 75.14 % AVG Validation Acc 66.35 %\n",
      "Epoch:30/100 AVG Training Loss:0.455 AVG Validation Loss:1.074 AVG Training Acc 80.81 % AVG Validation Acc 58.01 %\n",
      "Epoch    36: reducing learning rate of group 0 to 3.3000e-04.\n",
      "Epoch:40/100 AVG Training Loss:0.340 AVG Validation Loss:0.523 AVG Training Acc 85.01 % AVG Validation Acc 77.25 %\n",
      "Epoch:50/100 AVG Training Loss:0.327 AVG Validation Loss:0.536 AVG Training Acc 85.58 % AVG Validation Acc 76.45 %\n",
      "Epoch:60/100 AVG Training Loss:0.315 AVG Validation Loss:0.546 AVG Training Acc 86.06 % AVG Validation Acc 76.04 %\n",
      "Epoch:70/100 AVG Training Loss:0.297 AVG Validation Loss:0.582 AVG Training Acc 86.51 % AVG Validation Acc 74.70 %\n",
      "Epoch    72: reducing learning rate of group 0 to 1.0890e-04.\n",
      "Epoch:80/100 AVG Training Loss:0.280 AVG Validation Loss:0.556 AVG Training Acc 87.30 % AVG Validation Acc 77.39 %\n",
      "Epoch:90/100 AVG Training Loss:0.271 AVG Validation Loss:0.571 AVG Training Acc 87.63 % AVG Validation Acc 77.66 %\n",
      "Epoch:100/100 AVG Training Loss:0.262 AVG Validation Loss:0.589 AVG Training Acc 87.80 % AVG Validation Acc 77.12 %\n",
      "Split 8\n"
     ]
    },
    {
     "data": {
      "application/vnd.jupyter.widget-view+json": {
       "model_id": "14b3f779fc104bd09b34db6d710c2b56",
       "version_major": 2,
       "version_minor": 0
      },
      "text/plain": [
       "  0%|          | 0/100 [00:00<?, ?it/s]"
      ]
     },
     "metadata": {},
     "output_type": "display_data"
    },
    {
     "name": "stdout",
     "output_type": "stream",
     "text": [
      "Epoch:10/100 AVG Training Loss:0.641 AVG Validation Loss:1.536 AVG Training Acc 70.59 % AVG Validation Acc 21.27 %\n",
      "Epoch:20/100 AVG Training Loss:0.643 AVG Validation Loss:0.740 AVG Training Acc 63.95 % AVG Validation Acc 41.99 %\n",
      "Epoch:30/100 AVG Training Loss:0.452 AVG Validation Loss:0.682 AVG Training Acc 79.49 % AVG Validation Acc 68.91 %\n",
      "Epoch:40/100 AVG Training Loss:0.376 AVG Validation Loss:0.571 AVG Training Acc 83.26 % AVG Validation Acc 74.70 %\n",
      "Epoch:50/100 AVG Training Loss:0.338 AVG Validation Loss:0.564 AVG Training Acc 85.05 % AVG Validation Acc 75.10 %\n",
      "Epoch:60/100 AVG Training Loss:0.315 AVG Validation Loss:0.579 AVG Training Acc 86.01 % AVG Validation Acc 76.45 %\n",
      "Epoch    63: reducing learning rate of group 0 to 3.3000e-04.\n",
      "Epoch:70/100 AVG Training Loss:0.297 AVG Validation Loss:0.519 AVG Training Acc 86.77 % AVG Validation Acc 77.93 %\n",
      "Epoch:80/100 AVG Training Loss:0.281 AVG Validation Loss:0.547 AVG Training Acc 87.41 % AVG Validation Acc 77.12 %\n",
      "Epoch:90/100 AVG Training Loss:0.265 AVG Validation Loss:0.560 AVG Training Acc 87.91 % AVG Validation Acc 77.25 %\n",
      "Epoch    99: reducing learning rate of group 0 to 1.0890e-04.\n",
      "Epoch:100/100 AVG Training Loss:0.258 AVG Validation Loss:0.574 AVG Training Acc 88.06 % AVG Validation Acc 78.20 %\n",
      "Split 9\n"
     ]
    },
    {
     "data": {
      "application/vnd.jupyter.widget-view+json": {
       "model_id": "bef7f4437aa74d0faad4f73eb45c7f12",
       "version_major": 2,
       "version_minor": 0
      },
      "text/plain": [
       "  0%|          | 0/100 [00:00<?, ?it/s]"
      ]
     },
     "metadata": {},
     "output_type": "display_data"
    },
    {
     "name": "stdout",
     "output_type": "stream",
     "text": [
      "Epoch:10/100 AVG Training Loss:0.670 AVG Validation Loss:0.679 AVG Training Acc 58.46 % AVG Validation Acc 44.68 %\n",
      "Epoch:20/100 AVG Training Loss:0.784 AVG Validation Loss:1.380 AVG Training Acc 70.47 % AVG Validation Acc 20.05 %\n",
      "Epoch    26: reducing learning rate of group 0 to 3.3000e-04.\n",
      "Epoch:30/100 AVG Training Loss:0.578 AVG Validation Loss:0.632 AVG Training Acc 73.29 % AVG Validation Acc 64.33 %\n",
      "Epoch:40/100 AVG Training Loss:0.495 AVG Validation Loss:0.619 AVG Training Acc 78.77 % AVG Validation Acc 70.12 %\n",
      "Epoch:50/100 AVG Training Loss:0.420 AVG Validation Loss:0.637 AVG Training Acc 81.76 % AVG Validation Acc 71.87 %\n",
      "Epoch:60/100 AVG Training Loss:0.370 AVG Validation Loss:0.588 AVG Training Acc 83.36 % AVG Validation Acc 74.83 %\n",
      "Epoch:70/100 AVG Training Loss:0.345 AVG Validation Loss:0.565 AVG Training Acc 84.65 % AVG Validation Acc 76.31 %\n",
      "Epoch:80/100 AVG Training Loss:0.328 AVG Validation Loss:0.554 AVG Training Acc 85.09 % AVG Validation Acc 77.66 %\n",
      "Epoch:90/100 AVG Training Loss:0.321 AVG Validation Loss:0.557 AVG Training Acc 85.49 % AVG Validation Acc 77.79 %\n",
      "Epoch:100/100 AVG Training Loss:0.298 AVG Validation Loss:0.537 AVG Training Acc 86.38 % AVG Validation Acc 78.87 %\n",
      "Split 10\n"
     ]
    },
    {
     "data": {
      "application/vnd.jupyter.widget-view+json": {
       "model_id": "398ee34ac43145f08267b3652370842d",
       "version_major": 2,
       "version_minor": 0
      },
      "text/plain": [
       "  0%|          | 0/100 [00:00<?, ?it/s]"
      ]
     },
     "metadata": {},
     "output_type": "display_data"
    },
    {
     "name": "stdout",
     "output_type": "stream",
     "text": [
      "Epoch:10/100 AVG Training Loss:0.517 AVG Validation Loss:3.586 AVG Training Acc 77.58 % AVG Validation Acc 21.13 %\n",
      "Epoch:20/100 AVG Training Loss:0.619 AVG Validation Loss:0.719 AVG Training Acc 68.25 % AVG Validation Acc 53.70 %\n",
      "Epoch    23: reducing learning rate of group 0 to 3.3000e-04.\n",
      "Epoch:30/100 AVG Training Loss:0.483 AVG Validation Loss:0.604 AVG Training Acc 79.27 % AVG Validation Acc 69.72 %\n",
      "Epoch:40/100 AVG Training Loss:0.397 AVG Validation Loss:0.573 AVG Training Acc 82.84 % AVG Validation Acc 73.22 %\n",
      "Epoch:50/100 AVG Training Loss:0.358 AVG Validation Loss:0.532 AVG Training Acc 84.55 % AVG Validation Acc 76.99 %\n",
      "Epoch:60/100 AVG Training Loss:0.343 AVG Validation Loss:0.535 AVG Training Acc 85.23 % AVG Validation Acc 77.12 %\n",
      "Epoch    66: reducing learning rate of group 0 to 1.0890e-04.\n",
      "Epoch:70/100 AVG Training Loss:0.327 AVG Validation Loss:0.510 AVG Training Acc 85.61 % AVG Validation Acc 78.60 %\n",
      "Epoch:80/100 AVG Training Loss:0.322 AVG Validation Loss:0.515 AVG Training Acc 86.05 % AVG Validation Acc 78.06 %\n",
      "Epoch:90/100 AVG Training Loss:0.316 AVG Validation Loss:0.521 AVG Training Acc 86.05 % AVG Validation Acc 78.06 %\n",
      "Epoch:100/100 AVG Training Loss:0.311 AVG Validation Loss:0.520 AVG Training Acc 86.32 % AVG Validation Acc 77.93 %\n",
      "Replica 17\n"
     ]
    },
    {
     "data": {
      "application/vnd.jupyter.widget-view+json": {
       "model_id": "0cf307b3fa9f4abcb601e8329d67a7fb",
       "version_major": 2,
       "version_minor": 0
      },
      "text/plain": [
       "0it [00:00, ?it/s]"
      ]
     },
     "metadata": {},
     "output_type": "display_data"
    },
    {
     "name": "stdout",
     "output_type": "stream",
     "text": [
      "Split 1\n"
     ]
    },
    {
     "data": {
      "application/vnd.jupyter.widget-view+json": {
       "model_id": "bb7c5c821ff349e4bd07ca1470e2280e",
       "version_major": 2,
       "version_minor": 0
      },
      "text/plain": [
       "  0%|          | 0/100 [00:00<?, ?it/s]"
      ]
     },
     "metadata": {},
     "output_type": "display_data"
    },
    {
     "name": "stdout",
     "output_type": "stream",
     "text": [
      "Epoch:10/100 AVG Training Loss:0.707 AVG Validation Loss:0.718 AVG Training Acc 47.92 % AVG Validation Acc 31.05 %\n",
      "Epoch:20/100 AVG Training Loss:0.544 AVG Validation Loss:0.672 AVG Training Acc 76.80 % AVG Validation Acc 62.37 %\n",
      "Epoch:30/100 AVG Training Loss:0.383 AVG Validation Loss:0.604 AVG Training Acc 83.57 % AVG Validation Acc 74.87 %\n",
      "Epoch:40/100 AVG Training Loss:0.333 AVG Validation Loss:0.575 AVG Training Acc 85.37 % AVG Validation Acc 77.96 %\n",
      "Epoch    45: reducing learning rate of group 0 to 3.3000e-04.\n",
      "Epoch:50/100 AVG Training Loss:0.293 AVG Validation Loss:0.506 AVG Training Acc 86.74 % AVG Validation Acc 79.03 %\n",
      "Epoch:60/100 AVG Training Loss:0.271 AVG Validation Loss:0.527 AVG Training Acc 87.74 % AVG Validation Acc 77.96 %\n",
      "Epoch:70/100 AVG Training Loss:0.247 AVG Validation Loss:0.583 AVG Training Acc 88.49 % AVG Validation Acc 75.94 %\n",
      "Epoch:80/100 AVG Training Loss:0.219 AVG Validation Loss:0.660 AVG Training Acc 89.74 % AVG Validation Acc 74.06 %\n",
      "Epoch    81: reducing learning rate of group 0 to 1.0890e-04.\n",
      "Epoch:90/100 AVG Training Loss:0.210 AVG Validation Loss:0.708 AVG Training Acc 89.54 % AVG Validation Acc 76.88 %\n",
      "Epoch:100/100 AVG Training Loss:0.194 AVG Validation Loss:0.736 AVG Training Acc 90.65 % AVG Validation Acc 76.21 %\n",
      "Split 2\n"
     ]
    },
    {
     "data": {
      "application/vnd.jupyter.widget-view+json": {
       "model_id": "52ade5294bc24c57b12cd51c9748bcba",
       "version_major": 2,
       "version_minor": 0
      },
      "text/plain": [
       "  0%|          | 0/100 [00:00<?, ?it/s]"
      ]
     },
     "metadata": {},
     "output_type": "display_data"
    },
    {
     "name": "stdout",
     "output_type": "stream",
     "text": [
      "Epoch:10/100 AVG Training Loss:0.682 AVG Validation Loss:0.694 AVG Training Acc 53.03 % AVG Validation Acc 38.44 %\n",
      "Epoch:20/100 AVG Training Loss:0.620 AVG Validation Loss:0.619 AVG Training Acc 69.35 % AVG Validation Acc 58.60 %\n",
      "Epoch:30/100 AVG Training Loss:0.504 AVG Validation Loss:0.589 AVG Training Acc 80.46 % AVG Validation Acc 68.82 %\n",
      "Epoch:40/100 AVG Training Loss:0.345 AVG Validation Loss:0.536 AVG Training Acc 84.98 % AVG Validation Acc 76.21 %\n",
      "Epoch:50/100 AVG Training Loss:0.304 AVG Validation Loss:0.541 AVG Training Acc 86.29 % AVG Validation Acc 76.61 %\n",
      "Epoch:60/100 AVG Training Loss:0.275 AVG Validation Loss:0.625 AVG Training Acc 87.38 % AVG Validation Acc 75.94 %\n",
      "Epoch    68: reducing learning rate of group 0 to 3.3000e-04.\n",
      "Epoch:70/100 AVG Training Loss:0.248 AVG Validation Loss:0.512 AVG Training Acc 87.93 % AVG Validation Acc 77.96 %\n",
      "Epoch:80/100 AVG Training Loss:0.195 AVG Validation Loss:0.625 AVG Training Acc 90.45 % AVG Validation Acc 75.81 %\n",
      "Epoch:90/100 AVG Training Loss:0.170 AVG Validation Loss:0.766 AVG Training Acc 91.81 % AVG Validation Acc 75.81 %\n",
      "Epoch:100/100 AVG Training Loss:0.142 AVG Validation Loss:0.874 AVG Training Acc 93.24 % AVG Validation Acc 74.60 %\n",
      "Split 3\n"
     ]
    },
    {
     "data": {
      "application/vnd.jupyter.widget-view+json": {
       "model_id": "fe5383e2fab14fd693ce46811f5eeed4",
       "version_major": 2,
       "version_minor": 0
      },
      "text/plain": [
       "  0%|          | 0/100 [00:00<?, ?it/s]"
      ]
     },
     "metadata": {},
     "output_type": "display_data"
    },
    {
     "name": "stdout",
     "output_type": "stream",
     "text": [
      "Epoch:10/100 AVG Training Loss:0.652 AVG Validation Loss:0.687 AVG Training Acc 63.70 % AVG Validation Acc 45.43 %\n",
      "Epoch:20/100 AVG Training Loss:0.552 AVG Validation Loss:0.626 AVG Training Acc 76.65 % AVG Validation Acc 63.44 %\n",
      "Epoch:30/100 AVG Training Loss:0.394 AVG Validation Loss:0.639 AVG Training Acc 83.02 % AVG Validation Acc 70.56 %\n",
      "Epoch:40/100 AVG Training Loss:0.335 AVG Validation Loss:0.590 AVG Training Acc 85.28 % AVG Validation Acc 74.87 %\n",
      "Epoch:50/100 AVG Training Loss:0.303 AVG Validation Loss:0.598 AVG Training Acc 86.27 % AVG Validation Acc 74.33 %\n",
      "Epoch    57: reducing learning rate of group 0 to 3.3000e-04.\n",
      "Epoch:60/100 AVG Training Loss:0.265 AVG Validation Loss:0.531 AVG Training Acc 87.27 % AVG Validation Acc 76.34 %\n",
      "Epoch:70/100 AVG Training Loss:0.224 AVG Validation Loss:0.633 AVG Training Acc 89.43 % AVG Validation Acc 74.33 %\n",
      "Epoch:80/100 AVG Training Loss:0.191 AVG Validation Loss:0.736 AVG Training Acc 90.75 % AVG Validation Acc 73.12 %\n",
      "Epoch:90/100 AVG Training Loss:0.172 AVG Validation Loss:0.764 AVG Training Acc 91.67 % AVG Validation Acc 73.79 %\n",
      "Epoch    93: reducing learning rate of group 0 to 1.0890e-04.\n",
      "Epoch:100/100 AVG Training Loss:0.151 AVG Validation Loss:0.839 AVG Training Acc 92.48 % AVG Validation Acc 75.27 %\n",
      "Split 4\n"
     ]
    },
    {
     "data": {
      "application/vnd.jupyter.widget-view+json": {
       "model_id": "6edcaf2c6a7a4ccf90bafc8411cf3a04",
       "version_major": 2,
       "version_minor": 0
      },
      "text/plain": [
       "  0%|          | 0/100 [00:00<?, ?it/s]"
      ]
     },
     "metadata": {},
     "output_type": "display_data"
    },
    {
     "name": "stdout",
     "output_type": "stream",
     "text": [
      "Epoch:10/100 AVG Training Loss:0.655 AVG Validation Loss:0.684 AVG Training Acc 62.84 % AVG Validation Acc 46.51 %\n",
      "Epoch:20/100 AVG Training Loss:0.520 AVG Validation Loss:1.060 AVG Training Acc 77.60 % AVG Validation Acc 43.95 %\n",
      "Epoch:30/100 AVG Training Loss:0.423 AVG Validation Loss:0.590 AVG Training Acc 82.30 % AVG Validation Acc 73.12 %\n",
      "Epoch:40/100 AVG Training Loss:0.329 AVG Validation Loss:0.575 AVG Training Acc 85.34 % AVG Validation Acc 75.40 %\n",
      "Epoch:50/100 AVG Training Loss:0.285 AVG Validation Loss:0.558 AVG Training Acc 86.85 % AVG Validation Acc 73.12 %\n",
      "Epoch:60/100 AVG Training Loss:0.257 AVG Validation Loss:0.594 AVG Training Acc 88.19 % AVG Validation Acc 72.72 %\n",
      "Epoch    65: reducing learning rate of group 0 to 3.3000e-04.\n",
      "Epoch:70/100 AVG Training Loss:0.210 AVG Validation Loss:0.589 AVG Training Acc 90.36 % AVG Validation Acc 73.52 %\n",
      "Epoch:80/100 AVG Training Loss:0.170 AVG Validation Loss:0.700 AVG Training Acc 92.09 % AVG Validation Acc 74.46 %\n",
      "Epoch:90/100 AVG Training Loss:0.148 AVG Validation Loss:0.897 AVG Training Acc 93.30 % AVG Validation Acc 72.31 %\n",
      "Epoch:100/100 AVG Training Loss:0.128 AVG Validation Loss:0.972 AVG Training Acc 93.94 % AVG Validation Acc 73.12 %\n",
      "Split 5\n"
     ]
    },
    {
     "data": {
      "application/vnd.jupyter.widget-view+json": {
       "model_id": "d710f768abc8416cbd874737348f354d",
       "version_major": 2,
       "version_minor": 0
      },
      "text/plain": [
       "  0%|          | 0/100 [00:00<?, ?it/s]"
      ]
     },
     "metadata": {},
     "output_type": "display_data"
    },
    {
     "name": "stdout",
     "output_type": "stream",
     "text": [
      "Epoch:10/100 AVG Training Loss:0.667 AVG Validation Loss:0.768 AVG Training Acc 60.82 % AVG Validation Acc 33.74 %\n",
      "Epoch:20/100 AVG Training Loss:0.527 AVG Validation Loss:0.638 AVG Training Acc 77.69 % AVG Validation Acc 65.73 %\n",
      "Epoch:30/100 AVG Training Loss:0.372 AVG Validation Loss:0.663 AVG Training Acc 83.84 % AVG Validation Acc 72.98 %\n",
      "Epoch:40/100 AVG Training Loss:0.310 AVG Validation Loss:0.611 AVG Training Acc 86.53 % AVG Validation Acc 72.58 %\n",
      "Epoch:50/100 AVG Training Loss:0.267 AVG Validation Loss:0.682 AVG Training Acc 87.80 % AVG Validation Acc 70.97 %\n",
      "Epoch    54: reducing learning rate of group 0 to 3.3000e-04.\n",
      "Epoch:60/100 AVG Training Loss:0.233 AVG Validation Loss:0.644 AVG Training Acc 89.07 % AVG Validation Acc 72.98 %\n",
      "Epoch:70/100 AVG Training Loss:0.191 AVG Validation Loss:0.756 AVG Training Acc 91.01 % AVG Validation Acc 72.18 %\n",
      "Epoch:80/100 AVG Training Loss:0.167 AVG Validation Loss:0.844 AVG Training Acc 92.39 % AVG Validation Acc 72.72 %\n",
      "Epoch:90/100 AVG Training Loss:0.139 AVG Validation Loss:0.872 AVG Training Acc 93.50 % AVG Validation Acc 72.85 %\n",
      "Epoch    90: reducing learning rate of group 0 to 1.0890e-04.\n",
      "Epoch:100/100 AVG Training Loss:0.123 AVG Validation Loss:1.099 AVG Training Acc 94.42 % AVG Validation Acc 70.03 %\n",
      "Split 6\n"
     ]
    },
    {
     "data": {
      "application/vnd.jupyter.widget-view+json": {
       "model_id": "906762172469436e83fb2b65978cbdc3",
       "version_major": 2,
       "version_minor": 0
      },
      "text/plain": [
       "  0%|          | 0/100 [00:00<?, ?it/s]"
      ]
     },
     "metadata": {},
     "output_type": "display_data"
    },
    {
     "name": "stdout",
     "output_type": "stream",
     "text": [
      "Epoch:10/100 AVG Training Loss:0.718 AVG Validation Loss:1.661 AVG Training Acc 62.98 % AVG Validation Acc 20.16 %\n",
      "Epoch:20/100 AVG Training Loss:0.543 AVG Validation Loss:0.712 AVG Training Acc 76.71 % AVG Validation Acc 54.97 %\n",
      "Epoch:30/100 AVG Training Loss:0.407 AVG Validation Loss:0.651 AVG Training Acc 82.78 % AVG Validation Acc 70.97 %\n",
      "Epoch:40/100 AVG Training Loss:0.345 AVG Validation Loss:0.599 AVG Training Acc 84.95 % AVG Validation Acc 74.06 %\n",
      "Epoch:50/100 AVG Training Loss:0.316 AVG Validation Loss:0.598 AVG Training Acc 86.05 % AVG Validation Acc 73.92 %\n",
      "Epoch:60/100 AVG Training Loss:0.288 AVG Validation Loss:0.612 AVG Training Acc 86.99 % AVG Validation Acc 73.79 %\n",
      "Epoch:70/100 AVG Training Loss:0.252 AVG Validation Loss:0.649 AVG Training Acc 88.11 % AVG Validation Acc 71.10 %\n",
      "Epoch    70: reducing learning rate of group 0 to 3.3000e-04.\n",
      "Epoch:80/100 AVG Training Loss:0.209 AVG Validation Loss:0.615 AVG Training Acc 89.88 % AVG Validation Acc 71.51 %\n",
      "Epoch:90/100 AVG Training Loss:0.183 AVG Validation Loss:0.690 AVG Training Acc 90.90 % AVG Validation Acc 72.04 %\n",
      "Epoch:100/100 AVG Training Loss:0.156 AVG Validation Loss:0.794 AVG Training Acc 92.39 % AVG Validation Acc 70.83 %\n",
      "Split 7\n"
     ]
    },
    {
     "data": {
      "application/vnd.jupyter.widget-view+json": {
       "model_id": "851f9121c7ec40ec9b67cf903c5a41bd",
       "version_major": 2,
       "version_minor": 0
      },
      "text/plain": [
       "  0%|          | 0/100 [00:00<?, ?it/s]"
      ]
     },
     "metadata": {},
     "output_type": "display_data"
    },
    {
     "name": "stdout",
     "output_type": "stream",
     "text": [
      "Epoch:10/100 AVG Training Loss:0.688 AVG Validation Loss:0.699 AVG Training Acc 50.96 % AVG Validation Acc 35.26 %\n",
      "Epoch:20/100 AVG Training Loss:0.644 AVG Validation Loss:0.620 AVG Training Acc 64.53 % AVG Validation Acc 58.82 %\n",
      "Epoch:30/100 AVG Training Loss:0.470 AVG Validation Loss:0.620 AVG Training Acc 80.75 % AVG Validation Acc 69.72 %\n",
      "Epoch:40/100 AVG Training Loss:0.366 AVG Validation Loss:0.594 AVG Training Acc 83.94 % AVG Validation Acc 74.43 %\n",
      "Epoch:50/100 AVG Training Loss:0.330 AVG Validation Loss:0.667 AVG Training Acc 85.26 % AVG Validation Acc 73.62 %\n",
      "Epoch:60/100 AVG Training Loss:0.298 AVG Validation Loss:0.570 AVG Training Acc 86.10 % AVG Validation Acc 75.37 %\n",
      "Epoch:70/100 AVG Training Loss:0.257 AVG Validation Loss:0.631 AVG Training Acc 87.69 % AVG Validation Acc 72.14 %\n",
      "Epoch    73: reducing learning rate of group 0 to 3.3000e-04.\n",
      "Epoch:80/100 AVG Training Loss:0.214 AVG Validation Loss:0.733 AVG Training Acc 89.88 % AVG Validation Acc 73.35 %\n",
      "Epoch:90/100 AVG Training Loss:0.177 AVG Validation Loss:0.819 AVG Training Acc 91.77 % AVG Validation Acc 73.89 %\n",
      "Epoch:100/100 AVG Training Loss:0.161 AVG Validation Loss:0.934 AVG Training Acc 92.61 % AVG Validation Acc 74.29 %\n",
      "Split 8\n"
     ]
    },
    {
     "data": {
      "application/vnd.jupyter.widget-view+json": {
       "model_id": "a2b0be9bf2aa45d4bc927b3c9c599e90",
       "version_major": 2,
       "version_minor": 0
      },
      "text/plain": [
       "  0%|          | 0/100 [00:00<?, ?it/s]"
      ]
     },
     "metadata": {},
     "output_type": "display_data"
    },
    {
     "name": "stdout",
     "output_type": "stream",
     "text": [
      "Epoch:10/100 AVG Training Loss:0.836 AVG Validation Loss:1.598 AVG Training Acc 63.80 % AVG Validation Acc 20.05 %\n",
      "Epoch:20/100 AVG Training Loss:0.601 AVG Validation Loss:0.597 AVG Training Acc 72.38 % AVG Validation Acc 63.80 %\n",
      "Epoch:30/100 AVG Training Loss:0.486 AVG Validation Loss:0.628 AVG Training Acc 79.52 % AVG Validation Acc 70.79 %\n",
      "Epoch:40/100 AVG Training Loss:0.362 AVG Validation Loss:0.569 AVG Training Acc 84.49 % AVG Validation Acc 75.64 %\n",
      "Epoch:50/100 AVG Training Loss:0.322 AVG Validation Loss:0.559 AVG Training Acc 85.88 % AVG Validation Acc 76.85 %\n",
      "Epoch:60/100 AVG Training Loss:0.294 AVG Validation Loss:0.563 AVG Training Acc 86.77 % AVG Validation Acc 75.37 %\n",
      "Epoch    67: reducing learning rate of group 0 to 3.3000e-04.\n",
      "Epoch:70/100 AVG Training Loss:0.263 AVG Validation Loss:0.525 AVG Training Acc 87.65 % AVG Validation Acc 75.64 %\n",
      "Epoch:80/100 AVG Training Loss:0.235 AVG Validation Loss:0.579 AVG Training Acc 88.59 % AVG Validation Acc 74.70 %\n",
      "Epoch:90/100 AVG Training Loss:0.210 AVG Validation Loss:0.652 AVG Training Acc 89.51 % AVG Validation Acc 73.08 %\n",
      "Epoch:100/100 AVG Training Loss:0.200 AVG Validation Loss:0.746 AVG Training Acc 89.98 % AVG Validation Acc 71.20 %\n",
      "Split 9\n"
     ]
    },
    {
     "data": {
      "application/vnd.jupyter.widget-view+json": {
       "model_id": "964405729b0e497c97a821a5ece4ff3c",
       "version_major": 2,
       "version_minor": 0
      },
      "text/plain": [
       "  0%|          | 0/100 [00:00<?, ?it/s]"
      ]
     },
     "metadata": {},
     "output_type": "display_data"
    },
    {
     "name": "stdout",
     "output_type": "stream",
     "text": [
      "Epoch:10/100 AVG Training Loss:0.668 AVG Validation Loss:0.719 AVG Training Acc 58.77 % AVG Validation Acc 27.59 %\n",
      "Epoch:20/100 AVG Training Loss:0.558 AVG Validation Loss:0.627 AVG Training Acc 75.78 % AVG Validation Acc 64.47 %\n",
      "Epoch:30/100 AVG Training Loss:0.406 AVG Validation Loss:0.757 AVG Training Acc 82.89 % AVG Validation Acc 69.99 %\n",
      "Epoch:40/100 AVG Training Loss:0.327 AVG Validation Loss:0.560 AVG Training Acc 85.72 % AVG Validation Acc 75.64 %\n",
      "Epoch:50/100 AVG Training Loss:0.285 AVG Validation Loss:0.567 AVG Training Acc 86.94 % AVG Validation Acc 72.27 %\n",
      "Epoch:60/100 AVG Training Loss:0.237 AVG Validation Loss:0.656 AVG Training Acc 88.66 % AVG Validation Acc 71.33 %\n",
      "Epoch    65: reducing learning rate of group 0 to 3.3000e-04.\n",
      "Epoch:70/100 AVG Training Loss:0.200 AVG Validation Loss:0.653 AVG Training Acc 90.54 % AVG Validation Acc 76.99 %\n",
      "Epoch:80/100 AVG Training Loss:0.162 AVG Validation Loss:0.756 AVG Training Acc 91.93 % AVG Validation Acc 76.31 %\n",
      "Epoch:90/100 AVG Training Loss:0.139 AVG Validation Loss:0.817 AVG Training Acc 93.49 % AVG Validation Acc 75.50 %\n",
      "Epoch:100/100 AVG Training Loss:0.137 AVG Validation Loss:0.904 AVG Training Acc 93.61 % AVG Validation Acc 73.08 %\n",
      "Split 10\n"
     ]
    },
    {
     "data": {
      "application/vnd.jupyter.widget-view+json": {
       "model_id": "eff5e9e96a3a4f7da0fa355816e89d8e",
       "version_major": 2,
       "version_minor": 0
      },
      "text/plain": [
       "  0%|          | 0/100 [00:00<?, ?it/s]"
      ]
     },
     "metadata": {},
     "output_type": "display_data"
    },
    {
     "name": "stdout",
     "output_type": "stream",
     "text": [
      "Epoch:10/100 AVG Training Loss:0.681 AVG Validation Loss:0.670 AVG Training Acc 56.82 % AVG Validation Acc 45.90 %\n",
      "Epoch:20/100 AVG Training Loss:0.507 AVG Validation Loss:0.676 AVG Training Acc 79.42 % AVG Validation Acc 62.72 %\n",
      "Epoch:30/100 AVG Training Loss:0.381 AVG Validation Loss:0.688 AVG Training Acc 83.42 % AVG Validation Acc 69.99 %\n",
      "Epoch:40/100 AVG Training Loss:0.306 AVG Validation Loss:0.575 AVG Training Acc 85.57 % AVG Validation Acc 74.97 %\n",
      "Epoch:50/100 AVG Training Loss:0.262 AVG Validation Loss:0.600 AVG Training Acc 87.54 % AVG Validation Acc 72.41 %\n",
      "Epoch    56: reducing learning rate of group 0 to 3.3000e-04.\n",
      "Epoch:60/100 AVG Training Loss:0.217 AVG Validation Loss:0.618 AVG Training Acc 89.40 % AVG Validation Acc 73.76 %\n",
      "Epoch:70/100 AVG Training Loss:0.181 AVG Validation Loss:0.760 AVG Training Acc 91.26 % AVG Validation Acc 73.49 %\n",
      "Epoch:80/100 AVG Training Loss:0.157 AVG Validation Loss:0.847 AVG Training Acc 92.43 % AVG Validation Acc 74.16 %\n",
      "Epoch:90/100 AVG Training Loss:0.139 AVG Validation Loss:0.885 AVG Training Acc 93.00 % AVG Validation Acc 75.77 %\n",
      "Epoch    92: reducing learning rate of group 0 to 1.0890e-04.\n",
      "Epoch:100/100 AVG Training Loss:0.121 AVG Validation Loss:0.961 AVG Training Acc 94.07 % AVG Validation Acc 75.24 %\n",
      "Replica 18\n"
     ]
    },
    {
     "data": {
      "application/vnd.jupyter.widget-view+json": {
       "model_id": "6e7d5e79b8e341189dabf010973dbaa0",
       "version_major": 2,
       "version_minor": 0
      },
      "text/plain": [
       "0it [00:00, ?it/s]"
      ]
     },
     "metadata": {},
     "output_type": "display_data"
    },
    {
     "name": "stdout",
     "output_type": "stream",
     "text": [
      "Split 1\n"
     ]
    },
    {
     "data": {
      "application/vnd.jupyter.widget-view+json": {
       "model_id": "b0f87da215694285b4673af13914c33c",
       "version_major": 2,
       "version_minor": 0
      },
      "text/plain": [
       "  0%|          | 0/100 [00:00<?, ?it/s]"
      ]
     },
     "metadata": {},
     "output_type": "display_data"
    },
    {
     "name": "stdout",
     "output_type": "stream",
     "text": [
      "Epoch:10/100 AVG Training Loss:0.876 AVG Validation Loss:0.772 AVG Training Acc 44.28 % AVG Validation Acc 21.51 %\n",
      "Epoch:20/100 AVG Training Loss:0.538 AVG Validation Loss:0.781 AVG Training Acc 77.33 % AVG Validation Acc 54.70 %\n",
      "Epoch:30/100 AVG Training Loss:0.373 AVG Validation Loss:0.569 AVG Training Acc 83.63 % AVG Validation Acc 76.61 %\n",
      "Epoch:40/100 AVG Training Loss:0.329 AVG Validation Loss:0.571 AVG Training Acc 85.36 % AVG Validation Acc 76.61 %\n",
      "Epoch    43: reducing learning rate of group 0 to 3.3000e-04.\n",
      "Epoch:50/100 AVG Training Loss:0.300 AVG Validation Loss:0.517 AVG Training Acc 86.48 % AVG Validation Acc 78.49 %\n",
      "Epoch:60/100 AVG Training Loss:0.283 AVG Validation Loss:0.529 AVG Training Acc 87.07 % AVG Validation Acc 78.09 %\n",
      "Epoch:70/100 AVG Training Loss:0.262 AVG Validation Loss:0.541 AVG Training Acc 87.77 % AVG Validation Acc 77.69 %\n",
      "Epoch    79: reducing learning rate of group 0 to 1.0890e-04.\n",
      "Epoch:80/100 AVG Training Loss:0.247 AVG Validation Loss:0.586 AVG Training Acc 88.48 % AVG Validation Acc 78.23 %\n",
      "Epoch:90/100 AVG Training Loss:0.230 AVG Validation Loss:0.632 AVG Training Acc 88.93 % AVG Validation Acc 79.17 %\n",
      "Epoch:100/100 AVG Training Loss:0.220 AVG Validation Loss:0.657 AVG Training Acc 89.28 % AVG Validation Acc 78.23 %\n",
      "Split 2\n"
     ]
    },
    {
     "data": {
      "application/vnd.jupyter.widget-view+json": {
       "model_id": "8c42138d8c294a52b9bb169a224bd518",
       "version_major": 2,
       "version_minor": 0
      },
      "text/plain": [
       "  0%|          | 0/100 [00:00<?, ?it/s]"
      ]
     },
     "metadata": {},
     "output_type": "display_data"
    },
    {
     "name": "stdout",
     "output_type": "stream",
     "text": [
      "Epoch:10/100 AVG Training Loss:0.702 AVG Validation Loss:0.713 AVG Training Acc 48.10 % AVG Validation Acc 34.27 %\n",
      "Epoch:20/100 AVG Training Loss:0.549 AVG Validation Loss:0.609 AVG Training Acc 76.44 % AVG Validation Acc 66.94 %\n",
      "Epoch:30/100 AVG Training Loss:0.383 AVG Validation Loss:0.640 AVG Training Acc 83.12 % AVG Validation Acc 72.04 %\n",
      "Epoch:40/100 AVG Training Loss:0.338 AVG Validation Loss:1.021 AVG Training Acc 85.35 % AVG Validation Acc 70.03 %\n",
      "Epoch:50/100 AVG Training Loss:0.302 AVG Validation Loss:0.542 AVG Training Acc 86.11 % AVG Validation Acc 76.48 %\n",
      "Epoch    59: reducing learning rate of group 0 to 3.3000e-04.\n",
      "Epoch:60/100 AVG Training Loss:0.283 AVG Validation Loss:0.531 AVG Training Acc 86.83 % AVG Validation Acc 77.42 %\n",
      "Epoch:70/100 AVG Training Loss:0.232 AVG Validation Loss:0.589 AVG Training Acc 88.90 % AVG Validation Acc 76.21 %\n",
      "Epoch:80/100 AVG Training Loss:0.202 AVG Validation Loss:0.664 AVG Training Acc 90.43 % AVG Validation Acc 74.73 %\n",
      "Epoch:90/100 AVG Training Loss:0.171 AVG Validation Loss:0.747 AVG Training Acc 91.75 % AVG Validation Acc 74.19 %\n",
      "Epoch    95: reducing learning rate of group 0 to 1.0890e-04.\n",
      "Epoch:100/100 AVG Training Loss:0.147 AVG Validation Loss:0.828 AVG Training Acc 93.00 % AVG Validation Acc 74.33 %\n",
      "Split 3\n"
     ]
    },
    {
     "data": {
      "application/vnd.jupyter.widget-view+json": {
       "model_id": "73e6a0b94b0340649154b3be61d8b94a",
       "version_major": 2,
       "version_minor": 0
      },
      "text/plain": [
       "  0%|          | 0/100 [00:00<?, ?it/s]"
      ]
     },
     "metadata": {},
     "output_type": "display_data"
    },
    {
     "name": "stdout",
     "output_type": "stream",
     "text": [
      "Epoch:10/100 AVG Training Loss:0.920 AVG Validation Loss:0.893 AVG Training Acc 46.86 % AVG Validation Acc 20.16 %\n",
      "Epoch:20/100 AVG Training Loss:0.603 AVG Validation Loss:1.229 AVG Training Acc 67.31 % AVG Validation Acc 36.29 %\n",
      "Epoch:30/100 AVG Training Loss:0.486 AVG Validation Loss:0.730 AVG Training Acc 80.23 % AVG Validation Acc 64.11 %\n",
      "Epoch:40/100 AVG Training Loss:0.356 AVG Validation Loss:0.590 AVG Training Acc 84.45 % AVG Validation Acc 74.87 %\n",
      "Epoch:50/100 AVG Training Loss:0.325 AVG Validation Loss:0.574 AVG Training Acc 85.72 % AVG Validation Acc 76.61 %\n",
      "Epoch:60/100 AVG Training Loss:0.299 AVG Validation Loss:0.543 AVG Training Acc 86.28 % AVG Validation Acc 76.61 %\n",
      "Epoch:70/100 AVG Training Loss:0.268 AVG Validation Loss:0.572 AVG Training Acc 87.18 % AVG Validation Acc 72.18 %\n",
      "Epoch    73: reducing learning rate of group 0 to 3.3000e-04.\n",
      "Epoch:80/100 AVG Training Loss:0.226 AVG Validation Loss:0.663 AVG Training Acc 88.54 % AVG Validation Acc 74.19 %\n",
      "Epoch:90/100 AVG Training Loss:0.197 AVG Validation Loss:0.738 AVG Training Acc 90.19 % AVG Validation Acc 73.12 %\n",
      "Epoch:100/100 AVG Training Loss:0.174 AVG Validation Loss:0.754 AVG Training Acc 91.60 % AVG Validation Acc 72.58 %\n",
      "Split 4\n"
     ]
    },
    {
     "data": {
      "application/vnd.jupyter.widget-view+json": {
       "model_id": "7b68570051664c869958e5e69aedd9fd",
       "version_major": 2,
       "version_minor": 0
      },
      "text/plain": [
       "  0%|          | 0/100 [00:00<?, ?it/s]"
      ]
     },
     "metadata": {},
     "output_type": "display_data"
    },
    {
     "name": "stdout",
     "output_type": "stream",
     "text": [
      "Epoch:10/100 AVG Training Loss:0.884 AVG Validation Loss:2.545 AVG Training Acc 64.96 % AVG Validation Acc 20.16 %\n",
      "Epoch:20/100 AVG Training Loss:0.480 AVG Validation Loss:1.720 AVG Training Acc 79.22 % AVG Validation Acc 42.07 %\n",
      "Epoch:30/100 AVG Training Loss:0.378 AVG Validation Loss:0.605 AVG Training Acc 83.25 % AVG Validation Acc 74.06 %\n",
      "Epoch:40/100 AVG Training Loss:0.351 AVG Validation Loss:0.587 AVG Training Acc 84.65 % AVG Validation Acc 75.54 %\n",
      "Epoch:50/100 AVG Training Loss:0.323 AVG Validation Loss:0.570 AVG Training Acc 85.35 % AVG Validation Acc 76.61 %\n",
      "Epoch:60/100 AVG Training Loss:0.284 AVG Validation Loss:0.658 AVG Training Acc 86.84 % AVG Validation Acc 72.72 %\n",
      "Epoch    69: reducing learning rate of group 0 to 3.3000e-04.\n",
      "Epoch:70/100 AVG Training Loss:0.254 AVG Validation Loss:0.562 AVG Training Acc 88.07 % AVG Validation Acc 77.02 %\n",
      "Epoch:80/100 AVG Training Loss:0.202 AVG Validation Loss:0.666 AVG Training Acc 90.39 % AVG Validation Acc 74.06 %\n",
      "Epoch:90/100 AVG Training Loss:0.178 AVG Validation Loss:0.768 AVG Training Acc 91.93 % AVG Validation Acc 73.92 %\n",
      "Epoch:100/100 AVG Training Loss:0.158 AVG Validation Loss:0.866 AVG Training Acc 92.91 % AVG Validation Acc 74.06 %\n",
      "Split 5\n"
     ]
    },
    {
     "data": {
      "application/vnd.jupyter.widget-view+json": {
       "model_id": "35f34f86501d4bcba748c94c57938ea9",
       "version_major": 2,
       "version_minor": 0
      },
      "text/plain": [
       "  0%|          | 0/100 [00:00<?, ?it/s]"
      ]
     },
     "metadata": {},
     "output_type": "display_data"
    },
    {
     "name": "stdout",
     "output_type": "stream",
     "text": [
      "Epoch:10/100 AVG Training Loss:0.657 AVG Validation Loss:0.691 AVG Training Acc 61.10 % AVG Validation Acc 41.80 %\n",
      "Epoch:20/100 AVG Training Loss:0.504 AVG Validation Loss:0.642 AVG Training Acc 79.56 % AVG Validation Acc 65.99 %\n",
      "Epoch:30/100 AVG Training Loss:0.359 AVG Validation Loss:0.597 AVG Training Acc 84.28 % AVG Validation Acc 73.79 %\n",
      "Epoch:40/100 AVG Training Loss:0.310 AVG Validation Loss:0.585 AVG Training Acc 86.12 % AVG Validation Acc 74.87 %\n",
      "Epoch:50/100 AVG Training Loss:0.264 AVG Validation Loss:0.658 AVG Training Acc 87.65 % AVG Validation Acc 67.61 %\n",
      "Epoch    51: reducing learning rate of group 0 to 3.3000e-04.\n",
      "Epoch:60/100 AVG Training Loss:0.210 AVG Validation Loss:0.650 AVG Training Acc 90.40 % AVG Validation Acc 71.51 %\n",
      "Epoch:70/100 AVG Training Loss:0.176 AVG Validation Loss:0.741 AVG Training Acc 92.21 % AVG Validation Acc 69.49 %\n",
      "Epoch:80/100 AVG Training Loss:0.156 AVG Validation Loss:0.829 AVG Training Acc 92.93 % AVG Validation Acc 69.89 %\n",
      "Epoch    87: reducing learning rate of group 0 to 1.0890e-04.\n",
      "Epoch:90/100 AVG Training Loss:0.146 AVG Validation Loss:0.974 AVG Training Acc 93.62 % AVG Validation Acc 72.85 %\n",
      "Epoch:100/100 AVG Training Loss:0.125 AVG Validation Loss:1.082 AVG Training Acc 94.35 % AVG Validation Acc 70.16 %\n",
      "Split 6\n"
     ]
    },
    {
     "data": {
      "application/vnd.jupyter.widget-view+json": {
       "model_id": "41feab4531f948ffba8e590e517ad9d5",
       "version_major": 2,
       "version_minor": 0
      },
      "text/plain": [
       "  0%|          | 0/100 [00:00<?, ?it/s]"
      ]
     },
     "metadata": {},
     "output_type": "display_data"
    },
    {
     "name": "stdout",
     "output_type": "stream",
     "text": [
      "Epoch:10/100 AVG Training Loss:0.697 AVG Validation Loss:0.691 AVG Training Acc 39.05 % AVG Validation Acc 37.37 %\n",
      "Epoch:20/100 AVG Training Loss:0.695 AVG Validation Loss:0.682 AVG Training Acc 43.21 % AVG Validation Acc 54.30 %\n",
      "Epoch:30/100 AVG Training Loss:0.722 AVG Validation Loss:0.788 AVG Training Acc 60.39 % AVG Validation Acc 40.19 %\n",
      "Epoch:40/100 AVG Training Loss:0.424 AVG Validation Loss:0.695 AVG Training Acc 81.94 % AVG Validation Acc 71.37 %\n",
      "Epoch    48: reducing learning rate of group 0 to 3.3000e-04.\n",
      "Epoch:50/100 AVG Training Loss:0.346 AVG Validation Loss:0.536 AVG Training Acc 84.65 % AVG Validation Acc 76.61 %\n",
      "Epoch:60/100 AVG Training Loss:0.327 AVG Validation Loss:0.545 AVG Training Acc 85.49 % AVG Validation Acc 75.81 %\n",
      "Epoch:70/100 AVG Training Loss:0.312 AVG Validation Loss:0.575 AVG Training Acc 85.97 % AVG Validation Acc 74.60 %\n",
      "Epoch:80/100 AVG Training Loss:0.299 AVG Validation Loss:0.576 AVG Training Acc 86.74 % AVG Validation Acc 74.60 %\n",
      "Epoch    84: reducing learning rate of group 0 to 1.0890e-04.\n",
      "Epoch:90/100 AVG Training Loss:0.278 AVG Validation Loss:0.574 AVG Training Acc 87.41 % AVG Validation Acc 75.40 %\n",
      "Epoch:100/100 AVG Training Loss:0.267 AVG Validation Loss:0.606 AVG Training Acc 87.91 % AVG Validation Acc 74.73 %\n",
      "Split 7\n"
     ]
    },
    {
     "data": {
      "application/vnd.jupyter.widget-view+json": {
       "model_id": "d4049c80290c47219545eec54390c29f",
       "version_major": 2,
       "version_minor": 0
      },
      "text/plain": [
       "  0%|          | 0/100 [00:00<?, ?it/s]"
      ]
     },
     "metadata": {},
     "output_type": "display_data"
    },
    {
     "name": "stdout",
     "output_type": "stream",
     "text": [
      "Epoch:10/100 AVG Training Loss:0.657 AVG Validation Loss:0.675 AVG Training Acc 61.55 % AVG Validation Acc 45.76 %\n",
      "Epoch:20/100 AVG Training Loss:0.512 AVG Validation Loss:0.712 AVG Training Acc 78.73 % AVG Validation Acc 63.80 %\n",
      "Epoch:30/100 AVG Training Loss:0.355 AVG Validation Loss:0.605 AVG Training Acc 84.04 % AVG Validation Acc 74.16 %\n",
      "Epoch:40/100 AVG Training Loss:0.307 AVG Validation Loss:0.624 AVG Training Acc 85.81 % AVG Validation Acc 74.16 %\n",
      "Epoch    47: reducing learning rate of group 0 to 3.3000e-04.\n",
      "Epoch:50/100 AVG Training Loss:0.265 AVG Validation Loss:0.599 AVG Training Acc 87.80 % AVG Validation Acc 74.83 %\n",
      "Epoch:60/100 AVG Training Loss:0.232 AVG Validation Loss:0.714 AVG Training Acc 89.25 % AVG Validation Acc 72.68 %\n",
      "Epoch:70/100 AVG Training Loss:0.212 AVG Validation Loss:0.831 AVG Training Acc 90.35 % AVG Validation Acc 72.27 %\n",
      "Epoch:80/100 AVG Training Loss:0.197 AVG Validation Loss:0.796 AVG Training Acc 90.89 % AVG Validation Acc 72.81 %\n",
      "Epoch    83: reducing learning rate of group 0 to 1.0890e-04.\n",
      "Epoch:90/100 AVG Training Loss:0.173 AVG Validation Loss:0.836 AVG Training Acc 91.77 % AVG Validation Acc 72.27 %\n",
      "Epoch:100/100 AVG Training Loss:0.159 AVG Validation Loss:0.888 AVG Training Acc 92.61 % AVG Validation Acc 72.68 %\n",
      "Split 8\n"
     ]
    },
    {
     "data": {
      "application/vnd.jupyter.widget-view+json": {
       "model_id": "596e259536db44198f990ba47e0864d8",
       "version_major": 2,
       "version_minor": 0
      },
      "text/plain": [
       "  0%|          | 0/100 [00:00<?, ?it/s]"
      ]
     },
     "metadata": {},
     "output_type": "display_data"
    },
    {
     "name": "stdout",
     "output_type": "stream",
     "text": [
      "Epoch:10/100 AVG Training Loss:0.665 AVG Validation Loss:0.757 AVG Training Acc 61.99 % AVG Validation Acc 25.44 %\n",
      "Epoch:20/100 AVG Training Loss:0.486 AVG Validation Loss:0.848 AVG Training Acc 79.39 % AVG Validation Acc 58.01 %\n",
      "Epoch:30/100 AVG Training Loss:0.359 AVG Validation Loss:0.612 AVG Training Acc 84.33 % AVG Validation Acc 74.56 %\n",
      "Epoch:40/100 AVG Training Loss:0.309 AVG Validation Loss:0.618 AVG Training Acc 85.65 % AVG Validation Acc 71.06 %\n",
      "Epoch:50/100 AVG Training Loss:0.278 AVG Validation Loss:0.658 AVG Training Acc 86.92 % AVG Validation Acc 68.64 %\n",
      "Epoch    54: reducing learning rate of group 0 to 3.3000e-04.\n",
      "Epoch:60/100 AVG Training Loss:0.224 AVG Validation Loss:0.608 AVG Training Acc 89.67 % AVG Validation Acc 74.16 %\n",
      "Epoch:70/100 AVG Training Loss:0.203 AVG Validation Loss:0.689 AVG Training Acc 90.56 % AVG Validation Acc 72.95 %\n",
      "Epoch:80/100 AVG Training Loss:0.177 AVG Validation Loss:0.738 AVG Training Acc 91.78 % AVG Validation Acc 71.87 %\n",
      "Epoch:90/100 AVG Training Loss:0.164 AVG Validation Loss:0.837 AVG Training Acc 92.28 % AVG Validation Acc 69.18 %\n",
      "Epoch    90: reducing learning rate of group 0 to 1.0890e-04.\n",
      "Epoch:100/100 AVG Training Loss:0.140 AVG Validation Loss:0.865 AVG Training Acc 93.59 % AVG Validation Acc 72.01 %\n",
      "Split 9\n"
     ]
    },
    {
     "data": {
      "application/vnd.jupyter.widget-view+json": {
       "model_id": "c6f53120ed7244dd83a76b2991508ee4",
       "version_major": 2,
       "version_minor": 0
      },
      "text/plain": [
       "  0%|          | 0/100 [00:00<?, ?it/s]"
      ]
     },
     "metadata": {},
     "output_type": "display_data"
    },
    {
     "name": "stdout",
     "output_type": "stream",
     "text": [
      "Epoch:10/100 AVG Training Loss:0.649 AVG Validation Loss:0.898 AVG Training Acc 62.33 % AVG Validation Acc 20.59 %\n",
      "Epoch:20/100 AVG Training Loss:0.758 AVG Validation Loss:0.695 AVG Training Acc 41.05 % AVG Validation Acc 51.01 %\n",
      "Epoch    25: reducing learning rate of group 0 to 3.3000e-04.\n",
      "Epoch:30/100 AVG Training Loss:0.551 AVG Validation Loss:0.646 AVG Training Acc 75.32 % AVG Validation Acc 65.68 %\n",
      "Epoch:40/100 AVG Training Loss:0.461 AVG Validation Loss:0.631 AVG Training Acc 80.56 % AVG Validation Acc 69.99 %\n",
      "Epoch:50/100 AVG Training Loss:0.372 AVG Validation Loss:0.567 AVG Training Acc 83.55 % AVG Validation Acc 75.37 %\n",
      "Epoch:60/100 AVG Training Loss:0.349 AVG Validation Loss:0.532 AVG Training Acc 84.49 % AVG Validation Acc 76.99 %\n",
      "Epoch:70/100 AVG Training Loss:0.335 AVG Validation Loss:0.543 AVG Training Acc 85.29 % AVG Validation Acc 77.66 %\n",
      "Epoch:80/100 AVG Training Loss:0.325 AVG Validation Loss:0.524 AVG Training Acc 85.63 % AVG Validation Acc 78.33 %\n",
      "Epoch:90/100 AVG Training Loss:0.311 AVG Validation Loss:0.523 AVG Training Acc 85.96 % AVG Validation Acc 79.00 %\n",
      "Epoch:100/100 AVG Training Loss:0.300 AVG Validation Loss:0.543 AVG Training Acc 86.39 % AVG Validation Acc 79.14 %\n",
      "Split 10\n"
     ]
    },
    {
     "data": {
      "application/vnd.jupyter.widget-view+json": {
       "model_id": "9ab6c9393fcf416e8078c87cae8e7f2c",
       "version_major": 2,
       "version_minor": 0
      },
      "text/plain": [
       "  0%|          | 0/100 [00:00<?, ?it/s]"
      ]
     },
     "metadata": {},
     "output_type": "display_data"
    },
    {
     "name": "stdout",
     "output_type": "stream",
     "text": [
      "Epoch:10/100 AVG Training Loss:0.798 AVG Validation Loss:0.737 AVG Training Acc 42.29 % AVG Validation Acc 21.13 %\n",
      "Epoch:20/100 AVG Training Loss:0.531 AVG Validation Loss:1.219 AVG Training Acc 77.28 % AVG Validation Acc 39.57 %\n",
      "Epoch:30/100 AVG Training Loss:0.390 AVG Validation Loss:0.574 AVG Training Acc 83.30 % AVG Validation Acc 74.02 %\n",
      "Epoch:40/100 AVG Training Loss:0.332 AVG Validation Loss:0.555 AVG Training Acc 85.51 % AVG Validation Acc 75.37 %\n",
      "Epoch:50/100 AVG Training Loss:0.294 AVG Validation Loss:0.548 AVG Training Acc 86.44 % AVG Validation Acc 76.18 %\n",
      "Epoch    57: reducing learning rate of group 0 to 3.3000e-04.\n",
      "Epoch:60/100 AVG Training Loss:0.254 AVG Validation Loss:0.578 AVG Training Acc 88.30 % AVG Validation Acc 74.56 %\n",
      "Epoch:70/100 AVG Training Loss:0.211 AVG Validation Loss:0.638 AVG Training Acc 90.13 % AVG Validation Acc 73.76 %\n",
      "Epoch:80/100 AVG Training Loss:0.182 AVG Validation Loss:0.689 AVG Training Acc 91.42 % AVG Validation Acc 73.08 %\n",
      "Epoch:90/100 AVG Training Loss:0.171 AVG Validation Loss:0.766 AVG Training Acc 91.83 % AVG Validation Acc 74.02 %\n",
      "Epoch    93: reducing learning rate of group 0 to 1.0890e-04.\n",
      "Epoch:100/100 AVG Training Loss:0.154 AVG Validation Loss:0.839 AVG Training Acc 92.61 % AVG Validation Acc 74.56 %\n",
      "Replica 19\n"
     ]
    },
    {
     "data": {
      "application/vnd.jupyter.widget-view+json": {
       "model_id": "9811b019002c420aa4f54b315f717df1",
       "version_major": 2,
       "version_minor": 0
      },
      "text/plain": [
       "0it [00:00, ?it/s]"
      ]
     },
     "metadata": {},
     "output_type": "display_data"
    },
    {
     "name": "stdout",
     "output_type": "stream",
     "text": [
      "Split 1\n"
     ]
    },
    {
     "data": {
      "application/vnd.jupyter.widget-view+json": {
       "model_id": "1491ee3895d4439d99e82fd1dcb29282",
       "version_major": 2,
       "version_minor": 0
      },
      "text/plain": [
       "  0%|          | 0/100 [00:00<?, ?it/s]"
      ]
     },
     "metadata": {},
     "output_type": "display_data"
    },
    {
     "name": "stdout",
     "output_type": "stream",
     "text": [
      "Epoch:10/100 AVG Training Loss:0.677 AVG Validation Loss:0.698 AVG Training Acc 58.73 % AVG Validation Acc 40.59 %\n",
      "Epoch:20/100 AVG Training Loss:0.790 AVG Validation Loss:0.600 AVG Training Acc 59.83 % AVG Validation Acc 59.81 %\n",
      "Epoch:30/100 AVG Training Loss:0.480 AVG Validation Loss:0.657 AVG Training Acc 80.63 % AVG Validation Acc 67.74 %\n",
      "Epoch    36: reducing learning rate of group 0 to 3.3000e-04.\n",
      "Epoch:40/100 AVG Training Loss:0.345 AVG Validation Loss:0.507 AVG Training Acc 84.69 % AVG Validation Acc 78.23 %\n",
      "Epoch:50/100 AVG Training Loss:0.325 AVG Validation Loss:0.516 AVG Training Acc 85.48 % AVG Validation Acc 78.49 %\n",
      "Epoch:60/100 AVG Training Loss:0.307 AVG Validation Loss:0.519 AVG Training Acc 85.88 % AVG Validation Acc 78.49 %\n",
      "Epoch:70/100 AVG Training Loss:0.285 AVG Validation Loss:0.543 AVG Training Acc 86.77 % AVG Validation Acc 77.42 %\n",
      "Epoch    72: reducing learning rate of group 0 to 1.0890e-04.\n",
      "Epoch:80/100 AVG Training Loss:0.266 AVG Validation Loss:0.538 AVG Training Acc 87.40 % AVG Validation Acc 78.90 %\n",
      "Epoch:90/100 AVG Training Loss:0.252 AVG Validation Loss:0.552 AVG Training Acc 87.68 % AVG Validation Acc 78.90 %\n",
      "Epoch:100/100 AVG Training Loss:0.240 AVG Validation Loss:0.567 AVG Training Acc 88.76 % AVG Validation Acc 78.36 %\n",
      "Split 2\n"
     ]
    },
    {
     "data": {
      "application/vnd.jupyter.widget-view+json": {
       "model_id": "39f84669bdac487fbfea7899de9883e1",
       "version_major": 2,
       "version_minor": 0
      },
      "text/plain": [
       "  0%|          | 0/100 [00:00<?, ?it/s]"
      ]
     },
     "metadata": {},
     "output_type": "display_data"
    },
    {
     "name": "stdout",
     "output_type": "stream",
     "text": [
      "Epoch:10/100 AVG Training Loss:0.688 AVG Validation Loss:0.688 AVG Training Acc 49.54 % AVG Validation Acc 44.22 %\n",
      "Epoch:20/100 AVG Training Loss:0.602 AVG Validation Loss:1.449 AVG Training Acc 61.39 % AVG Validation Acc 41.94 %\n",
      "Epoch    28: reducing learning rate of group 0 to 3.3000e-04.\n",
      "Epoch:30/100 AVG Training Loss:0.500 AVG Validation Loss:0.652 AVG Training Acc 78.50 % AVG Validation Acc 68.82 %\n",
      "Epoch:40/100 AVG Training Loss:0.399 AVG Validation Loss:0.589 AVG Training Acc 82.55 % AVG Validation Acc 72.72 %\n",
      "Epoch:50/100 AVG Training Loss:0.359 AVG Validation Loss:0.555 AVG Training Acc 83.92 % AVG Validation Acc 74.19 %\n",
      "Epoch:60/100 AVG Training Loss:0.342 AVG Validation Loss:0.551 AVG Training Acc 84.96 % AVG Validation Acc 75.27 %\n",
      "Epoch:70/100 AVG Training Loss:0.332 AVG Validation Loss:0.541 AVG Training Acc 85.36 % AVG Validation Acc 76.21 %\n",
      "Epoch:80/100 AVG Training Loss:0.322 AVG Validation Loss:0.546 AVG Training Acc 85.77 % AVG Validation Acc 76.34 %\n",
      "Epoch    89: reducing learning rate of group 0 to 1.0890e-04.\n",
      "Epoch:90/100 AVG Training Loss:0.325 AVG Validation Loss:0.519 AVG Training Acc 85.71 % AVG Validation Acc 77.28 %\n",
      "Epoch:100/100 AVG Training Loss:0.305 AVG Validation Loss:0.517 AVG Training Acc 86.18 % AVG Validation Acc 77.55 %\n",
      "Split 3\n"
     ]
    },
    {
     "data": {
      "application/vnd.jupyter.widget-view+json": {
       "model_id": "d40be9ce533540cc9dd1b6e2ba70f0d2",
       "version_major": 2,
       "version_minor": 0
      },
      "text/plain": [
       "  0%|          | 0/100 [00:00<?, ?it/s]"
      ]
     },
     "metadata": {},
     "output_type": "display_data"
    },
    {
     "name": "stdout",
     "output_type": "stream",
     "text": [
      "Epoch:10/100 AVG Training Loss:0.590 AVG Validation Loss:3.584 AVG Training Acc 62.34 % AVG Validation Acc 20.16 %\n",
      "Epoch:20/100 AVG Training Loss:0.705 AVG Validation Loss:0.696 AVG Training Acc 42.60 % AVG Validation Acc 40.46 %\n",
      "Epoch:30/100 AVG Training Loss:0.544 AVG Validation Loss:0.687 AVG Training Acc 76.57 % AVG Validation Acc 62.50 %\n",
      "Epoch:40/100 AVG Training Loss:0.390 AVG Validation Loss:0.620 AVG Training Acc 82.87 % AVG Validation Acc 73.39 %\n",
      "Epoch:50/100 AVG Training Loss:0.343 AVG Validation Loss:0.571 AVG Training Acc 85.09 % AVG Validation Acc 76.61 %\n",
      "Epoch:60/100 AVG Training Loss:0.326 AVG Validation Loss:0.561 AVG Training Acc 85.65 % AVG Validation Acc 76.48 %\n",
      "Epoch:70/100 AVG Training Loss:0.308 AVG Validation Loss:0.578 AVG Training Acc 86.45 % AVG Validation Acc 75.54 %\n",
      "Epoch:80/100 AVG Training Loss:0.288 AVG Validation Loss:0.571 AVG Training Acc 86.92 % AVG Validation Acc 75.00 %\n",
      "Epoch:90/100 AVG Training Loss:0.280 AVG Validation Loss:0.559 AVG Training Acc 87.12 % AVG Validation Acc 75.94 %\n",
      "Epoch:100/100 AVG Training Loss:0.236 AVG Validation Loss:0.676 AVG Training Acc 88.63 % AVG Validation Acc 69.49 %\n",
      "Split 4\n"
     ]
    },
    {
     "data": {
      "application/vnd.jupyter.widget-view+json": {
       "model_id": "810acf89cfee476386314c558cf94c8f",
       "version_major": 2,
       "version_minor": 0
      },
      "text/plain": [
       "  0%|          | 0/100 [00:00<?, ?it/s]"
      ]
     },
     "metadata": {},
     "output_type": "display_data"
    },
    {
     "name": "stdout",
     "output_type": "stream",
     "text": [
      "Epoch:10/100 AVG Training Loss:0.646 AVG Validation Loss:0.702 AVG Training Acc 64.61 % AVG Validation Acc 40.59 %\n",
      "Epoch:20/100 AVG Training Loss:0.535 AVG Validation Loss:0.771 AVG Training Acc 76.75 % AVG Validation Acc 56.85 %\n",
      "Epoch:30/100 AVG Training Loss:0.380 AVG Validation Loss:0.636 AVG Training Acc 83.09 % AVG Validation Acc 72.58 %\n",
      "Epoch:40/100 AVG Training Loss:0.352 AVG Validation Loss:0.567 AVG Training Acc 84.84 % AVG Validation Acc 75.00 %\n",
      "Epoch:50/100 AVG Training Loss:0.314 AVG Validation Loss:0.572 AVG Training Acc 85.87 % AVG Validation Acc 75.27 %\n",
      "Epoch:60/100 AVG Training Loss:0.276 AVG Validation Loss:0.586 AVG Training Acc 86.78 % AVG Validation Acc 72.72 %\n",
      "Epoch    63: reducing learning rate of group 0 to 3.3000e-04.\n",
      "Epoch:70/100 AVG Training Loss:0.231 AVG Validation Loss:0.588 AVG Training Acc 88.77 % AVG Validation Acc 74.73 %\n",
      "Epoch:80/100 AVG Training Loss:0.196 AVG Validation Loss:0.695 AVG Training Acc 90.29 % AVG Validation Acc 72.18 %\n",
      "Epoch:90/100 AVG Training Loss:0.165 AVG Validation Loss:0.827 AVG Training Acc 92.20 % AVG Validation Acc 69.09 %\n",
      "Epoch    99: reducing learning rate of group 0 to 1.0890e-04.\n",
      "Epoch:100/100 AVG Training Loss:0.146 AVG Validation Loss:0.975 AVG Training Acc 92.86 % AVG Validation Acc 73.39 %\n",
      "Split 5\n"
     ]
    },
    {
     "data": {
      "application/vnd.jupyter.widget-view+json": {
       "model_id": "ac595e5db7d344939574d467b8098abd",
       "version_major": 2,
       "version_minor": 0
      },
      "text/plain": [
       "  0%|          | 0/100 [00:00<?, ?it/s]"
      ]
     },
     "metadata": {},
     "output_type": "display_data"
    },
    {
     "name": "stdout",
     "output_type": "stream",
     "text": [
      "Epoch:10/100 AVG Training Loss:0.920 AVG Validation Loss:1.213 AVG Training Acc 57.71 % AVG Validation Acc 21.24 %\n",
      "Epoch:20/100 AVG Training Loss:0.551 AVG Validation Loss:0.723 AVG Training Acc 75.54 % AVG Validation Acc 56.72 %\n",
      "Epoch    23: reducing learning rate of group 0 to 3.3000e-04.\n",
      "Epoch:30/100 AVG Training Loss:0.392 AVG Validation Loss:0.547 AVG Training Acc 82.83 % AVG Validation Acc 76.21 %\n",
      "Epoch:40/100 AVG Training Loss:0.360 AVG Validation Loss:0.541 AVG Training Acc 83.93 % AVG Validation Acc 76.48 %\n",
      "Epoch:50/100 AVG Training Loss:0.345 AVG Validation Loss:0.549 AVG Training Acc 84.69 % AVG Validation Acc 76.61 %\n",
      "Epoch:60/100 AVG Training Loss:0.328 AVG Validation Loss:0.551 AVG Training Acc 85.50 % AVG Validation Acc 76.34 %\n",
      "Epoch    61: reducing learning rate of group 0 to 1.0890e-04.\n",
      "Epoch:70/100 AVG Training Loss:0.317 AVG Validation Loss:0.517 AVG Training Acc 85.79 % AVG Validation Acc 78.09 %\n",
      "Epoch:80/100 AVG Training Loss:0.311 AVG Validation Loss:0.521 AVG Training Acc 86.25 % AVG Validation Acc 77.82 %\n",
      "Epoch:90/100 AVG Training Loss:0.306 AVG Validation Loss:0.524 AVG Training Acc 86.19 % AVG Validation Acc 77.69 %\n",
      "Epoch    97: reducing learning rate of group 0 to 3.5937e-05.\n",
      "Epoch:100/100 AVG Training Loss:0.300 AVG Validation Loss:0.518 AVG Training Acc 86.78 % AVG Validation Acc 77.69 %\n",
      "Split 6\n"
     ]
    },
    {
     "data": {
      "application/vnd.jupyter.widget-view+json": {
       "model_id": "cad58ca1f3a24c33991728d8364a6141",
       "version_major": 2,
       "version_minor": 0
      },
      "text/plain": [
       "  0%|          | 0/100 [00:00<?, ?it/s]"
      ]
     },
     "metadata": {},
     "output_type": "display_data"
    },
    {
     "name": "stdout",
     "output_type": "stream",
     "text": [
      "Epoch:10/100 AVG Training Loss:0.692 AVG Validation Loss:0.714 AVG Training Acc 54.52 % AVG Validation Acc 27.69 %\n",
      "Epoch:20/100 AVG Training Loss:0.552 AVG Validation Loss:0.619 AVG Training Acc 76.61 % AVG Validation Acc 64.25 %\n",
      "Epoch:30/100 AVG Training Loss:0.412 AVG Validation Loss:0.828 AVG Training Acc 82.89 % AVG Validation Acc 65.46 %\n",
      "Epoch:40/100 AVG Training Loss:0.338 AVG Validation Loss:0.620 AVG Training Acc 85.44 % AVG Validation Acc 73.52 %\n",
      "Epoch    40: reducing learning rate of group 0 to 3.3000e-04.\n",
      "Epoch:50/100 AVG Training Loss:0.306 AVG Validation Loss:0.538 AVG Training Acc 86.44 % AVG Validation Acc 77.55 %\n",
      "Epoch:60/100 AVG Training Loss:0.286 AVG Validation Loss:0.562 AVG Training Acc 87.27 % AVG Validation Acc 76.34 %\n",
      "Epoch:70/100 AVG Training Loss:0.259 AVG Validation Loss:0.595 AVG Training Acc 88.15 % AVG Validation Acc 74.73 %\n",
      "Epoch    76: reducing learning rate of group 0 to 1.0890e-04.\n",
      "Epoch:80/100 AVG Training Loss:0.229 AVG Validation Loss:0.659 AVG Training Acc 89.35 % AVG Validation Acc 74.46 %\n",
      "Epoch:90/100 AVG Training Loss:0.213 AVG Validation Loss:0.718 AVG Training Acc 89.60 % AVG Validation Acc 74.33 %\n",
      "Epoch:100/100 AVG Training Loss:0.203 AVG Validation Loss:0.774 AVG Training Acc 90.15 % AVG Validation Acc 73.52 %\n",
      "Split 7\n"
     ]
    },
    {
     "data": {
      "application/vnd.jupyter.widget-view+json": {
       "model_id": "fede54782d3841478c297db2cc56a7ff",
       "version_major": 2,
       "version_minor": 0
      },
      "text/plain": [
       "  0%|          | 0/100 [00:00<?, ?it/s]"
      ]
     },
     "metadata": {},
     "output_type": "display_data"
    },
    {
     "name": "stdout",
     "output_type": "stream",
     "text": [
      "Epoch:10/100 AVG Training Loss:1.026 AVG Validation Loss:2.232 AVG Training Acc 57.98 % AVG Validation Acc 20.46 %\n",
      "Epoch:20/100 AVG Training Loss:0.706 AVG Validation Loss:0.734 AVG Training Acc 42.35 % AVG Validation Acc 27.19 %\n",
      "Epoch    24: reducing learning rate of group 0 to 3.3000e-04.\n",
      "Epoch:30/100 AVG Training Loss:0.660 AVG Validation Loss:0.668 AVG Training Acc 64.68 % AVG Validation Acc 59.22 %\n",
      "Epoch:40/100 AVG Training Loss:0.507 AVG Validation Loss:0.628 AVG Training Acc 77.97 % AVG Validation Acc 68.64 %\n",
      "Epoch:50/100 AVG Training Loss:0.397 AVG Validation Loss:0.614 AVG Training Acc 82.85 % AVG Validation Acc 71.47 %\n",
      "Epoch:60/100 AVG Training Loss:0.352 AVG Validation Loss:0.575 AVG Training Acc 84.85 % AVG Validation Acc 74.70 %\n",
      "Epoch:70/100 AVG Training Loss:0.337 AVG Validation Loss:0.578 AVG Training Acc 85.45 % AVG Validation Acc 74.70 %\n",
      "Epoch    75: reducing learning rate of group 0 to 1.0890e-04.\n",
      "Epoch:80/100 AVG Training Loss:0.324 AVG Validation Loss:0.528 AVG Training Acc 85.85 % AVG Validation Acc 76.85 %\n",
      "Epoch:90/100 AVG Training Loss:0.320 AVG Validation Loss:0.541 AVG Training Acc 85.96 % AVG Validation Acc 76.72 %\n",
      "Epoch:100/100 AVG Training Loss:0.318 AVG Validation Loss:0.545 AVG Training Acc 86.18 % AVG Validation Acc 76.18 %\n",
      "Split 8\n"
     ]
    },
    {
     "data": {
      "application/vnd.jupyter.widget-view+json": {
       "model_id": "8c007449088e4c3fa93dd39714e1058d",
       "version_major": 2,
       "version_minor": 0
      },
      "text/plain": [
       "  0%|          | 0/100 [00:00<?, ?it/s]"
      ]
     },
     "metadata": {},
     "output_type": "display_data"
    },
    {
     "name": "stdout",
     "output_type": "stream",
     "text": [
      "Epoch:10/100 AVG Training Loss:0.649 AVG Validation Loss:0.669 AVG Training Acc 63.07 % AVG Validation Acc 49.80 %\n",
      "Epoch:20/100 AVG Training Loss:0.509 AVG Validation Loss:0.575 AVG Training Acc 79.20 % AVG Validation Acc 72.68 %\n",
      "Epoch:30/100 AVG Training Loss:0.364 AVG Validation Loss:0.589 AVG Training Acc 84.10 % AVG Validation Acc 75.77 %\n",
      "Epoch:40/100 AVG Training Loss:0.328 AVG Validation Loss:0.555 AVG Training Acc 85.63 % AVG Validation Acc 75.77 %\n",
      "Epoch:50/100 AVG Training Loss:0.289 AVG Validation Loss:0.585 AVG Training Acc 86.93 % AVG Validation Acc 71.60 %\n",
      "Epoch    55: reducing learning rate of group 0 to 3.3000e-04.\n",
      "Epoch:60/100 AVG Training Loss:0.246 AVG Validation Loss:0.536 AVG Training Acc 88.48 % AVG Validation Acc 73.49 %\n",
      "Epoch:70/100 AVG Training Loss:0.210 AVG Validation Loss:0.599 AVG Training Acc 89.83 % AVG Validation Acc 72.14 %\n",
      "Epoch:80/100 AVG Training Loss:0.184 AVG Validation Loss:0.641 AVG Training Acc 91.32 % AVG Validation Acc 73.08 %\n",
      "Epoch:90/100 AVG Training Loss:0.165 AVG Validation Loss:0.692 AVG Training Acc 92.33 % AVG Validation Acc 72.95 %\n",
      "Epoch    91: reducing learning rate of group 0 to 1.0890e-04.\n",
      "Epoch:100/100 AVG Training Loss:0.142 AVG Validation Loss:0.798 AVG Training Acc 93.26 % AVG Validation Acc 72.95 %\n",
      "Split 9\n"
     ]
    },
    {
     "data": {
      "application/vnd.jupyter.widget-view+json": {
       "model_id": "30f30a230d704f99aebf2db2cd8682e9",
       "version_major": 2,
       "version_minor": 0
      },
      "text/plain": [
       "  0%|          | 0/100 [00:00<?, ?it/s]"
      ]
     },
     "metadata": {},
     "output_type": "display_data"
    },
    {
     "name": "stdout",
     "output_type": "stream",
     "text": [
      "Epoch:10/100 AVG Training Loss:0.726 AVG Validation Loss:0.686 AVG Training Acc 56.39 % AVG Validation Acc 43.61 %\n",
      "Epoch:20/100 AVG Training Loss:0.533 AVG Validation Loss:0.752 AVG Training Acc 78.05 % AVG Validation Acc 62.85 %\n",
      "Epoch:30/100 AVG Training Loss:0.358 AVG Validation Loss:0.574 AVG Training Acc 84.36 % AVG Validation Acc 76.45 %\n",
      "Epoch:40/100 AVG Training Loss:0.319 AVG Validation Loss:0.570 AVG Training Acc 85.19 % AVG Validation Acc 74.97 %\n",
      "Epoch:50/100 AVG Training Loss:0.275 AVG Validation Loss:0.562 AVG Training Acc 87.08 % AVG Validation Acc 73.62 %\n",
      "Epoch    54: reducing learning rate of group 0 to 3.3000e-04.\n",
      "Epoch:60/100 AVG Training Loss:0.239 AVG Validation Loss:0.580 AVG Training Acc 88.76 % AVG Validation Acc 76.99 %\n",
      "Epoch:70/100 AVG Training Loss:0.207 AVG Validation Loss:0.716 AVG Training Acc 90.59 % AVG Validation Acc 73.89 %\n",
      "Epoch:80/100 AVG Training Loss:0.184 AVG Validation Loss:0.816 AVG Training Acc 91.38 % AVG Validation Acc 73.62 %\n",
      "Epoch:90/100 AVG Training Loss:0.161 AVG Validation Loss:0.845 AVG Training Acc 92.62 % AVG Validation Acc 74.29 %\n",
      "Epoch    90: reducing learning rate of group 0 to 1.0890e-04.\n",
      "Epoch:100/100 AVG Training Loss:0.150 AVG Validation Loss:0.846 AVG Training Acc 93.08 % AVG Validation Acc 73.08 %\n",
      "Split 10\n"
     ]
    },
    {
     "data": {
      "application/vnd.jupyter.widget-view+json": {
       "model_id": "073652c87bef4fb699d294f23d282b7f",
       "version_major": 2,
       "version_minor": 0
      },
      "text/plain": [
       "  0%|          | 0/100 [00:00<?, ?it/s]"
      ]
     },
     "metadata": {},
     "output_type": "display_data"
    },
    {
     "name": "stdout",
     "output_type": "stream",
     "text": [
      "Epoch:10/100 AVG Training Loss:0.651 AVG Validation Loss:1.336 AVG Training Acc 63.55 % AVG Validation Acc 20.19 %\n",
      "Epoch:20/100 AVG Training Loss:0.507 AVG Validation Loss:0.789 AVG Training Acc 78.92 % AVG Validation Acc 61.24 %\n",
      "Epoch:30/100 AVG Training Loss:0.368 AVG Validation Loss:0.594 AVG Training Acc 84.07 % AVG Validation Acc 73.49 %\n",
      "Epoch:40/100 AVG Training Loss:0.317 AVG Validation Loss:0.568 AVG Training Acc 85.57 % AVG Validation Acc 76.45 %\n",
      "Epoch:50/100 AVG Training Loss:0.278 AVG Validation Loss:0.581 AVG Training Acc 86.98 % AVG Validation Acc 75.64 %\n",
      "Epoch    53: reducing learning rate of group 0 to 3.3000e-04.\n",
      "Epoch:60/100 AVG Training Loss:0.232 AVG Validation Loss:0.642 AVG Training Acc 89.16 % AVG Validation Acc 75.91 %\n",
      "Epoch:70/100 AVG Training Loss:0.202 AVG Validation Loss:0.784 AVG Training Acc 90.39 % AVG Validation Acc 74.97 %\n",
      "Epoch:80/100 AVG Training Loss:0.187 AVG Validation Loss:0.764 AVG Training Acc 90.96 % AVG Validation Acc 75.77 %\n",
      "Epoch    89: reducing learning rate of group 0 to 1.0890e-04.\n",
      "Epoch:90/100 AVG Training Loss:0.161 AVG Validation Loss:0.839 AVG Training Acc 92.39 % AVG Validation Acc 74.83 %\n",
      "Epoch:100/100 AVG Training Loss:0.146 AVG Validation Loss:0.915 AVG Training Acc 92.93 % AVG Validation Acc 74.70 %\n",
      "Replica 20\n"
     ]
    },
    {
     "data": {
      "application/vnd.jupyter.widget-view+json": {
       "model_id": "4a7db1ea091a44d9b022a5b7b8d17769",
       "version_major": 2,
       "version_minor": 0
      },
      "text/plain": [
       "0it [00:00, ?it/s]"
      ]
     },
     "metadata": {},
     "output_type": "display_data"
    },
    {
     "name": "stdout",
     "output_type": "stream",
     "text": [
      "Split 1\n"
     ]
    },
    {
     "data": {
      "application/vnd.jupyter.widget-view+json": {
       "model_id": "2f7703907cd0435890e64800d7701cb0",
       "version_major": 2,
       "version_minor": 0
      },
      "text/plain": [
       "  0%|          | 0/100 [00:00<?, ?it/s]"
      ]
     },
     "metadata": {},
     "output_type": "display_data"
    },
    {
     "name": "stdout",
     "output_type": "stream",
     "text": [
      "Epoch:10/100 AVG Training Loss:0.656 AVG Validation Loss:0.685 AVG Training Acc 61.11 % AVG Validation Acc 44.89 %\n",
      "Epoch:20/100 AVG Training Loss:0.738 AVG Validation Loss:0.880 AVG Training Acc 67.84 % AVG Validation Acc 52.69 %\n",
      "Epoch:30/100 AVG Training Loss:0.367 AVG Validation Loss:0.560 AVG Training Acc 83.99 % AVG Validation Acc 75.00 %\n",
      "Epoch:40/100 AVG Training Loss:0.319 AVG Validation Loss:0.568 AVG Training Acc 85.67 % AVG Validation Acc 75.81 %\n",
      "Epoch:50/100 AVG Training Loss:0.281 AVG Validation Loss:0.596 AVG Training Acc 86.90 % AVG Validation Acc 75.00 %\n",
      "Epoch    51: reducing learning rate of group 0 to 3.3000e-04.\n",
      "Epoch:60/100 AVG Training Loss:0.245 AVG Validation Loss:0.615 AVG Training Acc 88.55 % AVG Validation Acc 75.27 %\n",
      "Epoch:70/100 AVG Training Loss:0.212 AVG Validation Loss:0.709 AVG Training Acc 90.29 % AVG Validation Acc 72.98 %\n",
      "Epoch:80/100 AVG Training Loss:0.183 AVG Validation Loss:0.762 AVG Training Acc 91.53 % AVG Validation Acc 72.45 %\n",
      "Epoch    87: reducing learning rate of group 0 to 1.0890e-04.\n",
      "Epoch:90/100 AVG Training Loss:0.163 AVG Validation Loss:0.813 AVG Training Acc 92.39 % AVG Validation Acc 74.60 %\n",
      "Epoch:100/100 AVG Training Loss:0.148 AVG Validation Loss:0.868 AVG Training Acc 92.99 % AVG Validation Acc 74.60 %\n",
      "Split 2\n"
     ]
    },
    {
     "data": {
      "application/vnd.jupyter.widget-view+json": {
       "model_id": "b8db8fcd956e4369b1b366507c974a4b",
       "version_major": 2,
       "version_minor": 0
      },
      "text/plain": [
       "  0%|          | 0/100 [00:00<?, ?it/s]"
      ]
     },
     "metadata": {},
     "output_type": "display_data"
    },
    {
     "name": "stdout",
     "output_type": "stream",
     "text": [
      "Epoch:10/100 AVG Training Loss:0.848 AVG Validation Loss:0.760 AVG Training Acc 35.73 % AVG Validation Acc 20.97 %\n",
      "Epoch:20/100 AVG Training Loss:0.633 AVG Validation Loss:0.806 AVG Training Acc 75.15 % AVG Validation Acc 49.46 %\n",
      "Epoch:30/100 AVG Training Loss:0.417 AVG Validation Loss:0.562 AVG Training Acc 82.47 % AVG Validation Acc 72.45 %\n",
      "Epoch:40/100 AVG Training Loss:0.346 AVG Validation Loss:0.546 AVG Training Acc 84.85 % AVG Validation Acc 75.54 %\n",
      "Epoch:50/100 AVG Training Loss:0.314 AVG Validation Loss:0.563 AVG Training Acc 86.01 % AVG Validation Acc 76.34 %\n",
      "Epoch:60/100 AVG Training Loss:0.286 AVG Validation Loss:0.557 AVG Training Acc 86.73 % AVG Validation Acc 75.40 %\n",
      "Epoch:70/100 AVG Training Loss:0.237 AVG Validation Loss:0.622 AVG Training Acc 88.19 % AVG Validation Acc 72.18 %\n",
      "Epoch    71: reducing learning rate of group 0 to 3.3000e-04.\n",
      "Epoch:80/100 AVG Training Loss:0.194 AVG Validation Loss:0.758 AVG Training Acc 90.48 % AVG Validation Acc 75.27 %\n",
      "Epoch:90/100 AVG Training Loss:0.160 AVG Validation Loss:0.860 AVG Training Acc 92.37 % AVG Validation Acc 74.87 %\n",
      "Epoch:100/100 AVG Training Loss:0.136 AVG Validation Loss:0.965 AVG Training Acc 93.69 % AVG Validation Acc 74.87 %\n",
      "Split 3\n"
     ]
    },
    {
     "data": {
      "application/vnd.jupyter.widget-view+json": {
       "model_id": "b81a447f42224aa8bfbb1747dd301061",
       "version_major": 2,
       "version_minor": 0
      },
      "text/plain": [
       "  0%|          | 0/100 [00:00<?, ?it/s]"
      ]
     },
     "metadata": {},
     "output_type": "display_data"
    },
    {
     "name": "stdout",
     "output_type": "stream",
     "text": [
      "Epoch:10/100 AVG Training Loss:0.729 AVG Validation Loss:0.730 AVG Training Acc 43.41 % AVG Validation Acc 28.36 %\n",
      "Epoch:20/100 AVG Training Loss:0.550 AVG Validation Loss:0.674 AVG Training Acc 75.98 % AVG Validation Acc 61.02 %\n",
      "Epoch:30/100 AVG Training Loss:0.384 AVG Validation Loss:0.629 AVG Training Acc 83.11 % AVG Validation Acc 72.85 %\n",
      "Epoch:40/100 AVG Training Loss:0.334 AVG Validation Loss:0.571 AVG Training Acc 85.43 % AVG Validation Acc 75.94 %\n",
      "Epoch:50/100 AVG Training Loss:0.311 AVG Validation Loss:0.628 AVG Training Acc 86.29 % AVG Validation Acc 75.00 %\n",
      "Epoch:60/100 AVG Training Loss:0.261 AVG Validation Loss:0.591 AVG Training Acc 87.63 % AVG Validation Acc 74.73 %\n",
      "Epoch    67: reducing learning rate of group 0 to 3.3000e-04.\n",
      "Epoch:70/100 AVG Training Loss:0.216 AVG Validation Loss:0.622 AVG Training Acc 89.63 % AVG Validation Acc 76.34 %\n",
      "Epoch:80/100 AVG Training Loss:0.175 AVG Validation Loss:0.720 AVG Training Acc 91.43 % AVG Validation Acc 74.46 %\n",
      "Epoch:90/100 AVG Training Loss:0.138 AVG Validation Loss:0.845 AVG Training Acc 93.59 % AVG Validation Acc 72.18 %\n",
      "Epoch:100/100 AVG Training Loss:0.122 AVG Validation Loss:0.945 AVG Training Acc 94.65 % AVG Validation Acc 73.52 %\n",
      "Split 4\n"
     ]
    },
    {
     "data": {
      "application/vnd.jupyter.widget-view+json": {
       "model_id": "232716440acc45d0b4971583957bf17f",
       "version_major": 2,
       "version_minor": 0
      },
      "text/plain": [
       "  0%|          | 0/100 [00:00<?, ?it/s]"
      ]
     },
     "metadata": {},
     "output_type": "display_data"
    },
    {
     "name": "stdout",
     "output_type": "stream",
     "text": [
      "Epoch:10/100 AVG Training Loss:0.892 AVG Validation Loss:0.848 AVG Training Acc 41.95 % AVG Validation Acc 20.16 %\n",
      "Epoch:20/100 AVG Training Loss:0.578 AVG Validation Loss:0.636 AVG Training Acc 74.66 % AVG Validation Acc 61.29 %\n",
      "Epoch:30/100 AVG Training Loss:0.457 AVG Validation Loss:0.745 AVG Training Acc 81.03 % AVG Validation Acc 65.59 %\n",
      "Epoch:40/100 AVG Training Loss:0.348 AVG Validation Loss:0.577 AVG Training Acc 85.00 % AVG Validation Acc 75.81 %\n",
      "Epoch:50/100 AVG Training Loss:0.315 AVG Validation Loss:0.556 AVG Training Acc 86.16 % AVG Validation Acc 75.54 %\n",
      "Epoch:60/100 AVG Training Loss:0.285 AVG Validation Loss:0.574 AVG Training Acc 86.51 % AVG Validation Acc 75.40 %\n",
      "Epoch:70/100 AVG Training Loss:0.250 AVG Validation Loss:0.600 AVG Training Acc 88.02 % AVG Validation Acc 74.19 %\n",
      "Epoch    74: reducing learning rate of group 0 to 3.3000e-04.\n",
      "Epoch:80/100 AVG Training Loss:0.199 AVG Validation Loss:0.694 AVG Training Acc 90.39 % AVG Validation Acc 74.60 %\n",
      "Epoch:90/100 AVG Training Loss:0.172 AVG Validation Loss:0.825 AVG Training Acc 91.61 % AVG Validation Acc 73.52 %\n",
      "Epoch:100/100 AVG Training Loss:0.151 AVG Validation Loss:0.977 AVG Training Acc 92.61 % AVG Validation Acc 74.60 %\n",
      "Split 5\n"
     ]
    },
    {
     "data": {
      "application/vnd.jupyter.widget-view+json": {
       "model_id": "8ed7a299920e4ae59f2bb970a2db588d",
       "version_major": 2,
       "version_minor": 0
      },
      "text/plain": [
       "  0%|          | 0/100 [00:00<?, ?it/s]"
      ]
     },
     "metadata": {},
     "output_type": "display_data"
    },
    {
     "name": "stdout",
     "output_type": "stream",
     "text": [
      "Epoch:10/100 AVG Training Loss:0.662 AVG Validation Loss:0.787 AVG Training Acc 63.69 % AVG Validation Acc 20.43 %\n",
      "Epoch:20/100 AVG Training Loss:0.491 AVG Validation Loss:1.170 AVG Training Acc 79.18 % AVG Validation Acc 52.69 %\n",
      "Epoch:30/100 AVG Training Loss:0.372 AVG Validation Loss:0.568 AVG Training Acc 83.75 % AVG Validation Acc 75.54 %\n",
      "Epoch:40/100 AVG Training Loss:0.319 AVG Validation Loss:0.579 AVG Training Acc 85.65 % AVG Validation Acc 75.13 %\n",
      "Epoch    47: reducing learning rate of group 0 to 3.3000e-04.\n",
      "Epoch:50/100 AVG Training Loss:0.279 AVG Validation Loss:0.550 AVG Training Acc 87.22 % AVG Validation Acc 75.27 %\n",
      "Epoch:60/100 AVG Training Loss:0.252 AVG Validation Loss:0.612 AVG Training Acc 88.38 % AVG Validation Acc 70.97 %\n",
      "Epoch:70/100 AVG Training Loss:0.226 AVG Validation Loss:0.728 AVG Training Acc 89.59 % AVG Validation Acc 69.09 %\n",
      "Epoch:80/100 AVG Training Loss:0.204 AVG Validation Loss:0.751 AVG Training Acc 90.42 % AVG Validation Acc 69.35 %\n",
      "Epoch    83: reducing learning rate of group 0 to 1.0890e-04.\n",
      "Epoch:90/100 AVG Training Loss:0.183 AVG Validation Loss:0.781 AVG Training Acc 91.32 % AVG Validation Acc 69.35 %\n",
      "Epoch:100/100 AVG Training Loss:0.172 AVG Validation Loss:0.841 AVG Training Acc 91.70 % AVG Validation Acc 69.22 %\n",
      "Split 6\n"
     ]
    },
    {
     "data": {
      "application/vnd.jupyter.widget-view+json": {
       "model_id": "317d4d726abb4a22ad7c2cd2b2271e29",
       "version_major": 2,
       "version_minor": 0
      },
      "text/plain": [
       "  0%|          | 0/100 [00:00<?, ?it/s]"
      ]
     },
     "metadata": {},
     "output_type": "display_data"
    },
    {
     "name": "stdout",
     "output_type": "stream",
     "text": [
      "Epoch:10/100 AVG Training Loss:0.625 AVG Validation Loss:0.650 AVG Training Acc 67.84 % AVG Validation Acc 52.15 %\n",
      "Epoch:20/100 AVG Training Loss:0.530 AVG Validation Loss:0.673 AVG Training Acc 79.43 % AVG Validation Acc 65.05 %\n",
      "Epoch:30/100 AVG Training Loss:0.351 AVG Validation Loss:0.654 AVG Training Acc 84.72 % AVG Validation Acc 72.18 %\n",
      "Epoch    39: reducing learning rate of group 0 to 3.3000e-04.\n",
      "Epoch:40/100 AVG Training Loss:0.322 AVG Validation Loss:0.545 AVG Training Acc 85.56 % AVG Validation Acc 75.54 %\n",
      "Epoch:50/100 AVG Training Loss:0.282 AVG Validation Loss:0.593 AVG Training Acc 87.54 % AVG Validation Acc 72.31 %\n",
      "Epoch:60/100 AVG Training Loss:0.255 AVG Validation Loss:0.622 AVG Training Acc 88.54 % AVG Validation Acc 72.45 %\n",
      "Epoch:70/100 AVG Training Loss:0.233 AVG Validation Loss:0.708 AVG Training Acc 89.35 % AVG Validation Acc 70.83 %\n",
      "Epoch    75: reducing learning rate of group 0 to 1.0890e-04.\n",
      "Epoch:80/100 AVG Training Loss:0.218 AVG Validation Loss:0.602 AVG Training Acc 89.90 % AVG Validation Acc 74.87 %\n",
      "Epoch:90/100 AVG Training Loss:0.205 AVG Validation Loss:0.623 AVG Training Acc 90.60 % AVG Validation Acc 75.13 %\n",
      "Epoch:100/100 AVG Training Loss:0.196 AVG Validation Loss:0.652 AVG Training Acc 91.11 % AVG Validation Acc 74.73 %\n",
      "Split 7\n"
     ]
    },
    {
     "data": {
      "application/vnd.jupyter.widget-view+json": {
       "model_id": "f75fa9816a824242a56084bd6e9cebbd",
       "version_major": 2,
       "version_minor": 0
      },
      "text/plain": [
       "  0%|          | 0/100 [00:00<?, ?it/s]"
      ]
     },
     "metadata": {},
     "output_type": "display_data"
    },
    {
     "name": "stdout",
     "output_type": "stream",
     "text": [
      "Epoch:10/100 AVG Training Loss:0.839 AVG Validation Loss:0.765 AVG Training Acc 41.93 % AVG Validation Acc 21.27 %\n",
      "Epoch:20/100 AVG Training Loss:0.582 AVG Validation Loss:1.043 AVG Training Acc 75.88 % AVG Validation Acc 44.01 %\n",
      "Epoch:30/100 AVG Training Loss:0.403 AVG Validation Loss:0.768 AVG Training Acc 83.37 % AVG Validation Acc 68.24 %\n",
      "Epoch    34: reducing learning rate of group 0 to 3.3000e-04.\n",
      "Epoch:40/100 AVG Training Loss:0.333 AVG Validation Loss:0.536 AVG Training Acc 85.43 % AVG Validation Acc 76.99 %\n",
      "Epoch:50/100 AVG Training Loss:0.317 AVG Validation Loss:0.541 AVG Training Acc 85.81 % AVG Validation Acc 77.25 %\n",
      "Epoch:60/100 AVG Training Loss:0.298 AVG Validation Loss:0.543 AVG Training Acc 86.11 % AVG Validation Acc 79.00 %\n",
      "Epoch:70/100 AVG Training Loss:0.273 AVG Validation Loss:0.594 AVG Training Acc 87.27 % AVG Validation Acc 75.37 %\n",
      "Epoch    70: reducing learning rate of group 0 to 1.0890e-04.\n",
      "Epoch:80/100 AVG Training Loss:0.255 AVG Validation Loss:0.559 AVG Training Acc 87.98 % AVG Validation Acc 76.31 %\n",
      "Epoch:90/100 AVG Training Loss:0.245 AVG Validation Loss:0.582 AVG Training Acc 88.33 % AVG Validation Acc 75.50 %\n",
      "Epoch:100/100 AVG Training Loss:0.232 AVG Validation Loss:0.605 AVG Training Acc 89.05 % AVG Validation Acc 74.97 %\n",
      "Split 8\n"
     ]
    },
    {
     "data": {
      "application/vnd.jupyter.widget-view+json": {
       "model_id": "16cb2f1980dc4475bb3cd3496c6f9094",
       "version_major": 2,
       "version_minor": 0
      },
      "text/plain": [
       "  0%|          | 0/100 [00:00<?, ?it/s]"
      ]
     },
     "metadata": {},
     "output_type": "display_data"
    },
    {
     "name": "stdout",
     "output_type": "stream",
     "text": [
      "Epoch:10/100 AVG Training Loss:0.682 AVG Validation Loss:0.660 AVG Training Acc 54.64 % AVG Validation Acc 48.32 %\n",
      "Epoch:20/100 AVG Training Loss:0.565 AVG Validation Loss:0.865 AVG Training Acc 72.76 % AVG Validation Acc 59.08 %\n",
      "Epoch:30/100 AVG Training Loss:0.462 AVG Validation Loss:0.767 AVG Training Acc 80.08 % AVG Validation Acc 65.68 %\n",
      "Epoch:40/100 AVG Training Loss:0.392 AVG Validation Loss:0.731 AVG Training Acc 83.17 % AVG Validation Acc 72.81 %\n",
      "Epoch    45: reducing learning rate of group 0 to 3.3000e-04.\n",
      "Epoch:50/100 AVG Training Loss:0.333 AVG Validation Loss:0.494 AVG Training Acc 85.60 % AVG Validation Acc 77.52 %\n",
      "Epoch:60/100 AVG Training Loss:0.316 AVG Validation Loss:0.497 AVG Training Acc 86.14 % AVG Validation Acc 77.25 %\n",
      "Epoch:70/100 AVG Training Loss:0.302 AVG Validation Loss:0.506 AVG Training Acc 86.64 % AVG Validation Acc 77.39 %\n",
      "Epoch:80/100 AVG Training Loss:0.287 AVG Validation Loss:0.506 AVG Training Acc 87.03 % AVG Validation Acc 76.99 %\n",
      "Epoch    81: reducing learning rate of group 0 to 1.0890e-04.\n",
      "Epoch:90/100 AVG Training Loss:0.276 AVG Validation Loss:0.486 AVG Training Acc 87.22 % AVG Validation Acc 77.39 %\n",
      "Epoch:100/100 AVG Training Loss:0.267 AVG Validation Loss:0.491 AVG Training Acc 87.62 % AVG Validation Acc 76.58 %\n",
      "Split 9\n"
     ]
    },
    {
     "data": {
      "application/vnd.jupyter.widget-view+json": {
       "model_id": "9a819b9ec8954403838029981af63163",
       "version_major": 2,
       "version_minor": 0
      },
      "text/plain": [
       "  0%|          | 0/100 [00:00<?, ?it/s]"
      ]
     },
     "metadata": {},
     "output_type": "display_data"
    },
    {
     "name": "stdout",
     "output_type": "stream",
     "text": [
      "Epoch:10/100 AVG Training Loss:0.679 AVG Validation Loss:0.667 AVG Training Acc 54.56 % AVG Validation Acc 47.78 %\n",
      "Epoch:20/100 AVG Training Loss:0.540 AVG Validation Loss:0.789 AVG Training Acc 77.32 % AVG Validation Acc 52.36 %\n",
      "Epoch:30/100 AVG Training Loss:0.386 AVG Validation Loss:0.677 AVG Training Acc 83.70 % AVG Validation Acc 72.81 %\n",
      "Epoch:40/100 AVG Training Loss:0.333 AVG Validation Loss:0.577 AVG Training Acc 85.66 % AVG Validation Acc 76.18 %\n",
      "Epoch:50/100 AVG Training Loss:0.303 AVG Validation Loss:0.544 AVG Training Acc 86.30 % AVG Validation Acc 77.52 %\n",
      "Epoch:60/100 AVG Training Loss:0.262 AVG Validation Loss:0.567 AVG Training Acc 87.70 % AVG Validation Acc 76.31 %\n",
      "Epoch    66: reducing learning rate of group 0 to 3.3000e-04.\n",
      "Epoch:70/100 AVG Training Loss:0.222 AVG Validation Loss:0.565 AVG Training Acc 89.57 % AVG Validation Acc 76.99 %\n",
      "Epoch:80/100 AVG Training Loss:0.188 AVG Validation Loss:0.654 AVG Training Acc 90.81 % AVG Validation Acc 75.24 %\n",
      "Epoch:90/100 AVG Training Loss:0.148 AVG Validation Loss:0.856 AVG Training Acc 92.85 % AVG Validation Acc 74.70 %\n",
      "Epoch:100/100 AVG Training Loss:0.123 AVG Validation Loss:0.956 AVG Training Acc 94.17 % AVG Validation Acc 75.91 %\n",
      "Split 10\n"
     ]
    },
    {
     "data": {
      "application/vnd.jupyter.widget-view+json": {
       "model_id": "2555961430da47c98efbf75dfa6bf1cd",
       "version_major": 2,
       "version_minor": 0
      },
      "text/plain": [
       "  0%|          | 0/100 [00:00<?, ?it/s]"
      ]
     },
     "metadata": {},
     "output_type": "display_data"
    },
    {
     "name": "stdout",
     "output_type": "stream",
     "text": [
      "Epoch:10/100 AVG Training Loss:0.946 AVG Validation Loss:0.735 AVG Training Acc 48.25 % AVG Validation Acc 26.78 %\n",
      "Epoch:20/100 AVG Training Loss:0.549 AVG Validation Loss:0.994 AVG Training Acc 72.74 % AVG Validation Acc 53.16 %\n",
      "Epoch:30/100 AVG Training Loss:0.520 AVG Validation Loss:0.751 AVG Training Acc 77.71 % AVG Validation Acc 66.76 %\n",
      "Epoch    33: reducing learning rate of group 0 to 3.3000e-04.\n",
      "Epoch:40/100 AVG Training Loss:0.378 AVG Validation Loss:0.588 AVG Training Acc 83.60 % AVG Validation Acc 73.49 %\n",
      "Epoch:50/100 AVG Training Loss:0.344 AVG Validation Loss:0.553 AVG Training Acc 84.80 % AVG Validation Acc 75.10 %\n",
      "Epoch:60/100 AVG Training Loss:0.326 AVG Validation Loss:0.542 AVG Training Acc 85.63 % AVG Validation Acc 76.31 %\n",
      "Epoch:70/100 AVG Training Loss:0.313 AVG Validation Loss:0.546 AVG Training Acc 86.09 % AVG Validation Acc 76.45 %\n",
      "Epoch:80/100 AVG Training Loss:0.296 AVG Validation Loss:0.567 AVG Training Acc 86.39 % AVG Validation Acc 75.77 %\n",
      "Epoch    83: reducing learning rate of group 0 to 1.0890e-04.\n",
      "Epoch:90/100 AVG Training Loss:0.287 AVG Validation Loss:0.529 AVG Training Acc 86.68 % AVG Validation Acc 78.20 %\n",
      "Epoch:100/100 AVG Training Loss:0.277 AVG Validation Loss:0.536 AVG Training Acc 87.22 % AVG Validation Acc 77.93 %\n",
      "Replica 21\n"
     ]
    },
    {
     "data": {
      "application/vnd.jupyter.widget-view+json": {
       "model_id": "37aab5e8b0a3406d91b8649c5d1b7f09",
       "version_major": 2,
       "version_minor": 0
      },
      "text/plain": [
       "0it [00:00, ?it/s]"
      ]
     },
     "metadata": {},
     "output_type": "display_data"
    },
    {
     "name": "stdout",
     "output_type": "stream",
     "text": [
      "Split 1\n"
     ]
    },
    {
     "data": {
      "application/vnd.jupyter.widget-view+json": {
       "model_id": "53cbf0eb3907415982fcbb7542da678f",
       "version_major": 2,
       "version_minor": 0
      },
      "text/plain": [
       "  0%|          | 0/100 [00:00<?, ?it/s]"
      ]
     },
     "metadata": {},
     "output_type": "display_data"
    },
    {
     "name": "stdout",
     "output_type": "stream",
     "text": [
      "Epoch:10/100 AVG Training Loss:0.972 AVG Validation Loss:0.905 AVG Training Acc 46.74 % AVG Validation Acc 20.16 %\n",
      "Epoch:20/100 AVG Training Loss:0.675 AVG Validation Loss:0.695 AVG Training Acc 65.72 % AVG Validation Acc 53.09 %\n",
      "Epoch:30/100 AVG Training Loss:0.472 AVG Validation Loss:1.623 AVG Training Acc 78.06 % AVG Validation Acc 44.35 %\n",
      "Epoch:40/100 AVG Training Loss:0.369 AVG Validation Loss:0.579 AVG Training Acc 83.59 % AVG Validation Acc 75.27 %\n",
      "Epoch:50/100 AVG Training Loss:0.338 AVG Validation Loss:0.562 AVG Training Acc 85.02 % AVG Validation Acc 76.88 %\n",
      "Epoch:60/100 AVG Training Loss:0.305 AVG Validation Loss:0.549 AVG Training Acc 86.18 % AVG Validation Acc 77.28 %\n",
      "Epoch:70/100 AVG Training Loss:0.276 AVG Validation Loss:0.759 AVG Training Acc 87.35 % AVG Validation Acc 74.06 %\n",
      "Epoch:80/100 AVG Training Loss:0.232 AVG Validation Loss:0.669 AVG Training Acc 88.73 % AVG Validation Acc 72.72 %\n",
      "Epoch    81: reducing learning rate of group 0 to 3.3000e-04.\n",
      "Epoch:90/100 AVG Training Loss:0.193 AVG Validation Loss:0.694 AVG Training Acc 91.01 % AVG Validation Acc 77.15 %\n",
      "Epoch:100/100 AVG Training Loss:0.160 AVG Validation Loss:0.843 AVG Training Acc 92.33 % AVG Validation Acc 74.33 %\n",
      "Split 2\n"
     ]
    },
    {
     "data": {
      "application/vnd.jupyter.widget-view+json": {
       "model_id": "456c4ac1842a4698ab142e1a8ec2c0bb",
       "version_major": 2,
       "version_minor": 0
      },
      "text/plain": [
       "  0%|          | 0/100 [00:00<?, ?it/s]"
      ]
     },
     "metadata": {},
     "output_type": "display_data"
    },
    {
     "name": "stdout",
     "output_type": "stream",
     "text": [
      "Epoch:10/100 AVG Training Loss:0.652 AVG Validation Loss:1.807 AVG Training Acc 64.45 % AVG Validation Acc 20.16 %\n",
      "Epoch:20/100 AVG Training Loss:0.582 AVG Validation Loss:0.673 AVG Training Acc 73.84 % AVG Validation Acc 55.65 %\n",
      "Epoch:30/100 AVG Training Loss:0.435 AVG Validation Loss:0.993 AVG Training Acc 81.62 % AVG Validation Acc 57.53 %\n",
      "Epoch:40/100 AVG Training Loss:0.347 AVG Validation Loss:0.556 AVG Training Acc 84.82 % AVG Validation Acc 75.27 %\n",
      "Epoch:50/100 AVG Training Loss:0.322 AVG Validation Loss:0.548 AVG Training Acc 85.75 % AVG Validation Acc 75.94 %\n",
      "Epoch:60/100 AVG Training Loss:0.303 AVG Validation Loss:0.527 AVG Training Acc 86.34 % AVG Validation Acc 76.21 %\n",
      "Epoch:70/100 AVG Training Loss:0.277 AVG Validation Loss:0.545 AVG Training Acc 86.97 % AVG Validation Acc 76.61 %\n",
      "Epoch    76: reducing learning rate of group 0 to 3.3000e-04.\n",
      "Epoch:80/100 AVG Training Loss:0.252 AVG Validation Loss:0.536 AVG Training Acc 87.87 % AVG Validation Acc 77.28 %\n",
      "Epoch:90/100 AVG Training Loss:0.224 AVG Validation Loss:0.581 AVG Training Acc 88.79 % AVG Validation Acc 77.02 %\n",
      "Epoch:100/100 AVG Training Loss:0.204 AVG Validation Loss:0.696 AVG Training Acc 89.82 % AVG Validation Acc 75.13 %\n",
      "Split 3\n"
     ]
    },
    {
     "data": {
      "application/vnd.jupyter.widget-view+json": {
       "model_id": "26020450cf4c4c80ab38960b3d397327",
       "version_major": 2,
       "version_minor": 0
      },
      "text/plain": [
       "  0%|          | 0/100 [00:00<?, ?it/s]"
      ]
     },
     "metadata": {},
     "output_type": "display_data"
    },
    {
     "name": "stdout",
     "output_type": "stream",
     "text": [
      "Epoch:10/100 AVG Training Loss:0.862 AVG Validation Loss:0.771 AVG Training Acc 41.67 % AVG Validation Acc 22.85 %\n",
      "Epoch:20/100 AVG Training Loss:0.555 AVG Validation Loss:0.694 AVG Training Acc 75.81 % AVG Validation Acc 57.80 %\n",
      "Epoch:30/100 AVG Training Loss:0.391 AVG Validation Loss:0.607 AVG Training Acc 82.84 % AVG Validation Acc 73.12 %\n",
      "Epoch:40/100 AVG Training Loss:0.348 AVG Validation Loss:0.568 AVG Training Acc 84.66 % AVG Validation Acc 76.21 %\n",
      "Epoch:50/100 AVG Training Loss:0.324 AVG Validation Loss:0.565 AVG Training Acc 85.73 % AVG Validation Acc 76.48 %\n",
      "Epoch:60/100 AVG Training Loss:0.293 AVG Validation Loss:0.577 AVG Training Acc 86.62 % AVG Validation Acc 77.15 %\n",
      "Epoch    65: reducing learning rate of group 0 to 3.3000e-04.\n",
      "Epoch:70/100 AVG Training Loss:0.251 AVG Validation Loss:0.554 AVG Training Acc 87.61 % AVG Validation Acc 78.49 %\n",
      "Epoch:80/100 AVG Training Loss:0.219 AVG Validation Loss:0.653 AVG Training Acc 89.39 % AVG Validation Acc 76.08 %\n",
      "Epoch:90/100 AVG Training Loss:0.186 AVG Validation Loss:0.764 AVG Training Acc 90.88 % AVG Validation Acc 75.40 %\n",
      "Epoch:100/100 AVG Training Loss:0.165 AVG Validation Loss:0.882 AVG Training Acc 92.23 % AVG Validation Acc 75.40 %\n",
      "Split 4\n"
     ]
    },
    {
     "data": {
      "application/vnd.jupyter.widget-view+json": {
       "model_id": "f4ef3e35327544e186eafece4dd672ec",
       "version_major": 2,
       "version_minor": 0
      },
      "text/plain": [
       "  0%|          | 0/100 [00:00<?, ?it/s]"
      ]
     },
     "metadata": {},
     "output_type": "display_data"
    },
    {
     "name": "stdout",
     "output_type": "stream",
     "text": [
      "Epoch:10/100 AVG Training Loss:0.969 AVG Validation Loss:1.393 AVG Training Acc 58.53 % AVG Validation Acc 20.16 %\n",
      "Epoch:20/100 AVG Training Loss:0.597 AVG Validation Loss:0.627 AVG Training Acc 73.02 % AVG Validation Acc 58.60 %\n",
      "Epoch:30/100 AVG Training Loss:0.439 AVG Validation Loss:0.691 AVG Training Acc 82.19 % AVG Validation Acc 69.09 %\n",
      "Epoch    34: reducing learning rate of group 0 to 3.3000e-04.\n",
      "Epoch:40/100 AVG Training Loss:0.343 AVG Validation Loss:0.506 AVG Training Acc 84.99 % AVG Validation Acc 77.42 %\n",
      "Epoch:50/100 AVG Training Loss:0.329 AVG Validation Loss:0.503 AVG Training Acc 85.68 % AVG Validation Acc 78.36 %\n",
      "Epoch:60/100 AVG Training Loss:0.315 AVG Validation Loss:0.685 AVG Training Acc 86.10 % AVG Validation Acc 75.67 %\n",
      "Epoch:70/100 AVG Training Loss:0.298 AVG Validation Loss:0.515 AVG Training Acc 86.34 % AVG Validation Acc 78.09 %\n",
      "Epoch    70: reducing learning rate of group 0 to 1.0890e-04.\n",
      "Epoch:80/100 AVG Training Loss:0.287 AVG Validation Loss:0.504 AVG Training Acc 86.87 % AVG Validation Acc 78.23 %\n",
      "Epoch:90/100 AVG Training Loss:0.279 AVG Validation Loss:0.521 AVG Training Acc 87.13 % AVG Validation Acc 77.69 %\n",
      "Epoch:100/100 AVG Training Loss:0.272 AVG Validation Loss:0.538 AVG Training Acc 87.54 % AVG Validation Acc 77.82 %\n",
      "Split 5\n"
     ]
    },
    {
     "data": {
      "application/vnd.jupyter.widget-view+json": {
       "model_id": "8d4e39bb31a44557811050fb7d299100",
       "version_major": 2,
       "version_minor": 0
      },
      "text/plain": [
       "  0%|          | 0/100 [00:00<?, ?it/s]"
      ]
     },
     "metadata": {},
     "output_type": "display_data"
    },
    {
     "name": "stdout",
     "output_type": "stream",
     "text": [
      "Epoch:10/100 AVG Training Loss:0.618 AVG Validation Loss:3.466 AVG Training Acc 55.14 % AVG Validation Acc 20.16 %\n",
      "Epoch:20/100 AVG Training Loss:0.624 AVG Validation Loss:0.660 AVG Training Acc 68.68 % AVG Validation Acc 53.90 %\n",
      "Epoch:30/100 AVG Training Loss:0.409 AVG Validation Loss:1.531 AVG Training Acc 81.81 % AVG Validation Acc 49.19 %\n",
      "Epoch:40/100 AVG Training Loss:0.346 AVG Validation Loss:0.581 AVG Training Acc 85.15 % AVG Validation Acc 75.13 %\n",
      "Epoch:50/100 AVG Training Loss:0.306 AVG Validation Loss:0.571 AVG Training Acc 86.15 % AVG Validation Acc 74.19 %\n",
      "Epoch    58: reducing learning rate of group 0 to 3.3000e-04.\n",
      "Epoch:60/100 AVG Training Loss:0.264 AVG Validation Loss:0.545 AVG Training Acc 87.60 % AVG Validation Acc 77.15 %\n",
      "Epoch:70/100 AVG Training Loss:0.227 AVG Validation Loss:0.617 AVG Training Acc 89.35 % AVG Validation Acc 75.27 %\n",
      "Epoch:80/100 AVG Training Loss:0.201 AVG Validation Loss:0.729 AVG Training Acc 90.51 % AVG Validation Acc 74.73 %\n",
      "Epoch:90/100 AVG Training Loss:0.175 AVG Validation Loss:0.818 AVG Training Acc 91.82 % AVG Validation Acc 75.40 %\n",
      "Epoch    94: reducing learning rate of group 0 to 1.0890e-04.\n",
      "Epoch:100/100 AVG Training Loss:0.155 AVG Validation Loss:0.840 AVG Training Acc 92.89 % AVG Validation Acc 74.19 %\n",
      "Split 6\n"
     ]
    },
    {
     "data": {
      "application/vnd.jupyter.widget-view+json": {
       "model_id": "b1d08dfc3f5742d2a804cd464f210819",
       "version_major": 2,
       "version_minor": 0
      },
      "text/plain": [
       "  0%|          | 0/100 [00:00<?, ?it/s]"
      ]
     },
     "metadata": {},
     "output_type": "display_data"
    },
    {
     "name": "stdout",
     "output_type": "stream",
     "text": [
      "Epoch:10/100 AVG Training Loss:0.814 AVG Validation Loss:2.776 AVG Training Acc 67.21 % AVG Validation Acc 20.16 %\n",
      "Epoch:20/100 AVG Training Loss:0.604 AVG Validation Loss:0.680 AVG Training Acc 71.11 % AVG Validation Acc 55.91 %\n",
      "Epoch:30/100 AVG Training Loss:0.403 AVG Validation Loss:0.637 AVG Training Acc 82.46 % AVG Validation Acc 73.39 %\n",
      "Epoch:40/100 AVG Training Loss:0.362 AVG Validation Loss:0.606 AVG Training Acc 84.45 % AVG Validation Acc 74.19 %\n",
      "Epoch:50/100 AVG Training Loss:0.339 AVG Validation Loss:0.591 AVG Training Acc 85.10 % AVG Validation Acc 74.60 %\n",
      "Epoch:60/100 AVG Training Loss:0.311 AVG Validation Loss:0.577 AVG Training Acc 86.04 % AVG Validation Acc 76.34 %\n",
      "Epoch    68: reducing learning rate of group 0 to 3.3000e-04.\n",
      "Epoch:70/100 AVG Training Loss:0.274 AVG Validation Loss:0.546 AVG Training Acc 87.31 % AVG Validation Acc 75.40 %\n",
      "Epoch:80/100 AVG Training Loss:0.237 AVG Validation Loss:0.574 AVG Training Acc 89.00 % AVG Validation Acc 74.73 %\n",
      "Epoch:90/100 AVG Training Loss:0.204 AVG Validation Loss:0.637 AVG Training Acc 90.53 % AVG Validation Acc 74.19 %\n",
      "Epoch:100/100 AVG Training Loss:0.184 AVG Validation Loss:0.756 AVG Training Acc 91.53 % AVG Validation Acc 76.34 %\n",
      "Split 7\n"
     ]
    },
    {
     "data": {
      "application/vnd.jupyter.widget-view+json": {
       "model_id": "432a3ba22d3e4c08944d5b21c253232f",
       "version_major": 2,
       "version_minor": 0
      },
      "text/plain": [
       "  0%|          | 0/100 [00:00<?, ?it/s]"
      ]
     },
     "metadata": {},
     "output_type": "display_data"
    },
    {
     "name": "stdout",
     "output_type": "stream",
     "text": [
      "Epoch:10/100 AVG Training Loss:1.005 AVG Validation Loss:1.851 AVG Training Acc 58.76 % AVG Validation Acc 20.05 %\n",
      "Epoch:20/100 AVG Training Loss:0.593 AVG Validation Loss:0.627 AVG Training Acc 72.16 % AVG Validation Acc 62.05 %\n",
      "Epoch:30/100 AVG Training Loss:0.409 AVG Validation Loss:0.574 AVG Training Acc 82.05 % AVG Validation Acc 74.97 %\n",
      "Epoch:40/100 AVG Training Loss:0.349 AVG Validation Loss:0.570 AVG Training Acc 84.57 % AVG Validation Acc 75.77 %\n",
      "Epoch:50/100 AVG Training Loss:0.317 AVG Validation Loss:0.577 AVG Training Acc 85.73 % AVG Validation Acc 76.58 %\n",
      "Epoch    52: reducing learning rate of group 0 to 3.3000e-04.\n",
      "Epoch:60/100 AVG Training Loss:0.282 AVG Validation Loss:0.558 AVG Training Acc 86.82 % AVG Validation Acc 77.52 %\n",
      "Epoch:70/100 AVG Training Loss:0.254 AVG Validation Loss:0.605 AVG Training Acc 87.69 % AVG Validation Acc 76.58 %\n",
      "Epoch:80/100 AVG Training Loss:0.231 AVG Validation Loss:0.642 AVG Training Acc 88.54 % AVG Validation Acc 75.91 %\n",
      "Epoch    88: reducing learning rate of group 0 to 1.0890e-04.\n",
      "Epoch:90/100 AVG Training Loss:0.208 AVG Validation Loss:0.744 AVG Training Acc 89.65 % AVG Validation Acc 76.04 %\n",
      "Epoch:100/100 AVG Training Loss:0.194 AVG Validation Loss:0.791 AVG Training Acc 90.51 % AVG Validation Acc 74.56 %\n",
      "Split 8\n"
     ]
    },
    {
     "data": {
      "application/vnd.jupyter.widget-view+json": {
       "model_id": "8fa4d97465a54a1abcb854a89db07d03",
       "version_major": 2,
       "version_minor": 0
      },
      "text/plain": [
       "  0%|          | 0/100 [00:00<?, ?it/s]"
      ]
     },
     "metadata": {},
     "output_type": "display_data"
    },
    {
     "name": "stdout",
     "output_type": "stream",
     "text": [
      "Epoch:10/100 AVG Training Loss:0.656 AVG Validation Loss:0.717 AVG Training Acc 61.94 % AVG Validation Acc 41.32 %\n",
      "Epoch:20/100 AVG Training Loss:0.557 AVG Validation Loss:0.593 AVG Training Acc 76.51 % AVG Validation Acc 69.45 %\n",
      "Epoch:30/100 AVG Training Loss:0.419 AVG Validation Loss:0.619 AVG Training Acc 82.49 % AVG Validation Acc 73.76 %\n",
      "Epoch:40/100 AVG Training Loss:0.329 AVG Validation Loss:0.593 AVG Training Acc 85.12 % AVG Validation Acc 75.24 %\n",
      "Epoch:50/100 AVG Training Loss:0.293 AVG Validation Loss:0.588 AVG Training Acc 86.59 % AVG Validation Acc 72.81 %\n",
      "Epoch:60/100 AVG Training Loss:0.238 AVG Validation Loss:0.606 AVG Training Acc 88.93 % AVG Validation Acc 70.39 %\n",
      "Epoch    67: reducing learning rate of group 0 to 3.3000e-04.\n",
      "Epoch:70/100 AVG Training Loss:0.183 AVG Validation Loss:0.680 AVG Training Acc 91.73 % AVG Validation Acc 69.72 %\n",
      "Epoch:80/100 AVG Training Loss:0.146 AVG Validation Loss:0.834 AVG Training Acc 93.35 % AVG Validation Acc 66.35 %\n",
      "Epoch:90/100 AVG Training Loss:0.125 AVG Validation Loss:0.976 AVG Training Acc 94.57 % AVG Validation Acc 69.72 %\n",
      "Epoch:100/100 AVG Training Loss:0.116 AVG Validation Loss:1.011 AVG Training Acc 94.97 % AVG Validation Acc 68.78 %\n",
      "Split 9\n"
     ]
    },
    {
     "data": {
      "application/vnd.jupyter.widget-view+json": {
       "model_id": "b10c6aff0e9c43438e8f7c26f29dcac7",
       "version_major": 2,
       "version_minor": 0
      },
      "text/plain": [
       "  0%|          | 0/100 [00:00<?, ?it/s]"
      ]
     },
     "metadata": {},
     "output_type": "display_data"
    },
    {
     "name": "stdout",
     "output_type": "stream",
     "text": [
      "Epoch:10/100 AVG Training Loss:0.649 AVG Validation Loss:0.717 AVG Training Acc 62.94 % AVG Validation Acc 43.61 %\n",
      "Epoch:20/100 AVG Training Loss:0.474 AVG Validation Loss:0.712 AVG Training Acc 79.79 % AVG Validation Acc 65.41 %\n",
      "Epoch:30/100 AVG Training Loss:0.349 AVG Validation Loss:0.594 AVG Training Acc 84.59 % AVG Validation Acc 74.97 %\n",
      "Epoch:40/100 AVG Training Loss:0.312 AVG Validation Loss:0.565 AVG Training Acc 85.88 % AVG Validation Acc 73.49 %\n",
      "Epoch:50/100 AVG Training Loss:0.275 AVG Validation Loss:0.557 AVG Training Acc 87.64 % AVG Validation Acc 74.16 %\n",
      "Epoch    59: reducing learning rate of group 0 to 3.3000e-04.\n",
      "Epoch:60/100 AVG Training Loss:0.251 AVG Validation Loss:0.533 AVG Training Acc 88.42 % AVG Validation Acc 77.66 %\n",
      "Epoch:70/100 AVG Training Loss:0.194 AVG Validation Loss:0.623 AVG Training Acc 90.92 % AVG Validation Acc 77.39 %\n",
      "Epoch:80/100 AVG Training Loss:0.161 AVG Validation Loss:0.670 AVG Training Acc 92.57 % AVG Validation Acc 76.72 %\n",
      "Epoch:90/100 AVG Training Loss:0.129 AVG Validation Loss:0.829 AVG Training Acc 93.99 % AVG Validation Acc 74.97 %\n",
      "Epoch    95: reducing learning rate of group 0 to 1.0890e-04.\n",
      "Epoch:100/100 AVG Training Loss:0.119 AVG Validation Loss:0.957 AVG Training Acc 94.10 % AVG Validation Acc 73.35 %\n",
      "Split 10\n"
     ]
    },
    {
     "data": {
      "application/vnd.jupyter.widget-view+json": {
       "model_id": "932718b4ce724b55a8f3d290e1972a18",
       "version_major": 2,
       "version_minor": 0
      },
      "text/plain": [
       "  0%|          | 0/100 [00:00<?, ?it/s]"
      ]
     },
     "metadata": {},
     "output_type": "display_data"
    },
    {
     "name": "stdout",
     "output_type": "stream",
     "text": [
      "Epoch:10/100 AVG Training Loss:0.510 AVG Validation Loss:3.931 AVG Training Acc 62.96 % AVG Validation Acc 20.19 %\n",
      "Epoch:20/100 AVG Training Loss:0.624 AVG Validation Loss:0.681 AVG Training Acc 68.09 % AVG Validation Acc 51.28 %\n",
      "Epoch:30/100 AVG Training Loss:0.416 AVG Validation Loss:0.851 AVG Training Acc 82.46 % AVG Validation Acc 65.55 %\n",
      "Epoch:40/100 AVG Training Loss:0.330 AVG Validation Loss:0.557 AVG Training Acc 85.60 % AVG Validation Acc 75.64 %\n",
      "Epoch:50/100 AVG Training Loss:0.285 AVG Validation Loss:0.560 AVG Training Acc 86.54 % AVG Validation Acc 73.76 %\n",
      "Epoch    59: reducing learning rate of group 0 to 3.3000e-04.\n",
      "Epoch:60/100 AVG Training Loss:0.242 AVG Validation Loss:0.563 AVG Training Acc 88.43 % AVG Validation Acc 74.97 %\n",
      "Epoch:70/100 AVG Training Loss:0.181 AVG Validation Loss:0.687 AVG Training Acc 91.11 % AVG Validation Acc 74.97 %\n",
      "Epoch:80/100 AVG Training Loss:0.153 AVG Validation Loss:0.828 AVG Training Acc 92.73 % AVG Validation Acc 76.18 %\n",
      "Epoch:90/100 AVG Training Loss:0.131 AVG Validation Loss:0.961 AVG Training Acc 94.00 % AVG Validation Acc 74.70 %\n",
      "Epoch    95: reducing learning rate of group 0 to 1.0890e-04.\n",
      "Epoch:100/100 AVG Training Loss:0.114 AVG Validation Loss:0.968 AVG Training Acc 94.55 % AVG Validation Acc 74.16 %\n",
      "Replica 22\n"
     ]
    },
    {
     "data": {
      "application/vnd.jupyter.widget-view+json": {
       "model_id": "22c3c2e1c9904516aeefd7434e080f7a",
       "version_major": 2,
       "version_minor": 0
      },
      "text/plain": [
       "0it [00:00, ?it/s]"
      ]
     },
     "metadata": {},
     "output_type": "display_data"
    },
    {
     "name": "stdout",
     "output_type": "stream",
     "text": [
      "Split 1\n"
     ]
    },
    {
     "data": {
      "application/vnd.jupyter.widget-view+json": {
       "model_id": "cf3a431cb8324d76b2535279e0aa9b1e",
       "version_major": 2,
       "version_minor": 0
      },
      "text/plain": [
       "  0%|          | 0/100 [00:00<?, ?it/s]"
      ]
     },
     "metadata": {},
     "output_type": "display_data"
    },
    {
     "name": "stdout",
     "output_type": "stream",
     "text": [
      "Epoch:10/100 AVG Training Loss:0.552 AVG Validation Loss:3.863 AVG Training Acc 62.34 % AVG Validation Acc 20.16 %\n",
      "Epoch:20/100 AVG Training Loss:0.627 AVG Validation Loss:0.666 AVG Training Acc 67.92 % AVG Validation Acc 55.51 %\n",
      "Epoch    29: reducing learning rate of group 0 to 3.3000e-04.\n",
      "Epoch:30/100 AVG Training Loss:0.475 AVG Validation Loss:0.564 AVG Training Acc 79.27 % AVG Validation Acc 74.60 %\n",
      "Epoch:40/100 AVG Training Loss:0.380 AVG Validation Loss:0.562 AVG Training Acc 82.52 % AVG Validation Acc 77.82 %\n",
      "Epoch:50/100 AVG Training Loss:0.355 AVG Validation Loss:0.554 AVG Training Acc 83.92 % AVG Validation Acc 77.96 %\n",
      "Epoch:60/100 AVG Training Loss:0.339 AVG Validation Loss:0.556 AVG Training Acc 84.88 % AVG Validation Acc 77.55 %\n",
      "Epoch:70/100 AVG Training Loss:0.324 AVG Validation Loss:0.553 AVG Training Acc 85.44 % AVG Validation Acc 77.42 %\n",
      "Epoch:80/100 AVG Training Loss:0.312 AVG Validation Loss:0.554 AVG Training Acc 85.87 % AVG Validation Acc 77.42 %\n",
      "Epoch    89: reducing learning rate of group 0 to 1.0890e-04.\n",
      "Epoch:90/100 AVG Training Loss:0.306 AVG Validation Loss:0.509 AVG Training Acc 85.92 % AVG Validation Acc 78.23 %\n",
      "Epoch:100/100 AVG Training Loss:0.293 AVG Validation Loss:0.519 AVG Training Acc 86.73 % AVG Validation Acc 78.23 %\n",
      "Split 2\n"
     ]
    },
    {
     "data": {
      "application/vnd.jupyter.widget-view+json": {
       "model_id": "8a5e585fd04943a591c37b7b8795497b",
       "version_major": 2,
       "version_minor": 0
      },
      "text/plain": [
       "  0%|          | 0/100 [00:00<?, ?it/s]"
      ]
     },
     "metadata": {},
     "output_type": "display_data"
    },
    {
     "name": "stdout",
     "output_type": "stream",
     "text": [
      "Epoch:10/100 AVG Training Loss:0.663 AVG Validation Loss:0.697 AVG Training Acc 60.08 % AVG Validation Acc 39.92 %\n",
      "Epoch:20/100 AVG Training Loss:0.562 AVG Validation Loss:0.606 AVG Training Acc 76.00 % AVG Validation Acc 65.05 %\n",
      "Epoch:30/100 AVG Training Loss:0.477 AVG Validation Loss:0.626 AVG Training Acc 79.84 % AVG Validation Acc 69.89 %\n",
      "Epoch    34: reducing learning rate of group 0 to 3.3000e-04.\n",
      "Epoch:40/100 AVG Training Loss:0.355 AVG Validation Loss:0.524 AVG Training Acc 84.35 % AVG Validation Acc 75.67 %\n",
      "Epoch:50/100 AVG Training Loss:0.336 AVG Validation Loss:0.537 AVG Training Acc 85.23 % AVG Validation Acc 75.13 %\n",
      "Epoch:60/100 AVG Training Loss:0.320 AVG Validation Loss:0.536 AVG Training Acc 85.73 % AVG Validation Acc 75.27 %\n",
      "Epoch:70/100 AVG Training Loss:0.303 AVG Validation Loss:0.542 AVG Training Acc 86.30 % AVG Validation Acc 75.54 %\n",
      "Epoch    70: reducing learning rate of group 0 to 1.0890e-04.\n",
      "Epoch:80/100 AVG Training Loss:0.289 AVG Validation Loss:0.509 AVG Training Acc 86.69 % AVG Validation Acc 77.69 %\n",
      "Epoch:90/100 AVG Training Loss:0.282 AVG Validation Loss:0.514 AVG Training Acc 86.96 % AVG Validation Acc 77.28 %\n",
      "Epoch:100/100 AVG Training Loss:0.275 AVG Validation Loss:0.527 AVG Training Acc 87.27 % AVG Validation Acc 77.02 %\n",
      "Split 3\n"
     ]
    },
    {
     "data": {
      "application/vnd.jupyter.widget-view+json": {
       "model_id": "d88efbef224e480d90875f9db7c55fe1",
       "version_major": 2,
       "version_minor": 0
      },
      "text/plain": [
       "  0%|          | 0/100 [00:00<?, ?it/s]"
      ]
     },
     "metadata": {},
     "output_type": "display_data"
    },
    {
     "name": "stdout",
     "output_type": "stream",
     "text": [
      "Epoch:10/100 AVG Training Loss:0.629 AVG Validation Loss:0.743 AVG Training Acc 67.20 % AVG Validation Acc 45.03 %\n",
      "Epoch:20/100 AVG Training Loss:0.508 AVG Validation Loss:0.665 AVG Training Acc 78.78 % AVG Validation Acc 64.52 %\n",
      "Epoch:30/100 AVG Training Loss:0.375 AVG Validation Loss:0.634 AVG Training Acc 83.69 % AVG Validation Acc 73.66 %\n",
      "Epoch    32: reducing learning rate of group 0 to 3.3000e-04.\n",
      "Epoch:40/100 AVG Training Loss:0.329 AVG Validation Loss:0.513 AVG Training Acc 85.29 % AVG Validation Acc 78.90 %\n",
      "Epoch:50/100 AVG Training Loss:0.314 AVG Validation Loss:0.512 AVG Training Acc 85.82 % AVG Validation Acc 78.49 %\n",
      "Epoch:60/100 AVG Training Loss:0.292 AVG Validation Loss:0.526 AVG Training Acc 86.50 % AVG Validation Acc 77.96 %\n",
      "Epoch    68: reducing learning rate of group 0 to 1.0890e-04.\n",
      "Epoch:70/100 AVG Training Loss:0.270 AVG Validation Loss:0.512 AVG Training Acc 87.60 % AVG Validation Acc 78.23 %\n",
      "Epoch:80/100 AVG Training Loss:0.254 AVG Validation Loss:0.521 AVG Training Acc 88.26 % AVG Validation Acc 78.63 %\n",
      "Epoch:90/100 AVG Training Loss:0.242 AVG Validation Loss:0.543 AVG Training Acc 88.98 % AVG Validation Acc 77.42 %\n",
      "Epoch:100/100 AVG Training Loss:0.233 AVG Validation Loss:0.567 AVG Training Acc 89.30 % AVG Validation Acc 76.88 %\n",
      "Split 4\n"
     ]
    },
    {
     "data": {
      "application/vnd.jupyter.widget-view+json": {
       "model_id": "236d8847bdc04518a9f9f0441baf9e5b",
       "version_major": 2,
       "version_minor": 0
      },
      "text/plain": [
       "  0%|          | 0/100 [00:00<?, ?it/s]"
      ]
     },
     "metadata": {},
     "output_type": "display_data"
    },
    {
     "name": "stdout",
     "output_type": "stream",
     "text": [
      "Epoch:10/100 AVG Training Loss:0.664 AVG Validation Loss:0.679 AVG Training Acc 58.61 % AVG Validation Acc 43.41 %\n",
      "Epoch:20/100 AVG Training Loss:0.577 AVG Validation Loss:0.618 AVG Training Acc 76.36 % AVG Validation Acc 63.04 %\n",
      "Epoch:30/100 AVG Training Loss:0.456 AVG Validation Loss:0.763 AVG Training Acc 80.73 % AVG Validation Acc 66.80 %\n",
      "Epoch    36: reducing learning rate of group 0 to 3.3000e-04.\n",
      "Epoch:40/100 AVG Training Loss:0.338 AVG Validation Loss:0.535 AVG Training Acc 84.95 % AVG Validation Acc 76.61 %\n",
      "Epoch:50/100 AVG Training Loss:0.309 AVG Validation Loss:0.555 AVG Training Acc 86.06 % AVG Validation Acc 76.34 %\n",
      "Epoch:60/100 AVG Training Loss:0.281 AVG Validation Loss:0.590 AVG Training Acc 87.12 % AVG Validation Acc 72.58 %\n",
      "Epoch:70/100 AVG Training Loss:0.257 AVG Validation Loss:0.595 AVG Training Acc 88.06 % AVG Validation Acc 73.25 %\n",
      "Epoch    72: reducing learning rate of group 0 to 1.0890e-04.\n",
      "Epoch:80/100 AVG Training Loss:0.245 AVG Validation Loss:0.587 AVG Training Acc 88.61 % AVG Validation Acc 75.94 %\n",
      "Epoch:90/100 AVG Training Loss:0.233 AVG Validation Loss:0.630 AVG Training Acc 89.24 % AVG Validation Acc 75.27 %\n",
      "Epoch:100/100 AVG Training Loss:0.224 AVG Validation Loss:0.653 AVG Training Acc 89.47 % AVG Validation Acc 75.40 %\n",
      "Split 5\n"
     ]
    },
    {
     "data": {
      "application/vnd.jupyter.widget-view+json": {
       "model_id": "cee2321969ba406e984c2f927dbb9531",
       "version_major": 2,
       "version_minor": 0
      },
      "text/plain": [
       "  0%|          | 0/100 [00:00<?, ?it/s]"
      ]
     },
     "metadata": {},
     "output_type": "display_data"
    },
    {
     "name": "stdout",
     "output_type": "stream",
     "text": [
      "Epoch:10/100 AVG Training Loss:0.685 AVG Validation Loss:0.687 AVG Training Acc 53.17 % AVG Validation Acc 41.40 %\n",
      "Epoch:20/100 AVG Training Loss:0.542 AVG Validation Loss:0.841 AVG Training Acc 73.54 % AVG Validation Acc 53.76 %\n",
      "Epoch:30/100 AVG Training Loss:0.404 AVG Validation Loss:0.689 AVG Training Acc 82.62 % AVG Validation Acc 68.01 %\n",
      "Epoch:40/100 AVG Training Loss:0.345 AVG Validation Loss:0.577 AVG Training Acc 85.02 % AVG Validation Acc 76.08 %\n",
      "Epoch:50/100 AVG Training Loss:0.324 AVG Validation Loss:0.548 AVG Training Acc 85.62 % AVG Validation Acc 75.94 %\n",
      "Epoch:60/100 AVG Training Loss:0.308 AVG Validation Loss:0.538 AVG Training Acc 86.16 % AVG Validation Acc 77.15 %\n",
      "Epoch:70/100 AVG Training Loss:0.266 AVG Validation Loss:0.587 AVG Training Acc 87.63 % AVG Validation Acc 75.40 %\n",
      "Epoch    78: reducing learning rate of group 0 to 3.3000e-04.\n",
      "Epoch:80/100 AVG Training Loss:0.213 AVG Validation Loss:0.648 AVG Training Acc 89.52 % AVG Validation Acc 76.48 %\n",
      "Epoch:90/100 AVG Training Loss:0.174 AVG Validation Loss:0.821 AVG Training Acc 91.39 % AVG Validation Acc 74.06 %\n",
      "Epoch:100/100 AVG Training Loss:0.150 AVG Validation Loss:0.964 AVG Training Acc 92.60 % AVG Validation Acc 73.92 %\n",
      "Split 6\n"
     ]
    },
    {
     "data": {
      "application/vnd.jupyter.widget-view+json": {
       "model_id": "c845ed9966d143518c3be9a09b55a4e4",
       "version_major": 2,
       "version_minor": 0
      },
      "text/plain": [
       "  0%|          | 0/100 [00:00<?, ?it/s]"
      ]
     },
     "metadata": {},
     "output_type": "display_data"
    },
    {
     "name": "stdout",
     "output_type": "stream",
     "text": [
      "Epoch:10/100 AVG Training Loss:0.932 AVG Validation Loss:0.753 AVG Training Acc 39.25 % AVG Validation Acc 21.10 %\n",
      "Epoch:20/100 AVG Training Loss:0.531 AVG Validation Loss:1.232 AVG Training Acc 77.75 % AVG Validation Acc 39.92 %\n",
      "Epoch:30/100 AVG Training Loss:0.387 AVG Validation Loss:0.661 AVG Training Acc 84.00 % AVG Validation Acc 70.83 %\n",
      "Epoch    38: reducing learning rate of group 0 to 3.3000e-04.\n",
      "Epoch:40/100 AVG Training Loss:0.318 AVG Validation Loss:0.521 AVG Training Acc 86.03 % AVG Validation Acc 76.48 %\n",
      "Epoch:50/100 AVG Training Loss:0.293 AVG Validation Loss:0.523 AVG Training Acc 86.72 % AVG Validation Acc 76.88 %\n",
      "Epoch:60/100 AVG Training Loss:0.270 AVG Validation Loss:0.543 AVG Training Acc 87.81 % AVG Validation Acc 75.54 %\n",
      "Epoch:70/100 AVG Training Loss:0.247 AVG Validation Loss:0.603 AVG Training Acc 88.57 % AVG Validation Acc 74.60 %\n",
      "Epoch    74: reducing learning rate of group 0 to 1.0890e-04.\n",
      "Epoch:80/100 AVG Training Loss:0.233 AVG Validation Loss:0.605 AVG Training Acc 89.13 % AVG Validation Acc 75.54 %\n",
      "Epoch:90/100 AVG Training Loss:0.219 AVG Validation Loss:0.635 AVG Training Acc 89.66 % AVG Validation Acc 76.88 %\n",
      "Epoch:100/100 AVG Training Loss:0.211 AVG Validation Loss:0.664 AVG Training Acc 89.88 % AVG Validation Acc 75.94 %\n",
      "Split 7\n"
     ]
    },
    {
     "data": {
      "application/vnd.jupyter.widget-view+json": {
       "model_id": "432c7ae810e44e0aba4d20810e36dab6",
       "version_major": 2,
       "version_minor": 0
      },
      "text/plain": [
       "  0%|          | 0/100 [00:00<?, ?it/s]"
      ]
     },
     "metadata": {},
     "output_type": "display_data"
    },
    {
     "name": "stdout",
     "output_type": "stream",
     "text": [
      "Epoch:10/100 AVG Training Loss:0.957 AVG Validation Loss:0.827 AVG Training Acc 40.36 % AVG Validation Acc 20.05 %\n",
      "Epoch:20/100 AVG Training Loss:0.548 AVG Validation Loss:0.663 AVG Training Acc 76.05 % AVG Validation Acc 61.64 %\n",
      "Epoch:30/100 AVG Training Loss:0.403 AVG Validation Loss:0.727 AVG Training Acc 82.30 % AVG Validation Acc 68.64 %\n",
      "Epoch    35: reducing learning rate of group 0 to 3.3000e-04.\n",
      "Epoch:40/100 AVG Training Loss:0.334 AVG Validation Loss:0.536 AVG Training Acc 85.32 % AVG Validation Acc 77.39 %\n",
      "Epoch:50/100 AVG Training Loss:0.313 AVG Validation Loss:0.546 AVG Training Acc 86.22 % AVG Validation Acc 77.93 %\n",
      "Epoch:60/100 AVG Training Loss:0.291 AVG Validation Loss:0.573 AVG Training Acc 86.79 % AVG Validation Acc 76.31 %\n",
      "Epoch:70/100 AVG Training Loss:0.270 AVG Validation Loss:0.596 AVG Training Acc 87.75 % AVG Validation Acc 75.24 %\n",
      "Epoch    71: reducing learning rate of group 0 to 1.0890e-04.\n",
      "Epoch:80/100 AVG Training Loss:0.254 AVG Validation Loss:0.593 AVG Training Acc 88.28 % AVG Validation Acc 76.18 %\n",
      "Epoch:90/100 AVG Training Loss:0.243 AVG Validation Loss:0.616 AVG Training Acc 88.85 % AVG Validation Acc 75.50 %\n",
      "Epoch:100/100 AVG Training Loss:0.233 AVG Validation Loss:0.650 AVG Training Acc 89.48 % AVG Validation Acc 74.43 %\n",
      "Split 8\n"
     ]
    },
    {
     "data": {
      "application/vnd.jupyter.widget-view+json": {
       "model_id": "da8d0e2c727e404fb34e0854b2891439",
       "version_major": 2,
       "version_minor": 0
      },
      "text/plain": [
       "  0%|          | 0/100 [00:00<?, ?it/s]"
      ]
     },
     "metadata": {},
     "output_type": "display_data"
    },
    {
     "name": "stdout",
     "output_type": "stream",
     "text": [
      "Epoch:10/100 AVG Training Loss:0.619 AVG Validation Loss:2.732 AVG Training Acc 62.82 % AVG Validation Acc 20.05 %\n",
      "Epoch:20/100 AVG Training Loss:0.521 AVG Validation Loss:0.919 AVG Training Acc 78.00 % AVG Validation Acc 49.26 %\n",
      "Epoch:30/100 AVG Training Loss:0.380 AVG Validation Loss:0.602 AVG Training Acc 83.39 % AVG Validation Acc 74.43 %\n",
      "Epoch:40/100 AVG Training Loss:0.326 AVG Validation Loss:0.571 AVG Training Acc 85.46 % AVG Validation Acc 75.24 %\n",
      "Epoch:50/100 AVG Training Loss:0.280 AVG Validation Loss:0.623 AVG Training Acc 86.58 % AVG Validation Acc 72.95 %\n",
      "Epoch    54: reducing learning rate of group 0 to 3.3000e-04.\n",
      "Epoch:60/100 AVG Training Loss:0.243 AVG Validation Loss:0.600 AVG Training Acc 88.53 % AVG Validation Acc 72.68 %\n",
      "Epoch:70/100 AVG Training Loss:0.209 AVG Validation Loss:0.641 AVG Training Acc 90.29 % AVG Validation Acc 72.01 %\n",
      "Epoch:80/100 AVG Training Loss:0.190 AVG Validation Loss:0.692 AVG Training Acc 91.28 % AVG Validation Acc 71.87 %\n",
      "Epoch:90/100 AVG Training Loss:0.163 AVG Validation Loss:0.796 AVG Training Acc 92.39 % AVG Validation Acc 70.26 %\n",
      "Epoch    90: reducing learning rate of group 0 to 1.0890e-04.\n",
      "Epoch:100/100 AVG Training Loss:0.149 AVG Validation Loss:0.802 AVG Training Acc 92.89 % AVG Validation Acc 70.66 %\n",
      "Split 9\n"
     ]
    },
    {
     "data": {
      "application/vnd.jupyter.widget-view+json": {
       "model_id": "a13afc71baa247cd9daefcefa3f737f2",
       "version_major": 2,
       "version_minor": 0
      },
      "text/plain": [
       "  0%|          | 0/100 [00:00<?, ?it/s]"
      ]
     },
     "metadata": {},
     "output_type": "display_data"
    },
    {
     "name": "stdout",
     "output_type": "stream",
     "text": [
      "Epoch:10/100 AVG Training Loss:0.955 AVG Validation Loss:0.725 AVG Training Acc 34.83 % AVG Validation Acc 22.88 %\n",
      "Epoch:20/100 AVG Training Loss:0.565 AVG Validation Loss:0.652 AVG Training Acc 75.47 % AVG Validation Acc 61.91 %\n",
      "Epoch:30/100 AVG Training Loss:0.407 AVG Validation Loss:0.754 AVG Training Acc 82.57 % AVG Validation Acc 68.78 %\n",
      "Epoch:40/100 AVG Training Loss:0.333 AVG Validation Loss:0.550 AVG Training Acc 85.14 % AVG Validation Acc 77.12 %\n",
      "Epoch:50/100 AVG Training Loss:0.292 AVG Validation Loss:0.529 AVG Training Acc 86.30 % AVG Validation Acc 76.99 %\n",
      "Epoch:60/100 AVG Training Loss:0.252 AVG Validation Loss:0.565 AVG Training Acc 88.06 % AVG Validation Acc 75.91 %\n",
      "Epoch    68: reducing learning rate of group 0 to 3.3000e-04.\n",
      "Epoch:70/100 AVG Training Loss:0.218 AVG Validation Loss:0.595 AVG Training Acc 89.81 % AVG Validation Acc 77.52 %\n",
      "Epoch:80/100 AVG Training Loss:0.169 AVG Validation Loss:0.717 AVG Training Acc 92.39 % AVG Validation Acc 75.64 %\n",
      "Epoch:90/100 AVG Training Loss:0.142 AVG Validation Loss:0.835 AVG Training Acc 93.26 % AVG Validation Acc 74.70 %\n",
      "Epoch:100/100 AVG Training Loss:0.119 AVG Validation Loss:0.892 AVG Training Acc 94.57 % AVG Validation Acc 74.43 %\n",
      "Split 10\n"
     ]
    },
    {
     "data": {
      "application/vnd.jupyter.widget-view+json": {
       "model_id": "c5375cecfeff498baa2afc08429518ad",
       "version_major": 2,
       "version_minor": 0
      },
      "text/plain": [
       "  0%|          | 0/100 [00:00<?, ?it/s]"
      ]
     },
     "metadata": {},
     "output_type": "display_data"
    },
    {
     "name": "stdout",
     "output_type": "stream",
     "text": [
      "Epoch:10/100 AVG Training Loss:0.968 AVG Validation Loss:1.211 AVG Training Acc 55.68 % AVG Validation Acc 20.19 %\n",
      "Epoch:20/100 AVG Training Loss:0.533 AVG Validation Loss:0.873 AVG Training Acc 77.27 % AVG Validation Acc 45.90 %\n",
      "Epoch:30/100 AVG Training Loss:0.432 AVG Validation Loss:0.580 AVG Training Acc 81.38 % AVG Validation Acc 73.08 %\n",
      "Epoch:40/100 AVG Training Loss:0.347 AVG Validation Loss:0.559 AVG Training Acc 85.15 % AVG Validation Acc 76.18 %\n",
      "Epoch:50/100 AVG Training Loss:0.322 AVG Validation Loss:0.560 AVG Training Acc 85.91 % AVG Validation Acc 76.99 %\n",
      "Epoch:60/100 AVG Training Loss:0.297 AVG Validation Loss:0.576 AVG Training Acc 86.99 % AVG Validation Acc 75.64 %\n",
      "Epoch    64: reducing learning rate of group 0 to 3.3000e-04.\n",
      "Epoch:70/100 AVG Training Loss:0.262 AVG Validation Loss:0.554 AVG Training Acc 87.99 % AVG Validation Acc 75.91 %\n",
      "Epoch:80/100 AVG Training Loss:0.235 AVG Validation Loss:0.641 AVG Training Acc 88.99 % AVG Validation Acc 73.89 %\n",
      "Epoch:90/100 AVG Training Loss:0.206 AVG Validation Loss:0.684 AVG Training Acc 90.39 % AVG Validation Acc 74.29 %\n",
      "Epoch:100/100 AVG Training Loss:0.172 AVG Validation Loss:0.769 AVG Training Acc 91.98 % AVG Validation Acc 73.62 %\n",
      "Epoch   100: reducing learning rate of group 0 to 1.0890e-04.\n",
      "Replica 23\n"
     ]
    },
    {
     "data": {
      "application/vnd.jupyter.widget-view+json": {
       "model_id": "e3666654a0ba40688c51b6734f0903a4",
       "version_major": 2,
       "version_minor": 0
      },
      "text/plain": [
       "0it [00:00, ?it/s]"
      ]
     },
     "metadata": {},
     "output_type": "display_data"
    },
    {
     "name": "stdout",
     "output_type": "stream",
     "text": [
      "Split 1\n"
     ]
    },
    {
     "data": {
      "application/vnd.jupyter.widget-view+json": {
       "model_id": "6ff3dcae24c049d49ad499a8199857da",
       "version_major": 2,
       "version_minor": 0
      },
      "text/plain": [
       "  0%|          | 0/100 [00:00<?, ?it/s]"
      ]
     },
     "metadata": {},
     "output_type": "display_data"
    },
    {
     "name": "stdout",
     "output_type": "stream",
     "text": [
      "Epoch:10/100 AVG Training Loss:0.643 AVG Validation Loss:0.695 AVG Training Acc 65.37 % AVG Validation Acc 47.31 %\n",
      "Epoch:20/100 AVG Training Loss:0.539 AVG Validation Loss:0.641 AVG Training Acc 76.93 % AVG Validation Acc 64.78 %\n",
      "Epoch:30/100 AVG Training Loss:0.385 AVG Validation Loss:0.627 AVG Training Acc 83.79 % AVG Validation Acc 74.33 %\n",
      "Epoch    33: reducing learning rate of group 0 to 3.3000e-04.\n",
      "Epoch:40/100 AVG Training Loss:0.339 AVG Validation Loss:0.517 AVG Training Acc 84.98 % AVG Validation Acc 78.09 %\n",
      "Epoch:50/100 AVG Training Loss:0.326 AVG Validation Loss:0.530 AVG Training Acc 85.60 % AVG Validation Acc 77.02 %\n",
      "Epoch:60/100 AVG Training Loss:0.315 AVG Validation Loss:0.544 AVG Training Acc 85.93 % AVG Validation Acc 77.02 %\n",
      "Epoch    69: reducing learning rate of group 0 to 1.0890e-04.\n",
      "Epoch:70/100 AVG Training Loss:0.304 AVG Validation Loss:0.533 AVG Training Acc 86.13 % AVG Validation Acc 78.23 %\n",
      "Epoch:80/100 AVG Training Loss:0.286 AVG Validation Loss:0.542 AVG Training Acc 86.88 % AVG Validation Acc 78.49 %\n",
      "Epoch:90/100 AVG Training Loss:0.276 AVG Validation Loss:0.555 AVG Training Acc 87.26 % AVG Validation Acc 78.09 %\n",
      "Epoch:100/100 AVG Training Loss:0.266 AVG Validation Loss:0.568 AVG Training Acc 87.48 % AVG Validation Acc 77.82 %\n",
      "Split 2\n"
     ]
    },
    {
     "data": {
      "application/vnd.jupyter.widget-view+json": {
       "model_id": "73778c19a87a457fa38cc701a023190b",
       "version_major": 2,
       "version_minor": 0
      },
      "text/plain": [
       "  0%|          | 0/100 [00:00<?, ?it/s]"
      ]
     },
     "metadata": {},
     "output_type": "display_data"
    },
    {
     "name": "stdout",
     "output_type": "stream",
     "text": [
      "Epoch:10/100 AVG Training Loss:0.766 AVG Validation Loss:0.963 AVG Training Acc 55.66 % AVG Validation Acc 20.16 %\n",
      "Epoch:20/100 AVG Training Loss:0.541 AVG Validation Loss:0.678 AVG Training Acc 77.32 % AVG Validation Acc 61.29 %\n",
      "Epoch:30/100 AVG Training Loss:0.452 AVG Validation Loss:0.647 AVG Training Acc 81.22 % AVG Validation Acc 69.35 %\n",
      "Epoch:40/100 AVG Training Loss:0.360 AVG Validation Loss:0.563 AVG Training Acc 84.28 % AVG Validation Acc 74.60 %\n",
      "Epoch:50/100 AVG Training Loss:0.329 AVG Validation Loss:0.542 AVG Training Acc 85.45 % AVG Validation Acc 76.21 %\n",
      "Epoch:60/100 AVG Training Loss:0.299 AVG Validation Loss:0.569 AVG Training Acc 86.84 % AVG Validation Acc 74.87 %\n",
      "Epoch:70/100 AVG Training Loss:0.269 AVG Validation Loss:0.544 AVG Training Acc 87.44 % AVG Validation Acc 75.94 %\n",
      "Epoch    70: reducing learning rate of group 0 to 3.3000e-04.\n",
      "Epoch:80/100 AVG Training Loss:0.234 AVG Validation Loss:0.560 AVG Training Acc 88.59 % AVG Validation Acc 77.28 %\n",
      "Epoch:90/100 AVG Training Loss:0.203 AVG Validation Loss:0.652 AVG Training Acc 90.09 % AVG Validation Acc 77.28 %\n",
      "Epoch:100/100 AVG Training Loss:0.176 AVG Validation Loss:0.742 AVG Training Acc 91.71 % AVG Validation Acc 77.28 %\n",
      "Split 3\n"
     ]
    },
    {
     "data": {
      "application/vnd.jupyter.widget-view+json": {
       "model_id": "e8ce8f40a7984b4fbb5fd92d213cbcb6",
       "version_major": 2,
       "version_minor": 0
      },
      "text/plain": [
       "  0%|          | 0/100 [00:00<?, ?it/s]"
      ]
     },
     "metadata": {},
     "output_type": "display_data"
    },
    {
     "name": "stdout",
     "output_type": "stream",
     "text": [
      "Epoch:10/100 AVG Training Loss:0.928 AVG Validation Loss:0.931 AVG Training Acc 51.47 % AVG Validation Acc 20.30 %\n",
      "Epoch:20/100 AVG Training Loss:0.582 AVG Validation Loss:0.648 AVG Training Acc 73.72 % AVG Validation Acc 59.68 %\n",
      "Epoch:30/100 AVG Training Loss:0.472 AVG Validation Loss:0.752 AVG Training Acc 79.29 % AVG Validation Acc 65.73 %\n",
      "Epoch:40/100 AVG Training Loss:0.356 AVG Validation Loss:0.626 AVG Training Acc 84.33 % AVG Validation Acc 72.85 %\n",
      "Epoch:50/100 AVG Training Loss:0.324 AVG Validation Loss:0.603 AVG Training Acc 85.61 % AVG Validation Acc 73.66 %\n",
      "Epoch:60/100 AVG Training Loss:0.281 AVG Validation Loss:0.639 AVG Training Acc 87.31 % AVG Validation Acc 72.04 %\n",
      "Epoch    69: reducing learning rate of group 0 to 3.3000e-04.\n",
      "Epoch:70/100 AVG Training Loss:0.263 AVG Validation Loss:0.629 AVG Training Acc 87.99 % AVG Validation Acc 74.06 %\n",
      "Epoch:80/100 AVG Training Loss:0.199 AVG Validation Loss:0.702 AVG Training Acc 90.80 % AVG Validation Acc 72.85 %\n",
      "Epoch:90/100 AVG Training Loss:0.173 AVG Validation Loss:0.810 AVG Training Acc 91.67 % AVG Validation Acc 74.19 %\n",
      "Epoch:100/100 AVG Training Loss:0.148 AVG Validation Loss:0.942 AVG Training Acc 93.08 % AVG Validation Acc 73.39 %\n",
      "Split 4\n"
     ]
    },
    {
     "data": {
      "application/vnd.jupyter.widget-view+json": {
       "model_id": "d1d48ce61e37437c883bb16d86f1f4a0",
       "version_major": 2,
       "version_minor": 0
      },
      "text/plain": [
       "  0%|          | 0/100 [00:00<?, ?it/s]"
      ]
     },
     "metadata": {},
     "output_type": "display_data"
    },
    {
     "name": "stdout",
     "output_type": "stream",
     "text": [
      "Epoch:10/100 AVG Training Loss:0.673 AVG Validation Loss:0.677 AVG Training Acc 56.49 % AVG Validation Acc 43.15 %\n",
      "Epoch:20/100 AVG Training Loss:0.592 AVG Validation Loss:0.678 AVG Training Acc 72.69 % AVG Validation Acc 53.90 %\n",
      "Epoch:30/100 AVG Training Loss:0.455 AVG Validation Loss:0.709 AVG Training Acc 80.21 % AVG Validation Acc 65.99 %\n",
      "Epoch:40/100 AVG Training Loss:0.344 AVG Validation Loss:0.576 AVG Training Acc 84.77 % AVG Validation Acc 74.19 %\n",
      "Epoch:50/100 AVG Training Loss:0.303 AVG Validation Loss:0.582 AVG Training Acc 86.25 % AVG Validation Acc 74.87 %\n",
      "Epoch    59: reducing learning rate of group 0 to 3.3000e-04.\n",
      "Epoch:60/100 AVG Training Loss:0.281 AVG Validation Loss:0.590 AVG Training Acc 86.84 % AVG Validation Acc 78.23 %\n",
      "Epoch:70/100 AVG Training Loss:0.231 AVG Validation Loss:0.650 AVG Training Acc 88.95 % AVG Validation Acc 77.02 %\n",
      "Epoch:80/100 AVG Training Loss:0.203 AVG Validation Loss:0.755 AVG Training Acc 90.51 % AVG Validation Acc 75.67 %\n",
      "Epoch:90/100 AVG Training Loss:0.187 AVG Validation Loss:0.802 AVG Training Acc 91.24 % AVG Validation Acc 75.27 %\n",
      "Epoch    95: reducing learning rate of group 0 to 1.0890e-04.\n",
      "Epoch:100/100 AVG Training Loss:0.161 AVG Validation Loss:0.892 AVG Training Acc 92.17 % AVG Validation Acc 74.73 %\n",
      "Split 5\n"
     ]
    },
    {
     "data": {
      "application/vnd.jupyter.widget-view+json": {
       "model_id": "1fcaaf6ad05741ef8d574f4d671e7d31",
       "version_major": 2,
       "version_minor": 0
      },
      "text/plain": [
       "  0%|          | 0/100 [00:00<?, ?it/s]"
      ]
     },
     "metadata": {},
     "output_type": "display_data"
    },
    {
     "name": "stdout",
     "output_type": "stream",
     "text": [
      "Epoch:10/100 AVG Training Loss:0.938 AVG Validation Loss:0.787 AVG Training Acc 38.01 % AVG Validation Acc 21.10 %\n",
      "Epoch:20/100 AVG Training Loss:0.552 AVG Validation Loss:0.654 AVG Training Acc 75.85 % AVG Validation Acc 61.56 %\n",
      "Epoch:30/100 AVG Training Loss:0.377 AVG Validation Loss:0.579 AVG Training Acc 83.75 % AVG Validation Acc 75.00 %\n",
      "Epoch:40/100 AVG Training Loss:0.345 AVG Validation Loss:0.566 AVG Training Acc 85.29 % AVG Validation Acc 76.34 %\n",
      "Epoch:50/100 AVG Training Loss:0.319 AVG Validation Loss:0.575 AVG Training Acc 86.22 % AVG Validation Acc 75.13 %\n",
      "Epoch    54: reducing learning rate of group 0 to 3.3000e-04.\n",
      "Epoch:60/100 AVG Training Loss:0.288 AVG Validation Loss:0.548 AVG Training Acc 87.03 % AVG Validation Acc 75.27 %\n",
      "Epoch:70/100 AVG Training Loss:0.257 AVG Validation Loss:0.593 AVG Training Acc 88.19 % AVG Validation Acc 73.79 %\n",
      "Epoch:80/100 AVG Training Loss:0.220 AVG Validation Loss:0.684 AVG Training Acc 89.81 % AVG Validation Acc 70.30 %\n",
      "Epoch:90/100 AVG Training Loss:0.194 AVG Validation Loss:0.776 AVG Training Acc 91.10 % AVG Validation Acc 70.03 %\n",
      "Epoch    90: reducing learning rate of group 0 to 1.0890e-04.\n",
      "Epoch:100/100 AVG Training Loss:0.175 AVG Validation Loss:0.828 AVG Training Acc 92.06 % AVG Validation Acc 71.24 %\n",
      "Split 6\n"
     ]
    },
    {
     "data": {
      "application/vnd.jupyter.widget-view+json": {
       "model_id": "81b76e88c2844d0badc372ab47589eed",
       "version_major": 2,
       "version_minor": 0
      },
      "text/plain": [
       "  0%|          | 0/100 [00:00<?, ?it/s]"
      ]
     },
     "metadata": {},
     "output_type": "display_data"
    },
    {
     "name": "stdout",
     "output_type": "stream",
     "text": [
      "Epoch:10/100 AVG Training Loss:0.688 AVG Validation Loss:0.695 AVG Training Acc 50.96 % AVG Validation Acc 39.78 %\n",
      "Epoch:20/100 AVG Training Loss:0.560 AVG Validation Loss:1.537 AVG Training Acc 73.23 % AVG Validation Acc 20.56 %\n",
      "Epoch    22: reducing learning rate of group 0 to 3.3000e-04.\n",
      "Epoch:30/100 AVG Training Loss:0.684 AVG Validation Loss:0.687 AVG Training Acc 51.03 % AVG Validation Acc 41.67 %\n",
      "Epoch:40/100 AVG Training Loss:0.591 AVG Validation Loss:0.634 AVG Training Acc 71.30 % AVG Validation Acc 56.85 %\n",
      "Epoch:50/100 AVG Training Loss:0.537 AVG Validation Loss:0.644 AVG Training Acc 76.21 % AVG Validation Acc 63.98 %\n",
      "Epoch    58: reducing learning rate of group 0 to 1.0890e-04.\n",
      "Epoch:60/100 AVG Training Loss:0.424 AVG Validation Loss:0.585 AVG Training Acc 81.73 % AVG Validation Acc 72.58 %\n",
      "Epoch:70/100 AVG Training Loss:0.383 AVG Validation Loss:0.591 AVG Training Acc 83.03 % AVG Validation Acc 73.39 %\n",
      "Epoch:80/100 AVG Training Loss:0.359 AVG Validation Loss:0.587 AVG Training Acc 84.31 % AVG Validation Acc 73.52 %\n",
      "Epoch:90/100 AVG Training Loss:0.347 AVG Validation Loss:0.576 AVG Training Acc 84.65 % AVG Validation Acc 74.73 %\n",
      "Epoch:100/100 AVG Training Loss:0.335 AVG Validation Loss:0.577 AVG Training Acc 85.21 % AVG Validation Acc 75.27 %\n",
      "Split 7\n"
     ]
    },
    {
     "data": {
      "application/vnd.jupyter.widget-view+json": {
       "model_id": "ca2a98699e04439bba7e84a0e753fd57",
       "version_major": 2,
       "version_minor": 0
      },
      "text/plain": [
       "  0%|          | 0/100 [00:00<?, ?it/s]"
      ]
     },
     "metadata": {},
     "output_type": "display_data"
    },
    {
     "name": "stdout",
     "output_type": "stream",
     "text": [
      "Epoch:10/100 AVG Training Loss:0.900 AVG Validation Loss:0.763 AVG Training Acc 41.40 % AVG Validation Acc 21.67 %\n",
      "Epoch:20/100 AVG Training Loss:0.530 AVG Validation Loss:0.740 AVG Training Acc 75.92 % AVG Validation Acc 61.37 %\n",
      "Epoch:30/100 AVG Training Loss:0.370 AVG Validation Loss:0.642 AVG Training Acc 83.45 % AVG Validation Acc 73.89 %\n",
      "Epoch:40/100 AVG Training Loss:0.336 AVG Validation Loss:0.570 AVG Training Acc 84.93 % AVG Validation Acc 76.72 %\n",
      "Epoch    49: reducing learning rate of group 0 to 3.3000e-04.\n",
      "Epoch:50/100 AVG Training Loss:0.300 AVG Validation Loss:0.556 AVG Training Acc 85.80 % AVG Validation Acc 78.20 %\n",
      "Epoch:60/100 AVG Training Loss:0.251 AVG Validation Loss:0.593 AVG Training Acc 87.72 % AVG Validation Acc 77.52 %\n",
      "Epoch:70/100 AVG Training Loss:0.221 AVG Validation Loss:0.758 AVG Training Acc 88.81 % AVG Validation Acc 73.76 %\n",
      "Epoch:80/100 AVG Training Loss:0.190 AVG Validation Loss:0.872 AVG Training Acc 90.42 % AVG Validation Acc 72.27 %\n",
      "Epoch    85: reducing learning rate of group 0 to 1.0890e-04.\n",
      "Epoch:90/100 AVG Training Loss:0.178 AVG Validation Loss:0.865 AVG Training Acc 91.07 % AVG Validation Acc 74.56 %\n",
      "Epoch:100/100 AVG Training Loss:0.165 AVG Validation Loss:0.925 AVG Training Acc 91.80 % AVG Validation Acc 74.29 %\n",
      "Split 8\n"
     ]
    },
    {
     "data": {
      "application/vnd.jupyter.widget-view+json": {
       "model_id": "da41e02fe4e042ecaaa7fef7b7d67510",
       "version_major": 2,
       "version_minor": 0
      },
      "text/plain": [
       "  0%|          | 0/100 [00:00<?, ?it/s]"
      ]
     },
     "metadata": {},
     "output_type": "display_data"
    },
    {
     "name": "stdout",
     "output_type": "stream",
     "text": [
      "Epoch:10/100 AVG Training Loss:0.694 AVG Validation Loss:0.708 AVG Training Acc 50.03 % AVG Validation Acc 34.32 %\n",
      "Epoch:20/100 AVG Training Loss:0.622 AVG Validation Loss:0.633 AVG Training Acc 69.07 % AVG Validation Acc 55.45 %\n",
      "Epoch:30/100 AVG Training Loss:0.435 AVG Validation Loss:0.602 AVG Training Acc 81.03 % AVG Validation Acc 74.43 %\n",
      "Epoch:40/100 AVG Training Loss:0.368 AVG Validation Loss:0.562 AVG Training Acc 83.99 % AVG Validation Acc 76.85 %\n",
      "Epoch:50/100 AVG Training Loss:0.343 AVG Validation Loss:0.545 AVG Training Acc 85.14 % AVG Validation Acc 77.66 %\n",
      "Epoch:60/100 AVG Training Loss:0.320 AVG Validation Loss:0.553 AVG Training Acc 85.74 % AVG Validation Acc 76.18 %\n",
      "Epoch:70/100 AVG Training Loss:0.281 AVG Validation Loss:0.544 AVG Training Acc 87.07 % AVG Validation Acc 75.24 %\n",
      "Epoch    74: reducing learning rate of group 0 to 3.3000e-04.\n",
      "Epoch:80/100 AVG Training Loss:0.246 AVG Validation Loss:0.519 AVG Training Acc 88.49 % AVG Validation Acc 76.58 %\n",
      "Epoch:90/100 AVG Training Loss:0.217 AVG Validation Loss:0.580 AVG Training Acc 89.73 % AVG Validation Acc 76.04 %\n",
      "Epoch:100/100 AVG Training Loss:0.195 AVG Validation Loss:0.637 AVG Training Acc 90.66 % AVG Validation Acc 73.22 %\n",
      "Split 9\n"
     ]
    },
    {
     "data": {
      "application/vnd.jupyter.widget-view+json": {
       "model_id": "839dd4b70959435fa36c39d9b43252ae",
       "version_major": 2,
       "version_minor": 0
      },
      "text/plain": [
       "  0%|          | 0/100 [00:00<?, ?it/s]"
      ]
     },
     "metadata": {},
     "output_type": "display_data"
    },
    {
     "name": "stdout",
     "output_type": "stream",
     "text": [
      "Epoch:10/100 AVG Training Loss:0.887 AVG Validation Loss:0.797 AVG Training Acc 39.62 % AVG Validation Acc 20.19 %\n",
      "Epoch:20/100 AVG Training Loss:0.587 AVG Validation Loss:0.655 AVG Training Acc 73.83 % AVG Validation Acc 58.28 %\n",
      "Epoch:30/100 AVG Training Loss:0.458 AVG Validation Loss:0.786 AVG Training Acc 79.77 % AVG Validation Acc 65.81 %\n",
      "Epoch:40/100 AVG Training Loss:0.346 AVG Validation Loss:0.575 AVG Training Acc 84.98 % AVG Validation Acc 75.50 %\n",
      "Epoch:50/100 AVG Training Loss:0.312 AVG Validation Loss:0.561 AVG Training Acc 86.07 % AVG Validation Acc 76.99 %\n",
      "Epoch:60/100 AVG Training Loss:0.285 AVG Validation Loss:0.569 AVG Training Acc 87.01 % AVG Validation Acc 74.70 %\n",
      "Epoch    65: reducing learning rate of group 0 to 3.3000e-04.\n",
      "Epoch:70/100 AVG Training Loss:0.241 AVG Validation Loss:0.553 AVG Training Acc 88.32 % AVG Validation Acc 77.93 %\n",
      "Epoch:80/100 AVG Training Loss:0.205 AVG Validation Loss:0.638 AVG Training Acc 89.74 % AVG Validation Acc 78.33 %\n",
      "Epoch:90/100 AVG Training Loss:0.177 AVG Validation Loss:0.665 AVG Training Acc 91.29 % AVG Validation Acc 76.58 %\n",
      "Epoch:100/100 AVG Training Loss:0.156 AVG Validation Loss:0.778 AVG Training Acc 92.27 % AVG Validation Acc 75.50 %\n",
      "Split 10\n"
     ]
    },
    {
     "data": {
      "application/vnd.jupyter.widget-view+json": {
       "model_id": "8b31809bbeae4a1395529c6b0a33e175",
       "version_major": 2,
       "version_minor": 0
      },
      "text/plain": [
       "  0%|          | 0/100 [00:00<?, ?it/s]"
      ]
     },
     "metadata": {},
     "output_type": "display_data"
    },
    {
     "name": "stdout",
     "output_type": "stream",
     "text": [
      "Epoch:10/100 AVG Training Loss:0.744 AVG Validation Loss:0.751 AVG Training Acc 37.60 % AVG Validation Acc 22.34 %\n",
      "Epoch:20/100 AVG Training Loss:0.564 AVG Validation Loss:0.673 AVG Training Acc 74.91 % AVG Validation Acc 58.82 %\n",
      "Epoch:30/100 AVG Training Loss:0.403 AVG Validation Loss:0.632 AVG Training Acc 81.84 % AVG Validation Acc 71.33 %\n",
      "Epoch:40/100 AVG Training Loss:0.343 AVG Validation Loss:0.573 AVG Training Acc 84.94 % AVG Validation Acc 75.50 %\n",
      "Epoch:50/100 AVG Training Loss:0.313 AVG Validation Loss:0.561 AVG Training Acc 86.10 % AVG Validation Acc 76.18 %\n",
      "Epoch:60/100 AVG Training Loss:0.280 AVG Validation Loss:0.576 AVG Training Acc 87.29 % AVG Validation Acc 75.91 %\n",
      "Epoch    63: reducing learning rate of group 0 to 3.3000e-04.\n",
      "Epoch:70/100 AVG Training Loss:0.240 AVG Validation Loss:0.613 AVG Training Acc 88.96 % AVG Validation Acc 76.45 %\n",
      "Epoch:80/100 AVG Training Loss:0.206 AVG Validation Loss:0.728 AVG Training Acc 90.45 % AVG Validation Acc 74.02 %\n"
     ]
    }
   ],
   "source": [
    "#create main dict results for 25 days\n",
    "target_df_dict_25 = {}\n",
    "\n",
    "for k in tqdm(targets):\n",
    "    print(k)\n",
    "    \n",
    "    #create main dict results\n",
    "    \n",
    "    target_df_dict_25[f'{(k)}'] = {}\n",
    "    y = df_targets[k].values\n",
    "\n",
    "    #create a list containing one value per row\n",
    "    all_indices = list(range(len(df_targets)))\n",
    "    \n",
    "    #using train test split to later apply the rule accordingly\n",
    "    train_ind, test_ind = train_test_split(all_indices, test_size=0.2, \n",
    "                                           random_state = 5, stratify = y)\n",
    "    \n",
    "    #applied train_test_split rules accordingly\n",
    "    X_train_val = nd_array_100[train_ind,:26,:]\n",
    "    y_train_val = y[train_ind]\n",
    "    \n",
    "    X_test = nd_array_100[test_ind, :26, :]\n",
    "    y_test = y[test_ind]    \n",
    "        \n",
    "    for repeat in range(replicas):\n",
    "        print('Replica {}'.format(repeat+1))\n",
    "        #reset \"best accuracy for treshold i and target k\"\n",
    "        best_f1_score = 0\n",
    "        foldperf={}\n",
    "        \n",
    "        #make train_val split\n",
    "        for fold, (train_idx,val_idx) in tqdm(enumerate(splits.split(X_train_val, y_train_val))):\n",
    "            print('Split {}'.format(fold + 1))\n",
    "            \n",
    "            #make split between train and Val\n",
    "            X_train, y_train = X_train_val[train_idx], y_train_val[train_idx]\n",
    "            X_val, y_val = X_train_val[val_idx], y_train_val[val_idx]\n",
    "            \n",
    "            #scaling requires one scaler per channel (feature)\n",
    "            scalers = {}\n",
    "            for feature in range(X_train.shape[2]):\n",
    "                           \n",
    "                scalers[feature] = RobustScaler()\n",
    "                X_train[:, :, feature] = scalers[feature].fit_transform(X_train[:, :, feature]) \n",
    "\n",
    "            for col in range(X_val.shape[2]):\n",
    "                X_val[:, :, feature] = scalers[feature].transform(X_val[:, :, feature]) \n",
    "            \n",
    "            #need to oversample - will use smote\n",
    "            #will also require oneoversampler per channel (feature)\n",
    "            samplers = {}\n",
    "            \n",
    "            #create new nd_array with the correct size - 2 * majority class \n",
    "            X_train_res = np.zeros(shape = (2* (int(sc.stats.mode(y_train)[1])), X_train.shape[1], X_train.shape[2]))\n",
    "            for feature in range(X_train.shape[2]):\n",
    "                           \n",
    "                samplers[feature] = SMOTE()\n",
    "                X_train_res[:, :, feature], y_train_res = samplers[feature].fit_resample(X_train[:, :, feature], y_train) \n",
    "            \n",
    "            #second, convert everything to pytorch tensor - we will convert to tensor dataset and \n",
    "            X_train_tensors = torch.from_numpy(X_train_res)\n",
    "            X_val_tensors = torch.from_numpy(X_val)\n",
    "            \n",
    "            #convert X tensors to format FloatTensor\n",
    "            X_train_tensors = X_train_tensors.type(torch.cuda.FloatTensor)\n",
    "            X_val_tensors = X_val_tensors.type(torch.cuda.FloatTensor)\n",
    "            \n",
    "            #create y_tensor\n",
    "            y_train_tensors = torch.from_numpy(y_train_res)\n",
    "            y_val_tensors = torch.from_numpy(y_val)\n",
    "            \n",
    "            #convert y tensors to format longtensor\n",
    "            y_train_tensors = y_train_tensors.type(torch.cuda.FloatTensor)\n",
    "            y_val_tensors = y_val_tensors.type(torch.cuda.FloatTensor)\n",
    "            \n",
    "            #create Tensor Datasets and dataloaders for both Train and Val\n",
    "            train_dataset = TensorDataset(X_train_tensors, y_train_tensors)\n",
    "            val_dataset = TensorDataset(X_val_tensors, y_val_tensors)\n",
    "            train_loader = DataLoader(train_dataset, batch_size=batch_size)\n",
    "            val_loader = DataLoader(val_dataset, batch_size=batch_size)\n",
    "    \n",
    "            #creates new model for each \n",
    "            model = LSTM_Uni(num_classes, input_size, hidden_size, num_layers, X_train_tensors.shape[1], dropout).to('cuda') #our lstm class\n",
    "            optimizer = torch.optim.Adam(model.parameters(), lr=learning_rate) \n",
    "            scheduler = ReduceLROnPlateau(optimizer, \n",
    "                                 'min', \n",
    "                                 patience = 15,\n",
    "                                 cooldown = 20,\n",
    "                                threshold=0.00001,\n",
    "                                factor = 0.33,\n",
    "                                verbose = True)\n",
    "    \n",
    "            history = {'train_loss': [], 'val_loss': [],'train_acc':[],'val_acc':[], 'precision': [],\n",
    "                      'recall' : [], 'auroc': [], 'f1_score' : []}\n",
    "\n",
    "            for epoch in tqdm(range(num_epochs)):\n",
    "                train_loss, train_correct=train_epoch(model,train_loader,criterion,optimizer)\n",
    "                val_loss, val_correct, precision, recall, auroc, f1 = valid_epoch(model,val_loader,criterion)\n",
    "\n",
    "                train_loss = train_loss / len(train_loader.sampler)\n",
    "                train_acc = train_correct / len(train_loader.sampler) * 100\n",
    "                val_loss = val_loss / len(val_loader.sampler)\n",
    "                val_acc = val_correct / len(val_loader.sampler) * 100\n",
    "        \n",
    "        \n",
    "                if (epoch+1) % 10 == 0: \n",
    "                 print(\"Epoch:{}/{} AVG Training Loss:{:.3f} AVG Validation Loss:{:.3f} AVG Training Acc {:.2f} % AVG Validation Acc {:.2f} %\".format(epoch + 1,\n",
    "                                                                                                             num_epochs,\n",
    "                                                                                                             train_loss,\n",
    "                                                                                                             val_loss,\n",
    "                                                                                                             train_acc,\n",
    "                                                                                                             val_acc))\n",
    "                history['train_loss'].append(train_loss)\n",
    "                history['val_loss'].append(val_loss)\n",
    "                history['train_acc'].append(train_acc)\n",
    "                history['val_acc'].append(val_acc)\n",
    "                history['precision'].append(precision)\n",
    "                history['recall'].append(recall)\n",
    "                history['auroc'].append(auroc)\n",
    "                history['f1_score'].append(f1)\n",
    "                scheduler.step(val_loss)\n",
    "    \n",
    "                if f1 > best_f1_score:\n",
    "            \n",
    "                #replace best accuracy and save best model\n",
    "                    print(f'New Best F1_score found: {f1*100:.2f}%\\nEpoch: {epoch + 1}\\n', \n",
    "                         f'Accuracy: {val_acc:.2f}\\nAUC: {auroc*100:.2f}')\n",
    "                    best_f1_score = f1\n",
    "                    best = deepcopy(model)\n",
    "                    curr_epoch = epoch + 1\n",
    "                    \n",
    "            #store fold performance\n",
    "            foldperf['fold{}'.format(fold+1)] = history\n",
    "    \n",
    "        #create dict to store fold performance\n",
    "        target_df_dict_25[f'{(k)}']['repeat{}'.format(repeat + 1)] = foldperf"
   ]
  },
  {
   "cell_type": "code",
   "execution_count": null,
   "id": "bdcb9f60",
   "metadata": {},
   "outputs": [],
   "source": [
    "#for each target and number of replicas\n",
    "results_25 = {}\n",
    "\n",
    "total_results_25 = pd.DataFrame(columns =['Target', 'Repeat', 'Fold', 'Accuracy', 'Precision_(Binary)', 'Recall_(Binary)', \n",
    "                                       'F1-score_(Binary)', 'AUC'])\n",
    "\n",
    "for i in targets:\n",
    "    results_25[i] = {}\n",
    "    for k in range(1, replicas + 1):\n",
    "        results_25[i][f'repeat{k}'] = pd.DataFrame.from_dict(target_df_dict_25[i][f'repeat{k}'], orient = 'index') # convert dict to dataframe\n",
    "        \n",
    "        #explode to get eacxh epoch as a row\n",
    "        results_25[i][f'repeat{k}'] = results_25[i][f'repeat{k}'].explode(list(results_25[i][f'repeat{k}'].columns))\n",
    "        results_25[i][f'repeat{k}']['fold'] = results_25[i][f'repeat{k}'].index\n",
    "        results_25[i][f'repeat{k}'].reset_index(drop = True, inplace = True)\n",
    "        \n",
    "        #obtain the result that was obtained at the last possible choice\n",
    "        placeholder_df = results_25[i][f'repeat{k}'].groupby('fold')[['val_acc', 'precision',\n",
    "                                                                      'recall', 'f1_score', 'auroc']].last().reset_index()\n",
    "        \n",
    "        #making adjustments to concat with total_results properly\n",
    "        placeholder_df.columns = ['Fold', 'Accuracy', 'Precision_(Binary)', 'Recall_(Binary)', 'F1-score_(Binary)', 'AUC']\n",
    "        placeholder_df = placeholder_df.reindex(columns = total_results_25.columns)\n",
    "        \n",
    "        #fill new missing values\n",
    "        placeholder_df['Target'], placeholder_df['Repeat'] = i, k\n",
    "        total_results_25 = total_results_25.append(placeholder_df, ignore_index = True)"
   ]
  },
  {
   "cell_type": "markdown",
   "id": "303f528c",
   "metadata": {},
   "source": [
    "### Test on data - The first 50 days\n",
    "\n",
    "Same hyper-parameters."
   ]
  },
  {
   "cell_type": "code",
   "execution_count": null,
   "id": "f03274f7",
   "metadata": {},
   "outputs": [],
   "source": [
    "#create main dict results for 50 days\n",
    "target_df_dict_50 = {}\n",
    "\n",
    "for k in tqdm(targets):\n",
    "    print(k)\n",
    "    \n",
    "    #create main dict results\n",
    "    \n",
    "    target_df_dict_50[f'{(k)}'] = {}\n",
    "    y = df_targets[k].values\n",
    "\n",
    "    #create a list containing one value per row\n",
    "    all_indices = list(range(len(df_targets)))\n",
    "    \n",
    "    #using train test split to later apply the rule accordingly\n",
    "    train_ind, test_ind = train_test_split(all_indices, test_size=0.2, \n",
    "                                           random_state = 5, stratify = y)\n",
    "    \n",
    "    #applied train_test_split rules accordingly\n",
    "    X_train_val = nd_array_100[train_ind,:51,:]\n",
    "    y_train_val = y[train_ind]\n",
    "    \n",
    "    X_test = nd_array_100[test_ind, :51, :]\n",
    "    y_test = y[test_ind]    \n",
    "        \n",
    "    #reset \"best accuracy for treshold i and target k\"     \n",
    "    for repeat in range(replicas):\n",
    "        print('Replica {}'.format(repeat+1))\n",
    "        \n",
    "        foldperf={}\n",
    "        best_f1_score = 0\n",
    "        \n",
    "        #make train_val split\n",
    "        for fold, (train_idx,val_idx) in tqdm(enumerate(splits.split(X_train_val, y_train_val))):\n",
    "            print('Split {}'.format(fold + 1))\n",
    "            \n",
    "            #make split between train and Val\n",
    "            X_train, y_train = X_train_val[train_idx], y_train_val[train_idx]\n",
    "            X_val, y_val = X_train_val[val_idx], y_train_val[val_idx]\n",
    "            \n",
    "            #scaling requires one scaler per channel (feature)\n",
    "            scalers = {}\n",
    "            for feature in range(X_train.shape[2]):\n",
    "                           \n",
    "                scalers[feature] = RobustScaler()\n",
    "                X_train[:, :, feature] = scalers[feature].fit_transform(X_train[:, :, feature]) \n",
    "\n",
    "            for col in range(X_val.shape[2]):\n",
    "                X_val[:, :, feature] = scalers[feature].transform(X_val[:, :, feature]) \n",
    "            \n",
    "            #need to oversample - will use smote\n",
    "            #will also require oneoversampler per channel (feature)\n",
    "            samplers = {}\n",
    "            \n",
    "            #create new nd_array with the correct size - 2 * majority class \n",
    "            X_train_res = np.zeros(shape = (2* (int(sc.stats.mode(y_train)[1])), X_train.shape[1], X_train.shape[2]))\n",
    "            for feature in range(X_train.shape[2]):\n",
    "                           \n",
    "                samplers[feature] = SMOTE()\n",
    "                X_train_res[:, :, feature], y_train_res = samplers[feature].fit_resample(X_train[:, :, feature], y_train) \n",
    "            \n",
    "            #second, convert everything to pytorch tensor - we will convert to tensor dataset and \n",
    "            X_train_tensors = torch.from_numpy(X_train_res)\n",
    "            X_val_tensors = torch.from_numpy(X_val)\n",
    "            \n",
    "            #convert X tensors to format FloatTensor\n",
    "            X_train_tensors = X_train_tensors.type(torch.cuda.FloatTensor)\n",
    "            X_val_tensors = X_val_tensors.type(torch.cuda.FloatTensor)\n",
    "            \n",
    "            #create y_tensor\n",
    "            y_train_tensors = torch.from_numpy(y_train_res)\n",
    "            y_val_tensors = torch.from_numpy(y_val)\n",
    "            \n",
    "            #convert y tensors to format longtensor\n",
    "            y_train_tensors = y_train_tensors.type(torch.cuda.FloatTensor)\n",
    "            y_val_tensors = y_val_tensors.type(torch.cuda.FloatTensor)\n",
    "            \n",
    "            #create Tensor Datasets and dataloaders for both Train and Val\n",
    "            train_dataset = TensorDataset(X_train_tensors, y_train_tensors)\n",
    "            val_dataset = TensorDataset(X_val_tensors, y_val_tensors)\n",
    "            train_loader = DataLoader(train_dataset, batch_size=batch_size)\n",
    "            val_loader = DataLoader(val_dataset, batch_size=batch_size)\n",
    "    \n",
    "            #creates new model for each \n",
    "            model = LSTM_Uni(num_classes, input_size, hidden_size, num_layers, X_train_tensors.shape[1], dropout).to('cuda') #our lstm class\n",
    "            optimizer = torch.optim.Adam(model.parameters(), lr=learning_rate) \n",
    "            scheduler = ReduceLROnPlateau(optimizer, \n",
    "                                 'min', \n",
    "                                 patience = 15,\n",
    "                                 cooldown = 20,\n",
    "                                threshold=0.00001,\n",
    "                                factor = 0.33,\n",
    "                                verbose = True)\n",
    "    \n",
    "            history = {'train_loss': [], 'val_loss': [],'train_acc':[],'val_acc':[], 'precision': [],\n",
    "                      'recall' : [], 'auroc': [], 'f1_score' : []}\n",
    "\n",
    "            for epoch in tqdm(range(num_epochs)):\n",
    "                train_loss, train_correct=train_epoch(model,train_loader,criterion,optimizer)\n",
    "                val_loss, val_correct, precision, recall, auroc, f1 = valid_epoch(model,val_loader,criterion)\n",
    "\n",
    "                train_loss = train_loss / len(train_loader.sampler)\n",
    "                train_acc = train_correct / len(train_loader.sampler) * 100\n",
    "                val_loss = val_loss / len(val_loader.sampler)\n",
    "                val_acc = val_correct / len(val_loader.sampler) * 100\n",
    "        \n",
    "        \n",
    "                if (epoch+1) % 10 == 0: \n",
    "                 print(\"Epoch:{}/{} AVG Training Loss:{:.3f} AVG Validation Loss:{:.3f} AVG Training Acc {:.2f} % AVG Validation Acc {:.2f} %\".format(epoch + 1,\n",
    "                                                                                                             num_epochs,\n",
    "                                                                                                             train_loss,\n",
    "                                                                                                             val_loss,\n",
    "                                                                                                             train_acc,\n",
    "                                                                                                             val_acc))\n",
    "                history['train_loss'].append(train_loss)\n",
    "                history['val_loss'].append(val_loss)\n",
    "                history['train_acc'].append(train_acc)\n",
    "                history['val_acc'].append(val_acc)\n",
    "                history['precision'].append(precision)\n",
    "                history['recall'].append(recall)\n",
    "                history['auroc'].append(auroc)\n",
    "                history['f1_score'].append(f1)\n",
    "                scheduler.step(val_loss)\n",
    "    \n",
    "                if f1 > best_f1_score:\n",
    "            \n",
    "                #replace best accuracy and save best model\n",
    "                    print(f'New Best F1_score found: {f1*100:.2f}%\\nEpoch: {epoch + 1}\\n', \n",
    "                         f'Accuracy: {val_acc:.2f}\\nAUC: {auroc*100:.2f}')\n",
    "                    best_f1_score = f1\n",
    "                    best = deepcopy(model)\n",
    "                    curr_epoch = epoch + 1\n",
    "                    \n",
    "            #store fold performance\n",
    "            foldperf['fold{}'.format(fold+1)] = history\n",
    "    \n",
    "        #create dict to store fold performance\n",
    "        target_df_dict_50[f'{(k)}']['repeat{}'.format(repeat + 1)] = foldperf"
   ]
  },
  {
   "cell_type": "code",
   "execution_count": null,
   "id": "26bbd70c",
   "metadata": {},
   "outputs": [],
   "source": [
    "#for each target and number of replicas\n",
    "results_50 = {}\n",
    "\n",
    "total_results_50 = pd.DataFrame(columns =['Target', 'Repeat', 'Fold', 'Accuracy', 'Precision_(Binary)', 'Recall_(Binary)', \n",
    "                                       'F1-score_(Binary)', 'AUC'])\n",
    "\n",
    "for i in targets:\n",
    "    results_50[i] = {}\n",
    "    for k in range(1, replicas + 1):\n",
    "        results_50[i][f'repeat{k}'] = pd.DataFrame.from_dict(target_df_dict_50[i][f'repeat{k}'], orient = 'index') # convert dict to dataframe\n",
    "        \n",
    "        #explode to get eacxh epoch as a row\n",
    "        results_50[i][f'repeat{k}'] = results_50[i][f'repeat{k}'].explode(list(results_50[i][f'repeat{k}'].columns))\n",
    "        results_50[i][f'repeat{k}']['fold'] = results_50[i][f'repeat{k}'].index\n",
    "        results_50[i][f'repeat{k}'].reset_index(drop = True, inplace = True)\n",
    "        \n",
    "        #obtain the result that was obtained at the last possible choice\n",
    "        placeholder_df = results_50[i][f'repeat{k}'].groupby('fold')[['val_acc', 'precision',\n",
    "                                                                      'recall', 'f1_score', 'auroc']].last().reset_index()\n",
    "        \n",
    "        #making adjustments to concat with total_results properly\n",
    "        placeholder_df.columns = ['Fold', 'Accuracy', 'Precision_(Binary)', 'Recall_(Binary)', 'F1-score_(Binary)', 'AUC']\n",
    "        placeholder_df = placeholder_df.reindex(columns = total_results_50.columns)\n",
    "        \n",
    "        #fill new missing values\n",
    "        placeholder_df['Target'], placeholder_df['Repeat'] = i, k\n",
    "        total_results_50 = total_results_50.append(placeholder_df, ignore_index = True)"
   ]
  },
  {
   "cell_type": "markdown",
   "id": "fed2e66d",
   "metadata": {},
   "source": [
    "### Test on data - The first 75 days\n",
    "\n",
    "Same hyper-parameters."
   ]
  },
  {
   "cell_type": "code",
   "execution_count": null,
   "id": "71c65679",
   "metadata": {},
   "outputs": [],
   "source": [
    "#create main dict results for 75 days\n",
    "target_df_dict_75 = {}\n",
    "\n",
    "for k in tqdm(targets):\n",
    "    print(k)\n",
    "    \n",
    "    #create main dict results\n",
    "    \n",
    "    target_df_dict_75[f'{(k)}'] = {}\n",
    "    y = df_targets[k].values\n",
    "\n",
    "    #create a list containing one value per row\n",
    "    all_indices = list(range(len(df_targets)))\n",
    "    \n",
    "    #using train test split to later apply the rule accordingly\n",
    "    train_ind, test_ind = train_test_split(all_indices, test_size=0.2, \n",
    "                                           random_state = 5, stratify = y)\n",
    "    \n",
    "    #applied train_test_split rules accordingly\n",
    "    X_train_val = nd_array_100[train_ind,:76,:]\n",
    "    y_train_val = y[train_ind]\n",
    "    \n",
    "    X_test = nd_array_100[test_ind, :76, :]\n",
    "    y_test = y[test_ind]    \n",
    "        \n",
    "    #reset \"best accuracy for treshold i and target k\"     \n",
    "    for repeat in range(replicas):\n",
    "        print('Replica {}'.format(repeat+1))\n",
    "        \n",
    "        foldperf={}\n",
    "        best_f1_score = 0\n",
    "        \n",
    "        #make train_val split\n",
    "        for fold, (train_idx,val_idx) in tqdm(enumerate(splits.split(X_train_val, y_train_val))):\n",
    "            print('Split {}'.format(fold + 1))\n",
    "            \n",
    "            #make split between train and Val\n",
    "            X_train, y_train = X_train_val[train_idx], y_train_val[train_idx]\n",
    "            X_val, y_val = X_train_val[val_idx], y_train_val[val_idx]\n",
    "            \n",
    "            #scaling requires one scaler per channel (feature)\n",
    "            scalers = {}\n",
    "            for feature in range(X_train.shape[2]):\n",
    "                           \n",
    "                scalers[feature] = RobustScaler()\n",
    "                X_train[:, :, feature] = scalers[feature].fit_transform(X_train[:, :, feature]) \n",
    "\n",
    "            for col in range(X_val.shape[2]):\n",
    "                X_val[:, :, feature] = scalers[feature].transform(X_val[:, :, feature]) \n",
    "            \n",
    "            #need to oversample - will use smote\n",
    "            #will also require oneoversampler per channel (feature)\n",
    "            samplers = {}\n",
    "            \n",
    "            #create new nd_array with the correct size - 2 * majority class \n",
    "            X_train_res = np.zeros(shape = (2* (int(sc.stats.mode(y_train)[1])), X_train.shape[1], X_train.shape[2]))\n",
    "            for feature in range(X_train.shape[2]):\n",
    "                           \n",
    "                samplers[feature] = SMOTE()\n",
    "                X_train_res[:, :, feature], y_train_res = samplers[feature].fit_resample(X_train[:, :, feature], y_train) \n",
    "            \n",
    "            #second, convert everything to pytorch tensor - we will convert to tensor dataset and \n",
    "            X_train_tensors = torch.from_numpy(X_train_res)\n",
    "            X_val_tensors = torch.from_numpy(X_val)\n",
    "            \n",
    "            #convert X tensors to format FloatTensor\n",
    "            X_train_tensors = X_train_tensors.type(torch.cuda.FloatTensor)\n",
    "            X_val_tensors = X_val_tensors.type(torch.cuda.FloatTensor)\n",
    "            \n",
    "            #create y_tensor\n",
    "            y_train_tensors = torch.from_numpy(y_train_res)\n",
    "            y_val_tensors = torch.from_numpy(y_val)\n",
    "            \n",
    "            #convert y tensors to format longtensor\n",
    "            y_train_tensors = y_train_tensors.type(torch.cuda.FloatTensor)\n",
    "            y_val_tensors = y_val_tensors.type(torch.cuda.FloatTensor)\n",
    "            \n",
    "            #create Tensor Datasets and dataloaders for both Train and Val\n",
    "            train_dataset = TensorDataset(X_train_tensors, y_train_tensors)\n",
    "            val_dataset = TensorDataset(X_val_tensors, y_val_tensors)\n",
    "            train_loader = DataLoader(train_dataset, batch_size=batch_size)\n",
    "            val_loader = DataLoader(val_dataset, batch_size=batch_size)\n",
    "    \n",
    "            #creates new model for each \n",
    "            model = LSTM_Uni(num_classes, input_size, hidden_size, num_layers, X_train_tensors.shape[1], dropout).to('cuda') #our lstm class\n",
    "            optimizer = torch.optim.Adam(model.parameters(), lr=learning_rate) \n",
    "            scheduler = ReduceLROnPlateau(optimizer, \n",
    "                                 'min', \n",
    "                                 patience = 15,\n",
    "                                 cooldown = 20,\n",
    "                                threshold=0.00001,\n",
    "                                factor = 0.33,\n",
    "                                verbose = True)\n",
    "    \n",
    "            history = {'train_loss': [], 'val_loss': [],'train_acc':[],'val_acc':[], 'precision': [],\n",
    "                      'recall' : [], 'auroc': [], 'f1_score' : []}\n",
    "\n",
    "            for epoch in tqdm(range(num_epochs)):\n",
    "                train_loss, train_correct=train_epoch(model,train_loader,criterion,optimizer)\n",
    "                val_loss, val_correct, precision, recall, auroc, f1 = valid_epoch(model,val_loader,criterion)\n",
    "\n",
    "                train_loss = train_loss / len(train_loader.sampler)\n",
    "                train_acc = train_correct / len(train_loader.sampler) * 100\n",
    "                val_loss = val_loss / len(val_loader.sampler)\n",
    "                val_acc = val_correct / len(val_loader.sampler) * 100\n",
    "        \n",
    "        \n",
    "                if (epoch+1) % 10 == 0: \n",
    "                 print(\"Epoch:{}/{} AVG Training Loss:{:.3f} AVG Validation Loss:{:.3f} AVG Training Acc {:.2f} % AVG Validation Acc {:.2f} %\".format(epoch + 1,\n",
    "                                                                                                             num_epochs,\n",
    "                                                                                                             train_loss,\n",
    "                                                                                                             val_loss,\n",
    "                                                                                                             train_acc,\n",
    "                                                                                                             val_acc))\n",
    "                history['train_loss'].append(train_loss)\n",
    "                history['val_loss'].append(val_loss)\n",
    "                history['train_acc'].append(train_acc)\n",
    "                history['val_acc'].append(val_acc)\n",
    "                history['precision'].append(precision)\n",
    "                history['recall'].append(recall)\n",
    "                history['auroc'].append(auroc)\n",
    "                history['f1_score'].append(f1)\n",
    "                scheduler.step(val_loss)\n",
    "    \n",
    "                if f1 > best_f1_score:\n",
    "            \n",
    "                #replace best accuracy and save best model\n",
    "                    print(f'New Best F1_score found: {f1*100:.2f}%\\nEpoch: {epoch + 1}\\n', \n",
    "                         f'Accuracy: {val_acc:.2f}\\nAUC: {auroc*100:.2f}')\n",
    "                    best_f1_score = f1\n",
    "                    best = deepcopy(model)\n",
    "                    curr_epoch = epoch + 1\n",
    "                    \n",
    "            #store fold performance\n",
    "            foldperf['fold{}'.format(fold+1)] = history\n",
    "    \n",
    "        #create dict to store fold performance\n",
    "        target_df_dict_75[f'{(k)}']['repeat{}'.format(repeat + 1)] = foldperf"
   ]
  },
  {
   "cell_type": "code",
   "execution_count": null,
   "id": "d9d9cf41",
   "metadata": {},
   "outputs": [],
   "source": [
    "#for each target and number of replicas\n",
    "results_75 = {}\n",
    "\n",
    "total_results_75 = pd.DataFrame(columns =['Target', 'Repeat', 'Fold', 'Accuracy', 'Precision_(Binary)', 'Recall_(Binary)', \n",
    "                                       'F1-score_(Binary)', 'AUC'])\n",
    "\n",
    "for i in targets:\n",
    "    results_75[i] = {}\n",
    "    for k in range(1, replicas + 1):\n",
    "        results_75[i][f'repeat{k}'] = pd.DataFrame.from_dict(target_df_dict_75[i][f'repeat{k}'], orient = 'index') # convert dict to dataframe\n",
    "        \n",
    "        #explode to get eacxh epoch as a row\n",
    "        results_75[i][f'repeat{k}'] = results_75[i][f'repeat{k}'].explode(list(results_75[i][f'repeat{k}'].columns))\n",
    "        results_75[i][f'repeat{k}']['fold'] = results_75[i][f'repeat{k}'].index\n",
    "        results_75[i][f'repeat{k}'].reset_index(drop = True, inplace = True)\n",
    "        \n",
    "        #obtain the result that was obtained at the last possible choice\n",
    "        placeholder_df = results_75[i][f'repeat{k}'].groupby('fold')[['val_acc', 'precision',\n",
    "                                                                      'recall', 'f1_score', 'auroc']].last().reset_index()\n",
    "        \n",
    "        #making adjustments to concat with total_results properly\n",
    "        placeholder_df.columns = ['Fold', 'Accuracy', 'Precision_(Binary)', 'Recall_(Binary)', 'F1-score_(Binary)', 'AUC']\n",
    "        placeholder_df = placeholder_df.reindex(columns = total_results_75.columns)\n",
    "        \n",
    "        #fill new missing values\n",
    "        placeholder_df['Target'], placeholder_df['Repeat'] = i, k\n",
    "        total_results_75 = total_results_75.append(placeholder_df, ignore_index = True)"
   ]
  },
  {
   "cell_type": "markdown",
   "id": "15d25a58",
   "metadata": {},
   "source": [
    "### Saving results"
   ]
  },
  {
   "cell_type": "code",
   "execution_count": null,
   "id": "98910c81",
   "metadata": {},
   "outputs": [],
   "source": [
    "#saving agregate results in Excel File\n",
    "with pd.ExcelWriter('../Data/Modeling Stage/Results/IMS/Clicks per day/model_1_results.xlsx') as writer:\n",
    "    total_results_25.to_excel(writer, sheet_name = 'total_results_25', index = False)\n",
    "    total_results_50.to_excel(writer, sheet_name = 'total_results_50', index = False)\n",
    "    total_results_75.to_excel(writer, sheet_name = 'total_results_75', index = False)\n",
    "    \n",
    "#saving raw_results in json file\n",
    "import json\n",
    "daily_clicks_raw_results = {'target_df_dict_25', \n",
    "               'target_df_dict_50', \n",
    "               'target_df_dict_75'}\n",
    "\n",
    "# e.g. file = './data.json' \n",
    "with open(\"../Data/Modeling Stage/Results/IMS/Clicks per day/model_1_raw_results.json\", 'w') as f: \n",
    "    json.dump(daily_clicks_raw_results, f,  indent=4)"
   ]
  }
 ],
 "metadata": {
  "kernelspec": {
   "display_name": "Python 3 (ipykernel)",
   "language": "python",
   "name": "python3"
  },
  "language_info": {
   "codemirror_mode": {
    "name": "ipython",
    "version": 3
   },
   "file_extension": ".py",
   "mimetype": "text/x-python",
   "name": "python",
   "nbconvert_exporter": "python",
   "pygments_lexer": "ipython3",
   "version": "3.8.11"
  }
 },
 "nbformat": 4,
 "nbformat_minor": 5
}
