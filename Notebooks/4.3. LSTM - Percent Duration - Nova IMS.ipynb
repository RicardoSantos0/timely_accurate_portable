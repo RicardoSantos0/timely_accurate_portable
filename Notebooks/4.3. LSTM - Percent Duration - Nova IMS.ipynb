{
 "cells": [
  {
   "cell_type": "markdown",
   "id": "84eda90e",
   "metadata": {},
   "source": [
    "### Thesis notebook 4.3. - NOVA IMS\n",
    "\n",
    "#### LSTM - Temporal data representation\n",
    "\n",
    "In this notebook, we will finally start our application of temporal representation using LSTMs and bi-directional LSTMs.\n",
    "The argument for the usage of Deep Learning stems from the fact that sequences themselves encode information that can be extracted using Recurrent Neural Networks and, more specifically, Long Short Term Memory Units.\n",
    "\n",
    "#### First Step: Setup a PyTorch environment that enables the use of GPU for training. \n",
    "\n",
    "The following cell wll confirm that the GPU will be the default device to use."
   ]
  },
  {
   "cell_type": "code",
   "execution_count": 1,
   "id": "4f27844c",
   "metadata": {},
   "outputs": [],
   "source": [
    "import torch\n",
    "import pycuda.driver as cuda\n",
    "\n",
    "cuda.init()\n",
    "## Get Id of default device\n",
    "torch.cuda.current_device()\n",
    "# 0\n",
    "cuda.Device(0).name() # '0' is the id of your GPU\n",
    "\n",
    "#set all tensors to gpu\n",
    "torch.set_default_tensor_type('torch.cuda.FloatTensor')"
   ]
  },
  {
   "cell_type": "markdown",
   "id": "0d95429e",
   "metadata": {},
   "source": [
    "#### Second Step: Import the relevant packages and declare global variables"
   ]
  },
  {
   "cell_type": "code",
   "execution_count": 2,
   "id": "e6c2d97f",
   "metadata": {},
   "outputs": [],
   "source": [
    "#import necessary modules/libraries\n",
    "import numpy as np\n",
    "import scipy\n",
    "import pandas as pd\n",
    "import datetime as dt\n",
    "import warnings\n",
    "import time\n",
    "\n",
    "#tqdm to monitor progress\n",
    "from tqdm.notebook import tqdm, trange\n",
    "tqdm.pandas(desc=\"Progress\")\n",
    "\n",
    "#time related features\n",
    "from datetime import timedelta\n",
    "from copy import copy, deepcopy\n",
    "\n",
    "#vizualization\n",
    "import matplotlib.pyplot as plt\n",
    "import seaborn as sns\n",
    "\n",
    "#imblearn, scalers, kfold and metrics\n",
    "from imblearn.over_sampling import SMOTE\n",
    "from sklearn.preprocessing import MinMaxScaler, StandardScaler, RobustScaler, QuantileTransformer,PowerTransformer\n",
    "from sklearn.model_selection import train_test_split, RepeatedKFold, StratifiedKFold, cross_val_score, GridSearchCV\n",
    "from sklearn.metrics import confusion_matrix, accuracy_score, precision_score, recall_score, f1_score, roc_auc_score, roc_curve, recall_score, classification_report, average_precision_score, precision_recall_curve\n",
    "\n",
    "#import torch related\n",
    "import torch.nn as nn\n",
    "from torch.nn import functional as F\n",
    "from torch.autograd import Variable \n",
    "from torch.utils.data import TensorDataset, DataLoader\n",
    "from torch.utils.data.sampler import SubsetRandomSampler\n",
    "\n",
    "\n",
    "#and optimizer of learning rate\n",
    "from torch.optim.lr_scheduler import ReduceLROnPlateau\n",
    "\n",
    "#import pytorch modules\n",
    "warnings.filterwarnings('ignore')"
   ]
  },
  {
   "cell_type": "code",
   "execution_count": 3,
   "id": "c6c3f1fb",
   "metadata": {},
   "outputs": [],
   "source": [
    "#global variables that may come in handy\n",
    "#course threshold sets the % duration that will be considered (1 = 100%)\n",
    "duration_threshold = [0.1, 0.25, 0.33, 0.5, 1]\n",
    "\n",
    "#colors for vizualizations\n",
    "nova_ims_colors = ['#BFD72F', '#5C666C']\n",
    "\n",
    "#standard color for student aggregates\n",
    "student_color = '#474838'\n",
    "\n",
    "#standard color for course aggragates\n",
    "course_color = '#1B3D2F'\n",
    "\n",
    "#standard continuous colormap\n",
    "standard_cmap = 'viridis_r'\n",
    "\n",
    "#Function designed to deal with multiindex and flatten it\n",
    "def flattenHierarchicalCol(col,sep = '_'):\n",
    "    '''converts multiindex columns into single index columns while retaining the hierarchical components'''\n",
    "    if not type(col) is tuple:\n",
    "        return col\n",
    "    else:\n",
    "        new_col = ''\n",
    "        for leveli,level in enumerate(col):\n",
    "            if not level == '':\n",
    "                if not leveli == 0:\n",
    "                    new_col += sep\n",
    "                new_col += level\n",
    "        return new_col\n",
    "    \n",
    "#number of replicas - number of repeats of stratified k fold - in this case 10\n",
    "replicas = 30\n",
    "\n",
    "#names to display on result figures\n",
    "date_names = {\n",
    "             'Date_threshold_10': '10% of Course Duration',   \n",
    "             'Date_threshold_25': '25% of Course Duration', \n",
    "             'Date_threshold_33': '33% of Course Duration', \n",
    "             'Date_threshold_50': '50% of Course Duration', \n",
    "             'Date_threshold_100':'100% of Course Duration', \n",
    "            }\n",
    "\n",
    "target_names = {\n",
    "                'exam_fail' : 'At risk - Exam Grade',\n",
    "                'final_fail' : 'At risk - Final Grade', \n",
    "                'exam_gifted' : 'High performer - Exam Grade', \n",
    "                'final_gifted': 'High performer - Final Grade'\n",
    "                }\n",
    "\n",
    "#targets\n",
    "targets = ['exam_fail' , 'final_fail' , 'exam_gifted' , 'final_gifted']\n",
    "temporal_columns = ['0 to 4%', '4 to 8%', '8 to 12%', '12 to 16%', '16 to 20%', '20 to 24%',\n",
    "       '24 to 28%', '28 to 32%', '32 to 36%', '36 to 40%', '40 to 44%',\n",
    "       '44 to 48%', '48 to 52%', '52 to 56%', '56 to 60%', '60 to 64%',\n",
    "       '64 to 68%', '68 to 72%', '72 to 76%', '76 to 80%', '80 to 84%',\n",
    "       '84 to 88%', '88 to 92%', '92 to 96%', '96 to 100%']"
   ]
  },
  {
   "cell_type": "markdown",
   "id": "60c5ddb6",
   "metadata": {},
   "source": [
    "#### Step 3: Import data and take a preliminary look at it "
   ]
  },
  {
   "cell_type": "code",
   "execution_count": 4,
   "id": "d8a23ea6",
   "metadata": {},
   "outputs": [],
   "source": [
    "#imports dataframes\n",
    "course_programs = pd.read_excel(\"../Data/Modeling Stage/Nova_IMS_Temporal_Datasets_25_splits.xlsx\", \n",
    "                                dtype = {\n",
    "                                    'course_encoding' : int,\n",
    "                                    'userid' : int},\n",
    "                               sheet_name = None)\n",
    "\n",
    "#save tables \n",
    "student_list = pd.read_csv('../Data/Modeling Stage/Nova_IMS_Filtered_targets.csv', \n",
    "                         dtype = {\n",
    "                                   'course_encoding': int,\n",
    "                                   'userid' : int,\n",
    "                                   })\n",
    "\n",
    "#drop unnamed 0 column\n",
    "for i in course_programs:\n",
    "        \n",
    "    #merge with the targets we calculated on the other \n",
    "    course_programs[i] = course_programs[i].merge(student_list, on = ['course_encoding', 'userid'], how = 'inner')\n",
    "    course_programs[i].drop(['Unnamed: 0', 'exam_mark', 'final_mark'], axis = 1, inplace = True)\n",
    "    \n",
    "    #convert results to object\n",
    "    course_programs[i]['course_encoding'], course_programs[i]['userid'] = course_programs[i]['course_encoding'].astype(object), course_programs[i]['userid'].astype(object)"
   ]
  },
  {
   "cell_type": "code",
   "execution_count": 5,
   "id": "7bc3c84f",
   "metadata": {},
   "outputs": [
    {
     "name": "stdout",
     "output_type": "stream",
     "text": [
      "<class 'pandas.core.frame.DataFrame'>\n",
      "Int64Index: 9296 entries, 0 to 9295\n",
      "Data columns (total 31 columns):\n",
      " #   Column           Non-Null Count  Dtype \n",
      "---  ------           --------------  ----- \n",
      " 0   course_encoding  9296 non-null   object\n",
      " 1   userid           9296 non-null   object\n",
      " 2   0 to 4%          9296 non-null   int64 \n",
      " 3   4 to 8%          9296 non-null   int64 \n",
      " 4   8 to 12%         9296 non-null   int64 \n",
      " 5   12 to 16%        9296 non-null   int64 \n",
      " 6   16 to 20%        9296 non-null   int64 \n",
      " 7   20 to 24%        9296 non-null   int64 \n",
      " 8   24 to 28%        9296 non-null   int64 \n",
      " 9   28 to 32%        9296 non-null   int64 \n",
      " 10  32 to 36%        9296 non-null   int64 \n",
      " 11  36 to 40%        9296 non-null   int64 \n",
      " 12  40 to 44%        9296 non-null   int64 \n",
      " 13  44 to 48%        9296 non-null   int64 \n",
      " 14  48 to 52%        9296 non-null   int64 \n",
      " 15  52 to 56%        9296 non-null   int64 \n",
      " 16  56 to 60%        9296 non-null   int64 \n",
      " 17  60 to 64%        9296 non-null   int64 \n",
      " 18  64 to 68%        9296 non-null   int64 \n",
      " 19  68 to 72%        9296 non-null   int64 \n",
      " 20  72 to 76%        9296 non-null   int64 \n",
      " 21  76 to 80%        9296 non-null   int64 \n",
      " 22  80 to 84%        9296 non-null   int64 \n",
      " 23  84 to 88%        9296 non-null   int64 \n",
      " 24  88 to 92%        9296 non-null   int64 \n",
      " 25  92 to 96%        9296 non-null   int64 \n",
      " 26  96 to 100%       9296 non-null   int64 \n",
      " 27  exam_fail        9296 non-null   int64 \n",
      " 28  final_fail       9296 non-null   int64 \n",
      " 29  exam_gifted      9296 non-null   int64 \n",
      " 30  final_gifted     9296 non-null   int64 \n",
      "dtypes: int64(29), object(2)\n",
      "memory usage: 2.3+ MB\n"
     ]
    }
   ],
   "source": [
    "course_programs['Date_threshold_100'].info()"
   ]
  },
  {
   "cell_type": "code",
   "execution_count": 6,
   "id": "c4a751ef",
   "metadata": {},
   "outputs": [
    {
     "data": {
      "text/html": [
       "<div>\n",
       "<style scoped>\n",
       "    .dataframe tbody tr th:only-of-type {\n",
       "        vertical-align: middle;\n",
       "    }\n",
       "\n",
       "    .dataframe tbody tr th {\n",
       "        vertical-align: top;\n",
       "    }\n",
       "\n",
       "    .dataframe thead th {\n",
       "        text-align: right;\n",
       "    }\n",
       "</style>\n",
       "<table border=\"1\" class=\"dataframe\">\n",
       "  <thead>\n",
       "    <tr style=\"text-align: right;\">\n",
       "      <th></th>\n",
       "      <th>course_encoding</th>\n",
       "      <th>userid</th>\n",
       "      <th>0 to 4%</th>\n",
       "      <th>4 to 8%</th>\n",
       "      <th>8 to 12%</th>\n",
       "      <th>12 to 16%</th>\n",
       "      <th>16 to 20%</th>\n",
       "      <th>20 to 24%</th>\n",
       "      <th>24 to 28%</th>\n",
       "      <th>28 to 32%</th>\n",
       "      <th>...</th>\n",
       "      <th>76 to 80%</th>\n",
       "      <th>80 to 84%</th>\n",
       "      <th>84 to 88%</th>\n",
       "      <th>88 to 92%</th>\n",
       "      <th>92 to 96%</th>\n",
       "      <th>96 to 100%</th>\n",
       "      <th>exam_fail</th>\n",
       "      <th>final_fail</th>\n",
       "      <th>exam_gifted</th>\n",
       "      <th>final_gifted</th>\n",
       "    </tr>\n",
       "  </thead>\n",
       "  <tbody>\n",
       "    <tr>\n",
       "      <th>count</th>\n",
       "      <td>9296.0</td>\n",
       "      <td>9296.0</td>\n",
       "      <td>9296.000000</td>\n",
       "      <td>9296.000000</td>\n",
       "      <td>9296.000000</td>\n",
       "      <td>9296.000000</td>\n",
       "      <td>9296.000000</td>\n",
       "      <td>9296.000000</td>\n",
       "      <td>9296.000000</td>\n",
       "      <td>9296.000000</td>\n",
       "      <td>...</td>\n",
       "      <td>9296.000000</td>\n",
       "      <td>9296.000000</td>\n",
       "      <td>9296.000000</td>\n",
       "      <td>9296.000000</td>\n",
       "      <td>9296.000000</td>\n",
       "      <td>9296.0</td>\n",
       "      <td>9296.000000</td>\n",
       "      <td>9296.000000</td>\n",
       "      <td>9296.000000</td>\n",
       "      <td>9296.000000</td>\n",
       "    </tr>\n",
       "    <tr>\n",
       "      <th>unique</th>\n",
       "      <td>138.0</td>\n",
       "      <td>1590.0</td>\n",
       "      <td>NaN</td>\n",
       "      <td>NaN</td>\n",
       "      <td>NaN</td>\n",
       "      <td>NaN</td>\n",
       "      <td>NaN</td>\n",
       "      <td>NaN</td>\n",
       "      <td>NaN</td>\n",
       "      <td>NaN</td>\n",
       "      <td>...</td>\n",
       "      <td>NaN</td>\n",
       "      <td>NaN</td>\n",
       "      <td>NaN</td>\n",
       "      <td>NaN</td>\n",
       "      <td>NaN</td>\n",
       "      <td>NaN</td>\n",
       "      <td>NaN</td>\n",
       "      <td>NaN</td>\n",
       "      <td>NaN</td>\n",
       "      <td>NaN</td>\n",
       "    </tr>\n",
       "    <tr>\n",
       "      <th>top</th>\n",
       "      <td>150.0</td>\n",
       "      <td>3178.0</td>\n",
       "      <td>NaN</td>\n",
       "      <td>NaN</td>\n",
       "      <td>NaN</td>\n",
       "      <td>NaN</td>\n",
       "      <td>NaN</td>\n",
       "      <td>NaN</td>\n",
       "      <td>NaN</td>\n",
       "      <td>NaN</td>\n",
       "      <td>...</td>\n",
       "      <td>NaN</td>\n",
       "      <td>NaN</td>\n",
       "      <td>NaN</td>\n",
       "      <td>NaN</td>\n",
       "      <td>NaN</td>\n",
       "      <td>NaN</td>\n",
       "      <td>NaN</td>\n",
       "      <td>NaN</td>\n",
       "      <td>NaN</td>\n",
       "      <td>NaN</td>\n",
       "    </tr>\n",
       "    <tr>\n",
       "      <th>freq</th>\n",
       "      <td>178.0</td>\n",
       "      <td>14.0</td>\n",
       "      <td>NaN</td>\n",
       "      <td>NaN</td>\n",
       "      <td>NaN</td>\n",
       "      <td>NaN</td>\n",
       "      <td>NaN</td>\n",
       "      <td>NaN</td>\n",
       "      <td>NaN</td>\n",
       "      <td>NaN</td>\n",
       "      <td>...</td>\n",
       "      <td>NaN</td>\n",
       "      <td>NaN</td>\n",
       "      <td>NaN</td>\n",
       "      <td>NaN</td>\n",
       "      <td>NaN</td>\n",
       "      <td>NaN</td>\n",
       "      <td>NaN</td>\n",
       "      <td>NaN</td>\n",
       "      <td>NaN</td>\n",
       "      <td>NaN</td>\n",
       "    </tr>\n",
       "    <tr>\n",
       "      <th>mean</th>\n",
       "      <td>NaN</td>\n",
       "      <td>NaN</td>\n",
       "      <td>1.081863</td>\n",
       "      <td>8.307874</td>\n",
       "      <td>10.752797</td>\n",
       "      <td>11.193739</td>\n",
       "      <td>10.127797</td>\n",
       "      <td>8.966652</td>\n",
       "      <td>10.545396</td>\n",
       "      <td>11.445245</td>\n",
       "      <td>...</td>\n",
       "      <td>11.718051</td>\n",
       "      <td>13.136403</td>\n",
       "      <td>22.827883</td>\n",
       "      <td>27.341007</td>\n",
       "      <td>12.599613</td>\n",
       "      <td>0.0</td>\n",
       "      <td>0.201377</td>\n",
       "      <td>0.149957</td>\n",
       "      <td>0.276893</td>\n",
       "      <td>0.308090</td>\n",
       "    </tr>\n",
       "    <tr>\n",
       "      <th>std</th>\n",
       "      <td>NaN</td>\n",
       "      <td>NaN</td>\n",
       "      <td>3.526351</td>\n",
       "      <td>13.580025</td>\n",
       "      <td>13.626754</td>\n",
       "      <td>16.400023</td>\n",
       "      <td>14.291254</td>\n",
       "      <td>12.180177</td>\n",
       "      <td>13.507892</td>\n",
       "      <td>15.932226</td>\n",
       "      <td>...</td>\n",
       "      <td>28.186874</td>\n",
       "      <td>36.690068</td>\n",
       "      <td>47.158607</td>\n",
       "      <td>54.963959</td>\n",
       "      <td>35.194597</td>\n",
       "      <td>0.0</td>\n",
       "      <td>0.401051</td>\n",
       "      <td>0.357048</td>\n",
       "      <td>0.447487</td>\n",
       "      <td>0.461729</td>\n",
       "    </tr>\n",
       "    <tr>\n",
       "      <th>min</th>\n",
       "      <td>NaN</td>\n",
       "      <td>NaN</td>\n",
       "      <td>0.000000</td>\n",
       "      <td>0.000000</td>\n",
       "      <td>0.000000</td>\n",
       "      <td>0.000000</td>\n",
       "      <td>0.000000</td>\n",
       "      <td>0.000000</td>\n",
       "      <td>0.000000</td>\n",
       "      <td>0.000000</td>\n",
       "      <td>...</td>\n",
       "      <td>0.000000</td>\n",
       "      <td>0.000000</td>\n",
       "      <td>0.000000</td>\n",
       "      <td>0.000000</td>\n",
       "      <td>0.000000</td>\n",
       "      <td>0.0</td>\n",
       "      <td>0.000000</td>\n",
       "      <td>0.000000</td>\n",
       "      <td>0.000000</td>\n",
       "      <td>0.000000</td>\n",
       "    </tr>\n",
       "    <tr>\n",
       "      <th>25%</th>\n",
       "      <td>NaN</td>\n",
       "      <td>NaN</td>\n",
       "      <td>0.000000</td>\n",
       "      <td>0.000000</td>\n",
       "      <td>1.000000</td>\n",
       "      <td>2.000000</td>\n",
       "      <td>2.000000</td>\n",
       "      <td>1.000000</td>\n",
       "      <td>2.000000</td>\n",
       "      <td>3.000000</td>\n",
       "      <td>...</td>\n",
       "      <td>0.000000</td>\n",
       "      <td>0.000000</td>\n",
       "      <td>0.000000</td>\n",
       "      <td>0.000000</td>\n",
       "      <td>0.000000</td>\n",
       "      <td>0.0</td>\n",
       "      <td>0.000000</td>\n",
       "      <td>0.000000</td>\n",
       "      <td>0.000000</td>\n",
       "      <td>0.000000</td>\n",
       "    </tr>\n",
       "    <tr>\n",
       "      <th>50%</th>\n",
       "      <td>NaN</td>\n",
       "      <td>NaN</td>\n",
       "      <td>0.000000</td>\n",
       "      <td>2.000000</td>\n",
       "      <td>7.000000</td>\n",
       "      <td>7.000000</td>\n",
       "      <td>6.000000</td>\n",
       "      <td>5.000000</td>\n",
       "      <td>7.000000</td>\n",
       "      <td>7.000000</td>\n",
       "      <td>...</td>\n",
       "      <td>2.000000</td>\n",
       "      <td>2.000000</td>\n",
       "      <td>4.000000</td>\n",
       "      <td>2.000000</td>\n",
       "      <td>0.000000</td>\n",
       "      <td>0.0</td>\n",
       "      <td>0.000000</td>\n",
       "      <td>0.000000</td>\n",
       "      <td>0.000000</td>\n",
       "      <td>0.000000</td>\n",
       "    </tr>\n",
       "    <tr>\n",
       "      <th>75%</th>\n",
       "      <td>NaN</td>\n",
       "      <td>NaN</td>\n",
       "      <td>1.000000</td>\n",
       "      <td>12.000000</td>\n",
       "      <td>15.000000</td>\n",
       "      <td>15.000000</td>\n",
       "      <td>13.000000</td>\n",
       "      <td>13.000000</td>\n",
       "      <td>14.000000</td>\n",
       "      <td>14.000000</td>\n",
       "      <td>...</td>\n",
       "      <td>10.000000</td>\n",
       "      <td>10.000000</td>\n",
       "      <td>23.000000</td>\n",
       "      <td>27.000000</td>\n",
       "      <td>5.000000</td>\n",
       "      <td>0.0</td>\n",
       "      <td>0.000000</td>\n",
       "      <td>0.000000</td>\n",
       "      <td>1.000000</td>\n",
       "      <td>1.000000</td>\n",
       "    </tr>\n",
       "    <tr>\n",
       "      <th>max</th>\n",
       "      <td>NaN</td>\n",
       "      <td>NaN</td>\n",
       "      <td>66.000000</td>\n",
       "      <td>269.000000</td>\n",
       "      <td>360.000000</td>\n",
       "      <td>619.000000</td>\n",
       "      <td>315.000000</td>\n",
       "      <td>248.000000</td>\n",
       "      <td>268.000000</td>\n",
       "      <td>237.000000</td>\n",
       "      <td>...</td>\n",
       "      <td>614.000000</td>\n",
       "      <td>1091.000000</td>\n",
       "      <td>604.000000</td>\n",
       "      <td>747.000000</td>\n",
       "      <td>407.000000</td>\n",
       "      <td>0.0</td>\n",
       "      <td>1.000000</td>\n",
       "      <td>1.000000</td>\n",
       "      <td>1.000000</td>\n",
       "      <td>1.000000</td>\n",
       "    </tr>\n",
       "  </tbody>\n",
       "</table>\n",
       "<p>11 rows × 31 columns</p>\n",
       "</div>"
      ],
      "text/plain": [
       "        course_encoding  userid      0 to 4%      4 to 8%     8 to 12%  \\\n",
       "count            9296.0  9296.0  9296.000000  9296.000000  9296.000000   \n",
       "unique            138.0  1590.0          NaN          NaN          NaN   \n",
       "top               150.0  3178.0          NaN          NaN          NaN   \n",
       "freq              178.0    14.0          NaN          NaN          NaN   \n",
       "mean                NaN     NaN     1.081863     8.307874    10.752797   \n",
       "std                 NaN     NaN     3.526351    13.580025    13.626754   \n",
       "min                 NaN     NaN     0.000000     0.000000     0.000000   \n",
       "25%                 NaN     NaN     0.000000     0.000000     1.000000   \n",
       "50%                 NaN     NaN     0.000000     2.000000     7.000000   \n",
       "75%                 NaN     NaN     1.000000    12.000000    15.000000   \n",
       "max                 NaN     NaN    66.000000   269.000000   360.000000   \n",
       "\n",
       "          12 to 16%    16 to 20%    20 to 24%    24 to 28%    28 to 32%  ...  \\\n",
       "count   9296.000000  9296.000000  9296.000000  9296.000000  9296.000000  ...   \n",
       "unique          NaN          NaN          NaN          NaN          NaN  ...   \n",
       "top             NaN          NaN          NaN          NaN          NaN  ...   \n",
       "freq            NaN          NaN          NaN          NaN          NaN  ...   \n",
       "mean      11.193739    10.127797     8.966652    10.545396    11.445245  ...   \n",
       "std       16.400023    14.291254    12.180177    13.507892    15.932226  ...   \n",
       "min        0.000000     0.000000     0.000000     0.000000     0.000000  ...   \n",
       "25%        2.000000     2.000000     1.000000     2.000000     3.000000  ...   \n",
       "50%        7.000000     6.000000     5.000000     7.000000     7.000000  ...   \n",
       "75%       15.000000    13.000000    13.000000    14.000000    14.000000  ...   \n",
       "max      619.000000   315.000000   248.000000   268.000000   237.000000  ...   \n",
       "\n",
       "          76 to 80%    80 to 84%    84 to 88%    88 to 92%    92 to 96%  \\\n",
       "count   9296.000000  9296.000000  9296.000000  9296.000000  9296.000000   \n",
       "unique          NaN          NaN          NaN          NaN          NaN   \n",
       "top             NaN          NaN          NaN          NaN          NaN   \n",
       "freq            NaN          NaN          NaN          NaN          NaN   \n",
       "mean      11.718051    13.136403    22.827883    27.341007    12.599613   \n",
       "std       28.186874    36.690068    47.158607    54.963959    35.194597   \n",
       "min        0.000000     0.000000     0.000000     0.000000     0.000000   \n",
       "25%        0.000000     0.000000     0.000000     0.000000     0.000000   \n",
       "50%        2.000000     2.000000     4.000000     2.000000     0.000000   \n",
       "75%       10.000000    10.000000    23.000000    27.000000     5.000000   \n",
       "max      614.000000  1091.000000   604.000000   747.000000   407.000000   \n",
       "\n",
       "        96 to 100%    exam_fail   final_fail  exam_gifted  final_gifted  \n",
       "count       9296.0  9296.000000  9296.000000  9296.000000   9296.000000  \n",
       "unique         NaN          NaN          NaN          NaN           NaN  \n",
       "top            NaN          NaN          NaN          NaN           NaN  \n",
       "freq           NaN          NaN          NaN          NaN           NaN  \n",
       "mean           0.0     0.201377     0.149957     0.276893      0.308090  \n",
       "std            0.0     0.401051     0.357048     0.447487      0.461729  \n",
       "min            0.0     0.000000     0.000000     0.000000      0.000000  \n",
       "25%            0.0     0.000000     0.000000     0.000000      0.000000  \n",
       "50%            0.0     0.000000     0.000000     0.000000      0.000000  \n",
       "75%            0.0     0.000000     0.000000     1.000000      1.000000  \n",
       "max            0.0     1.000000     1.000000     1.000000      1.000000  \n",
       "\n",
       "[11 rows x 31 columns]"
      ]
     },
     "execution_count": 6,
     "metadata": {},
     "output_type": "execute_result"
    }
   ],
   "source": [
    "course_programs['Date_threshold_100'].describe(include = 'all')"
   ]
  },
  {
   "cell_type": "markdown",
   "id": "c3291817",
   "metadata": {},
   "source": [
    "In our first attempt, we will use the absolute number of clicks made by each student - scaled using standard scaler. \n",
    "Therefore, we can start by immediately placing our course encoding/userid pairings into the index."
   ]
  },
  {
   "cell_type": "code",
   "execution_count": 7,
   "id": "be722ea9",
   "metadata": {},
   "outputs": [],
   "source": [
    "#function for scalers\n",
    "def normalize(dataset,scaler):\n",
    "    \n",
    "    if scaler == 'MinMax':\n",
    "        pt = MinMaxScaler()\n",
    "    elif scaler == 'Standard':\n",
    "        pt = StandardScaler()\n",
    "    elif scaler == 'Robust':\n",
    "        pt = RobustScaler()\n",
    "    elif scaler == 'Quantile':\n",
    "        pt = QuantileTransformer()\n",
    "    else:\n",
    "        pt = PowerTransformer(method='yeo-johnson')\n",
    "    \n",
    "    data = pt.fit_transform(dataset)\n",
    "    \n",
    "    # convert the array back to a dataframe\n",
    "    normalized_df = pd.DataFrame(data,columns=dataset.columns)\n",
    "    return normalized_df  "
   ]
  },
  {
   "cell_type": "code",
   "execution_count": 8,
   "id": "7ea7510e",
   "metadata": {},
   "outputs": [
    {
     "data": {
      "application/vnd.jupyter.widget-view+json": {
       "model_id": "bd4bb7c98b974f818df59465493c426b",
       "version_major": 2,
       "version_minor": 0
      },
      "text/plain": [
       "  0%|          | 0/5 [00:00<?, ?it/s]"
      ]
     },
     "metadata": {},
     "output_type": "display_data"
    }
   ],
   "source": [
    "#create backup\n",
    "normalized_data = deepcopy(course_programs)\n",
    "\n",
    "#convert index\n",
    "for i in tqdm(normalized_data):\n",
    "    normalized_data[i].set_index(['course_encoding', 'userid'], drop = True, inplace = True)\n",
    "    normalized_data[i].fillna(0, inplace = True)\n",
    "    #Then, apply normalize function to rescale the train columns\n",
    "    normalized_data[i] = normalize(normalized_data[i].filter(temporal_columns),'Standard')\n",
    "    \n",
    "    #and remerge target columns\n",
    "    normalized_data[i][targets] =  deepcopy(course_programs[i][targets])"
   ]
  },
  {
   "cell_type": "markdown",
   "id": "8e4d5475",
   "metadata": {},
   "source": [
    "#### Implementing Cross-Validation with Deep Learning Model\n",
    "\n",
    "**1. Create the Deep Learning Model**\n",
    "\n",
    "In this instance, we will follow-up with on the approach used in Chen & Cui - CrossEntropyLoss with applied over a softmax layer."
   ]
  },
  {
   "cell_type": "code",
   "execution_count": 9,
   "id": "2a16bd5f",
   "metadata": {},
   "outputs": [],
   "source": [
    "class LSTM_Uni(nn.Module):\n",
    "    def __init__(self, num_classes, input_size, hidden_size, num_layers, seq_length):\n",
    "        super(LSTM_Uni, self).__init__()\n",
    "        self.num_classes = num_classes #number of classes\n",
    "        self.num_layers = num_layers #number of layers\n",
    "        self.input_size = input_size #input size\n",
    "        self.hidden_size = hidden_size #hidden state\n",
    "        self.seq_length = seq_length #sequence length\n",
    "\n",
    "        self.lstm = nn.LSTM(input_size=input_size, hidden_size=hidden_size,\n",
    "                          num_layers=num_layers, batch_first = True) #lstm\n",
    "        \n",
    "        self.dropout = nn.Dropout(p = 0.5)\n",
    "    \n",
    "        self.fc = nn.Linear(self.hidden_size, num_classes) #fully connected last layer\n",
    "\n",
    "    def forward(self,x):\n",
    "        h_0 = Variable(torch.zeros(self.num_layers, x.size(0), self.hidden_size)) #hidden state\n",
    "        c_0 = Variable(torch.zeros(self.num_layers, x.size(0), self.hidden_size)) #internal state\n",
    "        \n",
    "        #Xavier_init for both H_0 and C_0\n",
    "        torch.nn.init.xavier_normal_(h_0)\n",
    "        torch.nn.init.xavier_normal_(c_0)\n",
    "        \n",
    "        # Propagate input through LSTM\n",
    "        lstm_out, (hn, cn) = self.lstm(x, (h_0, c_0)) #lstm with input, hidden, and internal state\n",
    "        last_output = hn.view(-1, self.hidden_size) #reshaping the data for Dense layer next\n",
    "        \n",
    "        #we are interested in only keeping the last output\n",
    "        drop_out = self.dropout(last_output)\n",
    "        pre_softmax = self.fc(drop_out) #Final Output - dense\n",
    "        return pre_softmax"
   ]
  },
  {
   "cell_type": "markdown",
   "id": "17c356bd",
   "metadata": {},
   "source": [
    "**2. Define the train and validation Functions**"
   ]
  },
  {
   "cell_type": "code",
   "execution_count": 10,
   "id": "25b29a1d",
   "metadata": {},
   "outputs": [],
   "source": [
    "def train_epoch(model,dataloader,loss_fn,optimizer):\n",
    "    \n",
    "    train_loss,train_correct=0.0,0 \n",
    "    model.train()\n",
    "    for X, labels in dataloader:\n",
    "\n",
    "        optimizer.zero_grad()\n",
    "        output = model(X)\n",
    "        loss = loss_fn(output,labels)\n",
    "        loss.backward()\n",
    "        optimizer.step()\n",
    "        train_loss += loss.item() * X.size(0)\n",
    "        scores, predictions = torch.max(F.log_softmax(output.data), 1)\n",
    "        train_correct += (predictions == labels).sum().item()\n",
    "        \n",
    "    return train_loss,train_correct\n",
    "  \n",
    "def valid_epoch(model,dataloader,loss_fn):\n",
    "    valid_loss, val_correct = 0.0, 0\n",
    "    targets = []\n",
    "    y_pred = []\n",
    "    probability_1 = []\n",
    "    \n",
    "    model.eval()\n",
    "    for X, labels in dataloader:\n",
    "\n",
    "        output = model(X)\n",
    "        loss=loss_fn(output,labels)\n",
    "        valid_loss+=loss.item()*X.size(0)\n",
    "        probability_1.append(F.softmax(output.data)[:,1])\n",
    "        predictions = torch.argmax(output, dim=1)\n",
    "        val_correct+=(predictions == labels).sum().item()\n",
    "        targets.append(labels)\n",
    "        y_pred.append(predictions)\n",
    "    \n",
    "    #concat all results\n",
    "    targets = torch.cat(targets).data.cpu().numpy()\n",
    "    y_pred = torch.cat(y_pred).data.cpu().numpy()\n",
    "    probability_1 = torch.cat(probability_1).data.cpu().numpy()\n",
    "    \n",
    "    #calculate precision, recall and AUC score\n",
    "    \n",
    "    precision = precision_score(targets, y_pred)\n",
    "    recall = recall_score(targets, y_pred)\n",
    "    auroc = roc_auc_score(targets, probability_1)\n",
    "    \n",
    "    #return all\n",
    "    return valid_loss,val_correct, precision, recall, auroc"
   ]
  },
  {
   "cell_type": "markdown",
   "id": "d4543fb3",
   "metadata": {},
   "source": [
    "**3. Define main hyperparameters of the model, including splits**"
   ]
  },
  {
   "cell_type": "code",
   "execution_count": 11,
   "id": "fcbbef20",
   "metadata": {},
   "outputs": [],
   "source": [
    "#Model\n",
    "num_epochs = 100 #50 epochs\n",
    "learning_rate = 0.01 #0.01 lr\n",
    "input_size = 1 #number of features\n",
    "hidden_size = 40 #number of features in hidden state\n",
    "num_layers = 1 #number of stacked lstm layers\n",
    "\n",
    "#Shape of Output as required for SoftMax Classifier\n",
    "num_classes = 2 #output shape\n",
    "\n",
    "batch_size = 32\n",
    "\n",
    "k=10\n",
    "splits= RepeatedKFold(n_splits=k, n_repeats=replicas, random_state=15) #kfold of 10 with 30 replicas\n",
    "criterion = nn.CrossEntropyLoss()    # cross-entropy for classification"
   ]
  },
  {
   "cell_type": "markdown",
   "id": "a20713d9",
   "metadata": {},
   "source": [
    "**4. Make the splits and Start Training**"
   ]
  },
  {
   "cell_type": "code",
   "execution_count": null,
   "id": "45544589",
   "metadata": {},
   "outputs": [
    {
     "data": {
      "application/vnd.jupyter.widget-view+json": {
       "model_id": "2cedb1ec54d44eb3bcdbbac06fef2488",
       "version_major": 2,
       "version_minor": 0
      },
      "text/plain": [
       "  0%|          | 0/5 [00:00<?, ?it/s]"
      ]
     },
     "metadata": {},
     "output_type": "display_data"
    },
    {
     "name": "stdout",
     "output_type": "stream",
     "text": [
      "Date_threshold_10\n"
     ]
    },
    {
     "data": {
      "application/vnd.jupyter.widget-view+json": {
       "model_id": "d9dbeab358e947a990f0841e541b5d36",
       "version_major": 2,
       "version_minor": 0
      },
      "text/plain": [
       "  0%|          | 0/4 [00:00<?, ?it/s]"
      ]
     },
     "metadata": {},
     "output_type": "display_data"
    },
    {
     "name": "stdout",
     "output_type": "stream",
     "text": [
      "exam_fail\n",
      "Before reshaping:\n",
      "Training Shape torch.Size([7436, 25]) torch.Size([7436])\n",
      "Testing Shape torch.Size([1860, 25]) torch.Size([1860])\n",
      "\n",
      "After reshaping:\n",
      "Training Shape torch.Size([7436, 25, 1]) torch.Size([7436])\n",
      "Testing Shape torch.Size([1860, 25, 1]) torch.Size([1860])\n"
     ]
    },
    {
     "data": {
      "application/vnd.jupyter.widget-view+json": {
       "model_id": "b09ca4ad7168478eb7fc2cb2cbc713d6",
       "version_major": 2,
       "version_minor": 0
      },
      "text/plain": [
       "0it [00:00, ?it/s]"
      ]
     },
     "metadata": {},
     "output_type": "display_data"
    },
    {
     "name": "stdout",
     "output_type": "stream",
     "text": [
      "Split 1\n"
     ]
    },
    {
     "data": {
      "application/vnd.jupyter.widget-view+json": {
       "model_id": "0db35fe5ff0e4344980ea00815f3bbe8",
       "version_major": 2,
       "version_minor": 0
      },
      "text/plain": [
       "  0%|          | 0/100 [00:00<?, ?it/s]"
      ]
     },
     "metadata": {},
     "output_type": "display_data"
    },
    {
     "name": "stdout",
     "output_type": "stream",
     "text": [
      "New Best Accuracy found: 81.45%\n",
      "Epoch: 1\n",
      "Epoch:10/100 AVG Training Loss:0.493 AVG Validation Loss:0.465 AVG Training Acc 79.69 % AVG Validation Acc 81.45 %\n",
      "Epoch:20/100 AVG Training Loss:0.488 AVG Validation Loss:0.466 AVG Training Acc 79.69 % AVG Validation Acc 81.32 %\n",
      "Epoch:30/100 AVG Training Loss:0.480 AVG Validation Loss:0.467 AVG Training Acc 79.68 % AVG Validation Acc 81.45 %\n",
      "Epoch    36: reducing learning rate of group 0 to 1.0000e-03.\n",
      "Epoch:40/100 AVG Training Loss:0.464 AVG Validation Loss:0.465 AVG Training Acc 80.14 % AVG Validation Acc 81.05 %\n",
      "Epoch:50/100 AVG Training Loss:0.449 AVG Validation Loss:0.483 AVG Training Acc 80.33 % AVG Validation Acc 80.78 %\n",
      "Epoch:60/100 AVG Training Loss:0.444 AVG Validation Loss:0.485 AVG Training Acc 80.62 % AVG Validation Acc 81.59 %\n",
      "New Best Accuracy found: 81.59%\n",
      "Epoch: 60\n",
      "New Best Accuracy found: 81.72%\n",
      "Epoch: 62\n",
      "Epoch    67: reducing learning rate of group 0 to 1.0000e-04.\n",
      "New Best Accuracy found: 81.85%\n",
      "Epoch: 67\n",
      "Epoch:70/100 AVG Training Loss:0.427 AVG Validation Loss:0.488 AVG Training Acc 80.86 % AVG Validation Acc 81.85 %\n",
      "Epoch:80/100 AVG Training Loss:0.428 AVG Validation Loss:0.494 AVG Training Acc 81.05 % AVG Validation Acc 81.45 %\n",
      "Epoch:90/100 AVG Training Loss:0.425 AVG Validation Loss:0.497 AVG Training Acc 80.83 % AVG Validation Acc 81.72 %\n",
      "Epoch    98: reducing learning rate of group 0 to 1.0000e-05.\n",
      "Epoch:100/100 AVG Training Loss:0.426 AVG Validation Loss:0.495 AVG Training Acc 80.86 % AVG Validation Acc 81.59 %\n",
      "Split 2\n"
     ]
    },
    {
     "data": {
      "application/vnd.jupyter.widget-view+json": {
       "model_id": "ad9fa65c50824361a5b2b3a8c6fb4e63",
       "version_major": 2,
       "version_minor": 0
      },
      "text/plain": [
       "  0%|          | 0/100 [00:00<?, ?it/s]"
      ]
     },
     "metadata": {},
     "output_type": "display_data"
    },
    {
     "name": "stdout",
     "output_type": "stream",
     "text": [
      "Epoch:10/100 AVG Training Loss:0.490 AVG Validation Loss:0.481 AVG Training Acc 79.75 % AVG Validation Acc 80.78 %\n",
      "Epoch    15: reducing learning rate of group 0 to 1.0000e-03.\n",
      "Epoch:20/100 AVG Training Loss:0.480 AVG Validation Loss:0.483 AVG Training Acc 79.87 % AVG Validation Acc 80.65 %\n",
      "Epoch:30/100 AVG Training Loss:0.473 AVG Validation Loss:0.484 AVG Training Acc 79.98 % AVG Validation Acc 80.65 %\n",
      "Epoch:40/100 AVG Training Loss:0.464 AVG Validation Loss:0.487 AVG Training Acc 80.08 % AVG Validation Acc 80.38 %\n",
      "Epoch    46: reducing learning rate of group 0 to 1.0000e-04.\n",
      "Epoch:50/100 AVG Training Loss:0.461 AVG Validation Loss:0.483 AVG Training Acc 80.17 % AVG Validation Acc 80.51 %\n",
      "Epoch:60/100 AVG Training Loss:0.456 AVG Validation Loss:0.488 AVG Training Acc 80.20 % AVG Validation Acc 80.38 %\n",
      "Epoch:70/100 AVG Training Loss:0.458 AVG Validation Loss:0.488 AVG Training Acc 80.23 % AVG Validation Acc 80.38 %\n",
      "Epoch    77: reducing learning rate of group 0 to 1.0000e-05.\n",
      "Epoch:80/100 AVG Training Loss:0.455 AVG Validation Loss:0.488 AVG Training Acc 80.36 % AVG Validation Acc 80.78 %\n",
      "Epoch:90/100 AVG Training Loss:0.456 AVG Validation Loss:0.490 AVG Training Acc 80.29 % AVG Validation Acc 80.51 %\n",
      "Epoch:100/100 AVG Training Loss:0.456 AVG Validation Loss:0.488 AVG Training Acc 80.26 % AVG Validation Acc 80.65 %\n",
      "Split 3\n"
     ]
    },
    {
     "data": {
      "application/vnd.jupyter.widget-view+json": {
       "model_id": "6cabedab474947858faaf3ead6d3ca1f",
       "version_major": 2,
       "version_minor": 0
      },
      "text/plain": [
       "  0%|          | 0/100 [00:00<?, ?it/s]"
      ]
     },
     "metadata": {},
     "output_type": "display_data"
    },
    {
     "name": "stdout",
     "output_type": "stream",
     "text": [
      "Epoch:10/100 AVG Training Loss:0.488 AVG Validation Loss:0.503 AVG Training Acc 80.07 % AVG Validation Acc 78.90 %\n",
      "Epoch:20/100 AVG Training Loss:0.483 AVG Validation Loss:0.494 AVG Training Acc 79.87 % AVG Validation Acc 78.90 %\n",
      "Epoch:30/100 AVG Training Loss:0.477 AVG Validation Loss:0.500 AVG Training Acc 79.89 % AVG Validation Acc 78.90 %\n",
      "Epoch    31: reducing learning rate of group 0 to 1.0000e-03.\n",
      "Epoch:40/100 AVG Training Loss:0.458 AVG Validation Loss:0.500 AVG Training Acc 80.07 % AVG Validation Acc 79.03 %\n",
      "Epoch:50/100 AVG Training Loss:0.445 AVG Validation Loss:0.516 AVG Training Acc 80.35 % AVG Validation Acc 78.76 %\n",
      "Epoch:60/100 AVG Training Loss:0.433 AVG Validation Loss:0.529 AVG Training Acc 80.63 % AVG Validation Acc 78.23 %\n",
      "Epoch    62: reducing learning rate of group 0 to 1.0000e-04.\n",
      "Epoch:70/100 AVG Training Loss:0.429 AVG Validation Loss:0.523 AVG Training Acc 80.83 % AVG Validation Acc 78.23 %\n",
      "Epoch:80/100 AVG Training Loss:0.427 AVG Validation Loss:0.530 AVG Training Acc 80.92 % AVG Validation Acc 78.09 %\n",
      "Epoch:90/100 AVG Training Loss:0.426 AVG Validation Loss:0.526 AVG Training Acc 80.86 % AVG Validation Acc 78.09 %\n",
      "Epoch    93: reducing learning rate of group 0 to 1.0000e-05.\n",
      "Epoch:100/100 AVG Training Loss:0.424 AVG Validation Loss:0.529 AVG Training Acc 81.05 % AVG Validation Acc 77.96 %\n",
      "Split 4\n"
     ]
    },
    {
     "data": {
      "application/vnd.jupyter.widget-view+json": {
       "model_id": "8ceece0da34c45f7ae6d01be5c33c4ac",
       "version_major": 2,
       "version_minor": 0
      },
      "text/plain": [
       "  0%|          | 0/100 [00:00<?, ?it/s]"
      ]
     },
     "metadata": {},
     "output_type": "display_data"
    },
    {
     "name": "stdout",
     "output_type": "stream",
     "text": [
      "Epoch:10/100 AVG Training Loss:0.489 AVG Validation Loss:0.508 AVG Training Acc 80.10 % AVG Validation Acc 77.82 %\n",
      "Epoch    15: reducing learning rate of group 0 to 1.0000e-03.\n",
      "Epoch:20/100 AVG Training Loss:0.476 AVG Validation Loss:0.511 AVG Training Acc 80.13 % AVG Validation Acc 77.82 %\n",
      "Epoch:30/100 AVG Training Loss:0.470 AVG Validation Loss:0.511 AVG Training Acc 80.16 % AVG Validation Acc 77.69 %\n",
      "Epoch:40/100 AVG Training Loss:0.465 AVG Validation Loss:0.521 AVG Training Acc 80.32 % AVG Validation Acc 77.69 %\n",
      "Epoch    46: reducing learning rate of group 0 to 1.0000e-04.\n",
      "Epoch:50/100 AVG Training Loss:0.459 AVG Validation Loss:0.523 AVG Training Acc 80.20 % AVG Validation Acc 77.82 %\n",
      "Epoch:60/100 AVG Training Loss:0.458 AVG Validation Loss:0.523 AVG Training Acc 80.29 % AVG Validation Acc 77.82 %\n",
      "Epoch:70/100 AVG Training Loss:0.455 AVG Validation Loss:0.523 AVG Training Acc 80.26 % AVG Validation Acc 77.96 %\n",
      "Epoch    77: reducing learning rate of group 0 to 1.0000e-05.\n",
      "Epoch:80/100 AVG Training Loss:0.455 AVG Validation Loss:0.526 AVG Training Acc 80.22 % AVG Validation Acc 77.96 %\n",
      "Epoch:90/100 AVG Training Loss:0.455 AVG Validation Loss:0.524 AVG Training Acc 80.25 % AVG Validation Acc 77.96 %\n",
      "Epoch:100/100 AVG Training Loss:0.454 AVG Validation Loss:0.526 AVG Training Acc 80.23 % AVG Validation Acc 77.96 %\n",
      "Split 5\n"
     ]
    },
    {
     "data": {
      "application/vnd.jupyter.widget-view+json": {
       "model_id": "ed22c741f3f84cde86109f4f45f09092",
       "version_major": 2,
       "version_minor": 0
      },
      "text/plain": [
       "  0%|          | 0/100 [00:00<?, ?it/s]"
      ]
     },
     "metadata": {},
     "output_type": "display_data"
    },
    {
     "name": "stdout",
     "output_type": "stream",
     "text": [
      "Epoch:10/100 AVG Training Loss:0.490 AVG Validation Loss:0.496 AVG Training Acc 79.92 % AVG Validation Acc 79.17 %\n",
      "Epoch:20/100 AVG Training Loss:0.484 AVG Validation Loss:0.492 AVG Training Acc 79.99 % AVG Validation Acc 79.17 %\n",
      "Epoch:30/100 AVG Training Loss:0.482 AVG Validation Loss:0.487 AVG Training Acc 79.99 % AVG Validation Acc 79.30 %\n",
      "Epoch:40/100 AVG Training Loss:0.477 AVG Validation Loss:0.494 AVG Training Acc 79.98 % AVG Validation Acc 79.30 %\n",
      "Epoch    41: reducing learning rate of group 0 to 1.0000e-03.\n",
      "Epoch:50/100 AVG Training Loss:0.457 AVG Validation Loss:0.493 AVG Training Acc 80.44 % AVG Validation Acc 78.90 %\n",
      "Epoch:60/100 AVG Training Loss:0.446 AVG Validation Loss:0.506 AVG Training Acc 80.63 % AVG Validation Acc 78.63 %\n",
      "Epoch:70/100 AVG Training Loss:0.440 AVG Validation Loss:0.515 AVG Training Acc 81.14 % AVG Validation Acc 78.09 %\n",
      "Epoch    72: reducing learning rate of group 0 to 1.0000e-04.\n",
      "Epoch:80/100 AVG Training Loss:0.435 AVG Validation Loss:0.513 AVG Training Acc 81.17 % AVG Validation Acc 78.23 %\n",
      "Epoch:90/100 AVG Training Loss:0.432 AVG Validation Loss:0.514 AVG Training Acc 81.44 % AVG Validation Acc 78.49 %\n",
      "Epoch:100/100 AVG Training Loss:0.432 AVG Validation Loss:0.517 AVG Training Acc 81.37 % AVG Validation Acc 78.49 %\n",
      "Split 6\n"
     ]
    },
    {
     "data": {
      "application/vnd.jupyter.widget-view+json": {
       "model_id": "6d5c89a1781545cdbdb080cc76789e36",
       "version_major": 2,
       "version_minor": 0
      },
      "text/plain": [
       "  0%|          | 0/100 [00:00<?, ?it/s]"
      ]
     },
     "metadata": {},
     "output_type": "display_data"
    },
    {
     "name": "stdout",
     "output_type": "stream",
     "text": [
      "New Best Accuracy found: 82.26%\n",
      "Epoch: 1\n",
      "Epoch:10/100 AVG Training Loss:0.495 AVG Validation Loss:0.451 AVG Training Acc 79.59 % AVG Validation Acc 82.26 %\n",
      "Epoch:20/100 AVG Training Loss:0.492 AVG Validation Loss:0.449 AVG Training Acc 79.62 % AVG Validation Acc 82.26 %\n",
      "New Best Accuracy found: 82.39%\n",
      "Epoch: 22\n",
      "New Best Accuracy found: 82.53%\n",
      "Epoch: 27\n",
      "Epoch:30/100 AVG Training Loss:0.509 AVG Validation Loss:0.459 AVG Training Acc 79.62 % AVG Validation Acc 82.26 %\n",
      "Epoch    38: reducing learning rate of group 0 to 1.0000e-03.\n",
      "Epoch:40/100 AVG Training Loss:0.501 AVG Validation Loss:0.457 AVG Training Acc 79.60 % AVG Validation Acc 82.26 %\n",
      "Epoch:50/100 AVG Training Loss:0.497 AVG Validation Loss:0.456 AVG Training Acc 79.60 % AVG Validation Acc 82.26 %\n",
      "Epoch:60/100 AVG Training Loss:0.496 AVG Validation Loss:0.455 AVG Training Acc 79.62 % AVG Validation Acc 82.26 %\n",
      "Epoch    69: reducing learning rate of group 0 to 1.0000e-04.\n",
      "Epoch:70/100 AVG Training Loss:0.495 AVG Validation Loss:0.456 AVG Training Acc 79.62 % AVG Validation Acc 82.26 %\n",
      "Epoch:80/100 AVG Training Loss:0.493 AVG Validation Loss:0.454 AVG Training Acc 79.63 % AVG Validation Acc 82.26 %\n",
      "Epoch:90/100 AVG Training Loss:0.494 AVG Validation Loss:0.454 AVG Training Acc 79.63 % AVG Validation Acc 82.12 %\n",
      "Epoch:100/100 AVG Training Loss:0.495 AVG Validation Loss:0.454 AVG Training Acc 79.60 % AVG Validation Acc 82.12 %\n",
      "Epoch   100: reducing learning rate of group 0 to 1.0000e-05.\n",
      "Split 7\n"
     ]
    },
    {
     "data": {
      "application/vnd.jupyter.widget-view+json": {
       "model_id": "6ad495b2a25a47e78d5aaf7da20d2507",
       "version_major": 2,
       "version_minor": 0
      },
      "text/plain": [
       "  0%|          | 0/100 [00:00<?, ?it/s]"
      ]
     },
     "metadata": {},
     "output_type": "display_data"
    },
    {
     "name": "stdout",
     "output_type": "stream",
     "text": [
      "Epoch:10/100 AVG Training Loss:0.490 AVG Validation Loss:0.487 AVG Training Acc 79.65 % AVG Validation Acc 81.16 %\n",
      "Epoch:20/100 AVG Training Loss:0.485 AVG Validation Loss:0.479 AVG Training Acc 79.73 % AVG Validation Acc 81.16 %\n",
      "Epoch:30/100 AVG Training Loss:0.491 AVG Validation Loss:0.483 AVG Training Acc 79.70 % AVG Validation Acc 81.16 %\n",
      "Epoch    31: reducing learning rate of group 0 to 1.0000e-03.\n",
      "Epoch:40/100 AVG Training Loss:0.478 AVG Validation Loss:0.485 AVG Training Acc 79.77 % AVG Validation Acc 81.16 %\n",
      "Epoch:50/100 AVG Training Loss:0.471 AVG Validation Loss:0.489 AVG Training Acc 79.81 % AVG Validation Acc 81.16 %\n",
      "Epoch:60/100 AVG Training Loss:0.461 AVG Validation Loss:0.498 AVG Training Acc 79.92 % AVG Validation Acc 81.29 %\n",
      "Epoch    62: reducing learning rate of group 0 to 1.0000e-04.\n",
      "Epoch:70/100 AVG Training Loss:0.458 AVG Validation Loss:0.499 AVG Training Acc 79.68 % AVG Validation Acc 81.16 %\n",
      "Epoch:80/100 AVG Training Loss:0.453 AVG Validation Loss:0.503 AVG Training Acc 79.95 % AVG Validation Acc 81.16 %\n",
      "Epoch:90/100 AVG Training Loss:0.452 AVG Validation Loss:0.503 AVG Training Acc 79.95 % AVG Validation Acc 81.29 %\n",
      "Epoch    93: reducing learning rate of group 0 to 1.0000e-05.\n",
      "Epoch:100/100 AVG Training Loss:0.451 AVG Validation Loss:0.506 AVG Training Acc 79.89 % AVG Validation Acc 81.43 %\n",
      "Split 8\n"
     ]
    },
    {
     "data": {
      "application/vnd.jupyter.widget-view+json": {
       "model_id": "01e8ee9e14b64a89aeaf3620deb0502f",
       "version_major": 2,
       "version_minor": 0
      },
      "text/plain": [
       "  0%|          | 0/100 [00:00<?, ?it/s]"
      ]
     },
     "metadata": {},
     "output_type": "display_data"
    },
    {
     "name": "stdout",
     "output_type": "stream",
     "text": [
      "Epoch:10/100 AVG Training Loss:0.495 AVG Validation Loss:0.460 AVG Training Acc 79.70 % AVG Validation Acc 81.16 %\n",
      "Epoch:20/100 AVG Training Loss:0.489 AVG Validation Loss:0.461 AVG Training Acc 79.62 % AVG Validation Acc 81.16 %\n",
      "Epoch:30/100 AVG Training Loss:0.484 AVG Validation Loss:0.459 AVG Training Acc 79.81 % AVG Validation Acc 81.16 %\n",
      "Epoch    30: reducing learning rate of group 0 to 1.0000e-03.\n",
      "Epoch:40/100 AVG Training Loss:0.468 AVG Validation Loss:0.462 AVG Training Acc 79.96 % AVG Validation Acc 81.16 %\n",
      "Epoch:50/100 AVG Training Loss:0.462 AVG Validation Loss:0.465 AVG Training Acc 79.89 % AVG Validation Acc 81.02 %\n",
      "Epoch:60/100 AVG Training Loss:0.455 AVG Validation Loss:0.470 AVG Training Acc 80.26 % AVG Validation Acc 80.75 %\n",
      "Epoch    61: reducing learning rate of group 0 to 1.0000e-04.\n",
      "Epoch:70/100 AVG Training Loss:0.449 AVG Validation Loss:0.472 AVG Training Acc 80.49 % AVG Validation Acc 80.62 %\n",
      "Epoch:80/100 AVG Training Loss:0.447 AVG Validation Loss:0.471 AVG Training Acc 80.67 % AVG Validation Acc 80.35 %\n",
      "Epoch:90/100 AVG Training Loss:0.447 AVG Validation Loss:0.475 AVG Training Acc 80.31 % AVG Validation Acc 80.35 %\n",
      "Epoch    92: reducing learning rate of group 0 to 1.0000e-05.\n",
      "Epoch:100/100 AVG Training Loss:0.449 AVG Validation Loss:0.473 AVG Training Acc 80.37 % AVG Validation Acc 80.35 %\n",
      "Split 9\n"
     ]
    },
    {
     "data": {
      "application/vnd.jupyter.widget-view+json": {
       "model_id": "3e936d36133949b89d50f46a512980fd",
       "version_major": 2,
       "version_minor": 0
      },
      "text/plain": [
       "  0%|          | 0/100 [00:00<?, ?it/s]"
      ]
     },
     "metadata": {},
     "output_type": "display_data"
    },
    {
     "name": "stdout",
     "output_type": "stream",
     "text": [
      "Epoch:10/100 AVG Training Loss:0.491 AVG Validation Loss:0.500 AVG Training Acc 79.92 % AVG Validation Acc 79.00 %\n",
      "Epoch:20/100 AVG Training Loss:0.486 AVG Validation Loss:0.496 AVG Training Acc 79.84 % AVG Validation Acc 79.00 %\n",
      "Epoch:30/100 AVG Training Loss:0.479 AVG Validation Loss:0.500 AVG Training Acc 79.95 % AVG Validation Acc 79.00 %\n",
      "Epoch:40/100 AVG Training Loss:0.469 AVG Validation Loss:0.492 AVG Training Acc 80.14 % AVG Validation Acc 79.00 %\n",
      "Epoch:50/100 AVG Training Loss:0.457 AVG Validation Loss:0.517 AVG Training Acc 80.23 % AVG Validation Acc 78.87 %\n",
      "Epoch    53: reducing learning rate of group 0 to 1.0000e-03.\n",
      "Epoch:60/100 AVG Training Loss:0.427 AVG Validation Loss:0.514 AVG Training Acc 80.92 % AVG Validation Acc 78.73 %\n",
      "Epoch:70/100 AVG Training Loss:0.414 AVG Validation Loss:0.527 AVG Training Acc 81.32 % AVG Validation Acc 78.20 %\n",
      "Epoch:80/100 AVG Training Loss:0.396 AVG Validation Loss:0.550 AVG Training Acc 82.00 % AVG Validation Acc 77.39 %\n",
      "Epoch    84: reducing learning rate of group 0 to 1.0000e-04.\n",
      "Epoch:90/100 AVG Training Loss:0.389 AVG Validation Loss:0.566 AVG Training Acc 82.44 % AVG Validation Acc 77.39 %\n",
      "Epoch:100/100 AVG Training Loss:0.384 AVG Validation Loss:0.563 AVG Training Acc 82.61 % AVG Validation Acc 77.25 %\n",
      "Split 10\n"
     ]
    },
    {
     "data": {
      "application/vnd.jupyter.widget-view+json": {
       "model_id": "8327f9e0fb4347858b938da9df45ef9f",
       "version_major": 2,
       "version_minor": 0
      },
      "text/plain": [
       "  0%|          | 0/100 [00:00<?, ?it/s]"
      ]
     },
     "metadata": {},
     "output_type": "display_data"
    },
    {
     "name": "stdout",
     "output_type": "stream",
     "text": [
      "Epoch:10/100 AVG Training Loss:0.484 AVG Validation Loss:0.542 AVG Training Acc 80.17 % AVG Validation Acc 76.99 %\n",
      "Epoch    12: reducing learning rate of group 0 to 1.0000e-03.\n",
      "Epoch:20/100 AVG Training Loss:0.473 AVG Validation Loss:0.547 AVG Training Acc 80.16 % AVG Validation Acc 76.99 %\n",
      "Epoch:30/100 AVG Training Loss:0.467 AVG Validation Loss:0.552 AVG Training Acc 80.34 % AVG Validation Acc 76.99 %\n",
      "Epoch:40/100 AVG Training Loss:0.462 AVG Validation Loss:0.559 AVG Training Acc 80.34 % AVG Validation Acc 76.99 %\n",
      "Epoch    43: reducing learning rate of group 0 to 1.0000e-04.\n",
      "Epoch:50/100 AVG Training Loss:0.456 AVG Validation Loss:0.563 AVG Training Acc 80.67 % AVG Validation Acc 76.85 %\n",
      "Epoch:60/100 AVG Training Loss:0.456 AVG Validation Loss:0.563 AVG Training Acc 80.70 % AVG Validation Acc 76.99 %\n",
      "Epoch:70/100 AVG Training Loss:0.455 AVG Validation Loss:0.565 AVG Training Acc 80.64 % AVG Validation Acc 76.85 %\n",
      "Epoch    74: reducing learning rate of group 0 to 1.0000e-05.\n",
      "Epoch:80/100 AVG Training Loss:0.453 AVG Validation Loss:0.564 AVG Training Acc 80.67 % AVG Validation Acc 76.58 %\n",
      "Epoch:90/100 AVG Training Loss:0.451 AVG Validation Loss:0.566 AVG Training Acc 80.83 % AVG Validation Acc 76.72 %\n",
      "Epoch:100/100 AVG Training Loss:0.452 AVG Validation Loss:0.564 AVG Training Acc 80.71 % AVG Validation Acc 76.85 %\n",
      "Split 11\n"
     ]
    },
    {
     "data": {
      "application/vnd.jupyter.widget-view+json": {
       "model_id": "9057cc643747446ba2206601d24025ac",
       "version_major": 2,
       "version_minor": 0
      },
      "text/plain": [
       "  0%|          | 0/100 [00:00<?, ?it/s]"
      ]
     },
     "metadata": {},
     "output_type": "display_data"
    },
    {
     "name": "stdout",
     "output_type": "stream",
     "text": [
      "New Best Accuracy found: 82.93%\n",
      "Epoch: 1\n",
      "Epoch:10/100 AVG Training Loss:0.496 AVG Validation Loss:0.451 AVG Training Acc 79.51 % AVG Validation Acc 82.93 %\n",
      "Epoch:20/100 AVG Training Loss:0.485 AVG Validation Loss:0.446 AVG Training Acc 79.53 % AVG Validation Acc 83.06 %\n",
      "New Best Accuracy found: 83.06%\n",
      "Epoch: 20\n",
      "Epoch    29: reducing learning rate of group 0 to 1.0000e-03.\n",
      "Epoch:30/100 AVG Training Loss:0.473 AVG Validation Loss:0.447 AVG Training Acc 79.75 % AVG Validation Acc 82.39 %\n",
      "Epoch:40/100 AVG Training Loss:0.458 AVG Validation Loss:0.466 AVG Training Acc 80.11 % AVG Validation Acc 82.39 %\n",
      "Epoch:50/100 AVG Training Loss:0.449 AVG Validation Loss:0.468 AVG Training Acc 80.23 % AVG Validation Acc 82.26 %\n",
      "Epoch:60/100 AVG Training Loss:0.437 AVG Validation Loss:0.488 AVG Training Acc 80.62 % AVG Validation Acc 81.72 %\n",
      "Epoch    60: reducing learning rate of group 0 to 1.0000e-04.\n",
      "Epoch:70/100 AVG Training Loss:0.432 AVG Validation Loss:0.495 AVG Training Acc 80.95 % AVG Validation Acc 81.59 %\n",
      "Epoch:80/100 AVG Training Loss:0.431 AVG Validation Loss:0.497 AVG Training Acc 80.83 % AVG Validation Acc 81.85 %\n",
      "Epoch:90/100 AVG Training Loss:0.428 AVG Validation Loss:0.499 AVG Training Acc 80.78 % AVG Validation Acc 81.59 %\n",
      "Epoch    91: reducing learning rate of group 0 to 1.0000e-05.\n",
      "Epoch:100/100 AVG Training Loss:0.423 AVG Validation Loss:0.500 AVG Training Acc 81.34 % AVG Validation Acc 81.85 %\n",
      "Split 12\n"
     ]
    },
    {
     "data": {
      "application/vnd.jupyter.widget-view+json": {
       "model_id": "a2d7dd1b177c4470984576360dde4e3d",
       "version_major": 2,
       "version_minor": 0
      },
      "text/plain": [
       "  0%|          | 0/100 [00:00<?, ?it/s]"
      ]
     },
     "metadata": {},
     "output_type": "display_data"
    },
    {
     "name": "stdout",
     "output_type": "stream",
     "text": [
      "Epoch:10/100 AVG Training Loss:0.490 AVG Validation Loss:0.490 AVG Training Acc 79.92 % AVG Validation Acc 79.44 %\n",
      "Epoch:20/100 AVG Training Loss:0.485 AVG Validation Loss:0.474 AVG Training Acc 79.99 % AVG Validation Acc 79.97 %\n",
      "Epoch:30/100 AVG Training Loss:0.475 AVG Validation Loss:0.477 AVG Training Acc 79.99 % AVG Validation Acc 79.70 %\n",
      "Epoch:40/100 AVG Training Loss:0.474 AVG Validation Loss:0.478 AVG Training Acc 79.98 % AVG Validation Acc 79.84 %\n",
      "Epoch    44: reducing learning rate of group 0 to 1.0000e-03.\n",
      "Epoch:50/100 AVG Training Loss:0.457 AVG Validation Loss:0.482 AVG Training Acc 80.19 % AVG Validation Acc 79.03 %\n",
      "Epoch:60/100 AVG Training Loss:0.441 AVG Validation Loss:0.487 AVG Training Acc 80.63 % AVG Validation Acc 79.03 %\n",
      "Epoch:70/100 AVG Training Loss:0.432 AVG Validation Loss:0.498 AVG Training Acc 80.89 % AVG Validation Acc 78.09 %\n",
      "Epoch    75: reducing learning rate of group 0 to 1.0000e-04.\n",
      "Epoch:80/100 AVG Training Loss:0.422 AVG Validation Loss:0.505 AVG Training Acc 81.31 % AVG Validation Acc 78.63 %\n",
      "Epoch:90/100 AVG Training Loss:0.416 AVG Validation Loss:0.508 AVG Training Acc 81.44 % AVG Validation Acc 78.23 %\n",
      "Epoch:100/100 AVG Training Loss:0.416 AVG Validation Loss:0.505 AVG Training Acc 81.59 % AVG Validation Acc 77.96 %\n",
      "Split 13\n"
     ]
    },
    {
     "data": {
      "application/vnd.jupyter.widget-view+json": {
       "model_id": "022655bc469441b1bf1c77a8b97b18c9",
       "version_major": 2,
       "version_minor": 0
      },
      "text/plain": [
       "  0%|          | 0/100 [00:00<?, ?it/s]"
      ]
     },
     "metadata": {},
     "output_type": "display_data"
    },
    {
     "name": "stdout",
     "output_type": "stream",
     "text": [
      "Epoch:10/100 AVG Training Loss:0.495 AVG Validation Loss:0.475 AVG Training Acc 79.74 % AVG Validation Acc 81.59 %\n",
      "Epoch:20/100 AVG Training Loss:0.490 AVG Validation Loss:0.476 AVG Training Acc 79.66 % AVG Validation Acc 81.59 %\n",
      "Epoch:30/100 AVG Training Loss:0.481 AVG Validation Loss:0.465 AVG Training Acc 79.68 % AVG Validation Acc 81.85 %\n",
      "Epoch:40/100 AVG Training Loss:0.476 AVG Validation Loss:0.476 AVG Training Acc 79.57 % AVG Validation Acc 81.18 %\n",
      "Epoch    41: reducing learning rate of group 0 to 1.0000e-03.\n",
      "Epoch:50/100 AVG Training Loss:0.455 AVG Validation Loss:0.493 AVG Training Acc 80.35 % AVG Validation Acc 81.59 %\n",
      "Epoch:60/100 AVG Training Loss:0.447 AVG Validation Loss:0.497 AVG Training Acc 80.69 % AVG Validation Acc 81.45 %\n",
      "Epoch:70/100 AVG Training Loss:0.436 AVG Validation Loss:0.510 AVG Training Acc 81.02 % AVG Validation Acc 81.05 %\n",
      "Epoch    72: reducing learning rate of group 0 to 1.0000e-04.\n",
      "Epoch:80/100 AVG Training Loss:0.431 AVG Validation Loss:0.512 AVG Training Acc 80.89 % AVG Validation Acc 80.91 %\n",
      "Epoch:90/100 AVG Training Loss:0.429 AVG Validation Loss:0.510 AVG Training Acc 81.13 % AVG Validation Acc 81.32 %\n",
      "Epoch:100/100 AVG Training Loss:0.429 AVG Validation Loss:0.514 AVG Training Acc 81.11 % AVG Validation Acc 80.65 %\n",
      "Split 14\n"
     ]
    },
    {
     "data": {
      "application/vnd.jupyter.widget-view+json": {
       "model_id": "b7b5397315884801b7afb5bd6e7b8e89",
       "version_major": 2,
       "version_minor": 0
      },
      "text/plain": [
       "  0%|          | 0/100 [00:00<?, ?it/s]"
      ]
     },
     "metadata": {},
     "output_type": "display_data"
    },
    {
     "name": "stdout",
     "output_type": "stream",
     "text": [
      "Epoch:10/100 AVG Training Loss:0.492 AVG Validation Loss:0.483 AVG Training Acc 79.74 % AVG Validation Acc 80.78 %\n",
      "Epoch    19: reducing learning rate of group 0 to 1.0000e-03.\n",
      "Epoch:20/100 AVG Training Loss:0.482 AVG Validation Loss:0.480 AVG Training Acc 79.80 % AVG Validation Acc 80.78 %\n",
      "Epoch:30/100 AVG Training Loss:0.473 AVG Validation Loss:0.484 AVG Training Acc 79.93 % AVG Validation Acc 80.24 %\n",
      "Epoch:40/100 AVG Training Loss:0.464 AVG Validation Loss:0.498 AVG Training Acc 80.08 % AVG Validation Acc 80.51 %\n",
      "Epoch:50/100 AVG Training Loss:0.455 AVG Validation Loss:0.502 AVG Training Acc 80.41 % AVG Validation Acc 79.97 %\n",
      "Epoch    50: reducing learning rate of group 0 to 1.0000e-04.\n",
      "Epoch:60/100 AVG Training Loss:0.450 AVG Validation Loss:0.505 AVG Training Acc 80.60 % AVG Validation Acc 80.11 %\n",
      "Epoch:70/100 AVG Training Loss:0.448 AVG Validation Loss:0.504 AVG Training Acc 80.45 % AVG Validation Acc 79.84 %\n",
      "Epoch:80/100 AVG Training Loss:0.447 AVG Validation Loss:0.506 AVG Training Acc 80.80 % AVG Validation Acc 79.97 %\n",
      "Epoch    81: reducing learning rate of group 0 to 1.0000e-05.\n",
      "Epoch:90/100 AVG Training Loss:0.445 AVG Validation Loss:0.507 AVG Training Acc 80.81 % AVG Validation Acc 80.11 %\n",
      "Epoch:100/100 AVG Training Loss:0.447 AVG Validation Loss:0.507 AVG Training Acc 80.60 % AVG Validation Acc 79.84 %\n",
      "Split 15\n"
     ]
    },
    {
     "data": {
      "application/vnd.jupyter.widget-view+json": {
       "model_id": "7059a7e5366e475f9911890fdfa6b2c5",
       "version_major": 2,
       "version_minor": 0
      },
      "text/plain": [
       "  0%|          | 0/100 [00:00<?, ?it/s]"
      ]
     },
     "metadata": {},
     "output_type": "display_data"
    },
    {
     "name": "stdout",
     "output_type": "stream",
     "text": [
      "Epoch:10/100 AVG Training Loss:0.489 AVG Validation Loss:0.504 AVG Training Acc 79.96 % AVG Validation Acc 79.03 %\n",
      "Epoch:20/100 AVG Training Loss:0.485 AVG Validation Loss:0.507 AVG Training Acc 80.01 % AVG Validation Acc 79.17 %\n",
      "Epoch:30/100 AVG Training Loss:0.475 AVG Validation Loss:0.510 AVG Training Acc 80.01 % AVG Validation Acc 78.90 %\n",
      "Epoch    34: reducing learning rate of group 0 to 1.0000e-03.\n",
      "Epoch:40/100 AVG Training Loss:0.462 AVG Validation Loss:0.516 AVG Training Acc 80.17 % AVG Validation Acc 79.30 %\n",
      "Epoch:50/100 AVG Training Loss:0.451 AVG Validation Loss:0.532 AVG Training Acc 80.23 % AVG Validation Acc 78.76 %\n",
      "Epoch:60/100 AVG Training Loss:0.443 AVG Validation Loss:0.552 AVG Training Acc 80.48 % AVG Validation Acc 78.49 %\n",
      "Epoch    65: reducing learning rate of group 0 to 1.0000e-04.\n",
      "Epoch:70/100 AVG Training Loss:0.431 AVG Validation Loss:0.563 AVG Training Acc 80.63 % AVG Validation Acc 77.82 %\n",
      "Epoch:80/100 AVG Training Loss:0.429 AVG Validation Loss:0.564 AVG Training Acc 80.75 % AVG Validation Acc 77.69 %\n",
      "Epoch:90/100 AVG Training Loss:0.431 AVG Validation Loss:0.572 AVG Training Acc 80.66 % AVG Validation Acc 77.82 %\n",
      "Epoch    96: reducing learning rate of group 0 to 1.0000e-05.\n",
      "Epoch:100/100 AVG Training Loss:0.430 AVG Validation Loss:0.569 AVG Training Acc 80.53 % AVG Validation Acc 77.82 %\n",
      "Split 16\n"
     ]
    },
    {
     "data": {
      "application/vnd.jupyter.widget-view+json": {
       "model_id": "6e700a158e6f4c5f96f9f8829106a9c5",
       "version_major": 2,
       "version_minor": 0
      },
      "text/plain": [
       "  0%|          | 0/100 [00:00<?, ?it/s]"
      ]
     },
     "metadata": {},
     "output_type": "display_data"
    },
    {
     "name": "stdout",
     "output_type": "stream",
     "text": [
      "Epoch:10/100 AVG Training Loss:0.488 AVG Validation Loss:0.514 AVG Training Acc 80.10 % AVG Validation Acc 77.02 %\n",
      "Epoch:20/100 AVG Training Loss:0.480 AVG Validation Loss:0.518 AVG Training Acc 80.17 % AVG Validation Acc 77.02 %\n",
      "Epoch    25: reducing learning rate of group 0 to 1.0000e-03.\n",
      "Epoch:30/100 AVG Training Loss:0.461 AVG Validation Loss:0.522 AVG Training Acc 80.45 % AVG Validation Acc 77.02 %\n",
      "Epoch:40/100 AVG Training Loss:0.455 AVG Validation Loss:0.530 AVG Training Acc 80.16 % AVG Validation Acc 76.61 %\n",
      "Epoch:50/100 AVG Training Loss:0.445 AVG Validation Loss:0.558 AVG Training Acc 80.60 % AVG Validation Acc 76.61 %\n",
      "Epoch    56: reducing learning rate of group 0 to 1.0000e-04.\n",
      "Epoch:60/100 AVG Training Loss:0.433 AVG Validation Loss:0.568 AVG Training Acc 80.89 % AVG Validation Acc 75.94 %\n",
      "Epoch:70/100 AVG Training Loss:0.430 AVG Validation Loss:0.578 AVG Training Acc 80.98 % AVG Validation Acc 75.94 %\n",
      "Epoch:80/100 AVG Training Loss:0.427 AVG Validation Loss:0.576 AVG Training Acc 81.17 % AVG Validation Acc 75.67 %\n",
      "Epoch    87: reducing learning rate of group 0 to 1.0000e-05.\n",
      "Epoch:90/100 AVG Training Loss:0.427 AVG Validation Loss:0.578 AVG Training Acc 81.28 % AVG Validation Acc 76.08 %\n",
      "Epoch:100/100 AVG Training Loss:0.426 AVG Validation Loss:0.579 AVG Training Acc 81.01 % AVG Validation Acc 75.94 %\n",
      "Split 17\n"
     ]
    },
    {
     "data": {
      "application/vnd.jupyter.widget-view+json": {
       "model_id": "99f4c991e4a84b18926e4025e7f07b37",
       "version_major": 2,
       "version_minor": 0
      },
      "text/plain": [
       "  0%|          | 0/100 [00:00<?, ?it/s]"
      ]
     },
     "metadata": {},
     "output_type": "display_data"
    },
    {
     "name": "stdout",
     "output_type": "stream",
     "text": [
      "Epoch:10/100 AVG Training Loss:0.488 AVG Validation Loss:0.513 AVG Training Acc 80.11 % AVG Validation Acc 77.66 %\n",
      "Epoch:20/100 AVG Training Loss:0.482 AVG Validation Loss:0.506 AVG Training Acc 80.17 % AVG Validation Acc 77.66 %\n",
      "Epoch    28: reducing learning rate of group 0 to 1.0000e-03.\n",
      "Epoch:30/100 AVG Training Loss:0.486 AVG Validation Loss:0.512 AVG Training Acc 80.11 % AVG Validation Acc 77.66 %\n",
      "Epoch:40/100 AVG Training Loss:0.475 AVG Validation Loss:0.511 AVG Training Acc 80.11 % AVG Validation Acc 77.66 %\n",
      "Epoch:50/100 AVG Training Loss:0.468 AVG Validation Loss:0.508 AVG Training Acc 80.19 % AVG Validation Acc 77.79 %\n",
      "Epoch    59: reducing learning rate of group 0 to 1.0000e-04.\n",
      "Epoch:60/100 AVG Training Loss:0.456 AVG Validation Loss:0.506 AVG Training Acc 80.53 % AVG Validation Acc 77.52 %\n",
      "Epoch:70/100 AVG Training Loss:0.456 AVG Validation Loss:0.505 AVG Training Acc 80.50 % AVG Validation Acc 77.52 %\n",
      "Epoch:80/100 AVG Training Loss:0.453 AVG Validation Loss:0.508 AVG Training Acc 80.55 % AVG Validation Acc 77.79 %\n",
      "Epoch:90/100 AVG Training Loss:0.451 AVG Validation Loss:0.507 AVG Training Acc 80.55 % AVG Validation Acc 77.93 %\n",
      "Epoch    90: reducing learning rate of group 0 to 1.0000e-05.\n",
      "Epoch:100/100 AVG Training Loss:0.454 AVG Validation Loss:0.506 AVG Training Acc 80.64 % AVG Validation Acc 77.52 %\n",
      "Split 18\n"
     ]
    },
    {
     "data": {
      "application/vnd.jupyter.widget-view+json": {
       "model_id": "8dbd6568ddfd46108e7788891175d641",
       "version_major": 2,
       "version_minor": 0
      },
      "text/plain": [
       "  0%|          | 0/100 [00:00<?, ?it/s]"
      ]
     },
     "metadata": {},
     "output_type": "display_data"
    },
    {
     "name": "stdout",
     "output_type": "stream",
     "text": [
      "Epoch:10/100 AVG Training Loss:0.490 AVG Validation Loss:0.487 AVG Training Acc 79.80 % AVG Validation Acc 80.75 %\n",
      "Epoch    15: reducing learning rate of group 0 to 1.0000e-03.\n",
      "Epoch:20/100 AVG Training Loss:0.479 AVG Validation Loss:0.489 AVG Training Acc 79.86 % AVG Validation Acc 80.75 %\n",
      "Epoch:30/100 AVG Training Loss:0.473 AVG Validation Loss:0.490 AVG Training Acc 79.99 % AVG Validation Acc 80.48 %\n",
      "Epoch:40/100 AVG Training Loss:0.467 AVG Validation Loss:0.489 AVG Training Acc 80.07 % AVG Validation Acc 80.75 %\n",
      "Epoch:50/100 AVG Training Loss:0.459 AVG Validation Loss:0.491 AVG Training Acc 80.26 % AVG Validation Acc 80.62 %\n",
      "Epoch    56: reducing learning rate of group 0 to 1.0000e-04.\n",
      "Epoch:60/100 AVG Training Loss:0.449 AVG Validation Loss:0.501 AVG Training Acc 80.56 % AVG Validation Acc 80.22 %\n",
      "Epoch:70/100 AVG Training Loss:0.445 AVG Validation Loss:0.502 AVG Training Acc 80.85 % AVG Validation Acc 80.22 %\n",
      "Epoch:80/100 AVG Training Loss:0.447 AVG Validation Loss:0.504 AVG Training Acc 80.52 % AVG Validation Acc 80.08 %\n",
      "Epoch    87: reducing learning rate of group 0 to 1.0000e-05.\n",
      "Epoch:90/100 AVG Training Loss:0.444 AVG Validation Loss:0.504 AVG Training Acc 80.82 % AVG Validation Acc 80.22 %\n",
      "Epoch:100/100 AVG Training Loss:0.446 AVG Validation Loss:0.505 AVG Training Acc 80.73 % AVG Validation Acc 79.95 %\n",
      "Split 19\n"
     ]
    },
    {
     "data": {
      "application/vnd.jupyter.widget-view+json": {
       "model_id": "c604667e5bbe4fec86fb52d7eae7f3f8",
       "version_major": 2,
       "version_minor": 0
      },
      "text/plain": [
       "  0%|          | 0/100 [00:00<?, ?it/s]"
      ]
     },
     "metadata": {},
     "output_type": "display_data"
    },
    {
     "name": "stdout",
     "output_type": "stream",
     "text": [
      "Epoch:10/100 AVG Training Loss:0.493 AVG Validation Loss:0.475 AVG Training Acc 79.78 % AVG Validation Acc 80.62 %\n",
      "Epoch:20/100 AVG Training Loss:0.487 AVG Validation Loss:0.472 AVG Training Acc 79.80 % AVG Validation Acc 80.62 %\n",
      "Epoch    26: reducing learning rate of group 0 to 1.0000e-03.\n",
      "Epoch:30/100 AVG Training Loss:0.471 AVG Validation Loss:0.469 AVG Training Acc 79.96 % AVG Validation Acc 80.48 %\n",
      "Epoch:40/100 AVG Training Loss:0.460 AVG Validation Loss:0.482 AVG Training Acc 80.16 % AVG Validation Acc 80.08 %\n",
      "Epoch:50/100 AVG Training Loss:0.452 AVG Validation Loss:0.483 AVG Training Acc 80.52 % AVG Validation Acc 79.68 %\n",
      "Epoch    57: reducing learning rate of group 0 to 1.0000e-04.\n",
      "Epoch:60/100 AVG Training Loss:0.443 AVG Validation Loss:0.493 AVG Training Acc 80.82 % AVG Validation Acc 79.81 %\n",
      "Epoch:70/100 AVG Training Loss:0.441 AVG Validation Loss:0.497 AVG Training Acc 81.02 % AVG Validation Acc 79.68 %\n",
      "Epoch:80/100 AVG Training Loss:0.439 AVG Validation Loss:0.507 AVG Training Acc 81.14 % AVG Validation Acc 79.68 %\n",
      "Epoch    88: reducing learning rate of group 0 to 1.0000e-05.\n",
      "Epoch:90/100 AVG Training Loss:0.440 AVG Validation Loss:0.505 AVG Training Acc 80.89 % AVG Validation Acc 79.54 %\n",
      "Epoch:100/100 AVG Training Loss:0.439 AVG Validation Loss:0.506 AVG Training Acc 81.02 % AVG Validation Acc 79.54 %\n",
      "Split 20\n"
     ]
    },
    {
     "data": {
      "application/vnd.jupyter.widget-view+json": {
       "model_id": "8346013055a248b39921ebdbe335a760",
       "version_major": 2,
       "version_minor": 0
      },
      "text/plain": [
       "  0%|          | 0/100 [00:00<?, ?it/s]"
      ]
     },
     "metadata": {},
     "output_type": "display_data"
    },
    {
     "name": "stdout",
     "output_type": "stream",
     "text": [
      "Epoch:10/100 AVG Training Loss:0.492 AVG Validation Loss:0.509 AVG Training Acc 79.89 % AVG Validation Acc 78.87 %\n",
      "Epoch    17: reducing learning rate of group 0 to 1.0000e-03.\n",
      "Epoch:20/100 AVG Training Loss:0.477 AVG Validation Loss:0.509 AVG Training Acc 79.99 % AVG Validation Acc 78.87 %\n",
      "Epoch:30/100 AVG Training Loss:0.473 AVG Validation Loss:0.510 AVG Training Acc 80.16 % AVG Validation Acc 78.87 %\n",
      "Epoch:40/100 AVG Training Loss:0.469 AVG Validation Loss:0.517 AVG Training Acc 80.05 % AVG Validation Acc 79.14 %\n",
      "Epoch    48: reducing learning rate of group 0 to 1.0000e-04.\n",
      "Epoch:50/100 AVG Training Loss:0.460 AVG Validation Loss:0.521 AVG Training Acc 80.26 % AVG Validation Acc 78.87 %\n",
      "Epoch:60/100 AVG Training Loss:0.459 AVG Validation Loss:0.522 AVG Training Acc 80.28 % AVG Validation Acc 79.00 %\n",
      "Epoch:70/100 AVG Training Loss:0.457 AVG Validation Loss:0.522 AVG Training Acc 80.35 % AVG Validation Acc 79.14 %\n",
      "Epoch    79: reducing learning rate of group 0 to 1.0000e-05.\n",
      "Epoch:80/100 AVG Training Loss:0.458 AVG Validation Loss:0.524 AVG Training Acc 80.44 % AVG Validation Acc 79.14 %\n",
      "Epoch:90/100 AVG Training Loss:0.458 AVG Validation Loss:0.525 AVG Training Acc 80.31 % AVG Validation Acc 79.00 %\n",
      "Epoch:100/100 AVG Training Loss:0.457 AVG Validation Loss:0.525 AVG Training Acc 80.40 % AVG Validation Acc 79.14 %\n",
      "Split 21\n"
     ]
    },
    {
     "data": {
      "application/vnd.jupyter.widget-view+json": {
       "model_id": "79ae6a58aa4c4a4aba2c64c6daad4f5a",
       "version_major": 2,
       "version_minor": 0
      },
      "text/plain": [
       "  0%|          | 0/100 [00:00<?, ?it/s]"
      ]
     },
     "metadata": {},
     "output_type": "display_data"
    },
    {
     "name": "stdout",
     "output_type": "stream",
     "text": [
      "Epoch:10/100 AVG Training Loss:0.491 AVG Validation Loss:0.481 AVG Training Acc 79.74 % AVG Validation Acc 80.11 %\n",
      "Epoch:20/100 AVG Training Loss:0.482 AVG Validation Loss:0.486 AVG Training Acc 79.81 % AVG Validation Acc 79.97 %\n",
      "Epoch    25: reducing learning rate of group 0 to 1.0000e-03.\n",
      "Epoch:30/100 AVG Training Loss:0.472 AVG Validation Loss:0.485 AVG Training Acc 79.96 % AVG Validation Acc 80.11 %\n",
      "Epoch:40/100 AVG Training Loss:0.463 AVG Validation Loss:0.495 AVG Training Acc 80.08 % AVG Validation Acc 79.84 %\n",
      "Epoch:50/100 AVG Training Loss:0.453 AVG Validation Loss:0.512 AVG Training Acc 80.07 % AVG Validation Acc 79.84 %\n",
      "Epoch    56: reducing learning rate of group 0 to 1.0000e-04.\n",
      "Epoch:60/100 AVG Training Loss:0.438 AVG Validation Loss:0.528 AVG Training Acc 80.56 % AVG Validation Acc 79.57 %\n",
      "Epoch:70/100 AVG Training Loss:0.437 AVG Validation Loss:0.536 AVG Training Acc 80.36 % AVG Validation Acc 79.30 %\n",
      "Epoch:80/100 AVG Training Loss:0.434 AVG Validation Loss:0.535 AVG Training Acc 80.50 % AVG Validation Acc 79.57 %\n",
      "Epoch    87: reducing learning rate of group 0 to 1.0000e-05.\n",
      "Epoch:90/100 AVG Training Loss:0.432 AVG Validation Loss:0.537 AVG Training Acc 80.33 % AVG Validation Acc 79.57 %\n",
      "Epoch:100/100 AVG Training Loss:0.431 AVG Validation Loss:0.536 AVG Training Acc 80.50 % AVG Validation Acc 79.17 %\n",
      "Split 22\n"
     ]
    },
    {
     "data": {
      "application/vnd.jupyter.widget-view+json": {
       "model_id": "f8c47d604d8844a9899cad7a2169f5b4",
       "version_major": 2,
       "version_minor": 0
      },
      "text/plain": [
       "  0%|          | 0/100 [00:00<?, ?it/s]"
      ]
     },
     "metadata": {},
     "output_type": "display_data"
    },
    {
     "name": "stdout",
     "output_type": "stream",
     "text": [
      "Epoch:10/100 AVG Training Loss:0.492 AVG Validation Loss:0.488 AVG Training Acc 79.89 % AVG Validation Acc 79.70 %\n",
      "Epoch:20/100 AVG Training Loss:0.487 AVG Validation Loss:0.478 AVG Training Acc 79.84 % AVG Validation Acc 79.70 %\n",
      "Epoch:30/100 AVG Training Loss:0.481 AVG Validation Loss:0.481 AVG Training Acc 79.98 % AVG Validation Acc 79.57 %\n",
      "Epoch:40/100 AVG Training Loss:0.472 AVG Validation Loss:0.485 AVG Training Acc 80.10 % AVG Validation Acc 79.57 %\n",
      "Epoch    43: reducing learning rate of group 0 to 1.0000e-03.\n",
      "Epoch:50/100 AVG Training Loss:0.448 AVG Validation Loss:0.486 AVG Training Acc 80.42 % AVG Validation Acc 79.30 %\n",
      "Epoch:60/100 AVG Training Loss:0.438 AVG Validation Loss:0.498 AVG Training Acc 80.53 % AVG Validation Acc 79.57 %\n",
      "Epoch:70/100 AVG Training Loss:0.424 AVG Validation Loss:0.513 AVG Training Acc 81.17 % AVG Validation Acc 79.03 %\n",
      "Epoch    74: reducing learning rate of group 0 to 1.0000e-04.\n",
      "Epoch:80/100 AVG Training Loss:0.415 AVG Validation Loss:0.522 AVG Training Acc 81.29 % AVG Validation Acc 78.90 %\n",
      "Epoch:90/100 AVG Training Loss:0.414 AVG Validation Loss:0.529 AVG Training Acc 81.43 % AVG Validation Acc 78.09 %\n",
      "Epoch:100/100 AVG Training Loss:0.416 AVG Validation Loss:0.539 AVG Training Acc 81.53 % AVG Validation Acc 77.82 %\n",
      "Split 23\n"
     ]
    },
    {
     "data": {
      "application/vnd.jupyter.widget-view+json": {
       "model_id": "7c21e416f5e54028a05903f660ec3391",
       "version_major": 2,
       "version_minor": 0
      },
      "text/plain": [
       "  0%|          | 0/100 [00:00<?, ?it/s]"
      ]
     },
     "metadata": {},
     "output_type": "display_data"
    },
    {
     "name": "stdout",
     "output_type": "stream",
     "text": [
      "Epoch:10/100 AVG Training Loss:0.495 AVG Validation Loss:0.504 AVG Training Acc 79.83 % AVG Validation Acc 80.11 %\n",
      "Epoch    13: reducing learning rate of group 0 to 1.0000e-03.\n",
      "Epoch:20/100 AVG Training Loss:0.481 AVG Validation Loss:0.499 AVG Training Acc 79.78 % AVG Validation Acc 80.11 %\n",
      "Epoch:30/100 AVG Training Loss:0.479 AVG Validation Loss:0.499 AVG Training Acc 79.86 % AVG Validation Acc 79.70 %\n",
      "Epoch:40/100 AVG Training Loss:0.473 AVG Validation Loss:0.496 AVG Training Acc 79.95 % AVG Validation Acc 79.70 %\n",
      "Epoch    44: reducing learning rate of group 0 to 1.0000e-04.\n",
      "Epoch:50/100 AVG Training Loss:0.467 AVG Validation Loss:0.499 AVG Training Acc 79.96 % AVG Validation Acc 79.70 %\n",
      "Epoch:60/100 AVG Training Loss:0.465 AVG Validation Loss:0.500 AVG Training Acc 80.16 % AVG Validation Acc 79.70 %\n",
      "Epoch:70/100 AVG Training Loss:0.463 AVG Validation Loss:0.501 AVG Training Acc 80.02 % AVG Validation Acc 79.70 %\n",
      "Epoch    75: reducing learning rate of group 0 to 1.0000e-05.\n",
      "Epoch:80/100 AVG Training Loss:0.462 AVG Validation Loss:0.502 AVG Training Acc 80.26 % AVG Validation Acc 79.70 %\n",
      "Epoch:90/100 AVG Training Loss:0.463 AVG Validation Loss:0.503 AVG Training Acc 80.05 % AVG Validation Acc 79.70 %\n",
      "Epoch:100/100 AVG Training Loss:0.461 AVG Validation Loss:0.503 AVG Training Acc 80.16 % AVG Validation Acc 79.57 %\n",
      "Split 24\n"
     ]
    },
    {
     "data": {
      "application/vnd.jupyter.widget-view+json": {
       "model_id": "19bfd068db4e41be9526a21354c9c0a6",
       "version_major": 2,
       "version_minor": 0
      },
      "text/plain": [
       "  0%|          | 0/100 [00:00<?, ?it/s]"
      ]
     },
     "metadata": {},
     "output_type": "display_data"
    },
    {
     "name": "stdout",
     "output_type": "stream",
     "text": [
      "Epoch:10/100 AVG Training Loss:0.489 AVG Validation Loss:0.495 AVG Training Acc 79.92 % AVG Validation Acc 79.30 %\n",
      "Epoch:20/100 AVG Training Loss:0.503 AVG Validation Loss:0.519 AVG Training Acc 79.93 % AVG Validation Acc 79.30 %\n",
      "Epoch    25: reducing learning rate of group 0 to 1.0000e-03.\n",
      "Epoch:30/100 AVG Training Loss:0.491 AVG Validation Loss:0.495 AVG Training Acc 79.93 % AVG Validation Acc 79.30 %\n",
      "Epoch:40/100 AVG Training Loss:0.491 AVG Validation Loss:0.495 AVG Training Acc 79.95 % AVG Validation Acc 79.30 %\n",
      "Epoch:50/100 AVG Training Loss:0.489 AVG Validation Loss:0.495 AVG Training Acc 79.95 % AVG Validation Acc 79.30 %\n",
      "Epoch    56: reducing learning rate of group 0 to 1.0000e-04.\n",
      "Epoch:60/100 AVG Training Loss:0.488 AVG Validation Loss:0.493 AVG Training Acc 79.95 % AVG Validation Acc 79.30 %\n",
      "Epoch:70/100 AVG Training Loss:0.488 AVG Validation Loss:0.493 AVG Training Acc 79.95 % AVG Validation Acc 79.30 %\n",
      "Epoch:80/100 AVG Training Loss:0.488 AVG Validation Loss:0.493 AVG Training Acc 79.95 % AVG Validation Acc 79.30 %\n",
      "Epoch    87: reducing learning rate of group 0 to 1.0000e-05.\n",
      "Epoch:90/100 AVG Training Loss:0.486 AVG Validation Loss:0.493 AVG Training Acc 79.93 % AVG Validation Acc 79.30 %\n",
      "Epoch:100/100 AVG Training Loss:0.486 AVG Validation Loss:0.493 AVG Training Acc 79.95 % AVG Validation Acc 79.30 %\n",
      "Split 25\n"
     ]
    },
    {
     "data": {
      "application/vnd.jupyter.widget-view+json": {
       "model_id": "18d4fdd6c3604d02a7ce522025967dfb",
       "version_major": 2,
       "version_minor": 0
      },
      "text/plain": [
       "  0%|          | 0/100 [00:00<?, ?it/s]"
      ]
     },
     "metadata": {},
     "output_type": "display_data"
    },
    {
     "name": "stdout",
     "output_type": "stream",
     "text": [
      "Epoch:10/100 AVG Training Loss:0.490 AVG Validation Loss:0.508 AVG Training Acc 79.95 % AVG Validation Acc 79.17 %\n",
      "Epoch:20/100 AVG Training Loss:0.485 AVG Validation Loss:0.501 AVG Training Acc 79.95 % AVG Validation Acc 79.17 %\n",
      "Epoch:30/100 AVG Training Loss:0.480 AVG Validation Loss:0.500 AVG Training Acc 80.01 % AVG Validation Acc 79.17 %\n",
      "Epoch    36: reducing learning rate of group 0 to 1.0000e-03.\n",
      "Epoch:40/100 AVG Training Loss:0.461 AVG Validation Loss:0.502 AVG Training Acc 80.11 % AVG Validation Acc 79.57 %\n",
      "Epoch:50/100 AVG Training Loss:0.453 AVG Validation Loss:0.512 AVG Training Acc 80.42 % AVG Validation Acc 79.97 %\n",
      "Epoch:60/100 AVG Training Loss:0.445 AVG Validation Loss:0.514 AVG Training Acc 80.54 % AVG Validation Acc 79.84 %\n",
      "Epoch    67: reducing learning rate of group 0 to 1.0000e-04.\n",
      "Epoch:70/100 AVG Training Loss:0.436 AVG Validation Loss:0.518 AVG Training Acc 80.80 % AVG Validation Acc 79.70 %\n",
      "Epoch:80/100 AVG Training Loss:0.435 AVG Validation Loss:0.519 AVG Training Acc 80.80 % AVG Validation Acc 79.57 %\n",
      "Epoch:90/100 AVG Training Loss:0.434 AVG Validation Loss:0.522 AVG Training Acc 80.99 % AVG Validation Acc 79.30 %\n",
      "Epoch    98: reducing learning rate of group 0 to 1.0000e-05.\n",
      "Epoch:100/100 AVG Training Loss:0.433 AVG Validation Loss:0.524 AVG Training Acc 80.93 % AVG Validation Acc 79.30 %\n",
      "Split 26\n"
     ]
    },
    {
     "data": {
      "application/vnd.jupyter.widget-view+json": {
       "model_id": "16b97b4e0528411ebe375aa45e6fefbf",
       "version_major": 2,
       "version_minor": 0
      },
      "text/plain": [
       "  0%|          | 0/100 [00:00<?, ?it/s]"
      ]
     },
     "metadata": {},
     "output_type": "display_data"
    },
    {
     "name": "stdout",
     "output_type": "stream",
     "text": [
      "Epoch:10/100 AVG Training Loss:0.492 AVG Validation Loss:0.468 AVG Training Acc 79.74 % AVG Validation Acc 81.05 %\n",
      "Epoch:20/100 AVG Training Loss:0.485 AVG Validation Loss:0.470 AVG Training Acc 79.80 % AVG Validation Acc 81.32 %\n",
      "Epoch    26: reducing learning rate of group 0 to 1.0000e-03.\n",
      "Epoch:30/100 AVG Training Loss:0.472 AVG Validation Loss:0.468 AVG Training Acc 79.90 % AVG Validation Acc 80.91 %\n",
      "Epoch:40/100 AVG Training Loss:0.463 AVG Validation Loss:0.470 AVG Training Acc 79.78 % AVG Validation Acc 81.32 %\n",
      "Epoch:50/100 AVG Training Loss:0.452 AVG Validation Loss:0.481 AVG Training Acc 80.23 % AVG Validation Acc 81.18 %\n",
      "Epoch    57: reducing learning rate of group 0 to 1.0000e-04.\n",
      "Epoch:60/100 AVG Training Loss:0.442 AVG Validation Loss:0.482 AVG Training Acc 80.62 % AVG Validation Acc 81.05 %\n",
      "Epoch:70/100 AVG Training Loss:0.441 AVG Validation Loss:0.490 AVG Training Acc 80.47 % AVG Validation Acc 80.91 %\n",
      "Epoch:80/100 AVG Training Loss:0.436 AVG Validation Loss:0.487 AVG Training Acc 80.69 % AVG Validation Acc 81.05 %\n",
      "Epoch    88: reducing learning rate of group 0 to 1.0000e-05.\n",
      "Epoch:90/100 AVG Training Loss:0.434 AVG Validation Loss:0.489 AVG Training Acc 80.74 % AVG Validation Acc 80.65 %\n",
      "Epoch:100/100 AVG Training Loss:0.435 AVG Validation Loss:0.489 AVG Training Acc 80.78 % AVG Validation Acc 80.91 %\n",
      "Split 27\n"
     ]
    },
    {
     "data": {
      "application/vnd.jupyter.widget-view+json": {
       "model_id": "4f9f3e5603624fdb9cfe743e66d770c8",
       "version_major": 2,
       "version_minor": 0
      },
      "text/plain": [
       "  0%|          | 0/100 [00:00<?, ?it/s]"
      ]
     },
     "metadata": {},
     "output_type": "display_data"
    },
    {
     "name": "stdout",
     "output_type": "stream",
     "text": [
      "Epoch:10/100 AVG Training Loss:0.489 AVG Validation Loss:0.515 AVG Training Acc 80.04 % AVG Validation Acc 78.06 %\n",
      "Epoch:20/100 AVG Training Loss:0.481 AVG Validation Loss:0.514 AVG Training Acc 80.05 % AVG Validation Acc 78.06 %\n",
      "Epoch:30/100 AVG Training Loss:0.476 AVG Validation Loss:0.514 AVG Training Acc 80.26 % AVG Validation Acc 77.79 %\n",
      "Epoch:40/100 AVG Training Loss:0.470 AVG Validation Loss:0.514 AVG Training Acc 80.20 % AVG Validation Acc 77.93 %\n",
      "Epoch    48: reducing learning rate of group 0 to 1.0000e-03.\n",
      "Epoch:50/100 AVG Training Loss:0.470 AVG Validation Loss:0.513 AVG Training Acc 80.25 % AVG Validation Acc 78.06 %\n",
      "Epoch:60/100 AVG Training Loss:0.443 AVG Validation Loss:0.519 AVG Training Acc 81.10 % AVG Validation Acc 78.20 %\n",
      "Epoch:70/100 AVG Training Loss:0.429 AVG Validation Loss:0.534 AVG Training Acc 81.19 % AVG Validation Acc 77.52 %\n",
      "Epoch    79: reducing learning rate of group 0 to 1.0000e-04.\n",
      "Epoch:80/100 AVG Training Loss:0.416 AVG Validation Loss:0.552 AVG Training Acc 81.77 % AVG Validation Acc 77.79 %\n",
      "Epoch:90/100 AVG Training Loss:0.413 AVG Validation Loss:0.552 AVG Training Acc 81.92 % AVG Validation Acc 77.39 %\n",
      "Epoch:100/100 AVG Training Loss:0.413 AVG Validation Loss:0.552 AVG Training Acc 81.79 % AVG Validation Acc 77.93 %\n",
      "Split 28\n"
     ]
    },
    {
     "data": {
      "application/vnd.jupyter.widget-view+json": {
       "model_id": "ecb4e3f796c646bfa593ad207c776486",
       "version_major": 2,
       "version_minor": 0
      },
      "text/plain": [
       "  0%|          | 0/100 [00:00<?, ?it/s]"
      ]
     },
     "metadata": {},
     "output_type": "display_data"
    },
    {
     "name": "stdout",
     "output_type": "stream",
     "text": [
      "Epoch:10/100 AVG Training Loss:0.494 AVG Validation Loss:0.501 AVG Training Acc 79.87 % AVG Validation Acc 79.27 %\n",
      "Epoch:20/100 AVG Training Loss:0.484 AVG Validation Loss:0.502 AVG Training Acc 79.99 % AVG Validation Acc 79.27 %\n",
      "Epoch    27: reducing learning rate of group 0 to 1.0000e-03.\n",
      "Epoch:30/100 AVG Training Loss:0.475 AVG Validation Loss:0.503 AVG Training Acc 80.08 % AVG Validation Acc 78.87 %\n",
      "Epoch:40/100 AVG Training Loss:0.467 AVG Validation Loss:0.504 AVG Training Acc 80.34 % AVG Validation Acc 78.60 %\n",
      "Epoch:50/100 AVG Training Loss:0.458 AVG Validation Loss:0.507 AVG Training Acc 80.40 % AVG Validation Acc 78.73 %\n",
      "Epoch    58: reducing learning rate of group 0 to 1.0000e-04.\n",
      "Epoch:60/100 AVG Training Loss:0.447 AVG Validation Loss:0.509 AVG Training Acc 80.65 % AVG Validation Acc 78.60 %\n",
      "Epoch:70/100 AVG Training Loss:0.446 AVG Validation Loss:0.510 AVG Training Acc 80.76 % AVG Validation Acc 78.47 %\n",
      "Epoch:80/100 AVG Training Loss:0.445 AVG Validation Loss:0.512 AVG Training Acc 80.88 % AVG Validation Acc 78.20 %\n",
      "Epoch    89: reducing learning rate of group 0 to 1.0000e-05.\n",
      "Epoch:90/100 AVG Training Loss:0.444 AVG Validation Loss:0.512 AVG Training Acc 81.00 % AVG Validation Acc 78.33 %\n",
      "Epoch:100/100 AVG Training Loss:0.444 AVG Validation Loss:0.512 AVG Training Acc 80.77 % AVG Validation Acc 78.47 %\n",
      "Split 29\n"
     ]
    },
    {
     "data": {
      "application/vnd.jupyter.widget-view+json": {
       "model_id": "7f954e911d964ca08f2d75661b1e2a42",
       "version_major": 2,
       "version_minor": 0
      },
      "text/plain": [
       "  0%|          | 0/100 [00:00<?, ?it/s]"
      ]
     },
     "metadata": {},
     "output_type": "display_data"
    },
    {
     "name": "stdout",
     "output_type": "stream",
     "text": [
      "Epoch:10/100 AVG Training Loss:0.492 AVG Validation Loss:0.476 AVG Training Acc 79.64 % AVG Validation Acc 81.43 %\n",
      "Epoch:20/100 AVG Training Loss:0.485 AVG Validation Loss:0.474 AVG Training Acc 79.68 % AVG Validation Acc 81.43 %\n",
      "Epoch:30/100 AVG Training Loss:0.482 AVG Validation Loss:0.480 AVG Training Acc 79.71 % AVG Validation Acc 81.43 %\n",
      "Epoch    31: reducing learning rate of group 0 to 1.0000e-03.\n",
      "Epoch:40/100 AVG Training Loss:0.461 AVG Validation Loss:0.483 AVG Training Acc 79.93 % AVG Validation Acc 81.43 %\n",
      "Epoch:50/100 AVG Training Loss:0.447 AVG Validation Loss:0.498 AVG Training Acc 80.34 % AVG Validation Acc 81.29 %\n",
      "Epoch:60/100 AVG Training Loss:0.438 AVG Validation Loss:0.513 AVG Training Acc 80.56 % AVG Validation Acc 81.29 %\n",
      "Epoch    62: reducing learning rate of group 0 to 1.0000e-04.\n",
      "Epoch:70/100 AVG Training Loss:0.434 AVG Validation Loss:0.508 AVG Training Acc 80.62 % AVG Validation Acc 81.29 %\n",
      "Epoch:80/100 AVG Training Loss:0.435 AVG Validation Loss:0.514 AVG Training Acc 80.52 % AVG Validation Acc 81.16 %\n",
      "Epoch:90/100 AVG Training Loss:0.433 AVG Validation Loss:0.514 AVG Training Acc 80.67 % AVG Validation Acc 81.29 %\n",
      "Epoch    93: reducing learning rate of group 0 to 1.0000e-05.\n",
      "Epoch:100/100 AVG Training Loss:0.431 AVG Validation Loss:0.515 AVG Training Acc 80.74 % AVG Validation Acc 81.29 %\n",
      "Split 30\n"
     ]
    },
    {
     "data": {
      "application/vnd.jupyter.widget-view+json": {
       "model_id": "54e8bdca824146b3add6dc0dc57f4923",
       "version_major": 2,
       "version_minor": 0
      },
      "text/plain": [
       "  0%|          | 0/100 [00:00<?, ?it/s]"
      ]
     },
     "metadata": {},
     "output_type": "display_data"
    },
    {
     "name": "stdout",
     "output_type": "stream",
     "text": [
      "Epoch:10/100 AVG Training Loss:0.493 AVG Validation Loss:0.478 AVG Training Acc 79.77 % AVG Validation Acc 80.48 %\n",
      "Epoch:20/100 AVG Training Loss:0.485 AVG Validation Loss:0.476 AVG Training Acc 79.83 % AVG Validation Acc 80.48 %\n",
      "Epoch    28: reducing learning rate of group 0 to 1.0000e-03.\n",
      "Epoch:30/100 AVG Training Loss:0.471 AVG Validation Loss:0.478 AVG Training Acc 79.92 % AVG Validation Acc 79.95 %\n",
      "Epoch:40/100 AVG Training Loss:0.461 AVG Validation Loss:0.480 AVG Training Acc 80.22 % AVG Validation Acc 79.81 %\n",
      "Epoch:50/100 AVG Training Loss:0.454 AVG Validation Loss:0.488 AVG Training Acc 80.47 % AVG Validation Acc 79.27 %\n",
      "Epoch    59: reducing learning rate of group 0 to 1.0000e-04.\n",
      "Epoch:60/100 AVG Training Loss:0.442 AVG Validation Loss:0.498 AVG Training Acc 80.88 % AVG Validation Acc 79.27 %\n",
      "Epoch:70/100 AVG Training Loss:0.441 AVG Validation Loss:0.502 AVG Training Acc 80.83 % AVG Validation Acc 79.14 %\n",
      "Epoch:80/100 AVG Training Loss:0.439 AVG Validation Loss:0.502 AVG Training Acc 80.92 % AVG Validation Acc 79.27 %\n",
      "Epoch:90/100 AVG Training Loss:0.439 AVG Validation Loss:0.504 AVG Training Acc 80.86 % AVG Validation Acc 79.00 %\n",
      "Epoch    90: reducing learning rate of group 0 to 1.0000e-05.\n",
      "Epoch:100/100 AVG Training Loss:0.438 AVG Validation Loss:0.505 AVG Training Acc 81.11 % AVG Validation Acc 79.14 %\n",
      "Split 31\n"
     ]
    },
    {
     "data": {
      "application/vnd.jupyter.widget-view+json": {
       "model_id": "d8e7a6e36da64264875c1cd1dd48ee5d",
       "version_major": 2,
       "version_minor": 0
      },
      "text/plain": [
       "  0%|          | 0/100 [00:00<?, ?it/s]"
      ]
     },
     "metadata": {},
     "output_type": "display_data"
    },
    {
     "name": "stdout",
     "output_type": "stream",
     "text": [
      "Epoch:10/100 AVG Training Loss:0.492 AVG Validation Loss:0.487 AVG Training Acc 79.80 % AVG Validation Acc 79.97 %\n",
      "Epoch:20/100 AVG Training Loss:0.482 AVG Validation Loss:0.485 AVG Training Acc 79.78 % AVG Validation Acc 79.97 %\n",
      "Epoch:30/100 AVG Training Loss:0.478 AVG Validation Loss:0.481 AVG Training Acc 79.83 % AVG Validation Acc 79.97 %\n",
      "Epoch:40/100 AVG Training Loss:0.471 AVG Validation Loss:0.495 AVG Training Acc 79.96 % AVG Validation Acc 79.57 %\n",
      "Epoch:50/100 AVG Training Loss:0.477 AVG Validation Loss:0.482 AVG Training Acc 79.92 % AVG Validation Acc 79.84 %\n",
      "Epoch    52: reducing learning rate of group 0 to 1.0000e-03.\n",
      "Epoch:60/100 AVG Training Loss:0.450 AVG Validation Loss:0.496 AVG Training Acc 80.38 % AVG Validation Acc 79.57 %\n",
      "Epoch:70/100 AVG Training Loss:0.436 AVG Validation Loss:0.502 AVG Training Acc 80.99 % AVG Validation Acc 79.44 %\n",
      "Epoch:80/100 AVG Training Loss:0.430 AVG Validation Loss:0.517 AVG Training Acc 81.23 % AVG Validation Acc 79.44 %\n",
      "Epoch    83: reducing learning rate of group 0 to 1.0000e-04.\n",
      "Epoch:90/100 AVG Training Loss:0.423 AVG Validation Loss:0.537 AVG Training Acc 81.50 % AVG Validation Acc 79.44 %\n",
      "Epoch:100/100 AVG Training Loss:0.423 AVG Validation Loss:0.534 AVG Training Acc 81.23 % AVG Validation Acc 79.44 %\n",
      "Split 32\n"
     ]
    },
    {
     "data": {
      "application/vnd.jupyter.widget-view+json": {
       "model_id": "e4ec7e34f61142d9acd9042beaccbeaa",
       "version_major": 2,
       "version_minor": 0
      },
      "text/plain": [
       "  0%|          | 0/100 [00:00<?, ?it/s]"
      ]
     },
     "metadata": {},
     "output_type": "display_data"
    },
    {
     "name": "stdout",
     "output_type": "stream",
     "text": [
      "Epoch:10/100 AVG Training Loss:0.490 AVG Validation Loss:0.495 AVG Training Acc 79.93 % AVG Validation Acc 79.17 %\n",
      "Epoch:20/100 AVG Training Loss:0.489 AVG Validation Loss:0.496 AVG Training Acc 79.89 % AVG Validation Acc 79.17 %\n",
      "Epoch:30/100 AVG Training Loss:0.483 AVG Validation Loss:0.481 AVG Training Acc 79.92 % AVG Validation Acc 79.30 %\n",
      "Epoch:40/100 AVG Training Loss:0.476 AVG Validation Loss:0.485 AVG Training Acc 80.01 % AVG Validation Acc 79.57 %\n",
      "Epoch    41: reducing learning rate of group 0 to 1.0000e-03.\n",
      "Epoch:50/100 AVG Training Loss:0.455 AVG Validation Loss:0.498 AVG Training Acc 80.41 % AVG Validation Acc 78.76 %\n",
      "Epoch:60/100 AVG Training Loss:0.444 AVG Validation Loss:0.504 AVG Training Acc 80.57 % AVG Validation Acc 78.90 %\n",
      "Epoch:70/100 AVG Training Loss:0.434 AVG Validation Loss:0.523 AVG Training Acc 80.75 % AVG Validation Acc 78.49 %\n",
      "Epoch    72: reducing learning rate of group 0 to 1.0000e-04.\n",
      "Epoch:80/100 AVG Training Loss:0.427 AVG Validation Loss:0.525 AVG Training Acc 81.29 % AVG Validation Acc 78.63 %\n",
      "Epoch:90/100 AVG Training Loss:0.424 AVG Validation Loss:0.525 AVG Training Acc 81.25 % AVG Validation Acc 78.76 %\n",
      "Epoch:100/100 AVG Training Loss:0.424 AVG Validation Loss:0.529 AVG Training Acc 81.32 % AVG Validation Acc 78.76 %\n",
      "Split 33\n"
     ]
    },
    {
     "data": {
      "application/vnd.jupyter.widget-view+json": {
       "model_id": "17f76b3214274d2b8fba08697b1377f2",
       "version_major": 2,
       "version_minor": 0
      },
      "text/plain": [
       "  0%|          | 0/100 [00:00<?, ?it/s]"
      ]
     },
     "metadata": {},
     "output_type": "display_data"
    },
    {
     "name": "stdout",
     "output_type": "stream",
     "text": [
      "Epoch:10/100 AVG Training Loss:0.496 AVG Validation Loss:0.467 AVG Training Acc 79.62 % AVG Validation Acc 81.32 %\n",
      "Epoch:20/100 AVG Training Loss:0.486 AVG Validation Loss:0.469 AVG Training Acc 79.69 % AVG Validation Acc 81.32 %\n",
      "Epoch    20: reducing learning rate of group 0 to 1.0000e-03.\n",
      "Epoch:30/100 AVG Training Loss:0.475 AVG Validation Loss:0.466 AVG Training Acc 79.75 % AVG Validation Acc 81.45 %\n",
      "Epoch:40/100 AVG Training Loss:0.469 AVG Validation Loss:0.469 AVG Training Acc 79.77 % AVG Validation Acc 81.45 %\n",
      "Epoch:50/100 AVG Training Loss:0.463 AVG Validation Loss:0.481 AVG Training Acc 80.07 % AVG Validation Acc 81.72 %\n",
      "Epoch    51: reducing learning rate of group 0 to 1.0000e-04.\n",
      "Epoch:60/100 AVG Training Loss:0.453 AVG Validation Loss:0.483 AVG Training Acc 80.25 % AVG Validation Acc 81.72 %\n",
      "Epoch:70/100 AVG Training Loss:0.451 AVG Validation Loss:0.486 AVG Training Acc 80.25 % AVG Validation Acc 81.45 %\n",
      "Epoch:80/100 AVG Training Loss:0.452 AVG Validation Loss:0.487 AVG Training Acc 80.17 % AVG Validation Acc 81.45 %\n",
      "Epoch    82: reducing learning rate of group 0 to 1.0000e-05.\n",
      "Epoch:90/100 AVG Training Loss:0.451 AVG Validation Loss:0.489 AVG Training Acc 80.22 % AVG Validation Acc 81.32 %\n",
      "Epoch:100/100 AVG Training Loss:0.451 AVG Validation Loss:0.489 AVG Training Acc 80.30 % AVG Validation Acc 81.45 %\n",
      "Split 34\n"
     ]
    },
    {
     "data": {
      "application/vnd.jupyter.widget-view+json": {
       "model_id": "330cbd8127e348859d2fb33b779cbd50",
       "version_major": 2,
       "version_minor": 0
      },
      "text/plain": [
       "  0%|          | 0/100 [00:00<?, ?it/s]"
      ]
     },
     "metadata": {},
     "output_type": "display_data"
    },
    {
     "name": "stdout",
     "output_type": "stream",
     "text": [
      "Epoch:10/100 AVG Training Loss:0.488 AVG Validation Loss:0.505 AVG Training Acc 79.96 % AVG Validation Acc 79.17 %\n",
      "Epoch:20/100 AVG Training Loss:0.482 AVG Validation Loss:0.505 AVG Training Acc 80.02 % AVG Validation Acc 78.36 %\n",
      "Epoch    26: reducing learning rate of group 0 to 1.0000e-03.\n",
      "Epoch:30/100 AVG Training Loss:0.466 AVG Validation Loss:0.502 AVG Training Acc 80.19 % AVG Validation Acc 78.36 %\n",
      "Epoch:40/100 AVG Training Loss:0.455 AVG Validation Loss:0.514 AVG Training Acc 80.50 % AVG Validation Acc 78.63 %\n",
      "Epoch:50/100 AVG Training Loss:0.450 AVG Validation Loss:0.531 AVG Training Acc 80.51 % AVG Validation Acc 77.96 %\n",
      "Epoch    57: reducing learning rate of group 0 to 1.0000e-04.\n",
      "Epoch:60/100 AVG Training Loss:0.438 AVG Validation Loss:0.539 AVG Training Acc 81.07 % AVG Validation Acc 77.82 %\n",
      "Epoch:70/100 AVG Training Loss:0.437 AVG Validation Loss:0.534 AVG Training Acc 80.92 % AVG Validation Acc 77.69 %\n",
      "Epoch:80/100 AVG Training Loss:0.435 AVG Validation Loss:0.538 AVG Training Acc 80.93 % AVG Validation Acc 77.69 %\n",
      "Epoch    88: reducing learning rate of group 0 to 1.0000e-05.\n",
      "Epoch:90/100 AVG Training Loss:0.436 AVG Validation Loss:0.543 AVG Training Acc 80.86 % AVG Validation Acc 77.82 %\n",
      "Epoch:100/100 AVG Training Loss:0.433 AVG Validation Loss:0.542 AVG Training Acc 80.92 % AVG Validation Acc 77.69 %\n",
      "Split 35\n"
     ]
    },
    {
     "data": {
      "application/vnd.jupyter.widget-view+json": {
       "model_id": "9191d21cb3874203b7b03583785a4e22",
       "version_major": 2,
       "version_minor": 0
      },
      "text/plain": [
       "  0%|          | 0/100 [00:00<?, ?it/s]"
      ]
     },
     "metadata": {},
     "output_type": "display_data"
    },
    {
     "name": "stdout",
     "output_type": "stream",
     "text": [
      "Epoch:10/100 AVG Training Loss:0.491 AVG Validation Loss:0.479 AVG Training Acc 79.83 % AVG Validation Acc 80.38 %\n",
      "Epoch:20/100 AVG Training Loss:0.493 AVG Validation Loss:0.481 AVG Training Acc 79.83 % AVG Validation Acc 80.38 %\n",
      "Epoch    26: reducing learning rate of group 0 to 1.0000e-03.\n",
      "Epoch:30/100 AVG Training Loss:0.471 AVG Validation Loss:0.476 AVG Training Acc 80.07 % AVG Validation Acc 80.11 %\n",
      "Epoch:40/100 AVG Training Loss:0.463 AVG Validation Loss:0.478 AVG Training Acc 80.22 % AVG Validation Acc 79.70 %\n",
      "Epoch:50/100 AVG Training Loss:0.459 AVG Validation Loss:0.483 AVG Training Acc 80.36 % AVG Validation Acc 79.84 %\n",
      "Epoch    57: reducing learning rate of group 0 to 1.0000e-04.\n",
      "Epoch:60/100 AVG Training Loss:0.443 AVG Validation Loss:0.485 AVG Training Acc 80.93 % AVG Validation Acc 79.70 %\n",
      "Epoch:70/100 AVG Training Loss:0.444 AVG Validation Loss:0.486 AVG Training Acc 80.99 % AVG Validation Acc 79.70 %\n",
      "Epoch:80/100 AVG Training Loss:0.442 AVG Validation Loss:0.487 AVG Training Acc 80.92 % AVG Validation Acc 79.70 %\n",
      "Epoch    88: reducing learning rate of group 0 to 1.0000e-05.\n",
      "Epoch:90/100 AVG Training Loss:0.439 AVG Validation Loss:0.491 AVG Training Acc 81.11 % AVG Validation Acc 79.57 %\n",
      "Epoch:100/100 AVG Training Loss:0.441 AVG Validation Loss:0.487 AVG Training Acc 80.89 % AVG Validation Acc 79.57 %\n",
      "Split 36\n"
     ]
    },
    {
     "data": {
      "application/vnd.jupyter.widget-view+json": {
       "model_id": "b571c96f7b3044cf8e80e28303100efc",
       "version_major": 2,
       "version_minor": 0
      },
      "text/plain": [
       "  0%|          | 0/100 [00:00<?, ?it/s]"
      ]
     },
     "metadata": {},
     "output_type": "display_data"
    },
    {
     "name": "stdout",
     "output_type": "stream",
     "text": [
      "Epoch:10/100 AVG Training Loss:0.492 AVG Validation Loss:0.489 AVG Training Acc 79.83 % AVG Validation Acc 80.38 %\n",
      "Epoch:20/100 AVG Training Loss:0.484 AVG Validation Loss:0.482 AVG Training Acc 79.77 % AVG Validation Acc 80.24 %\n",
      "Epoch:30/100 AVG Training Loss:0.503 AVG Validation Loss:0.498 AVG Training Acc 79.78 % AVG Validation Acc 80.38 %\n",
      "Epoch    31: reducing learning rate of group 0 to 1.0000e-03.\n",
      "Epoch:40/100 AVG Training Loss:0.495 AVG Validation Loss:0.490 AVG Training Acc 79.83 % AVG Validation Acc 80.38 %\n",
      "Epoch:50/100 AVG Training Loss:0.494 AVG Validation Loss:0.488 AVG Training Acc 79.81 % AVG Validation Acc 80.38 %\n",
      "Epoch:60/100 AVG Training Loss:0.495 AVG Validation Loss:0.487 AVG Training Acc 79.80 % AVG Validation Acc 80.24 %\n",
      "Epoch    62: reducing learning rate of group 0 to 1.0000e-04.\n",
      "Epoch:70/100 AVG Training Loss:0.493 AVG Validation Loss:0.486 AVG Training Acc 79.83 % AVG Validation Acc 80.24 %\n",
      "Epoch:80/100 AVG Training Loss:0.491 AVG Validation Loss:0.487 AVG Training Acc 79.84 % AVG Validation Acc 80.24 %\n",
      "Epoch:90/100 AVG Training Loss:0.492 AVG Validation Loss:0.485 AVG Training Acc 79.84 % AVG Validation Acc 80.24 %\n",
      "Epoch    93: reducing learning rate of group 0 to 1.0000e-05.\n",
      "Epoch:100/100 AVG Training Loss:0.492 AVG Validation Loss:0.484 AVG Training Acc 79.81 % AVG Validation Acc 80.24 %\n",
      "Split 37\n"
     ]
    },
    {
     "data": {
      "application/vnd.jupyter.widget-view+json": {
       "model_id": "a02543f231614f29bb645c7ce67c0e2b",
       "version_major": 2,
       "version_minor": 0
      },
      "text/plain": [
       "  0%|          | 0/100 [00:00<?, ?it/s]"
      ]
     },
     "metadata": {},
     "output_type": "display_data"
    },
    {
     "name": "stdout",
     "output_type": "stream",
     "text": [
      "Epoch:10/100 AVG Training Loss:0.491 AVG Validation Loss:0.491 AVG Training Acc 79.96 % AVG Validation Acc 78.87 %\n",
      "Epoch:20/100 AVG Training Loss:0.485 AVG Validation Loss:0.481 AVG Training Acc 79.92 % AVG Validation Acc 78.87 %\n",
      "Epoch:30/100 AVG Training Loss:0.506 AVG Validation Loss:0.524 AVG Training Acc 79.98 % AVG Validation Acc 78.87 %\n",
      "Epoch    34: reducing learning rate of group 0 to 1.0000e-03.\n",
      "Epoch:40/100 AVG Training Loss:0.492 AVG Validation Loss:0.499 AVG Training Acc 80.01 % AVG Validation Acc 78.87 %\n",
      "Epoch:50/100 AVG Training Loss:0.493 AVG Validation Loss:0.498 AVG Training Acc 79.98 % AVG Validation Acc 78.87 %\n",
      "Epoch:60/100 AVG Training Loss:0.490 AVG Validation Loss:0.492 AVG Training Acc 79.95 % AVG Validation Acc 78.87 %\n",
      "Epoch    65: reducing learning rate of group 0 to 1.0000e-04.\n",
      "Epoch:70/100 AVG Training Loss:0.490 AVG Validation Loss:0.492 AVG Training Acc 79.99 % AVG Validation Acc 78.87 %\n",
      "Epoch:80/100 AVG Training Loss:0.489 AVG Validation Loss:0.490 AVG Training Acc 79.99 % AVG Validation Acc 78.87 %\n",
      "Epoch:90/100 AVG Training Loss:0.489 AVG Validation Loss:0.490 AVG Training Acc 79.99 % AVG Validation Acc 78.87 %\n",
      "Epoch    96: reducing learning rate of group 0 to 1.0000e-05.\n",
      "Epoch:100/100 AVG Training Loss:0.488 AVG Validation Loss:0.491 AVG Training Acc 80.02 % AVG Validation Acc 78.87 %\n",
      "Split 38\n"
     ]
    },
    {
     "data": {
      "application/vnd.jupyter.widget-view+json": {
       "model_id": "157a91d74317453981e5d7b86c41469b",
       "version_major": 2,
       "version_minor": 0
      },
      "text/plain": [
       "  0%|          | 0/100 [00:00<?, ?it/s]"
      ]
     },
     "metadata": {},
     "output_type": "display_data"
    },
    {
     "name": "stdout",
     "output_type": "stream",
     "text": [
      "Epoch:10/100 AVG Training Loss:0.486 AVG Validation Loss:0.519 AVG Training Acc 79.95 % AVG Validation Acc 78.60 %\n",
      "Epoch:20/100 AVG Training Loss:0.477 AVG Validation Loss:0.516 AVG Training Acc 80.07 % AVG Validation Acc 78.73 %\n",
      "Epoch:30/100 AVG Training Loss:0.471 AVG Validation Loss:0.515 AVG Training Acc 80.02 % AVG Validation Acc 78.47 %\n",
      "Epoch:40/100 AVG Training Loss:0.461 AVG Validation Loss:0.527 AVG Training Acc 80.55 % AVG Validation Acc 78.06 %\n",
      "Epoch    40: reducing learning rate of group 0 to 1.0000e-03.\n",
      "Epoch:50/100 AVG Training Loss:0.430 AVG Validation Loss:0.545 AVG Training Acc 81.40 % AVG Validation Acc 77.25 %\n",
      "Epoch:60/100 AVG Training Loss:0.419 AVG Validation Loss:0.582 AVG Training Acc 81.64 % AVG Validation Acc 76.58 %\n",
      "Epoch:70/100 AVG Training Loss:0.405 AVG Validation Loss:0.593 AVG Training Acc 82.15 % AVG Validation Acc 76.45 %\n",
      "Epoch    71: reducing learning rate of group 0 to 1.0000e-04.\n",
      "Epoch:80/100 AVG Training Loss:0.399 AVG Validation Loss:0.600 AVG Training Acc 82.22 % AVG Validation Acc 76.31 %\n",
      "Epoch:90/100 AVG Training Loss:0.400 AVG Validation Loss:0.602 AVG Training Acc 82.41 % AVG Validation Acc 76.85 %\n",
      "Epoch:100/100 AVG Training Loss:0.396 AVG Validation Loss:0.604 AVG Training Acc 82.38 % AVG Validation Acc 76.85 %\n",
      "Split 39\n"
     ]
    },
    {
     "data": {
      "application/vnd.jupyter.widget-view+json": {
       "model_id": "72def7e02f67434e88d77e4b9030288e",
       "version_major": 2,
       "version_minor": 0
      },
      "text/plain": [
       "  0%|          | 0/100 [00:00<?, ?it/s]"
      ]
     },
     "metadata": {},
     "output_type": "display_data"
    },
    {
     "name": "stdout",
     "output_type": "stream",
     "text": [
      "Epoch:10/100 AVG Training Loss:0.493 AVG Validation Loss:0.470 AVG Training Acc 79.70 % AVG Validation Acc 81.16 %\n",
      "Epoch:20/100 AVG Training Loss:0.499 AVG Validation Loss:0.477 AVG Training Acc 79.73 % AVG Validation Acc 81.16 %\n",
      "Epoch    21: reducing learning rate of group 0 to 1.0000e-03.\n",
      "Epoch:30/100 AVG Training Loss:0.491 AVG Validation Loss:0.475 AVG Training Acc 79.73 % AVG Validation Acc 81.16 %\n",
      "Epoch:40/100 AVG Training Loss:0.490 AVG Validation Loss:0.474 AVG Training Acc 79.67 % AVG Validation Acc 81.16 %\n",
      "Epoch:50/100 AVG Training Loss:0.489 AVG Validation Loss:0.474 AVG Training Acc 79.73 % AVG Validation Acc 81.16 %\n",
      "Epoch    52: reducing learning rate of group 0 to 1.0000e-04.\n",
      "Epoch:60/100 AVG Training Loss:0.487 AVG Validation Loss:0.474 AVG Training Acc 79.70 % AVG Validation Acc 81.16 %\n",
      "Epoch:70/100 AVG Training Loss:0.488 AVG Validation Loss:0.474 AVG Training Acc 79.74 % AVG Validation Acc 81.16 %\n",
      "Epoch:80/100 AVG Training Loss:0.486 AVG Validation Loss:0.475 AVG Training Acc 79.74 % AVG Validation Acc 81.16 %\n",
      "Epoch    83: reducing learning rate of group 0 to 1.0000e-05.\n",
      "Epoch:90/100 AVG Training Loss:0.487 AVG Validation Loss:0.475 AVG Training Acc 79.70 % AVG Validation Acc 81.16 %\n",
      "Epoch:100/100 AVG Training Loss:0.486 AVG Validation Loss:0.474 AVG Training Acc 79.70 % AVG Validation Acc 81.16 %\n",
      "Split 40\n"
     ]
    },
    {
     "data": {
      "application/vnd.jupyter.widget-view+json": {
       "model_id": "2e1ec4e8b9884df28de309923eafb7ec",
       "version_major": 2,
       "version_minor": 0
      },
      "text/plain": [
       "  0%|          | 0/100 [00:00<?, ?it/s]"
      ]
     },
     "metadata": {},
     "output_type": "display_data"
    },
    {
     "name": "stdout",
     "output_type": "stream",
     "text": [
      "Epoch:10/100 AVG Training Loss:0.488 AVG Validation Loss:0.499 AVG Training Acc 79.84 % AVG Validation Acc 79.68 %\n",
      "Epoch:20/100 AVG Training Loss:0.481 AVG Validation Loss:0.501 AVG Training Acc 79.84 % AVG Validation Acc 79.81 %\n",
      "Epoch:30/100 AVG Training Loss:0.488 AVG Validation Loss:0.497 AVG Training Acc 79.93 % AVG Validation Acc 79.81 %\n",
      "Epoch    36: reducing learning rate of group 0 to 1.0000e-03.\n",
      "Epoch:40/100 AVG Training Loss:0.466 AVG Validation Loss:0.500 AVG Training Acc 80.04 % AVG Validation Acc 79.14 %\n",
      "Epoch:50/100 AVG Training Loss:0.452 AVG Validation Loss:0.512 AVG Training Acc 80.32 % AVG Validation Acc 78.73 %\n",
      "Epoch:60/100 AVG Training Loss:0.439 AVG Validation Loss:0.529 AVG Training Acc 80.77 % AVG Validation Acc 78.73 %\n",
      "Epoch    67: reducing learning rate of group 0 to 1.0000e-04.\n",
      "Epoch:70/100 AVG Training Loss:0.427 AVG Validation Loss:0.541 AVG Training Acc 81.05 % AVG Validation Acc 78.47 %\n",
      "Epoch:80/100 AVG Training Loss:0.425 AVG Validation Loss:0.541 AVG Training Acc 80.89 % AVG Validation Acc 78.47 %\n",
      "Epoch:90/100 AVG Training Loss:0.423 AVG Validation Loss:0.541 AVG Training Acc 81.25 % AVG Validation Acc 78.73 %\n",
      "Epoch    98: reducing learning rate of group 0 to 1.0000e-05.\n",
      "Epoch:100/100 AVG Training Loss:0.423 AVG Validation Loss:0.545 AVG Training Acc 81.00 % AVG Validation Acc 78.73 %\n",
      "Split 41\n"
     ]
    },
    {
     "data": {
      "application/vnd.jupyter.widget-view+json": {
       "model_id": "4df3589eba9c4d9280e04f2f603c7f03",
       "version_major": 2,
       "version_minor": 0
      },
      "text/plain": [
       "  0%|          | 0/100 [00:00<?, ?it/s]"
      ]
     },
     "metadata": {},
     "output_type": "display_data"
    },
    {
     "name": "stdout",
     "output_type": "stream",
     "text": [
      "Epoch:10/100 AVG Training Loss:0.503 AVG Validation Loss:0.490 AVG Training Acc 79.80 % AVG Validation Acc 80.51 %\n",
      "Epoch:20/100 AVG Training Loss:0.503 AVG Validation Loss:0.487 AVG Training Acc 79.72 % AVG Validation Acc 80.51 %\n",
      "Epoch    28: reducing learning rate of group 0 to 1.0000e-03.\n",
      "Epoch:30/100 AVG Training Loss:0.492 AVG Validation Loss:0.479 AVG Training Acc 79.77 % AVG Validation Acc 80.51 %\n",
      "Epoch:40/100 AVG Training Loss:0.488 AVG Validation Loss:0.480 AVG Training Acc 79.80 % AVG Validation Acc 80.51 %\n",
      "Epoch:50/100 AVG Training Loss:0.489 AVG Validation Loss:0.480 AVG Training Acc 79.80 % AVG Validation Acc 80.51 %\n",
      "Epoch    59: reducing learning rate of group 0 to 1.0000e-04.\n",
      "Epoch:60/100 AVG Training Loss:0.490 AVG Validation Loss:0.482 AVG Training Acc 79.80 % AVG Validation Acc 80.51 %\n",
      "Epoch:70/100 AVG Training Loss:0.487 AVG Validation Loss:0.482 AVG Training Acc 79.83 % AVG Validation Acc 80.51 %\n",
      "Epoch:80/100 AVG Training Loss:0.488 AVG Validation Loss:0.481 AVG Training Acc 79.78 % AVG Validation Acc 80.51 %\n",
      "Epoch:90/100 AVG Training Loss:0.488 AVG Validation Loss:0.481 AVG Training Acc 79.84 % AVG Validation Acc 80.51 %\n",
      "Epoch    90: reducing learning rate of group 0 to 1.0000e-05.\n",
      "Epoch:100/100 AVG Training Loss:0.487 AVG Validation Loss:0.481 AVG Training Acc 79.83 % AVG Validation Acc 80.51 %\n",
      "Split 42\n"
     ]
    },
    {
     "data": {
      "application/vnd.jupyter.widget-view+json": {
       "model_id": "5a8572c566ee4491ba06d12d186d214a",
       "version_major": 2,
       "version_minor": 0
      },
      "text/plain": [
       "  0%|          | 0/100 [00:00<?, ?it/s]"
      ]
     },
     "metadata": {},
     "output_type": "display_data"
    },
    {
     "name": "stdout",
     "output_type": "stream",
     "text": [
      "Epoch:10/100 AVG Training Loss:0.492 AVG Validation Loss:0.509 AVG Training Acc 80.01 % AVG Validation Acc 78.76 %\n",
      "Epoch:20/100 AVG Training Loss:0.487 AVG Validation Loss:0.508 AVG Training Acc 79.95 % AVG Validation Acc 78.63 %\n",
      "Epoch:30/100 AVG Training Loss:0.477 AVG Validation Loss:0.508 AVG Training Acc 79.96 % AVG Validation Acc 78.36 %\n",
      "Epoch    38: reducing learning rate of group 0 to 1.0000e-03.\n",
      "Epoch:40/100 AVG Training Loss:0.454 AVG Validation Loss:0.510 AVG Training Acc 80.39 % AVG Validation Acc 79.03 %\n",
      "Epoch:50/100 AVG Training Loss:0.439 AVG Validation Loss:0.526 AVG Training Acc 80.60 % AVG Validation Acc 79.03 %\n",
      "Epoch:60/100 AVG Training Loss:0.426 AVG Validation Loss:0.537 AVG Training Acc 81.23 % AVG Validation Acc 78.09 %\n",
      "Epoch    69: reducing learning rate of group 0 to 1.0000e-04.\n",
      "Epoch:70/100 AVG Training Loss:0.410 AVG Validation Loss:0.545 AVG Training Acc 81.65 % AVG Validation Acc 78.23 %\n",
      "Epoch:80/100 AVG Training Loss:0.409 AVG Validation Loss:0.558 AVG Training Acc 81.65 % AVG Validation Acc 77.96 %\n",
      "Epoch:90/100 AVG Training Loss:0.406 AVG Validation Loss:0.554 AVG Training Acc 81.55 % AVG Validation Acc 77.96 %\n",
      "Epoch:100/100 AVG Training Loss:0.407 AVG Validation Loss:0.556 AVG Training Acc 81.83 % AVG Validation Acc 77.69 %\n",
      "Epoch   100: reducing learning rate of group 0 to 1.0000e-05.\n",
      "Split 43\n"
     ]
    },
    {
     "data": {
      "application/vnd.jupyter.widget-view+json": {
       "model_id": "b00130cd112d4e419f919039326355f7",
       "version_major": 2,
       "version_minor": 0
      },
      "text/plain": [
       "  0%|          | 0/100 [00:00<?, ?it/s]"
      ]
     },
     "metadata": {},
     "output_type": "display_data"
    },
    {
     "name": "stdout",
     "output_type": "stream",
     "text": [
      "Epoch:10/100 AVG Training Loss:0.490 AVG Validation Loss:0.499 AVG Training Acc 79.84 % AVG Validation Acc 79.17 %\n",
      "Epoch:20/100 AVG Training Loss:0.486 AVG Validation Loss:0.493 AVG Training Acc 79.90 % AVG Validation Acc 79.17 %\n",
      "Epoch:30/100 AVG Training Loss:0.476 AVG Validation Loss:0.507 AVG Training Acc 79.95 % AVG Validation Acc 79.03 %\n",
      "Epoch    36: reducing learning rate of group 0 to 1.0000e-03.\n",
      "Epoch:40/100 AVG Training Loss:0.450 AVG Validation Loss:0.519 AVG Training Acc 80.36 % AVG Validation Acc 79.17 %\n",
      "Epoch:50/100 AVG Training Loss:0.437 AVG Validation Loss:0.536 AVG Training Acc 80.77 % AVG Validation Acc 78.90 %\n",
      "Epoch:60/100 AVG Training Loss:0.423 AVG Validation Loss:0.558 AVG Training Acc 81.07 % AVG Validation Acc 78.49 %\n",
      "Epoch    67: reducing learning rate of group 0 to 1.0000e-04.\n",
      "Epoch:70/100 AVG Training Loss:0.415 AVG Validation Loss:0.564 AVG Training Acc 81.25 % AVG Validation Acc 78.63 %\n",
      "Epoch:80/100 AVG Training Loss:0.412 AVG Validation Loss:0.561 AVG Training Acc 81.20 % AVG Validation Acc 78.76 %\n",
      "Epoch:90/100 AVG Training Loss:0.409 AVG Validation Loss:0.572 AVG Training Acc 81.28 % AVG Validation Acc 78.36 %\n",
      "Epoch    98: reducing learning rate of group 0 to 1.0000e-05.\n",
      "Epoch:100/100 AVG Training Loss:0.406 AVG Validation Loss:0.568 AVG Training Acc 81.53 % AVG Validation Acc 78.36 %\n",
      "Split 44\n"
     ]
    },
    {
     "data": {
      "application/vnd.jupyter.widget-view+json": {
       "model_id": "eec687adacbb45099d19909b5815b13b",
       "version_major": 2,
       "version_minor": 0
      },
      "text/plain": [
       "  0%|          | 0/100 [00:00<?, ?it/s]"
      ]
     },
     "metadata": {},
     "output_type": "display_data"
    },
    {
     "name": "stdout",
     "output_type": "stream",
     "text": [
      "Epoch:10/100 AVG Training Loss:0.493 AVG Validation Loss:0.477 AVG Training Acc 79.75 % AVG Validation Acc 80.65 %\n",
      "Epoch:20/100 AVG Training Loss:0.493 AVG Validation Loss:0.479 AVG Training Acc 79.77 % AVG Validation Acc 80.65 %\n",
      "Epoch:30/100 AVG Training Loss:0.483 AVG Validation Loss:0.478 AVG Training Acc 79.78 % AVG Validation Acc 80.65 %\n",
      "Epoch:40/100 AVG Training Loss:0.478 AVG Validation Loss:0.475 AVG Training Acc 79.89 % AVG Validation Acc 80.65 %\n",
      "Epoch    49: reducing learning rate of group 0 to 1.0000e-03.\n",
      "Epoch:50/100 AVG Training Loss:0.497 AVG Validation Loss:0.485 AVG Training Acc 79.77 % AVG Validation Acc 80.65 %\n",
      "Epoch:60/100 AVG Training Loss:0.489 AVG Validation Loss:0.483 AVG Training Acc 79.75 % AVG Validation Acc 80.65 %\n",
      "Epoch:70/100 AVG Training Loss:0.485 AVG Validation Loss:0.484 AVG Training Acc 79.83 % AVG Validation Acc 80.65 %\n",
      "Epoch:80/100 AVG Training Loss:0.478 AVG Validation Loss:0.488 AVG Training Acc 79.77 % AVG Validation Acc 80.51 %\n",
      "Epoch    80: reducing learning rate of group 0 to 1.0000e-04.\n",
      "Epoch:90/100 AVG Training Loss:0.474 AVG Validation Loss:0.491 AVG Training Acc 79.74 % AVG Validation Acc 80.51 %\n",
      "Epoch:100/100 AVG Training Loss:0.477 AVG Validation Loss:0.491 AVG Training Acc 79.84 % AVG Validation Acc 80.51 %\n",
      "Split 45\n"
     ]
    },
    {
     "data": {
      "application/vnd.jupyter.widget-view+json": {
       "model_id": "76161fff80f84791b532f5431eb4e439",
       "version_major": 2,
       "version_minor": 0
      },
      "text/plain": [
       "  0%|          | 0/100 [00:00<?, ?it/s]"
      ]
     },
     "metadata": {},
     "output_type": "display_data"
    },
    {
     "name": "stdout",
     "output_type": "stream",
     "text": [
      "Epoch:10/100 AVG Training Loss:0.490 AVG Validation Loss:0.504 AVG Training Acc 79.87 % AVG Validation Acc 79.57 %\n",
      "Epoch:20/100 AVG Training Loss:0.483 AVG Validation Loss:0.488 AVG Training Acc 79.83 % AVG Validation Acc 79.57 %\n",
      "Epoch:30/100 AVG Training Loss:0.474 AVG Validation Loss:0.493 AVG Training Acc 80.05 % AVG Validation Acc 79.57 %\n",
      "Epoch    37: reducing learning rate of group 0 to 1.0000e-03.\n",
      "Epoch:40/100 AVG Training Loss:0.459 AVG Validation Loss:0.495 AVG Training Acc 80.20 % AVG Validation Acc 79.57 %\n",
      "Epoch:50/100 AVG Training Loss:0.443 AVG Validation Loss:0.508 AVG Training Acc 80.50 % AVG Validation Acc 79.70 %\n",
      "Epoch:60/100 AVG Training Loss:0.436 AVG Validation Loss:0.518 AVG Training Acc 81.16 % AVG Validation Acc 79.17 %\n",
      "Epoch    68: reducing learning rate of group 0 to 1.0000e-04.\n",
      "Epoch:70/100 AVG Training Loss:0.424 AVG Validation Loss:0.525 AVG Training Acc 81.34 % AVG Validation Acc 78.63 %\n",
      "Epoch:80/100 AVG Training Loss:0.418 AVG Validation Loss:0.529 AVG Training Acc 81.75 % AVG Validation Acc 78.49 %\n",
      "Epoch:90/100 AVG Training Loss:0.413 AVG Validation Loss:0.533 AVG Training Acc 81.74 % AVG Validation Acc 78.36 %\n",
      "Epoch    99: reducing learning rate of group 0 to 1.0000e-05.\n",
      "Epoch:100/100 AVG Training Loss:0.414 AVG Validation Loss:0.535 AVG Training Acc 81.69 % AVG Validation Acc 78.63 %\n",
      "Split 46\n"
     ]
    },
    {
     "data": {
      "application/vnd.jupyter.widget-view+json": {
       "model_id": "07243d58070142378ef34c85253e3398",
       "version_major": 2,
       "version_minor": 0
      },
      "text/plain": [
       "  0%|          | 0/100 [00:00<?, ?it/s]"
      ]
     },
     "metadata": {},
     "output_type": "display_data"
    },
    {
     "name": "stdout",
     "output_type": "stream",
     "text": [
      "Epoch:10/100 AVG Training Loss:0.492 AVG Validation Loss:0.490 AVG Training Acc 79.87 % AVG Validation Acc 79.70 %\n",
      "Epoch:20/100 AVG Training Loss:0.487 AVG Validation Loss:0.488 AVG Training Acc 79.84 % AVG Validation Acc 79.70 %\n",
      "Epoch:30/100 AVG Training Loss:0.489 AVG Validation Loss:0.485 AVG Training Acc 79.89 % AVG Validation Acc 79.70 %\n",
      "Epoch    35: reducing learning rate of group 0 to 1.0000e-03.\n",
      "Epoch:40/100 AVG Training Loss:0.495 AVG Validation Loss:0.490 AVG Training Acc 79.89 % AVG Validation Acc 79.70 %\n",
      "Epoch:50/100 AVG Training Loss:0.494 AVG Validation Loss:0.489 AVG Training Acc 79.89 % AVG Validation Acc 79.70 %\n",
      "Epoch:60/100 AVG Training Loss:0.487 AVG Validation Loss:0.491 AVG Training Acc 79.96 % AVG Validation Acc 79.70 %\n",
      "Epoch    66: reducing learning rate of group 0 to 1.0000e-04.\n",
      "Epoch:70/100 AVG Training Loss:0.489 AVG Validation Loss:0.489 AVG Training Acc 79.93 % AVG Validation Acc 79.70 %\n",
      "Epoch:80/100 AVG Training Loss:0.489 AVG Validation Loss:0.488 AVG Training Acc 79.95 % AVG Validation Acc 79.70 %\n",
      "Epoch:90/100 AVG Training Loss:0.488 AVG Validation Loss:0.489 AVG Training Acc 79.90 % AVG Validation Acc 79.70 %\n",
      "Epoch    97: reducing learning rate of group 0 to 1.0000e-05.\n",
      "Epoch:100/100 AVG Training Loss:0.486 AVG Validation Loss:0.487 AVG Training Acc 79.89 % AVG Validation Acc 79.70 %\n",
      "Split 47\n"
     ]
    },
    {
     "data": {
      "application/vnd.jupyter.widget-view+json": {
       "model_id": "b4f1b485d7224361b834a809b452550e",
       "version_major": 2,
       "version_minor": 0
      },
      "text/plain": [
       "  0%|          | 0/100 [00:00<?, ?it/s]"
      ]
     },
     "metadata": {},
     "output_type": "display_data"
    },
    {
     "name": "stdout",
     "output_type": "stream",
     "text": [
      "Epoch:10/100 AVG Training Loss:0.488 AVG Validation Loss:0.524 AVG Training Acc 79.87 % AVG Validation Acc 79.14 %\n",
      "Epoch:20/100 AVG Training Loss:0.480 AVG Validation Loss:0.513 AVG Training Acc 80.01 % AVG Validation Acc 78.87 %\n",
      "Epoch    23: reducing learning rate of group 0 to 1.0000e-03.\n",
      "Epoch:30/100 AVG Training Loss:0.466 AVG Validation Loss:0.520 AVG Training Acc 80.32 % AVG Validation Acc 78.87 %\n",
      "Epoch:40/100 AVG Training Loss:0.458 AVG Validation Loss:0.526 AVG Training Acc 80.49 % AVG Validation Acc 78.73 %\n",
      "Epoch:50/100 AVG Training Loss:0.450 AVG Validation Loss:0.537 AVG Training Acc 80.64 % AVG Validation Acc 78.33 %\n",
      "Epoch    54: reducing learning rate of group 0 to 1.0000e-04.\n",
      "Epoch:60/100 AVG Training Loss:0.444 AVG Validation Loss:0.542 AVG Training Acc 80.83 % AVG Validation Acc 78.47 %\n",
      "Epoch:70/100 AVG Training Loss:0.443 AVG Validation Loss:0.541 AVG Training Acc 80.77 % AVG Validation Acc 78.47 %\n",
      "Epoch:80/100 AVG Training Loss:0.442 AVG Validation Loss:0.546 AVG Training Acc 80.89 % AVG Validation Acc 78.20 %\n",
      "Epoch    85: reducing learning rate of group 0 to 1.0000e-05.\n",
      "Epoch:90/100 AVG Training Loss:0.441 AVG Validation Loss:0.547 AVG Training Acc 80.88 % AVG Validation Acc 78.06 %\n",
      "Epoch:100/100 AVG Training Loss:0.441 AVG Validation Loss:0.553 AVG Training Acc 80.97 % AVG Validation Acc 78.06 %\n",
      "Split 48\n"
     ]
    },
    {
     "data": {
      "application/vnd.jupyter.widget-view+json": {
       "model_id": "51825134ff5d4de8a0d464c0880dfc7a",
       "version_major": 2,
       "version_minor": 0
      },
      "text/plain": [
       "  0%|          | 0/100 [00:00<?, ?it/s]"
      ]
     },
     "metadata": {},
     "output_type": "display_data"
    },
    {
     "name": "stdout",
     "output_type": "stream",
     "text": [
      "Epoch:10/100 AVG Training Loss:0.490 AVG Validation Loss:0.502 AVG Training Acc 79.92 % AVG Validation Acc 78.87 %\n",
      "Epoch:20/100 AVG Training Loss:0.480 AVG Validation Loss:0.500 AVG Training Acc 79.96 % AVG Validation Acc 78.60 %\n",
      "Epoch:30/100 AVG Training Loss:0.472 AVG Validation Loss:0.510 AVG Training Acc 80.07 % AVG Validation Acc 78.87 %\n",
      "Epoch    34: reducing learning rate of group 0 to 1.0000e-03.\n",
      "Epoch:40/100 AVG Training Loss:0.447 AVG Validation Loss:0.528 AVG Training Acc 80.74 % AVG Validation Acc 78.33 %\n",
      "Epoch:50/100 AVG Training Loss:0.435 AVG Validation Loss:0.554 AVG Training Acc 81.11 % AVG Validation Acc 78.33 %\n",
      "Epoch:60/100 AVG Training Loss:0.422 AVG Validation Loss:0.568 AVG Training Acc 81.46 % AVG Validation Acc 77.52 %\n",
      "Epoch    65: reducing learning rate of group 0 to 1.0000e-04.\n",
      "Epoch:70/100 AVG Training Loss:0.410 AVG Validation Loss:0.584 AVG Training Acc 82.06 % AVG Validation Acc 77.12 %\n",
      "Epoch:80/100 AVG Training Loss:0.406 AVG Validation Loss:0.589 AVG Training Acc 81.88 % AVG Validation Acc 76.72 %\n",
      "Epoch:90/100 AVG Training Loss:0.405 AVG Validation Loss:0.590 AVG Training Acc 82.27 % AVG Validation Acc 76.72 %\n",
      "Epoch    96: reducing learning rate of group 0 to 1.0000e-05.\n",
      "Epoch:100/100 AVG Training Loss:0.403 AVG Validation Loss:0.592 AVG Training Acc 81.77 % AVG Validation Acc 76.99 %\n",
      "Split 49\n"
     ]
    },
    {
     "data": {
      "application/vnd.jupyter.widget-view+json": {
       "model_id": "fcbcd50828ed41baa0d493f01fc567a2",
       "version_major": 2,
       "version_minor": 0
      },
      "text/plain": [
       "  0%|          | 0/100 [00:00<?, ?it/s]"
      ]
     },
     "metadata": {},
     "output_type": "display_data"
    },
    {
     "name": "stdout",
     "output_type": "stream",
     "text": [
      "Epoch:10/100 AVG Training Loss:0.494 AVG Validation Loss:0.468 AVG Training Acc 79.61 % AVG Validation Acc 81.02 %\n",
      "Epoch:20/100 AVG Training Loss:0.489 AVG Validation Loss:0.468 AVG Training Acc 79.74 % AVG Validation Acc 81.02 %\n",
      "Epoch    29: reducing learning rate of group 0 to 1.0000e-03.\n",
      "Epoch:30/100 AVG Training Loss:0.481 AVG Validation Loss:0.461 AVG Training Acc 79.78 % AVG Validation Acc 81.02 %\n",
      "Epoch:40/100 AVG Training Loss:0.467 AVG Validation Loss:0.465 AVG Training Acc 80.07 % AVG Validation Acc 80.35 %\n",
      "Epoch:50/100 AVG Training Loss:0.458 AVG Validation Loss:0.473 AVG Training Acc 80.28 % AVG Validation Acc 80.48 %\n",
      "Epoch:60/100 AVG Training Loss:0.449 AVG Validation Loss:0.480 AVG Training Acc 80.44 % AVG Validation Acc 80.35 %\n",
      "Epoch    60: reducing learning rate of group 0 to 1.0000e-04.\n",
      "Epoch:70/100 AVG Training Loss:0.443 AVG Validation Loss:0.486 AVG Training Acc 80.55 % AVG Validation Acc 80.35 %\n",
      "Epoch:80/100 AVG Training Loss:0.441 AVG Validation Loss:0.485 AVG Training Acc 80.55 % AVG Validation Acc 80.48 %\n",
      "Epoch:90/100 AVG Training Loss:0.443 AVG Validation Loss:0.487 AVG Training Acc 80.71 % AVG Validation Acc 80.22 %\n",
      "Epoch    91: reducing learning rate of group 0 to 1.0000e-05.\n",
      "Epoch:100/100 AVG Training Loss:0.444 AVG Validation Loss:0.486 AVG Training Acc 80.53 % AVG Validation Acc 80.48 %\n",
      "Split 50\n"
     ]
    },
    {
     "data": {
      "application/vnd.jupyter.widget-view+json": {
       "model_id": "5d6bf97f37fb4436a4d0439551554fa3",
       "version_major": 2,
       "version_minor": 0
      },
      "text/plain": [
       "  0%|          | 0/100 [00:00<?, ?it/s]"
      ]
     },
     "metadata": {},
     "output_type": "display_data"
    },
    {
     "name": "stdout",
     "output_type": "stream",
     "text": [
      "Epoch:10/100 AVG Training Loss:0.493 AVG Validation Loss:0.471 AVG Training Acc 79.68 % AVG Validation Acc 81.29 %\n",
      "Epoch:20/100 AVG Training Loss:0.488 AVG Validation Loss:0.471 AVG Training Acc 79.67 % AVG Validation Acc 81.16 %\n",
      "Epoch:30/100 AVG Training Loss:0.479 AVG Validation Loss:0.470 AVG Training Acc 79.83 % AVG Validation Acc 81.02 %\n",
      "Epoch    36: reducing learning rate of group 0 to 1.0000e-03.\n",
      "Epoch:40/100 AVG Training Loss:0.460 AVG Validation Loss:0.469 AVG Training Acc 79.93 % AVG Validation Acc 81.16 %\n",
      "Epoch:50/100 AVG Training Loss:0.451 AVG Validation Loss:0.479 AVG Training Acc 80.20 % AVG Validation Acc 80.62 %\n",
      "Epoch:60/100 AVG Training Loss:0.439 AVG Validation Loss:0.496 AVG Training Acc 80.53 % AVG Validation Acc 79.81 %\n",
      "Epoch    67: reducing learning rate of group 0 to 1.0000e-04.\n",
      "Epoch:70/100 AVG Training Loss:0.431 AVG Validation Loss:0.492 AVG Training Acc 80.82 % AVG Validation Acc 79.68 %\n",
      "Epoch:80/100 AVG Training Loss:0.431 AVG Validation Loss:0.494 AVG Training Acc 80.95 % AVG Validation Acc 79.81 %\n",
      "Epoch:90/100 AVG Training Loss:0.428 AVG Validation Loss:0.502 AVG Training Acc 80.83 % AVG Validation Acc 79.68 %\n",
      "Epoch    98: reducing learning rate of group 0 to 1.0000e-05.\n",
      "Epoch:100/100 AVG Training Loss:0.427 AVG Validation Loss:0.498 AVG Training Acc 81.05 % AVG Validation Acc 79.68 %\n",
      "Split 51\n"
     ]
    },
    {
     "data": {
      "application/vnd.jupyter.widget-view+json": {
       "model_id": "c3923109c90c41e894dc0241727776a0",
       "version_major": 2,
       "version_minor": 0
      },
      "text/plain": [
       "  0%|          | 0/100 [00:00<?, ?it/s]"
      ]
     },
     "metadata": {},
     "output_type": "display_data"
    },
    {
     "name": "stdout",
     "output_type": "stream",
     "text": [
      "Epoch:10/100 AVG Training Loss:0.489 AVG Validation Loss:0.498 AVG Training Acc 79.87 % AVG Validation Acc 79.03 %\n",
      "Epoch:20/100 AVG Training Loss:0.484 AVG Validation Loss:0.494 AVG Training Acc 79.83 % AVG Validation Acc 79.03 %\n",
      "Epoch:30/100 AVG Training Loss:0.486 AVG Validation Loss:0.497 AVG Training Acc 79.96 % AVG Validation Acc 79.03 %\n",
      "Epoch    33: reducing learning rate of group 0 to 1.0000e-03.\n",
      "Epoch:40/100 AVG Training Loss:0.472 AVG Validation Loss:0.497 AVG Training Acc 80.17 % AVG Validation Acc 78.90 %\n",
      "Epoch:50/100 AVG Training Loss:0.461 AVG Validation Loss:0.503 AVG Training Acc 80.33 % AVG Validation Acc 78.63 %\n",
      "Epoch:60/100 AVG Training Loss:0.453 AVG Validation Loss:0.513 AVG Training Acc 80.54 % AVG Validation Acc 78.49 %\n",
      "Epoch    64: reducing learning rate of group 0 to 1.0000e-04.\n",
      "Epoch:70/100 AVG Training Loss:0.444 AVG Validation Loss:0.513 AVG Training Acc 80.90 % AVG Validation Acc 78.23 %\n",
      "Epoch:80/100 AVG Training Loss:0.443 AVG Validation Loss:0.515 AVG Training Acc 80.95 % AVG Validation Acc 78.36 %\n",
      "Epoch:90/100 AVG Training Loss:0.444 AVG Validation Loss:0.516 AVG Training Acc 80.92 % AVG Validation Acc 78.23 %\n",
      "Epoch    95: reducing learning rate of group 0 to 1.0000e-05.\n",
      "Epoch:100/100 AVG Training Loss:0.441 AVG Validation Loss:0.516 AVG Training Acc 80.90 % AVG Validation Acc 78.23 %\n",
      "Split 52\n"
     ]
    },
    {
     "data": {
      "application/vnd.jupyter.widget-view+json": {
       "model_id": "2cfa15352681486a97542022549ae71e",
       "version_major": 2,
       "version_minor": 0
      },
      "text/plain": [
       "  0%|          | 0/100 [00:00<?, ?it/s]"
      ]
     },
     "metadata": {},
     "output_type": "display_data"
    },
    {
     "name": "stdout",
     "output_type": "stream",
     "text": [
      "Epoch:10/100 AVG Training Loss:0.494 AVG Validation Loss:0.462 AVG Training Acc 79.59 % AVG Validation Acc 81.85 %\n",
      "Epoch:20/100 AVG Training Loss:0.487 AVG Validation Loss:0.457 AVG Training Acc 79.53 % AVG Validation Acc 81.99 %\n",
      "Epoch:30/100 AVG Training Loss:0.476 AVG Validation Loss:0.466 AVG Training Acc 79.69 % AVG Validation Acc 81.85 %\n",
      "Epoch:40/100 AVG Training Loss:0.464 AVG Validation Loss:0.453 AVG Training Acc 80.13 % AVG Validation Acc 81.99 %\n",
      "Epoch:50/100 AVG Training Loss:0.455 AVG Validation Loss:0.475 AVG Training Acc 80.25 % AVG Validation Acc 81.99 %\n",
      "Epoch    52: reducing learning rate of group 0 to 1.0000e-03.\n",
      "Epoch:60/100 AVG Training Loss:0.433 AVG Validation Loss:0.476 AVG Training Acc 80.90 % AVG Validation Acc 81.72 %\n",
      "Epoch:70/100 AVG Training Loss:0.411 AVG Validation Loss:0.495 AVG Training Acc 81.29 % AVG Validation Acc 81.85 %\n",
      "Epoch:80/100 AVG Training Loss:0.404 AVG Validation Loss:0.505 AVG Training Acc 81.74 % AVG Validation Acc 81.32 %\n",
      "Epoch    83: reducing learning rate of group 0 to 1.0000e-04.\n",
      "Epoch:90/100 AVG Training Loss:0.397 AVG Validation Loss:0.515 AVG Training Acc 82.14 % AVG Validation Acc 80.65 %\n",
      "Epoch:100/100 AVG Training Loss:0.391 AVG Validation Loss:0.526 AVG Training Acc 82.35 % AVG Validation Acc 81.05 %\n",
      "Split 53\n"
     ]
    },
    {
     "data": {
      "application/vnd.jupyter.widget-view+json": {
       "model_id": "1ab0ab4b3ac64a468e6eb8e02d8ef25f",
       "version_major": 2,
       "version_minor": 0
      },
      "text/plain": [
       "  0%|          | 0/100 [00:00<?, ?it/s]"
      ]
     },
     "metadata": {},
     "output_type": "display_data"
    },
    {
     "name": "stdout",
     "output_type": "stream",
     "text": [
      "Epoch:10/100 AVG Training Loss:0.488 AVG Validation Loss:0.515 AVG Training Acc 80.05 % AVG Validation Acc 78.23 %\n",
      "Epoch:20/100 AVG Training Loss:0.483 AVG Validation Loss:0.525 AVG Training Acc 80.11 % AVG Validation Acc 78.23 %\n",
      "Epoch    21: reducing learning rate of group 0 to 1.0000e-03.\n",
      "Epoch:30/100 AVG Training Loss:0.471 AVG Validation Loss:0.524 AVG Training Acc 80.07 % AVG Validation Acc 78.36 %\n",
      "Epoch:40/100 AVG Training Loss:0.466 AVG Validation Loss:0.534 AVG Training Acc 80.08 % AVG Validation Acc 78.36 %\n",
      "Epoch:50/100 AVG Training Loss:0.460 AVG Validation Loss:0.542 AVG Training Acc 80.30 % AVG Validation Acc 78.09 %\n",
      "Epoch    52: reducing learning rate of group 0 to 1.0000e-04.\n",
      "Epoch:60/100 AVG Training Loss:0.454 AVG Validation Loss:0.553 AVG Training Acc 80.29 % AVG Validation Acc 77.96 %\n",
      "Epoch:70/100 AVG Training Loss:0.451 AVG Validation Loss:0.555 AVG Training Acc 80.42 % AVG Validation Acc 77.96 %\n",
      "Epoch:80/100 AVG Training Loss:0.451 AVG Validation Loss:0.560 AVG Training Acc 80.41 % AVG Validation Acc 77.96 %\n",
      "Epoch    83: reducing learning rate of group 0 to 1.0000e-05.\n",
      "Epoch:90/100 AVG Training Loss:0.446 AVG Validation Loss:0.561 AVG Training Acc 80.72 % AVG Validation Acc 77.82 %\n",
      "Epoch:100/100 AVG Training Loss:0.448 AVG Validation Loss:0.561 AVG Training Acc 80.68 % AVG Validation Acc 77.96 %\n",
      "Split 54\n"
     ]
    },
    {
     "data": {
      "application/vnd.jupyter.widget-view+json": {
       "model_id": "8fb6093c53d546a682d46d9f502aef88",
       "version_major": 2,
       "version_minor": 0
      },
      "text/plain": [
       "  0%|          | 0/100 [00:00<?, ?it/s]"
      ]
     },
     "metadata": {},
     "output_type": "display_data"
    },
    {
     "name": "stdout",
     "output_type": "stream",
     "text": [
      "Epoch:10/100 AVG Training Loss:0.494 AVG Validation Loss:0.469 AVG Training Acc 79.69 % AVG Validation Acc 80.65 %\n",
      "Epoch:20/100 AVG Training Loss:0.487 AVG Validation Loss:0.464 AVG Training Acc 79.80 % AVG Validation Acc 80.78 %\n",
      "Epoch    24: reducing learning rate of group 0 to 1.0000e-03.\n",
      "Epoch:30/100 AVG Training Loss:0.471 AVG Validation Loss:0.467 AVG Training Acc 80.05 % AVG Validation Acc 80.24 %\n",
      "Epoch:40/100 AVG Training Loss:0.460 AVG Validation Loss:0.475 AVG Training Acc 80.22 % AVG Validation Acc 79.84 %\n",
      "Epoch:50/100 AVG Training Loss:0.452 AVG Validation Loss:0.481 AVG Training Acc 80.48 % AVG Validation Acc 79.84 %\n",
      "Epoch    55: reducing learning rate of group 0 to 1.0000e-04.\n",
      "Epoch:60/100 AVG Training Loss:0.443 AVG Validation Loss:0.490 AVG Training Acc 80.59 % AVG Validation Acc 79.97 %\n",
      "Epoch:70/100 AVG Training Loss:0.441 AVG Validation Loss:0.488 AVG Training Acc 80.78 % AVG Validation Acc 79.97 %\n",
      "Epoch:80/100 AVG Training Loss:0.440 AVG Validation Loss:0.493 AVG Training Acc 80.72 % AVG Validation Acc 79.70 %\n",
      "Epoch    86: reducing learning rate of group 0 to 1.0000e-05.\n",
      "Epoch:90/100 AVG Training Loss:0.438 AVG Validation Loss:0.491 AVG Training Acc 80.83 % AVG Validation Acc 79.97 %\n",
      "Epoch:100/100 AVG Training Loss:0.438 AVG Validation Loss:0.494 AVG Training Acc 80.66 % AVG Validation Acc 79.44 %\n",
      "Split 55\n"
     ]
    },
    {
     "data": {
      "application/vnd.jupyter.widget-view+json": {
       "model_id": "83164b84da3740b693ca968cb7c81fe1",
       "version_major": 2,
       "version_minor": 0
      },
      "text/plain": [
       "  0%|          | 0/100 [00:00<?, ?it/s]"
      ]
     },
     "metadata": {},
     "output_type": "display_data"
    },
    {
     "name": "stdout",
     "output_type": "stream",
     "text": [
      "Epoch:10/100 AVG Training Loss:0.498 AVG Validation Loss:0.473 AVG Training Acc 79.65 % AVG Validation Acc 81.32 %\n",
      "Epoch:20/100 AVG Training Loss:0.489 AVG Validation Loss:0.468 AVG Training Acc 79.57 % AVG Validation Acc 81.32 %\n",
      "Epoch:30/100 AVG Training Loss:0.479 AVG Validation Loss:0.462 AVG Training Acc 79.84 % AVG Validation Acc 81.18 %\n",
      "Epoch    39: reducing learning rate of group 0 to 1.0000e-03.\n",
      "Epoch:40/100 AVG Training Loss:0.469 AVG Validation Loss:0.465 AVG Training Acc 79.93 % AVG Validation Acc 81.32 %\n",
      "Epoch:50/100 AVG Training Loss:0.449 AVG Validation Loss:0.479 AVG Training Acc 80.29 % AVG Validation Acc 80.65 %\n",
      "Epoch:60/100 AVG Training Loss:0.442 AVG Validation Loss:0.494 AVG Training Acc 80.42 % AVG Validation Acc 80.24 %\n",
      "Epoch:70/100 AVG Training Loss:0.430 AVG Validation Loss:0.499 AVG Training Acc 80.38 % AVG Validation Acc 79.70 %\n",
      "Epoch    70: reducing learning rate of group 0 to 1.0000e-04.\n",
      "Epoch:80/100 AVG Training Loss:0.424 AVG Validation Loss:0.504 AVG Training Acc 81.05 % AVG Validation Acc 79.84 %\n",
      "Epoch:90/100 AVG Training Loss:0.420 AVG Validation Loss:0.507 AVG Training Acc 80.78 % AVG Validation Acc 80.11 %\n",
      "Epoch:100/100 AVG Training Loss:0.419 AVG Validation Loss:0.506 AVG Training Acc 80.92 % AVG Validation Acc 79.97 %\n",
      "Split 56\n"
     ]
    },
    {
     "data": {
      "application/vnd.jupyter.widget-view+json": {
       "model_id": "49c7f25e960946eeb716cecc26913d35",
       "version_major": 2,
       "version_minor": 0
      },
      "text/plain": [
       "  0%|          | 0/100 [00:00<?, ?it/s]"
      ]
     },
     "metadata": {},
     "output_type": "display_data"
    },
    {
     "name": "stdout",
     "output_type": "stream",
     "text": [
      "Epoch:10/100 AVG Training Loss:0.492 AVG Validation Loss:0.481 AVG Training Acc 79.72 % AVG Validation Acc 81.18 %\n",
      "Epoch    19: reducing learning rate of group 0 to 1.0000e-03.\n",
      "Epoch:20/100 AVG Training Loss:0.487 AVG Validation Loss:0.482 AVG Training Acc 79.68 % AVG Validation Acc 81.05 %\n",
      "Epoch:30/100 AVG Training Loss:0.473 AVG Validation Loss:0.489 AVG Training Acc 79.75 % AVG Validation Acc 81.05 %\n",
      "Epoch:40/100 AVG Training Loss:0.466 AVG Validation Loss:0.497 AVG Training Acc 79.80 % AVG Validation Acc 81.32 %\n",
      "Epoch:50/100 AVG Training Loss:0.460 AVG Validation Loss:0.503 AVG Training Acc 79.92 % AVG Validation Acc 81.05 %\n",
      "Epoch    50: reducing learning rate of group 0 to 1.0000e-04.\n",
      "Epoch:60/100 AVG Training Loss:0.455 AVG Validation Loss:0.506 AVG Training Acc 80.07 % AVG Validation Acc 80.78 %\n",
      "Epoch:70/100 AVG Training Loss:0.457 AVG Validation Loss:0.509 AVG Training Acc 80.13 % AVG Validation Acc 80.91 %\n",
      "Epoch:80/100 AVG Training Loss:0.455 AVG Validation Loss:0.510 AVG Training Acc 80.05 % AVG Validation Acc 80.65 %\n",
      "Epoch    81: reducing learning rate of group 0 to 1.0000e-05.\n",
      "Epoch:90/100 AVG Training Loss:0.454 AVG Validation Loss:0.509 AVG Training Acc 79.86 % AVG Validation Acc 80.91 %\n",
      "Epoch:100/100 AVG Training Loss:0.450 AVG Validation Loss:0.509 AVG Training Acc 80.20 % AVG Validation Acc 80.78 %\n",
      "Split 57\n"
     ]
    },
    {
     "data": {
      "application/vnd.jupyter.widget-view+json": {
       "model_id": "5b8ccbefa323471c969d9bc071727767",
       "version_major": 2,
       "version_minor": 0
      },
      "text/plain": [
       "  0%|          | 0/100 [00:00<?, ?it/s]"
      ]
     },
     "metadata": {},
     "output_type": "display_data"
    },
    {
     "name": "stdout",
     "output_type": "stream",
     "text": [
      "Epoch:10/100 AVG Training Loss:0.489 AVG Validation Loss:0.511 AVG Training Acc 80.02 % AVG Validation Acc 77.93 %\n",
      "Epoch:20/100 AVG Training Loss:0.482 AVG Validation Loss:0.506 AVG Training Acc 80.10 % AVG Validation Acc 77.93 %\n",
      "Epoch:30/100 AVG Training Loss:0.475 AVG Validation Loss:0.500 AVG Training Acc 80.14 % AVG Validation Acc 77.93 %\n",
      "Epoch:40/100 AVG Training Loss:0.469 AVG Validation Loss:0.500 AVG Training Acc 80.17 % AVG Validation Acc 77.79 %\n",
      "Epoch:50/100 AVG Training Loss:0.464 AVG Validation Loss:0.510 AVG Training Acc 80.31 % AVG Validation Acc 77.39 %\n",
      "Epoch    54: reducing learning rate of group 0 to 1.0000e-03.\n",
      "Epoch:60/100 AVG Training Loss:0.447 AVG Validation Loss:0.517 AVG Training Acc 80.73 % AVG Validation Acc 77.25 %\n",
      "Epoch:70/100 AVG Training Loss:0.435 AVG Validation Loss:0.525 AVG Training Acc 80.95 % AVG Validation Acc 77.25 %\n",
      "Epoch:80/100 AVG Training Loss:0.429 AVG Validation Loss:0.533 AVG Training Acc 81.16 % AVG Validation Acc 77.25 %\n",
      "Epoch    85: reducing learning rate of group 0 to 1.0000e-04.\n",
      "Epoch:90/100 AVG Training Loss:0.419 AVG Validation Loss:0.536 AVG Training Acc 81.35 % AVG Validation Acc 77.52 %\n",
      "Epoch:100/100 AVG Training Loss:0.418 AVG Validation Loss:0.543 AVG Training Acc 81.38 % AVG Validation Acc 76.99 %\n",
      "Split 58\n"
     ]
    },
    {
     "data": {
      "application/vnd.jupyter.widget-view+json": {
       "model_id": "5f64047f87074115a0c345cde2e6e408",
       "version_major": 2,
       "version_minor": 0
      },
      "text/plain": [
       "  0%|          | 0/100 [00:00<?, ?it/s]"
      ]
     },
     "metadata": {},
     "output_type": "display_data"
    },
    {
     "name": "stdout",
     "output_type": "stream",
     "text": [
      "Epoch:10/100 AVG Training Loss:0.490 AVG Validation Loss:0.491 AVG Training Acc 79.84 % AVG Validation Acc 79.81 %\n",
      "Epoch:20/100 AVG Training Loss:0.481 AVG Validation Loss:0.488 AVG Training Acc 79.86 % AVG Validation Acc 79.81 %\n",
      "Epoch    29: reducing learning rate of group 0 to 1.0000e-03.\n",
      "Epoch:30/100 AVG Training Loss:0.476 AVG Validation Loss:0.488 AVG Training Acc 79.78 % AVG Validation Acc 79.81 %\n",
      "Epoch:40/100 AVG Training Loss:0.465 AVG Validation Loss:0.494 AVG Training Acc 80.10 % AVG Validation Acc 79.68 %\n",
      "Epoch:50/100 AVG Training Loss:0.459 AVG Validation Loss:0.496 AVG Training Acc 80.17 % AVG Validation Acc 79.68 %\n",
      "Epoch:60/100 AVG Training Loss:0.452 AVG Validation Loss:0.498 AVG Training Acc 80.31 % AVG Validation Acc 79.54 %\n",
      "Epoch    60: reducing learning rate of group 0 to 1.0000e-04.\n",
      "Epoch:70/100 AVG Training Loss:0.446 AVG Validation Loss:0.504 AVG Training Acc 80.41 % AVG Validation Acc 79.41 %\n",
      "Epoch:80/100 AVG Training Loss:0.444 AVG Validation Loss:0.504 AVG Training Acc 80.46 % AVG Validation Acc 79.68 %\n",
      "Epoch:90/100 AVG Training Loss:0.445 AVG Validation Loss:0.504 AVG Training Acc 80.52 % AVG Validation Acc 79.27 %\n",
      "Epoch    91: reducing learning rate of group 0 to 1.0000e-05.\n",
      "Epoch:100/100 AVG Training Loss:0.443 AVG Validation Loss:0.504 AVG Training Acc 80.59 % AVG Validation Acc 79.41 %\n",
      "Split 59\n"
     ]
    },
    {
     "data": {
      "application/vnd.jupyter.widget-view+json": {
       "model_id": "f4de4b95fdff42498ff6f298f811c0b4",
       "version_major": 2,
       "version_minor": 0
      },
      "text/plain": [
       "  0%|          | 0/100 [00:00<?, ?it/s]"
      ]
     },
     "metadata": {},
     "output_type": "display_data"
    },
    {
     "name": "stdout",
     "output_type": "stream",
     "text": [
      "Epoch:10/100 AVG Training Loss:0.487 AVG Validation Loss:0.522 AVG Training Acc 79.93 % AVG Validation Acc 78.20 %\n",
      "Epoch:20/100 AVG Training Loss:0.482 AVG Validation Loss:0.514 AVG Training Acc 80.08 % AVG Validation Acc 78.33 %\n",
      "Epoch    27: reducing learning rate of group 0 to 1.0000e-03.\n",
      "Epoch:30/100 AVG Training Loss:0.464 AVG Validation Loss:0.527 AVG Training Acc 80.44 % AVG Validation Acc 78.20 %\n",
      "Epoch:40/100 AVG Training Loss:0.453 AVG Validation Loss:0.539 AVG Training Acc 80.61 % AVG Validation Acc 78.20 %\n",
      "Epoch:50/100 AVG Training Loss:0.443 AVG Validation Loss:0.559 AVG Training Acc 80.70 % AVG Validation Acc 77.79 %\n",
      "Epoch    58: reducing learning rate of group 0 to 1.0000e-04.\n",
      "Epoch:60/100 AVG Training Loss:0.430 AVG Validation Loss:0.576 AVG Training Acc 81.10 % AVG Validation Acc 77.66 %\n",
      "Epoch:70/100 AVG Training Loss:0.430 AVG Validation Loss:0.576 AVG Training Acc 80.91 % AVG Validation Acc 77.52 %\n",
      "Epoch:80/100 AVG Training Loss:0.425 AVG Validation Loss:0.584 AVG Training Acc 81.38 % AVG Validation Acc 77.39 %\n",
      "Epoch    89: reducing learning rate of group 0 to 1.0000e-05.\n",
      "Epoch:90/100 AVG Training Loss:0.424 AVG Validation Loss:0.591 AVG Training Acc 81.34 % AVG Validation Acc 77.12 %\n",
      "Epoch:100/100 AVG Training Loss:0.424 AVG Validation Loss:0.591 AVG Training Acc 81.17 % AVG Validation Acc 77.25 %\n",
      "Split 60\n"
     ]
    },
    {
     "data": {
      "application/vnd.jupyter.widget-view+json": {
       "model_id": "76861bc22cd84600b89c93d487206ad3",
       "version_major": 2,
       "version_minor": 0
      },
      "text/plain": [
       "  0%|          | 0/100 [00:00<?, ?it/s]"
      ]
     },
     "metadata": {},
     "output_type": "display_data"
    },
    {
     "name": "stdout",
     "output_type": "stream",
     "text": [
      "Epoch:10/100 AVG Training Loss:0.492 AVG Validation Loss:0.486 AVG Training Acc 79.83 % AVG Validation Acc 80.48 %\n",
      "Epoch:20/100 AVG Training Loss:0.484 AVG Validation Loss:0.492 AVG Training Acc 79.80 % AVG Validation Acc 80.48 %\n",
      "Epoch    25: reducing learning rate of group 0 to 1.0000e-03.\n",
      "Epoch:30/100 AVG Training Loss:0.466 AVG Validation Loss:0.496 AVG Training Acc 80.01 % AVG Validation Acc 80.22 %\n",
      "Epoch:40/100 AVG Training Loss:0.457 AVG Validation Loss:0.506 AVG Training Acc 80.10 % AVG Validation Acc 79.68 %\n",
      "Epoch:50/100 AVG Training Loss:0.446 AVG Validation Loss:0.526 AVG Training Acc 80.20 % AVG Validation Acc 79.41 %\n",
      "Epoch    56: reducing learning rate of group 0 to 1.0000e-04.\n",
      "Epoch:60/100 AVG Training Loss:0.432 AVG Validation Loss:0.536 AVG Training Acc 80.58 % AVG Validation Acc 79.00 %\n",
      "Epoch:70/100 AVG Training Loss:0.434 AVG Validation Loss:0.536 AVG Training Acc 80.44 % AVG Validation Acc 78.73 %\n",
      "Epoch:80/100 AVG Training Loss:0.430 AVG Validation Loss:0.538 AVG Training Acc 80.74 % AVG Validation Acc 78.47 %\n",
      "Epoch    87: reducing learning rate of group 0 to 1.0000e-05.\n",
      "Epoch:90/100 AVG Training Loss:0.431 AVG Validation Loss:0.546 AVG Training Acc 80.49 % AVG Validation Acc 78.60 %\n",
      "Epoch:100/100 AVG Training Loss:0.426 AVG Validation Loss:0.543 AVG Training Acc 80.71 % AVG Validation Acc 78.73 %\n",
      "Split 61\n"
     ]
    },
    {
     "data": {
      "application/vnd.jupyter.widget-view+json": {
       "model_id": "b23aefa2405b402eb4f1ae199f3dcccd",
       "version_major": 2,
       "version_minor": 0
      },
      "text/plain": [
       "  0%|          | 0/100 [00:00<?, ?it/s]"
      ]
     },
     "metadata": {},
     "output_type": "display_data"
    },
    {
     "name": "stdout",
     "output_type": "stream",
     "text": [
      "Epoch:10/100 AVG Training Loss:0.492 AVG Validation Loss:0.499 AVG Training Acc 79.80 % AVG Validation Acc 79.84 %\n",
      "Epoch:20/100 AVG Training Loss:0.485 AVG Validation Loss:0.489 AVG Training Acc 79.83 % AVG Validation Acc 79.84 %\n",
      "Epoch    27: reducing learning rate of group 0 to 1.0000e-03.\n",
      "Epoch:30/100 AVG Training Loss:0.464 AVG Validation Loss:0.494 AVG Training Acc 79.96 % AVG Validation Acc 79.84 %\n",
      "Epoch:40/100 AVG Training Loss:0.451 AVG Validation Loss:0.510 AVG Training Acc 80.13 % AVG Validation Acc 79.84 %\n",
      "Epoch:50/100 AVG Training Loss:0.439 AVG Validation Loss:0.524 AVG Training Acc 80.59 % AVG Validation Acc 79.30 %\n",
      "Epoch    58: reducing learning rate of group 0 to 1.0000e-04.\n",
      "Epoch:60/100 AVG Training Loss:0.427 AVG Validation Loss:0.529 AVG Training Acc 80.86 % AVG Validation Acc 79.30 %\n",
      "Epoch:70/100 AVG Training Loss:0.424 AVG Validation Loss:0.535 AVG Training Acc 81.02 % AVG Validation Acc 79.17 %\n",
      "Epoch:80/100 AVG Training Loss:0.423 AVG Validation Loss:0.534 AVG Training Acc 81.08 % AVG Validation Acc 78.76 %\n",
      "Epoch    89: reducing learning rate of group 0 to 1.0000e-05.\n",
      "Epoch:90/100 AVG Training Loss:0.422 AVG Validation Loss:0.534 AVG Training Acc 81.26 % AVG Validation Acc 78.90 %\n",
      "Epoch:100/100 AVG Training Loss:0.417 AVG Validation Loss:0.538 AVG Training Acc 81.20 % AVG Validation Acc 78.90 %\n",
      "Split 62\n"
     ]
    },
    {
     "data": {
      "application/vnd.jupyter.widget-view+json": {
       "model_id": "241d95b0f2814643a35f1359217a32ed",
       "version_major": 2,
       "version_minor": 0
      },
      "text/plain": [
       "  0%|          | 0/100 [00:00<?, ?it/s]"
      ]
     },
     "metadata": {},
     "output_type": "display_data"
    },
    {
     "name": "stdout",
     "output_type": "stream",
     "text": [
      "Epoch:10/100 AVG Training Loss:0.494 AVG Validation Loss:0.460 AVG Training Acc 79.56 % AVG Validation Acc 82.39 %\n",
      "Epoch:20/100 AVG Training Loss:0.490 AVG Validation Loss:0.453 AVG Training Acc 79.59 % AVG Validation Acc 82.39 %\n",
      "Epoch:30/100 AVG Training Loss:0.485 AVG Validation Loss:0.449 AVG Training Acc 79.59 % AVG Validation Acc 82.39 %\n",
      "Epoch:40/100 AVG Training Loss:0.475 AVG Validation Loss:0.454 AVG Training Acc 79.72 % AVG Validation Acc 82.53 %\n",
      "Epoch    47: reducing learning rate of group 0 to 1.0000e-03.\n",
      "Epoch:50/100 AVG Training Loss:0.447 AVG Validation Loss:0.470 AVG Training Acc 80.14 % AVG Validation Acc 82.66 %\n",
      "Epoch:60/100 AVG Training Loss:0.439 AVG Validation Loss:0.476 AVG Training Acc 80.41 % AVG Validation Acc 82.12 %\n",
      "Epoch:70/100 AVG Training Loss:0.431 AVG Validation Loss:0.479 AVG Training Acc 80.47 % AVG Validation Acc 82.12 %\n",
      "Epoch    78: reducing learning rate of group 0 to 1.0000e-04.\n",
      "Epoch:80/100 AVG Training Loss:0.422 AVG Validation Loss:0.495 AVG Training Acc 80.71 % AVG Validation Acc 81.85 %\n",
      "Epoch:90/100 AVG Training Loss:0.420 AVG Validation Loss:0.503 AVG Training Acc 80.80 % AVG Validation Acc 81.72 %\n",
      "Epoch:100/100 AVG Training Loss:0.419 AVG Validation Loss:0.496 AVG Training Acc 81.05 % AVG Validation Acc 81.45 %\n",
      "Split 63\n"
     ]
    },
    {
     "data": {
      "application/vnd.jupyter.widget-view+json": {
       "model_id": "5264206a69774adeb3f114f957671d83",
       "version_major": 2,
       "version_minor": 0
      },
      "text/plain": [
       "  0%|          | 0/100 [00:00<?, ?it/s]"
      ]
     },
     "metadata": {},
     "output_type": "display_data"
    },
    {
     "name": "stdout",
     "output_type": "stream",
     "text": [
      "Epoch:10/100 AVG Training Loss:0.485 AVG Validation Loss:0.514 AVG Training Acc 80.14 % AVG Validation Acc 77.28 %\n",
      "Epoch:20/100 AVG Training Loss:0.478 AVG Validation Loss:0.518 AVG Training Acc 80.25 % AVG Validation Acc 77.28 %\n",
      "Epoch:30/100 AVG Training Loss:0.485 AVG Validation Loss:0.520 AVG Training Acc 80.11 % AVG Validation Acc 77.28 %\n",
      "Epoch    30: reducing learning rate of group 0 to 1.0000e-03.\n",
      "Epoch:40/100 AVG Training Loss:0.469 AVG Validation Loss:0.528 AVG Training Acc 80.22 % AVG Validation Acc 77.55 %\n",
      "Epoch:50/100 AVG Training Loss:0.460 AVG Validation Loss:0.536 AVG Training Acc 80.30 % AVG Validation Acc 77.28 %\n",
      "Epoch:60/100 AVG Training Loss:0.453 AVG Validation Loss:0.557 AVG Training Acc 80.45 % AVG Validation Acc 77.15 %\n",
      "Epoch    61: reducing learning rate of group 0 to 1.0000e-04.\n",
      "Epoch:70/100 AVG Training Loss:0.446 AVG Validation Loss:0.559 AVG Training Acc 80.47 % AVG Validation Acc 76.88 %\n",
      "Epoch:80/100 AVG Training Loss:0.444 AVG Validation Loss:0.566 AVG Training Acc 80.48 % AVG Validation Acc 77.15 %\n",
      "Epoch:90/100 AVG Training Loss:0.444 AVG Validation Loss:0.568 AVG Training Acc 80.60 % AVG Validation Acc 77.02 %\n",
      "Epoch    92: reducing learning rate of group 0 to 1.0000e-05.\n",
      "Epoch:100/100 AVG Training Loss:0.442 AVG Validation Loss:0.571 AVG Training Acc 80.72 % AVG Validation Acc 76.88 %\n",
      "Split 64\n"
     ]
    },
    {
     "data": {
      "application/vnd.jupyter.widget-view+json": {
       "model_id": "ba86d95fe0944518b1009599f0d4deb9",
       "version_major": 2,
       "version_minor": 0
      },
      "text/plain": [
       "  0%|          | 0/100 [00:00<?, ?it/s]"
      ]
     },
     "metadata": {},
     "output_type": "display_data"
    },
    {
     "name": "stdout",
     "output_type": "stream",
     "text": [
      "Epoch:10/100 AVG Training Loss:0.491 AVG Validation Loss:0.508 AVG Training Acc 80.04 % AVG Validation Acc 78.23 %\n",
      "Epoch:20/100 AVG Training Loss:0.481 AVG Validation Loss:0.507 AVG Training Acc 80.08 % AVG Validation Acc 78.23 %\n",
      "Epoch    23: reducing learning rate of group 0 to 1.0000e-03.\n",
      "Epoch:30/100 AVG Training Loss:0.463 AVG Validation Loss:0.514 AVG Training Acc 80.41 % AVG Validation Acc 77.82 %\n",
      "Epoch:40/100 AVG Training Loss:0.450 AVG Validation Loss:0.526 AVG Training Acc 80.81 % AVG Validation Acc 77.02 %\n",
      "Epoch:50/100 AVG Training Loss:0.439 AVG Validation Loss:0.536 AVG Training Acc 80.99 % AVG Validation Acc 76.75 %\n",
      "Epoch    54: reducing learning rate of group 0 to 1.0000e-04.\n",
      "Epoch:60/100 AVG Training Loss:0.431 AVG Validation Loss:0.540 AVG Training Acc 81.59 % AVG Validation Acc 77.15 %\n",
      "Epoch:70/100 AVG Training Loss:0.430 AVG Validation Loss:0.545 AVG Training Acc 81.35 % AVG Validation Acc 77.15 %\n",
      "Epoch:80/100 AVG Training Loss:0.425 AVG Validation Loss:0.546 AVG Training Acc 81.71 % AVG Validation Acc 77.02 %\n",
      "Epoch    85: reducing learning rate of group 0 to 1.0000e-05.\n",
      "Epoch:90/100 AVG Training Loss:0.426 AVG Validation Loss:0.549 AVG Training Acc 81.78 % AVG Validation Acc 76.88 %\n",
      "Epoch:100/100 AVG Training Loss:0.428 AVG Validation Loss:0.546 AVG Training Acc 81.58 % AVG Validation Acc 77.15 %\n",
      "Split 65\n"
     ]
    },
    {
     "data": {
      "application/vnd.jupyter.widget-view+json": {
       "model_id": "7cebb73bc7374233842f0e3cec0f5dc2",
       "version_major": 2,
       "version_minor": 0
      },
      "text/plain": [
       "  0%|          | 0/100 [00:00<?, ?it/s]"
      ]
     },
     "metadata": {},
     "output_type": "display_data"
    },
    {
     "name": "stdout",
     "output_type": "stream",
     "text": [
      "Epoch:10/100 AVG Training Loss:0.493 AVG Validation Loss:0.479 AVG Training Acc 79.68 % AVG Validation Acc 80.51 %\n",
      "Epoch:20/100 AVG Training Loss:0.485 AVG Validation Loss:0.472 AVG Training Acc 79.84 % AVG Validation Acc 80.51 %\n",
      "Epoch:30/100 AVG Training Loss:0.479 AVG Validation Loss:0.481 AVG Training Acc 79.80 % AVG Validation Acc 80.38 %\n",
      "Epoch    35: reducing learning rate of group 0 to 1.0000e-03.\n",
      "Epoch:40/100 AVG Training Loss:0.460 AVG Validation Loss:0.490 AVG Training Acc 80.07 % AVG Validation Acc 79.97 %\n",
      "Epoch:50/100 AVG Training Loss:0.448 AVG Validation Loss:0.502 AVG Training Acc 80.66 % AVG Validation Acc 79.70 %\n",
      "Epoch:60/100 AVG Training Loss:0.438 AVG Validation Loss:0.517 AVG Training Acc 81.10 % AVG Validation Acc 79.84 %\n",
      "Epoch    66: reducing learning rate of group 0 to 1.0000e-04.\n",
      "Epoch:70/100 AVG Training Loss:0.429 AVG Validation Loss:0.531 AVG Training Acc 81.35 % AVG Validation Acc 79.30 %\n",
      "Epoch:80/100 AVG Training Loss:0.428 AVG Validation Loss:0.533 AVG Training Acc 81.46 % AVG Validation Acc 79.30 %\n",
      "Epoch:90/100 AVG Training Loss:0.426 AVG Validation Loss:0.537 AVG Training Acc 81.59 % AVG Validation Acc 79.17 %\n",
      "Epoch    97: reducing learning rate of group 0 to 1.0000e-05.\n",
      "Epoch:100/100 AVG Training Loss:0.425 AVG Validation Loss:0.541 AVG Training Acc 81.55 % AVG Validation Acc 79.30 %\n",
      "Split 66\n"
     ]
    },
    {
     "data": {
      "application/vnd.jupyter.widget-view+json": {
       "model_id": "6e54095134d04fa89670789991a2dbe1",
       "version_major": 2,
       "version_minor": 0
      },
      "text/plain": [
       "  0%|          | 0/100 [00:00<?, ?it/s]"
      ]
     },
     "metadata": {},
     "output_type": "display_data"
    },
    {
     "name": "stdout",
     "output_type": "stream",
     "text": [
      "Epoch:10/100 AVG Training Loss:0.490 AVG Validation Loss:0.492 AVG Training Acc 79.86 % AVG Validation Acc 79.84 %\n",
      "Epoch:20/100 AVG Training Loss:0.485 AVG Validation Loss:0.489 AVG Training Acc 79.90 % AVG Validation Acc 79.84 %\n",
      "Epoch:30/100 AVG Training Loss:0.477 AVG Validation Loss:0.484 AVG Training Acc 79.95 % AVG Validation Acc 79.84 %\n",
      "Epoch    33: reducing learning rate of group 0 to 1.0000e-03.\n",
      "Epoch:40/100 AVG Training Loss:0.462 AVG Validation Loss:0.492 AVG Training Acc 80.29 % AVG Validation Acc 79.57 %\n",
      "Epoch:50/100 AVG Training Loss:0.454 AVG Validation Loss:0.499 AVG Training Acc 80.38 % AVG Validation Acc 79.44 %\n",
      "Epoch:60/100 AVG Training Loss:0.444 AVG Validation Loss:0.503 AVG Training Acc 80.89 % AVG Validation Acc 79.44 %\n",
      "Epoch    64: reducing learning rate of group 0 to 1.0000e-04.\n",
      "Epoch:70/100 AVG Training Loss:0.437 AVG Validation Loss:0.508 AVG Training Acc 80.81 % AVG Validation Acc 79.03 %\n",
      "Epoch:80/100 AVG Training Loss:0.433 AVG Validation Loss:0.511 AVG Training Acc 81.17 % AVG Validation Acc 78.90 %\n",
      "Epoch:90/100 AVG Training Loss:0.434 AVG Validation Loss:0.506 AVG Training Acc 81.17 % AVG Validation Acc 79.03 %\n",
      "Epoch    95: reducing learning rate of group 0 to 1.0000e-05.\n",
      "Epoch:100/100 AVG Training Loss:0.435 AVG Validation Loss:0.511 AVG Training Acc 81.13 % AVG Validation Acc 78.49 %\n",
      "Split 67\n"
     ]
    },
    {
     "data": {
      "application/vnd.jupyter.widget-view+json": {
       "model_id": "442b3cfc272040848def8b2bca15c2f2",
       "version_major": 2,
       "version_minor": 0
      },
      "text/plain": [
       "  0%|          | 0/100 [00:00<?, ?it/s]"
      ]
     },
     "metadata": {},
     "output_type": "display_data"
    },
    {
     "name": "stdout",
     "output_type": "stream",
     "text": [
      "Epoch:10/100 AVG Training Loss:0.499 AVG Validation Loss:0.475 AVG Training Acc 79.65 % AVG Validation Acc 81.29 %\n",
      "Epoch:20/100 AVG Training Loss:0.490 AVG Validation Loss:0.471 AVG Training Acc 79.68 % AVG Validation Acc 81.29 %\n",
      "Epoch:30/100 AVG Training Loss:0.484 AVG Validation Loss:0.475 AVG Training Acc 79.75 % AVG Validation Acc 81.29 %\n",
      "Epoch    31: reducing learning rate of group 0 to 1.0000e-03.\n",
      "Epoch:40/100 AVG Training Loss:0.468 AVG Validation Loss:0.482 AVG Training Acc 79.77 % AVG Validation Acc 81.43 %\n",
      "Epoch:50/100 AVG Training Loss:0.463 AVG Validation Loss:0.485 AVG Training Acc 80.08 % AVG Validation Acc 81.16 %\n",
      "Epoch:60/100 AVG Training Loss:0.455 AVG Validation Loss:0.488 AVG Training Acc 80.14 % AVG Validation Acc 80.89 %\n",
      "Epoch    62: reducing learning rate of group 0 to 1.0000e-04.\n",
      "Epoch:70/100 AVG Training Loss:0.451 AVG Validation Loss:0.490 AVG Training Acc 80.20 % AVG Validation Acc 81.16 %\n",
      "Epoch:80/100 AVG Training Loss:0.450 AVG Validation Loss:0.496 AVG Training Acc 80.32 % AVG Validation Acc 81.02 %\n",
      "Epoch:90/100 AVG Training Loss:0.448 AVG Validation Loss:0.497 AVG Training Acc 80.10 % AVG Validation Acc 81.02 %\n",
      "Epoch    93: reducing learning rate of group 0 to 1.0000e-05.\n",
      "Epoch:100/100 AVG Training Loss:0.448 AVG Validation Loss:0.496 AVG Training Acc 80.23 % AVG Validation Acc 81.02 %\n",
      "Split 68\n"
     ]
    },
    {
     "data": {
      "application/vnd.jupyter.widget-view+json": {
       "model_id": "422876f051ba4d6c96381ce836d39947",
       "version_major": 2,
       "version_minor": 0
      },
      "text/plain": [
       "  0%|          | 0/100 [00:00<?, ?it/s]"
      ]
     },
     "metadata": {},
     "output_type": "display_data"
    },
    {
     "name": "stdout",
     "output_type": "stream",
     "text": [
      "Epoch:10/100 AVG Training Loss:0.493 AVG Validation Loss:0.465 AVG Training Acc 79.68 % AVG Validation Acc 81.70 %\n",
      "Epoch    14: reducing learning rate of group 0 to 1.0000e-03.\n",
      "Epoch:20/100 AVG Training Loss:0.482 AVG Validation Loss:0.467 AVG Training Acc 79.78 % AVG Validation Acc 81.56 %\n",
      "Epoch:30/100 AVG Training Loss:0.477 AVG Validation Loss:0.469 AVG Training Acc 79.77 % AVG Validation Acc 81.29 %\n",
      "Epoch:40/100 AVG Training Loss:0.467 AVG Validation Loss:0.469 AVG Training Acc 79.99 % AVG Validation Acc 81.16 %\n",
      "Epoch    45: reducing learning rate of group 0 to 1.0000e-04.\n",
      "Epoch:50/100 AVG Training Loss:0.459 AVG Validation Loss:0.471 AVG Training Acc 80.02 % AVG Validation Acc 81.16 %\n",
      "Epoch:60/100 AVG Training Loss:0.456 AVG Validation Loss:0.473 AVG Training Acc 80.31 % AVG Validation Acc 81.16 %\n",
      "Epoch:70/100 AVG Training Loss:0.451 AVG Validation Loss:0.473 AVG Training Acc 80.31 % AVG Validation Acc 81.02 %\n",
      "Epoch    76: reducing learning rate of group 0 to 1.0000e-05.\n",
      "Epoch:80/100 AVG Training Loss:0.454 AVG Validation Loss:0.473 AVG Training Acc 80.17 % AVG Validation Acc 81.02 %\n",
      "Epoch:90/100 AVG Training Loss:0.453 AVG Validation Loss:0.474 AVG Training Acc 80.19 % AVG Validation Acc 80.89 %\n",
      "Epoch:100/100 AVG Training Loss:0.450 AVG Validation Loss:0.474 AVG Training Acc 80.29 % AVG Validation Acc 80.89 %\n",
      "Split 69\n"
     ]
    },
    {
     "data": {
      "application/vnd.jupyter.widget-view+json": {
       "model_id": "4ec8244421f6404cbfae52925486eb52",
       "version_major": 2,
       "version_minor": 0
      },
      "text/plain": [
       "  0%|          | 0/100 [00:00<?, ?it/s]"
      ]
     },
     "metadata": {},
     "output_type": "display_data"
    },
    {
     "name": "stdout",
     "output_type": "stream",
     "text": [
      "Epoch:10/100 AVG Training Loss:0.491 AVG Validation Loss:0.503 AVG Training Acc 79.96 % AVG Validation Acc 79.00 %\n",
      "Epoch:20/100 AVG Training Loss:0.487 AVG Validation Loss:0.501 AVG Training Acc 79.95 % AVG Validation Acc 79.00 %\n",
      "Epoch    28: reducing learning rate of group 0 to 1.0000e-03.\n",
      "Epoch:30/100 AVG Training Loss:0.468 AVG Validation Loss:0.500 AVG Training Acc 80.13 % AVG Validation Acc 79.14 %\n",
      "Epoch:40/100 AVG Training Loss:0.455 AVG Validation Loss:0.510 AVG Training Acc 80.10 % AVG Validation Acc 79.00 %\n",
      "Epoch:50/100 AVG Training Loss:0.443 AVG Validation Loss:0.513 AVG Training Acc 80.49 % AVG Validation Acc 78.47 %\n",
      "Epoch    59: reducing learning rate of group 0 to 1.0000e-04.\n",
      "Epoch:60/100 AVG Training Loss:0.433 AVG Validation Loss:0.537 AVG Training Acc 80.82 % AVG Validation Acc 78.47 %\n",
      "Epoch:70/100 AVG Training Loss:0.430 AVG Validation Loss:0.543 AVG Training Acc 80.92 % AVG Validation Acc 78.33 %\n",
      "Epoch:80/100 AVG Training Loss:0.431 AVG Validation Loss:0.551 AVG Training Acc 81.02 % AVG Validation Acc 78.06 %\n",
      "Epoch:90/100 AVG Training Loss:0.426 AVG Validation Loss:0.550 AVG Training Acc 81.14 % AVG Validation Acc 78.47 %\n",
      "Epoch    90: reducing learning rate of group 0 to 1.0000e-05.\n",
      "Epoch:100/100 AVG Training Loss:0.425 AVG Validation Loss:0.552 AVG Training Acc 81.17 % AVG Validation Acc 78.47 %\n",
      "Split 70\n"
     ]
    },
    {
     "data": {
      "application/vnd.jupyter.widget-view+json": {
       "model_id": "68870a96b3334e4b90a0985e4851ebae",
       "version_major": 2,
       "version_minor": 0
      },
      "text/plain": [
       "  0%|          | 0/100 [00:00<?, ?it/s]"
      ]
     },
     "metadata": {},
     "output_type": "display_data"
    },
    {
     "name": "stdout",
     "output_type": "stream",
     "text": [
      "Epoch:10/100 AVG Training Loss:0.486 AVG Validation Loss:0.517 AVG Training Acc 80.02 % AVG Validation Acc 78.60 %\n",
      "Epoch:20/100 AVG Training Loss:0.483 AVG Validation Loss:0.532 AVG Training Acc 79.98 % AVG Validation Acc 78.60 %\n",
      "Epoch:30/100 AVG Training Loss:0.475 AVG Validation Loss:0.519 AVG Training Acc 80.07 % AVG Validation Acc 78.73 %\n",
      "Epoch    32: reducing learning rate of group 0 to 1.0000e-03.\n",
      "Epoch:40/100 AVG Training Loss:0.455 AVG Validation Loss:0.529 AVG Training Acc 80.50 % AVG Validation Acc 78.87 %\n",
      "Epoch:50/100 AVG Training Loss:0.451 AVG Validation Loss:0.533 AVG Training Acc 80.62 % AVG Validation Acc 78.60 %\n",
      "Epoch:60/100 AVG Training Loss:0.440 AVG Validation Loss:0.551 AVG Training Acc 80.53 % AVG Validation Acc 78.33 %\n",
      "Epoch    63: reducing learning rate of group 0 to 1.0000e-04.\n",
      "Epoch:70/100 AVG Training Loss:0.434 AVG Validation Loss:0.552 AVG Training Acc 80.86 % AVG Validation Acc 77.93 %\n",
      "Epoch:80/100 AVG Training Loss:0.434 AVG Validation Loss:0.551 AVG Training Acc 80.86 % AVG Validation Acc 78.47 %\n",
      "Epoch:90/100 AVG Training Loss:0.432 AVG Validation Loss:0.558 AVG Training Acc 80.79 % AVG Validation Acc 78.47 %\n",
      "Epoch    94: reducing learning rate of group 0 to 1.0000e-05.\n",
      "Epoch:100/100 AVG Training Loss:0.432 AVG Validation Loss:0.552 AVG Training Acc 80.95 % AVG Validation Acc 78.47 %\n",
      "Split 71\n"
     ]
    },
    {
     "data": {
      "application/vnd.jupyter.widget-view+json": {
       "model_id": "12d55f694212417bad936271bc25535c",
       "version_major": 2,
       "version_minor": 0
      },
      "text/plain": [
       "  0%|          | 0/100 [00:00<?, ?it/s]"
      ]
     },
     "metadata": {},
     "output_type": "display_data"
    },
    {
     "name": "stdout",
     "output_type": "stream",
     "text": [
      "Epoch:10/100 AVG Training Loss:0.485 AVG Validation Loss:0.530 AVG Training Acc 79.95 % AVG Validation Acc 77.82 %\n",
      "Epoch:20/100 AVG Training Loss:0.477 AVG Validation Loss:0.530 AVG Training Acc 80.32 % AVG Validation Acc 77.55 %\n",
      "Epoch:30/100 AVG Training Loss:0.471 AVG Validation Loss:0.542 AVG Training Acc 80.20 % AVG Validation Acc 77.69 %\n",
      "Epoch    33: reducing learning rate of group 0 to 1.0000e-03.\n",
      "Epoch:40/100 AVG Training Loss:0.447 AVG Validation Loss:0.530 AVG Training Acc 80.83 % AVG Validation Acc 77.82 %\n",
      "Epoch:50/100 AVG Training Loss:0.440 AVG Validation Loss:0.535 AVG Training Acc 81.08 % AVG Validation Acc 77.42 %\n",
      "Epoch:60/100 AVG Training Loss:0.428 AVG Validation Loss:0.547 AVG Training Acc 81.29 % AVG Validation Acc 76.75 %\n",
      "Epoch    64: reducing learning rate of group 0 to 1.0000e-04.\n",
      "Epoch:70/100 AVG Training Loss:0.419 AVG Validation Loss:0.554 AVG Training Acc 81.81 % AVG Validation Acc 76.75 %\n",
      "Epoch:80/100 AVG Training Loss:0.418 AVG Validation Loss:0.556 AVG Training Acc 81.71 % AVG Validation Acc 76.75 %\n",
      "Epoch:90/100 AVG Training Loss:0.416 AVG Validation Loss:0.553 AVG Training Acc 81.96 % AVG Validation Acc 76.75 %\n",
      "Epoch    95: reducing learning rate of group 0 to 1.0000e-05.\n",
      "Epoch:100/100 AVG Training Loss:0.417 AVG Validation Loss:0.559 AVG Training Acc 81.71 % AVG Validation Acc 76.61 %\n",
      "Split 72\n"
     ]
    },
    {
     "data": {
      "application/vnd.jupyter.widget-view+json": {
       "model_id": "aa1c92e5e6ff4763930f629892e89fde",
       "version_major": 2,
       "version_minor": 0
      },
      "text/plain": [
       "  0%|          | 0/100 [00:00<?, ?it/s]"
      ]
     },
     "metadata": {},
     "output_type": "display_data"
    },
    {
     "name": "stdout",
     "output_type": "stream",
     "text": [
      "Epoch:10/100 AVG Training Loss:0.493 AVG Validation Loss:0.487 AVG Training Acc 79.90 % AVG Validation Acc 79.84 %\n",
      "Epoch:20/100 AVG Training Loss:0.488 AVG Validation Loss:0.480 AVG Training Acc 79.86 % AVG Validation Acc 79.84 %\n",
      "Epoch:30/100 AVG Training Loss:0.482 AVG Validation Loss:0.478 AVG Training Acc 79.95 % AVG Validation Acc 80.24 %\n",
      "Epoch:40/100 AVG Training Loss:0.479 AVG Validation Loss:0.481 AVG Training Acc 79.78 % AVG Validation Acc 80.51 %\n",
      "Epoch    42: reducing learning rate of group 0 to 1.0000e-03.\n",
      "Epoch:50/100 AVG Training Loss:0.456 AVG Validation Loss:0.488 AVG Training Acc 80.56 % AVG Validation Acc 80.51 %\n",
      "Epoch:60/100 AVG Training Loss:0.451 AVG Validation Loss:0.492 AVG Training Acc 80.89 % AVG Validation Acc 80.38 %\n",
      "Epoch:70/100 AVG Training Loss:0.442 AVG Validation Loss:0.496 AVG Training Acc 81.10 % AVG Validation Acc 80.65 %\n",
      "Epoch    73: reducing learning rate of group 0 to 1.0000e-04.\n",
      "Epoch:80/100 AVG Training Loss:0.436 AVG Validation Loss:0.501 AVG Training Acc 81.40 % AVG Validation Acc 80.65 %\n",
      "Epoch:90/100 AVG Training Loss:0.435 AVG Validation Loss:0.507 AVG Training Acc 81.47 % AVG Validation Acc 80.24 %\n",
      "Epoch:100/100 AVG Training Loss:0.435 AVG Validation Loss:0.502 AVG Training Acc 81.55 % AVG Validation Acc 79.97 %\n",
      "Split 73\n"
     ]
    },
    {
     "data": {
      "application/vnd.jupyter.widget-view+json": {
       "model_id": "5f83fab4338b4acba3cb98a141cf6291",
       "version_major": 2,
       "version_minor": 0
      },
      "text/plain": [
       "  0%|          | 0/100 [00:00<?, ?it/s]"
      ]
     },
     "metadata": {},
     "output_type": "display_data"
    },
    {
     "name": "stdout",
     "output_type": "stream",
     "text": [
      "Epoch:10/100 AVG Training Loss:0.491 AVG Validation Loss:0.485 AVG Training Acc 79.81 % AVG Validation Acc 80.24 %\n",
      "Epoch:20/100 AVG Training Loss:0.481 AVG Validation Loss:0.482 AVG Training Acc 79.87 % AVG Validation Acc 80.38 %\n",
      "Epoch:30/100 AVG Training Loss:0.477 AVG Validation Loss:0.479 AVG Training Acc 79.95 % AVG Validation Acc 80.24 %\n",
      "Epoch:40/100 AVG Training Loss:0.472 AVG Validation Loss:0.485 AVG Training Acc 80.08 % AVG Validation Acc 80.38 %\n",
      "Epoch    45: reducing learning rate of group 0 to 1.0000e-03.\n",
      "Epoch:50/100 AVG Training Loss:0.451 AVG Validation Loss:0.497 AVG Training Acc 80.60 % AVG Validation Acc 79.57 %\n",
      "Epoch:60/100 AVG Training Loss:0.435 AVG Validation Loss:0.508 AVG Training Acc 80.87 % AVG Validation Acc 79.44 %\n",
      "Epoch:70/100 AVG Training Loss:0.427 AVG Validation Loss:0.523 AVG Training Acc 81.34 % AVG Validation Acc 79.57 %\n",
      "Epoch    76: reducing learning rate of group 0 to 1.0000e-04.\n",
      "Epoch:80/100 AVG Training Loss:0.415 AVG Validation Loss:0.535 AVG Training Acc 81.74 % AVG Validation Acc 78.90 %\n",
      "Epoch:90/100 AVG Training Loss:0.415 AVG Validation Loss:0.535 AVG Training Acc 81.68 % AVG Validation Acc 79.03 %\n",
      "Epoch:100/100 AVG Training Loss:0.411 AVG Validation Loss:0.542 AVG Training Acc 81.90 % AVG Validation Acc 78.49 %\n",
      "Split 74\n"
     ]
    },
    {
     "data": {
      "application/vnd.jupyter.widget-view+json": {
       "model_id": "a47b9038c13a45dd824588701616a03d",
       "version_major": 2,
       "version_minor": 0
      },
      "text/plain": [
       "  0%|          | 0/100 [00:00<?, ?it/s]"
      ]
     },
     "metadata": {},
     "output_type": "display_data"
    },
    {
     "name": "stdout",
     "output_type": "stream",
     "text": [
      "Epoch:10/100 AVG Training Loss:0.485 AVG Validation Loss:0.539 AVG Training Acc 80.26 % AVG Validation Acc 76.34 %\n",
      "Epoch:20/100 AVG Training Loss:0.482 AVG Validation Loss:0.543 AVG Training Acc 80.13 % AVG Validation Acc 76.34 %\n",
      "Epoch    25: reducing learning rate of group 0 to 1.0000e-03.\n",
      "Epoch:30/100 AVG Training Loss:0.469 AVG Validation Loss:0.548 AVG Training Acc 80.42 % AVG Validation Acc 76.21 %\n",
      "Epoch:40/100 AVG Training Loss:0.460 AVG Validation Loss:0.558 AVG Training Acc 80.57 % AVG Validation Acc 75.94 %\n",
      "Epoch:50/100 AVG Training Loss:0.454 AVG Validation Loss:0.569 AVG Training Acc 80.72 % AVG Validation Acc 75.67 %\n",
      "Epoch    56: reducing learning rate of group 0 to 1.0000e-04.\n",
      "Epoch:60/100 AVG Training Loss:0.445 AVG Validation Loss:0.572 AVG Training Acc 80.89 % AVG Validation Acc 75.54 %\n",
      "Epoch:70/100 AVG Training Loss:0.447 AVG Validation Loss:0.571 AVG Training Acc 80.92 % AVG Validation Acc 75.67 %\n",
      "Epoch:80/100 AVG Training Loss:0.443 AVG Validation Loss:0.575 AVG Training Acc 80.96 % AVG Validation Acc 75.54 %\n",
      "Epoch    87: reducing learning rate of group 0 to 1.0000e-05.\n",
      "Epoch:90/100 AVG Training Loss:0.443 AVG Validation Loss:0.576 AVG Training Acc 80.71 % AVG Validation Acc 75.40 %\n",
      "Epoch:100/100 AVG Training Loss:0.441 AVG Validation Loss:0.574 AVG Training Acc 80.92 % AVG Validation Acc 75.40 %\n",
      "Split 75\n"
     ]
    },
    {
     "data": {
      "application/vnd.jupyter.widget-view+json": {
       "model_id": "37d65d0986884921a14edd6d8136a84b",
       "version_major": 2,
       "version_minor": 0
      },
      "text/plain": [
       "  0%|          | 0/100 [00:00<?, ?it/s]"
      ]
     },
     "metadata": {},
     "output_type": "display_data"
    },
    {
     "name": "stdout",
     "output_type": "stream",
     "text": [
      "Epoch:10/100 AVG Training Loss:0.487 AVG Validation Loss:0.515 AVG Training Acc 79.90 % AVG Validation Acc 78.63 %\n",
      "Epoch:20/100 AVG Training Loss:0.480 AVG Validation Loss:0.517 AVG Training Acc 79.93 % AVG Validation Acc 78.63 %\n",
      "Epoch:30/100 AVG Training Loss:0.474 AVG Validation Loss:0.509 AVG Training Acc 80.14 % AVG Validation Acc 78.63 %\n",
      "Epoch    34: reducing learning rate of group 0 to 1.0000e-03.\n",
      "Epoch:40/100 AVG Training Loss:0.452 AVG Validation Loss:0.526 AVG Training Acc 80.16 % AVG Validation Acc 78.23 %\n",
      "Epoch:50/100 AVG Training Loss:0.437 AVG Validation Loss:0.542 AVG Training Acc 80.86 % AVG Validation Acc 77.82 %\n",
      "Epoch:60/100 AVG Training Loss:0.426 AVG Validation Loss:0.554 AVG Training Acc 81.32 % AVG Validation Acc 78.23 %\n",
      "Epoch    65: reducing learning rate of group 0 to 1.0000e-04.\n",
      "Epoch:70/100 AVG Training Loss:0.414 AVG Validation Loss:0.565 AVG Training Acc 81.53 % AVG Validation Acc 78.23 %\n",
      "Epoch:80/100 AVG Training Loss:0.415 AVG Validation Loss:0.568 AVG Training Acc 81.60 % AVG Validation Acc 78.36 %\n",
      "Epoch:90/100 AVG Training Loss:0.411 AVG Validation Loss:0.571 AVG Training Acc 81.72 % AVG Validation Acc 78.23 %\n",
      "Epoch    96: reducing learning rate of group 0 to 1.0000e-05.\n",
      "Epoch:100/100 AVG Training Loss:0.412 AVG Validation Loss:0.572 AVG Training Acc 81.92 % AVG Validation Acc 78.23 %\n",
      "Split 76\n"
     ]
    },
    {
     "data": {
      "application/vnd.jupyter.widget-view+json": {
       "model_id": "024cc254622c4b019c4057105502ceff",
       "version_major": 2,
       "version_minor": 0
      },
      "text/plain": [
       "  0%|          | 0/100 [00:00<?, ?it/s]"
      ]
     },
     "metadata": {},
     "output_type": "display_data"
    },
    {
     "name": "stdout",
     "output_type": "stream",
     "text": [
      "Epoch:10/100 AVG Training Loss:0.496 AVG Validation Loss:0.469 AVG Training Acc 79.69 % AVG Validation Acc 81.45 %\n",
      "Epoch:20/100 AVG Training Loss:0.486 AVG Validation Loss:0.463 AVG Training Acc 79.74 % AVG Validation Acc 81.45 %\n",
      "Epoch    26: reducing learning rate of group 0 to 1.0000e-03.\n",
      "Epoch:30/100 AVG Training Loss:0.470 AVG Validation Loss:0.467 AVG Training Acc 79.80 % AVG Validation Acc 81.32 %\n",
      "Epoch:40/100 AVG Training Loss:0.463 AVG Validation Loss:0.471 AVG Training Acc 79.98 % AVG Validation Acc 81.59 %\n",
      "Epoch:50/100 AVG Training Loss:0.454 AVG Validation Loss:0.476 AVG Training Acc 80.20 % AVG Validation Acc 81.59 %\n",
      "Epoch    57: reducing learning rate of group 0 to 1.0000e-04.\n",
      "Epoch:60/100 AVG Training Loss:0.450 AVG Validation Loss:0.482 AVG Training Acc 80.39 % AVG Validation Acc 81.59 %\n",
      "Epoch:70/100 AVG Training Loss:0.447 AVG Validation Loss:0.486 AVG Training Acc 80.26 % AVG Validation Acc 81.59 %\n",
      "Epoch:80/100 AVG Training Loss:0.447 AVG Validation Loss:0.484 AVG Training Acc 80.32 % AVG Validation Acc 81.59 %\n",
      "Epoch    88: reducing learning rate of group 0 to 1.0000e-05.\n",
      "Epoch:90/100 AVG Training Loss:0.445 AVG Validation Loss:0.487 AVG Training Acc 80.23 % AVG Validation Acc 81.18 %\n",
      "Epoch:100/100 AVG Training Loss:0.445 AVG Validation Loss:0.489 AVG Training Acc 80.10 % AVG Validation Acc 81.45 %\n",
      "Split 77\n"
     ]
    },
    {
     "data": {
      "application/vnd.jupyter.widget-view+json": {
       "model_id": "aa3f60bea9a5412899f379c73da38630",
       "version_major": 2,
       "version_minor": 0
      },
      "text/plain": [
       "  0%|          | 0/100 [00:00<?, ?it/s]"
      ]
     },
     "metadata": {},
     "output_type": "display_data"
    },
    {
     "name": "stdout",
     "output_type": "stream",
     "text": [
      "Epoch:10/100 AVG Training Loss:0.493 AVG Validation Loss:0.462 AVG Training Acc 79.50 % AVG Validation Acc 82.50 %\n",
      "Epoch:20/100 AVG Training Loss:0.485 AVG Validation Loss:0.456 AVG Training Acc 79.62 % AVG Validation Acc 82.77 %\n",
      "Epoch:30/100 AVG Training Loss:0.478 AVG Validation Loss:0.458 AVG Training Acc 79.58 % AVG Validation Acc 82.50 %\n",
      "Epoch    32: reducing learning rate of group 0 to 1.0000e-03.\n",
      "Epoch:40/100 AVG Training Loss:0.463 AVG Validation Loss:0.459 AVG Training Acc 79.98 % AVG Validation Acc 82.23 %\n",
      "Epoch:50/100 AVG Training Loss:0.451 AVG Validation Loss:0.464 AVG Training Acc 80.38 % AVG Validation Acc 82.10 %\n",
      "Epoch:60/100 AVG Training Loss:0.439 AVG Validation Loss:0.474 AVG Training Acc 80.97 % AVG Validation Acc 81.83 %\n",
      "Epoch    63: reducing learning rate of group 0 to 1.0000e-04.\n",
      "Epoch:70/100 AVG Training Loss:0.432 AVG Validation Loss:0.482 AVG Training Acc 80.79 % AVG Validation Acc 81.83 %\n",
      "Epoch:80/100 AVG Training Loss:0.429 AVG Validation Loss:0.480 AVG Training Acc 81.25 % AVG Validation Acc 81.83 %\n",
      "Epoch:90/100 AVG Training Loss:0.429 AVG Validation Loss:0.488 AVG Training Acc 80.91 % AVG Validation Acc 81.56 %\n",
      "Epoch    94: reducing learning rate of group 0 to 1.0000e-05.\n",
      "Epoch:100/100 AVG Training Loss:0.427 AVG Validation Loss:0.484 AVG Training Acc 81.11 % AVG Validation Acc 81.43 %\n",
      "Split 78\n"
     ]
    },
    {
     "data": {
      "application/vnd.jupyter.widget-view+json": {
       "model_id": "43d59a5799c64792a5fd660649045c4e",
       "version_major": 2,
       "version_minor": 0
      },
      "text/plain": [
       "  0%|          | 0/100 [00:00<?, ?it/s]"
      ]
     },
     "metadata": {},
     "output_type": "display_data"
    },
    {
     "name": "stdout",
     "output_type": "stream",
     "text": [
      "Epoch:10/100 AVG Training Loss:0.495 AVG Validation Loss:0.464 AVG Training Acc 79.74 % AVG Validation Acc 81.02 %\n",
      "Epoch:20/100 AVG Training Loss:0.484 AVG Validation Loss:0.467 AVG Training Acc 79.64 % AVG Validation Acc 80.89 %\n",
      "Epoch:30/100 AVG Training Loss:0.478 AVG Validation Loss:0.462 AVG Training Acc 79.89 % AVG Validation Acc 80.75 %\n",
      "Epoch    34: reducing learning rate of group 0 to 1.0000e-03.\n",
      "Epoch:40/100 AVG Training Loss:0.462 AVG Validation Loss:0.461 AVG Training Acc 80.11 % AVG Validation Acc 80.75 %\n",
      "Epoch:50/100 AVG Training Loss:0.453 AVG Validation Loss:0.466 AVG Training Acc 80.49 % AVG Validation Acc 80.89 %\n",
      "Epoch:60/100 AVG Training Loss:0.448 AVG Validation Loss:0.469 AVG Training Acc 80.53 % AVG Validation Acc 80.62 %\n",
      "Epoch    65: reducing learning rate of group 0 to 1.0000e-04.\n",
      "Epoch:70/100 AVG Training Loss:0.442 AVG Validation Loss:0.471 AVG Training Acc 80.82 % AVG Validation Acc 80.35 %\n",
      "Epoch:80/100 AVG Training Loss:0.440 AVG Validation Loss:0.473 AVG Training Acc 80.91 % AVG Validation Acc 80.35 %\n",
      "Epoch:90/100 AVG Training Loss:0.438 AVG Validation Loss:0.474 AVG Training Acc 80.85 % AVG Validation Acc 80.62 %\n",
      "Epoch    96: reducing learning rate of group 0 to 1.0000e-05.\n",
      "Epoch:100/100 AVG Training Loss:0.438 AVG Validation Loss:0.473 AVG Training Acc 81.07 % AVG Validation Acc 80.35 %\n",
      "Split 79\n"
     ]
    },
    {
     "data": {
      "application/vnd.jupyter.widget-view+json": {
       "model_id": "5d1dec95392c4c679dfb46f958ec9506",
       "version_major": 2,
       "version_minor": 0
      },
      "text/plain": [
       "  0%|          | 0/100 [00:00<?, ?it/s]"
      ]
     },
     "metadata": {},
     "output_type": "display_data"
    },
    {
     "name": "stdout",
     "output_type": "stream",
     "text": [
      "Epoch:10/100 AVG Training Loss:0.494 AVG Validation Loss:0.480 AVG Training Acc 79.80 % AVG Validation Acc 79.81 %\n",
      "Epoch:20/100 AVG Training Loss:0.486 AVG Validation Loss:0.480 AVG Training Acc 79.81 % AVG Validation Acc 79.81 %\n",
      "Epoch    20: reducing learning rate of group 0 to 1.0000e-03.\n",
      "Epoch:30/100 AVG Training Loss:0.476 AVG Validation Loss:0.481 AVG Training Acc 80.05 % AVG Validation Acc 79.81 %\n",
      "Epoch:40/100 AVG Training Loss:0.468 AVG Validation Loss:0.486 AVG Training Acc 80.19 % AVG Validation Acc 79.54 %\n",
      "Epoch:50/100 AVG Training Loss:0.464 AVG Validation Loss:0.485 AVG Training Acc 80.08 % AVG Validation Acc 79.14 %\n",
      "Epoch    51: reducing learning rate of group 0 to 1.0000e-04.\n",
      "Epoch:60/100 AVG Training Loss:0.459 AVG Validation Loss:0.487 AVG Training Acc 80.20 % AVG Validation Acc 79.14 %\n",
      "Epoch:70/100 AVG Training Loss:0.456 AVG Validation Loss:0.488 AVG Training Acc 80.23 % AVG Validation Acc 79.14 %\n",
      "Epoch:80/100 AVG Training Loss:0.457 AVG Validation Loss:0.489 AVG Training Acc 80.35 % AVG Validation Acc 79.14 %\n",
      "Epoch    82: reducing learning rate of group 0 to 1.0000e-05.\n",
      "Epoch:90/100 AVG Training Loss:0.458 AVG Validation Loss:0.488 AVG Training Acc 80.38 % AVG Validation Acc 79.14 %\n",
      "Epoch:100/100 AVG Training Loss:0.456 AVG Validation Loss:0.487 AVG Training Acc 80.41 % AVG Validation Acc 79.14 %\n",
      "Split 80\n"
     ]
    },
    {
     "data": {
      "application/vnd.jupyter.widget-view+json": {
       "model_id": "0717ae6c91b24a03a7663d64be9d82d0",
       "version_major": 2,
       "version_minor": 0
      },
      "text/plain": [
       "  0%|          | 0/100 [00:00<?, ?it/s]"
      ]
     },
     "metadata": {},
     "output_type": "display_data"
    },
    {
     "name": "stdout",
     "output_type": "stream",
     "text": [
      "Epoch:10/100 AVG Training Loss:0.492 AVG Validation Loss:0.475 AVG Training Acc 79.68 % AVG Validation Acc 81.02 %\n",
      "Epoch:20/100 AVG Training Loss:0.484 AVG Validation Loss:0.478 AVG Training Acc 79.67 % AVG Validation Acc 81.02 %\n",
      "Epoch    29: reducing learning rate of group 0 to 1.0000e-03.\n",
      "Epoch:30/100 AVG Training Loss:0.471 AVG Validation Loss:0.481 AVG Training Acc 79.92 % AVG Validation Acc 81.43 %\n",
      "Epoch:40/100 AVG Training Loss:0.455 AVG Validation Loss:0.496 AVG Training Acc 80.43 % AVG Validation Acc 80.62 %\n",
      "Epoch:50/100 AVG Training Loss:0.450 AVG Validation Loss:0.513 AVG Training Acc 80.37 % AVG Validation Acc 79.68 %\n",
      "Epoch:60/100 AVG Training Loss:0.442 AVG Validation Loss:0.529 AVG Training Acc 80.65 % AVG Validation Acc 79.00 %\n",
      "Epoch    60: reducing learning rate of group 0 to 1.0000e-04.\n",
      "Epoch:70/100 AVG Training Loss:0.438 AVG Validation Loss:0.531 AVG Training Acc 80.77 % AVG Validation Acc 79.27 %\n",
      "Epoch:80/100 AVG Training Loss:0.434 AVG Validation Loss:0.534 AVG Training Acc 80.83 % AVG Validation Acc 79.27 %\n",
      "Epoch:90/100 AVG Training Loss:0.433 AVG Validation Loss:0.535 AVG Training Acc 80.94 % AVG Validation Acc 79.00 %\n",
      "Epoch    91: reducing learning rate of group 0 to 1.0000e-05.\n",
      "Epoch:100/100 AVG Training Loss:0.432 AVG Validation Loss:0.532 AVG Training Acc 80.95 % AVG Validation Acc 79.54 %\n",
      "Split 81\n"
     ]
    },
    {
     "data": {
      "application/vnd.jupyter.widget-view+json": {
       "model_id": "15754c0673fb4ba9a4a6f609724cf92e",
       "version_major": 2,
       "version_minor": 0
      },
      "text/plain": [
       "  0%|          | 0/100 [00:00<?, ?it/s]"
      ]
     },
     "metadata": {},
     "output_type": "display_data"
    },
    {
     "name": "stdout",
     "output_type": "stream",
     "text": [
      "Epoch:10/100 AVG Training Loss:0.492 AVG Validation Loss:0.519 AVG Training Acc 80.11 % AVG Validation Acc 77.69 %\n",
      "Epoch:20/100 AVG Training Loss:0.483 AVG Validation Loss:0.514 AVG Training Acc 80.10 % AVG Validation Acc 77.82 %\n",
      "Epoch:30/100 AVG Training Loss:0.473 AVG Validation Loss:0.504 AVG Training Acc 80.29 % AVG Validation Acc 77.69 %\n",
      "Epoch:40/100 AVG Training Loss:0.466 AVG Validation Loss:0.520 AVG Training Acc 80.32 % AVG Validation Acc 77.69 %\n",
      "Epoch    41: reducing learning rate of group 0 to 1.0000e-03.\n",
      "Epoch:50/100 AVG Training Loss:0.441 AVG Validation Loss:0.527 AVG Training Acc 80.93 % AVG Validation Acc 77.28 %\n",
      "Epoch:60/100 AVG Training Loss:0.429 AVG Validation Loss:0.539 AVG Training Acc 81.13 % AVG Validation Acc 76.48 %\n",
      "Epoch:70/100 AVG Training Loss:0.418 AVG Validation Loss:0.550 AVG Training Acc 81.13 % AVG Validation Acc 76.75 %\n",
      "Epoch    72: reducing learning rate of group 0 to 1.0000e-04.\n",
      "Epoch:80/100 AVG Training Loss:0.404 AVG Validation Loss:0.567 AVG Training Acc 81.83 % AVG Validation Acc 76.88 %\n",
      "Epoch:90/100 AVG Training Loss:0.405 AVG Validation Loss:0.571 AVG Training Acc 81.75 % AVG Validation Acc 76.75 %\n",
      "Epoch:100/100 AVG Training Loss:0.404 AVG Validation Loss:0.574 AVG Training Acc 81.56 % AVG Validation Acc 76.21 %\n",
      "Split 82\n"
     ]
    },
    {
     "data": {
      "application/vnd.jupyter.widget-view+json": {
       "model_id": "c5e2e4171a194b389301fc83ed1216b8",
       "version_major": 2,
       "version_minor": 0
      },
      "text/plain": [
       "  0%|          | 0/100 [00:00<?, ?it/s]"
      ]
     },
     "metadata": {},
     "output_type": "display_data"
    },
    {
     "name": "stdout",
     "output_type": "stream",
     "text": [
      "Epoch:10/100 AVG Training Loss:0.491 AVG Validation Loss:0.517 AVG Training Acc 80.13 % AVG Validation Acc 77.55 %\n",
      "Epoch:20/100 AVG Training Loss:0.481 AVG Validation Loss:0.524 AVG Training Acc 80.07 % AVG Validation Acc 77.55 %\n",
      "Epoch    21: reducing learning rate of group 0 to 1.0000e-03.\n",
      "Epoch:30/100 AVG Training Loss:0.470 AVG Validation Loss:0.522 AVG Training Acc 80.35 % AVG Validation Acc 77.55 %\n",
      "Epoch:40/100 AVG Training Loss:0.462 AVG Validation Loss:0.529 AVG Training Acc 80.42 % AVG Validation Acc 77.15 %\n",
      "Epoch:50/100 AVG Training Loss:0.456 AVG Validation Loss:0.538 AVG Training Acc 80.59 % AVG Validation Acc 77.15 %\n",
      "Epoch    52: reducing learning rate of group 0 to 1.0000e-04.\n",
      "Epoch:60/100 AVG Training Loss:0.447 AVG Validation Loss:0.542 AVG Training Acc 80.75 % AVG Validation Acc 77.15 %\n",
      "Epoch:70/100 AVG Training Loss:0.447 AVG Validation Loss:0.542 AVG Training Acc 80.81 % AVG Validation Acc 77.15 %\n",
      "Epoch:80/100 AVG Training Loss:0.442 AVG Validation Loss:0.543 AVG Training Acc 80.66 % AVG Validation Acc 77.02 %\n",
      "Epoch    83: reducing learning rate of group 0 to 1.0000e-05.\n",
      "Epoch:90/100 AVG Training Loss:0.446 AVG Validation Loss:0.545 AVG Training Acc 80.72 % AVG Validation Acc 77.15 %\n",
      "Epoch:100/100 AVG Training Loss:0.448 AVG Validation Loss:0.545 AVG Training Acc 80.59 % AVG Validation Acc 77.15 %\n",
      "Split 83\n"
     ]
    },
    {
     "data": {
      "application/vnd.jupyter.widget-view+json": {
       "model_id": "0a294927efde41aaaa3998a2081e20e3",
       "version_major": 2,
       "version_minor": 0
      },
      "text/plain": [
       "  0%|          | 0/100 [00:00<?, ?it/s]"
      ]
     },
     "metadata": {},
     "output_type": "display_data"
    },
    {
     "name": "stdout",
     "output_type": "stream",
     "text": [
      "Epoch:10/100 AVG Training Loss:0.496 AVG Validation Loss:0.480 AVG Training Acc 79.65 % AVG Validation Acc 80.91 %\n",
      "Epoch:20/100 AVG Training Loss:0.489 AVG Validation Loss:0.469 AVG Training Acc 79.71 % AVG Validation Acc 80.91 %\n",
      "Epoch:30/100 AVG Training Loss:0.481 AVG Validation Loss:0.467 AVG Training Acc 79.80 % AVG Validation Acc 80.91 %\n",
      "Epoch    35: reducing learning rate of group 0 to 1.0000e-03.\n",
      "Epoch:40/100 AVG Training Loss:0.459 AVG Validation Loss:0.477 AVG Training Acc 80.16 % AVG Validation Acc 80.65 %\n",
      "Epoch:50/100 AVG Training Loss:0.453 AVG Validation Loss:0.481 AVG Training Acc 80.29 % AVG Validation Acc 79.97 %\n",
      "Epoch:60/100 AVG Training Loss:0.440 AVG Validation Loss:0.488 AVG Training Acc 80.83 % AVG Validation Acc 79.97 %\n",
      "Epoch    66: reducing learning rate of group 0 to 1.0000e-04.\n",
      "Epoch:70/100 AVG Training Loss:0.435 AVG Validation Loss:0.494 AVG Training Acc 81.05 % AVG Validation Acc 78.90 %\n",
      "Epoch:80/100 AVG Training Loss:0.430 AVG Validation Loss:0.502 AVG Training Acc 81.11 % AVG Validation Acc 79.17 %\n",
      "Epoch:90/100 AVG Training Loss:0.431 AVG Validation Loss:0.506 AVG Training Acc 81.13 % AVG Validation Acc 78.63 %\n",
      "Epoch    97: reducing learning rate of group 0 to 1.0000e-05.\n",
      "Epoch:100/100 AVG Training Loss:0.430 AVG Validation Loss:0.505 AVG Training Acc 81.28 % AVG Validation Acc 78.90 %\n",
      "Split 84\n"
     ]
    },
    {
     "data": {
      "application/vnd.jupyter.widget-view+json": {
       "model_id": "31f9f30e86e04fb3bd01289812a86c6f",
       "version_major": 2,
       "version_minor": 0
      },
      "text/plain": [
       "  0%|          | 0/100 [00:00<?, ?it/s]"
      ]
     },
     "metadata": {},
     "output_type": "display_data"
    },
    {
     "name": "stdout",
     "output_type": "stream",
     "text": [
      "Epoch:10/100 AVG Training Loss:0.494 AVG Validation Loss:0.463 AVG Training Acc 79.56 % AVG Validation Acc 82.39 %\n",
      "Epoch:20/100 AVG Training Loss:0.488 AVG Validation Loss:0.460 AVG Training Acc 79.53 % AVG Validation Acc 82.39 %\n",
      "Epoch    27: reducing learning rate of group 0 to 1.0000e-03.\n",
      "Epoch:30/100 AVG Training Loss:0.473 AVG Validation Loss:0.472 AVG Training Acc 79.75 % AVG Validation Acc 82.39 %\n",
      "Epoch:40/100 AVG Training Loss:0.463 AVG Validation Loss:0.481 AVG Training Acc 79.81 % AVG Validation Acc 82.26 %\n",
      "Epoch:50/100 AVG Training Loss:0.454 AVG Validation Loss:0.487 AVG Training Acc 79.87 % AVG Validation Acc 82.12 %\n",
      "Epoch    58: reducing learning rate of group 0 to 1.0000e-04.\n",
      "Epoch:60/100 AVG Training Loss:0.440 AVG Validation Loss:0.495 AVG Training Acc 80.13 % AVG Validation Acc 81.59 %\n",
      "Epoch:70/100 AVG Training Loss:0.439 AVG Validation Loss:0.500 AVG Training Acc 80.07 % AVG Validation Acc 81.59 %\n",
      "Epoch:80/100 AVG Training Loss:0.437 AVG Validation Loss:0.500 AVG Training Acc 80.13 % AVG Validation Acc 81.59 %\n",
      "Epoch    89: reducing learning rate of group 0 to 1.0000e-05.\n",
      "Epoch:90/100 AVG Training Loss:0.434 AVG Validation Loss:0.503 AVG Training Acc 80.19 % AVG Validation Acc 81.18 %\n",
      "Epoch:100/100 AVG Training Loss:0.436 AVG Validation Loss:0.504 AVG Training Acc 80.11 % AVG Validation Acc 81.18 %\n",
      "Split 85\n"
     ]
    },
    {
     "data": {
      "application/vnd.jupyter.widget-view+json": {
       "model_id": "e2a3314614244a15bbe41991a5ddeec6",
       "version_major": 2,
       "version_minor": 0
      },
      "text/plain": [
       "  0%|          | 0/100 [00:00<?, ?it/s]"
      ]
     },
     "metadata": {},
     "output_type": "display_data"
    },
    {
     "name": "stdout",
     "output_type": "stream",
     "text": [
      "Epoch:10/100 AVG Training Loss:0.490 AVG Validation Loss:0.499 AVG Training Acc 79.93 % AVG Validation Acc 79.30 %\n",
      "Epoch:20/100 AVG Training Loss:0.483 AVG Validation Loss:0.501 AVG Training Acc 80.02 % AVG Validation Acc 78.90 %\n",
      "Epoch:30/100 AVG Training Loss:0.477 AVG Validation Loss:0.499 AVG Training Acc 79.99 % AVG Validation Acc 79.17 %\n",
      "Epoch    37: reducing learning rate of group 0 to 1.0000e-03.\n",
      "Epoch:40/100 AVG Training Loss:0.451 AVG Validation Loss:0.502 AVG Training Acc 80.41 % AVG Validation Acc 78.63 %\n",
      "Epoch:50/100 AVG Training Loss:0.428 AVG Validation Loss:0.518 AVG Training Acc 80.92 % AVG Validation Acc 78.23 %\n",
      "Epoch:60/100 AVG Training Loss:0.420 AVG Validation Loss:0.531 AVG Training Acc 81.19 % AVG Validation Acc 77.82 %\n",
      "Epoch    68: reducing learning rate of group 0 to 1.0000e-04.\n",
      "Epoch:70/100 AVG Training Loss:0.400 AVG Validation Loss:0.547 AVG Training Acc 81.68 % AVG Validation Acc 76.88 %\n",
      "Epoch:80/100 AVG Training Loss:0.400 AVG Validation Loss:0.554 AVG Training Acc 81.77 % AVG Validation Acc 76.61 %\n",
      "Epoch:90/100 AVG Training Loss:0.397 AVG Validation Loss:0.558 AVG Training Acc 81.81 % AVG Validation Acc 77.02 %\n",
      "Epoch    99: reducing learning rate of group 0 to 1.0000e-05.\n",
      "Epoch:100/100 AVG Training Loss:0.399 AVG Validation Loss:0.560 AVG Training Acc 82.04 % AVG Validation Acc 76.34 %\n",
      "Split 86\n"
     ]
    },
    {
     "data": {
      "application/vnd.jupyter.widget-view+json": {
       "model_id": "873eb7fe795148c682306371c363aa44",
       "version_major": 2,
       "version_minor": 0
      },
      "text/plain": [
       "  0%|          | 0/100 [00:00<?, ?it/s]"
      ]
     },
     "metadata": {},
     "output_type": "display_data"
    },
    {
     "name": "stdout",
     "output_type": "stream",
     "text": [
      "Epoch:10/100 AVG Training Loss:0.490 AVG Validation Loss:0.500 AVG Training Acc 79.95 % AVG Validation Acc 79.44 %\n",
      "Epoch:20/100 AVG Training Loss:0.482 AVG Validation Loss:0.529 AVG Training Acc 79.87 % AVG Validation Acc 74.60 %\n",
      "Epoch    24: reducing learning rate of group 0 to 1.0000e-03.\n",
      "Epoch:30/100 AVG Training Loss:0.464 AVG Validation Loss:0.515 AVG Training Acc 80.05 % AVG Validation Acc 79.70 %\n",
      "Epoch:40/100 AVG Training Loss:0.454 AVG Validation Loss:0.521 AVG Training Acc 80.19 % AVG Validation Acc 79.57 %\n",
      "Epoch:50/100 AVG Training Loss:0.445 AVG Validation Loss:0.527 AVG Training Acc 80.50 % AVG Validation Acc 79.44 %\n",
      "Epoch    55: reducing learning rate of group 0 to 1.0000e-04.\n",
      "Epoch:60/100 AVG Training Loss:0.436 AVG Validation Loss:0.536 AVG Training Acc 80.63 % AVG Validation Acc 79.30 %\n",
      "Epoch:70/100 AVG Training Loss:0.434 AVG Validation Loss:0.538 AVG Training Acc 80.74 % AVG Validation Acc 79.44 %\n",
      "Epoch:80/100 AVG Training Loss:0.432 AVG Validation Loss:0.539 AVG Training Acc 81.16 % AVG Validation Acc 79.17 %\n",
      "Epoch    86: reducing learning rate of group 0 to 1.0000e-05.\n",
      "Epoch:90/100 AVG Training Loss:0.433 AVG Validation Loss:0.540 AVG Training Acc 80.68 % AVG Validation Acc 79.17 %\n",
      "Epoch:100/100 AVG Training Loss:0.428 AVG Validation Loss:0.542 AVG Training Acc 81.01 % AVG Validation Acc 79.44 %\n",
      "Split 87\n"
     ]
    },
    {
     "data": {
      "application/vnd.jupyter.widget-view+json": {
       "model_id": "3cd302cd79694ff2933d69d0f722eb42",
       "version_major": 2,
       "version_minor": 0
      },
      "text/plain": [
       "  0%|          | 0/100 [00:00<?, ?it/s]"
      ]
     },
     "metadata": {},
     "output_type": "display_data"
    },
    {
     "name": "stdout",
     "output_type": "stream",
     "text": [
      "Epoch:10/100 AVG Training Loss:0.493 AVG Validation Loss:0.474 AVG Training Acc 79.62 % AVG Validation Acc 81.70 %\n",
      "Epoch:20/100 AVG Training Loss:0.486 AVG Validation Loss:0.469 AVG Training Acc 79.55 % AVG Validation Acc 81.70 %\n",
      "Epoch    20: reducing learning rate of group 0 to 1.0000e-03.\n",
      "Epoch:30/100 AVG Training Loss:0.476 AVG Validation Loss:0.476 AVG Training Acc 79.78 % AVG Validation Acc 81.70 %\n",
      "Epoch:40/100 AVG Training Loss:0.470 AVG Validation Loss:0.480 AVG Training Acc 79.74 % AVG Validation Acc 81.70 %\n",
      "Epoch:50/100 AVG Training Loss:0.462 AVG Validation Loss:0.489 AVG Training Acc 79.95 % AVG Validation Acc 81.29 %\n",
      "Epoch    51: reducing learning rate of group 0 to 1.0000e-04.\n",
      "Epoch:60/100 AVG Training Loss:0.460 AVG Validation Loss:0.491 AVG Training Acc 79.84 % AVG Validation Acc 81.29 %\n",
      "Epoch:70/100 AVG Training Loss:0.456 AVG Validation Loss:0.492 AVG Training Acc 80.02 % AVG Validation Acc 81.29 %\n",
      "Epoch:80/100 AVG Training Loss:0.456 AVG Validation Loss:0.495 AVG Training Acc 80.22 % AVG Validation Acc 81.16 %\n",
      "Epoch    82: reducing learning rate of group 0 to 1.0000e-05.\n",
      "Epoch:90/100 AVG Training Loss:0.455 AVG Validation Loss:0.493 AVG Training Acc 80.19 % AVG Validation Acc 81.16 %\n",
      "Epoch:100/100 AVG Training Loss:0.455 AVG Validation Loss:0.494 AVG Training Acc 80.22 % AVG Validation Acc 81.29 %\n",
      "Split 88\n"
     ]
    },
    {
     "data": {
      "application/vnd.jupyter.widget-view+json": {
       "model_id": "0d0cbe98d86f4bcf810f09d62c64f5fb",
       "version_major": 2,
       "version_minor": 0
      },
      "text/plain": [
       "  0%|          | 0/100 [00:00<?, ?it/s]"
      ]
     },
     "metadata": {},
     "output_type": "display_data"
    },
    {
     "name": "stdout",
     "output_type": "stream",
     "text": [
      "Epoch:10/100 AVG Training Loss:0.492 AVG Validation Loss:0.476 AVG Training Acc 79.71 % AVG Validation Acc 81.16 %\n",
      "Epoch:20/100 AVG Training Loss:0.487 AVG Validation Loss:0.473 AVG Training Acc 79.61 % AVG Validation Acc 81.16 %\n",
      "Epoch:30/100 AVG Training Loss:0.483 AVG Validation Loss:0.476 AVG Training Acc 79.78 % AVG Validation Acc 81.16 %\n",
      "Epoch:40/100 AVG Training Loss:0.474 AVG Validation Loss:0.479 AVG Training Acc 79.99 % AVG Validation Acc 81.16 %\n",
      "Epoch    40: reducing learning rate of group 0 to 1.0000e-03.\n",
      "Epoch:50/100 AVG Training Loss:0.451 AVG Validation Loss:0.491 AVG Training Acc 80.38 % AVG Validation Acc 81.02 %\n",
      "Epoch:60/100 AVG Training Loss:0.446 AVG Validation Loss:0.497 AVG Training Acc 80.71 % AVG Validation Acc 80.89 %\n",
      "Epoch:70/100 AVG Training Loss:0.434 AVG Validation Loss:0.512 AVG Training Acc 80.82 % AVG Validation Acc 80.62 %\n",
      "Epoch    71: reducing learning rate of group 0 to 1.0000e-04.\n",
      "Epoch:80/100 AVG Training Loss:0.430 AVG Validation Loss:0.512 AVG Training Acc 80.94 % AVG Validation Acc 80.48 %\n",
      "Epoch:90/100 AVG Training Loss:0.427 AVG Validation Loss:0.513 AVG Training Acc 81.17 % AVG Validation Acc 80.48 %\n",
      "Epoch:100/100 AVG Training Loss:0.429 AVG Validation Loss:0.515 AVG Training Acc 81.05 % AVG Validation Acc 80.75 %\n",
      "Split 89\n"
     ]
    },
    {
     "data": {
      "application/vnd.jupyter.widget-view+json": {
       "model_id": "f02b7c1b94174f0c88fadf86785604e0",
       "version_major": 2,
       "version_minor": 0
      },
      "text/plain": [
       "  0%|          | 0/100 [00:00<?, ?it/s]"
      ]
     },
     "metadata": {},
     "output_type": "display_data"
    },
    {
     "name": "stdout",
     "output_type": "stream",
     "text": [
      "Epoch:10/100 AVG Training Loss:0.494 AVG Validation Loss:0.484 AVG Training Acc 79.80 % AVG Validation Acc 80.35 %\n",
      "Epoch:20/100 AVG Training Loss:0.483 AVG Validation Loss:0.487 AVG Training Acc 79.84 % AVG Validation Acc 80.48 %\n",
      "Epoch:30/100 AVG Training Loss:0.478 AVG Validation Loss:0.484 AVG Training Acc 79.89 % AVG Validation Acc 80.08 %\n",
      "Epoch:40/100 AVG Training Loss:0.472 AVG Validation Loss:0.484 AVG Training Acc 79.98 % AVG Validation Acc 80.48 %\n",
      "Epoch    45: reducing learning rate of group 0 to 1.0000e-03.\n",
      "Epoch:50/100 AVG Training Loss:0.451 AVG Validation Loss:0.477 AVG Training Acc 80.32 % AVG Validation Acc 80.22 %\n",
      "Epoch:60/100 AVG Training Loss:0.435 AVG Validation Loss:0.484 AVG Training Acc 80.88 % AVG Validation Acc 79.68 %\n",
      "Epoch:70/100 AVG Training Loss:0.419 AVG Validation Loss:0.506 AVG Training Acc 81.26 % AVG Validation Acc 80.22 %\n",
      "Epoch    76: reducing learning rate of group 0 to 1.0000e-04.\n",
      "Epoch:80/100 AVG Training Loss:0.410 AVG Validation Loss:0.519 AVG Training Acc 81.31 % AVG Validation Acc 79.54 %\n",
      "Epoch:90/100 AVG Training Loss:0.407 AVG Validation Loss:0.512 AVG Training Acc 81.59 % AVG Validation Acc 79.41 %\n",
      "Epoch:100/100 AVG Training Loss:0.403 AVG Validation Loss:0.522 AVG Training Acc 81.70 % AVG Validation Acc 79.54 %\n",
      "Split 90\n"
     ]
    },
    {
     "data": {
      "application/vnd.jupyter.widget-view+json": {
       "model_id": "94ab28c761654501b554efe4b52bea46",
       "version_major": 2,
       "version_minor": 0
      },
      "text/plain": [
       "  0%|          | 0/100 [00:00<?, ?it/s]"
      ]
     },
     "metadata": {},
     "output_type": "display_data"
    },
    {
     "name": "stdout",
     "output_type": "stream",
     "text": [
      "Epoch:10/100 AVG Training Loss:0.490 AVG Validation Loss:0.514 AVG Training Acc 79.98 % AVG Validation Acc 78.20 %\n",
      "Epoch:20/100 AVG Training Loss:0.484 AVG Validation Loss:0.506 AVG Training Acc 79.93 % AVG Validation Acc 78.20 %\n",
      "Epoch:30/100 AVG Training Loss:0.474 AVG Validation Loss:0.505 AVG Training Acc 80.13 % AVG Validation Acc 78.20 %\n",
      "Epoch    35: reducing learning rate of group 0 to 1.0000e-03.\n",
      "Epoch:40/100 AVG Training Loss:0.457 AVG Validation Loss:0.512 AVG Training Acc 80.53 % AVG Validation Acc 77.93 %\n",
      "Epoch:50/100 AVG Training Loss:0.446 AVG Validation Loss:0.524 AVG Training Acc 80.80 % AVG Validation Acc 77.66 %\n",
      "Epoch:60/100 AVG Training Loss:0.434 AVG Validation Loss:0.541 AVG Training Acc 81.16 % AVG Validation Acc 77.66 %\n",
      "Epoch    66: reducing learning rate of group 0 to 1.0000e-04.\n",
      "Epoch:70/100 AVG Training Loss:0.421 AVG Validation Loss:0.553 AVG Training Acc 81.74 % AVG Validation Acc 77.52 %\n",
      "Epoch:80/100 AVG Training Loss:0.419 AVG Validation Loss:0.554 AVG Training Acc 81.92 % AVG Validation Acc 76.99 %\n",
      "Epoch:90/100 AVG Training Loss:0.418 AVG Validation Loss:0.562 AVG Training Acc 81.79 % AVG Validation Acc 76.99 %\n",
      "Epoch    97: reducing learning rate of group 0 to 1.0000e-05.\n",
      "Epoch:100/100 AVG Training Loss:0.418 AVG Validation Loss:0.562 AVG Training Acc 81.86 % AVG Validation Acc 76.99 %\n",
      "Split 91\n"
     ]
    },
    {
     "data": {
      "application/vnd.jupyter.widget-view+json": {
       "model_id": "9d9fdf183ea74c2a8d27b8254aa6da7a",
       "version_major": 2,
       "version_minor": 0
      },
      "text/plain": [
       "  0%|          | 0/100 [00:00<?, ?it/s]"
      ]
     },
     "metadata": {},
     "output_type": "display_data"
    },
    {
     "name": "stdout",
     "output_type": "stream",
     "text": [
      "Epoch:10/100 AVG Training Loss:0.494 AVG Validation Loss:0.475 AVG Training Acc 79.72 % AVG Validation Acc 81.05 %\n",
      "Epoch:20/100 AVG Training Loss:0.485 AVG Validation Loss:0.481 AVG Training Acc 79.86 % AVG Validation Acc 80.91 %\n",
      "Epoch:30/100 AVG Training Loss:0.487 AVG Validation Loss:0.478 AVG Training Acc 79.69 % AVG Validation Acc 80.91 %\n",
      "Epoch    35: reducing learning rate of group 0 to 1.0000e-03.\n",
      "Epoch:40/100 AVG Training Loss:0.461 AVG Validation Loss:0.484 AVG Training Acc 80.23 % AVG Validation Acc 80.65 %\n",
      "Epoch:50/100 AVG Training Loss:0.451 AVG Validation Loss:0.491 AVG Training Acc 80.47 % AVG Validation Acc 80.38 %\n",
      "Epoch:60/100 AVG Training Loss:0.441 AVG Validation Loss:0.506 AVG Training Acc 80.65 % AVG Validation Acc 79.70 %\n",
      "Epoch    66: reducing learning rate of group 0 to 1.0000e-04.\n",
      "Epoch:70/100 AVG Training Loss:0.429 AVG Validation Loss:0.510 AVG Training Acc 80.95 % AVG Validation Acc 79.44 %\n",
      "Epoch:80/100 AVG Training Loss:0.426 AVG Validation Loss:0.517 AVG Training Acc 81.29 % AVG Validation Acc 79.44 %\n",
      "Epoch:90/100 AVG Training Loss:0.424 AVG Validation Loss:0.518 AVG Training Acc 81.19 % AVG Validation Acc 79.44 %\n",
      "Epoch    97: reducing learning rate of group 0 to 1.0000e-05.\n",
      "Epoch:100/100 AVG Training Loss:0.423 AVG Validation Loss:0.523 AVG Training Acc 81.47 % AVG Validation Acc 79.17 %\n",
      "Split 92\n"
     ]
    },
    {
     "data": {
      "application/vnd.jupyter.widget-view+json": {
       "model_id": "6fbe9ec4b0d346858709d17d3bbe4617",
       "version_major": 2,
       "version_minor": 0
      },
      "text/plain": [
       "  0%|          | 0/100 [00:00<?, ?it/s]"
      ]
     },
     "metadata": {},
     "output_type": "display_data"
    },
    {
     "name": "stdout",
     "output_type": "stream",
     "text": [
      "Epoch:10/100 AVG Training Loss:0.486 AVG Validation Loss:0.523 AVG Training Acc 80.20 % AVG Validation Acc 76.75 %\n",
      "Epoch:20/100 AVG Training Loss:0.480 AVG Validation Loss:0.520 AVG Training Acc 80.19 % AVG Validation Acc 76.75 %\n",
      "Epoch    25: reducing learning rate of group 0 to 1.0000e-03.\n",
      "Epoch:30/100 AVG Training Loss:0.462 AVG Validation Loss:0.528 AVG Training Acc 80.32 % AVG Validation Acc 76.88 %\n",
      "Epoch:40/100 AVG Training Loss:0.454 AVG Validation Loss:0.542 AVG Training Acc 80.42 % AVG Validation Acc 76.88 %\n",
      "Epoch:50/100 AVG Training Loss:0.447 AVG Validation Loss:0.551 AVG Training Acc 80.42 % AVG Validation Acc 76.88 %\n",
      "Epoch    56: reducing learning rate of group 0 to 1.0000e-04.\n",
      "Epoch:60/100 AVG Training Loss:0.437 AVG Validation Loss:0.561 AVG Training Acc 80.78 % AVG Validation Acc 76.61 %\n",
      "Epoch:70/100 AVG Training Loss:0.436 AVG Validation Loss:0.566 AVG Training Acc 80.89 % AVG Validation Acc 76.48 %\n",
      "Epoch:80/100 AVG Training Loss:0.434 AVG Validation Loss:0.570 AVG Training Acc 80.77 % AVG Validation Acc 76.34 %\n",
      "Epoch    87: reducing learning rate of group 0 to 1.0000e-05.\n",
      "Epoch:90/100 AVG Training Loss:0.432 AVG Validation Loss:0.572 AVG Training Acc 80.72 % AVG Validation Acc 76.21 %\n",
      "Epoch:100/100 AVG Training Loss:0.432 AVG Validation Loss:0.572 AVG Training Acc 80.83 % AVG Validation Acc 76.21 %\n",
      "Split 93\n"
     ]
    },
    {
     "data": {
      "application/vnd.jupyter.widget-view+json": {
       "model_id": "6252c1d8b99249f9801108fa3cdf6719",
       "version_major": 2,
       "version_minor": 0
      },
      "text/plain": [
       "  0%|          | 0/100 [00:00<?, ?it/s]"
      ]
     },
     "metadata": {},
     "output_type": "display_data"
    },
    {
     "name": "stdout",
     "output_type": "stream",
     "text": [
      "Epoch:10/100 AVG Training Loss:0.493 AVG Validation Loss:0.467 AVG Training Acc 79.72 % AVG Validation Acc 80.78 %\n",
      "Epoch:20/100 AVG Training Loss:0.490 AVG Validation Loss:0.462 AVG Training Acc 79.80 % AVG Validation Acc 80.78 %\n",
      "Epoch:30/100 AVG Training Loss:0.481 AVG Validation Loss:0.461 AVG Training Acc 79.86 % AVG Validation Acc 80.78 %\n",
      "Epoch    39: reducing learning rate of group 0 to 1.0000e-03.\n",
      "Epoch:40/100 AVG Training Loss:0.468 AVG Validation Loss:0.467 AVG Training Acc 80.23 % AVG Validation Acc 80.51 %\n",
      "Epoch:50/100 AVG Training Loss:0.453 AVG Validation Loss:0.477 AVG Training Acc 80.39 % AVG Validation Acc 80.11 %\n",
      "Epoch:60/100 AVG Training Loss:0.442 AVG Validation Loss:0.480 AVG Training Acc 80.62 % AVG Validation Acc 79.97 %\n",
      "Epoch:70/100 AVG Training Loss:0.436 AVG Validation Loss:0.491 AVG Training Acc 80.98 % AVG Validation Acc 80.11 %\n",
      "Epoch    70: reducing learning rate of group 0 to 1.0000e-04.\n",
      "Epoch:80/100 AVG Training Loss:0.426 AVG Validation Loss:0.488 AVG Training Acc 81.25 % AVG Validation Acc 79.84 %\n",
      "Epoch:90/100 AVG Training Loss:0.427 AVG Validation Loss:0.490 AVG Training Acc 81.07 % AVG Validation Acc 79.57 %\n",
      "Epoch:100/100 AVG Training Loss:0.427 AVG Validation Loss:0.485 AVG Training Acc 80.84 % AVG Validation Acc 79.70 %\n",
      "Split 94\n"
     ]
    },
    {
     "data": {
      "application/vnd.jupyter.widget-view+json": {
       "model_id": "f6e97832ff6e40f99b80cce80b778f66",
       "version_major": 2,
       "version_minor": 0
      },
      "text/plain": [
       "  0%|          | 0/100 [00:00<?, ?it/s]"
      ]
     },
     "metadata": {},
     "output_type": "display_data"
    },
    {
     "name": "stdout",
     "output_type": "stream",
     "text": [
      "Epoch:10/100 AVG Training Loss:0.488 AVG Validation Loss:0.504 AVG Training Acc 79.93 % AVG Validation Acc 79.03 %\n",
      "Epoch:20/100 AVG Training Loss:0.486 AVG Validation Loss:0.504 AVG Training Acc 79.99 % AVG Validation Acc 79.03 %\n",
      "Epoch:30/100 AVG Training Loss:0.481 AVG Validation Loss:0.502 AVG Training Acc 79.93 % AVG Validation Acc 79.17 %\n",
      "Epoch:40/100 AVG Training Loss:0.473 AVG Validation Loss:0.496 AVG Training Acc 79.98 % AVG Validation Acc 79.03 %\n",
      "Epoch:50/100 AVG Training Loss:0.473 AVG Validation Loss:0.492 AVG Training Acc 79.84 % AVG Validation Acc 78.90 %\n",
      "Epoch:60/100 AVG Training Loss:0.466 AVG Validation Loss:0.500 AVG Training Acc 80.22 % AVG Validation Acc 79.17 %\n",
      "Epoch    61: reducing learning rate of group 0 to 1.0000e-03.\n",
      "Epoch:70/100 AVG Training Loss:0.443 AVG Validation Loss:0.511 AVG Training Acc 80.53 % AVG Validation Acc 78.49 %\n",
      "Epoch:80/100 AVG Training Loss:0.434 AVG Validation Loss:0.513 AVG Training Acc 80.71 % AVG Validation Acc 78.76 %\n",
      "Epoch:90/100 AVG Training Loss:0.423 AVG Validation Loss:0.514 AVG Training Acc 80.78 % AVG Validation Acc 78.90 %\n",
      "Epoch    92: reducing learning rate of group 0 to 1.0000e-04.\n",
      "Epoch:100/100 AVG Training Loss:0.418 AVG Validation Loss:0.521 AVG Training Acc 81.05 % AVG Validation Acc 78.63 %\n",
      "Split 95\n"
     ]
    },
    {
     "data": {
      "application/vnd.jupyter.widget-view+json": {
       "model_id": "bc100958c45545cb99185009ba56695a",
       "version_major": 2,
       "version_minor": 0
      },
      "text/plain": [
       "  0%|          | 0/100 [00:00<?, ?it/s]"
      ]
     },
     "metadata": {},
     "output_type": "display_data"
    },
    {
     "name": "stdout",
     "output_type": "stream",
     "text": [
      "Epoch:10/100 AVG Training Loss:0.493 AVG Validation Loss:0.475 AVG Training Acc 79.62 % AVG Validation Acc 80.91 %\n",
      "Epoch:20/100 AVG Training Loss:0.490 AVG Validation Loss:0.472 AVG Training Acc 79.72 % AVG Validation Acc 80.91 %\n",
      "Epoch:30/100 AVG Training Loss:0.483 AVG Validation Loss:0.465 AVG Training Acc 79.65 % AVG Validation Acc 81.05 %\n",
      "Epoch    38: reducing learning rate of group 0 to 1.0000e-03.\n",
      "Epoch:40/100 AVG Training Loss:0.474 AVG Validation Loss:0.472 AVG Training Acc 79.81 % AVG Validation Acc 81.05 %\n",
      "Epoch:50/100 AVG Training Loss:0.464 AVG Validation Loss:0.478 AVG Training Acc 80.08 % AVG Validation Acc 80.91 %\n",
      "Epoch:60/100 AVG Training Loss:0.454 AVG Validation Loss:0.485 AVG Training Acc 80.25 % AVG Validation Acc 81.05 %\n",
      "Epoch    69: reducing learning rate of group 0 to 1.0000e-04.\n",
      "Epoch:70/100 AVG Training Loss:0.445 AVG Validation Loss:0.493 AVG Training Acc 80.50 % AVG Validation Acc 80.38 %\n",
      "Epoch:80/100 AVG Training Loss:0.441 AVG Validation Loss:0.498 AVG Training Acc 80.62 % AVG Validation Acc 80.24 %\n",
      "Epoch:90/100 AVG Training Loss:0.439 AVG Validation Loss:0.499 AVG Training Acc 80.83 % AVG Validation Acc 80.51 %\n",
      "Epoch:100/100 AVG Training Loss:0.440 AVG Validation Loss:0.494 AVG Training Acc 80.74 % AVG Validation Acc 80.11 %\n",
      "Epoch   100: reducing learning rate of group 0 to 1.0000e-05.\n",
      "Split 96\n"
     ]
    },
    {
     "data": {
      "application/vnd.jupyter.widget-view+json": {
       "model_id": "581458c7bdff4828b1c3abe92ac8746b",
       "version_major": 2,
       "version_minor": 0
      },
      "text/plain": [
       "  0%|          | 0/100 [00:00<?, ?it/s]"
      ]
     },
     "metadata": {},
     "output_type": "display_data"
    },
    {
     "name": "stdout",
     "output_type": "stream",
     "text": [
      "Epoch:10/100 AVG Training Loss:0.491 AVG Validation Loss:0.483 AVG Training Acc 79.80 % AVG Validation Acc 80.51 %\n",
      "Epoch    19: reducing learning rate of group 0 to 1.0000e-03.\n",
      "Epoch:20/100 AVG Training Loss:0.475 AVG Validation Loss:0.485 AVG Training Acc 79.89 % AVG Validation Acc 80.51 %\n",
      "Epoch:30/100 AVG Training Loss:0.464 AVG Validation Loss:0.501 AVG Training Acc 80.16 % AVG Validation Acc 80.11 %\n",
      "Epoch:40/100 AVG Training Loss:0.451 AVG Validation Loss:0.504 AVG Training Acc 80.44 % AVG Validation Acc 79.97 %\n",
      "Epoch:50/100 AVG Training Loss:0.444 AVG Validation Loss:0.510 AVG Training Acc 80.50 % AVG Validation Acc 80.11 %\n",
      "Epoch    50: reducing learning rate of group 0 to 1.0000e-04.\n",
      "Epoch:60/100 AVG Training Loss:0.439 AVG Validation Loss:0.511 AVG Training Acc 80.57 % AVG Validation Acc 79.57 %\n",
      "Epoch:70/100 AVG Training Loss:0.436 AVG Validation Loss:0.511 AVG Training Acc 80.86 % AVG Validation Acc 79.17 %\n",
      "Epoch:80/100 AVG Training Loss:0.435 AVG Validation Loss:0.516 AVG Training Acc 80.83 % AVG Validation Acc 79.30 %\n",
      "Epoch    81: reducing learning rate of group 0 to 1.0000e-05.\n",
      "Epoch:90/100 AVG Training Loss:0.434 AVG Validation Loss:0.517 AVG Training Acc 80.78 % AVG Validation Acc 79.17 %\n",
      "Epoch:100/100 AVG Training Loss:0.433 AVG Validation Loss:0.515 AVG Training Acc 80.98 % AVG Validation Acc 79.17 %\n",
      "Split 97\n"
     ]
    },
    {
     "data": {
      "application/vnd.jupyter.widget-view+json": {
       "model_id": "7cd96adc8285494aa2f0859ffb11facf",
       "version_major": 2,
       "version_minor": 0
      },
      "text/plain": [
       "  0%|          | 0/100 [00:00<?, ?it/s]"
      ]
     },
     "metadata": {},
     "output_type": "display_data"
    },
    {
     "name": "stdout",
     "output_type": "stream",
     "text": [
      "Epoch:10/100 AVG Training Loss:0.490 AVG Validation Loss:0.507 AVG Training Acc 79.90 % AVG Validation Acc 78.73 %\n",
      "Epoch:20/100 AVG Training Loss:0.485 AVG Validation Loss:0.501 AVG Training Acc 80.02 % AVG Validation Acc 78.73 %\n",
      "Epoch:30/100 AVG Training Loss:0.481 AVG Validation Loss:0.496 AVG Training Acc 79.99 % AVG Validation Acc 78.87 %\n",
      "Epoch:40/100 AVG Training Loss:0.474 AVG Validation Loss:0.496 AVG Training Acc 80.02 % AVG Validation Acc 79.14 %\n",
      "Epoch:50/100 AVG Training Loss:0.476 AVG Validation Loss:0.497 AVG Training Acc 80.05 % AVG Validation Acc 78.33 %\n",
      "Epoch    53: reducing learning rate of group 0 to 1.0000e-03.\n",
      "Epoch:60/100 AVG Training Loss:0.448 AVG Validation Loss:0.492 AVG Training Acc 80.64 % AVG Validation Acc 78.60 %\n",
      "Epoch:70/100 AVG Training Loss:0.437 AVG Validation Loss:0.501 AVG Training Acc 80.92 % AVG Validation Acc 78.47 %\n",
      "Epoch:80/100 AVG Training Loss:0.422 AVG Validation Loss:0.520 AVG Training Acc 81.32 % AVG Validation Acc 77.93 %\n",
      "Epoch    84: reducing learning rate of group 0 to 1.0000e-04.\n",
      "Epoch:90/100 AVG Training Loss:0.419 AVG Validation Loss:0.517 AVG Training Acc 81.76 % AVG Validation Acc 78.06 %\n",
      "Epoch:100/100 AVG Training Loss:0.417 AVG Validation Loss:0.518 AVG Training Acc 81.76 % AVG Validation Acc 78.06 %\n",
      "Split 98\n"
     ]
    },
    {
     "data": {
      "application/vnd.jupyter.widget-view+json": {
       "model_id": "1b3371320de94579994f3abe79060de5",
       "version_major": 2,
       "version_minor": 0
      },
      "text/plain": [
       "  0%|          | 0/100 [00:00<?, ?it/s]"
      ]
     },
     "metadata": {},
     "output_type": "display_data"
    },
    {
     "name": "stdout",
     "output_type": "stream",
     "text": [
      "Epoch:10/100 AVG Training Loss:0.494 AVG Validation Loss:0.481 AVG Training Acc 79.75 % AVG Validation Acc 80.75 %\n",
      "Epoch:20/100 AVG Training Loss:0.484 AVG Validation Loss:0.475 AVG Training Acc 79.77 % AVG Validation Acc 80.89 %\n",
      "Epoch:30/100 AVG Training Loss:0.484 AVG Validation Loss:0.485 AVG Training Acc 79.80 % AVG Validation Acc 80.75 %\n",
      "Epoch    31: reducing learning rate of group 0 to 1.0000e-03.\n",
      "Epoch:40/100 AVG Training Loss:0.464 AVG Validation Loss:0.494 AVG Training Acc 79.92 % AVG Validation Acc 80.89 %\n",
      "Epoch:50/100 AVG Training Loss:0.450 AVG Validation Loss:0.503 AVG Training Acc 80.37 % AVG Validation Acc 80.75 %\n",
      "Epoch:60/100 AVG Training Loss:0.446 AVG Validation Loss:0.526 AVG Training Acc 80.37 % AVG Validation Acc 79.68 %\n",
      "Epoch    62: reducing learning rate of group 0 to 1.0000e-04.\n",
      "Epoch:70/100 AVG Training Loss:0.439 AVG Validation Loss:0.524 AVG Training Acc 80.37 % AVG Validation Acc 80.35 %\n",
      "Epoch:80/100 AVG Training Loss:0.436 AVG Validation Loss:0.530 AVG Training Acc 80.58 % AVG Validation Acc 80.35 %\n",
      "Epoch:90/100 AVG Training Loss:0.432 AVG Validation Loss:0.533 AVG Training Acc 81.01 % AVG Validation Acc 79.95 %\n",
      "Epoch    93: reducing learning rate of group 0 to 1.0000e-05.\n",
      "Epoch:100/100 AVG Training Loss:0.431 AVG Validation Loss:0.534 AVG Training Acc 80.92 % AVG Validation Acc 80.08 %\n",
      "Split 99\n"
     ]
    },
    {
     "data": {
      "application/vnd.jupyter.widget-view+json": {
       "model_id": "a1a52e9983fe45368f4a879c2271a909",
       "version_major": 2,
       "version_minor": 0
      },
      "text/plain": [
       "  0%|          | 0/100 [00:00<?, ?it/s]"
      ]
     },
     "metadata": {},
     "output_type": "display_data"
    },
    {
     "name": "stdout",
     "output_type": "stream",
     "text": [
      "Epoch:10/100 AVG Training Loss:0.494 AVG Validation Loss:0.451 AVG Training Acc 79.58 % AVG Validation Acc 82.50 %\n",
      "Epoch:20/100 AVG Training Loss:0.487 AVG Validation Loss:0.449 AVG Training Acc 79.62 % AVG Validation Acc 82.37 %\n",
      "Epoch:30/100 AVG Training Loss:0.480 AVG Validation Loss:0.456 AVG Training Acc 79.68 % AVG Validation Acc 82.10 %\n",
      "Epoch    35: reducing learning rate of group 0 to 1.0000e-03.\n",
      "Epoch:40/100 AVG Training Loss:0.463 AVG Validation Loss:0.457 AVG Training Acc 80.05 % AVG Validation Acc 81.97 %\n",
      "Epoch:50/100 AVG Training Loss:0.450 AVG Validation Loss:0.462 AVG Training Acc 80.44 % AVG Validation Acc 81.56 %\n",
      "Epoch:60/100 AVG Training Loss:0.441 AVG Validation Loss:0.465 AVG Training Acc 80.61 % AVG Validation Acc 81.02 %\n",
      "Epoch    66: reducing learning rate of group 0 to 1.0000e-04.\n",
      "Epoch:70/100 AVG Training Loss:0.431 AVG Validation Loss:0.471 AVG Training Acc 81.20 % AVG Validation Acc 80.48 %\n",
      "Epoch:80/100 AVG Training Loss:0.425 AVG Validation Loss:0.472 AVG Training Acc 81.23 % AVG Validation Acc 80.62 %\n",
      "Epoch:90/100 AVG Training Loss:0.426 AVG Validation Loss:0.477 AVG Training Acc 81.41 % AVG Validation Acc 80.35 %\n",
      "Epoch    97: reducing learning rate of group 0 to 1.0000e-05.\n",
      "Epoch:100/100 AVG Training Loss:0.424 AVG Validation Loss:0.474 AVG Training Acc 81.34 % AVG Validation Acc 80.48 %\n",
      "Split 100\n"
     ]
    },
    {
     "data": {
      "application/vnd.jupyter.widget-view+json": {
       "model_id": "bcda0692e6834617b3cfabe77a07b108",
       "version_major": 2,
       "version_minor": 0
      },
      "text/plain": [
       "  0%|          | 0/100 [00:00<?, ?it/s]"
      ]
     },
     "metadata": {},
     "output_type": "display_data"
    },
    {
     "name": "stdout",
     "output_type": "stream",
     "text": [
      "Epoch:10/100 AVG Training Loss:0.487 AVG Validation Loss:0.517 AVG Training Acc 80.11 % AVG Validation Acc 77.66 %\n",
      "Epoch:20/100 AVG Training Loss:0.477 AVG Validation Loss:0.540 AVG Training Acc 80.11 % AVG Validation Acc 77.66 %\n",
      "Epoch:30/100 AVG Training Loss:0.472 AVG Validation Loss:0.517 AVG Training Acc 80.25 % AVG Validation Acc 77.66 %\n",
      "Epoch    39: reducing learning rate of group 0 to 1.0000e-03.\n",
      "Epoch:40/100 AVG Training Loss:0.462 AVG Validation Loss:0.520 AVG Training Acc 80.52 % AVG Validation Acc 77.66 %\n",
      "Epoch:50/100 AVG Training Loss:0.441 AVG Validation Loss:0.518 AVG Training Acc 81.14 % AVG Validation Acc 77.39 %\n",
      "Epoch:60/100 AVG Training Loss:0.429 AVG Validation Loss:0.530 AVG Training Acc 81.64 % AVG Validation Acc 77.12 %\n",
      "Epoch:70/100 AVG Training Loss:0.425 AVG Validation Loss:0.543 AVG Training Acc 81.71 % AVG Validation Acc 77.12 %\n",
      "Epoch    70: reducing learning rate of group 0 to 1.0000e-04.\n",
      "Epoch:80/100 AVG Training Loss:0.417 AVG Validation Loss:0.545 AVG Training Acc 81.88 % AVG Validation Acc 76.45 %\n",
      "Epoch:90/100 AVG Training Loss:0.418 AVG Validation Loss:0.549 AVG Training Acc 81.92 % AVG Validation Acc 76.45 %\n",
      "Epoch:100/100 AVG Training Loss:0.413 AVG Validation Loss:0.556 AVG Training Acc 81.77 % AVG Validation Acc 76.72 %\n",
      "Split 101\n"
     ]
    },
    {
     "data": {
      "application/vnd.jupyter.widget-view+json": {
       "model_id": "1ba7fd42c0704e118dd10966eb82d3b5",
       "version_major": 2,
       "version_minor": 0
      },
      "text/plain": [
       "  0%|          | 0/100 [00:00<?, ?it/s]"
      ]
     },
     "metadata": {},
     "output_type": "display_data"
    },
    {
     "name": "stdout",
     "output_type": "stream",
     "text": [
      "Epoch:10/100 AVG Training Loss:0.489 AVG Validation Loss:0.482 AVG Training Acc 79.77 % AVG Validation Acc 80.91 %\n",
      "Epoch:20/100 AVG Training Loss:0.485 AVG Validation Loss:0.482 AVG Training Acc 79.77 % AVG Validation Acc 81.18 %\n",
      "Epoch:30/100 AVG Training Loss:0.482 AVG Validation Loss:0.496 AVG Training Acc 79.80 % AVG Validation Acc 80.65 %\n",
      "Epoch    36: reducing learning rate of group 0 to 1.0000e-03.\n",
      "Epoch:40/100 AVG Training Loss:0.479 AVG Validation Loss:0.483 AVG Training Acc 79.87 % AVG Validation Acc 80.78 %\n",
      "Epoch:50/100 AVG Training Loss:0.473 AVG Validation Loss:0.487 AVG Training Acc 80.02 % AVG Validation Acc 80.38 %\n",
      "Epoch:60/100 AVG Training Loss:0.466 AVG Validation Loss:0.499 AVG Training Acc 80.35 % AVG Validation Acc 80.38 %\n",
      "Epoch    67: reducing learning rate of group 0 to 1.0000e-04.\n",
      "Epoch:70/100 AVG Training Loss:0.461 AVG Validation Loss:0.502 AVG Training Acc 80.32 % AVG Validation Acc 80.38 %\n",
      "Epoch:80/100 AVG Training Loss:0.457 AVG Validation Loss:0.504 AVG Training Acc 80.33 % AVG Validation Acc 80.38 %\n",
      "Epoch:90/100 AVG Training Loss:0.456 AVG Validation Loss:0.506 AVG Training Acc 80.50 % AVG Validation Acc 80.24 %\n",
      "Epoch    98: reducing learning rate of group 0 to 1.0000e-05.\n",
      "Epoch:100/100 AVG Training Loss:0.455 AVG Validation Loss:0.507 AVG Training Acc 80.39 % AVG Validation Acc 80.24 %\n",
      "Split 102\n"
     ]
    },
    {
     "data": {
      "application/vnd.jupyter.widget-view+json": {
       "model_id": "c6f834f5f06d4c7582dab141c35a21e3",
       "version_major": 2,
       "version_minor": 0
      },
      "text/plain": [
       "  0%|          | 0/100 [00:00<?, ?it/s]"
      ]
     },
     "metadata": {},
     "output_type": "display_data"
    },
    {
     "name": "stdout",
     "output_type": "stream",
     "text": [
      "Epoch:10/100 AVG Training Loss:0.491 AVG Validation Loss:0.470 AVG Training Acc 79.75 % AVG Validation Acc 81.05 %\n",
      "Epoch:20/100 AVG Training Loss:0.486 AVG Validation Loss:0.473 AVG Training Acc 79.75 % AVG Validation Acc 81.05 %\n",
      "Epoch    21: reducing learning rate of group 0 to 1.0000e-03.\n",
      "Epoch:30/100 AVG Training Loss:0.477 AVG Validation Loss:0.473 AVG Training Acc 79.71 % AVG Validation Acc 80.91 %\n",
      "Epoch:40/100 AVG Training Loss:0.471 AVG Validation Loss:0.476 AVG Training Acc 79.95 % AVG Validation Acc 81.05 %\n",
      "Epoch:50/100 AVG Training Loss:0.464 AVG Validation Loss:0.486 AVG Training Acc 80.07 % AVG Validation Acc 80.65 %\n",
      "Epoch    52: reducing learning rate of group 0 to 1.0000e-04.\n",
      "Epoch:60/100 AVG Training Loss:0.458 AVG Validation Loss:0.486 AVG Training Acc 80.07 % AVG Validation Acc 80.38 %\n",
      "Epoch:70/100 AVG Training Loss:0.455 AVG Validation Loss:0.489 AVG Training Acc 80.50 % AVG Validation Acc 80.24 %\n",
      "Epoch:80/100 AVG Training Loss:0.457 AVG Validation Loss:0.490 AVG Training Acc 80.51 % AVG Validation Acc 80.24 %\n",
      "Epoch    83: reducing learning rate of group 0 to 1.0000e-05.\n",
      "Epoch:90/100 AVG Training Loss:0.455 AVG Validation Loss:0.488 AVG Training Acc 80.44 % AVG Validation Acc 80.24 %\n",
      "Epoch:100/100 AVG Training Loss:0.454 AVG Validation Loss:0.488 AVG Training Acc 80.50 % AVG Validation Acc 80.24 %\n",
      "Split 103\n"
     ]
    },
    {
     "data": {
      "application/vnd.jupyter.widget-view+json": {
       "model_id": "0a32fab87af947df9b36ef9b35eae719",
       "version_major": 2,
       "version_minor": 0
      },
      "text/plain": [
       "  0%|          | 0/100 [00:00<?, ?it/s]"
      ]
     },
     "metadata": {},
     "output_type": "display_data"
    },
    {
     "name": "stdout",
     "output_type": "stream",
     "text": [
      "Epoch:10/100 AVG Training Loss:0.490 AVG Validation Loss:0.509 AVG Training Acc 79.80 % AVG Validation Acc 79.84 %\n",
      "Epoch:20/100 AVG Training Loss:0.482 AVG Validation Loss:0.494 AVG Training Acc 79.72 % AVG Validation Acc 79.84 %\n",
      "Epoch    26: reducing learning rate of group 0 to 1.0000e-03.\n",
      "Epoch:30/100 AVG Training Loss:0.469 AVG Validation Loss:0.491 AVG Training Acc 79.90 % AVG Validation Acc 79.84 %\n",
      "Epoch:40/100 AVG Training Loss:0.457 AVG Validation Loss:0.495 AVG Training Acc 79.99 % AVG Validation Acc 79.44 %\n",
      "Epoch:50/100 AVG Training Loss:0.449 AVG Validation Loss:0.508 AVG Training Acc 80.27 % AVG Validation Acc 79.70 %\n",
      "Epoch    57: reducing learning rate of group 0 to 1.0000e-04.\n",
      "Epoch:60/100 AVG Training Loss:0.431 AVG Validation Loss:0.518 AVG Training Acc 80.23 % AVG Validation Acc 79.30 %\n",
      "Epoch:70/100 AVG Training Loss:0.431 AVG Validation Loss:0.522 AVG Training Acc 80.42 % AVG Validation Acc 79.57 %\n",
      "Epoch:80/100 AVG Training Loss:0.427 AVG Validation Loss:0.528 AVG Training Acc 80.53 % AVG Validation Acc 79.44 %\n",
      "Epoch    88: reducing learning rate of group 0 to 1.0000e-05.\n",
      "Epoch:90/100 AVG Training Loss:0.426 AVG Validation Loss:0.528 AVG Training Acc 80.56 % AVG Validation Acc 79.30 %\n",
      "Epoch:100/100 AVG Training Loss:0.424 AVG Validation Loss:0.528 AVG Training Acc 80.68 % AVG Validation Acc 79.57 %\n",
      "Split 104\n"
     ]
    },
    {
     "data": {
      "application/vnd.jupyter.widget-view+json": {
       "model_id": "1d618369d8984e858d0f8d6ddadc930a",
       "version_major": 2,
       "version_minor": 0
      },
      "text/plain": [
       "  0%|          | 0/100 [00:00<?, ?it/s]"
      ]
     },
     "metadata": {},
     "output_type": "display_data"
    },
    {
     "name": "stdout",
     "output_type": "stream",
     "text": [
      "Epoch:10/100 AVG Training Loss:0.488 AVG Validation Loss:0.507 AVG Training Acc 79.98 % AVG Validation Acc 79.03 %\n",
      "Epoch:20/100 AVG Training Loss:0.482 AVG Validation Loss:0.502 AVG Training Acc 80.07 % AVG Validation Acc 79.03 %\n",
      "Epoch    27: reducing learning rate of group 0 to 1.0000e-03.\n",
      "Epoch:30/100 AVG Training Loss:0.465 AVG Validation Loss:0.504 AVG Training Acc 80.05 % AVG Validation Acc 79.03 %\n",
      "Epoch:40/100 AVG Training Loss:0.456 AVG Validation Loss:0.515 AVG Training Acc 80.30 % AVG Validation Acc 78.63 %\n",
      "Epoch:50/100 AVG Training Loss:0.448 AVG Validation Loss:0.526 AVG Training Acc 80.51 % AVG Validation Acc 78.23 %\n",
      "Epoch    58: reducing learning rate of group 0 to 1.0000e-04.\n",
      "Epoch:60/100 AVG Training Loss:0.437 AVG Validation Loss:0.535 AVG Training Acc 80.51 % AVG Validation Acc 78.09 %\n",
      "Epoch:70/100 AVG Training Loss:0.435 AVG Validation Loss:0.543 AVG Training Acc 80.50 % AVG Validation Acc 77.96 %\n",
      "Epoch:80/100 AVG Training Loss:0.432 AVG Validation Loss:0.548 AVG Training Acc 80.72 % AVG Validation Acc 77.82 %\n",
      "Epoch    89: reducing learning rate of group 0 to 1.0000e-05.\n",
      "Epoch:90/100 AVG Training Loss:0.432 AVG Validation Loss:0.545 AVG Training Acc 80.90 % AVG Validation Acc 77.69 %\n",
      "Epoch:100/100 AVG Training Loss:0.430 AVG Validation Loss:0.551 AVG Training Acc 80.71 % AVG Validation Acc 77.42 %\n",
      "Split 105\n"
     ]
    },
    {
     "data": {
      "application/vnd.jupyter.widget-view+json": {
       "model_id": "9175b42e836348d2832408d2f9420165",
       "version_major": 2,
       "version_minor": 0
      },
      "text/plain": [
       "  0%|          | 0/100 [00:00<?, ?it/s]"
      ]
     },
     "metadata": {},
     "output_type": "display_data"
    },
    {
     "name": "stdout",
     "output_type": "stream",
     "text": [
      "Epoch:10/100 AVG Training Loss:0.491 AVG Validation Loss:0.479 AVG Training Acc 79.95 % AVG Validation Acc 79.44 %\n",
      "Epoch:20/100 AVG Training Loss:0.485 AVG Validation Loss:0.478 AVG Training Acc 79.90 % AVG Validation Acc 79.57 %\n",
      "Epoch:30/100 AVG Training Loss:0.474 AVG Validation Loss:0.472 AVG Training Acc 80.08 % AVG Validation Acc 79.44 %\n",
      "Epoch    38: reducing learning rate of group 0 to 1.0000e-03.\n",
      "Epoch:40/100 AVG Training Loss:0.460 AVG Validation Loss:0.471 AVG Training Acc 80.41 % AVG Validation Acc 79.44 %\n",
      "Epoch:50/100 AVG Training Loss:0.445 AVG Validation Loss:0.485 AVG Training Acc 80.84 % AVG Validation Acc 78.90 %\n",
      "Epoch:60/100 AVG Training Loss:0.433 AVG Validation Loss:0.497 AVG Training Acc 81.11 % AVG Validation Acc 78.63 %\n",
      "Epoch    69: reducing learning rate of group 0 to 1.0000e-04.\n",
      "Epoch:70/100 AVG Training Loss:0.426 AVG Validation Loss:0.507 AVG Training Acc 81.14 % AVG Validation Acc 78.63 %\n",
      "Epoch:80/100 AVG Training Loss:0.424 AVG Validation Loss:0.506 AVG Training Acc 81.43 % AVG Validation Acc 78.63 %\n",
      "Epoch:90/100 AVG Training Loss:0.422 AVG Validation Loss:0.508 AVG Training Acc 81.46 % AVG Validation Acc 78.63 %\n",
      "Epoch:100/100 AVG Training Loss:0.418 AVG Validation Loss:0.510 AVG Training Acc 81.59 % AVG Validation Acc 78.36 %\n",
      "Epoch   100: reducing learning rate of group 0 to 1.0000e-05.\n",
      "Split 106\n"
     ]
    },
    {
     "data": {
      "application/vnd.jupyter.widget-view+json": {
       "model_id": "05645315981a49c69e75d0e335d0090a",
       "version_major": 2,
       "version_minor": 0
      },
      "text/plain": [
       "  0%|          | 0/100 [00:00<?, ?it/s]"
      ]
     },
     "metadata": {},
     "output_type": "display_data"
    },
    {
     "name": "stdout",
     "output_type": "stream",
     "text": [
      "Epoch:10/100 AVG Training Loss:0.487 AVG Validation Loss:0.520 AVG Training Acc 80.07 % AVG Validation Acc 78.09 %\n",
      "Epoch    16: reducing learning rate of group 0 to 1.0000e-03.\n",
      "Epoch:20/100 AVG Training Loss:0.475 AVG Validation Loss:0.512 AVG Training Acc 80.19 % AVG Validation Acc 78.09 %\n",
      "Epoch:30/100 AVG Training Loss:0.471 AVG Validation Loss:0.519 AVG Training Acc 80.10 % AVG Validation Acc 77.96 %\n",
      "Epoch:40/100 AVG Training Loss:0.463 AVG Validation Loss:0.517 AVG Training Acc 80.48 % AVG Validation Acc 77.82 %\n",
      "Epoch    47: reducing learning rate of group 0 to 1.0000e-04.\n",
      "Epoch:50/100 AVG Training Loss:0.453 AVG Validation Loss:0.524 AVG Training Acc 80.75 % AVG Validation Acc 77.82 %\n",
      "Epoch:60/100 AVG Training Loss:0.454 AVG Validation Loss:0.525 AVG Training Acc 80.47 % AVG Validation Acc 77.69 %\n",
      "Epoch:70/100 AVG Training Loss:0.452 AVG Validation Loss:0.526 AVG Training Acc 80.69 % AVG Validation Acc 77.82 %\n",
      "Epoch    78: reducing learning rate of group 0 to 1.0000e-05.\n",
      "Epoch:80/100 AVG Training Loss:0.452 AVG Validation Loss:0.528 AVG Training Acc 80.66 % AVG Validation Acc 77.69 %\n",
      "Epoch:90/100 AVG Training Loss:0.451 AVG Validation Loss:0.527 AVG Training Acc 80.68 % AVG Validation Acc 77.82 %\n",
      "Epoch:100/100 AVG Training Loss:0.450 AVG Validation Loss:0.529 AVG Training Acc 80.62 % AVG Validation Acc 77.69 %\n",
      "Split 107\n"
     ]
    },
    {
     "data": {
      "application/vnd.jupyter.widget-view+json": {
       "model_id": "3de81f9a1f364909aaa333c4ffe61bee",
       "version_major": 2,
       "version_minor": 0
      },
      "text/plain": [
       "  0%|          | 0/100 [00:00<?, ?it/s]"
      ]
     },
     "metadata": {},
     "output_type": "display_data"
    },
    {
     "name": "stdout",
     "output_type": "stream",
     "text": [
      "Epoch:10/100 AVG Training Loss:0.488 AVG Validation Loss:0.570 AVG Training Acc 80.04 % AVG Validation Acc 78.33 %\n",
      "Epoch:20/100 AVG Training Loss:0.482 AVG Validation Loss:0.512 AVG Training Acc 79.92 % AVG Validation Acc 77.39 %\n",
      "Epoch    20: reducing learning rate of group 0 to 1.0000e-03.\n",
      "Epoch:30/100 AVG Training Loss:0.472 AVG Validation Loss:0.516 AVG Training Acc 80.41 % AVG Validation Acc 78.06 %\n",
      "Epoch:40/100 AVG Training Loss:0.466 AVG Validation Loss:0.518 AVG Training Acc 80.65 % AVG Validation Acc 77.79 %\n",
      "Epoch:50/100 AVG Training Loss:0.458 AVG Validation Loss:0.524 AVG Training Acc 80.94 % AVG Validation Acc 77.52 %\n",
      "Epoch    51: reducing learning rate of group 0 to 1.0000e-04.\n",
      "Epoch:60/100 AVG Training Loss:0.453 AVG Validation Loss:0.529 AVG Training Acc 81.05 % AVG Validation Acc 76.99 %\n",
      "Epoch:70/100 AVG Training Loss:0.454 AVG Validation Loss:0.532 AVG Training Acc 81.08 % AVG Validation Acc 76.99 %\n",
      "Epoch:80/100 AVG Training Loss:0.449 AVG Validation Loss:0.531 AVG Training Acc 81.34 % AVG Validation Acc 76.72 %\n",
      "Epoch    82: reducing learning rate of group 0 to 1.0000e-05.\n",
      "Epoch:90/100 AVG Training Loss:0.450 AVG Validation Loss:0.533 AVG Training Acc 81.19 % AVG Validation Acc 76.72 %\n",
      "Epoch:100/100 AVG Training Loss:0.452 AVG Validation Loss:0.534 AVG Training Acc 81.05 % AVG Validation Acc 76.99 %\n",
      "Split 108\n"
     ]
    },
    {
     "data": {
      "application/vnd.jupyter.widget-view+json": {
       "model_id": "7e011a2ddaa94f80ab36547a8158b30d",
       "version_major": 2,
       "version_minor": 0
      },
      "text/plain": [
       "  0%|          | 0/100 [00:00<?, ?it/s]"
      ]
     },
     "metadata": {},
     "output_type": "display_data"
    },
    {
     "name": "stdout",
     "output_type": "stream",
     "text": [
      "Epoch:10/100 AVG Training Loss:0.494 AVG Validation Loss:0.480 AVG Training Acc 79.52 % AVG Validation Acc 80.89 %\n",
      "Epoch:20/100 AVG Training Loss:0.487 AVG Validation Loss:0.481 AVG Training Acc 79.78 % AVG Validation Acc 80.89 %\n",
      "Epoch    24: reducing learning rate of group 0 to 1.0000e-03.\n",
      "Epoch:30/100 AVG Training Loss:0.474 AVG Validation Loss:0.475 AVG Training Acc 79.95 % AVG Validation Acc 80.89 %\n",
      "Epoch:40/100 AVG Training Loss:0.464 AVG Validation Loss:0.488 AVG Training Acc 79.93 % AVG Validation Acc 80.75 %\n",
      "Epoch:50/100 AVG Training Loss:0.458 AVG Validation Loss:0.495 AVG Training Acc 80.17 % AVG Validation Acc 80.75 %\n",
      "Epoch    55: reducing learning rate of group 0 to 1.0000e-04.\n",
      "Epoch:60/100 AVG Training Loss:0.456 AVG Validation Loss:0.503 AVG Training Acc 80.11 % AVG Validation Acc 80.35 %\n",
      "Epoch:70/100 AVG Training Loss:0.453 AVG Validation Loss:0.504 AVG Training Acc 79.99 % AVG Validation Acc 80.48 %\n",
      "Epoch:80/100 AVG Training Loss:0.449 AVG Validation Loss:0.508 AVG Training Acc 80.31 % AVG Validation Acc 80.35 %\n",
      "Epoch    86: reducing learning rate of group 0 to 1.0000e-05.\n",
      "Epoch:90/100 AVG Training Loss:0.451 AVG Validation Loss:0.511 AVG Training Acc 80.14 % AVG Validation Acc 80.35 %\n",
      "Epoch:100/100 AVG Training Loss:0.450 AVG Validation Loss:0.511 AVG Training Acc 80.22 % AVG Validation Acc 80.35 %\n",
      "Split 109\n"
     ]
    },
    {
     "data": {
      "application/vnd.jupyter.widget-view+json": {
       "model_id": "f5f3c3d7cea34d56b57e915745ae881f",
       "version_major": 2,
       "version_minor": 0
      },
      "text/plain": [
       "  0%|          | 0/100 [00:00<?, ?it/s]"
      ]
     },
     "metadata": {},
     "output_type": "display_data"
    },
    {
     "name": "stdout",
     "output_type": "stream",
     "text": [
      "Epoch:10/100 AVG Training Loss:0.494 AVG Validation Loss:0.473 AVG Training Acc 79.73 % AVG Validation Acc 81.16 %\n",
      "Epoch:20/100 AVG Training Loss:0.488 AVG Validation Loss:0.470 AVG Training Acc 79.73 % AVG Validation Acc 81.16 %\n",
      "Epoch:30/100 AVG Training Loss:0.482 AVG Validation Loss:0.468 AVG Training Acc 79.71 % AVG Validation Acc 81.02 %\n",
      "Epoch    33: reducing learning rate of group 0 to 1.0000e-03.\n",
      "Epoch:40/100 AVG Training Loss:0.465 AVG Validation Loss:0.477 AVG Training Acc 79.96 % AVG Validation Acc 81.16 %\n",
      "Epoch:50/100 AVG Training Loss:0.459 AVG Validation Loss:0.480 AVG Training Acc 79.86 % AVG Validation Acc 80.89 %\n",
      "Epoch:60/100 AVG Training Loss:0.451 AVG Validation Loss:0.488 AVG Training Acc 80.35 % AVG Validation Acc 80.75 %\n",
      "Epoch    64: reducing learning rate of group 0 to 1.0000e-04.\n",
      "Epoch:70/100 AVG Training Loss:0.446 AVG Validation Loss:0.495 AVG Training Acc 80.49 % AVG Validation Acc 80.75 %\n",
      "Epoch:80/100 AVG Training Loss:0.443 AVG Validation Loss:0.495 AVG Training Acc 80.35 % AVG Validation Acc 80.75 %\n",
      "Epoch:90/100 AVG Training Loss:0.444 AVG Validation Loss:0.491 AVG Training Acc 80.34 % AVG Validation Acc 80.75 %\n",
      "Epoch    95: reducing learning rate of group 0 to 1.0000e-05.\n",
      "Epoch:100/100 AVG Training Loss:0.444 AVG Validation Loss:0.496 AVG Training Acc 80.25 % AVG Validation Acc 80.75 %\n",
      "Split 110\n"
     ]
    },
    {
     "data": {
      "application/vnd.jupyter.widget-view+json": {
       "model_id": "72f87844899d44338307eeeab52eb8a1",
       "version_major": 2,
       "version_minor": 0
      },
      "text/plain": [
       "  0%|          | 0/100 [00:00<?, ?it/s]"
      ]
     },
     "metadata": {},
     "output_type": "display_data"
    },
    {
     "name": "stdout",
     "output_type": "stream",
     "text": [
      "Epoch:10/100 AVG Training Loss:0.492 AVG Validation Loss:0.484 AVG Training Acc 79.89 % AVG Validation Acc 79.68 %\n",
      "Epoch:20/100 AVG Training Loss:0.489 AVG Validation Loss:0.481 AVG Training Acc 79.95 % AVG Validation Acc 79.68 %\n",
      "Epoch:30/100 AVG Training Loss:0.482 AVG Validation Loss:0.488 AVG Training Acc 79.87 % AVG Validation Acc 79.68 %\n",
      "Epoch:40/100 AVG Training Loss:0.480 AVG Validation Loss:0.483 AVG Training Acc 79.89 % AVG Validation Acc 79.54 %\n",
      "Epoch    45: reducing learning rate of group 0 to 1.0000e-03.\n",
      "Epoch:50/100 AVG Training Loss:0.458 AVG Validation Loss:0.502 AVG Training Acc 80.22 % AVG Validation Acc 79.14 %\n",
      "Epoch:60/100 AVG Training Loss:0.447 AVG Validation Loss:0.510 AVG Training Acc 80.44 % AVG Validation Acc 79.54 %\n",
      "Epoch:70/100 AVG Training Loss:0.435 AVG Validation Loss:0.525 AVG Training Acc 80.74 % AVG Validation Acc 78.06 %\n",
      "Epoch    76: reducing learning rate of group 0 to 1.0000e-04.\n",
      "Epoch:80/100 AVG Training Loss:0.426 AVG Validation Loss:0.532 AVG Training Acc 81.14 % AVG Validation Acc 78.33 %\n",
      "Epoch:90/100 AVG Training Loss:0.420 AVG Validation Loss:0.533 AVG Training Acc 81.44 % AVG Validation Acc 78.60 %\n",
      "Epoch:100/100 AVG Training Loss:0.421 AVG Validation Loss:0.536 AVG Training Acc 81.22 % AVG Validation Acc 78.20 %\n",
      "Split 111\n"
     ]
    },
    {
     "data": {
      "application/vnd.jupyter.widget-view+json": {
       "model_id": "cb1ef0fbcb174b3b836a552d55bec17d",
       "version_major": 2,
       "version_minor": 0
      },
      "text/plain": [
       "  0%|          | 0/100 [00:00<?, ?it/s]"
      ]
     },
     "metadata": {},
     "output_type": "display_data"
    },
    {
     "name": "stdout",
     "output_type": "stream",
     "text": [
      "Epoch:10/100 AVG Training Loss:0.491 AVG Validation Loss:0.487 AVG Training Acc 79.75 % AVG Validation Acc 81.05 %\n",
      "Epoch    16: reducing learning rate of group 0 to 1.0000e-03.\n",
      "Epoch:20/100 AVG Training Loss:0.480 AVG Validation Loss:0.484 AVG Training Acc 79.78 % AVG Validation Acc 81.05 %\n",
      "Epoch:30/100 AVG Training Loss:0.475 AVG Validation Loss:0.485 AVG Training Acc 79.99 % AVG Validation Acc 81.05 %\n",
      "Epoch:40/100 AVG Training Loss:0.470 AVG Validation Loss:0.488 AVG Training Acc 79.95 % AVG Validation Acc 80.91 %\n",
      "Epoch    47: reducing learning rate of group 0 to 1.0000e-04.\n",
      "Epoch:50/100 AVG Training Loss:0.462 AVG Validation Loss:0.490 AVG Training Acc 80.08 % AVG Validation Acc 80.91 %\n",
      "Epoch:60/100 AVG Training Loss:0.462 AVG Validation Loss:0.492 AVG Training Acc 80.04 % AVG Validation Acc 80.91 %\n",
      "Epoch:70/100 AVG Training Loss:0.461 AVG Validation Loss:0.491 AVG Training Acc 80.08 % AVG Validation Acc 80.91 %\n",
      "Epoch    78: reducing learning rate of group 0 to 1.0000e-05.\n",
      "Epoch:80/100 AVG Training Loss:0.459 AVG Validation Loss:0.492 AVG Training Acc 80.19 % AVG Validation Acc 80.91 %\n",
      "Epoch:90/100 AVG Training Loss:0.458 AVG Validation Loss:0.492 AVG Training Acc 80.02 % AVG Validation Acc 80.91 %\n",
      "Epoch:100/100 AVG Training Loss:0.457 AVG Validation Loss:0.492 AVG Training Acc 80.27 % AVG Validation Acc 80.91 %\n",
      "Split 112\n"
     ]
    },
    {
     "data": {
      "application/vnd.jupyter.widget-view+json": {
       "model_id": "992563b4940747d7b0cc9ed7529ed73f",
       "version_major": 2,
       "version_minor": 0
      },
      "text/plain": [
       "  0%|          | 0/100 [00:00<?, ?it/s]"
      ]
     },
     "metadata": {},
     "output_type": "display_data"
    },
    {
     "name": "stdout",
     "output_type": "stream",
     "text": [
      "Epoch:10/100 AVG Training Loss:0.489 AVG Validation Loss:0.499 AVG Training Acc 79.95 % AVG Validation Acc 78.90 %\n",
      "Epoch    19: reducing learning rate of group 0 to 1.0000e-03.\n",
      "Epoch:20/100 AVG Training Loss:0.477 AVG Validation Loss:0.503 AVG Training Acc 79.96 % AVG Validation Acc 78.90 %\n",
      "Epoch:30/100 AVG Training Loss:0.467 AVG Validation Loss:0.510 AVG Training Acc 80.23 % AVG Validation Acc 79.03 %\n",
      "Epoch:40/100 AVG Training Loss:0.463 AVG Validation Loss:0.519 AVG Training Acc 80.48 % AVG Validation Acc 78.90 %\n",
      "Epoch:50/100 AVG Training Loss:0.454 AVG Validation Loss:0.529 AVG Training Acc 80.53 % AVG Validation Acc 78.49 %\n",
      "Epoch    50: reducing learning rate of group 0 to 1.0000e-04.\n",
      "Epoch:60/100 AVG Training Loss:0.449 AVG Validation Loss:0.533 AVG Training Acc 80.57 % AVG Validation Acc 78.49 %\n",
      "Epoch:70/100 AVG Training Loss:0.446 AVG Validation Loss:0.535 AVG Training Acc 80.75 % AVG Validation Acc 78.49 %\n",
      "Epoch:80/100 AVG Training Loss:0.446 AVG Validation Loss:0.536 AVG Training Acc 80.59 % AVG Validation Acc 78.49 %\n",
      "Epoch    81: reducing learning rate of group 0 to 1.0000e-05.\n",
      "Epoch:90/100 AVG Training Loss:0.445 AVG Validation Loss:0.538 AVG Training Acc 80.68 % AVG Validation Acc 78.49 %\n",
      "Epoch:100/100 AVG Training Loss:0.447 AVG Validation Loss:0.537 AVG Training Acc 80.66 % AVG Validation Acc 78.49 %\n",
      "Split 113\n"
     ]
    },
    {
     "data": {
      "application/vnd.jupyter.widget-view+json": {
       "model_id": "e495b9e437c94c289f29e4ec9af0786e",
       "version_major": 2,
       "version_minor": 0
      },
      "text/plain": [
       "  0%|          | 0/100 [00:00<?, ?it/s]"
      ]
     },
     "metadata": {},
     "output_type": "display_data"
    },
    {
     "name": "stdout",
     "output_type": "stream",
     "text": [
      "Epoch:10/100 AVG Training Loss:0.493 AVG Validation Loss:0.477 AVG Training Acc 79.71 % AVG Validation Acc 81.05 %\n",
      "Epoch:20/100 AVG Training Loss:0.493 AVG Validation Loss:0.474 AVG Training Acc 79.65 % AVG Validation Acc 81.05 %\n",
      "Epoch    23: reducing learning rate of group 0 to 1.0000e-03.\n",
      "Epoch:30/100 AVG Training Loss:0.484 AVG Validation Loss:0.466 AVG Training Acc 79.81 % AVG Validation Acc 81.05 %\n",
      "Epoch:40/100 AVG Training Loss:0.481 AVG Validation Loss:0.464 AVG Training Acc 79.84 % AVG Validation Acc 81.18 %\n",
      "Epoch:50/100 AVG Training Loss:0.480 AVG Validation Loss:0.463 AVG Training Acc 79.87 % AVG Validation Acc 81.05 %\n",
      "Epoch:60/100 AVG Training Loss:0.475 AVG Validation Loss:0.463 AVG Training Acc 79.87 % AVG Validation Acc 81.18 %\n",
      "Epoch    65: reducing learning rate of group 0 to 1.0000e-04.\n",
      "Epoch:70/100 AVG Training Loss:0.471 AVG Validation Loss:0.466 AVG Training Acc 79.92 % AVG Validation Acc 81.05 %\n",
      "Epoch:80/100 AVG Training Loss:0.472 AVG Validation Loss:0.466 AVG Training Acc 80.14 % AVG Validation Acc 81.05 %\n",
      "Epoch:90/100 AVG Training Loss:0.469 AVG Validation Loss:0.467 AVG Training Acc 80.23 % AVG Validation Acc 80.91 %\n",
      "Epoch    96: reducing learning rate of group 0 to 1.0000e-05.\n",
      "Epoch:100/100 AVG Training Loss:0.471 AVG Validation Loss:0.467 AVG Training Acc 79.98 % AVG Validation Acc 80.91 %\n",
      "Split 114\n"
     ]
    },
    {
     "data": {
      "application/vnd.jupyter.widget-view+json": {
       "model_id": "e1f2e4332d3b48a78570867bac422989",
       "version_major": 2,
       "version_minor": 0
      },
      "text/plain": [
       "  0%|          | 0/100 [00:00<?, ?it/s]"
      ]
     },
     "metadata": {},
     "output_type": "display_data"
    },
    {
     "name": "stdout",
     "output_type": "stream",
     "text": [
      "Epoch:10/100 AVG Training Loss:0.491 AVG Validation Loss:0.494 AVG Training Acc 79.96 % AVG Validation Acc 79.03 %\n",
      "Epoch:20/100 AVG Training Loss:0.484 AVG Validation Loss:0.488 AVG Training Acc 79.98 % AVG Validation Acc 79.03 %\n",
      "Epoch:30/100 AVG Training Loss:0.480 AVG Validation Loss:0.487 AVG Training Acc 79.99 % AVG Validation Acc 79.30 %\n",
      "Epoch    38: reducing learning rate of group 0 to 1.0000e-03.\n",
      "Epoch:40/100 AVG Training Loss:0.464 AVG Validation Loss:0.484 AVG Training Acc 80.32 % AVG Validation Acc 79.57 %\n",
      "Epoch:50/100 AVG Training Loss:0.454 AVG Validation Loss:0.487 AVG Training Acc 80.38 % AVG Validation Acc 79.97 %\n",
      "Epoch:60/100 AVG Training Loss:0.442 AVG Validation Loss:0.496 AVG Training Acc 80.77 % AVG Validation Acc 79.44 %\n",
      "Epoch    69: reducing learning rate of group 0 to 1.0000e-04.\n",
      "Epoch:70/100 AVG Training Loss:0.435 AVG Validation Loss:0.498 AVG Training Acc 81.13 % AVG Validation Acc 79.44 %\n",
      "Epoch:80/100 AVG Training Loss:0.431 AVG Validation Loss:0.497 AVG Training Acc 81.29 % AVG Validation Acc 79.17 %\n",
      "Epoch:90/100 AVG Training Loss:0.434 AVG Validation Loss:0.498 AVG Training Acc 81.05 % AVG Validation Acc 79.30 %\n",
      "Epoch:100/100 AVG Training Loss:0.430 AVG Validation Loss:0.498 AVG Training Acc 81.14 % AVG Validation Acc 79.30 %\n",
      "Epoch   100: reducing learning rate of group 0 to 1.0000e-05.\n",
      "Split 115\n"
     ]
    },
    {
     "data": {
      "application/vnd.jupyter.widget-view+json": {
       "model_id": "66fe4943d3594eab90ca594cfa0cea64",
       "version_major": 2,
       "version_minor": 0
      },
      "text/plain": [
       "  0%|          | 0/100 [00:00<?, ?it/s]"
      ]
     },
     "metadata": {},
     "output_type": "display_data"
    },
    {
     "name": "stdout",
     "output_type": "stream",
     "text": [
      "Epoch:10/100 AVG Training Loss:0.495 AVG Validation Loss:0.468 AVG Training Acc 79.47 % AVG Validation Acc 81.72 %\n",
      "Epoch:20/100 AVG Training Loss:0.488 AVG Validation Loss:0.463 AVG Training Acc 79.69 % AVG Validation Acc 81.72 %\n",
      "Epoch:30/100 AVG Training Loss:0.483 AVG Validation Loss:0.459 AVG Training Acc 79.65 % AVG Validation Acc 81.85 %\n",
      "Epoch:40/100 AVG Training Loss:0.483 AVG Validation Loss:0.461 AVG Training Acc 79.77 % AVG Validation Acc 81.85 %\n",
      "Epoch:50/100 AVG Training Loss:0.478 AVG Validation Loss:0.464 AVG Training Acc 79.87 % AVG Validation Acc 81.45 %\n",
      "Epoch    54: reducing learning rate of group 0 to 1.0000e-03.\n",
      "Epoch:60/100 AVG Training Loss:0.485 AVG Validation Loss:0.464 AVG Training Acc 79.62 % AVG Validation Acc 81.72 %\n",
      "Epoch:70/100 AVG Training Loss:0.477 AVG Validation Loss:0.462 AVG Training Acc 79.83 % AVG Validation Acc 81.72 %\n",
      "Epoch:80/100 AVG Training Loss:0.476 AVG Validation Loss:0.465 AVG Training Acc 79.81 % AVG Validation Acc 81.72 %\n",
      "Epoch    85: reducing learning rate of group 0 to 1.0000e-04.\n",
      "Epoch:90/100 AVG Training Loss:0.476 AVG Validation Loss:0.466 AVG Training Acc 79.95 % AVG Validation Acc 81.72 %\n",
      "Epoch:100/100 AVG Training Loss:0.476 AVG Validation Loss:0.465 AVG Training Acc 79.92 % AVG Validation Acc 81.72 %\n",
      "Split 116\n"
     ]
    },
    {
     "data": {
      "application/vnd.jupyter.widget-view+json": {
       "model_id": "d083daf1d90c43ad821bf879e003b01b",
       "version_major": 2,
       "version_minor": 0
      },
      "text/plain": [
       "  0%|          | 0/100 [00:00<?, ?it/s]"
      ]
     },
     "metadata": {},
     "output_type": "display_data"
    },
    {
     "name": "stdout",
     "output_type": "stream",
     "text": [
      "Epoch:10/100 AVG Training Loss:0.490 AVG Validation Loss:0.495 AVG Training Acc 79.86 % AVG Validation Acc 79.44 %\n",
      "Epoch:20/100 AVG Training Loss:0.482 AVG Validation Loss:0.492 AVG Training Acc 80.05 % AVG Validation Acc 79.30 %\n",
      "Epoch:30/100 AVG Training Loss:0.477 AVG Validation Loss:0.491 AVG Training Acc 80.02 % AVG Validation Acc 79.44 %\n",
      "Epoch    35: reducing learning rate of group 0 to 1.0000e-03.\n",
      "Epoch:40/100 AVG Training Loss:0.453 AVG Validation Loss:0.503 AVG Training Acc 80.54 % AVG Validation Acc 79.44 %\n",
      "Epoch:50/100 AVG Training Loss:0.436 AVG Validation Loss:0.519 AVG Training Acc 80.89 % AVG Validation Acc 78.90 %\n",
      "Epoch:60/100 AVG Training Loss:0.426 AVG Validation Loss:0.527 AVG Training Acc 81.23 % AVG Validation Acc 78.90 %\n",
      "Epoch    66: reducing learning rate of group 0 to 1.0000e-04.\n",
      "Epoch:70/100 AVG Training Loss:0.416 AVG Validation Loss:0.538 AVG Training Acc 81.69 % AVG Validation Acc 78.23 %\n",
      "Epoch:80/100 AVG Training Loss:0.415 AVG Validation Loss:0.544 AVG Training Acc 81.44 % AVG Validation Acc 78.49 %\n",
      "Epoch:90/100 AVG Training Loss:0.410 AVG Validation Loss:0.543 AVG Training Acc 81.41 % AVG Validation Acc 78.63 %\n",
      "Epoch    97: reducing learning rate of group 0 to 1.0000e-05.\n",
      "Epoch:100/100 AVG Training Loss:0.411 AVG Validation Loss:0.544 AVG Training Acc 81.55 % AVG Validation Acc 78.36 %\n",
      "Split 117\n"
     ]
    },
    {
     "data": {
      "application/vnd.jupyter.widget-view+json": {
       "model_id": "4a533e897a8947c98f961fed2f154218",
       "version_major": 2,
       "version_minor": 0
      },
      "text/plain": [
       "  0%|          | 0/100 [00:00<?, ?it/s]"
      ]
     },
     "metadata": {},
     "output_type": "display_data"
    },
    {
     "name": "stdout",
     "output_type": "stream",
     "text": [
      "Epoch:10/100 AVG Training Loss:0.488 AVG Validation Loss:0.492 AVG Training Acc 79.90 % AVG Validation Acc 79.41 %\n",
      "Epoch:20/100 AVG Training Loss:0.483 AVG Validation Loss:0.492 AVG Training Acc 79.83 % AVG Validation Acc 79.54 %\n",
      "Epoch:30/100 AVG Training Loss:0.472 AVG Validation Loss:0.499 AVG Training Acc 80.14 % AVG Validation Acc 79.41 %\n",
      "Epoch    39: reducing learning rate of group 0 to 1.0000e-03.\n",
      "Epoch:40/100 AVG Training Loss:0.466 AVG Validation Loss:0.493 AVG Training Acc 80.13 % AVG Validation Acc 79.41 %\n",
      "Epoch:50/100 AVG Training Loss:0.450 AVG Validation Loss:0.506 AVG Training Acc 80.47 % AVG Validation Acc 79.00 %\n",
      "Epoch:60/100 AVG Training Loss:0.436 AVG Validation Loss:0.521 AVG Training Acc 80.89 % AVG Validation Acc 78.60 %\n",
      "Epoch:70/100 AVG Training Loss:0.429 AVG Validation Loss:0.523 AVG Training Acc 81.19 % AVG Validation Acc 77.93 %\n",
      "Epoch    70: reducing learning rate of group 0 to 1.0000e-04.\n",
      "Epoch:80/100 AVG Training Loss:0.421 AVG Validation Loss:0.529 AVG Training Acc 81.38 % AVG Validation Acc 77.93 %\n",
      "Epoch:90/100 AVG Training Loss:0.421 AVG Validation Loss:0.537 AVG Training Acc 81.05 % AVG Validation Acc 77.52 %\n",
      "Epoch:100/100 AVG Training Loss:0.419 AVG Validation Loss:0.540 AVG Training Acc 81.13 % AVG Validation Acc 77.39 %\n",
      "Split 118\n"
     ]
    },
    {
     "data": {
      "application/vnd.jupyter.widget-view+json": {
       "model_id": "2bb2a7ba5a414bb4b893db0f02ac1fac",
       "version_major": 2,
       "version_minor": 0
      },
      "text/plain": [
       "  0%|          | 0/100 [00:00<?, ?it/s]"
      ]
     },
     "metadata": {},
     "output_type": "display_data"
    },
    {
     "name": "stdout",
     "output_type": "stream",
     "text": [
      "Epoch:10/100 AVG Training Loss:0.488 AVG Validation Loss:0.506 AVG Training Acc 79.93 % AVG Validation Acc 78.87 %\n",
      "Epoch:20/100 AVG Training Loss:0.481 AVG Validation Loss:0.499 AVG Training Acc 80.05 % AVG Validation Acc 78.87 %\n",
      "Epoch    24: reducing learning rate of group 0 to 1.0000e-03.\n",
      "Epoch:30/100 AVG Training Loss:0.461 AVG Validation Loss:0.518 AVG Training Acc 80.17 % AVG Validation Acc 78.73 %\n",
      "Epoch:40/100 AVG Training Loss:0.449 AVG Validation Loss:0.522 AVG Training Acc 80.40 % AVG Validation Acc 78.33 %\n",
      "Epoch:50/100 AVG Training Loss:0.438 AVG Validation Loss:0.531 AVG Training Acc 80.34 % AVG Validation Acc 78.20 %\n",
      "Epoch    55: reducing learning rate of group 0 to 1.0000e-04.\n",
      "Epoch:60/100 AVG Training Loss:0.434 AVG Validation Loss:0.535 AVG Training Acc 80.67 % AVG Validation Acc 78.06 %\n",
      "Epoch:70/100 AVG Training Loss:0.430 AVG Validation Loss:0.543 AVG Training Acc 80.71 % AVG Validation Acc 77.79 %\n",
      "Epoch:80/100 AVG Training Loss:0.428 AVG Validation Loss:0.546 AVG Training Acc 80.77 % AVG Validation Acc 77.79 %\n",
      "Epoch    86: reducing learning rate of group 0 to 1.0000e-05.\n",
      "Epoch:90/100 AVG Training Loss:0.428 AVG Validation Loss:0.544 AVG Training Acc 80.59 % AVG Validation Acc 77.93 %\n",
      "Epoch:100/100 AVG Training Loss:0.428 AVG Validation Loss:0.544 AVG Training Acc 80.74 % AVG Validation Acc 78.06 %\n",
      "Split 119\n"
     ]
    },
    {
     "data": {
      "application/vnd.jupyter.widget-view+json": {
       "model_id": "356d2f2cea124d6ba6e5a78ee120f53c",
       "version_major": 2,
       "version_minor": 0
      },
      "text/plain": [
       "  0%|          | 0/100 [00:00<?, ?it/s]"
      ]
     },
     "metadata": {},
     "output_type": "display_data"
    },
    {
     "name": "stdout",
     "output_type": "stream",
     "text": [
      "Epoch:10/100 AVG Training Loss:0.490 AVG Validation Loss:0.491 AVG Training Acc 79.93 % AVG Validation Acc 79.27 %\n",
      "Epoch:20/100 AVG Training Loss:0.486 AVG Validation Loss:0.491 AVG Training Acc 79.87 % AVG Validation Acc 79.27 %\n",
      "Epoch    23: reducing learning rate of group 0 to 1.0000e-03.\n",
      "Epoch:30/100 AVG Training Loss:0.480 AVG Validation Loss:0.489 AVG Training Acc 79.95 % AVG Validation Acc 79.27 %\n",
      "Epoch:40/100 AVG Training Loss:0.473 AVG Validation Loss:0.495 AVG Training Acc 79.93 % AVG Validation Acc 79.27 %\n",
      "Epoch:50/100 AVG Training Loss:0.465 AVG Validation Loss:0.505 AVG Training Acc 80.01 % AVG Validation Acc 79.00 %\n",
      "Epoch    54: reducing learning rate of group 0 to 1.0000e-04.\n",
      "Epoch:60/100 AVG Training Loss:0.457 AVG Validation Loss:0.514 AVG Training Acc 80.01 % AVG Validation Acc 78.73 %\n",
      "Epoch:70/100 AVG Training Loss:0.454 AVG Validation Loss:0.518 AVG Training Acc 80.13 % AVG Validation Acc 78.73 %\n",
      "Epoch:80/100 AVG Training Loss:0.454 AVG Validation Loss:0.522 AVG Training Acc 80.25 % AVG Validation Acc 78.73 %\n",
      "Epoch    85: reducing learning rate of group 0 to 1.0000e-05.\n",
      "Epoch:90/100 AVG Training Loss:0.455 AVG Validation Loss:0.521 AVG Training Acc 80.08 % AVG Validation Acc 78.87 %\n",
      "Epoch:100/100 AVG Training Loss:0.451 AVG Validation Loss:0.521 AVG Training Acc 80.22 % AVG Validation Acc 78.87 %\n",
      "Split 120\n"
     ]
    },
    {
     "data": {
      "application/vnd.jupyter.widget-view+json": {
       "model_id": "9159f561350d4454ac87296cffb45c96",
       "version_major": 2,
       "version_minor": 0
      },
      "text/plain": [
       "  0%|          | 0/100 [00:00<?, ?it/s]"
      ]
     },
     "metadata": {},
     "output_type": "display_data"
    },
    {
     "name": "stdout",
     "output_type": "stream",
     "text": [
      "Epoch:10/100 AVG Training Loss:0.491 AVG Validation Loss:0.496 AVG Training Acc 79.83 % AVG Validation Acc 79.81 %\n",
      "Epoch:20/100 AVG Training Loss:0.485 AVG Validation Loss:0.498 AVG Training Acc 79.83 % AVG Validation Acc 79.95 %\n",
      "Epoch    29: reducing learning rate of group 0 to 1.0000e-03.\n",
      "Epoch:30/100 AVG Training Loss:0.478 AVG Validation Loss:0.496 AVG Training Acc 79.87 % AVG Validation Acc 79.95 %\n",
      "Epoch:40/100 AVG Training Loss:0.463 AVG Validation Loss:0.502 AVG Training Acc 80.22 % AVG Validation Acc 79.54 %\n",
      "Epoch:50/100 AVG Training Loss:0.454 AVG Validation Loss:0.517 AVG Training Acc 80.32 % AVG Validation Acc 79.54 %\n",
      "Epoch:60/100 AVG Training Loss:0.448 AVG Validation Loss:0.518 AVG Training Acc 80.40 % AVG Validation Acc 79.81 %\n",
      "Epoch    60: reducing learning rate of group 0 to 1.0000e-04.\n",
      "Epoch:70/100 AVG Training Loss:0.444 AVG Validation Loss:0.528 AVG Training Acc 80.67 % AVG Validation Acc 79.14 %\n",
      "Epoch:80/100 AVG Training Loss:0.442 AVG Validation Loss:0.528 AVG Training Acc 80.70 % AVG Validation Acc 79.54 %\n",
      "Epoch:90/100 AVG Training Loss:0.440 AVG Validation Loss:0.530 AVG Training Acc 80.79 % AVG Validation Acc 79.14 %\n",
      "Epoch    91: reducing learning rate of group 0 to 1.0000e-05.\n",
      "Epoch:100/100 AVG Training Loss:0.441 AVG Validation Loss:0.528 AVG Training Acc 80.65 % AVG Validation Acc 79.54 %\n",
      "Split 121\n"
     ]
    },
    {
     "data": {
      "application/vnd.jupyter.widget-view+json": {
       "model_id": "c64f5e4fd0b14504bc590852ea3f7de0",
       "version_major": 2,
       "version_minor": 0
      },
      "text/plain": [
       "  0%|          | 0/100 [00:00<?, ?it/s]"
      ]
     },
     "metadata": {},
     "output_type": "display_data"
    },
    {
     "name": "stdout",
     "output_type": "stream",
     "text": [
      "Epoch:10/100 AVG Training Loss:0.490 AVG Validation Loss:0.497 AVG Training Acc 79.90 % AVG Validation Acc 79.17 %\n",
      "Epoch:20/100 AVG Training Loss:0.483 AVG Validation Loss:0.490 AVG Training Acc 79.98 % AVG Validation Acc 79.30 %\n",
      "Epoch    28: reducing learning rate of group 0 to 1.0000e-03.\n",
      "Epoch:30/100 AVG Training Loss:0.468 AVG Validation Loss:0.495 AVG Training Acc 80.23 % AVG Validation Acc 78.76 %\n",
      "Epoch:40/100 AVG Training Loss:0.456 AVG Validation Loss:0.507 AVG Training Acc 80.54 % AVG Validation Acc 78.36 %\n",
      "Epoch:50/100 AVG Training Loss:0.447 AVG Validation Loss:0.510 AVG Training Acc 80.72 % AVG Validation Acc 78.36 %\n",
      "Epoch    59: reducing learning rate of group 0 to 1.0000e-04.\n",
      "Epoch:60/100 AVG Training Loss:0.437 AVG Validation Loss:0.518 AVG Training Acc 81.13 % AVG Validation Acc 78.36 %\n",
      "Epoch:70/100 AVG Training Loss:0.433 AVG Validation Loss:0.523 AVG Training Acc 81.35 % AVG Validation Acc 78.23 %\n",
      "Epoch:80/100 AVG Training Loss:0.432 AVG Validation Loss:0.528 AVG Training Acc 81.20 % AVG Validation Acc 78.36 %\n",
      "Epoch:90/100 AVG Training Loss:0.432 AVG Validation Loss:0.529 AVG Training Acc 81.46 % AVG Validation Acc 78.63 %\n",
      "Epoch    90: reducing learning rate of group 0 to 1.0000e-05.\n",
      "Epoch:100/100 AVG Training Loss:0.429 AVG Validation Loss:0.527 AVG Training Acc 81.40 % AVG Validation Acc 78.36 %\n",
      "Split 122\n"
     ]
    },
    {
     "data": {
      "application/vnd.jupyter.widget-view+json": {
       "model_id": "c2bdae53c07d4e1cac33117c7866aefa",
       "version_major": 2,
       "version_minor": 0
      },
      "text/plain": [
       "  0%|          | 0/100 [00:00<?, ?it/s]"
      ]
     },
     "metadata": {},
     "output_type": "display_data"
    },
    {
     "name": "stdout",
     "output_type": "stream",
     "text": [
      "Epoch:10/100 AVG Training Loss:0.494 AVG Validation Loss:0.480 AVG Training Acc 79.72 % AVG Validation Acc 80.51 %\n",
      "Epoch    14: reducing learning rate of group 0 to 1.0000e-03.\n",
      "Epoch:20/100 AVG Training Loss:0.482 AVG Validation Loss:0.477 AVG Training Acc 79.81 % AVG Validation Acc 80.51 %\n",
      "Epoch:30/100 AVG Training Loss:0.479 AVG Validation Loss:0.479 AVG Training Acc 79.83 % AVG Validation Acc 80.51 %\n",
      "Epoch:40/100 AVG Training Loss:0.472 AVG Validation Loss:0.486 AVG Training Acc 79.90 % AVG Validation Acc 80.65 %\n",
      "Epoch    45: reducing learning rate of group 0 to 1.0000e-04.\n",
      "Epoch:50/100 AVG Training Loss:0.465 AVG Validation Loss:0.495 AVG Training Acc 79.95 % AVG Validation Acc 80.51 %\n",
      "Epoch:60/100 AVG Training Loss:0.462 AVG Validation Loss:0.496 AVG Training Acc 80.08 % AVG Validation Acc 80.51 %\n",
      "Epoch:70/100 AVG Training Loss:0.465 AVG Validation Loss:0.498 AVG Training Acc 80.16 % AVG Validation Acc 80.51 %\n",
      "Epoch    76: reducing learning rate of group 0 to 1.0000e-05.\n",
      "Epoch:80/100 AVG Training Loss:0.464 AVG Validation Loss:0.499 AVG Training Acc 80.14 % AVG Validation Acc 80.51 %\n",
      "Epoch:90/100 AVG Training Loss:0.461 AVG Validation Loss:0.501 AVG Training Acc 80.20 % AVG Validation Acc 80.51 %\n",
      "Epoch:100/100 AVG Training Loss:0.462 AVG Validation Loss:0.500 AVG Training Acc 80.08 % AVG Validation Acc 80.51 %\n",
      "Split 123\n"
     ]
    },
    {
     "data": {
      "application/vnd.jupyter.widget-view+json": {
       "model_id": "0563158381514eada60d9b515bc5d5cd",
       "version_major": 2,
       "version_minor": 0
      },
      "text/plain": [
       "  0%|          | 0/100 [00:00<?, ?it/s]"
      ]
     },
     "metadata": {},
     "output_type": "display_data"
    },
    {
     "name": "stdout",
     "output_type": "stream",
     "text": [
      "Epoch:10/100 AVG Training Loss:0.491 AVG Validation Loss:0.488 AVG Training Acc 79.90 % AVG Validation Acc 79.97 %\n",
      "Epoch:20/100 AVG Training Loss:0.486 AVG Validation Loss:0.484 AVG Training Acc 79.92 % AVG Validation Acc 80.11 %\n",
      "Epoch:30/100 AVG Training Loss:0.479 AVG Validation Loss:0.479 AVG Training Acc 79.96 % AVG Validation Acc 79.97 %\n",
      "Epoch:40/100 AVG Training Loss:0.476 AVG Validation Loss:0.480 AVG Training Acc 80.08 % AVG Validation Acc 79.97 %\n",
      "Epoch    48: reducing learning rate of group 0 to 1.0000e-03.\n",
      "Epoch:50/100 AVG Training Loss:0.499 AVG Validation Loss:0.494 AVG Training Acc 79.86 % AVG Validation Acc 79.97 %\n",
      "Epoch:60/100 AVG Training Loss:0.497 AVG Validation Loss:0.496 AVG Training Acc 79.86 % AVG Validation Acc 79.97 %\n",
      "Epoch:70/100 AVG Training Loss:0.494 AVG Validation Loss:0.493 AVG Training Acc 79.86 % AVG Validation Acc 79.97 %\n",
      "Epoch    79: reducing learning rate of group 0 to 1.0000e-04.\n",
      "Epoch:80/100 AVG Training Loss:0.496 AVG Validation Loss:0.494 AVG Training Acc 79.86 % AVG Validation Acc 79.97 %\n",
      "Epoch:90/100 AVG Training Loss:0.494 AVG Validation Loss:0.493 AVG Training Acc 79.86 % AVG Validation Acc 79.97 %\n",
      "Epoch:100/100 AVG Training Loss:0.494 AVG Validation Loss:0.491 AVG Training Acc 79.86 % AVG Validation Acc 79.97 %\n",
      "Split 124\n"
     ]
    },
    {
     "data": {
      "application/vnd.jupyter.widget-view+json": {
       "model_id": "5105d4fef15544e8a071eaa2db52823c",
       "version_major": 2,
       "version_minor": 0
      },
      "text/plain": [
       "  0%|          | 0/100 [00:00<?, ?it/s]"
      ]
     },
     "metadata": {},
     "output_type": "display_data"
    },
    {
     "name": "stdout",
     "output_type": "stream",
     "text": [
      "Epoch:10/100 AVG Training Loss:0.491 AVG Validation Loss:0.474 AVG Training Acc 79.59 % AVG Validation Acc 81.45 %\n",
      "Epoch    15: reducing learning rate of group 0 to 1.0000e-03.\n",
      "Epoch:20/100 AVG Training Loss:0.485 AVG Validation Loss:0.474 AVG Training Acc 79.69 % AVG Validation Acc 81.45 %\n",
      "Epoch:30/100 AVG Training Loss:0.480 AVG Validation Loss:0.477 AVG Training Acc 79.90 % AVG Validation Acc 81.18 %\n",
      "Epoch:40/100 AVG Training Loss:0.475 AVG Validation Loss:0.479 AVG Training Acc 79.87 % AVG Validation Acc 80.91 %\n",
      "Epoch    46: reducing learning rate of group 0 to 1.0000e-04.\n",
      "Epoch:50/100 AVG Training Loss:0.469 AVG Validation Loss:0.481 AVG Training Acc 80.07 % AVG Validation Acc 81.05 %\n",
      "Epoch:60/100 AVG Training Loss:0.467 AVG Validation Loss:0.482 AVG Training Acc 80.11 % AVG Validation Acc 81.05 %\n",
      "Epoch:70/100 AVG Training Loss:0.466 AVG Validation Loss:0.483 AVG Training Acc 80.02 % AVG Validation Acc 80.91 %\n",
      "Epoch    77: reducing learning rate of group 0 to 1.0000e-05.\n",
      "Epoch:80/100 AVG Training Loss:0.465 AVG Validation Loss:0.483 AVG Training Acc 80.20 % AVG Validation Acc 81.05 %\n",
      "Epoch:90/100 AVG Training Loss:0.466 AVG Validation Loss:0.483 AVG Training Acc 80.01 % AVG Validation Acc 81.18 %\n",
      "Epoch:100/100 AVG Training Loss:0.465 AVG Validation Loss:0.483 AVG Training Acc 80.05 % AVG Validation Acc 81.05 %\n",
      "Split 125\n"
     ]
    },
    {
     "data": {
      "application/vnd.jupyter.widget-view+json": {
       "model_id": "abc1d8a83479409fa5bf3fe461588557",
       "version_major": 2,
       "version_minor": 0
      },
      "text/plain": [
       "  0%|          | 0/100 [00:00<?, ?it/s]"
      ]
     },
     "metadata": {},
     "output_type": "display_data"
    },
    {
     "name": "stdout",
     "output_type": "stream",
     "text": [
      "Epoch:10/100 AVG Training Loss:0.487 AVG Validation Loss:0.517 AVG Training Acc 80.11 % AVG Validation Acc 77.69 %\n",
      "Epoch:20/100 AVG Training Loss:0.481 AVG Validation Loss:0.512 AVG Training Acc 80.13 % AVG Validation Acc 77.82 %\n",
      "Epoch:30/100 AVG Training Loss:0.479 AVG Validation Loss:0.515 AVG Training Acc 80.05 % AVG Validation Acc 77.82 %\n",
      "Epoch    37: reducing learning rate of group 0 to 1.0000e-03.\n",
      "Epoch:40/100 AVG Training Loss:0.459 AVG Validation Loss:0.520 AVG Training Acc 80.32 % AVG Validation Acc 77.96 %\n",
      "Epoch:50/100 AVG Training Loss:0.445 AVG Validation Loss:0.525 AVG Training Acc 80.68 % AVG Validation Acc 77.96 %\n",
      "Epoch:60/100 AVG Training Loss:0.435 AVG Validation Loss:0.538 AVG Training Acc 80.99 % AVG Validation Acc 77.55 %\n",
      "Epoch    68: reducing learning rate of group 0 to 1.0000e-04.\n",
      "Epoch:70/100 AVG Training Loss:0.424 AVG Validation Loss:0.551 AVG Training Acc 81.40 % AVG Validation Acc 77.55 %\n",
      "Epoch:80/100 AVG Training Loss:0.426 AVG Validation Loss:0.549 AVG Training Acc 81.37 % AVG Validation Acc 77.82 %\n",
      "Epoch:90/100 AVG Training Loss:0.423 AVG Validation Loss:0.556 AVG Training Acc 81.58 % AVG Validation Acc 77.55 %\n",
      "Epoch    99: reducing learning rate of group 0 to 1.0000e-05.\n",
      "Epoch:100/100 AVG Training Loss:0.422 AVG Validation Loss:0.544 AVG Training Acc 81.07 % AVG Validation Acc 77.69 %\n",
      "Split 126\n"
     ]
    },
    {
     "data": {
      "application/vnd.jupyter.widget-view+json": {
       "model_id": "fb35f5edb7bc40e0bf6a728389b76b04",
       "version_major": 2,
       "version_minor": 0
      },
      "text/plain": [
       "  0%|          | 0/100 [00:00<?, ?it/s]"
      ]
     },
     "metadata": {},
     "output_type": "display_data"
    },
    {
     "name": "stdout",
     "output_type": "stream",
     "text": [
      "Epoch:10/100 AVG Training Loss:0.493 AVG Validation Loss:0.472 AVG Training Acc 79.59 % AVG Validation Acc 81.59 %\n",
      "Epoch:20/100 AVG Training Loss:0.487 AVG Validation Loss:0.477 AVG Training Acc 79.69 % AVG Validation Acc 81.59 %\n",
      "Epoch:30/100 AVG Training Loss:0.482 AVG Validation Loss:0.465 AVG Training Acc 79.69 % AVG Validation Acc 81.59 %\n",
      "Epoch    38: reducing learning rate of group 0 to 1.0000e-03.\n",
      "Epoch:40/100 AVG Training Loss:0.462 AVG Validation Loss:0.472 AVG Training Acc 80.07 % AVG Validation Acc 81.72 %\n",
      "Epoch:50/100 AVG Training Loss:0.449 AVG Validation Loss:0.477 AVG Training Acc 80.35 % AVG Validation Acc 81.45 %\n",
      "Epoch:60/100 AVG Training Loss:0.433 AVG Validation Loss:0.489 AVG Training Acc 80.68 % AVG Validation Acc 81.05 %\n",
      "Epoch    69: reducing learning rate of group 0 to 1.0000e-04.\n",
      "Epoch:70/100 AVG Training Loss:0.426 AVG Validation Loss:0.500 AVG Training Acc 80.92 % AVG Validation Acc 80.91 %\n",
      "Epoch:80/100 AVG Training Loss:0.417 AVG Validation Loss:0.504 AVG Training Acc 81.20 % AVG Validation Acc 80.65 %\n",
      "Epoch:90/100 AVG Training Loss:0.418 AVG Validation Loss:0.504 AVG Training Acc 81.07 % AVG Validation Acc 80.65 %\n",
      "Epoch:100/100 AVG Training Loss:0.415 AVG Validation Loss:0.508 AVG Training Acc 81.49 % AVG Validation Acc 80.24 %\n",
      "Epoch   100: reducing learning rate of group 0 to 1.0000e-05.\n",
      "Split 127\n"
     ]
    },
    {
     "data": {
      "application/vnd.jupyter.widget-view+json": {
       "model_id": "229e689c33e242edada66ed88f007027",
       "version_major": 2,
       "version_minor": 0
      },
      "text/plain": [
       "  0%|          | 0/100 [00:00<?, ?it/s]"
      ]
     },
     "metadata": {},
     "output_type": "display_data"
    },
    {
     "name": "stdout",
     "output_type": "stream",
     "text": [
      "Epoch:10/100 AVG Training Loss:0.488 AVG Validation Loss:0.489 AVG Training Acc 79.73 % AVG Validation Acc 80.22 %\n",
      "Epoch    19: reducing learning rate of group 0 to 1.0000e-03.\n",
      "Epoch:20/100 AVG Training Loss:0.486 AVG Validation Loss:0.485 AVG Training Acc 79.81 % AVG Validation Acc 80.22 %\n",
      "Epoch:30/100 AVG Training Loss:0.480 AVG Validation Loss:0.486 AVG Training Acc 79.87 % AVG Validation Acc 80.22 %\n",
      "Epoch:40/100 AVG Training Loss:0.477 AVG Validation Loss:0.487 AVG Training Acc 79.90 % AVG Validation Acc 80.22 %\n",
      "Epoch:50/100 AVG Training Loss:0.475 AVG Validation Loss:0.488 AVG Training Acc 79.80 % AVG Validation Acc 80.08 %\n",
      "Epoch    50: reducing learning rate of group 0 to 1.0000e-04.\n",
      "Epoch:60/100 AVG Training Loss:0.472 AVG Validation Loss:0.490 AVG Training Acc 79.87 % AVG Validation Acc 80.08 %\n",
      "Epoch:70/100 AVG Training Loss:0.472 AVG Validation Loss:0.490 AVG Training Acc 79.93 % AVG Validation Acc 80.08 %\n",
      "Epoch:80/100 AVG Training Loss:0.470 AVG Validation Loss:0.491 AVG Training Acc 79.87 % AVG Validation Acc 80.08 %\n",
      "Epoch    81: reducing learning rate of group 0 to 1.0000e-05.\n",
      "Epoch:90/100 AVG Training Loss:0.472 AVG Validation Loss:0.490 AVG Training Acc 79.86 % AVG Validation Acc 80.08 %\n",
      "Epoch:100/100 AVG Training Loss:0.470 AVG Validation Loss:0.491 AVG Training Acc 79.71 % AVG Validation Acc 79.95 %\n",
      "Split 128\n"
     ]
    },
    {
     "data": {
      "application/vnd.jupyter.widget-view+json": {
       "model_id": "2c82108169a248d3bc8d2e518db9da11",
       "version_major": 2,
       "version_minor": 0
      },
      "text/plain": [
       "  0%|          | 0/100 [00:00<?, ?it/s]"
      ]
     },
     "metadata": {},
     "output_type": "display_data"
    },
    {
     "name": "stdout",
     "output_type": "stream",
     "text": [
      "Epoch:10/100 AVG Training Loss:0.496 AVG Validation Loss:0.486 AVG Training Acc 79.75 % AVG Validation Acc 80.08 %\n",
      "Epoch:20/100 AVG Training Loss:0.485 AVG Validation Loss:0.478 AVG Training Acc 79.83 % AVG Validation Acc 79.95 %\n",
      "Epoch:30/100 AVG Training Loss:0.492 AVG Validation Loss:0.483 AVG Training Acc 79.92 % AVG Validation Acc 79.81 %\n",
      "Epoch    35: reducing learning rate of group 0 to 1.0000e-03.\n",
      "Epoch:40/100 AVG Training Loss:0.471 AVG Validation Loss:0.479 AVG Training Acc 79.81 % AVG Validation Acc 79.95 %\n",
      "Epoch:50/100 AVG Training Loss:0.462 AVG Validation Loss:0.482 AVG Training Acc 80.13 % AVG Validation Acc 79.95 %\n",
      "Epoch:60/100 AVG Training Loss:0.452 AVG Validation Loss:0.486 AVG Training Acc 80.35 % AVG Validation Acc 79.95 %\n",
      "Epoch    66: reducing learning rate of group 0 to 1.0000e-04.\n",
      "Epoch:70/100 AVG Training Loss:0.442 AVG Validation Loss:0.500 AVG Training Acc 80.61 % AVG Validation Acc 79.41 %\n",
      "Epoch:80/100 AVG Training Loss:0.439 AVG Validation Loss:0.505 AVG Training Acc 80.56 % AVG Validation Acc 79.27 %\n",
      "Epoch:90/100 AVG Training Loss:0.437 AVG Validation Loss:0.504 AVG Training Acc 80.71 % AVG Validation Acc 79.14 %\n",
      "Epoch    97: reducing learning rate of group 0 to 1.0000e-05.\n",
      "Epoch:100/100 AVG Training Loss:0.441 AVG Validation Loss:0.505 AVG Training Acc 80.64 % AVG Validation Acc 79.14 %\n",
      "Split 129\n"
     ]
    },
    {
     "data": {
      "application/vnd.jupyter.widget-view+json": {
       "model_id": "84ab824852024792ba37c207ded1510b",
       "version_major": 2,
       "version_minor": 0
      },
      "text/plain": [
       "  0%|          | 0/100 [00:00<?, ?it/s]"
      ]
     },
     "metadata": {},
     "output_type": "display_data"
    },
    {
     "name": "stdout",
     "output_type": "stream",
     "text": [
      "Epoch:10/100 AVG Training Loss:0.492 AVG Validation Loss:0.488 AVG Training Acc 79.81 % AVG Validation Acc 80.08 %\n",
      "Epoch:20/100 AVG Training Loss:0.486 AVG Validation Loss:0.481 AVG Training Acc 79.86 % AVG Validation Acc 80.08 %\n",
      "Epoch:30/100 AVG Training Loss:0.478 AVG Validation Loss:0.474 AVG Training Acc 79.99 % AVG Validation Acc 80.22 %\n",
      "Epoch:40/100 AVG Training Loss:0.477 AVG Validation Loss:0.479 AVG Training Acc 79.90 % AVG Validation Acc 80.22 %\n",
      "Epoch:50/100 AVG Training Loss:0.479 AVG Validation Loss:0.485 AVG Training Acc 80.02 % AVG Validation Acc 79.95 %\n",
      "Epoch    52: reducing learning rate of group 0 to 1.0000e-03.\n",
      "Epoch:60/100 AVG Training Loss:0.449 AVG Validation Loss:0.498 AVG Training Acc 80.37 % AVG Validation Acc 79.68 %\n",
      "Epoch:70/100 AVG Training Loss:0.436 AVG Validation Loss:0.504 AVG Training Acc 80.71 % AVG Validation Acc 79.54 %\n",
      "Epoch:80/100 AVG Training Loss:0.430 AVG Validation Loss:0.512 AVG Training Acc 80.85 % AVG Validation Acc 79.41 %\n",
      "Epoch    83: reducing learning rate of group 0 to 1.0000e-04.\n",
      "Epoch:90/100 AVG Training Loss:0.422 AVG Validation Loss:0.513 AVG Training Acc 81.17 % AVG Validation Acc 79.14 %\n",
      "Epoch:100/100 AVG Training Loss:0.421 AVG Validation Loss:0.512 AVG Training Acc 81.07 % AVG Validation Acc 79.27 %\n",
      "Split 130\n"
     ]
    },
    {
     "data": {
      "application/vnd.jupyter.widget-view+json": {
       "model_id": "b56d35f709ed4d4d845aaa433726cc0a",
       "version_major": 2,
       "version_minor": 0
      },
      "text/plain": [
       "  0%|          | 0/100 [00:00<?, ?it/s]"
      ]
     },
     "metadata": {},
     "output_type": "display_data"
    },
    {
     "name": "stdout",
     "output_type": "stream",
     "text": [
      "Epoch:10/100 AVG Training Loss:0.489 AVG Validation Loss:0.522 AVG Training Acc 79.98 % AVG Validation Acc 77.93 %\n",
      "Epoch:20/100 AVG Training Loss:0.480 AVG Validation Loss:0.521 AVG Training Acc 80.10 % AVG Validation Acc 77.93 %\n",
      "Epoch    23: reducing learning rate of group 0 to 1.0000e-03.\n",
      "Epoch:30/100 AVG Training Loss:0.472 AVG Validation Loss:0.518 AVG Training Acc 80.11 % AVG Validation Acc 77.93 %\n",
      "Epoch:40/100 AVG Training Loss:0.461 AVG Validation Loss:0.528 AVG Training Acc 80.25 % AVG Validation Acc 77.93 %\n",
      "Epoch:50/100 AVG Training Loss:0.453 AVG Validation Loss:0.542 AVG Training Acc 80.40 % AVG Validation Acc 76.99 %\n",
      "Epoch    54: reducing learning rate of group 0 to 1.0000e-04.\n",
      "Epoch:60/100 AVG Training Loss:0.445 AVG Validation Loss:0.545 AVG Training Acc 80.49 % AVG Validation Acc 77.52 %\n",
      "Epoch:70/100 AVG Training Loss:0.443 AVG Validation Loss:0.549 AVG Training Acc 80.53 % AVG Validation Acc 76.99 %\n",
      "Epoch:80/100 AVG Training Loss:0.443 AVG Validation Loss:0.550 AVG Training Acc 80.26 % AVG Validation Acc 77.25 %\n",
      "Epoch    85: reducing learning rate of group 0 to 1.0000e-05.\n",
      "Epoch:90/100 AVG Training Loss:0.440 AVG Validation Loss:0.551 AVG Training Acc 80.43 % AVG Validation Acc 77.25 %\n",
      "Epoch:100/100 AVG Training Loss:0.441 AVG Validation Loss:0.550 AVG Training Acc 80.53 % AVG Validation Acc 77.25 %\n",
      "Split 131\n"
     ]
    },
    {
     "data": {
      "application/vnd.jupyter.widget-view+json": {
       "model_id": "3765930951eb460ea8f100557485b354",
       "version_major": 2,
       "version_minor": 0
      },
      "text/plain": [
       "  0%|          | 0/100 [00:00<?, ?it/s]"
      ]
     },
     "metadata": {},
     "output_type": "display_data"
    },
    {
     "name": "stdout",
     "output_type": "stream",
     "text": [
      "Epoch:10/100 AVG Training Loss:0.493 AVG Validation Loss:0.475 AVG Training Acc 79.75 % AVG Validation Acc 80.78 %\n",
      "Epoch:20/100 AVG Training Loss:0.486 AVG Validation Loss:0.475 AVG Training Acc 79.89 % AVG Validation Acc 80.78 %\n",
      "Epoch    26: reducing learning rate of group 0 to 1.0000e-03.\n",
      "Epoch:30/100 AVG Training Loss:0.471 AVG Validation Loss:0.470 AVG Training Acc 80.22 % AVG Validation Acc 80.65 %\n",
      "Epoch:40/100 AVG Training Loss:0.465 AVG Validation Loss:0.469 AVG Training Acc 80.10 % AVG Validation Acc 80.65 %\n",
      "Epoch:50/100 AVG Training Loss:0.454 AVG Validation Loss:0.473 AVG Training Acc 80.44 % AVG Validation Acc 80.24 %\n",
      "Epoch    57: reducing learning rate of group 0 to 1.0000e-04.\n",
      "Epoch:60/100 AVG Training Loss:0.447 AVG Validation Loss:0.477 AVG Training Acc 80.27 % AVG Validation Acc 80.51 %\n",
      "Epoch:70/100 AVG Training Loss:0.443 AVG Validation Loss:0.480 AVG Training Acc 80.50 % AVG Validation Acc 80.38 %\n",
      "Epoch:80/100 AVG Training Loss:0.443 AVG Validation Loss:0.480 AVG Training Acc 80.54 % AVG Validation Acc 80.38 %\n",
      "Epoch    88: reducing learning rate of group 0 to 1.0000e-05.\n",
      "Epoch:90/100 AVG Training Loss:0.442 AVG Validation Loss:0.483 AVG Training Acc 80.65 % AVG Validation Acc 80.38 %\n",
      "Epoch:100/100 AVG Training Loss:0.441 AVG Validation Loss:0.484 AVG Training Acc 80.59 % AVG Validation Acc 80.24 %\n",
      "Split 132\n"
     ]
    },
    {
     "data": {
      "application/vnd.jupyter.widget-view+json": {
       "model_id": "6d7c4e6186f841aba1a46b30f6b5bd3a",
       "version_major": 2,
       "version_minor": 0
      },
      "text/plain": [
       "  0%|          | 0/100 [00:00<?, ?it/s]"
      ]
     },
     "metadata": {},
     "output_type": "display_data"
    },
    {
     "name": "stdout",
     "output_type": "stream",
     "text": [
      "Epoch:10/100 AVG Training Loss:0.489 AVG Validation Loss:0.497 AVG Training Acc 79.87 % AVG Validation Acc 79.57 %\n",
      "Epoch:20/100 AVG Training Loss:0.485 AVG Validation Loss:0.494 AVG Training Acc 79.99 % AVG Validation Acc 79.44 %\n",
      "Epoch:30/100 AVG Training Loss:0.480 AVG Validation Loss:0.503 AVG Training Acc 79.95 % AVG Validation Acc 79.57 %\n",
      "Epoch    37: reducing learning rate of group 0 to 1.0000e-03.\n",
      "Epoch:40/100 AVG Training Loss:0.462 AVG Validation Loss:0.505 AVG Training Acc 80.04 % AVG Validation Acc 79.44 %\n",
      "Epoch:50/100 AVG Training Loss:0.449 AVG Validation Loss:0.528 AVG Training Acc 80.39 % AVG Validation Acc 79.44 %\n",
      "Epoch:60/100 AVG Training Loss:0.441 AVG Validation Loss:0.536 AVG Training Acc 80.59 % AVG Validation Acc 79.44 %\n",
      "Epoch    68: reducing learning rate of group 0 to 1.0000e-04.\n",
      "Epoch:70/100 AVG Training Loss:0.431 AVG Validation Loss:0.550 AVG Training Acc 80.98 % AVG Validation Acc 78.90 %\n",
      "Epoch:80/100 AVG Training Loss:0.430 AVG Validation Loss:0.558 AVG Training Acc 80.84 % AVG Validation Acc 79.03 %\n",
      "Epoch:90/100 AVG Training Loss:0.429 AVG Validation Loss:0.563 AVG Training Acc 81.17 % AVG Validation Acc 78.90 %\n",
      "Epoch    99: reducing learning rate of group 0 to 1.0000e-05.\n",
      "Epoch:100/100 AVG Training Loss:0.428 AVG Validation Loss:0.563 AVG Training Acc 80.80 % AVG Validation Acc 78.90 %\n",
      "Split 133\n"
     ]
    },
    {
     "data": {
      "application/vnd.jupyter.widget-view+json": {
       "model_id": "73ce4b9b7d114637a9f6927befd639a3",
       "version_major": 2,
       "version_minor": 0
      },
      "text/plain": [
       "  0%|          | 0/100 [00:00<?, ?it/s]"
      ]
     },
     "metadata": {},
     "output_type": "display_data"
    },
    {
     "name": "stdout",
     "output_type": "stream",
     "text": [
      "Epoch:10/100 AVG Training Loss:0.492 AVG Validation Loss:0.484 AVG Training Acc 79.86 % AVG Validation Acc 79.84 %\n",
      "Epoch:20/100 AVG Training Loss:0.483 AVG Validation Loss:0.488 AVG Training Acc 79.92 % AVG Validation Acc 79.84 %\n",
      "Epoch:30/100 AVG Training Loss:0.482 AVG Validation Loss:0.481 AVG Training Acc 80.02 % AVG Validation Acc 79.70 %\n",
      "Epoch:40/100 AVG Training Loss:0.459 AVG Validation Loss:0.491 AVG Training Acc 80.36 % AVG Validation Acc 79.30 %\n",
      "Epoch    41: reducing learning rate of group 0 to 1.0000e-03.\n",
      "Epoch:50/100 AVG Training Loss:0.441 AVG Validation Loss:0.516 AVG Training Acc 80.54 % AVG Validation Acc 79.44 %\n",
      "Epoch:60/100 AVG Training Loss:0.428 AVG Validation Loss:0.534 AVG Training Acc 80.93 % AVG Validation Acc 78.76 %\n",
      "Epoch:70/100 AVG Training Loss:0.414 AVG Validation Loss:0.548 AVG Training Acc 81.31 % AVG Validation Acc 78.23 %\n",
      "Epoch    72: reducing learning rate of group 0 to 1.0000e-04.\n",
      "Epoch:80/100 AVG Training Loss:0.405 AVG Validation Loss:0.551 AVG Training Acc 81.32 % AVG Validation Acc 78.09 %\n",
      "Epoch:90/100 AVG Training Loss:0.405 AVG Validation Loss:0.557 AVG Training Acc 81.47 % AVG Validation Acc 78.09 %\n",
      "Epoch:100/100 AVG Training Loss:0.402 AVG Validation Loss:0.555 AVG Training Acc 81.50 % AVG Validation Acc 78.09 %\n",
      "Split 134\n"
     ]
    },
    {
     "data": {
      "application/vnd.jupyter.widget-view+json": {
       "model_id": "a652dd78b83a4a5dbaf3cc88bc77009b",
       "version_major": 2,
       "version_minor": 0
      },
      "text/plain": [
       "  0%|          | 0/100 [00:00<?, ?it/s]"
      ]
     },
     "metadata": {},
     "output_type": "display_data"
    },
    {
     "name": "stdout",
     "output_type": "stream",
     "text": [
      "Epoch:10/100 AVG Training Loss:0.495 AVG Validation Loss:0.480 AVG Training Acc 79.75 % AVG Validation Acc 80.65 %\n",
      "Epoch:20/100 AVG Training Loss:0.487 AVG Validation Loss:0.478 AVG Training Acc 79.78 % AVG Validation Acc 80.91 %\n",
      "Epoch:30/100 AVG Training Loss:0.486 AVG Validation Loss:0.475 AVG Training Acc 79.78 % AVG Validation Acc 80.65 %\n",
      "Epoch    33: reducing learning rate of group 0 to 1.0000e-03.\n",
      "Epoch:40/100 AVG Training Loss:0.471 AVG Validation Loss:0.477 AVG Training Acc 80.07 % AVG Validation Acc 80.91 %\n",
      "Epoch:50/100 AVG Training Loss:0.463 AVG Validation Loss:0.483 AVG Training Acc 80.01 % AVG Validation Acc 80.78 %\n",
      "Epoch:60/100 AVG Training Loss:0.454 AVG Validation Loss:0.487 AVG Training Acc 80.63 % AVG Validation Acc 80.51 %\n",
      "Epoch    64: reducing learning rate of group 0 to 1.0000e-04.\n",
      "Epoch:70/100 AVG Training Loss:0.451 AVG Validation Loss:0.490 AVG Training Acc 80.57 % AVG Validation Acc 80.38 %\n",
      "Epoch:80/100 AVG Training Loss:0.448 AVG Validation Loss:0.492 AVG Training Acc 80.84 % AVG Validation Acc 80.24 %\n",
      "Epoch:90/100 AVG Training Loss:0.447 AVG Validation Loss:0.494 AVG Training Acc 80.71 % AVG Validation Acc 80.24 %\n",
      "Epoch    95: reducing learning rate of group 0 to 1.0000e-05.\n",
      "Epoch:100/100 AVG Training Loss:0.444 AVG Validation Loss:0.496 AVG Training Acc 80.86 % AVG Validation Acc 80.24 %\n",
      "Split 135\n"
     ]
    },
    {
     "data": {
      "application/vnd.jupyter.widget-view+json": {
       "model_id": "8ffbf14242274445b2d9b8ac0c4404c8",
       "version_major": 2,
       "version_minor": 0
      },
      "text/plain": [
       "  0%|          | 0/100 [00:00<?, ?it/s]"
      ]
     },
     "metadata": {},
     "output_type": "display_data"
    },
    {
     "name": "stdout",
     "output_type": "stream",
     "text": [
      "Epoch:10/100 AVG Training Loss:0.490 AVG Validation Loss:0.506 AVG Training Acc 79.87 % AVG Validation Acc 79.17 %\n",
      "Epoch    16: reducing learning rate of group 0 to 1.0000e-03.\n",
      "Epoch:20/100 AVG Training Loss:0.477 AVG Validation Loss:0.508 AVG Training Acc 80.05 % AVG Validation Acc 78.76 %\n",
      "Epoch:30/100 AVG Training Loss:0.469 AVG Validation Loss:0.513 AVG Training Acc 80.26 % AVG Validation Acc 78.76 %\n",
      "Epoch:40/100 AVG Training Loss:0.463 AVG Validation Loss:0.522 AVG Training Acc 80.48 % AVG Validation Acc 77.69 %\n",
      "Epoch    47: reducing learning rate of group 0 to 1.0000e-04.\n",
      "Epoch:50/100 AVG Training Loss:0.455 AVG Validation Loss:0.532 AVG Training Acc 80.75 % AVG Validation Acc 77.15 %\n",
      "Epoch:60/100 AVG Training Loss:0.452 AVG Validation Loss:0.534 AVG Training Acc 80.78 % AVG Validation Acc 77.42 %\n",
      "Epoch:70/100 AVG Training Loss:0.449 AVG Validation Loss:0.535 AVG Training Acc 81.05 % AVG Validation Acc 77.42 %\n",
      "Epoch    78: reducing learning rate of group 0 to 1.0000e-05.\n",
      "Epoch:80/100 AVG Training Loss:0.450 AVG Validation Loss:0.536 AVG Training Acc 80.81 % AVG Validation Acc 77.28 %\n",
      "Epoch:90/100 AVG Training Loss:0.449 AVG Validation Loss:0.538 AVG Training Acc 80.81 % AVG Validation Acc 77.55 %\n",
      "Epoch:100/100 AVG Training Loss:0.450 AVG Validation Loss:0.539 AVG Training Acc 80.84 % AVG Validation Acc 77.42 %\n",
      "Split 136\n"
     ]
    },
    {
     "data": {
      "application/vnd.jupyter.widget-view+json": {
       "model_id": "2c49e3983342482a83549ba8e64c76f5",
       "version_major": 2,
       "version_minor": 0
      },
      "text/plain": [
       "  0%|          | 0/100 [00:00<?, ?it/s]"
      ]
     },
     "metadata": {},
     "output_type": "display_data"
    },
    {
     "name": "stdout",
     "output_type": "stream",
     "text": [
      "Epoch:10/100 AVG Training Loss:0.490 AVG Validation Loss:0.501 AVG Training Acc 79.96 % AVG Validation Acc 79.03 %\n",
      "Epoch:20/100 AVG Training Loss:0.485 AVG Validation Loss:0.496 AVG Training Acc 80.04 % AVG Validation Acc 78.90 %\n",
      "Epoch:30/100 AVG Training Loss:0.476 AVG Validation Loss:0.491 AVG Training Acc 80.05 % AVG Validation Acc 79.17 %\n",
      "Epoch    35: reducing learning rate of group 0 to 1.0000e-03.\n",
      "Epoch:40/100 AVG Training Loss:0.454 AVG Validation Loss:0.511 AVG Training Acc 80.36 % AVG Validation Acc 78.76 %\n",
      "Epoch:50/100 AVG Training Loss:0.443 AVG Validation Loss:0.524 AVG Training Acc 80.69 % AVG Validation Acc 78.23 %\n",
      "Epoch:60/100 AVG Training Loss:0.431 AVG Validation Loss:0.532 AVG Training Acc 81.17 % AVG Validation Acc 77.55 %\n",
      "Epoch    66: reducing learning rate of group 0 to 1.0000e-04.\n",
      "Epoch:70/100 AVG Training Loss:0.422 AVG Validation Loss:0.541 AVG Training Acc 81.43 % AVG Validation Acc 77.55 %\n",
      "Epoch:80/100 AVG Training Loss:0.417 AVG Validation Loss:0.544 AVG Training Acc 81.62 % AVG Validation Acc 77.42 %\n",
      "Epoch:90/100 AVG Training Loss:0.417 AVG Validation Loss:0.550 AVG Training Acc 81.59 % AVG Validation Acc 77.28 %\n",
      "Epoch    97: reducing learning rate of group 0 to 1.0000e-05.\n",
      "Epoch:100/100 AVG Training Loss:0.420 AVG Validation Loss:0.547 AVG Training Acc 81.66 % AVG Validation Acc 77.28 %\n",
      "Split 137\n"
     ]
    },
    {
     "data": {
      "application/vnd.jupyter.widget-view+json": {
       "model_id": "df0a76fedf8a4bfdaebebef85429a9c3",
       "version_major": 2,
       "version_minor": 0
      },
      "text/plain": [
       "  0%|          | 0/100 [00:00<?, ?it/s]"
      ]
     },
     "metadata": {},
     "output_type": "display_data"
    },
    {
     "name": "stdout",
     "output_type": "stream",
     "text": [
      "Epoch:10/100 AVG Training Loss:0.490 AVG Validation Loss:0.505 AVG Training Acc 79.81 % AVG Validation Acc 79.41 %\n",
      "Epoch:20/100 AVG Training Loss:0.493 AVG Validation Loss:0.503 AVG Training Acc 79.95 % AVG Validation Acc 79.41 %\n",
      "Epoch:30/100 AVG Training Loss:0.493 AVG Validation Loss:0.502 AVG Training Acc 79.87 % AVG Validation Acc 79.41 %\n",
      "Epoch:40/100 AVG Training Loss:0.490 AVG Validation Loss:0.501 AVG Training Acc 79.92 % AVG Validation Acc 79.41 %\n",
      "Epoch:50/100 AVG Training Loss:0.485 AVG Validation Loss:0.501 AVG Training Acc 79.84 % AVG Validation Acc 79.41 %\n",
      "Epoch    55: reducing learning rate of group 0 to 1.0000e-03.\n",
      "Epoch:60/100 AVG Training Loss:0.469 AVG Validation Loss:0.516 AVG Training Acc 79.87 % AVG Validation Acc 79.41 %\n",
      "Epoch:70/100 AVG Training Loss:0.462 AVG Validation Loss:0.524 AVG Training Acc 79.98 % AVG Validation Acc 79.41 %\n",
      "Epoch:80/100 AVG Training Loss:0.451 AVG Validation Loss:0.528 AVG Training Acc 80.40 % AVG Validation Acc 79.27 %\n",
      "Epoch    86: reducing learning rate of group 0 to 1.0000e-04.\n",
      "Epoch:90/100 AVG Training Loss:0.445 AVG Validation Loss:0.534 AVG Training Acc 80.17 % AVG Validation Acc 79.27 %\n",
      "Epoch:100/100 AVG Training Loss:0.445 AVG Validation Loss:0.534 AVG Training Acc 80.43 % AVG Validation Acc 79.14 %\n",
      "Split 138\n"
     ]
    },
    {
     "data": {
      "application/vnd.jupyter.widget-view+json": {
       "model_id": "3f1893477763470aafab5e8d4bca473f",
       "version_major": 2,
       "version_minor": 0
      },
      "text/plain": [
       "  0%|          | 0/100 [00:00<?, ?it/s]"
      ]
     },
     "metadata": {},
     "output_type": "display_data"
    },
    {
     "name": "stdout",
     "output_type": "stream",
     "text": [
      "Epoch:10/100 AVG Training Loss:0.488 AVG Validation Loss:0.506 AVG Training Acc 80.01 % AVG Validation Acc 78.73 %\n",
      "Epoch:20/100 AVG Training Loss:0.484 AVG Validation Loss:0.503 AVG Training Acc 80.13 % AVG Validation Acc 78.87 %\n",
      "Epoch:30/100 AVG Training Loss:0.478 AVG Validation Loss:0.499 AVG Training Acc 80.14 % AVG Validation Acc 78.60 %\n",
      "Epoch:40/100 AVG Training Loss:0.482 AVG Validation Loss:0.499 AVG Training Acc 79.98 % AVG Validation Acc 78.73 %\n",
      "Epoch    42: reducing learning rate of group 0 to 1.0000e-03.\n",
      "Epoch:50/100 AVG Training Loss:0.458 AVG Validation Loss:0.513 AVG Training Acc 80.49 % AVG Validation Acc 78.33 %\n",
      "Epoch:60/100 AVG Training Loss:0.448 AVG Validation Loss:0.514 AVG Training Acc 80.80 % AVG Validation Acc 78.87 %\n",
      "Epoch:70/100 AVG Training Loss:0.442 AVG Validation Loss:0.526 AVG Training Acc 80.80 % AVG Validation Acc 79.27 %\n",
      "Epoch    73: reducing learning rate of group 0 to 1.0000e-04.\n",
      "Epoch:80/100 AVG Training Loss:0.432 AVG Validation Loss:0.532 AVG Training Acc 81.13 % AVG Validation Acc 79.27 %\n",
      "Epoch:90/100 AVG Training Loss:0.430 AVG Validation Loss:0.536 AVG Training Acc 81.23 % AVG Validation Acc 79.27 %\n",
      "Epoch:100/100 AVG Training Loss:0.431 AVG Validation Loss:0.542 AVG Training Acc 81.25 % AVG Validation Acc 79.54 %\n",
      "Split 139\n"
     ]
    },
    {
     "data": {
      "application/vnd.jupyter.widget-view+json": {
       "model_id": "03b5734ef009403eb21229024309d2ad",
       "version_major": 2,
       "version_minor": 0
      },
      "text/plain": [
       "  0%|          | 0/100 [00:00<?, ?it/s]"
      ]
     },
     "metadata": {},
     "output_type": "display_data"
    },
    {
     "name": "stdout",
     "output_type": "stream",
     "text": [
      "Epoch:10/100 AVG Training Loss:0.492 AVG Validation Loss:0.484 AVG Training Acc 79.78 % AVG Validation Acc 80.22 %\n",
      "Epoch:20/100 AVG Training Loss:0.485 AVG Validation Loss:0.478 AVG Training Acc 79.80 % AVG Validation Acc 80.22 %\n",
      "Epoch:30/100 AVG Training Loss:0.479 AVG Validation Loss:0.478 AVG Training Acc 79.74 % AVG Validation Acc 80.08 %\n",
      "Epoch    31: reducing learning rate of group 0 to 1.0000e-03.\n",
      "Epoch:40/100 AVG Training Loss:0.459 AVG Validation Loss:0.481 AVG Training Acc 80.13 % AVG Validation Acc 80.48 %\n",
      "Epoch:50/100 AVG Training Loss:0.451 AVG Validation Loss:0.497 AVG Training Acc 80.40 % AVG Validation Acc 80.22 %\n",
      "Epoch:60/100 AVG Training Loss:0.439 AVG Validation Loss:0.505 AVG Training Acc 80.52 % AVG Validation Acc 79.95 %\n",
      "Epoch    62: reducing learning rate of group 0 to 1.0000e-04.\n",
      "Epoch:70/100 AVG Training Loss:0.429 AVG Validation Loss:0.510 AVG Training Acc 80.79 % AVG Validation Acc 79.95 %\n",
      "Epoch:80/100 AVG Training Loss:0.425 AVG Validation Loss:0.510 AVG Training Acc 80.94 % AVG Validation Acc 79.95 %\n",
      "Epoch:90/100 AVG Training Loss:0.425 AVG Validation Loss:0.516 AVG Training Acc 80.73 % AVG Validation Acc 79.95 %\n",
      "Epoch    93: reducing learning rate of group 0 to 1.0000e-05.\n",
      "Epoch:100/100 AVG Training Loss:0.427 AVG Validation Loss:0.512 AVG Training Acc 80.82 % AVG Validation Acc 79.95 %\n",
      "Split 140\n"
     ]
    },
    {
     "data": {
      "application/vnd.jupyter.widget-view+json": {
       "model_id": "ebb8d3fc3a3146c38d66609073d3ea84",
       "version_major": 2,
       "version_minor": 0
      },
      "text/plain": [
       "  0%|          | 0/100 [00:00<?, ?it/s]"
      ]
     },
     "metadata": {},
     "output_type": "display_data"
    },
    {
     "name": "stdout",
     "output_type": "stream",
     "text": [
      "Epoch:10/100 AVG Training Loss:0.495 AVG Validation Loss:0.466 AVG Training Acc 79.52 % AVG Validation Acc 81.29 %\n",
      "Epoch:20/100 AVG Training Loss:0.489 AVG Validation Loss:0.463 AVG Training Acc 79.74 % AVG Validation Acc 81.29 %\n",
      "Epoch:30/100 AVG Training Loss:0.484 AVG Validation Loss:0.458 AVG Training Acc 79.74 % AVG Validation Acc 81.29 %\n",
      "Epoch    38: reducing learning rate of group 0 to 1.0000e-03.\n",
      "Epoch:40/100 AVG Training Loss:0.467 AVG Validation Loss:0.463 AVG Training Acc 80.16 % AVG Validation Acc 81.16 %\n",
      "Epoch:50/100 AVG Training Loss:0.458 AVG Validation Loss:0.464 AVG Training Acc 80.25 % AVG Validation Acc 81.29 %\n",
      "Epoch:60/100 AVG Training Loss:0.447 AVG Validation Loss:0.472 AVG Training Acc 80.40 % AVG Validation Acc 81.16 %\n",
      "Epoch    69: reducing learning rate of group 0 to 1.0000e-04.\n",
      "Epoch:70/100 AVG Training Loss:0.441 AVG Validation Loss:0.484 AVG Training Acc 80.82 % AVG Validation Acc 81.02 %\n",
      "Epoch:80/100 AVG Training Loss:0.435 AVG Validation Loss:0.482 AVG Training Acc 80.85 % AVG Validation Acc 80.89 %\n",
      "Epoch:90/100 AVG Training Loss:0.436 AVG Validation Loss:0.488 AVG Training Acc 81.01 % AVG Validation Acc 80.62 %\n",
      "Epoch:100/100 AVG Training Loss:0.433 AVG Validation Loss:0.487 AVG Training Acc 81.07 % AVG Validation Acc 80.22 %\n",
      "Epoch   100: reducing learning rate of group 0 to 1.0000e-05.\n",
      "Split 141\n"
     ]
    },
    {
     "data": {
      "application/vnd.jupyter.widget-view+json": {
       "model_id": "6785c6a1240f4112a909e3835abc1466",
       "version_major": 2,
       "version_minor": 0
      },
      "text/plain": [
       "  0%|          | 0/100 [00:00<?, ?it/s]"
      ]
     },
     "metadata": {},
     "output_type": "display_data"
    },
    {
     "name": "stdout",
     "output_type": "stream",
     "text": [
      "Epoch:10/100 AVG Training Loss:0.489 AVG Validation Loss:0.507 AVG Training Acc 79.92 % AVG Validation Acc 78.76 %\n",
      "Epoch:20/100 AVG Training Loss:0.485 AVG Validation Loss:0.502 AVG Training Acc 79.92 % AVG Validation Acc 78.76 %\n",
      "Epoch:30/100 AVG Training Loss:0.479 AVG Validation Loss:0.511 AVG Training Acc 79.90 % AVG Validation Acc 78.76 %\n",
      "Epoch    31: reducing learning rate of group 0 to 1.0000e-03.\n",
      "Epoch:40/100 AVG Training Loss:0.463 AVG Validation Loss:0.519 AVG Training Acc 80.19 % AVG Validation Acc 78.23 %\n",
      "Epoch:50/100 AVG Training Loss:0.456 AVG Validation Loss:0.526 AVG Training Acc 80.04 % AVG Validation Acc 78.36 %\n",
      "Epoch:60/100 AVG Training Loss:0.451 AVG Validation Loss:0.526 AVG Training Acc 80.38 % AVG Validation Acc 78.49 %\n",
      "Epoch    62: reducing learning rate of group 0 to 1.0000e-04.\n",
      "Epoch:70/100 AVG Training Loss:0.446 AVG Validation Loss:0.529 AVG Training Acc 80.36 % AVG Validation Acc 77.96 %\n",
      "Epoch:80/100 AVG Training Loss:0.441 AVG Validation Loss:0.528 AVG Training Acc 80.60 % AVG Validation Acc 78.09 %\n",
      "Epoch:90/100 AVG Training Loss:0.442 AVG Validation Loss:0.533 AVG Training Acc 80.45 % AVG Validation Acc 78.23 %\n",
      "Epoch    93: reducing learning rate of group 0 to 1.0000e-05.\n",
      "Epoch:100/100 AVG Training Loss:0.443 AVG Validation Loss:0.531 AVG Training Acc 80.32 % AVG Validation Acc 78.49 %\n",
      "Split 142\n"
     ]
    },
    {
     "data": {
      "application/vnd.jupyter.widget-view+json": {
       "model_id": "c7101a79526c4ddc96dd7ac80b117fbf",
       "version_major": 2,
       "version_minor": 0
      },
      "text/plain": [
       "  0%|          | 0/100 [00:00<?, ?it/s]"
      ]
     },
     "metadata": {},
     "output_type": "display_data"
    },
    {
     "name": "stdout",
     "output_type": "stream",
     "text": [
      "Epoch:10/100 AVG Training Loss:0.492 AVG Validation Loss:0.484 AVG Training Acc 79.80 % AVG Validation Acc 80.24 %\n",
      "Epoch:20/100 AVG Training Loss:0.484 AVG Validation Loss:0.489 AVG Training Acc 79.77 % AVG Validation Acc 79.97 %\n",
      "Epoch    25: reducing learning rate of group 0 to 1.0000e-03.\n",
      "Epoch:30/100 AVG Training Loss:0.467 AVG Validation Loss:0.485 AVG Training Acc 79.93 % AVG Validation Acc 79.84 %\n",
      "Epoch:40/100 AVG Training Loss:0.456 AVG Validation Loss:0.490 AVG Training Acc 80.08 % AVG Validation Acc 79.57 %\n",
      "Epoch:50/100 AVG Training Loss:0.449 AVG Validation Loss:0.498 AVG Training Acc 80.26 % AVG Validation Acc 79.57 %\n",
      "Epoch    56: reducing learning rate of group 0 to 1.0000e-04.\n",
      "Epoch:60/100 AVG Training Loss:0.438 AVG Validation Loss:0.505 AVG Training Acc 80.47 % AVG Validation Acc 79.17 %\n",
      "Epoch:70/100 AVG Training Loss:0.437 AVG Validation Loss:0.505 AVG Training Acc 80.36 % AVG Validation Acc 79.17 %\n",
      "Epoch:80/100 AVG Training Loss:0.435 AVG Validation Loss:0.507 AVG Training Acc 80.20 % AVG Validation Acc 79.44 %\n",
      "Epoch    87: reducing learning rate of group 0 to 1.0000e-05.\n",
      "Epoch:90/100 AVG Training Loss:0.433 AVG Validation Loss:0.507 AVG Training Acc 80.63 % AVG Validation Acc 79.44 %\n",
      "Epoch:100/100 AVG Training Loss:0.432 AVG Validation Loss:0.509 AVG Training Acc 80.51 % AVG Validation Acc 79.30 %\n",
      "Split 143\n"
     ]
    },
    {
     "data": {
      "application/vnd.jupyter.widget-view+json": {
       "model_id": "8502dff46ed84e4a8d0c7e767891eff5",
       "version_major": 2,
       "version_minor": 0
      },
      "text/plain": [
       "  0%|          | 0/100 [00:00<?, ?it/s]"
      ]
     },
     "metadata": {},
     "output_type": "display_data"
    },
    {
     "name": "stdout",
     "output_type": "stream",
     "text": [
      "Epoch:10/100 AVG Training Loss:0.494 AVG Validation Loss:0.473 AVG Training Acc 79.75 % AVG Validation Acc 81.18 %\n",
      "Epoch:20/100 AVG Training Loss:0.488 AVG Validation Loss:0.469 AVG Training Acc 79.69 % AVG Validation Acc 81.18 %\n",
      "Epoch:30/100 AVG Training Loss:0.506 AVG Validation Loss:0.485 AVG Training Acc 79.69 % AVG Validation Acc 81.18 %\n",
      "Epoch    30: reducing learning rate of group 0 to 1.0000e-03.\n",
      "Epoch:40/100 AVG Training Loss:0.494 AVG Validation Loss:0.470 AVG Training Acc 79.72 % AVG Validation Acc 81.18 %\n",
      "Epoch:50/100 AVG Training Loss:0.492 AVG Validation Loss:0.470 AVG Training Acc 79.69 % AVG Validation Acc 81.18 %\n",
      "Epoch:60/100 AVG Training Loss:0.489 AVG Validation Loss:0.470 AVG Training Acc 79.75 % AVG Validation Acc 81.18 %\n",
      "Epoch    61: reducing learning rate of group 0 to 1.0000e-04.\n",
      "Epoch:70/100 AVG Training Loss:0.489 AVG Validation Loss:0.472 AVG Training Acc 79.74 % AVG Validation Acc 81.18 %\n",
      "Epoch:80/100 AVG Training Loss:0.487 AVG Validation Loss:0.471 AVG Training Acc 79.75 % AVG Validation Acc 81.18 %\n",
      "Epoch:90/100 AVG Training Loss:0.485 AVG Validation Loss:0.472 AVG Training Acc 79.80 % AVG Validation Acc 81.18 %\n",
      "Epoch    92: reducing learning rate of group 0 to 1.0000e-05.\n",
      "Epoch:100/100 AVG Training Loss:0.487 AVG Validation Loss:0.473 AVG Training Acc 79.75 % AVG Validation Acc 81.18 %\n",
      "Split 144\n"
     ]
    },
    {
     "data": {
      "application/vnd.jupyter.widget-view+json": {
       "model_id": "e983568ee8604ecb8ee337350eb3a09f",
       "version_major": 2,
       "version_minor": 0
      },
      "text/plain": [
       "  0%|          | 0/100 [00:00<?, ?it/s]"
      ]
     },
     "metadata": {},
     "output_type": "display_data"
    },
    {
     "name": "stdout",
     "output_type": "stream",
     "text": [
      "Epoch:10/100 AVG Training Loss:0.493 AVG Validation Loss:0.491 AVG Training Acc 79.80 % AVG Validation Acc 79.84 %\n",
      "Epoch:20/100 AVG Training Loss:0.490 AVG Validation Loss:0.485 AVG Training Acc 79.83 % AVG Validation Acc 79.84 %\n",
      "Epoch:30/100 AVG Training Loss:0.483 AVG Validation Loss:0.476 AVG Training Acc 79.95 % AVG Validation Acc 79.97 %\n",
      "Epoch:40/100 AVG Training Loss:0.478 AVG Validation Loss:0.491 AVG Training Acc 79.92 % AVG Validation Acc 79.97 %\n",
      "Epoch    41: reducing learning rate of group 0 to 1.0000e-03.\n",
      "Epoch:50/100 AVG Training Loss:0.457 AVG Validation Loss:0.493 AVG Training Acc 80.30 % AVG Validation Acc 79.30 %\n",
      "Epoch:60/100 AVG Training Loss:0.448 AVG Validation Loss:0.501 AVG Training Acc 80.57 % AVG Validation Acc 78.90 %\n",
      "Epoch:70/100 AVG Training Loss:0.439 AVG Validation Loss:0.506 AVG Training Acc 80.68 % AVG Validation Acc 78.76 %\n",
      "Epoch    72: reducing learning rate of group 0 to 1.0000e-04.\n",
      "Epoch:80/100 AVG Training Loss:0.431 AVG Validation Loss:0.509 AVG Training Acc 81.10 % AVG Validation Acc 78.63 %\n",
      "Epoch:90/100 AVG Training Loss:0.427 AVG Validation Loss:0.512 AVG Training Acc 81.53 % AVG Validation Acc 78.63 %\n",
      "Epoch:100/100 AVG Training Loss:0.429 AVG Validation Loss:0.512 AVG Training Acc 81.14 % AVG Validation Acc 78.76 %\n",
      "Split 145\n"
     ]
    },
    {
     "data": {
      "application/vnd.jupyter.widget-view+json": {
       "model_id": "46cf315823d84cb99937844ba2be2aae",
       "version_major": 2,
       "version_minor": 0
      },
      "text/plain": [
       "  0%|          | 0/100 [00:00<?, ?it/s]"
      ]
     },
     "metadata": {},
     "output_type": "display_data"
    },
    {
     "name": "stdout",
     "output_type": "stream",
     "text": [
      "Epoch:10/100 AVG Training Loss:0.495 AVG Validation Loss:0.473 AVG Training Acc 79.74 % AVG Validation Acc 81.18 %\n",
      "Epoch:20/100 AVG Training Loss:0.487 AVG Validation Loss:0.465 AVG Training Acc 79.75 % AVG Validation Acc 81.18 %\n",
      "Epoch:30/100 AVG Training Loss:0.478 AVG Validation Loss:0.464 AVG Training Acc 79.71 % AVG Validation Acc 80.91 %\n",
      "Epoch    30: reducing learning rate of group 0 to 1.0000e-03.\n",
      "Epoch:40/100 AVG Training Loss:0.457 AVG Validation Loss:0.479 AVG Training Acc 79.98 % AVG Validation Acc 80.78 %\n",
      "Epoch:50/100 AVG Training Loss:0.444 AVG Validation Loss:0.497 AVG Training Acc 80.30 % AVG Validation Acc 79.70 %\n",
      "Epoch:60/100 AVG Training Loss:0.440 AVG Validation Loss:0.505 AVG Training Acc 80.47 % AVG Validation Acc 79.17 %\n",
      "Epoch    61: reducing learning rate of group 0 to 1.0000e-04.\n",
      "Epoch:70/100 AVG Training Loss:0.434 AVG Validation Loss:0.512 AVG Training Acc 80.69 % AVG Validation Acc 79.17 %\n",
      "Epoch:80/100 AVG Training Loss:0.432 AVG Validation Loss:0.514 AVG Training Acc 80.60 % AVG Validation Acc 78.90 %\n",
      "Epoch:90/100 AVG Training Loss:0.433 AVG Validation Loss:0.521 AVG Training Acc 80.65 % AVG Validation Acc 79.03 %\n",
      "Epoch    92: reducing learning rate of group 0 to 1.0000e-05.\n",
      "Epoch:100/100 AVG Training Loss:0.431 AVG Validation Loss:0.515 AVG Training Acc 80.39 % AVG Validation Acc 79.03 %\n",
      "Split 146\n"
     ]
    },
    {
     "data": {
      "application/vnd.jupyter.widget-view+json": {
       "model_id": "7bb9b3f89e694f19a9156694ccf61688",
       "version_major": 2,
       "version_minor": 0
      },
      "text/plain": [
       "  0%|          | 0/100 [00:00<?, ?it/s]"
      ]
     },
     "metadata": {},
     "output_type": "display_data"
    },
    {
     "name": "stdout",
     "output_type": "stream",
     "text": [
      "Epoch:10/100 AVG Training Loss:0.488 AVG Validation Loss:0.504 AVG Training Acc 79.87 % AVG Validation Acc 78.90 %\n",
      "Epoch:20/100 AVG Training Loss:0.481 AVG Validation Loss:0.506 AVG Training Acc 79.90 % AVG Validation Acc 79.03 %\n",
      "Epoch:30/100 AVG Training Loss:0.476 AVG Validation Loss:0.497 AVG Training Acc 80.07 % AVG Validation Acc 79.44 %\n",
      "Epoch    38: reducing learning rate of group 0 to 1.0000e-03.\n",
      "Epoch:40/100 AVG Training Loss:0.462 AVG Validation Loss:0.504 AVG Training Acc 80.01 % AVG Validation Acc 79.17 %\n",
      "Epoch:50/100 AVG Training Loss:0.450 AVG Validation Loss:0.507 AVG Training Acc 80.33 % AVG Validation Acc 79.03 %\n",
      "Epoch:60/100 AVG Training Loss:0.440 AVG Validation Loss:0.519 AVG Training Acc 80.69 % AVG Validation Acc 79.17 %\n",
      "Epoch    69: reducing learning rate of group 0 to 1.0000e-04.\n",
      "Epoch:70/100 AVG Training Loss:0.431 AVG Validation Loss:0.537 AVG Training Acc 80.99 % AVG Validation Acc 78.90 %\n",
      "Epoch:80/100 AVG Training Loss:0.431 AVG Validation Loss:0.540 AVG Training Acc 80.74 % AVG Validation Acc 78.90 %\n",
      "Epoch:90/100 AVG Training Loss:0.429 AVG Validation Loss:0.546 AVG Training Acc 80.81 % AVG Validation Acc 78.76 %\n",
      "Epoch:100/100 AVG Training Loss:0.425 AVG Validation Loss:0.549 AVG Training Acc 81.10 % AVG Validation Acc 78.76 %\n",
      "Epoch   100: reducing learning rate of group 0 to 1.0000e-05.\n",
      "Split 147\n"
     ]
    },
    {
     "data": {
      "application/vnd.jupyter.widget-view+json": {
       "model_id": "11b3a31d86ee47e38046f67c53a9df18",
       "version_major": 2,
       "version_minor": 0
      },
      "text/plain": [
       "  0%|          | 0/100 [00:00<?, ?it/s]"
      ]
     },
     "metadata": {},
     "output_type": "display_data"
    },
    {
     "name": "stdout",
     "output_type": "stream",
     "text": [
      "Epoch:10/100 AVG Training Loss:0.488 AVG Validation Loss:0.503 AVG Training Acc 79.83 % AVG Validation Acc 79.81 %\n",
      "Epoch:20/100 AVG Training Loss:0.484 AVG Validation Loss:0.499 AVG Training Acc 79.93 % AVG Validation Acc 79.81 %\n",
      "Epoch    25: reducing learning rate of group 0 to 1.0000e-03.\n",
      "Epoch:30/100 AVG Training Loss:0.472 AVG Validation Loss:0.502 AVG Training Acc 80.17 % AVG Validation Acc 79.68 %\n",
      "Epoch:40/100 AVG Training Loss:0.468 AVG Validation Loss:0.504 AVG Training Acc 80.11 % AVG Validation Acc 79.68 %\n",
      "Epoch:50/100 AVG Training Loss:0.460 AVG Validation Loss:0.507 AVG Training Acc 80.47 % AVG Validation Acc 79.41 %\n",
      "Epoch    56: reducing learning rate of group 0 to 1.0000e-04.\n",
      "Epoch:60/100 AVG Training Loss:0.455 AVG Validation Loss:0.507 AVG Training Acc 80.65 % AVG Validation Acc 79.54 %\n",
      "Epoch:70/100 AVG Training Loss:0.454 AVG Validation Loss:0.508 AVG Training Acc 80.59 % AVG Validation Acc 79.54 %\n",
      "Epoch:80/100 AVG Training Loss:0.454 AVG Validation Loss:0.507 AVG Training Acc 80.55 % AVG Validation Acc 79.41 %\n",
      "Epoch    87: reducing learning rate of group 0 to 1.0000e-05.\n",
      "Epoch:90/100 AVG Training Loss:0.453 AVG Validation Loss:0.508 AVG Training Acc 80.64 % AVG Validation Acc 79.41 %\n",
      "Epoch:100/100 AVG Training Loss:0.452 AVG Validation Loss:0.507 AVG Training Acc 80.71 % AVG Validation Acc 79.54 %\n",
      "Split 148\n"
     ]
    },
    {
     "data": {
      "application/vnd.jupyter.widget-view+json": {
       "model_id": "e67edd48146749c1a7c0998202560e93",
       "version_major": 2,
       "version_minor": 0
      },
      "text/plain": [
       "  0%|          | 0/100 [00:00<?, ?it/s]"
      ]
     },
     "metadata": {},
     "output_type": "display_data"
    },
    {
     "name": "stdout",
     "output_type": "stream",
     "text": [
      "Epoch:10/100 AVG Training Loss:0.489 AVG Validation Loss:0.511 AVG Training Acc 79.99 % AVG Validation Acc 78.73 %\n",
      "Epoch:20/100 AVG Training Loss:0.479 AVG Validation Loss:0.508 AVG Training Acc 79.98 % AVG Validation Acc 78.60 %\n",
      "Epoch:30/100 AVG Training Loss:0.468 AVG Validation Loss:0.506 AVG Training Acc 80.32 % AVG Validation Acc 78.47 %\n",
      "Epoch:40/100 AVG Training Loss:0.460 AVG Validation Loss:0.511 AVG Training Acc 80.34 % AVG Validation Acc 78.47 %\n",
      "Epoch:50/100 AVG Training Loss:0.446 AVG Validation Loss:0.536 AVG Training Acc 80.61 % AVG Validation Acc 78.20 %\n",
      "Epoch    52: reducing learning rate of group 0 to 1.0000e-03.\n",
      "Epoch:60/100 AVG Training Loss:0.414 AVG Validation Loss:0.524 AVG Training Acc 81.52 % AVG Validation Acc 78.20 %\n",
      "Epoch:70/100 AVG Training Loss:0.401 AVG Validation Loss:0.556 AVG Training Acc 81.65 % AVG Validation Acc 77.79 %\n",
      "Epoch:80/100 AVG Training Loss:0.388 AVG Validation Loss:0.581 AVG Training Acc 82.01 % AVG Validation Acc 77.79 %\n",
      "Epoch    83: reducing learning rate of group 0 to 1.0000e-04.\n",
      "Epoch:90/100 AVG Training Loss:0.377 AVG Validation Loss:0.586 AVG Training Acc 82.58 % AVG Validation Acc 77.39 %\n",
      "Epoch:100/100 AVG Training Loss:0.378 AVG Validation Loss:0.592 AVG Training Acc 82.01 % AVG Validation Acc 77.52 %\n",
      "Split 149\n"
     ]
    },
    {
     "data": {
      "application/vnd.jupyter.widget-view+json": {
       "model_id": "4ba81b9bdd4447ebbe5b924adcd8ba60",
       "version_major": 2,
       "version_minor": 0
      },
      "text/plain": [
       "  0%|          | 0/100 [00:00<?, ?it/s]"
      ]
     },
     "metadata": {},
     "output_type": "display_data"
    },
    {
     "name": "stdout",
     "output_type": "stream",
     "text": [
      "Epoch:10/100 AVG Training Loss:0.493 AVG Validation Loss:0.464 AVG Training Acc 79.62 % AVG Validation Acc 81.97 %\n",
      "Epoch:20/100 AVG Training Loss:0.487 AVG Validation Loss:0.453 AVG Training Acc 79.68 % AVG Validation Acc 81.97 %\n",
      "Epoch:30/100 AVG Training Loss:0.494 AVG Validation Loss:0.465 AVG Training Acc 79.67 % AVG Validation Acc 81.97 %\n",
      "Epoch    31: reducing learning rate of group 0 to 1.0000e-03.\n",
      "Epoch:40/100 AVG Training Loss:0.490 AVG Validation Loss:0.461 AVG Training Acc 79.61 % AVG Validation Acc 81.97 %\n",
      "Epoch:50/100 AVG Training Loss:0.488 AVG Validation Loss:0.460 AVG Training Acc 79.67 % AVG Validation Acc 81.97 %\n",
      "Epoch:60/100 AVG Training Loss:0.484 AVG Validation Loss:0.459 AVG Training Acc 79.64 % AVG Validation Acc 81.97 %\n",
      "Epoch    62: reducing learning rate of group 0 to 1.0000e-04.\n",
      "Epoch:70/100 AVG Training Loss:0.482 AVG Validation Loss:0.458 AVG Training Acc 79.62 % AVG Validation Acc 81.97 %\n",
      "Epoch:80/100 AVG Training Loss:0.484 AVG Validation Loss:0.460 AVG Training Acc 79.59 % AVG Validation Acc 81.97 %\n",
      "Epoch:90/100 AVG Training Loss:0.482 AVG Validation Loss:0.460 AVG Training Acc 79.62 % AVG Validation Acc 81.97 %\n",
      "Epoch    93: reducing learning rate of group 0 to 1.0000e-05.\n",
      "Epoch:100/100 AVG Training Loss:0.481 AVG Validation Loss:0.459 AVG Training Acc 79.58 % AVG Validation Acc 81.97 %\n",
      "Split 150\n"
     ]
    },
    {
     "data": {
      "application/vnd.jupyter.widget-view+json": {
       "model_id": "72e769b962ca4d55a7fa55ff64f7934c",
       "version_major": 2,
       "version_minor": 0
      },
      "text/plain": [
       "  0%|          | 0/100 [00:00<?, ?it/s]"
      ]
     },
     "metadata": {},
     "output_type": "display_data"
    },
    {
     "name": "stdout",
     "output_type": "stream",
     "text": [
      "Epoch:10/100 AVG Training Loss:0.488 AVG Validation Loss:0.504 AVG Training Acc 80.13 % AVG Validation Acc 78.06 %\n",
      "Epoch:20/100 AVG Training Loss:0.483 AVG Validation Loss:0.502 AVG Training Acc 80.08 % AVG Validation Acc 77.79 %\n",
      "Epoch:30/100 AVG Training Loss:0.478 AVG Validation Loss:0.499 AVG Training Acc 80.29 % AVG Validation Acc 77.93 %\n",
      "Epoch:40/100 AVG Training Loss:0.474 AVG Validation Loss:0.498 AVG Training Acc 80.11 % AVG Validation Acc 78.06 %\n",
      "Epoch    45: reducing learning rate of group 0 to 1.0000e-03.\n",
      "Epoch:50/100 AVG Training Loss:0.453 AVG Validation Loss:0.515 AVG Training Acc 80.77 % AVG Validation Acc 77.79 %\n",
      "Epoch:60/100 AVG Training Loss:0.440 AVG Validation Loss:0.526 AVG Training Acc 81.29 % AVG Validation Acc 77.52 %\n",
      "Epoch:70/100 AVG Training Loss:0.433 AVG Validation Loss:0.536 AVG Training Acc 81.25 % AVG Validation Acc 76.85 %\n",
      "Epoch    76: reducing learning rate of group 0 to 1.0000e-04.\n",
      "Epoch:80/100 AVG Training Loss:0.423 AVG Validation Loss:0.553 AVG Training Acc 81.77 % AVG Validation Acc 76.85 %\n",
      "Epoch:90/100 AVG Training Loss:0.422 AVG Validation Loss:0.553 AVG Training Acc 81.70 % AVG Validation Acc 76.85 %\n",
      "Epoch:100/100 AVG Training Loss:0.420 AVG Validation Loss:0.553 AVG Training Acc 81.82 % AVG Validation Acc 77.12 %\n",
      "Split 151\n"
     ]
    },
    {
     "data": {
      "application/vnd.jupyter.widget-view+json": {
       "model_id": "ba6a1a9dfc34423fa1920dfca2852688",
       "version_major": 2,
       "version_minor": 0
      },
      "text/plain": [
       "  0%|          | 0/100 [00:00<?, ?it/s]"
      ]
     },
     "metadata": {},
     "output_type": "display_data"
    },
    {
     "name": "stdout",
     "output_type": "stream",
     "text": [
      "Epoch:10/100 AVG Training Loss:0.491 AVG Validation Loss:0.487 AVG Training Acc 79.92 % AVG Validation Acc 79.97 %\n",
      "Epoch:20/100 AVG Training Loss:0.485 AVG Validation Loss:0.484 AVG Training Acc 79.90 % AVG Validation Acc 79.97 %\n",
      "Epoch:30/100 AVG Training Loss:0.477 AVG Validation Loss:0.483 AVG Training Acc 79.92 % AVG Validation Acc 79.97 %\n",
      "Epoch    33: reducing learning rate of group 0 to 1.0000e-03.\n",
      "Epoch:40/100 AVG Training Loss:0.458 AVG Validation Loss:0.490 AVG Training Acc 80.17 % AVG Validation Acc 79.84 %\n",
      "Epoch:50/100 AVG Training Loss:0.448 AVG Validation Loss:0.496 AVG Training Acc 80.68 % AVG Validation Acc 79.17 %\n",
      "Epoch:60/100 AVG Training Loss:0.437 AVG Validation Loss:0.506 AVG Training Acc 80.93 % AVG Validation Acc 78.49 %\n",
      "Epoch    64: reducing learning rate of group 0 to 1.0000e-04.\n",
      "Epoch:70/100 AVG Training Loss:0.433 AVG Validation Loss:0.510 AVG Training Acc 81.19 % AVG Validation Acc 78.49 %\n",
      "Epoch:80/100 AVG Training Loss:0.432 AVG Validation Loss:0.518 AVG Training Acc 81.14 % AVG Validation Acc 77.69 %\n",
      "Epoch:90/100 AVG Training Loss:0.429 AVG Validation Loss:0.514 AVG Training Acc 81.14 % AVG Validation Acc 78.23 %\n",
      "Epoch    95: reducing learning rate of group 0 to 1.0000e-05.\n",
      "Epoch:100/100 AVG Training Loss:0.429 AVG Validation Loss:0.518 AVG Training Acc 81.25 % AVG Validation Acc 78.09 %\n",
      "Split 152\n"
     ]
    },
    {
     "data": {
      "application/vnd.jupyter.widget-view+json": {
       "model_id": "7f9e03173ccb4cfab39a6b5379c9e48c",
       "version_major": 2,
       "version_minor": 0
      },
      "text/plain": [
       "  0%|          | 0/100 [00:00<?, ?it/s]"
      ]
     },
     "metadata": {},
     "output_type": "display_data"
    },
    {
     "name": "stdout",
     "output_type": "stream",
     "text": [
      "Epoch:10/100 AVG Training Loss:0.491 AVG Validation Loss:0.506 AVG Training Acc 80.04 % AVG Validation Acc 78.23 %\n",
      "Epoch:20/100 AVG Training Loss:0.486 AVG Validation Loss:0.512 AVG Training Acc 79.98 % AVG Validation Acc 78.23 %\n",
      "Epoch:30/100 AVG Training Loss:0.481 AVG Validation Loss:0.498 AVG Training Acc 79.98 % AVG Validation Acc 78.23 %\n",
      "Epoch:40/100 AVG Training Loss:0.473 AVG Validation Loss:0.511 AVG Training Acc 80.14 % AVG Validation Acc 78.23 %\n",
      "Epoch    47: reducing learning rate of group 0 to 1.0000e-03.\n",
      "Epoch:50/100 AVG Training Loss:0.479 AVG Validation Loss:0.503 AVG Training Acc 80.10 % AVG Validation Acc 78.23 %\n",
      "Epoch:60/100 AVG Training Loss:0.460 AVG Validation Loss:0.495 AVG Training Acc 80.14 % AVG Validation Acc 78.36 %\n",
      "Epoch:70/100 AVG Training Loss:0.451 AVG Validation Loss:0.502 AVG Training Acc 80.36 % AVG Validation Acc 78.49 %\n",
      "Epoch    78: reducing learning rate of group 0 to 1.0000e-04.\n",
      "Epoch:80/100 AVG Training Loss:0.438 AVG Validation Loss:0.510 AVG Training Acc 80.51 % AVG Validation Acc 78.63 %\n",
      "Epoch:90/100 AVG Training Loss:0.435 AVG Validation Loss:0.511 AVG Training Acc 80.72 % AVG Validation Acc 78.63 %\n",
      "Epoch:100/100 AVG Training Loss:0.429 AVG Validation Loss:0.513 AVG Training Acc 80.96 % AVG Validation Acc 78.63 %\n",
      "Split 153\n"
     ]
    },
    {
     "data": {
      "application/vnd.jupyter.widget-view+json": {
       "model_id": "70ecc003b79a49289f4fb355676e5bfa",
       "version_major": 2,
       "version_minor": 0
      },
      "text/plain": [
       "  0%|          | 0/100 [00:00<?, ?it/s]"
      ]
     },
     "metadata": {},
     "output_type": "display_data"
    },
    {
     "name": "stdout",
     "output_type": "stream",
     "text": [
      "Epoch:10/100 AVG Training Loss:0.489 AVG Validation Loss:0.521 AVG Training Acc 80.05 % AVG Validation Acc 78.09 %\n",
      "Epoch:20/100 AVG Training Loss:0.482 AVG Validation Loss:0.518 AVG Training Acc 80.22 % AVG Validation Acc 77.82 %\n",
      "Epoch    28: reducing learning rate of group 0 to 1.0000e-03.\n",
      "Epoch:30/100 AVG Training Loss:0.463 AVG Validation Loss:0.527 AVG Training Acc 80.41 % AVG Validation Acc 77.96 %\n",
      "Epoch:40/100 AVG Training Loss:0.453 AVG Validation Loss:0.536 AVG Training Acc 80.63 % AVG Validation Acc 77.15 %\n",
      "Epoch:50/100 AVG Training Loss:0.441 AVG Validation Loss:0.548 AVG Training Acc 80.84 % AVG Validation Acc 76.88 %\n",
      "Epoch    59: reducing learning rate of group 0 to 1.0000e-04.\n",
      "Epoch:60/100 AVG Training Loss:0.432 AVG Validation Loss:0.556 AVG Training Acc 80.98 % AVG Validation Acc 76.88 %\n",
      "Epoch:70/100 AVG Training Loss:0.430 AVG Validation Loss:0.563 AVG Training Acc 81.40 % AVG Validation Acc 76.88 %\n",
      "Epoch:80/100 AVG Training Loss:0.427 AVG Validation Loss:0.566 AVG Training Acc 81.38 % AVG Validation Acc 76.61 %\n",
      "Epoch:90/100 AVG Training Loss:0.428 AVG Validation Loss:0.568 AVG Training Acc 81.10 % AVG Validation Acc 76.88 %\n",
      "Epoch    90: reducing learning rate of group 0 to 1.0000e-05.\n",
      "Epoch:100/100 AVG Training Loss:0.428 AVG Validation Loss:0.567 AVG Training Acc 81.17 % AVG Validation Acc 77.02 %\n",
      "Split 154\n"
     ]
    },
    {
     "data": {
      "application/vnd.jupyter.widget-view+json": {
       "model_id": "7fa236643be44c68a4f91d39ddf3c3c6",
       "version_major": 2,
       "version_minor": 0
      },
      "text/plain": [
       "  0%|          | 0/100 [00:00<?, ?it/s]"
      ]
     },
     "metadata": {},
     "output_type": "display_data"
    },
    {
     "name": "stdout",
     "output_type": "stream",
     "text": [
      "Epoch:10/100 AVG Training Loss:0.494 AVG Validation Loss:0.465 AVG Training Acc 79.57 % AVG Validation Acc 81.59 %\n",
      "Epoch:20/100 AVG Training Loss:0.489 AVG Validation Loss:0.464 AVG Training Acc 79.62 % AVG Validation Acc 81.59 %\n",
      "Epoch:30/100 AVG Training Loss:0.481 AVG Validation Loss:0.461 AVG Training Acc 79.69 % AVG Validation Acc 81.32 %\n",
      "Epoch:40/100 AVG Training Loss:0.475 AVG Validation Loss:0.462 AVG Training Acc 79.84 % AVG Validation Acc 81.05 %\n",
      "Epoch    41: reducing learning rate of group 0 to 1.0000e-03.\n",
      "Epoch:50/100 AVG Training Loss:0.446 AVG Validation Loss:0.480 AVG Training Acc 80.66 % AVG Validation Acc 80.78 %\n",
      "Epoch:60/100 AVG Training Loss:0.439 AVG Validation Loss:0.492 AVG Training Acc 80.77 % AVG Validation Acc 80.24 %\n",
      "Epoch:70/100 AVG Training Loss:0.425 AVG Validation Loss:0.508 AVG Training Acc 81.40 % AVG Validation Acc 79.97 %\n",
      "Epoch    72: reducing learning rate of group 0 to 1.0000e-04.\n",
      "Epoch:80/100 AVG Training Loss:0.419 AVG Validation Loss:0.513 AVG Training Acc 81.63 % AVG Validation Acc 79.84 %\n",
      "Epoch:90/100 AVG Training Loss:0.416 AVG Validation Loss:0.514 AVG Training Acc 81.78 % AVG Validation Acc 80.38 %\n",
      "Epoch:100/100 AVG Training Loss:0.413 AVG Validation Loss:0.518 AVG Training Acc 81.86 % AVG Validation Acc 79.70 %\n",
      "Split 155\n"
     ]
    },
    {
     "data": {
      "application/vnd.jupyter.widget-view+json": {
       "model_id": "abd8628f29be4beb9c9eeea5ce3f1485",
       "version_major": 2,
       "version_minor": 0
      },
      "text/plain": [
       "  0%|          | 0/100 [00:00<?, ?it/s]"
      ]
     },
     "metadata": {},
     "output_type": "display_data"
    },
    {
     "name": "stdout",
     "output_type": "stream",
     "text": [
      "Epoch:10/100 AVG Training Loss:0.489 AVG Validation Loss:0.515 AVG Training Acc 80.01 % AVG Validation Acc 78.76 %\n",
      "Epoch:20/100 AVG Training Loss:0.479 AVG Validation Loss:0.509 AVG Training Acc 79.96 % AVG Validation Acc 78.90 %\n",
      "Epoch    29: reducing learning rate of group 0 to 1.0000e-03.\n",
      "Epoch:30/100 AVG Training Loss:0.462 AVG Validation Loss:0.517 AVG Training Acc 80.17 % AVG Validation Acc 78.76 %\n",
      "Epoch:40/100 AVG Training Loss:0.444 AVG Validation Loss:0.531 AVG Training Acc 80.72 % AVG Validation Acc 78.36 %\n",
      "Epoch:50/100 AVG Training Loss:0.434 AVG Validation Loss:0.545 AVG Training Acc 80.95 % AVG Validation Acc 78.23 %\n",
      "Epoch:60/100 AVG Training Loss:0.424 AVG Validation Loss:0.554 AVG Training Acc 81.38 % AVG Validation Acc 78.09 %\n",
      "Epoch    60: reducing learning rate of group 0 to 1.0000e-04.\n",
      "Epoch:70/100 AVG Training Loss:0.413 AVG Validation Loss:0.555 AVG Training Acc 81.87 % AVG Validation Acc 77.82 %\n",
      "Epoch:80/100 AVG Training Loss:0.415 AVG Validation Loss:0.557 AVG Training Acc 81.44 % AVG Validation Acc 77.42 %\n",
      "Epoch:90/100 AVG Training Loss:0.413 AVG Validation Loss:0.556 AVG Training Acc 81.68 % AVG Validation Acc 77.69 %\n",
      "Epoch    91: reducing learning rate of group 0 to 1.0000e-05.\n",
      "Epoch:100/100 AVG Training Loss:0.408 AVG Validation Loss:0.564 AVG Training Acc 82.02 % AVG Validation Acc 77.69 %\n",
      "Split 156\n"
     ]
    },
    {
     "data": {
      "application/vnd.jupyter.widget-view+json": {
       "model_id": "2b4ab243e5bc4620b4abb05f2a0e90f9",
       "version_major": 2,
       "version_minor": 0
      },
      "text/plain": [
       "  0%|          | 0/100 [00:00<?, ?it/s]"
      ]
     },
     "metadata": {},
     "output_type": "display_data"
    },
    {
     "name": "stdout",
     "output_type": "stream",
     "text": [
      "Epoch:10/100 AVG Training Loss:0.492 AVG Validation Loss:0.495 AVG Training Acc 79.87 % AVG Validation Acc 79.84 %\n",
      "Epoch    14: reducing learning rate of group 0 to 1.0000e-03.\n",
      "Epoch:20/100 AVG Training Loss:0.482 AVG Validation Loss:0.496 AVG Training Acc 79.89 % AVG Validation Acc 79.84 %\n",
      "Epoch:30/100 AVG Training Loss:0.478 AVG Validation Loss:0.497 AVG Training Acc 79.93 % AVG Validation Acc 79.84 %\n",
      "Epoch:40/100 AVG Training Loss:0.475 AVG Validation Loss:0.497 AVG Training Acc 79.86 % AVG Validation Acc 79.70 %\n",
      "Epoch    45: reducing learning rate of group 0 to 1.0000e-04.\n",
      "Epoch:50/100 AVG Training Loss:0.466 AVG Validation Loss:0.499 AVG Training Acc 79.96 % AVG Validation Acc 79.70 %\n",
      "Epoch:60/100 AVG Training Loss:0.466 AVG Validation Loss:0.502 AVG Training Acc 79.89 % AVG Validation Acc 79.84 %\n",
      "Epoch:70/100 AVG Training Loss:0.462 AVG Validation Loss:0.502 AVG Training Acc 80.07 % AVG Validation Acc 79.70 %\n",
      "Epoch    76: reducing learning rate of group 0 to 1.0000e-05.\n",
      "Epoch:80/100 AVG Training Loss:0.462 AVG Validation Loss:0.502 AVG Training Acc 80.07 % AVG Validation Acc 79.84 %\n",
      "Epoch:90/100 AVG Training Loss:0.462 AVG Validation Loss:0.501 AVG Training Acc 80.10 % AVG Validation Acc 79.84 %\n",
      "Epoch:100/100 AVG Training Loss:0.460 AVG Validation Loss:0.501 AVG Training Acc 80.22 % AVG Validation Acc 79.97 %\n",
      "Split 157\n"
     ]
    },
    {
     "data": {
      "application/vnd.jupyter.widget-view+json": {
       "model_id": "b11fd77639c9490d80d6eacce4bf7861",
       "version_major": 2,
       "version_minor": 0
      },
      "text/plain": [
       "  0%|          | 0/100 [00:00<?, ?it/s]"
      ]
     },
     "metadata": {},
     "output_type": "display_data"
    },
    {
     "name": "stdout",
     "output_type": "stream",
     "text": [
      "Epoch:10/100 AVG Training Loss:0.495 AVG Validation Loss:0.463 AVG Training Acc 79.65 % AVG Validation Acc 81.70 %\n",
      "Epoch:20/100 AVG Training Loss:0.495 AVG Validation Loss:0.471 AVG Training Acc 79.62 % AVG Validation Acc 81.83 %\n",
      "Epoch    23: reducing learning rate of group 0 to 1.0000e-03.\n",
      "Epoch:30/100 AVG Training Loss:0.489 AVG Validation Loss:0.464 AVG Training Acc 79.67 % AVG Validation Acc 81.70 %\n",
      "Epoch:40/100 AVG Training Loss:0.486 AVG Validation Loss:0.463 AVG Training Acc 79.65 % AVG Validation Acc 81.70 %\n",
      "Epoch:50/100 AVG Training Loss:0.480 AVG Validation Loss:0.468 AVG Training Acc 79.65 % AVG Validation Acc 81.83 %\n",
      "Epoch    54: reducing learning rate of group 0 to 1.0000e-04.\n",
      "Epoch:60/100 AVG Training Loss:0.475 AVG Validation Loss:0.467 AVG Training Acc 79.65 % AVG Validation Acc 81.83 %\n",
      "Epoch:70/100 AVG Training Loss:0.475 AVG Validation Loss:0.467 AVG Training Acc 79.80 % AVG Validation Acc 81.83 %\n",
      "Epoch:80/100 AVG Training Loss:0.473 AVG Validation Loss:0.466 AVG Training Acc 79.73 % AVG Validation Acc 81.70 %\n",
      "Epoch    85: reducing learning rate of group 0 to 1.0000e-05.\n",
      "Epoch:90/100 AVG Training Loss:0.473 AVG Validation Loss:0.467 AVG Training Acc 79.70 % AVG Validation Acc 81.70 %\n",
      "Epoch:100/100 AVG Training Loss:0.470 AVG Validation Loss:0.467 AVG Training Acc 79.65 % AVG Validation Acc 81.70 %\n",
      "Split 158\n"
     ]
    },
    {
     "data": {
      "application/vnd.jupyter.widget-view+json": {
       "model_id": "e584e457995e4fb7b6318bc8e4da541d",
       "version_major": 2,
       "version_minor": 0
      },
      "text/plain": [
       "  0%|          | 0/100 [00:00<?, ?it/s]"
      ]
     },
     "metadata": {},
     "output_type": "display_data"
    },
    {
     "name": "stdout",
     "output_type": "stream",
     "text": [
      "Epoch:10/100 AVG Training Loss:0.492 AVG Validation Loss:0.480 AVG Training Acc 79.70 % AVG Validation Acc 80.35 %\n",
      "Epoch:20/100 AVG Training Loss:0.486 AVG Validation Loss:0.474 AVG Training Acc 79.95 % AVG Validation Acc 80.62 %\n",
      "Epoch:30/100 AVG Training Loss:0.492 AVG Validation Loss:0.477 AVG Training Acc 79.81 % AVG Validation Acc 80.35 %\n",
      "Epoch:40/100 AVG Training Loss:0.477 AVG Validation Loss:0.476 AVG Training Acc 79.95 % AVG Validation Acc 80.62 %\n",
      "Epoch    40: reducing learning rate of group 0 to 1.0000e-03.\n",
      "Epoch:50/100 AVG Training Loss:0.455 AVG Validation Loss:0.488 AVG Training Acc 80.17 % AVG Validation Acc 80.89 %\n",
      "Epoch:60/100 AVG Training Loss:0.445 AVG Validation Loss:0.495 AVG Training Acc 80.52 % AVG Validation Acc 80.89 %\n",
      "Epoch:70/100 AVG Training Loss:0.435 AVG Validation Loss:0.502 AVG Training Acc 80.71 % AVG Validation Acc 80.89 %\n",
      "Epoch    71: reducing learning rate of group 0 to 1.0000e-04.\n",
      "Epoch:80/100 AVG Training Loss:0.429 AVG Validation Loss:0.507 AVG Training Acc 80.74 % AVG Validation Acc 80.89 %\n",
      "Epoch:90/100 AVG Training Loss:0.426 AVG Validation Loss:0.511 AVG Training Acc 80.89 % AVG Validation Acc 80.75 %\n",
      "Epoch:100/100 AVG Training Loss:0.424 AVG Validation Loss:0.511 AVG Training Acc 80.95 % AVG Validation Acc 81.02 %\n",
      "Split 159\n"
     ]
    },
    {
     "data": {
      "application/vnd.jupyter.widget-view+json": {
       "model_id": "19ff419624244de390d5646a302ede85",
       "version_major": 2,
       "version_minor": 0
      },
      "text/plain": [
       "  0%|          | 0/100 [00:00<?, ?it/s]"
      ]
     },
     "metadata": {},
     "output_type": "display_data"
    },
    {
     "name": "stdout",
     "output_type": "stream",
     "text": [
      "Epoch:10/100 AVG Training Loss:0.488 AVG Validation Loss:0.488 AVG Training Acc 79.83 % AVG Validation Acc 79.95 %\n",
      "Epoch:20/100 AVG Training Loss:0.482 AVG Validation Loss:0.486 AVG Training Acc 79.81 % AVG Validation Acc 79.81 %\n",
      "Epoch:30/100 AVG Training Loss:0.477 AVG Validation Loss:0.484 AVG Training Acc 79.83 % AVG Validation Acc 80.08 %\n",
      "Epoch    30: reducing learning rate of group 0 to 1.0000e-03.\n",
      "Epoch:40/100 AVG Training Loss:0.455 AVG Validation Loss:0.491 AVG Training Acc 80.23 % AVG Validation Acc 79.95 %\n",
      "Epoch:50/100 AVG Training Loss:0.443 AVG Validation Loss:0.505 AVG Training Acc 80.43 % AVG Validation Acc 79.54 %\n",
      "Epoch:60/100 AVG Training Loss:0.432 AVG Validation Loss:0.509 AVG Training Acc 80.85 % AVG Validation Acc 79.54 %\n",
      "Epoch    61: reducing learning rate of group 0 to 1.0000e-04.\n",
      "Epoch:70/100 AVG Training Loss:0.426 AVG Validation Loss:0.521 AVG Training Acc 81.38 % AVG Validation Acc 78.47 %\n",
      "Epoch:80/100 AVG Training Loss:0.421 AVG Validation Loss:0.520 AVG Training Acc 81.31 % AVG Validation Acc 78.60 %\n",
      "Epoch:90/100 AVG Training Loss:0.421 AVG Validation Loss:0.526 AVG Training Acc 81.47 % AVG Validation Acc 78.33 %\n",
      "Epoch    92: reducing learning rate of group 0 to 1.0000e-05.\n",
      "Epoch:100/100 AVG Training Loss:0.418 AVG Validation Loss:0.522 AVG Training Acc 81.29 % AVG Validation Acc 78.47 %\n",
      "Split 160\n"
     ]
    },
    {
     "data": {
      "application/vnd.jupyter.widget-view+json": {
       "model_id": "d7e4998254d6440fae2cfadb7a13ba51",
       "version_major": 2,
       "version_minor": 0
      },
      "text/plain": [
       "  0%|          | 0/100 [00:00<?, ?it/s]"
      ]
     },
     "metadata": {},
     "output_type": "display_data"
    },
    {
     "name": "stdout",
     "output_type": "stream",
     "text": [
      "Epoch:10/100 AVG Training Loss:0.490 AVG Validation Loss:0.486 AVG Training Acc 79.83 % AVG Validation Acc 80.22 %\n",
      "Epoch    18: reducing learning rate of group 0 to 1.0000e-03.\n",
      "Epoch:20/100 AVG Training Loss:0.479 AVG Validation Loss:0.490 AVG Training Acc 79.92 % AVG Validation Acc 80.22 %\n",
      "Epoch:30/100 AVG Training Loss:0.473 AVG Validation Loss:0.495 AVG Training Acc 80.01 % AVG Validation Acc 80.22 %\n",
      "Epoch:40/100 AVG Training Loss:0.468 AVG Validation Loss:0.503 AVG Training Acc 79.99 % AVG Validation Acc 80.08 %\n",
      "Epoch    49: reducing learning rate of group 0 to 1.0000e-04.\n",
      "Epoch:50/100 AVG Training Loss:0.458 AVG Validation Loss:0.511 AVG Training Acc 80.13 % AVG Validation Acc 80.08 %\n",
      "Epoch:60/100 AVG Training Loss:0.456 AVG Validation Loss:0.514 AVG Training Acc 80.31 % AVG Validation Acc 80.35 %\n",
      "Epoch:70/100 AVG Training Loss:0.454 AVG Validation Loss:0.517 AVG Training Acc 80.16 % AVG Validation Acc 80.22 %\n",
      "Epoch:80/100 AVG Training Loss:0.452 AVG Validation Loss:0.518 AVG Training Acc 80.41 % AVG Validation Acc 80.22 %\n",
      "Epoch    80: reducing learning rate of group 0 to 1.0000e-05.\n",
      "Epoch:90/100 AVG Training Loss:0.451 AVG Validation Loss:0.518 AVG Training Acc 80.29 % AVG Validation Acc 80.22 %\n",
      "Epoch:100/100 AVG Training Loss:0.450 AVG Validation Loss:0.518 AVG Training Acc 80.26 % AVG Validation Acc 80.22 %\n",
      "Split 161\n"
     ]
    },
    {
     "data": {
      "application/vnd.jupyter.widget-view+json": {
       "model_id": "b3393dfa9ff14c008137fde4fe58af87",
       "version_major": 2,
       "version_minor": 0
      },
      "text/plain": [
       "  0%|          | 0/100 [00:00<?, ?it/s]"
      ]
     },
     "metadata": {},
     "output_type": "display_data"
    },
    {
     "name": "stdout",
     "output_type": "stream",
     "text": [
      "Epoch:10/100 AVG Training Loss:0.491 AVG Validation Loss:0.501 AVG Training Acc 79.93 % AVG Validation Acc 79.03 %\n",
      "Epoch:20/100 AVG Training Loss:0.487 AVG Validation Loss:0.504 AVG Training Acc 79.90 % AVG Validation Acc 79.03 %\n",
      "Epoch:30/100 AVG Training Loss:0.478 AVG Validation Loss:0.499 AVG Training Acc 80.14 % AVG Validation Acc 79.03 %\n",
      "Epoch:40/100 AVG Training Loss:0.472 AVG Validation Loss:0.511 AVG Training Acc 80.07 % AVG Validation Acc 79.17 %\n",
      "Epoch    40: reducing learning rate of group 0 to 1.0000e-03.\n",
      "Epoch:50/100 AVG Training Loss:0.449 AVG Validation Loss:0.512 AVG Training Acc 80.35 % AVG Validation Acc 79.44 %\n",
      "Epoch:60/100 AVG Training Loss:0.437 AVG Validation Loss:0.519 AVG Training Acc 80.75 % AVG Validation Acc 78.90 %\n",
      "Epoch:70/100 AVG Training Loss:0.428 AVG Validation Loss:0.534 AVG Training Acc 80.89 % AVG Validation Acc 78.90 %\n",
      "Epoch    71: reducing learning rate of group 0 to 1.0000e-04.\n",
      "Epoch:80/100 AVG Training Loss:0.422 AVG Validation Loss:0.544 AVG Training Acc 81.20 % AVG Validation Acc 78.63 %\n",
      "Epoch:90/100 AVG Training Loss:0.422 AVG Validation Loss:0.537 AVG Training Acc 81.08 % AVG Validation Acc 78.36 %\n",
      "Epoch:100/100 AVG Training Loss:0.420 AVG Validation Loss:0.536 AVG Training Acc 81.29 % AVG Validation Acc 78.90 %\n",
      "Split 162\n"
     ]
    },
    {
     "data": {
      "application/vnd.jupyter.widget-view+json": {
       "model_id": "dd9354700d304b83ab79f658e40952d2",
       "version_major": 2,
       "version_minor": 0
      },
      "text/plain": [
       "  0%|          | 0/100 [00:00<?, ?it/s]"
      ]
     },
     "metadata": {},
     "output_type": "display_data"
    },
    {
     "name": "stdout",
     "output_type": "stream",
     "text": [
      "Epoch:10/100 AVG Training Loss:0.489 AVG Validation Loss:0.518 AVG Training Acc 80.04 % AVG Validation Acc 77.82 %\n",
      "Epoch:20/100 AVG Training Loss:0.495 AVG Validation Loss:0.532 AVG Training Acc 79.99 % AVG Validation Acc 77.82 %\n",
      "Epoch    20: reducing learning rate of group 0 to 1.0000e-03.\n",
      "Epoch:30/100 AVG Training Loss:0.495 AVG Validation Loss:0.524 AVG Training Acc 80.08 % AVG Validation Acc 77.82 %\n",
      "Epoch:40/100 AVG Training Loss:0.491 AVG Validation Loss:0.525 AVG Training Acc 80.10 % AVG Validation Acc 77.82 %\n",
      "Epoch:50/100 AVG Training Loss:0.489 AVG Validation Loss:0.522 AVG Training Acc 80.10 % AVG Validation Acc 77.82 %\n",
      "Epoch    51: reducing learning rate of group 0 to 1.0000e-04.\n",
      "Epoch:60/100 AVG Training Loss:0.490 AVG Validation Loss:0.520 AVG Training Acc 80.10 % AVG Validation Acc 77.82 %\n",
      "Epoch:70/100 AVG Training Loss:0.488 AVG Validation Loss:0.520 AVG Training Acc 80.10 % AVG Validation Acc 77.82 %\n",
      "Epoch:80/100 AVG Training Loss:0.488 AVG Validation Loss:0.521 AVG Training Acc 80.10 % AVG Validation Acc 77.82 %\n",
      "Epoch    82: reducing learning rate of group 0 to 1.0000e-05.\n",
      "Epoch:90/100 AVG Training Loss:0.489 AVG Validation Loss:0.520 AVG Training Acc 80.10 % AVG Validation Acc 77.82 %\n",
      "Epoch:100/100 AVG Training Loss:0.488 AVG Validation Loss:0.521 AVG Training Acc 80.10 % AVG Validation Acc 77.82 %\n",
      "Split 163\n"
     ]
    },
    {
     "data": {
      "application/vnd.jupyter.widget-view+json": {
       "model_id": "b03a627b892246049f78429e150fd760",
       "version_major": 2,
       "version_minor": 0
      },
      "text/plain": [
       "  0%|          | 0/100 [00:00<?, ?it/s]"
      ]
     },
     "metadata": {},
     "output_type": "display_data"
    },
    {
     "name": "stdout",
     "output_type": "stream",
     "text": [
      "Epoch:10/100 AVG Training Loss:0.491 AVG Validation Loss:0.476 AVG Training Acc 79.77 % AVG Validation Acc 80.51 %\n",
      "Epoch:20/100 AVG Training Loss:0.484 AVG Validation Loss:0.476 AVG Training Acc 79.92 % AVG Validation Acc 80.38 %\n",
      "Epoch:30/100 AVG Training Loss:0.474 AVG Validation Loss:0.474 AVG Training Acc 79.96 % AVG Validation Acc 80.38 %\n",
      "Epoch    37: reducing learning rate of group 0 to 1.0000e-03.\n",
      "Epoch:40/100 AVG Training Loss:0.462 AVG Validation Loss:0.483 AVG Training Acc 80.20 % AVG Validation Acc 80.24 %\n",
      "Epoch:50/100 AVG Training Loss:0.453 AVG Validation Loss:0.495 AVG Training Acc 80.42 % AVG Validation Acc 80.24 %\n",
      "Epoch:60/100 AVG Training Loss:0.437 AVG Validation Loss:0.507 AVG Training Acc 80.93 % AVG Validation Acc 80.24 %\n",
      "Epoch    68: reducing learning rate of group 0 to 1.0000e-04.\n",
      "Epoch:70/100 AVG Training Loss:0.424 AVG Validation Loss:0.522 AVG Training Acc 81.25 % AVG Validation Acc 79.57 %\n",
      "Epoch:80/100 AVG Training Loss:0.424 AVG Validation Loss:0.528 AVG Training Acc 81.56 % AVG Validation Acc 79.44 %\n",
      "Epoch:90/100 AVG Training Loss:0.423 AVG Validation Loss:0.528 AVG Training Acc 81.40 % AVG Validation Acc 79.70 %\n",
      "Epoch    99: reducing learning rate of group 0 to 1.0000e-05.\n",
      "Epoch:100/100 AVG Training Loss:0.420 AVG Validation Loss:0.527 AVG Training Acc 81.41 % AVG Validation Acc 79.57 %\n",
      "Split 164\n"
     ]
    },
    {
     "data": {
      "application/vnd.jupyter.widget-view+json": {
       "model_id": "1f93524ee5344780a78bf1ae5ecdfb8a",
       "version_major": 2,
       "version_minor": 0
      },
      "text/plain": [
       "  0%|          | 0/100 [00:00<?, ?it/s]"
      ]
     },
     "metadata": {},
     "output_type": "display_data"
    },
    {
     "name": "stdout",
     "output_type": "stream",
     "text": [
      "Epoch:10/100 AVG Training Loss:0.490 AVG Validation Loss:0.505 AVG Training Acc 79.95 % AVG Validation Acc 78.63 %\n",
      "Epoch:20/100 AVG Training Loss:0.483 AVG Validation Loss:0.502 AVG Training Acc 80.01 % AVG Validation Acc 78.63 %\n",
      "Epoch:30/100 AVG Training Loss:0.478 AVG Validation Loss:0.504 AVG Training Acc 79.90 % AVG Validation Acc 78.63 %\n",
      "Epoch    37: reducing learning rate of group 0 to 1.0000e-03.\n",
      "Epoch:40/100 AVG Training Loss:0.457 AVG Validation Loss:0.513 AVG Training Acc 80.47 % AVG Validation Acc 78.36 %\n",
      "Epoch:50/100 AVG Training Loss:0.444 AVG Validation Loss:0.524 AVG Training Acc 80.62 % AVG Validation Acc 78.36 %\n",
      "Epoch:60/100 AVG Training Loss:0.433 AVG Validation Loss:0.539 AVG Training Acc 81.04 % AVG Validation Acc 78.49 %\n",
      "Epoch    68: reducing learning rate of group 0 to 1.0000e-04.\n",
      "Epoch:70/100 AVG Training Loss:0.424 AVG Validation Loss:0.557 AVG Training Acc 81.19 % AVG Validation Acc 78.09 %\n",
      "Epoch:80/100 AVG Training Loss:0.418 AVG Validation Loss:0.551 AVG Training Acc 81.32 % AVG Validation Acc 78.09 %\n",
      "Epoch:90/100 AVG Training Loss:0.418 AVG Validation Loss:0.553 AVG Training Acc 81.07 % AVG Validation Acc 78.09 %\n",
      "Epoch    99: reducing learning rate of group 0 to 1.0000e-05.\n",
      "Epoch:100/100 AVG Training Loss:0.419 AVG Validation Loss:0.553 AVG Training Acc 81.10 % AVG Validation Acc 77.55 %\n",
      "Split 165\n"
     ]
    },
    {
     "data": {
      "application/vnd.jupyter.widget-view+json": {
       "model_id": "26b4b5f11a2144d187ee590315dcf4fa",
       "version_major": 2,
       "version_minor": 0
      },
      "text/plain": [
       "  0%|          | 0/100 [00:00<?, ?it/s]"
      ]
     },
     "metadata": {},
     "output_type": "display_data"
    },
    {
     "name": "stdout",
     "output_type": "stream",
     "text": [
      "Epoch:10/100 AVG Training Loss:0.489 AVG Validation Loss:0.490 AVG Training Acc 79.86 % AVG Validation Acc 79.84 %\n",
      "Epoch    19: reducing learning rate of group 0 to 1.0000e-03.\n",
      "Epoch:20/100 AVG Training Loss:0.479 AVG Validation Loss:0.492 AVG Training Acc 79.98 % AVG Validation Acc 79.57 %\n",
      "Epoch:30/100 AVG Training Loss:0.470 AVG Validation Loss:0.497 AVG Training Acc 80.25 % AVG Validation Acc 79.44 %\n",
      "Epoch:40/100 AVG Training Loss:0.464 AVG Validation Loss:0.501 AVG Training Acc 80.41 % AVG Validation Acc 79.44 %\n",
      "Epoch:50/100 AVG Training Loss:0.456 AVG Validation Loss:0.503 AVG Training Acc 80.51 % AVG Validation Acc 79.57 %\n",
      "Epoch    50: reducing learning rate of group 0 to 1.0000e-04.\n",
      "Epoch:60/100 AVG Training Loss:0.454 AVG Validation Loss:0.508 AVG Training Acc 80.66 % AVG Validation Acc 79.70 %\n",
      "Epoch:70/100 AVG Training Loss:0.451 AVG Validation Loss:0.510 AVG Training Acc 80.65 % AVG Validation Acc 79.57 %\n",
      "Epoch:80/100 AVG Training Loss:0.450 AVG Validation Loss:0.511 AVG Training Acc 80.83 % AVG Validation Acc 79.57 %\n",
      "Epoch    81: reducing learning rate of group 0 to 1.0000e-05.\n",
      "Epoch:90/100 AVG Training Loss:0.450 AVG Validation Loss:0.512 AVG Training Acc 80.72 % AVG Validation Acc 79.57 %\n",
      "Epoch:100/100 AVG Training Loss:0.447 AVG Validation Loss:0.511 AVG Training Acc 80.72 % AVG Validation Acc 79.57 %\n",
      "Split 166\n"
     ]
    },
    {
     "data": {
      "application/vnd.jupyter.widget-view+json": {
       "model_id": "ceae71aa118f4d57a6a4258a5fb3f0c0",
       "version_major": 2,
       "version_minor": 0
      },
      "text/plain": [
       "  0%|          | 0/100 [00:00<?, ?it/s]"
      ]
     },
     "metadata": {},
     "output_type": "display_data"
    },
    {
     "name": "stdout",
     "output_type": "stream",
     "text": [
      "Epoch:10/100 AVG Training Loss:0.493 AVG Validation Loss:0.471 AVG Training Acc 79.69 % AVG Validation Acc 81.32 %\n",
      "Epoch:20/100 AVG Training Loss:0.489 AVG Validation Loss:0.470 AVG Training Acc 79.71 % AVG Validation Acc 81.32 %\n",
      "Epoch:30/100 AVG Training Loss:0.480 AVG Validation Loss:0.471 AVG Training Acc 79.80 % AVG Validation Acc 81.32 %\n",
      "Epoch    36: reducing learning rate of group 0 to 1.0000e-03.\n",
      "Epoch:40/100 AVG Training Loss:0.470 AVG Validation Loss:0.470 AVG Training Acc 79.86 % AVG Validation Acc 81.18 %\n",
      "Epoch:50/100 AVG Training Loss:0.459 AVG Validation Loss:0.475 AVG Training Acc 80.13 % AVG Validation Acc 81.05 %\n",
      "Epoch:60/100 AVG Training Loss:0.450 AVG Validation Loss:0.483 AVG Training Acc 80.41 % AVG Validation Acc 80.91 %\n",
      "Epoch    67: reducing learning rate of group 0 to 1.0000e-04.\n",
      "Epoch:70/100 AVG Training Loss:0.439 AVG Validation Loss:0.491 AVG Training Acc 80.84 % AVG Validation Acc 80.38 %\n",
      "Epoch:80/100 AVG Training Loss:0.438 AVG Validation Loss:0.491 AVG Training Acc 80.69 % AVG Validation Acc 80.24 %\n",
      "Epoch:90/100 AVG Training Loss:0.437 AVG Validation Loss:0.495 AVG Training Acc 80.56 % AVG Validation Acc 80.11 %\n",
      "Epoch    98: reducing learning rate of group 0 to 1.0000e-05.\n",
      "Epoch:100/100 AVG Training Loss:0.434 AVG Validation Loss:0.493 AVG Training Acc 80.99 % AVG Validation Acc 80.51 %\n",
      "Split 167\n"
     ]
    },
    {
     "data": {
      "application/vnd.jupyter.widget-view+json": {
       "model_id": "e9c2dce15acd472894e83b7ffa2ce499",
       "version_major": 2,
       "version_minor": 0
      },
      "text/plain": [
       "  0%|          | 0/100 [00:00<?, ?it/s]"
      ]
     },
     "metadata": {},
     "output_type": "display_data"
    },
    {
     "name": "stdout",
     "output_type": "stream",
     "text": [
      "Epoch:10/100 AVG Training Loss:0.491 AVG Validation Loss:0.491 AVG Training Acc 79.87 % AVG Validation Acc 79.95 %\n",
      "Epoch:20/100 AVG Training Loss:0.486 AVG Validation Loss:0.485 AVG Training Acc 79.87 % AVG Validation Acc 80.08 %\n",
      "Epoch:30/100 AVG Training Loss:0.481 AVG Validation Loss:0.476 AVG Training Acc 79.92 % AVG Validation Acc 80.08 %\n",
      "Epoch:40/100 AVG Training Loss:0.476 AVG Validation Loss:0.480 AVG Training Acc 79.99 % AVG Validation Acc 79.95 %\n",
      "Epoch    41: reducing learning rate of group 0 to 1.0000e-03.\n",
      "Epoch:50/100 AVG Training Loss:0.456 AVG Validation Loss:0.496 AVG Training Acc 80.31 % AVG Validation Acc 79.68 %\n",
      "Epoch:60/100 AVG Training Loss:0.443 AVG Validation Loss:0.511 AVG Training Acc 80.73 % AVG Validation Acc 79.14 %\n",
      "Epoch:70/100 AVG Training Loss:0.433 AVG Validation Loss:0.517 AVG Training Acc 81.01 % AVG Validation Acc 79.14 %\n",
      "Epoch    72: reducing learning rate of group 0 to 1.0000e-04.\n",
      "Epoch:80/100 AVG Training Loss:0.426 AVG Validation Loss:0.525 AVG Training Acc 81.22 % AVG Validation Acc 79.41 %\n",
      "Epoch:90/100 AVG Training Loss:0.427 AVG Validation Loss:0.518 AVG Training Acc 80.97 % AVG Validation Acc 79.54 %\n",
      "Epoch:100/100 AVG Training Loss:0.424 AVG Validation Loss:0.518 AVG Training Acc 81.19 % AVG Validation Acc 79.54 %\n",
      "Split 168\n"
     ]
    },
    {
     "data": {
      "application/vnd.jupyter.widget-view+json": {
       "model_id": "914e43044db142d7bbb34c4012e6da59",
       "version_major": 2,
       "version_minor": 0
      },
      "text/plain": [
       "  0%|          | 0/100 [00:00<?, ?it/s]"
      ]
     },
     "metadata": {},
     "output_type": "display_data"
    },
    {
     "name": "stdout",
     "output_type": "stream",
     "text": [
      "New Best Accuracy found: 83.58%\n",
      "Epoch: 1\n",
      "Epoch:10/100 AVG Training Loss:0.497 AVG Validation Loss:0.447 AVG Training Acc 79.49 % AVG Validation Acc 83.58 %\n",
      "Epoch:20/100 AVG Training Loss:0.490 AVG Validation Loss:0.455 AVG Training Acc 79.46 % AVG Validation Acc 83.58 %\n",
      "New Best Accuracy found: 83.71%\n",
      "Epoch: 26\n",
      "Epoch    29: reducing learning rate of group 0 to 1.0000e-03.\n",
      "Epoch:30/100 AVG Training Loss:0.481 AVG Validation Loss:0.449 AVG Training Acc 79.62 % AVG Validation Acc 83.85 %\n",
      "New Best Accuracy found: 83.85%\n",
      "Epoch: 30\n",
      "Epoch:40/100 AVG Training Loss:0.468 AVG Validation Loss:0.459 AVG Training Acc 79.77 % AVG Validation Acc 83.58 %\n",
      "Epoch:50/100 AVG Training Loss:0.457 AVG Validation Loss:0.467 AVG Training Acc 80.32 % AVG Validation Acc 83.18 %\n",
      "Epoch:60/100 AVG Training Loss:0.448 AVG Validation Loss:0.482 AVG Training Acc 80.28 % AVG Validation Acc 82.64 %\n",
      "Epoch    60: reducing learning rate of group 0 to 1.0000e-04.\n",
      "Epoch:70/100 AVG Training Loss:0.446 AVG Validation Loss:0.481 AVG Training Acc 80.53 % AVG Validation Acc 82.50 %\n",
      "Epoch:80/100 AVG Training Loss:0.443 AVG Validation Loss:0.483 AVG Training Acc 80.61 % AVG Validation Acc 82.77 %\n",
      "Epoch:90/100 AVG Training Loss:0.443 AVG Validation Loss:0.486 AVG Training Acc 80.56 % AVG Validation Acc 82.77 %\n",
      "Epoch    91: reducing learning rate of group 0 to 1.0000e-05.\n",
      "Epoch:100/100 AVG Training Loss:0.443 AVG Validation Loss:0.485 AVG Training Acc 80.40 % AVG Validation Acc 82.77 %\n",
      "Split 169\n"
     ]
    },
    {
     "data": {
      "application/vnd.jupyter.widget-view+json": {
       "model_id": "48ebd3790f384a4e85230e527bb7f00a",
       "version_major": 2,
       "version_minor": 0
      },
      "text/plain": [
       "  0%|          | 0/100 [00:00<?, ?it/s]"
      ]
     },
     "metadata": {},
     "output_type": "display_data"
    },
    {
     "name": "stdout",
     "output_type": "stream",
     "text": [
      "Epoch:10/100 AVG Training Loss:0.487 AVG Validation Loss:0.520 AVG Training Acc 79.93 % AVG Validation Acc 78.20 %\n",
      "Epoch:20/100 AVG Training Loss:0.484 AVG Validation Loss:0.515 AVG Training Acc 80.04 % AVG Validation Acc 78.20 %\n",
      "Epoch:30/100 AVG Training Loss:0.477 AVG Validation Loss:0.521 AVG Training Acc 80.11 % AVG Validation Acc 78.20 %\n",
      "Epoch    39: reducing learning rate of group 0 to 1.0000e-03.\n",
      "Epoch:40/100 AVG Training Loss:0.460 AVG Validation Loss:0.526 AVG Training Acc 80.29 % AVG Validation Acc 78.20 %\n",
      "Epoch:50/100 AVG Training Loss:0.446 AVG Validation Loss:0.544 AVG Training Acc 80.49 % AVG Validation Acc 78.20 %\n",
      "Epoch:60/100 AVG Training Loss:0.438 AVG Validation Loss:0.555 AVG Training Acc 80.55 % AVG Validation Acc 78.06 %\n",
      "Epoch:70/100 AVG Training Loss:0.427 AVG Validation Loss:0.563 AVG Training Acc 80.77 % AVG Validation Acc 77.93 %\n",
      "Epoch    70: reducing learning rate of group 0 to 1.0000e-04.\n",
      "Epoch:80/100 AVG Training Loss:0.422 AVG Validation Loss:0.577 AVG Training Acc 80.94 % AVG Validation Acc 78.06 %\n",
      "Epoch:90/100 AVG Training Loss:0.418 AVG Validation Loss:0.576 AVG Training Acc 80.95 % AVG Validation Acc 77.93 %\n",
      "Epoch:100/100 AVG Training Loss:0.417 AVG Validation Loss:0.585 AVG Training Acc 80.95 % AVG Validation Acc 77.79 %\n",
      "Split 170\n"
     ]
    },
    {
     "data": {
      "application/vnd.jupyter.widget-view+json": {
       "model_id": "2e445c7556f542e092322e4b4e8f4127",
       "version_major": 2,
       "version_minor": 0
      },
      "text/plain": [
       "  0%|          | 0/100 [00:00<?, ?it/s]"
      ]
     },
     "metadata": {},
     "output_type": "display_data"
    },
    {
     "name": "stdout",
     "output_type": "stream",
     "text": [
      "Epoch:10/100 AVG Training Loss:0.493 AVG Validation Loss:0.490 AVG Training Acc 79.83 % AVG Validation Acc 79.81 %\n",
      "Epoch:20/100 AVG Training Loss:0.489 AVG Validation Loss:0.480 AVG Training Acc 79.90 % AVG Validation Acc 79.81 %\n",
      "Epoch:30/100 AVG Training Loss:0.478 AVG Validation Loss:0.476 AVG Training Acc 79.77 % AVG Validation Acc 79.95 %\n",
      "Epoch    35: reducing learning rate of group 0 to 1.0000e-03.\n",
      "Epoch:40/100 AVG Training Loss:0.453 AVG Validation Loss:0.480 AVG Training Acc 80.35 % AVG Validation Acc 80.08 %\n",
      "Epoch:50/100 AVG Training Loss:0.439 AVG Validation Loss:0.487 AVG Training Acc 80.88 % AVG Validation Acc 79.81 %\n",
      "Epoch:60/100 AVG Training Loss:0.428 AVG Validation Loss:0.495 AVG Training Acc 81.22 % AVG Validation Acc 79.54 %\n",
      "Epoch    66: reducing learning rate of group 0 to 1.0000e-04.\n",
      "Epoch:70/100 AVG Training Loss:0.419 AVG Validation Loss:0.498 AVG Training Acc 81.25 % AVG Validation Acc 79.14 %\n",
      "Epoch:80/100 AVG Training Loss:0.415 AVG Validation Loss:0.502 AVG Training Acc 81.47 % AVG Validation Acc 79.14 %\n",
      "Epoch:90/100 AVG Training Loss:0.414 AVG Validation Loss:0.502 AVG Training Acc 81.55 % AVG Validation Acc 78.87 %\n",
      "Epoch    97: reducing learning rate of group 0 to 1.0000e-05.\n",
      "Epoch:100/100 AVG Training Loss:0.413 AVG Validation Loss:0.509 AVG Training Acc 81.80 % AVG Validation Acc 78.87 %\n",
      "Split 171\n"
     ]
    },
    {
     "data": {
      "application/vnd.jupyter.widget-view+json": {
       "model_id": "aa33228c12954d70aaf2a8c499aa8bc5",
       "version_major": 2,
       "version_minor": 0
      },
      "text/plain": [
       "  0%|          | 0/100 [00:00<?, ?it/s]"
      ]
     },
     "metadata": {},
     "output_type": "display_data"
    },
    {
     "name": "stdout",
     "output_type": "stream",
     "text": [
      "Epoch:10/100 AVG Training Loss:0.482 AVG Validation Loss:0.544 AVG Training Acc 80.30 % AVG Validation Acc 75.94 %\n",
      "Epoch:20/100 AVG Training Loss:0.475 AVG Validation Loss:0.547 AVG Training Acc 80.35 % AVG Validation Acc 76.08 %\n",
      "Epoch    29: reducing learning rate of group 0 to 1.0000e-03.\n",
      "Epoch:30/100 AVG Training Loss:0.458 AVG Validation Loss:0.570 AVG Training Acc 80.77 % AVG Validation Acc 75.40 %\n",
      "Epoch:40/100 AVG Training Loss:0.438 AVG Validation Loss:0.611 AVG Training Acc 80.98 % AVG Validation Acc 75.13 %\n",
      "Epoch:50/100 AVG Training Loss:0.428 AVG Validation Loss:0.628 AVG Training Acc 81.25 % AVG Validation Acc 75.00 %\n",
      "Epoch:60/100 AVG Training Loss:0.420 AVG Validation Loss:0.661 AVG Training Acc 81.32 % AVG Validation Acc 74.60 %\n",
      "Epoch    60: reducing learning rate of group 0 to 1.0000e-04.\n",
      "Epoch:70/100 AVG Training Loss:0.415 AVG Validation Loss:0.663 AVG Training Acc 81.47 % AVG Validation Acc 74.73 %\n",
      "Epoch:80/100 AVG Training Loss:0.413 AVG Validation Loss:0.661 AVG Training Acc 81.63 % AVG Validation Acc 74.73 %\n",
      "Epoch:90/100 AVG Training Loss:0.412 AVG Validation Loss:0.663 AVG Training Acc 81.52 % AVG Validation Acc 74.87 %\n",
      "Epoch    91: reducing learning rate of group 0 to 1.0000e-05.\n",
      "Epoch:100/100 AVG Training Loss:0.410 AVG Validation Loss:0.666 AVG Training Acc 81.66 % AVG Validation Acc 74.87 %\n",
      "Split 172\n"
     ]
    },
    {
     "data": {
      "application/vnd.jupyter.widget-view+json": {
       "model_id": "9d11f9c52248443987b4e7a26d5898ad",
       "version_major": 2,
       "version_minor": 0
      },
      "text/plain": [
       "  0%|          | 0/100 [00:00<?, ?it/s]"
      ]
     },
     "metadata": {},
     "output_type": "display_data"
    },
    {
     "name": "stdout",
     "output_type": "stream",
     "text": [
      "Epoch:10/100 AVG Training Loss:0.494 AVG Validation Loss:0.468 AVG Training Acc 79.62 % AVG Validation Acc 81.72 %\n",
      "Epoch:20/100 AVG Training Loss:0.487 AVG Validation Loss:0.466 AVG Training Acc 79.72 % AVG Validation Acc 81.72 %\n",
      "Epoch:30/100 AVG Training Loss:0.476 AVG Validation Loss:0.478 AVG Training Acc 79.80 % AVG Validation Acc 81.05 %\n",
      "Epoch    37: reducing learning rate of group 0 to 1.0000e-03.\n",
      "Epoch:40/100 AVG Training Loss:0.504 AVG Validation Loss:0.476 AVG Training Acc 79.66 % AVG Validation Acc 81.72 %\n",
      "Epoch:50/100 AVG Training Loss:0.503 AVG Validation Loss:0.475 AVG Training Acc 79.66 % AVG Validation Acc 81.72 %\n",
      "Epoch:60/100 AVG Training Loss:0.504 AVG Validation Loss:0.473 AVG Training Acc 79.66 % AVG Validation Acc 81.72 %\n",
      "Epoch    68: reducing learning rate of group 0 to 1.0000e-04.\n",
      "Epoch:70/100 AVG Training Loss:0.500 AVG Validation Loss:0.476 AVG Training Acc 79.66 % AVG Validation Acc 81.72 %\n",
      "Epoch:80/100 AVG Training Loss:0.500 AVG Validation Loss:0.477 AVG Training Acc 79.66 % AVG Validation Acc 81.72 %\n",
      "Epoch:90/100 AVG Training Loss:0.500 AVG Validation Loss:0.477 AVG Training Acc 79.66 % AVG Validation Acc 81.72 %\n",
      "Epoch    99: reducing learning rate of group 0 to 1.0000e-05.\n",
      "Epoch:100/100 AVG Training Loss:0.500 AVG Validation Loss:0.476 AVG Training Acc 79.66 % AVG Validation Acc 81.72 %\n",
      "Split 173\n"
     ]
    },
    {
     "data": {
      "application/vnd.jupyter.widget-view+json": {
       "model_id": "52299cf050544b1faf7c3ebd620c58dd",
       "version_major": 2,
       "version_minor": 0
      },
      "text/plain": [
       "  0%|          | 0/100 [00:00<?, ?it/s]"
      ]
     },
     "metadata": {},
     "output_type": "display_data"
    },
    {
     "name": "stdout",
     "output_type": "stream",
     "text": [
      "Epoch:10/100 AVG Training Loss:0.497 AVG Validation Loss:0.445 AVG Training Acc 79.48 % AVG Validation Acc 82.80 %\n",
      "Epoch:20/100 AVG Training Loss:0.491 AVG Validation Loss:0.440 AVG Training Acc 79.51 % AVG Validation Acc 82.66 %\n",
      "Epoch    28: reducing learning rate of group 0 to 1.0000e-03.\n",
      "Epoch:30/100 AVG Training Loss:0.476 AVG Validation Loss:0.441 AVG Training Acc 79.69 % AVG Validation Acc 82.66 %\n",
      "Epoch:40/100 AVG Training Loss:0.464 AVG Validation Loss:0.446 AVG Training Acc 79.89 % AVG Validation Acc 82.66 %\n",
      "Epoch:50/100 AVG Training Loss:0.454 AVG Validation Loss:0.451 AVG Training Acc 80.08 % AVG Validation Acc 82.39 %\n",
      "Epoch    59: reducing learning rate of group 0 to 1.0000e-04.\n",
      "Epoch:60/100 AVG Training Loss:0.447 AVG Validation Loss:0.457 AVG Training Acc 80.10 % AVG Validation Acc 82.12 %\n",
      "Epoch:70/100 AVG Training Loss:0.444 AVG Validation Loss:0.461 AVG Training Acc 80.04 % AVG Validation Acc 82.12 %\n",
      "Epoch:80/100 AVG Training Loss:0.443 AVG Validation Loss:0.465 AVG Training Acc 80.22 % AVG Validation Acc 81.85 %\n",
      "Epoch:90/100 AVG Training Loss:0.437 AVG Validation Loss:0.461 AVG Training Acc 80.29 % AVG Validation Acc 81.45 %\n",
      "Epoch    90: reducing learning rate of group 0 to 1.0000e-05.\n",
      "Epoch:100/100 AVG Training Loss:0.439 AVG Validation Loss:0.462 AVG Training Acc 80.30 % AVG Validation Acc 81.59 %\n",
      "Split 174\n"
     ]
    },
    {
     "data": {
      "application/vnd.jupyter.widget-view+json": {
       "model_id": "1b539356d2714c0db157a4dac5f6a26c",
       "version_major": 2,
       "version_minor": 0
      },
      "text/plain": [
       "  0%|          | 0/100 [00:00<?, ?it/s]"
      ]
     },
     "metadata": {},
     "output_type": "display_data"
    },
    {
     "name": "stdout",
     "output_type": "stream",
     "text": [
      "Epoch:10/100 AVG Training Loss:0.489 AVG Validation Loss:0.552 AVG Training Acc 80.13 % AVG Validation Acc 77.69 %\n",
      "Epoch:20/100 AVG Training Loss:0.482 AVG Validation Loss:0.499 AVG Training Acc 80.04 % AVG Validation Acc 77.69 %\n",
      "Epoch:30/100 AVG Training Loss:0.475 AVG Validation Loss:0.499 AVG Training Acc 80.13 % AVG Validation Acc 78.23 %\n",
      "Epoch:40/100 AVG Training Loss:0.471 AVG Validation Loss:0.509 AVG Training Acc 80.22 % AVG Validation Acc 77.82 %\n",
      "Epoch:50/100 AVG Training Loss:0.459 AVG Validation Loss:0.508 AVG Training Acc 80.56 % AVG Validation Acc 77.55 %\n",
      "Epoch:60/100 AVG Training Loss:0.464 AVG Validation Loss:0.504 AVG Training Acc 80.47 % AVG Validation Acc 77.42 %\n",
      "Epoch    60: reducing learning rate of group 0 to 1.0000e-03.\n",
      "Epoch:70/100 AVG Training Loss:0.435 AVG Validation Loss:0.524 AVG Training Acc 81.08 % AVG Validation Acc 77.42 %\n",
      "Epoch:80/100 AVG Training Loss:0.420 AVG Validation Loss:0.547 AVG Training Acc 81.53 % AVG Validation Acc 77.15 %\n",
      "Epoch:90/100 AVG Training Loss:0.409 AVG Validation Loss:0.555 AVG Training Acc 81.80 % AVG Validation Acc 77.55 %\n",
      "Epoch    91: reducing learning rate of group 0 to 1.0000e-04.\n",
      "Epoch:100/100 AVG Training Loss:0.407 AVG Validation Loss:0.571 AVG Training Acc 81.62 % AVG Validation Acc 77.02 %\n",
      "Split 175\n"
     ]
    },
    {
     "data": {
      "application/vnd.jupyter.widget-view+json": {
       "model_id": "00cc1c17c4904a7aa37c91340261cb31",
       "version_major": 2,
       "version_minor": 0
      },
      "text/plain": [
       "  0%|          | 0/100 [00:00<?, ?it/s]"
      ]
     },
     "metadata": {},
     "output_type": "display_data"
    },
    {
     "name": "stdout",
     "output_type": "stream",
     "text": [
      "Epoch:10/100 AVG Training Loss:0.490 AVG Validation Loss:0.491 AVG Training Acc 79.86 % AVG Validation Acc 80.11 %\n",
      "Epoch:20/100 AVG Training Loss:0.490 AVG Validation Loss:0.491 AVG Training Acc 79.84 % AVG Validation Acc 80.11 %\n",
      "Epoch:30/100 AVG Training Loss:0.484 AVG Validation Loss:0.480 AVG Training Acc 79.83 % AVG Validation Acc 79.97 %\n",
      "Epoch:40/100 AVG Training Loss:0.477 AVG Validation Loss:0.479 AVG Training Acc 80.07 % AVG Validation Acc 79.84 %\n",
      "Epoch    48: reducing learning rate of group 0 to 1.0000e-03.\n",
      "Epoch:50/100 AVG Training Loss:0.464 AVG Validation Loss:0.486 AVG Training Acc 80.26 % AVG Validation Acc 79.70 %\n",
      "Epoch:60/100 AVG Training Loss:0.447 AVG Validation Loss:0.499 AVG Training Acc 80.42 % AVG Validation Acc 79.03 %\n",
      "Epoch:70/100 AVG Training Loss:0.436 AVG Validation Loss:0.510 AVG Training Acc 80.71 % AVG Validation Acc 79.17 %\n",
      "Epoch    79: reducing learning rate of group 0 to 1.0000e-04.\n",
      "Epoch:80/100 AVG Training Loss:0.424 AVG Validation Loss:0.523 AVG Training Acc 81.17 % AVG Validation Acc 79.03 %\n",
      "Epoch:90/100 AVG Training Loss:0.421 AVG Validation Loss:0.524 AVG Training Acc 81.20 % AVG Validation Acc 78.90 %\n",
      "Epoch:100/100 AVG Training Loss:0.427 AVG Validation Loss:0.530 AVG Training Acc 81.13 % AVG Validation Acc 78.90 %\n",
      "Split 176\n"
     ]
    },
    {
     "data": {
      "application/vnd.jupyter.widget-view+json": {
       "model_id": "7b80df8ec52343ae953fe3635575e700",
       "version_major": 2,
       "version_minor": 0
      },
      "text/plain": [
       "  0%|          | 0/100 [00:00<?, ?it/s]"
      ]
     },
     "metadata": {},
     "output_type": "display_data"
    },
    {
     "name": "stdout",
     "output_type": "stream",
     "text": [
      "Epoch:10/100 AVG Training Loss:0.488 AVG Validation Loss:0.513 AVG Training Acc 79.89 % AVG Validation Acc 78.36 %\n",
      "Epoch:20/100 AVG Training Loss:0.480 AVG Validation Loss:0.520 AVG Training Acc 80.07 % AVG Validation Acc 78.36 %\n",
      "Epoch    24: reducing learning rate of group 0 to 1.0000e-03.\n",
      "Epoch:30/100 AVG Training Loss:0.466 AVG Validation Loss:0.523 AVG Training Acc 80.17 % AVG Validation Acc 78.09 %\n",
      "Epoch:40/100 AVG Training Loss:0.453 AVG Validation Loss:0.535 AVG Training Acc 80.54 % AVG Validation Acc 78.23 %\n",
      "Epoch:50/100 AVG Training Loss:0.442 AVG Validation Loss:0.547 AVG Training Acc 80.60 % AVG Validation Acc 77.96 %\n",
      "Epoch    55: reducing learning rate of group 0 to 1.0000e-04.\n",
      "Epoch:60/100 AVG Training Loss:0.434 AVG Validation Loss:0.549 AVG Training Acc 81.10 % AVG Validation Acc 77.82 %\n",
      "Epoch:70/100 AVG Training Loss:0.430 AVG Validation Loss:0.546 AVG Training Acc 81.28 % AVG Validation Acc 78.09 %\n",
      "Epoch:80/100 AVG Training Loss:0.432 AVG Validation Loss:0.550 AVG Training Acc 81.05 % AVG Validation Acc 78.36 %\n",
      "Epoch    86: reducing learning rate of group 0 to 1.0000e-05.\n",
      "Epoch:90/100 AVG Training Loss:0.430 AVG Validation Loss:0.552 AVG Training Acc 81.07 % AVG Validation Acc 77.82 %\n",
      "Epoch:100/100 AVG Training Loss:0.429 AVG Validation Loss:0.554 AVG Training Acc 81.41 % AVG Validation Acc 77.96 %\n",
      "Split 177\n"
     ]
    },
    {
     "data": {
      "application/vnd.jupyter.widget-view+json": {
       "model_id": "1f94cc5ed2b04c63877189fe6960bda0",
       "version_major": 2,
       "version_minor": 0
      },
      "text/plain": [
       "  0%|          | 0/100 [00:00<?, ?it/s]"
      ]
     },
     "metadata": {},
     "output_type": "display_data"
    },
    {
     "name": "stdout",
     "output_type": "stream",
     "text": [
      "Epoch:10/100 AVG Training Loss:0.488 AVG Validation Loss:0.507 AVG Training Acc 79.92 % AVG Validation Acc 79.00 %\n",
      "Epoch:20/100 AVG Training Loss:0.483 AVG Validation Loss:0.505 AVG Training Acc 79.96 % AVG Validation Acc 79.00 %\n",
      "Epoch:30/100 AVG Training Loss:0.475 AVG Validation Loss:0.508 AVG Training Acc 79.99 % AVG Validation Acc 79.00 %\n",
      "Epoch:40/100 AVG Training Loss:0.469 AVG Validation Loss:0.513 AVG Training Acc 79.99 % AVG Validation Acc 79.00 %\n",
      "Epoch    40: reducing learning rate of group 0 to 1.0000e-03.\n",
      "Epoch:50/100 AVG Training Loss:0.438 AVG Validation Loss:0.546 AVG Training Acc 80.83 % AVG Validation Acc 78.60 %\n",
      "Epoch:60/100 AVG Training Loss:0.433 AVG Validation Loss:0.558 AVG Training Acc 80.92 % AVG Validation Acc 78.47 %\n",
      "Epoch:70/100 AVG Training Loss:0.423 AVG Validation Loss:0.584 AVG Training Acc 81.22 % AVG Validation Acc 77.93 %\n",
      "Epoch    71: reducing learning rate of group 0 to 1.0000e-04.\n",
      "Epoch:80/100 AVG Training Loss:0.418 AVG Validation Loss:0.587 AVG Training Acc 81.35 % AVG Validation Acc 77.79 %\n",
      "Epoch:90/100 AVG Training Loss:0.417 AVG Validation Loss:0.590 AVG Training Acc 81.14 % AVG Validation Acc 77.66 %\n",
      "Epoch:100/100 AVG Training Loss:0.417 AVG Validation Loss:0.594 AVG Training Acc 81.22 % AVG Validation Acc 78.47 %\n",
      "Split 178\n"
     ]
    },
    {
     "data": {
      "application/vnd.jupyter.widget-view+json": {
       "model_id": "6c6630f36a614241820c58e137f333bd",
       "version_major": 2,
       "version_minor": 0
      },
      "text/plain": [
       "  0%|          | 0/100 [00:00<?, ?it/s]"
      ]
     },
     "metadata": {},
     "output_type": "display_data"
    },
    {
     "name": "stdout",
     "output_type": "stream",
     "text": [
      "Epoch:10/100 AVG Training Loss:0.495 AVG Validation Loss:0.462 AVG Training Acc 79.62 % AVG Validation Acc 81.43 %\n",
      "Epoch:20/100 AVG Training Loss:0.490 AVG Validation Loss:0.461 AVG Training Acc 79.70 % AVG Validation Acc 81.43 %\n",
      "Epoch    24: reducing learning rate of group 0 to 1.0000e-03.\n",
      "Epoch:30/100 AVG Training Loss:0.477 AVG Validation Loss:0.465 AVG Training Acc 79.65 % AVG Validation Acc 81.43 %\n",
      "Epoch:40/100 AVG Training Loss:0.469 AVG Validation Loss:0.467 AVG Training Acc 79.71 % AVG Validation Acc 81.16 %\n",
      "Epoch:50/100 AVG Training Loss:0.461 AVG Validation Loss:0.471 AVG Training Acc 80.10 % AVG Validation Acc 80.75 %\n",
      "Epoch    55: reducing learning rate of group 0 to 1.0000e-04.\n",
      "Epoch:60/100 AVG Training Loss:0.455 AVG Validation Loss:0.473 AVG Training Acc 80.02 % AVG Validation Acc 80.62 %\n",
      "Epoch:70/100 AVG Training Loss:0.453 AVG Validation Loss:0.475 AVG Training Acc 80.14 % AVG Validation Acc 81.02 %\n",
      "Epoch:80/100 AVG Training Loss:0.453 AVG Validation Loss:0.475 AVG Training Acc 80.19 % AVG Validation Acc 80.75 %\n",
      "Epoch    86: reducing learning rate of group 0 to 1.0000e-05.\n",
      "Epoch:90/100 AVG Training Loss:0.448 AVG Validation Loss:0.478 AVG Training Acc 80.43 % AVG Validation Acc 80.48 %\n",
      "Epoch:100/100 AVG Training Loss:0.452 AVG Validation Loss:0.479 AVG Training Acc 80.16 % AVG Validation Acc 80.48 %\n",
      "Split 179\n"
     ]
    },
    {
     "data": {
      "application/vnd.jupyter.widget-view+json": {
       "model_id": "96a1460fcd814854a27e78fdadb191d2",
       "version_major": 2,
       "version_minor": 0
      },
      "text/plain": [
       "  0%|          | 0/100 [00:00<?, ?it/s]"
      ]
     },
     "metadata": {},
     "output_type": "display_data"
    },
    {
     "name": "stdout",
     "output_type": "stream",
     "text": [
      "Epoch:10/100 AVG Training Loss:0.505 AVG Validation Loss:0.497 AVG Training Acc 79.84 % AVG Validation Acc 80.08 %\n",
      "Epoch:20/100 AVG Training Loss:0.491 AVG Validation Loss:0.492 AVG Training Acc 79.73 % AVG Validation Acc 80.08 %\n",
      "Epoch:30/100 AVG Training Loss:0.487 AVG Validation Loss:0.485 AVG Training Acc 79.84 % AVG Validation Acc 80.08 %\n",
      "Epoch:40/100 AVG Training Loss:0.479 AVG Validation Loss:0.486 AVG Training Acc 79.89 % AVG Validation Acc 80.08 %\n",
      "Epoch:50/100 AVG Training Loss:0.471 AVG Validation Loss:0.487 AVG Training Acc 79.83 % AVG Validation Acc 79.95 %\n",
      "Epoch    50: reducing learning rate of group 0 to 1.0000e-03.\n",
      "Epoch:60/100 AVG Training Loss:0.459 AVG Validation Loss:0.498 AVG Training Acc 80.05 % AVG Validation Acc 79.81 %\n",
      "Epoch:70/100 AVG Training Loss:0.455 AVG Validation Loss:0.510 AVG Training Acc 80.11 % AVG Validation Acc 79.81 %\n",
      "Epoch:80/100 AVG Training Loss:0.449 AVG Validation Loss:0.514 AVG Training Acc 80.17 % AVG Validation Acc 79.81 %\n",
      "Epoch    81: reducing learning rate of group 0 to 1.0000e-04.\n",
      "Epoch:90/100 AVG Training Loss:0.445 AVG Validation Loss:0.515 AVG Training Acc 80.23 % AVG Validation Acc 79.81 %\n",
      "Epoch:100/100 AVG Training Loss:0.444 AVG Validation Loss:0.527 AVG Training Acc 80.13 % AVG Validation Acc 79.68 %\n",
      "Split 180\n"
     ]
    },
    {
     "data": {
      "application/vnd.jupyter.widget-view+json": {
       "model_id": "ad093837301140a9afe12ebf51c6f361",
       "version_major": 2,
       "version_minor": 0
      },
      "text/plain": [
       "  0%|          | 0/100 [00:00<?, ?it/s]"
      ]
     },
     "metadata": {},
     "output_type": "display_data"
    },
    {
     "name": "stdout",
     "output_type": "stream",
     "text": [
      "Epoch:10/100 AVG Training Loss:0.495 AVG Validation Loss:0.477 AVG Training Acc 79.68 % AVG Validation Acc 81.56 %\n",
      "Epoch    19: reducing learning rate of group 0 to 1.0000e-03.\n",
      "Epoch:20/100 AVG Training Loss:0.482 AVG Validation Loss:0.467 AVG Training Acc 79.65 % AVG Validation Acc 81.56 %\n",
      "Epoch:30/100 AVG Training Loss:0.475 AVG Validation Loss:0.474 AVG Training Acc 79.81 % AVG Validation Acc 81.43 %\n",
      "Epoch:40/100 AVG Training Loss:0.466 AVG Validation Loss:0.476 AVG Training Acc 79.90 % AVG Validation Acc 81.29 %\n",
      "Epoch:50/100 AVG Training Loss:0.456 AVG Validation Loss:0.481 AVG Training Acc 80.35 % AVG Validation Acc 81.16 %\n",
      "Epoch    50: reducing learning rate of group 0 to 1.0000e-04.\n",
      "Epoch:60/100 AVG Training Loss:0.453 AVG Validation Loss:0.485 AVG Training Acc 80.08 % AVG Validation Acc 80.89 %\n",
      "Epoch:70/100 AVG Training Loss:0.447 AVG Validation Loss:0.488 AVG Training Acc 80.49 % AVG Validation Acc 80.89 %\n",
      "Epoch:80/100 AVG Training Loss:0.446 AVG Validation Loss:0.486 AVG Training Acc 80.68 % AVG Validation Acc 81.02 %\n",
      "Epoch    81: reducing learning rate of group 0 to 1.0000e-05.\n",
      "Epoch:90/100 AVG Training Loss:0.445 AVG Validation Loss:0.491 AVG Training Acc 80.59 % AVG Validation Acc 81.02 %\n",
      "Epoch:100/100 AVG Training Loss:0.445 AVG Validation Loss:0.490 AVG Training Acc 80.35 % AVG Validation Acc 81.02 %\n",
      "Split 181\n"
     ]
    },
    {
     "data": {
      "application/vnd.jupyter.widget-view+json": {
       "model_id": "b624de7b3f9a425e9169f6dbef9c3639",
       "version_major": 2,
       "version_minor": 0
      },
      "text/plain": [
       "  0%|          | 0/100 [00:00<?, ?it/s]"
      ]
     },
     "metadata": {},
     "output_type": "display_data"
    },
    {
     "name": "stdout",
     "output_type": "stream",
     "text": [
      "Epoch:10/100 AVG Training Loss:0.494 AVG Validation Loss:0.465 AVG Training Acc 79.63 % AVG Validation Acc 81.05 %\n",
      "Epoch:20/100 AVG Training Loss:0.488 AVG Validation Loss:0.465 AVG Training Acc 79.71 % AVG Validation Acc 81.18 %\n",
      "Epoch    28: reducing learning rate of group 0 to 1.0000e-03.\n",
      "Epoch:30/100 AVG Training Loss:0.467 AVG Validation Loss:0.465 AVG Training Acc 80.13 % AVG Validation Acc 80.78 %\n",
      "Epoch:40/100 AVG Training Loss:0.456 AVG Validation Loss:0.475 AVG Training Acc 80.16 % AVG Validation Acc 80.65 %\n",
      "Epoch:50/100 AVG Training Loss:0.446 AVG Validation Loss:0.484 AVG Training Acc 80.36 % AVG Validation Acc 80.11 %\n",
      "Epoch    59: reducing learning rate of group 0 to 1.0000e-04.\n",
      "Epoch:60/100 AVG Training Loss:0.440 AVG Validation Loss:0.488 AVG Training Acc 80.39 % AVG Validation Acc 79.97 %\n",
      "Epoch:70/100 AVG Training Loss:0.434 AVG Validation Loss:0.494 AVG Training Acc 80.90 % AVG Validation Acc 80.11 %\n",
      "Epoch:80/100 AVG Training Loss:0.434 AVG Validation Loss:0.493 AVG Training Acc 80.75 % AVG Validation Acc 79.97 %\n",
      "Epoch:90/100 AVG Training Loss:0.433 AVG Validation Loss:0.494 AVG Training Acc 80.75 % AVG Validation Acc 79.97 %\n",
      "Epoch    90: reducing learning rate of group 0 to 1.0000e-05.\n",
      "Epoch:100/100 AVG Training Loss:0.432 AVG Validation Loss:0.496 AVG Training Acc 80.68 % AVG Validation Acc 79.70 %\n",
      "Split 182\n"
     ]
    },
    {
     "data": {
      "application/vnd.jupyter.widget-view+json": {
       "model_id": "d29c55af2d7f4774bcb73def6753fef1",
       "version_major": 2,
       "version_minor": 0
      },
      "text/plain": [
       "  0%|          | 0/100 [00:00<?, ?it/s]"
      ]
     },
     "metadata": {},
     "output_type": "display_data"
    },
    {
     "name": "stdout",
     "output_type": "stream",
     "text": [
      "Epoch:10/100 AVG Training Loss:0.492 AVG Validation Loss:0.478 AVG Training Acc 79.72 % AVG Validation Acc 80.78 %\n",
      "Epoch:20/100 AVG Training Loss:0.486 AVG Validation Loss:0.476 AVG Training Acc 79.66 % AVG Validation Acc 80.78 %\n",
      "Epoch    23: reducing learning rate of group 0 to 1.0000e-03.\n",
      "Epoch:30/100 AVG Training Loss:0.476 AVG Validation Loss:0.479 AVG Training Acc 79.84 % AVG Validation Acc 80.78 %\n",
      "Epoch:40/100 AVG Training Loss:0.469 AVG Validation Loss:0.489 AVG Training Acc 80.01 % AVG Validation Acc 80.65 %\n",
      "Epoch:50/100 AVG Training Loss:0.460 AVG Validation Loss:0.496 AVG Training Acc 80.16 % AVG Validation Acc 80.51 %\n",
      "Epoch    54: reducing learning rate of group 0 to 1.0000e-04.\n",
      "Epoch:60/100 AVG Training Loss:0.451 AVG Validation Loss:0.503 AVG Training Acc 80.63 % AVG Validation Acc 79.97 %\n",
      "Epoch:70/100 AVG Training Loss:0.453 AVG Validation Loss:0.506 AVG Training Acc 80.47 % AVG Validation Acc 79.84 %\n",
      "Epoch:80/100 AVG Training Loss:0.450 AVG Validation Loss:0.510 AVG Training Acc 80.57 % AVG Validation Acc 79.97 %\n",
      "Epoch    85: reducing learning rate of group 0 to 1.0000e-05.\n",
      "Epoch:90/100 AVG Training Loss:0.449 AVG Validation Loss:0.511 AVG Training Acc 80.48 % AVG Validation Acc 79.97 %\n",
      "Epoch:100/100 AVG Training Loss:0.450 AVG Validation Loss:0.512 AVG Training Acc 80.42 % AVG Validation Acc 79.84 %\n",
      "Split 183\n"
     ]
    },
    {
     "data": {
      "application/vnd.jupyter.widget-view+json": {
       "model_id": "bce7f1c003e34900bdbe62fdb5a833f6",
       "version_major": 2,
       "version_minor": 0
      },
      "text/plain": [
       "  0%|          | 0/100 [00:00<?, ?it/s]"
      ]
     },
     "metadata": {},
     "output_type": "display_data"
    },
    {
     "name": "stdout",
     "output_type": "stream",
     "text": [
      "Epoch:10/100 AVG Training Loss:0.492 AVG Validation Loss:0.473 AVG Training Acc 79.83 % AVG Validation Acc 79.57 %\n",
      "Epoch:20/100 AVG Training Loss:0.486 AVG Validation Loss:0.478 AVG Training Acc 79.89 % AVG Validation Acc 79.57 %\n",
      "Epoch    21: reducing learning rate of group 0 to 1.0000e-03.\n",
      "Epoch:30/100 AVG Training Loss:0.477 AVG Validation Loss:0.485 AVG Training Acc 80.04 % AVG Validation Acc 79.44 %\n",
      "Epoch:40/100 AVG Training Loss:0.474 AVG Validation Loss:0.489 AVG Training Acc 79.90 % AVG Validation Acc 79.30 %\n",
      "Epoch:50/100 AVG Training Loss:0.469 AVG Validation Loss:0.490 AVG Training Acc 80.11 % AVG Validation Acc 79.30 %\n",
      "Epoch    52: reducing learning rate of group 0 to 1.0000e-04.\n",
      "Epoch:60/100 AVG Training Loss:0.462 AVG Validation Loss:0.494 AVG Training Acc 80.16 % AVG Validation Acc 79.30 %\n",
      "Epoch:70/100 AVG Training Loss:0.462 AVG Validation Loss:0.496 AVG Training Acc 80.29 % AVG Validation Acc 78.90 %\n",
      "Epoch:80/100 AVG Training Loss:0.458 AVG Validation Loss:0.499 AVG Training Acc 80.29 % AVG Validation Acc 78.76 %\n",
      "Epoch    83: reducing learning rate of group 0 to 1.0000e-05.\n",
      "Epoch:90/100 AVG Training Loss:0.458 AVG Validation Loss:0.499 AVG Training Acc 80.27 % AVG Validation Acc 78.76 %\n",
      "Epoch:100/100 AVG Training Loss:0.459 AVG Validation Loss:0.498 AVG Training Acc 80.25 % AVG Validation Acc 78.76 %\n",
      "Split 184\n"
     ]
    },
    {
     "data": {
      "application/vnd.jupyter.widget-view+json": {
       "model_id": "049d9978d1bd45e6be3c8ade6902ce93",
       "version_major": 2,
       "version_minor": 0
      },
      "text/plain": [
       "  0%|          | 0/100 [00:00<?, ?it/s]"
      ]
     },
     "metadata": {},
     "output_type": "display_data"
    },
    {
     "name": "stdout",
     "output_type": "stream",
     "text": [
      "Epoch:10/100 AVG Training Loss:0.490 AVG Validation Loss:0.494 AVG Training Acc 79.84 % AVG Validation Acc 79.84 %\n",
      "Epoch:20/100 AVG Training Loss:0.501 AVG Validation Loss:0.497 AVG Training Acc 79.74 % AVG Validation Acc 79.84 %\n",
      "Epoch    22: reducing learning rate of group 0 to 1.0000e-03.\n",
      "Epoch:30/100 AVG Training Loss:0.496 AVG Validation Loss:0.496 AVG Training Acc 79.87 % AVG Validation Acc 79.84 %\n",
      "Epoch:40/100 AVG Training Loss:0.492 AVG Validation Loss:0.491 AVG Training Acc 79.87 % AVG Validation Acc 79.84 %\n",
      "Epoch:50/100 AVG Training Loss:0.490 AVG Validation Loss:0.491 AVG Training Acc 79.87 % AVG Validation Acc 79.84 %\n",
      "Epoch    57: reducing learning rate of group 0 to 1.0000e-04.\n",
      "Epoch:60/100 AVG Training Loss:0.488 AVG Validation Loss:0.492 AVG Training Acc 79.87 % AVG Validation Acc 79.84 %\n",
      "Epoch:70/100 AVG Training Loss:0.490 AVG Validation Loss:0.493 AVG Training Acc 79.89 % AVG Validation Acc 79.84 %\n",
      "Epoch:80/100 AVG Training Loss:0.488 AVG Validation Loss:0.493 AVG Training Acc 79.87 % AVG Validation Acc 79.84 %\n",
      "Epoch    88: reducing learning rate of group 0 to 1.0000e-05.\n",
      "Epoch:90/100 AVG Training Loss:0.488 AVG Validation Loss:0.493 AVG Training Acc 79.90 % AVG Validation Acc 79.84 %\n",
      "Epoch:100/100 AVG Training Loss:0.489 AVG Validation Loss:0.493 AVG Training Acc 79.87 % AVG Validation Acc 79.84 %\n",
      "Split 185\n"
     ]
    },
    {
     "data": {
      "application/vnd.jupyter.widget-view+json": {
       "model_id": "3cdbad69a44345e0b382033f4e4372c1",
       "version_major": 2,
       "version_minor": 0
      },
      "text/plain": [
       "  0%|          | 0/100 [00:00<?, ?it/s]"
      ]
     },
     "metadata": {},
     "output_type": "display_data"
    },
    {
     "name": "stdout",
     "output_type": "stream",
     "text": [
      "Epoch:10/100 AVG Training Loss:0.486 AVG Validation Loss:0.522 AVG Training Acc 80.04 % AVG Validation Acc 78.36 %\n",
      "Epoch:20/100 AVG Training Loss:0.479 AVG Validation Loss:0.527 AVG Training Acc 80.07 % AVG Validation Acc 78.36 %\n",
      "Epoch    20: reducing learning rate of group 0 to 1.0000e-03.\n",
      "Epoch:30/100 AVG Training Loss:0.465 AVG Validation Loss:0.537 AVG Training Acc 80.26 % AVG Validation Acc 78.23 %\n",
      "Epoch:40/100 AVG Training Loss:0.459 AVG Validation Loss:0.544 AVG Training Acc 80.33 % AVG Validation Acc 78.36 %\n",
      "Epoch:50/100 AVG Training Loss:0.451 AVG Validation Loss:0.557 AVG Training Acc 80.54 % AVG Validation Acc 78.23 %\n",
      "Epoch    51: reducing learning rate of group 0 to 1.0000e-04.\n",
      "Epoch:60/100 AVG Training Loss:0.443 AVG Validation Loss:0.566 AVG Training Acc 80.90 % AVG Validation Acc 77.96 %\n",
      "Epoch:70/100 AVG Training Loss:0.442 AVG Validation Loss:0.574 AVG Training Acc 80.87 % AVG Validation Acc 77.42 %\n",
      "Epoch:80/100 AVG Training Loss:0.441 AVG Validation Loss:0.575 AVG Training Acc 80.96 % AVG Validation Acc 77.69 %\n",
      "Epoch    82: reducing learning rate of group 0 to 1.0000e-05.\n",
      "Epoch:90/100 AVG Training Loss:0.443 AVG Validation Loss:0.578 AVG Training Acc 80.98 % AVG Validation Acc 77.82 %\n",
      "Epoch:100/100 AVG Training Loss:0.441 AVG Validation Loss:0.579 AVG Training Acc 81.05 % AVG Validation Acc 77.69 %\n",
      "Split 186\n"
     ]
    },
    {
     "data": {
      "application/vnd.jupyter.widget-view+json": {
       "model_id": "f0f249bd813840efa51f56247e4a96d1",
       "version_major": 2,
       "version_minor": 0
      },
      "text/plain": [
       "  0%|          | 0/100 [00:00<?, ?it/s]"
      ]
     },
     "metadata": {},
     "output_type": "display_data"
    },
    {
     "name": "stdout",
     "output_type": "stream",
     "text": [
      "Epoch:10/100 AVG Training Loss:0.483 AVG Validation Loss:0.539 AVG Training Acc 80.23 % AVG Validation Acc 76.61 %\n",
      "Epoch:20/100 AVG Training Loss:0.474 AVG Validation Loss:0.544 AVG Training Acc 80.29 % AVG Validation Acc 76.88 %\n",
      "Epoch    27: reducing learning rate of group 0 to 1.0000e-03.\n",
      "Epoch:30/100 AVG Training Loss:0.454 AVG Validation Loss:0.547 AVG Training Acc 80.66 % AVG Validation Acc 76.75 %\n",
      "Epoch:40/100 AVG Training Loss:0.441 AVG Validation Loss:0.563 AVG Training Acc 81.01 % AVG Validation Acc 76.48 %\n",
      "Epoch:50/100 AVG Training Loss:0.428 AVG Validation Loss:0.583 AVG Training Acc 81.31 % AVG Validation Acc 75.67 %\n",
      "Epoch    58: reducing learning rate of group 0 to 1.0000e-04.\n",
      "Epoch:60/100 AVG Training Loss:0.416 AVG Validation Loss:0.601 AVG Training Acc 81.74 % AVG Validation Acc 75.54 %\n",
      "Epoch:70/100 AVG Training Loss:0.415 AVG Validation Loss:0.607 AVG Training Acc 81.80 % AVG Validation Acc 75.67 %\n",
      "Epoch:80/100 AVG Training Loss:0.409 AVG Validation Loss:0.612 AVG Training Acc 82.26 % AVG Validation Acc 75.94 %\n",
      "Epoch    89: reducing learning rate of group 0 to 1.0000e-05.\n",
      "Epoch:90/100 AVG Training Loss:0.410 AVG Validation Loss:0.619 AVG Training Acc 81.96 % AVG Validation Acc 75.67 %\n",
      "Epoch:100/100 AVG Training Loss:0.412 AVG Validation Loss:0.615 AVG Training Acc 81.84 % AVG Validation Acc 75.67 %\n",
      "Split 187\n"
     ]
    },
    {
     "data": {
      "application/vnd.jupyter.widget-view+json": {
       "model_id": "98585f9d5f22475990e8634282997a95",
       "version_major": 2,
       "version_minor": 0
      },
      "text/plain": [
       "  0%|          | 0/100 [00:00<?, ?it/s]"
      ]
     },
     "metadata": {},
     "output_type": "display_data"
    },
    {
     "name": "stdout",
     "output_type": "stream",
     "text": [
      "Epoch:10/100 AVG Training Loss:0.491 AVG Validation Loss:0.473 AVG Training Acc 79.71 % AVG Validation Acc 81.02 %\n",
      "Epoch:20/100 AVG Training Loss:0.485 AVG Validation Loss:0.472 AVG Training Acc 79.71 % AVG Validation Acc 80.89 %\n",
      "Epoch:30/100 AVG Training Loss:0.477 AVG Validation Loss:0.471 AVG Training Acc 79.86 % AVG Validation Acc 80.75 %\n",
      "Epoch:40/100 AVG Training Loss:0.478 AVG Validation Loss:0.471 AVG Training Acc 79.78 % AVG Validation Acc 80.89 %\n",
      "Epoch    42: reducing learning rate of group 0 to 1.0000e-03.\n",
      "Epoch:50/100 AVG Training Loss:0.449 AVG Validation Loss:0.478 AVG Training Acc 80.47 % AVG Validation Acc 80.48 %\n",
      "Epoch:60/100 AVG Training Loss:0.438 AVG Validation Loss:0.485 AVG Training Acc 80.65 % AVG Validation Acc 80.48 %\n",
      "Epoch:70/100 AVG Training Loss:0.428 AVG Validation Loss:0.491 AVG Training Acc 80.79 % AVG Validation Acc 80.75 %\n",
      "Epoch    73: reducing learning rate of group 0 to 1.0000e-04.\n",
      "Epoch:80/100 AVG Training Loss:0.419 AVG Validation Loss:0.497 AVG Training Acc 81.25 % AVG Validation Acc 80.75 %\n",
      "Epoch:90/100 AVG Training Loss:0.419 AVG Validation Loss:0.498 AVG Training Acc 81.02 % AVG Validation Acc 81.29 %\n",
      "Epoch:100/100 AVG Training Loss:0.417 AVG Validation Loss:0.504 AVG Training Acc 81.23 % AVG Validation Acc 80.89 %\n",
      "Split 188\n"
     ]
    },
    {
     "data": {
      "application/vnd.jupyter.widget-view+json": {
       "model_id": "36ae23c64d644b1e81572e7e0c96028b",
       "version_major": 2,
       "version_minor": 0
      },
      "text/plain": [
       "  0%|          | 0/100 [00:00<?, ?it/s]"
      ]
     },
     "metadata": {},
     "output_type": "display_data"
    },
    {
     "name": "stdout",
     "output_type": "stream",
     "text": [
      "Epoch:10/100 AVG Training Loss:0.491 AVG Validation Loss:0.493 AVG Training Acc 79.83 % AVG Validation Acc 79.81 %\n",
      "Epoch:20/100 AVG Training Loss:0.490 AVG Validation Loss:0.487 AVG Training Acc 79.80 % AVG Validation Acc 79.81 %\n",
      "Epoch:30/100 AVG Training Loss:0.480 AVG Validation Loss:0.504 AVG Training Acc 80.01 % AVG Validation Acc 79.14 %\n",
      "Epoch    31: reducing learning rate of group 0 to 1.0000e-03.\n",
      "Epoch:40/100 AVG Training Loss:0.461 AVG Validation Loss:0.499 AVG Training Acc 80.40 % AVG Validation Acc 79.68 %\n",
      "Epoch:50/100 AVG Training Loss:0.447 AVG Validation Loss:0.510 AVG Training Acc 80.52 % AVG Validation Acc 80.08 %\n",
      "Epoch:60/100 AVG Training Loss:0.440 AVG Validation Loss:0.522 AVG Training Acc 80.68 % AVG Validation Acc 79.41 %\n",
      "Epoch    62: reducing learning rate of group 0 to 1.0000e-04.\n",
      "Epoch:70/100 AVG Training Loss:0.431 AVG Validation Loss:0.523 AVG Training Acc 80.82 % AVG Validation Acc 79.95 %\n",
      "Epoch:80/100 AVG Training Loss:0.434 AVG Validation Loss:0.526 AVG Training Acc 80.76 % AVG Validation Acc 79.41 %\n",
      "Epoch:90/100 AVG Training Loss:0.430 AVG Validation Loss:0.531 AVG Training Acc 81.05 % AVG Validation Acc 79.68 %\n",
      "Epoch    93: reducing learning rate of group 0 to 1.0000e-05.\n",
      "Epoch:100/100 AVG Training Loss:0.431 AVG Validation Loss:0.531 AVG Training Acc 80.85 % AVG Validation Acc 79.54 %\n",
      "Split 189\n"
     ]
    },
    {
     "data": {
      "application/vnd.jupyter.widget-view+json": {
       "model_id": "e24f0071638c44fe92e62b867a92c803",
       "version_major": 2,
       "version_minor": 0
      },
      "text/plain": [
       "  0%|          | 0/100 [00:00<?, ?it/s]"
      ]
     },
     "metadata": {},
     "output_type": "display_data"
    },
    {
     "name": "stdout",
     "output_type": "stream",
     "text": [
      "Epoch:10/100 AVG Training Loss:0.490 AVG Validation Loss:0.497 AVG Training Acc 79.98 % AVG Validation Acc 79.14 %\n",
      "Epoch:20/100 AVG Training Loss:0.484 AVG Validation Loss:0.509 AVG Training Acc 79.92 % AVG Validation Acc 79.14 %\n",
      "Epoch    25: reducing learning rate of group 0 to 1.0000e-03.\n",
      "Epoch:30/100 AVG Training Loss:0.463 AVG Validation Loss:0.504 AVG Training Acc 80.17 % AVG Validation Acc 79.41 %\n",
      "Epoch:40/100 AVG Training Loss:0.458 AVG Validation Loss:0.519 AVG Training Acc 80.35 % AVG Validation Acc 78.73 %\n",
      "Epoch:50/100 AVG Training Loss:0.448 AVG Validation Loss:0.528 AVG Training Acc 80.71 % AVG Validation Acc 78.87 %\n",
      "Epoch    56: reducing learning rate of group 0 to 1.0000e-04.\n",
      "Epoch:60/100 AVG Training Loss:0.440 AVG Validation Loss:0.536 AVG Training Acc 80.92 % AVG Validation Acc 78.73 %\n",
      "Epoch:70/100 AVG Training Loss:0.436 AVG Validation Loss:0.539 AVG Training Acc 81.19 % AVG Validation Acc 79.14 %\n",
      "Epoch:80/100 AVG Training Loss:0.435 AVG Validation Loss:0.539 AVG Training Acc 81.37 % AVG Validation Acc 78.73 %\n",
      "Epoch    87: reducing learning rate of group 0 to 1.0000e-05.\n",
      "Epoch:90/100 AVG Training Loss:0.433 AVG Validation Loss:0.540 AVG Training Acc 81.08 % AVG Validation Acc 78.60 %\n",
      "Epoch:100/100 AVG Training Loss:0.432 AVG Validation Loss:0.539 AVG Training Acc 81.25 % AVG Validation Acc 78.73 %\n",
      "Split 190\n"
     ]
    },
    {
     "data": {
      "application/vnd.jupyter.widget-view+json": {
       "model_id": "edadccd271134a89aac566dbb3f92e4f",
       "version_major": 2,
       "version_minor": 0
      },
      "text/plain": [
       "  0%|          | 0/100 [00:00<?, ?it/s]"
      ]
     },
     "metadata": {},
     "output_type": "display_data"
    },
    {
     "name": "stdout",
     "output_type": "stream",
     "text": [
      "Epoch:10/100 AVG Training Loss:0.497 AVG Validation Loss:0.452 AVG Training Acc 79.50 % AVG Validation Acc 82.37 %\n",
      "Epoch    19: reducing learning rate of group 0 to 1.0000e-03.\n",
      "Epoch:20/100 AVG Training Loss:0.492 AVG Validation Loss:0.450 AVG Training Acc 79.61 % AVG Validation Acc 82.37 %\n",
      "Epoch:30/100 AVG Training Loss:0.489 AVG Validation Loss:0.452 AVG Training Acc 79.64 % AVG Validation Acc 82.37 %\n",
      "Epoch:40/100 AVG Training Loss:0.487 AVG Validation Loss:0.452 AVG Training Acc 79.61 % AVG Validation Acc 82.37 %\n",
      "Epoch:50/100 AVG Training Loss:0.480 AVG Validation Loss:0.457 AVG Training Acc 79.83 % AVG Validation Acc 82.10 %\n",
      "Epoch    50: reducing learning rate of group 0 to 1.0000e-04.\n"
     ]
    }
   ],
   "source": [
    "for i in tqdm(normalized_data.keys()):\n",
    "    \n",
    "    print(i)\n",
    "    threshold_dict = {} #dict to store information in for each threshold\n",
    "    data = deepcopy(normalized_data[i])\n",
    "    \n",
    "    #set X and Y columns\n",
    "    X = data[data.columns[:25]] #different timesteps\n",
    "    y = data[data.columns[-4:]] #the 4 different putative targets\n",
    "    \n",
    "    for k in tqdm(targets):\n",
    "        print(k)\n",
    "        \n",
    "        #Start with train test split\n",
    "        X_train_val, X_test, y_train_val, y_test, = train_test_split(\n",
    "                                    X,\n",
    "                                   y[k], #replace when going for multi-target \n",
    "                                   test_size = 0.20,\n",
    "                                   random_state = 15,\n",
    "                                   shuffle=True,\n",
    "                                   stratify = y[k] #replace when going for multi-target\n",
    "                                    )\n",
    "\n",
    "        # ##second, convert everything to pytorch tensor - we will convert to tensor dataset and \n",
    "        X_train_tensors = Variable(torch.Tensor(X_train_val.values))\n",
    "        X_test_tensors = Variable(torch.Tensor(X_test.values))\n",
    "\n",
    "        y_train_tensors = Variable(torch.Tensor(y_train_val.values))\n",
    "        y_test_tensors = Variable(torch.Tensor(y_test.values)) \n",
    "\n",
    "        #now, we have a dataset with features\n",
    "        print('Before reshaping:')\n",
    "        print(\"Training Shape\", X_train_tensors.shape, y_train_tensors.shape)\n",
    "        print(\"Testing Shape\", X_test_tensors.shape, y_test_tensors.shape)\n",
    "\n",
    "        #reshaping to rows, timestamps, features \n",
    "        X_train_tensors = torch.reshape(X_train_tensors,   (X_train_tensors.shape[0], X_train_tensors.shape[1], 1))\n",
    "        X_test_tensors = torch.reshape(X_test_tensors,  (X_test_tensors.shape[0], X_test_tensors.shape[1], 1))\n",
    "\n",
    "        #repeat for y\n",
    "        y_train_tensors = y_train_tensors.type(torch.cuda.LongTensor)\n",
    "        y_test_tensors = y_test_tensors.type(torch.cuda.LongTensor)\n",
    "\n",
    "        print('\\nAfter reshaping:')\n",
    "        print(\"Training Shape\", X_train_tensors.shape, y_train_tensors.shape)\n",
    "        print(\"Testing Shape\", X_test_tensors.shape, y_test_tensors.shape)\n",
    "\n",
    "        #create dataset\n",
    "        dataset = TensorDataset(X_train_tensors, y_train_tensors)\n",
    "        \n",
    "        #create dict to store fold performance\n",
    "        foldperf={}\n",
    "        \n",
    "        #reset \"best accuracy for treshold i and target k\"\n",
    "        \n",
    "        best_accuracy = 0\n",
    "\n",
    "        for fold, (train_idx,val_idx) in tqdm(enumerate(splits.split(np.arange(len(dataset))))):\n",
    "\n",
    "            print('Split {}'.format(fold + 1))\n",
    "\n",
    "            train_sampler = SubsetRandomSampler(train_idx)\n",
    "            val_sampler = SubsetRandomSampler(val_idx)\n",
    "            train_loader = DataLoader(dataset, batch_size=batch_size, sampler=train_sampler)\n",
    "            val_loader = DataLoader(dataset, batch_size=batch_size, sampler=val_sampler)\n",
    "    \n",
    "            #creates new model for each \n",
    "            model = LSTM_Uni(num_classes, input_size, hidden_size, num_layers, X_train_tensors.shape[1]).to('cuda') #our lstm class\n",
    "            optimizer = torch.optim.Adam(model.parameters(), lr=learning_rate) \n",
    "            scheduler = ReduceLROnPlateau(optimizer, \n",
    "                                  'min', \n",
    "                                  patience = 10,\n",
    "                                  cooldown = 20,\n",
    "                                 verbose = True)\n",
    "    \n",
    "            history = {'train_loss': [], 'val_loss': [],'train_acc':[],'val_acc':[], 'precision': [],\n",
    "                      'recall' : [], 'auroc': []}\n",
    "\n",
    "            for epoch in tqdm(range(num_epochs)):\n",
    "                train_loss, train_correct=train_epoch(model,train_loader,criterion,optimizer)\n",
    "                val_loss, val_correct, precision, recall, auroc = valid_epoch(model,val_loader,criterion)\n",
    "\n",
    "                train_loss = train_loss / len(train_loader.sampler)\n",
    "                train_acc = train_correct / len(train_loader.sampler) * 100\n",
    "                val_loss = val_loss / len(val_loader.sampler)\n",
    "                val_acc = val_correct / len(val_loader.sampler) * 100\n",
    "        \n",
    "        \n",
    "                if (epoch+1) % 10 == 0: \n",
    "                    print(\"Epoch:{}/{} AVG Training Loss:{:.3f} AVG Validation Loss:{:.3f} AVG Training Acc {:.2f} % AVG Validation Acc {:.2f} %\".format(epoch + 1,\n",
    "                                                                                                             num_epochs,\n",
    "                                                                                                             train_loss,\n",
    "                                                                                                             val_loss,\n",
    "                                                                                                             train_acc,\n",
    "                                                                                                             val_acc))\n",
    "                history['train_loss'].append(train_loss)\n",
    "                history['val_loss'].append(val_loss)\n",
    "                history['train_acc'].append(train_acc)\n",
    "                history['val_acc'].append(val_acc)\n",
    "                history['precision'].append(precision)\n",
    "                history['recall'].append(recall)\n",
    "                history['auroc'].append(auroc)\n",
    "                scheduler.step(val_loss)\n",
    "    \n",
    "                if val_acc > best_accuracy:\n",
    "            \n",
    "                #replace best accuracy and save best model\n",
    "                    print(f'New Best Accuracy found: {val_acc:.2f}%\\nEpoch: {epoch + 1}')\n",
    "                    best_accuracy = val_acc\n",
    "                    best = deepcopy(model)\n",
    "                    curr_epoch = epoch + 1\n",
    "                    \n",
    "            #store fold performance\n",
    "            foldperf['fold{}'.format(fold+1)] = history\n",
    "        \n",
    "        #saves fold performance for target \n",
    "        threshold_dict[k] = pd.DataFrame.from_dict(foldperf, orient='index') # convert dict to dataframe\n",
    "        \n",
    "        #explode to get eacxh epoch as a row\n",
    "        threshold_dict[k] = threshold_dict[k].explode(list(threshold_dict[k].columns))\n",
    "        torch.save(best,f\"../Models/{i}/Nova_IMS_best_{k}_{curr_epoch}_epochs.h\")\n",
    "        \n",
    "    # from pandas.io.parsers import ExcelWriter\n",
    "    with pd.ExcelWriter(f\"../Data/Modeling Stage/Results/IMS/Clicks per % duration/25_splits_{i}_{replicas}_replicas.xlsx\") as writer:  \n",
    "        for sheet in targets:\n",
    "                threshold_dict[sheet].to_excel(writer, sheet_name=str(sheet))"
   ]
  }
 ],
 "metadata": {
  "kernelspec": {
   "display_name": "Python 3 (ipykernel)",
   "language": "python",
   "name": "python3"
  },
  "language_info": {
   "codemirror_mode": {
    "name": "ipython",
    "version": 3
   },
   "file_extension": ".py",
   "mimetype": "text/x-python",
   "name": "python",
   "nbconvert_exporter": "python",
   "pygments_lexer": "ipython3",
   "version": "3.8.11"
  }
 },
 "nbformat": 4,
 "nbformat_minor": 5
}
