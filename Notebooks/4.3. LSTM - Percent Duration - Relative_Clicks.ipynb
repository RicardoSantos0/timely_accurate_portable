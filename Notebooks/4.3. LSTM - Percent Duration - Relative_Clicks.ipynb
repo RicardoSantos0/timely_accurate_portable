{
 "cells": [
  {
   "cell_type": "markdown",
   "id": "84eda90e",
   "metadata": {},
   "source": [
    "### Thesis notebook 4.3. - NOVA IMS\n",
    "\n",
    "#### LSTM - Temporal data representation\n",
    "\n",
    "In this notebook, we will finally start our application of temporal representation using LSTMs and bi-directional LSTMs.\n",
    "The argument for the usage of Deep Learning stems from the fact that sequences themselves encode information that can be extracted using Recurrent Neural Networks and, more specifically, Long Short Term Memory Units.\n",
    "\n",
    "#### First Step: Setup a PyTorch environment that enables the use of GPU for training. \n",
    "\n",
    "The following cell wll confirm that the GPU will be the default device to use."
   ]
  },
  {
   "cell_type": "code",
   "execution_count": 1,
   "id": "4f27844c",
   "metadata": {},
   "outputs": [],
   "source": [
    "import torch\n",
    "import pycuda.driver as cuda\n",
    "\n",
    "cuda.init()\n",
    "## Get Id of default device\n",
    "torch.cuda.current_device()\n",
    "# 0\n",
    "cuda.Device(0).name() # '0' is the id of your GPU\n",
    "\n",
    "#set all tensors to gpu\n",
    "torch.set_default_tensor_type('torch.cuda.FloatTensor')"
   ]
  },
  {
   "cell_type": "markdown",
   "id": "0d95429e",
   "metadata": {},
   "source": [
    "#### Second Step: Import the relevant packages and declare global variables"
   ]
  },
  {
   "cell_type": "code",
   "execution_count": 2,
   "id": "e6c2d97f",
   "metadata": {},
   "outputs": [],
   "source": [
    "#import necessary modules/libraries\n",
    "import numpy as np\n",
    "import scipy\n",
    "import pandas as pd\n",
    "import datetime as dt\n",
    "import warnings\n",
    "import time\n",
    "\n",
    "#tqdm to monitor progress\n",
    "from tqdm.notebook import tqdm, trange\n",
    "tqdm.pandas(desc=\"Progress\")\n",
    "\n",
    "#time related features\n",
    "from datetime import timedelta\n",
    "from copy import copy, deepcopy\n",
    "\n",
    "#vizualization\n",
    "import matplotlib.pyplot as plt\n",
    "import seaborn as sns\n",
    "\n",
    "#imblearn, scalers, kfold and metrics\n",
    "from imblearn.over_sampling import SMOTE\n",
    "from sklearn.preprocessing import MinMaxScaler, StandardScaler, RobustScaler, QuantileTransformer,PowerTransformer\n",
    "from sklearn.model_selection import train_test_split, RepeatedKFold, StratifiedKFold, cross_val_score, GridSearchCV\n",
    "from sklearn.metrics import confusion_matrix, accuracy_score, precision_score, recall_score, f1_score, roc_auc_score, roc_curve, recall_score, classification_report, average_precision_score, precision_recall_curve\n",
    "\n",
    "#import torch related\n",
    "import torch.nn as nn\n",
    "from torch.nn import functional as F\n",
    "from torch.autograd import Variable \n",
    "from torch.utils.data import TensorDataset, DataLoader\n",
    "from torch.utils.data.sampler import SubsetRandomSampler\n",
    "\n",
    "\n",
    "#and optimizer of learning rate\n",
    "from torch.optim.lr_scheduler import ReduceLROnPlateau\n",
    "\n",
    "#import pytorch modules\n",
    "warnings.filterwarnings('ignore')"
   ]
  },
  {
   "cell_type": "code",
   "execution_count": 3,
   "id": "c6c3f1fb",
   "metadata": {},
   "outputs": [],
   "source": [
    "#global variables that may come in handy\n",
    "#course threshold sets the % duration that will be considered (1 = 100%)\n",
    "duration_threshold = [0.1, 0.25, 0.33, 0.5, 1]\n",
    "\n",
    "#colors for vizualizations\n",
    "nova_ims_colors = ['#BFD72F', '#5C666C']\n",
    "\n",
    "#standard color for student aggregates\n",
    "student_color = '#474838'\n",
    "\n",
    "#standard color for course aggragates\n",
    "course_color = '#1B3D2F'\n",
    "\n",
    "#standard continuous colormap\n",
    "standard_cmap = 'viridis_r'\n",
    "\n",
    "#Function designed to deal with multiindex and flatten it\n",
    "def flattenHierarchicalCol(col,sep = '_'):\n",
    "    '''converts multiindex columns into single index columns while retaining the hierarchical components'''\n",
    "    if not type(col) is tuple:\n",
    "        return col\n",
    "    else:\n",
    "        new_col = ''\n",
    "        for leveli,level in enumerate(col):\n",
    "            if not level == '':\n",
    "                if not leveli == 0:\n",
    "                    new_col += sep\n",
    "                new_col += level\n",
    "        return new_col\n",
    "    \n",
    "#number of replicas - number of repeats of stratified k fold - in this case 10\n",
    "replicas = 30\n",
    "\n",
    "#names to display on result figures\n",
    "date_names = {\n",
    "             'Date_threshold_10': '10% of Course Duration',   \n",
    "             'Date_threshold_25': '25% of Course Duration', \n",
    "             'Date_threshold_33': '33% of Course Duration', \n",
    "             'Date_threshold_50': '50% of Course Duration', \n",
    "             'Date_threshold_100':'100% of Course Duration', \n",
    "            }\n",
    "\n",
    "target_names = {\n",
    "                'exam_fail' : 'At risk - Exam Grade',\n",
    "                'final_fail' : 'At risk - Final Grade', \n",
    "                'exam_gifted' : 'High performer - Exam Grade', \n",
    "                'final_gifted': 'High performer - Final Grade'\n",
    "                }\n",
    "\n",
    "#targets\n",
    "targets = ['exam_fail' , 'final_fail' , 'exam_gifted' , 'final_gifted']\n",
    "temporal_columns = ['0 to 4%', '4 to 8%', '8 to 12%', '12 to 16%', '16 to 20%', '20 to 24%',\n",
    "       '24 to 28%', '28 to 32%', '32 to 36%', '36 to 40%', '40 to 44%',\n",
    "       '44 to 48%', '48 to 52%', '52 to 56%', '56 to 60%', '60 to 64%',\n",
    "       '64 to 68%', '68 to 72%', '72 to 76%', '76 to 80%', '80 to 84%',\n",
    "       '84 to 88%', '88 to 92%', '92 to 96%', '96 to 100%']"
   ]
  },
  {
   "cell_type": "markdown",
   "id": "60c5ddb6",
   "metadata": {},
   "source": [
    "#### Step 3: Import data and take a preliminary look at it "
   ]
  },
  {
   "cell_type": "code",
   "execution_count": 4,
   "id": "d8a23ea6",
   "metadata": {},
   "outputs": [],
   "source": [
    "#imports dataframes\n",
    "course_programs = pd.read_excel(\"../Data/Modeling Stage/Nova_IMS_Temporal_Datasets_25_splits.xlsx\", \n",
    "                                dtype = {\n",
    "                                    'course_encoding' : int,\n",
    "                                    'userid' : int},\n",
    "                               sheet_name = None)\n",
    "\n",
    "#save tables \n",
    "student_list = pd.read_csv('../Data/Modeling Stage/Nova_IMS_Filtered_targets.csv', \n",
    "                         dtype = {\n",
    "                                   'course_encoding': int,\n",
    "                                   'userid' : int,\n",
    "                                   })\n",
    "\n",
    "#drop unnamed 0 column\n",
    "for i in course_programs:\n",
    "        \n",
    "    #merge with the targets we calculated on the other \n",
    "    course_programs[i] = course_programs[i].merge(student_list, on = ['course_encoding', 'userid'], how = 'inner')\n",
    "    course_programs[i].drop(['Unnamed: 0', 'exam_mark', 'final_mark'], axis = 1, inplace = True)\n",
    "    \n",
    "    #convert results to object\n",
    "    course_programs[i]['course_encoding'], course_programs[i]['userid'] = course_programs[i]['course_encoding'].astype(object), course_programs[i]['userid'].astype(object)"
   ]
  },
  {
   "cell_type": "code",
   "execution_count": 5,
   "id": "7bc3c84f",
   "metadata": {},
   "outputs": [
    {
     "name": "stdout",
     "output_type": "stream",
     "text": [
      "<class 'pandas.core.frame.DataFrame'>\n",
      "Int64Index: 9296 entries, 0 to 9295\n",
      "Data columns (total 31 columns):\n",
      " #   Column           Non-Null Count  Dtype \n",
      "---  ------           --------------  ----- \n",
      " 0   course_encoding  9296 non-null   object\n",
      " 1   userid           9296 non-null   object\n",
      " 2   0 to 4%          9296 non-null   int64 \n",
      " 3   4 to 8%          9296 non-null   int64 \n",
      " 4   8 to 12%         9296 non-null   int64 \n",
      " 5   12 to 16%        9296 non-null   int64 \n",
      " 6   16 to 20%        9296 non-null   int64 \n",
      " 7   20 to 24%        9296 non-null   int64 \n",
      " 8   24 to 28%        9296 non-null   int64 \n",
      " 9   28 to 32%        9296 non-null   int64 \n",
      " 10  32 to 36%        9296 non-null   int64 \n",
      " 11  36 to 40%        9296 non-null   int64 \n",
      " 12  40 to 44%        9296 non-null   int64 \n",
      " 13  44 to 48%        9296 non-null   int64 \n",
      " 14  48 to 52%        9296 non-null   int64 \n",
      " 15  52 to 56%        9296 non-null   int64 \n",
      " 16  56 to 60%        9296 non-null   int64 \n",
      " 17  60 to 64%        9296 non-null   int64 \n",
      " 18  64 to 68%        9296 non-null   int64 \n",
      " 19  68 to 72%        9296 non-null   int64 \n",
      " 20  72 to 76%        9296 non-null   int64 \n",
      " 21  76 to 80%        9296 non-null   int64 \n",
      " 22  80 to 84%        9296 non-null   int64 \n",
      " 23  84 to 88%        9296 non-null   int64 \n",
      " 24  88 to 92%        9296 non-null   int64 \n",
      " 25  92 to 96%        9296 non-null   int64 \n",
      " 26  96 to 100%       9296 non-null   int64 \n",
      " 27  exam_fail        9296 non-null   int64 \n",
      " 28  final_fail       9296 non-null   int64 \n",
      " 29  exam_gifted      9296 non-null   int64 \n",
      " 30  final_gifted     9296 non-null   int64 \n",
      "dtypes: int64(29), object(2)\n",
      "memory usage: 2.3+ MB\n"
     ]
    }
   ],
   "source": [
    "course_programs['Date_threshold_100'].info()"
   ]
  },
  {
   "cell_type": "code",
   "execution_count": 6,
   "id": "c4a751ef",
   "metadata": {},
   "outputs": [
    {
     "data": {
      "text/html": [
       "<div>\n",
       "<style scoped>\n",
       "    .dataframe tbody tr th:only-of-type {\n",
       "        vertical-align: middle;\n",
       "    }\n",
       "\n",
       "    .dataframe tbody tr th {\n",
       "        vertical-align: top;\n",
       "    }\n",
       "\n",
       "    .dataframe thead th {\n",
       "        text-align: right;\n",
       "    }\n",
       "</style>\n",
       "<table border=\"1\" class=\"dataframe\">\n",
       "  <thead>\n",
       "    <tr style=\"text-align: right;\">\n",
       "      <th></th>\n",
       "      <th>course_encoding</th>\n",
       "      <th>userid</th>\n",
       "      <th>0 to 4%</th>\n",
       "      <th>4 to 8%</th>\n",
       "      <th>8 to 12%</th>\n",
       "      <th>12 to 16%</th>\n",
       "      <th>16 to 20%</th>\n",
       "      <th>20 to 24%</th>\n",
       "      <th>24 to 28%</th>\n",
       "      <th>28 to 32%</th>\n",
       "      <th>...</th>\n",
       "      <th>76 to 80%</th>\n",
       "      <th>80 to 84%</th>\n",
       "      <th>84 to 88%</th>\n",
       "      <th>88 to 92%</th>\n",
       "      <th>92 to 96%</th>\n",
       "      <th>96 to 100%</th>\n",
       "      <th>exam_fail</th>\n",
       "      <th>final_fail</th>\n",
       "      <th>exam_gifted</th>\n",
       "      <th>final_gifted</th>\n",
       "    </tr>\n",
       "  </thead>\n",
       "  <tbody>\n",
       "    <tr>\n",
       "      <th>count</th>\n",
       "      <td>9296.0</td>\n",
       "      <td>9296.0</td>\n",
       "      <td>9296.000000</td>\n",
       "      <td>9296.000000</td>\n",
       "      <td>9296.000000</td>\n",
       "      <td>9296.000000</td>\n",
       "      <td>9296.000000</td>\n",
       "      <td>9296.000000</td>\n",
       "      <td>9296.000000</td>\n",
       "      <td>9296.000000</td>\n",
       "      <td>...</td>\n",
       "      <td>9296.000000</td>\n",
       "      <td>9296.000000</td>\n",
       "      <td>9296.000000</td>\n",
       "      <td>9296.000000</td>\n",
       "      <td>9296.000000</td>\n",
       "      <td>9296.0</td>\n",
       "      <td>9296.000000</td>\n",
       "      <td>9296.000000</td>\n",
       "      <td>9296.000000</td>\n",
       "      <td>9296.000000</td>\n",
       "    </tr>\n",
       "    <tr>\n",
       "      <th>unique</th>\n",
       "      <td>138.0</td>\n",
       "      <td>1590.0</td>\n",
       "      <td>NaN</td>\n",
       "      <td>NaN</td>\n",
       "      <td>NaN</td>\n",
       "      <td>NaN</td>\n",
       "      <td>NaN</td>\n",
       "      <td>NaN</td>\n",
       "      <td>NaN</td>\n",
       "      <td>NaN</td>\n",
       "      <td>...</td>\n",
       "      <td>NaN</td>\n",
       "      <td>NaN</td>\n",
       "      <td>NaN</td>\n",
       "      <td>NaN</td>\n",
       "      <td>NaN</td>\n",
       "      <td>NaN</td>\n",
       "      <td>NaN</td>\n",
       "      <td>NaN</td>\n",
       "      <td>NaN</td>\n",
       "      <td>NaN</td>\n",
       "    </tr>\n",
       "    <tr>\n",
       "      <th>top</th>\n",
       "      <td>150.0</td>\n",
       "      <td>3178.0</td>\n",
       "      <td>NaN</td>\n",
       "      <td>NaN</td>\n",
       "      <td>NaN</td>\n",
       "      <td>NaN</td>\n",
       "      <td>NaN</td>\n",
       "      <td>NaN</td>\n",
       "      <td>NaN</td>\n",
       "      <td>NaN</td>\n",
       "      <td>...</td>\n",
       "      <td>NaN</td>\n",
       "      <td>NaN</td>\n",
       "      <td>NaN</td>\n",
       "      <td>NaN</td>\n",
       "      <td>NaN</td>\n",
       "      <td>NaN</td>\n",
       "      <td>NaN</td>\n",
       "      <td>NaN</td>\n",
       "      <td>NaN</td>\n",
       "      <td>NaN</td>\n",
       "    </tr>\n",
       "    <tr>\n",
       "      <th>freq</th>\n",
       "      <td>178.0</td>\n",
       "      <td>14.0</td>\n",
       "      <td>NaN</td>\n",
       "      <td>NaN</td>\n",
       "      <td>NaN</td>\n",
       "      <td>NaN</td>\n",
       "      <td>NaN</td>\n",
       "      <td>NaN</td>\n",
       "      <td>NaN</td>\n",
       "      <td>NaN</td>\n",
       "      <td>...</td>\n",
       "      <td>NaN</td>\n",
       "      <td>NaN</td>\n",
       "      <td>NaN</td>\n",
       "      <td>NaN</td>\n",
       "      <td>NaN</td>\n",
       "      <td>NaN</td>\n",
       "      <td>NaN</td>\n",
       "      <td>NaN</td>\n",
       "      <td>NaN</td>\n",
       "      <td>NaN</td>\n",
       "    </tr>\n",
       "    <tr>\n",
       "      <th>mean</th>\n",
       "      <td>NaN</td>\n",
       "      <td>NaN</td>\n",
       "      <td>1.081863</td>\n",
       "      <td>8.307874</td>\n",
       "      <td>10.752797</td>\n",
       "      <td>11.193739</td>\n",
       "      <td>10.127797</td>\n",
       "      <td>8.966652</td>\n",
       "      <td>10.545396</td>\n",
       "      <td>11.445245</td>\n",
       "      <td>...</td>\n",
       "      <td>11.718051</td>\n",
       "      <td>13.136403</td>\n",
       "      <td>22.827883</td>\n",
       "      <td>27.341007</td>\n",
       "      <td>12.599613</td>\n",
       "      <td>0.0</td>\n",
       "      <td>0.201377</td>\n",
       "      <td>0.149957</td>\n",
       "      <td>0.276893</td>\n",
       "      <td>0.308090</td>\n",
       "    </tr>\n",
       "    <tr>\n",
       "      <th>std</th>\n",
       "      <td>NaN</td>\n",
       "      <td>NaN</td>\n",
       "      <td>3.526351</td>\n",
       "      <td>13.580025</td>\n",
       "      <td>13.626754</td>\n",
       "      <td>16.400023</td>\n",
       "      <td>14.291254</td>\n",
       "      <td>12.180177</td>\n",
       "      <td>13.507892</td>\n",
       "      <td>15.932226</td>\n",
       "      <td>...</td>\n",
       "      <td>28.186874</td>\n",
       "      <td>36.690068</td>\n",
       "      <td>47.158607</td>\n",
       "      <td>54.963959</td>\n",
       "      <td>35.194597</td>\n",
       "      <td>0.0</td>\n",
       "      <td>0.401051</td>\n",
       "      <td>0.357048</td>\n",
       "      <td>0.447487</td>\n",
       "      <td>0.461729</td>\n",
       "    </tr>\n",
       "    <tr>\n",
       "      <th>min</th>\n",
       "      <td>NaN</td>\n",
       "      <td>NaN</td>\n",
       "      <td>0.000000</td>\n",
       "      <td>0.000000</td>\n",
       "      <td>0.000000</td>\n",
       "      <td>0.000000</td>\n",
       "      <td>0.000000</td>\n",
       "      <td>0.000000</td>\n",
       "      <td>0.000000</td>\n",
       "      <td>0.000000</td>\n",
       "      <td>...</td>\n",
       "      <td>0.000000</td>\n",
       "      <td>0.000000</td>\n",
       "      <td>0.000000</td>\n",
       "      <td>0.000000</td>\n",
       "      <td>0.000000</td>\n",
       "      <td>0.0</td>\n",
       "      <td>0.000000</td>\n",
       "      <td>0.000000</td>\n",
       "      <td>0.000000</td>\n",
       "      <td>0.000000</td>\n",
       "    </tr>\n",
       "    <tr>\n",
       "      <th>25%</th>\n",
       "      <td>NaN</td>\n",
       "      <td>NaN</td>\n",
       "      <td>0.000000</td>\n",
       "      <td>0.000000</td>\n",
       "      <td>1.000000</td>\n",
       "      <td>2.000000</td>\n",
       "      <td>2.000000</td>\n",
       "      <td>1.000000</td>\n",
       "      <td>2.000000</td>\n",
       "      <td>3.000000</td>\n",
       "      <td>...</td>\n",
       "      <td>0.000000</td>\n",
       "      <td>0.000000</td>\n",
       "      <td>0.000000</td>\n",
       "      <td>0.000000</td>\n",
       "      <td>0.000000</td>\n",
       "      <td>0.0</td>\n",
       "      <td>0.000000</td>\n",
       "      <td>0.000000</td>\n",
       "      <td>0.000000</td>\n",
       "      <td>0.000000</td>\n",
       "    </tr>\n",
       "    <tr>\n",
       "      <th>50%</th>\n",
       "      <td>NaN</td>\n",
       "      <td>NaN</td>\n",
       "      <td>0.000000</td>\n",
       "      <td>2.000000</td>\n",
       "      <td>7.000000</td>\n",
       "      <td>7.000000</td>\n",
       "      <td>6.000000</td>\n",
       "      <td>5.000000</td>\n",
       "      <td>7.000000</td>\n",
       "      <td>7.000000</td>\n",
       "      <td>...</td>\n",
       "      <td>2.000000</td>\n",
       "      <td>2.000000</td>\n",
       "      <td>4.000000</td>\n",
       "      <td>2.000000</td>\n",
       "      <td>0.000000</td>\n",
       "      <td>0.0</td>\n",
       "      <td>0.000000</td>\n",
       "      <td>0.000000</td>\n",
       "      <td>0.000000</td>\n",
       "      <td>0.000000</td>\n",
       "    </tr>\n",
       "    <tr>\n",
       "      <th>75%</th>\n",
       "      <td>NaN</td>\n",
       "      <td>NaN</td>\n",
       "      <td>1.000000</td>\n",
       "      <td>12.000000</td>\n",
       "      <td>15.000000</td>\n",
       "      <td>15.000000</td>\n",
       "      <td>13.000000</td>\n",
       "      <td>13.000000</td>\n",
       "      <td>14.000000</td>\n",
       "      <td>14.000000</td>\n",
       "      <td>...</td>\n",
       "      <td>10.000000</td>\n",
       "      <td>10.000000</td>\n",
       "      <td>23.000000</td>\n",
       "      <td>27.000000</td>\n",
       "      <td>5.000000</td>\n",
       "      <td>0.0</td>\n",
       "      <td>0.000000</td>\n",
       "      <td>0.000000</td>\n",
       "      <td>1.000000</td>\n",
       "      <td>1.000000</td>\n",
       "    </tr>\n",
       "    <tr>\n",
       "      <th>max</th>\n",
       "      <td>NaN</td>\n",
       "      <td>NaN</td>\n",
       "      <td>66.000000</td>\n",
       "      <td>269.000000</td>\n",
       "      <td>360.000000</td>\n",
       "      <td>619.000000</td>\n",
       "      <td>315.000000</td>\n",
       "      <td>248.000000</td>\n",
       "      <td>268.000000</td>\n",
       "      <td>237.000000</td>\n",
       "      <td>...</td>\n",
       "      <td>614.000000</td>\n",
       "      <td>1091.000000</td>\n",
       "      <td>604.000000</td>\n",
       "      <td>747.000000</td>\n",
       "      <td>407.000000</td>\n",
       "      <td>0.0</td>\n",
       "      <td>1.000000</td>\n",
       "      <td>1.000000</td>\n",
       "      <td>1.000000</td>\n",
       "      <td>1.000000</td>\n",
       "    </tr>\n",
       "  </tbody>\n",
       "</table>\n",
       "<p>11 rows × 31 columns</p>\n",
       "</div>"
      ],
      "text/plain": [
       "        course_encoding  userid      0 to 4%      4 to 8%     8 to 12%  \\\n",
       "count            9296.0  9296.0  9296.000000  9296.000000  9296.000000   \n",
       "unique            138.0  1590.0          NaN          NaN          NaN   \n",
       "top               150.0  3178.0          NaN          NaN          NaN   \n",
       "freq              178.0    14.0          NaN          NaN          NaN   \n",
       "mean                NaN     NaN     1.081863     8.307874    10.752797   \n",
       "std                 NaN     NaN     3.526351    13.580025    13.626754   \n",
       "min                 NaN     NaN     0.000000     0.000000     0.000000   \n",
       "25%                 NaN     NaN     0.000000     0.000000     1.000000   \n",
       "50%                 NaN     NaN     0.000000     2.000000     7.000000   \n",
       "75%                 NaN     NaN     1.000000    12.000000    15.000000   \n",
       "max                 NaN     NaN    66.000000   269.000000   360.000000   \n",
       "\n",
       "          12 to 16%    16 to 20%    20 to 24%    24 to 28%    28 to 32%  ...  \\\n",
       "count   9296.000000  9296.000000  9296.000000  9296.000000  9296.000000  ...   \n",
       "unique          NaN          NaN          NaN          NaN          NaN  ...   \n",
       "top             NaN          NaN          NaN          NaN          NaN  ...   \n",
       "freq            NaN          NaN          NaN          NaN          NaN  ...   \n",
       "mean      11.193739    10.127797     8.966652    10.545396    11.445245  ...   \n",
       "std       16.400023    14.291254    12.180177    13.507892    15.932226  ...   \n",
       "min        0.000000     0.000000     0.000000     0.000000     0.000000  ...   \n",
       "25%        2.000000     2.000000     1.000000     2.000000     3.000000  ...   \n",
       "50%        7.000000     6.000000     5.000000     7.000000     7.000000  ...   \n",
       "75%       15.000000    13.000000    13.000000    14.000000    14.000000  ...   \n",
       "max      619.000000   315.000000   248.000000   268.000000   237.000000  ...   \n",
       "\n",
       "          76 to 80%    80 to 84%    84 to 88%    88 to 92%    92 to 96%  \\\n",
       "count   9296.000000  9296.000000  9296.000000  9296.000000  9296.000000   \n",
       "unique          NaN          NaN          NaN          NaN          NaN   \n",
       "top             NaN          NaN          NaN          NaN          NaN   \n",
       "freq            NaN          NaN          NaN          NaN          NaN   \n",
       "mean      11.718051    13.136403    22.827883    27.341007    12.599613   \n",
       "std       28.186874    36.690068    47.158607    54.963959    35.194597   \n",
       "min        0.000000     0.000000     0.000000     0.000000     0.000000   \n",
       "25%        0.000000     0.000000     0.000000     0.000000     0.000000   \n",
       "50%        2.000000     2.000000     4.000000     2.000000     0.000000   \n",
       "75%       10.000000    10.000000    23.000000    27.000000     5.000000   \n",
       "max      614.000000  1091.000000   604.000000   747.000000   407.000000   \n",
       "\n",
       "        96 to 100%    exam_fail   final_fail  exam_gifted  final_gifted  \n",
       "count       9296.0  9296.000000  9296.000000  9296.000000   9296.000000  \n",
       "unique         NaN          NaN          NaN          NaN           NaN  \n",
       "top            NaN          NaN          NaN          NaN           NaN  \n",
       "freq           NaN          NaN          NaN          NaN           NaN  \n",
       "mean           0.0     0.201377     0.149957     0.276893      0.308090  \n",
       "std            0.0     0.401051     0.357048     0.447487      0.461729  \n",
       "min            0.0     0.000000     0.000000     0.000000      0.000000  \n",
       "25%            0.0     0.000000     0.000000     0.000000      0.000000  \n",
       "50%            0.0     0.000000     0.000000     0.000000      0.000000  \n",
       "75%            0.0     0.000000     0.000000     1.000000      1.000000  \n",
       "max            0.0     1.000000     1.000000     1.000000      1.000000  \n",
       "\n",
       "[11 rows x 31 columns]"
      ]
     },
     "execution_count": 6,
     "metadata": {},
     "output_type": "execute_result"
    }
   ],
   "source": [
    "course_programs['Date_threshold_100'].describe(include = 'all')"
   ]
  },
  {
   "cell_type": "markdown",
   "id": "c3291817",
   "metadata": {},
   "source": [
    "In our second attempt, we are looking to obtain a different result. Instead of using the absolute number of clicks used in each instance, we are instead looking to use the percent number of clicks made by each student relative to the the total number of clicks performed in the curricular unit.\n",
    "\n",
    "For that we will use transform:"
   ]
  },
  {
   "cell_type": "code",
   "execution_count": 7,
   "id": "e5b9e350",
   "metadata": {},
   "outputs": [
    {
     "data": {
      "application/vnd.jupyter.widget-view+json": {
       "model_id": "98455f6b446741cd93226dc0f55e09a9",
       "version_major": 2,
       "version_minor": 0
      },
      "text/plain": [
       "  0%|          | 0/5 [00:00<?, ?it/s]"
      ]
     },
     "metadata": {},
     "output_type": "display_data"
    },
    {
     "data": {
      "application/vnd.jupyter.widget-view+json": {
       "model_id": "667e21f8c4584a56ae1c2c5541c0e6fb",
       "version_major": 2,
       "version_minor": 0
      },
      "text/plain": [
       "  0%|          | 0/25 [00:00<?, ?it/s]"
      ]
     },
     "metadata": {},
     "output_type": "display_data"
    },
    {
     "data": {
      "application/vnd.jupyter.widget-view+json": {
       "model_id": "e06c70a083af4416901b7edba1c567f1",
       "version_major": 2,
       "version_minor": 0
      },
      "text/plain": [
       "  0%|          | 0/25 [00:00<?, ?it/s]"
      ]
     },
     "metadata": {},
     "output_type": "display_data"
    },
    {
     "data": {
      "application/vnd.jupyter.widget-view+json": {
       "model_id": "d8f223af5960462da5a1b47f4843c642",
       "version_major": 2,
       "version_minor": 0
      },
      "text/plain": [
       "  0%|          | 0/25 [00:00<?, ?it/s]"
      ]
     },
     "metadata": {},
     "output_type": "display_data"
    },
    {
     "data": {
      "application/vnd.jupyter.widget-view+json": {
       "model_id": "4459cc6c5ef046eca821abc5b05f58b6",
       "version_major": 2,
       "version_minor": 0
      },
      "text/plain": [
       "  0%|          | 0/25 [00:00<?, ?it/s]"
      ]
     },
     "metadata": {},
     "output_type": "display_data"
    },
    {
     "data": {
      "application/vnd.jupyter.widget-view+json": {
       "model_id": "e5a8d14fa4524de084220f0977177b97",
       "version_major": 2,
       "version_minor": 0
      },
      "text/plain": [
       "  0%|          | 0/25 [00:00<?, ?it/s]"
      ]
     },
     "metadata": {},
     "output_type": "display_data"
    }
   ],
   "source": [
    "for i in tqdm(course_programs.keys()):\n",
    "    \n",
    "    for j in tqdm(temporal_columns):\n",
    "            course_programs[i][j] = np.where(course_programs[i].fillna(0).groupby('course_encoding')[j].transform('sum') != 0, #where valid operations occur\n",
    "                                             course_programs[i][j].fillna(0) / course_programs[i].fillna(0).groupby('course_encoding')[j].transform('sum') * 100, #calculate percentage\n",
    "                                             0) #otherwise, its 0"
   ]
  },
  {
   "cell_type": "code",
   "execution_count": 8,
   "id": "be722ea9",
   "metadata": {},
   "outputs": [],
   "source": [
    "#function for scalers\n",
    "def normalize(dataset,scaler):\n",
    "    \n",
    "    if scaler == 'MinMax':\n",
    "        pt = MinMaxScaler()\n",
    "    elif scaler == 'Standard':\n",
    "        pt = StandardScaler()\n",
    "    elif scaler == 'Robust':\n",
    "        pt = RobustScaler()\n",
    "    elif scaler == 'Quantile':\n",
    "        pt = QuantileTransformer()\n",
    "    else:\n",
    "        pt = PowerTransformer(method='yeo-johnson')\n",
    "    \n",
    "    data = pt.fit_transform(dataset)\n",
    "    \n",
    "    # convert the array back to a dataframe\n",
    "    normalized_df = pd.DataFrame(data,columns=dataset.columns)\n",
    "    return normalized_df  "
   ]
  },
  {
   "cell_type": "code",
   "execution_count": 9,
   "id": "7ea7510e",
   "metadata": {},
   "outputs": [
    {
     "data": {
      "application/vnd.jupyter.widget-view+json": {
       "model_id": "1debccd9965341c7b3f0c9d8168b2eff",
       "version_major": 2,
       "version_minor": 0
      },
      "text/plain": [
       "  0%|          | 0/5 [00:00<?, ?it/s]"
      ]
     },
     "metadata": {},
     "output_type": "display_data"
    }
   ],
   "source": [
    "#create backup\n",
    "normalized_data = deepcopy(course_programs)\n",
    "\n",
    "#convert index\n",
    "for i in tqdm(normalized_data):\n",
    "    normalized_data[i].set_index(['course_encoding', 'userid'], drop = True, inplace = True)\n",
    "    normalized_data[i].fillna(0, inplace = True)\n",
    "    #Then, apply normalize function to rescale the train columns\n",
    "    normalized_data[i] = normalize(normalized_data[i].filter(temporal_columns),'Standard')\n",
    "    \n",
    "    #and remerge target columns\n",
    "    normalized_data[i][targets] =  deepcopy(course_programs[i][targets])"
   ]
  },
  {
   "cell_type": "markdown",
   "id": "8e4d5475",
   "metadata": {},
   "source": [
    "#### Implementing Cross-Validation with Deep Learning Model\n",
    "\n",
    "**1. Create the Deep Learning Model**\n",
    "\n",
    "In this instance, we will follow-up with on the approach used in Chen & Cui - CrossEntropyLoss with applied over a softmax layer."
   ]
  },
  {
   "cell_type": "code",
   "execution_count": 10,
   "id": "2a16bd5f",
   "metadata": {},
   "outputs": [],
   "source": [
    "class LSTM_Uni(nn.Module):\n",
    "    def __init__(self, num_classes, input_size, hidden_size, num_layers, seq_length):\n",
    "        super(LSTM_Uni, self).__init__()\n",
    "        self.num_classes = num_classes #number of classes\n",
    "        self.num_layers = num_layers #number of layers\n",
    "        self.input_size = input_size #input size\n",
    "        self.hidden_size = hidden_size #hidden state\n",
    "        self.seq_length = seq_length #sequence length\n",
    "\n",
    "        self.lstm = nn.LSTM(input_size=input_size, hidden_size=hidden_size,\n",
    "                          num_layers=num_layers, batch_first = True) #lstm\n",
    "        \n",
    "        self.dropout = nn.Dropout(p = 0.5)\n",
    "    \n",
    "        self.fc = nn.Linear(self.hidden_size, num_classes) #fully connected last layer\n",
    "\n",
    "    def forward(self,x):\n",
    "        h_0 = Variable(torch.zeros(self.num_layers, x.size(0), self.hidden_size)) #hidden state\n",
    "        c_0 = Variable(torch.zeros(self.num_layers, x.size(0), self.hidden_size)) #internal state\n",
    "        \n",
    "        #Xavier_init for both H_0 and C_0\n",
    "        torch.nn.init.xavier_normal_(h_0)\n",
    "        torch.nn.init.xavier_normal_(c_0)\n",
    "        \n",
    "        # Propagate input through LSTM\n",
    "        lstm_out, (hn, cn) = self.lstm(x, (h_0, c_0)) #lstm with input, hidden, and internal state\n",
    "        last_output = hn.view(-1, self.hidden_size) #reshaping the data for Dense layer next\n",
    "        \n",
    "        #we are interested in only keeping the last output\n",
    "        drop_out = self.dropout(last_output)\n",
    "        pre_softmax = self.fc(drop_out) #Final Output - dense\n",
    "        return pre_softmax"
   ]
  },
  {
   "cell_type": "markdown",
   "id": "17c356bd",
   "metadata": {},
   "source": [
    "**2. Define the train and validation Functions**"
   ]
  },
  {
   "cell_type": "code",
   "execution_count": 11,
   "id": "25b29a1d",
   "metadata": {},
   "outputs": [],
   "source": [
    "def train_epoch(model,dataloader,loss_fn,optimizer):\n",
    "    \n",
    "    train_loss,train_correct=0.0,0 \n",
    "    model.train()\n",
    "    for X, labels in dataloader:\n",
    "\n",
    "        optimizer.zero_grad()\n",
    "        output = model(X)\n",
    "        loss = loss_fn(output,labels)\n",
    "        loss.backward()\n",
    "        optimizer.step()\n",
    "        train_loss += loss.item() * X.size(0)\n",
    "        scores, predictions = torch.max(F.log_softmax(output.data), 1)\n",
    "        train_correct += (predictions == labels).sum().item()\n",
    "        \n",
    "    return train_loss,train_correct\n",
    "  \n",
    "def valid_epoch(model,dataloader,loss_fn):\n",
    "    valid_loss, val_correct = 0.0, 0\n",
    "    targets = []\n",
    "    y_pred = []\n",
    "    probability_1 = []\n",
    "    \n",
    "    model.eval()\n",
    "    for X, labels in dataloader:\n",
    "\n",
    "        output = model(X)\n",
    "        loss=loss_fn(output,labels)\n",
    "        valid_loss+=loss.item()*X.size(0)\n",
    "        probability_1.append(F.softmax(output.data)[:,1])\n",
    "        predictions = torch.argmax(output, dim=1)\n",
    "        val_correct+=(predictions == labels).sum().item()\n",
    "        targets.append(labels)\n",
    "        y_pred.append(predictions)\n",
    "    \n",
    "    #concat all results\n",
    "    targets = torch.cat(targets).data.cpu().numpy()\n",
    "    y_pred = torch.cat(y_pred).data.cpu().numpy()\n",
    "    probability_1 = torch.cat(probability_1).data.cpu().numpy()\n",
    "    \n",
    "    #calculate precision, recall and AUC score\n",
    "    \n",
    "    precision = precision_score(targets, y_pred)\n",
    "    recall = recall_score(targets, y_pred)\n",
    "    auroc = roc_auc_score(targets, probability_1)\n",
    "    \n",
    "    #return all\n",
    "    return valid_loss,val_correct, precision, recall, auroc"
   ]
  },
  {
   "cell_type": "markdown",
   "id": "d4543fb3",
   "metadata": {},
   "source": [
    "**3. Define main hyperparameters of the model, including splits**"
   ]
  },
  {
   "cell_type": "code",
   "execution_count": 12,
   "id": "fcbbef20",
   "metadata": {},
   "outputs": [],
   "source": [
    "#Model\n",
    "num_epochs = 100 #50 epochs\n",
    "learning_rate = 0.01 #0.01 lr\n",
    "input_size = 1 #number of features\n",
    "hidden_size = 40 #number of features in hidden state\n",
    "num_layers = 1 #number of stacked lstm layers\n",
    "\n",
    "#Shape of Output as required for SoftMax Classifier\n",
    "num_classes = 2 #output shape\n",
    "\n",
    "batch_size = 32\n",
    "\n",
    "k=10\n",
    "splits= RepeatedKFold(n_splits=k, n_repeats=replicas, random_state=15) #kfold of 10 with 30 replicas\n",
    "criterion = nn.CrossEntropyLoss()    # cross-entropy for classification"
   ]
  },
  {
   "cell_type": "markdown",
   "id": "a20713d9",
   "metadata": {},
   "source": [
    "**4. Make the splits and Start Training**"
   ]
  },
  {
   "cell_type": "code",
   "execution_count": null,
   "id": "45544589",
   "metadata": {},
   "outputs": [
    {
     "data": {
      "application/vnd.jupyter.widget-view+json": {
       "model_id": "94d6db64bd3448d78131155875eb7549",
       "version_major": 2,
       "version_minor": 0
      },
      "text/plain": [
       "  0%|          | 0/5 [00:00<?, ?it/s]"
      ]
     },
     "metadata": {},
     "output_type": "display_data"
    },
    {
     "name": "stdout",
     "output_type": "stream",
     "text": [
      "Date_threshold_10\n"
     ]
    },
    {
     "data": {
      "application/vnd.jupyter.widget-view+json": {
       "model_id": "9e06fa0a94cd44408bdc3fdf924212bc",
       "version_major": 2,
       "version_minor": 0
      },
      "text/plain": [
       "  0%|          | 0/4 [00:00<?, ?it/s]"
      ]
     },
     "metadata": {},
     "output_type": "display_data"
    },
    {
     "name": "stdout",
     "output_type": "stream",
     "text": [
      "exam_fail\n",
      "Before reshaping:\n",
      "Training Shape torch.Size([7436, 25]) torch.Size([7436])\n",
      "Testing Shape torch.Size([1860, 25]) torch.Size([1860])\n",
      "\n",
      "After reshaping:\n",
      "Training Shape torch.Size([7436, 25, 1]) torch.Size([7436])\n",
      "Testing Shape torch.Size([1860, 25, 1]) torch.Size([1860])\n"
     ]
    },
    {
     "data": {
      "application/vnd.jupyter.widget-view+json": {
       "model_id": "0385b91a35cc4b3e8c23fd4f58b32252",
       "version_major": 2,
       "version_minor": 0
      },
      "text/plain": [
       "0it [00:00, ?it/s]"
      ]
     },
     "metadata": {},
     "output_type": "display_data"
    },
    {
     "name": "stdout",
     "output_type": "stream",
     "text": [
      "Split 1\n"
     ]
    },
    {
     "data": {
      "application/vnd.jupyter.widget-view+json": {
       "model_id": "3b4eac65beb74a0b8aa68c863b179d74",
       "version_major": 2,
       "version_minor": 0
      },
      "text/plain": [
       "  0%|          | 0/100 [00:00<?, ?it/s]"
      ]
     },
     "metadata": {},
     "output_type": "display_data"
    },
    {
     "name": "stdout",
     "output_type": "stream",
     "text": [
      "New Best Accuracy found: 81.45%\n",
      "Epoch: 1\n",
      "Epoch:10/100 AVG Training Loss:0.496 AVG Validation Loss:0.470 AVG Training Acc 79.71 % AVG Validation Acc 81.45 %\n",
      "New Best Accuracy found: 81.59%\n",
      "Epoch: 12\n",
      "Epoch:20/100 AVG Training Loss:0.490 AVG Validation Loss:0.470 AVG Training Acc 79.75 % AVG Validation Acc 81.59 %\n",
      "Epoch    25: reducing learning rate of group 0 to 1.0000e-03.\n",
      "Epoch:30/100 AVG Training Loss:0.482 AVG Validation Loss:0.473 AVG Training Acc 79.81 % AVG Validation Acc 81.18 %\n",
      "Epoch:40/100 AVG Training Loss:0.478 AVG Validation Loss:0.475 AVG Training Acc 79.93 % AVG Validation Acc 80.91 %\n",
      "Epoch:50/100 AVG Training Loss:0.472 AVG Validation Loss:0.477 AVG Training Acc 80.17 % AVG Validation Acc 81.05 %\n",
      "Epoch    56: reducing learning rate of group 0 to 1.0000e-04.\n",
      "Epoch:60/100 AVG Training Loss:0.462 AVG Validation Loss:0.483 AVG Training Acc 80.38 % AVG Validation Acc 80.65 %\n",
      "Epoch:70/100 AVG Training Loss:0.463 AVG Validation Loss:0.486 AVG Training Acc 80.22 % AVG Validation Acc 80.51 %\n",
      "Epoch:80/100 AVG Training Loss:0.459 AVG Validation Loss:0.488 AVG Training Acc 80.35 % AVG Validation Acc 80.51 %\n",
      "Epoch    87: reducing learning rate of group 0 to 1.0000e-05.\n",
      "Epoch:90/100 AVG Training Loss:0.460 AVG Validation Loss:0.488 AVG Training Acc 80.27 % AVG Validation Acc 80.65 %\n",
      "Epoch:100/100 AVG Training Loss:0.460 AVG Validation Loss:0.488 AVG Training Acc 80.26 % AVG Validation Acc 80.65 %\n",
      "Split 2\n"
     ]
    },
    {
     "data": {
      "application/vnd.jupyter.widget-view+json": {
       "model_id": "897d1794de834dae9bd65822d1cee49c",
       "version_major": 2,
       "version_minor": 0
      },
      "text/plain": [
       "  0%|          | 0/100 [00:00<?, ?it/s]"
      ]
     },
     "metadata": {},
     "output_type": "display_data"
    },
    {
     "name": "stdout",
     "output_type": "stream",
     "text": [
      "Epoch:10/100 AVG Training Loss:0.497 AVG Validation Loss:0.485 AVG Training Acc 79.80 % AVG Validation Acc 80.78 %\n",
      "Epoch:20/100 AVG Training Loss:0.490 AVG Validation Loss:0.483 AVG Training Acc 79.84 % AVG Validation Acc 80.51 %\n",
      "Epoch:30/100 AVG Training Loss:0.489 AVG Validation Loss:0.479 AVG Training Acc 79.75 % AVG Validation Acc 80.65 %\n",
      "Epoch:40/100 AVG Training Loss:0.481 AVG Validation Loss:0.488 AVG Training Acc 79.90 % AVG Validation Acc 79.84 %\n",
      "Epoch    45: reducing learning rate of group 0 to 1.0000e-03.\n",
      "Epoch:50/100 AVG Training Loss:0.468 AVG Validation Loss:0.482 AVG Training Acc 80.25 % AVG Validation Acc 80.38 %\n",
      "Epoch:60/100 AVG Training Loss:0.457 AVG Validation Loss:0.486 AVG Training Acc 80.60 % AVG Validation Acc 80.11 %\n",
      "Epoch:70/100 AVG Training Loss:0.454 AVG Validation Loss:0.501 AVG Training Acc 80.72 % AVG Validation Acc 80.38 %\n",
      "Epoch    76: reducing learning rate of group 0 to 1.0000e-04.\n",
      "Epoch:80/100 AVG Training Loss:0.451 AVG Validation Loss:0.490 AVG Training Acc 80.87 % AVG Validation Acc 80.65 %\n",
      "Epoch:90/100 AVG Training Loss:0.449 AVG Validation Loss:0.497 AVG Training Acc 80.71 % AVG Validation Acc 80.38 %\n",
      "Epoch:100/100 AVG Training Loss:0.447 AVG Validation Loss:0.499 AVG Training Acc 80.89 % AVG Validation Acc 80.51 %\n",
      "Split 3\n"
     ]
    },
    {
     "data": {
      "application/vnd.jupyter.widget-view+json": {
       "model_id": "3a824ae01be14582a219e14d877fa538",
       "version_major": 2,
       "version_minor": 0
      },
      "text/plain": [
       "  0%|          | 0/100 [00:00<?, ?it/s]"
      ]
     },
     "metadata": {},
     "output_type": "display_data"
    },
    {
     "name": "stdout",
     "output_type": "stream",
     "text": [
      "Epoch:10/100 AVG Training Loss:0.497 AVG Validation Loss:0.508 AVG Training Acc 79.92 % AVG Validation Acc 78.90 %\n",
      "Epoch:20/100 AVG Training Loss:0.487 AVG Validation Loss:0.508 AVG Training Acc 80.01 % AVG Validation Acc 78.90 %\n",
      "Epoch    25: reducing learning rate of group 0 to 1.0000e-03.\n",
      "Epoch:30/100 AVG Training Loss:0.482 AVG Validation Loss:0.509 AVG Training Acc 80.07 % AVG Validation Acc 78.90 %\n",
      "Epoch:40/100 AVG Training Loss:0.476 AVG Validation Loss:0.514 AVG Training Acc 80.19 % AVG Validation Acc 78.76 %\n",
      "Epoch:50/100 AVG Training Loss:0.470 AVG Validation Loss:0.517 AVG Training Acc 80.36 % AVG Validation Acc 78.36 %\n",
      "Epoch    56: reducing learning rate of group 0 to 1.0000e-04.\n",
      "Epoch:60/100 AVG Training Loss:0.466 AVG Validation Loss:0.524 AVG Training Acc 80.63 % AVG Validation Acc 78.23 %\n",
      "Epoch:70/100 AVG Training Loss:0.464 AVG Validation Loss:0.528 AVG Training Acc 80.69 % AVG Validation Acc 78.09 %\n",
      "Epoch:80/100 AVG Training Loss:0.462 AVG Validation Loss:0.528 AVG Training Acc 80.59 % AVG Validation Acc 78.09 %\n",
      "Epoch    87: reducing learning rate of group 0 to 1.0000e-05.\n",
      "Epoch:90/100 AVG Training Loss:0.463 AVG Validation Loss:0.530 AVG Training Acc 80.66 % AVG Validation Acc 77.96 %\n",
      "Epoch:100/100 AVG Training Loss:0.462 AVG Validation Loss:0.529 AVG Training Acc 80.68 % AVG Validation Acc 77.82 %\n",
      "Split 4\n"
     ]
    },
    {
     "data": {
      "application/vnd.jupyter.widget-view+json": {
       "model_id": "3f78d1ae80cb4f8992d866e54fcfafe9",
       "version_major": 2,
       "version_minor": 0
      },
      "text/plain": [
       "  0%|          | 0/100 [00:00<?, ?it/s]"
      ]
     },
     "metadata": {},
     "output_type": "display_data"
    },
    {
     "name": "stdout",
     "output_type": "stream",
     "text": [
      "Epoch:10/100 AVG Training Loss:0.492 AVG Validation Loss:0.509 AVG Training Acc 80.11 % AVG Validation Acc 77.82 %\n",
      "Epoch:20/100 AVG Training Loss:0.489 AVG Validation Loss:0.520 AVG Training Acc 80.11 % AVG Validation Acc 77.96 %\n",
      "Epoch:30/100 AVG Training Loss:0.484 AVG Validation Loss:0.517 AVG Training Acc 80.22 % AVG Validation Acc 77.82 %\n",
      "Epoch    30: reducing learning rate of group 0 to 1.0000e-03.\n",
      "Epoch:40/100 AVG Training Loss:0.471 AVG Validation Loss:0.525 AVG Training Acc 80.62 % AVG Validation Acc 77.02 %\n",
      "Epoch:50/100 AVG Training Loss:0.467 AVG Validation Loss:0.527 AVG Training Acc 80.68 % AVG Validation Acc 77.15 %\n",
      "Epoch:60/100 AVG Training Loss:0.459 AVG Validation Loss:0.528 AVG Training Acc 80.84 % AVG Validation Acc 76.88 %\n",
      "Epoch    61: reducing learning rate of group 0 to 1.0000e-04.\n",
      "Epoch:70/100 AVG Training Loss:0.458 AVG Validation Loss:0.530 AVG Training Acc 81.01 % AVG Validation Acc 77.15 %\n",
      "Epoch:80/100 AVG Training Loss:0.457 AVG Validation Loss:0.529 AVG Training Acc 80.99 % AVG Validation Acc 77.02 %\n",
      "Epoch:90/100 AVG Training Loss:0.455 AVG Validation Loss:0.530 AVG Training Acc 81.17 % AVG Validation Acc 76.88 %\n",
      "Epoch    92: reducing learning rate of group 0 to 1.0000e-05.\n",
      "Epoch:100/100 AVG Training Loss:0.455 AVG Validation Loss:0.531 AVG Training Acc 80.98 % AVG Validation Acc 76.88 %\n",
      "Split 5\n"
     ]
    },
    {
     "data": {
      "application/vnd.jupyter.widget-view+json": {
       "model_id": "cac663c7d4454ceda387ce4419e73595",
       "version_major": 2,
       "version_minor": 0
      },
      "text/plain": [
       "  0%|          | 0/100 [00:00<?, ?it/s]"
      ]
     },
     "metadata": {},
     "output_type": "display_data"
    },
    {
     "name": "stdout",
     "output_type": "stream",
     "text": [
      "Epoch:10/100 AVG Training Loss:0.494 AVG Validation Loss:0.507 AVG Training Acc 79.96 % AVG Validation Acc 79.30 %\n",
      "Epoch:20/100 AVG Training Loss:0.489 AVG Validation Loss:0.496 AVG Training Acc 79.93 % AVG Validation Acc 79.30 %\n",
      "Epoch:30/100 AVG Training Loss:0.481 AVG Validation Loss:0.495 AVG Training Acc 80.04 % AVG Validation Acc 79.17 %\n",
      "Epoch    34: reducing learning rate of group 0 to 1.0000e-03.\n",
      "Epoch:40/100 AVG Training Loss:0.465 AVG Validation Loss:0.508 AVG Training Acc 80.33 % AVG Validation Acc 78.90 %\n",
      "Epoch:50/100 AVG Training Loss:0.457 AVG Validation Loss:0.520 AVG Training Acc 80.78 % AVG Validation Acc 78.76 %\n",
      "Epoch:60/100 AVG Training Loss:0.448 AVG Validation Loss:0.527 AVG Training Acc 80.98 % AVG Validation Acc 78.09 %\n",
      "Epoch    65: reducing learning rate of group 0 to 1.0000e-04.\n",
      "Epoch:70/100 AVG Training Loss:0.444 AVG Validation Loss:0.529 AVG Training Acc 81.10 % AVG Validation Acc 78.23 %\n",
      "Epoch:80/100 AVG Training Loss:0.441 AVG Validation Loss:0.536 AVG Training Acc 81.17 % AVG Validation Acc 78.23 %\n",
      "Epoch:90/100 AVG Training Loss:0.439 AVG Validation Loss:0.538 AVG Training Acc 81.23 % AVG Validation Acc 78.09 %\n",
      "Epoch    96: reducing learning rate of group 0 to 1.0000e-05.\n",
      "Epoch:100/100 AVG Training Loss:0.437 AVG Validation Loss:0.541 AVG Training Acc 81.38 % AVG Validation Acc 77.55 %\n",
      "Split 6\n"
     ]
    },
    {
     "data": {
      "application/vnd.jupyter.widget-view+json": {
       "model_id": "a343d8003703443c93afdf4c62d49468",
       "version_major": 2,
       "version_minor": 0
      },
      "text/plain": [
       "  0%|          | 0/100 [00:00<?, ?it/s]"
      ]
     },
     "metadata": {},
     "output_type": "display_data"
    },
    {
     "name": "stdout",
     "output_type": "stream",
     "text": [
      "New Best Accuracy found: 82.26%\n",
      "Epoch: 1\n",
      "Epoch:10/100 AVG Training Loss:0.502 AVG Validation Loss:0.453 AVG Training Acc 79.60 % AVG Validation Acc 82.26 %\n",
      "New Best Accuracy found: 82.39%\n",
      "Epoch: 15\n",
      "Epoch    18: reducing learning rate of group 0 to 1.0000e-03.\n",
      "Epoch:20/100 AVG Training Loss:0.490 AVG Validation Loss:0.448 AVG Training Acc 79.65 % AVG Validation Acc 82.53 %\n",
      "New Best Accuracy found: 82.53%\n",
      "Epoch: 20\n",
      "Epoch:30/100 AVG Training Loss:0.488 AVG Validation Loss:0.447 AVG Training Acc 79.74 % AVG Validation Acc 82.39 %\n",
      "Epoch:40/100 AVG Training Loss:0.486 AVG Validation Loss:0.447 AVG Training Acc 79.71 % AVG Validation Acc 82.26 %\n",
      "Epoch    49: reducing learning rate of group 0 to 1.0000e-04.\n",
      "Epoch:50/100 AVG Training Loss:0.480 AVG Validation Loss:0.448 AVG Training Acc 79.81 % AVG Validation Acc 81.99 %\n",
      "Epoch:60/100 AVG Training Loss:0.480 AVG Validation Loss:0.449 AVG Training Acc 79.86 % AVG Validation Acc 82.12 %\n",
      "Epoch:70/100 AVG Training Loss:0.478 AVG Validation Loss:0.448 AVG Training Acc 79.95 % AVG Validation Acc 82.12 %\n",
      "Epoch:80/100 AVG Training Loss:0.477 AVG Validation Loss:0.451 AVG Training Acc 80.05 % AVG Validation Acc 82.12 %\n",
      "Epoch    80: reducing learning rate of group 0 to 1.0000e-05.\n",
      "Epoch:90/100 AVG Training Loss:0.477 AVG Validation Loss:0.450 AVG Training Acc 79.99 % AVG Validation Acc 82.12 %\n",
      "Epoch:100/100 AVG Training Loss:0.477 AVG Validation Loss:0.449 AVG Training Acc 80.10 % AVG Validation Acc 82.12 %\n",
      "Split 7\n"
     ]
    },
    {
     "data": {
      "application/vnd.jupyter.widget-view+json": {
       "model_id": "2234875f82104b52a4e2ad477d85468e",
       "version_major": 2,
       "version_minor": 0
      },
      "text/plain": [
       "  0%|          | 0/100 [00:00<?, ?it/s]"
      ]
     },
     "metadata": {},
     "output_type": "display_data"
    },
    {
     "name": "stdout",
     "output_type": "stream",
     "text": [
      "Epoch:10/100 AVG Training Loss:0.494 AVG Validation Loss:0.487 AVG Training Acc 79.74 % AVG Validation Acc 81.16 %\n",
      "Epoch    17: reducing learning rate of group 0 to 1.0000e-03.\n",
      "Epoch:20/100 AVG Training Loss:0.485 AVG Validation Loss:0.490 AVG Training Acc 79.90 % AVG Validation Acc 81.02 %\n",
      "Epoch:30/100 AVG Training Loss:0.484 AVG Validation Loss:0.491 AVG Training Acc 79.93 % AVG Validation Acc 80.89 %\n",
      "Epoch:40/100 AVG Training Loss:0.483 AVG Validation Loss:0.489 AVG Training Acc 79.98 % AVG Validation Acc 80.75 %\n",
      "Epoch    48: reducing learning rate of group 0 to 1.0000e-04.\n",
      "Epoch:50/100 AVG Training Loss:0.479 AVG Validation Loss:0.491 AVG Training Acc 79.89 % AVG Validation Acc 80.75 %\n",
      "Epoch:60/100 AVG Training Loss:0.478 AVG Validation Loss:0.492 AVG Training Acc 79.98 % AVG Validation Acc 80.62 %\n",
      "Epoch:70/100 AVG Training Loss:0.479 AVG Validation Loss:0.492 AVG Training Acc 80.08 % AVG Validation Acc 80.62 %\n",
      "Epoch    79: reducing learning rate of group 0 to 1.0000e-05.\n",
      "Epoch:80/100 AVG Training Loss:0.479 AVG Validation Loss:0.493 AVG Training Acc 80.07 % AVG Validation Acc 80.62 %\n",
      "Epoch:90/100 AVG Training Loss:0.477 AVG Validation Loss:0.492 AVG Training Acc 80.11 % AVG Validation Acc 80.62 %\n",
      "Epoch:100/100 AVG Training Loss:0.477 AVG Validation Loss:0.492 AVG Training Acc 80.07 % AVG Validation Acc 80.62 %\n",
      "Split 8\n"
     ]
    },
    {
     "data": {
      "application/vnd.jupyter.widget-view+json": {
       "model_id": "c92f40c8189d4a4f975f6a65173ce17a",
       "version_major": 2,
       "version_minor": 0
      },
      "text/plain": [
       "  0%|          | 0/100 [00:00<?, ?it/s]"
      ]
     },
     "metadata": {},
     "output_type": "display_data"
    },
    {
     "name": "stdout",
     "output_type": "stream",
     "text": [
      "Epoch:10/100 AVG Training Loss:0.504 AVG Validation Loss:0.477 AVG Training Acc 79.68 % AVG Validation Acc 81.16 %\n",
      "Epoch:20/100 AVG Training Loss:0.492 AVG Validation Loss:0.462 AVG Training Acc 79.74 % AVG Validation Acc 81.16 %\n",
      "Epoch:30/100 AVG Training Loss:0.485 AVG Validation Loss:0.468 AVG Training Acc 79.75 % AVG Validation Acc 81.02 %\n",
      "Epoch    33: reducing learning rate of group 0 to 1.0000e-03.\n",
      "Epoch:40/100 AVG Training Loss:0.462 AVG Validation Loss:0.478 AVG Training Acc 80.59 % AVG Validation Acc 80.75 %\n",
      "Epoch:50/100 AVG Training Loss:0.455 AVG Validation Loss:0.483 AVG Training Acc 80.70 % AVG Validation Acc 80.48 %\n",
      "Epoch:60/100 AVG Training Loss:0.449 AVG Validation Loss:0.487 AVG Training Acc 81.07 % AVG Validation Acc 80.08 %\n",
      "Epoch    64: reducing learning rate of group 0 to 1.0000e-04.\n",
      "Epoch:70/100 AVG Training Loss:0.438 AVG Validation Loss:0.494 AVG Training Acc 81.46 % AVG Validation Acc 79.95 %\n",
      "Epoch:80/100 AVG Training Loss:0.437 AVG Validation Loss:0.485 AVG Training Acc 81.62 % AVG Validation Acc 80.75 %\n",
      "Epoch:90/100 AVG Training Loss:0.436 AVG Validation Loss:0.492 AVG Training Acc 81.41 % AVG Validation Acc 80.22 %\n",
      "Epoch    95: reducing learning rate of group 0 to 1.0000e-05.\n",
      "Epoch:100/100 AVG Training Loss:0.434 AVG Validation Loss:0.496 AVG Training Acc 81.76 % AVG Validation Acc 79.81 %\n",
      "Split 9\n"
     ]
    },
    {
     "data": {
      "application/vnd.jupyter.widget-view+json": {
       "model_id": "6d52db39fa8548b69aa547270f59a036",
       "version_major": 2,
       "version_minor": 0
      },
      "text/plain": [
       "  0%|          | 0/100 [00:00<?, ?it/s]"
      ]
     },
     "metadata": {},
     "output_type": "display_data"
    },
    {
     "name": "stdout",
     "output_type": "stream",
     "text": [
      "Epoch:10/100 AVG Training Loss:0.494 AVG Validation Loss:0.503 AVG Training Acc 79.93 % AVG Validation Acc 79.00 %\n",
      "Epoch:20/100 AVG Training Loss:0.493 AVG Validation Loss:0.501 AVG Training Acc 80.07 % AVG Validation Acc 79.00 %\n",
      "Epoch:30/100 AVG Training Loss:0.481 AVG Validation Loss:0.488 AVG Training Acc 79.95 % AVG Validation Acc 79.14 %\n",
      "Epoch:40/100 AVG Training Loss:0.477 AVG Validation Loss:0.500 AVG Training Acc 80.23 % AVG Validation Acc 79.14 %\n",
      "Epoch    40: reducing learning rate of group 0 to 1.0000e-03.\n",
      "Epoch:50/100 AVG Training Loss:0.460 AVG Validation Loss:0.499 AVG Training Acc 80.62 % AVG Validation Acc 79.27 %\n",
      "Epoch:60/100 AVG Training Loss:0.453 AVG Validation Loss:0.500 AVG Training Acc 80.80 % AVG Validation Acc 79.27 %\n",
      "Epoch:70/100 AVG Training Loss:0.444 AVG Validation Loss:0.504 AVG Training Acc 80.98 % AVG Validation Acc 79.27 %\n",
      "Epoch    71: reducing learning rate of group 0 to 1.0000e-04.\n",
      "Epoch:80/100 AVG Training Loss:0.444 AVG Validation Loss:0.507 AVG Training Acc 81.05 % AVG Validation Acc 79.41 %\n",
      "Epoch:90/100 AVG Training Loss:0.441 AVG Validation Loss:0.509 AVG Training Acc 81.10 % AVG Validation Acc 79.14 %\n",
      "Epoch:100/100 AVG Training Loss:0.440 AVG Validation Loss:0.515 AVG Training Acc 81.11 % AVG Validation Acc 79.27 %\n",
      "Split 10\n"
     ]
    },
    {
     "data": {
      "application/vnd.jupyter.widget-view+json": {
       "model_id": "7a498c55388e4855a52d2f36d6fe544c",
       "version_major": 2,
       "version_minor": 0
      },
      "text/plain": [
       "  0%|          | 0/100 [00:00<?, ?it/s]"
      ]
     },
     "metadata": {},
     "output_type": "display_data"
    },
    {
     "name": "stdout",
     "output_type": "stream",
     "text": [
      "Epoch:10/100 AVG Training Loss:0.488 AVG Validation Loss:0.538 AVG Training Acc 80.17 % AVG Validation Acc 76.99 %\n",
      "Epoch:20/100 AVG Training Loss:0.484 AVG Validation Loss:0.544 AVG Training Acc 80.23 % AVG Validation Acc 76.85 %\n",
      "Epoch    21: reducing learning rate of group 0 to 1.0000e-03.\n",
      "Epoch:30/100 AVG Training Loss:0.472 AVG Validation Loss:0.551 AVG Training Acc 80.50 % AVG Validation Acc 76.58 %\n",
      "Epoch:40/100 AVG Training Loss:0.463 AVG Validation Loss:0.561 AVG Training Acc 80.83 % AVG Validation Acc 76.58 %\n",
      "Epoch:50/100 AVG Training Loss:0.454 AVG Validation Loss:0.569 AVG Training Acc 81.07 % AVG Validation Acc 76.04 %\n",
      "Epoch    52: reducing learning rate of group 0 to 1.0000e-04.\n",
      "Epoch:60/100 AVG Training Loss:0.450 AVG Validation Loss:0.576 AVG Training Acc 81.20 % AVG Validation Acc 76.31 %\n",
      "Epoch:70/100 AVG Training Loss:0.446 AVG Validation Loss:0.578 AVG Training Acc 81.25 % AVG Validation Acc 76.18 %\n",
      "Epoch:80/100 AVG Training Loss:0.448 AVG Validation Loss:0.577 AVG Training Acc 81.26 % AVG Validation Acc 76.31 %\n",
      "Epoch    83: reducing learning rate of group 0 to 1.0000e-05.\n",
      "Epoch:90/100 AVG Training Loss:0.446 AVG Validation Loss:0.579 AVG Training Acc 81.41 % AVG Validation Acc 76.18 %\n",
      "Epoch:100/100 AVG Training Loss:0.445 AVG Validation Loss:0.581 AVG Training Acc 81.38 % AVG Validation Acc 76.18 %\n",
      "Split 11\n"
     ]
    },
    {
     "data": {
      "application/vnd.jupyter.widget-view+json": {
       "model_id": "eb410360756c4fbe957e69d80765ddba",
       "version_major": 2,
       "version_minor": 0
      },
      "text/plain": [
       "  0%|          | 0/100 [00:00<?, ?it/s]"
      ]
     },
     "metadata": {},
     "output_type": "display_data"
    },
    {
     "name": "stdout",
     "output_type": "stream",
     "text": [
      "New Best Accuracy found: 82.93%\n",
      "Epoch: 1\n",
      "Epoch:10/100 AVG Training Loss:0.500 AVG Validation Loss:0.456 AVG Training Acc 79.45 % AVG Validation Acc 82.93 %\n",
      "Epoch:20/100 AVG Training Loss:0.491 AVG Validation Loss:0.454 AVG Training Acc 79.62 % AVG Validation Acc 82.39 %\n",
      "Epoch    28: reducing learning rate of group 0 to 1.0000e-03.\n",
      "Epoch:30/100 AVG Training Loss:0.481 AVG Validation Loss:0.453 AVG Training Acc 79.75 % AVG Validation Acc 82.12 %\n",
      "Epoch:40/100 AVG Training Loss:0.471 AVG Validation Loss:0.458 AVG Training Acc 79.92 % AVG Validation Acc 81.59 %\n",
      "Epoch:50/100 AVG Training Loss:0.462 AVG Validation Loss:0.458 AVG Training Acc 80.25 % AVG Validation Acc 81.99 %\n",
      "Epoch    59: reducing learning rate of group 0 to 1.0000e-04.\n",
      "Epoch:60/100 AVG Training Loss:0.456 AVG Validation Loss:0.460 AVG Training Acc 80.65 % AVG Validation Acc 81.45 %\n",
      "Epoch:70/100 AVG Training Loss:0.451 AVG Validation Loss:0.461 AVG Training Acc 80.93 % AVG Validation Acc 81.45 %\n",
      "Epoch:80/100 AVG Training Loss:0.450 AVG Validation Loss:0.466 AVG Training Acc 80.66 % AVG Validation Acc 81.45 %\n",
      "Epoch:90/100 AVG Training Loss:0.450 AVG Validation Loss:0.467 AVG Training Acc 80.75 % AVG Validation Acc 80.91 %\n",
      "Epoch    90: reducing learning rate of group 0 to 1.0000e-05.\n",
      "Epoch:100/100 AVG Training Loss:0.451 AVG Validation Loss:0.468 AVG Training Acc 80.68 % AVG Validation Acc 81.18 %\n",
      "Split 12\n"
     ]
    },
    {
     "data": {
      "application/vnd.jupyter.widget-view+json": {
       "model_id": "d7d03d3e481342ef9f2af574f30fc69a",
       "version_major": 2,
       "version_minor": 0
      },
      "text/plain": [
       "  0%|          | 0/100 [00:00<?, ?it/s]"
      ]
     },
     "metadata": {},
     "output_type": "display_data"
    },
    {
     "name": "stdout",
     "output_type": "stream",
     "text": [
      "Epoch:10/100 AVG Training Loss:0.496 AVG Validation Loss:0.492 AVG Training Acc 79.83 % AVG Validation Acc 79.44 %\n",
      "Epoch:20/100 AVG Training Loss:0.490 AVG Validation Loss:0.489 AVG Training Acc 79.89 % AVG Validation Acc 79.57 %\n",
      "Epoch:30/100 AVG Training Loss:0.489 AVG Validation Loss:0.484 AVG Training Acc 79.83 % AVG Validation Acc 79.57 %\n",
      "Epoch    34: reducing learning rate of group 0 to 1.0000e-03.\n",
      "Epoch:40/100 AVG Training Loss:0.476 AVG Validation Loss:0.484 AVG Training Acc 80.11 % AVG Validation Acc 79.57 %\n",
      "Epoch:50/100 AVG Training Loss:0.470 AVG Validation Loss:0.490 AVG Training Acc 80.25 % AVG Validation Acc 79.30 %\n",
      "Epoch:60/100 AVG Training Loss:0.464 AVG Validation Loss:0.496 AVG Training Acc 80.42 % AVG Validation Acc 78.90 %\n",
      "Epoch    65: reducing learning rate of group 0 to 1.0000e-04.\n",
      "Epoch:70/100 AVG Training Loss:0.460 AVG Validation Loss:0.496 AVG Training Acc 80.60 % AVG Validation Acc 78.36 %\n",
      "Epoch:80/100 AVG Training Loss:0.460 AVG Validation Loss:0.497 AVG Training Acc 80.80 % AVG Validation Acc 78.49 %\n",
      "Epoch:90/100 AVG Training Loss:0.460 AVG Validation Loss:0.500 AVG Training Acc 80.56 % AVG Validation Acc 78.49 %\n",
      "Epoch    96: reducing learning rate of group 0 to 1.0000e-05.\n",
      "Epoch:100/100 AVG Training Loss:0.458 AVG Validation Loss:0.500 AVG Training Acc 80.68 % AVG Validation Acc 78.76 %\n",
      "Split 13\n"
     ]
    },
    {
     "data": {
      "application/vnd.jupyter.widget-view+json": {
       "model_id": "56925d89374a44a6aaae512cd4aadc81",
       "version_major": 2,
       "version_minor": 0
      },
      "text/plain": [
       "  0%|          | 0/100 [00:00<?, ?it/s]"
      ]
     },
     "metadata": {},
     "output_type": "display_data"
    },
    {
     "name": "stdout",
     "output_type": "stream",
     "text": [
      "Epoch:10/100 AVG Training Loss:0.498 AVG Validation Loss:0.476 AVG Training Acc 79.62 % AVG Validation Acc 81.59 %\n",
      "Epoch:20/100 AVG Training Loss:0.493 AVG Validation Loss:0.478 AVG Training Acc 79.69 % AVG Validation Acc 81.45 %\n",
      "Epoch    25: reducing learning rate of group 0 to 1.0000e-03.\n",
      "Epoch:30/100 AVG Training Loss:0.480 AVG Validation Loss:0.482 AVG Training Acc 79.92 % AVG Validation Acc 81.59 %\n",
      "Epoch:40/100 AVG Training Loss:0.472 AVG Validation Loss:0.490 AVG Training Acc 80.05 % AVG Validation Acc 81.45 %\n",
      "Epoch:50/100 AVG Training Loss:0.467 AVG Validation Loss:0.492 AVG Training Acc 80.30 % AVG Validation Acc 81.05 %\n",
      "Epoch    56: reducing learning rate of group 0 to 1.0000e-04.\n",
      "Epoch:60/100 AVG Training Loss:0.463 AVG Validation Loss:0.493 AVG Training Acc 80.39 % AVG Validation Acc 81.18 %\n",
      "Epoch:70/100 AVG Training Loss:0.461 AVG Validation Loss:0.494 AVG Training Acc 80.45 % AVG Validation Acc 81.05 %\n",
      "Epoch:80/100 AVG Training Loss:0.459 AVG Validation Loss:0.497 AVG Training Acc 80.62 % AVG Validation Acc 80.78 %\n",
      "Epoch    87: reducing learning rate of group 0 to 1.0000e-05.\n",
      "Epoch:90/100 AVG Training Loss:0.459 AVG Validation Loss:0.497 AVG Training Acc 80.56 % AVG Validation Acc 80.91 %\n",
      "Epoch:100/100 AVG Training Loss:0.458 AVG Validation Loss:0.496 AVG Training Acc 80.50 % AVG Validation Acc 80.91 %\n",
      "Split 14\n"
     ]
    },
    {
     "data": {
      "application/vnd.jupyter.widget-view+json": {
       "model_id": "ed073dce363a41b39a966368f01831a4",
       "version_major": 2,
       "version_minor": 0
      },
      "text/plain": [
       "  0%|          | 0/100 [00:00<?, ?it/s]"
      ]
     },
     "metadata": {},
     "output_type": "display_data"
    },
    {
     "name": "stdout",
     "output_type": "stream",
     "text": [
      "Epoch:10/100 AVG Training Loss:0.496 AVG Validation Loss:0.487 AVG Training Acc 79.78 % AVG Validation Acc 80.65 %\n",
      "Epoch:20/100 AVG Training Loss:0.490 AVG Validation Loss:0.485 AVG Training Acc 79.78 % AVG Validation Acc 80.65 %\n",
      "Epoch:30/100 AVG Training Loss:0.487 AVG Validation Loss:0.495 AVG Training Acc 79.90 % AVG Validation Acc 80.38 %\n",
      "Epoch:40/100 AVG Training Loss:0.485 AVG Validation Loss:0.485 AVG Training Acc 79.89 % AVG Validation Acc 80.78 %\n",
      "Epoch    48: reducing learning rate of group 0 to 1.0000e-03.\n",
      "Epoch:50/100 AVG Training Loss:0.472 AVG Validation Loss:0.500 AVG Training Acc 80.02 % AVG Validation Acc 80.11 %\n",
      "Epoch:60/100 AVG Training Loss:0.462 AVG Validation Loss:0.512 AVG Training Acc 80.30 % AVG Validation Acc 79.97 %\n",
      "Epoch:70/100 AVG Training Loss:0.458 AVG Validation Loss:0.523 AVG Training Acc 80.19 % AVG Validation Acc 79.84 %\n",
      "Epoch    79: reducing learning rate of group 0 to 1.0000e-04.\n",
      "Epoch:80/100 AVG Training Loss:0.448 AVG Validation Loss:0.534 AVG Training Acc 80.59 % AVG Validation Acc 79.70 %\n",
      "Epoch:90/100 AVG Training Loss:0.447 AVG Validation Loss:0.530 AVG Training Acc 80.53 % AVG Validation Acc 79.57 %\n",
      "Epoch:100/100 AVG Training Loss:0.447 AVG Validation Loss:0.532 AVG Training Acc 80.68 % AVG Validation Acc 79.84 %\n",
      "Split 15\n"
     ]
    },
    {
     "data": {
      "application/vnd.jupyter.widget-view+json": {
       "model_id": "557034078c7a456890db3e20b1168a5e",
       "version_major": 2,
       "version_minor": 0
      },
      "text/plain": [
       "  0%|          | 0/100 [00:00<?, ?it/s]"
      ]
     },
     "metadata": {},
     "output_type": "display_data"
    },
    {
     "name": "stdout",
     "output_type": "stream",
     "text": [
      "Epoch:10/100 AVG Training Loss:0.491 AVG Validation Loss:0.512 AVG Training Acc 79.93 % AVG Validation Acc 79.03 %\n",
      "Epoch:20/100 AVG Training Loss:0.487 AVG Validation Loss:0.508 AVG Training Acc 80.04 % AVG Validation Acc 79.03 %\n",
      "Epoch    22: reducing learning rate of group 0 to 1.0000e-03.\n",
      "Epoch:30/100 AVG Training Loss:0.471 AVG Validation Loss:0.518 AVG Training Acc 80.32 % AVG Validation Acc 78.63 %\n",
      "Epoch:40/100 AVG Training Loss:0.466 AVG Validation Loss:0.521 AVG Training Acc 80.56 % AVG Validation Acc 78.36 %\n",
      "Epoch:50/100 AVG Training Loss:0.457 AVG Validation Loss:0.528 AVG Training Acc 80.84 % AVG Validation Acc 78.36 %\n",
      "Epoch    53: reducing learning rate of group 0 to 1.0000e-04.\n",
      "Epoch:60/100 AVG Training Loss:0.453 AVG Validation Loss:0.529 AVG Training Acc 80.90 % AVG Validation Acc 78.23 %\n",
      "Epoch:70/100 AVG Training Loss:0.451 AVG Validation Loss:0.533 AVG Training Acc 81.19 % AVG Validation Acc 78.09 %\n",
      "Epoch:80/100 AVG Training Loss:0.450 AVG Validation Loss:0.537 AVG Training Acc 80.95 % AVG Validation Acc 78.23 %\n",
      "Epoch    84: reducing learning rate of group 0 to 1.0000e-05.\n",
      "Epoch:90/100 AVG Training Loss:0.452 AVG Validation Loss:0.530 AVG Training Acc 81.10 % AVG Validation Acc 78.23 %\n",
      "Epoch:100/100 AVG Training Loss:0.450 AVG Validation Loss:0.537 AVG Training Acc 81.20 % AVG Validation Acc 78.09 %\n",
      "Split 16\n"
     ]
    },
    {
     "data": {
      "application/vnd.jupyter.widget-view+json": {
       "model_id": "ad1d0776512c495991f11efb700bafaf",
       "version_major": 2,
       "version_minor": 0
      },
      "text/plain": [
       "  0%|          | 0/100 [00:00<?, ?it/s]"
      ]
     },
     "metadata": {},
     "output_type": "display_data"
    },
    {
     "name": "stdout",
     "output_type": "stream",
     "text": [
      "Epoch:10/100 AVG Training Loss:0.494 AVG Validation Loss:0.539 AVG Training Acc 80.17 % AVG Validation Acc 77.02 %\n",
      "Epoch:20/100 AVG Training Loss:0.488 AVG Validation Loss:0.522 AVG Training Acc 80.25 % AVG Validation Acc 77.15 %\n",
      "Epoch:30/100 AVG Training Loss:0.483 AVG Validation Loss:0.525 AVG Training Acc 80.17 % AVG Validation Acc 77.02 %\n",
      "Epoch:40/100 AVG Training Loss:0.476 AVG Validation Loss:0.532 AVG Training Acc 80.26 % AVG Validation Acc 76.88 %\n",
      "Epoch    47: reducing learning rate of group 0 to 1.0000e-03.\n",
      "Epoch:50/100 AVG Training Loss:0.466 AVG Validation Loss:0.529 AVG Training Acc 80.45 % AVG Validation Acc 76.61 %\n",
      "Epoch:60/100 AVG Training Loss:0.455 AVG Validation Loss:0.541 AVG Training Acc 80.78 % AVG Validation Acc 76.21 %\n",
      "Epoch:70/100 AVG Training Loss:0.450 AVG Validation Loss:0.542 AVG Training Acc 80.90 % AVG Validation Acc 76.34 %\n",
      "Epoch    78: reducing learning rate of group 0 to 1.0000e-04.\n",
      "Epoch:80/100 AVG Training Loss:0.444 AVG Validation Loss:0.546 AVG Training Acc 81.04 % AVG Validation Acc 76.08 %\n",
      "Epoch:90/100 AVG Training Loss:0.441 AVG Validation Loss:0.549 AVG Training Acc 81.43 % AVG Validation Acc 76.21 %\n",
      "Epoch:100/100 AVG Training Loss:0.442 AVG Validation Loss:0.552 AVG Training Acc 80.92 % AVG Validation Acc 76.21 %\n",
      "Split 17\n"
     ]
    },
    {
     "data": {
      "application/vnd.jupyter.widget-view+json": {
       "model_id": "2c477d8faf994e6cbdaacf666baeb79d",
       "version_major": 2,
       "version_minor": 0
      },
      "text/plain": [
       "  0%|          | 0/100 [00:00<?, ?it/s]"
      ]
     },
     "metadata": {},
     "output_type": "display_data"
    },
    {
     "name": "stdout",
     "output_type": "stream",
     "text": [
      "Epoch:10/100 AVG Training Loss:0.492 AVG Validation Loss:0.516 AVG Training Acc 80.10 % AVG Validation Acc 77.66 %\n",
      "Epoch:20/100 AVG Training Loss:0.488 AVG Validation Loss:0.514 AVG Training Acc 80.13 % AVG Validation Acc 77.79 %\n",
      "Epoch:30/100 AVG Training Loss:0.482 AVG Validation Loss:0.518 AVG Training Acc 80.35 % AVG Validation Acc 77.39 %\n",
      "Epoch    33: reducing learning rate of group 0 to 1.0000e-03.\n",
      "Epoch:40/100 AVG Training Loss:0.470 AVG Validation Loss:0.522 AVG Training Acc 80.59 % AVG Validation Acc 77.39 %\n",
      "Epoch:50/100 AVG Training Loss:0.464 AVG Validation Loss:0.532 AVG Training Acc 80.92 % AVG Validation Acc 77.25 %\n",
      "Epoch:60/100 AVG Training Loss:0.456 AVG Validation Loss:0.539 AVG Training Acc 81.05 % AVG Validation Acc 77.12 %\n",
      "Epoch    64: reducing learning rate of group 0 to 1.0000e-04.\n",
      "Epoch:70/100 AVG Training Loss:0.449 AVG Validation Loss:0.544 AVG Training Acc 81.26 % AVG Validation Acc 77.25 %\n",
      "Epoch:80/100 AVG Training Loss:0.450 AVG Validation Loss:0.540 AVG Training Acc 81.22 % AVG Validation Acc 77.25 %\n",
      "Epoch:90/100 AVG Training Loss:0.450 AVG Validation Loss:0.541 AVG Training Acc 81.31 % AVG Validation Acc 77.12 %\n",
      "Epoch    95: reducing learning rate of group 0 to 1.0000e-05.\n",
      "Epoch:100/100 AVG Training Loss:0.450 AVG Validation Loss:0.547 AVG Training Acc 81.11 % AVG Validation Acc 77.12 %\n",
      "Split 18\n"
     ]
    },
    {
     "data": {
      "application/vnd.jupyter.widget-view+json": {
       "model_id": "1770c0eba64f45b3b147af796e2524d6",
       "version_major": 2,
       "version_minor": 0
      },
      "text/plain": [
       "  0%|          | 0/100 [00:00<?, ?it/s]"
      ]
     },
     "metadata": {},
     "output_type": "display_data"
    },
    {
     "name": "stdout",
     "output_type": "stream",
     "text": [
      "Epoch:10/100 AVG Training Loss:0.499 AVG Validation Loss:0.487 AVG Training Acc 79.75 % AVG Validation Acc 80.75 %\n",
      "Epoch:20/100 AVG Training Loss:0.490 AVG Validation Loss:0.484 AVG Training Acc 79.81 % AVG Validation Acc 80.48 %\n",
      "Epoch    23: reducing learning rate of group 0 to 1.0000e-03.\n",
      "Epoch:30/100 AVG Training Loss:0.482 AVG Validation Loss:0.487 AVG Training Acc 79.84 % AVG Validation Acc 80.48 %\n",
      "Epoch:40/100 AVG Training Loss:0.475 AVG Validation Loss:0.493 AVG Training Acc 80.08 % AVG Validation Acc 80.08 %\n",
      "Epoch:50/100 AVG Training Loss:0.469 AVG Validation Loss:0.496 AVG Training Acc 80.32 % AVG Validation Acc 80.48 %\n",
      "Epoch    54: reducing learning rate of group 0 to 1.0000e-04.\n",
      "Epoch:60/100 AVG Training Loss:0.464 AVG Validation Loss:0.496 AVG Training Acc 80.41 % AVG Validation Acc 80.22 %\n",
      "Epoch:70/100 AVG Training Loss:0.465 AVG Validation Loss:0.497 AVG Training Acc 80.25 % AVG Validation Acc 80.35 %\n",
      "Epoch:80/100 AVG Training Loss:0.464 AVG Validation Loss:0.499 AVG Training Acc 80.40 % AVG Validation Acc 80.35 %\n",
      "Epoch    85: reducing learning rate of group 0 to 1.0000e-05.\n",
      "Epoch:90/100 AVG Training Loss:0.462 AVG Validation Loss:0.501 AVG Training Acc 80.47 % AVG Validation Acc 80.35 %\n",
      "Epoch:100/100 AVG Training Loss:0.464 AVG Validation Loss:0.502 AVG Training Acc 80.43 % AVG Validation Acc 80.35 %\n",
      "Split 19\n"
     ]
    },
    {
     "data": {
      "application/vnd.jupyter.widget-view+json": {
       "model_id": "9f1c91eb430c4f8893af31b934ade0b3",
       "version_major": 2,
       "version_minor": 0
      },
      "text/plain": [
       "  0%|          | 0/100 [00:00<?, ?it/s]"
      ]
     },
     "metadata": {},
     "output_type": "display_data"
    },
    {
     "name": "stdout",
     "output_type": "stream",
     "text": [
      "Epoch:10/100 AVG Training Loss:0.503 AVG Validation Loss:0.486 AVG Training Acc 79.78 % AVG Validation Acc 80.62 %\n",
      "Epoch:20/100 AVG Training Loss:0.496 AVG Validation Loss:0.482 AVG Training Acc 79.78 % AVG Validation Acc 80.62 %\n",
      "Epoch:30/100 AVG Training Loss:0.489 AVG Validation Loss:0.481 AVG Training Acc 79.70 % AVG Validation Acc 80.62 %\n",
      "Epoch    39: reducing learning rate of group 0 to 1.0000e-03.\n",
      "Epoch:40/100 AVG Training Loss:0.483 AVG Validation Loss:0.471 AVG Training Acc 79.90 % AVG Validation Acc 80.62 %\n",
      "Epoch:50/100 AVG Training Loss:0.475 AVG Validation Loss:0.471 AVG Training Acc 80.02 % AVG Validation Acc 80.75 %\n",
      "Epoch:60/100 AVG Training Loss:0.467 AVG Validation Loss:0.474 AVG Training Acc 80.11 % AVG Validation Acc 80.35 %\n",
      "Epoch:70/100 AVG Training Loss:0.465 AVG Validation Loss:0.483 AVG Training Acc 80.35 % AVG Validation Acc 79.81 %\n",
      "Epoch    70: reducing learning rate of group 0 to 1.0000e-04.\n",
      "Epoch:80/100 AVG Training Loss:0.459 AVG Validation Loss:0.486 AVG Training Acc 80.62 % AVG Validation Acc 79.81 %\n",
      "Epoch:90/100 AVG Training Loss:0.459 AVG Validation Loss:0.489 AVG Training Acc 80.61 % AVG Validation Acc 79.41 %\n",
      "Epoch:100/100 AVG Training Loss:0.456 AVG Validation Loss:0.491 AVG Training Acc 80.86 % AVG Validation Acc 79.27 %\n",
      "Split 20\n"
     ]
    },
    {
     "data": {
      "application/vnd.jupyter.widget-view+json": {
       "model_id": "11fee25b64774efe84f3d4c59a4bff12",
       "version_major": 2,
       "version_minor": 0
      },
      "text/plain": [
       "  0%|          | 0/100 [00:00<?, ?it/s]"
      ]
     },
     "metadata": {},
     "output_type": "display_data"
    },
    {
     "name": "stdout",
     "output_type": "stream",
     "text": [
      "Epoch:10/100 AVG Training Loss:0.492 AVG Validation Loss:0.508 AVG Training Acc 79.99 % AVG Validation Acc 78.87 %\n",
      "Epoch:20/100 AVG Training Loss:0.488 AVG Validation Loss:0.509 AVG Training Acc 79.89 % AVG Validation Acc 79.00 %\n",
      "Epoch:30/100 AVG Training Loss:0.489 AVG Validation Loss:0.506 AVG Training Acc 79.93 % AVG Validation Acc 78.87 %\n",
      "Epoch    32: reducing learning rate of group 0 to 1.0000e-03.\n",
      "Epoch:40/100 AVG Training Loss:0.471 AVG Validation Loss:0.516 AVG Training Acc 80.25 % AVG Validation Acc 78.87 %\n",
      "Epoch:50/100 AVG Training Loss:0.464 AVG Validation Loss:0.529 AVG Training Acc 80.22 % AVG Validation Acc 78.73 %\n",
      "Epoch:60/100 AVG Training Loss:0.454 AVG Validation Loss:0.538 AVG Training Acc 80.89 % AVG Validation Acc 78.06 %\n",
      "Epoch    63: reducing learning rate of group 0 to 1.0000e-04.\n",
      "Epoch:70/100 AVG Training Loss:0.448 AVG Validation Loss:0.545 AVG Training Acc 80.83 % AVG Validation Acc 78.47 %\n",
      "Epoch:80/100 AVG Training Loss:0.448 AVG Validation Loss:0.546 AVG Training Acc 80.88 % AVG Validation Acc 78.33 %\n",
      "Epoch:90/100 AVG Training Loss:0.446 AVG Validation Loss:0.552 AVG Training Acc 81.07 % AVG Validation Acc 77.93 %\n",
      "Epoch    94: reducing learning rate of group 0 to 1.0000e-05.\n",
      "Epoch:100/100 AVG Training Loss:0.446 AVG Validation Loss:0.551 AVG Training Acc 81.07 % AVG Validation Acc 78.06 %\n",
      "Split 21\n"
     ]
    },
    {
     "data": {
      "application/vnd.jupyter.widget-view+json": {
       "model_id": "7c47df4233a24196b43e50bbc792c33c",
       "version_major": 2,
       "version_minor": 0
      },
      "text/plain": [
       "  0%|          | 0/100 [00:00<?, ?it/s]"
      ]
     },
     "metadata": {},
     "output_type": "display_data"
    },
    {
     "name": "stdout",
     "output_type": "stream",
     "text": [
      "Epoch:10/100 AVG Training Loss:0.495 AVG Validation Loss:0.492 AVG Training Acc 79.80 % AVG Validation Acc 80.11 %\n",
      "Epoch:20/100 AVG Training Loss:0.491 AVG Validation Loss:0.486 AVG Training Acc 79.84 % AVG Validation Acc 80.11 %\n",
      "Epoch:30/100 AVG Training Loss:0.488 AVG Validation Loss:0.496 AVG Training Acc 79.87 % AVG Validation Acc 79.57 %\n",
      "Epoch:40/100 AVG Training Loss:0.484 AVG Validation Loss:0.486 AVG Training Acc 79.96 % AVG Validation Acc 79.70 %\n",
      "Epoch    44: reducing learning rate of group 0 to 1.0000e-03.\n",
      "Epoch:50/100 AVG Training Loss:0.463 AVG Validation Loss:0.496 AVG Training Acc 80.36 % AVG Validation Acc 79.17 %\n",
      "Epoch:60/100 AVG Training Loss:0.459 AVG Validation Loss:0.502 AVG Training Acc 80.56 % AVG Validation Acc 79.17 %\n",
      "Epoch:70/100 AVG Training Loss:0.456 AVG Validation Loss:0.515 AVG Training Acc 80.60 % AVG Validation Acc 78.76 %\n",
      "Epoch    75: reducing learning rate of group 0 to 1.0000e-04.\n",
      "Epoch:80/100 AVG Training Loss:0.450 AVG Validation Loss:0.520 AVG Training Acc 80.93 % AVG Validation Acc 78.90 %\n",
      "Epoch:90/100 AVG Training Loss:0.445 AVG Validation Loss:0.517 AVG Training Acc 81.05 % AVG Validation Acc 79.17 %\n",
      "Epoch:100/100 AVG Training Loss:0.448 AVG Validation Loss:0.521 AVG Training Acc 80.96 % AVG Validation Acc 79.17 %\n",
      "Split 22\n"
     ]
    },
    {
     "data": {
      "application/vnd.jupyter.widget-view+json": {
       "model_id": "95731a9e8d6d41779182a44abb57474b",
       "version_major": 2,
       "version_minor": 0
      },
      "text/plain": [
       "  0%|          | 0/100 [00:00<?, ?it/s]"
      ]
     },
     "metadata": {},
     "output_type": "display_data"
    },
    {
     "name": "stdout",
     "output_type": "stream",
     "text": [
      "Epoch:10/100 AVG Training Loss:0.495 AVG Validation Loss:0.499 AVG Training Acc 79.89 % AVG Validation Acc 79.70 %\n",
      "Epoch:20/100 AVG Training Loss:0.488 AVG Validation Loss:0.503 AVG Training Acc 79.89 % AVG Validation Acc 79.70 %\n",
      "Epoch    23: reducing learning rate of group 0 to 1.0000e-03.\n",
      "Epoch:30/100 AVG Training Loss:0.476 AVG Validation Loss:0.507 AVG Training Acc 80.17 % AVG Validation Acc 79.57 %\n",
      "Epoch:40/100 AVG Training Loss:0.468 AVG Validation Loss:0.511 AVG Training Acc 80.22 % AVG Validation Acc 79.44 %\n",
      "Epoch:50/100 AVG Training Loss:0.462 AVG Validation Loss:0.520 AVG Training Acc 80.50 % AVG Validation Acc 79.30 %\n",
      "Epoch    54: reducing learning rate of group 0 to 1.0000e-04.\n",
      "Epoch:60/100 AVG Training Loss:0.457 AVG Validation Loss:0.528 AVG Training Acc 80.53 % AVG Validation Acc 79.30 %\n",
      "Epoch:70/100 AVG Training Loss:0.456 AVG Validation Loss:0.528 AVG Training Acc 80.71 % AVG Validation Acc 79.30 %\n",
      "Epoch:80/100 AVG Training Loss:0.453 AVG Validation Loss:0.530 AVG Training Acc 80.74 % AVG Validation Acc 78.76 %\n",
      "Epoch    85: reducing learning rate of group 0 to 1.0000e-05.\n",
      "Epoch:90/100 AVG Training Loss:0.451 AVG Validation Loss:0.532 AVG Training Acc 80.68 % AVG Validation Acc 79.17 %\n",
      "Epoch:100/100 AVG Training Loss:0.453 AVG Validation Loss:0.529 AVG Training Acc 80.72 % AVG Validation Acc 79.03 %\n",
      "Split 23\n"
     ]
    },
    {
     "data": {
      "application/vnd.jupyter.widget-view+json": {
       "model_id": "6bae0142e60642b39aee337df23049ee",
       "version_major": 2,
       "version_minor": 0
      },
      "text/plain": [
       "  0%|          | 0/100 [00:00<?, ?it/s]"
      ]
     },
     "metadata": {},
     "output_type": "display_data"
    },
    {
     "name": "stdout",
     "output_type": "stream",
     "text": [
      "Epoch:10/100 AVG Training Loss:0.493 AVG Validation Loss:0.496 AVG Training Acc 79.80 % AVG Validation Acc 80.11 %\n",
      "Epoch:20/100 AVG Training Loss:0.491 AVG Validation Loss:0.488 AVG Training Acc 79.68 % AVG Validation Acc 80.11 %\n",
      "Epoch    20: reducing learning rate of group 0 to 1.0000e-03.\n",
      "Epoch:30/100 AVG Training Loss:0.481 AVG Validation Loss:0.488 AVG Training Acc 80.05 % AVG Validation Acc 79.84 %\n",
      "Epoch:40/100 AVG Training Loss:0.476 AVG Validation Loss:0.494 AVG Training Acc 80.11 % AVG Validation Acc 79.30 %\n",
      "Epoch:50/100 AVG Training Loss:0.470 AVG Validation Loss:0.499 AVG Training Acc 80.26 % AVG Validation Acc 79.44 %\n",
      "Epoch    51: reducing learning rate of group 0 to 1.0000e-04.\n",
      "Epoch:60/100 AVG Training Loss:0.467 AVG Validation Loss:0.503 AVG Training Acc 80.27 % AVG Validation Acc 79.17 %\n",
      "Epoch:70/100 AVG Training Loss:0.464 AVG Validation Loss:0.505 AVG Training Acc 80.47 % AVG Validation Acc 79.17 %\n",
      "Epoch:80/100 AVG Training Loss:0.463 AVG Validation Loss:0.504 AVG Training Acc 80.54 % AVG Validation Acc 79.30 %\n",
      "Epoch    82: reducing learning rate of group 0 to 1.0000e-05.\n",
      "Epoch:90/100 AVG Training Loss:0.462 AVG Validation Loss:0.505 AVG Training Acc 80.42 % AVG Validation Acc 79.17 %\n",
      "Epoch:100/100 AVG Training Loss:0.462 AVG Validation Loss:0.506 AVG Training Acc 80.41 % AVG Validation Acc 79.30 %\n",
      "Split 24\n"
     ]
    },
    {
     "data": {
      "application/vnd.jupyter.widget-view+json": {
       "model_id": "f7b7bda0dbe4413aab63eec2feb0daba",
       "version_major": 2,
       "version_minor": 0
      },
      "text/plain": [
       "  0%|          | 0/100 [00:00<?, ?it/s]"
      ]
     },
     "metadata": {},
     "output_type": "display_data"
    },
    {
     "name": "stdout",
     "output_type": "stream",
     "text": [
      "Epoch:10/100 AVG Training Loss:0.494 AVG Validation Loss:0.499 AVG Training Acc 79.93 % AVG Validation Acc 79.30 %\n",
      "Epoch:20/100 AVG Training Loss:0.488 AVG Validation Loss:0.495 AVG Training Acc 79.95 % AVG Validation Acc 79.17 %\n",
      "Epoch:30/100 AVG Training Loss:0.486 AVG Validation Loss:0.497 AVG Training Acc 80.04 % AVG Validation Acc 79.57 %\n",
      "Epoch    39: reducing learning rate of group 0 to 1.0000e-03.\n",
      "Epoch:40/100 AVG Training Loss:0.475 AVG Validation Loss:0.505 AVG Training Acc 80.30 % AVG Validation Acc 79.17 %\n",
      "Epoch:50/100 AVG Training Loss:0.468 AVG Validation Loss:0.505 AVG Training Acc 80.26 % AVG Validation Acc 78.63 %\n",
      "Epoch:60/100 AVG Training Loss:0.464 AVG Validation Loss:0.509 AVG Training Acc 80.60 % AVG Validation Acc 78.49 %\n",
      "Epoch:70/100 AVG Training Loss:0.460 AVG Validation Loss:0.508 AVG Training Acc 80.57 % AVG Validation Acc 78.76 %\n",
      "Epoch    70: reducing learning rate of group 0 to 1.0000e-04.\n",
      "Epoch:80/100 AVG Training Loss:0.456 AVG Validation Loss:0.513 AVG Training Acc 80.92 % AVG Validation Acc 78.09 %\n",
      "Epoch:90/100 AVG Training Loss:0.456 AVG Validation Loss:0.511 AVG Training Acc 80.93 % AVG Validation Acc 78.36 %\n",
      "Epoch:100/100 AVG Training Loss:0.454 AVG Validation Loss:0.512 AVG Training Acc 80.86 % AVG Validation Acc 78.36 %\n",
      "Split 25\n"
     ]
    },
    {
     "data": {
      "application/vnd.jupyter.widget-view+json": {
       "model_id": "5768e2d5a2754554af76bf5e53ea401f",
       "version_major": 2,
       "version_minor": 0
      },
      "text/plain": [
       "  0%|          | 0/100 [00:00<?, ?it/s]"
      ]
     },
     "metadata": {},
     "output_type": "display_data"
    },
    {
     "name": "stdout",
     "output_type": "stream",
     "text": [
      "Epoch:10/100 AVG Training Loss:0.491 AVG Validation Loss:0.508 AVG Training Acc 79.89 % AVG Validation Acc 78.90 %\n",
      "Epoch:20/100 AVG Training Loss:0.487 AVG Validation Loss:0.506 AVG Training Acc 79.95 % AVG Validation Acc 78.76 %\n",
      "Epoch    23: reducing learning rate of group 0 to 1.0000e-03.\n",
      "Epoch:30/100 AVG Training Loss:0.478 AVG Validation Loss:0.506 AVG Training Acc 80.29 % AVG Validation Acc 78.76 %\n",
      "Epoch:40/100 AVG Training Loss:0.474 AVG Validation Loss:0.510 AVG Training Acc 80.51 % AVG Validation Acc 78.76 %\n",
      "Epoch:50/100 AVG Training Loss:0.472 AVG Validation Loss:0.513 AVG Training Acc 80.60 % AVG Validation Acc 78.90 %\n",
      "Epoch    54: reducing learning rate of group 0 to 1.0000e-04.\n",
      "Epoch:60/100 AVG Training Loss:0.467 AVG Validation Loss:0.518 AVG Training Acc 80.69 % AVG Validation Acc 78.49 %\n",
      "Epoch:70/100 AVG Training Loss:0.466 AVG Validation Loss:0.519 AVG Training Acc 80.63 % AVG Validation Acc 78.49 %\n",
      "Epoch:80/100 AVG Training Loss:0.466 AVG Validation Loss:0.521 AVG Training Acc 80.57 % AVG Validation Acc 78.49 %\n",
      "Epoch    85: reducing learning rate of group 0 to 1.0000e-05.\n",
      "Epoch:90/100 AVG Training Loss:0.465 AVG Validation Loss:0.522 AVG Training Acc 80.69 % AVG Validation Acc 78.49 %\n",
      "Epoch:100/100 AVG Training Loss:0.465 AVG Validation Loss:0.523 AVG Training Acc 80.60 % AVG Validation Acc 78.49 %\n",
      "Split 26\n"
     ]
    },
    {
     "data": {
      "application/vnd.jupyter.widget-view+json": {
       "model_id": "3456bf440f4d46779101860b4f1deff0",
       "version_major": 2,
       "version_minor": 0
      },
      "text/plain": [
       "  0%|          | 0/100 [00:00<?, ?it/s]"
      ]
     },
     "metadata": {},
     "output_type": "display_data"
    },
    {
     "name": "stdout",
     "output_type": "stream",
     "text": [
      "Epoch:10/100 AVG Training Loss:0.497 AVG Validation Loss:0.473 AVG Training Acc 79.68 % AVG Validation Acc 81.05 %\n",
      "Epoch:20/100 AVG Training Loss:0.494 AVG Validation Loss:0.472 AVG Training Acc 79.74 % AVG Validation Acc 81.18 %\n",
      "Epoch    29: reducing learning rate of group 0 to 1.0000e-03.\n",
      "Epoch:30/100 AVG Training Loss:0.486 AVG Validation Loss:0.472 AVG Training Acc 79.80 % AVG Validation Acc 81.05 %\n",
      "Epoch:40/100 AVG Training Loss:0.477 AVG Validation Loss:0.479 AVG Training Acc 80.05 % AVG Validation Acc 80.91 %\n",
      "Epoch:50/100 AVG Training Loss:0.472 AVG Validation Loss:0.481 AVG Training Acc 80.27 % AVG Validation Acc 80.51 %\n",
      "Epoch:60/100 AVG Training Loss:0.469 AVG Validation Loss:0.482 AVG Training Acc 80.35 % AVG Validation Acc 80.51 %\n",
      "Epoch    60: reducing learning rate of group 0 to 1.0000e-04.\n",
      "Epoch:70/100 AVG Training Loss:0.465 AVG Validation Loss:0.481 AVG Training Acc 80.51 % AVG Validation Acc 80.91 %\n",
      "Epoch:80/100 AVG Training Loss:0.464 AVG Validation Loss:0.482 AVG Training Acc 80.47 % AVG Validation Acc 80.51 %\n",
      "Epoch:90/100 AVG Training Loss:0.462 AVG Validation Loss:0.485 AVG Training Acc 80.50 % AVG Validation Acc 80.51 %\n",
      "Epoch    91: reducing learning rate of group 0 to 1.0000e-05.\n",
      "Epoch:100/100 AVG Training Loss:0.463 AVG Validation Loss:0.484 AVG Training Acc 80.53 % AVG Validation Acc 80.38 %\n",
      "Split 27\n"
     ]
    },
    {
     "data": {
      "application/vnd.jupyter.widget-view+json": {
       "model_id": "515ffd487c154db19adc2b3633fcfb82",
       "version_major": 2,
       "version_minor": 0
      },
      "text/plain": [
       "  0%|          | 0/100 [00:00<?, ?it/s]"
      ]
     },
     "metadata": {},
     "output_type": "display_data"
    },
    {
     "name": "stdout",
     "output_type": "stream",
     "text": [
      "Epoch:10/100 AVG Training Loss:0.492 AVG Validation Loss:0.519 AVG Training Acc 80.05 % AVG Validation Acc 78.06 %\n",
      "Epoch:20/100 AVG Training Loss:0.492 AVG Validation Loss:0.514 AVG Training Acc 80.02 % AVG Validation Acc 78.20 %\n",
      "Epoch:30/100 AVG Training Loss:0.484 AVG Validation Loss:0.517 AVG Training Acc 80.04 % AVG Validation Acc 78.20 %\n",
      "Epoch    34: reducing learning rate of group 0 to 1.0000e-03.\n",
      "Epoch:40/100 AVG Training Loss:0.477 AVG Validation Loss:0.520 AVG Training Acc 80.37 % AVG Validation Acc 78.06 %\n",
      "Epoch:50/100 AVG Training Loss:0.473 AVG Validation Loss:0.523 AVG Training Acc 80.46 % AVG Validation Acc 78.06 %\n",
      "Epoch:60/100 AVG Training Loss:0.467 AVG Validation Loss:0.524 AVG Training Acc 80.68 % AVG Validation Acc 78.33 %\n",
      "Epoch    65: reducing learning rate of group 0 to 1.0000e-04.\n",
      "Epoch:70/100 AVG Training Loss:0.464 AVG Validation Loss:0.524 AVG Training Acc 80.59 % AVG Validation Acc 78.33 %\n",
      "Epoch:80/100 AVG Training Loss:0.464 AVG Validation Loss:0.527 AVG Training Acc 80.70 % AVG Validation Acc 78.06 %\n",
      "Epoch:90/100 AVG Training Loss:0.463 AVG Validation Loss:0.528 AVG Training Acc 80.79 % AVG Validation Acc 78.06 %\n",
      "Epoch    96: reducing learning rate of group 0 to 1.0000e-05.\n",
      "Epoch:100/100 AVG Training Loss:0.463 AVG Validation Loss:0.532 AVG Training Acc 80.77 % AVG Validation Acc 78.06 %\n",
      "Split 28\n"
     ]
    },
    {
     "data": {
      "application/vnd.jupyter.widget-view+json": {
       "model_id": "e2f6ee3701e74bf39965e7c8b424420d",
       "version_major": 2,
       "version_minor": 0
      },
      "text/plain": [
       "  0%|          | 0/100 [00:00<?, ?it/s]"
      ]
     },
     "metadata": {},
     "output_type": "display_data"
    },
    {
     "name": "stdout",
     "output_type": "stream",
     "text": [
      "Epoch:10/100 AVG Training Loss:0.494 AVG Validation Loss:0.499 AVG Training Acc 79.96 % AVG Validation Acc 79.27 %\n",
      "Epoch:20/100 AVG Training Loss:0.490 AVG Validation Loss:0.493 AVG Training Acc 79.84 % AVG Validation Acc 79.14 %\n",
      "Epoch:30/100 AVG Training Loss:0.485 AVG Validation Loss:0.499 AVG Training Acc 79.92 % AVG Validation Acc 79.14 %\n",
      "Epoch    31: reducing learning rate of group 0 to 1.0000e-03.\n",
      "Epoch:40/100 AVG Training Loss:0.478 AVG Validation Loss:0.496 AVG Training Acc 79.98 % AVG Validation Acc 79.41 %\n",
      "Epoch:50/100 AVG Training Loss:0.472 AVG Validation Loss:0.505 AVG Training Acc 80.25 % AVG Validation Acc 79.27 %\n",
      "Epoch:60/100 AVG Training Loss:0.467 AVG Validation Loss:0.511 AVG Training Acc 80.22 % AVG Validation Acc 79.00 %\n",
      "Epoch    62: reducing learning rate of group 0 to 1.0000e-04.\n",
      "Epoch:70/100 AVG Training Loss:0.465 AVG Validation Loss:0.503 AVG Training Acc 80.40 % AVG Validation Acc 79.00 %\n",
      "Epoch:80/100 AVG Training Loss:0.464 AVG Validation Loss:0.508 AVG Training Acc 80.44 % AVG Validation Acc 78.87 %\n",
      "Epoch:90/100 AVG Training Loss:0.463 AVG Validation Loss:0.508 AVG Training Acc 80.50 % AVG Validation Acc 78.87 %\n",
      "Epoch    93: reducing learning rate of group 0 to 1.0000e-05.\n",
      "Epoch:100/100 AVG Training Loss:0.461 AVG Validation Loss:0.510 AVG Training Acc 80.46 % AVG Validation Acc 79.14 %\n",
      "Split 29\n"
     ]
    },
    {
     "data": {
      "application/vnd.jupyter.widget-view+json": {
       "model_id": "577b9c303bc24c71920212398e3dd582",
       "version_major": 2,
       "version_minor": 0
      },
      "text/plain": [
       "  0%|          | 0/100 [00:00<?, ?it/s]"
      ]
     },
     "metadata": {},
     "output_type": "display_data"
    },
    {
     "name": "stdout",
     "output_type": "stream",
     "text": [
      "Epoch:10/100 AVG Training Loss:0.495 AVG Validation Loss:0.477 AVG Training Acc 79.65 % AVG Validation Acc 81.43 %\n",
      "Epoch:20/100 AVG Training Loss:0.487 AVG Validation Loss:0.482 AVG Training Acc 79.73 % AVG Validation Acc 81.70 %\n",
      "Epoch    25: reducing learning rate of group 0 to 1.0000e-03.\n",
      "Epoch:30/100 AVG Training Loss:0.475 AVG Validation Loss:0.490 AVG Training Acc 80.26 % AVG Validation Acc 81.16 %\n",
      "Epoch:40/100 AVG Training Loss:0.464 AVG Validation Loss:0.497 AVG Training Acc 80.41 % AVG Validation Acc 81.43 %\n",
      "Epoch:50/100 AVG Training Loss:0.459 AVG Validation Loss:0.501 AVG Training Acc 80.52 % AVG Validation Acc 81.16 %\n",
      "Epoch    56: reducing learning rate of group 0 to 1.0000e-04.\n",
      "Epoch:60/100 AVG Training Loss:0.450 AVG Validation Loss:0.510 AVG Training Acc 81.02 % AVG Validation Acc 81.16 %\n",
      "Epoch:70/100 AVG Training Loss:0.445 AVG Validation Loss:0.511 AVG Training Acc 80.89 % AVG Validation Acc 80.89 %\n",
      "Epoch:80/100 AVG Training Loss:0.445 AVG Validation Loss:0.510 AVG Training Acc 81.05 % AVG Validation Acc 80.89 %\n",
      "Epoch    87: reducing learning rate of group 0 to 1.0000e-05.\n",
      "Epoch:90/100 AVG Training Loss:0.446 AVG Validation Loss:0.511 AVG Training Acc 81.10 % AVG Validation Acc 80.89 %\n",
      "Epoch:100/100 AVG Training Loss:0.445 AVG Validation Loss:0.513 AVG Training Acc 80.97 % AVG Validation Acc 80.75 %\n",
      "Split 30\n"
     ]
    },
    {
     "data": {
      "application/vnd.jupyter.widget-view+json": {
       "model_id": "fff57f62f86e4ae48693b7c9689c09ef",
       "version_major": 2,
       "version_minor": 0
      },
      "text/plain": [
       "  0%|          | 0/100 [00:00<?, ?it/s]"
      ]
     },
     "metadata": {},
     "output_type": "display_data"
    },
    {
     "name": "stdout",
     "output_type": "stream",
     "text": [
      "Epoch:10/100 AVG Training Loss:0.498 AVG Validation Loss:0.486 AVG Training Acc 79.77 % AVG Validation Acc 80.48 %\n",
      "Epoch:20/100 AVG Training Loss:0.491 AVG Validation Loss:0.480 AVG Training Acc 79.80 % AVG Validation Acc 80.62 %\n",
      "Epoch:30/100 AVG Training Loss:0.484 AVG Validation Loss:0.482 AVG Training Acc 79.75 % AVG Validation Acc 80.75 %\n",
      "Epoch    30: reducing learning rate of group 0 to 1.0000e-03.\n",
      "Epoch:40/100 AVG Training Loss:0.468 AVG Validation Loss:0.481 AVG Training Acc 79.90 % AVG Validation Acc 81.02 %\n",
      "Epoch:50/100 AVG Training Loss:0.458 AVG Validation Loss:0.490 AVG Training Acc 80.14 % AVG Validation Acc 80.75 %\n",
      "Epoch:60/100 AVG Training Loss:0.450 AVG Validation Loss:0.497 AVG Training Acc 80.49 % AVG Validation Acc 80.89 %\n",
      "Epoch    61: reducing learning rate of group 0 to 1.0000e-04.\n",
      "Epoch:70/100 AVG Training Loss:0.446 AVG Validation Loss:0.496 AVG Training Acc 80.71 % AVG Validation Acc 80.75 %\n",
      "Epoch:80/100 AVG Training Loss:0.444 AVG Validation Loss:0.497 AVG Training Acc 80.55 % AVG Validation Acc 80.89 %\n",
      "Epoch:90/100 AVG Training Loss:0.443 AVG Validation Loss:0.499 AVG Training Acc 80.71 % AVG Validation Acc 80.89 %\n",
      "Epoch    92: reducing learning rate of group 0 to 1.0000e-05.\n",
      "Epoch:100/100 AVG Training Loss:0.441 AVG Validation Loss:0.501 AVG Training Acc 80.85 % AVG Validation Acc 80.75 %\n",
      "Split 31\n"
     ]
    },
    {
     "data": {
      "application/vnd.jupyter.widget-view+json": {
       "model_id": "e6cf5e70557c449cbb2ceaea459c8213",
       "version_major": 2,
       "version_minor": 0
      },
      "text/plain": [
       "  0%|          | 0/100 [00:00<?, ?it/s]"
      ]
     },
     "metadata": {},
     "output_type": "display_data"
    },
    {
     "name": "stdout",
     "output_type": "stream",
     "text": [
      "Epoch:10/100 AVG Training Loss:0.498 AVG Validation Loss:0.491 AVG Training Acc 79.80 % AVG Validation Acc 79.97 %\n",
      "Epoch:20/100 AVG Training Loss:0.490 AVG Validation Loss:0.486 AVG Training Acc 79.86 % AVG Validation Acc 80.11 %\n",
      "Epoch:30/100 AVG Training Loss:0.489 AVG Validation Loss:0.486 AVG Training Acc 79.83 % AVG Validation Acc 79.97 %\n",
      "Epoch:40/100 AVG Training Loss:0.481 AVG Validation Loss:0.491 AVG Training Acc 79.93 % AVG Validation Acc 80.11 %\n",
      "Epoch    41: reducing learning rate of group 0 to 1.0000e-03.\n",
      "Epoch:50/100 AVG Training Loss:0.469 AVG Validation Loss:0.495 AVG Training Acc 80.57 % AVG Validation Acc 79.97 %\n",
      "Epoch:60/100 AVG Training Loss:0.464 AVG Validation Loss:0.502 AVG Training Acc 80.60 % AVG Validation Acc 79.17 %\n",
      "Epoch:70/100 AVG Training Loss:0.462 AVG Validation Loss:0.508 AVG Training Acc 80.66 % AVG Validation Acc 79.70 %\n",
      "Epoch    72: reducing learning rate of group 0 to 1.0000e-04.\n",
      "Epoch:80/100 AVG Training Loss:0.456 AVG Validation Loss:0.514 AVG Training Acc 80.98 % AVG Validation Acc 79.70 %\n",
      "Epoch:90/100 AVG Training Loss:0.454 AVG Validation Loss:0.514 AVG Training Acc 80.90 % AVG Validation Acc 79.84 %\n",
      "Epoch:100/100 AVG Training Loss:0.455 AVG Validation Loss:0.513 AVG Training Acc 80.87 % AVG Validation Acc 79.97 %\n",
      "Split 32\n"
     ]
    },
    {
     "data": {
      "application/vnd.jupyter.widget-view+json": {
       "model_id": "8c0ec82ff37342378818bcc0b6a1f9ed",
       "version_major": 2,
       "version_minor": 0
      },
      "text/plain": [
       "  0%|          | 0/100 [00:00<?, ?it/s]"
      ]
     },
     "metadata": {},
     "output_type": "display_data"
    },
    {
     "name": "stdout",
     "output_type": "stream",
     "text": [
      "Epoch:10/100 AVG Training Loss:0.493 AVG Validation Loss:0.499 AVG Training Acc 79.95 % AVG Validation Acc 79.17 %\n",
      "Epoch:20/100 AVG Training Loss:0.487 AVG Validation Loss:0.498 AVG Training Acc 79.96 % AVG Validation Acc 79.03 %\n",
      "Epoch    24: reducing learning rate of group 0 to 1.0000e-03.\n",
      "Epoch:30/100 AVG Training Loss:0.471 AVG Validation Loss:0.498 AVG Training Acc 80.22 % AVG Validation Acc 79.17 %\n",
      "Epoch:40/100 AVG Training Loss:0.466 AVG Validation Loss:0.502 AVG Training Acc 80.45 % AVG Validation Acc 78.76 %\n",
      "Epoch:50/100 AVG Training Loss:0.458 AVG Validation Loss:0.502 AVG Training Acc 80.77 % AVG Validation Acc 78.63 %\n",
      "Epoch    55: reducing learning rate of group 0 to 1.0000e-04.\n",
      "Epoch:60/100 AVG Training Loss:0.451 AVG Validation Loss:0.511 AVG Training Acc 80.95 % AVG Validation Acc 78.63 %\n",
      "Epoch:70/100 AVG Training Loss:0.450 AVG Validation Loss:0.511 AVG Training Acc 81.20 % AVG Validation Acc 78.49 %\n",
      "Epoch:80/100 AVG Training Loss:0.447 AVG Validation Loss:0.514 AVG Training Acc 81.22 % AVG Validation Acc 78.63 %\n",
      "Epoch    86: reducing learning rate of group 0 to 1.0000e-05.\n",
      "Epoch:90/100 AVG Training Loss:0.449 AVG Validation Loss:0.515 AVG Training Acc 81.20 % AVG Validation Acc 78.36 %\n",
      "Epoch:100/100 AVG Training Loss:0.448 AVG Validation Loss:0.515 AVG Training Acc 81.25 % AVG Validation Acc 78.63 %\n",
      "Split 33\n"
     ]
    },
    {
     "data": {
      "application/vnd.jupyter.widget-view+json": {
       "model_id": "f40cc8a12b8c4dc3b88ea3daf3f9ab12",
       "version_major": 2,
       "version_minor": 0
      },
      "text/plain": [
       "  0%|          | 0/100 [00:00<?, ?it/s]"
      ]
     },
     "metadata": {},
     "output_type": "display_data"
    },
    {
     "name": "stdout",
     "output_type": "stream",
     "text": [
      "Epoch:10/100 AVG Training Loss:0.496 AVG Validation Loss:0.473 AVG Training Acc 79.68 % AVG Validation Acc 81.32 %\n",
      "Epoch:20/100 AVG Training Loss:0.493 AVG Validation Loss:0.472 AVG Training Acc 79.77 % AVG Validation Acc 81.32 %\n",
      "Epoch:30/100 AVG Training Loss:0.487 AVG Validation Loss:0.479 AVG Training Acc 79.69 % AVG Validation Acc 81.32 %\n",
      "Epoch    31: reducing learning rate of group 0 to 1.0000e-03.\n",
      "Epoch:40/100 AVG Training Loss:0.473 AVG Validation Loss:0.481 AVG Training Acc 80.19 % AVG Validation Acc 80.78 %\n",
      "Epoch:50/100 AVG Training Loss:0.468 AVG Validation Loss:0.486 AVG Training Acc 80.33 % AVG Validation Acc 80.51 %\n",
      "Epoch:60/100 AVG Training Loss:0.461 AVG Validation Loss:0.492 AVG Training Acc 80.56 % AVG Validation Acc 80.24 %\n",
      "Epoch    62: reducing learning rate of group 0 to 1.0000e-04.\n",
      "Epoch:70/100 AVG Training Loss:0.459 AVG Validation Loss:0.496 AVG Training Acc 80.51 % AVG Validation Acc 80.38 %\n",
      "Epoch:80/100 AVG Training Loss:0.457 AVG Validation Loss:0.497 AVG Training Acc 80.89 % AVG Validation Acc 80.24 %\n",
      "Epoch:90/100 AVG Training Loss:0.455 AVG Validation Loss:0.497 AVG Training Acc 80.69 % AVG Validation Acc 80.51 %\n",
      "Epoch    93: reducing learning rate of group 0 to 1.0000e-05.\n",
      "Epoch:100/100 AVG Training Loss:0.454 AVG Validation Loss:0.497 AVG Training Acc 80.95 % AVG Validation Acc 80.51 %\n",
      "Split 34\n"
     ]
    },
    {
     "data": {
      "application/vnd.jupyter.widget-view+json": {
       "model_id": "91a57f6c369e4524b59a826487fb768f",
       "version_major": 2,
       "version_minor": 0
      },
      "text/plain": [
       "  0%|          | 0/100 [00:00<?, ?it/s]"
      ]
     },
     "metadata": {},
     "output_type": "display_data"
    },
    {
     "name": "stdout",
     "output_type": "stream",
     "text": [
      "Epoch:10/100 AVG Training Loss:0.494 AVG Validation Loss:0.509 AVG Training Acc 79.95 % AVG Validation Acc 79.17 %\n",
      "Epoch:20/100 AVG Training Loss:0.488 AVG Validation Loss:0.493 AVG Training Acc 79.92 % AVG Validation Acc 79.17 %\n",
      "Epoch:30/100 AVG Training Loss:0.482 AVG Validation Loss:0.495 AVG Training Acc 80.11 % AVG Validation Acc 79.17 %\n",
      "Epoch    39: reducing learning rate of group 0 to 1.0000e-03.\n",
      "Epoch:40/100 AVG Training Loss:0.474 AVG Validation Loss:0.495 AVG Training Acc 80.26 % AVG Validation Acc 79.30 %\n",
      "Epoch:50/100 AVG Training Loss:0.463 AVG Validation Loss:0.502 AVG Training Acc 80.63 % AVG Validation Acc 78.90 %\n",
      "Epoch:60/100 AVG Training Loss:0.458 AVG Validation Loss:0.504 AVG Training Acc 80.87 % AVG Validation Acc 78.49 %\n",
      "Epoch:70/100 AVG Training Loss:0.454 AVG Validation Loss:0.507 AVG Training Acc 80.98 % AVG Validation Acc 78.63 %\n",
      "Epoch    70: reducing learning rate of group 0 to 1.0000e-04.\n",
      "Epoch:80/100 AVG Training Loss:0.451 AVG Validation Loss:0.509 AVG Training Acc 81.14 % AVG Validation Acc 78.76 %\n",
      "Epoch:90/100 AVG Training Loss:0.447 AVG Validation Loss:0.514 AVG Training Acc 81.10 % AVG Validation Acc 78.36 %\n",
      "Epoch:100/100 AVG Training Loss:0.447 AVG Validation Loss:0.511 AVG Training Acc 81.13 % AVG Validation Acc 78.63 %\n",
      "Split 35\n"
     ]
    },
    {
     "data": {
      "application/vnd.jupyter.widget-view+json": {
       "model_id": "7396464a09114e798fcb59d06997f3d2",
       "version_major": 2,
       "version_minor": 0
      },
      "text/plain": [
       "  0%|          | 0/100 [00:00<?, ?it/s]"
      ]
     },
     "metadata": {},
     "output_type": "display_data"
    },
    {
     "name": "stdout",
     "output_type": "stream",
     "text": [
      "Epoch:10/100 AVG Training Loss:0.495 AVG Validation Loss:0.492 AVG Training Acc 79.83 % AVG Validation Acc 80.24 %\n",
      "Epoch:20/100 AVG Training Loss:0.488 AVG Validation Loss:0.485 AVG Training Acc 79.93 % AVG Validation Acc 80.24 %\n",
      "Epoch:30/100 AVG Training Loss:0.484 AVG Validation Loss:0.495 AVG Training Acc 79.83 % AVG Validation Acc 79.70 %\n",
      "Epoch    31: reducing learning rate of group 0 to 1.0000e-03.\n",
      "Epoch:40/100 AVG Training Loss:0.468 AVG Validation Loss:0.503 AVG Training Acc 80.35 % AVG Validation Acc 79.57 %\n",
      "Epoch:50/100 AVG Training Loss:0.461 AVG Validation Loss:0.505 AVG Training Acc 80.53 % AVG Validation Acc 79.70 %\n",
      "Epoch:60/100 AVG Training Loss:0.453 AVG Validation Loss:0.507 AVG Training Acc 80.77 % AVG Validation Acc 79.84 %\n",
      "Epoch    62: reducing learning rate of group 0 to 1.0000e-04.\n",
      "Epoch:70/100 AVG Training Loss:0.449 AVG Validation Loss:0.509 AVG Training Acc 80.95 % AVG Validation Acc 79.84 %\n",
      "Epoch:80/100 AVG Training Loss:0.448 AVG Validation Loss:0.513 AVG Training Acc 80.86 % AVG Validation Acc 79.70 %\n",
      "Epoch:90/100 AVG Training Loss:0.448 AVG Validation Loss:0.512 AVG Training Acc 80.86 % AVG Validation Acc 79.70 %\n",
      "Epoch    93: reducing learning rate of group 0 to 1.0000e-05.\n",
      "Epoch:100/100 AVG Training Loss:0.445 AVG Validation Loss:0.513 AVG Training Acc 81.02 % AVG Validation Acc 79.84 %\n",
      "Split 36\n"
     ]
    },
    {
     "data": {
      "application/vnd.jupyter.widget-view+json": {
       "model_id": "82db8b518f1344c7825eda4b8796872f",
       "version_major": 2,
       "version_minor": 0
      },
      "text/plain": [
       "  0%|          | 0/100 [00:00<?, ?it/s]"
      ]
     },
     "metadata": {},
     "output_type": "display_data"
    },
    {
     "name": "stdout",
     "output_type": "stream",
     "text": [
      "Epoch:10/100 AVG Training Loss:0.495 AVG Validation Loss:0.483 AVG Training Acc 79.80 % AVG Validation Acc 80.38 %\n",
      "Epoch:20/100 AVG Training Loss:0.490 AVG Validation Loss:0.483 AVG Training Acc 79.69 % AVG Validation Acc 80.65 %\n",
      "Epoch:30/100 AVG Training Loss:0.485 AVG Validation Loss:0.486 AVG Training Acc 79.83 % AVG Validation Acc 80.65 %\n",
      "Epoch:40/100 AVG Training Loss:0.480 AVG Validation Loss:0.486 AVG Training Acc 79.92 % AVG Validation Acc 80.65 %\n",
      "Epoch    48: reducing learning rate of group 0 to 1.0000e-03.\n",
      "Epoch:50/100 AVG Training Loss:0.457 AVG Validation Loss:0.515 AVG Training Acc 80.60 % AVG Validation Acc 80.11 %\n",
      "Epoch:60/100 AVG Training Loss:0.446 AVG Validation Loss:0.553 AVG Training Acc 80.93 % AVG Validation Acc 79.44 %\n",
      "Epoch:70/100 AVG Training Loss:0.439 AVG Validation Loss:0.560 AVG Training Acc 81.29 % AVG Validation Acc 80.11 %\n",
      "Epoch    79: reducing learning rate of group 0 to 1.0000e-04.\n",
      "Epoch:80/100 AVG Training Loss:0.431 AVG Validation Loss:0.571 AVG Training Acc 81.81 % AVG Validation Acc 79.97 %\n",
      "Epoch:90/100 AVG Training Loss:0.430 AVG Validation Loss:0.575 AVG Training Acc 81.60 % AVG Validation Acc 79.30 %\n",
      "Epoch:100/100 AVG Training Loss:0.428 AVG Validation Loss:0.572 AVG Training Acc 81.83 % AVG Validation Acc 79.57 %\n",
      "Split 37\n"
     ]
    },
    {
     "data": {
      "application/vnd.jupyter.widget-view+json": {
       "model_id": "569e4126e76b477aae945027171e973d",
       "version_major": 2,
       "version_minor": 0
      },
      "text/plain": [
       "  0%|          | 0/100 [00:00<?, ?it/s]"
      ]
     },
     "metadata": {},
     "output_type": "display_data"
    },
    {
     "name": "stdout",
     "output_type": "stream",
     "text": [
      "Epoch:10/100 AVG Training Loss:0.501 AVG Validation Loss:0.512 AVG Training Acc 79.98 % AVG Validation Acc 78.87 %\n",
      "Epoch    18: reducing learning rate of group 0 to 1.0000e-03.\n",
      "Epoch:20/100 AVG Training Loss:0.490 AVG Validation Loss:0.488 AVG Training Acc 79.96 % AVG Validation Acc 78.87 %\n",
      "Epoch:30/100 AVG Training Loss:0.486 AVG Validation Loss:0.485 AVG Training Acc 80.10 % AVG Validation Acc 79.00 %\n",
      "Epoch:40/100 AVG Training Loss:0.486 AVG Validation Loss:0.487 AVG Training Acc 80.13 % AVG Validation Acc 78.73 %\n",
      "Epoch    49: reducing learning rate of group 0 to 1.0000e-04.\n",
      "Epoch:50/100 AVG Training Loss:0.483 AVG Validation Loss:0.489 AVG Training Acc 80.16 % AVG Validation Acc 78.73 %\n",
      "Epoch:60/100 AVG Training Loss:0.482 AVG Validation Loss:0.489 AVG Training Acc 80.28 % AVG Validation Acc 78.87 %\n",
      "Epoch:70/100 AVG Training Loss:0.482 AVG Validation Loss:0.489 AVG Training Acc 80.31 % AVG Validation Acc 78.87 %\n",
      "Epoch:80/100 AVG Training Loss:0.482 AVG Validation Loss:0.489 AVG Training Acc 80.31 % AVG Validation Acc 78.87 %\n",
      "Epoch    80: reducing learning rate of group 0 to 1.0000e-05.\n",
      "Epoch:90/100 AVG Training Loss:0.482 AVG Validation Loss:0.489 AVG Training Acc 80.35 % AVG Validation Acc 78.87 %\n",
      "Epoch:100/100 AVG Training Loss:0.482 AVG Validation Loss:0.489 AVG Training Acc 80.37 % AVG Validation Acc 78.87 %\n",
      "Split 38\n"
     ]
    },
    {
     "data": {
      "application/vnd.jupyter.widget-view+json": {
       "model_id": "4454732db2b3418d919958332333d715",
       "version_major": 2,
       "version_minor": 0
      },
      "text/plain": [
       "  0%|          | 0/100 [00:00<?, ?it/s]"
      ]
     },
     "metadata": {},
     "output_type": "display_data"
    },
    {
     "name": "stdout",
     "output_type": "stream",
     "text": [
      "Epoch:10/100 AVG Training Loss:0.492 AVG Validation Loss:0.515 AVG Training Acc 79.96 % AVG Validation Acc 78.60 %\n",
      "Epoch:20/100 AVG Training Loss:0.486 AVG Validation Loss:0.517 AVG Training Acc 80.02 % AVG Validation Acc 78.60 %\n",
      "Epoch    20: reducing learning rate of group 0 to 1.0000e-03.\n",
      "Epoch:30/100 AVG Training Loss:0.475 AVG Validation Loss:0.527 AVG Training Acc 80.23 % AVG Validation Acc 78.47 %\n",
      "Epoch:40/100 AVG Training Loss:0.471 AVG Validation Loss:0.531 AVG Training Acc 80.38 % AVG Validation Acc 78.47 %\n",
      "Epoch:50/100 AVG Training Loss:0.469 AVG Validation Loss:0.532 AVG Training Acc 80.38 % AVG Validation Acc 78.33 %\n",
      "Epoch    51: reducing learning rate of group 0 to 1.0000e-04.\n",
      "Epoch:60/100 AVG Training Loss:0.466 AVG Validation Loss:0.533 AVG Training Acc 80.61 % AVG Validation Acc 78.47 %\n",
      "Epoch:70/100 AVG Training Loss:0.467 AVG Validation Loss:0.534 AVG Training Acc 80.50 % AVG Validation Acc 78.47 %\n",
      "Epoch:80/100 AVG Training Loss:0.463 AVG Validation Loss:0.536 AVG Training Acc 80.53 % AVG Validation Acc 78.47 %\n",
      "Epoch    82: reducing learning rate of group 0 to 1.0000e-05.\n",
      "Epoch:90/100 AVG Training Loss:0.464 AVG Validation Loss:0.536 AVG Training Acc 80.67 % AVG Validation Acc 78.47 %\n",
      "Epoch:100/100 AVG Training Loss:0.465 AVG Validation Loss:0.536 AVG Training Acc 80.50 % AVG Validation Acc 78.47 %\n",
      "Split 39\n"
     ]
    },
    {
     "data": {
      "application/vnd.jupyter.widget-view+json": {
       "model_id": "59b6c8e989454d5ead2fb32dc9c35808",
       "version_major": 2,
       "version_minor": 0
      },
      "text/plain": [
       "  0%|          | 0/100 [00:00<?, ?it/s]"
      ]
     },
     "metadata": {},
     "output_type": "display_data"
    },
    {
     "name": "stdout",
     "output_type": "stream",
     "text": [
      "Epoch:10/100 AVG Training Loss:0.497 AVG Validation Loss:0.483 AVG Training Acc 79.73 % AVG Validation Acc 81.16 %\n",
      "Epoch    18: reducing learning rate of group 0 to 1.0000e-03.\n",
      "Epoch:20/100 AVG Training Loss:0.486 AVG Validation Loss:0.481 AVG Training Acc 79.75 % AVG Validation Acc 81.16 %\n",
      "Epoch:30/100 AVG Training Loss:0.481 AVG Validation Loss:0.485 AVG Training Acc 79.84 % AVG Validation Acc 80.75 %\n",
      "Epoch:40/100 AVG Training Loss:0.476 AVG Validation Loss:0.490 AVG Training Acc 79.96 % AVG Validation Acc 80.89 %\n",
      "Epoch    49: reducing learning rate of group 0 to 1.0000e-04.\n",
      "Epoch:50/100 AVG Training Loss:0.466 AVG Validation Loss:0.507 AVG Training Acc 80.34 % AVG Validation Acc 80.48 %\n",
      "Epoch:60/100 AVG Training Loss:0.462 AVG Validation Loss:0.507 AVG Training Acc 80.29 % AVG Validation Acc 80.48 %\n",
      "Epoch:70/100 AVG Training Loss:0.461 AVG Validation Loss:0.510 AVG Training Acc 80.46 % AVG Validation Acc 80.35 %\n",
      "Epoch:80/100 AVG Training Loss:0.461 AVG Validation Loss:0.508 AVG Training Acc 80.49 % AVG Validation Acc 80.35 %\n",
      "Epoch    80: reducing learning rate of group 0 to 1.0000e-05.\n",
      "Epoch:90/100 AVG Training Loss:0.459 AVG Validation Loss:0.510 AVG Training Acc 80.55 % AVG Validation Acc 80.22 %\n",
      "Epoch:100/100 AVG Training Loss:0.459 AVG Validation Loss:0.510 AVG Training Acc 80.28 % AVG Validation Acc 80.22 %\n",
      "Split 40\n"
     ]
    },
    {
     "data": {
      "application/vnd.jupyter.widget-view+json": {
       "model_id": "005b941c36f041d7af6baf700620de2c",
       "version_major": 2,
       "version_minor": 0
      },
      "text/plain": [
       "  0%|          | 0/100 [00:00<?, ?it/s]"
      ]
     },
     "metadata": {},
     "output_type": "display_data"
    },
    {
     "name": "stdout",
     "output_type": "stream",
     "text": [
      "Epoch:10/100 AVG Training Loss:0.492 AVG Validation Loss:0.501 AVG Training Acc 79.87 % AVG Validation Acc 79.68 %\n",
      "Epoch:20/100 AVG Training Loss:0.484 AVG Validation Loss:0.505 AVG Training Acc 79.87 % AVG Validation Acc 79.41 %\n",
      "Epoch:30/100 AVG Training Loss:0.482 AVG Validation Loss:0.520 AVG Training Acc 79.98 % AVG Validation Acc 79.41 %\n",
      "Epoch    30: reducing learning rate of group 0 to 1.0000e-03.\n",
      "Epoch:40/100 AVG Training Loss:0.465 AVG Validation Loss:0.513 AVG Training Acc 80.43 % AVG Validation Acc 78.33 %\n",
      "Epoch:50/100 AVG Training Loss:0.456 AVG Validation Loss:0.521 AVG Training Acc 80.64 % AVG Validation Acc 78.60 %\n",
      "Epoch:60/100 AVG Training Loss:0.450 AVG Validation Loss:0.530 AVG Training Acc 80.79 % AVG Validation Acc 78.60 %\n",
      "Epoch    61: reducing learning rate of group 0 to 1.0000e-04.\n",
      "Epoch:70/100 AVG Training Loss:0.446 AVG Validation Loss:0.533 AVG Training Acc 81.22 % AVG Validation Acc 78.87 %\n",
      "Epoch:80/100 AVG Training Loss:0.443 AVG Validation Loss:0.534 AVG Training Acc 81.41 % AVG Validation Acc 79.00 %\n",
      "Epoch:90/100 AVG Training Loss:0.441 AVG Validation Loss:0.538 AVG Training Acc 81.41 % AVG Validation Acc 78.87 %\n",
      "Epoch    92: reducing learning rate of group 0 to 1.0000e-05.\n",
      "Epoch:100/100 AVG Training Loss:0.441 AVG Validation Loss:0.534 AVG Training Acc 81.26 % AVG Validation Acc 78.73 %\n",
      "Split 41\n"
     ]
    },
    {
     "data": {
      "application/vnd.jupyter.widget-view+json": {
       "model_id": "7552c3f695444c83baea12c2bc6e44d3",
       "version_major": 2,
       "version_minor": 0
      },
      "text/plain": [
       "  0%|          | 0/100 [00:00<?, ?it/s]"
      ]
     },
     "metadata": {},
     "output_type": "display_data"
    },
    {
     "name": "stdout",
     "output_type": "stream",
     "text": [
      "Epoch:10/100 AVG Training Loss:0.494 AVG Validation Loss:0.481 AVG Training Acc 79.78 % AVG Validation Acc 80.51 %\n",
      "Epoch    17: reducing learning rate of group 0 to 1.0000e-03.\n",
      "Epoch:20/100 AVG Training Loss:0.484 AVG Validation Loss:0.481 AVG Training Acc 79.86 % AVG Validation Acc 80.51 %\n",
      "Epoch:30/100 AVG Training Loss:0.477 AVG Validation Loss:0.483 AVG Training Acc 79.90 % AVG Validation Acc 80.51 %\n",
      "Epoch:40/100 AVG Training Loss:0.472 AVG Validation Loss:0.487 AVG Training Acc 80.11 % AVG Validation Acc 80.38 %\n",
      "Epoch    48: reducing learning rate of group 0 to 1.0000e-04.\n",
      "Epoch:50/100 AVG Training Loss:0.459 AVG Validation Loss:0.495 AVG Training Acc 80.38 % AVG Validation Acc 79.70 %\n",
      "Epoch:60/100 AVG Training Loss:0.456 AVG Validation Loss:0.494 AVG Training Acc 80.60 % AVG Validation Acc 79.17 %\n",
      "Epoch:70/100 AVG Training Loss:0.455 AVG Validation Loss:0.495 AVG Training Acc 80.59 % AVG Validation Acc 79.44 %\n",
      "Epoch    79: reducing learning rate of group 0 to 1.0000e-05.\n",
      "Epoch:80/100 AVG Training Loss:0.455 AVG Validation Loss:0.496 AVG Training Acc 80.62 % AVG Validation Acc 79.57 %\n",
      "Epoch:90/100 AVG Training Loss:0.453 AVG Validation Loss:0.499 AVG Training Acc 80.53 % AVG Validation Acc 79.57 %\n",
      "Epoch:100/100 AVG Training Loss:0.454 AVG Validation Loss:0.495 AVG Training Acc 80.44 % AVG Validation Acc 79.44 %\n",
      "Split 42\n"
     ]
    },
    {
     "data": {
      "application/vnd.jupyter.widget-view+json": {
       "model_id": "5202f0dd6e3549838066c33e8c44ba78",
       "version_major": 2,
       "version_minor": 0
      },
      "text/plain": [
       "  0%|          | 0/100 [00:00<?, ?it/s]"
      ]
     },
     "metadata": {},
     "output_type": "display_data"
    },
    {
     "name": "stdout",
     "output_type": "stream",
     "text": [
      "Epoch:10/100 AVG Training Loss:0.491 AVG Validation Loss:0.508 AVG Training Acc 79.98 % AVG Validation Acc 78.63 %\n",
      "Epoch:20/100 AVG Training Loss:0.489 AVG Validation Loss:0.508 AVG Training Acc 80.07 % AVG Validation Acc 78.76 %\n",
      "Epoch    29: reducing learning rate of group 0 to 1.0000e-03.\n",
      "Epoch:30/100 AVG Training Loss:0.476 AVG Validation Loss:0.514 AVG Training Acc 80.26 % AVG Validation Acc 78.49 %\n",
      "Epoch:40/100 AVG Training Loss:0.470 AVG Validation Loss:0.525 AVG Training Acc 80.54 % AVG Validation Acc 78.23 %\n",
      "Epoch:50/100 AVG Training Loss:0.464 AVG Validation Loss:0.528 AVG Training Acc 80.69 % AVG Validation Acc 77.82 %\n",
      "Epoch:60/100 AVG Training Loss:0.456 AVG Validation Loss:0.536 AVG Training Acc 80.98 % AVG Validation Acc 77.82 %\n",
      "Epoch    60: reducing learning rate of group 0 to 1.0000e-04.\n",
      "Epoch:70/100 AVG Training Loss:0.452 AVG Validation Loss:0.540 AVG Training Acc 80.98 % AVG Validation Acc 77.69 %\n",
      "Epoch:80/100 AVG Training Loss:0.451 AVG Validation Loss:0.539 AVG Training Acc 80.99 % AVG Validation Acc 77.69 %\n",
      "Epoch:90/100 AVG Training Loss:0.452 AVG Validation Loss:0.540 AVG Training Acc 81.16 % AVG Validation Acc 77.82 %\n",
      "Epoch    91: reducing learning rate of group 0 to 1.0000e-05.\n",
      "Epoch:100/100 AVG Training Loss:0.451 AVG Validation Loss:0.541 AVG Training Acc 81.10 % AVG Validation Acc 77.96 %\n",
      "Split 43\n"
     ]
    },
    {
     "data": {
      "application/vnd.jupyter.widget-view+json": {
       "model_id": "f44702f0332d47f180d245affe34a6a3",
       "version_major": 2,
       "version_minor": 0
      },
      "text/plain": [
       "  0%|          | 0/100 [00:00<?, ?it/s]"
      ]
     },
     "metadata": {},
     "output_type": "display_data"
    },
    {
     "name": "stdout",
     "output_type": "stream",
     "text": [
      "Epoch:10/100 AVG Training Loss:0.493 AVG Validation Loss:0.509 AVG Training Acc 79.99 % AVG Validation Acc 79.17 %\n",
      "Epoch:20/100 AVG Training Loss:0.489 AVG Validation Loss:0.501 AVG Training Acc 79.86 % AVG Validation Acc 79.17 %\n",
      "Epoch:30/100 AVG Training Loss:0.497 AVG Validation Loss:0.510 AVG Training Acc 79.92 % AVG Validation Acc 79.57 %\n",
      "Epoch    36: reducing learning rate of group 0 to 1.0000e-03.\n",
      "Epoch:40/100 AVG Training Loss:0.486 AVG Validation Loss:0.509 AVG Training Acc 80.11 % AVG Validation Acc 79.44 %\n",
      "Epoch:50/100 AVG Training Loss:0.481 AVG Validation Loss:0.515 AVG Training Acc 80.23 % AVG Validation Acc 78.76 %\n",
      "Epoch:60/100 AVG Training Loss:0.473 AVG Validation Loss:0.521 AVG Training Acc 80.44 % AVG Validation Acc 78.76 %\n",
      "Epoch    67: reducing learning rate of group 0 to 1.0000e-04.\n",
      "Epoch:70/100 AVG Training Loss:0.473 AVG Validation Loss:0.525 AVG Training Acc 80.45 % AVG Validation Acc 78.90 %\n",
      "Epoch:80/100 AVG Training Loss:0.473 AVG Validation Loss:0.526 AVG Training Acc 80.33 % AVG Validation Acc 78.76 %\n",
      "Epoch:90/100 AVG Training Loss:0.468 AVG Validation Loss:0.525 AVG Training Acc 80.39 % AVG Validation Acc 78.76 %\n",
      "Epoch    98: reducing learning rate of group 0 to 1.0000e-05.\n",
      "Epoch:100/100 AVG Training Loss:0.471 AVG Validation Loss:0.525 AVG Training Acc 80.62 % AVG Validation Acc 78.76 %\n",
      "Split 44\n"
     ]
    },
    {
     "data": {
      "application/vnd.jupyter.widget-view+json": {
       "model_id": "e4084d630ea04c71904af090a80549a2",
       "version_major": 2,
       "version_minor": 0
      },
      "text/plain": [
       "  0%|          | 0/100 [00:00<?, ?it/s]"
      ]
     },
     "metadata": {},
     "output_type": "display_data"
    },
    {
     "name": "stdout",
     "output_type": "stream",
     "text": [
      "Epoch:10/100 AVG Training Loss:0.495 AVG Validation Loss:0.484 AVG Training Acc 79.68 % AVG Validation Acc 80.65 %\n",
      "Epoch:20/100 AVG Training Loss:0.492 AVG Validation Loss:0.480 AVG Training Acc 79.80 % AVG Validation Acc 80.65 %\n",
      "Epoch:30/100 AVG Training Loss:0.485 AVG Validation Loss:0.482 AVG Training Acc 79.65 % AVG Validation Acc 80.38 %\n",
      "Epoch    36: reducing learning rate of group 0 to 1.0000e-03.\n",
      "Epoch:40/100 AVG Training Loss:0.466 AVG Validation Loss:0.493 AVG Training Acc 80.26 % AVG Validation Acc 80.24 %\n",
      "Epoch:50/100 AVG Training Loss:0.456 AVG Validation Loss:0.504 AVG Training Acc 80.62 % AVG Validation Acc 79.70 %\n",
      "Epoch:60/100 AVG Training Loss:0.449 AVG Validation Loss:0.507 AVG Training Acc 80.80 % AVG Validation Acc 79.57 %\n",
      "Epoch    67: reducing learning rate of group 0 to 1.0000e-04.\n",
      "Epoch:70/100 AVG Training Loss:0.443 AVG Validation Loss:0.513 AVG Training Acc 81.05 % AVG Validation Acc 79.70 %\n",
      "Epoch:80/100 AVG Training Loss:0.440 AVG Validation Loss:0.518 AVG Training Acc 81.34 % AVG Validation Acc 79.84 %\n",
      "Epoch:90/100 AVG Training Loss:0.437 AVG Validation Loss:0.520 AVG Training Acc 81.20 % AVG Validation Acc 80.11 %\n",
      "Epoch    98: reducing learning rate of group 0 to 1.0000e-05.\n",
      "Epoch:100/100 AVG Training Loss:0.439 AVG Validation Loss:0.521 AVG Training Acc 81.26 % AVG Validation Acc 79.97 %\n",
      "Split 45\n"
     ]
    },
    {
     "data": {
      "application/vnd.jupyter.widget-view+json": {
       "model_id": "d7aae4718d6f4893aa3b0856b117dff6",
       "version_major": 2,
       "version_minor": 0
      },
      "text/plain": [
       "  0%|          | 0/100 [00:00<?, ?it/s]"
      ]
     },
     "metadata": {},
     "output_type": "display_data"
    },
    {
     "name": "stdout",
     "output_type": "stream",
     "text": [
      "Epoch:10/100 AVG Training Loss:0.499 AVG Validation Loss:0.503 AVG Training Acc 79.92 % AVG Validation Acc 79.57 %\n",
      "Epoch:20/100 AVG Training Loss:0.493 AVG Validation Loss:0.499 AVG Training Acc 79.81 % AVG Validation Acc 79.57 %\n",
      "Epoch:30/100 AVG Training Loss:0.485 AVG Validation Loss:0.499 AVG Training Acc 79.83 % AVG Validation Acc 79.44 %\n",
      "Epoch    34: reducing learning rate of group 0 to 1.0000e-03.\n",
      "Epoch:40/100 AVG Training Loss:0.474 AVG Validation Loss:0.499 AVG Training Acc 80.17 % AVG Validation Acc 79.17 %\n",
      "Epoch:50/100 AVG Training Loss:0.466 AVG Validation Loss:0.499 AVG Training Acc 80.32 % AVG Validation Acc 79.30 %\n",
      "Epoch:60/100 AVG Training Loss:0.463 AVG Validation Loss:0.501 AVG Training Acc 80.36 % AVG Validation Acc 79.30 %\n",
      "Epoch    65: reducing learning rate of group 0 to 1.0000e-04.\n",
      "Epoch:70/100 AVG Training Loss:0.453 AVG Validation Loss:0.503 AVG Training Acc 80.87 % AVG Validation Acc 79.30 %\n",
      "Epoch:80/100 AVG Training Loss:0.453 AVG Validation Loss:0.504 AVG Training Acc 80.87 % AVG Validation Acc 79.44 %\n",
      "Epoch:90/100 AVG Training Loss:0.451 AVG Validation Loss:0.500 AVG Training Acc 81.02 % AVG Validation Acc 79.84 %\n",
      "Epoch    96: reducing learning rate of group 0 to 1.0000e-05.\n",
      "Epoch:100/100 AVG Training Loss:0.452 AVG Validation Loss:0.503 AVG Training Acc 80.98 % AVG Validation Acc 79.84 %\n",
      "Split 46\n"
     ]
    },
    {
     "data": {
      "application/vnd.jupyter.widget-view+json": {
       "model_id": "2b5a3faa86fd4cf3a881d5a3cee80293",
       "version_major": 2,
       "version_minor": 0
      },
      "text/plain": [
       "  0%|          | 0/100 [00:00<?, ?it/s]"
      ]
     },
     "metadata": {},
     "output_type": "display_data"
    },
    {
     "name": "stdout",
     "output_type": "stream",
     "text": [
      "Epoch:10/100 AVG Training Loss:0.497 AVG Validation Loss:0.498 AVG Training Acc 79.89 % AVG Validation Acc 79.70 %\n",
      "Epoch:20/100 AVG Training Loss:0.491 AVG Validation Loss:0.489 AVG Training Acc 79.90 % AVG Validation Acc 79.70 %\n",
      "Epoch    27: reducing learning rate of group 0 to 1.0000e-03.\n",
      "Epoch:30/100 AVG Training Loss:0.481 AVG Validation Loss:0.487 AVG Training Acc 80.01 % AVG Validation Acc 79.57 %\n",
      "Epoch:40/100 AVG Training Loss:0.475 AVG Validation Loss:0.488 AVG Training Acc 80.22 % AVG Validation Acc 79.57 %\n",
      "Epoch:50/100 AVG Training Loss:0.471 AVG Validation Loss:0.491 AVG Training Acc 80.36 % AVG Validation Acc 79.57 %\n",
      "Epoch    58: reducing learning rate of group 0 to 1.0000e-04.\n",
      "Epoch:60/100 AVG Training Loss:0.467 AVG Validation Loss:0.490 AVG Training Acc 80.38 % AVG Validation Acc 79.44 %\n",
      "Epoch:70/100 AVG Training Loss:0.467 AVG Validation Loss:0.493 AVG Training Acc 80.51 % AVG Validation Acc 79.57 %\n",
      "Epoch:80/100 AVG Training Loss:0.467 AVG Validation Loss:0.494 AVG Training Acc 80.39 % AVG Validation Acc 79.70 %\n",
      "Epoch    89: reducing learning rate of group 0 to 1.0000e-05.\n",
      "Epoch:90/100 AVG Training Loss:0.464 AVG Validation Loss:0.495 AVG Training Acc 80.51 % AVG Validation Acc 79.70 %\n",
      "Epoch:100/100 AVG Training Loss:0.465 AVG Validation Loss:0.496 AVG Training Acc 80.47 % AVG Validation Acc 79.70 %\n",
      "Split 47\n"
     ]
    },
    {
     "data": {
      "application/vnd.jupyter.widget-view+json": {
       "model_id": "f9ef2e0a078e494fa5ff3071501dc8c1",
       "version_major": 2,
       "version_minor": 0
      },
      "text/plain": [
       "  0%|          | 0/100 [00:00<?, ?it/s]"
      ]
     },
     "metadata": {},
     "output_type": "display_data"
    },
    {
     "name": "stdout",
     "output_type": "stream",
     "text": [
      "Epoch:10/100 AVG Training Loss:0.490 AVG Validation Loss:0.505 AVG Training Acc 79.93 % AVG Validation Acc 79.14 %\n",
      "Epoch    16: reducing learning rate of group 0 to 1.0000e-03.\n",
      "Epoch:20/100 AVG Training Loss:0.483 AVG Validation Loss:0.502 AVG Training Acc 80.01 % AVG Validation Acc 79.00 %\n",
      "Epoch:30/100 AVG Training Loss:0.479 AVG Validation Loss:0.504 AVG Training Acc 80.07 % AVG Validation Acc 79.00 %\n",
      "Epoch:40/100 AVG Training Loss:0.475 AVG Validation Loss:0.504 AVG Training Acc 80.25 % AVG Validation Acc 79.14 %\n",
      "Epoch    47: reducing learning rate of group 0 to 1.0000e-04.\n",
      "Epoch:50/100 AVG Training Loss:0.470 AVG Validation Loss:0.509 AVG Training Acc 80.43 % AVG Validation Acc 78.87 %\n",
      "Epoch:60/100 AVG Training Loss:0.468 AVG Validation Loss:0.511 AVG Training Acc 80.47 % AVG Validation Acc 78.73 %\n",
      "Epoch:70/100 AVG Training Loss:0.469 AVG Validation Loss:0.511 AVG Training Acc 80.34 % AVG Validation Acc 78.73 %\n",
      "Epoch    78: reducing learning rate of group 0 to 1.0000e-05.\n",
      "Epoch:80/100 AVG Training Loss:0.465 AVG Validation Loss:0.512 AVG Training Acc 80.55 % AVG Validation Acc 78.73 %\n",
      "Epoch:90/100 AVG Training Loss:0.467 AVG Validation Loss:0.512 AVG Training Acc 80.53 % AVG Validation Acc 78.73 %\n",
      "Epoch:100/100 AVG Training Loss:0.465 AVG Validation Loss:0.513 AVG Training Acc 80.50 % AVG Validation Acc 78.73 %\n",
      "Split 48\n"
     ]
    },
    {
     "data": {
      "application/vnd.jupyter.widget-view+json": {
       "model_id": "ab74937f44bc44b0bec5683989572423",
       "version_major": 2,
       "version_minor": 0
      },
      "text/plain": [
       "  0%|          | 0/100 [00:00<?, ?it/s]"
      ]
     },
     "metadata": {},
     "output_type": "display_data"
    },
    {
     "name": "stdout",
     "output_type": "stream",
     "text": [
      "Epoch:10/100 AVG Training Loss:0.495 AVG Validation Loss:0.506 AVG Training Acc 79.99 % AVG Validation Acc 78.87 %\n",
      "Epoch:20/100 AVG Training Loss:0.491 AVG Validation Loss:0.499 AVG Training Acc 80.05 % AVG Validation Acc 78.87 %\n",
      "Epoch:30/100 AVG Training Loss:0.489 AVG Validation Loss:0.500 AVG Training Acc 80.05 % AVG Validation Acc 78.87 %\n",
      "Epoch:40/100 AVG Training Loss:0.481 AVG Validation Loss:0.496 AVG Training Acc 80.07 % AVG Validation Acc 79.14 %\n",
      "Epoch    40: reducing learning rate of group 0 to 1.0000e-03.\n",
      "Epoch:50/100 AVG Training Loss:0.464 AVG Validation Loss:0.501 AVG Training Acc 80.58 % AVG Validation Acc 78.87 %\n",
      "Epoch:60/100 AVG Training Loss:0.458 AVG Validation Loss:0.506 AVG Training Acc 80.65 % AVG Validation Acc 78.73 %\n",
      "Epoch:70/100 AVG Training Loss:0.454 AVG Validation Loss:0.509 AVG Training Acc 80.79 % AVG Validation Acc 78.06 %\n",
      "Epoch    71: reducing learning rate of group 0 to 1.0000e-04.\n",
      "Epoch:80/100 AVG Training Loss:0.448 AVG Validation Loss:0.510 AVG Training Acc 80.77 % AVG Validation Acc 78.20 %\n",
      "Epoch:90/100 AVG Training Loss:0.449 AVG Validation Loss:0.513 AVG Training Acc 80.77 % AVG Validation Acc 78.20 %\n",
      "Epoch:100/100 AVG Training Loss:0.450 AVG Validation Loss:0.514 AVG Training Acc 80.86 % AVG Validation Acc 78.33 %\n",
      "Split 49\n"
     ]
    },
    {
     "data": {
      "application/vnd.jupyter.widget-view+json": {
       "model_id": "30b6ac2a71404952a5f326d1adc3999c",
       "version_major": 2,
       "version_minor": 0
      },
      "text/plain": [
       "  0%|          | 0/100 [00:00<?, ?it/s]"
      ]
     },
     "metadata": {},
     "output_type": "display_data"
    },
    {
     "name": "stdout",
     "output_type": "stream",
     "text": [
      "Epoch:10/100 AVG Training Loss:0.495 AVG Validation Loss:0.473 AVG Training Acc 79.74 % AVG Validation Acc 80.89 %\n",
      "Epoch:20/100 AVG Training Loss:0.491 AVG Validation Loss:0.482 AVG Training Acc 79.83 % AVG Validation Acc 80.89 %\n",
      "Epoch    28: reducing learning rate of group 0 to 1.0000e-03.\n",
      "Epoch:30/100 AVG Training Loss:0.486 AVG Validation Loss:0.484 AVG Training Acc 79.87 % AVG Validation Acc 80.62 %\n",
      "Epoch:40/100 AVG Training Loss:0.476 AVG Validation Loss:0.488 AVG Training Acc 80.08 % AVG Validation Acc 80.89 %\n",
      "Epoch:50/100 AVG Training Loss:0.471 AVG Validation Loss:0.489 AVG Training Acc 80.37 % AVG Validation Acc 81.02 %\n",
      "Epoch    59: reducing learning rate of group 0 to 1.0000e-04.\n",
      "Epoch:60/100 AVG Training Loss:0.464 AVG Validation Loss:0.498 AVG Training Acc 80.35 % AVG Validation Acc 80.89 %\n",
      "Epoch:70/100 AVG Training Loss:0.463 AVG Validation Loss:0.496 AVG Training Acc 80.43 % AVG Validation Acc 80.89 %\n",
      "Epoch:80/100 AVG Training Loss:0.460 AVG Validation Loss:0.497 AVG Training Acc 80.44 % AVG Validation Acc 81.02 %\n",
      "Epoch:90/100 AVG Training Loss:0.460 AVG Validation Loss:0.499 AVG Training Acc 80.52 % AVG Validation Acc 80.89 %\n",
      "Epoch    90: reducing learning rate of group 0 to 1.0000e-05.\n",
      "Epoch:100/100 AVG Training Loss:0.459 AVG Validation Loss:0.497 AVG Training Acc 80.56 % AVG Validation Acc 80.89 %\n",
      "Split 50\n"
     ]
    },
    {
     "data": {
      "application/vnd.jupyter.widget-view+json": {
       "model_id": "bfd1f6bf6dcb42739945872bfdf6e952",
       "version_major": 2,
       "version_minor": 0
      },
      "text/plain": [
       "  0%|          | 0/100 [00:00<?, ?it/s]"
      ]
     },
     "metadata": {},
     "output_type": "display_data"
    },
    {
     "name": "stdout",
     "output_type": "stream",
     "text": [
      "Epoch:10/100 AVG Training Loss:0.494 AVG Validation Loss:0.474 AVG Training Acc 79.78 % AVG Validation Acc 81.29 %\n",
      "Epoch:20/100 AVG Training Loss:0.490 AVG Validation Loss:0.464 AVG Training Acc 79.75 % AVG Validation Acc 81.29 %\n",
      "Epoch:30/100 AVG Training Loss:0.482 AVG Validation Loss:0.470 AVG Training Acc 79.83 % AVG Validation Acc 81.02 %\n",
      "Epoch:40/100 AVG Training Loss:0.478 AVG Validation Loss:0.471 AVG Training Acc 79.84 % AVG Validation Acc 81.16 %\n",
      "Epoch    49: reducing learning rate of group 0 to 1.0000e-03.\n",
      "Epoch:50/100 AVG Training Loss:0.461 AVG Validation Loss:0.471 AVG Training Acc 80.14 % AVG Validation Acc 81.02 %\n",
      "Epoch:60/100 AVG Training Loss:0.438 AVG Validation Loss:0.485 AVG Training Acc 80.95 % AVG Validation Acc 81.02 %\n",
      "Epoch:70/100 AVG Training Loss:0.427 AVG Validation Loss:0.497 AVG Training Acc 81.59 % AVG Validation Acc 80.22 %\n",
      "Epoch:80/100 AVG Training Loss:0.415 AVG Validation Loss:0.529 AVG Training Acc 82.01 % AVG Validation Acc 80.08 %\n",
      "Epoch    80: reducing learning rate of group 0 to 1.0000e-04.\n",
      "Epoch:90/100 AVG Training Loss:0.408 AVG Validation Loss:0.533 AVG Training Acc 82.28 % AVG Validation Acc 79.95 %\n",
      "Epoch:100/100 AVG Training Loss:0.406 AVG Validation Loss:0.532 AVG Training Acc 82.52 % AVG Validation Acc 79.81 %\n",
      "Split 51\n"
     ]
    },
    {
     "data": {
      "application/vnd.jupyter.widget-view+json": {
       "model_id": "11a3ae58a4fd46b0a338f3feaf78b571",
       "version_major": 2,
       "version_minor": 0
      },
      "text/plain": [
       "  0%|          | 0/100 [00:00<?, ?it/s]"
      ]
     },
     "metadata": {},
     "output_type": "display_data"
    },
    {
     "name": "stdout",
     "output_type": "stream",
     "text": [
      "Epoch:10/100 AVG Training Loss:0.493 AVG Validation Loss:0.508 AVG Training Acc 79.96 % AVG Validation Acc 79.03 %\n",
      "Epoch:20/100 AVG Training Loss:0.490 AVG Validation Loss:0.503 AVG Training Acc 79.96 % AVG Validation Acc 79.03 %\n",
      "Epoch:30/100 AVG Training Loss:0.485 AVG Validation Loss:0.497 AVG Training Acc 80.08 % AVG Validation Acc 79.17 %\n",
      "Epoch:40/100 AVG Training Loss:0.481 AVG Validation Loss:0.490 AVG Training Acc 80.05 % AVG Validation Acc 79.17 %\n",
      "Epoch:50/100 AVG Training Loss:0.482 AVG Validation Loss:0.501 AVG Training Acc 79.95 % AVG Validation Acc 79.17 %\n",
      "Epoch    51: reducing learning rate of group 0 to 1.0000e-03.\n",
      "Epoch:60/100 AVG Training Loss:0.472 AVG Validation Loss:0.499 AVG Training Acc 80.10 % AVG Validation Acc 79.03 %\n",
      "Epoch:70/100 AVG Training Loss:0.464 AVG Validation Loss:0.510 AVG Training Acc 80.45 % AVG Validation Acc 79.17 %\n",
      "Epoch:80/100 AVG Training Loss:0.461 AVG Validation Loss:0.503 AVG Training Acc 80.54 % AVG Validation Acc 79.03 %\n",
      "Epoch    82: reducing learning rate of group 0 to 1.0000e-04.\n",
      "Epoch:90/100 AVG Training Loss:0.459 AVG Validation Loss:0.509 AVG Training Acc 80.62 % AVG Validation Acc 78.90 %\n",
      "Epoch:100/100 AVG Training Loss:0.457 AVG Validation Loss:0.506 AVG Training Acc 80.48 % AVG Validation Acc 78.90 %\n",
      "Split 52\n"
     ]
    },
    {
     "data": {
      "application/vnd.jupyter.widget-view+json": {
       "model_id": "ada2125aac2c493e82cd4e9759f141b6",
       "version_major": 2,
       "version_minor": 0
      },
      "text/plain": [
       "  0%|          | 0/100 [00:00<?, ?it/s]"
      ]
     },
     "metadata": {},
     "output_type": "display_data"
    },
    {
     "name": "stdout",
     "output_type": "stream",
     "text": [
      "Epoch:10/100 AVG Training Loss:0.498 AVG Validation Loss:0.473 AVG Training Acc 79.57 % AVG Validation Acc 81.85 %\n",
      "Epoch    18: reducing learning rate of group 0 to 1.0000e-03.\n",
      "Epoch:20/100 AVG Training Loss:0.489 AVG Validation Loss:0.466 AVG Training Acc 79.75 % AVG Validation Acc 81.72 %\n",
      "Epoch:30/100 AVG Training Loss:0.486 AVG Validation Loss:0.469 AVG Training Acc 79.75 % AVG Validation Acc 81.85 %\n",
      "Epoch:40/100 AVG Training Loss:0.480 AVG Validation Loss:0.471 AVG Training Acc 79.95 % AVG Validation Acc 81.72 %\n",
      "Epoch    49: reducing learning rate of group 0 to 1.0000e-04.\n",
      "Epoch:50/100 AVG Training Loss:0.477 AVG Validation Loss:0.480 AVG Training Acc 80.05 % AVG Validation Acc 81.59 %\n",
      "Epoch:60/100 AVG Training Loss:0.472 AVG Validation Loss:0.482 AVG Training Acc 80.05 % AVG Validation Acc 81.32 %\n",
      "Epoch:70/100 AVG Training Loss:0.472 AVG Validation Loss:0.483 AVG Training Acc 80.07 % AVG Validation Acc 81.45 %\n",
      "Epoch:80/100 AVG Training Loss:0.470 AVG Validation Loss:0.486 AVG Training Acc 80.22 % AVG Validation Acc 81.45 %\n",
      "Epoch    80: reducing learning rate of group 0 to 1.0000e-05.\n",
      "Epoch:90/100 AVG Training Loss:0.470 AVG Validation Loss:0.485 AVG Training Acc 80.20 % AVG Validation Acc 81.45 %\n",
      "Epoch:100/100 AVG Training Loss:0.473 AVG Validation Loss:0.485 AVG Training Acc 80.13 % AVG Validation Acc 81.45 %\n",
      "Split 53\n"
     ]
    },
    {
     "data": {
      "application/vnd.jupyter.widget-view+json": {
       "model_id": "77a488df948243b7af29d6708a6fe2a5",
       "version_major": 2,
       "version_minor": 0
      },
      "text/plain": [
       "  0%|          | 0/100 [00:00<?, ?it/s]"
      ]
     },
     "metadata": {},
     "output_type": "display_data"
    },
    {
     "name": "stdout",
     "output_type": "stream",
     "text": [
      "Epoch:10/100 AVG Training Loss:0.496 AVG Validation Loss:0.523 AVG Training Acc 80.08 % AVG Validation Acc 78.23 %\n",
      "Epoch:20/100 AVG Training Loss:0.485 AVG Validation Loss:0.515 AVG Training Acc 80.05 % AVG Validation Acc 78.23 %\n",
      "Epoch    22: reducing learning rate of group 0 to 1.0000e-03.\n",
      "Epoch:30/100 AVG Training Loss:0.473 AVG Validation Loss:0.516 AVG Training Acc 80.30 % AVG Validation Acc 78.49 %\n",
      "Epoch:40/100 AVG Training Loss:0.465 AVG Validation Loss:0.519 AVG Training Acc 80.44 % AVG Validation Acc 78.09 %\n",
      "Epoch:50/100 AVG Training Loss:0.461 AVG Validation Loss:0.528 AVG Training Acc 80.78 % AVG Validation Acc 77.96 %\n",
      "Epoch    53: reducing learning rate of group 0 to 1.0000e-04.\n",
      "Epoch:60/100 AVG Training Loss:0.454 AVG Validation Loss:0.527 AVG Training Acc 80.93 % AVG Validation Acc 77.69 %\n",
      "Epoch:70/100 AVG Training Loss:0.453 AVG Validation Loss:0.529 AVG Training Acc 81.08 % AVG Validation Acc 77.69 %\n",
      "Epoch:80/100 AVG Training Loss:0.452 AVG Validation Loss:0.530 AVG Training Acc 80.99 % AVG Validation Acc 78.09 %\n",
      "Epoch    84: reducing learning rate of group 0 to 1.0000e-05.\n",
      "Epoch:90/100 AVG Training Loss:0.450 AVG Validation Loss:0.533 AVG Training Acc 81.16 % AVG Validation Acc 77.96 %\n",
      "Epoch:100/100 AVG Training Loss:0.447 AVG Validation Loss:0.531 AVG Training Acc 81.20 % AVG Validation Acc 77.96 %\n",
      "Split 54\n"
     ]
    },
    {
     "data": {
      "application/vnd.jupyter.widget-view+json": {
       "model_id": "5d1c85d08bfb40b48dd2cfc359988b5b",
       "version_major": 2,
       "version_minor": 0
      },
      "text/plain": [
       "  0%|          | 0/100 [00:00<?, ?it/s]"
      ]
     },
     "metadata": {},
     "output_type": "display_data"
    },
    {
     "name": "stdout",
     "output_type": "stream",
     "text": [
      "Epoch:10/100 AVG Training Loss:0.496 AVG Validation Loss:0.481 AVG Training Acc 79.80 % AVG Validation Acc 80.65 %\n",
      "Epoch:20/100 AVG Training Loss:0.491 AVG Validation Loss:0.472 AVG Training Acc 79.83 % AVG Validation Acc 80.65 %\n",
      "Epoch    29: reducing learning rate of group 0 to 1.0000e-03.\n",
      "Epoch:30/100 AVG Training Loss:0.481 AVG Validation Loss:0.472 AVG Training Acc 79.96 % AVG Validation Acc 80.65 %\n",
      "Epoch:40/100 AVG Training Loss:0.470 AVG Validation Loss:0.477 AVG Training Acc 80.20 % AVG Validation Acc 80.78 %\n",
      "Epoch:50/100 AVG Training Loss:0.462 AVG Validation Loss:0.483 AVG Training Acc 80.39 % AVG Validation Acc 80.78 %\n",
      "Epoch:60/100 AVG Training Loss:0.456 AVG Validation Loss:0.490 AVG Training Acc 80.68 % AVG Validation Acc 80.11 %\n",
      "Epoch    60: reducing learning rate of group 0 to 1.0000e-04.\n",
      "Epoch:70/100 AVG Training Loss:0.450 AVG Validation Loss:0.492 AVG Training Acc 80.84 % AVG Validation Acc 80.24 %\n",
      "Epoch:80/100 AVG Training Loss:0.454 AVG Validation Loss:0.492 AVG Training Acc 80.77 % AVG Validation Acc 79.97 %\n",
      "Epoch:90/100 AVG Training Loss:0.452 AVG Validation Loss:0.494 AVG Training Acc 80.75 % AVG Validation Acc 80.24 %\n",
      "Epoch    91: reducing learning rate of group 0 to 1.0000e-05.\n",
      "Epoch:100/100 AVG Training Loss:0.450 AVG Validation Loss:0.495 AVG Training Acc 80.83 % AVG Validation Acc 80.38 %\n",
      "Split 55\n"
     ]
    },
    {
     "data": {
      "application/vnd.jupyter.widget-view+json": {
       "model_id": "e76ddfed8e784d099b2cede8978015db",
       "version_major": 2,
       "version_minor": 0
      },
      "text/plain": [
       "  0%|          | 0/100 [00:00<?, ?it/s]"
      ]
     },
     "metadata": {},
     "output_type": "display_data"
    },
    {
     "name": "stdout",
     "output_type": "stream",
     "text": [
      "Epoch:10/100 AVG Training Loss:0.498 AVG Validation Loss:0.469 AVG Training Acc 79.72 % AVG Validation Acc 81.45 %\n",
      "Epoch:20/100 AVG Training Loss:0.492 AVG Validation Loss:0.463 AVG Training Acc 79.77 % AVG Validation Acc 81.45 %\n",
      "Epoch:30/100 AVG Training Loss:0.483 AVG Validation Loss:0.463 AVG Training Acc 79.78 % AVG Validation Acc 81.05 %\n",
      "Epoch:40/100 AVG Training Loss:0.486 AVG Validation Loss:0.465 AVG Training Acc 79.77 % AVG Validation Acc 80.65 %\n",
      "Epoch    43: reducing learning rate of group 0 to 1.0000e-03.\n",
      "Epoch:50/100 AVG Training Loss:0.470 AVG Validation Loss:0.472 AVG Training Acc 80.27 % AVG Validation Acc 80.51 %\n",
      "Epoch:60/100 AVG Training Loss:0.463 AVG Validation Loss:0.480 AVG Training Acc 80.23 % AVG Validation Acc 80.51 %\n",
      "Epoch:70/100 AVG Training Loss:0.457 AVG Validation Loss:0.481 AVG Training Acc 80.57 % AVG Validation Acc 80.51 %\n",
      "Epoch    74: reducing learning rate of group 0 to 1.0000e-04.\n",
      "Epoch:80/100 AVG Training Loss:0.452 AVG Validation Loss:0.486 AVG Training Acc 80.83 % AVG Validation Acc 80.38 %\n",
      "Epoch:90/100 AVG Training Loss:0.451 AVG Validation Loss:0.488 AVG Training Acc 80.89 % AVG Validation Acc 80.38 %\n",
      "Epoch:100/100 AVG Training Loss:0.451 AVG Validation Loss:0.488 AVG Training Acc 80.80 % AVG Validation Acc 80.38 %\n",
      "Split 56\n"
     ]
    },
    {
     "data": {
      "application/vnd.jupyter.widget-view+json": {
       "model_id": "f81feb8157e548cf8369238889d7b7b2",
       "version_major": 2,
       "version_minor": 0
      },
      "text/plain": [
       "  0%|          | 0/100 [00:00<?, ?it/s]"
      ]
     },
     "metadata": {},
     "output_type": "display_data"
    },
    {
     "name": "stdout",
     "output_type": "stream",
     "text": [
      "Epoch:10/100 AVG Training Loss:0.496 AVG Validation Loss:0.478 AVG Training Acc 79.68 % AVG Validation Acc 81.18 %\n",
      "Epoch:20/100 AVG Training Loss:0.491 AVG Validation Loss:0.485 AVG Training Acc 79.71 % AVG Validation Acc 81.18 %\n",
      "Epoch    23: reducing learning rate of group 0 to 1.0000e-03.\n",
      "Epoch:30/100 AVG Training Loss:0.479 AVG Validation Loss:0.484 AVG Training Acc 79.90 % AVG Validation Acc 80.78 %\n",
      "Epoch:40/100 AVG Training Loss:0.476 AVG Validation Loss:0.488 AVG Training Acc 79.95 % AVG Validation Acc 80.38 %\n",
      "Epoch:50/100 AVG Training Loss:0.467 AVG Validation Loss:0.493 AVG Training Acc 80.36 % AVG Validation Acc 80.24 %\n",
      "Epoch    54: reducing learning rate of group 0 to 1.0000e-04.\n",
      "Epoch:60/100 AVG Training Loss:0.463 AVG Validation Loss:0.493 AVG Training Acc 80.29 % AVG Validation Acc 80.38 %\n",
      "Epoch:70/100 AVG Training Loss:0.466 AVG Validation Loss:0.494 AVG Training Acc 80.16 % AVG Validation Acc 80.51 %\n",
      "Epoch:80/100 AVG Training Loss:0.464 AVG Validation Loss:0.495 AVG Training Acc 80.13 % AVG Validation Acc 80.51 %\n",
      "Epoch    85: reducing learning rate of group 0 to 1.0000e-05.\n",
      "Epoch:90/100 AVG Training Loss:0.464 AVG Validation Loss:0.495 AVG Training Acc 80.25 % AVG Validation Acc 80.38 %\n",
      "Epoch:100/100 AVG Training Loss:0.464 AVG Validation Loss:0.496 AVG Training Acc 80.33 % AVG Validation Acc 80.38 %\n",
      "Split 57\n"
     ]
    },
    {
     "data": {
      "application/vnd.jupyter.widget-view+json": {
       "model_id": "efbcbec3968c4e91875520a0212cad88",
       "version_major": 2,
       "version_minor": 0
      },
      "text/plain": [
       "  0%|          | 0/100 [00:00<?, ?it/s]"
      ]
     },
     "metadata": {},
     "output_type": "display_data"
    },
    {
     "name": "stdout",
     "output_type": "stream",
     "text": [
      "Epoch:10/100 AVG Training Loss:0.490 AVG Validation Loss:0.524 AVG Training Acc 79.99 % AVG Validation Acc 77.93 %\n",
      "Epoch:20/100 AVG Training Loss:0.485 AVG Validation Loss:0.515 AVG Training Acc 80.01 % AVG Validation Acc 77.93 %\n",
      "Epoch    26: reducing learning rate of group 0 to 1.0000e-03.\n",
      "Epoch:30/100 AVG Training Loss:0.473 AVG Validation Loss:0.526 AVG Training Acc 80.41 % AVG Validation Acc 77.93 %\n",
      "Epoch:40/100 AVG Training Loss:0.469 AVG Validation Loss:0.527 AVG Training Acc 80.35 % AVG Validation Acc 78.06 %\n",
      "Epoch:50/100 AVG Training Loss:0.465 AVG Validation Loss:0.531 AVG Training Acc 80.47 % AVG Validation Acc 77.66 %\n",
      "Epoch    57: reducing learning rate of group 0 to 1.0000e-04.\n",
      "Epoch:60/100 AVG Training Loss:0.457 AVG Validation Loss:0.540 AVG Training Acc 80.58 % AVG Validation Acc 77.52 %\n",
      "Epoch:70/100 AVG Training Loss:0.457 AVG Validation Loss:0.543 AVG Training Acc 80.77 % AVG Validation Acc 77.66 %\n",
      "Epoch:80/100 AVG Training Loss:0.456 AVG Validation Loss:0.542 AVG Training Acc 80.82 % AVG Validation Acc 77.52 %\n",
      "Epoch    88: reducing learning rate of group 0 to 1.0000e-05.\n",
      "Epoch:90/100 AVG Training Loss:0.455 AVG Validation Loss:0.541 AVG Training Acc 80.86 % AVG Validation Acc 77.39 %\n",
      "Epoch:100/100 AVG Training Loss:0.454 AVG Validation Loss:0.541 AVG Training Acc 80.86 % AVG Validation Acc 77.52 %\n",
      "Split 58\n"
     ]
    },
    {
     "data": {
      "application/vnd.jupyter.widget-view+json": {
       "model_id": "0811784587ed43ab942e52292b794333",
       "version_major": 2,
       "version_minor": 0
      },
      "text/plain": [
       "  0%|          | 0/100 [00:00<?, ?it/s]"
      ]
     },
     "metadata": {},
     "output_type": "display_data"
    },
    {
     "name": "stdout",
     "output_type": "stream",
     "text": [
      "Epoch:10/100 AVG Training Loss:0.496 AVG Validation Loss:0.499 AVG Training Acc 79.83 % AVG Validation Acc 79.81 %\n",
      "Epoch:20/100 AVG Training Loss:0.488 AVG Validation Loss:0.489 AVG Training Acc 79.86 % AVG Validation Acc 79.68 %\n",
      "Epoch:30/100 AVG Training Loss:0.483 AVG Validation Loss:0.490 AVG Training Acc 79.93 % AVG Validation Acc 79.95 %\n",
      "Epoch:40/100 AVG Training Loss:0.473 AVG Validation Loss:0.496 AVG Training Acc 80.22 % AVG Validation Acc 80.08 %\n",
      "Epoch    42: reducing learning rate of group 0 to 1.0000e-03.\n",
      "Epoch:50/100 AVG Training Loss:0.452 AVG Validation Loss:0.513 AVG Training Acc 81.13 % AVG Validation Acc 79.27 %\n",
      "Epoch:60/100 AVG Training Loss:0.443 AVG Validation Loss:0.519 AVG Training Acc 81.43 % AVG Validation Acc 79.14 %\n",
      "Epoch:70/100 AVG Training Loss:0.434 AVG Validation Loss:0.531 AVG Training Acc 81.58 % AVG Validation Acc 78.60 %\n",
      "Epoch    73: reducing learning rate of group 0 to 1.0000e-04.\n",
      "Epoch:80/100 AVG Training Loss:0.426 AVG Validation Loss:0.533 AVG Training Acc 81.91 % AVG Validation Acc 78.20 %\n",
      "Epoch:90/100 AVG Training Loss:0.428 AVG Validation Loss:0.532 AVG Training Acc 82.04 % AVG Validation Acc 78.60 %\n",
      "Epoch:100/100 AVG Training Loss:0.427 AVG Validation Loss:0.537 AVG Training Acc 81.82 % AVG Validation Acc 78.20 %\n",
      "Split 59\n"
     ]
    },
    {
     "data": {
      "application/vnd.jupyter.widget-view+json": {
       "model_id": "0cb5c947232b4e3885fffae47e1aa362",
       "version_major": 2,
       "version_minor": 0
      },
      "text/plain": [
       "  0%|          | 0/100 [00:00<?, ?it/s]"
      ]
     },
     "metadata": {},
     "output_type": "display_data"
    },
    {
     "name": "stdout",
     "output_type": "stream",
     "text": [
      "Epoch:10/100 AVG Training Loss:0.491 AVG Validation Loss:0.521 AVG Training Acc 80.14 % AVG Validation Acc 78.20 %\n",
      "Epoch:20/100 AVG Training Loss:0.486 AVG Validation Loss:0.532 AVG Training Acc 79.99 % AVG Validation Acc 78.20 %\n",
      "Epoch    27: reducing learning rate of group 0 to 1.0000e-03.\n",
      "Epoch:30/100 AVG Training Loss:0.470 AVG Validation Loss:0.521 AVG Training Acc 80.14 % AVG Validation Acc 77.79 %\n",
      "Epoch:40/100 AVG Training Loss:0.464 AVG Validation Loss:0.524 AVG Training Acc 80.52 % AVG Validation Acc 77.79 %\n",
      "Epoch:50/100 AVG Training Loss:0.458 AVG Validation Loss:0.532 AVG Training Acc 80.61 % AVG Validation Acc 78.06 %\n",
      "Epoch    58: reducing learning rate of group 0 to 1.0000e-04.\n",
      "Epoch:60/100 AVG Training Loss:0.451 AVG Validation Loss:0.538 AVG Training Acc 80.98 % AVG Validation Acc 77.66 %\n",
      "Epoch:70/100 AVG Training Loss:0.450 AVG Validation Loss:0.538 AVG Training Acc 80.95 % AVG Validation Acc 77.66 %\n",
      "Epoch:80/100 AVG Training Loss:0.450 AVG Validation Loss:0.538 AVG Training Acc 80.86 % AVG Validation Acc 77.66 %\n",
      "Epoch    89: reducing learning rate of group 0 to 1.0000e-05.\n",
      "Epoch:90/100 AVG Training Loss:0.448 AVG Validation Loss:0.540 AVG Training Acc 80.88 % AVG Validation Acc 77.52 %\n",
      "Epoch:100/100 AVG Training Loss:0.448 AVG Validation Loss:0.540 AVG Training Acc 81.01 % AVG Validation Acc 77.52 %\n",
      "Split 60\n"
     ]
    },
    {
     "data": {
      "application/vnd.jupyter.widget-view+json": {
       "model_id": "e029ec9ba5d540699d8f2f2ee38fac15",
       "version_major": 2,
       "version_minor": 0
      },
      "text/plain": [
       "  0%|          | 0/100 [00:00<?, ?it/s]"
      ]
     },
     "metadata": {},
     "output_type": "display_data"
    },
    {
     "name": "stdout",
     "output_type": "stream",
     "text": [
      "Epoch:10/100 AVG Training Loss:0.493 AVG Validation Loss:0.485 AVG Training Acc 79.81 % AVG Validation Acc 80.48 %\n",
      "Epoch:20/100 AVG Training Loss:0.490 AVG Validation Loss:0.484 AVG Training Acc 79.86 % AVG Validation Acc 80.35 %\n",
      "Epoch:30/100 AVG Training Loss:0.482 AVG Validation Loss:0.488 AVG Training Acc 80.01 % AVG Validation Acc 80.35 %\n",
      "Epoch    31: reducing learning rate of group 0 to 1.0000e-03.\n",
      "Epoch:40/100 AVG Training Loss:0.468 AVG Validation Loss:0.502 AVG Training Acc 80.32 % AVG Validation Acc 80.35 %\n",
      "Epoch:50/100 AVG Training Loss:0.461 AVG Validation Loss:0.507 AVG Training Acc 80.58 % AVG Validation Acc 79.81 %\n",
      "Epoch:60/100 AVG Training Loss:0.457 AVG Validation Loss:0.518 AVG Training Acc 80.86 % AVG Validation Acc 79.81 %\n",
      "Epoch    62: reducing learning rate of group 0 to 1.0000e-04.\n",
      "Epoch:70/100 AVG Training Loss:0.451 AVG Validation Loss:0.522 AVG Training Acc 80.89 % AVG Validation Acc 79.54 %\n",
      "Epoch:80/100 AVG Training Loss:0.448 AVG Validation Loss:0.527 AVG Training Acc 80.98 % AVG Validation Acc 79.41 %\n",
      "Epoch:90/100 AVG Training Loss:0.449 AVG Validation Loss:0.526 AVG Training Acc 81.17 % AVG Validation Acc 79.68 %\n",
      "Epoch    93: reducing learning rate of group 0 to 1.0000e-05.\n",
      "Epoch:100/100 AVG Training Loss:0.446 AVG Validation Loss:0.530 AVG Training Acc 81.16 % AVG Validation Acc 79.41 %\n",
      "Split 61\n"
     ]
    },
    {
     "data": {
      "application/vnd.jupyter.widget-view+json": {
       "model_id": "97250c7ef2bf4a74986eaed76a1b6c61",
       "version_major": 2,
       "version_minor": 0
      },
      "text/plain": [
       "  0%|          | 0/100 [00:00<?, ?it/s]"
      ]
     },
     "metadata": {},
     "output_type": "display_data"
    },
    {
     "name": "stdout",
     "output_type": "stream",
     "text": [
      "Epoch:10/100 AVG Training Loss:0.499 AVG Validation Loss:0.491 AVG Training Acc 79.87 % AVG Validation Acc 79.84 %\n",
      "Epoch:20/100 AVG Training Loss:0.488 AVG Validation Loss:0.488 AVG Training Acc 79.78 % AVG Validation Acc 79.97 %\n",
      "Epoch:30/100 AVG Training Loss:0.504 AVG Validation Loss:0.499 AVG Training Acc 79.81 % AVG Validation Acc 79.84 %\n",
      "Epoch    33: reducing learning rate of group 0 to 1.0000e-03.\n",
      "Epoch:40/100 AVG Training Loss:0.499 AVG Validation Loss:0.496 AVG Training Acc 79.80 % AVG Validation Acc 79.84 %\n",
      "Epoch:50/100 AVG Training Loss:0.497 AVG Validation Loss:0.494 AVG Training Acc 79.84 % AVG Validation Acc 79.84 %\n",
      "Epoch:60/100 AVG Training Loss:0.496 AVG Validation Loss:0.494 AVG Training Acc 79.83 % AVG Validation Acc 80.11 %\n",
      "Epoch    64: reducing learning rate of group 0 to 1.0000e-04.\n",
      "Epoch:70/100 AVG Training Loss:0.495 AVG Validation Loss:0.493 AVG Training Acc 79.95 % AVG Validation Acc 80.11 %\n",
      "Epoch:80/100 AVG Training Loss:0.494 AVG Validation Loss:0.491 AVG Training Acc 79.93 % AVG Validation Acc 80.11 %\n",
      "Epoch:90/100 AVG Training Loss:0.494 AVG Validation Loss:0.492 AVG Training Acc 79.89 % AVG Validation Acc 80.11 %\n",
      "Epoch    95: reducing learning rate of group 0 to 1.0000e-05.\n",
      "Epoch:100/100 AVG Training Loss:0.496 AVG Validation Loss:0.492 AVG Training Acc 79.98 % AVG Validation Acc 80.24 %\n",
      "Split 62\n"
     ]
    },
    {
     "data": {
      "application/vnd.jupyter.widget-view+json": {
       "model_id": "41925c5e30cb422fa827b27c31c3e54b",
       "version_major": 2,
       "version_minor": 0
      },
      "text/plain": [
       "  0%|          | 0/100 [00:00<?, ?it/s]"
      ]
     },
     "metadata": {},
     "output_type": "display_data"
    },
    {
     "name": "stdout",
     "output_type": "stream",
     "text": [
      "Epoch:10/100 AVG Training Loss:0.503 AVG Validation Loss:0.467 AVG Training Acc 79.48 % AVG Validation Acc 82.39 %\n",
      "Epoch:20/100 AVG Training Loss:0.492 AVG Validation Loss:0.469 AVG Training Acc 79.63 % AVG Validation Acc 82.12 %\n",
      "Epoch:30/100 AVG Training Loss:0.488 AVG Validation Loss:0.471 AVG Training Acc 79.66 % AVG Validation Acc 81.85 %\n",
      "Epoch    33: reducing learning rate of group 0 to 1.0000e-03.\n",
      "Epoch:40/100 AVG Training Loss:0.477 AVG Validation Loss:0.466 AVG Training Acc 79.96 % AVG Validation Acc 82.12 %\n",
      "Epoch:50/100 AVG Training Loss:0.466 AVG Validation Loss:0.471 AVG Training Acc 80.38 % AVG Validation Acc 81.99 %\n",
      "Epoch:60/100 AVG Training Loss:0.458 AVG Validation Loss:0.476 AVG Training Acc 80.51 % AVG Validation Acc 81.85 %\n",
      "Epoch    64: reducing learning rate of group 0 to 1.0000e-04.\n",
      "Epoch:70/100 AVG Training Loss:0.452 AVG Validation Loss:0.481 AVG Training Acc 80.95 % AVG Validation Acc 81.59 %\n",
      "Epoch:80/100 AVG Training Loss:0.455 AVG Validation Loss:0.485 AVG Training Acc 80.75 % AVG Validation Acc 81.45 %\n",
      "Epoch:90/100 AVG Training Loss:0.452 AVG Validation Loss:0.485 AVG Training Acc 80.83 % AVG Validation Acc 81.72 %\n",
      "Epoch    95: reducing learning rate of group 0 to 1.0000e-05.\n",
      "Epoch:100/100 AVG Training Loss:0.452 AVG Validation Loss:0.487 AVG Training Acc 80.84 % AVG Validation Acc 81.72 %\n",
      "Split 63\n"
     ]
    },
    {
     "data": {
      "application/vnd.jupyter.widget-view+json": {
       "model_id": "aaeb96abf7974bb6ac3ad62ed8412622",
       "version_major": 2,
       "version_minor": 0
      },
      "text/plain": [
       "  0%|          | 0/100 [00:00<?, ?it/s]"
      ]
     },
     "metadata": {},
     "output_type": "display_data"
    },
    {
     "name": "stdout",
     "output_type": "stream",
     "text": [
      "Epoch:10/100 AVG Training Loss:0.495 AVG Validation Loss:0.540 AVG Training Acc 80.16 % AVG Validation Acc 77.28 %\n",
      "Epoch:20/100 AVG Training Loss:0.491 AVG Validation Loss:0.526 AVG Training Acc 80.13 % AVG Validation Acc 77.28 %\n",
      "Epoch:30/100 AVG Training Loss:0.484 AVG Validation Loss:0.527 AVG Training Acc 80.22 % AVG Validation Acc 77.28 %\n",
      "Epoch    32: reducing learning rate of group 0 to 1.0000e-03.\n",
      "Epoch:40/100 AVG Training Loss:0.474 AVG Validation Loss:0.525 AVG Training Acc 80.30 % AVG Validation Acc 77.02 %\n",
      "Epoch:50/100 AVG Training Loss:0.466 AVG Validation Loss:0.541 AVG Training Acc 80.41 % AVG Validation Acc 77.15 %\n",
      "Epoch:60/100 AVG Training Loss:0.462 AVG Validation Loss:0.542 AVG Training Acc 80.35 % AVG Validation Acc 76.88 %\n",
      "Epoch    63: reducing learning rate of group 0 to 1.0000e-04.\n",
      "Epoch:70/100 AVG Training Loss:0.453 AVG Validation Loss:0.555 AVG Training Acc 80.68 % AVG Validation Acc 77.02 %\n",
      "Epoch:80/100 AVG Training Loss:0.450 AVG Validation Loss:0.564 AVG Training Acc 80.72 % AVG Validation Acc 76.88 %\n",
      "Epoch:90/100 AVG Training Loss:0.453 AVG Validation Loss:0.564 AVG Training Acc 80.60 % AVG Validation Acc 76.75 %\n",
      "Epoch    94: reducing learning rate of group 0 to 1.0000e-05.\n",
      "Epoch:100/100 AVG Training Loss:0.451 AVG Validation Loss:0.561 AVG Training Acc 80.74 % AVG Validation Acc 76.75 %\n",
      "Split 64\n"
     ]
    },
    {
     "data": {
      "application/vnd.jupyter.widget-view+json": {
       "model_id": "e94b7cb84c7e477a8b2c153b1273e42a",
       "version_major": 2,
       "version_minor": 0
      },
      "text/plain": [
       "  0%|          | 0/100 [00:00<?, ?it/s]"
      ]
     },
     "metadata": {},
     "output_type": "display_data"
    },
    {
     "name": "stdout",
     "output_type": "stream",
     "text": [
      "Epoch:10/100 AVG Training Loss:0.489 AVG Validation Loss:0.507 AVG Training Acc 79.99 % AVG Validation Acc 78.23 %\n",
      "Epoch:20/100 AVG Training Loss:0.488 AVG Validation Loss:0.508 AVG Training Acc 80.02 % AVG Validation Acc 78.49 %\n",
      "Epoch:30/100 AVG Training Loss:0.481 AVG Validation Loss:0.517 AVG Training Acc 80.23 % AVG Validation Acc 78.49 %\n",
      "Epoch    32: reducing learning rate of group 0 to 1.0000e-03.\n",
      "Epoch:40/100 AVG Training Loss:0.466 AVG Validation Loss:0.515 AVG Training Acc 80.69 % AVG Validation Acc 78.23 %\n",
      "Epoch:50/100 AVG Training Loss:0.456 AVG Validation Loss:0.522 AVG Training Acc 80.96 % AVG Validation Acc 77.82 %\n",
      "Epoch:60/100 AVG Training Loss:0.448 AVG Validation Loss:0.533 AVG Training Acc 81.35 % AVG Validation Acc 77.82 %\n",
      "Epoch    63: reducing learning rate of group 0 to 1.0000e-04.\n",
      "Epoch:70/100 AVG Training Loss:0.444 AVG Validation Loss:0.534 AVG Training Acc 81.68 % AVG Validation Acc 77.55 %\n",
      "Epoch:80/100 AVG Training Loss:0.443 AVG Validation Loss:0.537 AVG Training Acc 81.60 % AVG Validation Acc 77.55 %\n",
      "Epoch:90/100 AVG Training Loss:0.441 AVG Validation Loss:0.539 AVG Training Acc 81.77 % AVG Validation Acc 77.69 %\n",
      "Epoch    94: reducing learning rate of group 0 to 1.0000e-05.\n",
      "Epoch:100/100 AVG Training Loss:0.443 AVG Validation Loss:0.542 AVG Training Acc 81.60 % AVG Validation Acc 77.28 %\n",
      "Split 65\n"
     ]
    },
    {
     "data": {
      "application/vnd.jupyter.widget-view+json": {
       "model_id": "7e5f1655d1a54c7284f5895c09f616c3",
       "version_major": 2,
       "version_minor": 0
      },
      "text/plain": [
       "  0%|          | 0/100 [00:00<?, ?it/s]"
      ]
     },
     "metadata": {},
     "output_type": "display_data"
    },
    {
     "name": "stdout",
     "output_type": "stream",
     "text": [
      "Epoch:10/100 AVG Training Loss:0.496 AVG Validation Loss:0.483 AVG Training Acc 79.78 % AVG Validation Acc 80.51 %\n",
      "Epoch:20/100 AVG Training Loss:0.491 AVG Validation Loss:0.488 AVG Training Acc 79.81 % AVG Validation Acc 80.38 %\n",
      "Epoch    26: reducing learning rate of group 0 to 1.0000e-03.\n",
      "Epoch:30/100 AVG Training Loss:0.479 AVG Validation Loss:0.483 AVG Training Acc 80.05 % AVG Validation Acc 80.38 %\n",
      "Epoch:40/100 AVG Training Loss:0.474 AVG Validation Loss:0.489 AVG Training Acc 80.22 % AVG Validation Acc 80.11 %\n",
      "Epoch:50/100 AVG Training Loss:0.469 AVG Validation Loss:0.495 AVG Training Acc 80.35 % AVG Validation Acc 80.11 %\n",
      "Epoch    57: reducing learning rate of group 0 to 1.0000e-04.\n",
      "Epoch:60/100 AVG Training Loss:0.465 AVG Validation Loss:0.495 AVG Training Acc 80.47 % AVG Validation Acc 80.11 %\n",
      "Epoch:70/100 AVG Training Loss:0.464 AVG Validation Loss:0.496 AVG Training Acc 80.54 % AVG Validation Acc 80.11 %\n",
      "Epoch:80/100 AVG Training Loss:0.462 AVG Validation Loss:0.497 AVG Training Acc 80.69 % AVG Validation Acc 80.11 %\n",
      "Epoch    88: reducing learning rate of group 0 to 1.0000e-05.\n",
      "Epoch:90/100 AVG Training Loss:0.463 AVG Validation Loss:0.497 AVG Training Acc 80.63 % AVG Validation Acc 80.11 %\n",
      "Epoch:100/100 AVG Training Loss:0.461 AVG Validation Loss:0.499 AVG Training Acc 80.71 % AVG Validation Acc 80.11 %\n",
      "Split 66\n"
     ]
    },
    {
     "data": {
      "application/vnd.jupyter.widget-view+json": {
       "model_id": "56c6b845731449418b87bee325b1c68c",
       "version_major": 2,
       "version_minor": 0
      },
      "text/plain": [
       "  0%|          | 0/100 [00:00<?, ?it/s]"
      ]
     },
     "metadata": {},
     "output_type": "display_data"
    },
    {
     "name": "stdout",
     "output_type": "stream",
     "text": [
      "Epoch:10/100 AVG Training Loss:0.492 AVG Validation Loss:0.496 AVG Training Acc 79.95 % AVG Validation Acc 79.84 %\n",
      "Epoch:20/100 AVG Training Loss:0.486 AVG Validation Loss:0.498 AVG Training Acc 79.81 % AVG Validation Acc 79.70 %\n",
      "Epoch    20: reducing learning rate of group 0 to 1.0000e-03.\n",
      "Epoch:30/100 AVG Training Loss:0.477 AVG Validation Loss:0.505 AVG Training Acc 80.10 % AVG Validation Acc 78.76 %\n",
      "Epoch:40/100 AVG Training Loss:0.470 AVG Validation Loss:0.513 AVG Training Acc 80.33 % AVG Validation Acc 78.49 %\n",
      "Epoch:50/100 AVG Training Loss:0.463 AVG Validation Loss:0.521 AVG Training Acc 80.63 % AVG Validation Acc 78.36 %\n",
      "Epoch    51: reducing learning rate of group 0 to 1.0000e-04.\n",
      "Epoch:60/100 AVG Training Loss:0.458 AVG Validation Loss:0.524 AVG Training Acc 80.89 % AVG Validation Acc 78.23 %\n",
      "Epoch:70/100 AVG Training Loss:0.457 AVG Validation Loss:0.530 AVG Training Acc 80.84 % AVG Validation Acc 77.96 %\n",
      "Epoch:80/100 AVG Training Loss:0.458 AVG Validation Loss:0.527 AVG Training Acc 80.95 % AVG Validation Acc 78.09 %\n",
      "Epoch    82: reducing learning rate of group 0 to 1.0000e-05.\n",
      "Epoch:90/100 AVG Training Loss:0.455 AVG Validation Loss:0.528 AVG Training Acc 80.89 % AVG Validation Acc 77.69 %\n",
      "Epoch:100/100 AVG Training Loss:0.456 AVG Validation Loss:0.529 AVG Training Acc 80.92 % AVG Validation Acc 77.96 %\n",
      "Split 67\n"
     ]
    },
    {
     "data": {
      "application/vnd.jupyter.widget-view+json": {
       "model_id": "008c40872a104970b325b28be23ffe15",
       "version_major": 2,
       "version_minor": 0
      },
      "text/plain": [
       "  0%|          | 0/100 [00:00<?, ?it/s]"
      ]
     },
     "metadata": {},
     "output_type": "display_data"
    },
    {
     "name": "stdout",
     "output_type": "stream",
     "text": [
      "Epoch:10/100 AVG Training Loss:0.498 AVG Validation Loss:0.474 AVG Training Acc 79.67 % AVG Validation Acc 81.29 %\n",
      "Epoch:20/100 AVG Training Loss:0.490 AVG Validation Loss:0.474 AVG Training Acc 79.78 % AVG Validation Acc 81.16 %\n",
      "Epoch:30/100 AVG Training Loss:0.486 AVG Validation Loss:0.489 AVG Training Acc 79.86 % AVG Validation Acc 80.89 %\n",
      "Epoch    31: reducing learning rate of group 0 to 1.0000e-03.\n",
      "Epoch:40/100 AVG Training Loss:0.477 AVG Validation Loss:0.482 AVG Training Acc 79.80 % AVG Validation Acc 81.29 %\n",
      "Epoch:50/100 AVG Training Loss:0.467 AVG Validation Loss:0.489 AVG Training Acc 80.19 % AVG Validation Acc 81.43 %\n",
      "Epoch:60/100 AVG Training Loss:0.457 AVG Validation Loss:0.500 AVG Training Acc 80.40 % AVG Validation Acc 81.16 %\n",
      "Epoch    62: reducing learning rate of group 0 to 1.0000e-04.\n",
      "Epoch:70/100 AVG Training Loss:0.449 AVG Validation Loss:0.499 AVG Training Acc 80.62 % AVG Validation Acc 80.62 %\n",
      "Epoch:80/100 AVG Training Loss:0.453 AVG Validation Loss:0.500 AVG Training Acc 80.53 % AVG Validation Acc 80.62 %\n",
      "Epoch:90/100 AVG Training Loss:0.449 AVG Validation Loss:0.502 AVG Training Acc 80.92 % AVG Validation Acc 81.02 %\n",
      "Epoch    93: reducing learning rate of group 0 to 1.0000e-05.\n",
      "Epoch:100/100 AVG Training Loss:0.449 AVG Validation Loss:0.500 AVG Training Acc 80.62 % AVG Validation Acc 80.75 %\n",
      "Split 68\n"
     ]
    },
    {
     "data": {
      "application/vnd.jupyter.widget-view+json": {
       "model_id": "d572da732be8410a87a3ea49c0913cf0",
       "version_major": 2,
       "version_minor": 0
      },
      "text/plain": [
       "  0%|          | 0/100 [00:00<?, ?it/s]"
      ]
     },
     "metadata": {},
     "output_type": "display_data"
    },
    {
     "name": "stdout",
     "output_type": "stream",
     "text": [
      "Epoch:10/100 AVG Training Loss:0.498 AVG Validation Loss:0.473 AVG Training Acc 79.59 % AVG Validation Acc 81.70 %\n",
      "Epoch:20/100 AVG Training Loss:0.490 AVG Validation Loss:0.474 AVG Training Acc 79.71 % AVG Validation Acc 81.70 %\n",
      "Epoch    24: reducing learning rate of group 0 to 1.0000e-03.\n",
      "Epoch:30/100 AVG Training Loss:0.477 AVG Validation Loss:0.481 AVG Training Acc 80.07 % AVG Validation Acc 81.83 %\n",
      "Epoch:40/100 AVG Training Loss:0.470 AVG Validation Loss:0.493 AVG Training Acc 80.29 % AVG Validation Acc 81.56 %\n",
      "Epoch:50/100 AVG Training Loss:0.466 AVG Validation Loss:0.504 AVG Training Acc 80.16 % AVG Validation Acc 81.43 %\n",
      "Epoch    55: reducing learning rate of group 0 to 1.0000e-04.\n",
      "Epoch:60/100 AVG Training Loss:0.458 AVG Validation Loss:0.514 AVG Training Acc 80.41 % AVG Validation Acc 81.70 %\n",
      "Epoch:70/100 AVG Training Loss:0.456 AVG Validation Loss:0.516 AVG Training Acc 80.55 % AVG Validation Acc 80.89 %\n",
      "Epoch:80/100 AVG Training Loss:0.456 AVG Validation Loss:0.516 AVG Training Acc 80.67 % AVG Validation Acc 80.89 %\n",
      "Epoch    86: reducing learning rate of group 0 to 1.0000e-05.\n",
      "Epoch:90/100 AVG Training Loss:0.456 AVG Validation Loss:0.516 AVG Training Acc 80.46 % AVG Validation Acc 80.89 %\n",
      "Epoch:100/100 AVG Training Loss:0.456 AVG Validation Loss:0.513 AVG Training Acc 80.49 % AVG Validation Acc 81.16 %\n",
      "Split 69\n"
     ]
    },
    {
     "data": {
      "application/vnd.jupyter.widget-view+json": {
       "model_id": "a82726762d6c4f3fa601112d21d27031",
       "version_major": 2,
       "version_minor": 0
      },
      "text/plain": [
       "  0%|          | 0/100 [00:00<?, ?it/s]"
      ]
     },
     "metadata": {},
     "output_type": "display_data"
    },
    {
     "name": "stdout",
     "output_type": "stream",
     "text": [
      "Epoch:10/100 AVG Training Loss:0.496 AVG Validation Loss:0.502 AVG Training Acc 79.93 % AVG Validation Acc 78.87 %\n",
      "Epoch:20/100 AVG Training Loss:0.493 AVG Validation Loss:0.502 AVG Training Acc 80.04 % AVG Validation Acc 78.87 %\n",
      "Epoch    21: reducing learning rate of group 0 to 1.0000e-03.\n",
      "Epoch:30/100 AVG Training Loss:0.485 AVG Validation Loss:0.501 AVG Training Acc 80.10 % AVG Validation Acc 78.60 %\n",
      "Epoch:40/100 AVG Training Loss:0.480 AVG Validation Loss:0.500 AVG Training Acc 80.29 % AVG Validation Acc 78.60 %\n",
      "Epoch:50/100 AVG Training Loss:0.476 AVG Validation Loss:0.498 AVG Training Acc 80.44 % AVG Validation Acc 78.47 %\n",
      "Epoch:60/100 AVG Training Loss:0.474 AVG Validation Loss:0.504 AVG Training Acc 80.62 % AVG Validation Acc 78.47 %\n",
      "Epoch    64: reducing learning rate of group 0 to 1.0000e-04.\n",
      "Epoch:70/100 AVG Training Loss:0.469 AVG Validation Loss:0.508 AVG Training Acc 80.79 % AVG Validation Acc 78.33 %\n",
      "Epoch:80/100 AVG Training Loss:0.469 AVG Validation Loss:0.509 AVG Training Acc 80.73 % AVG Validation Acc 78.20 %\n",
      "Epoch:90/100 AVG Training Loss:0.469 AVG Validation Loss:0.509 AVG Training Acc 80.76 % AVG Validation Acc 78.33 %\n",
      "Epoch    95: reducing learning rate of group 0 to 1.0000e-05.\n",
      "Epoch:100/100 AVG Training Loss:0.469 AVG Validation Loss:0.510 AVG Training Acc 80.91 % AVG Validation Acc 78.33 %\n",
      "Split 70\n"
     ]
    },
    {
     "data": {
      "application/vnd.jupyter.widget-view+json": {
       "model_id": "a59456ff6069422dbb79c5f5e70cb2c9",
       "version_major": 2,
       "version_minor": 0
      },
      "text/plain": [
       "  0%|          | 0/100 [00:00<?, ?it/s]"
      ]
     },
     "metadata": {},
     "output_type": "display_data"
    },
    {
     "name": "stdout",
     "output_type": "stream",
     "text": [
      "Epoch:10/100 AVG Training Loss:0.492 AVG Validation Loss:0.519 AVG Training Acc 79.95 % AVG Validation Acc 78.60 %\n",
      "Epoch    19: reducing learning rate of group 0 to 1.0000e-03.\n",
      "Epoch:20/100 AVG Training Loss:0.484 AVG Validation Loss:0.517 AVG Training Acc 79.99 % AVG Validation Acc 78.73 %\n",
      "Epoch:30/100 AVG Training Loss:0.479 AVG Validation Loss:0.517 AVG Training Acc 80.01 % AVG Validation Acc 78.73 %\n",
      "Epoch:40/100 AVG Training Loss:0.474 AVG Validation Loss:0.522 AVG Training Acc 80.22 % AVG Validation Acc 78.60 %\n",
      "Epoch:50/100 AVG Training Loss:0.467 AVG Validation Loss:0.524 AVG Training Acc 80.40 % AVG Validation Acc 79.00 %\n",
      "Epoch    50: reducing learning rate of group 0 to 1.0000e-04.\n",
      "Epoch:60/100 AVG Training Loss:0.463 AVG Validation Loss:0.530 AVG Training Acc 80.46 % AVG Validation Acc 78.60 %\n",
      "Epoch:70/100 AVG Training Loss:0.464 AVG Validation Loss:0.529 AVG Training Acc 80.46 % AVG Validation Acc 78.47 %\n",
      "Epoch:80/100 AVG Training Loss:0.464 AVG Validation Loss:0.528 AVG Training Acc 80.64 % AVG Validation Acc 78.73 %\n",
      "Epoch    81: reducing learning rate of group 0 to 1.0000e-05.\n",
      "Epoch:90/100 AVG Training Loss:0.463 AVG Validation Loss:0.529 AVG Training Acc 80.50 % AVG Validation Acc 78.60 %\n",
      "Epoch:100/100 AVG Training Loss:0.462 AVG Validation Loss:0.528 AVG Training Acc 80.53 % AVG Validation Acc 78.73 %\n",
      "Split 71\n"
     ]
    },
    {
     "data": {
      "application/vnd.jupyter.widget-view+json": {
       "model_id": "d5de6d238c4d4ed9b696dea6269f243c",
       "version_major": 2,
       "version_minor": 0
      },
      "text/plain": [
       "  0%|          | 0/100 [00:00<?, ?it/s]"
      ]
     },
     "metadata": {},
     "output_type": "display_data"
    },
    {
     "name": "stdout",
     "output_type": "stream",
     "text": [
      "Epoch:10/100 AVG Training Loss:0.490 AVG Validation Loss:0.527 AVG Training Acc 80.08 % AVG Validation Acc 77.82 %\n",
      "Epoch:20/100 AVG Training Loss:0.486 AVG Validation Loss:0.527 AVG Training Acc 79.96 % AVG Validation Acc 77.82 %\n",
      "Epoch    29: reducing learning rate of group 0 to 1.0000e-03.\n",
      "Epoch:30/100 AVG Training Loss:0.480 AVG Validation Loss:0.527 AVG Training Acc 80.27 % AVG Validation Acc 78.23 %\n",
      "Epoch:40/100 AVG Training Loss:0.471 AVG Validation Loss:0.532 AVG Training Acc 80.45 % AVG Validation Acc 78.23 %\n",
      "Epoch:50/100 AVG Training Loss:0.465 AVG Validation Loss:0.535 AVG Training Acc 80.77 % AVG Validation Acc 77.96 %\n",
      "Epoch:60/100 AVG Training Loss:0.462 AVG Validation Loss:0.539 AVG Training Acc 80.86 % AVG Validation Acc 77.96 %\n",
      "Epoch    60: reducing learning rate of group 0 to 1.0000e-04.\n",
      "Epoch:70/100 AVG Training Loss:0.458 AVG Validation Loss:0.543 AVG Training Acc 81.02 % AVG Validation Acc 77.69 %\n",
      "Epoch:80/100 AVG Training Loss:0.455 AVG Validation Loss:0.542 AVG Training Acc 80.96 % AVG Validation Acc 77.69 %\n",
      "Epoch:90/100 AVG Training Loss:0.455 AVG Validation Loss:0.544 AVG Training Acc 81.16 % AVG Validation Acc 77.69 %\n",
      "Epoch    91: reducing learning rate of group 0 to 1.0000e-05.\n",
      "Epoch:100/100 AVG Training Loss:0.457 AVG Validation Loss:0.544 AVG Training Acc 80.93 % AVG Validation Acc 77.69 %\n",
      "Split 72\n"
     ]
    },
    {
     "data": {
      "application/vnd.jupyter.widget-view+json": {
       "model_id": "66a671f53fbb4488b32d443da57e20aa",
       "version_major": 2,
       "version_minor": 0
      },
      "text/plain": [
       "  0%|          | 0/100 [00:00<?, ?it/s]"
      ]
     },
     "metadata": {},
     "output_type": "display_data"
    },
    {
     "name": "stdout",
     "output_type": "stream",
     "text": [
      "Epoch:10/100 AVG Training Loss:0.494 AVG Validation Loss:0.495 AVG Training Acc 79.87 % AVG Validation Acc 79.70 %\n",
      "Epoch:20/100 AVG Training Loss:0.489 AVG Validation Loss:0.495 AVG Training Acc 79.92 % AVG Validation Acc 79.84 %\n",
      "Epoch:30/100 AVG Training Loss:0.479 AVG Validation Loss:0.498 AVG Training Acc 79.96 % AVG Validation Acc 79.44 %\n",
      "Epoch    33: reducing learning rate of group 0 to 1.0000e-03.\n",
      "Epoch:40/100 AVG Training Loss:0.461 AVG Validation Loss:0.511 AVG Training Acc 80.53 % AVG Validation Acc 79.70 %\n",
      "Epoch:50/100 AVG Training Loss:0.453 AVG Validation Loss:0.527 AVG Training Acc 80.81 % AVG Validation Acc 79.84 %\n",
      "Epoch:60/100 AVG Training Loss:0.449 AVG Validation Loss:0.527 AVG Training Acc 80.75 % AVG Validation Acc 79.70 %\n",
      "Epoch    64: reducing learning rate of group 0 to 1.0000e-04.\n",
      "Epoch:70/100 AVG Training Loss:0.442 AVG Validation Loss:0.537 AVG Training Acc 81.04 % AVG Validation Acc 79.57 %\n",
      "Epoch:80/100 AVG Training Loss:0.441 AVG Validation Loss:0.536 AVG Training Acc 80.93 % AVG Validation Acc 79.70 %\n",
      "Epoch:90/100 AVG Training Loss:0.439 AVG Validation Loss:0.534 AVG Training Acc 81.16 % AVG Validation Acc 79.70 %\n",
      "Epoch    95: reducing learning rate of group 0 to 1.0000e-05.\n",
      "Epoch:100/100 AVG Training Loss:0.440 AVG Validation Loss:0.542 AVG Training Acc 81.08 % AVG Validation Acc 79.44 %\n",
      "Split 73\n"
     ]
    },
    {
     "data": {
      "application/vnd.jupyter.widget-view+json": {
       "model_id": "7e5d0fa001ab423aab4d20a3cadf387a",
       "version_major": 2,
       "version_minor": 0
      },
      "text/plain": [
       "  0%|          | 0/100 [00:00<?, ?it/s]"
      ]
     },
     "metadata": {},
     "output_type": "display_data"
    },
    {
     "name": "stdout",
     "output_type": "stream",
     "text": [
      "Epoch:10/100 AVG Training Loss:0.494 AVG Validation Loss:0.491 AVG Training Acc 79.81 % AVG Validation Acc 80.24 %\n",
      "Epoch:20/100 AVG Training Loss:0.487 AVG Validation Loss:0.490 AVG Training Acc 79.80 % AVG Validation Acc 80.24 %\n",
      "Epoch:30/100 AVG Training Loss:0.480 AVG Validation Loss:0.499 AVG Training Acc 79.96 % AVG Validation Acc 80.11 %\n",
      "Epoch    31: reducing learning rate of group 0 to 1.0000e-03.\n",
      "Epoch:40/100 AVG Training Loss:0.462 AVG Validation Loss:0.507 AVG Training Acc 80.27 % AVG Validation Acc 79.84 %\n",
      "Epoch:50/100 AVG Training Loss:0.457 AVG Validation Loss:0.517 AVG Training Acc 80.45 % AVG Validation Acc 79.30 %\n",
      "Epoch:60/100 AVG Training Loss:0.452 AVG Validation Loss:0.521 AVG Training Acc 80.42 % AVG Validation Acc 79.57 %\n",
      "Epoch    62: reducing learning rate of group 0 to 1.0000e-04.\n",
      "Epoch:70/100 AVG Training Loss:0.447 AVG Validation Loss:0.524 AVG Training Acc 80.92 % AVG Validation Acc 79.57 %\n",
      "Epoch:80/100 AVG Training Loss:0.447 AVG Validation Loss:0.526 AVG Training Acc 80.95 % AVG Validation Acc 79.44 %\n",
      "Epoch:90/100 AVG Training Loss:0.444 AVG Validation Loss:0.527 AVG Training Acc 80.89 % AVG Validation Acc 79.30 %\n",
      "Epoch    93: reducing learning rate of group 0 to 1.0000e-05.\n",
      "Epoch:100/100 AVG Training Loss:0.446 AVG Validation Loss:0.527 AVG Training Acc 80.78 % AVG Validation Acc 79.57 %\n",
      "Split 74\n"
     ]
    },
    {
     "data": {
      "application/vnd.jupyter.widget-view+json": {
       "model_id": "ac3a965e92d14b79a2139dff80399308",
       "version_major": 2,
       "version_minor": 0
      },
      "text/plain": [
       "  0%|          | 0/100 [00:00<?, ?it/s]"
      ]
     },
     "metadata": {},
     "output_type": "display_data"
    },
    {
     "name": "stdout",
     "output_type": "stream",
     "text": [
      "Epoch:10/100 AVG Training Loss:0.489 AVG Validation Loss:0.540 AVG Training Acc 80.25 % AVG Validation Acc 76.34 %\n",
      "Epoch:20/100 AVG Training Loss:0.483 AVG Validation Loss:0.532 AVG Training Acc 80.30 % AVG Validation Acc 76.21 %\n",
      "Epoch    25: reducing learning rate of group 0 to 1.0000e-03.\n",
      "Epoch:30/100 AVG Training Loss:0.472 AVG Validation Loss:0.545 AVG Training Acc 80.62 % AVG Validation Acc 76.08 %\n",
      "Epoch:40/100 AVG Training Loss:0.466 AVG Validation Loss:0.543 AVG Training Acc 80.80 % AVG Validation Acc 76.08 %\n",
      "Epoch:50/100 AVG Training Loss:0.459 AVG Validation Loss:0.551 AVG Training Acc 80.99 % AVG Validation Acc 76.08 %\n",
      "Epoch    56: reducing learning rate of group 0 to 1.0000e-04.\n",
      "Epoch:60/100 AVG Training Loss:0.454 AVG Validation Loss:0.559 AVG Training Acc 81.26 % AVG Validation Acc 75.94 %\n",
      "Epoch:70/100 AVG Training Loss:0.454 AVG Validation Loss:0.562 AVG Training Acc 81.28 % AVG Validation Acc 76.08 %\n",
      "Epoch:80/100 AVG Training Loss:0.454 AVG Validation Loss:0.565 AVG Training Acc 81.40 % AVG Validation Acc 76.21 %\n",
      "Epoch    87: reducing learning rate of group 0 to 1.0000e-05.\n",
      "Epoch:90/100 AVG Training Loss:0.451 AVG Validation Loss:0.562 AVG Training Acc 81.37 % AVG Validation Acc 76.08 %\n",
      "Epoch:100/100 AVG Training Loss:0.452 AVG Validation Loss:0.562 AVG Training Acc 81.41 % AVG Validation Acc 76.34 %\n",
      "Split 75\n"
     ]
    },
    {
     "data": {
      "application/vnd.jupyter.widget-view+json": {
       "model_id": "29e51440d14f4877b0b7f0fb7114f014",
       "version_major": 2,
       "version_minor": 0
      },
      "text/plain": [
       "  0%|          | 0/100 [00:00<?, ?it/s]"
      ]
     },
     "metadata": {},
     "output_type": "display_data"
    },
    {
     "name": "stdout",
     "output_type": "stream",
     "text": [
      "Epoch:10/100 AVG Training Loss:0.493 AVG Validation Loss:0.514 AVG Training Acc 80.02 % AVG Validation Acc 78.63 %\n",
      "Epoch:20/100 AVG Training Loss:0.488 AVG Validation Loss:0.510 AVG Training Acc 79.99 % AVG Validation Acc 78.63 %\n",
      "Epoch:30/100 AVG Training Loss:0.484 AVG Validation Loss:0.516 AVG Training Acc 80.05 % AVG Validation Acc 78.63 %\n",
      "Epoch    34: reducing learning rate of group 0 to 1.0000e-03.\n",
      "Epoch:40/100 AVG Training Loss:0.469 AVG Validation Loss:0.516 AVG Training Acc 80.29 % AVG Validation Acc 78.63 %\n",
      "Epoch:50/100 AVG Training Loss:0.463 AVG Validation Loss:0.526 AVG Training Acc 80.38 % AVG Validation Acc 78.49 %\n",
      "Epoch:60/100 AVG Training Loss:0.459 AVG Validation Loss:0.534 AVG Training Acc 80.54 % AVG Validation Acc 78.23 %\n",
      "Epoch    65: reducing learning rate of group 0 to 1.0000e-04.\n",
      "Epoch:70/100 AVG Training Loss:0.456 AVG Validation Loss:0.542 AVG Training Acc 80.72 % AVG Validation Acc 78.63 %\n",
      "Epoch:80/100 AVG Training Loss:0.452 AVG Validation Loss:0.544 AVG Training Acc 80.93 % AVG Validation Acc 78.63 %\n",
      "Epoch:90/100 AVG Training Loss:0.450 AVG Validation Loss:0.543 AVG Training Acc 80.87 % AVG Validation Acc 78.49 %\n",
      "Epoch    96: reducing learning rate of group 0 to 1.0000e-05.\n",
      "Epoch:100/100 AVG Training Loss:0.450 AVG Validation Loss:0.543 AVG Training Acc 80.74 % AVG Validation Acc 78.63 %\n",
      "Split 76\n"
     ]
    },
    {
     "data": {
      "application/vnd.jupyter.widget-view+json": {
       "model_id": "8f4ae595b4e34c7a957179297f267459",
       "version_major": 2,
       "version_minor": 0
      },
      "text/plain": [
       "  0%|          | 0/100 [00:00<?, ?it/s]"
      ]
     },
     "metadata": {},
     "output_type": "display_data"
    },
    {
     "name": "stdout",
     "output_type": "stream",
     "text": [
      "Epoch:10/100 AVG Training Loss:0.499 AVG Validation Loss:0.476 AVG Training Acc 79.66 % AVG Validation Acc 81.45 %\n",
      "Epoch:20/100 AVG Training Loss:0.490 AVG Validation Loss:0.462 AVG Training Acc 79.71 % AVG Validation Acc 81.45 %\n",
      "Epoch:30/100 AVG Training Loss:0.491 AVG Validation Loss:0.466 AVG Training Acc 79.69 % AVG Validation Acc 81.72 %\n",
      "Epoch    35: reducing learning rate of group 0 to 1.0000e-03.\n",
      "Epoch:40/100 AVG Training Loss:0.500 AVG Validation Loss:0.472 AVG Training Acc 79.71 % AVG Validation Acc 81.45 %\n",
      "Epoch:50/100 AVG Training Loss:0.498 AVG Validation Loss:0.469 AVG Training Acc 79.69 % AVG Validation Acc 81.45 %\n",
      "Epoch:60/100 AVG Training Loss:0.493 AVG Validation Loss:0.468 AVG Training Acc 79.68 % AVG Validation Acc 81.45 %\n",
      "Epoch    66: reducing learning rate of group 0 to 1.0000e-04.\n",
      "Epoch:70/100 AVG Training Loss:0.495 AVG Validation Loss:0.467 AVG Training Acc 79.72 % AVG Validation Acc 81.45 %\n",
      "Epoch:80/100 AVG Training Loss:0.495 AVG Validation Loss:0.466 AVG Training Acc 79.72 % AVG Validation Acc 81.45 %\n",
      "Epoch:90/100 AVG Training Loss:0.493 AVG Validation Loss:0.466 AVG Training Acc 79.80 % AVG Validation Acc 81.45 %\n",
      "Epoch    97: reducing learning rate of group 0 to 1.0000e-05.\n",
      "Epoch:100/100 AVG Training Loss:0.493 AVG Validation Loss:0.466 AVG Training Acc 79.72 % AVG Validation Acc 81.45 %\n",
      "Split 77\n"
     ]
    },
    {
     "data": {
      "application/vnd.jupyter.widget-view+json": {
       "model_id": "500348119f784b9b860ed0985bcd456d",
       "version_major": 2,
       "version_minor": 0
      },
      "text/plain": [
       "  0%|          | 0/100 [00:00<?, ?it/s]"
      ]
     },
     "metadata": {},
     "output_type": "display_data"
    },
    {
     "name": "stdout",
     "output_type": "stream",
     "text": [
      "Epoch:10/100 AVG Training Loss:0.499 AVG Validation Loss:0.464 AVG Training Acc 79.49 % AVG Validation Acc 82.50 %\n",
      "Epoch    18: reducing learning rate of group 0 to 1.0000e-03.\n",
      "Epoch:20/100 AVG Training Loss:0.487 AVG Validation Loss:0.469 AVG Training Acc 79.59 % AVG Validation Acc 82.50 %\n",
      "Epoch:30/100 AVG Training Loss:0.479 AVG Validation Loss:0.472 AVG Training Acc 79.80 % AVG Validation Acc 82.37 %\n",
      "Epoch:40/100 AVG Training Loss:0.470 AVG Validation Loss:0.474 AVG Training Acc 80.11 % AVG Validation Acc 82.37 %\n",
      "Epoch    49: reducing learning rate of group 0 to 1.0000e-04.\n",
      "Epoch:50/100 AVG Training Loss:0.463 AVG Validation Loss:0.487 AVG Training Acc 80.10 % AVG Validation Acc 81.97 %\n",
      "Epoch:60/100 AVG Training Loss:0.457 AVG Validation Loss:0.489 AVG Training Acc 80.17 % AVG Validation Acc 81.97 %\n",
      "Epoch:70/100 AVG Training Loss:0.455 AVG Validation Loss:0.488 AVG Training Acc 80.23 % AVG Validation Acc 81.56 %\n",
      "Epoch:80/100 AVG Training Loss:0.455 AVG Validation Loss:0.491 AVG Training Acc 80.38 % AVG Validation Acc 81.56 %\n",
      "Epoch    80: reducing learning rate of group 0 to 1.0000e-05.\n",
      "Epoch:90/100 AVG Training Loss:0.453 AVG Validation Loss:0.488 AVG Training Acc 80.62 % AVG Validation Acc 81.70 %\n",
      "Epoch:100/100 AVG Training Loss:0.453 AVG Validation Loss:0.490 AVG Training Acc 80.52 % AVG Validation Acc 81.70 %\n",
      "Split 78\n"
     ]
    },
    {
     "data": {
      "application/vnd.jupyter.widget-view+json": {
       "model_id": "4aa1f4e40a714195a4594b5e1f93ae30",
       "version_major": 2,
       "version_minor": 0
      },
      "text/plain": [
       "  0%|          | 0/100 [00:00<?, ?it/s]"
      ]
     },
     "metadata": {},
     "output_type": "display_data"
    },
    {
     "name": "stdout",
     "output_type": "stream",
     "text": [
      "Epoch:10/100 AVG Training Loss:0.498 AVG Validation Loss:0.480 AVG Training Acc 79.74 % AVG Validation Acc 81.02 %\n",
      "Epoch:20/100 AVG Training Loss:0.496 AVG Validation Loss:0.472 AVG Training Acc 79.74 % AVG Validation Acc 81.02 %\n",
      "Epoch:30/100 AVG Training Loss:0.488 AVG Validation Loss:0.474 AVG Training Acc 79.83 % AVG Validation Acc 80.48 %\n",
      "Epoch    35: reducing learning rate of group 0 to 1.0000e-03.\n",
      "Epoch:40/100 AVG Training Loss:0.478 AVG Validation Loss:0.470 AVG Training Acc 80.20 % AVG Validation Acc 80.35 %\n",
      "Epoch:50/100 AVG Training Loss:0.470 AVG Validation Loss:0.476 AVG Training Acc 80.58 % AVG Validation Acc 79.95 %\n",
      "Epoch:60/100 AVG Training Loss:0.465 AVG Validation Loss:0.477 AVG Training Acc 80.71 % AVG Validation Acc 80.08 %\n",
      "Epoch    66: reducing learning rate of group 0 to 1.0000e-04.\n",
      "Epoch:70/100 AVG Training Loss:0.459 AVG Validation Loss:0.486 AVG Training Acc 80.91 % AVG Validation Acc 80.08 %\n",
      "Epoch:80/100 AVG Training Loss:0.460 AVG Validation Loss:0.488 AVG Training Acc 80.91 % AVG Validation Acc 79.95 %\n",
      "Epoch:90/100 AVG Training Loss:0.460 AVG Validation Loss:0.488 AVG Training Acc 80.91 % AVG Validation Acc 79.95 %\n",
      "Epoch    97: reducing learning rate of group 0 to 1.0000e-05.\n",
      "Epoch:100/100 AVG Training Loss:0.456 AVG Validation Loss:0.490 AVG Training Acc 81.07 % AVG Validation Acc 79.81 %\n",
      "Split 79\n"
     ]
    },
    {
     "data": {
      "application/vnd.jupyter.widget-view+json": {
       "model_id": "050bf29b72d140a6b3295df998942242",
       "version_major": 2,
       "version_minor": 0
      },
      "text/plain": [
       "  0%|          | 0/100 [00:00<?, ?it/s]"
      ]
     },
     "metadata": {},
     "output_type": "display_data"
    },
    {
     "name": "stdout",
     "output_type": "stream",
     "text": [
      "Epoch:10/100 AVG Training Loss:0.496 AVG Validation Loss:0.490 AVG Training Acc 79.83 % AVG Validation Acc 79.81 %\n",
      "Epoch:20/100 AVG Training Loss:0.491 AVG Validation Loss:0.483 AVG Training Acc 79.89 % AVG Validation Acc 79.95 %\n",
      "Epoch:30/100 AVG Training Loss:0.487 AVG Validation Loss:0.481 AVG Training Acc 79.92 % AVG Validation Acc 80.08 %\n",
      "Epoch    38: reducing learning rate of group 0 to 1.0000e-03.\n",
      "Epoch:40/100 AVG Training Loss:0.473 AVG Validation Loss:0.480 AVG Training Acc 80.28 % AVG Validation Acc 80.48 %\n",
      "Epoch:50/100 AVG Training Loss:0.463 AVG Validation Loss:0.494 AVG Training Acc 80.80 % AVG Validation Acc 80.22 %\n",
      "Epoch:60/100 AVG Training Loss:0.458 AVG Validation Loss:0.501 AVG Training Acc 80.65 % AVG Validation Acc 79.54 %\n",
      "Epoch    69: reducing learning rate of group 0 to 1.0000e-04.\n",
      "Epoch:70/100 AVG Training Loss:0.455 AVG Validation Loss:0.501 AVG Training Acc 80.94 % AVG Validation Acc 79.54 %\n",
      "Epoch:80/100 AVG Training Loss:0.451 AVG Validation Loss:0.505 AVG Training Acc 81.14 % AVG Validation Acc 79.41 %\n",
      "Epoch:90/100 AVG Training Loss:0.449 AVG Validation Loss:0.510 AVG Training Acc 81.14 % AVG Validation Acc 79.54 %\n",
      "Epoch:100/100 AVG Training Loss:0.448 AVG Validation Loss:0.516 AVG Training Acc 81.14 % AVG Validation Acc 79.41 %\n",
      "Epoch   100: reducing learning rate of group 0 to 1.0000e-05.\n",
      "Split 80\n"
     ]
    },
    {
     "data": {
      "application/vnd.jupyter.widget-view+json": {
       "model_id": "692dd280894946b9a7a9d0e5ff88bf3c",
       "version_major": 2,
       "version_minor": 0
      },
      "text/plain": [
       "  0%|          | 0/100 [00:00<?, ?it/s]"
      ]
     },
     "metadata": {},
     "output_type": "display_data"
    },
    {
     "name": "stdout",
     "output_type": "stream",
     "text": [
      "Epoch:10/100 AVG Training Loss:0.497 AVG Validation Loss:0.481 AVG Training Acc 79.73 % AVG Validation Acc 81.29 %\n",
      "Epoch:20/100 AVG Training Loss:0.492 AVG Validation Loss:0.475 AVG Training Acc 79.75 % AVG Validation Acc 81.02 %\n",
      "Epoch    28: reducing learning rate of group 0 to 1.0000e-03.\n",
      "Epoch:30/100 AVG Training Loss:0.475 AVG Validation Loss:0.485 AVG Training Acc 80.02 % AVG Validation Acc 80.89 %\n",
      "Epoch:40/100 AVG Training Loss:0.465 AVG Validation Loss:0.488 AVG Training Acc 80.52 % AVG Validation Acc 80.75 %\n",
      "Epoch:50/100 AVG Training Loss:0.458 AVG Validation Loss:0.494 AVG Training Acc 80.52 % AVG Validation Acc 80.48 %\n",
      "Epoch    59: reducing learning rate of group 0 to 1.0000e-04.\n",
      "Epoch:60/100 AVG Training Loss:0.449 AVG Validation Loss:0.501 AVG Training Acc 81.01 % AVG Validation Acc 80.22 %\n",
      "Epoch:70/100 AVG Training Loss:0.447 AVG Validation Loss:0.501 AVG Training Acc 81.13 % AVG Validation Acc 80.35 %\n",
      "Epoch:80/100 AVG Training Loss:0.448 AVG Validation Loss:0.502 AVG Training Acc 81.17 % AVG Validation Acc 80.08 %\n",
      "Epoch:90/100 AVG Training Loss:0.445 AVG Validation Loss:0.501 AVG Training Acc 81.31 % AVG Validation Acc 80.08 %\n",
      "Epoch    90: reducing learning rate of group 0 to 1.0000e-05.\n",
      "Epoch:100/100 AVG Training Loss:0.444 AVG Validation Loss:0.500 AVG Training Acc 81.26 % AVG Validation Acc 80.22 %\n",
      "Split 81\n"
     ]
    },
    {
     "data": {
      "application/vnd.jupyter.widget-view+json": {
       "model_id": "c9b220c075bb42ef91a96aae9a044a4f",
       "version_major": 2,
       "version_minor": 0
      },
      "text/plain": [
       "  0%|          | 0/100 [00:00<?, ?it/s]"
      ]
     },
     "metadata": {},
     "output_type": "display_data"
    },
    {
     "name": "stdout",
     "output_type": "stream",
     "text": [
      "Epoch:10/100 AVG Training Loss:0.491 AVG Validation Loss:0.524 AVG Training Acc 80.08 % AVG Validation Acc 77.42 %\n",
      "Epoch:20/100 AVG Training Loss:0.486 AVG Validation Loss:0.516 AVG Training Acc 80.10 % AVG Validation Acc 77.42 %\n",
      "Epoch:30/100 AVG Training Loss:0.483 AVG Validation Loss:0.522 AVG Training Acc 80.07 % AVG Validation Acc 77.69 %\n",
      "Epoch    30: reducing learning rate of group 0 to 1.0000e-03.\n",
      "Epoch:40/100 AVG Training Loss:0.469 AVG Validation Loss:0.516 AVG Training Acc 80.27 % AVG Validation Acc 77.69 %\n",
      "Epoch:50/100 AVG Training Loss:0.462 AVG Validation Loss:0.522 AVG Training Acc 80.44 % AVG Validation Acc 77.55 %\n",
      "Epoch:60/100 AVG Training Loss:0.458 AVG Validation Loss:0.530 AVG Training Acc 80.56 % AVG Validation Acc 77.55 %\n",
      "Epoch    61: reducing learning rate of group 0 to 1.0000e-04.\n",
      "Epoch:70/100 AVG Training Loss:0.453 AVG Validation Loss:0.532 AVG Training Acc 80.78 % AVG Validation Acc 77.28 %\n",
      "Epoch:80/100 AVG Training Loss:0.450 AVG Validation Loss:0.533 AVG Training Acc 80.81 % AVG Validation Acc 77.55 %\n",
      "Epoch:90/100 AVG Training Loss:0.449 AVG Validation Loss:0.536 AVG Training Acc 80.95 % AVG Validation Acc 77.69 %\n",
      "Epoch    92: reducing learning rate of group 0 to 1.0000e-05.\n",
      "Epoch:100/100 AVG Training Loss:0.451 AVG Validation Loss:0.536 AVG Training Acc 80.96 % AVG Validation Acc 77.55 %\n",
      "Split 82\n"
     ]
    },
    {
     "data": {
      "application/vnd.jupyter.widget-view+json": {
       "model_id": "24a60c7ba78643919d6f6a615b8c8680",
       "version_major": 2,
       "version_minor": 0
      },
      "text/plain": [
       "  0%|          | 0/100 [00:00<?, ?it/s]"
      ]
     },
     "metadata": {},
     "output_type": "display_data"
    },
    {
     "name": "stdout",
     "output_type": "stream",
     "text": [
      "Epoch:10/100 AVG Training Loss:0.491 AVG Validation Loss:0.526 AVG Training Acc 80.10 % AVG Validation Acc 77.55 %\n",
      "Epoch:20/100 AVG Training Loss:0.486 AVG Validation Loss:0.521 AVG Training Acc 80.08 % AVG Validation Acc 77.42 %\n",
      "Epoch:30/100 AVG Training Loss:0.477 AVG Validation Loss:0.524 AVG Training Acc 80.36 % AVG Validation Acc 77.42 %\n",
      "Epoch    34: reducing learning rate of group 0 to 1.0000e-03.\n",
      "Epoch:40/100 AVG Training Loss:0.476 AVG Validation Loss:0.520 AVG Training Acc 80.45 % AVG Validation Acc 77.55 %\n",
      "Epoch:50/100 AVG Training Loss:0.468 AVG Validation Loss:0.521 AVG Training Acc 80.62 % AVG Validation Acc 77.15 %\n",
      "Epoch:60/100 AVG Training Loss:0.464 AVG Validation Loss:0.523 AVG Training Acc 80.89 % AVG Validation Acc 77.55 %\n",
      "Epoch    65: reducing learning rate of group 0 to 1.0000e-04.\n",
      "Epoch:70/100 AVG Training Loss:0.453 AVG Validation Loss:0.523 AVG Training Acc 81.22 % AVG Validation Acc 77.42 %\n",
      "Epoch:80/100 AVG Training Loss:0.454 AVG Validation Loss:0.526 AVG Training Acc 81.31 % AVG Validation Acc 77.28 %\n",
      "Epoch:90/100 AVG Training Loss:0.456 AVG Validation Loss:0.525 AVG Training Acc 81.13 % AVG Validation Acc 77.28 %\n",
      "Epoch    96: reducing learning rate of group 0 to 1.0000e-05.\n",
      "Epoch:100/100 AVG Training Loss:0.451 AVG Validation Loss:0.525 AVG Training Acc 81.31 % AVG Validation Acc 77.02 %\n",
      "Split 83\n"
     ]
    },
    {
     "data": {
      "application/vnd.jupyter.widget-view+json": {
       "model_id": "84d0b2bb385c4c32a7a3c62d106b6bff",
       "version_major": 2,
       "version_minor": 0
      },
      "text/plain": [
       "  0%|          | 0/100 [00:00<?, ?it/s]"
      ]
     },
     "metadata": {},
     "output_type": "display_data"
    },
    {
     "name": "stdout",
     "output_type": "stream",
     "text": [
      "Epoch:10/100 AVG Training Loss:0.495 AVG Validation Loss:0.487 AVG Training Acc 79.68 % AVG Validation Acc 80.65 %\n",
      "Epoch:20/100 AVG Training Loss:0.492 AVG Validation Loss:0.490 AVG Training Acc 79.78 % AVG Validation Acc 80.91 %\n",
      "Epoch    25: reducing learning rate of group 0 to 1.0000e-03.\n",
      "Epoch:30/100 AVG Training Loss:0.479 AVG Validation Loss:0.484 AVG Training Acc 80.01 % AVG Validation Acc 80.65 %\n",
      "Epoch:40/100 AVG Training Loss:0.476 AVG Validation Loss:0.494 AVG Training Acc 80.11 % AVG Validation Acc 80.38 %\n",
      "Epoch:50/100 AVG Training Loss:0.472 AVG Validation Loss:0.503 AVG Training Acc 80.27 % AVG Validation Acc 80.11 %\n",
      "Epoch    56: reducing learning rate of group 0 to 1.0000e-04.\n",
      "Epoch:60/100 AVG Training Loss:0.465 AVG Validation Loss:0.499 AVG Training Acc 80.47 % AVG Validation Acc 80.11 %\n",
      "Epoch:70/100 AVG Training Loss:0.465 AVG Validation Loss:0.501 AVG Training Acc 80.38 % AVG Validation Acc 79.97 %\n",
      "Epoch:80/100 AVG Training Loss:0.466 AVG Validation Loss:0.501 AVG Training Acc 80.38 % AVG Validation Acc 79.84 %\n",
      "Epoch    87: reducing learning rate of group 0 to 1.0000e-05.\n",
      "Epoch:90/100 AVG Training Loss:0.463 AVG Validation Loss:0.501 AVG Training Acc 80.51 % AVG Validation Acc 80.11 %\n",
      "Epoch:100/100 AVG Training Loss:0.463 AVG Validation Loss:0.503 AVG Training Acc 80.42 % AVG Validation Acc 79.97 %\n",
      "Split 84\n"
     ]
    },
    {
     "data": {
      "application/vnd.jupyter.widget-view+json": {
       "model_id": "59a9e19bc62e4427b242edf0b236b553",
       "version_major": 2,
       "version_minor": 0
      },
      "text/plain": [
       "  0%|          | 0/100 [00:00<?, ?it/s]"
      ]
     },
     "metadata": {},
     "output_type": "display_data"
    },
    {
     "name": "stdout",
     "output_type": "stream",
     "text": [
      "Epoch:10/100 AVG Training Loss:0.500 AVG Validation Loss:0.456 AVG Training Acc 79.57 % AVG Validation Acc 82.39 %\n",
      "Epoch:20/100 AVG Training Loss:0.493 AVG Validation Loss:0.457 AVG Training Acc 79.50 % AVG Validation Acc 81.99 %\n",
      "Epoch    27: reducing learning rate of group 0 to 1.0000e-03.\n",
      "Epoch:30/100 AVG Training Loss:0.482 AVG Validation Loss:0.454 AVG Training Acc 79.71 % AVG Validation Acc 82.12 %\n",
      "Epoch:40/100 AVG Training Loss:0.476 AVG Validation Loss:0.460 AVG Training Acc 79.89 % AVG Validation Acc 81.85 %\n",
      "Epoch:50/100 AVG Training Loss:0.470 AVG Validation Loss:0.466 AVG Training Acc 80.02 % AVG Validation Acc 81.85 %\n",
      "Epoch    58: reducing learning rate of group 0 to 1.0000e-04.\n",
      "Epoch:60/100 AVG Training Loss:0.461 AVG Validation Loss:0.472 AVG Training Acc 80.48 % AVG Validation Acc 81.85 %\n",
      "Epoch:70/100 AVG Training Loss:0.459 AVG Validation Loss:0.475 AVG Training Acc 80.45 % AVG Validation Acc 82.12 %\n",
      "Epoch:80/100 AVG Training Loss:0.458 AVG Validation Loss:0.475 AVG Training Acc 80.63 % AVG Validation Acc 81.72 %\n",
      "Epoch    89: reducing learning rate of group 0 to 1.0000e-05.\n",
      "Epoch:90/100 AVG Training Loss:0.458 AVG Validation Loss:0.474 AVG Training Acc 80.60 % AVG Validation Acc 81.99 %\n",
      "Epoch:100/100 AVG Training Loss:0.457 AVG Validation Loss:0.474 AVG Training Acc 80.66 % AVG Validation Acc 81.99 %\n",
      "Split 85\n"
     ]
    },
    {
     "data": {
      "application/vnd.jupyter.widget-view+json": {
       "model_id": "5a48add1050945ce861cf0c9e4da2e62",
       "version_major": 2,
       "version_minor": 0
      },
      "text/plain": [
       "  0%|          | 0/100 [00:00<?, ?it/s]"
      ]
     },
     "metadata": {},
     "output_type": "display_data"
    },
    {
     "name": "stdout",
     "output_type": "stream",
     "text": [
      "Epoch:10/100 AVG Training Loss:0.492 AVG Validation Loss:0.502 AVG Training Acc 79.95 % AVG Validation Acc 79.30 %\n",
      "Epoch:20/100 AVG Training Loss:0.489 AVG Validation Loss:0.506 AVG Training Acc 79.95 % AVG Validation Acc 78.90 %\n",
      "Epoch:30/100 AVG Training Loss:0.482 AVG Validation Loss:0.496 AVG Training Acc 80.04 % AVG Validation Acc 79.30 %\n",
      "Epoch:40/100 AVG Training Loss:0.478 AVG Validation Loss:0.502 AVG Training Acc 80.16 % AVG Validation Acc 79.03 %\n",
      "Epoch:50/100 AVG Training Loss:0.475 AVG Validation Loss:0.497 AVG Training Acc 80.16 % AVG Validation Acc 79.30 %\n",
      "Epoch    59: reducing learning rate of group 0 to 1.0000e-03.\n",
      "Epoch:60/100 AVG Training Loss:0.468 AVG Validation Loss:0.510 AVG Training Acc 80.32 % AVG Validation Acc 79.30 %\n",
      "Epoch:70/100 AVG Training Loss:0.455 AVG Validation Loss:0.519 AVG Training Acc 80.51 % AVG Validation Acc 79.70 %\n",
      "Epoch:80/100 AVG Training Loss:0.447 AVG Validation Loss:0.526 AVG Training Acc 81.19 % AVG Validation Acc 79.30 %\n",
      "Epoch:90/100 AVG Training Loss:0.443 AVG Validation Loss:0.541 AVG Training Acc 81.35 % AVG Validation Acc 78.63 %\n",
      "Epoch    90: reducing learning rate of group 0 to 1.0000e-04.\n",
      "Epoch:100/100 AVG Training Loss:0.438 AVG Validation Loss:0.544 AVG Training Acc 81.46 % AVG Validation Acc 78.63 %\n",
      "Split 86\n"
     ]
    },
    {
     "data": {
      "application/vnd.jupyter.widget-view+json": {
       "model_id": "ae79b0cebd684073a9804902d9ad94bd",
       "version_major": 2,
       "version_minor": 0
      },
      "text/plain": [
       "  0%|          | 0/100 [00:00<?, ?it/s]"
      ]
     },
     "metadata": {},
     "output_type": "display_data"
    },
    {
     "name": "stdout",
     "output_type": "stream",
     "text": [
      "Epoch:10/100 AVG Training Loss:0.497 AVG Validation Loss:0.504 AVG Training Acc 79.92 % AVG Validation Acc 79.44 %\n",
      "Epoch:20/100 AVG Training Loss:0.492 AVG Validation Loss:0.501 AVG Training Acc 79.87 % AVG Validation Acc 79.44 %\n",
      "Epoch    24: reducing learning rate of group 0 to 1.0000e-03.\n",
      "Epoch:30/100 AVG Training Loss:0.481 AVG Validation Loss:0.496 AVG Training Acc 79.93 % AVG Validation Acc 79.44 %\n",
      "Epoch:40/100 AVG Training Loss:0.478 AVG Validation Loss:0.499 AVG Training Acc 79.98 % AVG Validation Acc 79.70 %\n",
      "Epoch:50/100 AVG Training Loss:0.471 AVG Validation Loss:0.503 AVG Training Acc 80.14 % AVG Validation Acc 79.70 %\n",
      "Epoch    55: reducing learning rate of group 0 to 1.0000e-04.\n",
      "Epoch:60/100 AVG Training Loss:0.468 AVG Validation Loss:0.503 AVG Training Acc 80.26 % AVG Validation Acc 79.97 %\n",
      "Epoch:70/100 AVG Training Loss:0.468 AVG Validation Loss:0.504 AVG Training Acc 80.17 % AVG Validation Acc 79.70 %\n",
      "Epoch:80/100 AVG Training Loss:0.467 AVG Validation Loss:0.507 AVG Training Acc 80.14 % AVG Validation Acc 79.57 %\n",
      "Epoch    86: reducing learning rate of group 0 to 1.0000e-05.\n",
      "Epoch:90/100 AVG Training Loss:0.466 AVG Validation Loss:0.507 AVG Training Acc 80.33 % AVG Validation Acc 79.57 %\n",
      "Epoch:100/100 AVG Training Loss:0.466 AVG Validation Loss:0.505 AVG Training Acc 80.30 % AVG Validation Acc 79.70 %\n",
      "Split 87\n"
     ]
    },
    {
     "data": {
      "application/vnd.jupyter.widget-view+json": {
       "model_id": "4afe935c47ce4a27bcd2186f0bff4ec0",
       "version_major": 2,
       "version_minor": 0
      },
      "text/plain": [
       "  0%|          | 0/100 [00:00<?, ?it/s]"
      ]
     },
     "metadata": {},
     "output_type": "display_data"
    },
    {
     "name": "stdout",
     "output_type": "stream",
     "text": [
      "Epoch:10/100 AVG Training Loss:0.500 AVG Validation Loss:0.467 AVG Training Acc 79.61 % AVG Validation Acc 81.70 %\n",
      "Epoch:20/100 AVG Training Loss:0.495 AVG Validation Loss:0.462 AVG Training Acc 79.75 % AVG Validation Acc 81.70 %\n",
      "Epoch    28: reducing learning rate of group 0 to 1.0000e-03.\n",
      "Epoch:30/100 AVG Training Loss:0.484 AVG Validation Loss:0.461 AVG Training Acc 79.90 % AVG Validation Acc 81.70 %\n",
      "Epoch:40/100 AVG Training Loss:0.474 AVG Validation Loss:0.463 AVG Training Acc 80.26 % AVG Validation Acc 81.56 %\n",
      "Epoch:50/100 AVG Training Loss:0.470 AVG Validation Loss:0.463 AVG Training Acc 80.50 % AVG Validation Acc 81.56 %\n",
      "Epoch    59: reducing learning rate of group 0 to 1.0000e-04.\n",
      "Epoch:60/100 AVG Training Loss:0.462 AVG Validation Loss:0.465 AVG Training Acc 80.76 % AVG Validation Acc 81.02 %\n",
      "Epoch:70/100 AVG Training Loss:0.458 AVG Validation Loss:0.467 AVG Training Acc 81.00 % AVG Validation Acc 80.89 %\n",
      "Epoch:80/100 AVG Training Loss:0.458 AVG Validation Loss:0.472 AVG Training Acc 81.13 % AVG Validation Acc 80.48 %\n",
      "Epoch:90/100 AVG Training Loss:0.457 AVG Validation Loss:0.470 AVG Training Acc 81.08 % AVG Validation Acc 80.48 %\n",
      "Epoch    90: reducing learning rate of group 0 to 1.0000e-05.\n",
      "Epoch:100/100 AVG Training Loss:0.457 AVG Validation Loss:0.471 AVG Training Acc 81.05 % AVG Validation Acc 80.62 %\n",
      "Split 88\n"
     ]
    },
    {
     "data": {
      "application/vnd.jupyter.widget-view+json": {
       "model_id": "e8b4675d8abe4ccbbd987885a0fb03e3",
       "version_major": 2,
       "version_minor": 0
      },
      "text/plain": [
       "  0%|          | 0/100 [00:00<?, ?it/s]"
      ]
     },
     "metadata": {},
     "output_type": "display_data"
    },
    {
     "name": "stdout",
     "output_type": "stream",
     "text": [
      "Epoch:10/100 AVG Training Loss:0.498 AVG Validation Loss:0.477 AVG Training Acc 79.70 % AVG Validation Acc 81.16 %\n",
      "Epoch    18: reducing learning rate of group 0 to 1.0000e-03.\n",
      "Epoch:20/100 AVG Training Loss:0.488 AVG Validation Loss:0.475 AVG Training Acc 79.77 % AVG Validation Acc 81.16 %\n",
      "Epoch:30/100 AVG Training Loss:0.487 AVG Validation Loss:0.477 AVG Training Acc 79.89 % AVG Validation Acc 81.02 %\n",
      "Epoch:40/100 AVG Training Loss:0.486 AVG Validation Loss:0.474 AVG Training Acc 79.78 % AVG Validation Acc 81.16 %\n",
      "Epoch:50/100 AVG Training Loss:0.483 AVG Validation Loss:0.476 AVG Training Acc 79.80 % AVG Validation Acc 81.02 %\n",
      "Epoch    52: reducing learning rate of group 0 to 1.0000e-04.\n",
      "Epoch:60/100 AVG Training Loss:0.482 AVG Validation Loss:0.477 AVG Training Acc 80.07 % AVG Validation Acc 80.75 %\n",
      "Epoch:70/100 AVG Training Loss:0.482 AVG Validation Loss:0.477 AVG Training Acc 80.02 % AVG Validation Acc 80.75 %\n",
      "Epoch:80/100 AVG Training Loss:0.481 AVG Validation Loss:0.478 AVG Training Acc 80.05 % AVG Validation Acc 80.89 %\n",
      "Epoch    83: reducing learning rate of group 0 to 1.0000e-05.\n",
      "Epoch:90/100 AVG Training Loss:0.482 AVG Validation Loss:0.478 AVG Training Acc 79.92 % AVG Validation Acc 80.89 %\n",
      "Epoch:100/100 AVG Training Loss:0.483 AVG Validation Loss:0.478 AVG Training Acc 80.01 % AVG Validation Acc 80.89 %\n",
      "Split 89\n"
     ]
    },
    {
     "data": {
      "application/vnd.jupyter.widget-view+json": {
       "model_id": "ac5d9fdc06174d05a9f506a18103765a",
       "version_major": 2,
       "version_minor": 0
      },
      "text/plain": [
       "  0%|          | 0/100 [00:00<?, ?it/s]"
      ]
     },
     "metadata": {},
     "output_type": "display_data"
    },
    {
     "name": "stdout",
     "output_type": "stream",
     "text": [
      "Epoch:10/100 AVG Training Loss:0.494 AVG Validation Loss:0.486 AVG Training Acc 79.80 % AVG Validation Acc 80.35 %\n",
      "Epoch:20/100 AVG Training Loss:0.489 AVG Validation Loss:0.489 AVG Training Acc 79.73 % AVG Validation Acc 80.22 %\n",
      "Epoch:30/100 AVG Training Loss:0.482 AVG Validation Loss:0.483 AVG Training Acc 79.89 % AVG Validation Acc 80.35 %\n",
      "Epoch    36: reducing learning rate of group 0 to 1.0000e-03.\n",
      "Epoch:40/100 AVG Training Loss:0.468 AVG Validation Loss:0.491 AVG Training Acc 80.16 % AVG Validation Acc 80.48 %\n",
      "Epoch:50/100 AVG Training Loss:0.458 AVG Validation Loss:0.493 AVG Training Acc 80.43 % AVG Validation Acc 80.48 %\n",
      "Epoch:60/100 AVG Training Loss:0.451 AVG Validation Loss:0.503 AVG Training Acc 81.04 % AVG Validation Acc 80.35 %\n",
      "Epoch    67: reducing learning rate of group 0 to 1.0000e-04.\n",
      "Epoch:70/100 AVG Training Loss:0.440 AVG Validation Loss:0.505 AVG Training Acc 81.23 % AVG Validation Acc 80.22 %\n",
      "Epoch:80/100 AVG Training Loss:0.437 AVG Validation Loss:0.509 AVG Training Acc 81.20 % AVG Validation Acc 80.48 %\n",
      "Epoch:90/100 AVG Training Loss:0.436 AVG Validation Loss:0.513 AVG Training Acc 81.32 % AVG Validation Acc 80.08 %\n",
      "Epoch    98: reducing learning rate of group 0 to 1.0000e-05.\n",
      "Epoch:100/100 AVG Training Loss:0.436 AVG Validation Loss:0.515 AVG Training Acc 81.43 % AVG Validation Acc 80.08 %\n",
      "Split 90\n"
     ]
    },
    {
     "data": {
      "application/vnd.jupyter.widget-view+json": {
       "model_id": "3da81db387474464b28189ed646c3bd6",
       "version_major": 2,
       "version_minor": 0
      },
      "text/plain": [
       "  0%|          | 0/100 [00:00<?, ?it/s]"
      ]
     },
     "metadata": {},
     "output_type": "display_data"
    },
    {
     "name": "stdout",
     "output_type": "stream",
     "text": [
      "Epoch:10/100 AVG Training Loss:0.493 AVG Validation Loss:0.514 AVG Training Acc 80.05 % AVG Validation Acc 78.20 %\n",
      "Epoch:20/100 AVG Training Loss:0.487 AVG Validation Loss:0.512 AVG Training Acc 80.01 % AVG Validation Acc 78.20 %\n",
      "Epoch:30/100 AVG Training Loss:0.482 AVG Validation Loss:0.513 AVG Training Acc 80.25 % AVG Validation Acc 78.06 %\n",
      "Epoch    33: reducing learning rate of group 0 to 1.0000e-03.\n",
      "Epoch:40/100 AVG Training Loss:0.466 AVG Validation Loss:0.520 AVG Training Acc 80.52 % AVG Validation Acc 77.66 %\n",
      "Epoch:50/100 AVG Training Loss:0.460 AVG Validation Loss:0.526 AVG Training Acc 80.76 % AVG Validation Acc 77.66 %\n",
      "Epoch:60/100 AVG Training Loss:0.456 AVG Validation Loss:0.540 AVG Training Acc 80.85 % AVG Validation Acc 76.85 %\n",
      "Epoch    64: reducing learning rate of group 0 to 1.0000e-04.\n",
      "Epoch:70/100 AVG Training Loss:0.450 AVG Validation Loss:0.543 AVG Training Acc 80.76 % AVG Validation Acc 77.25 %\n",
      "Epoch:80/100 AVG Training Loss:0.450 AVG Validation Loss:0.544 AVG Training Acc 80.91 % AVG Validation Acc 77.12 %\n",
      "Epoch:90/100 AVG Training Loss:0.449 AVG Validation Loss:0.546 AVG Training Acc 81.08 % AVG Validation Acc 77.52 %\n",
      "Epoch    95: reducing learning rate of group 0 to 1.0000e-05.\n",
      "Epoch:100/100 AVG Training Loss:0.446 AVG Validation Loss:0.550 AVG Training Acc 81.07 % AVG Validation Acc 77.12 %\n",
      "Split 91\n"
     ]
    },
    {
     "data": {
      "application/vnd.jupyter.widget-view+json": {
       "model_id": "9c46a0135d1648bfb1b123f9e1f00660",
       "version_major": 2,
       "version_minor": 0
      },
      "text/plain": [
       "  0%|          | 0/100 [00:00<?, ?it/s]"
      ]
     },
     "metadata": {},
     "output_type": "display_data"
    },
    {
     "name": "stdout",
     "output_type": "stream",
     "text": [
      "Epoch:10/100 AVG Training Loss:0.496 AVG Validation Loss:0.477 AVG Training Acc 79.74 % AVG Validation Acc 80.91 %\n",
      "Epoch:20/100 AVG Training Loss:0.495 AVG Validation Loss:0.475 AVG Training Acc 79.75 % AVG Validation Acc 80.91 %\n",
      "Epoch    29: reducing learning rate of group 0 to 1.0000e-03.\n",
      "Epoch:30/100 AVG Training Loss:0.487 AVG Validation Loss:0.481 AVG Training Acc 79.75 % AVG Validation Acc 80.91 %\n",
      "Epoch:40/100 AVG Training Loss:0.472 AVG Validation Loss:0.493 AVG Training Acc 80.04 % AVG Validation Acc 80.51 %\n",
      "Epoch:50/100 AVG Training Loss:0.467 AVG Validation Loss:0.500 AVG Training Acc 80.20 % AVG Validation Acc 80.11 %\n",
      "Epoch:60/100 AVG Training Loss:0.463 AVG Validation Loss:0.506 AVG Training Acc 80.47 % AVG Validation Acc 80.51 %\n",
      "Epoch    60: reducing learning rate of group 0 to 1.0000e-04.\n",
      "Epoch:70/100 AVG Training Loss:0.459 AVG Validation Loss:0.511 AVG Training Acc 80.56 % AVG Validation Acc 80.38 %\n",
      "Epoch:80/100 AVG Training Loss:0.457 AVG Validation Loss:0.514 AVG Training Acc 80.66 % AVG Validation Acc 80.38 %\n",
      "Epoch:90/100 AVG Training Loss:0.457 AVG Validation Loss:0.515 AVG Training Acc 80.72 % AVG Validation Acc 80.51 %\n",
      "Epoch    91: reducing learning rate of group 0 to 1.0000e-05.\n",
      "Epoch:100/100 AVG Training Loss:0.458 AVG Validation Loss:0.516 AVG Training Acc 80.72 % AVG Validation Acc 80.11 %\n",
      "Split 92\n"
     ]
    },
    {
     "data": {
      "application/vnd.jupyter.widget-view+json": {
       "model_id": "c069037cfd1b4b699ccd0e50436370c3",
       "version_major": 2,
       "version_minor": 0
      },
      "text/plain": [
       "  0%|          | 0/100 [00:00<?, ?it/s]"
      ]
     },
     "metadata": {},
     "output_type": "display_data"
    },
    {
     "name": "stdout",
     "output_type": "stream",
     "text": [
      "Epoch:10/100 AVG Training Loss:0.496 AVG Validation Loss:0.534 AVG Training Acc 80.22 % AVG Validation Acc 76.75 %\n",
      "Epoch:20/100 AVG Training Loss:0.498 AVG Validation Loss:0.543 AVG Training Acc 80.20 % AVG Validation Acc 76.75 %\n",
      "Epoch    23: reducing learning rate of group 0 to 1.0000e-03.\n",
      "Epoch:30/100 AVG Training Loss:0.488 AVG Validation Loss:0.526 AVG Training Acc 80.13 % AVG Validation Acc 76.75 %\n",
      "Epoch:40/100 AVG Training Loss:0.486 AVG Validation Loss:0.523 AVG Training Acc 80.29 % AVG Validation Acc 76.75 %\n",
      "Epoch:50/100 AVG Training Loss:0.485 AVG Validation Loss:0.528 AVG Training Acc 80.26 % AVG Validation Acc 76.75 %\n",
      "Epoch    54: reducing learning rate of group 0 to 1.0000e-04.\n",
      "Epoch:60/100 AVG Training Loss:0.485 AVG Validation Loss:0.525 AVG Training Acc 80.27 % AVG Validation Acc 76.88 %\n",
      "Epoch:70/100 AVG Training Loss:0.483 AVG Validation Loss:0.526 AVG Training Acc 80.29 % AVG Validation Acc 76.88 %\n",
      "Epoch:80/100 AVG Training Loss:0.484 AVG Validation Loss:0.525 AVG Training Acc 80.02 % AVG Validation Acc 76.75 %\n",
      "Epoch    85: reducing learning rate of group 0 to 1.0000e-05.\n",
      "Epoch:90/100 AVG Training Loss:0.484 AVG Validation Loss:0.525 AVG Training Acc 80.26 % AVG Validation Acc 76.75 %\n",
      "Epoch:100/100 AVG Training Loss:0.484 AVG Validation Loss:0.526 AVG Training Acc 80.29 % AVG Validation Acc 76.75 %\n",
      "Split 93\n"
     ]
    },
    {
     "data": {
      "application/vnd.jupyter.widget-view+json": {
       "model_id": "08769a8e94a1491796dfeea88e5eb290",
       "version_major": 2,
       "version_minor": 0
      },
      "text/plain": [
       "  0%|          | 0/100 [00:00<?, ?it/s]"
      ]
     },
     "metadata": {},
     "output_type": "display_data"
    },
    {
     "name": "stdout",
     "output_type": "stream",
     "text": [
      "Epoch:10/100 AVG Training Loss:0.497 AVG Validation Loss:0.463 AVG Training Acc 79.71 % AVG Validation Acc 80.65 %\n",
      "Epoch:20/100 AVG Training Loss:0.491 AVG Validation Loss:0.472 AVG Training Acc 79.74 % AVG Validation Acc 80.78 %\n",
      "Epoch    21: reducing learning rate of group 0 to 1.0000e-03.\n",
      "Epoch:30/100 AVG Training Loss:0.481 AVG Validation Loss:0.471 AVG Training Acc 79.99 % AVG Validation Acc 80.24 %\n",
      "Epoch:40/100 AVG Training Loss:0.473 AVG Validation Loss:0.469 AVG Training Acc 80.23 % AVG Validation Acc 79.70 %\n",
      "Epoch:50/100 AVG Training Loss:0.467 AVG Validation Loss:0.471 AVG Training Acc 80.32 % AVG Validation Acc 80.11 %\n",
      "Epoch    52: reducing learning rate of group 0 to 1.0000e-04.\n",
      "Epoch:60/100 AVG Training Loss:0.460 AVG Validation Loss:0.467 AVG Training Acc 80.74 % AVG Validation Acc 80.11 %\n",
      "Epoch:70/100 AVG Training Loss:0.460 AVG Validation Loss:0.470 AVG Training Acc 80.56 % AVG Validation Acc 79.97 %\n",
      "Epoch:80/100 AVG Training Loss:0.460 AVG Validation Loss:0.470 AVG Training Acc 80.77 % AVG Validation Acc 79.84 %\n",
      "Epoch    83: reducing learning rate of group 0 to 1.0000e-05.\n",
      "Epoch:90/100 AVG Training Loss:0.458 AVG Validation Loss:0.470 AVG Training Acc 80.75 % AVG Validation Acc 79.84 %\n",
      "Epoch:100/100 AVG Training Loss:0.458 AVG Validation Loss:0.468 AVG Training Acc 80.75 % AVG Validation Acc 79.84 %\n",
      "Split 94\n"
     ]
    },
    {
     "data": {
      "application/vnd.jupyter.widget-view+json": {
       "model_id": "3000dbc659f74890a45fa5587ed020a0",
       "version_major": 2,
       "version_minor": 0
      },
      "text/plain": [
       "  0%|          | 0/100 [00:00<?, ?it/s]"
      ]
     },
     "metadata": {},
     "output_type": "display_data"
    },
    {
     "name": "stdout",
     "output_type": "stream",
     "text": [
      "Epoch:10/100 AVG Training Loss:0.499 AVG Validation Loss:0.511 AVG Training Acc 79.96 % AVG Validation Acc 79.03 %\n",
      "Epoch:20/100 AVG Training Loss:0.490 AVG Validation Loss:0.507 AVG Training Acc 79.95 % AVG Validation Acc 79.03 %\n",
      "Epoch    25: reducing learning rate of group 0 to 1.0000e-03.\n",
      "Epoch:30/100 AVG Training Loss:0.479 AVG Validation Loss:0.502 AVG Training Acc 80.04 % AVG Validation Acc 79.17 %\n",
      "Epoch:40/100 AVG Training Loss:0.477 AVG Validation Loss:0.501 AVG Training Acc 80.19 % AVG Validation Acc 79.30 %\n",
      "Epoch:50/100 AVG Training Loss:0.471 AVG Validation Loss:0.503 AVG Training Acc 80.44 % AVG Validation Acc 79.44 %\n",
      "Epoch    57: reducing learning rate of group 0 to 1.0000e-04.\n",
      "Epoch:60/100 AVG Training Loss:0.469 AVG Validation Loss:0.503 AVG Training Acc 80.41 % AVG Validation Acc 79.57 %\n",
      "Epoch:70/100 AVG Training Loss:0.465 AVG Validation Loss:0.505 AVG Training Acc 80.66 % AVG Validation Acc 79.57 %\n",
      "Epoch:80/100 AVG Training Loss:0.465 AVG Validation Loss:0.506 AVG Training Acc 80.81 % AVG Validation Acc 79.84 %\n",
      "Epoch    88: reducing learning rate of group 0 to 1.0000e-05.\n",
      "Epoch:90/100 AVG Training Loss:0.463 AVG Validation Loss:0.508 AVG Training Acc 80.99 % AVG Validation Acc 79.57 %\n",
      "Epoch:100/100 AVG Training Loss:0.462 AVG Validation Loss:0.507 AVG Training Acc 80.81 % AVG Validation Acc 79.84 %\n",
      "Split 95\n"
     ]
    },
    {
     "data": {
      "application/vnd.jupyter.widget-view+json": {
       "model_id": "e9f55442e77243a39a87d361e961d1fb",
       "version_major": 2,
       "version_minor": 0
      },
      "text/plain": [
       "  0%|          | 0/100 [00:00<?, ?it/s]"
      ]
     },
     "metadata": {},
     "output_type": "display_data"
    },
    {
     "name": "stdout",
     "output_type": "stream",
     "text": [
      "Epoch:10/100 AVG Training Loss:0.497 AVG Validation Loss:0.488 AVG Training Acc 79.74 % AVG Validation Acc 80.91 %\n",
      "Epoch:20/100 AVG Training Loss:0.490 AVG Validation Loss:0.480 AVG Training Acc 79.75 % AVG Validation Acc 81.05 %\n",
      "Epoch:30/100 AVG Training Loss:0.484 AVG Validation Loss:0.480 AVG Training Acc 79.77 % AVG Validation Acc 81.32 %\n",
      "Epoch:40/100 AVG Training Loss:0.527 AVG Validation Loss:0.500 AVG Training Acc 78.93 % AVG Validation Acc 80.91 %\n",
      "Epoch    48: reducing learning rate of group 0 to 1.0000e-03.\n",
      "Epoch:50/100 AVG Training Loss:0.503 AVG Validation Loss:0.486 AVG Training Acc 79.80 % AVG Validation Acc 80.91 %\n",
      "Epoch:60/100 AVG Training Loss:0.502 AVG Validation Loss:0.487 AVG Training Acc 79.81 % AVG Validation Acc 80.91 %\n",
      "Epoch:70/100 AVG Training Loss:0.498 AVG Validation Loss:0.481 AVG Training Acc 79.77 % AVG Validation Acc 81.05 %\n",
      "Epoch    79: reducing learning rate of group 0 to 1.0000e-04.\n",
      "Epoch:80/100 AVG Training Loss:0.494 AVG Validation Loss:0.479 AVG Training Acc 79.84 % AVG Validation Acc 81.05 %\n",
      "Epoch:90/100 AVG Training Loss:0.495 AVG Validation Loss:0.480 AVG Training Acc 79.81 % AVG Validation Acc 81.05 %\n",
      "Epoch:100/100 AVG Training Loss:0.496 AVG Validation Loss:0.480 AVG Training Acc 79.80 % AVG Validation Acc 81.05 %\n",
      "Split 96\n"
     ]
    },
    {
     "data": {
      "application/vnd.jupyter.widget-view+json": {
       "model_id": "251801be0611456b916c79ec4ddb937e",
       "version_major": 2,
       "version_minor": 0
      },
      "text/plain": [
       "  0%|          | 0/100 [00:00<?, ?it/s]"
      ]
     },
     "metadata": {},
     "output_type": "display_data"
    },
    {
     "name": "stdout",
     "output_type": "stream",
     "text": [
      "Epoch:10/100 AVG Training Loss:0.495 AVG Validation Loss:0.497 AVG Training Acc 79.77 % AVG Validation Acc 80.38 %\n",
      "Epoch:20/100 AVG Training Loss:0.491 AVG Validation Loss:0.487 AVG Training Acc 79.81 % AVG Validation Acc 80.51 %\n",
      "Epoch    24: reducing learning rate of group 0 to 1.0000e-03.\n",
      "Epoch:30/100 AVG Training Loss:0.478 AVG Validation Loss:0.491 AVG Training Acc 79.95 % AVG Validation Acc 79.97 %\n",
      "Epoch:40/100 AVG Training Loss:0.475 AVG Validation Loss:0.493 AVG Training Acc 80.08 % AVG Validation Acc 79.70 %\n",
      "Epoch:50/100 AVG Training Loss:0.469 AVG Validation Loss:0.497 AVG Training Acc 80.41 % AVG Validation Acc 79.44 %\n",
      "Epoch    55: reducing learning rate of group 0 to 1.0000e-04.\n",
      "Epoch:60/100 AVG Training Loss:0.463 AVG Validation Loss:0.505 AVG Training Acc 80.74 % AVG Validation Acc 79.44 %\n",
      "Epoch:70/100 AVG Training Loss:0.461 AVG Validation Loss:0.505 AVG Training Acc 80.71 % AVG Validation Acc 79.44 %\n",
      "Epoch:80/100 AVG Training Loss:0.461 AVG Validation Loss:0.507 AVG Training Acc 80.69 % AVG Validation Acc 79.30 %\n",
      "Epoch    86: reducing learning rate of group 0 to 1.0000e-05.\n",
      "Epoch:90/100 AVG Training Loss:0.458 AVG Validation Loss:0.508 AVG Training Acc 80.86 % AVG Validation Acc 79.44 %\n",
      "Epoch:100/100 AVG Training Loss:0.459 AVG Validation Loss:0.507 AVG Training Acc 80.72 % AVG Validation Acc 79.44 %\n",
      "Split 97\n"
     ]
    },
    {
     "data": {
      "application/vnd.jupyter.widget-view+json": {
       "model_id": "965308f73a164f5ba16d47c9879d8271",
       "version_major": 2,
       "version_minor": 0
      },
      "text/plain": [
       "  0%|          | 0/100 [00:00<?, ?it/s]"
      ]
     },
     "metadata": {},
     "output_type": "display_data"
    },
    {
     "name": "stdout",
     "output_type": "stream",
     "text": [
      "Epoch:10/100 AVG Training Loss:0.494 AVG Validation Loss:0.515 AVG Training Acc 79.96 % AVG Validation Acc 78.73 %\n",
      "Epoch:20/100 AVG Training Loss:0.486 AVG Validation Loss:0.514 AVG Training Acc 79.92 % AVG Validation Acc 78.60 %\n",
      "Epoch    23: reducing learning rate of group 0 to 1.0000e-03.\n",
      "Epoch:30/100 AVG Training Loss:0.477 AVG Validation Loss:0.521 AVG Training Acc 80.20 % AVG Validation Acc 78.06 %\n",
      "Epoch:40/100 AVG Training Loss:0.470 AVG Validation Loss:0.526 AVG Training Acc 80.35 % AVG Validation Acc 77.66 %\n",
      "Epoch:50/100 AVG Training Loss:0.462 AVG Validation Loss:0.532 AVG Training Acc 80.82 % AVG Validation Acc 77.52 %\n",
      "Epoch    54: reducing learning rate of group 0 to 1.0000e-04.\n",
      "Epoch:60/100 AVG Training Loss:0.460 AVG Validation Loss:0.545 AVG Training Acc 80.86 % AVG Validation Acc 77.25 %\n",
      "Epoch:70/100 AVG Training Loss:0.455 AVG Validation Loss:0.543 AVG Training Acc 80.89 % AVG Validation Acc 77.12 %\n",
      "Epoch:80/100 AVG Training Loss:0.454 AVG Validation Loss:0.549 AVG Training Acc 80.97 % AVG Validation Acc 77.25 %\n",
      "Epoch    85: reducing learning rate of group 0 to 1.0000e-05.\n",
      "Epoch:90/100 AVG Training Loss:0.453 AVG Validation Loss:0.548 AVG Training Acc 81.23 % AVG Validation Acc 77.25 %\n",
      "Epoch:100/100 AVG Training Loss:0.454 AVG Validation Loss:0.548 AVG Training Acc 81.11 % AVG Validation Acc 77.39 %\n",
      "Split 98\n"
     ]
    },
    {
     "data": {
      "application/vnd.jupyter.widget-view+json": {
       "model_id": "1fd18f029557460797b2d12ea1e2575b",
       "version_major": 2,
       "version_minor": 0
      },
      "text/plain": [
       "  0%|          | 0/100 [00:00<?, ?it/s]"
      ]
     },
     "metadata": {},
     "output_type": "display_data"
    },
    {
     "name": "stdout",
     "output_type": "stream",
     "text": [
      "Epoch:10/100 AVG Training Loss:0.495 AVG Validation Loss:0.483 AVG Training Acc 79.59 % AVG Validation Acc 80.75 %\n",
      "Epoch:20/100 AVG Training Loss:0.490 AVG Validation Loss:0.479 AVG Training Acc 79.61 % AVG Validation Acc 80.75 %\n",
      "Epoch:30/100 AVG Training Loss:0.483 AVG Validation Loss:0.474 AVG Training Acc 79.83 % AVG Validation Acc 80.89 %\n",
      "Epoch:40/100 AVG Training Loss:0.476 AVG Validation Loss:0.474 AVG Training Acc 79.80 % AVG Validation Acc 80.89 %\n",
      "Epoch:50/100 AVG Training Loss:0.467 AVG Validation Loss:0.470 AVG Training Acc 79.93 % AVG Validation Acc 81.02 %\n",
      "Epoch:60/100 AVG Training Loss:0.460 AVG Validation Loss:0.481 AVG Training Acc 80.07 % AVG Validation Acc 81.29 %\n",
      "Epoch    61: reducing learning rate of group 0 to 1.0000e-03.\n",
      "Epoch:70/100 AVG Training Loss:0.427 AVG Validation Loss:0.512 AVG Training Acc 81.17 % AVG Validation Acc 80.62 %\n",
      "Epoch:80/100 AVG Training Loss:0.419 AVG Validation Loss:0.525 AVG Training Acc 81.44 % AVG Validation Acc 80.75 %\n",
      "Epoch:90/100 AVG Training Loss:0.413 AVG Validation Loss:0.536 AVG Training Acc 81.53 % AVG Validation Acc 80.62 %\n",
      "Epoch    92: reducing learning rate of group 0 to 1.0000e-04.\n",
      "Epoch:100/100 AVG Training Loss:0.406 AVG Validation Loss:0.537 AVG Training Acc 82.01 % AVG Validation Acc 80.48 %\n",
      "Split 99\n"
     ]
    },
    {
     "data": {
      "application/vnd.jupyter.widget-view+json": {
       "model_id": "b3c497cbe9274d96921083a2346042fc",
       "version_major": 2,
       "version_minor": 0
      },
      "text/plain": [
       "  0%|          | 0/100 [00:00<?, ?it/s]"
      ]
     },
     "metadata": {},
     "output_type": "display_data"
    },
    {
     "name": "stdout",
     "output_type": "stream",
     "text": [
      "Epoch:10/100 AVG Training Loss:0.502 AVG Validation Loss:0.462 AVG Training Acc 79.55 % AVG Validation Acc 82.50 %\n",
      "Epoch:20/100 AVG Training Loss:0.497 AVG Validation Loss:0.460 AVG Training Acc 79.61 % AVG Validation Acc 82.50 %\n",
      "Epoch:30/100 AVG Training Loss:0.494 AVG Validation Loss:0.462 AVG Training Acc 79.67 % AVG Validation Acc 82.23 %\n",
      "Epoch    36: reducing learning rate of group 0 to 1.0000e-03.\n",
      "Epoch:40/100 AVG Training Loss:0.482 AVG Validation Loss:0.463 AVG Training Acc 79.93 % AVG Validation Acc 81.83 %\n",
      "Epoch:50/100 AVG Training Loss:0.476 AVG Validation Loss:0.469 AVG Training Acc 80.17 % AVG Validation Acc 81.43 %\n",
      "Epoch:60/100 AVG Training Loss:0.470 AVG Validation Loss:0.475 AVG Training Acc 80.47 % AVG Validation Acc 81.16 %\n",
      "Epoch    67: reducing learning rate of group 0 to 1.0000e-04.\n",
      "Epoch:70/100 AVG Training Loss:0.468 AVG Validation Loss:0.472 AVG Training Acc 80.47 % AVG Validation Acc 81.16 %\n",
      "Epoch:80/100 AVG Training Loss:0.465 AVG Validation Loss:0.473 AVG Training Acc 80.61 % AVG Validation Acc 81.02 %\n",
      "Epoch:90/100 AVG Training Loss:0.462 AVG Validation Loss:0.475 AVG Training Acc 80.71 % AVG Validation Acc 81.02 %\n",
      "Epoch    98: reducing learning rate of group 0 to 1.0000e-05.\n",
      "Epoch:100/100 AVG Training Loss:0.465 AVG Validation Loss:0.474 AVG Training Acc 80.49 % AVG Validation Acc 81.16 %\n",
      "Split 100\n"
     ]
    },
    {
     "data": {
      "application/vnd.jupyter.widget-view+json": {
       "model_id": "77ba03b596284344b796120dd0e464a1",
       "version_major": 2,
       "version_minor": 0
      },
      "text/plain": [
       "  0%|          | 0/100 [00:00<?, ?it/s]"
      ]
     },
     "metadata": {},
     "output_type": "display_data"
    },
    {
     "name": "stdout",
     "output_type": "stream",
     "text": [
      "Epoch:10/100 AVG Training Loss:0.489 AVG Validation Loss:0.525 AVG Training Acc 80.14 % AVG Validation Acc 77.79 %\n",
      "Epoch:20/100 AVG Training Loss:0.485 AVG Validation Loss:0.517 AVG Training Acc 80.17 % AVG Validation Acc 77.66 %\n",
      "Epoch:30/100 AVG Training Loss:0.478 AVG Validation Loss:0.521 AVG Training Acc 80.20 % AVG Validation Acc 77.79 %\n",
      "Epoch    37: reducing learning rate of group 0 to 1.0000e-03.\n",
      "Epoch:40/100 AVG Training Loss:0.457 AVG Validation Loss:0.524 AVG Training Acc 80.40 % AVG Validation Acc 77.52 %\n",
      "Epoch:50/100 AVG Training Loss:0.445 AVG Validation Loss:0.538 AVG Training Acc 80.89 % AVG Validation Acc 77.39 %\n",
      "Epoch:60/100 AVG Training Loss:0.440 AVG Validation Loss:0.546 AVG Training Acc 80.85 % AVG Validation Acc 77.52 %\n",
      "Epoch    68: reducing learning rate of group 0 to 1.0000e-04.\n",
      "Epoch:70/100 AVG Training Loss:0.431 AVG Validation Loss:0.553 AVG Training Acc 80.98 % AVG Validation Acc 77.39 %\n",
      "Epoch:80/100 AVG Training Loss:0.430 AVG Validation Loss:0.558 AVG Training Acc 81.25 % AVG Validation Acc 77.25 %\n",
      "Epoch:90/100 AVG Training Loss:0.427 AVG Validation Loss:0.558 AVG Training Acc 81.31 % AVG Validation Acc 77.25 %\n",
      "Epoch    99: reducing learning rate of group 0 to 1.0000e-05.\n",
      "Epoch:100/100 AVG Training Loss:0.426 AVG Validation Loss:0.560 AVG Training Acc 81.32 % AVG Validation Acc 77.52 %\n",
      "Split 101\n"
     ]
    },
    {
     "data": {
      "application/vnd.jupyter.widget-view+json": {
       "model_id": "630917128ff2460e9f536cd36f514284",
       "version_major": 2,
       "version_minor": 0
      },
      "text/plain": [
       "  0%|          | 0/100 [00:00<?, ?it/s]"
      ]
     },
     "metadata": {},
     "output_type": "display_data"
    },
    {
     "name": "stdout",
     "output_type": "stream",
     "text": [
      "Epoch:10/100 AVG Training Loss:0.494 AVG Validation Loss:0.483 AVG Training Acc 79.66 % AVG Validation Acc 81.18 %\n",
      "Epoch:20/100 AVG Training Loss:0.491 AVG Validation Loss:0.479 AVG Training Acc 79.54 % AVG Validation Acc 81.18 %\n",
      "Epoch:30/100 AVG Training Loss:0.504 AVG Validation Loss:0.485 AVG Training Acc 79.71 % AVG Validation Acc 81.18 %\n",
      "Epoch    30: reducing learning rate of group 0 to 1.0000e-03.\n",
      "Epoch:40/100 AVG Training Loss:0.492 AVG Validation Loss:0.480 AVG Training Acc 79.75 % AVG Validation Acc 81.18 %\n",
      "Epoch:50/100 AVG Training Loss:0.491 AVG Validation Loss:0.478 AVG Training Acc 79.71 % AVG Validation Acc 81.18 %\n",
      "Epoch:60/100 AVG Training Loss:0.486 AVG Validation Loss:0.477 AVG Training Acc 79.81 % AVG Validation Acc 81.18 %\n",
      "Epoch    61: reducing learning rate of group 0 to 1.0000e-04.\n",
      "Epoch:70/100 AVG Training Loss:0.486 AVG Validation Loss:0.478 AVG Training Acc 79.80 % AVG Validation Acc 81.18 %\n",
      "Epoch:80/100 AVG Training Loss:0.483 AVG Validation Loss:0.479 AVG Training Acc 79.98 % AVG Validation Acc 81.18 %\n",
      "Epoch:90/100 AVG Training Loss:0.484 AVG Validation Loss:0.479 AVG Training Acc 79.78 % AVG Validation Acc 81.18 %\n",
      "Epoch    92: reducing learning rate of group 0 to 1.0000e-05.\n",
      "Epoch:100/100 AVG Training Loss:0.483 AVG Validation Loss:0.479 AVG Training Acc 79.83 % AVG Validation Acc 81.18 %\n",
      "Split 102\n"
     ]
    },
    {
     "data": {
      "application/vnd.jupyter.widget-view+json": {
       "model_id": "0aa4c2faa892491cbd40b0cda80529fe",
       "version_major": 2,
       "version_minor": 0
      },
      "text/plain": [
       "  0%|          | 0/100 [00:00<?, ?it/s]"
      ]
     },
     "metadata": {},
     "output_type": "display_data"
    },
    {
     "name": "stdout",
     "output_type": "stream",
     "text": [
      "Epoch:10/100 AVG Training Loss:0.497 AVG Validation Loss:0.477 AVG Training Acc 79.72 % AVG Validation Acc 81.05 %\n",
      "Epoch:20/100 AVG Training Loss:0.494 AVG Validation Loss:0.470 AVG Training Acc 79.66 % AVG Validation Acc 81.05 %\n",
      "Epoch:30/100 AVG Training Loss:0.489 AVG Validation Loss:0.475 AVG Training Acc 79.77 % AVG Validation Acc 80.91 %\n",
      "Epoch    31: reducing learning rate of group 0 to 1.0000e-03.\n",
      "Epoch:40/100 AVG Training Loss:0.482 AVG Validation Loss:0.471 AVG Training Acc 79.80 % AVG Validation Acc 80.91 %\n",
      "Epoch:50/100 AVG Training Loss:0.475 AVG Validation Loss:0.472 AVG Training Acc 79.93 % AVG Validation Acc 80.78 %\n",
      "Epoch:60/100 AVG Training Loss:0.471 AVG Validation Loss:0.473 AVG Training Acc 80.22 % AVG Validation Acc 80.65 %\n",
      "Epoch    62: reducing learning rate of group 0 to 1.0000e-04.\n",
      "Epoch:70/100 AVG Training Loss:0.465 AVG Validation Loss:0.475 AVG Training Acc 80.36 % AVG Validation Acc 80.51 %\n",
      "Epoch:80/100 AVG Training Loss:0.464 AVG Validation Loss:0.474 AVG Training Acc 80.39 % AVG Validation Acc 80.24 %\n",
      "Epoch:90/100 AVG Training Loss:0.464 AVG Validation Loss:0.474 AVG Training Acc 80.36 % AVG Validation Acc 79.97 %\n",
      "Epoch    93: reducing learning rate of group 0 to 1.0000e-05.\n",
      "Epoch:100/100 AVG Training Loss:0.461 AVG Validation Loss:0.475 AVG Training Acc 80.72 % AVG Validation Acc 79.84 %\n",
      "Split 103\n"
     ]
    },
    {
     "data": {
      "application/vnd.jupyter.widget-view+json": {
       "model_id": "e53ee2d7ca744b328837d23ce421e027",
       "version_major": 2,
       "version_minor": 0
      },
      "text/plain": [
       "  0%|          | 0/100 [00:00<?, ?it/s]"
      ]
     },
     "metadata": {},
     "output_type": "display_data"
    },
    {
     "name": "stdout",
     "output_type": "stream",
     "text": [
      "Epoch:10/100 AVG Training Loss:0.495 AVG Validation Loss:0.497 AVG Training Acc 79.84 % AVG Validation Acc 79.84 %\n",
      "Epoch:20/100 AVG Training Loss:0.489 AVG Validation Loss:0.505 AVG Training Acc 79.86 % AVG Validation Acc 79.97 %\n",
      "Epoch:30/100 AVG Training Loss:0.487 AVG Validation Loss:0.498 AVG Training Acc 79.86 % AVG Validation Acc 79.84 %\n",
      "Epoch    32: reducing learning rate of group 0 to 1.0000e-03.\n",
      "Epoch:40/100 AVG Training Loss:0.474 AVG Validation Loss:0.514 AVG Training Acc 80.02 % AVG Validation Acc 79.84 %\n",
      "Epoch:50/100 AVG Training Loss:0.467 AVG Validation Loss:0.520 AVG Training Acc 80.14 % AVG Validation Acc 79.70 %\n",
      "Epoch:60/100 AVG Training Loss:0.460 AVG Validation Loss:0.523 AVG Training Acc 80.36 % AVG Validation Acc 79.57 %\n",
      "Epoch    63: reducing learning rate of group 0 to 1.0000e-04.\n",
      "Epoch:70/100 AVG Training Loss:0.457 AVG Validation Loss:0.527 AVG Training Acc 80.57 % AVG Validation Acc 79.57 %\n",
      "Epoch:80/100 AVG Training Loss:0.455 AVG Validation Loss:0.533 AVG Training Acc 80.72 % AVG Validation Acc 79.44 %\n",
      "Epoch:90/100 AVG Training Loss:0.455 AVG Validation Loss:0.530 AVG Training Acc 80.81 % AVG Validation Acc 79.30 %\n",
      "Epoch    94: reducing learning rate of group 0 to 1.0000e-05.\n",
      "Epoch:100/100 AVG Training Loss:0.455 AVG Validation Loss:0.536 AVG Training Acc 80.68 % AVG Validation Acc 79.17 %\n",
      "Split 104\n"
     ]
    },
    {
     "data": {
      "application/vnd.jupyter.widget-view+json": {
       "model_id": "5e931107cd5e4e728ef6855e2765847f",
       "version_major": 2,
       "version_minor": 0
      },
      "text/plain": [
       "  0%|          | 0/100 [00:00<?, ?it/s]"
      ]
     },
     "metadata": {},
     "output_type": "display_data"
    },
    {
     "name": "stdout",
     "output_type": "stream",
     "text": [
      "Epoch:10/100 AVG Training Loss:0.496 AVG Validation Loss:0.507 AVG Training Acc 79.93 % AVG Validation Acc 79.03 %\n",
      "Epoch:20/100 AVG Training Loss:0.489 AVG Validation Loss:0.503 AVG Training Acc 79.95 % AVG Validation Acc 79.03 %\n",
      "Epoch    27: reducing learning rate of group 0 to 1.0000e-03.\n",
      "Epoch:30/100 AVG Training Loss:0.479 AVG Validation Loss:0.504 AVG Training Acc 80.08 % AVG Validation Acc 78.90 %\n",
      "Epoch:40/100 AVG Training Loss:0.473 AVG Validation Loss:0.509 AVG Training Acc 80.10 % AVG Validation Acc 79.03 %\n",
      "Epoch:50/100 AVG Training Loss:0.467 AVG Validation Loss:0.516 AVG Training Acc 80.44 % AVG Validation Acc 78.76 %\n",
      "Epoch    58: reducing learning rate of group 0 to 1.0000e-04.\n",
      "Epoch:60/100 AVG Training Loss:0.463 AVG Validation Loss:0.519 AVG Training Acc 80.66 % AVG Validation Acc 78.49 %\n",
      "Epoch:70/100 AVG Training Loss:0.461 AVG Validation Loss:0.523 AVG Training Acc 80.84 % AVG Validation Acc 78.49 %\n",
      "Epoch:80/100 AVG Training Loss:0.460 AVG Validation Loss:0.525 AVG Training Acc 80.75 % AVG Validation Acc 78.63 %\n",
      "Epoch    89: reducing learning rate of group 0 to 1.0000e-05.\n",
      "Epoch:90/100 AVG Training Loss:0.459 AVG Validation Loss:0.525 AVG Training Acc 80.65 % AVG Validation Acc 78.49 %\n",
      "Epoch:100/100 AVG Training Loss:0.461 AVG Validation Loss:0.524 AVG Training Acc 80.65 % AVG Validation Acc 78.76 %\n",
      "Split 105\n"
     ]
    },
    {
     "data": {
      "application/vnd.jupyter.widget-view+json": {
       "model_id": "0fd368c69359406494fbd180fb899036",
       "version_major": 2,
       "version_minor": 0
      },
      "text/plain": [
       "  0%|          | 0/100 [00:00<?, ?it/s]"
      ]
     },
     "metadata": {},
     "output_type": "display_data"
    },
    {
     "name": "stdout",
     "output_type": "stream",
     "text": [
      "Epoch:10/100 AVG Training Loss:0.496 AVG Validation Loss:0.492 AVG Training Acc 79.89 % AVG Validation Acc 79.44 %\n",
      "Epoch    18: reducing learning rate of group 0 to 1.0000e-03.\n",
      "Epoch:20/100 AVG Training Loss:0.487 AVG Validation Loss:0.488 AVG Training Acc 79.99 % AVG Validation Acc 79.44 %\n",
      "Epoch:30/100 AVG Training Loss:0.484 AVG Validation Loss:0.489 AVG Training Acc 80.01 % AVG Validation Acc 79.30 %\n",
      "Epoch:40/100 AVG Training Loss:0.481 AVG Validation Loss:0.489 AVG Training Acc 80.05 % AVG Validation Acc 79.17 %\n",
      "Epoch    49: reducing learning rate of group 0 to 1.0000e-04.\n",
      "Epoch:50/100 AVG Training Loss:0.477 AVG Validation Loss:0.492 AVG Training Acc 80.30 % AVG Validation Acc 79.30 %\n",
      "Epoch:60/100 AVG Training Loss:0.474 AVG Validation Loss:0.492 AVG Training Acc 80.19 % AVG Validation Acc 79.30 %\n",
      "Epoch:70/100 AVG Training Loss:0.472 AVG Validation Loss:0.492 AVG Training Acc 80.42 % AVG Validation Acc 79.17 %\n",
      "Epoch:80/100 AVG Training Loss:0.471 AVG Validation Loss:0.493 AVG Training Acc 80.38 % AVG Validation Acc 78.63 %\n",
      "Epoch    80: reducing learning rate of group 0 to 1.0000e-05.\n",
      "Epoch:90/100 AVG Training Loss:0.472 AVG Validation Loss:0.493 AVG Training Acc 80.51 % AVG Validation Acc 78.63 %\n",
      "Epoch:100/100 AVG Training Loss:0.472 AVG Validation Loss:0.493 AVG Training Acc 80.39 % AVG Validation Acc 78.49 %\n",
      "Split 106\n"
     ]
    },
    {
     "data": {
      "application/vnd.jupyter.widget-view+json": {
       "model_id": "36a2e5acf33d42f6a2885788474c3ec4",
       "version_major": 2,
       "version_minor": 0
      },
      "text/plain": [
       "  0%|          | 0/100 [00:00<?, ?it/s]"
      ]
     },
     "metadata": {},
     "output_type": "display_data"
    },
    {
     "name": "stdout",
     "output_type": "stream",
     "text": [
      "Epoch:10/100 AVG Training Loss:0.494 AVG Validation Loss:0.517 AVG Training Acc 80.08 % AVG Validation Acc 78.09 %\n",
      "Epoch:20/100 AVG Training Loss:0.487 AVG Validation Loss:0.520 AVG Training Acc 80.16 % AVG Validation Acc 78.23 %\n",
      "Epoch:30/100 AVG Training Loss:0.483 AVG Validation Loss:0.510 AVG Training Acc 80.07 % AVG Validation Acc 78.23 %\n",
      "Epoch:40/100 AVG Training Loss:0.473 AVG Validation Loss:0.519 AVG Training Acc 80.41 % AVG Validation Acc 77.69 %\n",
      "Epoch    41: reducing learning rate of group 0 to 1.0000e-03.\n",
      "Epoch:50/100 AVG Training Loss:0.457 AVG Validation Loss:0.528 AVG Training Acc 80.78 % AVG Validation Acc 77.55 %\n",
      "Epoch:60/100 AVG Training Loss:0.448 AVG Validation Loss:0.549 AVG Training Acc 81.19 % AVG Validation Acc 77.96 %\n",
      "Epoch:70/100 AVG Training Loss:0.440 AVG Validation Loss:0.561 AVG Training Acc 81.49 % AVG Validation Acc 77.55 %\n",
      "Epoch    72: reducing learning rate of group 0 to 1.0000e-04.\n",
      "Epoch:80/100 AVG Training Loss:0.436 AVG Validation Loss:0.560 AVG Training Acc 81.66 % AVG Validation Acc 77.69 %\n",
      "Epoch:90/100 AVG Training Loss:0.435 AVG Validation Loss:0.563 AVG Training Acc 81.58 % AVG Validation Acc 77.55 %\n",
      "Epoch:100/100 AVG Training Loss:0.433 AVG Validation Loss:0.564 AVG Training Acc 81.90 % AVG Validation Acc 77.82 %\n",
      "Split 107\n"
     ]
    },
    {
     "data": {
      "application/vnd.jupyter.widget-view+json": {
       "model_id": "7bc5135563d34c66a73c1bc5bcc29dba",
       "version_major": 2,
       "version_minor": 0
      },
      "text/plain": [
       "  0%|          | 0/100 [00:00<?, ?it/s]"
      ]
     },
     "metadata": {},
     "output_type": "display_data"
    },
    {
     "name": "stdout",
     "output_type": "stream",
     "text": [
      "Epoch:10/100 AVG Training Loss:0.492 AVG Validation Loss:0.514 AVG Training Acc 80.01 % AVG Validation Acc 78.33 %\n",
      "Epoch    18: reducing learning rate of group 0 to 1.0000e-03.\n",
      "Epoch:20/100 AVG Training Loss:0.495 AVG Validation Loss:0.513 AVG Training Acc 80.08 % AVG Validation Acc 78.33 %\n",
      "Epoch:30/100 AVG Training Loss:0.488 AVG Validation Loss:0.507 AVG Training Acc 80.05 % AVG Validation Acc 78.47 %\n",
      "Epoch:40/100 AVG Training Loss:0.487 AVG Validation Loss:0.507 AVG Training Acc 80.05 % AVG Validation Acc 78.47 %\n",
      "Epoch    49: reducing learning rate of group 0 to 1.0000e-04.\n",
      "Epoch:50/100 AVG Training Loss:0.484 AVG Validation Loss:0.506 AVG Training Acc 80.14 % AVG Validation Acc 78.47 %\n",
      "Epoch:60/100 AVG Training Loss:0.485 AVG Validation Loss:0.505 AVG Training Acc 80.10 % AVG Validation Acc 78.33 %\n",
      "Epoch:70/100 AVG Training Loss:0.485 AVG Validation Loss:0.505 AVG Training Acc 80.13 % AVG Validation Acc 78.33 %\n",
      "Epoch:80/100 AVG Training Loss:0.484 AVG Validation Loss:0.505 AVG Training Acc 80.02 % AVG Validation Acc 78.33 %\n",
      "Epoch:90/100 AVG Training Loss:0.484 AVG Validation Loss:0.505 AVG Training Acc 80.04 % AVG Validation Acc 78.33 %\n",
      "Epoch    95: reducing learning rate of group 0 to 1.0000e-05.\n",
      "Epoch:100/100 AVG Training Loss:0.485 AVG Validation Loss:0.506 AVG Training Acc 80.08 % AVG Validation Acc 78.33 %\n",
      "Split 108\n"
     ]
    },
    {
     "data": {
      "application/vnd.jupyter.widget-view+json": {
       "model_id": "a121b20d3d8549c3bac118d539429667",
       "version_major": 2,
       "version_minor": 0
      },
      "text/plain": [
       "  0%|          | 0/100 [00:00<?, ?it/s]"
      ]
     },
     "metadata": {},
     "output_type": "display_data"
    },
    {
     "name": "stdout",
     "output_type": "stream",
     "text": [
      "Epoch:10/100 AVG Training Loss:0.494 AVG Validation Loss:0.486 AVG Training Acc 79.73 % AVG Validation Acc 80.89 %\n",
      "Epoch    16: reducing learning rate of group 0 to 1.0000e-03.\n",
      "Epoch:20/100 AVG Training Loss:0.484 AVG Validation Loss:0.491 AVG Training Acc 79.84 % AVG Validation Acc 80.22 %\n",
      "Epoch:30/100 AVG Training Loss:0.479 AVG Validation Loss:0.495 AVG Training Acc 80.11 % AVG Validation Acc 79.95 %\n",
      "Epoch:40/100 AVG Training Loss:0.474 AVG Validation Loss:0.503 AVG Training Acc 80.32 % AVG Validation Acc 79.95 %\n",
      "Epoch    47: reducing learning rate of group 0 to 1.0000e-04.\n",
      "Epoch:50/100 AVG Training Loss:0.465 AVG Validation Loss:0.507 AVG Training Acc 80.58 % AVG Validation Acc 79.95 %\n",
      "Epoch:60/100 AVG Training Loss:0.467 AVG Validation Loss:0.511 AVG Training Acc 80.50 % AVG Validation Acc 80.08 %\n",
      "Epoch:70/100 AVG Training Loss:0.463 AVG Validation Loss:0.513 AVG Training Acc 80.65 % AVG Validation Acc 80.08 %\n",
      "Epoch    78: reducing learning rate of group 0 to 1.0000e-05.\n",
      "Epoch:80/100 AVG Training Loss:0.460 AVG Validation Loss:0.514 AVG Training Acc 80.73 % AVG Validation Acc 79.95 %\n",
      "Epoch:90/100 AVG Training Loss:0.464 AVG Validation Loss:0.512 AVG Training Acc 80.68 % AVG Validation Acc 80.08 %\n",
      "Epoch:100/100 AVG Training Loss:0.461 AVG Validation Loss:0.514 AVG Training Acc 80.71 % AVG Validation Acc 80.08 %\n",
      "Split 109\n"
     ]
    },
    {
     "data": {
      "application/vnd.jupyter.widget-view+json": {
       "model_id": "6f09aa59305c4b6b96cbc9cfb7f3a9d8",
       "version_major": 2,
       "version_minor": 0
      },
      "text/plain": [
       "  0%|          | 0/100 [00:00<?, ?it/s]"
      ]
     },
     "metadata": {},
     "output_type": "display_data"
    },
    {
     "name": "stdout",
     "output_type": "stream",
     "text": [
      "Epoch:10/100 AVG Training Loss:0.495 AVG Validation Loss:0.476 AVG Training Acc 79.67 % AVG Validation Acc 81.16 %\n",
      "Epoch:20/100 AVG Training Loss:0.490 AVG Validation Loss:0.477 AVG Training Acc 79.65 % AVG Validation Acc 81.16 %\n",
      "Epoch:30/100 AVG Training Loss:0.483 AVG Validation Loss:0.488 AVG Training Acc 79.71 % AVG Validation Acc 81.02 %\n",
      "Epoch    30: reducing learning rate of group 0 to 1.0000e-03.\n",
      "Epoch:40/100 AVG Training Loss:0.469 AVG Validation Loss:0.496 AVG Training Acc 80.26 % AVG Validation Acc 79.95 %\n",
      "Epoch:50/100 AVG Training Loss:0.463 AVG Validation Loss:0.498 AVG Training Acc 80.34 % AVG Validation Acc 79.54 %\n",
      "Epoch:60/100 AVG Training Loss:0.456 AVG Validation Loss:0.500 AVG Training Acc 80.43 % AVG Validation Acc 79.41 %\n",
      "Epoch    61: reducing learning rate of group 0 to 1.0000e-04.\n",
      "Epoch:70/100 AVG Training Loss:0.453 AVG Validation Loss:0.503 AVG Training Acc 80.67 % AVG Validation Acc 79.41 %\n",
      "Epoch:80/100 AVG Training Loss:0.452 AVG Validation Loss:0.500 AVG Training Acc 80.67 % AVG Validation Acc 79.54 %\n",
      "Epoch:90/100 AVG Training Loss:0.448 AVG Validation Loss:0.503 AVG Training Acc 80.59 % AVG Validation Acc 79.81 %\n",
      "Epoch    92: reducing learning rate of group 0 to 1.0000e-05.\n",
      "Epoch:100/100 AVG Training Loss:0.450 AVG Validation Loss:0.503 AVG Training Acc 80.95 % AVG Validation Acc 79.41 %\n",
      "Split 110\n"
     ]
    },
    {
     "data": {
      "application/vnd.jupyter.widget-view+json": {
       "model_id": "75e13368b5e041c696206897b261ee3b",
       "version_major": 2,
       "version_minor": 0
      },
      "text/plain": [
       "  0%|          | 0/100 [00:00<?, ?it/s]"
      ]
     },
     "metadata": {},
     "output_type": "display_data"
    },
    {
     "name": "stdout",
     "output_type": "stream",
     "text": [
      "Epoch:10/100 AVG Training Loss:0.495 AVG Validation Loss:0.495 AVG Training Acc 79.89 % AVG Validation Acc 79.68 %\n",
      "Epoch:20/100 AVG Training Loss:0.489 AVG Validation Loss:0.488 AVG Training Acc 79.93 % AVG Validation Acc 79.68 %\n",
      "Epoch:30/100 AVG Training Loss:0.482 AVG Validation Loss:0.489 AVG Training Acc 80.04 % AVG Validation Acc 79.68 %\n",
      "Epoch    36: reducing learning rate of group 0 to 1.0000e-03.\n",
      "Epoch:40/100 AVG Training Loss:0.471 AVG Validation Loss:0.500 AVG Training Acc 80.26 % AVG Validation Acc 79.95 %\n",
      "Epoch:50/100 AVG Training Loss:0.463 AVG Validation Loss:0.514 AVG Training Acc 80.68 % AVG Validation Acc 79.81 %\n",
      "Epoch:60/100 AVG Training Loss:0.459 AVG Validation Loss:0.522 AVG Training Acc 80.70 % AVG Validation Acc 79.95 %\n",
      "Epoch    67: reducing learning rate of group 0 to 1.0000e-04.\n",
      "Epoch:70/100 AVG Training Loss:0.452 AVG Validation Loss:0.532 AVG Training Acc 80.92 % AVG Validation Acc 79.81 %\n",
      "Epoch:80/100 AVG Training Loss:0.450 AVG Validation Loss:0.539 AVG Training Acc 80.92 % AVG Validation Acc 79.95 %\n",
      "Epoch:90/100 AVG Training Loss:0.450 AVG Validation Loss:0.544 AVG Training Acc 80.97 % AVG Validation Acc 79.68 %\n",
      "Epoch    98: reducing learning rate of group 0 to 1.0000e-05.\n",
      "Epoch:100/100 AVG Training Loss:0.449 AVG Validation Loss:0.548 AVG Training Acc 80.97 % AVG Validation Acc 79.27 %\n",
      "Split 111\n"
     ]
    },
    {
     "data": {
      "application/vnd.jupyter.widget-view+json": {
       "model_id": "a3d46868497e47c2b38f4aea83b32c54",
       "version_major": 2,
       "version_minor": 0
      },
      "text/plain": [
       "  0%|          | 0/100 [00:00<?, ?it/s]"
      ]
     },
     "metadata": {},
     "output_type": "display_data"
    },
    {
     "name": "stdout",
     "output_type": "stream",
     "text": [
      "Epoch:10/100 AVG Training Loss:0.495 AVG Validation Loss:0.484 AVG Training Acc 79.62 % AVG Validation Acc 80.78 %\n",
      "Epoch    17: reducing learning rate of group 0 to 1.0000e-03.\n",
      "Epoch:20/100 AVG Training Loss:0.487 AVG Validation Loss:0.487 AVG Training Acc 79.83 % AVG Validation Acc 80.65 %\n",
      "Epoch:30/100 AVG Training Loss:0.486 AVG Validation Loss:0.489 AVG Training Acc 79.84 % AVG Validation Acc 80.65 %\n",
      "Epoch:40/100 AVG Training Loss:0.485 AVG Validation Loss:0.492 AVG Training Acc 79.86 % AVG Validation Acc 80.51 %\n",
      "Epoch    48: reducing learning rate of group 0 to 1.0000e-04.\n",
      "Epoch:50/100 AVG Training Loss:0.482 AVG Validation Loss:0.493 AVG Training Acc 79.90 % AVG Validation Acc 80.65 %\n",
      "Epoch:60/100 AVG Training Loss:0.480 AVG Validation Loss:0.493 AVG Training Acc 79.87 % AVG Validation Acc 80.65 %\n",
      "Epoch:70/100 AVG Training Loss:0.482 AVG Validation Loss:0.493 AVG Training Acc 79.90 % AVG Validation Acc 80.65 %\n",
      "Epoch    79: reducing learning rate of group 0 to 1.0000e-05.\n",
      "Epoch:80/100 AVG Training Loss:0.481 AVG Validation Loss:0.493 AVG Training Acc 79.86 % AVG Validation Acc 80.65 %\n",
      "Epoch:90/100 AVG Training Loss:0.481 AVG Validation Loss:0.493 AVG Training Acc 79.90 % AVG Validation Acc 80.65 %\n",
      "Epoch:100/100 AVG Training Loss:0.481 AVG Validation Loss:0.493 AVG Training Acc 79.87 % AVG Validation Acc 80.65 %\n",
      "Split 112\n"
     ]
    },
    {
     "data": {
      "application/vnd.jupyter.widget-view+json": {
       "model_id": "703bf76c04f64f028f860fed63a826ce",
       "version_major": 2,
       "version_minor": 0
      },
      "text/plain": [
       "  0%|          | 0/100 [00:00<?, ?it/s]"
      ]
     },
     "metadata": {},
     "output_type": "display_data"
    },
    {
     "name": "stdout",
     "output_type": "stream",
     "text": [
      "Epoch:10/100 AVG Training Loss:0.492 AVG Validation Loss:0.505 AVG Training Acc 79.98 % AVG Validation Acc 78.90 %\n",
      "Epoch:20/100 AVG Training Loss:0.485 AVG Validation Loss:0.505 AVG Training Acc 80.01 % AVG Validation Acc 78.90 %\n",
      "Epoch    28: reducing learning rate of group 0 to 1.0000e-03.\n",
      "Epoch:30/100 AVG Training Loss:0.473 AVG Validation Loss:0.513 AVG Training Acc 80.20 % AVG Validation Acc 79.03 %\n",
      "Epoch:40/100 AVG Training Loss:0.467 AVG Validation Loss:0.518 AVG Training Acc 80.30 % AVG Validation Acc 78.90 %\n",
      "Epoch:50/100 AVG Training Loss:0.461 AVG Validation Loss:0.526 AVG Training Acc 80.44 % AVG Validation Acc 78.49 %\n",
      "Epoch    59: reducing learning rate of group 0 to 1.0000e-04.\n",
      "Epoch:60/100 AVG Training Loss:0.456 AVG Validation Loss:0.534 AVG Training Acc 80.54 % AVG Validation Acc 78.63 %\n",
      "Epoch:70/100 AVG Training Loss:0.455 AVG Validation Loss:0.538 AVG Training Acc 80.66 % AVG Validation Acc 78.49 %\n",
      "Epoch:80/100 AVG Training Loss:0.451 AVG Validation Loss:0.539 AVG Training Acc 80.69 % AVG Validation Acc 78.49 %\n",
      "Epoch:90/100 AVG Training Loss:0.453 AVG Validation Loss:0.543 AVG Training Acc 80.72 % AVG Validation Acc 78.36 %\n",
      "Epoch    90: reducing learning rate of group 0 to 1.0000e-05.\n",
      "Epoch:100/100 AVG Training Loss:0.450 AVG Validation Loss:0.539 AVG Training Acc 80.86 % AVG Validation Acc 78.49 %\n",
      "Split 113\n"
     ]
    },
    {
     "data": {
      "application/vnd.jupyter.widget-view+json": {
       "model_id": "ea6275281d814736b992bb25db57b367",
       "version_major": 2,
       "version_minor": 0
      },
      "text/plain": [
       "  0%|          | 0/100 [00:00<?, ?it/s]"
      ]
     },
     "metadata": {},
     "output_type": "display_data"
    },
    {
     "name": "stdout",
     "output_type": "stream",
     "text": [
      "Epoch:10/100 AVG Training Loss:0.496 AVG Validation Loss:0.479 AVG Training Acc 79.60 % AVG Validation Acc 81.05 %\n",
      "Epoch:20/100 AVG Training Loss:0.491 AVG Validation Loss:0.478 AVG Training Acc 79.69 % AVG Validation Acc 81.05 %\n",
      "Epoch:30/100 AVG Training Loss:0.510 AVG Validation Loss:0.493 AVG Training Acc 79.74 % AVG Validation Acc 81.05 %\n",
      "Epoch    37: reducing learning rate of group 0 to 1.0000e-03.\n",
      "Epoch:40/100 AVG Training Loss:0.504 AVG Validation Loss:0.486 AVG Training Acc 79.74 % AVG Validation Acc 81.05 %\n",
      "Epoch:50/100 AVG Training Loss:0.503 AVG Validation Loss:0.487 AVG Training Acc 79.74 % AVG Validation Acc 81.05 %\n",
      "Epoch:60/100 AVG Training Loss:0.503 AVG Validation Loss:0.487 AVG Training Acc 79.74 % AVG Validation Acc 81.05 %\n",
      "Epoch    68: reducing learning rate of group 0 to 1.0000e-04.\n",
      "Epoch:70/100 AVG Training Loss:0.503 AVG Validation Loss:0.485 AVG Training Acc 79.74 % AVG Validation Acc 81.05 %\n",
      "Epoch:80/100 AVG Training Loss:0.502 AVG Validation Loss:0.485 AVG Training Acc 79.74 % AVG Validation Acc 81.05 %\n",
      "Epoch:90/100 AVG Training Loss:0.501 AVG Validation Loss:0.485 AVG Training Acc 79.74 % AVG Validation Acc 81.05 %\n",
      "Epoch    99: reducing learning rate of group 0 to 1.0000e-05.\n",
      "Epoch:100/100 AVG Training Loss:0.502 AVG Validation Loss:0.486 AVG Training Acc 79.74 % AVG Validation Acc 81.05 %\n",
      "Split 114\n"
     ]
    },
    {
     "data": {
      "application/vnd.jupyter.widget-view+json": {
       "model_id": "3ada5a73ff6647b8866de0532de1ad29",
       "version_major": 2,
       "version_minor": 0
      },
      "text/plain": [
       "  0%|          | 0/100 [00:00<?, ?it/s]"
      ]
     },
     "metadata": {},
     "output_type": "display_data"
    },
    {
     "name": "stdout",
     "output_type": "stream",
     "text": [
      "Epoch:10/100 AVG Training Loss:0.495 AVG Validation Loss:0.497 AVG Training Acc 79.98 % AVG Validation Acc 79.03 %\n",
      "Epoch:20/100 AVG Training Loss:0.488 AVG Validation Loss:0.500 AVG Training Acc 79.92 % AVG Validation Acc 79.03 %\n",
      "Epoch:30/100 AVG Training Loss:0.500 AVG Validation Loss:0.517 AVG Training Acc 79.83 % AVG Validation Acc 79.03 %\n",
      "Epoch    36: reducing learning rate of group 0 to 1.0000e-03.\n",
      "Epoch:40/100 AVG Training Loss:0.499 AVG Validation Loss:0.512 AVG Training Acc 79.96 % AVG Validation Acc 79.03 %\n",
      "Epoch:50/100 AVG Training Loss:0.499 AVG Validation Loss:0.510 AVG Training Acc 79.95 % AVG Validation Acc 79.03 %\n",
      "Epoch:60/100 AVG Training Loss:0.499 AVG Validation Loss:0.509 AVG Training Acc 79.96 % AVG Validation Acc 79.03 %\n",
      "Epoch    67: reducing learning rate of group 0 to 1.0000e-04.\n",
      "Epoch:70/100 AVG Training Loss:0.496 AVG Validation Loss:0.510 AVG Training Acc 79.98 % AVG Validation Acc 79.03 %\n",
      "Epoch:80/100 AVG Training Loss:0.497 AVG Validation Loss:0.509 AVG Training Acc 79.92 % AVG Validation Acc 79.03 %\n",
      "Epoch:90/100 AVG Training Loss:0.496 AVG Validation Loss:0.509 AVG Training Acc 79.98 % AVG Validation Acc 79.03 %\n",
      "Epoch    98: reducing learning rate of group 0 to 1.0000e-05.\n",
      "Epoch:100/100 AVG Training Loss:0.495 AVG Validation Loss:0.509 AVG Training Acc 79.99 % AVG Validation Acc 79.03 %\n",
      "Split 115\n"
     ]
    },
    {
     "data": {
      "application/vnd.jupyter.widget-view+json": {
       "model_id": "f1825eace4064d7fb55d2ed3bf2c5c3d",
       "version_major": 2,
       "version_minor": 0
      },
      "text/plain": [
       "  0%|          | 0/100 [00:00<?, ?it/s]"
      ]
     },
     "metadata": {},
     "output_type": "display_data"
    },
    {
     "name": "stdout",
     "output_type": "stream",
     "text": [
      "Epoch:10/100 AVG Training Loss:0.497 AVG Validation Loss:0.470 AVG Training Acc 79.63 % AVG Validation Acc 81.72 %\n",
      "Epoch:20/100 AVG Training Loss:0.492 AVG Validation Loss:0.468 AVG Training Acc 79.65 % AVG Validation Acc 81.72 %\n",
      "Epoch    28: reducing learning rate of group 0 to 1.0000e-03.\n",
      "Epoch:30/100 AVG Training Loss:0.482 AVG Validation Loss:0.470 AVG Training Acc 79.68 % AVG Validation Acc 81.72 %\n",
      "Epoch:40/100 AVG Training Loss:0.471 AVG Validation Loss:0.478 AVG Training Acc 80.11 % AVG Validation Acc 81.32 %\n",
      "Epoch:50/100 AVG Training Loss:0.463 AVG Validation Loss:0.498 AVG Training Acc 80.27 % AVG Validation Acc 81.18 %\n",
      "Epoch    59: reducing learning rate of group 0 to 1.0000e-04.\n",
      "Epoch:60/100 AVG Training Loss:0.454 AVG Validation Loss:0.520 AVG Training Acc 80.62 % AVG Validation Acc 80.78 %\n",
      "Epoch:70/100 AVG Training Loss:0.453 AVG Validation Loss:0.519 AVG Training Acc 80.75 % AVG Validation Acc 80.78 %\n",
      "Epoch:80/100 AVG Training Loss:0.452 AVG Validation Loss:0.521 AVG Training Acc 80.71 % AVG Validation Acc 80.65 %\n",
      "Epoch:90/100 AVG Training Loss:0.452 AVG Validation Loss:0.524 AVG Training Acc 80.80 % AVG Validation Acc 80.91 %\n",
      "Epoch    90: reducing learning rate of group 0 to 1.0000e-05.\n",
      "Epoch:100/100 AVG Training Loss:0.451 AVG Validation Loss:0.528 AVG Training Acc 80.60 % AVG Validation Acc 81.05 %\n",
      "Split 116\n"
     ]
    },
    {
     "data": {
      "application/vnd.jupyter.widget-view+json": {
       "model_id": "f8a38075390b4993b151066e339b8d51",
       "version_major": 2,
       "version_minor": 0
      },
      "text/plain": [
       "  0%|          | 0/100 [00:00<?, ?it/s]"
      ]
     },
     "metadata": {},
     "output_type": "display_data"
    },
    {
     "name": "stdout",
     "output_type": "stream",
     "text": [
      "Epoch:10/100 AVG Training Loss:0.493 AVG Validation Loss:0.499 AVG Training Acc 79.89 % AVG Validation Acc 79.44 %\n",
      "Epoch:20/100 AVG Training Loss:0.488 AVG Validation Loss:0.502 AVG Training Acc 79.84 % AVG Validation Acc 79.44 %\n",
      "Epoch    28: reducing learning rate of group 0 to 1.0000e-03.\n",
      "Epoch:30/100 AVG Training Loss:0.478 AVG Validation Loss:0.506 AVG Training Acc 80.11 % AVG Validation Acc 79.17 %\n",
      "Epoch:40/100 AVG Training Loss:0.470 AVG Validation Loss:0.513 AVG Training Acc 80.26 % AVG Validation Acc 78.76 %\n",
      "Epoch:50/100 AVG Training Loss:0.464 AVG Validation Loss:0.521 AVG Training Acc 80.48 % AVG Validation Acc 77.96 %\n",
      "Epoch    59: reducing learning rate of group 0 to 1.0000e-04.\n",
      "Epoch:60/100 AVG Training Loss:0.460 AVG Validation Loss:0.522 AVG Training Acc 80.77 % AVG Validation Acc 77.82 %\n",
      "Epoch:70/100 AVG Training Loss:0.459 AVG Validation Loss:0.529 AVG Training Acc 80.75 % AVG Validation Acc 77.69 %\n",
      "Epoch:80/100 AVG Training Loss:0.458 AVG Validation Loss:0.533 AVG Training Acc 80.56 % AVG Validation Acc 77.69 %\n",
      "Epoch:90/100 AVG Training Loss:0.455 AVG Validation Loss:0.535 AVG Training Acc 80.75 % AVG Validation Acc 77.82 %\n",
      "Epoch    90: reducing learning rate of group 0 to 1.0000e-05.\n",
      "Epoch:100/100 AVG Training Loss:0.457 AVG Validation Loss:0.534 AVG Training Acc 80.71 % AVG Validation Acc 77.55 %\n",
      "Split 117\n"
     ]
    },
    {
     "data": {
      "application/vnd.jupyter.widget-view+json": {
       "model_id": "77a88093693042debb44a36b506ce33f",
       "version_major": 2,
       "version_minor": 0
      },
      "text/plain": [
       "  0%|          | 0/100 [00:00<?, ?it/s]"
      ]
     },
     "metadata": {},
     "output_type": "display_data"
    },
    {
     "name": "stdout",
     "output_type": "stream",
     "text": [
      "Epoch:10/100 AVG Training Loss:0.495 AVG Validation Loss:0.508 AVG Training Acc 79.92 % AVG Validation Acc 79.41 %\n",
      "Epoch:20/100 AVG Training Loss:0.495 AVG Validation Loss:0.508 AVG Training Acc 79.86 % AVG Validation Acc 79.54 %\n",
      "Epoch:30/100 AVG Training Loss:0.483 AVG Validation Loss:0.498 AVG Training Acc 80.17 % AVG Validation Acc 79.14 %\n",
      "Epoch    33: reducing learning rate of group 0 to 1.0000e-03.\n",
      "Epoch:40/100 AVG Training Loss:0.477 AVG Validation Loss:0.493 AVG Training Acc 80.23 % AVG Validation Acc 79.00 %\n",
      "Epoch:50/100 AVG Training Loss:0.464 AVG Validation Loss:0.504 AVG Training Acc 80.61 % AVG Validation Acc 78.47 %\n",
      "Epoch:60/100 AVG Training Loss:0.462 AVG Validation Loss:0.509 AVG Training Acc 80.65 % AVG Validation Acc 78.73 %\n",
      "Epoch    64: reducing learning rate of group 0 to 1.0000e-04.\n",
      "Epoch:70/100 AVG Training Loss:0.456 AVG Validation Loss:0.502 AVG Training Acc 80.77 % AVG Validation Acc 78.87 %\n",
      "Epoch:80/100 AVG Training Loss:0.455 AVG Validation Loss:0.505 AVG Training Acc 80.70 % AVG Validation Acc 78.87 %\n",
      "Epoch:90/100 AVG Training Loss:0.452 AVG Validation Loss:0.509 AVG Training Acc 81.07 % AVG Validation Acc 78.87 %\n",
      "Epoch    95: reducing learning rate of group 0 to 1.0000e-05.\n",
      "Epoch:100/100 AVG Training Loss:0.452 AVG Validation Loss:0.511 AVG Training Acc 81.10 % AVG Validation Acc 78.87 %\n",
      "Split 118\n"
     ]
    },
    {
     "data": {
      "application/vnd.jupyter.widget-view+json": {
       "model_id": "2f7253b66a574080bd8e7bd0fdc69266",
       "version_major": 2,
       "version_minor": 0
      },
      "text/plain": [
       "  0%|          | 0/100 [00:00<?, ?it/s]"
      ]
     },
     "metadata": {},
     "output_type": "display_data"
    },
    {
     "name": "stdout",
     "output_type": "stream",
     "text": [
      "Epoch:10/100 AVG Training Loss:0.493 AVG Validation Loss:0.508 AVG Training Acc 79.98 % AVG Validation Acc 78.87 %\n",
      "Epoch:20/100 AVG Training Loss:0.486 AVG Validation Loss:0.507 AVG Training Acc 79.95 % AVG Validation Acc 78.60 %\n",
      "Epoch    28: reducing learning rate of group 0 to 1.0000e-03.\n",
      "Epoch:30/100 AVG Training Loss:0.468 AVG Validation Loss:0.509 AVG Training Acc 80.29 % AVG Validation Acc 78.60 %\n",
      "Epoch:40/100 AVG Training Loss:0.458 AVG Validation Loss:0.520 AVG Training Acc 80.70 % AVG Validation Acc 78.33 %\n",
      "Epoch:50/100 AVG Training Loss:0.448 AVG Validation Loss:0.539 AVG Training Acc 80.55 % AVG Validation Acc 77.93 %\n",
      "Epoch    59: reducing learning rate of group 0 to 1.0000e-04.\n",
      "Epoch:60/100 AVG Training Loss:0.440 AVG Validation Loss:0.551 AVG Training Acc 81.20 % AVG Validation Acc 77.52 %\n",
      "Epoch:70/100 AVG Training Loss:0.438 AVG Validation Loss:0.544 AVG Training Acc 81.07 % AVG Validation Acc 77.66 %\n",
      "Epoch:80/100 AVG Training Loss:0.436 AVG Validation Loss:0.550 AVG Training Acc 81.16 % AVG Validation Acc 77.79 %\n",
      "Epoch:90/100 AVG Training Loss:0.436 AVG Validation Loss:0.560 AVG Training Acc 81.01 % AVG Validation Acc 77.25 %\n",
      "Epoch    90: reducing learning rate of group 0 to 1.0000e-05.\n",
      "Epoch:100/100 AVG Training Loss:0.435 AVG Validation Loss:0.556 AVG Training Acc 81.41 % AVG Validation Acc 77.52 %\n",
      "Split 119\n"
     ]
    },
    {
     "data": {
      "application/vnd.jupyter.widget-view+json": {
       "model_id": "507c08e7ac274197a4b4c065455833b1",
       "version_major": 2,
       "version_minor": 0
      },
      "text/plain": [
       "  0%|          | 0/100 [00:00<?, ?it/s]"
      ]
     },
     "metadata": {},
     "output_type": "display_data"
    },
    {
     "name": "stdout",
     "output_type": "stream",
     "text": [
      "Epoch:10/100 AVG Training Loss:0.501 AVG Validation Loss:0.499 AVG Training Acc 79.93 % AVG Validation Acc 79.27 %\n",
      "Epoch:20/100 AVG Training Loss:0.491 AVG Validation Loss:0.483 AVG Training Acc 79.92 % AVG Validation Acc 79.41 %\n",
      "Epoch:30/100 AVG Training Loss:0.488 AVG Validation Loss:0.490 AVG Training Acc 80.02 % AVG Validation Acc 79.27 %\n",
      "Epoch:40/100 AVG Training Loss:0.488 AVG Validation Loss:0.488 AVG Training Acc 79.93 % AVG Validation Acc 79.41 %\n",
      "Epoch    42: reducing learning rate of group 0 to 1.0000e-03.\n",
      "Epoch:50/100 AVG Training Loss:0.473 AVG Validation Loss:0.491 AVG Training Acc 80.37 % AVG Validation Acc 79.00 %\n",
      "Epoch:60/100 AVG Training Loss:0.461 AVG Validation Loss:0.494 AVG Training Acc 80.79 % AVG Validation Acc 78.87 %\n",
      "Epoch:70/100 AVG Training Loss:0.454 AVG Validation Loss:0.501 AVG Training Acc 80.95 % AVG Validation Acc 79.14 %\n",
      "Epoch    73: reducing learning rate of group 0 to 1.0000e-04.\n",
      "Epoch:80/100 AVG Training Loss:0.450 AVG Validation Loss:0.503 AVG Training Acc 81.17 % AVG Validation Acc 79.14 %\n",
      "Epoch:90/100 AVG Training Loss:0.448 AVG Validation Loss:0.503 AVG Training Acc 81.07 % AVG Validation Acc 79.00 %\n",
      "Epoch:100/100 AVG Training Loss:0.446 AVG Validation Loss:0.506 AVG Training Acc 81.14 % AVG Validation Acc 78.87 %\n",
      "Split 120\n"
     ]
    },
    {
     "data": {
      "application/vnd.jupyter.widget-view+json": {
       "model_id": "aefdd264b014484e9f9913aea712224c",
       "version_major": 2,
       "version_minor": 0
      },
      "text/plain": [
       "  0%|          | 0/100 [00:00<?, ?it/s]"
      ]
     },
     "metadata": {},
     "output_type": "display_data"
    },
    {
     "name": "stdout",
     "output_type": "stream",
     "text": [
      "Epoch:10/100 AVG Training Loss:0.493 AVG Validation Loss:0.498 AVG Training Acc 79.86 % AVG Validation Acc 79.95 %\n",
      "Epoch:20/100 AVG Training Loss:0.492 AVG Validation Loss:0.497 AVG Training Acc 79.84 % AVG Validation Acc 79.95 %\n",
      "Epoch:30/100 AVG Training Loss:0.482 AVG Validation Loss:0.496 AVG Training Acc 79.84 % AVG Validation Acc 79.81 %\n",
      "Epoch    35: reducing learning rate of group 0 to 1.0000e-03.\n",
      "Epoch:40/100 AVG Training Loss:0.465 AVG Validation Loss:0.513 AVG Training Acc 80.28 % AVG Validation Acc 79.81 %\n",
      "Epoch:50/100 AVG Training Loss:0.453 AVG Validation Loss:0.518 AVG Training Acc 80.38 % AVG Validation Acc 79.68 %\n",
      "Epoch:60/100 AVG Training Loss:0.446 AVG Validation Loss:0.531 AVG Training Acc 80.70 % AVG Validation Acc 77.79 %\n",
      "Epoch    66: reducing learning rate of group 0 to 1.0000e-04.\n",
      "Epoch:70/100 AVG Training Loss:0.441 AVG Validation Loss:0.533 AVG Training Acc 80.82 % AVG Validation Acc 77.79 %\n",
      "Epoch:80/100 AVG Training Loss:0.442 AVG Validation Loss:0.535 AVG Training Acc 81.07 % AVG Validation Acc 77.66 %\n",
      "Epoch:90/100 AVG Training Loss:0.438 AVG Validation Loss:0.539 AVG Training Acc 81.02 % AVG Validation Acc 77.66 %\n",
      "Epoch    97: reducing learning rate of group 0 to 1.0000e-05.\n",
      "Epoch:100/100 AVG Training Loss:0.436 AVG Validation Loss:0.543 AVG Training Acc 81.29 % AVG Validation Acc 77.39 %\n",
      "Split 121\n"
     ]
    },
    {
     "data": {
      "application/vnd.jupyter.widget-view+json": {
       "model_id": "0e93c30bcf5e4627b9ad7e2c2690bf3a",
       "version_major": 2,
       "version_minor": 0
      },
      "text/plain": [
       "  0%|          | 0/100 [00:00<?, ?it/s]"
      ]
     },
     "metadata": {},
     "output_type": "display_data"
    },
    {
     "name": "stdout",
     "output_type": "stream",
     "text": [
      "Epoch:10/100 AVG Training Loss:0.494 AVG Validation Loss:0.499 AVG Training Acc 79.93 % AVG Validation Acc 79.17 %\n",
      "Epoch:20/100 AVG Training Loss:0.486 AVG Validation Loss:0.497 AVG Training Acc 79.92 % AVG Validation Acc 79.17 %\n",
      "Epoch    25: reducing learning rate of group 0 to 1.0000e-03.\n",
      "Epoch:30/100 AVG Training Loss:0.473 AVG Validation Loss:0.500 AVG Training Acc 80.22 % AVG Validation Acc 79.17 %\n",
      "Epoch:40/100 AVG Training Loss:0.466 AVG Validation Loss:0.509 AVG Training Acc 80.17 % AVG Validation Acc 79.03 %\n",
      "Epoch:50/100 AVG Training Loss:0.463 AVG Validation Loss:0.521 AVG Training Acc 80.38 % AVG Validation Acc 78.76 %\n",
      "Epoch    56: reducing learning rate of group 0 to 1.0000e-04.\n",
      "Epoch:60/100 AVG Training Loss:0.456 AVG Validation Loss:0.523 AVG Training Acc 80.75 % AVG Validation Acc 78.49 %\n",
      "Epoch:70/100 AVG Training Loss:0.456 AVG Validation Loss:0.525 AVG Training Acc 80.68 % AVG Validation Acc 78.63 %\n",
      "Epoch:80/100 AVG Training Loss:0.455 AVG Validation Loss:0.527 AVG Training Acc 80.66 % AVG Validation Acc 78.23 %\n",
      "Epoch    87: reducing learning rate of group 0 to 1.0000e-05.\n",
      "Epoch:90/100 AVG Training Loss:0.455 AVG Validation Loss:0.528 AVG Training Acc 80.48 % AVG Validation Acc 78.23 %\n",
      "Epoch:100/100 AVG Training Loss:0.454 AVG Validation Loss:0.529 AVG Training Acc 80.59 % AVG Validation Acc 78.09 %\n",
      "Split 122\n"
     ]
    },
    {
     "data": {
      "application/vnd.jupyter.widget-view+json": {
       "model_id": "77424a5095d743f29abc86e2e86d429b",
       "version_major": 2,
       "version_minor": 0
      },
      "text/plain": [
       "  0%|          | 0/100 [00:00<?, ?it/s]"
      ]
     },
     "metadata": {},
     "output_type": "display_data"
    },
    {
     "name": "stdout",
     "output_type": "stream",
     "text": [
      "Epoch:10/100 AVG Training Loss:0.495 AVG Validation Loss:0.487 AVG Training Acc 79.77 % AVG Validation Acc 80.51 %\n",
      "Epoch:20/100 AVG Training Loss:0.489 AVG Validation Loss:0.484 AVG Training Acc 79.83 % AVG Validation Acc 80.38 %\n",
      "Epoch    22: reducing learning rate of group 0 to 1.0000e-03.\n",
      "Epoch:30/100 AVG Training Loss:0.477 AVG Validation Loss:0.478 AVG Training Acc 80.16 % AVG Validation Acc 79.97 %\n",
      "Epoch:40/100 AVG Training Loss:0.471 AVG Validation Loss:0.476 AVG Training Acc 80.29 % AVG Validation Acc 80.11 %\n",
      "Epoch:50/100 AVG Training Loss:0.467 AVG Validation Loss:0.477 AVG Training Acc 80.54 % AVG Validation Acc 79.97 %\n",
      "Epoch    53: reducing learning rate of group 0 to 1.0000e-04.\n",
      "Epoch:60/100 AVG Training Loss:0.462 AVG Validation Loss:0.477 AVG Training Acc 80.44 % AVG Validation Acc 79.84 %\n",
      "Epoch:70/100 AVG Training Loss:0.463 AVG Validation Loss:0.481 AVG Training Acc 80.69 % AVG Validation Acc 79.84 %\n",
      "Epoch:80/100 AVG Training Loss:0.460 AVG Validation Loss:0.483 AVG Training Acc 80.44 % AVG Validation Acc 79.70 %\n",
      "Epoch    84: reducing learning rate of group 0 to 1.0000e-05.\n",
      "Epoch:90/100 AVG Training Loss:0.460 AVG Validation Loss:0.482 AVG Training Acc 80.71 % AVG Validation Acc 79.57 %\n",
      "Epoch:100/100 AVG Training Loss:0.461 AVG Validation Loss:0.481 AVG Training Acc 80.51 % AVG Validation Acc 79.84 %\n",
      "Split 123\n"
     ]
    },
    {
     "data": {
      "application/vnd.jupyter.widget-view+json": {
       "model_id": "cd18d0a409d34374935860be0bfbc825",
       "version_major": 2,
       "version_minor": 0
      },
      "text/plain": [
       "  0%|          | 0/100 [00:00<?, ?it/s]"
      ]
     },
     "metadata": {},
     "output_type": "display_data"
    },
    {
     "name": "stdout",
     "output_type": "stream",
     "text": [
      "Epoch:10/100 AVG Training Loss:0.492 AVG Validation Loss:0.495 AVG Training Acc 79.84 % AVG Validation Acc 79.97 %\n",
      "Epoch:20/100 AVG Training Loss:0.489 AVG Validation Loss:0.499 AVG Training Acc 79.80 % AVG Validation Acc 79.57 %\n",
      "Epoch    27: reducing learning rate of group 0 to 1.0000e-03.\n",
      "Epoch:30/100 AVG Training Loss:0.480 AVG Validation Loss:0.493 AVG Training Acc 80.04 % AVG Validation Acc 79.70 %\n",
      "Epoch:40/100 AVG Training Loss:0.474 AVG Validation Loss:0.493 AVG Training Acc 80.22 % AVG Validation Acc 79.84 %\n",
      "Epoch:50/100 AVG Training Loss:0.465 AVG Validation Loss:0.511 AVG Training Acc 80.65 % AVG Validation Acc 79.44 %\n",
      "Epoch    58: reducing learning rate of group 0 to 1.0000e-04.\n",
      "Epoch:60/100 AVG Training Loss:0.459 AVG Validation Loss:0.513 AVG Training Acc 80.86 % AVG Validation Acc 79.30 %\n",
      "Epoch:70/100 AVG Training Loss:0.458 AVG Validation Loss:0.515 AVG Training Acc 80.83 % AVG Validation Acc 79.44 %\n",
      "Epoch:80/100 AVG Training Loss:0.452 AVG Validation Loss:0.519 AVG Training Acc 81.23 % AVG Validation Acc 79.44 %\n",
      "Epoch    89: reducing learning rate of group 0 to 1.0000e-05.\n",
      "Epoch:90/100 AVG Training Loss:0.456 AVG Validation Loss:0.523 AVG Training Acc 80.99 % AVG Validation Acc 79.30 %\n",
      "Epoch:100/100 AVG Training Loss:0.455 AVG Validation Loss:0.519 AVG Training Acc 80.99 % AVG Validation Acc 79.30 %\n",
      "Split 124\n"
     ]
    },
    {
     "data": {
      "application/vnd.jupyter.widget-view+json": {
       "model_id": "19e1dd473a354e3db65d2894ec613aa5",
       "version_major": 2,
       "version_minor": 0
      },
      "text/plain": [
       "  0%|          | 0/100 [00:00<?, ?it/s]"
      ]
     },
     "metadata": {},
     "output_type": "display_data"
    },
    {
     "name": "stdout",
     "output_type": "stream",
     "text": [
      "Epoch:10/100 AVG Training Loss:0.496 AVG Validation Loss:0.471 AVG Training Acc 79.77 % AVG Validation Acc 81.45 %\n",
      "Epoch:20/100 AVG Training Loss:0.493 AVG Validation Loss:0.473 AVG Training Acc 79.78 % AVG Validation Acc 81.18 %\n",
      "Epoch:30/100 AVG Training Loss:0.490 AVG Validation Loss:0.472 AVG Training Acc 79.78 % AVG Validation Acc 81.05 %\n",
      "Epoch    30: reducing learning rate of group 0 to 1.0000e-03.\n",
      "Epoch:40/100 AVG Training Loss:0.478 AVG Validation Loss:0.482 AVG Training Acc 80.02 % AVG Validation Acc 80.91 %\n",
      "Epoch:50/100 AVG Training Loss:0.472 AVG Validation Loss:0.488 AVG Training Acc 80.17 % AVG Validation Acc 80.91 %\n",
      "Epoch:60/100 AVG Training Loss:0.467 AVG Validation Loss:0.492 AVG Training Acc 80.32 % AVG Validation Acc 80.78 %\n",
      "Epoch    61: reducing learning rate of group 0 to 1.0000e-04.\n",
      "Epoch:70/100 AVG Training Loss:0.462 AVG Validation Loss:0.495 AVG Training Acc 80.45 % AVG Validation Acc 80.51 %\n",
      "Epoch:80/100 AVG Training Loss:0.459 AVG Validation Loss:0.498 AVG Training Acc 80.50 % AVG Validation Acc 80.51 %\n",
      "Epoch:90/100 AVG Training Loss:0.461 AVG Validation Loss:0.499 AVG Training Acc 80.65 % AVG Validation Acc 80.51 %\n",
      "Epoch    92: reducing learning rate of group 0 to 1.0000e-05.\n",
      "Epoch:100/100 AVG Training Loss:0.459 AVG Validation Loss:0.500 AVG Training Acc 80.68 % AVG Validation Acc 80.51 %\n",
      "Split 125\n"
     ]
    },
    {
     "data": {
      "application/vnd.jupyter.widget-view+json": {
       "model_id": "30c1de70637c4176aac882baca3c7b2f",
       "version_major": 2,
       "version_minor": 0
      },
      "text/plain": [
       "  0%|          | 0/100 [00:00<?, ?it/s]"
      ]
     },
     "metadata": {},
     "output_type": "display_data"
    },
    {
     "name": "stdout",
     "output_type": "stream",
     "text": [
      "Epoch:10/100 AVG Training Loss:0.493 AVG Validation Loss:0.523 AVG Training Acc 80.07 % AVG Validation Acc 77.69 %\n",
      "Epoch:20/100 AVG Training Loss:0.490 AVG Validation Loss:0.510 AVG Training Acc 79.96 % AVG Validation Acc 77.55 %\n",
      "Epoch:30/100 AVG Training Loss:0.484 AVG Validation Loss:0.513 AVG Training Acc 80.10 % AVG Validation Acc 78.23 %\n",
      "Epoch:40/100 AVG Training Loss:0.480 AVG Validation Loss:0.507 AVG Training Acc 80.30 % AVG Validation Acc 77.96 %\n",
      "Epoch:50/100 AVG Training Loss:0.468 AVG Validation Loss:0.525 AVG Training Acc 80.44 % AVG Validation Acc 77.82 %\n",
      "Epoch    51: reducing learning rate of group 0 to 1.0000e-03.\n",
      "Epoch:60/100 AVG Training Loss:0.453 AVG Validation Loss:0.529 AVG Training Acc 80.92 % AVG Validation Acc 77.15 %\n",
      "Epoch:70/100 AVG Training Loss:0.447 AVG Validation Loss:0.531 AVG Training Acc 81.13 % AVG Validation Acc 77.15 %\n",
      "Epoch:80/100 AVG Training Loss:0.442 AVG Validation Loss:0.534 AVG Training Acc 81.35 % AVG Validation Acc 77.69 %\n",
      "Epoch    82: reducing learning rate of group 0 to 1.0000e-04.\n",
      "Epoch:90/100 AVG Training Loss:0.436 AVG Validation Loss:0.525 AVG Training Acc 81.68 % AVG Validation Acc 78.09 %\n",
      "Epoch:100/100 AVG Training Loss:0.432 AVG Validation Loss:0.530 AVG Training Acc 81.66 % AVG Validation Acc 77.69 %\n",
      "Split 126\n"
     ]
    },
    {
     "data": {
      "application/vnd.jupyter.widget-view+json": {
       "model_id": "0dfb9262bdc94d42a9cc07127d0bd330",
       "version_major": 2,
       "version_minor": 0
      },
      "text/plain": [
       "  0%|          | 0/100 [00:00<?, ?it/s]"
      ]
     },
     "metadata": {},
     "output_type": "display_data"
    },
    {
     "name": "stdout",
     "output_type": "stream",
     "text": [
      "Epoch:10/100 AVG Training Loss:0.494 AVG Validation Loss:0.476 AVG Training Acc 79.62 % AVG Validation Acc 81.45 %\n",
      "Epoch:20/100 AVG Training Loss:0.490 AVG Validation Loss:0.481 AVG Training Acc 79.74 % AVG Validation Acc 81.45 %\n",
      "Epoch    23: reducing learning rate of group 0 to 1.0000e-03.\n",
      "Epoch:30/100 AVG Training Loss:0.478 AVG Validation Loss:0.490 AVG Training Acc 79.98 % AVG Validation Acc 81.18 %\n",
      "Epoch:40/100 AVG Training Loss:0.471 AVG Validation Loss:0.494 AVG Training Acc 80.01 % AVG Validation Acc 81.32 %\n",
      "Epoch:50/100 AVG Training Loss:0.468 AVG Validation Loss:0.504 AVG Training Acc 80.07 % AVG Validation Acc 81.32 %\n",
      "Epoch    54: reducing learning rate of group 0 to 1.0000e-04.\n",
      "Epoch:60/100 AVG Training Loss:0.462 AVG Validation Loss:0.504 AVG Training Acc 80.26 % AVG Validation Acc 81.18 %\n",
      "Epoch:70/100 AVG Training Loss:0.462 AVG Validation Loss:0.507 AVG Training Acc 80.04 % AVG Validation Acc 81.18 %\n",
      "Epoch:80/100 AVG Training Loss:0.459 AVG Validation Loss:0.509 AVG Training Acc 80.14 % AVG Validation Acc 81.18 %\n",
      "Epoch    85: reducing learning rate of group 0 to 1.0000e-05.\n",
      "Epoch:90/100 AVG Training Loss:0.459 AVG Validation Loss:0.511 AVG Training Acc 80.25 % AVG Validation Acc 81.05 %\n",
      "Epoch:100/100 AVG Training Loss:0.458 AVG Validation Loss:0.510 AVG Training Acc 80.23 % AVG Validation Acc 81.05 %\n",
      "Split 127\n"
     ]
    },
    {
     "data": {
      "application/vnd.jupyter.widget-view+json": {
       "model_id": "008e497174cd4c289a22bf779557469f",
       "version_major": 2,
       "version_minor": 0
      },
      "text/plain": [
       "  0%|          | 0/100 [00:00<?, ?it/s]"
      ]
     },
     "metadata": {},
     "output_type": "display_data"
    },
    {
     "name": "stdout",
     "output_type": "stream",
     "text": [
      "Epoch:10/100 AVG Training Loss:0.496 AVG Validation Loss:0.497 AVG Training Acc 79.83 % AVG Validation Acc 80.22 %\n",
      "Epoch:20/100 AVG Training Loss:0.491 AVG Validation Loss:0.487 AVG Training Acc 79.83 % AVG Validation Acc 80.08 %\n",
      "Epoch:30/100 AVG Training Loss:0.487 AVG Validation Loss:0.488 AVG Training Acc 79.75 % AVG Validation Acc 80.22 %\n",
      "Epoch:40/100 AVG Training Loss:0.484 AVG Validation Loss:0.487 AVG Training Acc 80.02 % AVG Validation Acc 80.08 %\n",
      "Epoch    45: reducing learning rate of group 0 to 1.0000e-03.\n",
      "Epoch:50/100 AVG Training Loss:0.466 AVG Validation Loss:0.506 AVG Training Acc 80.41 % AVG Validation Acc 79.41 %\n",
      "Epoch:60/100 AVG Training Loss:0.460 AVG Validation Loss:0.511 AVG Training Acc 80.52 % AVG Validation Acc 79.14 %\n",
      "Epoch:70/100 AVG Training Loss:0.451 AVG Validation Loss:0.515 AVG Training Acc 80.88 % AVG Validation Acc 78.87 %\n",
      "Epoch    76: reducing learning rate of group 0 to 1.0000e-04.\n",
      "Epoch:80/100 AVG Training Loss:0.444 AVG Validation Loss:0.519 AVG Training Acc 80.95 % AVG Validation Acc 79.00 %\n",
      "Epoch:90/100 AVG Training Loss:0.445 AVG Validation Loss:0.520 AVG Training Acc 80.97 % AVG Validation Acc 78.73 %\n",
      "Epoch:100/100 AVG Training Loss:0.443 AVG Validation Loss:0.518 AVG Training Acc 81.17 % AVG Validation Acc 78.73 %\n",
      "Split 128\n"
     ]
    },
    {
     "data": {
      "application/vnd.jupyter.widget-view+json": {
       "model_id": "3f4dc28c76d94cbaa598c60e845df24b",
       "version_major": 2,
       "version_minor": 0
      },
      "text/plain": [
       "  0%|          | 0/100 [00:00<?, ?it/s]"
      ]
     },
     "metadata": {},
     "output_type": "display_data"
    },
    {
     "name": "stdout",
     "output_type": "stream",
     "text": [
      "Epoch:10/100 AVG Training Loss:0.502 AVG Validation Loss:0.491 AVG Training Acc 79.83 % AVG Validation Acc 80.08 %\n",
      "Epoch:20/100 AVG Training Loss:0.493 AVG Validation Loss:0.484 AVG Training Acc 79.84 % AVG Validation Acc 80.08 %\n",
      "Epoch:30/100 AVG Training Loss:0.487 AVG Validation Loss:0.488 AVG Training Acc 79.93 % AVG Validation Acc 80.08 %\n",
      "Epoch    37: reducing learning rate of group 0 to 1.0000e-03.\n",
      "Epoch:40/100 AVG Training Loss:0.474 AVG Validation Loss:0.487 AVG Training Acc 80.10 % AVG Validation Acc 79.95 %\n",
      "Epoch:50/100 AVG Training Loss:0.466 AVG Validation Loss:0.491 AVG Training Acc 80.26 % AVG Validation Acc 79.68 %\n",
      "Epoch:60/100 AVG Training Loss:0.463 AVG Validation Loss:0.496 AVG Training Acc 80.55 % AVG Validation Acc 78.87 %\n",
      "Epoch    68: reducing learning rate of group 0 to 1.0000e-04.\n",
      "Epoch:70/100 AVG Training Loss:0.459 AVG Validation Loss:0.496 AVG Training Acc 80.70 % AVG Validation Acc 79.00 %\n",
      "Epoch:80/100 AVG Training Loss:0.456 AVG Validation Loss:0.496 AVG Training Acc 80.83 % AVG Validation Acc 78.87 %\n",
      "Epoch:90/100 AVG Training Loss:0.455 AVG Validation Loss:0.498 AVG Training Acc 80.83 % AVG Validation Acc 78.87 %\n",
      "Epoch    99: reducing learning rate of group 0 to 1.0000e-05.\n",
      "Epoch:100/100 AVG Training Loss:0.453 AVG Validation Loss:0.500 AVG Training Acc 80.89 % AVG Validation Acc 78.73 %\n",
      "Split 129\n"
     ]
    },
    {
     "data": {
      "application/vnd.jupyter.widget-view+json": {
       "model_id": "4cf0f2a091984b81aa5fc7d92a0e2d95",
       "version_major": 2,
       "version_minor": 0
      },
      "text/plain": [
       "  0%|          | 0/100 [00:00<?, ?it/s]"
      ]
     },
     "metadata": {},
     "output_type": "display_data"
    },
    {
     "name": "stdout",
     "output_type": "stream",
     "text": [
      "Epoch:10/100 AVG Training Loss:0.492 AVG Validation Loss:0.495 AVG Training Acc 79.80 % AVG Validation Acc 80.08 %\n",
      "Epoch:20/100 AVG Training Loss:0.505 AVG Validation Loss:0.506 AVG Training Acc 79.84 % AVG Validation Acc 80.08 %\n",
      "Epoch    21: reducing learning rate of group 0 to 1.0000e-03.\n",
      "Epoch:30/100 AVG Training Loss:0.491 AVG Validation Loss:0.497 AVG Training Acc 79.95 % AVG Validation Acc 79.81 %\n",
      "Epoch:40/100 AVG Training Loss:0.490 AVG Validation Loss:0.497 AVG Training Acc 80.07 % AVG Validation Acc 79.95 %\n",
      "Epoch:50/100 AVG Training Loss:0.486 AVG Validation Loss:0.499 AVG Training Acc 80.10 % AVG Validation Acc 79.95 %\n",
      "Epoch    52: reducing learning rate of group 0 to 1.0000e-04.\n",
      "Epoch:60/100 AVG Training Loss:0.479 AVG Validation Loss:0.504 AVG Training Acc 80.11 % AVG Validation Acc 79.95 %\n",
      "Epoch:70/100 AVG Training Loss:0.481 AVG Validation Loss:0.504 AVG Training Acc 80.08 % AVG Validation Acc 79.95 %\n",
      "Epoch:80/100 AVG Training Loss:0.476 AVG Validation Loss:0.504 AVG Training Acc 80.13 % AVG Validation Acc 79.95 %\n",
      "Epoch    83: reducing learning rate of group 0 to 1.0000e-05.\n",
      "Epoch:90/100 AVG Training Loss:0.480 AVG Validation Loss:0.505 AVG Training Acc 80.08 % AVG Validation Acc 79.95 %\n",
      "Epoch:100/100 AVG Training Loss:0.475 AVG Validation Loss:0.505 AVG Training Acc 80.19 % AVG Validation Acc 79.95 %\n",
      "Split 130\n"
     ]
    },
    {
     "data": {
      "application/vnd.jupyter.widget-view+json": {
       "model_id": "1ce7b8cb2e0e4568bb885e8cc1ad81c2",
       "version_major": 2,
       "version_minor": 0
      },
      "text/plain": [
       "  0%|          | 0/100 [00:00<?, ?it/s]"
      ]
     },
     "metadata": {},
     "output_type": "display_data"
    },
    {
     "name": "stdout",
     "output_type": "stream",
     "text": [
      "Epoch:10/100 AVG Training Loss:0.491 AVG Validation Loss:0.524 AVG Training Acc 80.07 % AVG Validation Acc 77.93 %\n",
      "Epoch:20/100 AVG Training Loss:0.489 AVG Validation Loss:0.518 AVG Training Acc 80.10 % AVG Validation Acc 77.93 %\n",
      "Epoch    26: reducing learning rate of group 0 to 1.0000e-03.\n",
      "Epoch:30/100 AVG Training Loss:0.478 AVG Validation Loss:0.521 AVG Training Acc 80.17 % AVG Validation Acc 78.06 %\n",
      "Epoch:40/100 AVG Training Loss:0.471 AVG Validation Loss:0.520 AVG Training Acc 80.41 % AVG Validation Acc 78.06 %\n",
      "Epoch:50/100 AVG Training Loss:0.467 AVG Validation Loss:0.521 AVG Training Acc 80.50 % AVG Validation Acc 78.20 %\n",
      "Epoch    57: reducing learning rate of group 0 to 1.0000e-04.\n",
      "Epoch:60/100 AVG Training Loss:0.460 AVG Validation Loss:0.523 AVG Training Acc 80.73 % AVG Validation Acc 77.93 %\n",
      "Epoch:70/100 AVG Training Loss:0.456 AVG Validation Loss:0.524 AVG Training Acc 80.82 % AVG Validation Acc 77.93 %\n",
      "Epoch:80/100 AVG Training Loss:0.457 AVG Validation Loss:0.524 AVG Training Acc 80.88 % AVG Validation Acc 77.79 %\n",
      "Epoch    88: reducing learning rate of group 0 to 1.0000e-05.\n",
      "Epoch:90/100 AVG Training Loss:0.455 AVG Validation Loss:0.526 AVG Training Acc 80.95 % AVG Validation Acc 77.93 %\n",
      "Epoch:100/100 AVG Training Loss:0.455 AVG Validation Loss:0.525 AVG Training Acc 81.07 % AVG Validation Acc 77.79 %\n",
      "Split 131\n"
     ]
    },
    {
     "data": {
      "application/vnd.jupyter.widget-view+json": {
       "model_id": "16a5e324f1b24f79ae084776ec26afaa",
       "version_major": 2,
       "version_minor": 0
      },
      "text/plain": [
       "  0%|          | 0/100 [00:00<?, ?it/s]"
      ]
     },
     "metadata": {},
     "output_type": "display_data"
    },
    {
     "name": "stdout",
     "output_type": "stream",
     "text": [
      "Epoch:10/100 AVG Training Loss:0.500 AVG Validation Loss:0.477 AVG Training Acc 79.74 % AVG Validation Acc 80.78 %\n",
      "Epoch:20/100 AVG Training Loss:0.491 AVG Validation Loss:0.475 AVG Training Acc 79.78 % AVG Validation Acc 80.78 %\n",
      "Epoch:30/100 AVG Training Loss:0.485 AVG Validation Loss:0.479 AVG Training Acc 79.75 % AVG Validation Acc 80.78 %\n",
      "Epoch    35: reducing learning rate of group 0 to 1.0000e-03.\n",
      "Epoch:40/100 AVG Training Loss:0.472 AVG Validation Loss:0.475 AVG Training Acc 80.04 % AVG Validation Acc 80.38 %\n",
      "Epoch:50/100 AVG Training Loss:0.458 AVG Validation Loss:0.486 AVG Training Acc 80.48 % AVG Validation Acc 80.11 %\n",
      "Epoch:60/100 AVG Training Loss:0.456 AVG Validation Loss:0.500 AVG Training Acc 80.50 % AVG Validation Acc 80.11 %\n",
      "Epoch    66: reducing learning rate of group 0 to 1.0000e-04.\n",
      "Epoch:70/100 AVG Training Loss:0.448 AVG Validation Loss:0.497 AVG Training Acc 80.92 % AVG Validation Acc 80.24 %\n",
      "Epoch:80/100 AVG Training Loss:0.448 AVG Validation Loss:0.506 AVG Training Acc 80.65 % AVG Validation Acc 80.24 %\n",
      "Epoch:90/100 AVG Training Loss:0.444 AVG Validation Loss:0.502 AVG Training Acc 80.98 % AVG Validation Acc 80.24 %\n",
      "Epoch    97: reducing learning rate of group 0 to 1.0000e-05.\n",
      "Epoch:100/100 AVG Training Loss:0.447 AVG Validation Loss:0.504 AVG Training Acc 80.81 % AVG Validation Acc 80.11 %\n",
      "Split 132\n"
     ]
    },
    {
     "data": {
      "application/vnd.jupyter.widget-view+json": {
       "model_id": "bc4876dd8e394e649f072126e7b7474f",
       "version_major": 2,
       "version_minor": 0
      },
      "text/plain": [
       "  0%|          | 0/100 [00:00<?, ?it/s]"
      ]
     },
     "metadata": {},
     "output_type": "display_data"
    },
    {
     "name": "stdout",
     "output_type": "stream",
     "text": [
      "Epoch:10/100 AVG Training Loss:0.498 AVG Validation Loss:0.500 AVG Training Acc 79.89 % AVG Validation Acc 79.57 %\n",
      "Epoch:20/100 AVG Training Loss:0.498 AVG Validation Loss:0.508 AVG Training Acc 79.89 % AVG Validation Acc 79.57 %\n",
      "Epoch    28: reducing learning rate of group 0 to 1.0000e-03.\n",
      "Epoch:30/100 AVG Training Loss:0.485 AVG Validation Loss:0.506 AVG Training Acc 79.98 % AVG Validation Acc 79.44 %\n",
      "Epoch:40/100 AVG Training Loss:0.485 AVG Validation Loss:0.504 AVG Training Acc 80.07 % AVG Validation Acc 79.30 %\n",
      "Epoch:50/100 AVG Training Loss:0.481 AVG Validation Loss:0.504 AVG Training Acc 80.20 % AVG Validation Acc 78.90 %\n",
      "Epoch    59: reducing learning rate of group 0 to 1.0000e-04.\n",
      "Epoch:60/100 AVG Training Loss:0.480 AVG Validation Loss:0.505 AVG Training Acc 80.26 % AVG Validation Acc 79.03 %\n",
      "Epoch:70/100 AVG Training Loss:0.477 AVG Validation Loss:0.505 AVG Training Acc 80.38 % AVG Validation Acc 79.03 %\n",
      "Epoch:80/100 AVG Training Loss:0.476 AVG Validation Loss:0.505 AVG Training Acc 80.20 % AVG Validation Acc 78.90 %\n",
      "Epoch:90/100 AVG Training Loss:0.475 AVG Validation Loss:0.506 AVG Training Acc 80.42 % AVG Validation Acc 78.90 %\n",
      "Epoch    90: reducing learning rate of group 0 to 1.0000e-05.\n",
      "Epoch:100/100 AVG Training Loss:0.475 AVG Validation Loss:0.505 AVG Training Acc 80.35 % AVG Validation Acc 79.03 %\n",
      "Split 133\n"
     ]
    },
    {
     "data": {
      "application/vnd.jupyter.widget-view+json": {
       "model_id": "90d016378a2547a388241ecbbab25884",
       "version_major": 2,
       "version_minor": 0
      },
      "text/plain": [
       "  0%|          | 0/100 [00:00<?, ?it/s]"
      ]
     },
     "metadata": {},
     "output_type": "display_data"
    },
    {
     "name": "stdout",
     "output_type": "stream",
     "text": [
      "Epoch:10/100 AVG Training Loss:0.497 AVG Validation Loss:0.494 AVG Training Acc 79.84 % AVG Validation Acc 79.84 %\n",
      "Epoch    17: reducing learning rate of group 0 to 1.0000e-03.\n",
      "Epoch:20/100 AVG Training Loss:0.486 AVG Validation Loss:0.487 AVG Training Acc 79.81 % AVG Validation Acc 79.70 %\n",
      "Epoch:30/100 AVG Training Loss:0.483 AVG Validation Loss:0.486 AVG Training Acc 79.90 % AVG Validation Acc 79.70 %\n",
      "Epoch:40/100 AVG Training Loss:0.478 AVG Validation Loss:0.487 AVG Training Acc 80.17 % AVG Validation Acc 79.17 %\n",
      "Epoch    48: reducing learning rate of group 0 to 1.0000e-04.\n",
      "Epoch:50/100 AVG Training Loss:0.471 AVG Validation Loss:0.489 AVG Training Acc 80.47 % AVG Validation Acc 79.17 %\n",
      "Epoch:60/100 AVG Training Loss:0.469 AVG Validation Loss:0.489 AVG Training Acc 80.60 % AVG Validation Acc 79.17 %\n",
      "Epoch:70/100 AVG Training Loss:0.465 AVG Validation Loss:0.489 AVG Training Acc 80.38 % AVG Validation Acc 79.17 %\n",
      "Epoch    79: reducing learning rate of group 0 to 1.0000e-05.\n",
      "Epoch:80/100 AVG Training Loss:0.467 AVG Validation Loss:0.489 AVG Training Acc 80.80 % AVG Validation Acc 79.30 %\n",
      "Epoch:90/100 AVG Training Loss:0.467 AVG Validation Loss:0.490 AVG Training Acc 80.77 % AVG Validation Acc 79.03 %\n",
      "Epoch:100/100 AVG Training Loss:0.465 AVG Validation Loss:0.488 AVG Training Acc 80.71 % AVG Validation Acc 79.17 %\n",
      "Split 134\n"
     ]
    },
    {
     "data": {
      "application/vnd.jupyter.widget-view+json": {
       "model_id": "392d8b838bed4702bd37dc87f3f5a1e1",
       "version_major": 2,
       "version_minor": 0
      },
      "text/plain": [
       "  0%|          | 0/100 [00:00<?, ?it/s]"
      ]
     },
     "metadata": {},
     "output_type": "display_data"
    },
    {
     "name": "stdout",
     "output_type": "stream",
     "text": [
      "Epoch:10/100 AVG Training Loss:0.496 AVG Validation Loss:0.485 AVG Training Acc 79.74 % AVG Validation Acc 80.65 %\n",
      "Epoch:20/100 AVG Training Loss:0.492 AVG Validation Loss:0.479 AVG Training Acc 79.75 % AVG Validation Acc 80.65 %\n",
      "Epoch:30/100 AVG Training Loss:0.484 AVG Validation Loss:0.479 AVG Training Acc 79.80 % AVG Validation Acc 80.65 %\n",
      "Epoch    34: reducing learning rate of group 0 to 1.0000e-03.\n",
      "Epoch:40/100 AVG Training Loss:0.502 AVG Validation Loss:0.491 AVG Training Acc 79.78 % AVG Validation Acc 80.65 %\n",
      "Epoch:50/100 AVG Training Loss:0.496 AVG Validation Loss:0.486 AVG Training Acc 79.86 % AVG Validation Acc 80.51 %\n",
      "Epoch:60/100 AVG Training Loss:0.490 AVG Validation Loss:0.482 AVG Training Acc 79.83 % AVG Validation Acc 80.65 %\n",
      "Epoch    65: reducing learning rate of group 0 to 1.0000e-04.\n",
      "Epoch:70/100 AVG Training Loss:0.486 AVG Validation Loss:0.483 AVG Training Acc 79.87 % AVG Validation Acc 80.65 %\n",
      "Epoch:80/100 AVG Training Loss:0.487 AVG Validation Loss:0.482 AVG Training Acc 79.93 % AVG Validation Acc 80.65 %\n",
      "Epoch:90/100 AVG Training Loss:0.486 AVG Validation Loss:0.482 AVG Training Acc 79.87 % AVG Validation Acc 80.65 %\n",
      "Epoch    96: reducing learning rate of group 0 to 1.0000e-05.\n",
      "Epoch:100/100 AVG Training Loss:0.486 AVG Validation Loss:0.483 AVG Training Acc 79.92 % AVG Validation Acc 80.65 %\n",
      "Split 135\n"
     ]
    },
    {
     "data": {
      "application/vnd.jupyter.widget-view+json": {
       "model_id": "f2badd48c6c94060a5805964a028885e",
       "version_major": 2,
       "version_minor": 0
      },
      "text/plain": [
       "  0%|          | 0/100 [00:00<?, ?it/s]"
      ]
     },
     "metadata": {},
     "output_type": "display_data"
    },
    {
     "name": "stdout",
     "output_type": "stream",
     "text": [
      "Epoch:10/100 AVG Training Loss:0.496 AVG Validation Loss:0.505 AVG Training Acc 79.95 % AVG Validation Acc 79.17 %\n",
      "Epoch:20/100 AVG Training Loss:0.491 AVG Validation Loss:0.494 AVG Training Acc 79.80 % AVG Validation Acc 79.44 %\n",
      "Epoch:30/100 AVG Training Loss:0.486 AVG Validation Loss:0.495 AVG Training Acc 79.87 % AVG Validation Acc 79.17 %\n",
      "Epoch    30: reducing learning rate of group 0 to 1.0000e-03.\n",
      "Epoch:40/100 AVG Training Loss:0.473 AVG Validation Loss:0.504 AVG Training Acc 80.22 % AVG Validation Acc 79.03 %\n",
      "Epoch:50/100 AVG Training Loss:0.469 AVG Validation Loss:0.506 AVG Training Acc 80.44 % AVG Validation Acc 78.49 %\n",
      "Epoch:60/100 AVG Training Loss:0.460 AVG Validation Loss:0.516 AVG Training Acc 80.77 % AVG Validation Acc 78.63 %\n",
      "Epoch    61: reducing learning rate of group 0 to 1.0000e-04.\n",
      "Epoch:70/100 AVG Training Loss:0.457 AVG Validation Loss:0.514 AVG Training Acc 80.90 % AVG Validation Acc 78.76 %\n",
      "Epoch:80/100 AVG Training Loss:0.455 AVG Validation Loss:0.516 AVG Training Acc 80.90 % AVG Validation Acc 78.49 %\n",
      "Epoch:90/100 AVG Training Loss:0.453 AVG Validation Loss:0.519 AVG Training Acc 81.07 % AVG Validation Acc 78.76 %\n",
      "Epoch    92: reducing learning rate of group 0 to 1.0000e-05.\n",
      "Epoch:100/100 AVG Training Loss:0.453 AVG Validation Loss:0.518 AVG Training Acc 81.01 % AVG Validation Acc 78.63 %\n",
      "Split 136\n"
     ]
    },
    {
     "data": {
      "application/vnd.jupyter.widget-view+json": {
       "model_id": "375393f0cc1444a9a323316d29132f91",
       "version_major": 2,
       "version_minor": 0
      },
      "text/plain": [
       "  0%|          | 0/100 [00:00<?, ?it/s]"
      ]
     },
     "metadata": {},
     "output_type": "display_data"
    },
    {
     "name": "stdout",
     "output_type": "stream",
     "text": [
      "Epoch:10/100 AVG Training Loss:0.490 AVG Validation Loss:0.508 AVG Training Acc 79.87 % AVG Validation Acc 79.03 %\n",
      "Epoch    19: reducing learning rate of group 0 to 1.0000e-03.\n",
      "Epoch:20/100 AVG Training Loss:0.484 AVG Validation Loss:0.508 AVG Training Acc 80.02 % AVG Validation Acc 78.90 %\n",
      "Epoch:30/100 AVG Training Loss:0.475 AVG Validation Loss:0.513 AVG Training Acc 80.11 % AVG Validation Acc 78.90 %\n",
      "Epoch:40/100 AVG Training Loss:0.468 AVG Validation Loss:0.522 AVG Training Acc 80.54 % AVG Validation Acc 78.76 %\n",
      "Epoch:50/100 AVG Training Loss:0.458 AVG Validation Loss:0.529 AVG Training Acc 80.98 % AVG Validation Acc 78.63 %\n",
      "Epoch    50: reducing learning rate of group 0 to 1.0000e-04.\n",
      "Epoch:60/100 AVG Training Loss:0.456 AVG Validation Loss:0.531 AVG Training Acc 80.99 % AVG Validation Acc 78.49 %\n",
      "Epoch:70/100 AVG Training Loss:0.453 AVG Validation Loss:0.528 AVG Training Acc 81.08 % AVG Validation Acc 78.49 %\n",
      "Epoch:80/100 AVG Training Loss:0.452 AVG Validation Loss:0.529 AVG Training Acc 81.14 % AVG Validation Acc 78.63 %\n",
      "Epoch    81: reducing learning rate of group 0 to 1.0000e-05.\n",
      "Epoch:90/100 AVG Training Loss:0.451 AVG Validation Loss:0.529 AVG Training Acc 81.07 % AVG Validation Acc 78.76 %\n",
      "Epoch:100/100 AVG Training Loss:0.452 AVG Validation Loss:0.530 AVG Training Acc 81.08 % AVG Validation Acc 78.76 %\n",
      "Split 137\n"
     ]
    },
    {
     "data": {
      "application/vnd.jupyter.widget-view+json": {
       "model_id": "0e3337be999b47c1b5d75c70b23ef9f4",
       "version_major": 2,
       "version_minor": 0
      },
      "text/plain": [
       "  0%|          | 0/100 [00:00<?, ?it/s]"
      ]
     },
     "metadata": {},
     "output_type": "display_data"
    },
    {
     "name": "stdout",
     "output_type": "stream",
     "text": [
      "Epoch:10/100 AVG Training Loss:0.495 AVG Validation Loss:0.510 AVG Training Acc 79.90 % AVG Validation Acc 79.41 %\n",
      "Epoch:20/100 AVG Training Loss:0.497 AVG Validation Loss:0.506 AVG Training Acc 79.89 % AVG Validation Acc 79.41 %\n",
      "Epoch    22: reducing learning rate of group 0 to 1.0000e-03.\n",
      "Epoch:30/100 AVG Training Loss:0.491 AVG Validation Loss:0.503 AVG Training Acc 79.89 % AVG Validation Acc 79.41 %\n",
      "Epoch:40/100 AVG Training Loss:0.483 AVG Validation Loss:0.503 AVG Training Acc 79.99 % AVG Validation Acc 79.41 %\n",
      "Epoch:50/100 AVG Training Loss:0.482 AVG Validation Loss:0.503 AVG Training Acc 80.07 % AVG Validation Acc 79.41 %\n",
      "Epoch    53: reducing learning rate of group 0 to 1.0000e-04.\n",
      "Epoch:60/100 AVG Training Loss:0.479 AVG Validation Loss:0.505 AVG Training Acc 80.40 % AVG Validation Acc 79.27 %\n",
      "Epoch:70/100 AVG Training Loss:0.477 AVG Validation Loss:0.505 AVG Training Acc 80.34 % AVG Validation Acc 79.27 %\n",
      "Epoch:80/100 AVG Training Loss:0.476 AVG Validation Loss:0.505 AVG Training Acc 80.34 % AVG Validation Acc 79.14 %\n",
      "Epoch    84: reducing learning rate of group 0 to 1.0000e-05.\n",
      "Epoch:90/100 AVG Training Loss:0.475 AVG Validation Loss:0.506 AVG Training Acc 80.44 % AVG Validation Acc 79.14 %\n",
      "Epoch:100/100 AVG Training Loss:0.476 AVG Validation Loss:0.505 AVG Training Acc 80.38 % AVG Validation Acc 79.14 %\n",
      "Split 138\n"
     ]
    },
    {
     "data": {
      "application/vnd.jupyter.widget-view+json": {
       "model_id": "691f37b3fa0c4e3fb1bf274b4491f6e4",
       "version_major": 2,
       "version_minor": 0
      },
      "text/plain": [
       "  0%|          | 0/100 [00:00<?, ?it/s]"
      ]
     },
     "metadata": {},
     "output_type": "display_data"
    },
    {
     "name": "stdout",
     "output_type": "stream",
     "text": [
      "Epoch:10/100 AVG Training Loss:0.493 AVG Validation Loss:0.507 AVG Training Acc 79.98 % AVG Validation Acc 78.73 %\n",
      "Epoch:20/100 AVG Training Loss:0.501 AVG Validation Loss:0.516 AVG Training Acc 79.98 % AVG Validation Acc 78.73 %\n",
      "Epoch    21: reducing learning rate of group 0 to 1.0000e-03.\n",
      "Epoch:30/100 AVG Training Loss:0.497 AVG Validation Loss:0.516 AVG Training Acc 80.01 % AVG Validation Acc 78.73 %\n",
      "Epoch:40/100 AVG Training Loss:0.497 AVG Validation Loss:0.516 AVG Training Acc 80.01 % AVG Validation Acc 78.73 %\n",
      "Epoch:50/100 AVG Training Loss:0.495 AVG Validation Loss:0.514 AVG Training Acc 79.99 % AVG Validation Acc 78.73 %\n",
      "Epoch    52: reducing learning rate of group 0 to 1.0000e-04.\n",
      "Epoch:60/100 AVG Training Loss:0.494 AVG Validation Loss:0.512 AVG Training Acc 79.98 % AVG Validation Acc 78.73 %\n",
      "Epoch:70/100 AVG Training Loss:0.494 AVG Validation Loss:0.513 AVG Training Acc 80.01 % AVG Validation Acc 78.73 %\n",
      "Epoch:80/100 AVG Training Loss:0.493 AVG Validation Loss:0.514 AVG Training Acc 79.99 % AVG Validation Acc 78.73 %\n",
      "Epoch    83: reducing learning rate of group 0 to 1.0000e-05.\n",
      "Epoch:90/100 AVG Training Loss:0.493 AVG Validation Loss:0.512 AVG Training Acc 79.99 % AVG Validation Acc 78.73 %\n",
      "Epoch:100/100 AVG Training Loss:0.494 AVG Validation Loss:0.512 AVG Training Acc 80.01 % AVG Validation Acc 78.73 %\n",
      "Split 139\n"
     ]
    },
    {
     "data": {
      "application/vnd.jupyter.widget-view+json": {
       "model_id": "286446649d324408912fa0b8fc308a6c",
       "version_major": 2,
       "version_minor": 0
      },
      "text/plain": [
       "  0%|          | 0/100 [00:00<?, ?it/s]"
      ]
     },
     "metadata": {},
     "output_type": "display_data"
    },
    {
     "name": "stdout",
     "output_type": "stream",
     "text": [
      "Epoch:10/100 AVG Training Loss:0.495 AVG Validation Loss:0.491 AVG Training Acc 79.78 % AVG Validation Acc 80.22 %\n",
      "Epoch:20/100 AVG Training Loss:0.491 AVG Validation Loss:0.484 AVG Training Acc 79.87 % AVG Validation Acc 80.35 %\n",
      "Epoch:30/100 AVG Training Loss:0.486 AVG Validation Loss:0.487 AVG Training Acc 79.86 % AVG Validation Acc 80.22 %\n",
      "Epoch:40/100 AVG Training Loss:0.470 AVG Validation Loss:0.505 AVG Training Acc 80.16 % AVG Validation Acc 79.95 %\n",
      "Epoch    45: reducing learning rate of group 0 to 1.0000e-03.\n",
      "Epoch:50/100 AVG Training Loss:0.449 AVG Validation Loss:0.507 AVG Training Acc 80.55 % AVG Validation Acc 79.95 %\n",
      "Epoch:60/100 AVG Training Loss:0.440 AVG Validation Loss:0.522 AVG Training Acc 80.74 % AVG Validation Acc 79.95 %\n",
      "Epoch:70/100 AVG Training Loss:0.435 AVG Validation Loss:0.527 AVG Training Acc 81.10 % AVG Validation Acc 79.54 %\n",
      "Epoch    76: reducing learning rate of group 0 to 1.0000e-04.\n",
      "Epoch:80/100 AVG Training Loss:0.428 AVG Validation Loss:0.520 AVG Training Acc 81.26 % AVG Validation Acc 79.81 %\n",
      "Epoch:90/100 AVG Training Loss:0.424 AVG Validation Loss:0.522 AVG Training Acc 81.64 % AVG Validation Acc 79.81 %\n",
      "Epoch:100/100 AVG Training Loss:0.424 AVG Validation Loss:0.524 AVG Training Acc 81.29 % AVG Validation Acc 79.68 %\n",
      "Split 140\n"
     ]
    },
    {
     "data": {
      "application/vnd.jupyter.widget-view+json": {
       "model_id": "435998d724a14088bfad5591570dc25b",
       "version_major": 2,
       "version_minor": 0
      },
      "text/plain": [
       "  0%|          | 0/100 [00:00<?, ?it/s]"
      ]
     },
     "metadata": {},
     "output_type": "display_data"
    },
    {
     "name": "stdout",
     "output_type": "stream",
     "text": [
      "Epoch:10/100 AVG Training Loss:0.499 AVG Validation Loss:0.475 AVG Training Acc 79.71 % AVG Validation Acc 81.29 %\n",
      "Epoch:20/100 AVG Training Loss:0.492 AVG Validation Loss:0.469 AVG Training Acc 79.71 % AVG Validation Acc 81.29 %\n",
      "Epoch:30/100 AVG Training Loss:0.493 AVG Validation Loss:0.466 AVG Training Acc 79.70 % AVG Validation Acc 81.29 %\n",
      "Epoch    33: reducing learning rate of group 0 to 1.0000e-03.\n",
      "Epoch:40/100 AVG Training Loss:0.483 AVG Validation Loss:0.464 AVG Training Acc 79.83 % AVG Validation Acc 81.29 %\n",
      "Epoch:50/100 AVG Training Loss:0.480 AVG Validation Loss:0.467 AVG Training Acc 80.01 % AVG Validation Acc 81.02 %\n",
      "Epoch:60/100 AVG Training Loss:0.478 AVG Validation Loss:0.467 AVG Training Acc 80.23 % AVG Validation Acc 81.29 %\n",
      "Epoch    64: reducing learning rate of group 0 to 1.0000e-04.\n",
      "Epoch:70/100 AVG Training Loss:0.474 AVG Validation Loss:0.469 AVG Training Acc 80.23 % AVG Validation Acc 81.02 %\n",
      "Epoch:80/100 AVG Training Loss:0.471 AVG Validation Loss:0.469 AVG Training Acc 80.37 % AVG Validation Acc 81.02 %\n",
      "Epoch:90/100 AVG Training Loss:0.470 AVG Validation Loss:0.469 AVG Training Acc 80.44 % AVG Validation Acc 81.29 %\n",
      "Epoch    95: reducing learning rate of group 0 to 1.0000e-05.\n",
      "Epoch:100/100 AVG Training Loss:0.473 AVG Validation Loss:0.469 AVG Training Acc 80.34 % AVG Validation Acc 81.29 %\n",
      "Split 141\n"
     ]
    },
    {
     "data": {
      "application/vnd.jupyter.widget-view+json": {
       "model_id": "f02b6e81ea1840d8a2316cbf3f1fafc2",
       "version_major": 2,
       "version_minor": 0
      },
      "text/plain": [
       "  0%|          | 0/100 [00:00<?, ?it/s]"
      ]
     },
     "metadata": {},
     "output_type": "display_data"
    },
    {
     "name": "stdout",
     "output_type": "stream",
     "text": [
      "Epoch:10/100 AVG Training Loss:0.494 AVG Validation Loss:0.505 AVG Training Acc 80.01 % AVG Validation Acc 78.76 %\n",
      "Epoch:20/100 AVG Training Loss:0.490 AVG Validation Loss:0.503 AVG Training Acc 79.93 % AVG Validation Acc 78.63 %\n",
      "Epoch:30/100 AVG Training Loss:0.482 AVG Validation Loss:0.506 AVG Training Acc 80.20 % AVG Validation Acc 78.23 %\n",
      "Epoch    36: reducing learning rate of group 0 to 1.0000e-03.\n",
      "Epoch:40/100 AVG Training Loss:0.470 AVG Validation Loss:0.503 AVG Training Acc 80.39 % AVG Validation Acc 78.36 %\n",
      "Epoch:50/100 AVG Training Loss:0.462 AVG Validation Loss:0.513 AVG Training Acc 80.57 % AVG Validation Acc 78.23 %\n",
      "Epoch:60/100 AVG Training Loss:0.455 AVG Validation Loss:0.518 AVG Training Acc 80.87 % AVG Validation Acc 78.23 %\n",
      "Epoch    67: reducing learning rate of group 0 to 1.0000e-04.\n",
      "Epoch:70/100 AVG Training Loss:0.447 AVG Validation Loss:0.523 AVG Training Acc 81.28 % AVG Validation Acc 78.23 %\n",
      "Epoch:80/100 AVG Training Loss:0.445 AVG Validation Loss:0.524 AVG Training Acc 81.29 % AVG Validation Acc 77.82 %\n",
      "Epoch:90/100 AVG Training Loss:0.443 AVG Validation Loss:0.528 AVG Training Acc 81.26 % AVG Validation Acc 77.82 %\n",
      "Epoch    98: reducing learning rate of group 0 to 1.0000e-05.\n",
      "Epoch:100/100 AVG Training Loss:0.445 AVG Validation Loss:0.530 AVG Training Acc 81.35 % AVG Validation Acc 78.09 %\n",
      "Split 142\n"
     ]
    },
    {
     "data": {
      "application/vnd.jupyter.widget-view+json": {
       "model_id": "d29a2f817f7f45b29c1d60ca4c56a143",
       "version_major": 2,
       "version_minor": 0
      },
      "text/plain": [
       "  0%|          | 0/100 [00:00<?, ?it/s]"
      ]
     },
     "metadata": {},
     "output_type": "display_data"
    },
    {
     "name": "stdout",
     "output_type": "stream",
     "text": [
      "Epoch:10/100 AVG Training Loss:0.495 AVG Validation Loss:0.486 AVG Training Acc 79.69 % AVG Validation Acc 80.24 %\n",
      "Epoch    17: reducing learning rate of group 0 to 1.0000e-03.\n",
      "Epoch:20/100 AVG Training Loss:0.484 AVG Validation Loss:0.488 AVG Training Acc 79.81 % AVG Validation Acc 80.24 %\n",
      "Epoch:30/100 AVG Training Loss:0.475 AVG Validation Loss:0.493 AVG Training Acc 80.22 % AVG Validation Acc 79.70 %\n",
      "Epoch:40/100 AVG Training Loss:0.473 AVG Validation Loss:0.498 AVG Training Acc 80.08 % AVG Validation Acc 79.97 %\n",
      "Epoch    48: reducing learning rate of group 0 to 1.0000e-04.\n",
      "Epoch:50/100 AVG Training Loss:0.465 AVG Validation Loss:0.501 AVG Training Acc 80.35 % AVG Validation Acc 79.84 %\n",
      "Epoch:60/100 AVG Training Loss:0.465 AVG Validation Loss:0.505 AVG Training Acc 80.45 % AVG Validation Acc 79.44 %\n",
      "Epoch:70/100 AVG Training Loss:0.465 AVG Validation Loss:0.507 AVG Training Acc 80.35 % AVG Validation Acc 79.57 %\n",
      "Epoch    79: reducing learning rate of group 0 to 1.0000e-05.\n",
      "Epoch:80/100 AVG Training Loss:0.463 AVG Validation Loss:0.509 AVG Training Acc 80.56 % AVG Validation Acc 79.44 %\n",
      "Epoch:90/100 AVG Training Loss:0.461 AVG Validation Loss:0.509 AVG Training Acc 80.60 % AVG Validation Acc 79.44 %\n",
      "Epoch:100/100 AVG Training Loss:0.463 AVG Validation Loss:0.509 AVG Training Acc 80.56 % AVG Validation Acc 79.44 %\n",
      "Split 143\n"
     ]
    },
    {
     "data": {
      "application/vnd.jupyter.widget-view+json": {
       "model_id": "97c89a2efedd4779b2c802ae868ffb46",
       "version_major": 2,
       "version_minor": 0
      },
      "text/plain": [
       "  0%|          | 0/100 [00:00<?, ?it/s]"
      ]
     },
     "metadata": {},
     "output_type": "display_data"
    },
    {
     "name": "stdout",
     "output_type": "stream",
     "text": [
      "Epoch:10/100 AVG Training Loss:0.501 AVG Validation Loss:0.484 AVG Training Acc 79.72 % AVG Validation Acc 81.18 %\n",
      "Epoch:20/100 AVG Training Loss:0.494 AVG Validation Loss:0.469 AVG Training Acc 79.74 % AVG Validation Acc 81.18 %\n",
      "Epoch:30/100 AVG Training Loss:0.487 AVG Validation Loss:0.469 AVG Training Acc 79.84 % AVG Validation Acc 81.32 %\n",
      "Epoch    37: reducing learning rate of group 0 to 1.0000e-03.\n",
      "Epoch:40/100 AVG Training Loss:0.469 AVG Validation Loss:0.474 AVG Training Acc 80.13 % AVG Validation Acc 81.59 %\n",
      "Epoch:50/100 AVG Training Loss:0.457 AVG Validation Loss:0.484 AVG Training Acc 80.42 % AVG Validation Acc 81.45 %\n",
      "Epoch:60/100 AVG Training Loss:0.445 AVG Validation Loss:0.492 AVG Training Acc 80.99 % AVG Validation Acc 81.45 %\n",
      "Epoch    68: reducing learning rate of group 0 to 1.0000e-04.\n",
      "Epoch:70/100 AVG Training Loss:0.443 AVG Validation Loss:0.502 AVG Training Acc 80.84 % AVG Validation Acc 81.05 %\n",
      "Epoch:80/100 AVG Training Loss:0.438 AVG Validation Loss:0.502 AVG Training Acc 81.32 % AVG Validation Acc 81.45 %\n",
      "Epoch:90/100 AVG Training Loss:0.439 AVG Validation Loss:0.505 AVG Training Acc 80.83 % AVG Validation Acc 81.18 %\n",
      "Epoch    99: reducing learning rate of group 0 to 1.0000e-05.\n",
      "Epoch:100/100 AVG Training Loss:0.437 AVG Validation Loss:0.504 AVG Training Acc 81.20 % AVG Validation Acc 81.32 %\n",
      "Split 144\n"
     ]
    },
    {
     "data": {
      "application/vnd.jupyter.widget-view+json": {
       "model_id": "07f0d75e41c04e8e9af1ff3b6873cb31",
       "version_major": 2,
       "version_minor": 0
      },
      "text/plain": [
       "  0%|          | 0/100 [00:00<?, ?it/s]"
      ]
     },
     "metadata": {},
     "output_type": "display_data"
    },
    {
     "name": "stdout",
     "output_type": "stream",
     "text": [
      "Epoch:10/100 AVG Training Loss:0.495 AVG Validation Loss:0.493 AVG Training Acc 79.87 % AVG Validation Acc 79.84 %\n",
      "Epoch:20/100 AVG Training Loss:0.487 AVG Validation Loss:0.484 AVG Training Acc 79.98 % AVG Validation Acc 79.97 %\n",
      "Epoch:30/100 AVG Training Loss:0.485 AVG Validation Loss:0.488 AVG Training Acc 79.93 % AVG Validation Acc 79.97 %\n",
      "Epoch    35: reducing learning rate of group 0 to 1.0000e-03.\n",
      "Epoch:40/100 AVG Training Loss:0.473 AVG Validation Loss:0.494 AVG Training Acc 79.96 % AVG Validation Acc 79.57 %\n",
      "Epoch:50/100 AVG Training Loss:0.467 AVG Validation Loss:0.500 AVG Training Acc 80.08 % AVG Validation Acc 79.30 %\n",
      "Epoch:60/100 AVG Training Loss:0.461 AVG Validation Loss:0.502 AVG Training Acc 80.26 % AVG Validation Acc 79.57 %\n",
      "Epoch    66: reducing learning rate of group 0 to 1.0000e-04.\n",
      "Epoch:70/100 AVG Training Loss:0.455 AVG Validation Loss:0.508 AVG Training Acc 80.62 % AVG Validation Acc 79.57 %\n",
      "Epoch:80/100 AVG Training Loss:0.454 AVG Validation Loss:0.506 AVG Training Acc 80.54 % AVG Validation Acc 79.57 %\n",
      "Epoch:90/100 AVG Training Loss:0.454 AVG Validation Loss:0.509 AVG Training Acc 80.53 % AVG Validation Acc 79.30 %\n",
      "Epoch    97: reducing learning rate of group 0 to 1.0000e-05.\n",
      "Epoch:100/100 AVG Training Loss:0.450 AVG Validation Loss:0.508 AVG Training Acc 80.62 % AVG Validation Acc 79.44 %\n",
      "Split 145\n"
     ]
    },
    {
     "data": {
      "application/vnd.jupyter.widget-view+json": {
       "model_id": "1e2f70f3d0cf4c6484ca2d771d07bc56",
       "version_major": 2,
       "version_minor": 0
      },
      "text/plain": [
       "  0%|          | 0/100 [00:00<?, ?it/s]"
      ]
     },
     "metadata": {},
     "output_type": "display_data"
    },
    {
     "name": "stdout",
     "output_type": "stream",
     "text": [
      "Epoch:10/100 AVG Training Loss:0.497 AVG Validation Loss:0.482 AVG Training Acc 79.71 % AVG Validation Acc 81.18 %\n",
      "Epoch    18: reducing learning rate of group 0 to 1.0000e-03.\n",
      "Epoch:20/100 AVG Training Loss:0.488 AVG Validation Loss:0.464 AVG Training Acc 79.75 % AVG Validation Acc 81.32 %\n",
      "Epoch:30/100 AVG Training Loss:0.483 AVG Validation Loss:0.466 AVG Training Acc 79.86 % AVG Validation Acc 81.32 %\n",
      "Epoch:40/100 AVG Training Loss:0.477 AVG Validation Loss:0.467 AVG Training Acc 79.84 % AVG Validation Acc 81.32 %\n",
      "Epoch    49: reducing learning rate of group 0 to 1.0000e-04.\n",
      "Epoch:50/100 AVG Training Loss:0.470 AVG Validation Loss:0.468 AVG Training Acc 79.95 % AVG Validation Acc 81.45 %\n",
      "Epoch:60/100 AVG Training Loss:0.471 AVG Validation Loss:0.469 AVG Training Acc 80.05 % AVG Validation Acc 81.18 %\n",
      "Epoch:70/100 AVG Training Loss:0.467 AVG Validation Loss:0.471 AVG Training Acc 80.10 % AVG Validation Acc 81.32 %\n",
      "Epoch:80/100 AVG Training Loss:0.467 AVG Validation Loss:0.470 AVG Training Acc 80.04 % AVG Validation Acc 81.32 %\n",
      "Epoch    80: reducing learning rate of group 0 to 1.0000e-05.\n",
      "Epoch:90/100 AVG Training Loss:0.468 AVG Validation Loss:0.471 AVG Training Acc 80.05 % AVG Validation Acc 81.32 %\n",
      "Epoch:100/100 AVG Training Loss:0.466 AVG Validation Loss:0.471 AVG Training Acc 80.10 % AVG Validation Acc 81.32 %\n",
      "Split 146\n"
     ]
    },
    {
     "data": {
      "application/vnd.jupyter.widget-view+json": {
       "model_id": "f0ace01c98344a96a7a30a88dd7cd613",
       "version_major": 2,
       "version_minor": 0
      },
      "text/plain": [
       "  0%|          | 0/100 [00:00<?, ?it/s]"
      ]
     },
     "metadata": {},
     "output_type": "display_data"
    },
    {
     "name": "stdout",
     "output_type": "stream",
     "text": [
      "Epoch:10/100 AVG Training Loss:0.494 AVG Validation Loss:0.505 AVG Training Acc 79.95 % AVG Validation Acc 78.90 %\n",
      "Epoch:20/100 AVG Training Loss:0.483 AVG Validation Loss:0.501 AVG Training Acc 80.01 % AVG Validation Acc 78.90 %\n",
      "Epoch:30/100 AVG Training Loss:0.480 AVG Validation Loss:0.506 AVG Training Acc 79.83 % AVG Validation Acc 78.90 %\n",
      "Epoch    32: reducing learning rate of group 0 to 1.0000e-03.\n",
      "Epoch:40/100 AVG Training Loss:0.466 AVG Validation Loss:0.513 AVG Training Acc 80.48 % AVG Validation Acc 78.90 %\n",
      "Epoch:50/100 AVG Training Loss:0.457 AVG Validation Loss:0.519 AVG Training Acc 80.53 % AVG Validation Acc 78.76 %\n",
      "Epoch:60/100 AVG Training Loss:0.445 AVG Validation Loss:0.533 AVG Training Acc 81.34 % AVG Validation Acc 78.23 %\n",
      "Epoch    63: reducing learning rate of group 0 to 1.0000e-04.\n",
      "Epoch:70/100 AVG Training Loss:0.442 AVG Validation Loss:0.528 AVG Training Acc 81.28 % AVG Validation Acc 78.76 %\n",
      "Epoch:80/100 AVG Training Loss:0.441 AVG Validation Loss:0.536 AVG Training Acc 81.31 % AVG Validation Acc 78.36 %\n",
      "Epoch:90/100 AVG Training Loss:0.437 AVG Validation Loss:0.532 AVG Training Acc 81.40 % AVG Validation Acc 78.49 %\n",
      "Epoch    94: reducing learning rate of group 0 to 1.0000e-05.\n",
      "Epoch:100/100 AVG Training Loss:0.435 AVG Validation Loss:0.535 AVG Training Acc 81.71 % AVG Validation Acc 78.49 %\n",
      "Split 147\n"
     ]
    },
    {
     "data": {
      "application/vnd.jupyter.widget-view+json": {
       "model_id": "2b63f66d9b0946279bf4b9ba01a66db3",
       "version_major": 2,
       "version_minor": 0
      },
      "text/plain": [
       "  0%|          | 0/100 [00:00<?, ?it/s]"
      ]
     },
     "metadata": {},
     "output_type": "display_data"
    },
    {
     "name": "stdout",
     "output_type": "stream",
     "text": [
      "Epoch:10/100 AVG Training Loss:0.493 AVG Validation Loss:0.500 AVG Training Acc 79.86 % AVG Validation Acc 79.68 %\n",
      "Epoch:20/100 AVG Training Loss:0.488 AVG Validation Loss:0.500 AVG Training Acc 79.90 % AVG Validation Acc 79.54 %\n",
      "Epoch    25: reducing learning rate of group 0 to 1.0000e-03.\n",
      "Epoch:30/100 AVG Training Loss:0.474 AVG Validation Loss:0.505 AVG Training Acc 80.22 % AVG Validation Acc 79.41 %\n",
      "Epoch:40/100 AVG Training Loss:0.463 AVG Validation Loss:0.513 AVG Training Acc 80.44 % AVG Validation Acc 79.14 %\n",
      "Epoch:50/100 AVG Training Loss:0.455 AVG Validation Loss:0.521 AVG Training Acc 80.80 % AVG Validation Acc 78.60 %\n",
      "Epoch    56: reducing learning rate of group 0 to 1.0000e-04.\n",
      "Epoch:60/100 AVG Training Loss:0.449 AVG Validation Loss:0.529 AVG Training Acc 81.01 % AVG Validation Acc 79.00 %\n",
      "Epoch:70/100 AVG Training Loss:0.445 AVG Validation Loss:0.529 AVG Training Acc 81.10 % AVG Validation Acc 78.73 %\n",
      "Epoch:80/100 AVG Training Loss:0.447 AVG Validation Loss:0.535 AVG Training Acc 81.08 % AVG Validation Acc 78.87 %\n",
      "Epoch    87: reducing learning rate of group 0 to 1.0000e-05.\n",
      "Epoch:90/100 AVG Training Loss:0.446 AVG Validation Loss:0.531 AVG Training Acc 81.04 % AVG Validation Acc 78.73 %\n",
      "Epoch:100/100 AVG Training Loss:0.445 AVG Validation Loss:0.536 AVG Training Acc 81.02 % AVG Validation Acc 79.00 %\n",
      "Split 148\n"
     ]
    },
    {
     "data": {
      "application/vnd.jupyter.widget-view+json": {
       "model_id": "d616fc48bdb84f50a1dc549d736bc47c",
       "version_major": 2,
       "version_minor": 0
      },
      "text/plain": [
       "  0%|          | 0/100 [00:00<?, ?it/s]"
      ]
     },
     "metadata": {},
     "output_type": "display_data"
    },
    {
     "name": "stdout",
     "output_type": "stream",
     "text": [
      "Epoch:10/100 AVG Training Loss:0.492 AVG Validation Loss:0.513 AVG Training Acc 79.98 % AVG Validation Acc 78.73 %\n",
      "Epoch    17: reducing learning rate of group 0 to 1.0000e-03.\n",
      "Epoch:20/100 AVG Training Loss:0.483 AVG Validation Loss:0.516 AVG Training Acc 80.02 % AVG Validation Acc 78.87 %\n",
      "Epoch:30/100 AVG Training Loss:0.480 AVG Validation Loss:0.518 AVG Training Acc 80.04 % AVG Validation Acc 78.73 %\n",
      "Epoch:40/100 AVG Training Loss:0.478 AVG Validation Loss:0.520 AVG Training Acc 80.02 % AVG Validation Acc 78.20 %\n",
      "Epoch    48: reducing learning rate of group 0 to 1.0000e-04.\n",
      "Epoch:50/100 AVG Training Loss:0.474 AVG Validation Loss:0.521 AVG Training Acc 80.22 % AVG Validation Acc 78.06 %\n",
      "Epoch:60/100 AVG Training Loss:0.472 AVG Validation Loss:0.522 AVG Training Acc 80.31 % AVG Validation Acc 77.93 %\n",
      "Epoch:70/100 AVG Training Loss:0.473 AVG Validation Loss:0.522 AVG Training Acc 80.26 % AVG Validation Acc 77.93 %\n",
      "Epoch    79: reducing learning rate of group 0 to 1.0000e-05.\n",
      "Epoch:80/100 AVG Training Loss:0.471 AVG Validation Loss:0.523 AVG Training Acc 80.28 % AVG Validation Acc 78.06 %\n",
      "Epoch:90/100 AVG Training Loss:0.471 AVG Validation Loss:0.523 AVG Training Acc 80.31 % AVG Validation Acc 78.06 %\n",
      "Epoch:100/100 AVG Training Loss:0.472 AVG Validation Loss:0.523 AVG Training Acc 80.17 % AVG Validation Acc 78.06 %\n",
      "Split 149\n"
     ]
    },
    {
     "data": {
      "application/vnd.jupyter.widget-view+json": {
       "model_id": "c1a002ceebe548d49fb7a830532cc8ed",
       "version_major": 2,
       "version_minor": 0
      },
      "text/plain": [
       "  0%|          | 0/100 [00:00<?, ?it/s]"
      ]
     },
     "metadata": {},
     "output_type": "display_data"
    },
    {
     "name": "stdout",
     "output_type": "stream",
     "text": [
      "Epoch:10/100 AVG Training Loss:0.504 AVG Validation Loss:0.468 AVG Training Acc 79.64 % AVG Validation Acc 81.97 %\n",
      "Epoch    17: reducing learning rate of group 0 to 1.0000e-03.\n",
      "Epoch:20/100 AVG Training Loss:0.490 AVG Validation Loss:0.465 AVG Training Acc 79.61 % AVG Validation Acc 81.97 %\n",
      "Epoch:30/100 AVG Training Loss:0.488 AVG Validation Loss:0.469 AVG Training Acc 79.75 % AVG Validation Acc 81.70 %\n",
      "Epoch:40/100 AVG Training Loss:0.484 AVG Validation Loss:0.470 AVG Training Acc 79.61 % AVG Validation Acc 81.70 %\n",
      "Epoch    48: reducing learning rate of group 0 to 1.0000e-04.\n",
      "Epoch:50/100 AVG Training Loss:0.479 AVG Validation Loss:0.472 AVG Training Acc 79.78 % AVG Validation Acc 81.43 %\n",
      "Epoch:60/100 AVG Training Loss:0.479 AVG Validation Loss:0.472 AVG Training Acc 79.95 % AVG Validation Acc 81.43 %\n",
      "Epoch:70/100 AVG Training Loss:0.477 AVG Validation Loss:0.472 AVG Training Acc 80.07 % AVG Validation Acc 81.56 %\n",
      "Epoch    79: reducing learning rate of group 0 to 1.0000e-05.\n",
      "Epoch:80/100 AVG Training Loss:0.477 AVG Validation Loss:0.472 AVG Training Acc 79.98 % AVG Validation Acc 81.56 %\n",
      "Epoch:90/100 AVG Training Loss:0.477 AVG Validation Loss:0.472 AVG Training Acc 80.04 % AVG Validation Acc 81.56 %\n",
      "Epoch:100/100 AVG Training Loss:0.476 AVG Validation Loss:0.472 AVG Training Acc 80.14 % AVG Validation Acc 81.56 %\n",
      "Split 150\n"
     ]
    },
    {
     "data": {
      "application/vnd.jupyter.widget-view+json": {
       "model_id": "b4e7b87dd6e5403a9f8b2297ba3a03b4",
       "version_major": 2,
       "version_minor": 0
      },
      "text/plain": [
       "  0%|          | 0/100 [00:00<?, ?it/s]"
      ]
     },
     "metadata": {},
     "output_type": "display_data"
    },
    {
     "name": "stdout",
     "output_type": "stream",
     "text": [
      "Epoch:10/100 AVG Training Loss:0.489 AVG Validation Loss:0.514 AVG Training Acc 79.98 % AVG Validation Acc 77.93 %\n",
      "Epoch:20/100 AVG Training Loss:0.485 AVG Validation Loss:0.517 AVG Training Acc 80.07 % AVG Validation Acc 78.06 %\n",
      "Epoch    26: reducing learning rate of group 0 to 1.0000e-03.\n",
      "Epoch:30/100 AVG Training Loss:0.472 AVG Validation Loss:0.529 AVG Training Acc 80.40 % AVG Validation Acc 77.52 %\n",
      "Epoch:40/100 AVG Training Loss:0.466 AVG Validation Loss:0.540 AVG Training Acc 80.58 % AVG Validation Acc 77.66 %\n",
      "Epoch:50/100 AVG Training Loss:0.452 AVG Validation Loss:0.558 AVG Training Acc 81.01 % AVG Validation Acc 77.66 %\n",
      "Epoch    57: reducing learning rate of group 0 to 1.0000e-04.\n",
      "Epoch:60/100 AVG Training Loss:0.445 AVG Validation Loss:0.560 AVG Training Acc 81.07 % AVG Validation Acc 77.52 %\n",
      "Epoch:70/100 AVG Training Loss:0.445 AVG Validation Loss:0.563 AVG Training Acc 81.10 % AVG Validation Acc 77.52 %\n",
      "Epoch:80/100 AVG Training Loss:0.441 AVG Validation Loss:0.562 AVG Training Acc 81.19 % AVG Validation Acc 77.66 %\n",
      "Epoch    88: reducing learning rate of group 0 to 1.0000e-05.\n",
      "Epoch:90/100 AVG Training Loss:0.440 AVG Validation Loss:0.569 AVG Training Acc 81.26 % AVG Validation Acc 77.12 %\n",
      "Epoch:100/100 AVG Training Loss:0.439 AVG Validation Loss:0.563 AVG Training Acc 81.38 % AVG Validation Acc 77.25 %\n",
      "Split 151\n"
     ]
    },
    {
     "data": {
      "application/vnd.jupyter.widget-view+json": {
       "model_id": "daa8f2920d024e0795d1e36b838904d4",
       "version_major": 2,
       "version_minor": 0
      },
      "text/plain": [
       "  0%|          | 0/100 [00:00<?, ?it/s]"
      ]
     },
     "metadata": {},
     "output_type": "display_data"
    },
    {
     "name": "stdout",
     "output_type": "stream",
     "text": [
      "Epoch:10/100 AVG Training Loss:0.497 AVG Validation Loss:0.498 AVG Training Acc 79.84 % AVG Validation Acc 79.97 %\n",
      "Epoch:20/100 AVG Training Loss:0.491 AVG Validation Loss:0.484 AVG Training Acc 79.86 % AVG Validation Acc 79.97 %\n",
      "Epoch:30/100 AVG Training Loss:0.490 AVG Validation Loss:0.479 AVG Training Acc 79.90 % AVG Validation Acc 79.97 %\n",
      "Epoch:40/100 AVG Training Loss:0.483 AVG Validation Loss:0.485 AVG Training Acc 80.05 % AVG Validation Acc 79.97 %\n",
      "Epoch    41: reducing learning rate of group 0 to 1.0000e-03.\n",
      "Epoch:50/100 AVG Training Loss:0.472 AVG Validation Loss:0.486 AVG Training Acc 80.08 % AVG Validation Acc 79.97 %\n",
      "Epoch:60/100 AVG Training Loss:0.466 AVG Validation Loss:0.492 AVG Training Acc 80.25 % AVG Validation Acc 79.84 %\n",
      "Epoch:70/100 AVG Training Loss:0.459 AVG Validation Loss:0.494 AVG Training Acc 80.36 % AVG Validation Acc 79.97 %\n",
      "Epoch    72: reducing learning rate of group 0 to 1.0000e-04.\n",
      "Epoch:80/100 AVG Training Loss:0.455 AVG Validation Loss:0.494 AVG Training Acc 80.36 % AVG Validation Acc 79.44 %\n",
      "Epoch:90/100 AVG Training Loss:0.455 AVG Validation Loss:0.495 AVG Training Acc 80.45 % AVG Validation Acc 79.44 %\n",
      "Epoch:100/100 AVG Training Loss:0.455 AVG Validation Loss:0.496 AVG Training Acc 80.39 % AVG Validation Acc 79.57 %\n",
      "Split 152\n"
     ]
    },
    {
     "data": {
      "application/vnd.jupyter.widget-view+json": {
       "model_id": "19793fcf9bcc45d690ff5c00688668c3",
       "version_major": 2,
       "version_minor": 0
      },
      "text/plain": [
       "  0%|          | 0/100 [00:00<?, ?it/s]"
      ]
     },
     "metadata": {},
     "output_type": "display_data"
    },
    {
     "name": "stdout",
     "output_type": "stream",
     "text": [
      "Epoch:10/100 AVG Training Loss:0.491 AVG Validation Loss:0.510 AVG Training Acc 80.08 % AVG Validation Acc 78.23 %\n",
      "Epoch:20/100 AVG Training Loss:0.484 AVG Validation Loss:0.516 AVG Training Acc 80.08 % AVG Validation Acc 78.23 %\n",
      "Epoch    28: reducing learning rate of group 0 to 1.0000e-03.\n",
      "Epoch:30/100 AVG Training Loss:0.469 AVG Validation Loss:0.509 AVG Training Acc 80.33 % AVG Validation Acc 77.82 %\n",
      "Epoch:40/100 AVG Training Loss:0.458 AVG Validation Loss:0.523 AVG Training Acc 80.54 % AVG Validation Acc 77.15 %\n",
      "Epoch:50/100 AVG Training Loss:0.447 AVG Validation Loss:0.543 AVG Training Acc 80.87 % AVG Validation Acc 76.88 %\n",
      "Epoch    59: reducing learning rate of group 0 to 1.0000e-04.\n",
      "Epoch:60/100 AVG Training Loss:0.437 AVG Validation Loss:0.549 AVG Training Acc 81.32 % AVG Validation Acc 77.42 %\n",
      "Epoch:70/100 AVG Training Loss:0.436 AVG Validation Loss:0.547 AVG Training Acc 81.20 % AVG Validation Acc 77.28 %\n",
      "Epoch:80/100 AVG Training Loss:0.432 AVG Validation Loss:0.551 AVG Training Acc 81.49 % AVG Validation Acc 77.69 %\n",
      "Epoch:90/100 AVG Training Loss:0.436 AVG Validation Loss:0.552 AVG Training Acc 81.49 % AVG Validation Acc 77.02 %\n",
      "Epoch    90: reducing learning rate of group 0 to 1.0000e-05.\n",
      "Epoch:100/100 AVG Training Loss:0.435 AVG Validation Loss:0.548 AVG Training Acc 81.55 % AVG Validation Acc 77.42 %\n",
      "Split 153\n"
     ]
    },
    {
     "data": {
      "application/vnd.jupyter.widget-view+json": {
       "model_id": "cfcaaf50651140fea9169d95df8720ae",
       "version_major": 2,
       "version_minor": 0
      },
      "text/plain": [
       "  0%|          | 0/100 [00:00<?, ?it/s]"
      ]
     },
     "metadata": {},
     "output_type": "display_data"
    },
    {
     "name": "stdout",
     "output_type": "stream",
     "text": [
      "Epoch:10/100 AVG Training Loss:0.493 AVG Validation Loss:0.523 AVG Training Acc 80.10 % AVG Validation Acc 78.09 %\n",
      "Epoch:20/100 AVG Training Loss:0.485 AVG Validation Loss:0.512 AVG Training Acc 80.04 % AVG Validation Acc 78.23 %\n",
      "Epoch:30/100 AVG Training Loss:0.482 AVG Validation Loss:0.518 AVG Training Acc 80.17 % AVG Validation Acc 78.09 %\n",
      "Epoch:40/100 AVG Training Loss:0.508 AVG Validation Loss:0.526 AVG Training Acc 80.07 % AVG Validation Acc 78.09 %\n",
      "Epoch    40: reducing learning rate of group 0 to 1.0000e-03.\n",
      "Epoch:50/100 AVG Training Loss:0.499 AVG Validation Loss:0.527 AVG Training Acc 80.07 % AVG Validation Acc 78.09 %\n",
      "Epoch:60/100 AVG Training Loss:0.498 AVG Validation Loss:0.525 AVG Training Acc 80.07 % AVG Validation Acc 78.09 %\n",
      "Epoch:70/100 AVG Training Loss:0.497 AVG Validation Loss:0.524 AVG Training Acc 80.08 % AVG Validation Acc 78.09 %\n",
      "Epoch    71: reducing learning rate of group 0 to 1.0000e-04.\n",
      "Epoch:80/100 AVG Training Loss:0.495 AVG Validation Loss:0.522 AVG Training Acc 80.04 % AVG Validation Acc 78.09 %\n",
      "Epoch:90/100 AVG Training Loss:0.493 AVG Validation Loss:0.521 AVG Training Acc 80.08 % AVG Validation Acc 78.09 %\n",
      "Epoch:100/100 AVG Training Loss:0.494 AVG Validation Loss:0.520 AVG Training Acc 80.08 % AVG Validation Acc 78.09 %\n",
      "Split 154\n"
     ]
    },
    {
     "data": {
      "application/vnd.jupyter.widget-view+json": {
       "model_id": "13a3c4af988a49b295c13ddc805c8d23",
       "version_major": 2,
       "version_minor": 0
      },
      "text/plain": [
       "  0%|          | 0/100 [00:00<?, ?it/s]"
      ]
     },
     "metadata": {},
     "output_type": "display_data"
    },
    {
     "name": "stdout",
     "output_type": "stream",
     "text": [
      "Epoch:10/100 AVG Training Loss:0.495 AVG Validation Loss:0.471 AVG Training Acc 79.65 % AVG Validation Acc 81.45 %\n",
      "Epoch    17: reducing learning rate of group 0 to 1.0000e-03.\n",
      "Epoch:20/100 AVG Training Loss:0.488 AVG Validation Loss:0.471 AVG Training Acc 79.74 % AVG Validation Acc 81.18 %\n",
      "Epoch:30/100 AVG Training Loss:0.485 AVG Validation Loss:0.475 AVG Training Acc 79.78 % AVG Validation Acc 80.78 %\n",
      "Epoch:40/100 AVG Training Loss:0.482 AVG Validation Loss:0.480 AVG Training Acc 79.74 % AVG Validation Acc 80.78 %\n",
      "Epoch    48: reducing learning rate of group 0 to 1.0000e-04.\n",
      "Epoch:50/100 AVG Training Loss:0.469 AVG Validation Loss:0.487 AVG Training Acc 80.32 % AVG Validation Acc 80.11 %\n",
      "Epoch:60/100 AVG Training Loss:0.469 AVG Validation Loss:0.490 AVG Training Acc 80.33 % AVG Validation Acc 79.97 %\n",
      "Epoch:70/100 AVG Training Loss:0.468 AVG Validation Loss:0.490 AVG Training Acc 80.27 % AVG Validation Acc 79.70 %\n",
      "Epoch    79: reducing learning rate of group 0 to 1.0000e-05.\n",
      "Epoch:80/100 AVG Training Loss:0.467 AVG Validation Loss:0.490 AVG Training Acc 80.29 % AVG Validation Acc 79.70 %\n",
      "Epoch:90/100 AVG Training Loss:0.467 AVG Validation Loss:0.491 AVG Training Acc 80.30 % AVG Validation Acc 79.70 %\n",
      "Epoch:100/100 AVG Training Loss:0.466 AVG Validation Loss:0.493 AVG Training Acc 80.41 % AVG Validation Acc 79.70 %\n",
      "Split 155\n"
     ]
    },
    {
     "data": {
      "application/vnd.jupyter.widget-view+json": {
       "model_id": "4089c00fdaf5444a984e17e63fbe8a08",
       "version_major": 2,
       "version_minor": 0
      },
      "text/plain": [
       "  0%|          | 0/100 [00:00<?, ?it/s]"
      ]
     },
     "metadata": {},
     "output_type": "display_data"
    },
    {
     "name": "stdout",
     "output_type": "stream",
     "text": [
      "Epoch:10/100 AVG Training Loss:0.492 AVG Validation Loss:0.515 AVG Training Acc 79.89 % AVG Validation Acc 78.76 %\n",
      "Epoch:20/100 AVG Training Loss:0.485 AVG Validation Loss:0.513 AVG Training Acc 80.01 % AVG Validation Acc 78.63 %\n",
      "Epoch:30/100 AVG Training Loss:0.475 AVG Validation Loss:0.513 AVG Training Acc 79.96 % AVG Validation Acc 79.03 %\n",
      "Epoch    31: reducing learning rate of group 0 to 1.0000e-03.\n",
      "Epoch:40/100 AVG Training Loss:0.458 AVG Validation Loss:0.545 AVG Training Acc 80.48 % AVG Validation Acc 78.49 %\n",
      "Epoch:50/100 AVG Training Loss:0.446 AVG Validation Loss:0.566 AVG Training Acc 80.68 % AVG Validation Acc 78.23 %\n",
      "Epoch:60/100 AVG Training Loss:0.432 AVG Validation Loss:0.579 AVG Training Acc 80.84 % AVG Validation Acc 78.49 %\n",
      "Epoch    62: reducing learning rate of group 0 to 1.0000e-04.\n",
      "Epoch:70/100 AVG Training Loss:0.424 AVG Validation Loss:0.597 AVG Training Acc 81.23 % AVG Validation Acc 78.09 %\n",
      "Epoch:80/100 AVG Training Loss:0.421 AVG Validation Loss:0.604 AVG Training Acc 81.20 % AVG Validation Acc 78.36 %\n",
      "Epoch:90/100 AVG Training Loss:0.420 AVG Validation Loss:0.610 AVG Training Acc 81.44 % AVG Validation Acc 78.09 %\n",
      "Epoch    93: reducing learning rate of group 0 to 1.0000e-05.\n",
      "Epoch:100/100 AVG Training Loss:0.419 AVG Validation Loss:0.606 AVG Training Acc 81.25 % AVG Validation Acc 78.23 %\n",
      "Split 156\n"
     ]
    },
    {
     "data": {
      "application/vnd.jupyter.widget-view+json": {
       "model_id": "6554bb3daa054e7ea494e65d5ca1fc6c",
       "version_major": 2,
       "version_minor": 0
      },
      "text/plain": [
       "  0%|          | 0/100 [00:00<?, ?it/s]"
      ]
     },
     "metadata": {},
     "output_type": "display_data"
    },
    {
     "name": "stdout",
     "output_type": "stream",
     "text": [
      "Epoch:10/100 AVG Training Loss:0.490 AVG Validation Loss:0.503 AVG Training Acc 79.87 % AVG Validation Acc 79.84 %\n",
      "Epoch    16: reducing learning rate of group 0 to 1.0000e-03.\n",
      "Epoch:20/100 AVG Training Loss:0.482 AVG Validation Loss:0.505 AVG Training Acc 79.99 % AVG Validation Acc 79.70 %\n",
      "Epoch:30/100 AVG Training Loss:0.478 AVG Validation Loss:0.505 AVG Training Acc 80.13 % AVG Validation Acc 79.57 %\n",
      "Epoch:40/100 AVG Training Loss:0.474 AVG Validation Loss:0.509 AVG Training Acc 80.35 % AVG Validation Acc 79.44 %\n",
      "Epoch    47: reducing learning rate of group 0 to 1.0000e-04.\n",
      "Epoch:50/100 AVG Training Loss:0.470 AVG Validation Loss:0.514 AVG Training Acc 80.59 % AVG Validation Acc 79.57 %\n",
      "Epoch:60/100 AVG Training Loss:0.471 AVG Validation Loss:0.515 AVG Training Acc 80.53 % AVG Validation Acc 79.44 %\n",
      "Epoch:70/100 AVG Training Loss:0.468 AVG Validation Loss:0.516 AVG Training Acc 80.50 % AVG Validation Acc 79.44 %\n",
      "Epoch    78: reducing learning rate of group 0 to 1.0000e-05.\n",
      "Epoch:80/100 AVG Training Loss:0.469 AVG Validation Loss:0.516 AVG Training Acc 80.53 % AVG Validation Acc 79.44 %\n",
      "Epoch:90/100 AVG Training Loss:0.468 AVG Validation Loss:0.516 AVG Training Acc 80.56 % AVG Validation Acc 79.44 %\n",
      "Epoch:100/100 AVG Training Loss:0.467 AVG Validation Loss:0.516 AVG Training Acc 80.51 % AVG Validation Acc 79.44 %\n",
      "Split 157\n"
     ]
    },
    {
     "data": {
      "application/vnd.jupyter.widget-view+json": {
       "model_id": "da91b6a78b6c4948869d832872a54c37",
       "version_major": 2,
       "version_minor": 0
      },
      "text/plain": [
       "  0%|          | 0/100 [00:00<?, ?it/s]"
      ]
     },
     "metadata": {},
     "output_type": "display_data"
    },
    {
     "name": "stdout",
     "output_type": "stream",
     "text": [
      "Epoch:10/100 AVG Training Loss:0.499 AVG Validation Loss:0.475 AVG Training Acc 79.64 % AVG Validation Acc 81.70 %\n",
      "Epoch:20/100 AVG Training Loss:0.496 AVG Validation Loss:0.464 AVG Training Acc 79.59 % AVG Validation Acc 81.70 %\n",
      "Epoch:30/100 AVG Training Loss:0.490 AVG Validation Loss:0.463 AVG Training Acc 79.71 % AVG Validation Acc 81.70 %\n",
      "Epoch    35: reducing learning rate of group 0 to 1.0000e-03.\n",
      "Epoch:40/100 AVG Training Loss:0.478 AVG Validation Loss:0.462 AVG Training Acc 80.22 % AVG Validation Acc 81.83 %\n",
      "Epoch:50/100 AVG Training Loss:0.472 AVG Validation Loss:0.464 AVG Training Acc 80.40 % AVG Validation Acc 81.70 %\n",
      "Epoch:60/100 AVG Training Loss:0.466 AVG Validation Loss:0.469 AVG Training Acc 80.50 % AVG Validation Acc 81.56 %\n",
      "Epoch    66: reducing learning rate of group 0 to 1.0000e-04.\n",
      "Epoch:70/100 AVG Training Loss:0.459 AVG Validation Loss:0.471 AVG Training Acc 80.77 % AVG Validation Acc 81.16 %\n",
      "Epoch:80/100 AVG Training Loss:0.459 AVG Validation Loss:0.471 AVG Training Acc 80.88 % AVG Validation Acc 81.29 %\n",
      "Epoch:90/100 AVG Training Loss:0.460 AVG Validation Loss:0.471 AVG Training Acc 80.83 % AVG Validation Acc 81.16 %\n",
      "Epoch    97: reducing learning rate of group 0 to 1.0000e-05.\n",
      "Epoch:100/100 AVG Training Loss:0.457 AVG Validation Loss:0.473 AVG Training Acc 80.88 % AVG Validation Acc 81.16 %\n",
      "Split 158\n"
     ]
    },
    {
     "data": {
      "application/vnd.jupyter.widget-view+json": {
       "model_id": "71a46763ad124fceb8e141e24f65dcd6",
       "version_major": 2,
       "version_minor": 0
      },
      "text/plain": [
       "  0%|          | 0/100 [00:00<?, ?it/s]"
      ]
     },
     "metadata": {},
     "output_type": "display_data"
    },
    {
     "name": "stdout",
     "output_type": "stream",
     "text": [
      "Epoch:10/100 AVG Training Loss:0.495 AVG Validation Loss:0.488 AVG Training Acc 79.81 % AVG Validation Acc 80.35 %\n",
      "Epoch:20/100 AVG Training Loss:0.496 AVG Validation Loss:0.473 AVG Training Acc 79.80 % AVG Validation Acc 80.35 %\n",
      "Epoch:30/100 AVG Training Loss:0.493 AVG Validation Loss:0.480 AVG Training Acc 79.81 % AVG Validation Acc 80.35 %\n",
      "Epoch:40/100 AVG Training Loss:0.486 AVG Validation Loss:0.466 AVG Training Acc 79.92 % AVG Validation Acc 80.89 %\n",
      "Epoch:50/100 AVG Training Loss:0.486 AVG Validation Loss:0.484 AVG Training Acc 79.73 % AVG Validation Acc 80.35 %\n",
      "Epoch    55: reducing learning rate of group 0 to 1.0000e-03.\n",
      "Epoch:60/100 AVG Training Loss:0.469 AVG Validation Loss:0.472 AVG Training Acc 80.10 % AVG Validation Acc 80.48 %\n",
      "Epoch:70/100 AVG Training Loss:0.463 AVG Validation Loss:0.476 AVG Training Acc 80.43 % AVG Validation Acc 80.48 %\n",
      "Epoch:80/100 AVG Training Loss:0.455 AVG Validation Loss:0.491 AVG Training Acc 80.52 % AVG Validation Acc 81.02 %\n",
      "Epoch    86: reducing learning rate of group 0 to 1.0000e-04.\n",
      "Epoch:90/100 AVG Training Loss:0.447 AVG Validation Loss:0.505 AVG Training Acc 80.74 % AVG Validation Acc 80.89 %\n",
      "Epoch:100/100 AVG Training Loss:0.446 AVG Validation Loss:0.508 AVG Training Acc 80.94 % AVG Validation Acc 80.89 %\n",
      "Split 159\n"
     ]
    },
    {
     "data": {
      "application/vnd.jupyter.widget-view+json": {
       "model_id": "fe09166d3d2a48a1941a4973841815ad",
       "version_major": 2,
       "version_minor": 0
      },
      "text/plain": [
       "  0%|          | 0/100 [00:00<?, ?it/s]"
      ]
     },
     "metadata": {},
     "output_type": "display_data"
    },
    {
     "name": "stdout",
     "output_type": "stream",
     "text": [
      "Epoch:10/100 AVG Training Loss:0.495 AVG Validation Loss:0.492 AVG Training Acc 79.84 % AVG Validation Acc 79.95 %\n",
      "Epoch:20/100 AVG Training Loss:0.490 AVG Validation Loss:0.489 AVG Training Acc 79.78 % AVG Validation Acc 79.95 %\n",
      "Epoch:30/100 AVG Training Loss:0.487 AVG Validation Loss:0.484 AVG Training Acc 79.86 % AVG Validation Acc 79.95 %\n",
      "Epoch:40/100 AVG Training Loss:0.478 AVG Validation Loss:0.492 AVG Training Acc 80.01 % AVG Validation Acc 79.95 %\n",
      "Epoch    41: reducing learning rate of group 0 to 1.0000e-03.\n",
      "Epoch:50/100 AVG Training Loss:0.458 AVG Validation Loss:0.507 AVG Training Acc 80.19 % AVG Validation Acc 79.81 %\n",
      "Epoch:60/100 AVG Training Loss:0.448 AVG Validation Loss:0.514 AVG Training Acc 80.64 % AVG Validation Acc 80.35 %\n",
      "Epoch:70/100 AVG Training Loss:0.437 AVG Validation Loss:0.530 AVG Training Acc 81.02 % AVG Validation Acc 79.68 %\n",
      "Epoch    72: reducing learning rate of group 0 to 1.0000e-04.\n",
      "Epoch:80/100 AVG Training Loss:0.434 AVG Validation Loss:0.538 AVG Training Acc 81.10 % AVG Validation Acc 79.54 %\n",
      "Epoch:90/100 AVG Training Loss:0.434 AVG Validation Loss:0.542 AVG Training Acc 80.91 % AVG Validation Acc 79.41 %\n",
      "Epoch:100/100 AVG Training Loss:0.429 AVG Validation Loss:0.547 AVG Training Acc 81.14 % AVG Validation Acc 79.68 %\n",
      "Split 160\n"
     ]
    },
    {
     "data": {
      "application/vnd.jupyter.widget-view+json": {
       "model_id": "767672e866c74382acf5d471bd6ef2e9",
       "version_major": 2,
       "version_minor": 0
      },
      "text/plain": [
       "  0%|          | 0/100 [00:00<?, ?it/s]"
      ]
     },
     "metadata": {},
     "output_type": "display_data"
    },
    {
     "name": "stdout",
     "output_type": "stream",
     "text": [
      "Epoch:10/100 AVG Training Loss:0.495 AVG Validation Loss:0.493 AVG Training Acc 79.84 % AVG Validation Acc 80.08 %\n",
      "Epoch:20/100 AVG Training Loss:0.489 AVG Validation Loss:0.491 AVG Training Acc 79.86 % AVG Validation Acc 80.22 %\n",
      "Epoch:30/100 AVG Training Loss:0.486 AVG Validation Loss:0.485 AVG Training Acc 79.87 % AVG Validation Acc 80.22 %\n",
      "Epoch    39: reducing learning rate of group 0 to 1.0000e-03.\n",
      "Epoch:40/100 AVG Training Loss:0.479 AVG Validation Loss:0.488 AVG Training Acc 79.87 % AVG Validation Acc 80.22 %\n",
      "Epoch:50/100 AVG Training Loss:0.468 AVG Validation Loss:0.485 AVG Training Acc 80.01 % AVG Validation Acc 80.08 %\n",
      "Epoch:60/100 AVG Training Loss:0.463 AVG Validation Loss:0.493 AVG Training Acc 80.25 % AVG Validation Acc 79.81 %\n",
      "Epoch:70/100 AVG Training Loss:0.459 AVG Validation Loss:0.491 AVG Training Acc 80.47 % AVG Validation Acc 79.95 %\n",
      "Epoch    70: reducing learning rate of group 0 to 1.0000e-04.\n",
      "Epoch:80/100 AVG Training Loss:0.457 AVG Validation Loss:0.493 AVG Training Acc 80.40 % AVG Validation Acc 79.81 %\n",
      "Epoch:90/100 AVG Training Loss:0.457 AVG Validation Loss:0.492 AVG Training Acc 80.50 % AVG Validation Acc 79.95 %\n",
      "Epoch:100/100 AVG Training Loss:0.456 AVG Validation Loss:0.493 AVG Training Acc 80.40 % AVG Validation Acc 79.95 %\n",
      "Split 161\n"
     ]
    },
    {
     "data": {
      "application/vnd.jupyter.widget-view+json": {
       "model_id": "2d90396aecec4a1ba05f38dd3c955cd3",
       "version_major": 2,
       "version_minor": 0
      },
      "text/plain": [
       "  0%|          | 0/100 [00:00<?, ?it/s]"
      ]
     },
     "metadata": {},
     "output_type": "display_data"
    },
    {
     "name": "stdout",
     "output_type": "stream",
     "text": [
      "Epoch:10/100 AVG Training Loss:0.496 AVG Validation Loss:0.509 AVG Training Acc 79.99 % AVG Validation Acc 79.03 %\n",
      "Epoch:20/100 AVG Training Loss:0.487 AVG Validation Loss:0.503 AVG Training Acc 80.04 % AVG Validation Acc 79.17 %\n",
      "Epoch:30/100 AVG Training Loss:0.482 AVG Validation Loss:0.504 AVG Training Acc 79.98 % AVG Validation Acc 78.63 %\n",
      "Epoch:40/100 AVG Training Loss:0.477 AVG Validation Loss:0.500 AVG Training Acc 80.27 % AVG Validation Acc 79.03 %\n",
      "Epoch:50/100 AVG Training Loss:0.474 AVG Validation Loss:0.512 AVG Training Acc 80.27 % AVG Validation Acc 78.63 %\n",
      "Epoch    53: reducing learning rate of group 0 to 1.0000e-03.\n",
      "Epoch:60/100 AVG Training Loss:0.459 AVG Validation Loss:0.504 AVG Training Acc 80.60 % AVG Validation Acc 78.36 %\n",
      "Epoch:70/100 AVG Training Loss:0.454 AVG Validation Loss:0.506 AVG Training Acc 80.75 % AVG Validation Acc 77.82 %\n",
      "Epoch:80/100 AVG Training Loss:0.445 AVG Validation Loss:0.515 AVG Training Acc 81.07 % AVG Validation Acc 77.42 %\n",
      "Epoch    84: reducing learning rate of group 0 to 1.0000e-04.\n",
      "Epoch:90/100 AVG Training Loss:0.442 AVG Validation Loss:0.534 AVG Training Acc 81.22 % AVG Validation Acc 77.42 %\n",
      "Epoch:100/100 AVG Training Loss:0.443 AVG Validation Loss:0.533 AVG Training Acc 81.19 % AVG Validation Acc 77.42 %\n",
      "Split 162\n"
     ]
    },
    {
     "data": {
      "application/vnd.jupyter.widget-view+json": {
       "model_id": "a2df12009c3944f1a57539b1e572bd5c",
       "version_major": 2,
       "version_minor": 0
      },
      "text/plain": [
       "  0%|          | 0/100 [00:00<?, ?it/s]"
      ]
     },
     "metadata": {},
     "output_type": "display_data"
    },
    {
     "name": "stdout",
     "output_type": "stream",
     "text": [
      "Epoch:10/100 AVG Training Loss:0.498 AVG Validation Loss:0.527 AVG Training Acc 80.08 % AVG Validation Acc 77.69 %\n",
      "Epoch:20/100 AVG Training Loss:0.486 AVG Validation Loss:0.522 AVG Training Acc 80.19 % AVG Validation Acc 77.69 %\n",
      "Epoch    26: reducing learning rate of group 0 to 1.0000e-03.\n",
      "Epoch:30/100 AVG Training Loss:0.478 AVG Validation Loss:0.529 AVG Training Acc 80.32 % AVG Validation Acc 77.15 %\n",
      "Epoch:40/100 AVG Training Loss:0.475 AVG Validation Loss:0.533 AVG Training Acc 80.60 % AVG Validation Acc 77.15 %\n",
      "Epoch:50/100 AVG Training Loss:0.471 AVG Validation Loss:0.537 AVG Training Acc 80.75 % AVG Validation Acc 76.61 %\n",
      "Epoch    57: reducing learning rate of group 0 to 1.0000e-04.\n",
      "Epoch:60/100 AVG Training Loss:0.470 AVG Validation Loss:0.538 AVG Training Acc 80.77 % AVG Validation Acc 76.48 %\n",
      "Epoch:70/100 AVG Training Loss:0.469 AVG Validation Loss:0.538 AVG Training Acc 80.84 % AVG Validation Acc 76.61 %\n",
      "Epoch:80/100 AVG Training Loss:0.468 AVG Validation Loss:0.539 AVG Training Acc 80.89 % AVG Validation Acc 76.61 %\n",
      "Epoch    88: reducing learning rate of group 0 to 1.0000e-05.\n",
      "Epoch:90/100 AVG Training Loss:0.468 AVG Validation Loss:0.539 AVG Training Acc 80.86 % AVG Validation Acc 76.61 %\n",
      "Epoch:100/100 AVG Training Loss:0.467 AVG Validation Loss:0.539 AVG Training Acc 81.01 % AVG Validation Acc 76.61 %\n",
      "Split 163\n"
     ]
    },
    {
     "data": {
      "application/vnd.jupyter.widget-view+json": {
       "model_id": "1fc292f7f2a944adacb7b3e0d874528e",
       "version_major": 2,
       "version_minor": 0
      },
      "text/plain": [
       "  0%|          | 0/100 [00:00<?, ?it/s]"
      ]
     },
     "metadata": {},
     "output_type": "display_data"
    },
    {
     "name": "stdout",
     "output_type": "stream",
     "text": [
      "Epoch:10/100 AVG Training Loss:0.497 AVG Validation Loss:0.480 AVG Training Acc 79.80 % AVG Validation Acc 80.51 %\n",
      "Epoch:20/100 AVG Training Loss:0.491 AVG Validation Loss:0.487 AVG Training Acc 79.71 % AVG Validation Acc 80.51 %\n",
      "Epoch:30/100 AVG Training Loss:0.483 AVG Validation Loss:0.484 AVG Training Acc 79.71 % AVG Validation Acc 80.51 %\n",
      "Epoch    33: reducing learning rate of group 0 to 1.0000e-03.\n",
      "Epoch:40/100 AVG Training Loss:0.466 AVG Validation Loss:0.484 AVG Training Acc 80.29 % AVG Validation Acc 80.11 %\n",
      "Epoch:50/100 AVG Training Loss:0.456 AVG Validation Loss:0.488 AVG Training Acc 80.92 % AVG Validation Acc 80.11 %\n",
      "Epoch:60/100 AVG Training Loss:0.446 AVG Validation Loss:0.495 AVG Training Acc 81.26 % AVG Validation Acc 79.97 %\n",
      "Epoch    64: reducing learning rate of group 0 to 1.0000e-04.\n",
      "Epoch:70/100 AVG Training Loss:0.442 AVG Validation Loss:0.504 AVG Training Acc 81.53 % AVG Validation Acc 79.17 %\n",
      "Epoch:80/100 AVG Training Loss:0.440 AVG Validation Loss:0.504 AVG Training Acc 81.46 % AVG Validation Acc 78.90 %\n",
      "Epoch:90/100 AVG Training Loss:0.437 AVG Validation Loss:0.503 AVG Training Acc 81.41 % AVG Validation Acc 78.90 %\n",
      "Epoch    95: reducing learning rate of group 0 to 1.0000e-05.\n",
      "Epoch:100/100 AVG Training Loss:0.435 AVG Validation Loss:0.506 AVG Training Acc 81.75 % AVG Validation Acc 78.63 %\n",
      "Split 164\n"
     ]
    },
    {
     "data": {
      "application/vnd.jupyter.widget-view+json": {
       "model_id": "62f774c358294177adf0c9bb5e12f298",
       "version_major": 2,
       "version_minor": 0
      },
      "text/plain": [
       "  0%|          | 0/100 [00:00<?, ?it/s]"
      ]
     },
     "metadata": {},
     "output_type": "display_data"
    },
    {
     "name": "stdout",
     "output_type": "stream",
     "text": [
      "Epoch:10/100 AVG Training Loss:0.497 AVG Validation Loss:0.504 AVG Training Acc 80.02 % AVG Validation Acc 78.63 %\n",
      "Epoch:20/100 AVG Training Loss:0.491 AVG Validation Loss:0.498 AVG Training Acc 80.02 % AVG Validation Acc 78.63 %\n",
      "Epoch:30/100 AVG Training Loss:0.483 AVG Validation Loss:0.498 AVG Training Acc 80.04 % AVG Validation Acc 78.63 %\n",
      "Epoch:40/100 AVG Training Loss:0.476 AVG Validation Loss:0.501 AVG Training Acc 79.98 % AVG Validation Acc 78.63 %\n",
      "Epoch    40: reducing learning rate of group 0 to 1.0000e-03.\n",
      "Epoch:50/100 AVG Training Loss:0.460 AVG Validation Loss:0.506 AVG Training Acc 80.63 % AVG Validation Acc 78.09 %\n",
      "Epoch:60/100 AVG Training Loss:0.445 AVG Validation Loss:0.514 AVG Training Acc 80.81 % AVG Validation Acc 78.63 %\n",
      "Epoch:70/100 AVG Training Loss:0.442 AVG Validation Loss:0.519 AVG Training Acc 81.04 % AVG Validation Acc 78.90 %\n",
      "Epoch    71: reducing learning rate of group 0 to 1.0000e-04.\n",
      "Epoch:80/100 AVG Training Loss:0.433 AVG Validation Loss:0.524 AVG Training Acc 81.40 % AVG Validation Acc 78.76 %\n",
      "Epoch:90/100 AVG Training Loss:0.431 AVG Validation Loss:0.527 AVG Training Acc 81.22 % AVG Validation Acc 78.76 %\n",
      "Epoch:100/100 AVG Training Loss:0.433 AVG Validation Loss:0.529 AVG Training Acc 81.50 % AVG Validation Acc 78.63 %\n",
      "Split 165\n"
     ]
    },
    {
     "data": {
      "application/vnd.jupyter.widget-view+json": {
       "model_id": "db3931ec4bc8484e90c9a792ad9eba72",
       "version_major": 2,
       "version_minor": 0
      },
      "text/plain": [
       "  0%|          | 0/100 [00:00<?, ?it/s]"
      ]
     },
     "metadata": {},
     "output_type": "display_data"
    },
    {
     "name": "stdout",
     "output_type": "stream",
     "text": [
      "Epoch:10/100 AVG Training Loss:0.499 AVG Validation Loss:0.497 AVG Training Acc 79.84 % AVG Validation Acc 79.84 %\n",
      "Epoch:20/100 AVG Training Loss:0.490 AVG Validation Loss:0.489 AVG Training Acc 79.93 % AVG Validation Acc 79.84 %\n",
      "Epoch    20: reducing learning rate of group 0 to 1.0000e-03.\n",
      "Epoch:30/100 AVG Training Loss:0.480 AVG Validation Loss:0.489 AVG Training Acc 80.01 % AVG Validation Acc 79.70 %\n",
      "Epoch:40/100 AVG Training Loss:0.475 AVG Validation Loss:0.491 AVG Training Acc 80.05 % AVG Validation Acc 79.84 %\n",
      "Epoch:50/100 AVG Training Loss:0.469 AVG Validation Loss:0.497 AVG Training Acc 80.45 % AVG Validation Acc 79.70 %\n",
      "Epoch    51: reducing learning rate of group 0 to 1.0000e-04.\n",
      "Epoch:60/100 AVG Training Loss:0.467 AVG Validation Loss:0.496 AVG Training Acc 80.25 % AVG Validation Acc 79.57 %\n",
      "Epoch:70/100 AVG Training Loss:0.464 AVG Validation Loss:0.497 AVG Training Acc 80.41 % AVG Validation Acc 79.70 %\n",
      "Epoch:80/100 AVG Training Loss:0.462 AVG Validation Loss:0.497 AVG Training Acc 80.45 % AVG Validation Acc 79.70 %\n",
      "Epoch    82: reducing learning rate of group 0 to 1.0000e-05.\n",
      "Epoch:90/100 AVG Training Loss:0.463 AVG Validation Loss:0.498 AVG Training Acc 80.54 % AVG Validation Acc 79.70 %\n",
      "Epoch:100/100 AVG Training Loss:0.460 AVG Validation Loss:0.498 AVG Training Acc 80.53 % AVG Validation Acc 79.57 %\n",
      "Split 166\n"
     ]
    },
    {
     "data": {
      "application/vnd.jupyter.widget-view+json": {
       "model_id": "195b69275b9b4a038cdcf233a184a528",
       "version_major": 2,
       "version_minor": 0
      },
      "text/plain": [
       "  0%|          | 0/100 [00:00<?, ?it/s]"
      ]
     },
     "metadata": {},
     "output_type": "display_data"
    },
    {
     "name": "stdout",
     "output_type": "stream",
     "text": [
      "Epoch:10/100 AVG Training Loss:0.497 AVG Validation Loss:0.474 AVG Training Acc 79.62 % AVG Validation Acc 81.32 %\n",
      "Epoch:20/100 AVG Training Loss:0.492 AVG Validation Loss:0.474 AVG Training Acc 79.53 % AVG Validation Acc 81.32 %\n",
      "Epoch:30/100 AVG Training Loss:0.483 AVG Validation Loss:0.465 AVG Training Acc 79.95 % AVG Validation Acc 81.45 %\n",
      "Epoch:40/100 AVG Training Loss:0.480 AVG Validation Loss:0.474 AVG Training Acc 79.78 % AVG Validation Acc 81.05 %\n",
      "Epoch    41: reducing learning rate of group 0 to 1.0000e-03.\n",
      "Epoch:50/100 AVG Training Loss:0.459 AVG Validation Loss:0.474 AVG Training Acc 80.45 % AVG Validation Acc 80.91 %\n",
      "Epoch:60/100 AVG Training Loss:0.453 AVG Validation Loss:0.477 AVG Training Acc 80.66 % AVG Validation Acc 80.51 %\n",
      "Epoch:70/100 AVG Training Loss:0.444 AVG Validation Loss:0.481 AVG Training Acc 80.99 % AVG Validation Acc 80.51 %\n",
      "Epoch    72: reducing learning rate of group 0 to 1.0000e-04.\n",
      "Epoch:80/100 AVG Training Loss:0.438 AVG Validation Loss:0.488 AVG Training Acc 81.32 % AVG Validation Acc 80.24 %\n",
      "Epoch:90/100 AVG Training Loss:0.435 AVG Validation Loss:0.491 AVG Training Acc 81.53 % AVG Validation Acc 80.24 %\n",
      "Epoch:100/100 AVG Training Loss:0.433 AVG Validation Loss:0.489 AVG Training Acc 81.55 % AVG Validation Acc 80.11 %\n",
      "Split 167\n"
     ]
    },
    {
     "data": {
      "application/vnd.jupyter.widget-view+json": {
       "model_id": "a02e5230aa434b03b5d78283fb980ffa",
       "version_major": 2,
       "version_minor": 0
      },
      "text/plain": [
       "  0%|          | 0/100 [00:00<?, ?it/s]"
      ]
     },
     "metadata": {},
     "output_type": "display_data"
    },
    {
     "name": "stdout",
     "output_type": "stream",
     "text": [
      "Epoch:10/100 AVG Training Loss:0.495 AVG Validation Loss:0.494 AVG Training Acc 79.81 % AVG Validation Acc 79.95 %\n",
      "Epoch:20/100 AVG Training Loss:0.488 AVG Validation Loss:0.497 AVG Training Acc 79.90 % AVG Validation Acc 80.22 %\n",
      "Epoch    27: reducing learning rate of group 0 to 1.0000e-03.\n",
      "Epoch:30/100 AVG Training Loss:0.478 AVG Validation Loss:0.497 AVG Training Acc 80.02 % AVG Validation Acc 80.08 %\n",
      "Epoch:40/100 AVG Training Loss:0.469 AVG Validation Loss:0.509 AVG Training Acc 80.17 % AVG Validation Acc 79.68 %\n",
      "Epoch:50/100 AVG Training Loss:0.461 AVG Validation Loss:0.521 AVG Training Acc 80.34 % AVG Validation Acc 79.41 %\n",
      "Epoch    58: reducing learning rate of group 0 to 1.0000e-04.\n",
      "Epoch:60/100 AVG Training Loss:0.454 AVG Validation Loss:0.526 AVG Training Acc 80.35 % AVG Validation Acc 79.41 %\n",
      "Epoch:70/100 AVG Training Loss:0.454 AVG Validation Loss:0.534 AVG Training Acc 80.32 % AVG Validation Acc 79.14 %\n",
      "Epoch:80/100 AVG Training Loss:0.453 AVG Validation Loss:0.534 AVG Training Acc 80.41 % AVG Validation Acc 79.14 %\n",
      "Epoch    89: reducing learning rate of group 0 to 1.0000e-05.\n",
      "Epoch:90/100 AVG Training Loss:0.451 AVG Validation Loss:0.529 AVG Training Acc 80.38 % AVG Validation Acc 79.27 %\n",
      "Epoch:100/100 AVG Training Loss:0.453 AVG Validation Loss:0.535 AVG Training Acc 80.55 % AVG Validation Acc 79.27 %\n",
      "Split 168\n"
     ]
    },
    {
     "data": {
      "application/vnd.jupyter.widget-view+json": {
       "model_id": "2725ff6c7a6347e1a924f7f36ec5bd5a",
       "version_major": 2,
       "version_minor": 0
      },
      "text/plain": [
       "  0%|          | 0/100 [00:00<?, ?it/s]"
      ]
     },
     "metadata": {},
     "output_type": "display_data"
    },
    {
     "name": "stdout",
     "output_type": "stream",
     "text": [
      "New Best Accuracy found: 83.58%\n",
      "Epoch: 1\n",
      "Epoch:10/100 AVG Training Loss:0.497 AVG Validation Loss:0.445 AVG Training Acc 79.43 % AVG Validation Acc 83.58 %\n",
      "New Best Accuracy found: 83.71%\n",
      "Epoch: 14\n",
      "Epoch:20/100 AVG Training Loss:0.495 AVG Validation Loss:0.456 AVG Training Acc 79.46 % AVG Validation Acc 83.31 %\n",
      "Epoch:30/100 AVG Training Loss:0.494 AVG Validation Loss:0.448 AVG Training Acc 79.50 % AVG Validation Acc 83.58 %\n",
      "Epoch:40/100 AVG Training Loss:0.492 AVG Validation Loss:0.456 AVG Training Acc 79.53 % AVG Validation Acc 83.58 %\n",
      "Epoch    45: reducing learning rate of group 0 to 1.0000e-03.\n",
      "Epoch:50/100 AVG Training Loss:0.474 AVG Validation Loss:0.457 AVG Training Acc 79.93 % AVG Validation Acc 83.45 %\n",
      "Epoch:60/100 AVG Training Loss:0.468 AVG Validation Loss:0.458 AVG Training Acc 79.92 % AVG Validation Acc 83.31 %\n",
      "Epoch:70/100 AVG Training Loss:0.459 AVG Validation Loss:0.461 AVG Training Acc 80.40 % AVG Validation Acc 83.18 %\n",
      "Epoch    76: reducing learning rate of group 0 to 1.0000e-04.\n",
      "Epoch:80/100 AVG Training Loss:0.454 AVG Validation Loss:0.473 AVG Training Acc 80.73 % AVG Validation Acc 82.64 %\n",
      "Epoch:90/100 AVG Training Loss:0.454 AVG Validation Loss:0.472 AVG Training Acc 80.50 % AVG Validation Acc 82.91 %\n",
      "Epoch:100/100 AVG Training Loss:0.453 AVG Validation Loss:0.474 AVG Training Acc 80.53 % AVG Validation Acc 82.91 %\n",
      "Split 169\n"
     ]
    },
    {
     "data": {
      "application/vnd.jupyter.widget-view+json": {
       "model_id": "b6951e8ac75247f48cef7b8805ca5cda",
       "version_major": 2,
       "version_minor": 0
      },
      "text/plain": [
       "  0%|          | 0/100 [00:00<?, ?it/s]"
      ]
     },
     "metadata": {},
     "output_type": "display_data"
    },
    {
     "name": "stdout",
     "output_type": "stream",
     "text": [
      "Epoch:10/100 AVG Training Loss:0.491 AVG Validation Loss:0.513 AVG Training Acc 80.04 % AVG Validation Acc 78.20 %\n",
      "Epoch:20/100 AVG Training Loss:0.487 AVG Validation Loss:0.516 AVG Training Acc 79.93 % AVG Validation Acc 78.20 %\n",
      "Epoch    27: reducing learning rate of group 0 to 1.0000e-03.\n",
      "Epoch:30/100 AVG Training Loss:0.468 AVG Validation Loss:0.514 AVG Training Acc 80.23 % AVG Validation Acc 78.20 %\n",
      "Epoch:40/100 AVG Training Loss:0.461 AVG Validation Loss:0.523 AVG Training Acc 80.38 % AVG Validation Acc 78.33 %\n",
      "Epoch:50/100 AVG Training Loss:0.448 AVG Validation Loss:0.538 AVG Training Acc 80.46 % AVG Validation Acc 78.33 %\n",
      "Epoch    58: reducing learning rate of group 0 to 1.0000e-04.\n",
      "Epoch:60/100 AVG Training Loss:0.435 AVG Validation Loss:0.536 AVG Training Acc 81.11 % AVG Validation Acc 77.93 %\n",
      "Epoch:70/100 AVG Training Loss:0.433 AVG Validation Loss:0.541 AVG Training Acc 81.41 % AVG Validation Acc 78.33 %\n",
      "Epoch:80/100 AVG Training Loss:0.428 AVG Validation Loss:0.547 AVG Training Acc 81.44 % AVG Validation Acc 78.20 %\n",
      "Epoch    89: reducing learning rate of group 0 to 1.0000e-05.\n",
      "Epoch:90/100 AVG Training Loss:0.430 AVG Validation Loss:0.547 AVG Training Acc 81.38 % AVG Validation Acc 78.33 %\n",
      "Epoch:100/100 AVG Training Loss:0.431 AVG Validation Loss:0.546 AVG Training Acc 81.20 % AVG Validation Acc 78.47 %\n",
      "Split 170\n"
     ]
    },
    {
     "data": {
      "application/vnd.jupyter.widget-view+json": {
       "model_id": "f4dec69b4bae43b4a6b0f950c2ad2e24",
       "version_major": 2,
       "version_minor": 0
      },
      "text/plain": [
       "  0%|          | 0/100 [00:00<?, ?it/s]"
      ]
     },
     "metadata": {},
     "output_type": "display_data"
    },
    {
     "name": "stdout",
     "output_type": "stream",
     "text": [
      "Epoch:10/100 AVG Training Loss:0.496 AVG Validation Loss:0.512 AVG Training Acc 79.75 % AVG Validation Acc 79.81 %\n",
      "Epoch:20/100 AVG Training Loss:0.493 AVG Validation Loss:0.493 AVG Training Acc 79.86 % AVG Validation Acc 79.68 %\n",
      "Epoch:30/100 AVG Training Loss:0.485 AVG Validation Loss:0.493 AVG Training Acc 79.83 % AVG Validation Acc 79.81 %\n",
      "Epoch    30: reducing learning rate of group 0 to 1.0000e-03.\n",
      "Epoch:40/100 AVG Training Loss:0.477 AVG Validation Loss:0.495 AVG Training Acc 80.25 % AVG Validation Acc 79.95 %\n",
      "Epoch:50/100 AVG Training Loss:0.468 AVG Validation Loss:0.502 AVG Training Acc 80.56 % AVG Validation Acc 79.27 %\n",
      "Epoch:60/100 AVG Training Loss:0.466 AVG Validation Loss:0.506 AVG Training Acc 80.59 % AVG Validation Acc 79.14 %\n",
      "Epoch    61: reducing learning rate of group 0 to 1.0000e-04.\n",
      "Epoch:70/100 AVG Training Loss:0.462 AVG Validation Loss:0.506 AVG Training Acc 80.83 % AVG Validation Acc 79.00 %\n",
      "Epoch:80/100 AVG Training Loss:0.460 AVG Validation Loss:0.507 AVG Training Acc 80.73 % AVG Validation Acc 79.14 %\n",
      "Epoch:90/100 AVG Training Loss:0.459 AVG Validation Loss:0.506 AVG Training Acc 80.94 % AVG Validation Acc 79.14 %\n",
      "Epoch    92: reducing learning rate of group 0 to 1.0000e-05.\n",
      "Epoch:100/100 AVG Training Loss:0.457 AVG Validation Loss:0.508 AVG Training Acc 81.04 % AVG Validation Acc 79.00 %\n",
      "Split 171\n"
     ]
    },
    {
     "data": {
      "application/vnd.jupyter.widget-view+json": {
       "model_id": "ebfe3749b5094d42ac86370a660b1bbb",
       "version_major": 2,
       "version_minor": 0
      },
      "text/plain": [
       "  0%|          | 0/100 [00:00<?, ?it/s]"
      ]
     },
     "metadata": {},
     "output_type": "display_data"
    },
    {
     "name": "stdout",
     "output_type": "stream",
     "text": [
      "Epoch:10/100 AVG Training Loss:0.487 AVG Validation Loss:0.537 AVG Training Acc 80.30 % AVG Validation Acc 75.94 %\n",
      "Epoch:20/100 AVG Training Loss:0.483 AVG Validation Loss:0.535 AVG Training Acc 80.35 % AVG Validation Acc 75.67 %\n",
      "Epoch:30/100 AVG Training Loss:0.478 AVG Validation Loss:0.551 AVG Training Acc 80.26 % AVG Validation Acc 76.08 %\n",
      "Epoch    31: reducing learning rate of group 0 to 1.0000e-03.\n",
      "Epoch:40/100 AVG Training Loss:0.460 AVG Validation Loss:0.542 AVG Training Acc 80.57 % AVG Validation Acc 75.94 %\n",
      "Epoch:50/100 AVG Training Loss:0.448 AVG Validation Loss:0.545 AVG Training Acc 81.01 % AVG Validation Acc 75.67 %\n",
      "Epoch:60/100 AVG Training Loss:0.438 AVG Validation Loss:0.559 AVG Training Acc 81.29 % AVG Validation Acc 75.94 %\n",
      "Epoch    62: reducing learning rate of group 0 to 1.0000e-04.\n",
      "Epoch:70/100 AVG Training Loss:0.434 AVG Validation Loss:0.569 AVG Training Acc 81.55 % AVG Validation Acc 75.67 %\n",
      "Epoch:80/100 AVG Training Loss:0.427 AVG Validation Loss:0.573 AVG Training Acc 81.60 % AVG Validation Acc 76.08 %\n",
      "Epoch:90/100 AVG Training Loss:0.430 AVG Validation Loss:0.574 AVG Training Acc 81.78 % AVG Validation Acc 75.67 %\n",
      "Epoch    93: reducing learning rate of group 0 to 1.0000e-05.\n",
      "Epoch:100/100 AVG Training Loss:0.430 AVG Validation Loss:0.574 AVG Training Acc 81.52 % AVG Validation Acc 75.81 %\n",
      "Split 172\n"
     ]
    },
    {
     "data": {
      "application/vnd.jupyter.widget-view+json": {
       "model_id": "6e911ff1e5204a118626782747476320",
       "version_major": 2,
       "version_minor": 0
      },
      "text/plain": [
       "  0%|          | 0/100 [00:00<?, ?it/s]"
      ]
     },
     "metadata": {},
     "output_type": "display_data"
    },
    {
     "name": "stdout",
     "output_type": "stream",
     "text": [
      "Epoch:10/100 AVG Training Loss:0.497 AVG Validation Loss:0.471 AVG Training Acc 79.62 % AVG Validation Acc 81.72 %\n",
      "Epoch:20/100 AVG Training Loss:0.491 AVG Validation Loss:0.483 AVG Training Acc 79.66 % AVG Validation Acc 81.72 %\n",
      "Epoch    24: reducing learning rate of group 0 to 1.0000e-03.\n",
      "Epoch:30/100 AVG Training Loss:0.479 AVG Validation Loss:0.475 AVG Training Acc 79.95 % AVG Validation Acc 81.59 %\n",
      "Epoch:40/100 AVG Training Loss:0.475 AVG Validation Loss:0.480 AVG Training Acc 79.92 % AVG Validation Acc 81.72 %\n",
      "Epoch:50/100 AVG Training Loss:0.470 AVG Validation Loss:0.483 AVG Training Acc 80.38 % AVG Validation Acc 81.59 %\n",
      "Epoch    55: reducing learning rate of group 0 to 1.0000e-04.\n",
      "Epoch:60/100 AVG Training Loss:0.465 AVG Validation Loss:0.487 AVG Training Acc 80.63 % AVG Validation Acc 81.59 %\n",
      "Epoch:70/100 AVG Training Loss:0.463 AVG Validation Loss:0.489 AVG Training Acc 80.53 % AVG Validation Acc 81.45 %\n",
      "Epoch:80/100 AVG Training Loss:0.461 AVG Validation Loss:0.489 AVG Training Acc 80.66 % AVG Validation Acc 81.45 %\n",
      "Epoch    86: reducing learning rate of group 0 to 1.0000e-05.\n",
      "Epoch:90/100 AVG Training Loss:0.462 AVG Validation Loss:0.491 AVG Training Acc 80.81 % AVG Validation Acc 81.59 %\n",
      "Epoch:100/100 AVG Training Loss:0.461 AVG Validation Loss:0.490 AVG Training Acc 80.69 % AVG Validation Acc 81.59 %\n",
      "Split 173\n"
     ]
    },
    {
     "data": {
      "application/vnd.jupyter.widget-view+json": {
       "model_id": "f7e1694e32d74c3c82a5f1d9092d29af",
       "version_major": 2,
       "version_minor": 0
      },
      "text/plain": [
       "  0%|          | 0/100 [00:00<?, ?it/s]"
      ]
     },
     "metadata": {},
     "output_type": "display_data"
    },
    {
     "name": "stdout",
     "output_type": "stream",
     "text": [
      "Epoch:10/100 AVG Training Loss:0.499 AVG Validation Loss:0.445 AVG Training Acc 79.48 % AVG Validation Acc 82.80 %\n",
      "Epoch:20/100 AVG Training Loss:0.495 AVG Validation Loss:0.438 AVG Training Acc 79.57 % AVG Validation Acc 82.93 %\n",
      "Epoch    20: reducing learning rate of group 0 to 1.0000e-03.\n",
      "Epoch:30/100 AVG Training Loss:0.485 AVG Validation Loss:0.435 AVG Training Acc 79.53 % AVG Validation Acc 83.06 %\n",
      "Epoch:40/100 AVG Training Loss:0.483 AVG Validation Loss:0.434 AVG Training Acc 79.72 % AVG Validation Acc 83.06 %\n",
      "Epoch:50/100 AVG Training Loss:0.478 AVG Validation Loss:0.435 AVG Training Acc 79.74 % AVG Validation Acc 82.93 %\n",
      "Epoch    58: reducing learning rate of group 0 to 1.0000e-04.\n",
      "Epoch:60/100 AVG Training Loss:0.471 AVG Validation Loss:0.437 AVG Training Acc 79.86 % AVG Validation Acc 82.80 %\n",
      "Epoch:70/100 AVG Training Loss:0.470 AVG Validation Loss:0.440 AVG Training Acc 79.89 % AVG Validation Acc 82.80 %\n",
      "Epoch:80/100 AVG Training Loss:0.467 AVG Validation Loss:0.441 AVG Training Acc 79.89 % AVG Validation Acc 83.06 %\n",
      "Epoch    89: reducing learning rate of group 0 to 1.0000e-05.\n",
      "Epoch:90/100 AVG Training Loss:0.468 AVG Validation Loss:0.442 AVG Training Acc 79.92 % AVG Validation Acc 82.80 %\n",
      "Epoch:100/100 AVG Training Loss:0.467 AVG Validation Loss:0.443 AVG Training Acc 79.89 % AVG Validation Acc 82.80 %\n",
      "Split 174\n"
     ]
    },
    {
     "data": {
      "application/vnd.jupyter.widget-view+json": {
       "model_id": "9b16fd0f7324444caa3507fe6ac2056b",
       "version_major": 2,
       "version_minor": 0
      },
      "text/plain": [
       "  0%|          | 0/100 [00:00<?, ?it/s]"
      ]
     },
     "metadata": {},
     "output_type": "display_data"
    },
    {
     "name": "stdout",
     "output_type": "stream",
     "text": [
      "Epoch:10/100 AVG Training Loss:0.496 AVG Validation Loss:0.520 AVG Training Acc 80.08 % AVG Validation Acc 77.69 %\n",
      "Epoch:20/100 AVG Training Loss:0.488 AVG Validation Loss:0.515 AVG Training Acc 80.10 % AVG Validation Acc 77.55 %\n",
      "Epoch:30/100 AVG Training Loss:0.483 AVG Validation Loss:0.521 AVG Training Acc 80.20 % AVG Validation Acc 77.69 %\n",
      "Epoch    37: reducing learning rate of group 0 to 1.0000e-03.\n",
      "Epoch:40/100 AVG Training Loss:0.468 AVG Validation Loss:0.530 AVG Training Acc 80.35 % AVG Validation Acc 77.15 %\n",
      "Epoch:50/100 AVG Training Loss:0.460 AVG Validation Loss:0.540 AVG Training Acc 80.96 % AVG Validation Acc 76.88 %\n",
      "Epoch:60/100 AVG Training Loss:0.454 AVG Validation Loss:0.550 AVG Training Acc 81.34 % AVG Validation Acc 76.21 %\n",
      "Epoch    68: reducing learning rate of group 0 to 1.0000e-04.\n",
      "Epoch:70/100 AVG Training Loss:0.450 AVG Validation Loss:0.548 AVG Training Acc 81.34 % AVG Validation Acc 76.21 %\n",
      "Epoch:80/100 AVG Training Loss:0.449 AVG Validation Loss:0.555 AVG Training Acc 81.43 % AVG Validation Acc 76.21 %\n",
      "Epoch:90/100 AVG Training Loss:0.448 AVG Validation Loss:0.557 AVG Training Acc 81.46 % AVG Validation Acc 76.08 %\n",
      "Epoch    99: reducing learning rate of group 0 to 1.0000e-05.\n",
      "Epoch:100/100 AVG Training Loss:0.447 AVG Validation Loss:0.561 AVG Training Acc 81.59 % AVG Validation Acc 76.21 %\n",
      "Split 175\n"
     ]
    },
    {
     "data": {
      "application/vnd.jupyter.widget-view+json": {
       "model_id": "db0a42a30a5c49dfbca98346e83e8403",
       "version_major": 2,
       "version_minor": 0
      },
      "text/plain": [
       "  0%|          | 0/100 [00:00<?, ?it/s]"
      ]
     },
     "metadata": {},
     "output_type": "display_data"
    },
    {
     "name": "stdout",
     "output_type": "stream",
     "text": [
      "Epoch:10/100 AVG Training Loss:0.494 AVG Validation Loss:0.504 AVG Training Acc 79.78 % AVG Validation Acc 79.97 %\n",
      "Epoch:20/100 AVG Training Loss:0.491 AVG Validation Loss:0.490 AVG Training Acc 79.86 % AVG Validation Acc 80.11 %\n",
      "Epoch:30/100 AVG Training Loss:0.485 AVG Validation Loss:0.491 AVG Training Acc 79.96 % AVG Validation Acc 79.97 %\n",
      "Epoch    35: reducing learning rate of group 0 to 1.0000e-03.\n",
      "Epoch:40/100 AVG Training Loss:0.472 AVG Validation Loss:0.495 AVG Training Acc 80.30 % AVG Validation Acc 79.57 %\n",
      "Epoch:50/100 AVG Training Loss:0.463 AVG Validation Loss:0.504 AVG Training Acc 80.36 % AVG Validation Acc 79.44 %\n",
      "Epoch:60/100 AVG Training Loss:0.459 AVG Validation Loss:0.515 AVG Training Acc 80.69 % AVG Validation Acc 79.44 %\n",
      "Epoch    66: reducing learning rate of group 0 to 1.0000e-04.\n",
      "Epoch:70/100 AVG Training Loss:0.450 AVG Validation Loss:0.525 AVG Training Acc 80.75 % AVG Validation Acc 79.17 %\n",
      "Epoch:80/100 AVG Training Loss:0.449 AVG Validation Loss:0.537 AVG Training Acc 80.83 % AVG Validation Acc 79.17 %\n",
      "Epoch:90/100 AVG Training Loss:0.447 AVG Validation Loss:0.534 AVG Training Acc 81.11 % AVG Validation Acc 79.17 %\n",
      "Epoch    97: reducing learning rate of group 0 to 1.0000e-05.\n",
      "Epoch:100/100 AVG Training Loss:0.445 AVG Validation Loss:0.530 AVG Training Acc 80.95 % AVG Validation Acc 79.17 %\n",
      "Split 176\n"
     ]
    },
    {
     "data": {
      "application/vnd.jupyter.widget-view+json": {
       "model_id": "dc345ef4d56e40e0b91ecd82d2c0653a",
       "version_major": 2,
       "version_minor": 0
      },
      "text/plain": [
       "  0%|          | 0/100 [00:00<?, ?it/s]"
      ]
     },
     "metadata": {},
     "output_type": "display_data"
    },
    {
     "name": "stdout",
     "output_type": "stream",
     "text": [
      "Epoch:10/100 AVG Training Loss:0.491 AVG Validation Loss:0.521 AVG Training Acc 80.04 % AVG Validation Acc 78.36 %\n",
      "Epoch:20/100 AVG Training Loss:0.489 AVG Validation Loss:0.519 AVG Training Acc 80.10 % AVG Validation Acc 78.36 %\n",
      "Epoch:30/100 AVG Training Loss:0.481 AVG Validation Loss:0.518 AVG Training Acc 80.08 % AVG Validation Acc 78.36 %\n",
      "Epoch    35: reducing learning rate of group 0 to 1.0000e-03.\n",
      "Epoch:40/100 AVG Training Loss:0.464 AVG Validation Loss:0.528 AVG Training Acc 80.69 % AVG Validation Acc 77.69 %\n",
      "Epoch:50/100 AVG Training Loss:0.457 AVG Validation Loss:0.541 AVG Training Acc 80.84 % AVG Validation Acc 77.96 %\n",
      "Epoch:60/100 AVG Training Loss:0.450 AVG Validation Loss:0.543 AVG Training Acc 81.22 % AVG Validation Acc 78.09 %\n",
      "Epoch    66: reducing learning rate of group 0 to 1.0000e-04.\n",
      "Epoch:70/100 AVG Training Loss:0.444 AVG Validation Loss:0.546 AVG Training Acc 81.13 % AVG Validation Acc 77.96 %\n",
      "Epoch:80/100 AVG Training Loss:0.444 AVG Validation Loss:0.551 AVG Training Acc 81.10 % AVG Validation Acc 77.82 %\n",
      "Epoch:90/100 AVG Training Loss:0.441 AVG Validation Loss:0.549 AVG Training Acc 81.23 % AVG Validation Acc 77.82 %\n",
      "Epoch    97: reducing learning rate of group 0 to 1.0000e-05.\n",
      "Epoch:100/100 AVG Training Loss:0.440 AVG Validation Loss:0.553 AVG Training Acc 81.50 % AVG Validation Acc 77.69 %\n",
      "Split 177\n"
     ]
    },
    {
     "data": {
      "application/vnd.jupyter.widget-view+json": {
       "model_id": "82687331cc3f4bcdb690f957af809418",
       "version_major": 2,
       "version_minor": 0
      },
      "text/plain": [
       "  0%|          | 0/100 [00:00<?, ?it/s]"
      ]
     },
     "metadata": {},
     "output_type": "display_data"
    },
    {
     "name": "stdout",
     "output_type": "stream",
     "text": [
      "Epoch:10/100 AVG Training Loss:0.500 AVG Validation Loss:0.513 AVG Training Acc 79.90 % AVG Validation Acc 79.00 %\n",
      "Epoch:20/100 AVG Training Loss:0.488 AVG Validation Loss:0.516 AVG Training Acc 79.99 % AVG Validation Acc 79.00 %\n",
      "Epoch:30/100 AVG Training Loss:0.486 AVG Validation Loss:0.516 AVG Training Acc 79.98 % AVG Validation Acc 78.87 %\n",
      "Epoch    35: reducing learning rate of group 0 to 1.0000e-03.\n",
      "Epoch:40/100 AVG Training Loss:0.474 AVG Validation Loss:0.526 AVG Training Acc 80.22 % AVG Validation Acc 79.00 %\n",
      "Epoch:50/100 AVG Training Loss:0.470 AVG Validation Loss:0.530 AVG Training Acc 80.35 % AVG Validation Acc 78.73 %\n",
      "Epoch:60/100 AVG Training Loss:0.465 AVG Validation Loss:0.536 AVG Training Acc 80.52 % AVG Validation Acc 78.87 %\n",
      "Epoch    66: reducing learning rate of group 0 to 1.0000e-04.\n",
      "Epoch:70/100 AVG Training Loss:0.461 AVG Validation Loss:0.540 AVG Training Acc 80.76 % AVG Validation Acc 79.14 %\n",
      "Epoch:80/100 AVG Training Loss:0.462 AVG Validation Loss:0.541 AVG Training Acc 80.70 % AVG Validation Acc 79.14 %\n",
      "Epoch:90/100 AVG Training Loss:0.460 AVG Validation Loss:0.543 AVG Training Acc 80.64 % AVG Validation Acc 78.87 %\n",
      "Epoch    97: reducing learning rate of group 0 to 1.0000e-05.\n",
      "Epoch:100/100 AVG Training Loss:0.458 AVG Validation Loss:0.543 AVG Training Acc 80.88 % AVG Validation Acc 79.00 %\n",
      "Split 178\n"
     ]
    },
    {
     "data": {
      "application/vnd.jupyter.widget-view+json": {
       "model_id": "b312fbf3b9484829a10d6fb0ae46eb31",
       "version_major": 2,
       "version_minor": 0
      },
      "text/plain": [
       "  0%|          | 0/100 [00:00<?, ?it/s]"
      ]
     },
     "metadata": {},
     "output_type": "display_data"
    },
    {
     "name": "stdout",
     "output_type": "stream",
     "text": [
      "Epoch:10/100 AVG Training Loss:0.502 AVG Validation Loss:0.475 AVG Training Acc 79.67 % AVG Validation Acc 81.43 %\n",
      "Epoch:20/100 AVG Training Loss:0.494 AVG Validation Loss:0.462 AVG Training Acc 79.68 % AVG Validation Acc 81.70 %\n",
      "Epoch    29: reducing learning rate of group 0 to 1.0000e-03.\n",
      "Epoch:30/100 AVG Training Loss:0.482 AVG Validation Loss:0.465 AVG Training Acc 79.84 % AVG Validation Acc 81.56 %\n",
      "Epoch:40/100 AVG Training Loss:0.473 AVG Validation Loss:0.471 AVG Training Acc 80.11 % AVG Validation Acc 81.43 %\n",
      "Epoch:50/100 AVG Training Loss:0.465 AVG Validation Loss:0.474 AVG Training Acc 80.32 % AVG Validation Acc 81.43 %\n",
      "Epoch:60/100 AVG Training Loss:0.457 AVG Validation Loss:0.481 AVG Training Acc 80.61 % AVG Validation Acc 80.75 %\n",
      "Epoch    60: reducing learning rate of group 0 to 1.0000e-04.\n",
      "Epoch:70/100 AVG Training Loss:0.453 AVG Validation Loss:0.481 AVG Training Acc 80.83 % AVG Validation Acc 80.75 %\n",
      "Epoch:80/100 AVG Training Loss:0.451 AVG Validation Loss:0.483 AVG Training Acc 81.01 % AVG Validation Acc 81.02 %\n",
      "Epoch:90/100 AVG Training Loss:0.450 AVG Validation Loss:0.484 AVG Training Acc 81.00 % AVG Validation Acc 80.89 %\n",
      "Epoch    91: reducing learning rate of group 0 to 1.0000e-05.\n",
      "Epoch:100/100 AVG Training Loss:0.453 AVG Validation Loss:0.484 AVG Training Acc 80.86 % AVG Validation Acc 80.89 %\n",
      "Split 179\n"
     ]
    },
    {
     "data": {
      "application/vnd.jupyter.widget-view+json": {
       "model_id": "88541b8f01d347918b455e1ddbf4c207",
       "version_major": 2,
       "version_minor": 0
      },
      "text/plain": [
       "  0%|          | 0/100 [00:00<?, ?it/s]"
      ]
     },
     "metadata": {},
     "output_type": "display_data"
    },
    {
     "name": "stdout",
     "output_type": "stream",
     "text": [
      "Epoch:10/100 AVG Training Loss:0.495 AVG Validation Loss:0.488 AVG Training Acc 79.84 % AVG Validation Acc 80.08 %\n",
      "Epoch:20/100 AVG Training Loss:0.497 AVG Validation Loss:0.495 AVG Training Acc 79.87 % AVG Validation Acc 80.08 %\n",
      "Epoch:30/100 AVG Training Loss:0.489 AVG Validation Loss:0.483 AVG Training Acc 79.75 % AVG Validation Acc 80.08 %\n",
      "Epoch:40/100 AVG Training Loss:0.482 AVG Validation Loss:0.483 AVG Training Acc 79.98 % AVG Validation Acc 80.08 %\n",
      "Epoch    46: reducing learning rate of group 0 to 1.0000e-03.\n",
      "Epoch:50/100 AVG Training Loss:0.470 AVG Validation Loss:0.486 AVG Training Acc 80.14 % AVG Validation Acc 79.81 %\n",
      "Epoch:60/100 AVG Training Loss:0.466 AVG Validation Loss:0.491 AVG Training Acc 80.40 % AVG Validation Acc 80.35 %\n",
      "Epoch:70/100 AVG Training Loss:0.459 AVG Validation Loss:0.503 AVG Training Acc 80.55 % AVG Validation Acc 80.35 %\n",
      "Epoch    77: reducing learning rate of group 0 to 1.0000e-04.\n",
      "Epoch:80/100 AVG Training Loss:0.453 AVG Validation Loss:0.501 AVG Training Acc 80.74 % AVG Validation Acc 80.22 %\n",
      "Epoch:90/100 AVG Training Loss:0.453 AVG Validation Loss:0.506 AVG Training Acc 80.67 % AVG Validation Acc 80.35 %\n",
      "Epoch:100/100 AVG Training Loss:0.450 AVG Validation Loss:0.501 AVG Training Acc 80.68 % AVG Validation Acc 80.08 %\n",
      "Split 180\n"
     ]
    },
    {
     "data": {
      "application/vnd.jupyter.widget-view+json": {
       "model_id": "bea1c58e70a64846924ab8b3cd3ac8ca",
       "version_major": 2,
       "version_minor": 0
      },
      "text/plain": [
       "  0%|          | 0/100 [00:00<?, ?it/s]"
      ]
     },
     "metadata": {},
     "output_type": "display_data"
    },
    {
     "name": "stdout",
     "output_type": "stream",
     "text": [
      "Epoch:10/100 AVG Training Loss:0.497 AVG Validation Loss:0.469 AVG Training Acc 79.70 % AVG Validation Acc 81.56 %\n",
      "Epoch:20/100 AVG Training Loss:0.489 AVG Validation Loss:0.476 AVG Training Acc 79.77 % AVG Validation Acc 81.29 %\n",
      "Epoch    22: reducing learning rate of group 0 to 1.0000e-03.\n",
      "Epoch:30/100 AVG Training Loss:0.478 AVG Validation Loss:0.472 AVG Training Acc 79.84 % AVG Validation Acc 81.29 %\n",
      "Epoch:40/100 AVG Training Loss:0.471 AVG Validation Loss:0.483 AVG Training Acc 80.25 % AVG Validation Acc 81.29 %\n",
      "Epoch:50/100 AVG Training Loss:0.466 AVG Validation Loss:0.485 AVG Training Acc 80.35 % AVG Validation Acc 81.02 %\n",
      "Epoch    53: reducing learning rate of group 0 to 1.0000e-04.\n",
      "Epoch:60/100 AVG Training Loss:0.463 AVG Validation Loss:0.486 AVG Training Acc 80.28 % AVG Validation Acc 80.75 %\n",
      "Epoch:70/100 AVG Training Loss:0.460 AVG Validation Loss:0.490 AVG Training Acc 80.67 % AVG Validation Acc 80.75 %\n",
      "Epoch:80/100 AVG Training Loss:0.460 AVG Validation Loss:0.490 AVG Training Acc 80.47 % AVG Validation Acc 80.62 %\n",
      "Epoch    84: reducing learning rate of group 0 to 1.0000e-05.\n",
      "Epoch:90/100 AVG Training Loss:0.460 AVG Validation Loss:0.490 AVG Training Acc 80.53 % AVG Validation Acc 80.62 %\n",
      "Epoch:100/100 AVG Training Loss:0.459 AVG Validation Loss:0.492 AVG Training Acc 80.47 % AVG Validation Acc 80.62 %\n",
      "Split 181\n"
     ]
    },
    {
     "data": {
      "application/vnd.jupyter.widget-view+json": {
       "model_id": "14e2585e0ebf4345a880b5531ed8305d",
       "version_major": 2,
       "version_minor": 0
      },
      "text/plain": [
       "  0%|          | 0/100 [00:00<?, ?it/s]"
      ]
     },
     "metadata": {},
     "output_type": "display_data"
    },
    {
     "name": "stdout",
     "output_type": "stream",
     "text": [
      "Epoch:10/100 AVG Training Loss:0.496 AVG Validation Loss:0.469 AVG Training Acc 79.72 % AVG Validation Acc 81.18 %\n",
      "Epoch:20/100 AVG Training Loss:0.491 AVG Validation Loss:0.470 AVG Training Acc 79.78 % AVG Validation Acc 81.18 %\n",
      "Epoch:30/100 AVG Training Loss:0.485 AVG Validation Loss:0.473 AVG Training Acc 79.92 % AVG Validation Acc 80.65 %\n",
      "Epoch    30: reducing learning rate of group 0 to 1.0000e-03.\n",
      "Epoch:40/100 AVG Training Loss:0.470 AVG Validation Loss:0.479 AVG Training Acc 80.32 % AVG Validation Acc 80.38 %\n",
      "Epoch:50/100 AVG Training Loss:0.463 AVG Validation Loss:0.487 AVG Training Acc 80.50 % AVG Validation Acc 80.38 %\n",
      "Epoch:60/100 AVG Training Loss:0.456 AVG Validation Loss:0.489 AVG Training Acc 80.63 % AVG Validation Acc 80.38 %\n",
      "Epoch    61: reducing learning rate of group 0 to 1.0000e-04.\n",
      "Epoch:70/100 AVG Training Loss:0.449 AVG Validation Loss:0.494 AVG Training Acc 81.14 % AVG Validation Acc 80.11 %\n",
      "Epoch:80/100 AVG Training Loss:0.448 AVG Validation Loss:0.497 AVG Training Acc 81.25 % AVG Validation Acc 80.11 %\n",
      "Epoch:90/100 AVG Training Loss:0.448 AVG Validation Loss:0.498 AVG Training Acc 81.02 % AVG Validation Acc 79.97 %\n",
      "Epoch    92: reducing learning rate of group 0 to 1.0000e-05.\n",
      "Epoch:100/100 AVG Training Loss:0.445 AVG Validation Loss:0.501 AVG Training Acc 81.35 % AVG Validation Acc 79.57 %\n",
      "Split 182\n"
     ]
    },
    {
     "data": {
      "application/vnd.jupyter.widget-view+json": {
       "model_id": "daaa69fdc53345d3a871fe4fc0447f8a",
       "version_major": 2,
       "version_minor": 0
      },
      "text/plain": [
       "  0%|          | 0/100 [00:00<?, ?it/s]"
      ]
     },
     "metadata": {},
     "output_type": "display_data"
    },
    {
     "name": "stdout",
     "output_type": "stream",
     "text": [
      "Epoch:10/100 AVG Training Loss:0.503 AVG Validation Loss:0.488 AVG Training Acc 79.77 % AVG Validation Acc 80.78 %\n",
      "Epoch:20/100 AVG Training Loss:0.492 AVG Validation Loss:0.481 AVG Training Acc 79.71 % AVG Validation Acc 80.78 %\n",
      "Epoch    25: reducing learning rate of group 0 to 1.0000e-03.\n",
      "Epoch:30/100 AVG Training Loss:0.483 AVG Validation Loss:0.483 AVG Training Acc 79.87 % AVG Validation Acc 80.65 %\n",
      "Epoch:40/100 AVG Training Loss:0.479 AVG Validation Loss:0.487 AVG Training Acc 80.08 % AVG Validation Acc 80.38 %\n",
      "Epoch:50/100 AVG Training Loss:0.475 AVG Validation Loss:0.493 AVG Training Acc 80.17 % AVG Validation Acc 79.97 %\n",
      "Epoch    56: reducing learning rate of group 0 to 1.0000e-04.\n",
      "Epoch:60/100 AVG Training Loss:0.470 AVG Validation Loss:0.497 AVG Training Acc 80.22 % AVG Validation Acc 79.97 %\n",
      "Epoch:70/100 AVG Training Loss:0.469 AVG Validation Loss:0.499 AVG Training Acc 80.26 % AVG Validation Acc 79.97 %\n",
      "Epoch:80/100 AVG Training Loss:0.467 AVG Validation Loss:0.501 AVG Training Acc 80.35 % AVG Validation Acc 79.97 %\n",
      "Epoch    87: reducing learning rate of group 0 to 1.0000e-05.\n",
      "Epoch:90/100 AVG Training Loss:0.468 AVG Validation Loss:0.501 AVG Training Acc 80.35 % AVG Validation Acc 80.11 %\n",
      "Epoch:100/100 AVG Training Loss:0.468 AVG Validation Loss:0.500 AVG Training Acc 80.27 % AVG Validation Acc 80.11 %\n",
      "Split 183\n"
     ]
    },
    {
     "data": {
      "application/vnd.jupyter.widget-view+json": {
       "model_id": "59fbc4d197de46d7a410dbba5decf24a",
       "version_major": 2,
       "version_minor": 0
      },
      "text/plain": [
       "  0%|          | 0/100 [00:00<?, ?it/s]"
      ]
     },
     "metadata": {},
     "output_type": "display_data"
    },
    {
     "name": "stdout",
     "output_type": "stream",
     "text": [
      "Epoch:10/100 AVG Training Loss:0.497 AVG Validation Loss:0.486 AVG Training Acc 79.89 % AVG Validation Acc 79.57 %\n",
      "Epoch:20/100 AVG Training Loss:0.489 AVG Validation Loss:0.480 AVG Training Acc 79.83 % AVG Validation Acc 79.57 %\n",
      "Epoch:30/100 AVG Training Loss:0.482 AVG Validation Loss:0.501 AVG Training Acc 79.96 % AVG Validation Acc 79.44 %\n",
      "Epoch    31: reducing learning rate of group 0 to 1.0000e-03.\n",
      "Epoch:40/100 AVG Training Loss:0.489 AVG Validation Loss:0.487 AVG Training Acc 79.95 % AVG Validation Acc 79.30 %\n",
      "Epoch:50/100 AVG Training Loss:0.485 AVG Validation Loss:0.483 AVG Training Acc 80.08 % AVG Validation Acc 79.44 %\n",
      "Epoch:60/100 AVG Training Loss:0.478 AVG Validation Loss:0.489 AVG Training Acc 80.35 % AVG Validation Acc 79.44 %\n",
      "Epoch    62: reducing learning rate of group 0 to 1.0000e-04.\n",
      "Epoch:70/100 AVG Training Loss:0.476 AVG Validation Loss:0.491 AVG Training Acc 80.36 % AVG Validation Acc 79.44 %\n",
      "Epoch:80/100 AVG Training Loss:0.474 AVG Validation Loss:0.489 AVG Training Acc 80.38 % AVG Validation Acc 79.57 %\n",
      "Epoch:90/100 AVG Training Loss:0.476 AVG Validation Loss:0.489 AVG Training Acc 80.35 % AVG Validation Acc 79.44 %\n",
      "Epoch    93: reducing learning rate of group 0 to 1.0000e-05.\n",
      "Epoch:100/100 AVG Training Loss:0.474 AVG Validation Loss:0.487 AVG Training Acc 80.41 % AVG Validation Acc 79.30 %\n",
      "Split 184\n"
     ]
    },
    {
     "data": {
      "application/vnd.jupyter.widget-view+json": {
       "model_id": "4a9ec4cd6e7943fcb341ea58d6f3b3cd",
       "version_major": 2,
       "version_minor": 0
      },
      "text/plain": [
       "  0%|          | 0/100 [00:00<?, ?it/s]"
      ]
     },
     "metadata": {},
     "output_type": "display_data"
    },
    {
     "name": "stdout",
     "output_type": "stream",
     "text": [
      "Epoch:10/100 AVG Training Loss:0.495 AVG Validation Loss:0.496 AVG Training Acc 79.84 % AVG Validation Acc 79.84 %\n",
      "Epoch:20/100 AVG Training Loss:0.490 AVG Validation Loss:0.492 AVG Training Acc 79.89 % AVG Validation Acc 79.97 %\n",
      "Epoch:30/100 AVG Training Loss:0.486 AVG Validation Loss:0.493 AVG Training Acc 79.92 % AVG Validation Acc 80.11 %\n",
      "Epoch:40/100 AVG Training Loss:0.477 AVG Validation Loss:0.498 AVG Training Acc 80.20 % AVG Validation Acc 79.84 %\n",
      "Epoch    43: reducing learning rate of group 0 to 1.0000e-03.\n",
      "Epoch:50/100 AVG Training Loss:0.460 AVG Validation Loss:0.497 AVG Training Acc 80.72 % AVG Validation Acc 80.11 %\n",
      "Epoch:60/100 AVG Training Loss:0.453 AVG Validation Loss:0.501 AVG Training Acc 81.02 % AVG Validation Acc 79.70 %\n",
      "Epoch:70/100 AVG Training Loss:0.448 AVG Validation Loss:0.506 AVG Training Acc 81.20 % AVG Validation Acc 79.30 %\n",
      "Epoch    74: reducing learning rate of group 0 to 1.0000e-04.\n",
      "Epoch:80/100 AVG Training Loss:0.442 AVG Validation Loss:0.502 AVG Training Acc 81.50 % AVG Validation Acc 80.11 %\n",
      "Epoch:90/100 AVG Training Loss:0.445 AVG Validation Loss:0.503 AVG Training Acc 81.26 % AVG Validation Acc 79.97 %\n",
      "Epoch:100/100 AVG Training Loss:0.444 AVG Validation Loss:0.505 AVG Training Acc 81.46 % AVG Validation Acc 79.84 %\n",
      "Split 185\n"
     ]
    },
    {
     "data": {
      "application/vnd.jupyter.widget-view+json": {
       "model_id": "d3998d4a584041ba8e90111946ba735f",
       "version_major": 2,
       "version_minor": 0
      },
      "text/plain": [
       "  0%|          | 0/100 [00:00<?, ?it/s]"
      ]
     },
     "metadata": {},
     "output_type": "display_data"
    },
    {
     "name": "stdout",
     "output_type": "stream",
     "text": [
      "Epoch:10/100 AVG Training Loss:0.493 AVG Validation Loss:0.511 AVG Training Acc 80.10 % AVG Validation Acc 78.36 %\n",
      "Epoch:20/100 AVG Training Loss:0.489 AVG Validation Loss:0.516 AVG Training Acc 79.98 % AVG Validation Acc 78.23 %\n",
      "Epoch    21: reducing learning rate of group 0 to 1.0000e-03.\n",
      "Epoch:30/100 AVG Training Loss:0.480 AVG Validation Loss:0.514 AVG Training Acc 80.29 % AVG Validation Acc 78.36 %\n",
      "Epoch:40/100 AVG Training Loss:0.477 AVG Validation Loss:0.514 AVG Training Acc 80.41 % AVG Validation Acc 78.23 %\n",
      "Epoch:50/100 AVG Training Loss:0.473 AVG Validation Loss:0.514 AVG Training Acc 80.53 % AVG Validation Acc 78.49 %\n",
      "Epoch    52: reducing learning rate of group 0 to 1.0000e-04.\n",
      "Epoch:60/100 AVG Training Loss:0.471 AVG Validation Loss:0.514 AVG Training Acc 80.53 % AVG Validation Acc 78.49 %\n",
      "Epoch:70/100 AVG Training Loss:0.469 AVG Validation Loss:0.514 AVG Training Acc 80.60 % AVG Validation Acc 78.49 %\n",
      "Epoch:80/100 AVG Training Loss:0.470 AVG Validation Loss:0.514 AVG Training Acc 80.68 % AVG Validation Acc 78.49 %\n",
      "Epoch    83: reducing learning rate of group 0 to 1.0000e-05.\n",
      "Epoch:90/100 AVG Training Loss:0.470 AVG Validation Loss:0.514 AVG Training Acc 80.60 % AVG Validation Acc 78.49 %\n",
      "Epoch:100/100 AVG Training Loss:0.469 AVG Validation Loss:0.514 AVG Training Acc 80.63 % AVG Validation Acc 78.49 %\n",
      "Split 186\n"
     ]
    },
    {
     "data": {
      "application/vnd.jupyter.widget-view+json": {
       "model_id": "b19abe6d2248400483a4d0b2eb6a8119",
       "version_major": 2,
       "version_minor": 0
      },
      "text/plain": [
       "  0%|          | 0/100 [00:00<?, ?it/s]"
      ]
     },
     "metadata": {},
     "output_type": "display_data"
    },
    {
     "name": "stdout",
     "output_type": "stream",
     "text": [
      "Epoch:10/100 AVG Training Loss:0.488 AVG Validation Loss:0.535 AVG Training Acc 80.23 % AVG Validation Acc 77.02 %\n",
      "Epoch:20/100 AVG Training Loss:0.483 AVG Validation Loss:0.539 AVG Training Acc 80.11 % AVG Validation Acc 76.61 %\n",
      "Epoch    21: reducing learning rate of group 0 to 1.0000e-03.\n",
      "Epoch:30/100 AVG Training Loss:0.472 AVG Validation Loss:0.541 AVG Training Acc 80.42 % AVG Validation Acc 76.34 %\n",
      "Epoch:40/100 AVG Training Loss:0.464 AVG Validation Loss:0.547 AVG Training Acc 80.53 % AVG Validation Acc 76.48 %\n",
      "Epoch:50/100 AVG Training Loss:0.454 AVG Validation Loss:0.548 AVG Training Acc 80.59 % AVG Validation Acc 76.21 %\n",
      "Epoch    52: reducing learning rate of group 0 to 1.0000e-04.\n",
      "Epoch:60/100 AVG Training Loss:0.448 AVG Validation Loss:0.552 AVG Training Acc 80.99 % AVG Validation Acc 76.34 %\n",
      "Epoch:70/100 AVG Training Loss:0.446 AVG Validation Loss:0.553 AVG Training Acc 81.14 % AVG Validation Acc 76.48 %\n",
      "Epoch:80/100 AVG Training Loss:0.444 AVG Validation Loss:0.555 AVG Training Acc 81.23 % AVG Validation Acc 76.08 %\n",
      "Epoch    83: reducing learning rate of group 0 to 1.0000e-05.\n",
      "Epoch:90/100 AVG Training Loss:0.445 AVG Validation Loss:0.555 AVG Training Acc 81.05 % AVG Validation Acc 76.08 %\n",
      "Epoch:100/100 AVG Training Loss:0.443 AVG Validation Loss:0.557 AVG Training Acc 81.16 % AVG Validation Acc 76.08 %\n",
      "Split 187\n"
     ]
    },
    {
     "data": {
      "application/vnd.jupyter.widget-view+json": {
       "model_id": "dd4a1c6be5704e6cb5ca7f6254bf4352",
       "version_major": 2,
       "version_minor": 0
      },
      "text/plain": [
       "  0%|          | 0/100 [00:00<?, ?it/s]"
      ]
     },
     "metadata": {},
     "output_type": "display_data"
    },
    {
     "name": "stdout",
     "output_type": "stream",
     "text": [
      "Epoch:10/100 AVG Training Loss:0.497 AVG Validation Loss:0.476 AVG Training Acc 79.73 % AVG Validation Acc 81.02 %\n",
      "Epoch:20/100 AVG Training Loss:0.492 AVG Validation Loss:0.477 AVG Training Acc 79.75 % AVG Validation Acc 81.16 %\n",
      "Epoch:30/100 AVG Training Loss:0.486 AVG Validation Loss:0.479 AVG Training Acc 79.75 % AVG Validation Acc 80.75 %\n",
      "Epoch:40/100 AVG Training Loss:0.483 AVG Validation Loss:0.483 AVG Training Acc 79.78 % AVG Validation Acc 80.89 %\n",
      "Epoch:50/100 AVG Training Loss:0.477 AVG Validation Loss:0.475 AVG Training Acc 79.89 % AVG Validation Acc 80.75 %\n",
      "Epoch    53: reducing learning rate of group 0 to 1.0000e-03.\n",
      "Epoch:60/100 AVG Training Loss:0.453 AVG Validation Loss:0.500 AVG Training Acc 80.49 % AVG Validation Acc 79.95 %\n",
      "Epoch:70/100 AVG Training Loss:0.444 AVG Validation Loss:0.510 AVG Training Acc 80.85 % AVG Validation Acc 79.68 %\n",
      "Epoch:80/100 AVG Training Loss:0.440 AVG Validation Loss:0.522 AVG Training Acc 81.02 % AVG Validation Acc 80.22 %\n",
      "Epoch    84: reducing learning rate of group 0 to 1.0000e-04.\n",
      "Epoch:90/100 AVG Training Loss:0.432 AVG Validation Loss:0.539 AVG Training Acc 81.17 % AVG Validation Acc 79.81 %\n",
      "Epoch:100/100 AVG Training Loss:0.431 AVG Validation Loss:0.528 AVG Training Acc 81.14 % AVG Validation Acc 79.68 %\n",
      "Split 188\n"
     ]
    },
    {
     "data": {
      "application/vnd.jupyter.widget-view+json": {
       "model_id": "da5e5d4986f14d759f158aaeef76e0c6",
       "version_major": 2,
       "version_minor": 0
      },
      "text/plain": [
       "  0%|          | 0/100 [00:00<?, ?it/s]"
      ]
     },
     "metadata": {},
     "output_type": "display_data"
    },
    {
     "name": "stdout",
     "output_type": "stream",
     "text": [
      "Epoch:10/100 AVG Training Loss:0.494 AVG Validation Loss:0.497 AVG Training Acc 79.86 % AVG Validation Acc 79.68 %\n",
      "Epoch:20/100 AVG Training Loss:0.489 AVG Validation Loss:0.498 AVG Training Acc 79.92 % AVG Validation Acc 79.81 %\n",
      "Epoch:30/100 AVG Training Loss:0.484 AVG Validation Loss:0.498 AVG Training Acc 79.92 % AVG Validation Acc 79.81 %\n",
      "Epoch    30: reducing learning rate of group 0 to 1.0000e-03.\n",
      "Epoch:40/100 AVG Training Loss:0.471 AVG Validation Loss:0.507 AVG Training Acc 80.07 % AVG Validation Acc 79.41 %\n",
      "Epoch:50/100 AVG Training Loss:0.463 AVG Validation Loss:0.508 AVG Training Acc 80.43 % AVG Validation Acc 79.54 %\n",
      "Epoch:60/100 AVG Training Loss:0.458 AVG Validation Loss:0.511 AVG Training Acc 80.65 % AVG Validation Acc 79.54 %\n",
      "Epoch    61: reducing learning rate of group 0 to 1.0000e-04.\n",
      "Epoch:70/100 AVG Training Loss:0.451 AVG Validation Loss:0.509 AVG Training Acc 80.98 % AVG Validation Acc 79.41 %\n",
      "Epoch:80/100 AVG Training Loss:0.452 AVG Validation Loss:0.510 AVG Training Acc 80.86 % AVG Validation Acc 79.41 %\n",
      "Epoch:90/100 AVG Training Loss:0.453 AVG Validation Loss:0.511 AVG Training Acc 80.85 % AVG Validation Acc 79.27 %\n",
      "Epoch    92: reducing learning rate of group 0 to 1.0000e-05.\n",
      "Epoch:100/100 AVG Training Loss:0.452 AVG Validation Loss:0.511 AVG Training Acc 80.95 % AVG Validation Acc 79.27 %\n",
      "Split 189\n"
     ]
    },
    {
     "data": {
      "application/vnd.jupyter.widget-view+json": {
       "model_id": "74897e47f7fd4ed8bfd164af916caef6",
       "version_major": 2,
       "version_minor": 0
      },
      "text/plain": [
       "  0%|          | 0/100 [00:00<?, ?it/s]"
      ]
     },
     "metadata": {},
     "output_type": "display_data"
    },
    {
     "name": "stdout",
     "output_type": "stream",
     "text": [
      "Epoch:10/100 AVG Training Loss:0.492 AVG Validation Loss:0.508 AVG Training Acc 79.90 % AVG Validation Acc 79.14 %\n",
      "Epoch:20/100 AVG Training Loss:0.485 AVG Validation Loss:0.509 AVG Training Acc 80.08 % AVG Validation Acc 78.87 %\n",
      "Epoch    20: reducing learning rate of group 0 to 1.0000e-03.\n",
      "Epoch:30/100 AVG Training Loss:0.476 AVG Validation Loss:0.511 AVG Training Acc 80.20 % AVG Validation Acc 79.00 %\n",
      "Epoch:40/100 AVG Training Loss:0.473 AVG Validation Loss:0.515 AVG Training Acc 80.16 % AVG Validation Acc 78.73 %\n",
      "Epoch:50/100 AVG Training Loss:0.467 AVG Validation Loss:0.518 AVG Training Acc 80.37 % AVG Validation Acc 78.87 %\n",
      "Epoch    51: reducing learning rate of group 0 to 1.0000e-04.\n",
      "Epoch:60/100 AVG Training Loss:0.460 AVG Validation Loss:0.523 AVG Training Acc 80.58 % AVG Validation Acc 78.60 %\n",
      "Epoch:70/100 AVG Training Loss:0.461 AVG Validation Loss:0.522 AVG Training Acc 80.46 % AVG Validation Acc 78.87 %\n",
      "Epoch:80/100 AVG Training Loss:0.459 AVG Validation Loss:0.523 AVG Training Acc 80.50 % AVG Validation Acc 78.87 %\n",
      "Epoch    82: reducing learning rate of group 0 to 1.0000e-05.\n",
      "Epoch:90/100 AVG Training Loss:0.459 AVG Validation Loss:0.522 AVG Training Acc 80.43 % AVG Validation Acc 78.87 %\n",
      "Epoch:100/100 AVG Training Loss:0.458 AVG Validation Loss:0.523 AVG Training Acc 80.61 % AVG Validation Acc 78.87 %\n",
      "Split 190\n"
     ]
    },
    {
     "data": {
      "application/vnd.jupyter.widget-view+json": {
       "model_id": "3d0b551583144e3ca2766e63555da8e0",
       "version_major": 2,
       "version_minor": 0
      },
      "text/plain": [
       "  0%|          | 0/100 [00:00<?, ?it/s]"
      ]
     },
     "metadata": {},
     "output_type": "display_data"
    },
    {
     "name": "stdout",
     "output_type": "stream",
     "text": [
      "Epoch:10/100 AVG Training Loss:0.499 AVG Validation Loss:0.461 AVG Training Acc 79.56 % AVG Validation Acc 82.37 %\n",
      "Epoch:20/100 AVG Training Loss:0.496 AVG Validation Loss:0.480 AVG Training Acc 79.64 % AVG Validation Acc 77.52 %\n",
      "Epoch    26: reducing learning rate of group 0 to 1.0000e-03.\n",
      "Epoch:30/100 AVG Training Loss:0.484 AVG Validation Loss:0.458 AVG Training Acc 79.67 % AVG Validation Acc 82.37 %\n",
      "Epoch:40/100 AVG Training Loss:0.475 AVG Validation Loss:0.465 AVG Training Acc 80.05 % AVG Validation Acc 81.70 %\n",
      "Epoch:50/100 AVG Training Loss:0.468 AVG Validation Loss:0.471 AVG Training Acc 80.20 % AVG Validation Acc 81.70 %\n",
      "Epoch    57: reducing learning rate of group 0 to 1.0000e-04.\n",
      "Epoch:60/100 AVG Training Loss:0.460 AVG Validation Loss:0.473 AVG Training Acc 80.61 % AVG Validation Acc 81.56 %\n",
      "Epoch:70/100 AVG Training Loss:0.458 AVG Validation Loss:0.478 AVG Training Acc 80.61 % AVG Validation Acc 81.29 %\n",
      "Epoch:80/100 AVG Training Loss:0.454 AVG Validation Loss:0.481 AVG Training Acc 80.89 % AVG Validation Acc 81.56 %\n",
      "Epoch    88: reducing learning rate of group 0 to 1.0000e-05.\n",
      "Epoch:90/100 AVG Training Loss:0.455 AVG Validation Loss:0.479 AVG Training Acc 80.67 % AVG Validation Acc 81.29 %\n",
      "Epoch:100/100 AVG Training Loss:0.456 AVG Validation Loss:0.483 AVG Training Acc 80.92 % AVG Validation Acc 81.56 %\n",
      "Split 191\n"
     ]
    },
    {
     "data": {
      "application/vnd.jupyter.widget-view+json": {
       "model_id": "358921aecb3b4783ba4f3e8565460a13",
       "version_major": 2,
       "version_minor": 0
      },
      "text/plain": [
       "  0%|          | 0/100 [00:00<?, ?it/s]"
      ]
     },
     "metadata": {},
     "output_type": "display_data"
    },
    {
     "name": "stdout",
     "output_type": "stream",
     "text": [
      "Epoch:10/100 AVG Training Loss:0.492 AVG Validation Loss:0.523 AVG Training Acc 80.05 % AVG Validation Acc 77.82 %\n",
      "Epoch:20/100 AVG Training Loss:0.488 AVG Validation Loss:0.513 AVG Training Acc 80.05 % AVG Validation Acc 77.82 %\n",
      "Epoch:30/100 AVG Training Loss:0.482 AVG Validation Loss:0.511 AVG Training Acc 80.05 % AVG Validation Acc 78.09 %\n",
      "Epoch    35: reducing learning rate of group 0 to 1.0000e-03.\n",
      "Epoch:40/100 AVG Training Loss:0.469 AVG Validation Loss:0.521 AVG Training Acc 80.42 % AVG Validation Acc 77.96 %\n",
      "Epoch:50/100 AVG Training Loss:0.459 AVG Validation Loss:0.530 AVG Training Acc 80.35 % AVG Validation Acc 77.96 %\n",
      "Epoch:60/100 AVG Training Loss:0.451 AVG Validation Loss:0.534 AVG Training Acc 80.75 % AVG Validation Acc 77.82 %\n",
      "Epoch    66: reducing learning rate of group 0 to 1.0000e-04.\n",
      "Epoch:70/100 AVG Training Loss:0.448 AVG Validation Loss:0.541 AVG Training Acc 80.95 % AVG Validation Acc 77.42 %\n",
      "Epoch:80/100 AVG Training Loss:0.447 AVG Validation Loss:0.542 AVG Training Acc 80.66 % AVG Validation Acc 77.55 %\n",
      "Epoch:90/100 AVG Training Loss:0.444 AVG Validation Loss:0.543 AVG Training Acc 80.87 % AVG Validation Acc 77.42 %\n",
      "Epoch    97: reducing learning rate of group 0 to 1.0000e-05.\n",
      "Epoch:100/100 AVG Training Loss:0.442 AVG Validation Loss:0.538 AVG Training Acc 81.11 % AVG Validation Acc 77.55 %\n",
      "Split 192\n"
     ]
    },
    {
     "data": {
      "application/vnd.jupyter.widget-view+json": {
       "model_id": "d7d3b84fe1c042b380847e8ae64551cc",
       "version_major": 2,
       "version_minor": 0
      },
      "text/plain": [
       "  0%|          | 0/100 [00:00<?, ?it/s]"
      ]
     },
     "metadata": {},
     "output_type": "display_data"
    },
    {
     "name": "stdout",
     "output_type": "stream",
     "text": [
      "Epoch:10/100 AVG Training Loss:0.494 AVG Validation Loss:0.513 AVG Training Acc 79.92 % AVG Validation Acc 78.63 %\n",
      "Epoch:20/100 AVG Training Loss:0.486 AVG Validation Loss:0.503 AVG Training Acc 79.95 % AVG Validation Acc 78.76 %\n",
      "Epoch:30/100 AVG Training Loss:0.480 AVG Validation Loss:0.507 AVG Training Acc 80.05 % AVG Validation Acc 78.90 %\n",
      "Epoch    31: reducing learning rate of group 0 to 1.0000e-03.\n",
      "Epoch:40/100 AVG Training Loss:0.459 AVG Validation Loss:0.520 AVG Training Acc 80.54 % AVG Validation Acc 78.23 %\n",
      "Epoch:50/100 AVG Training Loss:0.452 AVG Validation Loss:0.523 AVG Training Acc 80.74 % AVG Validation Acc 78.49 %\n",
      "Epoch:60/100 AVG Training Loss:0.449 AVG Validation Loss:0.527 AVG Training Acc 81.17 % AVG Validation Acc 78.36 %\n",
      "Epoch    62: reducing learning rate of group 0 to 1.0000e-04.\n",
      "Epoch:70/100 AVG Training Loss:0.442 AVG Validation Loss:0.537 AVG Training Acc 81.31 % AVG Validation Acc 77.82 %\n",
      "Epoch:80/100 AVG Training Loss:0.440 AVG Validation Loss:0.542 AVG Training Acc 81.37 % AVG Validation Acc 77.82 %\n",
      "Epoch:90/100 AVG Training Loss:0.440 AVG Validation Loss:0.539 AVG Training Acc 81.31 % AVG Validation Acc 77.82 %\n",
      "Epoch    93: reducing learning rate of group 0 to 1.0000e-05.\n",
      "Epoch:100/100 AVG Training Loss:0.437 AVG Validation Loss:0.542 AVG Training Acc 81.37 % AVG Validation Acc 77.42 %\n",
      "Split 193\n"
     ]
    },
    {
     "data": {
      "application/vnd.jupyter.widget-view+json": {
       "model_id": "15ab7d93ff95476990ba11e6715e2104",
       "version_major": 2,
       "version_minor": 0
      },
      "text/plain": [
       "  0%|          | 0/100 [00:00<?, ?it/s]"
      ]
     },
     "metadata": {},
     "output_type": "display_data"
    },
    {
     "name": "stdout",
     "output_type": "stream",
     "text": [
      "Epoch:10/100 AVG Training Loss:0.495 AVG Validation Loss:0.510 AVG Training Acc 79.95 % AVG Validation Acc 78.49 %\n",
      "Epoch:20/100 AVG Training Loss:0.489 AVG Validation Loss:0.506 AVG Training Acc 80.04 % AVG Validation Acc 78.36 %\n",
      "Epoch:30/100 AVG Training Loss:0.482 AVG Validation Loss:0.510 AVG Training Acc 80.07 % AVG Validation Acc 78.63 %\n",
      "Epoch:40/100 AVG Training Loss:0.479 AVG Validation Loss:0.511 AVG Training Acc 80.05 % AVG Validation Acc 78.76 %\n",
      "Epoch    45: reducing learning rate of group 0 to 1.0000e-03.\n",
      "Epoch:50/100 AVG Training Loss:0.461 AVG Validation Loss:0.512 AVG Training Acc 80.60 % AVG Validation Acc 78.76 %\n",
      "Epoch:60/100 AVG Training Loss:0.453 AVG Validation Loss:0.513 AVG Training Acc 80.92 % AVG Validation Acc 78.63 %\n",
      "Epoch:70/100 AVG Training Loss:0.446 AVG Validation Loss:0.523 AVG Training Acc 81.07 % AVG Validation Acc 77.82 %\n",
      "Epoch    76: reducing learning rate of group 0 to 1.0000e-04.\n",
      "Epoch:80/100 AVG Training Loss:0.439 AVG Validation Loss:0.527 AVG Training Acc 81.16 % AVG Validation Acc 77.82 %\n",
      "Epoch:90/100 AVG Training Loss:0.438 AVG Validation Loss:0.529 AVG Training Acc 81.31 % AVG Validation Acc 77.55 %\n",
      "Epoch:100/100 AVG Training Loss:0.434 AVG Validation Loss:0.530 AVG Training Acc 81.43 % AVG Validation Acc 77.55 %\n",
      "Split 194\n"
     ]
    },
    {
     "data": {
      "application/vnd.jupyter.widget-view+json": {
       "model_id": "05124977e51a4586b132c2519147da71",
       "version_major": 2,
       "version_minor": 0
      },
      "text/plain": [
       "  0%|          | 0/100 [00:00<?, ?it/s]"
      ]
     },
     "metadata": {},
     "output_type": "display_data"
    },
    {
     "name": "stdout",
     "output_type": "stream",
     "text": [
      "Epoch:10/100 AVG Training Loss:0.498 AVG Validation Loss:0.449 AVG Training Acc 79.42 % AVG Validation Acc 83.20 %\n",
      "Epoch:20/100 AVG Training Loss:0.497 AVG Validation Loss:0.444 AVG Training Acc 79.51 % AVG Validation Acc 83.20 %\n",
      "Epoch    20: reducing learning rate of group 0 to 1.0000e-03.\n",
      "Epoch:30/100 AVG Training Loss:0.484 AVG Validation Loss:0.440 AVG Training Acc 79.65 % AVG Validation Acc 82.93 %\n",
      "Epoch:40/100 AVG Training Loss:0.481 AVG Validation Loss:0.443 AVG Training Acc 79.81 % AVG Validation Acc 83.06 %\n",
      "Epoch:50/100 AVG Training Loss:0.476 AVG Validation Loss:0.453 AVG Training Acc 80.11 % AVG Validation Acc 82.66 %\n",
      "Epoch    51: reducing learning rate of group 0 to 1.0000e-04.\n",
      "Epoch:60/100 AVG Training Loss:0.473 AVG Validation Loss:0.453 AVG Training Acc 80.27 % AVG Validation Acc 82.80 %\n",
      "Epoch:70/100 AVG Training Loss:0.472 AVG Validation Loss:0.456 AVG Training Acc 80.10 % AVG Validation Acc 82.66 %\n",
      "Epoch:80/100 AVG Training Loss:0.471 AVG Validation Loss:0.458 AVG Training Acc 80.20 % AVG Validation Acc 82.53 %\n",
      "Epoch    82: reducing learning rate of group 0 to 1.0000e-05.\n",
      "Epoch:90/100 AVG Training Loss:0.471 AVG Validation Loss:0.458 AVG Training Acc 80.10 % AVG Validation Acc 82.53 %\n",
      "Epoch:100/100 AVG Training Loss:0.470 AVG Validation Loss:0.458 AVG Training Acc 80.25 % AVG Validation Acc 82.66 %\n",
      "Split 195\n"
     ]
    },
    {
     "data": {
      "application/vnd.jupyter.widget-view+json": {
       "model_id": "631a4e6b78d041f5b97b98071b0739d3",
       "version_major": 2,
       "version_minor": 0
      },
      "text/plain": [
       "  0%|          | 0/100 [00:00<?, ?it/s]"
      ]
     },
     "metadata": {},
     "output_type": "display_data"
    },
    {
     "name": "stdout",
     "output_type": "stream",
     "text": [
      "Epoch:10/100 AVG Training Loss:0.505 AVG Validation Loss:0.489 AVG Training Acc 79.78 % AVG Validation Acc 80.65 %\n",
      "Epoch:20/100 AVG Training Loss:0.496 AVG Validation Loss:0.486 AVG Training Acc 79.81 % AVG Validation Acc 80.65 %\n",
      "Epoch:30/100 AVG Training Loss:0.490 AVG Validation Loss:0.479 AVG Training Acc 79.80 % AVG Validation Acc 80.65 %\n",
      "Epoch:40/100 AVG Training Loss:0.485 AVG Validation Loss:0.484 AVG Training Acc 79.98 % AVG Validation Acc 80.65 %\n",
      "Epoch    44: reducing learning rate of group 0 to 1.0000e-03.\n",
      "Epoch:50/100 AVG Training Loss:0.472 AVG Validation Loss:0.481 AVG Training Acc 80.07 % AVG Validation Acc 80.65 %\n",
      "Epoch:60/100 AVG Training Loss:0.465 AVG Validation Loss:0.487 AVG Training Acc 80.33 % AVG Validation Acc 80.24 %\n",
      "Epoch:70/100 AVG Training Loss:0.457 AVG Validation Loss:0.492 AVG Training Acc 80.74 % AVG Validation Acc 80.24 %\n",
      "Epoch    75: reducing learning rate of group 0 to 1.0000e-04.\n",
      "Epoch:80/100 AVG Training Loss:0.452 AVG Validation Loss:0.492 AVG Training Acc 80.74 % AVG Validation Acc 80.11 %\n",
      "Epoch:90/100 AVG Training Loss:0.455 AVG Validation Loss:0.494 AVG Training Acc 80.95 % AVG Validation Acc 80.11 %\n",
      "Epoch:100/100 AVG Training Loss:0.452 AVG Validation Loss:0.496 AVG Training Acc 80.96 % AVG Validation Acc 79.70 %\n",
      "Split 196\n"
     ]
    },
    {
     "data": {
      "application/vnd.jupyter.widget-view+json": {
       "model_id": "f614720f53b04804a1092aeb114e10a4",
       "version_major": 2,
       "version_minor": 0
      },
      "text/plain": [
       "  0%|          | 0/100 [00:00<?, ?it/s]"
      ]
     },
     "metadata": {},
     "output_type": "display_data"
    },
    {
     "name": "stdout",
     "output_type": "stream",
     "text": [
      "Epoch:10/100 AVG Training Loss:0.500 AVG Validation Loss:0.495 AVG Training Acc 79.89 % AVG Validation Acc 80.11 %\n",
      "Epoch:20/100 AVG Training Loss:0.491 AVG Validation Loss:0.488 AVG Training Acc 79.89 % AVG Validation Acc 80.11 %\n",
      "Epoch    26: reducing learning rate of group 0 to 1.0000e-03.\n",
      "Epoch:30/100 AVG Training Loss:0.480 AVG Validation Loss:0.491 AVG Training Acc 79.98 % AVG Validation Acc 80.11 %\n",
      "Epoch:40/100 AVG Training Loss:0.474 AVG Validation Loss:0.496 AVG Training Acc 80.19 % AVG Validation Acc 80.11 %\n",
      "Epoch:50/100 AVG Training Loss:0.467 AVG Validation Loss:0.507 AVG Training Acc 80.39 % AVG Validation Acc 79.97 %\n",
      "Epoch    57: reducing learning rate of group 0 to 1.0000e-04.\n",
      "Epoch:60/100 AVG Training Loss:0.460 AVG Validation Loss:0.518 AVG Training Acc 80.77 % AVG Validation Acc 79.30 %\n",
      "Epoch:70/100 AVG Training Loss:0.459 AVG Validation Loss:0.521 AVG Training Acc 80.68 % AVG Validation Acc 79.03 %\n",
      "Epoch:80/100 AVG Training Loss:0.458 AVG Validation Loss:0.522 AVG Training Acc 80.57 % AVG Validation Acc 79.03 %\n",
      "Epoch    88: reducing learning rate of group 0 to 1.0000e-05.\n",
      "Epoch:90/100 AVG Training Loss:0.457 AVG Validation Loss:0.524 AVG Training Acc 80.77 % AVG Validation Acc 79.03 %\n",
      "Epoch:100/100 AVG Training Loss:0.456 AVG Validation Loss:0.524 AVG Training Acc 80.77 % AVG Validation Acc 79.03 %\n",
      "Split 197\n"
     ]
    },
    {
     "data": {
      "application/vnd.jupyter.widget-view+json": {
       "model_id": "d869c9d26178441088d2d244fe0dc7f7",
       "version_major": 2,
       "version_minor": 0
      },
      "text/plain": [
       "  0%|          | 0/100 [00:00<?, ?it/s]"
      ]
     },
     "metadata": {},
     "output_type": "display_data"
    },
    {
     "name": "stdout",
     "output_type": "stream",
     "text": [
      "Epoch:10/100 AVG Training Loss:0.491 AVG Validation Loss:0.507 AVG Training Acc 79.90 % AVG Validation Acc 79.41 %\n",
      "Epoch    18: reducing learning rate of group 0 to 1.0000e-03.\n",
      "Epoch:20/100 AVG Training Loss:0.483 AVG Validation Loss:0.511 AVG Training Acc 80.02 % AVG Validation Acc 79.27 %\n",
      "Epoch:30/100 AVG Training Loss:0.473 AVG Validation Loss:0.514 AVG Training Acc 80.22 % AVG Validation Acc 79.14 %\n",
      "Epoch:40/100 AVG Training Loss:0.466 AVG Validation Loss:0.521 AVG Training Acc 80.67 % AVG Validation Acc 78.47 %\n",
      "Epoch    49: reducing learning rate of group 0 to 1.0000e-04.\n",
      "Epoch:50/100 AVG Training Loss:0.460 AVG Validation Loss:0.527 AVG Training Acc 80.83 % AVG Validation Acc 78.73 %\n",
      "Epoch:60/100 AVG Training Loss:0.457 AVG Validation Loss:0.531 AVG Training Acc 80.74 % AVG Validation Acc 78.60 %\n",
      "Epoch:70/100 AVG Training Loss:0.457 AVG Validation Loss:0.535 AVG Training Acc 80.76 % AVG Validation Acc 78.47 %\n",
      "Epoch:80/100 AVG Training Loss:0.456 AVG Validation Loss:0.531 AVG Training Acc 80.97 % AVG Validation Acc 78.73 %\n",
      "Epoch    80: reducing learning rate of group 0 to 1.0000e-05.\n",
      "Epoch:90/100 AVG Training Loss:0.455 AVG Validation Loss:0.533 AVG Training Acc 81.02 % AVG Validation Acc 78.47 %\n",
      "Epoch:100/100 AVG Training Loss:0.454 AVG Validation Loss:0.534 AVG Training Acc 80.71 % AVG Validation Acc 78.87 %\n",
      "Split 198\n"
     ]
    },
    {
     "data": {
      "application/vnd.jupyter.widget-view+json": {
       "model_id": "51d97a1530594e8d8f5c3b980c226671",
       "version_major": 2,
       "version_minor": 0
      },
      "text/plain": [
       "  0%|          | 0/100 [00:00<?, ?it/s]"
      ]
     },
     "metadata": {},
     "output_type": "display_data"
    },
    {
     "name": "stdout",
     "output_type": "stream",
     "text": [
      "Epoch:10/100 AVG Training Loss:0.494 AVG Validation Loss:0.493 AVG Training Acc 79.86 % AVG Validation Acc 79.95 %\n",
      "Epoch:20/100 AVG Training Loss:0.487 AVG Validation Loss:0.492 AVG Training Acc 79.98 % AVG Validation Acc 79.68 %\n",
      "Epoch:30/100 AVG Training Loss:0.478 AVG Validation Loss:0.497 AVG Training Acc 79.95 % AVG Validation Acc 79.54 %\n",
      "Epoch:40/100 AVG Training Loss:0.468 AVG Validation Loss:0.498 AVG Training Acc 80.17 % AVG Validation Acc 79.41 %\n",
      "Epoch:50/100 AVG Training Loss:0.459 AVG Validation Loss:0.515 AVG Training Acc 80.64 % AVG Validation Acc 78.73 %\n",
      "Epoch    50: reducing learning rate of group 0 to 1.0000e-03.\n",
      "Epoch:60/100 AVG Training Loss:0.429 AVG Validation Loss:0.528 AVG Training Acc 81.61 % AVG Validation Acc 78.73 %\n",
      "Epoch:70/100 AVG Training Loss:0.413 AVG Validation Loss:0.551 AVG Training Acc 82.38 % AVG Validation Acc 78.20 %\n",
      "Epoch:80/100 AVG Training Loss:0.404 AVG Validation Loss:0.570 AVG Training Acc 82.40 % AVG Validation Acc 77.52 %\n",
      "Epoch    81: reducing learning rate of group 0 to 1.0000e-04.\n",
      "Epoch:90/100 AVG Training Loss:0.399 AVG Validation Loss:0.572 AVG Training Acc 82.53 % AVG Validation Acc 77.66 %\n",
      "Epoch:100/100 AVG Training Loss:0.397 AVG Validation Loss:0.579 AVG Training Acc 82.91 % AVG Validation Acc 77.93 %\n",
      "Split 199\n"
     ]
    },
    {
     "data": {
      "application/vnd.jupyter.widget-view+json": {
       "model_id": "7c2382d3521f42cdb3ccea75b2f01e83",
       "version_major": 2,
       "version_minor": 0
      },
      "text/plain": [
       "  0%|          | 0/100 [00:00<?, ?it/s]"
      ]
     },
     "metadata": {},
     "output_type": "display_data"
    },
    {
     "name": "stdout",
     "output_type": "stream",
     "text": [
      "Epoch:10/100 AVG Training Loss:0.496 AVG Validation Loss:0.502 AVG Training Acc 79.83 % AVG Validation Acc 79.41 %\n",
      "Epoch:20/100 AVG Training Loss:0.490 AVG Validation Loss:0.499 AVG Training Acc 79.81 % AVG Validation Acc 79.41 %\n",
      "Epoch:30/100 AVG Training Loss:0.485 AVG Validation Loss:0.503 AVG Training Acc 79.99 % AVG Validation Acc 79.41 %\n",
      "Epoch    39: reducing learning rate of group 0 to 1.0000e-03.\n",
      "Epoch:40/100 AVG Training Loss:0.475 AVG Validation Loss:0.505 AVG Training Acc 80.17 % AVG Validation Acc 79.41 %\n",
      "Epoch:50/100 AVG Training Loss:0.459 AVG Validation Loss:0.532 AVG Training Acc 80.44 % AVG Validation Acc 78.60 %\n",
      "Epoch:60/100 AVG Training Loss:0.452 AVG Validation Loss:0.549 AVG Training Acc 80.80 % AVG Validation Acc 78.47 %\n",
      "Epoch:70/100 AVG Training Loss:0.447 AVG Validation Loss:0.547 AVG Training Acc 80.83 % AVG Validation Acc 78.33 %\n",
      "Epoch    70: reducing learning rate of group 0 to 1.0000e-04.\n",
      "Epoch:80/100 AVG Training Loss:0.444 AVG Validation Loss:0.548 AVG Training Acc 81.16 % AVG Validation Acc 78.87 %\n",
      "Epoch:90/100 AVG Training Loss:0.442 AVG Validation Loss:0.551 AVG Training Acc 81.11 % AVG Validation Acc 78.60 %\n",
      "Epoch:100/100 AVG Training Loss:0.442 AVG Validation Loss:0.553 AVG Training Acc 81.11 % AVG Validation Acc 78.20 %\n",
      "Split 200\n"
     ]
    },
    {
     "data": {
      "application/vnd.jupyter.widget-view+json": {
       "model_id": "a2ee6b64a92d49df9d5d498560bf18d2",
       "version_major": 2,
       "version_minor": 0
      },
      "text/plain": [
       "  0%|          | 0/100 [00:00<?, ?it/s]"
      ]
     },
     "metadata": {},
     "output_type": "display_data"
    },
    {
     "name": "stdout",
     "output_type": "stream",
     "text": [
      "Epoch:10/100 AVG Training Loss:0.495 AVG Validation Loss:0.482 AVG Training Acc 79.71 % AVG Validation Acc 81.02 %\n",
      "Epoch:20/100 AVG Training Loss:0.490 AVG Validation Loss:0.485 AVG Training Acc 79.78 % AVG Validation Acc 81.02 %\n",
      "Epoch    29: reducing learning rate of group 0 to 1.0000e-03.\n",
      "Epoch:30/100 AVG Training Loss:0.496 AVG Validation Loss:0.482 AVG Training Acc 79.74 % AVG Validation Acc 81.02 %\n",
      "Epoch:40/100 AVG Training Loss:0.490 AVG Validation Loss:0.483 AVG Training Acc 79.71 % AVG Validation Acc 81.02 %\n",
      "Epoch:50/100 AVG Training Loss:0.488 AVG Validation Loss:0.480 AVG Training Acc 79.81 % AVG Validation Acc 81.02 %\n",
      "Epoch:60/100 AVG Training Loss:0.488 AVG Validation Loss:0.479 AVG Training Acc 79.90 % AVG Validation Acc 81.16 %\n",
      "Epoch    60: reducing learning rate of group 0 to 1.0000e-04.\n",
      "Epoch:70/100 AVG Training Loss:0.485 AVG Validation Loss:0.480 AVG Training Acc 79.77 % AVG Validation Acc 81.16 %\n",
      "Epoch:80/100 AVG Training Loss:0.486 AVG Validation Loss:0.480 AVG Training Acc 79.90 % AVG Validation Acc 81.16 %\n",
      "Epoch:90/100 AVG Training Loss:0.486 AVG Validation Loss:0.479 AVG Training Acc 79.75 % AVG Validation Acc 81.16 %\n",
      "Epoch    91: reducing learning rate of group 0 to 1.0000e-05.\n",
      "Epoch:100/100 AVG Training Loss:0.485 AVG Validation Loss:0.480 AVG Training Acc 79.81 % AVG Validation Acc 81.16 %\n",
      "Split 201\n"
     ]
    },
    {
     "data": {
      "application/vnd.jupyter.widget-view+json": {
       "model_id": "eee8a77ef3b64ae49fea428904d69dee",
       "version_major": 2,
       "version_minor": 0
      },
      "text/plain": [
       "  0%|          | 0/100 [00:00<?, ?it/s]"
      ]
     },
     "metadata": {},
     "output_type": "display_data"
    },
    {
     "name": "stdout",
     "output_type": "stream",
     "text": [
      "Epoch:10/100 AVG Training Loss:0.496 AVG Validation Loss:0.480 AVG Training Acc 79.78 % AVG Validation Acc 80.38 %\n",
      "Epoch:20/100 AVG Training Loss:0.488 AVG Validation Loss:0.480 AVG Training Acc 79.86 % AVG Validation Acc 80.24 %\n",
      "Epoch:30/100 AVG Training Loss:0.484 AVG Validation Loss:0.481 AVG Training Acc 79.90 % AVG Validation Acc 80.24 %\n",
      "Epoch    30: reducing learning rate of group 0 to 1.0000e-03.\n",
      "Epoch:40/100 AVG Training Loss:0.466 AVG Validation Loss:0.497 AVG Training Acc 80.19 % AVG Validation Acc 79.57 %\n",
      "Epoch:50/100 AVG Training Loss:0.457 AVG Validation Loss:0.498 AVG Training Acc 80.23 % AVG Validation Acc 79.30 %\n",
      "Epoch:60/100 AVG Training Loss:0.450 AVG Validation Loss:0.510 AVG Training Acc 80.63 % AVG Validation Acc 79.30 %\n",
      "Epoch    61: reducing learning rate of group 0 to 1.0000e-04.\n",
      "Epoch:70/100 AVG Training Loss:0.442 AVG Validation Loss:0.512 AVG Training Acc 80.83 % AVG Validation Acc 79.17 %\n",
      "Epoch:80/100 AVG Training Loss:0.440 AVG Validation Loss:0.512 AVG Training Acc 81.08 % AVG Validation Acc 79.17 %\n",
      "Epoch:90/100 AVG Training Loss:0.440 AVG Validation Loss:0.516 AVG Training Acc 81.07 % AVG Validation Acc 79.03 %\n",
      "Epoch    92: reducing learning rate of group 0 to 1.0000e-05.\n",
      "Epoch:100/100 AVG Training Loss:0.439 AVG Validation Loss:0.515 AVG Training Acc 80.87 % AVG Validation Acc 78.63 %\n",
      "Split 202\n"
     ]
    },
    {
     "data": {
      "application/vnd.jupyter.widget-view+json": {
       "model_id": "694400fb411b4f59a70dfd4c0470f160",
       "version_major": 2,
       "version_minor": 0
      },
      "text/plain": [
       "  0%|          | 0/100 [00:00<?, ?it/s]"
      ]
     },
     "metadata": {},
     "output_type": "display_data"
    },
    {
     "name": "stdout",
     "output_type": "stream",
     "text": [
      "Epoch:10/100 AVG Training Loss:0.494 AVG Validation Loss:0.484 AVG Training Acc 79.80 % AVG Validation Acc 80.38 %\n",
      "Epoch:20/100 AVG Training Loss:0.489 AVG Validation Loss:0.480 AVG Training Acc 79.78 % AVG Validation Acc 80.51 %\n",
      "Epoch:30/100 AVG Training Loss:0.484 AVG Validation Loss:0.479 AVG Training Acc 79.98 % AVG Validation Acc 80.38 %\n",
      "Epoch:40/100 AVG Training Loss:0.507 AVG Validation Loss:0.493 AVG Training Acc 79.80 % AVG Validation Acc 80.51 %\n",
      "Epoch    40: reducing learning rate of group 0 to 1.0000e-03.\n",
      "Epoch:50/100 AVG Training Loss:0.503 AVG Validation Loss:0.491 AVG Training Acc 79.80 % AVG Validation Acc 80.51 %\n",
      "Epoch:60/100 AVG Training Loss:0.501 AVG Validation Loss:0.491 AVG Training Acc 79.80 % AVG Validation Acc 80.51 %\n",
      "Epoch:70/100 AVG Training Loss:0.500 AVG Validation Loss:0.492 AVG Training Acc 79.80 % AVG Validation Acc 80.51 %\n",
      "Epoch    71: reducing learning rate of group 0 to 1.0000e-04.\n",
      "Epoch:80/100 AVG Training Loss:0.501 AVG Validation Loss:0.490 AVG Training Acc 79.80 % AVG Validation Acc 80.51 %\n",
      "Epoch:90/100 AVG Training Loss:0.502 AVG Validation Loss:0.490 AVG Training Acc 79.80 % AVG Validation Acc 80.51 %\n",
      "Epoch:100/100 AVG Training Loss:0.500 AVG Validation Loss:0.490 AVG Training Acc 79.80 % AVG Validation Acc 80.51 %\n",
      "Split 203\n"
     ]
    },
    {
     "data": {
      "application/vnd.jupyter.widget-view+json": {
       "model_id": "337db719f19248e78b6dc369af5963bc",
       "version_major": 2,
       "version_minor": 0
      },
      "text/plain": [
       "  0%|          | 0/100 [00:00<?, ?it/s]"
      ]
     },
     "metadata": {},
     "output_type": "display_data"
    },
    {
     "name": "stdout",
     "output_type": "stream",
     "text": [
      "Epoch:10/100 AVG Training Loss:0.498 AVG Validation Loss:0.467 AVG Training Acc 79.68 % AVG Validation Acc 81.45 %\n",
      "Epoch:20/100 AVG Training Loss:0.492 AVG Validation Loss:0.464 AVG Training Acc 79.68 % AVG Validation Acc 81.59 %\n",
      "Epoch:30/100 AVG Training Loss:0.481 AVG Validation Loss:0.462 AVG Training Acc 79.80 % AVG Validation Acc 81.72 %\n",
      "Epoch:40/100 AVG Training Loss:0.477 AVG Validation Loss:0.470 AVG Training Acc 79.80 % AVG Validation Acc 81.59 %\n",
      "Epoch    43: reducing learning rate of group 0 to 1.0000e-03.\n",
      "Epoch:50/100 AVG Training Loss:0.448 AVG Validation Loss:0.488 AVG Training Acc 80.99 % AVG Validation Acc 80.78 %\n",
      "Epoch:60/100 AVG Training Loss:0.443 AVG Validation Loss:0.498 AVG Training Acc 81.02 % AVG Validation Acc 81.05 %\n",
      "Epoch:70/100 AVG Training Loss:0.436 AVG Validation Loss:0.503 AVG Training Acc 81.14 % AVG Validation Acc 80.91 %\n",
      "Epoch    74: reducing learning rate of group 0 to 1.0000e-04.\n",
      "Epoch:80/100 AVG Training Loss:0.427 AVG Validation Loss:0.517 AVG Training Acc 81.49 % AVG Validation Acc 80.65 %\n",
      "Epoch:90/100 AVG Training Loss:0.427 AVG Validation Loss:0.512 AVG Training Acc 81.32 % AVG Validation Acc 80.65 %\n",
      "Epoch:100/100 AVG Training Loss:0.428 AVG Validation Loss:0.522 AVG Training Acc 81.41 % AVG Validation Acc 80.65 %\n",
      "Split 204\n"
     ]
    },
    {
     "data": {
      "application/vnd.jupyter.widget-view+json": {
       "model_id": "8509aa89addc44d9a9061cbcdb55e5e7",
       "version_major": 2,
       "version_minor": 0
      },
      "text/plain": [
       "  0%|          | 0/100 [00:00<?, ?it/s]"
      ]
     },
     "metadata": {},
     "output_type": "display_data"
    },
    {
     "name": "stdout",
     "output_type": "stream",
     "text": [
      "Epoch:10/100 AVG Training Loss:0.494 AVG Validation Loss:0.515 AVG Training Acc 79.74 % AVG Validation Acc 79.97 %\n",
      "Epoch:20/100 AVG Training Loss:0.486 AVG Validation Loss:0.493 AVG Training Acc 79.95 % AVG Validation Acc 79.84 %\n",
      "Epoch:30/100 AVG Training Loss:0.478 AVG Validation Loss:0.498 AVG Training Acc 80.05 % AVG Validation Acc 79.84 %\n",
      "Epoch    34: reducing learning rate of group 0 to 1.0000e-03.\n",
      "Epoch:40/100 AVG Training Loss:0.457 AVG Validation Loss:0.503 AVG Training Acc 80.66 % AVG Validation Acc 79.30 %\n",
      "Epoch:50/100 AVG Training Loss:0.452 AVG Validation Loss:0.516 AVG Training Acc 80.69 % AVG Validation Acc 79.44 %\n",
      "Epoch:60/100 AVG Training Loss:0.449 AVG Validation Loss:0.525 AVG Training Acc 80.90 % AVG Validation Acc 78.63 %\n",
      "Epoch    65: reducing learning rate of group 0 to 1.0000e-04.\n",
      "Epoch:70/100 AVG Training Loss:0.441 AVG Validation Loss:0.540 AVG Training Acc 81.04 % AVG Validation Acc 78.76 %\n",
      "Epoch:80/100 AVG Training Loss:0.437 AVG Validation Loss:0.531 AVG Training Acc 81.13 % AVG Validation Acc 78.76 %\n",
      "Epoch:90/100 AVG Training Loss:0.438 AVG Validation Loss:0.540 AVG Training Acc 81.34 % AVG Validation Acc 78.63 %\n",
      "Epoch    96: reducing learning rate of group 0 to 1.0000e-05.\n",
      "Epoch:100/100 AVG Training Loss:0.438 AVG Validation Loss:0.541 AVG Training Acc 81.14 % AVG Validation Acc 78.63 %\n",
      "Split 205\n"
     ]
    },
    {
     "data": {
      "application/vnd.jupyter.widget-view+json": {
       "model_id": "0360160e578a4abd9c8700ccb7f61a75",
       "version_major": 2,
       "version_minor": 0
      },
      "text/plain": [
       "  0%|          | 0/100 [00:00<?, ?it/s]"
      ]
     },
     "metadata": {},
     "output_type": "display_data"
    },
    {
     "name": "stdout",
     "output_type": "stream",
     "text": [
      "Epoch:10/100 AVG Training Loss:0.497 AVG Validation Loss:0.472 AVG Training Acc 79.71 % AVG Validation Acc 81.45 %\n",
      "Epoch:20/100 AVG Training Loss:0.494 AVG Validation Loss:0.469 AVG Training Acc 79.69 % AVG Validation Acc 81.45 %\n",
      "Epoch    23: reducing learning rate of group 0 to 1.0000e-03.\n",
      "Epoch:30/100 AVG Training Loss:0.485 AVG Validation Loss:0.471 AVG Training Acc 79.80 % AVG Validation Acc 81.32 %\n",
      "Epoch:40/100 AVG Training Loss:0.479 AVG Validation Loss:0.472 AVG Training Acc 79.92 % AVG Validation Acc 81.05 %\n",
      "Epoch:50/100 AVG Training Loss:0.478 AVG Validation Loss:0.470 AVG Training Acc 79.95 % AVG Validation Acc 81.05 %\n",
      "Epoch    54: reducing learning rate of group 0 to 1.0000e-04.\n",
      "Epoch:60/100 AVG Training Loss:0.473 AVG Validation Loss:0.473 AVG Training Acc 80.08 % AVG Validation Acc 80.91 %\n",
      "Epoch:70/100 AVG Training Loss:0.473 AVG Validation Loss:0.474 AVG Training Acc 80.20 % AVG Validation Acc 81.05 %\n",
      "Epoch:80/100 AVG Training Loss:0.472 AVG Validation Loss:0.475 AVG Training Acc 80.26 % AVG Validation Acc 81.05 %\n",
      "Epoch    85: reducing learning rate of group 0 to 1.0000e-05.\n",
      "Epoch:90/100 AVG Training Loss:0.471 AVG Validation Loss:0.477 AVG Training Acc 80.29 % AVG Validation Acc 80.91 %\n",
      "Epoch:100/100 AVG Training Loss:0.470 AVG Validation Loss:0.477 AVG Training Acc 80.32 % AVG Validation Acc 80.65 %\n",
      "Split 206\n"
     ]
    },
    {
     "data": {
      "application/vnd.jupyter.widget-view+json": {
       "model_id": "839a497533034107872e12a621cd43ac",
       "version_major": 2,
       "version_minor": 0
      },
      "text/plain": [
       "  0%|          | 0/100 [00:00<?, ?it/s]"
      ]
     },
     "metadata": {},
     "output_type": "display_data"
    },
    {
     "name": "stdout",
     "output_type": "stream",
     "text": [
      "Epoch:10/100 AVG Training Loss:0.494 AVG Validation Loss:0.523 AVG Training Acc 79.99 % AVG Validation Acc 78.36 %\n",
      "Epoch:20/100 AVG Training Loss:0.486 AVG Validation Loss:0.505 AVG Training Acc 80.07 % AVG Validation Acc 78.49 %\n",
      "Epoch:30/100 AVG Training Loss:0.484 AVG Validation Loss:0.504 AVG Training Acc 80.02 % AVG Validation Acc 78.49 %\n",
      "Epoch:40/100 AVG Training Loss:0.488 AVG Validation Loss:0.512 AVG Training Acc 80.16 % AVG Validation Acc 78.36 %\n",
      "Epoch    41: reducing learning rate of group 0 to 1.0000e-03.\n",
      "Epoch:50/100 AVG Training Loss:0.470 AVG Validation Loss:0.513 AVG Training Acc 80.45 % AVG Validation Acc 77.69 %\n",
      "Epoch:60/100 AVG Training Loss:0.464 AVG Validation Loss:0.522 AVG Training Acc 80.74 % AVG Validation Acc 77.82 %\n",
      "Epoch:70/100 AVG Training Loss:0.458 AVG Validation Loss:0.529 AVG Training Acc 81.07 % AVG Validation Acc 77.55 %\n",
      "Epoch    72: reducing learning rate of group 0 to 1.0000e-04.\n",
      "Epoch:80/100 AVG Training Loss:0.451 AVG Validation Loss:0.538 AVG Training Acc 81.19 % AVG Validation Acc 77.15 %\n",
      "Epoch:90/100 AVG Training Loss:0.451 AVG Validation Loss:0.533 AVG Training Acc 81.34 % AVG Validation Acc 77.55 %\n",
      "Epoch:100/100 AVG Training Loss:0.450 AVG Validation Loss:0.540 AVG Training Acc 81.35 % AVG Validation Acc 77.02 %\n",
      "Split 207\n"
     ]
    },
    {
     "data": {
      "application/vnd.jupyter.widget-view+json": {
       "model_id": "220ba1a0d2d44185af0b4dc2876905cd",
       "version_major": 2,
       "version_minor": 0
      },
      "text/plain": [
       "  0%|          | 0/100 [00:00<?, ?it/s]"
      ]
     },
     "metadata": {},
     "output_type": "display_data"
    },
    {
     "name": "stdout",
     "output_type": "stream",
     "text": [
      "Epoch:10/100 AVG Training Loss:0.489 AVG Validation Loss:0.538 AVG Training Acc 80.13 % AVG Validation Acc 77.12 %\n",
      "Epoch:20/100 AVG Training Loss:0.483 AVG Validation Loss:0.544 AVG Training Acc 80.13 % AVG Validation Acc 76.99 %\n",
      "Epoch    20: reducing learning rate of group 0 to 1.0000e-03.\n",
      "Epoch:30/100 AVG Training Loss:0.472 AVG Validation Loss:0.555 AVG Training Acc 80.43 % AVG Validation Acc 76.31 %\n",
      "Epoch:40/100 AVG Training Loss:0.467 AVG Validation Loss:0.565 AVG Training Acc 80.61 % AVG Validation Acc 76.31 %\n",
      "Epoch:50/100 AVG Training Loss:0.463 AVG Validation Loss:0.571 AVG Training Acc 80.79 % AVG Validation Acc 76.45 %\n",
      "Epoch    51: reducing learning rate of group 0 to 1.0000e-04.\n",
      "Epoch:60/100 AVG Training Loss:0.459 AVG Validation Loss:0.578 AVG Training Acc 80.83 % AVG Validation Acc 76.04 %\n",
      "Epoch:70/100 AVG Training Loss:0.457 AVG Validation Loss:0.582 AVG Training Acc 80.86 % AVG Validation Acc 76.04 %\n",
      "Epoch:80/100 AVG Training Loss:0.458 AVG Validation Loss:0.583 AVG Training Acc 80.98 % AVG Validation Acc 76.18 %\n",
      "Epoch    82: reducing learning rate of group 0 to 1.0000e-05.\n",
      "Epoch:90/100 AVG Training Loss:0.458 AVG Validation Loss:0.582 AVG Training Acc 80.91 % AVG Validation Acc 76.31 %\n",
      "Epoch:100/100 AVG Training Loss:0.458 AVG Validation Loss:0.583 AVG Training Acc 80.98 % AVG Validation Acc 76.31 %\n",
      "Split 208\n"
     ]
    },
    {
     "data": {
      "application/vnd.jupyter.widget-view+json": {
       "model_id": "eb9ceebbc4434f96a1efac2bb0109b0f",
       "version_major": 2,
       "version_minor": 0
      },
      "text/plain": [
       "  0%|          | 0/100 [00:00<?, ?it/s]"
      ]
     },
     "metadata": {},
     "output_type": "display_data"
    },
    {
     "name": "stdout",
     "output_type": "stream",
     "text": [
      "Epoch:10/100 AVG Training Loss:0.498 AVG Validation Loss:0.500 AVG Training Acc 79.93 % AVG Validation Acc 79.14 %\n",
      "Epoch:20/100 AVG Training Loss:0.490 AVG Validation Loss:0.492 AVG Training Acc 79.98 % AVG Validation Acc 79.14 %\n",
      "Epoch:30/100 AVG Training Loss:0.487 AVG Validation Loss:0.500 AVG Training Acc 79.93 % AVG Validation Acc 79.27 %\n",
      "Epoch    31: reducing learning rate of group 0 to 1.0000e-03.\n",
      "Epoch:40/100 AVG Training Loss:0.480 AVG Validation Loss:0.493 AVG Training Acc 80.10 % AVG Validation Acc 79.68 %\n",
      "Epoch:50/100 AVG Training Loss:0.473 AVG Validation Loss:0.500 AVG Training Acc 80.43 % AVG Validation Acc 79.14 %\n",
      "Epoch:60/100 AVG Training Loss:0.470 AVG Validation Loss:0.503 AVG Training Acc 80.65 % AVG Validation Acc 78.73 %\n",
      "Epoch    62: reducing learning rate of group 0 to 1.0000e-04.\n",
      "Epoch:70/100 AVG Training Loss:0.467 AVG Validation Loss:0.503 AVG Training Acc 80.70 % AVG Validation Acc 78.87 %\n",
      "Epoch:80/100 AVG Training Loss:0.465 AVG Validation Loss:0.507 AVG Training Acc 80.83 % AVG Validation Acc 79.00 %\n",
      "Epoch:90/100 AVG Training Loss:0.465 AVG Validation Loss:0.507 AVG Training Acc 80.71 % AVG Validation Acc 79.00 %\n",
      "Epoch    93: reducing learning rate of group 0 to 1.0000e-05.\n",
      "Epoch:100/100 AVG Training Loss:0.464 AVG Validation Loss:0.509 AVG Training Acc 80.71 % AVG Validation Acc 79.00 %\n",
      "Split 209\n"
     ]
    },
    {
     "data": {
      "application/vnd.jupyter.widget-view+json": {
       "model_id": "f01e3459d02e49c6a2a932c6c5255920",
       "version_major": 2,
       "version_minor": 0
      },
      "text/plain": [
       "  0%|          | 0/100 [00:00<?, ?it/s]"
      ]
     },
     "metadata": {},
     "output_type": "display_data"
    },
    {
     "name": "stdout",
     "output_type": "stream",
     "text": [
      "Epoch:10/100 AVG Training Loss:0.499 AVG Validation Loss:0.490 AVG Training Acc 79.74 % AVG Validation Acc 81.02 %\n",
      "Epoch:20/100 AVG Training Loss:0.492 AVG Validation Loss:0.476 AVG Training Acc 79.68 % AVG Validation Acc 81.16 %\n",
      "Epoch:30/100 AVG Training Loss:0.489 AVG Validation Loss:0.480 AVG Training Acc 79.67 % AVG Validation Acc 81.02 %\n",
      "Epoch:40/100 AVG Training Loss:0.483 AVG Validation Loss:0.478 AVG Training Acc 79.89 % AVG Validation Acc 80.75 %\n",
      "Epoch:50/100 AVG Training Loss:0.486 AVG Validation Loss:0.481 AVG Training Acc 79.83 % AVG Validation Acc 81.16 %\n",
      "Epoch    50: reducing learning rate of group 0 to 1.0000e-03.\n",
      "Epoch:60/100 AVG Training Loss:0.463 AVG Validation Loss:0.493 AVG Training Acc 80.40 % AVG Validation Acc 80.89 %\n",
      "Epoch:70/100 AVG Training Loss:0.456 AVG Validation Loss:0.501 AVG Training Acc 80.91 % AVG Validation Acc 80.62 %\n",
      "Epoch:80/100 AVG Training Loss:0.448 AVG Validation Loss:0.510 AVG Training Acc 81.05 % AVG Validation Acc 80.75 %\n",
      "Epoch    81: reducing learning rate of group 0 to 1.0000e-04.\n",
      "Epoch:90/100 AVG Training Loss:0.446 AVG Validation Loss:0.519 AVG Training Acc 81.19 % AVG Validation Acc 80.48 %\n",
      "Epoch:100/100 AVG Training Loss:0.444 AVG Validation Loss:0.519 AVG Training Acc 81.22 % AVG Validation Acc 80.22 %\n",
      "Split 210\n"
     ]
    },
    {
     "data": {
      "application/vnd.jupyter.widget-view+json": {
       "model_id": "a8c1ba0c7a3f4f838601ea147c4d7876",
       "version_major": 2,
       "version_minor": 0
      },
      "text/plain": [
       "  0%|          | 0/100 [00:00<?, ?it/s]"
      ]
     },
     "metadata": {},
     "output_type": "display_data"
    },
    {
     "name": "stdout",
     "output_type": "stream",
     "text": [
      "Epoch:10/100 AVG Training Loss:0.493 AVG Validation Loss:0.506 AVG Training Acc 79.93 % AVG Validation Acc 79.14 %\n",
      "Epoch:20/100 AVG Training Loss:0.488 AVG Validation Loss:0.504 AVG Training Acc 80.02 % AVG Validation Acc 79.14 %\n",
      "Epoch    24: reducing learning rate of group 0 to 1.0000e-03.\n",
      "Epoch:30/100 AVG Training Loss:0.476 AVG Validation Loss:0.511 AVG Training Acc 80.26 % AVG Validation Acc 78.60 %\n",
      "Epoch:40/100 AVG Training Loss:0.471 AVG Validation Loss:0.516 AVG Training Acc 80.35 % AVG Validation Acc 78.33 %\n",
      "Epoch:50/100 AVG Training Loss:0.468 AVG Validation Loss:0.521 AVG Training Acc 80.47 % AVG Validation Acc 78.47 %\n",
      "Epoch    55: reducing learning rate of group 0 to 1.0000e-04.\n",
      "Epoch:60/100 AVG Training Loss:0.463 AVG Validation Loss:0.526 AVG Training Acc 80.56 % AVG Validation Acc 78.20 %\n",
      "Epoch:70/100 AVG Training Loss:0.462 AVG Validation Loss:0.527 AVG Training Acc 80.62 % AVG Validation Acc 78.20 %\n",
      "Epoch:80/100 AVG Training Loss:0.461 AVG Validation Loss:0.529 AVG Training Acc 80.52 % AVG Validation Acc 78.06 %\n",
      "Epoch    86: reducing learning rate of group 0 to 1.0000e-05.\n",
      "Epoch:90/100 AVG Training Loss:0.462 AVG Validation Loss:0.528 AVG Training Acc 80.64 % AVG Validation Acc 78.06 %\n",
      "Epoch:100/100 AVG Training Loss:0.462 AVG Validation Loss:0.528 AVG Training Acc 80.73 % AVG Validation Acc 78.06 %\n",
      "Split 211\n"
     ]
    },
    {
     "data": {
      "application/vnd.jupyter.widget-view+json": {
       "model_id": "f4fb3e9b8a5c46138f5f590cc9004d19",
       "version_major": 2,
       "version_minor": 0
      },
      "text/plain": [
       "  0%|          | 0/100 [00:00<?, ?it/s]"
      ]
     },
     "metadata": {},
     "output_type": "display_data"
    },
    {
     "name": "stdout",
     "output_type": "stream",
     "text": [
      "Epoch:10/100 AVG Training Loss:0.494 AVG Validation Loss:0.505 AVG Training Acc 79.90 % AVG Validation Acc 79.57 %\n",
      "Epoch:20/100 AVG Training Loss:0.486 AVG Validation Loss:0.499 AVG Training Acc 79.84 % AVG Validation Acc 79.44 %\n",
      "Epoch:30/100 AVG Training Loss:0.482 AVG Validation Loss:0.509 AVG Training Acc 80.19 % AVG Validation Acc 79.44 %\n",
      "Epoch    38: reducing learning rate of group 0 to 1.0000e-03.\n",
      "Epoch:40/100 AVG Training Loss:0.477 AVG Validation Loss:0.507 AVG Training Acc 79.99 % AVG Validation Acc 79.70 %\n",
      "Epoch:50/100 AVG Training Loss:0.468 AVG Validation Loss:0.513 AVG Training Acc 80.33 % AVG Validation Acc 79.17 %\n",
      "Epoch:60/100 AVG Training Loss:0.460 AVG Validation Loss:0.524 AVG Training Acc 80.59 % AVG Validation Acc 78.63 %\n",
      "Epoch    69: reducing learning rate of group 0 to 1.0000e-04.\n",
      "Epoch:70/100 AVG Training Loss:0.453 AVG Validation Loss:0.530 AVG Training Acc 80.83 % AVG Validation Acc 78.36 %\n",
      "Epoch:80/100 AVG Training Loss:0.453 AVG Validation Loss:0.532 AVG Training Acc 81.11 % AVG Validation Acc 78.23 %\n",
      "Epoch:90/100 AVG Training Loss:0.452 AVG Validation Loss:0.537 AVG Training Acc 80.78 % AVG Validation Acc 77.96 %\n",
      "Epoch:100/100 AVG Training Loss:0.453 AVG Validation Loss:0.535 AVG Training Acc 81.05 % AVG Validation Acc 77.96 %\n",
      "Epoch   100: reducing learning rate of group 0 to 1.0000e-05.\n",
      "Split 212\n"
     ]
    },
    {
     "data": {
      "application/vnd.jupyter.widget-view+json": {
       "model_id": "a6d44e30884048cdbaf474d3fc4446c2",
       "version_major": 2,
       "version_minor": 0
      },
      "text/plain": [
       "  0%|          | 0/100 [00:00<?, ?it/s]"
      ]
     },
     "metadata": {},
     "output_type": "display_data"
    },
    {
     "name": "stdout",
     "output_type": "stream",
     "text": [
      "Epoch:10/100 AVG Training Loss:0.496 AVG Validation Loss:0.482 AVG Training Acc 79.80 % AVG Validation Acc 80.65 %\n",
      "Epoch:20/100 AVG Training Loss:0.503 AVG Validation Loss:0.497 AVG Training Acc 79.78 % AVG Validation Acc 80.65 %\n",
      "Epoch    25: reducing learning rate of group 0 to 1.0000e-03.\n",
      "Epoch:30/100 AVG Training Loss:0.498 AVG Validation Loss:0.486 AVG Training Acc 79.77 % AVG Validation Acc 80.65 %\n",
      "Epoch:40/100 AVG Training Loss:0.494 AVG Validation Loss:0.480 AVG Training Acc 79.89 % AVG Validation Acc 80.65 %\n",
      "Epoch:50/100 AVG Training Loss:0.491 AVG Validation Loss:0.478 AVG Training Acc 79.81 % AVG Validation Acc 80.65 %\n",
      "Epoch    56: reducing learning rate of group 0 to 1.0000e-04.\n",
      "Epoch:60/100 AVG Training Loss:0.489 AVG Validation Loss:0.477 AVG Training Acc 79.80 % AVG Validation Acc 80.65 %\n",
      "Epoch:70/100 AVG Training Loss:0.490 AVG Validation Loss:0.476 AVG Training Acc 79.86 % AVG Validation Acc 80.65 %\n",
      "Epoch:80/100 AVG Training Loss:0.489 AVG Validation Loss:0.476 AVG Training Acc 79.90 % AVG Validation Acc 80.65 %\n",
      "Epoch    87: reducing learning rate of group 0 to 1.0000e-05.\n",
      "Epoch:90/100 AVG Training Loss:0.489 AVG Validation Loss:0.477 AVG Training Acc 79.81 % AVG Validation Acc 80.65 %\n",
      "Epoch:100/100 AVG Training Loss:0.489 AVG Validation Loss:0.476 AVG Training Acc 79.80 % AVG Validation Acc 80.51 %\n",
      "Split 213\n"
     ]
    },
    {
     "data": {
      "application/vnd.jupyter.widget-view+json": {
       "model_id": "af105466ed7b4f7e955413e1a06e2996",
       "version_major": 2,
       "version_minor": 0
      },
      "text/plain": [
       "  0%|          | 0/100 [00:00<?, ?it/s]"
      ]
     },
     "metadata": {},
     "output_type": "display_data"
    },
    {
     "name": "stdout",
     "output_type": "stream",
     "text": [
      "Epoch:10/100 AVG Training Loss:0.494 AVG Validation Loss:0.488 AVG Training Acc 79.86 % AVG Validation Acc 79.70 %\n",
      "Epoch:20/100 AVG Training Loss:0.488 AVG Validation Loss:0.489 AVG Training Acc 79.83 % AVG Validation Acc 79.70 %\n",
      "Epoch    29: reducing learning rate of group 0 to 1.0000e-03.\n",
      "Epoch:30/100 AVG Training Loss:0.482 AVG Validation Loss:0.488 AVG Training Acc 79.93 % AVG Validation Acc 79.84 %\n",
      "Epoch:40/100 AVG Training Loss:0.474 AVG Validation Loss:0.489 AVG Training Acc 80.11 % AVG Validation Acc 79.84 %\n",
      "Epoch:50/100 AVG Training Loss:0.470 AVG Validation Loss:0.490 AVG Training Acc 80.19 % AVG Validation Acc 79.57 %\n",
      "Epoch:60/100 AVG Training Loss:0.465 AVG Validation Loss:0.494 AVG Training Acc 80.45 % AVG Validation Acc 79.30 %\n",
      "Epoch    60: reducing learning rate of group 0 to 1.0000e-04.\n",
      "Epoch:70/100 AVG Training Loss:0.460 AVG Validation Loss:0.496 AVG Training Acc 80.66 % AVG Validation Acc 78.90 %\n",
      "Epoch:80/100 AVG Training Loss:0.460 AVG Validation Loss:0.497 AVG Training Acc 80.68 % AVG Validation Acc 78.90 %\n",
      "Epoch:90/100 AVG Training Loss:0.460 AVG Validation Loss:0.499 AVG Training Acc 80.65 % AVG Validation Acc 78.90 %\n",
      "Epoch    91: reducing learning rate of group 0 to 1.0000e-05.\n",
      "Epoch:100/100 AVG Training Loss:0.458 AVG Validation Loss:0.500 AVG Training Acc 80.69 % AVG Validation Acc 79.03 %\n",
      "Split 214\n"
     ]
    },
    {
     "data": {
      "application/vnd.jupyter.widget-view+json": {
       "model_id": "0aa9d6f6a69d42a998f35d9c59c4b14d",
       "version_major": 2,
       "version_minor": 0
      },
      "text/plain": [
       "  0%|          | 0/100 [00:00<?, ?it/s]"
      ]
     },
     "metadata": {},
     "output_type": "display_data"
    },
    {
     "name": "stdout",
     "output_type": "stream",
     "text": [
      "Epoch:10/100 AVG Training Loss:0.492 AVG Validation Loss:0.510 AVG Training Acc 79.92 % AVG Validation Acc 78.49 %\n",
      "Epoch:20/100 AVG Training Loss:0.487 AVG Validation Loss:0.511 AVG Training Acc 80.04 % AVG Validation Acc 78.49 %\n",
      "Epoch    26: reducing learning rate of group 0 to 1.0000e-03.\n",
      "Epoch:30/100 AVG Training Loss:0.472 AVG Validation Loss:0.511 AVG Training Acc 80.39 % AVG Validation Acc 78.36 %\n",
      "Epoch:40/100 AVG Training Loss:0.464 AVG Validation Loss:0.517 AVG Training Acc 80.56 % AVG Validation Acc 77.82 %\n",
      "Epoch:50/100 AVG Training Loss:0.457 AVG Validation Loss:0.522 AVG Training Acc 81.13 % AVG Validation Acc 77.96 %\n",
      "Epoch    57: reducing learning rate of group 0 to 1.0000e-04.\n",
      "Epoch:60/100 AVG Training Loss:0.449 AVG Validation Loss:0.526 AVG Training Acc 81.29 % AVG Validation Acc 77.69 %\n",
      "Epoch:70/100 AVG Training Loss:0.450 AVG Validation Loss:0.525 AVG Training Acc 81.14 % AVG Validation Acc 77.96 %\n",
      "Epoch:80/100 AVG Training Loss:0.446 AVG Validation Loss:0.526 AVG Training Acc 81.49 % AVG Validation Acc 77.82 %\n",
      "Epoch    88: reducing learning rate of group 0 to 1.0000e-05.\n",
      "Epoch:90/100 AVG Training Loss:0.447 AVG Validation Loss:0.530 AVG Training Acc 81.41 % AVG Validation Acc 77.69 %\n",
      "Epoch:100/100 AVG Training Loss:0.447 AVG Validation Loss:0.525 AVG Training Acc 81.37 % AVG Validation Acc 77.96 %\n",
      "Split 215\n"
     ]
    },
    {
     "data": {
      "application/vnd.jupyter.widget-view+json": {
       "model_id": "34fd15afa34941dcb9e75a5215192cec",
       "version_major": 2,
       "version_minor": 0
      },
      "text/plain": [
       "  0%|          | 0/100 [00:00<?, ?it/s]"
      ]
     },
     "metadata": {},
     "output_type": "display_data"
    },
    {
     "name": "stdout",
     "output_type": "stream",
     "text": [
      "Epoch:10/100 AVG Training Loss:0.495 AVG Validation Loss:0.477 AVG Training Acc 79.78 % AVG Validation Acc 81.05 %\n",
      "Epoch    19: reducing learning rate of group 0 to 1.0000e-03.\n",
      "Epoch:20/100 AVG Training Loss:0.485 AVG Validation Loss:0.477 AVG Training Acc 79.92 % AVG Validation Acc 81.18 %\n",
      "Epoch:30/100 AVG Training Loss:0.480 AVG Validation Loss:0.479 AVG Training Acc 79.83 % AVG Validation Acc 81.18 %\n",
      "Epoch:40/100 AVG Training Loss:0.472 AVG Validation Loss:0.483 AVG Training Acc 79.98 % AVG Validation Acc 80.91 %\n",
      "Epoch:50/100 AVG Training Loss:0.464 AVG Validation Loss:0.485 AVG Training Acc 80.39 % AVG Validation Acc 80.78 %\n",
      "Epoch    50: reducing learning rate of group 0 to 1.0000e-04.\n",
      "Epoch:60/100 AVG Training Loss:0.460 AVG Validation Loss:0.486 AVG Training Acc 80.69 % AVG Validation Acc 80.78 %\n",
      "Epoch:70/100 AVG Training Loss:0.458 AVG Validation Loss:0.488 AVG Training Acc 80.47 % AVG Validation Acc 80.65 %\n",
      "Epoch:80/100 AVG Training Loss:0.459 AVG Validation Loss:0.489 AVG Training Acc 80.66 % AVG Validation Acc 80.51 %\n",
      "Epoch    81: reducing learning rate of group 0 to 1.0000e-05.\n",
      "Epoch:90/100 AVG Training Loss:0.458 AVG Validation Loss:0.489 AVG Training Acc 80.72 % AVG Validation Acc 80.38 %\n",
      "Epoch:100/100 AVG Training Loss:0.458 AVG Validation Loss:0.490 AVG Training Acc 80.80 % AVG Validation Acc 80.51 %\n",
      "Split 216\n"
     ]
    },
    {
     "data": {
      "application/vnd.jupyter.widget-view+json": {
       "model_id": "4818d58136254ae3b6a62f3251d75ee2",
       "version_major": 2,
       "version_minor": 0
      },
      "text/plain": [
       "  0%|          | 0/100 [00:00<?, ?it/s]"
      ]
     },
     "metadata": {},
     "output_type": "display_data"
    },
    {
     "name": "stdout",
     "output_type": "stream",
     "text": [
      "Epoch:10/100 AVG Training Loss:0.493 AVG Validation Loss:0.509 AVG Training Acc 80.05 % AVG Validation Acc 78.63 %\n",
      "Epoch:20/100 AVG Training Loss:0.485 AVG Validation Loss:0.511 AVG Training Acc 80.04 % AVG Validation Acc 78.76 %\n",
      "Epoch    23: reducing learning rate of group 0 to 1.0000e-03.\n",
      "Epoch:30/100 AVG Training Loss:0.473 AVG Validation Loss:0.507 AVG Training Acc 80.36 % AVG Validation Acc 78.76 %\n",
      "Epoch:40/100 AVG Training Loss:0.465 AVG Validation Loss:0.515 AVG Training Acc 80.48 % AVG Validation Acc 79.03 %\n",
      "Epoch:50/100 AVG Training Loss:0.461 AVG Validation Loss:0.514 AVG Training Acc 80.69 % AVG Validation Acc 79.17 %\n",
      "Epoch    54: reducing learning rate of group 0 to 1.0000e-04.\n",
      "Epoch:60/100 AVG Training Loss:0.453 AVG Validation Loss:0.518 AVG Training Acc 80.90 % AVG Validation Acc 79.30 %\n",
      "Epoch:70/100 AVG Training Loss:0.451 AVG Validation Loss:0.518 AVG Training Acc 80.98 % AVG Validation Acc 79.03 %\n",
      "Epoch:80/100 AVG Training Loss:0.451 AVG Validation Loss:0.518 AVG Training Acc 80.96 % AVG Validation Acc 78.90 %\n",
      "Epoch    85: reducing learning rate of group 0 to 1.0000e-05.\n",
      "Epoch:90/100 AVG Training Loss:0.448 AVG Validation Loss:0.521 AVG Training Acc 81.08 % AVG Validation Acc 78.90 %\n",
      "Epoch:100/100 AVG Training Loss:0.449 AVG Validation Loss:0.520 AVG Training Acc 81.25 % AVG Validation Acc 79.03 %\n",
      "Split 217\n"
     ]
    },
    {
     "data": {
      "application/vnd.jupyter.widget-view+json": {
       "model_id": "46aca2858116495e9922b6261ed27867",
       "version_major": 2,
       "version_minor": 0
      },
      "text/plain": [
       "  0%|          | 0/100 [00:00<?, ?it/s]"
      ]
     },
     "metadata": {},
     "output_type": "display_data"
    },
    {
     "name": "stdout",
     "output_type": "stream",
     "text": [
      "Epoch:10/100 AVG Training Loss:0.499 AVG Validation Loss:0.473 AVG Training Acc 79.73 % AVG Validation Acc 81.29 %\n",
      "Epoch:20/100 AVG Training Loss:0.492 AVG Validation Loss:0.460 AVG Training Acc 79.65 % AVG Validation Acc 81.56 %\n",
      "Epoch    24: reducing learning rate of group 0 to 1.0000e-03.\n",
      "Epoch:30/100 AVG Training Loss:0.479 AVG Validation Loss:0.461 AVG Training Acc 79.86 % AVG Validation Acc 81.43 %\n",
      "Epoch:40/100 AVG Training Loss:0.475 AVG Validation Loss:0.462 AVG Training Acc 80.10 % AVG Validation Acc 81.29 %\n",
      "Epoch:50/100 AVG Training Loss:0.469 AVG Validation Loss:0.463 AVG Training Acc 80.32 % AVG Validation Acc 81.56 %\n",
      "Epoch    55: reducing learning rate of group 0 to 1.0000e-04.\n",
      "Epoch:60/100 AVG Training Loss:0.466 AVG Validation Loss:0.465 AVG Training Acc 80.31 % AVG Validation Acc 81.43 %\n",
      "Epoch:70/100 AVG Training Loss:0.463 AVG Validation Loss:0.466 AVG Training Acc 80.53 % AVG Validation Acc 81.43 %\n",
      "Epoch:80/100 AVG Training Loss:0.461 AVG Validation Loss:0.466 AVG Training Acc 80.61 % AVG Validation Acc 81.16 %\n",
      "Epoch    86: reducing learning rate of group 0 to 1.0000e-05.\n",
      "Epoch:90/100 AVG Training Loss:0.460 AVG Validation Loss:0.467 AVG Training Acc 80.74 % AVG Validation Acc 81.29 %\n",
      "Epoch:100/100 AVG Training Loss:0.462 AVG Validation Loss:0.466 AVG Training Acc 80.71 % AVG Validation Acc 81.29 %\n",
      "Split 218\n"
     ]
    },
    {
     "data": {
      "application/vnd.jupyter.widget-view+json": {
       "model_id": "e4f32c89b6244121b074a062e3dcdb5a",
       "version_major": 2,
       "version_minor": 0
      },
      "text/plain": [
       "  0%|          | 0/100 [00:00<?, ?it/s]"
      ]
     },
     "metadata": {},
     "output_type": "display_data"
    },
    {
     "name": "stdout",
     "output_type": "stream",
     "text": [
      "Epoch:10/100 AVG Training Loss:0.495 AVG Validation Loss:0.480 AVG Training Acc 79.78 % AVG Validation Acc 80.75 %\n",
      "Epoch:20/100 AVG Training Loss:0.490 AVG Validation Loss:0.478 AVG Training Acc 79.71 % AVG Validation Acc 80.62 %\n",
      "Epoch:30/100 AVG Training Loss:0.484 AVG Validation Loss:0.475 AVG Training Acc 79.86 % AVG Validation Acc 80.48 %\n",
      "Epoch:40/100 AVG Training Loss:0.483 AVG Validation Loss:0.476 AVG Training Acc 79.95 % AVG Validation Acc 80.75 %\n",
      "Epoch:50/100 AVG Training Loss:0.479 AVG Validation Loss:0.482 AVG Training Acc 80.01 % AVG Validation Acc 81.02 %\n",
      "Epoch    57: reducing learning rate of group 0 to 1.0000e-03.\n",
      "Epoch:60/100 AVG Training Loss:0.458 AVG Validation Loss:0.483 AVG Training Acc 80.38 % AVG Validation Acc 80.22 %\n",
      "Epoch:70/100 AVG Training Loss:0.448 AVG Validation Loss:0.495 AVG Training Acc 80.79 % AVG Validation Acc 79.81 %\n",
      "Epoch:80/100 AVG Training Loss:0.436 AVG Validation Loss:0.516 AVG Training Acc 81.26 % AVG Validation Acc 79.95 %\n",
      "Epoch    88: reducing learning rate of group 0 to 1.0000e-04.\n",
      "Epoch:90/100 AVG Training Loss:0.429 AVG Validation Loss:0.526 AVG Training Acc 81.58 % AVG Validation Acc 79.14 %\n",
      "Epoch:100/100 AVG Training Loss:0.426 AVG Validation Loss:0.530 AVG Training Acc 81.58 % AVG Validation Acc 79.41 %\n",
      "Split 219\n"
     ]
    },
    {
     "data": {
      "application/vnd.jupyter.widget-view+json": {
       "model_id": "9d14ab1f77284cf18df8439c6babced8",
       "version_major": 2,
       "version_minor": 0
      },
      "text/plain": [
       "  0%|          | 0/100 [00:00<?, ?it/s]"
      ]
     },
     "metadata": {},
     "output_type": "display_data"
    },
    {
     "name": "stdout",
     "output_type": "stream",
     "text": [
      "Epoch:10/100 AVG Training Loss:0.493 AVG Validation Loss:0.501 AVG Training Acc 79.89 % AVG Validation Acc 79.00 %\n",
      "Epoch:20/100 AVG Training Loss:0.490 AVG Validation Loss:0.502 AVG Training Acc 79.93 % AVG Validation Acc 78.87 %\n",
      "Epoch    26: reducing learning rate of group 0 to 1.0000e-03.\n",
      "Epoch:30/100 AVG Training Loss:0.479 AVG Validation Loss:0.505 AVG Training Acc 80.23 % AVG Validation Acc 78.87 %\n",
      "Epoch:40/100 AVG Training Loss:0.472 AVG Validation Loss:0.508 AVG Training Acc 80.35 % AVG Validation Acc 78.87 %\n",
      "Epoch:50/100 AVG Training Loss:0.466 AVG Validation Loss:0.516 AVG Training Acc 80.40 % AVG Validation Acc 78.20 %\n",
      "Epoch    57: reducing learning rate of group 0 to 1.0000e-04.\n",
      "Epoch:60/100 AVG Training Loss:0.459 AVG Validation Loss:0.525 AVG Training Acc 80.77 % AVG Validation Acc 78.47 %\n",
      "Epoch:70/100 AVG Training Loss:0.459 AVG Validation Loss:0.527 AVG Training Acc 80.79 % AVG Validation Acc 78.33 %\n",
      "Epoch:80/100 AVG Training Loss:0.458 AVG Validation Loss:0.527 AVG Training Acc 80.64 % AVG Validation Acc 78.33 %\n",
      "Epoch    88: reducing learning rate of group 0 to 1.0000e-05.\n",
      "Epoch:90/100 AVG Training Loss:0.456 AVG Validation Loss:0.533 AVG Training Acc 80.94 % AVG Validation Acc 78.47 %\n",
      "Epoch:100/100 AVG Training Loss:0.458 AVG Validation Loss:0.530 AVG Training Acc 80.74 % AVG Validation Acc 78.47 %\n",
      "Split 220\n"
     ]
    },
    {
     "data": {
      "application/vnd.jupyter.widget-view+json": {
       "model_id": "3606385974524934ab42c1385e0f731a",
       "version_major": 2,
       "version_minor": 0
      },
      "text/plain": [
       "  0%|          | 0/100 [00:00<?, ?it/s]"
      ]
     },
     "metadata": {},
     "output_type": "display_data"
    },
    {
     "name": "stdout",
     "output_type": "stream",
     "text": [
      "Epoch:10/100 AVG Training Loss:0.493 AVG Validation Loss:0.508 AVG Training Acc 79.89 % AVG Validation Acc 79.14 %\n",
      "Epoch:20/100 AVG Training Loss:0.486 AVG Validation Loss:0.500 AVG Training Acc 80.05 % AVG Validation Acc 79.14 %\n",
      "Epoch:30/100 AVG Training Loss:0.480 AVG Validation Loss:0.508 AVG Training Acc 80.01 % AVG Validation Acc 79.14 %\n",
      "Epoch    31: reducing learning rate of group 0 to 1.0000e-03.\n",
      "Epoch:40/100 AVG Training Loss:0.461 AVG Validation Loss:0.513 AVG Training Acc 80.37 % AVG Validation Acc 78.87 %\n",
      "Epoch:50/100 AVG Training Loss:0.452 AVG Validation Loss:0.520 AVG Training Acc 80.70 % AVG Validation Acc 79.41 %\n",
      "Epoch:60/100 AVG Training Loss:0.445 AVG Validation Loss:0.540 AVG Training Acc 81.02 % AVG Validation Acc 78.87 %\n",
      "Epoch    62: reducing learning rate of group 0 to 1.0000e-04.\n",
      "Epoch:70/100 AVG Training Loss:0.438 AVG Validation Loss:0.540 AVG Training Acc 81.31 % AVG Validation Acc 79.41 %\n",
      "Epoch:80/100 AVG Training Loss:0.440 AVG Validation Loss:0.538 AVG Training Acc 81.17 % AVG Validation Acc 79.00 %\n",
      "Epoch:90/100 AVG Training Loss:0.437 AVG Validation Loss:0.541 AVG Training Acc 81.29 % AVG Validation Acc 79.00 %\n",
      "Epoch    93: reducing learning rate of group 0 to 1.0000e-05.\n",
      "Epoch:100/100 AVG Training Loss:0.435 AVG Validation Loss:0.549 AVG Training Acc 81.19 % AVG Validation Acc 78.60 %\n",
      "Split 221\n"
     ]
    },
    {
     "data": {
      "application/vnd.jupyter.widget-view+json": {
       "model_id": "468407b972904e89aed42759142b5d14",
       "version_major": 2,
       "version_minor": 0
      },
      "text/plain": [
       "  0%|          | 0/100 [00:00<?, ?it/s]"
      ]
     },
     "metadata": {},
     "output_type": "display_data"
    },
    {
     "name": "stdout",
     "output_type": "stream",
     "text": [
      "Epoch:10/100 AVG Training Loss:0.495 AVG Validation Loss:0.491 AVG Training Acc 79.92 % AVG Validation Acc 79.57 %\n",
      "Epoch:20/100 AVG Training Loss:0.492 AVG Validation Loss:0.490 AVG Training Acc 79.83 % AVG Validation Acc 79.57 %\n",
      "Epoch:30/100 AVG Training Loss:0.485 AVG Validation Loss:0.488 AVG Training Acc 79.93 % AVG Validation Acc 79.57 %\n",
      "Epoch    30: reducing learning rate of group 0 to 1.0000e-03.\n",
      "Epoch:40/100 AVG Training Loss:0.474 AVG Validation Loss:0.491 AVG Training Acc 80.33 % AVG Validation Acc 79.70 %\n",
      "Epoch:50/100 AVG Training Loss:0.470 AVG Validation Loss:0.501 AVG Training Acc 80.66 % AVG Validation Acc 79.03 %\n",
      "Epoch:60/100 AVG Training Loss:0.466 AVG Validation Loss:0.511 AVG Training Acc 80.92 % AVG Validation Acc 78.76 %\n",
      "Epoch    61: reducing learning rate of group 0 to 1.0000e-04.\n",
      "Epoch:70/100 AVG Training Loss:0.462 AVG Validation Loss:0.512 AVG Training Acc 80.86 % AVG Validation Acc 78.63 %\n",
      "Epoch:80/100 AVG Training Loss:0.460 AVG Validation Loss:0.513 AVG Training Acc 80.92 % AVG Validation Acc 78.63 %\n",
      "Epoch:90/100 AVG Training Loss:0.462 AVG Validation Loss:0.518 AVG Training Acc 81.04 % AVG Validation Acc 78.36 %\n",
      "Epoch    92: reducing learning rate of group 0 to 1.0000e-05.\n",
      "Epoch:100/100 AVG Training Loss:0.461 AVG Validation Loss:0.518 AVG Training Acc 80.92 % AVG Validation Acc 78.36 %\n",
      "Split 222\n"
     ]
    },
    {
     "data": {
      "application/vnd.jupyter.widget-view+json": {
       "model_id": "07efa9dc98b94162b69068594cef4f6a",
       "version_major": 2,
       "version_minor": 0
      },
      "text/plain": [
       "  0%|          | 0/100 [00:00<?, ?it/s]"
      ]
     },
     "metadata": {},
     "output_type": "display_data"
    },
    {
     "name": "stdout",
     "output_type": "stream",
     "text": [
      "Epoch:10/100 AVG Training Loss:0.496 AVG Validation Loss:0.486 AVG Training Acc 79.74 % AVG Validation Acc 80.78 %\n",
      "Epoch:20/100 AVG Training Loss:0.507 AVG Validation Loss:0.487 AVG Training Acc 79.66 % AVG Validation Acc 80.78 %\n",
      "Epoch:30/100 AVG Training Loss:0.490 AVG Validation Loss:0.484 AVG Training Acc 79.69 % AVG Validation Acc 80.38 %\n",
      "Epoch    34: reducing learning rate of group 0 to 1.0000e-03.\n",
      "Epoch:40/100 AVG Training Loss:0.480 AVG Validation Loss:0.486 AVG Training Acc 80.07 % AVG Validation Acc 80.51 %\n",
      "Epoch:50/100 AVG Training Loss:0.476 AVG Validation Loss:0.495 AVG Training Acc 80.19 % AVG Validation Acc 80.38 %\n",
      "Epoch:60/100 AVG Training Loss:0.471 AVG Validation Loss:0.502 AVG Training Acc 80.32 % AVG Validation Acc 80.11 %\n",
      "Epoch    65: reducing learning rate of group 0 to 1.0000e-04.\n",
      "Epoch:70/100 AVG Training Loss:0.468 AVG Validation Loss:0.504 AVG Training Acc 80.38 % AVG Validation Acc 80.24 %\n",
      "Epoch:80/100 AVG Training Loss:0.467 AVG Validation Loss:0.505 AVG Training Acc 80.45 % AVG Validation Acc 80.24 %\n",
      "Epoch:90/100 AVG Training Loss:0.463 AVG Validation Loss:0.508 AVG Training Acc 80.72 % AVG Validation Acc 80.24 %\n",
      "Epoch    96: reducing learning rate of group 0 to 1.0000e-05.\n",
      "Epoch:100/100 AVG Training Loss:0.462 AVG Validation Loss:0.509 AVG Training Acc 80.62 % AVG Validation Acc 80.24 %\n",
      "Split 223\n"
     ]
    },
    {
     "data": {
      "application/vnd.jupyter.widget-view+json": {
       "model_id": "08ab298bc3334a5a8a97564fe2ed050b",
       "version_major": 2,
       "version_minor": 0
      },
      "text/plain": [
       "  0%|          | 0/100 [00:00<?, ?it/s]"
      ]
     },
     "metadata": {},
     "output_type": "display_data"
    },
    {
     "name": "stdout",
     "output_type": "stream",
     "text": [
      "Epoch:10/100 AVG Training Loss:0.490 AVG Validation Loss:0.526 AVG Training Acc 80.22 % AVG Validation Acc 76.75 %\n",
      "Epoch:20/100 AVG Training Loss:0.484 AVG Validation Loss:0.522 AVG Training Acc 80.25 % AVG Validation Acc 76.88 %\n",
      "Epoch:30/100 AVG Training Loss:0.479 AVG Validation Loss:0.526 AVG Training Acc 80.29 % AVG Validation Acc 77.15 %\n",
      "Epoch:40/100 AVG Training Loss:0.474 AVG Validation Loss:0.531 AVG Training Acc 80.41 % AVG Validation Acc 76.61 %\n",
      "Epoch    48: reducing learning rate of group 0 to 1.0000e-03.\n",
      "Epoch:50/100 AVG Training Loss:0.455 AVG Validation Loss:0.537 AVG Training Acc 80.95 % AVG Validation Acc 77.02 %\n",
      "Epoch:60/100 AVG Training Loss:0.443 AVG Validation Loss:0.545 AVG Training Acc 81.37 % AVG Validation Acc 76.75 %\n",
      "Epoch:70/100 AVG Training Loss:0.430 AVG Validation Loss:0.553 AVG Training Acc 81.86 % AVG Validation Acc 76.88 %\n",
      "Epoch    79: reducing learning rate of group 0 to 1.0000e-04.\n",
      "Epoch:80/100 AVG Training Loss:0.422 AVG Validation Loss:0.558 AVG Training Acc 82.17 % AVG Validation Acc 76.61 %\n",
      "Epoch:90/100 AVG Training Loss:0.419 AVG Validation Loss:0.556 AVG Training Acc 82.23 % AVG Validation Acc 77.02 %\n",
      "Epoch:100/100 AVG Training Loss:0.420 AVG Validation Loss:0.560 AVG Training Acc 82.31 % AVG Validation Acc 76.88 %\n",
      "Split 224\n"
     ]
    },
    {
     "data": {
      "application/vnd.jupyter.widget-view+json": {
       "model_id": "10266a25aa5c42209ca132036c86f33e",
       "version_major": 2,
       "version_minor": 0
      },
      "text/plain": [
       "  0%|          | 0/100 [00:00<?, ?it/s]"
      ]
     },
     "metadata": {},
     "output_type": "display_data"
    },
    {
     "name": "stdout",
     "output_type": "stream",
     "text": [
      "Epoch:10/100 AVG Training Loss:0.493 AVG Validation Loss:0.511 AVG Training Acc 80.04 % AVG Validation Acc 78.49 %\n",
      "Epoch:20/100 AVG Training Loss:0.488 AVG Validation Loss:0.512 AVG Training Acc 80.05 % AVG Validation Acc 78.49 %\n",
      "Epoch:30/100 AVG Training Loss:0.484 AVG Validation Loss:0.509 AVG Training Acc 80.08 % AVG Validation Acc 78.49 %\n",
      "Epoch    39: reducing learning rate of group 0 to 1.0000e-03.\n",
      "Epoch:40/100 AVG Training Loss:0.492 AVG Validation Loss:0.517 AVG Training Acc 80.08 % AVG Validation Acc 78.49 %\n",
      "Epoch:50/100 AVG Training Loss:0.484 AVG Validation Loss:0.518 AVG Training Acc 80.17 % AVG Validation Acc 78.23 %\n",
      "Epoch:60/100 AVG Training Loss:0.484 AVG Validation Loss:0.521 AVG Training Acc 80.13 % AVG Validation Acc 78.23 %\n",
      "Epoch:70/100 AVG Training Loss:0.481 AVG Validation Loss:0.520 AVG Training Acc 80.17 % AVG Validation Acc 78.09 %\n",
      "Epoch    70: reducing learning rate of group 0 to 1.0000e-04.\n",
      "Epoch:80/100 AVG Training Loss:0.480 AVG Validation Loss:0.521 AVG Training Acc 80.17 % AVG Validation Acc 78.36 %\n",
      "Epoch:90/100 AVG Training Loss:0.480 AVG Validation Loss:0.522 AVG Training Acc 80.23 % AVG Validation Acc 78.23 %\n",
      "Epoch:100/100 AVG Training Loss:0.480 AVG Validation Loss:0.522 AVG Training Acc 80.11 % AVG Validation Acc 78.23 %\n",
      "Split 225\n"
     ]
    },
    {
     "data": {
      "application/vnd.jupyter.widget-view+json": {
       "model_id": "b6bdb10897d244ca9b91b9e9ac08716c",
       "version_major": 2,
       "version_minor": 0
      },
      "text/plain": [
       "  0%|          | 0/100 [00:00<?, ?it/s]"
      ]
     },
     "metadata": {},
     "output_type": "display_data"
    },
    {
     "name": "stdout",
     "output_type": "stream",
     "text": [
      "Epoch:10/100 AVG Training Loss:0.498 AVG Validation Loss:0.459 AVG Training Acc 79.59 % AVG Validation Acc 82.53 %\n",
      "Epoch:20/100 AVG Training Loss:0.494 AVG Validation Loss:0.464 AVG Training Acc 79.60 % AVG Validation Acc 82.53 %\n",
      "Epoch    27: reducing learning rate of group 0 to 1.0000e-03.\n",
      "Epoch:30/100 AVG Training Loss:0.484 AVG Validation Loss:0.456 AVG Training Acc 79.75 % AVG Validation Acc 82.39 %\n",
      "Epoch:40/100 AVG Training Loss:0.479 AVG Validation Loss:0.456 AVG Training Acc 79.95 % AVG Validation Acc 82.39 %\n",
      "Epoch:50/100 AVG Training Loss:0.473 AVG Validation Loss:0.457 AVG Training Acc 79.99 % AVG Validation Acc 81.99 %\n",
      "Epoch:60/100 AVG Training Loss:0.469 AVG Validation Loss:0.461 AVG Training Acc 80.17 % AVG Validation Acc 81.85 %\n",
      "Epoch    67: reducing learning rate of group 0 to 1.0000e-04.\n",
      "Epoch:70/100 AVG Training Loss:0.463 AVG Validation Loss:0.455 AVG Training Acc 80.29 % AVG Validation Acc 81.99 %\n",
      "Epoch:80/100 AVG Training Loss:0.460 AVG Validation Loss:0.456 AVG Training Acc 80.74 % AVG Validation Acc 81.72 %\n",
      "Epoch:90/100 AVG Training Loss:0.458 AVG Validation Loss:0.459 AVG Training Acc 80.68 % AVG Validation Acc 81.45 %\n",
      "Epoch    98: reducing learning rate of group 0 to 1.0000e-05.\n",
      "Epoch:100/100 AVG Training Loss:0.456 AVG Validation Loss:0.460 AVG Training Acc 80.75 % AVG Validation Acc 81.32 %\n",
      "Split 226\n"
     ]
    },
    {
     "data": {
      "application/vnd.jupyter.widget-view+json": {
       "model_id": "3c90f055a0c64d5aba85f3bc04ee5273",
       "version_major": 2,
       "version_minor": 0
      },
      "text/plain": [
       "  0%|          | 0/100 [00:00<?, ?it/s]"
      ]
     },
     "metadata": {},
     "output_type": "display_data"
    },
    {
     "name": "stdout",
     "output_type": "stream",
     "text": [
      "Epoch:10/100 AVG Training Loss:0.493 AVG Validation Loss:0.492 AVG Training Acc 79.74 % AVG Validation Acc 80.38 %\n",
      "Epoch    18: reducing learning rate of group 0 to 1.0000e-03.\n",
      "Epoch:20/100 AVG Training Loss:0.481 AVG Validation Loss:0.496 AVG Training Acc 80.02 % AVG Validation Acc 79.70 %\n",
      "Epoch:30/100 AVG Training Loss:0.476 AVG Validation Loss:0.505 AVG Training Acc 79.99 % AVG Validation Acc 79.30 %\n",
      "Epoch:40/100 AVG Training Loss:0.470 AVG Validation Loss:0.508 AVG Training Acc 80.10 % AVG Validation Acc 79.17 %\n",
      "Epoch    49: reducing learning rate of group 0 to 1.0000e-04.\n",
      "Epoch:50/100 AVG Training Loss:0.465 AVG Validation Loss:0.512 AVG Training Acc 80.41 % AVG Validation Acc 79.30 %\n",
      "Epoch:60/100 AVG Training Loss:0.460 AVG Validation Loss:0.517 AVG Training Acc 80.63 % AVG Validation Acc 79.30 %\n",
      "Epoch:70/100 AVG Training Loss:0.461 AVG Validation Loss:0.518 AVG Training Acc 80.33 % AVG Validation Acc 79.17 %\n",
      "Epoch:80/100 AVG Training Loss:0.458 AVG Validation Loss:0.520 AVG Training Acc 80.71 % AVG Validation Acc 79.17 %\n",
      "Epoch    80: reducing learning rate of group 0 to 1.0000e-05.\n",
      "Epoch:90/100 AVG Training Loss:0.458 AVG Validation Loss:0.520 AVG Training Acc 80.50 % AVG Validation Acc 79.03 %\n",
      "Epoch:100/100 AVG Training Loss:0.460 AVG Validation Loss:0.520 AVG Training Acc 80.39 % AVG Validation Acc 79.03 %\n",
      "Split 227\n"
     ]
    },
    {
     "data": {
      "application/vnd.jupyter.widget-view+json": {
       "model_id": "bf5a01e3fd5747fabb079f52f817fb15",
       "version_major": 2,
       "version_minor": 0
      },
      "text/plain": [
       "  0%|          | 0/100 [00:00<?, ?it/s]"
      ]
     },
     "metadata": {},
     "output_type": "display_data"
    },
    {
     "name": "stdout",
     "output_type": "stream",
     "text": [
      "Epoch:10/100 AVG Training Loss:0.495 AVG Validation Loss:0.476 AVG Training Acc 79.80 % AVG Validation Acc 81.16 %\n",
      "Epoch:20/100 AVG Training Loss:0.491 AVG Validation Loss:0.475 AVG Training Acc 79.75 % AVG Validation Acc 81.16 %\n",
      "Epoch:30/100 AVG Training Loss:0.486 AVG Validation Loss:0.473 AVG Training Acc 79.87 % AVG Validation Acc 81.29 %\n",
      "Epoch:40/100 AVG Training Loss:0.485 AVG Validation Loss:0.480 AVG Training Acc 79.95 % AVG Validation Acc 80.75 %\n",
      "Epoch    41: reducing learning rate of group 0 to 1.0000e-03.\n",
      "Epoch:50/100 AVG Training Loss:0.466 AVG Validation Loss:0.494 AVG Training Acc 80.41 % AVG Validation Acc 80.22 %\n",
      "Epoch:60/100 AVG Training Loss:0.456 AVG Validation Loss:0.508 AVG Training Acc 80.62 % AVG Validation Acc 80.08 %\n",
      "Epoch:70/100 AVG Training Loss:0.451 AVG Validation Loss:0.516 AVG Training Acc 80.92 % AVG Validation Acc 79.68 %\n",
      "Epoch    72: reducing learning rate of group 0 to 1.0000e-04.\n",
      "Epoch:80/100 AVG Training Loss:0.447 AVG Validation Loss:0.521 AVG Training Acc 81.25 % AVG Validation Acc 79.54 %\n",
      "Epoch:90/100 AVG Training Loss:0.445 AVG Validation Loss:0.524 AVG Training Acc 81.32 % AVG Validation Acc 79.54 %\n",
      "Epoch:100/100 AVG Training Loss:0.443 AVG Validation Loss:0.519 AVG Training Acc 81.49 % AVG Validation Acc 79.54 %\n",
      "Split 228\n"
     ]
    },
    {
     "data": {
      "application/vnd.jupyter.widget-view+json": {
       "model_id": "08538fbb535447ce832fba5b61d603f2",
       "version_major": 2,
       "version_minor": 0
      },
      "text/plain": [
       "  0%|          | 0/100 [00:00<?, ?it/s]"
      ]
     },
     "metadata": {},
     "output_type": "display_data"
    },
    {
     "name": "stdout",
     "output_type": "stream",
     "text": [
      "Epoch:10/100 AVG Training Loss:0.495 AVG Validation Loss:0.491 AVG Training Acc 79.95 % AVG Validation Acc 79.27 %\n",
      "Epoch:20/100 AVG Training Loss:0.504 AVG Validation Loss:0.511 AVG Training Acc 79.92 % AVG Validation Acc 79.27 %\n",
      "Epoch    21: reducing learning rate of group 0 to 1.0000e-03.\n",
      "Epoch:30/100 AVG Training Loss:0.501 AVG Validation Loss:0.512 AVG Training Acc 79.92 % AVG Validation Acc 79.27 %\n",
      "Epoch:40/100 AVG Training Loss:0.500 AVG Validation Loss:0.511 AVG Training Acc 79.95 % AVG Validation Acc 79.27 %\n",
      "Epoch:50/100 AVG Training Loss:0.500 AVG Validation Loss:0.508 AVG Training Acc 79.98 % AVG Validation Acc 79.27 %\n",
      "Epoch    52: reducing learning rate of group 0 to 1.0000e-04.\n",
      "Epoch:60/100 AVG Training Loss:0.499 AVG Validation Loss:0.508 AVG Training Acc 79.93 % AVG Validation Acc 79.27 %\n",
      "Epoch:70/100 AVG Training Loss:0.498 AVG Validation Loss:0.508 AVG Training Acc 79.93 % AVG Validation Acc 79.27 %\n",
      "Epoch:80/100 AVG Training Loss:0.499 AVG Validation Loss:0.508 AVG Training Acc 79.98 % AVG Validation Acc 79.27 %\n",
      "Epoch    83: reducing learning rate of group 0 to 1.0000e-05.\n",
      "Epoch:90/100 AVG Training Loss:0.499 AVG Validation Loss:0.508 AVG Training Acc 79.99 % AVG Validation Acc 79.27 %\n",
      "Epoch:100/100 AVG Training Loss:0.498 AVG Validation Loss:0.508 AVG Training Acc 79.96 % AVG Validation Acc 79.27 %\n",
      "Split 229\n"
     ]
    },
    {
     "data": {
      "application/vnd.jupyter.widget-view+json": {
       "model_id": "bcbfb30bd1584548897308b06b927d89",
       "version_major": 2,
       "version_minor": 0
      },
      "text/plain": [
       "  0%|          | 0/100 [00:00<?, ?it/s]"
      ]
     },
     "metadata": {},
     "output_type": "display_data"
    },
    {
     "name": "stdout",
     "output_type": "stream",
     "text": [
      "Epoch:10/100 AVG Training Loss:0.494 AVG Validation Loss:0.505 AVG Training Acc 79.90 % AVG Validation Acc 79.27 %\n",
      "Epoch:20/100 AVG Training Loss:0.489 AVG Validation Loss:0.498 AVG Training Acc 79.95 % AVG Validation Acc 79.41 %\n",
      "Epoch:30/100 AVG Training Loss:0.483 AVG Validation Loss:0.504 AVG Training Acc 80.07 % AVG Validation Acc 79.14 %\n",
      "Epoch    36: reducing learning rate of group 0 to 1.0000e-03.\n",
      "Epoch:40/100 AVG Training Loss:0.502 AVG Validation Loss:0.510 AVG Training Acc 79.93 % AVG Validation Acc 79.27 %\n",
      "Epoch:50/100 AVG Training Loss:0.501 AVG Validation Loss:0.509 AVG Training Acc 79.93 % AVG Validation Acc 79.27 %\n",
      "Epoch:60/100 AVG Training Loss:0.501 AVG Validation Loss:0.509 AVG Training Acc 79.93 % AVG Validation Acc 79.27 %\n",
      "Epoch    67: reducing learning rate of group 0 to 1.0000e-04.\n",
      "Epoch:70/100 AVG Training Loss:0.499 AVG Validation Loss:0.507 AVG Training Acc 79.96 % AVG Validation Acc 79.27 %\n",
      "Epoch:80/100 AVG Training Loss:0.499 AVG Validation Loss:0.507 AVG Training Acc 79.98 % AVG Validation Acc 79.27 %\n",
      "Epoch:90/100 AVG Training Loss:0.497 AVG Validation Loss:0.507 AVG Training Acc 79.98 % AVG Validation Acc 79.27 %\n",
      "Epoch    98: reducing learning rate of group 0 to 1.0000e-05.\n",
      "Epoch:100/100 AVG Training Loss:0.496 AVG Validation Loss:0.506 AVG Training Acc 79.99 % AVG Validation Acc 79.27 %\n",
      "Split 230\n"
     ]
    },
    {
     "data": {
      "application/vnd.jupyter.widget-view+json": {
       "model_id": "424143ba7ece4dd79da06ecf1680ccf6",
       "version_major": 2,
       "version_minor": 0
      },
      "text/plain": [
       "  0%|          | 0/100 [00:00<?, ?it/s]"
      ]
     },
     "metadata": {},
     "output_type": "display_data"
    },
    {
     "name": "stdout",
     "output_type": "stream",
     "text": [
      "Epoch:10/100 AVG Training Loss:0.496 AVG Validation Loss:0.490 AVG Training Acc 79.80 % AVG Validation Acc 80.22 %\n",
      "Epoch:20/100 AVG Training Loss:0.489 AVG Validation Loss:0.487 AVG Training Acc 79.92 % AVG Validation Acc 80.35 %\n",
      "Epoch:30/100 AVG Training Loss:0.487 AVG Validation Loss:0.491 AVG Training Acc 79.83 % AVG Validation Acc 80.48 %\n",
      "Epoch    33: reducing learning rate of group 0 to 1.0000e-03.\n",
      "Epoch:40/100 AVG Training Loss:0.475 AVG Validation Loss:0.481 AVG Training Acc 79.83 % AVG Validation Acc 80.35 %\n",
      "Epoch:50/100 AVG Training Loss:0.466 AVG Validation Loss:0.486 AVG Training Acc 80.40 % AVG Validation Acc 80.08 %\n",
      "Epoch:60/100 AVG Training Loss:0.461 AVG Validation Loss:0.488 AVG Training Acc 80.43 % AVG Validation Acc 80.35 %\n",
      "Epoch    64: reducing learning rate of group 0 to 1.0000e-04.\n",
      "Epoch:70/100 AVG Training Loss:0.455 AVG Validation Loss:0.492 AVG Training Acc 80.68 % AVG Validation Acc 80.08 %\n",
      "Epoch:80/100 AVG Training Loss:0.457 AVG Validation Loss:0.494 AVG Training Acc 80.83 % AVG Validation Acc 80.08 %\n",
      "Epoch:90/100 AVG Training Loss:0.456 AVG Validation Loss:0.495 AVG Training Acc 80.61 % AVG Validation Acc 79.81 %\n",
      "Epoch    95: reducing learning rate of group 0 to 1.0000e-05.\n",
      "Epoch:100/100 AVG Training Loss:0.454 AVG Validation Loss:0.496 AVG Training Acc 80.71 % AVG Validation Acc 79.81 %\n",
      "Split 231\n"
     ]
    },
    {
     "data": {
      "application/vnd.jupyter.widget-view+json": {
       "model_id": "628a941c5a754f46a15b609d6fa0f245",
       "version_major": 2,
       "version_minor": 0
      },
      "text/plain": [
       "  0%|          | 0/100 [00:00<?, ?it/s]"
      ]
     },
     "metadata": {},
     "output_type": "display_data"
    },
    {
     "name": "stdout",
     "output_type": "stream",
     "text": [
      "Epoch:10/100 AVG Training Loss:0.499 AVG Validation Loss:0.494 AVG Training Acc 79.83 % AVG Validation Acc 80.11 %\n",
      "Epoch:20/100 AVG Training Loss:0.489 AVG Validation Loss:0.496 AVG Training Acc 79.96 % AVG Validation Acc 80.11 %\n",
      "Epoch    25: reducing learning rate of group 0 to 1.0000e-03.\n",
      "Epoch:30/100 AVG Training Loss:0.481 AVG Validation Loss:0.498 AVG Training Acc 80.04 % AVG Validation Acc 79.97 %\n",
      "Epoch:40/100 AVG Training Loss:0.475 AVG Validation Loss:0.499 AVG Training Acc 80.13 % AVG Validation Acc 79.70 %\n",
      "Epoch:50/100 AVG Training Loss:0.472 AVG Validation Loss:0.502 AVG Training Acc 80.30 % AVG Validation Acc 79.70 %\n",
      "Epoch    56: reducing learning rate of group 0 to 1.0000e-04.\n",
      "Epoch:60/100 AVG Training Loss:0.468 AVG Validation Loss:0.505 AVG Training Acc 80.62 % AVG Validation Acc 79.44 %\n",
      "Epoch:70/100 AVG Training Loss:0.466 AVG Validation Loss:0.506 AVG Training Acc 80.66 % AVG Validation Acc 79.44 %\n",
      "Epoch:80/100 AVG Training Loss:0.466 AVG Validation Loss:0.508 AVG Training Acc 80.68 % AVG Validation Acc 79.57 %\n",
      "Epoch    87: reducing learning rate of group 0 to 1.0000e-05.\n",
      "Epoch:90/100 AVG Training Loss:0.463 AVG Validation Loss:0.507 AVG Training Acc 80.72 % AVG Validation Acc 79.57 %\n",
      "Epoch:100/100 AVG Training Loss:0.464 AVG Validation Loss:0.507 AVG Training Acc 80.71 % AVG Validation Acc 79.57 %\n",
      "Split 232\n"
     ]
    },
    {
     "data": {
      "application/vnd.jupyter.widget-view+json": {
       "model_id": "4d28fc6eb95a420c91c8cfbc728d575c",
       "version_major": 2,
       "version_minor": 0
      },
      "text/plain": [
       "  0%|          | 0/100 [00:00<?, ?it/s]"
      ]
     },
     "metadata": {},
     "output_type": "display_data"
    },
    {
     "name": "stdout",
     "output_type": "stream",
     "text": [
      "Epoch:10/100 AVG Training Loss:0.495 AVG Validation Loss:0.483 AVG Training Acc 79.89 % AVG Validation Acc 79.84 %\n",
      "Epoch:20/100 AVG Training Loss:0.489 AVG Validation Loss:0.491 AVG Training Acc 79.95 % AVG Validation Acc 79.84 %\n",
      "Epoch    25: reducing learning rate of group 0 to 1.0000e-03.\n",
      "Epoch:30/100 AVG Training Loss:0.469 AVG Validation Loss:0.494 AVG Training Acc 80.20 % AVG Validation Acc 79.30 %\n",
      "Epoch:40/100 AVG Training Loss:0.463 AVG Validation Loss:0.495 AVG Training Acc 80.33 % AVG Validation Acc 79.44 %\n",
      "Epoch:50/100 AVG Training Loss:0.451 AVG Validation Loss:0.502 AVG Training Acc 80.66 % AVG Validation Acc 79.30 %\n",
      "Epoch    56: reducing learning rate of group 0 to 1.0000e-04.\n",
      "Epoch:60/100 AVG Training Loss:0.443 AVG Validation Loss:0.511 AVG Training Acc 80.69 % AVG Validation Acc 78.63 %\n",
      "Epoch:70/100 AVG Training Loss:0.441 AVG Validation Loss:0.517 AVG Training Acc 80.86 % AVG Validation Acc 77.96 %\n",
      "Epoch:80/100 AVG Training Loss:0.438 AVG Validation Loss:0.515 AVG Training Acc 81.38 % AVG Validation Acc 78.49 %\n",
      "Epoch    87: reducing learning rate of group 0 to 1.0000e-05.\n",
      "Epoch:90/100 AVG Training Loss:0.438 AVG Validation Loss:0.516 AVG Training Acc 81.08 % AVG Validation Acc 78.09 %\n",
      "Epoch:100/100 AVG Training Loss:0.439 AVG Validation Loss:0.517 AVG Training Acc 80.96 % AVG Validation Acc 77.82 %\n",
      "Split 233\n"
     ]
    },
    {
     "data": {
      "application/vnd.jupyter.widget-view+json": {
       "model_id": "3a8381b7249b42da9b74d22bda745bc0",
       "version_major": 2,
       "version_minor": 0
      },
      "text/plain": [
       "  0%|          | 0/100 [00:00<?, ?it/s]"
      ]
     },
     "metadata": {},
     "output_type": "display_data"
    },
    {
     "name": "stdout",
     "output_type": "stream",
     "text": [
      "Epoch:10/100 AVG Training Loss:0.494 AVG Validation Loss:0.511 AVG Training Acc 79.98 % AVG Validation Acc 78.76 %\n",
      "Epoch:20/100 AVG Training Loss:0.489 AVG Validation Loss:0.507 AVG Training Acc 79.93 % AVG Validation Acc 78.76 %\n",
      "Epoch:30/100 AVG Training Loss:0.485 AVG Validation Loss:0.511 AVG Training Acc 80.04 % AVG Validation Acc 78.76 %\n",
      "Epoch    35: reducing learning rate of group 0 to 1.0000e-03.\n",
      "Epoch:40/100 AVG Training Loss:0.477 AVG Validation Loss:0.508 AVG Training Acc 80.02 % AVG Validation Acc 78.90 %\n",
      "Epoch:50/100 AVG Training Loss:0.471 AVG Validation Loss:0.516 AVG Training Acc 80.11 % AVG Validation Acc 79.03 %\n",
      "Epoch:60/100 AVG Training Loss:0.464 AVG Validation Loss:0.525 AVG Training Acc 80.14 % AVG Validation Acc 78.76 %\n",
      "Epoch    66: reducing learning rate of group 0 to 1.0000e-04.\n",
      "Epoch:70/100 AVG Training Loss:0.457 AVG Validation Loss:0.530 AVG Training Acc 80.39 % AVG Validation Acc 78.76 %\n",
      "Epoch:80/100 AVG Training Loss:0.455 AVG Validation Loss:0.532 AVG Training Acc 80.50 % AVG Validation Acc 78.63 %\n",
      "Epoch:90/100 AVG Training Loss:0.456 AVG Validation Loss:0.535 AVG Training Acc 80.47 % AVG Validation Acc 78.63 %\n",
      "Epoch    97: reducing learning rate of group 0 to 1.0000e-05.\n",
      "Epoch:100/100 AVG Training Loss:0.454 AVG Validation Loss:0.534 AVG Training Acc 80.56 % AVG Validation Acc 78.36 %\n",
      "Split 234\n"
     ]
    },
    {
     "data": {
      "application/vnd.jupyter.widget-view+json": {
       "model_id": "40a4a11ca1b846f3a360908d03ae233d",
       "version_major": 2,
       "version_minor": 0
      },
      "text/plain": [
       "  0%|          | 0/100 [00:00<?, ?it/s]"
      ]
     },
     "metadata": {},
     "output_type": "display_data"
    },
    {
     "name": "stdout",
     "output_type": "stream",
     "text": [
      "Epoch:10/100 AVG Training Loss:0.499 AVG Validation Loss:0.509 AVG Training Acc 79.93 % AVG Validation Acc 79.30 %\n",
      "Epoch:20/100 AVG Training Loss:0.493 AVG Validation Loss:0.505 AVG Training Acc 79.96 % AVG Validation Acc 79.17 %\n",
      "Epoch:30/100 AVG Training Loss:0.487 AVG Validation Loss:0.506 AVG Training Acc 80.05 % AVG Validation Acc 79.30 %\n",
      "Epoch:40/100 AVG Training Loss:0.481 AVG Validation Loss:0.511 AVG Training Acc 80.20 % AVG Validation Acc 78.90 %\n",
      "Epoch    46: reducing learning rate of group 0 to 1.0000e-03.\n",
      "Epoch:50/100 AVG Training Loss:0.471 AVG Validation Loss:0.516 AVG Training Acc 80.32 % AVG Validation Acc 78.76 %\n",
      "Epoch:60/100 AVG Training Loss:0.463 AVG Validation Loss:0.524 AVG Training Acc 80.51 % AVG Validation Acc 78.36 %\n",
      "Epoch:70/100 AVG Training Loss:0.457 AVG Validation Loss:0.534 AVG Training Acc 80.74 % AVG Validation Acc 78.49 %\n",
      "Epoch    77: reducing learning rate of group 0 to 1.0000e-04.\n",
      "Epoch:80/100 AVG Training Loss:0.450 AVG Validation Loss:0.542 AVG Training Acc 80.83 % AVG Validation Acc 78.23 %\n",
      "Epoch:90/100 AVG Training Loss:0.450 AVG Validation Loss:0.547 AVG Training Acc 80.83 % AVG Validation Acc 78.49 %\n",
      "Epoch:100/100 AVG Training Loss:0.450 AVG Validation Loss:0.546 AVG Training Acc 80.78 % AVG Validation Acc 78.76 %\n",
      "Split 235\n"
     ]
    },
    {
     "data": {
      "application/vnd.jupyter.widget-view+json": {
       "model_id": "881095a5e9d14a24b8c172221869a3f1",
       "version_major": 2,
       "version_minor": 0
      },
      "text/plain": [
       "  0%|          | 0/100 [00:00<?, ?it/s]"
      ]
     },
     "metadata": {},
     "output_type": "display_data"
    },
    {
     "name": "stdout",
     "output_type": "stream",
     "text": [
      "Epoch:10/100 AVG Training Loss:0.495 AVG Validation Loss:0.499 AVG Training Acc 79.93 % AVG Validation Acc 79.30 %\n",
      "Epoch:20/100 AVG Training Loss:0.492 AVG Validation Loss:0.495 AVG Training Acc 79.93 % AVG Validation Acc 79.30 %\n",
      "Epoch:30/100 AVG Training Loss:0.487 AVG Validation Loss:0.500 AVG Training Acc 79.92 % AVG Validation Acc 79.03 %\n",
      "Epoch    36: reducing learning rate of group 0 to 1.0000e-03.\n",
      "Epoch:40/100 AVG Training Loss:0.467 AVG Validation Loss:0.511 AVG Training Acc 80.50 % AVG Validation Acc 78.49 %\n",
      "Epoch:50/100 AVG Training Loss:0.460 AVG Validation Loss:0.512 AVG Training Acc 80.56 % AVG Validation Acc 78.36 %\n",
      "Epoch:60/100 AVG Training Loss:0.455 AVG Validation Loss:0.517 AVG Training Acc 80.89 % AVG Validation Acc 78.09 %\n",
      "Epoch    67: reducing learning rate of group 0 to 1.0000e-04.\n",
      "Epoch:70/100 AVG Training Loss:0.448 AVG Validation Loss:0.523 AVG Training Acc 81.04 % AVG Validation Acc 77.96 %\n",
      "Epoch:80/100 AVG Training Loss:0.447 AVG Validation Loss:0.525 AVG Training Acc 81.10 % AVG Validation Acc 78.23 %\n",
      "Epoch:90/100 AVG Training Loss:0.446 AVG Validation Loss:0.530 AVG Training Acc 80.99 % AVG Validation Acc 78.09 %\n",
      "Epoch    98: reducing learning rate of group 0 to 1.0000e-05.\n",
      "Epoch:100/100 AVG Training Loss:0.444 AVG Validation Loss:0.526 AVG Training Acc 81.14 % AVG Validation Acc 78.09 %\n",
      "Split 236\n"
     ]
    },
    {
     "data": {
      "application/vnd.jupyter.widget-view+json": {
       "model_id": "b50749c21bef47988c36b41af3bd2ef3",
       "version_major": 2,
       "version_minor": 0
      },
      "text/plain": [
       "  0%|          | 0/100 [00:00<?, ?it/s]"
      ]
     },
     "metadata": {},
     "output_type": "display_data"
    },
    {
     "name": "stdout",
     "output_type": "stream",
     "text": [
      "Epoch:10/100 AVG Training Loss:0.495 AVG Validation Loss:0.480 AVG Training Acc 79.80 % AVG Validation Acc 80.78 %\n",
      "Epoch:20/100 AVG Training Loss:0.498 AVG Validation Loss:0.486 AVG Training Acc 79.72 % AVG Validation Acc 79.84 %\n",
      "Epoch    22: reducing learning rate of group 0 to 1.0000e-03.\n",
      "Epoch:30/100 AVG Training Loss:0.484 AVG Validation Loss:0.478 AVG Training Acc 79.75 % AVG Validation Acc 80.38 %\n",
      "Epoch:40/100 AVG Training Loss:0.481 AVG Validation Loss:0.478 AVG Training Acc 79.72 % AVG Validation Acc 80.24 %\n",
      "Epoch:50/100 AVG Training Loss:0.477 AVG Validation Loss:0.481 AVG Training Acc 80.16 % AVG Validation Acc 80.11 %\n",
      "Epoch    53: reducing learning rate of group 0 to 1.0000e-04.\n",
      "Epoch:60/100 AVG Training Loss:0.473 AVG Validation Loss:0.481 AVG Training Acc 80.26 % AVG Validation Acc 80.24 %\n",
      "Epoch:70/100 AVG Training Loss:0.472 AVG Validation Loss:0.480 AVG Training Acc 80.32 % AVG Validation Acc 79.84 %\n",
      "Epoch:80/100 AVG Training Loss:0.472 AVG Validation Loss:0.482 AVG Training Acc 80.30 % AVG Validation Acc 79.57 %\n",
      "Epoch    84: reducing learning rate of group 0 to 1.0000e-05.\n",
      "Epoch:90/100 AVG Training Loss:0.471 AVG Validation Loss:0.483 AVG Training Acc 80.38 % AVG Validation Acc 79.70 %\n",
      "Epoch:100/100 AVG Training Loss:0.470 AVG Validation Loss:0.483 AVG Training Acc 80.22 % AVG Validation Acc 79.57 %\n",
      "Split 237\n"
     ]
    },
    {
     "data": {
      "application/vnd.jupyter.widget-view+json": {
       "model_id": "056760d5c614484ea5790183ef802e9a",
       "version_major": 2,
       "version_minor": 0
      },
      "text/plain": [
       "  0%|          | 0/100 [00:00<?, ?it/s]"
      ]
     },
     "metadata": {},
     "output_type": "display_data"
    },
    {
     "name": "stdout",
     "output_type": "stream",
     "text": [
      "Epoch:10/100 AVG Training Loss:0.494 AVG Validation Loss:0.504 AVG Training Acc 79.83 % AVG Validation Acc 79.68 %\n",
      "Epoch:20/100 AVG Training Loss:0.488 AVG Validation Loss:0.498 AVG Training Acc 79.83 % AVG Validation Acc 79.81 %\n",
      "Epoch    22: reducing learning rate of group 0 to 1.0000e-03.\n",
      "Epoch:30/100 AVG Training Loss:0.479 AVG Validation Loss:0.499 AVG Training Acc 80.13 % AVG Validation Acc 79.68 %\n",
      "Epoch:40/100 AVG Training Loss:0.475 AVG Validation Loss:0.503 AVG Training Acc 80.25 % AVG Validation Acc 79.41 %\n",
      "Epoch:50/100 AVG Training Loss:0.468 AVG Validation Loss:0.509 AVG Training Acc 80.53 % AVG Validation Acc 79.14 %\n",
      "Epoch    53: reducing learning rate of group 0 to 1.0000e-04.\n",
      "Epoch:60/100 AVG Training Loss:0.464 AVG Validation Loss:0.508 AVG Training Acc 80.68 % AVG Validation Acc 79.54 %\n",
      "Epoch:70/100 AVG Training Loss:0.464 AVG Validation Loss:0.509 AVG Training Acc 80.79 % AVG Validation Acc 79.27 %\n",
      "Epoch:80/100 AVG Training Loss:0.462 AVG Validation Loss:0.511 AVG Training Acc 80.83 % AVG Validation Acc 79.41 %\n",
      "Epoch    84: reducing learning rate of group 0 to 1.0000e-05.\n",
      "Epoch:90/100 AVG Training Loss:0.461 AVG Validation Loss:0.512 AVG Training Acc 80.82 % AVG Validation Acc 79.27 %\n",
      "Epoch:100/100 AVG Training Loss:0.462 AVG Validation Loss:0.511 AVG Training Acc 80.64 % AVG Validation Acc 79.14 %\n",
      "Split 238\n"
     ]
    },
    {
     "data": {
      "application/vnd.jupyter.widget-view+json": {
       "model_id": "a0c20bff4f5e4ed195054e2dac8cc78f",
       "version_major": 2,
       "version_minor": 0
      },
      "text/plain": [
       "  0%|          | 0/100 [00:00<?, ?it/s]"
      ]
     },
     "metadata": {},
     "output_type": "display_data"
    },
    {
     "name": "stdout",
     "output_type": "stream",
     "text": [
      "Epoch:10/100 AVG Training Loss:0.495 AVG Validation Loss:0.490 AVG Training Acc 79.83 % AVG Validation Acc 80.22 %\n",
      "Epoch:20/100 AVG Training Loss:0.489 AVG Validation Loss:0.483 AVG Training Acc 79.86 % AVG Validation Acc 80.22 %\n",
      "Epoch:30/100 AVG Training Loss:0.487 AVG Validation Loss:0.482 AVG Training Acc 79.95 % AVG Validation Acc 80.48 %\n",
      "Epoch:40/100 AVG Training Loss:0.497 AVG Validation Loss:0.492 AVG Training Acc 79.78 % AVG Validation Acc 80.62 %\n",
      "Epoch    47: reducing learning rate of group 0 to 1.0000e-03.\n",
      "Epoch:50/100 AVG Training Loss:0.476 AVG Validation Loss:0.475 AVG Training Acc 79.98 % AVG Validation Acc 80.35 %\n",
      "Epoch:60/100 AVG Training Loss:0.472 AVG Validation Loss:0.476 AVG Training Acc 80.20 % AVG Validation Acc 80.35 %\n",
      "Epoch:70/100 AVG Training Loss:0.467 AVG Validation Loss:0.475 AVG Training Acc 80.41 % AVG Validation Acc 80.48 %\n",
      "Epoch:80/100 AVG Training Loss:0.465 AVG Validation Loss:0.476 AVG Training Acc 80.47 % AVG Validation Acc 80.22 %\n",
      "Epoch    89: reducing learning rate of group 0 to 1.0000e-04.\n",
      "Epoch:90/100 AVG Training Loss:0.460 AVG Validation Loss:0.475 AVG Training Acc 80.61 % AVG Validation Acc 80.35 %\n",
      "Epoch:100/100 AVG Training Loss:0.460 AVG Validation Loss:0.477 AVG Training Acc 80.61 % AVG Validation Acc 80.35 %\n",
      "Split 239\n"
     ]
    },
    {
     "data": {
      "application/vnd.jupyter.widget-view+json": {
       "model_id": "650f07f808d0403ca7d88eb72d356f55",
       "version_major": 2,
       "version_minor": 0
      },
      "text/plain": [
       "  0%|          | 0/100 [00:00<?, ?it/s]"
      ]
     },
     "metadata": {},
     "output_type": "display_data"
    },
    {
     "name": "stdout",
     "output_type": "stream",
     "text": [
      "Epoch:10/100 AVG Training Loss:0.495 AVG Validation Loss:0.485 AVG Training Acc 79.83 % AVG Validation Acc 80.35 %\n",
      "Epoch    18: reducing learning rate of group 0 to 1.0000e-03.\n",
      "Epoch:20/100 AVG Training Loss:0.483 AVG Validation Loss:0.483 AVG Training Acc 79.95 % AVG Validation Acc 80.08 %\n",
      "Epoch:30/100 AVG Training Loss:0.479 AVG Validation Loss:0.486 AVG Training Acc 80.08 % AVG Validation Acc 79.95 %\n",
      "Epoch:40/100 AVG Training Loss:0.471 AVG Validation Loss:0.492 AVG Training Acc 80.20 % AVG Validation Acc 79.41 %\n",
      "Epoch    49: reducing learning rate of group 0 to 1.0000e-04.\n",
      "Epoch:50/100 AVG Training Loss:0.462 AVG Validation Loss:0.488 AVG Training Acc 80.35 % AVG Validation Acc 80.22 %\n",
      "Epoch:60/100 AVG Training Loss:0.460 AVG Validation Loss:0.491 AVG Training Acc 80.53 % AVG Validation Acc 80.08 %\n",
      "Epoch:70/100 AVG Training Loss:0.458 AVG Validation Loss:0.491 AVG Training Acc 80.50 % AVG Validation Acc 80.35 %\n",
      "Epoch:80/100 AVG Training Loss:0.457 AVG Validation Loss:0.492 AVG Training Acc 80.55 % AVG Validation Acc 80.22 %\n",
      "Epoch    80: reducing learning rate of group 0 to 1.0000e-05.\n",
      "Epoch:90/100 AVG Training Loss:0.456 AVG Validation Loss:0.494 AVG Training Acc 80.55 % AVG Validation Acc 80.35 %\n",
      "Epoch:100/100 AVG Training Loss:0.456 AVG Validation Loss:0.492 AVG Training Acc 80.67 % AVG Validation Acc 80.35 %\n",
      "Split 240\n"
     ]
    },
    {
     "data": {
      "application/vnd.jupyter.widget-view+json": {
       "model_id": "315bbbf5d62441b6b968de3e5ed7a4cf",
       "version_major": 2,
       "version_minor": 0
      },
      "text/plain": [
       "  0%|          | 0/100 [00:00<?, ?it/s]"
      ]
     },
     "metadata": {},
     "output_type": "display_data"
    },
    {
     "name": "stdout",
     "output_type": "stream",
     "text": [
      "Epoch:10/100 AVG Training Loss:0.495 AVG Validation Loss:0.488 AVG Training Acc 79.73 % AVG Validation Acc 80.48 %\n",
      "Epoch:20/100 AVG Training Loss:0.488 AVG Validation Loss:0.486 AVG Training Acc 79.86 % AVG Validation Acc 80.48 %\n",
      "Epoch:30/100 AVG Training Loss:0.481 AVG Validation Loss:0.488 AVG Training Acc 79.96 % AVG Validation Acc 80.35 %\n",
      "Epoch    33: reducing learning rate of group 0 to 1.0000e-03.\n",
      "Epoch:40/100 AVG Training Loss:0.461 AVG Validation Loss:0.495 AVG Training Acc 80.23 % AVG Validation Acc 80.62 %\n",
      "Epoch:50/100 AVG Training Loss:0.455 AVG Validation Loss:0.498 AVG Training Acc 80.25 % AVG Validation Acc 80.48 %\n",
      "Epoch:60/100 AVG Training Loss:0.450 AVG Validation Loss:0.508 AVG Training Acc 80.64 % AVG Validation Acc 79.95 %\n",
      "Epoch    64: reducing learning rate of group 0 to 1.0000e-04.\n",
      "Epoch:70/100 AVG Training Loss:0.443 AVG Validation Loss:0.513 AVG Training Acc 80.82 % AVG Validation Acc 79.81 %\n",
      "Epoch:80/100 AVG Training Loss:0.443 AVG Validation Loss:0.509 AVG Training Acc 80.71 % AVG Validation Acc 80.08 %\n",
      "Epoch:90/100 AVG Training Loss:0.443 AVG Validation Loss:0.514 AVG Training Acc 80.89 % AVG Validation Acc 79.95 %\n",
      "Epoch    95: reducing learning rate of group 0 to 1.0000e-05.\n",
      "Epoch:100/100 AVG Training Loss:0.440 AVG Validation Loss:0.514 AVG Training Acc 80.95 % AVG Validation Acc 80.35 %\n",
      "Split 241\n"
     ]
    },
    {
     "data": {
      "application/vnd.jupyter.widget-view+json": {
       "model_id": "74230bb763ee4930b78fc087101a37ab",
       "version_major": 2,
       "version_minor": 0
      },
      "text/plain": [
       "  0%|          | 0/100 [00:00<?, ?it/s]"
      ]
     },
     "metadata": {},
     "output_type": "display_data"
    },
    {
     "name": "stdout",
     "output_type": "stream",
     "text": [
      "Epoch:10/100 AVG Training Loss:0.498 AVG Validation Loss:0.532 AVG Training Acc 80.01 % AVG Validation Acc 78.09 %\n",
      "Epoch    18: reducing learning rate of group 0 to 1.0000e-03.\n",
      "Epoch:20/100 AVG Training Loss:0.485 AVG Validation Loss:0.525 AVG Training Acc 80.10 % AVG Validation Acc 78.09 %\n",
      "Epoch:30/100 AVG Training Loss:0.481 AVG Validation Loss:0.525 AVG Training Acc 80.11 % AVG Validation Acc 78.23 %\n",
      "Epoch:40/100 AVG Training Loss:0.478 AVG Validation Loss:0.525 AVG Training Acc 80.27 % AVG Validation Acc 78.49 %\n",
      "Epoch    49: reducing learning rate of group 0 to 1.0000e-04.\n",
      "Epoch:50/100 AVG Training Loss:0.475 AVG Validation Loss:0.527 AVG Training Acc 80.33 % AVG Validation Acc 78.49 %\n",
      "Epoch:60/100 AVG Training Loss:0.475 AVG Validation Loss:0.528 AVG Training Acc 80.42 % AVG Validation Acc 78.49 %\n",
      "Epoch:70/100 AVG Training Loss:0.475 AVG Validation Loss:0.530 AVG Training Acc 80.41 % AVG Validation Acc 78.36 %\n",
      "Epoch:80/100 AVG Training Loss:0.472 AVG Validation Loss:0.530 AVG Training Acc 80.50 % AVG Validation Acc 78.63 %\n",
      "Epoch    80: reducing learning rate of group 0 to 1.0000e-05.\n",
      "Epoch:90/100 AVG Training Loss:0.473 AVG Validation Loss:0.531 AVG Training Acc 80.50 % AVG Validation Acc 78.63 %\n",
      "Epoch:100/100 AVG Training Loss:0.473 AVG Validation Loss:0.530 AVG Training Acc 80.53 % AVG Validation Acc 78.63 %\n",
      "Split 242\n"
     ]
    },
    {
     "data": {
      "application/vnd.jupyter.widget-view+json": {
       "model_id": "9a08c9f583c64f709f63754a1bc16185",
       "version_major": 2,
       "version_minor": 0
      },
      "text/plain": [
       "  0%|          | 0/100 [00:00<?, ?it/s]"
      ]
     },
     "metadata": {},
     "output_type": "display_data"
    },
    {
     "name": "stdout",
     "output_type": "stream",
     "text": [
      "Epoch:10/100 AVG Training Loss:0.493 AVG Validation Loss:0.506 AVG Training Acc 79.96 % AVG Validation Acc 78.90 %\n",
      "Epoch:20/100 AVG Training Loss:0.487 AVG Validation Loss:0.506 AVG Training Acc 79.96 % AVG Validation Acc 78.90 %\n",
      "Epoch:30/100 AVG Training Loss:0.478 AVG Validation Loss:0.508 AVG Training Acc 79.99 % AVG Validation Acc 78.90 %\n",
      "Epoch    33: reducing learning rate of group 0 to 1.0000e-03.\n",
      "Epoch:40/100 AVG Training Loss:0.473 AVG Validation Loss:0.513 AVG Training Acc 80.19 % AVG Validation Acc 79.17 %\n",
      "Epoch:50/100 AVG Training Loss:0.465 AVG Validation Loss:0.518 AVG Training Acc 80.36 % AVG Validation Acc 78.76 %\n",
      "Epoch:60/100 AVG Training Loss:0.455 AVG Validation Loss:0.526 AVG Training Acc 80.47 % AVG Validation Acc 78.90 %\n",
      "Epoch    64: reducing learning rate of group 0 to 1.0000e-04.\n",
      "Epoch:70/100 AVG Training Loss:0.448 AVG Validation Loss:0.524 AVG Training Acc 80.89 % AVG Validation Acc 79.03 %\n",
      "Epoch:80/100 AVG Training Loss:0.446 AVG Validation Loss:0.527 AVG Training Acc 80.92 % AVG Validation Acc 79.03 %\n",
      "Epoch:90/100 AVG Training Loss:0.446 AVG Validation Loss:0.528 AVG Training Acc 80.72 % AVG Validation Acc 78.76 %\n",
      "Epoch    95: reducing learning rate of group 0 to 1.0000e-05.\n",
      "Epoch:100/100 AVG Training Loss:0.445 AVG Validation Loss:0.527 AVG Training Acc 80.78 % AVG Validation Acc 78.90 %\n",
      "Split 243\n"
     ]
    },
    {
     "data": {
      "application/vnd.jupyter.widget-view+json": {
       "model_id": "a7e2303b00b74fddadad3464f4bd6e43",
       "version_major": 2,
       "version_minor": 0
      },
      "text/plain": [
       "  0%|          | 0/100 [00:00<?, ?it/s]"
      ]
     },
     "metadata": {},
     "output_type": "display_data"
    },
    {
     "name": "stdout",
     "output_type": "stream",
     "text": [
      "Epoch:10/100 AVG Training Loss:0.494 AVG Validation Loss:0.508 AVG Training Acc 79.93 % AVG Validation Acc 78.90 %\n",
      "Epoch:20/100 AVG Training Loss:0.487 AVG Validation Loss:0.507 AVG Training Acc 79.96 % AVG Validation Acc 78.90 %\n",
      "Epoch:30/100 AVG Training Loss:0.483 AVG Validation Loss:0.502 AVG Training Acc 80.17 % AVG Validation Acc 78.90 %\n",
      "Epoch:40/100 AVG Training Loss:0.476 AVG Validation Loss:0.506 AVG Training Acc 80.14 % AVG Validation Acc 78.90 %\n",
      "Epoch    40: reducing learning rate of group 0 to 1.0000e-03.\n",
      "Epoch:50/100 AVG Training Loss:0.457 AVG Validation Loss:0.522 AVG Training Acc 80.41 % AVG Validation Acc 79.30 %\n",
      "Epoch:60/100 AVG Training Loss:0.448 AVG Validation Loss:0.526 AVG Training Acc 80.57 % AVG Validation Acc 78.76 %\n",
      "Epoch:70/100 AVG Training Loss:0.435 AVG Validation Loss:0.532 AVG Training Acc 81.22 % AVG Validation Acc 78.49 %\n",
      "Epoch    71: reducing learning rate of group 0 to 1.0000e-04.\n",
      "Epoch:80/100 AVG Training Loss:0.432 AVG Validation Loss:0.540 AVG Training Acc 81.34 % AVG Validation Acc 78.23 %\n",
      "Epoch:90/100 AVG Training Loss:0.431 AVG Validation Loss:0.543 AVG Training Acc 81.35 % AVG Validation Acc 78.23 %\n",
      "Epoch:100/100 AVG Training Loss:0.430 AVG Validation Loss:0.538 AVG Training Acc 81.26 % AVG Validation Acc 78.49 %\n",
      "Split 244\n"
     ]
    },
    {
     "data": {
      "application/vnd.jupyter.widget-view+json": {
       "model_id": "b6e081dff6b14a58915b167faa80ab71",
       "version_major": 2,
       "version_minor": 0
      },
      "text/plain": [
       "  0%|          | 0/100 [00:00<?, ?it/s]"
      ]
     },
     "metadata": {},
     "output_type": "display_data"
    },
    {
     "name": "stdout",
     "output_type": "stream",
     "text": [
      "Epoch:10/100 AVG Training Loss:0.497 AVG Validation Loss:0.474 AVG Training Acc 79.68 % AVG Validation Acc 81.05 %\n",
      "Epoch:20/100 AVG Training Loss:0.494 AVG Validation Loss:0.468 AVG Training Acc 79.77 % AVG Validation Acc 81.05 %\n",
      "Epoch:30/100 AVG Training Loss:0.492 AVG Validation Loss:0.471 AVG Training Acc 79.62 % AVG Validation Acc 81.05 %\n",
      "Epoch    32: reducing learning rate of group 0 to 1.0000e-03.\n",
      "Epoch:40/100 AVG Training Loss:0.475 AVG Validation Loss:0.476 AVG Training Acc 79.83 % AVG Validation Acc 81.18 %\n",
      "Epoch:50/100 AVG Training Loss:0.467 AVG Validation Loss:0.484 AVG Training Acc 80.23 % AVG Validation Acc 80.38 %\n",
      "Epoch:60/100 AVG Training Loss:0.461 AVG Validation Loss:0.493 AVG Training Acc 80.44 % AVG Validation Acc 80.51 %\n",
      "Epoch    63: reducing learning rate of group 0 to 1.0000e-04.\n",
      "Epoch:70/100 AVG Training Loss:0.456 AVG Validation Loss:0.497 AVG Training Acc 80.59 % AVG Validation Acc 79.97 %\n",
      "Epoch:80/100 AVG Training Loss:0.454 AVG Validation Loss:0.501 AVG Training Acc 80.56 % AVG Validation Acc 79.97 %\n",
      "Epoch:90/100 AVG Training Loss:0.455 AVG Validation Loss:0.498 AVG Training Acc 80.60 % AVG Validation Acc 79.84 %\n",
      "Epoch    94: reducing learning rate of group 0 to 1.0000e-05.\n",
      "Epoch:100/100 AVG Training Loss:0.454 AVG Validation Loss:0.503 AVG Training Acc 80.80 % AVG Validation Acc 79.84 %\n",
      "Split 245\n"
     ]
    },
    {
     "data": {
      "application/vnd.jupyter.widget-view+json": {
       "model_id": "5b0571525c114ca7959bdbe678657a12",
       "version_major": 2,
       "version_minor": 0
      },
      "text/plain": [
       "  0%|          | 0/100 [00:00<?, ?it/s]"
      ]
     },
     "metadata": {},
     "output_type": "display_data"
    },
    {
     "name": "stdout",
     "output_type": "stream",
     "text": [
      "Epoch:10/100 AVG Training Loss:0.495 AVG Validation Loss:0.483 AVG Training Acc 79.80 % AVG Validation Acc 80.24 %\n",
      "Epoch:20/100 AVG Training Loss:0.488 AVG Validation Loss:0.486 AVG Training Acc 79.89 % AVG Validation Acc 79.97 %\n",
      "Epoch    22: reducing learning rate of group 0 to 1.0000e-03.\n",
      "Epoch:30/100 AVG Training Loss:0.480 AVG Validation Loss:0.487 AVG Training Acc 80.01 % AVG Validation Acc 80.24 %\n",
      "Epoch:40/100 AVG Training Loss:0.473 AVG Validation Loss:0.493 AVG Training Acc 80.11 % AVG Validation Acc 80.11 %\n",
      "Epoch:50/100 AVG Training Loss:0.471 AVG Validation Loss:0.499 AVG Training Acc 80.32 % AVG Validation Acc 80.38 %\n",
      "Epoch    53: reducing learning rate of group 0 to 1.0000e-04.\n",
      "Epoch:60/100 AVG Training Loss:0.468 AVG Validation Loss:0.505 AVG Training Acc 80.47 % AVG Validation Acc 80.24 %\n",
      "Epoch:70/100 AVG Training Loss:0.466 AVG Validation Loss:0.505 AVG Training Acc 80.44 % AVG Validation Acc 80.24 %\n",
      "Epoch:80/100 AVG Training Loss:0.465 AVG Validation Loss:0.508 AVG Training Acc 80.47 % AVG Validation Acc 80.11 %\n",
      "Epoch    84: reducing learning rate of group 0 to 1.0000e-05.\n",
      "Epoch:90/100 AVG Training Loss:0.463 AVG Validation Loss:0.508 AVG Training Acc 80.47 % AVG Validation Acc 79.97 %\n",
      "Epoch:100/100 AVG Training Loss:0.464 AVG Validation Loss:0.507 AVG Training Acc 80.51 % AVG Validation Acc 80.11 %\n",
      "Split 246\n"
     ]
    },
    {
     "data": {
      "application/vnd.jupyter.widget-view+json": {
       "model_id": "f35e7c70d85f4b56894d526c77a93f07",
       "version_major": 2,
       "version_minor": 0
      },
      "text/plain": [
       "  0%|          | 0/100 [00:00<?, ?it/s]"
      ]
     },
     "metadata": {},
     "output_type": "display_data"
    },
    {
     "name": "stdout",
     "output_type": "stream",
     "text": [
      "Epoch:10/100 AVG Training Loss:0.498 AVG Validation Loss:0.496 AVG Training Acc 79.87 % AVG Validation Acc 79.84 %\n",
      "Epoch:20/100 AVG Training Loss:0.489 AVG Validation Loss:0.480 AVG Training Acc 79.95 % AVG Validation Acc 79.17 %\n",
      "Epoch    27: reducing learning rate of group 0 to 1.0000e-03.\n",
      "Epoch:30/100 AVG Training Loss:0.478 AVG Validation Loss:0.485 AVG Training Acc 80.13 % AVG Validation Acc 79.44 %\n",
      "Epoch:40/100 AVG Training Loss:0.470 AVG Validation Loss:0.487 AVG Training Acc 80.50 % AVG Validation Acc 79.57 %\n",
      "Epoch:50/100 AVG Training Loss:0.462 AVG Validation Loss:0.502 AVG Training Acc 80.86 % AVG Validation Acc 79.17 %\n",
      "Epoch    58: reducing learning rate of group 0 to 1.0000e-04.\n",
      "Epoch:60/100 AVG Training Loss:0.447 AVG Validation Loss:0.511 AVG Training Acc 81.22 % AVG Validation Acc 79.44 %\n",
      "Epoch:70/100 AVG Training Loss:0.447 AVG Validation Loss:0.522 AVG Training Acc 81.32 % AVG Validation Acc 78.90 %\n",
      "Epoch:80/100 AVG Training Loss:0.441 AVG Validation Loss:0.525 AVG Training Acc 81.29 % AVG Validation Acc 78.90 %\n",
      "Epoch    89: reducing learning rate of group 0 to 1.0000e-05.\n",
      "Epoch:90/100 AVG Training Loss:0.445 AVG Validation Loss:0.528 AVG Training Acc 81.37 % AVG Validation Acc 78.90 %\n",
      "Epoch:100/100 AVG Training Loss:0.442 AVG Validation Loss:0.530 AVG Training Acc 81.31 % AVG Validation Acc 78.76 %\n",
      "Split 247\n"
     ]
    },
    {
     "data": {
      "application/vnd.jupyter.widget-view+json": {
       "model_id": "e13bc28fa1534d0e8971bcb1eef59c26",
       "version_major": 2,
       "version_minor": 0
      },
      "text/plain": [
       "  0%|          | 0/100 [00:00<?, ?it/s]"
      ]
     },
     "metadata": {},
     "output_type": "display_data"
    },
    {
     "name": "stdout",
     "output_type": "stream",
     "text": [
      "Epoch:10/100 AVG Training Loss:0.497 AVG Validation Loss:0.480 AVG Training Acc 79.81 % AVG Validation Acc 80.75 %\n",
      "Epoch:20/100 AVG Training Loss:0.490 AVG Validation Loss:0.480 AVG Training Acc 79.70 % AVG Validation Acc 80.89 %\n",
      "Epoch    24: reducing learning rate of group 0 to 1.0000e-03.\n",
      "Epoch:30/100 AVG Training Loss:0.478 AVG Validation Loss:0.490 AVG Training Acc 80.07 % AVG Validation Acc 80.48 %\n",
      "Epoch:40/100 AVG Training Loss:0.471 AVG Validation Loss:0.490 AVG Training Acc 80.13 % AVG Validation Acc 80.48 %\n",
      "Epoch:50/100 AVG Training Loss:0.465 AVG Validation Loss:0.495 AVG Training Acc 80.44 % AVG Validation Acc 80.08 %\n",
      "Epoch    55: reducing learning rate of group 0 to 1.0000e-04.\n",
      "Epoch:60/100 AVG Training Loss:0.465 AVG Validation Loss:0.496 AVG Training Acc 80.53 % AVG Validation Acc 80.08 %\n",
      "Epoch:70/100 AVG Training Loss:0.458 AVG Validation Loss:0.497 AVG Training Acc 80.64 % AVG Validation Acc 79.95 %\n",
      "Epoch:80/100 AVG Training Loss:0.457 AVG Validation Loss:0.497 AVG Training Acc 80.73 % AVG Validation Acc 80.22 %\n",
      "Epoch    86: reducing learning rate of group 0 to 1.0000e-05.\n",
      "Epoch:90/100 AVG Training Loss:0.457 AVG Validation Loss:0.499 AVG Training Acc 80.71 % AVG Validation Acc 79.81 %\n",
      "Epoch:100/100 AVG Training Loss:0.457 AVG Validation Loss:0.496 AVG Training Acc 80.83 % AVG Validation Acc 80.22 %\n",
      "Split 248\n"
     ]
    },
    {
     "data": {
      "application/vnd.jupyter.widget-view+json": {
       "model_id": "5d2fae19f6f046dcb9a23457ee44dcc9",
       "version_major": 2,
       "version_minor": 0
      },
      "text/plain": [
       "  0%|          | 0/100 [00:00<?, ?it/s]"
      ]
     },
     "metadata": {},
     "output_type": "display_data"
    },
    {
     "name": "stdout",
     "output_type": "stream",
     "text": [
      "Epoch:10/100 AVG Training Loss:0.496 AVG Validation Loss:0.479 AVG Training Acc 79.74 % AVG Validation Acc 80.48 %\n",
      "Epoch    19: reducing learning rate of group 0 to 1.0000e-03.\n",
      "Epoch:20/100 AVG Training Loss:0.484 AVG Validation Loss:0.478 AVG Training Acc 79.90 % AVG Validation Acc 80.08 %\n",
      "Epoch:30/100 AVG Training Loss:0.476 AVG Validation Loss:0.486 AVG Training Acc 80.28 % AVG Validation Acc 79.95 %\n",
      "Epoch:40/100 AVG Training Loss:0.469 AVG Validation Loss:0.491 AVG Training Acc 80.46 % AVG Validation Acc 79.54 %\n",
      "Epoch:50/100 AVG Training Loss:0.463 AVG Validation Loss:0.500 AVG Training Acc 80.82 % AVG Validation Acc 79.68 %\n",
      "Epoch    50: reducing learning rate of group 0 to 1.0000e-04.\n",
      "Epoch:60/100 AVG Training Loss:0.457 AVG Validation Loss:0.503 AVG Training Acc 80.94 % AVG Validation Acc 79.41 %\n",
      "Epoch:70/100 AVG Training Loss:0.455 AVG Validation Loss:0.503 AVG Training Acc 81.00 % AVG Validation Acc 79.68 %\n",
      "Epoch:80/100 AVG Training Loss:0.455 AVG Validation Loss:0.501 AVG Training Acc 81.02 % AVG Validation Acc 79.41 %\n",
      "Epoch    81: reducing learning rate of group 0 to 1.0000e-05.\n",
      "Epoch:90/100 AVG Training Loss:0.453 AVG Validation Loss:0.503 AVG Training Acc 81.10 % AVG Validation Acc 79.41 %\n",
      "Epoch:100/100 AVG Training Loss:0.454 AVG Validation Loss:0.502 AVG Training Acc 81.17 % AVG Validation Acc 79.54 %\n",
      "Split 249\n"
     ]
    },
    {
     "data": {
      "application/vnd.jupyter.widget-view+json": {
       "model_id": "dc47177437834953a6b9b5f3beafda8a",
       "version_major": 2,
       "version_minor": 0
      },
      "text/plain": [
       "  0%|          | 0/100 [00:00<?, ?it/s]"
      ]
     },
     "metadata": {},
     "output_type": "display_data"
    },
    {
     "name": "stdout",
     "output_type": "stream",
     "text": [
      "Epoch:10/100 AVG Training Loss:0.495 AVG Validation Loss:0.476 AVG Training Acc 79.70 % AVG Validation Acc 81.29 %\n",
      "Epoch:20/100 AVG Training Loss:0.491 AVG Validation Loss:0.474 AVG Training Acc 79.78 % AVG Validation Acc 81.29 %\n",
      "Epoch    24: reducing learning rate of group 0 to 1.0000e-03.\n",
      "Epoch:30/100 AVG Training Loss:0.480 AVG Validation Loss:0.471 AVG Training Acc 80.01 % AVG Validation Acc 81.16 %\n",
      "Epoch:40/100 AVG Training Loss:0.477 AVG Validation Loss:0.471 AVG Training Acc 80.05 % AVG Validation Acc 81.02 %\n",
      "Epoch:50/100 AVG Training Loss:0.470 AVG Validation Loss:0.479 AVG Training Acc 80.22 % AVG Validation Acc 81.02 %\n",
      "Epoch    55: reducing learning rate of group 0 to 1.0000e-04.\n",
      "Epoch:60/100 AVG Training Loss:0.464 AVG Validation Loss:0.483 AVG Training Acc 80.50 % AVG Validation Acc 81.16 %\n",
      "Epoch:70/100 AVG Training Loss:0.463 AVG Validation Loss:0.484 AVG Training Acc 80.35 % AVG Validation Acc 80.89 %\n",
      "Epoch:80/100 AVG Training Loss:0.463 AVG Validation Loss:0.484 AVG Training Acc 80.52 % AVG Validation Acc 80.89 %\n",
      "Epoch    86: reducing learning rate of group 0 to 1.0000e-05.\n",
      "Epoch:90/100 AVG Training Loss:0.462 AVG Validation Loss:0.487 AVG Training Acc 80.53 % AVG Validation Acc 81.02 %\n",
      "Epoch:100/100 AVG Training Loss:0.459 AVG Validation Loss:0.486 AVG Training Acc 80.49 % AVG Validation Acc 80.89 %\n",
      "Split 250\n"
     ]
    },
    {
     "data": {
      "application/vnd.jupyter.widget-view+json": {
       "model_id": "3b0d4bb75c7f4f0c9003019f5b9e3aff",
       "version_major": 2,
       "version_minor": 0
      },
      "text/plain": [
       "  0%|          | 0/100 [00:00<?, ?it/s]"
      ]
     },
     "metadata": {},
     "output_type": "display_data"
    },
    {
     "name": "stdout",
     "output_type": "stream",
     "text": [
      "Epoch:10/100 AVG Training Loss:0.493 AVG Validation Loss:0.525 AVG Training Acc 79.93 % AVG Validation Acc 78.60 %\n",
      "Epoch:20/100 AVG Training Loss:0.485 AVG Validation Loss:0.519 AVG Training Acc 80.01 % AVG Validation Acc 78.47 %\n",
      "Epoch    22: reducing learning rate of group 0 to 1.0000e-03.\n",
      "Epoch:30/100 AVG Training Loss:0.475 AVG Validation Loss:0.515 AVG Training Acc 80.31 % AVG Validation Acc 78.60 %\n",
      "Epoch:40/100 AVG Training Loss:0.468 AVG Validation Loss:0.518 AVG Training Acc 80.53 % AVG Validation Acc 78.20 %\n",
      "Epoch:50/100 AVG Training Loss:0.461 AVG Validation Loss:0.523 AVG Training Acc 80.79 % AVG Validation Acc 78.06 %\n",
      "Epoch    53: reducing learning rate of group 0 to 1.0000e-04.\n",
      "Epoch:60/100 AVG Training Loss:0.457 AVG Validation Loss:0.522 AVG Training Acc 80.88 % AVG Validation Acc 78.06 %\n",
      "Epoch:70/100 AVG Training Loss:0.457 AVG Validation Loss:0.523 AVG Training Acc 81.04 % AVG Validation Acc 78.06 %\n",
      "Epoch:80/100 AVG Training Loss:0.456 AVG Validation Loss:0.524 AVG Training Acc 80.79 % AVG Validation Acc 78.06 %\n",
      "Epoch    84: reducing learning rate of group 0 to 1.0000e-05.\n",
      "Epoch:90/100 AVG Training Loss:0.454 AVG Validation Loss:0.524 AVG Training Acc 81.05 % AVG Validation Acc 77.93 %\n",
      "Epoch:100/100 AVG Training Loss:0.453 AVG Validation Loss:0.523 AVG Training Acc 81.07 % AVG Validation Acc 77.93 %\n",
      "Split 251\n"
     ]
    },
    {
     "data": {
      "application/vnd.jupyter.widget-view+json": {
       "model_id": "4948ef1e3520413a91f5b2c0ab1c844c",
       "version_major": 2,
       "version_minor": 0
      },
      "text/plain": [
       "  0%|          | 0/100 [00:00<?, ?it/s]"
      ]
     },
     "metadata": {},
     "output_type": "display_data"
    },
    {
     "name": "stdout",
     "output_type": "stream",
     "text": [
      "Epoch:10/100 AVG Training Loss:0.495 AVG Validation Loss:0.478 AVG Training Acc 79.77 % AVG Validation Acc 80.78 %\n",
      "Epoch:20/100 AVG Training Loss:0.492 AVG Validation Loss:0.482 AVG Training Acc 79.80 % AVG Validation Acc 80.65 %\n",
      "Epoch    22: reducing learning rate of group 0 to 1.0000e-03.\n",
      "Epoch:30/100 AVG Training Loss:0.483 AVG Validation Loss:0.475 AVG Training Acc 79.86 % AVG Validation Acc 80.65 %\n",
      "Epoch:40/100 AVG Training Loss:0.479 AVG Validation Loss:0.474 AVG Training Acc 79.89 % AVG Validation Acc 80.78 %\n",
      "Epoch:50/100 AVG Training Loss:0.475 AVG Validation Loss:0.473 AVG Training Acc 79.95 % AVG Validation Acc 80.91 %\n",
      "Epoch    53: reducing learning rate of group 0 to 1.0000e-04.\n",
      "Epoch:60/100 AVG Training Loss:0.471 AVG Validation Loss:0.475 AVG Training Acc 80.25 % AVG Validation Acc 80.91 %\n",
      "Epoch:70/100 AVG Training Loss:0.469 AVG Validation Loss:0.476 AVG Training Acc 80.04 % AVG Validation Acc 80.91 %\n",
      "Epoch:80/100 AVG Training Loss:0.471 AVG Validation Loss:0.476 AVG Training Acc 80.02 % AVG Validation Acc 80.91 %\n",
      "Epoch    84: reducing learning rate of group 0 to 1.0000e-05.\n",
      "Epoch:90/100 AVG Training Loss:0.471 AVG Validation Loss:0.476 AVG Training Acc 80.10 % AVG Validation Acc 80.91 %\n",
      "Epoch:100/100 AVG Training Loss:0.471 AVG Validation Loss:0.476 AVG Training Acc 80.08 % AVG Validation Acc 80.91 %\n",
      "Split 252\n"
     ]
    },
    {
     "data": {
      "application/vnd.jupyter.widget-view+json": {
       "model_id": "be276e7bcf9745429e6ee10224925848",
       "version_major": 2,
       "version_minor": 0
      },
      "text/plain": [
       "  0%|          | 0/100 [00:00<?, ?it/s]"
      ]
     },
     "metadata": {},
     "output_type": "display_data"
    },
    {
     "name": "stdout",
     "output_type": "stream",
     "text": [
      "Epoch:10/100 AVG Training Loss:0.496 AVG Validation Loss:0.536 AVG Training Acc 80.13 % AVG Validation Acc 76.61 %\n",
      "Epoch:20/100 AVG Training Loss:0.487 AVG Validation Loss:0.526 AVG Training Acc 80.32 % AVG Validation Acc 76.61 %\n",
      "Epoch:30/100 AVG Training Loss:0.483 AVG Validation Loss:0.532 AVG Training Acc 80.29 % AVG Validation Acc 76.34 %\n",
      "Epoch    31: reducing learning rate of group 0 to 1.0000e-03.\n",
      "Epoch:40/100 AVG Training Loss:0.474 AVG Validation Loss:0.535 AVG Training Acc 80.71 % AVG Validation Acc 76.08 %\n",
      "Epoch:50/100 AVG Training Loss:0.468 AVG Validation Loss:0.540 AVG Training Acc 81.02 % AVG Validation Acc 76.21 %\n",
      "Epoch:60/100 AVG Training Loss:0.464 AVG Validation Loss:0.546 AVG Training Acc 81.02 % AVG Validation Acc 76.21 %\n",
      "Epoch    62: reducing learning rate of group 0 to 1.0000e-04.\n",
      "Epoch:70/100 AVG Training Loss:0.462 AVG Validation Loss:0.542 AVG Training Acc 81.26 % AVG Validation Acc 76.21 %\n",
      "Epoch:80/100 AVG Training Loss:0.460 AVG Validation Loss:0.543 AVG Training Acc 81.28 % AVG Validation Acc 76.21 %\n",
      "Epoch:90/100 AVG Training Loss:0.460 AVG Validation Loss:0.540 AVG Training Acc 81.47 % AVG Validation Acc 76.75 %\n",
      "Epoch    93: reducing learning rate of group 0 to 1.0000e-05.\n",
      "Epoch:100/100 AVG Training Loss:0.459 AVG Validation Loss:0.543 AVG Training Acc 81.49 % AVG Validation Acc 76.48 %\n",
      "Split 253\n"
     ]
    },
    {
     "data": {
      "application/vnd.jupyter.widget-view+json": {
       "model_id": "928087f11e0741e7a92f2ee639ea654d",
       "version_major": 2,
       "version_minor": 0
      },
      "text/plain": [
       "  0%|          | 0/100 [00:00<?, ?it/s]"
      ]
     },
     "metadata": {},
     "output_type": "display_data"
    },
    {
     "name": "stdout",
     "output_type": "stream",
     "text": [
      "Epoch:10/100 AVG Training Loss:0.505 AVG Validation Loss:0.500 AVG Training Acc 79.83 % AVG Validation Acc 80.24 %\n",
      "Epoch    17: reducing learning rate of group 0 to 1.0000e-03.\n",
      "Epoch:20/100 AVG Training Loss:0.501 AVG Validation Loss:0.495 AVG Training Acc 79.83 % AVG Validation Acc 80.24 %\n",
      "Epoch:30/100 AVG Training Loss:0.494 AVG Validation Loss:0.485 AVG Training Acc 79.78 % AVG Validation Acc 80.24 %\n",
      "Epoch:40/100 AVG Training Loss:0.492 AVG Validation Loss:0.482 AVG Training Acc 79.83 % AVG Validation Acc 80.24 %\n",
      "Epoch    49: reducing learning rate of group 0 to 1.0000e-04.\n",
      "Epoch:50/100 AVG Training Loss:0.488 AVG Validation Loss:0.480 AVG Training Acc 79.87 % AVG Validation Acc 80.11 %\n",
      "Epoch:60/100 AVG Training Loss:0.489 AVG Validation Loss:0.480 AVG Training Acc 79.81 % AVG Validation Acc 80.11 %\n",
      "Epoch:70/100 AVG Training Loss:0.489 AVG Validation Loss:0.480 AVG Training Acc 79.81 % AVG Validation Acc 80.11 %\n",
      "Epoch:80/100 AVG Training Loss:0.488 AVG Validation Loss:0.479 AVG Training Acc 79.84 % AVG Validation Acc 80.11 %\n",
      "Epoch:90/100 AVG Training Loss:0.487 AVG Validation Loss:0.480 AVG Training Acc 79.86 % AVG Validation Acc 80.11 %\n",
      "Epoch    92: reducing learning rate of group 0 to 1.0000e-05.\n",
      "Epoch:100/100 AVG Training Loss:0.486 AVG Validation Loss:0.479 AVG Training Acc 79.87 % AVG Validation Acc 80.11 %\n",
      "Split 254\n"
     ]
    },
    {
     "data": {
      "application/vnd.jupyter.widget-view+json": {
       "model_id": "3d9fed04e0404b00a3f78a7d5a828481",
       "version_major": 2,
       "version_minor": 0
      },
      "text/plain": [
       "  0%|          | 0/100 [00:00<?, ?it/s]"
      ]
     },
     "metadata": {},
     "output_type": "display_data"
    },
    {
     "name": "stdout",
     "output_type": "stream",
     "text": [
      "Epoch:10/100 AVG Training Loss:0.492 AVG Validation Loss:0.518 AVG Training Acc 80.04 % AVG Validation Acc 78.36 %\n",
      "Epoch:20/100 AVG Training Loss:0.486 AVG Validation Loss:0.528 AVG Training Acc 79.90 % AVG Validation Acc 77.96 %\n",
      "Epoch:30/100 AVG Training Loss:0.481 AVG Validation Loss:0.524 AVG Training Acc 80.14 % AVG Validation Acc 78.09 %\n",
      "Epoch    32: reducing learning rate of group 0 to 1.0000e-03.\n",
      "Epoch:40/100 AVG Training Loss:0.470 AVG Validation Loss:0.520 AVG Training Acc 80.48 % AVG Validation Acc 77.96 %\n",
      "Epoch:50/100 AVG Training Loss:0.462 AVG Validation Loss:0.527 AVG Training Acc 81.02 % AVG Validation Acc 77.42 %\n",
      "Epoch:60/100 AVG Training Loss:0.455 AVG Validation Loss:0.531 AVG Training Acc 81.08 % AVG Validation Acc 77.42 %\n",
      "Epoch    63: reducing learning rate of group 0 to 1.0000e-04.\n",
      "Epoch:70/100 AVG Training Loss:0.451 AVG Validation Loss:0.535 AVG Training Acc 81.31 % AVG Validation Acc 77.42 %\n",
      "Epoch:80/100 AVG Training Loss:0.449 AVG Validation Loss:0.536 AVG Training Acc 81.37 % AVG Validation Acc 77.55 %\n",
      "Epoch:90/100 AVG Training Loss:0.448 AVG Validation Loss:0.533 AVG Training Acc 81.41 % AVG Validation Acc 77.28 %\n",
      "Epoch    94: reducing learning rate of group 0 to 1.0000e-05.\n",
      "Epoch:100/100 AVG Training Loss:0.449 AVG Validation Loss:0.535 AVG Training Acc 81.46 % AVG Validation Acc 77.42 %\n",
      "Split 255\n"
     ]
    },
    {
     "data": {
      "application/vnd.jupyter.widget-view+json": {
       "model_id": "1e774f75587f4c4094ba4c35add4a75c",
       "version_major": 2,
       "version_minor": 0
      },
      "text/plain": [
       "  0%|          | 0/100 [00:00<?, ?it/s]"
      ]
     },
     "metadata": {},
     "output_type": "display_data"
    },
    {
     "name": "stdout",
     "output_type": "stream",
     "text": [
      "Epoch:10/100 AVG Training Loss:0.505 AVG Validation Loss:0.470 AVG Training Acc 79.65 % AVG Validation Acc 81.85 %\n",
      "Epoch:20/100 AVG Training Loss:0.495 AVG Validation Loss:0.461 AVG Training Acc 79.66 % AVG Validation Acc 81.99 %\n",
      "Epoch:30/100 AVG Training Loss:0.486 AVG Validation Loss:0.460 AVG Training Acc 79.63 % AVG Validation Acc 81.99 %\n",
      "Epoch:40/100 AVG Training Loss:0.481 AVG Validation Loss:0.458 AVG Training Acc 79.83 % AVG Validation Acc 81.99 %\n",
      "Epoch    47: reducing learning rate of group 0 to 1.0000e-03.\n",
      "Epoch:50/100 AVG Training Loss:0.482 AVG Validation Loss:0.462 AVG Training Acc 79.89 % AVG Validation Acc 81.85 %\n",
      "Epoch:60/100 AVG Training Loss:0.469 AVG Validation Loss:0.462 AVG Training Acc 80.14 % AVG Validation Acc 81.85 %\n",
      "Epoch:70/100 AVG Training Loss:0.463 AVG Validation Loss:0.470 AVG Training Acc 80.16 % AVG Validation Acc 81.85 %\n",
      "Epoch    78: reducing learning rate of group 0 to 1.0000e-04.\n",
      "Epoch:80/100 AVG Training Loss:0.454 AVG Validation Loss:0.475 AVG Training Acc 80.45 % AVG Validation Acc 82.12 %\n",
      "Epoch:90/100 AVG Training Loss:0.452 AVG Validation Loss:0.471 AVG Training Acc 80.48 % AVG Validation Acc 82.12 %\n",
      "Epoch:100/100 AVG Training Loss:0.450 AVG Validation Loss:0.476 AVG Training Acc 80.50 % AVG Validation Acc 82.12 %\n",
      "Split 256\n"
     ]
    },
    {
     "data": {
      "application/vnd.jupyter.widget-view+json": {
       "model_id": "295780014f71446a96d72904a17e20fc",
       "version_major": 2,
       "version_minor": 0
      },
      "text/plain": [
       "  0%|          | 0/100 [00:00<?, ?it/s]"
      ]
     },
     "metadata": {},
     "output_type": "display_data"
    },
    {
     "name": "stdout",
     "output_type": "stream",
     "text": [
      "Epoch:10/100 AVG Training Loss:0.495 AVG Validation Loss:0.490 AVG Training Acc 79.74 % AVG Validation Acc 81.05 %\n",
      "Epoch:20/100 AVG Training Loss:0.490 AVG Validation Loss:0.483 AVG Training Acc 79.68 % AVG Validation Acc 81.05 %\n",
      "Epoch    26: reducing learning rate of group 0 to 1.0000e-03.\n",
      "Epoch:30/100 AVG Training Loss:0.477 AVG Validation Loss:0.483 AVG Training Acc 80.05 % AVG Validation Acc 81.18 %\n",
      "Epoch:40/100 AVG Training Loss:0.468 AVG Validation Loss:0.490 AVG Training Acc 80.17 % AVG Validation Acc 80.65 %\n",
      "Epoch:50/100 AVG Training Loss:0.463 AVG Validation Loss:0.490 AVG Training Acc 80.23 % AVG Validation Acc 80.65 %\n",
      "Epoch    57: reducing learning rate of group 0 to 1.0000e-04.\n",
      "Epoch:60/100 AVG Training Loss:0.453 AVG Validation Loss:0.495 AVG Training Acc 80.65 % AVG Validation Acc 80.38 %\n",
      "Epoch:70/100 AVG Training Loss:0.449 AVG Validation Loss:0.495 AVG Training Acc 80.80 % AVG Validation Acc 80.65 %\n",
      "Epoch:80/100 AVG Training Loss:0.449 AVG Validation Loss:0.497 AVG Training Acc 80.90 % AVG Validation Acc 80.38 %\n",
      "Epoch    88: reducing learning rate of group 0 to 1.0000e-05.\n",
      "Epoch:90/100 AVG Training Loss:0.450 AVG Validation Loss:0.496 AVG Training Acc 80.72 % AVG Validation Acc 80.65 %\n",
      "Epoch:100/100 AVG Training Loss:0.449 AVG Validation Loss:0.498 AVG Training Acc 81.11 % AVG Validation Acc 80.65 %\n",
      "Split 257\n"
     ]
    },
    {
     "data": {
      "application/vnd.jupyter.widget-view+json": {
       "model_id": "433e7f9e306f41f788ab1ee89c61ec14",
       "version_major": 2,
       "version_minor": 0
      },
      "text/plain": [
       "  0%|          | 0/100 [00:00<?, ?it/s]"
      ]
     },
     "metadata": {},
     "output_type": "display_data"
    },
    {
     "name": "stdout",
     "output_type": "stream",
     "text": [
      "Epoch:10/100 AVG Training Loss:0.499 AVG Validation Loss:0.483 AVG Training Acc 79.77 % AVG Validation Acc 80.62 %\n",
      "Epoch:20/100 AVG Training Loss:0.493 AVG Validation Loss:0.478 AVG Training Acc 79.75 % AVG Validation Acc 80.62 %\n",
      "Epoch    25: reducing learning rate of group 0 to 1.0000e-03.\n",
      "Epoch:30/100 AVG Training Loss:0.484 AVG Validation Loss:0.484 AVG Training Acc 79.98 % AVG Validation Acc 80.48 %\n",
      "Epoch:40/100 AVG Training Loss:0.480 AVG Validation Loss:0.488 AVG Training Acc 80.05 % AVG Validation Acc 80.35 %\n",
      "Epoch:50/100 AVG Training Loss:0.476 AVG Validation Loss:0.497 AVG Training Acc 80.35 % AVG Validation Acc 80.22 %\n",
      "Epoch    56: reducing learning rate of group 0 to 1.0000e-04.\n",
      "Epoch:60/100 AVG Training Loss:0.473 AVG Validation Loss:0.495 AVG Training Acc 80.29 % AVG Validation Acc 80.22 %\n",
      "Epoch:70/100 AVG Training Loss:0.472 AVG Validation Loss:0.497 AVG Training Acc 80.28 % AVG Validation Acc 80.22 %\n",
      "Epoch:80/100 AVG Training Loss:0.471 AVG Validation Loss:0.497 AVG Training Acc 80.37 % AVG Validation Acc 80.22 %\n",
      "Epoch    87: reducing learning rate of group 0 to 1.0000e-05.\n",
      "Epoch:90/100 AVG Training Loss:0.472 AVG Validation Loss:0.499 AVG Training Acc 80.23 % AVG Validation Acc 80.22 %\n",
      "Epoch:100/100 AVG Training Loss:0.471 AVG Validation Loss:0.498 AVG Training Acc 80.37 % AVG Validation Acc 80.22 %\n",
      "Split 258\n"
     ]
    },
    {
     "data": {
      "application/vnd.jupyter.widget-view+json": {
       "model_id": "42d92a722d51427ea7d34b5c60ff2929",
       "version_major": 2,
       "version_minor": 0
      },
      "text/plain": [
       "  0%|          | 0/100 [00:00<?, ?it/s]"
      ]
     },
     "metadata": {},
     "output_type": "display_data"
    },
    {
     "name": "stdout",
     "output_type": "stream",
     "text": [
      "Epoch:10/100 AVG Training Loss:0.492 AVG Validation Loss:0.499 AVG Training Acc 79.80 % AVG Validation Acc 79.81 %\n",
      "Epoch:20/100 AVG Training Loss:0.489 AVG Validation Loss:0.500 AVG Training Acc 79.84 % AVG Validation Acc 79.68 %\n",
      "Epoch    22: reducing learning rate of group 0 to 1.0000e-03.\n",
      "Epoch:30/100 AVG Training Loss:0.475 AVG Validation Loss:0.506 AVG Training Acc 79.92 % AVG Validation Acc 79.68 %\n",
      "Epoch:40/100 AVG Training Loss:0.465 AVG Validation Loss:0.510 AVG Training Acc 80.13 % AVG Validation Acc 79.95 %\n",
      "Epoch:50/100 AVG Training Loss:0.461 AVG Validation Loss:0.514 AVG Training Acc 80.46 % AVG Validation Acc 79.95 %\n",
      "Epoch    53: reducing learning rate of group 0 to 1.0000e-04.\n",
      "Epoch:60/100 AVG Training Loss:0.455 AVG Validation Loss:0.518 AVG Training Acc 80.64 % AVG Validation Acc 79.68 %\n",
      "Epoch:70/100 AVG Training Loss:0.454 AVG Validation Loss:0.519 AVG Training Acc 80.79 % AVG Validation Acc 79.41 %\n",
      "Epoch:80/100 AVG Training Loss:0.453 AVG Validation Loss:0.524 AVG Training Acc 80.80 % AVG Validation Acc 79.41 %\n",
      "Epoch    84: reducing learning rate of group 0 to 1.0000e-05.\n",
      "Epoch:90/100 AVG Training Loss:0.453 AVG Validation Loss:0.523 AVG Training Acc 80.71 % AVG Validation Acc 79.54 %\n",
      "Epoch:100/100 AVG Training Loss:0.451 AVG Validation Loss:0.524 AVG Training Acc 80.86 % AVG Validation Acc 79.41 %\n",
      "Split 259\n"
     ]
    },
    {
     "data": {
      "application/vnd.jupyter.widget-view+json": {
       "model_id": "5cb7f4feda9741ad883119ee220683a4",
       "version_major": 2,
       "version_minor": 0
      },
      "text/plain": [
       "  0%|          | 0/100 [00:00<?, ?it/s]"
      ]
     },
     "metadata": {},
     "output_type": "display_data"
    },
    {
     "name": "stdout",
     "output_type": "stream",
     "text": [
      "Epoch:10/100 AVG Training Loss:0.497 AVG Validation Loss:0.495 AVG Training Acc 79.78 % AVG Validation Acc 80.08 %\n",
      "Epoch:20/100 AVG Training Loss:0.492 AVG Validation Loss:0.485 AVG Training Acc 79.87 % AVG Validation Acc 80.08 %\n",
      "Epoch:30/100 AVG Training Loss:0.485 AVG Validation Loss:0.477 AVG Training Acc 79.95 % AVG Validation Acc 80.08 %\n",
      "Epoch:40/100 AVG Training Loss:0.478 AVG Validation Loss:0.476 AVG Training Acc 80.19 % AVG Validation Acc 80.08 %\n",
      "Epoch    44: reducing learning rate of group 0 to 1.0000e-03.\n",
      "Epoch:50/100 AVG Training Loss:0.466 AVG Validation Loss:0.486 AVG Training Acc 80.43 % AVG Validation Acc 80.22 %\n",
      "Epoch:60/100 AVG Training Loss:0.460 AVG Validation Loss:0.491 AVG Training Acc 80.76 % AVG Validation Acc 79.81 %\n",
      "Epoch:70/100 AVG Training Loss:0.454 AVG Validation Loss:0.492 AVG Training Acc 80.88 % AVG Validation Acc 80.35 %\n",
      "Epoch    75: reducing learning rate of group 0 to 1.0000e-04.\n",
      "Epoch:80/100 AVG Training Loss:0.451 AVG Validation Loss:0.497 AVG Training Acc 80.94 % AVG Validation Acc 80.08 %\n",
      "Epoch:90/100 AVG Training Loss:0.452 AVG Validation Loss:0.500 AVG Training Acc 80.88 % AVG Validation Acc 80.08 %\n",
      "Epoch:100/100 AVG Training Loss:0.451 AVG Validation Loss:0.492 AVG Training Acc 80.94 % AVG Validation Acc 80.22 %\n",
      "Split 260\n"
     ]
    },
    {
     "data": {
      "application/vnd.jupyter.widget-view+json": {
       "model_id": "ae0aad5c2df749b581a82d6eb6df7cba",
       "version_major": 2,
       "version_minor": 0
      },
      "text/plain": [
       "  0%|          | 0/100 [00:00<?, ?it/s]"
      ]
     },
     "metadata": {},
     "output_type": "display_data"
    },
    {
     "name": "stdout",
     "output_type": "stream",
     "text": [
      "Epoch:10/100 AVG Training Loss:0.491 AVG Validation Loss:0.505 AVG Training Acc 79.93 % AVG Validation Acc 78.87 %\n",
      "Epoch:20/100 AVG Training Loss:0.484 AVG Validation Loss:0.510 AVG Training Acc 79.93 % AVG Validation Acc 78.87 %\n",
      "Epoch:30/100 AVG Training Loss:0.478 AVG Validation Loss:0.514 AVG Training Acc 80.17 % AVG Validation Acc 78.73 %\n",
      "Epoch:40/100 AVG Training Loss:0.470 AVG Validation Loss:0.504 AVG Training Acc 80.17 % AVG Validation Acc 78.87 %\n",
      "Epoch    45: reducing learning rate of group 0 to 1.0000e-03.\n",
      "Epoch:50/100 AVG Training Loss:0.457 AVG Validation Loss:0.504 AVG Training Acc 80.49 % AVG Validation Acc 79.00 %\n",
      "Epoch:60/100 AVG Training Loss:0.444 AVG Validation Loss:0.519 AVG Training Acc 80.76 % AVG Validation Acc 78.73 %\n",
      "Epoch:70/100 AVG Training Loss:0.437 AVG Validation Loss:0.530 AVG Training Acc 80.94 % AVG Validation Acc 78.06 %\n",
      "Epoch    76: reducing learning rate of group 0 to 1.0000e-04.\n",
      "Epoch:80/100 AVG Training Loss:0.428 AVG Validation Loss:0.532 AVG Training Acc 81.10 % AVG Validation Acc 76.85 %\n",
      "Epoch:90/100 AVG Training Loss:0.430 AVG Validation Loss:0.535 AVG Training Acc 81.00 % AVG Validation Acc 76.99 %\n",
      "Epoch:100/100 AVG Training Loss:0.426 AVG Validation Loss:0.543 AVG Training Acc 81.19 % AVG Validation Acc 76.85 %\n",
      "Split 261\n"
     ]
    },
    {
     "data": {
      "application/vnd.jupyter.widget-view+json": {
       "model_id": "64fa205dfe1b47399aa7a5c864c75616",
       "version_major": 2,
       "version_minor": 0
      },
      "text/plain": [
       "  0%|          | 0/100 [00:00<?, ?it/s]"
      ]
     },
     "metadata": {},
     "output_type": "display_data"
    },
    {
     "name": "stdout",
     "output_type": "stream",
     "text": [
      "Epoch:10/100 AVG Training Loss:0.497 AVG Validation Loss:0.469 AVG Training Acc 79.68 % AVG Validation Acc 81.59 %\n",
      "Epoch:20/100 AVG Training Loss:0.493 AVG Validation Loss:0.471 AVG Training Acc 79.71 % AVG Validation Acc 81.45 %\n",
      "Epoch:30/100 AVG Training Loss:0.486 AVG Validation Loss:0.471 AVG Training Acc 79.72 % AVG Validation Acc 81.32 %\n",
      "Epoch    39: reducing learning rate of group 0 to 1.0000e-03.\n",
      "Epoch:40/100 AVG Training Loss:0.475 AVG Validation Loss:0.474 AVG Training Acc 79.86 % AVG Validation Acc 81.59 %\n",
      "Epoch:50/100 AVG Training Loss:0.463 AVG Validation Loss:0.477 AVG Training Acc 80.25 % AVG Validation Acc 81.45 %\n",
      "Epoch:60/100 AVG Training Loss:0.449 AVG Validation Loss:0.482 AVG Training Acc 80.77 % AVG Validation Acc 81.32 %\n",
      "Epoch:70/100 AVG Training Loss:0.445 AVG Validation Loss:0.492 AVG Training Acc 80.80 % AVG Validation Acc 81.72 %\n",
      "Epoch    70: reducing learning rate of group 0 to 1.0000e-04.\n",
      "Epoch:80/100 AVG Training Loss:0.437 AVG Validation Loss:0.495 AVG Training Acc 81.35 % AVG Validation Acc 81.45 %\n",
      "Epoch:90/100 AVG Training Loss:0.437 AVG Validation Loss:0.502 AVG Training Acc 81.32 % AVG Validation Acc 80.91 %\n",
      "Epoch:100/100 AVG Training Loss:0.435 AVG Validation Loss:0.497 AVG Training Acc 81.56 % AVG Validation Acc 81.32 %\n",
      "Split 262\n"
     ]
    },
    {
     "data": {
      "application/vnd.jupyter.widget-view+json": {
       "model_id": "4f5a00400f2f4fee91cdfbca99c81802",
       "version_major": 2,
       "version_minor": 0
      },
      "text/plain": [
       "  0%|          | 0/100 [00:00<?, ?it/s]"
      ]
     },
     "metadata": {},
     "output_type": "display_data"
    },
    {
     "name": "stdout",
     "output_type": "stream",
     "text": [
      "Epoch:10/100 AVG Training Loss:0.496 AVG Validation Loss:0.489 AVG Training Acc 79.77 % AVG Validation Acc 80.38 %\n",
      "Epoch:20/100 AVG Training Loss:0.489 AVG Validation Loss:0.491 AVG Training Acc 80.01 % AVG Validation Acc 79.84 %\n",
      "Epoch    29: reducing learning rate of group 0 to 1.0000e-03.\n",
      "Epoch:30/100 AVG Training Loss:0.478 AVG Validation Loss:0.489 AVG Training Acc 80.02 % AVG Validation Acc 79.97 %\n",
      "Epoch:40/100 AVG Training Loss:0.467 AVG Validation Loss:0.500 AVG Training Acc 80.59 % AVG Validation Acc 80.11 %\n",
      "Epoch:50/100 AVG Training Loss:0.462 AVG Validation Loss:0.512 AVG Training Acc 80.65 % AVG Validation Acc 79.57 %\n",
      "Epoch:60/100 AVG Training Loss:0.457 AVG Validation Loss:0.520 AVG Training Acc 80.71 % AVG Validation Acc 79.70 %\n",
      "Epoch    60: reducing learning rate of group 0 to 1.0000e-04.\n",
      "Epoch:70/100 AVG Training Loss:0.453 AVG Validation Loss:0.521 AVG Training Acc 80.84 % AVG Validation Acc 79.84 %\n",
      "Epoch:80/100 AVG Training Loss:0.453 AVG Validation Loss:0.526 AVG Training Acc 80.72 % AVG Validation Acc 79.84 %\n",
      "Epoch:90/100 AVG Training Loss:0.451 AVG Validation Loss:0.522 AVG Training Acc 80.78 % AVG Validation Acc 79.70 %\n",
      "Epoch    91: reducing learning rate of group 0 to 1.0000e-05.\n",
      "Epoch:100/100 AVG Training Loss:0.451 AVG Validation Loss:0.527 AVG Training Acc 80.81 % AVG Validation Acc 79.57 %\n",
      "Split 263\n"
     ]
    },
    {
     "data": {
      "application/vnd.jupyter.widget-view+json": {
       "model_id": "58daa4e7dc89483f8cb119340538f2ea",
       "version_major": 2,
       "version_minor": 0
      },
      "text/plain": [
       "  0%|          | 0/100 [00:00<?, ?it/s]"
      ]
     },
     "metadata": {},
     "output_type": "display_data"
    },
    {
     "name": "stdout",
     "output_type": "stream",
     "text": [
      "Epoch:10/100 AVG Training Loss:0.494 AVG Validation Loss:0.512 AVG Training Acc 79.89 % AVG Validation Acc 79.17 %\n",
      "Epoch:20/100 AVG Training Loss:0.488 AVG Validation Loss:0.511 AVG Training Acc 79.87 % AVG Validation Acc 79.17 %\n",
      "Epoch:30/100 AVG Training Loss:0.481 AVG Validation Loss:0.520 AVG Training Acc 80.05 % AVG Validation Acc 79.03 %\n",
      "Epoch    33: reducing learning rate of group 0 to 1.0000e-03.\n",
      "Epoch:40/100 AVG Training Loss:0.467 AVG Validation Loss:0.514 AVG Training Acc 80.29 % AVG Validation Acc 78.63 %\n",
      "Epoch:50/100 AVG Training Loss:0.460 AVG Validation Loss:0.520 AVG Training Acc 80.48 % AVG Validation Acc 78.63 %\n",
      "Epoch:60/100 AVG Training Loss:0.453 AVG Validation Loss:0.522 AVG Training Acc 80.72 % AVG Validation Acc 78.76 %\n",
      "Epoch    64: reducing learning rate of group 0 to 1.0000e-04.\n",
      "Epoch:70/100 AVG Training Loss:0.446 AVG Validation Loss:0.529 AVG Training Acc 80.90 % AVG Validation Acc 78.49 %\n",
      "Epoch:80/100 AVG Training Loss:0.446 AVG Validation Loss:0.526 AVG Training Acc 80.98 % AVG Validation Acc 78.49 %\n",
      "Epoch:90/100 AVG Training Loss:0.446 AVG Validation Loss:0.528 AVG Training Acc 80.84 % AVG Validation Acc 78.49 %\n",
      "Epoch    95: reducing learning rate of group 0 to 1.0000e-05.\n",
      "Epoch:100/100 AVG Training Loss:0.445 AVG Validation Loss:0.527 AVG Training Acc 80.93 % AVG Validation Acc 78.49 %\n",
      "Split 264\n"
     ]
    },
    {
     "data": {
      "application/vnd.jupyter.widget-view+json": {
       "model_id": "f1acbc964bb3410a91e282a683c44071",
       "version_major": 2,
       "version_minor": 0
      },
      "text/plain": [
       "  0%|          | 0/100 [00:00<?, ?it/s]"
      ]
     },
     "metadata": {},
     "output_type": "display_data"
    },
    {
     "name": "stdout",
     "output_type": "stream",
     "text": [
      "Epoch:10/100 AVG Training Loss:0.497 AVG Validation Loss:0.488 AVG Training Acc 79.77 % AVG Validation Acc 80.38 %\n",
      "Epoch:20/100 AVG Training Loss:0.491 AVG Validation Loss:0.481 AVG Training Acc 79.74 % AVG Validation Acc 80.38 %\n",
      "Epoch:30/100 AVG Training Loss:0.490 AVG Validation Loss:0.481 AVG Training Acc 79.81 % AVG Validation Acc 80.51 %\n",
      "Epoch    34: reducing learning rate of group 0 to 1.0000e-03.\n",
      "Epoch:40/100 AVG Training Loss:0.477 AVG Validation Loss:0.483 AVG Training Acc 80.02 % AVG Validation Acc 80.24 %\n",
      "Epoch:50/100 AVG Training Loss:0.471 AVG Validation Loss:0.489 AVG Training Acc 80.16 % AVG Validation Acc 80.24 %\n",
      "Epoch:60/100 AVG Training Loss:0.466 AVG Validation Loss:0.492 AVG Training Acc 80.22 % AVG Validation Acc 79.84 %\n",
      "Epoch    65: reducing learning rate of group 0 to 1.0000e-04.\n",
      "Epoch:70/100 AVG Training Loss:0.462 AVG Validation Loss:0.494 AVG Training Acc 80.32 % AVG Validation Acc 79.97 %\n",
      "Epoch:80/100 AVG Training Loss:0.460 AVG Validation Loss:0.495 AVG Training Acc 80.38 % AVG Validation Acc 79.97 %\n",
      "Epoch:90/100 AVG Training Loss:0.461 AVG Validation Loss:0.496 AVG Training Acc 80.57 % AVG Validation Acc 79.97 %\n",
      "Epoch    96: reducing learning rate of group 0 to 1.0000e-05.\n",
      "Epoch:100/100 AVG Training Loss:0.462 AVG Validation Loss:0.494 AVG Training Acc 80.26 % AVG Validation Acc 80.11 %\n",
      "Split 265\n"
     ]
    },
    {
     "data": {
      "application/vnd.jupyter.widget-view+json": {
       "model_id": "6085dffee7e44b9ab5b92453221b15ea",
       "version_major": 2,
       "version_minor": 0
      },
      "text/plain": [
       "  0%|          | 0/100 [00:00<?, ?it/s]"
      ]
     },
     "metadata": {},
     "output_type": "display_data"
    },
    {
     "name": "stdout",
     "output_type": "stream",
     "text": [
      "Epoch:10/100 AVG Training Loss:0.497 AVG Validation Loss:0.480 AVG Training Acc 79.59 % AVG Validation Acc 81.18 %\n",
      "Epoch:20/100 AVG Training Loss:0.492 AVG Validation Loss:0.468 AVG Training Acc 79.74 % AVG Validation Acc 81.18 %\n",
      "Epoch:30/100 AVG Training Loss:0.487 AVG Validation Loss:0.469 AVG Training Acc 79.74 % AVG Validation Acc 81.18 %\n",
      "Epoch    31: reducing learning rate of group 0 to 1.0000e-03.\n",
      "Epoch:40/100 AVG Training Loss:0.474 AVG Validation Loss:0.466 AVG Training Acc 80.02 % AVG Validation Acc 81.18 %\n",
      "Epoch:50/100 AVG Training Loss:0.468 AVG Validation Loss:0.467 AVG Training Acc 79.99 % AVG Validation Acc 81.18 %\n",
      "Epoch:60/100 AVG Training Loss:0.463 AVG Validation Loss:0.472 AVG Training Acc 80.27 % AVG Validation Acc 80.91 %\n",
      "Epoch    62: reducing learning rate of group 0 to 1.0000e-04.\n",
      "Epoch:70/100 AVG Training Loss:0.461 AVG Validation Loss:0.472 AVG Training Acc 80.14 % AVG Validation Acc 81.32 %\n",
      "Epoch:80/100 AVG Training Loss:0.457 AVG Validation Loss:0.475 AVG Training Acc 80.27 % AVG Validation Acc 81.05 %\n",
      "Epoch:90/100 AVG Training Loss:0.457 AVG Validation Loss:0.475 AVG Training Acc 79.95 % AVG Validation Acc 80.91 %\n",
      "Epoch    93: reducing learning rate of group 0 to 1.0000e-05.\n",
      "Epoch:100/100 AVG Training Loss:0.458 AVG Validation Loss:0.476 AVG Training Acc 80.05 % AVG Validation Acc 81.05 %\n",
      "Split 266\n"
     ]
    },
    {
     "data": {
      "application/vnd.jupyter.widget-view+json": {
       "model_id": "3eb37d21c72746239b37c693fd5e7bd7",
       "version_major": 2,
       "version_minor": 0
      },
      "text/plain": [
       "  0%|          | 0/100 [00:00<?, ?it/s]"
      ]
     },
     "metadata": {},
     "output_type": "display_data"
    },
    {
     "name": "stdout",
     "output_type": "stream",
     "text": [
      "Epoch:10/100 AVG Training Loss:0.495 AVG Validation Loss:0.503 AVG Training Acc 79.93 % AVG Validation Acc 79.30 %\n",
      "Epoch    18: reducing learning rate of group 0 to 1.0000e-03.\n",
      "Epoch:20/100 AVG Training Loss:0.480 AVG Validation Loss:0.504 AVG Training Acc 80.02 % AVG Validation Acc 79.30 %\n",
      "Epoch:30/100 AVG Training Loss:0.475 AVG Validation Loss:0.509 AVG Training Acc 79.98 % AVG Validation Acc 79.17 %\n",
      "Epoch:40/100 AVG Training Loss:0.471 AVG Validation Loss:0.511 AVG Training Acc 80.25 % AVG Validation Acc 79.03 %\n",
      "Epoch    49: reducing learning rate of group 0 to 1.0000e-04.\n",
      "Epoch:50/100 AVG Training Loss:0.466 AVG Validation Loss:0.516 AVG Training Acc 80.48 % AVG Validation Acc 78.76 %\n",
      "Epoch:60/100 AVG Training Loss:0.462 AVG Validation Loss:0.516 AVG Training Acc 80.60 % AVG Validation Acc 78.49 %\n",
      "Epoch:70/100 AVG Training Loss:0.461 AVG Validation Loss:0.517 AVG Training Acc 80.75 % AVG Validation Acc 78.49 %\n",
      "Epoch:80/100 AVG Training Loss:0.461 AVG Validation Loss:0.519 AVG Training Acc 80.66 % AVG Validation Acc 78.36 %\n",
      "Epoch    80: reducing learning rate of group 0 to 1.0000e-05.\n",
      "Epoch:90/100 AVG Training Loss:0.462 AVG Validation Loss:0.517 AVG Training Acc 80.60 % AVG Validation Acc 78.36 %\n",
      "Epoch:100/100 AVG Training Loss:0.460 AVG Validation Loss:0.518 AVG Training Acc 80.71 % AVG Validation Acc 78.49 %\n",
      "Split 267\n"
     ]
    },
    {
     "data": {
      "application/vnd.jupyter.widget-view+json": {
       "model_id": "2ebefd860cf142ca8321b966aff759ee",
       "version_major": 2,
       "version_minor": 0
      },
      "text/plain": [
       "  0%|          | 0/100 [00:00<?, ?it/s]"
      ]
     },
     "metadata": {},
     "output_type": "display_data"
    },
    {
     "name": "stdout",
     "output_type": "stream",
     "text": [
      "Epoch:10/100 AVG Training Loss:0.498 AVG Validation Loss:0.490 AVG Training Acc 79.81 % AVG Validation Acc 79.95 %\n",
      "Epoch    19: reducing learning rate of group 0 to 1.0000e-03.\n",
      "Epoch:20/100 AVG Training Loss:0.484 AVG Validation Loss:0.491 AVG Training Acc 79.84 % AVG Validation Acc 80.08 %\n",
      "Epoch:30/100 AVG Training Loss:0.481 AVG Validation Loss:0.492 AVG Training Acc 79.96 % AVG Validation Acc 80.08 %\n",
      "Epoch:40/100 AVG Training Loss:0.477 AVG Validation Loss:0.491 AVG Training Acc 80.01 % AVG Validation Acc 80.08 %\n",
      "Epoch:50/100 AVG Training Loss:0.474 AVG Validation Loss:0.498 AVG Training Acc 80.17 % AVG Validation Acc 79.95 %\n",
      "Epoch    50: reducing learning rate of group 0 to 1.0000e-04.\n",
      "Epoch:60/100 AVG Training Loss:0.470 AVG Validation Loss:0.498 AVG Training Acc 80.34 % AVG Validation Acc 79.68 %\n",
      "Epoch:70/100 AVG Training Loss:0.469 AVG Validation Loss:0.498 AVG Training Acc 80.17 % AVG Validation Acc 79.54 %\n",
      "Epoch:80/100 AVG Training Loss:0.467 AVG Validation Loss:0.499 AVG Training Acc 80.34 % AVG Validation Acc 79.54 %\n",
      "Epoch    81: reducing learning rate of group 0 to 1.0000e-05.\n",
      "Epoch:90/100 AVG Training Loss:0.469 AVG Validation Loss:0.499 AVG Training Acc 80.17 % AVG Validation Acc 79.54 %\n",
      "Epoch:100/100 AVG Training Loss:0.467 AVG Validation Loss:0.499 AVG Training Acc 80.32 % AVG Validation Acc 79.54 %\n",
      "Split 268\n"
     ]
    },
    {
     "data": {
      "application/vnd.jupyter.widget-view+json": {
       "model_id": "372a512650144f10bbb1a1e6981a3524",
       "version_major": 2,
       "version_minor": 0
      },
      "text/plain": [
       "  0%|          | 0/100 [00:00<?, ?it/s]"
      ]
     },
     "metadata": {},
     "output_type": "display_data"
    },
    {
     "name": "stdout",
     "output_type": "stream",
     "text": [
      "Epoch:10/100 AVG Training Loss:0.493 AVG Validation Loss:0.524 AVG Training Acc 79.86 % AVG Validation Acc 79.00 %\n",
      "Epoch:20/100 AVG Training Loss:0.489 AVG Validation Loss:0.502 AVG Training Acc 79.99 % AVG Validation Acc 78.73 %\n",
      "Epoch:30/100 AVG Training Loss:0.484 AVG Validation Loss:0.502 AVG Training Acc 79.95 % AVG Validation Acc 78.73 %\n",
      "Epoch    31: reducing learning rate of group 0 to 1.0000e-03.\n",
      "Epoch:40/100 AVG Training Loss:0.466 AVG Validation Loss:0.509 AVG Training Acc 80.53 % AVG Validation Acc 78.73 %\n",
      "Epoch:50/100 AVG Training Loss:0.459 AVG Validation Loss:0.517 AVG Training Acc 80.71 % AVG Validation Acc 78.60 %\n",
      "Epoch:60/100 AVG Training Loss:0.452 AVG Validation Loss:0.525 AVG Training Acc 81.28 % AVG Validation Acc 78.47 %\n",
      "Epoch    62: reducing learning rate of group 0 to 1.0000e-04.\n",
      "Epoch:70/100 AVG Training Loss:0.449 AVG Validation Loss:0.523 AVG Training Acc 81.26 % AVG Validation Acc 78.20 %\n",
      "Epoch:80/100 AVG Training Loss:0.447 AVG Validation Loss:0.527 AVG Training Acc 81.46 % AVG Validation Acc 78.33 %\n",
      "Epoch:90/100 AVG Training Loss:0.447 AVG Validation Loss:0.526 AVG Training Acc 81.32 % AVG Validation Acc 78.20 %\n",
      "Epoch    93: reducing learning rate of group 0 to 1.0000e-05.\n",
      "Epoch:100/100 AVG Training Loss:0.446 AVG Validation Loss:0.526 AVG Training Acc 81.62 % AVG Validation Acc 78.06 %\n",
      "Split 269\n"
     ]
    },
    {
     "data": {
      "application/vnd.jupyter.widget-view+json": {
       "model_id": "9b4b7dceef04416fa28d87c75d302853",
       "version_major": 2,
       "version_minor": 0
      },
      "text/plain": [
       "  0%|          | 0/100 [00:00<?, ?it/s]"
      ]
     },
     "metadata": {},
     "output_type": "display_data"
    },
    {
     "name": "stdout",
     "output_type": "stream",
     "text": [
      "Epoch:10/100 AVG Training Loss:0.496 AVG Validation Loss:0.471 AVG Training Acc 79.73 % AVG Validation Acc 80.89 %\n",
      "Epoch:20/100 AVG Training Loss:0.493 AVG Validation Loss:0.473 AVG Training Acc 79.74 % AVG Validation Acc 81.02 %\n",
      "Epoch:30/100 AVG Training Loss:0.486 AVG Validation Loss:0.468 AVG Training Acc 79.86 % AVG Validation Acc 81.02 %\n",
      "Epoch    33: reducing learning rate of group 0 to 1.0000e-03.\n",
      "Epoch:40/100 AVG Training Loss:0.470 AVG Validation Loss:0.476 AVG Training Acc 80.20 % AVG Validation Acc 80.62 %\n",
      "Epoch:50/100 AVG Training Loss:0.457 AVG Validation Loss:0.481 AVG Training Acc 80.59 % AVG Validation Acc 80.08 %\n",
      "Epoch:60/100 AVG Training Loss:0.458 AVG Validation Loss:0.493 AVG Training Acc 80.44 % AVG Validation Acc 80.35 %\n",
      "Epoch    64: reducing learning rate of group 0 to 1.0000e-04.\n",
      "Epoch:70/100 AVG Training Loss:0.458 AVG Validation Loss:0.489 AVG Training Acc 80.55 % AVG Validation Acc 79.68 %\n",
      "Epoch:80/100 AVG Training Loss:0.453 AVG Validation Loss:0.486 AVG Training Acc 80.71 % AVG Validation Acc 79.68 %\n",
      "Epoch:90/100 AVG Training Loss:0.450 AVG Validation Loss:0.485 AVG Training Acc 80.83 % AVG Validation Acc 80.08 %\n",
      "Epoch    95: reducing learning rate of group 0 to 1.0000e-05.\n",
      "Epoch:100/100 AVG Training Loss:0.452 AVG Validation Loss:0.488 AVG Training Acc 80.74 % AVG Validation Acc 79.95 %\n",
      "Split 270\n"
     ]
    },
    {
     "data": {
      "application/vnd.jupyter.widget-view+json": {
       "model_id": "d0cd0e3c2b9844c58dd88119ed2012fb",
       "version_major": 2,
       "version_minor": 0
      },
      "text/plain": [
       "  0%|          | 0/100 [00:00<?, ?it/s]"
      ]
     },
     "metadata": {},
     "output_type": "display_data"
    },
    {
     "name": "stdout",
     "output_type": "stream",
     "text": [
      "Epoch:10/100 AVG Training Loss:0.489 AVG Validation Loss:0.538 AVG Training Acc 80.25 % AVG Validation Acc 76.45 %\n",
      "Epoch:20/100 AVG Training Loss:0.485 AVG Validation Loss:0.536 AVG Training Acc 80.28 % AVG Validation Acc 76.58 %\n",
      "Epoch:30/100 AVG Training Loss:0.482 AVG Validation Loss:0.540 AVG Training Acc 80.32 % AVG Validation Acc 76.58 %\n",
      "Epoch    35: reducing learning rate of group 0 to 1.0000e-03.\n",
      "Epoch:40/100 AVG Training Loss:0.464 AVG Validation Loss:0.551 AVG Training Acc 80.56 % AVG Validation Acc 76.31 %\n",
      "Epoch:50/100 AVG Training Loss:0.455 AVG Validation Loss:0.557 AVG Training Acc 80.73 % AVG Validation Acc 76.04 %\n",
      "Epoch:60/100 AVG Training Loss:0.450 AVG Validation Loss:0.565 AVG Training Acc 80.95 % AVG Validation Acc 76.04 %\n",
      "Epoch    66: reducing learning rate of group 0 to 1.0000e-04.\n",
      "Epoch:70/100 AVG Training Loss:0.441 AVG Validation Loss:0.569 AVG Training Acc 81.16 % AVG Validation Acc 76.04 %\n",
      "Epoch:80/100 AVG Training Loss:0.439 AVG Validation Loss:0.572 AVG Training Acc 81.05 % AVG Validation Acc 76.18 %\n",
      "Epoch:90/100 AVG Training Loss:0.440 AVG Validation Loss:0.573 AVG Training Acc 81.28 % AVG Validation Acc 75.91 %\n",
      "Epoch    97: reducing learning rate of group 0 to 1.0000e-05.\n",
      "Epoch:100/100 AVG Training Loss:0.438 AVG Validation Loss:0.573 AVG Training Acc 81.23 % AVG Validation Acc 75.77 %\n",
      "Split 271\n"
     ]
    },
    {
     "data": {
      "application/vnd.jupyter.widget-view+json": {
       "model_id": "0aab2a81518c4f9bb0994e23be9fb041",
       "version_major": 2,
       "version_minor": 0
      },
      "text/plain": [
       "  0%|          | 0/100 [00:00<?, ?it/s]"
      ]
     },
     "metadata": {},
     "output_type": "display_data"
    },
    {
     "name": "stdout",
     "output_type": "stream",
     "text": [
      "Epoch:10/100 AVG Training Loss:0.495 AVG Validation Loss:0.479 AVG Training Acc 79.65 % AVG Validation Acc 80.78 %\n",
      "Epoch:20/100 AVG Training Loss:0.489 AVG Validation Loss:0.488 AVG Training Acc 79.84 % AVG Validation Acc 80.78 %\n",
      "Epoch    27: reducing learning rate of group 0 to 1.0000e-03.\n",
      "Epoch:30/100 AVG Training Loss:0.479 AVG Validation Loss:0.485 AVG Training Acc 79.98 % AVG Validation Acc 80.51 %\n",
      "Epoch:40/100 AVG Training Loss:0.471 AVG Validation Loss:0.498 AVG Training Acc 80.11 % AVG Validation Acc 80.51 %\n",
      "Epoch:50/100 AVG Training Loss:0.465 AVG Validation Loss:0.511 AVG Training Acc 80.35 % AVG Validation Acc 80.51 %\n",
      "Epoch    58: reducing learning rate of group 0 to 1.0000e-04.\n",
      "Epoch:60/100 AVG Training Loss:0.455 AVG Validation Loss:0.518 AVG Training Acc 80.42 % AVG Validation Acc 80.38 %\n",
      "Epoch:70/100 AVG Training Loss:0.455 AVG Validation Loss:0.522 AVG Training Acc 80.38 % AVG Validation Acc 80.11 %\n",
      "Epoch:80/100 AVG Training Loss:0.452 AVG Validation Loss:0.520 AVG Training Acc 80.65 % AVG Validation Acc 80.11 %\n",
      "Epoch    89: reducing learning rate of group 0 to 1.0000e-05.\n",
      "Epoch:90/100 AVG Training Loss:0.451 AVG Validation Loss:0.521 AVG Training Acc 80.66 % AVG Validation Acc 80.11 %\n",
      "Epoch:100/100 AVG Training Loss:0.452 AVG Validation Loss:0.519 AVG Training Acc 80.56 % AVG Validation Acc 80.11 %\n",
      "Split 272\n"
     ]
    },
    {
     "data": {
      "application/vnd.jupyter.widget-view+json": {
       "model_id": "81b4d2cce5b84fceac30549b9e7f4703",
       "version_major": 2,
       "version_minor": 0
      },
      "text/plain": [
       "  0%|          | 0/100 [00:00<?, ?it/s]"
      ]
     },
     "metadata": {},
     "output_type": "display_data"
    },
    {
     "name": "stdout",
     "output_type": "stream",
     "text": [
      "Epoch:10/100 AVG Training Loss:0.485 AVG Validation Loss:0.551 AVG Training Acc 80.36 % AVG Validation Acc 75.54 %\n",
      "Epoch:20/100 AVG Training Loss:0.481 AVG Validation Loss:0.554 AVG Training Acc 80.41 % AVG Validation Acc 75.67 %\n",
      "Epoch    26: reducing learning rate of group 0 to 1.0000e-03.\n",
      "Epoch:30/100 AVG Training Loss:0.469 AVG Validation Loss:0.557 AVG Training Acc 80.47 % AVG Validation Acc 75.67 %\n",
      "Epoch:40/100 AVG Training Loss:0.462 AVG Validation Loss:0.561 AVG Training Acc 80.63 % AVG Validation Acc 75.40 %\n",
      "Epoch:50/100 AVG Training Loss:0.455 AVG Validation Loss:0.568 AVG Training Acc 80.96 % AVG Validation Acc 75.13 %\n",
      "Epoch    57: reducing learning rate of group 0 to 1.0000e-04.\n",
      "Epoch:60/100 AVG Training Loss:0.446 AVG Validation Loss:0.573 AVG Training Acc 81.40 % AVG Validation Acc 75.27 %\n",
      "Epoch:70/100 AVG Training Loss:0.443 AVG Validation Loss:0.574 AVG Training Acc 81.43 % AVG Validation Acc 75.27 %\n",
      "Epoch:80/100 AVG Training Loss:0.443 AVG Validation Loss:0.574 AVG Training Acc 81.20 % AVG Validation Acc 75.27 %\n",
      "Epoch    88: reducing learning rate of group 0 to 1.0000e-05.\n",
      "Epoch:90/100 AVG Training Loss:0.438 AVG Validation Loss:0.577 AVG Training Acc 81.29 % AVG Validation Acc 75.40 %\n",
      "Epoch:100/100 AVG Training Loss:0.441 AVG Validation Loss:0.575 AVG Training Acc 81.38 % AVG Validation Acc 75.27 %\n",
      "Split 273\n"
     ]
    },
    {
     "data": {
      "application/vnd.jupyter.widget-view+json": {
       "model_id": "cc9dfc6b086441d98d2f81217110eea9",
       "version_major": 2,
       "version_minor": 0
      },
      "text/plain": [
       "  0%|          | 0/100 [00:00<?, ?it/s]"
      ]
     },
     "metadata": {},
     "output_type": "display_data"
    },
    {
     "name": "stdout",
     "output_type": "stream",
     "text": [
      "Epoch:10/100 AVG Training Loss:0.500 AVG Validation Loss:0.470 AVG Training Acc 79.72 % AVG Validation Acc 80.91 %\n",
      "Epoch:20/100 AVG Training Loss:0.492 AVG Validation Loss:0.470 AVG Training Acc 79.75 % AVG Validation Acc 81.05 %\n",
      "Epoch:30/100 AVG Training Loss:0.484 AVG Validation Loss:0.467 AVG Training Acc 79.95 % AVG Validation Acc 80.65 %\n",
      "Epoch    37: reducing learning rate of group 0 to 1.0000e-03.\n",
      "Epoch:40/100 AVG Training Loss:0.466 AVG Validation Loss:0.470 AVG Training Acc 80.74 % AVG Validation Acc 80.11 %\n",
      "Epoch:50/100 AVG Training Loss:0.456 AVG Validation Loss:0.482 AVG Training Acc 80.98 % AVG Validation Acc 79.97 %\n",
      "Epoch:60/100 AVG Training Loss:0.447 AVG Validation Loss:0.494 AVG Training Acc 81.34 % AVG Validation Acc 79.44 %\n",
      "Epoch    68: reducing learning rate of group 0 to 1.0000e-04.\n",
      "Epoch:70/100 AVG Training Loss:0.442 AVG Validation Loss:0.493 AVG Training Acc 81.55 % AVG Validation Acc 79.97 %\n",
      "Epoch:80/100 AVG Training Loss:0.439 AVG Validation Loss:0.499 AVG Training Acc 81.59 % AVG Validation Acc 79.44 %\n",
      "Epoch:90/100 AVG Training Loss:0.442 AVG Validation Loss:0.496 AVG Training Acc 81.29 % AVG Validation Acc 79.57 %\n",
      "Epoch    99: reducing learning rate of group 0 to 1.0000e-05.\n",
      "Epoch:100/100 AVG Training Loss:0.439 AVG Validation Loss:0.502 AVG Training Acc 81.55 % AVG Validation Acc 79.70 %\n",
      "Split 274\n"
     ]
    },
    {
     "data": {
      "application/vnd.jupyter.widget-view+json": {
       "model_id": "8e89f8ed109c49aeb3874bf5a783eb28",
       "version_major": 2,
       "version_minor": 0
      },
      "text/plain": [
       "  0%|          | 0/100 [00:00<?, ?it/s]"
      ]
     },
     "metadata": {},
     "output_type": "display_data"
    },
    {
     "name": "stdout",
     "output_type": "stream",
     "text": [
      "Epoch:10/100 AVG Training Loss:0.495 AVG Validation Loss:0.489 AVG Training Acc 79.83 % AVG Validation Acc 79.97 %\n",
      "Epoch:20/100 AVG Training Loss:0.488 AVG Validation Loss:0.489 AVG Training Acc 79.90 % AVG Validation Acc 80.11 %\n",
      "Epoch    28: reducing learning rate of group 0 to 1.0000e-03.\n",
      "Epoch:30/100 AVG Training Loss:0.479 AVG Validation Loss:0.486 AVG Training Acc 80.02 % AVG Validation Acc 79.97 %\n",
      "Epoch:40/100 AVG Training Loss:0.474 AVG Validation Loss:0.489 AVG Training Acc 80.11 % AVG Validation Acc 79.84 %\n",
      "Epoch:50/100 AVG Training Loss:0.470 AVG Validation Loss:0.490 AVG Training Acc 80.29 % AVG Validation Acc 79.44 %\n",
      "Epoch    59: reducing learning rate of group 0 to 1.0000e-04.\n",
      "Epoch:60/100 AVG Training Loss:0.465 AVG Validation Loss:0.494 AVG Training Acc 80.57 % AVG Validation Acc 79.44 %\n",
      "Epoch:70/100 AVG Training Loss:0.463 AVG Validation Loss:0.499 AVG Training Acc 80.54 % AVG Validation Acc 79.44 %\n",
      "Epoch:80/100 AVG Training Loss:0.462 AVG Validation Loss:0.502 AVG Training Acc 80.63 % AVG Validation Acc 79.17 %\n",
      "Epoch:90/100 AVG Training Loss:0.462 AVG Validation Loss:0.504 AVG Training Acc 80.71 % AVG Validation Acc 79.30 %\n",
      "Epoch    90: reducing learning rate of group 0 to 1.0000e-05.\n",
      "Epoch:100/100 AVG Training Loss:0.461 AVG Validation Loss:0.502 AVG Training Acc 80.66 % AVG Validation Acc 79.17 %\n",
      "Split 275\n"
     ]
    },
    {
     "data": {
      "application/vnd.jupyter.widget-view+json": {
       "model_id": "dc09ad57224a4c79ae642711fa78fbd9",
       "version_major": 2,
       "version_minor": 0
      },
      "text/plain": [
       "  0%|          | 0/100 [00:00<?, ?it/s]"
      ]
     },
     "metadata": {},
     "output_type": "display_data"
    },
    {
     "name": "stdout",
     "output_type": "stream",
     "text": [
      "Epoch:10/100 AVG Training Loss:0.493 AVG Validation Loss:0.491 AVG Training Acc 79.83 % AVG Validation Acc 80.51 %\n",
      "Epoch:20/100 AVG Training Loss:0.489 AVG Validation Loss:0.491 AVG Training Acc 79.86 % AVG Validation Acc 80.38 %\n",
      "Epoch:30/100 AVG Training Loss:0.481 AVG Validation Loss:0.494 AVG Training Acc 79.99 % AVG Validation Acc 80.24 %\n",
      "Epoch    32: reducing learning rate of group 0 to 1.0000e-03.\n",
      "Epoch:40/100 AVG Training Loss:0.463 AVG Validation Loss:0.513 AVG Training Acc 80.59 % AVG Validation Acc 79.57 %\n",
      "Epoch:50/100 AVG Training Loss:0.456 AVG Validation Loss:0.520 AVG Training Acc 80.65 % AVG Validation Acc 79.44 %\n",
      "Epoch:60/100 AVG Training Loss:0.450 AVG Validation Loss:0.527 AVG Training Acc 80.81 % AVG Validation Acc 79.30 %\n",
      "Epoch    63: reducing learning rate of group 0 to 1.0000e-04.\n",
      "Epoch:70/100 AVG Training Loss:0.443 AVG Validation Loss:0.530 AVG Training Acc 81.14 % AVG Validation Acc 79.17 %\n",
      "Epoch:80/100 AVG Training Loss:0.439 AVG Validation Loss:0.534 AVG Training Acc 81.11 % AVG Validation Acc 78.76 %\n",
      "Epoch:90/100 AVG Training Loss:0.441 AVG Validation Loss:0.533 AVG Training Acc 81.14 % AVG Validation Acc 79.03 %\n",
      "Epoch    94: reducing learning rate of group 0 to 1.0000e-05.\n",
      "Epoch:100/100 AVG Training Loss:0.437 AVG Validation Loss:0.533 AVG Training Acc 81.28 % AVG Validation Acc 78.76 %\n",
      "Split 276\n"
     ]
    },
    {
     "data": {
      "application/vnd.jupyter.widget-view+json": {
       "model_id": "4489dfb6f5eb42fd964b8e4ad2fcd48f",
       "version_major": 2,
       "version_minor": 0
      },
      "text/plain": [
       "  0%|          | 0/100 [00:00<?, ?it/s]"
      ]
     },
     "metadata": {},
     "output_type": "display_data"
    },
    {
     "name": "stdout",
     "output_type": "stream",
     "text": [
      "Epoch:10/100 AVG Training Loss:0.498 AVG Validation Loss:0.469 AVG Training Acc 79.65 % AVG Validation Acc 81.72 %\n",
      "Epoch:20/100 AVG Training Loss:0.493 AVG Validation Loss:0.468 AVG Training Acc 79.62 % AVG Validation Acc 81.72 %\n",
      "Epoch:30/100 AVG Training Loss:0.488 AVG Validation Loss:0.462 AVG Training Acc 79.78 % AVG Validation Acc 81.85 %\n",
      "Epoch    34: reducing learning rate of group 0 to 1.0000e-03.\n",
      "Epoch:40/100 AVG Training Loss:0.473 AVG Validation Loss:0.469 AVG Training Acc 79.93 % AVG Validation Acc 81.59 %\n",
      "Epoch:50/100 AVG Training Loss:0.467 AVG Validation Loss:0.478 AVG Training Acc 80.14 % AVG Validation Acc 81.05 %\n",
      "Epoch:60/100 AVG Training Loss:0.463 AVG Validation Loss:0.490 AVG Training Acc 80.20 % AVG Validation Acc 80.91 %\n",
      "Epoch    65: reducing learning rate of group 0 to 1.0000e-04.\n",
      "Epoch:70/100 AVG Training Loss:0.458 AVG Validation Loss:0.497 AVG Training Acc 80.47 % AVG Validation Acc 80.91 %\n",
      "Epoch:80/100 AVG Training Loss:0.454 AVG Validation Loss:0.498 AVG Training Acc 80.51 % AVG Validation Acc 81.05 %\n",
      "Epoch:90/100 AVG Training Loss:0.454 AVG Validation Loss:0.501 AVG Training Acc 80.77 % AVG Validation Acc 80.78 %\n",
      "Epoch    96: reducing learning rate of group 0 to 1.0000e-05.\n",
      "Epoch:100/100 AVG Training Loss:0.456 AVG Validation Loss:0.502 AVG Training Acc 80.53 % AVG Validation Acc 81.05 %\n",
      "Split 277\n"
     ]
    },
    {
     "data": {
      "application/vnd.jupyter.widget-view+json": {
       "model_id": "dbdf9ef6cd59402ab578bd5416949fa3",
       "version_major": 2,
       "version_minor": 0
      },
      "text/plain": [
       "  0%|          | 0/100 [00:00<?, ?it/s]"
      ]
     },
     "metadata": {},
     "output_type": "display_data"
    },
    {
     "name": "stdout",
     "output_type": "stream",
     "text": [
      "Epoch:10/100 AVG Training Loss:0.494 AVG Validation Loss:0.479 AVG Training Acc 79.64 % AVG Validation Acc 81.16 %\n",
      "Epoch:20/100 AVG Training Loss:0.491 AVG Validation Loss:0.470 AVG Training Acc 79.77 % AVG Validation Acc 81.16 %\n",
      "Epoch:30/100 AVG Training Loss:0.487 AVG Validation Loss:0.471 AVG Training Acc 79.64 % AVG Validation Acc 81.02 %\n",
      "Epoch:40/100 AVG Training Loss:0.480 AVG Validation Loss:0.473 AVG Training Acc 79.65 % AVG Validation Acc 81.29 %\n",
      "Epoch    43: reducing learning rate of group 0 to 1.0000e-03.\n",
      "Epoch:50/100 AVG Training Loss:0.471 AVG Validation Loss:0.472 AVG Training Acc 80.05 % AVG Validation Acc 81.29 %\n",
      "Epoch:60/100 AVG Training Loss:0.464 AVG Validation Loss:0.477 AVG Training Acc 80.29 % AVG Validation Acc 81.16 %\n",
      "Epoch:70/100 AVG Training Loss:0.458 AVG Validation Loss:0.491 AVG Training Acc 80.49 % AVG Validation Acc 80.48 %\n",
      "Epoch    74: reducing learning rate of group 0 to 1.0000e-04.\n",
      "Epoch:80/100 AVG Training Loss:0.450 AVG Validation Loss:0.494 AVG Training Acc 80.73 % AVG Validation Acc 80.48 %\n",
      "Epoch:90/100 AVG Training Loss:0.450 AVG Validation Loss:0.491 AVG Training Acc 80.88 % AVG Validation Acc 80.62 %\n",
      "Epoch:100/100 AVG Training Loss:0.448 AVG Validation Loss:0.493 AVG Training Acc 80.65 % AVG Validation Acc 80.89 %\n",
      "Split 278\n"
     ]
    },
    {
     "data": {
      "application/vnd.jupyter.widget-view+json": {
       "model_id": "08ee210f01f548b2a962a8583474ab2d",
       "version_major": 2,
       "version_minor": 0
      },
      "text/plain": [
       "  0%|          | 0/100 [00:00<?, ?it/s]"
      ]
     },
     "metadata": {},
     "output_type": "display_data"
    },
    {
     "name": "stdout",
     "output_type": "stream",
     "text": [
      "Epoch:10/100 AVG Training Loss:0.495 AVG Validation Loss:0.519 AVG Training Acc 79.96 % AVG Validation Acc 78.60 %\n",
      "Epoch:20/100 AVG Training Loss:0.484 AVG Validation Loss:0.533 AVG Training Acc 80.02 % AVG Validation Acc 78.06 %\n",
      "Epoch    25: reducing learning rate of group 0 to 1.0000e-03.\n",
      "Epoch:30/100 AVG Training Loss:0.473 AVG Validation Loss:0.533 AVG Training Acc 80.22 % AVG Validation Acc 78.33 %\n",
      "Epoch:40/100 AVG Training Loss:0.471 AVG Validation Loss:0.535 AVG Training Acc 80.26 % AVG Validation Acc 78.20 %\n",
      "Epoch:50/100 AVG Training Loss:0.466 AVG Validation Loss:0.546 AVG Training Acc 80.28 % AVG Validation Acc 78.20 %\n",
      "Epoch    56: reducing learning rate of group 0 to 1.0000e-04.\n",
      "Epoch:60/100 AVG Training Loss:0.462 AVG Validation Loss:0.553 AVG Training Acc 80.46 % AVG Validation Acc 77.93 %\n",
      "Epoch:70/100 AVG Training Loss:0.459 AVG Validation Loss:0.552 AVG Training Acc 80.43 % AVG Validation Acc 77.93 %\n",
      "Epoch:80/100 AVG Training Loss:0.460 AVG Validation Loss:0.555 AVG Training Acc 80.50 % AVG Validation Acc 77.79 %\n",
      "Epoch    87: reducing learning rate of group 0 to 1.0000e-05.\n",
      "Epoch:90/100 AVG Training Loss:0.458 AVG Validation Loss:0.552 AVG Training Acc 80.52 % AVG Validation Acc 77.93 %\n",
      "Epoch:100/100 AVG Training Loss:0.458 AVG Validation Loss:0.557 AVG Training Acc 80.56 % AVG Validation Acc 77.79 %\n",
      "Split 279\n"
     ]
    },
    {
     "data": {
      "application/vnd.jupyter.widget-view+json": {
       "model_id": "2e6bc2adafaf4382821dee4f19d3008c",
       "version_major": 2,
       "version_minor": 0
      },
      "text/plain": [
       "  0%|          | 0/100 [00:00<?, ?it/s]"
      ]
     },
     "metadata": {},
     "output_type": "display_data"
    },
    {
     "name": "stdout",
     "output_type": "stream",
     "text": [
      "Epoch:10/100 AVG Training Loss:0.491 AVG Validation Loss:0.496 AVG Training Acc 79.86 % AVG Validation Acc 79.41 %\n",
      "Epoch:20/100 AVG Training Loss:0.490 AVG Validation Loss:0.494 AVG Training Acc 79.78 % AVG Validation Acc 79.41 %\n",
      "Epoch    20: reducing learning rate of group 0 to 1.0000e-03.\n",
      "Epoch:30/100 AVG Training Loss:0.479 AVG Validation Loss:0.497 AVG Training Acc 79.96 % AVG Validation Acc 79.41 %\n",
      "Epoch:40/100 AVG Training Loss:0.471 AVG Validation Loss:0.499 AVG Training Acc 80.14 % AVG Validation Acc 79.14 %\n",
      "Epoch:50/100 AVG Training Loss:0.467 AVG Validation Loss:0.502 AVG Training Acc 80.32 % AVG Validation Acc 78.87 %\n",
      "Epoch    51: reducing learning rate of group 0 to 1.0000e-04.\n",
      "Epoch:60/100 AVG Training Loss:0.465 AVG Validation Loss:0.509 AVG Training Acc 80.46 % AVG Validation Acc 78.73 %\n",
      "Epoch:70/100 AVG Training Loss:0.461 AVG Validation Loss:0.511 AVG Training Acc 80.46 % AVG Validation Acc 78.87 %\n",
      "Epoch:80/100 AVG Training Loss:0.461 AVG Validation Loss:0.512 AVG Training Acc 80.52 % AVG Validation Acc 78.73 %\n",
      "Epoch    82: reducing learning rate of group 0 to 1.0000e-05.\n",
      "Epoch:90/100 AVG Training Loss:0.461 AVG Validation Loss:0.512 AVG Training Acc 80.41 % AVG Validation Acc 78.87 %\n",
      "Epoch:100/100 AVG Training Loss:0.461 AVG Validation Loss:0.513 AVG Training Acc 80.56 % AVG Validation Acc 78.73 %\n",
      "Split 280\n"
     ]
    },
    {
     "data": {
      "application/vnd.jupyter.widget-view+json": {
       "model_id": "1b30a94319fa4886a0d7a00ac25ad207",
       "version_major": 2,
       "version_minor": 0
      },
      "text/plain": [
       "  0%|          | 0/100 [00:00<?, ?it/s]"
      ]
     },
     "metadata": {},
     "output_type": "display_data"
    },
    {
     "name": "stdout",
     "output_type": "stream",
     "text": [
      "Epoch:10/100 AVG Training Loss:0.495 AVG Validation Loss:0.495 AVG Training Acc 79.87 % AVG Validation Acc 79.95 %\n",
      "Epoch:20/100 AVG Training Loss:0.490 AVG Validation Loss:0.497 AVG Training Acc 79.81 % AVG Validation Acc 80.08 %\n",
      "Epoch    22: reducing learning rate of group 0 to 1.0000e-03.\n",
      "Epoch:30/100 AVG Training Loss:0.481 AVG Validation Loss:0.493 AVG Training Acc 79.89 % AVG Validation Acc 80.08 %\n",
      "Epoch:40/100 AVG Training Loss:0.479 AVG Validation Loss:0.492 AVG Training Acc 79.93 % AVG Validation Acc 79.95 %\n",
      "Epoch:50/100 AVG Training Loss:0.476 AVG Validation Loss:0.492 AVG Training Acc 79.81 % AVG Validation Acc 80.08 %\n",
      "Epoch    53: reducing learning rate of group 0 to 1.0000e-04.\n",
      "Epoch:60/100 AVG Training Loss:0.470 AVG Validation Loss:0.495 AVG Training Acc 79.86 % AVG Validation Acc 80.08 %\n",
      "Epoch:70/100 AVG Training Loss:0.467 AVG Validation Loss:0.497 AVG Training Acc 79.95 % AVG Validation Acc 80.08 %\n",
      "Epoch:80/100 AVG Training Loss:0.467 AVG Validation Loss:0.497 AVG Training Acc 79.90 % AVG Validation Acc 80.08 %\n",
      "Epoch    84: reducing learning rate of group 0 to 1.0000e-05.\n",
      "Epoch:90/100 AVG Training Loss:0.468 AVG Validation Loss:0.497 AVG Training Acc 79.87 % AVG Validation Acc 80.22 %\n",
      "Epoch:100/100 AVG Training Loss:0.467 AVG Validation Loss:0.497 AVG Training Acc 79.92 % AVG Validation Acc 80.22 %\n",
      "Split 281\n"
     ]
    },
    {
     "data": {
      "application/vnd.jupyter.widget-view+json": {
       "model_id": "f03ae68b7db34f6ab82b2d6d5e6c22fc",
       "version_major": 2,
       "version_minor": 0
      },
      "text/plain": [
       "  0%|          | 0/100 [00:00<?, ?it/s]"
      ]
     },
     "metadata": {},
     "output_type": "display_data"
    },
    {
     "name": "stdout",
     "output_type": "stream",
     "text": [
      "Epoch:10/100 AVG Training Loss:0.499 AVG Validation Loss:0.461 AVG Training Acc 79.66 % AVG Validation Acc 81.85 %\n",
      "Epoch:20/100 AVG Training Loss:0.492 AVG Validation Loss:0.455 AVG Training Acc 79.65 % AVG Validation Acc 81.85 %\n",
      "Epoch:30/100 AVG Training Loss:0.486 AVG Validation Loss:0.452 AVG Training Acc 79.77 % AVG Validation Acc 81.85 %\n",
      "Epoch    33: reducing learning rate of group 0 to 1.0000e-03.\n",
      "Epoch:40/100 AVG Training Loss:0.472 AVG Validation Loss:0.452 AVG Training Acc 80.08 % AVG Validation Acc 81.85 %\n",
      "Epoch:50/100 AVG Training Loss:0.466 AVG Validation Loss:0.452 AVG Training Acc 80.30 % AVG Validation Acc 81.99 %\n",
      "Epoch:60/100 AVG Training Loss:0.459 AVG Validation Loss:0.463 AVG Training Acc 80.42 % AVG Validation Acc 81.85 %\n",
      "Epoch    64: reducing learning rate of group 0 to 1.0000e-04.\n",
      "Epoch:70/100 AVG Training Loss:0.456 AVG Validation Loss:0.456 AVG Training Acc 80.56 % AVG Validation Acc 82.39 %\n",
      "Epoch:80/100 AVG Training Loss:0.454 AVG Validation Loss:0.456 AVG Training Acc 80.63 % AVG Validation Acc 82.39 %\n",
      "Epoch:90/100 AVG Training Loss:0.455 AVG Validation Loss:0.456 AVG Training Acc 80.62 % AVG Validation Acc 82.39 %\n",
      "Epoch    95: reducing learning rate of group 0 to 1.0000e-05.\n",
      "Epoch:100/100 AVG Training Loss:0.453 AVG Validation Loss:0.454 AVG Training Acc 80.54 % AVG Validation Acc 82.39 %\n",
      "Split 282\n"
     ]
    },
    {
     "data": {
      "application/vnd.jupyter.widget-view+json": {
       "model_id": "da4b690f280944039c624487f469207c",
       "version_major": 2,
       "version_minor": 0
      },
      "text/plain": [
       "  0%|          | 0/100 [00:00<?, ?it/s]"
      ]
     },
     "metadata": {},
     "output_type": "display_data"
    },
    {
     "name": "stdout",
     "output_type": "stream",
     "text": [
      "Epoch:10/100 AVG Training Loss:0.497 AVG Validation Loss:0.490 AVG Training Acc 79.74 % AVG Validation Acc 80.38 %\n",
      "Epoch:20/100 AVG Training Loss:0.491 AVG Validation Loss:0.480 AVG Training Acc 79.81 % AVG Validation Acc 80.38 %\n",
      "Epoch    28: reducing learning rate of group 0 to 1.0000e-03.\n",
      "Epoch:30/100 AVG Training Loss:0.477 AVG Validation Loss:0.482 AVG Training Acc 79.95 % AVG Validation Acc 80.24 %\n",
      "Epoch:40/100 AVG Training Loss:0.471 AVG Validation Loss:0.486 AVG Training Acc 80.13 % AVG Validation Acc 80.11 %\n",
      "Epoch:50/100 AVG Training Loss:0.459 AVG Validation Loss:0.501 AVG Training Acc 80.63 % AVG Validation Acc 79.84 %\n",
      "Epoch    59: reducing learning rate of group 0 to 1.0000e-04.\n",
      "Epoch:60/100 AVG Training Loss:0.451 AVG Validation Loss:0.507 AVG Training Acc 80.80 % AVG Validation Acc 80.11 %\n",
      "Epoch:70/100 AVG Training Loss:0.449 AVG Validation Loss:0.510 AVG Training Acc 80.72 % AVG Validation Acc 79.70 %\n",
      "Epoch:80/100 AVG Training Loss:0.450 AVG Validation Loss:0.512 AVG Training Acc 80.90 % AVG Validation Acc 79.84 %\n",
      "Epoch:90/100 AVG Training Loss:0.448 AVG Validation Loss:0.513 AVG Training Acc 81.08 % AVG Validation Acc 79.70 %\n",
      "Epoch    90: reducing learning rate of group 0 to 1.0000e-05.\n",
      "Epoch:100/100 AVG Training Loss:0.449 AVG Validation Loss:0.513 AVG Training Acc 80.96 % AVG Validation Acc 79.44 %\n",
      "Split 283\n"
     ]
    },
    {
     "data": {
      "application/vnd.jupyter.widget-view+json": {
       "model_id": "29218767ea2f44d3b7b3513af0ad10ff",
       "version_major": 2,
       "version_minor": 0
      },
      "text/plain": [
       "  0%|          | 0/100 [00:00<?, ?it/s]"
      ]
     },
     "metadata": {},
     "output_type": "display_data"
    },
    {
     "name": "stdout",
     "output_type": "stream",
     "text": [
      "Epoch:10/100 AVG Training Loss:0.499 AVG Validation Loss:0.458 AVG Training Acc 79.47 % AVG Validation Acc 82.93 %\n",
      "Epoch:20/100 AVG Training Loss:0.494 AVG Validation Loss:0.458 AVG Training Acc 79.47 % AVG Validation Acc 82.93 %\n",
      "Epoch:30/100 AVG Training Loss:0.489 AVG Validation Loss:0.453 AVG Training Acc 79.65 % AVG Validation Acc 82.80 %\n",
      "Epoch    30: reducing learning rate of group 0 to 1.0000e-03.\n",
      "Epoch:40/100 AVG Training Loss:0.473 AVG Validation Loss:0.460 AVG Training Acc 79.90 % AVG Validation Acc 83.06 %\n",
      "Epoch:50/100 AVG Training Loss:0.466 AVG Validation Loss:0.472 AVG Training Acc 80.19 % AVG Validation Acc 82.66 %\n",
      "Epoch:60/100 AVG Training Loss:0.459 AVG Validation Loss:0.497 AVG Training Acc 80.33 % AVG Validation Acc 82.53 %\n",
      "Epoch    61: reducing learning rate of group 0 to 1.0000e-04.\n",
      "Epoch:70/100 AVG Training Loss:0.455 AVG Validation Loss:0.487 AVG Training Acc 80.62 % AVG Validation Acc 82.66 %\n",
      "Epoch:80/100 AVG Training Loss:0.456 AVG Validation Loss:0.495 AVG Training Acc 80.38 % AVG Validation Acc 82.53 %\n",
      "Epoch:90/100 AVG Training Loss:0.453 AVG Validation Loss:0.498 AVG Training Acc 80.66 % AVG Validation Acc 82.66 %\n",
      "Epoch    92: reducing learning rate of group 0 to 1.0000e-05.\n",
      "Epoch:100/100 AVG Training Loss:0.451 AVG Validation Loss:0.499 AVG Training Acc 80.69 % AVG Validation Acc 82.53 %\n",
      "Split 284\n"
     ]
    },
    {
     "data": {
      "application/vnd.jupyter.widget-view+json": {
       "model_id": "8c4b8baf21c44d45af92505666b44e17",
       "version_major": 2,
       "version_minor": 0
      },
      "text/plain": [
       "  0%|          | 0/100 [00:00<?, ?it/s]"
      ]
     },
     "metadata": {},
     "output_type": "display_data"
    },
    {
     "name": "stdout",
     "output_type": "stream",
     "text": [
      "Epoch:10/100 AVG Training Loss:0.506 AVG Validation Loss:0.543 AVG Training Acc 80.20 % AVG Validation Acc 76.75 %\n",
      "Epoch:20/100 AVG Training Loss:0.490 AVG Validation Loss:0.540 AVG Training Acc 80.19 % AVG Validation Acc 76.88 %\n",
      "Epoch:30/100 AVG Training Loss:0.486 AVG Validation Loss:0.544 AVG Training Acc 80.13 % AVG Validation Acc 76.75 %\n",
      "Epoch    37: reducing learning rate of group 0 to 1.0000e-03.\n",
      "Epoch:40/100 AVG Training Loss:0.472 AVG Validation Loss:0.544 AVG Training Acc 80.50 % AVG Validation Acc 76.88 %\n",
      "Epoch:50/100 AVG Training Loss:0.465 AVG Validation Loss:0.551 AVG Training Acc 80.25 % AVG Validation Acc 76.61 %\n",
      "Epoch:60/100 AVG Training Loss:0.459 AVG Validation Loss:0.556 AVG Training Acc 80.96 % AVG Validation Acc 76.34 %\n",
      "Epoch    68: reducing learning rate of group 0 to 1.0000e-04.\n",
      "Epoch:70/100 AVG Training Loss:0.450 AVG Validation Loss:0.566 AVG Training Acc 81.23 % AVG Validation Acc 76.21 %\n",
      "Epoch:80/100 AVG Training Loss:0.447 AVG Validation Loss:0.569 AVG Training Acc 81.35 % AVG Validation Acc 76.08 %\n",
      "Epoch:90/100 AVG Training Loss:0.443 AVG Validation Loss:0.572 AVG Training Acc 81.60 % AVG Validation Acc 75.94 %\n",
      "Epoch    99: reducing learning rate of group 0 to 1.0000e-05.\n",
      "Epoch:100/100 AVG Training Loss:0.446 AVG Validation Loss:0.572 AVG Training Acc 81.44 % AVG Validation Acc 76.34 %\n",
      "Split 285\n"
     ]
    },
    {
     "data": {
      "application/vnd.jupyter.widget-view+json": {
       "model_id": "7821f22b8c204c31855fb05dff4a3c03",
       "version_major": 2,
       "version_minor": 0
      },
      "text/plain": [
       "  0%|          | 0/100 [00:00<?, ?it/s]"
      ]
     },
     "metadata": {},
     "output_type": "display_data"
    },
    {
     "name": "stdout",
     "output_type": "stream",
     "text": [
      "Epoch:10/100 AVG Training Loss:0.494 AVG Validation Loss:0.486 AVG Training Acc 79.81 % AVG Validation Acc 80.11 %\n",
      "Epoch:20/100 AVG Training Loss:0.489 AVG Validation Loss:0.488 AVG Training Acc 79.84 % AVG Validation Acc 80.11 %\n",
      "Epoch    26: reducing learning rate of group 0 to 1.0000e-03.\n",
      "Epoch:30/100 AVG Training Loss:0.475 AVG Validation Loss:0.491 AVG Training Acc 80.22 % AVG Validation Acc 79.97 %\n",
      "Epoch:40/100 AVG Training Loss:0.466 AVG Validation Loss:0.500 AVG Training Acc 80.41 % AVG Validation Acc 79.44 %\n",
      "Epoch:50/100 AVG Training Loss:0.458 AVG Validation Loss:0.508 AVG Training Acc 80.74 % AVG Validation Acc 79.84 %\n",
      "Epoch    57: reducing learning rate of group 0 to 1.0000e-04.\n",
      "Epoch:60/100 AVG Training Loss:0.456 AVG Validation Loss:0.505 AVG Training Acc 80.83 % AVG Validation Acc 79.84 %\n",
      "Epoch:70/100 AVG Training Loss:0.451 AVG Validation Loss:0.510 AVG Training Acc 81.01 % AVG Validation Acc 79.57 %\n",
      "Epoch:80/100 AVG Training Loss:0.451 AVG Validation Loss:0.507 AVG Training Acc 80.89 % AVG Validation Acc 79.84 %\n",
      "Epoch    88: reducing learning rate of group 0 to 1.0000e-05.\n",
      "Epoch:90/100 AVG Training Loss:0.448 AVG Validation Loss:0.509 AVG Training Acc 81.08 % AVG Validation Acc 79.70 %\n",
      "Epoch:100/100 AVG Training Loss:0.450 AVG Validation Loss:0.508 AVG Training Acc 81.29 % AVG Validation Acc 79.70 %\n",
      "Split 286\n"
     ]
    },
    {
     "data": {
      "application/vnd.jupyter.widget-view+json": {
       "model_id": "bfe58c4810dd43cf9768accda9e9bf3f",
       "version_major": 2,
       "version_minor": 0
      },
      "text/plain": [
       "  0%|          | 0/100 [00:00<?, ?it/s]"
      ]
     },
     "metadata": {},
     "output_type": "display_data"
    },
    {
     "name": "stdout",
     "output_type": "stream",
     "text": [
      "Epoch:10/100 AVG Training Loss:0.496 AVG Validation Loss:0.508 AVG Training Acc 80.04 % AVG Validation Acc 78.09 %\n",
      "Epoch:20/100 AVG Training Loss:0.488 AVG Validation Loss:0.499 AVG Training Acc 80.07 % AVG Validation Acc 77.96 %\n",
      "Epoch:30/100 AVG Training Loss:0.483 AVG Validation Loss:0.515 AVG Training Acc 80.08 % AVG Validation Acc 77.82 %\n",
      "Epoch:40/100 AVG Training Loss:0.480 AVG Validation Loss:0.510 AVG Training Acc 80.25 % AVG Validation Acc 77.82 %\n",
      "Epoch    40: reducing learning rate of group 0 to 1.0000e-03.\n",
      "Epoch:50/100 AVG Training Loss:0.468 AVG Validation Loss:0.510 AVG Training Acc 80.50 % AVG Validation Acc 77.69 %\n",
      "Epoch:60/100 AVG Training Loss:0.460 AVG Validation Loss:0.516 AVG Training Acc 80.75 % AVG Validation Acc 77.69 %\n",
      "Epoch:70/100 AVG Training Loss:0.452 AVG Validation Loss:0.523 AVG Training Acc 81.07 % AVG Validation Acc 77.42 %\n",
      "Epoch    71: reducing learning rate of group 0 to 1.0000e-04.\n",
      "Epoch:80/100 AVG Training Loss:0.448 AVG Validation Loss:0.526 AVG Training Acc 81.34 % AVG Validation Acc 77.55 %\n",
      "Epoch:90/100 AVG Training Loss:0.449 AVG Validation Loss:0.525 AVG Training Acc 81.16 % AVG Validation Acc 77.55 %\n",
      "Epoch:100/100 AVG Training Loss:0.447 AVG Validation Loss:0.528 AVG Training Acc 81.38 % AVG Validation Acc 77.15 %\n",
      "Split 287\n"
     ]
    },
    {
     "data": {
      "application/vnd.jupyter.widget-view+json": {
       "model_id": "57cd005c360f4c4fbcb8921ee513b91b",
       "version_major": 2,
       "version_minor": 0
      },
      "text/plain": [
       "  0%|          | 0/100 [00:00<?, ?it/s]"
      ]
     },
     "metadata": {},
     "output_type": "display_data"
    },
    {
     "name": "stdout",
     "output_type": "stream",
     "text": [
      "Epoch:10/100 AVG Training Loss:0.491 AVG Validation Loss:0.552 AVG Training Acc 80.16 % AVG Validation Acc 76.72 %\n",
      "Epoch:20/100 AVG Training Loss:0.483 AVG Validation Loss:0.528 AVG Training Acc 80.17 % AVG Validation Acc 76.72 %\n",
      "Epoch    20: reducing learning rate of group 0 to 1.0000e-03.\n",
      "Epoch:30/100 AVG Training Loss:0.472 AVG Validation Loss:0.534 AVG Training Acc 80.43 % AVG Validation Acc 76.85 %\n",
      "Epoch:40/100 AVG Training Loss:0.465 AVG Validation Loss:0.538 AVG Training Acc 80.55 % AVG Validation Acc 76.31 %\n",
      "Epoch:50/100 AVG Training Loss:0.456 AVG Validation Loss:0.545 AVG Training Acc 80.79 % AVG Validation Acc 76.58 %\n",
      "Epoch    51: reducing learning rate of group 0 to 1.0000e-04.\n",
      "Epoch:60/100 AVG Training Loss:0.447 AVG Validation Loss:0.551 AVG Training Acc 80.92 % AVG Validation Acc 76.45 %\n",
      "Epoch:70/100 AVG Training Loss:0.447 AVG Validation Loss:0.553 AVG Training Acc 81.04 % AVG Validation Acc 76.45 %\n",
      "Epoch:80/100 AVG Training Loss:0.446 AVG Validation Loss:0.557 AVG Training Acc 81.08 % AVG Validation Acc 76.45 %\n",
      "Epoch    82: reducing learning rate of group 0 to 1.0000e-05.\n",
      "Epoch:90/100 AVG Training Loss:0.446 AVG Validation Loss:0.555 AVG Training Acc 81.05 % AVG Validation Acc 76.31 %\n",
      "Epoch:100/100 AVG Training Loss:0.446 AVG Validation Loss:0.559 AVG Training Acc 80.94 % AVG Validation Acc 76.18 %\n",
      "Split 288\n"
     ]
    },
    {
     "data": {
      "application/vnd.jupyter.widget-view+json": {
       "model_id": "bac4862cfc9445f8a76e4d4a839d49ff",
       "version_major": 2,
       "version_minor": 0
      },
      "text/plain": [
       "  0%|          | 0/100 [00:00<?, ?it/s]"
      ]
     },
     "metadata": {},
     "output_type": "display_data"
    },
    {
     "name": "stdout",
     "output_type": "stream",
     "text": [
      "Epoch:10/100 AVG Training Loss:0.495 AVG Validation Loss:0.475 AVG Training Acc 79.78 % AVG Validation Acc 80.75 %\n",
      "Epoch:20/100 AVG Training Loss:0.492 AVG Validation Loss:0.480 AVG Training Acc 79.68 % AVG Validation Acc 80.62 %\n",
      "Epoch    24: reducing learning rate of group 0 to 1.0000e-03.\n",
      "Epoch:30/100 AVG Training Loss:0.480 AVG Validation Loss:0.471 AVG Training Acc 79.99 % AVG Validation Acc 80.22 %\n",
      "Epoch:40/100 AVG Training Loss:0.476 AVG Validation Loss:0.471 AVG Training Acc 80.11 % AVG Validation Acc 80.35 %\n",
      "Epoch:50/100 AVG Training Loss:0.473 AVG Validation Loss:0.469 AVG Training Acc 80.34 % AVG Validation Acc 80.35 %\n",
      "Epoch:60/100 AVG Training Loss:0.469 AVG Validation Loss:0.470 AVG Training Acc 80.29 % AVG Validation Acc 80.62 %\n",
      "Epoch    62: reducing learning rate of group 0 to 1.0000e-04.\n",
      "Epoch:70/100 AVG Training Loss:0.465 AVG Validation Loss:0.475 AVG Training Acc 80.56 % AVG Validation Acc 80.22 %\n",
      "Epoch:80/100 AVG Training Loss:0.463 AVG Validation Loss:0.474 AVG Training Acc 80.59 % AVG Validation Acc 80.62 %\n",
      "Epoch:90/100 AVG Training Loss:0.463 AVG Validation Loss:0.475 AVG Training Acc 80.64 % AVG Validation Acc 80.22 %\n",
      "Epoch    93: reducing learning rate of group 0 to 1.0000e-05.\n",
      "Epoch:100/100 AVG Training Loss:0.461 AVG Validation Loss:0.474 AVG Training Acc 80.68 % AVG Validation Acc 80.48 %\n",
      "Split 289\n"
     ]
    },
    {
     "data": {
      "application/vnd.jupyter.widget-view+json": {
       "model_id": "eaf5c00d9223466b9e7794dd1adc6d6d",
       "version_major": 2,
       "version_minor": 0
      },
      "text/plain": [
       "  0%|          | 0/100 [00:00<?, ?it/s]"
      ]
     },
     "metadata": {},
     "output_type": "display_data"
    },
    {
     "name": "stdout",
     "output_type": "stream",
     "text": [
      "Epoch:10/100 AVG Training Loss:0.502 AVG Validation Loss:0.487 AVG Training Acc 79.58 % AVG Validation Acc 81.70 %\n",
      "Epoch:20/100 AVG Training Loss:0.493 AVG Validation Loss:0.487 AVG Training Acc 79.61 % AVG Validation Acc 81.56 %\n",
      "Epoch    23: reducing learning rate of group 0 to 1.0000e-03.\n",
      "Epoch:30/100 AVG Training Loss:0.483 AVG Validation Loss:0.483 AVG Training Acc 79.75 % AVG Validation Acc 81.43 %\n",
      "Epoch:40/100 AVG Training Loss:0.479 AVG Validation Loss:0.490 AVG Training Acc 79.75 % AVG Validation Acc 81.43 %\n",
      "Epoch:50/100 AVG Training Loss:0.474 AVG Validation Loss:0.495 AVG Training Acc 79.90 % AVG Validation Acc 81.56 %\n",
      "Epoch    54: reducing learning rate of group 0 to 1.0000e-04.\n",
      "Epoch:60/100 AVG Training Loss:0.469 AVG Validation Loss:0.502 AVG Training Acc 79.96 % AVG Validation Acc 81.43 %\n",
      "Epoch:70/100 AVG Training Loss:0.467 AVG Validation Loss:0.503 AVG Training Acc 80.04 % AVG Validation Acc 81.29 %\n",
      "Epoch:80/100 AVG Training Loss:0.465 AVG Validation Loss:0.505 AVG Training Acc 80.16 % AVG Validation Acc 81.16 %\n",
      "Epoch    85: reducing learning rate of group 0 to 1.0000e-05.\n",
      "Epoch:90/100 AVG Training Loss:0.465 AVG Validation Loss:0.507 AVG Training Acc 80.34 % AVG Validation Acc 81.16 %\n",
      "Epoch:100/100 AVG Training Loss:0.465 AVG Validation Loss:0.506 AVG Training Acc 80.17 % AVG Validation Acc 81.16 %\n",
      "Split 290\n"
     ]
    },
    {
     "data": {
      "application/vnd.jupyter.widget-view+json": {
       "model_id": "53498cc2f86040f1821346a8adfd9583",
       "version_major": 2,
       "version_minor": 0
      },
      "text/plain": [
       "  0%|          | 0/100 [00:00<?, ?it/s]"
      ]
     },
     "metadata": {},
     "output_type": "display_data"
    },
    {
     "name": "stdout",
     "output_type": "stream",
     "text": [
      "Epoch:10/100 AVG Training Loss:0.494 AVG Validation Loss:0.504 AVG Training Acc 80.01 % AVG Validation Acc 79.27 %\n",
      "Epoch:20/100 AVG Training Loss:0.488 AVG Validation Loss:0.508 AVG Training Acc 79.96 % AVG Validation Acc 79.27 %\n",
      "Epoch    25: reducing learning rate of group 0 to 1.0000e-03.\n",
      "Epoch:30/100 AVG Training Loss:0.476 AVG Validation Loss:0.503 AVG Training Acc 80.35 % AVG Validation Acc 79.27 %\n",
      "Epoch:40/100 AVG Training Loss:0.467 AVG Validation Loss:0.514 AVG Training Acc 80.73 % AVG Validation Acc 79.14 %\n",
      "Epoch:50/100 AVG Training Loss:0.460 AVG Validation Loss:0.517 AVG Training Acc 80.91 % AVG Validation Acc 79.00 %\n",
      "Epoch    56: reducing learning rate of group 0 to 1.0000e-04.\n",
      "Epoch:60/100 AVG Training Loss:0.457 AVG Validation Loss:0.519 AVG Training Acc 81.00 % AVG Validation Acc 78.73 %\n",
      "Epoch:70/100 AVG Training Loss:0.455 AVG Validation Loss:0.521 AVG Training Acc 81.07 % AVG Validation Acc 78.73 %\n",
      "Epoch:80/100 AVG Training Loss:0.455 AVG Validation Loss:0.521 AVG Training Acc 81.08 % AVG Validation Acc 78.73 %\n",
      "Epoch    87: reducing learning rate of group 0 to 1.0000e-05.\n",
      "Epoch:90/100 AVG Training Loss:0.452 AVG Validation Loss:0.521 AVG Training Acc 81.16 % AVG Validation Acc 78.87 %\n",
      "Epoch:100/100 AVG Training Loss:0.454 AVG Validation Loss:0.524 AVG Training Acc 81.17 % AVG Validation Acc 78.73 %\n",
      "Split 291\n"
     ]
    },
    {
     "data": {
      "application/vnd.jupyter.widget-view+json": {
       "model_id": "45a64fb4cc2f4fa2a3a647474466dfed",
       "version_major": 2,
       "version_minor": 0
      },
      "text/plain": [
       "  0%|          | 0/100 [00:00<?, ?it/s]"
      ]
     },
     "metadata": {},
     "output_type": "display_data"
    },
    {
     "name": "stdout",
     "output_type": "stream",
     "text": [
      "Epoch:10/100 AVG Training Loss:0.493 AVG Validation Loss:0.495 AVG Training Acc 79.84 % AVG Validation Acc 79.84 %\n",
      "Epoch:20/100 AVG Training Loss:0.487 AVG Validation Loss:0.499 AVG Training Acc 79.80 % AVG Validation Acc 79.70 %\n",
      "Epoch    25: reducing learning rate of group 0 to 1.0000e-03.\n",
      "Epoch:30/100 AVG Training Loss:0.477 AVG Validation Loss:0.499 AVG Training Acc 80.02 % AVG Validation Acc 79.57 %\n",
      "Epoch:40/100 AVG Training Loss:0.469 AVG Validation Loss:0.505 AVG Training Acc 80.45 % AVG Validation Acc 79.57 %\n",
      "Epoch:50/100 AVG Training Loss:0.457 AVG Validation Loss:0.515 AVG Training Acc 80.95 % AVG Validation Acc 79.17 %\n",
      "Epoch    56: reducing learning rate of group 0 to 1.0000e-04.\n",
      "Epoch:60/100 AVG Training Loss:0.450 AVG Validation Loss:0.508 AVG Training Acc 81.01 % AVG Validation Acc 79.57 %\n",
      "Epoch:70/100 AVG Training Loss:0.449 AVG Validation Loss:0.512 AVG Training Acc 81.05 % AVG Validation Acc 79.03 %\n",
      "Epoch:80/100 AVG Training Loss:0.450 AVG Validation Loss:0.517 AVG Training Acc 81.07 % AVG Validation Acc 79.17 %\n",
      "Epoch    87: reducing learning rate of group 0 to 1.0000e-05.\n",
      "Epoch:90/100 AVG Training Loss:0.447 AVG Validation Loss:0.518 AVG Training Acc 81.16 % AVG Validation Acc 79.17 %\n",
      "Epoch:100/100 AVG Training Loss:0.450 AVG Validation Loss:0.514 AVG Training Acc 81.19 % AVG Validation Acc 79.17 %\n",
      "Split 292\n"
     ]
    },
    {
     "data": {
      "application/vnd.jupyter.widget-view+json": {
       "model_id": "ba63e2e61d5e41c6bc2bdbc2c9d27c14",
       "version_major": 2,
       "version_minor": 0
      },
      "text/plain": [
       "  0%|          | 0/100 [00:00<?, ?it/s]"
      ]
     },
     "metadata": {},
     "output_type": "display_data"
    },
    {
     "name": "stdout",
     "output_type": "stream",
     "text": [
      "Epoch:10/100 AVG Training Loss:0.493 AVG Validation Loss:0.497 AVG Training Acc 79.89 % AVG Validation Acc 79.70 %\n",
      "Epoch:20/100 AVG Training Loss:0.489 AVG Validation Loss:0.493 AVG Training Acc 79.89 % AVG Validation Acc 79.70 %\n",
      "Epoch:30/100 AVG Training Loss:0.483 AVG Validation Loss:0.492 AVG Training Acc 79.98 % AVG Validation Acc 79.57 %\n",
      "Epoch    34: reducing learning rate of group 0 to 1.0000e-03.\n",
      "Epoch:40/100 AVG Training Loss:0.497 AVG Validation Loss:0.499 AVG Training Acc 79.89 % AVG Validation Acc 79.70 %\n",
      "Epoch:50/100 AVG Training Loss:0.493 AVG Validation Loss:0.497 AVG Training Acc 79.89 % AVG Validation Acc 79.70 %\n",
      "Epoch:60/100 AVG Training Loss:0.489 AVG Validation Loss:0.498 AVG Training Acc 79.95 % AVG Validation Acc 79.70 %\n",
      "Epoch    65: reducing learning rate of group 0 to 1.0000e-04.\n",
      "Epoch:70/100 AVG Training Loss:0.488 AVG Validation Loss:0.499 AVG Training Acc 80.04 % AVG Validation Acc 79.70 %\n",
      "Epoch:80/100 AVG Training Loss:0.487 AVG Validation Loss:0.499 AVG Training Acc 80.04 % AVG Validation Acc 79.70 %\n",
      "Epoch:90/100 AVG Training Loss:0.484 AVG Validation Loss:0.499 AVG Training Acc 80.16 % AVG Validation Acc 79.70 %\n",
      "Epoch    96: reducing learning rate of group 0 to 1.0000e-05.\n",
      "Epoch:100/100 AVG Training Loss:0.486 AVG Validation Loss:0.499 AVG Training Acc 80.04 % AVG Validation Acc 79.84 %\n",
      "Split 293\n"
     ]
    },
    {
     "data": {
      "application/vnd.jupyter.widget-view+json": {
       "model_id": "2066c9b891fa4c63bf09877ccefa5f79",
       "version_major": 2,
       "version_minor": 0
      },
      "text/plain": [
       "  0%|          | 0/100 [00:00<?, ?it/s]"
      ]
     },
     "metadata": {},
     "output_type": "display_data"
    },
    {
     "name": "stdout",
     "output_type": "stream",
     "text": [
      "Epoch:10/100 AVG Training Loss:0.496 AVG Validation Loss:0.461 AVG Training Acc 79.63 % AVG Validation Acc 81.99 %\n",
      "Epoch:20/100 AVG Training Loss:0.492 AVG Validation Loss:0.460 AVG Training Acc 79.60 % AVG Validation Acc 82.12 %\n",
      "Epoch:30/100 AVG Training Loss:0.482 AVG Validation Loss:0.472 AVG Training Acc 79.60 % AVG Validation Acc 82.12 %\n",
      "Epoch    32: reducing learning rate of group 0 to 1.0000e-03.\n",
      "Epoch:40/100 AVG Training Loss:0.468 AVG Validation Loss:0.473 AVG Training Acc 80.20 % AVG Validation Acc 81.85 %\n",
      "Epoch:50/100 AVG Training Loss:0.458 AVG Validation Loss:0.484 AVG Training Acc 80.53 % AVG Validation Acc 81.72 %\n",
      "Epoch:60/100 AVG Training Loss:0.451 AVG Validation Loss:0.499 AVG Training Acc 80.86 % AVG Validation Acc 81.05 %\n",
      "Epoch    63: reducing learning rate of group 0 to 1.0000e-04.\n",
      "Epoch:70/100 AVG Training Loss:0.445 AVG Validation Loss:0.499 AVG Training Acc 80.92 % AVG Validation Acc 81.05 %\n",
      "Epoch:80/100 AVG Training Loss:0.445 AVG Validation Loss:0.504 AVG Training Acc 80.99 % AVG Validation Acc 80.78 %\n",
      "Epoch:90/100 AVG Training Loss:0.443 AVG Validation Loss:0.498 AVG Training Acc 81.04 % AVG Validation Acc 80.78 %\n",
      "Epoch    94: reducing learning rate of group 0 to 1.0000e-05.\n",
      "Epoch:100/100 AVG Training Loss:0.444 AVG Validation Loss:0.501 AVG Training Acc 80.99 % AVG Validation Acc 80.91 %\n",
      "Split 294\n"
     ]
    },
    {
     "data": {
      "application/vnd.jupyter.widget-view+json": {
       "model_id": "d2bebf386b44466988a39acc2bb11d6d",
       "version_major": 2,
       "version_minor": 0
      },
      "text/plain": [
       "  0%|          | 0/100 [00:00<?, ?it/s]"
      ]
     },
     "metadata": {},
     "output_type": "display_data"
    },
    {
     "name": "stdout",
     "output_type": "stream",
     "text": [
      "Epoch:10/100 AVG Training Loss:0.494 AVG Validation Loss:0.490 AVG Training Acc 79.92 % AVG Validation Acc 79.30 %\n",
      "Epoch:20/100 AVG Training Loss:0.491 AVG Validation Loss:0.493 AVG Training Acc 79.99 % AVG Validation Acc 79.30 %\n",
      "Epoch:30/100 AVG Training Loss:0.489 AVG Validation Loss:0.487 AVG Training Acc 80.04 % AVG Validation Acc 79.30 %\n",
      "Epoch    32: reducing learning rate of group 0 to 1.0000e-03.\n",
      "Epoch:40/100 AVG Training Loss:0.480 AVG Validation Loss:0.486 AVG Training Acc 80.19 % AVG Validation Acc 79.30 %\n",
      "Epoch:50/100 AVG Training Loss:0.473 AVG Validation Loss:0.488 AVG Training Acc 80.41 % AVG Validation Acc 79.03 %\n",
      "Epoch:60/100 AVG Training Loss:0.470 AVG Validation Loss:0.494 AVG Training Acc 80.59 % AVG Validation Acc 79.03 %\n",
      "Epoch    63: reducing learning rate of group 0 to 1.0000e-04.\n",
      "Epoch:70/100 AVG Training Loss:0.466 AVG Validation Loss:0.497 AVG Training Acc 80.60 % AVG Validation Acc 78.76 %\n",
      "Epoch:80/100 AVG Training Loss:0.463 AVG Validation Loss:0.499 AVG Training Acc 80.81 % AVG Validation Acc 78.49 %\n",
      "Epoch:90/100 AVG Training Loss:0.463 AVG Validation Loss:0.499 AVG Training Acc 80.74 % AVG Validation Acc 78.76 %\n",
      "Epoch    94: reducing learning rate of group 0 to 1.0000e-05.\n",
      "Epoch:100/100 AVG Training Loss:0.462 AVG Validation Loss:0.500 AVG Training Acc 80.89 % AVG Validation Acc 78.49 %\n",
      "Split 295\n"
     ]
    },
    {
     "data": {
      "application/vnd.jupyter.widget-view+json": {
       "model_id": "ac4a5f6115ed4d7596127a05ae7682f3",
       "version_major": 2,
       "version_minor": 0
      },
      "text/plain": [
       "  0%|          | 0/100 [00:00<?, ?it/s]"
      ]
     },
     "metadata": {},
     "output_type": "display_data"
    },
    {
     "name": "stdout",
     "output_type": "stream",
     "text": [
      "Epoch:10/100 AVG Training Loss:0.491 AVG Validation Loss:0.501 AVG Training Acc 79.90 % AVG Validation Acc 79.57 %\n",
      "Epoch:20/100 AVG Training Loss:0.485 AVG Validation Loss:0.503 AVG Training Acc 79.95 % AVG Validation Acc 79.44 %\n",
      "Epoch    24: reducing learning rate of group 0 to 1.0000e-03.\n",
      "Epoch:30/100 AVG Training Loss:0.469 AVG Validation Loss:0.505 AVG Training Acc 80.54 % AVG Validation Acc 78.76 %\n",
      "Epoch:40/100 AVG Training Loss:0.460 AVG Validation Loss:0.514 AVG Training Acc 80.54 % AVG Validation Acc 78.76 %\n",
      "Epoch:50/100 AVG Training Loss:0.449 AVG Validation Loss:0.517 AVG Training Acc 80.77 % AVG Validation Acc 78.63 %\n",
      "Epoch    55: reducing learning rate of group 0 to 1.0000e-04.\n",
      "Epoch:60/100 AVG Training Loss:0.441 AVG Validation Loss:0.519 AVG Training Acc 81.11 % AVG Validation Acc 78.63 %\n",
      "Epoch:70/100 AVG Training Loss:0.442 AVG Validation Loss:0.522 AVG Training Acc 81.04 % AVG Validation Acc 78.63 %\n",
      "Epoch:80/100 AVG Training Loss:0.439 AVG Validation Loss:0.526 AVG Training Acc 81.35 % AVG Validation Acc 78.49 %\n",
      "Epoch    86: reducing learning rate of group 0 to 1.0000e-05.\n",
      "Epoch:90/100 AVG Training Loss:0.435 AVG Validation Loss:0.523 AVG Training Acc 81.32 % AVG Validation Acc 78.63 %\n",
      "Epoch:100/100 AVG Training Loss:0.435 AVG Validation Loss:0.521 AVG Training Acc 81.41 % AVG Validation Acc 78.63 %\n",
      "Split 296\n"
     ]
    },
    {
     "data": {
      "application/vnd.jupyter.widget-view+json": {
       "model_id": "980499d88ca8469385f13f11a85f2370",
       "version_major": 2,
       "version_minor": 0
      },
      "text/plain": [
       "  0%|          | 0/100 [00:00<?, ?it/s]"
      ]
     },
     "metadata": {},
     "output_type": "display_data"
    },
    {
     "name": "stdout",
     "output_type": "stream",
     "text": [
      "Epoch:10/100 AVG Training Loss:0.493 AVG Validation Loss:0.513 AVG Training Acc 79.99 % AVG Validation Acc 78.76 %\n",
      "Epoch:20/100 AVG Training Loss:0.487 AVG Validation Loss:0.504 AVG Training Acc 80.04 % AVG Validation Acc 78.63 %\n",
      "Epoch    25: reducing learning rate of group 0 to 1.0000e-03.\n",
      "Epoch:30/100 AVG Training Loss:0.477 AVG Validation Loss:0.503 AVG Training Acc 80.13 % AVG Validation Acc 78.63 %\n",
      "Epoch:40/100 AVG Training Loss:0.472 AVG Validation Loss:0.505 AVG Training Acc 80.42 % AVG Validation Acc 78.76 %\n",
      "Epoch:50/100 AVG Training Loss:0.464 AVG Validation Loss:0.511 AVG Training Acc 80.48 % AVG Validation Acc 78.90 %\n",
      "Epoch    56: reducing learning rate of group 0 to 1.0000e-04.\n",
      "Epoch:60/100 AVG Training Loss:0.457 AVG Validation Loss:0.517 AVG Training Acc 80.96 % AVG Validation Acc 78.36 %\n",
      "Epoch:70/100 AVG Training Loss:0.454 AVG Validation Loss:0.516 AVG Training Acc 81.02 % AVG Validation Acc 78.36 %\n",
      "Epoch:80/100 AVG Training Loss:0.455 AVG Validation Loss:0.518 AVG Training Acc 81.11 % AVG Validation Acc 78.36 %\n",
      "Epoch    87: reducing learning rate of group 0 to 1.0000e-05.\n",
      "Epoch:90/100 AVG Training Loss:0.453 AVG Validation Loss:0.516 AVG Training Acc 81.05 % AVG Validation Acc 78.36 %\n",
      "Epoch:100/100 AVG Training Loss:0.451 AVG Validation Loss:0.517 AVG Training Acc 81.14 % AVG Validation Acc 78.23 %\n",
      "Split 297\n"
     ]
    },
    {
     "data": {
      "application/vnd.jupyter.widget-view+json": {
       "model_id": "e7f113848a8d4d769acfa6d8eab2f844",
       "version_major": 2,
       "version_minor": 0
      },
      "text/plain": [
       "  0%|          | 0/100 [00:00<?, ?it/s]"
      ]
     },
     "metadata": {},
     "output_type": "display_data"
    },
    {
     "name": "stdout",
     "output_type": "stream",
     "text": [
      "Epoch:10/100 AVG Training Loss:0.493 AVG Validation Loss:0.510 AVG Training Acc 80.01 % AVG Validation Acc 78.73 %\n",
      "Epoch:20/100 AVG Training Loss:0.488 AVG Validation Loss:0.507 AVG Training Acc 79.96 % AVG Validation Acc 79.14 %\n",
      "Epoch    24: reducing learning rate of group 0 to 1.0000e-03.\n",
      "Epoch:30/100 AVG Training Loss:0.474 AVG Validation Loss:0.518 AVG Training Acc 80.14 % AVG Validation Acc 79.14 %\n",
      "Epoch:40/100 AVG Training Loss:0.465 AVG Validation Loss:0.523 AVG Training Acc 80.40 % AVG Validation Acc 78.20 %\n",
      "Epoch:50/100 AVG Training Loss:0.460 AVG Validation Loss:0.528 AVG Training Acc 80.62 % AVG Validation Acc 77.93 %\n",
      "Epoch    55: reducing learning rate of group 0 to 1.0000e-04.\n",
      "Epoch:60/100 AVG Training Loss:0.451 AVG Validation Loss:0.533 AVG Training Acc 80.89 % AVG Validation Acc 77.39 %\n",
      "Epoch:70/100 AVG Training Loss:0.449 AVG Validation Loss:0.535 AVG Training Acc 80.98 % AVG Validation Acc 77.39 %\n",
      "Epoch:80/100 AVG Training Loss:0.448 AVG Validation Loss:0.538 AVG Training Acc 81.17 % AVG Validation Acc 77.12 %\n",
      "Epoch    86: reducing learning rate of group 0 to 1.0000e-05.\n",
      "Epoch:90/100 AVG Training Loss:0.447 AVG Validation Loss:0.536 AVG Training Acc 81.19 % AVG Validation Acc 76.99 %\n",
      "Epoch:100/100 AVG Training Loss:0.450 AVG Validation Loss:0.538 AVG Training Acc 80.94 % AVG Validation Acc 77.12 %\n",
      "Split 298\n"
     ]
    },
    {
     "data": {
      "application/vnd.jupyter.widget-view+json": {
       "model_id": "a2f0b0e5f8e540d1a0a0f7db2d67e123",
       "version_major": 2,
       "version_minor": 0
      },
      "text/plain": [
       "  0%|          | 0/100 [00:00<?, ?it/s]"
      ]
     },
     "metadata": {},
     "output_type": "display_data"
    },
    {
     "name": "stdout",
     "output_type": "stream",
     "text": [
      "Epoch:10/100 AVG Training Loss:0.498 AVG Validation Loss:0.499 AVG Training Acc 79.81 % AVG Validation Acc 80.48 %\n",
      "Epoch:20/100 AVG Training Loss:0.490 AVG Validation Loss:0.487 AVG Training Acc 79.81 % AVG Validation Acc 80.48 %\n",
      "Epoch:30/100 AVG Training Loss:0.484 AVG Validation Loss:0.490 AVG Training Acc 79.75 % AVG Validation Acc 80.62 %\n",
      "Epoch    34: reducing learning rate of group 0 to 1.0000e-03.\n",
      "Epoch:40/100 AVG Training Loss:0.469 AVG Validation Loss:0.494 AVG Training Acc 80.04 % AVG Validation Acc 80.48 %\n",
      "Epoch:50/100 AVG Training Loss:0.455 AVG Validation Loss:0.503 AVG Training Acc 80.47 % AVG Validation Acc 80.22 %\n",
      "Epoch:60/100 AVG Training Loss:0.446 AVG Validation Loss:0.520 AVG Training Acc 80.71 % AVG Validation Acc 79.41 %\n",
      "Epoch    65: reducing learning rate of group 0 to 1.0000e-04.\n",
      "Epoch:70/100 AVG Training Loss:0.436 AVG Validation Loss:0.525 AVG Training Acc 81.40 % AVG Validation Acc 78.60 %\n",
      "Epoch:80/100 AVG Training Loss:0.436 AVG Validation Loss:0.526 AVG Training Acc 81.26 % AVG Validation Acc 79.00 %\n",
      "Epoch:90/100 AVG Training Loss:0.436 AVG Validation Loss:0.524 AVG Training Acc 81.40 % AVG Validation Acc 78.60 %\n",
      "Epoch    96: reducing learning rate of group 0 to 1.0000e-05.\n",
      "Epoch:100/100 AVG Training Loss:0.434 AVG Validation Loss:0.526 AVG Training Acc 81.16 % AVG Validation Acc 78.87 %\n",
      "Split 299\n"
     ]
    },
    {
     "data": {
      "application/vnd.jupyter.widget-view+json": {
       "model_id": "fbc9f7b693ba405ea8554a0b116dc423",
       "version_major": 2,
       "version_minor": 0
      },
      "text/plain": [
       "  0%|          | 0/100 [00:00<?, ?it/s]"
      ]
     },
     "metadata": {},
     "output_type": "display_data"
    },
    {
     "name": "stdout",
     "output_type": "stream",
     "text": [
      "Epoch:10/100 AVG Training Loss:0.494 AVG Validation Loss:0.487 AVG Training Acc 79.89 % AVG Validation Acc 79.81 %\n",
      "Epoch:20/100 AVG Training Loss:0.493 AVG Validation Loss:0.491 AVG Training Acc 79.78 % AVG Validation Acc 79.81 %\n",
      "Epoch    21: reducing learning rate of group 0 to 1.0000e-03.\n",
      "Epoch:30/100 AVG Training Loss:0.486 AVG Validation Loss:0.486 AVG Training Acc 79.95 % AVG Validation Acc 79.81 %\n",
      "Epoch:40/100 AVG Training Loss:0.484 AVG Validation Loss:0.486 AVG Training Acc 79.87 % AVG Validation Acc 80.08 %\n",
      "Epoch:50/100 AVG Training Loss:0.484 AVG Validation Loss:0.487 AVG Training Acc 79.93 % AVG Validation Acc 79.95 %\n",
      "Epoch    52: reducing learning rate of group 0 to 1.0000e-04.\n",
      "Epoch:60/100 AVG Training Loss:0.482 AVG Validation Loss:0.486 AVG Training Acc 80.17 % AVG Validation Acc 79.81 %\n",
      "Epoch:70/100 AVG Training Loss:0.481 AVG Validation Loss:0.486 AVG Training Acc 80.05 % AVG Validation Acc 79.95 %\n",
      "Epoch:80/100 AVG Training Loss:0.480 AVG Validation Loss:0.486 AVG Training Acc 80.20 % AVG Validation Acc 79.95 %\n",
      "Epoch    83: reducing learning rate of group 0 to 1.0000e-05.\n",
      "Epoch:90/100 AVG Training Loss:0.478 AVG Validation Loss:0.486 AVG Training Acc 80.23 % AVG Validation Acc 79.95 %\n",
      "Epoch:100/100 AVG Training Loss:0.479 AVG Validation Loss:0.486 AVG Training Acc 80.13 % AVG Validation Acc 79.95 %\n",
      "Split 300\n"
     ]
    },
    {
     "data": {
      "application/vnd.jupyter.widget-view+json": {
       "model_id": "bb511c7eb95842a9818aee036eaa0838",
       "version_major": 2,
       "version_minor": 0
      },
      "text/plain": [
       "  0%|          | 0/100 [00:00<?, ?it/s]"
      ]
     },
     "metadata": {},
     "output_type": "display_data"
    },
    {
     "name": "stdout",
     "output_type": "stream",
     "text": [
      "Epoch:10/100 AVG Training Loss:0.497 AVG Validation Loss:0.491 AVG Training Acc 79.86 % AVG Validation Acc 79.95 %\n",
      "Epoch:20/100 AVG Training Loss:0.496 AVG Validation Loss:0.490 AVG Training Acc 79.87 % AVG Validation Acc 79.81 %\n",
      "Epoch:30/100 AVG Training Loss:0.487 AVG Validation Loss:0.490 AVG Training Acc 79.96 % AVG Validation Acc 80.08 %\n",
      "Epoch    38: reducing learning rate of group 0 to 1.0000e-03.\n",
      "Epoch:40/100 AVG Training Loss:0.479 AVG Validation Loss:0.490 AVG Training Acc 80.16 % AVG Validation Acc 79.95 %\n",
      "Epoch:50/100 AVG Training Loss:0.466 AVG Validation Loss:0.489 AVG Training Acc 80.53 % AVG Validation Acc 79.81 %\n",
      "Epoch:60/100 AVG Training Loss:0.458 AVG Validation Loss:0.498 AVG Training Acc 80.65 % AVG Validation Acc 79.54 %\n",
      "Epoch    69: reducing learning rate of group 0 to 1.0000e-04.\n",
      "Epoch:70/100 AVG Training Loss:0.450 AVG Validation Loss:0.506 AVG Training Acc 80.94 % AVG Validation Acc 79.14 %\n",
      "Epoch:80/100 AVG Training Loss:0.452 AVG Validation Loss:0.505 AVG Training Acc 80.85 % AVG Validation Acc 79.27 %\n",
      "Epoch:90/100 AVG Training Loss:0.448 AVG Validation Loss:0.506 AVG Training Acc 81.05 % AVG Validation Acc 79.14 %\n",
      "Epoch:100/100 AVG Training Loss:0.449 AVG Validation Loss:0.506 AVG Training Acc 81.05 % AVG Validation Acc 79.00 %\n",
      "Epoch   100: reducing learning rate of group 0 to 1.0000e-05.\n",
      "final_fail\n",
      "Before reshaping:\n",
      "Training Shape torch.Size([7436, 25]) torch.Size([7436])\n",
      "Testing Shape torch.Size([1860, 25]) torch.Size([1860])\n",
      "\n",
      "After reshaping:\n",
      "Training Shape torch.Size([7436, 25, 1]) torch.Size([7436])\n",
      "Testing Shape torch.Size([1860, 25, 1]) torch.Size([1860])\n"
     ]
    },
    {
     "data": {
      "application/vnd.jupyter.widget-view+json": {
       "model_id": "8f6b68df0eff45ddbd2fc93b37068c54",
       "version_major": 2,
       "version_minor": 0
      },
      "text/plain": [
       "0it [00:00, ?it/s]"
      ]
     },
     "metadata": {},
     "output_type": "display_data"
    },
    {
     "name": "stdout",
     "output_type": "stream",
     "text": [
      "Split 1\n"
     ]
    },
    {
     "data": {
      "application/vnd.jupyter.widget-view+json": {
       "model_id": "01b63e3eefa947beb12230748f84f953",
       "version_major": 2,
       "version_minor": 0
      },
      "text/plain": [
       "  0%|          | 0/100 [00:00<?, ?it/s]"
      ]
     },
     "metadata": {},
     "output_type": "display_data"
    },
    {
     "name": "stdout",
     "output_type": "stream",
     "text": [
      "New Best Accuracy found: 83.47%\n",
      "Epoch: 1\n",
      "Epoch:10/100 AVG Training Loss:0.410 AVG Validation Loss:0.447 AVG Training Acc 85.18 % AVG Validation Acc 83.47 %\n",
      "Epoch:20/100 AVG Training Loss:0.402 AVG Validation Loss:0.447 AVG Training Acc 85.16 % AVG Validation Acc 83.47 %\n",
      "Epoch    29: reducing learning rate of group 0 to 1.0000e-03.\n",
      "Epoch:30/100 AVG Training Loss:0.393 AVG Validation Loss:0.446 AVG Training Acc 85.18 % AVG Validation Acc 83.47 %\n",
      "Epoch:40/100 AVG Training Loss:0.376 AVG Validation Loss:0.471 AVG Training Acc 85.42 % AVG Validation Acc 83.20 %\n",
      "Epoch:50/100 AVG Training Loss:0.368 AVG Validation Loss:0.486 AVG Training Acc 85.58 % AVG Validation Acc 83.47 %\n",
      "New Best Accuracy found: 83.60%\n",
      "Epoch: 52\n",
      "Epoch:60/100 AVG Training Loss:0.363 AVG Validation Loss:0.503 AVG Training Acc 85.82 % AVG Validation Acc 83.60 %\n",
      "Epoch    60: reducing learning rate of group 0 to 1.0000e-04.\n",
      "New Best Accuracy found: 83.74%\n",
      "Epoch: 63\n",
      "Epoch:70/100 AVG Training Loss:0.357 AVG Validation Loss:0.512 AVG Training Acc 85.86 % AVG Validation Acc 83.60 %\n",
      "Epoch:80/100 AVG Training Loss:0.356 AVG Validation Loss:0.516 AVG Training Acc 85.77 % AVG Validation Acc 83.47 %\n",
      "Epoch:90/100 AVG Training Loss:0.357 AVG Validation Loss:0.522 AVG Training Acc 85.95 % AVG Validation Acc 83.47 %\n",
      "Epoch    91: reducing learning rate of group 0 to 1.0000e-05.\n",
      "Epoch:100/100 AVG Training Loss:0.354 AVG Validation Loss:0.521 AVG Training Acc 85.77 % AVG Validation Acc 83.47 %\n",
      "Split 2\n"
     ]
    },
    {
     "data": {
      "application/vnd.jupyter.widget-view+json": {
       "model_id": "5d3dcf13e4c9487fa7f30131bf7e4402",
       "version_major": 2,
       "version_minor": 0
      },
      "text/plain": [
       "  0%|          | 0/100 [00:00<?, ?it/s]"
      ]
     },
     "metadata": {},
     "output_type": "display_data"
    },
    {
     "name": "stdout",
     "output_type": "stream",
     "text": [
      "New Best Accuracy found: 85.62%\n",
      "Epoch: 1\n",
      "Epoch:10/100 AVG Training Loss:0.415 AVG Validation Loss:0.403 AVG Training Acc 84.94 % AVG Validation Acc 85.62 %\n",
      "Epoch:20/100 AVG Training Loss:0.422 AVG Validation Loss:0.420 AVG Training Acc 84.92 % AVG Validation Acc 85.62 %\n",
      "Epoch    21: reducing learning rate of group 0 to 1.0000e-03.\n",
      "Epoch:30/100 AVG Training Loss:0.414 AVG Validation Loss:0.411 AVG Training Acc 84.94 % AVG Validation Acc 85.62 %\n",
      "Epoch:40/100 AVG Training Loss:0.412 AVG Validation Loss:0.403 AVG Training Acc 84.94 % AVG Validation Acc 85.62 %\n",
      "Epoch:50/100 AVG Training Loss:0.410 AVG Validation Loss:0.402 AVG Training Acc 84.95 % AVG Validation Acc 85.62 %\n",
      "Epoch    53: reducing learning rate of group 0 to 1.0000e-04.\n",
      "Epoch:60/100 AVG Training Loss:0.408 AVG Validation Loss:0.404 AVG Training Acc 84.94 % AVG Validation Acc 85.62 %\n",
      "Epoch:70/100 AVG Training Loss:0.406 AVG Validation Loss:0.402 AVG Training Acc 84.94 % AVG Validation Acc 85.62 %\n",
      "Epoch:80/100 AVG Training Loss:0.408 AVG Validation Loss:0.401 AVG Training Acc 84.94 % AVG Validation Acc 85.62 %\n",
      "Epoch    84: reducing learning rate of group 0 to 1.0000e-05.\n",
      "Epoch:90/100 AVG Training Loss:0.405 AVG Validation Loss:0.401 AVG Training Acc 84.95 % AVG Validation Acc 85.62 %\n",
      "Epoch:100/100 AVG Training Loss:0.408 AVG Validation Loss:0.400 AVG Training Acc 84.94 % AVG Validation Acc 85.62 %\n",
      "Split 3\n"
     ]
    },
    {
     "data": {
      "application/vnd.jupyter.widget-view+json": {
       "model_id": "8bad8db9bca24053bd37f234bfc2ea86",
       "version_major": 2,
       "version_minor": 0
      },
      "text/plain": [
       "  0%|          | 0/100 [00:00<?, ?it/s]"
      ]
     },
     "metadata": {},
     "output_type": "display_data"
    },
    {
     "name": "stdout",
     "output_type": "stream",
     "text": [
      "Epoch:10/100 AVG Training Loss:0.407 AVG Validation Loss:0.482 AVG Training Acc 85.37 % AVG Validation Acc 81.72 %\n",
      "Epoch:20/100 AVG Training Loss:0.403 AVG Validation Loss:0.455 AVG Training Acc 85.39 % AVG Validation Acc 81.72 %\n",
      "Epoch    27: reducing learning rate of group 0 to 1.0000e-03.\n",
      "Epoch:30/100 AVG Training Loss:0.392 AVG Validation Loss:0.458 AVG Training Acc 85.49 % AVG Validation Acc 81.72 %\n",
      "Epoch:40/100 AVG Training Loss:0.390 AVG Validation Loss:0.462 AVG Training Acc 85.51 % AVG Validation Acc 81.72 %\n",
      "Epoch:50/100 AVG Training Loss:0.384 AVG Validation Loss:0.467 AVG Training Acc 85.58 % AVG Validation Acc 81.72 %\n",
      "Epoch    58: reducing learning rate of group 0 to 1.0000e-04.\n",
      "Epoch:60/100 AVG Training Loss:0.381 AVG Validation Loss:0.468 AVG Training Acc 85.58 % AVG Validation Acc 81.59 %\n",
      "Epoch:70/100 AVG Training Loss:0.380 AVG Validation Loss:0.469 AVG Training Acc 85.62 % AVG Validation Acc 81.59 %\n",
      "Epoch:80/100 AVG Training Loss:0.378 AVG Validation Loss:0.470 AVG Training Acc 85.71 % AVG Validation Acc 81.59 %\n",
      "Epoch    89: reducing learning rate of group 0 to 1.0000e-05.\n",
      "Epoch:90/100 AVG Training Loss:0.378 AVG Validation Loss:0.472 AVG Training Acc 85.74 % AVG Validation Acc 81.59 %\n",
      "Epoch:100/100 AVG Training Loss:0.378 AVG Validation Loss:0.472 AVG Training Acc 85.74 % AVG Validation Acc 81.59 %\n",
      "Split 4\n"
     ]
    },
    {
     "data": {
      "application/vnd.jupyter.widget-view+json": {
       "model_id": "32f9ef38e7e34d3b8ebc7f0ecfc2b4b6",
       "version_major": 2,
       "version_minor": 0
      },
      "text/plain": [
       "  0%|          | 0/100 [00:00<?, ?it/s]"
      ]
     },
     "metadata": {},
     "output_type": "display_data"
    },
    {
     "name": "stdout",
     "output_type": "stream",
     "text": [
      "Epoch:10/100 AVG Training Loss:0.416 AVG Validation Loss:0.412 AVG Training Acc 84.94 % AVG Validation Acc 85.62 %\n",
      "Epoch:20/100 AVG Training Loss:0.408 AVG Validation Loss:0.405 AVG Training Acc 84.95 % AVG Validation Acc 85.62 %\n",
      "Epoch:30/100 AVG Training Loss:0.408 AVG Validation Loss:0.403 AVG Training Acc 84.97 % AVG Validation Acc 85.35 %\n",
      "Epoch:40/100 AVG Training Loss:0.416 AVG Validation Loss:0.411 AVG Training Acc 84.92 % AVG Validation Acc 85.48 %\n",
      "Epoch    41: reducing learning rate of group 0 to 1.0000e-03.\n",
      "Epoch:50/100 AVG Training Loss:0.389 AVG Validation Loss:0.407 AVG Training Acc 85.31 % AVG Validation Acc 85.22 %\n",
      "Epoch:60/100 AVG Training Loss:0.378 AVG Validation Loss:0.414 AVG Training Acc 85.73 % AVG Validation Acc 85.08 %\n",
      "Epoch:70/100 AVG Training Loss:0.373 AVG Validation Loss:0.425 AVG Training Acc 85.76 % AVG Validation Acc 84.41 %\n",
      "Epoch    72: reducing learning rate of group 0 to 1.0000e-04.\n",
      "Epoch:80/100 AVG Training Loss:0.366 AVG Validation Loss:0.427 AVG Training Acc 85.91 % AVG Validation Acc 84.54 %\n",
      "Epoch:90/100 AVG Training Loss:0.365 AVG Validation Loss:0.427 AVG Training Acc 86.04 % AVG Validation Acc 84.68 %\n",
      "Epoch:100/100 AVG Training Loss:0.364 AVG Validation Loss:0.432 AVG Training Acc 85.95 % AVG Validation Acc 84.68 %\n",
      "Split 5\n"
     ]
    },
    {
     "data": {
      "application/vnd.jupyter.widget-view+json": {
       "model_id": "6f32441a1f744d4fae3f742f72749254",
       "version_major": 2,
       "version_minor": 0
      },
      "text/plain": [
       "  0%|          | 0/100 [00:00<?, ?it/s]"
      ]
     },
     "metadata": {},
     "output_type": "display_data"
    },
    {
     "name": "stdout",
     "output_type": "stream",
     "text": [
      "Epoch:10/100 AVG Training Loss:0.415 AVG Validation Loss:0.409 AVG Training Acc 85.03 % AVG Validation Acc 84.81 %\n",
      "Epoch:20/100 AVG Training Loss:0.417 AVG Validation Loss:0.421 AVG Training Acc 85.03 % AVG Validation Acc 84.81 %\n",
      "Epoch    29: reducing learning rate of group 0 to 1.0000e-03.\n",
      "Epoch:30/100 AVG Training Loss:0.404 AVG Validation Loss:0.406 AVG Training Acc 85.03 % AVG Validation Acc 84.81 %\n",
      "Epoch:40/100 AVG Training Loss:0.403 AVG Validation Loss:0.406 AVG Training Acc 85.03 % AVG Validation Acc 84.81 %\n",
      "Epoch:50/100 AVG Training Loss:0.401 AVG Validation Loss:0.407 AVG Training Acc 85.03 % AVG Validation Acc 84.81 %\n",
      "Epoch:60/100 AVG Training Loss:0.398 AVG Validation Loss:0.408 AVG Training Acc 85.03 % AVG Validation Acc 84.81 %\n",
      "Epoch    60: reducing learning rate of group 0 to 1.0000e-04.\n",
      "Epoch:70/100 AVG Training Loss:0.398 AVG Validation Loss:0.407 AVG Training Acc 85.03 % AVG Validation Acc 84.81 %\n",
      "Epoch:80/100 AVG Training Loss:0.396 AVG Validation Loss:0.407 AVG Training Acc 85.10 % AVG Validation Acc 84.81 %\n",
      "Epoch:90/100 AVG Training Loss:0.397 AVG Validation Loss:0.407 AVG Training Acc 85.07 % AVG Validation Acc 84.81 %\n",
      "Epoch    91: reducing learning rate of group 0 to 1.0000e-05.\n",
      "Epoch:100/100 AVG Training Loss:0.398 AVG Validation Loss:0.408 AVG Training Acc 85.06 % AVG Validation Acc 84.81 %\n",
      "Split 6\n"
     ]
    },
    {
     "data": {
      "application/vnd.jupyter.widget-view+json": {
       "model_id": "be84e8597bfa4223893482436e3f59b4",
       "version_major": 2,
       "version_minor": 0
      },
      "text/plain": [
       "  0%|          | 0/100 [00:00<?, ?it/s]"
      ]
     },
     "metadata": {},
     "output_type": "display_data"
    },
    {
     "name": "stdout",
     "output_type": "stream",
     "text": [
      "Epoch:10/100 AVG Training Loss:0.413 AVG Validation Loss:0.428 AVG Training Acc 85.09 % AVG Validation Acc 84.27 %\n",
      "Epoch:20/100 AVG Training Loss:0.416 AVG Validation Loss:0.430 AVG Training Acc 85.09 % AVG Validation Acc 84.27 %\n",
      "Epoch:30/100 AVG Training Loss:0.424 AVG Validation Loss:0.434 AVG Training Acc 85.09 % AVG Validation Acc 84.27 %\n",
      "Epoch    30: reducing learning rate of group 0 to 1.0000e-03.\n",
      "Epoch:40/100 AVG Training Loss:0.419 AVG Validation Loss:0.433 AVG Training Acc 85.10 % AVG Validation Acc 84.27 %\n",
      "Epoch:50/100 AVG Training Loss:0.412 AVG Validation Loss:0.426 AVG Training Acc 85.10 % AVG Validation Acc 84.27 %\n",
      "Epoch:60/100 AVG Training Loss:0.409 AVG Validation Loss:0.425 AVG Training Acc 85.16 % AVG Validation Acc 84.27 %\n",
      "Epoch    61: reducing learning rate of group 0 to 1.0000e-04.\n",
      "Epoch:70/100 AVG Training Loss:0.407 AVG Validation Loss:0.426 AVG Training Acc 85.13 % AVG Validation Acc 84.27 %\n",
      "Epoch:80/100 AVG Training Loss:0.408 AVG Validation Loss:0.426 AVG Training Acc 85.12 % AVG Validation Acc 84.27 %\n",
      "Epoch:90/100 AVG Training Loss:0.406 AVG Validation Loss:0.426 AVG Training Acc 85.15 % AVG Validation Acc 84.27 %\n",
      "Epoch    92: reducing learning rate of group 0 to 1.0000e-05.\n",
      "Epoch:100/100 AVG Training Loss:0.407 AVG Validation Loss:0.426 AVG Training Acc 85.21 % AVG Validation Acc 84.27 %\n",
      "Split 7\n"
     ]
    },
    {
     "data": {
      "application/vnd.jupyter.widget-view+json": {
       "model_id": "2e77ac35f1d64ec79873956e5be93e77",
       "version_major": 2,
       "version_minor": 0
      },
      "text/plain": [
       "  0%|          | 0/100 [00:00<?, ?it/s]"
      ]
     },
     "metadata": {},
     "output_type": "display_data"
    },
    {
     "name": "stdout",
     "output_type": "stream",
     "text": [
      "New Best Accuracy found: 86.68%\n",
      "Epoch: 1\n",
      "Epoch:10/100 AVG Training Loss:0.418 AVG Validation Loss:0.390 AVG Training Acc 84.82 % AVG Validation Acc 86.68 %\n",
      "Epoch:20/100 AVG Training Loss:0.412 AVG Validation Loss:0.377 AVG Training Acc 84.72 % AVG Validation Acc 86.68 %\n",
      "Epoch:30/100 AVG Training Loss:0.407 AVG Validation Loss:0.380 AVG Training Acc 84.85 % AVG Validation Acc 86.68 %\n",
      "Epoch    33: reducing learning rate of group 0 to 1.0000e-03.\n",
      "Epoch:40/100 AVG Training Loss:0.391 AVG Validation Loss:0.377 AVG Training Acc 84.81 % AVG Validation Acc 86.68 %\n",
      "Epoch:50/100 AVG Training Loss:0.382 AVG Validation Loss:0.386 AVG Training Acc 84.83 % AVG Validation Acc 86.68 %\n",
      "Epoch:60/100 AVG Training Loss:0.377 AVG Validation Loss:0.397 AVG Training Acc 84.88 % AVG Validation Acc 86.68 %\n",
      "New Best Accuracy found: 86.94%\n",
      "Epoch: 62\n",
      "Epoch    64: reducing learning rate of group 0 to 1.0000e-04.\n",
      "Epoch:70/100 AVG Training Loss:0.370 AVG Validation Loss:0.406 AVG Training Acc 84.89 % AVG Validation Acc 86.68 %\n",
      "Epoch:80/100 AVG Training Loss:0.367 AVG Validation Loss:0.412 AVG Training Acc 85.10 % AVG Validation Acc 86.68 %\n",
      "Epoch:90/100 AVG Training Loss:0.368 AVG Validation Loss:0.412 AVG Training Acc 84.83 % AVG Validation Acc 86.54 %\n",
      "Epoch    95: reducing learning rate of group 0 to 1.0000e-05.\n",
      "Epoch:100/100 AVG Training Loss:0.367 AVG Validation Loss:0.412 AVG Training Acc 85.03 % AVG Validation Acc 86.68 %\n",
      "Split 8\n"
     ]
    },
    {
     "data": {
      "application/vnd.jupyter.widget-view+json": {
       "model_id": "cbd29ca4874542229b55b5d875aa0316",
       "version_major": 2,
       "version_minor": 0
      },
      "text/plain": [
       "  0%|          | 0/100 [00:00<?, ?it/s]"
      ]
     },
     "metadata": {},
     "output_type": "display_data"
    },
    {
     "name": "stdout",
     "output_type": "stream",
     "text": [
      "Epoch:10/100 AVG Training Loss:0.425 AVG Validation Loss:0.393 AVG Training Acc 84.81 % AVG Validation Acc 86.81 %\n",
      "Epoch:20/100 AVG Training Loss:0.422 AVG Validation Loss:0.383 AVG Training Acc 84.81 % AVG Validation Acc 86.81 %\n",
      "Epoch:30/100 AVG Training Loss:0.410 AVG Validation Loss:0.372 AVG Training Acc 84.79 % AVG Validation Acc 86.81 %\n",
      "Epoch:40/100 AVG Training Loss:0.409 AVG Validation Loss:0.372 AVG Training Acc 84.67 % AVG Validation Acc 86.81 %\n",
      "Epoch    48: reducing learning rate of group 0 to 1.0000e-03.\n",
      "Epoch:50/100 AVG Training Loss:0.394 AVG Validation Loss:0.378 AVG Training Acc 84.86 % AVG Validation Acc 86.68 %\n",
      "Epoch:60/100 AVG Training Loss:0.385 AVG Validation Loss:0.388 AVG Training Acc 84.95 % AVG Validation Acc 86.41 %\n",
      "Epoch:70/100 AVG Training Loss:0.379 AVG Validation Loss:0.398 AVG Training Acc 85.34 % AVG Validation Acc 86.27 %\n",
      "Epoch    79: reducing learning rate of group 0 to 1.0000e-04.\n",
      "Epoch:80/100 AVG Training Loss:0.369 AVG Validation Loss:0.405 AVG Training Acc 85.60 % AVG Validation Acc 85.73 %\n",
      "Epoch:90/100 AVG Training Loss:0.370 AVG Validation Loss:0.408 AVG Training Acc 85.64 % AVG Validation Acc 85.60 %\n",
      "Epoch:100/100 AVG Training Loss:0.366 AVG Validation Loss:0.408 AVG Training Acc 85.51 % AVG Validation Acc 85.33 %\n",
      "Split 9\n"
     ]
    },
    {
     "data": {
      "application/vnd.jupyter.widget-view+json": {
       "model_id": "49cd3eb5051f4d7d869c453677d7bf74",
       "version_major": 2,
       "version_minor": 0
      },
      "text/plain": [
       "  0%|          | 0/100 [00:00<?, ?it/s]"
      ]
     },
     "metadata": {},
     "output_type": "display_data"
    },
    {
     "name": "stdout",
     "output_type": "stream",
     "text": [
      "Epoch:10/100 AVG Training Loss:0.415 AVG Validation Loss:0.411 AVG Training Acc 85.03 % AVG Validation Acc 84.79 %\n",
      "Epoch:20/100 AVG Training Loss:0.407 AVG Validation Loss:0.411 AVG Training Acc 85.01 % AVG Validation Acc 84.79 %\n",
      "Epoch    23: reducing learning rate of group 0 to 1.0000e-03.\n",
      "Epoch:30/100 AVG Training Loss:0.395 AVG Validation Loss:0.416 AVG Training Acc 85.13 % AVG Validation Acc 84.66 %\n",
      "Epoch:40/100 AVG Training Loss:0.391 AVG Validation Loss:0.420 AVG Training Acc 85.18 % AVG Validation Acc 84.66 %\n",
      "Epoch:50/100 AVG Training Loss:0.384 AVG Validation Loss:0.425 AVG Training Acc 85.18 % AVG Validation Acc 84.52 %\n",
      "Epoch    54: reducing learning rate of group 0 to 1.0000e-04.\n",
      "Epoch:60/100 AVG Training Loss:0.377 AVG Validation Loss:0.428 AVG Training Acc 85.36 % AVG Validation Acc 84.52 %\n",
      "Epoch:70/100 AVG Training Loss:0.377 AVG Validation Loss:0.430 AVG Training Acc 85.28 % AVG Validation Acc 84.52 %\n",
      "Epoch:80/100 AVG Training Loss:0.374 AVG Validation Loss:0.432 AVG Training Acc 85.34 % AVG Validation Acc 84.52 %\n",
      "Epoch    85: reducing learning rate of group 0 to 1.0000e-05.\n",
      "Epoch:90/100 AVG Training Loss:0.376 AVG Validation Loss:0.432 AVG Training Acc 85.39 % AVG Validation Acc 84.39 %\n",
      "Epoch:100/100 AVG Training Loss:0.376 AVG Validation Loss:0.434 AVG Training Acc 85.37 % AVG Validation Acc 84.39 %\n",
      "Split 10\n"
     ]
    },
    {
     "data": {
      "application/vnd.jupyter.widget-view+json": {
       "model_id": "226345ba882b44c9975a67d9d3038774",
       "version_major": 2,
       "version_minor": 0
      },
      "text/plain": [
       "  0%|          | 0/100 [00:00<?, ?it/s]"
      ]
     },
     "metadata": {},
     "output_type": "display_data"
    },
    {
     "name": "stdout",
     "output_type": "stream",
     "text": [
      "Epoch:10/100 AVG Training Loss:0.422 AVG Validation Loss:0.394 AVG Training Acc 84.86 % AVG Validation Acc 86.27 %\n",
      "Epoch:20/100 AVG Training Loss:0.412 AVG Validation Loss:0.398 AVG Training Acc 84.86 % AVG Validation Acc 86.27 %\n",
      "Epoch    24: reducing learning rate of group 0 to 1.0000e-03.\n",
      "Epoch:30/100 AVG Training Loss:0.400 AVG Validation Loss:0.398 AVG Training Acc 84.95 % AVG Validation Acc 86.14 %\n",
      "Epoch:40/100 AVG Training Loss:0.397 AVG Validation Loss:0.402 AVG Training Acc 84.97 % AVG Validation Acc 85.87 %\n",
      "Epoch:50/100 AVG Training Loss:0.394 AVG Validation Loss:0.406 AVG Training Acc 84.98 % AVG Validation Acc 86.00 %\n",
      "Epoch    55: reducing learning rate of group 0 to 1.0000e-04.\n",
      "Epoch:60/100 AVG Training Loss:0.390 AVG Validation Loss:0.412 AVG Training Acc 85.04 % AVG Validation Acc 86.00 %\n",
      "Epoch:70/100 AVG Training Loss:0.388 AVG Validation Loss:0.413 AVG Training Acc 85.09 % AVG Validation Acc 86.00 %\n",
      "Epoch:80/100 AVG Training Loss:0.387 AVG Validation Loss:0.413 AVG Training Acc 85.06 % AVG Validation Acc 86.00 %\n",
      "Epoch    86: reducing learning rate of group 0 to 1.0000e-05.\n",
      "Epoch:90/100 AVG Training Loss:0.389 AVG Validation Loss:0.413 AVG Training Acc 85.06 % AVG Validation Acc 86.00 %\n",
      "Epoch:100/100 AVG Training Loss:0.386 AVG Validation Loss:0.414 AVG Training Acc 85.09 % AVG Validation Acc 86.00 %\n",
      "Split 11\n"
     ]
    },
    {
     "data": {
      "application/vnd.jupyter.widget-view+json": {
       "model_id": "7d6e1f7c3201467e963b41e84c645580",
       "version_major": 2,
       "version_minor": 0
      },
      "text/plain": [
       "  0%|          | 0/100 [00:00<?, ?it/s]"
      ]
     },
     "metadata": {},
     "output_type": "display_data"
    },
    {
     "name": "stdout",
     "output_type": "stream",
     "text": [
      "Epoch:10/100 AVG Training Loss:0.414 AVG Validation Loss:0.426 AVG Training Acc 85.09 % AVG Validation Acc 84.27 %\n",
      "Epoch:20/100 AVG Training Loss:0.408 AVG Validation Loss:0.420 AVG Training Acc 85.09 % AVG Validation Acc 84.27 %\n",
      "Epoch:30/100 AVG Training Loss:0.402 AVG Validation Loss:0.421 AVG Training Acc 85.09 % AVG Validation Acc 84.27 %\n",
      "Epoch:40/100 AVG Training Loss:0.398 AVG Validation Loss:0.431 AVG Training Acc 85.18 % AVG Validation Acc 83.87 %\n",
      "Epoch    43: reducing learning rate of group 0 to 1.0000e-03.\n",
      "Epoch:50/100 AVG Training Loss:0.385 AVG Validation Loss:0.432 AVG Training Acc 85.36 % AVG Validation Acc 84.27 %\n",
      "Epoch:60/100 AVG Training Loss:0.376 AVG Validation Loss:0.442 AVG Training Acc 85.48 % AVG Validation Acc 83.87 %\n",
      "Epoch:70/100 AVG Training Loss:0.370 AVG Validation Loss:0.452 AVG Training Acc 85.79 % AVG Validation Acc 84.14 %\n",
      "Epoch    74: reducing learning rate of group 0 to 1.0000e-04.\n",
      "Epoch:80/100 AVG Training Loss:0.363 AVG Validation Loss:0.457 AVG Training Acc 86.00 % AVG Validation Acc 83.74 %\n",
      "Epoch:90/100 AVG Training Loss:0.363 AVG Validation Loss:0.459 AVG Training Acc 85.94 % AVG Validation Acc 83.87 %\n",
      "Epoch:100/100 AVG Training Loss:0.362 AVG Validation Loss:0.458 AVG Training Acc 85.92 % AVG Validation Acc 83.87 %\n",
      "Split 12\n"
     ]
    },
    {
     "data": {
      "application/vnd.jupyter.widget-view+json": {
       "model_id": "537f8f47dfb54c4aac330e744548a65d",
       "version_major": 2,
       "version_minor": 0
      },
      "text/plain": [
       "  0%|          | 0/100 [00:00<?, ?it/s]"
      ]
     },
     "metadata": {},
     "output_type": "display_data"
    },
    {
     "name": "stdout",
     "output_type": "stream",
     "text": [
      "Epoch:10/100 AVG Training Loss:0.418 AVG Validation Loss:0.401 AVG Training Acc 84.94 % AVG Validation Acc 85.62 %\n",
      "Epoch:20/100 AVG Training Loss:0.410 AVG Validation Loss:0.405 AVG Training Acc 84.95 % AVG Validation Acc 85.62 %\n",
      "Epoch    29: reducing learning rate of group 0 to 1.0000e-03.\n",
      "Epoch:30/100 AVG Training Loss:0.402 AVG Validation Loss:0.400 AVG Training Acc 85.00 % AVG Validation Acc 85.48 %\n",
      "Epoch:40/100 AVG Training Loss:0.396 AVG Validation Loss:0.404 AVG Training Acc 85.07 % AVG Validation Acc 85.48 %\n",
      "Epoch:50/100 AVG Training Loss:0.388 AVG Validation Loss:0.412 AVG Training Acc 85.09 % AVG Validation Acc 85.62 %\n",
      "Epoch:60/100 AVG Training Loss:0.379 AVG Validation Loss:0.417 AVG Training Acc 85.37 % AVG Validation Acc 85.48 %\n",
      "Epoch    60: reducing learning rate of group 0 to 1.0000e-04.\n",
      "Epoch:70/100 AVG Training Loss:0.376 AVG Validation Loss:0.418 AVG Training Acc 85.48 % AVG Validation Acc 85.62 %\n",
      "Epoch:80/100 AVG Training Loss:0.375 AVG Validation Loss:0.419 AVG Training Acc 85.56 % AVG Validation Acc 85.62 %\n",
      "Epoch:90/100 AVG Training Loss:0.372 AVG Validation Loss:0.422 AVG Training Acc 85.45 % AVG Validation Acc 85.48 %\n",
      "Epoch    91: reducing learning rate of group 0 to 1.0000e-05.\n",
      "Epoch:100/100 AVG Training Loss:0.373 AVG Validation Loss:0.422 AVG Training Acc 85.59 % AVG Validation Acc 85.22 %\n",
      "Split 13\n"
     ]
    },
    {
     "data": {
      "application/vnd.jupyter.widget-view+json": {
       "model_id": "b1d5781f940744b5803085e4b55992ac",
       "version_major": 2,
       "version_minor": 0
      },
      "text/plain": [
       "  0%|          | 0/100 [00:00<?, ?it/s]"
      ]
     },
     "metadata": {},
     "output_type": "display_data"
    },
    {
     "name": "stdout",
     "output_type": "stream",
     "text": [
      "New Best Accuracy found: 87.37%\n",
      "Epoch: 1\n",
      "Epoch:10/100 AVG Training Loss:0.423 AVG Validation Loss:0.372 AVG Training Acc 84.74 % AVG Validation Acc 87.37 %\n",
      "Epoch:20/100 AVG Training Loss:0.412 AVG Validation Loss:0.364 AVG Training Acc 84.73 % AVG Validation Acc 87.37 %\n",
      "Epoch:30/100 AVG Training Loss:0.405 AVG Validation Loss:0.354 AVG Training Acc 84.74 % AVG Validation Acc 87.37 %\n",
      "New Best Accuracy found: 87.50%\n",
      "Epoch: 34\n",
      "Epoch    37: reducing learning rate of group 0 to 1.0000e-03.\n",
      "Epoch:40/100 AVG Training Loss:0.389 AVG Validation Loss:0.358 AVG Training Acc 84.89 % AVG Validation Acc 87.50 %\n",
      "Epoch:50/100 AVG Training Loss:0.379 AVG Validation Loss:0.364 AVG Training Acc 85.07 % AVG Validation Acc 87.37 %\n",
      "Epoch:60/100 AVG Training Loss:0.372 AVG Validation Loss:0.372 AVG Training Acc 85.19 % AVG Validation Acc 87.37 %\n",
      "Epoch    68: reducing learning rate of group 0 to 1.0000e-04.\n",
      "Epoch:70/100 AVG Training Loss:0.366 AVG Validation Loss:0.378 AVG Training Acc 85.28 % AVG Validation Acc 87.37 %\n",
      "Epoch:80/100 AVG Training Loss:0.366 AVG Validation Loss:0.378 AVG Training Acc 85.25 % AVG Validation Acc 87.37 %\n",
      "Epoch:90/100 AVG Training Loss:0.363 AVG Validation Loss:0.376 AVG Training Acc 85.43 % AVG Validation Acc 87.50 %\n",
      "Epoch    99: reducing learning rate of group 0 to 1.0000e-05.\n",
      "Epoch:100/100 AVG Training Loss:0.364 AVG Validation Loss:0.387 AVG Training Acc 85.46 % AVG Validation Acc 87.37 %\n",
      "Split 14\n"
     ]
    },
    {
     "data": {
      "application/vnd.jupyter.widget-view+json": {
       "model_id": "8f30c8895db6442aaeea179fecac9e50",
       "version_major": 2,
       "version_minor": 0
      },
      "text/plain": [
       "  0%|          | 0/100 [00:00<?, ?it/s]"
      ]
     },
     "metadata": {},
     "output_type": "display_data"
    },
    {
     "name": "stdout",
     "output_type": "stream",
     "text": [
      "Epoch:10/100 AVG Training Loss:0.414 AVG Validation Loss:0.428 AVG Training Acc 85.04 % AVG Validation Acc 84.41 %\n",
      "Epoch:20/100 AVG Training Loss:0.407 AVG Validation Loss:0.430 AVG Training Acc 85.03 % AVG Validation Acc 84.41 %\n",
      "Epoch:30/100 AVG Training Loss:0.402 AVG Validation Loss:0.429 AVG Training Acc 85.13 % AVG Validation Acc 84.41 %\n",
      "Epoch    38: reducing learning rate of group 0 to 1.0000e-03.\n",
      "Epoch:40/100 AVG Training Loss:0.392 AVG Validation Loss:0.434 AVG Training Acc 85.25 % AVG Validation Acc 84.27 %\n",
      "Epoch:50/100 AVG Training Loss:0.380 AVG Validation Loss:0.443 AVG Training Acc 85.53 % AVG Validation Acc 84.14 %\n",
      "Epoch:60/100 AVG Training Loss:0.372 AVG Validation Loss:0.453 AVG Training Acc 85.64 % AVG Validation Acc 83.87 %\n",
      "Epoch    69: reducing learning rate of group 0 to 1.0000e-04.\n",
      "Epoch:70/100 AVG Training Loss:0.366 AVG Validation Loss:0.456 AVG Training Acc 85.82 % AVG Validation Acc 83.60 %\n",
      "Epoch:80/100 AVG Training Loss:0.362 AVG Validation Loss:0.466 AVG Training Acc 85.82 % AVG Validation Acc 83.33 %\n",
      "Epoch:90/100 AVG Training Loss:0.362 AVG Validation Loss:0.462 AVG Training Acc 85.91 % AVG Validation Acc 83.33 %\n",
      "Epoch:100/100 AVG Training Loss:0.362 AVG Validation Loss:0.466 AVG Training Acc 86.19 % AVG Validation Acc 83.20 %\n",
      "Epoch   100: reducing learning rate of group 0 to 1.0000e-05.\n",
      "Split 15\n"
     ]
    },
    {
     "data": {
      "application/vnd.jupyter.widget-view+json": {
       "model_id": "a082d475ac9b434dbc3fcca5c1a19564",
       "version_major": 2,
       "version_minor": 0
      },
      "text/plain": [
       "  0%|          | 0/100 [00:00<?, ?it/s]"
      ]
     },
     "metadata": {},
     "output_type": "display_data"
    },
    {
     "name": "stdout",
     "output_type": "stream",
     "text": [
      "Epoch:10/100 AVG Training Loss:0.421 AVG Validation Loss:0.393 AVG Training Acc 84.86 % AVG Validation Acc 86.29 %\n",
      "Epoch:20/100 AVG Training Loss:0.413 AVG Validation Loss:0.378 AVG Training Acc 84.89 % AVG Validation Acc 86.29 %\n",
      "Epoch:30/100 AVG Training Loss:0.404 AVG Validation Loss:0.376 AVG Training Acc 84.82 % AVG Validation Acc 86.16 %\n",
      "Epoch    39: reducing learning rate of group 0 to 1.0000e-03.\n",
      "Epoch:40/100 AVG Training Loss:0.420 AVG Validation Loss:0.392 AVG Training Acc 84.88 % AVG Validation Acc 86.29 %\n",
      "Epoch:50/100 AVG Training Loss:0.412 AVG Validation Loss:0.386 AVG Training Acc 84.91 % AVG Validation Acc 86.29 %\n",
      "Epoch:60/100 AVG Training Loss:0.407 AVG Validation Loss:0.378 AVG Training Acc 84.88 % AVG Validation Acc 86.29 %\n",
      "Epoch:70/100 AVG Training Loss:0.403 AVG Validation Loss:0.376 AVG Training Acc 84.91 % AVG Validation Acc 86.29 %\n",
      "Epoch    70: reducing learning rate of group 0 to 1.0000e-04.\n",
      "Epoch:80/100 AVG Training Loss:0.401 AVG Validation Loss:0.378 AVG Training Acc 84.97 % AVG Validation Acc 86.29 %\n",
      "Epoch:90/100 AVG Training Loss:0.400 AVG Validation Loss:0.377 AVG Training Acc 84.91 % AVG Validation Acc 86.29 %\n",
      "Epoch:100/100 AVG Training Loss:0.401 AVG Validation Loss:0.374 AVG Training Acc 84.98 % AVG Validation Acc 86.29 %\n",
      "Split 16\n"
     ]
    },
    {
     "data": {
      "application/vnd.jupyter.widget-view+json": {
       "model_id": "a47b1c60c9474cd38567a1bc82630799",
       "version_major": 2,
       "version_minor": 0
      },
      "text/plain": [
       "  0%|          | 0/100 [00:00<?, ?it/s]"
      ]
     },
     "metadata": {},
     "output_type": "display_data"
    },
    {
     "name": "stdout",
     "output_type": "stream",
     "text": [
      "Epoch:10/100 AVG Training Loss:0.418 AVG Validation Loss:0.398 AVG Training Acc 84.88 % AVG Validation Acc 86.16 %\n",
      "Epoch:20/100 AVG Training Loss:0.412 AVG Validation Loss:0.394 AVG Training Acc 84.86 % AVG Validation Acc 86.16 %\n",
      "Epoch    29: reducing learning rate of group 0 to 1.0000e-03.\n",
      "Epoch:30/100 AVG Training Loss:0.402 AVG Validation Loss:0.404 AVG Training Acc 84.91 % AVG Validation Acc 86.16 %\n",
      "Epoch:40/100 AVG Training Loss:0.394 AVG Validation Loss:0.410 AVG Training Acc 84.92 % AVG Validation Acc 86.16 %\n",
      "Epoch:50/100 AVG Training Loss:0.391 AVG Validation Loss:0.418 AVG Training Acc 84.95 % AVG Validation Acc 86.02 %\n",
      "Epoch:60/100 AVG Training Loss:0.385 AVG Validation Loss:0.426 AVG Training Acc 85.18 % AVG Validation Acc 86.02 %\n",
      "Epoch    60: reducing learning rate of group 0 to 1.0000e-04.\n",
      "Epoch:70/100 AVG Training Loss:0.383 AVG Validation Loss:0.428 AVG Training Acc 85.13 % AVG Validation Acc 86.02 %\n",
      "Epoch:80/100 AVG Training Loss:0.382 AVG Validation Loss:0.434 AVG Training Acc 85.21 % AVG Validation Acc 86.02 %\n",
      "Epoch:90/100 AVG Training Loss:0.382 AVG Validation Loss:0.431 AVG Training Acc 85.12 % AVG Validation Acc 86.02 %\n",
      "Epoch    91: reducing learning rate of group 0 to 1.0000e-05.\n",
      "Epoch:100/100 AVG Training Loss:0.381 AVG Validation Loss:0.431 AVG Training Acc 85.15 % AVG Validation Acc 85.89 %\n",
      "Split 17\n"
     ]
    },
    {
     "data": {
      "application/vnd.jupyter.widget-view+json": {
       "model_id": "e854a22cbcf84ac2af10d219f9aef9f4",
       "version_major": 2,
       "version_minor": 0
      },
      "text/plain": [
       "  0%|          | 0/100 [00:00<?, ?it/s]"
      ]
     },
     "metadata": {},
     "output_type": "display_data"
    },
    {
     "name": "stdout",
     "output_type": "stream",
     "text": [
      "Epoch:10/100 AVG Training Loss:0.419 AVG Validation Loss:0.448 AVG Training Acc 85.18 % AVG Validation Acc 83.45 %\n",
      "Epoch:20/100 AVG Training Loss:0.408 AVG Validation Loss:0.443 AVG Training Acc 85.19 % AVG Validation Acc 83.45 %\n",
      "Epoch:30/100 AVG Training Loss:0.401 AVG Validation Loss:0.440 AVG Training Acc 85.19 % AVG Validation Acc 83.45 %\n",
      "Epoch:40/100 AVG Training Loss:0.395 AVG Validation Loss:0.444 AVG Training Acc 85.22 % AVG Validation Acc 83.45 %\n",
      "Epoch    40: reducing learning rate of group 0 to 1.0000e-03.\n",
      "Epoch:50/100 AVG Training Loss:0.380 AVG Validation Loss:0.459 AVG Training Acc 85.40 % AVG Validation Acc 83.18 %\n",
      "Epoch:60/100 AVG Training Loss:0.371 AVG Validation Loss:0.464 AVG Training Acc 85.51 % AVG Validation Acc 83.04 %\n",
      "Epoch:70/100 AVG Training Loss:0.369 AVG Validation Loss:0.476 AVG Training Acc 85.73 % AVG Validation Acc 82.64 %\n",
      "Epoch    71: reducing learning rate of group 0 to 1.0000e-04.\n",
      "Epoch:80/100 AVG Training Loss:0.360 AVG Validation Loss:0.472 AVG Training Acc 85.81 % AVG Validation Acc 82.64 %\n",
      "Epoch:90/100 AVG Training Loss:0.365 AVG Validation Loss:0.474 AVG Training Acc 85.64 % AVG Validation Acc 82.37 %\n",
      "Epoch:100/100 AVG Training Loss:0.364 AVG Validation Loss:0.471 AVG Training Acc 85.88 % AVG Validation Acc 82.50 %\n",
      "Split 18\n"
     ]
    },
    {
     "data": {
      "application/vnd.jupyter.widget-view+json": {
       "model_id": "52ff07edec07468eb900e0e9d5f1d954",
       "version_major": 2,
       "version_minor": 0
      },
      "text/plain": [
       "  0%|          | 0/100 [00:00<?, ?it/s]"
      ]
     },
     "metadata": {},
     "output_type": "display_data"
    },
    {
     "name": "stdout",
     "output_type": "stream",
     "text": [
      "Epoch:10/100 AVG Training Loss:0.410 AVG Validation Loss:0.458 AVG Training Acc 85.25 % AVG Validation Acc 82.77 %\n",
      "Epoch:20/100 AVG Training Loss:0.405 AVG Validation Loss:0.449 AVG Training Acc 85.25 % AVG Validation Acc 82.77 %\n",
      "Epoch:30/100 AVG Training Loss:0.401 AVG Validation Loss:0.450 AVG Training Acc 85.30 % AVG Validation Acc 82.77 %\n",
      "Epoch:40/100 AVG Training Loss:0.393 AVG Validation Loss:0.449 AVG Training Acc 85.40 % AVG Validation Acc 82.91 %\n",
      "Epoch:50/100 AVG Training Loss:0.393 AVG Validation Loss:0.461 AVG Training Acc 85.45 % AVG Validation Acc 82.50 %\n",
      "Epoch    53: reducing learning rate of group 0 to 1.0000e-03.\n",
      "Epoch:60/100 AVG Training Loss:0.377 AVG Validation Loss:0.465 AVG Training Acc 85.73 % AVG Validation Acc 82.23 %\n",
      "Epoch:70/100 AVG Training Loss:0.370 AVG Validation Loss:0.475 AVG Training Acc 85.91 % AVG Validation Acc 82.37 %\n",
      "Epoch:80/100 AVG Training Loss:0.362 AVG Validation Loss:0.490 AVG Training Acc 86.12 % AVG Validation Acc 82.23 %\n",
      "Epoch    84: reducing learning rate of group 0 to 1.0000e-04.\n",
      "Epoch:90/100 AVG Training Loss:0.359 AVG Validation Loss:0.501 AVG Training Acc 86.05 % AVG Validation Acc 82.50 %\n",
      "Epoch:100/100 AVG Training Loss:0.356 AVG Validation Loss:0.501 AVG Training Acc 86.15 % AVG Validation Acc 82.37 %\n",
      "Split 19\n"
     ]
    },
    {
     "data": {
      "application/vnd.jupyter.widget-view+json": {
       "model_id": "060487ca823641afabca0a6e95a6ed82",
       "version_major": 2,
       "version_minor": 0
      },
      "text/plain": [
       "  0%|          | 0/100 [00:00<?, ?it/s]"
      ]
     },
     "metadata": {},
     "output_type": "display_data"
    },
    {
     "name": "stdout",
     "output_type": "stream",
     "text": [
      "Epoch:10/100 AVG Training Loss:0.418 AVG Validation Loss:0.429 AVG Training Acc 84.92 % AVG Validation Acc 85.46 %\n",
      "Epoch:20/100 AVG Training Loss:0.412 AVG Validation Loss:0.404 AVG Training Acc 84.95 % AVG Validation Acc 85.46 %\n",
      "Epoch    20: reducing learning rate of group 0 to 1.0000e-03.\n",
      "Epoch:30/100 AVG Training Loss:0.402 AVG Validation Loss:0.403 AVG Training Acc 84.95 % AVG Validation Acc 85.46 %\n",
      "Epoch:40/100 AVG Training Loss:0.399 AVG Validation Loss:0.404 AVG Training Acc 85.01 % AVG Validation Acc 85.46 %\n",
      "Epoch:50/100 AVG Training Loss:0.394 AVG Validation Loss:0.405 AVG Training Acc 85.03 % AVG Validation Acc 85.20 %\n",
      "Epoch    51: reducing learning rate of group 0 to 1.0000e-04.\n",
      "Epoch:60/100 AVG Training Loss:0.391 AVG Validation Loss:0.411 AVG Training Acc 85.07 % AVG Validation Acc 85.20 %\n",
      "Epoch:70/100 AVG Training Loss:0.390 AVG Validation Loss:0.412 AVG Training Acc 85.03 % AVG Validation Acc 85.20 %\n",
      "Epoch:80/100 AVG Training Loss:0.389 AVG Validation Loss:0.413 AVG Training Acc 85.06 % AVG Validation Acc 85.06 %\n",
      "Epoch    82: reducing learning rate of group 0 to 1.0000e-05.\n",
      "Epoch:90/100 AVG Training Loss:0.385 AVG Validation Loss:0.414 AVG Training Acc 85.13 % AVG Validation Acc 85.06 %\n",
      "Epoch:100/100 AVG Training Loss:0.388 AVG Validation Loss:0.414 AVG Training Acc 85.15 % AVG Validation Acc 85.06 %\n",
      "Split 20\n"
     ]
    },
    {
     "data": {
      "application/vnd.jupyter.widget-view+json": {
       "model_id": "514698aaab994d14b11772e45b21a2d3",
       "version_major": 2,
       "version_minor": 0
      },
      "text/plain": [
       "  0%|          | 0/100 [00:00<?, ?it/s]"
      ]
     },
     "metadata": {},
     "output_type": "display_data"
    },
    {
     "name": "stdout",
     "output_type": "stream",
     "text": [
      "Epoch:10/100 AVG Training Loss:0.413 AVG Validation Loss:0.424 AVG Training Acc 85.00 % AVG Validation Acc 84.25 %\n",
      "Epoch:20/100 AVG Training Loss:0.408 AVG Validation Loss:0.422 AVG Training Acc 85.03 % AVG Validation Acc 83.98 %\n",
      "Epoch    24: reducing learning rate of group 0 to 1.0000e-03.\n",
      "Epoch:30/100 AVG Training Loss:0.396 AVG Validation Loss:0.427 AVG Training Acc 85.25 % AVG Validation Acc 84.25 %\n",
      "Epoch:40/100 AVG Training Loss:0.391 AVG Validation Loss:0.430 AVG Training Acc 85.33 % AVG Validation Acc 84.39 %\n",
      "Epoch:50/100 AVG Training Loss:0.388 AVG Validation Loss:0.436 AVG Training Acc 85.51 % AVG Validation Acc 84.25 %\n",
      "Epoch    55: reducing learning rate of group 0 to 1.0000e-04.\n",
      "Epoch:60/100 AVG Training Loss:0.382 AVG Validation Loss:0.439 AVG Training Acc 85.72 % AVG Validation Acc 83.98 %\n",
      "Epoch:70/100 AVG Training Loss:0.382 AVG Validation Loss:0.439 AVG Training Acc 85.66 % AVG Validation Acc 84.25 %\n",
      "Epoch:80/100 AVG Training Loss:0.380 AVG Validation Loss:0.442 AVG Training Acc 85.73 % AVG Validation Acc 84.12 %\n",
      "Epoch    86: reducing learning rate of group 0 to 1.0000e-05.\n",
      "Epoch:90/100 AVG Training Loss:0.381 AVG Validation Loss:0.442 AVG Training Acc 85.76 % AVG Validation Acc 84.39 %\n",
      "Epoch:100/100 AVG Training Loss:0.381 AVG Validation Loss:0.442 AVG Training Acc 85.66 % AVG Validation Acc 84.25 %\n",
      "Split 21\n"
     ]
    },
    {
     "data": {
      "application/vnd.jupyter.widget-view+json": {
       "model_id": "d5301e0852124da1b5fa621a14ffb26f",
       "version_major": 2,
       "version_minor": 0
      },
      "text/plain": [
       "  0%|          | 0/100 [00:00<?, ?it/s]"
      ]
     },
     "metadata": {},
     "output_type": "display_data"
    },
    {
     "name": "stdout",
     "output_type": "stream",
     "text": [
      "Epoch:10/100 AVG Training Loss:0.415 AVG Validation Loss:0.419 AVG Training Acc 85.03 % AVG Validation Acc 84.81 %\n",
      "Epoch:20/100 AVG Training Loss:0.409 AVG Validation Loss:0.417 AVG Training Acc 85.01 % AVG Validation Acc 84.81 %\n",
      "Epoch    26: reducing learning rate of group 0 to 1.0000e-03.\n",
      "Epoch:30/100 AVG Training Loss:0.397 AVG Validation Loss:0.421 AVG Training Acc 85.07 % AVG Validation Acc 84.81 %\n",
      "Epoch:40/100 AVG Training Loss:0.392 AVG Validation Loss:0.425 AVG Training Acc 85.06 % AVG Validation Acc 84.81 %\n",
      "Epoch:50/100 AVG Training Loss:0.388 AVG Validation Loss:0.429 AVG Training Acc 85.16 % AVG Validation Acc 84.68 %\n",
      "Epoch    57: reducing learning rate of group 0 to 1.0000e-04.\n",
      "Epoch:60/100 AVG Training Loss:0.385 AVG Validation Loss:0.434 AVG Training Acc 85.13 % AVG Validation Acc 84.54 %\n",
      "Epoch:70/100 AVG Training Loss:0.383 AVG Validation Loss:0.435 AVG Training Acc 85.15 % AVG Validation Acc 84.68 %\n",
      "Epoch:80/100 AVG Training Loss:0.383 AVG Validation Loss:0.434 AVG Training Acc 85.15 % AVG Validation Acc 84.41 %\n",
      "Epoch    88: reducing learning rate of group 0 to 1.0000e-05.\n",
      "Epoch:90/100 AVG Training Loss:0.381 AVG Validation Loss:0.436 AVG Training Acc 85.09 % AVG Validation Acc 84.68 %\n",
      "Epoch:100/100 AVG Training Loss:0.382 AVG Validation Loss:0.436 AVG Training Acc 85.16 % AVG Validation Acc 84.68 %\n",
      "Split 22\n"
     ]
    },
    {
     "data": {
      "application/vnd.jupyter.widget-view+json": {
       "model_id": "cce1a62a20e34ac59ba3e652e0beed2a",
       "version_major": 2,
       "version_minor": 0
      },
      "text/plain": [
       "  0%|          | 0/100 [00:00<?, ?it/s]"
      ]
     },
     "metadata": {},
     "output_type": "display_data"
    },
    {
     "name": "stdout",
     "output_type": "stream",
     "text": [
      "Epoch:10/100 AVG Training Loss:0.415 AVG Validation Loss:0.435 AVG Training Acc 85.01 % AVG Validation Acc 84.95 %\n",
      "Epoch:20/100 AVG Training Loss:0.409 AVG Validation Loss:0.415 AVG Training Acc 85.01 % AVG Validation Acc 84.95 %\n",
      "Epoch:30/100 AVG Training Loss:0.402 AVG Validation Loss:0.424 AVG Training Acc 85.13 % AVG Validation Acc 84.81 %\n",
      "Epoch    38: reducing learning rate of group 0 to 1.0000e-03.\n",
      "Epoch:40/100 AVG Training Loss:0.391 AVG Validation Loss:0.420 AVG Training Acc 85.15 % AVG Validation Acc 84.95 %\n",
      "Epoch:50/100 AVG Training Loss:0.378 AVG Validation Loss:0.431 AVG Training Acc 85.37 % AVG Validation Acc 84.95 %\n",
      "Epoch:60/100 AVG Training Loss:0.371 AVG Validation Loss:0.443 AVG Training Acc 85.46 % AVG Validation Acc 84.68 %\n",
      "Epoch    69: reducing learning rate of group 0 to 1.0000e-04.\n",
      "Epoch:70/100 AVG Training Loss:0.361 AVG Validation Loss:0.455 AVG Training Acc 85.83 % AVG Validation Acc 85.08 %\n",
      "Epoch:80/100 AVG Training Loss:0.360 AVG Validation Loss:0.459 AVG Training Acc 85.91 % AVG Validation Acc 84.68 %\n",
      "Epoch:90/100 AVG Training Loss:0.360 AVG Validation Loss:0.463 AVG Training Acc 85.88 % AVG Validation Acc 84.41 %\n",
      "Epoch:100/100 AVG Training Loss:0.358 AVG Validation Loss:0.459 AVG Training Acc 85.91 % AVG Validation Acc 84.95 %\n",
      "Epoch   100: reducing learning rate of group 0 to 1.0000e-05.\n",
      "Split 23\n"
     ]
    },
    {
     "data": {
      "application/vnd.jupyter.widget-view+json": {
       "model_id": "63d10e7902af44debeb89f7327e1c40b",
       "version_major": 2,
       "version_minor": 0
      },
      "text/plain": [
       "  0%|          | 0/100 [00:00<?, ?it/s]"
      ]
     },
     "metadata": {},
     "output_type": "display_data"
    },
    {
     "name": "stdout",
     "output_type": "stream",
     "text": [
      "Epoch:10/100 AVG Training Loss:0.419 AVG Validation Loss:0.385 AVG Training Acc 84.82 % AVG Validation Acc 86.69 %\n",
      "Epoch:20/100 AVG Training Loss:0.413 AVG Validation Loss:0.377 AVG Training Acc 84.82 % AVG Validation Acc 86.69 %\n",
      "Epoch:30/100 AVG Training Loss:0.409 AVG Validation Loss:0.379 AVG Training Acc 84.80 % AVG Validation Acc 86.69 %\n",
      "Epoch    30: reducing learning rate of group 0 to 1.0000e-03.\n",
      "Epoch:40/100 AVG Training Loss:0.403 AVG Validation Loss:0.374 AVG Training Acc 84.85 % AVG Validation Acc 86.83 %\n",
      "Epoch:50/100 AVG Training Loss:0.397 AVG Validation Loss:0.375 AVG Training Acc 84.89 % AVG Validation Acc 86.69 %\n",
      "Epoch:60/100 AVG Training Loss:0.396 AVG Validation Loss:0.376 AVG Training Acc 84.94 % AVG Validation Acc 86.69 %\n",
      "Epoch    61: reducing learning rate of group 0 to 1.0000e-04.\n",
      "Epoch:70/100 AVG Training Loss:0.391 AVG Validation Loss:0.376 AVG Training Acc 84.92 % AVG Validation Acc 86.69 %\n",
      "Epoch:80/100 AVG Training Loss:0.391 AVG Validation Loss:0.375 AVG Training Acc 84.92 % AVG Validation Acc 86.69 %\n",
      "Epoch:90/100 AVG Training Loss:0.388 AVG Validation Loss:0.375 AVG Training Acc 84.89 % AVG Validation Acc 86.69 %\n",
      "Epoch    92: reducing learning rate of group 0 to 1.0000e-05.\n",
      "Epoch:100/100 AVG Training Loss:0.388 AVG Validation Loss:0.376 AVG Training Acc 84.91 % AVG Validation Acc 86.69 %\n",
      "Split 24\n"
     ]
    },
    {
     "data": {
      "application/vnd.jupyter.widget-view+json": {
       "model_id": "0b79e7395adc45358316c6df6a2c3431",
       "version_major": 2,
       "version_minor": 0
      },
      "text/plain": [
       "  0%|          | 0/100 [00:00<?, ?it/s]"
      ]
     },
     "metadata": {},
     "output_type": "display_data"
    },
    {
     "name": "stdout",
     "output_type": "stream",
     "text": [
      "Epoch:10/100 AVG Training Loss:0.414 AVG Validation Loss:0.440 AVG Training Acc 85.16 % AVG Validation Acc 83.60 %\n",
      "Epoch:20/100 AVG Training Loss:0.405 AVG Validation Loss:0.439 AVG Training Acc 85.16 % AVG Validation Acc 83.60 %\n",
      "Epoch    27: reducing learning rate of group 0 to 1.0000e-03.\n",
      "Epoch:30/100 AVG Training Loss:0.396 AVG Validation Loss:0.444 AVG Training Acc 85.18 % AVG Validation Acc 83.60 %\n",
      "Epoch:40/100 AVG Training Loss:0.390 AVG Validation Loss:0.454 AVG Training Acc 85.30 % AVG Validation Acc 83.74 %\n",
      "Epoch:50/100 AVG Training Loss:0.385 AVG Validation Loss:0.464 AVG Training Acc 85.37 % AVG Validation Acc 83.74 %\n",
      "Epoch    58: reducing learning rate of group 0 to 1.0000e-04.\n",
      "Epoch:60/100 AVG Training Loss:0.379 AVG Validation Loss:0.468 AVG Training Acc 85.42 % AVG Validation Acc 83.60 %\n",
      "Epoch:70/100 AVG Training Loss:0.379 AVG Validation Loss:0.470 AVG Training Acc 85.30 % AVG Validation Acc 83.60 %\n",
      "Epoch:80/100 AVG Training Loss:0.377 AVG Validation Loss:0.472 AVG Training Acc 85.46 % AVG Validation Acc 83.06 %\n",
      "Epoch    89: reducing learning rate of group 0 to 1.0000e-05.\n",
      "Epoch:90/100 AVG Training Loss:0.376 AVG Validation Loss:0.473 AVG Training Acc 85.51 % AVG Validation Acc 83.06 %\n",
      "Epoch:100/100 AVG Training Loss:0.373 AVG Validation Loss:0.473 AVG Training Acc 85.51 % AVG Validation Acc 83.06 %\n",
      "Split 25\n"
     ]
    },
    {
     "data": {
      "application/vnd.jupyter.widget-view+json": {
       "model_id": "6791d9ca83db45139d0f21b8f59be8bb",
       "version_major": 2,
       "version_minor": 0
      },
      "text/plain": [
       "  0%|          | 0/100 [00:00<?, ?it/s]"
      ]
     },
     "metadata": {},
     "output_type": "display_data"
    },
    {
     "name": "stdout",
     "output_type": "stream",
     "text": [
      "Epoch:10/100 AVG Training Loss:0.413 AVG Validation Loss:0.390 AVG Training Acc 84.77 % AVG Validation Acc 86.16 %\n",
      "Epoch:20/100 AVG Training Loss:0.410 AVG Validation Loss:0.390 AVG Training Acc 84.88 % AVG Validation Acc 86.16 %\n",
      "Epoch:30/100 AVG Training Loss:0.403 AVG Validation Loss:0.391 AVG Training Acc 84.91 % AVG Validation Acc 86.16 %\n",
      "Epoch    35: reducing learning rate of group 0 to 1.0000e-03.\n",
      "Epoch:40/100 AVG Training Loss:0.394 AVG Validation Loss:0.395 AVG Training Acc 85.16 % AVG Validation Acc 86.02 %\n",
      "Epoch:50/100 AVG Training Loss:0.385 AVG Validation Loss:0.401 AVG Training Acc 85.33 % AVG Validation Acc 85.89 %\n",
      "Epoch:60/100 AVG Training Loss:0.377 AVG Validation Loss:0.410 AVG Training Acc 85.58 % AVG Validation Acc 85.75 %\n",
      "Epoch    66: reducing learning rate of group 0 to 1.0000e-04.\n",
      "Epoch:70/100 AVG Training Loss:0.370 AVG Validation Loss:0.419 AVG Training Acc 85.77 % AVG Validation Acc 85.62 %\n",
      "Epoch:80/100 AVG Training Loss:0.366 AVG Validation Loss:0.417 AVG Training Acc 85.83 % AVG Validation Acc 85.62 %\n",
      "Epoch:90/100 AVG Training Loss:0.365 AVG Validation Loss:0.427 AVG Training Acc 85.79 % AVG Validation Acc 85.22 %\n",
      "Epoch    97: reducing learning rate of group 0 to 1.0000e-05.\n",
      "Epoch:100/100 AVG Training Loss:0.364 AVG Validation Loss:0.424 AVG Training Acc 85.89 % AVG Validation Acc 85.35 %\n",
      "Split 26\n"
     ]
    },
    {
     "data": {
      "application/vnd.jupyter.widget-view+json": {
       "model_id": "1b979376582c400d9231739d84e8b916",
       "version_major": 2,
       "version_minor": 0
      },
      "text/plain": [
       "  0%|          | 0/100 [00:00<?, ?it/s]"
      ]
     },
     "metadata": {},
     "output_type": "display_data"
    },
    {
     "name": "stdout",
     "output_type": "stream",
     "text": [
      "Epoch:10/100 AVG Training Loss:0.413 AVG Validation Loss:0.420 AVG Training Acc 85.04 % AVG Validation Acc 84.68 %\n",
      "Epoch    17: reducing learning rate of group 0 to 1.0000e-03.\n",
      "Epoch:20/100 AVG Training Loss:0.400 AVG Validation Loss:0.420 AVG Training Acc 85.07 % AVG Validation Acc 84.68 %\n",
      "Epoch:30/100 AVG Training Loss:0.397 AVG Validation Loss:0.424 AVG Training Acc 85.10 % AVG Validation Acc 84.68 %\n",
      "Epoch:40/100 AVG Training Loss:0.391 AVG Validation Loss:0.429 AVG Training Acc 85.13 % AVG Validation Acc 84.68 %\n",
      "Epoch    48: reducing learning rate of group 0 to 1.0000e-04.\n",
      "Epoch:50/100 AVG Training Loss:0.382 AVG Validation Loss:0.439 AVG Training Acc 85.27 % AVG Validation Acc 84.54 %\n",
      "Epoch:60/100 AVG Training Loss:0.382 AVG Validation Loss:0.444 AVG Training Acc 85.13 % AVG Validation Acc 84.68 %\n",
      "Epoch:70/100 AVG Training Loss:0.380 AVG Validation Loss:0.446 AVG Training Acc 85.31 % AVG Validation Acc 84.54 %\n",
      "Epoch    79: reducing learning rate of group 0 to 1.0000e-05.\n",
      "Epoch:80/100 AVG Training Loss:0.378 AVG Validation Loss:0.449 AVG Training Acc 85.37 % AVG Validation Acc 84.41 %\n",
      "Epoch:90/100 AVG Training Loss:0.376 AVG Validation Loss:0.450 AVG Training Acc 85.36 % AVG Validation Acc 84.41 %\n",
      "Epoch:100/100 AVG Training Loss:0.379 AVG Validation Loss:0.451 AVG Training Acc 85.33 % AVG Validation Acc 84.27 %\n",
      "Split 27\n"
     ]
    },
    {
     "data": {
      "application/vnd.jupyter.widget-view+json": {
       "model_id": "5613dbb01de84f7e979401795f46ea29",
       "version_major": 2,
       "version_minor": 0
      },
      "text/plain": [
       "  0%|          | 0/100 [00:00<?, ?it/s]"
      ]
     },
     "metadata": {},
     "output_type": "display_data"
    },
    {
     "name": "stdout",
     "output_type": "stream",
     "text": [
      "Epoch:10/100 AVG Training Loss:0.425 AVG Validation Loss:0.418 AVG Training Acc 85.00 % AVG Validation Acc 85.06 %\n",
      "Epoch    18: reducing learning rate of group 0 to 1.0000e-03.\n",
      "Epoch:20/100 AVG Training Loss:0.423 AVG Validation Loss:0.421 AVG Training Acc 85.00 % AVG Validation Acc 85.06 %\n",
      "Epoch:30/100 AVG Training Loss:0.419 AVG Validation Loss:0.414 AVG Training Acc 85.00 % AVG Validation Acc 85.06 %\n",
      "Epoch:40/100 AVG Training Loss:0.413 AVG Validation Loss:0.408 AVG Training Acc 85.01 % AVG Validation Acc 85.06 %\n",
      "Epoch:50/100 AVG Training Loss:0.409 AVG Validation Loss:0.405 AVG Training Acc 85.01 % AVG Validation Acc 85.06 %\n",
      "Epoch:60/100 AVG Training Loss:0.406 AVG Validation Loss:0.405 AVG Training Acc 85.01 % AVG Validation Acc 85.06 %\n",
      "Epoch:70/100 AVG Training Loss:0.405 AVG Validation Loss:0.406 AVG Training Acc 85.07 % AVG Validation Acc 85.06 %\n",
      "Epoch    74: reducing learning rate of group 0 to 1.0000e-04.\n",
      "Epoch:80/100 AVG Training Loss:0.403 AVG Validation Loss:0.405 AVG Training Acc 85.03 % AVG Validation Acc 85.06 %\n",
      "Epoch:90/100 AVG Training Loss:0.403 AVG Validation Loss:0.406 AVG Training Acc 85.03 % AVG Validation Acc 85.06 %\n",
      "Epoch:100/100 AVG Training Loss:0.401 AVG Validation Loss:0.405 AVG Training Acc 85.06 % AVG Validation Acc 85.06 %\n",
      "Split 28\n"
     ]
    },
    {
     "data": {
      "application/vnd.jupyter.widget-view+json": {
       "model_id": "5eee581351d246c296d0e435b3a8f7e9",
       "version_major": 2,
       "version_minor": 0
      },
      "text/plain": [
       "  0%|          | 0/100 [00:00<?, ?it/s]"
      ]
     },
     "metadata": {},
     "output_type": "display_data"
    },
    {
     "name": "stdout",
     "output_type": "stream",
     "text": [
      "Epoch:10/100 AVG Training Loss:0.416 AVG Validation Loss:0.422 AVG Training Acc 85.06 % AVG Validation Acc 84.52 %\n",
      "Epoch:20/100 AVG Training Loss:0.409 AVG Validation Loss:0.416 AVG Training Acc 85.06 % AVG Validation Acc 84.52 %\n",
      "Epoch    25: reducing learning rate of group 0 to 1.0000e-03.\n",
      "Epoch:30/100 AVG Training Loss:0.401 AVG Validation Loss:0.409 AVG Training Acc 85.18 % AVG Validation Acc 84.39 %\n",
      "Epoch:40/100 AVG Training Loss:0.398 AVG Validation Loss:0.410 AVG Training Acc 85.15 % AVG Validation Acc 84.39 %\n",
      "Epoch:50/100 AVG Training Loss:0.396 AVG Validation Loss:0.411 AVG Training Acc 85.09 % AVG Validation Acc 84.39 %\n",
      "Epoch    56: reducing learning rate of group 0 to 1.0000e-04.\n",
      "Epoch:60/100 AVG Training Loss:0.390 AVG Validation Loss:0.415 AVG Training Acc 85.27 % AVG Validation Acc 84.39 %\n",
      "Epoch:70/100 AVG Training Loss:0.392 AVG Validation Loss:0.415 AVG Training Acc 85.25 % AVG Validation Acc 84.39 %\n",
      "Epoch:80/100 AVG Training Loss:0.389 AVG Validation Loss:0.416 AVG Training Acc 85.30 % AVG Validation Acc 84.39 %\n",
      "Epoch    87: reducing learning rate of group 0 to 1.0000e-05.\n",
      "Epoch:90/100 AVG Training Loss:0.388 AVG Validation Loss:0.417 AVG Training Acc 85.36 % AVG Validation Acc 84.39 %\n",
      "Epoch:100/100 AVG Training Loss:0.388 AVG Validation Loss:0.416 AVG Training Acc 85.28 % AVG Validation Acc 84.39 %\n",
      "Split 29\n"
     ]
    },
    {
     "data": {
      "application/vnd.jupyter.widget-view+json": {
       "model_id": "c4d2d137c50648a1a52602cd0f2fbd19",
       "version_major": 2,
       "version_minor": 0
      },
      "text/plain": [
       "  0%|          | 0/100 [00:00<?, ?it/s]"
      ]
     },
     "metadata": {},
     "output_type": "display_data"
    },
    {
     "name": "stdout",
     "output_type": "stream",
     "text": [
      "Epoch:10/100 AVG Training Loss:0.417 AVG Validation Loss:0.408 AVG Training Acc 85.00 % AVG Validation Acc 85.06 %\n",
      "Epoch:20/100 AVG Training Loss:0.410 AVG Validation Loss:0.405 AVG Training Acc 85.00 % AVG Validation Acc 85.06 %\n",
      "Epoch:30/100 AVG Training Loss:0.403 AVG Validation Loss:0.410 AVG Training Acc 85.04 % AVG Validation Acc 85.06 %\n",
      "Epoch    37: reducing learning rate of group 0 to 1.0000e-03.\n",
      "Epoch:40/100 AVG Training Loss:0.393 AVG Validation Loss:0.412 AVG Training Acc 85.09 % AVG Validation Acc 85.06 %\n",
      "Epoch:50/100 AVG Training Loss:0.382 AVG Validation Loss:0.423 AVG Training Acc 85.09 % AVG Validation Acc 85.06 %\n",
      "Epoch:60/100 AVG Training Loss:0.375 AVG Validation Loss:0.436 AVG Training Acc 85.36 % AVG Validation Acc 84.66 %\n",
      "Epoch    68: reducing learning rate of group 0 to 1.0000e-04.\n",
      "Epoch:70/100 AVG Training Loss:0.362 AVG Validation Loss:0.452 AVG Training Acc 85.51 % AVG Validation Acc 84.52 %\n",
      "Epoch:80/100 AVG Training Loss:0.365 AVG Validation Loss:0.458 AVG Training Acc 85.42 % AVG Validation Acc 84.39 %\n"
     ]
    }
   ],
   "source": [
    "for i in tqdm(normalized_data.keys()):\n",
    "    \n",
    "    print(i)\n",
    "    threshold_dict = {} #dict to store information in for each threshold\n",
    "    data = deepcopy(normalized_data[i])\n",
    "    \n",
    "    #set X and Y columns\n",
    "    X = data[data.columns[:25]] #different timesteps\n",
    "    y = data[data.columns[-4:]] #the 4 different putative targets\n",
    "    \n",
    "    for k in tqdm(targets):\n",
    "        print(k)\n",
    "        \n",
    "        #Start with train test split\n",
    "        X_train_val, X_test, y_train_val, y_test, = train_test_split(\n",
    "                                    X,\n",
    "                                   y[k], #replace when going for multi-target \n",
    "                                   test_size = 0.20,\n",
    "                                   random_state = 15,\n",
    "                                   shuffle=True,\n",
    "                                   stratify = y[k] #replace when going for multi-target\n",
    "                                    )\n",
    "\n",
    "        # ##second, convert everything to pytorch tensor - we will convert to tensor dataset and \n",
    "        X_train_tensors = Variable(torch.Tensor(X_train_val.values))\n",
    "        X_test_tensors = Variable(torch.Tensor(X_test.values))\n",
    "\n",
    "        y_train_tensors = Variable(torch.Tensor(y_train_val.values))\n",
    "        y_test_tensors = Variable(torch.Tensor(y_test.values)) \n",
    "\n",
    "        #now, we have a dataset with features\n",
    "        print('Before reshaping:')\n",
    "        print(\"Training Shape\", X_train_tensors.shape, y_train_tensors.shape)\n",
    "        print(\"Testing Shape\", X_test_tensors.shape, y_test_tensors.shape)\n",
    "\n",
    "        #reshaping to rows, timestamps, features \n",
    "        X_train_tensors = torch.reshape(X_train_tensors,   (X_train_tensors.shape[0], X_train_tensors.shape[1], 1))\n",
    "        X_test_tensors = torch.reshape(X_test_tensors,  (X_test_tensors.shape[0], X_test_tensors.shape[1], 1))\n",
    "\n",
    "        #repeat for y\n",
    "        y_train_tensors = y_train_tensors.type(torch.cuda.LongTensor)\n",
    "        y_test_tensors = y_test_tensors.type(torch.cuda.LongTensor)\n",
    "\n",
    "        print('\\nAfter reshaping:')\n",
    "        print(\"Training Shape\", X_train_tensors.shape, y_train_tensors.shape)\n",
    "        print(\"Testing Shape\", X_test_tensors.shape, y_test_tensors.shape)\n",
    "\n",
    "        #create dataset\n",
    "        dataset = TensorDataset(X_train_tensors, y_train_tensors)\n",
    "        \n",
    "        #create dict to store fold performance\n",
    "        foldperf={}\n",
    "        \n",
    "        #reset \"best accuracy for treshold i and target k\"\n",
    "        \n",
    "        best_accuracy = 0\n",
    "\n",
    "        for fold, (train_idx,val_idx) in tqdm(enumerate(splits.split(np.arange(len(dataset))))):\n",
    "\n",
    "            print('Split {}'.format(fold + 1))\n",
    "\n",
    "            train_sampler = SubsetRandomSampler(train_idx)\n",
    "            val_sampler = SubsetRandomSampler(val_idx)\n",
    "            train_loader = DataLoader(dataset, batch_size=batch_size, sampler=train_sampler)\n",
    "            val_loader = DataLoader(dataset, batch_size=batch_size, sampler=val_sampler)\n",
    "    \n",
    "            #creates new model for each \n",
    "            model = LSTM_Uni(num_classes, input_size, hidden_size, num_layers, X_train_tensors.shape[1]).to('cuda') #our lstm class\n",
    "            optimizer = torch.optim.Adam(model.parameters(), lr=learning_rate) \n",
    "            scheduler = ReduceLROnPlateau(optimizer, \n",
    "                                  'min', \n",
    "                                  patience = 10,\n",
    "                                  cooldown = 20,\n",
    "                                 verbose = True)\n",
    "    \n",
    "            history = {'train_loss': [], 'val_loss': [],'train_acc':[],'val_acc':[], 'precision': [],\n",
    "                      'recall' : [], 'auroc': []}\n",
    "\n",
    "            for epoch in tqdm(range(num_epochs)):\n",
    "                train_loss, train_correct=train_epoch(model,train_loader,criterion,optimizer)\n",
    "                val_loss, val_correct, precision, recall, auroc = valid_epoch(model,val_loader,criterion)\n",
    "\n",
    "                train_loss = train_loss / len(train_loader.sampler)\n",
    "                train_acc = train_correct / len(train_loader.sampler) * 100\n",
    "                val_loss = val_loss / len(val_loader.sampler)\n",
    "                val_acc = val_correct / len(val_loader.sampler) * 100\n",
    "        \n",
    "        \n",
    "                if (epoch+1) % 10 == 0: \n",
    "                    print(\"Epoch:{}/{} AVG Training Loss:{:.3f} AVG Validation Loss:{:.3f} AVG Training Acc {:.2f} % AVG Validation Acc {:.2f} %\".format(epoch + 1,\n",
    "                                                                                                             num_epochs,\n",
    "                                                                                                             train_loss,\n",
    "                                                                                                             val_loss,\n",
    "                                                                                                             train_acc,\n",
    "                                                                                                             val_acc))\n",
    "                history['train_loss'].append(train_loss)\n",
    "                history['val_loss'].append(val_loss)\n",
    "                history['train_acc'].append(train_acc)\n",
    "                history['val_acc'].append(val_acc)\n",
    "                history['precision'].append(precision)\n",
    "                history['recall'].append(recall)\n",
    "                history['auroc'].append(auroc)\n",
    "                scheduler.step(val_loss)\n",
    "    \n",
    "                if val_acc > best_accuracy:\n",
    "            \n",
    "                #replace best accuracy and save best model\n",
    "                    print(f'New Best Accuracy found: {val_acc:.2f}%\\nEpoch: {epoch + 1}')\n",
    "                    best_accuracy = val_acc\n",
    "                    best = deepcopy(model)\n",
    "                    curr_epoch = epoch + 1\n",
    "                    \n",
    "            #store fold performance\n",
    "            foldperf['fold{}'.format(fold+1)] = history\n",
    "        \n",
    "        #saves fold performance for target \n",
    "        threshold_dict[k] = pd.DataFrame.from_dict(foldperf, orient='index') # convert dict to dataframe\n",
    "        \n",
    "        #explode to get eacxh epoch as a row\n",
    "        threshold_dict[k] = threshold_dict[k].explode(list(threshold_dict[k].columns))\n",
    "        torch.save(best,f\"../Models/{i}/Nova_IMS_relative_clicks_best_{k}_{curr_epoch}_epochs.h\")\n",
    "        \n",
    "    # from pandas.io.parsers import ExcelWriter\n",
    "    with pd.ExcelWriter(f\"../Data/Modeling Stage/Results/IMS/Clicks_duration_relative/25_splits_{i}_{replicas}_replicas.xlsx\") as writer:  \n",
    "        for sheet in targets:\n",
    "                threshold_dict[sheet].to_excel(writer, sheet_name=str(sheet))"
   ]
  }
 ],
 "metadata": {
  "kernelspec": {
   "display_name": "Python 3 (ipykernel)",
   "language": "python",
   "name": "python3"
  },
  "language_info": {
   "codemirror_mode": {
    "name": "ipython",
    "version": 3
   },
   "file_extension": ".py",
   "mimetype": "text/x-python",
   "name": "python",
   "nbconvert_exporter": "python",
   "pygments_lexer": "ipython3",
   "version": "3.8.11"
  }
 },
 "nbformat": 4,
 "nbformat_minor": 5
}
