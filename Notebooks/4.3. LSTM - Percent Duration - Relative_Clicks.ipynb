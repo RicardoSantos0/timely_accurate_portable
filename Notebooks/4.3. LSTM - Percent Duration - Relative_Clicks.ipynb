{
 "cells": [
  {
   "cell_type": "markdown",
   "id": "84eda90e",
   "metadata": {},
   "source": [
    "### Thesis notebook 4.3. - NOVA IMS\n",
    "\n",
    "#### LSTM - Temporal data representation\n",
    "\n",
    "In this notebook, we will finally start our application of temporal representation using LSTMs and bi-directional LSTMs.\n",
    "The argument for the usage of Deep Learning stems from the fact that sequences themselves encode information that can be extracted using Recurrent Neural Networks and, more specifically, Long Short Term Memory Units.\n",
    "\n",
    "#### First Step: Setup a PyTorch environment that enables the use of GPU for training. \n",
    "\n",
    "The following cell wll confirm that the GPU will be the default device to use."
   ]
  },
  {
   "cell_type": "code",
   "execution_count": 1,
   "id": "4f27844c",
   "metadata": {},
   "outputs": [],
   "source": [
    "import torch\n",
    "import pycuda.driver as cuda\n",
    "\n",
    "cuda.init()\n",
    "## Get Id of default device\n",
    "torch.cuda.current_device()\n",
    "# 0\n",
    "cuda.Device(0).name() # '0' is the id of your GPU\n",
    "\n",
    "#set all tensors to gpu\n",
    "torch.set_default_tensor_type('torch.cuda.FloatTensor')"
   ]
  },
  {
   "cell_type": "markdown",
   "id": "0d95429e",
   "metadata": {},
   "source": [
    "#### Second Step: Import the relevant packages and declare global variables"
   ]
  },
  {
   "cell_type": "code",
   "execution_count": 2,
   "id": "e6c2d97f",
   "metadata": {},
   "outputs": [],
   "source": [
    "#import necessary modules/libraries\n",
    "import numpy as np\n",
    "import scipy\n",
    "import pandas as pd\n",
    "import datetime as dt\n",
    "import warnings\n",
    "import time\n",
    "\n",
    "#tqdm to monitor progress\n",
    "from tqdm.notebook import tqdm, trange\n",
    "tqdm.pandas(desc=\"Progress\")\n",
    "\n",
    "#time related features\n",
    "from datetime import timedelta\n",
    "from copy import copy, deepcopy\n",
    "\n",
    "#vizualization\n",
    "import matplotlib.pyplot as plt\n",
    "import seaborn as sns\n",
    "\n",
    "#imblearn, scalers, kfold and metrics\n",
    "from imblearn.over_sampling import SMOTE\n",
    "from sklearn.preprocessing import MinMaxScaler, StandardScaler, RobustScaler, QuantileTransformer,PowerTransformer\n",
    "from sklearn.model_selection import train_test_split, RepeatedKFold, RepeatedStratifiedKFold, cross_val_score, GridSearchCV\n",
    "from sklearn.metrics import confusion_matrix, accuracy_score, precision_score, recall_score, f1_score, roc_auc_score, roc_curve, recall_score, classification_report, average_precision_score, precision_recall_curve\n",
    "\n",
    "#import torch related\n",
    "import torch.nn as nn\n",
    "from torch.nn import functional as F\n",
    "from torch.autograd import Variable \n",
    "from torch.utils.data import TensorDataset, DataLoader\n",
    "from torch.utils.data.sampler import SubsetRandomSampler\n",
    "\n",
    "\n",
    "#and optimizer of learning rate\n",
    "from torch.optim.lr_scheduler import ReduceLROnPlateau\n",
    "\n",
    "#import pytorch modules\n",
    "warnings.filterwarnings('ignore')"
   ]
  },
  {
   "cell_type": "code",
   "execution_count": 3,
   "id": "c6c3f1fb",
   "metadata": {},
   "outputs": [],
   "source": [
    "#global variables that may come in handy\n",
    "#course threshold sets the % duration that will be considered (1 = 100%)\n",
    "duration_threshold = [0.1, 0.25, 0.33, 0.5, 1]\n",
    "\n",
    "#colors for vizualizations\n",
    "nova_ims_colors = ['#BFD72F', '#5C666C']\n",
    "\n",
    "#standard color for student aggregates\n",
    "student_color = '#474838'\n",
    "\n",
    "#standard color for course aggragates\n",
    "course_color = '#1B3D2F'\n",
    "\n",
    "#standard continuous colormap\n",
    "standard_cmap = 'viridis_r'\n",
    "\n",
    "#Function designed to deal with multiindex and flatten it\n",
    "def flattenHierarchicalCol(col,sep = '_'):\n",
    "    '''converts multiindex columns into single index columns while retaining the hierarchical components'''\n",
    "    if not type(col) is tuple:\n",
    "        return col\n",
    "    else:\n",
    "        new_col = ''\n",
    "        for leveli,level in enumerate(col):\n",
    "            if not level == '':\n",
    "                if not leveli == 0:\n",
    "                    new_col += sep\n",
    "                new_col += level\n",
    "        return new_col\n",
    "    \n",
    "#number of replicas - number of repeats of stratified k fold - in this case 10\n",
    "replicas = 1\n",
    "\n",
    "#names to display on result figures\n",
    "date_names = {\n",
    "             'Date_threshold_10': '10% of Course Duration',   \n",
    "             'Date_threshold_25': '25% of Course Duration', \n",
    "             'Date_threshold_33': '33% of Course Duration', \n",
    "             'Date_threshold_50': '50% of Course Duration', \n",
    "             'Date_threshold_100':'100% of Course Duration', \n",
    "            }\n",
    "\n",
    "target_names = {\n",
    "                'exam_fail' : 'At risk - Exam Grade',\n",
    "                'final_fail' : 'At risk - Final Grade', \n",
    "                'exam_gifted' : 'High performer - Exam Grade', \n",
    "                'final_gifted': 'High performer - Final Grade'\n",
    "                }\n",
    "\n",
    "#targets\n",
    "targets = ['exam_fail' , 'final_fail' , 'exam_gifted' , 'final_gifted']\n",
    "temporal_columns = ['0 to 4%', '4 to 8%', '8 to 12%', '12 to 16%', '16 to 20%', '20 to 24%',\n",
    "       '24 to 28%', '28 to 32%', '32 to 36%', '36 to 40%', '40 to 44%',\n",
    "       '44 to 48%', '48 to 52%', '52 to 56%', '56 to 60%', '60 to 64%',\n",
    "       '64 to 68%', '68 to 72%', '72 to 76%', '76 to 80%', '80 to 84%',\n",
    "       '84 to 88%', '88 to 92%', '92 to 96%', '96 to 100%']"
   ]
  },
  {
   "cell_type": "markdown",
   "id": "60c5ddb6",
   "metadata": {},
   "source": [
    "#### Step 3: Import data and take a preliminary look at it "
   ]
  },
  {
   "cell_type": "code",
   "execution_count": 4,
   "id": "d8a23ea6",
   "metadata": {},
   "outputs": [],
   "source": [
    "#imports dataframes\n",
    "course_programs = pd.read_excel(\"../Data/Modeling Stage/Nova_IMS_Temporal_Datasets_25_splits.xlsx\", \n",
    "                                dtype = {\n",
    "                                    'course_encoding' : int,\n",
    "                                    'userid' : int},\n",
    "                               sheet_name = None)\n",
    "\n",
    "#save tables \n",
    "student_list = pd.read_csv('../Data/Modeling Stage/Nova_IMS_Filtered_targets.csv', \n",
    "                         dtype = {\n",
    "                                   'course_encoding': int,\n",
    "                                   'userid' : int,\n",
    "                                   })\n",
    "\n",
    "#drop unnamed 0 column\n",
    "for i in course_programs:\n",
    "        \n",
    "    #merge with the targets we calculated on the other \n",
    "    course_programs[i] = course_programs[i].merge(student_list, on = ['course_encoding', 'userid'], how = 'inner')\n",
    "    course_programs[i].drop(['Unnamed: 0', 'exam_mark', 'final_mark'], axis = 1, inplace = True)\n",
    "    \n",
    "    #convert results to object\n",
    "    course_programs[i]['course_encoding'], course_programs[i]['userid'] = course_programs[i]['course_encoding'].astype(object), course_programs[i]['userid'].astype(object)"
   ]
  },
  {
   "cell_type": "code",
   "execution_count": 5,
   "id": "7bc3c84f",
   "metadata": {},
   "outputs": [
    {
     "name": "stdout",
     "output_type": "stream",
     "text": [
      "<class 'pandas.core.frame.DataFrame'>\n",
      "Int64Index: 9296 entries, 0 to 9295\n",
      "Data columns (total 31 columns):\n",
      " #   Column           Non-Null Count  Dtype \n",
      "---  ------           --------------  ----- \n",
      " 0   course_encoding  9296 non-null   object\n",
      " 1   userid           9296 non-null   object\n",
      " 2   0 to 4%          9296 non-null   int64 \n",
      " 3   4 to 8%          9296 non-null   int64 \n",
      " 4   8 to 12%         9296 non-null   int64 \n",
      " 5   12 to 16%        9296 non-null   int64 \n",
      " 6   16 to 20%        9296 non-null   int64 \n",
      " 7   20 to 24%        9296 non-null   int64 \n",
      " 8   24 to 28%        9296 non-null   int64 \n",
      " 9   28 to 32%        9296 non-null   int64 \n",
      " 10  32 to 36%        9296 non-null   int64 \n",
      " 11  36 to 40%        9296 non-null   int64 \n",
      " 12  40 to 44%        9296 non-null   int64 \n",
      " 13  44 to 48%        9296 non-null   int64 \n",
      " 14  48 to 52%        9296 non-null   int64 \n",
      " 15  52 to 56%        9296 non-null   int64 \n",
      " 16  56 to 60%        9296 non-null   int64 \n",
      " 17  60 to 64%        9296 non-null   int64 \n",
      " 18  64 to 68%        9296 non-null   int64 \n",
      " 19  68 to 72%        9296 non-null   int64 \n",
      " 20  72 to 76%        9296 non-null   int64 \n",
      " 21  76 to 80%        9296 non-null   int64 \n",
      " 22  80 to 84%        9296 non-null   int64 \n",
      " 23  84 to 88%        9296 non-null   int64 \n",
      " 24  88 to 92%        9296 non-null   int64 \n",
      " 25  92 to 96%        9296 non-null   int64 \n",
      " 26  96 to 100%       9296 non-null   int64 \n",
      " 27  exam_fail        9296 non-null   int64 \n",
      " 28  final_fail       9296 non-null   int64 \n",
      " 29  exam_gifted      9296 non-null   int64 \n",
      " 30  final_gifted     9296 non-null   int64 \n",
      "dtypes: int64(29), object(2)\n",
      "memory usage: 2.3+ MB\n"
     ]
    }
   ],
   "source": [
    "course_programs['Date_threshold_100'].info()"
   ]
  },
  {
   "cell_type": "code",
   "execution_count": 6,
   "id": "c4a751ef",
   "metadata": {},
   "outputs": [
    {
     "data": {
      "text/html": [
       "<div>\n",
       "<style scoped>\n",
       "    .dataframe tbody tr th:only-of-type {\n",
       "        vertical-align: middle;\n",
       "    }\n",
       "\n",
       "    .dataframe tbody tr th {\n",
       "        vertical-align: top;\n",
       "    }\n",
       "\n",
       "    .dataframe thead th {\n",
       "        text-align: right;\n",
       "    }\n",
       "</style>\n",
       "<table border=\"1\" class=\"dataframe\">\n",
       "  <thead>\n",
       "    <tr style=\"text-align: right;\">\n",
       "      <th></th>\n",
       "      <th>course_encoding</th>\n",
       "      <th>userid</th>\n",
       "      <th>0 to 4%</th>\n",
       "      <th>4 to 8%</th>\n",
       "      <th>8 to 12%</th>\n",
       "      <th>12 to 16%</th>\n",
       "      <th>16 to 20%</th>\n",
       "      <th>20 to 24%</th>\n",
       "      <th>24 to 28%</th>\n",
       "      <th>28 to 32%</th>\n",
       "      <th>...</th>\n",
       "      <th>76 to 80%</th>\n",
       "      <th>80 to 84%</th>\n",
       "      <th>84 to 88%</th>\n",
       "      <th>88 to 92%</th>\n",
       "      <th>92 to 96%</th>\n",
       "      <th>96 to 100%</th>\n",
       "      <th>exam_fail</th>\n",
       "      <th>final_fail</th>\n",
       "      <th>exam_gifted</th>\n",
       "      <th>final_gifted</th>\n",
       "    </tr>\n",
       "  </thead>\n",
       "  <tbody>\n",
       "    <tr>\n",
       "      <th>count</th>\n",
       "      <td>9296.0</td>\n",
       "      <td>9296.0</td>\n",
       "      <td>9296.000000</td>\n",
       "      <td>9296.000000</td>\n",
       "      <td>9296.000000</td>\n",
       "      <td>9296.000000</td>\n",
       "      <td>9296.000000</td>\n",
       "      <td>9296.000000</td>\n",
       "      <td>9296.000000</td>\n",
       "      <td>9296.000000</td>\n",
       "      <td>...</td>\n",
       "      <td>9296.000000</td>\n",
       "      <td>9296.000000</td>\n",
       "      <td>9296.000000</td>\n",
       "      <td>9296.000000</td>\n",
       "      <td>9296.000000</td>\n",
       "      <td>9296.0</td>\n",
       "      <td>9296.000000</td>\n",
       "      <td>9296.000000</td>\n",
       "      <td>9296.000000</td>\n",
       "      <td>9296.000000</td>\n",
       "    </tr>\n",
       "    <tr>\n",
       "      <th>unique</th>\n",
       "      <td>138.0</td>\n",
       "      <td>1590.0</td>\n",
       "      <td>NaN</td>\n",
       "      <td>NaN</td>\n",
       "      <td>NaN</td>\n",
       "      <td>NaN</td>\n",
       "      <td>NaN</td>\n",
       "      <td>NaN</td>\n",
       "      <td>NaN</td>\n",
       "      <td>NaN</td>\n",
       "      <td>...</td>\n",
       "      <td>NaN</td>\n",
       "      <td>NaN</td>\n",
       "      <td>NaN</td>\n",
       "      <td>NaN</td>\n",
       "      <td>NaN</td>\n",
       "      <td>NaN</td>\n",
       "      <td>NaN</td>\n",
       "      <td>NaN</td>\n",
       "      <td>NaN</td>\n",
       "      <td>NaN</td>\n",
       "    </tr>\n",
       "    <tr>\n",
       "      <th>top</th>\n",
       "      <td>150.0</td>\n",
       "      <td>3178.0</td>\n",
       "      <td>NaN</td>\n",
       "      <td>NaN</td>\n",
       "      <td>NaN</td>\n",
       "      <td>NaN</td>\n",
       "      <td>NaN</td>\n",
       "      <td>NaN</td>\n",
       "      <td>NaN</td>\n",
       "      <td>NaN</td>\n",
       "      <td>...</td>\n",
       "      <td>NaN</td>\n",
       "      <td>NaN</td>\n",
       "      <td>NaN</td>\n",
       "      <td>NaN</td>\n",
       "      <td>NaN</td>\n",
       "      <td>NaN</td>\n",
       "      <td>NaN</td>\n",
       "      <td>NaN</td>\n",
       "      <td>NaN</td>\n",
       "      <td>NaN</td>\n",
       "    </tr>\n",
       "    <tr>\n",
       "      <th>freq</th>\n",
       "      <td>178.0</td>\n",
       "      <td>14.0</td>\n",
       "      <td>NaN</td>\n",
       "      <td>NaN</td>\n",
       "      <td>NaN</td>\n",
       "      <td>NaN</td>\n",
       "      <td>NaN</td>\n",
       "      <td>NaN</td>\n",
       "      <td>NaN</td>\n",
       "      <td>NaN</td>\n",
       "      <td>...</td>\n",
       "      <td>NaN</td>\n",
       "      <td>NaN</td>\n",
       "      <td>NaN</td>\n",
       "      <td>NaN</td>\n",
       "      <td>NaN</td>\n",
       "      <td>NaN</td>\n",
       "      <td>NaN</td>\n",
       "      <td>NaN</td>\n",
       "      <td>NaN</td>\n",
       "      <td>NaN</td>\n",
       "    </tr>\n",
       "    <tr>\n",
       "      <th>mean</th>\n",
       "      <td>NaN</td>\n",
       "      <td>NaN</td>\n",
       "      <td>1.081863</td>\n",
       "      <td>8.307874</td>\n",
       "      <td>10.752797</td>\n",
       "      <td>11.193739</td>\n",
       "      <td>10.127797</td>\n",
       "      <td>8.966652</td>\n",
       "      <td>10.545396</td>\n",
       "      <td>11.445245</td>\n",
       "      <td>...</td>\n",
       "      <td>11.718051</td>\n",
       "      <td>13.136403</td>\n",
       "      <td>22.827883</td>\n",
       "      <td>27.341007</td>\n",
       "      <td>12.599613</td>\n",
       "      <td>0.0</td>\n",
       "      <td>0.201377</td>\n",
       "      <td>0.149957</td>\n",
       "      <td>0.276893</td>\n",
       "      <td>0.308090</td>\n",
       "    </tr>\n",
       "    <tr>\n",
       "      <th>std</th>\n",
       "      <td>NaN</td>\n",
       "      <td>NaN</td>\n",
       "      <td>3.526351</td>\n",
       "      <td>13.580025</td>\n",
       "      <td>13.626754</td>\n",
       "      <td>16.400023</td>\n",
       "      <td>14.291254</td>\n",
       "      <td>12.180177</td>\n",
       "      <td>13.507892</td>\n",
       "      <td>15.932226</td>\n",
       "      <td>...</td>\n",
       "      <td>28.186874</td>\n",
       "      <td>36.690068</td>\n",
       "      <td>47.158607</td>\n",
       "      <td>54.963959</td>\n",
       "      <td>35.194597</td>\n",
       "      <td>0.0</td>\n",
       "      <td>0.401051</td>\n",
       "      <td>0.357048</td>\n",
       "      <td>0.447487</td>\n",
       "      <td>0.461729</td>\n",
       "    </tr>\n",
       "    <tr>\n",
       "      <th>min</th>\n",
       "      <td>NaN</td>\n",
       "      <td>NaN</td>\n",
       "      <td>0.000000</td>\n",
       "      <td>0.000000</td>\n",
       "      <td>0.000000</td>\n",
       "      <td>0.000000</td>\n",
       "      <td>0.000000</td>\n",
       "      <td>0.000000</td>\n",
       "      <td>0.000000</td>\n",
       "      <td>0.000000</td>\n",
       "      <td>...</td>\n",
       "      <td>0.000000</td>\n",
       "      <td>0.000000</td>\n",
       "      <td>0.000000</td>\n",
       "      <td>0.000000</td>\n",
       "      <td>0.000000</td>\n",
       "      <td>0.0</td>\n",
       "      <td>0.000000</td>\n",
       "      <td>0.000000</td>\n",
       "      <td>0.000000</td>\n",
       "      <td>0.000000</td>\n",
       "    </tr>\n",
       "    <tr>\n",
       "      <th>25%</th>\n",
       "      <td>NaN</td>\n",
       "      <td>NaN</td>\n",
       "      <td>0.000000</td>\n",
       "      <td>0.000000</td>\n",
       "      <td>1.000000</td>\n",
       "      <td>2.000000</td>\n",
       "      <td>2.000000</td>\n",
       "      <td>1.000000</td>\n",
       "      <td>2.000000</td>\n",
       "      <td>3.000000</td>\n",
       "      <td>...</td>\n",
       "      <td>0.000000</td>\n",
       "      <td>0.000000</td>\n",
       "      <td>0.000000</td>\n",
       "      <td>0.000000</td>\n",
       "      <td>0.000000</td>\n",
       "      <td>0.0</td>\n",
       "      <td>0.000000</td>\n",
       "      <td>0.000000</td>\n",
       "      <td>0.000000</td>\n",
       "      <td>0.000000</td>\n",
       "    </tr>\n",
       "    <tr>\n",
       "      <th>50%</th>\n",
       "      <td>NaN</td>\n",
       "      <td>NaN</td>\n",
       "      <td>0.000000</td>\n",
       "      <td>2.000000</td>\n",
       "      <td>7.000000</td>\n",
       "      <td>7.000000</td>\n",
       "      <td>6.000000</td>\n",
       "      <td>5.000000</td>\n",
       "      <td>7.000000</td>\n",
       "      <td>7.000000</td>\n",
       "      <td>...</td>\n",
       "      <td>2.000000</td>\n",
       "      <td>2.000000</td>\n",
       "      <td>4.000000</td>\n",
       "      <td>2.000000</td>\n",
       "      <td>0.000000</td>\n",
       "      <td>0.0</td>\n",
       "      <td>0.000000</td>\n",
       "      <td>0.000000</td>\n",
       "      <td>0.000000</td>\n",
       "      <td>0.000000</td>\n",
       "    </tr>\n",
       "    <tr>\n",
       "      <th>75%</th>\n",
       "      <td>NaN</td>\n",
       "      <td>NaN</td>\n",
       "      <td>1.000000</td>\n",
       "      <td>12.000000</td>\n",
       "      <td>15.000000</td>\n",
       "      <td>15.000000</td>\n",
       "      <td>13.000000</td>\n",
       "      <td>13.000000</td>\n",
       "      <td>14.000000</td>\n",
       "      <td>14.000000</td>\n",
       "      <td>...</td>\n",
       "      <td>10.000000</td>\n",
       "      <td>10.000000</td>\n",
       "      <td>23.000000</td>\n",
       "      <td>27.000000</td>\n",
       "      <td>5.000000</td>\n",
       "      <td>0.0</td>\n",
       "      <td>0.000000</td>\n",
       "      <td>0.000000</td>\n",
       "      <td>1.000000</td>\n",
       "      <td>1.000000</td>\n",
       "    </tr>\n",
       "    <tr>\n",
       "      <th>max</th>\n",
       "      <td>NaN</td>\n",
       "      <td>NaN</td>\n",
       "      <td>66.000000</td>\n",
       "      <td>269.000000</td>\n",
       "      <td>360.000000</td>\n",
       "      <td>619.000000</td>\n",
       "      <td>315.000000</td>\n",
       "      <td>248.000000</td>\n",
       "      <td>268.000000</td>\n",
       "      <td>237.000000</td>\n",
       "      <td>...</td>\n",
       "      <td>614.000000</td>\n",
       "      <td>1091.000000</td>\n",
       "      <td>604.000000</td>\n",
       "      <td>747.000000</td>\n",
       "      <td>407.000000</td>\n",
       "      <td>0.0</td>\n",
       "      <td>1.000000</td>\n",
       "      <td>1.000000</td>\n",
       "      <td>1.000000</td>\n",
       "      <td>1.000000</td>\n",
       "    </tr>\n",
       "  </tbody>\n",
       "</table>\n",
       "<p>11 rows × 31 columns</p>\n",
       "</div>"
      ],
      "text/plain": [
       "        course_encoding  userid      0 to 4%      4 to 8%     8 to 12%  \\\n",
       "count            9296.0  9296.0  9296.000000  9296.000000  9296.000000   \n",
       "unique            138.0  1590.0          NaN          NaN          NaN   \n",
       "top               150.0  3178.0          NaN          NaN          NaN   \n",
       "freq              178.0    14.0          NaN          NaN          NaN   \n",
       "mean                NaN     NaN     1.081863     8.307874    10.752797   \n",
       "std                 NaN     NaN     3.526351    13.580025    13.626754   \n",
       "min                 NaN     NaN     0.000000     0.000000     0.000000   \n",
       "25%                 NaN     NaN     0.000000     0.000000     1.000000   \n",
       "50%                 NaN     NaN     0.000000     2.000000     7.000000   \n",
       "75%                 NaN     NaN     1.000000    12.000000    15.000000   \n",
       "max                 NaN     NaN    66.000000   269.000000   360.000000   \n",
       "\n",
       "          12 to 16%    16 to 20%    20 to 24%    24 to 28%    28 to 32%  ...  \\\n",
       "count   9296.000000  9296.000000  9296.000000  9296.000000  9296.000000  ...   \n",
       "unique          NaN          NaN          NaN          NaN          NaN  ...   \n",
       "top             NaN          NaN          NaN          NaN          NaN  ...   \n",
       "freq            NaN          NaN          NaN          NaN          NaN  ...   \n",
       "mean      11.193739    10.127797     8.966652    10.545396    11.445245  ...   \n",
       "std       16.400023    14.291254    12.180177    13.507892    15.932226  ...   \n",
       "min        0.000000     0.000000     0.000000     0.000000     0.000000  ...   \n",
       "25%        2.000000     2.000000     1.000000     2.000000     3.000000  ...   \n",
       "50%        7.000000     6.000000     5.000000     7.000000     7.000000  ...   \n",
       "75%       15.000000    13.000000    13.000000    14.000000    14.000000  ...   \n",
       "max      619.000000   315.000000   248.000000   268.000000   237.000000  ...   \n",
       "\n",
       "          76 to 80%    80 to 84%    84 to 88%    88 to 92%    92 to 96%  \\\n",
       "count   9296.000000  9296.000000  9296.000000  9296.000000  9296.000000   \n",
       "unique          NaN          NaN          NaN          NaN          NaN   \n",
       "top             NaN          NaN          NaN          NaN          NaN   \n",
       "freq            NaN          NaN          NaN          NaN          NaN   \n",
       "mean      11.718051    13.136403    22.827883    27.341007    12.599613   \n",
       "std       28.186874    36.690068    47.158607    54.963959    35.194597   \n",
       "min        0.000000     0.000000     0.000000     0.000000     0.000000   \n",
       "25%        0.000000     0.000000     0.000000     0.000000     0.000000   \n",
       "50%        2.000000     2.000000     4.000000     2.000000     0.000000   \n",
       "75%       10.000000    10.000000    23.000000    27.000000     5.000000   \n",
       "max      614.000000  1091.000000   604.000000   747.000000   407.000000   \n",
       "\n",
       "        96 to 100%    exam_fail   final_fail  exam_gifted  final_gifted  \n",
       "count       9296.0  9296.000000  9296.000000  9296.000000   9296.000000  \n",
       "unique         NaN          NaN          NaN          NaN           NaN  \n",
       "top            NaN          NaN          NaN          NaN           NaN  \n",
       "freq           NaN          NaN          NaN          NaN           NaN  \n",
       "mean           0.0     0.201377     0.149957     0.276893      0.308090  \n",
       "std            0.0     0.401051     0.357048     0.447487      0.461729  \n",
       "min            0.0     0.000000     0.000000     0.000000      0.000000  \n",
       "25%            0.0     0.000000     0.000000     0.000000      0.000000  \n",
       "50%            0.0     0.000000     0.000000     0.000000      0.000000  \n",
       "75%            0.0     0.000000     0.000000     1.000000      1.000000  \n",
       "max            0.0     1.000000     1.000000     1.000000      1.000000  \n",
       "\n",
       "[11 rows x 31 columns]"
      ]
     },
     "execution_count": 6,
     "metadata": {},
     "output_type": "execute_result"
    }
   ],
   "source": [
    "course_programs['Date_threshold_100'].describe(include = 'all')"
   ]
  },
  {
   "cell_type": "markdown",
   "id": "c3291817",
   "metadata": {},
   "source": [
    "In our second attempt, we are looking to obtain a different result. Instead of using the absolute number of clicks used in each instance, we are instead looking to use the percent number of clicks made by each student relative to the the total number of clicks performed in the curricular unit.\n",
    "\n",
    "For that we will use transform:"
   ]
  },
  {
   "cell_type": "code",
   "execution_count": 7,
   "id": "e5b9e350",
   "metadata": {},
   "outputs": [
    {
     "data": {
      "application/vnd.jupyter.widget-view+json": {
       "model_id": "618da1b106d842cbaf92031f58bcd5a1",
       "version_major": 2,
       "version_minor": 0
      },
      "text/plain": [
       "  0%|          | 0/5 [00:00<?, ?it/s]"
      ]
     },
     "metadata": {},
     "output_type": "display_data"
    },
    {
     "data": {
      "application/vnd.jupyter.widget-view+json": {
       "model_id": "8cc21afb4834454eb24070979f22db09",
       "version_major": 2,
       "version_minor": 0
      },
      "text/plain": [
       "  0%|          | 0/25 [00:00<?, ?it/s]"
      ]
     },
     "metadata": {},
     "output_type": "display_data"
    },
    {
     "data": {
      "application/vnd.jupyter.widget-view+json": {
       "model_id": "94500efee83d45428c32ec8870dc7c33",
       "version_major": 2,
       "version_minor": 0
      },
      "text/plain": [
       "  0%|          | 0/25 [00:00<?, ?it/s]"
      ]
     },
     "metadata": {},
     "output_type": "display_data"
    },
    {
     "data": {
      "application/vnd.jupyter.widget-view+json": {
       "model_id": "b30512b7bbe242f6b3f40843ed5bc85a",
       "version_major": 2,
       "version_minor": 0
      },
      "text/plain": [
       "  0%|          | 0/25 [00:00<?, ?it/s]"
      ]
     },
     "metadata": {},
     "output_type": "display_data"
    },
    {
     "data": {
      "application/vnd.jupyter.widget-view+json": {
       "model_id": "6ab7ef5ab2de4d46901ca534e1a7b150",
       "version_major": 2,
       "version_minor": 0
      },
      "text/plain": [
       "  0%|          | 0/25 [00:00<?, ?it/s]"
      ]
     },
     "metadata": {},
     "output_type": "display_data"
    },
    {
     "data": {
      "application/vnd.jupyter.widget-view+json": {
       "model_id": "b112624b114c4830a4faef7aef1a4146",
       "version_major": 2,
       "version_minor": 0
      },
      "text/plain": [
       "  0%|          | 0/25 [00:00<?, ?it/s]"
      ]
     },
     "metadata": {},
     "output_type": "display_data"
    }
   ],
   "source": [
    "for i in tqdm(course_programs.keys()):\n",
    "    \n",
    "    for j in tqdm(temporal_columns):\n",
    "            course_programs[i][j] = np.where(course_programs[i].fillna(0).groupby('course_encoding')[j].transform('sum') != 0, #where valid operations occur\n",
    "                                             course_programs[i][j].fillna(0) / course_programs[i].fillna(0).groupby('course_encoding')[j].transform('sum') * 100, #calculate percentage\n",
    "                                             0) #otherwise, its 0"
   ]
  },
  {
   "cell_type": "code",
   "execution_count": 8,
   "id": "be722ea9",
   "metadata": {},
   "outputs": [],
   "source": [
    "def normalize(train, test, scaler):\n",
    "    \n",
    "    if scaler == 'MinMax':\n",
    "        pt = MinMaxScaler()\n",
    "    elif scaler == 'Standard':\n",
    "        pt = StandardScaler()\n",
    "    elif scaler == 'Robust':\n",
    "        pt = RobustScaler()\n",
    "    elif scaler == 'Quantile':\n",
    "        pt = QuantileTransformer()\n",
    "    else:\n",
    "        pt = PowerTransformer(method='yeo-johnson')\n",
    "    \n",
    "    data_train = pt.fit_transform(train)\n",
    "    data_test = pt.transform(test)\n",
    "    # convert the array back to a dataframe\n",
    "    normalized_train = pd.DataFrame(data_train,columns=train.columns)\n",
    "    normalized_test = pd.DataFrame(data_test,columns=test.columns)\n",
    "        \n",
    "    return normalized_train, normalized_test"
   ]
  },
  {
   "cell_type": "markdown",
   "id": "8e4d5475",
   "metadata": {},
   "source": [
    "#### Implementing Cross-Validation with Deep Learning Model\n",
    "\n",
    "**1. Create the Deep Learning Model**\n",
    "\n",
    "In this instance, we will follow-up with on the approach used in Chen & Cui - CrossEntropyLoss with applied over a softmax layer."
   ]
  },
  {
   "cell_type": "code",
   "execution_count": 9,
   "id": "2a16bd5f",
   "metadata": {},
   "outputs": [],
   "source": [
    "class LSTM_Uni(nn.Module):\n",
    "    def __init__(self, num_classes, input_size, hidden_size, num_layers, seq_length):\n",
    "        super(LSTM_Uni, self).__init__()\n",
    "        self.num_classes = num_classes #number of classes\n",
    "        self.num_layers = num_layers #number of layers\n",
    "        self.input_size = input_size #input size\n",
    "        self.hidden_size = hidden_size #hidden state\n",
    "        self.seq_length = seq_length #sequence length\n",
    "\n",
    "        self.lstm = nn.LSTM(input_size=input_size, hidden_size=hidden_size,\n",
    "                          num_layers=num_layers, batch_first = True) #lstm\n",
    "        \n",
    "        self.dropout = nn.Dropout(p = 0.5)\n",
    "    \n",
    "        self.fc = nn.Linear(self.hidden_size, num_classes) #fully connected last layer\n",
    "\n",
    "    def forward(self,x):\n",
    "        h_0 = Variable(torch.zeros(self.num_layers, x.size(0), self.hidden_size)) #hidden state\n",
    "        c_0 = Variable(torch.zeros(self.num_layers, x.size(0), self.hidden_size)) #internal state\n",
    "        \n",
    "        #Xavier_init for both H_0 and C_0\n",
    "        torch.nn.init.xavier_normal_(h_0)\n",
    "        torch.nn.init.xavier_normal_(c_0)\n",
    "        \n",
    "        # Propagate input through LSTM\n",
    "        lstm_out, (hn, cn) = self.lstm(x, (h_0, c_0)) #lstm with input, hidden, and internal state\n",
    "        last_output = hn.view(-1, self.hidden_size) #reshaping the data for Dense layer next\n",
    "        \n",
    "        #we are interested in only keeping the last output\n",
    "        drop_out = self.dropout(last_output)\n",
    "        pre_softmax = self.fc(drop_out) #Final Output - dense\n",
    "        return pre_softmax"
   ]
  },
  {
   "cell_type": "markdown",
   "id": "17c356bd",
   "metadata": {},
   "source": [
    "**2. Define the train and validation Functions**"
   ]
  },
  {
   "cell_type": "code",
   "execution_count": 10,
   "id": "25b29a1d",
   "metadata": {},
   "outputs": [],
   "source": [
    "def train_epoch(model,dataloader,loss_fn,optimizer):\n",
    "    \n",
    "    train_loss,train_correct=0.0,0 \n",
    "    model.train()\n",
    "    for X, labels in dataloader:\n",
    "\n",
    "        optimizer.zero_grad()\n",
    "        output = model(X)\n",
    "        loss = loss_fn(output,labels)\n",
    "        loss.backward()\n",
    "        optimizer.step()\n",
    "        train_loss += loss.item() * X.size(0)\n",
    "        scores, predictions = torch.max(F.log_softmax(output.data), 1)\n",
    "        train_correct += (predictions == labels).sum().item()\n",
    "        \n",
    "    return train_loss,train_correct\n",
    "  \n",
    "def valid_epoch(model,dataloader,loss_fn):\n",
    "    valid_loss, val_correct = 0.0, 0\n",
    "    targets = []\n",
    "    y_pred = []\n",
    "    probability_1 = []\n",
    "    \n",
    "    model.eval()\n",
    "    for X, labels in dataloader:\n",
    "\n",
    "        output = model(X)\n",
    "        loss=loss_fn(output,labels)\n",
    "        valid_loss+=loss.item()*X.size(0)\n",
    "        probability_1.append(F.softmax(output.data)[:,1])\n",
    "        predictions = torch.argmax(output, dim=1)\n",
    "        val_correct+=(predictions == labels).sum().item()\n",
    "        targets.append(labels)\n",
    "        y_pred.append(predictions)\n",
    "    \n",
    "    #concat all results\n",
    "    targets = torch.cat(targets).data.cpu().numpy()\n",
    "    y_pred = torch.cat(y_pred).data.cpu().numpy()\n",
    "    probability_1 = torch.cat(probability_1).data.cpu().numpy()\n",
    "    \n",
    "    #calculate precision, recall and AUC score\n",
    "    \n",
    "    precision = precision_score(targets, y_pred)\n",
    "    recall = recall_score(targets, y_pred)\n",
    "    auroc = roc_auc_score(targets, probability_1)\n",
    "    \n",
    "    #return all\n",
    "    return valid_loss,val_correct, precision, recall, auroc"
   ]
  },
  {
   "cell_type": "markdown",
   "id": "d4543fb3",
   "metadata": {},
   "source": [
    "**3. Define main hyperparameters of the model, including splits**"
   ]
  },
  {
   "cell_type": "code",
   "execution_count": 11,
   "id": "fcbbef20",
   "metadata": {},
   "outputs": [],
   "source": [
    "#Model\n",
    "num_epochs = 200 #50 epochs\n",
    "learning_rate = 0.01 #0.001 lr\n",
    "input_size = 1 #number of features\n",
    "hidden_size = 40 #number of features in hidden state\n",
    "num_layers = 1 #number of stacked lstm layers\n",
    "\n",
    "#Shape of Output as required for SoftMax Classifier\n",
    "num_classes = 2 #output shape\n",
    "\n",
    "batch_size = 32\n",
    "\n",
    "k=10\n",
    "splits= RepeatedStratifiedKFold(n_splits=k, n_repeats=replicas, random_state=15) #kfold of 10 with 30 replicas\n",
    "criterion = nn.CrossEntropyLoss()    # cross-entropy for classification"
   ]
  },
  {
   "cell_type": "markdown",
   "id": "a20713d9",
   "metadata": {},
   "source": [
    "**4. Make the splits and Start Training**"
   ]
  },
  {
   "cell_type": "code",
   "execution_count": null,
   "id": "45544589",
   "metadata": {
    "scrolled": true
   },
   "outputs": [
    {
     "data": {
      "application/vnd.jupyter.widget-view+json": {
       "model_id": "6432125bc41f4f01a3c3a830913be5a1",
       "version_major": 2,
       "version_minor": 0
      },
      "text/plain": [
       "  0%|          | 0/5 [00:00<?, ?it/s]"
      ]
     },
     "metadata": {},
     "output_type": "display_data"
    },
    {
     "name": "stdout",
     "output_type": "stream",
     "text": [
      "Date_threshold_10\n"
     ]
    },
    {
     "data": {
      "application/vnd.jupyter.widget-view+json": {
       "model_id": "820eee0434cc4fe1994ceebde14920a9",
       "version_major": 2,
       "version_minor": 0
      },
      "text/plain": [
       "  0%|          | 0/4 [00:00<?, ?it/s]"
      ]
     },
     "metadata": {},
     "output_type": "display_data"
    },
    {
     "name": "stdout",
     "output_type": "stream",
     "text": [
      "exam_fail\n"
     ]
    },
    {
     "data": {
      "application/vnd.jupyter.widget-view+json": {
       "model_id": "f9457bc25a1f4895b2276ad2f280bdf5",
       "version_major": 2,
       "version_minor": 0
      },
      "text/plain": [
       "0it [00:00, ?it/s]"
      ]
     },
     "metadata": {},
     "output_type": "display_data"
    },
    {
     "name": "stdout",
     "output_type": "stream",
     "text": [
      "Split 1\n"
     ]
    },
    {
     "data": {
      "application/vnd.jupyter.widget-view+json": {
       "model_id": "6295b264e54343a582843c320330f207",
       "version_major": 2,
       "version_minor": 0
      },
      "text/plain": [
       "  0%|          | 0/200 [00:00<?, ?it/s]"
      ]
     },
     "metadata": {},
     "output_type": "display_data"
    },
    {
     "name": "stdout",
     "output_type": "stream",
     "text": [
      "New Best Accuracy found: 79.84%\n",
      "Epoch: 1\n",
      "Epoch:10/200 AVG Training Loss:0.494 AVG Validation Loss:0.490 AVG Training Acc 79.92 % AVG Validation Acc 79.84 %\n",
      "Epoch:20/200 AVG Training Loss:0.502 AVG Validation Loss:0.501 AVG Training Acc 79.84 % AVG Validation Acc 79.84 %\n",
      "Epoch:30/200 AVG Training Loss:0.490 AVG Validation Loss:0.490 AVG Training Acc 79.93 % AVG Validation Acc 79.84 %\n",
      "Epoch:40/200 AVG Training Loss:0.500 AVG Validation Loss:0.506 AVG Training Acc 79.84 % AVG Validation Acc 79.84 %\n",
      "Epoch    42: reducing learning rate of group 0 to 1.0000e-03.\n",
      "Epoch:50/200 AVG Training Loss:0.498 AVG Validation Loss:0.498 AVG Training Acc 79.89 % AVG Validation Acc 79.84 %\n",
      "Epoch:60/200 AVG Training Loss:0.493 AVG Validation Loss:0.491 AVG Training Acc 79.95 % AVG Validation Acc 79.84 %\n",
      "Epoch:70/200 AVG Training Loss:0.490 AVG Validation Loss:0.489 AVG Training Acc 79.99 % AVG Validation Acc 79.84 %\n",
      "Epoch    73: reducing learning rate of group 0 to 1.0000e-04.\n",
      "New Best Accuracy found: 79.97%\n",
      "Epoch: 73\n",
      "Epoch:80/200 AVG Training Loss:0.489 AVG Validation Loss:0.489 AVG Training Acc 80.05 % AVG Validation Acc 79.84 %\n",
      "Epoch:90/200 AVG Training Loss:0.490 AVG Validation Loss:0.488 AVG Training Acc 80.01 % AVG Validation Acc 79.84 %\n",
      "Epoch:100/200 AVG Training Loss:0.489 AVG Validation Loss:0.489 AVG Training Acc 80.05 % AVG Validation Acc 79.57 %\n",
      "Epoch   104: reducing learning rate of group 0 to 1.0000e-05.\n",
      "Epoch:110/200 AVG Training Loss:0.489 AVG Validation Loss:0.490 AVG Training Acc 80.05 % AVG Validation Acc 79.70 %\n",
      "Epoch:120/200 AVG Training Loss:0.488 AVG Validation Loss:0.491 AVG Training Acc 80.08 % AVG Validation Acc 79.57 %\n",
      "Epoch:130/200 AVG Training Loss:0.490 AVG Validation Loss:0.490 AVG Training Acc 79.99 % AVG Validation Acc 79.57 %\n",
      "Epoch   135: reducing learning rate of group 0 to 1.0000e-06.\n",
      "Epoch:140/200 AVG Training Loss:0.488 AVG Validation Loss:0.489 AVG Training Acc 80.05 % AVG Validation Acc 79.44 %\n",
      "Epoch:150/200 AVG Training Loss:0.489 AVG Validation Loss:0.488 AVG Training Acc 80.02 % AVG Validation Acc 79.57 %\n",
      "Epoch:160/200 AVG Training Loss:0.488 AVG Validation Loss:0.490 AVG Training Acc 79.98 % AVG Validation Acc 79.44 %\n",
      "Epoch   166: reducing learning rate of group 0 to 1.0000e-07.\n",
      "Epoch:170/200 AVG Training Loss:0.489 AVG Validation Loss:0.488 AVG Training Acc 79.98 % AVG Validation Acc 79.57 %\n",
      "Epoch:180/200 AVG Training Loss:0.489 AVG Validation Loss:0.489 AVG Training Acc 80.08 % AVG Validation Acc 79.70 %\n",
      "Epoch:190/200 AVG Training Loss:0.488 AVG Validation Loss:0.490 AVG Training Acc 80.07 % AVG Validation Acc 79.57 %\n",
      "Epoch   197: reducing learning rate of group 0 to 1.0000e-08.\n",
      "Epoch:200/200 AVG Training Loss:0.488 AVG Validation Loss:0.490 AVG Training Acc 80.04 % AVG Validation Acc 79.57 %\n",
      "Split 2\n"
     ]
    },
    {
     "data": {
      "application/vnd.jupyter.widget-view+json": {
       "model_id": "febc2c24067c4ae893ebfe3e17adffa1",
       "version_major": 2,
       "version_minor": 0
      },
      "text/plain": [
       "  0%|          | 0/200 [00:00<?, ?it/s]"
      ]
     },
     "metadata": {},
     "output_type": "display_data"
    },
    {
     "name": "stdout",
     "output_type": "stream",
     "text": [
      "Epoch:10/200 AVG Training Loss:0.496 AVG Validation Loss:0.496 AVG Training Acc 79.96 % AVG Validation Acc 79.84 %\n",
      "Epoch:20/200 AVG Training Loss:0.488 AVG Validation Loss:0.495 AVG Training Acc 79.98 % AVG Validation Acc 79.57 %\n",
      "Epoch    24: reducing learning rate of group 0 to 1.0000e-03.\n",
      "Epoch:30/200 AVG Training Loss:0.478 AVG Validation Loss:0.495 AVG Training Acc 80.05 % AVG Validation Acc 79.70 %\n",
      "Epoch:40/200 AVG Training Loss:0.474 AVG Validation Loss:0.497 AVG Training Acc 80.26 % AVG Validation Acc 79.57 %\n",
      "Epoch:50/200 AVG Training Loss:0.468 AVG Validation Loss:0.503 AVG Training Acc 80.44 % AVG Validation Acc 79.44 %\n",
      "Epoch    55: reducing learning rate of group 0 to 1.0000e-04.\n",
      "Epoch:60/200 AVG Training Loss:0.464 AVG Validation Loss:0.501 AVG Training Acc 80.84 % AVG Validation Acc 79.30 %\n",
      "Epoch:70/200 AVG Training Loss:0.462 AVG Validation Loss:0.502 AVG Training Acc 80.66 % AVG Validation Acc 79.30 %\n",
      "Epoch:80/200 AVG Training Loss:0.462 AVG Validation Loss:0.501 AVG Training Acc 80.62 % AVG Validation Acc 79.30 %\n",
      "Epoch    86: reducing learning rate of group 0 to 1.0000e-05.\n",
      "Epoch:90/200 AVG Training Loss:0.457 AVG Validation Loss:0.501 AVG Training Acc 80.99 % AVG Validation Acc 79.17 %\n",
      "Epoch:100/200 AVG Training Loss:0.459 AVG Validation Loss:0.502 AVG Training Acc 80.80 % AVG Validation Acc 79.03 %\n",
      "Epoch:110/200 AVG Training Loss:0.458 AVG Validation Loss:0.502 AVG Training Acc 80.86 % AVG Validation Acc 79.03 %\n",
      "Epoch   117: reducing learning rate of group 0 to 1.0000e-06.\n",
      "Epoch:120/200 AVG Training Loss:0.458 AVG Validation Loss:0.502 AVG Training Acc 80.89 % AVG Validation Acc 79.17 %\n",
      "Epoch:130/200 AVG Training Loss:0.458 AVG Validation Loss:0.503 AVG Training Acc 80.93 % AVG Validation Acc 79.17 %\n",
      "Epoch:140/200 AVG Training Loss:0.459 AVG Validation Loss:0.502 AVG Training Acc 80.90 % AVG Validation Acc 79.03 %\n",
      "Epoch   148: reducing learning rate of group 0 to 1.0000e-07.\n",
      "Epoch:150/200 AVG Training Loss:0.459 AVG Validation Loss:0.502 AVG Training Acc 80.92 % AVG Validation Acc 79.17 %\n",
      "Epoch:160/200 AVG Training Loss:0.459 AVG Validation Loss:0.502 AVG Training Acc 80.81 % AVG Validation Acc 79.03 %\n",
      "Epoch:170/200 AVG Training Loss:0.459 AVG Validation Loss:0.502 AVG Training Acc 80.93 % AVG Validation Acc 79.03 %\n",
      "Epoch   179: reducing learning rate of group 0 to 1.0000e-08.\n",
      "Epoch:180/200 AVG Training Loss:0.458 AVG Validation Loss:0.502 AVG Training Acc 80.87 % AVG Validation Acc 79.17 %\n",
      "Epoch:190/200 AVG Training Loss:0.458 AVG Validation Loss:0.502 AVG Training Acc 81.04 % AVG Validation Acc 79.03 %\n",
      "Epoch:200/200 AVG Training Loss:0.459 AVG Validation Loss:0.502 AVG Training Acc 80.78 % AVG Validation Acc 79.03 %\n",
      "Split 3\n"
     ]
    },
    {
     "data": {
      "application/vnd.jupyter.widget-view+json": {
       "model_id": "5451940e7ca641e8b7c09099a8b19b33",
       "version_major": 2,
       "version_minor": 0
      },
      "text/plain": [
       "  0%|          | 0/200 [00:00<?, ?it/s]"
      ]
     },
     "metadata": {},
     "output_type": "display_data"
    },
    {
     "name": "stdout",
     "output_type": "stream",
     "text": [
      "Epoch:10/200 AVG Training Loss:0.497 AVG Validation Loss:0.496 AVG Training Acc 79.89 % AVG Validation Acc 79.57 %\n",
      "Epoch:20/200 AVG Training Loss:0.490 AVG Validation Loss:0.491 AVG Training Acc 79.92 % AVG Validation Acc 79.84 %\n",
      "Epoch:30/200 AVG Training Loss:0.485 AVG Validation Loss:0.487 AVG Training Acc 79.93 % AVG Validation Acc 79.57 %\n",
      "Epoch    34: reducing learning rate of group 0 to 1.0000e-03.\n",
      "Epoch:40/200 AVG Training Loss:0.475 AVG Validation Loss:0.486 AVG Training Acc 80.04 % AVG Validation Acc 79.57 %\n",
      "Epoch:50/200 AVG Training Loss:0.466 AVG Validation Loss:0.490 AVG Training Acc 80.23 % AVG Validation Acc 79.57 %\n",
      "Epoch:60/200 AVG Training Loss:0.461 AVG Validation Loss:0.496 AVG Training Acc 80.41 % AVG Validation Acc 79.57 %\n",
      "Epoch    65: reducing learning rate of group 0 to 1.0000e-04.\n",
      "Epoch:70/200 AVG Training Loss:0.453 AVG Validation Loss:0.497 AVG Training Acc 80.47 % AVG Validation Acc 79.97 %\n",
      "New Best Accuracy found: 80.11%\n",
      "Epoch: 71\n",
      "Epoch:80/200 AVG Training Loss:0.454 AVG Validation Loss:0.497 AVG Training Acc 80.62 % AVG Validation Acc 80.11 %\n",
      "New Best Accuracy found: 80.24%\n",
      "Epoch: 89\n",
      "Epoch:90/200 AVG Training Loss:0.452 AVG Validation Loss:0.500 AVG Training Acc 80.60 % AVG Validation Acc 80.11 %\n",
      "Epoch    96: reducing learning rate of group 0 to 1.0000e-05.\n",
      "Epoch:100/200 AVG Training Loss:0.451 AVG Validation Loss:0.503 AVG Training Acc 80.69 % AVG Validation Acc 79.97 %\n",
      "Epoch:110/200 AVG Training Loss:0.450 AVG Validation Loss:0.502 AVG Training Acc 80.72 % AVG Validation Acc 80.11 %\n",
      "Epoch:120/200 AVG Training Loss:0.451 AVG Validation Loss:0.501 AVG Training Acc 80.71 % AVG Validation Acc 79.97 %\n",
      "Epoch   127: reducing learning rate of group 0 to 1.0000e-06.\n",
      "Epoch:130/200 AVG Training Loss:0.449 AVG Validation Loss:0.501 AVG Training Acc 80.66 % AVG Validation Acc 80.11 %\n",
      "Epoch:140/200 AVG Training Loss:0.449 AVG Validation Loss:0.502 AVG Training Acc 80.71 % AVG Validation Acc 80.11 %\n",
      "Epoch:150/200 AVG Training Loss:0.451 AVG Validation Loss:0.499 AVG Training Acc 80.62 % AVG Validation Acc 80.11 %\n",
      "Epoch   158: reducing learning rate of group 0 to 1.0000e-07.\n",
      "Epoch:160/200 AVG Training Loss:0.452 AVG Validation Loss:0.504 AVG Training Acc 80.63 % AVG Validation Acc 80.11 %\n",
      "Epoch:170/200 AVG Training Loss:0.451 AVG Validation Loss:0.500 AVG Training Acc 80.59 % AVG Validation Acc 80.11 %\n",
      "Epoch:180/200 AVG Training Loss:0.450 AVG Validation Loss:0.504 AVG Training Acc 80.74 % AVG Validation Acc 80.11 %\n",
      "Epoch   189: reducing learning rate of group 0 to 1.0000e-08.\n",
      "Epoch:190/200 AVG Training Loss:0.452 AVG Validation Loss:0.502 AVG Training Acc 80.84 % AVG Validation Acc 79.97 %\n",
      "Epoch:200/200 AVG Training Loss:0.451 AVG Validation Loss:0.503 AVG Training Acc 80.66 % AVG Validation Acc 80.11 %\n",
      "Split 4\n"
     ]
    },
    {
     "data": {
      "application/vnd.jupyter.widget-view+json": {
       "model_id": "de969e6f5607403b924998efe9752737",
       "version_major": 2,
       "version_minor": 0
      },
      "text/plain": [
       "  0%|          | 0/200 [00:00<?, ?it/s]"
      ]
     },
     "metadata": {},
     "output_type": "display_data"
    },
    {
     "name": "stdout",
     "output_type": "stream",
     "text": [
      "Epoch:10/200 AVG Training Loss:0.496 AVG Validation Loss:0.494 AVG Training Acc 79.92 % AVG Validation Acc 79.84 %\n",
      "Epoch:20/200 AVG Training Loss:0.488 AVG Validation Loss:0.495 AVG Training Acc 79.92 % AVG Validation Acc 79.84 %\n",
      "Epoch    29: reducing learning rate of group 0 to 1.0000e-03.\n",
      "Epoch:30/200 AVG Training Loss:0.478 AVG Validation Loss:0.498 AVG Training Acc 80.02 % AVG Validation Acc 79.70 %\n",
      "Epoch:40/200 AVG Training Loss:0.468 AVG Validation Loss:0.509 AVG Training Acc 80.47 % AVG Validation Acc 78.76 %\n",
      "Epoch:50/200 AVG Training Loss:0.462 AVG Validation Loss:0.519 AVG Training Acc 80.69 % AVG Validation Acc 79.03 %\n",
      "Epoch:60/200 AVG Training Loss:0.455 AVG Validation Loss:0.524 AVG Training Acc 80.80 % AVG Validation Acc 79.17 %\n",
      "Epoch    60: reducing learning rate of group 0 to 1.0000e-04.\n",
      "Epoch:70/200 AVG Training Loss:0.452 AVG Validation Loss:0.526 AVG Training Acc 80.90 % AVG Validation Acc 78.90 %\n",
      "Epoch:80/200 AVG Training Loss:0.453 AVG Validation Loss:0.526 AVG Training Acc 80.96 % AVG Validation Acc 79.03 %\n",
      "Epoch:90/200 AVG Training Loss:0.451 AVG Validation Loss:0.530 AVG Training Acc 81.02 % AVG Validation Acc 78.76 %\n",
      "Epoch    91: reducing learning rate of group 0 to 1.0000e-05.\n",
      "Epoch:100/200 AVG Training Loss:0.450 AVG Validation Loss:0.528 AVG Training Acc 80.92 % AVG Validation Acc 78.90 %\n",
      "Epoch:110/200 AVG Training Loss:0.449 AVG Validation Loss:0.528 AVG Training Acc 80.98 % AVG Validation Acc 79.03 %\n",
      "Epoch:120/200 AVG Training Loss:0.451 AVG Validation Loss:0.526 AVG Training Acc 81.10 % AVG Validation Acc 78.90 %\n",
      "Epoch   122: reducing learning rate of group 0 to 1.0000e-06.\n",
      "Epoch:130/200 AVG Training Loss:0.449 AVG Validation Loss:0.528 AVG Training Acc 81.08 % AVG Validation Acc 78.90 %\n",
      "Epoch:140/200 AVG Training Loss:0.452 AVG Validation Loss:0.530 AVG Training Acc 80.96 % AVG Validation Acc 78.90 %\n",
      "Epoch:150/200 AVG Training Loss:0.450 AVG Validation Loss:0.527 AVG Training Acc 81.11 % AVG Validation Acc 78.76 %\n",
      "Epoch   153: reducing learning rate of group 0 to 1.0000e-07.\n",
      "Epoch:160/200 AVG Training Loss:0.448 AVG Validation Loss:0.530 AVG Training Acc 80.98 % AVG Validation Acc 78.76 %\n",
      "Epoch:170/200 AVG Training Loss:0.450 AVG Validation Loss:0.528 AVG Training Acc 80.90 % AVG Validation Acc 78.76 %\n",
      "Epoch:180/200 AVG Training Loss:0.452 AVG Validation Loss:0.526 AVG Training Acc 80.90 % AVG Validation Acc 79.17 %\n",
      "Epoch   184: reducing learning rate of group 0 to 1.0000e-08.\n",
      "Epoch:190/200 AVG Training Loss:0.451 AVG Validation Loss:0.526 AVG Training Acc 81.19 % AVG Validation Acc 79.03 %\n",
      "Epoch:200/200 AVG Training Loss:0.451 AVG Validation Loss:0.528 AVG Training Acc 80.84 % AVG Validation Acc 78.90 %\n",
      "Split 5\n"
     ]
    },
    {
     "data": {
      "application/vnd.jupyter.widget-view+json": {
       "model_id": "5be9d0bdcec44e75b0576b9e366d98f5",
       "version_major": 2,
       "version_minor": 0
      },
      "text/plain": [
       "  0%|          | 0/200 [00:00<?, ?it/s]"
      ]
     },
     "metadata": {},
     "output_type": "display_data"
    },
    {
     "name": "stdout",
     "output_type": "stream",
     "text": [
      "Epoch:10/200 AVG Training Loss:0.493 AVG Validation Loss:0.500 AVG Training Acc 79.87 % AVG Validation Acc 79.84 %\n",
      "Epoch:20/200 AVG Training Loss:0.486 AVG Validation Loss:0.499 AVG Training Acc 79.84 % AVG Validation Acc 79.97 %\n",
      "Epoch:30/200 AVG Training Loss:0.479 AVG Validation Loss:0.495 AVG Training Acc 79.90 % AVG Validation Acc 79.97 %\n",
      "Epoch    37: reducing learning rate of group 0 to 1.0000e-03.\n",
      "Epoch:40/200 AVG Training Loss:0.479 AVG Validation Loss:0.502 AVG Training Acc 79.92 % AVG Validation Acc 79.97 %\n",
      "Epoch:50/200 AVG Training Loss:0.462 AVG Validation Loss:0.513 AVG Training Acc 80.29 % AVG Validation Acc 79.70 %\n",
      "Epoch:60/200 AVG Training Loss:0.453 AVG Validation Loss:0.516 AVG Training Acc 80.51 % AVG Validation Acc 79.57 %\n",
      "Epoch    68: reducing learning rate of group 0 to 1.0000e-04.\n",
      "Epoch:70/200 AVG Training Loss:0.444 AVG Validation Loss:0.518 AVG Training Acc 80.77 % AVG Validation Acc 79.57 %\n",
      "Epoch:80/200 AVG Training Loss:0.439 AVG Validation Loss:0.519 AVG Training Acc 80.90 % AVG Validation Acc 79.44 %\n",
      "Epoch:90/200 AVG Training Loss:0.437 AVG Validation Loss:0.520 AVG Training Acc 80.95 % AVG Validation Acc 79.57 %\n",
      "Epoch    99: reducing learning rate of group 0 to 1.0000e-05.\n",
      "Epoch:100/200 AVG Training Loss:0.438 AVG Validation Loss:0.521 AVG Training Acc 80.83 % AVG Validation Acc 79.30 %\n",
      "Epoch:110/200 AVG Training Loss:0.439 AVG Validation Loss:0.521 AVG Training Acc 80.78 % AVG Validation Acc 79.57 %\n",
      "Epoch:120/200 AVG Training Loss:0.436 AVG Validation Loss:0.522 AVG Training Acc 80.84 % AVG Validation Acc 79.70 %\n",
      "Epoch:130/200 AVG Training Loss:0.438 AVG Validation Loss:0.521 AVG Training Acc 80.95 % AVG Validation Acc 79.44 %\n",
      "Epoch   130: reducing learning rate of group 0 to 1.0000e-06.\n",
      "Epoch:140/200 AVG Training Loss:0.435 AVG Validation Loss:0.524 AVG Training Acc 80.99 % AVG Validation Acc 79.30 %\n",
      "Epoch:150/200 AVG Training Loss:0.436 AVG Validation Loss:0.521 AVG Training Acc 81.19 % AVG Validation Acc 79.44 %\n",
      "Epoch:160/200 AVG Training Loss:0.436 AVG Validation Loss:0.522 AVG Training Acc 80.99 % AVG Validation Acc 79.44 %\n",
      "Epoch   161: reducing learning rate of group 0 to 1.0000e-07.\n",
      "Epoch:170/200 AVG Training Loss:0.438 AVG Validation Loss:0.518 AVG Training Acc 80.90 % AVG Validation Acc 79.57 %\n",
      "Epoch:180/200 AVG Training Loss:0.440 AVG Validation Loss:0.516 AVG Training Acc 80.93 % AVG Validation Acc 79.44 %\n",
      "Epoch:190/200 AVG Training Loss:0.440 AVG Validation Loss:0.520 AVG Training Acc 80.87 % AVG Validation Acc 79.17 %\n",
      "Epoch   192: reducing learning rate of group 0 to 1.0000e-08.\n",
      "Epoch:200/200 AVG Training Loss:0.437 AVG Validation Loss:0.521 AVG Training Acc 81.11 % AVG Validation Acc 79.44 %\n",
      "Split 6\n"
     ]
    },
    {
     "data": {
      "application/vnd.jupyter.widget-view+json": {
       "model_id": "43356e9a295b4140a7e0887a54cdddd3",
       "version_major": 2,
       "version_minor": 0
      },
      "text/plain": [
       "  0%|          | 0/200 [00:00<?, ?it/s]"
      ]
     },
     "metadata": {},
     "output_type": "display_data"
    },
    {
     "name": "stdout",
     "output_type": "stream",
     "text": [
      "Epoch:10/200 AVG Training Loss:0.494 AVG Validation Loss:0.498 AVG Training Acc 79.84 % AVG Validation Acc 79.84 %\n",
      "Epoch:20/200 AVG Training Loss:0.486 AVG Validation Loss:0.498 AVG Training Acc 79.84 % AVG Validation Acc 79.84 %\n",
      "Epoch    22: reducing learning rate of group 0 to 1.0000e-03.\n",
      "Epoch:30/200 AVG Training Loss:0.469 AVG Validation Loss:0.507 AVG Training Acc 80.26 % AVG Validation Acc 79.84 %\n",
      "Epoch:40/200 AVG Training Loss:0.464 AVG Validation Loss:0.508 AVG Training Acc 80.45 % AVG Validation Acc 79.70 %\n",
      "Epoch:50/200 AVG Training Loss:0.456 AVG Validation Loss:0.514 AVG Training Acc 80.68 % AVG Validation Acc 79.30 %\n",
      "Epoch    53: reducing learning rate of group 0 to 1.0000e-04.\n",
      "Epoch:60/200 AVG Training Loss:0.452 AVG Validation Loss:0.517 AVG Training Acc 80.83 % AVG Validation Acc 79.44 %\n",
      "Epoch:70/200 AVG Training Loss:0.452 AVG Validation Loss:0.517 AVG Training Acc 80.72 % AVG Validation Acc 79.17 %\n",
      "Epoch:80/200 AVG Training Loss:0.450 AVG Validation Loss:0.521 AVG Training Acc 80.98 % AVG Validation Acc 79.30 %\n",
      "Epoch    84: reducing learning rate of group 0 to 1.0000e-05.\n",
      "Epoch:90/200 AVG Training Loss:0.447 AVG Validation Loss:0.523 AVG Training Acc 80.86 % AVG Validation Acc 79.30 %\n",
      "Epoch:100/200 AVG Training Loss:0.447 AVG Validation Loss:0.523 AVG Training Acc 81.08 % AVG Validation Acc 79.17 %\n",
      "Epoch:110/200 AVG Training Loss:0.447 AVG Validation Loss:0.519 AVG Training Acc 81.01 % AVG Validation Acc 79.30 %\n",
      "Epoch   115: reducing learning rate of group 0 to 1.0000e-06.\n",
      "Epoch:120/200 AVG Training Loss:0.449 AVG Validation Loss:0.522 AVG Training Acc 80.99 % AVG Validation Acc 79.17 %\n",
      "Epoch:130/200 AVG Training Loss:0.450 AVG Validation Loss:0.522 AVG Training Acc 80.93 % AVG Validation Acc 79.17 %\n",
      "Epoch:140/200 AVG Training Loss:0.447 AVG Validation Loss:0.517 AVG Training Acc 81.11 % AVG Validation Acc 79.30 %\n",
      "Epoch   146: reducing learning rate of group 0 to 1.0000e-07.\n",
      "Epoch:150/200 AVG Training Loss:0.449 AVG Validation Loss:0.519 AVG Training Acc 81.02 % AVG Validation Acc 79.30 %\n",
      "Epoch:160/200 AVG Training Loss:0.447 AVG Validation Loss:0.519 AVG Training Acc 81.07 % AVG Validation Acc 79.30 %\n",
      "Epoch:170/200 AVG Training Loss:0.445 AVG Validation Loss:0.518 AVG Training Acc 81.13 % AVG Validation Acc 79.30 %\n",
      "Epoch   177: reducing learning rate of group 0 to 1.0000e-08.\n",
      "Epoch:180/200 AVG Training Loss:0.447 AVG Validation Loss:0.519 AVG Training Acc 80.98 % AVG Validation Acc 79.30 %\n",
      "Epoch:190/200 AVG Training Loss:0.447 AVG Validation Loss:0.519 AVG Training Acc 81.05 % AVG Validation Acc 79.30 %\n",
      "Epoch:200/200 AVG Training Loss:0.446 AVG Validation Loss:0.521 AVG Training Acc 81.04 % AVG Validation Acc 79.30 %\n",
      "Split 7\n"
     ]
    },
    {
     "data": {
      "application/vnd.jupyter.widget-view+json": {
       "model_id": "a0a0263398e64fd1b64fb3287428ec7e",
       "version_major": 2,
       "version_minor": 0
      },
      "text/plain": [
       "  0%|          | 0/200 [00:00<?, ?it/s]"
      ]
     },
     "metadata": {},
     "output_type": "display_data"
    },
    {
     "name": "stdout",
     "output_type": "stream",
     "text": [
      "Epoch:10/200 AVG Training Loss:0.493 AVG Validation Loss:0.505 AVG Training Acc 79.87 % AVG Validation Acc 79.95 %\n",
      "Epoch    19: reducing learning rate of group 0 to 1.0000e-03.\n",
      "Epoch:20/200 AVG Training Loss:0.483 AVG Validation Loss:0.488 AVG Training Acc 79.93 % AVG Validation Acc 79.95 %\n",
      "Epoch:30/200 AVG Training Loss:0.479 AVG Validation Loss:0.494 AVG Training Acc 80.07 % AVG Validation Acc 79.68 %\n",
      "Epoch:40/200 AVG Training Loss:0.476 AVG Validation Loss:0.495 AVG Training Acc 80.13 % AVG Validation Acc 79.68 %\n",
      "Epoch:50/200 AVG Training Loss:0.467 AVG Validation Loss:0.499 AVG Training Acc 80.35 % AVG Validation Acc 79.41 %\n",
      "Epoch    50: reducing learning rate of group 0 to 1.0000e-04.\n",
      "Epoch:60/200 AVG Training Loss:0.464 AVG Validation Loss:0.500 AVG Training Acc 80.46 % AVG Validation Acc 79.27 %\n",
      "Epoch:70/200 AVG Training Loss:0.464 AVG Validation Loss:0.500 AVG Training Acc 80.49 % AVG Validation Acc 79.14 %\n",
      "Epoch:80/200 AVG Training Loss:0.462 AVG Validation Loss:0.501 AVG Training Acc 80.41 % AVG Validation Acc 79.00 %\n",
      "Epoch    81: reducing learning rate of group 0 to 1.0000e-05.\n",
      "Epoch:90/200 AVG Training Loss:0.463 AVG Validation Loss:0.502 AVG Training Acc 80.31 % AVG Validation Acc 79.14 %\n",
      "Epoch:100/200 AVG Training Loss:0.462 AVG Validation Loss:0.503 AVG Training Acc 80.58 % AVG Validation Acc 78.87 %\n",
      "Epoch:110/200 AVG Training Loss:0.462 AVG Validation Loss:0.501 AVG Training Acc 80.50 % AVG Validation Acc 78.87 %\n",
      "Epoch   112: reducing learning rate of group 0 to 1.0000e-06.\n",
      "Epoch:120/200 AVG Training Loss:0.462 AVG Validation Loss:0.501 AVG Training Acc 80.52 % AVG Validation Acc 79.00 %\n",
      "Epoch:130/200 AVG Training Loss:0.461 AVG Validation Loss:0.501 AVG Training Acc 80.52 % AVG Validation Acc 79.14 %\n",
      "Epoch:140/200 AVG Training Loss:0.461 AVG Validation Loss:0.500 AVG Training Acc 80.47 % AVG Validation Acc 79.14 %\n",
      "Epoch   143: reducing learning rate of group 0 to 1.0000e-07.\n",
      "Epoch:150/200 AVG Training Loss:0.461 AVG Validation Loss:0.502 AVG Training Acc 80.49 % AVG Validation Acc 78.87 %\n",
      "Epoch:160/200 AVG Training Loss:0.461 AVG Validation Loss:0.502 AVG Training Acc 80.55 % AVG Validation Acc 79.00 %\n",
      "Epoch:170/200 AVG Training Loss:0.461 AVG Validation Loss:0.503 AVG Training Acc 80.55 % AVG Validation Acc 78.87 %\n",
      "Epoch   174: reducing learning rate of group 0 to 1.0000e-08.\n",
      "Epoch:180/200 AVG Training Loss:0.463 AVG Validation Loss:0.501 AVG Training Acc 80.58 % AVG Validation Acc 78.87 %\n",
      "Epoch:190/200 AVG Training Loss:0.462 AVG Validation Loss:0.502 AVG Training Acc 80.44 % AVG Validation Acc 78.87 %\n",
      "Epoch:200/200 AVG Training Loss:0.461 AVG Validation Loss:0.500 AVG Training Acc 80.56 % AVG Validation Acc 79.14 %\n",
      "Split 8\n"
     ]
    },
    {
     "data": {
      "application/vnd.jupyter.widget-view+json": {
       "model_id": "4aaa61294adb4579ade1eaf1707aea17",
       "version_major": 2,
       "version_minor": 0
      },
      "text/plain": [
       "  0%|          | 0/200 [00:00<?, ?it/s]"
      ]
     },
     "metadata": {},
     "output_type": "display_data"
    },
    {
     "name": "stdout",
     "output_type": "stream",
     "text": [
      "Epoch:10/200 AVG Training Loss:0.494 AVG Validation Loss:0.492 AVG Training Acc 79.89 % AVG Validation Acc 79.95 %\n",
      "Epoch:20/200 AVG Training Loss:0.486 AVG Validation Loss:0.491 AVG Training Acc 79.95 % AVG Validation Acc 79.95 %\n",
      "Epoch:30/200 AVG Training Loss:0.487 AVG Validation Loss:0.497 AVG Training Acc 79.86 % AVG Validation Acc 79.95 %\n",
      "Epoch    31: reducing learning rate of group 0 to 1.0000e-03.\n",
      "Epoch:40/200 AVG Training Loss:0.468 AVG Validation Loss:0.502 AVG Training Acc 80.37 % AVG Validation Acc 80.08 %\n",
      "Epoch:50/200 AVG Training Loss:0.463 AVG Validation Loss:0.514 AVG Training Acc 80.40 % AVG Validation Acc 79.95 %\n",
      "Epoch:60/200 AVG Training Loss:0.456 AVG Validation Loss:0.526 AVG Training Acc 80.58 % AVG Validation Acc 79.95 %\n",
      "Epoch    62: reducing learning rate of group 0 to 1.0000e-04.\n",
      "Epoch:70/200 AVG Training Loss:0.449 AVG Validation Loss:0.531 AVG Training Acc 80.70 % AVG Validation Acc 80.08 %\n",
      "Epoch:80/200 AVG Training Loss:0.449 AVG Validation Loss:0.528 AVG Training Acc 80.68 % AVG Validation Acc 80.08 %\n",
      "Epoch:90/200 AVG Training Loss:0.447 AVG Validation Loss:0.524 AVG Training Acc 80.88 % AVG Validation Acc 80.22 %\n",
      "Epoch    93: reducing learning rate of group 0 to 1.0000e-05.\n",
      "Epoch:100/200 AVG Training Loss:0.449 AVG Validation Loss:0.528 AVG Training Acc 80.62 % AVG Validation Acc 80.22 %\n",
      "Epoch:110/200 AVG Training Loss:0.447 AVG Validation Loss:0.530 AVG Training Acc 80.70 % AVG Validation Acc 80.08 %\n",
      "Epoch:120/200 AVG Training Loss:0.447 AVG Validation Loss:0.533 AVG Training Acc 80.70 % AVG Validation Acc 80.22 %\n",
      "Epoch   124: reducing learning rate of group 0 to 1.0000e-06.\n",
      "Epoch:130/200 AVG Training Loss:0.447 AVG Validation Loss:0.524 AVG Training Acc 80.68 % AVG Validation Acc 80.08 %\n",
      "Epoch:140/200 AVG Training Loss:0.447 AVG Validation Loss:0.529 AVG Training Acc 80.70 % AVG Validation Acc 80.22 %\n",
      "Epoch:150/200 AVG Training Loss:0.446 AVG Validation Loss:0.524 AVG Training Acc 80.83 % AVG Validation Acc 80.08 %\n",
      "Epoch   155: reducing learning rate of group 0 to 1.0000e-07.\n",
      "Epoch:160/200 AVG Training Loss:0.448 AVG Validation Loss:0.525 AVG Training Acc 80.68 % AVG Validation Acc 80.22 %\n",
      "Epoch:170/200 AVG Training Loss:0.447 AVG Validation Loss:0.523 AVG Training Acc 80.73 % AVG Validation Acc 80.22 %\n",
      "Epoch:180/200 AVG Training Loss:0.446 AVG Validation Loss:0.534 AVG Training Acc 80.77 % AVG Validation Acc 80.08 %\n",
      "Epoch   186: reducing learning rate of group 0 to 1.0000e-08.\n",
      "Epoch:190/200 AVG Training Loss:0.446 AVG Validation Loss:0.525 AVG Training Acc 80.80 % AVG Validation Acc 80.08 %\n",
      "Epoch:200/200 AVG Training Loss:0.448 AVG Validation Loss:0.527 AVG Training Acc 80.71 % AVG Validation Acc 80.08 %\n",
      "Split 9\n"
     ]
    },
    {
     "data": {
      "application/vnd.jupyter.widget-view+json": {
       "model_id": "3f065b8e7efc4fe98948ab290238b902",
       "version_major": 2,
       "version_minor": 0
      },
      "text/plain": [
       "  0%|          | 0/200 [00:00<?, ?it/s]"
      ]
     },
     "metadata": {},
     "output_type": "display_data"
    },
    {
     "name": "stdout",
     "output_type": "stream",
     "text": [
      "Epoch:10/200 AVG Training Loss:0.495 AVG Validation Loss:0.493 AVG Training Acc 79.87 % AVG Validation Acc 79.95 %\n",
      "Epoch:20/200 AVG Training Loss:0.491 AVG Validation Loss:0.488 AVG Training Acc 79.92 % AVG Validation Acc 79.95 %\n",
      "New Best Accuracy found: 80.35%\n",
      "Epoch: 25\n",
      "Epoch:30/200 AVG Training Loss:0.500 AVG Validation Loss:0.500 AVG Training Acc 79.87 % AVG Validation Acc 79.95 %\n",
      "Epoch    36: reducing learning rate of group 0 to 1.0000e-03.\n",
      "Epoch:40/200 AVG Training Loss:0.488 AVG Validation Loss:0.493 AVG Training Acc 79.93 % AVG Validation Acc 80.08 %\n",
      "Epoch:50/200 AVG Training Loss:0.483 AVG Validation Loss:0.497 AVG Training Acc 80.05 % AVG Validation Acc 79.81 %\n",
      "Epoch:60/200 AVG Training Loss:0.481 AVG Validation Loss:0.497 AVG Training Acc 80.14 % AVG Validation Acc 79.68 %\n",
      "Epoch    67: reducing learning rate of group 0 to 1.0000e-04.\n",
      "Epoch:70/200 AVG Training Loss:0.478 AVG Validation Loss:0.500 AVG Training Acc 80.25 % AVG Validation Acc 79.54 %\n",
      "Epoch:80/200 AVG Training Loss:0.477 AVG Validation Loss:0.502 AVG Training Acc 80.20 % AVG Validation Acc 79.54 %\n",
      "Epoch:90/200 AVG Training Loss:0.477 AVG Validation Loss:0.500 AVG Training Acc 80.38 % AVG Validation Acc 79.54 %\n",
      "Epoch    98: reducing learning rate of group 0 to 1.0000e-05.\n",
      "Epoch:100/200 AVG Training Loss:0.476 AVG Validation Loss:0.503 AVG Training Acc 80.07 % AVG Validation Acc 79.54 %\n",
      "Epoch:110/200 AVG Training Loss:0.473 AVG Validation Loss:0.502 AVG Training Acc 80.41 % AVG Validation Acc 79.54 %\n",
      "Epoch:120/200 AVG Training Loss:0.476 AVG Validation Loss:0.502 AVG Training Acc 80.16 % AVG Validation Acc 79.54 %\n",
      "Epoch   129: reducing learning rate of group 0 to 1.0000e-06.\n",
      "Epoch:130/200 AVG Training Loss:0.477 AVG Validation Loss:0.502 AVG Training Acc 80.28 % AVG Validation Acc 79.54 %\n",
      "Epoch:140/200 AVG Training Loss:0.476 AVG Validation Loss:0.503 AVG Training Acc 80.34 % AVG Validation Acc 79.54 %\n",
      "Epoch:150/200 AVG Training Loss:0.476 AVG Validation Loss:0.501 AVG Training Acc 80.16 % AVG Validation Acc 79.54 %\n",
      "Epoch:160/200 AVG Training Loss:0.477 AVG Validation Loss:0.503 AVG Training Acc 80.20 % AVG Validation Acc 79.54 %\n",
      "Epoch   160: reducing learning rate of group 0 to 1.0000e-07.\n",
      "Epoch:170/200 AVG Training Loss:0.476 AVG Validation Loss:0.503 AVG Training Acc 80.29 % AVG Validation Acc 79.54 %\n",
      "Epoch:180/200 AVG Training Loss:0.475 AVG Validation Loss:0.503 AVG Training Acc 80.28 % AVG Validation Acc 79.54 %\n",
      "Epoch:190/200 AVG Training Loss:0.475 AVG Validation Loss:0.503 AVG Training Acc 80.23 % AVG Validation Acc 79.54 %\n",
      "Epoch   191: reducing learning rate of group 0 to 1.0000e-08.\n",
      "Epoch:200/200 AVG Training Loss:0.474 AVG Validation Loss:0.501 AVG Training Acc 80.29 % AVG Validation Acc 79.54 %\n",
      "Split 10\n"
     ]
    },
    {
     "data": {
      "application/vnd.jupyter.widget-view+json": {
       "model_id": "3b4a84f99d4a4c55b98884f0aeac1089",
       "version_major": 2,
       "version_minor": 0
      },
      "text/plain": [
       "  0%|          | 0/200 [00:00<?, ?it/s]"
      ]
     },
     "metadata": {},
     "output_type": "display_data"
    },
    {
     "name": "stdout",
     "output_type": "stream",
     "text": [
      "Epoch:10/200 AVG Training Loss:0.494 AVG Validation Loss:0.496 AVG Training Acc 79.87 % AVG Validation Acc 79.81 %\n",
      "Epoch:20/200 AVG Training Loss:0.491 AVG Validation Loss:0.498 AVG Training Acc 79.89 % AVG Validation Acc 79.81 %\n",
      "Epoch    23: reducing learning rate of group 0 to 1.0000e-03.\n",
      "Epoch:30/200 AVG Training Loss:0.480 AVG Validation Loss:0.494 AVG Training Acc 80.07 % AVG Validation Acc 79.81 %\n",
      "Epoch:40/200 AVG Training Loss:0.474 AVG Validation Loss:0.495 AVG Training Acc 80.16 % AVG Validation Acc 79.95 %\n",
      "Epoch:50/200 AVG Training Loss:0.468 AVG Validation Loss:0.501 AVG Training Acc 80.31 % AVG Validation Acc 79.68 %\n",
      "Epoch    54: reducing learning rate of group 0 to 1.0000e-04.\n",
      "Epoch:60/200 AVG Training Loss:0.467 AVG Validation Loss:0.499 AVG Training Acc 80.56 % AVG Validation Acc 79.54 %\n",
      "Epoch:70/200 AVG Training Loss:0.468 AVG Validation Loss:0.497 AVG Training Acc 80.25 % AVG Validation Acc 79.54 %\n",
      "Epoch:80/200 AVG Training Loss:0.466 AVG Validation Loss:0.504 AVG Training Acc 80.34 % AVG Validation Acc 79.54 %\n",
      "Epoch    85: reducing learning rate of group 0 to 1.0000e-05.\n",
      "Epoch:90/200 AVG Training Loss:0.464 AVG Validation Loss:0.502 AVG Training Acc 80.52 % AVG Validation Acc 79.54 %\n",
      "Epoch:100/200 AVG Training Loss:0.462 AVG Validation Loss:0.506 AVG Training Acc 80.44 % AVG Validation Acc 79.41 %\n",
      "Epoch:110/200 AVG Training Loss:0.464 AVG Validation Loss:0.501 AVG Training Acc 80.44 % AVG Validation Acc 79.41 %\n",
      "Epoch   116: reducing learning rate of group 0 to 1.0000e-06.\n",
      "Epoch:120/200 AVG Training Loss:0.463 AVG Validation Loss:0.505 AVG Training Acc 80.52 % AVG Validation Acc 79.54 %\n",
      "Epoch:130/200 AVG Training Loss:0.463 AVG Validation Loss:0.503 AVG Training Acc 80.38 % AVG Validation Acc 79.54 %\n",
      "Epoch:140/200 AVG Training Loss:0.465 AVG Validation Loss:0.504 AVG Training Acc 80.32 % AVG Validation Acc 79.54 %\n",
      "Epoch   147: reducing learning rate of group 0 to 1.0000e-07.\n",
      "Epoch:150/200 AVG Training Loss:0.465 AVG Validation Loss:0.503 AVG Training Acc 80.43 % AVG Validation Acc 79.54 %\n",
      "Epoch:160/200 AVG Training Loss:0.462 AVG Validation Loss:0.501 AVG Training Acc 80.44 % AVG Validation Acc 79.54 %\n",
      "Epoch:170/200 AVG Training Loss:0.462 AVG Validation Loss:0.503 AVG Training Acc 80.46 % AVG Validation Acc 79.27 %\n",
      "Epoch   178: reducing learning rate of group 0 to 1.0000e-08.\n",
      "Epoch:180/200 AVG Training Loss:0.463 AVG Validation Loss:0.505 AVG Training Acc 80.44 % AVG Validation Acc 79.41 %\n",
      "Epoch:190/200 AVG Training Loss:0.465 AVG Validation Loss:0.503 AVG Training Acc 80.41 % AVG Validation Acc 79.41 %\n",
      "Epoch:200/200 AVG Training Loss:0.463 AVG Validation Loss:0.501 AVG Training Acc 80.37 % AVG Validation Acc 79.68 %\n",
      "final_fail\n"
     ]
    },
    {
     "data": {
      "application/vnd.jupyter.widget-view+json": {
       "model_id": "f63ba6a66c334208994d3935c323ecd4",
       "version_major": 2,
       "version_minor": 0
      },
      "text/plain": [
       "0it [00:00, ?it/s]"
      ]
     },
     "metadata": {},
     "output_type": "display_data"
    },
    {
     "name": "stdout",
     "output_type": "stream",
     "text": [
      "Split 1\n"
     ]
    },
    {
     "data": {
      "application/vnd.jupyter.widget-view+json": {
       "model_id": "dabfadee875047b280b2e46769b6851a",
       "version_major": 2,
       "version_minor": 0
      },
      "text/plain": [
       "  0%|          | 0/200 [00:00<?, ?it/s]"
      ]
     },
     "metadata": {},
     "output_type": "display_data"
    },
    {
     "name": "stdout",
     "output_type": "stream",
     "text": [
      "New Best Accuracy found: 85.08%\n",
      "Epoch: 1\n",
      "Epoch:10/200 AVG Training Loss:0.415 AVG Validation Loss:0.416 AVG Training Acc 85.00 % AVG Validation Acc 85.08 %\n",
      "Epoch:20/200 AVG Training Loss:0.409 AVG Validation Loss:0.414 AVG Training Acc 84.98 % AVG Validation Acc 85.08 %\n",
      "Epoch:30/200 AVG Training Loss:0.406 AVG Validation Loss:0.418 AVG Training Acc 85.03 % AVG Validation Acc 85.08 %\n",
      "Epoch    37: reducing learning rate of group 0 to 1.0000e-03.\n",
      "Epoch:40/200 AVG Training Loss:0.399 AVG Validation Loss:0.425 AVG Training Acc 85.09 % AVG Validation Acc 85.08 %\n",
      "Epoch:50/200 AVG Training Loss:0.393 AVG Validation Loss:0.431 AVG Training Acc 85.00 % AVG Validation Acc 84.95 %\n",
      "Epoch:60/200 AVG Training Loss:0.385 AVG Validation Loss:0.441 AVG Training Acc 85.15 % AVG Validation Acc 84.81 %\n",
      "Epoch    68: reducing learning rate of group 0 to 1.0000e-04.\n",
      "Epoch:70/200 AVG Training Loss:0.378 AVG Validation Loss:0.442 AVG Training Acc 85.31 % AVG Validation Acc 84.81 %\n",
      "Epoch:80/200 AVG Training Loss:0.377 AVG Validation Loss:0.444 AVG Training Acc 85.33 % AVG Validation Acc 84.81 %\n",
      "Epoch:90/200 AVG Training Loss:0.378 AVG Validation Loss:0.444 AVG Training Acc 85.40 % AVG Validation Acc 84.81 %\n",
      "Epoch    99: reducing learning rate of group 0 to 1.0000e-05.\n",
      "Epoch:100/200 AVG Training Loss:0.376 AVG Validation Loss:0.449 AVG Training Acc 85.34 % AVG Validation Acc 84.81 %\n",
      "Epoch:110/200 AVG Training Loss:0.377 AVG Validation Loss:0.449 AVG Training Acc 85.40 % AVG Validation Acc 84.81 %\n",
      "Epoch:120/200 AVG Training Loss:0.376 AVG Validation Loss:0.445 AVG Training Acc 85.34 % AVG Validation Acc 84.81 %\n",
      "Epoch:130/200 AVG Training Loss:0.377 AVG Validation Loss:0.445 AVG Training Acc 85.27 % AVG Validation Acc 84.81 %\n",
      "Epoch   130: reducing learning rate of group 0 to 1.0000e-06.\n",
      "Epoch:140/200 AVG Training Loss:0.376 AVG Validation Loss:0.447 AVG Training Acc 85.34 % AVG Validation Acc 84.81 %\n",
      "Epoch:150/200 AVG Training Loss:0.375 AVG Validation Loss:0.448 AVG Training Acc 85.24 % AVG Validation Acc 84.81 %\n",
      "Epoch:160/200 AVG Training Loss:0.374 AVG Validation Loss:0.445 AVG Training Acc 85.34 % AVG Validation Acc 84.68 %\n",
      "Epoch   161: reducing learning rate of group 0 to 1.0000e-07.\n",
      "Epoch:170/200 AVG Training Loss:0.374 AVG Validation Loss:0.445 AVG Training Acc 85.33 % AVG Validation Acc 84.81 %\n",
      "Epoch:180/200 AVG Training Loss:0.375 AVG Validation Loss:0.446 AVG Training Acc 85.40 % AVG Validation Acc 84.68 %\n",
      "Epoch:190/200 AVG Training Loss:0.376 AVG Validation Loss:0.450 AVG Training Acc 85.40 % AVG Validation Acc 84.81 %\n",
      "Epoch   192: reducing learning rate of group 0 to 1.0000e-08.\n",
      "Epoch:200/200 AVG Training Loss:0.376 AVG Validation Loss:0.450 AVG Training Acc 85.37 % AVG Validation Acc 84.81 %\n",
      "Split 2\n"
     ]
    },
    {
     "data": {
      "application/vnd.jupyter.widget-view+json": {
       "model_id": "8051b5c31aa74dddbb3196c5ea513ba3",
       "version_major": 2,
       "version_minor": 0
      },
      "text/plain": [
       "  0%|          | 0/200 [00:00<?, ?it/s]"
      ]
     },
     "metadata": {},
     "output_type": "display_data"
    },
    {
     "name": "stdout",
     "output_type": "stream",
     "text": [
      "Epoch:10/200 AVG Training Loss:0.417 AVG Validation Loss:0.418 AVG Training Acc 85.03 % AVG Validation Acc 84.95 %\n",
      "Epoch:20/200 AVG Training Loss:0.408 AVG Validation Loss:0.417 AVG Training Acc 84.97 % AVG Validation Acc 84.95 %\n",
      "Epoch:30/200 AVG Training Loss:0.399 AVG Validation Loss:0.418 AVG Training Acc 85.04 % AVG Validation Acc 84.95 %\n",
      "Epoch:40/200 AVG Training Loss:0.406 AVG Validation Loss:0.420 AVG Training Acc 85.13 % AVG Validation Acc 84.95 %\n",
      "Epoch    46: reducing learning rate of group 0 to 1.0000e-03.\n",
      "Epoch:50/200 AVG Training Loss:0.377 AVG Validation Loss:0.439 AVG Training Acc 85.55 % AVG Validation Acc 84.54 %\n",
      "Epoch:60/200 AVG Training Loss:0.367 AVG Validation Loss:0.459 AVG Training Acc 85.82 % AVG Validation Acc 84.01 %\n",
      "Epoch:70/200 AVG Training Loss:0.359 AVG Validation Loss:0.467 AVG Training Acc 85.94 % AVG Validation Acc 84.41 %\n",
      "Epoch    77: reducing learning rate of group 0 to 1.0000e-04.\n",
      "Epoch:80/200 AVG Training Loss:0.354 AVG Validation Loss:0.484 AVG Training Acc 85.89 % AVG Validation Acc 83.60 %\n",
      "Epoch:90/200 AVG Training Loss:0.350 AVG Validation Loss:0.488 AVG Training Acc 86.07 % AVG Validation Acc 83.87 %\n",
      "Epoch:100/200 AVG Training Loss:0.349 AVG Validation Loss:0.492 AVG Training Acc 86.10 % AVG Validation Acc 83.47 %\n",
      "Epoch   108: reducing learning rate of group 0 to 1.0000e-05.\n",
      "Epoch:110/200 AVG Training Loss:0.347 AVG Validation Loss:0.496 AVG Training Acc 86.22 % AVG Validation Acc 83.74 %\n",
      "Epoch:120/200 AVG Training Loss:0.348 AVG Validation Loss:0.493 AVG Training Acc 86.24 % AVG Validation Acc 83.47 %\n",
      "Epoch:130/200 AVG Training Loss:0.347 AVG Validation Loss:0.496 AVG Training Acc 86.27 % AVG Validation Acc 83.60 %\n",
      "Epoch   139: reducing learning rate of group 0 to 1.0000e-06.\n",
      "Epoch:140/200 AVG Training Loss:0.348 AVG Validation Loss:0.491 AVG Training Acc 86.16 % AVG Validation Acc 83.33 %\n",
      "Epoch:150/200 AVG Training Loss:0.349 AVG Validation Loss:0.492 AVG Training Acc 86.24 % AVG Validation Acc 83.33 %\n",
      "Epoch:160/200 AVG Training Loss:0.350 AVG Validation Loss:0.489 AVG Training Acc 86.27 % AVG Validation Acc 83.74 %\n",
      "Epoch:170/200 AVG Training Loss:0.350 AVG Validation Loss:0.490 AVG Training Acc 86.12 % AVG Validation Acc 83.87 %\n",
      "Epoch   170: reducing learning rate of group 0 to 1.0000e-07.\n",
      "Epoch:180/200 AVG Training Loss:0.351 AVG Validation Loss:0.487 AVG Training Acc 86.30 % AVG Validation Acc 83.74 %\n",
      "Epoch:190/200 AVG Training Loss:0.349 AVG Validation Loss:0.491 AVG Training Acc 86.25 % AVG Validation Acc 83.60 %\n",
      "Epoch:200/200 AVG Training Loss:0.349 AVG Validation Loss:0.491 AVG Training Acc 86.16 % AVG Validation Acc 83.60 %\n",
      "Split 3\n"
     ]
    },
    {
     "data": {
      "application/vnd.jupyter.widget-view+json": {
       "model_id": "9c24e5dc1a4a4306a045724b449c8189",
       "version_major": 2,
       "version_minor": 0
      },
      "text/plain": [
       "  0%|          | 0/200 [00:00<?, ?it/s]"
      ]
     },
     "metadata": {},
     "output_type": "display_data"
    },
    {
     "name": "stdout",
     "output_type": "stream",
     "text": [
      "Epoch:10/200 AVG Training Loss:0.416 AVG Validation Loss:0.414 AVG Training Acc 85.01 % AVG Validation Acc 84.95 %\n",
      "Epoch:20/200 AVG Training Loss:0.408 AVG Validation Loss:0.403 AVG Training Acc 85.03 % AVG Validation Acc 84.95 %\n",
      "Epoch:30/200 AVG Training Loss:0.405 AVG Validation Loss:0.400 AVG Training Acc 85.01 % AVG Validation Acc 84.81 %\n",
      "New Best Accuracy found: 85.22%\n",
      "Epoch: 34\n",
      "Epoch:40/200 AVG Training Loss:0.400 AVG Validation Loss:0.401 AVG Training Acc 85.18 % AVG Validation Acc 84.95 %\n",
      "Epoch:50/200 AVG Training Loss:0.394 AVG Validation Loss:0.405 AVG Training Acc 85.30 % AVG Validation Acc 84.81 %\n",
      "Epoch    55: reducing learning rate of group 0 to 1.0000e-03.\n",
      "Epoch:60/200 AVG Training Loss:0.382 AVG Validation Loss:0.401 AVG Training Acc 85.43 % AVG Validation Acc 85.08 %\n",
      "New Best Accuracy found: 85.35%\n",
      "Epoch: 63\n",
      "Epoch:70/200 AVG Training Loss:0.373 AVG Validation Loss:0.404 AVG Training Acc 85.61 % AVG Validation Acc 85.22 %\n",
      "Epoch:80/200 AVG Training Loss:0.367 AVG Validation Loss:0.409 AVG Training Acc 85.77 % AVG Validation Acc 85.22 %\n",
      "Epoch    86: reducing learning rate of group 0 to 1.0000e-04.\n",
      "Epoch:90/200 AVG Training Loss:0.362 AVG Validation Loss:0.413 AVG Training Acc 85.85 % AVG Validation Acc 84.81 %\n",
      "Epoch:100/200 AVG Training Loss:0.359 AVG Validation Loss:0.415 AVG Training Acc 86.06 % AVG Validation Acc 84.68 %\n",
      "Epoch:110/200 AVG Training Loss:0.359 AVG Validation Loss:0.416 AVG Training Acc 85.97 % AVG Validation Acc 84.95 %\n",
      "Epoch   117: reducing learning rate of group 0 to 1.0000e-05.\n",
      "Epoch:120/200 AVG Training Loss:0.358 AVG Validation Loss:0.418 AVG Training Acc 86.03 % AVG Validation Acc 84.81 %\n",
      "Epoch:130/200 AVG Training Loss:0.357 AVG Validation Loss:0.416 AVG Training Acc 86.09 % AVG Validation Acc 84.68 %\n",
      "Epoch:140/200 AVG Training Loss:0.359 AVG Validation Loss:0.417 AVG Training Acc 86.00 % AVG Validation Acc 84.68 %\n",
      "Epoch   148: reducing learning rate of group 0 to 1.0000e-06.\n",
      "Epoch:150/200 AVG Training Loss:0.360 AVG Validation Loss:0.415 AVG Training Acc 85.97 % AVG Validation Acc 84.68 %\n",
      "Epoch:160/200 AVG Training Loss:0.359 AVG Validation Loss:0.422 AVG Training Acc 85.91 % AVG Validation Acc 84.81 %\n",
      "Epoch:170/200 AVG Training Loss:0.360 AVG Validation Loss:0.413 AVG Training Acc 85.94 % AVG Validation Acc 84.95 %\n",
      "Epoch   179: reducing learning rate of group 0 to 1.0000e-07.\n",
      "Epoch:180/200 AVG Training Loss:0.359 AVG Validation Loss:0.418 AVG Training Acc 86.12 % AVG Validation Acc 84.68 %\n",
      "Epoch:190/200 AVG Training Loss:0.361 AVG Validation Loss:0.419 AVG Training Acc 86.10 % AVG Validation Acc 84.68 %\n",
      "Epoch:200/200 AVG Training Loss:0.359 AVG Validation Loss:0.419 AVG Training Acc 86.12 % AVG Validation Acc 84.41 %\n",
      "Split 4\n"
     ]
    },
    {
     "data": {
      "application/vnd.jupyter.widget-view+json": {
       "model_id": "04b3daa573b24664ae1f3be0c477889e",
       "version_major": 2,
       "version_minor": 0
      },
      "text/plain": [
       "  0%|          | 0/200 [00:00<?, ?it/s]"
      ]
     },
     "metadata": {},
     "output_type": "display_data"
    },
    {
     "name": "stdout",
     "output_type": "stream",
     "text": [
      "Epoch:10/200 AVG Training Loss:0.414 AVG Validation Loss:0.411 AVG Training Acc 85.00 % AVG Validation Acc 84.95 %\n",
      "Epoch:20/200 AVG Training Loss:0.408 AVG Validation Loss:0.409 AVG Training Acc 85.06 % AVG Validation Acc 84.95 %\n",
      "Epoch:30/200 AVG Training Loss:0.402 AVG Validation Loss:0.413 AVG Training Acc 85.03 % AVG Validation Acc 84.95 %\n",
      "Epoch    37: reducing learning rate of group 0 to 1.0000e-03.\n",
      "Epoch:40/200 AVG Training Loss:0.389 AVG Validation Loss:0.415 AVG Training Acc 85.16 % AVG Validation Acc 84.95 %\n",
      "Epoch:50/200 AVG Training Loss:0.382 AVG Validation Loss:0.418 AVG Training Acc 85.25 % AVG Validation Acc 84.81 %\n",
      "Epoch:60/200 AVG Training Loss:0.376 AVG Validation Loss:0.424 AVG Training Acc 85.46 % AVG Validation Acc 84.68 %\n",
      "Epoch    68: reducing learning rate of group 0 to 1.0000e-04.\n",
      "Epoch:70/200 AVG Training Loss:0.372 AVG Validation Loss:0.437 AVG Training Acc 85.71 % AVG Validation Acc 84.41 %\n",
      "Epoch:80/200 AVG Training Loss:0.368 AVG Validation Loss:0.434 AVG Training Acc 85.65 % AVG Validation Acc 84.54 %\n",
      "Epoch:90/200 AVG Training Loss:0.369 AVG Validation Loss:0.436 AVG Training Acc 85.73 % AVG Validation Acc 84.81 %\n",
      "Epoch    99: reducing learning rate of group 0 to 1.0000e-05.\n",
      "Epoch:100/200 AVG Training Loss:0.368 AVG Validation Loss:0.446 AVG Training Acc 85.67 % AVG Validation Acc 84.68 %\n",
      "Epoch:110/200 AVG Training Loss:0.366 AVG Validation Loss:0.438 AVG Training Acc 85.88 % AVG Validation Acc 84.68 %\n",
      "Epoch:120/200 AVG Training Loss:0.367 AVG Validation Loss:0.432 AVG Training Acc 85.67 % AVG Validation Acc 84.81 %\n",
      "Epoch:130/200 AVG Training Loss:0.369 AVG Validation Loss:0.441 AVG Training Acc 85.55 % AVG Validation Acc 84.95 %\n",
      "Epoch   130: reducing learning rate of group 0 to 1.0000e-06.\n",
      "Epoch:140/200 AVG Training Loss:0.367 AVG Validation Loss:0.443 AVG Training Acc 85.71 % AVG Validation Acc 84.68 %\n",
      "Epoch:150/200 AVG Training Loss:0.368 AVG Validation Loss:0.455 AVG Training Acc 85.61 % AVG Validation Acc 84.41 %\n",
      "Epoch:160/200 AVG Training Loss:0.366 AVG Validation Loss:0.433 AVG Training Acc 85.76 % AVG Validation Acc 84.54 %\n",
      "Epoch   161: reducing learning rate of group 0 to 1.0000e-07.\n",
      "Epoch:170/200 AVG Training Loss:0.365 AVG Validation Loss:0.435 AVG Training Acc 85.68 % AVG Validation Acc 84.68 %\n",
      "Epoch:180/200 AVG Training Loss:0.365 AVG Validation Loss:0.438 AVG Training Acc 85.76 % AVG Validation Acc 84.54 %\n",
      "Epoch:190/200 AVG Training Loss:0.366 AVG Validation Loss:0.437 AVG Training Acc 85.76 % AVG Validation Acc 84.41 %\n",
      "Epoch   192: reducing learning rate of group 0 to 1.0000e-08.\n",
      "Epoch:200/200 AVG Training Loss:0.366 AVG Validation Loss:0.435 AVG Training Acc 85.68 % AVG Validation Acc 84.81 %\n",
      "Split 5\n"
     ]
    },
    {
     "data": {
      "application/vnd.jupyter.widget-view+json": {
       "model_id": "ccf976d2b63b46cda807b73fb3fc20f7",
       "version_major": 2,
       "version_minor": 0
      },
      "text/plain": [
       "  0%|          | 0/200 [00:00<?, ?it/s]"
      ]
     },
     "metadata": {},
     "output_type": "display_data"
    },
    {
     "name": "stdout",
     "output_type": "stream",
     "text": [
      "Epoch:10/200 AVG Training Loss:0.416 AVG Validation Loss:0.410 AVG Training Acc 85.01 % AVG Validation Acc 84.95 %\n",
      "Epoch:20/200 AVG Training Loss:0.411 AVG Validation Loss:0.406 AVG Training Acc 85.00 % AVG Validation Acc 84.95 %\n",
      "Epoch:30/200 AVG Training Loss:0.406 AVG Validation Loss:0.405 AVG Training Acc 85.00 % AVG Validation Acc 84.81 %\n",
      "Epoch    35: reducing learning rate of group 0 to 1.0000e-03.\n",
      "Epoch:40/200 AVG Training Loss:0.395 AVG Validation Loss:0.413 AVG Training Acc 85.36 % AVG Validation Acc 84.68 %\n",
      "Epoch:50/200 AVG Training Loss:0.389 AVG Validation Loss:0.418 AVG Training Acc 85.55 % AVG Validation Acc 84.27 %\n",
      "Epoch:60/200 AVG Training Loss:0.381 AVG Validation Loss:0.451 AVG Training Acc 85.91 % AVG Validation Acc 83.74 %\n",
      "Epoch    66: reducing learning rate of group 0 to 1.0000e-04.\n",
      "Epoch:70/200 AVG Training Loss:0.378 AVG Validation Loss:0.435 AVG Training Acc 85.76 % AVG Validation Acc 83.60 %\n",
      "Epoch:80/200 AVG Training Loss:0.378 AVG Validation Loss:0.439 AVG Training Acc 85.85 % AVG Validation Acc 83.74 %\n",
      "Epoch:90/200 AVG Training Loss:0.376 AVG Validation Loss:0.441 AVG Training Acc 85.95 % AVG Validation Acc 83.60 %\n",
      "Epoch    97: reducing learning rate of group 0 to 1.0000e-05.\n",
      "Epoch:100/200 AVG Training Loss:0.374 AVG Validation Loss:0.443 AVG Training Acc 86.06 % AVG Validation Acc 83.74 %\n",
      "Epoch:110/200 AVG Training Loss:0.375 AVG Validation Loss:0.440 AVG Training Acc 86.00 % AVG Validation Acc 83.47 %\n",
      "Epoch:120/200 AVG Training Loss:0.378 AVG Validation Loss:0.441 AVG Training Acc 85.89 % AVG Validation Acc 83.74 %\n",
      "Epoch   128: reducing learning rate of group 0 to 1.0000e-06.\n",
      "Epoch:130/200 AVG Training Loss:0.375 AVG Validation Loss:0.439 AVG Training Acc 85.94 % AVG Validation Acc 83.60 %\n",
      "Epoch:140/200 AVG Training Loss:0.376 AVG Validation Loss:0.443 AVG Training Acc 86.01 % AVG Validation Acc 83.60 %\n",
      "Epoch:150/200 AVG Training Loss:0.377 AVG Validation Loss:0.446 AVG Training Acc 85.94 % AVG Validation Acc 83.47 %\n",
      "Epoch   159: reducing learning rate of group 0 to 1.0000e-07.\n",
      "Epoch:160/200 AVG Training Loss:0.376 AVG Validation Loss:0.445 AVG Training Acc 85.98 % AVG Validation Acc 83.47 %\n",
      "Epoch:170/200 AVG Training Loss:0.376 AVG Validation Loss:0.444 AVG Training Acc 85.77 % AVG Validation Acc 83.60 %\n",
      "Epoch:180/200 AVG Training Loss:0.375 AVG Validation Loss:0.440 AVG Training Acc 85.92 % AVG Validation Acc 83.60 %\n",
      "Epoch:190/200 AVG Training Loss:0.377 AVG Validation Loss:0.443 AVG Training Acc 86.00 % AVG Validation Acc 83.60 %\n",
      "Epoch   190: reducing learning rate of group 0 to 1.0000e-08.\n",
      "Epoch:200/200 AVG Training Loss:0.375 AVG Validation Loss:0.444 AVG Training Acc 85.98 % AVG Validation Acc 83.74 %\n",
      "Split 6\n"
     ]
    },
    {
     "data": {
      "application/vnd.jupyter.widget-view+json": {
       "model_id": "a947b8cb5b454ebe9d5da7e006c49d4f",
       "version_major": 2,
       "version_minor": 0
      },
      "text/plain": [
       "  0%|          | 0/200 [00:00<?, ?it/s]"
      ]
     },
     "metadata": {},
     "output_type": "display_data"
    },
    {
     "name": "stdout",
     "output_type": "stream",
     "text": [
      "Epoch:10/200 AVG Training Loss:0.417 AVG Validation Loss:0.413 AVG Training Acc 85.01 % AVG Validation Acc 84.95 %\n",
      "Epoch:20/200 AVG Training Loss:0.410 AVG Validation Loss:0.404 AVG Training Acc 85.03 % AVG Validation Acc 85.08 %\n",
      "Epoch:30/200 AVG Training Loss:0.401 AVG Validation Loss:0.411 AVG Training Acc 85.07 % AVG Validation Acc 85.22 %\n",
      "Epoch    31: reducing learning rate of group 0 to 1.0000e-03.\n",
      "Epoch:40/200 AVG Training Loss:0.392 AVG Validation Loss:0.413 AVG Training Acc 85.28 % AVG Validation Acc 84.95 %\n",
      "Epoch:50/200 AVG Training Loss:0.388 AVG Validation Loss:0.416 AVG Training Acc 85.37 % AVG Validation Acc 84.81 %\n",
      "Epoch:60/200 AVG Training Loss:0.381 AVG Validation Loss:0.419 AVG Training Acc 85.48 % AVG Validation Acc 84.81 %\n",
      "Epoch    62: reducing learning rate of group 0 to 1.0000e-04.\n",
      "Epoch:70/200 AVG Training Loss:0.379 AVG Validation Loss:0.421 AVG Training Acc 85.55 % AVG Validation Acc 84.81 %\n",
      "Epoch:80/200 AVG Training Loss:0.377 AVG Validation Loss:0.422 AVG Training Acc 85.52 % AVG Validation Acc 84.95 %\n",
      "Epoch:90/200 AVG Training Loss:0.375 AVG Validation Loss:0.425 AVG Training Acc 85.59 % AVG Validation Acc 84.81 %\n",
      "Epoch    93: reducing learning rate of group 0 to 1.0000e-05.\n",
      "Epoch:100/200 AVG Training Loss:0.376 AVG Validation Loss:0.423 AVG Training Acc 85.55 % AVG Validation Acc 84.81 %\n",
      "Epoch:110/200 AVG Training Loss:0.375 AVG Validation Loss:0.420 AVG Training Acc 85.77 % AVG Validation Acc 84.81 %\n",
      "Epoch:120/200 AVG Training Loss:0.375 AVG Validation Loss:0.423 AVG Training Acc 85.58 % AVG Validation Acc 84.81 %\n",
      "Epoch   124: reducing learning rate of group 0 to 1.0000e-06.\n",
      "Epoch:130/200 AVG Training Loss:0.376 AVG Validation Loss:0.422 AVG Training Acc 85.64 % AVG Validation Acc 84.95 %\n",
      "Epoch:140/200 AVG Training Loss:0.375 AVG Validation Loss:0.425 AVG Training Acc 85.67 % AVG Validation Acc 84.81 %\n",
      "Epoch:150/200 AVG Training Loss:0.376 AVG Validation Loss:0.423 AVG Training Acc 85.56 % AVG Validation Acc 84.81 %\n",
      "Epoch   155: reducing learning rate of group 0 to 1.0000e-07.\n",
      "Epoch:160/200 AVG Training Loss:0.376 AVG Validation Loss:0.422 AVG Training Acc 85.56 % AVG Validation Acc 84.95 %\n",
      "Epoch:170/200 AVG Training Loss:0.377 AVG Validation Loss:0.424 AVG Training Acc 85.56 % AVG Validation Acc 84.81 %\n",
      "Epoch:180/200 AVG Training Loss:0.377 AVG Validation Loss:0.422 AVG Training Acc 85.59 % AVG Validation Acc 84.81 %\n",
      "Epoch   186: reducing learning rate of group 0 to 1.0000e-08.\n",
      "Epoch:190/200 AVG Training Loss:0.377 AVG Validation Loss:0.424 AVG Training Acc 85.53 % AVG Validation Acc 84.81 %\n",
      "Epoch:200/200 AVG Training Loss:0.375 AVG Validation Loss:0.422 AVG Training Acc 85.59 % AVG Validation Acc 84.95 %\n",
      "Split 7\n"
     ]
    },
    {
     "data": {
      "application/vnd.jupyter.widget-view+json": {
       "model_id": "44184afd75b84a2db854436f50131426",
       "version_major": 2,
       "version_minor": 0
      },
      "text/plain": [
       "  0%|          | 0/200 [00:00<?, ?it/s]"
      ]
     },
     "metadata": {},
     "output_type": "display_data"
    },
    {
     "name": "stdout",
     "output_type": "stream",
     "text": [
      "Epoch:10/200 AVG Training Loss:0.416 AVG Validation Loss:0.414 AVG Training Acc 84.97 % AVG Validation Acc 85.06 %\n",
      "Epoch:20/200 AVG Training Loss:0.414 AVG Validation Loss:0.410 AVG Training Acc 84.98 % AVG Validation Acc 85.06 %\n",
      "Epoch:30/200 AVG Training Loss:0.408 AVG Validation Loss:0.405 AVG Training Acc 84.94 % AVG Validation Acc 85.06 %\n",
      "Epoch    36: reducing learning rate of group 0 to 1.0000e-03.\n",
      "Epoch:40/200 AVG Training Loss:0.402 AVG Validation Loss:0.410 AVG Training Acc 85.00 % AVG Validation Acc 85.06 %\n",
      "Epoch:50/200 AVG Training Loss:0.396 AVG Validation Loss:0.409 AVG Training Acc 84.95 % AVG Validation Acc 85.06 %\n",
      "Epoch:60/200 AVG Training Loss:0.392 AVG Validation Loss:0.410 AVG Training Acc 85.06 % AVG Validation Acc 85.20 %\n",
      "Epoch    67: reducing learning rate of group 0 to 1.0000e-04.\n",
      "Epoch:70/200 AVG Training Loss:0.384 AVG Validation Loss:0.414 AVG Training Acc 85.18 % AVG Validation Acc 85.06 %\n",
      "Epoch:80/200 AVG Training Loss:0.384 AVG Validation Loss:0.415 AVG Training Acc 85.19 % AVG Validation Acc 85.06 %\n",
      "Epoch:90/200 AVG Training Loss:0.384 AVG Validation Loss:0.417 AVG Training Acc 85.21 % AVG Validation Acc 85.06 %\n",
      "Epoch    98: reducing learning rate of group 0 to 1.0000e-05.\n",
      "Epoch:100/200 AVG Training Loss:0.383 AVG Validation Loss:0.419 AVG Training Acc 85.15 % AVG Validation Acc 85.06 %\n",
      "Epoch:110/200 AVG Training Loss:0.386 AVG Validation Loss:0.417 AVG Training Acc 85.12 % AVG Validation Acc 85.06 %\n",
      "Epoch:120/200 AVG Training Loss:0.384 AVG Validation Loss:0.417 AVG Training Acc 85.21 % AVG Validation Acc 85.06 %\n",
      "Epoch   129: reducing learning rate of group 0 to 1.0000e-06.\n",
      "Epoch:130/200 AVG Training Loss:0.382 AVG Validation Loss:0.417 AVG Training Acc 85.12 % AVG Validation Acc 85.06 %\n",
      "Epoch:140/200 AVG Training Loss:0.382 AVG Validation Loss:0.418 AVG Training Acc 85.15 % AVG Validation Acc 85.06 %\n",
      "Epoch:150/200 AVG Training Loss:0.383 AVG Validation Loss:0.417 AVG Training Acc 85.30 % AVG Validation Acc 85.06 %\n",
      "Epoch:160/200 AVG Training Loss:0.382 AVG Validation Loss:0.417 AVG Training Acc 85.22 % AVG Validation Acc 85.06 %\n",
      "Epoch   160: reducing learning rate of group 0 to 1.0000e-07.\n",
      "Epoch:170/200 AVG Training Loss:0.383 AVG Validation Loss:0.417 AVG Training Acc 85.10 % AVG Validation Acc 85.06 %\n",
      "Epoch:180/200 AVG Training Loss:0.382 AVG Validation Loss:0.417 AVG Training Acc 85.31 % AVG Validation Acc 85.06 %\n",
      "Epoch:190/200 AVG Training Loss:0.381 AVG Validation Loss:0.416 AVG Training Acc 85.18 % AVG Validation Acc 85.06 %\n",
      "Epoch   191: reducing learning rate of group 0 to 1.0000e-08.\n",
      "Epoch:200/200 AVG Training Loss:0.383 AVG Validation Loss:0.418 AVG Training Acc 85.15 % AVG Validation Acc 85.06 %\n",
      "Split 8\n"
     ]
    },
    {
     "data": {
      "application/vnd.jupyter.widget-view+json": {
       "model_id": "347190dbc2f54263836eb356bb9abba7",
       "version_major": 2,
       "version_minor": 0
      },
      "text/plain": [
       "  0%|          | 0/200 [00:00<?, ?it/s]"
      ]
     },
     "metadata": {},
     "output_type": "display_data"
    },
    {
     "name": "stdout",
     "output_type": "stream",
     "text": [
      "Epoch:10/200 AVG Training Loss:0.413 AVG Validation Loss:0.414 AVG Training Acc 84.98 % AVG Validation Acc 85.06 %\n",
      "Epoch:20/200 AVG Training Loss:0.408 AVG Validation Loss:0.423 AVG Training Acc 84.97 % AVG Validation Acc 85.06 %\n",
      "Epoch    20: reducing learning rate of group 0 to 1.0000e-03.\n",
      "Epoch:30/200 AVG Training Loss:0.400 AVG Validation Loss:0.417 AVG Training Acc 85.06 % AVG Validation Acc 85.06 %\n",
      "Epoch:40/200 AVG Training Loss:0.398 AVG Validation Loss:0.417 AVG Training Acc 85.09 % AVG Validation Acc 85.06 %\n",
      "Epoch:50/200 AVG Training Loss:0.390 AVG Validation Loss:0.422 AVG Training Acc 85.24 % AVG Validation Acc 85.06 %\n",
      "Epoch    51: reducing learning rate of group 0 to 1.0000e-04.\n",
      "Epoch:60/200 AVG Training Loss:0.385 AVG Validation Loss:0.421 AVG Training Acc 85.21 % AVG Validation Acc 85.06 %\n",
      "Epoch:70/200 AVG Training Loss:0.385 AVG Validation Loss:0.422 AVG Training Acc 85.27 % AVG Validation Acc 85.06 %\n",
      "Epoch:80/200 AVG Training Loss:0.385 AVG Validation Loss:0.419 AVG Training Acc 85.25 % AVG Validation Acc 85.06 %\n",
      "Epoch    82: reducing learning rate of group 0 to 1.0000e-05.\n",
      "Epoch:90/200 AVG Training Loss:0.384 AVG Validation Loss:0.422 AVG Training Acc 85.22 % AVG Validation Acc 85.06 %\n",
      "Epoch:100/200 AVG Training Loss:0.384 AVG Validation Loss:0.422 AVG Training Acc 85.22 % AVG Validation Acc 85.06 %\n",
      "Epoch:110/200 AVG Training Loss:0.381 AVG Validation Loss:0.418 AVG Training Acc 85.27 % AVG Validation Acc 85.06 %\n",
      "Epoch   113: reducing learning rate of group 0 to 1.0000e-06.\n",
      "Epoch:120/200 AVG Training Loss:0.385 AVG Validation Loss:0.418 AVG Training Acc 85.22 % AVG Validation Acc 85.06 %\n",
      "Epoch:130/200 AVG Training Loss:0.382 AVG Validation Loss:0.420 AVG Training Acc 85.24 % AVG Validation Acc 85.06 %\n",
      "Epoch:140/200 AVG Training Loss:0.383 AVG Validation Loss:0.420 AVG Training Acc 85.27 % AVG Validation Acc 85.06 %\n",
      "Epoch   144: reducing learning rate of group 0 to 1.0000e-07.\n",
      "Epoch:150/200 AVG Training Loss:0.383 AVG Validation Loss:0.419 AVG Training Acc 85.25 % AVG Validation Acc 85.06 %\n",
      "Epoch:160/200 AVG Training Loss:0.385 AVG Validation Loss:0.420 AVG Training Acc 85.25 % AVG Validation Acc 85.06 %\n",
      "Epoch:170/200 AVG Training Loss:0.384 AVG Validation Loss:0.419 AVG Training Acc 85.21 % AVG Validation Acc 85.06 %\n",
      "Epoch   175: reducing learning rate of group 0 to 1.0000e-08.\n",
      "Epoch:180/200 AVG Training Loss:0.383 AVG Validation Loss:0.419 AVG Training Acc 85.36 % AVG Validation Acc 85.06 %\n",
      "Epoch:190/200 AVG Training Loss:0.385 AVG Validation Loss:0.419 AVG Training Acc 85.22 % AVG Validation Acc 85.06 %\n",
      "Epoch:200/200 AVG Training Loss:0.383 AVG Validation Loss:0.421 AVG Training Acc 85.28 % AVG Validation Acc 85.06 %\n",
      "Split 9\n"
     ]
    },
    {
     "data": {
      "application/vnd.jupyter.widget-view+json": {
       "model_id": "e2352fe5e36b42a89cbb1264a4205248",
       "version_major": 2,
       "version_minor": 0
      },
      "text/plain": [
       "  0%|          | 0/200 [00:00<?, ?it/s]"
      ]
     },
     "metadata": {},
     "output_type": "display_data"
    },
    {
     "name": "stdout",
     "output_type": "stream",
     "text": [
      "Epoch:10/200 AVG Training Loss:0.415 AVG Validation Loss:0.407 AVG Training Acc 84.97 % AVG Validation Acc 85.06 %\n",
      "Epoch:20/200 AVG Training Loss:0.409 AVG Validation Loss:0.401 AVG Training Acc 85.03 % AVG Validation Acc 85.06 %\n",
      "Epoch:30/200 AVG Training Loss:0.404 AVG Validation Loss:0.403 AVG Training Acc 85.09 % AVG Validation Acc 85.06 %\n",
      "Epoch    39: reducing learning rate of group 0 to 1.0000e-03.\n",
      "Epoch:40/200 AVG Training Loss:0.397 AVG Validation Loss:0.407 AVG Training Acc 85.06 % AVG Validation Acc 84.93 %\n",
      "Epoch:50/200 AVG Training Loss:0.389 AVG Validation Loss:0.419 AVG Training Acc 85.15 % AVG Validation Acc 84.52 %\n",
      "Epoch:60/200 AVG Training Loss:0.384 AVG Validation Loss:0.423 AVG Training Acc 85.22 % AVG Validation Acc 84.66 %\n",
      "Epoch:70/200 AVG Training Loss:0.380 AVG Validation Loss:0.427 AVG Training Acc 85.48 % AVG Validation Acc 84.66 %\n",
      "Epoch    70: reducing learning rate of group 0 to 1.0000e-04.\n",
      "Epoch:80/200 AVG Training Loss:0.379 AVG Validation Loss:0.429 AVG Training Acc 85.33 % AVG Validation Acc 84.52 %\n",
      "Epoch:90/200 AVG Training Loss:0.378 AVG Validation Loss:0.430 AVG Training Acc 85.34 % AVG Validation Acc 84.52 %\n",
      "Epoch:100/200 AVG Training Loss:0.377 AVG Validation Loss:0.433 AVG Training Acc 85.64 % AVG Validation Acc 84.39 %\n",
      "Epoch   101: reducing learning rate of group 0 to 1.0000e-05.\n",
      "Epoch:110/200 AVG Training Loss:0.377 AVG Validation Loss:0.430 AVG Training Acc 85.30 % AVG Validation Acc 84.52 %\n",
      "Epoch:120/200 AVG Training Loss:0.377 AVG Validation Loss:0.431 AVG Training Acc 85.55 % AVG Validation Acc 84.25 %\n",
      "Epoch:130/200 AVG Training Loss:0.376 AVG Validation Loss:0.432 AVG Training Acc 85.49 % AVG Validation Acc 84.39 %\n",
      "Epoch   132: reducing learning rate of group 0 to 1.0000e-06.\n",
      "Epoch:140/200 AVG Training Loss:0.377 AVG Validation Loss:0.431 AVG Training Acc 85.52 % AVG Validation Acc 84.66 %\n",
      "Epoch:150/200 AVG Training Loss:0.377 AVG Validation Loss:0.431 AVG Training Acc 85.37 % AVG Validation Acc 84.52 %\n",
      "Epoch:160/200 AVG Training Loss:0.376 AVG Validation Loss:0.430 AVG Training Acc 85.48 % AVG Validation Acc 84.39 %\n",
      "Epoch   163: reducing learning rate of group 0 to 1.0000e-07.\n",
      "Epoch:170/200 AVG Training Loss:0.377 AVG Validation Loss:0.432 AVG Training Acc 85.43 % AVG Validation Acc 84.39 %\n",
      "Epoch:180/200 AVG Training Loss:0.376 AVG Validation Loss:0.431 AVG Training Acc 85.46 % AVG Validation Acc 84.66 %\n",
      "Epoch:190/200 AVG Training Loss:0.377 AVG Validation Loss:0.431 AVG Training Acc 85.37 % AVG Validation Acc 84.52 %\n",
      "Epoch   194: reducing learning rate of group 0 to 1.0000e-08.\n",
      "Epoch:200/200 AVG Training Loss:0.376 AVG Validation Loss:0.432 AVG Training Acc 85.37 % AVG Validation Acc 84.52 %\n",
      "Split 10\n"
     ]
    },
    {
     "data": {
      "application/vnd.jupyter.widget-view+json": {
       "model_id": "710ead844a42463e95b5a8fa861574b4",
       "version_major": 2,
       "version_minor": 0
      },
      "text/plain": [
       "  0%|          | 0/200 [00:00<?, ?it/s]"
      ]
     },
     "metadata": {},
     "output_type": "display_data"
    },
    {
     "name": "stdout",
     "output_type": "stream",
     "text": [
      "Epoch:10/200 AVG Training Loss:0.414 AVG Validation Loss:0.415 AVG Training Acc 84.97 % AVG Validation Acc 85.06 %\n",
      "Epoch:20/200 AVG Training Loss:0.408 AVG Validation Loss:0.419 AVG Training Acc 85.00 % AVG Validation Acc 85.06 %\n",
      "Epoch:30/200 AVG Training Loss:0.404 AVG Validation Loss:0.433 AVG Training Acc 85.04 % AVG Validation Acc 84.93 %\n",
      "Epoch    33: reducing learning rate of group 0 to 1.0000e-03.\n",
      "Epoch:40/200 AVG Training Loss:0.403 AVG Validation Loss:0.419 AVG Training Acc 85.06 % AVG Validation Acc 85.06 %\n",
      "Epoch:50/200 AVG Training Loss:0.399 AVG Validation Loss:0.420 AVG Training Acc 85.12 % AVG Validation Acc 84.93 %\n",
      "Epoch:60/200 AVG Training Loss:0.397 AVG Validation Loss:0.419 AVG Training Acc 85.19 % AVG Validation Acc 84.93 %\n",
      "Epoch    64: reducing learning rate of group 0 to 1.0000e-04.\n",
      "Epoch:70/200 AVG Training Loss:0.394 AVG Validation Loss:0.423 AVG Training Acc 85.24 % AVG Validation Acc 84.66 %\n",
      "Epoch:80/200 AVG Training Loss:0.392 AVG Validation Loss:0.425 AVG Training Acc 85.18 % AVG Validation Acc 84.66 %\n",
      "Epoch:90/200 AVG Training Loss:0.391 AVG Validation Loss:0.425 AVG Training Acc 85.21 % AVG Validation Acc 84.66 %\n",
      "Epoch    95: reducing learning rate of group 0 to 1.0000e-05.\n",
      "Epoch:100/200 AVG Training Loss:0.388 AVG Validation Loss:0.425 AVG Training Acc 85.28 % AVG Validation Acc 84.66 %\n",
      "Epoch:110/200 AVG Training Loss:0.392 AVG Validation Loss:0.425 AVG Training Acc 85.30 % AVG Validation Acc 84.66 %\n",
      "Epoch:120/200 AVG Training Loss:0.389 AVG Validation Loss:0.427 AVG Training Acc 85.34 % AVG Validation Acc 84.66 %\n",
      "Epoch   126: reducing learning rate of group 0 to 1.0000e-06.\n",
      "Epoch:130/200 AVG Training Loss:0.392 AVG Validation Loss:0.426 AVG Training Acc 85.33 % AVG Validation Acc 84.66 %\n",
      "Epoch:140/200 AVG Training Loss:0.388 AVG Validation Loss:0.429 AVG Training Acc 85.30 % AVG Validation Acc 84.66 %\n",
      "Epoch:150/200 AVG Training Loss:0.390 AVG Validation Loss:0.424 AVG Training Acc 85.27 % AVG Validation Acc 84.66 %\n",
      "Epoch   157: reducing learning rate of group 0 to 1.0000e-07.\n",
      "Epoch:160/200 AVG Training Loss:0.390 AVG Validation Loss:0.423 AVG Training Acc 85.28 % AVG Validation Acc 84.66 %\n",
      "Epoch:170/200 AVG Training Loss:0.391 AVG Validation Loss:0.427 AVG Training Acc 85.33 % AVG Validation Acc 84.66 %\n",
      "Epoch:180/200 AVG Training Loss:0.390 AVG Validation Loss:0.426 AVG Training Acc 85.30 % AVG Validation Acc 84.66 %\n",
      "Epoch   188: reducing learning rate of group 0 to 1.0000e-08.\n",
      "Epoch:190/200 AVG Training Loss:0.392 AVG Validation Loss:0.424 AVG Training Acc 85.34 % AVG Validation Acc 84.66 %\n",
      "Epoch:200/200 AVG Training Loss:0.391 AVG Validation Loss:0.427 AVG Training Acc 85.28 % AVG Validation Acc 84.66 %\n",
      "exam_gifted\n"
     ]
    },
    {
     "data": {
      "application/vnd.jupyter.widget-view+json": {
       "model_id": "b44aa8df0204496eb56f9d35583f8985",
       "version_major": 2,
       "version_minor": 0
      },
      "text/plain": [
       "0it [00:00, ?it/s]"
      ]
     },
     "metadata": {},
     "output_type": "display_data"
    },
    {
     "name": "stdout",
     "output_type": "stream",
     "text": [
      "Split 1\n"
     ]
    },
    {
     "data": {
      "application/vnd.jupyter.widget-view+json": {
       "model_id": "e314949f535c4617b687b03e21422e6d",
       "version_major": 2,
       "version_minor": 0
      },
      "text/plain": [
       "  0%|          | 0/200 [00:00<?, ?it/s]"
      ]
     },
     "metadata": {},
     "output_type": "display_data"
    },
    {
     "name": "stdout",
     "output_type": "stream",
     "text": [
      "New Best Accuracy found: 72.31%\n",
      "Epoch: 1\n",
      "Epoch:10/200 AVG Training Loss:0.590 AVG Validation Loss:0.591 AVG Training Acc 72.31 % AVG Validation Acc 72.31 %\n",
      "Epoch:20/200 AVG Training Loss:0.590 AVG Validation Loss:0.591 AVG Training Acc 72.31 % AVG Validation Acc 72.31 %\n",
      "Epoch:30/200 AVG Training Loss:0.590 AVG Validation Loss:0.591 AVG Training Acc 72.30 % AVG Validation Acc 72.31 %\n",
      "Epoch:40/200 AVG Training Loss:0.589 AVG Validation Loss:0.594 AVG Training Acc 72.30 % AVG Validation Acc 72.18 %\n",
      "Epoch    40: reducing learning rate of group 0 to 1.0000e-03.\n",
      "Epoch:50/200 AVG Training Loss:0.588 AVG Validation Loss:0.594 AVG Training Acc 72.37 % AVG Validation Acc 72.18 %\n",
      "Epoch:60/200 AVG Training Loss:0.588 AVG Validation Loss:0.594 AVG Training Acc 72.37 % AVG Validation Acc 72.18 %\n",
      "Epoch:70/200 AVG Training Loss:0.586 AVG Validation Loss:0.589 AVG Training Acc 72.37 % AVG Validation Acc 72.18 %\n",
      "Epoch:80/200 AVG Training Loss:0.588 AVG Validation Loss:0.590 AVG Training Acc 72.40 % AVG Validation Acc 72.18 %\n",
      "Epoch    83: reducing learning rate of group 0 to 1.0000e-04.\n",
      "Epoch:90/200 AVG Training Loss:0.586 AVG Validation Loss:0.589 AVG Training Acc 72.38 % AVG Validation Acc 72.18 %\n",
      "Epoch:100/200 AVG Training Loss:0.585 AVG Validation Loss:0.590 AVG Training Acc 72.40 % AVG Validation Acc 72.18 %\n",
      "Epoch:110/200 AVG Training Loss:0.584 AVG Validation Loss:0.591 AVG Training Acc 72.44 % AVG Validation Acc 72.18 %\n",
      "Epoch   114: reducing learning rate of group 0 to 1.0000e-05.\n",
      "Epoch:120/200 AVG Training Loss:0.584 AVG Validation Loss:0.591 AVG Training Acc 72.46 % AVG Validation Acc 72.18 %\n",
      "Epoch:130/200 AVG Training Loss:0.584 AVG Validation Loss:0.592 AVG Training Acc 72.44 % AVG Validation Acc 72.18 %\n",
      "Epoch:140/200 AVG Training Loss:0.582 AVG Validation Loss:0.591 AVG Training Acc 72.43 % AVG Validation Acc 72.18 %\n",
      "Epoch   145: reducing learning rate of group 0 to 1.0000e-06.\n",
      "Epoch:150/200 AVG Training Loss:0.585 AVG Validation Loss:0.592 AVG Training Acc 72.49 % AVG Validation Acc 72.18 %\n",
      "Epoch:160/200 AVG Training Loss:0.584 AVG Validation Loss:0.591 AVG Training Acc 72.46 % AVG Validation Acc 72.18 %\n",
      "Epoch:170/200 AVG Training Loss:0.584 AVG Validation Loss:0.591 AVG Training Acc 72.44 % AVG Validation Acc 72.18 %\n",
      "Epoch   176: reducing learning rate of group 0 to 1.0000e-07.\n",
      "Epoch:180/200 AVG Training Loss:0.586 AVG Validation Loss:0.591 AVG Training Acc 72.44 % AVG Validation Acc 72.18 %\n",
      "Epoch:190/200 AVG Training Loss:0.584 AVG Validation Loss:0.591 AVG Training Acc 72.44 % AVG Validation Acc 72.18 %\n",
      "Epoch:200/200 AVG Training Loss:0.583 AVG Validation Loss:0.592 AVG Training Acc 72.46 % AVG Validation Acc 72.18 %\n",
      "Split 2\n"
     ]
    },
    {
     "data": {
      "application/vnd.jupyter.widget-view+json": {
       "model_id": "ca38f7d96fa241aa89a4eda6b4c1a4ca",
       "version_major": 2,
       "version_minor": 0
      },
      "text/plain": [
       "  0%|          | 0/200 [00:00<?, ?it/s]"
      ]
     },
     "metadata": {},
     "output_type": "display_data"
    },
    {
     "name": "stdout",
     "output_type": "stream",
     "text": [
      "Epoch:10/200 AVG Training Loss:0.591 AVG Validation Loss:0.590 AVG Training Acc 72.31 % AVG Validation Acc 72.31 %\n",
      "Epoch    17: reducing learning rate of group 0 to 1.0000e-03.\n",
      "Epoch:20/200 AVG Training Loss:0.590 AVG Validation Loss:0.590 AVG Training Acc 72.31 % AVG Validation Acc 72.31 %\n",
      "Epoch:30/200 AVG Training Loss:0.587 AVG Validation Loss:0.588 AVG Training Acc 72.31 % AVG Validation Acc 72.31 %\n",
      "Epoch:40/200 AVG Training Loss:0.586 AVG Validation Loss:0.589 AVG Training Acc 72.31 % AVG Validation Acc 72.31 %\n",
      "Epoch    48: reducing learning rate of group 0 to 1.0000e-04.\n",
      "Epoch:50/200 AVG Training Loss:0.584 AVG Validation Loss:0.592 AVG Training Acc 72.36 % AVG Validation Acc 72.04 %\n",
      "Epoch:60/200 AVG Training Loss:0.584 AVG Validation Loss:0.593 AVG Training Acc 72.41 % AVG Validation Acc 72.04 %\n",
      "Epoch:70/200 AVG Training Loss:0.583 AVG Validation Loss:0.593 AVG Training Acc 72.40 % AVG Validation Acc 72.04 %\n",
      "Epoch    79: reducing learning rate of group 0 to 1.0000e-05.\n",
      "Epoch:80/200 AVG Training Loss:0.583 AVG Validation Loss:0.593 AVG Training Acc 72.38 % AVG Validation Acc 72.18 %\n",
      "Epoch:90/200 AVG Training Loss:0.583 AVG Validation Loss:0.594 AVG Training Acc 72.41 % AVG Validation Acc 72.18 %\n",
      "Epoch:100/200 AVG Training Loss:0.582 AVG Validation Loss:0.593 AVG Training Acc 72.43 % AVG Validation Acc 72.18 %\n",
      "Epoch:110/200 AVG Training Loss:0.583 AVG Validation Loss:0.594 AVG Training Acc 72.40 % AVG Validation Acc 72.18 %\n",
      "Epoch   110: reducing learning rate of group 0 to 1.0000e-06.\n",
      "Epoch:120/200 AVG Training Loss:0.584 AVG Validation Loss:0.593 AVG Training Acc 72.43 % AVG Validation Acc 72.18 %\n",
      "Epoch:130/200 AVG Training Loss:0.582 AVG Validation Loss:0.593 AVG Training Acc 72.46 % AVG Validation Acc 72.18 %\n",
      "Epoch:140/200 AVG Training Loss:0.584 AVG Validation Loss:0.593 AVG Training Acc 72.37 % AVG Validation Acc 72.18 %\n",
      "Epoch   141: reducing learning rate of group 0 to 1.0000e-07.\n",
      "Epoch:150/200 AVG Training Loss:0.583 AVG Validation Loss:0.593 AVG Training Acc 72.40 % AVG Validation Acc 72.18 %\n",
      "Epoch:160/200 AVG Training Loss:0.583 AVG Validation Loss:0.594 AVG Training Acc 72.31 % AVG Validation Acc 72.18 %\n",
      "Epoch:170/200 AVG Training Loss:0.583 AVG Validation Loss:0.594 AVG Training Acc 72.38 % AVG Validation Acc 72.18 %\n",
      "Epoch   172: reducing learning rate of group 0 to 1.0000e-08.\n",
      "Epoch:180/200 AVG Training Loss:0.582 AVG Validation Loss:0.593 AVG Training Acc 72.40 % AVG Validation Acc 72.18 %\n",
      "Epoch:190/200 AVG Training Loss:0.584 AVG Validation Loss:0.593 AVG Training Acc 72.31 % AVG Validation Acc 72.18 %\n",
      "Epoch:200/200 AVG Training Loss:0.583 AVG Validation Loss:0.593 AVG Training Acc 72.40 % AVG Validation Acc 72.18 %\n",
      "Split 3\n"
     ]
    },
    {
     "data": {
      "application/vnd.jupyter.widget-view+json": {
       "model_id": "b0273202aac340b8a9f9741db0a67ae5",
       "version_major": 2,
       "version_minor": 0
      },
      "text/plain": [
       "  0%|          | 0/200 [00:00<?, ?it/s]"
      ]
     },
     "metadata": {},
     "output_type": "display_data"
    },
    {
     "name": "stdout",
     "output_type": "stream",
     "text": [
      "Epoch:10/200 AVG Training Loss:0.591 AVG Validation Loss:0.590 AVG Training Acc 72.31 % AVG Validation Acc 72.31 %\n",
      "Epoch:20/200 AVG Training Loss:0.590 AVG Validation Loss:0.590 AVG Training Acc 72.31 % AVG Validation Acc 72.31 %\n",
      "Epoch:30/200 AVG Training Loss:0.590 AVG Validation Loss:0.590 AVG Training Acc 72.31 % AVG Validation Acc 72.31 %\n",
      "Epoch    33: reducing learning rate of group 0 to 1.0000e-03.\n",
      "Epoch:40/200 AVG Training Loss:0.589 AVG Validation Loss:0.589 AVG Training Acc 72.31 % AVG Validation Acc 72.31 %\n",
      "Epoch:50/200 AVG Training Loss:0.589 AVG Validation Loss:0.588 AVG Training Acc 72.34 % AVG Validation Acc 72.31 %\n",
      "Epoch:60/200 AVG Training Loss:0.589 AVG Validation Loss:0.587 AVG Training Acc 72.33 % AVG Validation Acc 72.31 %\n",
      "Epoch:70/200 AVG Training Loss:0.587 AVG Validation Loss:0.586 AVG Training Acc 72.33 % AVG Validation Acc 72.31 %\n",
      "Epoch    78: reducing learning rate of group 0 to 1.0000e-04.\n",
      "Epoch:80/200 AVG Training Loss:0.585 AVG Validation Loss:0.588 AVG Training Acc 72.34 % AVG Validation Acc 72.31 %\n",
      "Epoch:90/200 AVG Training Loss:0.584 AVG Validation Loss:0.588 AVG Training Acc 72.34 % AVG Validation Acc 72.31 %\n",
      "Epoch:100/200 AVG Training Loss:0.586 AVG Validation Loss:0.589 AVG Training Acc 72.34 % AVG Validation Acc 72.31 %\n",
      "Epoch   109: reducing learning rate of group 0 to 1.0000e-05.\n",
      "Epoch:110/200 AVG Training Loss:0.584 AVG Validation Loss:0.588 AVG Training Acc 72.38 % AVG Validation Acc 72.31 %\n",
      "Epoch:120/200 AVG Training Loss:0.585 AVG Validation Loss:0.588 AVG Training Acc 72.37 % AVG Validation Acc 72.31 %\n",
      "Epoch:130/200 AVG Training Loss:0.585 AVG Validation Loss:0.588 AVG Training Acc 72.38 % AVG Validation Acc 72.31 %\n",
      "Epoch:140/200 AVG Training Loss:0.585 AVG Validation Loss:0.588 AVG Training Acc 72.34 % AVG Validation Acc 72.31 %\n",
      "Epoch   140: reducing learning rate of group 0 to 1.0000e-06.\n",
      "Epoch:150/200 AVG Training Loss:0.585 AVG Validation Loss:0.587 AVG Training Acc 72.34 % AVG Validation Acc 72.31 %\n",
      "Epoch:160/200 AVG Training Loss:0.585 AVG Validation Loss:0.588 AVG Training Acc 72.36 % AVG Validation Acc 72.31 %\n",
      "Epoch:170/200 AVG Training Loss:0.586 AVG Validation Loss:0.589 AVG Training Acc 72.34 % AVG Validation Acc 72.31 %\n",
      "Epoch   171: reducing learning rate of group 0 to 1.0000e-07.\n",
      "Epoch:180/200 AVG Training Loss:0.584 AVG Validation Loss:0.588 AVG Training Acc 72.37 % AVG Validation Acc 72.31 %\n",
      "Epoch:190/200 AVG Training Loss:0.585 AVG Validation Loss:0.588 AVG Training Acc 72.36 % AVG Validation Acc 72.31 %\n",
      "Epoch:200/200 AVG Training Loss:0.585 AVG Validation Loss:0.588 AVG Training Acc 72.34 % AVG Validation Acc 72.31 %\n",
      "Split 4\n"
     ]
    },
    {
     "data": {
      "application/vnd.jupyter.widget-view+json": {
       "model_id": "b84546a007684857aa97fd532f725521",
       "version_major": 2,
       "version_minor": 0
      },
      "text/plain": [
       "  0%|          | 0/200 [00:00<?, ?it/s]"
      ]
     },
     "metadata": {},
     "output_type": "display_data"
    },
    {
     "name": "stdout",
     "output_type": "stream",
     "text": [
      "Epoch:10/200 AVG Training Loss:0.591 AVG Validation Loss:0.590 AVG Training Acc 72.31 % AVG Validation Acc 72.31 %\n",
      "Epoch:20/200 AVG Training Loss:0.590 AVG Validation Loss:0.590 AVG Training Acc 72.31 % AVG Validation Acc 72.31 %\n",
      "Epoch    21: reducing learning rate of group 0 to 1.0000e-03.\n",
      "Epoch:30/200 AVG Training Loss:0.590 AVG Validation Loss:0.590 AVG Training Acc 72.31 % AVG Validation Acc 72.31 %\n",
      "New Best Accuracy found: 72.45%\n",
      "Epoch: 38\n",
      "Epoch:40/200 AVG Training Loss:0.588 AVG Validation Loss:0.589 AVG Training Acc 72.30 % AVG Validation Acc 72.31 %\n",
      "Epoch:50/200 AVG Training Loss:0.586 AVG Validation Loss:0.589 AVG Training Acc 72.34 % AVG Validation Acc 72.18 %\n",
      "Epoch    57: reducing learning rate of group 0 to 1.0000e-04.\n",
      "Epoch:60/200 AVG Training Loss:0.584 AVG Validation Loss:0.592 AVG Training Acc 72.50 % AVG Validation Acc 72.04 %\n",
      "Epoch:70/200 AVG Training Loss:0.581 AVG Validation Loss:0.592 AVG Training Acc 72.59 % AVG Validation Acc 72.04 %\n",
      "Epoch:80/200 AVG Training Loss:0.581 AVG Validation Loss:0.592 AVG Training Acc 72.64 % AVG Validation Acc 72.04 %\n",
      "Epoch    88: reducing learning rate of group 0 to 1.0000e-05.\n",
      "Epoch:90/200 AVG Training Loss:0.580 AVG Validation Loss:0.592 AVG Training Acc 72.64 % AVG Validation Acc 71.91 %\n",
      "Epoch:100/200 AVG Training Loss:0.581 AVG Validation Loss:0.593 AVG Training Acc 72.58 % AVG Validation Acc 71.91 %\n",
      "Epoch:110/200 AVG Training Loss:0.581 AVG Validation Loss:0.592 AVG Training Acc 72.67 % AVG Validation Acc 71.91 %\n",
      "Epoch   119: reducing learning rate of group 0 to 1.0000e-06.\n",
      "Epoch:120/200 AVG Training Loss:0.580 AVG Validation Loss:0.592 AVG Training Acc 72.67 % AVG Validation Acc 71.91 %\n",
      "Epoch:130/200 AVG Training Loss:0.581 AVG Validation Loss:0.592 AVG Training Acc 72.70 % AVG Validation Acc 71.91 %\n",
      "Epoch:140/200 AVG Training Loss:0.580 AVG Validation Loss:0.592 AVG Training Acc 72.73 % AVG Validation Acc 71.91 %\n",
      "Epoch:150/200 AVG Training Loss:0.581 AVG Validation Loss:0.593 AVG Training Acc 72.59 % AVG Validation Acc 71.91 %\n",
      "Epoch   150: reducing learning rate of group 0 to 1.0000e-07.\n",
      "Epoch:160/200 AVG Training Loss:0.581 AVG Validation Loss:0.592 AVG Training Acc 72.59 % AVG Validation Acc 71.91 %\n",
      "Epoch:170/200 AVG Training Loss:0.581 AVG Validation Loss:0.592 AVG Training Acc 72.67 % AVG Validation Acc 71.91 %\n",
      "Epoch:180/200 AVG Training Loss:0.581 AVG Validation Loss:0.592 AVG Training Acc 72.59 % AVG Validation Acc 71.91 %\n",
      "Epoch   181: reducing learning rate of group 0 to 1.0000e-08.\n",
      "Epoch:190/200 AVG Training Loss:0.580 AVG Validation Loss:0.592 AVG Training Acc 72.67 % AVG Validation Acc 71.91 %\n",
      "Epoch:200/200 AVG Training Loss:0.581 AVG Validation Loss:0.592 AVG Training Acc 72.59 % AVG Validation Acc 71.91 %\n",
      "Split 5\n"
     ]
    },
    {
     "data": {
      "application/vnd.jupyter.widget-view+json": {
       "model_id": "4f54df2f7cb44232a9d8d099b11efd20",
       "version_major": 2,
       "version_minor": 0
      },
      "text/plain": [
       "  0%|          | 0/200 [00:00<?, ?it/s]"
      ]
     },
     "metadata": {},
     "output_type": "display_data"
    },
    {
     "name": "stdout",
     "output_type": "stream",
     "text": [
      "Epoch:10/200 AVG Training Loss:0.591 AVG Validation Loss:0.590 AVG Training Acc 72.31 % AVG Validation Acc 72.31 %\n",
      "Epoch:20/200 AVG Training Loss:0.590 AVG Validation Loss:0.590 AVG Training Acc 72.31 % AVG Validation Acc 72.31 %\n",
      "Epoch:30/200 AVG Training Loss:0.591 AVG Validation Loss:0.590 AVG Training Acc 72.28 % AVG Validation Acc 72.31 %\n",
      "Epoch    30: reducing learning rate of group 0 to 1.0000e-03.\n",
      "Epoch:40/200 AVG Training Loss:0.589 AVG Validation Loss:0.590 AVG Training Acc 72.31 % AVG Validation Acc 72.31 %\n",
      "Epoch:50/200 AVG Training Loss:0.588 AVG Validation Loss:0.589 AVG Training Acc 72.31 % AVG Validation Acc 72.31 %\n",
      "Epoch:60/200 AVG Training Loss:0.587 AVG Validation Loss:0.588 AVG Training Acc 72.34 % AVG Validation Acc 72.18 %\n",
      "Epoch    66: reducing learning rate of group 0 to 1.0000e-04.\n",
      "Epoch:70/200 AVG Training Loss:0.586 AVG Validation Loss:0.588 AVG Training Acc 72.36 % AVG Validation Acc 72.18 %\n",
      "Epoch:80/200 AVG Training Loss:0.585 AVG Validation Loss:0.589 AVG Training Acc 72.41 % AVG Validation Acc 72.18 %\n",
      "Epoch:90/200 AVG Training Loss:0.585 AVG Validation Loss:0.590 AVG Training Acc 72.40 % AVG Validation Acc 72.18 %\n",
      "Epoch    97: reducing learning rate of group 0 to 1.0000e-05.\n",
      "Epoch:100/200 AVG Training Loss:0.584 AVG Validation Loss:0.590 AVG Training Acc 72.36 % AVG Validation Acc 72.18 %\n",
      "Epoch:110/200 AVG Training Loss:0.584 AVG Validation Loss:0.590 AVG Training Acc 72.41 % AVG Validation Acc 72.18 %\n",
      "Epoch:120/200 AVG Training Loss:0.584 AVG Validation Loss:0.590 AVG Training Acc 72.40 % AVG Validation Acc 72.18 %\n",
      "Epoch   128: reducing learning rate of group 0 to 1.0000e-06.\n",
      "Epoch:130/200 AVG Training Loss:0.584 AVG Validation Loss:0.590 AVG Training Acc 72.40 % AVG Validation Acc 72.18 %\n",
      "Epoch:140/200 AVG Training Loss:0.584 AVG Validation Loss:0.589 AVG Training Acc 72.41 % AVG Validation Acc 72.18 %\n",
      "Epoch:150/200 AVG Training Loss:0.584 AVG Validation Loss:0.589 AVG Training Acc 72.41 % AVG Validation Acc 72.18 %\n",
      "Epoch   159: reducing learning rate of group 0 to 1.0000e-07.\n",
      "Epoch:160/200 AVG Training Loss:0.584 AVG Validation Loss:0.590 AVG Training Acc 72.44 % AVG Validation Acc 72.18 %\n",
      "Epoch:170/200 AVG Training Loss:0.584 AVG Validation Loss:0.590 AVG Training Acc 72.38 % AVG Validation Acc 72.18 %\n",
      "Epoch:180/200 AVG Training Loss:0.583 AVG Validation Loss:0.590 AVG Training Acc 72.46 % AVG Validation Acc 72.18 %\n",
      "Epoch:190/200 AVG Training Loss:0.584 AVG Validation Loss:0.590 AVG Training Acc 72.40 % AVG Validation Acc 72.18 %\n",
      "Epoch   190: reducing learning rate of group 0 to 1.0000e-08.\n",
      "Epoch:200/200 AVG Training Loss:0.584 AVG Validation Loss:0.590 AVG Training Acc 72.41 % AVG Validation Acc 72.18 %\n",
      "Split 6\n"
     ]
    },
    {
     "data": {
      "application/vnd.jupyter.widget-view+json": {
       "model_id": "50d3774d064e4752b6d0ea5cde24729f",
       "version_major": 2,
       "version_minor": 0
      },
      "text/plain": [
       "  0%|          | 0/200 [00:00<?, ?it/s]"
      ]
     },
     "metadata": {},
     "output_type": "display_data"
    },
    {
     "name": "stdout",
     "output_type": "stream",
     "text": [
      "Epoch:10/200 AVG Training Loss:0.590 AVG Validation Loss:0.591 AVG Training Acc 72.31 % AVG Validation Acc 72.31 %\n",
      "Epoch:20/200 AVG Training Loss:0.590 AVG Validation Loss:0.591 AVG Training Acc 72.31 % AVG Validation Acc 72.31 %\n",
      "Epoch:30/200 AVG Training Loss:0.590 AVG Validation Loss:0.591 AVG Training Acc 72.31 % AVG Validation Acc 72.31 %\n",
      "Epoch:40/200 AVG Training Loss:0.590 AVG Validation Loss:0.591 AVG Training Acc 72.31 % AVG Validation Acc 72.31 %\n",
      "Epoch    45: reducing learning rate of group 0 to 1.0000e-03.\n",
      "Epoch:50/200 AVG Training Loss:0.588 AVG Validation Loss:0.590 AVG Training Acc 72.33 % AVG Validation Acc 72.31 %\n",
      "Epoch:60/200 AVG Training Loss:0.586 AVG Validation Loss:0.589 AVG Training Acc 72.37 % AVG Validation Acc 72.18 %\n",
      "Epoch:70/200 AVG Training Loss:0.585 AVG Validation Loss:0.590 AVG Training Acc 72.30 % AVG Validation Acc 72.18 %\n",
      "Epoch    76: reducing learning rate of group 0 to 1.0000e-04.\n",
      "Epoch:80/200 AVG Training Loss:0.585 AVG Validation Loss:0.590 AVG Training Acc 72.44 % AVG Validation Acc 72.04 %\n",
      "Epoch:90/200 AVG Training Loss:0.584 AVG Validation Loss:0.591 AVG Training Acc 72.52 % AVG Validation Acc 72.04 %\n",
      "Epoch:100/200 AVG Training Loss:0.584 AVG Validation Loss:0.590 AVG Training Acc 72.55 % AVG Validation Acc 72.04 %\n",
      "Epoch   107: reducing learning rate of group 0 to 1.0000e-05.\n",
      "Epoch:110/200 AVG Training Loss:0.583 AVG Validation Loss:0.592 AVG Training Acc 72.61 % AVG Validation Acc 71.91 %\n",
      "Epoch:120/200 AVG Training Loss:0.584 AVG Validation Loss:0.591 AVG Training Acc 72.44 % AVG Validation Acc 72.04 %\n",
      "Epoch:130/200 AVG Training Loss:0.582 AVG Validation Loss:0.591 AVG Training Acc 72.56 % AVG Validation Acc 72.04 %\n",
      "Epoch   138: reducing learning rate of group 0 to 1.0000e-06.\n",
      "Epoch:140/200 AVG Training Loss:0.583 AVG Validation Loss:0.591 AVG Training Acc 72.46 % AVG Validation Acc 72.04 %\n",
      "Epoch:150/200 AVG Training Loss:0.583 AVG Validation Loss:0.591 AVG Training Acc 72.50 % AVG Validation Acc 71.91 %\n",
      "Epoch:160/200 AVG Training Loss:0.582 AVG Validation Loss:0.591 AVG Training Acc 72.67 % AVG Validation Acc 71.91 %\n",
      "Epoch   169: reducing learning rate of group 0 to 1.0000e-07.\n",
      "Epoch:170/200 AVG Training Loss:0.583 AVG Validation Loss:0.590 AVG Training Acc 72.53 % AVG Validation Acc 72.04 %\n",
      "Epoch:180/200 AVG Training Loss:0.583 AVG Validation Loss:0.591 AVG Training Acc 72.46 % AVG Validation Acc 72.04 %\n",
      "Epoch:190/200 AVG Training Loss:0.583 AVG Validation Loss:0.591 AVG Training Acc 72.44 % AVG Validation Acc 71.91 %\n",
      "Epoch:200/200 AVG Training Loss:0.583 AVG Validation Loss:0.591 AVG Training Acc 72.52 % AVG Validation Acc 72.04 %\n",
      "Epoch   200: reducing learning rate of group 0 to 1.0000e-08.\n",
      "Split 7\n"
     ]
    },
    {
     "data": {
      "application/vnd.jupyter.widget-view+json": {
       "model_id": "c4fcf79a2ee9487a8d77e4a9577bf2c0",
       "version_major": 2,
       "version_minor": 0
      },
      "text/plain": [
       "  0%|          | 0/200 [00:00<?, ?it/s]"
      ]
     },
     "metadata": {},
     "output_type": "display_data"
    },
    {
     "name": "stdout",
     "output_type": "stream",
     "text": [
      "Epoch:10/200 AVG Training Loss:0.590 AVG Validation Loss:0.589 AVG Training Acc 72.30 % AVG Validation Acc 72.41 %\n",
      "Epoch:20/200 AVG Training Loss:0.590 AVG Validation Loss:0.589 AVG Training Acc 72.30 % AVG Validation Acc 72.41 %\n",
      "Epoch    20: reducing learning rate of group 0 to 1.0000e-03.\n",
      "Epoch:30/200 AVG Training Loss:0.588 AVG Validation Loss:0.588 AVG Training Acc 72.30 % AVG Validation Acc 72.41 %\n",
      "Epoch:40/200 AVG Training Loss:0.586 AVG Validation Loss:0.588 AVG Training Acc 72.30 % AVG Validation Acc 72.41 %\n",
      "Epoch:50/200 AVG Training Loss:0.586 AVG Validation Loss:0.589 AVG Training Acc 72.30 % AVG Validation Acc 72.41 %\n",
      "Epoch    51: reducing learning rate of group 0 to 1.0000e-04.\n",
      "Epoch:60/200 AVG Training Loss:0.586 AVG Validation Loss:0.589 AVG Training Acc 72.30 % AVG Validation Acc 72.41 %\n",
      "Epoch:70/200 AVG Training Loss:0.585 AVG Validation Loss:0.589 AVG Training Acc 72.30 % AVG Validation Acc 72.41 %\n",
      "Epoch:80/200 AVG Training Loss:0.585 AVG Validation Loss:0.588 AVG Training Acc 72.30 % AVG Validation Acc 72.41 %\n",
      "Epoch    82: reducing learning rate of group 0 to 1.0000e-05.\n",
      "Epoch:90/200 AVG Training Loss:0.586 AVG Validation Loss:0.589 AVG Training Acc 72.30 % AVG Validation Acc 72.41 %\n",
      "Epoch:100/200 AVG Training Loss:0.585 AVG Validation Loss:0.589 AVG Training Acc 72.30 % AVG Validation Acc 72.41 %\n",
      "Epoch:110/200 AVG Training Loss:0.585 AVG Validation Loss:0.590 AVG Training Acc 72.30 % AVG Validation Acc 72.41 %\n",
      "Epoch   113: reducing learning rate of group 0 to 1.0000e-06.\n",
      "Epoch:120/200 AVG Training Loss:0.586 AVG Validation Loss:0.589 AVG Training Acc 72.30 % AVG Validation Acc 72.41 %\n",
      "Epoch:130/200 AVG Training Loss:0.585 AVG Validation Loss:0.589 AVG Training Acc 72.30 % AVG Validation Acc 72.41 %\n",
      "Epoch:140/200 AVG Training Loss:0.585 AVG Validation Loss:0.589 AVG Training Acc 72.30 % AVG Validation Acc 72.41 %\n",
      "Epoch   144: reducing learning rate of group 0 to 1.0000e-07.\n",
      "Epoch:150/200 AVG Training Loss:0.585 AVG Validation Loss:0.589 AVG Training Acc 72.30 % AVG Validation Acc 72.41 %\n",
      "Epoch:160/200 AVG Training Loss:0.586 AVG Validation Loss:0.589 AVG Training Acc 72.30 % AVG Validation Acc 72.41 %\n",
      "Epoch:170/200 AVG Training Loss:0.585 AVG Validation Loss:0.588 AVG Training Acc 72.30 % AVG Validation Acc 72.41 %\n",
      "Epoch   175: reducing learning rate of group 0 to 1.0000e-08.\n",
      "Epoch:180/200 AVG Training Loss:0.585 AVG Validation Loss:0.589 AVG Training Acc 72.30 % AVG Validation Acc 72.41 %\n",
      "Epoch:190/200 AVG Training Loss:0.585 AVG Validation Loss:0.589 AVG Training Acc 72.30 % AVG Validation Acc 72.41 %\n",
      "Epoch:200/200 AVG Training Loss:0.586 AVG Validation Loss:0.589 AVG Training Acc 72.30 % AVG Validation Acc 72.41 %\n",
      "Split 8\n"
     ]
    },
    {
     "data": {
      "application/vnd.jupyter.widget-view+json": {
       "model_id": "ddf818ef9275477bb79b45675b30b55e",
       "version_major": 2,
       "version_minor": 0
      },
      "text/plain": [
       "  0%|          | 0/200 [00:00<?, ?it/s]"
      ]
     },
     "metadata": {},
     "output_type": "display_data"
    },
    {
     "name": "stdout",
     "output_type": "stream",
     "text": [
      "Epoch:10/200 AVG Training Loss:0.590 AVG Validation Loss:0.591 AVG Training Acc 72.31 % AVG Validation Acc 72.27 %\n",
      "Epoch:20/200 AVG Training Loss:0.590 AVG Validation Loss:0.590 AVG Training Acc 72.31 % AVG Validation Acc 72.27 %\n",
      "Epoch:30/200 AVG Training Loss:0.590 AVG Validation Loss:0.591 AVG Training Acc 72.31 % AVG Validation Acc 72.27 %\n",
      "Epoch    31: reducing learning rate of group 0 to 1.0000e-03.\n",
      "Epoch:40/200 AVG Training Loss:0.588 AVG Validation Loss:0.591 AVG Training Acc 72.30 % AVG Validation Acc 72.14 %\n",
      "Epoch:50/200 AVG Training Loss:0.587 AVG Validation Loss:0.592 AVG Training Acc 72.31 % AVG Validation Acc 71.87 %\n",
      "Epoch:60/200 AVG Training Loss:0.586 AVG Validation Loss:0.594 AVG Training Acc 72.54 % AVG Validation Acc 72.14 %\n",
      "Epoch    62: reducing learning rate of group 0 to 1.0000e-04.\n",
      "Epoch:70/200 AVG Training Loss:0.586 AVG Validation Loss:0.595 AVG Training Acc 72.55 % AVG Validation Acc 72.14 %\n",
      "Epoch:80/200 AVG Training Loss:0.585 AVG Validation Loss:0.596 AVG Training Acc 72.60 % AVG Validation Acc 72.14 %\n",
      "Epoch:90/200 AVG Training Loss:0.585 AVG Validation Loss:0.596 AVG Training Acc 72.52 % AVG Validation Acc 72.14 %\n",
      "Epoch    93: reducing learning rate of group 0 to 1.0000e-05.\n",
      "Epoch:100/200 AVG Training Loss:0.586 AVG Validation Loss:0.596 AVG Training Acc 72.58 % AVG Validation Acc 72.14 %\n",
      "Epoch:110/200 AVG Training Loss:0.585 AVG Validation Loss:0.596 AVG Training Acc 72.67 % AVG Validation Acc 72.14 %\n",
      "Epoch:120/200 AVG Training Loss:0.585 AVG Validation Loss:0.596 AVG Training Acc 72.58 % AVG Validation Acc 72.14 %\n",
      "Epoch   124: reducing learning rate of group 0 to 1.0000e-06.\n",
      "Epoch:130/200 AVG Training Loss:0.585 AVG Validation Loss:0.596 AVG Training Acc 72.60 % AVG Validation Acc 72.14 %\n",
      "Epoch:140/200 AVG Training Loss:0.585 AVG Validation Loss:0.596 AVG Training Acc 72.57 % AVG Validation Acc 72.14 %\n",
      "Epoch:150/200 AVG Training Loss:0.586 AVG Validation Loss:0.596 AVG Training Acc 72.60 % AVG Validation Acc 72.14 %\n",
      "Epoch   155: reducing learning rate of group 0 to 1.0000e-07.\n",
      "Epoch:160/200 AVG Training Loss:0.585 AVG Validation Loss:0.596 AVG Training Acc 72.64 % AVG Validation Acc 72.14 %\n",
      "Epoch:170/200 AVG Training Loss:0.586 AVG Validation Loss:0.596 AVG Training Acc 72.61 % AVG Validation Acc 72.14 %\n",
      "Epoch:180/200 AVG Training Loss:0.585 AVG Validation Loss:0.596 AVG Training Acc 72.67 % AVG Validation Acc 72.14 %\n",
      "Epoch   186: reducing learning rate of group 0 to 1.0000e-08.\n",
      "Epoch:190/200 AVG Training Loss:0.585 AVG Validation Loss:0.596 AVG Training Acc 72.54 % AVG Validation Acc 72.14 %\n",
      "Epoch:200/200 AVG Training Loss:0.585 AVG Validation Loss:0.596 AVG Training Acc 72.60 % AVG Validation Acc 72.14 %\n",
      "Split 9\n"
     ]
    },
    {
     "data": {
      "application/vnd.jupyter.widget-view+json": {
       "model_id": "c9f1150f23294e6985f2df1a92742667",
       "version_major": 2,
       "version_minor": 0
      },
      "text/plain": [
       "  0%|          | 0/200 [00:00<?, ?it/s]"
      ]
     },
     "metadata": {},
     "output_type": "display_data"
    },
    {
     "name": "stdout",
     "output_type": "stream",
     "text": [
      "Epoch:10/200 AVG Training Loss:0.590 AVG Validation Loss:0.590 AVG Training Acc 72.31 % AVG Validation Acc 72.27 %\n",
      "Epoch    19: reducing learning rate of group 0 to 1.0000e-03.\n",
      "Epoch:20/200 AVG Training Loss:0.590 AVG Validation Loss:0.590 AVG Training Acc 72.31 % AVG Validation Acc 72.27 %\n",
      "Epoch:30/200 AVG Training Loss:0.590 AVG Validation Loss:0.590 AVG Training Acc 72.31 % AVG Validation Acc 72.27 %\n",
      "Epoch:40/200 AVG Training Loss:0.590 AVG Validation Loss:0.590 AVG Training Acc 72.31 % AVG Validation Acc 72.27 %\n",
      "Epoch:50/200 AVG Training Loss:0.588 AVG Validation Loss:0.591 AVG Training Acc 72.31 % AVG Validation Acc 72.27 %\n",
      "Epoch    58: reducing learning rate of group 0 to 1.0000e-04.\n",
      "Epoch:60/200 AVG Training Loss:0.586 AVG Validation Loss:0.590 AVG Training Acc 72.31 % AVG Validation Acc 72.27 %\n",
      "Epoch:70/200 AVG Training Loss:0.586 AVG Validation Loss:0.591 AVG Training Acc 72.31 % AVG Validation Acc 72.27 %\n",
      "Epoch:80/200 AVG Training Loss:0.586 AVG Validation Loss:0.591 AVG Training Acc 72.31 % AVG Validation Acc 72.27 %\n",
      "Epoch    89: reducing learning rate of group 0 to 1.0000e-05.\n",
      "Epoch:90/200 AVG Training Loss:0.586 AVG Validation Loss:0.591 AVG Training Acc 72.31 % AVG Validation Acc 72.27 %\n",
      "Epoch:100/200 AVG Training Loss:0.587 AVG Validation Loss:0.590 AVG Training Acc 72.31 % AVG Validation Acc 72.27 %\n",
      "Epoch:110/200 AVG Training Loss:0.585 AVG Validation Loss:0.591 AVG Training Acc 72.31 % AVG Validation Acc 72.27 %\n",
      "Epoch:120/200 AVG Training Loss:0.586 AVG Validation Loss:0.591 AVG Training Acc 72.31 % AVG Validation Acc 72.27 %\n",
      "Epoch   120: reducing learning rate of group 0 to 1.0000e-06.\n",
      "Epoch:130/200 AVG Training Loss:0.586 AVG Validation Loss:0.590 AVG Training Acc 72.31 % AVG Validation Acc 72.27 %\n",
      "Epoch:140/200 AVG Training Loss:0.586 AVG Validation Loss:0.591 AVG Training Acc 72.31 % AVG Validation Acc 72.27 %\n",
      "Epoch:150/200 AVG Training Loss:0.587 AVG Validation Loss:0.591 AVG Training Acc 72.31 % AVG Validation Acc 72.27 %\n",
      "Epoch   158: reducing learning rate of group 0 to 1.0000e-07.\n",
      "Epoch:160/200 AVG Training Loss:0.586 AVG Validation Loss:0.591 AVG Training Acc 72.31 % AVG Validation Acc 72.27 %\n",
      "Epoch:170/200 AVG Training Loss:0.586 AVG Validation Loss:0.591 AVG Training Acc 72.31 % AVG Validation Acc 72.27 %\n",
      "Epoch:180/200 AVG Training Loss:0.586 AVG Validation Loss:0.590 AVG Training Acc 72.31 % AVG Validation Acc 72.27 %\n",
      "Epoch   189: reducing learning rate of group 0 to 1.0000e-08.\n",
      "Epoch:190/200 AVG Training Loss:0.586 AVG Validation Loss:0.590 AVG Training Acc 72.31 % AVG Validation Acc 72.27 %\n",
      "Epoch:200/200 AVG Training Loss:0.586 AVG Validation Loss:0.590 AVG Training Acc 72.31 % AVG Validation Acc 72.27 %\n",
      "Split 10\n"
     ]
    },
    {
     "data": {
      "application/vnd.jupyter.widget-view+json": {
       "model_id": "ff7f0f27068d4fd78508382cf331e161",
       "version_major": 2,
       "version_minor": 0
      },
      "text/plain": [
       "  0%|          | 0/200 [00:00<?, ?it/s]"
      ]
     },
     "metadata": {},
     "output_type": "display_data"
    },
    {
     "name": "stdout",
     "output_type": "stream",
     "text": [
      "Epoch:10/200 AVG Training Loss:0.590 AVG Validation Loss:0.593 AVG Training Acc 72.31 % AVG Validation Acc 72.27 %\n",
      "Epoch:20/200 AVG Training Loss:0.590 AVG Validation Loss:0.591 AVG Training Acc 72.31 % AVG Validation Acc 72.27 %\n",
      "Epoch    20: reducing learning rate of group 0 to 1.0000e-03.\n",
      "Epoch:30/200 AVG Training Loss:0.590 AVG Validation Loss:0.591 AVG Training Acc 72.31 % AVG Validation Acc 72.27 %\n",
      "Epoch:40/200 AVG Training Loss:0.590 AVG Validation Loss:0.591 AVG Training Acc 72.31 % AVG Validation Acc 72.27 %\n",
      "Epoch:50/200 AVG Training Loss:0.589 AVG Validation Loss:0.591 AVG Training Acc 72.31 % AVG Validation Acc 72.27 %\n",
      "Epoch    51: reducing learning rate of group 0 to 1.0000e-04.\n",
      "Epoch:60/200 AVG Training Loss:0.588 AVG Validation Loss:0.591 AVG Training Acc 72.31 % AVG Validation Acc 72.27 %\n",
      "Epoch:70/200 AVG Training Loss:0.587 AVG Validation Loss:0.592 AVG Training Acc 72.31 % AVG Validation Acc 72.27 %\n",
      "Epoch:80/200 AVG Training Loss:0.586 AVG Validation Loss:0.593 AVG Training Acc 72.31 % AVG Validation Acc 72.27 %\n",
      "Epoch    82: reducing learning rate of group 0 to 1.0000e-05.\n",
      "Epoch:90/200 AVG Training Loss:0.586 AVG Validation Loss:0.593 AVG Training Acc 72.31 % AVG Validation Acc 72.27 %\n",
      "Epoch:100/200 AVG Training Loss:0.586 AVG Validation Loss:0.593 AVG Training Acc 72.33 % AVG Validation Acc 72.27 %\n",
      "Epoch:110/200 AVG Training Loss:0.585 AVG Validation Loss:0.593 AVG Training Acc 72.31 % AVG Validation Acc 72.27 %\n",
      "Epoch   113: reducing learning rate of group 0 to 1.0000e-06.\n",
      "Epoch:120/200 AVG Training Loss:0.586 AVG Validation Loss:0.592 AVG Training Acc 72.31 % AVG Validation Acc 72.27 %\n",
      "Epoch:130/200 AVG Training Loss:0.586 AVG Validation Loss:0.593 AVG Training Acc 72.33 % AVG Validation Acc 72.27 %\n",
      "Epoch:140/200 AVG Training Loss:0.585 AVG Validation Loss:0.593 AVG Training Acc 72.33 % AVG Validation Acc 72.27 %\n",
      "Epoch   144: reducing learning rate of group 0 to 1.0000e-07.\n",
      "Epoch:150/200 AVG Training Loss:0.585 AVG Validation Loss:0.593 AVG Training Acc 72.33 % AVG Validation Acc 72.27 %\n",
      "Epoch:160/200 AVG Training Loss:0.586 AVG Validation Loss:0.592 AVG Training Acc 72.31 % AVG Validation Acc 72.27 %\n",
      "Epoch:170/200 AVG Training Loss:0.586 AVG Validation Loss:0.593 AVG Training Acc 72.33 % AVG Validation Acc 72.27 %\n",
      "Epoch   175: reducing learning rate of group 0 to 1.0000e-08.\n",
      "Epoch:180/200 AVG Training Loss:0.585 AVG Validation Loss:0.592 AVG Training Acc 72.31 % AVG Validation Acc 72.27 %\n",
      "Epoch:190/200 AVG Training Loss:0.586 AVG Validation Loss:0.592 AVG Training Acc 72.31 % AVG Validation Acc 72.27 %\n",
      "Epoch:200/200 AVG Training Loss:0.586 AVG Validation Loss:0.593 AVG Training Acc 72.31 % AVG Validation Acc 72.27 %\n",
      "final_gifted\n"
     ]
    },
    {
     "data": {
      "application/vnd.jupyter.widget-view+json": {
       "model_id": "0988254e5ad248b996c96cd4f598ac36",
       "version_major": 2,
       "version_minor": 0
      },
      "text/plain": [
       "0it [00:00, ?it/s]"
      ]
     },
     "metadata": {},
     "output_type": "display_data"
    },
    {
     "name": "stdout",
     "output_type": "stream",
     "text": [
      "Split 1\n"
     ]
    },
    {
     "data": {
      "application/vnd.jupyter.widget-view+json": {
       "model_id": "fb0837fd884945db97ae505472a997c5",
       "version_major": 2,
       "version_minor": 0
      },
      "text/plain": [
       "  0%|          | 0/200 [00:00<?, ?it/s]"
      ]
     },
     "metadata": {},
     "output_type": "display_data"
    },
    {
     "name": "stdout",
     "output_type": "stream",
     "text": [
      "New Best Accuracy found: 69.22%\n",
      "Epoch: 1\n",
      "Epoch:10/200 AVG Training Loss:0.618 AVG Validation Loss:0.617 AVG Training Acc 69.19 % AVG Validation Acc 69.22 %\n",
      "Epoch    16: reducing learning rate of group 0 to 1.0000e-03.\n",
      "Epoch:20/200 AVG Training Loss:0.617 AVG Validation Loss:0.617 AVG Training Acc 69.19 % AVG Validation Acc 69.22 %\n",
      "Epoch:30/200 AVG Training Loss:0.617 AVG Validation Loss:0.618 AVG Training Acc 69.19 % AVG Validation Acc 69.22 %\n",
      "Epoch:40/200 AVG Training Loss:0.616 AVG Validation Loss:0.618 AVG Training Acc 69.16 % AVG Validation Acc 69.22 %\n",
      "Epoch    47: reducing learning rate of group 0 to 1.0000e-04.\n",
      "Epoch:50/200 AVG Training Loss:0.613 AVG Validation Loss:0.618 AVG Training Acc 69.25 % AVG Validation Acc 69.22 %\n",
      "Epoch:60/200 AVG Training Loss:0.614 AVG Validation Loss:0.618 AVG Training Acc 69.19 % AVG Validation Acc 69.22 %\n",
      "Epoch:70/200 AVG Training Loss:0.614 AVG Validation Loss:0.618 AVG Training Acc 69.28 % AVG Validation Acc 69.22 %\n",
      "Epoch    78: reducing learning rate of group 0 to 1.0000e-05.\n",
      "Epoch:80/200 AVG Training Loss:0.614 AVG Validation Loss:0.617 AVG Training Acc 69.41 % AVG Validation Acc 69.22 %\n",
      "Epoch:90/200 AVG Training Loss:0.613 AVG Validation Loss:0.618 AVG Training Acc 69.26 % AVG Validation Acc 69.22 %\n",
      "Epoch:100/200 AVG Training Loss:0.613 AVG Validation Loss:0.618 AVG Training Acc 69.28 % AVG Validation Acc 69.22 %\n",
      "Epoch   109: reducing learning rate of group 0 to 1.0000e-06.\n",
      "Epoch:110/200 AVG Training Loss:0.613 AVG Validation Loss:0.618 AVG Training Acc 69.20 % AVG Validation Acc 69.22 %\n",
      "Epoch:120/200 AVG Training Loss:0.613 AVG Validation Loss:0.618 AVG Training Acc 69.29 % AVG Validation Acc 69.22 %\n",
      "Epoch:130/200 AVG Training Loss:0.613 AVG Validation Loss:0.618 AVG Training Acc 69.31 % AVG Validation Acc 69.22 %\n",
      "Epoch:140/200 AVG Training Loss:0.613 AVG Validation Loss:0.618 AVG Training Acc 69.25 % AVG Validation Acc 69.22 %\n",
      "Epoch   140: reducing learning rate of group 0 to 1.0000e-07.\n",
      "Epoch:150/200 AVG Training Loss:0.613 AVG Validation Loss:0.618 AVG Training Acc 69.29 % AVG Validation Acc 69.22 %\n",
      "Epoch:160/200 AVG Training Loss:0.612 AVG Validation Loss:0.618 AVG Training Acc 69.35 % AVG Validation Acc 69.22 %\n",
      "Epoch:170/200 AVG Training Loss:0.613 AVG Validation Loss:0.618 AVG Training Acc 69.29 % AVG Validation Acc 69.22 %\n",
      "Epoch   171: reducing learning rate of group 0 to 1.0000e-08.\n",
      "Epoch:180/200 AVG Training Loss:0.613 AVG Validation Loss:0.618 AVG Training Acc 69.29 % AVG Validation Acc 69.22 %\n",
      "Epoch:190/200 AVG Training Loss:0.613 AVG Validation Loss:0.618 AVG Training Acc 69.23 % AVG Validation Acc 69.22 %\n",
      "Epoch:200/200 AVG Training Loss:0.613 AVG Validation Loss:0.618 AVG Training Acc 69.25 % AVG Validation Acc 69.22 %\n",
      "Split 2\n"
     ]
    },
    {
     "data": {
      "application/vnd.jupyter.widget-view+json": {
       "model_id": "ed5d06e2169740d3bef84db0c905b587",
       "version_major": 2,
       "version_minor": 0
      },
      "text/plain": [
       "  0%|          | 0/200 [00:00<?, ?it/s]"
      ]
     },
     "metadata": {},
     "output_type": "display_data"
    },
    {
     "name": "stdout",
     "output_type": "stream",
     "text": [
      "Epoch:10/200 AVG Training Loss:0.618 AVG Validation Loss:0.618 AVG Training Acc 69.19 % AVG Validation Acc 69.22 %\n",
      "Epoch    14: reducing learning rate of group 0 to 1.0000e-03.\n",
      "Epoch:20/200 AVG Training Loss:0.617 AVG Validation Loss:0.618 AVG Training Acc 69.19 % AVG Validation Acc 69.22 %\n",
      "Epoch:30/200 AVG Training Loss:0.617 AVG Validation Loss:0.619 AVG Training Acc 69.17 % AVG Validation Acc 69.22 %\n",
      "Epoch:40/200 AVG Training Loss:0.616 AVG Validation Loss:0.619 AVG Training Acc 69.25 % AVG Validation Acc 69.22 %\n",
      "Epoch    45: reducing learning rate of group 0 to 1.0000e-04.\n",
      "Epoch:50/200 AVG Training Loss:0.613 AVG Validation Loss:0.622 AVG Training Acc 69.37 % AVG Validation Acc 69.09 %\n",
      "Epoch:60/200 AVG Training Loss:0.613 AVG Validation Loss:0.622 AVG Training Acc 69.40 % AVG Validation Acc 69.22 %\n",
      "Epoch:70/200 AVG Training Loss:0.612 AVG Validation Loss:0.622 AVG Training Acc 69.41 % AVG Validation Acc 69.22 %\n",
      "Epoch    76: reducing learning rate of group 0 to 1.0000e-05.\n",
      "Epoch:80/200 AVG Training Loss:0.613 AVG Validation Loss:0.622 AVG Training Acc 69.38 % AVG Validation Acc 69.22 %\n",
      "Epoch:90/200 AVG Training Loss:0.612 AVG Validation Loss:0.623 AVG Training Acc 69.37 % AVG Validation Acc 69.22 %\n",
      "Epoch:100/200 AVG Training Loss:0.612 AVG Validation Loss:0.623 AVG Training Acc 69.44 % AVG Validation Acc 69.22 %\n",
      "Epoch   107: reducing learning rate of group 0 to 1.0000e-06.\n",
      "Epoch:110/200 AVG Training Loss:0.612 AVG Validation Loss:0.622 AVG Training Acc 69.55 % AVG Validation Acc 69.22 %\n",
      "Epoch:120/200 AVG Training Loss:0.612 AVG Validation Loss:0.622 AVG Training Acc 69.43 % AVG Validation Acc 69.22 %\n",
      "Epoch:130/200 AVG Training Loss:0.612 AVG Validation Loss:0.623 AVG Training Acc 69.38 % AVG Validation Acc 69.22 %\n",
      "Epoch   138: reducing learning rate of group 0 to 1.0000e-07.\n",
      "Epoch:140/200 AVG Training Loss:0.612 AVG Validation Loss:0.622 AVG Training Acc 69.38 % AVG Validation Acc 69.22 %\n",
      "Epoch:150/200 AVG Training Loss:0.612 AVG Validation Loss:0.623 AVG Training Acc 69.44 % AVG Validation Acc 69.22 %\n",
      "Epoch:160/200 AVG Training Loss:0.612 AVG Validation Loss:0.622 AVG Training Acc 69.44 % AVG Validation Acc 69.22 %\n",
      "Epoch   169: reducing learning rate of group 0 to 1.0000e-08.\n",
      "Epoch:170/200 AVG Training Loss:0.612 AVG Validation Loss:0.623 AVG Training Acc 69.44 % AVG Validation Acc 69.22 %\n",
      "Epoch:180/200 AVG Training Loss:0.612 AVG Validation Loss:0.623 AVG Training Acc 69.40 % AVG Validation Acc 69.22 %\n",
      "Epoch:190/200 AVG Training Loss:0.613 AVG Validation Loss:0.622 AVG Training Acc 69.47 % AVG Validation Acc 69.22 %\n",
      "Epoch:200/200 AVG Training Loss:0.612 AVG Validation Loss:0.623 AVG Training Acc 69.40 % AVG Validation Acc 69.22 %\n",
      "Split 3\n"
     ]
    },
    {
     "data": {
      "application/vnd.jupyter.widget-view+json": {
       "model_id": "fd82c5d8413b43a08b405c79b2c46490",
       "version_major": 2,
       "version_minor": 0
      },
      "text/plain": [
       "  0%|          | 0/200 [00:00<?, ?it/s]"
      ]
     },
     "metadata": {},
     "output_type": "display_data"
    },
    {
     "name": "stdout",
     "output_type": "stream",
     "text": [
      "Epoch:10/200 AVG Training Loss:0.618 AVG Validation Loss:0.618 AVG Training Acc 69.17 % AVG Validation Acc 69.22 %\n",
      "Epoch:20/200 AVG Training Loss:0.618 AVG Validation Loss:0.617 AVG Training Acc 69.19 % AVG Validation Acc 69.22 %\n",
      "Epoch    24: reducing learning rate of group 0 to 1.0000e-03.\n",
      "Epoch:30/200 AVG Training Loss:0.618 AVG Validation Loss:0.617 AVG Training Acc 69.19 % AVG Validation Acc 69.22 %\n",
      "Epoch:40/200 AVG Training Loss:0.617 AVG Validation Loss:0.617 AVG Training Acc 69.20 % AVG Validation Acc 69.22 %\n",
      "Epoch:50/200 AVG Training Loss:0.617 AVG Validation Loss:0.617 AVG Training Acc 69.20 % AVG Validation Acc 69.22 %\n",
      "Epoch:60/200 AVG Training Loss:0.617 AVG Validation Loss:0.616 AVG Training Acc 69.26 % AVG Validation Acc 69.35 %\n",
      "New Best Accuracy found: 69.35%\n",
      "Epoch: 60\n",
      "Epoch:70/200 AVG Training Loss:0.616 AVG Validation Loss:0.616 AVG Training Acc 69.31 % AVG Validation Acc 69.22 %\n",
      "Epoch:80/200 AVG Training Loss:0.617 AVG Validation Loss:0.616 AVG Training Acc 69.22 % AVG Validation Acc 69.22 %\n",
      "Epoch    87: reducing learning rate of group 0 to 1.0000e-04.\n",
      "Epoch:90/200 AVG Training Loss:0.616 AVG Validation Loss:0.615 AVG Training Acc 69.32 % AVG Validation Acc 69.35 %\n",
      "Epoch:100/200 AVG Training Loss:0.616 AVG Validation Loss:0.616 AVG Training Acc 69.31 % AVG Validation Acc 69.22 %\n",
      "Epoch:110/200 AVG Training Loss:0.616 AVG Validation Loss:0.615 AVG Training Acc 69.31 % AVG Validation Acc 69.35 %\n",
      "Epoch   118: reducing learning rate of group 0 to 1.0000e-05.\n",
      "Epoch:120/200 AVG Training Loss:0.615 AVG Validation Loss:0.615 AVG Training Acc 69.40 % AVG Validation Acc 69.35 %\n",
      "Epoch:130/200 AVG Training Loss:0.615 AVG Validation Loss:0.615 AVG Training Acc 69.34 % AVG Validation Acc 69.35 %\n",
      "Epoch:140/200 AVG Training Loss:0.615 AVG Validation Loss:0.615 AVG Training Acc 69.35 % AVG Validation Acc 69.35 %\n",
      "Epoch   149: reducing learning rate of group 0 to 1.0000e-06.\n",
      "Epoch:150/200 AVG Training Loss:0.615 AVG Validation Loss:0.615 AVG Training Acc 69.37 % AVG Validation Acc 69.35 %\n"
     ]
    }
   ],
   "source": [
    "for i in tqdm(course_programs.keys()):\n",
    "    \n",
    "    print(i)\n",
    "    threshold_dict = {} #dict to store information in for each threshold\n",
    "    data = deepcopy(course_programs[i])\n",
    "    \n",
    "    data.set_index(['course_encoding', 'userid'], drop = True, inplace = True)\n",
    "    data.fillna(0, inplace = True)\n",
    "    \n",
    "    #set X and Y columns\n",
    "    X = data[data.columns[:25]] #different timesteps\n",
    "    y = data[data.columns[-4:]] #the 4 different putative targets\n",
    "    \n",
    "    for k in tqdm(targets):\n",
    "        print(k)\n",
    "        \n",
    "        #Start with train test split\n",
    "        X_train_val, X_test, y_train_val, y_test, = train_test_split(\n",
    "                                    X,\n",
    "                                   y[k], #replace when going for multi-target \n",
    "                                   test_size = 0.20,\n",
    "                                   random_state = 15,\n",
    "                                   shuffle=True,\n",
    "                                   stratify = y[k] #replace when going for multi-target\n",
    "                                    )\n",
    "        \n",
    "        #create dict to store fold performance\n",
    "        foldperf={}\n",
    "        \n",
    "        #reset \"best accuracy for treshold i and target k\"\n",
    "        best_accuracy = 0\n",
    "\n",
    "        #make train_val split\n",
    "        for fold, (train_idx,val_idx) in tqdm(enumerate(splits.split(X_train_val, y_train_val))):\n",
    "\n",
    "            print('Split {}'.format(fold + 1))\n",
    "            \n",
    "            #make split between train and Val\n",
    "            X_train, y_train = X_train_val.iloc[train_idx], y_train_val.iloc[train_idx]\n",
    "            X_val, y_val = X_train_val.iloc[val_idx], y_train_val.iloc[val_idx]\n",
    "            \n",
    "            #apply scaling after \n",
    "            X_train, X_val = normalize(X_train, X_val, 'Standard')\n",
    "            \n",
    "            #second, convert everything to pytorch tensor - we will convert to tensor dataset and \n",
    "            X_train_tensors = Variable(torch.Tensor(X_train.values))\n",
    "            X_val_tensors = Variable(torch.Tensor(X_val.values))\n",
    "\n",
    "            y_train_tensors = Variable(torch.Tensor(y_train.values))\n",
    "            y_val_tensors = Variable(torch.Tensor(y_val.values)) \n",
    "\n",
    "            #reshaping to rows, timestamps, features \n",
    "            X_train_tensors = torch.reshape(X_train_tensors,   (X_train_tensors.shape[0], X_train_tensors.shape[1], 1))\n",
    "            X_val_tensors = torch.reshape(X_val_tensors,  (X_val_tensors.shape[0], X_val_tensors.shape[1], 1))\n",
    "        \n",
    "            #convert y tensors to format longtensor\n",
    "            y_train_tensors = y_train_tensors.type(torch.cuda.LongTensor)\n",
    "            y_val_tensors = y_val_tensors.type(torch.cuda.LongTensor)\n",
    "            \n",
    "            #create Tensor Datasets and dataloaders for both Train and Val\n",
    "            train_dataset = TensorDataset(X_train_tensors, y_train_tensors)\n",
    "            val_dataset = TensorDataset(X_val_tensors, y_val_tensors)\n",
    "            train_loader = DataLoader(train_dataset, batch_size=batch_size)\n",
    "            val_loader = DataLoader(val_dataset, batch_size=batch_size)\n",
    "    \n",
    "            #creates new model for each \n",
    "            model = LSTM_Uni(num_classes, input_size, hidden_size, num_layers, X_train_tensors.shape[1]).to('cuda') #our lstm class\n",
    "            optimizer = torch.optim.Adam(model.parameters(), lr=learning_rate) \n",
    "            scheduler = ReduceLROnPlateau(optimizer, \n",
    "                                  'min', \n",
    "                                  patience = 10,\n",
    "                                  cooldown = 20,\n",
    "                                 verbose = True)\n",
    "    \n",
    "            history = {'train_loss': [], 'val_loss': [],'train_acc':[],'val_acc':[], 'precision': [],\n",
    "                      'recall' : [], 'auroc': []}\n",
    "\n",
    "            for epoch in tqdm(range(num_epochs)):\n",
    "                train_loss, train_correct=train_epoch(model,train_loader,criterion,optimizer)\n",
    "                val_loss, val_correct, precision, recall, auroc = valid_epoch(model,val_loader,criterion)\n",
    "\n",
    "                train_loss = train_loss / len(train_loader.sampler)\n",
    "                train_acc = train_correct / len(train_loader.sampler) * 100\n",
    "                val_loss = val_loss / len(val_loader.sampler)\n",
    "                val_acc = val_correct / len(val_loader.sampler) * 100\n",
    "        \n",
    "        \n",
    "                if (epoch+1) % 10 == 0: \n",
    "                    print(\"Epoch:{}/{} AVG Training Loss:{:.3f} AVG Validation Loss:{:.3f} AVG Training Acc {:.2f} % AVG Validation Acc {:.2f} %\".format(epoch + 1,\n",
    "                                                                                                             num_epochs,\n",
    "                                                                                                             train_loss,\n",
    "                                                                                                             val_loss,\n",
    "                                                                                                             train_acc,\n",
    "                                                                                                             val_acc))\n",
    "                history['train_loss'].append(train_loss)\n",
    "                history['val_loss'].append(val_loss)\n",
    "                history['train_acc'].append(train_acc)\n",
    "                history['val_acc'].append(val_acc)\n",
    "                history['precision'].append(precision)\n",
    "                history['recall'].append(recall)\n",
    "                history['auroc'].append(auroc)\n",
    "                scheduler.step(val_loss)\n",
    "    \n",
    "                if val_acc > best_accuracy:\n",
    "            \n",
    "                #replace best accuracy and save best model\n",
    "                    print(f'New Best Accuracy found: {val_acc:.2f}%\\nEpoch: {epoch + 1}')\n",
    "                    best_accuracy = val_acc\n",
    "                    best = deepcopy(model)\n",
    "                    curr_epoch = epoch + 1\n",
    "                    \n",
    "            #store fold performance\n",
    "            foldperf['fold{}'.format(fold+1)] = history\n",
    "        \n",
    "        #saves fold performance for target \n",
    "        threshold_dict[k] = pd.DataFrame.from_dict(foldperf, orient='index') # convert dict to dataframe\n",
    "        \n",
    "        #explode to get eacxh epoch as a row\n",
    "        threshold_dict[k] = threshold_dict[k].explode(list(threshold_dict[k].columns))\n",
    "        torch.save(best,f\"../Models/{i}/Nova_IMS_relative_clicks_best_{k}_{curr_epoch}_epochs.h\")\n",
    "        \n",
    "    # from pandas.io.parsers import ExcelWriter\n",
    "    with pd.ExcelWriter(f\"../Data/Modeling Stage/Results/IMS/Clicks_duration_relative/25_splits_{i}_{replicas}_replicas.xlsx\") as writer:  \n",
    "        for sheet in targets:\n",
    "                threshold_dict[sheet].to_excel(writer, sheet_name=str(sheet))"
   ]
  }
 ],
 "metadata": {
  "kernelspec": {
   "display_name": "Python 3 (ipykernel)",
   "language": "python",
   "name": "python3"
  },
  "language_info": {
   "codemirror_mode": {
    "name": "ipython",
    "version": 3
   },
   "file_extension": ".py",
   "mimetype": "text/x-python",
   "name": "python",
   "nbconvert_exporter": "python",
   "pygments_lexer": "ipython3",
   "version": "3.8.11"
  }
 },
 "nbformat": 4,
 "nbformat_minor": 5
}
