{
 "cells": [
  {
   "cell_type": "markdown",
   "id": "84eda90e",
   "metadata": {},
   "source": [
    "### Thesis notebook 4.4. - R_Gonz\n",
    "\n",
    "#### LSTM - Temporal data representation\n",
    "\n",
    "In this notebook, we will finally start our application of temporal representation using LSTMs and bi-directional LSTMs.\n",
    "The argument for the usage of Deep Learning stems from the fact that sequences themselves encode information that can be extracted using Recurrent Neural Networks and, more specifically, Long Short Term Memory Units.\n",
    "\n",
    "#### First Step: Setup a PyTorch environment that enables the use of GPU for training. \n",
    "\n",
    "The following cell wll confirm that the GPU will be the default device to use."
   ]
  },
  {
   "cell_type": "code",
   "execution_count": 1,
   "id": "4f27844c",
   "metadata": {},
   "outputs": [],
   "source": [
    "import torch\n",
    "import pycuda.driver as cuda\n",
    "\n",
    "cuda.init()\n",
    "## Get Id of default device\n",
    "torch.cuda.current_device()\n",
    "# 0\n",
    "cuda.Device(0).name() # '0' is the id of your GPU\n",
    "\n",
    "#set all tensors to gpu\n",
    "torch.set_default_tensor_type('torch.cuda.FloatTensor')"
   ]
  },
  {
   "cell_type": "markdown",
   "id": "0d95429e",
   "metadata": {},
   "source": [
    "#### Second Step: Import the relevant packages and declare global variables"
   ]
  },
  {
   "cell_type": "code",
   "execution_count": 2,
   "id": "e6c2d97f",
   "metadata": {},
   "outputs": [],
   "source": [
    "#import necessary modules/libraries\n",
    "import numpy as np\n",
    "import scipy\n",
    "import pandas as pd\n",
    "import datetime as dt\n",
    "import warnings\n",
    "import time\n",
    "\n",
    "#tqdm to monitor progress\n",
    "from tqdm.notebook import tqdm, trange\n",
    "tqdm.pandas(desc=\"Progress\")\n",
    "\n",
    "#time related features\n",
    "from datetime import timedelta\n",
    "from copy import copy, deepcopy\n",
    "\n",
    "#vizualization\n",
    "import matplotlib.pyplot as plt\n",
    "import seaborn as sns\n",
    "\n",
    "#imblearn, scalers, kfold and metrics\n",
    "from imblearn.over_sampling import SMOTE\n",
    "from sklearn.preprocessing import MinMaxScaler, StandardScaler, RobustScaler, QuantileTransformer,PowerTransformer\n",
    "from sklearn.model_selection import train_test_split, RepeatedKFold, RepeatedStratifiedKFold, cross_val_score, GridSearchCV\n",
    "from sklearn.metrics import confusion_matrix, accuracy_score, precision_score, recall_score, f1_score, roc_auc_score, roc_curve, recall_score, classification_report, average_precision_score, precision_recall_curve\n",
    "\n",
    "#import torch related\n",
    "import torch.nn as nn\n",
    "from torch.nn import functional as F\n",
    "from torch.autograd import Variable \n",
    "from torch.utils.data import TensorDataset, DataLoader\n",
    "from torch.utils.data.sampler import SubsetRandomSampler\n",
    "\n",
    "\n",
    "#and optimizer of learning rate\n",
    "from torch.optim.lr_scheduler import ReduceLROnPlateau\n",
    "\n",
    "#import pytorch modules\n",
    "warnings.filterwarnings('ignore')"
   ]
  },
  {
   "cell_type": "code",
   "execution_count": 3,
   "id": "c6c3f1fb",
   "metadata": {},
   "outputs": [],
   "source": [
    "#global variables that may come in handy\n",
    "#course threshold sets the % duration that will be considered (1 = 100%)\n",
    "duration_threshold = [0.1, 0.25, 0.33, 0.5, 1]\n",
    "\n",
    "#colors for vizualizations\n",
    "nova_ims_colors = ['#BFD72F', '#5C666C']\n",
    "\n",
    "#standard color for student aggregates\n",
    "student_color = '#474838'\n",
    "\n",
    "#standard color for course aggragates\n",
    "course_color = '#1B3D2F'\n",
    "\n",
    "#standard continuous colormap\n",
    "standard_cmap = 'viridis_r'\n",
    "\n",
    "#Function designed to deal with multiindex and flatten it\n",
    "def flattenHierarchicalCol(col,sep = '_'):\n",
    "    '''converts multiindex columns into single index columns while retaining the hierarchical components'''\n",
    "    if not type(col) is tuple:\n",
    "        return col\n",
    "    else:\n",
    "        new_col = ''\n",
    "        for leveli,level in enumerate(col):\n",
    "            if not level == '':\n",
    "                if not leveli == 0:\n",
    "                    new_col += sep\n",
    "                new_col += level\n",
    "        return new_col\n",
    "    \n",
    "#number of replicas - number of repeats of stratified k fold - in this case 10\n",
    "replicas = 30\n",
    "\n",
    "#names to display on result figures\n",
    "date_names = {\n",
    "             'Date_threshold_10': '10% of Course Duration',   \n",
    "             'Date_threshold_25': '25% of Course Duration', \n",
    "             'Date_threshold_33': '33% of Course Duration', \n",
    "             'Date_threshold_50': '50% of Course Duration', \n",
    "             'Date_threshold_100':'100% of Course Duration', \n",
    "            }\n",
    "\n",
    "target_names = {\n",
    "                'exam_fail' : 'At risk - Exam Grade',\n",
    "                'final_fail' : 'At risk - Final Grade', \n",
    "                'exam_gifted' : 'High performer - Exam Grade', \n",
    "                'final_gifted': 'High performer - Final Grade'\n",
    "                }\n",
    "\n",
    "#targets\n",
    "targets = ['final_fail' ,'final_gifted']\n",
    "temporal_columns = ['0 to 4%', '4 to 8%', '8 to 12%', '12 to 16%', '16 to 20%', '20 to 24%',\n",
    "       '24 to 28%', '28 to 32%', '32 to 36%', '36 to 40%', '40 to 44%',\n",
    "       '44 to 48%', '48 to 52%', '52 to 56%', '56 to 60%', '60 to 64%',\n",
    "       '64 to 68%', '68 to 72%', '72 to 76%', '76 to 80%', '80 to 84%',\n",
    "       '84 to 88%', '88 to 92%', '92 to 96%', '96 to 100%']"
   ]
  },
  {
   "cell_type": "markdown",
   "id": "60c5ddb6",
   "metadata": {},
   "source": [
    "#### Step 3: Import data and take a preliminary look at it "
   ]
  },
  {
   "cell_type": "code",
   "execution_count": 4,
   "id": "d8a23ea6",
   "metadata": {},
   "outputs": [],
   "source": [
    "#imports dataframes\n",
    "course_programs = pd.read_excel(\"../Data/Modeling Stage/R_Gonz_Temporal_Datasets_25_splits.xlsx\", \n",
    "                                dtype = {\n",
    "                                    'course_encoding' : int,\n",
    "                                    'userid' : int},\n",
    "                               sheet_name = None)\n",
    "\n",
    "#save tables \n",
    "student_list = pd.read_csv('../Data/Modeling Stage/R_Gonz_Filtered_targets.csv', \n",
    "                         dtype = {\n",
    "                                   'course_encoding': int,\n",
    "                                   'userid' : int,\n",
    "                                   })\n",
    "\n",
    "#drop unnamed 0 column\n",
    "for i in course_programs:\n",
    "        \n",
    "    #merge with the targets we calculated on the other \n",
    "    course_programs[i] = course_programs[i].merge(student_list, on = ['course', 'userid'], how = 'inner')\n",
    "    course_programs[i].drop(['Unnamed: 0', 'final_mark'], axis = 1, inplace = True)\n",
    "    \n",
    "    #convert results to object\n",
    "    course_programs[i]['course'], course_programs[i]['userid'] = course_programs[i]['course'].astype(object), course_programs[i]['userid'].astype(object)"
   ]
  },
  {
   "cell_type": "code",
   "execution_count": 5,
   "id": "7bc3c84f",
   "metadata": {},
   "outputs": [
    {
     "name": "stdout",
     "output_type": "stream",
     "text": [
      "<class 'pandas.core.frame.DataFrame'>\n",
      "Int64Index: 13857 entries, 0 to 13856\n",
      "Data columns (total 29 columns):\n",
      " #   Column        Non-Null Count  Dtype \n",
      "---  ------        --------------  ----- \n",
      " 0   course        13857 non-null  object\n",
      " 1   userid        13857 non-null  object\n",
      " 2   1             13857 non-null  int64 \n",
      " 3   2             13857 non-null  int64 \n",
      " 4   3             13857 non-null  int64 \n",
      " 5   4             13857 non-null  int64 \n",
      " 6   5             13857 non-null  int64 \n",
      " 7   6             13857 non-null  int64 \n",
      " 8   7             13857 non-null  int64 \n",
      " 9   8             13857 non-null  int64 \n",
      " 10  9             13857 non-null  int64 \n",
      " 11  10            13857 non-null  int64 \n",
      " 12  11            13857 non-null  int64 \n",
      " 13  12            13857 non-null  int64 \n",
      " 14  13            13857 non-null  int64 \n",
      " 15  14            13857 non-null  int64 \n",
      " 16  15            13857 non-null  int64 \n",
      " 17  16            13857 non-null  int64 \n",
      " 18  17            13857 non-null  int64 \n",
      " 19  18            13857 non-null  int64 \n",
      " 20  19            13857 non-null  int64 \n",
      " 21  20            13857 non-null  int64 \n",
      " 22  21            13857 non-null  int64 \n",
      " 23  22            13857 non-null  int64 \n",
      " 24  23            13857 non-null  int64 \n",
      " 25  24            13857 non-null  int64 \n",
      " 26  25            13857 non-null  int64 \n",
      " 27  final_fail    13857 non-null  int64 \n",
      " 28  final_gifted  13857 non-null  int64 \n",
      "dtypes: int64(27), object(2)\n",
      "memory usage: 3.2+ MB\n"
     ]
    }
   ],
   "source": [
    "course_programs['Date_threshold_100'].info()"
   ]
  },
  {
   "cell_type": "code",
   "execution_count": 6,
   "id": "c4a751ef",
   "metadata": {},
   "outputs": [
    {
     "data": {
      "text/html": [
       "<div>\n",
       "<style scoped>\n",
       "    .dataframe tbody tr th:only-of-type {\n",
       "        vertical-align: middle;\n",
       "    }\n",
       "\n",
       "    .dataframe tbody tr th {\n",
       "        vertical-align: top;\n",
       "    }\n",
       "\n",
       "    .dataframe thead th {\n",
       "        text-align: right;\n",
       "    }\n",
       "</style>\n",
       "<table border=\"1\" class=\"dataframe\">\n",
       "  <thead>\n",
       "    <tr style=\"text-align: right;\">\n",
       "      <th></th>\n",
       "      <th>course</th>\n",
       "      <th>userid</th>\n",
       "      <th>1</th>\n",
       "      <th>2</th>\n",
       "      <th>3</th>\n",
       "      <th>4</th>\n",
       "      <th>5</th>\n",
       "      <th>6</th>\n",
       "      <th>7</th>\n",
       "      <th>8</th>\n",
       "      <th>...</th>\n",
       "      <th>18</th>\n",
       "      <th>19</th>\n",
       "      <th>20</th>\n",
       "      <th>21</th>\n",
       "      <th>22</th>\n",
       "      <th>23</th>\n",
       "      <th>24</th>\n",
       "      <th>25</th>\n",
       "      <th>final_fail</th>\n",
       "      <th>final_gifted</th>\n",
       "    </tr>\n",
       "  </thead>\n",
       "  <tbody>\n",
       "    <tr>\n",
       "      <th>count</th>\n",
       "      <td>13857.0</td>\n",
       "      <td>13857.0</td>\n",
       "      <td>13857.000000</td>\n",
       "      <td>13857.000000</td>\n",
       "      <td>13857.000000</td>\n",
       "      <td>13857.000000</td>\n",
       "      <td>13857.000000</td>\n",
       "      <td>13857.000000</td>\n",
       "      <td>13857.000000</td>\n",
       "      <td>13857.000000</td>\n",
       "      <td>...</td>\n",
       "      <td>13857.000000</td>\n",
       "      <td>13857.000000</td>\n",
       "      <td>13857.000000</td>\n",
       "      <td>13857.000000</td>\n",
       "      <td>13857.000000</td>\n",
       "      <td>13857.000000</td>\n",
       "      <td>13857.000000</td>\n",
       "      <td>13857.000000</td>\n",
       "      <td>13857.000000</td>\n",
       "      <td>13857.000000</td>\n",
       "    </tr>\n",
       "    <tr>\n",
       "      <th>unique</th>\n",
       "      <td>174.0</td>\n",
       "      <td>8544.0</td>\n",
       "      <td>NaN</td>\n",
       "      <td>NaN</td>\n",
       "      <td>NaN</td>\n",
       "      <td>NaN</td>\n",
       "      <td>NaN</td>\n",
       "      <td>NaN</td>\n",
       "      <td>NaN</td>\n",
       "      <td>NaN</td>\n",
       "      <td>...</td>\n",
       "      <td>NaN</td>\n",
       "      <td>NaN</td>\n",
       "      <td>NaN</td>\n",
       "      <td>NaN</td>\n",
       "      <td>NaN</td>\n",
       "      <td>NaN</td>\n",
       "      <td>NaN</td>\n",
       "      <td>NaN</td>\n",
       "      <td>NaN</td>\n",
       "      <td>NaN</td>\n",
       "    </tr>\n",
       "    <tr>\n",
       "      <th>top</th>\n",
       "      <td>2059.0</td>\n",
       "      <td>68888.0</td>\n",
       "      <td>NaN</td>\n",
       "      <td>NaN</td>\n",
       "      <td>NaN</td>\n",
       "      <td>NaN</td>\n",
       "      <td>NaN</td>\n",
       "      <td>NaN</td>\n",
       "      <td>NaN</td>\n",
       "      <td>NaN</td>\n",
       "      <td>...</td>\n",
       "      <td>NaN</td>\n",
       "      <td>NaN</td>\n",
       "      <td>NaN</td>\n",
       "      <td>NaN</td>\n",
       "      <td>NaN</td>\n",
       "      <td>NaN</td>\n",
       "      <td>NaN</td>\n",
       "      <td>NaN</td>\n",
       "      <td>NaN</td>\n",
       "      <td>NaN</td>\n",
       "    </tr>\n",
       "    <tr>\n",
       "      <th>freq</th>\n",
       "      <td>507.0</td>\n",
       "      <td>7.0</td>\n",
       "      <td>NaN</td>\n",
       "      <td>NaN</td>\n",
       "      <td>NaN</td>\n",
       "      <td>NaN</td>\n",
       "      <td>NaN</td>\n",
       "      <td>NaN</td>\n",
       "      <td>NaN</td>\n",
       "      <td>NaN</td>\n",
       "      <td>...</td>\n",
       "      <td>NaN</td>\n",
       "      <td>NaN</td>\n",
       "      <td>NaN</td>\n",
       "      <td>NaN</td>\n",
       "      <td>NaN</td>\n",
       "      <td>NaN</td>\n",
       "      <td>NaN</td>\n",
       "      <td>NaN</td>\n",
       "      <td>NaN</td>\n",
       "      <td>NaN</td>\n",
       "    </tr>\n",
       "    <tr>\n",
       "      <th>mean</th>\n",
       "      <td>NaN</td>\n",
       "      <td>NaN</td>\n",
       "      <td>1.601140</td>\n",
       "      <td>4.616584</td>\n",
       "      <td>7.876092</td>\n",
       "      <td>8.510067</td>\n",
       "      <td>9.804792</td>\n",
       "      <td>10.839431</td>\n",
       "      <td>11.184167</td>\n",
       "      <td>12.273147</td>\n",
       "      <td>...</td>\n",
       "      <td>11.521036</td>\n",
       "      <td>11.677997</td>\n",
       "      <td>8.524067</td>\n",
       "      <td>10.015155</td>\n",
       "      <td>8.560583</td>\n",
       "      <td>7.720935</td>\n",
       "      <td>3.454355</td>\n",
       "      <td>0.082413</td>\n",
       "      <td>0.381035</td>\n",
       "      <td>0.198528</td>\n",
       "    </tr>\n",
       "    <tr>\n",
       "      <th>std</th>\n",
       "      <td>NaN</td>\n",
       "      <td>NaN</td>\n",
       "      <td>6.581259</td>\n",
       "      <td>12.238187</td>\n",
       "      <td>15.785656</td>\n",
       "      <td>14.600375</td>\n",
       "      <td>16.021089</td>\n",
       "      <td>16.473371</td>\n",
       "      <td>20.043011</td>\n",
       "      <td>20.126765</td>\n",
       "      <td>...</td>\n",
       "      <td>22.043869</td>\n",
       "      <td>27.925613</td>\n",
       "      <td>18.816024</td>\n",
       "      <td>29.534244</td>\n",
       "      <td>20.248598</td>\n",
       "      <td>20.105366</td>\n",
       "      <td>14.589819</td>\n",
       "      <td>1.264520</td>\n",
       "      <td>0.485659</td>\n",
       "      <td>0.398906</td>\n",
       "    </tr>\n",
       "    <tr>\n",
       "      <th>min</th>\n",
       "      <td>NaN</td>\n",
       "      <td>NaN</td>\n",
       "      <td>0.000000</td>\n",
       "      <td>0.000000</td>\n",
       "      <td>0.000000</td>\n",
       "      <td>0.000000</td>\n",
       "      <td>0.000000</td>\n",
       "      <td>0.000000</td>\n",
       "      <td>0.000000</td>\n",
       "      <td>0.000000</td>\n",
       "      <td>...</td>\n",
       "      <td>0.000000</td>\n",
       "      <td>0.000000</td>\n",
       "      <td>0.000000</td>\n",
       "      <td>0.000000</td>\n",
       "      <td>0.000000</td>\n",
       "      <td>0.000000</td>\n",
       "      <td>0.000000</td>\n",
       "      <td>0.000000</td>\n",
       "      <td>0.000000</td>\n",
       "      <td>0.000000</td>\n",
       "    </tr>\n",
       "    <tr>\n",
       "      <th>25%</th>\n",
       "      <td>NaN</td>\n",
       "      <td>NaN</td>\n",
       "      <td>0.000000</td>\n",
       "      <td>0.000000</td>\n",
       "      <td>0.000000</td>\n",
       "      <td>0.000000</td>\n",
       "      <td>0.000000</td>\n",
       "      <td>0.000000</td>\n",
       "      <td>0.000000</td>\n",
       "      <td>0.000000</td>\n",
       "      <td>...</td>\n",
       "      <td>0.000000</td>\n",
       "      <td>0.000000</td>\n",
       "      <td>0.000000</td>\n",
       "      <td>0.000000</td>\n",
       "      <td>0.000000</td>\n",
       "      <td>0.000000</td>\n",
       "      <td>0.000000</td>\n",
       "      <td>0.000000</td>\n",
       "      <td>0.000000</td>\n",
       "      <td>0.000000</td>\n",
       "    </tr>\n",
       "    <tr>\n",
       "      <th>50%</th>\n",
       "      <td>NaN</td>\n",
       "      <td>NaN</td>\n",
       "      <td>0.000000</td>\n",
       "      <td>0.000000</td>\n",
       "      <td>1.000000</td>\n",
       "      <td>3.000000</td>\n",
       "      <td>4.000000</td>\n",
       "      <td>4.000000</td>\n",
       "      <td>5.000000</td>\n",
       "      <td>5.000000</td>\n",
       "      <td>...</td>\n",
       "      <td>4.000000</td>\n",
       "      <td>3.000000</td>\n",
       "      <td>1.000000</td>\n",
       "      <td>1.000000</td>\n",
       "      <td>1.000000</td>\n",
       "      <td>0.000000</td>\n",
       "      <td>0.000000</td>\n",
       "      <td>0.000000</td>\n",
       "      <td>0.000000</td>\n",
       "      <td>0.000000</td>\n",
       "    </tr>\n",
       "    <tr>\n",
       "      <th>75%</th>\n",
       "      <td>NaN</td>\n",
       "      <td>NaN</td>\n",
       "      <td>0.000000</td>\n",
       "      <td>4.000000</td>\n",
       "      <td>10.000000</td>\n",
       "      <td>11.000000</td>\n",
       "      <td>13.000000</td>\n",
       "      <td>15.000000</td>\n",
       "      <td>15.000000</td>\n",
       "      <td>17.000000</td>\n",
       "      <td>...</td>\n",
       "      <td>15.000000</td>\n",
       "      <td>13.000000</td>\n",
       "      <td>10.000000</td>\n",
       "      <td>11.000000</td>\n",
       "      <td>9.000000</td>\n",
       "      <td>7.000000</td>\n",
       "      <td>1.000000</td>\n",
       "      <td>0.000000</td>\n",
       "      <td>1.000000</td>\n",
       "      <td>0.000000</td>\n",
       "    </tr>\n",
       "    <tr>\n",
       "      <th>max</th>\n",
       "      <td>NaN</td>\n",
       "      <td>NaN</td>\n",
       "      <td>178.000000</td>\n",
       "      <td>236.000000</td>\n",
       "      <td>292.000000</td>\n",
       "      <td>239.000000</td>\n",
       "      <td>255.000000</td>\n",
       "      <td>219.000000</td>\n",
       "      <td>880.000000</td>\n",
       "      <td>602.000000</td>\n",
       "      <td>...</td>\n",
       "      <td>557.000000</td>\n",
       "      <td>729.000000</td>\n",
       "      <td>678.000000</td>\n",
       "      <td>1316.000000</td>\n",
       "      <td>407.000000</td>\n",
       "      <td>422.000000</td>\n",
       "      <td>523.000000</td>\n",
       "      <td>74.000000</td>\n",
       "      <td>1.000000</td>\n",
       "      <td>1.000000</td>\n",
       "    </tr>\n",
       "  </tbody>\n",
       "</table>\n",
       "<p>11 rows × 29 columns</p>\n",
       "</div>"
      ],
      "text/plain": [
       "         course   userid             1             2             3  \\\n",
       "count   13857.0  13857.0  13857.000000  13857.000000  13857.000000   \n",
       "unique    174.0   8544.0           NaN           NaN           NaN   \n",
       "top      2059.0  68888.0           NaN           NaN           NaN   \n",
       "freq      507.0      7.0           NaN           NaN           NaN   \n",
       "mean        NaN      NaN      1.601140      4.616584      7.876092   \n",
       "std         NaN      NaN      6.581259     12.238187     15.785656   \n",
       "min         NaN      NaN      0.000000      0.000000      0.000000   \n",
       "25%         NaN      NaN      0.000000      0.000000      0.000000   \n",
       "50%         NaN      NaN      0.000000      0.000000      1.000000   \n",
       "75%         NaN      NaN      0.000000      4.000000     10.000000   \n",
       "max         NaN      NaN    178.000000    236.000000    292.000000   \n",
       "\n",
       "                   4             5             6             7             8  \\\n",
       "count   13857.000000  13857.000000  13857.000000  13857.000000  13857.000000   \n",
       "unique           NaN           NaN           NaN           NaN           NaN   \n",
       "top              NaN           NaN           NaN           NaN           NaN   \n",
       "freq             NaN           NaN           NaN           NaN           NaN   \n",
       "mean        8.510067      9.804792     10.839431     11.184167     12.273147   \n",
       "std        14.600375     16.021089     16.473371     20.043011     20.126765   \n",
       "min         0.000000      0.000000      0.000000      0.000000      0.000000   \n",
       "25%         0.000000      0.000000      0.000000      0.000000      0.000000   \n",
       "50%         3.000000      4.000000      4.000000      5.000000      5.000000   \n",
       "75%        11.000000     13.000000     15.000000     15.000000     17.000000   \n",
       "max       239.000000    255.000000    219.000000    880.000000    602.000000   \n",
       "\n",
       "        ...            18            19            20            21  \\\n",
       "count   ...  13857.000000  13857.000000  13857.000000  13857.000000   \n",
       "unique  ...           NaN           NaN           NaN           NaN   \n",
       "top     ...           NaN           NaN           NaN           NaN   \n",
       "freq    ...           NaN           NaN           NaN           NaN   \n",
       "mean    ...     11.521036     11.677997      8.524067     10.015155   \n",
       "std     ...     22.043869     27.925613     18.816024     29.534244   \n",
       "min     ...      0.000000      0.000000      0.000000      0.000000   \n",
       "25%     ...      0.000000      0.000000      0.000000      0.000000   \n",
       "50%     ...      4.000000      3.000000      1.000000      1.000000   \n",
       "75%     ...     15.000000     13.000000     10.000000     11.000000   \n",
       "max     ...    557.000000    729.000000    678.000000   1316.000000   \n",
       "\n",
       "                  22            23            24            25    final_fail  \\\n",
       "count   13857.000000  13857.000000  13857.000000  13857.000000  13857.000000   \n",
       "unique           NaN           NaN           NaN           NaN           NaN   \n",
       "top              NaN           NaN           NaN           NaN           NaN   \n",
       "freq             NaN           NaN           NaN           NaN           NaN   \n",
       "mean        8.560583      7.720935      3.454355      0.082413      0.381035   \n",
       "std        20.248598     20.105366     14.589819      1.264520      0.485659   \n",
       "min         0.000000      0.000000      0.000000      0.000000      0.000000   \n",
       "25%         0.000000      0.000000      0.000000      0.000000      0.000000   \n",
       "50%         1.000000      0.000000      0.000000      0.000000      0.000000   \n",
       "75%         9.000000      7.000000      1.000000      0.000000      1.000000   \n",
       "max       407.000000    422.000000    523.000000     74.000000      1.000000   \n",
       "\n",
       "        final_gifted  \n",
       "count   13857.000000  \n",
       "unique           NaN  \n",
       "top              NaN  \n",
       "freq             NaN  \n",
       "mean        0.198528  \n",
       "std         0.398906  \n",
       "min         0.000000  \n",
       "25%         0.000000  \n",
       "50%         0.000000  \n",
       "75%         0.000000  \n",
       "max         1.000000  \n",
       "\n",
       "[11 rows x 29 columns]"
      ]
     },
     "execution_count": 6,
     "metadata": {},
     "output_type": "execute_result"
    }
   ],
   "source": [
    "course_programs['Date_threshold_100'].describe(include = 'all')"
   ]
  },
  {
   "cell_type": "markdown",
   "id": "c3291817",
   "metadata": {},
   "source": [
    "In our second attempt, we are looking to obtain a different result. Instead of using the absolute number of clicks used in each instance, we are instead looking to use the percent number of clicks made by each student relative to the the total number of clicks performed in the curricular unit.\n",
    "\n",
    "For that we will use transform:"
   ]
  },
  {
   "cell_type": "code",
   "execution_count": 7,
   "id": "1ca4caab",
   "metadata": {},
   "outputs": [
    {
     "data": {
      "application/vnd.jupyter.widget-view+json": {
       "model_id": "28c93298b89d4f96bb7c064ebbb810cd",
       "version_major": 2,
       "version_minor": 0
      },
      "text/plain": [
       "  0%|          | 0/5 [00:00<?, ?it/s]"
      ]
     },
     "metadata": {},
     "output_type": "display_data"
    },
    {
     "data": {
      "application/vnd.jupyter.widget-view+json": {
       "model_id": "534518d1023c4d39a8b4f152fb86c977",
       "version_major": 2,
       "version_minor": 0
      },
      "text/plain": [
       "  0%|          | 0/24 [00:00<?, ?it/s]"
      ]
     },
     "metadata": {},
     "output_type": "display_data"
    },
    {
     "data": {
      "application/vnd.jupyter.widget-view+json": {
       "model_id": "fb57a31ba6694496959823bd778befcf",
       "version_major": 2,
       "version_minor": 0
      },
      "text/plain": [
       "  0%|          | 0/24 [00:00<?, ?it/s]"
      ]
     },
     "metadata": {},
     "output_type": "display_data"
    },
    {
     "data": {
      "application/vnd.jupyter.widget-view+json": {
       "model_id": "ba98ec3bcac445a8a1c218d6bab9bd44",
       "version_major": 2,
       "version_minor": 0
      },
      "text/plain": [
       "  0%|          | 0/24 [00:00<?, ?it/s]"
      ]
     },
     "metadata": {},
     "output_type": "display_data"
    },
    {
     "data": {
      "application/vnd.jupyter.widget-view+json": {
       "model_id": "9f10255b655f4626a770cf0489683826",
       "version_major": 2,
       "version_minor": 0
      },
      "text/plain": [
       "  0%|          | 0/24 [00:00<?, ?it/s]"
      ]
     },
     "metadata": {},
     "output_type": "display_data"
    },
    {
     "data": {
      "application/vnd.jupyter.widget-view+json": {
       "model_id": "e6d27ba680f0473193757d64193728ac",
       "version_major": 2,
       "version_minor": 0
      },
      "text/plain": [
       "  0%|          | 0/24 [00:00<?, ?it/s]"
      ]
     },
     "metadata": {},
     "output_type": "display_data"
    }
   ],
   "source": [
    "for i in tqdm(course_programs.keys()):\n",
    "    \n",
    "    for j in tqdm(range(1,25)):\n",
    "            course_programs[i][j] = np.where(course_programs[i].fillna(0).groupby('course')[j].transform('sum') != 0, #where valid operations occur\n",
    "                                             course_programs[i][j].fillna(0) / course_programs[i].fillna(0).groupby('course')[j].transform('sum') * 100, #calculate percentage\n",
    "                                             0) #otherwise, its 0"
   ]
  },
  {
   "cell_type": "code",
   "execution_count": 8,
   "id": "be722ea9",
   "metadata": {},
   "outputs": [],
   "source": [
    "def normalize(train, test, scaler):\n",
    "    \n",
    "    if scaler == 'MinMax':\n",
    "        pt = MinMaxScaler()\n",
    "    elif scaler == 'Standard':\n",
    "        pt = StandardScaler()\n",
    "    elif scaler == 'Robust':\n",
    "        pt = RobustScaler()\n",
    "    elif scaler == 'Quantile':\n",
    "        pt = QuantileTransformer()\n",
    "    else:\n",
    "        pt = PowerTransformer(method='yeo-johnson')\n",
    "    \n",
    "    data_train = pt.fit_transform(train)\n",
    "    data_test = pt.transform(test)\n",
    "    # convert the array back to a dataframe\n",
    "    normalized_train = pd.DataFrame(data_train,columns=train.columns)\n",
    "    normalized_test = pd.DataFrame(data_test,columns=test.columns)\n",
    "        \n",
    "    return normalized_train, normalized_test "
   ]
  },
  {
   "cell_type": "markdown",
   "id": "8e4d5475",
   "metadata": {},
   "source": [
    "#### Implementing Cross-Validation with Deep Learning Model\n",
    "\n",
    "**1. Create the Deep Learning Model**\n",
    "\n",
    "In this instance, we will follow-up with on the approach used in Chen & Cui - CrossEntropyLoss with applied over a softmax layer."
   ]
  },
  {
   "cell_type": "code",
   "execution_count": 9,
   "id": "2a16bd5f",
   "metadata": {},
   "outputs": [],
   "source": [
    "class LSTM_Uni(nn.Module):\n",
    "    def __init__(self, num_classes, input_size, hidden_size, num_layers, seq_length):\n",
    "        super(LSTM_Uni, self).__init__()\n",
    "        self.num_classes = num_classes #number of classes\n",
    "        self.num_layers = num_layers #number of layers\n",
    "        self.input_size = input_size #input size\n",
    "        self.hidden_size = hidden_size #hidden state\n",
    "        self.seq_length = seq_length #sequence length\n",
    "\n",
    "        self.lstm = nn.LSTM(input_size=input_size, hidden_size=hidden_size,\n",
    "                          num_layers=num_layers, batch_first = True) #lstm\n",
    "        \n",
    "        self.dropout = nn.Dropout(p = 0.5)\n",
    "    \n",
    "        self.fc = nn.Linear(self.hidden_size, num_classes) #fully connected last layer\n",
    "\n",
    "    def forward(self,x):\n",
    "        h_0 = Variable(torch.zeros(self.num_layers, x.size(0), self.hidden_size)) #hidden state\n",
    "        c_0 = Variable(torch.zeros(self.num_layers, x.size(0), self.hidden_size)) #internal state\n",
    "        \n",
    "        #Xavier_init for both H_0 and C_0\n",
    "        torch.nn.init.xavier_normal_(h_0)\n",
    "        torch.nn.init.xavier_normal_(c_0)\n",
    "        \n",
    "        # Propagate input through LSTM\n",
    "        lstm_out, (hn, cn) = self.lstm(x, (h_0, c_0)) #lstm with input, hidden, and internal state\n",
    "        last_output = hn.view(-1, self.hidden_size) #reshaping the data for Dense layer next\n",
    "        \n",
    "        #we are interested in only keeping the last output\n",
    "        drop_out = self.dropout(last_output)\n",
    "        pre_softmax = self.fc(drop_out) #Final Output - dense\n",
    "        return pre_softmax"
   ]
  },
  {
   "cell_type": "markdown",
   "id": "17c356bd",
   "metadata": {},
   "source": [
    "**2. Define the train and validation Functions**"
   ]
  },
  {
   "cell_type": "code",
   "execution_count": 10,
   "id": "25b29a1d",
   "metadata": {},
   "outputs": [],
   "source": [
    "def train_epoch(model,dataloader,loss_fn,optimizer):\n",
    "    \n",
    "    train_loss,train_correct=0.0,0 \n",
    "    model.train()\n",
    "    for X, labels in dataloader:\n",
    "\n",
    "        optimizer.zero_grad()\n",
    "        output = model(X)\n",
    "        loss = loss_fn(output,labels)\n",
    "        loss.backward()\n",
    "        optimizer.step()\n",
    "        train_loss += loss.item() * X.size(0)\n",
    "        scores, predictions = torch.max(F.log_softmax(output.data), 1)\n",
    "        train_correct += (predictions == labels).sum().item()\n",
    "        \n",
    "    return train_loss,train_correct\n",
    "  \n",
    "def valid_epoch(model,dataloader,loss_fn):\n",
    "    valid_loss, val_correct = 0.0, 0\n",
    "    targets = []\n",
    "    y_pred = []\n",
    "    probability_1 = []\n",
    "    \n",
    "    model.eval()\n",
    "    for X, labels in dataloader:\n",
    "\n",
    "        output = model(X)\n",
    "        loss=loss_fn(output,labels)\n",
    "        valid_loss+=loss.item()*X.size(0)\n",
    "        probability_1.append(F.softmax(output.data)[:,1])\n",
    "        predictions = torch.argmax(output, dim=1)\n",
    "        val_correct+=(predictions == labels).sum().item()\n",
    "        targets.append(labels)\n",
    "        y_pred.append(predictions)\n",
    "    \n",
    "    #concat all results\n",
    "    targets = torch.cat(targets).data.cpu().numpy()\n",
    "    y_pred = torch.cat(y_pred).data.cpu().numpy()\n",
    "    probability_1 = torch.cat(probability_1).data.cpu().numpy()\n",
    "    \n",
    "    #calculate precision, recall and AUC score\n",
    "    \n",
    "    precision = precision_score(targets, y_pred)\n",
    "    recall = recall_score(targets, y_pred)\n",
    "    auroc = roc_auc_score(targets, probability_1)\n",
    "    \n",
    "    #return all\n",
    "    return valid_loss,val_correct, precision, recall, auroc"
   ]
  },
  {
   "cell_type": "markdown",
   "id": "d4543fb3",
   "metadata": {},
   "source": [
    "**3. Define main hyperparameters of the model, including splits**"
   ]
  },
  {
   "cell_type": "code",
   "execution_count": 11,
   "id": "fcbbef20",
   "metadata": {},
   "outputs": [],
   "source": [
    "#Model\n",
    "num_epochs = 200 #50 epochs\n",
    "learning_rate = 0.01 #0.001 lr\n",
    "input_size = 1 #number of features\n",
    "hidden_size = 40 #number of features in hidden state\n",
    "num_layers = 1 #number of stacked lstm layers\n",
    "\n",
    "#Shape of Output as required for SoftMax Classifier\n",
    "num_classes = 2 #output shape\n",
    "\n",
    "batch_size = 32\n",
    "\n",
    "k=10\n",
    "splits= RepeatedStratifiedKFold(n_splits=k, n_repeats=replicas, random_state=15) #kfold of 10 with 30 replicas\n",
    "criterion = nn.CrossEntropyLoss()    # cross-entropy for classification"
   ]
  },
  {
   "cell_type": "markdown",
   "id": "a20713d9",
   "metadata": {},
   "source": [
    "**4. Make the splits and Start Training**"
   ]
  },
  {
   "cell_type": "code",
   "execution_count": null,
   "id": "82e831a1",
   "metadata": {},
   "outputs": [
    {
     "data": {
      "application/vnd.jupyter.widget-view+json": {
       "model_id": "afdd58035ed04f00a6f99b418aa9350a",
       "version_major": 2,
       "version_minor": 0
      },
      "text/plain": [
       "  0%|          | 0/2 [00:00<?, ?it/s]"
      ]
     },
     "metadata": {},
     "output_type": "display_data"
    },
    {
     "name": "stdout",
     "output_type": "stream",
     "text": [
      "Date_threshold_50\n"
     ]
    },
    {
     "data": {
      "application/vnd.jupyter.widget-view+json": {
       "model_id": "c9667363e0454e389ad2cce8bfb68c62",
       "version_major": 2,
       "version_minor": 0
      },
      "text/plain": [
       "  0%|          | 0/2 [00:00<?, ?it/s]"
      ]
     },
     "metadata": {},
     "output_type": "display_data"
    },
    {
     "name": "stdout",
     "output_type": "stream",
     "text": [
      "final_fail\n"
     ]
    },
    {
     "data": {
      "application/vnd.jupyter.widget-view+json": {
       "model_id": "01a053e774d54e3ea9ee65acebd6c4dc",
       "version_major": 2,
       "version_minor": 0
      },
      "text/plain": [
       "0it [00:00, ?it/s]"
      ]
     },
     "metadata": {},
     "output_type": "display_data"
    },
    {
     "name": "stdout",
     "output_type": "stream",
     "text": [
      "Split 1\n"
     ]
    },
    {
     "data": {
      "application/vnd.jupyter.widget-view+json": {
       "model_id": "4287a9e4d6e04e86bedeb214f58c40b3",
       "version_major": 2,
       "version_minor": 0
      },
      "text/plain": [
       "  0%|          | 0/200 [00:00<?, ?it/s]"
      ]
     },
     "metadata": {},
     "output_type": "display_data"
    },
    {
     "name": "stdout",
     "output_type": "stream",
     "text": [
      "New Best Accuracy found: 38.05%\n",
      "Epoch: 1\n",
      "Epoch:10/200 AVG Training Loss:0.641 AVG Validation Loss:4.331 AVG Training Acc 64.91 % AVG Validation Acc 38.05 %\n",
      "Epoch:20/200 AVG Training Loss:0.654 AVG Validation Loss:2.111 AVG Training Acc 64.75 % AVG Validation Acc 38.14 %\n",
      "New Best Accuracy found: 38.14%\n",
      "Epoch: 20\n",
      "Epoch:30/200 AVG Training Loss:0.644 AVG Validation Loss:2.740 AVG Training Acc 65.36 % AVG Validation Acc 38.05 %\n",
      "Epoch    31: reducing learning rate of group 0 to 1.0000e-03.\n",
      "New Best Accuracy found: 38.23%\n",
      "Epoch: 35\n",
      "New Best Accuracy found: 38.95%\n",
      "Epoch: 36\n",
      "New Best Accuracy found: 39.04%\n",
      "Epoch: 37\n",
      "New Best Accuracy found: 40.04%\n",
      "Epoch: 39\n",
      "Epoch:40/200 AVG Training Loss:0.693 AVG Validation Loss:0.780 AVG Training Acc 53.75 % AVG Validation Acc 39.86 %\n",
      "New Best Accuracy found: 40.13%\n",
      "Epoch: 42\n",
      "Epoch:50/200 AVG Training Loss:0.684 AVG Validation Loss:0.835 AVG Training Acc 54.18 % AVG Validation Acc 40.22 %\n",
      "New Best Accuracy found: 40.22%\n",
      "Epoch: 50\n",
      "New Best Accuracy found: 40.58%\n",
      "Epoch: 51\n",
      "Epoch:60/200 AVG Training Loss:0.688 AVG Validation Loss:0.797 AVG Training Acc 53.88 % AVG Validation Acc 41.39 %\n",
      "New Best Accuracy found: 41.39%\n",
      "Epoch: 60\n",
      "Epoch    62: reducing learning rate of group 0 to 1.0000e-04.\n",
      "New Best Accuracy found: 41.93%\n",
      "Epoch: 64\n",
      "New Best Accuracy found: 42.92%\n",
      "Epoch: 65\n",
      "New Best Accuracy found: 43.64%\n",
      "Epoch: 66\n",
      "New Best Accuracy found: 44.54%\n",
      "Epoch: 67\n",
      "New Best Accuracy found: 44.72%\n",
      "Epoch: 68\n",
      "New Best Accuracy found: 45.72%\n",
      "Epoch: 69\n",
      "Epoch:70/200 AVG Training Loss:0.688 AVG Validation Loss:0.701 AVG Training Acc 54.20 % AVG Validation Acc 45.72 %\n",
      "New Best Accuracy found: 46.53%\n",
      "Epoch: 71\n",
      "New Best Accuracy found: 46.80%\n",
      "Epoch: 72\n",
      "New Best Accuracy found: 47.07%\n",
      "Epoch: 73\n",
      "New Best Accuracy found: 47.61%\n",
      "Epoch: 75\n",
      "New Best Accuracy found: 48.15%\n",
      "Epoch: 76\n",
      "New Best Accuracy found: 48.51%\n",
      "Epoch: 77\n",
      "Epoch:80/200 AVG Training Loss:0.687 AVG Validation Loss:0.694 AVG Training Acc 53.27 % AVG Validation Acc 48.42 %\n",
      "New Best Accuracy found: 48.60%\n",
      "Epoch: 86\n",
      "New Best Accuracy found: 48.69%\n",
      "Epoch: 89\n",
      "Epoch:90/200 AVG Training Loss:0.688 AVG Validation Loss:0.694 AVG Training Acc 53.02 % AVG Validation Acc 48.51 %\n",
      "Epoch:100/200 AVG Training Loss:0.688 AVG Validation Loss:0.694 AVG Training Acc 53.57 % AVG Validation Acc 48.87 %\n",
      "New Best Accuracy found: 48.87%\n",
      "Epoch: 100\n",
      "Epoch:110/200 AVG Training Loss:0.686 AVG Validation Loss:0.694 AVG Training Acc 53.60 % AVG Validation Acc 48.96 %\n",
      "Epoch   110: reducing learning rate of group 0 to 1.0000e-05.\n",
      "New Best Accuracy found: 48.96%\n",
      "Epoch: 110\n",
      "New Best Accuracy found: 49.05%\n",
      "Epoch: 115\n",
      "New Best Accuracy found: 49.23%\n",
      "Epoch: 117\n",
      "Epoch:120/200 AVG Training Loss:0.686 AVG Validation Loss:0.693 AVG Training Acc 54.32 % AVG Validation Acc 49.05 %\n",
      "New Best Accuracy found: 49.32%\n",
      "Epoch: 125\n",
      "New Best Accuracy found: 49.59%\n",
      "Epoch: 127\n",
      "Epoch:130/200 AVG Training Loss:0.685 AVG Validation Loss:0.692 AVG Training Acc 54.82 % AVG Validation Acc 49.50 %\n",
      "New Best Accuracy found: 49.68%\n",
      "Epoch: 133\n",
      "New Best Accuracy found: 49.77%\n",
      "Epoch: 138\n",
      "Epoch:140/200 AVG Training Loss:0.686 AVG Validation Loss:0.691 AVG Training Acc 54.62 % AVG Validation Acc 49.50 %\n",
      "New Best Accuracy found: 50.05%\n",
      "Epoch: 142\n",
      "Epoch   144: reducing learning rate of group 0 to 1.0000e-06.\n",
      "Epoch:150/200 AVG Training Loss:0.686 AVG Validation Loss:0.692 AVG Training Acc 54.79 % AVG Validation Acc 49.86 %\n",
      "New Best Accuracy found: 50.32%\n",
      "Epoch: 151\n",
      "Epoch:160/200 AVG Training Loss:0.686 AVG Validation Loss:0.691 AVG Training Acc 54.14 % AVG Validation Acc 49.50 %\n",
      "Epoch:170/200 AVG Training Loss:0.685 AVG Validation Loss:0.692 AVG Training Acc 54.21 % AVG Validation Acc 49.32 %\n",
      "Epoch:180/200 AVG Training Loss:0.685 AVG Validation Loss:0.691 AVG Training Acc 54.60 % AVG Validation Acc 50.05 %\n",
      "Epoch   183: reducing learning rate of group 0 to 1.0000e-07.\n",
      "Epoch:190/200 AVG Training Loss:0.686 AVG Validation Loss:0.691 AVG Training Acc 54.37 % AVG Validation Acc 49.86 %\n",
      "Epoch:200/200 AVG Training Loss:0.686 AVG Validation Loss:0.692 AVG Training Acc 54.12 % AVG Validation Acc 49.86 %\n",
      "Split 2\n"
     ]
    },
    {
     "data": {
      "application/vnd.jupyter.widget-view+json": {
       "model_id": "8ba52806c6d14d63a4f1d4bf5a309d68",
       "version_major": 2,
       "version_minor": 0
      },
      "text/plain": [
       "  0%|          | 0/200 [00:00<?, ?it/s]"
      ]
     },
     "metadata": {},
     "output_type": "display_data"
    },
    {
     "name": "stdout",
     "output_type": "stream",
     "text": [
      "Epoch:10/200 AVG Training Loss:0.652 AVG Validation Loss:3.103 AVG Training Acc 65.08 % AVG Validation Acc 38.14 %\n",
      "Epoch:20/200 AVG Training Loss:0.665 AVG Validation Loss:4.950 AVG Training Acc 62.98 % AVG Validation Acc 38.14 %\n",
      "Epoch:30/200 AVG Training Loss:0.724 AVG Validation Loss:6.755 AVG Training Acc 65.50 % AVG Validation Acc 38.14 %\n",
      "Epoch:40/200 AVG Training Loss:0.674 AVG Validation Loss:1.220 AVG Training Acc 60.16 % AVG Validation Acc 38.14 %\n",
      "Epoch:50/200 AVG Training Loss:0.670 AVG Validation Loss:1.252 AVG Training Acc 60.61 % AVG Validation Acc 38.14 %\n",
      "Epoch    53: reducing learning rate of group 0 to 1.0000e-03.\n",
      "Epoch:60/200 AVG Training Loss:0.688 AVG Validation Loss:0.716 AVG Training Acc 53.70 % AVG Validation Acc 45.81 %\n",
      "Epoch:70/200 AVG Training Loss:0.684 AVG Validation Loss:0.716 AVG Training Acc 54.62 % AVG Validation Acc 46.08 %\n",
      "Epoch:80/200 AVG Training Loss:0.684 AVG Validation Loss:0.718 AVG Training Acc 54.18 % AVG Validation Acc 45.99 %\n",
      "Epoch:90/200 AVG Training Loss:0.681 AVG Validation Loss:0.716 AVG Training Acc 54.72 % AVG Validation Acc 46.62 %\n",
      "Epoch    93: reducing learning rate of group 0 to 1.0000e-04.\n",
      "Epoch:100/200 AVG Training Loss:0.679 AVG Validation Loss:0.708 AVG Training Acc 55.46 % AVG Validation Acc 48.24 %\n",
      "Epoch:110/200 AVG Training Loss:0.677 AVG Validation Loss:0.704 AVG Training Acc 55.68 % AVG Validation Acc 49.32 %\n",
      "Epoch:120/200 AVG Training Loss:0.678 AVG Validation Loss:0.703 AVG Training Acc 56.09 % AVG Validation Acc 50.32 %\n",
      "Epoch:130/200 AVG Training Loss:0.677 AVG Validation Loss:0.702 AVG Training Acc 55.91 % AVG Validation Acc 50.23 %\n",
      "New Best Accuracy found: 50.59%\n",
      "Epoch: 132\n",
      "Epoch:140/200 AVG Training Loss:0.677 AVG Validation Loss:0.703 AVG Training Acc 55.99 % AVG Validation Acc 50.23 %\n",
      "New Best Accuracy found: 50.68%\n",
      "Epoch: 144\n",
      "Epoch   148: reducing learning rate of group 0 to 1.0000e-05.\n",
      "Epoch:150/200 AVG Training Loss:0.676 AVG Validation Loss:0.703 AVG Training Acc 56.49 % AVG Validation Acc 50.32 %\n",
      "New Best Accuracy found: 50.77%\n",
      "Epoch: 155\n",
      "Epoch:160/200 AVG Training Loss:0.677 AVG Validation Loss:0.703 AVG Training Acc 56.06 % AVG Validation Acc 50.77 %\n",
      "New Best Accuracy found: 50.95%\n",
      "Epoch: 165\n",
      "Epoch:170/200 AVG Training Loss:0.676 AVG Validation Loss:0.703 AVG Training Acc 55.94 % AVG Validation Acc 50.68 %\n",
      "New Best Accuracy found: 51.04%\n",
      "Epoch: 176\n",
      "Epoch   179: reducing learning rate of group 0 to 1.0000e-06.\n",
      "Epoch:180/200 AVG Training Loss:0.676 AVG Validation Loss:0.702 AVG Training Acc 56.12 % AVG Validation Acc 50.59 %\n",
      "Epoch:190/200 AVG Training Loss:0.676 AVG Validation Loss:0.702 AVG Training Acc 56.20 % AVG Validation Acc 50.68 %\n",
      "Epoch:200/200 AVG Training Loss:0.676 AVG Validation Loss:0.703 AVG Training Acc 56.48 % AVG Validation Acc 50.68 %\n",
      "Split 3\n"
     ]
    },
    {
     "data": {
      "application/vnd.jupyter.widget-view+json": {
       "model_id": "e31641254eee4b85a7d5318ddee1ca3e",
       "version_major": 2,
       "version_minor": 0
      },
      "text/plain": [
       "  0%|          | 0/200 [00:00<?, ?it/s]"
      ]
     },
     "metadata": {},
     "output_type": "display_data"
    },
    {
     "name": "stdout",
     "output_type": "stream",
     "text": [
      "Epoch:10/200 AVG Training Loss:0.659 AVG Validation Loss:3.099 AVG Training Acc 65.61 % AVG Validation Acc 38.14 %\n",
      "Epoch:20/200 AVG Training Loss:0.671 AVG Validation Loss:2.839 AVG Training Acc 64.99 % AVG Validation Acc 38.14 %\n",
      "Epoch:30/200 AVG Training Loss:0.658 AVG Validation Loss:2.453 AVG Training Acc 64.82 % AVG Validation Acc 38.14 %\n",
      "Epoch:40/200 AVG Training Loss:0.674 AVG Validation Loss:1.524 AVG Training Acc 62.44 % AVG Validation Acc 38.14 %\n",
      "Epoch:50/200 AVG Training Loss:0.672 AVG Validation Loss:1.220 AVG Training Acc 60.28 % AVG Validation Acc 38.14 %\n",
      "Epoch:60/200 AVG Training Loss:0.671 AVG Validation Loss:1.221 AVG Training Acc 60.31 % AVG Validation Acc 38.59 %\n",
      "Epoch:70/200 AVG Training Loss:0.666 AVG Validation Loss:1.457 AVG Training Acc 60.49 % AVG Validation Acc 38.32 %\n",
      "Epoch:80/200 AVG Training Loss:0.666 AVG Validation Loss:1.238 AVG Training Acc 61.08 % AVG Validation Acc 39.04 %\n",
      "Epoch    80: reducing learning rate of group 0 to 1.0000e-03.\n",
      "Epoch:90/200 AVG Training Loss:0.678 AVG Validation Loss:0.712 AVG Training Acc 54.84 % AVG Validation Acc 46.89 %\n",
      "Epoch:100/200 AVG Training Loss:0.674 AVG Validation Loss:0.713 AVG Training Acc 55.27 % AVG Validation Acc 47.07 %\n",
      "Epoch:110/200 AVG Training Loss:0.675 AVG Validation Loss:0.714 AVG Training Acc 55.44 % AVG Validation Acc 47.34 %\n",
      "Epoch   114: reducing learning rate of group 0 to 1.0000e-04.\n",
      "Epoch:120/200 AVG Training Loss:0.671 AVG Validation Loss:0.706 AVG Training Acc 56.09 % AVG Validation Acc 48.69 %\n",
      "Epoch:130/200 AVG Training Loss:0.669 AVG Validation Loss:0.701 AVG Training Acc 56.12 % AVG Validation Acc 50.41 %\n",
      "New Best Accuracy found: 51.31%\n",
      "Epoch: 137\n",
      "New Best Accuracy found: 51.49%\n",
      "Epoch: 139\n",
      "Epoch:140/200 AVG Training Loss:0.669 AVG Validation Loss:0.699 AVG Training Acc 56.50 % AVG Validation Acc 51.49 %\n",
      "New Best Accuracy found: 51.58%\n",
      "Epoch: 143\n",
      "Epoch:150/200 AVG Training Loss:0.669 AVG Validation Loss:0.698 AVG Training Acc 56.37 % AVG Validation Acc 51.40 %\n",
      "New Best Accuracy found: 51.67%\n",
      "Epoch: 152\n",
      "Epoch:160/200 AVG Training Loss:0.669 AVG Validation Loss:0.699 AVG Training Acc 56.51 % AVG Validation Acc 51.76 %\n",
      "New Best Accuracy found: 51.76%\n",
      "Epoch: 160\n",
      "Epoch   166: reducing learning rate of group 0 to 1.0000e-05.\n",
      "Epoch:170/200 AVG Training Loss:0.669 AVG Validation Loss:0.699 AVG Training Acc 56.30 % AVG Validation Acc 51.40 %\n",
      "New Best Accuracy found: 51.85%\n",
      "Epoch: 171\n",
      "New Best Accuracy found: 52.03%\n",
      "Epoch: 176\n",
      "Epoch:180/200 AVG Training Loss:0.669 AVG Validation Loss:0.698 AVG Training Acc 56.41 % AVG Validation Acc 51.58 %\n",
      "Epoch:190/200 AVG Training Loss:0.668 AVG Validation Loss:0.698 AVG Training Acc 56.39 % AVG Validation Acc 51.49 %\n",
      "Epoch   197: reducing learning rate of group 0 to 1.0000e-06.\n",
      "Epoch:200/200 AVG Training Loss:0.668 AVG Validation Loss:0.698 AVG Training Acc 56.34 % AVG Validation Acc 51.76 %\n",
      "Split 4\n"
     ]
    },
    {
     "data": {
      "application/vnd.jupyter.widget-view+json": {
       "model_id": "4ea9bc6389ef470dbc9f98ca3b2626f9",
       "version_major": 2,
       "version_minor": 0
      },
      "text/plain": [
       "  0%|          | 0/200 [00:00<?, ?it/s]"
      ]
     },
     "metadata": {},
     "output_type": "display_data"
    },
    {
     "name": "stdout",
     "output_type": "stream",
     "text": [
      "Epoch:10/200 AVG Training Loss:0.654 AVG Validation Loss:3.390 AVG Training Acc 65.43 % AVG Validation Acc 38.14 %\n",
      "Epoch:20/200 AVG Training Loss:0.671 AVG Validation Loss:2.225 AVG Training Acc 64.23 % AVG Validation Acc 38.14 %\n",
      "Epoch:30/200 AVG Training Loss:0.647 AVG Validation Loss:5.000 AVG Training Acc 62.23 % AVG Validation Acc 38.14 %\n",
      "Epoch:40/200 AVG Training Loss:0.659 AVG Validation Loss:1.511 AVG Training Acc 62.58 % AVG Validation Acc 38.14 %\n",
      "Epoch:50/200 AVG Training Loss:0.664 AVG Validation Loss:1.287 AVG Training Acc 61.60 % AVG Validation Acc 38.23 %\n",
      "Epoch:60/200 AVG Training Loss:0.698 AVG Validation Loss:1.322 AVG Training Acc 61.55 % AVG Validation Acc 38.32 %\n",
      "Epoch:70/200 AVG Training Loss:0.664 AVG Validation Loss:1.216 AVG Training Acc 60.99 % AVG Validation Acc 38.23 %\n",
      "Epoch:80/200 AVG Training Loss:0.673 AVG Validation Loss:1.228 AVG Training Acc 60.46 % AVG Validation Acc 38.14 %\n",
      "Epoch    88: reducing learning rate of group 0 to 1.0000e-03.\n",
      "Epoch:90/200 AVG Training Loss:0.738 AVG Validation Loss:0.766 AVG Training Acc 51.63 % AVG Validation Acc 40.40 %\n",
      "Epoch:100/200 AVG Training Loss:0.685 AVG Validation Loss:0.709 AVG Training Acc 54.09 % AVG Validation Acc 46.08 %\n",
      "Epoch:110/200 AVG Training Loss:0.683 AVG Validation Loss:0.711 AVG Training Acc 54.53 % AVG Validation Acc 46.08 %\n",
      "Epoch   119: reducing learning rate of group 0 to 1.0000e-04.\n",
      "Epoch:120/200 AVG Training Loss:0.684 AVG Validation Loss:0.707 AVG Training Acc 54.73 % AVG Validation Acc 46.80 %\n",
      "Epoch:130/200 AVG Training Loss:0.680 AVG Validation Loss:0.696 AVG Training Acc 55.38 % AVG Validation Acc 49.59 %\n",
      "Epoch:140/200 AVG Training Loss:0.680 AVG Validation Loss:0.694 AVG Training Acc 55.71 % AVG Validation Acc 50.68 %\n",
      "Epoch:150/200 AVG Training Loss:0.679 AVG Validation Loss:0.692 AVG Training Acc 55.64 % AVG Validation Acc 49.86 %\n",
      "Epoch:160/200 AVG Training Loss:0.679 AVG Validation Loss:0.694 AVG Training Acc 55.98 % AVG Validation Acc 49.86 %\n",
      "Epoch   162: reducing learning rate of group 0 to 1.0000e-05.\n",
      "Epoch:170/200 AVG Training Loss:0.678 AVG Validation Loss:0.692 AVG Training Acc 56.06 % AVG Validation Acc 50.14 %\n",
      "Epoch:180/200 AVG Training Loss:0.678 AVG Validation Loss:0.693 AVG Training Acc 56.14 % AVG Validation Acc 50.05 %\n",
      "Epoch:190/200 AVG Training Loss:0.678 AVG Validation Loss:0.691 AVG Training Acc 56.15 % AVG Validation Acc 50.95 %\n",
      "Epoch   193: reducing learning rate of group 0 to 1.0000e-06.\n",
      "Epoch:200/200 AVG Training Loss:0.678 AVG Validation Loss:0.692 AVG Training Acc 55.84 % AVG Validation Acc 49.86 %\n",
      "Split 5\n"
     ]
    },
    {
     "data": {
      "application/vnd.jupyter.widget-view+json": {
       "model_id": "0874da54eefb46a19daf023f5b50ed12",
       "version_major": 2,
       "version_minor": 0
      },
      "text/plain": [
       "  0%|          | 0/200 [00:00<?, ?it/s]"
      ]
     },
     "metadata": {},
     "output_type": "display_data"
    },
    {
     "name": "stdout",
     "output_type": "stream",
     "text": [
      "Epoch:10/200 AVG Training Loss:0.653 AVG Validation Loss:3.400 AVG Training Acc 63.94 % AVG Validation Acc 38.14 %\n",
      "Epoch:20/200 AVG Training Loss:0.661 AVG Validation Loss:3.195 AVG Training Acc 64.90 % AVG Validation Acc 38.14 %\n",
      "Epoch    25: reducing learning rate of group 0 to 1.0000e-03.\n",
      "Epoch:30/200 AVG Training Loss:0.696 AVG Validation Loss:0.776 AVG Training Acc 52.62 % AVG Validation Acc 38.14 %\n",
      "Epoch:40/200 AVG Training Loss:0.696 AVG Validation Loss:0.757 AVG Training Acc 51.90 % AVG Validation Acc 38.14 %\n",
      "Epoch:50/200 AVG Training Loss:0.690 AVG Validation Loss:0.774 AVG Training Acc 53.72 % AVG Validation Acc 39.13 %\n",
      "Epoch    56: reducing learning rate of group 0 to 1.0000e-04.\n",
      "Epoch:60/200 AVG Training Loss:0.693 AVG Validation Loss:0.710 AVG Training Acc 53.11 % AVG Validation Acc 47.70 %\n",
      "Epoch:70/200 AVG Training Loss:0.687 AVG Validation Loss:0.692 AVG Training Acc 53.51 % AVG Validation Acc 49.32 %\n",
      "Epoch:80/200 AVG Training Loss:0.686 AVG Validation Loss:0.691 AVG Training Acc 54.09 % AVG Validation Acc 49.50 %\n",
      "Epoch    89: reducing learning rate of group 0 to 1.0000e-05.\n",
      "Epoch:90/200 AVG Training Loss:0.686 AVG Validation Loss:0.691 AVG Training Acc 54.40 % AVG Validation Acc 49.41 %\n",
      "Epoch:100/200 AVG Training Loss:0.687 AVG Validation Loss:0.690 AVG Training Acc 54.58 % AVG Validation Acc 49.86 %\n",
      "Epoch:110/200 AVG Training Loss:0.686 AVG Validation Loss:0.689 AVG Training Acc 54.79 % AVG Validation Acc 50.05 %\n",
      "Epoch:120/200 AVG Training Loss:0.685 AVG Validation Loss:0.689 AVG Training Acc 55.26 % AVG Validation Acc 50.68 %\n",
      "Epoch:130/200 AVG Training Loss:0.686 AVG Validation Loss:0.688 AVG Training Acc 54.77 % AVG Validation Acc 50.41 %\n",
      "Epoch:140/200 AVG Training Loss:0.685 AVG Validation Loss:0.688 AVG Training Acc 54.81 % AVG Validation Acc 50.32 %\n",
      "Epoch:150/200 AVG Training Loss:0.684 AVG Validation Loss:0.688 AVG Training Acc 55.26 % AVG Validation Acc 50.32 %\n",
      "Epoch:160/200 AVG Training Loss:0.686 AVG Validation Loss:0.688 AVG Training Acc 54.91 % AVG Validation Acc 50.50 %\n",
      "Epoch:170/200 AVG Training Loss:0.685 AVG Validation Loss:0.687 AVG Training Acc 54.91 % AVG Validation Acc 50.32 %\n",
      "Epoch:180/200 AVG Training Loss:0.685 AVG Validation Loss:0.687 AVG Training Acc 54.63 % AVG Validation Acc 50.41 %\n",
      "Epoch:190/200 AVG Training Loss:0.686 AVG Validation Loss:0.687 AVG Training Acc 54.96 % AVG Validation Acc 50.32 %\n",
      "Epoch   195: reducing learning rate of group 0 to 1.0000e-06.\n",
      "Epoch:200/200 AVG Training Loss:0.684 AVG Validation Loss:0.687 AVG Training Acc 55.30 % AVG Validation Acc 50.32 %\n",
      "Split 6\n"
     ]
    },
    {
     "data": {
      "application/vnd.jupyter.widget-view+json": {
       "model_id": "9dcb0cfb8824465799c5bd447488f2f9",
       "version_major": 2,
       "version_minor": 0
      },
      "text/plain": [
       "  0%|          | 0/200 [00:00<?, ?it/s]"
      ]
     },
     "metadata": {},
     "output_type": "display_data"
    },
    {
     "name": "stdout",
     "output_type": "stream",
     "text": [
      "Epoch:10/200 AVG Training Loss:0.673 AVG Validation Loss:2.195 AVG Training Acc 64.87 % AVG Validation Acc 38.09 %\n",
      "Epoch:20/200 AVG Training Loss:0.671 AVG Validation Loss:1.395 AVG Training Acc 61.80 % AVG Validation Acc 38.09 %\n",
      "Epoch:30/200 AVG Training Loss:0.651 AVG Validation Loss:2.582 AVG Training Acc 65.00 % AVG Validation Acc 38.09 %\n",
      "Epoch    36: reducing learning rate of group 0 to 1.0000e-03.\n",
      "Epoch:40/200 AVG Training Loss:0.694 AVG Validation Loss:0.722 AVG Training Acc 52.64 % AVG Validation Acc 44.04 %\n",
      "Epoch:50/200 AVG Training Loss:0.689 AVG Validation Loss:0.714 AVG Training Acc 53.59 % AVG Validation Acc 44.04 %\n",
      "Epoch:60/200 AVG Training Loss:0.688 AVG Validation Loss:0.712 AVG Training Acc 52.98 % AVG Validation Acc 43.95 %\n",
      "Epoch:70/200 AVG Training Loss:0.685 AVG Validation Loss:0.713 AVG Training Acc 53.89 % AVG Validation Acc 43.86 %\n",
      "Epoch    75: reducing learning rate of group 0 to 1.0000e-04.\n",
      "Epoch:80/200 AVG Training Loss:0.683 AVG Validation Loss:0.701 AVG Training Acc 55.13 % AVG Validation Acc 47.38 %\n",
      "Epoch:90/200 AVG Training Loss:0.682 AVG Validation Loss:0.694 AVG Training Acc 55.39 % AVG Validation Acc 48.01 %\n",
      "Epoch:100/200 AVG Training Loss:0.681 AVG Validation Loss:0.692 AVG Training Acc 55.55 % AVG Validation Acc 48.19 %\n",
      "Epoch:110/200 AVG Training Loss:0.681 AVG Validation Loss:0.691 AVG Training Acc 55.39 % AVG Validation Acc 48.65 %\n",
      "Epoch:120/200 AVG Training Loss:0.680 AVG Validation Loss:0.691 AVG Training Acc 55.21 % AVG Validation Acc 48.74 %\n",
      "Epoch   128: reducing learning rate of group 0 to 1.0000e-05.\n",
      "Epoch:130/200 AVG Training Loss:0.680 AVG Validation Loss:0.691 AVG Training Acc 55.64 % AVG Validation Acc 48.83 %\n",
      "Epoch:140/200 AVG Training Loss:0.680 AVG Validation Loss:0.691 AVG Training Acc 55.77 % AVG Validation Acc 48.65 %\n",
      "Epoch:150/200 AVG Training Loss:0.679 AVG Validation Loss:0.691 AVG Training Acc 55.59 % AVG Validation Acc 48.74 %\n",
      "Epoch:160/200 AVG Training Loss:0.679 AVG Validation Loss:0.690 AVG Training Acc 55.64 % AVG Validation Acc 48.92 %\n",
      "Epoch:170/200 AVG Training Loss:0.679 AVG Validation Loss:0.690 AVG Training Acc 55.84 % AVG Validation Acc 49.19 %\n",
      "Epoch   172: reducing learning rate of group 0 to 1.0000e-06.\n",
      "Epoch:180/200 AVG Training Loss:0.680 AVG Validation Loss:0.690 AVG Training Acc 55.84 % AVG Validation Acc 49.28 %\n",
      "Epoch:190/200 AVG Training Loss:0.679 AVG Validation Loss:0.690 AVG Training Acc 55.35 % AVG Validation Acc 49.28 %\n",
      "Epoch:200/200 AVG Training Loss:0.680 AVG Validation Loss:0.690 AVG Training Acc 55.79 % AVG Validation Acc 48.92 %\n",
      "Split 7\n"
     ]
    },
    {
     "data": {
      "application/vnd.jupyter.widget-view+json": {
       "model_id": "08a54ad695b54f72aa80fc5d31628fb1",
       "version_major": 2,
       "version_minor": 0
      },
      "text/plain": [
       "  0%|          | 0/200 [00:00<?, ?it/s]"
      ]
     },
     "metadata": {},
     "output_type": "display_data"
    },
    {
     "name": "stdout",
     "output_type": "stream",
     "text": [
      "Epoch:10/200 AVG Training Loss:0.653 AVG Validation Loss:3.129 AVG Training Acc 66.02 % AVG Validation Acc 38.09 %\n",
      "Epoch:20/200 AVG Training Loss:0.643 AVG Validation Loss:3.615 AVG Training Acc 64.60 % AVG Validation Acc 38.09 %\n",
      "Epoch:30/200 AVG Training Loss:0.654 AVG Validation Loss:1.890 AVG Training Acc 63.81 % AVG Validation Acc 38.09 %\n",
      "Epoch:40/200 AVG Training Loss:0.677 AVG Validation Loss:1.655 AVG Training Acc 61.96 % AVG Validation Acc 38.09 %\n",
      "Epoch:50/200 AVG Training Loss:0.667 AVG Validation Loss:1.291 AVG Training Acc 60.98 % AVG Validation Acc 38.18 %\n",
      "Epoch:60/200 AVG Training Loss:0.669 AVG Validation Loss:1.231 AVG Training Acc 60.92 % AVG Validation Acc 38.09 %\n",
      "Epoch:70/200 AVG Training Loss:0.670 AVG Validation Loss:1.382 AVG Training Acc 61.25 % AVG Validation Acc 38.09 %\n",
      "Epoch    73: reducing learning rate of group 0 to 1.0000e-03.\n",
      "Epoch:80/200 AVG Training Loss:0.686 AVG Validation Loss:0.709 AVG Training Acc 53.54 % AVG Validation Acc 46.39 %\n",
      "Epoch:90/200 AVG Training Loss:0.685 AVG Validation Loss:0.708 AVG Training Acc 53.78 % AVG Validation Acc 46.48 %\n",
      "Epoch:100/200 AVG Training Loss:0.683 AVG Validation Loss:0.710 AVG Training Acc 54.03 % AVG Validation Acc 46.75 %\n",
      "Epoch   104: reducing learning rate of group 0 to 1.0000e-04.\n",
      "Epoch:110/200 AVG Training Loss:0.678 AVG Validation Loss:0.703 AVG Training Acc 55.35 % AVG Validation Acc 49.10 %\n",
      "Epoch:120/200 AVG Training Loss:0.678 AVG Validation Loss:0.699 AVG Training Acc 55.89 % AVG Validation Acc 49.55 %\n",
      "Epoch:130/200 AVG Training Loss:0.678 AVG Validation Loss:0.697 AVG Training Acc 55.60 % AVG Validation Acc 49.91 %\n",
      "Epoch:140/200 AVG Training Loss:0.678 AVG Validation Loss:0.695 AVG Training Acc 55.28 % AVG Validation Acc 50.54 %\n",
      "Epoch:150/200 AVG Training Loss:0.678 AVG Validation Loss:0.697 AVG Training Acc 55.65 % AVG Validation Acc 50.00 %\n",
      "Epoch   151: reducing learning rate of group 0 to 1.0000e-05.\n",
      "Epoch:160/200 AVG Training Loss:0.677 AVG Validation Loss:0.696 AVG Training Acc 55.47 % AVG Validation Acc 50.81 %\n",
      "Epoch:170/200 AVG Training Loss:0.676 AVG Validation Loss:0.696 AVG Training Acc 55.80 % AVG Validation Acc 50.81 %\n",
      "Epoch:180/200 AVG Training Loss:0.677 AVG Validation Loss:0.696 AVG Training Acc 55.48 % AVG Validation Acc 50.54 %\n",
      "Epoch   182: reducing learning rate of group 0 to 1.0000e-06.\n",
      "Epoch:190/200 AVG Training Loss:0.676 AVG Validation Loss:0.696 AVG Training Acc 55.71 % AVG Validation Acc 49.91 %\n",
      "Epoch:200/200 AVG Training Loss:0.676 AVG Validation Loss:0.696 AVG Training Acc 55.51 % AVG Validation Acc 50.72 %\n",
      "Split 8\n"
     ]
    },
    {
     "data": {
      "application/vnd.jupyter.widget-view+json": {
       "model_id": "df3e8a4dafad4e49b86d1e5e5d578706",
       "version_major": 2,
       "version_minor": 0
      },
      "text/plain": [
       "  0%|          | 0/200 [00:00<?, ?it/s]"
      ]
     },
     "metadata": {},
     "output_type": "display_data"
    },
    {
     "name": "stdout",
     "output_type": "stream",
     "text": [
      "Epoch:10/200 AVG Training Loss:0.669 AVG Validation Loss:2.020 AVG Training Acc 64.56 % AVG Validation Acc 38.09 %\n",
      "Epoch:20/200 AVG Training Loss:0.669 AVG Validation Loss:6.464 AVG Training Acc 65.01 % AVG Validation Acc 38.09 %\n",
      "Epoch:30/200 AVG Training Loss:0.664 AVG Validation Loss:3.136 AVG Training Acc 63.76 % AVG Validation Acc 38.09 %\n",
      "Epoch:40/200 AVG Training Loss:0.664 AVG Validation Loss:1.596 AVG Training Acc 62.79 % AVG Validation Acc 38.09 %\n",
      "Epoch:50/200 AVG Training Loss:0.656 AVG Validation Loss:8.643 AVG Training Acc 62.19 % AVG Validation Acc 38.09 %\n",
      "Epoch    51: reducing learning rate of group 0 to 1.0000e-03.\n",
      "Epoch:60/200 AVG Training Loss:0.692 AVG Validation Loss:0.730 AVG Training Acc 52.84 % AVG Validation Acc 39.53 %\n",
      "Epoch:70/200 AVG Training Loss:0.688 AVG Validation Loss:0.733 AVG Training Acc 53.08 % AVG Validation Acc 40.16 %\n",
      "Epoch:80/200 AVG Training Loss:0.687 AVG Validation Loss:0.731 AVG Training Acc 52.79 % AVG Validation Acc 40.70 %\n",
      "Epoch    82: reducing learning rate of group 0 to 1.0000e-04.\n",
      "Epoch:90/200 AVG Training Loss:0.685 AVG Validation Loss:0.704 AVG Training Acc 54.45 % AVG Validation Acc 46.30 %\n",
      "Epoch:100/200 AVG Training Loss:0.682 AVG Validation Loss:0.698 AVG Training Acc 55.01 % AVG Validation Acc 48.29 %\n",
      "Epoch:110/200 AVG Training Loss:0.682 AVG Validation Loss:0.698 AVG Training Acc 54.73 % AVG Validation Acc 48.83 %\n",
      "Epoch:120/200 AVG Training Loss:0.682 AVG Validation Loss:0.698 AVG Training Acc 55.05 % AVG Validation Acc 49.01 %\n",
      "Epoch   120: reducing learning rate of group 0 to 1.0000e-05.\n",
      "Epoch:130/200 AVG Training Loss:0.682 AVG Validation Loss:0.697 AVG Training Acc 54.76 % AVG Validation Acc 49.46 %\n",
      "Epoch:140/200 AVG Training Loss:0.681 AVG Validation Loss:0.697 AVG Training Acc 55.13 % AVG Validation Acc 49.28 %\n",
      "Epoch:150/200 AVG Training Loss:0.681 AVG Validation Loss:0.696 AVG Training Acc 55.08 % AVG Validation Acc 49.46 %\n",
      "Epoch:160/200 AVG Training Loss:0.681 AVG Validation Loss:0.696 AVG Training Acc 54.86 % AVG Validation Acc 49.46 %\n",
      "Epoch:170/200 AVG Training Loss:0.680 AVG Validation Loss:0.696 AVG Training Acc 55.38 % AVG Validation Acc 49.64 %\n",
      "Epoch:180/200 AVG Training Loss:0.681 AVG Validation Loss:0.696 AVG Training Acc 55.23 % AVG Validation Acc 49.73 %\n",
      "Epoch:190/200 AVG Training Loss:0.681 AVG Validation Loss:0.696 AVG Training Acc 55.09 % AVG Validation Acc 49.91 %\n",
      "Epoch   193: reducing learning rate of group 0 to 1.0000e-06.\n",
      "Epoch:200/200 AVG Training Loss:0.681 AVG Validation Loss:0.696 AVG Training Acc 55.33 % AVG Validation Acc 49.73 %\n",
      "Split 9\n"
     ]
    },
    {
     "data": {
      "application/vnd.jupyter.widget-view+json": {
       "model_id": "67019454129740d9a072b3df52a8773f",
       "version_major": 2,
       "version_minor": 0
      },
      "text/plain": [
       "  0%|          | 0/200 [00:00<?, ?it/s]"
      ]
     },
     "metadata": {},
     "output_type": "display_data"
    },
    {
     "name": "stdout",
     "output_type": "stream",
     "text": [
      "Epoch:10/200 AVG Training Loss:0.646 AVG Validation Loss:3.130 AVG Training Acc 65.35 % AVG Validation Acc 38.09 %\n",
      "Epoch:20/200 AVG Training Loss:0.666 AVG Validation Loss:2.049 AVG Training Acc 64.36 % AVG Validation Acc 38.09 %\n",
      "Epoch:30/200 AVG Training Loss:0.640 AVG Validation Loss:3.019 AVG Training Acc 64.72 % AVG Validation Acc 38.09 %\n",
      "Epoch    32: reducing learning rate of group 0 to 1.0000e-03.\n",
      "Epoch:40/200 AVG Training Loss:0.696 AVG Validation Loss:0.823 AVG Training Acc 55.05 % AVG Validation Acc 38.81 %\n",
      "Epoch:50/200 AVG Training Loss:0.684 AVG Validation Loss:0.827 AVG Training Acc 54.73 % AVG Validation Acc 39.08 %\n",
      "Epoch:60/200 AVG Training Loss:0.678 AVG Validation Loss:0.839 AVG Training Acc 57.98 % AVG Validation Acc 39.89 %\n",
      "Epoch    63: reducing learning rate of group 0 to 1.0000e-04.\n",
      "Epoch:70/200 AVG Training Loss:0.686 AVG Validation Loss:0.703 AVG Training Acc 55.13 % AVG Validation Acc 45.85 %\n",
      "Epoch:80/200 AVG Training Loss:0.684 AVG Validation Loss:0.697 AVG Training Acc 54.82 % AVG Validation Acc 47.56 %\n",
      "Epoch:90/200 AVG Training Loss:0.684 AVG Validation Loss:0.696 AVG Training Acc 55.00 % AVG Validation Acc 47.83 %\n",
      "Epoch    94: reducing learning rate of group 0 to 1.0000e-05.\n",
      "Epoch:100/200 AVG Training Loss:0.682 AVG Validation Loss:0.696 AVG Training Acc 55.46 % AVG Validation Acc 48.56 %\n",
      "Epoch:110/200 AVG Training Loss:0.682 AVG Validation Loss:0.694 AVG Training Acc 55.51 % AVG Validation Acc 48.92 %\n",
      "Epoch:120/200 AVG Training Loss:0.682 AVG Validation Loss:0.694 AVG Training Acc 55.37 % AVG Validation Acc 48.83 %\n",
      "Epoch:130/200 AVG Training Loss:0.683 AVG Validation Loss:0.693 AVG Training Acc 55.23 % AVG Validation Acc 49.37 %\n",
      "Epoch:140/200 AVG Training Loss:0.682 AVG Validation Loss:0.693 AVG Training Acc 55.50 % AVG Validation Acc 49.73 %\n",
      "Epoch:150/200 AVG Training Loss:0.682 AVG Validation Loss:0.693 AVG Training Acc 55.31 % AVG Validation Acc 49.37 %\n",
      "Epoch   157: reducing learning rate of group 0 to 1.0000e-06.\n",
      "Epoch:160/200 AVG Training Loss:0.681 AVG Validation Loss:0.692 AVG Training Acc 55.29 % AVG Validation Acc 49.73 %\n",
      "Epoch:170/200 AVG Training Loss:0.682 AVG Validation Loss:0.692 AVG Training Acc 55.71 % AVG Validation Acc 49.55 %\n",
      "Epoch:180/200 AVG Training Loss:0.683 AVG Validation Loss:0.692 AVG Training Acc 55.40 % AVG Validation Acc 49.73 %\n",
      "Epoch   188: reducing learning rate of group 0 to 1.0000e-07.\n",
      "Epoch:190/200 AVG Training Loss:0.682 AVG Validation Loss:0.692 AVG Training Acc 55.39 % AVG Validation Acc 49.82 %\n",
      "Epoch:200/200 AVG Training Loss:0.681 AVG Validation Loss:0.692 AVG Training Acc 55.41 % AVG Validation Acc 49.73 %\n",
      "Split 10\n"
     ]
    },
    {
     "data": {
      "application/vnd.jupyter.widget-view+json": {
       "model_id": "766140a631d14ee49e2f808427d2c886",
       "version_major": 2,
       "version_minor": 0
      },
      "text/plain": [
       "  0%|          | 0/200 [00:00<?, ?it/s]"
      ]
     },
     "metadata": {},
     "output_type": "display_data"
    },
    {
     "name": "stdout",
     "output_type": "stream",
     "text": [
      "Epoch:10/200 AVG Training Loss:0.647 AVG Validation Loss:2.629 AVG Training Acc 64.90 % AVG Validation Acc 38.09 %\n",
      "Epoch:20/200 AVG Training Loss:0.690 AVG Validation Loss:2.039 AVG Training Acc 64.75 % AVG Validation Acc 38.09 %\n",
      "Epoch:30/200 AVG Training Loss:0.727 AVG Validation Loss:2.194 AVG Training Acc 64.56 % AVG Validation Acc 38.09 %\n",
      "Epoch:40/200 AVG Training Loss:0.662 AVG Validation Loss:1.910 AVG Training Acc 63.07 % AVG Validation Acc 38.09 %\n",
      "Epoch    46: reducing learning rate of group 0 to 1.0000e-03.\n",
      "Epoch:50/200 AVG Training Loss:0.704 AVG Validation Loss:0.759 AVG Training Acc 50.15 % AVG Validation Acc 38.18 %\n",
      "Epoch:60/200 AVG Training Loss:0.690 AVG Validation Loss:0.735 AVG Training Acc 53.77 % AVG Validation Acc 43.86 %\n",
      "Epoch:70/200 AVG Training Loss:0.686 AVG Validation Loss:0.736 AVG Training Acc 54.41 % AVG Validation Acc 45.85 %\n",
      "Epoch:80/200 AVG Training Loss:0.685 AVG Validation Loss:0.728 AVG Training Acc 54.69 % AVG Validation Acc 46.75 %\n",
      "Epoch:90/200 AVG Training Loss:0.683 AVG Validation Loss:0.723 AVG Training Acc 55.21 % AVG Validation Acc 46.93 %\n",
      "Epoch:100/200 AVG Training Loss:0.683 AVG Validation Loss:0.720 AVG Training Acc 54.96 % AVG Validation Acc 46.93 %\n",
      "Epoch:110/200 AVG Training Loss:0.682 AVG Validation Loss:0.719 AVG Training Acc 55.39 % AVG Validation Acc 47.29 %\n",
      "Epoch:120/200 AVG Training Loss:0.681 AVG Validation Loss:0.716 AVG Training Acc 55.26 % AVG Validation Acc 47.74 %\n",
      "Epoch:130/200 AVG Training Loss:0.679 AVG Validation Loss:0.719 AVG Training Acc 56.11 % AVG Validation Acc 47.29 %\n",
      "Epoch   132: reducing learning rate of group 0 to 1.0000e-04.\n",
      "Epoch:140/200 AVG Training Loss:0.676 AVG Validation Loss:0.696 AVG Training Acc 56.93 % AVG Validation Acc 50.18 %\n",
      "Epoch:150/200 AVG Training Loss:0.677 AVG Validation Loss:0.692 AVG Training Acc 56.85 % AVG Validation Acc 50.18 %\n",
      "Epoch:160/200 AVG Training Loss:0.676 AVG Validation Loss:0.692 AVG Training Acc 56.66 % AVG Validation Acc 50.36 %\n",
      "Epoch:170/200 AVG Training Loss:0.675 AVG Validation Loss:0.695 AVG Training Acc 56.59 % AVG Validation Acc 50.45 %\n",
      "Epoch   170: reducing learning rate of group 0 to 1.0000e-05.\n",
      "Epoch:180/200 AVG Training Loss:0.675 AVG Validation Loss:0.694 AVG Training Acc 56.89 % AVG Validation Acc 50.00 %\n",
      "Epoch:190/200 AVG Training Loss:0.674 AVG Validation Loss:0.701 AVG Training Acc 56.90 % AVG Validation Acc 50.18 %\n",
      "Epoch:200/200 AVG Training Loss:0.675 AVG Validation Loss:0.697 AVG Training Acc 56.99 % AVG Validation Acc 50.36 %\n",
      "Split 11\n"
     ]
    },
    {
     "data": {
      "application/vnd.jupyter.widget-view+json": {
       "model_id": "837d64b1138e477daf1a108579fd3706",
       "version_major": 2,
       "version_minor": 0
      },
      "text/plain": [
       "  0%|          | 0/200 [00:00<?, ?it/s]"
      ]
     },
     "metadata": {},
     "output_type": "display_data"
    },
    {
     "name": "stdout",
     "output_type": "stream",
     "text": [
      "Epoch:10/200 AVG Training Loss:0.647 AVG Validation Loss:2.608 AVG Training Acc 65.31 % AVG Validation Acc 38.05 %\n",
      "Epoch:20/200 AVG Training Loss:0.650 AVG Validation Loss:3.037 AVG Training Acc 65.27 % AVG Validation Acc 38.05 %\n",
      "Epoch    25: reducing learning rate of group 0 to 1.0000e-03.\n",
      "Epoch:30/200 AVG Training Loss:0.693 AVG Validation Loss:0.815 AVG Training Acc 54.14 % AVG Validation Acc 38.05 %\n",
      "Epoch:40/200 AVG Training Loss:0.688 AVG Validation Loss:0.780 AVG Training Acc 54.69 % AVG Validation Acc 40.04 %\n",
      "Epoch:50/200 AVG Training Loss:0.686 AVG Validation Loss:0.766 AVG Training Acc 54.64 % AVG Validation Acc 40.67 %\n",
      "Epoch:60/200 AVG Training Loss:0.684 AVG Validation Loss:0.760 AVG Training Acc 54.70 % AVG Validation Acc 41.30 %\n",
      "Epoch:70/200 AVG Training Loss:0.681 AVG Validation Loss:0.758 AVG Training Acc 55.12 % AVG Validation Acc 41.21 %\n",
      "Epoch    77: reducing learning rate of group 0 to 1.0000e-04.\n",
      "Epoch:80/200 AVG Training Loss:0.686 AVG Validation Loss:0.724 AVG Training Acc 55.41 % AVG Validation Acc 45.00 %\n",
      "Epoch:90/200 AVG Training Loss:0.678 AVG Validation Loss:0.701 AVG Training Acc 56.44 % AVG Validation Acc 47.16 %\n",
      "Epoch:100/200 AVG Training Loss:0.677 AVG Validation Loss:0.700 AVG Training Acc 56.48 % AVG Validation Acc 46.89 %\n",
      "Epoch   108: reducing learning rate of group 0 to 1.0000e-05.\n",
      "Epoch:110/200 AVG Training Loss:0.675 AVG Validation Loss:0.699 AVG Training Acc 56.63 % AVG Validation Acc 47.07 %\n",
      "Epoch:120/200 AVG Training Loss:0.675 AVG Validation Loss:0.698 AVG Training Acc 56.76 % AVG Validation Acc 46.98 %\n",
      "Epoch:130/200 AVG Training Loss:0.676 AVG Validation Loss:0.698 AVG Training Acc 56.57 % AVG Validation Acc 47.07 %\n",
      "Epoch:140/200 AVG Training Loss:0.675 AVG Validation Loss:0.698 AVG Training Acc 56.66 % AVG Validation Acc 46.98 %\n",
      "Epoch:150/200 AVG Training Loss:0.676 AVG Validation Loss:0.697 AVG Training Acc 56.41 % AVG Validation Acc 46.89 %\n",
      "Epoch:160/200 AVG Training Loss:0.676 AVG Validation Loss:0.697 AVG Training Acc 56.53 % AVG Validation Acc 46.89 %\n",
      "Epoch:170/200 AVG Training Loss:0.674 AVG Validation Loss:0.697 AVG Training Acc 56.96 % AVG Validation Acc 47.16 %\n",
      "Epoch:180/200 AVG Training Loss:0.674 AVG Validation Loss:0.697 AVG Training Acc 56.75 % AVG Validation Acc 46.62 %\n",
      "Epoch   182: reducing learning rate of group 0 to 1.0000e-06.\n",
      "Epoch:190/200 AVG Training Loss:0.674 AVG Validation Loss:0.697 AVG Training Acc 56.78 % AVG Validation Acc 47.07 %\n",
      "Epoch:200/200 AVG Training Loss:0.674 AVG Validation Loss:0.697 AVG Training Acc 56.82 % AVG Validation Acc 46.80 %\n",
      "Split 12\n"
     ]
    },
    {
     "data": {
      "application/vnd.jupyter.widget-view+json": {
       "model_id": "d54f853e444d4407b86b82f7b3114cc7",
       "version_major": 2,
       "version_minor": 0
      },
      "text/plain": [
       "  0%|          | 0/200 [00:00<?, ?it/s]"
      ]
     },
     "metadata": {},
     "output_type": "display_data"
    },
    {
     "name": "stdout",
     "output_type": "stream",
     "text": [
      "Epoch:10/200 AVG Training Loss:0.642 AVG Validation Loss:3.211 AVG Training Acc 66.11 % AVG Validation Acc 38.14 %\n",
      "Epoch:20/200 AVG Training Loss:0.613 AVG Validation Loss:2.878 AVG Training Acc 65.13 % AVG Validation Acc 38.14 %\n",
      "Epoch:30/200 AVG Training Loss:0.644 AVG Validation Loss:2.801 AVG Training Acc 65.85 % AVG Validation Acc 38.14 %\n",
      "Epoch    30: reducing learning rate of group 0 to 1.0000e-03.\n",
      "Epoch:40/200 AVG Training Loss:0.686 AVG Validation Loss:0.860 AVG Training Acc 56.54 % AVG Validation Acc 38.23 %\n",
      "Epoch:50/200 AVG Training Loss:0.694 AVG Validation Loss:0.817 AVG Training Acc 55.04 % AVG Validation Acc 38.95 %\n",
      "Epoch:60/200 AVG Training Loss:0.690 AVG Validation Loss:0.852 AVG Training Acc 55.62 % AVG Validation Acc 39.77 %\n",
      "Epoch    61: reducing learning rate of group 0 to 1.0000e-04.\n",
      "Epoch:70/200 AVG Training Loss:0.690 AVG Validation Loss:0.697 AVG Training Acc 52.71 % AVG Validation Acc 47.88 %\n",
      "Epoch:80/200 AVG Training Loss:0.688 AVG Validation Loss:0.695 AVG Training Acc 53.47 % AVG Validation Acc 48.51 %\n",
      "Epoch:90/200 AVG Training Loss:0.689 AVG Validation Loss:0.694 AVG Training Acc 53.19 % AVG Validation Acc 49.50 %\n",
      "Epoch    99: reducing learning rate of group 0 to 1.0000e-05.\n",
      "Epoch:100/200 AVG Training Loss:0.687 AVG Validation Loss:0.693 AVG Training Acc 54.17 % AVG Validation Acc 48.87 %\n",
      "Epoch:110/200 AVG Training Loss:0.686 AVG Validation Loss:0.691 AVG Training Acc 54.30 % AVG Validation Acc 49.50 %\n",
      "Epoch:120/200 AVG Training Loss:0.687 AVG Validation Loss:0.689 AVG Training Acc 53.96 % AVG Validation Acc 49.77 %\n",
      "Epoch:130/200 AVG Training Loss:0.686 AVG Validation Loss:0.689 AVG Training Acc 53.84 % AVG Validation Acc 50.23 %\n",
      "Epoch:140/200 AVG Training Loss:0.686 AVG Validation Loss:0.689 AVG Training Acc 53.77 % AVG Validation Acc 50.68 %\n",
      "Epoch:150/200 AVG Training Loss:0.686 AVG Validation Loss:0.688 AVG Training Acc 54.23 % AVG Validation Acc 50.86 %\n",
      "Epoch:160/200 AVG Training Loss:0.685 AVG Validation Loss:0.688 AVG Training Acc 54.04 % AVG Validation Acc 50.77 %\n",
      "Epoch:170/200 AVG Training Loss:0.686 AVG Validation Loss:0.688 AVG Training Acc 54.17 % AVG Validation Acc 50.95 %\n",
      "Epoch:180/200 AVG Training Loss:0.686 AVG Validation Loss:0.688 AVG Training Acc 54.39 % AVG Validation Acc 51.04 %\n",
      "Epoch   185: reducing learning rate of group 0 to 1.0000e-06.\n",
      "Epoch:190/200 AVG Training Loss:0.685 AVG Validation Loss:0.688 AVG Training Acc 54.21 % AVG Validation Acc 51.22 %\n",
      "Epoch:200/200 AVG Training Loss:0.686 AVG Validation Loss:0.688 AVG Training Acc 53.80 % AVG Validation Acc 50.95 %\n",
      "Split 13\n"
     ]
    },
    {
     "data": {
      "application/vnd.jupyter.widget-view+json": {
       "model_id": "f71c90330c0f400a85e9b47a94a2b6f6",
       "version_major": 2,
       "version_minor": 0
      },
      "text/plain": [
       "  0%|          | 0/200 [00:00<?, ?it/s]"
      ]
     },
     "metadata": {},
     "output_type": "display_data"
    },
    {
     "name": "stdout",
     "output_type": "stream",
     "text": [
      "Epoch:10/200 AVG Training Loss:0.676 AVG Validation Loss:2.372 AVG Training Acc 64.79 % AVG Validation Acc 38.14 %\n",
      "Epoch:20/200 AVG Training Loss:0.661 AVG Validation Loss:2.493 AVG Training Acc 65.23 % AVG Validation Acc 38.14 %\n",
      "Epoch    21: reducing learning rate of group 0 to 1.0000e-03.\n",
      "Epoch:30/200 AVG Training Loss:0.691 AVG Validation Loss:0.737 AVG Training Acc 53.04 % AVG Validation Acc 40.94 %\n",
      "Epoch:40/200 AVG Training Loss:0.688 AVG Validation Loss:0.737 AVG Training Acc 54.23 % AVG Validation Acc 39.68 %\n",
      "Epoch:50/200 AVG Training Loss:0.683 AVG Validation Loss:0.736 AVG Training Acc 55.08 % AVG Validation Acc 41.66 %\n",
      "Epoch    56: reducing learning rate of group 0 to 1.0000e-04.\n",
      "Epoch:60/200 AVG Training Loss:0.684 AVG Validation Loss:0.702 AVG Training Acc 55.51 % AVG Validation Acc 49.23 %\n",
      "Epoch:70/200 AVG Training Loss:0.680 AVG Validation Loss:0.690 AVG Training Acc 55.80 % AVG Validation Acc 49.95 %\n",
      "Epoch:80/200 AVG Training Loss:0.679 AVG Validation Loss:0.688 AVG Training Acc 55.81 % AVG Validation Acc 50.05 %\n",
      "Epoch:90/200 AVG Training Loss:0.677 AVG Validation Loss:0.687 AVG Training Acc 55.81 % AVG Validation Acc 50.05 %\n",
      "Epoch:100/200 AVG Training Loss:0.678 AVG Validation Loss:0.687 AVG Training Acc 55.94 % AVG Validation Acc 49.95 %\n",
      "Epoch   101: reducing learning rate of group 0 to 1.0000e-05.\n",
      "Epoch:110/200 AVG Training Loss:0.677 AVG Validation Loss:0.686 AVG Training Acc 56.11 % AVG Validation Acc 49.95 %\n",
      "Epoch:120/200 AVG Training Loss:0.678 AVG Validation Loss:0.686 AVG Training Acc 56.07 % AVG Validation Acc 50.14 %\n",
      "Epoch:130/200 AVG Training Loss:0.678 AVG Validation Loss:0.685 AVG Training Acc 55.98 % AVG Validation Acc 50.32 %\n",
      "Epoch   137: reducing learning rate of group 0 to 1.0000e-06.\n",
      "Epoch:140/200 AVG Training Loss:0.677 AVG Validation Loss:0.685 AVG Training Acc 56.01 % AVG Validation Acc 50.23 %\n",
      "Epoch:150/200 AVG Training Loss:0.677 AVG Validation Loss:0.685 AVG Training Acc 56.01 % AVG Validation Acc 50.05 %\n",
      "Epoch:160/200 AVG Training Loss:0.677 AVG Validation Loss:0.685 AVG Training Acc 56.03 % AVG Validation Acc 50.23 %\n",
      "Epoch   168: reducing learning rate of group 0 to 1.0000e-07.\n",
      "Epoch:170/200 AVG Training Loss:0.677 AVG Validation Loss:0.685 AVG Training Acc 56.21 % AVG Validation Acc 50.32 %\n",
      "Epoch:180/200 AVG Training Loss:0.676 AVG Validation Loss:0.685 AVG Training Acc 56.11 % AVG Validation Acc 50.14 %\n",
      "Epoch:190/200 AVG Training Loss:0.677 AVG Validation Loss:0.685 AVG Training Acc 56.15 % AVG Validation Acc 50.14 %\n",
      "Epoch:200/200 AVG Training Loss:0.677 AVG Validation Loss:0.685 AVG Training Acc 56.05 % AVG Validation Acc 50.32 %\n",
      "Split 14\n"
     ]
    },
    {
     "data": {
      "application/vnd.jupyter.widget-view+json": {
       "model_id": "bd0f7739efad4fc386afd0ed1df28534",
       "version_major": 2,
       "version_minor": 0
      },
      "text/plain": [
       "  0%|          | 0/200 [00:00<?, ?it/s]"
      ]
     },
     "metadata": {},
     "output_type": "display_data"
    },
    {
     "name": "stdout",
     "output_type": "stream",
     "text": [
      "Epoch:10/200 AVG Training Loss:0.662 AVG Validation Loss:2.076 AVG Training Acc 64.30 % AVG Validation Acc 38.14 %\n",
      "Epoch:20/200 AVG Training Loss:0.654 AVG Validation Loss:2.968 AVG Training Acc 64.19 % AVG Validation Acc 38.14 %\n",
      "Epoch:30/200 AVG Training Loss:0.666 AVG Validation Loss:4.191 AVG Training Acc 61.98 % AVG Validation Acc 38.14 %\n",
      "Epoch:40/200 AVG Training Loss:0.672 AVG Validation Loss:1.274 AVG Training Acc 60.65 % AVG Validation Acc 38.14 %\n",
      "Epoch:50/200 AVG Training Loss:0.696 AVG Validation Loss:1.295 AVG Training Acc 61.09 % AVG Validation Acc 38.14 %\n",
      "Epoch    56: reducing learning rate of group 0 to 1.0000e-03.\n",
      "Epoch:60/200 AVG Training Loss:0.694 AVG Validation Loss:0.713 AVG Training Acc 54.10 % AVG Validation Acc 45.90 %\n",
      "Epoch:70/200 AVG Training Loss:0.687 AVG Validation Loss:0.703 AVG Training Acc 54.28 % AVG Validation Acc 47.07 %\n",
      "Epoch:80/200 AVG Training Loss:0.686 AVG Validation Loss:0.702 AVG Training Acc 54.41 % AVG Validation Acc 47.70 %\n",
      "Epoch:90/200 AVG Training Loss:0.685 AVG Validation Loss:0.702 AVG Training Acc 54.74 % AVG Validation Acc 48.15 %\n",
      "Epoch    91: reducing learning rate of group 0 to 1.0000e-04.\n",
      "Epoch:100/200 AVG Training Loss:0.682 AVG Validation Loss:0.688 AVG Training Acc 55.81 % AVG Validation Acc 50.14 %\n",
      "New Best Accuracy found: 52.12%\n",
      "Epoch: 107\n",
      "Epoch:110/200 AVG Training Loss:0.682 AVG Validation Loss:0.683 AVG Training Acc 55.79 % AVG Validation Acc 51.94 %\n",
      "New Best Accuracy found: 52.21%\n",
      "Epoch: 115\n",
      "Epoch:120/200 AVG Training Loss:0.681 AVG Validation Loss:0.682 AVG Training Acc 56.00 % AVG Validation Acc 52.12 %\n",
      "New Best Accuracy found: 52.39%\n",
      "Epoch: 121\n",
      "New Best Accuracy found: 52.57%\n",
      "Epoch: 126\n",
      "Epoch:130/200 AVG Training Loss:0.682 AVG Validation Loss:0.681 AVG Training Acc 55.66 % AVG Validation Acc 52.21 %\n",
      "New Best Accuracy found: 52.75%\n",
      "Epoch: 131\n",
      "New Best Accuracy found: 52.93%\n",
      "Epoch: 135\n",
      "Epoch:140/200 AVG Training Loss:0.681 AVG Validation Loss:0.681 AVG Training Acc 55.49 % AVG Validation Acc 52.48 %\n",
      "Epoch   146: reducing learning rate of group 0 to 1.0000e-05.\n",
      "Epoch:150/200 AVG Training Loss:0.681 AVG Validation Loss:0.681 AVG Training Acc 56.06 % AVG Validation Acc 52.39 %\n",
      "Epoch:160/200 AVG Training Loss:0.680 AVG Validation Loss:0.681 AVG Training Acc 56.28 % AVG Validation Acc 52.48 %\n",
      "Epoch:170/200 AVG Training Loss:0.681 AVG Validation Loss:0.680 AVG Training Acc 55.68 % AVG Validation Acc 52.48 %\n",
      "Epoch:180/200 AVG Training Loss:0.680 AVG Validation Loss:0.680 AVG Training Acc 56.27 % AVG Validation Acc 52.30 %\n",
      "Epoch:190/200 AVG Training Loss:0.680 AVG Validation Loss:0.680 AVG Training Acc 55.75 % AVG Validation Acc 52.21 %\n",
      "Epoch:200/200 AVG Training Loss:0.681 AVG Validation Loss:0.680 AVG Training Acc 55.94 % AVG Validation Acc 52.57 %\n",
      "Split 15\n"
     ]
    },
    {
     "data": {
      "application/vnd.jupyter.widget-view+json": {
       "model_id": "4686e60d20974087bf83a97f8f3ca5c9",
       "version_major": 2,
       "version_minor": 0
      },
      "text/plain": [
       "  0%|          | 0/200 [00:00<?, ?it/s]"
      ]
     },
     "metadata": {},
     "output_type": "display_data"
    },
    {
     "name": "stdout",
     "output_type": "stream",
     "text": [
      "Epoch:10/200 AVG Training Loss:0.649 AVG Validation Loss:5.249 AVG Training Acc 65.95 % AVG Validation Acc 38.14 %\n",
      "Epoch:20/200 AVG Training Loss:0.659 AVG Validation Loss:5.185 AVG Training Acc 64.45 % AVG Validation Acc 38.14 %\n",
      "Epoch:30/200 AVG Training Loss:0.660 AVG Validation Loss:2.519 AVG Training Acc 62.54 % AVG Validation Acc 38.14 %\n",
      "Epoch:40/200 AVG Training Loss:0.714 AVG Validation Loss:3.447 AVG Training Acc 63.49 % AVG Validation Acc 38.14 %\n",
      "Epoch:50/200 AVG Training Loss:0.666 AVG Validation Loss:3.873 AVG Training Acc 60.43 % AVG Validation Acc 38.05 %\n",
      "Epoch:60/200 AVG Training Loss:0.670 AVG Validation Loss:1.214 AVG Training Acc 60.40 % AVG Validation Acc 38.05 %\n",
      "Epoch:70/200 AVG Training Loss:0.670 AVG Validation Loss:1.205 AVG Training Acc 60.36 % AVG Validation Acc 38.14 %\n",
      "Epoch    78: reducing learning rate of group 0 to 1.0000e-03.\n",
      "Epoch:80/200 AVG Training Loss:0.749 AVG Validation Loss:0.778 AVG Training Acc 50.24 % AVG Validation Acc 38.05 %\n",
      "Epoch:90/200 AVG Training Loss:0.687 AVG Validation Loss:0.714 AVG Training Acc 53.55 % AVG Validation Acc 44.45 %\n",
      "Epoch:100/200 AVG Training Loss:0.686 AVG Validation Loss:0.717 AVG Training Acc 54.17 % AVG Validation Acc 45.18 %\n",
      "Epoch   109: reducing learning rate of group 0 to 1.0000e-04.\n",
      "Epoch:110/200 AVG Training Loss:0.684 AVG Validation Loss:0.716 AVG Training Acc 54.98 % AVG Validation Acc 45.54 %\n",
      "Epoch:120/200 AVG Training Loss:0.680 AVG Validation Loss:0.706 AVG Training Acc 55.40 % AVG Validation Acc 47.25 %\n",
      "Epoch:130/200 AVG Training Loss:0.680 AVG Validation Loss:0.703 AVG Training Acc 55.75 % AVG Validation Acc 47.97 %\n",
      "Epoch:140/200 AVG Training Loss:0.681 AVG Validation Loss:0.702 AVG Training Acc 55.72 % AVG Validation Acc 48.60 %\n",
      "Epoch:150/200 AVG Training Loss:0.681 AVG Validation Loss:0.703 AVG Training Acc 55.77 % AVG Validation Acc 48.60 %\n",
      "Epoch   151: reducing learning rate of group 0 to 1.0000e-05.\n",
      "Epoch:160/200 AVG Training Loss:0.680 AVG Validation Loss:0.702 AVG Training Acc 55.94 % AVG Validation Acc 48.42 %\n",
      "Epoch:170/200 AVG Training Loss:0.679 AVG Validation Loss:0.702 AVG Training Acc 55.79 % AVG Validation Acc 48.69 %\n",
      "Epoch:180/200 AVG Training Loss:0.679 AVG Validation Loss:0.702 AVG Training Acc 56.24 % AVG Validation Acc 48.87 %\n",
      "Epoch   182: reducing learning rate of group 0 to 1.0000e-06.\n",
      "Epoch:190/200 AVG Training Loss:0.679 AVG Validation Loss:0.703 AVG Training Acc 56.02 % AVG Validation Acc 48.69 %\n",
      "Epoch:200/200 AVG Training Loss:0.680 AVG Validation Loss:0.702 AVG Training Acc 55.94 % AVG Validation Acc 48.51 %\n",
      "Split 16\n"
     ]
    },
    {
     "data": {
      "application/vnd.jupyter.widget-view+json": {
       "model_id": "cc71cf0e062e4e23a7c10eed2d850626",
       "version_major": 2,
       "version_minor": 0
      },
      "text/plain": [
       "  0%|          | 0/200 [00:00<?, ?it/s]"
      ]
     },
     "metadata": {},
     "output_type": "display_data"
    },
    {
     "name": "stdout",
     "output_type": "stream",
     "text": [
      "Epoch:10/200 AVG Training Loss:0.655 AVG Validation Loss:2.837 AVG Training Acc 64.17 % AVG Validation Acc 38.09 %\n",
      "Epoch:20/200 AVG Training Loss:0.695 AVG Validation Loss:1.884 AVG Training Acc 63.13 % AVG Validation Acc 38.09 %\n",
      "Epoch    28: reducing learning rate of group 0 to 1.0000e-03.\n",
      "Epoch:30/200 AVG Training Loss:0.734 AVG Validation Loss:0.757 AVG Training Acc 48.58 % AVG Validation Acc 38.00 %\n",
      "Epoch:40/200 AVG Training Loss:0.696 AVG Validation Loss:0.727 AVG Training Acc 50.88 % AVG Validation Acc 38.45 %\n",
      "Epoch:50/200 AVG Training Loss:0.692 AVG Validation Loss:0.726 AVG Training Acc 52.23 % AVG Validation Acc 39.62 %\n",
      "Epoch:60/200 AVG Training Loss:0.687 AVG Validation Loss:0.725 AVG Training Acc 53.85 % AVG Validation Acc 40.79 %\n",
      "Epoch    68: reducing learning rate of group 0 to 1.0000e-04.\n",
      "Epoch:70/200 AVG Training Loss:0.690 AVG Validation Loss:0.716 AVG Training Acc 53.18 % AVG Validation Acc 44.95 %\n",
      "Epoch:80/200 AVG Training Loss:0.683 AVG Validation Loss:0.694 AVG Training Acc 55.09 % AVG Validation Acc 50.09 %\n",
      "Epoch:90/200 AVG Training Loss:0.682 AVG Validation Loss:0.693 AVG Training Acc 55.26 % AVG Validation Acc 49.64 %\n",
      "Epoch:100/200 AVG Training Loss:0.681 AVG Validation Loss:0.692 AVG Training Acc 55.47 % AVG Validation Acc 50.00 %\n",
      "Epoch   108: reducing learning rate of group 0 to 1.0000e-05.\n",
      "Epoch:110/200 AVG Training Loss:0.681 AVG Validation Loss:0.692 AVG Training Acc 55.68 % AVG Validation Acc 49.73 %\n",
      "Epoch:120/200 AVG Training Loss:0.681 AVG Validation Loss:0.692 AVG Training Acc 55.36 % AVG Validation Acc 49.55 %\n",
      "Epoch:130/200 AVG Training Loss:0.681 AVG Validation Loss:0.692 AVG Training Acc 55.60 % AVG Validation Acc 49.73 %\n",
      "Epoch   139: reducing learning rate of group 0 to 1.0000e-06.\n",
      "Epoch:140/200 AVG Training Loss:0.680 AVG Validation Loss:0.692 AVG Training Acc 55.77 % AVG Validation Acc 49.64 %\n",
      "Epoch:150/200 AVG Training Loss:0.679 AVG Validation Loss:0.692 AVG Training Acc 56.02 % AVG Validation Acc 49.82 %\n",
      "Epoch:160/200 AVG Training Loss:0.679 AVG Validation Loss:0.692 AVG Training Acc 55.84 % AVG Validation Acc 49.91 %\n",
      "Epoch:170/200 AVG Training Loss:0.680 AVG Validation Loss:0.692 AVG Training Acc 55.68 % AVG Validation Acc 49.82 %\n",
      "Epoch   170: reducing learning rate of group 0 to 1.0000e-07.\n",
      "Epoch:180/200 AVG Training Loss:0.680 AVG Validation Loss:0.692 AVG Training Acc 55.67 % AVG Validation Acc 49.64 %\n",
      "Epoch:190/200 AVG Training Loss:0.679 AVG Validation Loss:0.692 AVG Training Acc 55.56 % AVG Validation Acc 49.55 %\n",
      "Epoch:200/200 AVG Training Loss:0.680 AVG Validation Loss:0.692 AVG Training Acc 55.25 % AVG Validation Acc 49.73 %\n",
      "Split 17\n"
     ]
    },
    {
     "data": {
      "application/vnd.jupyter.widget-view+json": {
       "model_id": "6f2f402acebd4dbf8b3d678f0ed4b43f",
       "version_major": 2,
       "version_minor": 0
      },
      "text/plain": [
       "  0%|          | 0/200 [00:00<?, ?it/s]"
      ]
     },
     "metadata": {},
     "output_type": "display_data"
    },
    {
     "name": "stdout",
     "output_type": "stream",
     "text": [
      "Epoch:10/200 AVG Training Loss:0.653 AVG Validation Loss:3.262 AVG Training Acc 65.66 % AVG Validation Acc 38.09 %\n",
      "Epoch:20/200 AVG Training Loss:0.644 AVG Validation Loss:5.029 AVG Training Acc 65.13 % AVG Validation Acc 38.09 %\n",
      "Epoch:30/200 AVG Training Loss:0.646 AVG Validation Loss:2.153 AVG Training Acc 63.09 % AVG Validation Acc 38.09 %\n",
      "Epoch:40/200 AVG Training Loss:0.665 AVG Validation Loss:4.055 AVG Training Acc 61.22 % AVG Validation Acc 38.09 %\n",
      "Epoch:50/200 AVG Training Loss:0.688 AVG Validation Loss:1.243 AVG Training Acc 60.87 % AVG Validation Acc 38.09 %\n",
      "Epoch:60/200 AVG Training Loss:0.676 AVG Validation Loss:1.194 AVG Training Acc 59.74 % AVG Validation Acc 38.09 %\n",
      "Epoch:70/200 AVG Training Loss:0.748 AVG Validation Loss:3.457 AVG Training Acc 61.83 % AVG Validation Acc 38.18 %\n",
      "Epoch    72: reducing learning rate of group 0 to 1.0000e-03.\n",
      "Epoch:80/200 AVG Training Loss:0.689 AVG Validation Loss:0.716 AVG Training Acc 52.75 % AVG Validation Acc 44.13 %\n",
      "Epoch:90/200 AVG Training Loss:0.687 AVG Validation Loss:0.717 AVG Training Acc 53.73 % AVG Validation Acc 45.40 %\n",
      "Epoch:100/200 AVG Training Loss:0.683 AVG Validation Loss:0.720 AVG Training Acc 54.63 % AVG Validation Acc 45.40 %\n",
      "Epoch   103: reducing learning rate of group 0 to 1.0000e-04.\n",
      "Epoch:110/200 AVG Training Loss:0.682 AVG Validation Loss:0.707 AVG Training Acc 55.81 % AVG Validation Acc 47.02 %\n",
      "Epoch:120/200 AVG Training Loss:0.680 AVG Validation Loss:0.702 AVG Training Acc 55.96 % AVG Validation Acc 48.56 %\n",
      "Epoch:130/200 AVG Training Loss:0.680 AVG Validation Loss:0.700 AVG Training Acc 55.48 % AVG Validation Acc 49.28 %\n",
      "Epoch:140/200 AVG Training Loss:0.680 AVG Validation Loss:0.699 AVG Training Acc 56.01 % AVG Validation Acc 49.64 %\n",
      "Epoch:150/200 AVG Training Loss:0.679 AVG Validation Loss:0.699 AVG Training Acc 55.86 % AVG Validation Acc 49.46 %\n",
      "Epoch   151: reducing learning rate of group 0 to 1.0000e-05.\n",
      "Epoch:160/200 AVG Training Loss:0.679 AVG Validation Loss:0.699 AVG Training Acc 56.35 % AVG Validation Acc 49.46 %\n",
      "Epoch:170/200 AVG Training Loss:0.679 AVG Validation Loss:0.699 AVG Training Acc 56.17 % AVG Validation Acc 49.55 %\n",
      "Epoch:180/200 AVG Training Loss:0.680 AVG Validation Loss:0.699 AVG Training Acc 56.32 % AVG Validation Acc 49.91 %\n",
      "Epoch   185: reducing learning rate of group 0 to 1.0000e-06.\n",
      "Epoch:190/200 AVG Training Loss:0.680 AVG Validation Loss:0.699 AVG Training Acc 56.13 % AVG Validation Acc 49.73 %\n",
      "Epoch:200/200 AVG Training Loss:0.679 AVG Validation Loss:0.699 AVG Training Acc 56.31 % AVG Validation Acc 50.00 %\n",
      "Split 18\n"
     ]
    },
    {
     "data": {
      "application/vnd.jupyter.widget-view+json": {
       "model_id": "90c79ff855c64f5d8352020eda2f2472",
       "version_major": 2,
       "version_minor": 0
      },
      "text/plain": [
       "  0%|          | 0/200 [00:00<?, ?it/s]"
      ]
     },
     "metadata": {},
     "output_type": "display_data"
    },
    {
     "name": "stdout",
     "output_type": "stream",
     "text": [
      "Epoch:10/200 AVG Training Loss:0.687 AVG Validation Loss:2.873 AVG Training Acc 65.32 % AVG Validation Acc 38.09 %\n",
      "Epoch:20/200 AVG Training Loss:0.660 AVG Validation Loss:1.671 AVG Training Acc 62.99 % AVG Validation Acc 38.09 %\n",
      "Epoch:30/200 AVG Training Loss:0.660 AVG Validation Loss:2.105 AVG Training Acc 64.04 % AVG Validation Acc 38.09 %\n",
      "Epoch    31: reducing learning rate of group 0 to 1.0000e-03.\n",
      "Epoch:40/200 AVG Training Loss:0.690 AVG Validation Loss:0.747 AVG Training Acc 53.37 % AVG Validation Acc 39.71 %\n",
      "Epoch:50/200 AVG Training Loss:0.689 AVG Validation Loss:0.743 AVG Training Acc 53.52 % AVG Validation Acc 40.97 %\n",
      "Epoch:60/200 AVG Training Loss:0.687 AVG Validation Loss:0.739 AVG Training Acc 53.55 % AVG Validation Acc 41.16 %\n",
      "Epoch:70/200 AVG Training Loss:0.686 AVG Validation Loss:0.737 AVG Training Acc 53.26 % AVG Validation Acc 40.97 %\n",
      "Epoch    79: reducing learning rate of group 0 to 1.0000e-04.\n",
      "Epoch:80/200 AVG Training Loss:0.692 AVG Validation Loss:0.726 AVG Training Acc 53.50 % AVG Validation Acc 42.69 %\n",
      "Epoch:90/200 AVG Training Loss:0.681 AVG Validation Loss:0.698 AVG Training Acc 54.99 % AVG Validation Acc 46.66 %\n",
      "Epoch:100/200 AVG Training Loss:0.680 AVG Validation Loss:0.695 AVG Training Acc 55.21 % AVG Validation Acc 47.20 %\n",
      "Epoch:110/200 AVG Training Loss:0.680 AVG Validation Loss:0.695 AVG Training Acc 55.40 % AVG Validation Acc 47.29 %\n",
      "Epoch:120/200 AVG Training Loss:0.679 AVG Validation Loss:0.695 AVG Training Acc 55.44 % AVG Validation Acc 47.20 %\n",
      "Epoch   120: reducing learning rate of group 0 to 1.0000e-05.\n",
      "Epoch:130/200 AVG Training Loss:0.679 AVG Validation Loss:0.694 AVG Training Acc 55.68 % AVG Validation Acc 47.74 %\n",
      "Epoch:140/200 AVG Training Loss:0.678 AVG Validation Loss:0.694 AVG Training Acc 55.73 % AVG Validation Acc 48.01 %\n",
      "Epoch:150/200 AVG Training Loss:0.679 AVG Validation Loss:0.693 AVG Training Acc 55.58 % AVG Validation Acc 48.10 %\n",
      "Epoch:160/200 AVG Training Loss:0.678 AVG Validation Loss:0.693 AVG Training Acc 55.85 % AVG Validation Acc 48.01 %\n",
      "Epoch:170/200 AVG Training Loss:0.678 AVG Validation Loss:0.693 AVG Training Acc 55.48 % AVG Validation Acc 47.74 %\n",
      "Epoch:180/200 AVG Training Loss:0.678 AVG Validation Loss:0.693 AVG Training Acc 55.26 % AVG Validation Acc 48.10 %\n",
      "Epoch:190/200 AVG Training Loss:0.678 AVG Validation Loss:0.693 AVG Training Acc 55.42 % AVG Validation Acc 48.29 %\n",
      "Epoch:200/200 AVG Training Loss:0.678 AVG Validation Loss:0.693 AVG Training Acc 55.57 % AVG Validation Acc 48.10 %\n",
      "Split 19\n"
     ]
    },
    {
     "data": {
      "application/vnd.jupyter.widget-view+json": {
       "model_id": "efdd3cb6dcf6455a9d6a68afcd193b65",
       "version_major": 2,
       "version_minor": 0
      },
      "text/plain": [
       "  0%|          | 0/200 [00:00<?, ?it/s]"
      ]
     },
     "metadata": {},
     "output_type": "display_data"
    },
    {
     "name": "stdout",
     "output_type": "stream",
     "text": [
      "Epoch:10/200 AVG Training Loss:0.663 AVG Validation Loss:3.108 AVG Training Acc 65.56 % AVG Validation Acc 38.09 %\n",
      "Epoch:20/200 AVG Training Loss:0.663 AVG Validation Loss:2.329 AVG Training Acc 64.97 % AVG Validation Acc 38.09 %\n",
      "Epoch:30/200 AVG Training Loss:0.691 AVG Validation Loss:4.710 AVG Training Acc 65.21 % AVG Validation Acc 38.09 %\n",
      "Epoch:40/200 AVG Training Loss:0.677 AVG Validation Loss:1.238 AVG Training Acc 60.10 % AVG Validation Acc 38.09 %\n",
      "Epoch:50/200 AVG Training Loss:0.677 AVG Validation Loss:1.212 AVG Training Acc 60.00 % AVG Validation Acc 38.09 %\n",
      "Epoch    59: reducing learning rate of group 0 to 1.0000e-03.\n",
      "Epoch:60/200 AVG Training Loss:0.943 AVG Validation Loss:0.903 AVG Training Acc 50.02 % AVG Validation Acc 38.09 %\n",
      "Epoch:70/200 AVG Training Loss:0.688 AVG Validation Loss:0.705 AVG Training Acc 53.98 % AVG Validation Acc 46.21 %\n",
      "Epoch:80/200 AVG Training Loss:0.687 AVG Validation Loss:0.705 AVG Training Acc 53.98 % AVG Validation Acc 46.03 %\n",
      "Epoch:90/200 AVG Training Loss:0.687 AVG Validation Loss:0.704 AVG Training Acc 54.41 % AVG Validation Acc 46.48 %\n",
      "Epoch:100/200 AVG Training Loss:0.687 AVG Validation Loss:0.704 AVG Training Acc 54.19 % AVG Validation Acc 46.57 %\n",
      "Epoch:110/200 AVG Training Loss:0.686 AVG Validation Loss:0.703 AVG Training Acc 54.24 % AVG Validation Acc 46.93 %\n",
      "Epoch   112: reducing learning rate of group 0 to 1.0000e-04.\n",
      "Epoch:120/200 AVG Training Loss:0.683 AVG Validation Loss:0.692 AVG Training Acc 56.09 % AVG Validation Acc 50.72 %\n",
      "Epoch:130/200 AVG Training Loss:0.682 AVG Validation Loss:0.687 AVG Training Acc 55.85 % AVG Validation Acc 51.81 %\n",
      "New Best Accuracy found: 52.98%\n",
      "Epoch: 139\n",
      "Epoch:140/200 AVG Training Loss:0.683 AVG Validation Loss:0.686 AVG Training Acc 56.00 % AVG Validation Acc 52.71 %\n",
      "New Best Accuracy found: 53.07%\n",
      "Epoch: 141\n",
      "Epoch:150/200 AVG Training Loss:0.682 AVG Validation Loss:0.685 AVG Training Acc 55.72 % AVG Validation Acc 52.98 %\n",
      "New Best Accuracy found: 53.16%\n",
      "Epoch: 157\n",
      "Epoch:160/200 AVG Training Loss:0.682 AVG Validation Loss:0.685 AVG Training Acc 55.14 % AVG Validation Acc 52.71 %\n",
      "Epoch:170/200 AVG Training Loss:0.682 AVG Validation Loss:0.685 AVG Training Acc 56.00 % AVG Validation Acc 52.80 %\n",
      "Epoch   173: reducing learning rate of group 0 to 1.0000e-05.\n",
      "Epoch:180/200 AVG Training Loss:0.682 AVG Validation Loss:0.685 AVG Training Acc 56.09 % AVG Validation Acc 52.98 %\n",
      "Epoch:190/200 AVG Training Loss:0.683 AVG Validation Loss:0.684 AVG Training Acc 56.02 % AVG Validation Acc 53.07 %\n",
      "Epoch:200/200 AVG Training Loss:0.682 AVG Validation Loss:0.684 AVG Training Acc 56.06 % AVG Validation Acc 52.98 %\n",
      "Split 20\n"
     ]
    },
    {
     "data": {
      "application/vnd.jupyter.widget-view+json": {
       "model_id": "ace14a799bc24ceeba059e3d42386afe",
       "version_major": 2,
       "version_minor": 0
      },
      "text/plain": [
       "  0%|          | 0/200 [00:00<?, ?it/s]"
      ]
     },
     "metadata": {},
     "output_type": "display_data"
    },
    {
     "name": "stdout",
     "output_type": "stream",
     "text": [
      "Epoch:10/200 AVG Training Loss:0.636 AVG Validation Loss:2.969 AVG Training Acc 65.68 % AVG Validation Acc 38.09 %\n",
      "Epoch:20/200 AVG Training Loss:0.666 AVG Validation Loss:1.655 AVG Training Acc 63.14 % AVG Validation Acc 38.09 %\n",
      "Epoch:30/200 AVG Training Loss:0.664 AVG Validation Loss:1.397 AVG Training Acc 61.80 % AVG Validation Acc 38.09 %\n",
      "Epoch:40/200 AVG Training Loss:0.669 AVG Validation Loss:1.363 AVG Training Acc 60.53 % AVG Validation Acc 38.09 %\n",
      "Epoch:50/200 AVG Training Loss:0.669 AVG Validation Loss:1.224 AVG Training Acc 60.51 % AVG Validation Acc 38.09 %\n",
      "Epoch    53: reducing learning rate of group 0 to 1.0000e-03.\n",
      "Epoch:60/200 AVG Training Loss:0.683 AVG Validation Loss:0.700 AVG Training Acc 54.21 % AVG Validation Acc 47.83 %\n",
      "Epoch:70/200 AVG Training Loss:0.680 AVG Validation Loss:0.699 AVG Training Acc 54.76 % AVG Validation Acc 48.10 %\n",
      "Epoch:80/200 AVG Training Loss:0.677 AVG Validation Loss:0.701 AVG Training Acc 54.95 % AVG Validation Acc 47.83 %\n",
      "Epoch    84: reducing learning rate of group 0 to 1.0000e-04.\n",
      "Epoch:90/200 AVG Training Loss:0.674 AVG Validation Loss:0.694 AVG Training Acc 55.86 % AVG Validation Acc 48.92 %\n",
      "Epoch:100/200 AVG Training Loss:0.673 AVG Validation Loss:0.690 AVG Training Acc 55.94 % AVG Validation Acc 49.37 %\n",
      "Epoch:110/200 AVG Training Loss:0.672 AVG Validation Loss:0.688 AVG Training Acc 55.60 % AVG Validation Acc 49.82 %\n",
      "Epoch:120/200 AVG Training Loss:0.673 AVG Validation Loss:0.688 AVG Training Acc 55.80 % AVG Validation Acc 49.82 %\n",
      "Epoch:130/200 AVG Training Loss:0.672 AVG Validation Loss:0.686 AVG Training Acc 55.97 % AVG Validation Acc 50.09 %\n",
      "Epoch:140/200 AVG Training Loss:0.672 AVG Validation Loss:0.686 AVG Training Acc 55.76 % AVG Validation Acc 49.91 %\n",
      "Epoch:150/200 AVG Training Loss:0.671 AVG Validation Loss:0.687 AVG Training Acc 55.93 % AVG Validation Acc 50.00 %\n",
      "Epoch   150: reducing learning rate of group 0 to 1.0000e-05.\n",
      "Epoch:160/200 AVG Training Loss:0.671 AVG Validation Loss:0.685 AVG Training Acc 56.19 % AVG Validation Acc 50.27 %\n",
      "Epoch:170/200 AVG Training Loss:0.671 AVG Validation Loss:0.686 AVG Training Acc 56.02 % AVG Validation Acc 49.55 %\n",
      "Epoch:180/200 AVG Training Loss:0.670 AVG Validation Loss:0.687 AVG Training Acc 56.32 % AVG Validation Acc 49.91 %\n",
      "Epoch   181: reducing learning rate of group 0 to 1.0000e-06.\n",
      "Epoch:190/200 AVG Training Loss:0.670 AVG Validation Loss:0.686 AVG Training Acc 56.42 % AVG Validation Acc 49.91 %\n",
      "Epoch:200/200 AVG Training Loss:0.670 AVG Validation Loss:0.686 AVG Training Acc 55.91 % AVG Validation Acc 49.91 %\n",
      "Split 21\n"
     ]
    },
    {
     "data": {
      "application/vnd.jupyter.widget-view+json": {
       "model_id": "d498a3bdd28545bbb81ee6d82c8ba439",
       "version_major": 2,
       "version_minor": 0
      },
      "text/plain": [
       "  0%|          | 0/200 [00:00<?, ?it/s]"
      ]
     },
     "metadata": {},
     "output_type": "display_data"
    },
    {
     "name": "stdout",
     "output_type": "stream",
     "text": [
      "Epoch:10/200 AVG Training Loss:0.665 AVG Validation Loss:2.424 AVG Training Acc 65.46 % AVG Validation Acc 38.05 %\n",
      "Epoch:20/200 AVG Training Loss:0.637 AVG Validation Loss:2.674 AVG Training Acc 64.82 % AVG Validation Acc 38.05 %\n",
      "Epoch    21: reducing learning rate of group 0 to 1.0000e-03.\n",
      "Epoch:30/200 AVG Training Loss:0.678 AVG Validation Loss:1.023 AVG Training Acc 58.79 % AVG Validation Acc 38.14 %\n",
      "Epoch:40/200 AVG Training Loss:0.679 AVG Validation Loss:1.074 AVG Training Acc 57.30 % AVG Validation Acc 38.23 %\n",
      "Epoch:50/200 AVG Training Loss:0.681 AVG Validation Loss:0.886 AVG Training Acc 54.30 % AVG Validation Acc 39.04 %\n",
      "Epoch    52: reducing learning rate of group 0 to 1.0000e-04.\n",
      "Epoch:60/200 AVG Training Loss:0.686 AVG Validation Loss:0.699 AVG Training Acc 54.78 % AVG Validation Acc 48.60 %\n",
      "Epoch:70/200 AVG Training Loss:0.683 AVG Validation Loss:0.696 AVG Training Acc 54.78 % AVG Validation Acc 48.15 %\n",
      "Epoch:80/200 AVG Training Loss:0.683 AVG Validation Loss:0.696 AVG Training Acc 55.05 % AVG Validation Acc 48.42 %\n",
      "Epoch:90/200 AVG Training Loss:0.682 AVG Validation Loss:0.695 AVG Training Acc 55.46 % AVG Validation Acc 48.78 %\n",
      "Epoch:100/200 AVG Training Loss:0.681 AVG Validation Loss:0.696 AVG Training Acc 55.33 % AVG Validation Acc 48.06 %\n",
      "Epoch   105: reducing learning rate of group 0 to 1.0000e-05.\n",
      "Epoch:110/200 AVG Training Loss:0.681 AVG Validation Loss:0.694 AVG Training Acc 56.02 % AVG Validation Acc 48.33 %\n",
      "Epoch:120/200 AVG Training Loss:0.679 AVG Validation Loss:0.691 AVG Training Acc 56.14 % AVG Validation Acc 48.87 %\n",
      "Epoch:130/200 AVG Training Loss:0.680 AVG Validation Loss:0.690 AVG Training Acc 56.04 % AVG Validation Acc 49.05 %\n",
      "Epoch:140/200 AVG Training Loss:0.679 AVG Validation Loss:0.689 AVG Training Acc 55.94 % AVG Validation Acc 49.86 %\n",
      "Epoch   143: reducing learning rate of group 0 to 1.0000e-06.\n",
      "Epoch:150/200 AVG Training Loss:0.679 AVG Validation Loss:0.689 AVG Training Acc 55.98 % AVG Validation Acc 49.23 %\n",
      "Epoch:160/200 AVG Training Loss:0.679 AVG Validation Loss:0.689 AVG Training Acc 56.28 % AVG Validation Acc 48.96 %\n",
      "Epoch:170/200 AVG Training Loss:0.679 AVG Validation Loss:0.689 AVG Training Acc 56.41 % AVG Validation Acc 49.32 %\n",
      "Epoch   175: reducing learning rate of group 0 to 1.0000e-07.\n",
      "Epoch:180/200 AVG Training Loss:0.679 AVG Validation Loss:0.689 AVG Training Acc 56.24 % AVG Validation Acc 49.23 %\n",
      "Epoch:190/200 AVG Training Loss:0.679 AVG Validation Loss:0.689 AVG Training Acc 56.11 % AVG Validation Acc 49.32 %\n",
      "Epoch:200/200 AVG Training Loss:0.678 AVG Validation Loss:0.689 AVG Training Acc 56.33 % AVG Validation Acc 49.50 %\n",
      "Split 22\n"
     ]
    },
    {
     "data": {
      "application/vnd.jupyter.widget-view+json": {
       "model_id": "0213b2cbc1db4c2f89120e17bfdb7752",
       "version_major": 2,
       "version_minor": 0
      },
      "text/plain": [
       "  0%|          | 0/200 [00:00<?, ?it/s]"
      ]
     },
     "metadata": {},
     "output_type": "display_data"
    },
    {
     "name": "stdout",
     "output_type": "stream",
     "text": [
      "Epoch:10/200 AVG Training Loss:0.652 AVG Validation Loss:2.750 AVG Training Acc 66.04 % AVG Validation Acc 38.14 %\n",
      "Epoch:20/200 AVG Training Loss:0.662 AVG Validation Loss:2.374 AVG Training Acc 64.56 % AVG Validation Acc 38.14 %\n",
      "Epoch:30/200 AVG Training Loss:0.863 AVG Validation Loss:2.876 AVG Training Acc 62.94 % AVG Validation Acc 38.14 %\n",
      "Epoch:40/200 AVG Training Loss:0.680 AVG Validation Loss:1.578 AVG Training Acc 63.73 % AVG Validation Acc 38.14 %\n",
      "Epoch:50/200 AVG Training Loss:0.663 AVG Validation Loss:1.735 AVG Training Acc 63.14 % AVG Validation Acc 38.14 %\n",
      "Epoch:60/200 AVG Training Loss:0.638 AVG Validation Loss:5.018 AVG Training Acc 64.01 % AVG Validation Acc 38.14 %\n",
      "Epoch    66: reducing learning rate of group 0 to 1.0000e-03.\n",
      "Epoch:70/200 AVG Training Loss:0.697 AVG Validation Loss:0.721 AVG Training Acc 51.16 % AVG Validation Acc 41.21 %\n",
      "Epoch:80/200 AVG Training Loss:0.691 AVG Validation Loss:0.715 AVG Training Acc 52.30 % AVG Validation Acc 45.54 %\n",
      "Epoch:90/200 AVG Training Loss:0.688 AVG Validation Loss:0.712 AVG Training Acc 53.40 % AVG Validation Acc 46.80 %\n",
      "Epoch:100/200 AVG Training Loss:0.687 AVG Validation Loss:0.712 AVG Training Acc 53.85 % AVG Validation Acc 47.43 %\n",
      "Epoch:110/200 AVG Training Loss:0.685 AVG Validation Loss:0.712 AVG Training Acc 54.51 % AVG Validation Acc 46.80 %\n",
      "Epoch   118: reducing learning rate of group 0 to 1.0000e-04.\n",
      "Epoch:120/200 AVG Training Loss:0.684 AVG Validation Loss:0.707 AVG Training Acc 55.02 % AVG Validation Acc 47.61 %\n",
      "Epoch:130/200 AVG Training Loss:0.680 AVG Validation Loss:0.693 AVG Training Acc 55.93 % AVG Validation Acc 50.41 %\n",
      "Epoch:140/200 AVG Training Loss:0.680 AVG Validation Loss:0.690 AVG Training Acc 55.63 % AVG Validation Acc 50.77 %\n",
      "Epoch:150/200 AVG Training Loss:0.680 AVG Validation Loss:0.689 AVG Training Acc 55.45 % AVG Validation Acc 50.86 %\n",
      "Epoch:160/200 AVG Training Loss:0.680 AVG Validation Loss:0.689 AVG Training Acc 56.57 % AVG Validation Acc 50.59 %\n",
      "Epoch   160: reducing learning rate of group 0 to 1.0000e-05.\n",
      "Epoch:170/200 AVG Training Loss:0.679 AVG Validation Loss:0.689 AVG Training Acc 56.47 % AVG Validation Acc 50.50 %\n",
      "Epoch:180/200 AVG Training Loss:0.680 AVG Validation Loss:0.688 AVG Training Acc 56.32 % AVG Validation Acc 50.68 %\n",
      "Epoch:190/200 AVG Training Loss:0.679 AVG Validation Loss:0.688 AVG Training Acc 56.43 % AVG Validation Acc 50.32 %\n",
      "Epoch:200/200 AVG Training Loss:0.679 AVG Validation Loss:0.688 AVG Training Acc 56.16 % AVG Validation Acc 50.41 %\n",
      "Split 23\n"
     ]
    },
    {
     "data": {
      "application/vnd.jupyter.widget-view+json": {
       "model_id": "02e8f50d2f7142e1a4a25a720dbcadbc",
       "version_major": 2,
       "version_minor": 0
      },
      "text/plain": [
       "  0%|          | 0/200 [00:00<?, ?it/s]"
      ]
     },
     "metadata": {},
     "output_type": "display_data"
    },
    {
     "name": "stdout",
     "output_type": "stream",
     "text": [
      "Epoch:10/200 AVG Training Loss:0.656 AVG Validation Loss:2.100 AVG Training Acc 64.15 % AVG Validation Acc 38.14 %\n",
      "Epoch:20/200 AVG Training Loss:0.654 AVG Validation Loss:2.714 AVG Training Acc 64.30 % AVG Validation Acc 38.14 %\n",
      "Epoch:30/200 AVG Training Loss:0.660 AVG Validation Loss:1.609 AVG Training Acc 62.78 % AVG Validation Acc 38.14 %\n",
      "Epoch:40/200 AVG Training Loss:0.668 AVG Validation Loss:1.373 AVG Training Acc 61.75 % AVG Validation Acc 38.14 %\n",
      "Epoch:50/200 AVG Training Loss:0.671 AVG Validation Loss:1.239 AVG Training Acc 60.62 % AVG Validation Acc 38.14 %\n",
      "Epoch:60/200 AVG Training Loss:0.668 AVG Validation Loss:1.270 AVG Training Acc 61.01 % AVG Validation Acc 38.14 %\n",
      "Epoch    65: reducing learning rate of group 0 to 1.0000e-03.\n",
      "Epoch:70/200 AVG Training Loss:0.686 AVG Validation Loss:0.709 AVG Training Acc 54.51 % AVG Validation Acc 47.43 %\n",
      "Epoch:80/200 AVG Training Loss:0.681 AVG Validation Loss:0.707 AVG Training Acc 55.23 % AVG Validation Acc 47.34 %\n",
      "Epoch:90/200 AVG Training Loss:0.681 AVG Validation Loss:0.707 AVG Training Acc 55.00 % AVG Validation Acc 46.80 %\n",
      "Epoch:100/200 AVG Training Loss:0.680 AVG Validation Loss:0.708 AVG Training Acc 55.03 % AVG Validation Acc 47.34 %\n",
      "Epoch   103: reducing learning rate of group 0 to 1.0000e-04.\n",
      "Epoch:110/200 AVG Training Loss:0.678 AVG Validation Loss:0.698 AVG Training Acc 56.19 % AVG Validation Acc 48.96 %\n",
      "Epoch:120/200 AVG Training Loss:0.676 AVG Validation Loss:0.692 AVG Training Acc 56.66 % AVG Validation Acc 49.77 %\n",
      "Epoch:130/200 AVG Training Loss:0.676 AVG Validation Loss:0.690 AVG Training Acc 56.64 % AVG Validation Acc 50.14 %\n",
      "Epoch:140/200 AVG Training Loss:0.677 AVG Validation Loss:0.690 AVG Training Acc 56.65 % AVG Validation Acc 50.23 %\n",
      "Epoch:150/200 AVG Training Loss:0.676 AVG Validation Loss:0.690 AVG Training Acc 56.23 % AVG Validation Acc 50.23 %\n",
      "Epoch   152: reducing learning rate of group 0 to 1.0000e-05.\n",
      "Epoch:160/200 AVG Training Loss:0.675 AVG Validation Loss:0.690 AVG Training Acc 56.61 % AVG Validation Acc 50.32 %\n",
      "Epoch:170/200 AVG Training Loss:0.675 AVG Validation Loss:0.690 AVG Training Acc 57.17 % AVG Validation Acc 50.23 %\n",
      "Epoch:180/200 AVG Training Loss:0.675 AVG Validation Loss:0.690 AVG Training Acc 56.97 % AVG Validation Acc 49.95 %\n",
      "Epoch   183: reducing learning rate of group 0 to 1.0000e-06.\n",
      "Epoch:190/200 AVG Training Loss:0.674 AVG Validation Loss:0.690 AVG Training Acc 57.00 % AVG Validation Acc 50.32 %\n",
      "Epoch:200/200 AVG Training Loss:0.676 AVG Validation Loss:0.690 AVG Training Acc 56.97 % AVG Validation Acc 50.05 %\n",
      "Split 24\n"
     ]
    },
    {
     "data": {
      "application/vnd.jupyter.widget-view+json": {
       "model_id": "a32aa3626d4041db9d777d89962926f7",
       "version_major": 2,
       "version_minor": 0
      },
      "text/plain": [
       "  0%|          | 0/200 [00:00<?, ?it/s]"
      ]
     },
     "metadata": {},
     "output_type": "display_data"
    },
    {
     "name": "stdout",
     "output_type": "stream",
     "text": [
      "Epoch:10/200 AVG Training Loss:0.640 AVG Validation Loss:3.726 AVG Training Acc 65.49 % AVG Validation Acc 38.14 %\n",
      "Epoch:20/200 AVG Training Loss:0.673 AVG Validation Loss:1.356 AVG Training Acc 60.99 % AVG Validation Acc 38.14 %\n",
      "Epoch:30/200 AVG Training Loss:0.636 AVG Validation Loss:3.429 AVG Training Acc 63.94 % AVG Validation Acc 38.14 %\n",
      "Epoch    32: reducing learning rate of group 0 to 1.0000e-03.\n",
      "Epoch:40/200 AVG Training Loss:0.692 AVG Validation Loss:0.727 AVG Training Acc 52.01 % AVG Validation Acc 40.13 %\n",
      "Epoch:50/200 AVG Training Loss:0.689 AVG Validation Loss:0.727 AVG Training Acc 53.17 % AVG Validation Acc 40.76 %\n",
      "Epoch:60/200 AVG Training Loss:0.686 AVG Validation Loss:0.754 AVG Training Acc 54.77 % AVG Validation Acc 39.86 %\n",
      "Epoch    63: reducing learning rate of group 0 to 1.0000e-04.\n",
      "Epoch:70/200 AVG Training Loss:0.684 AVG Validation Loss:0.708 AVG Training Acc 54.84 % AVG Validation Acc 45.00 %\n",
      "Epoch:80/200 AVG Training Loss:0.681 AVG Validation Loss:0.700 AVG Training Acc 55.39 % AVG Validation Acc 46.35 %\n",
      "Epoch:90/200 AVG Training Loss:0.681 AVG Validation Loss:0.701 AVG Training Acc 55.52 % AVG Validation Acc 46.71 %\n",
      "Epoch    94: reducing learning rate of group 0 to 1.0000e-05.\n",
      "Epoch:100/200 AVG Training Loss:0.679 AVG Validation Loss:0.701 AVG Training Acc 56.20 % AVG Validation Acc 46.62 %\n",
      "Epoch:110/200 AVG Training Loss:0.681 AVG Validation Loss:0.701 AVG Training Acc 55.55 % AVG Validation Acc 46.89 %\n",
      "Epoch:120/200 AVG Training Loss:0.679 AVG Validation Loss:0.699 AVG Training Acc 55.86 % AVG Validation Acc 48.06 %\n",
      "Epoch   125: reducing learning rate of group 0 to 1.0000e-06.\n",
      "Epoch:130/200 AVG Training Loss:0.680 AVG Validation Loss:0.700 AVG Training Acc 55.93 % AVG Validation Acc 47.79 %\n",
      "Epoch:140/200 AVG Training Loss:0.679 AVG Validation Loss:0.699 AVG Training Acc 55.77 % AVG Validation Acc 47.52 %\n",
      "Epoch:150/200 AVG Training Loss:0.679 AVG Validation Loss:0.700 AVG Training Acc 56.13 % AVG Validation Acc 47.61 %\n",
      "Epoch   156: reducing learning rate of group 0 to 1.0000e-07.\n",
      "Epoch:160/200 AVG Training Loss:0.680 AVG Validation Loss:0.700 AVG Training Acc 55.69 % AVG Validation Acc 47.88 %\n",
      "Epoch:170/200 AVG Training Loss:0.680 AVG Validation Loss:0.699 AVG Training Acc 55.47 % AVG Validation Acc 47.88 %\n",
      "Epoch:180/200 AVG Training Loss:0.679 AVG Validation Loss:0.701 AVG Training Acc 56.08 % AVG Validation Acc 47.07 %\n",
      "Epoch   187: reducing learning rate of group 0 to 1.0000e-08.\n",
      "Epoch:190/200 AVG Training Loss:0.679 AVG Validation Loss:0.701 AVG Training Acc 56.08 % AVG Validation Acc 47.61 %\n",
      "Epoch:200/200 AVG Training Loss:0.679 AVG Validation Loss:0.700 AVG Training Acc 55.83 % AVG Validation Acc 47.52 %\n",
      "Split 25\n"
     ]
    },
    {
     "data": {
      "application/vnd.jupyter.widget-view+json": {
       "model_id": "d1bfffb753af456c9db0e48cdc63b917",
       "version_major": 2,
       "version_minor": 0
      },
      "text/plain": [
       "  0%|          | 0/200 [00:00<?, ?it/s]"
      ]
     },
     "metadata": {},
     "output_type": "display_data"
    },
    {
     "name": "stdout",
     "output_type": "stream",
     "text": [
      "Epoch:10/200 AVG Training Loss:0.647 AVG Validation Loss:4.779 AVG Training Acc 65.62 % AVG Validation Acc 38.14 %\n",
      "Epoch:20/200 AVG Training Loss:0.631 AVG Validation Loss:3.675 AVG Training Acc 64.41 % AVG Validation Acc 38.14 %\n",
      "Epoch    23: reducing learning rate of group 0 to 1.0000e-03.\n",
      "Epoch:30/200 AVG Training Loss:0.695 AVG Validation Loss:0.734 AVG Training Acc 52.69 % AVG Validation Acc 39.40 %\n",
      "Epoch:40/200 AVG Training Loss:0.697 AVG Validation Loss:0.740 AVG Training Acc 52.30 % AVG Validation Acc 38.86 %\n",
      "Epoch:50/200 AVG Training Loss:0.681 AVG Validation Loss:0.771 AVG Training Acc 56.71 % AVG Validation Acc 38.77 %\n",
      "Epoch    54: reducing learning rate of group 0 to 1.0000e-04.\n",
      "Epoch:60/200 AVG Training Loss:0.692 AVG Validation Loss:0.702 AVG Training Acc 51.82 % AVG Validation Acc 45.54 %\n",
      "Epoch:70/200 AVG Training Loss:0.689 AVG Validation Loss:0.699 AVG Training Acc 53.13 % AVG Validation Acc 46.62 %\n",
      "Epoch:80/200 AVG Training Loss:0.688 AVG Validation Loss:0.695 AVG Training Acc 54.49 % AVG Validation Acc 47.97 %\n",
      "Epoch:90/200 AVG Training Loss:0.686 AVG Validation Loss:0.693 AVG Training Acc 54.04 % AVG Validation Acc 48.42 %\n",
      "Epoch:100/200 AVG Training Loss:0.686 AVG Validation Loss:0.693 AVG Training Acc 54.03 % AVG Validation Acc 48.42 %\n",
      "Epoch   105: reducing learning rate of group 0 to 1.0000e-05.\n",
      "Epoch:110/200 AVG Training Loss:0.684 AVG Validation Loss:0.689 AVG Training Acc 55.42 % AVG Validation Acc 50.14 %\n",
      "Epoch:120/200 AVG Training Loss:0.684 AVG Validation Loss:0.688 AVG Training Acc 55.28 % AVG Validation Acc 50.59 %\n",
      "Epoch:130/200 AVG Training Loss:0.683 AVG Validation Loss:0.687 AVG Training Acc 55.47 % AVG Validation Acc 50.86 %\n",
      "Epoch   139: reducing learning rate of group 0 to 1.0000e-06.\n",
      "Epoch:140/200 AVG Training Loss:0.684 AVG Validation Loss:0.687 AVG Training Acc 55.68 % AVG Validation Acc 51.04 %\n",
      "Epoch:150/200 AVG Training Loss:0.683 AVG Validation Loss:0.687 AVG Training Acc 55.51 % AVG Validation Acc 51.31 %\n",
      "Epoch:160/200 AVG Training Loss:0.683 AVG Validation Loss:0.686 AVG Training Acc 56.03 % AVG Validation Acc 51.67 %\n",
      "Epoch:170/200 AVG Training Loss:0.683 AVG Validation Loss:0.687 AVG Training Acc 55.54 % AVG Validation Acc 50.77 %\n",
      "Epoch:180/200 AVG Training Loss:0.683 AVG Validation Loss:0.687 AVG Training Acc 55.83 % AVG Validation Acc 50.41 %\n",
      "Epoch   180: reducing learning rate of group 0 to 1.0000e-07.\n",
      "Epoch:190/200 AVG Training Loss:0.683 AVG Validation Loss:0.687 AVG Training Acc 55.55 % AVG Validation Acc 51.67 %\n",
      "Epoch:200/200 AVG Training Loss:0.683 AVG Validation Loss:0.686 AVG Training Acc 55.43 % AVG Validation Acc 51.04 %\n",
      "Split 26\n"
     ]
    },
    {
     "data": {
      "application/vnd.jupyter.widget-view+json": {
       "model_id": "4b007133400542619d683bb38c9a99b6",
       "version_major": 2,
       "version_minor": 0
      },
      "text/plain": [
       "  0%|          | 0/200 [00:00<?, ?it/s]"
      ]
     },
     "metadata": {},
     "output_type": "display_data"
    },
    {
     "name": "stdout",
     "output_type": "stream",
     "text": [
      "Epoch:10/200 AVG Training Loss:0.654 AVG Validation Loss:4.565 AVG Training Acc 65.16 % AVG Validation Acc 38.09 %\n",
      "Epoch    19: reducing learning rate of group 0 to 1.0000e-03.\n",
      "Epoch:20/200 AVG Training Loss:0.830 AVG Validation Loss:0.836 AVG Training Acc 55.45 % AVG Validation Acc 38.09 %\n",
      "Epoch:30/200 AVG Training Loss:0.691 AVG Validation Loss:0.898 AVG Training Acc 56.17 % AVG Validation Acc 38.18 %\n",
      "Epoch:40/200 AVG Training Loss:0.695 AVG Validation Loss:0.727 AVG Training Acc 51.72 % AVG Validation Acc 40.34 %\n",
      "Epoch:50/200 AVG Training Loss:0.691 AVG Validation Loss:0.724 AVG Training Acc 52.52 % AVG Validation Acc 41.06 %\n",
      "Epoch    55: reducing learning rate of group 0 to 1.0000e-04.\n",
      "Epoch:60/200 AVG Training Loss:0.689 AVG Validation Loss:0.703 AVG Training Acc 53.91 % AVG Validation Acc 46.30 %\n",
      "Epoch:70/200 AVG Training Loss:0.686 AVG Validation Loss:0.690 AVG Training Acc 54.81 % AVG Validation Acc 49.64 %\n",
      "Epoch:80/200 AVG Training Loss:0.685 AVG Validation Loss:0.689 AVG Training Acc 54.61 % AVG Validation Acc 50.18 %\n",
      "Epoch:90/200 AVG Training Loss:0.684 AVG Validation Loss:0.689 AVG Training Acc 55.06 % AVG Validation Acc 50.27 %\n",
      "Epoch    99: reducing learning rate of group 0 to 1.0000e-05.\n",
      "Epoch:100/200 AVG Training Loss:0.683 AVG Validation Loss:0.689 AVG Training Acc 55.14 % AVG Validation Acc 50.18 %\n",
      "Epoch:110/200 AVG Training Loss:0.683 AVG Validation Loss:0.689 AVG Training Acc 55.09 % AVG Validation Acc 50.27 %\n",
      "Epoch:120/200 AVG Training Loss:0.682 AVG Validation Loss:0.688 AVG Training Acc 55.65 % AVG Validation Acc 50.36 %\n",
      "Epoch:130/200 AVG Training Loss:0.683 AVG Validation Loss:0.688 AVG Training Acc 55.31 % AVG Validation Acc 50.63 %\n",
      "Epoch   136: reducing learning rate of group 0 to 1.0000e-06.\n",
      "Epoch:140/200 AVG Training Loss:0.683 AVG Validation Loss:0.687 AVG Training Acc 54.96 % AVG Validation Acc 50.54 %\n",
      "Epoch:150/200 AVG Training Loss:0.683 AVG Validation Loss:0.687 AVG Training Acc 55.04 % AVG Validation Acc 50.54 %\n",
      "Epoch:160/200 AVG Training Loss:0.684 AVG Validation Loss:0.688 AVG Training Acc 55.17 % AVG Validation Acc 50.63 %\n",
      "Epoch   167: reducing learning rate of group 0 to 1.0000e-07.\n",
      "Epoch:170/200 AVG Training Loss:0.683 AVG Validation Loss:0.688 AVG Training Acc 55.57 % AVG Validation Acc 50.27 %\n",
      "Epoch:180/200 AVG Training Loss:0.683 AVG Validation Loss:0.688 AVG Training Acc 55.40 % AVG Validation Acc 50.54 %\n",
      "Epoch:190/200 AVG Training Loss:0.682 AVG Validation Loss:0.688 AVG Training Acc 55.62 % AVG Validation Acc 50.72 %\n",
      "Epoch   198: reducing learning rate of group 0 to 1.0000e-08.\n",
      "Epoch:200/200 AVG Training Loss:0.682 AVG Validation Loss:0.688 AVG Training Acc 55.37 % AVG Validation Acc 50.45 %\n",
      "Split 27\n"
     ]
    },
    {
     "data": {
      "application/vnd.jupyter.widget-view+json": {
       "model_id": "b1064cd9757e4daa91e9d8ef742503b6",
       "version_major": 2,
       "version_minor": 0
      },
      "text/plain": [
       "  0%|          | 0/200 [00:00<?, ?it/s]"
      ]
     },
     "metadata": {},
     "output_type": "display_data"
    },
    {
     "name": "stdout",
     "output_type": "stream",
     "text": [
      "Epoch:10/200 AVG Training Loss:0.656 AVG Validation Loss:2.605 AVG Training Acc 64.90 % AVG Validation Acc 38.09 %\n",
      "Epoch:20/200 AVG Training Loss:0.675 AVG Validation Loss:1.279 AVG Training Acc 60.57 % AVG Validation Acc 38.09 %\n",
      "Epoch:30/200 AVG Training Loss:0.676 AVG Validation Loss:1.232 AVG Training Acc 60.21 % AVG Validation Acc 38.09 %\n",
      "Epoch:40/200 AVG Training Loss:0.664 AVG Validation Loss:1.640 AVG Training Acc 62.30 % AVG Validation Acc 38.09 %\n",
      "Epoch    42: reducing learning rate of group 0 to 1.0000e-03.\n",
      "Epoch:50/200 AVG Training Loss:0.692 AVG Validation Loss:0.730 AVG Training Acc 53.00 % AVG Validation Acc 42.06 %\n",
      "Epoch:60/200 AVG Training Loss:0.690 AVG Validation Loss:0.725 AVG Training Acc 53.11 % AVG Validation Acc 42.33 %\n",
      "Epoch:70/200 AVG Training Loss:0.687 AVG Validation Loss:0.722 AVG Training Acc 53.26 % AVG Validation Acc 43.41 %\n",
      "Epoch:80/200 AVG Training Loss:0.684 AVG Validation Loss:0.721 AVG Training Acc 53.85 % AVG Validation Acc 43.41 %\n",
      "Epoch    84: reducing learning rate of group 0 to 1.0000e-04.\n",
      "Epoch:90/200 AVG Training Loss:0.680 AVG Validation Loss:0.698 AVG Training Acc 55.51 % AVG Validation Acc 47.29 %\n",
      "Epoch:100/200 AVG Training Loss:0.679 AVG Validation Loss:0.692 AVG Training Acc 55.75 % AVG Validation Acc 47.92 %\n",
      "Epoch:110/200 AVG Training Loss:0.679 AVG Validation Loss:0.691 AVG Training Acc 55.88 % AVG Validation Acc 48.29 %\n",
      "Epoch:120/200 AVG Training Loss:0.679 AVG Validation Loss:0.691 AVG Training Acc 55.91 % AVG Validation Acc 48.74 %\n",
      "Epoch   127: reducing learning rate of group 0 to 1.0000e-05.\n",
      "Epoch:130/200 AVG Training Loss:0.678 AVG Validation Loss:0.691 AVG Training Acc 55.63 % AVG Validation Acc 48.65 %\n",
      "Epoch:140/200 AVG Training Loss:0.678 AVG Validation Loss:0.691 AVG Training Acc 55.66 % AVG Validation Acc 48.19 %\n",
      "Epoch:150/200 AVG Training Loss:0.678 AVG Validation Loss:0.691 AVG Training Acc 55.97 % AVG Validation Acc 48.65 %\n",
      "Epoch:160/200 AVG Training Loss:0.678 AVG Validation Loss:0.691 AVG Training Acc 55.83 % AVG Validation Acc 48.47 %\n",
      "Epoch   167: reducing learning rate of group 0 to 1.0000e-06.\n",
      "Epoch:170/200 AVG Training Loss:0.678 AVG Validation Loss:0.691 AVG Training Acc 55.89 % AVG Validation Acc 48.74 %\n",
      "Epoch:180/200 AVG Training Loss:0.678 AVG Validation Loss:0.690 AVG Training Acc 56.19 % AVG Validation Acc 48.56 %\n",
      "Epoch:190/200 AVG Training Loss:0.677 AVG Validation Loss:0.691 AVG Training Acc 55.89 % AVG Validation Acc 48.38 %\n",
      "Epoch   198: reducing learning rate of group 0 to 1.0000e-07.\n",
      "Epoch:200/200 AVG Training Loss:0.677 AVG Validation Loss:0.690 AVG Training Acc 55.98 % AVG Validation Acc 48.74 %\n",
      "Split 28\n"
     ]
    },
    {
     "data": {
      "application/vnd.jupyter.widget-view+json": {
       "model_id": "a5bf197463264d8a9f832c5b7a61dcb1",
       "version_major": 2,
       "version_minor": 0
      },
      "text/plain": [
       "  0%|          | 0/200 [00:00<?, ?it/s]"
      ]
     },
     "metadata": {},
     "output_type": "display_data"
    },
    {
     "name": "stdout",
     "output_type": "stream",
     "text": [
      "Epoch:10/200 AVG Training Loss:0.633 AVG Validation Loss:3.889 AVG Training Acc 65.34 % AVG Validation Acc 38.09 %\n",
      "Epoch:20/200 AVG Training Loss:0.675 AVG Validation Loss:4.657 AVG Training Acc 64.45 % AVG Validation Acc 38.09 %\n",
      "Epoch:30/200 AVG Training Loss:0.668 AVG Validation Loss:2.739 AVG Training Acc 60.87 % AVG Validation Acc 38.09 %\n",
      "Epoch:40/200 AVG Training Loss:0.675 AVG Validation Loss:1.278 AVG Training Acc 61.21 % AVG Validation Acc 38.09 %\n",
      "Epoch:50/200 AVG Training Loss:0.669 AVG Validation Loss:1.642 AVG Training Acc 60.57 % AVG Validation Acc 38.36 %\n",
      "Epoch    57: reducing learning rate of group 0 to 1.0000e-03.\n",
      "Epoch:60/200 AVG Training Loss:0.704 AVG Validation Loss:0.727 AVG Training Acc 52.21 % AVG Validation Acc 44.04 %\n",
      "Epoch:70/200 AVG Training Loss:0.688 AVG Validation Loss:0.705 AVG Training Acc 53.33 % AVG Validation Acc 46.57 %\n",
      "Epoch:80/200 AVG Training Loss:0.687 AVG Validation Loss:0.704 AVG Training Acc 53.59 % AVG Validation Acc 47.65 %\n",
      "Epoch:90/200 AVG Training Loss:0.686 AVG Validation Loss:0.703 AVG Training Acc 53.90 % AVG Validation Acc 48.29 %\n",
      "Epoch    96: reducing learning rate of group 0 to 1.0000e-04.\n",
      "Epoch:100/200 AVG Training Loss:0.684 AVG Validation Loss:0.697 AVG Training Acc 55.22 % AVG Validation Acc 49.19 %\n",
      "Epoch:110/200 AVG Training Loss:0.682 AVG Validation Loss:0.689 AVG Training Acc 55.85 % AVG Validation Acc 50.36 %\n",
      "Epoch:120/200 AVG Training Loss:0.681 AVG Validation Loss:0.686 AVG Training Acc 55.59 % AVG Validation Acc 52.44 %\n",
      "Epoch:130/200 AVG Training Loss:0.682 AVG Validation Loss:0.685 AVG Training Acc 55.89 % AVG Validation Acc 52.26 %\n",
      "Epoch:140/200 AVG Training Loss:0.683 AVG Validation Loss:0.684 AVG Training Acc 55.54 % AVG Validation Acc 52.53 %\n",
      "Epoch:150/200 AVG Training Loss:0.681 AVG Validation Loss:0.685 AVG Training Acc 55.86 % AVG Validation Acc 52.17 %\n",
      "Epoch   151: reducing learning rate of group 0 to 1.0000e-05.\n",
      "Epoch:160/200 AVG Training Loss:0.682 AVG Validation Loss:0.685 AVG Training Acc 55.75 % AVG Validation Acc 52.35 %\n",
      "Epoch:170/200 AVG Training Loss:0.682 AVG Validation Loss:0.684 AVG Training Acc 55.71 % AVG Validation Acc 52.62 %\n",
      "Epoch:180/200 AVG Training Loss:0.683 AVG Validation Loss:0.684 AVG Training Acc 55.77 % AVG Validation Acc 52.71 %\n",
      "Epoch   182: reducing learning rate of group 0 to 1.0000e-06.\n",
      "Epoch:190/200 AVG Training Loss:0.683 AVG Validation Loss:0.684 AVG Training Acc 56.10 % AVG Validation Acc 52.53 %\n",
      "Epoch:200/200 AVG Training Loss:0.681 AVG Validation Loss:0.684 AVG Training Acc 55.65 % AVG Validation Acc 52.53 %\n",
      "Split 29\n"
     ]
    },
    {
     "data": {
      "application/vnd.jupyter.widget-view+json": {
       "model_id": "7f016418a5c34e2abb25927f62d76d31",
       "version_major": 2,
       "version_minor": 0
      },
      "text/plain": [
       "  0%|          | 0/200 [00:00<?, ?it/s]"
      ]
     },
     "metadata": {},
     "output_type": "display_data"
    },
    {
     "name": "stdout",
     "output_type": "stream",
     "text": [
      "Epoch:10/200 AVG Training Loss:0.640 AVG Validation Loss:3.559 AVG Training Acc 65.71 % AVG Validation Acc 38.09 %\n",
      "Epoch:20/200 AVG Training Loss:0.674 AVG Validation Loss:1.307 AVG Training Acc 60.80 % AVG Validation Acc 38.09 %\n",
      "Epoch:30/200 AVG Training Loss:0.676 AVG Validation Loss:2.989 AVG Training Acc 60.43 % AVG Validation Acc 38.09 %\n",
      "Epoch    38: reducing learning rate of group 0 to 1.0000e-03.\n",
      "Epoch:40/200 AVG Training Loss:0.752 AVG Validation Loss:0.781 AVG Training Acc 50.06 % AVG Validation Acc 37.91 %\n",
      "Epoch:50/200 AVG Training Loss:0.688 AVG Validation Loss:0.718 AVG Training Acc 53.39 % AVG Validation Acc 45.49 %\n",
      "Epoch:60/200 AVG Training Loss:0.688 AVG Validation Loss:0.717 AVG Training Acc 53.75 % AVG Validation Acc 45.76 %\n",
      "Epoch    69: reducing learning rate of group 0 to 1.0000e-04.\n",
      "Epoch:70/200 AVG Training Loss:0.687 AVG Validation Loss:0.711 AVG Training Acc 54.83 % AVG Validation Acc 45.31 %\n",
      "Epoch:80/200 AVG Training Loss:0.685 AVG Validation Loss:0.696 AVG Training Acc 55.64 % AVG Validation Acc 48.65 %\n",
      "Epoch:90/200 AVG Training Loss:0.683 AVG Validation Loss:0.692 AVG Training Acc 55.85 % AVG Validation Acc 49.91 %\n",
      "Epoch:100/200 AVG Training Loss:0.683 AVG Validation Loss:0.691 AVG Training Acc 55.55 % AVG Validation Acc 49.91 %\n",
      "Epoch:110/200 AVG Training Loss:0.683 AVG Validation Loss:0.690 AVG Training Acc 55.80 % AVG Validation Acc 50.18 %\n",
      "Epoch:120/200 AVG Training Loss:0.683 AVG Validation Loss:0.691 AVG Training Acc 56.11 % AVG Validation Acc 50.27 %\n",
      "Epoch   122: reducing learning rate of group 0 to 1.0000e-05.\n",
      "Epoch:130/200 AVG Training Loss:0.681 AVG Validation Loss:0.691 AVG Training Acc 56.15 % AVG Validation Acc 50.18 %\n",
      "Epoch:140/200 AVG Training Loss:0.682 AVG Validation Loss:0.690 AVG Training Acc 56.11 % AVG Validation Acc 50.18 %\n",
      "Epoch:150/200 AVG Training Loss:0.682 AVG Validation Loss:0.690 AVG Training Acc 55.86 % AVG Validation Acc 50.27 %\n",
      "Epoch:160/200 AVG Training Loss:0.682 AVG Validation Loss:0.690 AVG Training Acc 56.19 % AVG Validation Acc 50.18 %\n",
      "Epoch:170/200 AVG Training Loss:0.682 AVG Validation Loss:0.690 AVG Training Acc 56.11 % AVG Validation Acc 50.45 %\n",
      "Epoch:180/200 AVG Training Loss:0.681 AVG Validation Loss:0.690 AVG Training Acc 55.82 % AVG Validation Acc 50.27 %\n",
      "Epoch   182: reducing learning rate of group 0 to 1.0000e-06.\n",
      "Epoch:190/200 AVG Training Loss:0.681 AVG Validation Loss:0.690 AVG Training Acc 56.31 % AVG Validation Acc 50.36 %\n",
      "Epoch:200/200 AVG Training Loss:0.682 AVG Validation Loss:0.690 AVG Training Acc 55.72 % AVG Validation Acc 50.36 %\n",
      "Split 30\n"
     ]
    },
    {
     "data": {
      "application/vnd.jupyter.widget-view+json": {
       "model_id": "daf843c965ae4fd3a2f08bec968da9b1",
       "version_major": 2,
       "version_minor": 0
      },
      "text/plain": [
       "  0%|          | 0/200 [00:00<?, ?it/s]"
      ]
     },
     "metadata": {},
     "output_type": "display_data"
    },
    {
     "name": "stdout",
     "output_type": "stream",
     "text": [
      "Epoch:10/200 AVG Training Loss:0.648 AVG Validation Loss:4.494 AVG Training Acc 65.37 % AVG Validation Acc 38.09 %\n",
      "Epoch:20/200 AVG Training Loss:0.656 AVG Validation Loss:3.179 AVG Training Acc 65.83 % AVG Validation Acc 38.09 %\n",
      "Epoch:30/200 AVG Training Loss:0.662 AVG Validation Loss:1.650 AVG Training Acc 62.78 % AVG Validation Acc 38.09 %\n",
      "Epoch:40/200 AVG Training Loss:0.647 AVG Validation Loss:6.769 AVG Training Acc 63.41 % AVG Validation Acc 38.27 %\n",
      "Epoch:50/200 AVG Training Loss:0.669 AVG Validation Loss:1.293 AVG Training Acc 60.84 % AVG Validation Acc 38.09 %\n",
      "Epoch:60/200 AVG Training Loss:0.670 AVG Validation Loss:1.279 AVG Training Acc 60.96 % AVG Validation Acc 38.00 %\n",
      "Epoch    66: reducing learning rate of group 0 to 1.0000e-03.\n",
      "Epoch:70/200 AVG Training Loss:0.690 AVG Validation Loss:0.744 AVG Training Acc 53.43 % AVG Validation Acc 42.96 %\n",
      "Epoch:80/200 AVG Training Loss:0.681 AVG Validation Loss:0.734 AVG Training Acc 53.89 % AVG Validation Acc 44.13 %\n",
      "Epoch:90/200 AVG Training Loss:0.679 AVG Validation Loss:0.741 AVG Training Acc 54.79 % AVG Validation Acc 44.31 %\n",
      "Epoch    97: reducing learning rate of group 0 to 1.0000e-04.\n",
      "Epoch:100/200 AVG Training Loss:0.676 AVG Validation Loss:0.740 AVG Training Acc 55.07 % AVG Validation Acc 45.22 %\n",
      "Epoch:110/200 AVG Training Loss:0.673 AVG Validation Loss:0.736 AVG Training Acc 55.67 % AVG Validation Acc 48.56 %\n",
      "Epoch:120/200 AVG Training Loss:0.673 AVG Validation Loss:0.735 AVG Training Acc 55.22 % AVG Validation Acc 49.55 %\n",
      "Epoch   128: reducing learning rate of group 0 to 1.0000e-05.\n",
      "Epoch:130/200 AVG Training Loss:0.674 AVG Validation Loss:0.735 AVG Training Acc 55.16 % AVG Validation Acc 50.45 %\n",
      "Epoch:140/200 AVG Training Loss:0.673 AVG Validation Loss:0.735 AVG Training Acc 55.27 % AVG Validation Acc 50.72 %\n",
      "Epoch:150/200 AVG Training Loss:0.673 AVG Validation Loss:0.734 AVG Training Acc 54.89 % AVG Validation Acc 50.27 %\n",
      "Epoch   159: reducing learning rate of group 0 to 1.0000e-06.\n",
      "Epoch:160/200 AVG Training Loss:0.673 AVG Validation Loss:0.734 AVG Training Acc 55.55 % AVG Validation Acc 50.36 %\n",
      "Epoch:170/200 AVG Training Loss:0.673 AVG Validation Loss:0.734 AVG Training Acc 55.39 % AVG Validation Acc 50.27 %\n",
      "Epoch:180/200 AVG Training Loss:0.674 AVG Validation Loss:0.734 AVG Training Acc 54.99 % AVG Validation Acc 50.45 %\n",
      "Epoch:190/200 AVG Training Loss:0.673 AVG Validation Loss:0.734 AVG Training Acc 55.21 % AVG Validation Acc 50.36 %\n",
      "Epoch   190: reducing learning rate of group 0 to 1.0000e-07.\n",
      "Epoch:200/200 AVG Training Loss:0.674 AVG Validation Loss:0.734 AVG Training Acc 55.48 % AVG Validation Acc 50.27 %\n",
      "Split 31\n"
     ]
    },
    {
     "data": {
      "application/vnd.jupyter.widget-view+json": {
       "model_id": "2b1f8ce6013a454fa8dcd4e1d1036019",
       "version_major": 2,
       "version_minor": 0
      },
      "text/plain": [
       "  0%|          | 0/200 [00:00<?, ?it/s]"
      ]
     },
     "metadata": {},
     "output_type": "display_data"
    },
    {
     "name": "stdout",
     "output_type": "stream",
     "text": [
      "Epoch:10/200 AVG Training Loss:0.661 AVG Validation Loss:3.758 AVG Training Acc 65.30 % AVG Validation Acc 38.05 %\n",
      "Epoch:20/200 AVG Training Loss:0.666 AVG Validation Loss:1.600 AVG Training Acc 62.12 % AVG Validation Acc 38.05 %\n",
      "Epoch:30/200 AVG Training Loss:0.674 AVG Validation Loss:1.284 AVG Training Acc 60.72 % AVG Validation Acc 38.05 %\n",
      "Epoch:40/200 AVG Training Loss:0.669 AVG Validation Loss:1.282 AVG Training Acc 60.54 % AVG Validation Acc 38.05 %\n",
      "Epoch:50/200 AVG Training Loss:0.666 AVG Validation Loss:1.249 AVG Training Acc 60.45 % AVG Validation Acc 38.05 %\n",
      "Epoch:60/200 AVG Training Loss:0.666 AVG Validation Loss:1.212 AVG Training Acc 60.55 % AVG Validation Acc 38.05 %\n",
      "Epoch:70/200 AVG Training Loss:0.668 AVG Validation Loss:1.227 AVG Training Acc 60.33 % AVG Validation Acc 38.14 %\n"
     ]
    }
   ],
   "source": [
    "for i in tqdm(list(course_programs.keys())[3:]):\n",
    "    \n",
    "    print(i)\n",
    "    threshold_dict = {} #dict to store information in for each threshold\n",
    "    data = deepcopy(course_programs[i])\n",
    "    \n",
    "    data.set_index(['course', 'userid'], drop = True, inplace = True)\n",
    "    data.fillna(0, inplace = True)\n",
    "    \n",
    "    #set X and Y columns\n",
    "    X = data[data.columns[:25]] #different timesteps\n",
    "    y = data[data.columns[-4:]] #the 4 different putative targets\n",
    "    \n",
    "    for k in tqdm(targets):\n",
    "        print(k)\n",
    "        \n",
    "        #Start with train test split\n",
    "        X_train_val, X_test, y_train_val, y_test, = train_test_split(\n",
    "                                    X,\n",
    "                                   y[k], #replace when going for multi-target \n",
    "                                   test_size = 0.20,\n",
    "                                   random_state = 15,\n",
    "                                   shuffle=True,\n",
    "                                   stratify = y[k] #replace when going for multi-target\n",
    "                                    )\n",
    "        \n",
    "        #create dict to store fold performance\n",
    "        foldperf={}\n",
    "        \n",
    "        #reset \"best accuracy for treshold i and target k\"\n",
    "        best_accuracy = 0\n",
    "\n",
    "        #make train_val split\n",
    "        for fold, (train_idx,val_idx) in tqdm(enumerate(splits.split(X_train_val, y_train_val))):\n",
    "\n",
    "            print('Split {}'.format(fold + 1))\n",
    "            \n",
    "            #make split between train and Val\n",
    "            X_train, y_train = X_train_val.iloc[train_idx], y_train_val.iloc[train_idx]\n",
    "            X_val, y_val = X_train_val.iloc[val_idx], y_train_val.iloc[val_idx]\n",
    "            \n",
    "            #apply SMOTE to training split\n",
    "            over = SMOTE()\n",
    "            X_train, y_train = over.fit_resample(X_train, y_train)\n",
    "            \n",
    "            #apply scaling after \n",
    "            X_train, X_val = normalize(X_train, X_val, 'Standard')\n",
    "            \n",
    "            #second, convert everything to pytorch tensor - we will convert to tensor dataset and \n",
    "            X_train_tensors = Variable(torch.Tensor(X_train.values))\n",
    "            X_val_tensors = Variable(torch.Tensor(X_val.values))\n",
    "\n",
    "            y_train_tensors = Variable(torch.Tensor(y_train.values))\n",
    "            y_val_tensors = Variable(torch.Tensor(y_val.values)) \n",
    "\n",
    "            #reshaping to rows, timestamps, features \n",
    "            X_train_tensors = torch.reshape(X_train_tensors,   (X_train_tensors.shape[0], X_train_tensors.shape[1], 1))\n",
    "            X_val_tensors = torch.reshape(X_val_tensors,  (X_val_tensors.shape[0], X_val_tensors.shape[1], 1))\n",
    "        \n",
    "            #convert y tensors to format longtensor\n",
    "            y_train_tensors = y_train_tensors.type(torch.cuda.LongTensor)\n",
    "            y_val_tensors = y_val_tensors.type(torch.cuda.LongTensor)\n",
    "            \n",
    "            #create Tensor Datasets and dataloaders for both Train and Val\n",
    "            train_dataset = TensorDataset(X_train_tensors, y_train_tensors)\n",
    "            val_dataset = TensorDataset(X_val_tensors, y_val_tensors)\n",
    "            train_loader = DataLoader(train_dataset, batch_size=batch_size)\n",
    "            val_loader = DataLoader(val_dataset, batch_size=batch_size)\n",
    "    \n",
    "            #creates new model for each \n",
    "            model = LSTM_Uni(num_classes, input_size, hidden_size, num_layers, X_train_tensors.shape[1]).to('cuda') #our lstm class\n",
    "            optimizer = torch.optim.Adam(model.parameters(), lr=learning_rate) \n",
    "            scheduler = ReduceLROnPlateau(optimizer, \n",
    "                                  'min', \n",
    "                                  patience = 10,\n",
    "                                  cooldown = 20,\n",
    "                                 verbose = True)\n",
    "    \n",
    "            history = {'train_loss': [], 'val_loss': [],'train_acc':[],'val_acc':[], 'precision': [],\n",
    "                      'recall' : [], 'auroc': []}\n",
    "\n",
    "            for epoch in tqdm(range(num_epochs)):\n",
    "                train_loss, train_correct=train_epoch(model,train_loader,criterion,optimizer)\n",
    "                val_loss, val_correct, precision, recall, auroc = valid_epoch(model,val_loader,criterion)\n",
    "\n",
    "                train_loss = train_loss / len(train_loader.sampler)\n",
    "                train_acc = train_correct / len(train_loader.sampler) * 100\n",
    "                val_loss = val_loss / len(val_loader.sampler)\n",
    "                val_acc = val_correct / len(val_loader.sampler) * 100\n",
    "        \n",
    "        \n",
    "                if (epoch+1) % 10 == 0: \n",
    "                    print(\"Epoch:{}/{} AVG Training Loss:{:.3f} AVG Validation Loss:{:.3f} AVG Training Acc {:.2f} % AVG Validation Acc {:.2f} %\".format(epoch + 1,\n",
    "                                                                                                             num_epochs,\n",
    "                                                                                                             train_loss,\n",
    "                                                                                                             val_loss,\n",
    "                                                                                                             train_acc,\n",
    "                                                                                                             val_acc))\n",
    "                history['train_loss'].append(train_loss)\n",
    "                history['val_loss'].append(val_loss)\n",
    "                history['train_acc'].append(train_acc)\n",
    "                history['val_acc'].append(val_acc)\n",
    "                history['precision'].append(precision)\n",
    "                history['recall'].append(recall)\n",
    "                history['auroc'].append(auroc)\n",
    "                scheduler.step(val_loss)\n",
    "    \n",
    "                if val_acc > best_accuracy:\n",
    "            \n",
    "                #replace best accuracy and save best model\n",
    "                    print(f'New Best Accuracy found: {val_acc:.2f}%\\nEpoch: {epoch + 1}')\n",
    "                    best_accuracy = val_acc\n",
    "                    best = deepcopy(model)\n",
    "                    curr_epoch = epoch + 1\n",
    "                    \n",
    "            #store fold performance\n",
    "            foldperf['fold{}'.format(fold+1)] = history\n",
    "        \n",
    "        #saves fold performance for target \n",
    "        threshold_dict[k] = pd.DataFrame.from_dict(foldperf, orient='index') # convert dict to dataframe\n",
    "        \n",
    "        #explode to get eacxh epoch as a row\n",
    "        threshold_dict[k] = threshold_dict[k].explode(list(threshold_dict[k].columns))\n",
    "        torch.save(best,f\"../Models/{i}/R_Gonz_best_{k}_{curr_epoch}_epochs_SMOTE_relative_clicks.h\")\n",
    "        \n",
    "    # from pandas.io.parsers import ExcelWriter\n",
    "    with pd.ExcelWriter(f\"../Data/Modeling Stage/Results/R_Gonz/Clicks per % duration/25_splits_{i}_{replicas}_replicas_SMOTE_relative_clicks.xlsx\") as writer:  \n",
    "        for sheet in targets:\n",
    "                threshold_dict[sheet].to_excel(writer, sheet_name=str(sheet))"
   ]
  }
 ],
 "metadata": {
  "kernelspec": {
   "display_name": "Python 3 (ipykernel)",
   "language": "python",
   "name": "python3"
  },
  "language_info": {
   "codemirror_mode": {
    "name": "ipython",
    "version": 3
   },
   "file_extension": ".py",
   "mimetype": "text/x-python",
   "name": "python",
   "nbconvert_exporter": "python",
   "pygments_lexer": "ipython3",
   "version": "3.8.11"
  }
 },
 "nbformat": 4,
 "nbformat_minor": 5
}
